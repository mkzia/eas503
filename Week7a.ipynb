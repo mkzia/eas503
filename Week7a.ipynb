{
 "cells": [
  {
   "cell_type": "code",
   "execution_count": 4,
   "id": "62adf688-cf92-4647-b940-a7b8aecbb3e8",
   "metadata": {},
   "outputs": [
    {
     "data": {
      "text/plain": [
       "134.4"
      ]
     },
     "execution_count": 4,
     "metadata": {},
     "output_type": "execute_result"
    }
   ],
   "source": [
    "my_list = [\n",
    "    {'value': '134.4', 'username': 'mkzia'},\n",
    "    {'value': '25.3'}, \n",
    "    {'value': '73.4'}\n",
    "]\n",
    "\n",
    "def my_custom_sort_function(ele):\n",
    "    return float(ele.get('value'))\n",
    "\n",
    "my_custom_sort_function(my_list[0])"
   ]
  },
  {
   "cell_type": "code",
   "execution_count": 5,
   "id": "99ed2534-5a21-498f-846c-2cdb693be6e8",
   "metadata": {},
   "outputs": [
    {
     "data": {
      "text/plain": [
       "[{'value': '25.3'}, {'value': '73.4'}, {'value': '134.4'}]"
      ]
     },
     "execution_count": 5,
     "metadata": {},
     "output_type": "execute_result"
    }
   ],
   "source": [
    "sorted(my_list, key=my_custom_sort_function) # [134.4, 25.3, 73.4]"
   ]
  },
  {
   "cell_type": "code",
   "execution_count": 7,
   "id": "19027c9e-0730-431d-8523-ee090d35d625",
   "metadata": {},
   "outputs": [
    {
     "data": {
      "text/plain": [
       "[{'value': '25.3'}, {'value': '73.4'}, {'value': '134.4'}]"
      ]
     },
     "execution_count": 7,
     "metadata": {},
     "output_type": "execute_result"
    }
   ],
   "source": [
    "sorted(my_list, key=lambda ele: float(ele.get('value'))) # [134.4, 25.3, 73.4]"
   ]
  },
  {
   "cell_type": "code",
   "execution_count": 9,
   "id": "8f0e341b-8d33-4776-bb88-a8700e3ac0be",
   "metadata": {},
   "outputs": [
    {
     "data": {
      "text/plain": [
       "[{'value': '134.4'}, {'value': '73.4'}]"
      ]
     },
     "execution_count": 9,
     "metadata": {},
     "output_type": "execute_result"
    }
   ],
   "source": [
    "# filter(func, sequence)\n",
    "list(filter(lambda ele: float(ele.get('value')) >= 70, my_list))"
   ]
  },
  {
   "cell_type": "code",
   "execution_count": 10,
   "id": "08072fde-645e-4f1d-886e-601d44ce4bd4",
   "metadata": {},
   "outputs": [
    {
     "data": {
      "text/plain": [
       "['134.4: PASS', '25.3: FAIL', '73.4: PASS']"
      ]
     },
     "execution_count": 10,
     "metadata": {},
     "output_type": "execute_result"
    }
   ],
   "source": [
    "# map(func, sequence)\n",
    "list(map(lambda ele: f\"{ele.get('value')}: PASS\" if float(ele.get('value')) > 70 else f\"{ele.get('value')}: FAIL\" , my_list))"
   ]
  },
  {
   "cell_type": "code",
   "execution_count": 14,
   "id": "e2869267-fcf8-4fbb-bec6-af3dadc9b3c1",
   "metadata": {},
   "outputs": [
    {
     "data": {
      "text/plain": [
       "['134.4: PASS', '25.3: FAIL', '73.4: PASS']"
      ]
     },
     "execution_count": 14,
     "metadata": {},
     "output_type": "execute_result"
    }
   ],
   "source": [
    "# map(func, sequence)\n",
    "my_list = [\n",
    "    {'value': '134.4', 'username': 'mkzia'},\n",
    "    {'value': '25.3'}, \n",
    "    {'value': '73.4'}\n",
    "]\n",
    "\n",
    "def mapper(ele):\n",
    "    value = float(ele.get('value'))\n",
    "    if value > 70:\n",
    "        return f\"{value}: PASS\" \n",
    "    else:\n",
    "        return f\"{value}: FAIL\" \n",
    "list(map(mapper, my_list))"
   ]
  },
  {
   "cell_type": "code",
   "execution_count": 16,
   "id": "39882a74-7f9c-4f78-aef0-bb65b33fdd95",
   "metadata": {},
   "outputs": [
    {
     "data": {
      "text/plain": [
       "{'value': '25.3'}"
      ]
     },
     "execution_count": 16,
     "metadata": {},
     "output_type": "execute_result"
    }
   ],
   "source": [
    "min(my_list, key=lambda ele: float(ele.get('value')))"
   ]
  },
  {
   "cell_type": "code",
   "execution_count": 17,
   "id": "665daaae-27f3-4bd6-996f-abbcb0caf17e",
   "metadata": {},
   "outputs": [
    {
     "data": {
      "text/plain": [
       "{'value': '134.4', 'username': 'mkzia'}"
      ]
     },
     "execution_count": 17,
     "metadata": {},
     "output_type": "execute_result"
    }
   ],
   "source": [
    "max(my_list, key=lambda ele: float(ele.get('value')))"
   ]
  },
  {
   "cell_type": "code",
   "execution_count": 26,
   "id": "3b757303-a09b-4fad-82a7-66621e63ecf2",
   "metadata": {},
   "outputs": [
    {
     "name": "stdout",
     "output_type": "stream",
     "text": [
      "Armstrong\tMariah\trhodesnicholas@hotmail.com\tAlbania\tOHOV7518558201999\n",
      "Keith\tSabrina\txmurphy@yahoo.com\tAlgeria\tQHIW7412514205367\n",
      "Ramsey\tAngela\tcparks@valdez-hudson.com\tAndorra\tQYBW6359021109484\n",
      "Wallace\tDebbie\tterri95@hotmail.com\tAntigua and Barbuda\tJRBN0811785293731\n",
      "Francis\tTodd\tamanda23@hotmail.com\tArgentina\tXPTQ7837014557677\n",
      "Harris\tMegan\tndelacruz@yahoo.com\tArmenia\tEOPA8088866975598\n",
      "Wheeler\tZachary\tstephen63@yahoo.com\tArmenia\tOMQX4840913072589\n",
      "Fletcher\tAustin\tcarolharrington@fleming.org\tAzerbaijan\tGJZT6825738428111\n",
      "Bennett\tBrianna\tcindy08@gmail.com\tBahamas\tUNPV3347450330173\n",
      "Thomas\tTimothy\tbryanmartin@gmail.com\tBahrain\tOCFV4659464275270\n",
      "Anderson\tRaymond\tdprince@hotmail.com\tBarbados\tIGXK5881682171566\n",
      "Jones\tTimothy\tjenniferadkins@griffin.biz\tBenin\tJCUN9597199552039\n",
      "Jenkins\tCaleb\tdouglas63@yahoo.com\tBotswana\tIILE1765776198023\n",
      "Turner\tBeth\tsydneycollins@hunter.com\tBurundi\tOMOK4767172062189\n",
      "Thompson\tJennifer\tmoralesmartin@rodgers.com\tCape Verde\tMGFG2793756668287\n",
      "Flores\tZachary\tzcalhoun@gmail.com\tCentral African Republic\tACQR2846533122117\n",
      "Krueger\tKenneth\tjennajoseph@yahoo.com\tCentral African Republic\tBIGY3006735396533\n",
      "Anderson\tMary\tsuebrown@yahoo.com\tChile\tDHMT4208071148508\n",
      "Owen\tKristina\tmegan24@stewart.net\tCocos (Keeling) Islands\tWRXW4627191899235\n",
      "Calderon\tChristopher\tteresa30@carpenter-warner.com\tCosta Rica\tNERZ5502558659614\n",
      "Johnson\tBrianna\tmartinezdaniel@hotmail.com\tCosta Rica\tQOVO4275314052899\n",
      "Nguyen\tRobert\tjessica62@yahoo.com\tCroatia\tJQHS4274771257925\n",
      "Lawson\tTracy\tpiercejenna@gmail.com\tCzech Republic\tATOT8581137487723\n",
      "Castaneda\tThomas\tkpena@yahoo.com\tEgypt\tLSDI9463735752680\n",
      "Edwards\tDarius\tnchurch@yahoo.com\tEritrea\tCURJ9953745256871\n",
      "Carter\tLee\tkfletcher@yahoo.com\tFaroe Islands\tDPLN5056382218296\n",
      "Burch\tTracie\tevansmiguel@yahoo.com\tFiji\tIZYL3351829981461\n",
      "Reyes\tGerald\tbrownclarence@gonzalez-moore.com\tFiji\tJCDK1943355298609\n",
      "Grant\tMelissa\tschaefernatalie@hotmail.com\tFrench Guiana\tCFQJ4204773901237\n",
      "Moore\tHeather\tmark00@hotmail.com\tFrench Polynesia\tOSSM9070924947595\n",
      "Carpenter\tJonathan\tfklein@yahoo.com\tGermany\tPKFW4841194501766\n",
      "Hubbard\tPaul\tubradley@yahoo.com\tGermany\tFGBC0366153271398\n",
      "Werner\tBrandon\tjustinfischer@gmail.com\tGuadeloupe\tUKRT1119626365017\n",
      "Peters\tJeremy\tjohnlewis@hotmail.com\tGuam\tNZFX8257739892619\n",
      "Mcknight\tAnn\tkristinavelasquez@gmail.com\tGuatemala\tDTRB4720098955341\n",
      "Edwards\tValerie\twoodardlindsey@yahoo.com\tGuinea\tZJUF2687631787282\n",
      "Nash\tLinda\trobertdavis@hotmail.com\tHeard Island and McDonald Islands\tZKTE5908966955533\n",
      "Schmidt\tDiana\twatersryan@gmail.com\tHoly See (Vatican City State)\tUKCP6739617302102\n",
      "Smith\tJoseph\tmichael74@yahoo.com\tHong Kong\tMNXY3262955868027\n",
      "Chung\tJason\tkenneththompson@baxter.com\tIceland\tJDIH2349154465371\n",
      "Abbott\tBrandon\tjennifer87@gmail.com\tJamaica\tRSLD0426398604312\n",
      "Nelson\tGreg\tmmiller@lynch.com\tJordan\tPCNE8127696280157\n",
      "Levy\tDaniel\tbeancody@jones.com\tKazakhstan\tAHBN3151680654826\n",
      "Owens\tJackson\tiedwards@yahoo.com\tKazakhstan\tFVQZ0955529767455\n",
      "Nguyen\tRobin\tvhanson@yahoo.com\tKenya\tSVMU4403517448078\n",
      "Stone\tMark\tnmoore@hotmail.com\tKuwait\tMWRB2515761996641\n",
      "Boyle\tAnthony\tsmithashlee@yahoo.com\tKyrgyz Republic\tMCQU7347833033110\n",
      "Salazar\tMary\tmary64@ray.org\tLatvia\tKCNI2464381879411\n",
      "Griffith\tLatoya\tryan32@skinner.com\tLesotho\tBNYD8693045932496\n",
      "Edwards\tHaley\tmartinkimberly@lopez.com\tMacedonia\tOGPU6537909247863\n",
      "Melton\tSamantha\tbcurtis@hotmail.com\tMacedonia\tVRZP1447516193511\n",
      "Todd\tJonathan\tjulie68@gmail.com\tMalaysia\tISYY1401931979959\n",
      "Cooper\tChristina\tddavidson@hotmail.com\tMaldives\tRQGA0882784089265\n",
      "Shaw\tStephen\tjackduke@hotmail.com\tMarshall Islands\tTRLQ6559557081716\n",
      "Weiss\tShane\tleekatherine@williams.com\tMartinique\tDLDV5789894914403\n",
      "Gilmore\tPatrick\tarogers@smith.com\tMauritius\tQFIM0905182880347\n",
      "Nelson\tJeffrey\thsherman@gmail.com\tMayotte\tECGK2823955143629\n",
      "Ray\tAngela\tswhite@yahoo.com\tMayotte\tUBRR8524342666714\n",
      "Woodward\tKayla\tdanielle65@yahoo.com\tMexico\tVDWY7565964041116\n",
      "Potts\tSavannah\tkristentaylor@yahoo.com\tMicronesia\tARWK1547324119222\n",
      "Gonzales\tBetty\tmartinezrichard@yahoo.com\tMontserrat\tUTSI0776569247505\n",
      "Oneill\tBruce\tmorenolindsay@bass.org\tMontserrat\tUYHI6964741005832\n",
      "Wilson\tElizabeth\tchristiandanielle@yahoo.com\tMontserrat\tSAAA4141150617330\n",
      "Blair\tKim\ttmurphy@flores.biz\tNepal\tFQJA6381776349463\n",
      "Weaver\tMichael\txdunn@hotmail.com\tNepal\tQVJP6465242365388\n",
      "Perez\tJeffrey\tplewis@chavez.com\tNew Zealand\tYWOT0997131632248\n",
      "Cameron\tKathleen\tmelanie81@rogers.com\tNiger\tHHHP3471562002758\n",
      "Huff\tSean\tbyoung@gmail.com\tNorfolk Island\tWDAT4146843903498\n",
      "Hardy\tTeresa\tkdavidson@gordon.com\tNorway\tXNWQ1072087896797\n",
      "Allen\tErica\tmichaelhall@hotmail.com\tPalau\tZAZD8310339637467\n",
      "White\tJoshua\tsteven49@gmail.com\tPalau\tBCEN3299883381338\n",
      "Castillo\tAshley\tcory33@king-shaw.net\tParaguay\tQXGZ3111246190069\n",
      "Burke\tPhillip\twatsonsamuel@gmail.com\tPeru\tCNJX1222752295544\n",
      "Figueroa\tJudy\tystewart@yahoo.com\tPortugal\tEEVV8325881104553\n",
      "Smith\tLori\tcatherine23@gmail.com\tRomania\tMKWY4848668895426\n",
      "Lewis\tPatrick\tlopezcarl@johnson.com\tSaint Helena\tJOQE2648899771737\n",
      "Hill\tLisa\thsmith@baker.com\tSaint Martin\tVUPW6891906300822\n",
      "Thompson\tRuth\tdenise01@burns.org\tSaint Vincent and the Grenadines\tYYHM5758234683389\n",
      "Wilkinson\tWesley\tclineerin@hotmail.com\tSaint Vincent and the Grenadines\tUWLV6407825245995\n",
      "Smith\tTiffany\tcolleengarrison@hotmail.com\tSan Marino\tGPFA8271551275648\n",
      "Hansen\tMichael\tphillipssean@hotmail.com\tSerbia\tQKAF2254397516681\n",
      "Watkins\tJason\tapril99@gmail.com\tSeychelles\tNXKK2792812848629\n",
      "Stewart\tDavid\tbennettwanda@vega-guerra.net\tSierra Leone\tFTHM1005169617995\n",
      "Bennett\tStephanie\tsjackson@yahoo.com\tSingapore\tDNRB2101855092009\n",
      "Conley\tCrystal\tchasewatkins@perez-phillips.com\tSingapore\tGZZF6936998445532\n",
      "Johnson\tMiguel\taaronrichard@middleton.net\tSlovakia (Slovak Republic)\tQAAO4666689281736\n",
      "Barron\tDustin\tjesse93@best.com\tSomalia\tLRPR8694143910883\n",
      "Juarez\tErica\txvelasquez@hughes.com\tSpain\tZROP5229895490397\n",
      "Wilson\tKrystal\tdawnjohnson@gmail.com\tSwaziland\tMUVI3570791852556\n",
      "Aguirre\tMichael\trobertbowen@chavez-ortega.com\tTimor-Leste\tKRKF7344951038740\n",
      "Garcia\tMargaret\tantonio52@gmail.com\tTogo\tIYOD4325345823013\n",
      "Russell\tRobyn\tbfletcher@yahoo.com\tTogo\tZNUY4071301663622\n",
      "Huang\tRandy\txchurch@hotmail.com\tTokelau\tKAOL9792684486009\n",
      "Sullivan\tSharon\tgonzalezrobert@hotmail.com\tTurkey\tYHXF7256577475630\n",
      "Cuevas\tPatrick\tubriggs@hill.info\tTurkmenistan\tPPHE5533473251751\n",
      "Robinson\tMichael\tjohnperez@johnson.com\tTurkmenistan\tUWFU1921951273393\n",
      "Clark\tCharles\tjessica11@hotmail.com\tUkraine\tAHYX6128839695452\n",
      "Jones\tJason\tanthony75@yahoo.com\tWestern Sahara\tMHTE8867005510944\n",
      "Thomas\tJames\tfred92@yahoo.com\tYemen\tQAAE9838291982555\n",
      "Garcia\tStacey\tlukebradford@hotmail.com\tZimbabwe\tHNOA0376843856035\n",
      "last_name\tfirst_name\temail\tcountry\taccount\n"
     ]
    }
   ],
   "source": [
    "\n",
    "for ele in sorted(map(str.strip, open(\"people.tsv\").readlines()), key=lambda line: (line.split('\\t')[3], line.split('\\t')[0])):\n",
    "    print(ele)"
   ]
  },
  {
   "cell_type": "code",
   "execution_count": 23,
   "id": "86968435-9e15-44cc-a9fc-5d87814748a1",
   "metadata": {},
   "outputs": [
    {
     "data": {
      "text/plain": [
       "['Hansen',\n",
       " 'Michael',\n",
       " 'phillipssean@hotmail.com',\n",
       " 'Serbia',\n",
       " 'QKAF2254397516681']"
      ]
     },
     "execution_count": 23,
     "metadata": {},
     "output_type": "execute_result"
    }
   ],
   "source": [
    "ele.split('\\t')"
   ]
  },
  {
   "cell_type": "code",
   "execution_count": 27,
   "id": "95e86b26-d93e-43d4-8c49-030ac03bcde2",
   "metadata": {},
   "outputs": [
    {
     "ename": "SyntaxError",
     "evalue": "invalid syntax (1277840458.py, line 1)",
     "output_type": "error",
     "traceback": [
      "  \u001b[36mCell\u001b[39m\u001b[36m \u001b[39m\u001b[32mIn[27]\u001b[39m\u001b[32m, line 1\u001b[39m\n\u001b[31m    \u001b[39m\u001b[31mdef func(()):\u001b[39m\n             ^\n\u001b[31mSyntaxError\u001b[39m\u001b[31m:\u001b[39m invalid syntax\n"
     ]
    }
   ],
   "source": [
    "def func(()):\n",
    "   pass"
   ]
  },
  {
   "cell_type": "code",
   "execution_count": 28,
   "id": "8b5c9777-f6b9-470a-921e-552f9c5c7b10",
   "metadata": {},
   "outputs": [
    {
     "ename": "SyntaxError",
     "evalue": "expected ':' (2246135109.py, line 1)",
     "output_type": "error",
     "traceback": [
      "  \u001b[36mCell\u001b[39m\u001b[36m \u001b[39m\u001b[32mIn[28]\u001b[39m\u001b[32m, line 1\u001b[39m\n\u001b[31m    \u001b[39m\u001b[31mfor index in some_list\u001b[39m\n                          ^\n\u001b[31mSyntaxError\u001b[39m\u001b[31m:\u001b[39m expected ':'\n"
     ]
    }
   ],
   "source": [
    "for index in some_list\n",
    "    print(index)"
   ]
  },
  {
   "cell_type": "code",
   "execution_count": 30,
   "id": "744fe8c6-9646-4b21-9312-705841e44c39",
   "metadata": {},
   "outputs": [
    {
     "ename": "NameError",
     "evalue": "name 'variable' is not defined",
     "output_type": "error",
     "traceback": [
      "\u001b[31m---------------------------------------------------------------------------\u001b[39m",
      "\u001b[31mNameError\u001b[39m                                 Traceback (most recent call last)",
      "\u001b[36mCell\u001b[39m\u001b[36m \u001b[39m\u001b[32mIn[30]\u001b[39m\u001b[32m, line 4\u001b[39m\n\u001b[32m      1\u001b[39m \u001b[38;5;28;01mdef\u001b[39;00m\u001b[38;5;250m \u001b[39m\u001b[34mfunc\u001b[39m():\n\u001b[32m      2\u001b[39m    \u001b[38;5;28mprint\u001b[39m(variable)\n\u001b[32m----> \u001b[39m\u001b[32m4\u001b[39m \u001b[43mfunc\u001b[49m\u001b[43m(\u001b[49m\u001b[43m)\u001b[49m\n",
      "\u001b[36mCell\u001b[39m\u001b[36m \u001b[39m\u001b[32mIn[30]\u001b[39m\u001b[32m, line 2\u001b[39m, in \u001b[36mfunc\u001b[39m\u001b[34m()\u001b[39m\n\u001b[32m      1\u001b[39m \u001b[38;5;28;01mdef\u001b[39;00m\u001b[38;5;250m \u001b[39m\u001b[34mfunc\u001b[39m():\n\u001b[32m----> \u001b[39m\u001b[32m2\u001b[39m    \u001b[38;5;28mprint\u001b[39m(\u001b[43mvariable\u001b[49m)\n",
      "\u001b[31mNameError\u001b[39m: name 'variable' is not defined"
     ]
    }
   ],
   "source": [
    "def func():\n",
    "   print(variable)\n",
    "\n",
    "func()"
   ]
  },
  {
   "cell_type": "code",
   "execution_count": 31,
   "id": "45df674e-3ec5-4fe8-be11-05e87a234a31",
   "metadata": {},
   "outputs": [
    {
     "ename": "TypeError",
     "evalue": "can only concatenate str (not \"int\") to str",
     "output_type": "error",
     "traceback": [
      "\u001b[31m---------------------------------------------------------------------------\u001b[39m",
      "\u001b[31mTypeError\u001b[39m                                 Traceback (most recent call last)",
      "\u001b[36mCell\u001b[39m\u001b[36m \u001b[39m\u001b[32mIn[31]\u001b[39m\u001b[32m, line 1\u001b[39m\n\u001b[32m----> \u001b[39m\u001b[32m1\u001b[39m \u001b[33;43m'\u001b[39;49m\u001b[33;43m3\u001b[39;49m\u001b[33;43m'\u001b[39;49m\u001b[43m \u001b[49m\u001b[43m+\u001b[49m\u001b[43m \u001b[49m\u001b[32;43m3\u001b[39;49m\n",
      "\u001b[31mTypeError\u001b[39m: can only concatenate str (not \"int\") to str"
     ]
    }
   ],
   "source": [
    "'3' + 3"
   ]
  },
  {
   "cell_type": "code",
   "execution_count": 32,
   "id": "71aefc25-f1bd-4163-af7b-629a77d32f9b",
   "metadata": {},
   "outputs": [
    {
     "ename": "IndexError",
     "evalue": "list index out of range",
     "output_type": "error",
     "traceback": [
      "\u001b[31m---------------------------------------------------------------------------\u001b[39m",
      "\u001b[31mIndexError\u001b[39m                                Traceback (most recent call last)",
      "\u001b[36mCell\u001b[39m\u001b[36m \u001b[39m\u001b[32mIn[32]\u001b[39m\u001b[32m, line 2\u001b[39m\n\u001b[32m      1\u001b[39m my_list = [\u001b[32m1\u001b[39m, \u001b[32m2\u001b[39m, \u001b[32m3\u001b[39m]\n\u001b[32m----> \u001b[39m\u001b[32m2\u001b[39m \u001b[43mmy_list\u001b[49m\u001b[43m[\u001b[49m\u001b[32;43m4\u001b[39;49m\u001b[43m]\u001b[49m\n",
      "\u001b[31mIndexError\u001b[39m: list index out of range"
     ]
    }
   ],
   "source": [
    "my_list = [1, 2, 3]\n",
    "my_list[4]"
   ]
  },
  {
   "cell_type": "code",
   "execution_count": 33,
   "id": "47d22a2e-c77e-4c20-8e9e-73db4b246451",
   "metadata": {},
   "outputs": [
    {
     "data": {
      "text/plain": [
       "[1, 2, 3]"
      ]
     },
     "execution_count": 33,
     "metadata": {},
     "output_type": "execute_result"
    }
   ],
   "source": [
    "my_list = [1, 2, 3]\n",
    "my_list[:44] # quiz"
   ]
  },
  {
   "cell_type": "code",
   "execution_count": 34,
   "id": "8738e80e-928f-45c6-a027-931e8d52cbeb",
   "metadata": {},
   "outputs": [
    {
     "ename": "ValueError",
     "evalue": "invalid literal for int() with base 10: '3a'",
     "output_type": "error",
     "traceback": [
      "\u001b[31m---------------------------------------------------------------------------\u001b[39m",
      "\u001b[31mValueError\u001b[39m                                Traceback (most recent call last)",
      "\u001b[36mCell\u001b[39m\u001b[36m \u001b[39m\u001b[32mIn[34]\u001b[39m\u001b[32m, line 2\u001b[39m\n\u001b[32m      1\u001b[39m \u001b[38;5;28mint\u001b[39m(\u001b[33m'\u001b[39m\u001b[33m3\u001b[39m\u001b[33m'\u001b[39m)\n\u001b[32m----> \u001b[39m\u001b[32m2\u001b[39m \u001b[38;5;28;43mint\u001b[39;49m\u001b[43m(\u001b[49m\u001b[33;43m'\u001b[39;49m\u001b[33;43m3a\u001b[39;49m\u001b[33;43m'\u001b[39;49m\u001b[43m)\u001b[49m\n",
      "\u001b[31mValueError\u001b[39m: invalid literal for int() with base 10: '3a'"
     ]
    }
   ],
   "source": [
    "int('3')\n",
    "int('3a')"
   ]
  },
  {
   "cell_type": "code",
   "execution_count": 35,
   "id": "5682c50f-46a2-476d-a475-5e271bc7d76f",
   "metadata": {},
   "outputs": [
    {
     "ename": "KeyError",
     "evalue": "'class'",
     "output_type": "error",
     "traceback": [
      "\u001b[31m---------------------------------------------------------------------------\u001b[39m",
      "\u001b[31mKeyError\u001b[39m                                  Traceback (most recent call last)",
      "\u001b[36mCell\u001b[39m\u001b[36m \u001b[39m\u001b[32mIn[35]\u001b[39m\u001b[32m, line 2\u001b[39m\n\u001b[32m      1\u001b[39m student = {\u001b[33m'\u001b[39m\u001b[33musername\u001b[39m\u001b[33m'\u001b[39m: \u001b[33m'\u001b[39m\u001b[33mjohn\u001b[39m\u001b[33m'\u001b[39m, \u001b[33m'\u001b[39m\u001b[33mgrade\u001b[39m\u001b[33m'\u001b[39m: \u001b[32m50\u001b[39m}\n\u001b[32m----> \u001b[39m\u001b[32m2\u001b[39m \u001b[43mstudent\u001b[49m\u001b[43m[\u001b[49m\u001b[33;43m'\u001b[39;49m\u001b[33;43mclass\u001b[39;49m\u001b[33;43m'\u001b[39;49m\u001b[43m]\u001b[49m\n",
      "\u001b[31mKeyError\u001b[39m: 'class'"
     ]
    }
   ],
   "source": [
    "student = {'username': 'john', 'grade': 50}\n",
    "student['class']"
   ]
  },
  {
   "cell_type": "code",
   "execution_count": 36,
   "id": "3aa7664d-6a63-4c68-9971-3b8eef61e1d1",
   "metadata": {},
   "outputs": [
    {
     "ename": "AttributeError",
     "evalue": "'list' object has no attribute 'upper'",
     "output_type": "error",
     "traceback": [
      "\u001b[31m---------------------------------------------------------------------------\u001b[39m",
      "\u001b[31mAttributeError\u001b[39m                            Traceback (most recent call last)",
      "\u001b[36mCell\u001b[39m\u001b[36m \u001b[39m\u001b[32mIn[36]\u001b[39m\u001b[32m, line 2\u001b[39m\n\u001b[32m      1\u001b[39m x = [\u001b[32m1\u001b[39m,\u001b[32m2\u001b[39m,\u001b[32m3\u001b[39m]\n\u001b[32m----> \u001b[39m\u001b[32m2\u001b[39m \u001b[43mx\u001b[49m\u001b[43m.\u001b[49m\u001b[43mupper\u001b[49m()\n",
      "\u001b[31mAttributeError\u001b[39m: 'list' object has no attribute 'upper'"
     ]
    }
   ],
   "source": [
    "x = [1,2,3]\n",
    "x.upper()"
   ]
  },
  {
   "cell_type": "code",
   "execution_count": 37,
   "id": "5e6fd324-6af0-4d18-b595-0d9a949e0cda",
   "metadata": {},
   "outputs": [
    {
     "ename": "ValueError",
     "evalue": "a message",
     "output_type": "error",
     "traceback": [
      "\u001b[31m---------------------------------------------------------------------------\u001b[39m",
      "\u001b[31mValueError\u001b[39m                                Traceback (most recent call last)",
      "\u001b[36mCell\u001b[39m\u001b[36m \u001b[39m\u001b[32mIn[37]\u001b[39m\u001b[32m, line 1\u001b[39m\n\u001b[32m----> \u001b[39m\u001b[32m1\u001b[39m \u001b[38;5;28;01mraise\u001b[39;00m \u001b[38;5;167;01mValueError\u001b[39;00m(\u001b[33m'\u001b[39m\u001b[33ma message\u001b[39m\u001b[33m'\u001b[39m)\n",
      "\u001b[31mValueError\u001b[39m: a message"
     ]
    }
   ],
   "source": [
    "raise ValueError('a message')\n"
   ]
  },
  {
   "cell_type": "code",
   "execution_count": 38,
   "id": "39cb0051-dcda-4a4a-912c-abc413fb8fa3",
   "metadata": {},
   "outputs": [
    {
     "ename": "ValueError",
     "evalue": "",
     "output_type": "error",
     "traceback": [
      "\u001b[31m---------------------------------------------------------------------------\u001b[39m",
      "\u001b[31mValueError\u001b[39m                                Traceback (most recent call last)",
      "\u001b[36mCell\u001b[39m\u001b[36m \u001b[39m\u001b[32mIn[38]\u001b[39m\u001b[32m, line 1\u001b[39m\n\u001b[32m----> \u001b[39m\u001b[32m1\u001b[39m \u001b[38;5;28;01mraise\u001b[39;00m \u001b[38;5;167;01mValueError\u001b[39;00m\n",
      "\u001b[31mValueError\u001b[39m: "
     ]
    }
   ],
   "source": [
    "\n",
    "raise ValueError"
   ]
  },
  {
   "cell_type": "code",
   "execution_count": null,
   "id": "927bacc3-52fb-4c7d-a205-593ee235c356",
   "metadata": {},
   "outputs": [],
   "source": [
    "def calculate_bmi(height, weight):\n",
    "\n",
    "    if type(height) not in [float, int]:\n",
    "        raise TypeError('Height has to be float or an int')\n",
    "\n",
    "    if type(weight) not in [float, int]:\n",
    "        raise TypeError('Weight has to be float or an int')\n",
    "\n",
    "\n",
    "    if height <= 0:\n",
    "        raise ValueError('Height cannot be less than or equal to 0')\n",
    "\n",
    "    if weight <= 0:\n",
    "        raise ValueError('Weight cannot be less than or equal to 0')\n",
    "\n",
    "    return 703 * weight / height**2\n"
   ]
  },
  {
   "cell_type": "code",
   "execution_count": 39,
   "id": "7c2101de-6b56-4b64-9b46-5a46661cd4ea",
   "metadata": {},
   "outputs": [
    {
     "ename": "ValueError",
     "evalue": "Height cannot be less than or equal to 0",
     "output_type": "error",
     "traceback": [
      "\u001b[31m---------------------------------------------------------------------------\u001b[39m",
      "\u001b[31mValueError\u001b[39m                                Traceback (most recent call last)",
      "\u001b[36mCell\u001b[39m\u001b[36m \u001b[39m\u001b[32mIn[39]\u001b[39m\u001b[32m, line 24\u001b[39m\n\u001b[32m     19\u001b[39m         \u001b[38;5;28;01mraise\u001b[39;00m \u001b[38;5;167;01mValueError\u001b[39;00m(\u001b[33m'\u001b[39m\u001b[33mWeight cannot be less than or equal to 0\u001b[39m\u001b[33m'\u001b[39m)\n\u001b[32m     21\u001b[39m     \u001b[38;5;28;01mreturn\u001b[39;00m \u001b[32m703\u001b[39m * weight / height**\u001b[32m2\u001b[39m\n\u001b[32m---> \u001b[39m\u001b[32m24\u001b[39m \u001b[43mcalculate_bmi\u001b[49m\u001b[43m(\u001b[49m\u001b[43m-\u001b[49m\u001b[32;43m1\u001b[39;49m\u001b[43m,\u001b[49m\u001b[43m \u001b[49m\u001b[32;43m20\u001b[39;49m\u001b[43m)\u001b[49m\n",
      "\u001b[36mCell\u001b[39m\u001b[36m \u001b[39m\u001b[32mIn[39]\u001b[39m\u001b[32m, line 16\u001b[39m, in \u001b[36mcalculate_bmi\u001b[39m\u001b[34m(height, weight)\u001b[39m\n\u001b[32m     12\u001b[39m     \u001b[38;5;28;01mraise\u001b[39;00m \u001b[38;5;167;01mTypeError\u001b[39;00m(\u001b[33m'\u001b[39m\u001b[33mWeight has to be float or an int\u001b[39m\u001b[33m'\u001b[39m)\n\u001b[32m     15\u001b[39m \u001b[38;5;28;01mif\u001b[39;00m height <= \u001b[32m0\u001b[39m:\n\u001b[32m---> \u001b[39m\u001b[32m16\u001b[39m     \u001b[38;5;28;01mraise\u001b[39;00m \u001b[38;5;167;01mValueError\u001b[39;00m(\u001b[33m'\u001b[39m\u001b[33mHeight cannot be less than or equal to 0\u001b[39m\u001b[33m'\u001b[39m)\n\u001b[32m     18\u001b[39m \u001b[38;5;28;01mif\u001b[39;00m weight <= \u001b[32m0\u001b[39m:\n\u001b[32m     19\u001b[39m     \u001b[38;5;28;01mraise\u001b[39;00m \u001b[38;5;167;01mValueError\u001b[39;00m(\u001b[33m'\u001b[39m\u001b[33mWeight cannot be less than or equal to 0\u001b[39m\u001b[33m'\u001b[39m)\n",
      "\u001b[31mValueError\u001b[39m: Height cannot be less than or equal to 0"
     ]
    }
   ],
   "source": [
    "def calculate_bmi(height, weight):\n",
    "    VALID_DATA_TYPES = {float, int} # \n",
    "    # list = [] # slow O(N)\n",
    "    # tuple = () # slow O(N)\n",
    "    # dict = {key:value} # very fast O(1)\n",
    "    # sets = {} # very fast # {key: True} O(1)\n",
    "\n",
    "    if type(height) not in VALID_DATA_TYPES:\n",
    "        raise TypeError('Height has to be float or an int')\n",
    "\n",
    "    if type(weight) not in VALID_DATA_TYPES:\n",
    "        raise TypeError('Weight has to be float or an int')\n",
    "\n",
    "\n",
    "    if height <= 0:\n",
    "        raise ValueError('Height cannot be less than or equal to 0')\n",
    "\n",
    "    if weight <= 0:\n",
    "        raise ValueError('Weight cannot be less than or equal to 0')\n",
    "\n",
    "    return 703 * weight / height**2\n",
    "\n",
    "\n",
    "calculate_bmi(-1, 20)"
   ]
  },
  {
   "cell_type": "code",
   "execution_count": 45,
   "id": "d07f6490-90e7-4f87-a2ba-b28908af54bf",
   "metadata": {},
   "outputs": [
    {
     "name": "stdin",
     "output_type": "stream",
     "text": [
      "Please enter height:  3.14.14\n"
     ]
    },
    {
     "name": "stdout",
     "output_type": "stream",
     "text": [
      "could not convert string to float: '3.14.14'\n",
      "Please enter a number\n",
      "I always run!\n"
     ]
    },
    {
     "name": "stdin",
     "output_type": "stream",
     "text": [
      "Please enter height:  3.14\n",
      "Please enter weight:  3.14\n"
     ]
    },
    {
     "name": "stdout",
     "output_type": "stream",
     "text": [
      "I run when there is no error\n",
      "I always run!\n",
      "223.88535031847132\n"
     ]
    }
   ],
   "source": [
    "while True:\n",
    "    try:\n",
    "        height = float(input('Please enter height: '))\n",
    "        weight = float(input('Please enter weight: '))\n",
    "    except ValueError as error:\n",
    "        print(error)\n",
    "        print('Please enter a number')\n",
    "    else:\n",
    "        print('I run when there is no error')\n",
    "        break\n",
    "    finally:\n",
    "        print('I always run!')\n",
    "\n",
    "print(calculate_bmi(height, weight))"
   ]
  },
  {
   "cell_type": "code",
   "execution_count": 41,
   "id": "2f244c0c-dcc9-4824-b89c-51373667ff4d",
   "metadata": {},
   "outputs": [
    {
     "ename": "ValueError",
     "evalue": "could not convert string to float: '3.14.14'",
     "output_type": "error",
     "traceback": [
      "\u001b[31m---------------------------------------------------------------------------\u001b[39m",
      "\u001b[31mValueError\u001b[39m                                Traceback (most recent call last)",
      "\u001b[36mCell\u001b[39m\u001b[36m \u001b[39m\u001b[32mIn[41]\u001b[39m\u001b[32m, line 1\u001b[39m\n\u001b[32m----> \u001b[39m\u001b[32m1\u001b[39m \u001b[38;5;28;43mfloat\u001b[39;49m\u001b[43m(\u001b[49m\u001b[33;43m'\u001b[39;49m\u001b[33;43m3.14.14\u001b[39;49m\u001b[33;43m'\u001b[39;49m\u001b[43m)\u001b[49m\n",
      "\u001b[31mValueError\u001b[39m: could not convert string to float: '3.14.14'"
     ]
    }
   ],
   "source": [
    "float('3.14.14')"
   ]
  },
  {
   "cell_type": "code",
   "execution_count": 47,
   "id": "4f55e3b9-755b-475b-8a9c-06b31db0192e",
   "metadata": {},
   "outputs": [
    {
     "name": "stdout",
     "output_type": "stream",
     "text": [
      "Error\n",
      "None\n",
      "john\n"
     ]
    }
   ],
   "source": [
    "student = {'username': 'john', 'grade': 50}\n",
    "\n",
    "def get_key(some_dict, key, default_value=None):\n",
    "    try:\n",
    "        return some_dict[key]\n",
    "    except KeyError:\n",
    "        return default_value\n",
    "\n",
    "\n",
    "print(get_key(student, 'username1', default_value='Error'))\n",
    "print(get_key(student, 'username1'))\n",
    "print(get_key(student, 'username'))"
   ]
  },
  {
   "cell_type": "code",
   "execution_count": null,
   "id": "359a1802-8334-4092-afa4-facfdb9e6f60",
   "metadata": {},
   "outputs": [],
   "source": [
    "filename = 'abcd.txt'\n",
    "try: \n",
    "    file = open(filename) \n",
    "except FileNotFoundError: \n",
    "    print('File not found') \n",
    "except OSError: \n",
    "    print('OS error') \n",
    "except Exception:\n",
    "    print('most general error')\n"
   ]
  },
  {
   "cell_type": "code",
   "execution_count": 48,
   "id": "a2d855a1-c24f-476a-be14-3d84f9e370ba",
   "metadata": {},
   "outputs": [
    {
     "data": {
      "text/plain": [
       "[[1, 2, 3, 4], [5, 6, 7, 8], [9, 10, 11, 12]]"
      ]
     },
     "execution_count": 48,
     "metadata": {},
     "output_type": "execute_result"
    }
   ],
   "source": [
    "# create table \n",
    "# combine header + data. And then for each column, find the maximum width and use that to position everything. \n",
    "\n",
    "\n",
    "header = [1, 2, 3, 4]\n",
    "\n",
    "data = [\n",
    "    [5, 6, 7, 8],\n",
    "    [9, 10, 11, 12]\n",
    "]\n",
    "\n",
    "[header] + data\n",
    "\n",
    "max_width_by_col = [13, 4, 4, 4]\n",
    "f\"{value: max_width_by_col[0]\""
   ]
  },
  {
   "cell_type": "code",
   "execution_count": 52,
   "id": "df01a035-e64e-4e92-938a-4b5a9442f0fe",
   "metadata": {},
   "outputs": [
    {
     "ename": "TypeError",
     "evalue": "func() missing 1 required positional argument: 'a'",
     "output_type": "error",
     "traceback": [
      "\u001b[31m---------------------------------------------------------------------------\u001b[39m",
      "\u001b[31mTypeError\u001b[39m                                 Traceback (most recent call last)",
      "\u001b[36mCell\u001b[39m\u001b[36m \u001b[39m\u001b[32mIn[52]\u001b[39m\u001b[32m, line 4\u001b[39m\n\u001b[32m      1\u001b[39m \u001b[38;5;28;01mdef\u001b[39;00m\u001b[38;5;250m \u001b[39m\u001b[34mfunc\u001b[39m(a):\n\u001b[32m      2\u001b[39m     \u001b[38;5;28mprint\u001b[39m(a)\n\u001b[32m----> \u001b[39m\u001b[32m4\u001b[39m \u001b[43mfunc\u001b[49m\u001b[43m(\u001b[49m\u001b[43m)\u001b[49m\n",
      "\u001b[31mTypeError\u001b[39m: func() missing 1 required positional argument: 'a'"
     ]
    }
   ],
   "source": [
    "def func(a):\n",
    "    print(a)\n",
    "\n",
    "func()"
   ]
  },
  {
   "cell_type": "code",
   "execution_count": 53,
   "id": "af5bf0a9-d25a-45d8-b182-5f18c331f401",
   "metadata": {},
   "outputs": [
    {
     "name": "stdout",
     "output_type": "stream",
     "text": [
      "1 2 0 0\n"
     ]
    }
   ],
   "source": [
    "def func(spam, eggs, toast=0, ham=0):   # first 2 required\n",
    "    print (spam, eggs, toast, ham)\n",
    "\n",
    "func(1, 2)                        "
   ]
  },
  {
   "cell_type": "code",
   "execution_count": 54,
   "id": "879b3787-f53d-45aa-a3f6-e160455e3231",
   "metadata": {},
   "outputs": [
    {
     "name": "stdout",
     "output_type": "stream",
     "text": [
      "1 0 0 1\n"
     ]
    }
   ],
   "source": [
    "func(1, ham=1, eggs=0) "
   ]
  },
  {
   "cell_type": "code",
   "execution_count": 55,
   "id": "1b445a45-bbee-4c14-bfa0-d187ebdcc56e",
   "metadata": {},
   "outputs": [
    {
     "name": "stdout",
     "output_type": "stream",
     "text": [
      "1 0 0 1\n"
     ]
    }
   ],
   "source": [
    "func(1, eggs=0, ham=1) "
   ]
  },
  {
   "cell_type": "code",
   "execution_count": 56,
   "id": "b2e51a1b-5cce-49e7-ba8e-7f261d002b9b",
   "metadata": {},
   "outputs": [
    {
     "ename": "TypeError",
     "evalue": "func() missing 1 required positional argument: 'eggs'",
     "output_type": "error",
     "traceback": [
      "\u001b[31m---------------------------------------------------------------------------\u001b[39m",
      "\u001b[31mTypeError\u001b[39m                                 Traceback (most recent call last)",
      "\u001b[36mCell\u001b[39m\u001b[36m \u001b[39m\u001b[32mIn[56]\u001b[39m\u001b[32m, line 1\u001b[39m\n\u001b[32m----> \u001b[39m\u001b[32m1\u001b[39m \u001b[43mfunc\u001b[49m\u001b[43m(\u001b[49m\u001b[32;43m1\u001b[39;49m\u001b[43m,\u001b[49m\u001b[43m \u001b[49m\u001b[43mham\u001b[49m\u001b[43m=\u001b[49m\u001b[32;43m1\u001b[39;49m\u001b[43m)\u001b[49m \n",
      "\u001b[31mTypeError\u001b[39m: func() missing 1 required positional argument: 'eggs'"
     ]
    }
   ],
   "source": [
    "func(1, ham=1) "
   ]
  },
  {
   "cell_type": "code",
   "execution_count": 57,
   "id": "0b045651-1498-4f59-bca3-a881f794597b",
   "metadata": {},
   "outputs": [
    {
     "name": "stdout",
     "output_type": "stream",
     "text": [
      "1 0 0 0\n"
     ]
    }
   ],
   "source": [
    "func(spam=1, eggs=0)   "
   ]
  },
  {
   "cell_type": "code",
   "execution_count": 58,
   "id": "2e13a70d-2580-4deb-8fc1-c949823f13fb",
   "metadata": {},
   "outputs": [
    {
     "name": "stdout",
     "output_type": "stream",
     "text": [
      "3 2 1 0\n"
     ]
    }
   ],
   "source": [
    "func(toast=1, eggs=2, spam=3)  "
   ]
  },
  {
   "cell_type": "code",
   "execution_count": 62,
   "id": "8c9515d6-87d6-4586-a82d-ca889ba05869",
   "metadata": {},
   "outputs": [
    {
     "data": {
      "text/plain": [
       "{'ham': 4, 'spam': 3, 'toast': 1, 'eggs': 2}"
      ]
     },
     "execution_count": 62,
     "metadata": {},
     "output_type": "execute_result"
    }
   ],
   "source": [
    "x = dict(ham=4, spam=3, toast=1, eggs=2)\n",
    "x"
   ]
  },
  {
   "cell_type": "code",
   "execution_count": 63,
   "id": "8a52b073-87e9-428f-a9ed-dd5d86448430",
   "metadata": {},
   "outputs": [
    {
     "name": "stdout",
     "output_type": "stream",
     "text": [
      "3 2 1 4\n"
     ]
    }
   ],
   "source": [
    "func(**x) # x is  dict {'eggs': 2, 'spam': 3, 'toast': 1, 'ham': 4}, eggs=2, spam=3, toast=1, ham=4"
   ]
  },
  {
   "cell_type": "code",
   "execution_count": 65,
   "id": "b75eef66-357e-46c2-b229-9d7c56f1dbf1",
   "metadata": {},
   "outputs": [
    {
     "name": "stdout",
     "output_type": "stream",
     "text": [
      "2 3 1 4\n"
     ]
    }
   ],
   "source": [
    "func(2,3,1,4)"
   ]
  },
  {
   "cell_type": "code",
   "execution_count": 66,
   "id": "73eee77a-ed59-4f46-824c-bb1842a21e21",
   "metadata": {},
   "outputs": [
    {
     "name": "stdout",
     "output_type": "stream",
     "text": [
      "3 2 0 0\n"
     ]
    }
   ],
   "source": [
    "x = dict(spam=3, eggs=2)\n",
    "func(**x)"
   ]
  },
  {
   "cell_type": "code",
   "execution_count": 67,
   "id": "c7268c85-901a-4d12-8635-8961b134539d",
   "metadata": {},
   "outputs": [
    {
     "ename": "TypeError",
     "evalue": "func() missing 1 required positional argument: 'eggs'",
     "output_type": "error",
     "traceback": [
      "\u001b[31m---------------------------------------------------------------------------\u001b[39m",
      "\u001b[31mTypeError\u001b[39m                                 Traceback (most recent call last)",
      "\u001b[36mCell\u001b[39m\u001b[36m \u001b[39m\u001b[32mIn[67]\u001b[39m\u001b[32m, line 2\u001b[39m\n\u001b[32m      1\u001b[39m x = \u001b[38;5;28mdict\u001b[39m(spam=\u001b[32m3\u001b[39m,)\n\u001b[32m----> \u001b[39m\u001b[32m2\u001b[39m \u001b[43mfunc\u001b[49m\u001b[43m(\u001b[49m\u001b[43m*\u001b[49m\u001b[43m*\u001b[49m\u001b[43mx\u001b[49m\u001b[43m)\u001b[49m\n",
      "\u001b[31mTypeError\u001b[39m: func() missing 1 required positional argument: 'eggs'"
     ]
    }
   ],
   "source": [
    "x = dict(spam=3,)\n",
    "func(**x)"
   ]
  },
  {
   "cell_type": "code",
   "execution_count": 69,
   "id": "25ff8cdf-460a-452c-b6d5-53b37bcf4ce8",
   "metadata": {},
   "outputs": [
    {
     "ename": "TypeError",
     "evalue": "func() takes from 2 to 4 positional arguments but 5 were given",
     "output_type": "error",
     "traceback": [
      "\u001b[31m---------------------------------------------------------------------------\u001b[39m",
      "\u001b[31mTypeError\u001b[39m                                 Traceback (most recent call last)",
      "\u001b[36mCell\u001b[39m\u001b[36m \u001b[39m\u001b[32mIn[69]\u001b[39m\u001b[32m, line 2\u001b[39m\n\u001b[32m      1\u001b[39m x = [\u001b[32m11\u001b[39m, \u001b[32m22\u001b[39m, \u001b[32m33\u001b[39m, \u001b[32m44\u001b[39m, \u001b[32m55\u001b[39m]\n\u001b[32m----> \u001b[39m\u001b[32m2\u001b[39m \u001b[43mfunc\u001b[49m\u001b[43m(\u001b[49m\u001b[43m*\u001b[49m\u001b[43mx\u001b[49m\u001b[43m)\u001b[49m\n",
      "\u001b[31mTypeError\u001b[39m: func() takes from 2 to 4 positional arguments but 5 were given"
     ]
    }
   ],
   "source": [
    "x = [11, 22, 33, 44, 55]\n",
    "func(*x)"
   ]
  },
  {
   "cell_type": "code",
   "execution_count": 70,
   "id": "43c91dca-aa95-400f-9295-9d9b78ef110b",
   "metadata": {},
   "outputs": [
    {
     "ename": "TypeError",
     "evalue": "func() got an unexpected keyword argument 'sausage'",
     "output_type": "error",
     "traceback": [
      "\u001b[31m---------------------------------------------------------------------------\u001b[39m",
      "\u001b[31mTypeError\u001b[39m                                 Traceback (most recent call last)",
      "\u001b[36mCell\u001b[39m\u001b[36m \u001b[39m\u001b[32mIn[70]\u001b[39m\u001b[32m, line 2\u001b[39m\n\u001b[32m      1\u001b[39m x = \u001b[38;5;28mdict\u001b[39m(ham=\u001b[32m4\u001b[39m, spam=\u001b[32m3\u001b[39m, toast=\u001b[32m1\u001b[39m, eggs=\u001b[32m2\u001b[39m, sausage=\u001b[32m55\u001b[39m)\n\u001b[32m----> \u001b[39m\u001b[32m2\u001b[39m \u001b[43mfunc\u001b[49m\u001b[43m(\u001b[49m\u001b[43m*\u001b[49m\u001b[43m*\u001b[49m\u001b[43mx\u001b[49m\u001b[43m)\u001b[49m\n",
      "\u001b[31mTypeError\u001b[39m: func() got an unexpected keyword argument 'sausage'"
     ]
    }
   ],
   "source": [
    "x = dict(ham=4, spam=3, toast=1, eggs=2, sausage=55)\n",
    "func(**x)"
   ]
  },
  {
   "cell_type": "code",
   "execution_count": 71,
   "id": "13c71a2c-bba4-4882-8ee2-73fd0f4a11e2",
   "metadata": {},
   "outputs": [
    {
     "data": {
      "text/plain": [
       "-22"
      ]
     },
     "execution_count": 71,
     "metadata": {},
     "output_type": "execute_result"
    }
   ],
   "source": [
    "min(1, 2, 3, 4, -1, -22)"
   ]
  },
  {
   "cell_type": "code",
   "execution_count": 72,
   "id": "e4cfa348-cb4a-468b-891c-7d86530cb633",
   "metadata": {},
   "outputs": [
    {
     "name": "stdout",
     "output_type": "stream",
     "text": [
      "1 (2, 3) {'x': 1, 'y': 2}\n"
     ]
    }
   ],
   "source": [
    "def f(a, *args, **kwargs): \n",
    "\tprint(a, args, kwargs)\n",
    "\n",
    "f(1, 2, 3, x=1, y=2)"
   ]
  },
  {
   "cell_type": "code",
   "execution_count": 74,
   "id": "c79ba0c2-3d7f-4fb2-be9a-47294bb5f180",
   "metadata": {},
   "outputs": [
    {
     "name": "stdout",
     "output_type": "stream",
     "text": [
      "0 [1, 2, 3, 4, 5, 6, 7, 8] 9\n"
     ]
    }
   ],
   "source": [
    "a, *b, c = range(10)\n",
    "print(a, b, c)"
   ]
  },
  {
   "cell_type": "code",
   "execution_count": 75,
   "id": "3d9435b5-cbae-4d38-9547-bbaac02fadf1",
   "metadata": {},
   "outputs": [
    {
     "name": "stdout",
     "output_type": "stream",
     "text": [
      "1 (2, 3, 4, 5, 6, 7, 8, 9, 10) {'x': 1, 'y': 2}\n"
     ]
    }
   ],
   "source": [
    "f(1, 2, 3, 4, 5, 6, 7, 8, 9, 10, x=1, y=2)"
   ]
  },
  {
   "cell_type": "code",
   "execution_count": 76,
   "id": "c0607b8b-e637-46c8-988a-ca0c27e210ca",
   "metadata": {},
   "outputs": [
    {
     "name": "stdout",
     "output_type": "stream",
     "text": [
      "2 (3, 4, 5, 6, 7, 8, 9, 10) {'x': 1, 'y': 2}\n"
     ]
    }
   ],
   "source": [
    "f(2, 3, 4, 5, 6, 7, 8, 9, 10, x=1, y=2)"
   ]
  },
  {
   "cell_type": "code",
   "execution_count": 77,
   "id": "6c0538d3-8d25-47d0-80df-94bcb72bd1a5",
   "metadata": {},
   "outputs": [
    {
     "name": "stdout",
     "output_type": "stream",
     "text": [
      "33 () {}\n"
     ]
    }
   ],
   "source": [
    "f(33)"
   ]
  },
  {
   "cell_type": "code",
   "execution_count": 78,
   "id": "5373e319-5572-4772-914d-8f4e673df6fc",
   "metadata": {},
   "outputs": [
    {
     "ename": "TypeError",
     "evalue": "f() missing 1 required positional argument: 'a'",
     "output_type": "error",
     "traceback": [
      "\u001b[31m---------------------------------------------------------------------------\u001b[39m",
      "\u001b[31mTypeError\u001b[39m                                 Traceback (most recent call last)",
      "\u001b[36mCell\u001b[39m\u001b[36m \u001b[39m\u001b[32mIn[78]\u001b[39m\u001b[32m, line 1\u001b[39m\n\u001b[32m----> \u001b[39m\u001b[32m1\u001b[39m \u001b[43mf\u001b[49m\u001b[43m(\u001b[49m\u001b[43m)\u001b[49m\n",
      "\u001b[31mTypeError\u001b[39m: f() missing 1 required positional argument: 'a'"
     ]
    }
   ],
   "source": [
    "f()"
   ]
  },
  {
   "cell_type": "code",
   "execution_count": 79,
   "id": "b7387540-a561-4f66-99b1-e7b15030fc85",
   "metadata": {},
   "outputs": [
    {
     "name": "stdout",
     "output_type": "stream",
     "text": [
      "() {}\n"
     ]
    }
   ],
   "source": [
    "def f(*args, **kwargs): \n",
    "\tprint(args, kwargs)\n",
    "\n",
    "f()"
   ]
  },
  {
   "cell_type": "code",
   "execution_count": 80,
   "id": "7946c604-4758-4340-84f2-8027f7db44f8",
   "metadata": {},
   "outputs": [],
   "source": [
    "def intersect(*args):\n",
    "    res = []\n",
    "    for x in args[0]:                  # scan first sequence\n",
    "        for other in args[1:]:         # for all other args\n",
    "            if x not in other: \n",
    "                break   # item in each one?\n",
    "        else:                          # no:  break out of loop\n",
    "            res.append(x)              # yes: add items to end\n",
    "    return res\n",
    "\n",
    "# args = (\"SSPAM\", \"SCAM\", \"SLAM\") ## \"SPAM\"\n",
    "\n",
    "\n",
    "# --- iteration #1\n",
    "# x = \"S\"\n",
    "# other = S not in \"SCAM\" False\n",
    "# update other = S not in \"SLAM\" False\n",
    "# res = [\"S\"]\n",
    "\n",
    "# --- iteration #2\n",
    "# x = \"P\"\n",
    "# other = P not in \"SCAM\"\n",
    "\n",
    "# --- iteration #3\n",
    "# x = \"A\"\n",
    "# other = A not in \"SCAM\" : false\n",
    "# other = A not in \"SLAM\" : false\n",
    "# res = [\"S\", \"A\"]\n",
    "\n",
    "\n",
    "# --- iteration #4\n",
    "# x = \"M\"\n",
    "# other = M not in \"SCAM\" : false\n",
    "# other = M not in \"SLAM\" : false\n",
    "# res = [\"S\", \"A\", \"M\"] via the else!!!\n",
    "\n"
   ]
  },
  {
   "cell_type": "code",
   "execution_count": 81,
   "id": "8184c048-7bef-4e1e-a86c-77e423c4d5eb",
   "metadata": {},
   "outputs": [
    {
     "data": {
      "text/plain": [
       "['S', 'A', 'M']"
      ]
     },
     "execution_count": 81,
     "metadata": {},
     "output_type": "execute_result"
    }
   ],
   "source": [
    "s1, s2, s3 = \"SPAM\", \"SCAM\", \"SLAM\"\n",
    "\n",
    "intersect(s1, s2, s3)"
   ]
  },
  {
   "cell_type": "code",
   "execution_count": 82,
   "id": "ae4e3a7a-ed37-409e-9783-a3968b0b71db",
   "metadata": {},
   "outputs": [
    {
     "data": {
      "text/plain": [
       "['S', 'P', 'A', 'M', 'C', 'L']"
      ]
     },
     "execution_count": 82,
     "metadata": {},
     "output_type": "execute_result"
    }
   ],
   "source": [
    "def union(*args):\n",
    "    res = []\n",
    "    for seq in args:                   # for all args\n",
    "        for x in seq:                  # for all nodes\n",
    "            if not x in res:\n",
    "                res.append(x)          # add new items to result\n",
    "    return res\n",
    "union(s1, s2, s3)"
   ]
  },
  {
   "cell_type": "code",
   "execution_count": 84,
   "id": "2c3e0c2c-1c3f-4b29-ba82-cbb06cb23248",
   "metadata": {},
   "outputs": [
    {
     "name": "stdout",
     "output_type": "stream",
     "text": [
      "inside x 2\n"
     ]
    },
    {
     "ename": "AttributeError",
     "evalue": "'tuple' object has no attribute 'append'",
     "output_type": "error",
     "traceback": [
      "\u001b[31m---------------------------------------------------------------------------\u001b[39m",
      "\u001b[31mAttributeError\u001b[39m                            Traceback (most recent call last)",
      "\u001b[36mCell\u001b[39m\u001b[36m \u001b[39m\u001b[32mIn[84]\u001b[39m\u001b[32m, line 10\u001b[39m\n\u001b[32m      8\u001b[39m     \u001b[38;5;28mprint\u001b[39m(\u001b[33m'\u001b[39m\u001b[33minside y\u001b[39m\u001b[33m'\u001b[39m, y)\n\u001b[32m      9\u001b[39m z = (\u001b[32m3\u001b[39m, \u001b[32m4\u001b[39m, \u001b[32m5\u001b[39m)\n\u001b[32m---> \u001b[39m\u001b[32m10\u001b[39m \u001b[43mfunc\u001b[49m\u001b[43m(\u001b[49m\u001b[43mx\u001b[49m\u001b[43m,\u001b[49m\u001b[43m \u001b[49m\u001b[43mz\u001b[49m\u001b[43m)\u001b[49m\n\u001b[32m     11\u001b[39m \u001b[38;5;66;03m# If you pass a mutable data type to a function, changes you make persist outside of the function!\u001b[39;00m\n\u001b[32m     12\u001b[39m \u001b[38;5;28mprint\u001b[39m(\u001b[33m'\u001b[39m\u001b[33moutside x\u001b[39m\u001b[33m'\u001b[39m, x)\n",
      "\u001b[36mCell\u001b[39m\u001b[36m \u001b[39m\u001b[32mIn[84]\u001b[39m\u001b[32m, line 7\u001b[39m, in \u001b[36mfunc\u001b[39m\u001b[34m(x, y)\u001b[39m\n\u001b[32m      5\u001b[39m x += \u001b[32m1\u001b[39m \u001b[38;5;66;03m# immutable\u001b[39;00m\n\u001b[32m      6\u001b[39m \u001b[38;5;28mprint\u001b[39m(\u001b[33m'\u001b[39m\u001b[33minside x\u001b[39m\u001b[33m'\u001b[39m, x)\n\u001b[32m----> \u001b[39m\u001b[32m7\u001b[39m \u001b[43my\u001b[49m\u001b[43m.\u001b[49m\u001b[43mappend\u001b[49m(\u001b[32m6\u001b[39m)  \u001b[38;5;66;03m# mutable\u001b[39;00m\n\u001b[32m      8\u001b[39m \u001b[38;5;28mprint\u001b[39m(\u001b[33m'\u001b[39m\u001b[33minside y\u001b[39m\u001b[33m'\u001b[39m, y)\n",
      "\u001b[31mAttributeError\u001b[39m: 'tuple' object has no attribute 'append'"
     ]
    }
   ],
   "source": [
    "x = 1\n",
    "y = [3, 4, 5]\n",
    "\n",
    "def func(x,y):\n",
    "    x += 1 # immutable\n",
    "    print('inside x', x)\n",
    "    y.append(6)  # mutable\n",
    "    print('inside y', y)\n",
    "z = (3, 4, 5)\n",
    "func(x, z)\n",
    "# If you pass a mutable data type to a function, changes you make persist outside of the function!\n",
    "print('outside x', x)\n",
    "print('outside y', y)"
   ]
  }
 ],
 "metadata": {
  "kernelspec": {
   "display_name": "Python 3 (ipykernel)",
   "language": "python",
   "name": "python3"
  },
  "language_info": {
   "codemirror_mode": {
    "name": "ipython",
    "version": 3
   },
   "file_extension": ".py",
   "mimetype": "text/x-python",
   "name": "python",
   "nbconvert_exporter": "python",
   "pygments_lexer": "ipython3",
   "version": "3.12.3"
  }
 },
 "nbformat": 4,
 "nbformat_minor": 5
}
