{
 "cells": [
  {
   "cell_type": "code",
   "execution_count": 1,
   "id": "ef16ecee-03f9-4925-9dc2-a6811ff9ecf3",
   "metadata": {},
   "outputs": [
    {
     "data": {
      "text/plain": [
       "False"
      ]
     },
     "execution_count": 1,
     "metadata": {},
     "output_type": "execute_result"
    }
   ],
   "source": [
    "'2021-11-12' < '2021-10-12' # 1 < 0 2011/11/12 --- 20111112"
   ]
  },
  {
   "cell_type": "code",
   "execution_count": 2,
   "id": "0ce316a1-8e12-4e70-8997-681c4627df9c",
   "metadata": {},
   "outputs": [
    {
     "data": {
      "text/plain": [
       "False"
      ]
     },
     "execution_count": 2,
     "metadata": {},
     "output_type": "execute_result"
    }
   ],
   "source": [
    "'10-28-2025' < '10-11-2026' ## wrong"
   ]
  },
  {
   "cell_type": "code",
   "execution_count": 6,
   "id": "646fe7d3-ea0f-4c63-8fa0-0efac1618cba",
   "metadata": {},
   "outputs": [
    {
     "data": {
      "text/plain": [
       "True"
      ]
     },
     "execution_count": 6,
     "metadata": {},
     "output_type": "execute_result"
    }
   ],
   "source": [
    "'09-10-2027' < '11-10-2023' # "
   ]
  },
  {
   "cell_type": "code",
   "execution_count": null,
   "id": "7381d437-3bd1-49d1-a67f-66665d4f6689",
   "metadata": {},
   "outputs": [],
   "source": []
  },
  {
   "cell_type": "code",
   "execution_count": null,
   "id": "8bc27698-db7c-420e-8e22-3426b861eca1",
   "metadata": {},
   "outputs": [],
   "source": [
    "YYYY-MM-DD HH:MM:SS"
   ]
  },
  {
   "cell_type": "code",
   "execution_count": 7,
   "id": "d11bfa6e-1a91-4e46-8fe0-4efac3690144",
   "metadata": {},
   "outputs": [
    {
     "data": {
      "text/plain": [
       "True"
      ]
     },
     "execution_count": 7,
     "metadata": {},
     "output_type": "execute_result"
    }
   ],
   "source": [
    "values = {'Asian', 'White'}\n",
    "\n",
    "'White' == values"
   ]
  },
  {
   "cell_type": "code",
   "execution_count": null,
   "id": "01bd643f-0e6a-46d2-af8f-d07e53f6771c",
   "metadata": {},
   "outputs": [],
   "source": [
    "SELECT *\n",
    "FROM PatientCorePopulatedTable\n",
    "WHERE PatientID IN (SELECT PatientID FROM PatientCorePopulatedTable WHERE PatientDateOfBirth > '1980-01-01')\n",
    "ORDER BY PatientDateOfBirth"
   ]
  },
  {
   "cell_type": "code",
   "execution_count": null,
   "id": "771dc381-607e-4ae3-be4a-1c2c9e6e4c3f",
   "metadata": {},
   "outputs": [],
   "source": [
    "# \n",
    "'M%'\n",
    "'%M'\n",
    "'%M%'"
   ]
  },
  {
   "cell_type": "code",
   "execution_count": 8,
   "id": "c2450ab1-838c-418a-9fb3-17b8c38ca61f",
   "metadata": {},
   "outputs": [
    {
     "data": {
      "text/plain": [
       "'100'"
      ]
     },
     "execution_count": 8,
     "metadata": {},
     "output_type": "execute_result"
    }
   ],
   "source": [
    "min('100', '99')"
   ]
  },
  {
   "cell_type": "code",
   "execution_count": null,
   "id": "c45fa126-2b78-4cec-90a3-ca089353e290",
   "metadata": {},
   "outputs": [],
   "source": [
    "{\n",
    "    \"patient1\": [\"lab1\", \"lab2\"],\n",
    "    \"patient2\": [\"lab1\", \"lab2\", \"lab3\"]\n",
    "}"
   ]
  },
  {
   "cell_type": "code",
   "execution_count": null,
   "id": "86eea2e9-0dd1-469f-9cd3-2c32e7790629",
   "metadata": {},
   "outputs": [],
   "source": [
    "iter()\n",
    "next()"
   ]
  },
  {
   "cell_type": "code",
   "execution_count": 14,
   "id": "53ecd7e1-e782-432f-8675-6d537c508a66",
   "metadata": {
    "scrolled": true
   },
   "outputs": [],
   "source": [
    "from collections import defaultdict\n",
    "filename = \"LabsCorePopulatedTable.csv\"\n",
    "\n",
    "grouped = defaultdict(list)\n",
    "with open(filename) as file:\n",
    "    header = next(file).strip().split(\"\\t\")\n",
    "    for line in file:\n",
    "        line = line.strip()\n",
    "\n",
    "        line = dict(zip(header, line.strip().split(\"\\t\")))\n",
    "        group_by_field = line.get(\"PatientID\")\n",
    "        grouped[group_by_field].append(line)\n",
    "\n",
    "        \n",
    "\n"
   ]
  },
  {
   "cell_type": "code",
   "execution_count": 27,
   "id": "91729bdb-2fa5-45f2-88af-e3b0b5b2c55b",
   "metadata": {},
   "outputs": [
    {
     "name": "stdout",
     "output_type": "stream",
     "text": [
      "('80D356B4-F974-441F-A5F2-F95986D119A2', 2760)\n",
      "('25B786AF-0F99-478C-9CFA-0EA607E45834', 2561)\n",
      "('36775002-9EC3-4889-AD4F-80DC6855C8D8', 2372)\n",
      "('A0A976C8-9B30-4492-B8C4-5B25095B9192', 2263)\n",
      "('7A025E77-7832-4F53-B9A7-09A3F98AC17E', 2259)\n",
      "('7A7332AD-88B1-4848-9356-E5260E477C59', 2257)\n",
      "('4C201C71-CCED-40D1-9642-F9C8C485B854', 2073)\n",
      "('D8B53AA2-7953-4477-9EA4-68400EBAAC5C', 2042)\n"
     ]
    }
   ],
   "source": [
    "id = \"80D356B4-F974-441F-A5F2-F95986D119A2\"\n",
    "count = {}\n",
    "for key, value in grouped.items():\n",
    "    tmp = len(value)\n",
    "    if tmp < 2000:\n",
    "        continue\n",
    "    count[key] = len(value)\n",
    "\n",
    "for ele in sorted(count.items(), key=lambda row: row[1], reverse=True):\n",
    "    print(ele)"
   ]
  },
  {
   "cell_type": "code",
   "execution_count": null,
   "id": "c249d111-b5f2-4a67-aa49-11bd360f972c",
   "metadata": {},
   "outputs": [],
   "source": []
  }
 ],
 "metadata": {
  "kernelspec": {
   "display_name": "Python 3 (ipykernel)",
   "language": "python",
   "name": "python3"
  },
  "language_info": {
   "codemirror_mode": {
    "name": "ipython",
    "version": 3
   },
   "file_extension": ".py",
   "mimetype": "text/x-python",
   "name": "python",
   "nbconvert_exporter": "python",
   "pygments_lexer": "ipython3",
   "version": "3.12.3"
  }
 },
 "nbformat": 4,
 "nbformat_minor": 5
}
