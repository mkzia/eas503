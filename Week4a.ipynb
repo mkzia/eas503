{
 "cells": [
  {
   "cell_type": "code",
   "execution_count": 3,
   "id": "3363cd44-f4c2-49b0-8183-db9f5d224b6e",
   "metadata": {},
   "outputs": [
    {
     "name": "stdout",
     "output_type": "stream",
     "text": [
      "FizzBuzz\n"
     ]
    }
   ],
   "source": [
    "number = 35\n",
    "\n",
    "if number % 5 == 0 and number % 7 == 0:\n",
    "    print(\"FizzBuzz\")\n",
    "elif number % 5 == 0:\n",
    "    print(\"Fizz\")\n",
    "elif number % 7 == 0:\n",
    "    print(\"Buzz\")\n",
    "\n"
   ]
  },
  {
   "cell_type": "code",
   "execution_count": null,
   "id": "9d7a31af-7046-4fe3-9c6c-5d77de53c07f",
   "metadata": {},
   "outputs": [],
   "source": [
    "x = 'a'"
   ]
  },
  {
   "cell_type": "code",
   "execution_count": null,
   "id": "643dfd97-b7d8-4d23-8f77-19c12343e17d",
   "metadata": {},
   "outputs": [],
   "source": [
    "# note to self\n",
    "# quiz -- empty sequence\n",
    "# quiz -- add str to quiz, but not notes\n",
    "# what does [0:13] do?"
   ]
  },
  {
   "cell_type": "code",
   "execution_count": null,
   "id": "40d0a4db-a41f-4938-a703-26d5388d6196",
   "metadata": {},
   "outputs": [],
   "source": [
    "grades = ['A', 'B', 'C', 'D', 'F']\n",
    "#           0    1    2    3    4"
   ]
  },
  {
   "cell_type": "code",
   "execution_count": 7,
   "id": "f79ff8d4-1e96-4d9c-9152-a3a15ca9a4bf",
   "metadata": {},
   "outputs": [],
   "source": [
    "days_in_months = [None, 31, 28, 31, 30, 31, 30, 31, 31, 30, 31, 30, 31]\n",
    "#                   0   1   2  3    4   5   6   7   8   9  10  11  12"
   ]
  },
  {
   "cell_type": "code",
   "execution_count": 10,
   "id": "0bf8f154-436d-4419-b687-55d0efb1bcc4",
   "metadata": {},
   "outputs": [
    {
     "data": {
      "text/plain": [
       "31"
      ]
     },
     "execution_count": 10,
     "metadata": {},
     "output_type": "execute_result"
    }
   ],
   "source": [
    "days_in_months[0]"
   ]
  },
  {
   "cell_type": "code",
   "execution_count": null,
   "id": "9ccea305-be5e-4238-b3ec-4f37d154e54a",
   "metadata": {},
   "outputs": [],
   "source": [
    "[]\n",
    "()\n",
    "[start_index, end_index)"
   ]
  },
  {
   "cell_type": "code",
   "execution_count": 18,
   "id": "851ea617-02be-46b1-854e-d5f301895f3c",
   "metadata": {},
   "outputs": [
    {
     "data": {
      "text/plain": [
       "['March', 'June', 'September']"
      ]
     },
     "execution_count": 18,
     "metadata": {},
     "output_type": "execute_result"
    }
   ],
   "source": [
    "months = [None, \"January\", \"February\", \"March\", \"April\", \"May\", \"June\", \"July\", \"August\", \"September\", \"October\", \"November\", \"December\"]\n",
    "months[3:12:3] # very carefull [start_index:end_index-1:step_size]\n"
   ]
  },
  {
   "cell_type": "code",
   "execution_count": 19,
   "id": "f29d30ce-0d22-4abf-9290-3ed6bd04d50c",
   "metadata": {},
   "outputs": [
    {
     "data": {
      "text/plain": [
       "['March',\n",
       " 'April',\n",
       " 'May',\n",
       " 'June',\n",
       " 'July',\n",
       " 'August',\n",
       " 'September',\n",
       " 'October',\n",
       " 'November',\n",
       " 'December']"
      ]
     },
     "execution_count": 19,
     "metadata": {},
     "output_type": "execute_result"
    }
   ],
   "source": [
    "months[3:]"
   ]
  },
  {
   "cell_type": "code",
   "execution_count": 20,
   "id": "fb22f69d-55df-47dd-bfbc-cf8d2c059021",
   "metadata": {},
   "outputs": [
    {
     "data": {
      "text/plain": [
       "[None,\n",
       " 'January',\n",
       " 'February',\n",
       " 'March',\n",
       " 'April',\n",
       " 'May',\n",
       " 'June',\n",
       " 'July',\n",
       " 'August',\n",
       " 'September']"
      ]
     },
     "execution_count": 20,
     "metadata": {},
     "output_type": "execute_result"
    }
   ],
   "source": [
    "months[:10]"
   ]
  },
  {
   "cell_type": "code",
   "execution_count": 21,
   "id": "25753133-8225-4787-b74f-027c85c29c38",
   "metadata": {},
   "outputs": [
    {
     "data": {
      "text/plain": [
       "['March', 'April', 'May', 'June', 'July', 'August', 'September']"
      ]
     },
     "execution_count": 21,
     "metadata": {},
     "output_type": "execute_result"
    }
   ],
   "source": [
    "months[3:10]"
   ]
  },
  {
   "cell_type": "code",
   "execution_count": 22,
   "id": "fcf30f39-f7d4-4658-a335-d605de3a966a",
   "metadata": {},
   "outputs": [
    {
     "data": {
      "text/plain": [
       "[None, 'February', 'April', 'June', 'August', 'October', 'December']"
      ]
     },
     "execution_count": 22,
     "metadata": {},
     "output_type": "execute_result"
    }
   ],
   "source": [
    "months[::2]"
   ]
  },
  {
   "cell_type": "code",
   "execution_count": 23,
   "id": "83ca8fbe-b769-4abf-a9c3-7f224f50128d",
   "metadata": {},
   "outputs": [
    {
     "data": {
      "text/plain": [
       "['January', 'March', 'May', 'July', 'September', 'November']"
      ]
     },
     "execution_count": 23,
     "metadata": {},
     "output_type": "execute_result"
    }
   ],
   "source": [
    "months[1::2]"
   ]
  },
  {
   "cell_type": "code",
   "execution_count": 24,
   "id": "5c6962ed-8d89-4b8f-ba75-9a419915cf2e",
   "metadata": {},
   "outputs": [
    {
     "data": {
      "text/plain": [
       "[None,\n",
       " 'January',\n",
       " 'February',\n",
       " 'March',\n",
       " 'April',\n",
       " 'May',\n",
       " 'June',\n",
       " 'July',\n",
       " 'August',\n",
       " 'September',\n",
       " 'October',\n",
       " 'November',\n",
       " 'December']"
      ]
     },
     "execution_count": 24,
     "metadata": {},
     "output_type": "execute_result"
    }
   ],
   "source": [
    "months[:200]"
   ]
  },
  {
   "cell_type": "code",
   "execution_count": 25,
   "id": "a466b316-627d-4376-b6bf-e68b896d18ad",
   "metadata": {},
   "outputs": [
    {
     "ename": "IndexError",
     "evalue": "list index out of range",
     "output_type": "error",
     "traceback": [
      "\u001b[31m---------------------------------------------------------------------------\u001b[39m",
      "\u001b[31mIndexError\u001b[39m                                Traceback (most recent call last)",
      "\u001b[36mCell\u001b[39m\u001b[36m \u001b[39m\u001b[32mIn[25]\u001b[39m\u001b[32m, line 1\u001b[39m\n\u001b[32m----> \u001b[39m\u001b[32m1\u001b[39m \u001b[43mmonths\u001b[49m\u001b[43m[\u001b[49m\u001b[32;43m200\u001b[39;49m\u001b[43m]\u001b[49m\n",
      "\u001b[31mIndexError\u001b[39m: list index out of range"
     ]
    }
   ],
   "source": [
    "months[200]"
   ]
  },
  {
   "cell_type": "code",
   "execution_count": 26,
   "id": "0aa85e85-6824-4fc3-86f7-a2dfff635517",
   "metadata": {},
   "outputs": [
    {
     "data": {
      "text/plain": [
       "[None,\n",
       " 'January',\n",
       " 'February',\n",
       " 'March',\n",
       " 'April',\n",
       " 'May',\n",
       " 'June',\n",
       " 'July',\n",
       " 'August',\n",
       " 'September',\n",
       " 'October',\n",
       " 'November',\n",
       " 'December']"
      ]
     },
     "execution_count": 26,
     "metadata": {},
     "output_type": "execute_result"
    }
   ],
   "source": [
    "months"
   ]
  },
  {
   "cell_type": "code",
   "execution_count": 28,
   "id": "b6a9ffb9-6a8e-4018-95ab-173618f652da",
   "metadata": {},
   "outputs": [
    {
     "ename": "IndexError",
     "evalue": "list index out of range",
     "output_type": "error",
     "traceback": [
      "\u001b[31m---------------------------------------------------------------------------\u001b[39m",
      "\u001b[31mIndexError\u001b[39m                                Traceback (most recent call last)",
      "\u001b[36mCell\u001b[39m\u001b[36m \u001b[39m\u001b[32mIn[28]\u001b[39m\u001b[32m, line 1\u001b[39m\n\u001b[32m----> \u001b[39m\u001b[32m1\u001b[39m \u001b[43mmonths\u001b[49m\u001b[43m[\u001b[49m\u001b[32;43m13\u001b[39;49m\u001b[43m]\u001b[49m\n",
      "\u001b[31mIndexError\u001b[39m: list index out of range"
     ]
    }
   ],
   "source": [
    "months[13]"
   ]
  },
  {
   "cell_type": "code",
   "execution_count": 29,
   "id": "3f64f73b-8d06-40f1-bba3-acb3d25c04ce",
   "metadata": {},
   "outputs": [
    {
     "data": {
      "text/plain": [
       "[None,\n",
       " 'January',\n",
       " 'February',\n",
       " 'March',\n",
       " 'April',\n",
       " 'May',\n",
       " 'June',\n",
       " 'July',\n",
       " 'August',\n",
       " 'September',\n",
       " 'October',\n",
       " 'November',\n",
       " 'December']"
      ]
     },
     "execution_count": 29,
     "metadata": {},
     "output_type": "execute_result"
    }
   ],
   "source": [
    "months[:13]"
   ]
  },
  {
   "cell_type": "code",
   "execution_count": 30,
   "id": "67c409de-7c95-4f55-981c-e9379056edf7",
   "metadata": {},
   "outputs": [
    {
     "data": {
      "text/plain": [
       "[None,\n",
       " 'January',\n",
       " 'February',\n",
       " 'March',\n",
       " 'April',\n",
       " 'May',\n",
       " 'June',\n",
       " 'July',\n",
       " 'August',\n",
       " 'September',\n",
       " 'October',\n",
       " 'November',\n",
       " 'December']"
      ]
     },
     "execution_count": 30,
     "metadata": {},
     "output_type": "execute_result"
    }
   ],
   "source": [
    "months[:130]"
   ]
  },
  {
   "cell_type": "code",
   "execution_count": 31,
   "id": "870ccfbf-880a-47ca-9409-2581e6ca5f43",
   "metadata": {},
   "outputs": [
    {
     "ename": "IndexError",
     "evalue": "list index out of range",
     "output_type": "error",
     "traceback": [
      "\u001b[31m---------------------------------------------------------------------------\u001b[39m",
      "\u001b[31mIndexError\u001b[39m                                Traceback (most recent call last)",
      "\u001b[36mCell\u001b[39m\u001b[36m \u001b[39m\u001b[32mIn[31]\u001b[39m\u001b[32m, line 1\u001b[39m\n\u001b[32m----> \u001b[39m\u001b[32m1\u001b[39m \u001b[43mmonths\u001b[49m\u001b[43m[\u001b[49m\u001b[32;43m130\u001b[39;49m\u001b[43m]\u001b[49m\n",
      "\u001b[31mIndexError\u001b[39m: list index out of range"
     ]
    }
   ],
   "source": [
    "months[130]"
   ]
  },
  {
   "cell_type": "code",
   "execution_count": null,
   "id": "42152834-17a9-4588-b7cf-616faddabd82",
   "metadata": {},
   "outputs": [],
   "source": [
    "months = [None, \"January\", \"February\", \"March\", \"April\", \"May\", \"June\", \"July\", \"August\", \"September\", \"October\", \"November\", \"December\"]\n",
    "           0       1          2           3         4      5       6      7       8          9            10        11         12 \n",
    "                                                                         -5           -4             -3             -2         -1"
   ]
  },
  {
   "cell_type": "code",
   "execution_count": 34,
   "id": "024b9b25-c5d8-4958-b003-ce30452f5b2b",
   "metadata": {},
   "outputs": [
    {
     "data": {
      "text/plain": [
       "'October'"
      ]
     },
     "execution_count": 34,
     "metadata": {},
     "output_type": "execute_result"
    }
   ],
   "source": [
    "months[-3]"
   ]
  },
  {
   "cell_type": "code",
   "execution_count": 45,
   "id": "c6e3d8ba-98db-41d0-9675-1f07a8898cd1",
   "metadata": {},
   "outputs": [
    {
     "data": {
      "text/plain": [
       "['December',\n",
       " 'November',\n",
       " 'October',\n",
       " 'September',\n",
       " 'August',\n",
       " 'July',\n",
       " 'June',\n",
       " 'May',\n",
       " 'April',\n",
       " 'March',\n",
       " 'February',\n",
       " 'January']"
      ]
     },
     "execution_count": 45,
     "metadata": {},
     "output_type": "execute_result"
    }
   ],
   "source": [
    "months[:-13:-1]"
   ]
  },
  {
   "cell_type": "code",
   "execution_count": 46,
   "id": "eec37532-aa06-4403-81d7-f58f9e900f25",
   "metadata": {},
   "outputs": [
    {
     "data": {
      "text/plain": [
       "['December',\n",
       " 'November',\n",
       " 'October',\n",
       " 'September',\n",
       " 'August',\n",
       " 'July',\n",
       " 'June',\n",
       " 'May',\n",
       " 'April',\n",
       " 'March',\n",
       " 'February',\n",
       " 'January',\n",
       " None]"
      ]
     },
     "execution_count": 46,
     "metadata": {},
     "output_type": "execute_result"
    }
   ],
   "source": [
    "months[::-1]"
   ]
  },
  {
   "cell_type": "code",
   "execution_count": 48,
   "id": "f9daa0a1-2561-4b43-8804-e3c700e26bd0",
   "metadata": {},
   "outputs": [
    {
     "data": {
      "text/plain": [
       "['a', 'B', 'C', 'D', 'F']"
      ]
     },
     "execution_count": 48,
     "metadata": {},
     "output_type": "execute_result"
    }
   ],
   "source": [
    "grades = ['A', 'B', 'C', 'D', 'F']\n",
    "grades[0] = 'a'\n",
    "grades"
   ]
  },
  {
   "cell_type": "code",
   "execution_count": 49,
   "id": "7b66100d-f9ea-4f93-bc99-432e496026e4",
   "metadata": {},
   "outputs": [],
   "source": [
    "x = 2\n",
    "x = 3"
   ]
  },
  {
   "cell_type": "code",
   "execution_count": 50,
   "id": "dc30c5d9-251d-406a-b16b-0fefdfee90a8",
   "metadata": {},
   "outputs": [
    {
     "data": {
      "text/plain": [
       "'B'"
      ]
     },
     "execution_count": 50,
     "metadata": {},
     "output_type": "execute_result"
    }
   ],
   "source": [
    "my_str = 'ABCDEFG' # quiz question\n",
    "my_str[1]"
   ]
  },
  {
   "cell_type": "code",
   "execution_count": 51,
   "id": "a85bbe3a-bde1-464f-b4c9-bc99e4aabc11",
   "metadata": {},
   "outputs": [
    {
     "ename": "TypeError",
     "evalue": "'str' object does not support item assignment",
     "output_type": "error",
     "traceback": [
      "\u001b[31m---------------------------------------------------------------------------\u001b[39m",
      "\u001b[31mTypeError\u001b[39m                                 Traceback (most recent call last)",
      "\u001b[36mCell\u001b[39m\u001b[36m \u001b[39m\u001b[32mIn[51]\u001b[39m\u001b[32m, line 1\u001b[39m\n\u001b[32m----> \u001b[39m\u001b[32m1\u001b[39m \u001b[43mmy_str\u001b[49m\u001b[43m[\u001b[49m\u001b[32;43m1\u001b[39;49m\u001b[43m]\u001b[49m = \u001b[33m'\u001b[39m\u001b[33mb\u001b[39m\u001b[33m'\u001b[39m\n",
      "\u001b[31mTypeError\u001b[39m: 'str' object does not support item assignment"
     ]
    }
   ],
   "source": [
    "my_str[1] = 'b'"
   ]
  },
  {
   "cell_type": "code",
   "execution_count": 52,
   "id": "0a2ba0cd-0c19-4b37-b9a4-92b6b2b979f1",
   "metadata": {},
   "outputs": [
    {
     "data": {
      "text/plain": [
       "['a', 'b', 'C', 'D', 'F']"
      ]
     },
     "execution_count": 52,
     "metadata": {},
     "output_type": "execute_result"
    }
   ],
   "source": [
    "grades[1] = 'b'\n",
    "grades"
   ]
  },
  {
   "cell_type": "code",
   "execution_count": 54,
   "id": "e3e43d0e-a206-4fd6-adef-dbeb452e523f",
   "metadata": {},
   "outputs": [
    {
     "data": {
      "text/plain": [
       "['A', 'a', 'C', 'D', 'F']"
      ]
     },
     "execution_count": 54,
     "metadata": {},
     "output_type": "execute_result"
    }
   ],
   "source": [
    "grades = ['A', 'B', 'C', 'D', 'F']\n",
    "\n",
    "grades[1:2] = 'a' # 1 \n",
    "grades"
   ]
  },
  {
   "cell_type": "code",
   "execution_count": 55,
   "id": "ae41167c-6429-4e5b-b5b0-f48bb5d02eb7",
   "metadata": {},
   "outputs": [
    {
     "data": {
      "text/plain": [
       "['A', 'B', 'd', 'f']"
      ]
     },
     "execution_count": 55,
     "metadata": {},
     "output_type": "execute_result"
    }
   ],
   "source": [
    "grades = ['A', 'B', 'C', 'D', 'F']\n",
    "grades[2:] = ['d', 'f']\n",
    "grades"
   ]
  },
  {
   "cell_type": "code",
   "execution_count": 56,
   "id": "63d6e9e0-a54b-4757-8637-02b222c28513",
   "metadata": {},
   "outputs": [
    {
     "data": {
      "text/plain": [
       "['A', 'B', 'd']"
      ]
     },
     "execution_count": 56,
     "metadata": {},
     "output_type": "execute_result"
    }
   ],
   "source": [
    "grades = ['A', 'B', 'C', 'D', 'F']\n",
    "grades[2:] = 'd'\n",
    "grades"
   ]
  },
  {
   "cell_type": "code",
   "execution_count": 57,
   "id": "96ca73ca-838c-410b-a971-4a3f40c32517",
   "metadata": {},
   "outputs": [
    {
     "ename": "TypeError",
     "evalue": "can only assign an iterable",
     "output_type": "error",
     "traceback": [
      "\u001b[31m---------------------------------------------------------------------------\u001b[39m",
      "\u001b[31mTypeError\u001b[39m                                 Traceback (most recent call last)",
      "\u001b[36mCell\u001b[39m\u001b[36m \u001b[39m\u001b[32mIn[57]\u001b[39m\u001b[32m, line 2\u001b[39m\n\u001b[32m      1\u001b[39m grades = [\u001b[32m1\u001b[39m, \u001b[32m2\u001b[39m, \u001b[32m3\u001b[39m, \u001b[32m4\u001b[39m, \u001b[32m5\u001b[39m]\n\u001b[32m----> \u001b[39m\u001b[32m2\u001b[39m \u001b[43mgrades\u001b[49m\u001b[43m[\u001b[49m\u001b[32;43m2\u001b[39;49m\u001b[43m:\u001b[49m\u001b[43m]\u001b[49m = \u001b[32m3\u001b[39m\n\u001b[32m      3\u001b[39m grades\n",
      "\u001b[31mTypeError\u001b[39m: can only assign an iterable"
     ]
    }
   ],
   "source": [
    "grades = [1, 2, 3, 4, 5]\n",
    "grades[2:] = 3\n",
    "grades"
   ]
  },
  {
   "cell_type": "code",
   "execution_count": null,
   "id": "328e76b6-b765-4d48-b1a5-fa5a0deb7915",
   "metadata": {},
   "outputs": [],
   "source": []
  },
  {
   "cell_type": "code",
   "execution_count": 58,
   "id": "f1a7de93-88e8-40b9-b376-33bc5e901d62",
   "metadata": {},
   "outputs": [
    {
     "data": {
      "text/plain": [
       "[1, 2, 3]"
      ]
     },
     "execution_count": 58,
     "metadata": {},
     "output_type": "execute_result"
    }
   ],
   "source": [
    "grades = [1, 2, 3, 4, 5]\n",
    "grades[2:] = [3]\n",
    "grades"
   ]
  },
  {
   "cell_type": "code",
   "execution_count": 59,
   "id": "59b26b89-fd17-4bfe-b0f2-a13d6d7e7ae7",
   "metadata": {},
   "outputs": [
    {
     "data": {
      "text/plain": [
       "['B', 'C', 'D', 'F']"
      ]
     },
     "execution_count": 59,
     "metadata": {},
     "output_type": "execute_result"
    }
   ],
   "source": [
    "grades = ['A', 'B', 'C', 'D', 'F']\n",
    "del grades[0]\n",
    "grades"
   ]
  },
  {
   "cell_type": "code",
   "execution_count": 60,
   "id": "28fc66b8-468f-43f0-8e9d-e8c2b3861bfa",
   "metadata": {},
   "outputs": [
    {
     "data": {
      "text/plain": [
       "['B', 'F']"
      ]
     },
     "execution_count": 60,
     "metadata": {},
     "output_type": "execute_result"
    }
   ],
   "source": [
    "del grades[1:3]\n",
    "grades"
   ]
  },
  {
   "cell_type": "code",
   "execution_count": 61,
   "id": "980fdfed-75c1-422e-bcc5-8b451ed7a9eb",
   "metadata": {},
   "outputs": [],
   "source": [
    "\n",
    "del grades"
   ]
  },
  {
   "cell_type": "code",
   "execution_count": 63,
   "id": "6e8b8322-2e49-4ac5-bee1-5cb60cea084e",
   "metadata": {},
   "outputs": [
    {
     "data": {
      "text/plain": [
       "['B', 'D']"
      ]
     },
     "execution_count": 63,
     "metadata": {},
     "output_type": "execute_result"
    }
   ],
   "source": [
    "grades = ['A', 'B', 'C', 'D', 'F']\n",
    "del grades[::2]\n",
    "grades"
   ]
  },
  {
   "cell_type": "code",
   "execution_count": 64,
   "id": "303cbef1-1da0-48ea-b684-e4008103a0dc",
   "metadata": {},
   "outputs": [
    {
     "data": {
      "text/plain": [
       "['A', 'B', 'C', 'D']"
      ]
     },
     "execution_count": 64,
     "metadata": {},
     "output_type": "execute_result"
    }
   ],
   "source": [
    "grades = ['A', 'B', 'C', 'D', 'F']\n",
    "grades.pop() # deletes the last element in list and returns it \n",
    "grades"
   ]
  },
  {
   "cell_type": "code",
   "execution_count": 65,
   "id": "e1b21626-e210-4445-bc74-acef52bc501a",
   "metadata": {},
   "outputs": [
    {
     "data": {
      "text/plain": [
       "['B', 'C', 'D']"
      ]
     },
     "execution_count": 65,
     "metadata": {},
     "output_type": "execute_result"
    }
   ],
   "source": [
    "grades.pop(0) # deletes the first element in list and returns it\n",
    "grades"
   ]
  },
  {
   "cell_type": "code",
   "execution_count": 66,
   "id": "3039d285-88c2-4f49-adfa-d5946fcd201c",
   "metadata": {},
   "outputs": [
    {
     "ename": "IndexError",
     "evalue": "pop index out of range",
     "output_type": "error",
     "traceback": [
      "\u001b[31m---------------------------------------------------------------------------\u001b[39m",
      "\u001b[31mIndexError\u001b[39m                                Traceback (most recent call last)",
      "\u001b[36mCell\u001b[39m\u001b[36m \u001b[39m\u001b[32mIn[66]\u001b[39m\u001b[32m, line 1\u001b[39m\n\u001b[32m----> \u001b[39m\u001b[32m1\u001b[39m \u001b[43mgrades\u001b[49m\u001b[43m.\u001b[49m\u001b[43mpop\u001b[49m\u001b[43m(\u001b[49m\u001b[32;43m3\u001b[39;49m\u001b[43m)\u001b[49m \u001b[38;5;66;03m# deletes the fourth element in list and returns it\u001b[39;00m\n\u001b[32m      2\u001b[39m grades\n",
      "\u001b[31mIndexError\u001b[39m: pop index out of range"
     ]
    }
   ],
   "source": [
    "grades.pop(3) # deletes the fourth element in list and returns it\n",
    "grades"
   ]
  },
  {
   "cell_type": "code",
   "execution_count": 67,
   "id": "8c48b7fd-a350-4780-8666-eb37df48c56b",
   "metadata": {},
   "outputs": [
    {
     "data": {
      "text/plain": [
       "['A', 'B', 'C', 'F']"
      ]
     },
     "execution_count": 67,
     "metadata": {},
     "output_type": "execute_result"
    }
   ],
   "source": [
    "grades = ['A', 'B', 'C', 'D', 'F']\n",
    "grades.pop(3) # deletes the fourth element in list and returns it\n",
    "grades"
   ]
  },
  {
   "cell_type": "code",
   "execution_count": 68,
   "id": "a90de76c-ae7b-408e-bfad-3955af7d984c",
   "metadata": {},
   "outputs": [
    {
     "data": {
      "text/plain": [
       "['A', 'B', 'C', 'D', 'F']"
      ]
     },
     "execution_count": 68,
     "metadata": {},
     "output_type": "execute_result"
    }
   ],
   "source": [
    "grades1 = ['A', 'B', 'C']\n",
    "grades2 = ['D', 'F']\n",
    "grades = grades1 + grades2\n",
    "grades"
   ]
  },
  {
   "cell_type": "code",
   "execution_count": 70,
   "id": "6ca83a44-e3eb-4a92-963f-37ef043153d0",
   "metadata": {},
   "outputs": [
    {
     "data": {
      "text/plain": [
       "['A', 'B', 'C', 'D', 'F', 'A', 'B', 'C', 'D', 'F', 'A', 'B', 'C', 'D', 'F']"
      ]
     },
     "execution_count": 70,
     "metadata": {},
     "output_type": "execute_result"
    }
   ],
   "source": [
    "grades = ['A', 'B', 'C', 'D', 'F']\n",
    "grades *= 3\n",
    "grades"
   ]
  },
  {
   "cell_type": "code",
   "execution_count": null,
   "id": "76654dc0-1ea3-4e19-babe-01448cf15bc8",
   "metadata": {},
   "outputs": [],
   "source": [
    "my_list = ['A', 1, 'Spam', True]"
   ]
  },
  {
   "cell_type": "code",
   "execution_count": 71,
   "id": "2ef718f3-17e1-4ad5-a687-7370d84f7d52",
   "metadata": {},
   "outputs": [],
   "source": [
    "my_list2 = [\n",
    "    ['John', [55, 65, 86]], \n",
    "    ['Jane', [70, 80, 80]]\n",
    "]"
   ]
  },
  {
   "cell_type": "code",
   "execution_count": 74,
   "id": "6cb2101f-657d-4982-b943-2544efb93656",
   "metadata": {},
   "outputs": [
    {
     "data": {
      "text/plain": [
       "65"
      ]
     },
     "execution_count": 74,
     "metadata": {},
     "output_type": "execute_result"
    }
   ],
   "source": [
    "my_list2[0][1][1]"
   ]
  },
  {
   "cell_type": "code",
   "execution_count": 75,
   "id": "fe15aa24-7657-4e32-af51-cedfafecd0ba",
   "metadata": {},
   "outputs": [
    {
     "data": {
      "text/plain": [
       "'ohn'"
      ]
     },
     "execution_count": 75,
     "metadata": {},
     "output_type": "execute_result"
    }
   ],
   "source": [
    "my_list2[0][0][1:]"
   ]
  },
  {
   "cell_type": "code",
   "execution_count": 76,
   "id": "e9df323e-0635-482d-af3d-8ac8956000d7",
   "metadata": {},
   "outputs": [
    {
     "data": {
      "text/plain": [
       "True"
      ]
     },
     "execution_count": 76,
     "metadata": {},
     "output_type": "execute_result"
    }
   ],
   "source": [
    "my_list = ['A', 1, 'Spam', True]\n",
    "'A' in my_list"
   ]
  },
  {
   "cell_type": "code",
   "execution_count": null,
   "id": "15afc2d4-1399-400a-ac66-e96ef1767311",
   "metadata": {},
   "outputs": [],
   "source": [
    "numbers = [3, 4, 8, 9, 5, 6, 7, 0, 1, 2, 10, 11, 12]\n",
    "len(numbers)"
   ]
  },
  {
   "cell_type": "code",
   "execution_count": 79,
   "id": "4d46da33-1887-4fff-9ba3-0832c9cc342b",
   "metadata": {},
   "outputs": [
    {
     "data": {
      "text/plain": [
       "12"
      ]
     },
     "execution_count": 79,
     "metadata": {},
     "output_type": "execute_result"
    }
   ],
   "source": [
    "max(numbers)"
   ]
  },
  {
   "cell_type": "code",
   "execution_count": 80,
   "id": "c283a5cc-8fcb-4ab9-ae4f-12b945118951",
   "metadata": {},
   "outputs": [
    {
     "ename": "TypeError",
     "evalue": "'>' not supported between instances of 'str' and 'int'",
     "output_type": "error",
     "traceback": [
      "\u001b[31m---------------------------------------------------------------------------\u001b[39m",
      "\u001b[31mTypeError\u001b[39m                                 Traceback (most recent call last)",
      "\u001b[36mCell\u001b[39m\u001b[36m \u001b[39m\u001b[32mIn[80]\u001b[39m\u001b[32m, line 2\u001b[39m\n\u001b[32m      1\u001b[39m x = [\u001b[32m1\u001b[39m, \u001b[32m2\u001b[39m, \u001b[32m3\u001b[39m, \u001b[32m4\u001b[39m, \u001b[33m'\u001b[39m\u001b[33m5\u001b[39m\u001b[33m'\u001b[39m]\n\u001b[32m----> \u001b[39m\u001b[32m2\u001b[39m \u001b[38;5;28;43mmax\u001b[39;49m\u001b[43m(\u001b[49m\u001b[43mx\u001b[49m\u001b[43m)\u001b[49m\n",
      "\u001b[31mTypeError\u001b[39m: '>' not supported between instances of 'str' and 'int'"
     ]
    }
   ],
   "source": [
    "x = [1, 2, 3, 4, '5']\n",
    "max(x)"
   ]
  },
  {
   "cell_type": "code",
   "execution_count": 82,
   "id": "2f121d57-d4b8-478b-93dc-54a7844b44e8",
   "metadata": {},
   "outputs": [
    {
     "data": {
      "text/plain": [
       "'3'"
      ]
     },
     "execution_count": 82,
     "metadata": {},
     "output_type": "execute_result"
    }
   ],
   "source": [
    "x = ['1', '2', '3', '11']\n",
    "max(x)"
   ]
  },
  {
   "cell_type": "code",
   "execution_count": 83,
   "id": "e649d274-bae8-4e1e-83fe-6f422e49c734",
   "metadata": {},
   "outputs": [
    {
     "data": {
      "text/plain": [
       "'1'"
      ]
     },
     "execution_count": 83,
     "metadata": {},
     "output_type": "execute_result"
    }
   ],
   "source": [
    "min(x)"
   ]
  },
  {
   "cell_type": "code",
   "execution_count": 84,
   "id": "db886b3c-3d2b-4c22-b7ba-68ba627d9fe3",
   "metadata": {},
   "outputs": [
    {
     "ename": "TypeError",
     "evalue": "unsupported operand type(s) for +: 'int' and 'str'",
     "output_type": "error",
     "traceback": [
      "\u001b[31m---------------------------------------------------------------------------\u001b[39m",
      "\u001b[31mTypeError\u001b[39m                                 Traceback (most recent call last)",
      "\u001b[36mCell\u001b[39m\u001b[36m \u001b[39m\u001b[32mIn[84]\u001b[39m\u001b[32m, line 1\u001b[39m\n\u001b[32m----> \u001b[39m\u001b[32m1\u001b[39m \u001b[38;5;28;43msum\u001b[39;49m\u001b[43m(\u001b[49m\u001b[43mx\u001b[49m\u001b[43m)\u001b[49m\n",
      "\u001b[31mTypeError\u001b[39m: unsupported operand type(s) for +: 'int' and 'str'"
     ]
    }
   ],
   "source": [
    "sum(x)"
   ]
  },
  {
   "cell_type": "code",
   "execution_count": 85,
   "id": "fed70507-caf9-4601-8d1f-017602aa5882",
   "metadata": {},
   "outputs": [
    {
     "data": {
      "text/plain": [
       "78"
      ]
     },
     "execution_count": 85,
     "metadata": {},
     "output_type": "execute_result"
    }
   ],
   "source": [
    "numbers = [3, 4, 8, 9, 5, 6, 7, 0, 1, 2, 10, 11, 12]\n",
    "\n",
    "sum(numbers)"
   ]
  },
  {
   "cell_type": "code",
   "execution_count": 86,
   "id": "c74089b2-7bd5-4807-a151-83c2c51b422d",
   "metadata": {},
   "outputs": [
    {
     "data": {
      "text/plain": [
       "[0, 1, 2, 3, 4, 5, 6, 7, 8, 9, 10, 11, 12]"
      ]
     },
     "execution_count": 86,
     "metadata": {},
     "output_type": "execute_result"
    }
   ],
   "source": [
    "sorted(numbers)"
   ]
  },
  {
   "cell_type": "code",
   "execution_count": 87,
   "id": "af9089ed-fe9f-448b-ba8f-3c2dd4b94c6c",
   "metadata": {},
   "outputs": [
    {
     "name": "stdout",
     "output_type": "stream",
     "text": [
      "True\n"
     ]
    }
   ],
   "source": [
    "booleans = [True, False, True]\n",
    "print(any(booleans))"
   ]
  },
  {
   "cell_type": "code",
   "execution_count": 92,
   "id": "2ac2438d-bbe3-475b-86f4-a01797f1ce6d",
   "metadata": {},
   "outputs": [
    {
     "name": "stdout",
     "output_type": "stream",
     "text": [
      "True\n"
     ]
    }
   ],
   "source": [
    "booleans = [0, False, '', [], 0.0, None, 'None']\n",
    "print(any(booleans))"
   ]
  },
  {
   "cell_type": "code",
   "execution_count": 94,
   "id": "b49af7e9-6ef7-4150-aa6d-00280318ee86",
   "metadata": {},
   "outputs": [
    {
     "name": "stdout",
     "output_type": "stream",
     "text": [
      "True\n"
     ]
    }
   ],
   "source": [
    "print(all([True]))"
   ]
  },
  {
   "cell_type": "code",
   "execution_count": 95,
   "id": "acca8831-9539-43cd-a95e-23ee6cf18a0f",
   "metadata": {},
   "outputs": [
    {
     "name": "stdout",
     "output_type": "stream",
     "text": [
      "3 4\n"
     ]
    }
   ],
   "source": [
    "a, b = [3,4]\n",
    "print(a, b)"
   ]
  },
  {
   "cell_type": "code",
   "execution_count": 96,
   "id": "dec6744a-fa28-45cc-833c-42e758db3c65",
   "metadata": {},
   "outputs": [
    {
     "data": {
      "text/plain": [
       "[1, 2, 3]"
      ]
     },
     "execution_count": 96,
     "metadata": {},
     "output_type": "execute_result"
    }
   ],
   "source": [
    "lst = [1, 2, 3]\n",
    "lst"
   ]
  },
  {
   "cell_type": "code",
   "execution_count": 97,
   "id": "d2d94575-2ece-4dd6-8ba1-58c42983a08f",
   "metadata": {},
   "outputs": [
    {
     "ename": "TypeError",
     "evalue": "'tuple' object does not support item assignment",
     "output_type": "error",
     "traceback": [
      "\u001b[31m---------------------------------------------------------------------------\u001b[39m",
      "\u001b[31mTypeError\u001b[39m                                 Traceback (most recent call last)",
      "\u001b[36mCell\u001b[39m\u001b[36m \u001b[39m\u001b[32mIn[97]\u001b[39m\u001b[32m, line 2\u001b[39m\n\u001b[32m      1\u001b[39m tpl = (\u001b[32m1\u001b[39m, \u001b[32m2\u001b[39m, \u001b[32m3\u001b[39m)\n\u001b[32m----> \u001b[39m\u001b[32m2\u001b[39m \u001b[43mtpl\u001b[49m\u001b[43m[\u001b[49m\u001b[32;43m1\u001b[39;49m\u001b[43m]\u001b[49m = \u001b[32m3\u001b[39m\n",
      "\u001b[31mTypeError\u001b[39m: 'tuple' object does not support item assignment"
     ]
    }
   ],
   "source": [
    "tpl = (1, 2, 3)\n",
    "tpl[1] = 3"
   ]
  },
  {
   "cell_type": "code",
   "execution_count": 98,
   "id": "502e46f5-ce96-47c9-8a82-91da758c79eb",
   "metadata": {},
   "outputs": [
    {
     "data": {
      "text/plain": [
       "[1, 2, 3]"
      ]
     },
     "execution_count": 98,
     "metadata": {},
     "output_type": "execute_result"
    }
   ],
   "source": [
    "list(tpl)"
   ]
  },
  {
   "cell_type": "code",
   "execution_count": 99,
   "id": "c22ee6fd-27e5-400c-ac8b-6d18a259ea96",
   "metadata": {},
   "outputs": [
    {
     "ename": "ValueError",
     "evalue": "too many values to unpack (expected 2)",
     "output_type": "error",
     "traceback": [
      "\u001b[31m---------------------------------------------------------------------------\u001b[39m",
      "\u001b[31mValueError\u001b[39m                                Traceback (most recent call last)",
      "\u001b[36mCell\u001b[39m\u001b[36m \u001b[39m\u001b[32mIn[99]\u001b[39m\u001b[32m, line 1\u001b[39m\n\u001b[32m----> \u001b[39m\u001b[32m1\u001b[39m a, b = [\u001b[32m3\u001b[39m,\u001b[32m4\u001b[39m, \u001b[32m5\u001b[39m, \u001b[32m6\u001b[39m, \u001b[32m7\u001b[39m, \u001b[32m8\u001b[39m, \u001b[32m9\u001b[39m]\n\u001b[32m      2\u001b[39m \u001b[38;5;28mprint\u001b[39m(a, b)\n",
      "\u001b[31mValueError\u001b[39m: too many values to unpack (expected 2)"
     ]
    }
   ],
   "source": [
    "a, b = [3,4, 5, 6, 7, 8, 9]\n",
    "print(a, b)"
   ]
  },
  {
   "cell_type": "code",
   "execution_count": 100,
   "id": "50ab20b3-6915-49e2-9bb9-2b844ece5233",
   "metadata": {},
   "outputs": [
    {
     "name": "stdout",
     "output_type": "stream",
     "text": [
      "3 4 [5, 6, 7, 8, 9]\n"
     ]
    }
   ],
   "source": [
    "a, b, *c = [3,4, 5, 6, 7, 8, 9]\n",
    "print(a, b, c)"
   ]
  },
  {
   "cell_type": "code",
   "execution_count": 101,
   "id": "0e4e6280-afc7-445e-8e25-6de4e3517148",
   "metadata": {},
   "outputs": [
    {
     "name": "stdout",
     "output_type": "stream",
     "text": [
      "3 [4, 5, 6, 7, 8] 9\n"
     ]
    }
   ],
   "source": [
    "a, *b, c = [3,4, 5, 6, 7, 8, 9]\n",
    "print(a, b, c)"
   ]
  }
 ],
 "metadata": {
  "kernelspec": {
   "display_name": "Python 3 (ipykernel)",
   "language": "python",
   "name": "python3"
  },
  "language_info": {
   "codemirror_mode": {
    "name": "ipython",
    "version": 3
   },
   "file_extension": ".py",
   "mimetype": "text/x-python",
   "name": "python",
   "nbconvert_exporter": "python",
   "pygments_lexer": "ipython3",
   "version": "3.12.3"
  }
 },
 "nbformat": 4,
 "nbformat_minor": 5
}
