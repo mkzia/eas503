{
 "cells": [
  {
   "cell_type": "code",
   "execution_count": 1,
   "id": "c7a8b8de-d104-43de-9b0e-32927af2ad23",
   "metadata": {},
   "outputs": [],
   "source": [
    "x = \"john\""
   ]
  },
  {
   "cell_type": "code",
   "execution_count": 2,
   "id": "81d8c032-1c66-4d0c-a99f-66ffac8a73b0",
   "metadata": {},
   "outputs": [
    {
     "data": {
      "text/plain": [
       "'John'"
      ]
     },
     "execution_count": 2,
     "metadata": {},
     "output_type": "execute_result"
    }
   ],
   "source": [
    "x.capitalize()"
   ]
  },
  {
   "cell_type": "code",
   "execution_count": 3,
   "id": "17886fac-92d5-4393-bd6e-51357a146f6f",
   "metadata": {},
   "outputs": [
    {
     "data": {
      "text/plain": [
       "'John'"
      ]
     },
     "execution_count": 3,
     "metadata": {},
     "output_type": "execute_result"
    }
   ],
   "source": [
    "str.\n"
   ]
  },
  {
   "cell_type": "code",
   "execution_count": 5,
   "id": "84e24be4-ee2b-48ef-933a-5072d4b12cf9",
   "metadata": {},
   "outputs": [
    {
     "data": {
      "text/plain": [
       "'john\\tdoe'"
      ]
     },
     "execution_count": 5,
     "metadata": {},
     "output_type": "execute_result"
    }
   ],
   "source": [
    "x = \"john\\tdoe\"\n",
    "x"
   ]
  },
  {
   "cell_type": "code",
   "execution_count": 6,
   "id": "dfaea1a9-5d8d-471b-8295-c254a292608c",
   "metadata": {},
   "outputs": [
    {
     "name": "stdout",
     "output_type": "stream",
     "text": [
      "john\tdoe\n"
     ]
    }
   ],
   "source": [
    "print(x)"
   ]
  },
  {
   "cell_type": "code",
   "execution_count": 7,
   "id": "b0f32c35-c803-47fd-8518-8aefa306c1a2",
   "metadata": {},
   "outputs": [
    {
     "name": "stdout",
     "output_type": "stream",
     "text": [
      "\t\tABBCCC   Dummy\n",
      "ABBCCC\n"
     ]
    }
   ],
   "source": [
    "my_string = '\\t\\tABBCCC  '\n",
    "print(my_string, 'Dummy')\n",
    "print(my_string.strip())"
   ]
  },
  {
   "cell_type": "raw",
   "id": "eea94a3e-0d4a-4be4-8bb2-f065967f1350",
   "metadata": {},
   "source": [
    "# white\n",
    "- spaces\n",
    "- tabs \\t \n",
    "- new line chars \\n"
   ]
  },
  {
   "cell_type": "code",
   "execution_count": null,
   "id": "bda41d66-806e-4ed1-9a19-86dd38e194f5",
   "metadata": {},
   "outputs": [],
   "source": [
    "\" john\""
   ]
  },
  {
   "cell_type": "code",
   "execution_count": 8,
   "id": "f13023f2-3598-4b76-83a8-6b5b8af1fbf2",
   "metadata": {},
   "outputs": [
    {
     "name": "stdout",
     "output_type": "stream",
     "text": [
      "BBCCC\n",
      "  ABBCCC\n"
     ]
    }
   ],
   "source": [
    "my_string = 'ABBCCCA'\n",
    "print(my_string.strip('A'))\n",
    "my_string = '  ABBCCCA'\n",
    "print(my_string.strip('A'))"
   ]
  },
  {
   "cell_type": "code",
   "execution_count": 10,
   "id": "c679b42d-ab96-432a-963a-3319ae40cc4a",
   "metadata": {},
   "outputs": [
    {
     "name": "stdout",
     "output_type": "stream",
     "text": [
      "  ABBCCC\n"
     ]
    }
   ],
   "source": [
    "my_string = 'A  ABBCCCA'\n",
    "print(my_string.strip('A'))"
   ]
  },
  {
   "cell_type": "code",
   "execution_count": 11,
   "id": "3c06550a-05c3-44f8-bea1-687b9d03f88e",
   "metadata": {},
   "outputs": [
    {
     "name": "stdout",
     "output_type": "stream",
     "text": [
      "  ABBCCC\n"
     ]
    }
   ],
   "source": [
    "my_string = 'AAAAAAAAA  ABBCCCA'\n",
    "print(my_string.strip('A'))"
   ]
  },
  {
   "cell_type": "code",
   "execution_count": 12,
   "id": "594aa197-d2e8-49ab-94bb-917b9f4c4e63",
   "metadata": {},
   "outputs": [
    {
     "name": "stdout",
     "output_type": "stream",
     "text": [
      "   ABBCCC   Dummy\n",
      "ABBCCC   Dummy\n"
     ]
    }
   ],
   "source": [
    "my_string = '   ABBCCC  '\n",
    "print(my_string, 'Dummy')\n",
    "print(my_string.lstrip(), 'Dummy')"
   ]
  },
  {
   "cell_type": "code",
   "execution_count": 13,
   "id": "b2b3b7d6-3c6b-4475-9dcb-12fd3e7f5cd9",
   "metadata": {},
   "outputs": [
    {
     "name": "stdout",
     "output_type": "stream",
     "text": [
      "False\n"
     ]
    }
   ],
   "source": [
    "my_string = 'EAS503'\n",
    "print(my_string.islower())"
   ]
  },
  {
   "cell_type": "code",
   "execution_count": 14,
   "id": "b1a8a7fb-36da-4d0b-b4a4-e6905c2aae43",
   "metadata": {},
   "outputs": [
    {
     "name": "stdout",
     "output_type": "stream",
     "text": [
      "True\n"
     ]
    }
   ],
   "source": [
    "my_string = 'EAS503'\n",
    "print(my_string.isupper())"
   ]
  },
  {
   "cell_type": "code",
   "execution_count": 15,
   "id": "c76b52ba-cef7-4b8f-90f4-686aa23d45d1",
   "metadata": {},
   "outputs": [
    {
     "name": "stdout",
     "output_type": "stream",
     "text": [
      "False\n"
     ]
    }
   ],
   "source": [
    "my_string = 'EaS503'\n",
    "print(my_string.isupper())"
   ]
  },
  {
   "cell_type": "code",
   "execution_count": 16,
   "id": "883d86c0-da82-4143-80ad-23ec86edefd7",
   "metadata": {},
   "outputs": [
    {
     "name": "stdout",
     "output_type": "stream",
     "text": [
      "eas503\n"
     ]
    }
   ],
   "source": [
    "my_string = 'EAS503'\n",
    "print(my_string.lower())"
   ]
  },
  {
   "cell_type": "code",
   "execution_count": 17,
   "id": "0e47f01c-6a95-49ad-ba34-4d861d554406",
   "metadata": {},
   "outputs": [
    {
     "data": {
      "text/plain": [
       "'EAS503'"
      ]
     },
     "execution_count": 17,
     "metadata": {},
     "output_type": "execute_result"
    }
   ],
   "source": [
    "my_string"
   ]
  },
  {
   "cell_type": "code",
   "execution_count": 20,
   "id": "cef55764-b263-476c-a672-245a9eb8fc50",
   "metadata": {},
   "outputs": [
    {
     "name": "stdout",
     "output_type": "stream",
     "text": [
      "john\n"
     ]
    }
   ],
   "source": [
    "name = \" john  \"\n",
    "name = name.strip()\n",
    "print(name)"
   ]
  },
  {
   "cell_type": "code",
   "execution_count": 21,
   "id": "4656f9a8-c3d2-420b-919c-d41aa6fa8a61",
   "metadata": {},
   "outputs": [
    {
     "name": "stdout",
     "output_type": "stream",
     "text": [
      "False\n",
      "True\n"
     ]
    }
   ],
   "source": [
    "my_string = 'EAS503'\n",
    "print(my_string.isalpha())\n",
    "my_string = 'EAS'\n",
    "print(my_string.isalpha())"
   ]
  },
  {
   "cell_type": "code",
   "execution_count": 22,
   "id": "efd34e53-61e1-4b66-a66b-44d06946092c",
   "metadata": {},
   "outputs": [
    {
     "data": {
      "text/plain": [
       "True"
      ]
     },
     "execution_count": 22,
     "metadata": {},
     "output_type": "execute_result"
    }
   ],
   "source": [
    "x = \"12345\"\n",
    "x.isdecimal()"
   ]
  },
  {
   "cell_type": "code",
   "execution_count": 23,
   "id": "73198e21-5277-44d0-9cd4-199087185889",
   "metadata": {},
   "outputs": [
    {
     "data": {
      "text/plain": [
       "False"
      ]
     },
     "execution_count": 23,
     "metadata": {},
     "output_type": "execute_result"
    }
   ],
   "source": [
    "x = \"123a45\"\n",
    "x.isdecimal()"
   ]
  },
  {
   "cell_type": "code",
   "execution_count": 25,
   "id": "69c884ad-86ab-4ee0-b4d1-ffd1c51bf079",
   "metadata": {},
   "outputs": [
    {
     "name": "stdout",
     "output_type": "stream",
     "text": [
      "x²\n"
     ]
    }
   ],
   "source": [
    "print(\"x\\u00B2\")"
   ]
  },
  {
   "cell_type": "code",
   "execution_count": 27,
   "id": "db6159f9-a441-4759-bdb8-ba4fa6d8f978",
   "metadata": {},
   "outputs": [
    {
     "name": "stdout",
     "output_type": "stream",
     "text": [
      "x¼\n"
     ]
    }
   ],
   "source": [
    "print('x\\u00BC')"
   ]
  },
  {
   "cell_type": "code",
   "execution_count": 28,
   "id": "1449f20a-947d-4bea-b5f1-bf161999c363",
   "metadata": {},
   "outputs": [
    {
     "name": "stdout",
     "output_type": "stream",
     "text": [
      "True\n"
     ]
    }
   ],
   "source": [
    "my_string = 'EAS503'\n",
    "print(my_string.isalnum())"
   ]
  },
  {
   "cell_type": "code",
   "execution_count": 30,
   "id": "774e0220-2b34-4d43-9618-b083357448c2",
   "metadata": {},
   "outputs": [
    {
     "name": "stdout",
     "output_type": "stream",
     "text": [
      "False\n"
     ]
    }
   ],
   "source": [
    "my_string = 'EAS503'\n",
    "print(my_string.startswith('eAS'))"
   ]
  },
  {
   "cell_type": "code",
   "execution_count": 31,
   "id": "2355d98c-92b7-4211-8cb1-c23b0cf26160",
   "metadata": {},
   "outputs": [
    {
     "name": "stdout",
     "output_type": "stream",
     "text": [
      "True\n"
     ]
    }
   ],
   "source": [
    "y_string = 'EAS503'\n",
    "print(my_string.endswith('03'))"
   ]
  },
  {
   "cell_type": "code",
   "execution_count": 33,
   "id": "d8f00b57-6220-4750-8c56-8d4281889e5b",
   "metadata": {},
   "outputs": [
    {
     "data": {
      "text/plain": [
       "'A'"
      ]
     },
     "execution_count": 33,
     "metadata": {},
     "output_type": "execute_result"
    }
   ],
   "source": [
    "my_string = 'ABBCCC'\n",
    "#            012345\n",
    "my_string[0]"
   ]
  },
  {
   "cell_type": "code",
   "execution_count": 34,
   "id": "4c9b3929-9b1c-4b56-b8d5-f12f904dc5b6",
   "metadata": {},
   "outputs": [
    {
     "data": {
      "text/plain": [
       "'C'"
      ]
     },
     "execution_count": 34,
     "metadata": {},
     "output_type": "execute_result"
    }
   ],
   "source": [
    "my_string = 'ABBCCC'\n",
    "#            012345\n",
    "my_string[3]"
   ]
  },
  {
   "cell_type": "code",
   "execution_count": 35,
   "id": "3fd9c404-412a-435d-a722-43fb637b3707",
   "metadata": {},
   "outputs": [
    {
     "name": "stdout",
     "output_type": "stream",
     "text": [
      "1\n"
     ]
    }
   ],
   "source": [
    "my_string = 'ABBCCC'\n",
    "#            012345\n",
    "print(my_string.find('BB'))"
   ]
  },
  {
   "cell_type": "code",
   "execution_count": 36,
   "id": "5e1336cb-d6cb-4cdd-af2d-ed5115762787",
   "metadata": {},
   "outputs": [
    {
     "name": "stdout",
     "output_type": "stream",
     "text": [
      "1\n"
     ]
    }
   ],
   "source": [
    "print(my_string.find('B'))"
   ]
  },
  {
   "cell_type": "code",
   "execution_count": 37,
   "id": "832a1743-4b43-431b-a7ea-8de3be73d09f",
   "metadata": {},
   "outputs": [
    {
     "name": "stdout",
     "output_type": "stream",
     "text": [
      "-1\n"
     ]
    }
   ],
   "source": [
    "print(my_string.find('AC'))"
   ]
  },
  {
   "cell_type": "code",
   "execution_count": 38,
   "id": "1a8b123b-735d-4dd8-aa7f-9e1bb0b38cbc",
   "metadata": {},
   "outputs": [
    {
     "name": "stdout",
     "output_type": "stream",
     "text": [
      "1\n"
     ]
    }
   ],
   "source": [
    "my_string = 'ABBCCC'\n",
    "print(my_string.index('BB'))"
   ]
  },
  {
   "cell_type": "code",
   "execution_count": 39,
   "id": "7ac78faa-d125-42dd-bbff-6b7ac015b89c",
   "metadata": {},
   "outputs": [
    {
     "ename": "ValueError",
     "evalue": "substring not found",
     "output_type": "error",
     "traceback": [
      "\u001b[31m---------------------------------------------------------------------------\u001b[39m",
      "\u001b[31mValueError\u001b[39m                                Traceback (most recent call last)",
      "\u001b[36mCell\u001b[39m\u001b[36m \u001b[39m\u001b[32mIn[39]\u001b[39m\u001b[32m, line 2\u001b[39m\n\u001b[32m      1\u001b[39m my_string = \u001b[33m'\u001b[39m\u001b[33mABBCCC\u001b[39m\u001b[33m'\u001b[39m\n\u001b[32m----> \u001b[39m\u001b[32m2\u001b[39m \u001b[38;5;28mprint\u001b[39m(\u001b[43mmy_string\u001b[49m\u001b[43m.\u001b[49m\u001b[43mindex\u001b[49m\u001b[43m(\u001b[49m\u001b[33;43m'\u001b[39;49m\u001b[33;43mAC\u001b[39;49m\u001b[33;43m'\u001b[39;49m\u001b[43m)\u001b[49m)\n",
      "\u001b[31mValueError\u001b[39m: substring not found"
     ]
    }
   ],
   "source": [
    "my_string = 'ABBCCC'\n",
    "print(my_string.index('AC'))"
   ]
  },
  {
   "cell_type": "code",
   "execution_count": 40,
   "id": "a7c2aa35-68d7-48fe-bb49-4374f81da8ca",
   "metadata": {},
   "outputs": [
    {
     "name": "stdout",
     "output_type": "stream",
     "text": [
      "True\n"
     ]
    }
   ],
   "source": [
    "my_string = 'ABBCCC'\n",
    "print('A' in my_string)"
   ]
  },
  {
   "cell_type": "code",
   "execution_count": 41,
   "id": "9c98b366-dcbd-49ba-b6ec-a2d521f0a4be",
   "metadata": {},
   "outputs": [
    {
     "name": "stdout",
     "output_type": "stream",
     "text": [
      "False\n"
     ]
    }
   ],
   "source": [
    "my_string = 'ABBCCC'\n",
    "print('D' in my_string) # O(N)"
   ]
  },
  {
   "cell_type": "code",
   "execution_count": 42,
   "id": "210c0a28-0266-473c-b6f6-6eb6f5ba3014",
   "metadata": {},
   "outputs": [
    {
     "name": "stdout",
     "output_type": "stream",
     "text": [
      "3\n"
     ]
    }
   ],
   "source": [
    "my_string = 'ABBCCC'\n",
    "print(my_string.count('C'))"
   ]
  },
  {
   "cell_type": "code",
   "execution_count": 43,
   "id": "56ef5da7-73f6-45f7-b924-2a4b896363dd",
   "metadata": {},
   "outputs": [
    {
     "name": "stdout",
     "output_type": "stream",
     "text": [
      "EAS503)\n",
      "EAS503\n"
     ]
    }
   ],
   "source": [
    "my_string = '(EAS503)'\n",
    "tmp1 = my_string.replace('(', '')\n",
    "print(tmp1)\n",
    "tmp2 = tmp1.replace(')', '')\n",
    "print(tmp2)"
   ]
  },
  {
   "cell_type": "code",
   "execution_count": 46,
   "id": "0787bd2b-e5c0-457e-be81-7862743f0655",
   "metadata": {},
   "outputs": [
    {
     "data": {
      "text/plain": [
       "'EAS503'"
      ]
     },
     "execution_count": 46,
     "metadata": {},
     "output_type": "execute_result"
    }
   ],
   "source": [
    "my_string.replace('(', '').replace(')','').lower()"
   ]
  },
  {
   "cell_type": "code",
   "execution_count": 47,
   "id": "a7ec769e-5c4c-499f-b42c-3563caf2a646",
   "metadata": {},
   "outputs": [
    {
     "data": {
      "text/plain": [
       "'00EAS503'"
      ]
     },
     "execution_count": 47,
     "metadata": {},
     "output_type": "execute_result"
    }
   ],
   "source": [
    "my_string = 'EAS503'\n",
    "my_string.zfill(8)"
   ]
  },
  {
   "cell_type": "code",
   "execution_count": 49,
   "id": "41526305-b751-4f7d-871f-9970a2434a8d",
   "metadata": {},
   "outputs": [
    {
     "data": {
      "text/plain": [
       "'1900192419501990'"
      ]
     },
     "execution_count": 49,
     "metadata": {},
     "output_type": "execute_result"
    }
   ],
   "source": [
    "years = ('1900', '1924', '1950', '1990')\n",
    "''.join((years))"
   ]
  },
  {
   "cell_type": "code",
   "execution_count": 50,
   "id": "843fd905-9651-40e4-8802-d7138359adb5",
   "metadata": {},
   "outputs": [
    {
     "data": {
      "text/plain": [
       "'1900-1924-1950-1990'"
      ]
     },
     "execution_count": 50,
     "metadata": {},
     "output_type": "execute_result"
    }
   ],
   "source": [
    "years = ('1900', '1924', '1950', '1990')\n",
    "'-'.join((years))"
   ]
  },
  {
   "cell_type": "code",
   "execution_count": 51,
   "id": "a58a1108-0b47-4c3c-9f69-012a1670d5d7",
   "metadata": {},
   "outputs": [
    {
     "data": {
      "text/plain": [
       "'1900, 1924, 1950, 1990'"
      ]
     },
     "execution_count": 51,
     "metadata": {},
     "output_type": "execute_result"
    }
   ],
   "source": [
    "years = ('1900', '1924', '1950', '1990')\n",
    "', '.join((years))"
   ]
  },
  {
   "cell_type": "code",
   "execution_count": 52,
   "id": "d430e4b2-d784-41a7-9ab6-709341d6a460",
   "metadata": {},
   "outputs": [
    {
     "name": "stdout",
     "output_type": "stream",
     "text": [
      "1900\n",
      "1924\n",
      "1950\n",
      "1990\n"
     ]
    }
   ],
   "source": [
    "years = ('1900', '1924', '1950', '1990')\n",
    "print('\\n'.join((years)))"
   ]
  },
  {
   "cell_type": "code",
   "execution_count": 53,
   "id": "27194860-0871-4fa9-9abe-45799d4f1627",
   "metadata": {},
   "outputs": [
    {
     "name": "stdout",
     "output_type": "stream",
     "text": [
      "1900\t1924\t1950\t1990\n"
     ]
    }
   ],
   "source": [
    "years = ('1900', '1924', '1950', '1990')\n",
    "print('\\t'.join((years)))"
   ]
  },
  {
   "cell_type": "code",
   "execution_count": 54,
   "id": "9235c532-e77d-4faa-aa61-ca46905f0a7f",
   "metadata": {},
   "outputs": [
    {
     "ename": "TypeError",
     "evalue": "sequence item 3: expected str instance, int found",
     "output_type": "error",
     "traceback": [
      "\u001b[31m---------------------------------------------------------------------------\u001b[39m",
      "\u001b[31mTypeError\u001b[39m                                 Traceback (most recent call last)",
      "\u001b[36mCell\u001b[39m\u001b[36m \u001b[39m\u001b[32mIn[54]\u001b[39m\u001b[32m, line 2\u001b[39m\n\u001b[32m      1\u001b[39m years = (\u001b[33m'\u001b[39m\u001b[33m1900\u001b[39m\u001b[33m'\u001b[39m, \u001b[33m'\u001b[39m\u001b[33m1924\u001b[39m\u001b[33m'\u001b[39m, \u001b[33m'\u001b[39m\u001b[33m1950\u001b[39m\u001b[33m'\u001b[39m, \u001b[32m1990\u001b[39m)\n\u001b[32m----> \u001b[39m\u001b[32m2\u001b[39m \u001b[33;43m'\u001b[39;49m\u001b[33;43m, \u001b[39;49m\u001b[33;43m'\u001b[39;49m\u001b[43m.\u001b[49m\u001b[43mjoin\u001b[49m\u001b[43m(\u001b[49m\u001b[43myears\u001b[49m\u001b[43m)\u001b[49m\n",
      "\u001b[31mTypeError\u001b[39m: sequence item 3: expected str instance, int found"
     ]
    }
   ],
   "source": [
    "years = ('1900', '1924', '1950', 1990)\n",
    "', '.join(years)"
   ]
  },
  {
   "cell_type": "code",
   "execution_count": 55,
   "id": "54083923-c080-43d3-bdc4-e0da3a541c13",
   "metadata": {},
   "outputs": [
    {
     "data": {
      "text/plain": [
       "False"
      ]
     },
     "execution_count": 55,
     "metadata": {},
     "output_type": "execute_result"
    }
   ],
   "source": [
    "True\n",
    "False"
   ]
  },
  {
   "cell_type": "code",
   "execution_count": 56,
   "id": "ec683aac-ff22-470f-9a4e-588464e85f8e",
   "metadata": {},
   "outputs": [
    {
     "data": {
      "text/plain": [
       "''"
      ]
     },
     "execution_count": 56,
     "metadata": {},
     "output_type": "execute_result"
    }
   ],
   "source": [
    "' '\n",
    "''"
   ]
  },
  {
   "cell_type": "code",
   "execution_count": 57,
   "id": "d4d41aec-0069-49a6-86e6-37db3b60f811",
   "metadata": {},
   "outputs": [
    {
     "data": {
      "text/plain": [
       "4"
      ]
     },
     "execution_count": 57,
     "metadata": {},
     "output_type": "execute_result"
    }
   ],
   "source": [
    "len('1234')"
   ]
  },
  {
   "cell_type": "code",
   "execution_count": 58,
   "id": "2b2bd783-fe40-48db-8e2e-289d8170f974",
   "metadata": {},
   "outputs": [
    {
     "data": {
      "text/plain": [
       "False"
      ]
     },
     "execution_count": 58,
     "metadata": {},
     "output_type": "execute_result"
    }
   ],
   "source": [
    "a = 1\n",
    "b = 2\n",
    "\n",
    "a == b"
   ]
  },
  {
   "cell_type": "code",
   "execution_count": 59,
   "id": "d2decd7d-c303-47fa-b58f-c0c05fe27fe7",
   "metadata": {},
   "outputs": [
    {
     "data": {
      "text/plain": [
       "True"
      ]
     },
     "execution_count": 59,
     "metadata": {},
     "output_type": "execute_result"
    }
   ],
   "source": [
    "45 > 34"
   ]
  },
  {
   "cell_type": "code",
   "execution_count": 60,
   "id": "18493398-0b59-4186-9b94-f71c7894347f",
   "metadata": {},
   "outputs": [
    {
     "data": {
      "text/plain": [
       "False"
      ]
     },
     "execution_count": 60,
     "metadata": {},
     "output_type": "execute_result"
    }
   ],
   "source": [
    "45 > 79"
   ]
  },
  {
   "cell_type": "code",
   "execution_count": 61,
   "id": "ee824799-b7d1-4684-8295-5f125b70cc66",
   "metadata": {},
   "outputs": [
    {
     "data": {
      "text/plain": [
       "True"
      ]
     },
     "execution_count": 61,
     "metadata": {},
     "output_type": "execute_result"
    }
   ],
   "source": [
    "45 < 79"
   ]
  },
  {
   "cell_type": "code",
   "execution_count": 62,
   "id": "a7b1178f-afa4-46e2-85e4-f79302b268d6",
   "metadata": {},
   "outputs": [
    {
     "data": {
      "text/plain": [
       "True"
      ]
     },
     "execution_count": 62,
     "metadata": {},
     "output_type": "execute_result"
    }
   ],
   "source": [
    "23.1 >= 23.1"
   ]
  },
  {
   "cell_type": "code",
   "execution_count": 63,
   "id": "30cc21ae-0ede-4855-880c-55a454f1310c",
   "metadata": {},
   "outputs": [
    {
     "data": {
      "text/plain": [
       "True"
      ]
     },
     "execution_count": 63,
     "metadata": {},
     "output_type": "execute_result"
    }
   ],
   "source": [
    "67.0 == 67"
   ]
  },
  {
   "cell_type": "code",
   "execution_count": 64,
   "id": "571855c2-3484-436c-aca6-a47b68c157e7",
   "metadata": {},
   "outputs": [
    {
     "data": {
      "text/plain": [
       "False"
      ]
     },
     "execution_count": 64,
     "metadata": {},
     "output_type": "execute_result"
    }
   ],
   "source": [
    "67.0 != 67"
   ]
  },
  {
   "cell_type": "code",
   "execution_count": 65,
   "id": "da1e1931-3c82-4e08-9b04-e183f982ca56",
   "metadata": {},
   "outputs": [
    {
     "data": {
      "text/plain": [
       "True"
      ]
     },
     "execution_count": 65,
     "metadata": {},
     "output_type": "execute_result"
    }
   ],
   "source": [
    "x = 2\n",
    "y = 5\n",
    "z = 7\n",
    "x < y and y < z"
   ]
  },
  {
   "cell_type": "code",
   "execution_count": 67,
   "id": "64ed82ac-3679-4002-afa5-a9618a0465fa",
   "metadata": {},
   "outputs": [
    {
     "data": {
      "text/plain": [
       "True"
      ]
     },
     "execution_count": 67,
     "metadata": {},
     "output_type": "execute_result"
    }
   ],
   "source": [
    "(x < y) and (y < z) # better"
   ]
  },
  {
   "cell_type": "code",
   "execution_count": 68,
   "id": "3f09490e-a95e-4055-9722-546a03117218",
   "metadata": {},
   "outputs": [
    {
     "data": {
      "text/plain": [
       "True"
      ]
     },
     "execution_count": 68,
     "metadata": {},
     "output_type": "execute_result"
    }
   ],
   "source": [
    "x = 3\n",
    "(1 < x) and (x <= 5)"
   ]
  },
  {
   "cell_type": "code",
   "execution_count": 69,
   "id": "640bf044-fda0-43eb-a533-4160428db8b6",
   "metadata": {},
   "outputs": [
    {
     "data": {
      "text/plain": [
       "False"
      ]
     },
     "execution_count": 69,
     "metadata": {},
     "output_type": "execute_result"
    }
   ],
   "source": [
    "x = 7\n",
    "(1 < x) and (x <= 5)"
   ]
  },
  {
   "cell_type": "code",
   "execution_count": 70,
   "id": "89c2933f-18ac-4c64-a75a-281d28d6f8d8",
   "metadata": {},
   "outputs": [
    {
     "data": {
      "text/plain": [
       "True"
      ]
     },
     "execution_count": 70,
     "metadata": {},
     "output_type": "execute_result"
    }
   ],
   "source": [
    "x = 3 \n",
    "1 < x <= 5 # You can chain comparisons"
   ]
  },
  {
   "cell_type": "code",
   "execution_count": 77,
   "id": "1edb9648-f958-4cd6-831d-09129798d32d",
   "metadata": {},
   "outputs": [
    {
     "data": {
      "text/plain": [
       "True"
      ]
     },
     "execution_count": 77,
     "metadata": {},
     "output_type": "execute_result"
    }
   ],
   "source": [
    "3 < 5 != 0"
   ]
  },
  {
   "cell_type": "code",
   "execution_count": 76,
   "id": "78bbeddf-4580-49a9-9ee4-d0ad8fe67222",
   "metadata": {},
   "outputs": [
    {
     "data": {
      "text/plain": [
       "True"
      ]
     },
     "execution_count": 76,
     "metadata": {},
     "output_type": "execute_result"
    }
   ],
   "source": [
    "(3 < 5) != False"
   ]
  },
  {
   "cell_type": "code",
   "execution_count": 78,
   "id": "05bc8ab9-8495-4bea-94d5-093f2fd0f6cb",
   "metadata": {},
   "outputs": [
    {
     "data": {
      "text/plain": [
       "True"
      ]
     },
     "execution_count": 78,
     "metadata": {},
     "output_type": "execute_result"
    }
   ],
   "source": [
    "'1' < '8' # 49 < 56"
   ]
  },
  {
   "cell_type": "code",
   "execution_count": null,
   "id": "e5e3bfa9-295b-4fd4-8293-4c65c34a95da",
   "metadata": {},
   "outputs": [],
   "source": [
    "'abc' < 'abd'\n",
    " 012     012"
   ]
  },
  {
   "cell_type": "code",
   "execution_count": 79,
   "id": "ac48638d-83a5-4a63-9e22-4ac16eadd6c0",
   "metadata": {},
   "outputs": [
    {
     "data": {
      "text/plain": [
       "True"
      ]
     },
     "execution_count": 79,
     "metadata": {},
     "output_type": "execute_result"
    }
   ],
   "source": [
    "'john' < 'johnathan'"
   ]
  },
  {
   "cell_type": "code",
   "execution_count": 80,
   "id": "94af8a38-1aea-4df3-b6ef-2bb9c91a0553",
   "metadata": {},
   "outputs": [
    {
     "data": {
      "text/plain": [
       "True"
      ]
     },
     "execution_count": 80,
     "metadata": {},
     "output_type": "execute_result"
    }
   ],
   "source": [
    "'abc' < 'abcd' \n"
   ]
  },
  {
   "cell_type": "code",
   "execution_count": 81,
   "id": "4d0bf422-5d04-463a-acef-a47e0b5b54fb",
   "metadata": {},
   "outputs": [
    {
     "data": {
      "text/plain": [
       "True"
      ]
     },
     "execution_count": 81,
     "metadata": {},
     "output_type": "execute_result"
    }
   ],
   "source": [
    "'1' < '2'"
   ]
  },
  {
   "cell_type": "code",
   "execution_count": 82,
   "id": "79b631de-e3fb-4ac0-a05f-6130ca422079",
   "metadata": {},
   "outputs": [
    {
     "data": {
      "text/plain": [
       "True"
      ]
     },
     "execution_count": 82,
     "metadata": {},
     "output_type": "execute_result"
    }
   ],
   "source": [
    "'1' < '20'"
   ]
  },
  {
   "cell_type": "code",
   "execution_count": 83,
   "id": "e6fe329a-6bc3-4507-ae5f-daf8d8bd21b4",
   "metadata": {},
   "outputs": [
    {
     "data": {
      "text/plain": [
       "False"
      ]
     },
     "execution_count": 83,
     "metadata": {},
     "output_type": "execute_result"
    }
   ],
   "source": [
    "'2' < '11'\n"
   ]
  },
  {
   "cell_type": "code",
   "execution_count": 84,
   "id": "90defdbe-5b51-4b41-8d17-8335ee136304",
   "metadata": {},
   "outputs": [
    {
     "data": {
      "text/plain": [
       "['1', '11', '2', 'AABC', 'ABC', 'ABCD', 'a', 'abc', 'abcd', 'b']"
      ]
     },
     "execution_count": 84,
     "metadata": {},
     "output_type": "execute_result"
    }
   ],
   "source": [
    "x = ['AABC', 'ABC', 'ABCD', '1', '2', '11', 'a', 'abc', 'b', 'abcd']\n",
    "sorted(x)"
   ]
  },
  {
   "cell_type": "code",
   "execution_count": 85,
   "id": "5aee06c4-bd9a-4951-9d0c-8c0e571cd26f",
   "metadata": {},
   "outputs": [
    {
     "data": {
      "text/plain": [
       "['Female24', 'Female25', 'Male11', 'Male2', 'Male21', 'Male30']"
      ]
     },
     "execution_count": 85,
     "metadata": {},
     "output_type": "execute_result"
    }
   ],
   "source": [
    "x = ['Male21', 'Female25', 'Male30', 'Male2', 'Female24', 'Male11']\n",
    "sorted(x)"
   ]
  },
  {
   "cell_type": "code",
   "execution_count": 86,
   "id": "0858dbc4-4edf-4fd9-8fec-f285822c4c5b",
   "metadata": {},
   "outputs": [
    {
     "data": {
      "text/plain": [
       "False"
      ]
     },
     "execution_count": 86,
     "metadata": {},
     "output_type": "execute_result"
    }
   ],
   "source": [
    "'Male21' < 'Female25'"
   ]
  },
  {
   "cell_type": "code",
   "execution_count": null,
   "id": "f40951b7-eb37-4fb3-9d47-150b31accf67",
   "metadata": {},
   "outputs": [],
   "source": [
    "x = ['Male21', 'Female25', Male30, 'Male2', 'Female24', 'Male11']\n",
    "sorted(x)"
   ]
  },
  {
   "cell_type": "code",
   "execution_count": 87,
   "id": "1ed1cc58-ab24-46d7-a7e8-58046b424feb",
   "metadata": {},
   "outputs": [
    {
     "ename": "TypeError",
     "evalue": "unsupported operand type(s) for +: 'int' and 'str'",
     "output_type": "error",
     "traceback": [
      "\u001b[31m---------------------------------------------------------------------------\u001b[39m",
      "\u001b[31mTypeError\u001b[39m                                 Traceback (most recent call last)",
      "\u001b[36mCell\u001b[39m\u001b[36m \u001b[39m\u001b[32mIn[87]\u001b[39m\u001b[32m, line 1\u001b[39m\n\u001b[32m----> \u001b[39m\u001b[32m1\u001b[39m \u001b[32;43m3\u001b[39;49m\u001b[43m \u001b[49m\u001b[43m+\u001b[49m\u001b[43m \u001b[49m\u001b[33;43m'\u001b[39;49m\u001b[33;43m.14\u001b[39;49m\u001b[33;43m'\u001b[39;49m\n",
      "\u001b[31mTypeError\u001b[39m: unsupported operand type(s) for +: 'int' and 'str'"
     ]
    }
   ],
   "source": [
    "3 + '.14'"
   ]
  },
  {
   "cell_type": "code",
   "execution_count": 88,
   "id": "ca14dbb8-a988-4cdc-950e-03a55e7a5d69",
   "metadata": {},
   "outputs": [
    {
     "ename": "TypeError",
     "evalue": "'<' not supported between instances of 'int' and 'str'",
     "output_type": "error",
     "traceback": [
      "\u001b[31m---------------------------------------------------------------------------\u001b[39m",
      "\u001b[31mTypeError\u001b[39m                                 Traceback (most recent call last)",
      "\u001b[36mCell\u001b[39m\u001b[36m \u001b[39m\u001b[32mIn[88]\u001b[39m\u001b[32m, line 1\u001b[39m\n\u001b[32m----> \u001b[39m\u001b[32m1\u001b[39m \u001b[32;43m3\u001b[39;49m\u001b[43m \u001b[49m\u001b[43m<\u001b[49m\u001b[43m \u001b[49m\u001b[33;43m'\u001b[39;49m\u001b[33;43m.14\u001b[39;49m\u001b[33;43m'\u001b[39;49m\n",
      "\u001b[31mTypeError\u001b[39m: '<' not supported between instances of 'int' and 'str'"
     ]
    }
   ],
   "source": [
    "3 < '.14'"
   ]
  },
  {
   "cell_type": "code",
   "execution_count": 91,
   "id": "639a6a2c-be02-4af5-8427-2b4bc8cd2658",
   "metadata": {},
   "outputs": [
    {
     "data": {
      "text/plain": [
       "False"
      ]
     },
     "execution_count": 91,
     "metadata": {},
     "output_type": "execute_result"
    }
   ],
   "source": [
    "'3' < '.14'"
   ]
  },
  {
   "cell_type": "code",
   "execution_count": 93,
   "id": "f0c1ccc6-c68e-42f4-ad13-080f79e7a04f",
   "metadata": {},
   "outputs": [
    {
     "name": "stdin",
     "output_type": "stream",
     "text": [
      "Enter the pH level:  4.5\n"
     ]
    },
    {
     "name": "stdout",
     "output_type": "stream",
     "text": [
      "4.5  is acidic.\n"
     ]
    }
   ],
   "source": [
    "ph = float(input('Enter the pH level: '))\n",
    "if ph < 7.0:\n",
    "    print(ph, \" is acidic.\") #indentation important"
   ]
  },
  {
   "cell_type": "code",
   "execution_count": 96,
   "id": "7dcfde65-a855-4031-b473-3e310c5aee5d",
   "metadata": {},
   "outputs": [
    {
     "name": "stdin",
     "output_type": "stream",
     "text": [
      "Enter the pH level:  10\n"
     ]
    }
   ],
   "source": [
    "ph = float(input('Enter the pH level: '))\n",
    "if ph < 7.0:\n",
    "    print(ph, \" is acidic.\")\n",
    "    print('You should be careful with that!') #indentation is important"
   ]
  },
  {
   "cell_type": "code",
   "execution_count": 97,
   "id": "84c873e9-9cfd-44fe-a07f-9d2d6db4c548",
   "metadata": {},
   "outputs": [
    {
     "name": "stdin",
     "output_type": "stream",
     "text": [
      "Enter the pH level:  10\n"
     ]
    },
    {
     "name": "stdout",
     "output_type": "stream",
     "text": [
      "10.0  is basic.\n"
     ]
    }
   ],
   "source": [
    "ph = float(input('Enter the pH level: '))\n",
    "if ph < 7.0:\n",
    "    print(ph, \" is acidic.\") #indentation important\n",
    "\n",
    "if ph > 7.0:\n",
    "    print(ph, \" is basic.\") "
   ]
  },
  {
   "cell_type": "code",
   "execution_count": 98,
   "id": "840bb36c-4463-4e12-b32e-7429b5ee9980",
   "metadata": {},
   "outputs": [
    {
     "name": "stdin",
     "output_type": "stream",
     "text": [
      "Enter the pH level:  10\n"
     ]
    },
    {
     "name": "stdout",
     "output_type": "stream",
     "text": [
      "10.0  is basic.\n"
     ]
    }
   ],
   "source": [
    "ph = float(input('Enter the pH level: '))\n",
    "if ph < 7.0:\n",
    "    print(ph, \" is acidic.\") #indentation important\n",
    "elif ph > 7.0:\n",
    "    print(ph, \" is basic.\") "
   ]
  },
  {
   "cell_type": "code",
   "execution_count": 99,
   "id": "79260469-48e4-443a-a000-c09630698e5d",
   "metadata": {},
   "outputs": [
    {
     "name": "stdin",
     "output_type": "stream",
     "text": [
      "Enter the pH level:  4.5\n"
     ]
    },
    {
     "name": "stdout",
     "output_type": "stream",
     "text": [
      "8.0  is basic.\n"
     ]
    }
   ],
   "source": [
    "ph = float(input('Enter the pH level: '))\n",
    "if ph < 7.0:\n",
    "    ph = 8.0 #indentation important\n",
    "\n",
    "\n",
    "\n",
    "\n",
    "elif ph > 7.0:\n",
    "    print(ph, \" is basic.\") "
   ]
  },
  {
   "cell_type": "code",
   "execution_count": 100,
   "id": "9feb80ae-5c70-40b3-9aa3-78bbb25caa01",
   "metadata": {},
   "outputs": [
    {
     "name": "stdin",
     "output_type": "stream",
     "text": [
      "Enter the pH level:  4.5\n"
     ]
    },
    {
     "name": "stdout",
     "output_type": "stream",
     "text": [
      "8.0  is changed.\n"
     ]
    }
   ],
   "source": [
    "ph = float(input('Enter the pH level: '))\n",
    "if ph < 7.0:\n",
    "    ph = 8.0  #indentation important\n",
    "    print(ph, \" is changed.\") #\n",
    "elif ph > 7.0:\n",
    "    print(ph, \" is basic.\") "
   ]
  },
  {
   "cell_type": "code",
   "execution_count": 102,
   "id": "3d630ec6-e8e4-4e8f-8642-80391c2e1d38",
   "metadata": {},
   "outputs": [
    {
     "name": "stdin",
     "output_type": "stream",
     "text": [
      "Enter the compound:  K\n"
     ]
    },
    {
     "name": "stdout",
     "output_type": "stream",
     "text": [
      "Unknown compound\n"
     ]
    }
   ],
   "source": [
    "compound = input('Enter the compound: ')\n",
    "if compound == 'H2O':\n",
    "    print('Water')\n",
    "elif compound == 'NH3':\n",
    "    print('Ammonia')\n",
    "elif compound == 'CH4':\n",
    "    print('Methane')\n",
    "else:\n",
    "    print('Unknown compound')"
   ]
  },
  {
   "cell_type": "code",
   "execution_count": 104,
   "id": "b2b9cc14-829f-4e55-88e9-3589c83fcafd",
   "metadata": {},
   "outputs": [
    {
     "name": "stdin",
     "output_type": "stream",
     "text": [
      "Enter the pH level:  7\n"
     ]
    },
    {
     "name": "stdout",
     "output_type": "stream",
     "text": [
      "7.0  is neutral.\n"
     ]
    }
   ],
   "source": [
    "value = input('Enter the pH level: ')\n",
    "if len(value) > 0:\n",
    "    ph = float(value) \n",
    "    if ph < 7.0:\n",
    "        print(ph, \" is acidic.\")\n",
    "    elif ph > 7.0:\n",
    "        print(ph, \" is basic.\")\n",
    "    else:\n",
    "        print(ph, \" is neutral.\")\n",
    "\n",
    "else:\n",
    "    print('No pH value was given!')"
   ]
  },
  {
   "cell_type": "code",
   "execution_count": 108,
   "id": "cced99ac-8e28-4189-b772-22a3b3c9d073",
   "metadata": {},
   "outputs": [
    {
     "name": "stdin",
     "output_type": "stream",
     "text": [
      "Enter the pH level:                                                       \n"
     ]
    },
    {
     "name": "stdout",
     "output_type": "stream",
     "text": [
      "No pH value was given!\n"
     ]
    }
   ],
   "source": [
    "value = input('Enter the pH level: ').strip()\n",
    "if value:\n",
    "    ph = float(value) \n",
    "    if ph < 7.0:\n",
    "        print(ph, \" is acidic.\")\n",
    "    elif ph > 7.0:\n",
    "        print(ph, \" is basic.\")\n",
    "    else:\n",
    "        print(ph, \" is neutral.\")\n",
    "else:\n",
    "    print('No pH value was given!')"
   ]
  },
  {
   "cell_type": "code",
   "execution_count": 110,
   "id": "d9dc5e33-563b-4efd-8468-22b87386d0d0",
   "metadata": {},
   "outputs": [
    {
     "name": "stdout",
     "output_type": "stream",
     "text": [
      "high\n"
     ]
    }
   ],
   "source": [
    "age = 45\n",
    "bmi = 22\n",
    "\n",
    "if age < 45:\n",
    "    if bmi < 22.0:\n",
    "        risk = 'low'\n",
    "    else:\n",
    "        risk = 'medium'\n",
    "else:\n",
    "    if bmi < 22.0:\n",
    "        risk = 'medium'\n",
    "    else:\n",
    "        risk = 'high'\n",
    "print(risk)"
   ]
  },
  {
   "cell_type": "code",
   "execution_count": null,
   "id": "084f55d7-90a2-4f80-81e1-2bc53acec79b",
   "metadata": {},
   "outputs": [],
   "source": [
    "ph = 2\n",
    "if ph < 7.0:\n",
    "    print(ph, ' is acidic')\n",
    "elif ph < 3.0:\n",
    "    print(ph, ' is VERY acidic! Be careful.')"
   ]
  },
  {
   "cell_type": "code",
   "execution_count": 111,
   "id": "8833f55a-3096-4f06-bb76-056c6bc6c5d5",
   "metadata": {},
   "outputs": [
    {
     "name": "stdout",
     "output_type": "stream",
     "text": [
      "2  is VERY acidic! Be careful.\n"
     ]
    }
   ],
   "source": [
    "ph = 2\n",
    "if ph < 3.0:\n",
    "    print(ph, ' is VERY acidic! Be careful.')\n",
    "elif ph < 7.0:\n",
    "    print(ph, ' is acidic')\n"
   ]
  },
  {
   "cell_type": "code",
   "execution_count": 112,
   "id": "c33688bc-c411-4588-a4ea-a2999366f0fb",
   "metadata": {},
   "outputs": [
    {
     "name": "stdout",
     "output_type": "stream",
     "text": [
      "2  is VERY acidic! Be careful.\n",
      "2  is acidic\n"
     ]
    }
   ],
   "source": [
    "ph = 2\n",
    "if ph < 3.0:\n",
    "    print(ph, ' is VERY acidic! Be careful.')\n",
    "if ph < 7.0:\n",
    "    print(ph, ' is acidic')\n"
   ]
  },
  {
   "cell_type": "code",
   "execution_count": 114,
   "id": "dc101556-4657-402c-95a3-3566218b626a",
   "metadata": {},
   "outputs": [
    {
     "name": "stdin",
     "output_type": "stream",
     "text": [
      "Enter first integer:  10\n",
      "Enter second integer:  8\n",
      "Enter third integer:  3\n"
     ]
    },
    {
     "name": "stdout",
     "output_type": "stream",
     "text": [
      "Minimum value is 3\n"
     ]
    }
   ],
   "source": [
    "# Implement the min() function for three inputs\n",
    "def my_min():\n",
    "    number1 = int(input('Enter first integer: '))\n",
    "    number2 = int(input('Enter second integer: '))\n",
    "    number3 = int(input('Enter third integer: '))\n",
    "\n",
    "    minimum = number1  \n",
    "\n",
    "    if number2 < minimum:\n",
    "        minimum = number2\n",
    "\n",
    "    if number3 < minimum:\n",
    "        minimum = number3\n",
    "\n",
    "    print('Minimum value is', minimum)\n",
    "\n",
    "my_min()"
   ]
  }
 ],
 "metadata": {
  "kernelspec": {
   "display_name": "Python 3 (ipykernel)",
   "language": "python",
   "name": "python3"
  },
  "language_info": {
   "codemirror_mode": {
    "name": "ipython",
    "version": 3
   },
   "file_extension": ".py",
   "mimetype": "text/x-python",
   "name": "python",
   "nbconvert_exporter": "python",
   "pygments_lexer": "ipython3",
   "version": "3.12.3"
  }
 },
 "nbformat": 4,
 "nbformat_minor": 5
}
