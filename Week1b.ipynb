{
 "cells": [
  {
   "cell_type": "code",
   "execution_count": 1,
   "id": "ac3e181b-1bf3-4b30-887a-6aec37b0807a",
   "metadata": {
    "scrolled": true
   },
   "outputs": [
    {
     "data": {
      "text/plain": [
       "4"
      ]
     },
     "execution_count": 1,
     "metadata": {},
     "output_type": "execute_result"
    }
   ],
   "source": [
    "2 + 2"
   ]
  },
  {
   "cell_type": "code",
   "execution_count": 4,
   "id": "4bde232c-bbe0-4c65-a05c-ca5af4fa26ab",
   "metadata": {},
   "outputs": [
    {
     "data": {
      "text/plain": [
       "4"
      ]
     },
     "execution_count": 4,
     "metadata": {},
     "output_type": "execute_result"
    }
   ],
   "source": [
    "2 + 2"
   ]
  },
  {
   "cell_type": "code",
   "execution_count": 5,
   "id": "49a97826-e6de-4a83-bb83-d95d1473021b",
   "metadata": {},
   "outputs": [
    {
     "ename": "SyntaxError",
     "evalue": "invalid syntax. Perhaps you forgot a comma? (1867494042.py, line 1)",
     "output_type": "error",
     "traceback": [
      "  \u001b[36mCell\u001b[39m\u001b[36m \u001b[39m\u001b[32mIn[5]\u001b[39m\u001b[32m, line 1\u001b[39m\n\u001b[31m    \u001b[39m\u001b[31m(+ 2 2)\u001b[39m\n     ^\n\u001b[31mSyntaxError\u001b[39m\u001b[31m:\u001b[39m invalid syntax. Perhaps you forgot a comma?\n"
     ]
    }
   ],
   "source": [
    "(+ 2 2)"
   ]
  },
  {
   "cell_type": "code",
   "execution_count": 6,
   "id": "f76bd4d7-5610-4902-8d83-ce26b9ee0cfa",
   "metadata": {},
   "outputs": [
    {
     "data": {
      "text/plain": [
       "1.4"
      ]
     },
     "execution_count": 6,
     "metadata": {},
     "output_type": "execute_result"
    }
   ],
   "source": [
    "2 - (3 / 5)"
   ]
  },
  {
   "cell_type": "code",
   "execution_count": 7,
   "id": "6c7d5a7e-6bd7-4e12-b73f-962f1ca593d1",
   "metadata": {},
   "outputs": [
    {
     "data": {
      "text/plain": [
       "212"
      ]
     },
     "execution_count": 7,
     "metadata": {},
     "output_type": "execute_result"
    }
   ],
   "source": [
    "212"
   ]
  },
  {
   "cell_type": "code",
   "execution_count": null,
   "id": "4872e580-22a2-4138-9788-dafc2f33a584",
   "metadata": {},
   "outputs": [],
   "source": [
    "2 # int\n",
    "3 # int"
   ]
  },
  {
   "cell_type": "code",
   "execution_count": 9,
   "id": "220cd9a5-5783-4e26-a87d-64a8a55ffe06",
   "metadata": {},
   "outputs": [
    {
     "data": {
      "text/plain": [
       "3"
      ]
     },
     "execution_count": 9,
     "metadata": {},
     "output_type": "execute_result"
    }
   ],
   "source": [
    "16 // 5"
   ]
  },
  {
   "cell_type": "code",
   "execution_count": 8,
   "id": "87910644-2be7-4f5e-87f7-55fb991e003c",
   "metadata": {},
   "outputs": [
    {
     "data": {
      "text/plain": [
       "3.2"
      ]
     },
     "execution_count": 8,
     "metadata": {},
     "output_type": "execute_result"
    }
   ],
   "source": [
    "16 / 5"
   ]
  },
  {
   "cell_type": "code",
   "execution_count": null,
   "id": "8077065a-d4ac-42b9-b815-a79e6e18bf16",
   "metadata": {},
   "outputs": [],
   "source": [
    "# truncating -- 3.65 --> 3\n",
    "# rounding -- 3.65 --> 3\n",
    "\n",
    "# -3.65 -- T -- -3.65\n",
    "# -3.65 -- R -- -4 \n",
    "\n",
    "\n",
    "// "
   ]
  },
  {
   "cell_type": "code",
   "execution_count": 10,
   "id": "c1fa5cb5-2c39-4bfe-afac-3fdd7043d123",
   "metadata": {},
   "outputs": [
    {
     "data": {
      "text/plain": [
       "5"
      ]
     },
     "execution_count": 10,
     "metadata": {},
     "output_type": "execute_result"
    }
   ],
   "source": [
    "53 % 24 "
   ]
  },
  {
   "cell_type": "code",
   "execution_count": 12,
   "id": "5f5ec2a8-48d4-4faf-9ec0-0159d878541e",
   "metadata": {},
   "outputs": [
    {
     "data": {
      "text/plain": [
       "-1.7"
      ]
     },
     "execution_count": 12,
     "metadata": {},
     "output_type": "execute_result"
    }
   ],
   "source": [
    "17 / -10 "
   ]
  },
  {
   "cell_type": "code",
   "execution_count": 13,
   "id": "c3f33161-0fd7-47df-a577-c91508d03bcc",
   "metadata": {},
   "outputs": [
    {
     "data": {
      "text/plain": [
       "-2"
      ]
     },
     "execution_count": 13,
     "metadata": {},
     "output_type": "execute_result"
    }
   ],
   "source": [
    "17 // -10 "
   ]
  },
  {
   "cell_type": "code",
   "execution_count": 14,
   "id": "34c30ee8-55fd-4166-89ea-5ea913f147c6",
   "metadata": {},
   "outputs": [
    {
     "data": {
      "text/plain": [
       "-3"
      ]
     },
     "execution_count": 14,
     "metadata": {},
     "output_type": "execute_result"
    }
   ],
   "source": [
    "17 % -10\n",
    "\n",
    "n = 17\n",
    "q = -2\n",
    "base = -10\n",
    "n - q* base == 17 - (20) \n",
    "17 - (-2 * -10)= -3"
   ]
  },
  {
   "cell_type": "code",
   "execution_count": 16,
   "id": "9d58ee6d-d5fb-4acd-9532-9854bd2e308a",
   "metadata": {},
   "outputs": [
    {
     "data": {
      "text/plain": [
       "-3"
      ]
     },
     "execution_count": 16,
     "metadata": {},
     "output_type": "execute_result"
    }
   ],
   "source": [
    "17 - 20 "
   ]
  },
  {
   "cell_type": "code",
   "execution_count": null,
   "id": "e8ba478e-5da6-4b9a-a5bd-baa3baf1792a",
   "metadata": {},
   "outputs": [],
   "source": [
    "The relationship between dividend, divisor, quotient, and remainder is:\n",
    "\n",
    "n = q * base + r\n",
    "\n",
    "    n: dividend (left of // or %)\n",
    "\n",
    "    q: quotient (result of //)\n",
    "\n",
    "    base: divisor (right of // or %)\n",
    "\n",
    "    r: remainder (result of %)\n"
   ]
  },
  {
   "cell_type": "code",
   "execution_count": 18,
   "id": "6179ed44-3b1d-4295-a9f9-ac2fd5cbd4f9",
   "metadata": {},
   "outputs": [
    {
     "data": {
      "text/plain": [
       "2"
      ]
     },
     "execution_count": 18,
     "metadata": {},
     "output_type": "execute_result"
    }
   ],
   "source": [
    "2"
   ]
  },
  {
   "cell_type": "code",
   "execution_count": 19,
   "id": "48139e70-692d-4628-b447-3e69400ab231",
   "metadata": {},
   "outputs": [
    {
     "data": {
      "text/plain": [
       "int"
      ]
     },
     "execution_count": 19,
     "metadata": {},
     "output_type": "execute_result"
    }
   ],
   "source": [
    "type(2)"
   ]
  },
  {
   "cell_type": "code",
   "execution_count": 20,
   "id": "0fbf02ff-5e16-42db-8858-eebe2f93d589",
   "metadata": {},
   "outputs": [
    {
     "data": {
      "text/plain": [
       "float"
      ]
     },
     "execution_count": 20,
     "metadata": {},
     "output_type": "execute_result"
    }
   ],
   "source": [
    "type(3.14)"
   ]
  },
  {
   "cell_type": "code",
   "execution_count": 21,
   "id": "38a5480e-52b8-4b36-bb5a-bfc680470b33",
   "metadata": {},
   "outputs": [
    {
     "data": {
      "text/plain": [
       "float"
      ]
     },
     "execution_count": 21,
     "metadata": {},
     "output_type": "execute_result"
    }
   ],
   "source": [
    "type(2 / 3)"
   ]
  },
  {
   "cell_type": "code",
   "execution_count": 22,
   "id": "d5130e4f-5d1b-4e30-ab0c-22fa060d89bc",
   "metadata": {},
   "outputs": [
    {
     "data": {
      "text/plain": [
       "float"
      ]
     },
     "execution_count": 22,
     "metadata": {},
     "output_type": "execute_result"
    }
   ],
   "source": [
    "type(3 / 3)"
   ]
  },
  {
   "cell_type": "code",
   "execution_count": 23,
   "id": "e3855321-d4a2-43d5-af77-1ae18b68c462",
   "metadata": {},
   "outputs": [
    {
     "data": {
      "text/plain": [
       "2.0"
      ]
     },
     "execution_count": 23,
     "metadata": {},
     "output_type": "execute_result"
    }
   ],
   "source": [
    "2.0"
   ]
  },
  {
   "cell_type": "code",
   "execution_count": 24,
   "id": "f23ac025-5dfb-4426-af9a-424be9f4d516",
   "metadata": {},
   "outputs": [
    {
     "data": {
      "text/plain": [
       "2.0"
      ]
     },
     "execution_count": 24,
     "metadata": {},
     "output_type": "execute_result"
    }
   ],
   "source": [
    "2."
   ]
  },
  {
   "cell_type": "code",
   "execution_count": 25,
   "id": "b69be4e6-ed8e-48f9-aec5-b3685164e7b9",
   "metadata": {},
   "outputs": [
    {
     "data": {
      "text/plain": [
       "24"
      ]
     },
     "execution_count": 25,
     "metadata": {},
     "output_type": "execute_result"
    }
   ],
   "source": [
    "import sys\n",
    "sys.getsizeof(2.0)     # Example output: 24 (bytes)"
   ]
  },
  {
   "cell_type": "code",
   "execution_count": 26,
   "id": "bdf0fc4f-11a4-465f-808b-1b7c83e82df9",
   "metadata": {},
   "outputs": [
    {
     "data": {
      "text/plain": [
       "24"
      ]
     },
     "execution_count": 26,
     "metadata": {},
     "output_type": "execute_result"
    }
   ],
   "source": [
    "sys.getsizeof(3.14)     # Example output: 24 (bytes)"
   ]
  },
  {
   "cell_type": "code",
   "execution_count": 27,
   "id": "a8d69c8c-7d9a-4e16-b12c-d7cfb4dcad36",
   "metadata": {},
   "outputs": [
    {
     "data": {
      "text/plain": [
       "32"
      ]
     },
     "execution_count": 27,
     "metadata": {},
     "output_type": "execute_result"
    }
   ],
   "source": [
    "sys.getsizeof(2**30)   # Example output: 32"
   ]
  },
  {
   "cell_type": "code",
   "execution_count": 28,
   "id": "8bd795f5-3192-4a9f-bb43-6fc50af1e413",
   "metadata": {},
   "outputs": [
    {
     "data": {
      "text/plain": [
       "44"
      ]
     },
     "execution_count": 28,
     "metadata": {},
     "output_type": "execute_result"
    }
   ],
   "source": [
    "sys.getsizeof(2**130)  # Example output: 44"
   ]
  },
  {
   "cell_type": "code",
   "execution_count": 29,
   "id": "664fa9b4-f208-4f1d-8735-e0e3efe4cdfa",
   "metadata": {},
   "outputs": [
    {
     "data": {
      "text/plain": [
       "0.6666666666666666"
      ]
     },
     "execution_count": 29,
     "metadata": {},
     "output_type": "execute_result"
    }
   ],
   "source": [
    "2 / 3"
   ]
  },
  {
   "cell_type": "code",
   "execution_count": 30,
   "id": "69a42298-3a7e-4b1a-86df-994b4e4e89ed",
   "metadata": {},
   "outputs": [
    {
     "data": {
      "text/plain": [
       "1.6666666666666667"
      ]
     },
     "execution_count": 30,
     "metadata": {},
     "output_type": "execute_result"
    }
   ],
   "source": [
    "5 / 3 "
   ]
  },
  {
   "cell_type": "code",
   "execution_count": 31,
   "id": "4cadcfe3-814c-4ef3-b970-920ad7372f42",
   "metadata": {},
   "outputs": [
    {
     "data": {
      "text/plain": [
       "10000000000.0"
      ]
     },
     "execution_count": 31,
     "metadata": {},
     "output_type": "execute_result"
    }
   ],
   "source": [
    "10_000_000_000 + 0.00000000001"
   ]
  },
  {
   "cell_type": "code",
   "execution_count": 32,
   "id": "e37e3087-b211-49cd-81e2-682c6580a13b",
   "metadata": {},
   "outputs": [
    {
     "name": "stderr",
     "output_type": "stream",
     "text": [
      "<>:1: SyntaxWarning: 'int' object is not callable; perhaps you missed a comma?\n",
      "<>:1: SyntaxWarning: 'int' object is not callable; perhaps you missed a comma?\n",
      "/tmp/ipykernel_35/1284323617.py:1: SyntaxWarning: 'int' object is not callable; perhaps you missed a comma?\n",
      "  8/2(2+2) # 1, 16\n"
     ]
    },
    {
     "ename": "TypeError",
     "evalue": "'int' object is not callable",
     "output_type": "error",
     "traceback": [
      "\u001b[31m---------------------------------------------------------------------------\u001b[39m",
      "\u001b[31mTypeError\u001b[39m                                 Traceback (most recent call last)",
      "\u001b[36mCell\u001b[39m\u001b[36m \u001b[39m\u001b[32mIn[32]\u001b[39m\u001b[32m, line 1\u001b[39m\n\u001b[32m----> \u001b[39m\u001b[32m1\u001b[39m \u001b[32m8\u001b[39m/\u001b[32;43m2\u001b[39;49m\u001b[43m(\u001b[49m\u001b[32;43m2\u001b[39;49m\u001b[43m+\u001b[49m\u001b[32;43m2\u001b[39;49m\u001b[43m)\u001b[49m \u001b[38;5;66;03m# 1, 16\u001b[39;00m\n",
      "\u001b[31mTypeError\u001b[39m: 'int' object is not callable"
     ]
    }
   ],
   "source": [
    "8/2(2+2) # 1, 16"
   ]
  },
  {
   "cell_type": "code",
   "execution_count": 33,
   "id": "7c597f8f-b945-4608-be60-59d64c522ce6",
   "metadata": {},
   "outputs": [
    {
     "data": {
      "text/plain": [
       "16.0"
      ]
     },
     "execution_count": 33,
     "metadata": {},
     "output_type": "execute_result"
    }
   ],
   "source": [
    "8/2 * (2+2)"
   ]
  },
  {
   "cell_type": "code",
   "execution_count": 34,
   "id": "82abf782-ad30-4e07-b3c8-bd62cf49b54e",
   "metadata": {},
   "outputs": [
    {
     "data": {
      "text/plain": [
       "1.0"
      ]
     },
     "execution_count": 34,
     "metadata": {},
     "output_type": "execute_result"
    }
   ],
   "source": [
    "8/(2*(2+2))"
   ]
  },
  {
   "cell_type": "code",
   "execution_count": 37,
   "id": "42dbf2dc-7023-455d-806f-b20358c4f629",
   "metadata": {},
   "outputs": [
    {
     "data": {
      "text/plain": [
       "0.0"
      ]
     },
     "execution_count": 37,
     "metadata": {},
     "output_type": "execute_result"
    }
   ],
   "source": [
    "(32 - 32) * 5 / 9"
   ]
  },
  {
   "cell_type": "code",
   "execution_count": 38,
   "id": "4cca71d8-72bc-4ebd-a006-e5fe63f8784a",
   "metadata": {},
   "outputs": [
    {
     "data": {
      "text/plain": [
       "100.0"
      ]
     },
     "execution_count": 38,
     "metadata": {},
     "output_type": "execute_result"
    }
   ],
   "source": [
    "(212 - 32) * 5 / 9"
   ]
  },
  {
   "cell_type": "code",
   "execution_count": 39,
   "id": "e7a0ec7c-d51a-4973-b024-721c7ac75e3c",
   "metadata": {},
   "outputs": [
    {
     "data": {
      "text/plain": [
       "100.0"
      ]
     },
     "execution_count": 39,
     "metadata": {},
     "output_type": "execute_result"
    }
   ],
   "source": [
    "x = 212\n",
    "(x - 32) * 5 / 9"
   ]
  },
  {
   "cell_type": "code",
   "execution_count": null,
   "id": "a84c79c7-8d7b-467d-aac9-35bf27893318",
   "metadata": {},
   "outputs": [],
   "source": [
    "int x; \n",
    "x = 212"
   ]
  },
  {
   "cell_type": "code",
   "execution_count": 40,
   "id": "4bb7e15d-5978-4b30-91e5-1c7da84f0e1a",
   "metadata": {},
   "outputs": [],
   "source": [
    "y = 3.14"
   ]
  },
  {
   "cell_type": "code",
   "execution_count": null,
   "id": "130ec103-06e4-4f6b-9919-a94959894572",
   "metadata": {},
   "outputs": [],
   "source": [
    "float y;\n",
    "y = 3.14"
   ]
  },
  {
   "cell_type": "code",
   "execution_count": 41,
   "id": "75b3f93d-8b8b-4698-bf4e-a35ea3347495",
   "metadata": {},
   "outputs": [
    {
     "data": {
      "text/plain": [
       "212"
      ]
     },
     "execution_count": 41,
     "metadata": {},
     "output_type": "execute_result"
    }
   ],
   "source": [
    "x"
   ]
  },
  {
   "cell_type": "code",
   "execution_count": 42,
   "id": "476a5f34-8552-4dda-a42e-03c92bcd81a4",
   "metadata": {},
   "outputs": [],
   "source": [
    "x = 3.14"
   ]
  },
  {
   "cell_type": "code",
   "execution_count": 43,
   "id": "b5e7d5ed-a93e-4ebd-b6da-cf1f1707924c",
   "metadata": {},
   "outputs": [],
   "source": [
    "y = 3.14\n",
    "y = 2"
   ]
  },
  {
   "cell_type": "code",
   "execution_count": 44,
   "id": "2e9a68cc-5163-4f0b-8fd1-619f75af6390",
   "metadata": {},
   "outputs": [],
   "source": [
    "ph = 7\n",
    "pH = 7"
   ]
  },
  {
   "cell_type": "markdown",
   "id": "5234cef3-5495-4b25-91dd-a509ef44f2ff",
   "metadata": {},
   "source": [
    "A variable name must start with a letter (a–z, A–Z) or an underscore (_).\n",
    "\n",
    "A variable name may contain letters, digits, and underscores. Spaces are not allowed."
   ]
  },
  {
   "cell_type": "code",
   "execution_count": 45,
   "id": "c648922b-3867-4a5a-a4ea-df49d2808e0f",
   "metadata": {},
   "outputs": [],
   "source": [
    "_x = 2"
   ]
  },
  {
   "cell_type": "code",
   "execution_count": 46,
   "id": "94bc600e-054a-489d-ad87-0b2c8d1b2b2c",
   "metadata": {},
   "outputs": [],
   "source": [
    "__x = 2"
   ]
  },
  {
   "cell_type": "code",
   "execution_count": 47,
   "id": "ab0d2f94-13eb-4f34-a498-e7f0a2335841",
   "metadata": {},
   "outputs": [
    {
     "ename": "SyntaxError",
     "evalue": "invalid decimal literal (2079796758.py, line 1)",
     "output_type": "error",
     "traceback": [
      "  \u001b[36mCell\u001b[39m\u001b[36m \u001b[39m\u001b[32mIn[47]\u001b[39m\u001b[32m, line 1\u001b[39m\n\u001b[31m    \u001b[39m\u001b[31m1x = 2\u001b[39m\n    ^\n\u001b[31mSyntaxError\u001b[39m\u001b[31m:\u001b[39m invalid decimal literal\n"
     ]
    }
   ],
   "source": [
    "1x = 2"
   ]
  },
  {
   "cell_type": "code",
   "execution_count": null,
   "id": "ecc5fadb-fe26-4576-8eea-0bfb4a049ee8",
   "metadata": {},
   "outputs": [],
   "source": [
    "x1 = 2"
   ]
  },
  {
   "cell_type": "code",
   "execution_count": 48,
   "id": "7e01ffbb-bf5a-451c-aad5-06ed91527b13",
   "metadata": {},
   "outputs": [
    {
     "ename": "SyntaxError",
     "evalue": "invalid syntax (3633723842.py, line 1)",
     "output_type": "error",
     "traceback": [
      "  \u001b[36mCell\u001b[39m\u001b[36m \u001b[39m\u001b[32mIn[48]\u001b[39m\u001b[32m, line 1\u001b[39m\n\u001b[31m    \u001b[39m\u001b[31mfirst name = \"John\"\u001b[39m\n          ^\n\u001b[31mSyntaxError\u001b[39m\u001b[31m:\u001b[39m invalid syntax\n"
     ]
    }
   ],
   "source": [
    "first name = \"John\""
   ]
  },
  {
   "cell_type": "code",
   "execution_count": 49,
   "id": "e96dbe59-8b57-4b4c-afc4-f39b4a493a43",
   "metadata": {},
   "outputs": [
    {
     "ename": "SyntaxError",
     "evalue": "invalid syntax. Maybe you meant '==' or ':=' instead of '='? (935248303.py, line 1)",
     "output_type": "error",
     "traceback": [
      "  \u001b[36mCell\u001b[39m\u001b[36m \u001b[39m\u001b[32mIn[49]\u001b[39m\u001b[32m, line 1\u001b[39m\n\u001b[31m    \u001b[39m\u001b[31m@array = [1, 2, 3]\u001b[39m\n     ^\n\u001b[31mSyntaxError\u001b[39m\u001b[31m:\u001b[39m invalid syntax. Maybe you meant '==' or ':=' instead of '='?\n"
     ]
    }
   ],
   "source": [
    "@array = [1, 2, 3]"
   ]
  },
  {
   "cell_type": "code",
   "execution_count": 50,
   "id": "5bdd7df5-6360-4121-96ff-1e938d2b1ba8",
   "metadata": {},
   "outputs": [
    {
     "ename": "SyntaxError",
     "evalue": "invalid syntax (4048098288.py, line 1)",
     "output_type": "error",
     "traceback": [
      "  \u001b[36mCell\u001b[39m\u001b[36m \u001b[39m\u001b[32mIn[50]\u001b[39m\u001b[32m, line 1\u001b[39m\n\u001b[31m    \u001b[39m\u001b[31mif = 2\u001b[39m\n       ^\n\u001b[31mSyntaxError\u001b[39m\u001b[31m:\u001b[39m invalid syntax\n"
     ]
    }
   ],
   "source": [
    "if = 2"
   ]
  },
  {
   "cell_type": "code",
   "execution_count": 51,
   "id": "40b8c7d8-5760-46eb-b9fa-3246535ea65d",
   "metadata": {},
   "outputs": [
    {
     "data": {
      "text/plain": [
       "int"
      ]
     },
     "execution_count": 51,
     "metadata": {},
     "output_type": "execute_result"
    }
   ],
   "source": [
    "type(2)"
   ]
  },
  {
   "cell_type": "code",
   "execution_count": 52,
   "id": "b402d018-1e5e-495f-92b5-e9ca3cd49d29",
   "metadata": {},
   "outputs": [],
   "source": [
    "type = 2"
   ]
  },
  {
   "cell_type": "code",
   "execution_count": 53,
   "id": "92393b2f-2b45-44e9-abd1-88c44376102a",
   "metadata": {},
   "outputs": [
    {
     "ename": "TypeError",
     "evalue": "'int' object is not callable",
     "output_type": "error",
     "traceback": [
      "\u001b[31m---------------------------------------------------------------------------\u001b[39m",
      "\u001b[31mTypeError\u001b[39m                                 Traceback (most recent call last)",
      "\u001b[36mCell\u001b[39m\u001b[36m \u001b[39m\u001b[32mIn[53]\u001b[39m\u001b[32m, line 1\u001b[39m\n\u001b[32m----> \u001b[39m\u001b[32m1\u001b[39m \u001b[38;5;28;43mtype\u001b[39;49m\u001b[43m(\u001b[49m\u001b[32;43m3.14\u001b[39;49m\u001b[43m)\u001b[49m\n",
      "\u001b[31mTypeError\u001b[39m: 'int' object is not callable"
     ]
    }
   ],
   "source": [
    "type(3.14)"
   ]
  },
  {
   "cell_type": "code",
   "execution_count": 54,
   "id": "f307839d-fdfb-4b35-a04c-3812fbf74919",
   "metadata": {},
   "outputs": [],
   "source": [
    "del type"
   ]
  },
  {
   "cell_type": "code",
   "execution_count": 55,
   "id": "f9dfcc20-61b8-4a33-bf93-f85d62119951",
   "metadata": {},
   "outputs": [
    {
     "data": {
      "text/plain": [
       "float"
      ]
     },
     "execution_count": 55,
     "metadata": {},
     "output_type": "execute_result"
    }
   ],
   "source": [
    "type(3.14)"
   ]
  },
  {
   "cell_type": "code",
   "execution_count": null,
   "id": "a281c5e3-5931-4959-81ef-e1219379443a",
   "metadata": {},
   "outputs": [],
   "source": [
    "first name "
   ]
  },
  {
   "cell_type": "code",
   "execution_count": null,
   "id": "0e6250da-76c9-4a27-9aac-502a4955f970",
   "metadata": {},
   "outputs": [],
   "source": [
    "first_name # snake case\n",
    "firstName # camel case \n",
    "FirstName # pascal case\n",
    "FIRST_NAME "
   ]
  },
  {
   "cell_type": "code",
   "execution_count": null,
   "id": "e531445b-d5d3-49c5-ad17-8eb9d976e289",
   "metadata": {},
   "outputs": [],
   "source": [
    "f = \"john\""
   ]
  },
  {
   "cell_type": "code",
   "execution_count": 57,
   "id": "e30c5a7d-0c4f-4b8e-bf77-a3d7c7d2539d",
   "metadata": {},
   "outputs": [
    {
     "data": {
      "text/plain": [
       "6"
      ]
     },
     "execution_count": 57,
     "metadata": {},
     "output_type": "execute_result"
    }
   ],
   "source": [
    "sum([1, 2, 3])"
   ]
  },
  {
   "cell_type": "code",
   "execution_count": 58,
   "id": "285b4ff0-5641-44c5-9ba4-c2e508f12855",
   "metadata": {},
   "outputs": [
    {
     "ename": "TypeError",
     "evalue": "'int' object is not callable",
     "output_type": "error",
     "traceback": [
      "\u001b[31m---------------------------------------------------------------------------\u001b[39m",
      "\u001b[31mTypeError\u001b[39m                                 Traceback (most recent call last)",
      "\u001b[36mCell\u001b[39m\u001b[36m \u001b[39m\u001b[32mIn[58]\u001b[39m\u001b[32m, line 2\u001b[39m\n\u001b[32m      1\u001b[39m \u001b[38;5;28msum\u001b[39m = \u001b[32m35\u001b[39m\n\u001b[32m----> \u001b[39m\u001b[32m2\u001b[39m \u001b[38;5;28;43msum\u001b[39;49m\u001b[43m(\u001b[49m\u001b[43m[\u001b[49m\u001b[32;43m1\u001b[39;49m\u001b[43m,\u001b[49m\u001b[43m \u001b[49m\u001b[32;43m2\u001b[39;49m\u001b[43m,\u001b[49m\u001b[43m \u001b[49m\u001b[32;43m3\u001b[39;49m\u001b[43m]\u001b[49m\u001b[43m)\u001b[49m\n",
      "\u001b[31mTypeError\u001b[39m: 'int' object is not callable"
     ]
    }
   ],
   "source": [
    "sum = 35\n",
    "sum([1, 2, 3])"
   ]
  },
  {
   "cell_type": "code",
   "execution_count": 59,
   "id": "50919f6f-5674-4757-bd23-99cd1030b2d3",
   "metadata": {},
   "outputs": [
    {
     "data": {
      "text/plain": [
       "6"
      ]
     },
     "execution_count": 59,
     "metadata": {},
     "output_type": "execute_result"
    }
   ],
   "source": [
    "del sum\n",
    "sum([1, 2, 3])"
   ]
  },
  {
   "cell_type": "code",
   "execution_count": 60,
   "id": "7d086772-f7e3-49ff-8dbe-9327c89bbfc8",
   "metadata": {},
   "outputs": [
    {
     "name": "stdout",
     "output_type": "stream",
     "text": [
      "40\n",
      "40\n"
     ]
    }
   ],
   "source": [
    "difference = 20\n",
    "double = 2 * difference\n",
    "print(double)   # 40\n",
    "\n",
    "difference = 5\n",
    "print(double)   # 40 (unchanged, because double already refers to its own value)"
   ]
  }
 ],
 "metadata": {
  "kernelspec": {
   "display_name": "Python 3 (ipykernel)",
   "language": "python",
   "name": "python3"
  },
  "language_info": {
   "codemirror_mode": {
    "name": "ipython",
    "version": 3
   },
   "file_extension": ".py",
   "mimetype": "text/x-python",
   "name": "python",
   "nbconvert_exporter": "python",
   "pygments_lexer": "ipython3",
   "version": "3.12.3"
  }
 },
 "nbformat": 4,
 "nbformat_minor": 5
}
