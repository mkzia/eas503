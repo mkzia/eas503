{
 "cells": [
  {
   "cell_type": "code",
   "execution_count": 2,
   "id": "0340c29c-c9be-4018-80d7-a9da79e0557d",
   "metadata": {},
   "outputs": [
    {
     "name": "stdout",
     "output_type": "stream",
     "text": [
      "3\n",
      "3\n"
     ]
    }
   ],
   "source": [
    "def return_val(x):\n",
    "    x = 3\n",
    "    return x\n",
    "\n",
    "x = 1\n",
    "x = return_val(x)\n",
    "print(x)\n",
    "\n",
    "print(x)"
   ]
  },
  {
   "cell_type": "code",
   "execution_count": 4,
   "id": "0dd1e98e-8d87-4922-8886-b96c71a4e7b7",
   "metadata": {},
   "outputs": [
    {
     "name": "stdout",
     "output_type": "stream",
     "text": [
      "[1, 2, 3, 'ME']\n"
     ]
    }
   ],
   "source": [
    "def return_val(lst):\n",
    "    lst.append('ME')\n",
    "    # return lst\n",
    "\n",
    "lst = [1, 2, 3]\n",
    "return_val(lst)\n",
    "print(lst)"
   ]
  },
  {
   "cell_type": "code",
   "execution_count": 7,
   "id": "3dc243f7-74a6-4adf-ba68-a15318d38b04",
   "metadata": {},
   "outputs": [
    {
     "name": "stdout",
     "output_type": "stream",
     "text": [
      "{1: 2, 3: 4, 5: 6}\n"
     ]
    }
   ],
   "source": [
    "def return_val(dct):\n",
    "    dct[5] = 6\n",
    "    # return 'Hi!'\n",
    "\n",
    "dct = {1:2, 3:4}\n",
    "return_val(dct)\n",
    "print(dct)"
   ]
  },
  {
   "cell_type": "code",
   "execution_count": null,
   "id": "6523fe29-e1ae-4178-ba3d-e9e5960da9cf",
   "metadata": {},
   "outputs": [],
   "source": [
    "variable = 'Global reporting!'\n",
    "\n",
    "\n",
    "def use_variable_global():\n",
    "    ## since variable is outside the function\n",
    "    print(variable)"
   ]
  },
  {
   "cell_type": "code",
   "execution_count": 15,
   "id": "57613d5f-a6b5-46ad-8140-40db677aac16",
   "metadata": {},
   "outputs": [
    {
     "name": "stdout",
     "output_type": "stream",
     "text": [
      "a 56\n",
      "c 3\n",
      "a from func3 56\n",
      "d from func3 15\n",
      "b 99\n"
     ]
    },
    {
     "ename": "NameError",
     "evalue": "name 'd' is not defined",
     "output_type": "error",
     "traceback": [
      "\u001b[31m---------------------------------------------------------------------------\u001b[39m",
      "\u001b[31mNameError\u001b[39m                                 Traceback (most recent call last)",
      "\u001b[36mCell\u001b[39m\u001b[36m \u001b[39m\u001b[32mIn[15]\u001b[39m\u001b[32m, line 22\u001b[39m\n\u001b[32m     20\u001b[39m a = \u001b[32m56\u001b[39m\n\u001b[32m     21\u001b[39m func1()\n\u001b[32m---> \u001b[39m\u001b[32m22\u001b[39m \u001b[43mfunc2\u001b[49m\u001b[43m(\u001b[49m\u001b[32;43m99\u001b[39;49m\u001b[43m)\u001b[49m\n\u001b[32m     23\u001b[39m \u001b[38;5;66;03m##\u001b[39;00m\n",
      "\u001b[36mCell\u001b[39m\u001b[36m \u001b[39m\u001b[32mIn[15]\u001b[39m\u001b[32m, line 18\u001b[39m, in \u001b[36mfunc2\u001b[39m\u001b[34m(b)\u001b[39m\n\u001b[32m     16\u001b[39m \u001b[38;5;28;01mdef\u001b[39;00m\u001b[38;5;250m \u001b[39m\u001b[34mfunc2\u001b[39m(b):\n\u001b[32m     17\u001b[39m     \u001b[38;5;28mprint\u001b[39m(\u001b[33m'\u001b[39m\u001b[33mb\u001b[39m\u001b[33m'\u001b[39m, b)\n\u001b[32m---> \u001b[39m\u001b[32m18\u001b[39m     \u001b[38;5;28mprint\u001b[39m(\u001b[33m'\u001b[39m\u001b[33md from func2\u001b[39m\u001b[33m'\u001b[39m, \u001b[43md\u001b[49m)\n",
      "\u001b[31mNameError\u001b[39m: name 'd' is not defined"
     ]
    }
   ],
   "source": [
    "##\n",
    "\n",
    "def func1():\n",
    "    print('a', a)\n",
    "    d = 15\n",
    "    def func3(c):\n",
    "        print('c', c)\n",
    "        print('a from func3', a)\n",
    "        print('d from func3', d)\n",
    "        \n",
    "    func3(3)\n",
    "    \n",
    "\n",
    "    \n",
    "\n",
    "def func2(b):\n",
    "    print('b', b)\n",
    "    print('d from func2', d)\n",
    "    \n",
    "a = 56\n",
    "func1()\n",
    "func2(99)\n",
    "##"
   ]
  },
  {
   "cell_type": "code",
   "execution_count": 18,
   "id": "920ec82b-e9a2-4a96-8970-f0d2dafd717c",
   "metadata": {},
   "outputs": [
    {
     "name": "stdout",
     "output_type": "stream",
     "text": [
      "Global reporting!\n"
     ]
    }
   ],
   "source": [
    "\n",
    "variable = 'Global reporting!'\n",
    "def use_variable_global():\n",
    "    ## since variable is outside the function\n",
    "    print(variable)\n",
    "\n",
    "use_variable_global()"
   ]
  },
  {
   "cell_type": "code",
   "execution_count": 20,
   "id": "a0e42e5c-03ab-495e-be1d-926e59780850",
   "metadata": {},
   "outputs": [
    {
     "name": "stdout",
     "output_type": "stream",
     "text": [
      "Local reporting!\n",
      "Global reporting!\n"
     ]
    }
   ],
   "source": [
    "def use_variable_local():\n",
    "    variable = 'Local reporting!'\n",
    "    print(variable)\n",
    "\n",
    "use_variable_local()\n",
    "print(variable)"
   ]
  },
  {
   "cell_type": "code",
   "execution_count": 22,
   "id": "f9db693c-0f46-4ed1-b848-ff42d28059f3",
   "metadata": {},
   "outputs": [
    {
     "name": "stdout",
     "output_type": "stream",
     "text": [
      "I have been changed!\n",
      "I have been changed!\n"
     ]
    }
   ],
   "source": [
    "def change_global_inside_function():\n",
    "    global variable\n",
    "    variable = 'I have been changed!'\n",
    "    print(variable)\n",
    "change_global_inside_function()\n",
    "print(variable)"
   ]
  },
  {
   "cell_type": "code",
   "execution_count": 24,
   "id": "659e01f7-a928-446b-8d01-8f9686b68633",
   "metadata": {},
   "outputs": [
    {
     "name": "stdout",
     "output_type": "stream",
     "text": [
      "my_list before change inside function1 [1, 2, 3]\n",
      "my_variable before change inside function1 4\n",
      "my_list after change inside function1 [1, 2, 3, 30]\n",
      "my_variable after change inside function1 10\n",
      "[1, 2, 3, 30] 4\n"
     ]
    }
   ],
   "source": [
    "def function1(my_list, my_variable):\n",
    "\tprint('my_list before change inside function1', my_list)\n",
    "\tprint('my_variable before change inside function1', my_variable)\n",
    "\tmy_list.append(30)\n",
    "\tmy_variable = 10\n",
    "\n",
    "\tprint('my_list after change inside function1', my_list)\n",
    "\tprint('my_variable after change inside function1', my_variable)\n",
    "\n",
    "my_list = [1, 2, 3]\n",
    "my_variable = 4\n",
    "\n",
    "function1(my_list, my_variable)\n",
    "print(my_list, my_variable)"
   ]
  },
  {
   "cell_type": "code",
   "execution_count": 25,
   "id": "0977bf67-20cc-4dbb-84c6-41d2e3d74ae2",
   "metadata": {},
   "outputs": [
    {
     "name": "stdout",
     "output_type": "stream",
     "text": [
      "my_list after change inside function2 [1, 2, 3, 90]\n",
      "my_variable after change inside function2 45\n",
      "[1, 2, 3] 4\n"
     ]
    }
   ],
   "source": [
    "def function2(my_list, my_vairable):\n",
    "\t# https://stackoverflow.com/questions/2612802/how-to-clone-or-copy-a-list\n",
    "\n",
    "\tmy_list = my_list[:] # quiz deep copy vs shallow copy\n",
    "\tmy_list.append(90)\n",
    "\tmy_variable = 45\n",
    "\n",
    "\tprint('my_list after change inside function2', my_list)\n",
    "\tprint('my_variable after change inside function2', my_variable)\n",
    "\n",
    "\n",
    "my_list = [1, 2, 3]\n",
    "my_variable = 4\n",
    "\n",
    "function2(my_list, my_variable)\n",
    "print(my_list, my_variable)"
   ]
  },
  {
   "cell_type": "code",
   "execution_count": 32,
   "id": "aea9acac-7e1a-4142-99f0-013fa808c9e8",
   "metadata": {},
   "outputs": [
    {
     "name": "stdout",
     "output_type": "stream",
     "text": [
      "my_list after change inside function2 [1, 2, 3, [44, 90]]\n",
      "my_variable after change inside function2 45\n",
      "[1, 2, 3, [44]] 4\n"
     ]
    }
   ],
   "source": [
    "def function2(my_list, my_vairable):\n",
    "    # https://stackoverflow.com/questions/2612802/how-to-clone-or-copy-a-list\n",
    "    import copy\n",
    "    my_list = copy.deepcopy(my_list) # quiz deep copy vs shallow copy\n",
    "    my_list[-1].append(90)\n",
    "    my_variable = 45\n",
    "\n",
    "    print('my_list after change inside function2', my_list)\n",
    "    print('my_variable after change inside function2', my_variable)\n",
    "\n",
    "\n",
    "my_list = [1, 2, 3, [44,]]\n",
    "my_variable = 4\n",
    "\n",
    "function2(my_list, my_variable)\n",
    "print(my_list, my_variable)"
   ]
  },
  {
   "cell_type": "code",
   "execution_count": 34,
   "id": "02d6e9aa-73a2-4c7f-967a-2247dfd6d5ab",
   "metadata": {},
   "outputs": [
    {
     "name": "stdout",
     "output_type": "stream",
     "text": [
      "The average score is 88.4.\n"
     ]
    }
   ],
   "source": [
    "# function \n",
    "def average(numbers): \n",
    "  return sum(numbers) / len(numbers)\n",
    "\n",
    "# data\n",
    "scores = [80, 90, 95, 92, 85]\n",
    "\n",
    "# User has to know which data to pass into function\n",
    "# to get desired output\n",
    "print(f'The average score is {average(scores)}.')\n"
   ]
  },
  {
   "cell_type": "code",
   "execution_count": null,
   "id": "009bc969-290d-49ba-a313-f3f060354697",
   "metadata": {},
   "outputs": [],
   "source": [
    "class ScoreList:\n",
    "    pass #empty\n",
    "\n",
    "def my_func():\n",
    "    pass #empty"
   ]
  },
  {
   "cell_type": "code",
   "execution_count": 37,
   "id": "9181ac0a-f763-43f2-bf30-5f34075ff288",
   "metadata": {},
   "outputs": [
    {
     "name": "stdout",
     "output_type": "stream",
     "text": [
      "The final score is 88.4.\n"
     ]
    }
   ],
   "source": [
    "class ScoreList:\n",
    "  def __init__(self, scores):\n",
    "    self.scores = scores\n",
    "\n",
    "  def average(self):\n",
    "    return sum(self.scores) / len(self.scores)\n",
    "\n",
    "scores = ScoreList([80, 90, 95, 92, 85]) \n",
    "print(f'The final score is {scores.average()}.')   "
   ]
  },
  {
   "cell_type": "code",
   "execution_count": 41,
   "id": "4b3d39f1-e4c1-4318-b280-a66e0c3dc36e",
   "metadata": {},
   "outputs": [
    {
     "name": "stdout",
     "output_type": "stream",
     "text": [
      "I am inside init\n",
      "I am inside init\n"
     ]
    }
   ],
   "source": [
    "class ScoresList:\n",
    "  def __init__(self):\n",
    "    print('I am inside init')\n",
    "\n",
    "s1 = ScoresList()\n",
    "\n",
    "s2 = ScoresList()\n"
   ]
  },
  {
   "cell_type": "code",
   "execution_count": 43,
   "id": "fcdd26f1-eeb1-4746-8636-b1ec5cc2cd6d",
   "metadata": {},
   "outputs": [
    {
     "name": "stdout",
     "output_type": "stream",
     "text": [
      "[1, 2, 3, 4]\n"
     ]
    },
    {
     "ename": "AttributeError",
     "evalue": "'ScoresList' object has no attribute 'scores'",
     "output_type": "error",
     "traceback": [
      "\u001b[31m---------------------------------------------------------------------------\u001b[39m",
      "\u001b[31mAttributeError\u001b[39m                            Traceback (most recent call last)",
      "\u001b[36mCell\u001b[39m\u001b[36m \u001b[39m\u001b[32mIn[43]\u001b[39m\u001b[32m, line 6\u001b[39m\n\u001b[32m      3\u001b[39m     \u001b[38;5;28mprint\u001b[39m(scores)\n\u001b[32m      5\u001b[39m s = ScoresList([\u001b[32m1\u001b[39m, \u001b[32m2\u001b[39m, \u001b[32m3\u001b[39m, \u001b[32m4\u001b[39m])\n\u001b[32m----> \u001b[39m\u001b[32m6\u001b[39m \u001b[43ms\u001b[49m\u001b[43m.\u001b[49m\u001b[43mscores\u001b[49m\n",
      "\u001b[31mAttributeError\u001b[39m: 'ScoresList' object has no attribute 'scores'"
     ]
    }
   ],
   "source": [
    "class ScoresList:\n",
    "  def __init__(self, scores):\n",
    "    print(scores)\n",
    "\n",
    "s = ScoresList([1, 2, 3, 4])\n",
    "s.scores"
   ]
  },
  {
   "cell_type": "code",
   "execution_count": 55,
   "id": "dab89ee7-f50d-4753-82b5-470d41957ca6",
   "metadata": {},
   "outputs": [
    {
     "ename": "TypeError",
     "evalue": "ScoresList() takes no arguments",
     "output_type": "error",
     "traceback": [
      "\u001b[31m---------------------------------------------------------------------------\u001b[39m",
      "\u001b[31mTypeError\u001b[39m                                 Traceback (most recent call last)",
      "\u001b[36mCell\u001b[39m\u001b[36m \u001b[39m\u001b[32mIn[55]\u001b[39m\u001b[32m, line 5\u001b[39m\n\u001b[32m      2\u001b[39m \u001b[38;5;28;01mclass\u001b[39;00m\u001b[38;5;250m \u001b[39m\u001b[34;01mScoresList\u001b[39;00m(ABC):\n\u001b[32m      3\u001b[39m     \u001b[38;5;28;01mpass\u001b[39;00m\n\u001b[32m----> \u001b[39m\u001b[32m5\u001b[39m \u001b[43mScoresList\u001b[49m\u001b[43m(\u001b[49m\u001b[43m[\u001b[49m\u001b[32;43m1\u001b[39;49m\u001b[43m,\u001b[49m\u001b[43m \u001b[49m\u001b[32;43m2\u001b[39;49m\u001b[43m]\u001b[49m\u001b[43m)\u001b[49m\n",
      "\u001b[31mTypeError\u001b[39m: ScoresList() takes no arguments"
     ]
    }
   ],
   "source": [
    "from abc import ABC\n",
    "class ScoresList(ABC):\n",
    "    pass\n",
    "\n",
    "ScoresList([1, 2])"
   ]
  },
  {
   "cell_type": "code",
   "execution_count": null,
   "id": "bdb6270d-7120-40ee-a23f-6e21c84f24ce",
   "metadata": {},
   "outputs": [],
   "source": []
  },
  {
   "cell_type": "code",
   "execution_count": null,
   "id": "f7dff8e2-8998-4837-804d-442a62eb2ba6",
   "metadata": {},
   "outputs": [],
   "source": [
    "# AttributeError: 'ScoresList' object has no attribute 'scores'\n",
    "# both methods and saved data inside a class are called attribute"
   ]
  },
  {
   "cell_type": "code",
   "execution_count": 52,
   "id": "4dc916b3-cc81-4916-aa09-64e3eceed66d",
   "metadata": {},
   "outputs": [
    {
     "data": {
      "text/plain": [
       "[1, 2, 3, 4]"
      ]
     },
     "execution_count": 52,
     "metadata": {},
     "output_type": "execute_result"
    }
   ],
   "source": [
    "class ScoresList:\n",
    "  def __init__(self, scores):\n",
    "    self.scores = scores\n",
    "\n",
    "s2 = ScoresList([1, 2, 3, 4])\n",
    "s2.scores"
   ]
  },
  {
   "cell_type": "code",
   "execution_count": 47,
   "id": "5615cbd5-c084-449c-b347-735fd54dfd5d",
   "metadata": {},
   "outputs": [
    {
     "data": {
      "text/plain": [
       "[5, 6, 7, 8]"
      ]
     },
     "execution_count": 47,
     "metadata": {},
     "output_type": "execute_result"
    }
   ],
   "source": [
    "s3 = ScoresList([5, 6, 7, 8])\n",
    "s3.scores"
   ]
  },
  {
   "cell_type": "code",
   "execution_count": 57,
   "id": "5e2b9b94-84c1-4608-84c1-30269f6bae11",
   "metadata": {},
   "outputs": [],
   "source": [
    "x = 1"
   ]
  },
  {
   "cell_type": "code",
   "execution_count": null,
   "id": "f92b326f-3f09-475d-b9ff-415243a7987b",
   "metadata": {},
   "outputs": [],
   "source": [
    "x."
   ]
  },
  {
   "cell_type": "code",
   "execution_count": null,
   "id": "4b0f173e-5ebd-4d97-a2db-3f8fbb8bb69e",
   "metadata": {},
   "outputs": [],
   "source": [
    "s."
   ]
  },
  {
   "cell_type": "code",
   "execution_count": 58,
   "id": "78822bd2-a5f5-428f-81e1-fab3cf5e281f",
   "metadata": {},
   "outputs": [],
   "source": [
    "class Point:\n",
    "    def __init__(self, x, y):\n",
    "        self.x = x\n",
    "        self.y = y\n",
    "\n",
    "p1 = Point(1, 2)\n",
    "p2 = Point(3, 4)\n"
   ]
  },
  {
   "cell_type": "code",
   "execution_count": 59,
   "id": "b67a605d-c40f-4821-8eef-0caa8a37b50b",
   "metadata": {},
   "outputs": [
    {
     "name": "stdout",
     "output_type": "stream",
     "text": [
      "<__main__.Point object at 0x7b745d46ba40>\n",
      "<__main__.Point object at 0x7b745ddc2960>\n"
     ]
    }
   ],
   "source": [
    "p1 = Point(10, 10)\n",
    "p2 = Point(10, 10)\n",
    "print(p1)\n",
    "print(p2)"
   ]
  },
  {
   "cell_type": "code",
   "execution_count": 60,
   "id": "b722f63c-1ef1-41e0-ab6b-91d3be851dfb",
   "metadata": {},
   "outputs": [
    {
     "name": "stdout",
     "output_type": "stream",
     "text": [
      "False\n"
     ]
    }
   ],
   "source": [
    "print(p1 == p2)"
   ]
  },
  {
   "cell_type": "code",
   "execution_count": 63,
   "id": "5624f9ad-af14-435a-b961-c06f19c4b27d",
   "metadata": {},
   "outputs": [
    {
     "name": "stdout",
     "output_type": "stream",
     "text": [
      "False\n"
     ]
    }
   ],
   "source": [
    "print(p1 is p2)"
   ]
  },
  {
   "cell_type": "code",
   "execution_count": 66,
   "id": "19a193b6-6aad-4a2a-8722-9dcefaf112ae",
   "metadata": {},
   "outputs": [
    {
     "data": {
      "text/plain": [
       "True"
      ]
     },
     "execution_count": 66,
     "metadata": {},
     "output_type": "execute_result"
    }
   ],
   "source": [
    "x = 1\n",
    "y = 1\n",
    "x is y"
   ]
  },
  {
   "cell_type": "code",
   "execution_count": 67,
   "id": "fefc8982-704e-4a8e-b597-7c24cbf5297c",
   "metadata": {},
   "outputs": [
    {
     "name": "stdout",
     "output_type": "stream",
     "text": [
      "Point(x=10, y=10)\n",
      "Point(x=10, y=10)\n"
     ]
    }
   ],
   "source": [
    "from collections import namedtuple\n",
    "Point = namedtuple('Point', 'x y')\n",
    "\n",
    "p1 = Point(10, 10)\n",
    "p2 = Point(10, 10)\n",
    "print(p1)\n",
    "print(p2)"
   ]
  },
  {
   "cell_type": "code",
   "execution_count": 68,
   "id": "900024c0-4f7c-4f2a-949d-5092ff34a2a6",
   "metadata": {},
   "outputs": [
    {
     "data": {
      "text/plain": [
       "True"
      ]
     },
     "execution_count": 68,
     "metadata": {},
     "output_type": "execute_result"
    }
   ],
   "source": [
    "p1 == p2"
   ]
  },
  {
   "cell_type": "code",
   "execution_count": 69,
   "id": "feab5137-fe3b-420f-af81-b25ff54dc3cd",
   "metadata": {},
   "outputs": [
    {
     "data": {
      "text/plain": [
       "False"
      ]
     },
     "execution_count": 69,
     "metadata": {},
     "output_type": "execute_result"
    }
   ],
   "source": [
    "p1 is p2"
   ]
  },
  {
   "cell_type": "code",
   "execution_count": 70,
   "id": "fa527144-db37-4583-a99e-388051c895c6",
   "metadata": {},
   "outputs": [
    {
     "data": {
      "text/plain": [
       "135739723801472"
      ]
     },
     "execution_count": 70,
     "metadata": {},
     "output_type": "execute_result"
    }
   ],
   "source": [
    "id(p1)"
   ]
  },
  {
   "cell_type": "code",
   "execution_count": 71,
   "id": "c0ee0153-a49b-4505-81a9-48e7cbbe640a",
   "metadata": {},
   "outputs": [
    {
     "data": {
      "text/plain": [
       "135739723799040"
      ]
     },
     "execution_count": 71,
     "metadata": {},
     "output_type": "execute_result"
    }
   ],
   "source": [
    "id(p2)"
   ]
  },
  {
   "cell_type": "code",
   "execution_count": 72,
   "id": "a4f57c64-6281-4481-a717-4279a2c85fc5",
   "metadata": {},
   "outputs": [
    {
     "name": "stdout",
     "output_type": "stream",
     "text": [
      "True\n",
      "True\n"
     ]
    }
   ],
   "source": [
    "x = {1: 2, 3:4}\n",
    "y = x\n",
    "print(x == y)\n",
    "print(x is y)"
   ]
  },
  {
   "cell_type": "code",
   "execution_count": 74,
   "id": "e44adfc0-bdf2-41ab-b9bb-4cfa6d1e02b9",
   "metadata": {},
   "outputs": [
    {
     "name": "stdout",
     "output_type": "stream",
     "text": [
      "True\n",
      "False\n"
     ]
    }
   ],
   "source": [
    "x = {1: 2, 3:4}\n",
    "y = {1: 2, 3:4}\n",
    "print(x == y)\n",
    "print(x is y)"
   ]
  },
  {
   "cell_type": "code",
   "execution_count": null,
   "id": "c28400fc-43e6-4513-8d1b-c712334525d0",
   "metadata": {},
   "outputs": [],
   "source": []
  },
  {
   "cell_type": "code",
   "execution_count": 73,
   "id": "827f560c-f5ee-42e8-b4eb-0d3274c817d1",
   "metadata": {},
   "outputs": [
    {
     "name": "stdout",
     "output_type": "stream",
     "text": [
      "True\n",
      "False\n"
     ]
    }
   ],
   "source": [
    "x = {3:4, 1:2}\n",
    "y = {1:2, 3:4}\n",
    "print(x == y)\n",
    "print(x is y)"
   ]
  },
  {
   "cell_type": "code",
   "execution_count": 79,
   "id": "be4b480a-195b-4276-a9d6-2ad136d136f9",
   "metadata": {},
   "outputs": [
    {
     "name": "stdout",
     "output_type": "stream",
     "text": [
      "The final score is 88.4.\n"
     ]
    }
   ],
   "source": [
    "class ScoreList():\n",
    "    def __init__(self, scores):\n",
    "        self.scores = tuple(scores)\n",
    "\n",
    "    def average(self):\n",
    "        return sum(self.scores) / len(self.scores)\n",
    "\n",
    "l1 = [80, 90, 95, 92, 85]\n",
    "scores = ScoreList(l1) \n",
    "print(f'The final score is {scores.average()}.') \n",
    " "
   ]
  },
  {
   "cell_type": "code",
   "execution_count": 80,
   "id": "6cdbff8d-2a7a-442e-ac52-914d6bcc923f",
   "metadata": {},
   "outputs": [
    {
     "name": "stdout",
     "output_type": "stream",
     "text": [
      "The final score is 88.4.\n"
     ]
    }
   ],
   "source": [
    "l1.pop()\n",
    "print(f'The final score is {scores.average()}.')   "
   ]
  },
  {
   "cell_type": "code",
   "execution_count": null,
   "id": "8f139fe2-e08b-4fcb-a174-38f67ae5f56e",
   "metadata": {},
   "outputs": [],
   "source": [
    "scores = [['John', [1, 2, 34]], ['Jane', [1, 3, 4]]]"
   ]
  },
  {
   "cell_type": "code",
   "execution_count": 83,
   "id": "805fac7f-3aeb-446f-91ee-2b365679166c",
   "metadata": {},
   "outputs": [
    {
     "data": {
      "text/plain": [
       "True"
      ]
     },
     "execution_count": 83,
     "metadata": {},
     "output_type": "execute_result"
    }
   ],
   "source": [
    "(1, 2, 3) == [1, 2, 3,]"
   ]
  },
  {
   "cell_type": "code",
   "execution_count": 101,
   "id": "cbcce0ad-bccf-4677-bfa7-a450c1f331ed",
   "metadata": {},
   "outputs": [],
   "source": [
    "class Point:\n",
    "    def __init__(self, x, y):\n",
    "        self.x = x\n",
    "        self.y = y\n",
    "\n",
    "    def __repr__(self):\n",
    "        # extract representation\n",
    "        return f'Point({self.x}, {self.y})'\n",
    "\n",
    "    def __str__(self):\n",
    "        # human readable\n",
    "        return f\"x={self.x}, y={self.y}\" # quiz\n",
    "\n",
    "\n",
    "\n",
    "p1 = Point(10, 10)"
   ]
  },
  {
   "cell_type": "code",
   "execution_count": 102,
   "id": "0cc88f4d-ffc9-48dd-9455-1d05fd7cdd46",
   "metadata": {},
   "outputs": [
    {
     "name": "stdout",
     "output_type": "stream",
     "text": [
      "x=10, y=10\n"
     ]
    }
   ],
   "source": [
    "print(p1)"
   ]
  },
  {
   "cell_type": "code",
   "execution_count": 100,
   "id": "31c1fd54-1455-41fb-bddf-799abb857935",
   "metadata": {},
   "outputs": [
    {
     "data": {
      "text/plain": [
       "Point(10, 10)"
      ]
     },
     "execution_count": 100,
     "metadata": {},
     "output_type": "execute_result"
    }
   ],
   "source": [
    "p1"
   ]
  },
  {
   "cell_type": "raw",
   "id": "2364406f-c4db-460d-aea5-be85bc21902c",
   "metadata": {},
   "source": [
    "print --> __str__ --> __repr__\n",
    "without print --> __repr__"
   ]
  },
  {
   "cell_type": "code",
   "execution_count": 104,
   "id": "3a6bc969-b9c1-4485-bd82-e1b277c12285",
   "metadata": {},
   "outputs": [
    {
     "name": "stdout",
     "output_type": "stream",
     "text": [
      "x: 10; y: 10\n",
      "x: 10; y: 10\n",
      "True\n",
      "False\n"
     ]
    }
   ],
   "source": [
    "from typing import NamedTuple\n",
    "\n",
    "class Point(NamedTuple):\n",
    "    x: int\n",
    "    y: int\n",
    "\n",
    "\n",
    "    def __str__(self):\n",
    "        return f'x: {self.x}; y: {self.y}'\n",
    "\n",
    "p1 = Point(10, 10)\n",
    "p2 = Point(10, 10)\n",
    "print(p1)\n",
    "print(p2)\n",
    "print(p1 == p2)\n",
    "print(p1 is p2)"
   ]
  },
  {
   "cell_type": "code",
   "execution_count": 105,
   "id": "97b96a3c-ad11-4873-a9f9-475cd34abad7",
   "metadata": {},
   "outputs": [
    {
     "ename": "AttributeError",
     "evalue": "can't set attribute",
     "output_type": "error",
     "traceback": [
      "\u001b[31m---------------------------------------------------------------------------\u001b[39m",
      "\u001b[31mAttributeError\u001b[39m                            Traceback (most recent call last)",
      "\u001b[36mCell\u001b[39m\u001b[36m \u001b[39m\u001b[32mIn[105]\u001b[39m\u001b[32m, line 1\u001b[39m\n\u001b[32m----> \u001b[39m\u001b[32m1\u001b[39m \u001b[43mp1\u001b[49m\u001b[43m.\u001b[49m\u001b[43mx\u001b[49m = \u001b[32m20\u001b[39m\n",
      "\u001b[31mAttributeError\u001b[39m: can't set attribute"
     ]
    }
   ],
   "source": [
    "p1.x = 20"
   ]
  },
  {
   "cell_type": "code",
   "execution_count": 106,
   "id": "85813388-a328-460f-80c9-57777e186fdf",
   "metadata": {},
   "outputs": [
    {
     "name": "stdout",
     "output_type": "stream",
     "text": [
      "x: 10; y: 10\n",
      "x: 10; y: 10\n",
      "True\n",
      "False\n"
     ]
    }
   ],
   "source": [
    "from dataclasses import dataclass\n",
    "\n",
    "@dataclass\n",
    "class Point:\n",
    "    x: int\n",
    "    y: int\n",
    "\n",
    "    def __str__(self):\n",
    "        return f'x: {self.x}; y: {self.y}'\n",
    "\n",
    "p1 = Point(10, 10)\n",
    "p2 = Point(10, 10)\n",
    "print(p1)\n",
    "print(p2)\n",
    "print(p1 == p2)\n",
    "print(p1 is p2)"
   ]
  },
  {
   "cell_type": "code",
   "execution_count": 107,
   "id": "838c9e4b-b51f-4b72-ad0d-28f5263bb656",
   "metadata": {},
   "outputs": [
    {
     "name": "stdout",
     "output_type": "stream",
     "text": [
      "{'x': 10, 'y': 12}\n",
      "{'x': 10, 'y': 12}\n",
      "{'x': 10, 'y': 12}\n"
     ]
    }
   ],
   "source": [
    "from collections import namedtuple\n",
    "from typing import NamedTuple\n",
    "from dataclasses import dataclass\n",
    "import dataclasses \n",
    "\n",
    "\n",
    "Pointnamedtuple = namedtuple('Point', 'x y')\n",
    "\n",
    "\n",
    "class PointNamedTuple(NamedTuple):\n",
    "    x: int\n",
    "    y: int\n",
    "\n",
    "    def __str__(self):\n",
    "        return f'x: {self.x}; y: {self.y}'\n",
    "\n",
    "@dataclass\n",
    "class Pointdataclass:\n",
    "    x: int\n",
    "    y: int\n",
    "\n",
    "    def __str__(self):\n",
    "        return f'x: {self.x}; y: {self.y}'\n",
    "\n",
    "p1 = Pointnamedtuple(10, 12)\n",
    "p2 = PointNamedTuple(10, 12)\n",
    "p3 = Pointdataclass(10, 12)\n",
    "print(p1._asdict())\n",
    "print(p2._asdict())\n",
    "print(dataclasses.asdict(p3))"
   ]
  },
  {
   "cell_type": "code",
   "execution_count": 108,
   "id": "f1337d85-bf1f-4cd6-a397-5f1c1b59f976",
   "metadata": {},
   "outputs": [
    {
     "name": "stdout",
     "output_type": "stream",
     "text": [
      "Point(x=5, y=12)\n",
      "x: 5; y: 12\n",
      "x: 5; y: 12\n"
     ]
    }
   ],
   "source": [
    "from collections import namedtuple\n",
    "from typing import NamedTuple\n",
    "from dataclasses import dataclass\n",
    "import dataclasses \n",
    "\n",
    "\n",
    "Pointnamedtuple = namedtuple('Point', 'x y')\n",
    "\n",
    "\n",
    "class PointNamedTuple(NamedTuple):\n",
    "    x: int\n",
    "    y: int\n",
    "\n",
    "    def __str__(self):\n",
    "        return f'x: {self.x}; y: {self.y}'\n",
    "\n",
    "@dataclass\n",
    "class Pointdataclass:\n",
    "    x: int\n",
    "    y: int\n",
    "\n",
    "    def __str__(self):\n",
    "        return f'x: {self.x}; y: {self.y}'\n",
    "\n",
    "p1 = Pointnamedtuple(10, 12)\n",
    "p2 = PointNamedTuple(10, 12)\n",
    "p3 = Pointdataclass(10, 12)\n",
    "print(p1._replace(x=5))\n",
    "print(p2._replace(x=5))\n",
    "print(dataclasses.replace(p3, x=5))"
   ]
  },
  {
   "cell_type": "code",
   "execution_count": 110,
   "id": "cebaf6f5-c0e2-48fb-8c6d-dc9091339f48",
   "metadata": {},
   "outputs": [
    {
     "name": "stdout",
     "output_type": "stream",
     "text": [
      "Point(x=10, y=12) x: 10; y: 12 x: 10; y: 12\n"
     ]
    }
   ],
   "source": [
    "print(p1, p2, p3)"
   ]
  },
  {
   "cell_type": "code",
   "execution_count": 111,
   "id": "ec377749-7ce1-4f17-b807-1ea30d0c4a7a",
   "metadata": {},
   "outputs": [
    {
     "name": "stdout",
     "output_type": "stream",
     "text": [
      "Point(x=1, y=5)\n"
     ]
    }
   ],
   "source": [
    "Point = namedtuple('Point', 'x y', defaults=[5])\n",
    "p1 = Point(1)\n",
    "print(p1)"
   ]
  },
  {
   "cell_type": "code",
   "execution_count": 113,
   "id": "2a4f9bdc-7fe6-4be0-acba-a79486754b64",
   "metadata": {},
   "outputs": [
    {
     "name": "stdout",
     "output_type": "stream",
     "text": [
      "Point(x=1, y=10)\n"
     ]
    }
   ],
   "source": [
    "Point = namedtuple('Point', 'x y', defaults=[10])\n",
    "p1 = Point(1)\n",
    "print(p1)"
   ]
  },
  {
   "cell_type": "code",
   "execution_count": 118,
   "id": "a55d6de4-9722-42a3-8800-b4f6d9bb6250",
   "metadata": {},
   "outputs": [
    {
     "name": "stdout",
     "output_type": "stream",
     "text": [
      "Point(x=3, y=90)\n"
     ]
    }
   ],
   "source": [
    "Point = namedtuple('Point', 'x y', defaults=[90])\n",
    "p1 = Point(3)\n",
    "print(p1)"
   ]
  },
  {
   "cell_type": "code",
   "execution_count": 119,
   "id": "8b106394-2226-48b8-a223-582e7678bcf5",
   "metadata": {},
   "outputs": [
    {
     "data": {
      "text/plain": [
       "John Doe"
      ]
     },
     "execution_count": 119,
     "metadata": {},
     "output_type": "execute_result"
    }
   ],
   "source": [
    "class Person:\n",
    "    def __init__(self, first_name, last_name, email):\n",
    "        self.first_name = first_name\n",
    "        self.last_name = last_name\n",
    "        self.email = email\n",
    "\n",
    "    def __repr__(self):\n",
    "        return f'{self.first_name} {self.last_name}'\n",
    "\n",
    "p1 = Person('John', 'Doe', 'jdoe@buffalo.edu')\n",
    "p1"
   ]
  },
  {
   "cell_type": "code",
   "execution_count": 122,
   "id": "8227a12d-0dbd-435f-b862-8fadc34d712d",
   "metadata": {},
   "outputs": [
    {
     "data": {
      "text/plain": [
       "'jdoe@buffalo.edu'"
      ]
     },
     "execution_count": 122,
     "metadata": {},
     "output_type": "execute_result"
    }
   ],
   "source": [
    "email = 'blah@blah.com'\n",
    "class Person:\n",
    "    def __init__(self, first_name, last_name, email):\n",
    "        self.first_name = first_name\n",
    "        self.last_name = last_name\n",
    "        self.email = email\n",
    "\n",
    "    def __repr__(self):\n",
    "        return f'{self.first_name} {self.last_name}'\n",
    "\n",
    "    def get_email(self):\n",
    "        return self.email # self \n",
    "\n",
    "    def get_full_name(self):\n",
    "        return f'{self.last_name}, {self.first_name}'\n",
    "\n",
    "p1 = Person('John', 'Doe', 'jdoe@buffalo.edu')\n",
    "p1.get_email()"
   ]
  },
  {
   "cell_type": "code",
   "execution_count": 123,
   "id": "fe878e91-4119-4950-a72f-c886cf7f5eb0",
   "metadata": {},
   "outputs": [
    {
     "data": {
      "text/plain": [
       "'jdoe@buffalo.edu'"
      ]
     },
     "execution_count": 123,
     "metadata": {},
     "output_type": "execute_result"
    }
   ],
   "source": [
    "p1.email"
   ]
  },
  {
   "cell_type": "code",
   "execution_count": 124,
   "id": "96e26467-1c74-4add-8af5-32384710fe72",
   "metadata": {},
   "outputs": [
    {
     "data": {
      "text/plain": [
       "'Doe, John'"
      ]
     },
     "execution_count": 124,
     "metadata": {},
     "output_type": "execute_result"
    }
   ],
   "source": [
    "p1.get_full_name()"
   ]
  }
 ],
 "metadata": {
  "kernelspec": {
   "display_name": "Python 3 (ipykernel)",
   "language": "python",
   "name": "python3"
  },
  "language_info": {
   "codemirror_mode": {
    "name": "ipython",
    "version": 3
   },
   "file_extension": ".py",
   "mimetype": "text/x-python",
   "name": "python",
   "nbconvert_exporter": "python",
   "pygments_lexer": "ipython3",
   "version": "3.12.3"
  }
 },
 "nbformat": 4,
 "nbformat_minor": 5
}
