{
 "cells": [
  {
   "cell_type": "code",
   "execution_count": 1,
   "id": "f15dbdc2-4809-438c-86e6-1e4c8377d25b",
   "metadata": {},
   "outputs": [
    {
     "data": {
      "text/plain": [
       "[0, 1, 2, 3, 4, 5, 6, 7, 8, 9, 10, 11, 12]"
      ]
     },
     "execution_count": 1,
     "metadata": {},
     "output_type": "execute_result"
    }
   ],
   "source": [
    "x = [0, 1, 2, 3, 4, 5, 6, 7, 8, 9, 10, 11, 12]\n",
    "x"
   ]
  },
  {
   "cell_type": "code",
   "execution_count": 2,
   "id": "ff1d1c15-7500-4c96-978a-a97a0f41ce0d",
   "metadata": {},
   "outputs": [],
   "source": [
    "x.append(13)"
   ]
  },
  {
   "cell_type": "code",
   "execution_count": 3,
   "id": "c8532b97-fd42-4ea2-997a-e535ced30a04",
   "metadata": {},
   "outputs": [
    {
     "data": {
      "text/plain": [
       "[0, 1, 2, 3, 4, 5, 6, 7, 8, 9, 10, 11, 12, 13]"
      ]
     },
     "execution_count": 3,
     "metadata": {},
     "output_type": "execute_result"
    }
   ],
   "source": [
    "x"
   ]
  },
  {
   "cell_type": "code",
   "execution_count": 4,
   "id": "73bac4d0-e19e-4835-bf8e-79df03cddb7d",
   "metadata": {},
   "outputs": [],
   "source": [
    "return_value = x.append(-13)\n",
    "return_value"
   ]
  },
  {
   "cell_type": "code",
   "execution_count": 5,
   "id": "887febb7-ea4f-4d6b-83f4-d08174b3b3c4",
   "metadata": {},
   "outputs": [
    {
     "name": "stdout",
     "output_type": "stream",
     "text": [
      "None\n"
     ]
    }
   ],
   "source": [
    "return_value = x.append(-13)\n",
    "print(return_value)"
   ]
  },
  {
   "cell_type": "code",
   "execution_count": 6,
   "id": "055c33fd-68d1-48b7-9b65-6acd6eea0a02",
   "metadata": {},
   "outputs": [
    {
     "data": {
      "text/plain": [
       "[0, 1, 2, 3, 4, 5, 6, 7, 8, 9, 10, 11, 12, 13, -13, -13]"
      ]
     },
     "execution_count": 6,
     "metadata": {},
     "output_type": "execute_result"
    }
   ],
   "source": [
    "x"
   ]
  },
  {
   "cell_type": "code",
   "execution_count": 10,
   "id": "47319e95-7a98-4707-a453-8f2f8e90f9c0",
   "metadata": {},
   "outputs": [
    {
     "name": "stdout",
     "output_type": "stream",
     "text": [
      "abc AbC\n"
     ]
    }
   ],
   "source": [
    "x = 'AbC'\n",
    "return_value = x.lower()\n",
    "print(return_value, x)"
   ]
  },
  {
   "cell_type": "code",
   "execution_count": 12,
   "id": "6353b2c2-9ff4-4dbc-b19d-ef5ff41b8915",
   "metadata": {},
   "outputs": [
    {
     "data": {
      "text/plain": [
       "[0, 1, 22, 2, 3, 4, 5, 6, 7, 8, 9, 10, 11, 12]"
      ]
     },
     "execution_count": 12,
     "metadata": {},
     "output_type": "execute_result"
    }
   ],
   "source": [
    "x = [0, 1, 2, 3, 4, 5, 6, 7, 8, 9, 10, 11, 12]\n",
    "\n",
    "x.insert(2, 22)\n",
    "x"
   ]
  },
  {
   "cell_type": "code",
   "execution_count": 14,
   "id": "cbea454f-d853-4258-8476-4e39c73dd76c",
   "metadata": {},
   "outputs": [
    {
     "data": {
      "text/plain": [
       "[0.0, 0, 1, 2, 3, 4, 5, 6, 7, 8, 9, 10, 11, 12]"
      ]
     },
     "execution_count": 14,
     "metadata": {},
     "output_type": "execute_result"
    }
   ],
   "source": [
    "x = [0, 1, 2, 3, 4, 5, 6, 7, 8, 9, 10, 11, 12]\n",
    "\n",
    "x.insert(0, 0.0)\n",
    "x"
   ]
  },
  {
   "cell_type": "code",
   "execution_count": 15,
   "id": "7860d084-952c-4f07-a2b5-fb597c448394",
   "metadata": {},
   "outputs": [
    {
     "data": {
      "text/plain": [
       "[0, 1, 2, 3, 4, 5, 6, 7, 8, 9, 10, 11, 3.0, 12]"
      ]
     },
     "execution_count": 15,
     "metadata": {},
     "output_type": "execute_result"
    }
   ],
   "source": [
    "x = [0, 1, 2, 3, 4, 5, 6, 7, 8, 9, 10, 11, 12]\n",
    "\n",
    "x.insert(-1, 3.0)\n",
    "x"
   ]
  },
  {
   "cell_type": "code",
   "execution_count": 17,
   "id": "562adc65-c262-4060-8f24-7a6bb2054e52",
   "metadata": {},
   "outputs": [
    {
     "name": "stdout",
     "output_type": "stream",
     "text": [
      "None [1, 2, 2, 3, 4, 5]\n"
     ]
    }
   ],
   "source": [
    "x = [1, 2, 2, 2, 3, 4, 5]\n",
    "ret_val = x.remove(2)\n",
    "print(ret_val, x)"
   ]
  },
  {
   "cell_type": "code",
   "execution_count": 18,
   "id": "72ee7908-949a-47ee-80cf-8ec46be87af2",
   "metadata": {},
   "outputs": [
    {
     "name": "stdout",
     "output_type": "stream",
     "text": [
      "5 [1, 2, 2, 2, 3, 4]\n"
     ]
    }
   ],
   "source": [
    "x = [1, 2, 2, 2, 3, 4, 5]\n",
    "ret_val = x.pop()\n",
    "print(ret_val, x)"
   ]
  },
  {
   "cell_type": "code",
   "execution_count": 19,
   "id": "4a35d4e1-d06a-4372-b4d8-49e4d2f3a6c1",
   "metadata": {},
   "outputs": [
    {
     "name": "stdout",
     "output_type": "stream",
     "text": [
      "1 [2, 2, 2, 3, 4, 5]\n"
     ]
    }
   ],
   "source": [
    "x = [1, 2, 2, 2, 3, 4, 5]\n",
    "ret_val = x.pop(0)\n",
    "print(ret_val, x)"
   ]
  },
  {
   "cell_type": "code",
   "execution_count": 20,
   "id": "724653df-ae06-46e4-85e0-4cc9c99d9387",
   "metadata": {},
   "outputs": [
    {
     "data": {
      "text/plain": [
       "1"
      ]
     },
     "execution_count": 20,
     "metadata": {},
     "output_type": "execute_result"
    }
   ],
   "source": [
    "x = [1, 2, 2, 3, 4, 5]\n",
    "x.index(2)"
   ]
  },
  {
   "cell_type": "code",
   "execution_count": 21,
   "id": "d1abe9f1-04ed-4af6-a611-f86deedccb65",
   "metadata": {},
   "outputs": [
    {
     "data": {
      "text/plain": [
       "2"
      ]
     },
     "execution_count": 21,
     "metadata": {},
     "output_type": "execute_result"
    }
   ],
   "source": [
    "x = [1, 2, 2, 3, 4, 5]\n",
    "x.count(2)"
   ]
  },
  {
   "cell_type": "code",
   "execution_count": 22,
   "id": "2ff0c1fd-b373-4dd5-8d98-ad8b253d6b61",
   "metadata": {},
   "outputs": [
    {
     "data": {
      "text/plain": [
       "[0, 1, 2, 3, 4, 5, 6, 7, 8, 9, 10, 11, 12]"
      ]
     },
     "execution_count": 22,
     "metadata": {},
     "output_type": "execute_result"
    }
   ],
   "source": [
    "numbers = [3, 4, 8, 9, 5, 6, 7, 0, 1, 2, 10, 11, 12]\n",
    "\n",
    "numbers.sort()\n",
    "numbers"
   ]
  },
  {
   "cell_type": "code",
   "execution_count": 24,
   "id": "64ef907d-fa06-4931-a8d6-825506015d0a",
   "metadata": {},
   "outputs": [
    {
     "name": "stdout",
     "output_type": "stream",
     "text": [
      "[3, 4, 8, 9, 5, 6, 7, 0, 1, 2, 10, 11, 12] [0, 1, 2, 3, 4, 5, 6, 7, 8, 9, 10, 11, 12]\n"
     ]
    }
   ],
   "source": [
    "numbers = [3, 4, 8, 9, 5, 6, 7, 0, 1, 2, 10, 11, 12]\n",
    "\n",
    "numbers2 = sorted(numbers)\n",
    "print(numbers, numbers2)"
   ]
  },
  {
   "cell_type": "code",
   "execution_count": 26,
   "id": "bde80c5b-6458-4d7a-8aa7-5207c275cd26",
   "metadata": {},
   "outputs": [
    {
     "data": {
      "text/plain": [
       "[12, 11, 10, 2, 1, 0, 7, 6, 5, 9, 8, 4, 3]"
      ]
     },
     "execution_count": 26,
     "metadata": {},
     "output_type": "execute_result"
    }
   ],
   "source": [
    "numbers = [3, 4, 8, 9, 5, 6, 7, 0, 1, 2, 10, 11, 12]\n",
    "\n",
    "numbers.reverse()\n",
    "numbers"
   ]
  },
  {
   "cell_type": "code",
   "execution_count": null,
   "id": "b3fb3c27-cf7f-4856-8005-05fac0ff1732",
   "metadata": {},
   "outputs": [],
   "source": [
    "numbers[::-1]"
   ]
  },
  {
   "cell_type": "code",
   "execution_count": 27,
   "id": "7c855b07-4023-455b-9d9a-5990df170444",
   "metadata": {},
   "outputs": [
    {
     "data": {
      "text/plain": [
       "(3, 4, 8, 9, 5, 6, 7, 0, 1, 2, 10, 11, 12)"
      ]
     },
     "execution_count": 27,
     "metadata": {},
     "output_type": "execute_result"
    }
   ],
   "source": [
    "numbers = (3, 4, 8, 9, 5, 6, 7, 0, 1, 2, 10, 11, 12)\n",
    "numbers\n"
   ]
  },
  {
   "cell_type": "code",
   "execution_count": 28,
   "id": "68932a31-8c2f-425e-bba0-9320f4d6e831",
   "metadata": {},
   "outputs": [
    {
     "ename": "AttributeError",
     "evalue": "'tuple' object has no attribute 'sort'",
     "output_type": "error",
     "traceback": [
      "\u001b[31m---------------------------------------------------------------------------\u001b[39m",
      "\u001b[31mAttributeError\u001b[39m                            Traceback (most recent call last)",
      "\u001b[36mCell\u001b[39m\u001b[36m \u001b[39m\u001b[32mIn[28]\u001b[39m\u001b[32m, line 1\u001b[39m\n\u001b[32m----> \u001b[39m\u001b[32m1\u001b[39m \u001b[43mnumbers\u001b[49m\u001b[43m.\u001b[49m\u001b[43msort\u001b[49m()\n",
      "\u001b[31mAttributeError\u001b[39m: 'tuple' object has no attribute 'sort'"
     ]
    }
   ],
   "source": [
    "numbers.sort()"
   ]
  },
  {
   "cell_type": "code",
   "execution_count": null,
   "id": "7174008d-41a8-4eca-9825-c82e71e44851",
   "metadata": {},
   "outputs": [],
   "source": [
    "sorted(numbers)"
   ]
  },
  {
   "cell_type": "code",
   "execution_count": 30,
   "id": "02b520b2-534e-4f7f-982b-7d03e8d1ff09",
   "metadata": {},
   "outputs": [],
   "source": [
    "my_tuple = (1, 2, 3, [4, 5, 6])"
   ]
  },
  {
   "cell_type": "code",
   "execution_count": 31,
   "id": "a83ecaaf-f9b5-43ee-96e4-2b34838c7f18",
   "metadata": {},
   "outputs": [
    {
     "ename": "AttributeError",
     "evalue": "'tuple' object has no attribute 'append'",
     "output_type": "error",
     "traceback": [
      "\u001b[31m---------------------------------------------------------------------------\u001b[39m",
      "\u001b[31mAttributeError\u001b[39m                            Traceback (most recent call last)",
      "\u001b[36mCell\u001b[39m\u001b[36m \u001b[39m\u001b[32mIn[31]\u001b[39m\u001b[32m, line 1\u001b[39m\n\u001b[32m----> \u001b[39m\u001b[32m1\u001b[39m \u001b[43mmy_tuple\u001b[49m\u001b[43m.\u001b[49m\u001b[43mappend\u001b[49m(\u001b[32m7\u001b[39m)\n",
      "\u001b[31mAttributeError\u001b[39m: 'tuple' object has no attribute 'append'"
     ]
    }
   ],
   "source": [
    "my_tuple.append(7)"
   ]
  },
  {
   "cell_type": "code",
   "execution_count": 32,
   "id": "a5df15de-0fe1-4371-9fe3-8efaf0e86e44",
   "metadata": {},
   "outputs": [
    {
     "data": {
      "text/plain": [
       "(1, 2, 3, [4, 5, 6, 7])"
      ]
     },
     "execution_count": 32,
     "metadata": {},
     "output_type": "execute_result"
    }
   ],
   "source": [
    "my_tuple[-1].append(7)\n",
    "my_tuple"
   ]
  },
  {
   "cell_type": "code",
   "execution_count": null,
   "id": "489eedd1-0d30-4981-b7dd-2d91e8bab1d7",
   "metadata": {},
   "outputs": [],
   "source": []
  },
  {
   "cell_type": "code",
   "execution_count": 33,
   "id": "521131da-411a-4a3d-856f-85b4e680c305",
   "metadata": {},
   "outputs": [
    {
     "ename": "TypeError",
     "evalue": "'tuple' object does not support item assignment",
     "output_type": "error",
     "traceback": [
      "\u001b[31m---------------------------------------------------------------------------\u001b[39m",
      "\u001b[31mTypeError\u001b[39m                                 Traceback (most recent call last)",
      "\u001b[36mCell\u001b[39m\u001b[36m \u001b[39m\u001b[32mIn[33]\u001b[39m\u001b[32m, line 1\u001b[39m\n\u001b[32m----> \u001b[39m\u001b[32m1\u001b[39m \u001b[43mmy_tuple\u001b[49m\u001b[43m[\u001b[49m\u001b[43m-\u001b[49m\u001b[32;43m1\u001b[39;49m\u001b[43m]\u001b[49m = \u001b[32m2\u001b[39m\n\u001b[32m      2\u001b[39m my_tuple\n",
      "\u001b[31mTypeError\u001b[39m: 'tuple' object does not support item assignment"
     ]
    }
   ],
   "source": [
    "my_tuple[-1] = 2\n",
    "my_tuple"
   ]
  },
  {
   "cell_type": "code",
   "execution_count": 34,
   "id": "ff0f7c84-a70c-41bd-939d-ebf932b312bb",
   "metadata": {},
   "outputs": [
    {
     "ename": "TypeError",
     "evalue": "'tuple' object does not support item assignment",
     "output_type": "error",
     "traceback": [
      "\u001b[31m---------------------------------------------------------------------------\u001b[39m",
      "\u001b[31mTypeError\u001b[39m                                 Traceback (most recent call last)",
      "\u001b[36mCell\u001b[39m\u001b[36m \u001b[39m\u001b[32mIn[34]\u001b[39m\u001b[32m, line 1\u001b[39m\n\u001b[32m----> \u001b[39m\u001b[32m1\u001b[39m \u001b[43mmy_tuple\u001b[49m\u001b[43m[\u001b[49m\u001b[32;43m0\u001b[39;49m\u001b[43m]\u001b[49m = \u001b[32m1\u001b[39m\n\u001b[32m      2\u001b[39m my_tuple\n",
      "\u001b[31mTypeError\u001b[39m: 'tuple' object does not support item assignment"
     ]
    }
   ],
   "source": [
    "my_tuple[0] = 1\n",
    "my_tuple"
   ]
  },
  {
   "cell_type": "code",
   "execution_count": 35,
   "id": "9e31da91-7457-47e8-82c7-6b042e230a32",
   "metadata": {},
   "outputs": [
    {
     "data": {
      "text/plain": [
       "(1, 2, 3, [33, 5, 6, 7])"
      ]
     },
     "execution_count": 35,
     "metadata": {},
     "output_type": "execute_result"
    }
   ],
   "source": [
    "my_tuple[-1][0] = 33\n",
    "my_tuple"
   ]
  },
  {
   "cell_type": "code",
   "execution_count": 36,
   "id": "3708b1f6-aae7-4b07-9d9a-e22216ff4152",
   "metadata": {},
   "outputs": [
    {
     "name": "stdout",
     "output_type": "stream",
     "text": [
      "D\n"
     ]
    }
   ],
   "source": [
    "my_string = 'Doe, John'\n",
    "print(my_string[0])"
   ]
  },
  {
   "cell_type": "code",
   "execution_count": 37,
   "id": "21ad3957-2f31-4cda-9f87-6c538cde8bc6",
   "metadata": {},
   "outputs": [
    {
     "name": "stdout",
     "output_type": "stream",
     "text": [
      "['Doe,', 'John']\n"
     ]
    }
   ],
   "source": [
    "my_string = 'Doe, John'\n",
    "print(my_string.split())"
   ]
  },
  {
   "cell_type": "code",
   "execution_count": 38,
   "id": "d255b47e-916c-453e-8e83-8e818bd3fc94",
   "metadata": {},
   "outputs": [
    {
     "name": "stdout",
     "output_type": "stream",
     "text": [
      "['Doe', ' John']\n"
     ]
    }
   ],
   "source": [
    "my_string = 'Doe, John'\n",
    "print(my_string.split(\",\"))"
   ]
  },
  {
   "cell_type": "code",
   "execution_count": 39,
   "id": "cb706e5e-530d-481d-be31-55196abc92ea",
   "metadata": {},
   "outputs": [
    {
     "name": "stdout",
     "output_type": "stream",
     "text": [
      "['Doe', 'John']\n"
     ]
    }
   ],
   "source": [
    "print(my_string.split(\", \"))"
   ]
  },
  {
   "cell_type": "code",
   "execution_count": 40,
   "id": "8b36c99f-c256-4968-9846-74622e2709d5",
   "metadata": {},
   "outputs": [
    {
     "name": "stdout",
     "output_type": "stream",
     "text": [
      "Doe John\n"
     ]
    }
   ],
   "source": [
    "last_name, first_name = my_string.split(\", \")\n",
    "print(last_name, first_name)"
   ]
  },
  {
   "cell_type": "code",
   "execution_count": 41,
   "id": "c96e6013-d948-4176-aead-f910d932bc5e",
   "metadata": {},
   "outputs": [
    {
     "name": "stdout",
     "output_type": "stream",
     "text": [
      "['2023', '05', '23']\n"
     ]
    }
   ],
   "source": [
    "date = '2023/05/23'\n",
    "print(date.split('/'))"
   ]
  },
  {
   "cell_type": "code",
   "execution_count": 42,
   "id": "46555554-c4db-4786-a51e-863ce2346460",
   "metadata": {},
   "outputs": [
    {
     "name": "stdout",
     "output_type": "stream",
     "text": [
      "2023 05 23\n"
     ]
    }
   ],
   "source": [
    "year, month, day = date.split('/')\n",
    "print(year, month, day)"
   ]
  },
  {
   "cell_type": "code",
   "execution_count": 43,
   "id": "6037700a-8c53-48ec-8907-06baba167560",
   "metadata": {},
   "outputs": [
    {
     "name": "stdout",
     "output_type": "stream",
     "text": [
      "2023 5 23\n"
     ]
    }
   ],
   "source": [
    "print(int(year), int(month), int(day))"
   ]
  },
  {
   "cell_type": "code",
   "execution_count": 46,
   "id": "7114968d-4bdb-4574-ac8f-28b588648a44",
   "metadata": {},
   "outputs": [
    {
     "name": "stdout",
     "output_type": "stream",
     "text": [
      "['range', 'start=3;end=20;step=2']\n"
     ]
    }
   ],
   "source": [
    "my_string = 'range=start=3;end=20;step=2'\n",
    "print(my_string.split('=', 1))"
   ]
  },
  {
   "cell_type": "code",
   "execution_count": 47,
   "id": "34bf1085-6c02-4e63-a2cd-4da88ea7e113",
   "metadata": {},
   "outputs": [
    {
     "data": {
      "text/plain": [
       "'start=3;end=20;step=2'"
      ]
     },
     "execution_count": 47,
     "metadata": {},
     "output_type": "execute_result"
    }
   ],
   "source": [
    "my_string = 'range=start=3;end=20;step=2'\n",
    "range_options = my_string.split('=', 1)[1]\n",
    "range_options"
   ]
  },
  {
   "cell_type": "code",
   "execution_count": 48,
   "id": "da19f2c7-bdd9-4b3e-ae06-9656e4fcdff6",
   "metadata": {},
   "outputs": [
    {
     "data": {
      "text/plain": [
       "('start=3', 'end=20', 'step=2')"
      ]
     },
     "execution_count": 48,
     "metadata": {},
     "output_type": "execute_result"
    }
   ],
   "source": [
    "start, end, step = range_options.split(';')\n",
    "start, end, step"
   ]
  },
  {
   "cell_type": "code",
   "execution_count": 49,
   "id": "3fee5c6a-749e-4a4c-9f09-3875c4ce1623",
   "metadata": {},
   "outputs": [
    {
     "data": {
      "text/plain": [
       "('3', '20', '2')"
      ]
     },
     "execution_count": 49,
     "metadata": {},
     "output_type": "execute_result"
    }
   ],
   "source": [
    "start = start.split('=')[1] # or [-1]\n",
    "end = end.split('=')[1] # or [-1]\n",
    "step = step.split('=')[1] # or [-1]\n",
    "start, end, step"
   ]
  },
  {
   "cell_type": "code",
   "execution_count": 52,
   "id": "fc1d9d3f-8f66-4c93-815a-10a106aece72",
   "metadata": {},
   "outputs": [
    {
     "data": {
      "text/plain": [
       "(1, 150, 20)"
      ]
     },
     "execution_count": 52,
     "metadata": {},
     "output_type": "execute_result"
    }
   ],
   "source": [
    "def extract_range(string):\n",
    "    range_options = string.split('=', 1)[1]\n",
    "    start, end, step = range_options.split(';')\n",
    "    start = int(start.split('=')[1]) # or [-1]\n",
    "    end = int(end.split('=')[1]) # or [-1]\n",
    "    step = int(step.split('=')[1]) # or [-1]\n",
    "    return (start, end, step)\n",
    "\n",
    "extract_range('range=start=1;end=150;step=20')\n",
    "        "
   ]
  },
  {
   "cell_type": "code",
   "execution_count": 56,
   "id": "7a5d749b-a049-4a3f-967a-ba4bbd21bb76",
   "metadata": {},
   "outputs": [
    {
     "data": {
      "text/plain": [
       "[4, 6, 2]"
      ]
     },
     "execution_count": 56,
     "metadata": {},
     "output_type": "execute_result"
    }
   ],
   "source": [
    "numbers = [3, 4, 8, 9, 5, 6, 7, 0, 1, 2, 10, 11, 12]\n",
    "rnge = 'range=start=1;end=150;step=4'\n",
    "start, end, step = extract_range(rnge)\n",
    "numbers[start:end:step]"
   ]
  },
  {
   "cell_type": "code",
   "execution_count": 57,
   "id": "aecfeca7-b938-426a-906d-ad4d1725a4e6",
   "metadata": {},
   "outputs": [
    {
     "name": "stdout",
     "output_type": "stream",
     "text": [
      "['First', 'line', 'Second', 'line', 'Third', 'line']\n"
     ]
    }
   ],
   "source": [
    "long_string='First line\\nSecond line\\nThird line'\n",
    "print(long_string.split())\n"
   ]
  },
  {
   "cell_type": "code",
   "execution_count": 58,
   "id": "e1c732f4-3c36-40c5-94ab-af5efbe994e6",
   "metadata": {},
   "outputs": [
    {
     "name": "stdout",
     "output_type": "stream",
     "text": [
      "['First line', 'Second line', 'Third line']\n"
     ]
    }
   ],
   "source": [
    "print(long_string.split('\\n'))\n"
   ]
  },
  {
   "cell_type": "code",
   "execution_count": 59,
   "id": "7db98c2b-d87a-4c3c-9268-349a5ca215b3",
   "metadata": {},
   "outputs": [
    {
     "name": "stdout",
     "output_type": "stream",
     "text": [
      "['First line', 'Second line', 'Third line']\n"
     ]
    }
   ],
   "source": [
    "print(long_string.splitlines())"
   ]
  },
  {
   "cell_type": "code",
   "execution_count": 69,
   "id": "a2a43667-3b2b-4edf-a8f2-5ffb960b8a1d",
   "metadata": {},
   "outputs": [
    {
     "name": "stdout",
     "output_type": "stream",
     "text": [
      "E Upper Case\n",
      "a Lower Case\n",
      "S Upper Case\n",
      "5 Digit\n",
      "0 Digit\n",
      "3 Digit\n",
      "! Not Alpha Numeric\n"
     ]
    }
   ],
   "source": [
    "my_string = 'EaS503!'\n",
    "\n",
    "def char_type(char):\n",
    "    if 'A' <= char <= 'Z':\n",
    "        return 'Upper Case'\n",
    "    elif 'a' <= char <= 'z':\n",
    "        return 'Lower Case'\n",
    "    elif '0' <= char <= '9':\n",
    "        return 'Digit'\n",
    "    else:\n",
    "        return 'Not Alpha Numeric'\n",
    "\n",
    "\n",
    "print(my_string[0], char_type(my_string[0]))\n",
    "print(my_string[1], char_type(my_string[1]))\n",
    "print(my_string[2], char_type(my_string[2]))\n",
    "print(my_string[3], char_type(my_string[3]))\n",
    "print(my_string[4], char_type(my_string[4]))\n",
    "print(my_string[5], char_type(my_string[5]))\n",
    "print(my_string[6], char_type(my_string[6]))"
   ]
  },
  {
   "cell_type": "code",
   "execution_count": null,
   "id": "2b7226bf-2673-474a-9636-6f95f35a9559",
   "metadata": {},
   "outputs": [],
   "source": []
  },
  {
   "cell_type": "code",
   "execution_count": null,
   "id": "aeeab16b-a57f-43cb-ba24-dcefe091c17d",
   "metadata": {},
   "outputs": [],
   "source": []
  },
  {
   "cell_type": "code",
   "execution_count": 66,
   "id": "5f1ca4c4-99a0-45ca-a029-0596e34eb02b",
   "metadata": {},
   "outputs": [
    {
     "data": {
      "text/plain": [
       "True"
      ]
     },
     "execution_count": 66,
     "metadata": {},
     "output_type": "execute_result"
    }
   ],
   "source": [
    "'A' <= 'I' <= 'Z'\n",
    "# 65 <= 73 <= 90"
   ]
  },
  {
   "cell_type": "code",
   "execution_count": 67,
   "id": "99c6fb39-1e35-41a4-94ce-7ab083527afc",
   "metadata": {},
   "outputs": [
    {
     "data": {
      "text/plain": [
       "73"
      ]
     },
     "execution_count": 67,
     "metadata": {},
     "output_type": "execute_result"
    }
   ],
   "source": [
    "ord('I')"
   ]
  },
  {
   "cell_type": "code",
   "execution_count": 68,
   "id": "89421ff4-1273-463f-b799-b23e6bc60778",
   "metadata": {},
   "outputs": [
    {
     "data": {
      "text/plain": [
       "True"
      ]
     },
     "execution_count": 68,
     "metadata": {},
     "output_type": "execute_result"
    }
   ],
   "source": [
    "'I'.isupper()\n"
   ]
  },
  {
   "cell_type": "code",
   "execution_count": 71,
   "id": "56835fcf-ceb0-462f-9dc1-1bec44c60608",
   "metadata": {},
   "outputs": [
    {
     "name": "stdout",
     "output_type": "stream",
     "text": [
      "E Upper Case\n",
      "a Lower Case\n",
      "S Upper Case\n",
      "5 Digit\n",
      "0 Digit\n",
      "3 Digit\n",
      "! Not Alpha Numeric\n"
     ]
    }
   ],
   "source": [
    "def char_type(char):\n",
    "    if char.isupper():\n",
    "        return 'Upper Case'\n",
    "    elif char.islower():\n",
    "        return 'Lower Case'\n",
    "    elif char.isdigit():\n",
    "        return 'Digit'\n",
    "    else:\n",
    "        return 'Not Alpha Numeric'\n",
    "\n",
    "print(my_string[0], char_type(my_string[0]))\n",
    "print(my_string[1], char_type(my_string[1]))\n",
    "print(my_string[2], char_type(my_string[2]))\n",
    "print(my_string[3], char_type(my_string[3]))\n",
    "print(my_string[4], char_type(my_string[4]))\n",
    "print(my_string[5], char_type(my_string[5]))\n",
    "print(my_string[6], char_type(my_string[6]))"
   ]
  },
  {
   "cell_type": "code",
   "execution_count": null,
   "id": "109cfb23-0733-4122-b2d4-7a05668ecaa2",
   "metadata": {},
   "outputs": [],
   "source": []
  },
  {
   "cell_type": "code",
   "execution_count": null,
   "id": "dda87658-fcee-4090-8106-284d4f94f85d",
   "metadata": {},
   "outputs": [],
   "source": [
    "for <ele> in <sequence>:\n",
    "    <body>"
   ]
  },
  {
   "cell_type": "code",
   "execution_count": 75,
   "id": "72fa7990-f61a-4547-b9f2-9c28d8aa2bfc",
   "metadata": {},
   "outputs": [
    {
     "name": "stdout",
     "output_type": "stream",
     "text": [
      "E Upper Case\n",
      "a Lower Case\n",
      "S Upper Case\n",
      "5 Digit\n",
      "0 Digit\n",
      "3 Digit\n",
      "! Not Alpha Numeric\n"
     ]
    }
   ],
   "source": [
    "for ele in my_string:\n",
    "    print(ele, char_type(ele))"
   ]
  },
  {
   "cell_type": "code",
   "execution_count": 76,
   "id": "75566b78-ff98-40d5-839a-6f571a0b5bc0",
   "metadata": {},
   "outputs": [
    {
     "name": "stdout",
     "output_type": "stream",
     "text": [
      "E Upper Case\n",
      "a Lower Case\n",
      "S Upper Case\n",
      "5 Digit\n",
      "0 Digit\n",
      "3 Digit\n",
      "! Not Alpha Numeric\n"
     ]
    }
   ],
   "source": [
    "for char in my_string:\n",
    "    print(char, char_type(char))"
   ]
  },
  {
   "cell_type": "code",
   "execution_count": 80,
   "id": "4b70cadf-e9be-40b9-8362-c8d75162cfa6",
   "metadata": {},
   "outputs": [
    {
     "name": "stdout",
     "output_type": "stream",
     "text": [
      "0\n",
      "1\n",
      "2\n",
      "3\n",
      "4\n",
      "5\n",
      "6\n",
      "7\n",
      "8\n",
      "9\n",
      "10\n"
     ]
    }
   ],
   "source": [
    "start = 0\n",
    "stop = 11\n",
    "step = 1\n",
    "for ele in range(start,stop,step):\n",
    "    print(ele)"
   ]
  },
  {
   "cell_type": "code",
   "execution_count": 82,
   "id": "67a1bbd2-5405-4e30-aea5-ffc18f27a444",
   "metadata": {},
   "outputs": [
    {
     "name": "stdout",
     "output_type": "stream",
     "text": [
      "0 4\n",
      "1 10\n",
      "2 3\n",
      "3 8\n",
      "4 -6\n"
     ]
    }
   ],
   "source": [
    "values = [4, 10, 3, 8, -6]\n",
    "length = len(values)\n",
    "for i in range(length):\n",
    "    print(i, values[i])"
   ]
  },
  {
   "cell_type": "code",
   "execution_count": 84,
   "id": "98a9d24f-0f41-4aae-9c96-fa0a8662a569",
   "metadata": {},
   "outputs": [
    {
     "name": "stdout",
     "output_type": "stream",
     "text": [
      "4\n",
      "10\n",
      "3\n",
      "8\n",
      "-6\n"
     ]
    }
   ],
   "source": [
    "for value in values:\n",
    "    print(value)"
   ]
  },
  {
   "cell_type": "code",
   "execution_count": 88,
   "id": "840a7b67-d50f-47d7-be70-02571f715a12",
   "metadata": {},
   "outputs": [
    {
     "name": "stdout",
     "output_type": "stream",
     "text": [
      "0 4\n",
      "1 10\n",
      "2 3\n",
      "3 8\n",
      "4 -6\n"
     ]
    }
   ],
   "source": [
    "values = [4, 10, 3, 8, -6]\n",
    "for index, value in enumerate(values):\n",
    "    print(index, value)"
   ]
  },
  {
   "cell_type": "code",
   "execution_count": 89,
   "id": "d9a8c5e0-531e-4205-9584-bf7a2e8aedc6",
   "metadata": {},
   "outputs": [
    {
     "data": {
      "text/plain": [
       "[(0, 4), (1, 10), (2, 3), (3, 8), (4, -6)]"
      ]
     },
     "execution_count": 89,
     "metadata": {},
     "output_type": "execute_result"
    }
   ],
   "source": [
    "# Important -- \n",
    "enumerate(values) # generator"
   ]
  },
  {
   "cell_type": "code",
   "execution_count": null,
   "id": "0663eeaf-16db-424d-9ac6-d8374a123b5b",
   "metadata": {},
   "outputs": [],
   "source": [
    "index, value  = (0, 4)"
   ]
  },
  {
   "cell_type": "code",
   "execution_count": 95,
   "id": "1b8b026c-9c8e-4cdd-a416-68c37f474070",
   "metadata": {},
   "outputs": [
    {
     "name": "stdout",
     "output_type": "stream",
     "text": [
      "(0, 4)\n",
      "(1, 10)\n",
      "(2, 3)\n",
      "(3, 8)\n",
      "(4, -6)\n"
     ]
    }
   ],
   "source": [
    "x = enumerate(values)\n",
    "for ele in x:\n",
    "    print(ele)"
   ]
  },
  {
   "cell_type": "code",
   "execution_count": 96,
   "id": "e66e2a5c-3278-4425-932f-56136adcfc86",
   "metadata": {},
   "outputs": [],
   "source": [
    "for ele in x:\n",
    "    print(ele)"
   ]
  },
  {
   "cell_type": "code",
   "execution_count": null,
   "id": "d3a756ca-bb89-44da-a48d-a5e0f6099b60",
   "metadata": {},
   "outputs": [],
   "source": []
  },
  {
   "cell_type": "code",
   "execution_count": 92,
   "id": "a20655f7-1be2-4bd4-9072-95ff93deea08",
   "metadata": {},
   "outputs": [],
   "source": [
    "for ele in []:\n",
    "    print(ele)"
   ]
  },
  {
   "cell_type": "code",
   "execution_count": 93,
   "id": "f480a565-532d-414e-a195-f73ffa87ccf6",
   "metadata": {},
   "outputs": [],
   "source": [
    "for ele in ():\n",
    "    print(ele)"
   ]
  },
  {
   "cell_type": "code",
   "execution_count": 94,
   "id": "4ffd8437-7541-42f5-b551-64f25bb59afd",
   "metadata": {},
   "outputs": [],
   "source": [
    "for ele in '':\n",
    "    print(ele)"
   ]
  },
  {
   "cell_type": "code",
   "execution_count": 98,
   "id": "5c257a78-56b8-4712-b3c4-b1ad58dca669",
   "metadata": {},
   "outputs": [
    {
     "name": "stdout",
     "output_type": "stream",
     "text": [
      "(0, 4)\n",
      "(1, 10)\n",
      "(2, 3)\n",
      "(3, 8)\n",
      "(4, -6)\n"
     ]
    }
   ],
   "source": [
    "for ele in enumerate(values):\n",
    "    print(ele)"
   ]
  },
  {
   "cell_type": "code",
   "execution_count": 99,
   "id": "0f8ccdec-ef5c-41a5-84c3-0609252e7345",
   "metadata": {},
   "outputs": [
    {
     "name": "stdout",
     "output_type": "stream",
     "text": [
      "(0, 4)\n",
      "(1, 10)\n",
      "(2, 3)\n",
      "(3, 8)\n",
      "(4, -6)\n"
     ]
    }
   ],
   "source": [
    "y = list(enumerate(values))\n",
    "\n",
    "for ele in y:\n",
    "    print(ele)"
   ]
  },
  {
   "cell_type": "code",
   "execution_count": 100,
   "id": "a5c73377-3bdf-46de-9aa4-7566d01ea888",
   "metadata": {},
   "outputs": [
    {
     "name": "stdout",
     "output_type": "stream",
     "text": [
      "(0, 4)\n",
      "(1, 10)\n",
      "(2, 3)\n",
      "(3, 8)\n",
      "(4, -6)\n"
     ]
    }
   ],
   "source": [
    "for ele in y:\n",
    "    print(ele)"
   ]
  },
  {
   "cell_type": "code",
   "execution_count": 102,
   "id": "84710b0e-264a-4465-84d6-54f93c132a03",
   "metadata": {},
   "outputs": [
    {
     "name": "stdout",
     "output_type": "stream",
     "text": [
      "(0, 4)\n",
      "(1, 10)\n",
      "(2, 3)\n",
      "(3, 8)\n",
      "(4, -6)\n",
      "Generator exhausted\n"
     ]
    }
   ],
   "source": [
    "# generators\n",
    "# one time use only \n",
    "# example -- enumerate --> values in and returns values with their associated index\n",
    "# when you loop over a generator, the values are \"USED UP\" -- so you cannot use them again. \n",
    "x = enumerate(values)\n",
    "for ele in x:\n",
    "    print(ele)\n",
    "print('Generator exhausted')\n",
    "for ele in x:\n",
    "    print(ele)"
   ]
  },
  {
   "cell_type": "code",
   "execution_count": 104,
   "id": "819b7776-1dc3-4551-9cb2-761fbd92c5bb",
   "metadata": {},
   "outputs": [],
   "source": [
    "y = list(enumerate(values)) # this is a list, so you can keep using it!"
   ]
  },
  {
   "cell_type": "code",
   "execution_count": 111,
   "id": "ccf47ec9-e61c-4b92-9eb2-8436ba07dece",
   "metadata": {},
   "outputs": [
    {
     "name": "stdout",
     "output_type": "stream",
     "text": [
      "(0, 1, 2, 3, 4) (4, 10, 3, 8, -6)\n"
     ]
    }
   ],
   "source": [
    "a, b = zip(*y)\n",
    "print(a,b)"
   ]
  },
  {
   "cell_type": "code",
   "execution_count": 112,
   "id": "76993a68-e2cc-4c62-a4e1-07dd8393391b",
   "metadata": {},
   "outputs": [
    {
     "data": {
      "text/plain": [
       "[8, 20, 6, 16, -12]"
      ]
     },
     "execution_count": 112,
     "metadata": {},
     "output_type": "execute_result"
    }
   ],
   "source": [
    "values = [4, 10, 3, 8, -6]\n",
    "for i in range(len(values)):\n",
    "    values[i] = values[i] * 2\n",
    "\n",
    "values"
   ]
  },
  {
   "cell_type": "code",
   "execution_count": 113,
   "id": "96983e78-b40d-4b64-ae43-bc14113e70c8",
   "metadata": {},
   "outputs": [
    {
     "name": "stdout",
     "output_type": "stream",
     "text": [
      "Li 6.941\n",
      "Na 22.98976928\n",
      "K 39.0983\n"
     ]
    }
   ],
   "source": [
    "metals = ['Li', 'Na', 'K']\n",
    "weights = [6.941, 22.98976928, 39.0983]\n",
    "for i in range(len(metals)):\n",
    "    print(metals[i], weights[i])"
   ]
  },
  {
   "cell_type": "code",
   "execution_count": 114,
   "id": "4b2ac6c8-111e-4bc8-bbeb-42198793fa90",
   "metadata": {},
   "outputs": [
    {
     "name": "stdout",
     "output_type": "stream",
     "text": [
      "Li 6.941\n",
      "Na 22.98976928\n",
      "K 39.0983\n"
     ]
    }
   ],
   "source": [
    "metals = ['Li', 'Na', 'K']\n",
    "weights = [6.941, 22.98976928, 39.0983]\n",
    "for metal, weight in zip(metals, weights):\n",
    "    print(metal, weight)"
   ]
  },
  {
   "cell_type": "code",
   "execution_count": 115,
   "id": "1dad6990-410b-400b-8192-611a87548966",
   "metadata": {},
   "outputs": [
    {
     "name": "stdout",
     "output_type": "stream",
     "text": [
      "Li 6.941\n",
      "Na 22.98976928\n",
      "K 39.0983\n"
     ]
    }
   ],
   "source": [
    "x = zip(metals, weights)\n",
    "for metal, weight in x:\n",
    "    print(metal, weight)"
   ]
  },
  {
   "cell_type": "code",
   "execution_count": 116,
   "id": "6c70254c-26a6-4083-b05d-b49a3609afec",
   "metadata": {},
   "outputs": [],
   "source": [
    "for metal, weight in x:\n",
    "    print(metal, weight)"
   ]
  },
  {
   "cell_type": "code",
   "execution_count": 117,
   "id": "053a84cb-54f3-4044-9d55-b960cd1f9b9c",
   "metadata": {},
   "outputs": [
    {
     "name": "stdout",
     "output_type": "stream",
     "text": [
      "Li\n",
      "Na\n",
      "K\n",
      "F\n",
      "Cl\n",
      "Br\n"
     ]
    }
   ],
   "source": [
    "elements = [\n",
    "    ['Li', 'Na', 'K'], \n",
    "    ['F', 'Cl', 'Br']\n",
    "]\n",
    "for inner_list in elements:\n",
    "    for item in inner_list:\n",
    "        print(item)"
   ]
  },
  {
   "cell_type": "code",
   "execution_count": 118,
   "id": "70d14ebc-129e-4700-b46c-a9e6543eeea1",
   "metadata": {},
   "outputs": [
    {
     "name": "stdout",
     "output_type": "stream",
     "text": [
      "Li 6.941\n",
      "Na 22.98976928\n",
      "K 39.0983\n"
     ]
    }
   ],
   "source": [
    "metals = ['Li', 'Na', 'K', 'Br']\n",
    "weights = [6.941, 22.98976928, 39.0983]\n",
    "for metal, weight in zip(metals, weights):\n",
    "    print(metal, weight)"
   ]
  },
  {
   "cell_type": "code",
   "execution_count": 119,
   "id": "c413de40-fde8-4334-a839-4ec3467d7851",
   "metadata": {},
   "outputs": [
    {
     "name": "stdout",
     "output_type": "stream",
     "text": [
      "3\n",
      "3\n",
      "4\n"
     ]
    }
   ],
   "source": [
    "info = [\n",
    "    ['Isaac Newton', 1643, 1727],\n",
    "    ['Charles Darwin', 1809, 1882],\n",
    "    ['Alan Turing', 1912, 1954, 'alan@bletchley.uk']\n",
    "]\n",
    "for item in info:\n",
    "    print(len(item))"
   ]
  },
  {
   "cell_type": "code",
   "execution_count": 122,
   "id": "198d742e-0e2e-4cab-a867-4fce206b82ac",
   "metadata": {},
   "outputs": [
    {
     "name": "stdout",
     "output_type": "stream",
     "text": [
      "1\n",
      "17\n",
      "173\n"
     ]
    },
    {
     "data": {
      "text/plain": [
       "173"
      ]
     },
     "execution_count": 122,
     "metadata": {},
     "output_type": "execute_result"
    }
   ],
   "source": [
    "x = [1, 7, 3]\n",
    "\n",
    "sum = 0\n",
    "for ele in x:\n",
    "    sum = sum *10 + ele\n",
    "    print(sum)\n",
    "sum"
   ]
  },
  {
   "cell_type": "code",
   "execution_count": 123,
   "id": "47935771-01ea-4e73-bc49-585a2cd56c37",
   "metadata": {},
   "outputs": [
    {
     "name": "stdout",
     "output_type": "stream",
     "text": [
      "1134000234 0001123344 4433211000\n"
     ]
    }
   ],
   "source": [
    "string1 = '1134000234'\n",
    "string2 = ''.join(sorted([ele for ele in string1]))\n",
    "string3 = ''.join(sorted([ele for ele in string1], reverse=True))\n",
    "print(string1, string2, string3)"
   ]
  },
  {
   "cell_type": "code",
   "execution_count": 124,
   "id": "07b4c2e4-ebe9-4310-8645-c7dedd16a37e",
   "metadata": {},
   "outputs": [
    {
     "data": {
      "text/plain": [
       "[0, 0, 0, 0, 0, 0, 0, 0, 0, 0]"
      ]
     },
     "execution_count": 124,
     "metadata": {},
     "output_type": "execute_result"
    }
   ],
   "source": [
    "store = [0] * 10\n",
    "store"
   ]
  },
  {
   "cell_type": "code",
   "execution_count": 125,
   "id": "43020391-7598-4f4b-8c22-3918a482d937",
   "metadata": {},
   "outputs": [
    {
     "data": {
      "text/plain": [
       "[3, 2, 1, 2, 2, 0, 0, 0, 0, 0]"
      ]
     },
     "execution_count": 125,
     "metadata": {},
     "output_type": "execute_result"
    }
   ],
   "source": [
    "store = [0] * 10\n",
    "\n",
    "for char in string1:\n",
    "    index = int(char)\n",
    "    store[index] += 1\n",
    "store"
   ]
  },
  {
   "cell_type": "code",
   "execution_count": 128,
   "id": "47bfea7e-6a8b-4fec-b926-2659374482e6",
   "metadata": {},
   "outputs": [
    {
     "data": {
      "text/plain": [
       "'000'"
      ]
     },
     "execution_count": 128,
     "metadata": {},
     "output_type": "execute_result"
    }
   ],
   "source": [
    "'' + '000'"
   ]
  },
  {
   "cell_type": "code",
   "execution_count": 131,
   "id": "1e50ba2b-d3f7-4db1-a474-1ccd648e648b",
   "metadata": {},
   "outputs": [
    {
     "name": "stdout",
     "output_type": "stream",
     "text": [
      "0000000\n",
      "0000000111\n",
      "00000001112222222\n",
      "0000000111222222233\n",
      "000000011122222223344444\n",
      "00000001112222222334444455\n",
      "0000000111222222233444445566\n",
      "0000000111222222233444445566777\n",
      "0000000111222222233444445566777\n",
      "000000011122222223344444556677799999\n",
      "000000011122222223344444556677799999\n"
     ]
    }
   ],
   "source": [
    "store = [0] * 10\n",
    "string1 = '771134022002349900001222244455669799'\n",
    "\n",
    "for char in string1:\n",
    "    index = int(char)\n",
    "    store[index] += 1\n",
    "\n",
    "sorted_string = ''\n",
    "for idx, ele in enumerate(store):\n",
    "    sorted_string += str(idx) * ele\n",
    "    print(sorted_string)\n",
    "print(sorted_string)"
   ]
  },
  {
   "cell_type": "code",
   "execution_count": 127,
   "id": "e60bde5f-33ce-4ec8-86d2-d8e9b060cab9",
   "metadata": {},
   "outputs": [
    {
     "data": {
      "text/plain": [
       "[(0, 3),\n",
       " (1, 2),\n",
       " (2, 1),\n",
       " (3, 2),\n",
       " (4, 2),\n",
       " (5, 0),\n",
       " (6, 0),\n",
       " (7, 0),\n",
       " (8, 0),\n",
       " (9, 0)]"
      ]
     },
     "execution_count": 127,
     "metadata": {},
     "output_type": "execute_result"
    }
   ],
   "source": [
    "list(enumerate(store))"
   ]
  },
  {
   "cell_type": "code",
   "execution_count": 132,
   "id": "b3568798-9113-4446-9e54-e8f70310e05f",
   "metadata": {},
   "outputs": [
    {
     "name": "stdout",
     "output_type": "stream",
     "text": [
      "10\n"
     ]
    }
   ],
   "source": [
    "number = 1234\n",
    "sum = 0\n",
    "while number:\n",
    "    sum += number % 10\n",
    "    number = number // 10 \n",
    "print(sum)"
   ]
  },
  {
   "cell_type": "code",
   "execution_count": 136,
   "id": "0ccfedf7-697c-480e-b4b5-d3fb26c19917",
   "metadata": {},
   "outputs": [
    {
     "name": "stdout",
     "output_type": "stream",
     "text": [
      "f False\n",
      "f\n",
      "i False\n",
      "fi\n",
      "r False\n",
      "fir\n",
      "s False\n",
      "firs\n",
      "t False\n",
      "first\n",
      "N True\n",
      "first_n\n",
      "a False\n",
      "first_na\n",
      "m False\n",
      "first_nam\n",
      "e False\n",
      "first_name\n"
     ]
    },
    {
     "data": {
      "text/plain": [
       "'first_name'"
      ]
     },
     "execution_count": 136,
     "metadata": {},
     "output_type": "execute_result"
    }
   ],
   "source": [
    "x = \"firstName\"\n",
    "y = ''\n",
    "for ele in x:\n",
    "    print(ele, ele.isupper())\n",
    "    if ele.isupper():\n",
    "        y += f'_{ele.lower()}'\n",
    "    else:\n",
    "        y += ele\n",
    "    print(y)\n",
    "\n",
    "y\n"
   ]
  },
  {
   "cell_type": "code",
   "execution_count": 142,
   "id": "e7736240-a5ef-41e9-967a-9d5a6619d74b",
   "metadata": {},
   "outputs": [
    {
     "data": {
      "text/plain": [
       "['surface', 'area', 'of', 'rectangle']"
      ]
     },
     "execution_count": 142,
     "metadata": {},
     "output_type": "execute_result"
    }
   ],
   "source": [
    "\"surface_area_of_rectangle\".split('_')"
   ]
  },
  {
   "cell_type": "code",
   "execution_count": 141,
   "id": "f4cc97c0-c796-4ef2-b3db-f370cb0f55e3",
   "metadata": {},
   "outputs": [
    {
     "data": {
      "text/plain": [
       "'surfaceAreaOfRectangle'"
      ]
     },
     "execution_count": 141,
     "metadata": {},
     "output_type": "execute_result"
    }
   ],
   "source": [
    "x = \"surface_area_of_rectangle\"\n",
    "y = ''\n",
    "for i, ele in enumerate(x.split('_')):\n",
    "    if i == 0:\n",
    "        y += ele\n",
    "    else:\n",
    "        y += ele.capitalize()\n",
    "y"
   ]
  },
  {
   "cell_type": "code",
   "execution_count": 143,
   "id": "34670850-83d8-45a4-81bd-c6e208979d8e",
   "metadata": {},
   "outputs": [
    {
     "data": {
      "text/plain": [
       "[(0, 'surface'), (1, 'area'), (2, 'of'), (3, 'rectangle')]"
      ]
     },
     "execution_count": 143,
     "metadata": {},
     "output_type": "execute_result"
    }
   ],
   "source": [
    "list(enumerate(x.split('_')))"
   ]
  },
  {
   "cell_type": "code",
   "execution_count": null,
   "id": "e443d961-04d6-4a00-8856-360a7b60a87e",
   "metadata": {},
   "outputs": [],
   "source": [
    "surface_area_of_rectangle\n",
    "\n",
    "surfaceAreaOfRectangle\n",
    "SurfaceAreaOfRectangle"
   ]
  }
 ],
 "metadata": {
  "kernelspec": {
   "display_name": "Python 3 (ipykernel)",
   "language": "python",
   "name": "python3"
  },
  "language_info": {
   "codemirror_mode": {
    "name": "ipython",
    "version": 3
   },
   "file_extension": ".py",
   "mimetype": "text/x-python",
   "name": "python",
   "nbconvert_exporter": "python",
   "pygments_lexer": "ipython3",
   "version": "3.12.3"
  }
 },
 "nbformat": 4,
 "nbformat_minor": 5
}
