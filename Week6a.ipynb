{
 "cells": [
  {
   "cell_type": "code",
   "execution_count": null,
   "id": "c5d73783-e8c6-4676-a8ad-58ae9e5b7043",
   "metadata": {},
   "outputs": [],
   "source": [
    "days_in_months = [0, 31, 28, 31, 30, 31, 30, 31, 31, 30, 31, 30, 31]"
   ]
  },
  {
   "cell_type": "code",
   "execution_count": null,
   "id": "a5b5650b-104c-46d7-8f71-1205c1399356",
   "metadata": {},
   "outputs": [],
   "source": [
    "# (name, email, ubit#, major)\n",
    "(\n",
    "    ('John Doe', 'jdoe@buffalo.edu', 11223344, 'Biology'),\n",
    "    ('Jane Doe', 'jane@buffalo.edu', 22334455, 'Chemistry'),\n",
    ")"
   ]
  },
  {
   "cell_type": "code",
   "execution_count": 2,
   "id": "5ea3c60a-fd52-473d-9ab8-f54757060661",
   "metadata": {},
   "outputs": [],
   "source": [
    "days_in_months = {\n",
    "    'Jan': 31,\n",
    "    'Feb': (28,29),\n",
    "    'Mar': 31,\n",
    "    'Apr': 30,\n",
    "    'May': 31,\n",
    "    'Jun': 30,\n",
    "    'Jul': 31,\n",
    "    'Aug': 31,\n",
    "    'Sep': 30,\n",
    "    'Oct': 31,\n",
    "    'Nov': 30,\n",
    "    'Dec': 31,\n",
    "}"
   ]
  },
  {
   "cell_type": "code",
   "execution_count": 4,
   "id": "2cf9bbff-9e03-4eba-9f9d-f9e3db1d45e4",
   "metadata": {},
   "outputs": [
    {
     "data": {
      "text/plain": [
       "31"
      ]
     },
     "execution_count": 4,
     "metadata": {},
     "output_type": "execute_result"
    }
   ],
   "source": [
    "days_in_months['Jul']"
   ]
  },
  {
   "cell_type": "code",
   "execution_count": null,
   "id": "f5fd9bd5-3638-4d4c-bb29-9700396d6372",
   "metadata": {},
   "outputs": [],
   "source": [
    "(\n",
    "    {\n",
    "        'Name': 'John Doe', \n",
    "        'Email': 'jdoe@buffalo.edu',\n",
    "        'ID': 11223344, \n",
    "        'Major': 'Biology'\n",
    "    },\n",
    "    {\n",
    "        'Name': 'Jane Doe', \n",
    "        'Email': 'Jane@buffalo.edu',\n",
    "        'ID': 22334455, \n",
    "        'Major': 'Chemistry'\n",
    "    },\n",
    ")"
   ]
  },
  {
   "cell_type": "code",
   "execution_count": null,
   "id": "91f56958-9fb3-4b91-bbe5-a34e36dc8100",
   "metadata": {},
   "outputs": [],
   "source": [
    "my_dict = {\n",
    "    'name': 'john',\n",
    "    'email': 'john@email.com',\n",
    "    'id': 1234,\n",
    "    'major': 'Engineering'\n",
    "}"
   ]
  },
  {
   "cell_type": "code",
   "execution_count": 5,
   "id": "56c2fbed-158c-4a07-8f5c-6ee89138119c",
   "metadata": {},
   "outputs": [
    {
     "name": "stdout",
     "output_type": "stream",
     "text": [
      "john\n"
     ]
    }
   ],
   "source": [
    "my_dict = {\n",
    "    'name'      : 'john',\n",
    "    'email'     : 'john@email.com',\n",
    "    'id'        : 1234,\n",
    "    'major'     : 'Engineering'\n",
    "}\n",
    "\n",
    "print(my_dict['name']) # Method 1\n"
   ]
  },
  {
   "cell_type": "code",
   "execution_count": 6,
   "id": "689cec6b-c6ff-4dc5-b861-d65a49af9d91",
   "metadata": {},
   "outputs": [
    {
     "name": "stdout",
     "output_type": "stream",
     "text": [
      "john\n"
     ]
    }
   ],
   "source": [
    "\n",
    "key = 'name' # Method 2 -- use a variable key\n",
    "print(my_dict[key])"
   ]
  },
  {
   "cell_type": "code",
   "execution_count": 7,
   "id": "ddd7ffc1-70bb-4ed3-b234-a55fc0cc5ff7",
   "metadata": {},
   "outputs": [
    {
     "data": {
      "text/plain": [
       "30"
      ]
     },
     "execution_count": 7,
     "metadata": {},
     "output_type": "execute_result"
    }
   ],
   "source": [
    "days_in_months = [0, 31, 28, 31, 30, 31, 30, 31, 31, 30, 31, 30, 31]\n",
    "index = 9\n",
    "days_in_months[9]"
   ]
  },
  {
   "cell_type": "code",
   "execution_count": 8,
   "id": "08d6715c-20bd-42ce-bf93-376615c6f125",
   "metadata": {},
   "outputs": [
    {
     "name": "stdout",
     "output_type": "stream",
     "text": [
      "john\n",
      "john@email.com\n",
      "1234\n",
      "Engineering\n"
     ]
    }
   ],
   "source": [
    "my_dict = {\n",
    "    'name'      : 'john',\n",
    "    'email'     : 'john@email.com',\n",
    "    'id'        : 1234,\n",
    "    'major'     : 'Engineering'\n",
    "}\n",
    "for value in my_dict.values():\n",
    "    print(value)"
   ]
  },
  {
   "cell_type": "code",
   "execution_count": 10,
   "id": "c3fb1253-ee12-4880-b246-0634f4575643",
   "metadata": {},
   "outputs": [],
   "source": [
    "x = my_dict.values()"
   ]
  },
  {
   "cell_type": "code",
   "execution_count": 11,
   "id": "58d98836-3d7e-4691-805f-511629743968",
   "metadata": {},
   "outputs": [
    {
     "name": "stdout",
     "output_type": "stream",
     "text": [
      "john\n",
      "john@email.com\n",
      "1234\n",
      "Engineering\n"
     ]
    }
   ],
   "source": [
    "for ele in x:\n",
    "    print(ele)"
   ]
  },
  {
   "cell_type": "code",
   "execution_count": 12,
   "id": "a6b998cf-e87c-4119-8214-f9eb18928e6b",
   "metadata": {},
   "outputs": [
    {
     "name": "stdout",
     "output_type": "stream",
     "text": [
      "john\n",
      "john@email.com\n",
      "1234\n",
      "Engineering\n"
     ]
    }
   ],
   "source": [
    "for ele in x:\n",
    "    print(ele)"
   ]
  },
  {
   "cell_type": "code",
   "execution_count": 13,
   "id": "7071714d-f708-4285-98da-045b521a6a68",
   "metadata": {},
   "outputs": [
    {
     "name": "stdout",
     "output_type": "stream",
     "text": [
      "name\n",
      "email\n",
      "id\n",
      "major\n"
     ]
    }
   ],
   "source": [
    "my_dict = {\n",
    "    'name': 'john',\n",
    "    'email': 'john@email.com',\n",
    "    'id': 1234,\n",
    "    'major': 'Engineering'\n",
    "}\n",
    "for key in my_dict.keys():\n",
    "    print(key)"
   ]
  },
  {
   "cell_type": "code",
   "execution_count": 15,
   "id": "db4c692a-419c-4158-b47e-10e9e57dc5ae",
   "metadata": {},
   "outputs": [
    {
     "name": "stdout",
     "output_type": "stream",
     "text": [
      "name\n",
      "email\n",
      "id\n",
      "major\n"
     ]
    }
   ],
   "source": [
    "# quiz -- default is iteration over keys \n",
    "\n",
    "for ele in my_dict:\n",
    "    print(ele)"
   ]
  },
  {
   "cell_type": "code",
   "execution_count": 16,
   "id": "17725054-499a-4e35-812e-c0718aa3a7a5",
   "metadata": {},
   "outputs": [
    {
     "name": "stdout",
     "output_type": "stream",
     "text": [
      "name john\n",
      "email john@email.com\n",
      "id 1234\n",
      "major Engineering\n"
     ]
    }
   ],
   "source": [
    "for key in my_dict:\n",
    "    print(key, my_dict[key])"
   ]
  },
  {
   "cell_type": "code",
   "execution_count": 20,
   "id": "a3f260cc-5587-4ee0-a906-442e1825c7d4",
   "metadata": {},
   "outputs": [
    {
     "data": {
      "text/plain": [
       "dict_keys"
      ]
     },
     "execution_count": 20,
     "metadata": {},
     "output_type": "execute_result"
    }
   ],
   "source": [
    "keys = my_dict.keys()\n",
    "type(keys)\n",
    "# quiz questions"
   ]
  },
  {
   "cell_type": "code",
   "execution_count": 19,
   "id": "81cc3bc0-30be-46f0-a4ab-6b7ff806c44c",
   "metadata": {},
   "outputs": [
    {
     "data": {
      "text/plain": [
       "True"
      ]
     },
     "execution_count": 19,
     "metadata": {},
     "output_type": "execute_result"
    }
   ],
   "source": [
    "key = 'name'\n",
    "#  quiz -- what does the in operator do for a dict -- it checks for keys\n",
    "key in my_dict"
   ]
  },
  {
   "cell_type": "code",
   "execution_count": 24,
   "id": "9b0f9e53-f795-4669-8242-35046d36596d",
   "metadata": {},
   "outputs": [
    {
     "data": {
      "text/plain": [
       "True"
      ]
     },
     "execution_count": 24,
     "metadata": {},
     "output_type": "execute_result"
    }
   ],
   "source": [
    "{'name', 'email'} <= keys # consider it a set\n",
    "# quiz "
   ]
  },
  {
   "cell_type": "code",
   "execution_count": 25,
   "id": "61f437be-e639-46ca-a11d-2d86f42e46f0",
   "metadata": {},
   "outputs": [
    {
     "data": {
      "text/plain": [
       "False"
      ]
     },
     "execution_count": 25,
     "metadata": {},
     "output_type": "execute_result"
    }
   ],
   "source": [
    "{'name', 'email'} == keys # consider it a set\n",
    "# quiz "
   ]
  },
  {
   "cell_type": "code",
   "execution_count": 26,
   "id": "9974b84d-bd65-4697-a898-df4f3ecc309b",
   "metadata": {},
   "outputs": [
    {
     "data": {
      "text/plain": [
       "False"
      ]
     },
     "execution_count": 26,
     "metadata": {},
     "output_type": "execute_result"
    }
   ],
   "source": [
    "{'name', 'Email'} <= keys # consider it a set # {'email', 'id', 'major', 'name'}\n",
    "# quiz "
   ]
  },
  {
   "cell_type": "code",
   "execution_count": 27,
   "id": "f06e2882-7545-42e1-81a9-5444808f0078",
   "metadata": {},
   "outputs": [
    {
     "data": {
      "text/plain": [
       "{'email', 'id', 'major', 'name'}"
      ]
     },
     "execution_count": 27,
     "metadata": {},
     "output_type": "execute_result"
    }
   ],
   "source": [
    "set(keys)"
   ]
  },
  {
   "cell_type": "code",
   "execution_count": 29,
   "id": "6bf29448-9d84-4c40-b03d-80934782e8a7",
   "metadata": {},
   "outputs": [
    {
     "name": "stdout",
     "output_type": "stream",
     "text": [
      "key is name and value is john\n",
      "key is email and value is john@email.com\n",
      "key is id and value is 1234\n",
      "key is major and value is Engineering\n"
     ]
    }
   ],
   "source": [
    "my_dict = {\n",
    "    'name': 'john',\n",
    "    'email': 'john@email.com',\n",
    "    'id': 1234,\n",
    "    'major': 'Engineering'\n",
    "}\n",
    "for key, value in my_dict.items():\n",
    "    print(f'key is {key} and value is {value}')"
   ]
  },
  {
   "cell_type": "code",
   "execution_count": 28,
   "id": "6ae94fe4-6e23-4730-ad07-13a5803d1cf8",
   "metadata": {},
   "outputs": [
    {
     "data": {
      "text/plain": [
       "[('name', 'john'),\n",
       " ('email', 'john@email.com'),\n",
       " ('id', 1234),\n",
       " ('major', 'Engineering')]"
      ]
     },
     "execution_count": 28,
     "metadata": {},
     "output_type": "execute_result"
    }
   ],
   "source": [
    "list(my_dict.items())"
   ]
  },
  {
   "cell_type": "code",
   "execution_count": 30,
   "id": "bea31c77-72a1-4fc5-93f6-99300b72b012",
   "metadata": {},
   "outputs": [
    {
     "name": "stdout",
     "output_type": "stream",
     "text": [
      "{1: False, 2: [3, 4, 5]} {1: True, 2: [3, 4, 5]}\n"
     ]
    }
   ],
   "source": [
    "x = {1: True, 2: [3, 4, 5]}\n",
    "y = x.copy()\n",
    "x[1] = False\n",
    "print(x, y)"
   ]
  },
  {
   "cell_type": "code",
   "execution_count": 31,
   "id": "4f21c88c-1ce4-49bd-a73a-50350ab5824e",
   "metadata": {},
   "outputs": [
    {
     "name": "stdout",
     "output_type": "stream",
     "text": [
      "{1: True, 2: [3, 4, 5, 6]} {1: True, 2: [3, 4, 5, 6]}\n"
     ]
    }
   ],
   "source": [
    "x = {1: True, 2: [3, 4, 5]}\n",
    "y = x.copy() # shallow copy \n",
    "x[2].append(6)\n",
    "print(x, y)"
   ]
  },
  {
   "cell_type": "code",
   "execution_count": 33,
   "id": "c8cfb580-6c5e-4fd2-9a7d-80112f4f7276",
   "metadata": {},
   "outputs": [],
   "source": [
    "a = {\n",
    "    \"id\": \"3\",\n",
    "    \"name\": \"Apple iPhone 12 Pro Max\",\n",
    "    \"data\": {\n",
    "      \"color\": \"Cloudy White\",\n",
    "      \"capacity GB\": 512\n",
    "    }\n",
    "  }\n",
    "b = a.copy()\n",
    "\n",
    "a['data'][\"color\"] = \"Muddy Brown\""
   ]
  },
  {
   "cell_type": "code",
   "execution_count": 34,
   "id": "b5949314-13de-43eb-ae4f-3be587dcab2c",
   "metadata": {},
   "outputs": [
    {
     "data": {
      "text/plain": [
       "{'id': '3',\n",
       " 'name': 'Apple iPhone 12 Pro Max',\n",
       " 'data': {'color': 'Muddy Brown', 'capacity GB': 512}}"
      ]
     },
     "execution_count": 34,
     "metadata": {},
     "output_type": "execute_result"
    }
   ],
   "source": [
    "a"
   ]
  },
  {
   "cell_type": "code",
   "execution_count": 35,
   "id": "dfce668b-8922-4fc1-ab2e-7eab72af6e8f",
   "metadata": {},
   "outputs": [
    {
     "data": {
      "text/plain": [
       "{'id': '3',\n",
       " 'name': 'Apple iPhone 12 Pro Max',\n",
       " 'data': {'color': 'Muddy Brown', 'capacity GB': 512}}"
      ]
     },
     "execution_count": 35,
     "metadata": {},
     "output_type": "execute_result"
    }
   ],
   "source": [
    "b"
   ]
  },
  {
   "cell_type": "code",
   "execution_count": 36,
   "id": "9b8a11da-9464-4112-84f3-2b395568e11d",
   "metadata": {},
   "outputs": [
    {
     "data": {
      "text/plain": [
       "{'id': '3', 'name': 'Samsung'}"
      ]
     },
     "execution_count": 36,
     "metadata": {},
     "output_type": "execute_result"
    }
   ],
   "source": [
    "a = {'id': '3',\n",
    " 'name': 'Apple iPhone 12 Pro Max'}\n",
    "b = a.copy()\n",
    "\n",
    "a['name'] = 'Samsung'\n",
    "a"
   ]
  },
  {
   "cell_type": "code",
   "execution_count": 37,
   "id": "b1d71042-6d7d-400c-9c4f-f39ba1f779fc",
   "metadata": {},
   "outputs": [
    {
     "data": {
      "text/plain": [
       "{'id': '3', 'name': 'Apple iPhone 12 Pro Max'}"
      ]
     },
     "execution_count": 37,
     "metadata": {},
     "output_type": "execute_result"
    }
   ],
   "source": [
    "b\n"
   ]
  },
  {
   "cell_type": "code",
   "execution_count": 38,
   "id": "cb61b195-29dc-4830-97bb-a0bfb7d2fecc",
   "metadata": {},
   "outputs": [
    {
     "name": "stdout",
     "output_type": "stream",
     "text": [
      "Help on dict object:\n",
      "\n",
      "class dict(object)\n",
      " |  dict() -> new empty dictionary\n",
      " |  dict(mapping) -> new dictionary initialized from a mapping object's\n",
      " |      (key, value) pairs\n",
      " |  dict(iterable) -> new dictionary initialized as if via:\n",
      " |      d = {}\n",
      " |      for k, v in iterable:\n",
      " |          d[k] = v\n",
      " |  dict(**kwargs) -> new dictionary initialized with the name=value pairs\n",
      " |      in the keyword argument list.  For example:  dict(one=1, two=2)\n",
      " |\n",
      " |  Built-in subclasses:\n",
      " |      StgDict\n",
      " |\n",
      " |  Methods defined here:\n",
      " |\n",
      " |  __contains__(self, key, /)\n",
      " |      True if the dictionary has the specified key, else False.\n",
      " |\n",
      " |  __delitem__(self, key, /)\n",
      " |      Delete self[key].\n",
      " |\n",
      " |  __eq__(self, value, /)\n",
      " |      Return self==value.\n",
      " |\n",
      " |  __ge__(self, value, /)\n",
      " |      Return self>=value.\n",
      " |\n",
      " |  __getattribute__(self, name, /)\n",
      " |      Return getattr(self, name).\n",
      " |\n",
      " |  __getitem__(self, key, /)\n",
      " |      Return self[key].\n",
      " |\n",
      " |  __gt__(self, value, /)\n",
      " |      Return self>value.\n",
      " |\n",
      " |  __init__(self, /, *args, **kwargs)\n",
      " |      Initialize self.  See help(type(self)) for accurate signature.\n",
      " |\n",
      " |  __ior__(self, value, /)\n",
      " |      Return self|=value.\n",
      " |\n",
      " |  __iter__(self, /)\n",
      " |      Implement iter(self).\n",
      " |\n",
      " |  __le__(self, value, /)\n",
      " |      Return self<=value.\n",
      " |\n",
      " |  __len__(self, /)\n",
      " |      Return len(self).\n",
      " |\n",
      " |  __lt__(self, value, /)\n",
      " |      Return self<value.\n",
      " |\n",
      " |  __ne__(self, value, /)\n",
      " |      Return self!=value.\n",
      " |\n",
      " |  __or__(self, value, /)\n",
      " |      Return self|value.\n",
      " |\n",
      " |  __repr__(self, /)\n",
      " |      Return repr(self).\n",
      " |\n",
      " |  __reversed__(self, /)\n",
      " |      Return a reverse iterator over the dict keys.\n",
      " |\n",
      " |  __ror__(self, value, /)\n",
      " |      Return value|self.\n",
      " |\n",
      " |  __setitem__(self, key, value, /)\n",
      " |      Set self[key] to value.\n",
      " |\n",
      " |  __sizeof__(...)\n",
      " |      D.__sizeof__() -> size of D in memory, in bytes\n",
      " |\n",
      " |  clear(...)\n",
      " |      D.clear() -> None.  Remove all items from D.\n",
      " |\n",
      " |  copy(...)\n",
      " |      D.copy() -> a shallow copy of D\n",
      " |\n",
      " |  get(self, key, default=None, /)\n",
      " |      Return the value for key if key is in the dictionary, else default.\n",
      " |\n",
      " |  items(...)\n",
      " |      D.items() -> a set-like object providing a view on D's items\n",
      " |\n",
      " |  keys(...)\n",
      " |      D.keys() -> a set-like object providing a view on D's keys\n",
      " |\n",
      " |  pop(...)\n",
      " |      D.pop(k[,d]) -> v, remove specified key and return the corresponding value.\n",
      " |\n",
      " |      If the key is not found, return the default if given; otherwise,\n",
      " |      raise a KeyError.\n",
      " |\n",
      " |  popitem(self, /)\n",
      " |      Remove and return a (key, value) pair as a 2-tuple.\n",
      " |\n",
      " |      Pairs are returned in LIFO (last-in, first-out) order.\n",
      " |      Raises KeyError if the dict is empty.\n",
      " |\n",
      " |  setdefault(self, key, default=None, /)\n",
      " |      Insert key with a value of default if key is not in the dictionary.\n",
      " |\n",
      " |      Return the value for key if key is in the dictionary, else default.\n",
      " |\n",
      " |  update(...)\n",
      " |      D.update([E, ]**F) -> None.  Update D from dict/iterable E and F.\n",
      " |      If E is present and has a .keys() method, then does:  for k in E: D[k] = E[k]\n",
      " |      If E is present and lacks a .keys() method, then does:  for k, v in E: D[k] = v\n",
      " |      In either case, this is followed by: for k in F:  D[k] = F[k]\n",
      " |\n",
      " |  values(...)\n",
      " |      D.values() -> an object providing a view on D's values\n",
      " |\n",
      " |  ----------------------------------------------------------------------\n",
      " |  Class methods defined here:\n",
      " |\n",
      " |  __class_getitem__(...)\n",
      " |      See PEP 585\n",
      " |\n",
      " |  fromkeys(iterable, value=None, /)\n",
      " |      Create a new dictionary with keys from iterable and values set to value.\n",
      " |\n",
      " |  ----------------------------------------------------------------------\n",
      " |  Static methods defined here:\n",
      " |\n",
      " |  __new__(*args, **kwargs)\n",
      " |      Create and return a new object.  See help(type) for accurate signature.\n",
      " |\n",
      " |  ----------------------------------------------------------------------\n",
      " |  Data and other attributes defined here:\n",
      " |\n",
      " |  __hash__ = None\n",
      "\n"
     ]
    }
   ],
   "source": [
    "help(b.copy())"
   ]
  },
  {
   "cell_type": "code",
   "execution_count": 40,
   "id": "9258f9ed-3b09-4512-8dce-1706195ac2b5",
   "metadata": {},
   "outputs": [
    {
     "data": {
      "text/plain": [
       "{'name': 'missing', 'email': 'missing', 'id': 'missing', 'major': 'missing'}"
      ]
     },
     "execution_count": 40,
     "metadata": {},
     "output_type": "execute_result"
    }
   ],
   "source": [
    "new_student = {}.fromkeys(\n",
    "    ['name', 'email', 'id', 'major'], 'missing')\n",
    "\n",
    "new_student"
   ]
  },
  {
   "cell_type": "code",
   "execution_count": 42,
   "id": "08492546-e15c-4979-b398-a28bd3fecb3b",
   "metadata": {},
   "outputs": [],
   "source": [
    "my_dict = {}.fromkeys(range(5), 'iammissing')"
   ]
  },
  {
   "cell_type": "code",
   "execution_count": 43,
   "id": "c5f18429-ec41-4642-b2b7-506d0224e76c",
   "metadata": {},
   "outputs": [
    {
     "data": {
      "text/plain": [
       "{0: 'iammissing',\n",
       " 1: 'iammissing',\n",
       " 2: 'iammissing',\n",
       " 3: 'iammissing',\n",
       " 4: 'iammissing'}"
      ]
     },
     "execution_count": 43,
     "metadata": {},
     "output_type": "execute_result"
    }
   ],
   "source": [
    "my_dict"
   ]
  },
  {
   "cell_type": "code",
   "execution_count": 45,
   "id": "5cf4d8c7-8ce3-45ed-a6fc-90ca0f546d06",
   "metadata": {},
   "outputs": [],
   "source": [
    "# mutables - list, dict, set\n",
    "# immutables - tuple, str, int, float, bool, frozenset\n",
    "# What are valid keys in a dictionary?\n",
    "\n",
    "x = {\n",
    "    'name': \"John\",\n",
    "    3: 4,\n",
    "    3.14: 3.1415,\n",
    "    True: False,\n",
    "    (3,4): 5\n",
    "}"
   ]
  },
  {
   "cell_type": "code",
   "execution_count": 46,
   "id": "5a51a07f-81c1-4f79-b633-0fb0f1781f8f",
   "metadata": {},
   "outputs": [
    {
     "data": {
      "text/plain": [
       "{('John', 'Doe'): {'id': 1234, 'major': 'Biology'},\n",
       " ('Jane', 'Doe'): {'id': 5678, 'major': 'Chemistry'}}"
      ]
     },
     "execution_count": 46,
     "metadata": {},
     "output_type": "execute_result"
    }
   ],
   "source": [
    "students = {\n",
    "    ('John', 'Doe'): {\"id\": 1234, \"major\": \"Biology\"},\n",
    "    ('Jane', 'Doe'): {\"id\": 5678, \"major\": \"Chemistry\"},\n",
    "\n",
    "}\n",
    "students"
   ]
  },
  {
   "cell_type": "code",
   "execution_count": 47,
   "id": "0704edbe-445d-42d5-b61d-f6be060fc202",
   "metadata": {},
   "outputs": [
    {
     "data": {
      "text/plain": [
       "{'id': 1234, 'major': 'Biology'}"
      ]
     },
     "execution_count": 47,
     "metadata": {},
     "output_type": "execute_result"
    }
   ],
   "source": [
    "students[('John', 'Doe')]"
   ]
  },
  {
   "cell_type": "code",
   "execution_count": 48,
   "id": "2abb1162-c928-4dc8-8c9c-560261a752e7",
   "metadata": {},
   "outputs": [
    {
     "ename": "TypeError",
     "evalue": "unhashable type: 'list'",
     "output_type": "error",
     "traceback": [
      "\u001b[31m---------------------------------------------------------------------------\u001b[39m",
      "\u001b[31mTypeError\u001b[39m                                 Traceback (most recent call last)",
      "\u001b[36mCell\u001b[39m\u001b[36m \u001b[39m\u001b[32mIn[48]\u001b[39m\u001b[32m, line 1\u001b[39m\n\u001b[32m----> \u001b[39m\u001b[32m1\u001b[39m students = {\n\u001b[32m      2\u001b[39m     [\u001b[33m'\u001b[39m\u001b[33mJohn\u001b[39m\u001b[33m'\u001b[39m, \u001b[33m'\u001b[39m\u001b[33mDoe\u001b[39m\u001b[33m'\u001b[39m]: {\u001b[33m\"\u001b[39m\u001b[33mid\u001b[39m\u001b[33m\"\u001b[39m: \u001b[32m1234\u001b[39m, \u001b[33m\"\u001b[39m\u001b[33mmajor\u001b[39m\u001b[33m\"\u001b[39m: \u001b[33m\"\u001b[39m\u001b[33mBiology\u001b[39m\u001b[33m\"\u001b[39m},\n\u001b[32m      3\u001b[39m     (\u001b[33m'\u001b[39m\u001b[33mJane\u001b[39m\u001b[33m'\u001b[39m, \u001b[33m'\u001b[39m\u001b[33mDoe\u001b[39m\u001b[33m'\u001b[39m): {\u001b[33m\"\u001b[39m\u001b[33mid\u001b[39m\u001b[33m\"\u001b[39m: \u001b[32m5678\u001b[39m, \u001b[33m\"\u001b[39m\u001b[33mmajor\u001b[39m\u001b[33m\"\u001b[39m: \u001b[33m\"\u001b[39m\u001b[33mChemistry\u001b[39m\u001b[33m\"\u001b[39m},\n\u001b[32m      4\u001b[39m \n\u001b[32m      5\u001b[39m }\n",
      "\u001b[31mTypeError\u001b[39m: unhashable type: 'list'"
     ]
    }
   ],
   "source": [
    "students = {\n",
    "    ['John', 'Doe']: {\"id\": 1234, \"major\": \"Biology\"},\n",
    "    ('Jane', 'Doe'): {\"id\": 5678, \"major\": \"Chemistry\"},\n",
    "\n",
    "}"
   ]
  },
  {
   "cell_type": "code",
   "execution_count": null,
   "id": "22039846-7839-4b7c-a68c-274e657436ca",
   "metadata": {},
   "outputs": [],
   "source": [
    "my_dict = {\n",
    "    'name': 'john',\n",
    "    'email': 'john@email.com',\n",
    "    'id': 1234,\n",
    "    'major': 'Engineering'\n",
    "}\n",
    "my_dict.get('name', None) # default\n",
    "my_dict.get('name', False)\n",
    "my_dict.get('name', 'defaultname')"
   ]
  },
  {
   "cell_type": "markdown",
   "id": "9bfead36-939a-43cf-a4a0-906912569c73",
   "metadata": {},
   "source": [
    "* nested structures\n",
    "* immutables vs mutables\n",
    "* shallow vs deep copy \n",
    "\n",
    "When you make shallow copy of a list, tuple, dict, the nested structures (non-primitive mutables data types: list and dict) inside the list, tuple, and dict can change in the copy when the original is changed. \n"
   ]
  },
  {
   "cell_type": "code",
   "execution_count": 63,
   "id": "dc4865ef-6643-4aae-a4d4-61afefd8e919",
   "metadata": {},
   "outputs": [],
   "source": [
    "my_dict = {\n",
    "    'name': 'john',\n",
    "    'email': 'john@email.com',\n",
    "    'id': 1234,\n",
    "    'major': 'Engineering'\n",
    "}"
   ]
  },
  {
   "cell_type": "code",
   "execution_count": 51,
   "id": "52662092-1641-483c-b707-08de6ccde1d8",
   "metadata": {},
   "outputs": [
    {
     "ename": "KeyError",
     "evalue": "'Name'",
     "output_type": "error",
     "traceback": [
      "\u001b[31m---------------------------------------------------------------------------\u001b[39m",
      "\u001b[31mKeyError\u001b[39m                                  Traceback (most recent call last)",
      "\u001b[36mCell\u001b[39m\u001b[36m \u001b[39m\u001b[32mIn[51]\u001b[39m\u001b[32m, line 1\u001b[39m\n\u001b[32m----> \u001b[39m\u001b[32m1\u001b[39m \u001b[43mmy_dict\u001b[49m\u001b[43m[\u001b[49m\u001b[33;43m'\u001b[39;49m\u001b[33;43mName\u001b[39;49m\u001b[33;43m'\u001b[39;49m\u001b[43m]\u001b[49m\n",
      "\u001b[31mKeyError\u001b[39m: 'Name'"
     ]
    }
   ],
   "source": [
    "my_dict['Name']"
   ]
  },
  {
   "cell_type": "code",
   "execution_count": 55,
   "id": "3cf98e93-929b-437a-97e3-0aba0ca57a25",
   "metadata": {},
   "outputs": [
    {
     "name": "stdout",
     "output_type": "stream",
     "text": [
      "name exists\n"
     ]
    }
   ],
   "source": [
    "key = 'name'\n",
    "if my_dict.get(key): # return None when key does not exist\n",
    "    print(key, 'exists')"
   ]
  },
  {
   "cell_type": "code",
   "execution_count": 56,
   "id": "ce4bedef-6904-4d82-a286-13fc33a7c589",
   "metadata": {},
   "outputs": [
    {
     "data": {
      "text/plain": [
       "'john'"
      ]
     },
     "execution_count": 56,
     "metadata": {},
     "output_type": "execute_result"
    }
   ],
   "source": [
    "my_dict.get('name', None) # default"
   ]
  },
  {
   "cell_type": "code",
   "execution_count": 57,
   "id": "770d2b03-de1d-41e1-8b92-457fadfb4992",
   "metadata": {},
   "outputs": [],
   "source": [
    "my_dict.get('Name', None) # default"
   ]
  },
  {
   "cell_type": "code",
   "execution_count": 58,
   "id": "f35115a2-11f3-41ac-8777-ec5f981bf6d9",
   "metadata": {},
   "outputs": [
    {
     "data": {
      "text/plain": [
       "'N/A'"
      ]
     },
     "execution_count": 58,
     "metadata": {},
     "output_type": "execute_result"
    }
   ],
   "source": [
    "my_dict.get('Name', 'N/A') # default"
   ]
  },
  {
   "cell_type": "code",
   "execution_count": 59,
   "id": "82dc74b6-7ab4-427c-a5bb-8298596885ca",
   "metadata": {},
   "outputs": [
    {
     "ename": "KeyError",
     "evalue": "'Name'",
     "output_type": "error",
     "traceback": [
      "\u001b[31m---------------------------------------------------------------------------\u001b[39m",
      "\u001b[31mKeyError\u001b[39m                                  Traceback (most recent call last)",
      "\u001b[36mCell\u001b[39m\u001b[36m \u001b[39m\u001b[32mIn[59]\u001b[39m\u001b[32m, line 1\u001b[39m\n\u001b[32m----> \u001b[39m\u001b[32m1\u001b[39m \u001b[38;5;28;01mdel\u001b[39;00m \u001b[43mmy_dict\u001b[49m\u001b[43m[\u001b[49m\u001b[33;43m'\u001b[39;49m\u001b[33;43mName\u001b[39;49m\u001b[33;43m'\u001b[39;49m\u001b[43m]\u001b[49m\n",
      "\u001b[31mKeyError\u001b[39m: 'Name'"
     ]
    }
   ],
   "source": [
    "del my_dict['Name']"
   ]
  },
  {
   "cell_type": "code",
   "execution_count": 64,
   "id": "e81bffef-187b-4510-8f01-debd66ad966c",
   "metadata": {},
   "outputs": [],
   "source": [
    "key = 'name'\n",
    "# quiz\n",
    "if key in my_dict: \n",
    "    del my_dict[key]\n",
    "else:\n",
    "    print('Key does not exist')"
   ]
  },
  {
   "cell_type": "code",
   "execution_count": null,
   "id": "2fcdd348-bfe8-43e0-bdcb-8d729440db95",
   "metadata": {},
   "outputs": [],
   "source": []
  },
  {
   "cell_type": "code",
   "execution_count": 65,
   "id": "3aec3ab1-9a93-4995-b76b-fddd8289eba4",
   "metadata": {},
   "outputs": [
    {
     "data": {
      "text/plain": [
       "{'email': 'john@email.com', 'id': 1234, 'major': 'Engineering'}"
      ]
     },
     "execution_count": 65,
     "metadata": {},
     "output_type": "execute_result"
    }
   ],
   "source": [
    "my_dict"
   ]
  },
  {
   "cell_type": "code",
   "execution_count": 66,
   "id": "f4ffe4c2-a516-4fe1-8c93-cc3859dfb891",
   "metadata": {},
   "outputs": [
    {
     "data": {
      "text/plain": [
       "('major', 'Engineering')"
      ]
     },
     "execution_count": 66,
     "metadata": {},
     "output_type": "execute_result"
    }
   ],
   "source": [
    "my_dict = {\n",
    "    'name': 'john',\n",
    "    'email': 'john@email.com',\n",
    "    'id': 1234,\n",
    "    'major': 'Engineering'\n",
    "}\n",
    "my_dict.popitem()"
   ]
  },
  {
   "cell_type": "code",
   "execution_count": 67,
   "id": "2531141e-2a0c-4bb7-b888-5908804722d7",
   "metadata": {},
   "outputs": [
    {
     "data": {
      "text/plain": [
       "{'name': 'john', 'email': 'john@email.com', 'id': 1234}"
      ]
     },
     "execution_count": 67,
     "metadata": {},
     "output_type": "execute_result"
    }
   ],
   "source": [
    "my_dict"
   ]
  },
  {
   "cell_type": "code",
   "execution_count": null,
   "id": "4516c234-0c7e-43a4-971b-73239a38f9b1",
   "metadata": {},
   "outputs": [],
   "source": [
    "# lists vs dicts ## quiz\n",
    "# list can contain duplicates\n",
    "# tuples can contain duplicates\n",
    "# dicts cannot contain duplicates (keys, not values)!!! "
   ]
  },
  {
   "cell_type": "code",
   "execution_count": 69,
   "id": "c72effb2-dbcd-47be-b810-8fa5989fbc7c",
   "metadata": {},
   "outputs": [
    {
     "data": {
      "text/plain": [
       "{'name': 'john',\n",
       " 'email': 'john@email.com',\n",
       " 'id': 1234,\n",
       " 'major': 'Engineering',\n",
       " 'Graduate Year': 2024}"
      ]
     },
     "execution_count": 69,
     "metadata": {},
     "output_type": "execute_result"
    }
   ],
   "source": [
    "my_dict = {\n",
    "    'name': 'john',\n",
    "    'email': 'john@email.com',\n",
    "    'id': 1234,\n",
    "    'major': 'Engineering'\n",
    "}\n",
    "my_dict.update({'Graduate Year': 2024})\n",
    "my_dict\n"
   ]
  },
  {
   "cell_type": "code",
   "execution_count": 71,
   "id": "3b41be34-1d8a-4e0a-a520-6141dc9996ba",
   "metadata": {},
   "outputs": [
    {
     "data": {
      "text/plain": [
       "{'name': 'john',\n",
       " 'email': 'john@email.com',\n",
       " 'id': 1234,\n",
       " 'major': 'Engineering',\n",
       " 'Graduate Year': 20100}"
      ]
     },
     "execution_count": 71,
     "metadata": {},
     "output_type": "execute_result"
    }
   ],
   "source": [
    "my_dict.update({'Graduate Year': 2099, 'Graduate Year': 20100}) # quiz\n",
    "my_dict\n"
   ]
  },
  {
   "cell_type": "code",
   "execution_count": null,
   "id": "1fa42bd2-46bc-4221-aace-3016034a8573",
   "metadata": {},
   "outputs": [],
   "source": [
    "my_dict = {\n",
    "    'name': 'john',\n",
    "    'email': 'john@email.com',\n",
    "    'id': 1234,\n",
    "    'major': 'Engineering',\n",
    "    'data': {\n",
    "        'name': 'john',\n",
    "        'email': 'john@email.com',\n",
    "        'id': 1234,\n",
    "        'major': 'Engineering',\n",
    "    }\n",
    "}"
   ]
  },
  {
   "cell_type": "code",
   "execution_count": 73,
   "id": "b1ab5c8d-49ad-4d12-bd09-36b105b1fb05",
   "metadata": {},
   "outputs": [
    {
     "data": {
      "text/plain": [
       "{'name': 'john',\n",
       " 'email': 'john@email.com',\n",
       " 'id': 'john@email.com',\n",
       " 'major': 'Engineering'}"
      ]
     },
     "execution_count": 73,
     "metadata": {},
     "output_type": "execute_result"
    }
   ],
   "source": [
    "my_dict = {\n",
    "    'name': 'john',\n",
    "    'email': 'john@email.com',\n",
    "    'id': 'john@email.com',\n",
    "    'major': 'Engineering',\n",
    "}\n",
    "my_dict"
   ]
  },
  {
   "cell_type": "code",
   "execution_count": 74,
   "id": "fb4be695-f5d8-47c9-bbff-662cd561c0da",
   "metadata": {},
   "outputs": [
    {
     "data": {
      "text/plain": [
       "'john'"
      ]
     },
     "execution_count": 74,
     "metadata": {},
     "output_type": "execute_result"
    }
   ],
   "source": [
    "my_dict.get('name')"
   ]
  },
  {
   "cell_type": "code",
   "execution_count": null,
   "id": "f117d831-2baa-42cd-9153-5f8d3164dc47",
   "metadata": {},
   "outputs": [],
   "source": [
    "my_dict.get('name')"
   ]
  },
  {
   "cell_type": "code",
   "execution_count": 75,
   "id": "60545cde-3c15-4cc5-8932-7ca6c9811d78",
   "metadata": {},
   "outputs": [
    {
     "data": {
      "text/plain": [
       "True"
      ]
     },
     "execution_count": 75,
     "metadata": {},
     "output_type": "execute_result"
    }
   ],
   "source": [
    "'john@email.com' in my_dict.values()"
   ]
  },
  {
   "cell_type": "code",
   "execution_count": 76,
   "id": "3633b03a-ae52-45eb-adf9-bf84b5e1b711",
   "metadata": {},
   "outputs": [
    {
     "name": "stdout",
     "output_type": "stream",
     "text": [
      "{'name': 'john', 'email': 'john@email.com', 'id': 1234, 'major': 'Engineering'}\n"
     ]
    }
   ],
   "source": [
    "my_dict = {\n",
    "    'name': 'john',\n",
    "    'email': 'john@email.com',\n",
    "    'id': 1234,\n",
    "    'major': 'Engineering'\n",
    "}\n",
    "my_dict | {'Graduate Year': 2024}\n",
    "\n",
    "print(my_dict)"
   ]
  },
  {
   "cell_type": "code",
   "execution_count": 77,
   "id": "a3834abd-17f9-4e35-a922-1bc9d1e8f3ed",
   "metadata": {},
   "outputs": [
    {
     "name": "stdout",
     "output_type": "stream",
     "text": [
      "{'name': 'john', 'email': 'john@email.com', 'id': 1234, 'major': 'Engineering', 'Graduate Year': 2024}\n"
     ]
    }
   ],
   "source": [
    "my_dict = {\n",
    "    'name': 'john',\n",
    "    'email': 'john@email.com',\n",
    "    'id': 1234,\n",
    "    'major': 'Engineering'\n",
    "}\n",
    "my_dict |= {'Graduate Year': 2024}\n",
    "\n",
    "print(my_dict)"
   ]
  }
 ],
 "metadata": {
  "kernelspec": {
   "display_name": "Python 3 (ipykernel)",
   "language": "python",
   "name": "python3"
  },
  "language_info": {
   "codemirror_mode": {
    "name": "ipython",
    "version": 3
   },
   "file_extension": ".py",
   "mimetype": "text/x-python",
   "name": "python",
   "nbconvert_exporter": "python",
   "pygments_lexer": "ipython3",
   "version": "3.12.3"
  }
 },
 "nbformat": 4,
 "nbformat_minor": 5
}
