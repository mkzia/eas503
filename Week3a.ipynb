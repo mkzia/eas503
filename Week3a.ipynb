{
 "cells": [
  {
   "cell_type": "markdown",
   "id": "53125775-7650-4277-b605-2b349fd62d63",
   "metadata": {},
   "source": [
    "# Review \n",
    "\n",
    "## Basics\n",
    "\n",
    "- Data type\n",
    "  - int - integer 3\n",
    "  - float -- floating 3.14\n",
    "  - str\n",
    "- Operators\n",
    "   - +, -, /, //, *,\n",
    " \n",
    "## Functions\n",
    "- "
   ]
  },
  {
   "cell_type": "code",
   "execution_count": 1,
   "id": "1ef4b77f-cc75-4fe5-a5b3-8bad4b955c25",
   "metadata": {},
   "outputs": [
    {
     "data": {
      "text/plain": [
       "4"
      ]
     },
     "execution_count": 1,
     "metadata": {},
     "output_type": "execute_result"
    }
   ],
   "source": [
    "round(3.5)"
   ]
  },
  {
   "cell_type": "code",
   "execution_count": 2,
   "id": "9e3d41ea-3e6d-4950-b7cd-7963877f8681",
   "metadata": {},
   "outputs": [
    {
     "data": {
      "text/plain": [
       "4"
      ]
     },
     "execution_count": 2,
     "metadata": {},
     "output_type": "execute_result"
    }
   ],
   "source": [
    "round(4.5)"
   ]
  },
  {
   "cell_type": "code",
   "execution_count": 3,
   "id": "bcf649e8-2f62-4a89-853c-06e5c6dcafd2",
   "metadata": {},
   "outputs": [
    {
     "name": "stdout",
     "output_type": "stream",
     "text": [
      "round: 3\n",
      "ceil: 4\n",
      "floor: 3\n"
     ]
    }
   ],
   "source": [
    "import math\n",
    "print('round:', round(3.141592653))\n",
    "print('ceil:', math.ceil(3.141592653))\n",
    "print('floor:', math.floor(3.141592653))"
   ]
  },
  {
   "cell_type": "code",
   "execution_count": 4,
   "id": "ab74aaa9-6cba-4e78-86b3-bf257253615a",
   "metadata": {},
   "outputs": [
    {
     "name": "stdout",
     "output_type": "stream",
     "text": [
      "2.6699999999999999289457264239899814128875732421875\n"
     ]
    }
   ],
   "source": [
    "import decimal\n",
    "print(decimal.Decimal(2.67))"
   ]
  },
  {
   "cell_type": "code",
   "execution_count": 9,
   "id": "70ee00da-1bcd-492c-9e3f-c77884c7ebb8",
   "metadata": {},
   "outputs": [
    {
     "name": "stdout",
     "output_type": "stream",
     "text": [
      "3.67499999999999982236431605997495353221893310546875\n",
      "3.67\n"
     ]
    }
   ],
   "source": [
    "import decimal\n",
    "print(decimal.Decimal(3.675))\n",
    "print(round(3.675,2))"
   ]
  },
  {
   "cell_type": "code",
   "execution_count": 11,
   "id": "3e943bf6-8054-4844-852f-89fe21a3ed10",
   "metadata": {},
   "outputs": [
    {
     "data": {
      "text/plain": [
       "5"
      ]
     },
     "execution_count": 11,
     "metadata": {},
     "output_type": "execute_result"
    }
   ],
   "source": [
    "round(4.55)"
   ]
  },
  {
   "cell_type": "code",
   "execution_count": 12,
   "id": "27b81de5-fac6-4c57-b4d5-1cc6d9acd3ea",
   "metadata": {},
   "outputs": [
    {
     "data": {
      "text/plain": [
       "4.5"
      ]
     },
     "execution_count": 12,
     "metadata": {},
     "output_type": "execute_result"
    }
   ],
   "source": [
    "round(4.55, 1)"
   ]
  },
  {
   "cell_type": "code",
   "execution_count": 13,
   "id": "09990acd-c599-43f9-9f89-e2da7879534a",
   "metadata": {},
   "outputs": [
    {
     "data": {
      "text/plain": [
       "4"
      ]
     },
     "execution_count": 13,
     "metadata": {},
     "output_type": "execute_result"
    }
   ],
   "source": [
    "round(4.5)"
   ]
  },
  {
   "cell_type": "code",
   "execution_count": 14,
   "id": "7a20b00c-e049-4b6f-814b-c7efb9c63329",
   "metadata": {},
   "outputs": [
    {
     "data": {
      "text/plain": [
       "int"
      ]
     },
     "execution_count": 14,
     "metadata": {},
     "output_type": "execute_result"
    }
   ],
   "source": [
    "type(round(4.5))"
   ]
  },
  {
   "cell_type": "code",
   "execution_count": null,
   "id": "17ffa6e6-105e-4d29-b642-c8749bfa43ee",
   "metadata": {},
   "outputs": [],
   "source": [
    "def f(x):\n",
    "    squared_x  = x * x\n",
    "    return squared_x"
   ]
  },
  {
   "cell_type": "code",
   "execution_count": 16,
   "id": "2e62fa20-2b2c-4697-bfc2-1dac0067443d",
   "metadata": {},
   "outputs": [
    {
     "name": "stdout",
     "output_type": "stream",
     "text": [
      "Happy birthday to you!!!\n",
      "Happy birthday to you!!!\n",
      "Happy birthday, dear John\n",
      "Happy birthday to you!\n",
      "Happy birthday to you!\n"
     ]
    }
   ],
   "source": [
    "def f1():\n",
    "    print(\"\"\"Happy birthday to you!!!\n",
    "Happy birthday to you!!!\n",
    "Happy birthday, dear John\n",
    "Happy birthday to you!\n",
    "Happy birthday to you!\"\"\")\n",
    "f1()"
   ]
  },
  {
   "cell_type": "code",
   "execution_count": 17,
   "id": "aa5ddda2-0e50-4c48-ac74-1ca9bad6ad4c",
   "metadata": {},
   "outputs": [
    {
     "name": "stdout",
     "output_type": "stream",
     "text": [
      "Happy birthday to you!!!\n",
      "Happy birthday to you!!!\n",
      "Happy birthday, dear Jane\n",
      "Happy birthday to you!\n",
      "Happy birthday to you!\n"
     ]
    }
   ],
   "source": [
    "def f2():\n",
    "    print(\"\"\"Happy birthday to you!!!\n",
    "Happy birthday to you!!!\n",
    "Happy birthday, dear Jane\n",
    "Happy birthday to you!\n",
    "Happy birthday to you!\"\"\")\n",
    "f2()"
   ]
  },
  {
   "cell_type": "code",
   "execution_count": 18,
   "id": "27d49263-c125-43e5-905c-3e76f8319e07",
   "metadata": {},
   "outputs": [
    {
     "name": "stdout",
     "output_type": "stream",
     "text": [
      "Happy birthday to you!!!\n",
      "Happy birthday to you!!!\n"
     ]
    }
   ],
   "source": [
    "def f3():\n",
    "    print(\"\"\"Happy birthday to you!!!\n",
    "Happy birthday to you!!!\"\"\")\n",
    "\n",
    "f3()\n"
   ]
  },
  {
   "cell_type": "code",
   "execution_count": 19,
   "id": "3337c4ce-542d-426b-a564-dd6cfa3f78fc",
   "metadata": {},
   "outputs": [
    {
     "name": "stdout",
     "output_type": "stream",
     "text": [
      "Happy birthday to you!!!\n",
      "Happy birthday to you!!!\n",
      "Happy birthday, dear John\n",
      "Happy birthday to you!!!\n",
      "Happy birthday to you!!!\n"
     ]
    }
   ],
   "source": [
    "def f4():\n",
    "    f3()\n",
    "    print(\"Happy birthday, dear John\")\n",
    "    f3()\n",
    "\n",
    "f4()"
   ]
  },
  {
   "cell_type": "code",
   "execution_count": 21,
   "id": "765093a4-657d-487c-b17a-a8ef337ba520",
   "metadata": {},
   "outputs": [
    {
     "name": "stdout",
     "output_type": "stream",
     "text": [
      "Happy birthday to you!!!\n",
      "Happy birthday to you!!!\n",
      "Happy birthday, dear john\n",
      "Happy birthday to you!!!\n",
      "Happy birthday to you!!!\n"
     ]
    }
   ],
   "source": [
    "def f5(name):\n",
    "    f3()\n",
    "    print(\"Happy birthday, dear \" + name)\n",
    "    f3()\n",
    "\n",
    "f5(\"john\")"
   ]
  },
  {
   "cell_type": "code",
   "execution_count": 22,
   "id": "fe87b50d-9fce-489f-804f-a43d66fc19fa",
   "metadata": {},
   "outputs": [
    {
     "name": "stdout",
     "output_type": "stream",
     "text": [
      "Happy birthday to you!!!\n",
      "Happy birthday to you!!!\n",
      "Happy birthday, dear jane\n",
      "Happy birthday to you!!!\n",
      "Happy birthday to you!!!\n"
     ]
    }
   ],
   "source": [
    "f5(\"jane\")"
   ]
  },
  {
   "cell_type": "code",
   "execution_count": 23,
   "id": "ccbdbd7c-83b5-4b5e-ab13-9973d87caecc",
   "metadata": {},
   "outputs": [
    {
     "name": "stdout",
     "output_type": "stream",
     "text": [
      "I don't output anything\n"
     ]
    }
   ],
   "source": [
    "def no_input_no_ouput():\n",
    "    print(\"I don't output anything\")\n",
    "\n",
    "no_input_no_ouput()"
   ]
  },
  {
   "cell_type": "code",
   "execution_count": 26,
   "id": "9bd215e3-6b7f-4afd-9025-546ee00c2389",
   "metadata": {},
   "outputs": [
    {
     "name": "stdout",
     "output_type": "stream",
     "text": [
      "My name is: john\n"
     ]
    }
   ],
   "source": [
    "def var1(name):\n",
    "    print(\"My name is: \" + name)\n",
    "\n",
    "var1(\"john\")"
   ]
  },
  {
   "cell_type": "code",
   "execution_count": 27,
   "id": "52846443-48f6-49ac-a4f4-a214451f130e",
   "metadata": {},
   "outputs": [
    {
     "data": {
      "text/plain": [
       "6"
      ]
     },
     "execution_count": 27,
     "metadata": {},
     "output_type": "execute_result"
    }
   ],
   "source": [
    "def add(x,y):\n",
    "    return x + y\n",
    "\n",
    "add(2,4)"
   ]
  },
  {
   "cell_type": "code",
   "execution_count": 29,
   "id": "d1372b67-acb9-495c-88b0-541f7bf342b2",
   "metadata": {},
   "outputs": [
    {
     "data": {
      "text/plain": [
       "61"
      ]
     },
     "execution_count": 29,
     "metadata": {},
     "output_type": "execute_result"
    }
   ],
   "source": [
    "import random\n",
    "\n",
    "random.randint(1, 100)"
   ]
  },
  {
   "cell_type": "code",
   "execution_count": 30,
   "id": "d1136657-b769-4f34-9f48-4faffde4808a",
   "metadata": {},
   "outputs": [
    {
     "name": "stdout",
     "output_type": "stream",
     "text": [
      "My name is: Jessica\n",
      "None\n"
     ]
    }
   ],
   "source": [
    "def var1(name):\n",
    "    print(\"My name is: \" + name)\n",
    "\n",
    "\n",
    "output = var1(\"Jessica\")\n",
    "print(output)"
   ]
  },
  {
   "cell_type": "code",
   "execution_count": 31,
   "id": "6f2ff3ff-5e0d-4fbe-8989-2b473add82cd",
   "metadata": {},
   "outputs": [
    {
     "name": "stdout",
     "output_type": "stream",
     "text": [
      "I don't output anything\n",
      "None\n"
     ]
    }
   ],
   "source": [
    "def no_input_no_ouput():\n",
    "    print(\"I don't output anything\")\n",
    "\n",
    "output2 = no_input_no_ouput()\n",
    "print(output2)"
   ]
  },
  {
   "cell_type": "code",
   "execution_count": null,
   "id": "0c2c36bf-e01c-45a9-8ca5-1e537f30f07f",
   "metadata": {},
   "outputs": [],
   "source": [
    "def no_input_no_ouput():\n",
    "    print(\"I don't output anything\")\n",
    "    return None ## "
   ]
  },
  {
   "cell_type": "code",
   "execution_count": null,
   "id": "d83402f0-567b-4637-a328-72fa5fa292b3",
   "metadata": {},
   "outputs": [],
   "source": []
  },
  {
   "cell_type": "code",
   "execution_count": 33,
   "id": "8b8a0fd3-c2fa-422c-81c5-e4bde8aaa77a",
   "metadata": {},
   "outputs": [
    {
     "name": "stdout",
     "output_type": "stream",
     "text": [
      "8\n"
     ]
    }
   ],
   "source": [
    "def f(x):\n",
    "    x = x * 2\n",
    "    return x\n",
    "print(f(4))"
   ]
  },
  {
   "cell_type": "code",
   "execution_count": 35,
   "id": "7e975848-4da7-4a05-aaae-580f7db90116",
   "metadata": {},
   "outputs": [
    {
     "data": {
      "text/plain": [
       "10"
      ]
     },
     "execution_count": 35,
     "metadata": {},
     "output_type": "execute_result"
    }
   ],
   "source": [
    "x = 5\n",
    "f(x)\n"
   ]
  },
  {
   "cell_type": "code",
   "execution_count": 37,
   "id": "4763b373-dec3-4907-8bc7-468490aeeec8",
   "metadata": {},
   "outputs": [
    {
     "name": "stdout",
     "output_type": "stream",
     "text": [
      "1\n"
     ]
    }
   ],
   "source": [
    "y = 1\n",
    "\n",
    "def quadratic(a, b, c, x):\n",
    "    \"\"\"ax^2 + bx + c\"\"\"\n",
    "    first = a * x ** 2\n",
    "    second = b * x\n",
    "    third = c\n",
    "    return first + second + third\n",
    "\n",
    "\n",
    "    \n",
    "quadratic(2, 3, 4, 0.5)\n",
    "print(y)"
   ]
  },
  {
   "cell_type": "code",
   "execution_count": 38,
   "id": "e7d023ab-1ec3-4d42-b470-ab0c2f32f56c",
   "metadata": {},
   "outputs": [],
   "source": [
    "x = \"3.14\""
   ]
  },
  {
   "cell_type": "code",
   "execution_count": 39,
   "id": "44d98afc-7892-40f1-9c0a-212b1f28c342",
   "metadata": {},
   "outputs": [
    {
     "data": {
      "text/plain": [
       "4"
      ]
     },
     "execution_count": 39,
     "metadata": {},
     "output_type": "execute_result"
    }
   ],
   "source": [
    "len(x)"
   ]
  },
  {
   "cell_type": "code",
   "execution_count": 40,
   "id": "2bfaf816-d702-43a5-963d-9eb4b667cea0",
   "metadata": {},
   "outputs": [
    {
     "data": {
      "text/plain": [
       "5.4"
      ]
     },
     "execution_count": 40,
     "metadata": {},
     "output_type": "execute_result"
    }
   ],
   "source": [
    "2 + 3.4"
   ]
  },
  {
   "cell_type": "code",
   "execution_count": 41,
   "id": "350a7d92-5ccd-4d09-824e-44bd97d2c4ca",
   "metadata": {},
   "outputs": [
    {
     "ename": "TypeError",
     "evalue": "unsupported operand type(s) for +: 'int' and 'str'",
     "output_type": "error",
     "traceback": [
      "\u001b[31m---------------------------------------------------------------------------\u001b[39m",
      "\u001b[31mTypeError\u001b[39m                                 Traceback (most recent call last)",
      "\u001b[36mCell\u001b[39m\u001b[36m \u001b[39m\u001b[32mIn[41]\u001b[39m\u001b[32m, line 1\u001b[39m\n\u001b[32m----> \u001b[39m\u001b[32m1\u001b[39m \u001b[32;43m2\u001b[39;49m\u001b[43m \u001b[49m\u001b[43m+\u001b[49m\u001b[43m \u001b[49m\u001b[33;43m\"\u001b[39;49m\u001b[33;43m3.4\u001b[39;49m\u001b[33;43m\"\u001b[39;49m\n",
      "\u001b[31mTypeError\u001b[39m: unsupported operand type(s) for +: 'int' and 'str'"
     ]
    }
   ],
   "source": [
    "2 + \"3.4\""
   ]
  },
  {
   "cell_type": "code",
   "execution_count": 42,
   "id": "fdcee57b-3912-40c9-9f02-432ebf52abae",
   "metadata": {},
   "outputs": [
    {
     "data": {
      "text/plain": [
       "'23.4'"
      ]
     },
     "execution_count": 42,
     "metadata": {},
     "output_type": "execute_result"
    }
   ],
   "source": [
    "\"2\" + \"3.4\""
   ]
  },
  {
   "cell_type": "code",
   "execution_count": 43,
   "id": "135290a5-a086-4cda-a343-7d4d6f5d9165",
   "metadata": {},
   "outputs": [
    {
     "data": {
      "text/plain": [
       "'2222'"
      ]
     },
     "execution_count": 43,
     "metadata": {},
     "output_type": "execute_result"
    }
   ],
   "source": [
    "\"2\" * 4"
   ]
  },
  {
   "cell_type": "code",
   "execution_count": 44,
   "id": "043d950b-2032-495d-a0b2-b73003981d2f",
   "metadata": {},
   "outputs": [
    {
     "data": {
      "text/plain": [
       "'3.143.143.143.14'"
      ]
     },
     "execution_count": 44,
     "metadata": {},
     "output_type": "execute_result"
    }
   ],
   "source": [
    "4 * \"3.14\""
   ]
  },
  {
   "cell_type": "code",
   "execution_count": 45,
   "id": "8916c394-967c-4c45-a899-bd68e67e96c2",
   "metadata": {},
   "outputs": [
    {
     "name": "stdout",
     "output_type": "stream",
     "text": [
      "22\n"
     ]
    }
   ],
   "source": [
    "x = \"2\"\n",
    "x += x\n",
    "print(x)"
   ]
  },
  {
   "cell_type": "code",
   "execution_count": 46,
   "id": "96eabcef-5973-41ae-872d-79d32d678ca1",
   "metadata": {},
   "outputs": [
    {
     "ename": "TypeError",
     "evalue": "can't multiply sequence by non-int of type 'str'",
     "output_type": "error",
     "traceback": [
      "\u001b[31m---------------------------------------------------------------------------\u001b[39m",
      "\u001b[31mTypeError\u001b[39m                                 Traceback (most recent call last)",
      "\u001b[36mCell\u001b[39m\u001b[36m \u001b[39m\u001b[32mIn[46]\u001b[39m\u001b[32m, line 2\u001b[39m\n\u001b[32m      1\u001b[39m x = \u001b[33m\"\u001b[39m\u001b[33m2\u001b[39m\u001b[33m\"\u001b[39m\n\u001b[32m----> \u001b[39m\u001b[32m2\u001b[39m \u001b[43mx\u001b[49m\u001b[43m \u001b[49m\u001b[43m*\u001b[49m\u001b[43m=\u001b[49m\u001b[43m \u001b[49m\u001b[43mx\u001b[49m\n\u001b[32m      3\u001b[39m \u001b[38;5;28mprint\u001b[39m(x)\n",
      "\u001b[31mTypeError\u001b[39m: can't multiply sequence by non-int of type 'str'"
     ]
    }
   ],
   "source": [
    "x = \"2\"\n",
    "x *= x\n",
    "print(x)"
   ]
  },
  {
   "cell_type": "code",
   "execution_count": 48,
   "id": "22c60e80-835e-420b-b6da-c7a07190b250",
   "metadata": {},
   "outputs": [
    {
     "data": {
      "text/plain": [
       "27"
      ]
     },
     "execution_count": 48,
     "metadata": {},
     "output_type": "execute_result"
    }
   ],
   "source": [
    "int(\"3\")  * 9"
   ]
  },
  {
   "cell_type": "code",
   "execution_count": 52,
   "id": "3e5870e1-b022-45a5-b661-6f9dc65e9ddb",
   "metadata": {},
   "outputs": [
    {
     "data": {
      "text/plain": [
       "12"
      ]
     },
     "execution_count": 52,
     "metadata": {},
     "output_type": "execute_result"
    }
   ],
   "source": [
    "int(\"3\")  + 9"
   ]
  },
  {
   "cell_type": "code",
   "execution_count": 50,
   "id": "eca841d8-1444-49a8-b3f7-a4d1f0a9fbc1",
   "metadata": {},
   "outputs": [
    {
     "ename": "TypeError",
     "evalue": "can only concatenate str (not \"int\") to str",
     "output_type": "error",
     "traceback": [
      "\u001b[31m---------------------------------------------------------------------------\u001b[39m",
      "\u001b[31mTypeError\u001b[39m                                 Traceback (most recent call last)",
      "\u001b[36mCell\u001b[39m\u001b[36m \u001b[39m\u001b[32mIn[50]\u001b[39m\u001b[32m, line 1\u001b[39m\n\u001b[32m----> \u001b[39m\u001b[32m1\u001b[39m \u001b[33;43m\"\u001b[39;49m\u001b[33;43m3\u001b[39;49m\u001b[33;43m\"\u001b[39;49m\u001b[43m  \u001b[49m\u001b[43m+\u001b[49m\u001b[43m \u001b[49m\u001b[32;43m9\u001b[39;49m\n",
      "\u001b[31mTypeError\u001b[39m: can only concatenate str (not \"int\") to str"
     ]
    }
   ],
   "source": [
    "\"3\"  + int(9)"
   ]
  },
  {
   "cell_type": "code",
   "execution_count": 53,
   "id": "90226e97-a203-4ff3-93c7-ae0f54399a19",
   "metadata": {},
   "outputs": [
    {
     "data": {
      "text/plain": [
       "'3.1415'"
      ]
     },
     "execution_count": 53,
     "metadata": {},
     "output_type": "execute_result"
    }
   ],
   "source": [
    "str(3.1415)"
   ]
  },
  {
   "cell_type": "code",
   "execution_count": 54,
   "id": "b544d0b6-0712-4a74-bc86-6fad596922b3",
   "metadata": {},
   "outputs": [
    {
     "name": "stdout",
     "output_type": "stream",
     "text": [
      "abbcd 2 3\n"
     ]
    }
   ],
   "source": [
    "print('abbcd', 2, 3)"
   ]
  },
  {
   "cell_type": "code",
   "execution_count": 55,
   "id": "e3e06606-da14-4ef8-b51a-f7a426d312fa",
   "metadata": {},
   "outputs": [
    {
     "name": "stdout",
     "output_type": "stream",
     "text": [
      "Help on built-in function print in module builtins:\n",
      "\n",
      "print(*args, sep=' ', end='\\n', file=None, flush=False)\n",
      "    Prints the values to a stream, or to sys.stdout by default.\n",
      "\n",
      "    sep\n",
      "      string inserted between values, default a space.\n",
      "    end\n",
      "      string appended after the last value, default a newline.\n",
      "    file\n",
      "      a file-like object (stream); defaults to the current sys.stdout.\n",
      "    flush\n",
      "      whether to forcibly flush the stream.\n",
      "\n"
     ]
    }
   ],
   "source": [
    "help(print)"
   ]
  },
  {
   "cell_type": "code",
   "execution_count": 56,
   "id": "10e6b15d-4dc1-45c8-8ab6-465b5723ad42",
   "metadata": {},
   "outputs": [
    {
     "name": "stdout",
     "output_type": "stream",
     "text": [
      "abbcd,2,3\n"
     ]
    }
   ],
   "source": [
    "print('abbcd', 2, 3, sep=\",\")"
   ]
  },
  {
   "cell_type": "code",
   "execution_count": 57,
   "id": "c73275ab-c493-4612-938f-f73549c5cecc",
   "metadata": {},
   "outputs": [
    {
     "name": "stdout",
     "output_type": "stream",
     "text": [
      "abbcd, 2, 3\n"
     ]
    }
   ],
   "source": [
    "print('abbcd', 2, 3, sep=\", \")"
   ]
  },
  {
   "cell_type": "code",
   "execution_count": 58,
   "id": "be78b742-aa8c-4252-82d6-62e9347b77ee",
   "metadata": {},
   "outputs": [
    {
     "name": "stdout",
     "output_type": "stream",
     "text": [
      "abbcd\n",
      "2\n",
      "3\n"
     ]
    }
   ],
   "source": [
    "print('abbcd', 2, 3, sep=\"\\n\")"
   ]
  },
  {
   "cell_type": "code",
   "execution_count": 63,
   "id": "8ca2d529-a3c1-4814-8733-7b80c6148e77",
   "metadata": {},
   "outputs": [],
   "source": [
    "x = \"He said, \\\"I don't care\\\"\""
   ]
  },
  {
   "cell_type": "code",
   "execution_count": 64,
   "id": "5d454a7d-b0f7-41ec-aa1c-e121bb81826c",
   "metadata": {},
   "outputs": [
    {
     "data": {
      "text/plain": [
       "'He said, \"I don\\'t care\"'"
      ]
     },
     "execution_count": 64,
     "metadata": {},
     "output_type": "execute_result"
    }
   ],
   "source": [
    "x"
   ]
  },
  {
   "cell_type": "code",
   "execution_count": 65,
   "id": "3b1c90d4-5f4f-4893-8994-22af1783bf1b",
   "metadata": {},
   "outputs": [
    {
     "name": "stdout",
     "output_type": "stream",
     "text": [
      "He said, \"I don't care\"\n"
     ]
    }
   ],
   "source": [
    "print(x)"
   ]
  },
  {
   "cell_type": "code",
   "execution_count": 66,
   "id": "d7cb42b3-6c61-4b1e-82f2-e27df069fb2c",
   "metadata": {},
   "outputs": [
    {
     "data": {
      "text/plain": [
       "'abc\\tdefg\\thijk'"
      ]
     },
     "execution_count": 66,
     "metadata": {},
     "output_type": "execute_result"
    }
   ],
   "source": [
    "x = \"abc\\tdefg\\thijk\"\n",
    "x"
   ]
  },
  {
   "cell_type": "code",
   "execution_count": 67,
   "id": "f8078478-b5b9-4371-883b-4b2a106b6462",
   "metadata": {},
   "outputs": [
    {
     "name": "stdout",
     "output_type": "stream",
     "text": [
      "abc\tdefg\thijk\n"
     ]
    }
   ],
   "source": [
    "print(x)"
   ]
  },
  {
   "cell_type": "code",
   "execution_count": 68,
   "id": "2ba6578a-7012-4131-bf2c-3efa7e28eae1",
   "metadata": {},
   "outputs": [
    {
     "data": {
      "text/plain": [
       "'abc\\ndefg\\nhijk'"
      ]
     },
     "execution_count": 68,
     "metadata": {},
     "output_type": "execute_result"
    }
   ],
   "source": [
    "x = \"abc\\ndefg\\nhijk\"\n",
    "x"
   ]
  },
  {
   "cell_type": "code",
   "execution_count": 69,
   "id": "929be24a-ddfe-438c-80e2-d3cd11fe7889",
   "metadata": {},
   "outputs": [
    {
     "name": "stdout",
     "output_type": "stream",
     "text": [
      "abc\n",
      "defg\n",
      "hijk\n"
     ]
    }
   ],
   "source": [
    "print(x)"
   ]
  },
  {
   "cell_type": "code",
   "execution_count": 71,
   "id": "dffcdccb-8f76-40d4-834d-a5449e4d7884",
   "metadata": {},
   "outputs": [
    {
     "data": {
      "text/plain": [
       "'hello \"'"
      ]
     },
     "execution_count": 71,
     "metadata": {},
     "output_type": "execute_result"
    }
   ],
   "source": [
    "\"hello \\\"\""
   ]
  },
  {
   "cell_type": "code",
   "execution_count": 73,
   "id": "973c317d-db5e-409d-beec-d9f480fb8a22",
   "metadata": {},
   "outputs": [],
   "source": [
    "x = \"hello \\\\\""
   ]
  },
  {
   "cell_type": "code",
   "execution_count": 74,
   "id": "5f5d62f7-2893-4176-8373-1fbb450c249b",
   "metadata": {},
   "outputs": [
    {
     "name": "stdout",
     "output_type": "stream",
     "text": [
      "hello \\\n"
     ]
    }
   ],
   "source": [
    "print(x)"
   ]
  },
  {
   "cell_type": "code",
   "execution_count": 75,
   "id": "af783f44-f273-48c0-a721-1b0eaef9fe11",
   "metadata": {},
   "outputs": [
    {
     "data": {
      "text/plain": [
       "\"I don't care\""
      ]
     },
     "execution_count": 75,
     "metadata": {},
     "output_type": "execute_result"
    }
   ],
   "source": [
    "\"I don't care\""
   ]
  },
  {
   "cell_type": "code",
   "execution_count": 76,
   "id": "6233d5d9-6b87-4526-8a7d-2b47338884a8",
   "metadata": {},
   "outputs": [
    {
     "data": {
      "text/plain": [
       "4"
      ]
     },
     "execution_count": 76,
     "metadata": {},
     "output_type": "execute_result"
    }
   ],
   "source": [
    "def f(x):\n",
    "    return x * x\n",
    "f(2)"
   ]
  },
  {
   "cell_type": "code",
   "execution_count": 77,
   "id": "ecb8cbf7-f133-423c-962f-d149f6affe95",
   "metadata": {},
   "outputs": [
    {
     "name": "stdin",
     "output_type": "stream",
     "text": [
      "Give me a number:  3\n"
     ]
    }
   ],
   "source": [
    "x = input(\"Give me a number: \")"
   ]
  },
  {
   "cell_type": "code",
   "execution_count": 78,
   "id": "a3727c27-8b31-4fb8-879b-0771d3fce39a",
   "metadata": {},
   "outputs": [
    {
     "data": {
      "text/plain": [
       "'3'"
      ]
     },
     "execution_count": 78,
     "metadata": {},
     "output_type": "execute_result"
    }
   ],
   "source": [
    "x"
   ]
  },
  {
   "cell_type": "code",
   "execution_count": 79,
   "id": "9ff7cc34-9432-43d1-97bf-0c1b17f66af5",
   "metadata": {},
   "outputs": [
    {
     "data": {
      "text/plain": [
       "str"
      ]
     },
     "execution_count": 79,
     "metadata": {},
     "output_type": "execute_result"
    }
   ],
   "source": [
    "type(x)"
   ]
  },
  {
   "cell_type": "code",
   "execution_count": 81,
   "id": "d4a979f6-d563-47c3-bef0-104d9d44dac2",
   "metadata": {},
   "outputs": [
    {
     "name": "stdout",
     "output_type": "stream",
     "text": [
      "27\n"
     ]
    }
   ],
   "source": [
    "y = int(x)\n",
    "print(y*9)"
   ]
  },
  {
   "cell_type": "code",
   "execution_count": 82,
   "id": "3e7e02d5-3783-4d61-911f-1b2e26a075cb",
   "metadata": {},
   "outputs": [],
   "source": [
    "def convert_celsius():\n",
    "    fahrenheit = float(input('Please enter temperature in Fahrenheit: '))\n",
    "    celsius =  (fahrenheit - 32.0) * 5.0 / 9.0  \n",
    "    print('The temperature in celsius is: ', celsius) "
   ]
  },
  {
   "cell_type": "code",
   "execution_count": 83,
   "id": "14eceb4f-6118-492c-b14b-829e1e3d7d33",
   "metadata": {},
   "outputs": [
    {
     "name": "stdin",
     "output_type": "stream",
     "text": [
      "Please enter temperature in Fahrenheit:  212\n"
     ]
    },
    {
     "name": "stdout",
     "output_type": "stream",
     "text": [
      "The temperature in celsius is:  100.0\n"
     ]
    }
   ],
   "source": [
    "convert_celsius()"
   ]
  },
  {
   "cell_type": "code",
   "execution_count": 84,
   "id": "1fa75db1-4985-40d8-821d-209271b4c087",
   "metadata": {},
   "outputs": [
    {
     "name": "stdin",
     "output_type": "stream",
     "text": [
      "Please enter temperature in Fahrenheit:  78\n"
     ]
    },
    {
     "name": "stdout",
     "output_type": "stream",
     "text": [
      "The temperature in celsius is:  25.555555555555557\n"
     ]
    }
   ],
   "source": [
    "convert_celsius()"
   ]
  },
  {
   "cell_type": "code",
   "execution_count": 85,
   "id": "af2f776a-489c-4df7-b880-cceb0655232b",
   "metadata": {},
   "outputs": [
    {
     "name": "stdin",
     "output_type": "stream",
     "text": [
      "Please enter temperature in Fahrenheit:  44.5.5\n"
     ]
    },
    {
     "ename": "ValueError",
     "evalue": "could not convert string to float: '44.5.5'",
     "output_type": "error",
     "traceback": [
      "\u001b[31m---------------------------------------------------------------------------\u001b[39m",
      "\u001b[31mValueError\u001b[39m                                Traceback (most recent call last)",
      "\u001b[36mCell\u001b[39m\u001b[36m \u001b[39m\u001b[32mIn[85]\u001b[39m\u001b[32m, line 1\u001b[39m\n\u001b[32m----> \u001b[39m\u001b[32m1\u001b[39m \u001b[43mconvert_celsius\u001b[49m\u001b[43m(\u001b[49m\u001b[43m)\u001b[49m\n",
      "\u001b[36mCell\u001b[39m\u001b[36m \u001b[39m\u001b[32mIn[82]\u001b[39m\u001b[32m, line 2\u001b[39m, in \u001b[36mconvert_celsius\u001b[39m\u001b[34m()\u001b[39m\n\u001b[32m      1\u001b[39m \u001b[38;5;28;01mdef\u001b[39;00m\u001b[38;5;250m \u001b[39m\u001b[34mconvert_celsius\u001b[39m():\n\u001b[32m----> \u001b[39m\u001b[32m2\u001b[39m     fahrenheit = \u001b[38;5;28;43mfloat\u001b[39;49m\u001b[43m(\u001b[49m\u001b[38;5;28;43minput\u001b[39;49m\u001b[43m(\u001b[49m\u001b[33;43m'\u001b[39;49m\u001b[33;43mPlease enter temperature in Fahrenheit: \u001b[39;49m\u001b[33;43m'\u001b[39;49m\u001b[43m)\u001b[49m\u001b[43m)\u001b[49m\n\u001b[32m      3\u001b[39m     celsius =  (fahrenheit - \u001b[32m32.0\u001b[39m) * \u001b[32m5.0\u001b[39m / \u001b[32m9.0\u001b[39m  \n\u001b[32m      4\u001b[39m     \u001b[38;5;28mprint\u001b[39m(\u001b[33m'\u001b[39m\u001b[33mThe temperature in celsius is: \u001b[39m\u001b[33m'\u001b[39m, celsius)\n",
      "\u001b[31mValueError\u001b[39m: could not convert string to float: '44.5.5'"
     ]
    }
   ],
   "source": [
    "convert_celsius()"
   ]
  },
  {
   "cell_type": "code",
   "execution_count": 86,
   "id": "95b838e3-903a-4691-b125-f51fa79a2c18",
   "metadata": {},
   "outputs": [
    {
     "data": {
      "text/plain": [
       "'johndoe'"
      ]
     },
     "execution_count": 86,
     "metadata": {},
     "output_type": "execute_result"
    }
   ],
   "source": [
    "x = \"3.14\"\n",
    "first_name = \"john\"\n",
    "last_name = \"doe\"\n",
    "first_name + last_name"
   ]
  },
  {
   "cell_type": "code",
   "execution_count": 87,
   "id": "72abd867-9b1a-4498-89ed-e2ba8c5ddc8e",
   "metadata": {},
   "outputs": [
    {
     "name": "stdout",
     "output_type": "stream",
     "text": [
      "3.14\n"
     ]
    }
   ],
   "source": [
    "PI = 3.14159265359 \n",
    "print(f'{PI:.2f}')"
   ]
  },
  {
   "cell_type": "code",
   "execution_count": 89,
   "id": "61b78638-8bd2-40ad-a440-d67dd3d06a20",
   "metadata": {},
   "outputs": [
    {
     "data": {
      "text/plain": [
       "4.6"
      ]
     },
     "execution_count": 89,
     "metadata": {},
     "output_type": "execute_result"
    }
   ],
   "source": [
    "round(4.556, 1)"
   ]
  },
  {
   "cell_type": "code",
   "execution_count": 93,
   "id": "09267bcc-45ad-4d86-be77-920e80e64285",
   "metadata": {},
   "outputs": [
    {
     "name": "stdout",
     "output_type": "stream",
     "text": [
      "4.60\n"
     ]
    }
   ],
   "source": [
    "print(f\"{round(4.556,1):.2f}\")"
   ]
  },
  {
   "cell_type": "code",
   "execution_count": 94,
   "id": "28bd7a27-8ec2-495d-8819-68f212d05cb8",
   "metadata": {},
   "outputs": [
    {
     "name": "stdout",
     "output_type": "stream",
     "text": [
      "PI is 3.14\n"
     ]
    }
   ],
   "source": [
    "PI = 3.14159265359 \n",
    "name = 'PI'\n",
    "print('%s is %.2f' % (name, PI))  # oldest way format specifier is <width>.<precision><type>"
   ]
  },
  {
   "cell_type": "code",
   "execution_count": 95,
   "id": "227261f7-fe8c-44b0-813c-de76d2cef332",
   "metadata": {},
   "outputs": [
    {
     "name": "stdout",
     "output_type": "stream",
     "text": [
      "PI is 3.14\n"
     ]
    }
   ],
   "source": [
    "PI = 3.14159265359 \n",
    "name = 'PI'\n",
    "print(('{} is {:.2f}'.format(name, PI)) ) # "
   ]
  },
  {
   "cell_type": "code",
   "execution_count": 97,
   "id": "d6910a65-c9d8-46c3-a5c1-48e0c55c1c7e",
   "metadata": {},
   "outputs": [
    {
     "name": "stdout",
     "output_type": "stream",
     "text": [
      "PI is 4.00\n"
     ]
    }
   ],
   "source": [
    "PI = 3.14159265359 \n",
    "name = 'PI'\n",
    "# {<variable or expression>:<format-specifier>} where the format specifier is <width>.<precision><type>\n",
    "print(f'{name} is {2*2:.2f}') # newest way"
   ]
  },
  {
   "cell_type": "code",
   "execution_count": 98,
   "id": "43969aad-9802-4e10-9304-bc9494c82a38",
   "metadata": {},
   "outputs": [
    {
     "ename": "SyntaxError",
     "evalue": "invalid syntax (3003980450.py, line 1)",
     "output_type": "error",
     "traceback": [
      "  \u001b[36mCell\u001b[39m\u001b[36m \u001b[39m\u001b[32mIn[98]\u001b[39m\u001b[32m, line 1\u001b[39m\n\u001b[31m    \u001b[39m\u001b[31m{<variable or expression>:<format-specifier>}\u001b[39m\n     ^\n\u001b[31mSyntaxError\u001b[39m\u001b[31m:\u001b[39m invalid syntax\n"
     ]
    }
   ],
   "source": [
    "{<variable or expression>:<format-specifier>}"
   ]
  },
  {
   "cell_type": "code",
   "execution_count": null,
   "id": "240ad6b6-655a-46e2-870c-5d71d89f3bf4",
   "metadata": {},
   "outputs": [],
   "source": [
    "<padding_character><alignment><width>.<comma><precision><type>"
   ]
  },
  {
   "cell_type": "code",
   "execution_count": null,
   "id": "2dffa095-0b3d-4f8a-bc02-d6349e2189b0",
   "metadata": {},
   "outputs": [],
   "source": [
    "MRN = 00000123"
   ]
  },
  {
   "cell_type": "code",
   "execution_count": 100,
   "id": "cf2d364b-403a-4022-8536-56a2f91a2d6f",
   "metadata": {},
   "outputs": [
    {
     "name": "stdout",
     "output_type": "stream",
     "text": [
      "This is the first line.\n",
      "This is the second line.\n"
     ]
    }
   ],
   "source": [
    "line1 = 'This is the first line.\\n'\n",
    "line2 = 'This is the second line.'\n",
    "lines = line1 + line2\n",
    "print(lines)"
   ]
  },
  {
   "cell_type": "code",
   "execution_count": 101,
   "id": "81c372c5-7bb9-4417-a77c-93bb7c33fef1",
   "metadata": {},
   "outputs": [
    {
     "name": "stdout",
     "output_type": "stream",
     "text": [
      "EAS503\n",
      "EAS503\n"
     ]
    }
   ],
   "source": [
    "course_number = 'EAS503'\n",
    "class_size = 113\n",
    "class_average = 92.3\n",
    "\n",
    "str_format = '{}'.format(course_number)\n",
    "f_string = f'{course_number}'\n",
    "\n",
    "print(str_format)\n",
    "print(f_string)"
   ]
  },
  {
   "cell_type": "code",
   "execution_count": 102,
   "id": "cc31ff1c-463e-4316-8fa3-4ce9d0e3341b",
   "metadata": {},
   "outputs": [
    {
     "name": "stdout",
     "output_type": "stream",
     "text": [
      "{}\n"
     ]
    }
   ],
   "source": [
    "str_format = '{}'\n",
    "print(str_format)\n"
   ]
  },
  {
   "cell_type": "code",
   "execution_count": 103,
   "id": "c0c9becd-ff64-4416-823c-0f70962b5cdc",
   "metadata": {},
   "outputs": [
    {
     "name": "stdout",
     "output_type": "stream",
     "text": [
      "234234\n"
     ]
    }
   ],
   "source": [
    "print(str_format.format(\"234234\"))"
   ]
  },
  {
   "cell_type": "code",
   "execution_count": 104,
   "id": "db0e4bdf-e293-4205-9653-132aed65dfa0",
   "metadata": {},
   "outputs": [
    {
     "name": "stdout",
     "output_type": "stream",
     "text": [
      "The course number is EAS503.\n",
      "The course number is EAS503.\n"
     ]
    }
   ],
   "source": [
    "course_number = 'EAS503'\n",
    "class_size = 113\n",
    "class_average = 92.3\n",
    "\n",
    "str_format = 'The course number is {}.'.format(course_number)\n",
    "f_string = f'The course number is {course_number}.'\n",
    "\n",
    "print(str_format)\n",
    "print(f_string)"
   ]
  },
  {
   "cell_type": "code",
   "execution_count": 105,
   "id": "ad44b55b-cc2d-49b4-92c5-0fd1337c473c",
   "metadata": {},
   "outputs": [
    {
     "name": "stdout",
     "output_type": "stream",
     "text": [
      "The course number is EAS503. It has 113 students.\n",
      "The course number is EAS503. It has 113 students.\n"
     ]
    }
   ],
   "source": [
    "course_number = 'EAS503'\n",
    "class_size = 113\n",
    "class_average = 92.3\n",
    "str_format = 'The course number is {}. It has {} students.'.format(course_number, class_size)\n",
    "str_format = 'The course number is {0}. It has {1} students.'.format(course_number, class_size)\n",
    "f_string = f'The course number is {course_number}. It has {class_size} students.'\n",
    "\n",
    "print(str_format)\n",
    "print(f_string)"
   ]
  },
  {
   "cell_type": "code",
   "execution_count": 106,
   "id": "aee61d0f-c101-4df5-a140-f8c68654fbb6",
   "metadata": {},
   "outputs": [
    {
     "name": "stdout",
     "output_type": "stream",
     "text": [
      "The course number is 113. It has EAS503 students.\n",
      "The course number is 113. It has EAS503 students.\n"
     ]
    }
   ],
   "source": [
    "course_number = 'EAS503'\n",
    "class_size = 113\n",
    "class_average = 92.3\n",
    "str_format = 'The course number is {1}. It has {0} students.'.format(course_number, class_size)\n",
    "f_string = f'The course number is {class_size}. It has {course_number} students.'\n",
    "\n",
    "print(str_format)\n",
    "print(f_string)"
   ]
  },
  {
   "cell_type": "code",
   "execution_count": 108,
   "id": "b503405a-3ba2-45a6-bcc2-31e54c2315df",
   "metadata": {},
   "outputs": [
    {
     "name": "stdout",
     "output_type": "stream",
     "text": [
      "The course number is EAS503. It has 113 students. The class average is 92.3.\n",
      "The course number is EAS503. It has 113 students. The class average is 92.3.\n"
     ]
    }
   ],
   "source": [
    "course_number = 'EAS503'\n",
    "class_size = 113\n",
    "class_average = 92.3\n",
    "str_format = 'The course number is {0}. It has {1} students. The class average is {2}.'.format(course_number, class_size, class_average)\n",
    "f_string = f'The course number is {course_number}. It has {class_size} students. The class average is {class_average}.'\n",
    "\n",
    "print(str_format)\n",
    "print(f_string)"
   ]
  },
  {
   "cell_type": "code",
   "execution_count": 109,
   "id": "e1ed747d-d3da-48dd-b4cc-40862236ec4e",
   "metadata": {},
   "outputs": [
    {
     "name": "stdout",
     "output_type": "stream",
     "text": [
      "The course number is EAS503    . It has        113 students. The class average is       92.3.\n",
      "The course number is EAS503    . It has        113 students. The class average is       92.3.\n"
     ]
    }
   ],
   "source": [
    "course_number = 'EAS503'\n",
    "class_size = 113\n",
    "class_average = 92.3\n",
    "str_format = 'The course number is {0:10}. It has {1:10} students. The class average is {2:10}.'.format(course_number, class_size, class_average)\n",
    "f_string = f'The course number is {course_number:10}. It has {class_size:10} students. The class average is {class_average:10}.'\n",
    "\n",
    "print(str_format)\n",
    "print(f_string)"
   ]
  },
  {
   "cell_type": "code",
   "execution_count": 110,
   "id": "e99a1245-d032-4ed0-9d82-0b145246b1a5",
   "metadata": {},
   "outputs": [
    {
     "name": "stdout",
     "output_type": "stream",
     "text": [
      "The course number is     EAS503. It has        113 students. The class average is       92.3.\n",
      "The course number is     EAS503. It has        113 students. The class average is       92.3.\n"
     ]
    }
   ],
   "source": [
    "course_number = 'EAS503'\n",
    "class_size = 113\n",
    "class_average = 92.3\n",
    "str_format = 'The course number is {0:>10}. It has {1:>10} students. The class average is {2:>10}.'.format(course_number, class_size, class_average)\n",
    "f_string = f'The course number is {course_number:>10}. It has {class_size:>10} students. The class average is {class_average:>10}.'\n",
    "\n",
    "print(str_format)\n",
    "print(f_string)"
   ]
  },
  {
   "cell_type": "code",
   "execution_count": 111,
   "id": "17d8827b-49ae-468a-83cf-eecb4887de97",
   "metadata": {},
   "outputs": [
    {
     "name": "stdout",
     "output_type": "stream",
     "text": [
      "The course number is EAS503    . It has 113        students. The class average is 92.3      .\n",
      "The course number is EAS503    . It has 113        students. The class average is 92.3      .\n"
     ]
    }
   ],
   "source": [
    "course_number = 'EAS503'\n",
    "class_size = 113\n",
    "class_average = 92.3\n",
    "str_format = 'The course number is {0:<10}. It has {1:<10} students. The class average is {2:<10}.'.format(course_number, class_size, class_average)\n",
    "f_string = f'The course number is {course_number:<10}. It has {class_size:<10} students. The class average is {class_average:<10}.'\n",
    "\n",
    "print(str_format)\n",
    "print(f_string)"
   ]
  },
  {
   "cell_type": "code",
   "execution_count": 112,
   "id": "0556079d-2b55-451f-99ee-ca5bcd9f8135",
   "metadata": {},
   "outputs": [
    {
     "name": "stdout",
     "output_type": "stream",
     "text": [
      "The course number is   EAS503  . It has    113     students. The class average is    92.3   .\n",
      "The course number is   EAS503  . It has    113     students. The class average is    92.3   .\n"
     ]
    }
   ],
   "source": [
    "course_number = 'EAS503'\n",
    "class_size = 113\n",
    "class_average = 92.3\n",
    "str_format = 'The course number is {0:^10}. It has {1:^10} students. The class average is {2:^10}.'.format(course_number, class_size, class_average)\n",
    "f_string = f'The course number is {course_number:^10}. It has {class_size:^10} students. The class average is {class_average:^10}.'\n",
    "\n",
    "print(str_format)\n",
    "print(f_string)"
   ]
  },
  {
   "cell_type": "code",
   "execution_count": 115,
   "id": "bb0e1a98-4f9a-4890-8db1-24eea3872de0",
   "metadata": {},
   "outputs": [
    {
     "name": "stdout",
     "output_type": "stream",
     "text": [
      "The number padded 223333 padded with zeros 00223333\n",
      "The number padded 223333 padded with zeros 00223333 blah0000\n"
     ]
    }
   ],
   "source": [
    "student_id = 223333\n",
    "my_str = \"blah\"\n",
    "\n",
    "str_format = 'The number padded {} padded with zeros {:08}'.format(student_id, student_id)\n",
    "f_string = f'The number padded {student_id} padded with zeros {student_id:08} {my_str:08}'\n",
    "\n",
    "print(str_format)\n",
    "print(f_string)"
   ]
  },
  {
   "cell_type": "code",
   "execution_count": 116,
   "id": "dd18ddd0-0d0d-4edc-9a8c-5d6a2c3f18a5",
   "metadata": {},
   "outputs": [
    {
     "name": "stdout",
     "output_type": "stream",
     "text": [
      "The number padded 223333 padded with zeros --223333\n",
      "The number padded 223333 padded with zeros --223333\n"
     ]
    }
   ],
   "source": [
    "student_id = 223333\n",
    "\n",
    "str_format = 'The number padded {} padded with zeros {:->8}'.format(student_id, student_id)\n",
    "f_string = f'The number padded {student_id} padded with zeros {student_id:->8}'\n",
    "\n",
    "print(str_format)\n",
    "print(f_string)"
   ]
  },
  {
   "cell_type": "code",
   "execution_count": 117,
   "id": "46d1e4da-bf04-4c76-9b40-c9a4f6340f80",
   "metadata": {},
   "outputs": [
    {
     "data": {
      "text/plain": [
       "'123,456'"
      ]
     },
     "execution_count": 117,
     "metadata": {},
     "output_type": "execute_result"
    }
   ],
   "source": [
    "number = 123_456\n",
    "f'{number:,}'"
   ]
  },
  {
   "cell_type": "code",
   "execution_count": 118,
   "id": "3df5f8c1-f7ba-4182-97a0-0b5f0b1fba4b",
   "metadata": {},
   "outputs": [
    {
     "name": "stdout",
     "output_type": "stream",
     "text": [
      "+---------------------------------------------------+\n",
      "|               Cereal Yields (kg/ha)               |\n",
      "+---------------+--------+--------+--------+--------+\n",
      "|    Country    |  1980  |  1990  |  2000  |  2010  |\n",
      "+---------------+--------+--------+--------+--------+\n",
      "| China         |  2,937 |  4,321 |  4,752 |  5,527 |\n",
      "| Germany       |  4,225 |  5,411 |  6,453 |  6,718 |\n",
      "| United States |  3,772 |  4,755 |  5,854 |  6,988 |\n",
      "+---------------+--------+--------+--------+--------+\n"
     ]
    }
   ],
   "source": [
    "title = '|' + '{:^51}'.format('Cereal Yields (kg/ha)') + '|'\n",
    "line = '+' + '-'*15 + '+' + ('-'*8 + '+')*4\n",
    "row = '| {:<13} |' + ' {:6,d} |'*4\n",
    "header = '| {:^13s} |'.format('Country') + (' {:^6d} |'*4).format(1980, 1990,\n",
    "                                                                  2000, 2010)\n",
    "print('+' + '-'*(len(title)-2) + '+',\n",
    "      title,\n",
    "      line,\n",
    "      header,\n",
    "      line,\n",
    "      row.format('China', 2937, 4321, 4752, 5527),\n",
    "      row.format('Germany', 4225, 5411, 6453, 6718),\n",
    "      row.format('United States', 3772, 4755, 5854, 6988),\n",
    "      line,\n",
    "      sep='\\n')"
   ]
  },
  {
   "cell_type": "code",
   "execution_count": null,
   "id": "c7fcaff4-7ce7-4a10-b36e-dc9fb15b9674",
   "metadata": {},
   "outputs": [],
   "source": []
  },
  {
   "cell_type": "code",
   "execution_count": null,
   "id": "651602f3-f075-4cf9-9898-17f35e28e2b6",
   "metadata": {},
   "outputs": [],
   "source": []
  },
  {
   "cell_type": "code",
   "execution_count": 122,
   "id": "ac52f11c-69af-4be9-971f-a3ad4a512095",
   "metadata": {},
   "outputs": [
    {
     "name": "stdout",
     "output_type": "stream",
     "text": [
      "|               Cereal Yields (kg/ha)               |\n"
     ]
    }
   ],
   "source": [
    "title = '|' + '{:^51}'.format('Cereal Yields (kg/ha)') + '|'\n",
    "print(title)"
   ]
  },
  {
   "cell_type": "code",
   "execution_count": 119,
   "id": "c813945c-6882-4aed-816f-65b77a9858c7",
   "metadata": {},
   "outputs": [
    {
     "data": {
      "text/plain": [
       "'               Cereal Yields (kg/ha)               '"
      ]
     },
     "execution_count": 119,
     "metadata": {},
     "output_type": "execute_result"
    }
   ],
   "source": [
    "'{:^51}'.format('Cereal Yields (kg/ha)')"
   ]
  },
  {
   "cell_type": "code",
   "execution_count": 124,
   "id": "4f0a22dd-9fa8-430f-a130-084cedd6a607",
   "metadata": {},
   "outputs": [
    {
     "name": "stdout",
     "output_type": "stream",
     "text": [
      "+---------------------------------------------------+\n",
      "|               Cereal Yields (kg/ha)               |\n"
     ]
    }
   ],
   "source": [
    "top_line = '+' + '-'*(len(title)-2) + '+'\n",
    "print(top_line)\n",
    "print(title)"
   ]
  },
  {
   "cell_type": "code",
   "execution_count": 127,
   "id": "8b43ee9b-ed47-4dce-913f-c9f05343e8fc",
   "metadata": {},
   "outputs": [],
   "source": [
    "line = '+' + '-'*15 + '+' + ('-'*8 + '+')*4"
   ]
  },
  {
   "cell_type": "code",
   "execution_count": 128,
   "id": "063bc224-945f-478f-8271-0e34fc9710e7",
   "metadata": {},
   "outputs": [
    {
     "data": {
      "text/plain": [
       "'+---------------+--------+--------+--------+--------+'"
      ]
     },
     "execution_count": 128,
     "metadata": {},
     "output_type": "execute_result"
    }
   ],
   "source": [
    "line"
   ]
  },
  {
   "cell_type": "code",
   "execution_count": 129,
   "id": "be2e6577-9db6-488c-8822-22a81ea934a1",
   "metadata": {},
   "outputs": [
    {
     "name": "stdout",
     "output_type": "stream",
     "text": [
      "| {:<13} | {:6,d} | {:6,d} | {:6,d} | {:6,d} |\n"
     ]
    }
   ],
   "source": [
    "row = '| {:<13} |' + ' {:6,d} |'*4\n",
    "print(row)"
   ]
  },
  {
   "cell_type": "code",
   "execution_count": 130,
   "id": "2f0eb370-aa27-463c-9e34-37e053e02ef6",
   "metadata": {},
   "outputs": [
    {
     "data": {
      "text/plain": [
       "'| China         |  2,937 |  4,321 |  4,752 |  5,527 |'"
      ]
     },
     "execution_count": 130,
     "metadata": {},
     "output_type": "execute_result"
    }
   ],
   "source": [
    "row.format('China', 2937, 4321, 4752, 5527)"
   ]
  },
  {
   "cell_type": "code",
   "execution_count": null,
   "id": "13564a2e-74ed-4c4b-8a9a-f132993c83bf",
   "metadata": {},
   "outputs": [],
   "source": [
    "header = '| {:^13s} |'.format('Country') + (' {:^6d} |'*4).format(1980, 1990,\n",
    "                                                                  2000, 2010)"
   ]
  },
  {
   "cell_type": "code",
   "execution_count": 131,
   "id": "c5abc211-8ec0-4543-bcbb-6b485d520624",
   "metadata": {},
   "outputs": [
    {
     "name": "stdout",
     "output_type": "stream",
     "text": [
      "+---------------------------------------------------+\n",
      "|               Cereal Yields (kg/ha)               |\n",
      "+---------------+--------+--------+--------+--------+\n",
      "|    Country    |  1980  |  1990  |  2000  |  2010  |\n",
      "+---------------+--------+--------+--------+--------+\n",
      "| China         |  2,937 |  4,321 |  4,752 |  5,527 |\n",
      "| Germany       |  4,225 |  5,411 |  6,453 |  6,718 |\n",
      "| United States |  3,772 |  4,755 |  5,854 |  6,988 |\n",
      "+---------------+--------+--------+--------+--------+\n"
     ]
    }
   ],
   "source": [
    "title = '|' + '{:^51}'.format('Cereal Yields (kg/ha)') + '|'\n",
    "line = '+' + '-'*15 + '+' + ('-'*8 + '+')*4\n",
    "row = '| {:<13} |' + ' {:6,d} |'*4\n",
    "header = '| {:^13s} |'.format('Country') + (' {:^6d} |'*4).format(1980, 1990,\n",
    "                                                                  2000, 2010)\n",
    "print('+' + '-'*(len(title)-2) + '+',\n",
    "      title,\n",
    "      line,\n",
    "      header,\n",
    "      line,\n",
    "      row.format('China', 2937, 4321, 4752, 5527),\n",
    "      row.format('Germany', 4225, 5411, 6453, 6718),\n",
    "      row.format('United States', 3772, 4755, 5854, 6988),\n",
    "      line,\n",
    "      sep='\\n')"
   ]
  },
  {
   "cell_type": "code",
   "execution_count": 132,
   "id": "2c1a49af-57cc-4cd2-80f7-bad4c3c29f72",
   "metadata": {},
   "outputs": [],
   "source": [
    "with open('test_file.txt', 'w') as file:  # w -write, a - append, r - read\n",
    "    file.write('line1\\nline2')"
   ]
  },
  {
   "cell_type": "code",
   "execution_count": 133,
   "id": "b8cfb41e-e185-4661-a4cc-ba72f10cca8e",
   "metadata": {},
   "outputs": [
    {
     "name": "stdout",
     "output_type": "stream",
     "text": [
      "+---------------------------------------------------+\n",
      "|               Cereal Yields (kg/ha)               |\n",
      "+---------------+--------+--------+--------+--------+\n",
      "|    Country    |  1980  |  1990  |  2000  |  2010  |\n",
      "+---------------+--------+--------+--------+--------+\n",
      "| China         |  2,937 |  4,321 |  4,752 |  5,527 |\n",
      "| Germany       |  4,225 |  5,411 |  6,453 |  6,718 |\n",
      "| United States |  3,772 |  4,755 |  5,854 |  6,988 |\n",
      "+---------------+--------+--------+--------+--------+\n"
     ]
    }
   ],
   "source": [
    "title = '|' + '{:^51}'.format('Cereal Yields (kg/ha)') + '|'\n",
    "line = '+' + '-'*15 + '+' + ('-'*8 + '+')*4\n",
    "row = '| {:<13} |' + ' {:6,d} |'*4\n",
    "\n",
    "header = '| {:^widths} |'.format('Country') + (' {:^6d} |'*4).format(1980, 1990,\n",
    "                                                                  2000, 2010)\n",
    "file_content = '\\n'.join(('+' + '-'*(len(title)-2) + '+',\n",
    "      title,\n",
    "      line,\n",
    "      header,\n",
    "      line,\n",
    "      row.format('China', 2937, 4321, 4752, 5527),\n",
    "      row.format('Germany', 4225, 5411, 6453, 6718),\n",
    "      row.format('United States', 3772, 4755, 5854, 6988),\n",
    "      line))\n",
    "print(file_content)\n",
    "with open('test_file2.txt', 'w') as file:\n",
    "    file.write(file_content)"
   ]
  },
  {
   "cell_type": "code",
   "execution_count": 142,
   "id": "aae605b1-4168-45db-af3d-046ed79168d5",
   "metadata": {},
   "outputs": [
    {
     "name": "stdout",
     "output_type": "stream",
     "text": [
      "****************1234\n"
     ]
    }
   ],
   "source": [
    "width=20\n",
    "padding_char = \"*\"\n",
    "x = \"1234\"\n",
    "print(f\"{x:{padding_char}>{width}}\")"
   ]
  }
 ],
 "metadata": {
  "kernelspec": {
   "display_name": "Python 3 (ipykernel)",
   "language": "python",
   "name": "python3"
  },
  "language_info": {
   "codemirror_mode": {
    "name": "ipython",
    "version": 3
   },
   "file_extension": ".py",
   "mimetype": "text/x-python",
   "name": "python",
   "nbconvert_exporter": "python",
   "pygments_lexer": "ipython3",
   "version": "3.12.3"
  }
 },
 "nbformat": 4,
 "nbformat_minor": 5
}
