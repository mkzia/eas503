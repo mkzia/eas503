{
 "cells": [
  {
   "cell_type": "code",
   "execution_count": 12,
   "id": "5fb4b7ba-eed5-49c1-8f31-b855aac1d3c1",
   "metadata": {},
   "outputs": [
    {
     "data": {
      "text/plain": [
       "'FirstSecondThirdFourthFifth'"
      ]
     },
     "execution_count": 12,
     "metadata": {},
     "output_type": "execute_result"
    }
   ],
   "source": [
    "x = \"first_second_third_fourth_fifth\" # first second third fourth fifth\n",
    "# snake -- first_second_third_fourth_fifth\n",
    "# camel -- firstSecondThirdFourthFifth\n",
    "# pascal case -- FirstSecondThirdFourthFifth\n",
    "# crappy case -- FirstSecondThirdFOURTHFifth\n",
    "def snake_to_camel(input_string, is_pascal=False):\n",
    "    output_string = \"\"\n",
    "    for index, ele in enumerate(input_string.split(\"_\")):\n",
    "        if index == 0: \n",
    "            if is_pascal:\n",
    "                output_string += ele.capitalize()\n",
    "            else:\n",
    "                output_string += ele\n",
    "        else: # elif index >= 1: # index >= 1\n",
    "             output_string += ele.capitalize()\n",
    "    \n",
    "    return output_string\n",
    "\n",
    "snake_to_camel(x, True)"
   ]
  },
  {
   "cell_type": "code",
   "execution_count": 14,
   "id": "03947005-17bd-408c-a981-b547c89e0196",
   "metadata": {},
   "outputs": [
    {
     "data": {
      "text/plain": [
       "'firstSecondThirdFourthFifth'"
      ]
     },
     "execution_count": 14,
     "metadata": {},
     "output_type": "execute_result"
    }
   ],
   "source": [
    "x = \"first_second_third_fourth_fifth\" # first second third fourth fifth\n",
    "# snake -- first_second_third_fourth_fifth\n",
    "# camel -- firstSecondThirdFourthFifth\n",
    "# pascal case -- FirstSecondThirdFourthFifth\n",
    "def snake_to_camel(input_string, is_pascal=False):\n",
    "    output_string = \"\"\n",
    "    for index, ele in enumerate(input_string.split(\"_\")):\n",
    "\n",
    "        if index == 0 and is_pascal:\n",
    "            ele = ele.capitalize()\n",
    "        elif index >= 1:\n",
    "            ele = ele.capitalize()\n",
    "        output_string += ele\n",
    "      \n",
    "    \n",
    "    return output_string\n",
    "\n",
    "snake_to_camel(x, False)"
   ]
  },
  {
   "cell_type": "code",
   "execution_count": 18,
   "id": "81cf8505-4c09-400d-83fd-ee9b46563074",
   "metadata": {},
   "outputs": [
    {
     "data": {
      "text/plain": [
       "'FirstSecondThird'"
      ]
     },
     "execution_count": 18,
     "metadata": {},
     "output_type": "execute_result"
    }
   ],
   "source": [
    "x = \"first_second_third_fourth_fifth\" # first second third fourth fifth\n",
    "# snake -- first_second_third_fourth_fifth\n",
    "# camel -- firstSecondThirdFourthFifth\n",
    "# pascal case -- FirstSecondThirdFourthFifth\n",
    "# crappy case -- FirstSecondThirdFOURTHFifth\n",
    "def snake_to_camel(input_string, is_pascal=False):\n",
    "    output_string = \"\"\n",
    "    for index, ele in enumerate(input_string.split(\"_\")):\n",
    "        if index == 0: \n",
    "            if is_pascal:\n",
    "                output_string += ele.capitalize()\n",
    "            else:\n",
    "                output_string += ele\n",
    "        elif index == 3:\n",
    "            output_string += ele.upper()\n",
    "        else: # elif index >= 1: # index >= 1\n",
    "             output_string += ele.capitalize()\n",
    "        \n",
    "    \n",
    "    return output_string\n",
    "x = \"first_second_third\"\n",
    "snake_to_camel(x, True)"
   ]
  },
  {
   "cell_type": "code",
   "execution_count": 26,
   "id": "e246187f-8083-43ac-a0c4-af6dfb12ef73",
   "metadata": {},
   "outputs": [
    {
     "data": {
      "text/plain": [
       "10"
      ]
     },
     "execution_count": 26,
     "metadata": {},
     "output_type": "execute_result"
    }
   ],
   "source": [
    "def ex1(values):\n",
    "    output = 0 #### \n",
    "    # why not init an empty tuple?\n",
    "    for value in values:\n",
    "        output += value\n",
    "    return output\n",
    "\n",
    "ex1(range(5))"
   ]
  },
  {
   "cell_type": "code",
   "execution_count": 27,
   "id": "c7c2e647-be7b-4d67-9d8b-a815d27243a5",
   "metadata": {},
   "outputs": [
    {
     "data": {
      "text/plain": [
       "10"
      ]
     },
     "execution_count": 27,
     "metadata": {},
     "output_type": "execute_result"
    }
   ],
   "source": [
    "sum(range(5))"
   ]
  },
  {
   "cell_type": "code",
   "execution_count": 28,
   "id": "829d020a-d161-4fac-b163-c2a5bad76595",
   "metadata": {},
   "outputs": [
    {
     "data": {
      "text/plain": [
       "2.0"
      ]
     },
     "execution_count": 28,
     "metadata": {},
     "output_type": "execute_result"
    }
   ],
   "source": [
    "def ex2(values):\n",
    "    total = sum(values)\n",
    "    average = total / len(values)\n",
    "    return average\n",
    "\n",
    "ex2(range(5))"
   ]
  },
  {
   "cell_type": "code",
   "execution_count": 29,
   "id": "a7ab839a-ca41-418c-8120-f30601047956",
   "metadata": {},
   "outputs": [
    {
     "data": {
      "text/plain": [
       "2.0"
      ]
     },
     "execution_count": 29,
     "metadata": {},
     "output_type": "execute_result"
    }
   ],
   "source": [
    "def ex2(values):\n",
    "    total = 0\n",
    "    count = 0\n",
    "    for value in values:\n",
    "        total += value\n",
    "        count += 1\n",
    "    average = total / count\n",
    "    return round(average, 2)\n",
    "\n",
    "ex2(range(5))"
   ]
  },
  {
   "cell_type": "code",
   "execution_count": 31,
   "id": "1246a6d3-66ff-48dc-abef-aae3a1d01a03",
   "metadata": {},
   "outputs": [
    {
     "data": {
      "text/plain": [
       "[2, 4, 6, 8]"
      ]
     },
     "execution_count": 31,
     "metadata": {},
     "output_type": "execute_result"
    }
   ],
   "source": [
    "def ex4(values):\n",
    "    output = []\n",
    "    for value in values:\n",
    "        output.append(value * 2)\n",
    "    return output\n",
    "\n",
    "ex4([1, 2, 3, 4])"
   ]
  },
  {
   "cell_type": "code",
   "execution_count": 32,
   "id": "769c1579-0734-47fe-8b91-69509cefc219",
   "metadata": {},
   "outputs": [
    {
     "data": {
      "text/plain": [
       "[2, 4, 6, 8]"
      ]
     },
     "execution_count": 32,
     "metadata": {},
     "output_type": "execute_result"
    }
   ],
   "source": [
    "def ex4(values):\n",
    "    for idx, value in enumerate(values):\n",
    "        values[idx] = value * 2\n",
    "    return values\n",
    "\n",
    "ex4([1, 2, 3, 4])"
   ]
  },
  {
   "cell_type": "code",
   "execution_count": 33,
   "id": "b614ab4c-7f5d-44e9-901f-335cc64482fd",
   "metadata": {},
   "outputs": [
    {
     "data": {
      "text/plain": [
       "[1, 8, 27, 64]"
      ]
     },
     "execution_count": 33,
     "metadata": {},
     "output_type": "execute_result"
    }
   ],
   "source": [
    "def ex5(values, power):\n",
    "    output = []\n",
    "    for value in values:\n",
    "        output.append(value ** power)\n",
    "\n",
    "    return output\n",
    "\n",
    "ex5([1, 2, 3, 4], 3)"
   ]
  },
  {
   "cell_type": "code",
   "execution_count": 34,
   "id": "f2feb050-7828-43cc-9d36-4c52df228b6b",
   "metadata": {},
   "outputs": [
    {
     "data": {
      "text/plain": [
       "[1, 2, 3, 4, 5, 6]"
      ]
     },
     "execution_count": 34,
     "metadata": {},
     "output_type": "execute_result"
    }
   ],
   "source": [
    "def ex6(values):\n",
    "    output = []\n",
    "    for value in values:\n",
    "        if value not in output:\n",
    "            output.append(value)\n",
    "    return output\n",
    "\n",
    "ex6([1, 1, 2, 1, 3, 4, 4, 5, 6, 1])"
   ]
  },
  {
   "cell_type": "code",
   "execution_count": 43,
   "id": "5d0e7385-ebee-40f6-8f09-425942ac820f",
   "metadata": {},
   "outputs": [
    {
     "name": "stdout",
     "output_type": "stream",
     "text": [
      "80\n",
      "90\n",
      "78\n",
      "56\n",
      "90\n"
     ]
    },
    {
     "data": {
      "text/plain": [
       "78.8"
      ]
     },
     "execution_count": 43,
     "metadata": {},
     "output_type": "execute_result"
    }
   ],
   "source": [
    "filename = \"for_ex7_data1.txt\"\n",
    "values = []\n",
    "with open(filename, 'r') as file: # open file -- w - write (will delete old content), r - read , a - append\n",
    "    for line in file:\n",
    "        line = line.strip()\n",
    "        print(line)\n",
    "        values.append(int(line))\n",
    "\n",
    "# outside the with context\n",
    "sum(values) / len(values)"
   ]
  },
  {
   "cell_type": "code",
   "execution_count": 38,
   "id": "dc288c53-c5ce-427e-a42a-e4487680d126",
   "metadata": {},
   "outputs": [
    {
     "data": {
      "text/plain": [
       "'90'"
      ]
     },
     "execution_count": 38,
     "metadata": {},
     "output_type": "execute_result"
    }
   ],
   "source": [
    "\"90\\n\""
   ]
  },
  {
   "cell_type": "code",
   "execution_count": 36,
   "id": "4552a437-8a9b-487d-9275-dc714e1dff78",
   "metadata": {},
   "outputs": [
    {
     "name": "stdout",
     "output_type": "stream",
     "text": [
      "1\n",
      "2\n",
      "3\n",
      "4\n"
     ]
    }
   ],
   "source": [
    "x = [1, 2, 3, 4]\n",
    "for val in x:\n",
    "    print(val)"
   ]
  },
  {
   "cell_type": "code",
   "execution_count": 37,
   "id": "c746d14c-46ee-44ac-8a1c-93996807dd2a",
   "metadata": {},
   "outputs": [
    {
     "data": {
      "text/plain": [
       "4"
      ]
     },
     "execution_count": 37,
     "metadata": {},
     "output_type": "execute_result"
    }
   ],
   "source": [
    "val"
   ]
  },
  {
   "cell_type": "code",
   "execution_count": 45,
   "id": "977051df-d93c-446b-83ce-9644019bfdc2",
   "metadata": {},
   "outputs": [
    {
     "name": "stdout",
     "output_type": "stream",
     "text": [
      "99\n",
      "98\n",
      "78\n",
      "43\n",
      "34\n",
      "99\n",
      "0\n"
     ]
    },
    {
     "data": {
      "text/plain": [
       "64.42857142857143"
      ]
     },
     "execution_count": 45,
     "metadata": {},
     "output_type": "execute_result"
    }
   ],
   "source": [
    "filename = \"for_ex7_data2.txt\"\n",
    "values = []\n",
    "with open(filename, 'r') as file: # open file -- w - write (will delete old content), r - read , a - append\n",
    "    for line in file:\n",
    "        line = line.strip()\n",
    "        if not line: # is asking is the line empty?\n",
    "            continue\n",
    "        print(line)\n",
    "        values.append(int(line))\n",
    "\n",
    "# outside the with context\n",
    "sum(values) / len(values)"
   ]
  },
  {
   "cell_type": "code",
   "execution_count": 49,
   "id": "64d4ce1e-1ee5-4a58-844b-3756c7effba4",
   "metadata": {},
   "outputs": [
    {
     "name": "stdout",
     "output_type": "stream",
     "text": [
      "99.4\n",
      "98.5\n",
      "99.o\n",
      "Skipping value 99.o\n",
      "78.34\n",
      "43.34\n",
      "34\n",
      "99\n",
      "AAB\n",
      "Skipping value AAB\n",
      "9A.00\n",
      "Skipping value 9A.00\n"
     ]
    },
    {
     "data": {
      "text/plain": [
       "75.43"
      ]
     },
     "execution_count": 49,
     "metadata": {},
     "output_type": "execute_result"
    }
   ],
   "source": [
    "filename = \"for_ex7_data3.txt\"\n",
    "values = []\n",
    "with open(filename, 'r') as file: # open file -- w - write (will delete old content), r - read , a - append\n",
    "    for line in file:\n",
    "        line = line.strip()\n",
    "        if not line: # is asking is the line empty?\n",
    "            continue\n",
    "        print(line)\n",
    "        try:\n",
    "            value = float(line)\n",
    "        except ValueError:\n",
    "            print(\"Skipping value\", line)\n",
    "            continue\n",
    "        \n",
    "        values.append(value)\n",
    "\n",
    "# outside the with context\n",
    "sum(values) / len(values)"
   ]
  },
  {
   "cell_type": "code",
   "execution_count": 62,
   "id": "b7abe1ae-3c3d-43db-b3c2-22370d14e2a8",
   "metadata": {},
   "outputs": [
    {
     "data": {
      "text/plain": [
       "'TTTHTTTTHT'"
      ]
     },
     "execution_count": 62,
     "metadata": {},
     "output_type": "execute_result"
    }
   ],
   "source": [
    "\n",
    "# head == 0\n",
    "# tail == 1\n",
    "\n",
    "def ex8(no_flips):\n",
    "    import random\n",
    "    output_string = \"\"\n",
    "    for _ in range(no_flips):\n",
    "        flip = random.randint(0,1)  \n",
    "        if flip == 0:\n",
    "            output_string += \"H\"\n",
    "        else:\n",
    "            output_string += \"T\"\n",
    "    return output_string\n",
    "\n",
    "\n",
    "ex8(10)    "
   ]
  },
  {
   "cell_type": "code",
   "execution_count": 55,
   "id": "2b8d84b6-9d5a-4445-84c2-061930126d95",
   "metadata": {},
   "outputs": [],
   "source": [
    "x = 2"
   ]
  },
  {
   "cell_type": "code",
   "execution_count": 57,
   "id": "68960dba-e05f-40aa-b7bb-5e5452cc5566",
   "metadata": {},
   "outputs": [
    {
     "data": {
      "text/plain": [
       "4"
      ]
     },
     "execution_count": 57,
     "metadata": {},
     "output_type": "execute_result"
    }
   ],
   "source": [
    "x * x\n"
   ]
  },
  {
   "cell_type": "code",
   "execution_count": 60,
   "id": "e15acbee-9ddb-43cc-87f7-6d7d77c538e0",
   "metadata": {},
   "outputs": [
    {
     "name": "stdout",
     "output_type": "stream",
     "text": [
      "4\n"
     ]
    }
   ],
   "source": [
    "print(_)"
   ]
  },
  {
   "cell_type": "code",
   "execution_count": 70,
   "id": "af3e1635-6b8b-43ab-b568-61ae87e8fb2e",
   "metadata": {},
   "outputs": [
    {
     "name": "stdout",
     "output_type": "stream",
     "text": [
      "(0.3, 0.7)\n",
      "(0.3, 0.7)\n",
      "(0.6, 0.4)\n",
      "(0.4, 0.6)\n",
      "(0.5, 0.5)\n",
      "(0.5, 0.5)\n",
      "(0.2, 0.8)\n",
      "(0.4, 0.6)\n",
      "(0.4, 0.6)\n",
      "(0.5, 0.5)\n"
     ]
    }
   ],
   "source": [
    "def ex9(no_flips):\n",
    "    flips = ex8(no_flips)\n",
    "    no_heads = flips.count('H')\n",
    "    no_tails = flips.count('T')\n",
    "\n",
    "    p_h = no_heads / no_flips\n",
    "    p_t = no_tails / no_flips\n",
    "    return (p_h, p_t)\n",
    "\n",
    "for _ in range(10):\n",
    "    print(ex9(10))"
   ]
  },
  {
   "cell_type": "code",
   "execution_count": 72,
   "id": "bdffb940-b106-4161-88c2-e94e5020827d",
   "metadata": {},
   "outputs": [
    {
     "name": "stdout",
     "output_type": "stream",
     "text": [
      "10 (0.5, 0.5)\n",
      "100 (0.42, 0.58)\n",
      "1000 (0.516, 0.484)\n",
      "10000 (0.4965, 0.5035)\n",
      "100000 (0.49972, 0.50028)\n",
      "1000000 (0.500257, 0.499743)\n",
      "10000000 (0.4999932, 0.5000068)\n"
     ]
    }
   ],
   "source": [
    "for no_flips in (10, 100, 1_000, 10_000, 100_000, 1_000_000, 10_000_000):\n",
    "    print(no_flips, ex9(no_flips))"
   ]
  },
  {
   "cell_type": "code",
   "execution_count": 81,
   "id": "b004c710-1979-4817-b833-0bde7e168335",
   "metadata": {},
   "outputs": [
    {
     "name": "stdout",
     "output_type": "stream",
     "text": [
      "18\n",
      "32\n",
      "4\n",
      "79\n",
      "58\n",
      "24\n",
      "90\n",
      "16\n",
      "95\n",
      "84\n"
     ]
    }
   ],
   "source": [
    "import random\n",
    "random.seed(22)\n",
    "for _ in range(10):\n",
    "    print(random.randint(1,100))\n",
    "\n"
   ]
  },
  {
   "cell_type": "code",
   "execution_count": 87,
   "id": "f445771d-eab9-40da-8e33-9f6d6d40feb9",
   "metadata": {},
   "outputs": [
    {
     "name": "stdout",
     "output_type": "stream",
     "text": [
      "student1 68.125\n",
      "student2 79.6\n",
      "student3 85.8\n",
      "student4 78.8\n",
      "student5 83.4\n",
      "student6 73.8\n",
      "student7 81.6\n",
      "student8 90.0\n",
      "student9 87.0\n",
      "student10 78.2\n"
     ]
    }
   ],
   "source": [
    "filename = \"for_ex11_data.txt\"\n",
    "\n",
    "with open(filename) as file:\n",
    "    for line in file:\n",
    "        line = line.strip()\n",
    "        if not line:\n",
    "            continue\n",
    "        name, *grades = line.split(',')\n",
    "        grades2 = []\n",
    "        for grade in grades:\n",
    "            grades2.append(int(grade))\n",
    "        print(name, sum(grades2)/len(grades2))"
   ]
  },
  {
   "cell_type": "code",
   "execution_count": 88,
   "id": "9563a962-8482-4937-87d9-01fe8d9f07d3",
   "metadata": {},
   "outputs": [
    {
     "name": "stdout",
     "output_type": "stream",
     "text": [
      "83.149.9.216 - - [17/May/2015:10:05:03 +0000] \"GET /presentations/logstash-monitorama-2013/images/kibana-search.png HTTP/1.1\" 200 203023 \"http://semicomplete.com/presentations/logstash-monitorama-2013/\" \"Mozilla/5.0 (Macintosh; Intel Mac OS X 10_9_1) AppleWebKit/537.36 (KHTML, like Gecko) Chrome/32.0.1700.77 Safari/537.36\"\n"
     ]
    }
   ],
   "source": [
    "x = '83.149.9.216 - - [17/May/2015:10:05:03 +0000] \"GET /presentations/logstash-monitorama-2013/images/kibana-search.png HTTP/1.1\" 200 203023 \"http://semicomplete.com/presentations/logstash-monitorama-2013/\" \"Mozilla/5.0 (Macintosh; Intel Mac OS X 10_9_1) AppleWebKit/537.36 (KHTML, like Gecko) Chrome/32.0.1700.77 Safari/537.36\"'\n",
    "print(x)\n"
   ]
  },
  {
   "cell_type": "code",
   "execution_count": 106,
   "id": "365d02d1-5907-4e7f-86c4-87fc0fcaaea9",
   "metadata": {},
   "outputs": [],
   "source": [
    "h, i, u, *rest = x.split(\" \", 3)\n",
    "rest = rest[0]"
   ]
  },
  {
   "cell_type": "code",
   "execution_count": 107,
   "id": "80c99e9d-7f10-4e79-b3df-063c43b0bc85",
   "metadata": {},
   "outputs": [
    {
     "name": "stdout",
     "output_type": "stream",
     "text": [
      "83.149.9.216 - -\n"
     ]
    }
   ],
   "source": [
    "print(h, i, u)"
   ]
  },
  {
   "cell_type": "code",
   "execution_count": 108,
   "id": "e696a2d4-bf6a-40a3-b594-d54f34ed454b",
   "metadata": {},
   "outputs": [
    {
     "data": {
      "text/plain": [
       "'17/May/2015:10:05:03 +0000'"
      ]
     },
     "execution_count": 108,
     "metadata": {},
     "output_type": "execute_result"
    }
   ],
   "source": [
    "start_idx = rest.find('[')\n",
    "stop_idx = rest.find(']')\n",
    "t = rest[start_idx+1:stop_idx]\n",
    "rest = rest[stop_idx+1:]\n",
    "t"
   ]
  },
  {
   "cell_type": "code",
   "execution_count": 109,
   "id": "839cf7c4-a48a-4513-9b1d-f77933c18bdf",
   "metadata": {},
   "outputs": [
    {
     "data": {
      "text/plain": [
       "' \"GET /presentations/logstash-monitorama-2013/images/kibana-search.png HTTP/1.1\" 200 203023 \"http://semicomplete.com/presentations/logstash-monitorama-2013/\" \"Mozilla/5.0 (Macintosh; Intel Mac OS X 10_9_1) AppleWebKit/537.36 (KHTML, like Gecko) Chrome/32.0.1700.77 Safari/537.36\"'"
      ]
     },
     "execution_count": 109,
     "metadata": {},
     "output_type": "execute_result"
    }
   ],
   "source": [
    "\n",
    "rest"
   ]
  }
 ],
 "metadata": {
  "kernelspec": {
   "display_name": "Python 3 (ipykernel)",
   "language": "python",
   "name": "python3"
  },
  "language_info": {
   "codemirror_mode": {
    "name": "ipython",
    "version": 3
   },
   "file_extension": ".py",
   "mimetype": "text/x-python",
   "name": "python",
   "nbconvert_exporter": "python",
   "pygments_lexer": "ipython3",
   "version": "3.12.3"
  }
 },
 "nbformat": 4,
 "nbformat_minor": 5
}
