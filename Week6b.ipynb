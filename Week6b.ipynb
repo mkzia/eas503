{
 "cells": [
  {
   "cell_type": "code",
   "execution_count": 1,
   "id": "a3009c86-41e6-4536-a55f-a2135ed924fc",
   "metadata": {},
   "outputs": [
    {
     "data": {
      "text/plain": [
       "{'ErrorRate': 1}"
      ]
     },
     "execution_count": 1,
     "metadata": {},
     "output_type": "execute_result"
    }
   ],
   "source": [
    "my_dict = {'ErrorRate': 0}\n",
    "my_dict['ErrorRate'] += 1\n",
    "my_dict"
   ]
  },
  {
   "cell_type": "code",
   "execution_count": 2,
   "id": "83253864-12d1-4116-a531-597f3e5799fd",
   "metadata": {},
   "outputs": [
    {
     "data": {
      "text/plain": [
       "{'ErrorRate': 2}"
      ]
     },
     "execution_count": 2,
     "metadata": {},
     "output_type": "execute_result"
    }
   ],
   "source": [
    "my_dict['ErrorRate'] += 1\n",
    "my_dict"
   ]
  },
  {
   "cell_type": "code",
   "execution_count": 4,
   "id": "c2c1c33b-57bd-456d-b8a6-a8e96402b549",
   "metadata": {},
   "outputs": [
    {
     "data": {
      "text/plain": [
       "{'Grades': [3]}"
      ]
     },
     "execution_count": 4,
     "metadata": {},
     "output_type": "execute_result"
    }
   ],
   "source": [
    "my_dict = {'Grades': []}\n",
    "my_dict['Grades'].append(3)\n",
    "my_dict"
   ]
  },
  {
   "cell_type": "code",
   "execution_count": null,
   "id": "7c6fd4b3-d73c-481c-b180-ec5d17ac5952",
   "metadata": {},
   "outputs": [],
   "source": []
  },
  {
   "cell_type": "code",
   "execution_count": 5,
   "id": "880ac341-094e-4868-9dce-91b788cf9490",
   "metadata": {},
   "outputs": [
    {
     "data": {
      "text/plain": [
       "{'Grades': [3, 53]}"
      ]
     },
     "execution_count": 5,
     "metadata": {},
     "output_type": "execute_result"
    }
   ],
   "source": [
    "my_dict['Grades'].append(53)\n",
    "my_dict"
   ]
  },
  {
   "cell_type": "code",
   "execution_count": 7,
   "id": "7b64b8ce-8ba0-4d3c-b3d3-a045cfe2ad99",
   "metadata": {},
   "outputs": [],
   "source": [
    "my_dict = {}\n",
    "if 'LoginCount' not in my_dict:\n",
    "    my_dict['LoginCount'] =  0\n",
    "my_dict['LoginCount'] += 1"
   ]
  },
  {
   "cell_type": "code",
   "execution_count": null,
   "id": "b3c94bb4-5765-4f40-a8ef-a044a98dd232",
   "metadata": {},
   "outputs": [],
   "source": [
    "my_dict = {}\n",
    "if 'Grades' not in my_dict:\n",
    "    my_dict['Grades'] =  []\n",
    "my_dict['Grades'].append(3)"
   ]
  },
  {
   "cell_type": "code",
   "execution_count": 9,
   "id": "c4a812eb-5316-4276-99e7-eec8ccba045b",
   "metadata": {},
   "outputs": [
    {
     "data": {
      "text/plain": [
       "defaultdict(int, {'a': 10})"
      ]
     },
     "execution_count": 9,
     "metadata": {},
     "output_type": "execute_result"
    }
   ],
   "source": [
    "from collections import defaultdict\n",
    "my_dict = defaultdict(int) # int 0, list = [], dict = {}\n",
    "my_dict['a'] += 10\n",
    "my_dict"
   ]
  },
  {
   "cell_type": "code",
   "execution_count": 10,
   "id": "4b71c76d-c897-4ad6-ab5e-7aa745549145",
   "metadata": {},
   "outputs": [
    {
     "data": {
      "text/plain": [
       "defaultdict(int, {'a': 10, 'aaaaaaa': 10})"
      ]
     },
     "execution_count": 10,
     "metadata": {},
     "output_type": "execute_result"
    }
   ],
   "source": [
    "my_dict['aaaaaaa'] += 10\n",
    "my_dict"
   ]
  },
  {
   "cell_type": "code",
   "execution_count": 11,
   "id": "a3ecf99b-f86d-4aa3-893d-524f76f119f5",
   "metadata": {},
   "outputs": [
    {
     "data": {
      "text/plain": [
       "defaultdict(list, {'Grades': [3]})"
      ]
     },
     "execution_count": 11,
     "metadata": {},
     "output_type": "execute_result"
    }
   ],
   "source": [
    "from collections import defaultdict\n",
    "my_dict = defaultdict(list)\n",
    "my_dict['Grades'].append(3)\n",
    "my_dict"
   ]
  },
  {
   "cell_type": "code",
   "execution_count": 12,
   "id": "511190c3-59e2-4bbf-82ca-62b582bbbbbe",
   "metadata": {},
   "outputs": [
    {
     "data": {
      "text/plain": [
       "Counter({31: 7, 30: 4, 0: 1, 28: 1})"
      ]
     },
     "execution_count": 12,
     "metadata": {},
     "output_type": "execute_result"
    }
   ],
   "source": [
    "from collections import Counter\n",
    "days_in_months = [0, 31, 28, 31, 30, 31, 30, 31, 31, 30, 31, 30, 31]\n",
    "\n",
    "Counter(days_in_months)"
   ]
  },
  {
   "cell_type": "code",
   "execution_count": 13,
   "id": "bb445232-69eb-4e4c-8c4f-024f29602a35",
   "metadata": {},
   "outputs": [],
   "source": [
    "values = range(10)\n",
    "lst = [value * value for value in values]\n",
    "\n"
   ]
  },
  {
   "cell_type": "code",
   "execution_count": 14,
   "id": "2b3132ec-954f-4cfb-80c9-fcf2b57b20cf",
   "metadata": {},
   "outputs": [
    {
     "name": "stdout",
     "output_type": "stream",
     "text": [
      "0\n",
      "1\n",
      "4\n",
      "9\n",
      "16\n",
      "25\n",
      "36\n",
      "49\n",
      "64\n",
      "81\n",
      "0\n",
      "1\n",
      "4\n",
      "9\n",
      "16\n",
      "25\n",
      "36\n",
      "49\n",
      "64\n",
      "81\n"
     ]
    }
   ],
   "source": [
    "for ele in lst:\n",
    "    print(ele)\n",
    "\n",
    "for ele in lst:\n",
    "    print(ele)"
   ]
  },
  {
   "cell_type": "code",
   "execution_count": 16,
   "id": "dc8fdb0d-92eb-42e8-8656-97a05b41161d",
   "metadata": {},
   "outputs": [],
   "source": [
    "values = range(10)\n",
    "tupl = (value * value for value in values)\n",
    "\n"
   ]
  },
  {
   "cell_type": "code",
   "execution_count": 17,
   "id": "c31dff9f-6ede-4e2d-83af-9e29fb703ccc",
   "metadata": {},
   "outputs": [
    {
     "name": "stdout",
     "output_type": "stream",
     "text": [
      "0\n",
      "1\n",
      "4\n",
      "9\n",
      "16\n",
      "25\n",
      "36\n",
      "49\n",
      "64\n",
      "81\n"
     ]
    }
   ],
   "source": [
    "for ele in tupl:\n",
    "    print(ele)\n",
    "\n",
    "for ele in tupl: # generator has been exhuasted\n",
    "    print(ele)"
   ]
  },
  {
   "cell_type": "code",
   "execution_count": null,
   "id": "c7e2f5a8-3436-496e-9383-fa6ac28df46d",
   "metadata": {},
   "outputs": [],
   "source": [
    "{ ele:f(ele) for ele in sequence }\n",
    "\n",
    "{ ele:f(ele) for ele in sequence if condition }\n",
    "\n",
    "{ ele:f(ele) if condition else g(ele) for ele in sequence }\n",
    "\n",
    "{ ele:f(ele) for ele in sequence if condition1 and condition2}\n"
   ]
  },
  {
   "cell_type": "code",
   "execution_count": 19,
   "id": "e739c58f-f09a-460d-adcb-f6f7839587c7",
   "metadata": {},
   "outputs": [
    {
     "data": {
      "text/plain": [
       "{1: 2, 3: 12, 5: 30}"
      ]
     },
     "execution_count": 19,
     "metadata": {},
     "output_type": "execute_result"
    }
   ],
   "source": [
    "my_dict = {1:2, 3:4, 5:6}\n",
    "\n",
    "{key: key*value for key, value in my_dict.items()}"
   ]
  },
  {
   "cell_type": "code",
   "execution_count": 20,
   "id": "965af71c-57a5-45e7-9618-8f12ca6ed930",
   "metadata": {},
   "outputs": [
    {
     "data": {
      "text/plain": [
       "{1: 4, 3: 16, 5: 36}"
      ]
     },
     "execution_count": 20,
     "metadata": {},
     "output_type": "execute_result"
    }
   ],
   "source": [
    "{key: pow(value, 2) for key, value in my_dict.items()}"
   ]
  },
  {
   "cell_type": "code",
   "execution_count": 21,
   "id": "b4fdee8a-64df-41a5-96e9-96637d7646a0",
   "metadata": {},
   "outputs": [
    {
     "data": {
      "text/plain": [
       "{0: 0, 1: 1, 2: 4, 3: 9, 4: 16}"
      ]
     },
     "execution_count": 21,
     "metadata": {},
     "output_type": "execute_result"
    }
   ],
   "source": [
    "{num: num*num for num in range(5)}"
   ]
  },
  {
   "cell_type": "code",
   "execution_count": 22,
   "id": "2aab570e-743a-4571-9c88-491babbb3bda",
   "metadata": {},
   "outputs": [
    {
     "data": {
      "text/plain": [
       "{1: 'odd',\n",
       " 2: 'even',\n",
       " 3: 'odd',\n",
       " 4: 'even',\n",
       " 5: 'odd',\n",
       " 6: 'even',\n",
       " 7: 'odd',\n",
       " 8: 'even',\n",
       " 9: 'odd',\n",
       " 10: 'even',\n",
       " 11: 'odd',\n",
       " 12: 'even',\n",
       " 13: 'odd',\n",
       " 14: 'even',\n",
       " 15: 'odd',\n",
       " 16: 'even',\n",
       " 17: 'odd',\n",
       " 18: 'even',\n",
       " 19: 'odd'}"
      ]
     },
     "execution_count": 22,
     "metadata": {},
     "output_type": "execute_result"
    }
   ],
   "source": [
    "{num: (\"even\" if num % 2 == 0 else \"odd\") for num in range(1, 20)}"
   ]
  },
  {
   "cell_type": "code",
   "execution_count": 25,
   "id": "2307975b-3f1d-4b45-84dc-bfbc67e2d8a2",
   "metadata": {},
   "outputs": [
    {
     "name": "stdout",
     "output_type": "stream",
     "text": [
      "1 5 9\n",
      "2 6 10\n",
      "3 7 11\n"
     ]
    }
   ],
   "source": [
    "l1 = [1, 2, 3, 4]\n",
    "l2 = [5, 6, 7]\n",
    "l3 = [9, 10, 11, 12, 15, 18]\n",
    "\n",
    "for a, b, c in zip(l1, l2, l3):\n",
    "    print(a, b, c)"
   ]
  },
  {
   "cell_type": "code",
   "execution_count": 26,
   "id": "b90abda9-9907-4ab8-8b0d-7ea5848769ca",
   "metadata": {},
   "outputs": [
    {
     "data": {
      "text/plain": [
       "{'john': 95, 'jane': 99, 'doe': 98}"
      ]
     },
     "execution_count": 26,
     "metadata": {},
     "output_type": "execute_result"
    }
   ],
   "source": [
    "list1 = ['john', 'jane', 'doe']\n",
    "list2 = [95, 99, 98]\n",
    "\n",
    "{list1[i]: list2[i] for i in range(len(list1))}"
   ]
  },
  {
   "cell_type": "code",
   "execution_count": 27,
   "id": "c0ed00a6-27b6-4434-a4cb-1f89c6e11312",
   "metadata": {},
   "outputs": [
    {
     "data": {
      "text/plain": [
       "{'john': 95, 'jane': 99, 'doe': 98}"
      ]
     },
     "execution_count": 27,
     "metadata": {},
     "output_type": "execute_result"
    }
   ],
   "source": [
    "dict(zip(list1,list2))"
   ]
  },
  {
   "cell_type": "code",
   "execution_count": 30,
   "id": "346484ac-0b73-43ad-80bb-3620adc5348d",
   "metadata": {},
   "outputs": [
    {
     "data": {
      "text/plain": [
       "{1: 2, 3: 4, 5: 6}"
      ]
     },
     "execution_count": 30,
     "metadata": {},
     "output_type": "execute_result"
    }
   ],
   "source": [
    "dict(((1,2), (3,4), (5,6)))"
   ]
  },
  {
   "cell_type": "code",
   "execution_count": 38,
   "id": "04beab2d-7172-49a4-9bf9-a4c3c9700e8c",
   "metadata": {},
   "outputs": [
    {
     "name": "stdout",
     "output_type": "stream",
     "text": [
      "{\n",
      "  \"last_name\": \"Weaver\",\n",
      "  \"first_name\": \"Michael\",\n",
      "  \"email\": \"xdunn@hotmail.com\",\n",
      "  \"country\": \"Nepal\",\n",
      "  \"account\": \"QVJP6465242365388\"\n",
      "}\n",
      "{\n",
      "  \"last_name\": \"Owens\",\n",
      "  \"first_name\": \"Jackson\",\n",
      "  \"email\": \"iedwards@yahoo.com\",\n",
      "  \"country\": \"Kazakhstan\",\n",
      "  \"account\": \"FVQZ0955529767455\"\n",
      "}\n",
      "{\n",
      "  \"last_name\": \"Gilmore\",\n",
      "  \"first_name\": \"Patrick\",\n",
      "  \"email\": \"arogers@smith.com\",\n",
      "  \"country\": \"Mauritius\",\n",
      "  \"account\": \"QFIM0905182880347\"\n",
      "}\n",
      "{\n",
      "  \"last_name\": \"Perez\",\n",
      "  \"first_name\": \"Jeffrey\",\n",
      "  \"email\": \"plewis@chavez.com\",\n",
      "  \"country\": \"New Zealand\",\n",
      "  \"account\": \"YWOT0997131632248\"\n",
      "}\n",
      "{\n",
      "  \"last_name\": \"Thomas\",\n",
      "  \"first_name\": \"James\",\n",
      "  \"email\": \"fred92@yahoo.com\",\n",
      "  \"country\": \"Yemen\",\n",
      "  \"account\": \"QAAE9838291982555\"\n",
      "}\n",
      "{\n",
      "  \"last_name\": \"Nelson\",\n",
      "  \"first_name\": \"Greg\",\n",
      "  \"email\": \"mmiller@lynch.com\",\n",
      "  \"country\": \"Jordan\",\n",
      "  \"account\": \"PCNE8127696280157\"\n",
      "}\n",
      "{\n",
      "  \"last_name\": \"White\",\n",
      "  \"first_name\": \"Joshua\",\n",
      "  \"email\": \"steven49@gmail.com\",\n",
      "  \"country\": \"Palau\",\n",
      "  \"account\": \"BCEN3299883381338\"\n",
      "}\n",
      "{\n",
      "  \"last_name\": \"Francis\",\n",
      "  \"first_name\": \"Todd\",\n",
      "  \"email\": \"amanda23@hotmail.com\",\n",
      "  \"country\": \"Argentina\",\n",
      "  \"account\": \"XPTQ7837014557677\"\n",
      "}\n",
      "{\n",
      "  \"last_name\": \"Shaw\",\n",
      "  \"first_name\": \"Stephen\",\n",
      "  \"email\": \"jackduke@hotmail.com\",\n",
      "  \"country\": \"Marshall Islands\",\n",
      "  \"account\": \"TRLQ6559557081716\"\n",
      "}\n",
      "{\n",
      "  \"last_name\": \"Armstrong\",\n",
      "  \"first_name\": \"Mariah\",\n",
      "  \"email\": \"rhodesnicholas@hotmail.com\",\n",
      "  \"country\": \"Albania\",\n",
      "  \"account\": \"OHOV7518558201999\"\n",
      "}\n",
      "{\n",
      "  \"last_name\": \"Boyle\",\n",
      "  \"first_name\": \"Anthony\",\n",
      "  \"email\": \"smithashlee@yahoo.com\",\n",
      "  \"country\": \"Kyrgyz Republic\",\n",
      "  \"account\": \"MCQU7347833033110\"\n",
      "}\n",
      "{\n",
      "  \"last_name\": \"Cuevas\",\n",
      "  \"first_name\": \"Patrick\",\n",
      "  \"email\": \"ubriggs@hill.info\",\n",
      "  \"country\": \"Turkmenistan\",\n",
      "  \"account\": \"PPHE5533473251751\"\n",
      "}\n",
      "{\n",
      "  \"last_name\": \"Reyes\",\n",
      "  \"first_name\": \"Gerald\",\n",
      "  \"email\": \"brownclarence@gonzalez-moore.com\",\n",
      "  \"country\": \"Fiji\",\n",
      "  \"account\": \"JCDK1943355298609\"\n",
      "}\n",
      "{\n",
      "  \"last_name\": \"Calderon\",\n",
      "  \"first_name\": \"Christopher\",\n",
      "  \"email\": \"teresa30@carpenter-warner.com\",\n",
      "  \"country\": \"Costa Rica\",\n",
      "  \"account\": \"NERZ5502558659614\"\n",
      "}\n",
      "{\n",
      "  \"last_name\": \"Weiss\",\n",
      "  \"first_name\": \"Shane\",\n",
      "  \"email\": \"leekatherine@williams.com\",\n",
      "  \"country\": \"Martinique\",\n",
      "  \"account\": \"DLDV5789894914403\"\n",
      "}\n",
      "{\n",
      "  \"last_name\": \"Conley\",\n",
      "  \"first_name\": \"Crystal\",\n",
      "  \"email\": \"chasewatkins@perez-phillips.com\",\n",
      "  \"country\": \"Singapore\",\n",
      "  \"account\": \"GZZF6936998445532\"\n",
      "}\n",
      "{\n",
      "  \"last_name\": \"Nelson\",\n",
      "  \"first_name\": \"Jeffrey\",\n",
      "  \"email\": \"hsherman@gmail.com\",\n",
      "  \"country\": \"Mayotte\",\n",
      "  \"account\": \"ECGK2823955143629\"\n",
      "}\n",
      "{\n",
      "  \"last_name\": \"Johnson\",\n",
      "  \"first_name\": \"Brianna\",\n",
      "  \"email\": \"martinezdaniel@hotmail.com\",\n",
      "  \"country\": \"Costa Rica\",\n",
      "  \"account\": \"QOVO4275314052899\"\n",
      "}\n",
      "{\n",
      "  \"last_name\": \"Werner\",\n",
      "  \"first_name\": \"Brandon\",\n",
      "  \"email\": \"justinfischer@gmail.com\",\n",
      "  \"country\": \"Guadeloupe\",\n",
      "  \"account\": \"UKRT1119626365017\"\n",
      "}\n",
      "{\n",
      "  \"last_name\": \"Bennett\",\n",
      "  \"first_name\": \"Brianna\",\n",
      "  \"email\": \"cindy08@gmail.com\",\n",
      "  \"country\": \"Bahamas\",\n",
      "  \"account\": \"UNPV3347450330173\"\n",
      "}\n",
      "{\n",
      "  \"last_name\": \"Fletcher\",\n",
      "  \"first_name\": \"Austin\",\n",
      "  \"email\": \"carolharrington@fleming.org\",\n",
      "  \"country\": \"Azerbaijan\",\n",
      "  \"account\": \"GJZT6825738428111\"\n",
      "}\n",
      "{\n",
      "  \"last_name\": \"Lewis\",\n",
      "  \"first_name\": \"Patrick\",\n",
      "  \"email\": \"lopezcarl@johnson.com\",\n",
      "  \"country\": \"Saint Helena\",\n",
      "  \"account\": \"JOQE2648899771737\"\n",
      "}\n",
      "{\n",
      "  \"last_name\": \"Smith\",\n",
      "  \"first_name\": \"Joseph\",\n",
      "  \"email\": \"michael74@yahoo.com\",\n",
      "  \"country\": \"Hong Kong\",\n",
      "  \"account\": \"MNXY3262955868027\"\n",
      "}\n",
      "{\n",
      "  \"last_name\": \"Sullivan\",\n",
      "  \"first_name\": \"Sharon\",\n",
      "  \"email\": \"gonzalezrobert@hotmail.com\",\n",
      "  \"country\": \"Turkey\",\n",
      "  \"account\": \"YHXF7256577475630\"\n",
      "}\n",
      "{\n",
      "  \"last_name\": \"Wilson\",\n",
      "  \"first_name\": \"Krystal\",\n",
      "  \"email\": \"dawnjohnson@gmail.com\",\n",
      "  \"country\": \"Swaziland\",\n",
      "  \"account\": \"MUVI3570791852556\"\n",
      "}\n",
      "{\n",
      "  \"last_name\": \"Schmidt\",\n",
      "  \"first_name\": \"Diana\",\n",
      "  \"email\": \"watersryan@gmail.com\",\n",
      "  \"country\": \"Holy See (Vatican City State)\",\n",
      "  \"account\": \"UKCP6739617302102\"\n",
      "}\n",
      "{\n",
      "  \"last_name\": \"Huff\",\n",
      "  \"first_name\": \"Sean\",\n",
      "  \"email\": \"byoung@gmail.com\",\n",
      "  \"country\": \"Norfolk Island\",\n",
      "  \"account\": \"WDAT4146843903498\"\n",
      "}\n",
      "{\n",
      "  \"last_name\": \"Nguyen\",\n",
      "  \"first_name\": \"Robin\",\n",
      "  \"email\": \"vhanson@yahoo.com\",\n",
      "  \"country\": \"Kenya\",\n",
      "  \"account\": \"SVMU4403517448078\"\n",
      "}\n",
      "{\n",
      "  \"last_name\": \"Russell\",\n",
      "  \"first_name\": \"Robyn\",\n",
      "  \"email\": \"bfletcher@yahoo.com\",\n",
      "  \"country\": \"Togo\",\n",
      "  \"account\": \"ZNUY4071301663622\"\n",
      "}\n",
      "{\n",
      "  \"last_name\": \"Smith\",\n",
      "  \"first_name\": \"Tiffany\",\n",
      "  \"email\": \"colleengarrison@hotmail.com\",\n",
      "  \"country\": \"San Marino\",\n",
      "  \"account\": \"GPFA8271551275648\"\n",
      "}\n",
      "{\n",
      "  \"last_name\": \"Smith\",\n",
      "  \"first_name\": \"Lori\",\n",
      "  \"email\": \"catherine23@gmail.com\",\n",
      "  \"country\": \"Romania\",\n",
      "  \"account\": \"MKWY4848668895426\"\n",
      "}\n",
      "{\n",
      "  \"last_name\": \"Keith\",\n",
      "  \"first_name\": \"Sabrina\",\n",
      "  \"email\": \"xmurphy@yahoo.com\",\n",
      "  \"country\": \"Algeria\",\n",
      "  \"account\": \"QHIW7412514205367\"\n",
      "}\n",
      "{\n",
      "  \"last_name\": \"Johnson\",\n",
      "  \"first_name\": \"Miguel\",\n",
      "  \"email\": \"aaronrichard@middleton.net\",\n",
      "  \"country\": \"Slovakia (Slovak Republic)\",\n",
      "  \"account\": \"QAAO4666689281736\"\n",
      "}\n",
      "{\n",
      "  \"last_name\": \"Barron\",\n",
      "  \"first_name\": \"Dustin\",\n",
      "  \"email\": \"jesse93@best.com\",\n",
      "  \"country\": \"Somalia\",\n",
      "  \"account\": \"LRPR8694143910883\"\n",
      "}\n",
      "{\n",
      "  \"last_name\": \"Robinson\",\n",
      "  \"first_name\": \"Michael\",\n",
      "  \"email\": \"johnperez@johnson.com\",\n",
      "  \"country\": \"Turkmenistan\",\n",
      "  \"account\": \"UWFU1921951273393\"\n",
      "}\n",
      "{\n",
      "  \"last_name\": \"Nguyen\",\n",
      "  \"first_name\": \"Robert\",\n",
      "  \"email\": \"jessica62@yahoo.com\",\n",
      "  \"country\": \"Croatia\",\n",
      "  \"account\": \"JQHS4274771257925\"\n",
      "}\n",
      "{\n",
      "  \"last_name\": \"Abbott\",\n",
      "  \"first_name\": \"Brandon\",\n",
      "  \"email\": \"jennifer87@gmail.com\",\n",
      "  \"country\": \"Jamaica\",\n",
      "  \"account\": \"RSLD0426398604312\"\n",
      "}\n",
      "{\n",
      "  \"last_name\": \"Oneill\",\n",
      "  \"first_name\": \"Bruce\",\n",
      "  \"email\": \"morenolindsay@bass.org\",\n",
      "  \"country\": \"Montserrat\",\n",
      "  \"account\": \"UYHI6964741005832\"\n",
      "}\n",
      "{\n",
      "  \"last_name\": \"Nash\",\n",
      "  \"first_name\": \"Linda\",\n",
      "  \"email\": \"robertdavis@hotmail.com\",\n",
      "  \"country\": \"Heard Island and McDonald Islands\",\n",
      "  \"account\": \"ZKTE5908966955533\"\n",
      "}\n",
      "{\n",
      "  \"last_name\": \"Cameron\",\n",
      "  \"first_name\": \"Kathleen\",\n",
      "  \"email\": \"melanie81@rogers.com\",\n",
      "  \"country\": \"Niger\",\n",
      "  \"account\": \"HHHP3471562002758\"\n",
      "}\n",
      "{\n",
      "  \"last_name\": \"Wilkinson\",\n",
      "  \"first_name\": \"Wesley\",\n",
      "  \"email\": \"clineerin@hotmail.com\",\n",
      "  \"country\": \"Saint Vincent and the Grenadines\",\n",
      "  \"account\": \"UWLV6407825245995\"\n",
      "}\n",
      "{\n",
      "  \"last_name\": \"Wallace\",\n",
      "  \"first_name\": \"Debbie\",\n",
      "  \"email\": \"terri95@hotmail.com\",\n",
      "  \"country\": \"Antigua and Barbuda\",\n",
      "  \"account\": \"JRBN0811785293731\"\n",
      "}\n",
      "{\n",
      "  \"last_name\": \"Woodward\",\n",
      "  \"first_name\": \"Kayla\",\n",
      "  \"email\": \"danielle65@yahoo.com\",\n",
      "  \"country\": \"Mexico\",\n",
      "  \"account\": \"VDWY7565964041116\"\n",
      "}\n",
      "{\n",
      "  \"last_name\": \"Bennett\",\n",
      "  \"first_name\": \"Stephanie\",\n",
      "  \"email\": \"sjackson@yahoo.com\",\n",
      "  \"country\": \"Singapore\",\n",
      "  \"account\": \"DNRB2101855092009\"\n",
      "}\n",
      "{\n",
      "  \"last_name\": \"Jenkins\",\n",
      "  \"first_name\": \"Caleb\",\n",
      "  \"email\": \"douglas63@yahoo.com\",\n",
      "  \"country\": \"Botswana\",\n",
      "  \"account\": \"IILE1765776198023\"\n",
      "}\n",
      "{\n",
      "  \"last_name\": \"Edwards\",\n",
      "  \"first_name\": \"Valerie\",\n",
      "  \"email\": \"woodardlindsey@yahoo.com\",\n",
      "  \"country\": \"Guinea\",\n",
      "  \"account\": \"ZJUF2687631787282\"\n",
      "}\n",
      "{\n",
      "  \"last_name\": \"Anderson\",\n",
      "  \"first_name\": \"Mary\",\n",
      "  \"email\": \"suebrown@yahoo.com\",\n",
      "  \"country\": \"Chile\",\n",
      "  \"account\": \"DHMT4208071148508\"\n",
      "}\n",
      "{\n",
      "  \"last_name\": \"Ray\",\n",
      "  \"first_name\": \"Angela\",\n",
      "  \"email\": \"swhite@yahoo.com\",\n",
      "  \"country\": \"Mayotte\",\n",
      "  \"account\": \"UBRR8524342666714\"\n",
      "}\n",
      "{\n",
      "  \"last_name\": \"Edwards\",\n",
      "  \"first_name\": \"Haley\",\n",
      "  \"email\": \"martinkimberly@lopez.com\",\n",
      "  \"country\": \"Macedonia\",\n",
      "  \"account\": \"OGPU6537909247863\"\n",
      "}\n",
      "{\n",
      "  \"last_name\": \"Clark\",\n",
      "  \"first_name\": \"Charles\",\n",
      "  \"email\": \"jessica11@hotmail.com\",\n",
      "  \"country\": \"Ukraine\",\n",
      "  \"account\": \"AHYX6128839695452\"\n",
      "}\n",
      "{\n",
      "  \"last_name\": \"Hill\",\n",
      "  \"first_name\": \"Lisa\",\n",
      "  \"email\": \"hsmith@baker.com\",\n",
      "  \"country\": \"Saint Martin\",\n",
      "  \"account\": \"VUPW6891906300822\"\n",
      "}\n",
      "{\n",
      "  \"last_name\": \"Carpenter\",\n",
      "  \"first_name\": \"Jonathan\",\n",
      "  \"email\": \"fklein@yahoo.com\",\n",
      "  \"country\": \"Germany\",\n",
      "  \"account\": \"PKFW4841194501766\"\n",
      "}\n",
      "{\n",
      "  \"last_name\": \"Griffith\",\n",
      "  \"first_name\": \"Latoya\",\n",
      "  \"email\": \"ryan32@skinner.com\",\n",
      "  \"country\": \"Lesotho\",\n",
      "  \"account\": \"BNYD8693045932496\"\n",
      "}\n",
      "{\n",
      "  \"last_name\": \"Blair\",\n",
      "  \"first_name\": \"Kim\",\n",
      "  \"email\": \"tmurphy@flores.biz\",\n",
      "  \"country\": \"Nepal\",\n",
      "  \"account\": \"FQJA6381776349463\"\n",
      "}\n",
      "{\n",
      "  \"last_name\": \"Salazar\",\n",
      "  \"first_name\": \"Mary\",\n",
      "  \"email\": \"mary64@ray.org\",\n",
      "  \"country\": \"Latvia\",\n",
      "  \"account\": \"KCNI2464381879411\"\n",
      "}\n",
      "{\n",
      "  \"last_name\": \"Krueger\",\n",
      "  \"first_name\": \"Kenneth\",\n",
      "  \"email\": \"jennajoseph@yahoo.com\",\n",
      "  \"country\": \"Central African Republic\",\n",
      "  \"account\": \"BIGY3006735396533\"\n",
      "}\n",
      "{\n",
      "  \"last_name\": \"Burke\",\n",
      "  \"first_name\": \"Phillip\",\n",
      "  \"email\": \"watsonsamuel@gmail.com\",\n",
      "  \"country\": \"Peru\",\n",
      "  \"account\": \"CNJX1222752295544\"\n",
      "}\n",
      "{\n",
      "  \"last_name\": \"Juarez\",\n",
      "  \"first_name\": \"Erica\",\n",
      "  \"email\": \"xvelasquez@hughes.com\",\n",
      "  \"country\": \"Spain\",\n",
      "  \"account\": \"ZROP5229895490397\"\n",
      "}\n",
      "{\n",
      "  \"last_name\": \"Watkins\",\n",
      "  \"first_name\": \"Jason\",\n",
      "  \"email\": \"april99@gmail.com\",\n",
      "  \"country\": \"Seychelles\",\n",
      "  \"account\": \"NXKK2792812848629\"\n",
      "}\n",
      "{\n",
      "  \"last_name\": \"Carter\",\n",
      "  \"first_name\": \"Lee\",\n",
      "  \"email\": \"kfletcher@yahoo.com\",\n",
      "  \"country\": \"Faroe Islands\",\n",
      "  \"account\": \"DPLN5056382218296\"\n",
      "}\n",
      "{\n",
      "  \"last_name\": \"Huang\",\n",
      "  \"first_name\": \"Randy\",\n",
      "  \"email\": \"xchurch@hotmail.com\",\n",
      "  \"country\": \"Tokelau\",\n",
      "  \"account\": \"KAOL9792684486009\"\n",
      "}\n",
      "{\n",
      "  \"last_name\": \"Owen\",\n",
      "  \"first_name\": \"Kristina\",\n",
      "  \"email\": \"megan24@stewart.net\",\n",
      "  \"country\": \"Cocos (Keeling) Islands\",\n",
      "  \"account\": \"WRXW4627191899235\"\n",
      "}\n",
      "{\n",
      "  \"last_name\": \"Turner\",\n",
      "  \"first_name\": \"Beth\",\n",
      "  \"email\": \"sydneycollins@hunter.com\",\n",
      "  \"country\": \"Burundi\",\n",
      "  \"account\": \"OMOK4767172062189\"\n",
      "}\n",
      "{\n",
      "  \"last_name\": \"Aguirre\",\n",
      "  \"first_name\": \"Michael\",\n",
      "  \"email\": \"robertbowen@chavez-ortega.com\",\n",
      "  \"country\": \"Timor-Leste\",\n",
      "  \"account\": \"KRKF7344951038740\"\n",
      "}\n",
      "{\n",
      "  \"last_name\": \"Wilson\",\n",
      "  \"first_name\": \"Elizabeth\",\n",
      "  \"email\": \"christiandanielle@yahoo.com\",\n",
      "  \"country\": \"Montserrat\",\n",
      "  \"account\": \"SAAA4141150617330\"\n",
      "}\n",
      "{\n",
      "  \"last_name\": \"Hardy\",\n",
      "  \"first_name\": \"Teresa\",\n",
      "  \"email\": \"kdavidson@gordon.com\",\n",
      "  \"country\": \"Norway\",\n",
      "  \"account\": \"XNWQ1072087896797\"\n",
      "}\n",
      "{\n",
      "  \"last_name\": \"Stewart\",\n",
      "  \"first_name\": \"David\",\n",
      "  \"email\": \"bennettwanda@vega-guerra.net\",\n",
      "  \"country\": \"Sierra Leone\",\n",
      "  \"account\": \"FTHM1005169617995\"\n",
      "}\n",
      "{\n",
      "  \"last_name\": \"Moore\",\n",
      "  \"first_name\": \"Heather\",\n",
      "  \"email\": \"mark00@hotmail.com\",\n",
      "  \"country\": \"French Polynesia\",\n",
      "  \"account\": \"OSSM9070924947595\"\n",
      "}\n",
      "{\n",
      "  \"last_name\": \"Grant\",\n",
      "  \"first_name\": \"Melissa\",\n",
      "  \"email\": \"schaefernatalie@hotmail.com\",\n",
      "  \"country\": \"French Guiana\",\n",
      "  \"account\": \"CFQJ4204773901237\"\n",
      "}\n",
      "{\n",
      "  \"last_name\": \"Thompson\",\n",
      "  \"first_name\": \"Jennifer\",\n",
      "  \"email\": \"moralesmartin@rodgers.com\",\n",
      "  \"country\": \"Cape Verde\",\n",
      "  \"account\": \"MGFG2793756668287\"\n",
      "}\n",
      "{\n",
      "  \"last_name\": \"Anderson\",\n",
      "  \"first_name\": \"Raymond\",\n",
      "  \"email\": \"dprince@hotmail.com\",\n",
      "  \"country\": \"Barbados\",\n",
      "  \"account\": \"IGXK5881682171566\"\n",
      "}\n",
      "{\n",
      "  \"last_name\": \"Ramsey\",\n",
      "  \"first_name\": \"Angela\",\n",
      "  \"email\": \"cparks@valdez-hudson.com\",\n",
      "  \"country\": \"Andorra\",\n",
      "  \"account\": \"QYBW6359021109484\"\n",
      "}\n",
      "{\n",
      "  \"last_name\": \"Gonzales\",\n",
      "  \"first_name\": \"Betty\",\n",
      "  \"email\": \"martinezrichard@yahoo.com\",\n",
      "  \"country\": \"Montserrat\",\n",
      "  \"account\": \"UTSI0776569247505\"\n",
      "}\n",
      "{\n",
      "  \"last_name\": \"Castaneda\",\n",
      "  \"first_name\": \"Thomas\",\n",
      "  \"email\": \"kpena@yahoo.com\",\n",
      "  \"country\": \"Egypt\",\n",
      "  \"account\": \"LSDI9463735752680\"\n",
      "}\n",
      "{\n",
      "  \"last_name\": \"Todd\",\n",
      "  \"first_name\": \"Jonathan\",\n",
      "  \"email\": \"julie68@gmail.com\",\n",
      "  \"country\": \"Malaysia\",\n",
      "  \"account\": \"ISYY1401931979959\"\n",
      "}\n",
      "{\n",
      "  \"last_name\": \"Garcia\",\n",
      "  \"first_name\": \"Stacey\",\n",
      "  \"email\": \"lukebradford@hotmail.com\",\n",
      "  \"country\": \"Zimbabwe\",\n",
      "  \"account\": \"HNOA0376843856035\"\n",
      "}\n",
      "{\n",
      "  \"last_name\": \"Figueroa\",\n",
      "  \"first_name\": \"Judy\",\n",
      "  \"email\": \"ystewart@yahoo.com\",\n",
      "  \"country\": \"Portugal\",\n",
      "  \"account\": \"EEVV8325881104553\"\n",
      "}\n",
      "{\n",
      "  \"last_name\": \"Castillo\",\n",
      "  \"first_name\": \"Ashley\",\n",
      "  \"email\": \"cory33@king-shaw.net\",\n",
      "  \"country\": \"Paraguay\",\n",
      "  \"account\": \"QXGZ3111246190069\"\n",
      "}\n",
      "{\n",
      "  \"last_name\": \"Flores\",\n",
      "  \"first_name\": \"Zachary\",\n",
      "  \"email\": \"zcalhoun@gmail.com\",\n",
      "  \"country\": \"Central African Republic\",\n",
      "  \"account\": \"ACQR2846533122117\"\n",
      "}\n",
      "{\n",
      "  \"last_name\": \"Allen\",\n",
      "  \"first_name\": \"Erica\",\n",
      "  \"email\": \"michaelhall@hotmail.com\",\n",
      "  \"country\": \"Palau\",\n",
      "  \"account\": \"ZAZD8310339637467\"\n",
      "}\n",
      "{\n",
      "  \"last_name\": \"Potts\",\n",
      "  \"first_name\": \"Savannah\",\n",
      "  \"email\": \"kristentaylor@yahoo.com\",\n",
      "  \"country\": \"Micronesia\",\n",
      "  \"account\": \"ARWK1547324119222\"\n",
      "}\n",
      "{\n",
      "  \"last_name\": \"Wheeler\",\n",
      "  \"first_name\": \"Zachary\",\n",
      "  \"email\": \"stephen63@yahoo.com\",\n",
      "  \"country\": \"Armenia\",\n",
      "  \"account\": \"OMQX4840913072589\"\n",
      "}\n",
      "{\n",
      "  \"last_name\": \"Thomas\",\n",
      "  \"first_name\": \"Timothy\",\n",
      "  \"email\": \"bryanmartin@gmail.com\",\n",
      "  \"country\": \"Bahrain\",\n",
      "  \"account\": \"OCFV4659464275270\"\n",
      "}\n",
      "{\n",
      "  \"last_name\": \"Mcknight\",\n",
      "  \"first_name\": \"Ann\",\n",
      "  \"email\": \"kristinavelasquez@gmail.com\",\n",
      "  \"country\": \"Guatemala\",\n",
      "  \"account\": \"DTRB4720098955341\"\n",
      "}\n",
      "{\n",
      "  \"last_name\": \"Thompson\",\n",
      "  \"first_name\": \"Ruth\",\n",
      "  \"email\": \"denise01@burns.org\",\n",
      "  \"country\": \"Saint Vincent and the Grenadines\",\n",
      "  \"account\": \"YYHM5758234683389\"\n",
      "}\n",
      "{\n",
      "  \"last_name\": \"Levy\",\n",
      "  \"first_name\": \"Daniel\",\n",
      "  \"email\": \"beancody@jones.com\",\n",
      "  \"country\": \"Kazakhstan\",\n",
      "  \"account\": \"AHBN3151680654826\"\n",
      "}\n",
      "{\n",
      "  \"last_name\": \"Hubbard\",\n",
      "  \"first_name\": \"Paul\",\n",
      "  \"email\": \"ubradley@yahoo.com\",\n",
      "  \"country\": \"Germany\",\n",
      "  \"account\": \"FGBC0366153271398\"\n",
      "}\n",
      "{\n",
      "  \"last_name\": \"Jones\",\n",
      "  \"first_name\": \"Jason\",\n",
      "  \"email\": \"anthony75@yahoo.com\",\n",
      "  \"country\": \"Western Sahara\",\n",
      "  \"account\": \"MHTE8867005510944\"\n",
      "}\n",
      "{\n",
      "  \"last_name\": \"Garcia\",\n",
      "  \"first_name\": \"Margaret\",\n",
      "  \"email\": \"antonio52@gmail.com\",\n",
      "  \"country\": \"Togo\",\n",
      "  \"account\": \"IYOD4325345823013\"\n",
      "}\n",
      "{\n",
      "  \"last_name\": \"Peters\",\n",
      "  \"first_name\": \"Jeremy\",\n",
      "  \"email\": \"johnlewis@hotmail.com\",\n",
      "  \"country\": \"Guam\",\n",
      "  \"account\": \"NZFX8257739892619\"\n",
      "}\n",
      "{\n",
      "  \"last_name\": \"Stone\",\n",
      "  \"first_name\": \"Mark\",\n",
      "  \"email\": \"nmoore@hotmail.com\",\n",
      "  \"country\": \"Kuwait\",\n",
      "  \"account\": \"MWRB2515761996641\"\n",
      "}\n",
      "{\n",
      "  \"last_name\": \"Edwards\",\n",
      "  \"first_name\": \"Darius\",\n",
      "  \"email\": \"nchurch@yahoo.com\",\n",
      "  \"country\": \"Eritrea\",\n",
      "  \"account\": \"CURJ9953745256871\"\n",
      "}\n",
      "{\n",
      "  \"last_name\": \"Lawson\",\n",
      "  \"first_name\": \"Tracy\",\n",
      "  \"email\": \"piercejenna@gmail.com\",\n",
      "  \"country\": \"Czech Republic\",\n",
      "  \"account\": \"ATOT8581137487723\"\n",
      "}\n",
      "{\n",
      "  \"last_name\": \"Cooper\",\n",
      "  \"first_name\": \"Christina\",\n",
      "  \"email\": \"ddavidson@hotmail.com\",\n",
      "  \"country\": \"Maldives\",\n",
      "  \"account\": \"RQGA0882784089265\"\n",
      "}\n",
      "{\n",
      "  \"last_name\": \"Harris\",\n",
      "  \"first_name\": \"Megan\",\n",
      "  \"email\": \"ndelacruz@yahoo.com\",\n",
      "  \"country\": \"Armenia\",\n",
      "  \"account\": \"EOPA8088866975598\"\n",
      "}\n",
      "{\n",
      "  \"last_name\": \"Jones\",\n",
      "  \"first_name\": \"Timothy\",\n",
      "  \"email\": \"jenniferadkins@griffin.biz\",\n",
      "  \"country\": \"Benin\",\n",
      "  \"account\": \"JCUN9597199552039\"\n",
      "}\n",
      "{\n",
      "  \"last_name\": \"Burch\",\n",
      "  \"first_name\": \"Tracie\",\n",
      "  \"email\": \"evansmiguel@yahoo.com\",\n",
      "  \"country\": \"Fiji\",\n",
      "  \"account\": \"IZYL3351829981461\"\n",
      "}\n",
      "{\n",
      "  \"last_name\": \"Chung\",\n",
      "  \"first_name\": \"Jason\",\n",
      "  \"email\": \"kenneththompson@baxter.com\",\n",
      "  \"country\": \"Iceland\",\n",
      "  \"account\": \"JDIH2349154465371\"\n",
      "}\n",
      "{\n",
      "  \"last_name\": \"Melton\",\n",
      "  \"first_name\": \"Samantha\",\n",
      "  \"email\": \"bcurtis@hotmail.com\",\n",
      "  \"country\": \"Macedonia\",\n",
      "  \"account\": \"VRZP1447516193511\"\n",
      "}\n",
      "{\n",
      "  \"last_name\": \"Hansen\",\n",
      "  \"first_name\": \"Michael\",\n",
      "  \"email\": \"phillipssean@hotmail.com\",\n",
      "  \"country\": \"Serbia\",\n",
      "  \"account\": \"QKAF2254397516681\"\n",
      "}\n"
     ]
    }
   ],
   "source": [
    "filename = 'people.tsv'\n",
    "header = None\n",
    "users = []\n",
    "with open(filename) as file:\n",
    "    for line in file:\n",
    "        line = line.strip()\n",
    "        if not line:\n",
    "            continue\n",
    "        line = line.split('\\t')\n",
    "        if not header: # indicates that I am on the first line\n",
    "            header = line\n",
    "            continue\n",
    "\n",
    "        line = dict(zip(header, line))\n",
    "        users.append(line)\n",
    "\n",
    "import json\n",
    "for user in users:\n",
    "    print(json.dumps(user, indent=2))\n",
    "            "
   ]
  },
  {
   "cell_type": "code",
   "execution_count": null,
   "id": "9bd89b69-2ade-4852-a92c-c4bf172df1c9",
   "metadata": {},
   "outputs": [],
   "source": [
    "months = {\n",
    "        1: 'January',\n",
    "        2: 'February',\n",
    "        3: 'March',\n",
    "        4: 'April',\n",
    "        5: 'May',\n",
    "        6: 'June',\n",
    "        7: 'July',\n",
    "        8: 'August',\n",
    "        9: 'September',\n",
    "        10: 'October',\n",
    "        11: 'November',\n",
    "        12: 'December',\n",
    "    }"
   ]
  },
  {
   "cell_type": "code",
   "execution_count": 57,
   "id": "85acb4d9-916f-45b3-8c60-90a5a857c743",
   "metadata": {},
   "outputs": [
    {
     "data": {
      "text/plain": [
       "{2: 2.78,\n",
       " 3: 5.56,\n",
       " 4: 8.35,\n",
       " 5: 11.13,\n",
       " 6: 13.89,\n",
       " 7: 16.66,\n",
       " 8: 13.87,\n",
       " 9: 11.11,\n",
       " 10: 8.33,\n",
       " 11: 5.55,\n",
       " 12: 2.77}"
      ]
     },
     "execution_count": 57,
     "metadata": {},
     "output_type": "execute_result"
    }
   ],
   "source": [
    "import random\n",
    "from collections import defaultdict\n",
    "n = 10_000_000\n",
    "total_count = defaultdict(int)\n",
    "for _ in range(n):\n",
    "\n",
    "    dice1 = random.randint(1,6)\n",
    "    dice2 = random.randint(1,6)\n",
    "\n",
    "    total = dice1 + dice2\n",
    "    # if total not in total_count:\n",
    "    #     total_count[total] = 0 \n",
    "    total_count[total] += 1\n",
    "\n",
    "\n",
    "prob = {total: round(count/n*100, 2) for total, count in total_count.items()}\n",
    "{t: prob[t] for t in sorted(prob)}"
   ]
  },
  {
   "cell_type": "code",
   "execution_count": 56,
   "id": "1534e32f-b909-4dd3-8075-4aaf8377dc0e",
   "metadata": {},
   "outputs": [
    {
     "data": {
      "text/plain": [
       "{2: 2.75,\n",
       " 3: 5.57,\n",
       " 4: 8.35,\n",
       " 5: 11.1,\n",
       " 6: 13.93,\n",
       " 7: 16.66,\n",
       " 8: 13.96,\n",
       " 9: 11.03,\n",
       " 10: 8.28,\n",
       " 11: 5.55,\n",
       " 12: 2.8}"
      ]
     },
     "execution_count": 56,
     "metadata": {},
     "output_type": "execute_result"
    }
   ],
   "source": [
    "{t: prob[t] for t in sorted(prob)}"
   ]
  },
  {
   "cell_type": "code",
   "execution_count": 58,
   "id": "c29533a5-e6d0-4dc4-b6b3-7ec03e9f2d3e",
   "metadata": {},
   "outputs": [
    {
     "data": {
      "text/plain": [
       "True"
      ]
     },
     "execution_count": 58,
     "metadata": {},
     "output_type": "execute_result"
    }
   ],
   "source": [
    "A = {0, 2, 4, 6, 8}\n",
    "B = {1, 2, 3, 4, 5}\n",
    "\n",
    "0 in A # O(1)"
   ]
  },
  {
   "cell_type": "code",
   "execution_count": 59,
   "id": "b8d51ef4-f2db-466a-9435-54da0428c014",
   "metadata": {},
   "outputs": [
    {
     "data": {
      "text/plain": [
       "True"
      ]
     },
     "execution_count": 59,
     "metadata": {},
     "output_type": "execute_result"
    }
   ],
   "source": [
    "4 in B # O(1) 4 in [ 1, 3, 4, .....] O(N)"
   ]
  },
  {
   "cell_type": "code",
   "execution_count": 60,
   "id": "53d9acd3-b666-4cc4-8d53-788fdc047faa",
   "metadata": {},
   "outputs": [
    {
     "data": {
      "text/plain": [
       "{0, 1, 2, 3, 4, 5, 6, 8}"
      ]
     },
     "execution_count": 60,
     "metadata": {},
     "output_type": "execute_result"
    }
   ],
   "source": [
    "A | B # quiz"
   ]
  },
  {
   "cell_type": "code",
   "execution_count": 61,
   "id": "d617eb57-5a4d-4b42-9564-fd9f3e49fce4",
   "metadata": {},
   "outputs": [
    {
     "data": {
      "text/plain": [
       "{2, 4}"
      ]
     },
     "execution_count": 61,
     "metadata": {},
     "output_type": "execute_result"
    }
   ],
   "source": [
    "A & B"
   ]
  },
  {
   "cell_type": "code",
   "execution_count": 62,
   "id": "25f6363b-3f63-4374-8759-46d71bae9491",
   "metadata": {},
   "outputs": [
    {
     "data": {
      "text/plain": [
       "{0, 6, 8}"
      ]
     },
     "execution_count": 62,
     "metadata": {},
     "output_type": "execute_result"
    }
   ],
   "source": [
    "A - B\n",
    "# A = {0, 2, 4, 6, 8}\n",
    "# B = {1, 2, 3, 4, 5}"
   ]
  },
  {
   "cell_type": "code",
   "execution_count": 63,
   "id": "8b50a718-63d1-42d9-912e-3e73503f1c1b",
   "metadata": {},
   "outputs": [
    {
     "data": {
      "text/plain": [
       "{1, 3, 5}"
      ]
     },
     "execution_count": 63,
     "metadata": {},
     "output_type": "execute_result"
    }
   ],
   "source": [
    "B - A\n",
    "# A = {0, 2, 4, 6, 8}\n",
    "# B = {1, 2, 3, 4, 5}"
   ]
  },
  {
   "cell_type": "code",
   "execution_count": 64,
   "id": "b3a37888-179b-4c65-8b33-a2a3de002c07",
   "metadata": {},
   "outputs": [
    {
     "data": {
      "text/plain": [
       "True"
      ]
     },
     "execution_count": 64,
     "metadata": {},
     "output_type": "execute_result"
    }
   ],
   "source": [
    "A = {1, 2, 3, 4, 5}\n",
    "B = {3, 4}\n",
    "B < A"
   ]
  },
  {
   "cell_type": "code",
   "execution_count": 65,
   "id": "1d996047-dad3-4def-8c36-41a88963d0dd",
   "metadata": {},
   "outputs": [
    {
     "data": {
      "text/plain": [
       "True"
      ]
     },
     "execution_count": 65,
     "metadata": {},
     "output_type": "execute_result"
    }
   ],
   "source": [
    "A = {1, 2, 3, 4, 5}\n",
    "B = {3, 4}\n",
    "B <= A"
   ]
  },
  {
   "cell_type": "code",
   "execution_count": 66,
   "id": "15a554bd-d7be-426e-9332-daad6a68ad98",
   "metadata": {},
   "outputs": [
    {
     "data": {
      "text/plain": [
       "False"
      ]
     },
     "execution_count": 66,
     "metadata": {},
     "output_type": "execute_result"
    }
   ],
   "source": [
    "A = {1, 2, 3, 4, 5}\n",
    "B = {3, 4}\n",
    "B == A"
   ]
  },
  {
   "cell_type": "code",
   "execution_count": null,
   "id": "6a1ff764-6181-4438-add7-b5de6d291b03",
   "metadata": {},
   "outputs": [],
   "source": [
    "# quiz pop a set based on index"
   ]
  },
  {
   "cell_type": "code",
   "execution_count": null,
   "id": "73bfd92b-b4ee-42ec-bc51-6ac92d3c3fe4",
   "metadata": {},
   "outputs": [],
   "source": []
  },
  {
   "cell_type": "code",
   "execution_count": 67,
   "id": "54565b67-5c48-4237-bf66-eba9d0919e10",
   "metadata": {},
   "outputs": [
    {
     "data": {
      "text/plain": [
       "{'b', 'd'}"
      ]
     },
     "execution_count": 67,
     "metadata": {},
     "output_type": "execute_result"
    }
   ],
   "source": [
    "d1 = dict(a=1, b=2, c=3, d=4)\n",
    "d2 = dict(b=20, d=40, e=50)\n",
    "d1.keys() & d2.keys() # this works because dict.keys() returns \"set-like\" view rather than a list\n",
    "{'b', 'd'}"
   ]
  },
  {
   "cell_type": "code",
   "execution_count": 68,
   "id": "bd772f36-d979-45c0-ab65-df33734f9035",
   "metadata": {},
   "outputs": [
    {
     "data": {
      "text/plain": [
       "{3, 4}"
      ]
     },
     "execution_count": 68,
     "metadata": {},
     "output_type": "execute_result"
    }
   ],
   "source": [
    "A & B"
   ]
  },
  {
   "cell_type": "code",
   "execution_count": 69,
   "id": "26bb1f4f-cf0e-4d66-86e9-c4737e056dad",
   "metadata": {},
   "outputs": [
    {
     "data": {
      "text/plain": [
       "set()"
      ]
     },
     "execution_count": 69,
     "metadata": {},
     "output_type": "execute_result"
    }
   ],
   "source": [
    "b = set()\n",
    "b"
   ]
  },
  {
   "cell_type": "code",
   "execution_count": 70,
   "id": "101995cb-a905-43dc-8177-bbc3603d0de0",
   "metadata": {},
   "outputs": [
    {
     "data": {
      "text/plain": [
       "{1}"
      ]
     },
     "execution_count": 70,
     "metadata": {},
     "output_type": "execute_result"
    }
   ],
   "source": [
    "b.add(1)\n",
    "b"
   ]
  },
  {
   "cell_type": "code",
   "execution_count": 72,
   "id": "126108fc-a007-4143-a25e-daad530b68fc",
   "metadata": {},
   "outputs": [
    {
     "name": "stdout",
     "output_type": "stream",
     "text": [
      "12\n"
     ]
    }
   ],
   "source": [
    "func = lambda a, b: a * b\n",
    "def lambda_test(function, number1, number2):\n",
    "    return function(number1, number2)\n",
    "print(lambda_test(func, 3, 4))"
   ]
  },
  {
   "cell_type": "code",
   "execution_count": 71,
   "id": "7739d62d-b373-4385-bb3a-b017145148a5",
   "metadata": {},
   "outputs": [
    {
     "name": "stdout",
     "output_type": "stream",
     "text": [
      "12\n"
     ]
    }
   ],
   "source": [
    "def func2(a,b):\n",
    "    return a * b \n",
    "\n",
    "def func_test(function, number1, number2):\n",
    "    return function(number1, number2)\n",
    "print(func_test(func2, 3, 4))"
   ]
  },
  {
   "cell_type": "code",
   "execution_count": 73,
   "id": "dbee9c30-99fd-4067-a737-8cc42ac32d2c",
   "metadata": {},
   "outputs": [
    {
     "data": {
      "text/plain": [
       "[(1, 10, 2), (2, 1, 3), (2, 2, 3)]"
      ]
     },
     "execution_count": 73,
     "metadata": {},
     "output_type": "execute_result"
    }
   ],
   "source": [
    "x = (\n",
    "    (2, 2, 3),\n",
    "    (2, 1, 3),\n",
    "    (1, 10, 2),\n",
    ")\n",
    "\n",
    "sorted(x)"
   ]
  },
  {
   "cell_type": "code",
   "execution_count": 81,
   "id": "95e7241b-7ee5-4dc6-86a9-47d242881763",
   "metadata": {},
   "outputs": [
    {
     "name": "stdout",
     "output_type": "stream",
     "text": [
      "(1, 10, 2)\n",
      "(2, 1, 3)\n",
      "(2, 2, 3)\n"
     ]
    }
   ],
   "source": [
    "for ele in sorted(x, key=lambda ele: (ele[0], ele[1])):\n",
    "    print(ele)\n"
   ]
  },
  {
   "cell_type": "code",
   "execution_count": 82,
   "id": "f916f7ba-a339-4e12-9696-36dd2f14d07a",
   "metadata": {},
   "outputs": [
    {
     "name": "stdout",
     "output_type": "stream",
     "text": [
      "[4, 9, 16]\n"
     ]
    }
   ],
   "source": [
    "my_list = [2, 3, 4]\n",
    "\n",
    "# map(lambda variables (comma separated): expression)\n",
    "# map(function, sequence)\n",
    "print(list(map(lambda ele: ele*ele, my_list)))"
   ]
  },
  {
   "cell_type": "code",
   "execution_count": 87,
   "id": "7e900bb5-4fdc-4afe-9560-806f483a68b0",
   "metadata": {},
   "outputs": [
    {
     "name": "stdout",
     "output_type": "stream",
     "text": [
      "['John', 'Jane', 'Doe']\n"
     ]
    }
   ],
   "source": [
    "students = ['john', 'jane', 'doe']\n",
    "\n",
    "print(list(map(str.title, students)))"
   ]
  },
  {
   "cell_type": "code",
   "execution_count": 86,
   "id": "915b97e7-f05b-4235-8a33-afa7de9fa2fb",
   "metadata": {},
   "outputs": [
    {
     "data": {
      "text/plain": [
       "'John'"
      ]
     },
     "execution_count": 86,
     "metadata": {},
     "output_type": "execute_result"
    }
   ],
   "source": [
    "x = 'john'\n",
    "x.title()"
   ]
  },
  {
   "cell_type": "code",
   "execution_count": 90,
   "id": "d90777d6-f468-4288-84e7-946f2b327a6c",
   "metadata": {},
   "outputs": [
    {
     "name": "stdout",
     "output_type": "stream",
     "text": [
      "4\n",
      "9\n",
      "16\n"
     ]
    }
   ],
   "source": [
    "x = map(lambda ele: ele*ele, my_list)\n",
    "for ele in x:\n",
    "    print(ele)\n",
    "\n",
    "for ele in x:\n",
    "    print(ele)"
   ]
  },
  {
   "cell_type": "code",
   "execution_count": 91,
   "id": "7e1f90af-b146-4f19-bf17-e4ee8d9603a1",
   "metadata": {},
   "outputs": [
    {
     "name": "stdout",
     "output_type": "stream",
     "text": [
      "4\n",
      "9\n",
      "16\n",
      "4\n",
      "9\n",
      "16\n"
     ]
    }
   ],
   "source": [
    "\n",
    "for ele in map(lambda ele: ele*ele, my_list):\n",
    "    print(ele)\n",
    "\n",
    "for ele in map(lambda ele: ele*ele, my_list):\n",
    "    print(ele)"
   ]
  },
  {
   "cell_type": "code",
   "execution_count": 92,
   "id": "e0a674eb-3af4-4885-bfe3-f64ec4521d07",
   "metadata": {},
   "outputs": [
    {
     "name": "stdout",
     "output_type": "stream",
     "text": [
      "<map object at 0x74f74ed08850>\n"
     ]
    }
   ],
   "source": [
    "print(map(str.title, students))"
   ]
  },
  {
   "cell_type": "code",
   "execution_count": 93,
   "id": "fb6ddcd5-7d60-4a27-ac04-c950dcbe0013",
   "metadata": {},
   "outputs": [
    {
     "name": "stdout",
     "output_type": "stream",
     "text": [
      "4\n",
      "9\n",
      "16\n",
      "4\n",
      "9\n",
      "16\n"
     ]
    }
   ],
   "source": [
    "x = list(map(lambda ele: ele*ele, my_list))\n",
    "# x = map(lambda ele: ele*ele, my_list)\n",
    "\n",
    "for ele in x:\n",
    "    print(ele)\n",
    "\n",
    "for ele in x:\n",
    "    print(ele)"
   ]
  },
  {
   "cell_type": "code",
   "execution_count": 97,
   "id": "6bd300c6-394c-4fa5-bc48-3a31480285f2",
   "metadata": {},
   "outputs": [
    {
     "name": "stdout",
     "output_type": "stream",
     "text": [
      "[{'value': 34.4}, {'value': 45.3}, {'value': 73.4}]\n"
     ]
    }
   ],
   "source": [
    "my_dict = [{'value': '34.4'}, {'value': '45.3'}, {'value': '73.4'}]\n",
    "\n",
    "print(list(map(lambda ele: {'value': float(ele['value'])}, my_dict)))"
   ]
  },
  {
   "cell_type": "code",
   "execution_count": 99,
   "id": "51d44ff7-e5d6-471b-a10e-79bdab2fbc39",
   "metadata": {},
   "outputs": [
    {
     "data": {
      "text/plain": [
       "[34.4, 45.3, 73.4]"
      ]
     },
     "execution_count": 99,
     "metadata": {},
     "output_type": "execute_result"
    }
   ],
   "source": [
    "x = ['34.4', '45.3', '73.4']\n",
    "list(map(float ,x))"
   ]
  },
  {
   "cell_type": "code",
   "execution_count": 101,
   "id": "7c7882f7-50cd-4cc4-8531-2ed173a53ad7",
   "metadata": {},
   "outputs": [
    {
     "data": {
      "text/plain": [
       "[1972, 1976, 1980, 1984, 1988, 1992, 1996]"
      ]
     },
     "execution_count": 101,
     "metadata": {},
     "output_type": "execute_result"
    }
   ],
   "source": [
    "years = range(1970, 2000) # for these years\n",
    "\n",
    "\n",
    "\n",
    "def is_leap_year(year):\n",
    "    # does not work for century year\n",
    "    if year % 4 == 0:\n",
    "        return True\n",
    "    else:\n",
    "        return False\n",
    "\n",
    "my_dict = {}\n",
    "leap_years = []\n",
    "for year in years:\n",
    "    my_dict.update({year: is_leap_year(year)})\n",
    "    if is_leap_year(year):\n",
    "        leap_years.append(year)\n",
    "\n",
    "leap_years"
   ]
  },
  {
   "cell_type": "code",
   "execution_count": 102,
   "id": "0919fc0c-9f7c-4c01-baa8-4124b1996900",
   "metadata": {},
   "outputs": [
    {
     "data": {
      "text/plain": [
       "{1970: False,\n",
       " 1971: False,\n",
       " 1972: True,\n",
       " 1973: False,\n",
       " 1974: False,\n",
       " 1975: False,\n",
       " 1976: True,\n",
       " 1977: False,\n",
       " 1978: False,\n",
       " 1979: False,\n",
       " 1980: True,\n",
       " 1981: False,\n",
       " 1982: False,\n",
       " 1983: False,\n",
       " 1984: True,\n",
       " 1985: False,\n",
       " 1986: False,\n",
       " 1987: False,\n",
       " 1988: True,\n",
       " 1989: False,\n",
       " 1990: False,\n",
       " 1991: False,\n",
       " 1992: True,\n",
       " 1993: False,\n",
       " 1994: False,\n",
       " 1995: False,\n",
       " 1996: True,\n",
       " 1997: False,\n",
       " 1998: False,\n",
       " 1999: False}"
      ]
     },
     "execution_count": 102,
     "metadata": {},
     "output_type": "execute_result"
    }
   ],
   "source": [
    "my_dict"
   ]
  },
  {
   "cell_type": "code",
   "execution_count": 104,
   "id": "a94a2ddc-aaf3-4629-a3a5-1f2085110b4c",
   "metadata": {},
   "outputs": [
    {
     "data": {
      "text/plain": [
       "[1972, 1976, 1980, 1984, 1988, 1992, 1996]"
      ]
     },
     "execution_count": 104,
     "metadata": {},
     "output_type": "execute_result"
    }
   ],
   "source": [
    "leap_year_lambda = lambda year: year % 4 == 0 \n",
    "\n",
    "list(filter(leap_year_lambda, range(1970, 2000)))"
   ]
  },
  {
   "cell_type": "code",
   "execution_count": 105,
   "id": "bc392c62-6ded-46b3-8d10-d32a5fac7ded",
   "metadata": {},
   "outputs": [
    {
     "data": {
      "text/plain": [
       "[1970,\n",
       " 1971,\n",
       " 1972,\n",
       " 1973,\n",
       " 1974,\n",
       " 1975,\n",
       " 1976,\n",
       " 1977,\n",
       " 1978,\n",
       " 1979,\n",
       " 1980,\n",
       " 1981,\n",
       " 1982,\n",
       " 1983,\n",
       " 1984,\n",
       " 1985,\n",
       " 1986,\n",
       " 1987,\n",
       " 1988,\n",
       " 1989,\n",
       " 1990,\n",
       " 1991,\n",
       " 1992,\n",
       " 1993,\n",
       " 1994,\n",
       " 1995,\n",
       " 1996,\n",
       " 1997,\n",
       " 1998,\n",
       " 1999]"
      ]
     },
     "execution_count": 105,
     "metadata": {},
     "output_type": "execute_result"
    }
   ],
   "source": [
    "list(filter(lambda ele: True, range(1970, 2000)))"
   ]
  },
  {
   "cell_type": "code",
   "execution_count": 106,
   "id": "190d19ca-435c-41e9-96f6-ca2fdb14987e",
   "metadata": {},
   "outputs": [
    {
     "data": {
      "text/plain": [
       "[1970,\n",
       " 1971,\n",
       " 1972,\n",
       " 1973,\n",
       " 1974,\n",
       " 1975,\n",
       " 1976,\n",
       " 1977,\n",
       " 1978,\n",
       " 1979,\n",
       " 1980,\n",
       " 1981,\n",
       " 1982,\n",
       " 1983,\n",
       " 1984,\n",
       " 1985,\n",
       " 1986,\n",
       " 1987,\n",
       " 1988,\n",
       " 1989,\n",
       " 1990,\n",
       " 1991,\n",
       " 1992,\n",
       " 1993,\n",
       " 1994,\n",
       " 1995,\n",
       " 1996,\n",
       " 1997,\n",
       " 1998,\n",
       " 1999]"
      ]
     },
     "execution_count": 106,
     "metadata": {},
     "output_type": "execute_result"
    }
   ],
   "source": [
    "list(filter(lambda ele: ele < 3000, range(1970, 2000)))"
   ]
  },
  {
   "cell_type": "code",
   "execution_count": 107,
   "id": "3f5dfb67-1c54-4e8b-a41f-a934a53a08d9",
   "metadata": {},
   "outputs": [
    {
     "name": "stdout",
     "output_type": "stream",
     "text": [
      "['1972 is a leap year!', '1976 is a leap year!', '1980 is a leap year!', '1984 is a leap year!', '1988 is a leap year!', '1992 is a leap year!', '1996 is a leap year!']\n"
     ]
    }
   ],
   "source": [
    "print(list(map(lambda year: f'{year} is a leap year!', filter(lambda year: year % 4 == 0, range(1970, 2000)) )))"
   ]
  },
  {
   "cell_type": "code",
   "execution_count": 110,
   "id": "c49afcae-e59e-473a-9089-6d64e7d7c3c5",
   "metadata": {},
   "outputs": [
    {
     "name": "stdout",
     "output_type": "stream",
     "text": [
      "[('efg', 1), ('hij', 2), ('abc', 3)]\n"
     ]
    }
   ],
   "source": [
    "x = (('efg', 1), ('abc', 3), ('hij', 2))\n",
    "\n",
    "# print(sorted(x)) # does work\n",
    "\n",
    "print(sorted(x, key=lambda ele: ele[1]))"
   ]
  },
  {
   "cell_type": "code",
   "execution_count": 111,
   "id": "d1d3d771-7849-45aa-89f7-7c064a33def8",
   "metadata": {},
   "outputs": [
    {
     "name": "stdout",
     "output_type": "stream",
     "text": [
      "[{'grade': 89, 'username': 'Kelly'}, {'username': 'doe', 'grade': 35}, {'username': 'jane', 'grade': 80}, {'username': 'john', 'grade': 50}]\n"
     ]
    }
   ],
   "source": [
    "students = [\n",
    "    {'username': 'john', 'grade': 50},\n",
    "    {'username': 'jane', 'grade': 80},\n",
    "    {'username': 'doe', 'grade': 35},\n",
    "    {'grade': 89, 'username': 'Kelly'}\n",
    "]\n",
    "\n",
    "print(sorted(students, key=lambda student: student['username']))\n"
   ]
  },
  {
   "cell_type": "code",
   "execution_count": 112,
   "id": "813d45d1-8b53-4261-bba9-ddcc41b3dd29",
   "metadata": {},
   "outputs": [
    {
     "name": "stdout",
     "output_type": "stream",
     "text": [
      "[{'username': 'doe', 'grade': 35}, {'username': 'john', 'grade': 50}, {'username': 'jane', 'grade': 80}, {'grade': 89, 'username': 'Kelly'}]\n"
     ]
    }
   ],
   "source": [
    "print(sorted(students, key=lambda student: student['grade']))\n"
   ]
  }
 ],
 "metadata": {
  "kernelspec": {
   "display_name": "Python 3 (ipykernel)",
   "language": "python",
   "name": "python3"
  },
  "language_info": {
   "codemirror_mode": {
    "name": "ipython",
    "version": 3
   },
   "file_extension": ".py",
   "mimetype": "text/x-python",
   "name": "python",
   "nbconvert_exporter": "python",
   "pygments_lexer": "ipython3",
   "version": "3.12.3"
  }
 },
 "nbformat": 4,
 "nbformat_minor": 5
}
