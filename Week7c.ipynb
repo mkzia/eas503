{
 "cells": [
  {
   "cell_type": "code",
   "execution_count": 11,
   "id": "0c06c7bc-47a5-47c6-95b4-08dfcd4a6f7f",
   "metadata": {},
   "outputs": [
    {
     "name": "stdout",
     "output_type": "stream",
     "text": [
      "Doe, John\n"
     ]
    }
   ],
   "source": [
    "class Person:\n",
    "    def __init__(self, first_name, last_name, email):\n",
    "        # constructor \n",
    "        self.first_name = first_name\n",
    "        self.last_name = last_name\n",
    "        self.email = email\n",
    "\n",
    "    def __repr__(self):\n",
    "        return f'{self.first_name} {self.last_name}'\n",
    "\n",
    "    def __str__(self):\n",
    "        return self.get_full_name()\n",
    "\n",
    "    def get_email(self):\n",
    "        return self.email\n",
    "\n",
    "    def get_full_name(self):\n",
    "        return f'{self.last_name}, {self.first_name}'\n",
    "\n",
    "last_name = 'Murphy' \n",
    "first_name = 'Jack'\n",
    "email = 'jdoe@buffalo.edu'\n",
    "\n",
    "p1 = Person('John', 'Doe', 'joe@buffalo')\n",
    "p2 = Person('Jane', 'Doe', 'jane@buffalo')\n",
    "\n",
    "# order\n",
    "# print --> __str__() --> __repr__() --> base class __repr__() which just tells you the class name and memory address\n",
    "# without print -->  __repr__() --> base class __repr__() which just tells you the class name and memory address\n",
    "\n",
    "print(p1)"
   ]
  },
  {
   "cell_type": "code",
   "execution_count": 8,
   "id": "49f6d0e0-03f6-4285-8da6-eb32e3998e77",
   "metadata": {},
   "outputs": [
    {
     "data": {
      "text/plain": [
       "John Doe"
      ]
     },
     "execution_count": 8,
     "metadata": {},
     "output_type": "execute_result"
    }
   ],
   "source": [
    "p1 "
   ]
  },
  {
   "cell_type": "code",
   "execution_count": 12,
   "id": "64f1ab96-d800-4acb-a6ff-734c33b3be1d",
   "metadata": {},
   "outputs": [
    {
     "name": "stdout",
     "output_type": "stream",
     "text": [
      "doe, john\n"
     ]
    }
   ],
   "source": [
    "# OOP -- \n",
    "# 1) Combines data and functions that manipulate that data. \n",
    "# 2) Inheritance - inherit data and methods (attributes)\n",
    "# 3) Polymorphism\n",
    "\n",
    "class Student(Person):\n",
    "\n",
    "    def __init__(self, first_name, last_name, email, program):\n",
    "        super().__init__(first_name, last_name, email) # SUPER!!!!! # resolves to parent's __init__\n",
    "        self.program = program\n",
    "\n",
    "    ## is there any __str__ or __repr__\n",
    "\n",
    "s1 = Student('john', 'doe', 'jdoe@example.edu', 'gradUate')\n",
    "print(s1)\n",
    "\n",
    "# login class --> shares many functionalities --> but differs based on which login service you choose -- Google, Facebook, X\n"
   ]
  },
  {
   "cell_type": "code",
   "execution_count": null,
   "id": "61615271-7518-41ac-b426-19d84fd89812",
   "metadata": {},
   "outputs": [],
   "source": [
    "class Student(Person):\n",
    "    PROGRAMS = ['graduate', 'undergraduate']\n",
    "\n",
    "    def __init__(self, first_name, last_name, email, program):\n",
    "        super().__init__(first_name, last_name, email)\n",
    "        if program.lower() not in self.PROGRAMS:\n",
    "            raise ValueError('program can only be \"graduate\" or \"undergraduate\"')\n",
    "        self.program = program.lower()\n",
    "        self.classes = []\n",
    "\n",
    "\n",
    "    def enroll(self, name_of_course):\n",
    "        self.classes.append(name_of_course)\n",
    "\n",
    "    def print_classes(self):\n",
    "        classes = ', '.join(self.classes)\n",
    "        print(f'{classes}')"
   ]
  },
  {
   "cell_type": "code",
   "execution_count": 28,
   "id": "87f7883f-e786-4f01-8f9d-6fe41829077b",
   "metadata": {},
   "outputs": [],
   "source": [
    "class A:\n",
    "    def __init__(self):\n",
    "        print(\"Class A\")\n",
    "\n",
    "class B(A):\n",
    "    def __init__(self):\n",
    "        print(\"Class B\")\n",
    "        \n",
    "class C(A):\n",
    "    def __init__(self):\n",
    "        print(\"Class C\")\n",
    "\n",
    "class D(B, C):\n",
    "    def __init__(self):\n",
    "        super().__init__()\n",
    "\n",
    "\n",
    "class E(C, B):\n",
    "    def __init__(self):\n",
    "        B.__init__(self)\n",
    "\n"
   ]
  },
  {
   "cell_type": "code",
   "execution_count": null,
   "id": "aaa0a549-ba67-479e-a31f-0f6c5cb45806",
   "metadata": {},
   "outputs": [],
   "source": []
  },
  {
   "cell_type": "code",
   "execution_count": 16,
   "id": "a637fa8d-a785-4063-9265-cd05ee8a1e01",
   "metadata": {},
   "outputs": [
    {
     "name": "stdout",
     "output_type": "stream",
     "text": [
      "Class A\n"
     ]
    }
   ],
   "source": [
    "a = A()"
   ]
  },
  {
   "cell_type": "code",
   "execution_count": 17,
   "id": "84ead937-77b5-4153-8124-c9ea8b531712",
   "metadata": {},
   "outputs": [
    {
     "name": "stdout",
     "output_type": "stream",
     "text": [
      "Class B\n"
     ]
    }
   ],
   "source": [
    "b = B()"
   ]
  },
  {
   "cell_type": "code",
   "execution_count": 18,
   "id": "839e5eb1-c132-410f-b662-8c5423c6a33e",
   "metadata": {},
   "outputs": [
    {
     "name": "stdout",
     "output_type": "stream",
     "text": [
      "Class C\n"
     ]
    }
   ],
   "source": [
    "c = C()"
   ]
  },
  {
   "cell_type": "code",
   "execution_count": 21,
   "id": "c661cf84-4608-464f-acab-654b4965b813",
   "metadata": {},
   "outputs": [
    {
     "name": "stdout",
     "output_type": "stream",
     "text": [
      "Class B\n"
     ]
    }
   ],
   "source": [
    "d = D()"
   ]
  },
  {
   "cell_type": "code",
   "execution_count": 22,
   "id": "1d29bb77-0a6c-47b6-8caa-ff9095c16343",
   "metadata": {},
   "outputs": [
    {
     "data": {
      "text/plain": [
       "(__main__.D, __main__.B, __main__.C, __main__.A, object)"
      ]
     },
     "execution_count": 22,
     "metadata": {},
     "output_type": "execute_result"
    }
   ],
   "source": [
    "D.__mro__ # method resolution order"
   ]
  },
  {
   "cell_type": "code",
   "execution_count": 29,
   "id": "288ee2ef-a8a8-48df-bf7f-ecdfd9aa4641",
   "metadata": {},
   "outputs": [
    {
     "name": "stdout",
     "output_type": "stream",
     "text": [
      "Class B\n"
     ]
    }
   ],
   "source": [
    "e = E()"
   ]
  },
  {
   "cell_type": "code",
   "execution_count": 25,
   "id": "36c9cb9b-6829-48f0-ba05-9af98d7e7173",
   "metadata": {},
   "outputs": [
    {
     "data": {
      "text/plain": [
       "(__main__.E, __main__.C, __main__.B, __main__.A, object)"
      ]
     },
     "execution_count": 25,
     "metadata": {},
     "output_type": "execute_result"
    }
   ],
   "source": [
    "E.__mro__"
   ]
  },
  {
   "cell_type": "code",
   "execution_count": 30,
   "id": "e545a046-6672-4b4b-b062-628ac55f8064",
   "metadata": {},
   "outputs": [],
   "source": [
    "# https://docs.python.org/3/howto/mro.html"
   ]
  },
  {
   "cell_type": "code",
   "execution_count": 31,
   "id": "051e35ba-f589-49f1-938b-b21fdc42a092",
   "metadata": {},
   "outputs": [
    {
     "name": "stdout",
     "output_type": "stream",
     "text": [
      "doe, john\n",
      "abc, abc, efg, hij\n"
     ]
    }
   ],
   "source": [
    "class Student(Person):\n",
    "    PROGRAMS = ['graduate', 'undergraduate'] # class variable\n",
    "\n",
    "    def __init__(self, first_name, last_name, email, program):\n",
    "        super().__init__(first_name, last_name, email)\n",
    "        \n",
    "        if program.lower() not in self.PROGRAMS:\n",
    "            raise ValueError('program can only be \"graduate\" or \"undergraduate\"')\n",
    "        \n",
    "        self.program = program.lower()\n",
    "        self.classes = []\n",
    "\n",
    "\n",
    "    def enroll(self, name_of_course):\n",
    "        self.classes.append(name_of_course) # check if already enrolled?\n",
    "\n",
    "    def print_classes(self):\n",
    "        classes = ', '.join(self.classes)\n",
    "        print(f'{classes}')\n",
    "\n",
    "s1 = Student('john', 'doe', 'jdoe@example.edu', 'gradUate')\n",
    "print(s1)\n",
    "s1.enroll('abc')\n",
    "s1.enroll('abc') # problem\n",
    "s1.enroll('efg')\n",
    "s1.enroll('hij')\n",
    "s1.print_classes()"
   ]
  },
  {
   "cell_type": "code",
   "execution_count": 33,
   "id": "5fa564c0-d7b9-45f3-b6b7-e343912d60da",
   "metadata": {},
   "outputs": [
    {
     "name": "stdout",
     "output_type": "stream",
     "text": [
      "doe, john\n",
      "Already enrolled in abc doe, john!\n",
      "abc, efg, hij\n"
     ]
    }
   ],
   "source": [
    "class Student(Person):\n",
    "    PROGRAMS = ['graduate', 'undergraduate']\n",
    "\n",
    "    def __init__(self, first_name, last_name, email, program):\n",
    "        super().__init__(first_name, last_name, email)\n",
    "        if program.lower() not in self.PROGRAMS:\n",
    "            raise ValueError('program can only be \"graduate\" or \"undergraduate\"')\n",
    "        self.program = program\n",
    "        self.classes = []\n",
    "\n",
    "\n",
    "    def enroll(self, name_of_course):\n",
    "        if name_of_course not in self.classes:\n",
    "            self.classes.append(name_of_course)\n",
    "        else:\n",
    "            print(f'Already enrolled in {name_of_course} {self.get_full_name()}!')\n",
    "\n",
    "    def print_classes(self):\n",
    "        classes = ', '.join(self.classes)\n",
    "        print(f'{classes}')\n",
    "\n",
    "    def print_self(self):\n",
    "        print(self)\n",
    "\n",
    "s1 = Student('john', 'doe', 'jdoe@example.edu', 'graduate')\n",
    "print(s1)\n",
    "s1.enroll('abc')\n",
    "s1.enroll('abc')\n",
    "s1.enroll('efg')\n",
    "s1.enroll('hij')\n",
    "s1.print_classes()\n"
   ]
  },
  {
   "cell_type": "code",
   "execution_count": 34,
   "id": "446b9d00-ee6c-47e8-919d-77c742ba74c6",
   "metadata": {},
   "outputs": [
    {
     "name": "stdout",
     "output_type": "stream",
     "text": [
      "doe, john\n",
      "Already enrolled in Chemistry!\n",
      "Chemistry, Math, Physics\n"
     ]
    }
   ],
   "source": [
    "class Course:\n",
    "    def __init__(self, course_name, credits):\n",
    "        self.course_name = course_name\n",
    "        self.credits = credits\n",
    "\n",
    "    def __repr__(self):\n",
    "        return f'{self.course_name}'\n",
    "\n",
    "\n",
    "    def get_course_name(self):\n",
    "        return self.course_name\n",
    "\n",
    "\n",
    "class Student(Person):\n",
    "    PROGRAMS = ['graduate', 'undergraduate']\n",
    "\n",
    "    def __init__(self, first_name, last_name, email, program):\n",
    "        super().__init__(first_name, last_name, email)\n",
    "        if program.lower() not in self.PROGRAMS:\n",
    "            raise ValueError('program can only be \"graduate\" or \"undergraduate\"')\n",
    "        self.program = program\n",
    "        self.classes = [] # what is this storing? Why kind of element? what type of elements is this storing?\n",
    "\n",
    "\n",
    "    def enroll(self, course):\n",
    "        if course not in self.classes:\n",
    "            self.classes.append(course)\n",
    "        else:\n",
    "            print(f'Already enrolled in {course}!')\n",
    "\n",
    "    def print_classes(self):\n",
    "        classes = ', '.join(sorted([i.course_name for i in self.classes]))\n",
    "        print(f'{classes}')\n",
    "\n",
    "c1 = Course('Math', 3)\n",
    "c2 = Course('Physics', 4)\n",
    "c3 = Course('Chemistry', 3)\n",
    "c4 = Course('English', 3)\n",
    "\n",
    "s1 = Student('john', 'doe', 'jdoe@example.edu', 'graduate')\n",
    "print(s1)\n",
    "s1.enroll(c1)\n",
    "s1.enroll(c2)\n",
    "s1.enroll(c3)\n",
    "s1.enroll(c3)\n",
    "s1.print_classes()"
   ]
  },
  {
   "cell_type": "code",
   "execution_count": 37,
   "id": "6720a5f7-5b4e-4113-9d41-a1120b13fe29",
   "metadata": {},
   "outputs": [
    {
     "name": "stdout",
     "output_type": "stream",
     "text": [
      "doe, john\n",
      "Already registered in course\n",
      "You will be over the max credits! Cannot add Physics.\n",
      "Chemistry, English, Math\n"
     ]
    }
   ],
   "source": [
    "class Student(Person):\n",
    "    PROGRAMS = ['graduate', 'undergraduate']\n",
    "    MAX_CREDITS = 9\n",
    "\n",
    "    def __init__(self, first_name, last_name, email, program):\n",
    "        super().__init__(first_name, last_name, email)\n",
    "        if program.lower() not in self.PROGRAMS:\n",
    "            raise ValueError('program can only be \"graduate\" or \"undergraduate\"')\n",
    "        self.program = program\n",
    "        self.classes = []\n",
    "        self.enrolled_credits = 0\n",
    "\n",
    "    def enroll(self, course):\n",
    "        # if course not in self.classes:\n",
    "        #     self.classes.append(course)\n",
    "        # else:\n",
    "        #     print(f'Already enrolled in {course}!')\n",
    "        #     return \n",
    "   \n",
    "        # if course not in self.classes and self.enrolled_credits < self.MAX_CREDITS:\n",
    "        #     self.classes.append(course)\n",
    "        #     self.enrolled_credits += course.credits\n",
    "        # else:\n",
    "        #     print('Cannot enroll')\n",
    "\n",
    "        if course  in self.classes:\n",
    "            print(\"Already registered in course\")\n",
    "            return\n",
    "        \n",
    "        if self.get_total_credits() + course.credits > self.MAX_CREDITS:\n",
    "            print(f'You will be over the max credits! Cannot add {course}.')\n",
    "            return\n",
    "\n",
    "        self.classes.append(course)\n",
    "        self.enrolled_credits += course.credits\n",
    "        \n",
    "\n",
    "    def print_classes(self):\n",
    "        classes = ', '.join(sorted([i.course_name for i in self.classes]))\n",
    "        print(f'{classes}')\n",
    "\n",
    "\n",
    "    def get_total_credits(self):\n",
    "        total_credits = 0\n",
    "        for ele in self.classes:\n",
    "            total_credits += ele.credits\n",
    "        return total_credits\n",
    "\n",
    "class Course:\n",
    "    def __init__(self, course_name, credits):\n",
    "        self.course_name = course_name\n",
    "        self.credits = credits\n",
    "\n",
    "    def __repr__(self):\n",
    "        return f'{self.course_name}'\n",
    "\n",
    "    def __str__(self):\n",
    "        return f'{self.course_name}'\n",
    "\n",
    "\n",
    "    def get_course_name(self):\n",
    "        return self.course_name\n",
    "\n",
    "\n",
    "c1 = Course('Math', 3)\n",
    "c2 = Course('Physics', 4)\n",
    "c3 = Course('Chemistry', 3)\n",
    "c4 = Course('English', 3)\n",
    "\n",
    "s1 = Student('john', 'doe', 'jdoe@example.edu', 'graduate')\n",
    "print(s1)\n",
    "s1.enroll(c1)\n",
    "s1.enroll(c1)\n",
    "s1.enroll(c3)\n",
    "s1.enroll(c4)\n",
    "s1.enroll(c2)\n",
    "s1.print_classes()"
   ]
  },
  {
   "cell_type": "code",
   "execution_count": 38,
   "id": "e48aa672-3a84-4b48-b648-eaf932667e95",
   "metadata": {},
   "outputs": [
    {
     "name": "stdout",
     "output_type": "stream",
     "text": [
      "Coke: 60\n",
      "Pepsi: 50\n",
      "7up: 40\n"
     ]
    }
   ],
   "source": [
    "class Beverage:\n",
    "    def __init__(self, name, temp):\n",
    "        self.name = name\n",
    "        self.temp = temp\n",
    "        \n",
    "    def __repr__(self):\n",
    "        return f'{self.name}: {self.temp}'\n",
    "        \n",
    "b1 = Beverage('Coke', 60)\n",
    "b2 = Beverage('Pepsi', 50)\n",
    "b3 = Beverage('7up', 40)\n",
    "\n",
    "beverages = [b1, b2, b3]\n",
    "for beverage in beverages:\n",
    "    print(beverage)"
   ]
  },
  {
   "cell_type": "code",
   "execution_count": 39,
   "id": "072948a0-e907-428b-b876-dfc418168171",
   "metadata": {},
   "outputs": [
    {
     "name": "stdout",
     "output_type": "stream",
     "text": [
      "Coke: 60\n",
      "Pepsi: 75\n",
      "7up: 40\n"
     ]
    }
   ],
   "source": [
    "class Beverage:\n",
    "    def __init__(self, name, temp=75):\n",
    "        self.name = name\n",
    "        self.temp = temp\n",
    "        \n",
    "    def __repr__(self):\n",
    "        return f'{self.name}: {self.temp}'\n",
    "        \n",
    "b1 = Beverage('Coke', 60)\n",
    "b2 = Beverage('Pepsi')\n",
    "b3 = Beverage('7up', 40)\n",
    "\n",
    "beverages = [b1, b2, b3]\n",
    "for beverage in beverages:\n",
    "    print(beverage)"
   ]
  },
  {
   "cell_type": "code",
   "execution_count": 40,
   "id": "bf87e9e9-5c39-4345-8c68-332355a24b5a",
   "metadata": {},
   "outputs": [],
   "source": [
    "class Logfile:\n",
    "    def __init__(self, filename):\n",
    "        self.filename = filename\n",
    "        self.file = None\n",
    "        \n",
    "    def open_file(self):\n",
    "        self.file = open(self.filename, 'w')\n",
    "        \n",
    "    def write_row(self, row):\n",
    "        self.file.write(f'{row.strip()}\\n')\n",
    "        \n",
    "    def close_file(self):\n",
    "        self.file.close()\n",
    "        \n",
    "\n",
    "        \n",
    "l1 = Logfile('log1.txt')\n",
    "l1.open_file()\n",
    "\n",
    "for row in ['abc', 'efg', 'hij']:\n",
    "    l1.write_row(row)\n",
    "    \n",
    "l1.close_file()\n",
    "\n",
    "l2 = Logfile('log2.txt')\n",
    "l2.open_file()\n",
    "\n",
    "for row in ['ABC', 'EFG', 'DHIJ']:\n",
    "    l2.write_row(row)\n",
    "    \n",
    "l2.close_file()"
   ]
  },
  {
   "cell_type": "code",
   "execution_count": 51,
   "id": "030bc083-b310-44eb-959c-418a5d1c75b0",
   "metadata": {},
   "outputs": [],
   "source": [
    "class Logfile:\n",
    "    def __init__(self, filename):\n",
    "        self.filename = filename\n",
    "        self.file = None\n",
    "        \n",
    "    def open_file(self):\n",
    "        print('Opening File')\n",
    "        self.file = open(self.filename, 'w')\n",
    "        \n",
    "    def write_row(self, row):\n",
    "        self.file.write(f'{row.strip()}\\n')\n",
    "        \n",
    "    def close_file(self):\n",
    "        print('Closing File')\n",
    "        self.file.close()\n",
    "\n",
    "\n",
    "    def __enter__(self):\n",
    "        print('inside __enter__')\n",
    "        self.open_file()\n",
    "        return self # **** important \n",
    "\n",
    "    def __exit__(self, exc_type, exc_value, traceback):\n",
    "        print('inside __exit__')\n",
    "        self.close_file()\n",
    "        "
   ]
  },
  {
   "cell_type": "code",
   "execution_count": 49,
   "id": "46817f94-0149-4044-87ac-c3ca7f0aea2b",
   "metadata": {},
   "outputs": [
    {
     "name": "stdout",
     "output_type": "stream",
     "text": [
      "inside __enter__\n",
      "Opening File\n",
      "inside __exit__\n",
      "Closing File\n"
     ]
    }
   ],
   "source": [
    "l1 = Logfile('log1.txt')\n",
    "\n",
    "with l1: # with open(filename) as file:\n",
    "    for row in ['abc', 'efg', 'hij']:\n",
    "        l1.write_row(row)\n",
    "    "
   ]
  },
  {
   "cell_type": "code",
   "execution_count": 53,
   "id": "6c5219da-efba-4cc7-a74c-fc17c1616a94",
   "metadata": {},
   "outputs": [
    {
     "name": "stdout",
     "output_type": "stream",
     "text": [
      "inside __enter__\n",
      "Opening File\n",
      "inside __exit__\n",
      "Closing File\n"
     ]
    }
   ],
   "source": [
    "with Logfile('log1.txt') as log1:\n",
    "    for row in ['abc', 'efg', 'hij']:\n",
    "        log1.write_row(row)\n",
    "    \n",
    "    "
   ]
  },
  {
   "cell_type": "code",
   "execution_count": null,
   "id": "b7a5ae8f-4455-4d40-b3c0-a05f3be06646",
   "metadata": {},
   "outputs": [],
   "source": [
    "# A - 4\n",
    "# B+ 3.5\n",
    "# B 3 \n",
    "# C+ 2.5 \n",
    "\n",
    "# 3 * 4 - 12 qpoints\n",
    "# 3 * 3 - 9 qpoints"
   ]
  },
  {
   "cell_type": "code",
   "execution_count": 56,
   "id": "27749d8e-6b09-436b-a36b-c58631ae2502",
   "metadata": {},
   "outputs": [
    {
     "name": "stdout",
     "output_type": "stream",
     "text": [
      "Samuel Anderson: 2.62\n",
      "Jacob Cummings: 3.41\n",
      "Walter Sosa: 2.62\n",
      "Joel Conway: 3.23\n",
      "Andrew Burton: 2.15\n",
      "Judith Harris: 1.83\n",
      "Abigail Thomas: 2.61\n",
      "Sarah Edwards: 3.31\n",
      "Jennifer Pratt: 2.87\n",
      "Patricia Hess: 3.1\n",
      "Brandon Butler: 3.83\n",
      "Tammy Williams: 3.21\n",
      "Jonathan Williams: 1.96\n",
      "Amy Perry: 2.87\n",
      "Evelyn Mendez: 1.54\n",
      "Elizabeth Jackson: 2.4\n",
      "Douglas Cameron: 2.35\n",
      "Heather Wright: 2.38\n",
      "Mariah Tucker: 3.11\n",
      "Rachel Jones: 2.86\n",
      "Tommy Hull: 3.0\n",
      "Miguel Guerra: 2.04\n",
      "Sarah Hernandez: 2.02\n",
      "Ellen Cortez: 3.43\n",
      "Tracy Lee: 2.29\n",
      "Troy Griffith: 2.07\n",
      "Ana Torres: 3.14\n",
      "Howard Moore: 2.7\n",
      "Richard Nelson: 2.78\n",
      "Lisa James: 2.82\n",
      "Hannah Macias: 3.76\n",
      "Richard Rodriguez: 2.85\n",
      "Christopher Ho: 3.0\n",
      "Raymond Fisher: 3.25\n",
      "Gregory Jones: 3.38\n",
      "Ashley Davenport: 2.0\n",
      "Jamie Peters: 3.38\n",
      "Lisa Aguilar: 3.88\n",
      "David Bush: 1.94\n",
      "Samantha Barr: 3.5\n",
      "Steven Gordon: 2.02\n",
      "Matthew Jones: 2.49\n",
      "Ronald Harris: 1.55\n",
      "Brandon Crane: 3.89\n",
      "Michael Fry: 2.27\n",
      "Monica Mann: 3.36\n",
      "Richard Matthews: 1.93\n",
      "Jon Perkins: 3.5\n",
      "Jasmine Williams: 1.7\n",
      "Kristy Rowland: 3.46\n",
      "Tanya Montgomery: 1.63\n",
      "Steven Mcgee: 2.0\n",
      "Amber Aguilar: 1.81\n",
      "Jason Stuart: 2.0\n",
      "Kyle Humphrey: 3.81\n",
      "Christina Stewart: 3.74\n",
      "Thomas Roberts: 3.64\n",
      "Jason Weber: 2.39\n",
      "Karen Lee: 1.95\n",
      "Edward Lopez: 1.86\n",
      "Kayla Baldwin: 2.76\n",
      "Madison Dunn: 3.11\n",
      "Sarah Brown: 2.53\n",
      "Christina Bowman: 2.65\n",
      "Jennifer Vazquez: 1.5\n",
      "Emily Mccarthy: 2.96\n",
      "Carrie Lewis: 2.87\n",
      "Mark Jackson: 3.48\n",
      "Julie Weaver: 3.16\n",
      "Lauren Torres: 3.69\n",
      "Mary Moon: 3.62\n",
      "Michelle Church: 3.75\n",
      "Laura Haley: 2.98\n",
      "Ann Rodriguez: 2.58\n",
      "Colleen Gomez: 2.22\n",
      "Amy Hunter: 3.47\n",
      "Anthony Davis: 3.48\n",
      "Dorothy Graves: 2.12\n",
      "Phyllis Miller: 2.61\n",
      "Robert Burnett: 1.83\n",
      "Sophia Haley: 2.75\n",
      "Ashley Shaw: 2.83\n",
      "Andrew Erickson: 2.07\n",
      "Rebecca Weaver: 3.66\n",
      "Danielle Young: 1.71\n",
      "Carol Howell: 2.63\n",
      "Jasmin Stephens: 2.63\n",
      "Justin Guerrero: 3.28\n",
      "Ashley Aguilar: 1.61\n",
      "Kelly Holmes: 2.13\n",
      "Erica Fleming: 1.52\n",
      "Raymond Christian: 1.67\n",
      "Brian Franklin: 3.0\n",
      "Ashley James: 2.62\n",
      "Christine Johnson: 3.65\n",
      "Brian Holland: 2.44\n",
      "Rebecca Harrison: 3.64\n",
      "Meagan Harrell: 3.54\n",
      "Johnny Mitchell: 1.65\n",
      "Kevin Cooper: 2.35\n"
     ]
    }
   ],
   "source": [
    "class Person:\n",
    "    def __init__(self, first_name, last_name):\n",
    "        self.first_name = first_name\n",
    "        self.last_name = last_name\n",
    "\n",
    "    def __repr__(self):\n",
    "        return f'{self.first_name} {self.last_name}'\n",
    "\n",
    "class Student(Person):\n",
    "    def __init__(self, first_name, last_name, credit_hours, q_point):\n",
    "        super().__init__(first_name, last_name)\n",
    "        self.credit_hours = credit_hours\n",
    "        self.q_point = q_point\n",
    "\n",
    "    def __repr__(self):\n",
    "        return f\"{super().__repr__()}: {self.get_gpa()}\"\n",
    "\n",
    "\n",
    "    def get_gpa(self):\n",
    "        return round(self.q_point / self.credit_hours, 2)\n",
    "    \n",
    "    \n",
    "filename = 'data.tsv'\n",
    "\n",
    "students = []\n",
    "\n",
    "with open(filename) as file:\n",
    "    for line in file:\n",
    "        if not line.strip():\n",
    "            continue\n",
    "        \n",
    "        name, credits, q_points = line.strip().split('\\t')\n",
    "        last_name, first_name = name.split(', ')\n",
    "        \n",
    "        student = Student(first_name, last_name, int(credits), int(q_points))\n",
    "        students.append(student)\n",
    "\n",
    "for student in students:\n",
    "    print(student)"
   ]
  },
  {
   "cell_type": "code",
   "execution_count": 63,
   "id": "9fa630b2-ddf7-4fb7-88c6-3b636dffda17",
   "metadata": {},
   "outputs": [
    {
     "ename": "TypeError",
     "evalue": "'<' not supported between instances of 'Student' and 'Student'",
     "output_type": "error",
     "traceback": [
      "\u001b[31m---------------------------------------------------------------------------\u001b[39m",
      "\u001b[31mTypeError\u001b[39m                                 Traceback (most recent call last)",
      "\u001b[36mCell\u001b[39m\u001b[36m \u001b[39m\u001b[32mIn[63]\u001b[39m\u001b[32m, line 1\u001b[39m\n\u001b[32m----> \u001b[39m\u001b[32m1\u001b[39m \u001b[38;5;28;43msorted\u001b[39;49m\u001b[43m(\u001b[49m\u001b[43mstudents\u001b[49m\u001b[43m)\u001b[49m\n",
      "\u001b[31mTypeError\u001b[39m: '<' not supported between instances of 'Student' and 'Student'"
     ]
    }
   ],
   "source": [
    "sorted(students)"
   ]
  },
  {
   "cell_type": "code",
   "execution_count": 64,
   "id": "f7193c1e-5529-4b09-8e60-4b38739ca713",
   "metadata": {},
   "outputs": [
    {
     "ename": "TypeError",
     "evalue": "'<' not supported between instances of 'str' and 'int'",
     "output_type": "error",
     "traceback": [
      "\u001b[31m---------------------------------------------------------------------------\u001b[39m",
      "\u001b[31mTypeError\u001b[39m                                 Traceback (most recent call last)",
      "\u001b[36mCell\u001b[39m\u001b[36m \u001b[39m\u001b[32mIn[64]\u001b[39m\u001b[32m, line 1\u001b[39m\n\u001b[32m----> \u001b[39m\u001b[32m1\u001b[39m \u001b[38;5;28;43msorted\u001b[39;49m\u001b[43m(\u001b[49m\u001b[43m[\u001b[49m\u001b[32;43m1\u001b[39;49m\u001b[43m,\u001b[49m\u001b[43m \u001b[49m\u001b[32;43m2\u001b[39;49m\u001b[43m,\u001b[49m\u001b[43m \u001b[49m\u001b[32;43m3\u001b[39;49m\u001b[43m,\u001b[49m\u001b[43m \u001b[49m\u001b[33;43m'\u001b[39;49m\u001b[33;43mA\u001b[39;49m\u001b[33;43m'\u001b[39;49m\u001b[43m]\u001b[49m\u001b[43m)\u001b[49m\n",
      "\u001b[31mTypeError\u001b[39m: '<' not supported between instances of 'str' and 'int'"
     ]
    }
   ],
   "source": [
    "sorted([1, 2, 3, 'A'])\n"
   ]
  },
  {
   "cell_type": "code",
   "execution_count": null,
   "id": "bf993f87-ef59-4edc-bc38-4b79b195e095",
   "metadata": {},
   "outputs": [],
   "source": []
  },
  {
   "cell_type": "code",
   "execution_count": 60,
   "id": "8e6964fa-4cc0-4509-9341-aff4bdbdf8d8",
   "metadata": {},
   "outputs": [
    {
     "data": {
      "text/plain": [
       "[Brandon Crane: 3.89,\n",
       " Lisa Aguilar: 3.88,\n",
       " Brandon Butler: 3.83,\n",
       " Kyle Humphrey: 3.81,\n",
       " Hannah Macias: 3.76,\n",
       " Michelle Church: 3.75,\n",
       " Christina Stewart: 3.74,\n",
       " Lauren Torres: 3.69,\n",
       " Rebecca Weaver: 3.66,\n",
       " Christine Johnson: 3.65,\n",
       " Thomas Roberts: 3.64,\n",
       " Rebecca Harrison: 3.64,\n",
       " Mary Moon: 3.62,\n",
       " Meagan Harrell: 3.54,\n",
       " Samantha Barr: 3.5,\n",
       " Jon Perkins: 3.5,\n",
       " Mark Jackson: 3.48,\n",
       " Anthony Davis: 3.48,\n",
       " Amy Hunter: 3.47,\n",
       " Kristy Rowland: 3.46,\n",
       " Ellen Cortez: 3.43,\n",
       " Jacob Cummings: 3.41,\n",
       " Gregory Jones: 3.38,\n",
       " Jamie Peters: 3.38,\n",
       " Monica Mann: 3.36,\n",
       " Sarah Edwards: 3.31,\n",
       " Justin Guerrero: 3.28,\n",
       " Raymond Fisher: 3.25,\n",
       " Joel Conway: 3.23,\n",
       " Tammy Williams: 3.21,\n",
       " Julie Weaver: 3.16,\n",
       " Ana Torres: 3.14,\n",
       " Mariah Tucker: 3.11,\n",
       " Madison Dunn: 3.11,\n",
       " Patricia Hess: 3.1,\n",
       " Tommy Hull: 3.0,\n",
       " Christopher Ho: 3.0,\n",
       " Brian Franklin: 3.0,\n",
       " Laura Haley: 2.98,\n",
       " Emily Mccarthy: 2.96,\n",
       " Jennifer Pratt: 2.87,\n",
       " Amy Perry: 2.87,\n",
       " Carrie Lewis: 2.87,\n",
       " Rachel Jones: 2.86,\n",
       " Richard Rodriguez: 2.85,\n",
       " Ashley Shaw: 2.83,\n",
       " Lisa James: 2.82,\n",
       " Richard Nelson: 2.78,\n",
       " Kayla Baldwin: 2.76,\n",
       " Sophia Haley: 2.75,\n",
       " Howard Moore: 2.7,\n",
       " Christina Bowman: 2.65,\n",
       " Carol Howell: 2.63,\n",
       " Jasmin Stephens: 2.63,\n",
       " Samuel Anderson: 2.62,\n",
       " Walter Sosa: 2.62,\n",
       " Ashley James: 2.62,\n",
       " Abigail Thomas: 2.61,\n",
       " Phyllis Miller: 2.61,\n",
       " Ann Rodriguez: 2.58,\n",
       " Sarah Brown: 2.53,\n",
       " Matthew Jones: 2.49,\n",
       " Brian Holland: 2.44,\n",
       " Elizabeth Jackson: 2.4,\n",
       " Jason Weber: 2.39,\n",
       " Heather Wright: 2.38,\n",
       " Douglas Cameron: 2.35,\n",
       " Kevin Cooper: 2.35,\n",
       " Tracy Lee: 2.29,\n",
       " Michael Fry: 2.27,\n",
       " Colleen Gomez: 2.22,\n",
       " Andrew Burton: 2.15,\n",
       " Kelly Holmes: 2.13,\n",
       " Dorothy Graves: 2.12,\n",
       " Troy Griffith: 2.07,\n",
       " Andrew Erickson: 2.07,\n",
       " Miguel Guerra: 2.04,\n",
       " Sarah Hernandez: 2.02,\n",
       " Steven Gordon: 2.02,\n",
       " Ashley Davenport: 2.0,\n",
       " Steven Mcgee: 2.0,\n",
       " Jason Stuart: 2.0,\n",
       " Jonathan Williams: 1.96,\n",
       " Karen Lee: 1.95,\n",
       " David Bush: 1.94,\n",
       " Richard Matthews: 1.93,\n",
       " Edward Lopez: 1.86,\n",
       " Judith Harris: 1.83,\n",
       " Robert Burnett: 1.83,\n",
       " Amber Aguilar: 1.81,\n",
       " Danielle Young: 1.71,\n",
       " Jasmine Williams: 1.7,\n",
       " Raymond Christian: 1.67,\n",
       " Johnny Mitchell: 1.65,\n",
       " Tanya Montgomery: 1.63,\n",
       " Ashley Aguilar: 1.61,\n",
       " Ronald Harris: 1.55,\n",
       " Evelyn Mendez: 1.54,\n",
       " Erica Fleming: 1.52,\n",
       " Jennifer Vazquez: 1.5]"
      ]
     },
     "execution_count": 60,
     "metadata": {},
     "output_type": "execute_result"
    }
   ],
   "source": [
    "sorted(students, key=lambda student: student.get_gpa(), reverse=True) # [2.62, 3.41 .....] # return the orignial data sorted"
   ]
  },
  {
   "cell_type": "code",
   "execution_count": 61,
   "id": "07669bcf-547d-4b2c-b2ee-b7173286ede9",
   "metadata": {},
   "outputs": [
    {
     "data": {
      "text/plain": [
       "Jennifer Vazquez: 1.5"
      ]
     },
     "execution_count": 61,
     "metadata": {},
     "output_type": "execute_result"
    }
   ],
   "source": [
    "min(students, key=lambda student: student.get_gpa())"
   ]
  },
  {
   "cell_type": "code",
   "execution_count": 62,
   "id": "713afb42-13f1-4e15-94c9-920718cfb3d6",
   "metadata": {},
   "outputs": [
    {
     "data": {
      "text/plain": [
       "Brandon Crane: 3.89"
      ]
     },
     "execution_count": 62,
     "metadata": {},
     "output_type": "execute_result"
    }
   ],
   "source": [
    "max(students, key=lambda student: student.get_gpa())"
   ]
  },
  {
   "cell_type": "code",
   "execution_count": 69,
   "id": "8ed187cf-1bfe-43c3-a9af-d7a03770aaa4",
   "metadata": {},
   "outputs": [
    {
     "name": "stdout",
     "output_type": "stream",
     "text": [
      "Employees processed individually:\n",
      "\n",
      "salaried employee: John Smith\n",
      "social security: 111-11-1111\n",
      "weekly salary: $800\n",
      "earned: $800\n",
      "\n",
      "hourly employee: Karen Price\n",
      "social security: 222-22-2222\n",
      "hourly wage: $16.75; hours worked: 40\n",
      "earned: $670.0\n",
      "\n",
      "commission employee: Sue Jones\n",
      "social security: 333-33-3333\n",
      "gross sales: $10000; commission rate: 0.06\n",
      "earned: $600.0\n",
      "\n",
      "base-salaried commission employee: Bob Lewis\n",
      "social security: 444-44-4444\n",
      "gross sales: $5000; commission rate: 0.04; base-salary: $300\n",
      "earned: $500.0\n",
      "\n",
      "salaried employee: John Smith\n",
      "social security: 111-11-1111\n",
      "weekly salary: $800\n",
      "earned: $800\n",
      "\n",
      "hourly employee: Karen Price\n",
      "social security: 222-22-2222\n",
      "hourly wage: $16.75; hours worked: 40\n",
      "earned: $670.0\n",
      "\n",
      "commission employee: Sue Jones\n",
      "social security: 333-33-3333\n",
      "gross sales: $10000; commission rate: 0.06\n",
      "earned: $600.0\n",
      "\n",
      "base-salaried commission employee: Bob Lewis\n",
      "social security: 444-44-4444\n",
      "gross sales: $5000; commission rate: 0.04; base-salary: $300\n",
      "new base salary with 10% increase is 330.0\n",
      "earned: $530.0\n"
     ]
    }
   ],
   "source": [
    "# Java How to Program Deitel et. al\n",
    "\n",
    "from abc import ABC, abstractmethod\n",
    "\n",
    "\n",
    "class Employee(ABC):\n",
    "\n",
    "    def __init__(self, first_name, last_name, ssn):\n",
    "        self.first_name = first_name\n",
    "        self.last_name = last_name\n",
    "        self.ssn = ssn\n",
    "\n",
    "    @abstractmethod\n",
    "    def earnings(self):\n",
    "        pass\n",
    "\n",
    "    def __repr__(self):\n",
    "        return f'{self.first_name} {self.last_name}\\nsocial security: {self.ssn}'\n",
    "\n",
    "\n",
    "class SalariedEmployee(Employee):\n",
    "    def __init__(self, first_name, last_name, ssn, salary):\n",
    "        super().__init__(first_name, last_name, ssn)\n",
    "        self.weekly_salary = salary\n",
    "\n",
    "    def earnings(self):\n",
    "        return self.weekly_salary\n",
    "\n",
    "    def __repr__(self):\n",
    "        return f'salaried employee: {super().__repr__()}\\nweekly salary: ${self.weekly_salary}'\n",
    "\n",
    "\n",
    "class HourlyEmployee(Employee):\n",
    "    def __init__(self, first_name, last_name, ssn, hourly_wage, hours_worked):\n",
    "        super().__init__(first_name, last_name, ssn)\n",
    "        self.hourly_wage = hourly_wage\n",
    "        self.hours_worked = hours_worked\n",
    "\n",
    "    def earnings(self):\n",
    "        if self.hours_worked < 40:  # no overtime\n",
    "            earned = self.hourly_wage * self.hours_worked\n",
    "        else:\n",
    "            earned = 40 * self.hourly_wage + \\\n",
    "                (self.hours_worked - 40) * self.hourly_wage * 1.5\n",
    "\n",
    "        return earned\n",
    "\n",
    "    def __repr__(self):\n",
    "        return f'hourly employee: {super().__repr__()}\\nhourly wage: ${self.hourly_wage}; hours worked: {self.hours_worked}'\n",
    "\n",
    "\n",
    "class CommissionEmployee(Employee):\n",
    "    def __init__(self, first_name, last_name, ssn, sales, rate):\n",
    "        super().__init__(first_name, last_name, ssn)\n",
    "        self.sales = sales\n",
    "        self.rate = rate\n",
    "\n",
    "    def earnings(self):\n",
    "        earned = self.sales * self.rate\n",
    "        return earned\n",
    "\n",
    "    def __repr__(self):\n",
    "        return f'commission employee: {super().__repr__()}\\ngross sales: ${self.sales}; commission rate: {self.rate}'\n",
    "\n",
    "\n",
    "class BasePlusCommissionEmployee(CommissionEmployee):\n",
    "    def __init__(self, first_name, last_name, ssn, sales, rate, salary):\n",
    "        super().__init__(first_name, last_name, ssn, sales, rate)\n",
    "        self.salary = salary\n",
    "\n",
    "    def earnings(self):\n",
    "        earned = self.salary + super().earnings()\n",
    "        return earned\n",
    "\n",
    "    def __repr__(self):\n",
    "        return f'base-salaried {super().__repr__()}; base-salary: ${self.salary}'\n",
    "\n",
    "\n",
    "print('Employees processed individually:\\n')\n",
    "salaried_employee = SalariedEmployee('John', 'Smith', '111-11-1111', 800)\n",
    "print(salaried_employee)\n",
    "print(f'earned: ${salaried_employee.earnings()}')\n",
    "\n",
    "print()\n",
    "hourly_employee = HourlyEmployee('Karen', 'Price', '222-22-2222', 16.75, 40)\n",
    "print(hourly_employee)\n",
    "print(f'earned: ${hourly_employee.earnings()}')\n",
    "\n",
    "print()\n",
    "commission_employee = CommissionEmployee('Sue', 'Jones', '333-33-3333', 10000, 0.06)\n",
    "print(commission_employee)\n",
    "print(f'earned: ${commission_employee.earnings()}')\n",
    "\n",
    "\n",
    "print()\n",
    "base_plus_commission_employee = BasePlusCommissionEmployee('Bob', 'Lewis', '444-44-4444', 5000, 0.04, 300)\n",
    "print(base_plus_commission_employee)\n",
    "print(f'earned: ${base_plus_commission_employee.earnings()}')\n",
    "\n",
    "\n",
    "employees = [salaried_employee, hourly_employee,\n",
    "             commission_employee, base_plus_commission_employee]\n",
    "\n",
    "for employee in employees:\n",
    "    print()\n",
    "    print(employee)\n",
    "    if employee.__class__.__name__ == 'BasePlusCommissionEmployee':\n",
    "        employee.salary = 1.10 * employee.salary\n",
    "        print(f'new base salary with 10% increase is {employee.salary}')\n",
    "    print(f'earned: ${employee.earnings()}')\n"
   ]
  },
  {
   "cell_type": "code",
   "execution_count": 68,
   "id": "4a023447-4042-4c7a-9a39-59b5b86b530b",
   "metadata": {},
   "outputs": [
    {
     "ename": "TypeError",
     "evalue": "Can't instantiate abstract class Employee without an implementation for abstract method 'earnings'",
     "output_type": "error",
     "traceback": [
      "\u001b[31m---------------------------------------------------------------------------\u001b[39m",
      "\u001b[31mTypeError\u001b[39m                                 Traceback (most recent call last)",
      "\u001b[36mCell\u001b[39m\u001b[36m \u001b[39m\u001b[32mIn[68]\u001b[39m\u001b[32m, line 18\u001b[39m\n\u001b[32m     15\u001b[39m     \u001b[38;5;28;01mdef\u001b[39;00m\u001b[38;5;250m \u001b[39m\u001b[34m__repr__\u001b[39m(\u001b[38;5;28mself\u001b[39m):\n\u001b[32m     16\u001b[39m         \u001b[38;5;28;01mpass\u001b[39;00m\n\u001b[32m---> \u001b[39m\u001b[32m18\u001b[39m e1 = \u001b[43mEmployee\u001b[49m\u001b[43m(\u001b[49m\u001b[33;43m'\u001b[39;49m\u001b[33;43mjohn\u001b[39;49m\u001b[33;43m'\u001b[39;49m\u001b[43m,\u001b[49m\u001b[43m \u001b[49m\u001b[33;43m'\u001b[39;49m\u001b[33;43mdoe\u001b[39;49m\u001b[33;43m'\u001b[39;49m\u001b[43m,\u001b[49m\u001b[43m \u001b[49m\u001b[33;43m'\u001b[39;49m\u001b[33;43m111-22-3333\u001b[39;49m\u001b[33;43m'\u001b[39;49m\u001b[43m)\u001b[49m\n",
      "\u001b[31mTypeError\u001b[39m: Can't instantiate abstract class Employee without an implementation for abstract method 'earnings'"
     ]
    }
   ],
   "source": [
    "from abc import ABC, abstractmethod\n",
    "\n",
    "\n",
    "class Employee(ABC):\n",
    "\n",
    "    def __init__(self, first_name, last_name, ssn):\n",
    "        self.first_name = first_name\n",
    "        self.last_name = last_name\n",
    "        self.ssn = ssn\n",
    "\n",
    "    @abstractmethod\n",
    "    def earnings(self):\n",
    "        pass\n",
    "\n",
    "    def __repr__(self):\n",
    "        pass\n",
    "\n",
    "e1 = Employee('john', 'doe', '111-22-3333')"
   ]
  },
  {
   "cell_type": "code",
   "execution_count": 72,
   "id": "aa2f51a6-8183-4b6f-815a-aa28bdeecf5a",
   "metadata": {},
   "outputs": [
    {
     "name": "stdout",
     "output_type": "stream",
     "text": [
      "Circle with radius 10\n",
      "Circle with radius 5\n",
      "78.53981633974483\n"
     ]
    }
   ],
   "source": [
    "import math\n",
    "class Circle:\n",
    "\n",
    "    def __init__(self, radius):\n",
    "        self.radius = radius\n",
    "\n",
    "    def get_area(self):\n",
    "        return math.pi * self.radius**2\n",
    "\n",
    "    def __repr__(self):\n",
    "        return f\"Circle({self.radius})\"\n",
    "        \n",
    "    def __str__(self):\n",
    "        return \"Circle with radius \" + str(self.radius)\n",
    "\n",
    "c1 = Circle(10)\n",
    "c2 = Circle(5)\n",
    "\n",
    "print(c1)\n",
    "print(c2)\n",
    "print(c2.get_area())"
   ]
  },
  {
   "cell_type": "code",
   "execution_count": 73,
   "id": "d96971ea-a567-475f-8809-774c75f251ea",
   "metadata": {},
   "outputs": [
    {
     "data": {
      "text/plain": [
       "Circle(10)"
      ]
     },
     "execution_count": 73,
     "metadata": {},
     "output_type": "execute_result"
    }
   ],
   "source": [
    "c1"
   ]
  },
  {
   "cell_type": "code",
   "execution_count": 74,
   "id": "00031547-145c-409e-ad04-843974b8fea9",
   "metadata": {},
   "outputs": [
    {
     "ename": "TypeError",
     "evalue": "'>' not supported between instances of 'Circle' and 'Circle'",
     "output_type": "error",
     "traceback": [
      "\u001b[31m---------------------------------------------------------------------------\u001b[39m",
      "\u001b[31mTypeError\u001b[39m                                 Traceback (most recent call last)",
      "\u001b[36mCell\u001b[39m\u001b[36m \u001b[39m\u001b[32mIn[74]\u001b[39m\u001b[32m, line 1\u001b[39m\n\u001b[32m----> \u001b[39m\u001b[32m1\u001b[39m \u001b[43mc1\u001b[49m\u001b[43m \u001b[49m\u001b[43m>\u001b[49m\u001b[43m \u001b[49m\u001b[43mc2\u001b[49m\n",
      "\u001b[31mTypeError\u001b[39m: '>' not supported between instances of 'Circle' and 'Circle'"
     ]
    }
   ],
   "source": [
    "c1 > c2"
   ]
  },
  {
   "cell_type": "code",
   "execution_count": 77,
   "id": "d7f1ec50-f37c-4328-89cc-dac8baaf0450",
   "metadata": {},
   "outputs": [
    {
     "name": "stdout",
     "output_type": "stream",
     "text": [
      "5\n",
      "Circle with radius 15\n"
     ]
    }
   ],
   "source": [
    "class Circle:\n",
    "\n",
    "    def __init__(self, radius):\n",
    "        self.radius = radius\n",
    "\n",
    "    def get_area(self):\n",
    "        return math.pi * self.radius**2\n",
    "\n",
    "    def __str__(self):\n",
    "        return \"Circle with radius \" + str(self.radius)\n",
    "\n",
    "    def __add__(self, right_of_operator): # (self, right)\n",
    "        return Circle(self.radius + right_of_operator.radius)\n",
    "\n",
    "\n",
    "# 3 + 4 + 5 + 3.14\n",
    "\n",
    "c1 = Circle(10)\n",
    "c2 = Circle(5)\n",
    "print(2+3) ==? 2.__add__(3) ==> int(2).__add__(int(3))\n",
    "c3 = c1 + c2 ### ==> c1.__add__(c2) ==> Circle.__add__(c1, c2)\n",
    "print(c3)"
   ]
  },
  {
   "cell_type": "code",
   "execution_count": 78,
   "id": "2b6f14b3-f2ce-4015-8e56-d83eaa3931cb",
   "metadata": {},
   "outputs": [
    {
     "data": {
      "text/plain": [
       "int"
      ]
     },
     "execution_count": 78,
     "metadata": {},
     "output_type": "execute_result"
    }
   ],
   "source": [
    "type(2)"
   ]
  },
  {
   "cell_type": "code",
   "execution_count": 79,
   "id": "1107c01d-a42f-4517-ab2e-2e5941fdd6d2",
   "metadata": {},
   "outputs": [
    {
     "data": {
      "text/plain": [
       "__main__.Circle"
      ]
     },
     "execution_count": 79,
     "metadata": {},
     "output_type": "execute_result"
    }
   ],
   "source": [
    "type(c1)"
   ]
  },
  {
   "cell_type": "code",
   "execution_count": 82,
   "id": "f2e83800-6505-401f-b640-d0368e4ab55f",
   "metadata": {},
   "outputs": [
    {
     "name": "stdout",
     "output_type": "stream",
     "text": [
      "False\n",
      "True\n"
     ]
    }
   ],
   "source": [
    "class Circle:\n",
    "\n",
    "    def __init__(self, radius):\n",
    "        self.radius = radius\n",
    "\n",
    "    def get_area(self):\n",
    "        return math.pi * self.radius**2\n",
    "\n",
    "    def __str__(self):\n",
    "        return \"Circle with radius \" + str(self.radius)\n",
    "\n",
    "    def __add__(self, another_circle):\n",
    "        return Circle(self.radius + another_circle.radius)\n",
    "\n",
    "    def __gt__(self, another_circle):\n",
    "        return self.radius > another_circle.radius\n",
    "\n",
    "    def __lt__(self, another_circle):\n",
    "        return self.radius < another_circle.radius\n",
    "\n",
    "\n",
    "\n",
    "c1 = Circle(10)\n",
    "c2 = Circle(5)\n",
    "print(c1 < c2)\n",
    "print(c1 > c2)"
   ]
  },
  {
   "cell_type": "code",
   "execution_count": 83,
   "id": "d5bf25c3-42c4-42f2-aa4c-001dc1b469a7",
   "metadata": {},
   "outputs": [
    {
     "name": "stdout",
     "output_type": "stream",
     "text": [
      "11, 10\n"
     ]
    }
   ],
   "source": [
    "class Point:\n",
    "    def __init__(self, x=0, y=0):\n",
    "        self.x = x\n",
    "        self.y = y\n",
    "\n",
    "    def __add__(self, another_point):\n",
    "        return Point(self.x + another_point.x, self.y + another_point.y)\n",
    "\n",
    "    def __sub__(self, another_point):\n",
    "        return Point(self.x - another_point.x, self.y - another_point.y)\n",
    "\n",
    "    def __str__(self):\n",
    "        return f'{self.x}, {self.y}'\n",
    "\n",
    "p1 = Point(3, 4)\n",
    "p2 = Point(8, 6)\n",
    "print(p2+p1)"
   ]
  },
  {
   "cell_type": "code",
   "execution_count": 84,
   "id": "86a8029e-9b5b-43fd-910e-120f2fd68391",
   "metadata": {},
   "outputs": [
    {
     "name": "stdout",
     "output_type": "stream",
     "text": [
      "5.385164807134504\n"
     ]
    }
   ],
   "source": [
    "import math\n",
    "class Point:\n",
    "    def __init__(self, x=0, y=0):\n",
    "        self.x = x\n",
    "        self.y = y\n",
    "\n",
    "    def __add__(self, another_point):\n",
    "        return Point(self.x + another_point.x, self.y + another_point.y)\n",
    "\n",
    "    def __sub__(self, another_point):\n",
    "        return Point(self.x - another_point.x, self.y - another_point.y)\n",
    "\n",
    "    def length(self):\n",
    "        return math.sqrt(self.x**2 + self.y**2)\n",
    "\n",
    "    def distance(self, another_point):\n",
    "        return (self - another_point).length()\n",
    "\n",
    "    def __str__(self):\n",
    "        return f'{self.x}, {self.y}'\n",
    "\n",
    "p1 = Point(3, 4)\n",
    "p2 = Point(8, 6)\n",
    "print(p1.distance(p2))\n",
    "\n",
    "# p1 - p2 --> p3 (sqrt((3-8)**2, (8-6)**2))\n"
   ]
  },
  {
   "cell_type": "code",
   "execution_count": null,
   "id": "cb46acf8-da30-4370-9fdc-a14b55bf40a1",
   "metadata": {},
   "outputs": [],
   "source": [
    "# define a class\n",
    "# define what the meaning operators are for a class (+, -, <, >)\n",
    "# define how to loop over your class!!!!"
   ]
  },
  {
   "cell_type": "code",
   "execution_count": 87,
   "id": "5451f109-423a-444d-88ad-bbc6ae13bbd7",
   "metadata": {},
   "outputs": [
    {
     "name": "stdout",
     "output_type": "stream",
     "text": [
      "1\n",
      "2\n",
      "3\n"
     ]
    }
   ],
   "source": [
    "x = [1, 2, 3]\n",
    "\n",
    "for ele in x:\n",
    "    print(ele)"
   ]
  },
  {
   "cell_type": "code",
   "execution_count": 108,
   "id": "09e1e399-2f9e-4074-9c0c-cc8ff83a0724",
   "metadata": {},
   "outputs": [],
   "source": [
    "class MyRange:\n",
    "\n",
    "    def __init__(self, limit):\n",
    "        self.limit = limit\n",
    "\n",
    "    def __iter__(self):\n",
    "        print('Inside iter')\n",
    "        self.value = 0 # rest the iterator, otherwise it will be stuck on the final value from the last time. \n",
    "        return self # import always return self!!!!\n",
    "\n",
    "    def __next__(self):\n",
    "        print('Inside next')\n",
    "        if self.value < self.limit:\n",
    "            output = self.value\n",
    "            self.value += 1\n",
    "            return output\n",
    "        else:\n",
    "            raise StopIteration\n",
    "\n",
    "\n",
    "\n",
    "\n"
   ]
  },
  {
   "cell_type": "code",
   "execution_count": 109,
   "id": "1349dcae-49c3-435f-b48b-6025eb012b57",
   "metadata": {},
   "outputs": [
    {
     "name": "stdout",
     "output_type": "stream",
     "text": [
      "Inside iter\n"
     ]
    },
    {
     "data": {
      "text/plain": [
       "<__main__.MyRange at 0x7fb5b86d7e00>"
      ]
     },
     "execution_count": 109,
     "metadata": {},
     "output_type": "execute_result"
    }
   ],
   "source": [
    "my_range = MyRange(5)\n",
    "i = iter(my_range)\n",
    "i"
   ]
  },
  {
   "cell_type": "code",
   "execution_count": 97,
   "id": "93539ba0-8533-4ce8-92b5-8ded0e53b6e1",
   "metadata": {},
   "outputs": [
    {
     "data": {
      "text/plain": [
       "0"
      ]
     },
     "execution_count": 97,
     "metadata": {},
     "output_type": "execute_result"
    }
   ],
   "source": [
    "next(i)"
   ]
  },
  {
   "cell_type": "code",
   "execution_count": 98,
   "id": "a39d2a2d-376b-49e5-9438-70c68874cfe3",
   "metadata": {},
   "outputs": [
    {
     "data": {
      "text/plain": [
       "1"
      ]
     },
     "execution_count": 98,
     "metadata": {},
     "output_type": "execute_result"
    }
   ],
   "source": [
    "next(i)"
   ]
  },
  {
   "cell_type": "code",
   "execution_count": 99,
   "id": "e7e26a04-93b1-41b0-b52e-09ecd8d1f6b6",
   "metadata": {},
   "outputs": [
    {
     "data": {
      "text/plain": [
       "2"
      ]
     },
     "execution_count": 99,
     "metadata": {},
     "output_type": "execute_result"
    }
   ],
   "source": [
    "next(i)"
   ]
  },
  {
   "cell_type": "code",
   "execution_count": 100,
   "id": "d548d353-a198-4e37-84ad-320c5e15388d",
   "metadata": {},
   "outputs": [
    {
     "data": {
      "text/plain": [
       "3"
      ]
     },
     "execution_count": 100,
     "metadata": {},
     "output_type": "execute_result"
    }
   ],
   "source": [
    "next(i)"
   ]
  },
  {
   "cell_type": "code",
   "execution_count": 101,
   "id": "111e56cb-e2bc-4538-b6b1-1fc5de0655af",
   "metadata": {},
   "outputs": [
    {
     "data": {
      "text/plain": [
       "4"
      ]
     },
     "execution_count": 101,
     "metadata": {},
     "output_type": "execute_result"
    }
   ],
   "source": [
    "next(i)"
   ]
  },
  {
   "cell_type": "code",
   "execution_count": 102,
   "id": "62c0c045-e298-4ec6-b62e-e393dc940ada",
   "metadata": {},
   "outputs": [
    {
     "ename": "StopIteration",
     "evalue": "",
     "output_type": "error",
     "traceback": [
      "\u001b[31m---------------------------------------------------------------------------\u001b[39m",
      "\u001b[31mStopIteration\u001b[39m                             Traceback (most recent call last)",
      "\u001b[36mCell\u001b[39m\u001b[36m \u001b[39m\u001b[32mIn[102]\u001b[39m\u001b[32m, line 1\u001b[39m\n\u001b[32m----> \u001b[39m\u001b[32m1\u001b[39m \u001b[38;5;28;43mnext\u001b[39;49m\u001b[43m(\u001b[49m\u001b[43mi\u001b[49m\u001b[43m)\u001b[49m\n",
      "\u001b[36mCell\u001b[39m\u001b[36m \u001b[39m\u001b[32mIn[90]\u001b[39m\u001b[32m, line 16\u001b[39m, in \u001b[36mMyRange.__next__\u001b[39m\u001b[34m(self)\u001b[39m\n\u001b[32m     14\u001b[39m     \u001b[38;5;28;01mreturn\u001b[39;00m output\n\u001b[32m     15\u001b[39m \u001b[38;5;28;01melse\u001b[39;00m:\n\u001b[32m---> \u001b[39m\u001b[32m16\u001b[39m     \u001b[38;5;28;01mraise\u001b[39;00m \u001b[38;5;167;01mStopIteration\u001b[39;00m\n",
      "\u001b[31mStopIteration\u001b[39m: "
     ]
    }
   ],
   "source": [
    "next(i)"
   ]
  },
  {
   "cell_type": "code",
   "execution_count": 103,
   "id": "7a36a18d-6f61-4ce6-9839-c3c1fd9a990d",
   "metadata": {},
   "outputs": [
    {
     "ename": "StopIteration",
     "evalue": "",
     "output_type": "error",
     "traceback": [
      "\u001b[31m---------------------------------------------------------------------------\u001b[39m",
      "\u001b[31mStopIteration\u001b[39m                             Traceback (most recent call last)",
      "\u001b[36mCell\u001b[39m\u001b[36m \u001b[39m\u001b[32mIn[103]\u001b[39m\u001b[32m, line 1\u001b[39m\n\u001b[32m----> \u001b[39m\u001b[32m1\u001b[39m \u001b[38;5;28;43mnext\u001b[39;49m\u001b[43m(\u001b[49m\u001b[43mi\u001b[49m\u001b[43m)\u001b[49m\n",
      "\u001b[36mCell\u001b[39m\u001b[36m \u001b[39m\u001b[32mIn[90]\u001b[39m\u001b[32m, line 16\u001b[39m, in \u001b[36mMyRange.__next__\u001b[39m\u001b[34m(self)\u001b[39m\n\u001b[32m     14\u001b[39m     \u001b[38;5;28;01mreturn\u001b[39;00m output\n\u001b[32m     15\u001b[39m \u001b[38;5;28;01melse\u001b[39;00m:\n\u001b[32m---> \u001b[39m\u001b[32m16\u001b[39m     \u001b[38;5;28;01mraise\u001b[39;00m \u001b[38;5;167;01mStopIteration\u001b[39;00m\n",
      "\u001b[31mStopIteration\u001b[39m: "
     ]
    }
   ],
   "source": [
    "next(i)"
   ]
  },
  {
   "cell_type": "code",
   "execution_count": 104,
   "id": "d16cebd3-f981-45bb-ac8c-4828642a9f70",
   "metadata": {},
   "outputs": [
    {
     "data": {
      "text/plain": [
       "0"
      ]
     },
     "execution_count": 104,
     "metadata": {},
     "output_type": "execute_result"
    }
   ],
   "source": [
    "i = iter(my_range)\n",
    "next(i)"
   ]
  },
  {
   "cell_type": "code",
   "execution_count": null,
   "id": "c1d08073-a73e-4749-ad9a-821ada2945cf",
   "metadata": {},
   "outputs": [],
   "source": []
  },
  {
   "cell_type": "code",
   "execution_count": 89,
   "id": "2c523220-f94d-490e-b916-84da869fbdac",
   "metadata": {},
   "outputs": [
    {
     "name": "stdout",
     "output_type": "stream",
     "text": [
      "0\n",
      "2\n",
      "4\n",
      "6\n",
      "8\n"
     ]
    }
   ],
   "source": [
    "for ele in range(0, 10, 2):\n",
    "    print(ele)"
   ]
  },
  {
   "cell_type": "code",
   "execution_count": 105,
   "id": "5dc66997-a00f-4b32-8f15-db4febbb1726",
   "metadata": {},
   "outputs": [
    {
     "name": "stdout",
     "output_type": "stream",
     "text": [
      "0\n",
      "1\n",
      "2\n",
      "3\n",
      "4\n"
     ]
    }
   ],
   "source": [
    "for ele in my_range:\n",
    "    print(ele)"
   ]
  },
  {
   "cell_type": "code",
   "execution_count": 110,
   "id": "4361c6a0-c11c-42cc-b019-dd109644358e",
   "metadata": {},
   "outputs": [
    {
     "name": "stdout",
     "output_type": "stream",
     "text": [
      "Inside iter\n",
      "Inside next\n",
      "0\n",
      "Inside next\n",
      "1\n",
      "Inside next\n",
      "2\n",
      "Inside next\n",
      "3\n",
      "Inside next\n",
      "4\n",
      "Inside next\n"
     ]
    }
   ],
   "source": [
    "for ele in my_range: # my_range.__iter__(), my_range.__next__()\n",
    "    print(ele)"
   ]
  },
  {
   "cell_type": "code",
   "execution_count": 111,
   "id": "303b23d4-82e1-4395-8323-1c2966693d79",
   "metadata": {},
   "outputs": [
    {
     "name": "stdout",
     "output_type": "stream",
     "text": [
      "Inside iter\n",
      "Inside next\n",
      "0\n",
      "Inside next\n",
      "1\n",
      "Inside next\n",
      "2\n",
      "Inside next\n",
      "3\n",
      "Inside next\n",
      "4\n",
      "Inside next\n"
     ]
    }
   ],
   "source": [
    "for ele in my_range: # my_range.__iter__(), my_range.__next__()\n",
    "    print(ele)"
   ]
  },
  {
   "cell_type": "code",
   "execution_count": null,
   "id": "20a8a0fc-720d-4961-876d-8290f81f1d1e",
   "metadata": {},
   "outputs": [],
   "source": [
    "filename = 'people.tsv'\n",
    "header = None\n",
    "with open(filename) as file:\n",
    "    for line in file:\n",
    "        line = line.strip()\n",
    "        if not line:\n",
    "            continue\n",
    "        if not header:\n",
    "            header = line.split('\\t')\n",
    "            continue\n",
    "\n",
    "        line\n",
    "    \n",
    "    "
   ]
  },
  {
   "cell_type": "code",
   "execution_count": 113,
   "id": "dda5cc01-146b-4fe7-b9a4-ee060e2efecc",
   "metadata": {},
   "outputs": [
    {
     "name": "stdout",
     "output_type": "stream",
     "text": [
      "last_name\tfirst_name\temail\tcountry\taccount\n",
      "Weaver\tMichael\txdunn@hotmail.com\tNepal\tQVJP6465242365388\n",
      "Owens\tJackson\tiedwards@yahoo.com\tKazakhstan\tFVQZ0955529767455\n",
      "Gilmore\tPatrick\tarogers@smith.com\tMauritius\tQFIM0905182880347\n",
      "Perez\tJeffrey\tplewis@chavez.com\tNew Zealand\tYWOT0997131632248\n",
      "Thomas\tJames\tfred92@yahoo.com\tYemen\tQAAE9838291982555\n",
      "Nelson\tGreg\tmmiller@lynch.com\tJordan\tPCNE8127696280157\n",
      "White\tJoshua\tsteven49@gmail.com\tPalau\tBCEN3299883381338\n",
      "Francis\tTodd\tamanda23@hotmail.com\tArgentina\tXPTQ7837014557677\n",
      "Shaw\tStephen\tjackduke@hotmail.com\tMarshall Islands\tTRLQ6559557081716\n",
      "Armstrong\tMariah\trhodesnicholas@hotmail.com\tAlbania\tOHOV7518558201999\n",
      "Boyle\tAnthony\tsmithashlee@yahoo.com\tKyrgyz Republic\tMCQU7347833033110\n",
      "Cuevas\tPatrick\tubriggs@hill.info\tTurkmenistan\tPPHE5533473251751\n",
      "Reyes\tGerald\tbrownclarence@gonzalez-moore.com\tFiji\tJCDK1943355298609\n",
      "Calderon\tChristopher\tteresa30@carpenter-warner.com\tCosta Rica\tNERZ5502558659614\n",
      "Weiss\tShane\tleekatherine@williams.com\tMartinique\tDLDV5789894914403\n",
      "Conley\tCrystal\tchasewatkins@perez-phillips.com\tSingapore\tGZZF6936998445532\n",
      "Nelson\tJeffrey\thsherman@gmail.com\tMayotte\tECGK2823955143629\n",
      "Johnson\tBrianna\tmartinezdaniel@hotmail.com\tCosta Rica\tQOVO4275314052899\n",
      "Werner\tBrandon\tjustinfischer@gmail.com\tGuadeloupe\tUKRT1119626365017\n",
      "Bennett\tBrianna\tcindy08@gmail.com\tBahamas\tUNPV3347450330173\n",
      "Fletcher\tAustin\tcarolharrington@fleming.org\tAzerbaijan\tGJZT6825738428111\n",
      "Lewis\tPatrick\tlopezcarl@johnson.com\tSaint Helena\tJOQE2648899771737\n",
      "Smith\tJoseph\tmichael74@yahoo.com\tHong Kong\tMNXY3262955868027\n",
      "Sullivan\tSharon\tgonzalezrobert@hotmail.com\tTurkey\tYHXF7256577475630\n",
      "Wilson\tKrystal\tdawnjohnson@gmail.com\tSwaziland\tMUVI3570791852556\n",
      "Schmidt\tDiana\twatersryan@gmail.com\tHoly See (Vatican City State)\tUKCP6739617302102\n",
      "Huff\tSean\tbyoung@gmail.com\tNorfolk Island\tWDAT4146843903498\n",
      "Nguyen\tRobin\tvhanson@yahoo.com\tKenya\tSVMU4403517448078\n",
      "Russell\tRobyn\tbfletcher@yahoo.com\tTogo\tZNUY4071301663622\n",
      "Smith\tTiffany\tcolleengarrison@hotmail.com\tSan Marino\tGPFA8271551275648\n",
      "Smith\tLori\tcatherine23@gmail.com\tRomania\tMKWY4848668895426\n",
      "Keith\tSabrina\txmurphy@yahoo.com\tAlgeria\tQHIW7412514205367\n",
      "Johnson\tMiguel\taaronrichard@middleton.net\tSlovakia (Slovak Republic)\tQAAO4666689281736\n",
      "Barron\tDustin\tjesse93@best.com\tSomalia\tLRPR8694143910883\n",
      "Robinson\tMichael\tjohnperez@johnson.com\tTurkmenistan\tUWFU1921951273393\n",
      "Nguyen\tRobert\tjessica62@yahoo.com\tCroatia\tJQHS4274771257925\n",
      "Abbott\tBrandon\tjennifer87@gmail.com\tJamaica\tRSLD0426398604312\n",
      "Oneill\tBruce\tmorenolindsay@bass.org\tMontserrat\tUYHI6964741005832\n",
      "Nash\tLinda\trobertdavis@hotmail.com\tHeard Island and McDonald Islands\tZKTE5908966955533\n",
      "Cameron\tKathleen\tmelanie81@rogers.com\tNiger\tHHHP3471562002758\n",
      "Wilkinson\tWesley\tclineerin@hotmail.com\tSaint Vincent and the Grenadines\tUWLV6407825245995\n",
      "Wallace\tDebbie\tterri95@hotmail.com\tAntigua and Barbuda\tJRBN0811785293731\n",
      "Woodward\tKayla\tdanielle65@yahoo.com\tMexico\tVDWY7565964041116\n",
      "Bennett\tStephanie\tsjackson@yahoo.com\tSingapore\tDNRB2101855092009\n",
      "Jenkins\tCaleb\tdouglas63@yahoo.com\tBotswana\tIILE1765776198023\n",
      "Edwards\tValerie\twoodardlindsey@yahoo.com\tGuinea\tZJUF2687631787282\n",
      "Anderson\tMary\tsuebrown@yahoo.com\tChile\tDHMT4208071148508\n",
      "Ray\tAngela\tswhite@yahoo.com\tMayotte\tUBRR8524342666714\n",
      "Edwards\tHaley\tmartinkimberly@lopez.com\tMacedonia\tOGPU6537909247863\n",
      "Clark\tCharles\tjessica11@hotmail.com\tUkraine\tAHYX6128839695452\n",
      "Hill\tLisa\thsmith@baker.com\tSaint Martin\tVUPW6891906300822\n",
      "Carpenter\tJonathan\tfklein@yahoo.com\tGermany\tPKFW4841194501766\n",
      "Griffith\tLatoya\tryan32@skinner.com\tLesotho\tBNYD8693045932496\n",
      "Blair\tKim\ttmurphy@flores.biz\tNepal\tFQJA6381776349463\n",
      "Salazar\tMary\tmary64@ray.org\tLatvia\tKCNI2464381879411\n",
      "Krueger\tKenneth\tjennajoseph@yahoo.com\tCentral African Republic\tBIGY3006735396533\n",
      "Burke\tPhillip\twatsonsamuel@gmail.com\tPeru\tCNJX1222752295544\n",
      "Juarez\tErica\txvelasquez@hughes.com\tSpain\tZROP5229895490397\n",
      "Watkins\tJason\tapril99@gmail.com\tSeychelles\tNXKK2792812848629\n",
      "Carter\tLee\tkfletcher@yahoo.com\tFaroe Islands\tDPLN5056382218296\n",
      "Huang\tRandy\txchurch@hotmail.com\tTokelau\tKAOL9792684486009\n",
      "Owen\tKristina\tmegan24@stewart.net\tCocos (Keeling) Islands\tWRXW4627191899235\n",
      "Turner\tBeth\tsydneycollins@hunter.com\tBurundi\tOMOK4767172062189\n",
      "Aguirre\tMichael\trobertbowen@chavez-ortega.com\tTimor-Leste\tKRKF7344951038740\n",
      "Wilson\tElizabeth\tchristiandanielle@yahoo.com\tMontserrat\tSAAA4141150617330\n",
      "Hardy\tTeresa\tkdavidson@gordon.com\tNorway\tXNWQ1072087896797\n",
      "Stewart\tDavid\tbennettwanda@vega-guerra.net\tSierra Leone\tFTHM1005169617995\n",
      "Moore\tHeather\tmark00@hotmail.com\tFrench Polynesia\tOSSM9070924947595\n",
      "Grant\tMelissa\tschaefernatalie@hotmail.com\tFrench Guiana\tCFQJ4204773901237\n",
      "Thompson\tJennifer\tmoralesmartin@rodgers.com\tCape Verde\tMGFG2793756668287\n",
      "Anderson\tRaymond\tdprince@hotmail.com\tBarbados\tIGXK5881682171566\n",
      "Ramsey\tAngela\tcparks@valdez-hudson.com\tAndorra\tQYBW6359021109484\n",
      "Gonzales\tBetty\tmartinezrichard@yahoo.com\tMontserrat\tUTSI0776569247505\n",
      "Castaneda\tThomas\tkpena@yahoo.com\tEgypt\tLSDI9463735752680\n",
      "Todd\tJonathan\tjulie68@gmail.com\tMalaysia\tISYY1401931979959\n",
      "Garcia\tStacey\tlukebradford@hotmail.com\tZimbabwe\tHNOA0376843856035\n",
      "Figueroa\tJudy\tystewart@yahoo.com\tPortugal\tEEVV8325881104553\n",
      "Castillo\tAshley\tcory33@king-shaw.net\tParaguay\tQXGZ3111246190069\n",
      "Flores\tZachary\tzcalhoun@gmail.com\tCentral African Republic\tACQR2846533122117\n",
      "Allen\tErica\tmichaelhall@hotmail.com\tPalau\tZAZD8310339637467\n",
      "Potts\tSavannah\tkristentaylor@yahoo.com\tMicronesia\tARWK1547324119222\n",
      "Wheeler\tZachary\tstephen63@yahoo.com\tArmenia\tOMQX4840913072589\n",
      "Thomas\tTimothy\tbryanmartin@gmail.com\tBahrain\tOCFV4659464275270\n",
      "Mcknight\tAnn\tkristinavelasquez@gmail.com\tGuatemala\tDTRB4720098955341\n",
      "Thompson\tRuth\tdenise01@burns.org\tSaint Vincent and the Grenadines\tYYHM5758234683389\n",
      "Levy\tDaniel\tbeancody@jones.com\tKazakhstan\tAHBN3151680654826\n",
      "Hubbard\tPaul\tubradley@yahoo.com\tGermany\tFGBC0366153271398\n",
      "Jones\tJason\tanthony75@yahoo.com\tWestern Sahara\tMHTE8867005510944\n",
      "Garcia\tMargaret\tantonio52@gmail.com\tTogo\tIYOD4325345823013\n",
      "Peters\tJeremy\tjohnlewis@hotmail.com\tGuam\tNZFX8257739892619\n",
      "Stone\tMark\tnmoore@hotmail.com\tKuwait\tMWRB2515761996641\n",
      "Edwards\tDarius\tnchurch@yahoo.com\tEritrea\tCURJ9953745256871\n",
      "Lawson\tTracy\tpiercejenna@gmail.com\tCzech Republic\tATOT8581137487723\n",
      "Cooper\tChristina\tddavidson@hotmail.com\tMaldives\tRQGA0882784089265\n",
      "Harris\tMegan\tndelacruz@yahoo.com\tArmenia\tEOPA8088866975598\n",
      "Jones\tTimothy\tjenniferadkins@griffin.biz\tBenin\tJCUN9597199552039\n",
      "Burch\tTracie\tevansmiguel@yahoo.com\tFiji\tIZYL3351829981461\n",
      "Chung\tJason\tkenneththompson@baxter.com\tIceland\tJDIH2349154465371\n",
      "Melton\tSamantha\tbcurtis@hotmail.com\tMacedonia\tVRZP1447516193511\n",
      "Hansen\tMichael\tphillipssean@hotmail.com\tSerbia\tQKAF2254397516681\n"
     ]
    }
   ],
   "source": [
    "filename = 'people.tsv'\n",
    "with open(filename) as file:\n",
    "    # header = next(file)\n",
    "    for line in file:\n",
    "        line = line.strip()\n",
    "        if not line:\n",
    "            continue\n",
    "\n",
    "        print(line)\n",
    "    \n",
    "    "
   ]
  },
  {
   "cell_type": "code",
   "execution_count": 118,
   "id": "461d0692-f186-4e18-8f46-e5110dbc47a8",
   "metadata": {},
   "outputs": [
    {
     "name": "stdout",
     "output_type": "stream",
     "text": [
      "['last_name', 'first_name', 'email', 'country', 'account'] ['Weaver', 'Michael', 'xdunn@hotmail.com', 'Nepal', 'QVJP6465242365388']\n",
      "['last_name', 'first_name', 'email', 'country', 'account'] ['Owens', 'Jackson', 'iedwards@yahoo.com', 'Kazakhstan', 'FVQZ0955529767455']\n",
      "['last_name', 'first_name', 'email', 'country', 'account'] ['Gilmore', 'Patrick', 'arogers@smith.com', 'Mauritius', 'QFIM0905182880347']\n",
      "['last_name', 'first_name', 'email', 'country', 'account'] ['Perez', 'Jeffrey', 'plewis@chavez.com', 'New Zealand', 'YWOT0997131632248']\n",
      "['last_name', 'first_name', 'email', 'country', 'account'] ['Thomas', 'James', 'fred92@yahoo.com', 'Yemen', 'QAAE9838291982555']\n",
      "['last_name', 'first_name', 'email', 'country', 'account'] ['Nelson', 'Greg', 'mmiller@lynch.com', 'Jordan', 'PCNE8127696280157']\n",
      "['last_name', 'first_name', 'email', 'country', 'account'] ['White', 'Joshua', 'steven49@gmail.com', 'Palau', 'BCEN3299883381338']\n",
      "['last_name', 'first_name', 'email', 'country', 'account'] ['Francis', 'Todd', 'amanda23@hotmail.com', 'Argentina', 'XPTQ7837014557677']\n",
      "['last_name', 'first_name', 'email', 'country', 'account'] ['Shaw', 'Stephen', 'jackduke@hotmail.com', 'Marshall Islands', 'TRLQ6559557081716']\n",
      "['last_name', 'first_name', 'email', 'country', 'account'] ['Armstrong', 'Mariah', 'rhodesnicholas@hotmail.com', 'Albania', 'OHOV7518558201999']\n",
      "['last_name', 'first_name', 'email', 'country', 'account'] ['Boyle', 'Anthony', 'smithashlee@yahoo.com', 'Kyrgyz Republic', 'MCQU7347833033110']\n",
      "['last_name', 'first_name', 'email', 'country', 'account'] ['Cuevas', 'Patrick', 'ubriggs@hill.info', 'Turkmenistan', 'PPHE5533473251751']\n",
      "['last_name', 'first_name', 'email', 'country', 'account'] ['Reyes', 'Gerald', 'brownclarence@gonzalez-moore.com', 'Fiji', 'JCDK1943355298609']\n",
      "['last_name', 'first_name', 'email', 'country', 'account'] ['Calderon', 'Christopher', 'teresa30@carpenter-warner.com', 'Costa Rica', 'NERZ5502558659614']\n",
      "['last_name', 'first_name', 'email', 'country', 'account'] ['Weiss', 'Shane', 'leekatherine@williams.com', 'Martinique', 'DLDV5789894914403']\n",
      "['last_name', 'first_name', 'email', 'country', 'account'] ['Conley', 'Crystal', 'chasewatkins@perez-phillips.com', 'Singapore', 'GZZF6936998445532']\n",
      "['last_name', 'first_name', 'email', 'country', 'account'] ['Nelson', 'Jeffrey', 'hsherman@gmail.com', 'Mayotte', 'ECGK2823955143629']\n",
      "['last_name', 'first_name', 'email', 'country', 'account'] ['Johnson', 'Brianna', 'martinezdaniel@hotmail.com', 'Costa Rica', 'QOVO4275314052899']\n",
      "['last_name', 'first_name', 'email', 'country', 'account'] ['Werner', 'Brandon', 'justinfischer@gmail.com', 'Guadeloupe', 'UKRT1119626365017']\n",
      "['last_name', 'first_name', 'email', 'country', 'account'] ['Bennett', 'Brianna', 'cindy08@gmail.com', 'Bahamas', 'UNPV3347450330173']\n",
      "['last_name', 'first_name', 'email', 'country', 'account'] ['Fletcher', 'Austin', 'carolharrington@fleming.org', 'Azerbaijan', 'GJZT6825738428111']\n",
      "['last_name', 'first_name', 'email', 'country', 'account'] ['Lewis', 'Patrick', 'lopezcarl@johnson.com', 'Saint Helena', 'JOQE2648899771737']\n",
      "['last_name', 'first_name', 'email', 'country', 'account'] ['Smith', 'Joseph', 'michael74@yahoo.com', 'Hong Kong', 'MNXY3262955868027']\n",
      "['last_name', 'first_name', 'email', 'country', 'account'] ['Sullivan', 'Sharon', 'gonzalezrobert@hotmail.com', 'Turkey', 'YHXF7256577475630']\n",
      "['last_name', 'first_name', 'email', 'country', 'account'] ['Wilson', 'Krystal', 'dawnjohnson@gmail.com', 'Swaziland', 'MUVI3570791852556']\n",
      "['last_name', 'first_name', 'email', 'country', 'account'] ['Schmidt', 'Diana', 'watersryan@gmail.com', 'Holy See (Vatican City State)', 'UKCP6739617302102']\n",
      "['last_name', 'first_name', 'email', 'country', 'account'] ['Huff', 'Sean', 'byoung@gmail.com', 'Norfolk Island', 'WDAT4146843903498']\n",
      "['last_name', 'first_name', 'email', 'country', 'account'] ['Nguyen', 'Robin', 'vhanson@yahoo.com', 'Kenya', 'SVMU4403517448078']\n",
      "['last_name', 'first_name', 'email', 'country', 'account'] ['Russell', 'Robyn', 'bfletcher@yahoo.com', 'Togo', 'ZNUY4071301663622']\n",
      "['last_name', 'first_name', 'email', 'country', 'account'] ['Smith', 'Tiffany', 'colleengarrison@hotmail.com', 'San Marino', 'GPFA8271551275648']\n",
      "['last_name', 'first_name', 'email', 'country', 'account'] ['Smith', 'Lori', 'catherine23@gmail.com', 'Romania', 'MKWY4848668895426']\n",
      "['last_name', 'first_name', 'email', 'country', 'account'] ['Keith', 'Sabrina', 'xmurphy@yahoo.com', 'Algeria', 'QHIW7412514205367']\n",
      "['last_name', 'first_name', 'email', 'country', 'account'] ['Johnson', 'Miguel', 'aaronrichard@middleton.net', 'Slovakia (Slovak Republic)', 'QAAO4666689281736']\n",
      "['last_name', 'first_name', 'email', 'country', 'account'] ['Barron', 'Dustin', 'jesse93@best.com', 'Somalia', 'LRPR8694143910883']\n",
      "['last_name', 'first_name', 'email', 'country', 'account'] ['Robinson', 'Michael', 'johnperez@johnson.com', 'Turkmenistan', 'UWFU1921951273393']\n",
      "['last_name', 'first_name', 'email', 'country', 'account'] ['Nguyen', 'Robert', 'jessica62@yahoo.com', 'Croatia', 'JQHS4274771257925']\n",
      "['last_name', 'first_name', 'email', 'country', 'account'] ['Abbott', 'Brandon', 'jennifer87@gmail.com', 'Jamaica', 'RSLD0426398604312']\n",
      "['last_name', 'first_name', 'email', 'country', 'account'] ['Oneill', 'Bruce', 'morenolindsay@bass.org', 'Montserrat', 'UYHI6964741005832']\n",
      "['last_name', 'first_name', 'email', 'country', 'account'] ['Nash', 'Linda', 'robertdavis@hotmail.com', 'Heard Island and McDonald Islands', 'ZKTE5908966955533']\n",
      "['last_name', 'first_name', 'email', 'country', 'account'] ['Cameron', 'Kathleen', 'melanie81@rogers.com', 'Niger', 'HHHP3471562002758']\n",
      "['last_name', 'first_name', 'email', 'country', 'account'] ['Wilkinson', 'Wesley', 'clineerin@hotmail.com', 'Saint Vincent and the Grenadines', 'UWLV6407825245995']\n",
      "['last_name', 'first_name', 'email', 'country', 'account'] ['Wallace', 'Debbie', 'terri95@hotmail.com', 'Antigua and Barbuda', 'JRBN0811785293731']\n",
      "['last_name', 'first_name', 'email', 'country', 'account'] ['Woodward', 'Kayla', 'danielle65@yahoo.com', 'Mexico', 'VDWY7565964041116']\n",
      "['last_name', 'first_name', 'email', 'country', 'account'] ['Bennett', 'Stephanie', 'sjackson@yahoo.com', 'Singapore', 'DNRB2101855092009']\n",
      "['last_name', 'first_name', 'email', 'country', 'account'] ['Jenkins', 'Caleb', 'douglas63@yahoo.com', 'Botswana', 'IILE1765776198023']\n",
      "['last_name', 'first_name', 'email', 'country', 'account'] ['Edwards', 'Valerie', 'woodardlindsey@yahoo.com', 'Guinea', 'ZJUF2687631787282']\n",
      "['last_name', 'first_name', 'email', 'country', 'account'] ['Anderson', 'Mary', 'suebrown@yahoo.com', 'Chile', 'DHMT4208071148508']\n",
      "['last_name', 'first_name', 'email', 'country', 'account'] ['Ray', 'Angela', 'swhite@yahoo.com', 'Mayotte', 'UBRR8524342666714']\n",
      "['last_name', 'first_name', 'email', 'country', 'account'] ['Edwards', 'Haley', 'martinkimberly@lopez.com', 'Macedonia', 'OGPU6537909247863']\n",
      "['last_name', 'first_name', 'email', 'country', 'account'] ['Clark', 'Charles', 'jessica11@hotmail.com', 'Ukraine', 'AHYX6128839695452']\n",
      "['last_name', 'first_name', 'email', 'country', 'account'] ['Hill', 'Lisa', 'hsmith@baker.com', 'Saint Martin', 'VUPW6891906300822']\n",
      "['last_name', 'first_name', 'email', 'country', 'account'] ['Carpenter', 'Jonathan', 'fklein@yahoo.com', 'Germany', 'PKFW4841194501766']\n",
      "['last_name', 'first_name', 'email', 'country', 'account'] ['Griffith', 'Latoya', 'ryan32@skinner.com', 'Lesotho', 'BNYD8693045932496']\n",
      "['last_name', 'first_name', 'email', 'country', 'account'] ['Blair', 'Kim', 'tmurphy@flores.biz', 'Nepal', 'FQJA6381776349463']\n",
      "['last_name', 'first_name', 'email', 'country', 'account'] ['Salazar', 'Mary', 'mary64@ray.org', 'Latvia', 'KCNI2464381879411']\n",
      "['last_name', 'first_name', 'email', 'country', 'account'] ['Krueger', 'Kenneth', 'jennajoseph@yahoo.com', 'Central African Republic', 'BIGY3006735396533']\n",
      "['last_name', 'first_name', 'email', 'country', 'account'] ['Burke', 'Phillip', 'watsonsamuel@gmail.com', 'Peru', 'CNJX1222752295544']\n",
      "['last_name', 'first_name', 'email', 'country', 'account'] ['Juarez', 'Erica', 'xvelasquez@hughes.com', 'Spain', 'ZROP5229895490397']\n",
      "['last_name', 'first_name', 'email', 'country', 'account'] ['Watkins', 'Jason', 'april99@gmail.com', 'Seychelles', 'NXKK2792812848629']\n",
      "['last_name', 'first_name', 'email', 'country', 'account'] ['Carter', 'Lee', 'kfletcher@yahoo.com', 'Faroe Islands', 'DPLN5056382218296']\n",
      "['last_name', 'first_name', 'email', 'country', 'account'] ['Huang', 'Randy', 'xchurch@hotmail.com', 'Tokelau', 'KAOL9792684486009']\n",
      "['last_name', 'first_name', 'email', 'country', 'account'] ['Owen', 'Kristina', 'megan24@stewart.net', 'Cocos (Keeling) Islands', 'WRXW4627191899235']\n",
      "['last_name', 'first_name', 'email', 'country', 'account'] ['Turner', 'Beth', 'sydneycollins@hunter.com', 'Burundi', 'OMOK4767172062189']\n",
      "['last_name', 'first_name', 'email', 'country', 'account'] ['Aguirre', 'Michael', 'robertbowen@chavez-ortega.com', 'Timor-Leste', 'KRKF7344951038740']\n",
      "['last_name', 'first_name', 'email', 'country', 'account'] ['Wilson', 'Elizabeth', 'christiandanielle@yahoo.com', 'Montserrat', 'SAAA4141150617330']\n",
      "['last_name', 'first_name', 'email', 'country', 'account'] ['Hardy', 'Teresa', 'kdavidson@gordon.com', 'Norway', 'XNWQ1072087896797']\n",
      "['last_name', 'first_name', 'email', 'country', 'account'] ['Stewart', 'David', 'bennettwanda@vega-guerra.net', 'Sierra Leone', 'FTHM1005169617995']\n",
      "['last_name', 'first_name', 'email', 'country', 'account'] ['Moore', 'Heather', 'mark00@hotmail.com', 'French Polynesia', 'OSSM9070924947595']\n",
      "['last_name', 'first_name', 'email', 'country', 'account'] ['Grant', 'Melissa', 'schaefernatalie@hotmail.com', 'French Guiana', 'CFQJ4204773901237']\n",
      "['last_name', 'first_name', 'email', 'country', 'account'] ['Thompson', 'Jennifer', 'moralesmartin@rodgers.com', 'Cape Verde', 'MGFG2793756668287']\n",
      "['last_name', 'first_name', 'email', 'country', 'account'] ['Anderson', 'Raymond', 'dprince@hotmail.com', 'Barbados', 'IGXK5881682171566']\n",
      "['last_name', 'first_name', 'email', 'country', 'account'] ['Ramsey', 'Angela', 'cparks@valdez-hudson.com', 'Andorra', 'QYBW6359021109484']\n",
      "['last_name', 'first_name', 'email', 'country', 'account'] ['Gonzales', 'Betty', 'martinezrichard@yahoo.com', 'Montserrat', 'UTSI0776569247505']\n",
      "['last_name', 'first_name', 'email', 'country', 'account'] ['Castaneda', 'Thomas', 'kpena@yahoo.com', 'Egypt', 'LSDI9463735752680']\n",
      "['last_name', 'first_name', 'email', 'country', 'account'] ['Todd', 'Jonathan', 'julie68@gmail.com', 'Malaysia', 'ISYY1401931979959']\n",
      "['last_name', 'first_name', 'email', 'country', 'account'] ['Garcia', 'Stacey', 'lukebradford@hotmail.com', 'Zimbabwe', 'HNOA0376843856035']\n",
      "['last_name', 'first_name', 'email', 'country', 'account'] ['Figueroa', 'Judy', 'ystewart@yahoo.com', 'Portugal', 'EEVV8325881104553']\n",
      "['last_name', 'first_name', 'email', 'country', 'account'] ['Castillo', 'Ashley', 'cory33@king-shaw.net', 'Paraguay', 'QXGZ3111246190069']\n",
      "['last_name', 'first_name', 'email', 'country', 'account'] ['Flores', 'Zachary', 'zcalhoun@gmail.com', 'Central African Republic', 'ACQR2846533122117']\n",
      "['last_name', 'first_name', 'email', 'country', 'account'] ['Allen', 'Erica', 'michaelhall@hotmail.com', 'Palau', 'ZAZD8310339637467']\n",
      "['last_name', 'first_name', 'email', 'country', 'account'] ['Potts', 'Savannah', 'kristentaylor@yahoo.com', 'Micronesia', 'ARWK1547324119222']\n",
      "['last_name', 'first_name', 'email', 'country', 'account'] ['Wheeler', 'Zachary', 'stephen63@yahoo.com', 'Armenia', 'OMQX4840913072589']\n",
      "['last_name', 'first_name', 'email', 'country', 'account'] ['Thomas', 'Timothy', 'bryanmartin@gmail.com', 'Bahrain', 'OCFV4659464275270']\n",
      "['last_name', 'first_name', 'email', 'country', 'account'] ['Mcknight', 'Ann', 'kristinavelasquez@gmail.com', 'Guatemala', 'DTRB4720098955341']\n",
      "['last_name', 'first_name', 'email', 'country', 'account'] ['Thompson', 'Ruth', 'denise01@burns.org', 'Saint Vincent and the Grenadines', 'YYHM5758234683389']\n",
      "['last_name', 'first_name', 'email', 'country', 'account'] ['Levy', 'Daniel', 'beancody@jones.com', 'Kazakhstan', 'AHBN3151680654826']\n",
      "['last_name', 'first_name', 'email', 'country', 'account'] ['Hubbard', 'Paul', 'ubradley@yahoo.com', 'Germany', 'FGBC0366153271398']\n",
      "['last_name', 'first_name', 'email', 'country', 'account'] ['Jones', 'Jason', 'anthony75@yahoo.com', 'Western Sahara', 'MHTE8867005510944']\n",
      "['last_name', 'first_name', 'email', 'country', 'account'] ['Garcia', 'Margaret', 'antonio52@gmail.com', 'Togo', 'IYOD4325345823013']\n",
      "['last_name', 'first_name', 'email', 'country', 'account'] ['Peters', 'Jeremy', 'johnlewis@hotmail.com', 'Guam', 'NZFX8257739892619']\n",
      "['last_name', 'first_name', 'email', 'country', 'account'] ['Stone', 'Mark', 'nmoore@hotmail.com', 'Kuwait', 'MWRB2515761996641']\n",
      "['last_name', 'first_name', 'email', 'country', 'account'] ['Edwards', 'Darius', 'nchurch@yahoo.com', 'Eritrea', 'CURJ9953745256871']\n",
      "['last_name', 'first_name', 'email', 'country', 'account'] ['Lawson', 'Tracy', 'piercejenna@gmail.com', 'Czech Republic', 'ATOT8581137487723']\n",
      "['last_name', 'first_name', 'email', 'country', 'account'] ['Cooper', 'Christina', 'ddavidson@hotmail.com', 'Maldives', 'RQGA0882784089265']\n",
      "['last_name', 'first_name', 'email', 'country', 'account'] ['Harris', 'Megan', 'ndelacruz@yahoo.com', 'Armenia', 'EOPA8088866975598']\n",
      "['last_name', 'first_name', 'email', 'country', 'account'] ['Jones', 'Timothy', 'jenniferadkins@griffin.biz', 'Benin', 'JCUN9597199552039']\n",
      "['last_name', 'first_name', 'email', 'country', 'account'] ['Burch', 'Tracie', 'evansmiguel@yahoo.com', 'Fiji', 'IZYL3351829981461']\n",
      "['last_name', 'first_name', 'email', 'country', 'account'] ['Chung', 'Jason', 'kenneththompson@baxter.com', 'Iceland', 'JDIH2349154465371']\n",
      "['last_name', 'first_name', 'email', 'country', 'account'] ['Melton', 'Samantha', 'bcurtis@hotmail.com', 'Macedonia', 'VRZP1447516193511']\n",
      "['last_name', 'first_name', 'email', 'country', 'account'] ['Hansen', 'Michael', 'phillipssean@hotmail.com', 'Serbia', 'QKAF2254397516681']\n"
     ]
    }
   ],
   "source": [
    "filename = 'people.tsv'\n",
    "with open(filename) as file:\n",
    "    header = next(file).strip().split('\\t')\n",
    "    for line in file:\n",
    "        line = line.strip()\n",
    "        if not line:\n",
    "            continue\n",
    "\n",
    "        print(header, line.split('\\t'))\n",
    "    \n",
    "    "
   ]
  },
  {
   "cell_type": "code",
   "execution_count": 119,
   "id": "fce17d41-9eaf-4925-a9be-233d9c6d3e70",
   "metadata": {},
   "outputs": [
    {
     "name": "stdout",
     "output_type": "stream",
     "text": [
      "0\n",
      "1\n",
      "4\n",
      "9\n",
      "16\n"
     ]
    }
   ],
   "source": [
    "\n",
    "class PowX:\n",
    "    def __init__(self, limit, power):\n",
    "        self.limit = limit\n",
    "        self.power = power\n",
    "\n",
    "    def __iter__(self):\n",
    "        self.value = 0\n",
    "        return self\n",
    "\n",
    "    def __next__(self):\n",
    "        if self.value < self.limit:\n",
    "            output = self.value**self.power\n",
    "            self.value += 1\n",
    "            return output\n",
    "        else:\n",
    "            raise StopIteration\n",
    "\n",
    "for ele in PowX(5, 2):\n",
    "    print(ele)"
   ]
  },
  {
   "cell_type": "code",
   "execution_count": 122,
   "id": "55bf30dd-d456-43ad-a75b-34128fe645bb",
   "metadata": {},
   "outputs": [
    {
     "name": "stdout",
     "output_type": "stream",
     "text": [
      "0\n",
      "1\n",
      "8\n",
      "27\n",
      "64\n",
      "125\n",
      "216\n",
      "343\n",
      "512\n",
      "729\n"
     ]
    }
   ],
   "source": [
    "def PowX(limit, power):\n",
    "    value = 0\n",
    "    while value < limit:\n",
    "        yield value**power\n",
    "        value += 1\n",
    "\n",
    "powx = PowX(10, 3)\n",
    "for ele in powx:\n",
    "    print(ele)"
   ]
  },
  {
   "cell_type": "code",
   "execution_count": 123,
   "id": "2c380152-da75-4aa8-948b-a0f87441c6ed",
   "metadata": {},
   "outputs": [],
   "source": [
    "for ele in powx:\n",
    "    print(ele)"
   ]
  },
  {
   "cell_type": "code",
   "execution_count": 124,
   "id": "1c88f87e-e610-4bbe-add7-a2a5b6d739d1",
   "metadata": {},
   "outputs": [
    {
     "name": "stdout",
     "output_type": "stream",
     "text": [
      "\n",
      "Print class_variable\n",
      "t1.class_variable:  1\n",
      "t2.class_variable:  1\n"
     ]
    }
   ],
   "source": [
    "class TestClass:\n",
    "    class_variable = 1 # Belongs to the class. Shared by all instances\n",
    "\n",
    "\n",
    "\n",
    "t1 = TestClass()\n",
    "t2 = TestClass()\n",
    "\n",
    "\n",
    "print('\\nPrint class_variable')\n",
    "print('t1.class_variable: ', t1.class_variable)\n",
    "print('t2.class_variable: ', t2.class_variable)"
   ]
  },
  {
   "cell_type": "code",
   "execution_count": 125,
   "id": "e532ae0e-451e-4e32-97aa-e51161e17e94",
   "metadata": {},
   "outputs": [
    {
     "name": "stdout",
     "output_type": "stream",
     "text": [
      "\n",
      "Change class_variable in class definition and print class_variable\n",
      "t1.class_variable:  2\n",
      "t2.class_variable:  2\n"
     ]
    }
   ],
   "source": [
    "print('\\nChange class_variable in class definition and print class_variable')\n",
    "TestClass.class_variable = 2\n",
    "print('t1.class_variable: ', t1.class_variable)\n",
    "print('t2.class_variable: ', t2.class_variable)"
   ]
  },
  {
   "cell_type": "code",
   "execution_count": 126,
   "id": "36aa2258-5d16-46cd-b5f1-24ec2b166dbe",
   "metadata": {},
   "outputs": [
    {
     "name": "stdout",
     "output_type": "stream",
     "text": [
      "\n",
      "Change class_variable in instance t1 and print class_variable\n",
      "t1.class_variable:  3\n",
      "t2.class_variable:  2\n"
     ]
    }
   ],
   "source": [
    "print('\\nChange class_variable in instance t1 and print class_variable')\n",
    "t1.class_variable = 3\n",
    "print('t1.class_variable: ', t1.class_variable)\n",
    "print('t2.class_variable: ', t2.class_variable)"
   ]
  },
  {
   "cell_type": "code",
   "execution_count": 127,
   "id": "71ecb881-bb24-4689-ad39-621d838707e3",
   "metadata": {},
   "outputs": [
    {
     "name": "stdout",
     "output_type": "stream",
     "text": [
      "\n",
      "Change class_variable in instance t2 and print class_variable\n",
      "t1.class_variable:  3\n",
      "t2.class_variable:  4\n",
      "\n",
      " ------------------------------------------------------------ \n",
      "\n"
     ]
    }
   ],
   "source": [
    "print('\\nChange class_variable in instance t2 and print class_variable')\n",
    "t2.class_variable = 4\n",
    "print('t1.class_variable: ', t1.class_variable)\n",
    "print('t2.class_variable: ', t2.class_variable)\n",
    "\n",
    "\n",
    "print('\\n', '-'*60, '\\n')"
   ]
  },
  {
   "cell_type": "code",
   "execution_count": 128,
   "id": "f797bdef-23b1-40b6-9ff9-129680966328",
   "metadata": {},
   "outputs": [
    {
     "name": "stdout",
     "output_type": "stream",
     "text": [
      "\n",
      "Print class_variable\n",
      "t1.class_variable:  1\n",
      "t2.class_variable:  1\n",
      "\n",
      "Print instance_variable\n",
      "t1.instance_variable:  1\n",
      "t2.instance_variable:  2\n"
     ]
    }
   ],
   "source": [
    "class TestClass:\n",
    "    class_variable = 1 # Belongs to the class. Shared by all instances\n",
    "\n",
    "    def __init__(self, instance_variable):\n",
    "        self.instance_variable = instance_variable\n",
    "\n",
    "t1 = TestClass(1)\n",
    "t2 = TestClass(2)\n",
    "\n",
    "\n",
    "print('\\nPrint class_variable')\n",
    "print('t1.class_variable: ', t1.class_variable)\n",
    "print('t2.class_variable: ', t2.class_variable)\n",
    "\n",
    "print('\\nPrint instance_variable')\n",
    "print('t1.instance_variable: ', t1.instance_variable)\n",
    "print('t2.instance_variable: ', t2.instance_variable)"
   ]
  },
  {
   "cell_type": "code",
   "execution_count": 129,
   "id": "2aae37b6-202c-4a1e-bafc-b30048fe45c9",
   "metadata": {},
   "outputs": [
    {
     "name": "stdout",
     "output_type": "stream",
     "text": [
      "\n",
      "Change class_variable in class definition and print class_variable\n",
      "t1.class_variable:  2\n",
      "t1.class_variable:  2\n"
     ]
    }
   ],
   "source": [
    "print('\\nChange class_variable in class definition and print class_variable')\n",
    "TestClass.class_variable = 2\n",
    "print('t1.class_variable: ', t1.class_variable)\n",
    "print('t1.class_variable: ', t2.class_variable)"
   ]
  },
  {
   "cell_type": "code",
   "execution_count": 130,
   "id": "172ba58c-8057-4df2-97c8-a50647dee44f",
   "metadata": {},
   "outputs": [
    {
     "name": "stdout",
     "output_type": "stream",
     "text": [
      "\n",
      "Change instance_variable for t1 and print instance_variable\n",
      "t1.instance_variable:  10\n",
      "t2.instance_variable:  2\n",
      "\n",
      "Change instance_variable for t2 and print instance_variable\n",
      "t1.instance_variable:  10\n",
      "t2.instance_variable:  20\n"
     ]
    }
   ],
   "source": [
    "print('\\nChange instance_variable for t1 and print instance_variable')\n",
    "t1.instance_variable = 10\n",
    "print('t1.instance_variable: ', t1.instance_variable)\n",
    "print('t2.instance_variable: ', t2.instance_variable)\n",
    "\n",
    "print('\\nChange instance_variable for t2 and print instance_variable')\n",
    "t2.instance_variable = 20\n",
    "print('t1.instance_variable: ', t1.instance_variable)\n",
    "print('t2.instance_variable: ', t2.instance_variable)"
   ]
  },
  {
   "cell_type": "code",
   "execution_count": 131,
   "id": "4bcee8ce-78f4-432d-a4a7-ed94307f215c",
   "metadata": {},
   "outputs": [
    {
     "name": "stdout",
     "output_type": "stream",
     "text": [
      "\n",
      "Change class_variable in instance t1 and print class_variable\n",
      "t1.class_variable:  3\n",
      "t2.class_variable:  2\n",
      "\n",
      "Change class_variable in instance t2 and print class_variable\n",
      "t1.class_variable:  3\n",
      "t2.class_variable:  4\n",
      "\n",
      " ------------------------------------------------------------ \n",
      "\n"
     ]
    }
   ],
   "source": [
    "print('\\nChange class_variable in instance t1 and print class_variable')\n",
    "t1.class_variable = 3\n",
    "print('t1.class_variable: ', t1.class_variable)\n",
    "print('t2.class_variable: ', t2.class_variable)\n",
    "\n",
    "\n",
    "print('\\nChange class_variable in instance t2 and print class_variable')\n",
    "t2.class_variable = 4\n",
    "print('t1.class_variable: ', t1.class_variable)\n",
    "print('t2.class_variable: ', t2.class_variable)\n",
    "\n",
    "\n",
    "\n",
    "print('\\n', '-'*60, '\\n')"
   ]
  },
  {
   "cell_type": "code",
   "execution_count": 132,
   "id": "3a53631a-6639-4342-abdd-85ddc4a0241c",
   "metadata": {},
   "outputs": [
    {
     "name": "stdout",
     "output_type": "stream",
     "text": [
      "@staticmethod add:  7\n"
     ]
    }
   ],
   "source": [
    "\n",
    "class TestClass:\n",
    "    class_variable = 1\n",
    "\n",
    "    # @staticmethod are bound to class rather than object. Therefore, to use them, you do not have\n",
    "    # to instantiate an object.\n",
    "    # NOTE: staticmethods do no have access to class properties (variables or methods).\n",
    "    # This means they cannot access class_variable.\n",
    "    # Such methods are used when you do not want subclasses to change/overwrite a specific method.\n",
    "\n",
    "    @staticmethod\n",
    "    def add(number1, number2): # self is missing!!!!\n",
    "        return number1 + number2\n",
    "\n",
    "\n",
    "print('@staticmethod add: ', TestClass.add(3,4))"
   ]
  },
  {
   "cell_type": "code",
   "execution_count": 133,
   "id": "a5ee1778-a52f-43f3-abe8-8212c3a41b32",
   "metadata": {},
   "outputs": [
    {
     "data": {
      "text/plain": [
       "<__main__.TestClass at 0x7fb5b8587800>"
      ]
     },
     "execution_count": 133,
     "metadata": {},
     "output_type": "execute_result"
    }
   ],
   "source": [
    "x = TestClass()\n",
    "x"
   ]
  },
  {
   "cell_type": "code",
   "execution_count": 134,
   "id": "4b4ef8de-72cf-4c91-a113-828760f59f7b",
   "metadata": {},
   "outputs": [
    {
     "data": {
      "text/plain": [
       "5"
      ]
     },
     "execution_count": 134,
     "metadata": {},
     "output_type": "execute_result"
    }
   ],
   "source": [
    "x.add(2, 3)"
   ]
  },
  {
   "cell_type": "code",
   "execution_count": 135,
   "id": "36e445e9-9468-4d78-9106-8b760ed2800d",
   "metadata": {},
   "outputs": [
    {
     "ename": "NameError",
     "evalue": "name 'class_variable' is not defined",
     "output_type": "error",
     "traceback": [
      "\u001b[31m---------------------------------------------------------------------------\u001b[39m",
      "\u001b[31mNameError\u001b[39m                                 Traceback (most recent call last)",
      "\u001b[36mCell\u001b[39m\u001b[36m \u001b[39m\u001b[32mIn[135]\u001b[39m\u001b[32m, line 14\u001b[39m\n\u001b[32m     10\u001b[39m     \u001b[38;5;129m@staticmethod\u001b[39m\n\u001b[32m     11\u001b[39m     \u001b[38;5;28;01mdef\u001b[39;00m\u001b[38;5;250m \u001b[39m\u001b[34madd\u001b[39m(number1, number2):\n\u001b[32m     12\u001b[39m         \u001b[38;5;28;01mreturn\u001b[39;00m number1 + number2 + class_variable\n\u001b[32m---> \u001b[39m\u001b[32m14\u001b[39m \u001b[38;5;28mprint\u001b[39m(\u001b[33m'\u001b[39m\u001b[33m@staticmethod add: \u001b[39m\u001b[33m'\u001b[39m, \u001b[43mTestClass2\u001b[49m\u001b[43m.\u001b[49m\u001b[43madd\u001b[49m\u001b[43m(\u001b[49m\u001b[32;43m3\u001b[39;49m\u001b[43m,\u001b[49m\u001b[32;43m4\u001b[39;49m\u001b[43m)\u001b[49m)\n\u001b[32m     15\u001b[39m \u001b[38;5;28mprint\u001b[39m(\u001b[33m'\u001b[39m\u001b[38;5;130;01m\\n\u001b[39;00m\u001b[33m'\u001b[39m, \u001b[33m'\u001b[39m\u001b[33m-\u001b[39m\u001b[33m'\u001b[39m*\u001b[32m60\u001b[39m, \u001b[33m'\u001b[39m\u001b[38;5;130;01m\\n\u001b[39;00m\u001b[33m'\u001b[39m)\n",
      "\u001b[36mCell\u001b[39m\u001b[36m \u001b[39m\u001b[32mIn[135]\u001b[39m\u001b[32m, line 12\u001b[39m, in \u001b[36mTestClass2.add\u001b[39m\u001b[34m(number1, number2)\u001b[39m\n\u001b[32m     10\u001b[39m \u001b[38;5;129m@staticmethod\u001b[39m\n\u001b[32m     11\u001b[39m \u001b[38;5;28;01mdef\u001b[39;00m\u001b[38;5;250m \u001b[39m\u001b[34madd\u001b[39m(number1, number2):\n\u001b[32m---> \u001b[39m\u001b[32m12\u001b[39m     \u001b[38;5;28;01mreturn\u001b[39;00m number1 + number2 + \u001b[43mclass_variable\u001b[49m\n",
      "\u001b[31mNameError\u001b[39m: name 'class_variable' is not defined"
     ]
    }
   ],
   "source": [
    "class TestClass2:\n",
    "    class_variable = 1\n",
    "\n",
    "    # @staticmethod are bound to class rather than object. Therefore, to use them, you do not have\n",
    "    # to instantiate an object.\n",
    "    # NOTE: staticmethods do no have access to class properties [attributes] (variables or methods).\n",
    "    # This means they cannot access class_variable.\n",
    "    # Such methods are used when you do not want subclasses to change/overwrite a specific method.\n",
    "\n",
    "    @staticmethod\n",
    "    def add(number1, number2):\n",
    "        return number1 + number2 + class_variable\n",
    "\n",
    "print('@staticmethod add: ', TestClass2.add(3,4))\n",
    "print('\\n', '-'*60, '\\n')\n"
   ]
  },
  {
   "cell_type": "code",
   "execution_count": 136,
   "id": "971b1f96-559d-4d86-b5d5-7016fb6bd119",
   "metadata": {},
   "outputs": [
    {
     "name": "stdout",
     "output_type": "stream",
     "text": [
      "@classmethod add:  12\n"
     ]
    }
   ],
   "source": [
    "class TestClass:\n",
    "    class_variable = 1\n",
    "\n",
    "    # @classmethod are bound to class rather than object. Therefore, to use them, you do not have\n",
    "    # to instantiate an object.\n",
    "    # NOTE: Unlike staticmethods, classmethods do have access to class properties (variables or methods).\n",
    "    # This means they can access class_variable.\n",
    "\n",
    "    @classmethod\n",
    "    def add(cls, number1, number2):\n",
    "        return number1 + number2 + cls.class_variable\n",
    "print('@classmethod add: ', TestClass.add(5,6))\n"
   ]
  },
  {
   "cell_type": "code",
   "execution_count": 137,
   "id": "07fd98c5-f9a3-4b1a-b2d1-f9266aa5aa4b",
   "metadata": {},
   "outputs": [
    {
     "name": "stdout",
     "output_type": "stream",
     "text": [
      "add_static:  27\n",
      "add_class:  28\n"
     ]
    }
   ],
   "source": [
    "class TestClass:\n",
    "    class_variable = 1\n",
    "\n",
    "    @staticmethod\n",
    "    def add_static(number1, number2):\n",
    "        return number1 + number2\n",
    "\n",
    "    @classmethod\n",
    "    def add_class(cls, number1, number2):\n",
    "        return number1 + number2 + cls.class_variable\n",
    "\n",
    "\n",
    "    def add_object(self, number1, number2):\n",
    "        return number1 + number2 + self.class_variable + 29\n",
    "\n",
    "\n",
    "print('add_static: ', TestClass.add_static(13,14))\n",
    "print('add_class: ', TestClass.add_class(13,14))"
   ]
  },
  {
   "cell_type": "code",
   "execution_count": 138,
   "id": "e0a43e07-15f2-405e-8958-2e88d64f1060",
   "metadata": {},
   "outputs": [
    {
     "ename": "TypeError",
     "evalue": "TestClass.add_object() missing 1 required positional argument: 'number2'",
     "output_type": "error",
     "traceback": [
      "\u001b[31m---------------------------------------------------------------------------\u001b[39m",
      "\u001b[31mTypeError\u001b[39m                                 Traceback (most recent call last)",
      "\u001b[36mCell\u001b[39m\u001b[36m \u001b[39m\u001b[32mIn[138]\u001b[39m\u001b[32m, line 1\u001b[39m\n\u001b[32m----> \u001b[39m\u001b[32m1\u001b[39m \u001b[43mTestClass\u001b[49m\u001b[43m.\u001b[49m\u001b[43madd_object\u001b[49m\u001b[43m(\u001b[49m\u001b[32;43m3\u001b[39;49m\u001b[43m,\u001b[49m\u001b[43m \u001b[49m\u001b[32;43m4\u001b[39;49m\u001b[43m)\u001b[49m\n",
      "\u001b[31mTypeError\u001b[39m: TestClass.add_object() missing 1 required positional argument: 'number2'"
     ]
    }
   ],
   "source": [
    "TestClass.add_object(3, 4) # you need to instantiate an object for this method to work!!!!"
   ]
  },
  {
   "cell_type": "code",
   "execution_count": 139,
   "id": "f63225df-d132-465e-9c60-7c8fe510483e",
   "metadata": {},
   "outputs": [
    {
     "name": "stdout",
     "output_type": "stream",
     "text": [
      "Call from class -- add_object:  57\n"
     ]
    }
   ],
   "source": [
    "t1 = TestClass()\n",
    "\n",
    "print('Call from class -- add_object: ', TestClass.add_object(t1, 13, 14))"
   ]
  },
  {
   "cell_type": "code",
   "execution_count": 140,
   "id": "f14f0275-f4fc-4bd8-9dc2-7df76eb62a2c",
   "metadata": {},
   "outputs": [
    {
     "name": "stdout",
     "output_type": "stream",
     "text": [
      "Call from object -- add_object:  57\n"
     ]
    }
   ],
   "source": [
    "print('Call from object -- add_object: ', t1.add_object(13, 14)) # ==> TestClass.add_object(t1, 13, 14)"
   ]
  }
 ],
 "metadata": {
  "kernelspec": {
   "display_name": "Python 3 (ipykernel)",
   "language": "python",
   "name": "python3"
  },
  "language_info": {
   "codemirror_mode": {
    "name": "ipython",
    "version": 3
   },
   "file_extension": ".py",
   "mimetype": "text/x-python",
   "name": "python",
   "nbconvert_exporter": "python",
   "pygments_lexer": "ipython3",
   "version": "3.12.3"
  }
 },
 "nbformat": 4,
 "nbformat_minor": 5
}
