{
 "cells": [
  {
   "cell_type": "code",
   "execution_count": null,
   "id": "5f9c9fd6-1572-4f0b-bd16-b30bf14812e0",
   "metadata": {},
   "outputs": [],
   "source": [
    "# int -- integer -- whole numbers\n",
    "# float -- floating point -- numbers with decimal places\n",
    "\n",
    "3.14 + 3  # float + int "
   ]
  },
  {
   "cell_type": "code",
   "execution_count": 1,
   "id": "7ffc7b57-1955-4479-b2ad-1f926a9d66f4",
   "metadata": {},
   "outputs": [
    {
     "data": {
      "text/plain": [
       "float"
      ]
     },
     "execution_count": 1,
     "metadata": {},
     "output_type": "execute_result"
    }
   ],
   "source": [
    "type(3.14)"
   ]
  },
  {
   "cell_type": "code",
   "execution_count": 2,
   "id": "a2bedc30-55fe-4567-8bb1-ae347ad7e5ba",
   "metadata": {},
   "outputs": [
    {
     "data": {
      "text/plain": [
       "int"
      ]
     },
     "execution_count": 2,
     "metadata": {},
     "output_type": "execute_result"
    }
   ],
   "source": [
    "type(3)"
   ]
  },
  {
   "cell_type": "code",
   "execution_count": 3,
   "id": "6ac657c8-b688-4d97-b974-cd31fce27970",
   "metadata": {},
   "outputs": [
    {
     "data": {
      "text/plain": [
       "float"
      ]
     },
     "execution_count": 3,
     "metadata": {},
     "output_type": "execute_result"
    }
   ],
   "source": [
    "type(3.0)"
   ]
  },
  {
   "cell_type": "code",
   "execution_count": 4,
   "id": "7bdab832-d4bf-496f-8823-a4cdb3c9aa57",
   "metadata": {},
   "outputs": [
    {
     "name": "stdout",
     "output_type": "stream",
     "text": [
      "student\n"
     ]
    }
   ],
   "source": [
    "type = \"student\"\n",
    "print(type)"
   ]
  },
  {
   "cell_type": "code",
   "execution_count": 5,
   "id": "0f332347-cefc-47ed-872c-05cb4fba0bb4",
   "metadata": {},
   "outputs": [
    {
     "ename": "TypeError",
     "evalue": "'str' object is not callable",
     "output_type": "error",
     "traceback": [
      "\u001b[31m---------------------------------------------------------------------------\u001b[39m",
      "\u001b[31mTypeError\u001b[39m                                 Traceback (most recent call last)",
      "\u001b[36mCell\u001b[39m\u001b[36m \u001b[39m\u001b[32mIn[5]\u001b[39m\u001b[32m, line 1\u001b[39m\n\u001b[32m----> \u001b[39m\u001b[32m1\u001b[39m \u001b[38;5;28;43mtype\u001b[39;49m\u001b[43m(\u001b[49m\u001b[32;43m3\u001b[39;49m\u001b[43m)\u001b[49m\n",
      "\u001b[31mTypeError\u001b[39m: 'str' object is not callable"
     ]
    }
   ],
   "source": [
    "type(3)"
   ]
  },
  {
   "cell_type": "code",
   "execution_count": 6,
   "id": "1ae5d97a-5c95-4554-aa81-85eaa2f4ca9a",
   "metadata": {},
   "outputs": [],
   "source": [
    "del type"
   ]
  },
  {
   "cell_type": "code",
   "execution_count": 7,
   "id": "f86e8e71-94ad-4db4-9424-9b4cc94b9c65",
   "metadata": {},
   "outputs": [
    {
     "data": {
      "text/plain": [
       "int"
      ]
     },
     "execution_count": 7,
     "metadata": {},
     "output_type": "execute_result"
    }
   ],
   "source": [
    "type(3)"
   ]
  },
  {
   "cell_type": "code",
   "execution_count": 8,
   "id": "7179b74f-6aaa-4cbc-ab5b-50e4c6b347e9",
   "metadata": {},
   "outputs": [],
   "source": [
    "x = 1\n",
    "\n",
    "x = x + 1"
   ]
  },
  {
   "cell_type": "code",
   "execution_count": null,
   "id": "95b0f77c-374c-4a90-9d63-ac0dda68979e",
   "metadata": {},
   "outputs": [],
   "source": [
    "x = 1\n",
    "x += 1 # x = x + 1"
   ]
  },
  {
   "cell_type": "code",
   "execution_count": 9,
   "id": "b40d4018-907f-413c-b504-9868269743cc",
   "metadata": {},
   "outputs": [
    {
     "data": {
      "text/plain": [
       "0.6666666666666666"
      ]
     },
     "execution_count": 9,
     "metadata": {},
     "output_type": "execute_result"
    }
   ],
   "source": [
    "# / ---> division -- regular division \n",
    "2/3"
   ]
  },
  {
   "cell_type": "code",
   "execution_count": 10,
   "id": "5345e018-957f-4a28-90fe-00d24163f7e7",
   "metadata": {},
   "outputs": [
    {
     "data": {
      "text/plain": [
       "0"
      ]
     },
     "execution_count": 10,
     "metadata": {},
     "output_type": "execute_result"
    }
   ],
   "source": [
    "# // ---> integer division \n",
    "\n",
    "2//3 "
   ]
  },
  {
   "cell_type": "code",
   "execution_count": 11,
   "id": "82be2fb6-9a28-41d0-98dc-4491aaa52e04",
   "metadata": {},
   "outputs": [
    {
     "data": {
      "text/plain": [
       "-1.5"
      ]
     },
     "execution_count": 11,
     "metadata": {},
     "output_type": "execute_result"
    }
   ],
   "source": [
    "-3/2"
   ]
  },
  {
   "cell_type": "code",
   "execution_count": 12,
   "id": "99e4c8e7-0ea1-4d2a-8bc6-1b4f58aa48ad",
   "metadata": {},
   "outputs": [
    {
     "data": {
      "text/plain": [
       "-2"
      ]
     },
     "execution_count": 12,
     "metadata": {},
     "output_type": "execute_result"
    }
   ],
   "source": [
    "-3 // 2"
   ]
  },
  {
   "cell_type": "code",
   "execution_count": 13,
   "id": "af728db7-19d5-4251-94c2-1c25b5451880",
   "metadata": {},
   "outputs": [
    {
     "name": "stdout",
     "output_type": "stream",
     "text": [
      "2\n"
     ]
    }
   ],
   "source": [
    "hours = 54\n",
    "\n",
    "days = 54 // 24\n",
    "print(days)"
   ]
  },
  {
   "cell_type": "code",
   "execution_count": 14,
   "id": "5ae78f2f-625f-4e62-bd0a-eeaf0758beb0",
   "metadata": {},
   "outputs": [
    {
     "name": "stdout",
     "output_type": "stream",
     "text": [
      "6\n"
     ]
    }
   ],
   "source": [
    "remainder = 54 % 24\n",
    "print(remainder)"
   ]
  },
  {
   "cell_type": "code",
   "execution_count": 15,
   "id": "344d628b-5d72-4124-a291-a75e1a0f3cfe",
   "metadata": {},
   "outputs": [
    {
     "ename": "NameError",
     "evalue": "name 'my_variable' is not defined",
     "output_type": "error",
     "traceback": [
      "\u001b[31m---------------------------------------------------------------------------\u001b[39m",
      "\u001b[31mNameError\u001b[39m                                 Traceback (most recent call last)",
      "\u001b[36mCell\u001b[39m\u001b[36m \u001b[39m\u001b[32mIn[15]\u001b[39m\u001b[32m, line 1\u001b[39m\n\u001b[32m----> \u001b[39m\u001b[32m1\u001b[39m \u001b[38;5;28mtype\u001b[39m(\u001b[43mmy_variable\u001b[49m)\n",
      "\u001b[31mNameError\u001b[39m: name 'my_variable' is not defined"
     ]
    }
   ],
   "source": [
    "type(my_variable)"
   ]
  },
  {
   "cell_type": "code",
   "execution_count": 16,
   "id": "7dcc1bff-40ae-43d1-9887-01b8b85f8f32",
   "metadata": {},
   "outputs": [
    {
     "ename": "NameError",
     "evalue": "name 'ph' is not defined",
     "output_type": "error",
     "traceback": [
      "\u001b[31m---------------------------------------------------------------------------\u001b[39m",
      "\u001b[31mNameError\u001b[39m                                 Traceback (most recent call last)",
      "\u001b[36mCell\u001b[39m\u001b[36m \u001b[39m\u001b[32mIn[16]\u001b[39m\u001b[32m, line 3\u001b[39m\n\u001b[32m      1\u001b[39m pH = \u001b[32m7.0\u001b[39m\n\u001b[32m----> \u001b[39m\u001b[32m3\u001b[39m \u001b[38;5;28mtype\u001b[39m(\u001b[43mph\u001b[49m)\n",
      "\u001b[31mNameError\u001b[39m: name 'ph' is not defined"
     ]
    }
   ],
   "source": [
    "pH = 7.0\n",
    "\n",
    "type(ph)"
   ]
  },
  {
   "cell_type": "code",
   "execution_count": 17,
   "id": "e315c6b3-0a96-4ec0-8f72-456fbd1c4ef8",
   "metadata": {},
   "outputs": [
    {
     "ename": "SyntaxError",
     "evalue": "invalid syntax (4087983127.py, line 1)",
     "output_type": "error",
     "traceback": [
      "  \u001b[36mCell\u001b[39m\u001b[36m \u001b[39m\u001b[32mIn[17]\u001b[39m\u001b[32m, line 1\u001b[39m\n\u001b[31m    \u001b[39m\u001b[31m2 +\u001b[39m\n        ^\n\u001b[31mSyntaxError\u001b[39m\u001b[31m:\u001b[39m invalid syntax\n"
     ]
    }
   ],
   "source": [
    "2 + "
   ]
  },
  {
   "cell_type": "code",
   "execution_count": null,
   "id": "642d2c67-7b72-46b0-823b-54c3806775d6",
   "metadata": {},
   "outputs": [],
   "source": [
    "# Tarzan loves Jain --> Subject (doer) + verb + object SVO\n",
    "# John hit ball --> \n",
    "\n",
    "# love Tarzan Jain -> Verb-Subject-Object\n",
    "# Object-Subject-Verb (OSV) --> Jain Tarzan love # Ball John Hit"
   ]
  },
  {
   "cell_type": "code",
   "execution_count": 18,
   "id": "bf684818-1d57-401d-8623-8fd079f5a9a1",
   "metadata": {},
   "outputs": [
    {
     "ename": "ZeroDivisionError",
     "evalue": "division by zero",
     "output_type": "error",
     "traceback": [
      "\u001b[31m---------------------------------------------------------------------------\u001b[39m",
      "\u001b[31mZeroDivisionError\u001b[39m                         Traceback (most recent call last)",
      "\u001b[36mCell\u001b[39m\u001b[36m \u001b[39m\u001b[32mIn[18]\u001b[39m\u001b[32m, line 1\u001b[39m\n\u001b[32m----> \u001b[39m\u001b[32m1\u001b[39m \u001b[32;43m3\u001b[39;49m\u001b[43m \u001b[49m\u001b[43m/\u001b[49m\u001b[43m \u001b[49m\u001b[32;43m0\u001b[39;49m\n",
      "\u001b[31mZeroDivisionError\u001b[39m: division by zero"
     ]
    }
   ],
   "source": [
    "3 / 0"
   ]
  },
  {
   "cell_type": "code",
   "execution_count": 19,
   "id": "9125af64-91fa-411e-8808-748228c3459e",
   "metadata": {},
   "outputs": [
    {
     "data": {
      "text/plain": [
       "5"
      ]
     },
     "execution_count": 19,
     "metadata": {},
     "output_type": "execute_result"
    }
   ],
   "source": [
    "(2 + \n",
    " 3)"
   ]
  },
  {
   "cell_type": "code",
   "execution_count": 20,
   "id": "ea2ed8dc-b73c-4af2-8c72-de2de6f3bc1d",
   "metadata": {
    "jupyter": {
     "source_hidden": true
    }
   },
   "outputs": [
    {
     "data": {
      "text/plain": [
       "5"
      ]
     },
     "execution_count": 20,
     "metadata": {},
     "output_type": "execute_result"
    }
   ],
   "source": [
    "(2 \n",
    " + 3)"
   ]
  },
  {
   "cell_type": "code",
   "execution_count": null,
   "id": "86a7d0d8-28de-4f25-ac00-ed2d7b4d9697",
   "metadata": {},
   "outputs": [],
   "source": []
  },
  {
   "cell_type": "code",
   "execution_count": 23,
   "id": "9b6a909f-9c0f-4e26-a3fc-e521505823bb",
   "metadata": {},
   "outputs": [
    {
     "data": {
      "text/plain": [
       "5"
      ]
     },
     "execution_count": 23,
     "metadata": {},
     "output_type": "execute_result"
    }
   ],
   "source": [
    "2 + \\\n",
    "3"
   ]
  },
  {
   "cell_type": "code",
   "execution_count": 24,
   "id": "4f945362-6943-41b6-8c1e-37c7c879ac6b",
   "metadata": {},
   "outputs": [
    {
     "data": {
      "text/plain": [
       "5"
      ]
     },
     "execution_count": 24,
     "metadata": {},
     "output_type": "execute_result"
    }
   ],
   "source": [
    "2 \\\n",
    "+ 3"
   ]
  },
  {
   "cell_type": "code",
   "execution_count": null,
   "id": "f53fe35a-8d7c-47aa-bc04-f37ee838c6b0",
   "metadata": {},
   "outputs": [],
   "source": [
    "x * (x + 1)  # This is a secret formula"
   ]
  },
  {
   "cell_type": "code",
   "execution_count": 25,
   "id": "3ae06d5d-d248-487f-89a4-65a07a5ca672",
   "metadata": {},
   "outputs": [
    {
     "data": {
      "text/plain": [
       "7"
      ]
     },
     "execution_count": 25,
     "metadata": {},
     "output_type": "execute_result"
    }
   ],
   "source": [
    "\"\"\"\n",
    "This is a long line of comment. \n",
    "THis is a second line comment. \n",
    "And this is the third line\n",
    "\"\"\"\n",
    "5 + 2\n"
   ]
  },
  {
   "cell_type": "code",
   "execution_count": 26,
   "id": "f8323762-66a7-4102-b23b-f5be4b85f18b",
   "metadata": {},
   "outputs": [
    {
     "data": {
      "text/plain": [
       "7"
      ]
     },
     "execution_count": 26,
     "metadata": {},
     "output_type": "execute_result"
    }
   ],
   "source": [
    "'''\n",
    "This is a long line of comment. \n",
    "THis is a second line comment. \n",
    "And this is the third line\n",
    "'''\n",
    "5 + 2"
   ]
  },
  {
   "cell_type": "raw",
   "id": "ea0c5574-73be-431e-913f-963163b44887",
   "metadata": {},
   "source": [
    "``````````  -- backtick\n",
    "'''''''''' -- single quote\n",
    "\"\"\"\"\"\"\"\"\"\"\" -- double quote"
   ]
  },
  {
   "cell_type": "code",
   "execution_count": 28,
   "id": "6c544266-6e47-4215-9636-51c211d5b09d",
   "metadata": {},
   "outputs": [
    {
     "data": {
      "text/plain": [
       "''"
      ]
     },
     "execution_count": 28,
     "metadata": {},
     "output_type": "execute_result"
    }
   ],
   "source": [
    "This is a long line of comment. \n",
    "THis is a second line comment. \n",
    "And this is the third line"
   ]
  },
  {
   "cell_type": "code",
   "execution_count": 31,
   "id": "b8527222-a5a9-415a-85fd-8aeec01fe06a",
   "metadata": {},
   "outputs": [
    {
     "data": {
      "text/plain": [
       "7"
      ]
     },
     "execution_count": 31,
     "metadata": {},
     "output_type": "execute_result"
    }
   ],
   "source": [
    "# day = 1\n",
    "day = 2\n",
    "# day = 3\n",
    "\n",
    "day + 5"
   ]
  },
  {
   "cell_type": "raw",
   "id": "e5aa0a53-0d77-45af-b7f4-0bc6d214795d",
   "metadata": {},
   "source": [
    "////////// forward slash\n",
    "\\\\\\\\\\\\\\\\\\ backslash"
   ]
  },
  {
   "cell_type": "code",
   "execution_count": 32,
   "id": "c4cd91e1-df08-4d4a-8718-cc4ea348eb4f",
   "metadata": {},
   "outputs": [
    {
     "name": "stdout",
     "output_type": "stream",
     "text": [
      "2 1\n"
     ]
    }
   ],
   "source": [
    "x = 1\n",
    "y = 2\n",
    "\n",
    "tmp = x\n",
    "x = y\n",
    "y = tmp\n",
    "\n",
    "print(x,y)"
   ]
  },
  {
   "cell_type": "code",
   "execution_count": 33,
   "id": "64f272b1-45f1-4acc-9e54-2fc280850c6e",
   "metadata": {},
   "outputs": [
    {
     "name": "stdout",
     "output_type": "stream",
     "text": [
      "2 1\n"
     ]
    }
   ],
   "source": [
    "x = 1\n",
    "y = 2\n",
    "\n",
    "x, y = y, x\n",
    "print(x,y)"
   ]
  },
  {
   "cell_type": "code",
   "execution_count": 44,
   "id": "8970e75d-d24f-42cf-8563-eba30116c621",
   "metadata": {},
   "outputs": [
    {
     "data": {
      "text/plain": [
       "105.88235294117648"
      ]
     },
     "execution_count": 44,
     "metadata": {},
     "output_type": "execute_result"
    }
   ],
   "source": [
    "f = 212\n",
    "(f-32)/ 1.7"
   ]
  },
  {
   "cell_type": "code",
   "execution_count": 45,
   "id": "d25190f6-a560-465b-a69b-44d632d7d1b2",
   "metadata": {},
   "outputs": [
    {
     "data": {
      "text/plain": [
       "0.0"
      ]
     },
     "execution_count": 45,
     "metadata": {},
     "output_type": "execute_result"
    }
   ],
   "source": [
    "f = 32\n",
    "(f-32)/ 1.7"
   ]
  },
  {
   "cell_type": "code",
   "execution_count": 48,
   "id": "a52645f8-94dc-42ec-94ff-6ad23d012203",
   "metadata": {},
   "outputs": [
    {
     "data": {
      "text/plain": [
       "27.058823529411764"
      ]
     },
     "execution_count": 48,
     "metadata": {},
     "output_type": "execute_result"
    }
   ],
   "source": [
    "f = 78\n",
    "(f-32)/ 1.7"
   ]
  },
  {
   "cell_type": "code",
   "execution_count": 39,
   "id": "30107f43-c24e-4418-94ef-3e7be6279e12",
   "metadata": {},
   "outputs": [
    {
     "data": {
      "text/plain": [
       "18.333333333333332"
      ]
     },
     "execution_count": 39,
     "metadata": {},
     "output_type": "execute_result"
    }
   ],
   "source": [
    "f = 65\n",
    "(f-32)/ 1.8"
   ]
  },
  {
   "cell_type": "code",
   "execution_count": 47,
   "id": "4f69e732-8cfa-4c80-a129-9252d75d3d2e",
   "metadata": {},
   "outputs": [],
   "source": [
    "def f_to_c(f):\n",
    "    return (f-32) / 1.8"
   ]
  },
  {
   "cell_type": "code",
   "execution_count": 41,
   "id": "248a0376-efb2-4e7f-b52d-3741c5e5c8f2",
   "metadata": {},
   "outputs": [
    {
     "data": {
      "text/plain": [
       "0.0"
      ]
     },
     "execution_count": 41,
     "metadata": {},
     "output_type": "execute_result"
    }
   ],
   "source": [
    "f_to_c(32)"
   ]
  },
  {
   "cell_type": "code",
   "execution_count": 42,
   "id": "9b00e254-070b-44aa-a835-e80e7291d8e9",
   "metadata": {},
   "outputs": [
    {
     "data": {
      "text/plain": [
       "37.77777777777778"
      ]
     },
     "execution_count": 42,
     "metadata": {},
     "output_type": "execute_result"
    }
   ],
   "source": [
    "f_to_c(100)"
   ]
  },
  {
   "cell_type": "code",
   "execution_count": 51,
   "id": "222d6355-8031-4161-8c4e-d60dbbcf09d9",
   "metadata": {},
   "outputs": [
    {
     "data": {
      "text/plain": [
       "100.0"
      ]
     },
     "execution_count": 51,
     "metadata": {},
     "output_type": "execute_result"
    }
   ],
   "source": [
    "f_to_c(212)"
   ]
  },
  {
   "cell_type": "code",
   "execution_count": 50,
   "id": "fb0b24c2-5681-4e66-8735-512e689e8df7",
   "metadata": {},
   "outputs": [],
   "source": [
    "def f_to_c(f):\n",
    "    return (f-32) / 1.8"
   ]
  },
  {
   "cell_type": "code",
   "execution_count": 52,
   "id": "355e4e25-5c92-4866-b60d-5794a4d90a80",
   "metadata": {},
   "outputs": [],
   "source": [
    "type = 2"
   ]
  },
  {
   "cell_type": "code",
   "execution_count": null,
   "id": "3e383fc5-691a-4714-ac80-130b9657417a",
   "metadata": {},
   "outputs": [],
   "source": []
  },
  {
   "cell_type": "code",
   "execution_count": null,
   "id": "daac1857-3a7a-4f70-8b6d-b2957e0969a9",
   "metadata": {},
   "outputs": [],
   "source": []
  },
  {
   "cell_type": "markdown",
   "id": "94c03375-e2dc-4a7b-ab72-1c829d58bd08",
   "metadata": {},
   "source": [
    "### function is like a black box\n",
    "1. No inputs, no outputs\n",
    "2. input, no output\n",
    "3. no input, output\n",
    "4. input, output"
   ]
  },
  {
   "cell_type": "code",
   "execution_count": 53,
   "id": "f1b5f53e-cdb8-4133-8905-7496372609bf",
   "metadata": {},
   "outputs": [
    {
     "ename": "SyntaxError",
     "evalue": "invalid syntax (3093416914.py, line 1)",
     "output_type": "error",
     "traceback": [
      "  \u001b[36mCell\u001b[39m\u001b[36m \u001b[39m\u001b[32mIn[53]\u001b[39m\u001b[32m, line 1\u001b[39m\n\u001b[31m    \u001b[39m\u001b[31mdef = 5\u001b[39m\n        ^\n\u001b[31mSyntaxError\u001b[39m\u001b[31m:\u001b[39m invalid syntax\n"
     ]
    }
   ],
   "source": [
    "def = 5"
   ]
  },
  {
   "cell_type": "code",
   "execution_count": null,
   "id": "2dc3793b-5b2e-4abf-a49d-67f61545f8fd",
   "metadata": {},
   "outputs": [],
   "source": [
    "def f_to_c(f):\n",
    "    return (f-32) / 1.8"
   ]
  },
  {
   "cell_type": "code",
   "execution_count": 54,
   "id": "022a5ce7-28eb-4a8d-93bb-fef28545ddee",
   "metadata": {},
   "outputs": [
    {
     "ename": "SyntaxError",
     "evalue": "invalid syntax (3586668503.py, line 1)",
     "output_type": "error",
     "traceback": [
      "  \u001b[36mCell\u001b[39m\u001b[36m \u001b[39m\u001b[32mIn[54]\u001b[39m\u001b[32m, line 1\u001b[39m\n\u001b[31m    \u001b[39m\u001b[31mreturn = 3\u001b[39m\n           ^\n\u001b[31mSyntaxError\u001b[39m\u001b[31m:\u001b[39m invalid syntax\n"
     ]
    }
   ],
   "source": [
    "return = 3"
   ]
  },
  {
   "cell_type": "code",
   "execution_count": 55,
   "id": "fde83d7e-a327-4a25-881a-875e6a1edf90",
   "metadata": {},
   "outputs": [],
   "source": [
    "def f_to_c(f): # f here refers to function parameter\n",
    "    return (f-32) / 1.8"
   ]
  },
  {
   "cell_type": "code",
   "execution_count": null,
   "id": "65f98a39-fb9b-441f-971f-53c7e1d99cf3",
   "metadata": {},
   "outputs": [],
   "source": [
    "f_to_c(212) # 212 here is referred to as an argument or an input argument!!!!!!!"
   ]
  },
  {
   "cell_type": "code",
   "execution_count": 59,
   "id": "692f554c-1f1b-4123-833b-3d77341c1786",
   "metadata": {},
   "outputs": [],
   "source": [
    "def f_to_c(f): # f here refers to function parameter\n",
    "tmp = f-32\n",
    "c = tmp / 1.8\n",
    "return c\n",
    "f = 78\n",
    "f_to_c(f)"
   ]
  },
  {
   "cell_type": "code",
   "execution_count": 58,
   "id": "f498186a-7e5e-4992-937b-c154a976f784",
   "metadata": {},
   "outputs": [
    {
     "data": {
      "text/plain": [
       "100.0"
      ]
     },
     "execution_count": 58,
     "metadata": {},
     "output_type": "execute_result"
    }
   ],
   "source": [
    "BODY"
   ]
  },
  {
   "cell_type": "code",
   "execution_count": 60,
   "id": "a3bf47c8-02e5-42ae-b35b-09afb40b427b",
   "metadata": {},
   "outputs": [
    {
     "ename": "SyntaxError",
     "evalue": "expected ':' (3169373320.py, line 1)",
     "output_type": "error",
     "traceback": [
      "  \u001b[36mCell\u001b[39m\u001b[36m \u001b[39m\u001b[32mIn[60]\u001b[39m\u001b[32m, line 1\u001b[39m\n\u001b[31m    \u001b[39m\u001b[31mdef f_to_c(f) {\u001b[39m\n                  ^\n\u001b[31mSyntaxError\u001b[39m\u001b[31m:\u001b[39m expected ':'\n"
     ]
    }
   ],
   "source": [
    "function f_to_c(f) {\n",
    "tmp = f-32\n",
    "c = tmp / 1.8\n",
    "return c\n",
    "}\n",
    "f = 32"
   ]
  },
  {
   "cell_type": "code",
   "execution_count": 61,
   "id": "87a8f26e-419d-4e45-9e6b-f3e68b433ac7",
   "metadata": {},
   "outputs": [
    {
     "data": {
      "text/plain": [
       "25.555555555555554"
      ]
     },
     "execution_count": 61,
     "metadata": {},
     "output_type": "execute_result"
    }
   ],
   "source": [
    "def f_to_c(f): # f here refers to function parameter\n",
    "    tmp = f-32\n",
    "    c = tmp / 1.8\n",
    "    return c\n",
    "f = 78\n",
    "f_to_c(f)"
   ]
  },
  {
   "cell_type": "code",
   "execution_count": 63,
   "id": "6529f7cd-16be-4501-a9c0-c907fe1e63fc",
   "metadata": {},
   "outputs": [
    {
     "ename": "IndentationError",
     "evalue": "unindent does not match any outer indentation level (<string>, line 4)",
     "output_type": "error",
     "traceback": [
      "  \u001b[36mFile \u001b[39m\u001b[32m<string>:4\u001b[39m\n\u001b[31m    \u001b[39m\u001b[31mreturn c\u001b[39m\n            ^\n\u001b[31mIndentationError\u001b[39m\u001b[31m:\u001b[39m unindent does not match any outer indentation level\n"
     ]
    }
   ],
   "source": [
    "def f_to_c(f): # f here refers to function parameter\n",
    "    tmp = f-32\n",
    "    c = tmp / 1.8\n",
    "  return c\n",
    "f = 78\n",
    "f_to_c(f)"
   ]
  },
  {
   "cell_type": "code",
   "execution_count": 64,
   "id": "56af1d46-32a6-43ea-829c-fe6a9987307b",
   "metadata": {},
   "outputs": [
    {
     "data": {
      "text/plain": [
       "3"
      ]
     },
     "execution_count": 64,
     "metadata": {},
     "output_type": "execute_result"
    }
   ],
   "source": [
    "int(3.14)"
   ]
  },
  {
   "cell_type": "code",
   "execution_count": 65,
   "id": "84044e63-7126-4849-a228-84336954834c",
   "metadata": {},
   "outputs": [
    {
     "data": {
      "text/plain": [
       "-3"
      ]
     },
     "execution_count": 65,
     "metadata": {},
     "output_type": "execute_result"
    }
   ],
   "source": [
    "int(-3.14)"
   ]
  },
  {
   "cell_type": "code",
   "execution_count": 66,
   "id": "08c7752e-a9ce-42a3-9150-fbf6691faea1",
   "metadata": {},
   "outputs": [
    {
     "data": {
      "text/plain": [
       "34"
      ]
     },
     "execution_count": 66,
     "metadata": {},
     "output_type": "execute_result"
    }
   ],
   "source": [
    "int(\"34\")"
   ]
  },
  {
   "cell_type": "code",
   "execution_count": 68,
   "id": "441ad8ef-00ec-4640-b8da-9fff7dee690f",
   "metadata": {},
   "outputs": [],
   "source": [
    "del type"
   ]
  },
  {
   "cell_type": "code",
   "execution_count": 69,
   "id": "0062ba02-d387-4e56-ba9d-bc0be1a4ff82",
   "metadata": {},
   "outputs": [
    {
     "data": {
      "text/plain": [
       "int"
      ]
     },
     "execution_count": 69,
     "metadata": {},
     "output_type": "execute_result"
    }
   ],
   "source": [
    "type(int(\"34\"))"
   ]
  },
  {
   "cell_type": "code",
   "execution_count": 71,
   "id": "9ee5d4f0-0562-4c1d-bc5d-e9478154ceea",
   "metadata": {},
   "outputs": [
    {
     "data": {
      "text/plain": [
       "-34"
      ]
     },
     "execution_count": 71,
     "metadata": {},
     "output_type": "execute_result"
    }
   ],
   "source": [
    "int(\"-34\")"
   ]
  },
  {
   "cell_type": "code",
   "execution_count": 72,
   "id": "4cfbd3ee-2d94-4e27-9d54-572e51116b2f",
   "metadata": {},
   "outputs": [
    {
     "data": {
      "text/plain": [
       "34"
      ]
     },
     "execution_count": 72,
     "metadata": {},
     "output_type": "execute_result"
    }
   ],
   "source": [
    "abs(int(\"-34\"))"
   ]
  },
  {
   "cell_type": "code",
   "execution_count": 73,
   "id": "480d5d9e-dea1-4635-a9d0-4782ef7d85bd",
   "metadata": {},
   "outputs": [
    {
     "ename": "ValueError",
     "evalue": "invalid literal for int() with base 10: '3.14'",
     "output_type": "error",
     "traceback": [
      "\u001b[31m---------------------------------------------------------------------------\u001b[39m",
      "\u001b[31mValueError\u001b[39m                                Traceback (most recent call last)",
      "\u001b[36mCell\u001b[39m\u001b[36m \u001b[39m\u001b[32mIn[73]\u001b[39m\u001b[32m, line 1\u001b[39m\n\u001b[32m----> \u001b[39m\u001b[32m1\u001b[39m \u001b[38;5;28;43mint\u001b[39;49m\u001b[43m(\u001b[49m\u001b[33;43m\"\u001b[39;49m\u001b[33;43m3.14\u001b[39;49m\u001b[33;43m\"\u001b[39;49m\u001b[43m)\u001b[49m\n",
      "\u001b[31mValueError\u001b[39m: invalid literal for int() with base 10: '3.14'"
     ]
    }
   ],
   "source": [
    "int(\"3.14\")"
   ]
  },
  {
   "cell_type": "code",
   "execution_count": 74,
   "id": "c0a4041d-220a-460e-9c10-4bab8b401c55",
   "metadata": {},
   "outputs": [
    {
     "data": {
      "text/plain": [
       "3"
      ]
     },
     "execution_count": 74,
     "metadata": {},
     "output_type": "execute_result"
    }
   ],
   "source": [
    "int(3.14)"
   ]
  },
  {
   "cell_type": "code",
   "execution_count": 75,
   "id": "d963112e-fdd8-46ed-aff1-faa592c49f5b",
   "metadata": {},
   "outputs": [
    {
     "ename": "ValueError",
     "evalue": "invalid literal for int() with base 10: '3.14.15'",
     "output_type": "error",
     "traceback": [
      "\u001b[31m---------------------------------------------------------------------------\u001b[39m",
      "\u001b[31mValueError\u001b[39m                                Traceback (most recent call last)",
      "\u001b[36mCell\u001b[39m\u001b[36m \u001b[39m\u001b[32mIn[75]\u001b[39m\u001b[32m, line 1\u001b[39m\n\u001b[32m----> \u001b[39m\u001b[32m1\u001b[39m \u001b[38;5;28;43mint\u001b[39;49m\u001b[43m(\u001b[49m\u001b[33;43m\"\u001b[39;49m\u001b[33;43m3.14.15\u001b[39;49m\u001b[33;43m\"\u001b[39;49m\u001b[43m)\u001b[49m\n",
      "\u001b[31mValueError\u001b[39m: invalid literal for int() with base 10: '3.14.15'"
     ]
    }
   ],
   "source": [
    "int(\"3.14.15\")"
   ]
  },
  {
   "cell_type": "code",
   "execution_count": 76,
   "id": "a56c10f8-e8c7-47ab-aacb-7bb8f6992df4",
   "metadata": {},
   "outputs": [
    {
     "data": {
      "text/plain": [
       "21.0"
      ]
     },
     "execution_count": 76,
     "metadata": {},
     "output_type": "execute_result"
    }
   ],
   "source": [
    "float(21)"
   ]
  },
  {
   "cell_type": "code",
   "execution_count": 77,
   "id": "7a81fe64-d172-4334-9130-3af89973a8db",
   "metadata": {},
   "outputs": [
    {
     "data": {
      "text/plain": [
       "3.14"
      ]
     },
     "execution_count": 77,
     "metadata": {},
     "output_type": "execute_result"
    }
   ],
   "source": [
    "float(\"3.14\")"
   ]
  },
  {
   "cell_type": "code",
   "execution_count": 78,
   "id": "6d81bb2c-ce00-45b5-8a99-d48fc2fcc08a",
   "metadata": {},
   "outputs": [
    {
     "ename": "ValueError",
     "evalue": "could not convert string to float: '3.14.15'",
     "output_type": "error",
     "traceback": [
      "\u001b[31m---------------------------------------------------------------------------\u001b[39m",
      "\u001b[31mValueError\u001b[39m                                Traceback (most recent call last)",
      "\u001b[36mCell\u001b[39m\u001b[36m \u001b[39m\u001b[32mIn[78]\u001b[39m\u001b[32m, line 1\u001b[39m\n\u001b[32m----> \u001b[39m\u001b[32m1\u001b[39m \u001b[38;5;28;43mfloat\u001b[39;49m\u001b[43m(\u001b[49m\u001b[33;43m\"\u001b[39;49m\u001b[33;43m3.14.15\u001b[39;49m\u001b[33;43m\"\u001b[39;49m\u001b[43m)\u001b[49m\n",
      "\u001b[31mValueError\u001b[39m: could not convert string to float: '3.14.15'"
     ]
    }
   ],
   "source": [
    "float(\"3.14.15\")"
   ]
  },
  {
   "cell_type": "code",
   "execution_count": 79,
   "id": "df4d7d30-6645-4588-9f45-efd0531b4622",
   "metadata": {},
   "outputs": [
    {
     "data": {
      "text/plain": [
       "'3.14'"
      ]
     },
     "execution_count": 79,
     "metadata": {},
     "output_type": "execute_result"
    }
   ],
   "source": [
    "str(3.14)"
   ]
  },
  {
   "cell_type": "code",
   "execution_count": 80,
   "id": "df7d648f-29ca-4922-a0b6-b47190f248b8",
   "metadata": {},
   "outputs": [
    {
     "data": {
      "text/plain": [
       "'3'"
      ]
     },
     "execution_count": 80,
     "metadata": {},
     "output_type": "execute_result"
    }
   ],
   "source": [
    "str(3)"
   ]
  },
  {
   "cell_type": "code",
   "execution_count": 81,
   "id": "b2b8d774-0488-4abe-889a-0dd813173a71",
   "metadata": {},
   "outputs": [
    {
     "data": {
      "text/plain": [
       "4"
      ]
     },
     "execution_count": 81,
     "metadata": {},
     "output_type": "execute_result"
    }
   ],
   "source": [
    "round(3.50)"
   ]
  },
  {
   "cell_type": "code",
   "execution_count": 82,
   "id": "880bf380-1f5f-4db4-b5a6-d6bad052a9b8",
   "metadata": {},
   "outputs": [
    {
     "data": {
      "text/plain": [
       "3"
      ]
     },
     "execution_count": 82,
     "metadata": {},
     "output_type": "execute_result"
    }
   ],
   "source": [
    "round(3.48)"
   ]
  },
  {
   "cell_type": "code",
   "execution_count": 83,
   "id": "032cd6ab-7248-4e07-801d-f5ddc2f61ae3",
   "metadata": {},
   "outputs": [
    {
     "data": {
      "text/plain": [
       "3.49"
      ]
     },
     "execution_count": 83,
     "metadata": {},
     "output_type": "execute_result"
    }
   ],
   "source": [
    "round(3.489032972389472934, 2)"
   ]
  },
  {
   "cell_type": "code",
   "execution_count": 84,
   "id": "5ab81064-1bd5-4972-88af-7ec07658c7bf",
   "metadata": {},
   "outputs": [
    {
     "data": {
      "text/plain": [
       "3.489"
      ]
     },
     "execution_count": 84,
     "metadata": {},
     "output_type": "execute_result"
    }
   ],
   "source": [
    "round(3.489032972389472934, 3)"
   ]
  },
  {
   "cell_type": "code",
   "execution_count": 85,
   "id": "25d411a1-c157-4078-b5cc-0fd5f14594c2",
   "metadata": {},
   "outputs": [
    {
     "data": {
      "text/plain": [
       "4"
      ]
     },
     "execution_count": 85,
     "metadata": {},
     "output_type": "execute_result"
    }
   ],
   "source": [
    "round(3.5)"
   ]
  },
  {
   "cell_type": "code",
   "execution_count": 86,
   "id": "6902a782-e484-4f76-897a-9a680f620dde",
   "metadata": {},
   "outputs": [
    {
     "data": {
      "text/plain": [
       "4"
      ]
     },
     "execution_count": 86,
     "metadata": {},
     "output_type": "execute_result"
    }
   ],
   "source": [
    "round(4.5)"
   ]
  }
 ],
 "metadata": {
  "kernelspec": {
   "display_name": "Python 3 (ipykernel)",
   "language": "python",
   "name": "python3"
  },
  "language_info": {
   "codemirror_mode": {
    "name": "ipython",
    "version": 3
   },
   "file_extension": ".py",
   "mimetype": "text/x-python",
   "name": "python",
   "nbconvert_exporter": "python",
   "pygments_lexer": "ipython3",
   "version": "3.12.3"
  }
 },
 "nbformat": 4,
 "nbformat_minor": 5
}
