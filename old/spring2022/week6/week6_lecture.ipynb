{
 "cells": [
  {
   "cell_type": "code",
   "execution_count": 7,
   "id": "acab7d4d",
   "metadata": {},
   "outputs": [],
   "source": [
    "from collections import defaultdict\n",
    "x = defaultdict(int)\n",
    "x[3]+= 1"
   ]
  },
  {
   "cell_type": "code",
   "execution_count": 1,
   "id": "33c31b37",
   "metadata": {},
   "outputs": [],
   "source": [
    "x = {}\n",
    "\n",
    "if 3 not in x:\n",
    "    x[3] = 0\n",
    "    \n",
    "x[3]+= 1\n"
   ]
  },
  {
   "cell_type": "code",
   "execution_count": 2,
   "id": "aed921c7",
   "metadata": {},
   "outputs": [
    {
     "data": {
      "text/plain": [
       "{3: 1}"
      ]
     },
     "execution_count": 2,
     "metadata": {},
     "output_type": "execute_result"
    }
   ],
   "source": [
    "x"
   ]
  },
  {
   "cell_type": "code",
   "execution_count": 4,
   "id": "8003de67",
   "metadata": {},
   "outputs": [],
   "source": [
    "x[3]+= 1"
   ]
  },
  {
   "cell_type": "code",
   "execution_count": 5,
   "id": "efbec087",
   "metadata": {},
   "outputs": [
    {
     "data": {
      "text/plain": [
       "{3: 3}"
      ]
     },
     "execution_count": 5,
     "metadata": {},
     "output_type": "execute_result"
    }
   ],
   "source": [
    "x"
   ]
  },
  {
   "cell_type": "code",
   "execution_count": 8,
   "id": "3b1dff8f",
   "metadata": {},
   "outputs": [],
   "source": [
    "z = defaultdict(int)\n",
    "z[99] += 5"
   ]
  },
  {
   "cell_type": "code",
   "execution_count": 9,
   "id": "0b815faa",
   "metadata": {},
   "outputs": [
    {
     "data": {
      "text/plain": [
       "defaultdict(int, {99: 5})"
      ]
     },
     "execution_count": 9,
     "metadata": {},
     "output_type": "execute_result"
    }
   ],
   "source": [
    "z"
   ]
  },
  {
   "cell_type": "code",
   "execution_count": 10,
   "id": "2d2a9777",
   "metadata": {},
   "outputs": [],
   "source": [
    "z['abc'] =3"
   ]
  },
  {
   "cell_type": "code",
   "execution_count": 11,
   "id": "38dfdde9",
   "metadata": {},
   "outputs": [
    {
     "data": {
      "text/plain": [
       "defaultdict(int, {99: 5, 'abc': 3})"
      ]
     },
     "execution_count": 11,
     "metadata": {},
     "output_type": "execute_result"
    }
   ],
   "source": [
    "z"
   ]
  },
  {
   "cell_type": "code",
   "execution_count": null,
   "id": "6bbfc14f",
   "metadata": {},
   "outputs": [],
   "source": [
    "z[90] = 8"
   ]
  },
  {
   "cell_type": "code",
   "execution_count": 12,
   "id": "598dd767",
   "metadata": {},
   "outputs": [],
   "source": [
    "from collections import defaultdict\n",
    "x = defaultdict(list)\n",
    "x['grades'].append(86)"
   ]
  },
  {
   "cell_type": "code",
   "execution_count": 20,
   "id": "9f4526f3",
   "metadata": {},
   "outputs": [
    {
     "name": "stdout",
     "output_type": "stream",
     "text": [
      "74\n",
      "5\n",
      "55\n",
      "62\n",
      "74\n",
      "2\n",
      "27\n",
      "60\n",
      "63\n",
      "36\n"
     ]
    }
   ],
   "source": [
    "import random\n",
    "random.seed(10)\n",
    "for _ in range(10):\n",
    "    print(random.randint(1, 100))"
   ]
  },
  {
   "cell_type": "code",
   "execution_count": 17,
   "id": "ffb92362",
   "metadata": {},
   "outputs": [
    {
     "data": {
      "text/plain": [
       "5"
      ]
     },
     "execution_count": 17,
     "metadata": {},
     "output_type": "execute_result"
    }
   ],
   "source": [
    "random.randint(1, 100)"
   ]
  },
  {
   "cell_type": "code",
   "execution_count": 21,
   "id": "66a651d2",
   "metadata": {},
   "outputs": [],
   "source": [
    "x = {'a': 1, 'b': 1}"
   ]
  },
  {
   "cell_type": "code",
   "execution_count": 22,
   "id": "4510c65d",
   "metadata": {},
   "outputs": [
    {
     "data": {
      "text/plain": [
       "{'a': 1, 'b': 1}"
      ]
     },
     "execution_count": 22,
     "metadata": {},
     "output_type": "execute_result"
    }
   ],
   "source": [
    "x"
   ]
  },
  {
   "cell_type": "code",
   "execution_count": 24,
   "id": "08df739e",
   "metadata": {},
   "outputs": [
    {
     "data": {
      "text/plain": [
       "{1, 3}"
      ]
     },
     "execution_count": 24,
     "metadata": {},
     "output_type": "execute_result"
    }
   ],
   "source": [
    "x = {1, 2, 3, 4}\n",
    "y = {2,4,6,10}\n",
    "\n",
    "x - y"
   ]
  },
  {
   "cell_type": "code",
   "execution_count": 25,
   "id": "2d7dd029",
   "metadata": {},
   "outputs": [
    {
     "data": {
      "text/plain": [
       "{6, 10}"
      ]
     },
     "execution_count": 25,
     "metadata": {},
     "output_type": "execute_result"
    }
   ],
   "source": [
    "y - x"
   ]
  },
  {
   "cell_type": "code",
   "execution_count": 26,
   "id": "2244fde9",
   "metadata": {},
   "outputs": [
    {
     "ename": "TypeError",
     "evalue": "unsupported operand type(s) for +: 'set' and 'set'",
     "output_type": "error",
     "traceback": [
      "\u001b[1;31m---------------------------------------------------------------------------\u001b[0m",
      "\u001b[1;31mTypeError\u001b[0m                                 Traceback (most recent call last)",
      "\u001b[1;32m~\\AppData\\Local\\Temp/ipykernel_12804/978381659.py\u001b[0m in \u001b[0;36m<module>\u001b[1;34m\u001b[0m\n\u001b[1;32m----> 1\u001b[1;33m \u001b[0mx\u001b[0m \u001b[1;33m+\u001b[0m \u001b[0my\u001b[0m\u001b[1;33m\u001b[0m\u001b[1;33m\u001b[0m\u001b[0m\n\u001b[0m",
      "\u001b[1;31mTypeError\u001b[0m: unsupported operand type(s) for +: 'set' and 'set'"
     ]
    }
   ],
   "source": [
    "x + y"
   ]
  },
  {
   "cell_type": "code",
   "execution_count": 28,
   "id": "200acb36",
   "metadata": {},
   "outputs": [
    {
     "data": {
      "text/plain": [
       "{2, 4}"
      ]
     },
     "execution_count": 28,
     "metadata": {},
     "output_type": "execute_result"
    }
   ],
   "source": [
    "x & y"
   ]
  },
  {
   "cell_type": "code",
   "execution_count": 35,
   "id": "9feb6f63",
   "metadata": {},
   "outputs": [
    {
     "name": "stdout",
     "output_type": "stream",
     "text": [
      "4\n"
     ]
    }
   ],
   "source": [
    "# Write a function that squares a number and returns the value.\n",
    "# Write it again again using Lambda functions\n",
    "\n",
    "\n",
    "def x2(value):       \n",
    "    return value * value\n",
    "\n",
    "\n",
    "print(x2(2))"
   ]
  },
  {
   "cell_type": "code",
   "execution_count": 33,
   "id": "fa8b8558",
   "metadata": {},
   "outputs": [
    {
     "data": {
      "text/plain": [
       "4"
      ]
     },
     "execution_count": 33,
     "metadata": {},
     "output_type": "execute_result"
    }
   ],
   "source": [
    "l_func = lambda value: value * value\n",
    "\n",
    "l_func(2)"
   ]
  },
  {
   "cell_type": "code",
   "execution_count": 37,
   "id": "515ca483",
   "metadata": {},
   "outputs": [
    {
     "name": "stdout",
     "output_type": "stream",
     "text": [
      "13\n"
     ]
    }
   ],
   "source": [
    "l_add = lambda a, b: a + b\n",
    "print(l_add(3,10))"
   ]
  },
  {
   "cell_type": "code",
   "execution_count": 38,
   "id": "19f365df",
   "metadata": {},
   "outputs": [],
   "source": [
    "def add(a, b):\n",
    "    return a + b"
   ]
  },
  {
   "cell_type": "code",
   "execution_count": 41,
   "id": "8a3f044d",
   "metadata": {},
   "outputs": [
    {
     "name": "stdout",
     "output_type": "stream",
     "text": [
      "12\n",
      "12\n"
     ]
    }
   ],
   "source": [
    "func = lambda a, b: a * b\n",
    "\n",
    "def func2(a, b):\n",
    "    return a * b \n",
    "\n",
    "def lambda_test(function, number1, number2):\n",
    "    return function(number1, number2)\n",
    "\n",
    "print(lambda_test(func, 3, 4))\n",
    "print(lambda_test(func2, 3, 4))"
   ]
  },
  {
   "cell_type": "code",
   "execution_count": 40,
   "id": "b9536ae3",
   "metadata": {},
   "outputs": [
    {
     "name": "stdout",
     "output_type": "stream",
     "text": [
      "[4, 9, 16]\n"
     ]
    }
   ],
   "source": [
    "my_list = [2, 3, 4]\n",
    "\n",
    "# double this list\n",
    "# method 1 - define a square function\n",
    "\n",
    "def square_list(my_list):\n",
    "    new_list = []\n",
    "    for ele in my_list:\n",
    "        new_list.append(ele * ele)\n",
    "\n",
    "    return new_list\n",
    "\n",
    "print(square_list(my_list))"
   ]
  },
  {
   "cell_type": "code",
   "execution_count": 42,
   "id": "e371c551",
   "metadata": {},
   "outputs": [
    {
     "name": "stdout",
     "output_type": "stream",
     "text": [
      "[4, 9, 16]\n"
     ]
    }
   ],
   "source": [
    "# method 2 - list comprehension\n",
    "print([ele*ele for ele in my_list])\n",
    "\n"
   ]
  },
  {
   "cell_type": "code",
   "execution_count": 48,
   "id": "65297b59",
   "metadata": {},
   "outputs": [],
   "source": [
    "# method 3 - use lambda with map\n",
    "# map(lambda variables (comma separated): expression, sequence)\n",
    "\n",
    "result = map(lambda ele: ele*ele, my_list)"
   ]
  },
  {
   "cell_type": "code",
   "execution_count": 49,
   "id": "025e2dfe",
   "metadata": {},
   "outputs": [
    {
     "name": "stdout",
     "output_type": "stream",
     "text": [
      "<map object at 0x000001872158FDF0>\n"
     ]
    }
   ],
   "source": [
    "print(result)"
   ]
  },
  {
   "cell_type": "code",
   "execution_count": 45,
   "id": "88b2813d",
   "metadata": {},
   "outputs": [
    {
     "name": "stdout",
     "output_type": "stream",
     "text": [
      "Help on class map in module builtins:\n",
      "\n",
      "class map(object)\n",
      " |  map(func, *iterables) --> map object\n",
      " |  \n",
      " |  Make an iterator that computes the function using arguments from\n",
      " |  each of the iterables.  Stops when the shortest iterable is exhausted.\n",
      " |  \n",
      " |  Methods defined here:\n",
      " |  \n",
      " |  __getattribute__(self, name, /)\n",
      " |      Return getattr(self, name).\n",
      " |  \n",
      " |  __iter__(self, /)\n",
      " |      Implement iter(self).\n",
      " |  \n",
      " |  __next__(self, /)\n",
      " |      Implement next(self).\n",
      " |  \n",
      " |  __reduce__(...)\n",
      " |      Return state information for pickling.\n",
      " |  \n",
      " |  ----------------------------------------------------------------------\n",
      " |  Static methods defined here:\n",
      " |  \n",
      " |  __new__(*args, **kwargs) from builtins.type\n",
      " |      Create and return a new object.  See help(type) for accurate signature.\n",
      "\n"
     ]
    }
   ],
   "source": [
    "help(map)"
   ]
  },
  {
   "cell_type": "code",
   "execution_count": 51,
   "id": "fe7985d0",
   "metadata": {},
   "outputs": [],
   "source": [
    "for ele in result:\n",
    "    print(ele)"
   ]
  },
  {
   "cell_type": "code",
   "execution_count": 52,
   "id": "75228d53",
   "metadata": {},
   "outputs": [
    {
     "name": "stdout",
     "output_type": "stream",
     "text": [
      "['JOHN', 'JANE', 'DOE']\n"
     ]
    }
   ],
   "source": [
    "students = ['john', 'jane', 'doe']\n",
    "# make upper case\n",
    "\n",
    "\n",
    "# method 1 create new list and loop\n",
    "new_list = []\n",
    "for student in students:\n",
    "    new_list.append(student.upper())\n",
    "\n",
    "print(new_list)"
   ]
  },
  {
   "cell_type": "code",
   "execution_count": 53,
   "id": "a3b24081",
   "metadata": {},
   "outputs": [
    {
     "name": "stdout",
     "output_type": "stream",
     "text": [
      "['John', 'Jane', 'Doe']\n"
     ]
    }
   ],
   "source": [
    "print([student[0].upper()+student[1:] for student in students])"
   ]
  },
  {
   "cell_type": "code",
   "execution_count": 54,
   "id": "e65465b0",
   "metadata": {},
   "outputs": [
    {
     "name": "stdout",
     "output_type": "stream",
     "text": [
      "['John', 'Jane', 'Doe']\n"
     ]
    }
   ],
   "source": [
    "print([student.title() for student in students])"
   ]
  },
  {
   "cell_type": "code",
   "execution_count": 55,
   "id": "001b5031",
   "metadata": {},
   "outputs": [
    {
     "name": "stdout",
     "output_type": "stream",
     "text": [
      "['JOHN', 'JANE', 'DOE']\n"
     ]
    }
   ],
   "source": [
    "print([student.upper() for student in students])"
   ]
  },
  {
   "cell_type": "code",
   "execution_count": 57,
   "id": "067c794f",
   "metadata": {},
   "outputs": [
    {
     "data": {
      "text/plain": [
       "['John', 'Jane', 'Doe']"
      ]
     },
     "execution_count": 57,
     "metadata": {},
     "output_type": "execute_result"
    }
   ],
   "source": [
    "list(map(lambda student: student.title(), students))"
   ]
  },
  {
   "cell_type": "code",
   "execution_count": 58,
   "id": "a318c69e",
   "metadata": {},
   "outputs": [
    {
     "data": {
      "text/plain": [
       "[34.4, 45.3, 73.4]"
      ]
     },
     "execution_count": 58,
     "metadata": {},
     "output_type": "execute_result"
    }
   ],
   "source": [
    "my_dict = [{'value': '34.4'}, {'value': '45.3'}, {'value': '73.4'}]\n",
    "\n",
    "list(map(lambda ele: float(ele['value']), my_dict))"
   ]
  },
  {
   "cell_type": "code",
   "execution_count": 59,
   "id": "fe0a426e",
   "metadata": {},
   "outputs": [
    {
     "data": {
      "text/plain": [
       "[{'value': 34.4}, {'value': 45.3}, {'value': 73.4}]"
      ]
     },
     "execution_count": 59,
     "metadata": {},
     "output_type": "execute_result"
    }
   ],
   "source": [
    "list(map(lambda ele: {'value': float(ele['value'])}, my_dict))"
   ]
  },
  {
   "cell_type": "code",
   "execution_count": 60,
   "id": "7383183f",
   "metadata": {},
   "outputs": [],
   "source": [
    "years = range(1970, 2000) # for these years\n",
    "\n",
    "def is_leap_year(year):\n",
    "    # does not work for century year\n",
    "    if year % 4 == 0:\n",
    "        return True\n",
    "    else:\n",
    "        return False\n",
    "\n",
    "my_dict = {}\n",
    "leap_years = []\n",
    "for year in years:\n",
    "#     my_dict.update({year: is_leap_year(year)})\n",
    "    my_dict[year] = is_leap_year(year)\n",
    "    if is_leap_year(year):\n",
    "        leap_years.append(year)"
   ]
  },
  {
   "cell_type": "code",
   "execution_count": 61,
   "id": "57388e52",
   "metadata": {},
   "outputs": [
    {
     "name": "stdout",
     "output_type": "stream",
     "text": [
      "[1972, 1976, 1980, 1984, 1988, 1992, 1996]\n"
     ]
    }
   ],
   "source": [
    "print(leap_years)"
   ]
  },
  {
   "cell_type": "code",
   "execution_count": 62,
   "id": "c6d2caee",
   "metadata": {},
   "outputs": [
    {
     "name": "stdout",
     "output_type": "stream",
     "text": [
      "{1970: False, 1971: False, 1972: True, 1973: False, 1974: False, 1975: False, 1976: True, 1977: False, 1978: False, 1979: False, 1980: True, 1981: False, 1982: False, 1983: False, 1984: True, 1985: False, 1986: False, 1987: False, 1988: True, 1989: False, 1990: False, 1991: False, 1992: True, 1993: False, 1994: False, 1995: False, 1996: True, 1997: False, 1998: False, 1999: False}\n"
     ]
    }
   ],
   "source": [
    "print(my_dict)"
   ]
  },
  {
   "cell_type": "code",
   "execution_count": 64,
   "id": "e403f9a2",
   "metadata": {},
   "outputs": [
    {
     "data": {
      "text/plain": [
       "[{1970: False},\n",
       " {1971: False},\n",
       " {1972: True},\n",
       " {1973: False},\n",
       " {1974: False},\n",
       " {1975: False},\n",
       " {1976: True},\n",
       " {1977: False},\n",
       " {1978: False},\n",
       " {1979: False},\n",
       " {1980: True},\n",
       " {1981: False},\n",
       " {1982: False},\n",
       " {1983: False},\n",
       " {1984: True},\n",
       " {1985: False},\n",
       " {1986: False},\n",
       " {1987: False},\n",
       " {1988: True},\n",
       " {1989: False},\n",
       " {1990: False},\n",
       " {1991: False},\n",
       " {1992: True},\n",
       " {1993: False},\n",
       " {1994: False},\n",
       " {1995: False},\n",
       " {1996: True},\n",
       " {1997: False},\n",
       " {1998: False},\n",
       " {1999: False}]"
      ]
     },
     "execution_count": 64,
     "metadata": {},
     "output_type": "execute_result"
    }
   ],
   "source": [
    "list(map(lambda year: {year: year % 4 == 0}, years))"
   ]
  },
  {
   "cell_type": "code",
   "execution_count": 66,
   "id": "41b6ceb8",
   "metadata": {},
   "outputs": [
    {
     "data": {
      "text/plain": [
       "[1972, 1976, 1980, 1984, 1988, 1992, 1996]"
      ]
     },
     "execution_count": 66,
     "metadata": {},
     "output_type": "execute_result"
    }
   ],
   "source": [
    "list(filter(lambda year: year % 4 == 0, years))"
   ]
  },
  {
   "cell_type": "code",
   "execution_count": 68,
   "id": "32bb34f7",
   "metadata": {},
   "outputs": [
    {
     "data": {
      "text/plain": [
       "[1972, 1976, 1980, 1984, 1988, 1992, 1996]"
      ]
     },
     "execution_count": 68,
     "metadata": {},
     "output_type": "execute_result"
    }
   ],
   "source": [
    "leap_year_lambda = lambda year: year % 4 == 0 \n",
    "list(filter(leap_year_lambda, range(1970, 2000)))"
   ]
  },
  {
   "cell_type": "code",
   "execution_count": 69,
   "id": "ee3db4ac",
   "metadata": {},
   "outputs": [
    {
     "data": {
      "text/plain": [
       "[1972, 1976, 1980, 1984, 1988, 1992, 1996]"
      ]
     },
     "execution_count": 69,
     "metadata": {},
     "output_type": "execute_result"
    }
   ],
   "source": [
    "list(filter(is_leap_year, range(1970, 2000)))"
   ]
  },
  {
   "cell_type": "code",
   "execution_count": 70,
   "id": "9cb8cf1b",
   "metadata": {},
   "outputs": [
    {
     "data": {
      "text/plain": [
       "[1972, 1976, 1980, 1984, 1988, 1992, 1996]"
      ]
     },
     "execution_count": 70,
     "metadata": {},
     "output_type": "execute_result"
    }
   ],
   "source": [
    "list(filter(lambda year: is_leap_year(year), range(1970, 2000)))"
   ]
  },
  {
   "cell_type": "code",
   "execution_count": 72,
   "id": "d897c174",
   "metadata": {},
   "outputs": [
    {
     "data": {
      "text/plain": [
       "[394.4, 395.2, 396.0, 396.8, 397.6, 398.4, 399.2]"
      ]
     },
     "execution_count": 72,
     "metadata": {},
     "output_type": "execute_result"
    }
   ],
   "source": [
    "list(map(lambda year: year/5, filter(lambda year: year % 4 == 0, range(1970, 2000))))"
   ]
  },
  {
   "cell_type": "code",
   "execution_count": 73,
   "id": "551e73aa",
   "metadata": {},
   "outputs": [
    {
     "data": {
      "text/plain": [
       "['1972 is a leap year!',\n",
       " '1976 is a leap year!',\n",
       " '1980 is a leap year!',\n",
       " '1984 is a leap year!',\n",
       " '1988 is a leap year!',\n",
       " '1992 is a leap year!',\n",
       " '1996 is a leap year!']"
      ]
     },
     "execution_count": 73,
     "metadata": {},
     "output_type": "execute_result"
    }
   ],
   "source": [
    "list(map(lambda year: f'{year} is a leap year!', filter(lambda year: year % 4 == 0, range(1970, 2000))))"
   ]
  },
  {
   "cell_type": "code",
   "execution_count": 74,
   "id": "00cff48c",
   "metadata": {},
   "outputs": [],
   "source": [
    "x = (('efg', 1), ('abc', 3), ('hij', 2))"
   ]
  },
  {
   "cell_type": "code",
   "execution_count": 75,
   "id": "046ef6dc",
   "metadata": {},
   "outputs": [],
   "source": [
    "y = [1, 34, 29, 2]\n",
    "y.sort()"
   ]
  },
  {
   "cell_type": "code",
   "execution_count": 76,
   "id": "43ee01e2",
   "metadata": {},
   "outputs": [
    {
     "data": {
      "text/plain": [
       "[1, 2, 29, 34]"
      ]
     },
     "execution_count": 76,
     "metadata": {},
     "output_type": "execute_result"
    }
   ],
   "source": [
    "y"
   ]
  },
  {
   "cell_type": "code",
   "execution_count": 77,
   "id": "61a2e4f9",
   "metadata": {},
   "outputs": [
    {
     "data": {
      "text/plain": [
       "[1, 2, 29, 34]"
      ]
     },
     "execution_count": 77,
     "metadata": {},
     "output_type": "execute_result"
    }
   ],
   "source": [
    "y = [1, 34, 29, 2]\n",
    "sorted(y)"
   ]
  },
  {
   "cell_type": "code",
   "execution_count": 78,
   "id": "f5a4a349",
   "metadata": {
    "scrolled": true
   },
   "outputs": [
    {
     "data": {
      "text/plain": [
       "['A', 'B', 'a', 'b']"
      ]
     },
     "execution_count": 78,
     "metadata": {},
     "output_type": "execute_result"
    }
   ],
   "source": [
    "z = ['a', 'A', 'B', 'b']\n",
    "sorted(z)"
   ]
  },
  {
   "cell_type": "code",
   "execution_count": 79,
   "id": "0b647b75",
   "metadata": {},
   "outputs": [],
   "source": [
    "x = (\n",
    "    ('efg', 1), \n",
    "    ('abc', 3), \n",
    "    ('hij', 2)\n",
    ")"
   ]
  },
  {
   "cell_type": "code",
   "execution_count": 80,
   "id": "885a8f7b",
   "metadata": {},
   "outputs": [
    {
     "data": {
      "text/plain": [
       "[('abc', 3), ('efg', 1), ('hij', 2)]"
      ]
     },
     "execution_count": 80,
     "metadata": {},
     "output_type": "execute_result"
    }
   ],
   "source": [
    "sorted(x)"
   ]
  },
  {
   "cell_type": "code",
   "execution_count": 81,
   "id": "d2a8124a",
   "metadata": {},
   "outputs": [
    {
     "data": {
      "text/plain": [
       "[('efg', 1), ('hij', 2), ('abc', 3)]"
      ]
     },
     "execution_count": 81,
     "metadata": {},
     "output_type": "execute_result"
    }
   ],
   "source": [
    "sorted(x, key=lambda ele: ele[1])"
   ]
  },
  {
   "cell_type": "code",
   "execution_count": 82,
   "id": "4873fd6b",
   "metadata": {},
   "outputs": [
    {
     "data": {
      "text/plain": [
       "[(2014023, 75, 70, 42, 74, 63),\n",
       " (2014155, 67, 87, 54, 87, 86),\n",
       " (2014255, 55, 78, 63, 50, 80),\n",
       " (2014301, 83, 45, 88, 52, 47)]"
      ]
     },
     "execution_count": 82,
     "metadata": {},
     "output_type": "execute_result"
    }
   ],
   "source": [
    "data = (\n",
    "    (2014255, 55, 78, 63, 50, 80),\n",
    "    (2014301, 83, 45, 88, 52, 47),\n",
    "    (2014023, 75, 70, 42, 74, 63),\n",
    "    (2014155, 67, 87, 54, 87, 86),\n",
    ")\n",
    "\n",
    "sorted(data, key=lambda ele: ele[3])"
   ]
  },
  {
   "cell_type": "code",
   "execution_count": 83,
   "id": "a8821e0b",
   "metadata": {},
   "outputs": [
    {
     "ename": "TypeError",
     "evalue": "'<' not supported between instances of 'dict' and 'dict'",
     "output_type": "error",
     "traceback": [
      "\u001b[1;31m---------------------------------------------------------------------------\u001b[0m",
      "\u001b[1;31mTypeError\u001b[0m                                 Traceback (most recent call last)",
      "\u001b[1;32m~\\AppData\\Local\\Temp/ipykernel_12804/4062250575.py\u001b[0m in \u001b[0;36m<module>\u001b[1;34m\u001b[0m\n\u001b[0;32m      5\u001b[0m     \u001b[1;33m{\u001b[0m\u001b[1;34m'grade'\u001b[0m\u001b[1;33m:\u001b[0m \u001b[1;36m89\u001b[0m\u001b[1;33m,\u001b[0m \u001b[1;34m'username'\u001b[0m\u001b[1;33m:\u001b[0m \u001b[1;34m'Kelly'\u001b[0m\u001b[1;33m}\u001b[0m\u001b[1;33m\u001b[0m\u001b[1;33m\u001b[0m\u001b[0m\n\u001b[0;32m      6\u001b[0m ]\n\u001b[1;32m----> 7\u001b[1;33m \u001b[0msorted\u001b[0m\u001b[1;33m(\u001b[0m\u001b[0mstudents\u001b[0m\u001b[1;33m)\u001b[0m\u001b[1;33m\u001b[0m\u001b[1;33m\u001b[0m\u001b[0m\n\u001b[0m",
      "\u001b[1;31mTypeError\u001b[0m: '<' not supported between instances of 'dict' and 'dict'"
     ]
    }
   ],
   "source": [
    "students = [\n",
    "    {'username': 'john', 'grade': 50},\n",
    "    {'username': 'jane', 'grade': 80},\n",
    "    {'username': 'doe', 'grade': 35},\n",
    "    {'grade': 89, 'username': 'Kelly'}\n",
    "]\n",
    "sorted(students)"
   ]
  },
  {
   "cell_type": "code",
   "execution_count": 84,
   "id": "0f1a1c00",
   "metadata": {},
   "outputs": [
    {
     "data": {
      "text/plain": [
       "[{'grade': 89, 'username': 'Kelly'},\n",
       " {'username': 'doe', 'grade': 35},\n",
       " {'username': 'jane', 'grade': 80},\n",
       " {'username': 'john', 'grade': 50}]"
      ]
     },
     "execution_count": 84,
     "metadata": {},
     "output_type": "execute_result"
    }
   ],
   "source": [
    "sorted(students, key=lambda ele: ele.get('username'))"
   ]
  },
  {
   "cell_type": "code",
   "execution_count": 85,
   "id": "d0513162",
   "metadata": {},
   "outputs": [
    {
     "data": {
      "text/plain": [
       "[{'username': 'doe', 'grade': 35},\n",
       " {'username': 'john', 'grade': 50},\n",
       " {'username': 'jane', 'grade': 80},\n",
       " {'grade': 89, 'username': 'Kelly'}]"
      ]
     },
     "execution_count": 85,
     "metadata": {},
     "output_type": "execute_result"
    }
   ],
   "source": [
    "sorted(students, key=lambda ele: ele.get('grade'))"
   ]
  },
  {
   "cell_type": "code",
   "execution_count": 86,
   "id": "91077edd",
   "metadata": {},
   "outputs": [
    {
     "data": {
      "text/plain": [
       "[{'username': 'doe', 'grade': '35'},\n",
       " {'username': 'john', 'grade': '50'},\n",
       " {'username': 'jane', 'grade': '80'},\n",
       " {'grade': '89', 'username': 'Kelly'}]"
      ]
     },
     "execution_count": 86,
     "metadata": {},
     "output_type": "execute_result"
    }
   ],
   "source": [
    "students = [\n",
    "    {'username': 'john', 'grade': '50'},\n",
    "    {'username': 'jane', 'grade': '80'},\n",
    "    {'username': 'doe', 'grade': '35'},\n",
    "    {'grade': '89', 'username': 'Kelly'}\n",
    "]\n",
    "sorted(students, key=lambda ele: int(ele.get('grade')))"
   ]
  },
  {
   "cell_type": "code",
   "execution_count": 87,
   "id": "9dc82773",
   "metadata": {},
   "outputs": [
    {
     "data": {
      "text/plain": [
       "[{'grade': '89', 'username': 'Kelly'},\n",
       " {'username': 'jane', 'grade': '80'},\n",
       " {'username': 'john', 'grade': '50'},\n",
       " {'username': 'doe', 'grade': '35'}]"
      ]
     },
     "execution_count": 87,
     "metadata": {},
     "output_type": "execute_result"
    }
   ],
   "source": [
    "sorted(students, key=lambda student: student['grade'], reverse=True)"
   ]
  },
  {
   "cell_type": "code",
   "execution_count": 88,
   "id": "9051b8de",
   "metadata": {},
   "outputs": [],
   "source": [
    "students = ['john', 'Janette', 'doe']"
   ]
  },
  {
   "cell_type": "code",
   "execution_count": 89,
   "id": "9d637317",
   "metadata": {},
   "outputs": [
    {
     "data": {
      "text/plain": [
       "'Janette'"
      ]
     },
     "execution_count": 89,
     "metadata": {},
     "output_type": "execute_result"
    }
   ],
   "source": [
    "min(students)"
   ]
  },
  {
   "cell_type": "code",
   "execution_count": 90,
   "id": "300f472f",
   "metadata": {},
   "outputs": [
    {
     "data": {
      "text/plain": [
       "'doe'"
      ]
     },
     "execution_count": 90,
     "metadata": {},
     "output_type": "execute_result"
    }
   ],
   "source": [
    "min(students, key=lambda ele: len(ele))"
   ]
  },
  {
   "cell_type": "code",
   "execution_count": 91,
   "id": "0989430e",
   "metadata": {},
   "outputs": [
    {
     "data": {
      "text/plain": [
       "'Janette'"
      ]
     },
     "execution_count": 91,
     "metadata": {},
     "output_type": "execute_result"
    }
   ],
   "source": [
    "max(students, key=lambda ele: len(ele))"
   ]
  },
  {
   "cell_type": "code",
   "execution_count": 95,
   "id": "e95ec55b",
   "metadata": {},
   "outputs": [
    {
     "data": {
      "text/plain": [
       "[{'value': '34.4'}, {'value': '45.3'}, {'value': '73.4'}]"
      ]
     },
     "execution_count": 95,
     "metadata": {},
     "output_type": "execute_result"
    }
   ],
   "source": [
    "my_list = [{'value': '34.4'}, {'value': '45.3'}, {'value': '73.4'}]\n",
    "\n",
    "sorted(my_list, key=lambda ele: float(ele.get('value')))"
   ]
  },
  {
   "cell_type": "code",
   "execution_count": 94,
   "id": "a3ff6027",
   "metadata": {},
   "outputs": [
    {
     "data": {
      "text/plain": [
       "['19800115', '19991212', '19991213', '20220309']"
      ]
     },
     "execution_count": 94,
     "metadata": {},
     "output_type": "execute_result"
    }
   ],
   "source": [
    "sorted(['19991213', '19991212', '19800115', '20220309'])"
   ]
  },
  {
   "cell_type": "code",
   "execution_count": 96,
   "id": "2f5480b7",
   "metadata": {},
   "outputs": [
    {
     "ename": "SyntaxError",
     "evalue": "invalid syntax (Temp/ipykernel_12804/1277840458.py, line 1)",
     "output_type": "error",
     "traceback": [
      "\u001b[1;36m  File \u001b[1;32m\"C:\\Users\\mkhaw\\AppData\\Local\\Temp/ipykernel_12804/1277840458.py\"\u001b[1;36m, line \u001b[1;32m1\u001b[0m\n\u001b[1;33m    def func(()):\u001b[0m\n\u001b[1;37m             ^\u001b[0m\n\u001b[1;31mSyntaxError\u001b[0m\u001b[1;31m:\u001b[0m invalid syntax\n"
     ]
    }
   ],
   "source": [
    "def func(()):\n",
    "   pass"
   ]
  },
  {
   "cell_type": "code",
   "execution_count": 97,
   "id": "61a3e2f4",
   "metadata": {},
   "outputs": [
    {
     "ename": "SyntaxError",
     "evalue": "invalid syntax (Temp/ipykernel_12804/2246135109.py, line 1)",
     "output_type": "error",
     "traceback": [
      "\u001b[1;36m  File \u001b[1;32m\"C:\\Users\\mkhaw\\AppData\\Local\\Temp/ipykernel_12804/2246135109.py\"\u001b[1;36m, line \u001b[1;32m1\u001b[0m\n\u001b[1;33m    for index in some_list\u001b[0m\n\u001b[1;37m                          ^\u001b[0m\n\u001b[1;31mSyntaxError\u001b[0m\u001b[1;31m:\u001b[0m invalid syntax\n"
     ]
    }
   ],
   "source": [
    "for index in some_list\n",
    "    print(index)"
   ]
  },
  {
   "cell_type": "code",
   "execution_count": 98,
   "id": "edaf0f33",
   "metadata": {},
   "outputs": [],
   "source": [
    "def func():\n",
    "   print(variable)"
   ]
  },
  {
   "cell_type": "code",
   "execution_count": 99,
   "id": "ff7555a7",
   "metadata": {},
   "outputs": [
    {
     "ename": "NameError",
     "evalue": "name 'variable' is not defined",
     "output_type": "error",
     "traceback": [
      "\u001b[1;31m---------------------------------------------------------------------------\u001b[0m",
      "\u001b[1;31mNameError\u001b[0m                                 Traceback (most recent call last)",
      "\u001b[1;32m~\\AppData\\Local\\Temp/ipykernel_12804/2078144611.py\u001b[0m in \u001b[0;36m<module>\u001b[1;34m\u001b[0m\n\u001b[1;32m----> 1\u001b[1;33m \u001b[0mfunc\u001b[0m\u001b[1;33m(\u001b[0m\u001b[1;33m)\u001b[0m\u001b[1;33m\u001b[0m\u001b[1;33m\u001b[0m\u001b[0m\n\u001b[0m",
      "\u001b[1;32m~\\AppData\\Local\\Temp/ipykernel_12804/1583267659.py\u001b[0m in \u001b[0;36mfunc\u001b[1;34m()\u001b[0m\n\u001b[0;32m      1\u001b[0m \u001b[1;32mdef\u001b[0m \u001b[0mfunc\u001b[0m\u001b[1;33m(\u001b[0m\u001b[1;33m)\u001b[0m\u001b[1;33m:\u001b[0m\u001b[1;33m\u001b[0m\u001b[1;33m\u001b[0m\u001b[0m\n\u001b[1;32m----> 2\u001b[1;33m    \u001b[0mprint\u001b[0m\u001b[1;33m(\u001b[0m\u001b[0mvariable\u001b[0m\u001b[1;33m)\u001b[0m\u001b[1;33m\u001b[0m\u001b[1;33m\u001b[0m\u001b[0m\n\u001b[0m",
      "\u001b[1;31mNameError\u001b[0m: name 'variable' is not defined"
     ]
    }
   ],
   "source": [
    "func()"
   ]
  },
  {
   "cell_type": "code",
   "execution_count": 100,
   "id": "f68e7048",
   "metadata": {},
   "outputs": [
    {
     "ename": "TypeError",
     "evalue": "can only concatenate str (not \"int\") to str",
     "output_type": "error",
     "traceback": [
      "\u001b[1;31m---------------------------------------------------------------------------\u001b[0m",
      "\u001b[1;31mTypeError\u001b[0m                                 Traceback (most recent call last)",
      "\u001b[1;32m~\\AppData\\Local\\Temp/ipykernel_12804/1841419283.py\u001b[0m in \u001b[0;36m<module>\u001b[1;34m\u001b[0m\n\u001b[1;32m----> 1\u001b[1;33m \u001b[1;34m'3'\u001b[0m \u001b[1;33m+\u001b[0m \u001b[1;36m3\u001b[0m\u001b[1;33m\u001b[0m\u001b[1;33m\u001b[0m\u001b[0m\n\u001b[0m",
      "\u001b[1;31mTypeError\u001b[0m: can only concatenate str (not \"int\") to str"
     ]
    }
   ],
   "source": [
    "'3' + 3"
   ]
  },
  {
   "cell_type": "code",
   "execution_count": 101,
   "id": "6042d59e",
   "metadata": {},
   "outputs": [
    {
     "ename": "IndexError",
     "evalue": "list index out of range",
     "output_type": "error",
     "traceback": [
      "\u001b[1;31m---------------------------------------------------------------------------\u001b[0m",
      "\u001b[1;31mIndexError\u001b[0m                                Traceback (most recent call last)",
      "\u001b[1;32m~\\AppData\\Local\\Temp/ipykernel_12804/1172482799.py\u001b[0m in \u001b[0;36m<module>\u001b[1;34m\u001b[0m\n\u001b[0;32m      1\u001b[0m \u001b[0mmy_list\u001b[0m \u001b[1;33m=\u001b[0m \u001b[1;33m[\u001b[0m\u001b[1;36m1\u001b[0m\u001b[1;33m,\u001b[0m \u001b[1;36m2\u001b[0m\u001b[1;33m,\u001b[0m \u001b[1;36m3\u001b[0m\u001b[1;33m]\u001b[0m\u001b[1;33m\u001b[0m\u001b[1;33m\u001b[0m\u001b[0m\n\u001b[1;32m----> 2\u001b[1;33m \u001b[0mmy_list\u001b[0m\u001b[1;33m[\u001b[0m\u001b[1;36m4\u001b[0m\u001b[1;33m]\u001b[0m\u001b[1;33m\u001b[0m\u001b[1;33m\u001b[0m\u001b[0m\n\u001b[0m",
      "\u001b[1;31mIndexError\u001b[0m: list index out of range"
     ]
    }
   ],
   "source": [
    "my_list = [1, 2, 3]\n",
    "my_list[4]"
   ]
  },
  {
   "cell_type": "code",
   "execution_count": 102,
   "id": "f8358804",
   "metadata": {},
   "outputs": [
    {
     "data": {
      "text/plain": [
       "3"
      ]
     },
     "execution_count": 102,
     "metadata": {},
     "output_type": "execute_result"
    }
   ],
   "source": [
    "int('3')"
   ]
  },
  {
   "cell_type": "code",
   "execution_count": 103,
   "id": "175ea1ad",
   "metadata": {},
   "outputs": [
    {
     "ename": "ValueError",
     "evalue": "invalid literal for int() with base 10: '3a'",
     "output_type": "error",
     "traceback": [
      "\u001b[1;31m---------------------------------------------------------------------------\u001b[0m",
      "\u001b[1;31mValueError\u001b[0m                                Traceback (most recent call last)",
      "\u001b[1;32m~\\AppData\\Local\\Temp/ipykernel_12804/2188293556.py\u001b[0m in \u001b[0;36m<module>\u001b[1;34m\u001b[0m\n\u001b[1;32m----> 1\u001b[1;33m \u001b[0mint\u001b[0m\u001b[1;33m(\u001b[0m\u001b[1;34m'3a'\u001b[0m\u001b[1;33m)\u001b[0m\u001b[1;33m\u001b[0m\u001b[1;33m\u001b[0m\u001b[0m\n\u001b[0m",
      "\u001b[1;31mValueError\u001b[0m: invalid literal for int() with base 10: '3a'"
     ]
    }
   ],
   "source": [
    "int('3a')"
   ]
  },
  {
   "cell_type": "code",
   "execution_count": 104,
   "id": "58c8658f",
   "metadata": {},
   "outputs": [
    {
     "ename": "KeyError",
     "evalue": "'class'",
     "output_type": "error",
     "traceback": [
      "\u001b[1;31m---------------------------------------------------------------------------\u001b[0m",
      "\u001b[1;31mKeyError\u001b[0m                                  Traceback (most recent call last)",
      "\u001b[1;32m~\\AppData\\Local\\Temp/ipykernel_12804/2044794529.py\u001b[0m in \u001b[0;36m<module>\u001b[1;34m\u001b[0m\n\u001b[0;32m      1\u001b[0m \u001b[0mstudent\u001b[0m \u001b[1;33m=\u001b[0m \u001b[1;33m{\u001b[0m\u001b[1;34m'username'\u001b[0m\u001b[1;33m:\u001b[0m \u001b[1;34m'john'\u001b[0m\u001b[1;33m,\u001b[0m \u001b[1;34m'grade'\u001b[0m\u001b[1;33m:\u001b[0m \u001b[1;36m50\u001b[0m\u001b[1;33m}\u001b[0m\u001b[1;33m\u001b[0m\u001b[1;33m\u001b[0m\u001b[0m\n\u001b[1;32m----> 2\u001b[1;33m \u001b[0mstudent\u001b[0m\u001b[1;33m[\u001b[0m\u001b[1;34m'class'\u001b[0m\u001b[1;33m]\u001b[0m\u001b[1;33m\u001b[0m\u001b[1;33m\u001b[0m\u001b[0m\n\u001b[0m",
      "\u001b[1;31mKeyError\u001b[0m: 'class'"
     ]
    }
   ],
   "source": [
    "student = {'username': 'john', 'grade': 50}\n",
    "student['class']"
   ]
  },
  {
   "cell_type": "code",
   "execution_count": 105,
   "id": "df11ec7b",
   "metadata": {},
   "outputs": [
    {
     "name": "stdout",
     "output_type": "stream",
     "text": [
      "2\n"
     ]
    },
    {
     "ename": "AttributeError",
     "evalue": "type object 'TestClass' has no attribute 'class_variable2'",
     "output_type": "error",
     "traceback": [
      "\u001b[1;31m---------------------------------------------------------------------------\u001b[0m",
      "\u001b[1;31mAttributeError\u001b[0m                            Traceback (most recent call last)",
      "\u001b[1;32m~\\AppData\\Local\\Temp/ipykernel_12804/1783773523.py\u001b[0m in \u001b[0;36m<module>\u001b[1;34m\u001b[0m\n\u001b[0;32m      3\u001b[0m \u001b[1;33m\u001b[0m\u001b[0m\n\u001b[0;32m      4\u001b[0m \u001b[0mprint\u001b[0m\u001b[1;33m(\u001b[0m\u001b[0mTestClass\u001b[0m\u001b[1;33m.\u001b[0m\u001b[0mclass_variable1\u001b[0m\u001b[1;33m)\u001b[0m\u001b[1;33m\u001b[0m\u001b[1;33m\u001b[0m\u001b[0m\n\u001b[1;32m----> 5\u001b[1;33m \u001b[0mprint\u001b[0m\u001b[1;33m(\u001b[0m\u001b[0mTestClass\u001b[0m\u001b[1;33m.\u001b[0m\u001b[0mclass_variable2\u001b[0m\u001b[1;33m)\u001b[0m\u001b[1;33m\u001b[0m\u001b[1;33m\u001b[0m\u001b[0m\n\u001b[0m",
      "\u001b[1;31mAttributeError\u001b[0m: type object 'TestClass' has no attribute 'class_variable2'"
     ]
    }
   ],
   "source": [
    "class TestClass:\n",
    "    class_variable1 = 2\n",
    "\n",
    "print(TestClass.class_variable1)\n",
    "print(TestClass.class_variable2)"
   ]
  },
  {
   "cell_type": "code",
   "execution_count": 109,
   "id": "35703d37",
   "metadata": {},
   "outputs": [],
   "source": [
    "my_list = [1, 2, 3]\n",
    "my_list.sort()"
   ]
  },
  {
   "cell_type": "code",
   "execution_count": 110,
   "id": "ab2320b7",
   "metadata": {},
   "outputs": [
    {
     "ename": "AttributeError",
     "evalue": "'list' object has no attribute 'sorty'",
     "output_type": "error",
     "traceback": [
      "\u001b[1;31m---------------------------------------------------------------------------\u001b[0m",
      "\u001b[1;31mAttributeError\u001b[0m                            Traceback (most recent call last)",
      "\u001b[1;32m~\\AppData\\Local\\Temp/ipykernel_12804/3430663050.py\u001b[0m in \u001b[0;36m<module>\u001b[1;34m\u001b[0m\n\u001b[1;32m----> 1\u001b[1;33m \u001b[0mmy_list\u001b[0m\u001b[1;33m.\u001b[0m\u001b[0msorty\u001b[0m\u001b[1;33m(\u001b[0m\u001b[1;33m)\u001b[0m\u001b[1;33m\u001b[0m\u001b[1;33m\u001b[0m\u001b[0m\n\u001b[0m",
      "\u001b[1;31mAttributeError\u001b[0m: 'list' object has no attribute 'sorty'"
     ]
    }
   ],
   "source": [
    "my_list.sorty()"
   ]
  },
  {
   "cell_type": "code",
   "execution_count": 112,
   "id": "23453602",
   "metadata": {},
   "outputs": [
    {
     "data": {
      "text/plain": [
       "'TEST1234'"
      ]
     },
     "execution_count": 112,
     "metadata": {},
     "output_type": "execute_result"
    }
   ],
   "source": [
    "string = 'test1234'\n",
    "string.upper()"
   ]
  },
  {
   "cell_type": "code",
   "execution_count": 113,
   "id": "1ed6f2f4",
   "metadata": {},
   "outputs": [
    {
     "ename": "AttributeError",
     "evalue": "'list' object has no attribute 'upper'",
     "output_type": "error",
     "traceback": [
      "\u001b[1;31m---------------------------------------------------------------------------\u001b[0m",
      "\u001b[1;31mAttributeError\u001b[0m                            Traceback (most recent call last)",
      "\u001b[1;32m~\\AppData\\Local\\Temp/ipykernel_12804/1111297724.py\u001b[0m in \u001b[0;36m<module>\u001b[1;34m\u001b[0m\n\u001b[0;32m      1\u001b[0m \u001b[0mx\u001b[0m \u001b[1;33m=\u001b[0m \u001b[1;33m[\u001b[0m\u001b[1;36m1\u001b[0m\u001b[1;33m,\u001b[0m\u001b[1;36m2\u001b[0m\u001b[1;33m,\u001b[0m\u001b[1;36m3\u001b[0m\u001b[1;33m]\u001b[0m\u001b[1;33m\u001b[0m\u001b[1;33m\u001b[0m\u001b[0m\n\u001b[1;32m----> 2\u001b[1;33m \u001b[0mx\u001b[0m\u001b[1;33m.\u001b[0m\u001b[0mupper\u001b[0m\u001b[1;33m(\u001b[0m\u001b[1;33m)\u001b[0m\u001b[1;33m\u001b[0m\u001b[1;33m\u001b[0m\u001b[0m\n\u001b[0m",
      "\u001b[1;31mAttributeError\u001b[0m: 'list' object has no attribute 'upper'"
     ]
    }
   ],
   "source": [
    "x = [1,2,3]\n",
    "x.upper()"
   ]
  },
  {
   "cell_type": "code",
   "execution_count": 115,
   "id": "70592c05",
   "metadata": {},
   "outputs": [
    {
     "ename": "ValueError",
     "evalue": "You need give me numbers!",
     "output_type": "error",
     "traceback": [
      "\u001b[1;31m---------------------------------------------------------------------------\u001b[0m",
      "\u001b[1;31mValueError\u001b[0m                                Traceback (most recent call last)",
      "\u001b[1;32m~\\AppData\\Local\\Temp/ipykernel_12804/1382827470.py\u001b[0m in \u001b[0;36m<module>\u001b[1;34m\u001b[0m\n\u001b[1;32m----> 1\u001b[1;33m \u001b[1;32mraise\u001b[0m \u001b[0mValueError\u001b[0m\u001b[1;33m(\u001b[0m\u001b[1;34m'You need give me numbers!'\u001b[0m\u001b[1;33m)\u001b[0m\u001b[1;33m\u001b[0m\u001b[1;33m\u001b[0m\u001b[0m\n\u001b[0m",
      "\u001b[1;31mValueError\u001b[0m: You need give me numbers!"
     ]
    }
   ],
   "source": [
    "raise ValueError('You need give me numbers!')"
   ]
  },
  {
   "cell_type": "code",
   "execution_count": 116,
   "id": "2da6df99",
   "metadata": {},
   "outputs": [],
   "source": [
    "def calculate_bmi(height, weight):\n",
    "\n",
    "    if type(height) not in [float, int]:\n",
    "        raise TypeError('Height has to be float or an int')\n",
    "\n",
    "    if type(weight) not in [float, int]:\n",
    "#     if type(weight) != float and type(weight) != int\n",
    "        raise TypeError('Weight has to be float or an int')\n",
    "\n",
    "    if height <= 0:\n",
    "        raise ValueError('Height cannot be less than or equal to 0')\n",
    "\n",
    "    if weight <= 0:\n",
    "        raise ValueError('Weight cannot be less than or equal to 0')\n",
    "\n",
    "    return 703 * weight / height**2\n"
   ]
  },
  {
   "cell_type": "code",
   "execution_count": 121,
   "id": "3cf7e247",
   "metadata": {},
   "outputs": [
    {
     "ename": "ValueError",
     "evalue": "Weight cannot be less than or equal to 0",
     "output_type": "error",
     "traceback": [
      "\u001b[1;31m---------------------------------------------------------------------------\u001b[0m",
      "\u001b[1;31mValueError\u001b[0m                                Traceback (most recent call last)",
      "\u001b[1;32m~\\AppData\\Local\\Temp/ipykernel_12804/1552513194.py\u001b[0m in \u001b[0;36m<module>\u001b[1;34m\u001b[0m\n\u001b[1;32m----> 1\u001b[1;33m \u001b[0mcalculate_bmi\u001b[0m\u001b[1;33m(\u001b[0m\u001b[1;36m60\u001b[0m\u001b[1;33m,\u001b[0m \u001b[1;33m-\u001b[0m\u001b[1;36m120\u001b[0m\u001b[1;33m)\u001b[0m\u001b[1;33m\u001b[0m\u001b[1;33m\u001b[0m\u001b[0m\n\u001b[0m",
      "\u001b[1;32m~\\AppData\\Local\\Temp/ipykernel_12804/1552374771.py\u001b[0m in \u001b[0;36mcalculate_bmi\u001b[1;34m(height, weight)\u001b[0m\n\u001b[0;32m     12\u001b[0m \u001b[1;33m\u001b[0m\u001b[0m\n\u001b[0;32m     13\u001b[0m     \u001b[1;32mif\u001b[0m \u001b[0mweight\u001b[0m \u001b[1;33m<=\u001b[0m \u001b[1;36m0\u001b[0m\u001b[1;33m:\u001b[0m\u001b[1;33m\u001b[0m\u001b[1;33m\u001b[0m\u001b[0m\n\u001b[1;32m---> 14\u001b[1;33m         \u001b[1;32mraise\u001b[0m \u001b[0mValueError\u001b[0m\u001b[1;33m(\u001b[0m\u001b[1;34m'Weight cannot be less than or equal to 0'\u001b[0m\u001b[1;33m)\u001b[0m\u001b[1;33m\u001b[0m\u001b[1;33m\u001b[0m\u001b[0m\n\u001b[0m\u001b[0;32m     15\u001b[0m \u001b[1;33m\u001b[0m\u001b[0m\n\u001b[0;32m     16\u001b[0m     \u001b[1;32mreturn\u001b[0m \u001b[1;36m703\u001b[0m \u001b[1;33m*\u001b[0m \u001b[0mweight\u001b[0m \u001b[1;33m/\u001b[0m \u001b[0mheight\u001b[0m\u001b[1;33m**\u001b[0m\u001b[1;36m2\u001b[0m\u001b[1;33m\u001b[0m\u001b[1;33m\u001b[0m\u001b[0m\n",
      "\u001b[1;31mValueError\u001b[0m: Weight cannot be less than or equal to 0"
     ]
    }
   ],
   "source": [
    "calculate_bmi(60, -120)"
   ]
  },
  {
   "cell_type": "code",
   "execution_count": 122,
   "id": "42a826d2",
   "metadata": {},
   "outputs": [
    {
     "name": "stdout",
     "output_type": "stream",
     "text": [
      "Please enter height: abc\n",
      "could not convert string to float: 'abc'\n",
      "Please enter a number\n",
      "I always run!\n",
      "Please enter height: 60\n",
      "Please enter weight: abc\n",
      "could not convert string to float: 'abc'\n",
      "Please enter a number\n",
      "I always run!\n",
      "Please enter height: 60\n",
      "Please enter weight: 120\n",
      "I run when there is no error\n",
      "I always run!\n",
      "23.433333333333334\n"
     ]
    }
   ],
   "source": [
    "while True:\n",
    "    try:\n",
    "        height = float(input('Please enter height: '))\n",
    "        weight = float(input('Please enter weight: '))\n",
    "    except Exception as error:\n",
    "        print(error)\n",
    "        print('Please enter a number')\n",
    "    else:\n",
    "        print('I run when there is no error')\n",
    "        break\n",
    "    finally:\n",
    "        print('I always run!')\n",
    "\n",
    "print(calculate_bmi(height, weight))"
   ]
  },
  {
   "cell_type": "code",
   "execution_count": 123,
   "id": "d1d621e1",
   "metadata": {},
   "outputs": [],
   "source": [
    "student = {'username': 'john', 'grade': 50}\n",
    "\n",
    "def get_key(some_dict, key, default_value=None):\n",
    "    try:\n",
    "        return some_dict[key]\n",
    "    except KeyError:\n",
    "        return default_value\n"
   ]
  },
  {
   "cell_type": "code",
   "execution_count": 130,
   "id": "e03887d8",
   "metadata": {},
   "outputs": [
    {
     "name": "stdout",
     "output_type": "stream",
     "text": [
      "N/A\n"
     ]
    }
   ],
   "source": [
    "print(get_key(student, 'usernme', 'N/A'))"
   ]
  },
  {
   "cell_type": "code",
   "execution_count": 131,
   "id": "a6a76d8c",
   "metadata": {},
   "outputs": [
    {
     "name": "stdout",
     "output_type": "stream",
     "text": [
      "N/A\n"
     ]
    }
   ],
   "source": [
    "print(student.get('usernme', 'N/A'))"
   ]
  },
  {
   "cell_type": "code",
   "execution_count": 135,
   "id": "c64e836d",
   "metadata": {},
   "outputs": [
    {
     "name": "stdout",
     "output_type": "stream",
     "text": [
      "[Errno 2] No such file or directory: 'abcd.txt'\n",
      "OS error\n"
     ]
    }
   ],
   "source": [
    "filename = 'abcd.txt'\n",
    "try: \n",
    "    file = open(filename) \n",
    "except OSError as e:\n",
    "    print(e)\n",
    "    print('OS error') \n",
    "except FileNotFoundError: \n",
    "    print('File not found') "
   ]
  },
  {
   "cell_type": "code",
   "execution_count": 137,
   "id": "bf013ab0",
   "metadata": {},
   "outputs": [
    {
     "name": "stdout",
     "output_type": "stream",
     "text": [
      "[Errno 2] No such file or directory: 'abcd.txt'\n",
      "File not found\n"
     ]
    }
   ],
   "source": [
    "filename = 'abcd.txt'\n",
    "try: \n",
    "    file = open(filename) \n",
    "except FileNotFoundError as e:\n",
    "    print(e)\n",
    "    print('File not found') \n",
    "except OSError as e:\n",
    "    print(e)\n",
    "    print('OS error') \n"
   ]
  },
  {
   "cell_type": "code",
   "execution_count": null,
   "id": "e86eb86a",
   "metadata": {},
   "outputs": [],
   "source": []
  }
 ],
 "metadata": {
  "kernelspec": {
   "display_name": "Python 3 (ipykernel)",
   "language": "python",
   "name": "python3"
  },
  "language_info": {
   "codemirror_mode": {
    "name": "ipython",
    "version": 3
   },
   "file_extension": ".py",
   "mimetype": "text/x-python",
   "name": "python",
   "nbconvert_exporter": "python",
   "pygments_lexer": "ipython3",
   "version": "3.8.12"
  }
 },
 "nbformat": 4,
 "nbformat_minor": 5
}
