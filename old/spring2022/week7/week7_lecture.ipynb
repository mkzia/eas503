{
 "cells": [
  {
   "cell_type": "code",
   "execution_count": 2,
   "id": "fb4c74d7",
   "metadata": {},
   "outputs": [
    {
     "name": "stdout",
     "output_type": "stream",
     "text": [
      "defaultdict(<class 'int'>, {3: 1})\n"
     ]
    }
   ],
   "source": [
    "from collections import defaultdict\n",
    "\n",
    "x = defaultdict(int)\n",
    "x[3] += 1\n",
    "\n",
    "print(x)"
   ]
  },
  {
   "cell_type": "code",
   "execution_count": 3,
   "id": "e5a9b835",
   "metadata": {},
   "outputs": [],
   "source": [
    "x = defaultdict(list)\n",
    "x['grades'].append(86)"
   ]
  },
  {
   "cell_type": "code",
   "execution_count": 4,
   "id": "e88eced1",
   "metadata": {},
   "outputs": [],
   "source": [
    "x['grades'] = 86"
   ]
  },
  {
   "cell_type": "code",
   "execution_count": 5,
   "id": "be23a097",
   "metadata": {},
   "outputs": [],
   "source": [
    "x = {}\n",
    "if 'grades' not in x:\n",
    "    x['grades'] = []\n",
    "    \n",
    "x['grades'].append(86)"
   ]
  },
  {
   "cell_type": "code",
   "execution_count": 6,
   "id": "03e2a429",
   "metadata": {},
   "outputs": [
    {
     "data": {
      "text/plain": [
       "{'grades': [86]}"
      ]
     },
     "execution_count": 6,
     "metadata": {},
     "output_type": "execute_result"
    }
   ],
   "source": [
    "x"
   ]
  },
  {
   "cell_type": "code",
   "execution_count": 7,
   "id": "4ed42179",
   "metadata": {},
   "outputs": [
    {
     "name": "stdout",
     "output_type": "stream",
     "text": [
      "{'grades': 86}\n"
     ]
    }
   ],
   "source": [
    "x = {}\n",
    "x.update({'grades': 86})\n",
    "print(x)"
   ]
  },
  {
   "cell_type": "code",
   "execution_count": 8,
   "id": "01eafd0e",
   "metadata": {},
   "outputs": [
    {
     "name": "stdout",
     "output_type": "stream",
     "text": [
      "{'grades': [86]}\n"
     ]
    }
   ],
   "source": [
    "x = {}\n",
    "x.update({'grades': [86,]})\n",
    "print(x)"
   ]
  },
  {
   "cell_type": "code",
   "execution_count": 9,
   "id": "28758b2c",
   "metadata": {},
   "outputs": [
    {
     "data": {
      "text/plain": [
       "[(3, 1), (24, 8), (28, 78), (34, 90)]"
      ]
     },
     "execution_count": 9,
     "metadata": {},
     "output_type": "execute_result"
    }
   ],
   "source": [
    "x = [(3, 1), (28,78), (34, 90), (24, 8)]\n",
    "\n",
    "sorted(x, key=lambda ele: ele[1])"
   ]
  },
  {
   "cell_type": "code",
   "execution_count": 10,
   "id": "772913f6",
   "metadata": {},
   "outputs": [
    {
     "data": {
      "text/plain": [
       "[(3, 1), (24, 8), (28, 78), (34, 90)]"
      ]
     },
     "execution_count": 10,
     "metadata": {},
     "output_type": "execute_result"
    }
   ],
   "source": [
    "l_func = lambda ele: ele[1]\n",
    "sorted(x, key=l_func)"
   ]
  },
  {
   "cell_type": "code",
   "execution_count": 11,
   "id": "8dae2677",
   "metadata": {},
   "outputs": [],
   "source": [
    "def ex4():\n",
    "    l_func = lambda ele: ele[1]\n",
    "    result = sorted(x, key=l_func)\n",
    "    return (l_func, result)"
   ]
  },
  {
   "cell_type": "code",
   "execution_count": 12,
   "id": "e753068d",
   "metadata": {},
   "outputs": [],
   "source": [
    "def my_func(number):\n",
    "    return number * number"
   ]
  },
  {
   "cell_type": "code",
   "execution_count": 13,
   "id": "d7a4ab33",
   "metadata": {},
   "outputs": [
    {
     "ename": "TypeError",
     "evalue": "my_func() missing 1 required positional argument: 'number'",
     "output_type": "error",
     "traceback": [
      "\u001b[1;31m---------------------------------------------------------------------------\u001b[0m",
      "\u001b[1;31mTypeError\u001b[0m                                 Traceback (most recent call last)",
      "\u001b[1;32m~\\AppData\\Local\\Temp/ipykernel_21336/3936476787.py\u001b[0m in \u001b[0;36m<module>\u001b[1;34m\u001b[0m\n\u001b[1;32m----> 1\u001b[1;33m \u001b[0mmy_func\u001b[0m\u001b[1;33m(\u001b[0m\u001b[1;33m)\u001b[0m\u001b[1;33m\u001b[0m\u001b[1;33m\u001b[0m\u001b[0m\n\u001b[0m",
      "\u001b[1;31mTypeError\u001b[0m: my_func() missing 1 required positional argument: 'number'"
     ]
    }
   ],
   "source": [
    "my_func()"
   ]
  },
  {
   "cell_type": "code",
   "execution_count": 16,
   "id": "9f172f4b",
   "metadata": {},
   "outputs": [
    {
     "data": {
      "text/plain": [
       "100"
      ]
     },
     "execution_count": 16,
     "metadata": {},
     "output_type": "execute_result"
    }
   ],
   "source": [
    "def my_func(number=10):\n",
    "    return number * number\n",
    "\n",
    "my_func()"
   ]
  },
  {
   "cell_type": "code",
   "execution_count": 17,
   "id": "6ce94f08",
   "metadata": {},
   "outputs": [
    {
     "data": {
      "text/plain": [
       "625"
      ]
     },
     "execution_count": 17,
     "metadata": {},
     "output_type": "execute_result"
    }
   ],
   "source": [
    "my_func(25)"
   ]
  },
  {
   "cell_type": "code",
   "execution_count": 19,
   "id": "2b000d7c",
   "metadata": {},
   "outputs": [
    {
     "name": "stdout",
     "output_type": "stream",
     "text": [
      "2\n"
     ]
    },
    {
     "data": {
      "text/plain": [
       "100"
      ]
     },
     "execution_count": 19,
     "metadata": {},
     "output_type": "execute_result"
    }
   ],
   "source": [
    "def my_func(number, number2):\n",
    "    print(number2)\n",
    "    return number * number\n",
    "\n",
    "my_func(10, number2=2)"
   ]
  },
  {
   "cell_type": "code",
   "execution_count": 20,
   "id": "1ffe0eaf",
   "metadata": {},
   "outputs": [
    {
     "name": "stdout",
     "output_type": "stream",
     "text": [
      "2\n"
     ]
    },
    {
     "data": {
      "text/plain": [
       "9"
      ]
     },
     "execution_count": 20,
     "metadata": {},
     "output_type": "execute_result"
    }
   ],
   "source": [
    "my_func(number=3, number2=2)"
   ]
  },
  {
   "cell_type": "code",
   "execution_count": 21,
   "id": "df7aa73e",
   "metadata": {},
   "outputs": [
    {
     "ename": "SyntaxError",
     "evalue": "non-default argument follows default argument (Temp/ipykernel_21336/3900175247.py, line 3)",
     "output_type": "error",
     "traceback": [
      "\u001b[1;36m  File \u001b[1;32m\"C:\\Users\\mkhaw\\AppData\\Local\\Temp/ipykernel_21336/3900175247.py\"\u001b[1;36m, line \u001b[1;32m3\u001b[0m\n\u001b[1;33m    def my_func(number, number2=3, number3):\u001b[0m\n\u001b[1;37m                ^\u001b[0m\n\u001b[1;31mSyntaxError\u001b[0m\u001b[1;31m:\u001b[0m non-default argument follows default argument\n"
     ]
    }
   ],
   "source": [
    "# required arguments, optional argument, keword arguments\n",
    "\n",
    "def my_func(number, number2=3, number3):\n",
    "    print(number, number2, number3)\n",
    "    return number * number\n",
    "\n",
    "my_func(10, 20, 30)"
   ]
  },
  {
   "cell_type": "code",
   "execution_count": 22,
   "id": "d40576ec",
   "metadata": {},
   "outputs": [
    {
     "name": "stdout",
     "output_type": "stream",
     "text": [
      "10 20 30\n"
     ]
    },
    {
     "data": {
      "text/plain": [
       "100"
      ]
     },
     "execution_count": 22,
     "metadata": {},
     "output_type": "execute_result"
    }
   ],
   "source": [
    "def my_func(number, number2, number3=3):\n",
    "    print(number, number2, number3)\n",
    "    return number * number\n",
    "\n",
    "my_func(10, 20, 30)"
   ]
  },
  {
   "cell_type": "code",
   "execution_count": 23,
   "id": "c366979c",
   "metadata": {},
   "outputs": [
    {
     "name": "stdout",
     "output_type": "stream",
     "text": [
      "10 20 3\n"
     ]
    },
    {
     "data": {
      "text/plain": [
       "100"
      ]
     },
     "execution_count": 23,
     "metadata": {},
     "output_type": "execute_result"
    }
   ],
   "source": [
    "my_func(10, 20)"
   ]
  },
  {
   "cell_type": "code",
   "execution_count": 24,
   "id": "0b873ec5",
   "metadata": {},
   "outputs": [],
   "source": [
    "def func(spam, eggs, toast=0, ham=0):   # first 2 required\n",
    "    print (spam, eggs, toast, ham)\n"
   ]
  },
  {
   "cell_type": "code",
   "execution_count": 26,
   "id": "50dfa7e3",
   "metadata": {},
   "outputs": [
    {
     "name": "stdout",
     "output_type": "stream",
     "text": [
      "1 2 0 0\n"
     ]
    }
   ],
   "source": [
    "func(1, 2)    "
   ]
  },
  {
   "cell_type": "code",
   "execution_count": 27,
   "id": "ab9a9997",
   "metadata": {},
   "outputs": [
    {
     "name": "stdout",
     "output_type": "stream",
     "text": [
      "1 0 0 1\n"
     ]
    }
   ],
   "source": [
    "func(1, ham=1, eggs=0)"
   ]
  },
  {
   "cell_type": "code",
   "execution_count": 28,
   "id": "7cadb947",
   "metadata": {},
   "outputs": [
    {
     "name": "stdout",
     "output_type": "stream",
     "text": [
      "1 0 0 0\n"
     ]
    }
   ],
   "source": [
    "func(spam=1, eggs=0)  "
   ]
  },
  {
   "cell_type": "code",
   "execution_count": 29,
   "id": "b4b7c7a0",
   "metadata": {},
   "outputs": [
    {
     "name": "stdout",
     "output_type": "stream",
     "text": [
      "3 2 1 0\n"
     ]
    }
   ],
   "source": [
    "func(toast=1, eggs=2, spam=3)  "
   ]
  },
  {
   "cell_type": "code",
   "execution_count": 30,
   "id": "f2509f6c",
   "metadata": {},
   "outputs": [
    {
     "name": "stdout",
     "output_type": "stream",
     "text": [
      "1 2 3 4\n"
     ]
    }
   ],
   "source": [
    "func(1, 2, 3, 4)  "
   ]
  },
  {
   "cell_type": "code",
   "execution_count": 31,
   "id": "33d7795d",
   "metadata": {},
   "outputs": [],
   "source": [
    "def f(a, *args, **kwargs): \n",
    "    print(a, args, kwargs)"
   ]
  },
  {
   "cell_type": "code",
   "execution_count": 32,
   "id": "75e194ba",
   "metadata": {},
   "outputs": [
    {
     "name": "stdout",
     "output_type": "stream",
     "text": [
      "1 [2, 3, 4]\n"
     ]
    }
   ],
   "source": [
    "a, *b = [1, 2, 3, 4]\n",
    "print(a, b)"
   ]
  },
  {
   "cell_type": "code",
   "execution_count": 33,
   "id": "d43d123e",
   "metadata": {},
   "outputs": [
    {
     "name": "stdout",
     "output_type": "stream",
     "text": [
      "3 (4, 5, 6, 7) {}\n"
     ]
    }
   ],
   "source": [
    "f(3, 4, 5, 6, 7)"
   ]
  },
  {
   "cell_type": "code",
   "execution_count": 34,
   "id": "c1edbda8",
   "metadata": {},
   "outputs": [
    {
     "name": "stdout",
     "output_type": "stream",
     "text": [
      "3 (4, 5, 6, 7) {'bored': True, 'eas503': False}\n"
     ]
    }
   ],
   "source": [
    "f(3, 4, 5, 6, 7, bored=True, eas503=False)"
   ]
  },
  {
   "cell_type": "code",
   "execution_count": 35,
   "id": "83b795ff",
   "metadata": {},
   "outputs": [],
   "source": [
    "def area_of_triangle(base, height):\n",
    "    return 1/2 * base * height"
   ]
  },
  {
   "cell_type": "code",
   "execution_count": 36,
   "id": "f82de358",
   "metadata": {},
   "outputs": [
    {
     "data": {
      "text/plain": [
       "150.0"
      ]
     },
     "execution_count": 36,
     "metadata": {},
     "output_type": "execute_result"
    }
   ],
   "source": [
    "area_of_triangle(10, 30)"
   ]
  },
  {
   "cell_type": "code",
   "execution_count": 41,
   "id": "0a4dbb05",
   "metadata": {},
   "outputs": [
    {
     "ename": "TypeError",
     "evalue": "area_of_triangle() missing 1 required positional argument: 'height'",
     "output_type": "error",
     "traceback": [
      "\u001b[1;31m---------------------------------------------------------------------------\u001b[0m",
      "\u001b[1;31mTypeError\u001b[0m                                 Traceback (most recent call last)",
      "\u001b[1;32m~\\AppData\\Local\\Temp/ipykernel_21336/2804523650.py\u001b[0m in \u001b[0;36m<module>\u001b[1;34m\u001b[0m\n\u001b[0;32m      1\u001b[0m \u001b[0mx\u001b[0m \u001b[1;33m=\u001b[0m \u001b[1;33m{\u001b[0m\u001b[1;34m'base'\u001b[0m\u001b[1;33m:\u001b[0m \u001b[1;36m10\u001b[0m\u001b[1;33m,\u001b[0m \u001b[1;34m'height'\u001b[0m\u001b[1;33m:\u001b[0m \u001b[1;36m30\u001b[0m\u001b[1;33m}\u001b[0m\u001b[1;33m\u001b[0m\u001b[1;33m\u001b[0m\u001b[0m\n\u001b[1;32m----> 2\u001b[1;33m \u001b[0marea_of_triangle\u001b[0m\u001b[1;33m(\u001b[0m\u001b[0mx\u001b[0m\u001b[1;33m)\u001b[0m\u001b[1;33m\u001b[0m\u001b[1;33m\u001b[0m\u001b[0m\n\u001b[0m",
      "\u001b[1;31mTypeError\u001b[0m: area_of_triangle() missing 1 required positional argument: 'height'"
     ]
    }
   ],
   "source": [
    "x = {'base': 10, 'height': 30}\n",
    "area_of_triangle(**x) # base=10, height=30"
   ]
  },
  {
   "cell_type": "code",
   "execution_count": 76,
   "id": "c13ba786",
   "metadata": {},
   "outputs": [],
   "source": [
    "def intersect(*args):\n",
    "    res = []\n",
    "    for x in args[0]:                  # scan first sequence\n",
    "        for other in args[1:]:         # for all other args\n",
    "            if x not in other: \n",
    "                print(f'{x} is not in {other}')\n",
    "                break   # item in each one?\n",
    "            else:  \n",
    "                print(f'{x} is in {other}')# no:  break out of loop\n",
    "                if not x in res:\n",
    "                    res.append(x)              # yes: add items to end\n",
    "    return res\n"
   ]
  },
  {
   "cell_type": "code",
   "execution_count": 78,
   "id": "6d600d4e",
   "metadata": {},
   "outputs": [
    {
     "name": "stdout",
     "output_type": "stream",
     "text": [
      "S is in SCAM\n",
      "S is in SLAM\n",
      "P is not in SCAM\n",
      "A is in SCAM\n",
      "A is in SLAM\n",
      "M is in SCAM\n",
      "M is in SLAM\n"
     ]
    },
    {
     "data": {
      "text/plain": [
       "['S', 'A', 'M']"
      ]
     },
     "execution_count": 78,
     "metadata": {},
     "output_type": "execute_result"
    }
   ],
   "source": [
    "s1, s2, s3 = \"SPAM\", \"SCAM\", \"SLAM\"\n",
    "intersect(s1, s2, s3)"
   ]
  },
  {
   "cell_type": "code",
   "execution_count": 60,
   "id": "444f841b",
   "metadata": {},
   "outputs": [
    {
     "name": "stdout",
     "output_type": "stream",
     "text": [
      "S\n",
      "P\n",
      "A\n",
      "M\n"
     ]
    }
   ],
   "source": [
    "args = ('SPAM', 'SCAM')\n",
    "for x in args[0]:\n",
    "    print(x)"
   ]
  },
  {
   "cell_type": "code",
   "execution_count": 79,
   "id": "7d9c0da9",
   "metadata": {},
   "outputs": [],
   "source": [
    "def union(*args):\n",
    "    res = []\n",
    "    for seq in args:                   # for all args\n",
    "        for x in seq:                  # for all nodes\n",
    "            if not x in res:\n",
    "                res.append(x)          # add new items to result\n",
    "    return res\n"
   ]
  },
  {
   "cell_type": "code",
   "execution_count": 80,
   "id": "06904b2d",
   "metadata": {},
   "outputs": [
    {
     "data": {
      "text/plain": [
       "140719299960768"
      ]
     },
     "execution_count": 80,
     "metadata": {},
     "output_type": "execute_result"
    }
   ],
   "source": [
    "x = 7\n",
    "id(x)"
   ]
  },
  {
   "cell_type": "code",
   "execution_count": 81,
   "id": "9d75f7ef",
   "metadata": {},
   "outputs": [
    {
     "data": {
      "text/plain": [
       "140719299960768"
      ]
     },
     "execution_count": 81,
     "metadata": {},
     "output_type": "execute_result"
    }
   ],
   "source": [
    "id(7)"
   ]
  },
  {
   "cell_type": "code",
   "execution_count": 82,
   "id": "fe334a7a",
   "metadata": {},
   "outputs": [
    {
     "data": {
      "text/plain": [
       "140719299960864"
      ]
     },
     "execution_count": 82,
     "metadata": {},
     "output_type": "execute_result"
    }
   ],
   "source": [
    "x = 10\n",
    "id(x)"
   ]
  },
  {
   "cell_type": "code",
   "execution_count": 83,
   "id": "23004a88",
   "metadata": {},
   "outputs": [
    {
     "data": {
      "text/plain": [
       "140719299960864"
      ]
     },
     "execution_count": 83,
     "metadata": {},
     "output_type": "execute_result"
    }
   ],
   "source": [
    "id(10)"
   ]
  },
  {
   "cell_type": "code",
   "execution_count": 86,
   "id": "e4611ea4",
   "metadata": {},
   "outputs": [
    {
     "name": "stdout",
     "output_type": "stream",
     "text": [
      "140719299960768\n",
      "140719299960768\n",
      "id(number): 140719299960768\n",
      "2280436795216\n"
     ]
    }
   ],
   "source": [
    "def cube(number):\n",
    "    print('id(number):', id(number))\n",
    "    return number ** 3\n",
    "\n",
    "x = 7\n",
    "print(id(7))\n",
    "print(id(x))\n",
    "y = cube(x)\n",
    "print(id(y))"
   ]
  },
  {
   "cell_type": "code",
   "execution_count": 87,
   "id": "2f69af27",
   "metadata": {},
   "outputs": [
    {
     "name": "stdout",
     "output_type": "stream",
     "text": [
      "number is x: True\n"
     ]
    },
    {
     "data": {
      "text/plain": [
       "343"
      ]
     },
     "execution_count": 87,
     "metadata": {},
     "output_type": "execute_result"
    }
   ],
   "source": [
    "x = 7\n",
    "def cube(number):\n",
    "    print('number is x:', number is x) ## The Python's is operator returns True if its two operands have the same identify\n",
    "    return number ** 3\n",
    "\n",
    "cube(x)"
   ]
  },
  {
   "cell_type": "code",
   "execution_count": 89,
   "id": "79afae79",
   "metadata": {},
   "outputs": [
    {
     "name": "stderr",
     "output_type": "stream",
     "text": [
      "<>:1: SyntaxWarning: \"is\" with a literal. Did you mean \"==\"?\n",
      "<>:1: SyntaxWarning: \"is\" with a literal. Did you mean \"==\"?\n",
      "C:\\Users\\mkhaw\\AppData\\Local\\Temp/ipykernel_21336/2835200883.py:1: SyntaxWarning: \"is\" with a literal. Did you mean \"==\"?\n",
      "  x is 7\n"
     ]
    },
    {
     "data": {
      "text/plain": [
       "True"
      ]
     },
     "execution_count": 89,
     "metadata": {},
     "output_type": "execute_result"
    }
   ],
   "source": [
    "x is 7"
   ]
  },
  {
   "cell_type": "code",
   "execution_count": 90,
   "id": "6584e198",
   "metadata": {},
   "outputs": [
    {
     "name": "stdout",
     "output_type": "stream",
     "text": [
      "id(number) before modifying number: 140719299960768\n",
      "id(number) after modifying number: 2280436796816\n"
     ]
    },
    {
     "data": {
      "text/plain": [
       "40353607"
      ]
     },
     "execution_count": 90,
     "metadata": {},
     "output_type": "execute_result"
    }
   ],
   "source": [
    "def cube(number):\n",
    "    print('id(number) before modifying number:', id(number))\n",
    "    number **=3\n",
    "    print('id(number) after modifying number:', id(number))\n",
    "    return number ** 3\n",
    "\n",
    "cube(x)"
   ]
  },
  {
   "cell_type": "code",
   "execution_count": 94,
   "id": "b52eb6c9",
   "metadata": {},
   "outputs": [
    {
     "name": "stdout",
     "output_type": "stream",
     "text": [
      "140719299960768\n",
      "2280436021056\n",
      "id(lst) before modifying list: 2280436021056\n",
      "id(lst) after modifying list: 2280436021056\n"
     ]
    },
    {
     "data": {
      "text/plain": [
       "[6, 3, 8]"
      ]
     },
     "execution_count": 94,
     "metadata": {},
     "output_type": "execute_result"
    }
   ],
   "source": [
    "def cube_list(lst):\n",
    "    print('id(lst) before modifying list:', id(lst))\n",
    "    lst[1] = 3\n",
    "    print('id(lst) after modifying list:', id(lst))\n",
    "    return lst\n",
    "\n",
    "x_lst = [6, 7, 8]\n",
    "print(id(x_lst[1]))\n",
    "print(id(x_lst))\n",
    "cube_list(x_lst)"
   ]
  },
  {
   "cell_type": "code",
   "execution_count": 95,
   "id": "24ab0c90",
   "metadata": {},
   "outputs": [
    {
     "name": "stdout",
     "output_type": "stream",
     "text": [
      "140719299960640\n"
     ]
    }
   ],
   "source": [
    "print(id(x_lst[1]))"
   ]
  },
  {
   "cell_type": "code",
   "execution_count": 96,
   "id": "db779dab",
   "metadata": {},
   "outputs": [],
   "source": [
    "original = ['H', 'He', 'Li']"
   ]
  },
  {
   "cell_type": "code",
   "execution_count": 97,
   "id": "f18e1fd8",
   "metadata": {},
   "outputs": [],
   "source": [
    "final = original + ['Be']"
   ]
  },
  {
   "cell_type": "code",
   "execution_count": 99,
   "id": "c11df9a1",
   "metadata": {},
   "outputs": [],
   "source": [
    "life =[['Canada',76.5],['United States', 75.5],['Mexico', 72.0]]"
   ]
  },
  {
   "cell_type": "code",
   "execution_count": 104,
   "id": "580b3ed3",
   "metadata": {},
   "outputs": [
    {
     "name": "stdout",
     "output_type": "stream",
     "text": [
      "Global reporting!\n",
      "Global reporting!\n",
      "Local reporting!\n",
      "I have been changed!\n",
      "I have been changed!\n"
     ]
    }
   ],
   "source": [
    "\n",
    "variable = 'Global reporting!'\n",
    "\n",
    "def use_variable_global():\n",
    "    ## since variable is outside the function\n",
    "    print(variable)\n",
    "\n",
    "\n",
    "def use_variable_local():\n",
    "    variable = 'Local reporting!'\n",
    "    print(variable)\n",
    "\n",
    "\n",
    "def change_global_inside_function():\n",
    "    global variable\n",
    "    variable = 'I have been changed!'\n",
    "    print(variable)\n",
    "\n",
    "\n",
    "print(variable)\n",
    "use_variable_global()\n",
    "use_variable_local()\n",
    "change_global_inside_function()\n",
    "print(variable)"
   ]
  },
  {
   "cell_type": "code",
   "execution_count": 106,
   "id": "d0acbd68",
   "metadata": {},
   "outputs": [
    {
     "name": "stdout",
     "output_type": "stream",
     "text": [
      "my_list before change inside function1 [1, 2, 3, 4]\n",
      "my_variable before change inside function1 5\n",
      "my_list after change inside function1 [1, 2, 3, 4, 30]\n",
      "my_variable after change inside function1 10\n",
      "[1, 2, 3, 4, 30] 5\n"
     ]
    }
   ],
   "source": [
    "def function1(my_list, my_variable):\n",
    "    print('my_list before change inside function1', my_list)\n",
    "    print('my_variable before change inside function1', my_variable)\n",
    "    my_list.append(30)\n",
    "    my_variable = 10\n",
    "\n",
    "    print('my_list after change inside function1', my_list)\n",
    "    print('my_variable after change inside function1', my_variable)\n",
    "\n",
    "\n",
    "my_list = [1, 2, 3, 4]\n",
    "my_variable = 5\n",
    "function1(my_list, my_variable)\n",
    "print(my_list, my_variable)"
   ]
  },
  {
   "cell_type": "code",
   "execution_count": 107,
   "id": "0c2383f4",
   "metadata": {},
   "outputs": [
    {
     "name": "stdout",
     "output_type": "stream",
     "text": [
      "2280436024960\n",
      "2280436013376\n",
      "my_list after change inside function2 [1, 2, 3, 4, 90]\n",
      "my_variable after change inside function2 45\n",
      "[1, 2, 3, 4] 5\n"
     ]
    }
   ],
   "source": [
    "def function2(my_list, my_vairable):\n",
    "    # https://stackoverflow.com/questions/2612802/how-to-clone-or-copy-a-list\n",
    "    print(id(my_list))\n",
    "    my_list = my_list[:]\n",
    "    print(id(my_list))\n",
    "    my_list.append(90)\n",
    "    my_variable = 45\n",
    "\n",
    "    print('my_list after change inside function2', my_list)\n",
    "    print('my_variable after change inside function2', my_variable)\n",
    "\n",
    "my_list = [1, 2, 3, 4]\n",
    "my_variable = 5\n",
    "function2(my_list, my_variable)\n",
    "print(my_list, my_variable)"
   ]
  },
  {
   "cell_type": "code",
   "execution_count": 110,
   "id": "e0291870",
   "metadata": {},
   "outputs": [
    {
     "name": "stdout",
     "output_type": "stream",
     "text": [
      "2280436025216\n",
      "2280436775424\n",
      "my_list after change inside function2 [1, 2, 3, 4, 90]\n",
      "my_variable after change inside function2 45\n",
      "my_list after change inside function2 [1, 2, 3, 4, 90]\n",
      "my_variable after change inside function2 45\n",
      "my_list before change inside function1 [1, 2, 3, 4, 90]\n",
      "my_variable before change inside function1 45\n",
      "my_list after change inside function1 [1, 2, 3, 4, 90, 30]\n",
      "my_variable after change inside function1 10\n",
      "my_list after change1 inside function3 [1, 2, 3, 4, 90, 30]\n",
      "my_variable after change1 inside function3 45\n",
      "2280436775424\n",
      "2280435821888\n",
      "my_list after change inside function2 [1, 2, 3, 4, 90, 30, 90]\n",
      "my_variable after change inside function2 45\n",
      "my_list after change2 inside function3 [1, 2, 3, 4, 90, 30]\n",
      "my_variable after change2 inside function3 45\n"
     ]
    }
   ],
   "source": [
    "def function3():\n",
    "    my_list = [1, 2, 3, 4]\n",
    "    my_variable = 5\n",
    "    # https://stackoverflow.com/questions/2612802/how-to-clone-or-copy-a-list\n",
    "    function2(my_list, my_variable)\n",
    "    my_list = my_list[:]\n",
    "    my_list.append(90)\n",
    "    my_variable = 45\n",
    "\n",
    "    print('my_list after change inside function2', my_list)\n",
    "    print('my_variable after change inside function2', my_variable)\n",
    "\n",
    "    function1(my_list, my_variable)\n",
    "\n",
    "    print('my_list after change1 inside function3', my_list)\n",
    "    print('my_variable after change1 inside function3', my_variable)\n",
    "\n",
    "    function2(my_list, my_variable)\n",
    "\n",
    "\n",
    "    print('my_list after change2 inside function3', my_list)\n",
    "    print('my_variable after change2 inside function3', my_variable)\n",
    "function3()"
   ]
  },
  {
   "cell_type": "code",
   "execution_count": 112,
   "id": "47a85a82",
   "metadata": {},
   "outputs": [
    {
     "name": "stdout",
     "output_type": "stream",
     "text": [
      "{3: 4}\n",
      "{3: 4}\n"
     ]
    }
   ],
   "source": [
    "def function3(my_dict):\n",
    "    import copy\n",
    "#     my_dict = copy.deepcopy(my_dict)\n",
    "    my_dict[3] = 4\n",
    "    \n",
    "    print(my_dict)\n",
    "    \n",
    "my_dict = {3:3}\n",
    "function3(my_dict)\n",
    "print(my_dict)"
   ]
  },
  {
   "cell_type": "code",
   "execution_count": 117,
   "id": "18bbf640",
   "metadata": {},
   "outputs": [
    {
     "name": "stdout",
     "output_type": "stream",
     "text": [
      "2280469497216\n",
      "2280469499392\n",
      "my_list after change inside function2 [1, 2, [3, 34], 5, 90]\n",
      "my_variable after change inside function2 45\n",
      "[1, 2, [3, 34], 5]\n"
     ]
    }
   ],
   "source": [
    "def function4(my_list, my_variable):\n",
    "    # https://stackoverflow.com/questions/2612802/how-to-clone-or-copy-a-list\n",
    "    print(id(my_list))\n",
    "#     my_list = my_list[:]\n",
    "    my_list = my_list.copy()\n",
    "    print(id(my_list))\n",
    "    my_list.append(90)\n",
    "    my_variable = 45\n",
    "    my_list[2][1] = 34\n",
    "\n",
    "    print('my_list after change inside function2', my_list)\n",
    "    print('my_variable after change inside function2', my_variable)\n",
    "\n",
    "    \n",
    "my_list = [1, 2, [3, 4], 5]\n",
    "\n",
    "function4(my_list, my_variable)\n",
    "print(my_list)"
   ]
  },
  {
   "cell_type": "code",
   "execution_count": 119,
   "id": "2512070e",
   "metadata": {},
   "outputs": [
    {
     "name": "stdout",
     "output_type": "stream",
     "text": [
      "Counter({'apple': 2, 'banana': 1, 'pineapple': 1})\n"
     ]
    }
   ],
   "source": [
    "from collections import Counter\n",
    "my_list = ['apple', 'apple', 'banana', 'pineapple']\n",
    "c = Counter(my_list)\n",
    "print(c)"
   ]
  },
  {
   "cell_type": "code",
   "execution_count": 123,
   "id": "086e257b",
   "metadata": {},
   "outputs": [
    {
     "name": "stdout",
     "output_type": "stream",
     "text": [
      "Counter({7: 1716, 8: 1383, 6: 1359, 9: 1141, 5: 1090, 10: 861, 4: 817, 11: 551, 3: 531, 12: 283, 2: 268})\n"
     ]
    }
   ],
   "source": [
    "from collections import Counter\n",
    "\n",
    "import random\n",
    "random.seed(503)\n",
    "\n",
    "two_dices = []\n",
    "for _ in range(10000):\n",
    "    dice1 = random.randint(1,6)\n",
    "    dice2 = random.randint(1,6)\n",
    "    two_dices.append(dice1+dice2)\n",
    "c = Counter(two_dices)\n",
    "print(c)"
   ]
  },
  {
   "cell_type": "code",
   "execution_count": 122,
   "id": "f0df08e0",
   "metadata": {},
   "outputs": [
    {
     "name": "stdout",
     "output_type": "stream",
     "text": [
      "defaultdict(<class 'int'>, {4: 817, 9: 1141, 6: 1359, 5: 1090, 7: 1716, 2: 268, 11: 551, 10: 861, 3: 531, 8: 1383, 12: 283})\n"
     ]
    }
   ],
   "source": [
    "from collections import defaultdict\n",
    "\n",
    "import random\n",
    "random.seed(503)\n",
    "\n",
    "two_dices = defaultdict(int)\n",
    "for _ in range(10000):\n",
    "    dice1 = random.randint(1,6)\n",
    "    dice2 = random.randint(1,6)\n",
    "    total = dice1 + dice2\n",
    "    two_dices[total] += 1\n",
    "\n",
    "print(two_dices)"
   ]
  },
  {
   "cell_type": "code",
   "execution_count": 125,
   "id": "3f206ec3",
   "metadata": {},
   "outputs": [
    {
     "data": {
      "text/plain": [
       "[(3, 'Z', -9), (1, 'a', 3.5)]"
      ]
     },
     "execution_count": 125,
     "metadata": {},
     "output_type": "execute_result"
    }
   ],
   "source": [
    "import operator\n",
    "x = (\n",
    "    (1, 'a', 3.5), \n",
    "    (3, 'Z', -9)\n",
    ")\n",
    "sorted(x, key=lambda ele: ele[2])\n"
   ]
  },
  {
   "cell_type": "code",
   "execution_count": 126,
   "id": "72ae35cd",
   "metadata": {},
   "outputs": [
    {
     "data": {
      "text/plain": [
       "[(3, 'Z', -9), (1, 'a', 3.5)]"
      ]
     },
     "execution_count": 126,
     "metadata": {},
     "output_type": "execute_result"
    }
   ],
   "source": [
    "sorted(x, key=operator.itemgetter(2)) # ele[2]\n"
   ]
  },
  {
   "cell_type": "code",
   "execution_count": 128,
   "id": "c5abfa39",
   "metadata": {},
   "outputs": [
    {
     "data": {
      "text/plain": [
       "[{'name': 'student2',\n",
       "  'test1': '100',\n",
       "  'test2': '90',\n",
       "  'test3': '65',\n",
       "  'test4': '68',\n",
       "  'test5': '94'},\n",
       " {'name': 'student31',\n",
       "  'test1': '90',\n",
       "  'test2': '87',\n",
       "  'test3': '66',\n",
       "  'test4': '95',\n",
       "  'test5': '72'},\n",
       " {'name': 'student83',\n",
       "  'test1': '88',\n",
       "  'test2': '76',\n",
       "  'test3': '65',\n",
       "  'test4': '97',\n",
       "  'test5': '82'}]"
      ]
     },
     "execution_count": 128,
     "metadata": {},
     "output_type": "execute_result"
    }
   ],
   "source": [
    "x = [\n",
    "    {'name': 'student2', 'test1': '100', 'test2': '90','test3': '65', 'test4': '68', 'test5': '94'},\n",
    "    {'name': 'student83', 'test1': '88', 'test2': '76', 'test3': '65', 'test4': '97', 'test5': '82'},\n",
    "    {'name': 'student31', 'test1': '90', 'test2': '87', 'test3': '66', 'test4': '95', 'test5': '72'}]\n",
    "\n",
    "sorted(x, key=operator.itemgetter('name'))\n"
   ]
  },
  {
   "cell_type": "code",
   "execution_count": 129,
   "id": "8e7da357",
   "metadata": {},
   "outputs": [
    {
     "data": {
      "text/plain": [
       "[{'name': 'student2',\n",
       "  'test1': '100',\n",
       "  'test2': '90',\n",
       "  'test3': '65',\n",
       "  'test4': '68',\n",
       "  'test5': '94'},\n",
       " {'name': 'student83',\n",
       "  'test1': '88',\n",
       "  'test2': '76',\n",
       "  'test3': '65',\n",
       "  'test4': '97',\n",
       "  'test5': '82'},\n",
       " {'name': 'student31',\n",
       "  'test1': '90',\n",
       "  'test2': '87',\n",
       "  'test3': '66',\n",
       "  'test4': '95',\n",
       "  'test5': '72'}]"
      ]
     },
     "execution_count": 129,
     "metadata": {},
     "output_type": "execute_result"
    }
   ],
   "source": [
    "sorted(x, key=operator.itemgetter('test1'))"
   ]
  },
  {
   "cell_type": "code",
   "execution_count": 130,
   "id": "3f83bca8",
   "metadata": {},
   "outputs": [
    {
     "data": {
      "text/plain": [
       "[{'name': 'student83',\n",
       "  'test1': '88',\n",
       "  'test2': '76',\n",
       "  'test3': '65',\n",
       "  'test4': '97',\n",
       "  'test5': '82'},\n",
       " {'name': 'student31',\n",
       "  'test1': '90',\n",
       "  'test2': '87',\n",
       "  'test3': '66',\n",
       "  'test4': '95',\n",
       "  'test5': '72'},\n",
       " {'name': 'student2',\n",
       "  'test1': '100',\n",
       "  'test2': '90',\n",
       "  'test3': '65',\n",
       "  'test4': '68',\n",
       "  'test5': '94'}]"
      ]
     },
     "execution_count": 130,
     "metadata": {},
     "output_type": "execute_result"
    }
   ],
   "source": [
    "sorted(x, key=lambda ele: int(ele['test1']))"
   ]
  },
  {
   "cell_type": "code",
   "execution_count": 133,
   "id": "979f1afb",
   "metadata": {},
   "outputs": [
    {
     "data": {
      "text/plain": [
       "[('AMD', 'Advanced Micro Devices, Inc.', '$120.88', '+4.27', '121,475,927'),\n",
       " ('ZNGA', 'Zynga Inc.', '$9.18', '+0.37', '48,193,380'),\n",
       " ('NVDA', 'NVIDIA Corporation', '$240.82', '+3.34', '49,046,544'),\n",
       " ('OPEN', 'Opendoor Technologies Inc', '$8.42', '-2.55', '53,559,847'),\n",
       " ('AAPL', 'Apple Inc.', '$164.71', '+1.97', '80,725,613')]"
      ]
     },
     "execution_count": 133,
     "metadata": {},
     "output_type": "execute_result"
    }
   ],
   "source": [
    "data = (\n",
    "    ('AMD', 'Advanced Micro Devices, Inc.', '$120.88', '+4.27', '121,475,927'),\n",
    "    ('AAPL', 'Apple Inc.', '$164.71', '+1.97', '80,725,613'),\n",
    "    ('OPEN', 'Opendoor Technologies Inc', '$8.42', '-2.55', '53,559,847'),\n",
    "    ('NVDA', 'NVIDIA Corporation', '$240.82', '+3.34', '49,046,544'),\n",
    "    ('ZNGA', 'Zynga Inc.', '$9.18', '+0.37', '48,193,380'),\n",
    ")\n",
    "sorted(data, key=operator.itemgetter(4))"
   ]
  },
  {
   "cell_type": "code",
   "execution_count": 134,
   "id": "bb79e992",
   "metadata": {},
   "outputs": [
    {
     "data": {
      "text/plain": [
       "['1', '10', '2']"
      ]
     },
     "execution_count": 134,
     "metadata": {},
     "output_type": "execute_result"
    }
   ],
   "source": [
    "x = ['1', '2', '10']\n",
    "sorted(x)"
   ]
  },
  {
   "cell_type": "code",
   "execution_count": 135,
   "id": "3a5cebf7",
   "metadata": {},
   "outputs": [
    {
     "data": {
      "text/plain": [
       "['1', '2', '10']"
      ]
     },
     "execution_count": 135,
     "metadata": {},
     "output_type": "execute_result"
    }
   ],
   "source": [
    "from natsort import natsorted\n",
    "natsorted(x)"
   ]
  },
  {
   "cell_type": "code",
   "execution_count": 138,
   "id": "b359b954",
   "metadata": {},
   "outputs": [
    {
     "name": "stdout",
     "output_type": "stream",
     "text": [
      "['001', '002', '010']\n"
     ]
    }
   ],
   "source": [
    "y = [f'{int(ele):03}' for ele in x]\n",
    "print(y)"
   ]
  },
  {
   "cell_type": "code",
   "execution_count": 140,
   "id": "90081e7f",
   "metadata": {},
   "outputs": [
    {
     "data": {
      "text/plain": [
       "['001', '002', '010']"
      ]
     },
     "execution_count": 140,
     "metadata": {},
     "output_type": "execute_result"
    }
   ],
   "source": [
    "sorted(y)"
   ]
  },
  {
   "cell_type": "code",
   "execution_count": 144,
   "id": "4f19ee42",
   "metadata": {},
   "outputs": [
    {
     "data": {
      "text/plain": [
       "[('ZNGA', 'Zynga Inc.', '$9.18', '+0.37', '48,193,380'),\n",
       " ('AAPL', 'Apple Inc.', '$164.71', '+1.97', '80,725,613'),\n",
       " ('NVDA', 'NVIDIA Corporation', '$240.82', '+3.34', '49,046,544'),\n",
       " ('AMD', 'Advanced Micro Devices, Inc.', '$120.88', '+4.27', '121,475,927'),\n",
       " ('OPEN', 'Opendoor Technologies Inc', '$8.42', '-2.55', '53,559,847')]"
      ]
     },
     "execution_count": 144,
     "metadata": {},
     "output_type": "execute_result"
    }
   ],
   "source": [
    "from natsort import natsorted\n",
    "natsorted(data, key=lambda ele: ele[3])"
   ]
  },
  {
   "cell_type": "code",
   "execution_count": 145,
   "id": "27af2d00",
   "metadata": {},
   "outputs": [
    {
     "data": {
      "text/plain": [
       "1"
      ]
     },
     "execution_count": 145,
     "metadata": {},
     "output_type": "execute_result"
    }
   ],
   "source": [
    "x = [1, 2, 3]\n",
    "x.index(2)"
   ]
  },
  {
   "cell_type": "code",
   "execution_count": 146,
   "id": "bd0b3013",
   "metadata": {},
   "outputs": [
    {
     "ename": "AttributeError",
     "evalue": "'list' object has no attribute 'abc'",
     "output_type": "error",
     "traceback": [
      "\u001b[1;31m---------------------------------------------------------------------------\u001b[0m",
      "\u001b[1;31mAttributeError\u001b[0m                            Traceback (most recent call last)",
      "\u001b[1;32m~\\AppData\\Local\\Temp/ipykernel_21336/2714459847.py\u001b[0m in \u001b[0;36m<module>\u001b[1;34m\u001b[0m\n\u001b[1;32m----> 1\u001b[1;33m \u001b[0mx\u001b[0m\u001b[1;33m.\u001b[0m\u001b[0mabc\u001b[0m\u001b[1;33m(\u001b[0m\u001b[1;33m)\u001b[0m\u001b[1;33m\u001b[0m\u001b[1;33m\u001b[0m\u001b[0m\n\u001b[0m",
      "\u001b[1;31mAttributeError\u001b[0m: 'list' object has no attribute 'abc'"
     ]
    }
   ],
   "source": [
    "x.abc()"
   ]
  },
  {
   "cell_type": "code",
   "execution_count": 148,
   "id": "5eaac0ec",
   "metadata": {},
   "outputs": [
    {
     "name": "stdout",
     "output_type": "stream",
     "text": [
      "The average score is 88.4.\n"
     ]
    }
   ],
   "source": [
    "# function \n",
    "def average(numbers): \n",
    "    return sum(numbers) / len(numbers)\n",
    "\n",
    "# data\n",
    "scores = [80, 90, 95, 92, 85]\n",
    "\n",
    "# User has to know which data to pass into function\n",
    "# to get desired output\n",
    "print(f'The average score is {average(scores)}.')\n"
   ]
  },
  {
   "cell_type": "code",
   "execution_count": 153,
   "id": "0b10b985",
   "metadata": {},
   "outputs": [],
   "source": [
    "# snake_case snake case\n",
    "# camelCase Camel Case\n",
    "# UpperCamelCase\n",
    "class ScoreList:\n",
    "    def __init__(self, scores):\n",
    "        self.scores = scores\n",
    "\n",
    "    def average(self):\n",
    "        return sum(self.scores) / len(self.scores)\n",
    "\n",
    "\n",
    "scores = ScoreList([80, 90, 95, 92, 85]) \n"
   ]
  },
  {
   "cell_type": "code",
   "execution_count": 154,
   "id": "8926e41d",
   "metadata": {},
   "outputs": [
    {
     "name": "stdout",
     "output_type": "stream",
     "text": [
      "<__main__.ScoreList object at 0x00000212F69C44F0>\n"
     ]
    }
   ],
   "source": [
    "print(scores)"
   ]
  },
  {
   "cell_type": "code",
   "execution_count": 155,
   "id": "8d8df0bb",
   "metadata": {},
   "outputs": [
    {
     "name": "stdout",
     "output_type": "stream",
     "text": [
      "The final score is 88.4.\n"
     ]
    }
   ],
   "source": [
    "print(f'The final score is {scores.average()}.')   "
   ]
  },
  {
   "cell_type": "code",
   "execution_count": 159,
   "id": "de4ea501",
   "metadata": {},
   "outputs": [
    {
     "ename": "AttributeError",
     "evalue": "'float' object has no attribute 'denominator'",
     "output_type": "error",
     "traceback": [
      "\u001b[1;31m---------------------------------------------------------------------------\u001b[0m",
      "\u001b[1;31mAttributeError\u001b[0m                            Traceback (most recent call last)",
      "\u001b[1;32m~\\AppData\\Local\\Temp/ipykernel_21336/1627184469.py\u001b[0m in \u001b[0;36m<module>\u001b[1;34m\u001b[0m\n\u001b[0;32m      1\u001b[0m \u001b[0mx\u001b[0m \u001b[1;33m=\u001b[0m \u001b[1;36m3\u001b[0m\u001b[1;33m/\u001b[0m\u001b[1;36m45\u001b[0m\u001b[1;33m\u001b[0m\u001b[1;33m\u001b[0m\u001b[0m\n\u001b[1;32m----> 2\u001b[1;33m \u001b[0mx\u001b[0m\u001b[1;33m.\u001b[0m\u001b[0mdenominator\u001b[0m\u001b[1;33m\u001b[0m\u001b[1;33m\u001b[0m\u001b[0m\n\u001b[0m",
      "\u001b[1;31mAttributeError\u001b[0m: 'float' object has no attribute 'denominator'"
     ]
    }
   ],
   "source": [
    "x = 3"
   ]
  },
  {
   "cell_type": "code",
   "execution_count": 161,
   "id": "22b798e9",
   "metadata": {},
   "outputs": [
    {
     "name": "stdout",
     "output_type": "stream",
     "text": [
      "10.0\n",
      "20.0\n"
     ]
    }
   ],
   "source": [
    "s1 = ScoreList([10, 10, 10])\n",
    "s2 = ScoreList([10, 20, 30])\n",
    "print(s1.average())\n",
    "print(s2.average())"
   ]
  },
  {
   "cell_type": "code",
   "execution_count": null,
   "id": "ebf3f4c5",
   "metadata": {},
   "outputs": [],
   "source": [
    "def __init__(self. .....):\n",
    "    pass"
   ]
  },
  {
   "cell_type": "code",
   "execution_count": 162,
   "id": "1a684db4",
   "metadata": {},
   "outputs": [
    {
     "ename": "TypeError",
     "evalue": "__init__() takes 1 positional argument but 2 were given",
     "output_type": "error",
     "traceback": [
      "\u001b[1;31m---------------------------------------------------------------------------\u001b[0m",
      "\u001b[1;31mTypeError\u001b[0m                                 Traceback (most recent call last)",
      "\u001b[1;32m~\\AppData\\Local\\Temp/ipykernel_21336/383485610.py\u001b[0m in \u001b[0;36m<module>\u001b[1;34m\u001b[0m\n\u001b[0;32m      3\u001b[0m         \u001b[1;32mpass\u001b[0m\u001b[1;33m\u001b[0m\u001b[1;33m\u001b[0m\u001b[0m\n\u001b[0;32m      4\u001b[0m \u001b[1;33m\u001b[0m\u001b[0m\n\u001b[1;32m----> 5\u001b[1;33m \u001b[0mt1\u001b[0m \u001b[1;33m=\u001b[0m \u001b[0mTest1\u001b[0m\u001b[1;33m(\u001b[0m\u001b[1;36m123\u001b[0m\u001b[1;33m)\u001b[0m\u001b[1;33m\u001b[0m\u001b[1;33m\u001b[0m\u001b[0m\n\u001b[0m",
      "\u001b[1;31mTypeError\u001b[0m: __init__() takes 1 positional argument but 2 were given"
     ]
    }
   ],
   "source": [
    "class Test1:\n",
    "    def __init__(self):\n",
    "        pass\n",
    "    \n",
    "t1 = Test1(123)"
   ]
  },
  {
   "cell_type": "code",
   "execution_count": 163,
   "id": "6fc46dcc",
   "metadata": {},
   "outputs": [
    {
     "name": "stdout",
     "output_type": "stream",
     "text": [
      "123\n"
     ]
    }
   ],
   "source": [
    "class Test1:\n",
    "    def __init__(self, number):\n",
    "        print(number)\n",
    "    \n",
    "t1 = Test1(123)"
   ]
  },
  {
   "cell_type": "code",
   "execution_count": 164,
   "id": "bfd1237d",
   "metadata": {},
   "outputs": [
    {
     "ename": "AttributeError",
     "evalue": "'Test1' object has no attribute 'number'",
     "output_type": "error",
     "traceback": [
      "\u001b[1;31m---------------------------------------------------------------------------\u001b[0m",
      "\u001b[1;31mAttributeError\u001b[0m                            Traceback (most recent call last)",
      "\u001b[1;32m~\\AppData\\Local\\Temp/ipykernel_21336/3131036292.py\u001b[0m in \u001b[0;36m<module>\u001b[1;34m\u001b[0m\n\u001b[1;32m----> 1\u001b[1;33m \u001b[0mt1\u001b[0m\u001b[1;33m.\u001b[0m\u001b[0mnumber\u001b[0m\u001b[1;33m\u001b[0m\u001b[1;33m\u001b[0m\u001b[0m\n\u001b[0m",
      "\u001b[1;31mAttributeError\u001b[0m: 'Test1' object has no attribute 'number'"
     ]
    }
   ],
   "source": [
    "t1.number"
   ]
  },
  {
   "cell_type": "code",
   "execution_count": 168,
   "id": "69171349",
   "metadata": {},
   "outputs": [],
   "source": [
    "class Test1:\n",
    "    def __init__(self, number):\n",
    "        self.num = number\n",
    "    \n",
    "t1 = Test1(123)"
   ]
  },
  {
   "cell_type": "code",
   "execution_count": 169,
   "id": "03bb68fb",
   "metadata": {},
   "outputs": [
    {
     "ename": "AttributeError",
     "evalue": "'Test1' object has no attribute 'number'",
     "output_type": "error",
     "traceback": [
      "\u001b[1;31m---------------------------------------------------------------------------\u001b[0m",
      "\u001b[1;31mAttributeError\u001b[0m                            Traceback (most recent call last)",
      "\u001b[1;32m~\\AppData\\Local\\Temp/ipykernel_21336/3131036292.py\u001b[0m in \u001b[0;36m<module>\u001b[1;34m\u001b[0m\n\u001b[1;32m----> 1\u001b[1;33m \u001b[0mt1\u001b[0m\u001b[1;33m.\u001b[0m\u001b[0mnumber\u001b[0m\u001b[1;33m\u001b[0m\u001b[1;33m\u001b[0m\u001b[0m\n\u001b[0m",
      "\u001b[1;31mAttributeError\u001b[0m: 'Test1' object has no attribute 'number'"
     ]
    }
   ],
   "source": [
    "t1.number"
   ]
  },
  {
   "cell_type": "code",
   "execution_count": 167,
   "id": "850c8f31",
   "metadata": {},
   "outputs": [
    {
     "data": {
      "text/plain": [
       "123"
      ]
     },
     "execution_count": 167,
     "metadata": {},
     "output_type": "execute_result"
    }
   ],
   "source": [
    "t1.num"
   ]
  },
  {
   "cell_type": "code",
   "execution_count": 170,
   "id": "322519ff",
   "metadata": {},
   "outputs": [],
   "source": [
    "class Test1:\n",
    "    def __init__(self):\n",
    "        pass\n",
    "    \n",
    "t1 = Test1()"
   ]
  },
  {
   "cell_type": "code",
   "execution_count": 171,
   "id": "aaa507f5",
   "metadata": {},
   "outputs": [
    {
     "data": {
      "text/plain": [
       "<__main__.Test1 at 0x212f6cf7730>"
      ]
     },
     "execution_count": 171,
     "metadata": {},
     "output_type": "execute_result"
    }
   ],
   "source": [
    "t1"
   ]
  },
  {
   "cell_type": "code",
   "execution_count": 175,
   "id": "3fe00253",
   "metadata": {},
   "outputs": [
    {
     "name": "stdout",
     "output_type": "stream",
     "text": [
      "23\n"
     ]
    }
   ],
   "source": [
    "class Test1:\n",
    "    def __init__(self, arg1):\n",
    "        self.arg = arg1\n",
    "        print(self.arg)\n",
    "    \n",
    "t1 = Test1(23)"
   ]
  },
  {
   "cell_type": "code",
   "execution_count": 179,
   "id": "2e4dd64d",
   "metadata": {},
   "outputs": [
    {
     "name": "stdout",
     "output_type": "stream",
     "text": [
      "23 24\n"
     ]
    }
   ],
   "source": [
    "class Test2:\n",
    "    def __init__(self, arg1, arg2):\n",
    "        self.arg1 = arg1\n",
    "        self.arg2 = arg2\n",
    "        print(self.arg1, self.arg2)\n",
    "    \n",
    "t2 = Test2(23, 24)"
   ]
  },
  {
   "cell_type": "code",
   "execution_count": 178,
   "id": "ba665dfb",
   "metadata": {},
   "outputs": [
    {
     "data": {
      "text/plain": [
       "<__main__.Test2 at 0x212f75d0bb0>"
      ]
     },
     "execution_count": 178,
     "metadata": {},
     "output_type": "execute_result"
    }
   ],
   "source": [
    "t2"
   ]
  },
  {
   "cell_type": "code",
   "execution_count": 181,
   "id": "760c94a1",
   "metadata": {},
   "outputs": [
    {
     "name": "stdout",
     "output_type": "stream",
     "text": [
      "115 72 23 24\n"
     ]
    }
   ],
   "source": [
    "class Test2:\n",
    "    def __init__(self, arg1, arg2):\n",
    "        self.arg1 = arg1 * 5\n",
    "        self.arg2 = arg2 * 3\n",
    "        print(self.arg1, self.arg2, arg1, arg2)\n",
    "    \n",
    "    def add(self):\n",
    "        return self.arg1 + self.arg2\n",
    "t2 = Test2(23, 24)"
   ]
  },
  {
   "cell_type": "code",
   "execution_count": 182,
   "id": "56b984ab",
   "metadata": {},
   "outputs": [
    {
     "data": {
      "text/plain": [
       "187"
      ]
     },
     "execution_count": 182,
     "metadata": {},
     "output_type": "execute_result"
    }
   ],
   "source": [
    "t2.add()"
   ]
  },
  {
   "cell_type": "code",
   "execution_count": 184,
   "id": "14c8f69e",
   "metadata": {},
   "outputs": [
    {
     "name": "stdout",
     "output_type": "stream",
     "text": [
      "115 72 23 24\n"
     ]
    }
   ],
   "source": [
    "class Test3:\n",
    "    def __init__(self, arg1, arg2):\n",
    "        self.arg1 = arg1 * 5\n",
    "        self.arg2 = arg2 * 3\n",
    "        print(self.arg1, self.arg2, arg1, arg2)\n",
    "    \n",
    "    def add(self, arg3):\n",
    "        return self.arg1 + self.arg2 + arg3\n",
    "t3 = Test3(23, 24)"
   ]
  },
  {
   "cell_type": "code",
   "execution_count": 185,
   "id": "71cbadf3",
   "metadata": {},
   "outputs": [
    {
     "data": {
      "text/plain": [
       "207"
      ]
     },
     "execution_count": 185,
     "metadata": {},
     "output_type": "execute_result"
    }
   ],
   "source": [
    "t3.add(20)"
   ]
  },
  {
   "cell_type": "code",
   "execution_count": 186,
   "id": "319eeb97",
   "metadata": {},
   "outputs": [
    {
     "data": {
      "text/plain": [
       "<__main__.Test3 at 0x212f70d8190>"
      ]
     },
     "execution_count": 186,
     "metadata": {},
     "output_type": "execute_result"
    }
   ],
   "source": [
    "t3"
   ]
  },
  {
   "cell_type": "code",
   "execution_count": 193,
   "id": "736dea69",
   "metadata": {},
   "outputs": [],
   "source": [
    "class Test4:\n",
    "    def __init__(self, arg1, arg2):\n",
    "        self.arg1 = arg1 \n",
    "        self.arg2 = arg2 \n",
    "    \n",
    "    def add(self):\n",
    "        return self.arg1 + self.arg2 \n",
    "    \n",
    "    def __repr__(self):\n",
    "        return f'The two values are {self.arg1} and {self.arg2}'\n",
    "    \n",
    "    \n",
    "t4_1 = Test4(23, 24)\n",
    "t4_2 = Test4(33, 44)"
   ]
  },
  {
   "cell_type": "code",
   "execution_count": 194,
   "id": "8c2f34d5",
   "metadata": {},
   "outputs": [
    {
     "data": {
      "text/plain": [
       "The two values are 23 and 24"
      ]
     },
     "execution_count": 194,
     "metadata": {},
     "output_type": "execute_result"
    }
   ],
   "source": [
    "t4_1"
   ]
  },
  {
   "cell_type": "code",
   "execution_count": 195,
   "id": "2c4f96d2",
   "metadata": {},
   "outputs": [
    {
     "name": "stdout",
     "output_type": "stream",
     "text": [
      "The two values are 23 and 24\n"
     ]
    }
   ],
   "source": [
    "print(t4_1)"
   ]
  },
  {
   "cell_type": "code",
   "execution_count": 196,
   "id": "fd750136",
   "metadata": {},
   "outputs": [
    {
     "name": "stdout",
     "output_type": "stream",
     "text": [
      "The two values are 33 and 44\n"
     ]
    }
   ],
   "source": [
    "print(t4_2)"
   ]
  },
  {
   "cell_type": "code",
   "execution_count": 213,
   "id": "e99c24c1",
   "metadata": {},
   "outputs": [
    {
     "name": "stdout",
     "output_type": "stream",
     "text": [
      "STR The two values are 23 and 24\n"
     ]
    }
   ],
   "source": [
    "class Test4:\n",
    "    def __init__(self, arg1, arg2):\n",
    "        self.arg1 = arg1 \n",
    "        self.arg2 = arg2 \n",
    "    \n",
    "    def add(self):\n",
    "        return self.arg1 + self.arg2 \n",
    "    \n",
    "    def __repr__(self):\n",
    "        return f'REPR The two values are {self.arg1} and {self.arg2}'\n",
    "    \n",
    "    def __str__(self):\n",
    "        return f'STR The two values are {self.arg1} and {self.arg2}'\n",
    "t4_1 = Test4(23, 24)\n",
    "print(t4_1)       "
   ]
  },
  {
   "cell_type": "code",
   "execution_count": 217,
   "id": "1d5dc431",
   "metadata": {},
   "outputs": [
    {
     "name": "stdout",
     "output_type": "stream",
     "text": [
      "<class '__main__.Test4'>\n",
      "<class 'int'>\n"
     ]
    }
   ],
   "source": [
    "\n",
    "print(type(t4_1))\n",
    "print(type(3))"
   ]
  },
  {
   "cell_type": "code",
   "execution_count": 209,
   "id": "9c3410d7",
   "metadata": {},
   "outputs": [
    {
     "name": "stdout",
     "output_type": "stream",
     "text": [
      "REPR The two values are 23 and 24\n"
     ]
    }
   ],
   "source": [
    "print(t4_1)"
   ]
  },
  {
   "cell_type": "code",
   "execution_count": 210,
   "id": "3a319cdf",
   "metadata": {},
   "outputs": [
    {
     "name": "stdout",
     "output_type": "stream",
     "text": [
      "3\n"
     ]
    }
   ],
   "source": [
    "print(3)"
   ]
  },
  {
   "cell_type": "code",
   "execution_count": null,
   "id": "595f1024",
   "metadata": {},
   "outputs": [],
   "source": [
    "print(t4_1)"
   ]
  },
  {
   "cell_type": "code",
   "execution_count": 220,
   "id": "1d735347",
   "metadata": {},
   "outputs": [],
   "source": [
    "class Person:\n",
    "    def __init__(self, first_name, last_name, email):\n",
    "        self.first_name = first_name\n",
    "        self.last_name = last_name\n",
    "        self.email = email\n",
    "        \n",
    "p1 = Person('John', 'Doe', 'jdoe@buffalo.edu')\n",
    "p2 = Person('Jane', 'Doe', 'jane@buffalo.edu')"
   ]
  },
  {
   "cell_type": "code",
   "execution_count": 221,
   "id": "e2a90acf",
   "metadata": {},
   "outputs": [
    {
     "data": {
      "text/plain": [
       "<__main__.Person at 0x212f755fa60>"
      ]
     },
     "execution_count": 221,
     "metadata": {},
     "output_type": "execute_result"
    }
   ],
   "source": [
    "p1"
   ]
  },
  {
   "cell_type": "code",
   "execution_count": 222,
   "id": "4096fd85",
   "metadata": {},
   "outputs": [
    {
     "data": {
      "text/plain": [
       "<__main__.Person at 0x212f755feb0>"
      ]
     },
     "execution_count": 222,
     "metadata": {},
     "output_type": "execute_result"
    }
   ],
   "source": [
    "p2"
   ]
  },
  {
   "cell_type": "code",
   "execution_count": 223,
   "id": "8e4a055c",
   "metadata": {},
   "outputs": [
    {
     "data": {
      "text/plain": [
       "'jdoe@buffalo.edu'"
      ]
     },
     "execution_count": 223,
     "metadata": {},
     "output_type": "execute_result"
    }
   ],
   "source": [
    "p1.email"
   ]
  },
  {
   "cell_type": "code",
   "execution_count": 224,
   "id": "2bda0526",
   "metadata": {},
   "outputs": [
    {
     "data": {
      "text/plain": [
       "'jane@buffalo.edu'"
      ]
     },
     "execution_count": 224,
     "metadata": {},
     "output_type": "execute_result"
    }
   ],
   "source": [
    "p2.email"
   ]
  },
  {
   "cell_type": "code",
   "execution_count": 225,
   "id": "081b5299",
   "metadata": {},
   "outputs": [],
   "source": [
    "class Person:\n",
    "    def __init__(self, first_name, last_name, email):\n",
    "        self.first_name = first_name\n",
    "        self.last_name = last_name\n",
    "        self.email = email\n",
    "\n",
    "    def __repr__(self):\n",
    "        return f'{self.first_name} {self.last_name}'\n",
    "    \n",
    "p1 = Person('John', 'Doe', 'jdoe@buffalo.edu')\n",
    "p2 = Person('Jane', 'Doe', 'jane@buffalo.edu')"
   ]
  },
  {
   "cell_type": "code",
   "execution_count": 226,
   "id": "391f0db6",
   "metadata": {},
   "outputs": [
    {
     "data": {
      "text/plain": [
       "John Doe"
      ]
     },
     "execution_count": 226,
     "metadata": {},
     "output_type": "execute_result"
    }
   ],
   "source": [
    "p1"
   ]
  },
  {
   "cell_type": "code",
   "execution_count": 227,
   "id": "9b8f0f0a",
   "metadata": {},
   "outputs": [
    {
     "data": {
      "text/plain": [
       "Jane Doe"
      ]
     },
     "execution_count": 227,
     "metadata": {},
     "output_type": "execute_result"
    }
   ],
   "source": [
    "p2"
   ]
  },
  {
   "cell_type": "code",
   "execution_count": 228,
   "id": "ddbcb3bf",
   "metadata": {},
   "outputs": [],
   "source": [
    "class Person:\n",
    "    def __init__(self, first_name, last_name, email):\n",
    "        self.first_name = first_name\n",
    "        self.last_name = last_name\n",
    "        self.email = email\n",
    "\n",
    "    def __repr__(self):\n",
    "        return f'{self.first_name} {self.last_name}'\n",
    "\n",
    "    def get_email(self):\n",
    "        return self.email\n",
    "\n",
    "    def get_full_name(self):\n",
    "        return f'{self.last_name}, {self.first_name}'\n",
    "    \n",
    "p1 = Person('John', 'Doe', 'jdoe@buffalo.edu')\n",
    "p2 = Person('Jane', 'Doe', 'jane@buffalo.edu')"
   ]
  },
  {
   "cell_type": "code",
   "execution_count": 229,
   "id": "0e56a5b4",
   "metadata": {},
   "outputs": [
    {
     "data": {
      "text/plain": [
       "'Doe, John'"
      ]
     },
     "execution_count": 229,
     "metadata": {},
     "output_type": "execute_result"
    }
   ],
   "source": [
    "p1.get_full_name()"
   ]
  },
  {
   "cell_type": "code",
   "execution_count": 232,
   "id": "ea079f10",
   "metadata": {},
   "outputs": [
    {
     "ename": "AttributeError",
     "evalue": "'Person' object has no attribute 'program'",
     "output_type": "error",
     "traceback": [
      "\u001b[1;31m---------------------------------------------------------------------------\u001b[0m",
      "\u001b[1;31mAttributeError\u001b[0m                            Traceback (most recent call last)",
      "\u001b[1;32m~\\AppData\\Local\\Temp/ipykernel_21336/2804816189.py\u001b[0m in \u001b[0;36m<module>\u001b[1;34m\u001b[0m\n\u001b[0;32m      1\u001b[0m \u001b[0mp2\u001b[0m\u001b[1;33m.\u001b[0m\u001b[0mget_full_name\u001b[0m\u001b[1;33m(\u001b[0m\u001b[1;33m)\u001b[0m\u001b[1;33m\u001b[0m\u001b[1;33m\u001b[0m\u001b[0m\n\u001b[1;32m----> 2\u001b[1;33m \u001b[0mp2\u001b[0m\u001b[1;33m.\u001b[0m\u001b[0mprogram\u001b[0m\u001b[1;33m\u001b[0m\u001b[1;33m\u001b[0m\u001b[0m\n\u001b[0m",
      "\u001b[1;31mAttributeError\u001b[0m: 'Person' object has no attribute 'program'"
     ]
    }
   ],
   "source": [
    "p2.get_full_name()\n",
    "p2.program"
   ]
  },
  {
   "cell_type": "code",
   "execution_count": 231,
   "id": "b0bf9b8b",
   "metadata": {},
   "outputs": [
    {
     "name": "stdout",
     "output_type": "stream",
     "text": [
      "John Doe\n"
     ]
    }
   ],
   "source": [
    "class Student(Person):\n",
    "    def __init__(self, first_name, last_name, email, program):\n",
    "        super().__init__(first_name, last_name, email)\n",
    "        self.program = program\n",
    "        \n",
    "s1 = Student('John', 'Doe', 'jdoe@buffalo.edu', 'Biology')\n",
    "\n",
    "print(s1)"
   ]
  },
  {
   "cell_type": "code",
   "execution_count": 233,
   "id": "37455731",
   "metadata": {},
   "outputs": [
    {
     "data": {
      "text/plain": [
       "'Biology'"
      ]
     },
     "execution_count": 233,
     "metadata": {},
     "output_type": "execute_result"
    }
   ],
   "source": [
    "s1.program"
   ]
  },
  {
   "cell_type": "code",
   "execution_count": 234,
   "id": "02acad77",
   "metadata": {},
   "outputs": [
    {
     "data": {
      "text/plain": [
       "'Doe, John'"
      ]
     },
     "execution_count": 234,
     "metadata": {},
     "output_type": "execute_result"
    }
   ],
   "source": [
    "s1.get_full_name()"
   ]
  },
  {
   "cell_type": "code",
   "execution_count": null,
   "id": "1b69e18a",
   "metadata": {},
   "outputs": [],
   "source": []
  }
 ],
 "metadata": {
  "kernelspec": {
   "display_name": "Python 3 (ipykernel)",
   "language": "python",
   "name": "python3"
  },
  "language_info": {
   "codemirror_mode": {
    "name": "ipython",
    "version": 3
   },
   "file_extension": ".py",
   "mimetype": "text/x-python",
   "name": "python",
   "nbconvert_exporter": "python",
   "pygments_lexer": "ipython3",
   "version": "3.8.12"
  }
 },
 "nbformat": 4,
 "nbformat_minor": 5
}
