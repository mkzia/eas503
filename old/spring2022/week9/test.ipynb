{
 "cells": [
  {
   "cell_type": "code",
   "execution_count": 1,
   "id": "42102469",
   "metadata": {},
   "outputs": [],
   "source": [
    "x = \"#CHROM\tPOS\tID\tREF\tALT\tQUAL\tFILTER\tINFO\tFORMAT\tXG102\tXG103\tXG104\tXG202\tXG203\tXG204\tXG302\tXG303\tXG304\tXG402\tXG403\tXG404\""
   ]
  },
  {
   "cell_type": "code",
   "execution_count": 2,
   "id": "b2a7a64a",
   "metadata": {},
   "outputs": [
    {
     "name": "stdout",
     "output_type": "stream",
     "text": [
      "#CHROM\tPOS\tID\tREF\tALT\tQUAL\tFILTER\tINFO\tFORMAT\tXG102\tXG103\tXG104\tXG202\tXG203\tXG204\tXG302\tXG303\tXG304\tXG402\tXG403\tXG404\n"
     ]
    }
   ],
   "source": [
    "print(x)"
   ]
  },
  {
   "cell_type": "code",
   "execution_count": 4,
   "id": "a5e37fc9",
   "metadata": {},
   "outputs": [
    {
     "data": {
      "text/plain": [
       "['CHROM',\n",
       " 'POS',\n",
       " 'ID',\n",
       " 'REF',\n",
       " 'ALT',\n",
       " 'QUAL',\n",
       " 'FILTER',\n",
       " 'INFO',\n",
       " 'FORMAT',\n",
       " 'XG102',\n",
       " 'XG103',\n",
       " 'XG104',\n",
       " 'XG202',\n",
       " 'XG203',\n",
       " 'XG204',\n",
       " 'XG302',\n",
       " 'XG303',\n",
       " 'XG304',\n",
       " 'XG402',\n",
       " 'XG403',\n",
       " 'XG404']"
      ]
     },
     "execution_count": 4,
     "metadata": {},
     "output_type": "execute_result"
    }
   ],
   "source": [
    "x[1:].split('\\t')"
   ]
  },
  {
   "cell_type": "code",
   "execution_count": null,
   "id": "1fc27c5a",
   "metadata": {},
   "outputs": [],
   "source": []
  }
 ],
 "metadata": {
  "kernelspec": {
   "display_name": "Python 3 (ipykernel)",
   "language": "python",
   "name": "python3"
  },
  "language_info": {
   "codemirror_mode": {
    "name": "ipython",
    "version": 3
   },
   "file_extension": ".py",
   "mimetype": "text/x-python",
   "name": "python",
   "nbconvert_exporter": "python",
   "pygments_lexer": "ipython3",
   "version": "3.8.12"
  }
 },
 "nbformat": 4,
 "nbformat_minor": 5
}
