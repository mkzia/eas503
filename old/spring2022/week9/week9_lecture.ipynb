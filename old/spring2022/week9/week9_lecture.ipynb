{
 "cells": [
  {
   "cell_type": "code",
   "execution_count": 6,
   "id": "9a97c82f",
   "metadata": {},
   "outputs": [],
   "source": [
    "filename = 'students.tsv'\n",
    "students_list = []\n",
    "with open(filename) as file:\n",
    "    for line in file:\n",
    "        if not line.strip():\n",
    "            continue\n",
    "        line = line.strip()\n",
    "        students_list.append(line.split('\\t'))\n"
   ]
  },
  {
   "cell_type": "code",
   "execution_count": 7,
   "id": "6e8ad062",
   "metadata": {},
   "outputs": [],
   "source": [
    "header = ['last_name', 'first_name', 'username', 'exam1', 'exam2', 'exam3']\n",
    "students_dict = []\n",
    "with open(filename) as file:\n",
    "    for line in file:\n",
    "        if not line.strip():\n",
    "            continue\n",
    "        line = line.strip()\n",
    "        students_dict.append(dict(zip(header, line.split('\\t'))))"
   ]
  },
  {
   "cell_type": "code",
   "execution_count": 8,
   "id": "692a6c9c",
   "metadata": {},
   "outputs": [
    {
     "name": "stdout",
     "output_type": "stream",
     "text": [
      "[('larsonmeli', '24'), ('novakmeli', '77'), ('sawyerwend', '81'), ('schultzmarc', '59'), ('veganich', '64'), ('adamsbren', '80'), ('thompsonchar', '37'), ('boothbrad', '85'), ('gallegoseuge', '34'), ('munozmary', '77'), ('careykimb', '29'), ('paulphil', '79'), ('reedmade', '16'), ('parsonscass', '61'), ('mcclainglen', '85'), ('oliverjani', '72'), ('lozanocath', '71'), ('kleinjohn', '3'), ('brooksmarc', '6'), ('leemich', '30'), ('myerseliz', '41'), ('bowenkath', '57'), ('gibsonedwa', '84'), ('smithchri', '25'), ('keydebr', '66'), ('flemingcarl', '50'), ('parrishnath', '47'), ('lewismich', '73'), ('diazdavi', '52'), ('walterlind', '28'), ('baileyaman', '27'), ('terrellrobe', '99'), ('johnsonjani', '22'), ('leejohn', '25'), ('dominguezkath', '21'), ('ellispaig', '41'), ('wilkinsonjenn', '52'), ('rodriguezmich', '94'), ('kennedylisa', '93'), ('hendersonmich', '91'), ('hilljame', '59'), ('jonesdavi', '37'), ('landrypatr', '41'), ('coxjero', '67'), ('santanalind', '77'), ('pattonrobe', '78'), ('mcleanchri', '59'), ('rhodesandr', '53'), ('ramseyjohn', '89'), ('martinpaul', '15'), ('perezkell', '6'), ('morantroy', '61'), ('kerrsara', '82'), ('wadestep', '9'), ('smithrebe', '3'), ('longjoel', '20'), ('ashleycody', '75'), ('patrickrach', '16'), ('oliveralex', '61'), ('hoffmanshan', '29'), ('holdenmich', '57'), ('grahamvane', '78'), ('blairchri', '70'), ('taylordian', '99'), ('reillybran', '10'), ('gamblematt', '48'), ('weberpatr', '87'), ('woodardjudy', '47'), ('hullalex', '38'), ('frankjess', '95'), ('davissamu', '22'), ('bairdalex', '32'), ('hensleyjame', '52'), ('lunacarm', '36'), ('garciabria', '37'), ('andrewsluis', '43'), ('watsonjess', '2'), ('evansdawn', '18'), ('barnestamm', '54'), ('nelsonange', '33'), ('pattersonjenn', '26'), ('kingaust', '64'), ('smithcaro', '73'), ('cooklisa', '66'), ('francisshaw', '37'), ('monroemich', '23'), ('cortezpatr', '18'), ('changkris', '78'), ('mcclainbran', '65'), ('sellersstep', '11'), ('olsenmari', '44'), ('meltonbria', '52'), ('dayjon', '15'), ('littlebria', '25'), ('johnsonwayn', '66'), ('duncanandr', '59'), ('bushalex', '82'), ('summersmich', '18'), ('bowerssand', '52'), ('fernandezjona', '74')]\n"
     ]
    }
   ],
   "source": [
    "# SELECT username, exam1 FROM STUDENTS;\n",
    "print(list(map(lambda row: (row[2], row[3]), students_list)))"
   ]
  },
  {
   "cell_type": "code",
   "execution_count": 9,
   "id": "8915b6f4",
   "metadata": {},
   "outputs": [
    {
     "name": "stdout",
     "output_type": "stream",
     "text": [
      "[('larsonmeli', '24'), ('novakmeli', '77'), ('sawyerwend', '81'), ('schultzmarc', '59'), ('veganich', '64'), ('adamsbren', '80'), ('thompsonchar', '37'), ('boothbrad', '85'), ('gallegoseuge', '34'), ('munozmary', '77'), ('careykimb', '29'), ('paulphil', '79'), ('reedmade', '16'), ('parsonscass', '61'), ('mcclainglen', '85'), ('oliverjani', '72'), ('lozanocath', '71'), ('kleinjohn', '3'), ('brooksmarc', '6'), ('leemich', '30'), ('myerseliz', '41'), ('bowenkath', '57'), ('gibsonedwa', '84'), ('smithchri', '25'), ('keydebr', '66'), ('flemingcarl', '50'), ('parrishnath', '47'), ('lewismich', '73'), ('diazdavi', '52'), ('walterlind', '28'), ('baileyaman', '27'), ('terrellrobe', '99'), ('johnsonjani', '22'), ('leejohn', '25'), ('dominguezkath', '21'), ('ellispaig', '41'), ('wilkinsonjenn', '52'), ('rodriguezmich', '94'), ('kennedylisa', '93'), ('hendersonmich', '91'), ('hilljame', '59'), ('jonesdavi', '37'), ('landrypatr', '41'), ('coxjero', '67'), ('santanalind', '77'), ('pattonrobe', '78'), ('mcleanchri', '59'), ('rhodesandr', '53'), ('ramseyjohn', '89'), ('martinpaul', '15'), ('perezkell', '6'), ('morantroy', '61'), ('kerrsara', '82'), ('wadestep', '9'), ('smithrebe', '3'), ('longjoel', '20'), ('ashleycody', '75'), ('patrickrach', '16'), ('oliveralex', '61'), ('hoffmanshan', '29'), ('holdenmich', '57'), ('grahamvane', '78'), ('blairchri', '70'), ('taylordian', '99'), ('reillybran', '10'), ('gamblematt', '48'), ('weberpatr', '87'), ('woodardjudy', '47'), ('hullalex', '38'), ('frankjess', '95'), ('davissamu', '22'), ('bairdalex', '32'), ('hensleyjame', '52'), ('lunacarm', '36'), ('garciabria', '37'), ('andrewsluis', '43'), ('watsonjess', '2'), ('evansdawn', '18'), ('barnestamm', '54'), ('nelsonange', '33'), ('pattersonjenn', '26'), ('kingaust', '64'), ('smithcaro', '73'), ('cooklisa', '66'), ('francisshaw', '37'), ('monroemich', '23'), ('cortezpatr', '18'), ('changkris', '78'), ('mcclainbran', '65'), ('sellersstep', '11'), ('olsenmari', '44'), ('meltonbria', '52'), ('dayjon', '15'), ('littlebria', '25'), ('johnsonwayn', '66'), ('duncanandr', '59'), ('bushalex', '82'), ('summersmich', '18'), ('bowerssand', '52'), ('fernandezjona', '74')]\n"
     ]
    }
   ],
   "source": [
    "# SELECT username, exam1 FROM STUDENTS;\n",
    "print(list(map(lambda row: (row.get('username'), row.get('exam1')), students_dict)))"
   ]
  },
  {
   "cell_type": "code",
   "execution_count": 10,
   "id": "393956bb",
   "metadata": {},
   "outputs": [
    {
     "data": {
      "text/plain": [
       "[('adamsbren', '80'),\n",
       " ('andrewsluis', '43'),\n",
       " ('ashleycody', '75'),\n",
       " ('baileyaman', '27'),\n",
       " ('bairdalex', '32'),\n",
       " ('barnestamm', '54'),\n",
       " ('blairchri', '70'),\n",
       " ('boothbrad', '85'),\n",
       " ('bowenkath', '57'),\n",
       " ('bowerssand', '52'),\n",
       " ('brooksmarc', '6'),\n",
       " ('bushalex', '82'),\n",
       " ('careykimb', '29'),\n",
       " ('changkris', '78'),\n",
       " ('cooklisa', '66'),\n",
       " ('cortezpatr', '18'),\n",
       " ('coxjero', '67'),\n",
       " ('davissamu', '22'),\n",
       " ('dayjon', '15'),\n",
       " ('diazdavi', '52'),\n",
       " ('dominguezkath', '21'),\n",
       " ('duncanandr', '59'),\n",
       " ('ellispaig', '41'),\n",
       " ('evansdawn', '18'),\n",
       " ('fernandezjona', '74'),\n",
       " ('flemingcarl', '50'),\n",
       " ('francisshaw', '37'),\n",
       " ('frankjess', '95'),\n",
       " ('gallegoseuge', '34'),\n",
       " ('gamblematt', '48'),\n",
       " ('garciabria', '37'),\n",
       " ('gibsonedwa', '84'),\n",
       " ('grahamvane', '78'),\n",
       " ('hendersonmich', '91'),\n",
       " ('hensleyjame', '52'),\n",
       " ('hilljame', '59'),\n",
       " ('hoffmanshan', '29'),\n",
       " ('holdenmich', '57'),\n",
       " ('hullalex', '38'),\n",
       " ('johnsonjani', '22'),\n",
       " ('johnsonwayn', '66'),\n",
       " ('jonesdavi', '37'),\n",
       " ('kennedylisa', '93'),\n",
       " ('kerrsara', '82'),\n",
       " ('keydebr', '66'),\n",
       " ('kingaust', '64'),\n",
       " ('kleinjohn', '3'),\n",
       " ('landrypatr', '41'),\n",
       " ('larsonmeli', '24'),\n",
       " ('leejohn', '25'),\n",
       " ('leemich', '30'),\n",
       " ('lewismich', '73'),\n",
       " ('littlebria', '25'),\n",
       " ('longjoel', '20'),\n",
       " ('lozanocath', '71'),\n",
       " ('lunacarm', '36'),\n",
       " ('martinpaul', '15'),\n",
       " ('mcclainbran', '65'),\n",
       " ('mcclainglen', '85'),\n",
       " ('mcleanchri', '59'),\n",
       " ('meltonbria', '52'),\n",
       " ('monroemich', '23'),\n",
       " ('morantroy', '61'),\n",
       " ('munozmary', '77'),\n",
       " ('myerseliz', '41'),\n",
       " ('nelsonange', '33'),\n",
       " ('novakmeli', '77'),\n",
       " ('oliveralex', '61'),\n",
       " ('oliverjani', '72'),\n",
       " ('olsenmari', '44'),\n",
       " ('parrishnath', '47'),\n",
       " ('parsonscass', '61'),\n",
       " ('patrickrach', '16'),\n",
       " ('pattersonjenn', '26'),\n",
       " ('pattonrobe', '78'),\n",
       " ('paulphil', '79'),\n",
       " ('perezkell', '6'),\n",
       " ('ramseyjohn', '89'),\n",
       " ('reedmade', '16'),\n",
       " ('reillybran', '10'),\n",
       " ('rhodesandr', '53'),\n",
       " ('rodriguezmich', '94'),\n",
       " ('santanalind', '77'),\n",
       " ('sawyerwend', '81'),\n",
       " ('schultzmarc', '59'),\n",
       " ('sellersstep', '11'),\n",
       " ('smithcaro', '73'),\n",
       " ('smithchri', '25'),\n",
       " ('smithrebe', '3'),\n",
       " ('summersmich', '18'),\n",
       " ('taylordian', '99'),\n",
       " ('terrellrobe', '99'),\n",
       " ('thompsonchar', '37'),\n",
       " ('veganich', '64'),\n",
       " ('wadestep', '9'),\n",
       " ('walterlind', '28'),\n",
       " ('watsonjess', '2'),\n",
       " ('weberpatr', '87'),\n",
       " ('wilkinsonjenn', '52'),\n",
       " ('woodardjudy', '47')]"
      ]
     },
     "execution_count": 10,
     "metadata": {},
     "output_type": "execute_result"
    }
   ],
   "source": [
    "# SELECT username, exam1 FROM STUDENTS ORDER BY username;\n",
    "sorted(map(lambda row: (row[2], row[3]), students_list), key=lambda row: row[0])"
   ]
  },
  {
   "cell_type": "code",
   "execution_count": 11,
   "id": "1159e082",
   "metadata": {},
   "outputs": [
    {
     "data": {
      "text/plain": [
       "[('adamsbren', '80'),\n",
       " ('andrewsluis', '43'),\n",
       " ('ashleycody', '75'),\n",
       " ('baileyaman', '27'),\n",
       " ('bairdalex', '32'),\n",
       " ('barnestamm', '54'),\n",
       " ('blairchri', '70'),\n",
       " ('boothbrad', '85'),\n",
       " ('bowenkath', '57'),\n",
       " ('bowerssand', '52'),\n",
       " ('brooksmarc', '6'),\n",
       " ('bushalex', '82'),\n",
       " ('careykimb', '29'),\n",
       " ('changkris', '78'),\n",
       " ('cooklisa', '66'),\n",
       " ('cortezpatr', '18'),\n",
       " ('coxjero', '67'),\n",
       " ('davissamu', '22'),\n",
       " ('dayjon', '15'),\n",
       " ('diazdavi', '52')]"
      ]
     },
     "execution_count": 11,
     "metadata": {},
     "output_type": "execute_result"
    }
   ],
   "source": [
    "sorted(map(lambda row: (row[2], row[3]), students_list), key=lambda row: row[0])[:20]"
   ]
  },
  {
   "cell_type": "code",
   "execution_count": 16,
   "id": "d9cba533",
   "metadata": {},
   "outputs": [
    {
     "data": {
      "text/plain": [
       "[('watsonjess', '2', '44'),\n",
       " ('kleinjohn', '3', '43'),\n",
       " ('smithrebe', '3', '75'),\n",
       " ('brooksmarc', '6', '81'),\n",
       " ('perezkell', '6', '22'),\n",
       " ('wadestep', '9', '69'),\n",
       " ('reillybran', '10', '94'),\n",
       " ('sellersstep', '11', '83'),\n",
       " ('martinpaul', '15', '11'),\n",
       " ('dayjon', '15', '55')]"
      ]
     },
     "execution_count": 16,
     "metadata": {},
     "output_type": "execute_result"
    }
   ],
   "source": [
    "sorted(map(lambda row: (row[2], row[3], row[4]), students_list), key=lambda row: int(row[1]))[:10]"
   ]
  },
  {
   "cell_type": "code",
   "execution_count": 24,
   "id": "95a7cc7f",
   "metadata": {},
   "outputs": [
    {
     "data": {
      "text/plain": [
       "(50.01, 51.51, 51.14)"
      ]
     },
     "execution_count": 24,
     "metadata": {},
     "output_type": "execute_result"
    }
   ],
   "source": [
    "# SELECT \n",
    "#  avg(exam1) as `Exam1 Average`, avg(exam2), avg(exam3)\n",
    "#  FROM students;\n",
    "\n",
    "exam1, exam2, exam3 = zip(*map(lambda row: (int(row[3]), int(row[4]), int(row[5])), students_list))\n",
    "(sum(exam1)/len(exam1), sum(exam2)/len(exam2), sum(exam3)/len(exam3))"
   ]
  },
  {
   "cell_type": "code",
   "execution_count": 23,
   "id": "482190d5",
   "metadata": {},
   "outputs": [
    {
     "data": {
      "text/plain": [
       "(50.01, 51.51, 51.14)"
      ]
     },
     "execution_count": 23,
     "metadata": {},
     "output_type": "execute_result"
    }
   ],
   "source": []
  },
  {
   "cell_type": "code",
   "execution_count": 27,
   "id": "8912d6a8",
   "metadata": {},
   "outputs": [
    {
     "data": {
      "text/plain": [
       "[('sawyerwend', '81'),\n",
       " ('boothbrad', '85'),\n",
       " ('mcclainglen', '85'),\n",
       " ('gibsonedwa', '84'),\n",
       " ('terrellrobe', '99'),\n",
       " ('rodriguezmich', '94'),\n",
       " ('kennedylisa', '93'),\n",
       " ('hendersonmich', '91'),\n",
       " ('ramseyjohn', '89'),\n",
       " ('kerrsara', '82'),\n",
       " ('taylordian', '99'),\n",
       " ('weberpatr', '87'),\n",
       " ('frankjess', '95'),\n",
       " ('bushalex', '82')]"
      ]
     },
     "execution_count": 27,
     "metadata": {},
     "output_type": "execute_result"
    }
   ],
   "source": [
    "list(filter(lambda row: int(row[1]) > 80, map(lambda row: (row[2], row[3]), students_list)))"
   ]
  },
  {
   "cell_type": "code",
   "execution_count": 28,
   "id": "32fd2072",
   "metadata": {},
   "outputs": [
    {
     "data": {
      "text/plain": [
       "[('sawyerwend', '81'),\n",
       " ('boothbrad', '85'),\n",
       " ('mcclainglen', '85'),\n",
       " ('gibsonedwa', '84'),\n",
       " ('ramseyjohn', '89'),\n",
       " ('kerrsara', '82'),\n",
       " ('weberpatr', '87'),\n",
       " ('bushalex', '82')]"
      ]
     },
     "execution_count": 28,
     "metadata": {},
     "output_type": "execute_result"
    }
   ],
   "source": [
    "list(filter(lambda row: 80 < int(row[1]) < 90, map(lambda row: (row[2], row[3]), students_list)))"
   ]
  },
  {
   "cell_type": "code",
   "execution_count": 29,
   "id": "4179a94c",
   "metadata": {},
   "outputs": [
    {
     "data": {
      "text/plain": [
       "[['Larson', 'Melissa', 'larsonmeli', '24', '89', '31'],\n",
       " ['Novak', 'Melissa', 'novakmeli', '77', '3', '38']]"
      ]
     },
     "execution_count": 29,
     "metadata": {},
     "output_type": "execute_result"
    }
   ],
   "source": [
    "list(filter(lambda row: row[1] == 'Melissa', students_list))"
   ]
  },
  {
   "cell_type": "code",
   "execution_count": 30,
   "id": "de61a6bf",
   "metadata": {},
   "outputs": [
    {
     "data": {
      "text/plain": [
       "[['Larson', 'Melissa', 'larsonmeli', '24', '89', '31'],\n",
       " ['Novak', 'Melissa', 'novakmeli', '77', '3', '38'],\n",
       " ['Wade', 'Stephanie', 'wadestep', '9', '69', '31'],\n",
       " ['Oliver', 'Alex', 'oliveralex', '61', '22', '6'],\n",
       " ['Sellers', 'Stephanie', 'sellersstep', '11', '83', '76']]"
      ]
     },
     "execution_count": 30,
     "metadata": {},
     "output_type": "execute_result"
    }
   ],
   "source": [
    "list(filter(lambda row: row[1] in('Melissa', 'Stephanie', 'Alex'), students_list))"
   ]
  },
  {
   "cell_type": "code",
   "execution_count": 31,
   "id": "073ebafa",
   "metadata": {},
   "outputs": [
    {
     "data": {
      "text/plain": [
       "[['Oliver', 'Alex', 'oliveralex', '61', '22', '6'],\n",
       " ['Hull', 'Alexandra', 'hullalex', '38', '7', '42'],\n",
       " ['Baird', 'Alexandra', 'bairdalex', '32', '90', '71'],\n",
       " ['Bush', 'Alexander', 'bushalex', '82', '54', '25']]"
      ]
     },
     "execution_count": 31,
     "metadata": {},
     "output_type": "execute_result"
    }
   ],
   "source": [
    "list(filter(lambda row: row[1].startswith('Alex'), students_list))"
   ]
  },
  {
   "cell_type": "code",
   "execution_count": 32,
   "id": "62b769ed",
   "metadata": {},
   "outputs": [
    {
     "data": {
      "text/plain": [
       "[['Lozano', 'Catherine', 'lozanocath', '71', '19', '94'],\n",
       " ['Bowen', 'Katherine', 'bowenkath', '57', '61', '34'],\n",
       " ['Parrish', 'Nathan', 'parrishnath', '47', '92', '45'],\n",
       " ['Dominguez', 'Kathryn', 'dominguezkath', '21', '82', '31'],\n",
       " ['Fernandez', 'Jonathan', 'fernandezjona', '74', '80', '22']]"
      ]
     },
     "execution_count": 32,
     "metadata": {},
     "output_type": "execute_result"
    }
   ],
   "source": [
    "list(filter(lambda row: 'ath' in row[1], students_list))"
   ]
  },
  {
   "cell_type": "code",
   "execution_count": 34,
   "id": "11751a21",
   "metadata": {},
   "outputs": [
    {
     "name": "stdout",
     "output_type": "stream",
     "text": [
      "Counter({'52': 5, '59': 4, '37': 4, '77': 3, '61': 3, '41': 3, '25': 3, '66': 3, '78': 3, '18': 3, '64': 2, '85': 2, '29': 2, '16': 2, '3': 2, '6': 2, '57': 2, '47': 2, '73': 2, '99': 2, '22': 2, '15': 2, '82': 2, '24': 1, '81': 1, '80': 1, '34': 1, '79': 1, '72': 1, '71': 1, '30': 1, '84': 1, '50': 1, '28': 1, '27': 1, '21': 1, '94': 1, '93': 1, '91': 1, '67': 1, '53': 1, '89': 1, '9': 1, '20': 1, '75': 1, '70': 1, '10': 1, '48': 1, '87': 1, '38': 1, '95': 1, '32': 1, '36': 1, '43': 1, '2': 1, '54': 1, '33': 1, '26': 1, '23': 1, '65': 1, '11': 1, '44': 1, '74': 1})\n"
     ]
    }
   ],
   "source": [
    "from collections import Counter\n",
    "\n",
    "exam1 = [student[3] for student in students_list]\n",
    "c = Counter(exam1)\n",
    "print(c)"
   ]
  },
  {
   "cell_type": "code",
   "execution_count": null,
   "id": "33701d80",
   "metadata": {},
   "outputs": [],
   "source": []
  }
 ],
 "metadata": {
  "kernelspec": {
   "display_name": "Python 3 (ipykernel)",
   "language": "python",
   "name": "python3"
  },
  "language_info": {
   "codemirror_mode": {
    "name": "ipython",
    "version": 3
   },
   "file_extension": ".py",
   "mimetype": "text/x-python",
   "name": "python",
   "nbconvert_exporter": "python",
   "pygments_lexer": "ipython3",
   "version": "3.8.12"
  }
 },
 "nbformat": 4,
 "nbformat_minor": 5
}
