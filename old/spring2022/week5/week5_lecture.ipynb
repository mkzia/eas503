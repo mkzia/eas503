{
 "cells": [
  {
   "cell_type": "code",
   "execution_count": null,
   "id": "7f84ae33",
   "metadata": {},
   "outputs": [],
   "source": [
    "Exam dates\n",
    "3/4 -- Numerical\n",
    "3/8 -- Stats\n",
    "3/14 -- Cyber Security\n",
    "3/17 -- Numerical\n",
    "3/31 -- Probablity \n",
    "\n",
    "\n"
   ]
  },
  {
   "cell_type": "code",
   "execution_count": 1,
   "id": "2570093d",
   "metadata": {},
   "outputs": [
    {
     "name": "stdout",
     "output_type": "stream",
     "text": [
      "1\n",
      "2\n",
      "3\n",
      "4\n",
      "Test\n"
     ]
    }
   ],
   "source": [
    "sequence = [1, 2, 3, 4, 'Test']\n",
    "\n",
    "for element in sequence:\n",
    "    print(element)"
   ]
  },
  {
   "cell_type": "code",
   "execution_count": 2,
   "id": "cb6ec8e2",
   "metadata": {},
   "outputs": [
    {
     "name": "stdout",
     "output_type": "stream",
     "text": [
      "1\n",
      "2\n",
      "3\n",
      "4\n",
      "Test\n"
     ]
    }
   ],
   "source": [
    "for s in sequence:\n",
    "    print(s)"
   ]
  },
  {
   "cell_type": "code",
   "execution_count": 3,
   "id": "9740d2eb",
   "metadata": {},
   "outputs": [
    {
     "name": "stdout",
     "output_type": "stream",
     "text": [
      "[1, 4, 9, 16]\n"
     ]
    }
   ],
   "source": [
    "# [ f(ele) for ele in sequence ]\n",
    "\n",
    "sequence = [1, 2, 3, 4,]\n",
    "output = []\n",
    "for ele in sequence:\n",
    "    output.append(ele*ele)\n",
    "print(output)"
   ]
  },
  {
   "cell_type": "code",
   "execution_count": 4,
   "id": "2bb99d41",
   "metadata": {},
   "outputs": [],
   "source": [
    "output = [ele*ele for ele in sequence]"
   ]
  },
  {
   "cell_type": "code",
   "execution_count": 5,
   "id": "28fb76bf",
   "metadata": {},
   "outputs": [
    {
     "name": "stdout",
     "output_type": "stream",
     "text": [
      "[1, 4, 9, 16]\n"
     ]
    }
   ],
   "source": [
    "print(output)"
   ]
  },
  {
   "cell_type": "code",
   "execution_count": 6,
   "id": "48fb71a8",
   "metadata": {},
   "outputs": [],
   "source": [
    "output = [pow(ele,3) for ele in sequence]"
   ]
  },
  {
   "cell_type": "code",
   "execution_count": 7,
   "id": "bd5568c3",
   "metadata": {},
   "outputs": [
    {
     "data": {
      "text/plain": [
       "[1, 8, 27, 64]"
      ]
     },
     "execution_count": 7,
     "metadata": {},
     "output_type": "execute_result"
    }
   ],
   "source": [
    "output"
   ]
  },
  {
   "cell_type": "code",
   "execution_count": 8,
   "id": "01db0272",
   "metadata": {},
   "outputs": [],
   "source": [
    "output = [str(ele) for ele in sequence]"
   ]
  },
  {
   "cell_type": "code",
   "execution_count": 9,
   "id": "650824af",
   "metadata": {},
   "outputs": [
    {
     "data": {
      "text/plain": [
       "['1', '2', '3', '4']"
      ]
     },
     "execution_count": 9,
     "metadata": {},
     "output_type": "execute_result"
    }
   ],
   "source": [
    "output"
   ]
  },
  {
   "cell_type": "code",
   "execution_count": 12,
   "id": "bb3f9c8e",
   "metadata": {},
   "outputs": [
    {
     "name": "stdout",
     "output_type": "stream",
     "text": [
      "[4, 16]\n"
     ]
    }
   ],
   "source": [
    "# [ f(ele) for ele in sequence if condition ]\n",
    "\n",
    "output = []\n",
    "for ele in sequence:\n",
    "    if ele % 2 == 0:\n",
    "        output.append(ele*ele)\n",
    "print(output)"
   ]
  },
  {
   "cell_type": "code",
   "execution_count": 13,
   "id": "46d52dd2",
   "metadata": {},
   "outputs": [
    {
     "name": "stdout",
     "output_type": "stream",
     "text": [
      "[4, 16]\n"
     ]
    }
   ],
   "source": [
    "\n",
    "output = [ele*ele for ele in sequence if ele % 2 == 0]\n",
    "print(output)"
   ]
  },
  {
   "cell_type": "code",
   "execution_count": 14,
   "id": "dd2526af",
   "metadata": {},
   "outputs": [
    {
     "name": "stdout",
     "output_type": "stream",
     "text": [
      "[1, 4, 27, 16]\n"
     ]
    }
   ],
   "source": [
    "# [ f(ele) if condition else g(ele) for ele in sequence ]\n",
    "output = []\n",
    "for ele in sequence:\n",
    "    if ele % 2 == 0:\n",
    "        output.append(ele*ele)\n",
    "    else:\n",
    "        output.append(ele**3)\n",
    "print(output)"
   ]
  },
  {
   "cell_type": "code",
   "execution_count": 15,
   "id": "302be1ee",
   "metadata": {},
   "outputs": [
    {
     "name": "stdout",
     "output_type": "stream",
     "text": [
      "[1, 4, 27, 16]\n"
     ]
    }
   ],
   "source": [
    "output = [ele*ele if ele % 2 == 0 else ele**3 for ele in sequence ]\n",
    "print(output)"
   ]
  },
  {
   "cell_type": "code",
   "execution_count": 16,
   "id": "41ffb7e0",
   "metadata": {},
   "outputs": [
    {
     "name": "stdout",
     "output_type": "stream",
     "text": [
      "[1, 4, 9]\n",
      "[1, 4, 9]\n"
     ]
    }
   ],
   "source": [
    "my_list = [1, 2, 3]\n",
    "new_list = []\n",
    "for ele in my_list:\n",
    "    tmp = ele * ele\n",
    "    new_list.append(tmp)\n",
    "print(new_list)\n",
    "    \n",
    "output = [ele*ele for ele in my_list ]\n",
    "print(output)"
   ]
  },
  {
   "cell_type": "code",
   "execution_count": 17,
   "id": "3161629f",
   "metadata": {},
   "outputs": [
    {
     "name": "stdout",
     "output_type": "stream",
     "text": [
      "[10, 20, 30]\n",
      "[10, 20, 30]\n"
     ]
    }
   ],
   "source": [
    "my_list = [1, 2, 3]\n",
    "new_list = []\n",
    "for ele in my_list:\n",
    "    tmp = ele * 10\n",
    "    new_list.append(tmp)\n",
    "\n",
    "print(new_list)\n",
    "    \n",
    "output = [ele*10 for ele in my_list ]\n",
    "print(output)"
   ]
  },
  {
   "cell_type": "code",
   "execution_count": 19,
   "id": "08b98142",
   "metadata": {},
   "outputs": [
    {
     "name": "stdout",
     "output_type": "stream",
     "text": [
      "BUFFALO\n"
     ]
    }
   ],
   "source": [
    "animal = 'buffalo'\n",
    "output = ''.join([a.upper() for a in animal])\n",
    "print(output)"
   ]
  },
  {
   "cell_type": "code",
   "execution_count": 20,
   "id": "a03cfe0a",
   "metadata": {},
   "outputs": [
    {
     "data": {
      "text/plain": [
       "'BUFFALO'"
      ]
     },
     "execution_count": 20,
     "metadata": {},
     "output_type": "execute_result"
    }
   ],
   "source": [
    "animal.upper()"
   ]
  },
  {
   "cell_type": "code",
   "execution_count": 21,
   "id": "653209ba",
   "metadata": {},
   "outputs": [
    {
     "name": "stdout",
     "output_type": "stream",
     "text": [
      "b\n",
      "u\n",
      "f\n",
      "f\n",
      "a\n",
      "l\n",
      "o\n"
     ]
    }
   ],
   "source": [
    "for a in animal:\n",
    "    print(a)"
   ]
  },
  {
   "cell_type": "code",
   "execution_count": 23,
   "id": "e7707cd5",
   "metadata": {},
   "outputs": [],
   "source": [
    "tmp = [a.upper() for a in animal]"
   ]
  },
  {
   "cell_type": "code",
   "execution_count": 26,
   "id": "2783bbe3",
   "metadata": {},
   "outputs": [
    {
     "data": {
      "text/plain": [
       "'B, U, F, F, A, L, O'"
      ]
     },
     "execution_count": 26,
     "metadata": {},
     "output_type": "execute_result"
    }
   ],
   "source": [
    "', '.join(tmp)"
   ]
  },
  {
   "cell_type": "code",
   "execution_count": 27,
   "id": "ff03df77",
   "metadata": {},
   "outputs": [
    {
     "name": "stdout",
     "output_type": "stream",
     "text": [
      "['John', 'Jane', 'Doe']\n"
     ]
    }
   ],
   "source": [
    "students = ['john', 'jane', 'doe']\n",
    "\n",
    "output = [s.capitalize() for s in students]\n",
    "print(output)"
   ]
  },
  {
   "cell_type": "code",
   "execution_count": 28,
   "id": "063cef51",
   "metadata": {},
   "outputs": [
    {
     "name": "stdout",
     "output_type": "stream",
     "text": [
      "['John', 'Jane', 'Doe']\n"
     ]
    }
   ],
   "source": [
    "output = [s.title() for s in students]\n",
    "print(output)"
   ]
  },
  {
   "cell_type": "code",
   "execution_count": 29,
   "id": "99da673a",
   "metadata": {},
   "outputs": [
    {
     "data": {
      "text/plain": [
       "'Abc Egg Hij'"
      ]
     },
     "execution_count": 29,
     "metadata": {},
     "output_type": "execute_result"
    }
   ],
   "source": [
    "'abc egg hij'.title()"
   ]
  },
  {
   "cell_type": "code",
   "execution_count": 30,
   "id": "4b7fd4f2",
   "metadata": {},
   "outputs": [
    {
     "data": {
      "text/plain": [
       "'Abc egg hij'"
      ]
     },
     "execution_count": 30,
     "metadata": {},
     "output_type": "execute_result"
    }
   ],
   "source": [
    "'abc egg hij'.capitalize()"
   ]
  },
  {
   "cell_type": "code",
   "execution_count": 34,
   "id": "0c8c36ac",
   "metadata": {},
   "outputs": [
    {
     "name": "stdout",
     "output_type": "stream",
     "text": [
      "[False, False, False, True]\n"
     ]
    }
   ],
   "source": [
    "my_list = [0, '', [], 90]\n",
    "\n",
    "output = [bool(l) for l in my_list]\n",
    "print(output)"
   ]
  },
  {
   "cell_type": "code",
   "execution_count": 35,
   "id": "9868e3d2",
   "metadata": {},
   "outputs": [
    {
     "data": {
      "text/plain": [
       "['0', '1', '2', '3', '4', '5']"
      ]
     },
     "execution_count": 35,
     "metadata": {},
     "output_type": "execute_result"
    }
   ],
   "source": [
    "my_list = range(6)\n",
    "[str(l) for l in my_list]"
   ]
  },
  {
   "cell_type": "code",
   "execution_count": 36,
   "id": "f85e9ffb",
   "metadata": {},
   "outputs": [
    {
     "data": {
      "text/plain": [
       "[0, 2, 4, 6, 8, 10, 12, 14, 16, 18]"
      ]
     },
     "execution_count": 36,
     "metadata": {},
     "output_type": "execute_result"
    }
   ],
   "source": [
    "numbers = range(20)\n",
    "\n",
    "[n for n in numbers if n % 2 == 0]"
   ]
  },
  {
   "cell_type": "code",
   "execution_count": 37,
   "id": "409663d4",
   "metadata": {},
   "outputs": [
    {
     "data": {
      "text/plain": [
       "[1, 3, 5, 7, 9, 11, 13, 15, 17, 19]"
      ]
     },
     "execution_count": 37,
     "metadata": {},
     "output_type": "execute_result"
    }
   ],
   "source": [
    "[n for n in numbers if n % 2 != 0]"
   ]
  },
  {
   "cell_type": "code",
   "execution_count": null,
   "id": "eb59301f",
   "metadata": {},
   "outputs": [],
   "source": [
    "sentence = 'I rEAlly want to gO to work'\n",
    "\n"
   ]
  },
  {
   "cell_type": "code",
   "execution_count": 38,
   "id": "899cb4a7",
   "metadata": {},
   "outputs": [
    {
     "data": {
      "text/plain": [
       "True"
      ]
     },
     "execution_count": 38,
     "metadata": {},
     "output_type": "execute_result"
    }
   ],
   "source": [
    "month = 'January'\n",
    "\n",
    "days_31 = ['January', 'March', 'May', 'July', 'August', 'October', 'December']\n",
    "month in days_31"
   ]
  },
  {
   "cell_type": "code",
   "execution_count": 41,
   "id": "051a9b8f",
   "metadata": {},
   "outputs": [
    {
     "data": {
      "text/plain": [
       "False"
      ]
     },
     "execution_count": 41,
     "metadata": {},
     "output_type": "execute_result"
    }
   ],
   "source": [
    "month == 'December' or month == 'March' or month == 'July'\n"
   ]
  },
  {
   "cell_type": "code",
   "execution_count": 44,
   "id": "f23d53af",
   "metadata": {},
   "outputs": [
    {
     "data": {
      "text/plain": [
       "' rlly wnt t g t wrk'"
      ]
     },
     "execution_count": 44,
     "metadata": {},
     "output_type": "execute_result"
    }
   ],
   "source": [
    "sentence = 'I rEAlly want to gO to work'\n",
    "vowels = ['a', 'e', 'i', 'o', 'u']\n",
    "''.join([s for s in sentence if s.lower() not in vowels])"
   ]
  },
  {
   "cell_type": "code",
   "execution_count": 45,
   "id": "8d9f1ffe",
   "metadata": {},
   "outputs": [
    {
     "data": {
      "text/plain": [
       "' rlly wnt t g t wrk'"
      ]
     },
     "execution_count": 45,
     "metadata": {},
     "output_type": "execute_result"
    }
   ],
   "source": [
    "sentence = 'I rEAlly want to gO to work'\n",
    "vowels = 'aeiou'\n",
    "''.join([s for s in sentence if s.lower() not in vowels])"
   ]
  },
  {
   "cell_type": "code",
   "execution_count": 48,
   "id": "5eca61db",
   "metadata": {},
   "outputs": [
    {
     "data": {
      "text/plain": [
       "True"
      ]
     },
     "execution_count": 48,
     "metadata": {},
     "output_type": "execute_result"
    }
   ],
   "source": [
    "month = 'April'\n",
    "\n",
    "days_31 = ['January', 'March', 'May', 'July', 'August', 'October', 'December']\n",
    "days_30 = ['April', 'June', 'September', 'November']\n",
    "\n",
    "\n",
    "month in days_31 or month  in days_30 or month == 'February'"
   ]
  },
  {
   "cell_type": "code",
   "execution_count": 50,
   "id": "e49b2749",
   "metadata": {},
   "outputs": [
    {
     "data": {
      "text/plain": [
       "31"
      ]
     },
     "execution_count": 50,
     "metadata": {},
     "output_type": "execute_result"
    }
   ],
   "source": [
    "days = [0, 31, 28, 31, 30, 31, 30, 31, 31, 30, 31, 30, 31]\n",
    "days[7]"
   ]
  },
  {
   "cell_type": "code",
   "execution_count": 51,
   "id": "8dbccae9",
   "metadata": {},
   "outputs": [],
   "source": [
    "A = {0, 2, 4, 6, 8}\n",
    "B = {1, 2, 3, 4, 5}\n"
   ]
  },
  {
   "cell_type": "code",
   "execution_count": 52,
   "id": "03bc5a8f",
   "metadata": {},
   "outputs": [
    {
     "data": {
      "text/plain": [
       "True"
      ]
     },
     "execution_count": 52,
     "metadata": {},
     "output_type": "execute_result"
    }
   ],
   "source": [
    "2 in A"
   ]
  },
  {
   "cell_type": "code",
   "execution_count": 53,
   "id": "dae1be70",
   "metadata": {},
   "outputs": [
    {
     "data": {
      "text/plain": [
       "{0, 1, 2, 3, 4, 5, 6, 8}"
      ]
     },
     "execution_count": 53,
     "metadata": {},
     "output_type": "execute_result"
    }
   ],
   "source": [
    "A | B"
   ]
  },
  {
   "cell_type": "code",
   "execution_count": 54,
   "id": "ba283e9b",
   "metadata": {},
   "outputs": [
    {
     "data": {
      "text/plain": [
       "{2, 4}"
      ]
     },
     "execution_count": 54,
     "metadata": {},
     "output_type": "execute_result"
    }
   ],
   "source": [
    "A & B"
   ]
  },
  {
   "cell_type": "code",
   "execution_count": 55,
   "id": "b980c299",
   "metadata": {},
   "outputs": [
    {
     "data": {
      "text/plain": [
       "{0, 6, 8}"
      ]
     },
     "execution_count": 55,
     "metadata": {},
     "output_type": "execute_result"
    }
   ],
   "source": [
    "A - B # (remove from A the shared values)"
   ]
  },
  {
   "cell_type": "code",
   "execution_count": 56,
   "id": "74e4a2e1",
   "metadata": {},
   "outputs": [
    {
     "data": {
      "text/plain": [
       "{1, 3, 5}"
      ]
     },
     "execution_count": 56,
     "metadata": {},
     "output_type": "execute_result"
    }
   ],
   "source": [
    "B - A"
   ]
  },
  {
   "cell_type": "code",
   "execution_count": 57,
   "id": "f0a3db64",
   "metadata": {},
   "outputs": [
    {
     "data": {
      "text/plain": [
       "{0, 1, 3, 5, 6, 8}"
      ]
     },
     "execution_count": 57,
     "metadata": {},
     "output_type": "execute_result"
    }
   ],
   "source": [
    "A ^ B"
   ]
  },
  {
   "cell_type": "code",
   "execution_count": 58,
   "id": "7411bb04",
   "metadata": {},
   "outputs": [
    {
     "data": {
      "text/plain": [
       "[1, 2, 3]"
      ]
     },
     "execution_count": 58,
     "metadata": {},
     "output_type": "execute_result"
    }
   ],
   "source": [
    "my_list = [1, 1, 2, 3]\n",
    "list(set(my_list))"
   ]
  },
  {
   "cell_type": "code",
   "execution_count": 62,
   "id": "ca5d7391",
   "metadata": {},
   "outputs": [
    {
     "name": "stdout",
     "output_type": "stream",
     "text": [
      "[]\n",
      "[1]\n"
     ]
    }
   ],
   "source": [
    "x = list()\n",
    "print(x)\n",
    "x.append(1)\n",
    "print(x)"
   ]
  },
  {
   "cell_type": "markdown",
   "id": "e18a2077",
   "metadata": {},
   "source": [
    "Write a function that takes name of two gene files, reads them, and returns which genes are:\n",
    "\n",
    "In first file but not in second file\n",
    "\n",
    "In second file but not in first file"
   ]
  },
  {
   "cell_type": "code",
   "execution_count": 64,
   "id": "309cd772",
   "metadata": {},
   "outputs": [
    {
     "name": "stdout",
     "output_type": "stream",
     "text": [
      "{'ACVR2B', 'ACTL7A', 'ACTR3C', 'ACO2', 'ACOX3', 'ACSS3', 'ACTR1B', 'ACTRT1', 'ABCC3', 'ABCD2', 'ABCF1', 'ACE', 'AADACL2', 'ABCD3', 'ACP1', 'ABCB6', 'AATF', 'ACKR3', 'ACTG1', 'A4GALT', 'A4GNT', 'ACR', 'ABCE1', 'ABCA6', 'ACTR2', 'ACOT2', 'ADA', 'ACTL7B', 'ACTR3B', 'ACSBG2', 'ACSL5', 'ACP4', 'A2M', 'AAGAB', 'ABCA2', 'ABCC6', 'ABCB4', 'ABAT', 'ABCB9', 'AARS2', 'ACTBL2', 'ACOT1', 'ACSF3', 'ACHE', 'ACER1', 'ACTR3', 'ACVR2A', 'ABHD5', 'A1CF', 'ACTL8', 'ACSM6', 'ACP2', 'ACTN1', 'ACOT8', 'AARS1', 'ACY3', 'ACVR1C', 'AARSD1', 'ACSM1', 'ABCB1', 'ABCG4', 'ABCC2', 'ABCD1', 'ACTL10', 'ACTL6B', 'ACOT13', 'ACER2', 'ABCB7', 'ABHD4', 'ABHD8', 'ACER3', 'AASS', 'ACSS1', 'ACKR1', 'ABCC11', 'ACSM2B', 'ACTR6', 'ACVR1', 'ACSM5', 'AASDH', 'AADACL3', 'ACYP1', 'ABCA3', 'AADACL4', 'ABCC9', 'ABCC12', 'ACMSD', 'ACSL6', 'ACTN4', 'ABCC10', 'ABCG1', 'ACKR2', 'ACKR4', 'ABCB11', 'AAR2', 'ACOT7', 'ACOXL', 'ABCA8', 'ACTB', 'ACYP2', 'ACTN2', 'ACSL3', 'ABCF2', 'AARD', 'ACTRT3', 'A3GALT2', 'ACE2', 'ABCA7', 'ACTR10', 'ABCG2', 'ABHD6', 'AADAT', 'ABCA5', 'ACVR1B', 'ABCC1', 'ABCF3', 'ACTL9', 'ACSL1', 'ABCB8', 'ACTR5', 'AAK1', 'ACSBG1', 'ABCA4', 'AADAC', 'ACP6', 'AAMDC', 'ACOT9', 'ABHD2', 'ACTC1', 'ACTR1A', 'ACSS2', 'ABCD4', 'ACSM2A', 'ABCA1', 'AATK', 'ABCB5', 'ABCB10', 'ACP3', 'ABCA9', 'ACIN1', 'AACS', 'ABCA13', 'ABCC8', 'ABHD3', 'ACLY', 'ACOX1', 'ACOX2', 'ACSL4', 'ACSM3', 'AAMP', 'ACY1', 'ABCC4', 'ACOT12', 'ACP5', 'ACVRL1', 'ACOT6', 'ABCG8', 'AAAS', 'ACSM4', 'ABCA12', 'ACTN3', 'ACD', 'AASDHPPT', 'ABCG5', 'A2ML1', 'ACTL6A', 'ABHD10', 'ACRBP', 'ACOD1', 'ABCA10', 'ACTR8', 'ACSF2', 'ACRV1', 'ACTG2', 'ACO1', 'AANAT', 'ABHD1', 'ACTA2', 'ABCC5', 'ACTRT2', 'ACOT11', 'ACP7', 'ACTA1', 'ACOT4', 'A1BG'}\n",
      "{'ZNF853', 'ZRANB2', 'ZSWIM6', 'ZNF790', 'ZSCAN5A', 'ZNF732', 'ZSCAN31', 'ZNF823', 'ZNF770', 'ZSWIM3', 'ZNF829', 'ZNF780A', 'ZSWIM5', 'ZNF784', 'ZNF791', 'ZNF804A', 'ZNF728', 'ZNF787', 'ZNF808', 'ZNF775', 'ZNF841', 'ZNF813', 'ZRANB3', 'ZNF837', 'ZNHIT2', 'ZNF793', 'ZNF766', 'ZNF852', 'ZSCAN2', 'ZNF716', 'ZNF773', 'ZSCAN30', 'ZSCAN21', 'ZNF839', 'ZNF891', 'ZNF771', 'ZNF800', 'ZSCAN23', 'ZNF844', 'ZRSR2', 'ZNF831', 'ZNF835', 'ZNRD1', 'ZNRF3', 'ZNF799', 'ZNF736', 'ZNF761', 'ZNF785', 'ZPBP', 'ZNF750', 'ZNF821', 'ZNRF1', 'ZSCAN5C', 'ZSWIM4', 'ZNF749', 'ZNF782', 'ZP2', 'ZNF723', 'ZNRD2', 'ZNF783', 'ZSCAN5B', 'ZNF781', 'ZNF805', 'ZNF836', 'ZNF724', 'ZNF720', 'ZPLD1', 'ZSWIM7', 'ZSWIM1', 'ZNF845', 'ZNF772', 'ZNF738', 'ZSCAN4', 'ZP3', 'ZPR1', 'ZNF776', 'ZNRF2', 'ZP4', 'ZNF878', 'ZNF865', 'ZNF718', 'ZNF735', 'ZSWIM8', 'ZNF747', 'ZNHIT6', 'ZSCAN12', 'ZNF717', 'ZNF879', 'ZSCAN25', 'ZSCAN9', 'ZPBP2', 'ZSCAN32', 'ZNF780B', 'ZNF727', 'ZNF740', 'ZNF880', 'ZNF827', 'ZNF764', 'ZNF730', 'ZSCAN22', 'ZNF830', 'ZNF888', 'ZSWIM9', 'ZNF726', 'ZNF714', 'ZSCAN10', 'ZSCAN1', 'ZSCAN18', 'ZNF804B', 'ZRANB1', 'ZNF883', 'ZNHIT3', 'ZNF792', 'ZSCAN26', 'ZSCAN16', 'ZNF816', 'ZNF846', 'ZNF721', 'ZNF786', 'ZNF774', 'ZNF763', 'ZNF860', 'ZNHIT1', 'ZNF768', 'ZNF729', 'ZSCAN29', 'ZNF843', 'ZNF862', 'ZNF777', 'ZNF875', 'ZSWIM2', 'ZNF850', 'ZNRF4', 'ZNF737', 'ZNF789', 'ZNF765', 'ZP1', 'ZSCAN20', 'ZNF778', 'ZNF746', 'ZNFX1', 'ZNF814', 'ZUP1'}\n"
     ]
    }
   ],
   "source": [
    "def genes(filename1, filename2):\n",
    "    file1 = set() # my_list = [], my_list = list()\n",
    "    file2 = set()\n",
    "    with open(filename1) as file:\n",
    "        for line in file:\n",
    "            if not line.strip():\n",
    "                continue\n",
    "            file1.add(line.strip())\n",
    "            \n",
    "    with open(filename2) as file:\n",
    "        for line in file:\n",
    "            if not line.strip():\n",
    "                continue\n",
    "            file2.add(line.strip())\n",
    "            \n",
    "    f1_only = file1 - file2\n",
    "    f2_only = file2 - file1\n",
    "    print(f1_only)\n",
    "    print(f2_only)\n",
    "     \n",
    "genes('gene_list1.txt', 'gene_list2.txt')"
   ]
  },
  {
   "cell_type": "code",
   "execution_count": 65,
   "id": "628b8ff6",
   "metadata": {},
   "outputs": [],
   "source": [
    "students = [\n",
    "    ['John', 'Doe', 'Biology'],\n",
    "    ['Jane', 'Doe', 'Chemistry'],\n",
    "]"
   ]
  },
  {
   "cell_type": "code",
   "execution_count": 66,
   "id": "3cd2cb04",
   "metadata": {},
   "outputs": [
    {
     "data": {
      "text/plain": [
       "[['John', 'Doe', 'Biology'], ['Jane', 'Doe', 'Chemistry']]"
      ]
     },
     "execution_count": 66,
     "metadata": {},
     "output_type": "execute_result"
    }
   ],
   "source": [
    "students"
   ]
  },
  {
   "cell_type": "code",
   "execution_count": 67,
   "id": "389eae27",
   "metadata": {},
   "outputs": [
    {
     "name": "stdout",
     "output_type": "stream",
     "text": [
      "{'name': 'john', 'email': 'john@email.com', 'id': 1234, 'major': 'Engineering'}\n"
     ]
    }
   ],
   "source": [
    "# Most people use this\n",
    "1\n",
    "print(my_dict)"
   ]
  },
  {
   "cell_type": "code",
   "execution_count": 75,
   "id": "5535a6c4",
   "metadata": {},
   "outputs": [
    {
     "ename": "SyntaxError",
     "evalue": "keyword argument repeated (Temp/ipykernel_24040/1062413855.py, line 6)",
     "output_type": "error",
     "traceback": [
      "\u001b[1;36m  File \u001b[1;32m\"C:\\Users\\mkhaw\\AppData\\Local\\Temp/ipykernel_24040/1062413855.py\"\u001b[1;36m, line \u001b[1;32m6\u001b[0m\n\u001b[1;33m    name='john',\u001b[0m\n\u001b[1;37m    ^\u001b[0m\n\u001b[1;31mSyntaxError\u001b[0m\u001b[1;31m:\u001b[0m keyword argument repeated\n"
     ]
    }
   ],
   "source": [
    "my_dict = dict(\n",
    "    name='john',\n",
    "    email='john@email.com',\n",
    "    id=1234,\n",
    "    major='Engineering',\n",
    "    name='john', # no repeated keys\n",
    ")\n"
   ]
  },
  {
   "cell_type": "code",
   "execution_count": 74,
   "id": "c353e27d",
   "metadata": {},
   "outputs": [
    {
     "name": "stdout",
     "output_type": "stream",
     "text": [
      "{1: 'Engineering', 3.14: 'john@email.com', (1, 2): 1234, 'major': 'Engineering'}\n"
     ]
    }
   ],
   "source": [
    "# Dictionary -- no repeated keys\n",
    "# keys have to be immutable values \n",
    "\n",
    "my_dict = {\n",
    "    1: 'john',\n",
    "    3.14: 'john@email.com',\n",
    "    # [1, 2]: 1234, \n",
    "    (1, 2): 1234, \n",
    "    'major': 'Engineering',\n",
    "    True: 'Engineering'\n",
    "}\n",
    "print(my_dict)\n"
   ]
  },
  {
   "cell_type": "code",
   "execution_count": 76,
   "id": "78fd18a7",
   "metadata": {},
   "outputs": [],
   "source": [
    "my_dict = {\n",
    "    'name': 'john',\n",
    "    'email': 'john@email.com',\n",
    "    'id': 1234,\n",
    "    'major': 'Engineering'\n",
    "}\n"
   ]
  },
  {
   "cell_type": "code",
   "execution_count": 77,
   "id": "703089b8",
   "metadata": {},
   "outputs": [
    {
     "data": {
      "text/plain": [
       "'john'"
      ]
     },
     "execution_count": 77,
     "metadata": {},
     "output_type": "execute_result"
    }
   ],
   "source": [
    "my_dict['name']"
   ]
  },
  {
   "cell_type": "code",
   "execution_count": 78,
   "id": "0b4ac0ff",
   "metadata": {},
   "outputs": [
    {
     "data": {
      "text/plain": [
       "'john@email.com'"
      ]
     },
     "execution_count": 78,
     "metadata": {},
     "output_type": "execute_result"
    }
   ],
   "source": [
    "my_dict['email']"
   ]
  },
  {
   "cell_type": "code",
   "execution_count": 79,
   "id": "c75f7435",
   "metadata": {},
   "outputs": [
    {
     "data": {
      "text/plain": [
       "'john'"
      ]
     },
     "execution_count": 79,
     "metadata": {},
     "output_type": "execute_result"
    }
   ],
   "source": [
    "key = 'name'\n",
    "my_dict[key]"
   ]
  },
  {
   "cell_type": "code",
   "execution_count": 81,
   "id": "fcf120a8",
   "metadata": {},
   "outputs": [
    {
     "name": "stdout",
     "output_type": "stream",
     "text": [
      "key=name; value=john\n",
      "key=email; value=john@email.com\n",
      "key=id; value=1234\n",
      "key=major; value=Engineering\n"
     ]
    }
   ],
   "source": [
    "for key, value in my_dict.items():\n",
    "    print(f'key={key}; value={value}')"
   ]
  },
  {
   "cell_type": "code",
   "execution_count": 82,
   "id": "40349f95",
   "metadata": {},
   "outputs": [
    {
     "name": "stdout",
     "output_type": "stream",
     "text": [
      "name\n",
      "email\n",
      "id\n",
      "major\n"
     ]
    }
   ],
   "source": [
    "for key in my_dict:\n",
    "    print(key)"
   ]
  },
  {
   "cell_type": "code",
   "execution_count": 83,
   "id": "220db809",
   "metadata": {},
   "outputs": [
    {
     "name": "stdout",
     "output_type": "stream",
     "text": [
      "name\n",
      "email\n",
      "id\n",
      "major\n"
     ]
    }
   ],
   "source": [
    "for key in my_dict.keys():\n",
    "    print(key)"
   ]
  },
  {
   "cell_type": "code",
   "execution_count": 84,
   "id": "3d2201d3",
   "metadata": {},
   "outputs": [
    {
     "name": "stdout",
     "output_type": "stream",
     "text": [
      "john\n",
      "john@email.com\n",
      "1234\n",
      "Engineering\n"
     ]
    }
   ],
   "source": [
    "for key in my_dict.values():\n",
    "    print(key)"
   ]
  },
  {
   "cell_type": "code",
   "execution_count": 87,
   "id": "3322543e",
   "metadata": {},
   "outputs": [
    {
     "data": {
      "text/plain": [
       "True"
      ]
     },
     "execution_count": 87,
     "metadata": {},
     "output_type": "execute_result"
    }
   ],
   "source": [
    "'name' in my_dict"
   ]
  },
  {
   "cell_type": "code",
   "execution_count": 89,
   "id": "af463255",
   "metadata": {},
   "outputs": [
    {
     "data": {
      "text/plain": [
       "True"
      ]
     },
     "execution_count": 89,
     "metadata": {},
     "output_type": "execute_result"
    }
   ],
   "source": [
    "'john' in my_dict.values()"
   ]
  },
  {
   "cell_type": "code",
   "execution_count": 90,
   "id": "cd1eedbd",
   "metadata": {},
   "outputs": [
    {
     "data": {
      "text/plain": [
       "False"
      ]
     },
     "execution_count": 90,
     "metadata": {},
     "output_type": "execute_result"
    }
   ],
   "source": [
    "'name' in my_dict.values()"
   ]
  },
  {
   "cell_type": "code",
   "execution_count": 91,
   "id": "77d52f26",
   "metadata": {},
   "outputs": [],
   "source": [
    "x = my_dict.copy()"
   ]
  },
  {
   "cell_type": "code",
   "execution_count": 92,
   "id": "4b1f4484",
   "metadata": {},
   "outputs": [],
   "source": [
    "x['name'] = 'Jane'"
   ]
  },
  {
   "cell_type": "code",
   "execution_count": 94,
   "id": "66955bfe",
   "metadata": {},
   "outputs": [
    {
     "name": "stdout",
     "output_type": "stream",
     "text": [
      "{'name': 'john', 'email': 'john@email.com', 'id': 1234, 'major': 'Engineering'}\n"
     ]
    }
   ],
   "source": [
    "print(my_dict)"
   ]
  },
  {
   "cell_type": "code",
   "execution_count": 95,
   "id": "f4b7235d",
   "metadata": {},
   "outputs": [
    {
     "name": "stdout",
     "output_type": "stream",
     "text": [
      "{'name': 'Jane', 'email': 'john@email.com', 'id': 1234, 'major': 'Engineering'}\n"
     ]
    }
   ],
   "source": [
    "print(x)"
   ]
  },
  {
   "cell_type": "code",
   "execution_count": 96,
   "id": "06583529",
   "metadata": {},
   "outputs": [],
   "source": [
    "my_dict['some_list'] = [1, 2, 3]"
   ]
  },
  {
   "cell_type": "code",
   "execution_count": 97,
   "id": "9c0c0069",
   "metadata": {},
   "outputs": [],
   "source": [
    "x = my_dict.copy()"
   ]
  },
  {
   "cell_type": "code",
   "execution_count": 98,
   "id": "7ebf034d",
   "metadata": {},
   "outputs": [],
   "source": [
    "x['some_list'].append(4)"
   ]
  },
  {
   "cell_type": "code",
   "execution_count": 99,
   "id": "da71bc5d",
   "metadata": {},
   "outputs": [
    {
     "name": "stdout",
     "output_type": "stream",
     "text": [
      "{'name': 'john', 'email': 'john@email.com', 'id': 1234, 'major': 'Engineering', 'some_list': [1, 2, 3, 4]}\n"
     ]
    }
   ],
   "source": [
    "print(x)"
   ]
  },
  {
   "cell_type": "code",
   "execution_count": 100,
   "id": "dd3819fd",
   "metadata": {},
   "outputs": [
    {
     "name": "stdout",
     "output_type": "stream",
     "text": [
      "{'name': 'john', 'email': 'john@email.com', 'id': 1234, 'major': 'Engineering', 'some_list': [1, 2, 3, 4]}\n"
     ]
    }
   ],
   "source": [
    "print(my_dict)"
   ]
  },
  {
   "cell_type": "code",
   "execution_count": 101,
   "id": "0db0a919",
   "metadata": {},
   "outputs": [],
   "source": [
    "from copy import deepcopy\n",
    "\n",
    "x = deepcopy(my_dict)"
   ]
  },
  {
   "cell_type": "code",
   "execution_count": 102,
   "id": "283276f8",
   "metadata": {},
   "outputs": [
    {
     "data": {
      "text/plain": [
       "{'name': 'john',\n",
       " 'email': 'john@email.com',\n",
       " 'id': 1234,\n",
       " 'major': 'Engineering',\n",
       " 'some_list': [1, 2, 3, 4]}"
      ]
     },
     "execution_count": 102,
     "metadata": {},
     "output_type": "execute_result"
    }
   ],
   "source": [
    "x\n"
   ]
  },
  {
   "cell_type": "code",
   "execution_count": 103,
   "id": "f1373448",
   "metadata": {},
   "outputs": [],
   "source": [
    "x['some_list'].remove(1)"
   ]
  },
  {
   "cell_type": "code",
   "execution_count": 104,
   "id": "cb0dd73e",
   "metadata": {},
   "outputs": [
    {
     "name": "stdout",
     "output_type": "stream",
     "text": [
      "{'name': 'john', 'email': 'john@email.com', 'id': 1234, 'major': 'Engineering', 'some_list': [2, 3, 4]}\n"
     ]
    }
   ],
   "source": [
    "print(x)"
   ]
  },
  {
   "cell_type": "code",
   "execution_count": 105,
   "id": "6cc14410",
   "metadata": {},
   "outputs": [
    {
     "name": "stdout",
     "output_type": "stream",
     "text": [
      "{'name': 'john', 'email': 'john@email.com', 'id': 1234, 'major': 'Engineering', 'some_list': [1, 2, 3, 4]}\n"
     ]
    }
   ],
   "source": [
    "print(my_dict)"
   ]
  },
  {
   "cell_type": "code",
   "execution_count": 106,
   "id": "33d4f456",
   "metadata": {},
   "outputs": [],
   "source": [
    "x = my_dict"
   ]
  },
  {
   "cell_type": "code",
   "execution_count": 107,
   "id": "ee1170f1",
   "metadata": {},
   "outputs": [],
   "source": [
    "x['some_list'].append('WOrking')"
   ]
  },
  {
   "cell_type": "code",
   "execution_count": 108,
   "id": "4f32e798",
   "metadata": {},
   "outputs": [
    {
     "data": {
      "text/plain": [
       "{'name': 'john',\n",
       " 'email': 'john@email.com',\n",
       " 'id': 1234,\n",
       " 'major': 'Engineering',\n",
       " 'some_list': [1, 2, 3, 4, 'WOrking']}"
      ]
     },
     "execution_count": 108,
     "metadata": {},
     "output_type": "execute_result"
    }
   ],
   "source": [
    "x"
   ]
  },
  {
   "cell_type": "code",
   "execution_count": 109,
   "id": "02fd71cc",
   "metadata": {},
   "outputs": [
    {
     "data": {
      "text/plain": [
       "{'name': 'john',\n",
       " 'email': 'john@email.com',\n",
       " 'id': 1234,\n",
       " 'major': 'Engineering',\n",
       " 'some_list': [1, 2, 3, 4, 'WOrking']}"
      ]
     },
     "execution_count": 109,
     "metadata": {},
     "output_type": "execute_result"
    }
   ],
   "source": [
    "my_dict"
   ]
  },
  {
   "cell_type": "code",
   "execution_count": 110,
   "id": "5a38bfee",
   "metadata": {},
   "outputs": [
    {
     "data": {
      "text/plain": [
       "{'name': 'missing', 'email': 'missing', 'id': 'missing', 'major': 'missing'}"
      ]
     },
     "execution_count": 110,
     "metadata": {},
     "output_type": "execute_result"
    }
   ],
   "source": [
    "{}.fromkeys(\n",
    "    ['name', 'email', 'id', 'major'], 'missing')"
   ]
  },
  {
   "cell_type": "code",
   "execution_count": 111,
   "id": "c441132a",
   "metadata": {},
   "outputs": [],
   "source": [
    "my_dict = {}.fromkeys(range(5), 'iammissing')"
   ]
  },
  {
   "cell_type": "code",
   "execution_count": 112,
   "id": "8b44c4a8",
   "metadata": {},
   "outputs": [
    {
     "data": {
      "text/plain": [
       "{0: 'iammissing',\n",
       " 1: 'iammissing',\n",
       " 2: 'iammissing',\n",
       " 3: 'iammissing',\n",
       " 4: 'iammissing'}"
      ]
     },
     "execution_count": 112,
     "metadata": {},
     "output_type": "execute_result"
    }
   ],
   "source": [
    "my_dict"
   ]
  },
  {
   "cell_type": "code",
   "execution_count": 114,
   "id": "bd33018d",
   "metadata": {},
   "outputs": [
    {
     "data": {
      "text/plain": [
       "'john'"
      ]
     },
     "execution_count": 114,
     "metadata": {},
     "output_type": "execute_result"
    }
   ],
   "source": [
    "my_dict = {\n",
    "    'name': 'john',\n",
    "    'email': 'john@email.com',\n",
    "    'id': 1234,\n",
    "    'major': 'Engineering'\n",
    "}\n",
    "\n",
    "my_dict.get('name')"
   ]
  },
  {
   "cell_type": "code",
   "execution_count": 115,
   "id": "5b798371",
   "metadata": {},
   "outputs": [
    {
     "data": {
      "text/plain": [
       "'john'"
      ]
     },
     "execution_count": 115,
     "metadata": {},
     "output_type": "execute_result"
    }
   ],
   "source": [
    "my_dict['name']"
   ]
  },
  {
   "cell_type": "code",
   "execution_count": 116,
   "id": "c5fde109",
   "metadata": {},
   "outputs": [
    {
     "ename": "KeyError",
     "evalue": "'name1'",
     "output_type": "error",
     "traceback": [
      "\u001b[1;31m---------------------------------------------------------------------------\u001b[0m",
      "\u001b[1;31mKeyError\u001b[0m                                  Traceback (most recent call last)",
      "\u001b[1;32m~\\AppData\\Local\\Temp/ipykernel_24040/1682852806.py\u001b[0m in \u001b[0;36m<module>\u001b[1;34m\u001b[0m\n\u001b[1;32m----> 1\u001b[1;33m \u001b[0mmy_dict\u001b[0m\u001b[1;33m[\u001b[0m\u001b[1;34m'name1'\u001b[0m\u001b[1;33m]\u001b[0m\u001b[1;33m\u001b[0m\u001b[1;33m\u001b[0m\u001b[0m\n\u001b[0m",
      "\u001b[1;31mKeyError\u001b[0m: 'name1'"
     ]
    }
   ],
   "source": [
    "my_dict['name1']"
   ]
  },
  {
   "cell_type": "code",
   "execution_count": 119,
   "id": "4631e4fe",
   "metadata": {},
   "outputs": [
    {
     "name": "stdout",
     "output_type": "stream",
     "text": [
      "None\n"
     ]
    }
   ],
   "source": [
    "print(my_dict.get('name1'))"
   ]
  },
  {
   "cell_type": "code",
   "execution_count": 120,
   "id": "9452bb0c",
   "metadata": {},
   "outputs": [
    {
     "name": "stdout",
     "output_type": "stream",
     "text": [
      "NameMissing\n"
     ]
    }
   ],
   "source": [
    "print(my_dict.get('name1', 'NameMissing'))"
   ]
  },
  {
   "cell_type": "code",
   "execution_count": 121,
   "id": "64ccbb07",
   "metadata": {},
   "outputs": [
    {
     "data": {
      "text/plain": [
       "'john'"
      ]
     },
     "execution_count": 121,
     "metadata": {},
     "output_type": "execute_result"
    }
   ],
   "source": [
    "my_dict.pop('name')"
   ]
  },
  {
   "cell_type": "code",
   "execution_count": 122,
   "id": "a578acaf",
   "metadata": {},
   "outputs": [
    {
     "data": {
      "text/plain": [
       "{'email': 'john@email.com', 'id': 1234, 'major': 'Engineering'}"
      ]
     },
     "execution_count": 122,
     "metadata": {},
     "output_type": "execute_result"
    }
   ],
   "source": [
    "my_dict"
   ]
  },
  {
   "cell_type": "code",
   "execution_count": 123,
   "id": "8e11e0cf",
   "metadata": {},
   "outputs": [],
   "source": [
    "my_dict.update({'year':2010, 'ear': 2030})"
   ]
  },
  {
   "cell_type": "code",
   "execution_count": 124,
   "id": "8e50275f",
   "metadata": {},
   "outputs": [
    {
     "data": {
      "text/plain": [
       "{'email': 'john@email.com',\n",
       " 'id': 1234,\n",
       " 'major': 'Engineering',\n",
       " 'year': 2010,\n",
       " 'ear': 2030}"
      ]
     },
     "execution_count": 124,
     "metadata": {},
     "output_type": "execute_result"
    }
   ],
   "source": [
    "my_dict"
   ]
  },
  {
   "cell_type": "code",
   "execution_count": 127,
   "id": "edbdae91",
   "metadata": {},
   "outputs": [],
   "source": [
    "my_dict.update({'id':'111-22-3333'})"
   ]
  },
  {
   "cell_type": "code",
   "execution_count": 128,
   "id": "096e63a0",
   "metadata": {},
   "outputs": [
    {
     "data": {
      "text/plain": [
       "{'email': 'john@email.com',\n",
       " 'id': '111-22-3333',\n",
       " 'major': 'Engineering',\n",
       " 'year': 2010,\n",
       " 'ear': 2030}"
      ]
     },
     "execution_count": 128,
     "metadata": {},
     "output_type": "execute_result"
    }
   ],
   "source": [
    "my_dict"
   ]
  },
  {
   "cell_type": "code",
   "execution_count": 129,
   "id": "90694685",
   "metadata": {},
   "outputs": [],
   "source": [
    "# ## dictionary comprehension\n",
    "# {___:___ for ___ in ___}"
   ]
  },
  {
   "cell_type": "code",
   "execution_count": 130,
   "id": "d5b96288",
   "metadata": {},
   "outputs": [],
   "source": [
    "my_dict = {}.fromkeys(range(5), 5)"
   ]
  },
  {
   "cell_type": "code",
   "execution_count": 131,
   "id": "f672c20e",
   "metadata": {},
   "outputs": [
    {
     "data": {
      "text/plain": [
       "{0: 5, 1: 5, 2: 5, 3: 5, 4: 5}"
      ]
     },
     "execution_count": 131,
     "metadata": {},
     "output_type": "execute_result"
    }
   ],
   "source": [
    "my_dict"
   ]
  },
  {
   "cell_type": "code",
   "execution_count": 132,
   "id": "8fbfd215",
   "metadata": {},
   "outputs": [
    {
     "data": {
      "text/plain": [
       "{0: 0, 1: 5, 2: 10, 3: 15, 4: 20}"
      ]
     },
     "execution_count": 132,
     "metadata": {},
     "output_type": "execute_result"
    }
   ],
   "source": [
    "{key: key*value for key, value in my_dict.items()}"
   ]
  },
  {
   "cell_type": "code",
   "execution_count": 133,
   "id": "e7b2e77a",
   "metadata": {},
   "outputs": [],
   "source": [
    "list1 = ['john', 'jane', 'doe']\n",
    "list2 = [95, 99, 98]"
   ]
  },
  {
   "cell_type": "code",
   "execution_count": 134,
   "id": "1c58eaa5",
   "metadata": {},
   "outputs": [
    {
     "data": {
      "text/plain": [
       "{'john': 95, 'jane': 99, 'doe': 98}"
      ]
     },
     "execution_count": 134,
     "metadata": {},
     "output_type": "execute_result"
    }
   ],
   "source": [
    "{list1[i]: list2[i] for i in range(len(list1))}"
   ]
  },
  {
   "cell_type": "code",
   "execution_count": 135,
   "id": "17e572c3",
   "metadata": {},
   "outputs": [
    {
     "data": {
      "text/plain": [
       "{'john': 95, 'jane': 99, 'doe': 98}"
      ]
     },
     "execution_count": 135,
     "metadata": {},
     "output_type": "execute_result"
    }
   ],
   "source": [
    "dict(zip(list1,list2))"
   ]
  },
  {
   "cell_type": "code",
   "execution_count": 136,
   "id": "e65376f1",
   "metadata": {},
   "outputs": [
    {
     "data": {
      "text/plain": [
       "{1: 'odd',\n",
       " 2: 'even',\n",
       " 3: 'odd',\n",
       " 4: 'even',\n",
       " 5: 'odd',\n",
       " 6: 'even',\n",
       " 7: 'odd',\n",
       " 8: 'even',\n",
       " 9: 'odd',\n",
       " 10: 'even',\n",
       " 11: 'odd',\n",
       " 12: 'even',\n",
       " 13: 'odd',\n",
       " 14: 'even',\n",
       " 15: 'odd',\n",
       " 16: 'even',\n",
       " 17: 'odd',\n",
       " 18: 'even',\n",
       " 19: 'odd',\n",
       " 20: 'even'}"
      ]
     },
     "execution_count": 136,
     "metadata": {},
     "output_type": "execute_result"
    }
   ],
   "source": [
    "{num: (\"even\" if num % 2 == 0 else \"odd\") for num in range(1, 21)}"
   ]
  },
  {
   "cell_type": "code",
   "execution_count": 139,
   "id": "ba5f47b6",
   "metadata": {},
   "outputs": [
    {
     "name": "stdout",
     "output_type": "stream",
     "text": [
      "[{'account': 'QVJP6465242365388',\n",
      "  'country': 'Nepal',\n",
      "  'email': 'xdunn@hotmail.com',\n",
      "  'first_name': 'Michael',\n",
      "  'last_name': 'Weaver'},\n",
      " {'account': 'FVQZ0955529767455',\n",
      "  'country': 'Kazakhstan',\n",
      "  'email': 'iedwards@yahoo.com',\n",
      "  'first_name': 'Jackson',\n",
      "  'last_name': 'Owens'},\n",
      " {'account': 'QFIM0905182880347',\n",
      "  'country': 'Mauritius',\n",
      "  'email': 'arogers@smith.com',\n",
      "  'first_name': 'Patrick',\n",
      "  'last_name': 'Gilmore'},\n",
      " {'account': 'YWOT0997131632248',\n",
      "  'country': 'New Zealand',\n",
      "  'email': 'plewis@chavez.com',\n",
      "  'first_name': 'Jeffrey',\n",
      "  'last_name': 'Perez'},\n",
      " {'account': 'QAAE9838291982555',\n",
      "  'country': 'Yemen',\n",
      "  'email': 'fred92@yahoo.com',\n",
      "  'first_name': 'James',\n",
      "  'last_name': 'Thomas'},\n",
      " {'account': 'PCNE8127696280157',\n",
      "  'country': 'Jordan',\n",
      "  'email': 'mmiller@lynch.com',\n",
      "  'first_name': 'Greg',\n",
      "  'last_name': 'Nelson'},\n",
      " {'account': 'BCEN3299883381338',\n",
      "  'country': 'Palau',\n",
      "  'email': 'steven49@gmail.com',\n",
      "  'first_name': 'Joshua',\n",
      "  'last_name': 'White'},\n",
      " {'account': 'XPTQ7837014557677',\n",
      "  'country': 'Argentina',\n",
      "  'email': 'amanda23@hotmail.com',\n",
      "  'first_name': 'Todd',\n",
      "  'last_name': 'Francis'},\n",
      " {'account': 'TRLQ6559557081716',\n",
      "  'country': 'Marshall Islands',\n",
      "  'email': 'jackduke@hotmail.com',\n",
      "  'first_name': 'Stephen',\n",
      "  'last_name': 'Shaw'},\n",
      " {'account': 'OHOV7518558201999',\n",
      "  'country': 'Albania',\n",
      "  'email': 'rhodesnicholas@hotmail.com',\n",
      "  'first_name': 'Mariah',\n",
      "  'last_name': 'Armstrong'},\n",
      " {'account': 'MCQU7347833033110',\n",
      "  'country': 'Kyrgyz Republic',\n",
      "  'email': 'smithashlee@yahoo.com',\n",
      "  'first_name': 'Anthony',\n",
      "  'last_name': 'Boyle'},\n",
      " {'account': 'PPHE5533473251751',\n",
      "  'country': 'Turkmenistan',\n",
      "  'email': 'ubriggs@hill.info',\n",
      "  'first_name': 'Patrick',\n",
      "  'last_name': 'Cuevas'},\n",
      " {'account': 'JCDK1943355298609',\n",
      "  'country': 'Fiji',\n",
      "  'email': 'brownclarence@gonzalez-moore.com',\n",
      "  'first_name': 'Gerald',\n",
      "  'last_name': 'Reyes'},\n",
      " {'account': 'NERZ5502558659614',\n",
      "  'country': 'Costa Rica',\n",
      "  'email': 'teresa30@carpenter-warner.com',\n",
      "  'first_name': 'Christopher',\n",
      "  'last_name': 'Calderon'},\n",
      " {'account': 'DLDV5789894914403',\n",
      "  'country': 'Martinique',\n",
      "  'email': 'leekatherine@williams.com',\n",
      "  'first_name': 'Shane',\n",
      "  'last_name': 'Weiss'},\n",
      " {'account': 'GZZF6936998445532',\n",
      "  'country': 'Singapore',\n",
      "  'email': 'chasewatkins@perez-phillips.com',\n",
      "  'first_name': 'Crystal',\n",
      "  'last_name': 'Conley'},\n",
      " {'account': 'ECGK2823955143629',\n",
      "  'country': 'Mayotte',\n",
      "  'email': 'hsherman@gmail.com',\n",
      "  'first_name': 'Jeffrey',\n",
      "  'last_name': 'Nelson'},\n",
      " {'account': 'QOVO4275314052899',\n",
      "  'country': 'Costa Rica',\n",
      "  'email': 'martinezdaniel@hotmail.com',\n",
      "  'first_name': 'Brianna',\n",
      "  'last_name': 'Johnson'},\n",
      " {'account': 'UKRT1119626365017',\n",
      "  'country': 'Guadeloupe',\n",
      "  'email': 'justinfischer@gmail.com',\n",
      "  'first_name': 'Brandon',\n",
      "  'last_name': 'Werner'},\n",
      " {'account': 'UNPV3347450330173',\n",
      "  'country': 'Bahamas',\n",
      "  'email': 'cindy08@gmail.com',\n",
      "  'first_name': 'Brianna',\n",
      "  'last_name': 'Bennett'},\n",
      " {'account': 'GJZT6825738428111',\n",
      "  'country': 'Azerbaijan',\n",
      "  'email': 'carolharrington@fleming.org',\n",
      "  'first_name': 'Austin',\n",
      "  'last_name': 'Fletcher'},\n",
      " {'account': 'JOQE2648899771737',\n",
      "  'country': 'Saint Helena',\n",
      "  'email': 'lopezcarl@johnson.com',\n",
      "  'first_name': 'Patrick',\n",
      "  'last_name': 'Lewis'},\n",
      " {'account': 'MNXY3262955868027',\n",
      "  'country': 'Hong Kong',\n",
      "  'email': 'michael74@yahoo.com',\n",
      "  'first_name': 'Joseph',\n",
      "  'last_name': 'Smith'},\n",
      " {'account': 'YHXF7256577475630',\n",
      "  'country': 'Turkey',\n",
      "  'email': 'gonzalezrobert@hotmail.com',\n",
      "  'first_name': 'Sharon',\n",
      "  'last_name': 'Sullivan'},\n",
      " {'account': 'MUVI3570791852556',\n",
      "  'country': 'Swaziland',\n",
      "  'email': 'dawnjohnson@gmail.com',\n",
      "  'first_name': 'Krystal',\n",
      "  'last_name': 'Wilson'},\n",
      " {'account': 'UKCP6739617302102',\n",
      "  'country': 'Holy See (Vatican City State)',\n",
      "  'email': 'watersryan@gmail.com',\n",
      "  'first_name': 'Diana',\n",
      "  'last_name': 'Schmidt'},\n",
      " {'account': 'WDAT4146843903498',\n",
      "  'country': 'Norfolk Island',\n",
      "  'email': 'byoung@gmail.com',\n",
      "  'first_name': 'Sean',\n",
      "  'last_name': 'Huff'},\n",
      " {'account': 'SVMU4403517448078',\n",
      "  'country': 'Kenya',\n",
      "  'email': 'vhanson@yahoo.com',\n",
      "  'first_name': 'Robin',\n",
      "  'last_name': 'Nguyen'},\n",
      " {'account': 'ZNUY4071301663622',\n",
      "  'country': 'Togo',\n",
      "  'email': 'bfletcher@yahoo.com',\n",
      "  'first_name': 'Robyn',\n",
      "  'last_name': 'Russell'},\n",
      " {'account': 'GPFA8271551275648',\n",
      "  'country': 'San Marino',\n",
      "  'email': 'colleengarrison@hotmail.com',\n",
      "  'first_name': 'Tiffany',\n",
      "  'last_name': 'Smith'},\n",
      " {'account': 'MKWY4848668895426',\n",
      "  'country': 'Romania',\n",
      "  'email': 'catherine23@gmail.com',\n",
      "  'first_name': 'Lori',\n",
      "  'last_name': 'Smith'},\n",
      " {'account': 'QHIW7412514205367',\n",
      "  'country': 'Algeria',\n",
      "  'email': 'xmurphy@yahoo.com',\n",
      "  'first_name': 'Sabrina',\n",
      "  'last_name': 'Keith'},\n",
      " {'account': 'QAAO4666689281736',\n",
      "  'country': 'Slovakia (Slovak Republic)',\n",
      "  'email': 'aaronrichard@middleton.net',\n",
      "  'first_name': 'Miguel',\n",
      "  'last_name': 'Johnson'},\n",
      " {'account': 'LRPR8694143910883',\n",
      "  'country': 'Somalia',\n",
      "  'email': 'jesse93@best.com',\n",
      "  'first_name': 'Dustin',\n",
      "  'last_name': 'Barron'},\n",
      " {'account': 'UWFU1921951273393',\n",
      "  'country': 'Turkmenistan',\n",
      "  'email': 'johnperez@johnson.com',\n",
      "  'first_name': 'Michael',\n",
      "  'last_name': 'Robinson'},\n",
      " {'account': 'JQHS4274771257925',\n",
      "  'country': 'Croatia',\n",
      "  'email': 'jessica62@yahoo.com',\n",
      "  'first_name': 'Robert',\n",
      "  'last_name': 'Nguyen'},\n",
      " {'account': 'RSLD0426398604312',\n",
      "  'country': 'Jamaica',\n",
      "  'email': 'jennifer87@gmail.com',\n",
      "  'first_name': 'Brandon',\n",
      "  'last_name': 'Abbott'},\n",
      " {'account': 'UYHI6964741005832',\n",
      "  'country': 'Montserrat',\n",
      "  'email': 'morenolindsay@bass.org',\n",
      "  'first_name': 'Bruce',\n",
      "  'last_name': 'Oneill'},\n",
      " {'account': 'ZKTE5908966955533',\n",
      "  'country': 'Heard Island and McDonald Islands',\n",
      "  'email': 'robertdavis@hotmail.com',\n",
      "  'first_name': 'Linda',\n",
      "  'last_name': 'Nash'},\n",
      " {'account': 'HHHP3471562002758',\n",
      "  'country': 'Niger',\n",
      "  'email': 'melanie81@rogers.com',\n",
      "  'first_name': 'Kathleen',\n",
      "  'last_name': 'Cameron'},\n",
      " {'account': 'UWLV6407825245995',\n",
      "  'country': 'Saint Vincent and the Grenadines',\n",
      "  'email': 'clineerin@hotmail.com',\n",
      "  'first_name': 'Wesley',\n",
      "  'last_name': 'Wilkinson'},\n",
      " {'account': 'JRBN0811785293731',\n",
      "  'country': 'Antigua and Barbuda',\n",
      "  'email': 'terri95@hotmail.com',\n",
      "  'first_name': 'Debbie',\n",
      "  'last_name': 'Wallace'},\n",
      " {'account': 'VDWY7565964041116',\n",
      "  'country': 'Mexico',\n",
      "  'email': 'danielle65@yahoo.com',\n",
      "  'first_name': 'Kayla',\n",
      "  'last_name': 'Woodward'},\n",
      " {'account': 'DNRB2101855092009',\n",
      "  'country': 'Singapore',\n",
      "  'email': 'sjackson@yahoo.com',\n",
      "  'first_name': 'Stephanie',\n",
      "  'last_name': 'Bennett'},\n",
      " {'account': 'IILE1765776198023',\n",
      "  'country': 'Botswana',\n",
      "  'email': 'douglas63@yahoo.com',\n",
      "  'first_name': 'Caleb',\n",
      "  'last_name': 'Jenkins'},\n",
      " {'account': 'ZJUF2687631787282',\n",
      "  'country': 'Guinea',\n",
      "  'email': 'woodardlindsey@yahoo.com',\n",
      "  'first_name': 'Valerie',\n",
      "  'last_name': 'Edwards'},\n",
      " {'account': 'DHMT4208071148508',\n",
      "  'country': 'Chile',\n",
      "  'email': 'suebrown@yahoo.com',\n",
      "  'first_name': 'Mary',\n",
      "  'last_name': 'Anderson'},\n",
      " {'account': 'UBRR8524342666714',\n",
      "  'country': 'Mayotte',\n",
      "  'email': 'swhite@yahoo.com',\n",
      "  'first_name': 'Angela',\n",
      "  'last_name': 'Ray'},\n",
      " {'account': 'OGPU6537909247863',\n",
      "  'country': 'Macedonia',\n",
      "  'email': 'martinkimberly@lopez.com',\n",
      "  'first_name': 'Haley',\n",
      "  'last_name': 'Edwards'},\n",
      " {'account': 'AHYX6128839695452',\n",
      "  'country': 'Ukraine',\n",
      "  'email': 'jessica11@hotmail.com',\n",
      "  'first_name': 'Charles',\n",
      "  'last_name': 'Clark'},\n",
      " {'account': 'VUPW6891906300822',\n",
      "  'country': 'Saint Martin',\n",
      "  'email': 'hsmith@baker.com',\n",
      "  'first_name': 'Lisa',\n",
      "  'last_name': 'Hill'},\n",
      " {'account': 'PKFW4841194501766',\n",
      "  'country': 'Germany',\n",
      "  'email': 'fklein@yahoo.com',\n",
      "  'first_name': 'Jonathan',\n",
      "  'last_name': 'Carpenter'},\n",
      " {'account': 'BNYD8693045932496',\n",
      "  'country': 'Lesotho',\n",
      "  'email': 'ryan32@skinner.com',\n",
      "  'first_name': 'Latoya',\n",
      "  'last_name': 'Griffith'},\n",
      " {'account': 'FQJA6381776349463',\n",
      "  'country': 'Nepal',\n",
      "  'email': 'tmurphy@flores.biz',\n",
      "  'first_name': 'Kim',\n",
      "  'last_name': 'Blair'},\n",
      " {'account': 'KCNI2464381879411',\n",
      "  'country': 'Latvia',\n",
      "  'email': 'mary64@ray.org',\n",
      "  'first_name': 'Mary',\n",
      "  'last_name': 'Salazar'},\n",
      " {'account': 'BIGY3006735396533',\n",
      "  'country': 'Central African Republic',\n",
      "  'email': 'jennajoseph@yahoo.com',\n",
      "  'first_name': 'Kenneth',\n",
      "  'last_name': 'Krueger'},\n",
      " {'account': 'CNJX1222752295544',\n",
      "  'country': 'Peru',\n",
      "  'email': 'watsonsamuel@gmail.com',\n",
      "  'first_name': 'Phillip',\n",
      "  'last_name': 'Burke'},\n",
      " {'account': 'ZROP5229895490397',\n",
      "  'country': 'Spain',\n",
      "  'email': 'xvelasquez@hughes.com',\n",
      "  'first_name': 'Erica',\n",
      "  'last_name': 'Juarez'},\n",
      " {'account': 'NXKK2792812848629',\n",
      "  'country': 'Seychelles',\n",
      "  'email': 'april99@gmail.com',\n",
      "  'first_name': 'Jason',\n",
      "  'last_name': 'Watkins'},\n",
      " {'account': 'DPLN5056382218296',\n",
      "  'country': 'Faroe Islands',\n",
      "  'email': 'kfletcher@yahoo.com',\n",
      "  'first_name': 'Lee',\n",
      "  'last_name': 'Carter'},\n",
      " {'account': 'KAOL9792684486009',\n",
      "  'country': 'Tokelau',\n",
      "  'email': 'xchurch@hotmail.com',\n",
      "  'first_name': 'Randy',\n",
      "  'last_name': 'Huang'},\n",
      " {'account': 'WRXW4627191899235',\n",
      "  'country': 'Cocos (Keeling) Islands',\n",
      "  'email': 'megan24@stewart.net',\n",
      "  'first_name': 'Kristina',\n",
      "  'last_name': 'Owen'},\n",
      " {'account': 'OMOK4767172062189',\n",
      "  'country': 'Burundi',\n",
      "  'email': 'sydneycollins@hunter.com',\n",
      "  'first_name': 'Beth',\n",
      "  'last_name': 'Turner'},\n",
      " {'account': 'KRKF7344951038740',\n",
      "  'country': 'Timor-Leste',\n",
      "  'email': 'robertbowen@chavez-ortega.com',\n",
      "  'first_name': 'Michael',\n",
      "  'last_name': 'Aguirre'},\n",
      " {'account': 'SAAA4141150617330',\n",
      "  'country': 'Montserrat',\n",
      "  'email': 'christiandanielle@yahoo.com',\n",
      "  'first_name': 'Elizabeth',\n",
      "  'last_name': 'Wilson'},\n",
      " {'account': 'XNWQ1072087896797',\n",
      "  'country': 'Norway',\n",
      "  'email': 'kdavidson@gordon.com',\n",
      "  'first_name': 'Teresa',\n",
      "  'last_name': 'Hardy'},\n",
      " {'account': 'FTHM1005169617995',\n",
      "  'country': 'Sierra Leone',\n",
      "  'email': 'bennettwanda@vega-guerra.net',\n",
      "  'first_name': 'David',\n",
      "  'last_name': 'Stewart'},\n",
      " {'account': 'OSSM9070924947595',\n",
      "  'country': 'French Polynesia',\n",
      "  'email': 'mark00@hotmail.com',\n",
      "  'first_name': 'Heather',\n",
      "  'last_name': 'Moore'},\n",
      " {'account': 'CFQJ4204773901237',\n",
      "  'country': 'French Guiana',\n",
      "  'email': 'schaefernatalie@hotmail.com',\n",
      "  'first_name': 'Melissa',\n",
      "  'last_name': 'Grant'},\n",
      " {'account': 'MGFG2793756668287',\n",
      "  'country': 'Cape Verde',\n",
      "  'email': 'moralesmartin@rodgers.com',\n",
      "  'first_name': 'Jennifer',\n",
      "  'last_name': 'Thompson'},\n",
      " {'account': 'IGXK5881682171566',\n",
      "  'country': 'Barbados',\n",
      "  'email': 'dprince@hotmail.com',\n",
      "  'first_name': 'Raymond',\n",
      "  'last_name': 'Anderson'},\n",
      " {'account': 'QYBW6359021109484',\n",
      "  'country': 'Andorra',\n",
      "  'email': 'cparks@valdez-hudson.com',\n",
      "  'first_name': 'Angela',\n",
      "  'last_name': 'Ramsey'},\n",
      " {'account': 'UTSI0776569247505',\n",
      "  'country': 'Montserrat',\n",
      "  'email': 'martinezrichard@yahoo.com',\n",
      "  'first_name': 'Betty',\n",
      "  'last_name': 'Gonzales'},\n",
      " {'account': 'LSDI9463735752680',\n",
      "  'country': 'Egypt',\n",
      "  'email': 'kpena@yahoo.com',\n",
      "  'first_name': 'Thomas',\n",
      "  'last_name': 'Castaneda'},\n",
      " {'account': 'ISYY1401931979959',\n",
      "  'country': 'Malaysia',\n",
      "  'email': 'julie68@gmail.com',\n",
      "  'first_name': 'Jonathan',\n",
      "  'last_name': 'Todd'},\n",
      " {'account': 'HNOA0376843856035',\n",
      "  'country': 'Zimbabwe',\n",
      "  'email': 'lukebradford@hotmail.com',\n",
      "  'first_name': 'Stacey',\n",
      "  'last_name': 'Garcia'},\n",
      " {'account': 'EEVV8325881104553',\n",
      "  'country': 'Portugal',\n",
      "  'email': 'ystewart@yahoo.com',\n",
      "  'first_name': 'Judy',\n",
      "  'last_name': 'Figueroa'},\n",
      " {'account': 'QXGZ3111246190069',\n",
      "  'country': 'Paraguay',\n",
      "  'email': 'cory33@king-shaw.net',\n",
      "  'first_name': 'Ashley',\n",
      "  'last_name': 'Castillo'},\n",
      " {'account': 'ACQR2846533122117',\n",
      "  'country': 'Central African Republic',\n",
      "  'email': 'zcalhoun@gmail.com',\n",
      "  'first_name': 'Zachary',\n",
      "  'last_name': 'Flores'},\n",
      " {'account': 'ZAZD8310339637467',\n",
      "  'country': 'Palau',\n",
      "  'email': 'michaelhall@hotmail.com',\n",
      "  'first_name': 'Erica',\n",
      "  'last_name': 'Allen'},\n",
      " {'account': 'ARWK1547324119222',\n",
      "  'country': 'Micronesia',\n",
      "  'email': 'kristentaylor@yahoo.com',\n",
      "  'first_name': 'Savannah',\n",
      "  'last_name': 'Potts'},\n",
      " {'account': 'OMQX4840913072589',\n",
      "  'country': 'Armenia',\n",
      "  'email': 'stephen63@yahoo.com',\n",
      "  'first_name': 'Zachary',\n",
      "  'last_name': 'Wheeler'},\n",
      " {'account': 'OCFV4659464275270',\n",
      "  'country': 'Bahrain',\n",
      "  'email': 'bryanmartin@gmail.com',\n",
      "  'first_name': 'Timothy',\n",
      "  'last_name': 'Thomas'},\n",
      " {'account': 'DTRB4720098955341',\n",
      "  'country': 'Guatemala',\n",
      "  'email': 'kristinavelasquez@gmail.com',\n",
      "  'first_name': 'Ann',\n",
      "  'last_name': 'Mcknight'},\n",
      " {'account': 'YYHM5758234683389',\n",
      "  'country': 'Saint Vincent and the Grenadines',\n",
      "  'email': 'denise01@burns.org',\n",
      "  'first_name': 'Ruth',\n",
      "  'last_name': 'Thompson'},\n",
      " {'account': 'AHBN3151680654826',\n",
      "  'country': 'Kazakhstan',\n",
      "  'email': 'beancody@jones.com',\n",
      "  'first_name': 'Daniel',\n",
      "  'last_name': 'Levy'},\n",
      " {'account': 'FGBC0366153271398',\n",
      "  'country': 'Germany',\n",
      "  'email': 'ubradley@yahoo.com',\n",
      "  'first_name': 'Paul',\n",
      "  'last_name': 'Hubbard'},\n",
      " {'account': 'MHTE8867005510944',\n",
      "  'country': 'Western Sahara',\n",
      "  'email': 'anthony75@yahoo.com',\n",
      "  'first_name': 'Jason',\n",
      "  'last_name': 'Jones'},\n",
      " {'account': 'IYOD4325345823013',\n",
      "  'country': 'Togo',\n",
      "  'email': 'antonio52@gmail.com',\n",
      "  'first_name': 'Margaret',\n",
      "  'last_name': 'Garcia'},\n",
      " {'account': 'NZFX8257739892619',\n",
      "  'country': 'Guam',\n",
      "  'email': 'johnlewis@hotmail.com',\n",
      "  'first_name': 'Jeremy',\n",
      "  'last_name': 'Peters'},\n",
      " {'account': 'MWRB2515761996641',\n",
      "  'country': 'Kuwait',\n",
      "  'email': 'nmoore@hotmail.com',\n",
      "  'first_name': 'Mark',\n",
      "  'last_name': 'Stone'},\n",
      " {'account': 'CURJ9953745256871',\n",
      "  'country': 'Eritrea',\n",
      "  'email': 'nchurch@yahoo.com',\n",
      "  'first_name': 'Darius',\n",
      "  'last_name': 'Edwards'},\n",
      " {'account': 'ATOT8581137487723',\n",
      "  'country': 'Czech Republic',\n",
      "  'email': 'piercejenna@gmail.com',\n",
      "  'first_name': 'Tracy',\n",
      "  'last_name': 'Lawson'},\n",
      " {'account': 'RQGA0882784089265',\n",
      "  'country': 'Maldives',\n",
      "  'email': 'ddavidson@hotmail.com',\n",
      "  'first_name': 'Christina',\n",
      "  'last_name': 'Cooper'},\n",
      " {'account': 'EOPA8088866975598',\n",
      "  'country': 'Armenia',\n",
      "  'email': 'ndelacruz@yahoo.com',\n",
      "  'first_name': 'Megan',\n",
      "  'last_name': 'Harris'},\n",
      " {'account': 'JCUN9597199552039',\n",
      "  'country': 'Benin',\n",
      "  'email': 'jenniferadkins@griffin.biz',\n",
      "  'first_name': 'Timothy',\n",
      "  'last_name': 'Jones'},\n",
      " {'account': 'IZYL3351829981461',\n",
      "  'country': 'Fiji',\n",
      "  'email': 'evansmiguel@yahoo.com',\n",
      "  'first_name': 'Tracie',\n",
      "  'last_name': 'Burch'},\n",
      " {'account': 'JDIH2349154465371',\n",
      "  'country': 'Iceland',\n",
      "  'email': 'kenneththompson@baxter.com',\n",
      "  'first_name': 'Jason',\n",
      "  'last_name': 'Chung'},\n",
      " {'account': 'VRZP1447516193511',\n",
      "  'country': 'Macedonia',\n",
      "  'email': 'bcurtis@hotmail.com',\n",
      "  'first_name': 'Samantha',\n",
      "  'last_name': 'Melton'},\n",
      " {'account': 'QKAF2254397516681',\n",
      "  'country': 'Serbia',\n",
      "  'email': 'phillipssean@hotmail.com',\n",
      "  'first_name': 'Michael',\n",
      "  'last_name': 'Hansen'}]\n"
     ]
    }
   ],
   "source": [
    "people = []\n",
    "header = None\n",
    "\n",
    "filename = 'people.tsv'\n",
    "with open(filename) as file:\n",
    "    for line in file:\n",
    "        if not line.strip():\n",
    "            continue\n",
    "            \n",
    "        if not header:\n",
    "            header = line.strip().split('\\t')\n",
    "            continue\n",
    "        \n",
    "        line = line.strip().split('\\t')\n",
    "        people.append(dict(zip(header, line)))\n",
    "        \n",
    "from pprint import pprint\n",
    "pprint(people)"
   ]
  },
  {
   "cell_type": "code",
   "execution_count": 140,
   "id": "1dd20ef5",
   "metadata": {},
   "outputs": [
    {
     "data": {
      "text/plain": [
       "{'last_name': 'Owens',\n",
       " 'first_name': 'Jackson',\n",
       " 'email': 'iedwards@yahoo.com',\n",
       " 'country': 'Kazakhstan',\n",
       " 'account': 'FVQZ0955529767455'}"
      ]
     },
     "execution_count": 140,
     "metadata": {},
     "output_type": "execute_result"
    }
   ],
   "source": [
    "people[1]"
   ]
  },
  {
   "cell_type": "code",
   "execution_count": 141,
   "id": "79cb8849",
   "metadata": {},
   "outputs": [
    {
     "data": {
      "text/plain": [
       "'March'"
      ]
     },
     "execution_count": 141,
     "metadata": {},
     "output_type": "execute_result"
    }
   ],
   "source": [
    "# Write a function to convert month number to month name. First use a list and then a dictionary\n",
    "\n",
    "month_number = 2\n",
    "months = [0, 'January', 'February', 'March', 'April', 'May', 'June']\n",
    "months[3]"
   ]
  },
  {
   "cell_type": "code",
   "execution_count": 142,
   "id": "9104190f",
   "metadata": {},
   "outputs": [],
   "source": [
    "md = {index: month for index, month in enumerate(months) if not index == 0}"
   ]
  },
  {
   "cell_type": "code",
   "execution_count": 143,
   "id": "3b90b0de",
   "metadata": {},
   "outputs": [
    {
     "data": {
      "text/plain": [
       "{1: 'January', 2: 'February', 3: 'March', 4: 'April', 5: 'May', 6: 'June'}"
      ]
     },
     "execution_count": 143,
     "metadata": {},
     "output_type": "execute_result"
    }
   ],
   "source": [
    "md"
   ]
  },
  {
   "cell_type": "code",
   "execution_count": 174,
   "id": "c58e3900",
   "metadata": {},
   "outputs": [
    {
     "name": "stdout",
     "output_type": "stream",
     "text": [
      "2 5.0\n",
      "3 6.0\n",
      "4 9.0\n",
      "5 12.0\n",
      "6 19.0\n",
      "7 22.0\n",
      "8 5.0\n",
      "9 12.0\n",
      "10 5.0\n",
      "11 3.0\n",
      "12 2.0\n"
     ]
    }
   ],
   "source": [
    " def simulate2dice(no_sims):\n",
    "    import random\n",
    "    random.seed(1234)\n",
    "    \n",
    "    count_dict = {}\n",
    "    for _ in range(no_sims):\n",
    "        dice1 = random.randint(1,6)\n",
    "        dice2 = random.randint(1,6)\n",
    "        total = dice1 + dice2\n",
    "        \n",
    "        if total not in count_dict:\n",
    "            count_dict[total] = 0    \n",
    "\n",
    "        count_dict[total] += 1\n",
    "        \n",
    "    count_dict = {key: count_dict[key] for key in sorted(count_dict)}\n",
    "    \n",
    "    sim_probl = {key: round(value/no_sims*100, 4) for key, value in count_dict.items()}\n",
    "    return sim_probl\n",
    "    \n",
    "for key, value in simulate2dice(100).items():\n",
    "    print(key, value)"
   ]
  },
  {
   "cell_type": "code",
   "execution_count": 175,
   "id": "142200d7",
   "metadata": {},
   "outputs": [
    {
     "name": "stdout",
     "output_type": "stream",
     "text": [
      "2 2.7\n",
      "3 5.1\n",
      "4 7.6\n",
      "5 11.3\n",
      "6 13.2\n",
      "7 16.0\n",
      "8 14.3\n",
      "9 12.9\n",
      "10 8.5\n",
      "11 6.1\n",
      "12 2.3\n"
     ]
    }
   ],
   "source": [
    "for key, value in simulate2dice(1000).items():\n",
    "    print(key, value)"
   ]
  },
  {
   "cell_type": "code",
   "execution_count": 176,
   "id": "31798c7a",
   "metadata": {},
   "outputs": [
    {
     "name": "stdout",
     "output_type": "stream",
     "text": [
      "2 2.79\n",
      "3 6.3\n",
      "4 7.87\n",
      "5 11.05\n",
      "6 13.95\n",
      "7 16.23\n",
      "8 14.01\n",
      "9 11.02\n",
      "10 8.65\n",
      "11 5.38\n",
      "12 2.75\n"
     ]
    }
   ],
   "source": [
    "for key, value in simulate2dice(10000).items():\n",
    "    print(key, value)"
   ]
  },
  {
   "cell_type": "code",
   "execution_count": 177,
   "id": "029d42dd",
   "metadata": {},
   "outputs": [
    {
     "name": "stdout",
     "output_type": "stream",
     "text": [
      "2 2.762\n",
      "3 5.643\n",
      "4 8.32\n",
      "5 11.027\n",
      "6 13.815\n",
      "7 16.696\n",
      "8 14.009\n",
      "9 11.123\n",
      "10 8.287\n",
      "11 5.57\n",
      "12 2.748\n"
     ]
    }
   ],
   "source": [
    "for key, value in simulate2dice(100000).items():\n",
    "    print(key, value)"
   ]
  },
  {
   "cell_type": "code",
   "execution_count": 178,
   "id": "e69fe7eb",
   "metadata": {},
   "outputs": [
    {
     "name": "stdout",
     "output_type": "stream",
     "text": [
      "2 2.7453\n",
      "3 5.5765\n",
      "4 8.3696\n",
      "5 11.1185\n",
      "6 13.8912\n",
      "7 16.6384\n",
      "8 13.8941\n",
      "9 11.119\n",
      "10 8.3224\n",
      "11 5.546\n",
      "12 2.779\n"
     ]
    }
   ],
   "source": [
    "for key, value in simulate2dice(1000000).items():\n",
    "    print(key, value)"
   ]
  },
  {
   "cell_type": "code",
   "execution_count": 179,
   "id": "6d1e766c",
   "metadata": {},
   "outputs": [
    {
     "name": "stdout",
     "output_type": "stream",
     "text": [
      "2 2.7742\n",
      "3 5.5557\n",
      "4 8.3389\n",
      "5 11.1199\n",
      "6 13.8956\n",
      "7 16.6559\n",
      "8 13.8808\n",
      "9 11.1149\n",
      "10 8.3229\n",
      "11 5.5624\n",
      "12 2.7788\n"
     ]
    }
   ],
   "source": [
    "for key, value in simulate2dice(10000000).items():\n",
    "    print(key, value)"
   ]
  },
  {
   "cell_type": "code",
   "execution_count": 183,
   "id": "07318fc1",
   "metadata": {},
   "outputs": [],
   "source": [
    "from collections import defaultdict\n",
    "x = defaultdict(int)\n",
    "x[3] += 1"
   ]
  },
  {
   "cell_type": "code",
   "execution_count": 184,
   "id": "018ff246",
   "metadata": {},
   "outputs": [
    {
     "data": {
      "text/plain": [
       "defaultdict(int, {3: 1})"
      ]
     },
     "execution_count": 184,
     "metadata": {},
     "output_type": "execute_result"
    }
   ],
   "source": [
    "x"
   ]
  },
  {
   "cell_type": "code",
   "execution_count": 185,
   "id": "60a92c05",
   "metadata": {},
   "outputs": [
    {
     "ename": "KeyError",
     "evalue": "3",
     "output_type": "error",
     "traceback": [
      "\u001b[1;31m---------------------------------------------------------------------------\u001b[0m",
      "\u001b[1;31mKeyError\u001b[0m                                  Traceback (most recent call last)",
      "\u001b[1;32m~\\AppData\\Local\\Temp/ipykernel_24040/1459497443.py\u001b[0m in \u001b[0;36m<module>\u001b[1;34m\u001b[0m\n\u001b[0;32m      1\u001b[0m \u001b[0mx\u001b[0m \u001b[1;33m=\u001b[0m \u001b[1;33m{\u001b[0m\u001b[1;33m}\u001b[0m\u001b[1;33m\u001b[0m\u001b[1;33m\u001b[0m\u001b[0m\n\u001b[1;32m----> 2\u001b[1;33m \u001b[0mx\u001b[0m\u001b[1;33m[\u001b[0m\u001b[1;36m3\u001b[0m\u001b[1;33m]\u001b[0m\u001b[1;33m+=\u001b[0m\u001b[1;36m1\u001b[0m\u001b[1;33m\u001b[0m\u001b[1;33m\u001b[0m\u001b[0m\n\u001b[0m",
      "\u001b[1;31mKeyError\u001b[0m: 3"
     ]
    }
   ],
   "source": [
    "x = {}\n",
    "x[3]+=1"
   ]
  },
  {
   "cell_type": "code",
   "execution_count": 186,
   "id": "b850821b",
   "metadata": {},
   "outputs": [
    {
     "ename": "KeyError",
     "evalue": "'grades'",
     "output_type": "error",
     "traceback": [
      "\u001b[1;31m---------------------------------------------------------------------------\u001b[0m",
      "\u001b[1;31mKeyError\u001b[0m                                  Traceback (most recent call last)",
      "\u001b[1;32m~\\AppData\\Local\\Temp/ipykernel_24040/1300067831.py\u001b[0m in \u001b[0;36m<module>\u001b[1;34m\u001b[0m\n\u001b[0;32m      1\u001b[0m \u001b[0mx\u001b[0m \u001b[1;33m=\u001b[0m \u001b[1;33m{\u001b[0m\u001b[1;33m}\u001b[0m\u001b[1;33m\u001b[0m\u001b[1;33m\u001b[0m\u001b[0m\n\u001b[1;32m----> 2\u001b[1;33m \u001b[0mx\u001b[0m\u001b[1;33m[\u001b[0m\u001b[1;34m'grades'\u001b[0m\u001b[1;33m]\u001b[0m\u001b[1;33m.\u001b[0m\u001b[0mappend\u001b[0m\u001b[1;33m(\u001b[0m\u001b[1;36m86\u001b[0m\u001b[1;33m)\u001b[0m\u001b[1;33m\u001b[0m\u001b[1;33m\u001b[0m\u001b[0m\n\u001b[0m",
      "\u001b[1;31mKeyError\u001b[0m: 'grades'"
     ]
    }
   ],
   "source": [
    "x = {}\n",
    "x['grades'].append(86)\n"
   ]
  },
  {
   "cell_type": "code",
   "execution_count": 189,
   "id": "66278080",
   "metadata": {},
   "outputs": [
    {
     "name": "stdout",
     "output_type": "stream",
     "text": [
      "{'grades': [86]}\n"
     ]
    }
   ],
   "source": [
    "x = defaultdict(list)\n",
    "x['grades'].append(86)\n",
    "print(dict(x))"
   ]
  },
  {
   "cell_type": "code",
   "execution_count": 190,
   "id": "796fc0fe",
   "metadata": {},
   "outputs": [
    {
     "data": {
      "text/plain": [
       "{2: 25.0,\n",
       " 3: 8.3333,\n",
       " 4: 8.3333,\n",
       " 5: 16.6667,\n",
       " 6: 16.6667,\n",
       " 9: 8.3333,\n",
       " 11: 8.3333,\n",
       " 12: 8.3333}"
      ]
     },
     "execution_count": 190,
     "metadata": {},
     "output_type": "execute_result"
    }
   ],
   "source": [
    " def simulate2dice(no_sims):\n",
    "    import random\n",
    "    random.seed(1234)\n",
    "    \n",
    "    count_dict = defaultdict(int)\n",
    "    for _ in range(no_sims):\n",
    "        dice1 = random.randint(1,6)\n",
    "        dice2 = random.randint(1,6)\n",
    "        total = dice1 + dice2\n",
    "        \n",
    "\n",
    "        count_dict[total] += 1\n",
    "        \n",
    "    count_dict = {key: count_dict[key] for key in sorted(count_dict)}\n",
    "    \n",
    "    sim_probl = {key: round(value/no_sims*100, 4) for key, value in count_dict.items()}\n",
    "    return sim_probl\n",
    "\n",
    "simulate2dice(12)"
   ]
  },
  {
   "cell_type": "code",
   "execution_count": 192,
   "id": "dda800d8",
   "metadata": {},
   "outputs": [
    {
     "data": {
      "text/plain": [
       "['123', '123, 444']"
      ]
     },
     "execution_count": 192,
     "metadata": {},
     "output_type": "execute_result"
    }
   ],
   "source": [
    "x = '123, 123, 444'\n",
    "x.split(', ', 1)"
   ]
  },
  {
   "cell_type": "code",
   "execution_count": null,
   "id": "27d042ad",
   "metadata": {},
   "outputs": [],
   "source": []
  }
 ],
 "metadata": {
  "kernelspec": {
   "display_name": "Python 3 (ipykernel)",
   "language": "python",
   "name": "python3"
  },
  "language_info": {
   "codemirror_mode": {
    "name": "ipython",
    "version": 3
   },
   "file_extension": ".py",
   "mimetype": "text/x-python",
   "name": "python",
   "nbconvert_exporter": "python",
   "pygments_lexer": "ipython3",
   "version": "3.8.12"
  }
 },
 "nbformat": 4,
 "nbformat_minor": 5
}
