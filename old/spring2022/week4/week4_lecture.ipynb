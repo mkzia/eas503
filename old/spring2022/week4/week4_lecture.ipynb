{
 "cells": [
  {
   "cell_type": "code",
   "execution_count": 1,
   "id": "cf8cf788",
   "metadata": {},
   "outputs": [],
   "source": [
    "x = 'aabc'"
   ]
  },
  {
   "cell_type": "code",
   "execution_count": 2,
   "id": "b62b7029",
   "metadata": {},
   "outputs": [
    {
     "data": {
      "text/plain": [
       "4"
      ]
     },
     "execution_count": 2,
     "metadata": {},
     "output_type": "execute_result"
    }
   ],
   "source": [
    "len(x)"
   ]
  },
  {
   "cell_type": "code",
   "execution_count": 4,
   "id": "6d254180",
   "metadata": {},
   "outputs": [
    {
     "data": {
      "text/plain": [
       "0"
      ]
     },
     "execution_count": 4,
     "metadata": {},
     "output_type": "execute_result"
    }
   ],
   "source": [
    "x.count('A')"
   ]
  },
  {
   "cell_type": "code",
   "execution_count": 5,
   "id": "f90ba880",
   "metadata": {},
   "outputs": [],
   "source": [
    "x = (1, 2, 3)"
   ]
  },
  {
   "cell_type": "code",
   "execution_count": 6,
   "id": "207a3af7",
   "metadata": {},
   "outputs": [
    {
     "ename": "TypeError",
     "evalue": "'tuple' object does not support item assignment",
     "output_type": "error",
     "traceback": [
      "\u001b[1;31m---------------------------------------------------------------------------\u001b[0m",
      "\u001b[1;31mTypeError\u001b[0m                                 Traceback (most recent call last)",
      "\u001b[1;32m~\\AppData\\Local\\Temp/ipykernel_13120/2628028953.py\u001b[0m in \u001b[0;36m<module>\u001b[1;34m\u001b[0m\n\u001b[1;32m----> 1\u001b[1;33m \u001b[0mx\u001b[0m\u001b[1;33m[\u001b[0m\u001b[1;36m1\u001b[0m\u001b[1;33m]\u001b[0m \u001b[1;33m=\u001b[0m \u001b[1;36m3\u001b[0m\u001b[1;33m\u001b[0m\u001b[1;33m\u001b[0m\u001b[0m\n\u001b[0m",
      "\u001b[1;31mTypeError\u001b[0m: 'tuple' object does not support item assignment"
     ]
    }
   ],
   "source": [
    "x[1] = 3"
   ]
  },
  {
   "cell_type": "code",
   "execution_count": 7,
   "id": "ea5e6b16",
   "metadata": {},
   "outputs": [],
   "source": [
    "x = (1, [2,3], 3)"
   ]
  },
  {
   "cell_type": "code",
   "execution_count": 8,
   "id": "8ded4f9d",
   "metadata": {},
   "outputs": [
    {
     "data": {
      "text/plain": [
       "3"
      ]
     },
     "execution_count": 8,
     "metadata": {},
     "output_type": "execute_result"
    }
   ],
   "source": [
    "x[1][1]"
   ]
  },
  {
   "cell_type": "code",
   "execution_count": 10,
   "id": "4e56d4e7",
   "metadata": {},
   "outputs": [
    {
     "data": {
      "text/plain": [
       "False"
      ]
     },
     "execution_count": 10,
     "metadata": {},
     "output_type": "execute_result"
    }
   ],
   "source": [
    "59 == True"
   ]
  },
  {
   "cell_type": "code",
   "execution_count": 14,
   "id": "35f8e369",
   "metadata": {},
   "outputs": [
    {
     "name": "stdout",
     "output_type": "stream",
     "text": [
      "1\n",
      "2\n",
      "3\n",
      "4\n",
      "5\n"
     ]
    }
   ],
   "source": [
    "sequence = [1, 2, 3, 4, 5]\n",
    "\n",
    "for ele in sequence:\n",
    "    print(ele)"
   ]
  },
  {
   "cell_type": "code",
   "execution_count": 12,
   "id": "d7825e72",
   "metadata": {},
   "outputs": [
    {
     "name": "stdout",
     "output_type": "stream",
     "text": [
      "0 1\n",
      "1 2\n",
      "2 3\n",
      "3 4\n",
      "4 5\n"
     ]
    }
   ],
   "source": [
    "len_sequence = len(sequence)\n",
    "for index in range(len_sequence):\n",
    "    print(index, sequence[index])\n",
    "# for (i==1, i<=10, i++) "
   ]
  },
  {
   "cell_type": "code",
   "execution_count": 24,
   "id": "738497c8",
   "metadata": {},
   "outputs": [],
   "source": [
    "# range(start:stop:step) # [start:step:stop)\n",
    "\n",
    "x = list(range(4))"
   ]
  },
  {
   "cell_type": "code",
   "execution_count": 25,
   "id": "c1854bef",
   "metadata": {},
   "outputs": [
    {
     "name": "stdout",
     "output_type": "stream",
     "text": [
      "[0, 1, 2, 3]\n"
     ]
    }
   ],
   "source": [
    "print(x)"
   ]
  },
  {
   "cell_type": "code",
   "execution_count": 26,
   "id": "e298ae98",
   "metadata": {},
   "outputs": [
    {
     "name": "stdout",
     "output_type": "stream",
     "text": [
      "5\n"
     ]
    }
   ],
   "source": [
    "sequence = [1, 2, 3, 4, 5]\n",
    "len_sequence = len(sequence)\n",
    "print(len_sequence)"
   ]
  },
  {
   "cell_type": "code",
   "execution_count": 27,
   "id": "a53e6016",
   "metadata": {},
   "outputs": [
    {
     "data": {
      "text/plain": [
       "4"
      ]
     },
     "execution_count": 27,
     "metadata": {},
     "output_type": "execute_result"
    }
   ],
   "source": [
    "sequence[3]"
   ]
  },
  {
   "cell_type": "code",
   "execution_count": 28,
   "id": "31c29b21",
   "metadata": {},
   "outputs": [
    {
     "data": {
      "text/plain": [
       "3"
      ]
     },
     "execution_count": 28,
     "metadata": {},
     "output_type": "execute_result"
    }
   ],
   "source": [
    "sequence[2]"
   ]
  },
  {
   "cell_type": "code",
   "execution_count": 29,
   "id": "f5c1b363",
   "metadata": {},
   "outputs": [],
   "source": [
    "x = list(range(len_sequence))"
   ]
  },
  {
   "cell_type": "code",
   "execution_count": 30,
   "id": "8cece8ba",
   "metadata": {},
   "outputs": [
    {
     "name": "stdout",
     "output_type": "stream",
     "text": [
      "[0, 1, 2, 3, 4]\n"
     ]
    }
   ],
   "source": [
    "print(x)"
   ]
  },
  {
   "cell_type": "code",
   "execution_count": 32,
   "id": "f8fa86f9",
   "metadata": {},
   "outputs": [
    {
     "name": "stdout",
     "output_type": "stream",
     "text": [
      "Index=0; Value = 1\n",
      "Index=1; Value = 2\n",
      "Index=2; Value = 3\n",
      "Index=3; Value = 4\n",
      "Index=4; Value = 5\n"
     ]
    }
   ],
   "source": [
    "for index in range(len_sequence):\n",
    "    print(f'Index={index}; Value = {sequence[index]}')"
   ]
  },
  {
   "cell_type": "code",
   "execution_count": 34,
   "id": "99a2ea20",
   "metadata": {},
   "outputs": [],
   "source": [
    "x = range(10)"
   ]
  },
  {
   "cell_type": "code",
   "execution_count": 35,
   "id": "84c42b37",
   "metadata": {},
   "outputs": [
    {
     "name": "stdout",
     "output_type": "stream",
     "text": [
      "range(0, 10)\n"
     ]
    }
   ],
   "source": [
    "print(x)"
   ]
  },
  {
   "cell_type": "code",
   "execution_count": 37,
   "id": "584f18b3",
   "metadata": {},
   "outputs": [
    {
     "data": {
      "text/plain": [
       "[0, 1, 2, 3, 4, 5, 6, 7, 8, 9]"
      ]
     },
     "execution_count": 37,
     "metadata": {},
     "output_type": "execute_result"
    }
   ],
   "source": [
    "list(x)"
   ]
  },
  {
   "cell_type": "code",
   "execution_count": 38,
   "id": "2e9084ae",
   "metadata": {},
   "outputs": [
    {
     "name": "stdout",
     "output_type": "stream",
     "text": [
      "0\n",
      "1\n",
      "2\n",
      "3\n",
      "4\n",
      "5\n",
      "6\n",
      "7\n",
      "8\n",
      "9\n"
     ]
    }
   ],
   "source": [
    "for ele in x:\n",
    "    print(ele)"
   ]
  },
  {
   "cell_type": "code",
   "execution_count": 40,
   "id": "e2bd2648",
   "metadata": {},
   "outputs": [
    {
     "name": "stdout",
     "output_type": "stream",
     "text": [
      "1 2\n"
     ]
    }
   ],
   "source": [
    "def return2():\n",
    "    return (1,2)\n",
    "\n",
    "a, b = return2()\n",
    "print(a,b)"
   ]
  },
  {
   "cell_type": "code",
   "execution_count": 41,
   "id": "accd8c5c",
   "metadata": {},
   "outputs": [
    {
     "name": "stdout",
     "output_type": "stream",
     "text": [
      "0 4\n",
      "1 10\n",
      "2 3\n",
      "3 8\n",
      "4 -6\n"
     ]
    }
   ],
   "source": [
    "values = [4, 10, 3, 8, -6]\n",
    "for index, value in enumerate(values):\n",
    "    print(index, value)"
   ]
  },
  {
   "cell_type": "code",
   "execution_count": 42,
   "id": "8a3e7408",
   "metadata": {},
   "outputs": [
    {
     "name": "stdout",
     "output_type": "stream",
     "text": [
      "1 4\n",
      "2 10\n",
      "3 3\n",
      "4 8\n",
      "5 -6\n"
     ]
    }
   ],
   "source": [
    "values = [4, 10, 3, 8, -6]\n",
    "for index, value in enumerate(values, 1):\n",
    "    print(index, value)"
   ]
  },
  {
   "cell_type": "code",
   "execution_count": 43,
   "id": "aee08c3f",
   "metadata": {},
   "outputs": [
    {
     "name": "stdout",
     "output_type": "stream",
     "text": [
      "10 4\n",
      "11 10\n",
      "12 3\n",
      "13 8\n",
      "14 -6\n"
     ]
    }
   ],
   "source": [
    "values = [4, 10, 3, 8, -6]\n",
    "for index, value in enumerate(values, 10):\n",
    "    print(index, value)"
   ]
  },
  {
   "cell_type": "code",
   "execution_count": 45,
   "id": "1348a1a2",
   "metadata": {},
   "outputs": [],
   "source": [
    "values = [4, 10, 3, 8, -6]\n",
    "for i in range(len(values)):\n",
    "    values[i] = values[i] * 2"
   ]
  },
  {
   "cell_type": "code",
   "execution_count": 46,
   "id": "f2ad130d",
   "metadata": {},
   "outputs": [
    {
     "name": "stdout",
     "output_type": "stream",
     "text": [
      "[8, 20, 6, 16, -12]\n"
     ]
    }
   ],
   "source": [
    "print(values)"
   ]
  },
  {
   "cell_type": "code",
   "execution_count": 48,
   "id": "98c3d005",
   "metadata": {},
   "outputs": [
    {
     "name": "stdout",
     "output_type": "stream",
     "text": [
      "0 4\n",
      "1 10\n",
      "2 3\n",
      "3 8\n",
      "4 -6\n",
      "[8, 20, 6, 16, -12]\n"
     ]
    }
   ],
   "source": [
    "values = [4, 10, 3, 8, -6]\n",
    "for idx, ele in enumerate(values):\n",
    "    print(idx, ele)\n",
    "    values[idx] = ele * 2\n",
    "    \n",
    "print(values)"
   ]
  },
  {
   "cell_type": "code",
   "execution_count": 51,
   "id": "8d32f6d7",
   "metadata": {},
   "outputs": [
    {
     "name": "stdout",
     "output_type": "stream",
     "text": [
      "(0, 8)\n"
     ]
    },
    {
     "ename": "TypeError",
     "evalue": "list indices must be integers or slices, not tuple",
     "output_type": "error",
     "traceback": [
      "\u001b[1;31m---------------------------------------------------------------------------\u001b[0m",
      "\u001b[1;31mTypeError\u001b[0m                                 Traceback (most recent call last)",
      "\u001b[1;32m~\\AppData\\Local\\Temp/ipykernel_13120/1459271725.py\u001b[0m in \u001b[0;36m<module>\u001b[1;34m\u001b[0m\n\u001b[0;32m      1\u001b[0m \u001b[1;32mfor\u001b[0m \u001b[0mindex\u001b[0m \u001b[1;32min\u001b[0m \u001b[0menumerate\u001b[0m\u001b[1;33m(\u001b[0m\u001b[0mvalues\u001b[0m\u001b[1;33m)\u001b[0m\u001b[1;33m:\u001b[0m\u001b[1;33m\u001b[0m\u001b[1;33m\u001b[0m\u001b[0m\n\u001b[0;32m      2\u001b[0m     \u001b[0mprint\u001b[0m\u001b[1;33m(\u001b[0m\u001b[0mindex\u001b[0m\u001b[1;33m)\u001b[0m\u001b[1;33m\u001b[0m\u001b[1;33m\u001b[0m\u001b[0m\n\u001b[1;32m----> 3\u001b[1;33m     \u001b[0mvalues\u001b[0m\u001b[1;33m[\u001b[0m\u001b[0mindex\u001b[0m\u001b[1;33m]\u001b[0m \u001b[1;33m=\u001b[0m \u001b[0mvalues\u001b[0m\u001b[1;33m[\u001b[0m\u001b[0mindex\u001b[0m\u001b[1;33m]\u001b[0m \u001b[1;33m*\u001b[0m \u001b[1;36m2\u001b[0m\u001b[1;33m\u001b[0m\u001b[1;33m\u001b[0m\u001b[0m\n\u001b[0m",
      "\u001b[1;31mTypeError\u001b[0m: list indices must be integers or slices, not tuple"
     ]
    }
   ],
   "source": [
    "for index in enumerate(values):\n",
    "    print(indexb)\n",
    "    values[index] = values[index] * 2"
   ]
  },
  {
   "cell_type": "code",
   "execution_count": 53,
   "id": "da5bdd7b",
   "metadata": {},
   "outputs": [
    {
     "name": "stdout",
     "output_type": "stream",
     "text": [
      "[8, 20, 6, 16, -12]\n"
     ]
    }
   ],
   "source": [
    "values = [4, 10, 3, 8, -6]\n",
    "for idx, somevalue in enumerate(values):\n",
    "    values[idx] = somevalue * 2\n",
    "    \n",
    "print(values)"
   ]
  },
  {
   "cell_type": "code",
   "execution_count": 55,
   "id": "34a66aeb",
   "metadata": {},
   "outputs": [
    {
     "name": "stdout",
     "output_type": "stream",
     "text": [
      "0 Li 6.941\n",
      "1 Na 22.98976928\n",
      "2 K 39.0983\n"
     ]
    }
   ],
   "source": [
    "metals = ['Li', 'Na', 'K']\n",
    "weights = [6.941, 22.98976928, 39.0983]\n",
    "for i in range(len(metals)):\n",
    "    print(i, metals[i], weights[i])"
   ]
  },
  {
   "cell_type": "code",
   "execution_count": 60,
   "id": "d727bff9",
   "metadata": {},
   "outputs": [
    {
     "name": "stdout",
     "output_type": "stream",
     "text": [
      "Li 6.941\n",
      "Na 22.98976928\n",
      "K 39.0983\n"
     ]
    }
   ],
   "source": [
    "metals = ['Li', 'Na', 'K']\n",
    "weights = [6.941, 22.98976928, 39.0983]\n",
    "for metal, weight in zip(metals, weights):\n",
    "    print(metal, weight)"
   ]
  },
  {
   "cell_type": "code",
   "execution_count": 61,
   "id": "88f42ee3",
   "metadata": {},
   "outputs": [],
   "source": [
    "x = zip(metals, weights)"
   ]
  },
  {
   "cell_type": "code",
   "execution_count": 62,
   "id": "28fa099d",
   "metadata": {},
   "outputs": [
    {
     "name": "stdout",
     "output_type": "stream",
     "text": [
      "<zip object at 0x0000025541B3F4C0>\n"
     ]
    }
   ],
   "source": [
    "print(x)"
   ]
  },
  {
   "cell_type": "code",
   "execution_count": 63,
   "id": "56a80e54",
   "metadata": {},
   "outputs": [
    {
     "name": "stdout",
     "output_type": "stream",
     "text": [
      "('Li', 6.941)\n",
      "('Na', 22.98976928)\n",
      "('K', 39.0983)\n"
     ]
    }
   ],
   "source": [
    "for ele in x:\n",
    "    print(ele)"
   ]
  },
  {
   "cell_type": "code",
   "execution_count": 64,
   "id": "24570255",
   "metadata": {},
   "outputs": [],
   "source": [
    "for ele in x:\n",
    "    print(ele)"
   ]
  },
  {
   "cell_type": "code",
   "execution_count": 65,
   "id": "5da810d6",
   "metadata": {},
   "outputs": [],
   "source": [
    "x = list(zip(metals, weights))"
   ]
  },
  {
   "cell_type": "code",
   "execution_count": 66,
   "id": "2da23c60",
   "metadata": {},
   "outputs": [
    {
     "data": {
      "text/plain": [
       "[('Li', 6.941), ('Na', 22.98976928), ('K', 39.0983)]"
      ]
     },
     "execution_count": 66,
     "metadata": {},
     "output_type": "execute_result"
    }
   ],
   "source": [
    "x"
   ]
  },
  {
   "cell_type": "code",
   "execution_count": 68,
   "id": "6d110d42",
   "metadata": {},
   "outputs": [
    {
     "name": "stdout",
     "output_type": "stream",
     "text": [
      "('Li', 6.941)\n",
      "('Na', 22.98976928)\n",
      "('K', 39.0983)\n"
     ]
    }
   ],
   "source": [
    "for ele in x:\n",
    "    print(ele)"
   ]
  },
  {
   "cell_type": "code",
   "execution_count": 69,
   "id": "617532d4",
   "metadata": {},
   "outputs": [
    {
     "name": "stdout",
     "output_type": "stream",
     "text": [
      "('Li', 6.941)\n",
      "('Na', 22.98976928)\n",
      "('K', 39.0983)\n"
     ]
    }
   ],
   "source": [
    "for ele in x:\n",
    "    print(ele)"
   ]
  },
  {
   "cell_type": "code",
   "execution_count": 71,
   "id": "7dabdc45",
   "metadata": {},
   "outputs": [
    {
     "name": "stdout",
     "output_type": "stream",
     "text": [
      "Li 6.941\n",
      "Na 22.98976928\n",
      "K 39.0983\n",
      "H 1\n"
     ]
    }
   ],
   "source": [
    "metals = ['Li', 'Na', 'K', 'H']\n",
    "weights = [6.941, 22.98976928, 39.0983, 1, 5]\n",
    "for metal, weight in zip(metals, weights):\n",
    "    print(metal, weight)"
   ]
  },
  {
   "cell_type": "code",
   "execution_count": 72,
   "id": "95e882e8",
   "metadata": {},
   "outputs": [
    {
     "name": "stdout",
     "output_type": "stream",
     "text": [
      "Li 6.941 1\n",
      "Na 22.98976928 2\n",
      "K 39.0983 3\n"
     ]
    }
   ],
   "source": [
    "metals = ['Li', 'Na', 'K',]\n",
    "weights = [6.941, 22.98976928, 39.0983,]\n",
    "blahs = [1, 2, 3]\n",
    "for metal, weight, blah in zip(metals, weights, blahs):\n",
    "    print(metal, weight, blah)"
   ]
  },
  {
   "cell_type": "code",
   "execution_count": 73,
   "id": "4b18a617",
   "metadata": {},
   "outputs": [],
   "source": [
    "values = tuple(zip(metals, weights, blahs))"
   ]
  },
  {
   "cell_type": "code",
   "execution_count": 74,
   "id": "dd5f7c39",
   "metadata": {},
   "outputs": [
    {
     "name": "stdout",
     "output_type": "stream",
     "text": [
      "('Li', 6.941, 1)\n",
      "('Na', 22.98976928, 2)\n",
      "('K', 39.0983, 3)\n"
     ]
    }
   ],
   "source": [
    "for value in values:\n",
    "    print(value)"
   ]
  },
  {
   "cell_type": "code",
   "execution_count": 75,
   "id": "7e90bbcd",
   "metadata": {},
   "outputs": [
    {
     "name": "stdout",
     "output_type": "stream",
     "text": [
      "Li 6.941 1\n",
      "Na 22.98976928 2\n",
      "K 39.0983 3\n"
     ]
    }
   ],
   "source": [
    "for metal, weight, blah in values:\n",
    "    print(metal, weight, blah)"
   ]
  },
  {
   "cell_type": "code",
   "execution_count": 76,
   "id": "44f0cce0",
   "metadata": {},
   "outputs": [
    {
     "name": "stdout",
     "output_type": "stream",
     "text": [
      "Li\n",
      "Na\n",
      "K\n",
      "F\n",
      "Cl\n",
      "Br\n"
     ]
    }
   ],
   "source": [
    "elements = [['Li', 'Na', 'K'], ['F', 'Cl', 'Br']]\n",
    "for inner_list in elements:\n",
    "    for item in inner_list:\n",
    "        print(item)"
   ]
  },
  {
   "cell_type": "code",
   "execution_count": 77,
   "id": "b8994d7a",
   "metadata": {},
   "outputs": [
    {
     "name": "stdout",
     "output_type": "stream",
     "text": [
      "3\n",
      "3\n",
      "4\n"
     ]
    }
   ],
   "source": [
    "info = [['Isaac Newton', 1643, 1727],\n",
    "    ['Charles Darwin', 1809, 1882],\n",
    "    ['Alan Turing', 1912, 1954, 'alan@bletchley.uk']]\n",
    "for item in info:\n",
    "    print(len(item))"
   ]
  },
  {
   "cell_type": "code",
   "execution_count": 78,
   "id": "583bda18",
   "metadata": {},
   "outputs": [
    {
     "data": {
      "text/plain": [
       "6"
      ]
     },
     "execution_count": 78,
     "metadata": {},
     "output_type": "execute_result"
    }
   ],
   "source": [
    "# Write a function that takes in a list of values and returns its sum\n",
    "\n",
    "def my_summer(values):\n",
    "    return sum(values)\n",
    "\n",
    "\n",
    "values = [1, 2, 3]\n",
    "my_summer(values)"
   ]
  },
  {
   "cell_type": "code",
   "execution_count": 79,
   "id": "68a03b7c",
   "metadata": {},
   "outputs": [
    {
     "data": {
      "text/plain": [
       "6"
      ]
     },
     "execution_count": 79,
     "metadata": {},
     "output_type": "execute_result"
    }
   ],
   "source": [
    "def my_summer(values):\n",
    "    total = 0\n",
    "    for value in values:\n",
    "        total += value\n",
    "    return total\n",
    "\n",
    "\n",
    "values = [1, 2, 3]\n",
    "my_summer(values)"
   ]
  },
  {
   "cell_type": "code",
   "execution_count": 80,
   "id": "9b90ae53",
   "metadata": {},
   "outputs": [
    {
     "data": {
      "text/plain": [
       "20"
      ]
     },
     "execution_count": 80,
     "metadata": {},
     "output_type": "execute_result"
    }
   ],
   "source": [
    "def my_summer(values):\n",
    "    total = 0\n",
    "    for value in values:\n",
    "        if value % 2 == 0:\n",
    "            total += value\n",
    "    return total\n",
    "\n",
    "\n",
    "values = range(10)\n",
    "my_summer(values)"
   ]
  },
  {
   "cell_type": "code",
   "execution_count": 83,
   "id": "9e6c4d52",
   "metadata": {},
   "outputs": [
    {
     "data": {
      "text/plain": [
       "4.5"
      ]
     },
     "execution_count": 83,
     "metadata": {},
     "output_type": "execute_result"
    }
   ],
   "source": [
    "# Write a function that takes in a list of values and returns its average\n",
    "\n",
    "def average(values):\n",
    "    total = 0\n",
    "    for value in values:\n",
    "        total += value\n",
    "    average = total/len(values)\n",
    "    return average\n",
    "values = range(10)\n",
    "average(values)"
   ]
  },
  {
   "cell_type": "code",
   "execution_count": 85,
   "id": "ac7d68ec",
   "metadata": {},
   "outputs": [
    {
     "data": {
      "text/plain": [
       "4.5"
      ]
     },
     "execution_count": 85,
     "metadata": {},
     "output_type": "execute_result"
    }
   ],
   "source": [
    "\n",
    "def average(values):    \n",
    "    return sum(values)/len(values)\n",
    "values = range(10)\n",
    "average(values)"
   ]
  },
  {
   "cell_type": "code",
   "execution_count": 87,
   "id": "efb55672",
   "metadata": {},
   "outputs": [
    {
     "data": {
      "text/plain": [
       "[2, 4, 6, 8]"
      ]
     },
     "execution_count": 87,
     "metadata": {},
     "output_type": "execute_result"
    }
   ],
   "source": [
    "# Write a function that multiplies the elements of the list by two and returns them\n",
    "\n",
    "def multiply2(values):\n",
    "    \n",
    "    for i, v in enumerate(values):\n",
    "        values[i] = v * 2\n",
    "        \n",
    "    return values\n",
    "\n",
    "values = [1, 2, 3, 4]\n",
    "multiply2(values)"
   ]
  },
  {
   "cell_type": "code",
   "execution_count": 88,
   "id": "cb43e459",
   "metadata": {},
   "outputs": [
    {
     "data": {
      "text/plain": [
       "[2, 4, 6, 8]"
      ]
     },
     "execution_count": 88,
     "metadata": {},
     "output_type": "execute_result"
    }
   ],
   "source": [
    "values"
   ]
  },
  {
   "cell_type": "code",
   "execution_count": 89,
   "id": "72243834",
   "metadata": {},
   "outputs": [
    {
     "name": "stdout",
     "output_type": "stream",
     "text": [
      "Before function call [1, 2, 3, 4]\n",
      "Value returned from function [2, 4, 6, 8]\n",
      "After function call [2, 4, 6, 8]\n"
     ]
    }
   ],
   "source": [
    "\n",
    "def multiply2(values):\n",
    "    \n",
    "    for i, v in enumerate(values):\n",
    "        values[i] = v * 2\n",
    "        \n",
    "    return values\n",
    "\n",
    "values = [1, 2, 3, 4]\n",
    "print('Before function call', values)\n",
    "a = multiply2(values)\n",
    "print('Value returned from function', a)\n",
    "print('After function call', values)"
   ]
  },
  {
   "cell_type": "code",
   "execution_count": 90,
   "id": "55de7a6a",
   "metadata": {},
   "outputs": [
    {
     "name": "stdout",
     "output_type": "stream",
     "text": [
      "Before function call [1, 2, 3, 4]\n",
      "Value returned from function [2, 4, 6, 8]\n",
      "After function call [1, 2, 3, 4]\n"
     ]
    }
   ],
   "source": [
    "def multiply2(values):\n",
    "    output = []\n",
    "    for i, v in enumerate(values):\n",
    "        output.append(v*2)\n",
    "        \n",
    "    return output\n",
    "\n",
    "values = [1, 2, 3, 4]\n",
    "print('Before function call', values)\n",
    "a = multiply2(values)\n",
    "print('Value returned from function', a)\n",
    "print('After function call', values)"
   ]
  },
  {
   "cell_type": "code",
   "execution_count": 91,
   "id": "6518a4a9",
   "metadata": {},
   "outputs": [
    {
     "data": {
      "text/plain": [
       "[1, 4, 9, 16]"
      ]
     },
     "execution_count": 91,
     "metadata": {},
     "output_type": "execute_result"
    }
   ],
   "source": [
    "# Write a pow() function that computes the power of each element in a list\n",
    "\n",
    "def my_pow(values, power):\n",
    "    output = []\n",
    "    for val in values:\n",
    "        output.append(val**power)\n",
    "    return output\n",
    "values = [1, 2, 3, 4]\n",
    "my_pow(values, 2)"
   ]
  },
  {
   "cell_type": "code",
   "execution_count": 92,
   "id": "960567e4",
   "metadata": {},
   "outputs": [
    {
     "data": {
      "text/plain": [
       "[1, 8, 27, 64]"
      ]
     },
     "execution_count": 92,
     "metadata": {},
     "output_type": "execute_result"
    }
   ],
   "source": [
    "my_pow(values, 3)"
   ]
  },
  {
   "cell_type": "code",
   "execution_count": 93,
   "id": "b73a7ff7",
   "metadata": {},
   "outputs": [
    {
     "data": {
      "text/plain": [
       "[1, 2, 3, 4, 5, 6, 7]"
      ]
     },
     "execution_count": 93,
     "metadata": {},
     "output_type": "execute_result"
    }
   ],
   "source": [
    "# Write a function to remove duplicate from a list\n",
    "\n",
    "def remove_duplicate(values):\n",
    "    output = []\n",
    "    for val in values:\n",
    "        if val not in output:\n",
    "            output.append(val)\n",
    "            \n",
    "    return output\n",
    "\n",
    "values = [1, 2, 3, 3, 3, 4, 4, 5,6, 7,]\n",
    "remove_duplicate(values)"
   ]
  },
  {
   "cell_type": "markdown",
   "id": "991e94a9",
   "metadata": {},
   "source": [
    "Write a function that reads grades from an input file and calculates their average\n",
    "\n",
    "    input: filename\n",
    "\n",
    "    use: for_ex7_data1.txt\n",
    "\n",
    "    use: for_ex7_data2.txt\n",
    "\n",
    "    use: for_ex7_data3.txt\n",
    "\n",
    "    Use a list to read the values in to and then use sum and len to calculate the average.\n",
    "\n",
    "    Be careful about empty rows!\n",
    "\n",
    "    Be careful about non-numbers!\n"
   ]
  },
  {
   "cell_type": "code",
   "execution_count": 96,
   "id": "17ba0e6c",
   "metadata": {},
   "outputs": [
    {
     "name": "stdout",
     "output_type": "stream",
     "text": [
      "80\n",
      " <class 'str'>\n",
      "90\n",
      " <class 'str'>\n",
      "78\n",
      " <class 'str'>\n",
      "56\n",
      " <class 'str'>\n",
      "90 <class 'str'>\n"
     ]
    }
   ],
   "source": [
    "filename = 'for_ex7_data1.txt'\n",
    "with open(filename) as file:\n",
    "    for line in file:\n",
    "        print(line, type(line))"
   ]
  },
  {
   "cell_type": "code",
   "execution_count": 103,
   "id": "e2621986",
   "metadata": {},
   "outputs": [
    {
     "name": "stdout",
     "output_type": "stream",
     "text": [
      "78.8\n"
     ]
    }
   ],
   "source": [
    "filename = 'for_ex7_data1.txt'\n",
    "my_list = []\n",
    "with open(filename) as file:\n",
    "    for line in file:\n",
    "        my_list.append(int(line.strip()))\n",
    "        \n",
    "print(sum(my_list)/len(my_list))"
   ]
  },
  {
   "cell_type": "code",
   "execution_count": 102,
   "id": "9448d7de",
   "metadata": {},
   "outputs": [
    {
     "name": "stdout",
     "output_type": "stream",
     "text": [
      "[80, 90, 78, 56, 90]\n"
     ]
    }
   ],
   "source": [
    "print(my_list)"
   ]
  },
  {
   "cell_type": "code",
   "execution_count": 105,
   "id": "52f72010",
   "metadata": {},
   "outputs": [
    {
     "name": "stdout",
     "output_type": "stream",
     "text": [
      "['99', '98', '', '78', '43', '', '34', '', '', '', '', '99', '0', '', '']\n"
     ]
    }
   ],
   "source": [
    "filename = 'for_ex7_data2.txt'\n",
    "my_list = []\n",
    "with open(filename) as file:\n",
    "    for line in file:\n",
    "        my_list.append(line.strip())\n",
    "        \n",
    "print(my_list)"
   ]
  },
  {
   "cell_type": "code",
   "execution_count": 107,
   "id": "80278b8c",
   "metadata": {},
   "outputs": [
    {
     "name": "stdout",
     "output_type": "stream",
     "text": [
      "64.42857142857143\n"
     ]
    }
   ],
   "source": [
    "filename = 'for_ex7_data2.txt'\n",
    "my_list = []\n",
    "with open(filename) as file:\n",
    "    for line in file:\n",
    "        if not line.strip():\n",
    "            continue\n",
    "            \n",
    "        my_list.append(int(line.strip()))\n",
    "        \n",
    "print(sum(my_list)/len(my_list))"
   ]
  },
  {
   "cell_type": "code",
   "execution_count": 108,
   "id": "b846c8e9",
   "metadata": {},
   "outputs": [
    {
     "data": {
      "text/plain": [
       "''"
      ]
     },
     "execution_count": 108,
     "metadata": {},
     "output_type": "execute_result"
    }
   ],
   "source": [
    "line = '\\n'\n",
    "line.strip()"
   ]
  },
  {
   "cell_type": "code",
   "execution_count": null,
   "id": "1bcde8e7",
   "metadata": {},
   "outputs": [],
   "source": [
    "if not line.strip() --> False:\n",
    "    continue"
   ]
  },
  {
   "cell_type": "code",
   "execution_count": 109,
   "id": "4ac916f8",
   "metadata": {},
   "outputs": [
    {
     "data": {
      "text/plain": [
       "True"
      ]
     },
     "execution_count": 109,
     "metadata": {},
     "output_type": "execute_result"
    }
   ],
   "source": [
    "not False"
   ]
  },
  {
   "cell_type": "code",
   "execution_count": 110,
   "id": "5419f989",
   "metadata": {},
   "outputs": [
    {
     "name": "stdout",
     "output_type": "stream",
     "text": [
      "['80\\n', '90\\n', '78\\n', '56\\n', '90        ']\n"
     ]
    }
   ],
   "source": [
    "filename = 'for_ex7_data4.txt'\n",
    "my_list = []\n",
    "with open(filename) as file:\n",
    "    for line in file:\n",
    "            \n",
    "        my_list.append(line)\n",
    "        \n",
    "print(my_list)"
   ]
  },
  {
   "cell_type": "code",
   "execution_count": 111,
   "id": "2fd74ee3",
   "metadata": {},
   "outputs": [
    {
     "name": "stdout",
     "output_type": "stream",
     "text": [
      "['80', '90', '78', '56', '90']\n"
     ]
    }
   ],
   "source": [
    "filename = 'for_ex7_data4.txt'\n",
    "my_list = []\n",
    "with open(filename) as file:\n",
    "    for line in file:\n",
    "            \n",
    "        my_list.append(line.strip())\n",
    "        \n",
    "print(my_list)"
   ]
  },
  {
   "cell_type": "code",
   "execution_count": 113,
   "id": "6fc50f33",
   "metadata": {},
   "outputs": [
    {
     "name": "stdout",
     "output_type": "stream",
     "text": [
      "0 (1, 2, 3)\n",
      "1 (3, 4, 5)\n",
      "2 (5, 6, 7)\n"
     ]
    }
   ],
   "source": [
    "x = ((1,2,3), (3,4,5), (5,6,7))\n",
    "\n",
    "for idx, ele in enumerate(x):\n",
    "    print(idx, ele)"
   ]
  },
  {
   "cell_type": "code",
   "execution_count": 114,
   "id": "3637f574",
   "metadata": {},
   "outputs": [
    {
     "name": "stdout",
     "output_type": "stream",
     "text": [
      "0 (1, 11, 111)\n",
      "1 (2, 22, 222)\n",
      "2 (3, 33, 33)\n"
     ]
    }
   ],
   "source": [
    "x = (1,2,3)\n",
    "y = (11,22,33)\n",
    "z = (111,222,33)\n",
    "\n",
    "for idx, ele in enumerate(zip(x,y,z)):\n",
    "    print(idx, ele)"
   ]
  },
  {
   "cell_type": "code",
   "execution_count": 120,
   "id": "ba194b86",
   "metadata": {},
   "outputs": [
    {
     "name": "stdout",
     "output_type": "stream",
     "text": [
      "99.4\n",
      "98.5\n",
      "99.o\n"
     ]
    },
    {
     "ename": "ValueError",
     "evalue": "could not convert string to float: '99.o\\n'",
     "output_type": "error",
     "traceback": [
      "\u001b[1;31m---------------------------------------------------------------------------\u001b[0m",
      "\u001b[1;31mValueError\u001b[0m                                Traceback (most recent call last)",
      "\u001b[1;32m~\\AppData\\Local\\Temp/ipykernel_13120/988035958.py\u001b[0m in \u001b[0;36m<module>\u001b[1;34m\u001b[0m\n\u001b[0;32m      6\u001b[0m             \u001b[1;32mcontinue\u001b[0m\u001b[1;33m\u001b[0m\u001b[1;33m\u001b[0m\u001b[0m\n\u001b[0;32m      7\u001b[0m         \u001b[0mprint\u001b[0m\u001b[1;33m(\u001b[0m\u001b[0mline\u001b[0m\u001b[1;33m.\u001b[0m\u001b[0mstrip\u001b[0m\u001b[1;33m(\u001b[0m\u001b[1;33m)\u001b[0m\u001b[1;33m)\u001b[0m\u001b[1;33m\u001b[0m\u001b[1;33m\u001b[0m\u001b[0m\n\u001b[1;32m----> 8\u001b[1;33m         \u001b[0mfloat\u001b[0m\u001b[1;33m(\u001b[0m\u001b[0mline\u001b[0m\u001b[1;33m)\u001b[0m\u001b[1;33m\u001b[0m\u001b[1;33m\u001b[0m\u001b[0m\n\u001b[0m\u001b[0;32m      9\u001b[0m \u001b[1;31m#         try:\u001b[0m\u001b[1;33m\u001b[0m\u001b[1;33m\u001b[0m\u001b[1;33m\u001b[0m\u001b[0m\n\u001b[0;32m     10\u001b[0m \u001b[1;31m#             value = float(line)\u001b[0m\u001b[1;33m\u001b[0m\u001b[1;33m\u001b[0m\u001b[1;33m\u001b[0m\u001b[0m\n",
      "\u001b[1;31mValueError\u001b[0m: could not convert string to float: '99.o\\n'"
     ]
    }
   ],
   "source": [
    "filename = 'for_ex7_data3.txt'\n",
    "my_list = []\n",
    "with open(filename) as file:\n",
    "    for line in file:\n",
    "        if not line.strip():\n",
    "            continue\n",
    "        print(line.strip())  \n",
    "        float(line)\n",
    "\n",
    "        my_list.append(value)\n",
    "        \n",
    "print(my_list)"
   ]
  },
  {
   "cell_type": "code",
   "execution_count": 126,
   "id": "ac5d6653",
   "metadata": {},
   "outputs": [
    {
     "name": "stdout",
     "output_type": "stream",
     "text": [
      "Cannot convert: 99.o\n",
      "Cannot convert: AAB\n",
      "Cannot convert: 9A.00\n",
      "[99.4, 98.5, 78.34, 43.34, 34.0, 99.0]\n"
     ]
    }
   ],
   "source": [
    "filename = 'for_ex7_data3.txt'\n",
    "my_list = []\n",
    "with open(filename) as file:\n",
    "    for line in file:\n",
    "        if not line.strip():\n",
    "            continue\n",
    "        \n",
    "        try:\n",
    "            value = float(line)\n",
    "        except:\n",
    "            print('Cannot convert:', line.strip())\n",
    "            continue\n",
    "        \n",
    "        my_list.append(value)\n",
    "        \n",
    "print(my_list)"
   ]
  },
  {
   "cell_type": "code",
   "execution_count": 134,
   "id": "fc7826f2",
   "metadata": {},
   "outputs": [
    {
     "name": "stdout",
     "output_type": "stream",
     "text": [
      "Cannot convert: 99.4\n",
      "name 'my_list' is not defined\n",
      "Cannot convert: 98.5\n",
      "name 'my_list' is not defined\n",
      "Cannot convert: 99.o\n",
      "could not convert string to float: '99.o\\n'\n",
      "Cannot convert: 78.34\n",
      "name 'my_list' is not defined\n",
      "Cannot convert: 43.34\n",
      "name 'my_list' is not defined\n",
      "Cannot convert: 34\n",
      "name 'my_list' is not defined\n",
      "Cannot convert: 99\n",
      "name 'my_list' is not defined\n",
      "Cannot convert: AAB\n",
      "could not convert string to float: 'AAB\\n'\n",
      "Cannot convert: 9A.00\n",
      "could not convert string to float: '9A.00\\n'\n"
     ]
    },
    {
     "ename": "NameError",
     "evalue": "name 'my_list' is not defined",
     "output_type": "error",
     "traceback": [
      "\u001b[1;31m---------------------------------------------------------------------------\u001b[0m",
      "\u001b[1;31mNameError\u001b[0m                                 Traceback (most recent call last)",
      "\u001b[1;32m~\\AppData\\Local\\Temp/ipykernel_13120/852779542.py\u001b[0m in \u001b[0;36m<module>\u001b[1;34m\u001b[0m\n\u001b[0;32m     16\u001b[0m \u001b[1;33m\u001b[0m\u001b[0m\n\u001b[0;32m     17\u001b[0m \u001b[1;33m\u001b[0m\u001b[0m\n\u001b[1;32m---> 18\u001b[1;33m \u001b[0mprint\u001b[0m\u001b[1;33m(\u001b[0m\u001b[0mmy_list\u001b[0m\u001b[1;33m)\u001b[0m\u001b[1;33m\u001b[0m\u001b[1;33m\u001b[0m\u001b[0m\n\u001b[0m",
      "\u001b[1;31mNameError\u001b[0m: name 'my_list' is not defined"
     ]
    }
   ],
   "source": [
    "filename = 'for_ex7_data3.txt'\n",
    "\n",
    "with open(filename) as file:\n",
    "    for line in file:\n",
    "        if not line.strip():\n",
    "            continue\n",
    "        \n",
    "        try:\n",
    "            value = float(line)\n",
    "            my_list.append(value)\n",
    "        except Exception as error:\n",
    "            print('Cannot convert:', line.strip())\n",
    "            print(error)\n",
    "            continue\n",
    "        \n",
    "        \n",
    "        \n",
    "print(my_list)"
   ]
  },
  {
   "cell_type": "code",
   "execution_count": 147,
   "id": "6ef6f667",
   "metadata": {},
   "outputs": [
    {
     "name": "stdout",
     "output_type": "stream",
     "text": [
      "100\n",
      "57\n",
      "15\n",
      "1\n",
      "12\n",
      "75\n",
      "5\n",
      "86\n",
      "89\n",
      "11\n"
     ]
    }
   ],
   "source": [
    "# Write a function simulates a coin toss\n",
    "# Input: number of simulation\n",
    "# Output: a string that concatenates the results, ex. ‘HHHTTTHTHTHT’\n",
    "\n",
    "import random\n",
    "random.seed(1234)\n",
    "\n",
    "for _ in range(10):\n",
    "    print(random.randint(1, 100))"
   ]
  },
  {
   "cell_type": "code",
   "execution_count": 149,
   "id": "cfc80738",
   "metadata": {},
   "outputs": [],
   "source": [
    "def sim_toss(no_sim):\n",
    "    import random\n",
    "    random.seed(0)\n",
    "    string = ''\n",
    "    for _ in range(no_sim):\n",
    "        cs = random.randint(0,1)\n",
    "        if cs == 1:\n",
    "            cs = 'H'\n",
    "        elif cs == 0:\n",
    "            cs = 'T'\n",
    "            \n",
    "        string += cs\n",
    "        \n",
    "    return string\n",
    "            \n",
    "    "
   ]
  },
  {
   "cell_type": "code",
   "execution_count": 151,
   "id": "c309b859",
   "metadata": {},
   "outputs": [
    {
     "data": {
      "text/plain": [
       "'HHTHHHHHHTTHTTHTHTTHHTHHHTHHHTTTHTHHTHTTTTTHTTHHTHHTHTHHTHHTHTTTTHHTTTTTTHHTTHHHHHTHTHHTTTHTTHTHHTTT'"
      ]
     },
     "execution_count": 151,
     "metadata": {},
     "output_type": "execute_result"
    }
   ],
   "source": [
    "sim_toss(100)"
   ]
  },
  {
   "cell_type": "code",
   "execution_count": 152,
   "id": "6013a0c4",
   "metadata": {},
   "outputs": [
    {
     "data": {
      "text/plain": [
       "(0.8, 0.2)"
      ]
     },
     "execution_count": 152,
     "metadata": {},
     "output_type": "execute_result"
    }
   ],
   "source": [
    "# Write a function that uses the output from the coin_toss \n",
    "# function and calculates the probability of H and T \n",
    "# Input: number of simulation Output: probability of H and T\n",
    "\n",
    "def calc_prob(no_sim):\n",
    "    result = sim_toss(no_sim)\n",
    "    head = result.count('H')\n",
    "    tail = result.count('T')\n",
    "            \n",
    "    return (head/len(result), tail/len(result))\n",
    "\n",
    "calc_prob(10)"
   ]
  },
  {
   "cell_type": "code",
   "execution_count": 159,
   "id": "c171385b",
   "metadata": {},
   "outputs": [
    {
     "data": {
      "text/plain": [
       "(0.5052631578947369, 0.49473684210526314)"
      ]
     },
     "execution_count": 159,
     "metadata": {},
     "output_type": "execute_result"
    }
   ],
   "source": [
    "calc_prob(95)"
   ]
  },
  {
   "cell_type": "code",
   "execution_count": 160,
   "id": "6dc29656",
   "metadata": {},
   "outputs": [
    {
     "data": {
      "text/plain": [
       "['student1', '93', '78', '82', '83', '65', '23', '34', '87']"
      ]
     },
     "execution_count": 160,
     "metadata": {},
     "output_type": "execute_result"
    }
   ],
   "source": [
    "line = 'student1,93,78,82,83,65,23,34,87'\n",
    "line.split(',')"
   ]
  },
  {
   "cell_type": "code",
   "execution_count": 161,
   "id": "e20e5873",
   "metadata": {},
   "outputs": [
    {
     "data": {
      "text/plain": [
       "['student1,93,78,82,83,65,23,34,87']"
      ]
     },
     "execution_count": 161,
     "metadata": {},
     "output_type": "execute_result"
    }
   ],
   "source": [
    "line.split()"
   ]
  },
  {
   "cell_type": "code",
   "execution_count": 164,
   "id": "79fda898",
   "metadata": {},
   "outputs": [
    {
     "data": {
      "text/plain": [
       "['abc', 'efg', 'kjk', 'as', 'df']"
      ]
     },
     "execution_count": 164,
     "metadata": {},
     "output_type": "execute_result"
    }
   ],
   "source": [
    "x = 'abc efg      kjk \\tas\\tdf'\n",
    "x.split()"
   ]
  },
  {
   "cell_type": "code",
   "execution_count": 165,
   "id": "16a4fdcc",
   "metadata": {},
   "outputs": [
    {
     "data": {
      "text/plain": [
       "['abc efg      kjk ', 'as', 'df']"
      ]
     },
     "execution_count": 165,
     "metadata": {},
     "output_type": "execute_result"
    }
   ],
   "source": [
    "x.split('\\t')"
   ]
  },
  {
   "cell_type": "code",
   "execution_count": 180,
   "id": "e1ece16d",
   "metadata": {},
   "outputs": [
    {
     "name": "stdout",
     "output_type": "stream",
     "text": [
      "student1 68.125\n",
      "student2 79.6\n",
      "student3 85.8\n",
      "student4 78.8\n",
      "student5 83.4\n",
      "student6 73.8\n",
      "student7 81.6\n",
      "student8 90.0\n",
      "student9 87.0\n",
      "student10 78.2\n"
     ]
    }
   ],
   "source": [
    "filename = 'for_ex11_data.txt'\n",
    "with open(filename) as file:\n",
    "    for line in file:\n",
    "        name, *grade = line.strip().split(',')\n",
    "        grades = []\n",
    "        for g in grade:\n",
    "            grades.append(int(g))\n",
    "        print(name, sum(grades)/len(grades))\n"
   ]
  },
  {
   "cell_type": "code",
   "execution_count": 175,
   "id": "1214a0d8",
   "metadata": {},
   "outputs": [],
   "source": [
    "a, *b = 1, 2, 3 , 4"
   ]
  },
  {
   "cell_type": "code",
   "execution_count": 176,
   "id": "98094b24",
   "metadata": {},
   "outputs": [
    {
     "name": "stdout",
     "output_type": "stream",
     "text": [
      "1 [2, 3, 4]\n"
     ]
    }
   ],
   "source": [
    "print(a, b)"
   ]
  },
  {
   "cell_type": "code",
   "execution_count": 177,
   "id": "a8d3537b",
   "metadata": {},
   "outputs": [
    {
     "data": {
      "text/plain": [
       "['111-22-3333', ' Doe', ' John']"
      ]
     },
     "execution_count": 177,
     "metadata": {},
     "output_type": "execute_result"
    }
   ],
   "source": [
    "my_string = '111-22-3333, Doe, John'\n",
    "my_string.split(',')"
   ]
  },
  {
   "cell_type": "code",
   "execution_count": 178,
   "id": "08a0918d",
   "metadata": {},
   "outputs": [
    {
     "data": {
      "text/plain": [
       "['111-22-3333', ' Doe, John']"
      ]
     },
     "execution_count": 178,
     "metadata": {},
     "output_type": "execute_result"
    }
   ],
   "source": [
    "my_string.split(',', 1)"
   ]
  },
  {
   "cell_type": "code",
   "execution_count": 179,
   "id": "f82b0b1d",
   "metadata": {},
   "outputs": [
    {
     "data": {
      "text/plain": [
       "['111-22-3333', 'Doe, John']"
      ]
     },
     "execution_count": 179,
     "metadata": {},
     "output_type": "execute_result"
    }
   ],
   "source": [
    "my_string.split(', ', 1)"
   ]
  },
  {
   "cell_type": "code",
   "execution_count": 181,
   "id": "645041c5",
   "metadata": {},
   "outputs": [
    {
     "name": "stdout",
     "output_type": "stream",
     "text": [
      "1 2 [3, 4]\n"
     ]
    }
   ],
   "source": [
    "a, b, *c = 1, 2, 3 , 4\n",
    "print(a, b, c)"
   ]
  },
  {
   "cell_type": "code",
   "execution_count": 186,
   "id": "aa95816a",
   "metadata": {},
   "outputs": [
    {
     "name": "stdout",
     "output_type": "stream",
     "text": [
      "Please enter a number: \n",
      "[]\n"
     ]
    }
   ],
   "source": [
    "## Write a program that takes integers from the user and returns the average. \n",
    "# Use a while loop and make an empty string the stop criteria.\n",
    "\n",
    "values = []\n",
    "\n",
    "value = input('Please enter a number: ')\n",
    "while value:\n",
    "    values.append(value)\n",
    "    value = input('Please enter a number: ')\n",
    "    \n",
    "print(values)"
   ]
  },
  {
   "cell_type": "code",
   "execution_count": 187,
   "id": "683aa526",
   "metadata": {},
   "outputs": [
    {
     "name": "stdout",
     "output_type": "stream",
     "text": [
      "Enter a starting number: 10\n",
      "10\n",
      "9\n",
      "8\n",
      "7\n",
      "6\n",
      "5\n",
      "4\n",
      "3\n",
      "2\n",
      "1\n",
      "0\n"
     ]
    }
   ],
   "source": [
    "number = int(input('Enter a starting number: '))\n",
    "\n",
    "while number >= 0:\n",
    "    print(number)\n",
    "    number -= 1"
   ]
  },
  {
   "cell_type": "code",
   "execution_count": 188,
   "id": "486462d4",
   "metadata": {},
   "outputs": [
    {
     "name": "stdout",
     "output_type": "stream",
     "text": [
      "Enter an integer number: 20\n",
      "0\n",
      "2\n",
      "4\n",
      "6\n",
      "8\n",
      "10\n",
      "12\n",
      "14\n",
      "16\n",
      "18\n",
      "20\n"
     ]
    }
   ],
   "source": [
    "end_number = int(input('Enter an integer number: '))\n",
    "current_number = 0\n",
    "while current_number <= end_number:\n",
    "    if current_number % 2 == 0:\n",
    "        print(current_number)\n",
    "    current_number += 1\n"
   ]
  },
  {
   "cell_type": "code",
   "execution_count": 191,
   "id": "b205ff79",
   "metadata": {},
   "outputs": [],
   "source": [
    "def modify_loop_ex1(n):\n",
    "    for number in range(n):\n",
    "        if number % 5 == 0:\n",
    "            continue\n",
    "\n",
    "        print(number)\n"
   ]
  },
  {
   "cell_type": "code",
   "execution_count": 192,
   "id": "0e7eeea9",
   "metadata": {},
   "outputs": [
    {
     "name": "stdout",
     "output_type": "stream",
     "text": [
      "1\n",
      "2\n",
      "3\n",
      "4\n",
      "6\n",
      "7\n",
      "8\n",
      "9\n",
      "11\n",
      "12\n",
      "13\n",
      "14\n",
      "16\n",
      "17\n",
      "18\n",
      "19\n",
      "21\n",
      "22\n",
      "23\n",
      "24\n",
      "26\n",
      "27\n",
      "28\n",
      "29\n",
      "31\n",
      "32\n",
      "33\n",
      "34\n",
      "36\n",
      "37\n",
      "38\n",
      "39\n",
      "41\n",
      "42\n",
      "43\n",
      "44\n",
      "46\n",
      "47\n",
      "48\n",
      "49\n"
     ]
    }
   ],
   "source": [
    "modify_loop_ex1(50)"
   ]
  },
  {
   "cell_type": "code",
   "execution_count": 199,
   "id": "1e9f53e1",
   "metadata": {},
   "outputs": [],
   "source": [
    "def modify_loop_ex1(n):\n",
    "    for number in range(1, n):\n",
    "        \n",
    "        if number % 5 == 0:\n",
    "            print('Multiple of 5', number)\n",
    "        elif number % 7 == 0:\n",
    "            print('Multiple of 7', number)\n",
    "        elif number % 5 == 0 and number % 7 == 0:\n",
    "            print('Multiple of 5,7', number)\n",
    "        else:\n",
    "            print(number)\n"
   ]
  },
  {
   "cell_type": "code",
   "execution_count": 200,
   "id": "f5198bfb",
   "metadata": {},
   "outputs": [
    {
     "name": "stdout",
     "output_type": "stream",
     "text": [
      "1\n",
      "2\n",
      "3\n",
      "4\n",
      "Multiple of 5 5\n",
      "6\n",
      "Multiple of 7 7\n",
      "8\n",
      "9\n",
      "Multiple of 5 10\n",
      "11\n",
      "12\n",
      "13\n",
      "Multiple of 7 14\n",
      "Multiple of 5 15\n",
      "16\n",
      "17\n",
      "18\n",
      "19\n",
      "Multiple of 5 20\n",
      "Multiple of 7 21\n",
      "22\n",
      "23\n",
      "24\n",
      "Multiple of 5 25\n",
      "26\n",
      "27\n",
      "Multiple of 7 28\n",
      "29\n",
      "Multiple of 5 30\n",
      "31\n",
      "32\n",
      "33\n",
      "34\n",
      "Multiple of 5 35\n",
      "36\n",
      "37\n",
      "38\n",
      "39\n",
      "Multiple of 5 40\n",
      "41\n",
      "Multiple of 7 42\n",
      "43\n",
      "44\n",
      "Multiple of 5 45\n",
      "46\n",
      "47\n",
      "48\n",
      "Multiple of 7 49\n",
      "Multiple of 5 50\n",
      "51\n",
      "52\n",
      "53\n",
      "54\n",
      "Multiple of 5 55\n",
      "Multiple of 7 56\n",
      "57\n",
      "58\n",
      "59\n",
      "Multiple of 5 60\n",
      "61\n",
      "62\n",
      "Multiple of 7 63\n",
      "64\n",
      "Multiple of 5 65\n",
      "66\n",
      "67\n",
      "68\n",
      "69\n",
      "Multiple of 5 70\n",
      "71\n",
      "72\n",
      "73\n",
      "74\n",
      "Multiple of 5 75\n",
      "76\n",
      "Multiple of 7 77\n",
      "78\n",
      "79\n",
      "Multiple of 5 80\n",
      "81\n",
      "82\n",
      "83\n",
      "Multiple of 7 84\n",
      "Multiple of 5 85\n",
      "86\n",
      "87\n",
      "88\n",
      "89\n",
      "Multiple of 5 90\n",
      "Multiple of 7 91\n",
      "92\n",
      "93\n",
      "94\n",
      "Multiple of 5 95\n",
      "96\n",
      "97\n",
      "Multiple of 7 98\n",
      "99\n"
     ]
    }
   ],
   "source": [
    "modify_loop_ex1(100)"
   ]
  },
  {
   "cell_type": "code",
   "execution_count": 201,
   "id": "2736cc87",
   "metadata": {},
   "outputs": [],
   "source": [
    "def modify_loop_ex2(n):\n",
    "\n",
    "    iteration_count = 0\n",
    "    number = 1\n",
    "    while number <= n:\n",
    "\n",
    "        if number == 50:\n",
    "            break\n",
    "\n",
    "        print(number)\n",
    "        number += 1\n",
    "        iteration_count += 1"
   ]
  },
  {
   "cell_type": "code",
   "execution_count": 202,
   "id": "732d55b0",
   "metadata": {},
   "outputs": [
    {
     "name": "stdout",
     "output_type": "stream",
     "text": [
      "1\n",
      "2\n",
      "3\n",
      "4\n",
      "5\n",
      "6\n",
      "7\n",
      "8\n",
      "9\n",
      "10\n",
      "11\n",
      "12\n",
      "13\n",
      "14\n",
      "15\n",
      "16\n",
      "17\n",
      "18\n",
      "19\n",
      "20\n",
      "21\n",
      "22\n",
      "23\n",
      "24\n",
      "25\n",
      "26\n",
      "27\n",
      "28\n",
      "29\n",
      "30\n",
      "31\n",
      "32\n",
      "33\n",
      "34\n",
      "35\n",
      "36\n",
      "37\n",
      "38\n",
      "39\n",
      "40\n",
      "41\n",
      "42\n",
      "43\n",
      "44\n",
      "45\n",
      "46\n",
      "47\n",
      "48\n",
      "49\n"
     ]
    }
   ],
   "source": [
    "modify_loop_ex2(10000)"
   ]
  },
  {
   "cell_type": "code",
   "execution_count": null,
   "id": "74a1cb4b",
   "metadata": {},
   "outputs": [],
   "source": []
  }
 ],
 "metadata": {
  "kernelspec": {
   "display_name": "Python 3 (ipykernel)",
   "language": "python",
   "name": "python3"
  },
  "language_info": {
   "codemirror_mode": {
    "name": "ipython",
    "version": 3
   },
   "file_extension": ".py",
   "mimetype": "text/x-python",
   "name": "python",
   "nbconvert_exporter": "python",
   "pygments_lexer": "ipython3",
   "version": "3.8.12"
  }
 },
 "nbformat": 4,
 "nbformat_minor": 5
}
