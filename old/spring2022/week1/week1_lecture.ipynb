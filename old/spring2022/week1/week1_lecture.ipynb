{
 "cells": [
  {
   "cell_type": "code",
   "execution_count": 3,
   "id": "cb603206",
   "metadata": {},
   "outputs": [
    {
     "data": {
      "text/plain": [
       "4"
      ]
     },
     "execution_count": 3,
     "metadata": {},
     "output_type": "execute_result"
    }
   ],
   "source": [
    "2 + 2"
   ]
  },
  {
   "cell_type": "code",
   "execution_count": 4,
   "id": "220f8e67",
   "metadata": {},
   "outputs": [
    {
     "data": {
      "text/plain": [
       "0"
      ]
     },
     "execution_count": 4,
     "metadata": {},
     "output_type": "execute_result"
    }
   ],
   "source": [
    "2 - 2"
   ]
  },
  {
   "cell_type": "code",
   "execution_count": 5,
   "id": "4cff7d6e",
   "metadata": {},
   "outputs": [
    {
     "data": {
      "text/plain": [
       "4"
      ]
     },
     "execution_count": 5,
     "metadata": {},
     "output_type": "execute_result"
    }
   ],
   "source": [
    "2 * 2"
   ]
  },
  {
   "cell_type": "code",
   "execution_count": 6,
   "id": "fac8d862",
   "metadata": {},
   "outputs": [
    {
     "data": {
      "text/plain": [
       "3.3333333333333335"
      ]
     },
     "execution_count": 6,
     "metadata": {},
     "output_type": "execute_result"
    }
   ],
   "source": [
    "10 / 3"
   ]
  },
  {
   "cell_type": "code",
   "execution_count": 7,
   "id": "e70f5a58",
   "metadata": {},
   "outputs": [
    {
     "data": {
      "text/plain": [
       "3"
      ]
     },
     "execution_count": 7,
     "metadata": {},
     "output_type": "execute_result"
    }
   ],
   "source": [
    "10 // 3"
   ]
  },
  {
   "cell_type": "code",
   "execution_count": 8,
   "id": "ce70cb90",
   "metadata": {},
   "outputs": [
    {
     "data": {
      "text/plain": [
       "1"
      ]
     },
     "execution_count": 8,
     "metadata": {},
     "output_type": "execute_result"
    }
   ],
   "source": [
    "10 % 3"
   ]
  },
  {
   "cell_type": "code",
   "execution_count": 9,
   "id": "cff26567",
   "metadata": {},
   "outputs": [
    {
     "data": {
      "text/plain": [
       "4"
      ]
     },
     "execution_count": 9,
     "metadata": {},
     "output_type": "execute_result"
    }
   ],
   "source": [
    "2 ** 2"
   ]
  },
  {
   "cell_type": "code",
   "execution_count": 10,
   "id": "79b3f7b8",
   "metadata": {},
   "outputs": [
    {
     "data": {
      "text/plain": [
       "4.0"
      ]
     },
     "execution_count": 10,
     "metadata": {},
     "output_type": "execute_result"
    }
   ],
   "source": [
    "16 ** 0.5"
   ]
  },
  {
   "cell_type": "code",
   "execution_count": 11,
   "id": "71e67377",
   "metadata": {},
   "outputs": [
    {
     "data": {
      "text/plain": [
       "24"
      ]
     },
     "execution_count": 11,
     "metadata": {},
     "output_type": "execute_result"
    }
   ],
   "source": [
    "import sys\n",
    "sys.getsizeof(2.0)\n"
   ]
  },
  {
   "cell_type": "code",
   "execution_count": 13,
   "id": "598a2179",
   "metadata": {},
   "outputs": [
    {
     "data": {
      "text/plain": [
       "32"
      ]
     },
     "execution_count": 13,
     "metadata": {},
     "output_type": "execute_result"
    }
   ],
   "source": [
    "sys.getsizeof(2**30)\n",
    "\n"
   ]
  },
  {
   "cell_type": "code",
   "execution_count": 14,
   "id": "f9d15c03",
   "metadata": {},
   "outputs": [
    {
     "data": {
      "text/plain": [
       "44"
      ]
     },
     "execution_count": 14,
     "metadata": {},
     "output_type": "execute_result"
    }
   ],
   "source": [
    "sys.getsizeof(2**130)\n"
   ]
  },
  {
   "cell_type": "code",
   "execution_count": 15,
   "id": "581169e8",
   "metadata": {},
   "outputs": [
    {
     "data": {
      "text/plain": [
       "24"
      ]
     },
     "execution_count": 15,
     "metadata": {},
     "output_type": "execute_result"
    }
   ],
   "source": [
    "sys.getsizeof(3.1415)"
   ]
  },
  {
   "cell_type": "code",
   "execution_count": 16,
   "id": "0ecf0a05",
   "metadata": {},
   "outputs": [
    {
     "data": {
      "text/plain": [
       "float"
      ]
     },
     "execution_count": 16,
     "metadata": {},
     "output_type": "execute_result"
    }
   ],
   "source": [
    "type(2.0)"
   ]
  },
  {
   "cell_type": "code",
   "execution_count": 17,
   "id": "b3e365f0",
   "metadata": {},
   "outputs": [
    {
     "data": {
      "text/plain": [
       "int"
      ]
     },
     "execution_count": 17,
     "metadata": {},
     "output_type": "execute_result"
    }
   ],
   "source": [
    "type(1)"
   ]
  },
  {
   "cell_type": "code",
   "execution_count": 18,
   "id": "f8474ebb",
   "metadata": {},
   "outputs": [
    {
     "data": {
      "text/plain": [
       "str"
      ]
     },
     "execution_count": 18,
     "metadata": {},
     "output_type": "execute_result"
    }
   ],
   "source": [
    "type('EAS503')"
   ]
  },
  {
   "cell_type": "code",
   "execution_count": 19,
   "id": "9f017de7",
   "metadata": {},
   "outputs": [
    {
     "data": {
      "text/plain": [
       "bool"
      ]
     },
     "execution_count": 19,
     "metadata": {},
     "output_type": "execute_result"
    }
   ],
   "source": [
    "type(True)"
   ]
  },
  {
   "cell_type": "code",
   "execution_count": 20,
   "id": "f48c5d28",
   "metadata": {},
   "outputs": [
    {
     "data": {
      "text/plain": [
       "bool"
      ]
     },
     "execution_count": 20,
     "metadata": {},
     "output_type": "execute_result"
    }
   ],
   "source": [
    "type(False)"
   ]
  },
  {
   "cell_type": "code",
   "execution_count": 21,
   "id": "e5f57890",
   "metadata": {},
   "outputs": [
    {
     "data": {
      "text/plain": [
       "NoneType"
      ]
     },
     "execution_count": 21,
     "metadata": {},
     "output_type": "execute_result"
    }
   ],
   "source": [
    "type(None)"
   ]
  },
  {
   "cell_type": "code",
   "execution_count": 22,
   "id": "0e949b9a",
   "metadata": {},
   "outputs": [
    {
     "data": {
      "text/plain": [
       "0.6666666666666666"
      ]
     },
     "execution_count": 22,
     "metadata": {},
     "output_type": "execute_result"
    }
   ],
   "source": [
    "2/3"
   ]
  },
  {
   "cell_type": "code",
   "execution_count": 23,
   "id": "6fbe5957",
   "metadata": {},
   "outputs": [
    {
     "data": {
      "text/plain": [
       "16.0"
      ]
     },
     "execution_count": 23,
     "metadata": {},
     "output_type": "execute_result"
    }
   ],
   "source": [
    "(8 / 2)  * ( 2 + 2 )"
   ]
  },
  {
   "cell_type": "code",
   "execution_count": 24,
   "id": "8fbf7f40",
   "metadata": {},
   "outputs": [
    {
     "data": {
      "text/plain": [
       "1.0"
      ]
     },
     "execution_count": 24,
     "metadata": {},
     "output_type": "execute_result"
    }
   ],
   "source": [
    " 8/(2*(2+2))"
   ]
  },
  {
   "cell_type": "code",
   "execution_count": 26,
   "id": "0b2d072c",
   "metadata": {},
   "outputs": [
    {
     "data": {
      "text/plain": [
       "100.0"
      ]
     },
     "execution_count": 26,
     "metadata": {},
     "output_type": "execute_result"
    }
   ],
   "source": [
    "(212 - 32) * 5 / 9"
   ]
  },
  {
   "cell_type": "code",
   "execution_count": 27,
   "id": "949d8897",
   "metadata": {},
   "outputs": [
    {
     "data": {
      "text/plain": [
       "10000000000.0"
      ]
     },
     "execution_count": 27,
     "metadata": {},
     "output_type": "execute_result"
    }
   ],
   "source": [
    "10000000000 + 0.00000000001"
   ]
  },
  {
   "cell_type": "code",
   "execution_count": 28,
   "id": "31890150",
   "metadata": {},
   "outputs": [
    {
     "data": {
      "text/plain": [
       "4"
      ]
     },
     "execution_count": 28,
     "metadata": {},
     "output_type": "execute_result"
    }
   ],
   "source": [
    "2 + 2"
   ]
  },
  {
   "cell_type": "code",
   "execution_count": 29,
   "id": "f84d5d6f",
   "metadata": {},
   "outputs": [],
   "source": [
    "variable = 2 + 2"
   ]
  },
  {
   "cell_type": "code",
   "execution_count": 30,
   "id": "18d5e11b",
   "metadata": {},
   "outputs": [
    {
     "data": {
      "text/plain": [
       "4"
      ]
     },
     "execution_count": 30,
     "metadata": {},
     "output_type": "execute_result"
    }
   ],
   "source": [
    "variable"
   ]
  },
  {
   "cell_type": "code",
   "execution_count": 31,
   "id": "6d2cde21",
   "metadata": {},
   "outputs": [
    {
     "data": {
      "text/plain": [
       "16"
      ]
     },
     "execution_count": 31,
     "metadata": {},
     "output_type": "execute_result"
    }
   ],
   "source": [
    "variable * variable "
   ]
  },
  {
   "cell_type": "code",
   "execution_count": 32,
   "id": "79d3e56f",
   "metadata": {},
   "outputs": [],
   "source": [
    "_hello = 3"
   ]
  },
  {
   "cell_type": "code",
   "execution_count": 33,
   "id": "0907683f",
   "metadata": {},
   "outputs": [
    {
     "ename": "SyntaxError",
     "evalue": "invalid syntax (Temp/ipykernel_21924/1690119927.py, line 1)",
     "output_type": "error",
     "traceback": [
      "\u001b[1;36m  File \u001b[1;32m\"C:\\Users\\mkhaw\\AppData\\Local\\Temp/ipykernel_21924/1690119927.py\"\u001b[1;36m, line \u001b[1;32m1\u001b[0m\n\u001b[1;33m    3ello = 3\u001b[0m\n\u001b[1;37m     ^\u001b[0m\n\u001b[1;31mSyntaxError\u001b[0m\u001b[1;31m:\u001b[0m invalid syntax\n"
     ]
    }
   ],
   "source": [
    "3ello = 3"
   ]
  },
  {
   "cell_type": "code",
   "execution_count": 34,
   "id": "57a8baa6",
   "metadata": {},
   "outputs": [],
   "source": [
    "variable1 = 3"
   ]
  },
  {
   "cell_type": "code",
   "execution_count": 35,
   "id": "7c73cb26",
   "metadata": {},
   "outputs": [],
   "source": [
    "variable2 = 4"
   ]
  },
  {
   "cell_type": "code",
   "execution_count": 36,
   "id": "0c386e9c",
   "metadata": {},
   "outputs": [
    {
     "data": {
      "text/plain": [
       "12"
      ]
     },
     "execution_count": 36,
     "metadata": {},
     "output_type": "execute_result"
    }
   ],
   "source": [
    "variable1 * variable2"
   ]
  },
  {
   "cell_type": "code",
   "execution_count": 37,
   "id": "7e7302d1",
   "metadata": {},
   "outputs": [],
   "source": [
    "variable_1 = 3"
   ]
  },
  {
   "cell_type": "code",
   "execution_count": 38,
   "id": "13dd447c",
   "metadata": {},
   "outputs": [
    {
     "ename": "SyntaxError",
     "evalue": "invalid syntax (Temp/ipykernel_21924/618454659.py, line 1)",
     "output_type": "error",
     "traceback": [
      "\u001b[1;36m  File \u001b[1;32m\"C:\\Users\\mkhaw\\AppData\\Local\\Temp/ipykernel_21924/618454659.py\"\u001b[1;36m, line \u001b[1;32m1\u001b[0m\n\u001b[1;33m    variable+ = 3\u001b[0m\n\u001b[1;37m              ^\u001b[0m\n\u001b[1;31mSyntaxError\u001b[0m\u001b[1;31m:\u001b[0m invalid syntax\n"
     ]
    }
   ],
   "source": [
    "variable+ = 3"
   ]
  },
  {
   "cell_type": "code",
   "execution_count": 39,
   "id": "80146aa4",
   "metadata": {},
   "outputs": [
    {
     "ename": "SyntaxError",
     "evalue": "invalid syntax (Temp/ipykernel_21924/202457716.py, line 1)",
     "output_type": "error",
     "traceback": [
      "\u001b[1;36m  File \u001b[1;32m\"C:\\Users\\mkhaw\\AppData\\Local\\Temp/ipykernel_21924/202457716.py\"\u001b[1;36m, line \u001b[1;32m1\u001b[0m\n\u001b[1;33m    variable@ = 3\u001b[0m\n\u001b[1;37m              ^\u001b[0m\n\u001b[1;31mSyntaxError\u001b[0m\u001b[1;31m:\u001b[0m invalid syntax\n"
     ]
    }
   ],
   "source": [
    "variable@ = 3"
   ]
  },
  {
   "cell_type": "code",
   "execution_count": 46,
   "id": "7b43f1a6",
   "metadata": {},
   "outputs": [
    {
     "data": {
      "text/plain": [
       "False"
      ]
     },
     "execution_count": 46,
     "metadata": {},
     "output_type": "execute_result"
    }
   ],
   "source": [
    "False"
   ]
  },
  {
   "cell_type": "code",
   "execution_count": 41,
   "id": "2fa212fd",
   "metadata": {},
   "outputs": [
    {
     "data": {
      "text/plain": [
       "bool"
      ]
     },
     "execution_count": 41,
     "metadata": {},
     "output_type": "execute_result"
    }
   ],
   "source": [
    "type(False)"
   ]
  },
  {
   "cell_type": "code",
   "execution_count": 42,
   "id": "c62348ca",
   "metadata": {},
   "outputs": [
    {
     "ename": "SyntaxError",
     "evalue": "cannot assign to False (Temp/ipykernel_21924/3257230105.py, line 1)",
     "output_type": "error",
     "traceback": [
      "\u001b[1;36m  File \u001b[1;32m\"C:\\Users\\mkhaw\\AppData\\Local\\Temp/ipykernel_21924/3257230105.py\"\u001b[1;36m, line \u001b[1;32m1\u001b[0m\n\u001b[1;33m    False = 3\u001b[0m\n\u001b[1;37m    ^\u001b[0m\n\u001b[1;31mSyntaxError\u001b[0m\u001b[1;31m:\u001b[0m cannot assign to False\n"
     ]
    }
   ],
   "source": [
    "False = 3"
   ]
  },
  {
   "cell_type": "code",
   "execution_count": 43,
   "id": "dbd59a67",
   "metadata": {},
   "outputs": [],
   "source": [
    "str = 3"
   ]
  },
  {
   "cell_type": "code",
   "execution_count": 44,
   "id": "0fe91ac8",
   "metadata": {},
   "outputs": [
    {
     "data": {
      "text/plain": [
       "int"
      ]
     },
     "execution_count": 44,
     "metadata": {},
     "output_type": "execute_result"
    }
   ],
   "source": [
    "type(str)"
   ]
  },
  {
   "cell_type": "code",
   "execution_count": 45,
   "id": "b6492e59",
   "metadata": {},
   "outputs": [],
   "source": [
    "type = 3"
   ]
  },
  {
   "cell_type": "code",
   "execution_count": 47,
   "id": "294b17df",
   "metadata": {},
   "outputs": [
    {
     "ename": "TypeError",
     "evalue": "'int' object is not callable",
     "output_type": "error",
     "traceback": [
      "\u001b[1;31m---------------------------------------------------------------------------\u001b[0m",
      "\u001b[1;31mTypeError\u001b[0m                                 Traceback (most recent call last)",
      "\u001b[1;32m~\\AppData\\Local\\Temp/ipykernel_21924/114076727.py\u001b[0m in \u001b[0;36m<module>\u001b[1;34m\u001b[0m\n\u001b[1;32m----> 1\u001b[1;33m \u001b[0mtype\u001b[0m\u001b[1;33m(\u001b[0m\u001b[0mtype\u001b[0m\u001b[1;33m)\u001b[0m\u001b[1;33m\u001b[0m\u001b[1;33m\u001b[0m\u001b[0m\n\u001b[0m",
      "\u001b[1;31mTypeError\u001b[0m: 'int' object is not callable"
     ]
    }
   ],
   "source": [
    "type(type)"
   ]
  },
  {
   "cell_type": "code",
   "execution_count": 48,
   "id": "b25f0fdf",
   "metadata": {},
   "outputs": [],
   "source": [
    "del type"
   ]
  },
  {
   "cell_type": "code",
   "execution_count": 49,
   "id": "c4834eec",
   "metadata": {},
   "outputs": [
    {
     "data": {
      "text/plain": [
       "int"
      ]
     },
     "execution_count": 49,
     "metadata": {},
     "output_type": "execute_result"
    }
   ],
   "source": [
    "type(3)"
   ]
  },
  {
   "cell_type": "code",
   "execution_count": 50,
   "id": "d8c4ad4d",
   "metadata": {},
   "outputs": [
    {
     "ename": "SyntaxError",
     "evalue": "invalid syntax (Temp/ipykernel_21924/813899650.py, line 1)",
     "output_type": "error",
     "traceback": [
      "\u001b[1;36m  File \u001b[1;32m\"C:\\Users\\mkhaw\\AppData\\Local\\Temp/ipykernel_21924/813899650.py\"\u001b[1;36m, line \u001b[1;32m1\u001b[0m\n\u001b[1;33m    break = 3\u001b[0m\n\u001b[1;37m          ^\u001b[0m\n\u001b[1;31mSyntaxError\u001b[0m\u001b[1;31m:\u001b[0m invalid syntax\n"
     ]
    }
   ],
   "source": [
    "break = 3"
   ]
  },
  {
   "cell_type": "code",
   "execution_count": 51,
   "id": "d430310b",
   "metadata": {},
   "outputs": [
    {
     "ename": "SyntaxError",
     "evalue": "invalid syntax (Temp/ipykernel_21924/3194181784.py, line 1)",
     "output_type": "error",
     "traceback": [
      "\u001b[1;36m  File \u001b[1;32m\"C:\\Users\\mkhaw\\AppData\\Local\\Temp/ipykernel_21924/3194181784.py\"\u001b[1;36m, line \u001b[1;32m1\u001b[0m\n\u001b[1;33m    lambda = 3\u001b[0m\n\u001b[1;37m           ^\u001b[0m\n\u001b[1;31mSyntaxError\u001b[0m\u001b[1;31m:\u001b[0m invalid syntax\n"
     ]
    }
   ],
   "source": [
    "lambda = 3"
   ]
  },
  {
   "cell_type": "code",
   "execution_count": 52,
   "id": "0ab997b7",
   "metadata": {},
   "outputs": [],
   "source": [
    "pi = 3.14"
   ]
  },
  {
   "cell_type": "code",
   "execution_count": 53,
   "id": "98a6cb2d",
   "metadata": {},
   "outputs": [],
   "source": [
    "PI = 3.14"
   ]
  },
  {
   "cell_type": "code",
   "execution_count": 54,
   "id": "a4c79185",
   "metadata": {},
   "outputs": [],
   "source": [
    "large_number = 1000000000"
   ]
  },
  {
   "cell_type": "code",
   "execution_count": 55,
   "id": "4dd0b874",
   "metadata": {},
   "outputs": [],
   "source": [
    "largeNumber = 100000000"
   ]
  },
  {
   "cell_type": "code",
   "execution_count": null,
   "id": "919c6771",
   "metadata": {},
   "outputs": [],
   "source": [
    "a very bad day => a_very_bad_day"
   ]
  },
  {
   "cell_type": "code",
   "execution_count": null,
   "id": "5e81277a",
   "metadata": {},
   "outputs": [],
   "source": [
    "a very bad day => aVeryBadDay"
   ]
  },
  {
   "cell_type": "code",
   "execution_count": 56,
   "id": "65b5d8c7",
   "metadata": {},
   "outputs": [],
   "source": [
    "Variable = 2"
   ]
  },
  {
   "cell_type": "code",
   "execution_count": null,
   "id": "74ac02e3",
   "metadata": {},
   "outputs": [],
   "source": [
    "variable = 2"
   ]
  },
  {
   "cell_type": "code",
   "execution_count": null,
   "id": "46224040",
   "metadata": {},
   "outputs": [],
   "source": [
    "AVeryBadDay"
   ]
  },
  {
   "cell_type": "code",
   "execution_count": 57,
   "id": "388d44fd",
   "metadata": {},
   "outputs": [],
   "source": [
    "__variable__ = 3"
   ]
  },
  {
   "cell_type": "code",
   "execution_count": 58,
   "id": "f1dd9d7f",
   "metadata": {},
   "outputs": [
    {
     "data": {
      "text/plain": [
       "3"
      ]
     },
     "execution_count": 58,
     "metadata": {},
     "output_type": "execute_result"
    }
   ],
   "source": [
    "__variable__"
   ]
  },
  {
   "cell_type": "code",
   "execution_count": 59,
   "id": "936f861f",
   "metadata": {},
   "outputs": [],
   "source": [
    "x = 503"
   ]
  },
  {
   "cell_type": "code",
   "execution_count": 60,
   "id": "193cab4b",
   "metadata": {},
   "outputs": [],
   "source": [
    "y = \"EAS503\""
   ]
  },
  {
   "cell_type": "code",
   "execution_count": 61,
   "id": "e1157cc8",
   "metadata": {},
   "outputs": [],
   "source": [
    "y = 'EAS503'"
   ]
  },
  {
   "cell_type": "code",
   "execution_count": 62,
   "id": "cc2249c8",
   "metadata": {},
   "outputs": [
    {
     "ename": "SyntaxError",
     "evalue": "EOL while scanning string literal (Temp/ipykernel_21924/2757981808.py, line 1)",
     "output_type": "error",
     "traceback": [
      "\u001b[1;36m  File \u001b[1;32m\"C:\\Users\\mkhaw\\AppData\\Local\\Temp/ipykernel_21924/2757981808.py\"\u001b[1;36m, line \u001b[1;32m1\u001b[0m\n\u001b[1;33m    y = 'EAS503\"\u001b[0m\n\u001b[1;37m                ^\u001b[0m\n\u001b[1;31mSyntaxError\u001b[0m\u001b[1;31m:\u001b[0m EOL while scanning string literal\n"
     ]
    }
   ],
   "source": [
    "y = 'EAS503\""
   ]
  },
  {
   "cell_type": "code",
   "execution_count": 63,
   "id": "d574a799",
   "metadata": {},
   "outputs": [
    {
     "name": "stdout",
     "output_type": "stream",
     "text": [
      "503\n"
     ]
    }
   ],
   "source": [
    "print(x)"
   ]
  },
  {
   "cell_type": "code",
   "execution_count": 64,
   "id": "5ea7bd0e",
   "metadata": {},
   "outputs": [
    {
     "name": "stdout",
     "output_type": "stream",
     "text": [
      "EAS503\n"
     ]
    }
   ],
   "source": [
    "print(y)"
   ]
  },
  {
   "cell_type": "code",
   "execution_count": 65,
   "id": "e7a75a3e",
   "metadata": {},
   "outputs": [
    {
     "data": {
      "text/plain": [
       "'EAS503'"
      ]
     },
     "execution_count": 65,
     "metadata": {},
     "output_type": "execute_result"
    }
   ],
   "source": [
    "y"
   ]
  },
  {
   "cell_type": "code",
   "execution_count": 66,
   "id": "dcc1a334",
   "metadata": {},
   "outputs": [],
   "source": [
    "y = 39"
   ]
  },
  {
   "cell_type": "code",
   "execution_count": 67,
   "id": "83043c4c",
   "metadata": {},
   "outputs": [
    {
     "data": {
      "text/plain": [
       "39"
      ]
     },
     "execution_count": 67,
     "metadata": {},
     "output_type": "execute_result"
    }
   ],
   "source": [
    "y"
   ]
  },
  {
   "cell_type": "code",
   "execution_count": 68,
   "id": "ab2a5996",
   "metadata": {},
   "outputs": [],
   "source": [
    "x = 3.9 * x * (1 - x)"
   ]
  },
  {
   "cell_type": "code",
   "execution_count": 69,
   "id": "8a7189f5",
   "metadata": {},
   "outputs": [
    {
     "data": {
      "text/plain": [
       "-984773.4"
      ]
     },
     "execution_count": 69,
     "metadata": {},
     "output_type": "execute_result"
    }
   ],
   "source": [
    "x"
   ]
  },
  {
   "cell_type": "code",
   "execution_count": 70,
   "id": "fb223cf6",
   "metadata": {},
   "outputs": [
    {
     "name": "stdout",
     "output_type": "stream",
     "text": [
      "Hello Class!\n"
     ]
    }
   ],
   "source": [
    "name = input()"
   ]
  },
  {
   "cell_type": "code",
   "execution_count": 71,
   "id": "c2cdf94a",
   "metadata": {},
   "outputs": [
    {
     "data": {
      "text/plain": [
       "'Hello Class!'"
      ]
     },
     "execution_count": 71,
     "metadata": {},
     "output_type": "execute_result"
    }
   ],
   "source": [
    "name"
   ]
  },
  {
   "cell_type": "code",
   "execution_count": 1,
   "id": "8b2c122f",
   "metadata": {},
   "outputs": [
    {
     "name": "stdout",
     "output_type": "stream",
     "text": [
      "What is your name?John\n"
     ]
    }
   ],
   "source": [
    "name = input(\"What is your name?\")"
   ]
  },
  {
   "cell_type": "code",
   "execution_count": 2,
   "id": "eca8fb12",
   "metadata": {},
   "outputs": [
    {
     "data": {
      "text/plain": [
       "'John'"
      ]
     },
     "execution_count": 2,
     "metadata": {},
     "output_type": "execute_result"
    }
   ],
   "source": [
    "name"
   ]
  },
  {
   "cell_type": "code",
   "execution_count": 3,
   "id": "01d554e7",
   "metadata": {},
   "outputs": [
    {
     "name": "stdout",
     "output_type": "stream",
     "text": [
      "Enter a number between 1-107\n"
     ]
    }
   ],
   "source": [
    "number = input('Enter a number between 1-10')"
   ]
  },
  {
   "cell_type": "code",
   "execution_count": 4,
   "id": "6a7c3ab0",
   "metadata": {},
   "outputs": [
    {
     "data": {
      "text/plain": [
       "'7'"
      ]
     },
     "execution_count": 4,
     "metadata": {},
     "output_type": "execute_result"
    }
   ],
   "source": [
    "number"
   ]
  },
  {
   "cell_type": "code",
   "execution_count": 6,
   "id": "fb2483be",
   "metadata": {},
   "outputs": [
    {
     "data": {
      "text/plain": [
       "str"
      ]
     },
     "execution_count": 6,
     "metadata": {},
     "output_type": "execute_result"
    }
   ],
   "source": [
    "type(number)"
   ]
  },
  {
   "cell_type": "code",
   "execution_count": 7,
   "id": "f1c6c035",
   "metadata": {},
   "outputs": [],
   "source": [
    "x = 10"
   ]
  },
  {
   "cell_type": "code",
   "execution_count": 8,
   "id": "74c8e3f9",
   "metadata": {},
   "outputs": [],
   "source": [
    "y = 11"
   ]
  },
  {
   "cell_type": "code",
   "execution_count": 9,
   "id": "67b77029",
   "metadata": {},
   "outputs": [],
   "source": [
    "sum, diff = x + y, x - y"
   ]
  },
  {
   "cell_type": "code",
   "execution_count": 10,
   "id": "eb622b94",
   "metadata": {},
   "outputs": [
    {
     "name": "stdout",
     "output_type": "stream",
     "text": [
      "21 -1\n"
     ]
    }
   ],
   "source": [
    "print(sum, diff)"
   ]
  },
  {
   "cell_type": "code",
   "execution_count": 11,
   "id": "fc711a2e",
   "metadata": {},
   "outputs": [],
   "source": [
    "temp = x\n",
    "x = y\n",
    "y = temp"
   ]
  },
  {
   "cell_type": "code",
   "execution_count": 12,
   "id": "2ae012fc",
   "metadata": {},
   "outputs": [
    {
     "name": "stdout",
     "output_type": "stream",
     "text": [
      "11 10\n"
     ]
    }
   ],
   "source": [
    "print(x,y)"
   ]
  },
  {
   "cell_type": "code",
   "execution_count": 13,
   "id": "05cccbd8",
   "metadata": {},
   "outputs": [],
   "source": [
    "x, y = y, x\n"
   ]
  },
  {
   "cell_type": "code",
   "execution_count": 14,
   "id": "d52894b5",
   "metadata": {},
   "outputs": [],
   "source": [
    "x = 3"
   ]
  },
  {
   "cell_type": "code",
   "execution_count": 15,
   "id": "82ad5ca7",
   "metadata": {},
   "outputs": [],
   "source": [
    "x = x + 3"
   ]
  },
  {
   "cell_type": "code",
   "execution_count": 16,
   "id": "bb99924d",
   "metadata": {},
   "outputs": [],
   "source": [
    "x+=3"
   ]
  },
  {
   "cell_type": "code",
   "execution_count": 17,
   "id": "d7ad36bb",
   "metadata": {},
   "outputs": [
    {
     "data": {
      "text/plain": [
       "9"
      ]
     },
     "execution_count": 17,
     "metadata": {},
     "output_type": "execute_result"
    }
   ],
   "source": [
    "x"
   ]
  },
  {
   "cell_type": "code",
   "execution_count": 18,
   "id": "7f93857a",
   "metadata": {},
   "outputs": [],
   "source": [
    "x*=3"
   ]
  },
  {
   "cell_type": "code",
   "execution_count": 19,
   "id": "2f7d0019",
   "metadata": {},
   "outputs": [
    {
     "data": {
      "text/plain": [
       "27"
      ]
     },
     "execution_count": 19,
     "metadata": {},
     "output_type": "execute_result"
    }
   ],
   "source": [
    "x"
   ]
  },
  {
   "cell_type": "code",
   "execution_count": 20,
   "id": "9bc927af",
   "metadata": {},
   "outputs": [],
   "source": [
    "def f(x):\n",
    "    squared_x = x * x\n",
    "    return squared_x"
   ]
  },
  {
   "cell_type": "code",
   "execution_count": 23,
   "id": "f54ea7a1",
   "metadata": {},
   "outputs": [
    {
     "data": {
      "text/plain": [
       "100"
      ]
     },
     "execution_count": 23,
     "metadata": {},
     "output_type": "execute_result"
    }
   ],
   "source": [
    "f(10)"
   ]
  },
  {
   "cell_type": "code",
   "execution_count": 24,
   "id": "e43691bd",
   "metadata": {},
   "outputs": [
    {
     "data": {
      "text/plain": [
       "625"
      ]
     },
     "execution_count": 24,
     "metadata": {},
     "output_type": "execute_result"
    }
   ],
   "source": [
    "f(25)"
   ]
  },
  {
   "cell_type": "code",
   "execution_count": null,
   "id": "48fa737c",
   "metadata": {},
   "outputs": [],
   "source": [
    "def f(x) {\n",
    "\n",
    "body of function\n",
    "}"
   ]
  },
  {
   "cell_type": "code",
   "execution_count": null,
   "id": "cbdd8d0f",
   "metadata": {},
   "outputs": [],
   "source": [
    "y = 3 + 4\n",
    "\n",
    "def f(x):\n",
    "    squared_x  = x * x\n",
    "    x * 4\n",
    "    x * 6\n",
    "\n",
    "z = 2 + 2b\n",
    "\n",
    "pi = 3.14"
   ]
  },
  {
   "cell_type": "code",
   "execution_count": 25,
   "id": "09f03d39",
   "metadata": {},
   "outputs": [],
   "source": [
    "def f():\n",
    "    x = 2\n",
    "    return 2"
   ]
  },
  {
   "cell_type": "code",
   "execution_count": 26,
   "id": "59838498",
   "metadata": {},
   "outputs": [
    {
     "data": {
      "text/plain": [
       "2"
      ]
     },
     "execution_count": 26,
     "metadata": {},
     "output_type": "execute_result"
    }
   ],
   "source": [
    "f()"
   ]
  },
  {
   "cell_type": "code",
   "execution_count": 27,
   "id": "ceb5b79b",
   "metadata": {},
   "outputs": [
    {
     "data": {
      "text/plain": [
       "2"
      ]
     },
     "execution_count": 27,
     "metadata": {},
     "output_type": "execute_result"
    }
   ],
   "source": [
    "f()"
   ]
  },
  {
   "cell_type": "code",
   "execution_count": 28,
   "id": "3e454640",
   "metadata": {},
   "outputs": [],
   "source": [
    "def z():\n",
    "    x = 2\n"
   ]
  },
  {
   "cell_type": "code",
   "execution_count": 29,
   "id": "e6848f12",
   "metadata": {},
   "outputs": [],
   "source": [
    "z()"
   ]
  },
  {
   "cell_type": "code",
   "execution_count": 30,
   "id": "7df375b9",
   "metadata": {},
   "outputs": [],
   "source": [
    "x = \"\"\"hello\"\"\""
   ]
  },
  {
   "cell_type": "code",
   "execution_count": 31,
   "id": "f24ecef7",
   "metadata": {},
   "outputs": [
    {
     "data": {
      "text/plain": [
       "'hello'"
      ]
     },
     "execution_count": 31,
     "metadata": {},
     "output_type": "execute_result"
    }
   ],
   "source": [
    "x"
   ]
  },
  {
   "cell_type": "code",
   "execution_count": 35,
   "id": "65e05d1b",
   "metadata": {},
   "outputs": [],
   "source": [
    "x = \"\"\"Multi-line\n",
    "line\n",
    "stuff\n",
    "\"\"\""
   ]
  },
  {
   "cell_type": "code",
   "execution_count": 36,
   "id": "ddd32ca8",
   "metadata": {},
   "outputs": [
    {
     "data": {
      "text/plain": [
       "'Multi-line\\nline\\nstuff\\n'"
      ]
     },
     "execution_count": 36,
     "metadata": {},
     "output_type": "execute_result"
    }
   ],
   "source": [
    "x"
   ]
  },
  {
   "cell_type": "code",
   "execution_count": 42,
   "id": "c0309862",
   "metadata": {},
   "outputs": [],
   "source": [
    "del z"
   ]
  },
  {
   "cell_type": "code",
   "execution_count": 37,
   "id": "e51cbf71",
   "metadata": {},
   "outputs": [
    {
     "name": "stdout",
     "output_type": "stream",
     "text": [
      "Multi-line\n",
      "line\n",
      "stuff\n",
      "\n"
     ]
    }
   ],
   "source": [
    "print(x)"
   ]
  },
  {
   "cell_type": "code",
   "execution_count": 44,
   "id": "472ce20b",
   "metadata": {},
   "outputs": [
    {
     "name": "stdout",
     "output_type": "stream",
     "text": [
      "4 6 10\n"
     ]
    }
   ],
   "source": [
    "\n",
    "x = 2 + 2\n",
    "y = 3 + 3\n",
    "z = x + y\n",
    "print(x, y , z)"
   ]
  },
  {
   "cell_type": "code",
   "execution_count": null,
   "id": "f53cf8f6",
   "metadata": {},
   "outputs": [],
   "source": []
  }
 ],
 "metadata": {
  "kernelspec": {
   "display_name": "Python 3 (ipykernel)",
   "language": "python",
   "name": "python3"
  },
  "language_info": {
   "codemirror_mode": {
    "name": "ipython",
    "version": 3
   },
   "file_extension": ".py",
   "mimetype": "text/x-python",
   "name": "python",
   "nbconvert_exporter": "python",
   "pygments_lexer": "ipython3",
   "version": "3.8.12"
  }
 },
 "nbformat": 4,
 "nbformat_minor": 5
}
