{
 "cells": [
  {
   "cell_type": "code",
   "execution_count": 8,
   "id": "341871a0",
   "metadata": {},
   "outputs": [],
   "source": [
    "import json\n",
    "my_dict = {   \n",
    "    'B': 2,\n",
    "    'Nested': [1, 2, 3],\n",
    "    'A': 1,\n",
    "}\n",
    "\n",
    "filename = 'test.json'\n",
    "with open(filename, 'w') as file:\n",
    "    json.dump(my_dict, file, sort_keys=True, indent=2)"
   ]
  },
  {
   "cell_type": "code",
   "execution_count": 3,
   "id": "5e70c70b",
   "metadata": {},
   "outputs": [],
   "source": [
    "data = json.load(open(filename))"
   ]
  },
  {
   "cell_type": "code",
   "execution_count": 4,
   "id": "63f0d2b0",
   "metadata": {},
   "outputs": [
    {
     "data": {
      "text/plain": [
       "{'A': 1, 'B': 2, 'Nested': [1, 2, 3]}"
      ]
     },
     "execution_count": 4,
     "metadata": {},
     "output_type": "execute_result"
    }
   ],
   "source": [
    "data"
   ]
  },
  {
   "cell_type": "code",
   "execution_count": 6,
   "id": "9b3aa15f",
   "metadata": {},
   "outputs": [
    {
     "data": {
      "text/plain": [
       "True"
      ]
     },
     "execution_count": 6,
     "metadata": {},
     "output_type": "execute_result"
    }
   ],
   "source": [
    "data == my_dict"
   ]
  },
  {
   "cell_type": "code",
   "execution_count": 9,
   "id": "22cb0915",
   "metadata": {},
   "outputs": [],
   "source": [
    "class Person:\n",
    "    def __init__(self, first_name, last_name, email):\n",
    "        self.first_name = first_name\n",
    "        self.last_name = last_name\n",
    "        self.email = email\n",
    "        \n",
    "    def fullname(self):\n",
    "        return f'{self.last_name}, {self.first_name}'\n",
    "    \n",
    "#     def __str__(self):  # def __repr__"
   ]
  },
  {
   "cell_type": "code",
   "execution_count": 10,
   "id": "31e38fe0",
   "metadata": {},
   "outputs": [
    {
     "data": {
      "text/plain": [
       "<__main__.Person at 0x1f202cbf3a0>"
      ]
     },
     "execution_count": 10,
     "metadata": {},
     "output_type": "execute_result"
    }
   ],
   "source": [
    "p1 = Person('John', 'Doe', 'jdoe@buffalo.edu')\n"
   ]
  },
  {
   "cell_type": "code",
   "execution_count": 11,
   "id": "ee1d2a71",
   "metadata": {},
   "outputs": [
    {
     "data": {
      "text/plain": [
       "'Doe, John'"
      ]
     },
     "execution_count": 11,
     "metadata": {},
     "output_type": "execute_result"
    }
   ],
   "source": [
    "p1.fullname()"
   ]
  },
  {
   "cell_type": "code",
   "execution_count": 13,
   "id": "09040d03",
   "metadata": {},
   "outputs": [
    {
     "data": {
      "text/plain": [
       "'<__main__.Person object at 0x000001F202CBF3A0>'"
      ]
     },
     "execution_count": 13,
     "metadata": {},
     "output_type": "execute_result"
    }
   ],
   "source": [
    "p1.__repr__()"
   ]
  },
  {
   "cell_type": "code",
   "execution_count": 14,
   "id": "6da5f256",
   "metadata": {},
   "outputs": [
    {
     "data": {
      "text/plain": [
       "'<__main__.Person object at 0x000001F202CBF3A0>'"
      ]
     },
     "execution_count": 14,
     "metadata": {},
     "output_type": "execute_result"
    }
   ],
   "source": [
    "p1.__str__()"
   ]
  },
  {
   "cell_type": "code",
   "execution_count": 15,
   "id": "ae7c6935",
   "metadata": {},
   "outputs": [
    {
     "name": "stdout",
     "output_type": "stream",
     "text": [
      "<__main__.Person object at 0x000001F202CBF3A0>\n"
     ]
    }
   ],
   "source": [
    "print(p1)"
   ]
  },
  {
   "cell_type": "code",
   "execution_count": 16,
   "id": "f8654a2b",
   "metadata": {},
   "outputs": [],
   "source": [
    "# print()\n",
    "# __str__()\n",
    "# __repr__()\n",
    "# __repr__() -- default one that is provided by the base class"
   ]
  },
  {
   "cell_type": "code",
   "execution_count": 17,
   "id": "6c2d80cb",
   "metadata": {},
   "outputs": [],
   "source": [
    "class Person:\n",
    "    def __init__(self, first_name, last_name, email):\n",
    "        self.first_name = first_name\n",
    "        self.last_name = last_name\n",
    "        self.email = email\n",
    "        \n",
    "    def fullname(self):\n",
    "        return f'{self.last_name}, {self.first_name}'\n",
    "    \n",
    "    def __str__(self): \n",
    "        return self.fullname()"
   ]
  },
  {
   "cell_type": "code",
   "execution_count": 19,
   "id": "23a9f9e9",
   "metadata": {},
   "outputs": [],
   "source": [
    "p1 = Person('John', 'Doe', 'jdoe@buffalo.edu')\n"
   ]
  },
  {
   "cell_type": "code",
   "execution_count": 21,
   "id": "2332b10c",
   "metadata": {},
   "outputs": [
    {
     "name": "stdout",
     "output_type": "stream",
     "text": [
      "Doe, John\n"
     ]
    }
   ],
   "source": [
    "print(p1)"
   ]
  },
  {
   "cell_type": "code",
   "execution_count": 22,
   "id": "6e1ff06f",
   "metadata": {},
   "outputs": [
    {
     "name": "stdout",
     "output_type": "stream",
     "text": [
      "Doe, John\n"
     ]
    }
   ],
   "source": [
    "class Person:\n",
    "    def __init__(self, first_name, last_name, email):\n",
    "        self.first_name = first_name\n",
    "        self.last_name = last_name\n",
    "        self.email = email\n",
    "        \n",
    "    def fullname(self):\n",
    "        return f'{self.last_name}, {self.first_name}'\n",
    "    \n",
    "    def __repr__(self): \n",
    "        return self.fullname()\n",
    "p1 = Person('John', 'Doe', 'jdoe@buffalo.edu')\n",
    "print(p1)"
   ]
  },
  {
   "cell_type": "code",
   "execution_count": 23,
   "id": "5dddca80",
   "metadata": {},
   "outputs": [],
   "source": [
    "class Person:\n",
    "    def __init__(self, first_name, last_name, email):\n",
    "        self.first_name = first_name\n",
    "        self.last_name = last_name\n",
    "        self.email = email\n",
    "        \n",
    "    def fullname(self):\n",
    "        return f'{self.last_name}, {self.first_name}'\n",
    "    \n",
    "    \n",
    "p1 = Person('John', 'Doe', 'jdoe@buffalo.edu')"
   ]
  },
  {
   "cell_type": "code",
   "execution_count": 24,
   "id": "564ad51b",
   "metadata": {},
   "outputs": [
    {
     "name": "stdout",
     "output_type": "stream",
     "text": [
      "<__main__.Person object at 0x000001F202DA0C40>\n"
     ]
    }
   ],
   "source": [
    "print(p1)"
   ]
  },
  {
   "cell_type": "code",
   "execution_count": 34,
   "id": "4ca9fd66",
   "metadata": {},
   "outputs": [],
   "source": [
    "class Person:\n",
    "    def __init__(self, first_name, last_name, email):\n",
    "        self.first_name = first_name\n",
    "        self.last_name = last_name\n",
    "        self.email = email\n",
    "\n",
    "    def __str__(self):\n",
    "        return f'{self.first_name} {self.last_name}'\n",
    "\n",
    "    def get_email(self):\n",
    "        return self.email\n",
    "\n",
    "    def get_full_name(self):\n",
    "        return f'{self.last_name}, {self.first_name}'\n",
    "p1 = Person('John', 'Doe', 'jdoe@buffalo.edu')"
   ]
  },
  {
   "cell_type": "code",
   "execution_count": 30,
   "id": "40fe88ee",
   "metadata": {},
   "outputs": [
    {
     "data": {
      "text/plain": [
       "'jdoe@buffalo.edu'"
      ]
     },
     "execution_count": 30,
     "metadata": {},
     "output_type": "execute_result"
    }
   ],
   "source": [
    "p1.email"
   ]
  },
  {
   "cell_type": "code",
   "execution_count": 31,
   "id": "48b79c00",
   "metadata": {},
   "outputs": [
    {
     "data": {
      "text/plain": [
       "'jdoe@buffalo.edu'"
      ]
     },
     "execution_count": 31,
     "metadata": {},
     "output_type": "execute_result"
    }
   ],
   "source": [
    "p1.get_email()"
   ]
  },
  {
   "cell_type": "code",
   "execution_count": 40,
   "id": "aa316836",
   "metadata": {},
   "outputs": [],
   "source": [
    "class Student(Person):\n",
    "    def __init__(self, first_name, last_name, email, program):\n",
    "        super().__init__(first_name, last_name, email) # Person.__init__(first_name, last_name, email)\n",
    "#         self.first_name = first_name\n",
    "#         self.last_name = last_name\n",
    "#         self.email = email\n",
    "        self.program = program\n",
    "    \n",
    "    def __str__(self):\n",
    "        return self.get_full_name()\n",
    "    \n",
    "s1 = Student('John', 'Doe', 'jdoe@buffalo.edu', 'Math')"
   ]
  },
  {
   "cell_type": "code",
   "execution_count": 42,
   "id": "1fb39c53",
   "metadata": {},
   "outputs": [
    {
     "name": "stdout",
     "output_type": "stream",
     "text": [
      "Doe, John\n"
     ]
    }
   ],
   "source": [
    "print(s1)"
   ]
  },
  {
   "cell_type": "code",
   "execution_count": 43,
   "id": "deecd237",
   "metadata": {},
   "outputs": [
    {
     "data": {
      "text/plain": [
       "'John'"
      ]
     },
     "execution_count": 43,
     "metadata": {},
     "output_type": "execute_result"
    }
   ],
   "source": [
    "s1.first_name"
   ]
  },
  {
   "cell_type": "code",
   "execution_count": 44,
   "id": "7a4a60bb",
   "metadata": {},
   "outputs": [],
   "source": [
    "class Student(Person):\n",
    "    PROGRAMS = ['graduate', 'undergraduate']\n",
    "\n",
    "    def __init__(self, first_name, last_name, email, program):       \n",
    "        if program.lower() not in self.PROGRAMS:\n",
    "            raise ValueError('program can only be \"graduate\" or \"undergraduate\"')\n",
    "        super().__init__(first_name, last_name, email)\n",
    "        self.program = program.lower()\n",
    "        self.classes = []\n",
    "\n",
    "    def enroll(self, name_of_course):\n",
    "        self.classes.append(name_of_course)\n",
    "\n",
    "    def print_classes(self):\n",
    "        classes = ', '.join(self.classes)\n",
    "        print(f'{classes}')"
   ]
  },
  {
   "cell_type": "code",
   "execution_count": 45,
   "id": "980e89c8",
   "metadata": {},
   "outputs": [
    {
     "ename": "ValueError",
     "evalue": "program can only be \"graduate\" or \"undergraduate\"",
     "output_type": "error",
     "traceback": [
      "\u001b[1;31m---------------------------------------------------------------------------\u001b[0m",
      "\u001b[1;31mValueError\u001b[0m                                Traceback (most recent call last)",
      "\u001b[1;32m~\\AppData\\Local\\Temp/ipykernel_4136/1370221791.py\u001b[0m in \u001b[0;36m<module>\u001b[1;34m\u001b[0m\n\u001b[1;32m----> 1\u001b[1;33m \u001b[0ms1\u001b[0m \u001b[1;33m=\u001b[0m \u001b[0mStudent\u001b[0m\u001b[1;33m(\u001b[0m\u001b[1;34m'John'\u001b[0m\u001b[1;33m,\u001b[0m \u001b[1;34m'Doe'\u001b[0m\u001b[1;33m,\u001b[0m \u001b[1;34m'jdoe@buffalo.edu'\u001b[0m\u001b[1;33m,\u001b[0m \u001b[1;34m'Math'\u001b[0m\u001b[1;33m)\u001b[0m\u001b[1;33m\u001b[0m\u001b[1;33m\u001b[0m\u001b[0m\n\u001b[0m",
      "\u001b[1;32m~\\AppData\\Local\\Temp/ipykernel_4136/373800329.py\u001b[0m in \u001b[0;36m__init__\u001b[1;34m(self, first_name, last_name, email, program)\u001b[0m\n\u001b[0;32m      4\u001b[0m     \u001b[1;32mdef\u001b[0m \u001b[0m__init__\u001b[0m\u001b[1;33m(\u001b[0m\u001b[0mself\u001b[0m\u001b[1;33m,\u001b[0m \u001b[0mfirst_name\u001b[0m\u001b[1;33m,\u001b[0m \u001b[0mlast_name\u001b[0m\u001b[1;33m,\u001b[0m \u001b[0memail\u001b[0m\u001b[1;33m,\u001b[0m \u001b[0mprogram\u001b[0m\u001b[1;33m)\u001b[0m\u001b[1;33m:\u001b[0m\u001b[1;33m\u001b[0m\u001b[1;33m\u001b[0m\u001b[0m\n\u001b[0;32m      5\u001b[0m         \u001b[1;32mif\u001b[0m \u001b[0mprogram\u001b[0m\u001b[1;33m.\u001b[0m\u001b[0mlower\u001b[0m\u001b[1;33m(\u001b[0m\u001b[1;33m)\u001b[0m \u001b[1;32mnot\u001b[0m \u001b[1;32min\u001b[0m \u001b[0mself\u001b[0m\u001b[1;33m.\u001b[0m\u001b[0mPROGRAMS\u001b[0m\u001b[1;33m:\u001b[0m\u001b[1;33m\u001b[0m\u001b[1;33m\u001b[0m\u001b[0m\n\u001b[1;32m----> 6\u001b[1;33m             \u001b[1;32mraise\u001b[0m \u001b[0mValueError\u001b[0m\u001b[1;33m(\u001b[0m\u001b[1;34m'program can only be \"graduate\" or \"undergraduate\"'\u001b[0m\u001b[1;33m)\u001b[0m\u001b[1;33m\u001b[0m\u001b[1;33m\u001b[0m\u001b[0m\n\u001b[0m\u001b[0;32m      7\u001b[0m         \u001b[0msuper\u001b[0m\u001b[1;33m(\u001b[0m\u001b[1;33m)\u001b[0m\u001b[1;33m.\u001b[0m\u001b[0m__init__\u001b[0m\u001b[1;33m(\u001b[0m\u001b[0mfirst_name\u001b[0m\u001b[1;33m,\u001b[0m \u001b[0mlast_name\u001b[0m\u001b[1;33m,\u001b[0m \u001b[0memail\u001b[0m\u001b[1;33m)\u001b[0m\u001b[1;33m\u001b[0m\u001b[1;33m\u001b[0m\u001b[0m\n\u001b[0;32m      8\u001b[0m         \u001b[0mself\u001b[0m\u001b[1;33m.\u001b[0m\u001b[0mprogram\u001b[0m \u001b[1;33m=\u001b[0m \u001b[0mprogram\u001b[0m\u001b[1;33m.\u001b[0m\u001b[0mlower\u001b[0m\u001b[1;33m(\u001b[0m\u001b[1;33m)\u001b[0m\u001b[1;33m\u001b[0m\u001b[1;33m\u001b[0m\u001b[0m\n",
      "\u001b[1;31mValueError\u001b[0m: program can only be \"graduate\" or \"undergraduate\""
     ]
    }
   ],
   "source": [
    "s1 = Student('John', 'Doe', 'jdoe@buffalo.edu', 'Math')"
   ]
  },
  {
   "cell_type": "code",
   "execution_count": 46,
   "id": "43aa4dc9",
   "metadata": {},
   "outputs": [
    {
     "name": "stdout",
     "output_type": "stream",
     "text": [
      "john doe\n"
     ]
    }
   ],
   "source": [
    "s1 = Student('john', 'doe', 'jdoe@example.edu', 'gradUate')\n",
    "print(s1)"
   ]
  },
  {
   "cell_type": "code",
   "execution_count": 47,
   "id": "5c09a7a6",
   "metadata": {},
   "outputs": [
    {
     "name": "stdout",
     "output_type": "stream",
     "text": [
      "abc, abc, efg, hij\n"
     ]
    }
   ],
   "source": [
    "s1.enroll('abc')\n",
    "s1.enroll('abc')\n",
    "s1.enroll('efg')\n",
    "s1.enroll('hij')\n",
    "s1.print_classes()"
   ]
  },
  {
   "cell_type": "code",
   "execution_count": 48,
   "id": "94c2eff8",
   "metadata": {},
   "outputs": [
    {
     "name": "stdout",
     "output_type": "stream",
     "text": [
      "john doe\n",
      "doe, john is already enrolled in abc!\n",
      "abc, efg, hij\n"
     ]
    }
   ],
   "source": [
    "class Student(Person):\n",
    "    PROGRAMS = ['graduate', 'undergraduate']\n",
    "\n",
    "    def __init__(self, first_name, last_name, email, program):\n",
    "        super().__init__(first_name, last_name, email)\n",
    "        if program.lower() not in self.PROGRAMS:\n",
    "            raise ValueError('program can only be \"graduate\" or \"undergraduate\"')\n",
    "        self.program = program\n",
    "        self.classes = []\n",
    "\n",
    "\n",
    "    def enroll(self, name_of_course):\n",
    "        if name_of_course not in self.classes:\n",
    "            self.classes.append(name_of_course)\n",
    "        else:\n",
    "            print(f'{self.get_full_name()} is already enrolled in {name_of_course}!')\n",
    "\n",
    "    def print_classes(self):\n",
    "        classes = ', '.join(self.classes)\n",
    "        print(f'{classes}')\n",
    "\n",
    "    def print_self(self):\n",
    "        print(self)\n",
    "\n",
    "s1 = Student('john', 'doe', 'jdoe@example.edu', 'graduate')\n",
    "print(s1)\n",
    "s1.enroll('abc')\n",
    "s1.enroll('abc')\n",
    "s1.enroll('efg')\n",
    "s1.enroll('hij')\n",
    "s1.print_classes()"
   ]
  },
  {
   "cell_type": "code",
   "execution_count": 49,
   "id": "7428d03f",
   "metadata": {},
   "outputs": [],
   "source": [
    "class Course:\n",
    "    def __init__(self, course_name, credits):\n",
    "        self.course_name = course_name\n",
    "        self.credits = credits\n",
    "\n",
    "    def __repr__(self):\n",
    "        return f'{self.course_name}'\n",
    "\n",
    "    def get_course_name(self):\n",
    "        return self.course_name"
   ]
  },
  {
   "cell_type": "code",
   "execution_count": 50,
   "id": "ca881f7f",
   "metadata": {},
   "outputs": [],
   "source": [
    "class Student(Person):\n",
    "    PROGRAMS = ['graduate', 'undergraduate']\n",
    "\n",
    "    def __init__(self, first_name, last_name, email, program):\n",
    "        super().__init__(first_name, last_name, email)\n",
    "        if program.lower() not in self.PROGRAMS:\n",
    "            raise ValueError('program can only be \"graduate\" or \"undergraduate\"')\n",
    "        self.program = program\n",
    "        self.classes = []\n",
    "\n",
    "\n",
    "    def enroll(self, course):\n",
    "        if course not in self.classes:\n",
    "            self.classes.append(course)\n",
    "        else:\n",
    "            print(f'Already enrolled in {course}!')\n",
    "\n",
    "    def print_classes(self):\n",
    "        classes = ', '.join(sorted([i.course_name for i in self.classes]))\n",
    "        print(f'{classes}')"
   ]
  },
  {
   "cell_type": "code",
   "execution_count": 51,
   "id": "543bb896",
   "metadata": {},
   "outputs": [],
   "source": [
    "c1 = Course('Math', 3)\n",
    "c2 = Course('Physics', 4)\n",
    "c3 = Course('Chemistry', 3)\n",
    "c4 = Course('English', 3)"
   ]
  },
  {
   "cell_type": "code",
   "execution_count": 52,
   "id": "95772160",
   "metadata": {},
   "outputs": [
    {
     "name": "stdout",
     "output_type": "stream",
     "text": [
      "john doe\n",
      "Already enrolled in Chemistry!\n",
      "Chemistry, Math, Physics\n"
     ]
    }
   ],
   "source": [
    "s1 = Student('john', 'doe', 'jdoe@example.edu', 'graduate')\n",
    "print(s1)\n",
    "s1.enroll(c1)\n",
    "s1.enroll(c2)\n",
    "s1.enroll(c3)\n",
    "s1.enroll(c3)\n",
    "s1.print_classes()"
   ]
  },
  {
   "cell_type": "code",
   "execution_count": 53,
   "id": "40dc715d",
   "metadata": {},
   "outputs": [],
   "source": [
    "class Student(Person):\n",
    "    PROGRAMS = ['graduate', 'undergraduate']\n",
    "    MAX_CREDITS = 9\n",
    "\n",
    "    def __init__(self, first_name, last_name, email, program):\n",
    "        super().__init__(first_name, last_name, email)\n",
    "        if program.lower() not in self.PROGRAMS:\n",
    "            raise ValueError('program can only be \"graduate\" or \"undergraduate\"')\n",
    "        self.program = program\n",
    "        self.classes = []\n",
    "        self.enrolled_credits = 0\n",
    "\n",
    "    def enroll(self, course):\n",
    "        # ensure that the total after adding course will not exceed max\n",
    "        if self.get_total_credits() + course.credits > self.MAX_CREDITS:\n",
    "            print(f'You will be over the max credits! Cannot add {course}.')\n",
    "            return\n",
    "    \n",
    "        if course not in self.classes:\n",
    "            self.classes.append(course)\n",
    "        else:\n",
    "            print(f'Already enrolled in {course}!')\n",
    "\n",
    "    def print_classes(self):\n",
    "        classes = ', '.join(sorted([i.course_name for i in self.classes]))\n",
    "        print(f'{classes}')\n",
    "\n",
    "\n",
    "    def get_total_credits(self):\n",
    "        total_credits = 0\n",
    "        for ele in self.classes:\n",
    "            total_credits += ele.credits\n",
    "        return total_credits"
   ]
  },
  {
   "cell_type": "code",
   "execution_count": 54,
   "id": "f1eb89ac",
   "metadata": {},
   "outputs": [],
   "source": [
    "class Course:\n",
    "    def __init__(self, course_name, credits):\n",
    "        self.course_name = course_name\n",
    "        self.credits = credits\n",
    "\n",
    "    def __repr__(self):\n",
    "        return f'{self.course_name}'\n",
    "\n",
    "    def __str__(self):\n",
    "        return f'{self.course_name}'\n",
    "\n",
    "\n",
    "    def get_course_name(self):\n",
    "        return self.course_name\n",
    "\n",
    "\n",
    "c1 = Course('Math', 3)\n",
    "c2 = Course('Physics', 4)\n",
    "c3 = Course('Chemistry', 3)\n",
    "c4 = Course('English', 3)"
   ]
  },
  {
   "cell_type": "code",
   "execution_count": 55,
   "id": "8cea53f0",
   "metadata": {},
   "outputs": [
    {
     "name": "stdout",
     "output_type": "stream",
     "text": [
      "john doe\n",
      "Already enrolled in Math!\n"
     ]
    }
   ],
   "source": [
    "s1 = Student('john', 'doe', 'jdoe@example.edu', 'graduate')\n",
    "print(s1)\n",
    "s1.enroll(c1)\n",
    "s1.enroll(c1)\n",
    "s1.enroll(c3)"
   ]
  },
  {
   "cell_type": "code",
   "execution_count": 56,
   "id": "54d6ee57",
   "metadata": {},
   "outputs": [],
   "source": [
    "s1.enroll(c4)\n"
   ]
  },
  {
   "cell_type": "code",
   "execution_count": 58,
   "id": "e08185c5",
   "metadata": {},
   "outputs": [
    {
     "data": {
      "text/plain": [
       "9"
      ]
     },
     "execution_count": 58,
     "metadata": {},
     "output_type": "execute_result"
    }
   ],
   "source": [
    "s1.get_total_credits()"
   ]
  },
  {
   "cell_type": "code",
   "execution_count": 59,
   "id": "e6d18720",
   "metadata": {},
   "outputs": [
    {
     "name": "stdout",
     "output_type": "stream",
     "text": [
      "You will be over the max credits! Cannot add Physics.\n"
     ]
    }
   ],
   "source": [
    "s1.enroll(c2)"
   ]
  },
  {
   "cell_type": "code",
   "execution_count": 60,
   "id": "db3ebaa8",
   "metadata": {},
   "outputs": [],
   "source": [
    "class Student(Person):\n",
    "    PROGRAMS = ['undergraduate', 'graduate']\n",
    "    MAX_CREDITS = 16\n",
    "    \n",
    "    def __init__(self, first_name, last_name, email, program):\n",
    "        if program.lower() not in self.PROGRAMS:\n",
    "            raise ValueError(f'Programs can only be {self.PROGRAMS}. You entered: {program}.')\n",
    "        \n",
    "        super().__init__(first_name, last_name, email)\n",
    "        self.program = program.title()\n",
    "        self.courses = []\n",
    "        self.total_credits = 0\n",
    "   \n",
    "    def __repr__(self):\n",
    "        return f'{self.first_name} {self.last_name}; {self.program}'\n",
    "    \n",
    "    def enroll(self, *courses):\n",
    "        for course in courses:\n",
    "            if (self.total_credits + course.credits) > self.MAX_CREDITS:\n",
    "                print('This will put you above 16 Credits')\n",
    "                return       \n",
    "            if course not in self.courses:\n",
    "                self.courses.append(course)\n",
    "                print(self.courses[-1].course_name)\n",
    "                print(self.courses[-1].credits)\n",
    "                self.total_credits += course.credits\n",
    "            else:\n",
    "                print(f'Already enrolled in {class_name} ')\n",
    "        \n",
    "    def print_classes(self):\n",
    "        print(', '.join([ele.course_name for ele in self.courses]))"
   ]
  },
  {
   "cell_type": "code",
   "execution_count": 61,
   "id": "9059e3b4",
   "metadata": {},
   "outputs": [],
   "source": [
    "c1 = Course('Math', 3)\n",
    "c2 = Course('Physics', 4)\n",
    "c3 = Course('Chemistry', 3)\n",
    "c4 = Course('English', 3)"
   ]
  },
  {
   "cell_type": "code",
   "execution_count": 62,
   "id": "82633f48",
   "metadata": {},
   "outputs": [],
   "source": [
    "s1 = Student('john', 'doe', 'jdoe@example.edu', 'graduate')\n"
   ]
  },
  {
   "cell_type": "code",
   "execution_count": 63,
   "id": "d0446d1e",
   "metadata": {},
   "outputs": [
    {
     "name": "stdout",
     "output_type": "stream",
     "text": [
      "Math\n",
      "3\n",
      "Physics\n",
      "4\n",
      "Chemistry\n",
      "3\n"
     ]
    }
   ],
   "source": [
    "s1.enroll(c1, c2, c3)"
   ]
  },
  {
   "cell_type": "code",
   "execution_count": 64,
   "id": "5e1b307e",
   "metadata": {},
   "outputs": [
    {
     "name": "stdout",
     "output_type": "stream",
     "text": [
      "Math, Physics, Chemistry\n"
     ]
    }
   ],
   "source": [
    "s1.print_classes()"
   ]
  },
  {
   "cell_type": "code",
   "execution_count": 65,
   "id": "3e81e2b0",
   "metadata": {},
   "outputs": [
    {
     "name": "stdout",
     "output_type": "stream",
     "text": [
      "Coke: 60\n",
      "Pepsi: 50\n",
      "7up: 40\n"
     ]
    }
   ],
   "source": [
    "class Beverage:\n",
    "    def __init__(self, name, temp):\n",
    "        self.name = name\n",
    "        self.temp = temp\n",
    "        \n",
    "    def __repr__(self):\n",
    "        return f'{self.name}: {self.temp}'\n",
    "        \n",
    "b1 = Beverage('Coke', 60)\n",
    "b2 = Beverage('Pepsi', 50)\n",
    "b3 = Beverage('7up', 40)\n",
    "\n",
    "beverages = [b1, b2, b3]\n",
    "for beverage in beverages:\n",
    "    print(beverage)"
   ]
  },
  {
   "cell_type": "code",
   "execution_count": 66,
   "id": "70cff3ce",
   "metadata": {},
   "outputs": [
    {
     "name": "stdout",
     "output_type": "stream",
     "text": [
      "Coke: 60\n",
      "Pepsi: 75\n",
      "7up: 40\n"
     ]
    }
   ],
   "source": [
    "class Beverage:\n",
    "    def __init__(self, name, temp=75):\n",
    "        self.name = name\n",
    "        self.temp = temp\n",
    "        \n",
    "    def __repr__(self):\n",
    "        return f'{self.name}: {self.temp}'\n",
    "        \n",
    "b1 = Beverage('Coke', 60)\n",
    "b2 = Beverage('Pepsi')\n",
    "b3 = Beverage('7up', 40)\n",
    "\n",
    "beverages = [b1, b2, b3]\n",
    "for beverage in beverages:\n",
    "    print(beverage)"
   ]
  },
  {
   "cell_type": "code",
   "execution_count": 67,
   "id": "d8824c24",
   "metadata": {},
   "outputs": [],
   "source": [
    "class Logfile:\n",
    "    def __init__(self, filename):\n",
    "        self.filename = filename\n",
    "        self.file = None\n",
    "        \n",
    "    def open_file(self):\n",
    "        self.file = open(self.filename, 'w')\n",
    "        \n",
    "    def write_row(self, row):\n",
    "        self.file.write(f'{row.strip()}\\n')\n",
    "        \n",
    "    def close_file(self):\n",
    "        self.file.close()\n",
    "        "
   ]
  },
  {
   "cell_type": "code",
   "execution_count": 68,
   "id": "aa9f814b",
   "metadata": {},
   "outputs": [],
   "source": [
    "l1 = Logfile('log1.txt')\n",
    "l1.open_file()"
   ]
  },
  {
   "cell_type": "code",
   "execution_count": 69,
   "id": "8404eff8",
   "metadata": {},
   "outputs": [],
   "source": [
    "for row in ['abc', 'efg', 'hij']:\n",
    "    l1.write_row(row)"
   ]
  },
  {
   "cell_type": "code",
   "execution_count": 70,
   "id": "d3b75400",
   "metadata": {},
   "outputs": [],
   "source": [
    "l1.close_file()"
   ]
  },
  {
   "cell_type": "code",
   "execution_count": 72,
   "id": "54b0d293",
   "metadata": {},
   "outputs": [],
   "source": [
    "l2 = Logfile('log2.txt')\n",
    "l2.open_file()\n",
    "\n",
    "for row in ['ABC', 'EFG', 'DHIJ']:\n",
    "    l2.write_row(row)\n",
    "    \n",
    "l2.close_file()"
   ]
  },
  {
   "cell_type": "code",
   "execution_count": 75,
   "id": "df394e38",
   "metadata": {},
   "outputs": [],
   "source": [
    "class Person:\n",
    "    def __init__(self, first_name, last_name):\n",
    "        self.first_name = first_name\n",
    "        self.last_name = last_name\n",
    "\n",
    "\n",
    "class Student(Person):\n",
    "    def __init__(self, first_name, last_name, credit_hours, q_point):\n",
    "        super().__init__(first_name, last_name)\n",
    "        self.credit_hours = credit_hours\n",
    "        self.q_point = q_point\n",
    "        \n",
    "    def __repr__(self):\n",
    "        return f'{self.first_name} {self.last_name}; {self.get_gpa()}'\n",
    "\n",
    "    def get_gpa(self):\n",
    "        return round(self.q_point / self.credit_hours, 2)\n",
    "    \n",
    "filename = 'data.tsv'\n",
    "\n",
    "students = []\n",
    "\n",
    "with open(filename) as file:\n",
    "    for line in file:\n",
    "        if not line.strip():\n",
    "            continue\n",
    "        \n",
    "        name, credits, q_points = line.strip().split('\\t')\n",
    "        last_name, first_name = name.split(', ')\n",
    "        \n",
    "        student = Student(first_name, last_name, int(credits), int(q_points))\n",
    "        students.append(student)"
   ]
  },
  {
   "cell_type": "code",
   "execution_count": 78,
   "id": "40d43eff",
   "metadata": {},
   "outputs": [
    {
     "ename": "TypeError",
     "evalue": "'<' not supported between instances of 'Student' and 'Student'",
     "output_type": "error",
     "traceback": [
      "\u001b[1;31m---------------------------------------------------------------------------\u001b[0m",
      "\u001b[1;31mTypeError\u001b[0m                                 Traceback (most recent call last)",
      "\u001b[1;32m~\\AppData\\Local\\Temp/ipykernel_4136/645918957.py\u001b[0m in \u001b[0;36m<module>\u001b[1;34m\u001b[0m\n\u001b[1;32m----> 1\u001b[1;33m \u001b[0msorted\u001b[0m\u001b[1;33m(\u001b[0m\u001b[0mstudents\u001b[0m\u001b[1;33m)\u001b[0m\u001b[1;33m\u001b[0m\u001b[1;33m\u001b[0m\u001b[0m\n\u001b[0m",
      "\u001b[1;31mTypeError\u001b[0m: '<' not supported between instances of 'Student' and 'Student'"
     ]
    }
   ],
   "source": [
    "sorted(students)"
   ]
  },
  {
   "cell_type": "code",
   "execution_count": 81,
   "id": "94b2893d",
   "metadata": {},
   "outputs": [],
   "source": [
    "a = students[1]"
   ]
  },
  {
   "cell_type": "code",
   "execution_count": 82,
   "id": "1fd70bdb",
   "metadata": {},
   "outputs": [
    {
     "data": {
      "text/plain": [
       "3.41"
      ]
     },
     "execution_count": 82,
     "metadata": {},
     "output_type": "execute_result"
    }
   ],
   "source": [
    "a.get_gpa()"
   ]
  },
  {
   "cell_type": "code",
   "execution_count": 84,
   "id": "5d95f8a4",
   "metadata": {},
   "outputs": [
    {
     "data": {
      "text/plain": [
       "Brandon Crane; 3.89"
      ]
     },
     "execution_count": 84,
     "metadata": {},
     "output_type": "execute_result"
    }
   ],
   "source": [
    "max(students, key=lambda student: student.get_gpa())"
   ]
  },
  {
   "cell_type": "code",
   "execution_count": 85,
   "id": "a0902760",
   "metadata": {},
   "outputs": [
    {
     "data": {
      "text/plain": [
       "Jennifer Vazquez; 1.5"
      ]
     },
     "execution_count": 85,
     "metadata": {},
     "output_type": "execute_result"
    }
   ],
   "source": [
    "min(students, key=lambda student: student.get_gpa())"
   ]
  },
  {
   "cell_type": "code",
   "execution_count": 97,
   "id": "58f67383",
   "metadata": {},
   "outputs": [],
   "source": [
    "## MRN, BP, some string\n",
    "\n",
    "x = (\n",
    "    (222222, 110, 'First'),\n",
    "    (111111, 120, 'Second'),\n",
    "    (222222, 123, 'First'),\n",
    "    (111111, 140, 'First'),   \n",
    "    (222222, 160, 'First'),\n",
    "    (111111, 98, 'First'),   \n",
    ")"
   ]
  },
  {
   "cell_type": "code",
   "execution_count": 98,
   "id": "17e8e721",
   "metadata": {},
   "outputs": [
    {
     "data": {
      "text/plain": [
       "[(111111, 98, 'First'),\n",
       " (111111, 120, 'Second'),\n",
       " (111111, 140, 'First'),\n",
       " (222222, 110, 'First'),\n",
       " (222222, 123, 'First'),\n",
       " (222222, 160, 'First')]"
      ]
     },
     "execution_count": 98,
     "metadata": {},
     "output_type": "execute_result"
    }
   ],
   "source": [
    "sorted(x)"
   ]
  },
  {
   "cell_type": "code",
   "execution_count": 99,
   "id": "ea4593ba",
   "metadata": {},
   "outputs": [
    {
     "data": {
      "text/plain": [
       "[(111111, 98, 'First'),\n",
       " (111111, 140, 'First'),\n",
       " (111111, 120, 'Second'),\n",
       " (222222, 110, 'First'),\n",
       " (222222, 123, 'First'),\n",
       " (222222, 160, 'First')]"
      ]
     },
     "execution_count": 99,
     "metadata": {},
     "output_type": "execute_result"
    }
   ],
   "source": [
    "sorted(x, key=lambda row: (row[0], row[2], row[1]))"
   ]
  },
  {
   "cell_type": "code",
   "execution_count": 100,
   "id": "a5be8d27",
   "metadata": {},
   "outputs": [],
   "source": [
    "from abc import ABC, abstractmethod\n",
    "\n",
    "\n",
    "class Employee(ABC):\n",
    "\n",
    "    def __init__(self, first_name, last_name, ssn):\n",
    "        self.first_name = first_name\n",
    "        self.last_name = last_name\n",
    "        self.ssn = ssn\n",
    "\n",
    "    @abstractmethod\n",
    "    def earnings(self):\n",
    "        pass\n",
    "\n",
    "    def __repr__(self):\n",
    "        return f'{self.first_name} {self.last_name}\\nsocial security: {self.ssn}'\n"
   ]
  },
  {
   "cell_type": "code",
   "execution_count": 101,
   "id": "0500a02f",
   "metadata": {},
   "outputs": [
    {
     "ename": "TypeError",
     "evalue": "Can't instantiate abstract class Employee with abstract methods earnings",
     "output_type": "error",
     "traceback": [
      "\u001b[1;31m---------------------------------------------------------------------------\u001b[0m",
      "\u001b[1;31mTypeError\u001b[0m                                 Traceback (most recent call last)",
      "\u001b[1;32m~\\AppData\\Local\\Temp/ipykernel_4136/4269588165.py\u001b[0m in \u001b[0;36m<module>\u001b[1;34m\u001b[0m\n\u001b[1;32m----> 1\u001b[1;33m \u001b[0me1\u001b[0m \u001b[1;33m=\u001b[0m \u001b[0mEmployee\u001b[0m\u001b[1;33m(\u001b[0m\u001b[1;34m'john'\u001b[0m\u001b[1;33m,\u001b[0m \u001b[1;34m'doe'\u001b[0m\u001b[1;33m,\u001b[0m \u001b[1;34m'111-22-3333'\u001b[0m\u001b[1;33m)\u001b[0m\u001b[1;33m\u001b[0m\u001b[1;33m\u001b[0m\u001b[0m\n\u001b[0m",
      "\u001b[1;31mTypeError\u001b[0m: Can't instantiate abstract class Employee with abstract methods earnings"
     ]
    }
   ],
   "source": [
    "e1 = Employee('john', 'doe', '111-22-3333')"
   ]
  },
  {
   "cell_type": "code",
   "execution_count": null,
   "id": "0366b4c1",
   "metadata": {},
   "outputs": [],
   "source": [
    "for ele in [e1, e2, e3]:\n",
    "    ele.earnings()"
   ]
  },
  {
   "cell_type": "code",
   "execution_count": 102,
   "id": "8477d316",
   "metadata": {},
   "outputs": [],
   "source": [
    "class SalariedEmployee(Employee):\n",
    "    def __init__(self, first_name, last_name, ssn, salary):\n",
    "        super().__init__(first_name, last_name, ssn)\n",
    "        self.weekly_salary = salary\n",
    "\n",
    "    def earnings(self):\n",
    "        return self.weekly_salary\n",
    "\n",
    "    def __repr__(self):\n",
    "        return f'salaried employee: {super().__repr__()}\\nweekly salary: ${self.weekly_salary}'"
   ]
  },
  {
   "cell_type": "code",
   "execution_count": 103,
   "id": "f65226f6",
   "metadata": {},
   "outputs": [],
   "source": [
    "se = SalariedEmployee('John', 'Doe', '111-22-3333', 3000)"
   ]
  },
  {
   "cell_type": "code",
   "execution_count": 104,
   "id": "dfb03060",
   "metadata": {},
   "outputs": [
    {
     "name": "stdout",
     "output_type": "stream",
     "text": [
      "salaried employee: John Doe\n",
      "social security: 111-22-3333\n",
      "weekly salary: $3000\n"
     ]
    }
   ],
   "source": [
    "print(se)"
   ]
  },
  {
   "cell_type": "code",
   "execution_count": 105,
   "id": "0563679d",
   "metadata": {},
   "outputs": [],
   "source": [
    "class HourlyEmployee(Employee):\n",
    "    def __init__(self, first_name, last_name, ssn, hourly_wage, hours_worked):\n",
    "        super().__init__(first_name, last_name, ssn)\n",
    "        self.hourly_wage = hourly_wage\n",
    "        self.hours_worked = hours_worked\n",
    "\n",
    "    def earnings(self):\n",
    "        if self.hours_worked < 40:  # no overtime\n",
    "            earned = self.hourly_wage * self.hours_worked\n",
    "        else:\n",
    "            earned = 40 * self.hourly_wage + \\\n",
    "                (self.hours_worked - 40) * self.hourly_wage * 1.5\n",
    "\n",
    "        return earned\n",
    "\n",
    "    def __repr__(self):\n",
    "        return f'hourly employee: {super().__repr__()}\\nhourly wage: ${self.hourly_wage}; hours worked: {self.hours_worked}'\n",
    "\n"
   ]
  },
  {
   "cell_type": "code",
   "execution_count": 106,
   "id": "400b5f4b",
   "metadata": {},
   "outputs": [],
   "source": [
    "he = HourlyEmployee('Jack', 'Doe', '111-22-4444', 15, 29)"
   ]
  },
  {
   "cell_type": "code",
   "execution_count": 107,
   "id": "cf652652",
   "metadata": {},
   "outputs": [
    {
     "data": {
      "text/plain": [
       "435"
      ]
     },
     "execution_count": 107,
     "metadata": {},
     "output_type": "execute_result"
    }
   ],
   "source": [
    "he.earnings()"
   ]
  },
  {
   "cell_type": "code",
   "execution_count": 108,
   "id": "554c7891",
   "metadata": {},
   "outputs": [
    {
     "name": "stdout",
     "output_type": "stream",
     "text": [
      "hourly employee: Jack Doe\n",
      "social security: 111-22-4444\n",
      "hourly wage: $15; hours worked: 29\n"
     ]
    }
   ],
   "source": [
    "print(he)"
   ]
  },
  {
   "cell_type": "code",
   "execution_count": 109,
   "id": "4a0544a4",
   "metadata": {},
   "outputs": [],
   "source": [
    "class CommissionEmployee(Employee):\n",
    "    def __init__(self, first_name, last_name, ssn, sales, rate):\n",
    "        super().__init__(first_name, last_name, ssn)\n",
    "        self.sales = sales\n",
    "        self.rate = rate\n",
    "\n",
    "    def earnings(self):\n",
    "        earned = self.sales * self.rate\n",
    "        return earned\n",
    "\n",
    "    def __repr__(self):\n",
    "        return f'commission employee: {super().__repr__()}\\ngross sales: ${self.sales}; commission rate: {self.rate}'\n"
   ]
  },
  {
   "cell_type": "code",
   "execution_count": 110,
   "id": "243814c4",
   "metadata": {},
   "outputs": [],
   "source": [
    "class BasePlusCommissionEmployee(CommissionEmployee):\n",
    "    def __init__(self, first_name, last_name, ssn, sales, rate, salary):\n",
    "        super().__init__(first_name, last_name, ssn, sales, rate)\n",
    "        self.salary = salary\n",
    "\n",
    "    def earnings(self):\n",
    "        earned = self.salary + super().earnings()\n",
    "        return earned\n",
    "\n",
    "    def __repr__(self):\n",
    "        return f'base-salaried {super().__repr__()}; base-salary: ${self.salary}'\n",
    "\n"
   ]
  },
  {
   "cell_type": "code",
   "execution_count": 111,
   "id": "f8b01763",
   "metadata": {},
   "outputs": [
    {
     "name": "stdout",
     "output_type": "stream",
     "text": [
      "Employees processed individually:\n",
      "\n",
      "salaried employee: John Smith\n",
      "social security: 111-11-1111\n",
      "weekly salary: $800\n",
      "earned: $800\n"
     ]
    }
   ],
   "source": [
    "print('Employees processed individually:\\n')\n",
    "salaried_employee = SalariedEmployee('John', 'Smith', '111-11-1111', 800)\n",
    "print(salaried_employee)\n",
    "print(f'earned: ${salaried_employee.earnings()}')"
   ]
  },
  {
   "cell_type": "code",
   "execution_count": 112,
   "id": "2957fb2e",
   "metadata": {},
   "outputs": [
    {
     "name": "stdout",
     "output_type": "stream",
     "text": [
      "\n",
      "hourly employee: Karen Price\n",
      "social security: 222-22-2222\n",
      "hourly wage: $16.75; hours worked: 40\n",
      "earned: $670.0\n"
     ]
    }
   ],
   "source": [
    "print()\n",
    "hourly_employee = HourlyEmployee('Karen', 'Price', '222-22-2222', 16.75, 40)\n",
    "print(hourly_employee)\n",
    "print(f'earned: ${hourly_employee.earnings()}')\n"
   ]
  },
  {
   "cell_type": "code",
   "execution_count": 113,
   "id": "4726f211",
   "metadata": {},
   "outputs": [
    {
     "name": "stdout",
     "output_type": "stream",
     "text": [
      "\n",
      "commission employee: Sue Jones\n",
      "social security: 333-33-3333\n",
      "gross sales: $10000; commission rate: 0.06\n",
      "earned: $600.0\n"
     ]
    }
   ],
   "source": [
    "print()\n",
    "commission_employee = CommissionEmployee('Sue', 'Jones', '333-33-3333', 10000, 0.06)\n",
    "print(commission_employee)\n",
    "print(f'earned: ${commission_employee.earnings()}')\n"
   ]
  },
  {
   "cell_type": "code",
   "execution_count": 114,
   "id": "d2de4dc1",
   "metadata": {},
   "outputs": [
    {
     "name": "stdout",
     "output_type": "stream",
     "text": [
      "\n",
      "base-salaried commission employee: Bob Lewis\n",
      "social security: 444-44-4444\n",
      "gross sales: $5000; commission rate: 0.04; base-salary: $300\n",
      "earned: $500.0\n"
     ]
    }
   ],
   "source": [
    "print()\n",
    "base_plus_commission_employee = BasePlusCommissionEmployee('Bob', 'Lewis', '444-44-4444', 5000, 0.04, 300)\n",
    "print(base_plus_commission_employee)\n",
    "print(f'earned: ${base_plus_commission_employee.earnings()}')\n",
    "\n"
   ]
  },
  {
   "cell_type": "code",
   "execution_count": 115,
   "id": "c0e0025c",
   "metadata": {},
   "outputs": [],
   "source": [
    "employees = [salaried_employee, hourly_employee,\n",
    "             commission_employee, base_plus_commission_employee]\n"
   ]
  },
  {
   "cell_type": "code",
   "execution_count": 116,
   "id": "c54aa0ff",
   "metadata": {},
   "outputs": [
    {
     "name": "stdout",
     "output_type": "stream",
     "text": [
      "salaried employee: John Smith\n",
      "social security: 111-11-1111\n",
      "weekly salary: $800\n",
      "earned: $800\n",
      "hourly employee: Karen Price\n",
      "social security: 222-22-2222\n",
      "hourly wage: $16.75; hours worked: 40\n",
      "earned: $670.0\n",
      "commission employee: Sue Jones\n",
      "social security: 333-33-3333\n",
      "gross sales: $10000; commission rate: 0.06\n",
      "earned: $600.0\n",
      "base-salaried commission employee: Bob Lewis\n",
      "social security: 444-44-4444\n",
      "gross sales: $5000; commission rate: 0.04; base-salary: $300\n",
      "earned: $500.0\n"
     ]
    }
   ],
   "source": [
    "for employee in employees:\n",
    "    print(employee)\n",
    "    print(f'earned: ${employee.earnings()}')"
   ]
  },
  {
   "cell_type": "code",
   "execution_count": 117,
   "id": "dfc78f70",
   "metadata": {},
   "outputs": [
    {
     "name": "stdout",
     "output_type": "stream",
     "text": [
      "\n",
      "salaried employee: John Smith\n",
      "social security: 111-11-1111\n",
      "weekly salary: $800\n",
      "earned: $800\n",
      "\n",
      "hourly employee: Karen Price\n",
      "social security: 222-22-2222\n",
      "hourly wage: $16.75; hours worked: 40\n",
      "earned: $670.0\n",
      "\n",
      "commission employee: Sue Jones\n",
      "social security: 333-33-3333\n",
      "gross sales: $10000; commission rate: 0.06\n",
      "earned: $600.0\n",
      "\n",
      "base-salaried commission employee: Bob Lewis\n",
      "social security: 444-44-4444\n",
      "gross sales: $5000; commission rate: 0.04; base-salary: $300\n",
      "new base salary with 10% increase is 330.0\n",
      "earned: $530.0\n"
     ]
    }
   ],
   "source": [
    "for employee in employees:\n",
    "    print()\n",
    "    print(employee)\n",
    "    if employee.__class__.__name__ == 'BasePlusCommissionEmployee':\n",
    "        employee.salary = 1.10 * employee.salary\n",
    "        print(f'new base salary with 10% increase is {employee.salary}')\n",
    "    print(f'earned: ${employee.earnings()}')\n"
   ]
  },
  {
   "cell_type": "code",
   "execution_count": 118,
   "id": "0fa69258",
   "metadata": {},
   "outputs": [
    {
     "ename": "TypeError",
     "evalue": "Can't instantiate abstract class SomeEmployee with abstract methods earnings",
     "output_type": "error",
     "traceback": [
      "\u001b[1;31m---------------------------------------------------------------------------\u001b[0m",
      "\u001b[1;31mTypeError\u001b[0m                                 Traceback (most recent call last)",
      "\u001b[1;32m~\\AppData\\Local\\Temp/ipykernel_4136/1536457245.py\u001b[0m in \u001b[0;36m<module>\u001b[1;34m\u001b[0m\n\u001b[0;32m      2\u001b[0m     \u001b[1;32mpass\u001b[0m\u001b[1;33m\u001b[0m\u001b[1;33m\u001b[0m\u001b[0m\n\u001b[0;32m      3\u001b[0m \u001b[1;33m\u001b[0m\u001b[0m\n\u001b[1;32m----> 4\u001b[1;33m \u001b[0mse\u001b[0m \u001b[1;33m=\u001b[0m \u001b[0mSomeEmployee\u001b[0m\u001b[1;33m(\u001b[0m\u001b[1;34m'Sue'\u001b[0m\u001b[1;33m,\u001b[0m \u001b[1;34m'Jones'\u001b[0m\u001b[1;33m,\u001b[0m \u001b[1;34m'333-33-3333'\u001b[0m\u001b[1;33m)\u001b[0m\u001b[1;33m\u001b[0m\u001b[1;33m\u001b[0m\u001b[0m\n\u001b[0m",
      "\u001b[1;31mTypeError\u001b[0m: Can't instantiate abstract class SomeEmployee with abstract methods earnings"
     ]
    }
   ],
   "source": [
    "class SomeEmployee(Employee):\n",
    "    pass\n",
    "\n",
    "se = SomeEmployee('Sue', 'Jones', '333-33-3333')"
   ]
  },
  {
   "cell_type": "code",
   "execution_count": 119,
   "id": "77e82f25",
   "metadata": {},
   "outputs": [],
   "source": [
    "class SomeEmployee(Employee):\n",
    "    def earnings(self):\n",
    "        return 0\n",
    "\n",
    "se = SomeEmployee('Sue', 'Jones', '333-33-3333')"
   ]
  },
  {
   "cell_type": "code",
   "execution_count": 120,
   "id": "567ffef4",
   "metadata": {},
   "outputs": [],
   "source": [
    "import math\n",
    "class Circle:\n",
    "\n",
    "    def __init__(self, radius):\n",
    "        self.radius = radius\n",
    "\n",
    "    def get_area(self):\n",
    "        return math.pi * self.radius**2\n",
    "\n",
    "\n",
    "    def __repr__(self):\n",
    "        return \"Circle with radius \" + str(self.radius)\n",
    "    def __str__(self):\n",
    "        return \"Circle with radius \" + str(self.radius)"
   ]
  },
  {
   "cell_type": "code",
   "execution_count": 121,
   "id": "097a5698",
   "metadata": {},
   "outputs": [
    {
     "name": "stdout",
     "output_type": "stream",
     "text": [
      "Circle with radius 10\n",
      "Circle with radius 5\n",
      "78.53981633974483\n"
     ]
    }
   ],
   "source": [
    "c1 = Circle(10)\n",
    "c2 = Circle(5)\n",
    "print(c1)\n",
    "print(c2)\n",
    "print(c2.get_area())"
   ]
  },
  {
   "cell_type": "code",
   "execution_count": 124,
   "id": "5e0de667",
   "metadata": {},
   "outputs": [
    {
     "ename": "TypeError",
     "evalue": "'>' not supported between instances of 'Circle' and 'Circle'",
     "output_type": "error",
     "traceback": [
      "\u001b[1;31m---------------------------------------------------------------------------\u001b[0m",
      "\u001b[1;31mTypeError\u001b[0m                                 Traceback (most recent call last)",
      "\u001b[1;32m~\\AppData\\Local\\Temp/ipykernel_4136/4266050764.py\u001b[0m in \u001b[0;36m<module>\u001b[1;34m\u001b[0m\n\u001b[1;32m----> 1\u001b[1;33m \u001b[0mc1\u001b[0m \u001b[1;33m>\u001b[0m \u001b[0mc2\u001b[0m\u001b[1;33m\u001b[0m\u001b[1;33m\u001b[0m\u001b[0m\n\u001b[0m",
      "\u001b[1;31mTypeError\u001b[0m: '>' not supported between instances of 'Circle' and 'Circle'"
     ]
    }
   ],
   "source": [
    "c1 > c2"
   ]
  },
  {
   "cell_type": "code",
   "execution_count": 125,
   "id": "899199da",
   "metadata": {},
   "outputs": [
    {
     "ename": "TypeError",
     "evalue": "'>' not supported between instances of 'int' and 'str'",
     "output_type": "error",
     "traceback": [
      "\u001b[1;31m---------------------------------------------------------------------------\u001b[0m",
      "\u001b[1;31mTypeError\u001b[0m                                 Traceback (most recent call last)",
      "\u001b[1;32m~\\AppData\\Local\\Temp/ipykernel_4136/3568344125.py\u001b[0m in \u001b[0;36m<module>\u001b[1;34m\u001b[0m\n\u001b[1;32m----> 1\u001b[1;33m \u001b[1;36m3\u001b[0m \u001b[1;33m>\u001b[0m \u001b[1;34m'3'\u001b[0m\u001b[1;33m\u001b[0m\u001b[1;33m\u001b[0m\u001b[0m\n\u001b[0m",
      "\u001b[1;31mTypeError\u001b[0m: '>' not supported between instances of 'int' and 'str'"
     ]
    }
   ],
   "source": [
    "3 > '3'"
   ]
  },
  {
   "cell_type": "code",
   "execution_count": 131,
   "id": "e9f5d7bb",
   "metadata": {},
   "outputs": [],
   "source": [
    "class Circle:\n",
    "\n",
    "    def __init__(self, radius):\n",
    "        self.radius = radius\n",
    "\n",
    "    def get_area(self):\n",
    "        return math.pi * self.radius**2\n",
    "\n",
    "    def __str__(self):\n",
    "        return \"Circle with radius \" + str(self.radius)\n",
    "\n",
    "    def __add__(self, another_circle):\n",
    "        print('I am on the left side of the operator', another_circle.radius)\n",
    "        return Circle(self.radius + another_circle.radius)\n",
    "\n",
    "\n",
    "c1 = Circle(10)\n",
    "c2 = Circle(5)"
   ]
  },
  {
   "cell_type": "code",
   "execution_count": 132,
   "id": "2cf4f3d6",
   "metadata": {},
   "outputs": [
    {
     "name": "stdout",
     "output_type": "stream",
     "text": [
      "I am on the left side of the operator 5\n"
     ]
    }
   ],
   "source": [
    "c3 = c1 + c2 #  ==> Circle.__add__(c1, c2)"
   ]
  },
  {
   "cell_type": "code",
   "execution_count": 133,
   "id": "5a43322c",
   "metadata": {},
   "outputs": [
    {
     "name": "stdout",
     "output_type": "stream",
     "text": [
      "Circle with radius 15\n"
     ]
    },
    {
     "data": {
      "text/plain": [
       "706.8583470577034"
      ]
     },
     "execution_count": 133,
     "metadata": {},
     "output_type": "execute_result"
    }
   ],
   "source": [
    "print(c3)\n",
    "c3.get_area()"
   ]
  },
  {
   "cell_type": "code",
   "execution_count": 140,
   "id": "9d77126a",
   "metadata": {},
   "outputs": [
    {
     "name": "stdout",
     "output_type": "stream",
     "text": [
      "Circle with radius 15\n"
     ]
    }
   ],
   "source": [
    "class Circle:\n",
    "\n",
    "    def __init__(self, radius):\n",
    "        self.radius = radius\n",
    "\n",
    "    def get_area(self):\n",
    "        return math.pi * self.radius**2\n",
    "\n",
    "    def __str__(self):\n",
    "        return \"Circle with radius \" + str(self.radius)\n",
    "\n",
    "    def __add__(self, another_circle):\n",
    "        return Circle(self.radius + another_circle.radius)\n",
    "\n",
    "    def __gt__(self, another_circle):\n",
    "        return self.radius > another_circle.radius\n",
    "\n",
    "    def __lt__(self, another_circle):\n",
    "        return self.radius < another_circle.radius\n",
    "\n",
    "\n",
    "\n",
    "c1 = Circle(10)\n",
    "c2 = Circle(5)\n",
    "print(c2 + c1)"
   ]
  },
  {
   "cell_type": "code",
   "execution_count": 135,
   "id": "cd20e833",
   "metadata": {},
   "outputs": [
    {
     "name": "stdout",
     "output_type": "stream",
     "text": [
      "False\n"
     ]
    }
   ],
   "source": [
    "print(c1 < c2) # ==> Circle.__lt(c1, c2)"
   ]
  },
  {
   "cell_type": "code",
   "execution_count": 141,
   "id": "e33d27c8",
   "metadata": {},
   "outputs": [
    {
     "name": "stdout",
     "output_type": "stream",
     "text": [
      "11, 10\n"
     ]
    }
   ],
   "source": [
    "class Point:\n",
    "    def __init__(self, x=0, y=0):\n",
    "        self.x = x\n",
    "        self.y = y\n",
    "\n",
    "    def __add__(self, another_point):\n",
    "        return Point(self.x + another_point.x, self.y + another_point.y)\n",
    "\n",
    "    def __sub__(self, another_point):\n",
    "        return Point(self.x - another_point.x, self.y - another_point.y)\n",
    "\n",
    "    def __str__(self):\n",
    "        return f'{self.x}, {self.y}'\n",
    "\n",
    "p1 = Point(3, 4)\n",
    "p2 = Point(8, 6)\n",
    "print(p2+p1)"
   ]
  },
  {
   "cell_type": "code",
   "execution_count": 142,
   "id": "3f9c3fd6",
   "metadata": {},
   "outputs": [
    {
     "name": "stdout",
     "output_type": "stream",
     "text": [
      "5.385164807134504\n"
     ]
    }
   ],
   "source": [
    "import math\n",
    "class Point:\n",
    "    def __init__(self, x=0, y=0):\n",
    "        self.x = x\n",
    "        self.y = y\n",
    "\n",
    "    def __add__(self, another_point):\n",
    "        return Point(self.x + another_point.x, self.y + another_point.y)\n",
    "\n",
    "    def __sub__(self, another_point):\n",
    "        return Point(self.x - another_point.x, self.y - another_point.y)\n",
    "\n",
    "    def length(self):\n",
    "        return math.sqrt(self.x**2 + self.y**2)\n",
    "\n",
    "    def distance(self, another_point):\n",
    "        return (self - another_point).length() ### \n",
    "\n",
    "    def __str__(self):\n",
    "        return f'{self.x}, {self.y}'\n",
    "\n",
    "p1 = Point(3, 4)\n",
    "p2 = Point(8, 6)\n",
    "print(p1.distance(p2))"
   ]
  },
  {
   "cell_type": "code",
   "execution_count": 147,
   "id": "930685e6",
   "metadata": {},
   "outputs": [],
   "source": [
    "class MyRange:\n",
    "\n",
    "    def __init__(self, limit):\n",
    "        print('init')\n",
    "        self.limit = limit\n",
    "\n",
    "    def __iter__(self):\n",
    "        print('iter')\n",
    "        self.value = 0\n",
    "        return self ## ALWAYS\n",
    "\n",
    "    def __next__(self):\n",
    "        print('next')\n",
    "        if self.value < self.limit:\n",
    "            output = self.value ### Save current output and then increment, and then ouput the saved output\n",
    "            self.value += 1\n",
    "            return output\n",
    "        else:\n",
    "            raise StopIteration\n"
   ]
  },
  {
   "cell_type": "code",
   "execution_count": 144,
   "id": "234aac3f",
   "metadata": {},
   "outputs": [
    {
     "name": "stdout",
     "output_type": "stream",
     "text": [
      "0\n",
      "1\n",
      "2\n",
      "3\n",
      "4\n",
      "5\n",
      "6\n",
      "7\n",
      "8\n",
      "9\n"
     ]
    }
   ],
   "source": [
    "for number in range(10):\n",
    "    print(number)"
   ]
  },
  {
   "cell_type": "code",
   "execution_count": 146,
   "id": "43358a16",
   "metadata": {},
   "outputs": [
    {
     "name": "stdout",
     "output_type": "stream",
     "text": [
      "0\n",
      "1\n",
      "2\n",
      "3\n",
      "4\n",
      "5\n",
      "6\n",
      "7\n",
      "8\n",
      "9\n"
     ]
    }
   ],
   "source": [
    "for number in MyRange(10):\n",
    "    print(number)"
   ]
  },
  {
   "cell_type": "code",
   "execution_count": 149,
   "id": "935c48c8",
   "metadata": {},
   "outputs": [
    {
     "name": "stdout",
     "output_type": "stream",
     "text": [
      "init\n"
     ]
    }
   ],
   "source": [
    "obj = MyRange(10)"
   ]
  },
  {
   "cell_type": "code",
   "execution_count": 150,
   "id": "6a313dff",
   "metadata": {},
   "outputs": [
    {
     "name": "stdout",
     "output_type": "stream",
     "text": [
      "iter\n"
     ]
    }
   ],
   "source": [
    "i = iter(obj)"
   ]
  },
  {
   "cell_type": "code",
   "execution_count": 161,
   "id": "c7f90338",
   "metadata": {},
   "outputs": [
    {
     "name": "stdout",
     "output_type": "stream",
     "text": [
      "next\n"
     ]
    },
    {
     "ename": "StopIteration",
     "evalue": "",
     "output_type": "error",
     "traceback": [
      "\u001b[1;31m---------------------------------------------------------------------------\u001b[0m",
      "\u001b[1;31mStopIteration\u001b[0m                             Traceback (most recent call last)",
      "\u001b[1;32m~\\AppData\\Local\\Temp/ipykernel_4136/1939748483.py\u001b[0m in \u001b[0;36m<module>\u001b[1;34m\u001b[0m\n\u001b[1;32m----> 1\u001b[1;33m \u001b[0mnext\u001b[0m\u001b[1;33m(\u001b[0m\u001b[0mi\u001b[0m\u001b[1;33m)\u001b[0m\u001b[1;33m\u001b[0m\u001b[1;33m\u001b[0m\u001b[0m\n\u001b[0m",
      "\u001b[1;32m~\\AppData\\Local\\Temp/ipykernel_4136/3795732582.py\u001b[0m in \u001b[0;36m__next__\u001b[1;34m(self)\u001b[0m\n\u001b[0;32m     17\u001b[0m             \u001b[1;32mreturn\u001b[0m \u001b[0moutput\u001b[0m\u001b[1;33m\u001b[0m\u001b[1;33m\u001b[0m\u001b[0m\n\u001b[0;32m     18\u001b[0m         \u001b[1;32melse\u001b[0m\u001b[1;33m:\u001b[0m\u001b[1;33m\u001b[0m\u001b[1;33m\u001b[0m\u001b[0m\n\u001b[1;32m---> 19\u001b[1;33m             \u001b[1;32mraise\u001b[0m \u001b[0mStopIteration\u001b[0m\u001b[1;33m\u001b[0m\u001b[1;33m\u001b[0m\u001b[0m\n\u001b[0m",
      "\u001b[1;31mStopIteration\u001b[0m: "
     ]
    }
   ],
   "source": [
    "next(i)"
   ]
  },
  {
   "cell_type": "code",
   "execution_count": 162,
   "id": "d827c6b2",
   "metadata": {},
   "outputs": [
    {
     "name": "stdout",
     "output_type": "stream",
     "text": [
      "init\n",
      "iter\n",
      "next\n",
      "0\n",
      "next\n",
      "1\n",
      "next\n",
      "2\n",
      "next\n",
      "3\n",
      "next\n",
      "4\n",
      "next\n",
      "5\n",
      "next\n",
      "6\n",
      "next\n",
      "7\n",
      "next\n",
      "8\n",
      "next\n",
      "9\n",
      "next\n"
     ]
    }
   ],
   "source": [
    "for ele in MyRange(10):\n",
    "    print(ele)"
   ]
  },
  {
   "cell_type": "code",
   "execution_count": 163,
   "id": "823d27ca",
   "metadata": {},
   "outputs": [],
   "source": [
    "class PowX:\n",
    "    def __init__(self, limit, power):\n",
    "        self.limit = limit\n",
    "        self.power = power\n",
    "\n",
    "    def __iter__(self):\n",
    "        self.value = 0\n",
    "        return self\n",
    "\n",
    "    def __next__(self):\n",
    "        if self.value < self.limit:\n",
    "            output = self.value**self.power\n",
    "            self.value += 1\n",
    "            return output\n",
    "        else:\n",
    "            raise StopIteration\n",
    "\n"
   ]
  },
  {
   "cell_type": "code",
   "execution_count": 164,
   "id": "4937377e",
   "metadata": {},
   "outputs": [
    {
     "name": "stdout",
     "output_type": "stream",
     "text": [
      "0\n",
      "1\n",
      "8\n",
      "27\n",
      "64\n",
      "125\n",
      "216\n",
      "343\n",
      "512\n",
      "729\n"
     ]
    }
   ],
   "source": [
    "\n",
    "for ele in PowX(10, 3):\n",
    "    print(ele)\n"
   ]
  },
  {
   "cell_type": "code",
   "execution_count": 176,
   "id": "639c649b",
   "metadata": {},
   "outputs": [
    {
     "name": "stdout",
     "output_type": "stream",
     "text": [
      "<generator object PowX at 0x000001F2042B22E0>\n",
      "0\n",
      "1\n",
      "8\n",
      "27\n",
      "64\n",
      "125\n",
      "216\n",
      "343\n",
      "512\n",
      "729\n"
     ]
    }
   ],
   "source": [
    "def PowX(limit, power):\n",
    "    value = 0\n",
    "    while value < limit:\n",
    "        yield value**power\n",
    "        value += 1\n",
    "\n",
    "pow_x = PowX(10, 3)\n",
    "print(pow_x)\n",
    "for ele in pow_x:\n",
    "    print(ele)"
   ]
  },
  {
   "cell_type": "code",
   "execution_count": 177,
   "id": "7b7097e4",
   "metadata": {},
   "outputs": [],
   "source": [
    "for ele in pow_x:\n",
    "    print(ele)"
   ]
  },
  {
   "cell_type": "code",
   "execution_count": 168,
   "id": "52c56aa6",
   "metadata": {},
   "outputs": [],
   "source": [
    "def PowX(limit, power):\n",
    "    output = []\n",
    "    value = 0\n",
    "    while value < limit:\n",
    "        output.append(value**power)\n",
    "        value += 1\n",
    "                      \n",
    "    return output\n"
   ]
  },
  {
   "cell_type": "code",
   "execution_count": 169,
   "id": "ffe023e6",
   "metadata": {},
   "outputs": [
    {
     "name": "stdout",
     "output_type": "stream",
     "text": [
      "0\n",
      "1\n",
      "8\n",
      "27\n",
      "64\n",
      "125\n",
      "216\n",
      "343\n",
      "512\n",
      "729\n"
     ]
    }
   ],
   "source": [
    "pow_x = PowX(10, 3)\n",
    "for ele in pow_x:\n",
    "    print(ele)"
   ]
  },
  {
   "cell_type": "code",
   "execution_count": 170,
   "id": "017b6755",
   "metadata": {},
   "outputs": [
    {
     "data": {
      "text/plain": [
       "[0, 1, 8, 27, 64, 125, 216, 343, 512, 729]"
      ]
     },
     "execution_count": 170,
     "metadata": {},
     "output_type": "execute_result"
    }
   ],
   "source": [
    "pow_x"
   ]
  },
  {
   "cell_type": "code",
   "execution_count": 178,
   "id": "4b582d99",
   "metadata": {},
   "outputs": [],
   "source": [
    "import xlsxwriter\n",
    "expenses = (\n",
    "    ['Rent', 1000],\n",
    "    ['Gas',   100],\n",
    "    ['Food',  300],\n",
    "    ['Gym',    50],\n",
    ")"
   ]
  },
  {
   "cell_type": "code",
   "execution_count": 179,
   "id": "93ca192d",
   "metadata": {},
   "outputs": [],
   "source": [
    "workbook = xlsxwriter.Workbook('Expenses01.xlsx')\n",
    "worksheet = workbook.add_worksheet()\n",
    "expenses = (\n",
    "    ['Rent', 1000],\n",
    "    ['Gas',   100],\n",
    "    ['Food',  300],\n",
    "    ['Gym',    50],\n",
    ")\n",
    "\n",
    "# Start from the first cell. Rows and columns are zero indexed.\n",
    "row = 0\n",
    "col = 0\n",
    "\n",
    "# Iterate over the data and write it out row by row.\n",
    "for item, cost in (expenses):\n",
    "    worksheet.write(row, col,     item)\n",
    "    worksheet.write(row, col + 1, cost)\n",
    "    row += 1\n",
    "\n",
    "# Write a total using a formula.\n",
    "worksheet.write(row, 0, 'Total')\n",
    "worksheet.write(row, 1, '=SUM(B1:B4)')\n",
    "\n",
    "workbook.close()"
   ]
  },
  {
   "cell_type": "code",
   "execution_count": 180,
   "id": "12d9a44f",
   "metadata": {},
   "outputs": [
    {
     "name": "stdout",
     "output_type": "stream",
     "text": [
      "\n",
      "Print class_variable\n",
      "t1.class_variable:  1\n",
      "t2.class_variable:  1\n"
     ]
    }
   ],
   "source": [
    "class TestClass:\n",
    "    class_variable = 1 # Belongs to the class. Shared by all instances\n",
    "\n",
    "t1 = TestClass()\n",
    "t2 = TestClass()\n",
    "\n",
    "\n",
    "print('\\nPrint class_variable')\n",
    "print('t1.class_variable: ', t1.class_variable)\n",
    "print('t2.class_variable: ', t2.class_variable)\n"
   ]
  },
  {
   "cell_type": "code",
   "execution_count": 181,
   "id": "48b4ccf9",
   "metadata": {},
   "outputs": [
    {
     "name": "stdout",
     "output_type": "stream",
     "text": [
      "\n",
      "Change class_variable in class definition and print class_variable\n",
      "t1.class_variable:  2\n",
      "t2.class_variable:  2\n"
     ]
    }
   ],
   "source": [
    "print('\\nChange class_variable in class definition and print class_variable')\n",
    "TestClass.class_variable = 2\n",
    "print('t1.class_variable: ', t1.class_variable)\n",
    "print('t2.class_variable: ', t2.class_variable)\n"
   ]
  },
  {
   "cell_type": "code",
   "execution_count": 182,
   "id": "51c979f0",
   "metadata": {},
   "outputs": [
    {
     "name": "stdout",
     "output_type": "stream",
     "text": [
      "\n",
      "Change class_variable in instance t1 and print class_variable\n",
      "t1.class_variable:  3\n",
      "t2.class_variable:  2\n"
     ]
    }
   ],
   "source": [
    "print('\\nChange class_variable in instance t1 and print class_variable')\n",
    "t1.class_variable = 3\n",
    "print('t1.class_variable: ', t1.class_variable)\n",
    "print('t2.class_variable: ', t2.class_variable)"
   ]
  },
  {
   "cell_type": "code",
   "execution_count": 183,
   "id": "2fe299f0",
   "metadata": {},
   "outputs": [],
   "source": [
    "TestClass.class_variable = 5"
   ]
  },
  {
   "cell_type": "code",
   "execution_count": 184,
   "id": "b2d47e44",
   "metadata": {},
   "outputs": [
    {
     "name": "stdout",
     "output_type": "stream",
     "text": [
      "t1.class_variable:  3\n",
      "t2.class_variable:  5\n"
     ]
    }
   ],
   "source": [
    "print('t1.class_variable: ', t1.class_variable)\n",
    "print('t2.class_variable: ', t2.class_variable)"
   ]
  },
  {
   "cell_type": "code",
   "execution_count": 185,
   "id": "94bf739c",
   "metadata": {},
   "outputs": [
    {
     "name": "stdout",
     "output_type": "stream",
     "text": [
      "\n",
      "Change class_variable in instance t2 and print class_variable\n",
      "t1.class_variable:  3\n",
      "t2.class_variable:  4\n"
     ]
    }
   ],
   "source": [
    "print('\\nChange class_variable in instance t2 and print class_variable')\n",
    "t2.class_variable = 4\n",
    "print('t1.class_variable: ', t1.class_variable)\n",
    "print('t2.class_variable: ', t2.class_variable)\n"
   ]
  },
  {
   "cell_type": "code",
   "execution_count": 186,
   "id": "a36603e0",
   "metadata": {},
   "outputs": [
    {
     "name": "stdout",
     "output_type": "stream",
     "text": [
      "\n",
      " ------------------------------------------------------------ \n",
      "\n"
     ]
    }
   ],
   "source": [
    "print('\\n', '-'*60, '\\n')\n",
    "\n",
    "class TestClass:\n",
    "    class_variable = 1 # Belongs to the class. Shared by all instances\n",
    "\n",
    "    def __init__(self, instance_variable):\n",
    "        self.instance_variable = instance_variable\n",
    "\n",
    "\n",
    "t1 = TestClass(1)\n",
    "t2 = TestClass(2)"
   ]
  },
  {
   "cell_type": "code",
   "execution_count": 187,
   "id": "f33148c4",
   "metadata": {},
   "outputs": [
    {
     "name": "stdout",
     "output_type": "stream",
     "text": [
      "\n",
      "Print class_variable\n",
      "t1.class_variable:  1\n",
      "t2.class_variable:  1\n"
     ]
    }
   ],
   "source": [
    "print('\\nPrint class_variable')\n",
    "print('t1.class_variable: ', t1.class_variable)\n",
    "print('t2.class_variable: ', t2.class_variable)"
   ]
  },
  {
   "cell_type": "code",
   "execution_count": 188,
   "id": "f9b20077",
   "metadata": {},
   "outputs": [
    {
     "name": "stdout",
     "output_type": "stream",
     "text": [
      "\n",
      "Print instance_variable\n",
      "t1.instance_variable:  1\n",
      "t2.instance_variable:  2\n"
     ]
    }
   ],
   "source": [
    "print('\\nPrint instance_variable')\n",
    "print('t1.instance_variable: ', t1.instance_variable)\n",
    "print('t2.instance_variable: ', t2.instance_variable)\n"
   ]
  },
  {
   "cell_type": "code",
   "execution_count": 189,
   "id": "b437879e",
   "metadata": {},
   "outputs": [
    {
     "name": "stdout",
     "output_type": "stream",
     "text": [
      "\n",
      "Change class_variable in class definition and print class_variable\n",
      "t1.class_variable:  2\n",
      "t1.class_variable:  2\n"
     ]
    }
   ],
   "source": [
    "print('\\nChange class_variable in class definition and print class_variable')\n",
    "TestClass.class_variable = 2\n",
    "print('t1.class_variable: ', t1.class_variable)\n",
    "print('t1.class_variable: ', t2.class_variable)"
   ]
  },
  {
   "cell_type": "code",
   "execution_count": 190,
   "id": "3f4453c8",
   "metadata": {},
   "outputs": [
    {
     "name": "stdout",
     "output_type": "stream",
     "text": [
      "\n",
      "Change instance_variable for t1 and print instance_variable\n",
      "t1.instance_variable:  10\n",
      "t2.instance_variable:  2\n"
     ]
    }
   ],
   "source": [
    "print('\\nChange instance_variable for t1 and print instance_variable')\n",
    "t1.instance_variable = 10\n",
    "print('t1.instance_variable: ', t1.instance_variable)\n",
    "print('t2.instance_variable: ', t2.instance_variable)"
   ]
  },
  {
   "cell_type": "code",
   "execution_count": 191,
   "id": "f12540e9",
   "metadata": {},
   "outputs": [
    {
     "name": "stdout",
     "output_type": "stream",
     "text": [
      "\n",
      "Change instance_variable for t2 and print instance_variable\n",
      "t1.instance_variable:  10\n",
      "t2.instance_variable:  20\n"
     ]
    }
   ],
   "source": [
    "print('\\nChange instance_variable for t2 and print instance_variable')\n",
    "t2.instance_variable = 20\n",
    "print('t1.instance_variable: ', t1.instance_variable)\n",
    "print('t2.instance_variable: ', t2.instance_variable)"
   ]
  },
  {
   "cell_type": "code",
   "execution_count": 192,
   "id": "c2c201c5",
   "metadata": {},
   "outputs": [
    {
     "name": "stdout",
     "output_type": "stream",
     "text": [
      "\n",
      "Change class_variable in instance t1 and print class_variable\n",
      "t1.class_variable:  3\n",
      "t2.class_variable:  2\n"
     ]
    }
   ],
   "source": [
    "print('\\nChange class_variable in instance t1 and print class_variable')\n",
    "t1.class_variable = 3\n",
    "print('t1.class_variable: ', t1.class_variable)\n",
    "print('t2.class_variable: ', t2.class_variable)"
   ]
  },
  {
   "cell_type": "code",
   "execution_count": 193,
   "id": "74e108c5",
   "metadata": {},
   "outputs": [
    {
     "name": "stdout",
     "output_type": "stream",
     "text": [
      "\n",
      "Change class_variable in instance t2 and print class_variable\n",
      "t1.class_variable:  3\n",
      "t2.class_variable:  4\n"
     ]
    }
   ],
   "source": [
    "print('\\nChange class_variable in instance t2 and print class_variable')\n",
    "t2.class_variable = 4\n",
    "print('t1.class_variable: ', t1.class_variable)\n",
    "print('t2.class_variable: ', t2.class_variable)\n"
   ]
  },
  {
   "cell_type": "code",
   "execution_count": 194,
   "id": "0625dc87",
   "metadata": {},
   "outputs": [
    {
     "name": "stdout",
     "output_type": "stream",
     "text": [
      "@staticmethod add:  7\n"
     ]
    }
   ],
   "source": [
    "class TestClass:\n",
    "    class_variable = 1\n",
    "\n",
    "    # @staticmethod are bound to class rather than object. Therefore, to use them, you do not have\n",
    "    # to instantiate an object.\n",
    "    # NOTE: staticmethods do no have access to class properties (variables or methods).\n",
    "    # This means they cannot access class_variable.\n",
    "    # Such methods are used when you do not want subclasses to change/overwrite a specific method.\n",
    "\n",
    "    @staticmethod\n",
    "    def add(number1, number2):\n",
    "        return number1 + number2\n",
    "\n",
    "\n",
    "print('@staticmethod add: ', TestClass.add(3,4))"
   ]
  },
  {
   "cell_type": "code",
   "execution_count": 196,
   "id": "25592a93",
   "metadata": {},
   "outputs": [
    {
     "ename": "NameError",
     "evalue": "name 'class_variable' is not defined",
     "output_type": "error",
     "traceback": [
      "\u001b[1;31m---------------------------------------------------------------------------\u001b[0m",
      "\u001b[1;31mNameError\u001b[0m                                 Traceback (most recent call last)",
      "\u001b[1;32m~\\AppData\\Local\\Temp/ipykernel_4136/3311354397.py\u001b[0m in \u001b[0;36m<module>\u001b[1;34m\u001b[0m\n\u001b[0;32m     12\u001b[0m         \u001b[1;32mreturn\u001b[0m \u001b[0mnumber1\u001b[0m \u001b[1;33m+\u001b[0m \u001b[0mnumber2\u001b[0m \u001b[1;33m+\u001b[0m \u001b[0mclass_variable\u001b[0m\u001b[1;33m\u001b[0m\u001b[1;33m\u001b[0m\u001b[0m\n\u001b[0;32m     13\u001b[0m \u001b[1;33m\u001b[0m\u001b[0m\n\u001b[1;32m---> 14\u001b[1;33m \u001b[0mprint\u001b[0m\u001b[1;33m(\u001b[0m\u001b[1;34m'@staticmethod add: '\u001b[0m\u001b[1;33m,\u001b[0m \u001b[0mTestClass2\u001b[0m\u001b[1;33m.\u001b[0m\u001b[0madd\u001b[0m\u001b[1;33m(\u001b[0m\u001b[1;36m3\u001b[0m\u001b[1;33m,\u001b[0m\u001b[1;36m4\u001b[0m\u001b[1;33m)\u001b[0m\u001b[1;33m)\u001b[0m\u001b[1;33m\u001b[0m\u001b[1;33m\u001b[0m\u001b[0m\n\u001b[0m",
      "\u001b[1;32m~\\AppData\\Local\\Temp/ipykernel_4136/3311354397.py\u001b[0m in \u001b[0;36madd\u001b[1;34m(number1, number2)\u001b[0m\n\u001b[0;32m     10\u001b[0m     \u001b[1;33m@\u001b[0m\u001b[0mstaticmethod\u001b[0m\u001b[1;33m\u001b[0m\u001b[1;33m\u001b[0m\u001b[0m\n\u001b[0;32m     11\u001b[0m     \u001b[1;32mdef\u001b[0m \u001b[0madd\u001b[0m\u001b[1;33m(\u001b[0m\u001b[0mnumber1\u001b[0m\u001b[1;33m,\u001b[0m \u001b[0mnumber2\u001b[0m\u001b[1;33m)\u001b[0m\u001b[1;33m:\u001b[0m\u001b[1;33m\u001b[0m\u001b[1;33m\u001b[0m\u001b[0m\n\u001b[1;32m---> 12\u001b[1;33m         \u001b[1;32mreturn\u001b[0m \u001b[0mnumber1\u001b[0m \u001b[1;33m+\u001b[0m \u001b[0mnumber2\u001b[0m \u001b[1;33m+\u001b[0m \u001b[0mclass_variable\u001b[0m\u001b[1;33m\u001b[0m\u001b[1;33m\u001b[0m\u001b[0m\n\u001b[0m\u001b[0;32m     13\u001b[0m \u001b[1;33m\u001b[0m\u001b[0m\n\u001b[0;32m     14\u001b[0m \u001b[0mprint\u001b[0m\u001b[1;33m(\u001b[0m\u001b[1;34m'@staticmethod add: '\u001b[0m\u001b[1;33m,\u001b[0m \u001b[0mTestClass2\u001b[0m\u001b[1;33m.\u001b[0m\u001b[0madd\u001b[0m\u001b[1;33m(\u001b[0m\u001b[1;36m3\u001b[0m\u001b[1;33m,\u001b[0m\u001b[1;36m4\u001b[0m\u001b[1;33m)\u001b[0m\u001b[1;33m)\u001b[0m\u001b[1;33m\u001b[0m\u001b[1;33m\u001b[0m\u001b[0m\n",
      "\u001b[1;31mNameError\u001b[0m: name 'class_variable' is not defined"
     ]
    }
   ],
   "source": [
    "class TestClass2:\n",
    "    class_variable = 1\n",
    "\n",
    "    # @staticmethod are bound to class rather than object. Therefore, to use them, you do not have\n",
    "    # to instantiate an object.\n",
    "    # NOTE: staticmethods do no have access to class properties (variables or methods).\n",
    "    # This means they cannot access class_variable.\n",
    "    # Such methods are used when you do not want subclasses to change/overwrite a specific method.\n",
    "\n",
    "    @staticmethod\n",
    "    def add(number1, number2):\n",
    "        return number1 + number2 + class_variable\n",
    "\n",
    "print('@staticmethod add: ', TestClass2.add(3,4))"
   ]
  },
  {
   "cell_type": "code",
   "execution_count": 198,
   "id": "83399ccc",
   "metadata": {},
   "outputs": [
    {
     "ename": "NameError",
     "evalue": "name 'self' is not defined",
     "output_type": "error",
     "traceback": [
      "\u001b[1;31m---------------------------------------------------------------------------\u001b[0m",
      "\u001b[1;31mNameError\u001b[0m                                 Traceback (most recent call last)",
      "\u001b[1;32m~\\AppData\\Local\\Temp/ipykernel_4136/2636090315.py\u001b[0m in \u001b[0;36m<module>\u001b[1;34m\u001b[0m\n\u001b[0;32m     15\u001b[0m         \u001b[1;32mreturn\u001b[0m \u001b[0mnumber1\u001b[0m \u001b[1;33m+\u001b[0m \u001b[0mnumber2\u001b[0m \u001b[1;33m+\u001b[0m \u001b[0mself\u001b[0m\u001b[1;33m.\u001b[0m\u001b[0mnumber\u001b[0m\u001b[1;33m\u001b[0m\u001b[1;33m\u001b[0m\u001b[0m\n\u001b[0;32m     16\u001b[0m \u001b[1;33m\u001b[0m\u001b[0m\n\u001b[1;32m---> 17\u001b[1;33m \u001b[0mprint\u001b[0m\u001b[1;33m(\u001b[0m\u001b[1;34m'@staticmethod add: '\u001b[0m\u001b[1;33m,\u001b[0m \u001b[0mTestClass2\u001b[0m\u001b[1;33m.\u001b[0m\u001b[0madd\u001b[0m\u001b[1;33m(\u001b[0m\u001b[1;36m3\u001b[0m\u001b[1;33m,\u001b[0m\u001b[1;36m4\u001b[0m\u001b[1;33m)\u001b[0m\u001b[1;33m)\u001b[0m\u001b[1;33m\u001b[0m\u001b[1;33m\u001b[0m\u001b[0m\n\u001b[0m\u001b[0;32m     18\u001b[0m \u001b[1;33m\u001b[0m\u001b[0m\n\u001b[0;32m     19\u001b[0m \u001b[0mt2\u001b[0m \u001b[1;33m=\u001b[0m \u001b[0mTestClass2\u001b[0m\u001b[1;33m(\u001b[0m\u001b[1;36m5\u001b[0m\u001b[1;33m)\u001b[0m\u001b[1;33m\u001b[0m\u001b[1;33m\u001b[0m\u001b[0m\n",
      "\u001b[1;32m~\\AppData\\Local\\Temp/ipykernel_4136/2636090315.py\u001b[0m in \u001b[0;36madd\u001b[1;34m(number1, number2)\u001b[0m\n\u001b[0;32m     13\u001b[0m     \u001b[1;33m@\u001b[0m\u001b[0mstaticmethod\u001b[0m\u001b[1;33m\u001b[0m\u001b[1;33m\u001b[0m\u001b[0m\n\u001b[0;32m     14\u001b[0m     \u001b[1;32mdef\u001b[0m \u001b[0madd\u001b[0m\u001b[1;33m(\u001b[0m\u001b[0mnumber1\u001b[0m\u001b[1;33m,\u001b[0m \u001b[0mnumber2\u001b[0m\u001b[1;33m)\u001b[0m\u001b[1;33m:\u001b[0m\u001b[1;33m\u001b[0m\u001b[1;33m\u001b[0m\u001b[0m\n\u001b[1;32m---> 15\u001b[1;33m         \u001b[1;32mreturn\u001b[0m \u001b[0mnumber1\u001b[0m \u001b[1;33m+\u001b[0m \u001b[0mnumber2\u001b[0m \u001b[1;33m+\u001b[0m \u001b[0mself\u001b[0m\u001b[1;33m.\u001b[0m\u001b[0mnumber\u001b[0m\u001b[1;33m\u001b[0m\u001b[1;33m\u001b[0m\u001b[0m\n\u001b[0m\u001b[0;32m     16\u001b[0m \u001b[1;33m\u001b[0m\u001b[0m\n\u001b[0;32m     17\u001b[0m \u001b[0mprint\u001b[0m\u001b[1;33m(\u001b[0m\u001b[1;34m'@staticmethod add: '\u001b[0m\u001b[1;33m,\u001b[0m \u001b[0mTestClass2\u001b[0m\u001b[1;33m.\u001b[0m\u001b[0madd\u001b[0m\u001b[1;33m(\u001b[0m\u001b[1;36m3\u001b[0m\u001b[1;33m,\u001b[0m\u001b[1;36m4\u001b[0m\u001b[1;33m)\u001b[0m\u001b[1;33m)\u001b[0m\u001b[1;33m\u001b[0m\u001b[1;33m\u001b[0m\u001b[0m\n",
      "\u001b[1;31mNameError\u001b[0m: name 'self' is not defined"
     ]
    }
   ],
   "source": [
    "class TestClass2:\n",
    "    class_variable = 1\n",
    "\n",
    "    # @staticmethod are bound to class rather than object. Therefore, to use them, you do not have\n",
    "    # to instantiate an object.\n",
    "    # NOTE: staticmethods do no have access to class properties (variables or methods).\n",
    "    # This means they cannot access class_variable.\n",
    "    # Such methods are used when you do not want subclasses to change/overwrite a specific method.\n",
    "\n",
    "    def __init__(self, number):\n",
    "        self.number = number\n",
    "    \n",
    "    @staticmethod\n",
    "    def add(number1, number2):\n",
    "        return number1 + number2 + self.number\n",
    "\n",
    "print('@staticmethod add: ', TestClass2.add(3,4))\n",
    "\n",
    "t2 = TestClass2(5)"
   ]
  },
  {
   "cell_type": "code",
   "execution_count": 199,
   "id": "d7d66398",
   "metadata": {},
   "outputs": [
    {
     "name": "stdout",
     "output_type": "stream",
     "text": [
      "@classmethod add:  11\n"
     ]
    }
   ],
   "source": [
    "class TestClass:\n",
    "    class_variable = 1\n",
    "\n",
    "    # @classmethod are bound to class rather than object. Therefore, to use them, you do not have\n",
    "    # to instantiate an object.\n",
    "    # NOTE: Unlike staticmethods, classmethods do have access to class properties (variables or methods).\n",
    "    # This means they can access class_variable.\n",
    "\n",
    "    @classmethod\n",
    "    def add(cls, number1, number2):\n",
    "        return number1 + number2\n",
    "print('@classmethod add: ', TestClass.add(5,6))"
   ]
  },
  {
   "cell_type": "code",
   "execution_count": 200,
   "id": "26443561",
   "metadata": {},
   "outputs": [
    {
     "name": "stdout",
     "output_type": "stream",
     "text": [
      "@classmethod add:  12\n"
     ]
    }
   ],
   "source": [
    "class TestClass:\n",
    "    class_variable = 1\n",
    "\n",
    "    # @classmethod are bound to class rather than object. Therefore, to use them, you do not have\n",
    "    # to instantiate an object.\n",
    "    # NOTE: Unlike staticmethods, classmethods do have access to class properties (variables or methods).\n",
    "    # This means they can access class_variable.\n",
    "\n",
    "    @classmethod\n",
    "    def add(cls, number1, number2):\n",
    "        return number1 + number2 + cls.class_variable\n",
    "print('@classmethod add: ', TestClass.add(5,6))"
   ]
  },
  {
   "cell_type": "code",
   "execution_count": 202,
   "id": "05dcbaf6",
   "metadata": {},
   "outputs": [
    {
     "name": "stdout",
     "output_type": "stream",
     "text": [
      "add_static:  27\n",
      "add_class:  28\n"
     ]
    }
   ],
   "source": [
    "class TestClass:\n",
    "    class_variable = 1\n",
    "\n",
    "    @staticmethod\n",
    "    def add_static(number1, number2):\n",
    "        return number1 + number2\n",
    "\n",
    "    @classmethod\n",
    "    def add_class(cls, number1, number2):\n",
    "        return number1 + number2 + cls.class_variable\n",
    "\n",
    "\n",
    "    def add_object(self, number1, number2):\n",
    "        return number1 + number2 + self.class_variable + 29\n",
    "\n",
    "\n",
    "print('add_static: ', TestClass.add_static(13,14))\n",
    "print('add_class: ', TestClass.add_class(13,14))\n"
   ]
  },
  {
   "cell_type": "code",
   "execution_count": 203,
   "id": "d934ca96",
   "metadata": {},
   "outputs": [
    {
     "name": "stdout",
     "output_type": "stream",
     "text": [
      "Call from class -- add_object:  57\n"
     ]
    }
   ],
   "source": [
    "t1 = TestClass()\n",
    "\n",
    "print('Call from class -- add_object: ', TestClass.add_object(t1, 13, 14))"
   ]
  },
  {
   "cell_type": "code",
   "execution_count": null,
   "id": "636ceeac",
   "metadata": {},
   "outputs": [],
   "source": [
    "print('Call from object -- add_object: ', t1.add_object(13, 14)) # ==> TestClass.add_object(t1, 13, 14))\n"
   ]
  }
 ],
 "metadata": {
  "kernelspec": {
   "display_name": "Python 3 (ipykernel)",
   "language": "python",
   "name": "python3"
  },
  "language_info": {
   "codemirror_mode": {
    "name": "ipython",
    "version": 3
   },
   "file_extension": ".py",
   "mimetype": "text/x-python",
   "name": "python",
   "nbconvert_exporter": "python",
   "pygments_lexer": "ipython3",
   "version": "3.8.12"
  }
 },
 "nbformat": 4,
 "nbformat_minor": 5
}
