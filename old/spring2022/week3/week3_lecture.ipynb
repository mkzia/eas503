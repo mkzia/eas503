{
 "cells": [
  {
   "cell_type": "code",
   "execution_count": 4,
   "id": "15d79900",
   "metadata": {},
   "outputs": [
    {
     "name": "stdout",
     "output_type": "stream",
     "text": [
      "EAS503----\n"
     ]
    }
   ],
   "source": [
    "x = 'EAS503'\n",
    "\n",
    "print(f'{x:-<10}')"
   ]
  },
  {
   "cell_type": "code",
   "execution_count": 6,
   "id": "8d7c0bbd",
   "metadata": {},
   "outputs": [
    {
     "name": "stdout",
     "output_type": "stream",
     "text": [
      "        23\n"
     ]
    }
   ],
   "source": [
    "x = 23\n",
    "print(f'{x:10}')"
   ]
  },
  {
   "cell_type": "code",
   "execution_count": 8,
   "id": "f46fd1ac",
   "metadata": {
    "scrolled": true
   },
   "outputs": [
    {
     "name": "stdout",
     "output_type": "stream",
     "text": [
      "     12345\n"
     ]
    }
   ],
   "source": [
    "x = 12345\n",
    "print(f'{x:10}')"
   ]
  },
  {
   "cell_type": "code",
   "execution_count": 10,
   "id": "3e06c78f",
   "metadata": {},
   "outputs": [
    {
     "name": "stdout",
     "output_type": "stream",
     "text": [
      "None\n"
     ]
    }
   ],
   "source": [
    "def f():\n",
    "    x = 1\n",
    "    # default\n",
    "    return None\n",
    "    \n",
    "    \n",
    "print(f())\n",
    "    "
   ]
  },
  {
   "cell_type": "code",
   "execution_count": 11,
   "id": "d96dc5be",
   "metadata": {},
   "outputs": [
    {
     "data": {
      "text/plain": [
       "float"
      ]
     },
     "execution_count": 11,
     "metadata": {},
     "output_type": "execute_result"
    }
   ],
   "source": [
    "type(float('1.324'))"
   ]
  },
  {
   "cell_type": "code",
   "execution_count": 12,
   "id": "91340566",
   "metadata": {},
   "outputs": [
    {
     "data": {
      "text/plain": [
       "float"
      ]
     },
     "execution_count": 12,
     "metadata": {},
     "output_type": "execute_result"
    }
   ],
   "source": [
    "type(float(1))"
   ]
  },
  {
   "cell_type": "code",
   "execution_count": 13,
   "id": "6a5a3574",
   "metadata": {},
   "outputs": [
    {
     "data": {
      "text/plain": [
       "float"
      ]
     },
     "execution_count": 13,
     "metadata": {},
     "output_type": "execute_result"
    }
   ],
   "source": [
    "type(round(1.2343,2))"
   ]
  },
  {
   "cell_type": "code",
   "execution_count": 14,
   "id": "f4d69289",
   "metadata": {},
   "outputs": [
    {
     "data": {
      "text/plain": [
       "int"
      ]
     },
     "execution_count": 14,
     "metadata": {},
     "output_type": "execute_result"
    }
   ],
   "source": [
    "type(int(1.2334))"
   ]
  },
  {
   "cell_type": "code",
   "execution_count": 16,
   "id": "a6da7882",
   "metadata": {},
   "outputs": [
    {
     "data": {
      "text/plain": [
       "float"
      ]
     },
     "execution_count": 16,
     "metadata": {},
     "output_type": "execute_result"
    }
   ],
   "source": [
    "type(abs(-3.4))"
   ]
  },
  {
   "cell_type": "code",
   "execution_count": 17,
   "id": "ca1ba633",
   "metadata": {},
   "outputs": [],
   "source": [
    "mrn = 223344\n",
    "\n",
    "value1 = f'{mrn:08}' # f'{mrn:0>8}'\n",
    "value2 = f'{mrn:18}'\n",
    "\n",
    "# {variable_name:<padding_char><alignment><widht>.<precision>}"
   ]
  },
  {
   "cell_type": "code",
   "execution_count": 18,
   "id": "07c68eba",
   "metadata": {},
   "outputs": [
    {
     "name": "stdout",
     "output_type": "stream",
     "text": [
      "00223344\n"
     ]
    }
   ],
   "source": [
    "print(value1)"
   ]
  },
  {
   "cell_type": "code",
   "execution_count": 21,
   "id": "8dc99b63",
   "metadata": {},
   "outputs": [
    {
     "name": "stdout",
     "output_type": "stream",
     "text": [
      "00223344\n"
     ]
    }
   ],
   "source": [
    "print(f'{mrn:0>8}')"
   ]
  },
  {
   "cell_type": "code",
   "execution_count": 22,
   "id": "2ee5b748",
   "metadata": {},
   "outputs": [
    {
     "name": "stdout",
     "output_type": "stream",
     "text": [
      "            223344\n"
     ]
    }
   ],
   "source": [
    "print(value2)"
   ]
  },
  {
   "cell_type": "code",
   "execution_count": 24,
   "id": "35c82327",
   "metadata": {},
   "outputs": [
    {
     "name": "stdout",
     "output_type": "stream",
     "text": [
      "34\n"
     ]
    }
   ],
   "source": [
    "x = 3\n",
    "y = 4\n",
    "print('{}{}'.format(x,y, 1,2,3))"
   ]
  },
  {
   "cell_type": "code",
   "execution_count": 26,
   "id": "60c5c2a1",
   "metadata": {},
   "outputs": [
    {
     "ename": "IndentationError",
     "evalue": "unindent does not match any outer indentation level (<tokenize>, line 3)",
     "output_type": "error",
     "traceback": [
      "\u001b[1;36m  File \u001b[1;32m\"<tokenize>\"\u001b[1;36m, line \u001b[1;32m3\u001b[0m\n\u001b[1;33m    y =3\u001b[0m\n\u001b[1;37m    ^\u001b[0m\n\u001b[1;31mIndentationError\u001b[0m\u001b[1;31m:\u001b[0m unindent does not match any outer indentation level\n"
     ]
    }
   ],
   "source": [
    "def f():\n",
    "    x = 2\n",
    "   y =3\n",
    "\n",
    "f()"
   ]
  },
  {
   "cell_type": "code",
   "execution_count": 28,
   "id": "89e9a694",
   "metadata": {},
   "outputs": [
    {
     "data": {
      "text/plain": [
       "'eAS503'"
      ]
     },
     "execution_count": 28,
     "metadata": {},
     "output_type": "execute_result"
    }
   ],
   "source": [
    "x = 'eAS503'\n",
    "x"
   ]
  },
  {
   "cell_type": "code",
   "execution_count": 31,
   "id": "c62c3811",
   "metadata": {},
   "outputs": [],
   "source": [
    "capt = x.capitalize()"
   ]
  },
  {
   "cell_type": "code",
   "execution_count": 32,
   "id": "2ba29049",
   "metadata": {},
   "outputs": [
    {
     "name": "stdout",
     "output_type": "stream",
     "text": [
      "eAS503 Eas503\n"
     ]
    }
   ],
   "source": [
    "print(x, capt)"
   ]
  },
  {
   "cell_type": "code",
   "execution_count": 33,
   "id": "89e3866e",
   "metadata": {},
   "outputs": [
    {
     "data": {
      "text/plain": [
       "1"
      ]
     },
     "execution_count": 33,
     "metadata": {},
     "output_type": "execute_result"
    }
   ],
   "source": [
    "x.count('e')"
   ]
  },
  {
   "cell_type": "code",
   "execution_count": 34,
   "id": "6cde4d4a",
   "metadata": {},
   "outputs": [
    {
     "data": {
      "text/plain": [
       "4"
      ]
     },
     "execution_count": 34,
     "metadata": {},
     "output_type": "execute_result"
    }
   ],
   "source": [
    "x = 'aabbbcccc'\n",
    "x.count('c')"
   ]
  },
  {
   "cell_type": "code",
   "execution_count": 35,
   "id": "dd2ebec8",
   "metadata": {},
   "outputs": [],
   "source": [
    "class1 = 'BIO101'\n",
    "class2 = 'CHM101'\n",
    "class3 = 'PYS101'\n",
    "class4 = 'LIT203'"
   ]
  },
  {
   "cell_type": "code",
   "execution_count": 36,
   "id": "c9c4f93e",
   "metadata": {},
   "outputs": [
    {
     "data": {
      "text/plain": [
       "True"
      ]
     },
     "execution_count": 36,
     "metadata": {},
     "output_type": "execute_result"
    }
   ],
   "source": [
    "class1.endswith('101')"
   ]
  },
  {
   "cell_type": "code",
   "execution_count": 37,
   "id": "4b546680",
   "metadata": {},
   "outputs": [
    {
     "data": {
      "text/plain": [
       "False"
      ]
     },
     "execution_count": 37,
     "metadata": {},
     "output_type": "execute_result"
    }
   ],
   "source": [
    "class1.endswith('201')"
   ]
  },
  {
   "cell_type": "code",
   "execution_count": 40,
   "id": "75de517c",
   "metadata": {},
   "outputs": [
    {
     "data": {
      "text/plain": [
       "True"
      ]
     },
     "execution_count": 40,
     "metadata": {},
     "output_type": "execute_result"
    }
   ],
   "source": [
    "class4.endswith('203')"
   ]
  },
  {
   "cell_type": "code",
   "execution_count": 41,
   "id": "dcb653e4",
   "metadata": {},
   "outputs": [
    {
     "data": {
      "text/plain": [
       "'aabbbcccc'"
      ]
     },
     "execution_count": 41,
     "metadata": {},
     "output_type": "execute_result"
    }
   ],
   "source": [
    "x"
   ]
  },
  {
   "cell_type": "code",
   "execution_count": 42,
   "id": "cad56c77",
   "metadata": {},
   "outputs": [
    {
     "data": {
      "text/plain": [
       "2"
      ]
     },
     "execution_count": 42,
     "metadata": {},
     "output_type": "execute_result"
    }
   ],
   "source": [
    "x.find('b')"
   ]
  },
  {
   "cell_type": "code",
   "execution_count": 43,
   "id": "e9418d82",
   "metadata": {},
   "outputs": [
    {
     "data": {
      "text/plain": [
       "'aabbbcccc'"
      ]
     },
     "execution_count": 43,
     "metadata": {},
     "output_type": "execute_result"
    }
   ],
   "source": [
    "x"
   ]
  },
  {
   "cell_type": "code",
   "execution_count": 44,
   "id": "80052e0f",
   "metadata": {},
   "outputs": [
    {
     "data": {
      "text/plain": [
       "'b'"
      ]
     },
     "execution_count": 44,
     "metadata": {},
     "output_type": "execute_result"
    }
   ],
   "source": [
    "x[3]"
   ]
  },
  {
   "cell_type": "code",
   "execution_count": 45,
   "id": "2ce37099",
   "metadata": {},
   "outputs": [
    {
     "data": {
      "text/plain": [
       "'c'"
      ]
     },
     "execution_count": 45,
     "metadata": {},
     "output_type": "execute_result"
    }
   ],
   "source": [
    "x[8]"
   ]
  },
  {
   "cell_type": "code",
   "execution_count": 46,
   "id": "fee4d16b",
   "metadata": {},
   "outputs": [
    {
     "data": {
      "text/plain": [
       "'c'"
      ]
     },
     "execution_count": 46,
     "metadata": {},
     "output_type": "execute_result"
    }
   ],
   "source": [
    "len_x = len(x)\n",
    "x[len_x-1]"
   ]
  },
  {
   "cell_type": "code",
   "execution_count": 47,
   "id": "8a38325c",
   "metadata": {},
   "outputs": [
    {
     "data": {
      "text/plain": [
       "'c'"
      ]
     },
     "execution_count": 47,
     "metadata": {},
     "output_type": "execute_result"
    }
   ],
   "source": [
    "x[-1]"
   ]
  },
  {
   "cell_type": "code",
   "execution_count": 52,
   "id": "bd55e813",
   "metadata": {},
   "outputs": [],
   "source": [
    "x = '0123456789'"
   ]
  },
  {
   "cell_type": "code",
   "execution_count": 53,
   "id": "6dbd70f9",
   "metadata": {},
   "outputs": [
    {
     "data": {
      "text/plain": [
       "'9'"
      ]
     },
     "execution_count": 53,
     "metadata": {},
     "output_type": "execute_result"
    }
   ],
   "source": [
    "x[-1]"
   ]
  },
  {
   "cell_type": "code",
   "execution_count": 54,
   "id": "f92fbf91",
   "metadata": {},
   "outputs": [
    {
     "data": {
      "text/plain": [
       "'8'"
      ]
     },
     "execution_count": 54,
     "metadata": {},
     "output_type": "execute_result"
    }
   ],
   "source": [
    "x[-2]"
   ]
  },
  {
   "cell_type": "code",
   "execution_count": 55,
   "id": "94ed1b51",
   "metadata": {},
   "outputs": [
    {
     "data": {
      "text/plain": [
       "'4'"
      ]
     },
     "execution_count": 55,
     "metadata": {},
     "output_type": "execute_result"
    }
   ],
   "source": [
    "x[4]"
   ]
  },
  {
   "cell_type": "code",
   "execution_count": 56,
   "id": "56140cc0",
   "metadata": {},
   "outputs": [],
   "source": [
    "x = '223344'"
   ]
  },
  {
   "cell_type": "code",
   "execution_count": 61,
   "id": "2ef258f2",
   "metadata": {},
   "outputs": [
    {
     "data": {
      "text/plain": [
       "'223344'"
      ]
     },
     "execution_count": 61,
     "metadata": {},
     "output_type": "execute_result"
    }
   ],
   "source": []
  },
  {
   "cell_type": "code",
   "execution_count": 62,
   "id": "54746bc6",
   "metadata": {},
   "outputs": [
    {
     "data": {
      "text/plain": [
       "True"
      ]
     },
     "execution_count": 62,
     "metadata": {},
     "output_type": "execute_result"
    }
   ],
   "source": [
    "x = 'abcd'\n",
    "x.islower()"
   ]
  },
  {
   "cell_type": "code",
   "execution_count": 63,
   "id": "8f1fd3f3",
   "metadata": {},
   "outputs": [
    {
     "data": {
      "text/plain": [
       "False"
      ]
     },
     "execution_count": 63,
     "metadata": {},
     "output_type": "execute_result"
    }
   ],
   "source": [
    "x = 'Abcd'\n",
    "x.islower()"
   ]
  },
  {
   "cell_type": "code",
   "execution_count": 64,
   "id": "ea2d3c7d",
   "metadata": {},
   "outputs": [
    {
     "data": {
      "text/plain": [
       "'abcd'"
      ]
     },
     "execution_count": 64,
     "metadata": {},
     "output_type": "execute_result"
    }
   ],
   "source": [
    "x.lower()"
   ]
  },
  {
   "cell_type": "code",
   "execution_count": 65,
   "id": "5d9999c5",
   "metadata": {},
   "outputs": [
    {
     "data": {
      "text/plain": [
       "'Abcd'"
      ]
     },
     "execution_count": 65,
     "metadata": {},
     "output_type": "execute_result"
    }
   ],
   "source": [
    "x"
   ]
  },
  {
   "cell_type": "code",
   "execution_count": 66,
   "id": "7b85f29a",
   "metadata": {},
   "outputs": [
    {
     "data": {
      "text/plain": [
       "'johndoe'"
      ]
     },
     "execution_count": 66,
     "metadata": {},
     "output_type": "execute_result"
    }
   ],
   "source": [
    "'JohnDoe'.lower()"
   ]
  },
  {
   "cell_type": "code",
   "execution_count": 67,
   "id": "a07c066e",
   "metadata": {},
   "outputs": [
    {
     "data": {
      "text/plain": [
       "'JOHNDOE'"
      ]
     },
     "execution_count": 67,
     "metadata": {},
     "output_type": "execute_result"
    }
   ],
   "source": [
    "'JohnDoe'.upper()"
   ]
  },
  {
   "cell_type": "code",
   "execution_count": 69,
   "id": "76f83ebf",
   "metadata": {},
   "outputs": [
    {
     "data": {
      "text/plain": [
       "False"
      ]
     },
     "execution_count": 69,
     "metadata": {},
     "output_type": "execute_result"
    }
   ],
   "source": [
    "class1.startswith('BIo')"
   ]
  },
  {
   "cell_type": "code",
   "execution_count": 72,
   "id": "13c72d23",
   "metadata": {},
   "outputs": [
    {
     "data": {
      "text/plain": [
       "True"
      ]
     },
     "execution_count": 72,
     "metadata": {},
     "output_type": "execute_result"
    }
   ],
   "source": [
    "class1.lower().startswith('bio')"
   ]
  },
  {
   "cell_type": "code",
   "execution_count": 73,
   "id": "3eceb214",
   "metadata": {},
   "outputs": [
    {
     "data": {
      "text/plain": [
       "'BIO101'"
      ]
     },
     "execution_count": 73,
     "metadata": {},
     "output_type": "execute_result"
    }
   ],
   "source": [
    "class1"
   ]
  },
  {
   "cell_type": "code",
   "execution_count": 79,
   "id": "7bc080e3",
   "metadata": {},
   "outputs": [],
   "source": [
    "x = '\\tBIO101\\t\\n'"
   ]
  },
  {
   "cell_type": "code",
   "execution_count": 80,
   "id": "f7c4dbbf",
   "metadata": {},
   "outputs": [
    {
     "name": "stdout",
     "output_type": "stream",
     "text": [
      "\tBIO101\t\n",
      "\n"
     ]
    }
   ],
   "source": [
    "print(x)"
   ]
  },
  {
   "cell_type": "code",
   "execution_count": 81,
   "id": "4e0dd163",
   "metadata": {},
   "outputs": [
    {
     "name": "stdout",
     "output_type": "stream",
     "text": [
      "BIO101\n"
     ]
    }
   ],
   "source": [
    "print(x.strip())"
   ]
  },
  {
   "cell_type": "code",
   "execution_count": 82,
   "id": "5067320a",
   "metadata": {},
   "outputs": [
    {
     "data": {
      "text/plain": [
       "'\\tPHYS101\\t\\n'"
      ]
     },
     "execution_count": 82,
     "metadata": {},
     "output_type": "execute_result"
    }
   ],
   "source": [
    "x.replace('BIO', 'PHYS')"
   ]
  },
  {
   "cell_type": "code",
   "execution_count": 83,
   "id": "1080c030",
   "metadata": {},
   "outputs": [
    {
     "data": {
      "text/plain": [
       "'\\tBIO101\\t\\n'"
      ]
     },
     "execution_count": 83,
     "metadata": {},
     "output_type": "execute_result"
    }
   ],
   "source": [
    "x"
   ]
  },
  {
   "cell_type": "code",
   "execution_count": 84,
   "id": "2391eeb3",
   "metadata": {},
   "outputs": [],
   "source": [
    "x = 'line1\\nline2'"
   ]
  },
  {
   "cell_type": "code",
   "execution_count": 85,
   "id": "344bd95b",
   "metadata": {},
   "outputs": [
    {
     "name": "stdout",
     "output_type": "stream",
     "text": [
      "line1\n",
      "line2\n"
     ]
    }
   ],
   "source": [
    "print(x)"
   ]
  },
  {
   "cell_type": "code",
   "execution_count": 88,
   "id": "9afc3121",
   "metadata": {},
   "outputs": [],
   "source": [
    "# Pattern -- Memorize\n",
    "\n",
    "with open('test_file.txt', 'w') as file:\n",
    "    file.write(x)\n",
    "    \n",
    "    \n",
    "y = 2"
   ]
  },
  {
   "cell_type": "code",
   "execution_count": 87,
   "id": "698fff3c",
   "metadata": {},
   "outputs": [],
   "source": [
    "file = open('test_file.txt', 'w')\n",
    "\n",
    "file.close()"
   ]
  },
  {
   "cell_type": "code",
   "execution_count": 89,
   "id": "a8fc38c4",
   "metadata": {},
   "outputs": [],
   "source": [
    "with open('test_file.txt', 'r') as file:\n",
    "    file_data = file.read()"
   ]
  },
  {
   "cell_type": "code",
   "execution_count": 90,
   "id": "fe760778",
   "metadata": {},
   "outputs": [
    {
     "data": {
      "text/plain": [
       "'line1\\nline2'"
      ]
     },
     "execution_count": 90,
     "metadata": {},
     "output_type": "execute_result"
    }
   ],
   "source": [
    "file_data"
   ]
  },
  {
   "cell_type": "code",
   "execution_count": 93,
   "id": "b15cb440",
   "metadata": {},
   "outputs": [],
   "source": [
    "title = '|' + '{:^51}'.format('Cereal Yields (kg/ha)') + '|'\n",
    "line = '+' + '-'*15 + '+' + ('-'*8 + '+')*4\n",
    "row = '| {:<13} |' + ' {:6,d} |'*4\n",
    "header = '| {:^13s} |'.format('Country') + (' {:^6d} |'*4).format(1980, 1990,\n",
    "                                                                  2000, 2010)\n",
    "file_content = '\\n'.join(('+' + '-'*(len(title)-2) + '+',\n",
    "      title,\n",
    "      line,\n",
    "      header,\n",
    "      line,\n",
    "      row.format('China', 2937, 4321, 4752, 5527),\n",
    "      row.format('Germany', 4225, 5411, 6453, 6718),\n",
    "      row.format('United States', 3772, 4755, 5854, 6988),\n",
    "      line))\n",
    "\n",
    "with open('test_file2.txt', 'w') as file:\n",
    "    file.write(file_content)"
   ]
  },
  {
   "cell_type": "code",
   "execution_count": 95,
   "id": "5db810db",
   "metadata": {},
   "outputs": [
    {
     "name": "stdout",
     "output_type": "stream",
     "text": [
      "+---------------------------------------------------+\n",
      "|               Cereal Yields (kg/ha)               |\n",
      "+---------------+--------+--------+--------+--------+\n",
      "|    Country    |  1980  |  1990  |  2000  |  2010  |\n",
      "+---------------+--------+--------+--------+--------+\n",
      "| China         |  2,937 |  4,321 |  4,752 |  5,527 |\n",
      "| Germany       |  4,225 |  5,411 |  6,453 |  6,718 |\n",
      "| United States |  3,772 |  4,755 |  5,854 |  6,988 |\n",
      "+---------------+--------+--------+--------+--------+\n"
     ]
    }
   ],
   "source": [
    "print(file_content)"
   ]
  },
  {
   "cell_type": "code",
   "execution_count": 96,
   "id": "ee8b3b67",
   "metadata": {},
   "outputs": [],
   "source": [
    "with open('test_file2.txt', 'a') as file:\n",
    "    file.write(file_content)"
   ]
  },
  {
   "cell_type": "code",
   "execution_count": 97,
   "id": "e8bb235e",
   "metadata": {},
   "outputs": [],
   "source": [
    "with open('test_file2.txt', 'a') as file:\n",
    "    file.write('\\nThis is a new line!')"
   ]
  },
  {
   "cell_type": "code",
   "execution_count": 98,
   "id": "b0ecc903",
   "metadata": {},
   "outputs": [
    {
     "data": {
      "text/plain": [
       "True"
      ]
     },
     "execution_count": 98,
     "metadata": {},
     "output_type": "execute_result"
    }
   ],
   "source": [
    "is_teacher = True\n",
    "is_active = True\n",
    "\n",
    "is_teacher and is_active"
   ]
  },
  {
   "cell_type": "code",
   "execution_count": 99,
   "id": "43e1dc2d",
   "metadata": {},
   "outputs": [
    {
     "data": {
      "text/plain": [
       "False"
      ]
     },
     "execution_count": 99,
     "metadata": {},
     "output_type": "execute_result"
    }
   ],
   "source": [
    "is_teacher = True\n",
    "is_active = False\n",
    "\n",
    "is_teacher and is_active"
   ]
  },
  {
   "cell_type": "code",
   "execution_count": 100,
   "id": "cb244eb5",
   "metadata": {},
   "outputs": [
    {
     "data": {
      "text/plain": [
       "True"
      ]
     },
     "execution_count": 100,
     "metadata": {},
     "output_type": "execute_result"
    }
   ],
   "source": [
    "is_teacher = True\n",
    "is_active = False\n",
    "is_superuser = True\n",
    "\n",
    "is_superuser or (is_teacher and is_active)"
   ]
  },
  {
   "cell_type": "code",
   "execution_count": 101,
   "id": "ecc67af9",
   "metadata": {},
   "outputs": [
    {
     "data": {
      "text/plain": [
       "False"
      ]
     },
     "execution_count": 101,
     "metadata": {},
     "output_type": "execute_result"
    }
   ],
   "source": [
    "not is_superuser"
   ]
  },
  {
   "cell_type": "code",
   "execution_count": 102,
   "id": "b98951b3",
   "metadata": {},
   "outputs": [
    {
     "data": {
      "text/plain": [
       "False"
      ]
     },
     "execution_count": 102,
     "metadata": {},
     "output_type": "execute_result"
    }
   ],
   "source": [
    "cold = True\n",
    "windy = False\n",
    "\n",
    "(not cold) and windy # It is not cold and windy\n"
   ]
  },
  {
   "cell_type": "code",
   "execution_count": 103,
   "id": "37612f12",
   "metadata": {},
   "outputs": [
    {
     "data": {
      "text/plain": [
       "True"
      ]
     },
     "execution_count": 103,
     "metadata": {},
     "output_type": "execute_result"
    }
   ],
   "source": [
    "not (cold and windy) "
   ]
  },
  {
   "cell_type": "code",
   "execution_count": 104,
   "id": "4f9937d0",
   "metadata": {},
   "outputs": [
    {
     "data": {
      "text/plain": [
       "True"
      ]
     },
     "execution_count": 104,
     "metadata": {},
     "output_type": "execute_result"
    }
   ],
   "source": [
    "x = 2\n",
    "y = 5\n",
    "z = 7\n",
    "x < y and y < z"
   ]
  },
  {
   "cell_type": "code",
   "execution_count": 105,
   "id": "1aafa226",
   "metadata": {},
   "outputs": [
    {
     "data": {
      "text/plain": [
       "True"
      ]
     },
     "execution_count": 105,
     "metadata": {},
     "output_type": "execute_result"
    }
   ],
   "source": [
    "(x < y) and (y < z) # better"
   ]
  },
  {
   "cell_type": "code",
   "execution_count": 106,
   "id": "9439a243",
   "metadata": {},
   "outputs": [
    {
     "data": {
      "text/plain": [
       "True"
      ]
     },
     "execution_count": 106,
     "metadata": {},
     "output_type": "execute_result"
    }
   ],
   "source": [
    "x < y < z"
   ]
  },
  {
   "cell_type": "code",
   "execution_count": 107,
   "id": "09d04076",
   "metadata": {},
   "outputs": [
    {
     "data": {
      "text/plain": [
       "True"
      ]
     },
     "execution_count": 107,
     "metadata": {},
     "output_type": "execute_result"
    }
   ],
   "source": [
    "x = 3\n",
    "(1 < x) and (x <= 5) "
   ]
  },
  {
   "cell_type": "code",
   "execution_count": 108,
   "id": "9128f63b",
   "metadata": {},
   "outputs": [
    {
     "data": {
      "text/plain": [
       "True"
      ]
     },
     "execution_count": 108,
     "metadata": {},
     "output_type": "execute_result"
    }
   ],
   "source": [
    "1 < x <= 5"
   ]
  },
  {
   "cell_type": "code",
   "execution_count": 109,
   "id": "4332fb88",
   "metadata": {},
   "outputs": [
    {
     "data": {
      "text/plain": [
       "False"
      ]
     },
     "execution_count": 109,
     "metadata": {},
     "output_type": "execute_result"
    }
   ],
   "source": [
    "x = 7\n",
    "(1 < x) and (x <= 5)"
   ]
  },
  {
   "cell_type": "code",
   "execution_count": 110,
   "id": "980ab5cf",
   "metadata": {},
   "outputs": [
    {
     "data": {
      "text/plain": [
       "False"
      ]
     },
     "execution_count": 110,
     "metadata": {},
     "output_type": "execute_result"
    }
   ],
   "source": [
    "1 < x <= 5"
   ]
  },
  {
   "cell_type": "code",
   "execution_count": 111,
   "id": "56ae632f",
   "metadata": {},
   "outputs": [
    {
     "data": {
      "text/plain": [
       "True"
      ]
     },
     "execution_count": 111,
     "metadata": {},
     "output_type": "execute_result"
    }
   ],
   "source": [
    "3 < 5 != True "
   ]
  },
  {
   "cell_type": "code",
   "execution_count": 112,
   "id": "5fdb4a4a",
   "metadata": {},
   "outputs": [
    {
     "data": {
      "text/plain": [
       "True"
      ]
     },
     "execution_count": 112,
     "metadata": {},
     "output_type": "execute_result"
    }
   ],
   "source": [
    "(3 < 5) and (5 != True)"
   ]
  },
  {
   "cell_type": "code",
   "execution_count": 113,
   "id": "b701a2c7",
   "metadata": {},
   "outputs": [
    {
     "data": {
      "text/plain": [
       "True"
      ]
     },
     "execution_count": 113,
     "metadata": {},
     "output_type": "execute_result"
    }
   ],
   "source": [
    "5 != True"
   ]
  },
  {
   "cell_type": "code",
   "execution_count": 114,
   "id": "6ed3c48c",
   "metadata": {},
   "outputs": [
    {
     "data": {
      "text/plain": [
       "False"
      ]
     },
     "execution_count": 114,
     "metadata": {},
     "output_type": "execute_result"
    }
   ],
   "source": [
    "5 == True"
   ]
  },
  {
   "cell_type": "code",
   "execution_count": 116,
   "id": "2055fab0",
   "metadata": {},
   "outputs": [
    {
     "data": {
      "text/plain": [
       "True"
      ]
     },
     "execution_count": 116,
     "metadata": {},
     "output_type": "execute_result"
    }
   ],
   "source": [
    "type(5) != type(True)"
   ]
  },
  {
   "cell_type": "code",
   "execution_count": 118,
   "id": "185b2293",
   "metadata": {},
   "outputs": [
    {
     "data": {
      "text/plain": [
       "True"
      ]
     },
     "execution_count": 118,
     "metadata": {},
     "output_type": "execute_result"
    }
   ],
   "source": [
    "1 == True"
   ]
  },
  {
   "cell_type": "code",
   "execution_count": 119,
   "id": "ce93d0ef",
   "metadata": {},
   "outputs": [
    {
     "data": {
      "text/plain": [
       "True"
      ]
     },
     "execution_count": 119,
     "metadata": {},
     "output_type": "execute_result"
    }
   ],
   "source": [
    "0 == False"
   ]
  },
  {
   "cell_type": "code",
   "execution_count": 120,
   "id": "64cf3438",
   "metadata": {},
   "outputs": [
    {
     "data": {
      "text/plain": [
       "False"
      ]
     },
     "execution_count": 120,
     "metadata": {},
     "output_type": "execute_result"
    }
   ],
   "source": [
    "5 == False"
   ]
  },
  {
   "cell_type": "code",
   "execution_count": 121,
   "id": "b38a8a32",
   "metadata": {},
   "outputs": [
    {
     "data": {
      "text/plain": [
       "True"
      ]
     },
     "execution_count": 121,
     "metadata": {},
     "output_type": "execute_result"
    }
   ],
   "source": [
    "'A' < 'a'"
   ]
  },
  {
   "cell_type": "code",
   "execution_count": 122,
   "id": "e666a3ba",
   "metadata": {},
   "outputs": [
    {
     "data": {
      "text/plain": [
       "True"
      ]
     },
     "execution_count": 122,
     "metadata": {},
     "output_type": "execute_result"
    }
   ],
   "source": [
    "65 < 97"
   ]
  },
  {
   "cell_type": "code",
   "execution_count": 123,
   "id": "807038b2",
   "metadata": {},
   "outputs": [
    {
     "data": {
      "text/plain": [
       "True"
      ]
     },
     "execution_count": 123,
     "metadata": {},
     "output_type": "execute_result"
    }
   ],
   "source": [
    "0 # False\n",
    "1 # True\n",
    "\n",
    "1 == True"
   ]
  },
  {
   "cell_type": "code",
   "execution_count": 124,
   "id": "0e80ab0d",
   "metadata": {},
   "outputs": [
    {
     "data": {
      "text/plain": [
       "True"
      ]
     },
     "execution_count": 124,
     "metadata": {},
     "output_type": "execute_result"
    }
   ],
   "source": [
    "0 == False"
   ]
  },
  {
   "cell_type": "code",
   "execution_count": 125,
   "id": "212b5d06",
   "metadata": {},
   "outputs": [
    {
     "data": {
      "text/plain": [
       "False"
      ]
     },
     "execution_count": 125,
     "metadata": {},
     "output_type": "execute_result"
    }
   ],
   "source": [
    "90 == True"
   ]
  },
  {
   "cell_type": "code",
   "execution_count": 126,
   "id": "b1a54941",
   "metadata": {},
   "outputs": [
    {
     "data": {
      "text/plain": [
       "False"
      ]
     },
     "execution_count": 126,
     "metadata": {},
     "output_type": "execute_result"
    }
   ],
   "source": [
    "90 == False"
   ]
  },
  {
   "cell_type": "code",
   "execution_count": 129,
   "id": "97f42a6f",
   "metadata": {},
   "outputs": [
    {
     "data": {
      "text/plain": [
       "65"
      ]
     },
     "execution_count": 129,
     "metadata": {},
     "output_type": "execute_result"
    }
   ],
   "source": [
    "ord('A')"
   ]
  },
  {
   "cell_type": "code",
   "execution_count": 130,
   "id": "44f4c54f",
   "metadata": {},
   "outputs": [
    {
     "data": {
      "text/plain": [
       "'A'"
      ]
     },
     "execution_count": 130,
     "metadata": {},
     "output_type": "execute_result"
    }
   ],
   "source": [
    "chr(65)"
   ]
  },
  {
   "cell_type": "code",
   "execution_count": 131,
   "id": "0827c896",
   "metadata": {},
   "outputs": [
    {
     "data": {
      "text/plain": [
       "97"
      ]
     },
     "execution_count": 131,
     "metadata": {},
     "output_type": "execute_result"
    }
   ],
   "source": [
    "ord('a')"
   ]
  },
  {
   "cell_type": "code",
   "execution_count": 132,
   "id": "164fdf89",
   "metadata": {},
   "outputs": [
    {
     "data": {
      "text/plain": [
       "'a'"
      ]
     },
     "execution_count": 132,
     "metadata": {},
     "output_type": "execute_result"
    }
   ],
   "source": [
    "chr(97)"
   ]
  },
  {
   "cell_type": "code",
   "execution_count": 133,
   "id": "9d30651c",
   "metadata": {},
   "outputs": [
    {
     "data": {
      "text/plain": [
       "False"
      ]
     },
     "execution_count": 133,
     "metadata": {},
     "output_type": "execute_result"
    }
   ],
   "source": [
    "'A' > 'Z'"
   ]
  },
  {
   "cell_type": "code",
   "execution_count": 134,
   "id": "5352ca5e",
   "metadata": {},
   "outputs": [
    {
     "data": {
      "text/plain": [
       "True"
      ]
     },
     "execution_count": 134,
     "metadata": {},
     "output_type": "execute_result"
    }
   ],
   "source": [
    "'abc' < 'abd'"
   ]
  },
  {
   "cell_type": "code",
   "execution_count": 135,
   "id": "41016407",
   "metadata": {},
   "outputs": [
    {
     "data": {
      "text/plain": [
       "True"
      ]
     },
     "execution_count": 135,
     "metadata": {},
     "output_type": "execute_result"
    }
   ],
   "source": [
    "'abc' < 'abcd' # shorter is less"
   ]
  },
  {
   "cell_type": "code",
   "execution_count": 136,
   "id": "ab5abf2b",
   "metadata": {},
   "outputs": [
    {
     "data": {
      "text/plain": [
       "True"
      ]
     },
     "execution_count": 136,
     "metadata": {},
     "output_type": "execute_result"
    }
   ],
   "source": [
    "'Jan' in '01 Jan 1838'"
   ]
  },
  {
   "cell_type": "code",
   "execution_count": 137,
   "id": "bdc447d6",
   "metadata": {},
   "outputs": [
    {
     "data": {
      "text/plain": [
       "False"
      ]
     },
     "execution_count": 137,
     "metadata": {},
     "output_type": "execute_result"
    }
   ],
   "source": [
    "'Feb' in '01 Jan 1838'"
   ]
  },
  {
   "cell_type": "code",
   "execution_count": 138,
   "id": "68e4760d",
   "metadata": {},
   "outputs": [
    {
     "data": {
      "text/plain": [
       "True"
      ]
     },
     "execution_count": 138,
     "metadata": {},
     "output_type": "execute_result"
    }
   ],
   "source": [
    "'a' in 'abc'"
   ]
  },
  {
   "cell_type": "code",
   "execution_count": 139,
   "id": "2377c550",
   "metadata": {},
   "outputs": [
    {
     "data": {
      "text/plain": [
       "False"
      ]
     },
     "execution_count": 139,
     "metadata": {},
     "output_type": "execute_result"
    }
   ],
   "source": [
    "'A' in 'abc'"
   ]
  },
  {
   "cell_type": "code",
   "execution_count": 141,
   "id": "e0de0992",
   "metadata": {},
   "outputs": [],
   "source": [
    "string = '0118Jan38'"
   ]
  },
  {
   "cell_type": "code",
   "execution_count": 142,
   "id": "9abcb08c",
   "metadata": {},
   "outputs": [
    {
     "data": {
      "text/plain": [
       "4"
      ]
     },
     "execution_count": 142,
     "metadata": {},
     "output_type": "execute_result"
    }
   ],
   "source": [
    "string.find('Jan')"
   ]
  },
  {
   "cell_type": "code",
   "execution_count": 143,
   "id": "eaae7ecd",
   "metadata": {},
   "outputs": [
    {
     "data": {
      "text/plain": [
       "4"
      ]
     },
     "execution_count": 143,
     "metadata": {},
     "output_type": "execute_result"
    }
   ],
   "source": [
    "string = '0118Jan38Jan'\n",
    "string.find('Jan')"
   ]
  },
  {
   "cell_type": "code",
   "execution_count": 144,
   "id": "8634175b",
   "metadata": {},
   "outputs": [
    {
     "data": {
      "text/plain": [
       "-1"
      ]
     },
     "execution_count": 144,
     "metadata": {},
     "output_type": "execute_result"
    }
   ],
   "source": [
    "string = '0118Jan38Jan'\n",
    "string.find('Feb')"
   ]
  },
  {
   "cell_type": "code",
   "execution_count": 145,
   "id": "95f0ce69",
   "metadata": {},
   "outputs": [
    {
     "name": "stdout",
     "output_type": "stream",
     "text": [
      "User is Active\n"
     ]
    }
   ],
   "source": [
    "is_active = True\n",
    "\n",
    "if is_active:\n",
    "    print('User is Active')"
   ]
  },
  {
   "cell_type": "code",
   "execution_count": 146,
   "id": "ecc35138",
   "metadata": {},
   "outputs": [
    {
     "name": "stdout",
     "output_type": "stream",
     "text": [
      "User is Active\n"
     ]
    }
   ],
   "source": [
    "is_active = 1\n",
    "\n",
    "if is_active:\n",
    "    print('User is Active')"
   ]
  },
  {
   "cell_type": "code",
   "execution_count": 147,
   "id": "52467174",
   "metadata": {},
   "outputs": [
    {
     "name": "stdout",
     "output_type": "stream",
     "text": [
      "User is Active\n"
     ]
    }
   ],
   "source": [
    "is_active = 90\n",
    "\n",
    "if is_active:\n",
    "    print('User is Active')"
   ]
  },
  {
   "cell_type": "code",
   "execution_count": 149,
   "id": "afd3e874",
   "metadata": {},
   "outputs": [
    {
     "name": "stdout",
     "output_type": "stream",
     "text": [
      "User is Active\n"
     ]
    }
   ],
   "source": [
    "is_active = True\n",
    "\n",
    "if is_active:\n",
    "    print('User is Active')"
   ]
  },
  {
   "cell_type": "code",
   "execution_count": 152,
   "id": "901c8fe5",
   "metadata": {},
   "outputs": [
    {
     "name": "stdout",
     "output_type": "stream",
     "text": [
      "Before If\n",
      "After If\n"
     ]
    }
   ],
   "source": [
    "is_active = False\n",
    "\n",
    "\n",
    "print('Before If')\n",
    "if is_active:\n",
    "    print('User is Active')\n",
    "    print('Second line')\n",
    "print('After If')"
   ]
  },
  {
   "cell_type": "code",
   "execution_count": 153,
   "id": "470191bf",
   "metadata": {},
   "outputs": [
    {
     "name": "stdout",
     "output_type": "stream",
     "text": [
      "Before If\n",
      "User is Active\n",
      "Second line\n",
      "After If\n"
     ]
    }
   ],
   "source": [
    "is_active = True\n",
    "\n",
    "\n",
    "print('Before If')\n",
    "if is_active:\n",
    "    print('User is Active')\n",
    "    print('Second line')\n",
    "print('After If')"
   ]
  },
  {
   "cell_type": "code",
   "execution_count": 155,
   "id": "ac1f8dea",
   "metadata": {},
   "outputs": [
    {
     "name": "stdout",
     "output_type": "stream",
     "text": [
      "User is not active\n"
     ]
    }
   ],
   "source": [
    "is_active = False\n",
    "\n",
    "if is_active:\n",
    "    print('User is active')\n",
    "else:\n",
    "    print('User is not active')"
   ]
  },
  {
   "cell_type": "code",
   "execution_count": 156,
   "id": "3d4cc086",
   "metadata": {},
   "outputs": [
    {
     "name": "stdout",
     "output_type": "stream",
     "text": [
      "User can log in\n"
     ]
    }
   ],
   "source": [
    "is_active = False\n",
    "is_superuser = True\n",
    "\n",
    "if is_active:\n",
    "    print('User is active')\n",
    "elif is_superuser:\n",
    "    print('User can log in')\n",
    "else:\n",
    "    print('User is not active')"
   ]
  },
  {
   "cell_type": "code",
   "execution_count": 157,
   "id": "9e4b8279",
   "metadata": {},
   "outputs": [
    {
     "name": "stdout",
     "output_type": "stream",
     "text": [
      "User is not active\n"
     ]
    }
   ],
   "source": [
    "is_active = False\n",
    "is_superuser = False\n",
    "\n",
    "if is_active:\n",
    "    print('User is active')\n",
    "elif is_superuser:\n",
    "    print('User can log in')\n",
    "else:\n",
    "    print('User is not active')"
   ]
  },
  {
   "cell_type": "code",
   "execution_count": 158,
   "id": "721cb845",
   "metadata": {},
   "outputs": [
    {
     "name": "stdout",
     "output_type": "stream",
     "text": [
      "After if\n"
     ]
    }
   ],
   "source": [
    "is_active = False\n",
    "is_superuser = False\n",
    "\n",
    "if is_active:\n",
    "    print('User is active')\n",
    "elif is_superuser:\n",
    "    print('User can log in')\n",
    "\n",
    "print('After if')"
   ]
  },
  {
   "cell_type": "code",
   "execution_count": 160,
   "id": "b04f38e1",
   "metadata": {},
   "outputs": [
    {
     "name": "stdout",
     "output_type": "stream",
     "text": [
      "Enter the pH level: 3\n",
      "3.0  is acidic.\n"
     ]
    }
   ],
   "source": [
    "ph = float(input('Enter the pH level: '))\n",
    "if ph < 7.0:\n",
    "    print(ph, \"is acidic.\") #indentation important"
   ]
  },
  {
   "cell_type": "code",
   "execution_count": 161,
   "id": "7fa07b7c",
   "metadata": {},
   "outputs": [
    {
     "name": "stdout",
     "output_type": "stream",
     "text": [
      "Enter the pH level: 3\n",
      "3.0 is acidic.\n",
      "You should be careful with that!\n"
     ]
    }
   ],
   "source": [
    "ph = float(input('Enter the pH level: '))\n",
    "if ph < 7.0:\n",
    "    print(ph, \"is acidic.\")\n",
    "    print('You should be careful with that!') #indentation is important"
   ]
  },
  {
   "cell_type": "code",
   "execution_count": 163,
   "id": "80125825",
   "metadata": {},
   "outputs": [
    {
     "name": "stdout",
     "output_type": "stream",
     "text": [
      "Enter the pH level: 10\n",
      "10.0  is basic.\n"
     ]
    }
   ],
   "source": [
    "ph = float(input('Enter the pH level: '))\n",
    "if ph < 7.0:\n",
    "    print(ph, \" is acidic.\") #indentation important\n",
    "\n",
    "if ph > 7.0:\n",
    "    print(ph, \" is basic.\") "
   ]
  },
  {
   "cell_type": "code",
   "execution_count": 164,
   "id": "c2aa3a7e",
   "metadata": {},
   "outputs": [
    {
     "name": "stdout",
     "output_type": "stream",
     "text": [
      "Enter the pH level: 9\n",
      "9.0  is basic.\n"
     ]
    }
   ],
   "source": [
    "ph = float(input('Enter the pH level: '))\n",
    "if ph < 7.0:\n",
    "    print(ph, \" is acidic.\") #indentation important\n",
    "elif ph > 7.0:\n",
    "    print(ph, \" is basic.\") "
   ]
  },
  {
   "cell_type": "code",
   "execution_count": 165,
   "id": "35fa4e21",
   "metadata": {},
   "outputs": [
    {
     "name": "stdout",
     "output_type": "stream",
     "text": [
      "Enter the pH level: 3\n",
      "8.0  is basic.\n"
     ]
    }
   ],
   "source": [
    "ph = float(input('Enter the pH level: '))\n",
    "if ph < 7.0:\n",
    "    ph = 8.0 #indentation important\n",
    "\n",
    "if ph > 7.0:\n",
    "    print(ph, \" is basic.\") "
   ]
  },
  {
   "cell_type": "code",
   "execution_count": 166,
   "id": "934e50c6",
   "metadata": {},
   "outputs": [
    {
     "name": "stdout",
     "output_type": "stream",
     "text": [
      "Enter the pH level: 3\n"
     ]
    }
   ],
   "source": [
    "ph = float(input('Enter the pH level: '))\n",
    "if ph < 7.0:\n",
    "    ph = 8.0  #indentation important\n",
    "elif ph > 7.0:\n",
    "    print(ph, \" is basic.\") "
   ]
  },
  {
   "cell_type": "code",
   "execution_count": 3,
   "id": "780e9242",
   "metadata": {},
   "outputs": [
    {
     "name": "stdout",
     "output_type": "stream",
     "text": [
      "Enter the compound: nh3\n",
      "Unknown compound\n"
     ]
    }
   ],
   "source": [
    "compound = input('Enter the compound: ')\n",
    "if compound == 'H20':\n",
    "    print('Water')\n",
    "elif compound == 'NH3':\n",
    "    print('Ammonia')\n",
    "elif compound == 'CH4':\n",
    "    print('Methane')\n",
    "else:\n",
    "    print('Unknown compound')\n"
   ]
  },
  {
   "cell_type": "code",
   "execution_count": 4,
   "id": "7512b237",
   "metadata": {},
   "outputs": [
    {
     "name": "stdout",
     "output_type": "stream",
     "text": [
      "Enter the compound: nH3\n",
      "Ammonia\n"
     ]
    }
   ],
   "source": [
    "compound = input('Enter the compound: ').upper()\n",
    "if compound == 'H2O':\n",
    "    print('Water')\n",
    "elif compound == 'NH3':\n",
    "    print('Ammonia')\n",
    "elif compound == 'CH4':\n",
    "    print('Methane')\n",
    "else:\n",
    "    print('Unknown compound')"
   ]
  },
  {
   "cell_type": "code",
   "execution_count": 14,
   "id": "8a2005d6",
   "metadata": {},
   "outputs": [
    {
     "name": "stdout",
     "output_type": "stream",
     "text": [
      "Enter the pH level: 9\n",
      "9.0  is basic.\n"
     ]
    }
   ],
   "source": [
    "value = input('Enter the pH level: ').strip()\n",
    "if len(value) > 0:\n",
    "    ph = float(value) \n",
    "    if ph < 7.0:\n",
    "        print(ph, \" is acidic.\")\n",
    "    elif ph > 7.0:\n",
    "        print(ph, \" is basic.\")\n",
    "    else:\n",
    "        print(ph, \" is neutral.\")\n",
    "\n",
    "else:\n",
    "    print('No pH value was given!')\n"
   ]
  },
  {
   "cell_type": "code",
   "execution_count": 10,
   "id": "bb2da723",
   "metadata": {},
   "outputs": [
    {
     "name": "stdout",
     "output_type": "stream",
     "text": [
      "8\n"
     ]
    }
   ],
   "source": [
    "x = '        '\n",
    "print(len(x))"
   ]
  },
  {
   "cell_type": "code",
   "execution_count": 11,
   "id": "8673bf31",
   "metadata": {},
   "outputs": [
    {
     "name": "stdout",
     "output_type": "stream",
     "text": [
      "0\n"
     ]
    }
   ],
   "source": [
    "print(len(''))"
   ]
  },
  {
   "cell_type": "code",
   "execution_count": 12,
   "id": "0042c4cc",
   "metadata": {},
   "outputs": [
    {
     "name": "stdout",
     "output_type": "stream",
     "text": [
      "0\n"
     ]
    }
   ],
   "source": [
    "x = '        '\n",
    "print(len(x.strip()))"
   ]
  },
  {
   "cell_type": "code",
   "execution_count": 16,
   "id": "a3127d12",
   "metadata": {},
   "outputs": [
    {
     "name": "stdout",
     "output_type": "stream",
     "text": [
      "Enter the pH level:     \n",
      "No pH value was given!\n"
     ]
    }
   ],
   "source": [
    "value = input('Enter the pH level: ').strip()\n",
    "if value:\n",
    "    ph = float(value) \n",
    "    if ph < 7.0:\n",
    "        print(ph, \" is acidic.\")\n",
    "    elif ph > 7.0:\n",
    "        print(ph, \" is basic.\")\n",
    "    else:\n",
    "        print(ph, \" is neutral.\")\n",
    "\n",
    "else:\n",
    "    print('No pH value was given!')\n"
   ]
  },
  {
   "cell_type": "code",
   "execution_count": 21,
   "id": "3e6cd40f",
   "metadata": {},
   "outputs": [
    {
     "name": "stdout",
     "output_type": "stream",
     "text": [
      "\t\t      \t\n",
      "\n",
      "\n"
     ]
    }
   ],
   "source": [
    "x = '\\t\\t      \\t\\n\\n'\n",
    "print(x)"
   ]
  },
  {
   "cell_type": "code",
   "execution_count": 22,
   "id": "82c69cb8",
   "metadata": {},
   "outputs": [
    {
     "name": "stdout",
     "output_type": "stream",
     "text": [
      "\n"
     ]
    }
   ],
   "source": [
    "print(x.strip())"
   ]
  },
  {
   "cell_type": "code",
   "execution_count": 20,
   "id": "9803c7d2",
   "metadata": {},
   "outputs": [],
   "source": [
    "del print"
   ]
  },
  {
   "cell_type": "code",
   "execution_count": 23,
   "id": "c5cf7bb8",
   "metadata": {},
   "outputs": [],
   "source": [
    "y = x.strip()"
   ]
  },
  {
   "cell_type": "code",
   "execution_count": 24,
   "id": "2aa1619a",
   "metadata": {},
   "outputs": [
    {
     "data": {
      "text/plain": [
       "''"
      ]
     },
     "execution_count": 24,
     "metadata": {},
     "output_type": "execute_result"
    }
   ],
   "source": [
    "y"
   ]
  },
  {
   "cell_type": "code",
   "execution_count": 25,
   "id": "6f7116d6",
   "metadata": {},
   "outputs": [],
   "source": [
    "age = 32\n",
    "bmi = 30\n",
    "\n",
    "if age < 45:\n",
    "    if bmi < 22.0:\n",
    "        risk = 'low'\n",
    "    else:\n",
    "        risk = 'medium'\n",
    "else:\n",
    "    if bmi < 22.0:\n",
    "        risk = 'medium'\n",
    "    else:\n",
    "        risk = 'high'\n"
   ]
  },
  {
   "cell_type": "code",
   "execution_count": 26,
   "id": "f9f38757",
   "metadata": {},
   "outputs": [
    {
     "name": "stdout",
     "output_type": "stream",
     "text": [
      "medium\n"
     ]
    }
   ],
   "source": [
    "print(risk)"
   ]
  },
  {
   "cell_type": "code",
   "execution_count": 28,
   "id": "08132726",
   "metadata": {},
   "outputs": [
    {
     "name": "stdout",
     "output_type": "stream",
     "text": [
      "45\n",
      "high\n"
     ]
    }
   ],
   "source": [
    "age = 45\n",
    "bmi = 30\n",
    "\n",
    "if age < 45:\n",
    "    if bmi < 22.0:\n",
    "        risk = 'low'\n",
    "    else:\n",
    "        risk = 'medium'\n",
    "else:\n",
    "    print(age)\n",
    "    if bmi < 22.0:\n",
    "        risk = 'medium'\n",
    "    else:\n",
    "        risk = 'high'\n",
    "        \n",
    "print(risk)"
   ]
  },
  {
   "cell_type": "code",
   "execution_count": 29,
   "id": "17402157",
   "metadata": {},
   "outputs": [],
   "source": [
    "young = age < 45\n",
    "slim = bmi < 22.0\n",
    "if young:\n",
    "    if slim:\n",
    "        risk = 'low'\n",
    "    else:\n",
    "        risk = 'medium'\n",
    "else:\n",
    "    if slim:\n",
    "        risk = 'medium'\n",
    "    else:\n",
    "        risk = 'high'"
   ]
  },
  {
   "cell_type": "code",
   "execution_count": 30,
   "id": "a9fa491d",
   "metadata": {},
   "outputs": [
    {
     "name": "stdout",
     "output_type": "stream",
     "text": [
      "2  is acidic\n"
     ]
    }
   ],
   "source": [
    "ph = 2\n",
    "if ph < 7.0:\n",
    "    print(ph, ' is acidic')\n",
    "elif ph < 3.0:\n",
    "    print(ph, ' is VERY acidic! Be careful.')"
   ]
  },
  {
   "cell_type": "code",
   "execution_count": 31,
   "id": "7bdebac9",
   "metadata": {},
   "outputs": [
    {
     "name": "stdout",
     "output_type": "stream",
     "text": [
      "2  is VERY acidic! Be careful.\n"
     ]
    }
   ],
   "source": [
    "if ph < 3.0:\n",
    "    print(ph, ' is VERY acidic! Be careful.')\n",
    "elif ph < 7.0:\n",
    "    print(ph, ' is acidic')\n"
   ]
  },
  {
   "cell_type": "code",
   "execution_count": 33,
   "id": "00521037",
   "metadata": {},
   "outputs": [
    {
     "name": "stdout",
     "output_type": "stream",
     "text": [
      "Enter first integer: 12\n",
      "Enter second integer: 9\n",
      "Enter third integer: 30\n",
      "12\n",
      "9\n",
      "9\n",
      "Minimum value is 9\n"
     ]
    }
   ],
   "source": [
    "number1 = int(input('Enter first integer: '))\n",
    "number2 = int(input('Enter second integer: '))\n",
    "number3 = int(input('Enter third integer: '))\n",
    "\n",
    "minimum = number1  \n",
    "print(minimum)\n",
    "\n",
    "if number2 < minimum:\n",
    "    minimum = number2\n",
    "    \n",
    "print(minimum)\n",
    "\n",
    "if number3 < minimum:\n",
    "    minimum = number3\n",
    "    \n",
    "print(minimum)\n",
    "\n",
    "print('Minimum value is', minimum)"
   ]
  },
  {
   "cell_type": "code",
   "execution_count": 35,
   "id": "88c033ec",
   "metadata": {},
   "outputs": [],
   "source": [
    "x = 'line1\\nline2'\n",
    "\n",
    "with open('test3.txt', 'w') as file:\n",
    "    file.write(x)\n",
    "    \n",
    "    "
   ]
  },
  {
   "cell_type": "code",
   "execution_count": 36,
   "id": "3e2eb550",
   "metadata": {},
   "outputs": [],
   "source": [
    "with open('test3.txt', 'r') as file:\n",
    "    data = file.read()\n",
    "    "
   ]
  },
  {
   "cell_type": "code",
   "execution_count": 37,
   "id": "615257e6",
   "metadata": {},
   "outputs": [
    {
     "data": {
      "text/plain": [
       "str"
      ]
     },
     "execution_count": 37,
     "metadata": {},
     "output_type": "execute_result"
    }
   ],
   "source": [
    "type(data)"
   ]
  },
  {
   "cell_type": "code",
   "execution_count": 38,
   "id": "aad315f3",
   "metadata": {},
   "outputs": [],
   "source": [
    "with open('test3.txt', 'r') as file:\n",
    "    data = file.readlines()\n",
    "    "
   ]
  },
  {
   "cell_type": "code",
   "execution_count": 39,
   "id": "9069d90b",
   "metadata": {},
   "outputs": [
    {
     "data": {
      "text/plain": [
       "list"
      ]
     },
     "execution_count": 39,
     "metadata": {},
     "output_type": "execute_result"
    }
   ],
   "source": [
    "type(data)"
   ]
  },
  {
   "cell_type": "code",
   "execution_count": 40,
   "id": "3c461ef5",
   "metadata": {},
   "outputs": [
    {
     "data": {
      "text/plain": [
       "'line1\\n'"
      ]
     },
     "execution_count": 40,
     "metadata": {},
     "output_type": "execute_result"
    }
   ],
   "source": [
    "data[0]"
   ]
  },
  {
   "cell_type": "code",
   "execution_count": 41,
   "id": "44f9081a",
   "metadata": {},
   "outputs": [
    {
     "data": {
      "text/plain": [
       "'line2'"
      ]
     },
     "execution_count": 41,
     "metadata": {},
     "output_type": "execute_result"
    }
   ],
   "source": [
    "data[1]"
   ]
  },
  {
   "cell_type": "code",
   "execution_count": 42,
   "id": "bbf083e3",
   "metadata": {},
   "outputs": [],
   "source": [
    "line1 = data[0]"
   ]
  },
  {
   "cell_type": "code",
   "execution_count": 43,
   "id": "e887716f",
   "metadata": {},
   "outputs": [
    {
     "data": {
      "text/plain": [
       "'line1\\n'"
      ]
     },
     "execution_count": 43,
     "metadata": {},
     "output_type": "execute_result"
    }
   ],
   "source": [
    "line1"
   ]
  },
  {
   "cell_type": "code",
   "execution_count": 45,
   "id": "9e407844",
   "metadata": {},
   "outputs": [
    {
     "data": {
      "text/plain": [
       "'i'"
      ]
     },
     "execution_count": 45,
     "metadata": {},
     "output_type": "execute_result"
    }
   ],
   "source": [
    "line1[1]"
   ]
  },
  {
   "cell_type": "code",
   "execution_count": 46,
   "id": "0ea84a54",
   "metadata": {},
   "outputs": [
    {
     "name": "stdout",
     "output_type": "stream",
     "text": [
      "Please enter a number: 10\n",
      "The number is even\n"
     ]
    }
   ],
   "source": [
    "number = int(input('Please enter a number: '))\n",
    "\n",
    "if number == 0:\n",
    "    print('The number is even')\n",
    "elif number % 2 == 0:\n",
    "    print('The number is even')\n",
    "else: \n",
    "    print('The number is odd')"
   ]
  },
  {
   "cell_type": "code",
   "execution_count": 47,
   "id": "c7039bca",
   "metadata": {},
   "outputs": [],
   "source": [
    "whales = [5, 4, 7, 3, 2, 3, 2, 6, 4, 2, 1, 7, 1, 3]"
   ]
  },
  {
   "cell_type": "code",
   "execution_count": 48,
   "id": "e0337aae",
   "metadata": {},
   "outputs": [
    {
     "data": {
      "text/plain": [
       "5"
      ]
     },
     "execution_count": 48,
     "metadata": {},
     "output_type": "execute_result"
    }
   ],
   "source": [
    "whales[0]"
   ]
  },
  {
   "cell_type": "code",
   "execution_count": 49,
   "id": "9263ad82",
   "metadata": {},
   "outputs": [
    {
     "data": {
      "text/plain": [
       "4"
      ]
     },
     "execution_count": 49,
     "metadata": {},
     "output_type": "execute_result"
    }
   ],
   "source": [
    "whales[8]"
   ]
  },
  {
   "cell_type": "code",
   "execution_count": 50,
   "id": "ed6de9d7",
   "metadata": {},
   "outputs": [],
   "source": [
    "grades = ['A', 'B', 'C', 'D', 'F']"
   ]
  },
  {
   "cell_type": "code",
   "execution_count": 51,
   "id": "68c9c6ea",
   "metadata": {},
   "outputs": [
    {
     "data": {
      "text/plain": [
       "['A', 'B', 'C', 'D', 'F']"
      ]
     },
     "execution_count": 51,
     "metadata": {},
     "output_type": "execute_result"
    }
   ],
   "source": [
    "grades"
   ]
  },
  {
   "cell_type": "code",
   "execution_count": 52,
   "id": "0f68b881",
   "metadata": {},
   "outputs": [],
   "source": [
    "course_no = ['E', 'A', 'S', 5, 0, 3]"
   ]
  },
  {
   "cell_type": "code",
   "execution_count": 53,
   "id": "e26d90f9",
   "metadata": {},
   "outputs": [
    {
     "data": {
      "text/plain": [
       "['A', 'B', 'C', 'D', 'F']"
      ]
     },
     "execution_count": 53,
     "metadata": {},
     "output_type": "execute_result"
    }
   ],
   "source": [
    "grades"
   ]
  },
  {
   "cell_type": "code",
   "execution_count": 55,
   "id": "c58dd7b2",
   "metadata": {},
   "outputs": [
    {
     "data": {
      "text/plain": [
       "['C', 'D']"
      ]
     },
     "execution_count": 55,
     "metadata": {},
     "output_type": "execute_result"
    }
   ],
   "source": [
    "grades[2:4] # [ start_index: stop_index )"
   ]
  },
  {
   "cell_type": "code",
   "execution_count": 56,
   "id": "b29d4337",
   "metadata": {},
   "outputs": [
    {
     "data": {
      "text/plain": [
       "['B', 'D']"
      ]
     },
     "execution_count": 56,
     "metadata": {},
     "output_type": "execute_result"
    }
   ],
   "source": [
    "grades[1::2] # [ start_index: stop_index (default: end of list): step_size (default==1))"
   ]
  },
  {
   "cell_type": "code",
   "execution_count": 58,
   "id": "c7efaa7a",
   "metadata": {},
   "outputs": [
    {
     "data": {
      "text/plain": [
       "['B', 'F']"
      ]
     },
     "execution_count": 58,
     "metadata": {},
     "output_type": "execute_result"
    }
   ],
   "source": [
    "grades[1::3]"
   ]
  },
  {
   "cell_type": "code",
   "execution_count": 59,
   "id": "a96af1e4",
   "metadata": {},
   "outputs": [
    {
     "data": {
      "text/plain": [
       "'F'"
      ]
     },
     "execution_count": 59,
     "metadata": {},
     "output_type": "execute_result"
    }
   ],
   "source": [
    "grades[-1]"
   ]
  },
  {
   "cell_type": "code",
   "execution_count": 60,
   "id": "4e2e8cfd",
   "metadata": {},
   "outputs": [
    {
     "data": {
      "text/plain": [
       "['F', 'D', 'C', 'B', 'A']"
      ]
     },
     "execution_count": 60,
     "metadata": {},
     "output_type": "execute_result"
    }
   ],
   "source": [
    "grades[::-1]"
   ]
  },
  {
   "cell_type": "code",
   "execution_count": 75,
   "id": "2051adfa",
   "metadata": {},
   "outputs": [],
   "source": [
    "grades = ['A', 'B', 'C', 'D', 'F']"
   ]
  },
  {
   "cell_type": "code",
   "execution_count": 62,
   "id": "733d5737",
   "metadata": {},
   "outputs": [],
   "source": [
    "grades[0] = 'a'"
   ]
  },
  {
   "cell_type": "code",
   "execution_count": 64,
   "id": "35e3621e",
   "metadata": {},
   "outputs": [
    {
     "data": {
      "text/plain": [
       "['a', 'B', 'C', 'D', 'F']"
      ]
     },
     "execution_count": 64,
     "metadata": {},
     "output_type": "execute_result"
    }
   ],
   "source": [
    "grades"
   ]
  },
  {
   "cell_type": "code",
   "execution_count": 76,
   "id": "3114babb",
   "metadata": {},
   "outputs": [
    {
     "name": "stdout",
     "output_type": "stream",
     "text": [
      "['A', 'B', 'C', 'D', 'F']\n",
      "['A', 'a', 'F']\n"
     ]
    }
   ],
   "source": [
    "grades = ['A', 'B', 'C', 'D', 'F']\n",
    "print(grades)\n",
    "grades[1:4] = 'a'\n",
    "print(grades)"
   ]
  },
  {
   "cell_type": "code",
   "execution_count": 73,
   "id": "ccf2add8",
   "metadata": {},
   "outputs": [
    {
     "data": {
      "text/plain": [
       "['A', 'a', 'F']"
      ]
     },
     "execution_count": 73,
     "metadata": {},
     "output_type": "execute_result"
    }
   ],
   "source": [
    "grades"
   ]
  },
  {
   "cell_type": "code",
   "execution_count": 77,
   "id": "8ccbcf61",
   "metadata": {},
   "outputs": [
    {
     "data": {
      "text/plain": [
       "['A', 'a', 'a', 'a', 'F']"
      ]
     },
     "execution_count": 77,
     "metadata": {},
     "output_type": "execute_result"
    }
   ],
   "source": [
    "['A', 'a', 'a', 'a', 'F']"
   ]
  },
  {
   "cell_type": "code",
   "execution_count": 78,
   "id": "03c914a4",
   "metadata": {},
   "outputs": [],
   "source": [
    "grades[2:] = ['d', 'f']"
   ]
  },
  {
   "cell_type": "code",
   "execution_count": 79,
   "id": "0bca0d9c",
   "metadata": {},
   "outputs": [
    {
     "data": {
      "text/plain": [
       "['A', 'a', 'd', 'f']"
      ]
     },
     "execution_count": 79,
     "metadata": {},
     "output_type": "execute_result"
    }
   ],
   "source": [
    "grades"
   ]
  },
  {
   "cell_type": "code",
   "execution_count": 80,
   "id": "17473b7c",
   "metadata": {},
   "outputs": [],
   "source": [
    "grades = ['A', 'B', 'C', 'D', 'F']"
   ]
  },
  {
   "cell_type": "code",
   "execution_count": 81,
   "id": "dc0dcd09",
   "metadata": {},
   "outputs": [],
   "source": [
    "del grades[0]"
   ]
  },
  {
   "cell_type": "code",
   "execution_count": 82,
   "id": "84fe99de",
   "metadata": {},
   "outputs": [
    {
     "data": {
      "text/plain": [
       "['B', 'C', 'D', 'F']"
      ]
     },
     "execution_count": 82,
     "metadata": {},
     "output_type": "execute_result"
    }
   ],
   "source": [
    "grades"
   ]
  },
  {
   "cell_type": "code",
   "execution_count": 83,
   "id": "74fdd268",
   "metadata": {},
   "outputs": [],
   "source": [
    "del grades[1:3]"
   ]
  },
  {
   "cell_type": "code",
   "execution_count": 84,
   "id": "33e35bd0",
   "metadata": {},
   "outputs": [
    {
     "data": {
      "text/plain": [
       "['B', 'F']"
      ]
     },
     "execution_count": 84,
     "metadata": {},
     "output_type": "execute_result"
    }
   ],
   "source": [
    "grades"
   ]
  },
  {
   "cell_type": "code",
   "execution_count": 85,
   "id": "5f8c556a",
   "metadata": {},
   "outputs": [],
   "source": [
    "del grades"
   ]
  },
  {
   "cell_type": "code",
   "execution_count": 87,
   "id": "874320de",
   "metadata": {},
   "outputs": [],
   "source": [
    "grades1 = ['A', 'B', 'C']\n",
    "grades2 = ['D', 'F']\n",
    "grades = grades1 + grades2"
   ]
  },
  {
   "cell_type": "code",
   "execution_count": 88,
   "id": "70a2015c",
   "metadata": {},
   "outputs": [
    {
     "data": {
      "text/plain": [
       "['A', 'B', 'C', 'D', 'F']"
      ]
     },
     "execution_count": 88,
     "metadata": {},
     "output_type": "execute_result"
    }
   ],
   "source": [
    "grades"
   ]
  },
  {
   "cell_type": "code",
   "execution_count": 89,
   "id": "7900190f",
   "metadata": {},
   "outputs": [],
   "source": [
    "grades = ['A', 'B', 'C', 'D', 'F']\n",
    "grades *= 3\n"
   ]
  },
  {
   "cell_type": "code",
   "execution_count": 90,
   "id": "e82613fb",
   "metadata": {},
   "outputs": [
    {
     "data": {
      "text/plain": [
       "['A', 'B', 'C', 'D', 'F', 'A', 'B', 'C', 'D', 'F', 'A', 'B', 'C', 'D', 'F']"
      ]
     },
     "execution_count": 90,
     "metadata": {},
     "output_type": "execute_result"
    }
   ],
   "source": [
    "grades"
   ]
  },
  {
   "cell_type": "code",
   "execution_count": 91,
   "id": "4de08038",
   "metadata": {},
   "outputs": [],
   "source": [
    "my_list = ['A', 1, 'Spam', True]"
   ]
  },
  {
   "cell_type": "code",
   "execution_count": 92,
   "id": "4c12cd72",
   "metadata": {},
   "outputs": [
    {
     "data": {
      "text/plain": [
       "['A', 1, 'Spam', True]"
      ]
     },
     "execution_count": 92,
     "metadata": {},
     "output_type": "execute_result"
    }
   ],
   "source": [
    "my_list"
   ]
  },
  {
   "cell_type": "code",
   "execution_count": 94,
   "id": "f003bf83",
   "metadata": {},
   "outputs": [],
   "source": [
    "my_list2 = [['John', [55, 65, 86]], ['Jane', [70, 80, 80]]]"
   ]
  },
  {
   "cell_type": "code",
   "execution_count": 95,
   "id": "24fbab75",
   "metadata": {},
   "outputs": [
    {
     "data": {
      "text/plain": [
       "[['John', [55, 65, 86]], ['Jane', [70, 80, 80]]]"
      ]
     },
     "execution_count": 95,
     "metadata": {},
     "output_type": "execute_result"
    }
   ],
   "source": [
    "my_list2"
   ]
  },
  {
   "cell_type": "code",
   "execution_count": 99,
   "id": "9b45f423",
   "metadata": {},
   "outputs": [
    {
     "data": {
      "text/plain": [
       "65"
      ]
     },
     "execution_count": 99,
     "metadata": {},
     "output_type": "execute_result"
    }
   ],
   "source": [
    "my_list2[0][1][1]"
   ]
  },
  {
   "cell_type": "code",
   "execution_count": 100,
   "id": "d4ef9d24",
   "metadata": {},
   "outputs": [
    {
     "data": {
      "text/plain": [
       "'o'"
      ]
     },
     "execution_count": 100,
     "metadata": {},
     "output_type": "execute_result"
    }
   ],
   "source": [
    "my_list2[0][0][1]"
   ]
  },
  {
   "cell_type": "code",
   "execution_count": 101,
   "id": "dce0aa6d",
   "metadata": {},
   "outputs": [
    {
     "ename": "IndexError",
     "evalue": "list index out of range",
     "output_type": "error",
     "traceback": [
      "\u001b[1;31m---------------------------------------------------------------------------\u001b[0m",
      "\u001b[1;31mIndexError\u001b[0m                                Traceback (most recent call last)",
      "\u001b[1;32m~\\AppData\\Local\\Temp/ipykernel_6256/3884749232.py\u001b[0m in \u001b[0;36m<module>\u001b[1;34m\u001b[0m\n\u001b[1;32m----> 1\u001b[1;33m \u001b[0mmy_list\u001b[0m\u001b[1;33m[\u001b[0m\u001b[1;36m10\u001b[0m\u001b[1;33m]\u001b[0m\u001b[1;33m\u001b[0m\u001b[1;33m\u001b[0m\u001b[0m\n\u001b[0m",
      "\u001b[1;31mIndexError\u001b[0m: list index out of range"
     ]
    }
   ],
   "source": [
    "my_list[10]"
   ]
  },
  {
   "cell_type": "code",
   "execution_count": 102,
   "id": "fa943f47",
   "metadata": {},
   "outputs": [
    {
     "data": {
      "text/plain": [
       "2"
      ]
     },
     "execution_count": 102,
     "metadata": {},
     "output_type": "execute_result"
    }
   ],
   "source": [
    "len(my_list2)"
   ]
  },
  {
   "cell_type": "code",
   "execution_count": 103,
   "id": "cd0a738d",
   "metadata": {},
   "outputs": [
    {
     "data": {
      "text/plain": [
       "['John', [55, 65, 86]]"
      ]
     },
     "execution_count": 103,
     "metadata": {},
     "output_type": "execute_result"
    }
   ],
   "source": [
    "max(my_list2)"
   ]
  },
  {
   "cell_type": "code",
   "execution_count": null,
   "id": "3a00473a",
   "metadata": {},
   "outputs": [],
   "source": []
  },
  {
   "cell_type": "code",
   "execution_count": 108,
   "id": "5c73d672",
   "metadata": {},
   "outputs": [],
   "source": [
    "my_list2 = [['John', [55, 65, 86]], ['Jane', [70, 80, 80]], ['Zapple', [33, 44, 55]]]"
   ]
  },
  {
   "cell_type": "code",
   "execution_count": 109,
   "id": "c21b33e7",
   "metadata": {},
   "outputs": [
    {
     "data": {
      "text/plain": [
       "['Zapple', [33, 44, 55]]"
      ]
     },
     "execution_count": 109,
     "metadata": {},
     "output_type": "execute_result"
    }
   ],
   "source": [
    "max(my_list2)"
   ]
  },
  {
   "cell_type": "code",
   "execution_count": null,
   "id": "ca101819",
   "metadata": {},
   "outputs": [],
   "source": []
  },
  {
   "cell_type": "code",
   "execution_count": 110,
   "id": "331d72e3",
   "metadata": {},
   "outputs": [
    {
     "data": {
      "text/plain": [
       "'Zapple'"
      ]
     },
     "execution_count": 110,
     "metadata": {},
     "output_type": "execute_result"
    }
   ],
   "source": [
    "max(['John', 'Jane', 'Zapple'])"
   ]
  },
  {
   "cell_type": "code",
   "execution_count": 111,
   "id": "c1f95080",
   "metadata": {},
   "outputs": [],
   "source": [
    "my_list = ['A', 1, 'Spam', True]"
   ]
  },
  {
   "cell_type": "code",
   "execution_count": 112,
   "id": "700f0bd6",
   "metadata": {},
   "outputs": [
    {
     "ename": "TypeError",
     "evalue": "'>' not supported between instances of 'int' and 'str'",
     "output_type": "error",
     "traceback": [
      "\u001b[1;31m---------------------------------------------------------------------------\u001b[0m",
      "\u001b[1;31mTypeError\u001b[0m                                 Traceback (most recent call last)",
      "\u001b[1;32m~\\AppData\\Local\\Temp/ipykernel_6256/4005973902.py\u001b[0m in \u001b[0;36m<module>\u001b[1;34m\u001b[0m\n\u001b[1;32m----> 1\u001b[1;33m \u001b[0mmax\u001b[0m\u001b[1;33m(\u001b[0m\u001b[0mmy_list\u001b[0m\u001b[1;33m)\u001b[0m\u001b[1;33m\u001b[0m\u001b[1;33m\u001b[0m\u001b[0m\n\u001b[0m",
      "\u001b[1;31mTypeError\u001b[0m: '>' not supported between instances of 'int' and 'str'"
     ]
    }
   ],
   "source": [
    "max(my_list)"
   ]
  },
  {
   "cell_type": "code",
   "execution_count": 113,
   "id": "3bc3b95b",
   "metadata": {},
   "outputs": [],
   "source": [
    "my_list2 = [['John', [55, 65, 86]], ['Jane', [70, 80, 80]], [[33, 44, 55], 'Zapple']]"
   ]
  },
  {
   "cell_type": "code",
   "execution_count": 114,
   "id": "f94f96f1",
   "metadata": {},
   "outputs": [
    {
     "ename": "TypeError",
     "evalue": "'>' not supported between instances of 'list' and 'str'",
     "output_type": "error",
     "traceback": [
      "\u001b[1;31m---------------------------------------------------------------------------\u001b[0m",
      "\u001b[1;31mTypeError\u001b[0m                                 Traceback (most recent call last)",
      "\u001b[1;32m~\\AppData\\Local\\Temp/ipykernel_6256/2993688689.py\u001b[0m in \u001b[0;36m<module>\u001b[1;34m\u001b[0m\n\u001b[1;32m----> 1\u001b[1;33m \u001b[0mmax\u001b[0m\u001b[1;33m(\u001b[0m\u001b[0mmy_list2\u001b[0m\u001b[1;33m)\u001b[0m\u001b[1;33m\u001b[0m\u001b[1;33m\u001b[0m\u001b[0m\n\u001b[0m",
      "\u001b[1;31mTypeError\u001b[0m: '>' not supported between instances of 'list' and 'str'"
     ]
    }
   ],
   "source": [
    "max(my_list2)"
   ]
  },
  {
   "cell_type": "code",
   "execution_count": 115,
   "id": "c0034028",
   "metadata": {},
   "outputs": [
    {
     "data": {
      "text/plain": [
       "7"
      ]
     },
     "execution_count": 115,
     "metadata": {},
     "output_type": "execute_result"
    }
   ],
   "source": [
    "max(whales)"
   ]
  },
  {
   "cell_type": "code",
   "execution_count": 116,
   "id": "7dfc8972",
   "metadata": {},
   "outputs": [
    {
     "ename": "TypeError",
     "evalue": "unsupported operand type(s) for +: 'int' and 'list'",
     "output_type": "error",
     "traceback": [
      "\u001b[1;31m---------------------------------------------------------------------------\u001b[0m",
      "\u001b[1;31mTypeError\u001b[0m                                 Traceback (most recent call last)",
      "\u001b[1;32m~\\AppData\\Local\\Temp/ipykernel_6256/1137855509.py\u001b[0m in \u001b[0;36m<module>\u001b[1;34m\u001b[0m\n\u001b[1;32m----> 1\u001b[1;33m \u001b[0msum\u001b[0m\u001b[1;33m(\u001b[0m\u001b[0mmy_list2\u001b[0m\u001b[1;33m)\u001b[0m\u001b[1;33m\u001b[0m\u001b[1;33m\u001b[0m\u001b[0m\n\u001b[0m",
      "\u001b[1;31mTypeError\u001b[0m: unsupported operand type(s) for +: 'int' and 'list'"
     ]
    }
   ],
   "source": [
    "sum(my_list2)"
   ]
  },
  {
   "cell_type": "code",
   "execution_count": 121,
   "id": "0c16a9fe",
   "metadata": {},
   "outputs": [],
   "source": [
    "my_list2 = [['John', [55, 65, 86]], ['Jane', [70, 80, 80]], ['Zapple', [33, 44, 55]]]"
   ]
  },
  {
   "cell_type": "code",
   "execution_count": 122,
   "id": "6a8f0803",
   "metadata": {},
   "outputs": [
    {
     "ename": "TypeError",
     "evalue": "unsupported operand type(s) for +: 'int' and 'list'",
     "output_type": "error",
     "traceback": [
      "\u001b[1;31m---------------------------------------------------------------------------\u001b[0m",
      "\u001b[1;31mTypeError\u001b[0m                                 Traceback (most recent call last)",
      "\u001b[1;32m~\\AppData\\Local\\Temp/ipykernel_6256/1137855509.py\u001b[0m in \u001b[0;36m<module>\u001b[1;34m\u001b[0m\n\u001b[1;32m----> 1\u001b[1;33m \u001b[0msum\u001b[0m\u001b[1;33m(\u001b[0m\u001b[0mmy_list2\u001b[0m\u001b[1;33m)\u001b[0m\u001b[1;33m\u001b[0m\u001b[1;33m\u001b[0m\u001b[0m\n\u001b[0m",
      "\u001b[1;31mTypeError\u001b[0m: unsupported operand type(s) for +: 'int' and 'list'"
     ]
    }
   ],
   "source": [
    "sum(my_list2)"
   ]
  },
  {
   "cell_type": "code",
   "execution_count": 123,
   "id": "eb0cba6f",
   "metadata": {},
   "outputs": [
    {
     "data": {
      "text/plain": [
       "[5, 4, 7, 3, 2, 3, 2, 6, 4, 2, 1, 7, 1, 3]"
      ]
     },
     "execution_count": 123,
     "metadata": {},
     "output_type": "execute_result"
    }
   ],
   "source": [
    "whales"
   ]
  },
  {
   "cell_type": "code",
   "execution_count": 124,
   "id": "6c3a66bc",
   "metadata": {},
   "outputs": [
    {
     "data": {
      "text/plain": [
       "50"
      ]
     },
     "execution_count": 124,
     "metadata": {},
     "output_type": "execute_result"
    }
   ],
   "source": [
    "sum(whales)"
   ]
  },
  {
   "cell_type": "code",
   "execution_count": 126,
   "id": "8b86d56e",
   "metadata": {},
   "outputs": [],
   "source": [
    "new_list = sorted(whales)"
   ]
  },
  {
   "cell_type": "code",
   "execution_count": 127,
   "id": "f91bb7c0",
   "metadata": {},
   "outputs": [
    {
     "name": "stdout",
     "output_type": "stream",
     "text": [
      "[1, 1, 2, 2, 2, 3, 3, 3, 4, 4, 5, 6, 7, 7] [5, 4, 7, 3, 2, 3, 2, 6, 4, 2, 1, 7, 1, 3]\n"
     ]
    }
   ],
   "source": [
    "print(new_list, whales)"
   ]
  },
  {
   "cell_type": "code",
   "execution_count": 130,
   "id": "e14310b1",
   "metadata": {},
   "outputs": [],
   "source": [
    "whales.sort()"
   ]
  },
  {
   "cell_type": "code",
   "execution_count": 131,
   "id": "de184430",
   "metadata": {},
   "outputs": [
    {
     "data": {
      "text/plain": [
       "[1, 1, 2, 2, 2, 3, 3, 3, 4, 4, 5, 6, 7, 7]"
      ]
     },
     "execution_count": 131,
     "metadata": {},
     "output_type": "execute_result"
    }
   ],
   "source": [
    "whales"
   ]
  },
  {
   "cell_type": "code",
   "execution_count": 132,
   "id": "01f50877",
   "metadata": {},
   "outputs": [],
   "source": [
    "x = (1, 2, 3)"
   ]
  },
  {
   "cell_type": "code",
   "execution_count": 133,
   "id": "8ab671a9",
   "metadata": {},
   "outputs": [
    {
     "data": {
      "text/plain": [
       "tuple"
      ]
     },
     "execution_count": 133,
     "metadata": {},
     "output_type": "execute_result"
    }
   ],
   "source": [
    "type(x)"
   ]
  },
  {
   "cell_type": "code",
   "execution_count": 134,
   "id": "5c0f2aa0",
   "metadata": {},
   "outputs": [
    {
     "data": {
      "text/plain": [
       "1"
      ]
     },
     "execution_count": 134,
     "metadata": {},
     "output_type": "execute_result"
    }
   ],
   "source": [
    "x[0]"
   ]
  },
  {
   "cell_type": "code",
   "execution_count": 135,
   "id": "2ccb12b1",
   "metadata": {},
   "outputs": [
    {
     "ename": "TypeError",
     "evalue": "'tuple' object does not support item assignment",
     "output_type": "error",
     "traceback": [
      "\u001b[1;31m---------------------------------------------------------------------------\u001b[0m",
      "\u001b[1;31mTypeError\u001b[0m                                 Traceback (most recent call last)",
      "\u001b[1;32m~\\AppData\\Local\\Temp/ipykernel_6256/1411393610.py\u001b[0m in \u001b[0;36m<module>\u001b[1;34m\u001b[0m\n\u001b[1;32m----> 1\u001b[1;33m \u001b[0mx\u001b[0m\u001b[1;33m[\u001b[0m\u001b[1;36m0\u001b[0m\u001b[1;33m]\u001b[0m \u001b[1;33m=\u001b[0m \u001b[1;36m3\u001b[0m\u001b[1;33m\u001b[0m\u001b[1;33m\u001b[0m\u001b[0m\n\u001b[0m",
      "\u001b[1;31mTypeError\u001b[0m: 'tuple' object does not support item assignment"
     ]
    }
   ],
   "source": [
    "x[0] = 3"
   ]
  },
  {
   "cell_type": "code",
   "execution_count": 136,
   "id": "88b3dbc6",
   "metadata": {},
   "outputs": [],
   "source": [
    "y = list(x)"
   ]
  },
  {
   "cell_type": "code",
   "execution_count": 138,
   "id": "0c65040a",
   "metadata": {},
   "outputs": [
    {
     "name": "stdout",
     "output_type": "stream",
     "text": [
      "[1, 54, 3]\n"
     ]
    }
   ],
   "source": [
    "y[1] = 54\n",
    "print(y)"
   ]
  },
  {
   "cell_type": "code",
   "execution_count": 143,
   "id": "660ef257",
   "metadata": {},
   "outputs": [],
   "source": [
    "f_list = ['', 0, 0.0, [], (), False, None]"
   ]
  },
  {
   "cell_type": "code",
   "execution_count": 144,
   "id": "f398fc08",
   "metadata": {},
   "outputs": [
    {
     "data": {
      "text/plain": [
       "False"
      ]
     },
     "execution_count": 144,
     "metadata": {},
     "output_type": "execute_result"
    }
   ],
   "source": [
    "any(f_list)"
   ]
  },
  {
   "cell_type": "code",
   "execution_count": 141,
   "id": "30c4e3a8",
   "metadata": {},
   "outputs": [],
   "source": [
    "f_list2 = ['', 0, 0.0, [], (), 90]"
   ]
  },
  {
   "cell_type": "code",
   "execution_count": 142,
   "id": "4a579f71",
   "metadata": {},
   "outputs": [
    {
     "data": {
      "text/plain": [
       "True"
      ]
     },
     "execution_count": 142,
     "metadata": {},
     "output_type": "execute_result"
    }
   ],
   "source": [
    "any(f_list2)"
   ]
  },
  {
   "cell_type": "code",
   "execution_count": 145,
   "id": "fa7e8d86",
   "metadata": {},
   "outputs": [],
   "source": [
    "t_list = [1, True, [1,3,3]]"
   ]
  },
  {
   "cell_type": "code",
   "execution_count": 146,
   "id": "cc229d6b",
   "metadata": {},
   "outputs": [
    {
     "data": {
      "text/plain": [
       "True"
      ]
     },
     "execution_count": 146,
     "metadata": {},
     "output_type": "execute_result"
    }
   ],
   "source": [
    "any(t_list)"
   ]
  },
  {
   "cell_type": "code",
   "execution_count": 147,
   "id": "39488276",
   "metadata": {},
   "outputs": [
    {
     "data": {
      "text/plain": [
       "True"
      ]
     },
     "execution_count": 147,
     "metadata": {},
     "output_type": "execute_result"
    }
   ],
   "source": [
    "all(t_list)"
   ]
  },
  {
   "cell_type": "code",
   "execution_count": 148,
   "id": "413db1dc",
   "metadata": {},
   "outputs": [
    {
     "data": {
      "text/plain": [
       "False"
      ]
     },
     "execution_count": 148,
     "metadata": {},
     "output_type": "execute_result"
    }
   ],
   "source": [
    "t_list = [1, False, [1,3,3]]\n",
    "all(t_list)"
   ]
  },
  {
   "cell_type": "code",
   "execution_count": null,
   "id": "d348e803",
   "metadata": {},
   "outputs": [],
   "source": [
    "grades.append('D')\n",
    "grades.insert(4, 'F')\n",
    "grades.remove(2)\n",
    "grades.pop()\n",
    "grades.index('C')\n",
    "grades.count() # len(grades)\n",
    "grades.sort()\n",
    "grades.reverse()"
   ]
  },
  {
   "cell_type": "code",
   "execution_count": 149,
   "id": "6bd1212b",
   "metadata": {},
   "outputs": [],
   "source": [
    "grades = ['A', 'B', 'C']\n"
   ]
  },
  {
   "cell_type": "code",
   "execution_count": 150,
   "id": "b9bad5ff",
   "metadata": {},
   "outputs": [],
   "source": [
    "grades.insert(4, 'F')"
   ]
  },
  {
   "cell_type": "code",
   "execution_count": 151,
   "id": "2a880ad5",
   "metadata": {},
   "outputs": [
    {
     "data": {
      "text/plain": [
       "['A', 'B', 'C', 'F']"
      ]
     },
     "execution_count": 151,
     "metadata": {},
     "output_type": "execute_result"
    }
   ],
   "source": [
    "grades"
   ]
  },
  {
   "cell_type": "code",
   "execution_count": 152,
   "id": "b5f02b4b",
   "metadata": {},
   "outputs": [],
   "source": [
    "grades.insert(40, 'F')"
   ]
  },
  {
   "cell_type": "code",
   "execution_count": 153,
   "id": "ab3d1a98",
   "metadata": {},
   "outputs": [
    {
     "data": {
      "text/plain": [
       "['A', 'B', 'C', 'F', 'F']"
      ]
     },
     "execution_count": 153,
     "metadata": {},
     "output_type": "execute_result"
    }
   ],
   "source": [
    "grades"
   ]
  },
  {
   "cell_type": "code",
   "execution_count": 154,
   "id": "18d6f7d4",
   "metadata": {},
   "outputs": [],
   "source": [
    "grades.insert(1, 'FF')"
   ]
  },
  {
   "cell_type": "code",
   "execution_count": 155,
   "id": "5a138dc0",
   "metadata": {},
   "outputs": [
    {
     "data": {
      "text/plain": [
       "['A', 'FF', 'B', 'C', 'F', 'F']"
      ]
     },
     "execution_count": 155,
     "metadata": {},
     "output_type": "execute_result"
    }
   ],
   "source": [
    "grades"
   ]
  },
  {
   "cell_type": "code",
   "execution_count": 156,
   "id": "eb8da860",
   "metadata": {},
   "outputs": [],
   "source": [
    "grades.append('In place')"
   ]
  },
  {
   "cell_type": "code",
   "execution_count": 157,
   "id": "f50c9399",
   "metadata": {},
   "outputs": [
    {
     "data": {
      "text/plain": [
       "['A', 'FF', 'B', 'C', 'F', 'F', 'In place']"
      ]
     },
     "execution_count": 157,
     "metadata": {},
     "output_type": "execute_result"
    }
   ],
   "source": [
    "grades"
   ]
  },
  {
   "cell_type": "code",
   "execution_count": 158,
   "id": "23361e41",
   "metadata": {},
   "outputs": [],
   "source": [
    "grades.remove('A')"
   ]
  },
  {
   "cell_type": "code",
   "execution_count": 159,
   "id": "3c131d61",
   "metadata": {},
   "outputs": [
    {
     "data": {
      "text/plain": [
       "['FF', 'B', 'C', 'F', 'F', 'In place']"
      ]
     },
     "execution_count": 159,
     "metadata": {},
     "output_type": "execute_result"
    }
   ],
   "source": [
    "grades"
   ]
  },
  {
   "cell_type": "code",
   "execution_count": 160,
   "id": "bec12cc6",
   "metadata": {},
   "outputs": [],
   "source": [
    "grades.remove('F')"
   ]
  },
  {
   "cell_type": "code",
   "execution_count": 161,
   "id": "a6f33b11",
   "metadata": {},
   "outputs": [
    {
     "data": {
      "text/plain": [
       "['FF', 'B', 'C', 'F', 'In place']"
      ]
     },
     "execution_count": 161,
     "metadata": {},
     "output_type": "execute_result"
    }
   ],
   "source": [
    "grades"
   ]
  },
  {
   "cell_type": "code",
   "execution_count": 162,
   "id": "7d799f4d",
   "metadata": {},
   "outputs": [
    {
     "data": {
      "text/plain": [
       "'In place'"
      ]
     },
     "execution_count": 162,
     "metadata": {},
     "output_type": "execute_result"
    }
   ],
   "source": [
    "grades.pop()"
   ]
  },
  {
   "cell_type": "code",
   "execution_count": 163,
   "id": "f6a9beac",
   "metadata": {},
   "outputs": [
    {
     "data": {
      "text/plain": [
       "2"
      ]
     },
     "execution_count": 163,
     "metadata": {},
     "output_type": "execute_result"
    }
   ],
   "source": [
    "grades.index('C')"
   ]
  },
  {
   "cell_type": "code",
   "execution_count": 165,
   "id": "80967e28",
   "metadata": {},
   "outputs": [
    {
     "data": {
      "text/plain": [
       "1"
      ]
     },
     "execution_count": 165,
     "metadata": {},
     "output_type": "execute_result"
    }
   ],
   "source": [
    "grades.count('C')\n"
   ]
  },
  {
   "cell_type": "code",
   "execution_count": 166,
   "id": "6bb9914a",
   "metadata": {},
   "outputs": [],
   "source": [
    "grades.append('C')"
   ]
  },
  {
   "cell_type": "code",
   "execution_count": 167,
   "id": "98bf4157",
   "metadata": {},
   "outputs": [
    {
     "data": {
      "text/plain": [
       "2"
      ]
     },
     "execution_count": 167,
     "metadata": {},
     "output_type": "execute_result"
    }
   ],
   "source": [
    "grades.count('C')"
   ]
  },
  {
   "cell_type": "code",
   "execution_count": 168,
   "id": "ecc1ea67",
   "metadata": {},
   "outputs": [],
   "source": [
    "grades.sort()"
   ]
  },
  {
   "cell_type": "code",
   "execution_count": 169,
   "id": "2fb137f2",
   "metadata": {},
   "outputs": [
    {
     "data": {
      "text/plain": [
       "['B', 'C', 'C', 'F', 'FF']"
      ]
     },
     "execution_count": 169,
     "metadata": {},
     "output_type": "execute_result"
    }
   ],
   "source": [
    "grades"
   ]
  },
  {
   "cell_type": "code",
   "execution_count": 170,
   "id": "edee78c1",
   "metadata": {},
   "outputs": [],
   "source": [
    "grades.reverse()"
   ]
  },
  {
   "cell_type": "code",
   "execution_count": 171,
   "id": "b2471de0",
   "metadata": {},
   "outputs": [
    {
     "data": {
      "text/plain": [
       "['FF', 'F', 'C', 'C', 'B']"
      ]
     },
     "execution_count": 171,
     "metadata": {},
     "output_type": "execute_result"
    }
   ],
   "source": [
    "grades"
   ]
  },
  {
   "cell_type": "code",
   "execution_count": 172,
   "id": "25f0e243",
   "metadata": {},
   "outputs": [],
   "source": [
    "x = [1, 2, 3]\n",
    "y = [3, 4, 5]"
   ]
  },
  {
   "cell_type": "code",
   "execution_count": 173,
   "id": "1985e223",
   "metadata": {},
   "outputs": [
    {
     "data": {
      "text/plain": [
       "[1, 2, 3, 3, 4, 5]"
      ]
     },
     "execution_count": 173,
     "metadata": {},
     "output_type": "execute_result"
    }
   ],
   "source": [
    "x + y"
   ]
  },
  {
   "cell_type": "code",
   "execution_count": 174,
   "id": "aa4fbb1e",
   "metadata": {},
   "outputs": [],
   "source": [
    "x.extend(y)"
   ]
  },
  {
   "cell_type": "code",
   "execution_count": 175,
   "id": "59d11b4f",
   "metadata": {},
   "outputs": [
    {
     "data": {
      "text/plain": [
       "[1, 2, 3, 3, 4, 5]"
      ]
     },
     "execution_count": 175,
     "metadata": {},
     "output_type": "execute_result"
    }
   ],
   "source": [
    "x"
   ]
  },
  {
   "cell_type": "code",
   "execution_count": 176,
   "id": "4ed51b03",
   "metadata": {},
   "outputs": [],
   "source": [
    "x.append(y)"
   ]
  },
  {
   "cell_type": "code",
   "execution_count": 177,
   "id": "a6df7fda",
   "metadata": {},
   "outputs": [
    {
     "data": {
      "text/plain": [
       "[1, 2, 3, 3, 4, 5, [3, 4, 5]]"
      ]
     },
     "execution_count": 177,
     "metadata": {},
     "output_type": "execute_result"
    }
   ],
   "source": [
    "x"
   ]
  },
  {
   "cell_type": "code",
   "execution_count": 178,
   "id": "0d5f0b35",
   "metadata": {},
   "outputs": [],
   "source": [
    "x.extend('EAS503')"
   ]
  },
  {
   "cell_type": "code",
   "execution_count": 179,
   "id": "ff4b7809",
   "metadata": {},
   "outputs": [
    {
     "data": {
      "text/plain": [
       "[1, 2, 3, 3, 4, 5, [3, 4, 5], 'E', 'A', 'S', '5', '0', '3']"
      ]
     },
     "execution_count": 179,
     "metadata": {},
     "output_type": "execute_result"
    }
   ],
   "source": [
    "x"
   ]
  },
  {
   "cell_type": "code",
   "execution_count": 180,
   "id": "3e25c760",
   "metadata": {},
   "outputs": [],
   "source": [
    "a, b = [3,4]"
   ]
  },
  {
   "cell_type": "code",
   "execution_count": 181,
   "id": "1d186261",
   "metadata": {},
   "outputs": [
    {
     "name": "stdout",
     "output_type": "stream",
     "text": [
      "3 4\n"
     ]
    }
   ],
   "source": [
    "print(a, b)"
   ]
  },
  {
   "cell_type": "code",
   "execution_count": 182,
   "id": "fc748b3a",
   "metadata": {},
   "outputs": [],
   "source": [
    "def return_2values():\n",
    "    return 1, 2"
   ]
  },
  {
   "cell_type": "code",
   "execution_count": 183,
   "id": "c7f874dd",
   "metadata": {},
   "outputs": [
    {
     "name": "stdout",
     "output_type": "stream",
     "text": [
      "3 4\n"
     ]
    }
   ],
   "source": [
    "val1, val2 = return_2values()\n",
    "print(val1, val2)"
   ]
  },
  {
   "cell_type": "code",
   "execution_count": 184,
   "id": "203da8a9",
   "metadata": {},
   "outputs": [],
   "source": [
    "def return_2values():\n",
    "    return (1, 2)"
   ]
  },
  {
   "cell_type": "code",
   "execution_count": 185,
   "id": "89eb17e2",
   "metadata": {},
   "outputs": [
    {
     "name": "stdout",
     "output_type": "stream",
     "text": [
      "3 4\n"
     ]
    }
   ],
   "source": [
    "val1, val2 = return_2values()\n",
    "print(val1, val2)"
   ]
  },
  {
   "cell_type": "code",
   "execution_count": 186,
   "id": "dfc3dd69",
   "metadata": {},
   "outputs": [],
   "source": [
    "def return_2values():\n",
    "    return [1, 2]"
   ]
  },
  {
   "cell_type": "code",
   "execution_count": 187,
   "id": "f0ee875b",
   "metadata": {},
   "outputs": [
    {
     "name": "stdout",
     "output_type": "stream",
     "text": [
      "3 4\n"
     ]
    }
   ],
   "source": [
    "val1, val2 = return_2values()\n",
    "print(val1, val2)"
   ]
  },
  {
   "cell_type": "code",
   "execution_count": 188,
   "id": "e26bb646",
   "metadata": {},
   "outputs": [
    {
     "ename": "ValueError",
     "evalue": "not enough values to unpack (expected 3, got 2)",
     "output_type": "error",
     "traceback": [
      "\u001b[1;31m---------------------------------------------------------------------------\u001b[0m",
      "\u001b[1;31mValueError\u001b[0m                                Traceback (most recent call last)",
      "\u001b[1;32m~\\AppData\\Local\\Temp/ipykernel_6256/3521476290.py\u001b[0m in \u001b[0;36m<module>\u001b[1;34m\u001b[0m\n\u001b[1;32m----> 1\u001b[1;33m \u001b[0mval1\u001b[0m\u001b[1;33m,\u001b[0m \u001b[0mval2\u001b[0m\u001b[1;33m,\u001b[0m \u001b[0mval3\u001b[0m \u001b[1;33m=\u001b[0m \u001b[0mreturn_2values\u001b[0m\u001b[1;33m(\u001b[0m\u001b[1;33m)\u001b[0m\u001b[1;33m\u001b[0m\u001b[1;33m\u001b[0m\u001b[0m\n\u001b[0m\u001b[0;32m      2\u001b[0m \u001b[0mprint\u001b[0m\u001b[1;33m(\u001b[0m\u001b[0mval1\u001b[0m\u001b[1;33m,\u001b[0m \u001b[0mval2\u001b[0m\u001b[1;33m)\u001b[0m\u001b[1;33m\u001b[0m\u001b[1;33m\u001b[0m\u001b[0m\n",
      "\u001b[1;31mValueError\u001b[0m: not enough values to unpack (expected 3, got 2)"
     ]
    }
   ],
   "source": [
    "val1, val2, val3 = return_2values()\n",
    "print(val1, val2)"
   ]
  },
  {
   "cell_type": "code",
   "execution_count": 189,
   "id": "976fcfe2",
   "metadata": {},
   "outputs": [],
   "source": [
    "def return_2values():\n",
    "    return 1, 2, 3"
   ]
  },
  {
   "cell_type": "code",
   "execution_count": 191,
   "id": "d0437050",
   "metadata": {},
   "outputs": [
    {
     "ename": "ValueError",
     "evalue": "too many values to unpack (expected 2)",
     "output_type": "error",
     "traceback": [
      "\u001b[1;31m---------------------------------------------------------------------------\u001b[0m",
      "\u001b[1;31mValueError\u001b[0m                                Traceback (most recent call last)",
      "\u001b[1;32m~\\AppData\\Local\\Temp/ipykernel_6256/2389892960.py\u001b[0m in \u001b[0;36m<module>\u001b[1;34m\u001b[0m\n\u001b[1;32m----> 1\u001b[1;33m \u001b[0mval1\u001b[0m\u001b[1;33m,\u001b[0m \u001b[0mval2\u001b[0m \u001b[1;33m=\u001b[0m \u001b[0mreturn_2values\u001b[0m\u001b[1;33m(\u001b[0m\u001b[1;33m)\u001b[0m\u001b[1;33m\u001b[0m\u001b[1;33m\u001b[0m\u001b[0m\n\u001b[0m\u001b[0;32m      2\u001b[0m \u001b[0mprint\u001b[0m\u001b[1;33m(\u001b[0m\u001b[0mval1\u001b[0m\u001b[1;33m,\u001b[0m \u001b[0mval2\u001b[0m\u001b[1;33m)\u001b[0m\u001b[1;33m\u001b[0m\u001b[1;33m\u001b[0m\u001b[0m\n",
      "\u001b[1;31mValueError\u001b[0m: too many values to unpack (expected 2)"
     ]
    }
   ],
   "source": [
    "val1, val2 = return_2values()\n",
    "print(val1, val2)"
   ]
  },
  {
   "cell_type": "code",
   "execution_count": 192,
   "id": "48b68313",
   "metadata": {},
   "outputs": [],
   "source": [
    "my_tuple = (1, 2, 3)"
   ]
  },
  {
   "cell_type": "code",
   "execution_count": 193,
   "id": "410be97c",
   "metadata": {},
   "outputs": [
    {
     "ename": "AttributeError",
     "evalue": "'tuple' object has no attribute 'sort'",
     "output_type": "error",
     "traceback": [
      "\u001b[1;31m---------------------------------------------------------------------------\u001b[0m",
      "\u001b[1;31mAttributeError\u001b[0m                            Traceback (most recent call last)",
      "\u001b[1;32m~\\AppData\\Local\\Temp/ipykernel_6256/2441015719.py\u001b[0m in \u001b[0;36m<module>\u001b[1;34m\u001b[0m\n\u001b[1;32m----> 1\u001b[1;33m \u001b[0mmy_tuple\u001b[0m\u001b[1;33m.\u001b[0m\u001b[0msort\u001b[0m\u001b[1;33m(\u001b[0m\u001b[1;33m)\u001b[0m\u001b[1;33m\u001b[0m\u001b[1;33m\u001b[0m\u001b[0m\n\u001b[0m",
      "\u001b[1;31mAttributeError\u001b[0m: 'tuple' object has no attribute 'sort'"
     ]
    }
   ],
   "source": [
    "my_tuple.sort()"
   ]
  },
  {
   "cell_type": "code",
   "execution_count": 194,
   "id": "233108c2",
   "metadata": {},
   "outputs": [],
   "source": [
    "x = (1, [2, 3], 4)"
   ]
  },
  {
   "cell_type": "code",
   "execution_count": 195,
   "id": "4059cb3b",
   "metadata": {},
   "outputs": [
    {
     "ename": "TypeError",
     "evalue": "'tuple' object does not support item assignment",
     "output_type": "error",
     "traceback": [
      "\u001b[1;31m---------------------------------------------------------------------------\u001b[0m",
      "\u001b[1;31mTypeError\u001b[0m                                 Traceback (most recent call last)",
      "\u001b[1;32m~\\AppData\\Local\\Temp/ipykernel_6256/1411393610.py\u001b[0m in \u001b[0;36m<module>\u001b[1;34m\u001b[0m\n\u001b[1;32m----> 1\u001b[1;33m \u001b[0mx\u001b[0m\u001b[1;33m[\u001b[0m\u001b[1;36m0\u001b[0m\u001b[1;33m]\u001b[0m \u001b[1;33m=\u001b[0m \u001b[1;36m3\u001b[0m\u001b[1;33m\u001b[0m\u001b[1;33m\u001b[0m\u001b[0m\n\u001b[0m",
      "\u001b[1;31mTypeError\u001b[0m: 'tuple' object does not support item assignment"
     ]
    }
   ],
   "source": [
    "x[0] = 3"
   ]
  },
  {
   "cell_type": "code",
   "execution_count": 196,
   "id": "3b825536",
   "metadata": {},
   "outputs": [],
   "source": [
    "x[1][1] = 33"
   ]
  },
  {
   "cell_type": "code",
   "execution_count": 197,
   "id": "03c49a39",
   "metadata": {},
   "outputs": [
    {
     "data": {
      "text/plain": [
       "(1, [2, 33], 4)"
      ]
     },
     "execution_count": 197,
     "metadata": {},
     "output_type": "execute_result"
    }
   ],
   "source": [
    "x"
   ]
  },
  {
   "cell_type": "code",
   "execution_count": 198,
   "id": "1f9b59ab",
   "metadata": {},
   "outputs": [],
   "source": [
    "x = ['E', 'A', 'S', '5', '0', '3']"
   ]
  },
  {
   "cell_type": "code",
   "execution_count": 199,
   "id": "057e3525",
   "metadata": {},
   "outputs": [
    {
     "data": {
      "text/plain": [
       "['E', 'A', 'S', '5', '0', '3']"
      ]
     },
     "execution_count": 199,
     "metadata": {},
     "output_type": "execute_result"
    }
   ],
   "source": [
    "x"
   ]
  },
  {
   "cell_type": "code",
   "execution_count": 200,
   "id": "4c0a41a3",
   "metadata": {},
   "outputs": [
    {
     "data": {
      "text/plain": [
       "'EAS503'"
      ]
     },
     "execution_count": 200,
     "metadata": {},
     "output_type": "execute_result"
    }
   ],
   "source": [
    "''.join(x)"
   ]
  },
  {
   "cell_type": "code",
   "execution_count": 204,
   "id": "c731dfe5",
   "metadata": {},
   "outputs": [
    {
     "name": "stdout",
     "output_type": "stream",
     "text": [
      "E-A-S-5-0-3\n"
     ]
    }
   ],
   "source": [
    "print('-'.join(x))"
   ]
  },
  {
   "cell_type": "code",
   "execution_count": 205,
   "id": "21345795",
   "metadata": {},
   "outputs": [
    {
     "name": "stdout",
     "output_type": "stream",
     "text": [
      "E*A*S*5*0*3\n"
     ]
    }
   ],
   "source": [
    "sep = '*'\n",
    "print(f'{sep}'.join(x))"
   ]
  },
  {
   "cell_type": "code",
   "execution_count": 206,
   "id": "5d208b46",
   "metadata": {},
   "outputs": [
    {
     "name": "stdout",
     "output_type": "stream",
     "text": [
      "EAS503\n"
     ]
    }
   ],
   "source": [
    "sep = ''\n",
    "print(f'{sep}'.join(x))"
   ]
  },
  {
   "cell_type": "code",
   "execution_count": 207,
   "id": "2ded72f3",
   "metadata": {},
   "outputs": [
    {
     "name": "stdout",
     "output_type": "stream",
     "text": [
      "E****A****S****5****0****3\n"
     ]
    }
   ],
   "source": [
    "sep = '*'*4\n",
    "print(f'{sep}'.join(x))"
   ]
  },
  {
   "cell_type": "code",
   "execution_count": 208,
   "id": "e817796a",
   "metadata": {},
   "outputs": [],
   "source": [
    "title = '|' + '{:^51}'.format('Cereal Yields (kg/ha)') + '|'\n",
    "line = '+' + '-'*15 + '+' + ('-'*8 + '+')*4\n",
    "row = '| {:<13} |' + ' {:6,d} |'*4\n",
    "header = '| {:^13s} |'.format('Country') + (' {:^6d} |'*4).format(1980, 1990,\n",
    "                                                                  2000, 2010)\n",
    "file_content = '\\n'.join(('+' + '-'*(len(title)-2) + '+',\n",
    "      title,\n",
    "      line,\n",
    "      header,\n",
    "      line,\n",
    "      row.format('China', 2937, 4321, 4752, 5527),\n",
    "      row.format('Germany', 4225, 5411, 6453, 6718),\n",
    "      row.format('United States', 3772, 4755, 5854, 6988),\n",
    "      line))"
   ]
  },
  {
   "cell_type": "code",
   "execution_count": 210,
   "id": "131fc7df",
   "metadata": {},
   "outputs": [],
   "source": [
    "x = ('+' + '-'*(len(title)-2) + '+',\n",
    "      title,\n",
    "      line,\n",
    "      header,\n",
    "      line,\n",
    "      row.format('China', 2937, 4321, 4752, 5527),\n",
    "      row.format('Germany', 4225, 5411, 6453, 6718),\n",
    "      row.format('United States', 3772, 4755, 5854, 6988),\n",
    "      line)"
   ]
  },
  {
   "cell_type": "code",
   "execution_count": 213,
   "id": "7c7d5359",
   "metadata": {},
   "outputs": [
    {
     "name": "stdout",
     "output_type": "stream",
     "text": [
      "+---------------------------------------------------+\n",
      "|               Cereal Yields (kg/ha)               |\n",
      "+---------------+--------+--------+--------+--------+\n",
      "|    Country    |  1980  |  1990  |  2000  |  2010  |\n",
      "+---------------+--------+--------+--------+--------+\n",
      "| China         |  2,937 |  4,321 |  4,752 |  5,527 |\n",
      "| Germany       |  4,225 |  5,411 |  6,453 |  6,718 |\n",
      "| United States |  3,772 |  4,755 |  5,854 |  6,988 |\n",
      "+---------------+--------+--------+--------+--------+\n"
     ]
    }
   ],
   "source": [
    "print('\\n'.join(x))"
   ]
  },
  {
   "cell_type": "code",
   "execution_count": 214,
   "id": "b78429ed",
   "metadata": {},
   "outputs": [
    {
     "data": {
      "text/plain": [
       "tuple"
      ]
     },
     "execution_count": 214,
     "metadata": {},
     "output_type": "execute_result"
    }
   ],
   "source": [
    "type(x)"
   ]
  },
  {
   "cell_type": "code",
   "execution_count": 215,
   "id": "5875a5c0",
   "metadata": {},
   "outputs": [
    {
     "data": {
      "text/plain": [
       "('+---------------------------------------------------+',\n",
       " '|               Cereal Yields (kg/ha)               |',\n",
       " '+---------------+--------+--------+--------+--------+',\n",
       " '|    Country    |  1980  |  1990  |  2000  |  2010  |',\n",
       " '+---------------+--------+--------+--------+--------+',\n",
       " '| China         |  2,937 |  4,321 |  4,752 |  5,527 |',\n",
       " '| Germany       |  4,225 |  5,411 |  6,453 |  6,718 |',\n",
       " '| United States |  3,772 |  4,755 |  5,854 |  6,988 |',\n",
       " '+---------------+--------+--------+--------+--------+')"
      ]
     },
     "execution_count": 215,
     "metadata": {},
     "output_type": "execute_result"
    }
   ],
   "source": [
    "x"
   ]
  },
  {
   "cell_type": "code",
   "execution_count": 216,
   "id": "891704f4",
   "metadata": {},
   "outputs": [],
   "source": [
    "joined = '\\n'.join(x)"
   ]
  },
  {
   "cell_type": "code",
   "execution_count": 217,
   "id": "df958b59",
   "metadata": {},
   "outputs": [
    {
     "data": {
      "text/plain": [
       "str"
      ]
     },
     "execution_count": 217,
     "metadata": {},
     "output_type": "execute_result"
    }
   ],
   "source": [
    "type(joined)"
   ]
  },
  {
   "cell_type": "code",
   "execution_count": 218,
   "id": "0279cce2",
   "metadata": {},
   "outputs": [
    {
     "name": "stdout",
     "output_type": "stream",
     "text": [
      "+---------------------------------------------------+\n",
      "|               Cereal Yields (kg/ha)               |\n",
      "+---------------+--------+--------+--------+--------+\n",
      "|    Country    |  1980  |  1990  |  2000  |  2010  |\n",
      "+---------------+--------+--------+--------+--------+\n",
      "| China         |  2,937 |  4,321 |  4,752 |  5,527 |\n",
      "| Germany       |  4,225 |  5,411 |  6,453 |  6,718 |\n",
      "| United States |  3,772 |  4,755 |  5,854 |  6,988 |\n",
      "+---------------+--------+--------+--------+--------+\n"
     ]
    }
   ],
   "source": [
    "print(joined)"
   ]
  },
  {
   "cell_type": "code",
   "execution_count": 220,
   "id": "804b73cf",
   "metadata": {},
   "outputs": [],
   "source": [
    "with open('test_file4.txt', 'w') as file:\n",
    "    file.write(joined)"
   ]
  },
  {
   "cell_type": "code",
   "execution_count": 221,
   "id": "aaf25e4f",
   "metadata": {},
   "outputs": [
    {
     "data": {
      "text/plain": [
       "('+---------------------------------------------------+',\n",
       " '|               Cereal Yields (kg/ha)               |',\n",
       " '+---------------+--------+--------+--------+--------+',\n",
       " '|    Country    |  1980  |  1990  |  2000  |  2010  |',\n",
       " '+---------------+--------+--------+--------+--------+',\n",
       " '| China         |  2,937 |  4,321 |  4,752 |  5,527 |',\n",
       " '| Germany       |  4,225 |  5,411 |  6,453 |  6,718 |',\n",
       " '| United States |  3,772 |  4,755 |  5,854 |  6,988 |',\n",
       " '+---------------+--------+--------+--------+--------+')"
      ]
     },
     "execution_count": 221,
     "metadata": {},
     "output_type": "execute_result"
    }
   ],
   "source": [
    "x"
   ]
  },
  {
   "cell_type": "code",
   "execution_count": null,
   "id": "c345ae04",
   "metadata": {},
   "outputs": [],
   "source": []
  }
 ],
 "metadata": {
  "kernelspec": {
   "display_name": "Python 3 (ipykernel)",
   "language": "python",
   "name": "python3"
  },
  "language_info": {
   "codemirror_mode": {
    "name": "ipython",
    "version": 3
   },
   "file_extension": ".py",
   "mimetype": "text/x-python",
   "name": "python",
   "nbconvert_exporter": "python",
   "pygments_lexer": "ipython3",
   "version": "3.8.12"
  }
 },
 "nbformat": 4,
 "nbformat_minor": 5
}
