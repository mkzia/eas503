{
 "cells": [
  {
   "cell_type": "code",
   "execution_count": 1,
   "id": "afcd8121",
   "metadata": {},
   "outputs": [],
   "source": [
    "neg = -10"
   ]
  },
  {
   "cell_type": "code",
   "execution_count": 2,
   "id": "335d2545",
   "metadata": {},
   "outputs": [
    {
     "data": {
      "text/plain": [
       "10"
      ]
     },
     "execution_count": 2,
     "metadata": {},
     "output_type": "execute_result"
    }
   ],
   "source": [
    "abs(neg)"
   ]
  },
  {
   "cell_type": "code",
   "execution_count": 3,
   "id": "28c45826",
   "metadata": {},
   "outputs": [
    {
     "data": {
      "text/plain": [
       "7"
      ]
     },
     "execution_count": 3,
     "metadata": {},
     "output_type": "execute_result"
    }
   ],
   "source": [
    "day_temperature = 3\n",
    "night_temprature = 10\n",
    "abs(day_temperature - night_temprature)"
   ]
  },
  {
   "cell_type": "code",
   "execution_count": 5,
   "id": "49575007",
   "metadata": {},
   "outputs": [
    {
     "data": {
      "text/plain": [
       "10.3"
      ]
     },
     "execution_count": 5,
     "metadata": {},
     "output_type": "execute_result"
    }
   ],
   "source": [
    "abs(-7) + abs(3.3)"
   ]
  },
  {
   "cell_type": "code",
   "execution_count": 6,
   "id": "5f073867",
   "metadata": {},
   "outputs": [
    {
     "data": {
      "text/plain": [
       "'3.14153.14153.14153.14153.14153.14153.14153.1415'"
      ]
     },
     "execution_count": 6,
     "metadata": {},
     "output_type": "execute_result"
    }
   ],
   "source": [
    "pi = '3.1415'\n",
    "r = 2\n",
    "2*pi * r**2"
   ]
  },
  {
   "cell_type": "code",
   "execution_count": 7,
   "id": "3092c0b0",
   "metadata": {},
   "outputs": [
    {
     "data": {
      "text/plain": [
       "'3.14153.1415'"
      ]
     },
     "execution_count": 7,
     "metadata": {},
     "output_type": "execute_result"
    }
   ],
   "source": [
    "2*pi "
   ]
  },
  {
   "cell_type": "code",
   "execution_count": 8,
   "id": "cc39e0a2",
   "metadata": {},
   "outputs": [
    {
     "data": {
      "text/plain": [
       "25.132"
      ]
     },
     "execution_count": 8,
     "metadata": {},
     "output_type": "execute_result"
    }
   ],
   "source": [
    "pi = '3.1415'\n",
    "pi = float(pi)\n",
    "r = 2\n",
    "2*pi * r**2"
   ]
  },
  {
   "cell_type": "code",
   "execution_count": 9,
   "id": "53b5d205",
   "metadata": {},
   "outputs": [
    {
     "ename": "ValueError",
     "evalue": "could not convert string to float: 'ABC'",
     "output_type": "error",
     "traceback": [
      "\u001b[1;31m---------------------------------------------------------------------------\u001b[0m",
      "\u001b[1;31mValueError\u001b[0m                                Traceback (most recent call last)",
      "\u001b[1;32m~\\AppData\\Local\\Temp/ipykernel_18908/2642137930.py\u001b[0m in \u001b[0;36m<module>\u001b[1;34m\u001b[0m\n\u001b[1;32m----> 1\u001b[1;33m \u001b[0mfloat\u001b[0m\u001b[1;33m(\u001b[0m\u001b[1;34m'ABC'\u001b[0m\u001b[1;33m)\u001b[0m\u001b[1;33m\u001b[0m\u001b[1;33m\u001b[0m\u001b[0m\n\u001b[0m",
      "\u001b[1;31mValueError\u001b[0m: could not convert string to float: 'ABC'"
     ]
    }
   ],
   "source": [
    "float('ABC')"
   ]
  },
  {
   "cell_type": "code",
   "execution_count": 10,
   "id": "2f9499f2",
   "metadata": {},
   "outputs": [
    {
     "data": {
      "text/plain": [
       "34"
      ]
     },
     "execution_count": 10,
     "metadata": {},
     "output_type": "execute_result"
    }
   ],
   "source": [
    "int(34.6)"
   ]
  },
  {
   "cell_type": "code",
   "execution_count": 11,
   "id": "9c20b3f3",
   "metadata": {},
   "outputs": [
    {
     "data": {
      "text/plain": [
       "-4"
      ]
     },
     "execution_count": 11,
     "metadata": {},
     "output_type": "execute_result"
    }
   ],
   "source": [
    "int(-4.3)"
   ]
  },
  {
   "cell_type": "code",
   "execution_count": 12,
   "id": "dd53cf35",
   "metadata": {},
   "outputs": [
    {
     "data": {
      "text/plain": [
       "21.0"
      ]
     },
     "execution_count": 12,
     "metadata": {},
     "output_type": "execute_result"
    }
   ],
   "source": [
    "float(21)"
   ]
  },
  {
   "cell_type": "code",
   "execution_count": 13,
   "id": "6ce37d39",
   "metadata": {},
   "outputs": [
    {
     "data": {
      "text/plain": [
       "'21'"
      ]
     },
     "execution_count": 13,
     "metadata": {},
     "output_type": "execute_result"
    }
   ],
   "source": [
    "str(21)"
   ]
  },
  {
   "cell_type": "code",
   "execution_count": 14,
   "id": "3f61ce30",
   "metadata": {},
   "outputs": [
    {
     "data": {
      "text/plain": [
       "4"
      ]
     },
     "execution_count": 14,
     "metadata": {},
     "output_type": "execute_result"
    }
   ],
   "source": [
    "round(3.8)"
   ]
  },
  {
   "cell_type": "code",
   "execution_count": 15,
   "id": "9c28df3b",
   "metadata": {},
   "outputs": [
    {
     "data": {
      "text/plain": [
       "3"
      ]
     },
     "execution_count": 15,
     "metadata": {},
     "output_type": "execute_result"
    }
   ],
   "source": [
    "round(3.3)"
   ]
  },
  {
   "cell_type": "code",
   "execution_count": 16,
   "id": "0285fc8d",
   "metadata": {},
   "outputs": [
    {
     "data": {
      "text/plain": [
       "4"
      ]
     },
     "execution_count": 16,
     "metadata": {},
     "output_type": "execute_result"
    }
   ],
   "source": [
    "round(3.5)"
   ]
  },
  {
   "cell_type": "code",
   "execution_count": 17,
   "id": "abcd1f7b",
   "metadata": {},
   "outputs": [
    {
     "data": {
      "text/plain": [
       "-3"
      ]
     },
     "execution_count": 17,
     "metadata": {},
     "output_type": "execute_result"
    }
   ],
   "source": [
    "round(-3.3)"
   ]
  },
  {
   "cell_type": "code",
   "execution_count": 18,
   "id": "c8feb226",
   "metadata": {},
   "outputs": [
    {
     "data": {
      "text/plain": [
       "-4"
      ]
     },
     "execution_count": 18,
     "metadata": {},
     "output_type": "execute_result"
    }
   ],
   "source": [
    "round(-3.5)"
   ]
  },
  {
   "cell_type": "code",
   "execution_count": 19,
   "id": "167862d9",
   "metadata": {},
   "outputs": [
    {
     "data": {
      "text/plain": [
       "12.44"
      ]
     },
     "execution_count": 19,
     "metadata": {},
     "output_type": "execute_result"
    }
   ],
   "source": [
    "round(12.4423324323243243245, 2)"
   ]
  },
  {
   "cell_type": "code",
   "execution_count": 20,
   "id": "e71dfa59",
   "metadata": {},
   "outputs": [
    {
     "name": "stdout",
     "output_type": "stream",
     "text": [
      "Help on built-in function round in module builtins:\n",
      "\n",
      "round(number, ndigits=None)\n",
      "    Round a number to a given precision in decimal digits.\n",
      "    \n",
      "    The return value is an integer if ndigits is omitted or None.  Otherwise\n",
      "    the return value has the same type as the number.  ndigits may be negative.\n",
      "\n"
     ]
    }
   ],
   "source": [
    "help(round)"
   ]
  },
  {
   "cell_type": "code",
   "execution_count": 21,
   "id": "d9e59a34",
   "metadata": {},
   "outputs": [
    {
     "name": "stdout",
     "output_type": "stream",
     "text": [
      "Help on built-in function pow in module builtins:\n",
      "\n",
      "pow(base, exp, mod=None)\n",
      "    Equivalent to base**exp with 2 arguments or base**exp % mod with 3 arguments\n",
      "    \n",
      "    Some types, such as ints, are able to use a more efficient algorithm when\n",
      "    invoked using the three argument form.\n",
      "\n"
     ]
    }
   ],
   "source": [
    "help(pow)"
   ]
  },
  {
   "cell_type": "code",
   "execution_count": 22,
   "id": "d004a8fa",
   "metadata": {},
   "outputs": [
    {
     "data": {
      "text/plain": [
       "16"
      ]
     },
     "execution_count": 22,
     "metadata": {},
     "output_type": "execute_result"
    }
   ],
   "source": [
    "pow(2, 4)"
   ]
  },
  {
   "cell_type": "code",
   "execution_count": 23,
   "id": "9befe268",
   "metadata": {},
   "outputs": [
    {
     "data": {
      "text/plain": [
       "16"
      ]
     },
     "execution_count": 23,
     "metadata": {},
     "output_type": "execute_result"
    }
   ],
   "source": [
    "2 ** 4"
   ]
  },
  {
   "cell_type": "code",
   "execution_count": 24,
   "id": "85839a22",
   "metadata": {},
   "outputs": [
    {
     "data": {
      "text/plain": [
       "1"
      ]
     },
     "execution_count": 24,
     "metadata": {},
     "output_type": "execute_result"
    }
   ],
   "source": [
    "pow(2, 4, 3)"
   ]
  },
  {
   "cell_type": "code",
   "execution_count": 25,
   "id": "5521d9ba",
   "metadata": {},
   "outputs": [
    {
     "data": {
      "text/plain": [
       "16"
      ]
     },
     "execution_count": 25,
     "metadata": {},
     "output_type": "execute_result"
    }
   ],
   "source": [
    "pow(abs(-2), round(4.3))"
   ]
  },
  {
   "cell_type": "code",
   "execution_count": 26,
   "id": "fa7a3687",
   "metadata": {},
   "outputs": [
    {
     "data": {
      "text/plain": [
       "16"
      ]
     },
     "execution_count": 26,
     "metadata": {},
     "output_type": "execute_result"
    }
   ],
   "source": [
    "base = abs(-2)\n",
    "exp = round(4.3)\n",
    "pow(base, exp)"
   ]
  },
  {
   "cell_type": "code",
   "execution_count": 27,
   "id": "05cae356",
   "metadata": {},
   "outputs": [
    {
     "data": {
      "text/plain": [
       "2111046070512"
      ]
     },
     "execution_count": 27,
     "metadata": {},
     "output_type": "execute_result"
    }
   ],
   "source": [
    "id(-9)"
   ]
  },
  {
   "cell_type": "code",
   "execution_count": 28,
   "id": "a9ebfa95",
   "metadata": {},
   "outputs": [
    {
     "data": {
      "text/plain": [
       "-19"
      ]
     },
     "execution_count": 28,
     "metadata": {},
     "output_type": "execute_result"
    }
   ],
   "source": [
    "min(2, 3, 4, -19, 200, 20)"
   ]
  },
  {
   "cell_type": "code",
   "execution_count": 29,
   "id": "139ea89e",
   "metadata": {},
   "outputs": [
    {
     "ename": "TypeError",
     "evalue": "'int' object is not iterable",
     "output_type": "error",
     "traceback": [
      "\u001b[1;31m---------------------------------------------------------------------------\u001b[0m",
      "\u001b[1;31mTypeError\u001b[0m                                 Traceback (most recent call last)",
      "\u001b[1;32m~\\AppData\\Local\\Temp/ipykernel_18908/4182798674.py\u001b[0m in \u001b[0;36m<module>\u001b[1;34m\u001b[0m\n\u001b[1;32m----> 1\u001b[1;33m \u001b[0mmin\u001b[0m\u001b[1;33m(\u001b[0m\u001b[1;36m2\u001b[0m\u001b[1;33m)\u001b[0m\u001b[1;33m\u001b[0m\u001b[1;33m\u001b[0m\u001b[0m\n\u001b[0m",
      "\u001b[1;31mTypeError\u001b[0m: 'int' object is not iterable"
     ]
    }
   ],
   "source": [
    "min(2)"
   ]
  },
  {
   "cell_type": "code",
   "execution_count": 30,
   "id": "cf2dd6b4",
   "metadata": {},
   "outputs": [
    {
     "data": {
      "text/plain": [
       "2"
      ]
     },
     "execution_count": 30,
     "metadata": {},
     "output_type": "execute_result"
    }
   ],
   "source": [
    "min(2,3)"
   ]
  },
  {
   "cell_type": "code",
   "execution_count": 31,
   "id": "1273dd42",
   "metadata": {},
   "outputs": [
    {
     "data": {
      "text/plain": [
       "7"
      ]
     },
     "execution_count": 31,
     "metadata": {},
     "output_type": "execute_result"
    }
   ],
   "source": [
    "max(2, -3, 4, 7, -5)"
   ]
  },
  {
   "cell_type": "code",
   "execution_count": 32,
   "id": "6b845ae5",
   "metadata": {},
   "outputs": [
    {
     "data": {
      "text/plain": [
       "4"
      ]
     },
     "execution_count": 32,
     "metadata": {},
     "output_type": "execute_result"
    }
   ],
   "source": [
    "max(2, -3, min(4, 7), -5)"
   ]
  },
  {
   "cell_type": "code",
   "execution_count": 33,
   "id": "106d5752",
   "metadata": {},
   "outputs": [
    {
     "data": {
      "text/plain": [
       "int"
      ]
     },
     "execution_count": 33,
     "metadata": {},
     "output_type": "execute_result"
    }
   ],
   "source": [
    "x = 2\n",
    "type(x)"
   ]
  },
  {
   "cell_type": "code",
   "execution_count": 34,
   "id": "d47c4f7f",
   "metadata": {},
   "outputs": [
    {
     "data": {
      "text/plain": [
       "str"
      ]
     },
     "execution_count": 34,
     "metadata": {},
     "output_type": "execute_result"
    }
   ],
   "source": [
    "pi = '3.14'\n",
    "type(pi)"
   ]
  },
  {
   "cell_type": "code",
   "execution_count": 35,
   "id": "0004d3d0",
   "metadata": {},
   "outputs": [
    {
     "data": {
      "text/plain": [
       "float"
      ]
     },
     "execution_count": 35,
     "metadata": {},
     "output_type": "execute_result"
    }
   ],
   "source": [
    "pi = 3.14\n",
    "type(pi)"
   ]
  },
  {
   "cell_type": "code",
   "execution_count": 36,
   "id": "1c4d9cda",
   "metadata": {},
   "outputs": [
    {
     "name": "stdout",
     "output_type": "stream",
     "text": [
      "1\n"
     ]
    }
   ],
   "source": [
    "print(1)"
   ]
  },
  {
   "cell_type": "code",
   "execution_count": 39,
   "id": "60e2687a",
   "metadata": {},
   "outputs": [
    {
     "name": "stdout",
     "output_type": "stream",
     "text": [
      "abc asdfsdf 1 3.14 True None\n"
     ]
    }
   ],
   "source": [
    "print('abc', 'asdfsdf', 1, 3.14, True, None)"
   ]
  },
  {
   "cell_type": "code",
   "execution_count": 38,
   "id": "187bdc7e",
   "metadata": {},
   "outputs": [
    {
     "name": "stdout",
     "output_type": "stream",
     "text": [
      "Help on built-in function print in module builtins:\n",
      "\n",
      "print(...)\n",
      "    print(value, ..., sep=' ', end='\\n', file=sys.stdout, flush=False)\n",
      "    \n",
      "    Prints the values to a stream, or to sys.stdout by default.\n",
      "    Optional keyword arguments:\n",
      "    file:  a file-like object (stream); defaults to the current sys.stdout.\n",
      "    sep:   string inserted between values, default a space.\n",
      "    end:   string appended after the last value, default a newline.\n",
      "    flush: whether to forcibly flush the stream.\n",
      "\n"
     ]
    }
   ],
   "source": [
    "help(print)"
   ]
  },
  {
   "cell_type": "code",
   "execution_count": 40,
   "id": "71bd5bac",
   "metadata": {},
   "outputs": [
    {
     "name": "stdout",
     "output_type": "stream",
     "text": [
      "abc, asdfsdf, 1, 3.14, True, None\n"
     ]
    }
   ],
   "source": [
    "print('abc', 'asdfsdf', 1, 3.14, True, None, sep=', ')"
   ]
  },
  {
   "cell_type": "code",
   "execution_count": 42,
   "id": "6eb2d61d",
   "metadata": {},
   "outputs": [],
   "source": [
    "def f(x):\n",
    "    squared_x = x * x\n",
    "    return squared_x"
   ]
  },
  {
   "cell_type": "code",
   "execution_count": 43,
   "id": "a71f4df5",
   "metadata": {},
   "outputs": [
    {
     "data": {
      "text/plain": [
       "4"
      ]
     },
     "execution_count": 43,
     "metadata": {},
     "output_type": "execute_result"
    }
   ],
   "source": [
    "f(2)"
   ]
  },
  {
   "cell_type": "code",
   "execution_count": 44,
   "id": "25bc0789",
   "metadata": {},
   "outputs": [
    {
     "data": {
      "text/plain": [
       "100"
      ]
     },
     "execution_count": 44,
     "metadata": {},
     "output_type": "execute_result"
    }
   ],
   "source": [
    "f(10)"
   ]
  },
  {
   "cell_type": "code",
   "execution_count": 45,
   "id": "bee2691b",
   "metadata": {},
   "outputs": [],
   "source": [
    "def g(x):\n",
    "    squared_x = x * x\n"
   ]
  },
  {
   "cell_type": "code",
   "execution_count": 46,
   "id": "fef396de",
   "metadata": {},
   "outputs": [],
   "source": [
    "g(10)"
   ]
  },
  {
   "cell_type": "code",
   "execution_count": 47,
   "id": "421a6d5f",
   "metadata": {},
   "outputs": [],
   "source": [
    "value = g(10)"
   ]
  },
  {
   "cell_type": "code",
   "execution_count": 48,
   "id": "64c16dcb",
   "metadata": {},
   "outputs": [
    {
     "name": "stdout",
     "output_type": "stream",
     "text": [
      "None\n"
     ]
    }
   ],
   "source": [
    "print(value)"
   ]
  },
  {
   "cell_type": "code",
   "execution_count": 49,
   "id": "198061e2",
   "metadata": {},
   "outputs": [
    {
     "data": {
      "text/plain": [
       "NoneType"
      ]
     },
     "execution_count": 49,
     "metadata": {},
     "output_type": "execute_result"
    }
   ],
   "source": [
    "type(value)"
   ]
  },
  {
   "cell_type": "code",
   "execution_count": 50,
   "id": "92230a41",
   "metadata": {},
   "outputs": [],
   "source": [
    "def f(x):\n",
    "    squared_x  = x * x\n",
    "    return squared_x"
   ]
  },
  {
   "cell_type": "code",
   "execution_count": 55,
   "id": "f2eb71b8",
   "metadata": {},
   "outputs": [
    {
     "name": "stdout",
     "output_type": "stream",
     "text": [
      "Before function call 20\n",
      "Function return 400\n",
      "After function call 20\n"
     ]
    }
   ],
   "source": [
    "squared_x = 20\n",
    "\n",
    "print('Before function call', squared_x)\n",
    "\n",
    "print('Function return', f(squared_x))\n",
    "\n",
    "print('After function call', squared_x)"
   ]
  },
  {
   "cell_type": "code",
   "execution_count": 56,
   "id": "44647dde",
   "metadata": {},
   "outputs": [],
   "source": [
    "def PRINT(x):\n",
    "    print(x)"
   ]
  },
  {
   "cell_type": "code",
   "execution_count": 57,
   "id": "f7d12ac1",
   "metadata": {},
   "outputs": [
    {
     "name": "stdout",
     "output_type": "stream",
     "text": [
      "10\n"
     ]
    }
   ],
   "source": [
    "PRINT(10)"
   ]
  },
  {
   "cell_type": "code",
   "execution_count": 60,
   "id": "b2d09d59",
   "metadata": {},
   "outputs": [],
   "source": [
    "def exercise1():\n",
    "    \"\"\"\n",
    "    ____________________________\n",
    "    Happy birthday to you!!!\n",
    "    Happy birthday to you!!!\n",
    "    Happy birthday, dear John\n",
    "    Happy birthday to you!\n",
    "    Happy birthday to you!\n",
    "    ______________________________\n",
    "\n",
    "    \"\"\"\n",
    "    print('_' * 30)\n",
    "    print('Happy birthday to you!!!')\n",
    "    print('Happy birthday to you!!!')\n",
    "    print('Happy birthday, dear John')\n",
    "    print('Happy birthday to you!!!')\n",
    "    print('Happy birthday to you!!!')\n",
    "    print('_' * 30)\n",
    "    "
   ]
  },
  {
   "cell_type": "code",
   "execution_count": 61,
   "id": "d774c0c6",
   "metadata": {},
   "outputs": [
    {
     "name": "stdout",
     "output_type": "stream",
     "text": [
      "______________________________\n",
      "Happy birthday to you!!!\n",
      "Happy birthday to you!!!\n",
      "Happy birthday, dear John\n",
      "Happy birthday to you!!!\n",
      "Happy birthday to you!!!\n",
      "______________________________\n"
     ]
    }
   ],
   "source": [
    "exercise1()"
   ]
  },
  {
   "cell_type": "code",
   "execution_count": 63,
   "id": "185114c2",
   "metadata": {},
   "outputs": [],
   "source": [
    "def exercise2():\n",
    "    \"\"\"\n",
    "    ____________________________\n",
    "    Happy birthday to you!!!\n",
    "    Happy birthday to you!!!\n",
    "    Happy birthday, dear Jane\n",
    "    Happy birthday to you!\n",
    "    Happy birthday to you!\n",
    "    ______________________________\n",
    "\n",
    "    \"\"\"\n",
    "    print('_' * 30)\n",
    "    print('Happy birthday to you!!!')\n",
    "    print('Happy birthday to you!!!')\n",
    "    print('Happy birthday, dear Jane')\n",
    "    print('Happy birthday to you!!!')\n",
    "    print('Happy birthday to you!!!')\n",
    "    print('_' * 30)"
   ]
  },
  {
   "cell_type": "code",
   "execution_count": 64,
   "id": "a742a6d8",
   "metadata": {},
   "outputs": [
    {
     "name": "stdout",
     "output_type": "stream",
     "text": [
      "______________________________\n",
      "Happy birthday to you!!!\n",
      "Happy birthday to you!!!\n",
      "Happy birthday, dear Jane\n",
      "Happy birthday to you!!!\n",
      "Happy birthday to you!!!\n",
      "______________________________\n"
     ]
    }
   ],
   "source": [
    "exercise2()"
   ]
  },
  {
   "cell_type": "code",
   "execution_count": 75,
   "id": "463db319",
   "metadata": {},
   "outputs": [],
   "source": [
    "def exercise3():\n",
    "    print('Happy birthday to you!')\n",
    "    print('Happy birthday to you!')"
   ]
  },
  {
   "cell_type": "code",
   "execution_count": 66,
   "id": "abee5958",
   "metadata": {},
   "outputs": [
    {
     "name": "stdout",
     "output_type": "stream",
     "text": [
      "Happy birthday to you!!!\n",
      "Happy birthday to you!!!\n"
     ]
    }
   ],
   "source": [
    " exercise3()"
   ]
  },
  {
   "cell_type": "code",
   "execution_count": 67,
   "id": "3d09058e",
   "metadata": {},
   "outputs": [],
   "source": [
    "def exercise4a():\n",
    "    print('_' * 30)\n",
    "    exercise3()\n",
    "    print('Happy birthday, dear John')\n",
    "    exercise3()  \n",
    "    print('_' * 30)\n",
    "    "
   ]
  },
  {
   "cell_type": "code",
   "execution_count": 68,
   "id": "45a30f33",
   "metadata": {},
   "outputs": [
    {
     "name": "stdout",
     "output_type": "stream",
     "text": [
      "______________________________\n",
      "Happy birthday to you!!!\n",
      "Happy birthday to you!!!\n",
      "Happy birthday, dear John\n",
      "Happy birthday to you!!!\n",
      "Happy birthday to you!!!\n",
      "______________________________\n"
     ]
    }
   ],
   "source": [
    "exercise4a()"
   ]
  },
  {
   "cell_type": "code",
   "execution_count": 69,
   "id": "faefcb85",
   "metadata": {},
   "outputs": [],
   "source": [
    "def exercise5(name):\n",
    "    print('Happy birthday, dear ' + name + '!')"
   ]
  },
  {
   "cell_type": "code",
   "execution_count": 70,
   "id": "b46ca946",
   "metadata": {},
   "outputs": [
    {
     "name": "stdout",
     "output_type": "stream",
     "text": [
      "Happy birthday, dear John!\n"
     ]
    }
   ],
   "source": [
    "exercise5('John')"
   ]
  },
  {
   "cell_type": "code",
   "execution_count": 71,
   "id": "67b82297",
   "metadata": {},
   "outputs": [
    {
     "name": "stdout",
     "output_type": "stream",
     "text": [
      "Happy birthday, dear Jane!\n"
     ]
    }
   ],
   "source": [
    "exercise5('Jane')"
   ]
  },
  {
   "cell_type": "code",
   "execution_count": 76,
   "id": "ffe7abf3",
   "metadata": {},
   "outputs": [],
   "source": [
    "def exercise6(name):\n",
    "    print('_' * 30)\n",
    "    exercise3()\n",
    "    exercise5(name)\n",
    "    exercise3()  \n",
    "    print('_' * 30)\n",
    "    "
   ]
  },
  {
   "cell_type": "code",
   "execution_count": 77,
   "id": "ba549f77",
   "metadata": {},
   "outputs": [
    {
     "name": "stdout",
     "output_type": "stream",
     "text": [
      "______________________________\n",
      "Happy birthday to you!\n",
      "Happy birthday to you!\n",
      "Happy birthday, dear John!\n",
      "Happy birthday to you!\n",
      "Happy birthday to you!\n",
      "______________________________\n"
     ]
    }
   ],
   "source": [
    "exercise6('John')"
   ]
  },
  {
   "cell_type": "code",
   "execution_count": 74,
   "id": "14d11f7c",
   "metadata": {},
   "outputs": [
    {
     "name": "stdout",
     "output_type": "stream",
     "text": [
      "______________________________\n",
      "Happy birthday to you!!!\n",
      "Happy birthday to you!!!\n",
      "Happy birthday, dear Jane!\n",
      "Happy birthday to you!!!\n",
      "Happy birthday to you!!!\n",
      "______________________________\n"
     ]
    }
   ],
   "source": [
    "exercise6('Jane')"
   ]
  },
  {
   "cell_type": "code",
   "execution_count": 78,
   "id": "cd004e40",
   "metadata": {},
   "outputs": [],
   "source": [
    "def calculate_distance(x1,y1,x2,y2):\n",
    "    d = ((x1-x2)**2 + (y1-y2)**2)**0.5\n",
    "    return d"
   ]
  },
  {
   "cell_type": "code",
   "execution_count": 79,
   "id": "91233e60",
   "metadata": {},
   "outputs": [
    {
     "data": {
      "text/plain": [
       "7.615773105863909"
      ]
     },
     "execution_count": 79,
     "metadata": {},
     "output_type": "execute_result"
    }
   ],
   "source": [
    "calculate_distance(-1,0,2,7)"
   ]
  },
  {
   "cell_type": "code",
   "execution_count": 80,
   "id": "bd6117db",
   "metadata": {},
   "outputs": [],
   "source": [
    "def calculate_distance2(x1,y1,x2,y2):\n",
    "    import math\n",
    "    d = math.sqrt((x1-x2)**2 + (y1-y2)**2)\n",
    "    return d"
   ]
  },
  {
   "cell_type": "code",
   "execution_count": 81,
   "id": "39880a8f",
   "metadata": {},
   "outputs": [
    {
     "data": {
      "text/plain": [
       "7.615773105863909"
      ]
     },
     "execution_count": 81,
     "metadata": {},
     "output_type": "execute_result"
    }
   ],
   "source": [
    "calculate_distance2(-1,0,2,7)"
   ]
  },
  {
   "cell_type": "code",
   "execution_count": 84,
   "id": "1f3fb39a",
   "metadata": {},
   "outputs": [],
   "source": [
    "def calculate_distance3(x1,y1,x2,y2):  \n",
    "    import math\n",
    "    d = round(math.sqrt((x1-x2)**2 + (y1-y2)**2), 1)\n",
    "    return d"
   ]
  },
  {
   "cell_type": "code",
   "execution_count": 83,
   "id": "4330eb64",
   "metadata": {},
   "outputs": [
    {
     "data": {
      "text/plain": [
       "7.6"
      ]
     },
     "execution_count": 83,
     "metadata": {},
     "output_type": "execute_result"
    }
   ],
   "source": [
    "calculate_distance3(-1,0,2,7)"
   ]
  },
  {
   "cell_type": "code",
   "execution_count": 89,
   "id": "9c7bd538",
   "metadata": {},
   "outputs": [],
   "source": [
    "def triple(x):\n",
    "    return pow(x, 3)"
   ]
  },
  {
   "cell_type": "code",
   "execution_count": 90,
   "id": "64e76ba3",
   "metadata": {},
   "outputs": [
    {
     "data": {
      "text/plain": [
       "27"
      ]
     },
     "execution_count": 90,
     "metadata": {},
     "output_type": "execute_result"
    }
   ],
   "source": [
    "triple(3)"
   ]
  },
  {
   "cell_type": "code",
   "execution_count": 91,
   "id": "ba3e3f0f",
   "metadata": {},
   "outputs": [],
   "source": [
    "def averagre3(g1, g2, g3):\n",
    "    return (g1 + g2 + g3)/3"
   ]
  },
  {
   "cell_type": "code",
   "execution_count": 92,
   "id": "50030a17",
   "metadata": {},
   "outputs": [
    {
     "data": {
      "text/plain": [
       "10.0"
      ]
     },
     "execution_count": 92,
     "metadata": {},
     "output_type": "execute_result"
    }
   ],
   "source": [
    "averagre3(10, 10, 10)"
   ]
  },
  {
   "cell_type": "code",
   "execution_count": 93,
   "id": "05adf174",
   "metadata": {},
   "outputs": [],
   "source": [
    "def best3(g1, g2, g3, g4):\n",
    "    total = g1 + g2 + g3 + g4\n",
    "    total -= min(g1, g2, g3, g4)\n",
    "    return total/3"
   ]
  },
  {
   "cell_type": "code",
   "execution_count": 94,
   "id": "d240b84e",
   "metadata": {},
   "outputs": [
    {
     "data": {
      "text/plain": [
       "10.0"
      ]
     },
     "execution_count": 94,
     "metadata": {},
     "output_type": "execute_result"
    }
   ],
   "source": [
    "best3(5, 10, 10, 10)"
   ]
  },
  {
   "cell_type": "code",
   "execution_count": 95,
   "id": "ac62d7af",
   "metadata": {},
   "outputs": [],
   "source": [
    "string1 = 'Aristotle'"
   ]
  },
  {
   "cell_type": "code",
   "execution_count": 97,
   "id": "8b5fb01a",
   "metadata": {},
   "outputs": [],
   "source": [
    "string2 = \"John Edward\""
   ]
  },
  {
   "cell_type": "code",
   "execution_count": 98,
   "id": "83321e86",
   "metadata": {},
   "outputs": [
    {
     "name": "stdout",
     "output_type": "stream",
     "text": [
      "Aristotle John Edward\n"
     ]
    }
   ],
   "source": [
    "print(string1, string2)"
   ]
  },
  {
   "cell_type": "code",
   "execution_count": 99,
   "id": "415b0f3e",
   "metadata": {},
   "outputs": [],
   "source": [
    "string3 = \"\"\"I am a literal string, \n",
    "this means that spaces inside me are significant!\n",
    "\n",
    "Hello!\n",
    "\"\"\""
   ]
  },
  {
   "cell_type": "code",
   "execution_count": 100,
   "id": "fab40e98",
   "metadata": {},
   "outputs": [
    {
     "name": "stdout",
     "output_type": "stream",
     "text": [
      "I am a literal string, \n",
      "this means that spaces inside me are significant!\n",
      "\n",
      "Hello!\n",
      "\n"
     ]
    }
   ],
   "source": [
    "print(string3)"
   ]
  },
  {
   "cell_type": "code",
   "execution_count": 101,
   "id": "ccf99471",
   "metadata": {},
   "outputs": [
    {
     "ename": "SyntaxError",
     "evalue": "EOL while scanning string literal (Temp/ipykernel_18908/2272083993.py, line 1)",
     "output_type": "error",
     "traceback": [
      "\u001b[1;36m  File \u001b[1;32m\"C:\\Users\\mkhaw\\AppData\\Local\\Temp/ipykernel_18908/2272083993.py\"\u001b[1;36m, line \u001b[1;32m1\u001b[0m\n\u001b[1;33m    string4 = 'Hello\u001b[0m\n\u001b[1;37m                     ^\u001b[0m\n\u001b[1;31mSyntaxError\u001b[0m\u001b[1;31m:\u001b[0m EOL while scanning string literal\n"
     ]
    }
   ],
   "source": [
    "string4 = 'Hello \n",
    "class\n",
    "'"
   ]
  },
  {
   "cell_type": "code",
   "execution_count": 102,
   "id": "35358270",
   "metadata": {},
   "outputs": [
    {
     "name": "stdout",
     "output_type": "stream",
     "text": [
      "12\n"
     ]
    }
   ],
   "source": [
    "scientist = 'Issac Newton'\n",
    "print(len(scientist))"
   ]
  },
  {
   "cell_type": "code",
   "execution_count": 103,
   "id": "8b223b47",
   "metadata": {},
   "outputs": [
    {
     "name": "stdout",
     "output_type": "stream",
     "text": [
      "33\n"
     ]
    }
   ],
   "source": [
    "scientist = 'Issac                      Newton'\n",
    "print(len(scientist))"
   ]
  },
  {
   "cell_type": "code",
   "execution_count": 105,
   "id": "7bf6cb72",
   "metadata": {},
   "outputs": [
    {
     "data": {
      "text/plain": [
       "'Alan Turning ---- Grace Hopper'"
      ]
     },
     "execution_count": 105,
     "metadata": {},
     "output_type": "execute_result"
    }
   ],
   "source": [
    "'Alan Turning' + ' ---- ' + 'Grace Hopper'"
   ]
  },
  {
   "cell_type": "code",
   "execution_count": 106,
   "id": "9058d2c0",
   "metadata": {},
   "outputs": [
    {
     "ename": "TypeError",
     "evalue": "can only concatenate str (not \"int\") to str",
     "output_type": "error",
     "traceback": [
      "\u001b[1;31m---------------------------------------------------------------------------\u001b[0m",
      "\u001b[1;31mTypeError\u001b[0m                                 Traceback (most recent call last)",
      "\u001b[1;32m~\\AppData\\Local\\Temp/ipykernel_18908/2249529199.py\u001b[0m in \u001b[0;36m<module>\u001b[1;34m\u001b[0m\n\u001b[1;32m----> 1\u001b[1;33m \u001b[1;34m'NH'\u001b[0m \u001b[1;33m+\u001b[0m \u001b[1;36m3\u001b[0m\u001b[1;33m\u001b[0m\u001b[1;33m\u001b[0m\u001b[0m\n\u001b[0m",
      "\u001b[1;31mTypeError\u001b[0m: can only concatenate str (not \"int\") to str"
     ]
    }
   ],
   "source": [
    "'NH' + 3"
   ]
  },
  {
   "cell_type": "code",
   "execution_count": 107,
   "id": "5cf0b4cd",
   "metadata": {},
   "outputs": [
    {
     "data": {
      "text/plain": [
       "'NH3'"
      ]
     },
     "execution_count": 107,
     "metadata": {},
     "output_type": "execute_result"
    }
   ],
   "source": [
    "'NH' + '3'"
   ]
  },
  {
   "cell_type": "code",
   "execution_count": 108,
   "id": "2ac0189f",
   "metadata": {},
   "outputs": [
    {
     "data": {
      "text/plain": [
       "'NH3'"
      ]
     },
     "execution_count": 108,
     "metadata": {},
     "output_type": "execute_result"
    }
   ],
   "source": [
    "'NH3'"
   ]
  },
  {
   "cell_type": "code",
   "execution_count": 109,
   "id": "9189d2b3",
   "metadata": {},
   "outputs": [
    {
     "data": {
      "text/plain": [
       "'Four score and 7 years ago'"
      ]
     },
     "execution_count": 109,
     "metadata": {},
     "output_type": "execute_result"
    }
   ],
   "source": [
    "'Four score and ' + str(7) + ' years ago'"
   ]
  },
  {
   "cell_type": "code",
   "execution_count": 110,
   "id": "8e15e28b",
   "metadata": {},
   "outputs": [
    {
     "data": {
      "text/plain": [
       "0"
      ]
     },
     "execution_count": 110,
     "metadata": {},
     "output_type": "execute_result"
    }
   ],
   "source": [
    "int('0')"
   ]
  },
  {
   "cell_type": "code",
   "execution_count": 111,
   "id": "b45ff890",
   "metadata": {},
   "outputs": [
    {
     "data": {
      "text/plain": [
       "int"
      ]
     },
     "execution_count": 111,
     "metadata": {},
     "output_type": "execute_result"
    }
   ],
   "source": [
    "type(int('0'))"
   ]
  },
  {
   "cell_type": "code",
   "execution_count": 112,
   "id": "492efd73",
   "metadata": {},
   "outputs": [
    {
     "data": {
      "text/plain": [
       "-324"
      ]
     },
     "execution_count": 112,
     "metadata": {},
     "output_type": "execute_result"
    }
   ],
   "source": [
    "int('-324')"
   ]
  },
  {
   "cell_type": "code",
   "execution_count": 113,
   "id": "d80f36d8",
   "metadata": {},
   "outputs": [
    {
     "ename": "ValueError",
     "evalue": "invalid literal for int() with base 10: '-324.000'",
     "output_type": "error",
     "traceback": [
      "\u001b[1;31m---------------------------------------------------------------------------\u001b[0m",
      "\u001b[1;31mValueError\u001b[0m                                Traceback (most recent call last)",
      "\u001b[1;32m~\\AppData\\Local\\Temp/ipykernel_18908/1233865564.py\u001b[0m in \u001b[0;36m<module>\u001b[1;34m\u001b[0m\n\u001b[1;32m----> 1\u001b[1;33m \u001b[0mint\u001b[0m\u001b[1;33m(\u001b[0m\u001b[1;34m'-324.000'\u001b[0m\u001b[1;33m)\u001b[0m\u001b[1;33m\u001b[0m\u001b[1;33m\u001b[0m\u001b[0m\n\u001b[0m",
      "\u001b[1;31mValueError\u001b[0m: invalid literal for int() with base 10: '-324.000'"
     ]
    }
   ],
   "source": [
    "int('-324.000')"
   ]
  },
  {
   "cell_type": "code",
   "execution_count": 114,
   "id": "1c6f6b83",
   "metadata": {},
   "outputs": [
    {
     "data": {
      "text/plain": [
       "-324.4"
      ]
     },
     "execution_count": 114,
     "metadata": {},
     "output_type": "execute_result"
    }
   ],
   "source": [
    "float('-324.40')"
   ]
  },
  {
   "cell_type": "code",
   "execution_count": 115,
   "id": "eab36a84",
   "metadata": {},
   "outputs": [
    {
     "data": {
      "text/plain": [
       "float"
      ]
     },
     "execution_count": 115,
     "metadata": {},
     "output_type": "execute_result"
    }
   ],
   "source": [
    "type(float('-324.40'))"
   ]
  },
  {
   "cell_type": "code",
   "execution_count": 116,
   "id": "8110a294",
   "metadata": {},
   "outputs": [
    {
     "data": {
      "text/plain": [
       "'ATATATATAT'"
      ]
     },
     "execution_count": 116,
     "metadata": {},
     "output_type": "execute_result"
    }
   ],
   "source": [
    "'AT' * 5"
   ]
  },
  {
   "cell_type": "code",
   "execution_count": 117,
   "id": "356fb0e5",
   "metadata": {},
   "outputs": [
    {
     "data": {
      "text/plain": [
       "'ATATATATAT'"
      ]
     },
     "execution_count": 117,
     "metadata": {},
     "output_type": "execute_result"
    }
   ],
   "source": [
    "5 * 'AT'"
   ]
  },
  {
   "cell_type": "code",
   "execution_count": 118,
   "id": "f1f6ed78",
   "metadata": {},
   "outputs": [
    {
     "data": {
      "text/plain": [
       "'--------------------------------------------------------------------------------'"
      ]
     },
     "execution_count": 118,
     "metadata": {},
     "output_type": "execute_result"
    }
   ],
   "source": [
    "'-' * 80"
   ]
  },
  {
   "cell_type": "code",
   "execution_count": 119,
   "id": "26b57bd2",
   "metadata": {},
   "outputs": [
    {
     "ename": "SyntaxError",
     "evalue": "invalid syntax (Temp/ipykernel_18908/925720805.py, line 1)",
     "output_type": "error",
     "traceback": [
      "\u001b[1;36m  File \u001b[1;32m\"C:\\Users\\mkhaw\\AppData\\Local\\Temp/ipykernel_18908/925720805.py\"\u001b[1;36m, line \u001b[1;32m1\u001b[0m\n\u001b[1;33m    y = 'Jane's book'\u001b[0m\n\u001b[1;37m              ^\u001b[0m\n\u001b[1;31mSyntaxError\u001b[0m\u001b[1;31m:\u001b[0m invalid syntax\n"
     ]
    }
   ],
   "source": [
    "y = 'Jane's book'"
   ]
  },
  {
   "cell_type": "code",
   "execution_count": 120,
   "id": "e3699f41",
   "metadata": {},
   "outputs": [],
   "source": [
    "y = \"Jane's book\""
   ]
  },
  {
   "cell_type": "code",
   "execution_count": 121,
   "id": "841cc847",
   "metadata": {},
   "outputs": [
    {
     "name": "stdout",
     "output_type": "stream",
     "text": [
      "Jane's book\n"
     ]
    }
   ],
   "source": [
    "print(y)"
   ]
  },
  {
   "cell_type": "code",
   "execution_count": 122,
   "id": "dd2d03f2",
   "metadata": {},
   "outputs": [
    {
     "data": {
      "text/plain": [
       "\"Jane's book\""
      ]
     },
     "execution_count": 122,
     "metadata": {},
     "output_type": "execute_result"
    }
   ],
   "source": [
    "'Jane\\'s book'"
   ]
  },
  {
   "cell_type": "code",
   "execution_count": 123,
   "id": "96b55667",
   "metadata": {},
   "outputs": [
    {
     "ename": "SyntaxError",
     "evalue": "invalid syntax (Temp/ipykernel_18908/3001072521.py, line 1)",
     "output_type": "error",
     "traceback": [
      "\u001b[1;36m  File \u001b[1;32m\"C:\\Users\\mkhaw\\AppData\\Local\\Temp/ipykernel_18908/3001072521.py\"\u001b[1;36m, line \u001b[1;32m1\u001b[0m\n\u001b[1;33m    \"He said, \"why me?\"\"\u001b[0m\n\u001b[1;37m               ^\u001b[0m\n\u001b[1;31mSyntaxError\u001b[0m\u001b[1;31m:\u001b[0m invalid syntax\n"
     ]
    }
   ],
   "source": [
    "\"He said, \"why me?\"\""
   ]
  },
  {
   "cell_type": "code",
   "execution_count": 124,
   "id": "12f83ea3",
   "metadata": {},
   "outputs": [
    {
     "data": {
      "text/plain": [
       "'He said, \"why me?\"'"
      ]
     },
     "execution_count": 124,
     "metadata": {},
     "output_type": "execute_result"
    }
   ],
   "source": [
    "\"He said, \\\"why me?\\\"\""
   ]
  },
  {
   "cell_type": "code",
   "execution_count": 131,
   "id": "3e7a8466",
   "metadata": {},
   "outputs": [
    {
     "name": "stdout",
     "output_type": "stream",
     "text": [
      "/\\/\\\n"
     ]
    }
   ],
   "source": [
    "# /\\/\\\n",
    "x = '/\\\\/\\\\'\n",
    "print(x)"
   ]
  },
  {
   "cell_type": "code",
   "execution_count": 133,
   "id": "3aae4ddc",
   "metadata": {},
   "outputs": [
    {
     "name": "stdout",
     "output_type": "stream",
     "text": [
      "Line one\n",
      "Line two\n",
      "Line three\n"
     ]
    }
   ],
   "source": [
    "print('Line one\\nLine two\\nLine three')\n"
   ]
  },
  {
   "cell_type": "code",
   "execution_count": 134,
   "id": "c28202f7",
   "metadata": {},
   "outputs": [
    {
     "name": "stdout",
     "output_type": "stream",
     "text": [
      "John\t01234\tbiology\n"
     ]
    }
   ],
   "source": [
    "print('John\\t01234\\tbiology')"
   ]
  },
  {
   "cell_type": "code",
   "execution_count": null,
   "id": "a6159ab9",
   "metadata": {},
   "outputs": [],
   "source": [
    "def func(a, b, c):\n",
    "    pass"
   ]
  },
  {
   "cell_type": "code",
   "execution_count": 140,
   "id": "e268bd52",
   "metadata": {},
   "outputs": [
    {
     "name": "stdout",
     "output_type": "stream",
     "text": [
      "Please enter a number: 1000\n"
     ]
    }
   ],
   "source": [
    "number = input('Please enter a number: ')"
   ]
  },
  {
   "cell_type": "code",
   "execution_count": 141,
   "id": "ecfc86c2",
   "metadata": {},
   "outputs": [
    {
     "data": {
      "text/plain": [
       "'10001000100010001000'"
      ]
     },
     "execution_count": 141,
     "metadata": {},
     "output_type": "execute_result"
    }
   ],
   "source": [
    "number * 5"
   ]
  },
  {
   "cell_type": "code",
   "execution_count": 142,
   "id": "d5a1c353",
   "metadata": {},
   "outputs": [
    {
     "ename": "TypeError",
     "evalue": "unsupported operand type(s) for /: 'str' and 'int'",
     "output_type": "error",
     "traceback": [
      "\u001b[1;31m---------------------------------------------------------------------------\u001b[0m",
      "\u001b[1;31mTypeError\u001b[0m                                 Traceback (most recent call last)",
      "\u001b[1;32m~\\AppData\\Local\\Temp/ipykernel_18908/1575007018.py\u001b[0m in \u001b[0;36m<module>\u001b[1;34m\u001b[0m\n\u001b[1;32m----> 1\u001b[1;33m \u001b[0mnumber\u001b[0m \u001b[1;33m/\u001b[0m \u001b[1;36m20\u001b[0m\u001b[1;33m\u001b[0m\u001b[1;33m\u001b[0m\u001b[0m\n\u001b[0m",
      "\u001b[1;31mTypeError\u001b[0m: unsupported operand type(s) for /: 'str' and 'int'"
     ]
    }
   ],
   "source": [
    "number / 20"
   ]
  },
  {
   "cell_type": "code",
   "execution_count": 137,
   "id": "f0960b01",
   "metadata": {},
   "outputs": [],
   "source": [
    "number = int(number)"
   ]
  },
  {
   "cell_type": "code",
   "execution_count": 138,
   "id": "84d0d10e",
   "metadata": {},
   "outputs": [
    {
     "data": {
      "text/plain": [
       "1000"
      ]
     },
     "execution_count": 138,
     "metadata": {},
     "output_type": "execute_result"
    }
   ],
   "source": [
    "number"
   ]
  },
  {
   "cell_type": "code",
   "execution_count": 139,
   "id": "4d73cf75",
   "metadata": {},
   "outputs": [
    {
     "data": {
      "text/plain": [
       "5000"
      ]
     },
     "execution_count": 139,
     "metadata": {},
     "output_type": "execute_result"
    }
   ],
   "source": [
    "number * 5"
   ]
  },
  {
   "cell_type": "code",
   "execution_count": 143,
   "id": "5d46f96c",
   "metadata": {},
   "outputs": [
    {
     "name": "stdout",
     "output_type": "stream",
     "text": [
      "Please enter a number: No!\n"
     ]
    }
   ],
   "source": [
    "number = input('Please enter a number: ')"
   ]
  },
  {
   "cell_type": "code",
   "execution_count": 144,
   "id": "94bbc113",
   "metadata": {},
   "outputs": [
    {
     "data": {
      "text/plain": [
       "'No!'"
      ]
     },
     "execution_count": 144,
     "metadata": {},
     "output_type": "execute_result"
    }
   ],
   "source": [
    "number"
   ]
  },
  {
   "cell_type": "code",
   "execution_count": 145,
   "id": "70e20445",
   "metadata": {},
   "outputs": [],
   "source": [
    "def convert_celsius(fahrenheit):\n",
    "    return (fahrenheit - 32.0) * 5.0 / 9.0   "
   ]
  },
  {
   "cell_type": "code",
   "execution_count": 146,
   "id": "b7df102c",
   "metadata": {},
   "outputs": [
    {
     "data": {
      "text/plain": [
       "100.0"
      ]
     },
     "execution_count": 146,
     "metadata": {},
     "output_type": "execute_result"
    }
   ],
   "source": [
    "convert_celsius(212)"
   ]
  },
  {
   "cell_type": "code",
   "execution_count": 147,
   "id": "11d4cb68",
   "metadata": {},
   "outputs": [],
   "source": [
    "def convert_celsius():\n",
    "    fahrenheit = float(input('Please enter temperature in Fahrenheit: '))\n",
    "    celsius =  (fahrenheit - 32.0) * 5.0 / 9.0  \n",
    "    print('The temperature in celsius is: ', celsius) \n"
   ]
  },
  {
   "cell_type": "code",
   "execution_count": 148,
   "id": "f697771d",
   "metadata": {},
   "outputs": [
    {
     "name": "stdout",
     "output_type": "stream",
     "text": [
      "Please enter temperature in Fahrenheit: 100\n",
      "The temperature in celsius is:  37.77777777777778\n"
     ]
    }
   ],
   "source": [
    "convert_celsius()"
   ]
  },
  {
   "cell_type": "code",
   "execution_count": 149,
   "id": "95055b83",
   "metadata": {},
   "outputs": [
    {
     "name": "stdout",
     "output_type": "stream",
     "text": [
      "Please enter temperature in Fahrenheit: 212\n",
      "The temperature in celsius is:  100.0\n"
     ]
    }
   ],
   "source": [
    "convert_celsius()"
   ]
  },
  {
   "cell_type": "code",
   "execution_count": 150,
   "id": "dc183850",
   "metadata": {},
   "outputs": [
    {
     "name": "stdout",
     "output_type": "stream",
     "text": [
      "Please enter temperature in Fahrenheit: a number\n"
     ]
    },
    {
     "ename": "ValueError",
     "evalue": "could not convert string to float: 'a number'",
     "output_type": "error",
     "traceback": [
      "\u001b[1;31m---------------------------------------------------------------------------\u001b[0m",
      "\u001b[1;31mValueError\u001b[0m                                Traceback (most recent call last)",
      "\u001b[1;32m~\\AppData\\Local\\Temp/ipykernel_18908/192959298.py\u001b[0m in \u001b[0;36m<module>\u001b[1;34m\u001b[0m\n\u001b[1;32m----> 1\u001b[1;33m \u001b[0mconvert_celsius\u001b[0m\u001b[1;33m(\u001b[0m\u001b[1;33m)\u001b[0m\u001b[1;33m\u001b[0m\u001b[1;33m\u001b[0m\u001b[0m\n\u001b[0m",
      "\u001b[1;32m~\\AppData\\Local\\Temp/ipykernel_18908/519401432.py\u001b[0m in \u001b[0;36mconvert_celsius\u001b[1;34m()\u001b[0m\n\u001b[0;32m      1\u001b[0m \u001b[1;32mdef\u001b[0m \u001b[0mconvert_celsius\u001b[0m\u001b[1;33m(\u001b[0m\u001b[1;33m)\u001b[0m\u001b[1;33m:\u001b[0m\u001b[1;33m\u001b[0m\u001b[1;33m\u001b[0m\u001b[0m\n\u001b[1;32m----> 2\u001b[1;33m     \u001b[0mfahrenheit\u001b[0m \u001b[1;33m=\u001b[0m \u001b[0mfloat\u001b[0m\u001b[1;33m(\u001b[0m\u001b[0minput\u001b[0m\u001b[1;33m(\u001b[0m\u001b[1;34m'Please enter temperature in Fahrenheit: '\u001b[0m\u001b[1;33m)\u001b[0m\u001b[1;33m)\u001b[0m\u001b[1;33m\u001b[0m\u001b[1;33m\u001b[0m\u001b[0m\n\u001b[0m\u001b[0;32m      3\u001b[0m     \u001b[0mcelsius\u001b[0m \u001b[1;33m=\u001b[0m  \u001b[1;33m(\u001b[0m\u001b[0mfahrenheit\u001b[0m \u001b[1;33m-\u001b[0m \u001b[1;36m32.0\u001b[0m\u001b[1;33m)\u001b[0m \u001b[1;33m*\u001b[0m \u001b[1;36m5.0\u001b[0m \u001b[1;33m/\u001b[0m \u001b[1;36m9.0\u001b[0m\u001b[1;33m\u001b[0m\u001b[1;33m\u001b[0m\u001b[0m\n\u001b[0;32m      4\u001b[0m     \u001b[0mprint\u001b[0m\u001b[1;33m(\u001b[0m\u001b[1;34m'The temperature in celsius is: '\u001b[0m\u001b[1;33m,\u001b[0m \u001b[0mcelsius\u001b[0m\u001b[1;33m)\u001b[0m\u001b[1;33m\u001b[0m\u001b[1;33m\u001b[0m\u001b[0m\n",
      "\u001b[1;31mValueError\u001b[0m: could not convert string to float: 'a number'"
     ]
    }
   ],
   "source": [
    "convert_celsius()"
   ]
  },
  {
   "cell_type": "code",
   "execution_count": 151,
   "id": "ce390346",
   "metadata": {},
   "outputs": [
    {
     "data": {
      "text/plain": [
       "'NA3'"
      ]
     },
     "execution_count": 151,
     "metadata": {},
     "output_type": "execute_result"
    }
   ],
   "source": [
    "# Example of string concatenation -- This is fine and perfectly valid!\n",
    "x = 'NA'\n",
    "y = '3'\n",
    "\n",
    "x + y"
   ]
  },
  {
   "cell_type": "code",
   "execution_count": null,
   "id": "ea6bb64f",
   "metadata": {},
   "outputs": [],
   "source": [
    "# oldest way\n",
    "'%s%s' %(x, y)"
   ]
  },
  {
   "cell_type": "code",
   "execution_count": 152,
   "id": "41a96096",
   "metadata": {},
   "outputs": [
    {
     "data": {
      "text/plain": [
       "'NA3'"
      ]
     },
     "execution_count": 152,
     "metadata": {},
     "output_type": "execute_result"
    }
   ],
   "source": [
    "# older way -- sometimes useful\n",
    "'{}{}'.format(x, y)"
   ]
  },
  {
   "cell_type": "code",
   "execution_count": 153,
   "id": "238e3c96",
   "metadata": {},
   "outputs": [
    {
     "data": {
      "text/plain": [
       "'3NA'"
      ]
     },
     "execution_count": 153,
     "metadata": {},
     "output_type": "execute_result"
    }
   ],
   "source": [
    "'{1}{0}'.format(x, y)"
   ]
  },
  {
   "cell_type": "code",
   "execution_count": 154,
   "id": "5f85b89a",
   "metadata": {},
   "outputs": [
    {
     "data": {
      "text/plain": [
       "'3NA'"
      ]
     },
     "execution_count": 154,
     "metadata": {},
     "output_type": "execute_result"
    }
   ],
   "source": [
    "'{1}{0}'.format(x, y, 2, 3)"
   ]
  },
  {
   "cell_type": "code",
   "execution_count": 155,
   "id": "a8a12e92",
   "metadata": {},
   "outputs": [
    {
     "data": {
      "text/plain": [
       "'NA3'"
      ]
     },
     "execution_count": 155,
     "metadata": {},
     "output_type": "execute_result"
    }
   ],
   "source": [
    "'{}{}'.format(x, y, 2, 3)"
   ]
  },
  {
   "cell_type": "code",
   "execution_count": 156,
   "id": "7e05201d",
   "metadata": {},
   "outputs": [
    {
     "data": {
      "text/plain": [
       "'NA3     2'"
      ]
     },
     "execution_count": 156,
     "metadata": {},
     "output_type": "execute_result"
    }
   ],
   "source": [
    "'{}{}     {}'.format(x, y, 2, 3)"
   ]
  },
  {
   "cell_type": "code",
   "execution_count": 157,
   "id": "d2159ff4",
   "metadata": {},
   "outputs": [
    {
     "data": {
      "text/plain": [
       "'33     ---   NA'"
      ]
     },
     "execution_count": 157,
     "metadata": {},
     "output_type": "execute_result"
    }
   ],
   "source": [
    "'{3}{1}     ---   {0}'.format(x, y, 2, 3)"
   ]
  },
  {
   "cell_type": "code",
   "execution_count": 158,
   "id": "5e3bed9c",
   "metadata": {},
   "outputs": [],
   "source": [
    "template_w_placeholders = '{3}{1}     ---   {0}'"
   ]
  },
  {
   "cell_type": "code",
   "execution_count": 159,
   "id": "1461f2ff",
   "metadata": {},
   "outputs": [
    {
     "data": {
      "text/plain": [
       "'{3}{1}     ---   {0}'"
      ]
     },
     "execution_count": 159,
     "metadata": {},
     "output_type": "execute_result"
    }
   ],
   "source": [
    "template_w_placeholders"
   ]
  },
  {
   "cell_type": "code",
   "execution_count": 160,
   "id": "19e24d2c",
   "metadata": {},
   "outputs": [
    {
     "data": {
      "text/plain": [
       "'2efg     ---   Abc'"
      ]
     },
     "execution_count": 160,
     "metadata": {},
     "output_type": "execute_result"
    }
   ],
   "source": [
    "template_w_placeholders.format('Abc', 'efg', 'hij', 2, 3)"
   ]
  },
  {
   "cell_type": "code",
   "execution_count": 161,
   "id": "2325c7b4",
   "metadata": {},
   "outputs": [
    {
     "data": {
      "text/plain": [
       "'2efg   --- Abc'"
      ]
     },
     "execution_count": 161,
     "metadata": {},
     "output_type": "execute_result"
    }
   ],
   "source": [
    "'2efg   --- Abc'"
   ]
  },
  {
   "cell_type": "code",
   "execution_count": 162,
   "id": "b9d83890",
   "metadata": {},
   "outputs": [
    {
     "data": {
      "text/plain": [
       "'23     ---   1'"
      ]
     },
     "execution_count": 162,
     "metadata": {},
     "output_type": "execute_result"
    }
   ],
   "source": [
    "template_w_placeholders.format('1', '3', '4', 2, 3)"
   ]
  },
  {
   "cell_type": "code",
   "execution_count": 163,
   "id": "dbee4fd3",
   "metadata": {},
   "outputs": [],
   "source": [
    "student_template = '{}, {}; {}'"
   ]
  },
  {
   "cell_type": "code",
   "execution_count": 164,
   "id": "f2819729",
   "metadata": {},
   "outputs": [
    {
     "data": {
      "text/plain": [
       "'Doe, Jane; 12345'"
      ]
     },
     "execution_count": 164,
     "metadata": {},
     "output_type": "execute_result"
    }
   ],
   "source": [
    "student_template.format('Doe', 'Jane', '12345')"
   ]
  },
  {
   "cell_type": "code",
   "execution_count": 165,
   "id": "14a7d1de",
   "metadata": {},
   "outputs": [
    {
     "data": {
      "text/plain": [
       "'Doe, John; 0000234'"
      ]
     },
     "execution_count": 165,
     "metadata": {},
     "output_type": "execute_result"
    }
   ],
   "source": [
    "student_template.format('Doe', 'John', '0000234')"
   ]
  },
  {
   "cell_type": "code",
   "execution_count": 166,
   "id": "d71f6f31",
   "metadata": {},
   "outputs": [
    {
     "name": "stdout",
     "output_type": "stream",
     "text": [
      "3.14159265359\n"
     ]
    }
   ],
   "source": [
    "PI = 3.14159265359 \n",
    "print(f'{PI}')"
   ]
  },
  {
   "cell_type": "code",
   "execution_count": 169,
   "id": "6c21c311",
   "metadata": {},
   "outputs": [
    {
     "name": "stdout",
     "output_type": "stream",
     "text": [
      "1.96349540849375\n"
     ]
    }
   ],
   "source": [
    "print(f'{PI*10/2**4}')"
   ]
  },
  {
   "cell_type": "code",
   "execution_count": 170,
   "id": "60e5ada1",
   "metadata": {},
   "outputs": [
    {
     "name": "stdout",
     "output_type": "stream",
     "text": [
      "3.14\n"
     ]
    }
   ],
   "source": [
    "print(f'{round(PI,2)}')"
   ]
  },
  {
   "cell_type": "code",
   "execution_count": 171,
   "id": "d3dd1a4e",
   "metadata": {},
   "outputs": [
    {
     "name": "stdout",
     "output_type": "stream",
     "text": [
      "3.14\n"
     ]
    }
   ],
   "source": [
    "print(f'{PI:.2f}')"
   ]
  },
  {
   "cell_type": "code",
   "execution_count": 172,
   "id": "fd28f238",
   "metadata": {},
   "outputs": [
    {
     "name": "stdout",
     "output_type": "stream",
     "text": [
      "3.1416\n"
     ]
    }
   ],
   "source": [
    "print(f'{PI:.4f}')"
   ]
  },
  {
   "cell_type": "code",
   "execution_count": 173,
   "id": "cc3e6f76",
   "metadata": {},
   "outputs": [
    {
     "name": "stdout",
     "output_type": "stream",
     "text": [
      "    3.1416\n"
     ]
    }
   ],
   "source": [
    "print(f'{PI:10.4f}')"
   ]
  },
  {
   "cell_type": "code",
   "execution_count": null,
   "id": "903c6792",
   "metadata": {},
   "outputs": [],
   "source": [
    "#  {<index>:<format-specifier>} where the format specifier is <width>.<precision><type>"
   ]
  },
  {
   "cell_type": "code",
   "execution_count": 174,
   "id": "c8a42243",
   "metadata": {},
   "outputs": [
    {
     "name": "stdout",
     "output_type": "stream",
     "text": [
      "PI is 3.14\n"
     ]
    }
   ],
   "source": [
    "PI = 3.14159265359 \n",
    "name = 'PI'\n",
    "print('%s is %.2f' % (name, PI))  # oldest way format specifier is <width>.<precision><type>"
   ]
  },
  {
   "cell_type": "code",
   "execution_count": 175,
   "id": "b0cd6ea0",
   "metadata": {},
   "outputs": [
    {
     "name": "stdout",
     "output_type": "stream",
     "text": [
      "PI is 3.14\n"
     ]
    }
   ],
   "source": [
    "print(('{0} is {1:.2f}'.format('PI', PI)) ) # older way {<index>:<format-specifier>} where the format specifier is <width>.<precision><type>"
   ]
  },
  {
   "cell_type": "code",
   "execution_count": 176,
   "id": "39e38bb2",
   "metadata": {},
   "outputs": [
    {
     "name": "stdout",
     "output_type": "stream",
     "text": [
      "PI is 3.14\n"
     ]
    }
   ],
   "source": [
    "print(f'{name} is {PI:.2f}') # newest way"
   ]
  },
  {
   "cell_type": "code",
   "execution_count": 177,
   "id": "7af9789e",
   "metadata": {},
   "outputs": [],
   "source": [
    "# {<index>:<format-specifier>} where the format specifier is <width>.<precision><type>"
   ]
  },
  {
   "cell_type": "code",
   "execution_count": 178,
   "id": "dcdefb84",
   "metadata": {},
   "outputs": [],
   "source": [
    "line1 = 'This is the first line.\\n'\n",
    "line2 = 'This is the second line.'\n",
    "lines = line1 + line2"
   ]
  },
  {
   "cell_type": "code",
   "execution_count": 180,
   "id": "0279dce6",
   "metadata": {},
   "outputs": [
    {
     "name": "stdout",
     "output_type": "stream",
     "text": [
      "This is the first line.\n",
      "This is the second line.\n"
     ]
    }
   ],
   "source": [
    "print(lines)"
   ]
  },
  {
   "cell_type": "code",
   "execution_count": 181,
   "id": "614dcac1",
   "metadata": {},
   "outputs": [
    {
     "name": "stdout",
     "output_type": "stream",
     "text": [
      "This is the first line.\n",
      "This is the second line.\n"
     ]
    }
   ],
   "source": [
    "\n",
    "line = 'This is the first line.\\n'\n",
    "line += 'This is the second line.' # line = line + 'This is the second line.'\n",
    "print(line)"
   ]
  },
  {
   "cell_type": "code",
   "execution_count": 182,
   "id": "ab2529af",
   "metadata": {},
   "outputs": [],
   "source": [
    "class_number = 'EAS503'\n",
    "class_size = 113\n",
    "class_average = 92.3"
   ]
  },
  {
   "cell_type": "code",
   "execution_count": 183,
   "id": "5272fad2",
   "metadata": {},
   "outputs": [
    {
     "name": "stdout",
     "output_type": "stream",
     "text": [
      "EAS503 EAS503\n"
     ]
    }
   ],
   "source": [
    "str_format = '{}'.format(class_number)\n",
    "f_string = f'{class_number}'\n",
    "print(str_format, f_string)"
   ]
  },
  {
   "cell_type": "code",
   "execution_count": 184,
   "id": "a18c8d7e",
   "metadata": {},
   "outputs": [
    {
     "name": "stdout",
     "output_type": "stream",
     "text": [
      "The course number is EAS503\n",
      "The course number is EAS503\n"
     ]
    }
   ],
   "source": [
    "# Example 2\n",
    "str_format = 'The course number is {}'.format(class_number)\n",
    "f_string = f'The course number is {class_number}'\n",
    "\n",
    "print(str_format)\n",
    "print(f_string)\n"
   ]
  },
  {
   "cell_type": "code",
   "execution_count": 185,
   "id": "0107323e",
   "metadata": {},
   "outputs": [
    {
     "name": "stdout",
     "output_type": "stream",
     "text": [
      "The course number is EAS503. It has 113 students.\n",
      "The course number is EAS503. It has 113 students.\n"
     ]
    }
   ],
   "source": [
    "str_format = 'The course number is {}. It has {} students.'.format(class_number, class_size)\n",
    "str_format = 'The course number is {0}. It has {1} students.'.format(class_number, class_size)\n",
    "f_string = f'The course number is {class_number}. It has {class_size} students.'\n",
    "\n",
    "print(str_format)\n",
    "print(f_string)\n"
   ]
  },
  {
   "cell_type": "code",
   "execution_count": 187,
   "id": "417104f8",
   "metadata": {},
   "outputs": [
    {
     "name": "stdout",
     "output_type": "stream",
     "text": [
      "The course number is 113. It has EAS503 students.\n",
      "The course number is 113. It has EAS503 students.\n"
     ]
    }
   ],
   "source": [
    "str_format = 'The course number is {1}. It has {0} students.'.format(class_number, class_size)\n",
    "f_string = f'The course number is {class_size}. It has {class_number} students.'\n",
    "print(str_format)\n",
    "print(f_string)\n"
   ]
  },
  {
   "cell_type": "code",
   "execution_count": 188,
   "id": "17c3850a",
   "metadata": {},
   "outputs": [
    {
     "name": "stdout",
     "output_type": "stream",
     "text": [
      "The course number is EAS503. It has 113 students. The class average is 92.3\n",
      "The course number is 113. It has EAS503 students. The class average is 92.3.\n"
     ]
    }
   ],
   "source": [
    "# Example 5 adding a float\n",
    "str_format = 'The course number is {0}. It has {1} students. The class average is {2}'.format(class_number, class_size, class_average)\n",
    "f_string = f'The course number is {class_size}. It has {class_number} students. The class average is {class_average}.'\n",
    "\n",
    "print(str_format)\n",
    "print(f_string)"
   ]
  },
  {
   "cell_type": "code",
   "execution_count": 191,
   "id": "bf4d74da",
   "metadata": {},
   "outputs": [
    {
     "name": "stdout",
     "output_type": "stream",
     "text": [
      "The course number is EAS503    . It has        113 students. The class average is       92.3\n",
      "The course number is EAS503    . It has        113 students. The class average is       92.3.\n"
     ]
    }
   ],
   "source": [
    "# Example 6 specify number of spaces to use -- width\n",
    "# {<index>:<format-specifier>} where the format specifier is <width>.<precision><type>\n",
    "str_format = 'The course number is {0:10}. It has {1:10} students. The class average is {2:10}'.format(class_number, class_size, class_average)\n",
    "f_string = f'The course number is {class_number:10}. It has {class_size:10} students. The class average is {class_average:10}.'\n",
    "\n",
    "print(str_format)\n",
    "print(f_string)"
   ]
  },
  {
   "cell_type": "code",
   "execution_count": 192,
   "id": "21916943",
   "metadata": {},
   "outputs": [
    {
     "name": "stdout",
     "output_type": "stream",
     "text": [
      "The course number is     EAS503. It has        113 students. The class average is       92.3\n",
      "The course number is        113. It has        113 students. The class average is       92.3.\n"
     ]
    }
   ],
   "source": [
    "# Example 7 right align\n",
    "str_format = 'The course number is {0:>10}. It has {1:>10} students. The class average is {2:>10}'.format(class_number, class_size, class_average)\n",
    "f_string = f'The course number is {class_size:>10}. It has {class_size:>10} students. The class average is {class_average:>10}.'\n",
    "\n",
    "print(str_format)\n",
    "print(f_string)\n"
   ]
  },
  {
   "cell_type": "code",
   "execution_count": 195,
   "id": "6ae3ff93",
   "metadata": {},
   "outputs": [
    {
     "name": "stdout",
     "output_type": "stream",
     "text": [
      "Start: ABC        :End\n"
     ]
    }
   ],
   "source": [
    "# < > ^\n",
    "x = 'ABC'\n",
    "print(f'Start: {x:10} :End')"
   ]
  },
  {
   "cell_type": "code",
   "execution_count": 196,
   "id": "a28efd0d",
   "metadata": {},
   "outputs": [
    {
     "name": "stdout",
     "output_type": "stream",
     "text": [
      "Start: ABC             :End\n"
     ]
    }
   ],
   "source": [
    "print(f'Start: {x:15} :End')"
   ]
  },
  {
   "cell_type": "code",
   "execution_count": 198,
   "id": "4076c6ed",
   "metadata": {},
   "outputs": [
    {
     "name": "stdout",
     "output_type": "stream",
     "text": [
      "Start: ABC                  :End\n"
     ]
    }
   ],
   "source": [
    "print(f'Start: {x:<20} :End')"
   ]
  },
  {
   "cell_type": "code",
   "execution_count": 199,
   "id": "34278f24",
   "metadata": {},
   "outputs": [
    {
     "name": "stdout",
     "output_type": "stream",
     "text": [
      "Start:                  ABC :End\n"
     ]
    }
   ],
   "source": [
    "print(f'Start: {x:>20} :End')"
   ]
  },
  {
   "cell_type": "code",
   "execution_count": 200,
   "id": "6017d998",
   "metadata": {},
   "outputs": [
    {
     "name": "stdout",
     "output_type": "stream",
     "text": [
      "Start:         ABC          :End\n"
     ]
    }
   ],
   "source": [
    "print(f'Start: {x:^20} :End')"
   ]
  },
  {
   "cell_type": "code",
   "execution_count": 203,
   "id": "b94d9438",
   "metadata": {},
   "outputs": [
    {
     "name": "stdout",
     "output_type": "stream",
     "text": [
      "Start: --------1234-------- :End\n"
     ]
    }
   ],
   "source": [
    "y = 1234\n",
    "print(f'Start: {y:-^20} :End')"
   ]
  },
  {
   "cell_type": "code",
   "execution_count": 205,
   "id": "bdb82a78",
   "metadata": {},
   "outputs": [
    {
     "name": "stdout",
     "output_type": "stream",
     "text": [
      "00123456\n"
     ]
    }
   ],
   "source": [
    "mrn = 123456\n",
    "\n",
    "print(f'{mrn:08}')"
   ]
  },
  {
   "cell_type": "code",
   "execution_count": 206,
   "id": "0aaefa75",
   "metadata": {},
   "outputs": [
    {
     "name": "stdout",
     "output_type": "stream",
     "text": [
      "00000001\n"
     ]
    }
   ],
   "source": [
    "# 1, 2, 3, 4, 5, 6\n",
    "z = 1\n",
    "print(f'{z:08}')"
   ]
  },
  {
   "cell_type": "code",
   "execution_count": 214,
   "id": "3ccbac20",
   "metadata": {},
   "outputs": [
    {
     "name": "stdout",
     "output_type": "stream",
     "text": [
      "11121111\n"
     ]
    }
   ],
   "source": [
    "z = 2\n",
    "zz = 'abc'\n",
    "print(f'{z:1^8}')"
   ]
  },
  {
   "cell_type": "code",
   "execution_count": 219,
   "id": "a5c87499",
   "metadata": {},
   "outputs": [
    {
     "name": "stdout",
     "output_type": "stream",
     "text": [
      "                      123456\n"
     ]
    }
   ],
   "source": [
    "mrn = 123456\n",
    "\n",
    "print(f'{mrn:28}')"
   ]
  },
  {
   "cell_type": "code",
   "execution_count": 221,
   "id": "20c80d0c",
   "metadata": {},
   "outputs": [
    {
     "name": "stdout",
     "output_type": "stream",
     "text": [
      "12.5 * 3 = 37.5\n",
      "12.5 * 3 = 37.5\n"
     ]
    }
   ],
   "source": [
    "# Given x = 3 and y = 12.5, print: 12.5 * 3 = 37.5.\n",
    "x = 3\n",
    "y = 12.5\n",
    "mul = x * y \n",
    "print(f'{y} * {x} = {mul}')\n",
    "print(f'{y} * {x} = {x*y}')"
   ]
  },
  {
   "cell_type": "code",
   "execution_count": 222,
   "id": "81aa9f34",
   "metadata": {},
   "outputs": [
    {
     "name": "stdout",
     "output_type": "stream",
     "text": [
      "+---------------------------------------------------+\n",
      "|               Cereal Yields (kg/ha)               |\n",
      "+---------------+--------+--------+--------+--------+\n",
      "|    Country    |  1980  |  1990  |  2000  |  2010  |\n",
      "+---------------+--------+--------+--------+--------+\n",
      "| China         |  2,937 |  4,321 |  4,752 |  5,527 |\n",
      "| Germany       |  4,225 |  5,411 |  6,453 |  6,718 |\n",
      "| United States |  3,772 |  4,755 |  5,854 |  6,988 |\n",
      "+---------------+--------+--------+--------+--------+\n"
     ]
    }
   ],
   "source": [
    "title = '|' + '{:^51}'.format('Cereal Yields (kg/ha)') + '|'\n",
    "line = '+' + '-'*15 + '+' + ('-'*8 + '+')*4\n",
    "row = '| {:<13} |' + ' {:6,d} |'*4\n",
    "header = '| {:^13s} |'.format('Country') + (' {:^6d} |'*4).format(1980, 1990,\n",
    "                                                                  2000, 2010)\n",
    "print('+' + '-'*(len(title)-2) + '+',\n",
    "      title,\n",
    "      line,\n",
    "      header,\n",
    "      line,\n",
    "      row.format('China', 2937, 4321, 4752, 5527),\n",
    "      row.format('Germany', 4225, 5411, 6453, 6718),\n",
    "      row.format('United States', 3772, 4755, 5854, 6988),\n",
    "      line,\n",
    "      sep='\\n')"
   ]
  },
  {
   "cell_type": "code",
   "execution_count": 223,
   "id": "42673f47",
   "metadata": {},
   "outputs": [
    {
     "data": {
      "text/plain": [
       "'+---------------------------------------------------+'"
      ]
     },
     "execution_count": 223,
     "metadata": {},
     "output_type": "execute_result"
    }
   ],
   "source": []
  },
  {
   "cell_type": "code",
   "execution_count": 225,
   "id": "d10db184",
   "metadata": {},
   "outputs": [
    {
     "name": "stdout",
     "output_type": "stream",
     "text": [
      "|               Cereal Yields (kg/ha)               |\n"
     ]
    }
   ],
   "source": [
    "title = '|' + '{:^51}'.format('Cereal Yields (kg/ha)') + '|'\n",
    "print(title)"
   ]
  },
  {
   "cell_type": "code",
   "execution_count": 224,
   "id": "7e23fa29",
   "metadata": {},
   "outputs": [
    {
     "data": {
      "text/plain": [
       "'               Cereal Yields (kg/ha)               '"
      ]
     },
     "execution_count": 224,
     "metadata": {},
     "output_type": "execute_result"
    }
   ],
   "source": [
    "'{:^51}'.format('Cereal Yields (kg/ha)')"
   ]
  },
  {
   "cell_type": "code",
   "execution_count": 226,
   "id": "42ba6949",
   "metadata": {},
   "outputs": [
    {
     "data": {
      "text/plain": [
       "'+---------------------------------------------------+'"
      ]
     },
     "execution_count": 226,
     "metadata": {},
     "output_type": "execute_result"
    }
   ],
   "source": [
    "'+' + '-'*(len(title)-2) + '+'"
   ]
  },
  {
   "cell_type": "code",
   "execution_count": 227,
   "id": "6303357c",
   "metadata": {},
   "outputs": [
    {
     "name": "stdout",
     "output_type": "stream",
     "text": [
      "+---------------+--------+--------+--------+--------+\n"
     ]
    }
   ],
   "source": [
    "line = '+' + '-'*15 + '+' + ('-'*8 + '+')*4\n",
    "print(line)"
   ]
  },
  {
   "cell_type": "code",
   "execution_count": 228,
   "id": "21db9edd",
   "metadata": {},
   "outputs": [
    {
     "data": {
      "text/plain": [
       "'--------+--------+--------+--------+'"
      ]
     },
     "execution_count": 228,
     "metadata": {},
     "output_type": "execute_result"
    }
   ],
   "source": [
    "('-'*8 + '+')*4"
   ]
  },
  {
   "cell_type": "code",
   "execution_count": 235,
   "id": "3c99339d",
   "metadata": {},
   "outputs": [],
   "source": [
    "header = '| {:^13s} |'.format('Country') + (' {:^6d} |'*4).format(1980, 1990,\n",
    "                                                                  2000, 2010)"
   ]
  },
  {
   "cell_type": "code",
   "execution_count": 236,
   "id": "31877e82",
   "metadata": {},
   "outputs": [
    {
     "name": "stdout",
     "output_type": "stream",
     "text": [
      "|    Country    |  1980  |  1990  |  2000  |  2010  |\n"
     ]
    }
   ],
   "source": [
    "print(header)"
   ]
  },
  {
   "cell_type": "code",
   "execution_count": 232,
   "id": "8110ef46",
   "metadata": {},
   "outputs": [
    {
     "data": {
      "text/plain": [
       "'  1980  |  1990  |  2000  |  2010  |'"
      ]
     },
     "execution_count": 232,
     "metadata": {},
     "output_type": "execute_result"
    }
   ],
   "source": [
    "(' {:^6d} |'*4).format(1980, 1990,2000, 2010)"
   ]
  },
  {
   "cell_type": "code",
   "execution_count": 246,
   "id": "1ee0e68a",
   "metadata": {},
   "outputs": [
    {
     "name": "stdout",
     "output_type": "stream",
     "text": [
      "| {:<13} | {:6d} | {:6d} | {:6d} | {:6d} |\n"
     ]
    }
   ],
   "source": [
    "row = '| {:<13} |' + ' {:6d} |'*4\n",
    "print(row)"
   ]
  },
  {
   "cell_type": "code",
   "execution_count": 247,
   "id": "f32202fe",
   "metadata": {},
   "outputs": [
    {
     "name": "stdout",
     "output_type": "stream",
     "text": [
      "1\n",
      "2\n",
      "3\n",
      "4\n",
      "abc\n"
     ]
    }
   ],
   "source": [
    "print(1, 2, 3, 4, 'abc', sep='\\n')"
   ]
  },
  {
   "cell_type": "code",
   "execution_count": 248,
   "id": "1e30098c",
   "metadata": {},
   "outputs": [
    {
     "name": "stdout",
     "output_type": "stream",
     "text": [
      "+---------------------------------------------------+\n",
      "|               Cereal Yields (kg/ha)               |\n",
      "+---------------+--------+--------+--------+--------+\n",
      "|    Country    |  1980  |  1990  |  2000  |  2010  |\n",
      "+---------------+--------+--------+--------+--------+\n",
      "| China         |   2937 |   4321 |   4752 |   5527 |\n",
      "| Germany       |   4225 |   5411 |   6453 |   6718 |\n",
      "| United States |   3772 |   4755 |   5854 |   6988 |\n",
      "+---------------+--------+--------+--------+--------+\n"
     ]
    }
   ],
   "source": [
    "print('+' + '-'*(len(title)-2) + '+',\n",
    "      title,\n",
    "      line,\n",
    "      header,\n",
    "      line,\n",
    "      row.format('China', 2937, 4321, 4752, 5527),\n",
    "      row.format('Germany', 4225, 5411, 6453, 6718),\n",
    "      row.format('United States', 3772, 4755, 5854, 6988),\n",
    "      line,\n",
    "      sep='\\n')"
   ]
  }
 ],
 "metadata": {
  "kernelspec": {
   "display_name": "Python 3 (ipykernel)",
   "language": "python",
   "name": "python3"
  },
  "language_info": {
   "codemirror_mode": {
    "name": "ipython",
    "version": 3
   },
   "file_extension": ".py",
   "mimetype": "text/x-python",
   "name": "python",
   "nbconvert_exporter": "python",
   "pygments_lexer": "ipython3",
   "version": "3.8.12"
  }
 },
 "nbformat": 4,
 "nbformat_minor": 5
}
