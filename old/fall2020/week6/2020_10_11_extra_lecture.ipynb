{
 "cells": [
  {
   "cell_type": "code",
   "execution_count": 9,
   "metadata": {},
   "outputs": [
    {
     "name": "stdout",
     "output_type": "stream",
     "text": [
      "{'name': 'John', 'email': 'john@buffalo.edu', 'id': 12345, 'account_active': True, 'GPA': 3.5, 12: 'twelve'}\n"
     ]
    },
    {
     "data": {
      "text/plain": [
       "'twelve'"
      ]
     },
     "execution_count": 9,
     "metadata": {},
     "output_type": "execute_result"
    }
   ],
   "source": [
    "#my_dict = {key:value}\n",
    "# keys can be strings, ints \n",
    "my_dict = {'name': 'John', 'email': 'john@buffalo.edu', 'id': 12345, 'account_active': True, 'GPA': 3.5, 12: 'twelve'}\n",
    "print(my_dict)\n",
    "my_dict[12]\n",
    "\n",
    "\n",
    "\n"
   ]
  },
  {
   "cell_type": "code",
   "execution_count": 15,
   "metadata": {},
   "outputs": [
    {
     "name": "stdout",
     "output_type": "stream",
     "text": [
      "Name Missing\n"
     ]
    }
   ],
   "source": [
    "print(my_dict.get('Nammmeee', 'Name Missing'))"
   ]
  },
  {
   "cell_type": "code",
   "execution_count": 16,
   "metadata": {},
   "outputs": [
    {
     "name": "stdout",
     "output_type": "stream",
     "text": [
      "name\n",
      "email\n",
      "id\n",
      "account_active\n",
      "GPA\n",
      "12\n"
     ]
    }
   ],
   "source": [
    "for key in my_dict.keys():\n",
    "    print(key)"
   ]
  },
  {
   "cell_type": "code",
   "execution_count": 17,
   "metadata": {},
   "outputs": [
    {
     "name": "stdout",
     "output_type": "stream",
     "text": [
      "John\n",
      "john@buffalo.edu\n",
      "12345\n",
      "True\n",
      "3.5\n",
      "twelve\n"
     ]
    }
   ],
   "source": [
    "for value in my_dict.values():\n",
    "    print(value)"
   ]
  },
  {
   "cell_type": "code",
   "execution_count": 18,
   "metadata": {},
   "outputs": [
    {
     "name": "stdout",
     "output_type": "stream",
     "text": [
      "name John\n",
      "email john@buffalo.edu\n",
      "id 12345\n",
      "account_active True\n",
      "GPA 3.5\n",
      "12 twelve\n"
     ]
    }
   ],
   "source": [
    "for key, value in my_dict.items():\n",
    "    print(key, value)"
   ]
  },
  {
   "cell_type": "code",
   "execution_count": 20,
   "metadata": {},
   "outputs": [
    {
     "name": "stdout",
     "output_type": "stream",
     "text": [
      "{'name': 'Jane', 'email': 'john@buffalo.edu', 'id': 12345, 'account_active': True, 'GPA': 3.5, 12: 'twelve', 10: 'Ten'}\n"
     ]
    }
   ],
   "source": [
    "my_dict.update({'name': 'Jane', 10: 'Ten'})\n",
    "print(my_dict)"
   ]
  },
  {
   "cell_type": "code",
   "execution_count": 21,
   "metadata": {},
   "outputs": [],
   "source": [
    "del my_dict[10]"
   ]
  },
  {
   "cell_type": "code",
   "execution_count": 22,
   "metadata": {},
   "outputs": [
    {
     "data": {
      "text/plain": [
       "{'name': 'Jane',\n",
       " 'email': 'john@buffalo.edu',\n",
       " 'id': 12345,\n",
       " 'account_active': True,\n",
       " 'GPA': 3.5,\n",
       " 12: 'twelve'}"
      ]
     },
     "execution_count": 22,
     "metadata": {},
     "output_type": "execute_result"
    }
   ],
   "source": [
    "my_dict"
   ]
  },
  {
   "cell_type": "code",
   "execution_count": 23,
   "metadata": {},
   "outputs": [
    {
     "data": {
      "text/plain": [
       "{'name': 'Jane',\n",
       " 'email': 'john@buffalo.edu',\n",
       " 'id': 89998,\n",
       " 'account_active': True,\n",
       " 'GPA': 3.5,\n",
       " 12: 'twelve'}"
      ]
     },
     "execution_count": 23,
     "metadata": {},
     "output_type": "execute_result"
    }
   ],
   "source": [
    "my_dict['id'] = 89998\n",
    "my_dict"
   ]
  },
  {
   "cell_type": "code",
   "execution_count": 24,
   "metadata": {},
   "outputs": [
    {
     "data": {
      "text/plain": [
       "{'name': 'Jane',\n",
       " 'email': 'john@buffalo.edu',\n",
       " 'id': 89998,\n",
       " 'account_active': True,\n",
       " 'GPA': 3.5,\n",
       " 12: 'twelve',\n",
       " 'EASStuents': ['Jane', 'John', 'Bob']}"
      ]
     },
     "execution_count": 24,
     "metadata": {},
     "output_type": "execute_result"
    }
   ],
   "source": [
    "my_dict['EASStuents'] = ['Jane', 'John', 'Bob']\n",
    "my_dict"
   ]
  },
  {
   "cell_type": "code",
   "execution_count": 3,
   "metadata": {},
   "outputs": [
    {
     "data": {
      "text/plain": [
       "443"
      ]
     },
     "execution_count": 3,
     "metadata": {},
     "output_type": "execute_result"
    }
   ],
   "source": [
    "my_list = [123, True, 3.45, 'a string']\n",
    "my_list = [123, 443, 225]\n",
    "max(my_list)\n"
   ]
  },
  {
   "cell_type": "code",
   "execution_count": 25,
   "metadata": {},
   "outputs": [
    {
     "data": {
      "text/plain": [
       "31"
      ]
     },
     "execution_count": 25,
     "metadata": {},
     "output_type": "execute_result"
    }
   ],
   "source": [
    "days_in_months = [0, 31, 28, 31, 30, 31, 30, 31, 31, 30, 31, 30, 31]\n",
    "days_in_months[12]\n"
   ]
  },
  {
   "cell_type": "code",
   "execution_count": 26,
   "metadata": {},
   "outputs": [
    {
     "data": {
      "text/plain": [
       "'Fri'"
      ]
     },
     "execution_count": 26,
     "metadata": {},
     "output_type": "execute_result"
    }
   ],
   "source": [
    "days_in_week = ['', 'Mon', 'Tue', 'Wed', 'Thr', 'Fri', 'Sat', 'Sun']\n",
    "\n",
    "days_in_week[5]"
   ]
  },
  {
   "cell_type": "code",
   "execution_count": null,
   "metadata": {},
   "outputs": [],
   "source": [
    "count = 0\n",
    "header = False\n",
    "output = []\n",
    "dice = {}\n",
    "\n",
    "\n"
   ]
  },
  {
   "cell_type": "code",
   "execution_count": null,
   "metadata": {},
   "outputs": [],
   "source": [
    "dict[2] = 0\n",
    "dict[3] = 0"
   ]
  },
  {
   "cell_type": "code",
   "execution_count": 27,
   "metadata": {},
   "outputs": [
    {
     "name": "stdout",
     "output_type": "stream",
     "text": [
      "2 6 8\n",
      "6 1 7\n",
      "1 5 6\n",
      "3 2 5\n",
      "2 1 3\n",
      "2 2 4\n",
      "2 6 8\n",
      "3 4 7\n",
      "3 3 6\n",
      "3 5 8\n"
     ]
    }
   ],
   "source": [
    "import random\n",
    "no_simulation = 10\n",
    "for no in range(no_simulation):\n",
    "    dice1 = random.randint(1,6)\n",
    "    dice2 = random.randint(1,6)\n",
    "    print(dice1, dice2, dice1+dice2)"
   ]
  },
  {
   "cell_type": "code",
   "execution_count": 32,
   "metadata": {},
   "outputs": [
    {
     "data": {
      "text/plain": [
       "False"
      ]
     },
     "execution_count": 32,
     "metadata": {},
     "output_type": "execute_result"
    }
   ],
   "source": [
    "my_dict\n",
    "13 in my_dict"
   ]
  },
  {
   "cell_type": "code",
   "execution_count": 34,
   "metadata": {},
   "outputs": [
    {
     "data": {
      "text/plain": [
       "True"
      ]
     },
     "execution_count": 34,
     "metadata": {},
     "output_type": "execute_result"
    }
   ],
   "source": [
    "my_list = [1, 2, 3, 4]\n",
    "3 in my_list"
   ]
  },
  {
   "cell_type": "code",
   "execution_count": 35,
   "metadata": {},
   "outputs": [
    {
     "data": {
      "text/plain": [
       "True"
      ]
     },
     "execution_count": 35,
     "metadata": {},
     "output_type": "execute_result"
    }
   ],
   "source": [
    "'name' in my_dict.keys()"
   ]
  },
  {
   "cell_type": "code",
   "execution_count": 46,
   "metadata": {},
   "outputs": [
    {
     "name": "stdout",
     "output_type": "stream",
     "text": [
      "Total     Simulated Percent    Expected Percent  \n",
      "\n",
      "2                      2.76                 2.78\n",
      "3                      5.54                 5.56\n",
      "4                      8.32                 8.33\n",
      "5                     11.14                11.11\n",
      "6                     13.86                13.89\n",
      "7                     16.65                16.67\n",
      "8                     13.93                13.89\n",
      "9                     11.12                11.11\n",
      "10                     8.32                 8.33\n",
      "11                     5.57                 5.56\n",
      "12                     2.77                 2.78\n"
     ]
    }
   ],
   "source": [
    "######################################################\n",
    "# dict_ex5.py\n",
    "# Simulate two dice. Print the total, theoretical/expected probability, \n",
    "# and simulated probability\n",
    "# input: the number of simulations\n",
    "# https://socratic.org/questions/what-is-the-expected-value-of-the-sum-of-two-rolls-of-a-six-sided-die\n",
    "# Total     Simulated Percent     Expected Percent \n",
    "\n",
    "# 2                      2.76                 2.78\n",
    "# 3                      5.57                 5.56\n",
    "# 4                      8.34                 8.33\n",
    "# 5                      11.1                11.11\n",
    "# 6                     13.83                13.89\n",
    "# 7                     16.68                16.67\n",
    "# 8                      13.9                13.89\n",
    "# 9                      11.1                11.11\n",
    "# 10                     8.36                 8.33\n",
    "# 11                     5.57                 5.56\n",
    "# 12                     2.79                 2.78\n",
    "\n",
    "\n",
    "import random\n",
    "\n",
    "def two_dice(no_simulation):\n",
    "    theoretical_probabilities = [\n",
    "        0,\n",
    "        0,\n",
    "        1 / 36,\n",
    "        2 / 36,\n",
    "        3 / 36,\n",
    "        4 / 36,\n",
    "        5 / 36,\n",
    "        6 / 36,\n",
    "        5 / 36,\n",
    "        4 / 36,\n",
    "        3 / 36,\n",
    "        2 / 36,\n",
    "        1 / 36,\n",
    "    ]\n",
    "    \n",
    "    two_dice = {}\n",
    "    \n",
    "    for no in range(no_simulation):\n",
    "        dice1 = random.randint(1,6)\n",
    "        dice2 = random.randint(1,6)\n",
    "        \n",
    "        total = dice1 + dice2\n",
    "        \n",
    "        ### IMPORTANT\n",
    "        if total not in two_dice:\n",
    "            two_dice[total] = 0\n",
    "            \n",
    "        two_dice[total] += 1\n",
    "        \n",
    "    simulated_probability = [\n",
    "        0, \n",
    "        0,\n",
    "    ]\n",
    "    \n",
    "    for total in range(2, 13):\n",
    "        probability = two_dice[total]/no_simulation\n",
    "        simulated_probability.append(probability)\n",
    "        \n",
    "        \n",
    "    column1 = 'Total'\n",
    "    column2 = 'Simulated Percent'\n",
    "    column3 = 'Expected Percent '\n",
    "    \n",
    "    print(\n",
    "        column1.ljust(6),\n",
    "        column2.rjust(20),\n",
    "        column3.rjust(20),\n",
    "        '\\n'\n",
    "    )\n",
    "    for total in range(2, 13):\n",
    "        sp = round(simulated_probability[total] * 100, 2)\n",
    "        tp = round(theoretical_probabilities[total] * 100, 2)\n",
    "        print(\n",
    "            str(total).ljust(6),\n",
    "            str(sp).rjust(20),\n",
    "            str(tp).rjust(20)\n",
    "        )\n",
    "    \n",
    "two_dice(1000000)"
   ]
  },
  {
   "cell_type": "code",
   "execution_count": 47,
   "metadata": {},
   "outputs": [
    {
     "data": {
      "text/plain": [
       "100"
      ]
     },
     "execution_count": 47,
     "metadata": {},
     "output_type": "execute_result"
    }
   ],
   "source": [
    "# lambda_ex1.py\n",
    "# Write a function that squares a number and returns the value.\n",
    "# Write it again again using Lambda functions\n",
    "\n",
    "\n",
    "def square_1(number):\n",
    "    return number * number\n",
    "\n",
    "square_1(10)\n"
   ]
  },
  {
   "cell_type": "code",
   "execution_count": 48,
   "metadata": {},
   "outputs": [
    {
     "data": {
      "text/plain": [
       "100"
      ]
     },
     "execution_count": 48,
     "metadata": {},
     "output_type": "execute_result"
    }
   ],
   "source": [
    "square_2 = lambda number: number * number\n",
    "\n",
    "square_2(10)"
   ]
  },
  {
   "cell_type": "code",
   "execution_count": 49,
   "metadata": {},
   "outputs": [
    {
     "data": {
      "text/plain": [
       "15"
      ]
     },
     "execution_count": 49,
     "metadata": {},
     "output_type": "execute_result"
    }
   ],
   "source": [
    "# lambda_ex2.py\n",
    "# Write a lambda function for adding two numbers\n",
    "\n",
    "\n",
    "add_values = lambda val1, val2: val1 + val2\n",
    "\n",
    "add_values(10,5)"
   ]
  },
  {
   "cell_type": "code",
   "execution_count": 52,
   "metadata": {},
   "outputs": [
    {
     "data": {
      "text/plain": [
       "25"
      ]
     },
     "execution_count": 52,
     "metadata": {},
     "output_type": "execute_result"
    }
   ],
   "source": [
    "# lambda_ex3.py\n",
    "# Write a lambda function that multiples two numbers. \n",
    "# Use the lambda function as an input to another function. \n",
    "\n",
    "lambda_function = lambda number1, number2: number1 + number2\n",
    "\n",
    "def lambda_test(number1, number2, lambda_function):\n",
    "    return lambda_function(number1, number2)\n",
    "\n",
    "lambda_test(10, 15, lambda_function)"
   ]
  },
  {
   "cell_type": "code",
   "execution_count": 59,
   "metadata": {},
   "outputs": [
    {
     "name": "stdout",
     "output_type": "stream",
     "text": [
      "[0, 1, 4, 9, 16, 25, 36, 49, 64, 81]\n",
      "[0, 1, 4, 9, 16, 25, 36, 49, 64, 81]\n",
      "[0, 1, 4, 9, 16, 25, 36, 49, 64, 81]\n"
     ]
    }
   ],
   "source": [
    "# lambda_ex4.py\n",
    "# 1) Write a function to double a list\n",
    "# 2) Use list comprehension to double a list\n",
    "# 3) Use lambda with map to double a list\n",
    "\n",
    "# lambda functions are used with other functions. Usually with map, filter, sort\n",
    "# map objects are a generator. How many times can you iterate over them?\n",
    "\n",
    "\n",
    "\n",
    "my_list = list(range(10))\n",
    "\n",
    "\n",
    "def double_list(input_list):\n",
    "    output_list = []\n",
    "    for ele in input_list:\n",
    "        output_list.append(ele*ele)\n",
    "        \n",
    "    return output_list\n",
    "\n",
    "print(double_list(my_list))\n",
    "\n",
    "\n",
    "output2 = [ele*ele for ele in my_list]\n",
    "print(output2)\n",
    "\n",
    "list_doubler = lambda ele: ele*ele\n",
    "output3 = map(list_doubler, my_list)\n",
    "print(list(output3))\n",
    "\n"
   ]
  },
  {
   "cell_type": "code",
   "execution_count": 63,
   "metadata": {},
   "outputs": [
    {
     "name": "stdout",
     "output_type": "stream",
     "text": [
      "['John', 'Jane', 'Bob', 'Doe']\n",
      "['John', 'Jane', 'Bob', 'Doe']\n",
      "['John', 'Jane', 'Bob', 'Doe']\n"
     ]
    }
   ],
   "source": [
    "# lambda_ex5.py\n",
    "# Capitalize the names in the students list \n",
    "# 1) using a list and loop\n",
    "# 2) using list comprehension\n",
    "# 3) using lambda and map\n",
    "\n",
    "\n",
    "\n",
    "names = ['john', 'jane', 'bob', 'doe']\n",
    "\n",
    "def cap1(input_list):\n",
    "    output_list = []\n",
    "    for ele in input_list:\n",
    "        output_list.append(ele.title())\n",
    "        \n",
    "    return output_list\n",
    "        \n",
    "print(cap1(names))\n",
    "\n",
    "output2 = [ele.title() for ele in names]\n",
    "print(output2)\n",
    "\n",
    "cap_func = lambda ele: ele.title()\n",
    "output3 = map(cap_func, names)\n",
    "print(list(output3))\n"
   ]
  },
  {
   "cell_type": "code",
   "execution_count": 64,
   "metadata": {},
   "outputs": [
    {
     "name": "stdout",
     "output_type": "stream",
     "text": [
      "[90.0, 80.0, 70.0, 50.0]\n"
     ]
    }
   ],
   "source": [
    "# lambda_ex6.py\n",
    "# Using lambda and map, convert the numbers to float\n",
    "\n",
    "\n",
    "numbers = ['90', '80', '70', '50']\n",
    "\n",
    "convert_to_str = lambda ele: float(ele)\n",
    "\n",
    "output = map(convert_to_str, numbers)\n",
    "print(list(output))\n"
   ]
  },
  {
   "cell_type": "code",
   "execution_count": null,
   "metadata": {},
   "outputs": [],
   "source": []
  },
  {
   "cell_type": "code",
   "execution_count": 70,
   "metadata": {},
   "outputs": [
    {
     "name": "stdout",
     "output_type": "stream",
     "text": [
      "[1972, 1976, 1980, 1984, 1988, 1992, 1996, 2000]\n"
     ]
    }
   ],
   "source": [
    "# lambda_ex7.py\n",
    "# Create a dictionary where the key is year and value is \n",
    "# True/False if the year is a leap year\n",
    "\n",
    "# 1) using a loop and dict\n",
    "# 2) using filter without a function\n",
    "\n",
    "from pprint import pprint\n",
    "years = range(1970, 2001)\n",
    "\n",
    "def is_leap_year(year):\n",
    "    # does not work for all years\n",
    "    if year % 4 == 0:\n",
    "        return True\n",
    "    else:\n",
    "        return False\n",
    "\n",
    "\n",
    "year_dict1 = {}\n",
    "\n",
    "for year in years:\n",
    "    value = is_leap_year(year)\n",
    "    key = year\n",
    "    year_dict1[key] = value\n",
    "    \n",
    "for year in years:\n",
    "    year_dict1[year] = is_leap_year(year)\n",
    "    \n",
    "    \n",
    "# pprint(year_dict1)\n",
    "\n",
    "\n",
    "output2 = filter(lambda ele: is_leap_year(ele), years)\n",
    "print(list(output2))\n",
    "    \n"
   ]
  },
  {
   "cell_type": "code",
   "execution_count": 73,
   "metadata": {},
   "outputs": [
    {
     "name": "stdout",
     "output_type": "stream",
     "text": [
      "[1972, 1976, 1980, 1984, 1988, 1992, 1996, 2000]\n"
     ]
    }
   ],
   "source": [
    "leap_year_lambda = lambda year: year % 4 == 0 \n",
    "\n",
    "output = filter(leap_year_lambda, range(1970, 2001))\n",
    "print(list(output))"
   ]
  },
  {
   "cell_type": "code",
   "execution_count": 75,
   "metadata": {},
   "outputs": [
    {
     "name": "stdout",
     "output_type": "stream",
     "text": [
      "[394.4, 395.2, 396.0, 396.8, 397.6, 398.4, 399.2, 400.0]\n"
     ]
    }
   ],
   "source": [
    "print(list(map(lambda year: year/5, filter(lambda year: year % 4 == 0, range(1970, 2001)))))\n"
   ]
  },
  {
   "cell_type": "code",
   "execution_count": 76,
   "metadata": {},
   "outputs": [
    {
     "name": "stdout",
     "output_type": "stream",
     "text": [
      "['1972 is a leap year!', '1976 is a leap year!', '1980 is a leap year!', '1984 is a leap year!', '1988 is a leap year!', '1992 is a leap year!', '1996 is a leap year!', '2000 is a leap year!']\n"
     ]
    }
   ],
   "source": [
    "print(list(map(lambda year: f'{year} is a leap year!', filter(lambda year: year % 4 == 0, range(1970, 2001)) )))\n"
   ]
  },
  {
   "cell_type": "code",
   "execution_count": null,
   "metadata": {},
   "outputs": [],
   "source": [
    "# filter(function, sequence)\n",
    "\n",
    "leap_year_lambda = lambda year: year % 4 == 0 \n",
    "\n",
    "filter(leap_year_lambda, range(1970, 2000))\n",
    "\n",
    "print(list(filter(lambda year: year % 4 == 0, range(1970, 2000))))\n",
    "\n",
    "\n",
    "print(list(filter(lambda year: is_leap_year(year), range(1970, 2000))))\n",
    "\n",
    "\n",
    "print(list(map(lambda year: year/5, filter(lambda year: year % 4 == 0, range(1970, 2000)))))\n",
    "\n",
    "# # combining map with filter\n",
    "\n",
    "print(list(map(lambda year: f'{year} is a leap year!', filter(lambda year: year % 4 == 0, range(1970, 2000)) )))\n",
    "\n",
    "\n",
    "# # list comprehension\n",
    "\n",
    "# print()\n",
    "print([f'{year} is a leap year' for year in range(1970, 2000) if year % 4 == 0])\n"
   ]
  },
  {
   "cell_type": "code",
   "execution_count": 77,
   "metadata": {},
   "outputs": [
    {
     "name": "stdout",
     "output_type": "stream",
     "text": [
      "['1972 is a leap year', '1976 is a leap year', '1980 is a leap year', '1984 is a leap year', '1988 is a leap year', '1992 is a leap year', '1996 is a leap year', '2000 is a leap year']\n"
     ]
    }
   ],
   "source": [
    "print([f'{year} is a leap year' for year in range(1970, 2001) if year % 4 == 0])\n"
   ]
  },
  {
   "cell_type": "code",
   "execution_count": 80,
   "metadata": {},
   "outputs": [
    {
     "name": "stdout",
     "output_type": "stream",
     "text": [
      "John a  asfdsdfsdf  Doe sadfsdfs dfd s f \n"
     ]
    }
   ],
   "source": [
    "func = lambda fn, ln: fn + ' ' + ln\n",
    "\n",
    "print(func('John a  asfdsdfsdf ', 'Doe sadfsdfs dfd s f '))\n",
    "\n",
    "\n"
   ]
  },
  {
   "cell_type": "code",
   "execution_count": 81,
   "metadata": {},
   "outputs": [
    {
     "data": {
      "text/plain": [
       "[('abc', 3), ('efg', 1), ('hij', 2)]"
      ]
     },
     "execution_count": 81,
     "metadata": {},
     "output_type": "execute_result"
    }
   ],
   "source": [
    "# lambda_ex8.py\n",
    "# Sort x using value\n",
    "\n",
    "x = (('efg', 1), ('abc', 3), ('hij', 2))\n",
    "\n",
    "sorted(x)"
   ]
  },
  {
   "cell_type": "code",
   "execution_count": 82,
   "metadata": {},
   "outputs": [
    {
     "data": {
      "text/plain": [
       "[('efg', 1), ('hij', 2), ('abc', 3)]"
      ]
     },
     "execution_count": 82,
     "metadata": {},
     "output_type": "execute_result"
    }
   ],
   "source": [
    "sorted(x, key=lambda ele: ele[1])"
   ]
  },
  {
   "cell_type": "code",
   "execution_count": 83,
   "metadata": {},
   "outputs": [
    {
     "data": {
      "text/plain": [
       "[('abc', 3), ('efg', 1), ('hij', 2)]"
      ]
     },
     "execution_count": 83,
     "metadata": {},
     "output_type": "execute_result"
    }
   ],
   "source": [
    "sorted(x, key=lambda ele: ele[0])"
   ]
  },
  {
   "cell_type": "code",
   "execution_count": 85,
   "metadata": {},
   "outputs": [
    {
     "data": {
      "text/plain": [
       "[{'grade': 89, 'username': 'Kelly'},\n",
       " {'username': 'doe', 'grade': 35},\n",
       " {'username': 'jane', 'grade': 80},\n",
       " {'username': 'john', 'grade': 50}]"
      ]
     },
     "execution_count": 85,
     "metadata": {},
     "output_type": "execute_result"
    }
   ],
   "source": [
    "# lambda_ex9.py\n",
    "# sort dictionary by username \n",
    "# reverse sort\n",
    "\n",
    "students = [\n",
    "    {'username': 'john', 'grade': 50},\n",
    "    {'username': 'jane', 'grade': 80},\n",
    "    {'username': 'doe', 'grade': 35},\n",
    "    {'grade': 89, 'username': 'Kelly'}\n",
    "]\n",
    "\n",
    "\n",
    "sorted(students, key=lambda ele: ele['username'])"
   ]
  },
  {
   "cell_type": "code",
   "execution_count": 86,
   "metadata": {},
   "outputs": [
    {
     "data": {
      "text/plain": [
       "[{'username': 'doe', 'grade': 35},\n",
       " {'username': 'john', 'grade': 50},\n",
       " {'username': 'jane', 'grade': 80},\n",
       " {'grade': 89, 'username': 'Kelly'}]"
      ]
     },
     "execution_count": 86,
     "metadata": {},
     "output_type": "execute_result"
    }
   ],
   "source": [
    "sorted(students, key=lambda ele: ele['grade'])"
   ]
  },
  {
   "cell_type": "code",
   "execution_count": 87,
   "metadata": {},
   "outputs": [
    {
     "data": {
      "text/plain": [
       "[{'grade': 89, 'username': 'Kelly'},\n",
       " {'username': 'jane', 'grade': 80},\n",
       " {'username': 'john', 'grade': 50},\n",
       " {'username': 'doe', 'grade': 35}]"
      ]
     },
     "execution_count": 87,
     "metadata": {},
     "output_type": "execute_result"
    }
   ],
   "source": [
    "sorted(students, key=lambda ele: ele['grade'], reverse=True)"
   ]
  },
  {
   "cell_type": "code",
   "execution_count": 88,
   "metadata": {},
   "outputs": [
    {
     "data": {
      "text/plain": [
       "['Janette', 'doe', 'john']"
      ]
     },
     "execution_count": 88,
     "metadata": {},
     "output_type": "execute_result"
    }
   ],
   "source": [
    "# lambda_ex11.py\n",
    "# sort array by len of names\n",
    "students = ['john', 'Janette', 'doe']\n",
    "\n",
    "sorted(students)"
   ]
  },
  {
   "cell_type": "code",
   "execution_count": 90,
   "metadata": {},
   "outputs": [
    {
     "data": {
      "text/plain": [
       "['Janette', 'john', 'doe']"
      ]
     },
     "execution_count": 90,
     "metadata": {},
     "output_type": "execute_result"
    }
   ],
   "source": [
    "sorted(students, key=lambda name: len(name), reverse=True)\n"
   ]
  },
  {
   "cell_type": "code",
   "execution_count": 91,
   "metadata": {},
   "outputs": [
    {
     "data": {
      "text/plain": [
       "['doe', 'john', 'Janette']"
      ]
     },
     "execution_count": 91,
     "metadata": {},
     "output_type": "execute_result"
    }
   ],
   "source": [
    "sorted(students, key=lambda name: len(name), reverse=False)\n"
   ]
  },
  {
   "cell_type": "code",
   "execution_count": 94,
   "metadata": {},
   "outputs": [
    {
     "data": {
      "text/plain": [
       "[{'value': '34.4'}, {'value': '45.3'}, {'value': '73.4'}]"
      ]
     },
     "execution_count": 94,
     "metadata": {},
     "output_type": "execute_result"
    }
   ],
   "source": [
    "# lambda_ex12.py\n",
    "# sort list by value\n",
    "\n",
    "my_list = [{'value': '34.4'}, {'value': '73.4'}, {'value': '45.3'}]\n",
    "\n",
    "\n",
    "sorted(my_list, key=lambda ele: float(ele['value']))"
   ]
  },
  {
   "cell_type": "code",
   "execution_count": 95,
   "metadata": {},
   "outputs": [
    {
     "data": {
      "text/plain": [
       "[{'value': '73.4'}, {'value': '45.3'}, {'value': '34.4'}]"
      ]
     },
     "execution_count": 95,
     "metadata": {},
     "output_type": "execute_result"
    }
   ],
   "source": [
    "sorted(my_list, key=lambda ele: float(ele['value']), reverse=True)"
   ]
  },
  {
   "cell_type": "code",
   "execution_count": null,
   "metadata": {},
   "outputs": [],
   "source": []
  }
 ],
 "metadata": {
  "kernelspec": {
   "display_name": "Python 3",
   "language": "python",
   "name": "python3"
  },
  "language_info": {
   "codemirror_mode": {
    "name": "ipython",
    "version": 3
   },
   "file_extension": ".py",
   "mimetype": "text/x-python",
   "name": "python",
   "nbconvert_exporter": "python",
   "pygments_lexer": "ipython3",
   "version": "3.7.4"
  }
 },
 "nbformat": 4,
 "nbformat_minor": 2
}
