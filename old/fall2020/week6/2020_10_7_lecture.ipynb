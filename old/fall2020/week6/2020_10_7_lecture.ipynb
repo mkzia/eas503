{
 "cells": [
  {
   "cell_type": "code",
   "execution_count": 24,
   "metadata": {},
   "outputs": [
    {
     "name": "stdout",
     "output_type": "stream",
     "text": [
      "0.33624035633019433\n",
      "0.5329474175829568\n",
      "0.25079019006843495\n",
      "0.56557501864559\n",
      "0.12901117006448104\n",
      "0.9408131670509007\n",
      "0.07597928589647684\n",
      "0.8432428170083668\n",
      "0.6376556529493169\n",
      "0.3929954184938086\n"
     ]
    }
   ],
   "source": [
    "import random\n",
    "random.random() # gives you a number between 0-1 that is uniformaly disributed \n",
    "random.randint(0, 10) # generates a random number between a and b inclusive\n",
    "\n",
    "random.seed(random.random()) # these random numbers are pseudo random numbers\n",
    "for i in range(10):\n",
    "    print(random.random())\n",
    "    \n"
   ]
  },
  {
   "cell_type": "code",
   "execution_count": 33,
   "metadata": {},
   "outputs": [
    {
     "name": "stdout",
     "output_type": "stream",
     "text": [
      "HHTTHHHTTHHHTHHTTTTH\n"
     ]
    }
   ],
   "source": [
    "##################################################################\n",
    "# for_ex8.py\n",
    "# Write a function simulates a coin toss\n",
    "# Input: number of simulation\n",
    "# Output: a string that concatenates the results, ex. 'HHHTTTHTHTHT'\n",
    "\n",
    "\n",
    "def coin_toss(n):\n",
    "    import random\n",
    "    output = ''\n",
    "    for i in range(n):\n",
    "        value = random.randint(0, 1)\n",
    "        if value == 0:\n",
    "            coin = 'H'\n",
    "        elif value == 1:\n",
    "            coin = 'T'\n",
    "#         print(i, coin)\n",
    "        output += coin\n",
    "        \n",
    "    return output\n",
    "\n",
    "print(simulate_coin_toss(20))"
   ]
  },
  {
   "cell_type": "code",
   "execution_count": 41,
   "metadata": {},
   "outputs": [
    {
     "name": "stdout",
     "output_type": "stream",
     "text": [
      "(0.499821, 0.500179)\n"
     ]
    }
   ],
   "source": [
    "##################################################################\n",
    "# for_ex9.py\n",
    "# Write a function that uses the output from the \n",
    "# coin_toss function and calculates the probability of H and T\n",
    "# Input: number of simulation\n",
    "# Output: probability of H and T\n",
    "\n",
    "def ex9(n):\n",
    "    results = coin_toss(n)\n",
    "    h_count = 0\n",
    "    t_count = 0\n",
    "    for ele in results:\n",
    "        if ele == 'H':\n",
    "            h_count +=1\n",
    "        elif ele == 'T':\n",
    "            t_count += 1\n",
    "            \n",
    "    h_probability = h_count/n\n",
    "    t_probability = t_count/n\n",
    "    \n",
    "    return (h_probability, t_probability)\n",
    "    \n",
    "\n",
    "print(ex9(1000000))"
   ]
  },
  {
   "cell_type": "code",
   "execution_count": 59,
   "metadata": {},
   "outputs": [
    {
     "name": "stdout",
     "output_type": "stream",
     "text": [
      "student1 68.125\n",
      "student2 79.6\n",
      "student3 85.8\n",
      "student4 78.8\n",
      "student5 83.4\n",
      "student6 73.8\n",
      "student7 81.6\n",
      "student8 90.0\n",
      "student9 87.0\n",
      "student10 78.2\n"
     ]
    }
   ],
   "source": [
    "##################################################################\n",
    "# for_ex11.py\n",
    "# Write a function that reads a file in which each line has multiple student\n",
    "# grades and calculates the student average grade\n",
    "# Print average of each student on screen\n",
    "# Use list comprehension to convert grades to int\n",
    "# use: for_ex11_data.txt\n",
    "\n",
    "\n",
    "def for_ex11():\n",
    "    filename = 'for_ex11_data.txt'\n",
    "    with open(filename) as file:\n",
    "        for line in file:\n",
    "            if not line.strip():\n",
    "                continue\n",
    "                \n",
    "            name, *grades = line.strip().split(',')\n",
    "#             grades = grades.split(',')\n",
    "            total = 0\n",
    "            for grade in grades:\n",
    "                total += int(grade)\n",
    "                \n",
    "            average = total/len(grades)\n",
    "            print(name, average)\n",
    "            \n",
    "        \n",
    "for_ex11()  "
   ]
  },
  {
   "cell_type": "code",
   "execution_count": 53,
   "metadata": {},
   "outputs": [],
   "source": [
    "x = 'Student1,90,28,34,45'\n",
    "a, b, c = x.split(',', 2)"
   ]
  },
  {
   "cell_type": "code",
   "execution_count": 54,
   "metadata": {},
   "outputs": [
    {
     "name": "stdout",
     "output_type": "stream",
     "text": [
      "Student1 90 28,34,45\n"
     ]
    }
   ],
   "source": [
    "print(a, b, c)"
   ]
  },
  {
   "cell_type": "code",
   "execution_count": 56,
   "metadata": {},
   "outputs": [],
   "source": [
    "a, *b = x.split(',')"
   ]
  },
  {
   "cell_type": "code",
   "execution_count": 57,
   "metadata": {},
   "outputs": [
    {
     "name": "stdout",
     "output_type": "stream",
     "text": [
      "Student1 ['90', '28', '34', '45']\n"
     ]
    }
   ],
   "source": [
    "print(a, b)"
   ]
  },
  {
   "cell_type": "code",
   "execution_count": 60,
   "metadata": {},
   "outputs": [
    {
     "data": {
      "text/plain": [
       "['Student1', '90', '28', '34', '45']"
      ]
     },
     "execution_count": 60,
     "metadata": {},
     "output_type": "execute_result"
    }
   ],
   "source": [
    "x.split(',')"
   ]
  },
  {
   "cell_type": "code",
   "execution_count": 61,
   "metadata": {},
   "outputs": [
    {
     "name": "stdout",
     "output_type": "stream",
     "text": [
      "Student1 90 ['28', '34', '45']\n"
     ]
    }
   ],
   "source": [
    "a, b, *c = x.split(',')\n",
    "print(a, b, c)"
   ]
  },
  {
   "cell_type": "code",
   "execution_count": 65,
   "metadata": {},
   "outputs": [
    {
     "name": "stdout",
     "output_type": "stream",
     "text": [
      "Please input an integer: \n"
     ]
    },
    {
     "ename": "ZeroDivisionError",
     "evalue": "division by zero",
     "output_type": "error",
     "traceback": [
      "\u001b[1;31m---------------------------------------------------------------------------\u001b[0m",
      "\u001b[1;31mZeroDivisionError\u001b[0m                         Traceback (most recent call last)",
      "\u001b[1;32m<ipython-input-65-6b6642baa8a4>\u001b[0m in \u001b[0;36m<module>\u001b[1;34m\u001b[0m\n\u001b[0;32m     12\u001b[0m \u001b[1;33m\u001b[0m\u001b[0m\n\u001b[0;32m     13\u001b[0m \u001b[1;33m\u001b[0m\u001b[0m\n\u001b[1;32m---> 14\u001b[1;33m \u001b[0mprint\u001b[0m\u001b[1;33m(\u001b[0m\u001b[1;34m'Average is: '\u001b[0m\u001b[1;33m,\u001b[0m \u001b[0mtotal\u001b[0m\u001b[1;33m/\u001b[0m\u001b[0mcount\u001b[0m\u001b[1;33m)\u001b[0m\u001b[1;33m\u001b[0m\u001b[1;33m\u001b[0m\u001b[0m\n\u001b[0m\u001b[0;32m     15\u001b[0m \u001b[1;33m\u001b[0m\u001b[0m\n",
      "\u001b[1;31mZeroDivisionError\u001b[0m: division by zero"
     ]
    }
   ],
   "source": [
    "# Write a program that takes integers from the user and returns the average\n",
    "# Use a while loop and make an empty string the stop criteria.\n",
    "\n",
    "count = 0\n",
    "total = 0\n",
    "number = input('Please input an integer: ')\n",
    "while number != '':\n",
    "    number = int(number)\n",
    "    total += number\n",
    "    count += 1\n",
    "    number = input('Please input an integer: ')  \n",
    "    \n",
    "    \n",
    "print('Average is: ', total/count)\n",
    "\n"
   ]
  },
  {
   "cell_type": "code",
   "execution_count": 66,
   "metadata": {},
   "outputs": [
    {
     "name": "stdout",
     "output_type": "stream",
     "text": [
      "Please input an integer: 10\n",
      "Please input an integer: 20\n",
      "Please input an integer: 30\n",
      "Please input an integer: 49\n",
      "Please input an integer: 89\n",
      "Please input an integer: -100\n",
      "Average is:  39.6\n"
     ]
    }
   ],
   "source": [
    "###############################################################\n",
    "# while_ex2\n",
    "# Write a program that takes integers from the user and returns the average\n",
    "# Use a while loop and make negative number the stop criteria.\n",
    "\n",
    "count = 0\n",
    "total = 0\n",
    "number = int(input('Please input an integer: '))\n",
    "while number >= 0:\n",
    "    number = int(number)\n",
    "    total += number\n",
    "    count += 1\n",
    "    number = int(input('Please input an integer: '))  \n",
    "    \n",
    "    \n",
    "print('Average is: ', total/count)\n",
    "\n",
    "\n"
   ]
  },
  {
   "cell_type": "code",
   "execution_count": 69,
   "metadata": {},
   "outputs": [
    {
     "name": "stdout",
     "output_type": "stream",
     "text": [
      "Please input an integer: 56\n",
      "Please input an integer: 78\n",
      "Please input an integer: 32\n",
      "Please input an integer: -1\n",
      "Average is:  55.333333333333336\n",
      "F\n"
     ]
    }
   ],
   "source": [
    "###############################################################\n",
    "# while_ex3\n",
    "# Write a program that takes test grades from the user and returns their average and the letter grade of the average\n",
    "# Use a while loop and make negative number the stop criteria.\n",
    "# A >=90\n",
    "# B 80-89\n",
    "# C 70-79\n",
    "# D 60-69\n",
    "# F 59 or less\n",
    "\n",
    "\n",
    "count = 0\n",
    "total = 0\n",
    "number = int(input('Please input an integer: '))\n",
    "while number >= 0:\n",
    "    number = int(number)\n",
    "    total += number\n",
    "    count += 1\n",
    "    number = int(input('Please input an integer: '))  \n",
    "    \n",
    "    \n",
    "average = total/count\n",
    "\n",
    "print('Average is: ', total/count)\n",
    "\n",
    "if average >= 90:\n",
    "    print('A')\n",
    "elif 80 <= average <= 89:\n",
    "    print('B') \n",
    "elif 70 <= average <= 79:\n",
    "    print('C') \n",
    "elif 60 <= average <= 69:\n",
    "    print('D') \n",
    "elif average <= 59:\n",
    "    print('F') \n",
    "    \n",
    "\n",
    "\n"
   ]
  },
  {
   "cell_type": "code",
   "execution_count": 3,
   "metadata": {},
   "outputs": [
    {
     "name": "stdout",
     "output_type": "stream",
     "text": [
      "Please enter a number: 20\n",
      "20\n",
      "19\n",
      "18\n",
      "17\n",
      "16\n",
      "15\n",
      "14\n",
      "13\n",
      "12\n",
      "11\n",
      "10\n",
      "9\n",
      "8\n",
      "7\n",
      "6\n",
      "5\n",
      "4\n",
      "3\n",
      "2\n",
      "1\n",
      "0\n"
     ]
    }
   ],
   "source": [
    "# while_ex4\n",
    "# Write a program that takes an integer and counts down to zero -- print the value\n",
    "\n",
    "number = int(input('Please enter a number: '))\n",
    "while number >= 0:\n",
    "    print(number)\n",
    "    number -= 1"
   ]
  },
  {
   "cell_type": "code",
   "execution_count": 1,
   "metadata": {},
   "outputs": [
    {
     "name": "stdout",
     "output_type": "stream",
     "text": [
      "test\n"
     ]
    }
   ],
   "source": [
    "print('test')"
   ]
  },
  {
   "cell_type": "code",
   "execution_count": 6,
   "metadata": {},
   "outputs": [
    {
     "name": "stdout",
     "output_type": "stream",
     "text": [
      "Please enter a number: 20\n",
      "2\n",
      "4\n",
      "6\n",
      "8\n",
      "10\n",
      "12\n",
      "14\n",
      "16\n",
      "18\n",
      "20\n"
     ]
    }
   ],
   "source": [
    "number = int(input('Please enter a number: '))\n",
    "current_number = 1\n",
    "while current_number <= number:\n",
    "    if current_number % 2 == 0:\n",
    "        print(current_number)\n",
    "    current_number += 1\n",
    "    \n",
    "    \n",
    "    "
   ]
  },
  {
   "cell_type": "code",
   "execution_count": 12,
   "metadata": {},
   "outputs": [
    {
     "data": {
      "text/plain": [
       "['Odd: 1', 'Odd: 3', 'Odd: 5', 'Odd: 7', 'Odd: 9']"
      ]
     },
     "execution_count": 12,
     "metadata": {},
     "output_type": "execute_result"
    }
   ],
   "source": [
    "my_list = list(range(1, 10))\n",
    "[ f'Odd: {ele}' for ele in my_list if ele % 2 != 0]"
   ]
  },
  {
   "cell_type": "code",
   "execution_count": 11,
   "metadata": {},
   "outputs": [
    {
     "data": {
      "text/plain": [
       "[1, 2, 3, 4, 5, 6, 7, 8, 9]"
      ]
     },
     "execution_count": 11,
     "metadata": {},
     "output_type": "execute_result"
    }
   ],
   "source": [
    "[ele for ele in my_list]"
   ]
  },
  {
   "cell_type": "code",
   "execution_count": 13,
   "metadata": {},
   "outputs": [
    {
     "data": {
      "text/plain": [
       "['Even: 2', 'Even: 4', 'Even: 6', 'Even: 8']"
      ]
     },
     "execution_count": 13,
     "metadata": {},
     "output_type": "execute_result"
    }
   ],
   "source": [
    "my_list = list(range(1, 10))\n",
    "[ f'Even: {ele}' for ele in my_list if ele % 2 == 0]"
   ]
  },
  {
   "cell_type": "code",
   "execution_count": 14,
   "metadata": {},
   "outputs": [
    {
     "data": {
      "text/plain": [
       "['Odd: 1',\n",
       " 'Even: 2',\n",
       " 'Odd: 3',\n",
       " 'Even: 4',\n",
       " 'Odd: 5',\n",
       " 'Even: 6',\n",
       " 'Odd: 7',\n",
       " 'Even: 8',\n",
       " 'Odd: 9',\n",
       " 'Even: 10',\n",
       " 'Odd: 11',\n",
       " 'Even: 12',\n",
       " 'Odd: 13',\n",
       " 'Even: 14',\n",
       " 'Odd: 15',\n",
       " 'Even: 16',\n",
       " 'Odd: 17',\n",
       " 'Even: 18',\n",
       " 'Odd: 19']"
      ]
     },
     "execution_count": 14,
     "metadata": {},
     "output_type": "execute_result"
    }
   ],
   "source": [
    "# [ f(ele) if condition else g(ele) for ele in sequence ]\n",
    "\n",
    "my_list = list(range(1,20))\n",
    "[f'Even: {ele}' if ele % 2 == 0 else f'Odd: {ele}' for ele in my_list]"
   ]
  },
  {
   "cell_type": "code",
   "execution_count": 17,
   "metadata": {},
   "outputs": [
    {
     "name": "stdout",
     "output_type": "stream",
     "text": [
      "['Odd: 1', 'Even: 2', 'Odd: 3', 'Even: 4', 'Odd: 5', 'Even: 6', 'Odd: 7', 'Even: 8', 'Odd: 9', 'Even: 10', 'Odd: 11', 'Even: 12', 'Odd: 13', 'Even: 14', 'Odd: 15', 'Even: 16', 'Odd: 17', 'Even: 18', 'Odd: 19']\n"
     ]
    }
   ],
   "source": [
    "output = []\n",
    "for ele in my_list:\n",
    "    if ele % 2 == 0:\n",
    "        output.append(f'Even: {ele}')\n",
    "    else:\n",
    "        output.append(f'Odd: {ele}')\n",
    "print(output)"
   ]
  },
  {
   "cell_type": "code",
   "execution_count": 18,
   "metadata": {},
   "outputs": [
    {
     "name": "stdout",
     "output_type": "stream",
     "text": [
      "[1, 4, 9, 16, 25, 36, 49, 64, 81, 100, 121, 144, 169, 196, 225, 256, 289, 324, 361]\n"
     ]
    }
   ],
   "source": [
    "# list_comp_ex1.py\n",
    "# Re-write the following code to use List Comprehension\n",
    "# my_list = [1, 2, 3]\n",
    "# new_list = []\n",
    "# for ele in my_list:\n",
    "#     tmp = ele * ele\n",
    "#     new_list.append(tmp)\n",
    "\n",
    "new_list = [ele*ele for ele in my_list]\n",
    "print(new_list)\n"
   ]
  },
  {
   "cell_type": "code",
   "execution_count": 19,
   "metadata": {},
   "outputs": [
    {
     "name": "stdout",
     "output_type": "stream",
     "text": [
      "[10, 20, 30, 40, 50, 60, 70, 80, 90, 100, 110, 120, 130, 140, 150, 160, 170, 180, 190]\n"
     ]
    }
   ],
   "source": [
    "###############################################################\n",
    "# list_comp_ex2.py\n",
    "# Re-write the following code to use List Comprehension\n",
    "# # Multiply each number by 10\n",
    "\n",
    "# my_list = [1, 2, 3]\n",
    "# new_list = []\n",
    "# for ele in my_list:\n",
    "#     tmp = ele * 10\n",
    "#     new_list.append(tmp)\n",
    "\n",
    "\n",
    "new_list = [ele*10 for ele in my_list]\n",
    "print(new_list)"
   ]
  },
  {
   "cell_type": "code",
   "execution_count": 24,
   "metadata": {},
   "outputs": [
    {
     "name": "stdout",
     "output_type": "stream",
     "text": [
      "['B', 'U', 'F', 'F', 'A', 'L', 'O']\n",
      "B-U-F-F-A-L-O\n",
      "B  U  F  F  A  L  O\n",
      "BUFFALO\n"
     ]
    }
   ],
   "source": [
    "###############################################################\n",
    "# list_comp_ex3.py\n",
    "# Upper case each letter in animal variable\n",
    "\n",
    "# # Works with any type of sequence\n",
    "\n",
    "animal = 'buffalo'\n",
    "\n",
    "new_animal = [char.upper() for char in animal]\n",
    "print(new_animal)\n",
    "new_animal2 = '-'.join(new_animal)\n",
    "print(new_animal2)\n",
    "new_animal2 = '  '.join(new_animal)\n",
    "print(new_animal2)\n",
    "new_animal2 = ''.join(new_animal)\n",
    "print(new_animal2)"
   ]
  },
  {
   "cell_type": "code",
   "execution_count": 26,
   "metadata": {},
   "outputs": [
    {
     "name": "stdout",
     "output_type": "stream",
     "text": [
      "['John', 'Jane', 'Doe']\n"
     ]
    }
   ],
   "source": [
    "###############################################################\n",
    "# list_comp_ex4.py\n",
    "# Title each name in the student list\n",
    "\n",
    "students = ['john', 'jane', 'doe']\n",
    "\n",
    "students = [student.title() for student in students]\n",
    "print(students)\n"
   ]
  },
  {
   "cell_type": "code",
   "execution_count": 29,
   "metadata": {},
   "outputs": [
    {
     "name": "stdout",
     "output_type": "stream",
     "text": [
      "['0 is False', ' is False', '[] is False', '0.0 is False', '10 is True', 'Hello is True', 'True is True']\n"
     ]
    }
   ],
   "source": [
    "###############################################################\n",
    "# list_comp_ex5.py\n",
    "# Use list comprehension to get the Truthiness of each element in my_list\n",
    "\n",
    "my_list = [0, '', [], 0.0, 10, 'Hello', True]\n",
    "\n",
    "output = [f'{ele} is True' if ele else f'{ele} is False' for ele in my_list ]\n",
    "print(output)\n"
   ]
  },
  {
   "cell_type": "code",
   "execution_count": 30,
   "metadata": {},
   "outputs": [
    {
     "name": "stdout",
     "output_type": "stream",
     "text": [
      "['0', '1', '2', '3', '4', '5']\n"
     ]
    }
   ],
   "source": [
    "###############################################################\n",
    "# list_comp_ex6.py\n",
    "# convert each element of my_list to str using list comprehension\n",
    "\n",
    "my_list = range(6)\n",
    "\n",
    "output = [str(ele) for ele in my_list]\n",
    "print(output)"
   ]
  },
  {
   "cell_type": "code",
   "execution_count": 32,
   "metadata": {},
   "outputs": [
    {
     "name": "stdout",
     "output_type": "stream",
     "text": [
      "[0, 2, 4, 6, 8, 10, 12, 14, 16, 18]\n"
     ]
    }
   ],
   "source": [
    "###############################################################\n",
    "# list_comp_ex7.py\n",
    "# use list comprehension to reduce a list of numbers to just even or odd\n",
    "\n",
    "\n",
    "numbers = range(20)\n",
    "\n",
    "even = [number for number in numbers if number % 2 == 0]\n",
    "print(even)"
   ]
  },
  {
   "cell_type": "code",
   "execution_count": 35,
   "metadata": {},
   "outputs": [
    {
     "name": "stdout",
     "output_type": "stream",
     "text": [
      "[0, 1, 2, 27, 4, 125, 6, 343, 8, 729]\n"
     ]
    }
   ],
   "source": [
    "###############################################################\n",
    "# list_comp_ex8.py\n",
    "# use list comprehension to modify a list of numbers such that evens are left as is\n",
    "# and the odds are raised to the three power\n",
    "\n",
    "\n",
    "numbers = range(10)\n",
    "\n",
    "output = [ele if ele % 2 == 0 else ele**3 for ele in numbers]\n",
    "print(output)\n"
   ]
  },
  {
   "cell_type": "code",
   "execution_count": 37,
   "metadata": {},
   "outputs": [
    {
     "name": "stdout",
     "output_type": "stream",
     "text": [
      " rlly wnt t g t wrk\n"
     ]
    }
   ],
   "source": [
    "###############################################################\n",
    "# list_comp_ex9.py\n",
    "# use list comprehension to remove vowels from a sentence\n",
    "\n",
    "sentence = 'I rEAlly want to gO to work'\n",
    "\n",
    "output = ''.join([char for char in sentence if char.lower() not in 'aeiou'])\n",
    "print(output)"
   ]
  },
  {
   "cell_type": "code",
   "execution_count": 38,
   "metadata": {},
   "outputs": [],
   "source": [
    "A = {0, 2, 4, 6, 8};\n",
    "B = {1, 2, 3, 4, 5};\n",
    "\n",
    "# 2 in A\n",
    "\n",
    "# # union -- all values\n",
    "A | B\n",
    "\n",
    "# # intersection -- shared values\n",
    "A & B\n",
    "\n",
    "# # difference -- order matters\n",
    "A - B\n",
    "B - A\n",
    "\n",
    "# # symmetric difference  https://en.wikipedia.org/wiki/Symmetric_difference\n",
    "A ^ B\n",
    "\n",
    "my_list = [1, 1, 2, 3]\n",
    "my_list = list(set(my_list))"
   ]
  },
  {
   "cell_type": "code",
   "execution_count": 43,
   "metadata": {},
   "outputs": [],
   "source": [
    "A = {0, 2, 4, 6, 8}\n",
    "B = {1, 2, 3, 4, 5}"
   ]
  },
  {
   "cell_type": "code",
   "execution_count": 44,
   "metadata": {},
   "outputs": [
    {
     "name": "stdout",
     "output_type": "stream",
     "text": [
      "{0, 2, 4, 6, 8}\n"
     ]
    }
   ],
   "source": [
    "print(A)"
   ]
  },
  {
   "cell_type": "code",
   "execution_count": 45,
   "metadata": {},
   "outputs": [
    {
     "name": "stdout",
     "output_type": "stream",
     "text": [
      "{1, 2, 3, 4, 5}\n"
     ]
    }
   ],
   "source": [
    "print(B)"
   ]
  },
  {
   "cell_type": "code",
   "execution_count": 42,
   "metadata": {},
   "outputs": [
    {
     "data": {
      "text/plain": [
       "{0, 1, 2, 3, 4, 5, 6, 8}"
      ]
     },
     "execution_count": 42,
     "metadata": {},
     "output_type": "execute_result"
    }
   ],
   "source": [
    "A | B"
   ]
  },
  {
   "cell_type": "code",
   "execution_count": 46,
   "metadata": {},
   "outputs": [
    {
     "data": {
      "text/plain": [
       "{2, 4}"
      ]
     },
     "execution_count": 46,
     "metadata": {},
     "output_type": "execute_result"
    }
   ],
   "source": [
    "A & B"
   ]
  },
  {
   "cell_type": "code",
   "execution_count": 47,
   "metadata": {},
   "outputs": [
    {
     "data": {
      "text/plain": [
       "{0, 6, 8}"
      ]
     },
     "execution_count": 47,
     "metadata": {},
     "output_type": "execute_result"
    }
   ],
   "source": [
    "A - B"
   ]
  },
  {
   "cell_type": "code",
   "execution_count": 49,
   "metadata": {},
   "outputs": [
    {
     "name": "stdout",
     "output_type": "stream",
     "text": [
      "{0, 2, 4, 6, 8}\n",
      "{1, 2, 3, 4, 5}\n"
     ]
    }
   ],
   "source": [
    "print(A)\n",
    "print(B)"
   ]
  },
  {
   "cell_type": "code",
   "execution_count": 50,
   "metadata": {},
   "outputs": [
    {
     "data": {
      "text/plain": [
       "{1, 3, 5}"
      ]
     },
     "execution_count": 50,
     "metadata": {},
     "output_type": "execute_result"
    }
   ],
   "source": [
    "B - A"
   ]
  },
  {
   "cell_type": "code",
   "execution_count": 51,
   "metadata": {},
   "outputs": [
    {
     "data": {
      "text/plain": [
       "{0, 1, 3, 5, 6, 8}"
      ]
     },
     "execution_count": 51,
     "metadata": {},
     "output_type": "execute_result"
    }
   ],
   "source": [
    "A ^ B"
   ]
  },
  {
   "cell_type": "code",
   "execution_count": 53,
   "metadata": {},
   "outputs": [
    {
     "name": "stdout",
     "output_type": "stream",
     "text": [
      "[0, 1, 2, 3, 4, 8, 9]\n"
     ]
    }
   ],
   "source": [
    "my_list = [1, 1, 2, 3, 4, 4, 8, 0, 9]\n",
    "my_list = list(set(my_list))\n",
    "print(my_list)"
   ]
  },
  {
   "cell_type": "code",
   "execution_count": 59,
   "metadata": {},
   "outputs": [
    {
     "name": "stdout",
     "output_type": "stream",
     "text": [
      "['A2M', 'ABCC10', 'ABCG4', 'AADACL2', 'AARS1', 'ABCC6', 'ACOX1', 'ABCA7', 'ACSS2', 'ACER2', 'ACOT6', 'AAMP', 'ACTL8', 'ACTR6', 'ACTR3', 'ACTR3B', 'ACP6', 'ABCD2', 'ACYP1', 'ABCA4', 'AADAC', 'ACTR2', 'ACTL10', 'AADAT', 'ACTA1', 'ABCC5', 'ACSF2', 'ABCD1', 'ABHD3', 'ACRV1', 'ACTBL2', 'ACYP2', 'ABCG5', 'ACTA2', 'ACSL1', 'ABCB10', 'A4GNT', 'ABCB11', 'ACLY', 'AAMDC', 'ACTG2', 'ACTR5', 'ACY3', 'ACSS3', 'ACOT2', 'ACSS1', 'ACSM2B', 'ACTRT3', 'ABCF3', 'AASDHPPT', 'ACO1', 'ABHD8', 'ABCA5', 'ABCB1', 'ABCA13', 'ACY1', 'AAGAB', 'ACSM1', 'ABCB4', 'ACSM6', 'ACTR1A', 'A1BG', 'ACVR2A', 'AARD', 'ACE', 'ACSBG2', 'ABCC2', 'AAAS', 'ABCB7', 'ACOXL', 'ACSM4', 'AASS', 'ABCA1', 'ABCB5', 'ABHD5', 'ACTL7B', 'ABCG2', 'ACR', 'ABCA8', 'ABCB9', 'ABCD3', 'ACTRT2', 'ACD', 'ACHE', 'AAR2', 'ABCC3', 'ACP1', 'ABCB8', 'ACE2', 'ACTL6A', 'ACVRL1', 'ACSL6', 'ACTG1', 'ABCG8', 'AATF', 'ACOT8', 'ACIN1', 'ACOX3', 'ACVR1C', 'A4GALT', 'AARS2', 'ACP3', 'ACO2', 'ABHD6', 'ACVR1B', 'ACTN1', 'ADA', 'ABHD2', 'ACSL4', 'AARSD1', 'ACSL5', 'ABCC1', 'ACOT9', 'ACOT1', 'ACTN4', 'ACTR10', 'ACP7', 'ACOT13', 'ABCC4', 'ACTC1', 'ABCE1', 'ABCC9', 'ACER1', 'ACTR8', 'ABCC12', 'AAK1', 'ABCA9', 'ACRBP', 'ACSF3', 'ACSM2A', 'A1CF', 'ABCA3', 'ABCA6', 'ACKR1', 'ACSM5', 'ABCG1', 'ACER3', 'ACOD1', 'ABHD4', 'ACOT7', 'ACTN3', 'ACSL3', 'ACTL7A', 'ACP4', 'AATK', 'ACSM3', 'ACOT4', 'ACOT11', 'ACP2', 'AADACL4', 'ABCF1', 'AADACL3', 'A3GALT2', 'ACP5', 'ACTN2', 'ABCB6', 'ABCA12', 'ACKR4', 'ACTR1B', 'AASDH', 'ACTL9', 'ACKR3', 'ABCC11', 'ABCF2', 'A2ML1', 'ABAT', 'ACOT12', 'ABHD10', 'ACKR2', 'ACOX2', 'ABHD1', 'AACS', 'ABCA10', 'ACTR3C', 'AANAT', 'ACMSD', 'ACTL6B', 'ACTB', 'ABCD4', 'ACTRT1', 'ACVR2B', 'ACSBG1', 'ABCA2', 'ABCC8', 'ACVR1']\n",
      "['ZRANB2', 'ZRANB3', 'ZNRD1', 'ZSCAN26', 'ZNRF1', 'ZNF830', 'ZNHIT1', 'ZNF878', 'ZNF718', 'ZNF787', 'ZNF850', 'ZNF789', 'ZRSR2', 'ZP4', 'ZNF875', 'ZNF766', 'ZSCAN5B', 'ZNF737', 'ZNRF4', 'ZNF771', 'ZNF865', 'ZSCAN21', 'ZNF829', 'ZNF891', 'ZNF841', 'ZNF821', 'ZNF880', 'ZSCAN16', 'ZNF776', 'ZNF775', 'ZSCAN31', 'ZNF768', 'ZNF750', 'ZNF780A', 'ZPLD1', 'ZNF837', 'ZNF836', 'ZSWIM1', 'ZNF792', 'ZNF786', 'ZNF714', 'ZNF747', 'ZNF790', 'ZSCAN12', 'ZNF746', 'ZNF852', 'ZNF720', 'ZNF784', 'ZSCAN23', 'ZSCAN5A', 'ZNF723', 'ZNF764', 'ZNF781', 'ZNRD2', 'ZNF736', 'ZNF738', 'ZSWIM5', 'ZNF726', 'ZNF774', 'ZNF853', 'ZSWIM3', 'ZNF846', 'ZNF773', 'ZNF816', 'ZNF772', 'ZNF843', 'ZNF735', 'ZNF761', 'ZP2', 'ZPBP2', 'ZNF862', 'ZNF780B', 'ZNF804A', 'ZNF805', 'ZNF724', 'ZNF717', 'ZNF823', 'ZNF730', 'ZNRF2', 'ZSWIM2', 'ZNF770', 'ZNF721', 'ZNF827', 'ZSCAN5C', 'ZNF729', 'ZSCAN10', 'ZNF728', 'ZUP1', 'ZNF813', 'ZNF777', 'ZNF860', 'ZPR1', 'ZNF839', 'ZNF782', 'ZNF778', 'ZNF785', 'ZNF835', 'ZRANB1', 'ZNF845', 'ZNF765', 'ZNF831', 'ZNF716', 'ZSCAN2', 'ZNF732', 'ZNF749', 'ZSWIM6', 'ZSCAN29', 'ZSWIM7', 'ZSCAN4', 'ZNF804B', 'ZSCAN30', 'ZSCAN9', 'ZSCAN22', 'ZNRF3', 'ZPBP', 'ZSCAN18', 'ZNF844', 'ZSWIM9', 'ZNFX1', 'ZSCAN32', 'ZNF879', 'ZSWIM4', 'ZNHIT6', 'ZP3', 'ZSWIM8', 'ZNF800', 'ZNF763', 'ZNF783', 'ZNF793', 'ZNF888', 'ZSCAN1', 'ZNF808', 'ZNF791', 'ZNF727', 'ZP1', 'ZNF883', 'ZNHIT3', 'ZSCAN25', 'ZNHIT2', 'ZNF814', 'ZNF740', 'ZNF799', 'ZSCAN20']\n"
     ]
    }
   ],
   "source": [
    "# Ex1\n",
    "# Write a function that takes name of two gene files, \n",
    "# reads them, and returns which genes are:\n",
    "# 1) In first file but not in second file\n",
    "# 2) In second file but not in first file\n",
    "\n",
    "def analyze_gene_files(filename1, filename2):\n",
    "    gene1 = []\n",
    "    gene2 = []\n",
    "    with open(filename1) as file:\n",
    "        for gene in file:\n",
    "            if not gene.strip():\n",
    "                continue\n",
    "            gene = gene.strip()\n",
    "            gene1.append(gene)\n",
    "            \n",
    "    with open(filename2) as file:\n",
    "        for gene in file:\n",
    "            if not gene.strip():\n",
    "                continue\n",
    "            gene = gene.strip()\n",
    "            gene2.append(gene)\n",
    "            \n",
    "            \n",
    "    diff1 = list(set(gene1)-set(gene2))\n",
    "    print(diff1)\n",
    "    \n",
    "    diff2 = list(set(gene2)-set(gene1))\n",
    "    print(diff2)\n",
    "\n",
    "analyze_gene_files('gene_list1.txt', 'gene_list2.txt')"
   ]
  },
  {
   "cell_type": "code",
   "execution_count": 63,
   "metadata": {},
   "outputs": [
    {
     "data": {
      "text/plain": [
       "'John Doe'"
      ]
     },
     "execution_count": 63,
     "metadata": {},
     "output_type": "execute_result"
    }
   ],
   "source": [
    "student = ['John Doe', 'jdoe@bufflao.edu', 123456789, 'Science']\n",
    "student[0]"
   ]
  },
  {
   "cell_type": "code",
   "execution_count": 61,
   "metadata": {},
   "outputs": [],
   "source": [
    "my_dict = {\n",
    "    'name': 'john',\n",
    "    'email': 'john@email.com',\n",
    "    'id': 1234,\n",
    "    'major': 'Engineering'\n",
    "}"
   ]
  },
  {
   "cell_type": "code",
   "execution_count": 62,
   "metadata": {},
   "outputs": [
    {
     "name": "stdout",
     "output_type": "stream",
     "text": [
      "{'name': 'john', 'email': 'john@email.com', 'id': 1234, 'major': 'Engineering'}\n"
     ]
    }
   ],
   "source": [
    "print(my_dict)"
   ]
  },
  {
   "cell_type": "code",
   "execution_count": 66,
   "metadata": {},
   "outputs": [
    {
     "name": "stdout",
     "output_type": "stream",
     "text": [
      "1234\n"
     ]
    }
   ],
   "source": [
    "print(my_dict['id'])"
   ]
  },
  {
   "cell_type": "code",
   "execution_count": 67,
   "metadata": {},
   "outputs": [
    {
     "name": "stdout",
     "output_type": "stream",
     "text": [
      "{'name': 'john', 'email': 'john@email.com', 'id': 1234, 'major': 'Engineering'}\n"
     ]
    }
   ],
   "source": [
    "my_dict = dict(\n",
    "    name='john',\n",
    "    email='john@email.com',\n",
    "    id=1234,\n",
    "    major='Engineering'\n",
    ")\n",
    "print(my_dict)"
   ]
  },
  {
   "cell_type": "code",
   "execution_count": 69,
   "metadata": {},
   "outputs": [
    {
     "data": {
      "text/plain": [
       "'john'"
      ]
     },
     "execution_count": 69,
     "metadata": {},
     "output_type": "execute_result"
    }
   ],
   "source": [
    "key = 'name'\n",
    "my_dict['name']\n",
    "\n"
   ]
  },
  {
   "cell_type": "code",
   "execution_count": 70,
   "metadata": {},
   "outputs": [
    {
     "data": {
      "text/plain": [
       "'john'"
      ]
     },
     "execution_count": 70,
     "metadata": {},
     "output_type": "execute_result"
    }
   ],
   "source": [
    "my_dict[key]"
   ]
  },
  {
   "cell_type": "code",
   "execution_count": 71,
   "metadata": {},
   "outputs": [
    {
     "data": {
      "text/plain": [
       "dict_values(['john', 'john@email.com', 1234, 'Engineering'])"
      ]
     },
     "execution_count": 71,
     "metadata": {},
     "output_type": "execute_result"
    }
   ],
   "source": [
    "my_dict.values()"
   ]
  },
  {
   "cell_type": "code",
   "execution_count": 72,
   "metadata": {},
   "outputs": [
    {
     "data": {
      "text/plain": [
       "dict_keys(['name', 'email', 'id', 'major'])"
      ]
     },
     "execution_count": 72,
     "metadata": {},
     "output_type": "execute_result"
    }
   ],
   "source": [
    "my_dict.keys()"
   ]
  },
  {
   "cell_type": "code",
   "execution_count": 73,
   "metadata": {},
   "outputs": [
    {
     "name": "stdout",
     "output_type": "stream",
     "text": [
      "john\n",
      "john@email.com\n",
      "1234\n",
      "Engineering\n"
     ]
    }
   ],
   "source": [
    "for val in my_dict.values():\n",
    "    print(val)"
   ]
  },
  {
   "cell_type": "code",
   "execution_count": 74,
   "metadata": {},
   "outputs": [
    {
     "name": "stdout",
     "output_type": "stream",
     "text": [
      "name\n",
      "email\n",
      "id\n",
      "major\n"
     ]
    }
   ],
   "source": [
    "for key in my_dict.keys():\n",
    "    print(key)"
   ]
  },
  {
   "cell_type": "code",
   "execution_count": 76,
   "metadata": {},
   "outputs": [
    {
     "name": "stdout",
     "output_type": "stream",
     "text": [
      "name: john\n",
      "email: john@email.com\n",
      "id: 1234\n",
      "major: Engineering\n"
     ]
    }
   ],
   "source": [
    "for key, val in my_dict.items():\n",
    "    print(f'{key}: {val}')"
   ]
  },
  {
   "cell_type": "code",
   "execution_count": 79,
   "metadata": {},
   "outputs": [
    {
     "name": "stdout",
     "output_type": "stream",
     "text": [
      "True\n"
     ]
    }
   ],
   "source": [
    "key = 'major'\n",
    "if key in my_dict:\n",
    "    print(True)\n",
    "else:\n",
    "    print(False)"
   ]
  },
  {
   "cell_type": "code",
   "execution_count": 80,
   "metadata": {},
   "outputs": [
    {
     "name": "stdout",
     "output_type": "stream",
     "text": [
      "True\n"
     ]
    }
   ],
   "source": [
    "value = 'john'\n",
    "if value in my_dict.values():\n",
    "    print(True)\n",
    "else:\n",
    "    print(False)\n"
   ]
  },
  {
   "cell_type": "code",
   "execution_count": 81,
   "metadata": {},
   "outputs": [
    {
     "name": "stdout",
     "output_type": "stream",
     "text": [
      "False\n"
     ]
    }
   ],
   "source": [
    "value = 'Jane'\n",
    "if value in my_dict.values():\n",
    "    print(True)\n",
    "else:\n",
    "    print(False)"
   ]
  },
  {
   "cell_type": "code",
   "execution_count": 82,
   "metadata": {},
   "outputs": [],
   "source": [
    "my_dict.clear()"
   ]
  },
  {
   "cell_type": "code",
   "execution_count": 83,
   "metadata": {},
   "outputs": [
    {
     "data": {
      "text/plain": [
       "{}"
      ]
     },
     "execution_count": 83,
     "metadata": {},
     "output_type": "execute_result"
    }
   ],
   "source": [
    "my_dict"
   ]
  },
  {
   "cell_type": "code",
   "execution_count": 84,
   "metadata": {},
   "outputs": [
    {
     "name": "stdout",
     "output_type": "stream",
     "text": [
      "{'name': 'missing', 'email': 'missing', 'id': 'missing', 'major': 'missing'}\n"
     ]
    }
   ],
   "source": [
    "new_student = {}.fromkeys(\n",
    "    ['name', 'email', 'id', 'major'], 'missing')\n",
    "\n",
    "print(new_student)"
   ]
  },
  {
   "cell_type": "code",
   "execution_count": 85,
   "metadata": {},
   "outputs": [],
   "source": [
    "new_student['name'] = 'John'"
   ]
  },
  {
   "cell_type": "code",
   "execution_count": 86,
   "metadata": {},
   "outputs": [
    {
     "data": {
      "text/plain": [
       "{'name': 'John', 'email': 'missing', 'id': 'missing', 'major': 'missing'}"
      ]
     },
     "execution_count": 86,
     "metadata": {},
     "output_type": "execute_result"
    }
   ],
   "source": [
    "new_student"
   ]
  },
  {
   "cell_type": "code",
   "execution_count": 87,
   "metadata": {},
   "outputs": [
    {
     "name": "stdout",
     "output_type": "stream",
     "text": [
      "{0: 'iammissing', 1: 'iammissing', 2: 'iammissing', 3: 'iammissing', 4: 'iammissing'}\n"
     ]
    }
   ],
   "source": [
    "my_dict = {}.fromkeys(range(5), 'iammissing')\n",
    "print(my_dict)"
   ]
  },
  {
   "cell_type": "code",
   "execution_count": 89,
   "metadata": {},
   "outputs": [
    {
     "ename": "KeyError",
     "evalue": "'namee'",
     "output_type": "error",
     "traceback": [
      "\u001b[1;31m---------------------------------------------------------------------------\u001b[0m",
      "\u001b[1;31mKeyError\u001b[0m                                  Traceback (most recent call last)",
      "\u001b[1;32m<ipython-input-89-c21dbcfa7c82>\u001b[0m in \u001b[0;36m<module>\u001b[1;34m\u001b[0m\n\u001b[0;32m      5\u001b[0m     \u001b[0mmajor\u001b[0m\u001b[1;33m=\u001b[0m\u001b[1;34m'Engineering'\u001b[0m\u001b[1;33m\u001b[0m\u001b[1;33m\u001b[0m\u001b[0m\n\u001b[0;32m      6\u001b[0m )\n\u001b[1;32m----> 7\u001b[1;33m \u001b[0mmy_dict\u001b[0m\u001b[1;33m[\u001b[0m\u001b[1;34m'namee'\u001b[0m\u001b[1;33m]\u001b[0m\u001b[1;33m\u001b[0m\u001b[1;33m\u001b[0m\u001b[0m\n\u001b[0m",
      "\u001b[1;31mKeyError\u001b[0m: 'namee'"
     ]
    }
   ],
   "source": [
    "my_dict = dict(\n",
    "    name='john',\n",
    "    email='john@email.com',\n",
    "    id=1234,\n",
    "    major='Engineering'\n",
    ")\n",
    "my_dict['namee']"
   ]
  },
  {
   "cell_type": "code",
   "execution_count": 91,
   "metadata": {},
   "outputs": [
    {
     "name": "stdout",
     "output_type": "stream",
     "text": [
      "None\n"
     ]
    }
   ],
   "source": [
    "value = my_dict.get('nameee')\n",
    "print(value)"
   ]
  },
  {
   "cell_type": "code",
   "execution_count": 92,
   "metadata": {},
   "outputs": [
    {
     "name": "stdout",
     "output_type": "stream",
     "text": [
      "None\n"
     ]
    }
   ],
   "source": [
    "value = my_dict.get('nameee', None)#\n",
    "print(value)"
   ]
  },
  {
   "cell_type": "code",
   "execution_count": 93,
   "metadata": {},
   "outputs": [
    {
     "name": "stdout",
     "output_type": "stream",
     "text": [
      "False\n"
     ]
    }
   ],
   "source": [
    "value = my_dict.get('nameee', False)\n",
    "print(value)"
   ]
  },
  {
   "cell_type": "code",
   "execution_count": 94,
   "metadata": {},
   "outputs": [
    {
     "name": "stdout",
     "output_type": "stream",
     "text": [
      "helloIamissing\n"
     ]
    }
   ],
   "source": [
    "value = my_dict.get('nameee', 'helloIamissing')\n",
    "print(value)"
   ]
  },
  {
   "cell_type": "code",
   "execution_count": 95,
   "metadata": {},
   "outputs": [
    {
     "name": "stdout",
     "output_type": "stream",
     "text": [
      "N/A\n"
     ]
    }
   ],
   "source": [
    "value = my_dict.get('gpa', 'N/A')\n",
    "print(value)"
   ]
  },
  {
   "cell_type": "code",
   "execution_count": 96,
   "metadata": {},
   "outputs": [
    {
     "data": {
      "text/plain": [
       "'john'"
      ]
     },
     "execution_count": 96,
     "metadata": {},
     "output_type": "execute_result"
    }
   ],
   "source": [
    "my_dict.get('name', None) # default\n",
    "my_dict.get('name', False)\n",
    "my_dict.get('name', 'defaultname')"
   ]
  },
  {
   "cell_type": "code",
   "execution_count": 99,
   "metadata": {},
   "outputs": [],
   "source": [
    "my_dict = dict(\n",
    "    name='john',\n",
    "    email='john@email.com',\n",
    "    id=1234,\n",
    "    major='Engineering'\n",
    ")\n",
    "saved_value = my_dict.pop('name')"
   ]
  },
  {
   "cell_type": "code",
   "execution_count": 101,
   "metadata": {},
   "outputs": [
    {
     "data": {
      "text/plain": [
       "{'email': 'john@email.com',\n",
       " 'id': 1234,\n",
       " 'major': 'Engineering',\n",
       " 'year': 2010,\n",
       " 'ear': 2030,\n",
       " 'name': 'Jane'}"
      ]
     },
     "execution_count": 101,
     "metadata": {},
     "output_type": "execute_result"
    }
   ],
   "source": [
    "my_dict.update({'year':2010, 'ear': 2030, 'name': 'Jane'})\n",
    "my_dict"
   ]
  },
  {
   "cell_type": "code",
   "execution_count": 102,
   "metadata": {},
   "outputs": [
    {
     "data": {
      "text/plain": [
       "{'email': 'john@email.com',\n",
       " 'id': 1234,\n",
       " 'major': 'Engineering',\n",
       " 'year': 2010,\n",
       " 'ear': 2030,\n",
       " 'name': 'Katie'}"
      ]
     },
     "execution_count": 102,
     "metadata": {},
     "output_type": "execute_result"
    }
   ],
   "source": [
    "my_dict.update({'year':2010, 'ear': 2030, 'name': 'Katie'})\n",
    "my_dict"
   ]
  },
  {
   "cell_type": "code",
   "execution_count": 103,
   "metadata": {},
   "outputs": [
    {
     "data": {
      "text/plain": [
       "{0: 5, 1: 5, 2: 5, 3: 5, 4: 5}"
      ]
     },
     "execution_count": 103,
     "metadata": {},
     "output_type": "execute_result"
    }
   ],
   "source": [
    "my_dict = {}.fromkeys(range(5), 5)\n",
    "my_dict"
   ]
  },
  {
   "cell_type": "code",
   "execution_count": 104,
   "metadata": {},
   "outputs": [
    {
     "data": {
      "text/plain": [
       "{0: 0, 1: 5, 2: 10, 3: 15, 4: 20}"
      ]
     },
     "execution_count": 104,
     "metadata": {},
     "output_type": "execute_result"
    }
   ],
   "source": [
    "{key: key*value for key, value in my_dict.items()}"
   ]
  },
  {
   "cell_type": "code",
   "execution_count": 105,
   "metadata": {},
   "outputs": [
    {
     "data": {
      "text/plain": [
       "{0: 0, 1: 1, 2: 4, 3: 9, 4: 16}"
      ]
     },
     "execution_count": 105,
     "metadata": {},
     "output_type": "execute_result"
    }
   ],
   "source": [
    "{num: num*num for num in range(5)}"
   ]
  },
  {
   "cell_type": "code",
   "execution_count": 106,
   "metadata": {},
   "outputs": [
    {
     "data": {
      "text/plain": [
       "{'john': 95, 'jane': 99, 'doe': 98}"
      ]
     },
     "execution_count": 106,
     "metadata": {},
     "output_type": "execute_result"
    }
   ],
   "source": [
    "list1 = ['john', 'jane', 'doe']\n",
    "list2 = [95, 99, 98]\n",
    "\n",
    "{list1[i]: list2[i] for i in range(len(list1))}"
   ]
  },
  {
   "cell_type": "code",
   "execution_count": 107,
   "metadata": {},
   "outputs": [
    {
     "data": {
      "text/plain": [
       "{'john': 95, 'jane': 99, 'doe': 98}"
      ]
     },
     "execution_count": 107,
     "metadata": {},
     "output_type": "execute_result"
    }
   ],
   "source": [
    "dict(zip(list1,list2))"
   ]
  },
  {
   "cell_type": "code",
   "execution_count": 108,
   "metadata": {},
   "outputs": [
    {
     "data": {
      "text/plain": [
       "{1: 'odd',\n",
       " 2: 'even',\n",
       " 3: 'odd',\n",
       " 4: 'even',\n",
       " 5: 'odd',\n",
       " 6: 'even',\n",
       " 7: 'odd',\n",
       " 8: 'even',\n",
       " 9: 'odd',\n",
       " 10: 'even',\n",
       " 11: 'odd',\n",
       " 12: 'even',\n",
       " 13: 'odd',\n",
       " 14: 'even',\n",
       " 15: 'odd',\n",
       " 16: 'even',\n",
       " 17: 'odd',\n",
       " 18: 'even',\n",
       " 19: 'odd'}"
      ]
     },
     "execution_count": 108,
     "metadata": {},
     "output_type": "execute_result"
    }
   ],
   "source": [
    "{num: (\"even\" if num % 2 == 0 else \"odd\") for num in range(1, 20)}"
   ]
  },
  {
   "cell_type": "code",
   "execution_count": 112,
   "metadata": {},
   "outputs": [],
   "source": [
    "##############################################################\n",
    "# dict_ex1.py\n",
    "# Load people.tsv into a dictionary. \n",
    "# Prompt user for filename\n",
    "\n",
    "\n",
    "def dict_ex1(filename):\n",
    "    people = []\n",
    "    with open(filename) as file:\n",
    "        header = None\n",
    "        for line in file:\n",
    "            if not line.strip():\n",
    "                continue\n",
    "            line = line.strip().split('\\t')\n",
    "            if header is None: # has the header been set?\n",
    "                header = line\n",
    "                continue\n",
    "            \n",
    "            my_dict = dict(zip(header, line))\n",
    "            people.append(my_dict)\n",
    "            \n",
    "    return people\n",
    "            \n",
    "people = dict_ex1('people.tsv')"
   ]
  },
  {
   "cell_type": "code",
   "execution_count": 113,
   "metadata": {},
   "outputs": [
    {
     "data": {
      "text/plain": [
       "{'last_name': 'Weaver',\n",
       " 'first_name': 'Michael',\n",
       " 'email': 'xdunn@hotmail.com',\n",
       " 'country': 'Nepal',\n",
       " 'account': 'QVJP6465242365388'}"
      ]
     },
     "execution_count": 113,
     "metadata": {},
     "output_type": "execute_result"
    }
   ],
   "source": [
    "people[0]"
   ]
  },
  {
   "cell_type": "code",
   "execution_count": 114,
   "metadata": {},
   "outputs": [
    {
     "data": {
      "text/plain": [
       "{'last_name': 'Owens',\n",
       " 'first_name': 'Jackson',\n",
       " 'email': 'iedwards@yahoo.com',\n",
       " 'country': 'Kazakhstan',\n",
       " 'account': 'FVQZ0955529767455'}"
      ]
     },
     "execution_count": 114,
     "metadata": {},
     "output_type": "execute_result"
    }
   ],
   "source": [
    "people[1]"
   ]
  },
  {
   "cell_type": "code",
   "execution_count": 115,
   "metadata": {},
   "outputs": [
    {
     "data": {
      "text/plain": [
       "[{'last_name': 'Fletcher',\n",
       "  'first_name': 'Austin',\n",
       "  'email': 'carolharrington@fleming.org',\n",
       "  'country': 'Azerbaijan',\n",
       "  'account': 'GJZT6825738428111'},\n",
       " {'last_name': 'Lewis',\n",
       "  'first_name': 'Patrick',\n",
       "  'email': 'lopezcarl@johnson.com',\n",
       "  'country': 'Saint Helena',\n",
       "  'account': 'JOQE2648899771737'},\n",
       " {'last_name': 'Smith',\n",
       "  'first_name': 'Joseph',\n",
       "  'email': 'michael74@yahoo.com',\n",
       "  'country': 'Hong Kong',\n",
       "  'account': 'MNXY3262955868027'},\n",
       " {'last_name': 'Sullivan',\n",
       "  'first_name': 'Sharon',\n",
       "  'email': 'gonzalezrobert@hotmail.com',\n",
       "  'country': 'Turkey',\n",
       "  'account': 'YHXF7256577475630'},\n",
       " {'last_name': 'Wilson',\n",
       "  'first_name': 'Krystal',\n",
       "  'email': 'dawnjohnson@gmail.com',\n",
       "  'country': 'Swaziland',\n",
       "  'account': 'MUVI3570791852556'},\n",
       " {'last_name': 'Schmidt',\n",
       "  'first_name': 'Diana',\n",
       "  'email': 'watersryan@gmail.com',\n",
       "  'country': 'Holy See (Vatican City State)',\n",
       "  'account': 'UKCP6739617302102'},\n",
       " {'last_name': 'Huff',\n",
       "  'first_name': 'Sean',\n",
       "  'email': 'byoung@gmail.com',\n",
       "  'country': 'Norfolk Island',\n",
       "  'account': 'WDAT4146843903498'},\n",
       " {'last_name': 'Nguyen',\n",
       "  'first_name': 'Robin',\n",
       "  'email': 'vhanson@yahoo.com',\n",
       "  'country': 'Kenya',\n",
       "  'account': 'SVMU4403517448078'},\n",
       " {'last_name': 'Russell',\n",
       "  'first_name': 'Robyn',\n",
       "  'email': 'bfletcher@yahoo.com',\n",
       "  'country': 'Togo',\n",
       "  'account': 'ZNUY4071301663622'},\n",
       " {'last_name': 'Smith',\n",
       "  'first_name': 'Tiffany',\n",
       "  'email': 'colleengarrison@hotmail.com',\n",
       "  'country': 'San Marino',\n",
       "  'account': 'GPFA8271551275648'},\n",
       " {'last_name': 'Smith',\n",
       "  'first_name': 'Lori',\n",
       "  'email': 'catherine23@gmail.com',\n",
       "  'country': 'Romania',\n",
       "  'account': 'MKWY4848668895426'}]"
      ]
     },
     "execution_count": 115,
     "metadata": {},
     "output_type": "execute_result"
    }
   ],
   "source": [
    "people[20:31]"
   ]
  },
  {
   "cell_type": "code",
   "execution_count": 116,
   "metadata": {},
   "outputs": [
    {
     "data": {
      "text/plain": [
       "{'last_name': 'Hansen',\n",
       " 'first_name': 'Michael',\n",
       " 'email': 'phillipssean@hotmail.com',\n",
       " 'country': 'Serbia',\n",
       " 'account': 'QKAF2254397516681'}"
      ]
     },
     "execution_count": 116,
     "metadata": {},
     "output_type": "execute_result"
    }
   ],
   "source": [
    "people[-1]"
   ]
  },
  {
   "cell_type": "code",
   "execution_count": 120,
   "metadata": {},
   "outputs": [
    {
     "name": "stdout",
     "output_type": "stream",
     "text": [
      "Sept\n"
     ]
    }
   ],
   "source": [
    "####################################################\n",
    "# dict_ex2.py \n",
    "# Write a function to convert month number to \n",
    "# month name. First use a list and then a dictionary\n",
    "\n",
    "def dict_ex2_take1(number):\n",
    "    months = [0, 'Jan', 'Feb', 'Mar', 'Apr', \n",
    "                 'May', 'Jun', 'Jul', 'Aug',\n",
    "                 'Sept', 'Oct', 'Nov', 'Dec']\n",
    "    \n",
    "    return months[number]\n",
    "\n",
    "print(dict_ex2_take1(9))\n",
    "    \n",
    "    "
   ]
  },
  {
   "cell_type": "code",
   "execution_count": 124,
   "metadata": {},
   "outputs": [
    {
     "name": "stdout",
     "output_type": "stream",
     "text": [
      "30\n"
     ]
    }
   ],
   "source": [
    "days_in_month = [0, 31, 28, 31, 30, 31, 30, 31, 31, 30, 31, 30, 31]\n",
    "month = 6\n",
    "\n",
    "if month == 2:\n",
    "    # some logic goes here\n",
    "    pass\n",
    "else:\n",
    "    print(days_in_month[month])"
   ]
  },
  {
   "cell_type": "code",
   "execution_count": 130,
   "metadata": {},
   "outputs": [
    {
     "name": "stdout",
     "output_type": "stream",
     "text": [
      "{1: 'Jan',\n",
      " 2: 'Feb',\n",
      " 3: 'Mar',\n",
      " 4: 'Apr',\n",
      " 5: 'May',\n",
      " 6: 'Jun',\n",
      " 7: 'Jul',\n",
      " 8: 'Aug',\n",
      " 9: 'Sept',\n",
      " 10: 'Oct',\n",
      " 11: 'Nov',\n",
      " 12: 'Dec'}\n",
      "May\n"
     ]
    }
   ],
   "source": [
    "from pprint import pprint\n",
    "def dict_ex2_take2(number):\n",
    "    numbers = range(1, 13)\n",
    "    months = ['Jan', 'Feb', 'Mar', 'Apr', \n",
    "                 'May', 'Jun', 'Jul', 'Aug',\n",
    "                 'Sept', 'Oct', 'Nov', 'Dec']\n",
    "    \n",
    "    months = dict(zip(numbers, months))\n",
    "    pprint(months)\n",
    "    return months.get(number)\n",
    "\n",
    "print(dict_ex2_take2(5))"
   ]
  },
  {
   "cell_type": "code",
   "execution_count": 129,
   "metadata": {},
   "outputs": [
    {
     "name": "stdout",
     "output_type": "stream",
     "text": [
      "[{'account': 'QVJP6465242365388',\n",
      "  'country': 'Nepal',\n",
      "  'email': 'xdunn@hotmail.com',\n",
      "  'first_name': 'Michael',\n",
      "  'last_name': 'Weaver'},\n",
      " {'account': 'FVQZ0955529767455',\n",
      "  'country': 'Kazakhstan',\n",
      "  'email': 'iedwards@yahoo.com',\n",
      "  'first_name': 'Jackson',\n",
      "  'last_name': 'Owens'},\n",
      " {'account': 'QFIM0905182880347',\n",
      "  'country': 'Mauritius',\n",
      "  'email': 'arogers@smith.com',\n",
      "  'first_name': 'Patrick',\n",
      "  'last_name': 'Gilmore'},\n",
      " {'account': 'YWOT0997131632248',\n",
      "  'country': 'New Zealand',\n",
      "  'email': 'plewis@chavez.com',\n",
      "  'first_name': 'Jeffrey',\n",
      "  'last_name': 'Perez'},\n",
      " {'account': 'QAAE9838291982555',\n",
      "  'country': 'Yemen',\n",
      "  'email': 'fred92@yahoo.com',\n",
      "  'first_name': 'James',\n",
      "  'last_name': 'Thomas'},\n",
      " {'account': 'PCNE8127696280157',\n",
      "  'country': 'Jordan',\n",
      "  'email': 'mmiller@lynch.com',\n",
      "  'first_name': 'Greg',\n",
      "  'last_name': 'Nelson'},\n",
      " {'account': 'BCEN3299883381338',\n",
      "  'country': 'Palau',\n",
      "  'email': 'steven49@gmail.com',\n",
      "  'first_name': 'Joshua',\n",
      "  'last_name': 'White'},\n",
      " {'account': 'XPTQ7837014557677',\n",
      "  'country': 'Argentina',\n",
      "  'email': 'amanda23@hotmail.com',\n",
      "  'first_name': 'Todd',\n",
      "  'last_name': 'Francis'},\n",
      " {'account': 'TRLQ6559557081716',\n",
      "  'country': 'Marshall Islands',\n",
      "  'email': 'jackduke@hotmail.com',\n",
      "  'first_name': 'Stephen',\n",
      "  'last_name': 'Shaw'},\n",
      " {'account': 'OHOV7518558201999',\n",
      "  'country': 'Albania',\n",
      "  'email': 'rhodesnicholas@hotmail.com',\n",
      "  'first_name': 'Mariah',\n",
      "  'last_name': 'Armstrong'},\n",
      " {'account': 'MCQU7347833033110',\n",
      "  'country': 'Kyrgyz Republic',\n",
      "  'email': 'smithashlee@yahoo.com',\n",
      "  'first_name': 'Anthony',\n",
      "  'last_name': 'Boyle'},\n",
      " {'account': 'PPHE5533473251751',\n",
      "  'country': 'Turkmenistan',\n",
      "  'email': 'ubriggs@hill.info',\n",
      "  'first_name': 'Patrick',\n",
      "  'last_name': 'Cuevas'},\n",
      " {'account': 'JCDK1943355298609',\n",
      "  'country': 'Fiji',\n",
      "  'email': 'brownclarence@gonzalez-moore.com',\n",
      "  'first_name': 'Gerald',\n",
      "  'last_name': 'Reyes'},\n",
      " {'account': 'NERZ5502558659614',\n",
      "  'country': 'Costa Rica',\n",
      "  'email': 'teresa30@carpenter-warner.com',\n",
      "  'first_name': 'Christopher',\n",
      "  'last_name': 'Calderon'},\n",
      " {'account': 'DLDV5789894914403',\n",
      "  'country': 'Martinique',\n",
      "  'email': 'leekatherine@williams.com',\n",
      "  'first_name': 'Shane',\n",
      "  'last_name': 'Weiss'},\n",
      " {'account': 'GZZF6936998445532',\n",
      "  'country': 'Singapore',\n",
      "  'email': 'chasewatkins@perez-phillips.com',\n",
      "  'first_name': 'Crystal',\n",
      "  'last_name': 'Conley'},\n",
      " {'account': 'ECGK2823955143629',\n",
      "  'country': 'Mayotte',\n",
      "  'email': 'hsherman@gmail.com',\n",
      "  'first_name': 'Jeffrey',\n",
      "  'last_name': 'Nelson'},\n",
      " {'account': 'QOVO4275314052899',\n",
      "  'country': 'Costa Rica',\n",
      "  'email': 'martinezdaniel@hotmail.com',\n",
      "  'first_name': 'Brianna',\n",
      "  'last_name': 'Johnson'},\n",
      " {'account': 'UKRT1119626365017',\n",
      "  'country': 'Guadeloupe',\n",
      "  'email': 'justinfischer@gmail.com',\n",
      "  'first_name': 'Brandon',\n",
      "  'last_name': 'Werner'},\n",
      " {'account': 'UNPV3347450330173',\n",
      "  'country': 'Bahamas',\n",
      "  'email': 'cindy08@gmail.com',\n",
      "  'first_name': 'Brianna',\n",
      "  'last_name': 'Bennett'},\n",
      " {'account': 'GJZT6825738428111',\n",
      "  'country': 'Azerbaijan',\n",
      "  'email': 'carolharrington@fleming.org',\n",
      "  'first_name': 'Austin',\n",
      "  'last_name': 'Fletcher'},\n",
      " {'account': 'JOQE2648899771737',\n",
      "  'country': 'Saint Helena',\n",
      "  'email': 'lopezcarl@johnson.com',\n",
      "  'first_name': 'Patrick',\n",
      "  'last_name': 'Lewis'},\n",
      " {'account': 'MNXY3262955868027',\n",
      "  'country': 'Hong Kong',\n",
      "  'email': 'michael74@yahoo.com',\n",
      "  'first_name': 'Joseph',\n",
      "  'last_name': 'Smith'},\n",
      " {'account': 'YHXF7256577475630',\n",
      "  'country': 'Turkey',\n",
      "  'email': 'gonzalezrobert@hotmail.com',\n",
      "  'first_name': 'Sharon',\n",
      "  'last_name': 'Sullivan'},\n",
      " {'account': 'MUVI3570791852556',\n",
      "  'country': 'Swaziland',\n",
      "  'email': 'dawnjohnson@gmail.com',\n",
      "  'first_name': 'Krystal',\n",
      "  'last_name': 'Wilson'},\n",
      " {'account': 'UKCP6739617302102',\n",
      "  'country': 'Holy See (Vatican City State)',\n",
      "  'email': 'watersryan@gmail.com',\n",
      "  'first_name': 'Diana',\n",
      "  'last_name': 'Schmidt'},\n",
      " {'account': 'WDAT4146843903498',\n",
      "  'country': 'Norfolk Island',\n",
      "  'email': 'byoung@gmail.com',\n",
      "  'first_name': 'Sean',\n",
      "  'last_name': 'Huff'},\n",
      " {'account': 'SVMU4403517448078',\n",
      "  'country': 'Kenya',\n",
      "  'email': 'vhanson@yahoo.com',\n",
      "  'first_name': 'Robin',\n",
      "  'last_name': 'Nguyen'},\n",
      " {'account': 'ZNUY4071301663622',\n",
      "  'country': 'Togo',\n",
      "  'email': 'bfletcher@yahoo.com',\n",
      "  'first_name': 'Robyn',\n",
      "  'last_name': 'Russell'},\n",
      " {'account': 'GPFA8271551275648',\n",
      "  'country': 'San Marino',\n",
      "  'email': 'colleengarrison@hotmail.com',\n",
      "  'first_name': 'Tiffany',\n",
      "  'last_name': 'Smith'},\n",
      " {'account': 'MKWY4848668895426',\n",
      "  'country': 'Romania',\n",
      "  'email': 'catherine23@gmail.com',\n",
      "  'first_name': 'Lori',\n",
      "  'last_name': 'Smith'},\n",
      " {'account': 'QHIW7412514205367',\n",
      "  'country': 'Algeria',\n",
      "  'email': 'xmurphy@yahoo.com',\n",
      "  'first_name': 'Sabrina',\n",
      "  'last_name': 'Keith'},\n",
      " {'account': 'QAAO4666689281736',\n",
      "  'country': 'Slovakia (Slovak Republic)',\n",
      "  'email': 'aaronrichard@middleton.net',\n",
      "  'first_name': 'Miguel',\n",
      "  'last_name': 'Johnson'},\n",
      " {'account': 'LRPR8694143910883',\n",
      "  'country': 'Somalia',\n",
      "  'email': 'jesse93@best.com',\n",
      "  'first_name': 'Dustin',\n",
      "  'last_name': 'Barron'},\n",
      " {'account': 'UWFU1921951273393',\n",
      "  'country': 'Turkmenistan',\n",
      "  'email': 'johnperez@johnson.com',\n",
      "  'first_name': 'Michael',\n",
      "  'last_name': 'Robinson'},\n",
      " {'account': 'JQHS4274771257925',\n",
      "  'country': 'Croatia',\n",
      "  'email': 'jessica62@yahoo.com',\n",
      "  'first_name': 'Robert',\n",
      "  'last_name': 'Nguyen'},\n",
      " {'account': 'RSLD0426398604312',\n",
      "  'country': 'Jamaica',\n",
      "  'email': 'jennifer87@gmail.com',\n",
      "  'first_name': 'Brandon',\n",
      "  'last_name': 'Abbott'},\n",
      " {'account': 'UYHI6964741005832',\n",
      "  'country': 'Montserrat',\n",
      "  'email': 'morenolindsay@bass.org',\n",
      "  'first_name': 'Bruce',\n",
      "  'last_name': 'Oneill'},\n",
      " {'account': 'ZKTE5908966955533',\n",
      "  'country': 'Heard Island and McDonald Islands',\n",
      "  'email': 'robertdavis@hotmail.com',\n",
      "  'first_name': 'Linda',\n",
      "  'last_name': 'Nash'},\n",
      " {'account': 'HHHP3471562002758',\n",
      "  'country': 'Niger',\n",
      "  'email': 'melanie81@rogers.com',\n",
      "  'first_name': 'Kathleen',\n",
      "  'last_name': 'Cameron'},\n",
      " {'account': 'UWLV6407825245995',\n",
      "  'country': 'Saint Vincent and the Grenadines',\n",
      "  'email': 'clineerin@hotmail.com',\n",
      "  'first_name': 'Wesley',\n",
      "  'last_name': 'Wilkinson'},\n",
      " {'account': 'JRBN0811785293731',\n",
      "  'country': 'Antigua and Barbuda',\n",
      "  'email': 'terri95@hotmail.com',\n",
      "  'first_name': 'Debbie',\n",
      "  'last_name': 'Wallace'},\n",
      " {'account': 'VDWY7565964041116',\n",
      "  'country': 'Mexico',\n",
      "  'email': 'danielle65@yahoo.com',\n",
      "  'first_name': 'Kayla',\n",
      "  'last_name': 'Woodward'},\n",
      " {'account': 'DNRB2101855092009',\n",
      "  'country': 'Singapore',\n",
      "  'email': 'sjackson@yahoo.com',\n",
      "  'first_name': 'Stephanie',\n",
      "  'last_name': 'Bennett'},\n",
      " {'account': 'IILE1765776198023',\n",
      "  'country': 'Botswana',\n",
      "  'email': 'douglas63@yahoo.com',\n",
      "  'first_name': 'Caleb',\n",
      "  'last_name': 'Jenkins'},\n",
      " {'account': 'ZJUF2687631787282',\n",
      "  'country': 'Guinea',\n",
      "  'email': 'woodardlindsey@yahoo.com',\n",
      "  'first_name': 'Valerie',\n",
      "  'last_name': 'Edwards'},\n",
      " {'account': 'DHMT4208071148508',\n",
      "  'country': 'Chile',\n",
      "  'email': 'suebrown@yahoo.com',\n",
      "  'first_name': 'Mary',\n",
      "  'last_name': 'Anderson'},\n",
      " {'account': 'UBRR8524342666714',\n",
      "  'country': 'Mayotte',\n",
      "  'email': 'swhite@yahoo.com',\n",
      "  'first_name': 'Angela',\n",
      "  'last_name': 'Ray'},\n",
      " {'account': 'OGPU6537909247863',\n",
      "  'country': 'Macedonia',\n",
      "  'email': 'martinkimberly@lopez.com',\n",
      "  'first_name': 'Haley',\n",
      "  'last_name': 'Edwards'},\n",
      " {'account': 'AHYX6128839695452',\n",
      "  'country': 'Ukraine',\n",
      "  'email': 'jessica11@hotmail.com',\n",
      "  'first_name': 'Charles',\n",
      "  'last_name': 'Clark'},\n",
      " {'account': 'VUPW6891906300822',\n",
      "  'country': 'Saint Martin',\n",
      "  'email': 'hsmith@baker.com',\n",
      "  'first_name': 'Lisa',\n",
      "  'last_name': 'Hill'},\n",
      " {'account': 'PKFW4841194501766',\n",
      "  'country': 'Germany',\n",
      "  'email': 'fklein@yahoo.com',\n",
      "  'first_name': 'Jonathan',\n",
      "  'last_name': 'Carpenter'},\n",
      " {'account': 'BNYD8693045932496',\n",
      "  'country': 'Lesotho',\n",
      "  'email': 'ryan32@skinner.com',\n",
      "  'first_name': 'Latoya',\n",
      "  'last_name': 'Griffith'},\n",
      " {'account': 'FQJA6381776349463',\n",
      "  'country': 'Nepal',\n",
      "  'email': 'tmurphy@flores.biz',\n",
      "  'first_name': 'Kim',\n",
      "  'last_name': 'Blair'},\n",
      " {'account': 'KCNI2464381879411',\n",
      "  'country': 'Latvia',\n",
      "  'email': 'mary64@ray.org',\n",
      "  'first_name': 'Mary',\n",
      "  'last_name': 'Salazar'},\n",
      " {'account': 'BIGY3006735396533',\n",
      "  'country': 'Central African Republic',\n",
      "  'email': 'jennajoseph@yahoo.com',\n",
      "  'first_name': 'Kenneth',\n",
      "  'last_name': 'Krueger'},\n",
      " {'account': 'CNJX1222752295544',\n",
      "  'country': 'Peru',\n",
      "  'email': 'watsonsamuel@gmail.com',\n",
      "  'first_name': 'Phillip',\n",
      "  'last_name': 'Burke'},\n",
      " {'account': 'ZROP5229895490397',\n",
      "  'country': 'Spain',\n",
      "  'email': 'xvelasquez@hughes.com',\n",
      "  'first_name': 'Erica',\n",
      "  'last_name': 'Juarez'},\n",
      " {'account': 'NXKK2792812848629',\n",
      "  'country': 'Seychelles',\n",
      "  'email': 'april99@gmail.com',\n",
      "  'first_name': 'Jason',\n",
      "  'last_name': 'Watkins'},\n",
      " {'account': 'DPLN5056382218296',\n",
      "  'country': 'Faroe Islands',\n",
      "  'email': 'kfletcher@yahoo.com',\n",
      "  'first_name': 'Lee',\n",
      "  'last_name': 'Carter'},\n",
      " {'account': 'KAOL9792684486009',\n",
      "  'country': 'Tokelau',\n",
      "  'email': 'xchurch@hotmail.com',\n",
      "  'first_name': 'Randy',\n",
      "  'last_name': 'Huang'},\n",
      " {'account': 'WRXW4627191899235',\n",
      "  'country': 'Cocos (Keeling) Islands',\n",
      "  'email': 'megan24@stewart.net',\n",
      "  'first_name': 'Kristina',\n",
      "  'last_name': 'Owen'},\n",
      " {'account': 'OMOK4767172062189',\n",
      "  'country': 'Burundi',\n",
      "  'email': 'sydneycollins@hunter.com',\n",
      "  'first_name': 'Beth',\n",
      "  'last_name': 'Turner'},\n",
      " {'account': 'KRKF7344951038740',\n",
      "  'country': 'Timor-Leste',\n",
      "  'email': 'robertbowen@chavez-ortega.com',\n",
      "  'first_name': 'Michael',\n",
      "  'last_name': 'Aguirre'},\n",
      " {'account': 'SAAA4141150617330',\n",
      "  'country': 'Montserrat',\n",
      "  'email': 'christiandanielle@yahoo.com',\n",
      "  'first_name': 'Elizabeth',\n",
      "  'last_name': 'Wilson'},\n",
      " {'account': 'XNWQ1072087896797',\n",
      "  'country': 'Norway',\n",
      "  'email': 'kdavidson@gordon.com',\n",
      "  'first_name': 'Teresa',\n",
      "  'last_name': 'Hardy'},\n",
      " {'account': 'FTHM1005169617995',\n",
      "  'country': 'Sierra Leone',\n",
      "  'email': 'bennettwanda@vega-guerra.net',\n",
      "  'first_name': 'David',\n",
      "  'last_name': 'Stewart'},\n",
      " {'account': 'OSSM9070924947595',\n",
      "  'country': 'French Polynesia',\n",
      "  'email': 'mark00@hotmail.com',\n",
      "  'first_name': 'Heather',\n",
      "  'last_name': 'Moore'},\n",
      " {'account': 'CFQJ4204773901237',\n",
      "  'country': 'French Guiana',\n",
      "  'email': 'schaefernatalie@hotmail.com',\n",
      "  'first_name': 'Melissa',\n",
      "  'last_name': 'Grant'},\n",
      " {'account': 'MGFG2793756668287',\n",
      "  'country': 'Cape Verde',\n",
      "  'email': 'moralesmartin@rodgers.com',\n",
      "  'first_name': 'Jennifer',\n",
      "  'last_name': 'Thompson'},\n",
      " {'account': 'IGXK5881682171566',\n",
      "  'country': 'Barbados',\n",
      "  'email': 'dprince@hotmail.com',\n",
      "  'first_name': 'Raymond',\n",
      "  'last_name': 'Anderson'},\n",
      " {'account': 'QYBW6359021109484',\n",
      "  'country': 'Andorra',\n",
      "  'email': 'cparks@valdez-hudson.com',\n",
      "  'first_name': 'Angela',\n",
      "  'last_name': 'Ramsey'},\n",
      " {'account': 'UTSI0776569247505',\n",
      "  'country': 'Montserrat',\n",
      "  'email': 'martinezrichard@yahoo.com',\n",
      "  'first_name': 'Betty',\n",
      "  'last_name': 'Gonzales'},\n",
      " {'account': 'LSDI9463735752680',\n",
      "  'country': 'Egypt',\n",
      "  'email': 'kpena@yahoo.com',\n",
      "  'first_name': 'Thomas',\n",
      "  'last_name': 'Castaneda'},\n",
      " {'account': 'ISYY1401931979959',\n",
      "  'country': 'Malaysia',\n",
      "  'email': 'julie68@gmail.com',\n",
      "  'first_name': 'Jonathan',\n",
      "  'last_name': 'Todd'},\n",
      " {'account': 'HNOA0376843856035',\n",
      "  'country': 'Zimbabwe',\n",
      "  'email': 'lukebradford@hotmail.com',\n",
      "  'first_name': 'Stacey',\n",
      "  'last_name': 'Garcia'},\n",
      " {'account': 'EEVV8325881104553',\n",
      "  'country': 'Portugal',\n",
      "  'email': 'ystewart@yahoo.com',\n",
      "  'first_name': 'Judy',\n",
      "  'last_name': 'Figueroa'},\n",
      " {'account': 'QXGZ3111246190069',\n",
      "  'country': 'Paraguay',\n",
      "  'email': 'cory33@king-shaw.net',\n",
      "  'first_name': 'Ashley',\n",
      "  'last_name': 'Castillo'},\n",
      " {'account': 'ACQR2846533122117',\n",
      "  'country': 'Central African Republic',\n",
      "  'email': 'zcalhoun@gmail.com',\n",
      "  'first_name': 'Zachary',\n",
      "  'last_name': 'Flores'},\n",
      " {'account': 'ZAZD8310339637467',\n",
      "  'country': 'Palau',\n",
      "  'email': 'michaelhall@hotmail.com',\n",
      "  'first_name': 'Erica',\n",
      "  'last_name': 'Allen'},\n",
      " {'account': 'ARWK1547324119222',\n",
      "  'country': 'Micronesia',\n",
      "  'email': 'kristentaylor@yahoo.com',\n",
      "  'first_name': 'Savannah',\n",
      "  'last_name': 'Potts'},\n",
      " {'account': 'OMQX4840913072589',\n",
      "  'country': 'Armenia',\n",
      "  'email': 'stephen63@yahoo.com',\n",
      "  'first_name': 'Zachary',\n",
      "  'last_name': 'Wheeler'},\n",
      " {'account': 'OCFV4659464275270',\n",
      "  'country': 'Bahrain',\n",
      "  'email': 'bryanmartin@gmail.com',\n",
      "  'first_name': 'Timothy',\n",
      "  'last_name': 'Thomas'},\n",
      " {'account': 'DTRB4720098955341',\n",
      "  'country': 'Guatemala',\n",
      "  'email': 'kristinavelasquez@gmail.com',\n",
      "  'first_name': 'Ann',\n",
      "  'last_name': 'Mcknight'},\n",
      " {'account': 'YYHM5758234683389',\n",
      "  'country': 'Saint Vincent and the Grenadines',\n",
      "  'email': 'denise01@burns.org',\n",
      "  'first_name': 'Ruth',\n",
      "  'last_name': 'Thompson'},\n",
      " {'account': 'AHBN3151680654826',\n",
      "  'country': 'Kazakhstan',\n",
      "  'email': 'beancody@jones.com',\n",
      "  'first_name': 'Daniel',\n",
      "  'last_name': 'Levy'},\n",
      " {'account': 'FGBC0366153271398',\n",
      "  'country': 'Germany',\n",
      "  'email': 'ubradley@yahoo.com',\n",
      "  'first_name': 'Paul',\n",
      "  'last_name': 'Hubbard'},\n",
      " {'account': 'MHTE8867005510944',\n",
      "  'country': 'Western Sahara',\n",
      "  'email': 'anthony75@yahoo.com',\n",
      "  'first_name': 'Jason',\n",
      "  'last_name': 'Jones'},\n",
      " {'account': 'IYOD4325345823013',\n",
      "  'country': 'Togo',\n",
      "  'email': 'antonio52@gmail.com',\n",
      "  'first_name': 'Margaret',\n",
      "  'last_name': 'Garcia'},\n",
      " {'account': 'NZFX8257739892619',\n",
      "  'country': 'Guam',\n",
      "  'email': 'johnlewis@hotmail.com',\n",
      "  'first_name': 'Jeremy',\n",
      "  'last_name': 'Peters'},\n",
      " {'account': 'MWRB2515761996641',\n",
      "  'country': 'Kuwait',\n",
      "  'email': 'nmoore@hotmail.com',\n",
      "  'first_name': 'Mark',\n",
      "  'last_name': 'Stone'},\n",
      " {'account': 'CURJ9953745256871',\n",
      "  'country': 'Eritrea',\n",
      "  'email': 'nchurch@yahoo.com',\n",
      "  'first_name': 'Darius',\n",
      "  'last_name': 'Edwards'},\n",
      " {'account': 'ATOT8581137487723',\n",
      "  'country': 'Czech Republic',\n",
      "  'email': 'piercejenna@gmail.com',\n",
      "  'first_name': 'Tracy',\n",
      "  'last_name': 'Lawson'},\n",
      " {'account': 'RQGA0882784089265',\n",
      "  'country': 'Maldives',\n",
      "  'email': 'ddavidson@hotmail.com',\n",
      "  'first_name': 'Christina',\n",
      "  'last_name': 'Cooper'},\n",
      " {'account': 'EOPA8088866975598',\n",
      "  'country': 'Armenia',\n",
      "  'email': 'ndelacruz@yahoo.com',\n",
      "  'first_name': 'Megan',\n",
      "  'last_name': 'Harris'},\n",
      " {'account': 'JCUN9597199552039',\n",
      "  'country': 'Benin',\n",
      "  'email': 'jenniferadkins@griffin.biz',\n",
      "  'first_name': 'Timothy',\n",
      "  'last_name': 'Jones'},\n",
      " {'account': 'IZYL3351829981461',\n",
      "  'country': 'Fiji',\n",
      "  'email': 'evansmiguel@yahoo.com',\n",
      "  'first_name': 'Tracie',\n",
      "  'last_name': 'Burch'},\n",
      " {'account': 'JDIH2349154465371',\n",
      "  'country': 'Iceland',\n",
      "  'email': 'kenneththompson@baxter.com',\n",
      "  'first_name': 'Jason',\n",
      "  'last_name': 'Chung'},\n",
      " {'account': 'VRZP1447516193511',\n",
      "  'country': 'Macedonia',\n",
      "  'email': 'bcurtis@hotmail.com',\n",
      "  'first_name': 'Samantha',\n",
      "  'last_name': 'Melton'},\n",
      " {'account': 'QKAF2254397516681',\n",
      "  'country': 'Serbia',\n",
      "  'email': 'phillipssean@hotmail.com',\n",
      "  'first_name': 'Michael',\n",
      "  'last_name': 'Hansen'}]\n"
     ]
    }
   ],
   "source": [
    "pprint(people)"
   ]
  },
  {
   "cell_type": "code",
   "execution_count": 131,
   "metadata": {},
   "outputs": [
    {
     "name": "stdout",
     "output_type": "stream",
     "text": [
      "{0: ' ', 1: '.,?!', 2: 'ABC', 3: 'DEF', 4: 'GHI', 5: 'JKL', 6: 'MNO', 7: 'PQRS', 8: 'TUV', 9: 'WXYZ'}\n"
     ]
    }
   ],
   "source": [
    "# dict_ex3.py \n",
    "# Convert text message to numbers\n",
    "\n",
    "# 0 \tspace\n",
    "# 1 \t., ?, !\n",
    "# 2 \tABC\n",
    "# 3 \tDEF\n",
    "# 4 \tGHI\n",
    "# 5 \tJKL\n",
    "# 6 \tMNO\n",
    "# 7 \tPQRS\n",
    "# 8 \tTUV\n",
    "# 9 \tWXYZ\n",
    "\n",
    "lookup = {\n",
    "    0: ' ',\n",
    "    1: '.,?!',\n",
    "    2: 'ABC',\n",
    "    3: 'DEF',\n",
    "    4: 'GHI',\n",
    "    5: 'JKL',\n",
    "    6: 'MNO',\n",
    "    7: 'PQRS',\n",
    "    8: 'TUV',\n",
    "    9: 'WXYZ'\n",
    "}\n",
    "print(lookup)"
   ]
  },
  {
   "cell_type": "code",
   "execution_count": 138,
   "metadata": {},
   "outputs": [],
   "source": [
    "lookup_map = {}\n",
    "\n",
    "for number, characters_in_number in lookup.items():\n",
    "    for char in characters_in_number:\n",
    "        lookup_map[char] = number\n"
   ]
  },
  {
   "cell_type": "code",
   "execution_count": 136,
   "metadata": {},
   "outputs": [
    {
     "name": "stdout",
     "output_type": "stream",
     "text": [
      "A 2\n",
      "B 2\n",
      "C 2\n"
     ]
    }
   ],
   "source": [
    "for ele in lookup[2]:\n",
    "    print(ele, 2)"
   ]
  },
  {
   "cell_type": "code",
   "execution_count": 141,
   "metadata": {},
   "outputs": [
    {
     "data": {
      "text/plain": [
       "9"
      ]
     },
     "execution_count": 141,
     "metadata": {},
     "output_type": "execute_result"
    }
   ],
   "source": [
    "lookup_map['Z']"
   ]
  },
  {
   "cell_type": "code",
   "execution_count": 142,
   "metadata": {},
   "outputs": [
    {
     "name": "stdout",
     "output_type": "stream",
     "text": [
      "{' ': 0,\n",
      " '!': 1,\n",
      " ',': 1,\n",
      " '.': 1,\n",
      " '?': 1,\n",
      " 'A': 2,\n",
      " 'B': 2,\n",
      " 'C': 2,\n",
      " 'D': 3,\n",
      " 'E': 3,\n",
      " 'F': 3,\n",
      " 'G': 4,\n",
      " 'H': 4,\n",
      " 'I': 4,\n",
      " 'J': 5,\n",
      " 'K': 5,\n",
      " 'L': 5,\n",
      " 'M': 6,\n",
      " 'N': 6,\n",
      " 'O': 6,\n",
      " 'P': 7,\n",
      " 'Q': 7,\n",
      " 'R': 7,\n",
      " 'S': 7,\n",
      " 'T': 8,\n",
      " 'U': 8,\n",
      " 'V': 8,\n",
      " 'W': 9,\n",
      " 'X': 9,\n",
      " 'Y': 9,\n",
      " 'Z': 9}\n"
     ]
    }
   ],
   "source": [
    "pprint(lookup_map)"
   ]
  },
  {
   "cell_type": "code",
   "execution_count": 144,
   "metadata": {},
   "outputs": [
    {
     "name": "stdout",
     "output_type": "stream",
     "text": [
      "40260786646405283086063384641\n"
     ]
    }
   ],
   "source": [
    "message = 'I am running late to meeting.'\n",
    "numbers = ''\n",
    "for char in message:\n",
    "    numbers += str(lookup_map[char.upper()])\n",
    "\n",
    "print(numbers)"
   ]
  },
  {
   "cell_type": "code",
   "execution_count": 145,
   "metadata": {},
   "outputs": [
    {
     "name": "stdout",
     "output_type": "stream",
     "text": [
      "1 0\n",
      "2 1\n",
      "3 2\n",
      "4 3\n",
      "5 4\n",
      "6 5\n",
      "7 6\n",
      "8 7\n",
      "9 8\n",
      "10 9\n"
     ]
    }
   ],
   "source": [
    "def test_enumerate(range_value):\n",
    "\n",
    "    for index, value in enumerate(range(range_value), 1):\n",
    "        print(index, value)\n",
    "\n",
    "test_enumerate(10)"
   ]
  },
  {
   "cell_type": "code",
   "execution_count": null,
   "metadata": {},
   "outputs": [],
   "source": []
  }
 ],
 "metadata": {
  "kernelspec": {
   "display_name": "Python 3",
   "language": "python",
   "name": "python3"
  },
  "language_info": {
   "codemirror_mode": {
    "name": "ipython",
    "version": 3
   },
   "file_extension": ".py",
   "mimetype": "text/x-python",
   "name": "python",
   "nbconvert_exporter": "python",
   "pygments_lexer": "ipython3",
   "version": "3.7.4"
  }
 },
 "nbformat": 4,
 "nbformat_minor": 2
}
