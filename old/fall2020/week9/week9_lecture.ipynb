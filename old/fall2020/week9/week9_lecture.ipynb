{
 "cells": [
  {
   "cell_type": "code",
   "execution_count": 12,
   "metadata": {},
   "outputs": [
    {
     "data": {
      "text/plain": [
       "[['Reilly', 'Brandon', 'reillybran', '10', '94', '64'],\n",
       " ['Sellers', 'Stephanie', 'sellersstep', '11', '83', '76'],\n",
       " ['Martin', 'Paul', 'martinpaul', '15', '11', '12'],\n",
       " ['Day', 'Jon', 'dayjon', '15', '55', '71'],\n",
       " ['Reed', 'Madeline', 'reedmade', '16', '39', '46'],\n",
       " ['Patrick', 'Rachel', 'patrickrach', '16', '20', '80'],\n",
       " ['Evans', 'Dawn', 'evansdawn', '18', '59', '45'],\n",
       " ['Cortez', 'Patrick', 'cortezpatr', '18', '22', '2'],\n",
       " ['Summers', 'Michael', 'summersmich', '18', '95', '63'],\n",
       " ['Watson', 'Jessica', 'watsonjess', '2', '44', '50'],\n",
       " ['Long', 'Joel', 'longjoel', '20', '50', '3'],\n",
       " ['Dominguez', 'Kathryn', 'dominguezkath', '21', '82', '31'],\n",
       " ['Johnson', 'Janice', 'johnsonjani', '22', '49', '93'],\n",
       " ['Davis', 'Samuel', 'davissamu', '22', '17', '91'],\n",
       " ['Monroe', 'Michael', 'monroemich', '23', '92', '34'],\n",
       " ['Larson', 'Melissa', 'larsonmeli', '24', '89', '31'],\n",
       " ['Smith', 'Christopher', 'smithchri', '25', '11', '68'],\n",
       " ['Lee', 'John', 'leejohn', '25', '25', '39'],\n",
       " ['Little', 'Brian', 'littlebria', '25', '35', '88'],\n",
       " ['Patterson', 'Jennifer', 'pattersonjenn', '26', '98', '97']]"
      ]
     },
     "execution_count": 12,
     "metadata": {},
     "output_type": "execute_result"
    }
   ],
   "source": [
    "# read file and sort by exam1 score\n",
    "\n",
    "filename = 'students.tsv'\n",
    "data = []\n",
    "with open(filename) as file:\n",
    "    for line in file:\n",
    "        if not line.strip():\n",
    "            continue\n",
    "       \n",
    "        data.append(line.strip().split('\\t'))\n",
    "\n",
    "def helper_func(row):\n",
    "    return int(row[3])\n",
    "        \n",
    "# sorted(data, key=lambda line: int(line[3]))\n",
    "\n",
    "# sorted(data, key=helper_func)\n",
    "\n",
    "\n",
    "sorted(data, key=lambda row: row[2])[:20]\n"
   ]
  },
  {
   "cell_type": "code",
   "execution_count": 14,
   "metadata": {},
   "outputs": [
    {
     "data": {
      "text/plain": [
       "[['Watson', 'Jessica', 'watsonjess', '2', '44', '50'],\n",
       " ['Klein', 'John', 'kleinjohn', '3', '43', '88'],\n",
       " ['Smith', 'Rebecca', 'smithrebe', '3', '75', '55'],\n",
       " ['Brooks', 'Marcus', 'brooksmarc', '6', '81', '70'],\n",
       " ['Perez', 'Kelli', 'perezkell', '6', '22', '3'],\n",
       " ['Wade', 'Stephanie', 'wadestep', '9', '69', '31'],\n",
       " ['Reilly', 'Brandon', 'reillybran', '10', '94', '64'],\n",
       " ['Sellers', 'Stephanie', 'sellersstep', '11', '83', '76'],\n",
       " ['Martin', 'Paul', 'martinpaul', '15', '11', '12'],\n",
       " ['Day', 'Jon', 'dayjon', '15', '55', '71']]"
      ]
     },
     "execution_count": 14,
     "metadata": {},
     "output_type": "execute_result"
    }
   ],
   "source": [
    "sorted(data, key=lambda row: int(row[3]))[:10]\n"
   ]
  },
  {
   "cell_type": "code",
   "execution_count": 15,
   "metadata": {},
   "outputs": [
    {
     "data": {
      "text/plain": [
       "[['Terrell', 'Robert', 'terrellrobe', '99', '93', '60'],\n",
       " ['Taylor', 'Diana', 'taylordian', '99', '90', '6'],\n",
       " ['Frank', 'Jessica', 'frankjess', '95', '87', '92'],\n",
       " ['Rodriguez', 'Michelle', 'rodriguezmich', '94', '24', '50'],\n",
       " ['Kennedy', 'Lisa', 'kennedylisa', '93', '19', '48'],\n",
       " ['Henderson', 'Michelle', 'hendersonmich', '91', '60', '86'],\n",
       " ['Ramsey', 'John', 'ramseyjohn', '89', '95', '94'],\n",
       " ['Weber', 'Patrick', 'weberpatr', '87', '33', '92'],\n",
       " ['Booth', 'Bradley', 'boothbrad', '85', '8', '77'],\n",
       " ['Mcclain', 'Glenn', 'mcclainglen', '85', '98', '52']]"
      ]
     },
     "execution_count": 15,
     "metadata": {},
     "output_type": "execute_result"
    }
   ],
   "source": [
    "sorted(data, key=lambda row: int(row[3]), reverse=True)[:10]\n",
    "# SELECT \n",
    "# \tusername, \n",
    "# \texam1, \n",
    "# \texam2 \n",
    "# FROM STUDENTS ORDER BY exam1 DESC LIMIT 10; "
   ]
  },
  {
   "cell_type": "code",
   "execution_count": 17,
   "metadata": {},
   "outputs": [
    {
     "data": {
      "text/plain": [
       "[['Perez', 'Kelli', 'perezkell', '6', '22', '3'],\n",
       " ['Martin', 'Paul', 'martinpaul', '15', '11', '12'],\n",
       " ['Cortez', 'Patrick', 'cortezpatr', '18', '22', '2'],\n",
       " ['Bailey', 'Amanda', 'baileyaman', '27', '4', '38'],\n",
       " ['Long', 'Joel', 'longjoel', '20', '50', '3'],\n",
       " ['Hull', 'Alexandra', 'hullalex', '38', '7', '42'],\n",
       " ['Lee', 'John', 'leejohn', '25', '25', '39'],\n",
       " ['Oliver', 'Alex', 'oliveralex', '61', '22', '6'],\n",
       " ['Mcclain', 'Brandy', 'mcclainbran', '65', '1', '23'],\n",
       " ['Garcia', 'Brian', 'garciabria', '37', '53', '3'],\n",
       " ['Watson', 'Jessica', 'watsonjess', '2', '44', '50'],\n",
       " ['Reed', 'Madeline', 'reedmade', '16', '39', '46'],\n",
       " ['Cook', 'Lisa', 'cooklisa', '66', '25', '11'],\n",
       " ['Woodard', 'Judy', 'woodardjudy', '47', '43', '13'],\n",
       " ['Smith', 'Christopher', 'smithchri', '25', '11', '68'],\n",
       " ['Myers', 'Elizabeth', 'myerseliz', '41', '38', '28'],\n",
       " ['Lee', 'Michael', 'leemich', '30', '54', '25'],\n",
       " ['Wade', 'Stephanie', 'wadestep', '9', '69', '31'],\n",
       " ['Bowers', 'Sandra', 'bowerssand', '52', '8', '50'],\n",
       " ['Diaz', 'David', 'diazdavi', '52', '40', '20'],\n",
       " ['Jones', 'David', 'jonesdavi', '37', '60', '15'],\n",
       " ['Walter', 'Linda', 'walterlind', '28', '14', '71'],\n",
       " ['Patrick', 'Rachel', 'patrickrach', '16', '20', '80'],\n",
       " ['Novak', 'Melissa', 'novakmeli', '77', '3', '38'],\n",
       " ['Francis', 'Shawn', 'francisshaw', '37', '55', '26'],\n",
       " ['Thompson', 'Charlene', 'thompsonchar', '37', '56', '26'],\n",
       " ['Gallegos', 'Eugene', 'gallegoseuge', '34', '9', '76'],\n",
       " ['Evans', 'Dawn', 'evansdawn', '18', '59', '45'],\n",
       " ['Cox', 'Jerome', 'coxjero', '67', '28', '29'],\n",
       " ['Gamble', 'Matthew', 'gamblematt', '48', '50', '26'],\n",
       " ['Moran', 'Troy', 'morantroy', '61', '21', '45'],\n",
       " ['Davis', 'Samuel', 'davissamu', '22', '17', '91'],\n",
       " ['Gibson', 'Edward', 'gibsonedwa', '84', '27', '21'],\n",
       " ['Smith', 'Rebecca', 'smithrebe', '3', '75', '55'],\n",
       " ['Holden', 'Michael', 'holdenmich', '57', '23', '53'],\n",
       " ['Klein', 'John', 'kleinjohn', '3', '43', '88'],\n",
       " ['Dominguez', 'Kathryn', 'dominguezkath', '21', '82', '31'],\n",
       " ['Luna', 'Carmen', 'lunacarm', '36', '92', '6'],\n",
       " ['Olsen', 'Mariah', 'olsenmari', '44', '27', '64'],\n",
       " ['Andrews', 'Luis', 'andrewsluis', '43', '92', '3'],\n",
       " ['Santana', 'Linda', 'santanalind', '77', '58', '4'],\n",
       " ['Day', 'Jon', 'dayjon', '15', '55', '71'],\n",
       " ['Key', 'Debra', 'keydebr', '66', '47', '29'],\n",
       " ['Larson', 'Melissa', 'larsonmeli', '24', '89', '31'],\n",
       " ['Rhodes', 'Andre', 'rhodesandr', '53', '9', '82'],\n",
       " ['Carey', 'Kimberly', 'careykimb', '29', '94', '23'],\n",
       " ['Little', 'Brian', 'littlebria', '25', '35', '88'],\n",
       " ['Monroe', 'Michael', 'monroemich', '23', '92', '34'],\n",
       " ['Patton', 'Robert', 'pattonrobe', '78', '53', '20'],\n",
       " ['Bowen', 'Katherine', 'bowenkath', '57', '61', '34'],\n",
       " ['Oliver', 'Janice', 'oliverjani', '72', '47', '34'],\n",
       " ['Schultz', 'Marcus', 'schultzmarc', '59', '29', '67'],\n",
       " ['Johnson', 'Wayne', 'johnsonwayn', '66', '31', '58'],\n",
       " ['Brooks', 'Marcus', 'brooksmarc', '6', '81', '70'],\n",
       " ['Wilkinson', 'Jennifer', 'wilkinsonjenn', '52', '64', '44'],\n",
       " ['Kennedy', 'Lisa', 'kennedylisa', '93', '19', '48'],\n",
       " ['Bush', 'Alexander', 'bushalex', '82', '54', '25'],\n",
       " ['Nelson', 'Angela', 'nelsonange', '33', '63', '66'],\n",
       " ['Hensley', 'James', 'hensleyjame', '52', '50', '61'],\n",
       " ['Johnson', 'Janice', 'johnsonjani', '22', '49', '93'],\n",
       " ['Hill', 'James', 'hilljame', '59', '22', '85'],\n",
       " ['Rodriguez', 'Michelle', 'rodriguezmich', '94', '24', '50'],\n",
       " ['Hoffman', 'Shannon', 'hoffmanshan', '29', '68', '71'],\n",
       " ['Reilly', 'Brandon', 'reillybran', '10', '94', '64'],\n",
       " ['Ellis', 'Paige', 'ellispaig', '41', '46', '82'],\n",
       " ['Sawyer', 'Wendy', 'sawyerwend', '81', '59', '30'],\n",
       " ['Booth', 'Bradley', 'boothbrad', '85', '8', '77'],\n",
       " ['Sellers', 'Stephanie', 'sellersstep', '11', '83', '76'],\n",
       " ['Vega', 'Nicholas', 'veganich', '64', '12', '95'],\n",
       " ['Munoz', 'Mary', 'munozmary', '77', '41', '55'],\n",
       " ['Kerr', 'Sarah', 'kerrsara', '82', '27', '65'],\n",
       " ['Summers', 'Michael', 'summersmich', '18', '95', '63'],\n",
       " ['Fernandez', 'Jonathan', 'fernandezjona', '74', '80', '22'],\n",
       " ['Barnes', 'Tammy', 'barnestamm', '54', '53', '71'],\n",
       " ['Duncan', 'Andrew', 'duncanandr', '59', '87', '34'],\n",
       " ['Lozano', 'Catherine', 'lozanocath', '71', '19', '94'],\n",
       " ['Parrish', 'Nathan', 'parrishnath', '47', '92', '45'],\n",
       " ['Smith', 'Carol', 'smithcaro', '73', '48', '65'],\n",
       " ['Parsons', 'Cassie', 'parsonscass', '61', '62', '65'],\n",
       " ['Fleming', 'Carlos', 'flemingcarl', '50', '45', '93'],\n",
       " ['Adams', 'Brenda', 'adamsbren', '80', '49', '60'],\n",
       " ['Mclean', 'Christopher', 'mcleanchri', '59', '58', '73'],\n",
       " ['Baird', 'Alexandra', 'bairdalex', '32', '90', '71'],\n",
       " ['Blair', 'Christopher', 'blairchri', '70', '97', '27'],\n",
       " ['Melton', 'Brianna', 'meltonbria', '52', '95', '47'],\n",
       " ['Taylor', 'Diana', 'taylordian', '99', '90', '6'],\n",
       " ['Weber', 'Patrick', 'weberpatr', '87', '33', '92'],\n",
       " ['King', 'Austin', 'kingaust', '64', '89', '59'],\n",
       " ['Landry', 'Patrick', 'landrypatr', '41', '82', '93'],\n",
       " ['Patterson', 'Jennifer', 'pattersonjenn', '26', '98', '97'],\n",
       " ['Paul', 'Philip', 'paulphil', '79', '86', '60'],\n",
       " ['Graham', 'Vanessa', 'grahamvane', '78', '76', '73'],\n",
       " ['Chang', 'Kristen', 'changkris', '78', '55', '94'],\n",
       " ['Mcclain', 'Glenn', 'mcclainglen', '85', '98', '52'],\n",
       " ['Lewis', 'Michael', 'lewismich', '73', '65', '98'],\n",
       " ['Henderson', 'Michelle', 'hendersonmich', '91', '60', '86'],\n",
       " ['Ashley', 'Cody', 'ashleycody', '75', '69', '94'],\n",
       " ['Terrell', 'Robert', 'terrellrobe', '99', '93', '60'],\n",
       " ['Frank', 'Jessica', 'frankjess', '95', '87', '92'],\n",
       " ['Ramsey', 'John', 'ramseyjohn', '89', '95', '94']]"
      ]
     },
     "execution_count": 17,
     "metadata": {},
     "output_type": "execute_result"
    }
   ],
   "source": [
    "def calc_avg(row):\n",
    "    return sum([int(ele) for ele in row[3:]])/len(row[3:])\n",
    "\n",
    "sorted(data, key=calc_avg)"
   ]
  },
  {
   "cell_type": "code",
   "execution_count": 20,
   "metadata": {},
   "outputs": [
    {
     "data": {
      "text/plain": [
       "(50.01, 51.51, 51.14)"
      ]
     },
     "execution_count": 20,
     "metadata": {},
     "output_type": "execute_result"
    }
   ],
   "source": [
    "def calc_avg(data):\n",
    "    exam1_total = 0\n",
    "    exam2_total = 0\n",
    "    exam3_total = 0\n",
    "    for row in data:\n",
    "        exam1_total += int(row[3])\n",
    "        exam2_total += int(row[4])\n",
    "        exam3_total += int(row[5])\n",
    "        \n",
    "    exam1_avg = exam1_total/len(data)\n",
    "    exam2_avg = exam2_total/len(data)\n",
    "    exam3_avg = exam3_total/len(data)\n",
    "    \n",
    "    return exam1_avg, exam2_avg, exam3_avg\n",
    "\n",
    "calc_avg(data)\n",
    "\n",
    "# SELECT \n",
    "# \tavg(exam1) as 'Exam1 Average', \n",
    "# \tavg(exam2), \n",
    "# \tavg(exam3)\n",
    "#  FROM students;"
   ]
  },
  {
   "cell_type": "code",
   "execution_count": 23,
   "metadata": {},
   "outputs": [
    {
     "data": {
      "text/plain": [
       "[('sawyerwend', '81'),\n",
       " ('boothbrad', '85'),\n",
       " ('mcclainglen', '85'),\n",
       " ('gibsonedwa', '84'),\n",
       " ('terrellrobe', '99'),\n",
       " ('rodriguezmich', '94'),\n",
       " ('kennedylisa', '93'),\n",
       " ('hendersonmich', '91'),\n",
       " ('ramseyjohn', '89'),\n",
       " ('kerrsara', '82'),\n",
       " ('taylordian', '99'),\n",
       " ('weberpatr', '87'),\n",
       " ('frankjess', '95'),\n",
       " ('bushalex', '82')]"
      ]
     },
     "execution_count": 23,
     "metadata": {},
     "output_type": "execute_result"
    }
   ],
   "source": [
    "[(row[2], row[3]) for row in data if int(row[3]) > 80]\n",
    "\n",
    "# SELECT\n",
    "# \tusername, \n",
    "# \texam1\n",
    "# FROM\n",
    "# \tstudents\n",
    "# WHERE exam1 > 80;"
   ]
  },
  {
   "cell_type": "code",
   "execution_count": 25,
   "metadata": {},
   "outputs": [
    {
     "data": {
      "text/plain": [
       "[('sawyerwend', '81'),\n",
       " ('adamsbren', '80'),\n",
       " ('boothbrad', '85'),\n",
       " ('mcclainglen', '85'),\n",
       " ('gibsonedwa', '84'),\n",
       " ('ramseyjohn', '89'),\n",
       " ('kerrsara', '82'),\n",
       " ('weberpatr', '87'),\n",
       " ('bushalex', '82')]"
      ]
     },
     "execution_count": 25,
     "metadata": {},
     "output_type": "execute_result"
    }
   ],
   "source": [
    "[(row[2], row[3]) for row in data if 80 <= int(row[3]) <= 90]\n",
    "\n",
    "# SELECT\n",
    "# \tusername, \n",
    "# \texam1\n",
    "# FROM\n",
    "# \tstudents\n",
    "# WHERE exam1 BETWEEN 80 and 90;"
   ]
  },
  {
   "cell_type": "code",
   "execution_count": 31,
   "metadata": {},
   "outputs": [
    {
     "data": {
      "text/plain": [
       "14"
      ]
     },
     "execution_count": 31,
     "metadata": {},
     "output_type": "execute_result"
    }
   ],
   "source": [
    "\n",
    "len([True for row in data if int(row[3]) > 80])\n"
   ]
  },
  {
   "cell_type": "code",
   "execution_count": 32,
   "metadata": {},
   "outputs": [
    {
     "name": "stdout",
     "output_type": "stream",
     "text": [
      "14\n"
     ]
    }
   ],
   "source": [
    "count = 0\n",
    "for row in data:\n",
    "    if int(row[3]) > 80:\n",
    "        count += 1\n",
    "        \n",
    "print(count)\n",
    "# SELECT\n",
    "# \tcount(exam1)\n",
    "# FROM\n",
    "# \tstudents\n",
    "# WHERE exam1 > 80;"
   ]
  },
  {
   "cell_type": "code",
   "execution_count": 35,
   "metadata": {},
   "outputs": [
    {
     "data": {
      "text/plain": [
       "[['Larson', 'Melissa', 'larsonmeli', '24', '89', '31'],\n",
       " ['Novak', 'Melissa', 'novakmeli', '77', '3', '38']]"
      ]
     },
     "execution_count": 35,
     "metadata": {},
     "output_type": "execute_result"
    }
   ],
   "source": [
    "[row for row in data if row[1] == 'Melissa']\n",
    "\n",
    "# SELECT\n",
    "# \t*\n",
    "# FROM\n",
    "# \tstudents\n",
    "# WHERE first_name == 'Melissa'\n"
   ]
  },
  {
   "cell_type": "code",
   "execution_count": 36,
   "metadata": {},
   "outputs": [
    {
     "data": {
      "text/plain": [
       "[['Larson', 'Melissa', 'larsonmeli', '24', '89', '31'],\n",
       " ['Novak', 'Melissa', 'novakmeli', '77', '3', '38'],\n",
       " ['Wade', 'Stephanie', 'wadestep', '9', '69', '31'],\n",
       " ['Oliver', 'Alex', 'oliveralex', '61', '22', '6'],\n",
       " ['Sellers', 'Stephanie', 'sellersstep', '11', '83', '76']]"
      ]
     },
     "execution_count": 36,
     "metadata": {},
     "output_type": "execute_result"
    }
   ],
   "source": [
    "[row for row in data if row[1] in ['Melissa', 'Stephanie', 'Alex']]\n",
    "\n",
    "# SELECT\n",
    "# \t*\n",
    "# FROM\n",
    "# \tstudents\n",
    "# WHERE first_name IN ('Melissa', 'Stephanie', 'Alex');"
   ]
  },
  {
   "cell_type": "code",
   "execution_count": 37,
   "metadata": {},
   "outputs": [
    {
     "data": {
      "text/plain": [
       "[['Oliver', 'Alex', 'oliveralex', '61', '22', '6'],\n",
       " ['Hull', 'Alexandra', 'hullalex', '38', '7', '42'],\n",
       " ['Baird', 'Alexandra', 'bairdalex', '32', '90', '71'],\n",
       " ['Bush', 'Alexander', 'bushalex', '82', '54', '25']]"
      ]
     },
     "execution_count": 37,
     "metadata": {},
     "output_type": "execute_result"
    }
   ],
   "source": [
    "[row for row in data if row[1].startswith('Alex')]\n",
    "\n",
    "# SELECT\n",
    "# \t*\n",
    "# FROM\n",
    "# \tstudents\n",
    "# WHERE first_name LIKE 'Alex%';"
   ]
  },
  {
   "cell_type": "code",
   "execution_count": 38,
   "metadata": {},
   "outputs": [
    {
     "data": {
      "text/plain": [
       "[['Lozano', 'Catherine', 'lozanocath', '71', '19', '94'],\n",
       " ['Bowen', 'Katherine', 'bowenkath', '57', '61', '34'],\n",
       " ['Parrish', 'Nathan', 'parrishnath', '47', '92', '45'],\n",
       " ['Dominguez', 'Kathryn', 'dominguezkath', '21', '82', '31'],\n",
       " ['Fernandez', 'Jonathan', 'fernandezjona', '74', '80', '22']]"
      ]
     },
     "execution_count": 38,
     "metadata": {},
     "output_type": "execute_result"
    }
   ],
   "source": [
    "[row for row in data if 'ath' in row[1]]\n"
   ]
  },
  {
   "cell_type": "code",
   "execution_count": 47,
   "metadata": {},
   "outputs": [
    {
     "data": {
      "text/plain": [
       "[(52, 5),\n",
       " (59, 4),\n",
       " (37, 4),\n",
       " (77, 3),\n",
       " (61, 3),\n",
       " (41, 3),\n",
       " (25, 3),\n",
       " (66, 3),\n",
       " (78, 3),\n",
       " (18, 3),\n",
       " (64, 2),\n",
       " (85, 2),\n",
       " (29, 2),\n",
       " (16, 2),\n",
       " (3, 2),\n",
       " (6, 2),\n",
       " (57, 2),\n",
       " (47, 2),\n",
       " (73, 2),\n",
       " (99, 2),\n",
       " (22, 2),\n",
       " (15, 2),\n",
       " (82, 2),\n",
       " (24, 1),\n",
       " (81, 1),\n",
       " (80, 1),\n",
       " (34, 1),\n",
       " (79, 1),\n",
       " (72, 1),\n",
       " (71, 1),\n",
       " (30, 1),\n",
       " (84, 1),\n",
       " (50, 1),\n",
       " (28, 1),\n",
       " (27, 1),\n",
       " (21, 1),\n",
       " (94, 1),\n",
       " (93, 1),\n",
       " (91, 1),\n",
       " (67, 1),\n",
       " (53, 1),\n",
       " (89, 1),\n",
       " (9, 1),\n",
       " (20, 1),\n",
       " (75, 1),\n",
       " (70, 1),\n",
       " (10, 1),\n",
       " (48, 1),\n",
       " (87, 1),\n",
       " (38, 1),\n",
       " (95, 1),\n",
       " (32, 1),\n",
       " (36, 1),\n",
       " (43, 1),\n",
       " (2, 1),\n",
       " (54, 1),\n",
       " (33, 1),\n",
       " (26, 1),\n",
       " (23, 1),\n",
       " (65, 1),\n",
       " (11, 1),\n",
       " (44, 1),\n",
       " (74, 1)]"
      ]
     },
     "execution_count": 47,
     "metadata": {},
     "output_type": "execute_result"
    }
   ],
   "source": [
    "counts = {}\n",
    "for row in data:\n",
    "    exam_score = row[3]\n",
    "    \n",
    "    if int(exam_score) not in counts:\n",
    "        counts[int(exam_score)] = 0\n",
    "    \n",
    "    counts[int(exam_score)] += 1\n",
    "\n",
    "counts = zip(counts.keys(), counts.values())\n",
    "sorted(counts, key=lambda row: row[1], reverse=True)\n",
    "\n",
    "# SELECT \n",
    "# \texam1, \n",
    "# \tcount(exam1) as c  \n",
    "# FROM \n",
    "# \tstudents \n",
    "# GROUP BY exam1 ORDER BY c DESC;"
   ]
  },
  {
   "cell_type": "code",
   "execution_count": 51,
   "metadata": {},
   "outputs": [
    {
     "data": {
      "text/plain": [
       "[('Michael', 5),\n",
       " ('John', 3),\n",
       " ('Christopher', 3),\n",
       " ('Patrick', 3),\n",
       " ('Melissa', 2),\n",
       " ('Marcus', 2),\n",
       " ('Janice', 2),\n",
       " ('David', 2),\n",
       " ('Linda', 2),\n",
       " ('Robert', 2),\n",
       " ('Jennifer', 2),\n",
       " ('Michelle', 2),\n",
       " ('Lisa', 2),\n",
       " ('James', 2),\n",
       " ('Stephanie', 2),\n",
       " ('Alexandra', 2),\n",
       " ('Jessica', 2),\n",
       " ('Brian', 2),\n",
       " ('Wendy', 1),\n",
       " ('Nicholas', 1),\n",
       " ('Brenda', 1),\n",
       " ('Charlene', 1),\n",
       " ('Bradley', 1),\n",
       " ('Eugene', 1),\n",
       " ('Mary', 1),\n",
       " ('Kimberly', 1),\n",
       " ('Philip', 1),\n",
       " ('Madeline', 1),\n",
       " ('Cassie', 1),\n",
       " ('Glenn', 1),\n",
       " ('Catherine', 1),\n",
       " ('Elizabeth', 1),\n",
       " ('Katherine', 1),\n",
       " ('Edward', 1),\n",
       " ('Debra', 1),\n",
       " ('Carlos', 1),\n",
       " ('Nathan', 1),\n",
       " ('Amanda', 1),\n",
       " ('Kathryn', 1),\n",
       " ('Paige', 1),\n",
       " ('Jerome', 1),\n",
       " ('Andre', 1),\n",
       " ('Paul', 1),\n",
       " ('Kelli', 1),\n",
       " ('Troy', 1),\n",
       " ('Sarah', 1),\n",
       " ('Rebecca', 1),\n",
       " ('Joel', 1),\n",
       " ('Cody', 1),\n",
       " ('Rachel', 1),\n",
       " ('Alex', 1),\n",
       " ('Shannon', 1),\n",
       " ('Vanessa', 1),\n",
       " ('Diana', 1),\n",
       " ('Brandon', 1),\n",
       " ('Matthew', 1),\n",
       " ('Judy', 1),\n",
       " ('Samuel', 1),\n",
       " ('Carmen', 1),\n",
       " ('Luis', 1),\n",
       " ('Dawn', 1),\n",
       " ('Tammy', 1),\n",
       " ('Angela', 1),\n",
       " ('Austin', 1),\n",
       " ('Carol', 1),\n",
       " ('Shawn', 1),\n",
       " ('Kristen', 1),\n",
       " ('Brandy', 1),\n",
       " ('Mariah', 1),\n",
       " ('Brianna', 1),\n",
       " ('Jon', 1),\n",
       " ('Wayne', 1),\n",
       " ('Andrew', 1),\n",
       " ('Alexander', 1),\n",
       " ('Sandra', 1),\n",
       " ('Jonathan', 1)]"
      ]
     },
     "execution_count": 51,
     "metadata": {},
     "output_type": "execute_result"
    }
   ],
   "source": [
    "counts = {}\n",
    "for row in data:\n",
    "    first_name = row[1]\n",
    "    \n",
    "    if first_name not in counts:\n",
    "        counts[first_name] = 0\n",
    "    \n",
    "    counts[first_name] += 1\n",
    "\n",
    "counts = zip(counts.keys(), counts.values())\n",
    "sorted(counts, key=lambda row: row[1], reverse=True)\n",
    "\n",
    "# SELECT \n",
    "# \tfirst_name, \n",
    "# \tcount(first_name) as name_count  \n",
    "# FROM students\n",
    "# GROUP BY first_name ORDER BY name_count DESC;"
   ]
  },
  {
   "cell_type": "code",
   "execution_count": null,
   "metadata": {},
   "outputs": [],
   "source": []
  }
 ],
 "metadata": {
  "kernelspec": {
   "display_name": "Python 3",
   "language": "python",
   "name": "python3"
  },
  "language_info": {
   "codemirror_mode": {
    "name": "ipython",
    "version": 3
   },
   "file_extension": ".py",
   "mimetype": "text/x-python",
   "name": "python",
   "nbconvert_exporter": "python",
   "pygments_lexer": "ipython3",
   "version": "3.8.5"
  }
 },
 "nbformat": 4,
 "nbformat_minor": 2
}
