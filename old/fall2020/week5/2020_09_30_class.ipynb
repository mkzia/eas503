{
 "cells": [
  {
   "cell_type": "code",
   "execution_count": 2,
   "metadata": {},
   "outputs": [],
   "source": [
    "# basic data types: str, int, float, bool\n",
    "# list is a sequence or list of basic data types\n",
    "\n",
    "my_list = [12, 3, 4, 7, 8, 0]\n"
   ]
  },
  {
   "cell_type": "code",
   "execution_count": 4,
   "metadata": {},
   "outputs": [
    {
     "data": {
      "text/plain": [
       "3"
      ]
     },
     "execution_count": 4,
     "metadata": {},
     "output_type": "execute_result"
    }
   ],
   "source": [
    "my_list[1]"
   ]
  },
  {
   "cell_type": "code",
   "execution_count": 5,
   "metadata": {},
   "outputs": [
    {
     "data": {
      "text/plain": [
       "[4, 7, 8]"
      ]
     },
     "execution_count": 5,
     "metadata": {},
     "output_type": "execute_result"
    }
   ],
   "source": [
    "# start_index (included):stop_index (not included): step_size\n",
    "my_list[2:5]"
   ]
  },
  {
   "cell_type": "code",
   "execution_count": 6,
   "metadata": {},
   "outputs": [
    {
     "data": {
      "text/plain": [
       "[12, 3, 4, 7]"
      ]
     },
     "execution_count": 6,
     "metadata": {},
     "output_type": "execute_result"
    }
   ],
   "source": [
    "my_list[:4]"
   ]
  },
  {
   "cell_type": "code",
   "execution_count": 7,
   "metadata": {},
   "outputs": [
    {
     "data": {
      "text/plain": [
       "[7, 8, 0]"
      ]
     },
     "execution_count": 7,
     "metadata": {},
     "output_type": "execute_result"
    }
   ],
   "source": [
    "my_list[3:]"
   ]
  },
  {
   "cell_type": "code",
   "execution_count": 8,
   "metadata": {},
   "outputs": [
    {
     "data": {
      "text/plain": [
       "[12, 3, 4, 7, 8, 0]"
      ]
     },
     "execution_count": 8,
     "metadata": {},
     "output_type": "execute_result"
    }
   ],
   "source": [
    "my_list"
   ]
  },
  {
   "cell_type": "code",
   "execution_count": 14,
   "metadata": {},
   "outputs": [],
   "source": [
    "numbers = list(range(10))"
   ]
  },
  {
   "cell_type": "code",
   "execution_count": 15,
   "metadata": {},
   "outputs": [
    {
     "data": {
      "text/plain": [
       "[0, 1, 2, 3, 4, 5, 6, 7, 8, 9]"
      ]
     },
     "execution_count": 15,
     "metadata": {},
     "output_type": "execute_result"
    }
   ],
   "source": [
    "numbers"
   ]
  },
  {
   "cell_type": "code",
   "execution_count": 16,
   "metadata": {},
   "outputs": [
    {
     "data": {
      "text/plain": [
       "[0, 2, 4, 6, 8]"
      ]
     },
     "execution_count": 16,
     "metadata": {},
     "output_type": "execute_result"
    }
   ],
   "source": [
    "numbers[::2]"
   ]
  },
  {
   "cell_type": "code",
   "execution_count": 17,
   "metadata": {},
   "outputs": [],
   "source": [
    "numbers[4] = 10"
   ]
  },
  {
   "cell_type": "code",
   "execution_count": 18,
   "metadata": {},
   "outputs": [
    {
     "data": {
      "text/plain": [
       "[0, 1, 2, 3, 10, 5, 6, 7, 8, 9]"
      ]
     },
     "execution_count": 18,
     "metadata": {},
     "output_type": "execute_result"
    }
   ],
   "source": [
    "numbers"
   ]
  },
  {
   "cell_type": "code",
   "execution_count": 19,
   "metadata": {},
   "outputs": [],
   "source": [
    "my_tuple = (0, 1, 2, 3, 4, 5, 6)"
   ]
  },
  {
   "cell_type": "code",
   "execution_count": 20,
   "metadata": {},
   "outputs": [
    {
     "data": {
      "text/plain": [
       "(0, 1, 2, 3, 4, 5, 6)"
      ]
     },
     "execution_count": 20,
     "metadata": {},
     "output_type": "execute_result"
    }
   ],
   "source": [
    "my_tuple"
   ]
  },
  {
   "cell_type": "code",
   "execution_count": 22,
   "metadata": {},
   "outputs": [
    {
     "data": {
      "text/plain": [
       "4"
      ]
     },
     "execution_count": 22,
     "metadata": {},
     "output_type": "execute_result"
    }
   ],
   "source": [
    "my_tuple[4]"
   ]
  },
  {
   "cell_type": "code",
   "execution_count": 23,
   "metadata": {},
   "outputs": [
    {
     "data": {
      "text/plain": [
       "(0, 2, 4, 6)"
      ]
     },
     "execution_count": 23,
     "metadata": {},
     "output_type": "execute_result"
    }
   ],
   "source": [
    "my_tuple[::2]"
   ]
  },
  {
   "cell_type": "code",
   "execution_count": 27,
   "metadata": {},
   "outputs": [
    {
     "name": "stdout",
     "output_type": "stream",
     "text": [
      "T\n",
      "e\n",
      "s\n",
      "t\n",
      "1\n",
      "2\n",
      "3\n",
      "4\n",
      "M\n",
      "y\n",
      "P\n",
      "a\n",
      "s\n",
      "s\n",
      "w\n",
      "o\n",
      "r\n",
      "d\n"
     ]
    }
   ],
   "source": [
    "sequence = [0, 1, 2, 3, 4, 5, 6]\n",
    "password = 'Test1234MyPassword'\n",
    "for character in password:\n",
    "    print(character)\n",
    "    "
   ]
  },
  {
   "cell_type": "code",
   "execution_count": 28,
   "metadata": {},
   "outputs": [
    {
     "name": "stdout",
     "output_type": "stream",
     "text": [
      "0\n",
      "1\n",
      "2\n",
      "3\n",
      "4\n"
     ]
    }
   ],
   "source": [
    "values = [4, 10, 3, 8, -6]\n",
    "for i in range(len(values)):\n",
    "    print(i)"
   ]
  },
  {
   "cell_type": "code",
   "execution_count": 29,
   "metadata": {},
   "outputs": [
    {
     "name": "stdout",
     "output_type": "stream",
     "text": [
      "0 4\n",
      "1 10\n",
      "2 3\n",
      "3 8\n",
      "4 -6\n"
     ]
    }
   ],
   "source": [
    "values = [4, 10, 3, 8, -6]\n",
    "for i in range(len(values)):\n",
    "    print(i, values[i])"
   ]
  },
  {
   "cell_type": "code",
   "execution_count": 30,
   "metadata": {},
   "outputs": [
    {
     "name": "stdout",
     "output_type": "stream",
     "text": [
      "4\n",
      "10\n",
      "3\n",
      "8\n",
      "-6\n"
     ]
    }
   ],
   "source": [
    "for val in values:\n",
    "    print(val)"
   ]
  },
  {
   "cell_type": "code",
   "execution_count": 31,
   "metadata": {},
   "outputs": [],
   "source": [
    "values = [4, 10, 3, 8, -6]\n",
    "for i in range(len(values)):\n",
    "    values[i] = values[i] * 2"
   ]
  },
  {
   "cell_type": "code",
   "execution_count": 32,
   "metadata": {},
   "outputs": [
    {
     "data": {
      "text/plain": [
       "[8, 20, 6, 16, -12]"
      ]
     },
     "execution_count": 32,
     "metadata": {},
     "output_type": "execute_result"
    }
   ],
   "source": [
    "values"
   ]
  },
  {
   "cell_type": "code",
   "execution_count": 34,
   "metadata": {},
   "outputs": [
    {
     "name": "stdout",
     "output_type": "stream",
     "text": [
      "1 4\n",
      "2 10\n",
      "3 3\n",
      "4 8\n",
      "5 -6\n"
     ]
    }
   ],
   "source": [
    "values = [4, 10, 3, 8, -6]\n",
    "for index, value in enumerate(values, 1):\n",
    "    print(index, value)"
   ]
  },
  {
   "cell_type": "code",
   "execution_count": 35,
   "metadata": {},
   "outputs": [
    {
     "ename": "TypeError",
     "evalue": "'tuple' object does not support item assignment",
     "output_type": "error",
     "traceback": [
      "\u001b[1;31m---------------------------------------------------------------------------\u001b[0m",
      "\u001b[1;31mTypeError\u001b[0m                                 Traceback (most recent call last)",
      "\u001b[1;32m<ipython-input-35-b5ee6faa16a1>\u001b[0m in \u001b[0;36m<module>\u001b[1;34m\u001b[0m\n\u001b[0;32m      1\u001b[0m \u001b[0mmy_tuple\u001b[0m \u001b[1;33m=\u001b[0m \u001b[1;33m(\u001b[0m\u001b[1;36m1\u001b[0m\u001b[1;33m,\u001b[0m \u001b[1;36m2\u001b[0m\u001b[1;33m,\u001b[0m \u001b[1;36m3\u001b[0m\u001b[1;33m,\u001b[0m \u001b[1;36m4\u001b[0m\u001b[1;33m)\u001b[0m\u001b[1;33m\u001b[0m\u001b[1;33m\u001b[0m\u001b[0m\n\u001b[0;32m      2\u001b[0m \u001b[1;32mfor\u001b[0m \u001b[0midx\u001b[0m\u001b[1;33m,\u001b[0m \u001b[0mval\u001b[0m \u001b[1;32min\u001b[0m \u001b[0menumerate\u001b[0m\u001b[1;33m(\u001b[0m\u001b[0mmy_tuple\u001b[0m\u001b[1;33m)\u001b[0m\u001b[1;33m:\u001b[0m\u001b[1;33m\u001b[0m\u001b[1;33m\u001b[0m\u001b[0m\n\u001b[1;32m----> 3\u001b[1;33m     \u001b[0mmy_tuple\u001b[0m\u001b[1;33m[\u001b[0m\u001b[0midx\u001b[0m\u001b[1;33m]\u001b[0m \u001b[1;33m=\u001b[0m \u001b[0mmy_tuple\u001b[0m\u001b[1;33m*\u001b[0m\u001b[1;36m3\u001b[0m\u001b[1;33m\u001b[0m\u001b[1;33m\u001b[0m\u001b[0m\n\u001b[0m\u001b[0;32m      4\u001b[0m \u001b[1;33m\u001b[0m\u001b[0m\n",
      "\u001b[1;31mTypeError\u001b[0m: 'tuple' object does not support item assignment"
     ]
    }
   ],
   "source": [
    "my_tuple = (1, 2, 3, 4)\n",
    "for idx, val in enumerate(my_tuple):\n",
    "    my_tuple[idx] = my_tuple*3\n",
    "    "
   ]
  },
  {
   "cell_type": "code",
   "execution_count": 36,
   "metadata": {},
   "outputs": [],
   "source": [
    "my_list = [3,4,5]\n",
    "my_list.append(6)"
   ]
  },
  {
   "cell_type": "code",
   "execution_count": 37,
   "metadata": {},
   "outputs": [
    {
     "data": {
      "text/plain": [
       "[3, 4, 5, 6]"
      ]
     },
     "execution_count": 37,
     "metadata": {},
     "output_type": "execute_result"
    }
   ],
   "source": [
    "my_list"
   ]
  },
  {
   "cell_type": "code",
   "execution_count": 38,
   "metadata": {},
   "outputs": [
    {
     "ename": "AttributeError",
     "evalue": "'tuple' object has no attribute 'append'",
     "output_type": "error",
     "traceback": [
      "\u001b[1;31m---------------------------------------------------------------------------\u001b[0m",
      "\u001b[1;31mAttributeError\u001b[0m                            Traceback (most recent call last)",
      "\u001b[1;32m<ipython-input-38-d0188a9ab5f2>\u001b[0m in \u001b[0;36m<module>\u001b[1;34m\u001b[0m\n\u001b[0;32m      1\u001b[0m \u001b[0mmy_tuple\u001b[0m \u001b[1;33m=\u001b[0m \u001b[1;33m(\u001b[0m\u001b[1;36m3\u001b[0m\u001b[1;33m,\u001b[0m\u001b[1;36m4\u001b[0m\u001b[1;33m,\u001b[0m\u001b[1;36m5\u001b[0m\u001b[1;33m)\u001b[0m\u001b[1;33m\u001b[0m\u001b[1;33m\u001b[0m\u001b[0m\n\u001b[1;32m----> 2\u001b[1;33m \u001b[0mmy_tuple\u001b[0m\u001b[1;33m.\u001b[0m\u001b[0mappend\u001b[0m\u001b[1;33m(\u001b[0m\u001b[1;36m6\u001b[0m\u001b[1;33m)\u001b[0m\u001b[1;33m\u001b[0m\u001b[1;33m\u001b[0m\u001b[0m\n\u001b[0m",
      "\u001b[1;31mAttributeError\u001b[0m: 'tuple' object has no attribute 'append'"
     ]
    }
   ],
   "source": [
    "my_tuple = (3,4,5)\n",
    "my_tuple.append(6)"
   ]
  },
  {
   "cell_type": "code",
   "execution_count": 39,
   "metadata": {},
   "outputs": [
    {
     "data": {
      "text/plain": [
       "(4, 10, 3, 8, -6)"
      ]
     },
     "execution_count": 39,
     "metadata": {},
     "output_type": "execute_result"
    }
   ],
   "source": [
    "tuple(values)\n",
    "    "
   ]
  },
  {
   "cell_type": "code",
   "execution_count": 41,
   "metadata": {},
   "outputs": [
    {
     "name": "stdout",
     "output_type": "stream",
     "text": [
      "0 1\n",
      "1 2\n",
      "2 3\n",
      "3 4\n",
      "4 5\n",
      "5 6\n",
      "6 7\n"
     ]
    }
   ],
   "source": [
    "values = [1,2, 3, 4, 5, 6, 7]\n",
    "for i in range(len(values)):\n",
    "    print(i, values[i])"
   ]
  },
  {
   "cell_type": "code",
   "execution_count": 43,
   "metadata": {},
   "outputs": [
    {
     "name": "stdout",
     "output_type": "stream",
     "text": [
      "1 1\n",
      "2 2\n",
      "3 3\n",
      "4 4\n",
      "5 5\n",
      "6 6\n",
      "7 7\n"
     ]
    }
   ],
   "source": [
    "for i, val in enumerate(values, 1):\n",
    "    print(i, val)"
   ]
  },
  {
   "cell_type": "code",
   "execution_count": 44,
   "metadata": {},
   "outputs": [
    {
     "name": "stdout",
     "output_type": "stream",
     "text": [
      "Li 6.941\n",
      "Na 22.98976928\n",
      "K 39.0983\n"
     ]
    }
   ],
   "source": [
    "metals = ['Li', 'Na', 'K']\n",
    "weights = [6.941, 22.98976928, 39.0983]\n",
    "for i in range(len(metals)):\n",
    "    print(metals[i], weights[i])"
   ]
  },
  {
   "cell_type": "code",
   "execution_count": 47,
   "metadata": {},
   "outputs": [
    {
     "name": "stdout",
     "output_type": "stream",
     "text": [
      "4 30\n"
     ]
    }
   ],
   "source": [
    "x = [1, 2, 3, 4, 5, 6]\n",
    "y = [90, 80, 40, 30, 76, 55]\n",
    "\n",
    "for index in range(len(x)):\n",
    "    if index == 3:\n",
    "        print(x[index], y[index])"
   ]
  },
  {
   "cell_type": "code",
   "execution_count": 48,
   "metadata": {},
   "outputs": [
    {
     "name": "stdout",
     "output_type": "stream",
     "text": [
      "2000 22\n",
      "2001 45\n",
      "2002 89\n",
      "2003 20\n"
     ]
    }
   ],
   "source": [
    "year = [2000, 2001, 2002, 2003]\n",
    "gdp = [22, 45, 89, 20]\n",
    "\n",
    "for index in range(len(year)):\n",
    "    print(year[index], gdp[index])"
   ]
  },
  {
   "cell_type": "code",
   "execution_count": 53,
   "metadata": {},
   "outputs": [
    {
     "name": "stdout",
     "output_type": "stream",
     "text": [
      "Li 6.941\n",
      "Na 22.98976928\n",
      "K 39.0983\n",
      "C 4.05\n"
     ]
    }
   ],
   "source": [
    "metals = ['Li', 'Na', 'K', 'C', 'O']\n",
    "weights = [6.941, 22.98976928, 39.0983, 4.05]\n",
    "for metal, weight in zip(metals, weights):\n",
    "    print(metal, weight)"
   ]
  },
  {
   "cell_type": "code",
   "execution_count": 54,
   "metadata": {},
   "outputs": [
    {
     "name": "stdout",
     "output_type": "stream",
     "text": [
      "1 90\n",
      "2 80\n",
      "3 40\n",
      "4 30\n",
      "5 76\n",
      "6 55\n"
     ]
    }
   ],
   "source": [
    "for val1, val2 in zip(x,y):\n",
    "    print(val1, val2)"
   ]
  },
  {
   "cell_type": "code",
   "execution_count": 55,
   "metadata": {},
   "outputs": [
    {
     "name": "stdout",
     "output_type": "stream",
     "text": [
      "2000 22\n",
      "2001 45\n",
      "2002 89\n",
      "2003 20\n"
     ]
    }
   ],
   "source": [
    "for val1, val2 in zip(year,gdp):\n",
    "    print(val1, val2)"
   ]
  },
  {
   "cell_type": "code",
   "execution_count": 59,
   "metadata": {},
   "outputs": [
    {
     "name": "stdout",
     "output_type": "stream",
     "text": [
      "List No. 0\n",
      "Li\n",
      "Na\n",
      "K\n",
      "List No. 1\n",
      "F\n",
      "Cl\n",
      "Br\n"
     ]
    }
   ],
   "source": [
    "elements = [['Li', 'Na', 'K'], ['F', 'Cl', 'Br']]\n",
    "for idx, inner_list in enumerate(elements):\n",
    "    print(f'Element No. {idx}')\n",
    "    for item in inner_list:\n",
    "        print(item)"
   ]
  },
  {
   "cell_type": "code",
   "execution_count": 64,
   "metadata": {},
   "outputs": [
    {
     "name": "stdout",
     "output_type": "stream",
     "text": [
      "Li F\n",
      "Na Cl\n",
      "K Br\n"
     ]
    }
   ],
   "source": [
    "elements = [['Li', 'Na', 'K'], ['F', 'Cl', 'Br']]\n",
    "for idx in range(len(elements[0])):\n",
    "    print(elements[0][idx], elements[1][idx])"
   ]
  },
  {
   "cell_type": "code",
   "execution_count": 60,
   "metadata": {},
   "outputs": [
    {
     "name": "stdout",
     "output_type": "stream",
     "text": [
      "3\n",
      "3\n",
      "4\n"
     ]
    }
   ],
   "source": [
    "info = [['Isaac Newton', 1643, 1727],\n",
    "\t['Charles Darwin', 1809, 1882],\n",
    "\t['Alan Turing', 1912, 1954, 'alan@bletchley.uk']]\n",
    "for item in info:\n",
    "\tprint(len(item))"
   ]
  },
  {
   "cell_type": "code",
   "execution_count": 65,
   "metadata": {},
   "outputs": [
    {
     "data": {
      "text/plain": [
       "10"
      ]
     },
     "execution_count": 65,
     "metadata": {},
     "output_type": "execute_result"
    }
   ],
   "source": [
    "x = [1, 2, 3, 4]\n",
    "sum(x)"
   ]
  },
  {
   "cell_type": "code",
   "execution_count": 71,
   "metadata": {},
   "outputs": [
    {
     "name": "stdout",
     "output_type": "stream",
     "text": [
      "340.0\n"
     ]
    }
   ],
   "source": [
    "###############################################################\n",
    "# for_ex1.py\n",
    "# Write a function that takes in a list of values and returns its sum\n",
    "\n",
    "def sum_list(input_list):\n",
    "    total = 0.0\n",
    "    for ele in input_list:\n",
    "        total += ele\n",
    "        \n",
    "    return total\n",
    "\n",
    "print(sum_list([90, 80, 90, 80]))\n"
   ]
  },
  {
   "cell_type": "code",
   "execution_count": 72,
   "metadata": {},
   "outputs": [
    {
     "name": "stdout",
     "output_type": "stream",
     "text": [
      "85.0\n"
     ]
    }
   ],
   "source": [
    "###############################################################\n",
    "# for_ex2.py\n",
    "# Write a function that takes in a list of values and returns its average\n",
    "\n",
    "def average(input_list):\n",
    "    total = 0\n",
    "    for val in input_list:\n",
    "        if val.isdi\n",
    "        total += val\n",
    "        \n",
    "    average = total/len(input_list)\n",
    "    return average\n",
    "\n",
    "print(average([90, 80, 90, 80]))"
   ]
  },
  {
   "cell_type": "code",
   "execution_count": 73,
   "metadata": {},
   "outputs": [
    {
     "name": "stdout",
     "output_type": "stream",
     "text": [
      "85.0\n"
     ]
    }
   ],
   "source": [
    "##################################################################\n",
    "# for_ex3.py\n",
    "# Write a function that takes in a list of values and returns its average\n",
    "# Instead of using a for loop as in ex2, use sum() and len() to calculate the average\n",
    "\n",
    "def average2(input_list):\n",
    "    \n",
    "    return sum(input_list)/len(input_list)\n",
    "\n",
    "print(average2([90, 80, 90, 80]))\n"
   ]
  },
  {
   "cell_type": "code",
   "execution_count": 77,
   "metadata": {},
   "outputs": [
    {
     "name": "stdout",
     "output_type": "stream",
     "text": [
      "[2, 4, 6]\n"
     ]
    }
   ],
   "source": [
    "##################################################################\n",
    "# for_ex4.py\n",
    "# Write a function that multiplies the elements of the list by two and returns them\n",
    "\n",
    "def mul2(input_list):\n",
    "#     for idx, ele in enumerate(input_list):\n",
    "#         input_list[idx] = ele*2\n",
    "        \n",
    "    for index in range(len(input_list)):\n",
    "        input_list[index] = input_list[index]*2\n",
    "        \n",
    "        \n",
    "    return input_list\n",
    "\n",
    "print(mul2([1, 2, 3]))"
   ]
  },
  {
   "cell_type": "code",
   "execution_count": 88,
   "metadata": {},
   "outputs": [
    {
     "name": "stdout",
     "output_type": "stream",
     "text": [
      "1 1\n",
      "2 4\n",
      "3 9\n",
      "4 16\n",
      "5 25\n"
     ]
    }
   ],
   "source": [
    "##################################################################\n",
    "# for_ex5.py\n",
    "# Write a pow() function that computes the power of each element in a list\n",
    "\n",
    "def pow(input_list, power):\n",
    "    output = []\n",
    "    for ele in input_list:\n",
    "        value = ele**power\n",
    "        output.append(value)\n",
    "        \n",
    "    return output\n",
    "\n",
    "original_list = [1, 2, 3, 4, 5]\n",
    "output_list = pow(original_list, 2)\n",
    "\n",
    "\n",
    "for original,output in zip(original_list, output_list):\n",
    "    print(original, output)\n"
   ]
  },
  {
   "cell_type": "code",
   "execution_count": 89,
   "metadata": {},
   "outputs": [
    {
     "name": "stdout",
     "output_type": "stream",
     "text": [
      "[1, 2, 3, 4, 5, 6]\n"
     ]
    }
   ],
   "source": [
    "##################################################################\n",
    "# for_ex6.py\n",
    "# Write a function to remove duplicate from a list\n",
    "\n",
    "def rm_duplicate(input_list):\n",
    "    output = []\n",
    "    for ele in input_list:\n",
    "        if ele not in output:\n",
    "            output.append(ele)\n",
    "            \n",
    "    return output\n",
    "\n",
    "print(rm_duplicate([1, 2, 3, 4, 5, 6, 6, 6, 2, 3]))"
   ]
  },
  {
   "cell_type": "code",
   "execution_count": 92,
   "metadata": {
    "scrolled": true
   },
   "outputs": [
    {
     "name": "stdout",
     "output_type": "stream",
     "text": [
      "ABCDEFG\n"
     ]
    }
   ],
   "source": [
    "output = []\n",
    "total = 0\n",
    "string = ''\n",
    "\n",
    "for ele in 'ABCDEFG':\n",
    "    string += ele\n",
    "print(string)\n",
    "    "
   ]
  },
  {
   "cell_type": "code",
   "execution_count": 120,
   "metadata": {},
   "outputs": [
    {
     "name": "stdout",
     "output_type": "stream",
     "text": [
      "78.8\n"
     ]
    }
   ],
   "source": [
    "##################################################################\n",
    "# for_ex7.py\n",
    "# Write a function that reads grades from an input file and calculates their average\n",
    "# input: filename\n",
    "# use: for_ex7_data1.txt\n",
    "# use: for_ex7_data2.txt\n",
    "# use: for_ex7_data3.txt\n",
    "# use a list to read the values in to and then use sum and len to calclate average.\n",
    "# Be careful about empty rows!\n",
    "# Be careful about non-numbers!\n",
    "\n",
    "# filename = 'for_ex7_data1.txt'\n",
    "# with open(filename, 'r') as file:\n",
    "# \tfor line in file:\n",
    "# \t\t#do something with line\n",
    "    \n",
    "        \n",
    "        \n",
    "\n",
    "def average3(filename):\n",
    "    total = 0\n",
    "    length = 0\n",
    "    with open(filename, 'r') as file:\n",
    "        for line in file:\n",
    "            line = line.strip()\n",
    "            value = int(line)\n",
    "            total += value\n",
    "            length += 1\n",
    "            \n",
    "    average = total/length\n",
    "    return average\n",
    "filename = 'eas503/week5/for_ex7_data1.txt'\n",
    "\n",
    "print(average3(filename))"
   ]
  },
  {
   "cell_type": "code",
   "execution_count": 104,
   "metadata": {},
   "outputs": [
    {
     "name": "stdout",
     "output_type": "stream",
     "text": [
      "     abcde     \n",
      "\n",
      "\n",
      "\n",
      "\n",
      "\n",
      "\n",
      "\n",
      "\r",
      "\r",
      "\r",
      "\r\n",
      "abcde\n"
     ]
    }
   ],
   "source": [
    "a = '     abcde     \\n\\n\\n\\n\\n\\n\\n\\n\\r\\r\\r\\r'\n",
    "print(a)\n",
    "print(a.strip())"
   ]
  },
  {
   "cell_type": "code",
   "execution_count": 111,
   "metadata": {},
   "outputs": [
    {
     "data": {
      "text/plain": [
       "True"
      ]
     },
     "execution_count": 111,
     "metadata": {},
     "output_type": "execute_result"
    }
   ],
   "source": [
    "'3'.isdigit()"
   ]
  },
  {
   "cell_type": "code",
   "execution_count": 125,
   "metadata": {},
   "outputs": [
    {
     "name": "stdout",
     "output_type": "stream",
     "text": [
      "64.42857142857143\n"
     ]
    }
   ],
   "source": [
    "def average4(filename):\n",
    "    total = 0\n",
    "    no_values = 0\n",
    "    with open(filename, 'r') as file:\n",
    "        for line in file:\n",
    "            line = line.strip()\n",
    "            # \n",
    "            if not line:\n",
    "                continue\n",
    "                \n",
    "            value = int(line)\n",
    "            total += value\n",
    "            no_values += 1\n",
    "            \n",
    "    average = total/no_values\n",
    "    return average\n",
    "filename = 'eas503/week5/for_ex7_data2.txt'\n",
    "\n",
    "print(average4(filename))"
   ]
  },
  {
   "cell_type": "code",
   "execution_count": 126,
   "metadata": {},
   "outputs": [
    {
     "ename": "ValueError",
     "evalue": "invalid literal for int() with base 10: ''",
     "output_type": "error",
     "traceback": [
      "\u001b[1;31m---------------------------------------------------------------------------\u001b[0m",
      "\u001b[1;31mValueError\u001b[0m                                Traceback (most recent call last)",
      "\u001b[1;32m<ipython-input-126-3d69887596a7>\u001b[0m in \u001b[0;36m<module>\u001b[1;34m\u001b[0m\n\u001b[0;32m      1\u001b[0m \u001b[0mline\u001b[0m \u001b[1;33m=\u001b[0m \u001b[1;34m''\u001b[0m\u001b[1;33m\u001b[0m\u001b[1;33m\u001b[0m\u001b[0m\n\u001b[1;32m----> 2\u001b[1;33m \u001b[0mint\u001b[0m\u001b[1;33m(\u001b[0m\u001b[0mline\u001b[0m\u001b[1;33m)\u001b[0m\u001b[1;33m\u001b[0m\u001b[1;33m\u001b[0m\u001b[0m\n\u001b[0m",
      "\u001b[1;31mValueError\u001b[0m: invalid literal for int() with base 10: ''"
     ]
    }
   ],
   "source": [
    "line = ''\n",
    "int(line)\n"
   ]
  },
  {
   "cell_type": "code",
   "execution_count": 142,
   "metadata": {},
   "outputs": [
    {
     "name": "stdout",
     "output_type": "stream",
     "text": [
      "Skipping 99.o.\n",
      "Skipping AAB.\n",
      "Skipping 9A.00.\n",
      "75.43\n"
     ]
    }
   ],
   "source": [
    "def average5(filename):\n",
    "    total = 0\n",
    "    no_values = 0\n",
    "    with open(filename, 'r') as file:\n",
    "        for line in file:\n",
    "            line = line.strip()\n",
    "            line = '     \\n'\n",
    "            # Skip empty line\n",
    "            if not line:\n",
    "                continue\n",
    "\n",
    "#             print(line, type(line))\n",
    "            try:\n",
    "                value = float(line)\n",
    "            except:\n",
    "                print(f'Skipping {line}.')\n",
    "                continue\n",
    "            \n",
    "#             print(value, type(value))\n",
    "            total += value\n",
    "            no_values += 1\n",
    "            \n",
    "    average = total/no_values\n",
    "    return average\n",
    "filename = 'eas503/week5/for_ex7_data3.txt'\n",
    "\n",
    "print(average5(filename))"
   ]
  },
  {
   "cell_type": "code",
   "execution_count": 136,
   "metadata": {},
   "outputs": [],
   "source": [
    "column = 'col1\\tcol2\\tcol3'\n",
    "row1 = '10\\t20\\t30'\n",
    "row2 = '70\\t80\\t90'\n",
    "row3 = '10\\t20\\t'\n",
    "        \n"
   ]
  },
  {
   "cell_type": "code",
   "execution_count": 137,
   "metadata": {},
   "outputs": [
    {
     "data": {
      "text/plain": [
       "['col1', 'col2', 'col3']"
      ]
     },
     "execution_count": 137,
     "metadata": {},
     "output_type": "execute_result"
    }
   ],
   "source": [
    "column.split('\\t')"
   ]
  },
  {
   "cell_type": "code",
   "execution_count": 138,
   "metadata": {},
   "outputs": [
    {
     "data": {
      "text/plain": [
       "['10', '20', '30']"
      ]
     },
     "execution_count": 138,
     "metadata": {},
     "output_type": "execute_result"
    }
   ],
   "source": [
    "row1.split('\\t')"
   ]
  },
  {
   "cell_type": "code",
   "execution_count": 139,
   "metadata": {},
   "outputs": [
    {
     "data": {
      "text/plain": [
       "['70', '80', '90']"
      ]
     },
     "execution_count": 139,
     "metadata": {},
     "output_type": "execute_result"
    }
   ],
   "source": [
    "row2.split('\\t')"
   ]
  },
  {
   "cell_type": "code",
   "execution_count": 140,
   "metadata": {},
   "outputs": [
    {
     "data": {
      "text/plain": [
       "['10', '20', '']"
      ]
     },
     "execution_count": 140,
     "metadata": {},
     "output_type": "execute_result"
    }
   ],
   "source": [
    "row3.split('\\t')"
   ]
  },
  {
   "cell_type": "code",
   "execution_count": 141,
   "metadata": {},
   "outputs": [
    {
     "data": {
      "text/plain": [
       "['10', '20']"
      ]
     },
     "execution_count": 141,
     "metadata": {},
     "output_type": "execute_result"
    }
   ],
   "source": [
    "row3.strip().split('\\t')"
   ]
  },
  {
   "cell_type": "code",
   "execution_count": 146,
   "metadata": {},
   "outputs": [
    {
     "name": "stdout",
     "output_type": "stream",
     "text": [
      "Truthiness of string is True\n"
     ]
    }
   ],
   "source": [
    "line= '     \\n'\n",
    "\n",
    "if line:\n",
    "    print('Truthiness of string is True')\n",
    "    \n",
    "if line.strip():\n",
    "    print('Truthiness of string is True')"
   ]
  },
  {
   "cell_type": "code",
   "execution_count": 147,
   "metadata": {},
   "outputs": [
    {
     "name": "stdout",
     "output_type": "stream",
     "text": [
      "     \n",
      "\n"
     ]
    }
   ],
   "source": [
    "line= '     \\n'\n",
    "\n",
    "print(line)"
   ]
  },
  {
   "cell_type": "code",
   "execution_count": 148,
   "metadata": {},
   "outputs": [
    {
     "name": "stdout",
     "output_type": "stream",
     "text": [
      "\n"
     ]
    }
   ],
   "source": [
    "print(line.strip())"
   ]
  },
  {
   "cell_type": "code",
   "execution_count": null,
   "metadata": {},
   "outputs": [],
   "source": []
  }
 ],
 "metadata": {
  "kernelspec": {
   "display_name": "Python 3",
   "language": "python",
   "name": "python3"
  },
  "language_info": {
   "codemirror_mode": {
    "name": "ipython",
    "version": 3
   },
   "file_extension": ".py",
   "mimetype": "text/x-python",
   "name": "python",
   "nbconvert_exporter": "python",
   "pygments_lexer": "ipython3",
   "version": "3.7.4"
  }
 },
 "nbformat": 4,
 "nbformat_minor": 2
}
