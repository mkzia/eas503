{
 "cells": [
  {
   "cell_type": "code",
   "execution_count": 1,
   "metadata": {},
   "outputs": [
    {
     "data": {
      "text/html": [
       "<div>\n",
       "<style scoped>\n",
       "    .dataframe tbody tr th:only-of-type {\n",
       "        vertical-align: middle;\n",
       "    }\n",
       "\n",
       "    .dataframe tbody tr th {\n",
       "        vertical-align: top;\n",
       "    }\n",
       "\n",
       "    .dataframe thead th {\n",
       "        text-align: right;\n",
       "    }\n",
       "</style>\n",
       "<table border=\"1\" class=\"dataframe\">\n",
       "  <thead>\n",
       "    <tr style=\"text-align: right;\">\n",
       "      <th></th>\n",
       "      <th>PRODUCT</th>\n",
       "      <th>QUANTITY</th>\n",
       "    </tr>\n",
       "  </thead>\n",
       "  <tbody>\n",
       "    <tr>\n",
       "      <td>0</td>\n",
       "      <td>Avacados</td>\n",
       "      <td>63</td>\n",
       "    </tr>\n",
       "    <tr>\n",
       "      <td>1</td>\n",
       "      <td>Melons</td>\n",
       "      <td>66</td>\n",
       "    </tr>\n",
       "    <tr>\n",
       "      <td>2</td>\n",
       "      <td>Squash</td>\n",
       "      <td>92</td>\n",
       "    </tr>\n",
       "  </tbody>\n",
       "</table>\n",
       "</div>"
      ],
      "text/plain": [
       "    PRODUCT  QUANTITY\n",
       "0  Avacados        63\n",
       "1    Melons        66\n",
       "2    Squash        92"
      ]
     },
     "execution_count": 1,
     "metadata": {},
     "output_type": "execute_result"
    }
   ],
   "source": [
    "import pandas as pd\n",
    "import sqlite3\n",
    "conn = sqlite3.connect(\"join_example_database.db\")\n",
    "# cur = conn.cursor()\n",
    "sql_statement = \"select Quantities.product, Quantities.quantity FROM Quantities Where quantity > 60;\"\n",
    "df = pd.read_sql_query(sql_statement, conn)\n",
    "df"
   ]
  },
  {
   "cell_type": "code",
   "execution_count": 33,
   "metadata": {},
   "outputs": [
    {
     "data": {
      "text/plain": [
       "True"
      ]
     },
     "execution_count": 33,
     "metadata": {},
     "output_type": "execute_result"
    }
   ],
   "source": [
    "df.to_csv('dbex_1.csv', index = False)\n",
    "data = pd.read_csv(\"dbex_1.csv\") \n",
    "df.equals(data)"
   ]
  },
  {
   "cell_type": "code",
   "execution_count": 29,
   "metadata": {},
   "outputs": [],
   "source": [
    "def dbex_1():\n",
    "    \"\"\"\n",
    "    Return all products with quantity greater than 60;\n",
    "    output columns: product_name, product_quantity\n",
    "    output (df, sql_statement)\n",
    "    \"\"\"\n",
    "\n",
    "    import pandas as pd\n",
    "    import sqlite3\n",
    "    conn = sqlite3.connect(\"join_example_database.db\")\n",
    "    cur = conn.cursor()\n",
    "    sql_statement = \"select Quantities.product, Quantities.quantity FROM Quantities Where quantity > 60;\"\n",
    "    df = pd.read_sql_query(sql_statement, conn)\n",
    "    return (df, sql_statement)\n"
   ]
  },
  {
   "cell_type": "code",
   "execution_count": 31,
   "metadata": {},
   "outputs": [],
   "source": [
    "df, sql_statement = dbex_1()\n",
    "\n",
    "data = pd.read_csv(\"dbex_1.csv\") \n",
    "conn = sqlite3.connect(\"join_example_database.db\")\n",
    "cur = conn.cursor()\n",
    "df = pd.read_sql_query(sql_statement, conn)\n",
    "\n",
    "assert df.equals(data) == True"
   ]
  },
  {
   "cell_type": "code",
   "execution_count": null,
   "metadata": {},
   "outputs": [],
   "source": []
  }
 ],
 "metadata": {
  "kernelspec": {
   "display_name": "Python 3",
   "language": "python",
   "name": "python3"
  },
  "language_info": {
   "codemirror_mode": {
    "name": "ipython",
    "version": 3
   },
   "file_extension": ".py",
   "mimetype": "text/x-python",
   "name": "python",
   "nbconvert_exporter": "python",
   "pygments_lexer": "ipython3",
   "version": "3.7.4"
  }
 },
 "nbformat": 4,
 "nbformat_minor": 4
}
