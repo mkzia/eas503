{
 "cells": [
  {
   "cell_type": "code",
   "execution_count": 1,
   "metadata": {},
   "outputs": [],
   "source": [
    "import os\n",
    "import sqlite3\n",
    "from sqlite3 import Error\n",
    "\n",
    "\n",
    "def create_connection(db_file):\n",
    "    conn = None\n",
    "    try:\n",
    "        conn = sqlite3.connect(db_file)\n",
    "        conn.execute(\"PRAGMA foreign_keys = 1\")\n",
    "    except Error as e:\n",
    "        print(e)\n",
    "\n",
    "    return conn\n",
    "\n",
    "\n",
    "def create_table(conn, create_table_sql):\n",
    "    try:\n",
    "        c = conn.cursor()\n",
    "        c.execute(create_table_sql)\n",
    "    except Error as e:\n",
    "        print(e)\n",
    "\n",
    "def insert_depts(conn, values):\n",
    "    sql = ''' INSERT INTO Departments(DepartmentName)\n",
    "              VALUES(?) '''\n",
    "    cur = conn.cursor()\n",
    "    cur.execute(sql, values)\n",
    "    return cur.lastrowid\n",
    "\n",
    "\n",
    "def insert_student(conn, values):\n",
    "    sql = ''' INSERT INTO Students(StudentName, DepartmentId, DateOfBirth)\n",
    "              VALUES(?,?,?) '''\n",
    "    cur = conn.cursor()\n",
    "    cur.execute(sql, values)\n",
    "    return cur.lastrowid\n",
    "\n",
    "\n",
    "def get_dept_fk(dept):\n",
    "    cur = conn.cursor()\n",
    "    cur.execute(\"\"\"SELECT DepartmentId FROM Departments WHERE DepartmentName == (?);\"\"\",  (dept, ))\n",
    "\n",
    "    fk = cur.fetchone()\n",
    "    #(1,)\n",
    "    #(1,)[0] --> 1\n",
    "    if fk:\n",
    "        return fk[0]\n",
    "    else:\n",
    "        return None\n",
    "\n",
    "\n",
    "def select_all_students(conn):\n",
    "    cur = conn.cursor()\n",
    "    cur.execute(\"\"\"SELECT * FROM Students INNER JOIN Departments USING(DepartmentId);\"\"\")\n",
    "\n",
    "    rows = cur.fetchall()\n",
    "\n",
    "    for row in rows:\n",
    "        print(row)\n",
    "\n",
    "    return rows\n"
   ]
  },
  {
   "cell_type": "code",
   "execution_count": 13,
   "metadata": {},
   "outputs": [
    {
     "name": "stdout",
     "output_type": "stream",
     "text": [
      "['Michael', 'IT', '1998-10-12']\n",
      "['Michael', 1, '1998-10-12']\n",
      "['John', 'IT', '1998-10-12']\n",
      "['John', 1, '1998-10-12']\n",
      "['Jack', 'IT', '1998-10-12']\n",
      "['Jack', 1, '1998-10-12']\n",
      "['Sara', 'Physics', '1998-10-12']\n",
      "['Sara', 2, '1998-10-12']\n",
      "['Sally', 'Physics', '1998-10-12']\n",
      "['Sally', 2, '1998-10-12']\n",
      "['Jena', None, '1998-10-12']\n",
      "['Jena', None, '1998-10-12']\n",
      "['Nancy', 'Physics', '1998-10-12']\n",
      "['Nancy', 2, '1998-10-12']\n",
      "['Adam', 'Arts', '1998-10-12']\n",
      "['Adam', 3, '1998-10-12']\n",
      "['Stevens', 'Arts', '1998-10-12']\n",
      "['Stevens', 3, '1998-10-12']\n",
      "['George', None, '1998-10-12']\n",
      "['George', None, '1998-10-12']\n"
     ]
    }
   ],
   "source": [
    "db_file = 'sample_data_py3.db'\n",
    "if os.path.exists(db_file):\n",
    "    os.remove(db_file)\n",
    "\n",
    "create_table_departments_sql = \"\"\" CREATE TABLE [Departments] (\n",
    "    [DepartmentId] INTEGER  NOT NULL PRIMARY KEY,\n",
    "    [DepartmentName] NVARCHAR(50)  NULL\n",
    "); \"\"\"\n",
    "\n",
    "create_table_students_sql = \"\"\" CREATE TABLE [Students] (\n",
    "    [StudentId] INTEGER  PRIMARY KEY NOT NULL,\n",
    "    [StudentName] NVARCHAR(50) NOT NULL,\n",
    "    [DepartmentId] INTEGER  NULL,\n",
    "    [DateOfBirth] DATE NULL,\n",
    "    FOREIGN KEY(DepartmentId) REFERENCES Departments(DepartmentId)\n",
    ");  \"\"\"\n",
    "\n",
    "conn = create_connection(db_file)\n",
    "\n",
    "\n",
    "depts = ('IT', 'Physics', 'Arts', 'Math')\n",
    "students = (\n",
    "    ('Michael', 'IT', '1998-10-12'),\n",
    "    ('John', 'IT', '1998-10-12'),\n",
    "    ('Jack', 'IT', '1998-10-12'),\n",
    "    ('Sara', 'Physics', '1998-10-12'),\n",
    "    ('Sally', 'Physics', '1998-10-12'),\n",
    "    ('Jena', None, '1998-10-12'),\n",
    "    ('Nancy', 'Physics', '1998-10-12'),\n",
    "    ('Adam', 'Arts', '1998-10-12'),\n",
    "    ('Stevens', 'Arts', '1998-10-12'),\n",
    "    ('George', None, '1998-10-12')\n",
    ")\n",
    "\n",
    "with conn:\n",
    "\n",
    "    create_table(conn, create_table_departments_sql)\n",
    "    create_table(conn, create_table_students_sql)\n",
    "    for values in depts:\n",
    "        insert_depts(conn, (values, ))\n",
    "    for values in students:\n",
    "        values = list(values)\n",
    "        # ['Michael', 'IT', '1998-10-12']\n",
    "        print(values)\n",
    "        values[1] = get_dept_fk(values[1])\n",
    "        # ['Michael', 1, '1998-10-12']\n",
    "        print(values)\n",
    "        insert_student(conn, values)\n",
    "   \n"
   ]
  },
  {
   "cell_type": "code",
   "execution_count": null,
   "metadata": {},
   "outputs": [],
   "source": [
    " select_all_students(conn)"
   ]
  },
  {
   "cell_type": "code",
   "execution_count": 7,
   "metadata": {},
   "outputs": [
    {
     "name": "stdout",
     "output_type": "stream",
     "text": [
      "[('Michael',), ('John',), ('Jack',), ('Sara',), ('Sally',), ('Nancy',), ('Adam',), ('Stevens',)]\n"
     ]
    }
   ],
   "source": [
    "cur = conn.cursor()\n",
    "cur.execute(\"\"\"SELECT StudentName FROM Students INNER JOIN Departments USING(DepartmentId);\"\"\")\n",
    "\n",
    "rows = cur.fetchall()\n",
    "print(rows)\n"
   ]
  },
  {
   "cell_type": "code",
   "execution_count": 6,
   "metadata": {},
   "outputs": [
    {
     "name": "stdout",
     "output_type": "stream",
     "text": [
      "(1, 'Michael', 1, '1998-10-12', 'IT')\n",
      "(2, 'John', 1, '1998-10-12', 'IT')\n",
      "(3, 'Jack', 1, '1998-10-12', 'IT')\n",
      "(4, 'Sara', 2, '1998-10-12', 'Physics')\n",
      "(5, 'Sally', 2, '1998-10-12', 'Physics')\n",
      "(7, 'Nancy', 2, '1998-10-12', 'Physics')\n",
      "(8, 'Adam', 3, '1998-10-12', 'Arts')\n",
      "(9, 'Stevens', 3, '1998-10-12', 'Arts')\n"
     ]
    }
   ],
   "source": [
    "for row in rows:\n",
    "    print(row)\n",
    "\n"
   ]
  },
  {
   "cell_type": "code",
   "execution_count": 8,
   "metadata": {},
   "outputs": [
    {
     "data": {
      "text/plain": [
       "('Michael', 'IT', '1998-10-12')"
      ]
     },
     "execution_count": 8,
     "metadata": {},
     "output_type": "execute_result"
    }
   ],
   "source": [
    "x = ('Michael', 'IT', '1998-10-12')\n",
    "x"
   ]
  },
  {
   "cell_type": "code",
   "execution_count": 9,
   "metadata": {},
   "outputs": [
    {
     "ename": "TypeError",
     "evalue": "'tuple' object does not support item assignment",
     "output_type": "error",
     "traceback": [
      "\u001b[1;31m---------------------------------------------------------------------------\u001b[0m",
      "\u001b[1;31mTypeError\u001b[0m                                 Traceback (most recent call last)",
      "\u001b[1;32m<ipython-input-9-fe7b4192b649>\u001b[0m in \u001b[0;36m<module>\u001b[1;34m\u001b[0m\n\u001b[1;32m----> 1\u001b[1;33m \u001b[0mx\u001b[0m\u001b[1;33m[\u001b[0m\u001b[1;36m1\u001b[0m\u001b[1;33m]\u001b[0m \u001b[1;33m=\u001b[0m \u001b[1;36m2\u001b[0m\u001b[1;33m\u001b[0m\u001b[1;33m\u001b[0m\u001b[0m\n\u001b[0m",
      "\u001b[1;31mTypeError\u001b[0m: 'tuple' object does not support item assignment"
     ]
    }
   ],
   "source": [
    "x[1] = 2"
   ]
  },
  {
   "cell_type": "code",
   "execution_count": 11,
   "metadata": {},
   "outputs": [
    {
     "data": {
      "text/plain": [
       "['Michael', 2, '1998-10-12']"
      ]
     },
     "execution_count": 11,
     "metadata": {},
     "output_type": "execute_result"
    }
   ],
   "source": [
    "y = list(x)\n",
    "y[1] = 2\n",
    "y"
   ]
  },
  {
   "cell_type": "code",
   "execution_count": null,
   "metadata": {},
   "outputs": [],
   "source": []
  }
 ],
 "metadata": {
  "kernelspec": {
   "display_name": "Python 3",
   "language": "python",
   "name": "python3"
  },
  "language_info": {
   "codemirror_mode": {
    "name": "ipython",
    "version": 3
   },
   "file_extension": ".py",
   "mimetype": "text/x-python",
   "name": "python",
   "nbconvert_exporter": "python",
   "pygments_lexer": "ipython3",
   "version": "3.7.6"
  }
 },
 "nbformat": 4,
 "nbformat_minor": 4
}
