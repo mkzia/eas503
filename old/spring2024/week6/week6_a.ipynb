{
 "cells": [
  {
   "cell_type": "code",
   "execution_count": 3,
   "id": "ad7f269e-cf07-4378-b322-b14a9275516c",
   "metadata": {},
   "outputs": [
    {
     "name": "stdout",
     "output_type": "stream",
     "text": [
      "key1 val1\n",
      "key2 val2\n"
     ]
    }
   ],
   "source": [
    "x = 'key1=val1;key2=val2'\n",
    "\n",
    "for key_value in x.split(';'):\n",
    "    key, value = key_value.split('=')\n",
    "    print(key, value)"
   ]
  },
  {
   "cell_type": "code",
   "execution_count": 4,
   "id": "13c0f4fb-54a2-47d9-8155-85d962e9143b",
   "metadata": {},
   "outputs": [],
   "source": [
    "large_string = \"Cristiano Ronaldo\tNationality=Portugal;National_Position=LS;National_Kit=7.0;Club=Real Madrid;Club_Position=LW;Club_Kit=7.0;Club_Joining=07/01/2009;Contract_Expiry=2021.0;Rating=94;Height=185 cm;Weight=80 kg;Preferred_Foot=Right;Birth_Date=02/05/1985;Age=32;Preferred_Position=LW/ST;Work_Rate=High / Low;Weak_foot=4;Skill_Moves=5;Ball_Control=93;Dribbling=92;Marking=22;Sliding_Tackle=23;Standing_Tackle=31;Aggression=63;Reactions=96;Attacking_Position=94;Interceptions=29;Vision=85;Composure=86;Crossing=84;Short_Pass=83;Long_Pass=77;Acceleration=91;Speed=92;Stamina=92;Strength=80;Balance=63;Agility=90;Jumping=95;Heading=85;Shot_Power=92;Finishing=93;Long_Shots=90;Curve=81;Freekick_Accuracy=76;Penalties=85;Volleys=88;GK_Positioning=14;GK_Diving=7;GK_Kicking=15;GK_Handling=11;GK_Reflexes=11\""
   ]
  },
  {
   "cell_type": "code",
   "execution_count": 6,
   "id": "b421ceac-879f-4708-b336-c2d8271b2250",
   "metadata": {},
   "outputs": [
    {
     "data": {
      "text/plain": [
       "2"
      ]
     },
     "execution_count": 6,
     "metadata": {},
     "output_type": "execute_result"
    }
   ],
   "source": [
    "len(large_string.split('\\t'))"
   ]
  },
  {
   "cell_type": "code",
   "execution_count": 7,
   "id": "b155a2f5-48da-4040-a1e2-68370548a13c",
   "metadata": {},
   "outputs": [
    {
     "name": "stdout",
     "output_type": "stream",
     "text": [
      "Name,Nationality,National_Position,National_Kit,Club,Club_Position,Club_Kit,Club_Joining,Contract_Expiry,Rating,Height,Weight,Preferred_Foot,Birth_Date,Age,Preferred_Position,Work_Rate,Weak_foot,Skill_Moves,Ball_Control,Dribbling,Marking,Sliding_Tackle,Standing_Tackle,Aggression,Reactions,Attacking_Position,Interceptions,Vision,Composure,Crossing,Short_Pass,Long_Pass,Acceleration,Speed,Stamina,Strength,Balance,Agility,Jumping,Heading,Shot_Power,Finishing,Long_Shots,Curve,Freekick_Accuracy,Penalties,Volleys,GK_Positioning,GK_Diving,GK_Kicking,GK_Handling,GK_Reflexes\n"
     ]
    }
   ],
   "source": [
    "x = 'Name,Nationality,National_Position,National_Kit,Club,Club_Position,Club_Kit,Club_Joining,Contract_Expiry,Rating,Height,Weight,Preferred_Foot,Birth_Date,Age,Preferred_Position,Work_Rate,Weak_foot,Skill_Moves,Ball_Control,Dribbling,Marking,Sliding_Tackle,Standing_Tackle,Aggression,Reactions,Attacking_Position,Interceptions,Vision,Composure,Crossing,Short_Pass,Long_Pass,Acceleration,Speed,Stamina,Strength,Balance,Agility,Jumping,Heading,Shot_Power,Finishing,Long_Shots,Curve,Freekick_Accuracy,Penalties,Volleys,GK_Positioning,GK_Diving,GK_Kicking,GK_Handling,GK_Reflexes'\n",
    "print(x)"
   ]
  },
  {
   "cell_type": "code",
   "execution_count": 8,
   "id": "8776cff8-95f5-4453-9ab0-b5eb2b714802",
   "metadata": {},
   "outputs": [
    {
     "data": {
      "text/plain": [
       "53"
      ]
     },
     "execution_count": 8,
     "metadata": {},
     "output_type": "execute_result"
    }
   ],
   "source": [
    "len(x.split(','))"
   ]
  },
  {
   "cell_type": "code",
   "execution_count": 9,
   "id": "df341085-47e2-4b43-b7d8-63f1c6e2253a",
   "metadata": {},
   "outputs": [],
   "source": [
    "name, key_value_pairs = large_string.split('\\t')"
   ]
  },
  {
   "cell_type": "code",
   "execution_count": 10,
   "id": "f155141f-5aa0-4af0-8448-eeec2b865fe4",
   "metadata": {},
   "outputs": [
    {
     "data": {
      "text/plain": [
       "'Cristiano Ronaldo'"
      ]
     },
     "execution_count": 10,
     "metadata": {},
     "output_type": "execute_result"
    }
   ],
   "source": [
    "name"
   ]
  },
  {
   "cell_type": "code",
   "execution_count": 11,
   "id": "c24e2b00-c2db-4179-9bfb-0eb103e595dc",
   "metadata": {},
   "outputs": [
    {
     "data": {
      "text/plain": [
       "'Nationality=Portugal;National_Position=LS;National_Kit=7.0;Club=Real Madrid;Club_Position=LW;Club_Kit=7.0;Club_Joining=07/01/2009;Contract_Expiry=2021.0;Rating=94;Height=185 cm;Weight=80 kg;Preferred_Foot=Right;Birth_Date=02/05/1985;Age=32;Preferred_Position=LW/ST;Work_Rate=High / Low;Weak_foot=4;Skill_Moves=5;Ball_Control=93;Dribbling=92;Marking=22;Sliding_Tackle=23;Standing_Tackle=31;Aggression=63;Reactions=96;Attacking_Position=94;Interceptions=29;Vision=85;Composure=86;Crossing=84;Short_Pass=83;Long_Pass=77;Acceleration=91;Speed=92;Stamina=92;Strength=80;Balance=63;Agility=90;Jumping=95;Heading=85;Shot_Power=92;Finishing=93;Long_Shots=90;Curve=81;Freekick_Accuracy=76;Penalties=85;Volleys=88;GK_Positioning=14;GK_Diving=7;GK_Kicking=15;GK_Handling=11;GK_Reflexes=11'"
      ]
     },
     "execution_count": 11,
     "metadata": {},
     "output_type": "execute_result"
    }
   ],
   "source": [
    "key_value_pairs"
   ]
  },
  {
   "cell_type": "code",
   "execution_count": 18,
   "id": "3e90f110-c314-4c5a-9450-cacb35918613",
   "metadata": {},
   "outputs": [
    {
     "name": "stdout",
     "output_type": "stream",
     "text": [
      "Cristiano Ronaldo, Nationality, Portugal\n",
      "Cristiano Ronaldo, National_Position, LS\n",
      "Cristiano Ronaldo, National_Kit, 7.0\n",
      "Cristiano Ronaldo, Club, Real Madrid\n",
      "Cristiano Ronaldo, Club_Position, LW\n",
      "Cristiano Ronaldo, Club_Kit, 7.0\n",
      "Cristiano Ronaldo, Club_Joining, 07/01/2009\n",
      "Cristiano Ronaldo, Contract_Expiry, 2021.0\n",
      "Cristiano Ronaldo, Rating, 94\n",
      "Cristiano Ronaldo, Height, 185 cm\n",
      "Cristiano Ronaldo, Weight, 80 kg\n",
      "Cristiano Ronaldo, Preferred_Foot, Right\n",
      "Cristiano Ronaldo, Birth_Date, 02/05/1985\n",
      "Cristiano Ronaldo, Age, 32\n",
      "Cristiano Ronaldo, Preferred_Position, LW/ST\n",
      "Cristiano Ronaldo, Work_Rate, High / Low\n",
      "Cristiano Ronaldo, Weak_foot, 4\n",
      "Cristiano Ronaldo, Skill_Moves, 5\n",
      "Cristiano Ronaldo, Ball_Control, 93\n",
      "Cristiano Ronaldo, Dribbling, 92\n",
      "Cristiano Ronaldo, Marking, 22\n",
      "Cristiano Ronaldo, Sliding_Tackle, 23\n",
      "Cristiano Ronaldo, Standing_Tackle, 31\n",
      "Cristiano Ronaldo, Aggression, 63\n",
      "Cristiano Ronaldo, Reactions, 96\n",
      "Cristiano Ronaldo, Attacking_Position, 94\n",
      "Cristiano Ronaldo, Interceptions, 29\n",
      "Cristiano Ronaldo, Vision, 85\n",
      "Cristiano Ronaldo, Composure, 86\n",
      "Cristiano Ronaldo, Crossing, 84\n",
      "Cristiano Ronaldo, Short_Pass, 83\n",
      "Cristiano Ronaldo, Long_Pass, 77\n",
      "Cristiano Ronaldo, Acceleration, 91\n",
      "Cristiano Ronaldo, Speed, 92\n",
      "Cristiano Ronaldo, Stamina, 92\n",
      "Cristiano Ronaldo, Strength, 80\n",
      "Cristiano Ronaldo, Balance, 63\n",
      "Cristiano Ronaldo, Agility, 90\n",
      "Cristiano Ronaldo, Jumping, 95\n",
      "Cristiano Ronaldo, Heading, 85\n",
      "Cristiano Ronaldo, Shot_Power, 92\n",
      "Cristiano Ronaldo, Finishing, 93\n",
      "Cristiano Ronaldo, Long_Shots, 90\n",
      "Cristiano Ronaldo, Curve, 81\n",
      "Cristiano Ronaldo, Freekick_Accuracy, 76\n",
      "Cristiano Ronaldo, Penalties, 85\n",
      "Cristiano Ronaldo, Volleys, 88\n",
      "Cristiano Ronaldo, GK_Positioning, 14\n",
      "Cristiano Ronaldo, GK_Diving, 7\n",
      "Cristiano Ronaldo, GK_Kicking, 15\n",
      "Cristiano Ronaldo, GK_Handling, 11\n",
      "Cristiano Ronaldo, GK_Reflexes, 11\n"
     ]
    }
   ],
   "source": [
    "for kv in key_value_pairs.split(';'):\n",
    "    k,v = kv.split('=')\n",
    "    print(name, k, v, sep=', ')"
   ]
  },
  {
   "cell_type": "code",
   "execution_count": 19,
   "id": "c98dfd59-a789-4c45-9ce2-098eee519798",
   "metadata": {},
   "outputs": [],
   "source": [
    "days_in_months = [0, 31, 28, 31, 30, 31, 30, 31, 31, 30, 31, 30, 31] # 1 == January"
   ]
  },
  {
   "cell_type": "code",
   "execution_count": null,
   "id": "d4d874d9-edb8-477f-9de6-8654bb144812",
   "metadata": {},
   "outputs": [],
   "source": [
    "(\n",
    "    ('John Doe', 'jdoe@buffalo.edu', 11223344, 'Biology'),\n",
    "    ('Jane Doe', 'jane@buffalo.edu', 22334455, 'Chemistry'),\n",
    ")"
   ]
  },
  {
   "cell_type": "code",
   "execution_count": 20,
   "id": "6328a98e-1bf1-4d65-a444-05a39bd14df8",
   "metadata": {},
   "outputs": [],
   "source": [
    "days_in_months = {\n",
    "    'Jan': 31,\n",
    "    'Feb': (28,29),\n",
    "    'Mar': 31,\n",
    "    'Apr': 30,\n",
    "    'May': 31,\n",
    "    'Jun': 30,\n",
    "    'Jul': 31,\n",
    "    'Aug': 31,\n",
    "    'Sep': 30,\n",
    "    'Oct': 31,\n",
    "    'Nov': 30,\n",
    "    'Dec': 31,\n",
    "}"
   ]
  },
  {
   "cell_type": "code",
   "execution_count": null,
   "id": "8c6299b2-741e-4c72-a66a-2d02891b82ef",
   "metadata": {},
   "outputs": [],
   "source": [
    "(\n",
    "    {\n",
    "        'Name': 'John Doe', \n",
    "        'Email': 'jdoe@buffalo.edu',\n",
    "        'ID': 11223344, \n",
    "        'Major': 'Biology'\n",
    "    },\n",
    "    {\n",
    "        'Name': 'Jane Doe', \n",
    "        'Email': 'Jane@buffalo.edu',\n",
    "        'ID': 22334455, \n",
    "        'Major': 'Chemistry'\n",
    "    },\n",
    ")"
   ]
  },
  {
   "cell_type": "code",
   "execution_count": 21,
   "id": "b6f6ec78-83f1-48ee-ad15-920e288e53b3",
   "metadata": {},
   "outputs": [],
   "source": [
    "x = {\n",
    "        'Name': 'Jane Doe', \n",
    "        'Email': 'Jane@buffalo.edu',\n",
    "        'ID': 22334455, \n",
    "        'Major': 'Chemistry'\n",
    "    }"
   ]
  },
  {
   "cell_type": "code",
   "execution_count": 22,
   "id": "f18c0757-7221-4da7-a990-afe354a59791",
   "metadata": {},
   "outputs": [
    {
     "data": {
      "text/plain": [
       "'Jane Doe'"
      ]
     },
     "execution_count": 22,
     "metadata": {},
     "output_type": "execute_result"
    }
   ],
   "source": [
    "x['Name']"
   ]
  },
  {
   "cell_type": "code",
   "execution_count": 24,
   "id": "aec938c5-0ffe-483e-b4ae-1e3b26079c42",
   "metadata": {},
   "outputs": [
    {
     "data": {
      "text/plain": [
       "'Jane@buffalo.edu'"
      ]
     },
     "execution_count": 24,
     "metadata": {},
     "output_type": "execute_result"
    }
   ],
   "source": [
    "x['Email']"
   ]
  },
  {
   "cell_type": "code",
   "execution_count": 25,
   "id": "50e0b9f2-dee0-4ba4-ac4c-7c0369b459cc",
   "metadata": {},
   "outputs": [],
   "source": [
    "my_dict = {\n",
    "    'name': 'john',\n",
    "    'email': 'john@email.com',\n",
    "    'id': 1234,\n",
    "    'major': 'Engineering'\n",
    "}"
   ]
  },
  {
   "cell_type": "code",
   "execution_count": 26,
   "id": "fcd769d4-c739-40ec-b899-c875295a246d",
   "metadata": {},
   "outputs": [
    {
     "data": {
      "text/plain": [
       "{'name': 'john', 'email': 'john@email.com', 'id': 1234, 'major': 'Engineering'}"
      ]
     },
     "execution_count": 26,
     "metadata": {},
     "output_type": "execute_result"
    }
   ],
   "source": [
    "my_dict"
   ]
  },
  {
   "cell_type": "code",
   "execution_count": 28,
   "id": "6df2a283-e1a0-43eb-b3ff-cbdc8417a5ad",
   "metadata": {},
   "outputs": [],
   "source": [
    "my_dict = {\n",
    "    'id': 1234,\n",
    "    'name': 'john',\n",
    "    'email': 'john@email.com',\n",
    "    'major': 'Engineering'\n",
    "}"
   ]
  },
  {
   "cell_type": "code",
   "execution_count": 29,
   "id": "1d35a823-a3db-4451-bd73-2b8de161065d",
   "metadata": {},
   "outputs": [
    {
     "data": {
      "text/plain": [
       "{'id': 1234, 'name': 'john', 'email': 'john@email.com', 'major': 'Engineering'}"
      ]
     },
     "execution_count": 29,
     "metadata": {},
     "output_type": "execute_result"
    }
   ],
   "source": [
    "my_dict"
   ]
  },
  {
   "cell_type": "code",
   "execution_count": 30,
   "id": "4f6c93a3-ffea-408d-a8bb-3d5c495a4f00",
   "metadata": {},
   "outputs": [],
   "source": [
    "my_dict = dict(\n",
    "    name='john',\n",
    "    email='john@email.com',\n",
    "    id=1234,\n",
    "    major='Engineering'\n",
    ")"
   ]
  },
  {
   "cell_type": "code",
   "execution_count": 31,
   "id": "e7137b8c-36a6-4c89-b30f-df5968d8b8cf",
   "metadata": {},
   "outputs": [
    {
     "data": {
      "text/plain": [
       "{'name': 'john', 'email': 'john@email.com', 'id': 1234, 'major': 'Engineering'}"
      ]
     },
     "execution_count": 31,
     "metadata": {},
     "output_type": "execute_result"
    }
   ],
   "source": [
    "my_dict"
   ]
  },
  {
   "cell_type": "code",
   "execution_count": 32,
   "id": "b97ba2a3-d890-4bfe-b12c-84f68d3ca547",
   "metadata": {},
   "outputs": [
    {
     "name": "stdout",
     "output_type": "stream",
     "text": [
      "john\n"
     ]
    }
   ],
   "source": [
    "my_dict = {\n",
    "    'name': 'john',\n",
    "    'email': 'john@email.com',\n",
    "    'id': 1234,\n",
    "    'major': 'Engineering'\n",
    "}\n",
    "\n",
    "print(my_dict['name']) # Method 1\n"
   ]
  },
  {
   "cell_type": "code",
   "execution_count": 33,
   "id": "ec9d3695-2ecc-42d9-9faf-f5ec81ee6c6e",
   "metadata": {},
   "outputs": [
    {
     "name": "stdout",
     "output_type": "stream",
     "text": [
      "john\n"
     ]
    }
   ],
   "source": [
    "key = 'name' # Method 2 -- use a variable key\n",
    "print(my_dict[key])"
   ]
  },
  {
   "cell_type": "code",
   "execution_count": 34,
   "id": "081af636-8f86-448c-8b25-c36c334e0a96",
   "metadata": {},
   "outputs": [
    {
     "name": "stdout",
     "output_type": "stream",
     "text": [
      "john\n",
      "john@email.com\n",
      "1234\n",
      "Engineering\n"
     ]
    }
   ],
   "source": [
    "my_dict = {\n",
    "    'name': 'john',\n",
    "    'email': 'john@email.com',\n",
    "    'id': 1234,\n",
    "    'major': 'Engineering'\n",
    "}\n",
    "for value in my_dict.values():\n",
    "    print(value)"
   ]
  },
  {
   "cell_type": "code",
   "execution_count": 35,
   "id": "6e1916c3-d20a-4cb6-acd7-babdaee1147c",
   "metadata": {},
   "outputs": [
    {
     "name": "stdout",
     "output_type": "stream",
     "text": [
      "name\n",
      "email\n",
      "id\n",
      "major\n"
     ]
    }
   ],
   "source": [
    "my_dict = {\n",
    "    'name': 'john',\n",
    "    'email': 'john@email.com',\n",
    "    'id': 1234,\n",
    "    'major': 'Engineering'\n",
    "}\n",
    "for key in my_dict.keys(): # by default looping over a dictionary loops over the keys and .keys is a set!!!!\n",
    "    print(key)"
   ]
  },
  {
   "cell_type": "code",
   "execution_count": 36,
   "id": "73db1b0b-46de-4744-a8b8-ee09f8ba500d",
   "metadata": {},
   "outputs": [
    {
     "name": "stdout",
     "output_type": "stream",
     "text": [
      "name\n",
      "email\n",
      "id\n",
      "major\n"
     ]
    }
   ],
   "source": [
    "for key in my_dict: \n",
    "    print(key)"
   ]
  },
  {
   "cell_type": "code",
   "execution_count": 41,
   "id": "73107d5a-649e-424a-90eb-85cf5d76cce9",
   "metadata": {},
   "outputs": [
    {
     "name": "stdout",
     "output_type": "stream",
     "text": [
      "key is name and value is john\n",
      "key is email and value is john@email.com\n",
      "key is id and value is 1234\n",
      "key is major and value is Engineering\n"
     ]
    }
   ],
   "source": [
    "my_dict = {\n",
    "    'name': 'john',\n",
    "    'email': 'john@email.com',\n",
    "    'id': 1234,\n",
    "    'major': 'Engineering'\n",
    "}\n",
    "for key, value in my_dict.items():\n",
    "    print(f'key is {key} and value is {value}')"
   ]
  },
  {
   "cell_type": "code",
   "execution_count": 38,
   "id": "895d8629-528d-468e-8910-e57ceb5c2fb6",
   "metadata": {},
   "outputs": [
    {
     "data": {
      "text/plain": [
       "dict_items([('name', 'john'), ('email', 'john@email.com'), ('id', 1234), ('major', 'Engineering')])"
      ]
     },
     "execution_count": 38,
     "metadata": {},
     "output_type": "execute_result"
    }
   ],
   "source": [
    "my_dict.items()"
   ]
  },
  {
   "cell_type": "code",
   "execution_count": 39,
   "id": "ba48c57b-5924-4d08-96a8-8b982e507d82",
   "metadata": {},
   "outputs": [
    {
     "name": "stdout",
     "output_type": "stream",
     "text": [
      "name john\n"
     ]
    }
   ],
   "source": [
    "key, value = ('name', 'john')\n",
    "print(key, value)"
   ]
  },
  {
   "cell_type": "code",
   "execution_count": 40,
   "id": "85903b65-1388-4a7e-8272-9df9eb76f58e",
   "metadata": {},
   "outputs": [
    {
     "name": "stdout",
     "output_type": "stream",
     "text": [
      "('name', 'john')\n",
      "('email', 'john@email.com')\n",
      "('id', 1234)\n",
      "('major', 'Engineering')\n"
     ]
    }
   ],
   "source": [
    "for tmp in my_dict.items():\n",
    "    print(tmp)"
   ]
  },
  {
   "cell_type": "code",
   "execution_count": 44,
   "id": "90a9f4a0-8c83-43d1-97eb-7b2ea61e041d",
   "metadata": {},
   "outputs": [
    {
     "name": "stdout",
     "output_type": "stream",
     "text": [
      "False\n"
     ]
    }
   ],
   "source": [
    "y_dict = {\n",
    "    'name': 'john',\n",
    "    'email': 'john@email.com',\n",
    "    'id': 1234,\n",
    "    'major': 'Engineering'\n",
    "}\n",
    "\n",
    "key = 'major'\n",
    "key = 'Engineering'\n",
    "if key in my_dict: # O(1)\n",
    "    print(True)\n",
    "else:\n",
    "    print(False)"
   ]
  },
  {
   "cell_type": "code",
   "execution_count": null,
   "id": "4509847e-4c49-4372-8109-8b9d1f065ec2",
   "metadata": {},
   "outputs": [],
   "source": [
    "'A' in 'ABC' # O(N)\n",
    "1 in [1, 2, 3] # O(N)\n",
    "2 in (1, 2, 3) # O(N)\n"
   ]
  },
  {
   "cell_type": "code",
   "execution_count": 45,
   "id": "f8fde66e-b1f0-4ca6-a885-39002deeb542",
   "metadata": {},
   "outputs": [
    {
     "data": {
      "text/plain": [
       "True"
      ]
     },
     "execution_count": 45,
     "metadata": {},
     "output_type": "execute_result"
    }
   ],
   "source": [
    "'Engineering' in my_dict.values()"
   ]
  },
  {
   "cell_type": "code",
   "execution_count": 47,
   "id": "b37aa8b7-35b2-4b2d-87e3-5c6bf044a4ed",
   "metadata": {},
   "outputs": [
    {
     "data": {
      "text/plain": [
       "[0, 1, 2, 3, 4, 5, 6, 7, 8, 9]"
      ]
     },
     "execution_count": 47,
     "metadata": {},
     "output_type": "execute_result"
    }
   ],
   "source": [
    "x = list(range(0, 10))\n",
    "x"
   ]
  },
  {
   "cell_type": "code",
   "execution_count": 58,
   "id": "d955e3ed-e8af-4328-8fab-89f0052176f1",
   "metadata": {},
   "outputs": [
    {
     "name": "stdout",
     "output_type": "stream",
     "text": [
      "[0, 1, 2, 3, 4, 5, 6, 7, 8, 9] [0, 1, 2, 3, 4, 5, 6, 7, 8, 'UPDATE']\n"
     ]
    }
   ],
   "source": [
    "x = [0, 1, 2, 3, 4, 5, 6, 7, 8, 9]\n",
    "y = x.copy()\n",
    "y[-1] = 'UPDATE'\n",
    "print(x,y)"
   ]
  },
  {
   "cell_type": "code",
   "execution_count": 48,
   "id": "d93c5f1e-e086-45a7-8064-7bb2f61ff04a",
   "metadata": {},
   "outputs": [],
   "source": [
    "y = x[3:7]"
   ]
  },
  {
   "cell_type": "code",
   "execution_count": 49,
   "id": "b5247c63-374f-4b11-993e-02c75ef2b28a",
   "metadata": {},
   "outputs": [
    {
     "name": "stdout",
     "output_type": "stream",
     "text": [
      "[0, 1, 2, 3, 4, 5, 6, 7, 8, 9] [3, 4, 5, 6]\n"
     ]
    }
   ],
   "source": [
    "print(x, y)"
   ]
  },
  {
   "cell_type": "code",
   "execution_count": 50,
   "id": "26764058-0dc3-4906-afa6-27e15dddee16",
   "metadata": {},
   "outputs": [
    {
     "name": "stdout",
     "output_type": "stream",
     "text": [
      "[0, 1, 2, 3, 4, 5, 6, 7, 8, 9] [3, 4, 1000, 6]\n"
     ]
    }
   ],
   "source": [
    "y[2] = 1000\n",
    "print(x, y)"
   ]
  },
  {
   "cell_type": "code",
   "execution_count": 51,
   "id": "4e8f3e0b-810a-4ba4-b0a9-8f919312a412",
   "metadata": {},
   "outputs": [],
   "source": [
    "x = [0, 1, 2, 3, 4, 5, [11, 12, 13], 7, 8, 9]"
   ]
  },
  {
   "cell_type": "code",
   "execution_count": 53,
   "id": "14d2bbb5-7cb4-414a-9fe6-61c460fe0c1b",
   "metadata": {},
   "outputs": [
    {
     "name": "stdout",
     "output_type": "stream",
     "text": [
      "[0, 1, 2, 3, 4, 5, [11, 12, 13], 7, 8, 9] [11, 12, 13]\n"
     ]
    }
   ],
   "source": [
    "y = x[6]\n",
    "print(x, y)"
   ]
  },
  {
   "cell_type": "code",
   "execution_count": 54,
   "id": "45c7d782-8ce7-4e07-81b5-7014273d2349",
   "metadata": {},
   "outputs": [
    {
     "name": "stdout",
     "output_type": "stream",
     "text": [
      "[0, 1, 2, 3, 4, 5, [11, 1000, 13], 7, 8, 9] [11, 1000, 13]\n"
     ]
    }
   ],
   "source": [
    "y[1] = 1000\n",
    "print(x,y)"
   ]
  },
  {
   "cell_type": "code",
   "execution_count": 57,
   "id": "207de0dd-790a-4cc3-91b4-5ca6ee053d15",
   "metadata": {},
   "outputs": [
    {
     "name": "stdout",
     "output_type": "stream",
     "text": [
      "[0, 1, 2, 3, 4, 5, [11, 'UPDATE', 13], 7, 8, 9] [0, 1, 2, 3, 4, 5, [11, 'UPDATE', 13], 7, 8, 9]\n"
     ]
    }
   ],
   "source": [
    "x = [0, 1, 2, 3, 4, 5, [11, 12, 13], 7, 8, 9]\n",
    "y = x.copy()\n",
    "y[6][1] = 'UPDATE'\n",
    "print(x,y)"
   ]
  },
  {
   "cell_type": "code",
   "execution_count": 59,
   "id": "8b0d59c2-0311-4a72-a53b-3528ac8e10cc",
   "metadata": {},
   "outputs": [
    {
     "name": "stdout",
     "output_type": "stream",
     "text": [
      "[0, 1, 2, 3, 4, 5, [11, 12, 13], 7, 8, 9] [0, 1, 2, 3, 4, 5, [11, 'UPDATE', 13], 7, 8, 9]\n"
     ]
    }
   ],
   "source": [
    "import copy\n",
    "x = [0, 1, 2, 3, 4, 5, [11, 12, 13], 7, 8, 9]\n",
    "y = copy.deepcopy(x)\n",
    "y[6][1] = 'UPDATE'\n",
    "print(x,y)"
   ]
  },
  {
   "cell_type": "code",
   "execution_count": 60,
   "id": "47fbcde7-59ca-4880-a419-9932e1f1c899",
   "metadata": {},
   "outputs": [
    {
     "name": "stdout",
     "output_type": "stream",
     "text": [
      "{1: False, 2: [3, 4, 5]} {1: True, 2: [3, 4, 5]}\n"
     ]
    }
   ],
   "source": [
    "x = {1: True, 2: [3, 4, 5]}\n",
    "y = x.copy()\n",
    "x[1] = False\n",
    "print(x, y)"
   ]
  },
  {
   "cell_type": "code",
   "execution_count": 61,
   "id": "2b672f64-49a8-4745-9877-d411aa8c75d5",
   "metadata": {},
   "outputs": [
    {
     "name": "stdout",
     "output_type": "stream",
     "text": [
      "{1: True, 2: [3, 4, 5, 6]} {1: True, 2: [3, 4, 5, 6]}\n"
     ]
    }
   ],
   "source": [
    "x = {1: True, 2: [3, 4, 5]}\n",
    "y = x.copy()\n",
    "x[2].append(6)\n",
    "print(x, y)"
   ]
  },
  {
   "cell_type": "code",
   "execution_count": 62,
   "id": "da4b79d7-d7c6-41b5-835d-055ef05a7868",
   "metadata": {},
   "outputs": [
    {
     "name": "stdout",
     "output_type": "stream",
     "text": [
      "{1: True, 2: [3, 4, 5, 6]} {1: True, 2: [3, 4, 5]}\n"
     ]
    }
   ],
   "source": [
    "import copy\n",
    "x = {1: True, 2: [3, 4, 5]}\n",
    "y = copy.deepcopy(x)\n",
    "x[2].append(6)\n",
    "print(x, y)"
   ]
  },
  {
   "cell_type": "code",
   "execution_count": 63,
   "id": "1d67d37d-6757-4fcc-90fb-4e95fcc053bd",
   "metadata": {},
   "outputs": [
    {
     "data": {
      "text/plain": [
       "'ABCD'"
      ]
     },
     "execution_count": 63,
     "metadata": {},
     "output_type": "execute_result"
    }
   ],
   "source": [
    "''.join('ABCD')"
   ]
  },
  {
   "cell_type": "code",
   "execution_count": 69,
   "id": "8ba81ff3-b369-4cba-bf51-b13d08ef255a",
   "metadata": {},
   "outputs": [
    {
     "ename": "TypeError",
     "evalue": "sequence item 0: expected str instance, int found",
     "output_type": "error",
     "traceback": [
      "\u001b[1;31m---------------------------------------------------------------------------\u001b[0m",
      "\u001b[1;31mTypeError\u001b[0m                                 Traceback (most recent call last)",
      "Cell \u001b[1;32mIn[69], line 2\u001b[0m\n\u001b[0;32m      1\u001b[0m x \u001b[38;5;241m=\u001b[39m (\u001b[38;5;241m1\u001b[39m,\u001b[38;5;241m2\u001b[39m,\u001b[38;5;241m3\u001b[39m,\u001b[38;5;241m4\u001b[39m)\n\u001b[1;32m----> 2\u001b[0m \u001b[38;5;124;43m'\u001b[39;49m\u001b[38;5;124;43m'\u001b[39;49m\u001b[38;5;241;43m.\u001b[39;49m\u001b[43mjoin\u001b[49m\u001b[43m(\u001b[49m\u001b[43mx\u001b[49m\u001b[43m)\u001b[49m\n",
      "\u001b[1;31mTypeError\u001b[0m: sequence item 0: expected str instance, int found"
     ]
    }
   ],
   "source": [
    "x = (1,2,3,4)\n",
    "''.join(x)"
   ]
  },
  {
   "cell_type": "code",
   "execution_count": 68,
   "id": "05bfa433-1af7-4e16-853b-079bc77dc756",
   "metadata": {},
   "outputs": [
    {
     "data": {
      "text/plain": [
       "'1234'"
      ]
     },
     "execution_count": 68,
     "metadata": {},
     "output_type": "execute_result"
    }
   ],
   "source": [
    "''.join((str(ele) for ele in (1,2,3,4)))"
   ]
  },
  {
   "cell_type": "code",
   "execution_count": 71,
   "id": "3af5790d-7fb4-45a1-8707-63f47036b1cc",
   "metadata": {},
   "outputs": [],
   "source": [
    "new_student = {}.fromkeys(\n",
    "    ['name', 'email', 'id', 'major'], 'missing')"
   ]
  },
  {
   "cell_type": "code",
   "execution_count": 72,
   "id": "9bdc4780-bd08-48ff-8669-108f22423ce8",
   "metadata": {},
   "outputs": [
    {
     "data": {
      "text/plain": [
       "{'name': 'missing', 'email': 'missing', 'id': 'missing', 'major': 'missing'}"
      ]
     },
     "execution_count": 72,
     "metadata": {},
     "output_type": "execute_result"
    }
   ],
   "source": [
    "new_student "
   ]
  },
  {
   "cell_type": "code",
   "execution_count": 73,
   "id": "d39693ef-55df-4c02-b2e3-b653c9246814",
   "metadata": {},
   "outputs": [
    {
     "data": {
      "text/plain": [
       "{0: 'iammissing',\n",
       " 1: 'iammissing',\n",
       " 2: 'iammissing',\n",
       " 3: 'iammissing',\n",
       " 4: 'iammissing'}"
      ]
     },
     "execution_count": 73,
     "metadata": {},
     "output_type": "execute_result"
    }
   ],
   "source": [
    "{}.fromkeys(range(5), 'iammissing')\n"
   ]
  },
  {
   "cell_type": "code",
   "execution_count": 74,
   "id": "a332e177-fc36-4edd-bb44-21e77791e41a",
   "metadata": {},
   "outputs": [
    {
     "ename": "KeyError",
     "evalue": "'ID'",
     "output_type": "error",
     "traceback": [
      "\u001b[1;31m---------------------------------------------------------------------------\u001b[0m",
      "\u001b[1;31mKeyError\u001b[0m                                  Traceback (most recent call last)",
      "Cell \u001b[1;32mIn[74], line 7\u001b[0m\n\u001b[0;32m      1\u001b[0m my_dict \u001b[38;5;241m=\u001b[39m {\n\u001b[0;32m      2\u001b[0m     \u001b[38;5;124m'\u001b[39m\u001b[38;5;124mname\u001b[39m\u001b[38;5;124m'\u001b[39m: \u001b[38;5;124m'\u001b[39m\u001b[38;5;124mjohn\u001b[39m\u001b[38;5;124m'\u001b[39m,\n\u001b[0;32m      3\u001b[0m     \u001b[38;5;124m'\u001b[39m\u001b[38;5;124memail\u001b[39m\u001b[38;5;124m'\u001b[39m: \u001b[38;5;124m'\u001b[39m\u001b[38;5;124mjohn@email.com\u001b[39m\u001b[38;5;124m'\u001b[39m,\n\u001b[0;32m      4\u001b[0m     \u001b[38;5;124m'\u001b[39m\u001b[38;5;124mid\u001b[39m\u001b[38;5;124m'\u001b[39m: \u001b[38;5;241m1234\u001b[39m,\n\u001b[0;32m      5\u001b[0m     \u001b[38;5;124m'\u001b[39m\u001b[38;5;124mmajor\u001b[39m\u001b[38;5;124m'\u001b[39m: \u001b[38;5;124m'\u001b[39m\u001b[38;5;124mEngineering\u001b[39m\u001b[38;5;124m'\u001b[39m\n\u001b[0;32m      6\u001b[0m }\n\u001b[1;32m----> 7\u001b[0m \u001b[43mmy_dict\u001b[49m\u001b[43m[\u001b[49m\u001b[38;5;124;43m'\u001b[39;49m\u001b[38;5;124;43mID\u001b[39;49m\u001b[38;5;124;43m'\u001b[39;49m\u001b[43m]\u001b[49m\n",
      "\u001b[1;31mKeyError\u001b[0m: 'ID'"
     ]
    }
   ],
   "source": [
    "my_dict = {\n",
    "    'name': 'john',\n",
    "    'email': 'john@email.com',\n",
    "    'id': 1234,\n",
    "    'major': 'Engineering'\n",
    "}\n",
    "my_dict['ID']"
   ]
  },
  {
   "cell_type": "code",
   "execution_count": 75,
   "id": "3e70e5e5-2d91-4b21-8688-351f1d3835bd",
   "metadata": {},
   "outputs": [],
   "source": [
    "if 'ID' in my_dict:\n",
    "    print(my_dict['ID'])"
   ]
  },
  {
   "cell_type": "code",
   "execution_count": 77,
   "id": "9b01ff58-0e85-44d5-896f-b0208ccc15de",
   "metadata": {},
   "outputs": [
    {
     "name": "stdout",
     "output_type": "stream",
     "text": [
      "None\n"
     ]
    }
   ],
   "source": [
    "a = my_dict.get('ID') # None\n",
    "print(a)"
   ]
  },
  {
   "cell_type": "code",
   "execution_count": 78,
   "id": "b092a9ea-9f21-4aaa-8009-7d4749b17d13",
   "metadata": {},
   "outputs": [
    {
     "name": "stdout",
     "output_type": "stream",
     "text": [
      "None\n"
     ]
    }
   ],
   "source": [
    "a = my_dict.get('ID', None) # None\n",
    "print(a)"
   ]
  },
  {
   "cell_type": "code",
   "execution_count": 80,
   "id": "d5939fe0-c36b-40a3-9782-e7add098aa1b",
   "metadata": {},
   "outputs": [
    {
     "data": {
      "text/plain": [
       "False"
      ]
     },
     "execution_count": 80,
     "metadata": {},
     "output_type": "execute_result"
    }
   ],
   "source": [
    "my_dict.get('Name', False)"
   ]
  },
  {
   "cell_type": "code",
   "execution_count": 82,
   "id": "3436dfad-edc1-4baa-90a8-ea6d3685dbb3",
   "metadata": {},
   "outputs": [
    {
     "data": {
      "text/plain": [
       "'N/A'"
      ]
     },
     "execution_count": 82,
     "metadata": {},
     "output_type": "execute_result"
    }
   ],
   "source": [
    "my_dict.get('Name', 'N/A')"
   ]
  },
  {
   "cell_type": "code",
   "execution_count": 91,
   "id": "087a0553-18a9-4e4b-8e65-cc966eac8883",
   "metadata": {},
   "outputs": [
    {
     "name": "stdout",
     "output_type": "stream",
     "text": [
      "{'email': 'john@email.com', 'id': 1234, 'major': 'Engineering'}\n"
     ]
    }
   ],
   "source": [
    "my_dict = {\n",
    "    'name': 'john',\n",
    "    'email': 'john@email.com',\n",
    "    'id': 1234,\n",
    "    'major': 'Engineering'\n",
    "}\n",
    "my_dict.pop('name')\n",
    "print(my_dict)"
   ]
  },
  {
   "cell_type": "code",
   "execution_count": null,
   "id": "6c5e84df-a609-4a47-8804-8b8e2ecbb454",
   "metadata": {},
   "outputs": [],
   "source": []
  },
  {
   "cell_type": "code",
   "execution_count": 85,
   "id": "4f74c1ee-9d1d-4149-b287-dd636106ace5",
   "metadata": {},
   "outputs": [
    {
     "ename": "KeyError",
     "evalue": "'Name'",
     "output_type": "error",
     "traceback": [
      "\u001b[1;31m---------------------------------------------------------------------------\u001b[0m",
      "\u001b[1;31mKeyError\u001b[0m                                  Traceback (most recent call last)",
      "Cell \u001b[1;32mIn[85], line 7\u001b[0m\n\u001b[0;32m      1\u001b[0m my_dict \u001b[38;5;241m=\u001b[39m {\n\u001b[0;32m      2\u001b[0m     \u001b[38;5;124m'\u001b[39m\u001b[38;5;124mname\u001b[39m\u001b[38;5;124m'\u001b[39m: \u001b[38;5;124m'\u001b[39m\u001b[38;5;124mjohn\u001b[39m\u001b[38;5;124m'\u001b[39m,\n\u001b[0;32m      3\u001b[0m     \u001b[38;5;124m'\u001b[39m\u001b[38;5;124memail\u001b[39m\u001b[38;5;124m'\u001b[39m: \u001b[38;5;124m'\u001b[39m\u001b[38;5;124mjohn@email.com\u001b[39m\u001b[38;5;124m'\u001b[39m,\n\u001b[0;32m      4\u001b[0m     \u001b[38;5;124m'\u001b[39m\u001b[38;5;124mid\u001b[39m\u001b[38;5;124m'\u001b[39m: \u001b[38;5;241m1234\u001b[39m,\n\u001b[0;32m      5\u001b[0m     \u001b[38;5;124m'\u001b[39m\u001b[38;5;124mmajor\u001b[39m\u001b[38;5;124m'\u001b[39m: \u001b[38;5;124m'\u001b[39m\u001b[38;5;124mEngineering\u001b[39m\u001b[38;5;124m'\u001b[39m\n\u001b[0;32m      6\u001b[0m }\n\u001b[1;32m----> 7\u001b[0m \u001b[43mmy_dict\u001b[49m\u001b[38;5;241;43m.\u001b[39;49m\u001b[43mpop\u001b[49m\u001b[43m(\u001b[49m\u001b[38;5;124;43m'\u001b[39;49m\u001b[38;5;124;43mName\u001b[39;49m\u001b[38;5;124;43m'\u001b[39;49m\u001b[43m)\u001b[49m\n",
      "\u001b[1;31mKeyError\u001b[0m: 'Name'"
     ]
    }
   ],
   "source": [
    "my_dict = {\n",
    "    'name': 'john',\n",
    "    'email': 'john@email.com',\n",
    "    'id': 1234,\n",
    "    'major': 'Engineering'\n",
    "}\n",
    "my_dict.pop('Name')"
   ]
  },
  {
   "cell_type": "code",
   "execution_count": 86,
   "id": "2462446f-d030-49dd-be38-a52fcd904c4c",
   "metadata": {},
   "outputs": [],
   "source": [
    "my_dict = {\n",
    "    'name': 'john',\n",
    "    'email': 'john@email.com',\n",
    "    'id': 1234,\n",
    "    'major': 'Engineering'\n",
    "}\n",
    "del my_dict['name']"
   ]
  },
  {
   "cell_type": "code",
   "execution_count": 87,
   "id": "94424b12-a2b5-4f69-aced-2569ddd913e3",
   "metadata": {},
   "outputs": [
    {
     "data": {
      "text/plain": [
       "{'email': 'john@email.com', 'id': 1234, 'major': 'Engineering'}"
      ]
     },
     "execution_count": 87,
     "metadata": {},
     "output_type": "execute_result"
    }
   ],
   "source": [
    "my_dict"
   ]
  },
  {
   "cell_type": "code",
   "execution_count": 88,
   "id": "d8523682-855d-4581-8f82-7081594301b4",
   "metadata": {},
   "outputs": [
    {
     "data": {
      "text/plain": [
       "('major', 'Engineering')"
      ]
     },
     "execution_count": 88,
     "metadata": {},
     "output_type": "execute_result"
    }
   ],
   "source": [
    "my_dict = {\n",
    "    'name': 'john',\n",
    "    'email': 'john@email.com',\n",
    "    'id': 1234,\n",
    "    'major': 'Engineering'\n",
    "}\n",
    "my_dict.popitem()"
   ]
  },
  {
   "cell_type": "code",
   "execution_count": 90,
   "id": "d8bbacaa-815e-45b5-9dd8-e6da45c52556",
   "metadata": {},
   "outputs": [
    {
     "name": "stdout",
     "output_type": "stream",
     "text": [
      "Help on built-in function popitem:\n",
      "\n",
      "popitem() method of builtins.dict instance\n",
      "    Remove and return a (key, value) pair as a 2-tuple.\n",
      "    \n",
      "    Pairs are returned in LIFO (last-in, first-out) order.\n",
      "    Raises KeyError if the dict is empty.\n",
      "\n"
     ]
    }
   ],
   "source": [
    "help({}.popitem)"
   ]
  },
  {
   "cell_type": "code",
   "execution_count": 92,
   "id": "a4e6bf41-c89d-4cee-9cc7-280091dba3d3",
   "metadata": {},
   "outputs": [
    {
     "ename": "TypeError",
     "evalue": "pop expected at least 1 argument, got 0",
     "output_type": "error",
     "traceback": [
      "\u001b[1;31m---------------------------------------------------------------------------\u001b[0m",
      "\u001b[1;31mTypeError\u001b[0m                                 Traceback (most recent call last)",
      "Cell \u001b[1;32mIn[92], line 1\u001b[0m\n\u001b[1;32m----> 1\u001b[0m \u001b[43mmy_dict\u001b[49m\u001b[38;5;241;43m.\u001b[39;49m\u001b[43mpop\u001b[49m\u001b[43m(\u001b[49m\u001b[43m)\u001b[49m\n",
      "\u001b[1;31mTypeError\u001b[0m: pop expected at least 1 argument, got 0"
     ]
    }
   ],
   "source": [
    "my_dict.pop()"
   ]
  },
  {
   "cell_type": "code",
   "execution_count": 93,
   "id": "f40b258f-1d62-42bd-8421-70ca6c221441",
   "metadata": {},
   "outputs": [
    {
     "ename": "TypeError",
     "evalue": "dict.popitem() takes no arguments (1 given)",
     "output_type": "error",
     "traceback": [
      "\u001b[1;31m---------------------------------------------------------------------------\u001b[0m",
      "\u001b[1;31mTypeError\u001b[0m                                 Traceback (most recent call last)",
      "Cell \u001b[1;32mIn[93], line 1\u001b[0m\n\u001b[1;32m----> 1\u001b[0m \u001b[43mmy_dict\u001b[49m\u001b[38;5;241;43m.\u001b[39;49m\u001b[43mpopitem\u001b[49m\u001b[43m(\u001b[49m\u001b[38;5;124;43m'\u001b[39;49m\u001b[38;5;124;43mname\u001b[39;49m\u001b[38;5;124;43m'\u001b[39;49m\u001b[43m)\u001b[49m\n",
      "\u001b[1;31mTypeError\u001b[0m: dict.popitem() takes no arguments (1 given)"
     ]
    }
   ],
   "source": [
    "my_dict.popitem('name')"
   ]
  },
  {
   "cell_type": "code",
   "execution_count": 96,
   "id": "f401794f-49ab-4b71-93e5-1e4f713b6164",
   "metadata": {},
   "outputs": [
    {
     "name": "stdout",
     "output_type": "stream",
     "text": [
      "{'name': 'john', 'email': 'john@email.com', 'id': 1234, 'major': 'Engineering', 'Graduation Year': 2024, 'A': 1, 'B': 2}\n"
     ]
    }
   ],
   "source": [
    "my_dict = {\n",
    "    'name': 'john',\n",
    "    'email': 'john@email.com',\n",
    "    'id': 1234,\n",
    "    'major': 'Engineering'\n",
    "}\n",
    "my_dict.update({'Graduation Year': 2024, 'A':1, 'B': 2})\n",
    "print(my_dict)"
   ]
  },
  {
   "cell_type": "code",
   "execution_count": 97,
   "id": "913a6088-7bc7-4326-8d9c-a0db5b6d5585",
   "metadata": {},
   "outputs": [
    {
     "data": {
      "text/plain": [
       "{'name': 'john',\n",
       " 'email': 'john@email.com',\n",
       " 'id': 1234,\n",
       " 'major': 'Engineering',\n",
       " 'Graduate Year': 2024}"
      ]
     },
     "execution_count": 97,
     "metadata": {},
     "output_type": "execute_result"
    }
   ],
   "source": [
    "my_dict = {\n",
    "    'name': 'john',\n",
    "    'email': 'john@email.com',\n",
    "    'id': 1234,\n",
    "    'major': 'Engineering'\n",
    "}\n",
    "my_dict['Graduate Year'] = 2024\n",
    "my_dict"
   ]
  },
  {
   "cell_type": "code",
   "execution_count": 98,
   "id": "6c0de61f-a1d7-43a1-a661-db3bb0ae3395",
   "metadata": {},
   "outputs": [
    {
     "data": {
      "text/plain": [
       "{'name': 'john',\n",
       " 'email': 'john@email.com',\n",
       " 'id': 1234,\n",
       " 'major': 'Engineering',\n",
       " 'Graduate Year': 2026}"
      ]
     },
     "execution_count": 98,
     "metadata": {},
     "output_type": "execute_result"
    }
   ],
   "source": [
    "my_dict['Graduate Year'] = 2026\n",
    "my_dict"
   ]
  },
  {
   "cell_type": "code",
   "execution_count": 99,
   "id": "3317e2a7-98ee-4709-932f-d5605b7c12d5",
   "metadata": {},
   "outputs": [
    {
     "data": {
      "text/plain": [
       "{'name': 'john',\n",
       " 'email': 'john@email.com',\n",
       " 'id': 1234,\n",
       " 'major': 'Engineering',\n",
       " 'Graduate Year': 2024}"
      ]
     },
     "execution_count": 99,
     "metadata": {},
     "output_type": "execute_result"
    }
   ],
   "source": [
    "my_dict = {\n",
    "    'name': 'john',\n",
    "    'email': 'john@email.com',\n",
    "    'id': 1234,\n",
    "    'major': 'Engineering'\n",
    "}\n",
    "my_dict | {'Graduate Year': 2024} # lst1 + lst2"
   ]
  },
  {
   "cell_type": "code",
   "execution_count": 100,
   "id": "f6527764-04f8-4351-b5f2-cd565fa78b19",
   "metadata": {},
   "outputs": [
    {
     "data": {
      "text/plain": [
       "{'name': 'john', 'email': 'john@email.com', 'id': 1234, 'major': 'Engineering'}"
      ]
     },
     "execution_count": 100,
     "metadata": {},
     "output_type": "execute_result"
    }
   ],
   "source": [
    "my_dict"
   ]
  },
  {
   "cell_type": "code",
   "execution_count": 101,
   "id": "e2c1ba96-7a77-459a-9696-426ba5f9e25b",
   "metadata": {},
   "outputs": [
    {
     "name": "stdout",
     "output_type": "stream",
     "text": [
      "{'name': 'john', 'email': 'john@email.com', 'id': 1234, 'major': 'Engineering', 'Graduate Year': 2024}\n"
     ]
    }
   ],
   "source": [
    "my_dict = {\n",
    "    'name': 'john',\n",
    "    'email': 'john@email.com',\n",
    "    'id': 1234,\n",
    "    'major': 'Engineering'\n",
    "}\n",
    "my_dict |= {'Graduate Year': 2024} # a += 1\n",
    "\n",
    "print(my_dict)"
   ]
  },
  {
   "cell_type": "code",
   "execution_count": 102,
   "id": "66edc748-0f24-4dc5-b323-49d52a1b49d9",
   "metadata": {},
   "outputs": [
    {
     "data": {
      "text/plain": [
       "{'name': 'john',\n",
       " 'email': 'john@email.com',\n",
       " 'id': 1234,\n",
       " 'major': 'Engineering',\n",
       " 'Graduate Year': 2025}"
      ]
     },
     "execution_count": 102,
     "metadata": {},
     "output_type": "execute_result"
    }
   ],
   "source": [
    "my_dict |= {'Graduate Year': 2025}\n",
    "my_dict"
   ]
  },
  {
   "cell_type": "code",
   "execution_count": 103,
   "id": "cf478c38-c869-4c3c-bd4a-02436899b0ff",
   "metadata": {},
   "outputs": [],
   "source": [
    "my_dict = {'LoginCount': 0}\n",
    "my_dict['LoginCount'] += 1"
   ]
  },
  {
   "cell_type": "code",
   "execution_count": 105,
   "id": "b444c4e8-b321-4dec-8ea5-a5a14c26e106",
   "metadata": {},
   "outputs": [
    {
     "data": {
      "text/plain": [
       "{'Grades': [3]}"
      ]
     },
     "execution_count": 105,
     "metadata": {},
     "output_type": "execute_result"
    }
   ],
   "source": [
    "my_dict = {'Grades': []}\n",
    "my_dict['Grades'].append(3)\n",
    "my_dict"
   ]
  },
  {
   "cell_type": "code",
   "execution_count": 108,
   "id": "f8439cab-27a2-4d0c-b3c1-0ffbbf52ba2d",
   "metadata": {},
   "outputs": [
    {
     "data": {
      "text/plain": [
       "{'LoginCount': 1}"
      ]
     },
     "execution_count": 108,
     "metadata": {},
     "output_type": "execute_result"
    }
   ],
   "source": [
    "my_dict = {}\n",
    "if 'LoginCount' not in my_dict:\n",
    "    my_dict['LoginCount'] =  0\n",
    "my_dict['LoginCount'] += 1\n",
    "my_dict"
   ]
  },
  {
   "cell_type": "code",
   "execution_count": 124,
   "id": "6eb2cf44-5c1f-4455-9535-8274e874fdd4",
   "metadata": {},
   "outputs": [
    {
     "ename": "KeyError",
     "evalue": "'Nationality'",
     "output_type": "error",
     "traceback": [
      "\u001b[1;31m---------------------------------------------------------------------------\u001b[0m",
      "\u001b[1;31mKeyError\u001b[0m                                  Traceback (most recent call last)",
      "Cell \u001b[1;32mIn[124], line 14\u001b[0m\n\u001b[0;32m     11\u001b[0m key, value \u001b[38;5;241m=\u001b[39m kv\u001b[38;5;241m.\u001b[39msplit(\u001b[38;5;124m'\u001b[39m\u001b[38;5;124m=\u001b[39m\u001b[38;5;124m'\u001b[39m)\n\u001b[0;32m     12\u001b[0m \u001b[38;5;66;03m# if key not in data:\u001b[39;00m\n\u001b[0;32m     13\u001b[0m \u001b[38;5;66;03m#     data[key] = []\u001b[39;00m\n\u001b[1;32m---> 14\u001b[0m \u001b[38;5;28;01mif\u001b[39;00m value \u001b[38;5;129;01mnot\u001b[39;00m \u001b[38;5;129;01min\u001b[39;00m \u001b[43mdata\u001b[49m\u001b[43m[\u001b[49m\u001b[43mkey\u001b[49m\u001b[43m]\u001b[49m:\n\u001b[0;32m     15\u001b[0m     data[key]\u001b[38;5;241m.\u001b[39mappend(value)\n",
      "\u001b[1;31mKeyError\u001b[0m: 'Nationality'"
     ]
    }
   ],
   "source": [
    "data = {'Name': []}\n",
    "with open('soccer_players_statistics_alt.tsv', encoding='utf-8') as file:\n",
    "    for line in file:\n",
    "        if not line.strip():\n",
    "            continue\n",
    "\n",
    "        name, keys_values = line.strip().split('\\t')\n",
    "        \n",
    "        data['Name'].append(name)\n",
    "        for kv in keys_values.split(';'):\n",
    "            key, value = kv.split('=')\n",
    "            if key not in data:\n",
    "                data[key] = []\n",
    "            if value not in data[key]:\n",
    "                data[key].append(value)\n",
    "\n",
    "\n"
   ]
  },
  {
   "cell_type": "code",
   "execution_count": 121,
   "id": "ef912258-7ef3-4581-8a58-e0b9a859957b",
   "metadata": {},
   "outputs": [],
   "source": [
    "number_fields = ['Acceleration', \n",
    "'Age', \n",
    "'Aggression', \n",
    "'Agility', \n",
    "'Ball_Control', \n",
    "'Composure', \n",
    "'Crossing', \n",
    "'Curve', \n",
    "'Dribbling', ]\n",
    "# field does not exist here!!!\n",
    "for field in number_fields:\n",
    "    data[field] = sorted([int(ele) for ele in data[field]])\n",
    "\n",
    "# field now exists here!!!"
   ]
  },
  {
   "cell_type": "code",
   "execution_count": 123,
   "id": "487ce395-9a18-4bfb-83bc-2183dc5e6da6",
   "metadata": {},
   "outputs": [
    {
     "data": {
      "text/plain": [
       "[17,\n",
       " 18,\n",
       " 19,\n",
       " 20,\n",
       " 21,\n",
       " 22,\n",
       " 23,\n",
       " 24,\n",
       " 25,\n",
       " 26,\n",
       " 27,\n",
       " 28,\n",
       " 29,\n",
       " 30,\n",
       " 31,\n",
       " 32,\n",
       " 33,\n",
       " 34,\n",
       " 35,\n",
       " 36,\n",
       " 37,\n",
       " 38,\n",
       " 39,\n",
       " 40,\n",
       " 41,\n",
       " 42,\n",
       " 43,\n",
       " 44,\n",
       " 47]"
      ]
     },
     "execution_count": 123,
     "metadata": {},
     "output_type": "execute_result"
    }
   ],
   "source": [
    "data['Age']"
   ]
  }
 ],
 "metadata": {
  "kernelspec": {
   "display_name": "Python 3 (ipykernel)",
   "language": "python",
   "name": "python3"
  },
  "language_info": {
   "codemirror_mode": {
    "name": "ipython",
    "version": 3
   },
   "file_extension": ".py",
   "mimetype": "text/x-python",
   "name": "python",
   "nbconvert_exporter": "python",
   "pygments_lexer": "ipython3",
   "version": "3.9.18"
  }
 },
 "nbformat": 4,
 "nbformat_minor": 5
}
