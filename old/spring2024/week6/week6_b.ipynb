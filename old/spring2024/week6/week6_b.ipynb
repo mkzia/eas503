{
 "cells": [
  {
   "cell_type": "code",
   "execution_count": 2,
   "id": "d6fc792c-42fa-4bc8-bc19-94fa8ca27783",
   "metadata": {},
   "outputs": [
    {
     "name": "stdout",
     "output_type": "stream",
     "text": [
      "Counter({31: 7, 30: 4, 0: 1, 28: 1})\n"
     ]
    }
   ],
   "source": [
    "from collections import Counter\n",
    "days_in_months = [0, 31, 28, 31, 30, 31, 30, 31, 31, 30, 31, 30, 31]\n",
    "\n",
    "c = Counter(days_in_months)\n",
    "print(c)"
   ]
  },
  {
   "cell_type": "code",
   "execution_count": 3,
   "id": "4e44ccb0-020f-460d-84ef-e4709fd4e35b",
   "metadata": {},
   "outputs": [
    {
     "data": {
      "text/plain": [
       "7"
      ]
     },
     "execution_count": 3,
     "metadata": {},
     "output_type": "execute_result"
    }
   ],
   "source": [
    "c[31]"
   ]
  },
  {
   "cell_type": "code",
   "execution_count": 4,
   "id": "f4cda9f7-5953-458c-ba3d-3fd6fa7f89cd",
   "metadata": {},
   "outputs": [],
   "source": [
    "x = {num: (\"even\" if num % 2 == 0 else \"odd\") for num in range(1, 20)}"
   ]
  },
  {
   "cell_type": "code",
   "execution_count": 7,
   "id": "4bd7cce0-707f-419f-b048-59d5e685b316",
   "metadata": {},
   "outputs": [
    {
     "data": {
      "text/plain": [
       "{1: 'odd',\n",
       " 2: 'even',\n",
       " 3: 'odd',\n",
       " 4: 'even',\n",
       " 5: 'odd',\n",
       " 6: 'even',\n",
       " 7: 'odd',\n",
       " 8: 'even',\n",
       " 9: 'odd',\n",
       " 10: 'even',\n",
       " 11: 'odd',\n",
       " 12: 'even',\n",
       " 13: 'odd',\n",
       " 14: 'even',\n",
       " 15: 'odd',\n",
       " 16: 'even',\n",
       " 17: 'odd',\n",
       " 18: 'even',\n",
       " 19: 'odd'}"
      ]
     },
     "execution_count": 7,
     "metadata": {},
     "output_type": "execute_result"
    }
   ],
   "source": [
    "x\n"
   ]
  },
  {
   "cell_type": "code",
   "execution_count": 8,
   "id": "4a42456f-8d83-4103-b796-b4ddd8c33658",
   "metadata": {},
   "outputs": [],
   "source": [
    "list1 = ['john', 'jane', 'doe']\n",
    "list2 = [95, 99, 98]"
   ]
  },
  {
   "cell_type": "code",
   "execution_count": 9,
   "id": "e96822fc-8c87-439d-a076-29554547f477",
   "metadata": {},
   "outputs": [
    {
     "data": {
      "text/plain": [
       "{'john': 95, 'jane': 99, 'doe': 98}"
      ]
     },
     "execution_count": 9,
     "metadata": {},
     "output_type": "execute_result"
    }
   ],
   "source": [
    "{list1[i]: list2[i] for i in range(len(list1))}"
   ]
  },
  {
   "cell_type": "code",
   "execution_count": null,
   "id": "a97837a6-5bdc-4133-9106-dd14fce9cf14",
   "metadata": {},
   "outputs": [],
   "source": [
    "dict(zip(list1,list2))"
   ]
  },
  {
   "cell_type": "code",
   "execution_count": 11,
   "id": "3829dfd7-8413-4e24-9d85-fccd2f285d90",
   "metadata": {},
   "outputs": [
    {
     "data": {
      "text/plain": [
       "{'john': 95, 'jane': 99, 'doe': 98}"
      ]
     },
     "execution_count": 11,
     "metadata": {},
     "output_type": "execute_result"
    }
   ],
   "source": [
    "dict(list(zip(list1,list2)))"
   ]
  },
  {
   "cell_type": "code",
   "execution_count": 16,
   "id": "8bd1904c-ce89-41de-a260-125853916229",
   "metadata": {},
   "outputs": [],
   "source": [
    "filename = 'people.tsv'\n",
    "header = None\n",
    "data = []\n",
    "with open(filename) as file:\n",
    "    for line in file:\n",
    "        if not line.strip():\n",
    "            continue\n",
    "        if not header:\n",
    "            header = line.strip().split('\\t')\n",
    "            continue\n",
    "\n",
    "        tmp = dict(zip(header, line.strip().split('\\t')))\n",
    "        data.append(tmp)\n",
    "    "
   ]
  },
  {
   "cell_type": "code",
   "execution_count": 17,
   "id": "4e1db657-a41d-4012-9098-e848f67c18aa",
   "metadata": {},
   "outputs": [
    {
     "name": "stdout",
     "output_type": "stream",
     "text": [
      "{'last_name': 'Weaver', 'first_name': 'Michael', 'email': 'xdunn@hotmail.com', 'country': 'Nepal', 'account': 'QVJP6465242365388'}\n",
      "{'last_name': 'Owens', 'first_name': 'Jackson', 'email': 'iedwards@yahoo.com', 'country': 'Kazakhstan', 'account': 'FVQZ0955529767455'}\n",
      "{'last_name': 'Gilmore', 'first_name': 'Patrick', 'email': 'arogers@smith.com', 'country': 'Mauritius', 'account': 'QFIM0905182880347'}\n",
      "{'last_name': 'Perez', 'first_name': 'Jeffrey', 'email': 'plewis@chavez.com', 'country': 'New Zealand', 'account': 'YWOT0997131632248'}\n",
      "{'last_name': 'Thomas', 'first_name': 'James', 'email': 'fred92@yahoo.com', 'country': 'Yemen', 'account': 'QAAE9838291982555'}\n",
      "{'last_name': 'Nelson', 'first_name': 'Greg', 'email': 'mmiller@lynch.com', 'country': 'Jordan', 'account': 'PCNE8127696280157'}\n",
      "{'last_name': 'White', 'first_name': 'Joshua', 'email': 'steven49@gmail.com', 'country': 'Palau', 'account': 'BCEN3299883381338'}\n",
      "{'last_name': 'Francis', 'first_name': 'Todd', 'email': 'amanda23@hotmail.com', 'country': 'Argentina', 'account': 'XPTQ7837014557677'}\n",
      "{'last_name': 'Shaw', 'first_name': 'Stephen', 'email': 'jackduke@hotmail.com', 'country': 'Marshall Islands', 'account': 'TRLQ6559557081716'}\n",
      "{'last_name': 'Armstrong', 'first_name': 'Mariah', 'email': 'rhodesnicholas@hotmail.com', 'country': 'Albania', 'account': 'OHOV7518558201999'}\n",
      "{'last_name': 'Boyle', 'first_name': 'Anthony', 'email': 'smithashlee@yahoo.com', 'country': 'Kyrgyz Republic', 'account': 'MCQU7347833033110'}\n",
      "{'last_name': 'Cuevas', 'first_name': 'Patrick', 'email': 'ubriggs@hill.info', 'country': 'Turkmenistan', 'account': 'PPHE5533473251751'}\n",
      "{'last_name': 'Reyes', 'first_name': 'Gerald', 'email': 'brownclarence@gonzalez-moore.com', 'country': 'Fiji', 'account': 'JCDK1943355298609'}\n",
      "{'last_name': 'Calderon', 'first_name': 'Christopher', 'email': 'teresa30@carpenter-warner.com', 'country': 'Costa Rica', 'account': 'NERZ5502558659614'}\n",
      "{'last_name': 'Weiss', 'first_name': 'Shane', 'email': 'leekatherine@williams.com', 'country': 'Martinique', 'account': 'DLDV5789894914403'}\n",
      "{'last_name': 'Conley', 'first_name': 'Crystal', 'email': 'chasewatkins@perez-phillips.com', 'country': 'Singapore', 'account': 'GZZF6936998445532'}\n",
      "{'last_name': 'Nelson', 'first_name': 'Jeffrey', 'email': 'hsherman@gmail.com', 'country': 'Mayotte', 'account': 'ECGK2823955143629'}\n",
      "{'last_name': 'Johnson', 'first_name': 'Brianna', 'email': 'martinezdaniel@hotmail.com', 'country': 'Costa Rica', 'account': 'QOVO4275314052899'}\n",
      "{'last_name': 'Werner', 'first_name': 'Brandon', 'email': 'justinfischer@gmail.com', 'country': 'Guadeloupe', 'account': 'UKRT1119626365017'}\n",
      "{'last_name': 'Bennett', 'first_name': 'Brianna', 'email': 'cindy08@gmail.com', 'country': 'Bahamas', 'account': 'UNPV3347450330173'}\n",
      "{'last_name': 'Fletcher', 'first_name': 'Austin', 'email': 'carolharrington@fleming.org', 'country': 'Azerbaijan', 'account': 'GJZT6825738428111'}\n",
      "{'last_name': 'Lewis', 'first_name': 'Patrick', 'email': 'lopezcarl@johnson.com', 'country': 'Saint Helena', 'account': 'JOQE2648899771737'}\n",
      "{'last_name': 'Smith', 'first_name': 'Joseph', 'email': 'michael74@yahoo.com', 'country': 'Hong Kong', 'account': 'MNXY3262955868027'}\n",
      "{'last_name': 'Sullivan', 'first_name': 'Sharon', 'email': 'gonzalezrobert@hotmail.com', 'country': 'Turkey', 'account': 'YHXF7256577475630'}\n",
      "{'last_name': 'Wilson', 'first_name': 'Krystal', 'email': 'dawnjohnson@gmail.com', 'country': 'Swaziland', 'account': 'MUVI3570791852556'}\n",
      "{'last_name': 'Schmidt', 'first_name': 'Diana', 'email': 'watersryan@gmail.com', 'country': 'Holy See (Vatican City State)', 'account': 'UKCP6739617302102'}\n",
      "{'last_name': 'Huff', 'first_name': 'Sean', 'email': 'byoung@gmail.com', 'country': 'Norfolk Island', 'account': 'WDAT4146843903498'}\n",
      "{'last_name': 'Nguyen', 'first_name': 'Robin', 'email': 'vhanson@yahoo.com', 'country': 'Kenya', 'account': 'SVMU4403517448078'}\n",
      "{'last_name': 'Russell', 'first_name': 'Robyn', 'email': 'bfletcher@yahoo.com', 'country': 'Togo', 'account': 'ZNUY4071301663622'}\n",
      "{'last_name': 'Smith', 'first_name': 'Tiffany', 'email': 'colleengarrison@hotmail.com', 'country': 'San Marino', 'account': 'GPFA8271551275648'}\n",
      "{'last_name': 'Smith', 'first_name': 'Lori', 'email': 'catherine23@gmail.com', 'country': 'Romania', 'account': 'MKWY4848668895426'}\n",
      "{'last_name': 'Keith', 'first_name': 'Sabrina', 'email': 'xmurphy@yahoo.com', 'country': 'Algeria', 'account': 'QHIW7412514205367'}\n",
      "{'last_name': 'Johnson', 'first_name': 'Miguel', 'email': 'aaronrichard@middleton.net', 'country': 'Slovakia (Slovak Republic)', 'account': 'QAAO4666689281736'}\n",
      "{'last_name': 'Barron', 'first_name': 'Dustin', 'email': 'jesse93@best.com', 'country': 'Somalia', 'account': 'LRPR8694143910883'}\n",
      "{'last_name': 'Robinson', 'first_name': 'Michael', 'email': 'johnperez@johnson.com', 'country': 'Turkmenistan', 'account': 'UWFU1921951273393'}\n",
      "{'last_name': 'Nguyen', 'first_name': 'Robert', 'email': 'jessica62@yahoo.com', 'country': 'Croatia', 'account': 'JQHS4274771257925'}\n",
      "{'last_name': 'Abbott', 'first_name': 'Brandon', 'email': 'jennifer87@gmail.com', 'country': 'Jamaica', 'account': 'RSLD0426398604312'}\n",
      "{'last_name': 'Oneill', 'first_name': 'Bruce', 'email': 'morenolindsay@bass.org', 'country': 'Montserrat', 'account': 'UYHI6964741005832'}\n",
      "{'last_name': 'Nash', 'first_name': 'Linda', 'email': 'robertdavis@hotmail.com', 'country': 'Heard Island and McDonald Islands', 'account': 'ZKTE5908966955533'}\n",
      "{'last_name': 'Cameron', 'first_name': 'Kathleen', 'email': 'melanie81@rogers.com', 'country': 'Niger', 'account': 'HHHP3471562002758'}\n",
      "{'last_name': 'Wilkinson', 'first_name': 'Wesley', 'email': 'clineerin@hotmail.com', 'country': 'Saint Vincent and the Grenadines', 'account': 'UWLV6407825245995'}\n",
      "{'last_name': 'Wallace', 'first_name': 'Debbie', 'email': 'terri95@hotmail.com', 'country': 'Antigua and Barbuda', 'account': 'JRBN0811785293731'}\n",
      "{'last_name': 'Woodward', 'first_name': 'Kayla', 'email': 'danielle65@yahoo.com', 'country': 'Mexico', 'account': 'VDWY7565964041116'}\n",
      "{'last_name': 'Bennett', 'first_name': 'Stephanie', 'email': 'sjackson@yahoo.com', 'country': 'Singapore', 'account': 'DNRB2101855092009'}\n",
      "{'last_name': 'Jenkins', 'first_name': 'Caleb', 'email': 'douglas63@yahoo.com', 'country': 'Botswana', 'account': 'IILE1765776198023'}\n",
      "{'last_name': 'Edwards', 'first_name': 'Valerie', 'email': 'woodardlindsey@yahoo.com', 'country': 'Guinea', 'account': 'ZJUF2687631787282'}\n",
      "{'last_name': 'Anderson', 'first_name': 'Mary', 'email': 'suebrown@yahoo.com', 'country': 'Chile', 'account': 'DHMT4208071148508'}\n",
      "{'last_name': 'Ray', 'first_name': 'Angela', 'email': 'swhite@yahoo.com', 'country': 'Mayotte', 'account': 'UBRR8524342666714'}\n",
      "{'last_name': 'Edwards', 'first_name': 'Haley', 'email': 'martinkimberly@lopez.com', 'country': 'Macedonia', 'account': 'OGPU6537909247863'}\n",
      "{'last_name': 'Clark', 'first_name': 'Charles', 'email': 'jessica11@hotmail.com', 'country': 'Ukraine', 'account': 'AHYX6128839695452'}\n",
      "{'last_name': 'Hill', 'first_name': 'Lisa', 'email': 'hsmith@baker.com', 'country': 'Saint Martin', 'account': 'VUPW6891906300822'}\n",
      "{'last_name': 'Carpenter', 'first_name': 'Jonathan', 'email': 'fklein@yahoo.com', 'country': 'Germany', 'account': 'PKFW4841194501766'}\n",
      "{'last_name': 'Griffith', 'first_name': 'Latoya', 'email': 'ryan32@skinner.com', 'country': 'Lesotho', 'account': 'BNYD8693045932496'}\n",
      "{'last_name': 'Blair', 'first_name': 'Kim', 'email': 'tmurphy@flores.biz', 'country': 'Nepal', 'account': 'FQJA6381776349463'}\n",
      "{'last_name': 'Salazar', 'first_name': 'Mary', 'email': 'mary64@ray.org', 'country': 'Latvia', 'account': 'KCNI2464381879411'}\n",
      "{'last_name': 'Krueger', 'first_name': 'Kenneth', 'email': 'jennajoseph@yahoo.com', 'country': 'Central African Republic', 'account': 'BIGY3006735396533'}\n",
      "{'last_name': 'Burke', 'first_name': 'Phillip', 'email': 'watsonsamuel@gmail.com', 'country': 'Peru', 'account': 'CNJX1222752295544'}\n",
      "{'last_name': 'Juarez', 'first_name': 'Erica', 'email': 'xvelasquez@hughes.com', 'country': 'Spain', 'account': 'ZROP5229895490397'}\n",
      "{'last_name': 'Watkins', 'first_name': 'Jason', 'email': 'april99@gmail.com', 'country': 'Seychelles', 'account': 'NXKK2792812848629'}\n",
      "{'last_name': 'Carter', 'first_name': 'Lee', 'email': 'kfletcher@yahoo.com', 'country': 'Faroe Islands', 'account': 'DPLN5056382218296'}\n",
      "{'last_name': 'Huang', 'first_name': 'Randy', 'email': 'xchurch@hotmail.com', 'country': 'Tokelau', 'account': 'KAOL9792684486009'}\n",
      "{'last_name': 'Owen', 'first_name': 'Kristina', 'email': 'megan24@stewart.net', 'country': 'Cocos (Keeling) Islands', 'account': 'WRXW4627191899235'}\n",
      "{'last_name': 'Turner', 'first_name': 'Beth', 'email': 'sydneycollins@hunter.com', 'country': 'Burundi', 'account': 'OMOK4767172062189'}\n",
      "{'last_name': 'Aguirre', 'first_name': 'Michael', 'email': 'robertbowen@chavez-ortega.com', 'country': 'Timor-Leste', 'account': 'KRKF7344951038740'}\n",
      "{'last_name': 'Wilson', 'first_name': 'Elizabeth', 'email': 'christiandanielle@yahoo.com', 'country': 'Montserrat', 'account': 'SAAA4141150617330'}\n",
      "{'last_name': 'Hardy', 'first_name': 'Teresa', 'email': 'kdavidson@gordon.com', 'country': 'Norway', 'account': 'XNWQ1072087896797'}\n",
      "{'last_name': 'Stewart', 'first_name': 'David', 'email': 'bennettwanda@vega-guerra.net', 'country': 'Sierra Leone', 'account': 'FTHM1005169617995'}\n",
      "{'last_name': 'Moore', 'first_name': 'Heather', 'email': 'mark00@hotmail.com', 'country': 'French Polynesia', 'account': 'OSSM9070924947595'}\n",
      "{'last_name': 'Grant', 'first_name': 'Melissa', 'email': 'schaefernatalie@hotmail.com', 'country': 'French Guiana', 'account': 'CFQJ4204773901237'}\n",
      "{'last_name': 'Thompson', 'first_name': 'Jennifer', 'email': 'moralesmartin@rodgers.com', 'country': 'Cape Verde', 'account': 'MGFG2793756668287'}\n",
      "{'last_name': 'Anderson', 'first_name': 'Raymond', 'email': 'dprince@hotmail.com', 'country': 'Barbados', 'account': 'IGXK5881682171566'}\n",
      "{'last_name': 'Ramsey', 'first_name': 'Angela', 'email': 'cparks@valdez-hudson.com', 'country': 'Andorra', 'account': 'QYBW6359021109484'}\n",
      "{'last_name': 'Gonzales', 'first_name': 'Betty', 'email': 'martinezrichard@yahoo.com', 'country': 'Montserrat', 'account': 'UTSI0776569247505'}\n",
      "{'last_name': 'Castaneda', 'first_name': 'Thomas', 'email': 'kpena@yahoo.com', 'country': 'Egypt', 'account': 'LSDI9463735752680'}\n",
      "{'last_name': 'Todd', 'first_name': 'Jonathan', 'email': 'julie68@gmail.com', 'country': 'Malaysia', 'account': 'ISYY1401931979959'}\n",
      "{'last_name': 'Garcia', 'first_name': 'Stacey', 'email': 'lukebradford@hotmail.com', 'country': 'Zimbabwe', 'account': 'HNOA0376843856035'}\n",
      "{'last_name': 'Figueroa', 'first_name': 'Judy', 'email': 'ystewart@yahoo.com', 'country': 'Portugal', 'account': 'EEVV8325881104553'}\n",
      "{'last_name': 'Castillo', 'first_name': 'Ashley', 'email': 'cory33@king-shaw.net', 'country': 'Paraguay', 'account': 'QXGZ3111246190069'}\n",
      "{'last_name': 'Flores', 'first_name': 'Zachary', 'email': 'zcalhoun@gmail.com', 'country': 'Central African Republic', 'account': 'ACQR2846533122117'}\n",
      "{'last_name': 'Allen', 'first_name': 'Erica', 'email': 'michaelhall@hotmail.com', 'country': 'Palau', 'account': 'ZAZD8310339637467'}\n",
      "{'last_name': 'Potts', 'first_name': 'Savannah', 'email': 'kristentaylor@yahoo.com', 'country': 'Micronesia', 'account': 'ARWK1547324119222'}\n",
      "{'last_name': 'Wheeler', 'first_name': 'Zachary', 'email': 'stephen63@yahoo.com', 'country': 'Armenia', 'account': 'OMQX4840913072589'}\n",
      "{'last_name': 'Thomas', 'first_name': 'Timothy', 'email': 'bryanmartin@gmail.com', 'country': 'Bahrain', 'account': 'OCFV4659464275270'}\n",
      "{'last_name': 'Mcknight', 'first_name': 'Ann', 'email': 'kristinavelasquez@gmail.com', 'country': 'Guatemala', 'account': 'DTRB4720098955341'}\n",
      "{'last_name': 'Thompson', 'first_name': 'Ruth', 'email': 'denise01@burns.org', 'country': 'Saint Vincent and the Grenadines', 'account': 'YYHM5758234683389'}\n",
      "{'last_name': 'Levy', 'first_name': 'Daniel', 'email': 'beancody@jones.com', 'country': 'Kazakhstan', 'account': 'AHBN3151680654826'}\n",
      "{'last_name': 'Hubbard', 'first_name': 'Paul', 'email': 'ubradley@yahoo.com', 'country': 'Germany', 'account': 'FGBC0366153271398'}\n",
      "{'last_name': 'Jones', 'first_name': 'Jason', 'email': 'anthony75@yahoo.com', 'country': 'Western Sahara', 'account': 'MHTE8867005510944'}\n",
      "{'last_name': 'Garcia', 'first_name': 'Margaret', 'email': 'antonio52@gmail.com', 'country': 'Togo', 'account': 'IYOD4325345823013'}\n",
      "{'last_name': 'Peters', 'first_name': 'Jeremy', 'email': 'johnlewis@hotmail.com', 'country': 'Guam', 'account': 'NZFX8257739892619'}\n",
      "{'last_name': 'Stone', 'first_name': 'Mark', 'email': 'nmoore@hotmail.com', 'country': 'Kuwait', 'account': 'MWRB2515761996641'}\n",
      "{'last_name': 'Edwards', 'first_name': 'Darius', 'email': 'nchurch@yahoo.com', 'country': 'Eritrea', 'account': 'CURJ9953745256871'}\n",
      "{'last_name': 'Lawson', 'first_name': 'Tracy', 'email': 'piercejenna@gmail.com', 'country': 'Czech Republic', 'account': 'ATOT8581137487723'}\n",
      "{'last_name': 'Cooper', 'first_name': 'Christina', 'email': 'ddavidson@hotmail.com', 'country': 'Maldives', 'account': 'RQGA0882784089265'}\n",
      "{'last_name': 'Harris', 'first_name': 'Megan', 'email': 'ndelacruz@yahoo.com', 'country': 'Armenia', 'account': 'EOPA8088866975598'}\n",
      "{'last_name': 'Jones', 'first_name': 'Timothy', 'email': 'jenniferadkins@griffin.biz', 'country': 'Benin', 'account': 'JCUN9597199552039'}\n",
      "{'last_name': 'Burch', 'first_name': 'Tracie', 'email': 'evansmiguel@yahoo.com', 'country': 'Fiji', 'account': 'IZYL3351829981461'}\n",
      "{'last_name': 'Chung', 'first_name': 'Jason', 'email': 'kenneththompson@baxter.com', 'country': 'Iceland', 'account': 'JDIH2349154465371'}\n",
      "{'last_name': 'Melton', 'first_name': 'Samantha', 'email': 'bcurtis@hotmail.com', 'country': 'Macedonia', 'account': 'VRZP1447516193511'}\n",
      "{'last_name': 'Hansen', 'first_name': 'Michael', 'email': 'phillipssean@hotmail.com', 'country': 'Serbia', 'account': 'QKAF2254397516681'}\n"
     ]
    }
   ],
   "source": [
    "for ele in data:\n",
    "    print(ele)"
   ]
  },
  {
   "cell_type": "code",
   "execution_count": 33,
   "id": "7eca4e6b-84ea-4d7f-8e1c-2b00ad73099a",
   "metadata": {},
   "outputs": [
    {
     "data": {
      "text/plain": [
       "{'last_name': 'Owens',\n",
       " 'first_name': 'Jackson',\n",
       " 'email': 'iedwards@yahoo.com',\n",
       " 'country': 'Kazakhstan',\n",
       " 'account': 'FVQZ0955529767455'}"
      ]
     },
     "execution_count": 33,
     "metadata": {},
     "output_type": "execute_result"
    }
   ],
   "source": [
    "data[1]"
   ]
  },
  {
   "cell_type": "code",
   "execution_count": 18,
   "id": "2e8cba8e-98fc-4b76-9304-f549a5946619",
   "metadata": {},
   "outputs": [
    {
     "data": {
      "text/plain": [
       "[(1, 4), (2, 5), (3, 6)]"
      ]
     },
     "execution_count": 18,
     "metadata": {},
     "output_type": "execute_result"
    }
   ],
   "source": [
    "lst1 = [1, 2, 3]\n",
    "lst2 = [4, 5, 6]\n",
    "list(zip(lst1,lst2))"
   ]
  },
  {
   "cell_type": "code",
   "execution_count": 21,
   "id": "1e918b44-77a0-48f5-ad5d-8eae90bdb152",
   "metadata": {},
   "outputs": [
    {
     "data": {
      "text/plain": [
       "{1: 4, 2: 3}"
      ]
     },
     "execution_count": 21,
     "metadata": {},
     "output_type": "execute_result"
    }
   ],
   "source": [
    "dict([(1,4), (2,3)])"
   ]
  },
  {
   "cell_type": "code",
   "execution_count": 25,
   "id": "45f3e3a3-1223-4fee-9643-29ce095475d5",
   "metadata": {},
   "outputs": [],
   "source": [
    "x = line.strip().split('\\t')"
   ]
  },
  {
   "cell_type": "code",
   "execution_count": 23,
   "id": "f2cd4133-cb30-44bf-bf07-36f52e91084e",
   "metadata": {},
   "outputs": [
    {
     "data": {
      "text/plain": [
       "['last_name', 'first_name', 'email', 'country', 'account']"
      ]
     },
     "execution_count": 23,
     "metadata": {},
     "output_type": "execute_result"
    }
   ],
   "source": [
    "header"
   ]
  },
  {
   "cell_type": "code",
   "execution_count": 26,
   "id": "d57a39a5-1bd5-4fbb-b106-a14b0117b7c0",
   "metadata": {},
   "outputs": [
    {
     "data": {
      "text/plain": [
       "[('last_name', 'Hansen'),\n",
       " ('first_name', 'Michael'),\n",
       " ('email', 'phillipssean@hotmail.com'),\n",
       " ('country', 'Serbia'),\n",
       " ('account', 'QKAF2254397516681')]"
      ]
     },
     "execution_count": 26,
     "metadata": {},
     "output_type": "execute_result"
    }
   ],
   "source": [
    "list(zip(header,x))"
   ]
  },
  {
   "cell_type": "code",
   "execution_count": 28,
   "id": "327dbacf-1f6b-40fb-a2ba-a14e8d529220",
   "metadata": {},
   "outputs": [],
   "source": [
    "x = dict(list(zip(header,x)))"
   ]
  },
  {
   "cell_type": "code",
   "execution_count": 29,
   "id": "948b8baf-d283-43a6-b9fd-02205ad8711e",
   "metadata": {},
   "outputs": [
    {
     "data": {
      "text/plain": [
       "'Michael'"
      ]
     },
     "execution_count": 29,
     "metadata": {},
     "output_type": "execute_result"
    }
   ],
   "source": [
    "x['first_name']"
   ]
  },
  {
   "cell_type": "code",
   "execution_count": 35,
   "id": "2223d827-5d7e-43cb-8d80-9892f540e8d5",
   "metadata": {},
   "outputs": [
    {
     "data": {
      "text/plain": [
       "'Hansen'"
      ]
     },
     "execution_count": 35,
     "metadata": {},
     "output_type": "execute_result"
    }
   ],
   "source": [
    "x['last_name']"
   ]
  },
  {
   "cell_type": "code",
   "execution_count": 36,
   "id": "ba9f012f-62cf-402b-a9e2-2941016c88e9",
   "metadata": {},
   "outputs": [
    {
     "data": {
      "text/plain": [
       "'Hansen'"
      ]
     },
     "execution_count": 36,
     "metadata": {},
     "output_type": "execute_result"
    }
   ],
   "source": [
    "x.get('last_name')"
   ]
  },
  {
   "cell_type": "code",
   "execution_count": 39,
   "id": "80657c40-99ce-4468-a107-0c830c603049",
   "metadata": {},
   "outputs": [
    {
     "ename": "AttributeError",
     "evalue": "'dict' object has no attribute 'last_name'",
     "output_type": "error",
     "traceback": [
      "\u001b[1;31m---------------------------------------------------------------------------\u001b[0m",
      "\u001b[1;31mAttributeError\u001b[0m                            Traceback (most recent call last)",
      "Cell \u001b[1;32mIn[39], line 1\u001b[0m\n\u001b[1;32m----> 1\u001b[0m \u001b[43mx\u001b[49m\u001b[38;5;241;43m.\u001b[39;49m\u001b[43mlast_name\u001b[49m\n",
      "\u001b[1;31mAttributeError\u001b[0m: 'dict' object has no attribute 'last_name'"
     ]
    }
   ],
   "source": [
    "x.last_name"
   ]
  },
  {
   "cell_type": "code",
   "execution_count": 31,
   "id": "307bb1eb-24d7-4729-85aa-9dfab50dc17e",
   "metadata": {},
   "outputs": [
    {
     "data": {
      "text/plain": [
       "True"
      ]
     },
     "execution_count": 31,
     "metadata": {},
     "output_type": "execute_result"
    }
   ],
   "source": [
    "'email' in x"
   ]
  },
  {
   "cell_type": "code",
   "execution_count": 34,
   "id": "1e241943-0fd0-452c-b56e-883c0c342c5b",
   "metadata": {},
   "outputs": [
    {
     "name": "stdout",
     "output_type": "stream",
     "text": [
      "March\n"
     ]
    }
   ],
   "source": [
    "def convert_to_month_list(month):\n",
    "\n",
    "    months = [\n",
    "        '',\n",
    "        'January',\n",
    "        'February',\n",
    "        'March',\n",
    "        'April',\n",
    "        'May',\n",
    "        'June',\n",
    "        'July',\n",
    "        'August',\n",
    "        'September',\n",
    "        'October',\n",
    "        'November',\n",
    "        'December',\n",
    "    ]\n",
    "\n",
    "    return months[month]\n",
    "\n",
    "print(convert_to_month_list(3))"
   ]
  },
  {
   "cell_type": "code",
   "execution_count": 40,
   "id": "26c05e30-6025-49cd-8924-bb6481ffa0b6",
   "metadata": {},
   "outputs": [
    {
     "name": "stdout",
     "output_type": "stream",
     "text": [
      "March\n"
     ]
    }
   ],
   "source": [
    "def convert_to_month_dict(month):\n",
    "\n",
    "    months = {\n",
    "        1: 'January',\n",
    "        2: 'February',\n",
    "        3: 'March',\n",
    "        4: 'April',\n",
    "        5: 'May',\n",
    "        6: 'June',\n",
    "        7: 'July',\n",
    "        8: 'August',\n",
    "        9: 'September',\n",
    "        10: 'October',\n",
    "        11: 'November',\n",
    "        12: 'December',\n",
    "    }\n",
    "\n",
    "\n",
    "    return months[month]\n",
    "\n",
    "print(convert_to_month_list(3))"
   ]
  },
  {
   "cell_type": "code",
   "execution_count": 55,
   "id": "9b69ed7b-02c6-4fe8-89e8-526b379c4912",
   "metadata": {},
   "outputs": [
    {
     "name": "stdout",
     "output_type": "stream",
     "text": [
      "Counter({7: 16622, 8: 13986, 6: 13683, 9: 11180, 5: 11017, 4: 8434, 10: 8402, 11: 5573, 3: 5553, 12: 2780, 2: 2770})\n",
      "[0, 0, 2770, 5553, 8434, 11017, 13683, 16622, 13986, 11180, 8402, 5573, 2780]\n",
      "{4: 8434, 9: 11180, 6: 13683, 5: 11017, 7: 16622, 2: 2770, 11: 5573, 10: 8402, 3: 5553, 8: 13986, 12: 2780}\n",
      "defaultdict(<class 'int'>, {4: 8434, 9: 11180, 6: 13683, 5: 11017, 7: 16622, 2: 2770, 11: 5573, 10: 8402, 3: 5553, 8: 13986, 12: 2780})\n"
     ]
    }
   ],
   "source": [
    "from collections import Counter\n",
    "from collections import defaultdict\n",
    "def simulate_two_dice(N):\n",
    "    import random\n",
    "    random.seed(503)\n",
    "    count_dice = [0] * 13\n",
    "    dct = {}\n",
    "    dfdct = defaultdict(int) # int, float = 0, dict = {}, list = [], set\n",
    "    data = []\n",
    "    for _ in range(N):\n",
    "        dice1 = random.randint(1,6)\n",
    "        dice2 = random.randint(1,6)\n",
    "        total = dice1 + dice2 \n",
    "        data.append(total) # why is this inefficient?!\n",
    "        count_dice[total] += 1\n",
    "        if total not in dct:\n",
    "            dct[total] = 0\n",
    "        dct[total] += 1 #quiz\n",
    "\n",
    "        dfdct[total] += 1\n",
    "\n",
    "    c = Counter(data)\n",
    "    print(c)\n",
    "    print(count_dice)\n",
    "    print(dct)\n",
    "    print(dfdct)\n",
    "\n",
    "simulate_two_dice(100000)"
   ]
  },
  {
   "cell_type": "code",
   "execution_count": 50,
   "id": "3ce7e2ab-4aef-4eb6-9ddb-de70bf1fa168",
   "metadata": {},
   "outputs": [
    {
     "ename": "KeyError",
     "evalue": "5",
     "output_type": "error",
     "traceback": [
      "\u001b[1;31m---------------------------------------------------------------------------\u001b[0m",
      "\u001b[1;31mKeyError\u001b[0m                                  Traceback (most recent call last)",
      "Cell \u001b[1;32mIn[50], line 2\u001b[0m\n\u001b[0;32m      1\u001b[0m x \u001b[38;5;241m=\u001b[39m {}\n\u001b[1;32m----> 2\u001b[0m x[\u001b[38;5;241m5\u001b[39m] \u001b[38;5;241m+\u001b[39m\u001b[38;5;241m=\u001b[39m \u001b[38;5;241m1\u001b[39m\n",
      "\u001b[1;31mKeyError\u001b[0m: 5"
     ]
    }
   ],
   "source": [
    "x = {}\n",
    "x[5] += 1"
   ]
  },
  {
   "cell_type": "code",
   "execution_count": 60,
   "id": "0a38a7e6-59f2-4282-9ab2-9e1555549255",
   "metadata": {},
   "outputs": [
    {
     "name": "stdout",
     "output_type": "stream",
     "text": [
      "{2: 2.78, 3: 5.55, 4: 8.33, 5: 11.12, 6: 13.88, 7: 16.68, 8: 13.88, 9: 11.11, 10: 8.34, 11: 5.56, 12: 2.78}\n"
     ]
    }
   ],
   "source": [
    "from collections import defaultdict\n",
    "def simulate_two_dice(N):\n",
    "    import random\n",
    "    random.seed(503)\n",
    "    dfdct = defaultdict(int) # int, float = 0, dict = {}, list = [], set\n",
    "    for _ in range(N):\n",
    "        dice1 = random.randint(1,6)\n",
    "        dice2 = random.randint(1,6)\n",
    "        total = dice1 + dice2 \n",
    "        dfdct[total] += 1\n",
    "\n",
    "    sim_p = {}\n",
    "    for total in sorted(dfdct):\n",
    "        count = dfdct[total]\n",
    "        sim_p[total] = round(count/N*100,2)\n",
    "        \n",
    "    print(sim_p)\n",
    "simulate_two_dice(10_000_000)"
   ]
  },
  {
   "cell_type": "code",
   "execution_count": 61,
   "id": "8e234c7b-8730-4c1d-8195-f9ac0c51a72a",
   "metadata": {},
   "outputs": [],
   "source": [
    "A = {0, 2, 4, 6, 8}\n",
    "B = {1, 2, 3, 4, 5}"
   ]
  },
  {
   "cell_type": "code",
   "execution_count": 66,
   "id": "f187e499-952d-4660-9bb4-3c2461207846",
   "metadata": {},
   "outputs": [
    {
     "data": {
      "text/plain": [
       "{0, 2, 4, 6, 8}"
      ]
     },
     "execution_count": 66,
     "metadata": {},
     "output_type": "execute_result"
    }
   ],
   "source": [
    "A = {0, 2, 4, 6, 8, 8.0}\n",
    "A"
   ]
  },
  {
   "cell_type": "code",
   "execution_count": 67,
   "id": "66160885-aafe-49f0-929c-492b4bfa716e",
   "metadata": {},
   "outputs": [
    {
     "data": {
      "text/plain": [
       "True"
      ]
     },
     "execution_count": 67,
     "metadata": {},
     "output_type": "execute_result"
    }
   ],
   "source": [
    "2 in A"
   ]
  },
  {
   "cell_type": "code",
   "execution_count": 70,
   "id": "faf14984-bc85-4042-988e-8eeada2d080d",
   "metadata": {},
   "outputs": [
    {
     "data": {
      "text/plain": [
       "{0, 1, 2, 3, 4, 5, 6, 8}"
      ]
     },
     "execution_count": 70,
     "metadata": {},
     "output_type": "execute_result"
    }
   ],
   "source": [
    "A | B"
   ]
  },
  {
   "cell_type": "code",
   "execution_count": 74,
   "id": "326750ff-220f-4bb7-b1ea-0a7b63d5e7d4",
   "metadata": {},
   "outputs": [],
   "source": [
    "A = {0, 2, 4, 6, 8}\n",
    "B = {1, 2, 3, 4, 5}"
   ]
  },
  {
   "cell_type": "code",
   "execution_count": 75,
   "id": "2e2404b9-c887-4adf-ac4f-007d0787df86",
   "metadata": {},
   "outputs": [
    {
     "data": {
      "text/plain": [
       "{2, 4}"
      ]
     },
     "execution_count": 75,
     "metadata": {},
     "output_type": "execute_result"
    }
   ],
   "source": [
    "A & B"
   ]
  },
  {
   "cell_type": "code",
   "execution_count": 76,
   "id": "fcc905cb-99e7-4177-804b-e48764fe0277",
   "metadata": {},
   "outputs": [
    {
     "data": {
      "text/plain": [
       "{0, 6, 8}"
      ]
     },
     "execution_count": 76,
     "metadata": {},
     "output_type": "execute_result"
    }
   ],
   "source": [
    "A - B"
   ]
  },
  {
   "cell_type": "code",
   "execution_count": 77,
   "id": "b7f3d073-9335-49e3-a6dc-5f96770460af",
   "metadata": {},
   "outputs": [
    {
     "data": {
      "text/plain": [
       "{1, 3, 5}"
      ]
     },
     "execution_count": 77,
     "metadata": {},
     "output_type": "execute_result"
    }
   ],
   "source": [
    "B - A"
   ]
  },
  {
   "cell_type": "code",
   "execution_count": 78,
   "id": "c01440c8-e6b5-41a8-82d9-114b2ae0f800",
   "metadata": {},
   "outputs": [
    {
     "data": {
      "text/plain": [
       "True"
      ]
     },
     "execution_count": 78,
     "metadata": {},
     "output_type": "execute_result"
    }
   ],
   "source": [
    "A = {1, 2, 3, 4, 5}\n",
    "B = {3, 4}\n",
    "B < A"
   ]
  },
  {
   "cell_type": "code",
   "execution_count": 79,
   "id": "82ecd671-bc20-47de-9c13-406387b76315",
   "metadata": {},
   "outputs": [
    {
     "data": {
      "text/plain": [
       "False"
      ]
     },
     "execution_count": 79,
     "metadata": {},
     "output_type": "execute_result"
    }
   ],
   "source": [
    "A = {1, 2, 3, 4, 5}\n",
    "B = {3, 4, 6}\n",
    "B < A"
   ]
  },
  {
   "cell_type": "code",
   "execution_count": 80,
   "id": "68480993-0512-4937-b1a4-6f3bf798e331",
   "metadata": {},
   "outputs": [
    {
     "data": {
      "text/plain": [
       "True"
      ]
     },
     "execution_count": 80,
     "metadata": {},
     "output_type": "execute_result"
    }
   ],
   "source": [
    "A = {1, 2, 3, 4, 5}\n",
    "B = {3, 4}\n",
    "B <= A"
   ]
  },
  {
   "cell_type": "code",
   "execution_count": 81,
   "id": "3e00eac8-8ca2-4240-81e6-bdb9f9a0eacb",
   "metadata": {},
   "outputs": [
    {
     "data": {
      "text/plain": [
       "False"
      ]
     },
     "execution_count": 81,
     "metadata": {},
     "output_type": "execute_result"
    }
   ],
   "source": [
    "A = {1, 2, 3, 4, 5}\n",
    "B = {3, 4}\n",
    "B > A"
   ]
  },
  {
   "cell_type": "code",
   "execution_count": 82,
   "id": "407de019-3f4b-4b04-bdb8-9fb8eac741a9",
   "metadata": {},
   "outputs": [
    {
     "name": "stdout",
     "output_type": "stream",
     "text": [
      "{1, 2, 3, 4, 5, 6}\n"
     ]
    }
   ],
   "source": [
    "A = {1, 2, 3, 4, 5}\n",
    "A.add(6)\n",
    "print(A)"
   ]
  },
  {
   "cell_type": "code",
   "execution_count": 84,
   "id": "569a20b4-35c5-4263-910a-50922ea80f23",
   "metadata": {},
   "outputs": [
    {
     "data": {
      "text/plain": [
       "{1, 2, 3, 4, 5, 6}"
      ]
     },
     "execution_count": 84,
     "metadata": {},
     "output_type": "execute_result"
    }
   ],
   "source": [
    "A.add(6)\n",
    "A"
   ]
  },
  {
   "cell_type": "code",
   "execution_count": null,
   "id": "b018e55b-8ed4-409a-a2d1-b6b1ca1e358f",
   "metadata": {},
   "outputs": [],
   "source": [
    "if value not in unique_values:\n",
    "    unique_values.append(value)"
   ]
  },
  {
   "cell_type": "code",
   "execution_count": 85,
   "id": "b042e378-4a98-4a5a-8b91-418fee3e5089",
   "metadata": {},
   "outputs": [
    {
     "name": "stdout",
     "output_type": "stream",
     "text": [
      "{2, 3, 4, 5}\n"
     ]
    }
   ],
   "source": [
    "A = {1, 2, 3, 4, 5}\n",
    "A.discard(1)\n",
    "print(A)"
   ]
  },
  {
   "cell_type": "code",
   "execution_count": 86,
   "id": "f41e5903-c736-4516-99af-5de6acacb744",
   "metadata": {},
   "outputs": [],
   "source": [
    "A.discard('P')"
   ]
  },
  {
   "cell_type": "code",
   "execution_count": 88,
   "id": "b2a874b6-9534-40e0-a8ae-a553e6090419",
   "metadata": {},
   "outputs": [
    {
     "name": "stdout",
     "output_type": "stream",
     "text": [
      "None\n"
     ]
    }
   ],
   "source": [
    "A = {1, 2, 3, 4, 5}\n",
    "x = A.discard(2)\n",
    "print(x)"
   ]
  },
  {
   "cell_type": "code",
   "execution_count": 90,
   "id": "62a04334-dabf-4b7a-a95c-c0ce282242c8",
   "metadata": {},
   "outputs": [
    {
     "name": "stdout",
     "output_type": "stream",
     "text": [
      "1\n"
     ]
    }
   ],
   "source": [
    "A = {1, 2, 3, 4, 5} \n",
    "x = A.pop()\n",
    "print(x)"
   ]
  },
  {
   "cell_type": "code",
   "execution_count": 91,
   "id": "80e80238-ae44-4f47-91d3-e22a3f1ac07b",
   "metadata": {},
   "outputs": [
    {
     "data": {
      "text/plain": [
       "{'b', 'd'}"
      ]
     },
     "execution_count": 91,
     "metadata": {},
     "output_type": "execute_result"
    }
   ],
   "source": [
    "d1 = dict(a=1, b=2, c=3, d=4)\n",
    "d2 = dict(b=20, d=40, e=50)\n",
    "d1.keys() & d2.keys() # this works because dict.keys() returns \"set-like\" view rather than a list\n"
   ]
  },
  {
   "cell_type": "code",
   "execution_count": 105,
   "id": "ffabc232-c226-4eb4-9cb6-5a2511a4c62b",
   "metadata": {},
   "outputs": [
    {
     "data": {
      "text/plain": [
       "{'dd'}"
      ]
     },
     "execution_count": 105,
     "metadata": {},
     "output_type": "execute_result"
    }
   ],
   "source": [
    "d1 = dict(a=1, b=2, c=3, d=4)\n",
    "{'c', 'd', 'dd'} - d1.keys()"
   ]
  },
  {
   "cell_type": "code",
   "execution_count": 96,
   "id": "1a8ee8af-d4e6-42cf-9017-35a801d64d42",
   "metadata": {},
   "outputs": [
    {
     "name": "stdout",
     "output_type": "stream",
     "text": [
      "{'last_name': 'Stewart', 'first_name': 'David', 'email': 'bennettwanda@vega-guerra.net', 'country': 'Sierra Leone', 'account': 'FTHM1005169617995'}\n"
     ]
    }
   ],
   "source": [
    "x = {'last_name': 'Stewart', 'first_name': 'David', 'email': 'bennettwanda@vega-guerra.net', 'country': 'Sierra Leone', 'account': 'FTHM1005169617995'}\n",
    "print(x)"
   ]
  },
  {
   "cell_type": "code",
   "execution_count": 99,
   "id": "b1d2228f-9ed6-4fd7-a0d7-a49de01e407f",
   "metadata": {},
   "outputs": [
    {
     "name": "stdout",
     "output_type": "stream",
     "text": [
      "{'email', 'account', 'last_name', 'first_name', 'country'}\n"
     ]
    }
   ],
   "source": [
    "h_set = set(header)\n",
    "print(h_set_\n"
   ]
  },
  {
   "cell_type": "code",
   "execution_count": 100,
   "id": "2507a9d8-7a79-499f-b75b-e32b1c85367f",
   "metadata": {},
   "outputs": [
    {
     "data": {
      "text/plain": [
       "True"
      ]
     },
     "execution_count": 100,
     "metadata": {},
     "output_type": "execute_result"
    }
   ],
   "source": [
    "x.keys() == h_set"
   ]
  },
  {
   "cell_type": "code",
   "execution_count": 102,
   "id": "740f8b14-2abd-4ded-8650-54702e9b26b7",
   "metadata": {},
   "outputs": [],
   "source": [
    "del x['last_name']"
   ]
  },
  {
   "cell_type": "code",
   "execution_count": 103,
   "id": "67bd5162-c68f-4cdd-8ef2-39c619369ee8",
   "metadata": {},
   "outputs": [
    {
     "data": {
      "text/plain": [
       "{'first_name': 'David',\n",
       " 'email': 'bennettwanda@vega-guerra.net',\n",
       " 'country': 'Sierra Leone',\n",
       " 'account': 'FTHM1005169617995'}"
      ]
     },
     "execution_count": 103,
     "metadata": {},
     "output_type": "execute_result"
    }
   ],
   "source": [
    "x"
   ]
  },
  {
   "cell_type": "code",
   "execution_count": 104,
   "id": "1376ebac-4bb2-4da0-bece-4fc49e6c8f76",
   "metadata": {},
   "outputs": [
    {
     "data": {
      "text/plain": [
       "False"
      ]
     },
     "execution_count": 104,
     "metadata": {},
     "output_type": "execute_result"
    }
   ],
   "source": [
    "x.keys() == h_set"
   ]
  },
  {
   "cell_type": "code",
   "execution_count": 107,
   "id": "53ea3be7-f98a-4356-a5cc-03d8d3bd3ec3",
   "metadata": {},
   "outputs": [],
   "source": [
    "l1 = {ele.strip() for ele in open('gene_list1.txt').readlines()}\n",
    "l2 = {ele.strip() for ele in open('gene_list2.txt').readlines()}\n"
   ]
  },
  {
   "cell_type": "code",
   "execution_count": 109,
   "id": "9170ab38-e44c-49a2-b4da-3264334b8ca4",
   "metadata": {},
   "outputs": [
    {
     "data": {
      "text/plain": [
       "185"
      ]
     },
     "execution_count": 109,
     "metadata": {},
     "output_type": "execute_result"
    }
   ],
   "source": [
    "len(l1-l2) # A only"
   ]
  },
  {
   "cell_type": "code",
   "execution_count": 111,
   "id": "18ce3e62-ec9a-482a-8038-4d46fac2f6e7",
   "metadata": {},
   "outputs": [
    {
     "data": {
      "text/plain": [
       "58"
      ]
     },
     "execution_count": 111,
     "metadata": {},
     "output_type": "execute_result"
    }
   ],
   "source": [
    "len(l1&l2) # A & Bonly"
   ]
  },
  {
   "cell_type": "code",
   "execution_count": 112,
   "id": "9bc58337-403a-439b-a715-000cfafb5c3d",
   "metadata": {},
   "outputs": [
    {
     "data": {
      "text/plain": [
       "143"
      ]
     },
     "execution_count": 112,
     "metadata": {},
     "output_type": "execute_result"
    }
   ],
   "source": [
    "len(l2-l1) # A & Bonly"
   ]
  },
  {
   "cell_type": "code",
   "execution_count": 115,
   "id": "83e44357-6220-495e-a1c0-8412de579cb4",
   "metadata": {},
   "outputs": [
    {
     "data": {
      "text/plain": [
       "386"
      ]
     },
     "execution_count": 115,
     "metadata": {},
     "output_type": "execute_result"
    }
   ],
   "source": [
    "185 + 143 + 58"
   ]
  },
  {
   "cell_type": "code",
   "execution_count": 114,
   "id": "4e48d7cf-ae7f-4a5b-9c3a-7acad0b887a3",
   "metadata": {},
   "outputs": [
    {
     "data": {
      "text/plain": [
       "386"
      ]
     },
     "execution_count": 114,
     "metadata": {},
     "output_type": "execute_result"
    }
   ],
   "source": [
    "len(l1|l2)"
   ]
  },
  {
   "cell_type": "code",
   "execution_count": 116,
   "id": "42baa739-7006-47c4-ac09-b18692a3aba4",
   "metadata": {},
   "outputs": [
    {
     "data": {
      "text/plain": [
       "{1, 2, 3}"
      ]
     },
     "execution_count": 116,
     "metadata": {},
     "output_type": "execute_result"
    }
   ],
   "source": [
    "x = [1, 1, 3, 3, 2, 3]\n",
    "set(x)"
   ]
  },
  {
   "cell_type": "code",
   "execution_count": 117,
   "id": "52b8cab4-b6fd-41fa-aab8-7a87f13e7095",
   "metadata": {},
   "outputs": [
    {
     "data": {
      "text/plain": [
       "{5: 1, '5': 1, frozenset({1, 2}): 1}"
      ]
     },
     "execution_count": 117,
     "metadata": {},
     "output_type": "execute_result"
    }
   ],
   "source": [
    "# dict\n",
    "# immutable - int, floats, str, tuple, frozenset\n",
    "# mutable - list, dict\n",
    "\n",
    "{5: 1, 5.0: 1, '5': 1, frozenset([1,2,2]): 1}"
   ]
  },
  {
   "cell_type": "code",
   "execution_count": 118,
   "id": "27159c9f-e482-4a61-942e-7df9885e6b17",
   "metadata": {},
   "outputs": [
    {
     "ename": "TypeError",
     "evalue": "unhashable type: 'list'",
     "output_type": "error",
     "traceback": [
      "\u001b[1;31m---------------------------------------------------------------------------\u001b[0m",
      "\u001b[1;31mTypeError\u001b[0m                                 Traceback (most recent call last)",
      "Cell \u001b[1;32mIn[118], line 1\u001b[0m\n\u001b[1;32m----> 1\u001b[0m {[\u001b[38;5;241m1\u001b[39m,\u001b[38;5;241m2\u001b[39m,\u001b[38;5;241m2\u001b[39m]: \u001b[38;5;241m1\u001b[39m}\n",
      "\u001b[1;31mTypeError\u001b[0m: unhashable type: 'list'"
     ]
    }
   ],
   "source": [
    "{[1,2,2]: 1}"
   ]
  },
  {
   "cell_type": "code",
   "execution_count": null,
   "id": "dfa5a3c9-40e7-4670-9736-fd288040fb80",
   "metadata": {},
   "outputs": [],
   "source": [
    "# list O(N)\n",
    "# tuple O(N)\n",
    "# dict O(1)\n",
    "# set O(1)"
   ]
  },
  {
   "cell_type": "code",
   "execution_count": 120,
   "id": "381f8dcb-1af3-42a5-bff3-7d57b1f9e253",
   "metadata": {},
   "outputs": [
    {
     "data": {
      "text/plain": [
       "[4, 9, 16]"
      ]
     },
     "execution_count": 120,
     "metadata": {},
     "output_type": "execute_result"
    }
   ],
   "source": [
    "my_list = [2, 3, 4]\n",
    "list(map(lambda ele: ele*ele, my_list))"
   ]
  }
 ],
 "metadata": {
  "kernelspec": {
   "display_name": "Python 3 (ipykernel)",
   "language": "python",
   "name": "python3"
  },
  "language_info": {
   "codemirror_mode": {
    "name": "ipython",
    "version": 3
   },
   "file_extension": ".py",
   "mimetype": "text/x-python",
   "name": "python",
   "nbconvert_exporter": "python",
   "pygments_lexer": "ipython3",
   "version": "3.9.18"
  }
 },
 "nbformat": 4,
 "nbformat_minor": 5
}
