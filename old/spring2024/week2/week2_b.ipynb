{
 "cells": [
  {
   "cell_type": "code",
   "execution_count": 1,
   "id": "fc40ac4a-2ff4-49fc-b398-59647c40857b",
   "metadata": {},
   "outputs": [
    {
     "ename": "NameError",
     "evalue": "name 'blah' is not defined",
     "output_type": "error",
     "traceback": [
      "\u001b[1;31m---------------------------------------------------------------------------\u001b[0m",
      "\u001b[1;31mNameError\u001b[0m                                 Traceback (most recent call last)",
      "Cell \u001b[1;32mIn[1], line 1\u001b[0m\n\u001b[1;32m----> 1\u001b[0m \u001b[38;5;241m2\u001b[39m \u001b[38;5;241m+\u001b[39m \u001b[43mblah\u001b[49m\n",
      "\u001b[1;31mNameError\u001b[0m: name 'blah' is not defined"
     ]
    }
   ],
   "source": [
    "2 + blah"
   ]
  },
  {
   "cell_type": "code",
   "execution_count": 2,
   "id": "b4692a41-3d41-4254-ab49-a73bebd2f1ac",
   "metadata": {},
   "outputs": [
    {
     "ename": "NameError",
     "evalue": "name 'blah' is not defined",
     "output_type": "error",
     "traceback": [
      "\u001b[1;31m---------------------------------------------------------------------------\u001b[0m",
      "\u001b[1;31mNameError\u001b[0m                                 Traceback (most recent call last)",
      "Cell \u001b[1;32mIn[2], line 1\u001b[0m\n\u001b[1;32m----> 1\u001b[0m \u001b[43mblah\u001b[49m \u001b[38;5;241m+\u001b[39m \u001b[38;5;241m2\u001b[39m\n",
      "\u001b[1;31mNameError\u001b[0m: name 'blah' is not defined"
     ]
    }
   ],
   "source": [
    "blah + 2"
   ]
  },
  {
   "cell_type": "code",
   "execution_count": null,
   "id": "626695b9-2f3a-4f9e-a607-4ae6a78ddb07",
   "metadata": {},
   "outputs": [],
   "source": []
  },
  {
   "cell_type": "code",
   "execution_count": null,
   "id": "932ace17-2ca4-4cc3-bfd8-5d5070343a7b",
   "metadata": {},
   "outputs": [],
   "source": [
    "1000000234234000"
   ]
  },
  {
   "cell_type": "code",
   "execution_count": 4,
   "id": "19eb7c55-3ca5-4913-9037-94df321706f2",
   "metadata": {},
   "outputs": [
    {
     "data": {
      "text/plain": [
       "(1000000234, 234, 0)"
      ]
     },
     "execution_count": 4,
     "metadata": {},
     "output_type": "execute_result"
    }
   ],
   "source": [
    "1000000234,234,000"
   ]
  },
  {
   "cell_type": "code",
   "execution_count": 5,
   "id": "23da1055-c020-4a9c-a18f-a577367684fc",
   "metadata": {},
   "outputs": [
    {
     "data": {
      "text/plain": [
       "1000000234234000"
      ]
     },
     "execution_count": 5,
     "metadata": {},
     "output_type": "execute_result"
    }
   ],
   "source": [
    "1_000_000_234_234_000"
   ]
  },
  {
   "cell_type": "code",
   "execution_count": 6,
   "id": "2d2184bd-9f2c-43ae-bc48-050389ae2997",
   "metadata": {},
   "outputs": [
    {
     "data": {
      "text/plain": [
       "482.34909"
      ]
     },
     "execution_count": 6,
     "metadata": {},
     "output_type": "execute_result"
    }
   ],
   "source": [
    "482349090 / 1_000_000"
   ]
  },
  {
   "cell_type": "code",
   "execution_count": 7,
   "id": "8bd92f15-0f9f-499c-a6ae-52ede743d665",
   "metadata": {},
   "outputs": [
    {
     "data": {
      "text/plain": [
       "19"
      ]
     },
     "execution_count": 7,
     "metadata": {},
     "output_type": "execute_result"
    }
   ],
   "source": [
    "abs(-19)"
   ]
  },
  {
   "cell_type": "code",
   "execution_count": 8,
   "id": "d47cc71d-1920-47af-a7ce-ffa17e1048e1",
   "metadata": {},
   "outputs": [],
   "source": [
    "abs = 5"
   ]
  },
  {
   "cell_type": "code",
   "execution_count": 9,
   "id": "38dc2d22-998b-4ef9-b685-0f87722fd8bf",
   "metadata": {},
   "outputs": [
    {
     "data": {
      "text/plain": [
       "6"
      ]
     },
     "execution_count": 9,
     "metadata": {},
     "output_type": "execute_result"
    }
   ],
   "source": [
    "abs + 1"
   ]
  },
  {
   "cell_type": "code",
   "execution_count": 10,
   "id": "162cf5e3-a73c-451c-9003-e5b0771da168",
   "metadata": {},
   "outputs": [
    {
     "ename": "TypeError",
     "evalue": "'int' object is not callable",
     "output_type": "error",
     "traceback": [
      "\u001b[1;31m---------------------------------------------------------------------------\u001b[0m",
      "\u001b[1;31mTypeError\u001b[0m                                 Traceback (most recent call last)",
      "Cell \u001b[1;32mIn[10], line 1\u001b[0m\n\u001b[1;32m----> 1\u001b[0m \u001b[38;5;28;43mabs\u001b[39;49m\u001b[43m(\u001b[49m\u001b[38;5;241;43m-\u001b[39;49m\u001b[38;5;241;43m10\u001b[39;49m\u001b[43m)\u001b[49m\n",
      "\u001b[1;31mTypeError\u001b[0m: 'int' object is not callable"
     ]
    }
   ],
   "source": [
    "abs(-10)"
   ]
  },
  {
   "cell_type": "code",
   "execution_count": 11,
   "id": "4e4240cf-8487-4155-9956-91b13ef34ab4",
   "metadata": {},
   "outputs": [
    {
     "name": "stderr",
     "output_type": "stream",
     "text": [
      "<>:1: SyntaxWarning: 'int' object is not callable; perhaps you missed a comma?\n",
      "<>:1: SyntaxWarning: 'int' object is not callable; perhaps you missed a comma?\n",
      "C:\\Users\\mkhaw\\AppData\\Local\\Temp\\ipykernel_17088\\1706316036.py:1: SyntaxWarning: 'int' object is not callable; perhaps you missed a comma?\n",
      "  6()\n",
      "C:\\Users\\mkhaw\\AppData\\Local\\Temp\\ipykernel_17088\\1706316036.py:1: SyntaxWarning: 'int' object is not callable; perhaps you missed a comma?\n",
      "  6()\n",
      "C:\\Users\\mkhaw\\AppData\\Local\\Temp\\ipykernel_17088\\1706316036.py:1: SyntaxWarning: 'int' object is not callable; perhaps you missed a comma?\n",
      "  6()\n"
     ]
    },
    {
     "ename": "TypeError",
     "evalue": "'int' object is not callable",
     "output_type": "error",
     "traceback": [
      "\u001b[1;31m---------------------------------------------------------------------------\u001b[0m",
      "\u001b[1;31mTypeError\u001b[0m                                 Traceback (most recent call last)",
      "Cell \u001b[1;32mIn[11], line 1\u001b[0m\n\u001b[1;32m----> 1\u001b[0m \u001b[38;5;241;43m6\u001b[39;49m\u001b[43m(\u001b[49m\u001b[43m)\u001b[49m\n",
      "\u001b[1;31mTypeError\u001b[0m: 'int' object is not callable"
     ]
    }
   ],
   "source": [
    "6()"
   ]
  },
  {
   "cell_type": "code",
   "execution_count": 12,
   "id": "891d14ee-c96f-41e6-bc4e-cbd3bbd942f5",
   "metadata": {},
   "outputs": [],
   "source": [
    "del abs"
   ]
  },
  {
   "cell_type": "code",
   "execution_count": 13,
   "id": "42d4a5c0-a47d-49e2-a77a-14e7bc50ab2d",
   "metadata": {},
   "outputs": [
    {
     "ename": "SyntaxError",
     "evalue": "invalid syntax (1581800738.py, line 1)",
     "output_type": "error",
     "traceback": [
      "\u001b[1;36m  Cell \u001b[1;32mIn[13], line 1\u001b[1;36m\u001b[0m\n\u001b[1;33m    del = 3\u001b[0m\n\u001b[1;37m        ^\u001b[0m\n\u001b[1;31mSyntaxError\u001b[0m\u001b[1;31m:\u001b[0m invalid syntax\n"
     ]
    }
   ],
   "source": [
    "del = 3"
   ]
  },
  {
   "cell_type": "code",
   "execution_count": 14,
   "id": "5af9446b-375b-4c18-a4f3-044012226a45",
   "metadata": {},
   "outputs": [
    {
     "ename": "NameError",
     "evalue": "name 'x' is not defined",
     "output_type": "error",
     "traceback": [
      "\u001b[1;31m---------------------------------------------------------------------------\u001b[0m",
      "\u001b[1;31mNameError\u001b[0m                                 Traceback (most recent call last)",
      "Cell \u001b[1;32mIn[14], line 1\u001b[0m\n\u001b[1;32m----> 1\u001b[0m x \u001b[38;5;241m=\u001b[39m \u001b[43mx\u001b[49m \u001b[38;5;241m+\u001b[39m \u001b[38;5;241m1\u001b[39m\n\u001b[0;32m      2\u001b[0m x \u001b[38;5;241m+\u001b[39m\u001b[38;5;241m=\u001b[39m \u001b[38;5;241m1\u001b[39m\n",
      "\u001b[1;31mNameError\u001b[0m: name 'x' is not defined"
     ]
    }
   ],
   "source": [
    "x = x + 1\n",
    "x += 1"
   ]
  },
  {
   "cell_type": "code",
   "execution_count": 15,
   "id": "dfd1334d-b40c-434c-af5b-13b2d723c509",
   "metadata": {},
   "outputs": [
    {
     "data": {
      "text/plain": [
       "4"
      ]
     },
     "execution_count": 15,
     "metadata": {},
     "output_type": "execute_result"
    }
   ],
   "source": [
    "round(3.67)"
   ]
  },
  {
   "cell_type": "code",
   "execution_count": 16,
   "id": "4f3797e6-ea54-45c2-b385-e83acea68eef",
   "metadata": {},
   "outputs": [
    {
     "data": {
      "text/plain": [
       "3"
      ]
     },
     "execution_count": 16,
     "metadata": {},
     "output_type": "execute_result"
    }
   ],
   "source": [
    "round(3.1415)"
   ]
  },
  {
   "cell_type": "code",
   "execution_count": 17,
   "id": "d19cf01e-92e6-4fa8-98b7-9b2d40750d8d",
   "metadata": {},
   "outputs": [
    {
     "data": {
      "text/plain": [
       "3.14"
      ]
     },
     "execution_count": 17,
     "metadata": {},
     "output_type": "execute_result"
    }
   ],
   "source": [
    "round(3.1415,2)"
   ]
  },
  {
   "cell_type": "code",
   "execution_count": 19,
   "id": "677ccaa4-2ab7-4098-84da-fa79f51c986d",
   "metadata": {},
   "outputs": [
    {
     "data": {
      "text/plain": [
       "3.6723"
      ]
     },
     "execution_count": 19,
     "metadata": {},
     "output_type": "execute_result"
    }
   ],
   "source": [
    "round(3.67234234,4)"
   ]
  },
  {
   "cell_type": "code",
   "execution_count": 20,
   "id": "413c1fe2-e16c-4795-b5fa-6ed374772e2a",
   "metadata": {},
   "outputs": [
    {
     "data": {
      "text/plain": [
       "4"
      ]
     },
     "execution_count": 20,
     "metadata": {},
     "output_type": "execute_result"
    }
   ],
   "source": [
    "round(4.5)"
   ]
  },
  {
   "cell_type": "code",
   "execution_count": 21,
   "id": "ff6fb1c8-c149-4bac-b860-99c609e53550",
   "metadata": {},
   "outputs": [
    {
     "data": {
      "text/plain": [
       "4"
      ]
     },
     "execution_count": 21,
     "metadata": {},
     "output_type": "execute_result"
    }
   ],
   "source": [
    "round(3.5)"
   ]
  },
  {
   "cell_type": "code",
   "execution_count": 23,
   "id": "ff0bb3c6-0046-441b-a28e-3af4c20d47ef",
   "metadata": {},
   "outputs": [
    {
     "data": {
      "text/plain": [
       "2.67"
      ]
     },
     "execution_count": 23,
     "metadata": {},
     "output_type": "execute_result"
    }
   ],
   "source": [
    "round(2.675, 2)"
   ]
  },
  {
   "cell_type": "code",
   "execution_count": null,
   "id": "555df738-175a-42e2-9b98-6e77a1b09c54",
   "metadata": {},
   "outputs": [],
   "source": [
    "3.5"
   ]
  },
  {
   "cell_type": "code",
   "execution_count": 25,
   "id": "e377c2cd-9265-4b1b-9100-7cf00b2c7b38",
   "metadata": {},
   "outputs": [
    {
     "name": "stdout",
     "output_type": "stream",
     "text": [
      "4.5\n"
     ]
    }
   ],
   "source": [
    "import decimal\n",
    "print(decimal.Decimal(4.5))"
   ]
  },
  {
   "cell_type": "code",
   "execution_count": 26,
   "id": "98c8b2d3-fc17-4240-99c0-d43013436b68",
   "metadata": {},
   "outputs": [
    {
     "name": "stdout",
     "output_type": "stream",
     "text": [
      "2.67499999999999982236431605997495353221893310546875\n"
     ]
    }
   ],
   "source": [
    "print(decimal.Decimal(2.675))"
   ]
  },
  {
   "cell_type": "code",
   "execution_count": 27,
   "id": "a9f00429-cd2f-459b-9c50-8bed74ff59f3",
   "metadata": {},
   "outputs": [
    {
     "name": "stdout",
     "output_type": "stream",
     "text": [
      "2.685000000000000053290705182007513940334320068359375\n"
     ]
    }
   ],
   "source": [
    "print(decimal.Decimal(2.685))"
   ]
  },
  {
   "cell_type": "code",
   "execution_count": 29,
   "id": "c89fadfe-0885-4a70-af89-4dbdec92ec77",
   "metadata": {},
   "outputs": [
    {
     "data": {
      "text/plain": [
       "2.69"
      ]
     },
     "execution_count": 29,
     "metadata": {},
     "output_type": "execute_result"
    }
   ],
   "source": [
    "round(2.685, 2)"
   ]
  },
  {
   "cell_type": "code",
   "execution_count": 30,
   "id": "8ce54a8c-1c09-41ca-b629-4c497019a894",
   "metadata": {},
   "outputs": [
    {
     "data": {
      "text/plain": [
       "4"
      ]
     },
     "execution_count": 30,
     "metadata": {},
     "output_type": "execute_result"
    }
   ],
   "source": [
    "import math\n",
    "\n",
    "math.ceil(3.1434)"
   ]
  },
  {
   "cell_type": "code",
   "execution_count": 31,
   "id": "451a0a14-5617-426f-bb48-e9151a43754c",
   "metadata": {},
   "outputs": [
    {
     "data": {
      "text/plain": [
       "3"
      ]
     },
     "execution_count": 31,
     "metadata": {},
     "output_type": "execute_result"
    }
   ],
   "source": [
    "math.floor(3.1434)"
   ]
  },
  {
   "cell_type": "code",
   "execution_count": 32,
   "id": "f08aa1d7-b233-4f24-9dc9-c0df96abc47b",
   "metadata": {},
   "outputs": [],
   "source": [
    "x = math.ceil(3.1434)"
   ]
  },
  {
   "cell_type": "code",
   "execution_count": 33,
   "id": "510c3aa2-3a0f-4018-be94-7e9e7db9c402",
   "metadata": {},
   "outputs": [
    {
     "data": {
      "text/plain": [
       "int"
      ]
     },
     "execution_count": 33,
     "metadata": {},
     "output_type": "execute_result"
    }
   ],
   "source": [
    "type(x)"
   ]
  },
  {
   "cell_type": "code",
   "execution_count": 35,
   "id": "213fe216-c6c7-4b6d-a03e-31120e14e42f",
   "metadata": {},
   "outputs": [
    {
     "data": {
      "text/plain": [
       "int"
      ]
     },
     "execution_count": 35,
     "metadata": {},
     "output_type": "execute_result"
    }
   ],
   "source": [
    "type( round(3.14))"
   ]
  },
  {
   "cell_type": "code",
   "execution_count": 37,
   "id": "f067ebd7-a063-48df-8af1-6cef6a7ab2ab",
   "metadata": {},
   "outputs": [
    {
     "ename": "TypeError",
     "evalue": "math.ceil() takes exactly one argument (2 given)",
     "output_type": "error",
     "traceback": [
      "\u001b[1;31m---------------------------------------------------------------------------\u001b[0m",
      "\u001b[1;31mTypeError\u001b[0m                                 Traceback (most recent call last)",
      "Cell \u001b[1;32mIn[37], line 1\u001b[0m\n\u001b[1;32m----> 1\u001b[0m \u001b[43mmath\u001b[49m\u001b[38;5;241;43m.\u001b[39;49m\u001b[43mceil\u001b[49m\u001b[43m(\u001b[49m\u001b[38;5;241;43m3.124324234\u001b[39;49m\u001b[43m,\u001b[49m\u001b[43m \u001b[49m\u001b[38;5;241;43m3\u001b[39;49m\u001b[43m)\u001b[49m\n",
      "\u001b[1;31mTypeError\u001b[0m: math.ceil() takes exactly one argument (2 given)"
     ]
    }
   ],
   "source": [
    "math.ceil(3.124324234, 3)"
   ]
  },
  {
   "cell_type": "code",
   "execution_count": 38,
   "id": "7e4967c7-32a3-493b-a867-94fb70b3292b",
   "metadata": {},
   "outputs": [
    {
     "data": {
      "text/plain": [
       "3.124"
      ]
     },
     "execution_count": 38,
     "metadata": {},
     "output_type": "execute_result"
    }
   ],
   "source": [
    "round(3.124324324, 3)"
   ]
  },
  {
   "cell_type": "code",
   "execution_count": 39,
   "id": "55abcd10-283e-4078-ad0f-53338e6cdbad",
   "metadata": {},
   "outputs": [
    {
     "data": {
      "text/plain": [
       "3.125"
      ]
     },
     "execution_count": 39,
     "metadata": {},
     "output_type": "execute_result"
    }
   ],
   "source": [
    "round(3.124924324, 3)"
   ]
  },
  {
   "cell_type": "code",
   "execution_count": 42,
   "id": "c5bbd54c-0d6a-44bc-8a77-bc5178ea2a0a",
   "metadata": {},
   "outputs": [
    {
     "data": {
      "text/plain": [
       "3.124"
      ]
     },
     "execution_count": 42,
     "metadata": {},
     "output_type": "execute_result"
    }
   ],
   "source": [
    "int(3.124924324*1000)/1000"
   ]
  },
  {
   "cell_type": "code",
   "execution_count": 43,
   "id": "50148ca5-4f75-4b8d-a0d3-c0361f8538db",
   "metadata": {},
   "outputs": [
    {
     "data": {
      "text/plain": [
       "8"
      ]
     },
     "execution_count": 43,
     "metadata": {},
     "output_type": "execute_result"
    }
   ],
   "source": [
    "pow(2,3)"
   ]
  },
  {
   "cell_type": "code",
   "execution_count": 44,
   "id": "8c0d41fb-69ab-4679-9aac-ac3237e01c3c",
   "metadata": {},
   "outputs": [
    {
     "data": {
      "text/plain": [
       "0"
      ]
     },
     "execution_count": 44,
     "metadata": {},
     "output_type": "execute_result"
    }
   ],
   "source": [
    "pow(2,3,2)"
   ]
  },
  {
   "cell_type": "code",
   "execution_count": 46,
   "id": "5bb860ce-f587-4bc8-b5d6-c46e69cd11f8",
   "metadata": {},
   "outputs": [
    {
     "data": {
      "text/plain": [
       "8"
      ]
     },
     "execution_count": 46,
     "metadata": {},
     "output_type": "execute_result"
    }
   ],
   "source": [
    "base = 2\n",
    "exp = 8\n",
    "mod = 2\n",
    "\n",
    "pow(2,3) # base ** exp"
   ]
  },
  {
   "cell_type": "code",
   "execution_count": 48,
   "id": "aef04b70-b41a-4b87-94c9-75b1e16e2871",
   "metadata": {},
   "outputs": [
    {
     "data": {
      "text/plain": [
       "0"
      ]
     },
     "execution_count": 48,
     "metadata": {},
     "output_type": "execute_result"
    }
   ],
   "source": [
    "pow(2,3,2) # (base ** exp) % mod ==> (2 ** 3) % 2 ==> 0"
   ]
  },
  {
   "cell_type": "code",
   "execution_count": 49,
   "id": "f38a2b3c-48e0-4b1a-af50-92f6ca4372ed",
   "metadata": {},
   "outputs": [
    {
     "data": {
      "text/plain": [
       "11"
      ]
     },
     "execution_count": 49,
     "metadata": {},
     "output_type": "execute_result"
    }
   ],
   "source": [
    "min(23, 2342,11, 34)"
   ]
  },
  {
   "cell_type": "code",
   "execution_count": 50,
   "id": "9e8a6ac6-278c-4f9e-b643-e55afeba873f",
   "metadata": {},
   "outputs": [
    {
     "data": {
      "text/plain": [
       "4"
      ]
     },
     "execution_count": 50,
     "metadata": {},
     "output_type": "execute_result"
    }
   ],
   "source": [
    "max(2, -3, min(4, 7), -5)"
   ]
  },
  {
   "cell_type": "code",
   "execution_count": 52,
   "id": "3b6efcf6-d358-4439-81e8-c8c0f671cf3e",
   "metadata": {},
   "outputs": [
    {
     "data": {
      "text/plain": [
       "2"
      ]
     },
     "execution_count": 52,
     "metadata": {},
     "output_type": "execute_result"
    }
   ],
   "source": [
    "max(2, -3, base**exp%mod, -5)"
   ]
  },
  {
   "cell_type": "code",
   "execution_count": 60,
   "id": "db69cdec-7c4e-42b6-b663-36b21ee69197",
   "metadata": {},
   "outputs": [],
   "source": [
    "def f(x):\n",
    "    squared_x  = x * x\n",
    "    # return squared_x\n",
    "\n"
   ]
  },
  {
   "cell_type": "code",
   "execution_count": 54,
   "id": "5262de46-c4c0-41cc-8b8a-30c95942e63b",
   "metadata": {},
   "outputs": [
    {
     "ename": "TypeError",
     "evalue": "f() missing 1 required positional argument: 'x'",
     "output_type": "error",
     "traceback": [
      "\u001b[1;31m---------------------------------------------------------------------------\u001b[0m",
      "\u001b[1;31mTypeError\u001b[0m                                 Traceback (most recent call last)",
      "Cell \u001b[1;32mIn[54], line 1\u001b[0m\n\u001b[1;32m----> 1\u001b[0m \u001b[43mf\u001b[49m\u001b[43m(\u001b[49m\u001b[43m)\u001b[49m\n",
      "\u001b[1;31mTypeError\u001b[0m: f() missing 1 required positional argument: 'x'"
     ]
    }
   ],
   "source": [
    "f()"
   ]
  },
  {
   "cell_type": "code",
   "execution_count": 61,
   "id": "a4587139-4698-4147-8fb5-a0701fcb2b06",
   "metadata": {},
   "outputs": [
    {
     "name": "stdout",
     "output_type": "stream",
     "text": [
      "None\n"
     ]
    }
   ],
   "source": [
    "x = f(15)\n",
    "print(x)"
   ]
  },
  {
   "cell_type": "code",
   "execution_count": 62,
   "id": "198c1fe2-5bc0-4132-9feb-59200fa29058",
   "metadata": {},
   "outputs": [
    {
     "name": "stdout",
     "output_type": "stream",
     "text": [
      "16\n"
     ]
    }
   ],
   "source": [
    "def f(x):\n",
    "    squared_x  = x * x\n",
    "    print(squared_x)\n",
    "    # return squared_x\n",
    "x = f(4)\n"
   ]
  },
  {
   "cell_type": "code",
   "execution_count": null,
   "id": "ad378c56-2ad2-4d75-85ae-57ca8901cea6",
   "metadata": {},
   "outputs": [],
   "source": [
    "def f(x):\n",
    "    squared_x  = x * x\n",
    "    print(squared_x)\n",
    "    # return squared_x\n",
    "x = f(4)\n"
   ]
  },
  {
   "cell_type": "code",
   "execution_count": 69,
   "id": "b09a8b88-b0c3-4ebd-9d5e-022c5077800b",
   "metadata": {},
   "outputs": [],
   "source": [
    "def f(x):\n",
    "    squared_x  = x * x\n",
    "    # print(squared_x)\n",
    "    return squared_x\n",
    "x = f(4)\n"
   ]
  },
  {
   "cell_type": "code",
   "execution_count": 63,
   "id": "e5ccf3ed-caab-4187-b56a-27c3bf15b608",
   "metadata": {},
   "outputs": [
    {
     "name": "stdout",
     "output_type": "stream",
     "text": [
      "None\n"
     ]
    }
   ],
   "source": [
    "print(x)"
   ]
  },
  {
   "cell_type": "code",
   "execution_count": 66,
   "id": "b57f130c-8c1c-4972-84f9-1f7f0dbc5cde",
   "metadata": {},
   "outputs": [
    {
     "name": "stdout",
     "output_type": "stream",
     "text": [
      "None\n"
     ]
    }
   ],
   "source": [
    "def f(x): # defines a function called f which takes in input called x. \n",
    "    squared_x  = x * x # x = 3, 9\n",
    "    # return squared_x # by default python returns the none datatype if you do not explicity use return\n",
    "#-----------------------------------------\n",
    "\n",
    "y = f(3)\n",
    "print(y)\n"
   ]
  },
  {
   "cell_type": "code",
   "execution_count": 78,
   "id": "686856e9-dfcd-4007-b41b-7ae3beb524ed",
   "metadata": {},
   "outputs": [
    {
     "name": "stdout",
     "output_type": "stream",
     "text": [
      "45\n"
     ]
    },
    {
     "data": {
      "text/plain": [
       "100"
      ]
     },
     "execution_count": 78,
     "metadata": {},
     "output_type": "execute_result"
    }
   ],
   "source": [
    "1\n",
    "2\n",
    "31\n",
    "2\n",
    "3\n",
    "3 * 3\n",
    "print(45)\n",
    "\n",
    "def f(x):\n",
    "    return x * x\n",
    "\n",
    "f(10)\n"
   ]
  },
  {
   "cell_type": "code",
   "execution_count": 79,
   "id": "52283be0-74f4-4b82-907c-1737dfba482d",
   "metadata": {},
   "outputs": [
    {
     "name": "stdout",
     "output_type": "stream",
     "text": [
      "45\n"
     ]
    }
   ],
   "source": [
    "1\n",
    "2\n",
    "31\n",
    "2\n",
    "3\n",
    "3 * 3\n",
    "print(45)\n",
    "\n",
    "def f(x):\n",
    "    return x * x\n",
    "\n",
    "x = f(10)\n"
   ]
  },
  {
   "cell_type": "code",
   "execution_count": 82,
   "id": "5f77d440-816a-408e-b50f-013ab8ae94fe",
   "metadata": {},
   "outputs": [
    {
     "name": "stdout",
     "output_type": "stream",
     "text": [
      "45\n"
     ]
    }
   ],
   "source": [
    "1\n",
    "2\n",
    "31\n",
    "2\n",
    "3\n",
    "3 * 3\n",
    "print(45)\n",
    "\n",
    "def f(x):\n",
    "    pass\n",
    "    # return x * x\n",
    "\n",
    "f(10)\n"
   ]
  },
  {
   "cell_type": "raw",
   "id": "b41cb6a3-c069-44ce-aeee-6ff08964c4b2",
   "metadata": {},
   "source": [
    "1\n",
    "2\n",
    "31\n",
    "2\n",
    "3\n",
    "3 * 3\n",
    "print(45)\n",
    "\n",
    "def f(x):\n",
    "    pass\n",
    "    # return x * x\n",
    "\n",
    "x = f(10)\n",
    "print(x)"
   ]
  },
  {
   "cell_type": "raw",
   "id": "77ad708c-9b4f-4df6-a11f-510130d25dcd",
   "metadata": {},
   "source": [
    "_____________________________\n",
    "Happy birthday to you!!!\n",
    "Happy birthday to you!!!\n",
    "Happy birthday, dear John\n",
    "Happy birthday to you!\n",
    "Happy birthday to you!\n",
    "______________________________"
   ]
  },
  {
   "cell_type": "code",
   "execution_count": 86,
   "id": "c2f09d6f-4af4-4464-8e83-fca8829da718",
   "metadata": {},
   "outputs": [
    {
     "name": "stdout",
     "output_type": "stream",
     "text": [
      "Happy birthday to you!!!\n",
      "Happy birthday to you!!!\n",
      "Happy birthday, dear John\n",
      "Happy birthday to you!\n",
      "Happy birthday to you!\n"
     ]
    }
   ],
   "source": [
    "def my_func1():\n",
    "    print('Happy birthday to you!!!')\n",
    "    print('Happy birthday to you!!!')\n",
    "    print('Happy birthday, dear John')\n",
    "    print('Happy birthday to you!')\n",
    "    print('Happy birthday to you!')\n",
    "\n",
    "my_func1()\n"
   ]
  },
  {
   "cell_type": "code",
   "execution_count": 87,
   "id": "aaba821a-b315-4c82-a632-a475fb0bdaef",
   "metadata": {},
   "outputs": [
    {
     "name": "stdout",
     "output_type": "stream",
     "text": [
      "Happy birthday to you!!!\n",
      "Happy birthday to you!!!\n",
      "Happy birthday, dear Jane\n",
      "Happy birthday to you!\n",
      "Happy birthday to you!\n"
     ]
    }
   ],
   "source": [
    "def my_func2():\n",
    "    print('Happy birthday to you!!!')\n",
    "    print('Happy birthday to you!!!')\n",
    "    print('Happy birthday, dear Jane')\n",
    "    print('Happy birthday to you!')\n",
    "    print('Happy birthday to you!')\n",
    "\n",
    "my_func2()\n"
   ]
  },
  {
   "cell_type": "code",
   "execution_count": 89,
   "id": "acb12f99-08d3-43dd-8bc4-c0788fd4578c",
   "metadata": {},
   "outputs": [
    {
     "name": "stdout",
     "output_type": "stream",
     "text": [
      "Happy birthday to you!!!\n",
      "Happy birthday to you!!!\n",
      "Happy birthday, dear Jane\n",
      "Happy birthday to you!\n",
      "Happy birthday to you!\n"
     ]
    }
   ],
   "source": [
    "def hp3ex():\n",
    "    print('Happy birthday to you!!!')\n",
    "    print('Happy birthday to you!!!')\n",
    "\n",
    "\n",
    "def hp1ex():\n",
    "    print('Happy birthday to you!')\n",
    "    print('Happy birthday to you!')\n",
    "\n",
    "def hb_name(name):\n",
    "    print('Happy birthday, dear', name)\n",
    "def my_func2():\n",
    "    hp3ex()\n",
    "    print('Happy birthday, dear Jane')\n",
    "    hp1ex()\n",
    "\n",
    "\n",
    "\n",
    "my_func2()\n"
   ]
  },
  {
   "cell_type": "code",
   "execution_count": 93,
   "id": "c12ffc9b-a308-47d8-94d0-ba6c8989091f",
   "metadata": {},
   "outputs": [
    {
     "name": "stdout",
     "output_type": "stream",
     "text": [
      "Happy birthday to you!!!\n",
      "Happy birthday to you!!!\n",
      "Happy birthday, dear Jane\n",
      "Happy birthday to you!\n",
      "Happy birthday to you!\n"
     ]
    }
   ],
   "source": [
    "def hp3ex():\n",
    "    print('Happy birthday to you!!!')\n",
    "    print('Happy birthday to you!!!')\n",
    "\n",
    "\n",
    "def hp1ex():\n",
    "    print('Happy birthday to you!')\n",
    "    print('Happy birthday to you!')\n",
    "\n",
    "def hb_name(name):\n",
    "    print('Happy birthday, dear', name)\n",
    "    \n",
    "def my_func2(name):\n",
    "    hp3ex()\n",
    "    hb_name(name)\n",
    "    hp1ex()\n",
    "\n",
    "\n",
    "\n",
    "my_func2('Jane')\n"
   ]
  },
  {
   "cell_type": "code",
   "execution_count": 94,
   "id": "8f4c807b-3b0c-43a1-83cf-1954dcf9ae77",
   "metadata": {},
   "outputs": [
    {
     "name": "stdout",
     "output_type": "stream",
     "text": [
      "Happy birthday to you!!!\n",
      "Happy birthday to you!!!\n",
      "Happy birthday, dear John\n",
      "Happy birthday to you!\n",
      "Happy birthday to you!\n"
     ]
    }
   ],
   "source": [
    "my_func2('John')\n"
   ]
  },
  {
   "cell_type": "code",
   "execution_count": 95,
   "id": "30b8d4ff-73a5-42cb-91fa-a894acccd893",
   "metadata": {},
   "outputs": [
    {
     "name": "stdout",
     "output_type": "stream",
     "text": [
      "Hello there!\n"
     ]
    }
   ],
   "source": [
    "def my_func():\n",
    "    print('Hello there!')\n",
    "\n",
    "my_func()"
   ]
  },
  {
   "cell_type": "code",
   "execution_count": 97,
   "id": "2f28517f-9f3e-419a-937c-54315a9f565a",
   "metadata": {},
   "outputs": [
    {
     "name": "stdout",
     "output_type": "stream",
     "text": [
      "Blah\n"
     ]
    }
   ],
   "source": [
    "def message(msg):\n",
    "    print(msg)\n",
    "\n",
    "message('Blah')"
   ]
  },
  {
   "cell_type": "code",
   "execution_count": 98,
   "id": "bb749c8c-4c5f-49e8-b666-66fc3b99a898",
   "metadata": {},
   "outputs": [
    {
     "name": "stdout",
     "output_type": "stream",
     "text": [
      "7 -1\n"
     ]
    }
   ],
   "source": [
    "def add_sub(x,y):\n",
    "    return x + y, x-y\n",
    "\n",
    "a, s = add_sub(3, 4)\n",
    "print(a,s)"
   ]
  },
  {
   "cell_type": "code",
   "execution_count": 99,
   "id": "0df1e28a-5825-4fbe-b9d4-a7f5a785bae2",
   "metadata": {},
   "outputs": [
    {
     "name": "stdout",
     "output_type": "stream",
     "text": [
      "(7, -1)\n"
     ]
    }
   ],
   "source": [
    "output = add_sub(3, 4)\n",
    "print(output)"
   ]
  },
  {
   "cell_type": "code",
   "execution_count": 100,
   "id": "27607433-3005-4394-b6f4-d966287d1a2d",
   "metadata": {},
   "outputs": [
    {
     "data": {
      "text/plain": [
       "53"
      ]
     },
     "execution_count": 100,
     "metadata": {},
     "output_type": "execute_result"
    }
   ],
   "source": [
    "import random\n",
    "\n",
    "def my_rand():\n",
    "    return random.randint(1, 100)\n",
    "\n",
    "my_rand()"
   ]
  },
  {
   "cell_type": "code",
   "execution_count": 101,
   "id": "561a7132-8eb1-40f0-ac03-86cbdbd3a3f8",
   "metadata": {},
   "outputs": [
    {
     "data": {
      "text/plain": [
       "18"
      ]
     },
     "execution_count": 101,
     "metadata": {},
     "output_type": "execute_result"
    }
   ],
   "source": [
    "my_rand()"
   ]
  },
  {
   "cell_type": "code",
   "execution_count": 102,
   "id": "b9dfae74-60d1-4072-9a01-bef8fa6887fd",
   "metadata": {},
   "outputs": [
    {
     "data": {
      "text/plain": [
       "15"
      ]
     },
     "execution_count": 102,
     "metadata": {},
     "output_type": "execute_result"
    }
   ],
   "source": [
    "def x3(x):\n",
    "    return y * 3\n",
    "y = 5\n",
    "x3(15)"
   ]
  },
  {
   "cell_type": "code",
   "execution_count": 108,
   "id": "5d6bb855-a8a2-4643-af17-f6d5f4e49130",
   "metadata": {},
   "outputs": [
    {
     "name": "stdout",
     "output_type": "stream",
     "text": [
      "4 3 2\n"
     ]
    },
    {
     "ename": "NameError",
     "evalue": "name 'CC' is not defined",
     "output_type": "error",
     "traceback": [
      "\u001b[1;31m---------------------------------------------------------------------------\u001b[0m",
      "\u001b[1;31mNameError\u001b[0m                                 Traceback (most recent call last)",
      "Cell \u001b[1;32mIn[108], line 10\u001b[0m\n\u001b[0;32m      7\u001b[0m     \u001b[38;5;28mprint\u001b[39m(A, aa, bb)\n\u001b[0;32m      9\u001b[0m fnx(a, b)\n\u001b[1;32m---> 10\u001b[0m \u001b[38;5;28mprint\u001b[39m(\u001b[43mCC\u001b[49m)\n",
      "\u001b[1;31mNameError\u001b[0m: name 'CC' is not defined"
     ]
    }
   ],
   "source": [
    "a = 3\n",
    "A = 4\n",
    "b = 2\n",
    "\n",
    "def fnx(aa, bb):\n",
    "    CC = aa + bb\n",
    "    print(A, aa, bb)\n",
    "\n",
    "fnx(a, b)\n",
    "print(CC)"
   ]
  },
  {
   "cell_type": "code",
   "execution_count": 112,
   "id": "f0330424-58e7-4166-a376-cd44465eb3e3",
   "metadata": {},
   "outputs": [
    {
     "name": "stdout",
     "output_type": "stream",
     "text": [
      "8\n",
      "30\n"
     ]
    },
    {
     "ename": "NameError",
     "evalue": "name 'g' is not defined",
     "output_type": "error",
     "traceback": [
      "\u001b[1;31m---------------------------------------------------------------------------\u001b[0m",
      "\u001b[1;31mNameError\u001b[0m                                 Traceback (most recent call last)",
      "Cell \u001b[1;32mIn[112], line 16\u001b[0m\n\u001b[0;32m     14\u001b[0m     \u001b[38;5;28mprint\u001b[39m(g)\n\u001b[0;32m     15\u001b[0m     \u001b[38;5;28;01mreturn\u001b[39;00m (d)\n\u001b[1;32m---> 16\u001b[0m \u001b[43mfx\u001b[49m\u001b[43m(\u001b[49m\u001b[38;5;241;43m1\u001b[39;49m\u001b[43m,\u001b[49m\u001b[43m \u001b[49m\u001b[38;5;241;43m2\u001b[39;49m\u001b[43m)\u001b[49m\n\u001b[0;32m     17\u001b[0m \u001b[38;5;28mprint\u001b[39m(d)\n",
      "Cell \u001b[1;32mIn[112], line 14\u001b[0m, in \u001b[0;36mfx\u001b[1;34m(a, b)\u001b[0m\n\u001b[0;32m     11\u001b[0m     \u001b[38;5;28;01mreturn\u001b[39;00m g \u001b[38;5;241m+\u001b[39m h \u001b[38;5;241m+\u001b[39m e\n\u001b[0;32m     13\u001b[0m \u001b[38;5;28mprint\u001b[39m(gx(\u001b[38;5;241m1\u001b[39m, \u001b[38;5;241m19\u001b[39m))\n\u001b[1;32m---> 14\u001b[0m \u001b[38;5;28mprint\u001b[39m(\u001b[43mg\u001b[49m)\n\u001b[0;32m     15\u001b[0m \u001b[38;5;28;01mreturn\u001b[39;00m (d)\n",
      "\u001b[1;31mNameError\u001b[0m: name 'g' is not defined"
     ]
    }
   ],
   "source": [
    "a = 3\n",
    "b = 4\n",
    "c = 5\n",
    "d = 15\n",
    "\n",
    "def fx(a, b):\n",
    "    print(a + b + c)\n",
    "    d = c + b\n",
    "    e = 10\n",
    "    def gx(g,h):\n",
    "        return g + h + e\n",
    "\n",
    "    print(gx(1, 19))\n",
    "    print(g)\n",
    "    return (d)\n",
    "fx(1, 2)\n",
    "print(d)"
   ]
  },
  {
   "cell_type": "code",
   "execution_count": null,
   "id": "4b24f6d6-1e0f-491a-8405-d406bce79574",
   "metadata": {},
   "outputs": [],
   "source": [
    "var1 \n",
    "\n",
    "def fx(VAR1):\n",
    "    var1 + 2"
   ]
  }
 ],
 "metadata": {
  "kernelspec": {
   "display_name": "Python 3 (ipykernel)",
   "language": "python",
   "name": "python3"
  },
  "language_info": {
   "codemirror_mode": {
    "name": "ipython",
    "version": 3
   },
   "file_extension": ".py",
   "mimetype": "text/x-python",
   "name": "python",
   "nbconvert_exporter": "python",
   "pygments_lexer": "ipython3",
   "version": "3.9.18"
  }
 },
 "nbformat": 4,
 "nbformat_minor": 5
}
