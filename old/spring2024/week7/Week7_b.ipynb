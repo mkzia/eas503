{
 "cells": [
  {
   "cell_type": "code",
   "execution_count": 1,
   "id": "91d8d634-c1fb-434f-af77-d76f59114678",
   "metadata": {},
   "outputs": [],
   "source": [
    "def f(a, *args, **kwargs): \n",
    "\tprint(a, args, kwargs)"
   ]
  },
  {
   "cell_type": "markdown",
   "id": "5804aea1-ded1-4555-9d49-965e96282dcc",
   "metadata": {},
   "source": [
    "- a - required/positional \n",
    "- *args\n",
    "  - What is * doing?\n",
    "  - stores any number of optional input arguments. Stores as a tuple\n",
    "- *kwargs (key word arguments) - b=2, c=3- keyword=vlaue ==> {keyword:value}\n",
    "\n",
    "```python\n",
    "f(3, 4, 5, 6, 7, l=2, k=3)\n",
    "a = 3\n",
    "args = (4, 5, 6, 7)\n",
    "kwargs = {l:2, k:3}\n",
    "```\n"
   ]
  },
  {
   "cell_type": "code",
   "execution_count": 2,
   "id": "0255b169-33ff-4e01-a2db-f8485224b7a7",
   "metadata": {},
   "outputs": [
    {
     "name": "stdout",
     "output_type": "stream",
     "text": [
      "3 (4, 5, 6, 7) {'l': 2, 'k': 3}\n"
     ]
    }
   ],
   "source": [
    "# def f(a, *args, **kwargs): \n",
    "f(3, 4, 5, 6, 7, l=2, k=3)"
   ]
  },
  {
   "cell_type": "code",
   "execution_count": 4,
   "id": "0d00d115-ba4a-41b0-a8e7-c8ae9f5f3169",
   "metadata": {},
   "outputs": [
    {
     "name": "stdout",
     "output_type": "stream",
     "text": [
      "4 () {'l': 2, 'k': 3}\n"
     ]
    }
   ],
   "source": [
    "abc = {\n",
    "'l': 2, 'k': 3, 'a': 4\n",
    "}\n",
    "\n",
    "f(**abc) # l=2, k=3, a=4 --> \n",
    "# if a b, c\n",
    "f(a=a, b=b, c=c)\n",
    "elif a, b, cd\n",
    "f(a=a, b=b, c=c, d=d)\n",
    "\n",
    "{\n",
    "}"
   ]
  },
  {
   "cell_type": "code",
   "execution_count": 15,
   "id": "a0856240-274c-41bd-a8bc-b7163d487622",
   "metadata": {},
   "outputs": [
    {
     "name": "stdout",
     "output_type": "stream",
     "text": [
      "1 (2, 3, 4) {'l': 2, 'k': 3}\n"
     ]
    }
   ],
   "source": [
    "abc = {\n",
    "'l': 2, 'k': 3,\n",
    "}\n",
    "abcd = [2, 3, 4]\n",
    "f(1, *abcd, **abc)"
   ]
  },
  {
   "cell_type": "code",
   "execution_count": 5,
   "id": "5461f9ec-0ecb-49c2-bf3a-2edc948ebc1e",
   "metadata": {},
   "outputs": [
    {
     "name": "stdout",
     "output_type": "stream",
     "text": [
      "4 () {'l': 2, 'k': 3}\n"
     ]
    }
   ],
   "source": [
    "f( l=2, k=3, a=4) # l=2, k=3, a=4 --> "
   ]
  },
  {
   "cell_type": "code",
   "execution_count": 6,
   "id": "052bf4ef-2acb-4562-a3fa-45e7f0eb02b9",
   "metadata": {},
   "outputs": [
    {
     "ename": "TypeError",
     "evalue": "f() missing 1 required positional argument: 'a'",
     "output_type": "error",
     "traceback": [
      "\u001b[1;31m---------------------------------------------------------------------------\u001b[0m",
      "\u001b[1;31mTypeError\u001b[0m                                 Traceback (most recent call last)",
      "Cell \u001b[1;32mIn[6], line 1\u001b[0m\n\u001b[1;32m----> 1\u001b[0m \u001b[43mf\u001b[49m\u001b[43m(\u001b[49m\u001b[43m \u001b[49m\u001b[43ml\u001b[49m\u001b[38;5;241;43m=\u001b[39;49m\u001b[38;5;241;43m2\u001b[39;49m\u001b[43m,\u001b[49m\u001b[43m \u001b[49m\u001b[43mk\u001b[49m\u001b[38;5;241;43m=\u001b[39;49m\u001b[38;5;241;43m3\u001b[39;49m\u001b[43m,\u001b[49m\u001b[43m \u001b[49m\u001b[43mc\u001b[49m\u001b[38;5;241;43m=\u001b[39;49m\u001b[38;5;241;43m4\u001b[39;49m\u001b[43m)\u001b[49m\n",
      "\u001b[1;31mTypeError\u001b[0m: f() missing 1 required positional argument: 'a'"
     ]
    }
   ],
   "source": [
    "f( l=2, k=3, c=4)"
   ]
  },
  {
   "cell_type": "code",
   "execution_count": null,
   "id": "9f38873d-d6ed-4ff5-9736-09a2de5e7164",
   "metadata": {},
   "outputs": [],
   "source": [
    "abc = {\n",
    "'l': 2, 'k': 3, # cannot have non-keyword arguments, except required arguments. \n",
    "}\n",
    "abcd = [2, 3, 4]\n",
    "f(1, *abcd, **abc)"
   ]
  },
  {
   "cell_type": "code",
   "execution_count": 16,
   "id": "0c6f846b-29ef-4136-acfe-18b2726b0b90",
   "metadata": {},
   "outputs": [
    {
     "name": "stdout",
     "output_type": "stream",
     "text": [
      "1 () {}\n"
     ]
    }
   ],
   "source": [
    "def f(a, *args, **kwargs): \n",
    "\tprint(a, args, kwargs)\n",
    "\n",
    "# \n",
    "f(1)"
   ]
  },
  {
   "cell_type": "code",
   "execution_count": 17,
   "id": "2552c026-66e8-4771-85b0-bc39fd5c4506",
   "metadata": {},
   "outputs": [
    {
     "name": "stdout",
     "output_type": "stream",
     "text": [
      "1 () {}\n"
     ]
    }
   ],
   "source": [
    "f(a=1)"
   ]
  },
  {
   "cell_type": "code",
   "execution_count": 18,
   "id": "4d543856-5717-4fd3-a6b1-ae765ee4f3f7",
   "metadata": {},
   "outputs": [
    {
     "name": "stdout",
     "output_type": "stream",
     "text": [
      "1 () {}\n"
     ]
    }
   ],
   "source": [
    "kwargs = {\n",
    "'a': 1\n",
    "}\n",
    "f(**kwargs) # f(a=1)"
   ]
  },
  {
   "cell_type": "code",
   "execution_count": 20,
   "id": "caed21d8-c9d3-484f-aa2c-f43f9f65d7ed",
   "metadata": {},
   "outputs": [
    {
     "name": "stdout",
     "output_type": "stream",
     "text": [
      "1 (2, 3, 4, 5) {}\n"
     ]
    }
   ],
   "source": [
    "# def f(a, *args, **kwargs): \n",
    "\n",
    "f(1, 2, 3, 4, 5)"
   ]
  },
  {
   "cell_type": "code",
   "execution_count": 23,
   "id": "096eac13-3421-4e86-9b6d-012aa8bcfee3",
   "metadata": {},
   "outputs": [
    {
     "name": "stdout",
     "output_type": "stream",
     "text": [
      "1 ((2, 3, 4, 5),) {}\n"
     ]
    }
   ],
   "source": [
    "x = (2, 3, 4, 5)\n",
    "f(1, x) # f(1, (2, 3, 4, 5))"
   ]
  },
  {
   "cell_type": "code",
   "execution_count": 25,
   "id": "fa889cd8-3450-4f31-b59d-c37bdf407aa9",
   "metadata": {},
   "outputs": [
    {
     "name": "stdout",
     "output_type": "stream",
     "text": [
      "1 (2, 3, 4, 5) {}\n"
     ]
    }
   ],
   "source": [
    "f(1, *x) # f(1, 2, 3, 4, 5)"
   ]
  },
  {
   "cell_type": "code",
   "execution_count": 27,
   "id": "9a686835-a508-457c-91e3-55800dbdd797",
   "metadata": {},
   "outputs": [
    {
     "name": "stdout",
     "output_type": "stream",
     "text": [
      "1 (2, 3, 4, 5) {'d': 9, 'e': 10}\n"
     ]
    }
   ],
   "source": [
    "y = {\n",
    "'d':9,\n",
    "'e':10\n",
    "}\n",
    "f(1, *x, **y) # f(1, 2, 3, 4, 5, d=9, e=10)"
   ]
  },
  {
   "cell_type": "code",
   "execution_count": 28,
   "id": "c10dc001-39b4-4a57-8097-35b01d0eb3d7",
   "metadata": {},
   "outputs": [
    {
     "name": "stdout",
     "output_type": "stream",
     "text": [
      "1 () {'d': 9, 'e': 10}\n"
     ]
    }
   ],
   "source": [
    "\n",
    "f(**y) # f(a=1, d=9, e=10)"
   ]
  },
  {
   "cell_type": "code",
   "execution_count": 42,
   "id": "971a5b99-f3ec-4e58-a651-4d67e78b399f",
   "metadata": {},
   "outputs": [
    {
     "ename": "SyntaxError",
     "evalue": "iterable argument unpacking follows keyword argument unpacking (4013452098.py, line 5)",
     "output_type": "error",
     "traceback": [
      "\u001b[1;36m  Cell \u001b[1;32mIn[42], line 5\u001b[1;36m\u001b[0m\n\u001b[1;33m    f(**y, *x)\u001b[0m\n\u001b[1;37m           ^\u001b[0m\n\u001b[1;31mSyntaxError\u001b[0m\u001b[1;31m:\u001b[0m iterable argument unpacking follows keyword argument unpacking\n"
     ]
    }
   ],
   "source": [
    "y = {\n",
    "'d':9,\n",
    "'e':10,\n",
    "}\n",
    "f(**y, *x)"
   ]
  },
  {
   "cell_type": "code",
   "execution_count": 36,
   "id": "e07c4a71-ec48-4d7c-a60e-daa031d4ce83",
   "metadata": {},
   "outputs": [
    {
     "ename": "TypeError",
     "evalue": "f() got multiple values for argument 'a'",
     "output_type": "error",
     "traceback": [
      "\u001b[1;31m---------------------------------------------------------------------------\u001b[0m",
      "\u001b[1;31mTypeError\u001b[0m                                 Traceback (most recent call last)",
      "Cell \u001b[1;32mIn[36], line 1\u001b[0m\n\u001b[1;32m----> 1\u001b[0m f(\u001b[38;5;241m*\u001b[39mx, \u001b[38;5;241m*\u001b[39m\u001b[38;5;241m*\u001b[39my)\n",
      "\u001b[1;31mTypeError\u001b[0m: f() got multiple values for argument 'a'"
     ]
    }
   ],
   "source": [
    "y = {\n",
    "'d':9,\n",
    "'e':10,\n",
    "}\n",
    "f(*x, **y) # f(a = *x, **y)"
   ]
  },
  {
   "cell_type": "code",
   "execution_count": 41,
   "id": "0af5dafb-7592-4c8f-b390-429ec648f940",
   "metadata": {},
   "outputs": [
    {
     "name": "stdout",
     "output_type": "stream",
     "text": [
      "200 (2, 3, 4, 5) {'d': 9, 'e': 10}\n"
     ]
    }
   ],
   "source": [
    "y = {\n",
    "'d':9,\n",
    "'e':10,\n",
    "}\n",
    "f(200, *x, **y) "
   ]
  },
  {
   "cell_type": "code",
   "execution_count": 44,
   "id": "1b75e5ff-a575-40fa-890d-e04edbe23afd",
   "metadata": {},
   "outputs": [
    {
     "ename": "SyntaxError",
     "evalue": "invalid syntax (3352738353.py, line 1)",
     "output_type": "error",
     "traceback": [
      "\u001b[1;36m  Cell \u001b[1;32mIn[44], line 1\u001b[1;36m\u001b[0m\n\u001b[1;33m    def f(a, **kwargs, *args ):\u001b[0m\n\u001b[1;37m                       ^\u001b[0m\n\u001b[1;31mSyntaxError\u001b[0m\u001b[1;31m:\u001b[0m invalid syntax\n"
     ]
    }
   ],
   "source": [
    "def f(a, **kwargs, *args ): \n",
    "\tprint(a, args, kwargs)"
   ]
  },
  {
   "cell_type": "code",
   "execution_count": 45,
   "id": "bd1aaad7-7521-4ec0-80fc-f4c74f8e8190",
   "metadata": {},
   "outputs": [
    {
     "ename": "SyntaxError",
     "evalue": "non-default argument follows default argument (2368954026.py, line 1)",
     "output_type": "error",
     "traceback": [
      "\u001b[1;36m  Cell \u001b[1;32mIn[45], line 1\u001b[1;36m\u001b[0m\n\u001b[1;33m    def f(b=1, a):\u001b[0m\n\u001b[1;37m                ^\u001b[0m\n\u001b[1;31mSyntaxError\u001b[0m\u001b[1;31m:\u001b[0m non-default argument follows default argument\n"
     ]
    }
   ],
   "source": [
    "def f(b=1, a): \n",
    "\tprint(a,b)\n",
    "\n",
    "f(1)"
   ]
  },
  {
   "cell_type": "code",
   "execution_count": 49,
   "id": "8648f012-bba2-4229-bfb7-1c1862705fd5",
   "metadata": {},
   "outputs": [
    {
     "name": "stdout",
     "output_type": "stream",
     "text": [
      "1 80 (2, 3) {}\n"
     ]
    }
   ],
   "source": [
    "def f(a, b=2, *args, **kwargs): \n",
    "\tprint(a, b, args, kwargs)\n",
    "\n",
    "f(1,*(80,2,3)) # b, *args = (80, 2, 3)\n"
   ]
  },
  {
   "cell_type": "code",
   "execution_count": 62,
   "id": "d55e8c62-8d4a-4f30-993e-8726654de212",
   "metadata": {},
   "outputs": [
    {
     "name": "stdout",
     "output_type": "stream",
     "text": [
      "0\n",
      "1\n",
      "2\n",
      "3\n",
      "4\n",
      "5\n",
      "6\n",
      "7\n"
     ]
    }
   ],
   "source": [
    "for ele in range(9):\n",
    "    if ele == 8:\n",
    "        break\n",
    "    print(ele)\n",
    " \n",
    "else:\n",
    "    print('No Error')"
   ]
  },
  {
   "cell_type": "code",
   "execution_count": 61,
   "id": "382ebb59-6cad-4f90-b56a-5475b76d620f",
   "metadata": {},
   "outputs": [
    {
     "name": "stdout",
     "output_type": "stream",
     "text": [
      "0\n",
      "1\n",
      "2\n",
      "3\n",
      "4\n",
      "5\n",
      "6\n",
      "7\n",
      "8\n",
      "No Error\n"
     ]
    }
   ],
   "source": [
    "for ele in range(9):\n",
    "    if ele == 8:\n",
    "        pass\n",
    "    print(ele)\n",
    " \n",
    "else:\n",
    "    print('No Error')"
   ]
  },
  {
   "cell_type": "code",
   "execution_count": 57,
   "id": "268bfd33-b768-4954-aed9-daf15b46caf1",
   "metadata": {},
   "outputs": [],
   "source": [
    "s1, s2, s3 = \"SPAM\", \"SCAM\", \"SLAM\" # "
   ]
  },
  {
   "cell_type": "code",
   "execution_count": 60,
   "id": "2eb6b293-9101-405e-8b28-083fd7fd340a",
   "metadata": {},
   "outputs": [
    {
     "data": {
      "text/plain": [
       "{'A', 'M', 'S'}"
      ]
     },
     "execution_count": 60,
     "metadata": {},
     "output_type": "execute_result"
    }
   ],
   "source": [
    "set(s1) & set(s2) & set(s3)"
   ]
  },
  {
   "cell_type": "code",
   "execution_count": 58,
   "id": "17a5faee-aba5-4718-83d8-40575e62e37c",
   "metadata": {},
   "outputs": [
    {
     "data": {
      "text/plain": [
       "['S', 'A', 'M']"
      ]
     },
     "execution_count": 58,
     "metadata": {},
     "output_type": "execute_result"
    }
   ],
   "source": [
    "def intersect(*args):\n",
    "    res = []\n",
    "    for x in args[0]:                  # scan first sequence\n",
    "        for other in args[1:]:         # for all other args\n",
    "            if x not in other: \n",
    "                break   # item in each one?\n",
    "        else:                          # no:  break out of loop\n",
    "            res.append(x)              # yes: add items to end\n",
    "    return res\n",
    "\n",
    "\n",
    "intersect(s1, s2)"
   ]
  },
  {
   "cell_type": "code",
   "execution_count": 63,
   "id": "df6de0b3-88d7-460c-986a-5b58ecc863d4",
   "metadata": {},
   "outputs": [
    {
     "data": {
      "text/plain": [
       "['S', 'A', 'M']"
      ]
     },
     "execution_count": 63,
     "metadata": {},
     "output_type": "execute_result"
    }
   ],
   "source": [
    "intersect(s1, s2, s3)"
   ]
  },
  {
   "cell_type": "code",
   "execution_count": null,
   "id": "5a445f51-5ebf-4eae-9649-af9007d71c58",
   "metadata": {},
   "outputs": [],
   "source": [
    "x = 'S'\n",
    "x in 'SCAM'"
   ]
  },
  {
   "cell_type": "code",
   "execution_count": null,
   "id": "92ed29c3-c1e1-4235-9c38-a06070298a65",
   "metadata": {},
   "outputs": [],
   "source": [
    "def union(*args):\n",
    "    res = []\n",
    "    for seq in args:                   # for all args\n",
    "        for x in seq:                  # for all nodes\n",
    "            if not x in res:\n",
    "                res.append(x)          # add new items to result\n",
    "    return res\n"
   ]
  },
  {
   "cell_type": "code",
   "execution_count": 64,
   "id": "223bcc2f-5e0f-4c57-9e09-8fc4bfae1943",
   "metadata": {},
   "outputs": [
    {
     "data": {
      "text/plain": [
       "{(1, 2): 3}"
      ]
     },
     "execution_count": 64,
     "metadata": {},
     "output_type": "execute_result"
    }
   ],
   "source": [
    "\n",
    "x = {\n",
    "    (1,2) : 3\n",
    "}\n",
    "x"
   ]
  },
  {
   "cell_type": "code",
   "execution_count": 68,
   "id": "d346e8c4-4d90-4f0a-a8ea-d3221325f6fe",
   "metadata": {},
   "outputs": [
    {
     "data": {
      "text/plain": [
       "{2.4: 90}"
      ]
     },
     "execution_count": 68,
     "metadata": {},
     "output_type": "execute_result"
    }
   ],
   "source": [
    "{2.4:90}"
   ]
  },
  {
   "cell_type": "code",
   "execution_count": 65,
   "id": "b15a2717-a485-4f4e-b1f5-763a08f258f2",
   "metadata": {},
   "outputs": [
    {
     "ename": "TypeError",
     "evalue": "unhashable type: 'list'",
     "output_type": "error",
     "traceback": [
      "\u001b[1;31m---------------------------------------------------------------------------\u001b[0m",
      "\u001b[1;31mTypeError\u001b[0m                                 Traceback (most recent call last)",
      "Cell \u001b[1;32mIn[65], line 1\u001b[0m\n\u001b[1;32m----> 1\u001b[0m x \u001b[38;5;241m=\u001b[39m {\n\u001b[0;32m      2\u001b[0m     (\u001b[38;5;241m1\u001b[39m,\u001b[38;5;241m2\u001b[39m, [\u001b[38;5;241m4\u001b[39m,\u001b[38;5;241m5\u001b[39m]) : \u001b[38;5;241m3\u001b[39m\n\u001b[0;32m      3\u001b[0m }\n\u001b[0;32m      4\u001b[0m x\n",
      "\u001b[1;31mTypeError\u001b[0m: unhashable type: 'list'"
     ]
    }
   ],
   "source": [
    "x = {\n",
    "    (1,2, [4,5]) : 3\n",
    "}\n",
    "x"
   ]
  },
  {
   "cell_type": "markdown",
   "id": "af1a82fa-52a3-40c2-9ba0-947c8d2f33b4",
   "metadata": {},
   "source": [
    "- Changes to mutable data types DO persist outside of the function\n",
    "- Changes to immutable data types DO NOT persist outside of the function \n",
    "- mutable: list, dict, set\n",
    "- immutables: int, float, str, tuple, frozenset"
   ]
  },
  {
   "cell_type": "code",
   "execution_count": 69,
   "id": "954fac91-9a5d-4561-8418-1f902e423187",
   "metadata": {},
   "outputs": [
    {
     "name": "stdout",
     "output_type": "stream",
     "text": [
      "2 3\n",
      "3 5\n",
      "2 3\n"
     ]
    }
   ],
   "source": [
    "a = 2\n",
    "b = 3\n",
    "def f(a, b):\n",
    "    a += 1\n",
    "    b += 2\n",
    "    print(a,b)\n",
    "print(a, b)\n",
    "f(a, b)\n",
    "print(a,b)"
   ]
  },
  {
   "cell_type": "code",
   "execution_count": 72,
   "id": "5a776ab7-313a-4e9d-91b0-057a047a3a0f",
   "metadata": {},
   "outputs": [
    {
     "name": "stdout",
     "output_type": "stream",
     "text": [
      "2 3 (3, 4, 5)\n"
     ]
    },
    {
     "ename": "TypeError",
     "evalue": "'tuple' object does not support item assignment",
     "output_type": "error",
     "traceback": [
      "\u001b[1;31m---------------------------------------------------------------------------\u001b[0m",
      "\u001b[1;31mTypeError\u001b[0m                                 Traceback (most recent call last)",
      "Cell \u001b[1;32mIn[72], line 10\u001b[0m\n\u001b[0;32m      8\u001b[0m     \u001b[38;5;28mprint\u001b[39m(a,b,c)\n\u001b[0;32m      9\u001b[0m \u001b[38;5;28mprint\u001b[39m(a, b,c)\n\u001b[1;32m---> 10\u001b[0m \u001b[43mf\u001b[49m\u001b[43m(\u001b[49m\u001b[43ma\u001b[49m\u001b[43m,\u001b[49m\u001b[43m \u001b[49m\u001b[43mb\u001b[49m\u001b[43m,\u001b[49m\u001b[43m \u001b[49m\u001b[43mc\u001b[49m\u001b[43m)\u001b[49m\n\u001b[0;32m     11\u001b[0m \u001b[38;5;28mprint\u001b[39m(a,b, c)\n",
      "Cell \u001b[1;32mIn[72], line 7\u001b[0m, in \u001b[0;36mf\u001b[1;34m(a, b, c)\u001b[0m\n\u001b[0;32m      5\u001b[0m a \u001b[38;5;241m+\u001b[39m\u001b[38;5;241m=\u001b[39m \u001b[38;5;241m1\u001b[39m\n\u001b[0;32m      6\u001b[0m b \u001b[38;5;241m+\u001b[39m\u001b[38;5;241m=\u001b[39m \u001b[38;5;241m2\u001b[39m\n\u001b[1;32m----> 7\u001b[0m c[\u001b[38;5;241m0\u001b[39m] \u001b[38;5;241m=\u001b[39m \u001b[38;5;241m44\u001b[39m\n\u001b[0;32m      8\u001b[0m \u001b[38;5;28mprint\u001b[39m(a,b,c)\n",
      "\u001b[1;31mTypeError\u001b[0m: 'tuple' object does not support item assignment"
     ]
    }
   ],
   "source": [
    "a = 2\n",
    "b = 3\n",
    "c = (3, 4, 5)\n",
    "def f(a, b,c):\n",
    "    a += 1\n",
    "    b += 2\n",
    "    c[0] = 44\n",
    "    print(a,b,c)\n",
    "print(a, b,c)\n",
    "f(a, b, c)\n",
    "print(a,b, c)"
   ]
  },
  {
   "cell_type": "code",
   "execution_count": 74,
   "id": "af38b133-36c9-406f-965e-8b2c0fe04cb4",
   "metadata": {},
   "outputs": [
    {
     "name": "stdout",
     "output_type": "stream",
     "text": [
      "2 3 [3, 4, 5]\n",
      "3 5 [44, 4, 5]\n",
      "2 3 [44, 4, 5]\n"
     ]
    }
   ],
   "source": [
    "a = 2\n",
    "b = 3\n",
    "c = [3, 4, 5]\n",
    "def f(a, b):\n",
    "    a += 1\n",
    "    b += 2\n",
    "    c[0] = 44\n",
    "    print(a,b,c)\n",
    "print(a, b,c)\n",
    "f(a, b)\n",
    "print(a,b, c)"
   ]
  },
  {
   "cell_type": "code",
   "execution_count": 92,
   "id": "bd7d523f-6cf5-4b00-b6c9-9dba27bcaa62",
   "metadata": {},
   "outputs": [
    {
     "name": "stdout",
     "output_type": "stream",
     "text": [
      "2 3 [3, 4, 5]\n"
     ]
    },
    {
     "ename": "UnboundLocalError",
     "evalue": "local variable 'a' referenced before assignment",
     "output_type": "error",
     "traceback": [
      "\u001b[1;31m---------------------------------------------------------------------------\u001b[0m",
      "\u001b[1;31mUnboundLocalError\u001b[0m                         Traceback (most recent call last)",
      "Cell \u001b[1;32mIn[92], line 11\u001b[0m\n\u001b[0;32m      9\u001b[0m     \u001b[38;5;28mprint\u001b[39m(a,b,c)\n\u001b[0;32m     10\u001b[0m \u001b[38;5;28mprint\u001b[39m(a, b,c)\n\u001b[1;32m---> 11\u001b[0m \u001b[43mf\u001b[49m\u001b[43m(\u001b[49m\u001b[43m)\u001b[49m\n\u001b[0;32m     12\u001b[0m \u001b[38;5;28mprint\u001b[39m(a,b, c)\n",
      "Cell \u001b[1;32mIn[92], line 6\u001b[0m, in \u001b[0;36mf\u001b[1;34m()\u001b[0m\n\u001b[0;32m      4\u001b[0m \u001b[38;5;28;01mdef\u001b[39;00m \u001b[38;5;21mf\u001b[39m():\n\u001b[0;32m      5\u001b[0m     \u001b[38;5;66;03m# global a\u001b[39;00m\n\u001b[1;32m----> 6\u001b[0m     a \u001b[38;5;241m+\u001b[39m\u001b[38;5;241m=\u001b[39m \u001b[38;5;241m1\u001b[39m \u001b[38;5;66;03m# immutable\u001b[39;00m\n\u001b[0;32m      7\u001b[0m     \u001b[38;5;66;03m# b += 2 # immutable \u001b[39;00m\n\u001b[0;32m      8\u001b[0m     c[\u001b[38;5;241m0\u001b[39m] \u001b[38;5;241m=\u001b[39m \u001b[38;5;241m44\u001b[39m \u001b[38;5;66;03m# mutable \u001b[39;00m\n",
      "\u001b[1;31mUnboundLocalError\u001b[0m: local variable 'a' referenced before assignment"
     ]
    }
   ],
   "source": [
    "a = 2\n",
    "b = 3\n",
    "c = [3, 4, 5]\n",
    "def f():\n",
    "    global a\n",
    "    a += 1 # immutable\n",
    "    # b += 2 # immutable \n",
    "    c[0] = 44 # mutable \n",
    "    print(a,b,c)\n",
    "print(a, b,c)\n",
    "f()\n",
    "print(a,b, c)"
   ]
  },
  {
   "cell_type": "code",
   "execution_count": 91,
   "id": "8b523e04-a753-4411-ba3d-d60b6c5b766a",
   "metadata": {},
   "outputs": [
    {
     "name": "stdout",
     "output_type": "stream",
     "text": [
      "2 3 [3, 4, 5]\n",
      "3\n",
      "2 3 [44, 4, 5]\n",
      "2 3 [44, 4, 5]\n"
     ]
    }
   ],
   "source": [
    "a = 2\n",
    "b = 3\n",
    "c = [3, 4, 5]\n",
    "def f():\n",
    "    \n",
    "    print(a+1)\n",
    "    # b += 2 # immutable \n",
    "    c[0] = 44 # mutable \n",
    "    print(a,b,c)\n",
    "print(a, b,c)\n",
    "f()\n",
    "print(a,b, c)"
   ]
  },
  {
   "cell_type": "code",
   "execution_count": 84,
   "id": "4e82fc52-bd69-4bc6-9b65-7a4c1eb1be8c",
   "metadata": {},
   "outputs": [
    {
     "name": "stdout",
     "output_type": "stream",
     "text": [
      "main 1\n",
      "f 2\n",
      "f 2\n",
      "g 2\n",
      "h 2\n"
     ]
    }
   ],
   "source": [
    "def main():\n",
    "    a = 1\n",
    "    print('main', a)\n",
    "    def f():\n",
    "        a = 2\n",
    "        print('f', a)\n",
    "        def g():\n",
    "            print('g', a)\n",
    "            pass\n",
    "        def h():\n",
    "            print('h', a)\n",
    "            pass\n",
    "        \n",
    "        print('f', a)\n",
    "        g()\n",
    "        h()\n",
    "    f()\n",
    "\n",
    "main()"
   ]
  },
  {
   "cell_type": "code",
   "execution_count": 94,
   "id": "16854fe4-d778-496e-a6a1-049f391b4bba",
   "metadata": {},
   "outputs": [
    {
     "name": "stdout",
     "output_type": "stream",
     "text": [
      "Global reporting!\n",
      "Local reporting!\n"
     ]
    }
   ],
   "source": [
    "variable = 'Global reporting!'\n",
    "\n",
    "def use_variable_global():\n",
    "    ## since variable is outside the function\n",
    "    print(variable)\n",
    "\n",
    "\n",
    "def use_variable_local():\n",
    "    variable = 'Local reporting!'\n",
    "    print(variable)\n",
    "\n",
    "use_variable_global()\n",
    "use_variable_local()"
   ]
  },
  {
   "cell_type": "code",
   "execution_count": 96,
   "id": "db6d5d99-7757-4b70-8de4-8efb6275e532",
   "metadata": {},
   "outputs": [
    {
     "name": "stdout",
     "output_type": "stream",
     "text": [
      "I have been changed!\n",
      "Local reporting!\n",
      "I have been changed!\n",
      "I have been changed!\n"
     ]
    }
   ],
   "source": [
    "def change_global_inside_function():\n",
    "    global variable\n",
    "    variable = 'I have been changed!'\n",
    "    print(variable)\n",
    "use_variable_global()\n",
    "use_variable_local()\n",
    "change_global_inside_function()\n",
    "print(variable)"
   ]
  },
  {
   "cell_type": "code",
   "execution_count": 98,
   "id": "41f92e4e-9d79-457d-b2ed-27ccbfc786d2",
   "metadata": {},
   "outputs": [
    {
     "name": "stdout",
     "output_type": "stream",
     "text": [
      "[1, 2, 3] 11\n",
      "my_list before change inside function1 [1, 2, 3]\n",
      "my_variable before change inside function1 11\n",
      "my_list after change inside function1 [1, 2, 3, 30]\n",
      "my_variable after change inside function1 10\n",
      "[1, 2, 3, 30] 11\n"
     ]
    }
   ],
   "source": [
    "def function1(my_list, my_variable):\n",
    "\tprint('my_list before change inside function1', my_list)\n",
    "\tprint('my_variable before change inside function1', my_variable)\n",
    "\tmy_list.append(30)\n",
    "\tmy_variable = 10\n",
    "\n",
    "\tprint('my_list after change inside function1', my_list)\n",
    "\tprint('my_variable after change inside function1', my_variable)\n",
    "\n",
    "my_list = [1, 2, 3]\n",
    "my_variable = 11\n",
    "print(my_list, my_variable)\n",
    "function1(my_list, my_variable)\n",
    "print(my_list, my_variable)"
   ]
  },
  {
   "cell_type": "code",
   "execution_count": 99,
   "id": "4cd3575e-a926-49ed-8647-2d8da56fe998",
   "metadata": {},
   "outputs": [
    {
     "name": "stdout",
     "output_type": "stream",
     "text": [
      "[1, 2, 3] 11\n",
      "my_list after change inside function2 [1, 2, 3, 90]\n",
      "my_variable after change inside function2 45\n",
      "[1, 2, 3] 11\n"
     ]
    }
   ],
   "source": [
    "def function2(my_list, my_vairable):\n",
    "\t# https://stackoverflow.com/questions/2612802/how-to-clone-or-copy-a-list\n",
    "\n",
    "\tmy_list = my_list[:] # my_list.copy()\n",
    "\tmy_list.append(90)\n",
    "\tmy_variable = 45\n",
    "\n",
    "\tprint('my_list after change inside function2', my_list)\n",
    "\tprint('my_variable after change inside function2', my_variable)\n",
    "    return m\n",
    "\n",
    "my_list = [1, 2, 3]\n",
    "my_variable = 11\n",
    "print(my_list, my_variable)\n",
    "function2(my_list, my_variable)\n",
    "print(my_list, my_variable)"
   ]
  },
  {
   "cell_type": "code",
   "execution_count": 111,
   "id": "6e641699-3bba-4bea-8bf6-f0e192abf238",
   "metadata": {},
   "outputs": [
    {
     "name": "stdout",
     "output_type": "stream",
     "text": [
      "[1, 2, 3, [4, 5]] 11\n",
      "my_list after change inside function2 [10, 2, 3, [4, 5, 90]]\n",
      "my_variable after change inside function2 45\n",
      "[1, 2, 3, [4, 5, 90]] 11\n"
     ]
    }
   ],
   "source": [
    "def function3(my_list, my_vairable):\n",
    "\t# https://stackoverflow.com/questions/2612802/how-to-clone-or-copy-a-list\n",
    "\n",
    "    my_list = my_list[:] # my_list.copy() # import copy copy.deepcopy()\n",
    "    my_list[-1].append(90)\n",
    "    my_list[0] = 10\n",
    "    my_variable = 45\n",
    "    \n",
    "    print('my_list after change inside function2', my_list)\n",
    "    print('my_variable after change inside function2', my_variable)\n",
    "\n",
    "my_list = [1, 2, 3, [4,5]]\n",
    "my_variable = 11\n",
    "print(my_list, my_variable)\n",
    "function3(my_list, my_variable)\n",
    "print(my_list, my_variable)"
   ]
  }
 ],
 "metadata": {
  "kernelspec": {
   "display_name": "Python 3 (ipykernel)",
   "language": "python",
   "name": "python3"
  },
  "language_info": {
   "codemirror_mode": {
    "name": "ipython",
    "version": 3
   },
   "file_extension": ".py",
   "mimetype": "text/x-python",
   "name": "python",
   "nbconvert_exporter": "python",
   "pygments_lexer": "ipython3",
   "version": "3.9.18"
  }
 },
 "nbformat": 4,
 "nbformat_minor": 5
}
