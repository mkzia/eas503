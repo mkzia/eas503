{
 "cells": [
  {
   "cell_type": "code",
   "execution_count": 1,
   "id": "8fb9e955-ff21-4cfa-acae-394dfd1733f8",
   "metadata": {},
   "outputs": [],
   "source": [
    "x = 'EAS503'\n",
    "y = '503'"
   ]
  },
  {
   "cell_type": "code",
   "execution_count": 2,
   "id": "0fed33eb-deea-4459-821c-0063e1dcb29d",
   "metadata": {},
   "outputs": [
    {
     "data": {
      "text/plain": [
       "504"
      ]
     },
     "execution_count": 2,
     "metadata": {},
     "output_type": "execute_result"
    }
   ],
   "source": [
    "z = 503\n",
    "z + 1"
   ]
  },
  {
   "cell_type": "code",
   "execution_count": 3,
   "id": "483beb0a-071f-4e54-a514-0cdd1778380e",
   "metadata": {},
   "outputs": [
    {
     "ename": "TypeError",
     "evalue": "can only concatenate str (not \"int\") to str",
     "output_type": "error",
     "traceback": [
      "\u001b[1;31m---------------------------------------------------------------------------\u001b[0m",
      "\u001b[1;31mTypeError\u001b[0m                                 Traceback (most recent call last)",
      "Cell \u001b[1;32mIn[3], line 1\u001b[0m\n\u001b[1;32m----> 1\u001b[0m \u001b[43my\u001b[49m\u001b[43m \u001b[49m\u001b[38;5;241;43m+\u001b[39;49m\u001b[43m \u001b[49m\u001b[38;5;241;43m1\u001b[39;49m\n",
      "\u001b[1;31mTypeError\u001b[0m: can only concatenate str (not \"int\") to str"
     ]
    }
   ],
   "source": [
    "y + 1 # string + int"
   ]
  },
  {
   "cell_type": "code",
   "execution_count": 5,
   "id": "a4a02aa7-2dd2-405a-95ea-8212117aa09d",
   "metadata": {},
   "outputs": [
    {
     "data": {
      "text/plain": [
       "'5031'"
      ]
     },
     "execution_count": 5,
     "metadata": {},
     "output_type": "execute_result"
    }
   ],
   "source": [
    "a = '1'\n",
    "y + '1'"
   ]
  },
  {
   "cell_type": "code",
   "execution_count": 6,
   "id": "e0f6fc8f-5b5a-4f6c-b19b-f55501e0b61a",
   "metadata": {},
   "outputs": [],
   "source": [
    "zz = \"EAS503\""
   ]
  },
  {
   "cell_type": "code",
   "execution_count": 7,
   "id": "43dbef63-e135-475f-a94c-d9febfe54cf8",
   "metadata": {},
   "outputs": [
    {
     "data": {
      "text/plain": [
       "'EAS503EAS503EAS503EAS503EAS503'"
      ]
     },
     "execution_count": 7,
     "metadata": {},
     "output_type": "execute_result"
    }
   ],
   "source": [
    "zz * 5"
   ]
  },
  {
   "cell_type": "code",
   "execution_count": 8,
   "id": "1089e190-41b0-40a7-8673-405f34710652",
   "metadata": {},
   "outputs": [
    {
     "data": {
      "text/plain": [
       "'11111'"
      ]
     },
     "execution_count": 8,
     "metadata": {},
     "output_type": "execute_result"
    }
   ],
   "source": [
    "'1' * 5"
   ]
  },
  {
   "cell_type": "code",
   "execution_count": 9,
   "id": "629a3c15-d0fa-4548-a428-a1c3157fd0b1",
   "metadata": {},
   "outputs": [
    {
     "data": {
      "text/plain": [
       "'EAS503'"
      ]
     },
     "execution_count": 9,
     "metadata": {},
     "output_type": "execute_result"
    }
   ],
   "source": [
    "x = 'EAS'\n",
    "x += '503'\n",
    "x"
   ]
  },
  {
   "cell_type": "code",
   "execution_count": 11,
   "id": "6490236a-f7a9-4d10-9df7-eef3356aadcc",
   "metadata": {},
   "outputs": [
    {
     "data": {
      "text/plain": [
       "'EASEASEASEASEAS'"
      ]
     },
     "execution_count": 11,
     "metadata": {},
     "output_type": "execute_result"
    }
   ],
   "source": [
    "x = 'EAS'\n",
    "x *= 5\n",
    "x"
   ]
  },
  {
   "cell_type": "code",
   "execution_count": 12,
   "id": "5c224953-91ed-4fe9-a980-da47b0986058",
   "metadata": {},
   "outputs": [
    {
     "data": {
      "text/plain": [
       "'503'"
      ]
     },
     "execution_count": 12,
     "metadata": {},
     "output_type": "execute_result"
    }
   ],
   "source": [
    "x = 503\n",
    "str(x)"
   ]
  },
  {
   "cell_type": "code",
   "execution_count": 13,
   "id": "71abd067-114f-4097-82fe-a48ccb17721d",
   "metadata": {},
   "outputs": [
    {
     "name": "stdout",
     "output_type": "stream",
     "text": [
      "503\n"
     ]
    }
   ],
   "source": [
    "print(x)"
   ]
  },
  {
   "cell_type": "code",
   "execution_count": 15,
   "id": "5022cb0a-fe8f-4762-9771-f936eb18b420",
   "metadata": {},
   "outputs": [],
   "source": [
    "x = '''Should you want a string\n",
    "​ \tthat crosses multiple lines,\n",
    "​ \tUse matched triple quotes.'''"
   ]
  },
  {
   "cell_type": "code",
   "execution_count": 17,
   "id": "bf9ccdfc-b352-46f0-9b40-5594af2d6804",
   "metadata": {},
   "outputs": [
    {
     "ename": "SyntaxError",
     "evalue": "EOL while scanning string literal (4098281300.py, line 1)",
     "output_type": "error",
     "traceback": [
      "\u001b[1;36m  Cell \u001b[1;32mIn[17], line 1\u001b[1;36m\u001b[0m\n\u001b[1;33m    x = '           sklfsldf\u001b[0m\n\u001b[1;37m                            ^\u001b[0m\n\u001b[1;31mSyntaxError\u001b[0m\u001b[1;31m:\u001b[0m EOL while scanning string literal\n"
     ]
    }
   ],
   "source": [
    "x = '           sklfsldf\n",
    " sdfsdf '"
   ]
  },
  {
   "cell_type": "code",
   "execution_count": 16,
   "id": "24d03b29-4012-4c53-82c9-9dfdc646ba06",
   "metadata": {},
   "outputs": [
    {
     "name": "stdout",
     "output_type": "stream",
     "text": [
      "Should you want a string\n",
      "​ \tthat crosses multiple lines,\n",
      "​ \tUse matched triple quotes.\n"
     ]
    }
   ],
   "source": [
    "print(x)"
   ]
  },
  {
   "cell_type": "code",
   "execution_count": 18,
   "id": "65b89759-d88d-4a8b-b449-a3ad3ad14ebc",
   "metadata": {},
   "outputs": [
    {
     "name": "stdout",
     "output_type": "stream",
     "text": [
      "abbcd 2 3\n"
     ]
    }
   ],
   "source": [
    "print('abbcd', 2, 3)"
   ]
  },
  {
   "cell_type": "code",
   "execution_count": 19,
   "id": "82faa7f2-18d7-4c95-984a-acc51d199178",
   "metadata": {},
   "outputs": [
    {
     "name": "stdout",
     "output_type": "stream",
     "text": [
      "abbcd 2 3 \n",
      "\n"
     ]
    }
   ],
   "source": [
    "print('abbcd', 2, 3, '\\n')"
   ]
  },
  {
   "cell_type": "code",
   "execution_count": 20,
   "id": "5007d1d2-4c20-4b18-a157-43ff2bbcf79d",
   "metadata": {},
   "outputs": [
    {
     "name": "stdout",
     "output_type": "stream",
     "text": [
      "abbcd\n",
      "2\n",
      "3\n"
     ]
    }
   ],
   "source": [
    "print('abbcd', 2, 3, sep='\\n')"
   ]
  },
  {
   "cell_type": "code",
   "execution_count": 21,
   "id": "9a7001a2-1e38-44d3-baf0-ee8c43509ac8",
   "metadata": {},
   "outputs": [
    {
     "name": "stdout",
     "output_type": "stream",
     "text": [
      "12\n"
     ]
    }
   ],
   "source": [
    "scientist = 'Issac Newton'\n",
    "print(len(scientist))"
   ]
  },
  {
   "cell_type": "code",
   "execution_count": 22,
   "id": "67b8edc7-0360-4c6c-9844-1d01c46944c1",
   "metadata": {},
   "outputs": [
    {
     "data": {
      "text/plain": [
       "0"
      ]
     },
     "execution_count": 22,
     "metadata": {},
     "output_type": "execute_result"
    }
   ],
   "source": [
    "zero = ''\n",
    "len(zero)"
   ]
  },
  {
   "cell_type": "code",
   "execution_count": 23,
   "id": "726be629-f401-407a-8062-746272db821e",
   "metadata": {},
   "outputs": [
    {
     "data": {
      "text/plain": [
       "1"
      ]
     },
     "execution_count": 23,
     "metadata": {},
     "output_type": "execute_result"
    }
   ],
   "source": [
    "one = ' '\n",
    "len(one)"
   ]
  },
  {
   "cell_type": "code",
   "execution_count": 24,
   "id": "33ccbbef-c376-4c5d-bcb3-0de92d3f7ecb",
   "metadata": {},
   "outputs": [
    {
     "data": {
      "text/plain": [
       "2"
      ]
     },
     "execution_count": 24,
     "metadata": {},
     "output_type": "execute_result"
    }
   ],
   "source": [
    "len('  ')"
   ]
  },
  {
   "cell_type": "code",
   "execution_count": 25,
   "id": "c10eb5ef-e01f-4a97-b2c1-d9e7d377a0bc",
   "metadata": {},
   "outputs": [
    {
     "data": {
      "text/plain": [
       "3"
      ]
     },
     "execution_count": 25,
     "metadata": {},
     "output_type": "execute_result"
    }
   ],
   "source": [
    "len('---')"
   ]
  },
  {
   "cell_type": "code",
   "execution_count": 26,
   "id": "c83557db-1e6e-4ae0-a20d-99c52967dce8",
   "metadata": {},
   "outputs": [
    {
     "data": {
      "text/plain": [
       "4"
      ]
     },
     "execution_count": 26,
     "metadata": {},
     "output_type": "execute_result"
    }
   ],
   "source": [
    "len('-- -')"
   ]
  },
  {
   "cell_type": "code",
   "execution_count": 27,
   "id": "c120f0f2-d6d0-42db-a96a-7b21f84b8547",
   "metadata": {},
   "outputs": [
    {
     "data": {
      "text/plain": [
       "'Alan Turning Grace Hopper'"
      ]
     },
     "execution_count": 27,
     "metadata": {},
     "output_type": "execute_result"
    }
   ],
   "source": [
    "'Alan Turning' + ' ' + 'Grace Hopper'"
   ]
  },
  {
   "cell_type": "code",
   "execution_count": 28,
   "id": "8af2ea13-8d8e-44ac-b02b-4e8ef23f196d",
   "metadata": {},
   "outputs": [
    {
     "ename": "TypeError",
     "evalue": "can only concatenate str (not \"int\") to str",
     "output_type": "error",
     "traceback": [
      "\u001b[1;31m---------------------------------------------------------------------------\u001b[0m",
      "\u001b[1;31mTypeError\u001b[0m                                 Traceback (most recent call last)",
      "Cell \u001b[1;32mIn[28], line 1\u001b[0m\n\u001b[1;32m----> 1\u001b[0m \u001b[38;5;124;43m'\u001b[39;49m\u001b[38;5;124;43mFour score and \u001b[39;49m\u001b[38;5;124;43m'\u001b[39;49m\u001b[43m \u001b[49m\u001b[38;5;241;43m+\u001b[39;49m\u001b[43m \u001b[49m\u001b[38;5;241;43m7\u001b[39;49m \u001b[38;5;241m+\u001b[39m \u001b[38;5;124m'\u001b[39m\u001b[38;5;124m years ago\u001b[39m\u001b[38;5;124m'\u001b[39m\n",
      "\u001b[1;31mTypeError\u001b[0m: can only concatenate str (not \"int\") to str"
     ]
    }
   ],
   "source": [
    "'Four score and ' + 7 + ' years ago'"
   ]
  },
  {
   "cell_type": "code",
   "execution_count": 29,
   "id": "acd287fd-d4ff-4f44-926d-86b1a8a144ff",
   "metadata": {},
   "outputs": [
    {
     "data": {
      "text/plain": [
       "'Four score and 7 years ago'"
      ]
     },
     "execution_count": 29,
     "metadata": {},
     "output_type": "execute_result"
    }
   ],
   "source": [
    "'Four score and ' + str(7) + ' years ago'"
   ]
  },
  {
   "cell_type": "code",
   "execution_count": 31,
   "id": "f6644b94-3f49-4f97-a51c-8781ad0d82cb",
   "metadata": {},
   "outputs": [
    {
     "data": {
      "text/plain": [
       "int"
      ]
     },
     "execution_count": 31,
     "metadata": {},
     "output_type": "execute_result"
    }
   ],
   "source": [
    "type(int('0'))"
   ]
  },
  {
   "cell_type": "code",
   "execution_count": 32,
   "id": "77b53df4-de82-4f46-aa69-275322489ae5",
   "metadata": {},
   "outputs": [
    {
     "data": {
      "text/plain": [
       "-324.4"
      ]
     },
     "execution_count": 32,
     "metadata": {},
     "output_type": "execute_result"
    }
   ],
   "source": [
    "float('-324.40')"
   ]
  },
  {
   "cell_type": "code",
   "execution_count": 33,
   "id": "fcebc5f8-0235-4549-91f0-11b8271da8e2",
   "metadata": {},
   "outputs": [
    {
     "ename": "ValueError",
     "evalue": "invalid literal for int() with base 10: '-324.40'",
     "output_type": "error",
     "traceback": [
      "\u001b[1;31m---------------------------------------------------------------------------\u001b[0m",
      "\u001b[1;31mValueError\u001b[0m                                Traceback (most recent call last)",
      "Cell \u001b[1;32mIn[33], line 1\u001b[0m\n\u001b[1;32m----> 1\u001b[0m \u001b[38;5;28;43mint\u001b[39;49m\u001b[43m(\u001b[49m\u001b[38;5;124;43m'\u001b[39;49m\u001b[38;5;124;43m-324.40\u001b[39;49m\u001b[38;5;124;43m'\u001b[39;49m\u001b[43m)\u001b[49m\n",
      "\u001b[1;31mValueError\u001b[0m: invalid literal for int() with base 10: '-324.40'"
     ]
    }
   ],
   "source": [
    "int('-324.40')"
   ]
  },
  {
   "cell_type": "code",
   "execution_count": 34,
   "id": "6d22d017-3667-4d29-97d9-a44ffd24ca34",
   "metadata": {},
   "outputs": [
    {
     "ename": "ValueError",
     "evalue": "could not convert string to float: '-324.40.0'",
     "output_type": "error",
     "traceback": [
      "\u001b[1;31m---------------------------------------------------------------------------\u001b[0m",
      "\u001b[1;31mValueError\u001b[0m                                Traceback (most recent call last)",
      "Cell \u001b[1;32mIn[34], line 1\u001b[0m\n\u001b[1;32m----> 1\u001b[0m \u001b[38;5;28;43mfloat\u001b[39;49m\u001b[43m(\u001b[49m\u001b[38;5;124;43m'\u001b[39;49m\u001b[38;5;124;43m-324.40.0\u001b[39;49m\u001b[38;5;124;43m'\u001b[39;49m\u001b[43m)\u001b[49m\n",
      "\u001b[1;31mValueError\u001b[0m: could not convert string to float: '-324.40.0'"
     ]
    }
   ],
   "source": [
    "float('-324.40.0')"
   ]
  },
  {
   "cell_type": "code",
   "execution_count": 35,
   "id": "c8a0591d-3e51-49b2-b857-4269691d38c2",
   "metadata": {},
   "outputs": [
    {
     "ename": "SyntaxError",
     "evalue": "invalid syntax (3354693115.py, line 1)",
     "output_type": "error",
     "traceback": [
      "\u001b[1;36m  Cell \u001b[1;32mIn[35], line 1\u001b[1;36m\u001b[0m\n\u001b[1;33m    x = 'He can't do this'\u001b[0m\n\u001b[1;37m                ^\u001b[0m\n\u001b[1;31mSyntaxError\u001b[0m\u001b[1;31m:\u001b[0m invalid syntax\n"
     ]
    }
   ],
   "source": [
    "x = 'He can't do this'"
   ]
  },
  {
   "cell_type": "code",
   "execution_count": 36,
   "id": "c1616f63-2b81-4a44-a0a8-a67ef4d14a7e",
   "metadata": {},
   "outputs": [
    {
     "data": {
      "text/plain": [
       "\"He can't do this\""
      ]
     },
     "execution_count": 36,
     "metadata": {},
     "output_type": "execute_result"
    }
   ],
   "source": [
    "'He can\\'t do this'"
   ]
  },
  {
   "cell_type": "code",
   "execution_count": 37,
   "id": "a7f893cb-df1c-4f6b-8905-42f56c8d3cd0",
   "metadata": {},
   "outputs": [
    {
     "data": {
      "text/plain": [
       "\"He can't do this\""
      ]
     },
     "execution_count": 37,
     "metadata": {},
     "output_type": "execute_result"
    }
   ],
   "source": [
    "\"He can't do this\""
   ]
  },
  {
   "cell_type": "code",
   "execution_count": 38,
   "id": "c67554cc-00bf-48d6-824e-a1791a09be9b",
   "metadata": {},
   "outputs": [
    {
     "data": {
      "text/plain": [
       "\"He can't'''''' do this\""
      ]
     },
     "execution_count": 38,
     "metadata": {},
     "output_type": "execute_result"
    }
   ],
   "source": [
    "\"He can't'''''' do this\""
   ]
  },
  {
   "cell_type": "code",
   "execution_count": 39,
   "id": "0014afba-0865-4132-93d5-7f3b65acfbb1",
   "metadata": {},
   "outputs": [
    {
     "data": {
      "text/plain": [
       "'He can\"t do this'"
      ]
     },
     "execution_count": 39,
     "metadata": {},
     "output_type": "execute_result"
    }
   ],
   "source": [
    "'He can\"t do this'"
   ]
  },
  {
   "cell_type": "code",
   "execution_count": 41,
   "id": "f28a1e90-44a7-497c-9ddf-31717642e91c",
   "metadata": {},
   "outputs": [
    {
     "data": {
      "text/plain": [
       "'blah blah\\tblah'"
      ]
     },
     "execution_count": 41,
     "metadata": {},
     "output_type": "execute_result"
    }
   ],
   "source": [
    "'blah blah\\tblah'"
   ]
  },
  {
   "cell_type": "code",
   "execution_count": 42,
   "id": "975ab8ce-10a8-4c27-8694-db42ea1a86e4",
   "metadata": {},
   "outputs": [
    {
     "name": "stdout",
     "output_type": "stream",
     "text": [
      "blah blah\tblah\n"
     ]
    }
   ],
   "source": [
    "print('blah blah\\tblah')"
   ]
  },
  {
   "cell_type": "code",
   "execution_count": 43,
   "id": "e539b9b2-6a59-42c9-a90e-c2944f2e0d99",
   "metadata": {},
   "outputs": [
    {
     "data": {
      "text/plain": [
       "'blah blah\\nblah'"
      ]
     },
     "execution_count": 43,
     "metadata": {},
     "output_type": "execute_result"
    }
   ],
   "source": [
    "'blah blah\\nblah'"
   ]
  },
  {
   "cell_type": "code",
   "execution_count": 44,
   "id": "2ba07e10-8301-4d03-9717-dca8454654c4",
   "metadata": {},
   "outputs": [
    {
     "name": "stdout",
     "output_type": "stream",
     "text": [
      "blah blah\n",
      "blah\n"
     ]
    }
   ],
   "source": [
    "print('blah blah\\nblah')"
   ]
  },
  {
   "cell_type": "code",
   "execution_count": 46,
   "id": "7be85270-bac1-4960-8c94-293d1b954967",
   "metadata": {},
   "outputs": [
    {
     "name": "stdout",
     "output_type": "stream",
     "text": [
      "/\\/\\\n"
     ]
    }
   ],
   "source": [
    "\n",
    "print('/\\\\/\\\\')"
   ]
  },
  {
   "cell_type": "code",
   "execution_count": 47,
   "id": "7f8fe950-2600-4d27-8536-41a45b22e610",
   "metadata": {},
   "outputs": [],
   "source": [
    "def my_func(a, b, c):\n",
    "    pass\n",
    "\n",
    "my_func(1, 2, 3)"
   ]
  },
  {
   "cell_type": "code",
   "execution_count": 48,
   "id": "e98d8b0d-892d-4249-a573-ba3b437a07ad",
   "metadata": {},
   "outputs": [
    {
     "name": "stdin",
     "output_type": "stream",
     "text": [
      " Hello!\n"
     ]
    }
   ],
   "source": [
    "number = input()"
   ]
  },
  {
   "cell_type": "code",
   "execution_count": 49,
   "id": "2b24dca2-f972-4314-8196-10ad2fca5258",
   "metadata": {},
   "outputs": [
    {
     "name": "stdout",
     "output_type": "stream",
     "text": [
      "Hello!\n"
     ]
    }
   ],
   "source": [
    "print(number)"
   ]
  },
  {
   "cell_type": "code",
   "execution_count": 50,
   "id": "cac566ec-3c76-4051-97d6-8a18d04a299b",
   "metadata": {},
   "outputs": [
    {
     "name": "stdin",
     "output_type": "stream",
     "text": [
      "Please enter temp in C:  100\n"
     ]
    }
   ],
   "source": [
    "number = input('Please enter temp in C: ')"
   ]
  },
  {
   "cell_type": "code",
   "execution_count": 51,
   "id": "322043f4-0d56-46c3-b885-6d9072ced673",
   "metadata": {},
   "outputs": [
    {
     "data": {
      "text/plain": [
       "'100100100100100'"
      ]
     },
     "execution_count": 51,
     "metadata": {},
     "output_type": "execute_result"
    }
   ],
   "source": [
    "number * 5"
   ]
  },
  {
   "cell_type": "code",
   "execution_count": 52,
   "id": "16865e5e-7926-462d-96f9-1c1e0be01a94",
   "metadata": {},
   "outputs": [
    {
     "name": "stdin",
     "output_type": "stream",
     "text": [
      "Please enter temp in C:  100\n"
     ]
    },
    {
     "data": {
      "text/plain": [
       "500"
      ]
     },
     "execution_count": 52,
     "metadata": {},
     "output_type": "execute_result"
    }
   ],
   "source": [
    "number = int(input('Please enter temp in C: '))\n",
    "number * 5"
   ]
  },
  {
   "cell_type": "code",
   "execution_count": 53,
   "id": "7bf97299-2b47-4b1d-b957-1e696248932e",
   "metadata": {},
   "outputs": [
    {
     "name": "stdin",
     "output_type": "stream",
     "text": [
      "Please enter temperature in Fahrenheit:  212\n"
     ]
    },
    {
     "name": "stdout",
     "output_type": "stream",
     "text": [
      "The temperature in celsius is:  100.0\n"
     ]
    }
   ],
   "source": [
    "def convert_celsius():\n",
    "    fahrenheit = float(input('Please enter temperature in Fahrenheit: '))\n",
    "    celsius =  (fahrenheit - 32.0) * 5.0 / 9.0  \n",
    "    print('The temperature in celsius is: ', celsius) \n",
    "\n",
    "convert_celsius()"
   ]
  },
  {
   "cell_type": "code",
   "execution_count": 54,
   "id": "f5895cf0-4d88-4182-b554-c660e8e52e90",
   "metadata": {},
   "outputs": [
    {
     "name": "stdout",
     "output_type": "stream",
     "text": [
      "3.14159265359\n"
     ]
    }
   ],
   "source": [
    "PI = 3.14159265359\n",
    "print(f'{PI}')"
   ]
  },
  {
   "cell_type": "code",
   "execution_count": 55,
   "id": "770cf671-e736-4c7d-8f1c-69ebd393c459",
   "metadata": {},
   "outputs": [
    {
     "name": "stdout",
     "output_type": "stream",
     "text": [
      "3.14\n"
     ]
    }
   ],
   "source": [
    "print(f'{PI:.2f}')"
   ]
  },
  {
   "cell_type": "code",
   "execution_count": 58,
   "id": "f55cdf5f-6531-4d5a-bee1-4bba0cb027b0",
   "metadata": {},
   "outputs": [
    {
     "name": "stdout",
     "output_type": "stream",
     "text": [
      "4.00\n"
     ]
    }
   ],
   "source": [
    "print(f'{3.998:.2f}') # "
   ]
  },
  {
   "cell_type": "code",
   "execution_count": 57,
   "id": "680f8ec1-da01-4e13-aa85-136c83d9471a",
   "metadata": {},
   "outputs": [
    {
     "data": {
      "text/plain": [
       "4.0"
      ]
     },
     "execution_count": 57,
     "metadata": {},
     "output_type": "execute_result"
    }
   ],
   "source": [
    "round(3.998,2)"
   ]
  },
  {
   "cell_type": "code",
   "execution_count": 63,
   "id": "f3a2bf22-fbdd-45f9-bf4d-f3584003db3a",
   "metadata": {},
   "outputs": [
    {
     "data": {
      "text/plain": [
       "float"
      ]
     },
     "execution_count": 63,
     "metadata": {},
     "output_type": "execute_result"
    }
   ],
   "source": [
    "type(round(3.998,2))"
   ]
  },
  {
   "cell_type": "code",
   "execution_count": 61,
   "id": "afd1c7ab-abaa-4a62-ad10-00d31068cb35",
   "metadata": {},
   "outputs": [
    {
     "name": "stdout",
     "output_type": "stream",
     "text": [
      "4.0000\n"
     ]
    }
   ],
   "source": [
    "print(f'{3.99999:.4f}') # "
   ]
  },
  {
   "cell_type": "code",
   "execution_count": 62,
   "id": "1c23fb0c-030e-48de-aca1-2fd19513fb11",
   "metadata": {},
   "outputs": [
    {
     "data": {
      "text/plain": [
       "str"
      ]
     },
     "execution_count": 62,
     "metadata": {},
     "output_type": "execute_result"
    }
   ],
   "source": [
    "type(f'{3.99999:.4f}') # "
   ]
  },
  {
   "cell_type": "code",
   "execution_count": 64,
   "id": "fd2390bc-8857-4d69-a2ee-eea0cac761c9",
   "metadata": {},
   "outputs": [
    {
     "name": "stdout",
     "output_type": "stream",
     "text": [
      "PI is 3.14\n"
     ]
    }
   ],
   "source": [
    "PI = 3.14159265359 \n",
    "name = 'PI'\n",
    "print('%s is %.2f' % (name, PI))"
   ]
  },
  {
   "cell_type": "code",
   "execution_count": 65,
   "id": "14dee5d3-9389-4b34-a1e8-e453c3d982ca",
   "metadata": {},
   "outputs": [
    {
     "name": "stdout",
     "output_type": "stream",
     "text": [
      "PI is 3.14\n"
     ]
    }
   ],
   "source": [
    "PI = 3.14159265359 \n",
    "name = 'PI'\n",
    "print(('{0} is {1:.2f}'.format('PI', PI)) )"
   ]
  },
  {
   "cell_type": "code",
   "execution_count": 66,
   "id": "79d5005f-320a-477b-80ce-3f32bcf05e0d",
   "metadata": {},
   "outputs": [
    {
     "data": {
      "text/plain": [
       "'PI is 3.14'"
      ]
     },
     "execution_count": 66,
     "metadata": {},
     "output_type": "execute_result"
    }
   ],
   "source": [
    "'{0} is {1:.2f}'.format('PI', PI)"
   ]
  },
  {
   "cell_type": "code",
   "execution_count": 67,
   "id": "ac7e9dfb-e8d1-421f-a55a-27d421bb60ce",
   "metadata": {},
   "outputs": [
    {
     "data": {
      "text/plain": [
       "'PI is 3.14'"
      ]
     },
     "execution_count": 67,
     "metadata": {},
     "output_type": "execute_result"
    }
   ],
   "source": [
    "'{} is {:.2f}'.format('PI', PI)"
   ]
  },
  {
   "cell_type": "code",
   "execution_count": 68,
   "id": "1feab165-60f9-44d6-9ee4-5c47614b3c12",
   "metadata": {},
   "outputs": [
    {
     "data": {
      "text/plain": [
       "'PI is 3.14'"
      ]
     },
     "execution_count": 68,
     "metadata": {},
     "output_type": "execute_result"
    }
   ],
   "source": [
    "'{} is {:.2f}'.format('PI', PI, 'EAS503')"
   ]
  },
  {
   "cell_type": "code",
   "execution_count": 69,
   "id": "d052e072-b513-458e-9b98-81d814d941ac",
   "metadata": {},
   "outputs": [
    {
     "ename": "IndexError",
     "evalue": "Replacement index 2 out of range for positional args tuple",
     "output_type": "error",
     "traceback": [
      "\u001b[1;31m---------------------------------------------------------------------------\u001b[0m",
      "\u001b[1;31mIndexError\u001b[0m                                Traceback (most recent call last)",
      "Cell \u001b[1;32mIn[69], line 1\u001b[0m\n\u001b[1;32m----> 1\u001b[0m \u001b[38;5;124;43m'\u001b[39;49m\u001b[38;5;132;43;01m{}\u001b[39;49;00m\u001b[38;5;124;43m is \u001b[39;49m\u001b[38;5;132;43;01m{:.2f}\u001b[39;49;00m\u001b[38;5;124;43m \u001b[39;49m\u001b[38;5;132;43;01m{}\u001b[39;49;00m\u001b[38;5;124;43m'\u001b[39;49m\u001b[38;5;241;43m.\u001b[39;49m\u001b[43mformat\u001b[49m\u001b[43m(\u001b[49m\u001b[38;5;124;43m'\u001b[39;49m\u001b[38;5;124;43mPI\u001b[39;49m\u001b[38;5;124;43m'\u001b[39;49m\u001b[43m,\u001b[49m\u001b[43m \u001b[49m\u001b[43mPI\u001b[49m\u001b[43m)\u001b[49m\n",
      "\u001b[1;31mIndexError\u001b[0m: Replacement index 2 out of range for positional args tuple"
     ]
    }
   ],
   "source": [
    "'{} is {:.2f} {}'.format('PI', PI)"
   ]
  },
  {
   "cell_type": "code",
   "execution_count": 71,
   "id": "18d44a85-f3b3-4de2-8e5a-267946d34950",
   "metadata": {},
   "outputs": [
    {
     "data": {
      "text/plain": [
       "'3.14159265359 is PI'"
      ]
     },
     "execution_count": 71,
     "metadata": {},
     "output_type": "execute_result"
    }
   ],
   "source": [
    "'{1} is {0}'.format('PI', PI)"
   ]
  },
  {
   "cell_type": "code",
   "execution_count": null,
   "id": "e8ef18ca-1c4c-41c5-bab4-27e58999bd57",
   "metadata": {},
   "outputs": [],
   "source": [
    "{<variable or expression>:<format-specifier>}"
   ]
  },
  {
   "cell_type": "code",
   "execution_count": 72,
   "id": "3c55b613-b89a-4737-984b-531d792cddec",
   "metadata": {},
   "outputs": [
    {
     "data": {
      "text/plain": [
       "'1'"
      ]
     },
     "execution_count": 72,
     "metadata": {},
     "output_type": "execute_result"
    }
   ],
   "source": [
    "x = 1\n",
    "f'{x}'"
   ]
  },
  {
   "cell_type": "code",
   "execution_count": 73,
   "id": "8e1a8161-1839-4759-b4b1-3bc19c16404f",
   "metadata": {},
   "outputs": [
    {
     "data": {
      "text/plain": [
       "'2'"
      ]
     },
     "execution_count": 73,
     "metadata": {},
     "output_type": "execute_result"
    }
   ],
   "source": [
    "x = 1\n",
    "f'{x+1}'"
   ]
  },
  {
   "cell_type": "code",
   "execution_count": 74,
   "id": "889bb2d3-a506-4691-9655-7106a84fe02c",
   "metadata": {},
   "outputs": [
    {
     "data": {
      "text/plain": [
       "'9'"
      ]
     },
     "execution_count": 74,
     "metadata": {},
     "output_type": "execute_result"
    }
   ],
   "source": [
    "x = -9\n",
    "f'{abs(x)}'"
   ]
  },
  {
   "cell_type": "code",
   "execution_count": 75,
   "id": "7353c1d8-be72-45ff-b110-a50fe93f3d37",
   "metadata": {},
   "outputs": [
    {
     "data": {
      "text/plain": [
       "'WHERE name=John'"
      ]
     },
     "execution_count": 75,
     "metadata": {},
     "output_type": "execute_result"
    }
   ],
   "source": [
    "template = 'WHERE name={}'\n",
    "\n",
    "template.format('John')"
   ]
  },
  {
   "cell_type": "code",
   "execution_count": 76,
   "id": "001aaa12-0233-424e-bc3c-9034565c2222",
   "metadata": {},
   "outputs": [
    {
     "data": {
      "text/plain": [
       "'WHERE name=Jane'"
      ]
     },
     "execution_count": 76,
     "metadata": {},
     "output_type": "execute_result"
    }
   ],
   "source": [
    "template.format('Jane')"
   ]
  },
  {
   "cell_type": "code",
   "execution_count": 77,
   "id": "798896b4-fa12-43f7-85d2-c02a70a1ae2f",
   "metadata": {},
   "outputs": [
    {
     "name": "stdout",
     "output_type": "stream",
     "text": [
      "WHERE name={}\n"
     ]
    }
   ],
   "source": [
    "print(template)"
   ]
  },
  {
   "cell_type": "code",
   "execution_count": 78,
   "id": "93b62067-c881-4056-8ea1-2949a0563969",
   "metadata": {},
   "outputs": [
    {
     "name": "stdout",
     "output_type": "stream",
     "text": [
      "PI is 3.14\n"
     ]
    }
   ],
   "source": [
    "PI = 3.14159265359 \n",
    "name = 'PI'\n",
    "# {<variable or expression>:<format-specifier>} where the format specifier is <width>.<precision><type>\n",
    "print(f'{name} is {PI:.2f}') # newest way"
   ]
  },
  {
   "cell_type": "code",
   "execution_count": 79,
   "id": "c7ac72c3-539b-42c1-a0c1-6ce450193f65",
   "metadata": {},
   "outputs": [
    {
     "name": "stdout",
     "output_type": "stream",
     "text": [
      "EAS503 113 92.3\n"
     ]
    }
   ],
   "source": [
    "a_str = 'EAS503'\n",
    "an_int = 113\n",
    "a_float = 92.3\n",
    "print(a_str, an_int, a_float)"
   ]
  },
  {
   "cell_type": "code",
   "execution_count": 80,
   "id": "9b3d6b08-ecf4-4c59-8c8f-c94cfa290085",
   "metadata": {},
   "outputs": [
    {
     "name": "stdout",
     "output_type": "stream",
     "text": [
      "This is the first line.\n",
      "This is the second line.\n"
     ]
    }
   ],
   "source": [
    "line1 = 'This is the first line.\\n'\n",
    "line2 = 'This is the second line.'\n",
    "lines = line1 + line2\n",
    "print(lines)"
   ]
  },
  {
   "cell_type": "code",
   "execution_count": 81,
   "id": "3b9f92ad-748a-49b6-854d-b1771551faaf",
   "metadata": {},
   "outputs": [
    {
     "name": "stdout",
     "output_type": "stream",
     "text": [
      "This is the first line.\n",
      "This is the second line.\n"
     ]
    }
   ],
   "source": [
    "line = 'This is the first line.\\n'\n",
    "line += 'This is the second line.'\n",
    "print(line)"
   ]
  },
  {
   "cell_type": "code",
   "execution_count": 82,
   "id": "5f188f29-6094-485f-b8d3-c10978fcb286",
   "metadata": {},
   "outputs": [
    {
     "name": "stdout",
     "output_type": "stream",
     "text": [
      "EAS503\n",
      "EAS503\n"
     ]
    }
   ],
   "source": [
    "course_number = 'EAS503'\n",
    "class_size = 113\n",
    "class_average = 92.3\n",
    "\n",
    "str_format = '{}'.format(course_number)\n",
    "f_string = f'{course_number}'\n",
    "\n",
    "print(str_format)\n",
    "print(f_string)"
   ]
  },
  {
   "cell_type": "code",
   "execution_count": 83,
   "id": "f9c24322-9703-4724-94f0-64881f84c4aa",
   "metadata": {},
   "outputs": [
    {
     "name": "stdout",
     "output_type": "stream",
     "text": [
      "The course number is EAS503.\n",
      "The course number is EAS503.\n"
     ]
    }
   ],
   "source": [
    "course_number = 'EAS503'\n",
    "class_size = 113\n",
    "class_average = 92.3\n",
    "\n",
    "str_format = 'The course number is {}.'.format(course_number)\n",
    "f_string = f'The course number is {course_number}.'\n",
    "\n",
    "print(str_format)\n",
    "print(f_string)"
   ]
  },
  {
   "cell_type": "code",
   "execution_count": 84,
   "id": "50ad5445-60ab-4d2b-ac7e-de887e0ae371",
   "metadata": {},
   "outputs": [
    {
     "name": "stdout",
     "output_type": "stream",
     "text": [
      "The course number is EAS503. It has 113 students.\n",
      "The course number is EAS503. It has 113 students.\n"
     ]
    }
   ],
   "source": [
    "course_number = 'EAS503'\n",
    "class_size = 113\n",
    "class_average = 92.3\n",
    "str_format = 'The course number is {}. It has {} students.'.format(course_number, class_size)\n",
    "# str_format = 'The course number is {0}. It has {1} students.'.format(course_number, class_size)\n",
    "f_string = f'The course number is {course_number}. It has {class_size} students.'\n",
    "\n",
    "print(str_format)\n",
    "print(f_string)"
   ]
  },
  {
   "cell_type": "code",
   "execution_count": 85,
   "id": "0b8f32e6-6bd2-425e-b27e-530f32070533",
   "metadata": {},
   "outputs": [
    {
     "name": "stdout",
     "output_type": "stream",
     "text": [
      "The course number is EAS503. It has 113 students.\n",
      "The course number is EAS503. It has 113 students.\n"
     ]
    }
   ],
   "source": [
    "course_number = 'EAS503'\n",
    "class_size = 113\n",
    "class_average = 92.3\n",
    "# str_format = 'The course number is {}. It has {} students.'.format(course_number, class_size)\n",
    "str_format = 'The course number is {0}. It has {1} students.'.format(course_number, class_size)\n",
    "f_string = f'The course number is {course_number}. It has {class_size} students.'\n",
    "\n",
    "print(str_format)\n",
    "print(f_string)"
   ]
  },
  {
   "cell_type": "code",
   "execution_count": 87,
   "id": "a7da83a9-8663-41ea-9552-8fb71580b2c1",
   "metadata": {},
   "outputs": [
    {
     "name": "stdout",
     "output_type": "stream",
     "text": [
      "The course number is 113. It has EAS503 students.\n",
      "The course number is EAS503. It has 113 students.\n"
     ]
    }
   ],
   "source": [
    "course_number = 'EAS503'\n",
    "class_size = 113\n",
    "class_average = 92.3\n",
    "# str_format = 'The course number is {}. It has {} students.'.format(course_number, class_size)\n",
    "str_format = 'The course number is {1}. It has {0} students.'.format(course_number, class_size)\n",
    "f_string = f'The course number is {course_number}. It has {class_size} students.'\n",
    "\n",
    "print(str_format)\n",
    "print(f_string)"
   ]
  },
  {
   "cell_type": "code",
   "execution_count": 88,
   "id": "c3fc753a-1566-4ade-9c7a-cc07796fcf35",
   "metadata": {},
   "outputs": [
    {
     "name": "stdout",
     "output_type": "stream",
     "text": [
      "The course number is EAS503. It has 113 students. The class average is 92.3.\n",
      "The course number is 113. It has EAS503 students. The class average is 92.3.\n"
     ]
    }
   ],
   "source": [
    "course_number = 'EAS503'\n",
    "class_size = 113\n",
    "class_average = 92.3\n",
    "str_format = 'The course number is {0}. It has {1} students. The class average is {2}.'.format(course_number, class_size, class_average)\n",
    "f_string = f'The course number is {class_size}. It has {course_number} students. The class average is {class_average}.'\n",
    "\n",
    "print(str_format)\n",
    "print(f_string)"
   ]
  },
  {
   "cell_type": "code",
   "execution_count": 90,
   "id": "cb733718-ebb0-4fa4-b89b-945a3a1ccaf4",
   "metadata": {},
   "outputs": [
    {
     "name": "stdout",
     "output_type": "stream",
     "text": [
      "The course number is EAS503    . It has        113 students. The class average is       92.3.\n",
      "The course number is EAS503    . It has        113 students. The class average is       92.3.\n"
     ]
    }
   ],
   "source": [
    "course_number = 'EAS503'\n",
    "class_size = 113\n",
    "class_average = 92.3\n",
    "str_format = 'The course number is {0:10}. It has {1:10} students. The class average is {2:10}.'.format(course_number, class_size, class_average)\n",
    "f_string = f'The course number is {course_number:10}. It has {class_size:10} students. The class average is {class_average:10}.'\n",
    "\n",
    "print(str_format)\n",
    "print(f_string)"
   ]
  },
  {
   "cell_type": "code",
   "execution_count": null,
   "id": "1c611860-3863-487d-8b78-22229ce92b71",
   "metadata": {},
   "outputs": [],
   "source": [
    "<padding_character><alignment><width>.<comma><precision><type>"
   ]
  },
  {
   "cell_type": "code",
   "execution_count": 91,
   "id": "2baf03d0-7aad-42a0-a341-5882009c021f",
   "metadata": {},
   "outputs": [
    {
     "data": {
      "text/plain": [
       "'EAS503'"
      ]
     },
     "execution_count": 91,
     "metadata": {},
     "output_type": "execute_result"
    }
   ],
   "source": [
    "f'{\"EAS503\"}'"
   ]
  },
  {
   "cell_type": "code",
   "execution_count": 94,
   "id": "7819116f-dd54-4950-bce3-795662da0662",
   "metadata": {},
   "outputs": [
    {
     "data": {
      "text/plain": [
       "'EAS503    '"
      ]
     },
     "execution_count": 94,
     "metadata": {},
     "output_type": "execute_result"
    }
   ],
   "source": [
    "f'{\"EAS503\":10}'"
   ]
  },
  {
   "cell_type": "code",
   "execution_count": 95,
   "id": "c7044604-6ccd-4bd5-9a93-66e7b40e1cc3",
   "metadata": {},
   "outputs": [
    {
     "data": {
      "text/plain": [
       "'       503'"
      ]
     },
     "execution_count": 95,
     "metadata": {},
     "output_type": "execute_result"
    }
   ],
   "source": [
    "f'{503:10}'"
   ]
  },
  {
   "cell_type": "code",
   "execution_count": 96,
   "id": "e562a85e-5299-4a8e-bbc1-58d403732b5c",
   "metadata": {},
   "outputs": [
    {
     "data": {
      "text/plain": [
       "'   503    '"
      ]
     },
     "execution_count": 96,
     "metadata": {},
     "output_type": "execute_result"
    }
   ],
   "source": [
    "f'{503:^10}'"
   ]
  },
  {
   "cell_type": "code",
   "execution_count": 97,
   "id": "2ef3efab-75eb-4576-b64d-f6a4c91aad26",
   "metadata": {},
   "outputs": [
    {
     "data": {
      "text/plain": [
       "'503       '"
      ]
     },
     "execution_count": 97,
     "metadata": {},
     "output_type": "execute_result"
    }
   ],
   "source": [
    "f'{503:<10}'"
   ]
  },
  {
   "cell_type": "code",
   "execution_count": 98,
   "id": "c69ed8b8-e0dd-450f-9ce8-d527b839f2b4",
   "metadata": {},
   "outputs": [
    {
     "data": {
      "text/plain": [
       "'       503'"
      ]
     },
     "execution_count": 98,
     "metadata": {},
     "output_type": "execute_result"
    }
   ],
   "source": [
    "f'{503:>10}'"
   ]
  },
  {
   "cell_type": "code",
   "execution_count": 99,
   "id": "1e9e9332-6855-468f-90f6-7ded2d116a98",
   "metadata": {},
   "outputs": [
    {
     "data": {
      "text/plain": [
       "'    EAS503'"
      ]
     },
     "execution_count": 99,
     "metadata": {},
     "output_type": "execute_result"
    }
   ],
   "source": [
    "f'{\"EAS503\":>10}'"
   ]
  },
  {
   "cell_type": "code",
   "execution_count": 100,
   "id": "6f7df144-f191-461c-8ccc-433f9400d0ba",
   "metadata": {},
   "outputs": [
    {
     "name": "stdout",
     "output_type": "stream",
     "text": [
      "The number padded 223333 padded with zeros 00223333\n",
      "The number padded 223333 padded with zeros 00223333\n"
     ]
    }
   ],
   "source": [
    "student_id = 223333\n",
    "\n",
    "str_format = 'The number padded {} padded with zeros {:08}'.format(student_id, student_id)\n",
    "f_string = f'The number padded {student_id} padded with zeros {student_id:08}'\n",
    "\n",
    "print(str_format)\n",
    "print(f_string)"
   ]
  },
  {
   "cell_type": "code",
   "execution_count": null,
   "id": "4d9c66d5-b378-4b5c-9d48-266a05da5448",
   "metadata": {},
   "outputs": [],
   "source": [
    "# only for zero, you do not need to specify the alignment"
   ]
  },
  {
   "cell_type": "code",
   "execution_count": 102,
   "id": "b0b58085-afa2-4caf-8447-9fdab0b10c59",
   "metadata": {},
   "outputs": [
    {
     "name": "stdout",
     "output_type": "stream",
     "text": [
      "The number padded 223333 padded with zeros --223333\n",
      "The number padded 223333 padded with zeros --223333\n"
     ]
    }
   ],
   "source": [
    "student_id = 223333\n",
    "\n",
    "str_format = 'The number padded {} padded with zeros {:->8}'.format(student_id, student_id)\n",
    "f_string = f'The number padded {student_id} padded with zeros {student_id:->8}'\n",
    "\n",
    "print(str_format)\n",
    "print(f_string)"
   ]
  },
  {
   "cell_type": "code",
   "execution_count": 103,
   "id": "25e4cc4d-20e9-4d93-b936-fbc969a6f1d5",
   "metadata": {},
   "outputs": [
    {
     "name": "stdout",
     "output_type": "stream",
     "text": [
      "The number padded 223333 padded with zeros 223333--\n",
      "The number padded 223333 padded with zeros 223333--\n"
     ]
    }
   ],
   "source": [
    "student_id = 223333\n",
    "\n",
    "str_format = 'The number padded {} padded with zeros {:-<8}'.format(student_id, student_id)\n",
    "f_string = f'The number padded {student_id} padded with zeros {student_id:-<8}'\n",
    "\n",
    "print(str_format)\n",
    "print(f_string)"
   ]
  },
  {
   "cell_type": "code",
   "execution_count": 104,
   "id": "095c1b44-5215-42f0-998e-05c4dfaa02f5",
   "metadata": {},
   "outputs": [
    {
     "name": "stdout",
     "output_type": "stream",
     "text": [
      "The number padded 223333 padded with zeros -223333-\n",
      "The number padded 223333 padded with zeros -223333-\n"
     ]
    }
   ],
   "source": [
    "student_id = 223333\n",
    "\n",
    "str_format = 'The number padded {} padded with zeros {:-^8}'.format(student_id, student_id)\n",
    "f_string = f'The number padded {student_id} padded with zeros {student_id:-^8}'\n",
    "\n",
    "print(str_format)\n",
    "print(f_string)"
   ]
  },
  {
   "cell_type": "code",
   "execution_count": 105,
   "id": "4eb71db4-ab6b-4e69-b1e8-3d0b2d87c1fd",
   "metadata": {},
   "outputs": [
    {
     "name": "stdout",
     "output_type": "stream",
     "text": [
      "The number padded 223333 padded with zeros -223333-\n",
      "The number padded 223333 padded with zeros 22233332\n"
     ]
    }
   ],
   "source": [
    "student_id = 223333\n",
    "\n",
    "str_format = 'The number padded {} padded with zeros {:-^8}'.format(student_id, student_id)\n",
    "f_string = f'The number padded {student_id} padded with zeros {student_id:2^8}'\n",
    "\n",
    "print(str_format)\n",
    "print(f_string)"
   ]
  },
  {
   "cell_type": "code",
   "execution_count": 109,
   "id": "833dd487-5528-4a0d-ab28-b61b88960398",
   "metadata": {},
   "outputs": [
    {
     "name": "stdout",
     "output_type": "stream",
     "text": [
      "The number padded 223333 padded with zeros -223333-\n",
      "The number padded 223333 padded with zeros 22233332\n"
     ]
    }
   ],
   "source": [
    "student_id = 223333\n",
    "pad = '2'\n",
    "str_format = 'The number padded {} padded with zeros {:-^8}'.format(student_id, student_id)\n",
    "f_string = f'The number padded {student_id} padded with zeros {student_id:{pad}^8}'\n",
    "\n",
    "print(str_format)\n",
    "print(f_string)"
   ]
  },
  {
   "cell_type": "code",
   "execution_count": 110,
   "id": "ff8a9da2-2365-4dae-a77d-2114b0572330",
   "metadata": {},
   "outputs": [
    {
     "name": "stdout",
     "output_type": "stream",
     "text": [
      "The number padded 223333 padded with zeros 2222222333322222\n"
     ]
    }
   ],
   "source": [
    "student_id = 223333\n",
    "pad = '2'\n",
    "align = '^'\n",
    "width = 16\n",
    "f_string = f'The number padded {student_id} padded with zeros {student_id:{pad}{align}{width}}'\n",
    "\n",
    "print(f_string)"
   ]
  },
  {
   "cell_type": "code",
   "execution_count": 111,
   "id": "a3f2955a-ea8a-4f88-bd81-5537695350a8",
   "metadata": {},
   "outputs": [
    {
     "name": "stdout",
     "output_type": "stream",
     "text": [
      "The number padded 223333 padded with zeros -----223333-----\n"
     ]
    }
   ],
   "source": [
    "student_id = 223333\n",
    "pad = '-'\n",
    "align = '^'\n",
    "width = 16\n",
    "f_string = f'The number padded {student_id} padded with zeros {student_id:{pad}{align}{width}}'\n",
    "\n",
    "print(f_string)"
   ]
  },
  {
   "cell_type": "code",
   "execution_count": 114,
   "id": "1af91df9-6acc-42e5-b804-6c450dd6843e",
   "metadata": {},
   "outputs": [
    {
     "name": "stdout",
     "output_type": "stream",
     "text": [
      "The number padded 223333 padded with zeros **********223333\n"
     ]
    }
   ],
   "source": [
    "student_id = 223333\n",
    "pad = '*'\n",
    "align = '>'\n",
    "width = 16\n",
    "f_string = f'The number padded {student_id} padded with zeros {student_id:{pad}{align}{width}}'\n",
    "\n",
    "print(f_string)"
   ]
  },
  {
   "cell_type": "code",
   "execution_count": 115,
   "id": "6ca01961-ef96-44d6-9a46-4955536210c8",
   "metadata": {},
   "outputs": [
    {
     "data": {
      "text/plain": [
       "'123,456'"
      ]
     },
     "execution_count": 115,
     "metadata": {},
     "output_type": "execute_result"
    }
   ],
   "source": [
    "number = 123456\n",
    "f'{number:,}'"
   ]
  },
  {
   "cell_type": "code",
   "execution_count": 116,
   "id": "fb10007a-6927-4539-bbbb-07c616b8fea0",
   "metadata": {},
   "outputs": [
    {
     "data": {
      "text/plain": [
       "10000.0"
      ]
     },
     "execution_count": 116,
     "metadata": {},
     "output_type": "execute_result"
    }
   ],
   "source": [
    "100_000 / 10"
   ]
  },
  {
   "cell_type": "code",
   "execution_count": 117,
   "id": "5b834d1a-8268-4adb-8e57-5aaece3bc5c3",
   "metadata": {},
   "outputs": [
    {
     "data": {
      "text/plain": [
       "'4'"
      ]
     },
     "execution_count": 117,
     "metadata": {},
     "output_type": "execute_result"
    }
   ],
   "source": [
    "f'{3.5:.0f}'"
   ]
  },
  {
   "cell_type": "code",
   "execution_count": 118,
   "id": "3d67f958-f90f-4f69-83f4-785d520e6c1a",
   "metadata": {},
   "outputs": [
    {
     "data": {
      "text/plain": [
       "'4'"
      ]
     },
     "execution_count": 118,
     "metadata": {},
     "output_type": "execute_result"
    }
   ],
   "source": [
    "f'{4.5:.0f}'"
   ]
  },
  {
   "cell_type": "code",
   "execution_count": 119,
   "id": "272b1826-779b-4e60-a6f5-56b2ba960d9f",
   "metadata": {},
   "outputs": [
    {
     "name": "stdout",
     "output_type": "stream",
     "text": [
      "+---------------------------------------------------+\n",
      "|               Cereal Yields (kg/ha)               |\n",
      "+---------------+--------+--------+--------+--------+\n",
      "|    Country    |  1980  |  1990  |  2000  |  2010  |\n",
      "+---------------+--------+--------+--------+--------+\n",
      "| China         |  2,937 |  4,321 |  4,752 |  5,527 |\n",
      "| Germany       |  4,225 |  5,411 |  6,453 |  6,718 |\n",
      "| United States |  3,772 |  4,755 |  5,854 |  6,988 |\n",
      "+---------------+--------+--------+--------+--------+\n"
     ]
    }
   ],
   "source": [
    "title = '|' + '{:^51}'.format('Cereal Yields (kg/ha)') + '|'\n",
    "line = '+' + '-'*15 + '+' + ('-'*8 + '+')*4\n",
    "row = '| {:<13} |' + ' {:6,d} |'*4\n",
    "header = '| {:^13s} |'.format('Country') + (' {:^6d} |'*4).format(1980, 1990,\n",
    "                                                                  2000, 2010)\n",
    "print('+' + '-'*(len(title)-2) + '+',\n",
    "      title,\n",
    "      line,\n",
    "      header,\n",
    "      line,\n",
    "      row.format('China', 2937, 4321, 4752, 5527),\n",
    "      row.format('Germany', 4225, 5411, 6453, 6718),\n",
    "      row.format('United States', 3772, 4755, 5854, 6988),\n",
    "      line,\n",
    "      sep='\\n')"
   ]
  },
  {
   "cell_type": "code",
   "execution_count": 120,
   "id": "aaac97d0-1677-4aa8-8ca7-edcb790c126d",
   "metadata": {},
   "outputs": [
    {
     "name": "stdout",
     "output_type": "stream",
     "text": [
      "|               Cereal Yields (kg/ha)               |\n"
     ]
    }
   ],
   "source": [
    "title = '|' + '{:^51}'.format('Cereal Yields (kg/ha)') + '|'\n",
    "print(title)"
   ]
  },
  {
   "cell_type": "code",
   "execution_count": 123,
   "id": "0b676d39-7681-4f2d-9b05-4d5b198ff7ea",
   "metadata": {},
   "outputs": [
    {
     "name": "stdout",
     "output_type": "stream",
     "text": [
      "|               Cereal Yields (kg/ha)               |\n"
     ]
    }
   ],
   "source": [
    "\n",
    "title_template =  '|{:^51}|'\n",
    "print(title)"
   ]
  },
  {
   "cell_type": "code",
   "execution_count": 126,
   "id": "3cc6ef1c-7537-4404-86f6-cf3919fe1f15",
   "metadata": {},
   "outputs": [
    {
     "data": {
      "text/plain": [
       "'|                   Stock Prices                    |'"
      ]
     },
     "execution_count": 126,
     "metadata": {},
     "output_type": "execute_result"
    }
   ],
   "source": [
    "title_template.format('Stock Prices')"
   ]
  },
  {
   "cell_type": "code",
   "execution_count": 127,
   "id": "79c55b58-6c5a-4195-b82d-f5dd6412d67f",
   "metadata": {},
   "outputs": [
    {
     "name": "stdout",
     "output_type": "stream",
     "text": [
      "+---------------+--------+--------+--------+--------+\n"
     ]
    }
   ],
   "source": [
    "line = '+' + '-'*15 + '+' + ('-'*8 + '+')*4\n",
    "print(line)"
   ]
  },
  {
   "cell_type": "code",
   "execution_count": 129,
   "id": "760dd95c-c158-4e2c-8794-d4e3e9022a95",
   "metadata": {},
   "outputs": [
    {
     "data": {
      "text/plain": [
       "'+---------------+'"
      ]
     },
     "execution_count": 129,
     "metadata": {},
     "output_type": "execute_result"
    }
   ],
   "source": [
    "'+' + '-'*15 + '+'"
   ]
  },
  {
   "cell_type": "code",
   "execution_count": 130,
   "id": "4cc278cf-443d-4ad7-9f05-de7cd52f1153",
   "metadata": {},
   "outputs": [
    {
     "data": {
      "text/plain": [
       "'--------+'"
      ]
     },
     "execution_count": 130,
     "metadata": {},
     "output_type": "execute_result"
    }
   ],
   "source": [
    "'-'*8 + '+'"
   ]
  },
  {
   "cell_type": "code",
   "execution_count": 131,
   "id": "6f446cb9-9517-4200-998f-f1597bc74555",
   "metadata": {},
   "outputs": [
    {
     "data": {
      "text/plain": [
       "'--------+--------+--------+--------+'"
      ]
     },
     "execution_count": 131,
     "metadata": {},
     "output_type": "execute_result"
    }
   ],
   "source": [
    "('-'*8 + '+')*4"
   ]
  },
  {
   "cell_type": "code",
   "execution_count": 132,
   "id": "8df523e9-b9ee-489e-b5d3-5994d603eb74",
   "metadata": {},
   "outputs": [
    {
     "name": "stdout",
     "output_type": "stream",
     "text": [
      "+---------------+--------+--------+--------+--------+\n"
     ]
    }
   ],
   "source": [
    "line = '+' + '-'*15 + '+' + ('-'*8 + '+')*4\n",
    "print(line)"
   ]
  },
  {
   "cell_type": "code",
   "execution_count": 133,
   "id": "053a610e-e72f-419a-a68a-d5196402c89d",
   "metadata": {},
   "outputs": [
    {
     "name": "stdout",
     "output_type": "stream",
     "text": [
      "| {:<13} | {:6,d} | {:6,d} | {:6,d} | {:6,d} |\n"
     ]
    }
   ],
   "source": [
    "row = '| {:<13} |' + ' {:6,d} |'*4\n",
    "print(row)"
   ]
  },
  {
   "cell_type": "code",
   "execution_count": 134,
   "id": "797c5a0b-478d-471d-a75c-d16d4a425ac2",
   "metadata": {},
   "outputs": [
    {
     "data": {
      "text/plain": [
       "'| China         |  2,937 |  4,321 |  4,752 |  5,527 |'"
      ]
     },
     "execution_count": 134,
     "metadata": {},
     "output_type": "execute_result"
    }
   ],
   "source": [
    "row.format('China', 2937, 4321, 4752, 5527)"
   ]
  },
  {
   "cell_type": "code",
   "execution_count": 135,
   "id": "ab3561c6-430c-4e17-bb50-e9cfb402b50f",
   "metadata": {},
   "outputs": [
    {
     "name": "stdout",
     "output_type": "stream",
     "text": [
      "|    Country    |  1980  |  1990  |  2000  |  2010  |\n"
     ]
    }
   ],
   "source": [
    "header = '| {:^13s} |'.format('Country') + (' {:^6d} |'*4).format(1980, 1990,\n",
    "                                                                  2000, 2010)\n",
    "\n",
    "print(header)"
   ]
  },
  {
   "cell_type": "code",
   "execution_count": 136,
   "id": "4495c9ae-dfb7-41a3-a075-4005a990aea6",
   "metadata": {},
   "outputs": [
    {
     "name": "stdout",
     "output_type": "stream",
     "text": [
      "1 2 3 234\n"
     ]
    }
   ],
   "source": [
    "print(1, 2, 3, '234')"
   ]
  },
  {
   "cell_type": "code",
   "execution_count": 137,
   "id": "894bf355-5518-4340-8673-e11c018dac9b",
   "metadata": {},
   "outputs": [
    {
     "data": {
      "text/plain": [
       "'+---------------------------------------------------+'"
      ]
     },
     "execution_count": 137,
     "metadata": {},
     "output_type": "execute_result"
    }
   ],
   "source": [
    "'+' + '-'*(len(title)-2) + '+'"
   ]
  },
  {
   "cell_type": "code",
   "execution_count": 140,
   "id": "7bae6336-2049-45ba-a1f2-bbca49d69482",
   "metadata": {},
   "outputs": [
    {
     "name": "stdout",
     "output_type": "stream",
     "text": [
      "+---------------------------------------------------+\n",
      "|               Cereal Yields (kg/ha)               |\n",
      "+---------------+--------+--------+--------+--------+\n",
      "|    Country    |  1980  |  1990  |  2000  |  2010  |\n",
      "+---------------+--------+--------+--------+--------+\n",
      "| China         |  2,937 |  4,321 |  4,752 |  5,527 |\n",
      "| Germany       |  4,225 |  5,411 |  6,453 |  6,718 |\n",
      "| United States |  3,772 |  4,755 |  5,854 |  6,988 |\n",
      "+---------------+--------+--------+--------+--------+\n"
     ]
    }
   ],
   "source": [
    "print('+' + '-'*(len(title)-2) + '+',\n",
    "      title,\n",
    "      line,\n",
    "      header,\n",
    "      line,\n",
    "      row.format('China', 2937, 4321, 4752, 5527),\n",
    "      row.format('Germany', 4225, 5411, 6453, 6718),\n",
    "      row.format('United States', 3772, 4755, 5854, 6988),\n",
    "      line,\n",
    "      sep='\\n')"
   ]
  },
  {
   "cell_type": "code",
   "execution_count": 141,
   "id": "4ae51d77-ee4e-4114-a3da-eaefe9229e96",
   "metadata": {},
   "outputs": [],
   "source": [
    "with open('test_file.txt', 'w') as file:\n",
    "    file.write('line1\\nline2')\n",
    "\n",
    "### "
   ]
  },
  {
   "cell_type": "code",
   "execution_count": 143,
   "id": "7974324d-c8bb-450c-88e7-bcbfc35e6424",
   "metadata": {},
   "outputs": [
    {
     "data": {
      "text/plain": [
       "'abc'"
      ]
     },
     "execution_count": 143,
     "metadata": {},
     "output_type": "execute_result"
    }
   ],
   "source": [
    "''.join(('a', 'b', 'c'))"
   ]
  },
  {
   "cell_type": "code",
   "execution_count": 144,
   "id": "961938e9-16aa-4607-bb9a-c1fb4e4561a8",
   "metadata": {},
   "outputs": [
    {
     "data": {
      "text/plain": [
       "'a, b, c'"
      ]
     },
     "execution_count": 144,
     "metadata": {},
     "output_type": "execute_result"
    }
   ],
   "source": [
    "', '.join(('a', 'b', 'c'))"
   ]
  },
  {
   "cell_type": "code",
   "execution_count": 145,
   "id": "02d451d1-7eb7-4c57-af91-1732c19e3506",
   "metadata": {},
   "outputs": [
    {
     "data": {
      "text/plain": [
       "'a_b_c'"
      ]
     },
     "execution_count": 145,
     "metadata": {},
     "output_type": "execute_result"
    }
   ],
   "source": [
    "'_'.join(('a', 'b', 'c'))"
   ]
  },
  {
   "cell_type": "code",
   "execution_count": 147,
   "id": "1bd710f9-9549-490d-baa3-726fae68f13f",
   "metadata": {},
   "outputs": [
    {
     "name": "stdout",
     "output_type": "stream",
     "text": [
      "a\n",
      "b\n",
      "c\n"
     ]
    }
   ],
   "source": [
    "print('\\n'.join(('a', 'b', 'c')))"
   ]
  },
  {
   "cell_type": "code",
   "execution_count": 148,
   "id": "ea867492-886f-49c8-be08-45a56bbfab07",
   "metadata": {},
   "outputs": [],
   "source": [
    "file_content = '\\n'.join(('+' + '-'*(len(title)-2) + '+',\n",
    "      title,\n",
    "      line,\n",
    "      header,\n",
    "      line,\n",
    "      row.format('China', 2937, 4321, 4752, 5527),\n",
    "      row.format('Germany', 4225, 5411, 6453, 6718),\n",
    "      row.format('United States', 3772, 4755, 5854, 6988),\n",
    "      line))"
   ]
  },
  {
   "cell_type": "code",
   "execution_count": 149,
   "id": "4c125a41-0470-4e93-b775-df372d2856fb",
   "metadata": {},
   "outputs": [
    {
     "data": {
      "text/plain": [
       "'+---------------------------------------------------+\\n|               Cereal Yields (kg/ha)               |\\n+---------------+--------+--------+--------+--------+\\n|    Country    |  1980  |  1990  |  2000  |  2010  |\\n+---------------+--------+--------+--------+--------+\\n| China         |  2,937 |  4,321 |  4,752 |  5,527 |\\n| Germany       |  4,225 |  5,411 |  6,453 |  6,718 |\\n| United States |  3,772 |  4,755 |  5,854 |  6,988 |\\n+---------------+--------+--------+--------+--------+'"
      ]
     },
     "execution_count": 149,
     "metadata": {},
     "output_type": "execute_result"
    }
   ],
   "source": [
    "file_content"
   ]
  },
  {
   "cell_type": "code",
   "execution_count": 150,
   "id": "ccfdf39c-b139-4029-8b54-36ad2022215a",
   "metadata": {},
   "outputs": [],
   "source": [
    "\n",
    "with open('test_file2.txt', 'w') as file:\n",
    "    file.write(file_content)"
   ]
  },
  {
   "cell_type": "code",
   "execution_count": null,
   "id": "25fde456-e812-46d7-a9e9-450045b6af45",
   "metadata": {},
   "outputs": [],
   "source": []
  }
 ],
 "metadata": {
  "kernelspec": {
   "display_name": "Python 3 (ipykernel)",
   "language": "python",
   "name": "python3"
  },
  "language_info": {
   "codemirror_mode": {
    "name": "ipython",
    "version": 3
   },
   "file_extension": ".py",
   "mimetype": "text/x-python",
   "name": "python",
   "nbconvert_exporter": "python",
   "pygments_lexer": "ipython3",
   "version": "3.9.18"
  }
 },
 "nbformat": 4,
 "nbformat_minor": 5
}
