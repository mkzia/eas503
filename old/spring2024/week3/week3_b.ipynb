{
 "cells": [
  {
   "cell_type": "code",
   "execution_count": 1,
   "id": "f921c850-5931-4ac6-bd76-cd8fee006082",
   "metadata": {},
   "outputs": [
    {
     "data": {
      "text/plain": [
       "'EASEASEASEASEAS'"
      ]
     },
     "execution_count": 1,
     "metadata": {},
     "output_type": "execute_result"
    }
   ],
   "source": [
    "5 * 'EAS'"
   ]
  },
  {
   "cell_type": "code",
   "execution_count": 5,
   "id": "56840ae0-1f48-439a-bfb2-15cb03ffc4d7",
   "metadata": {},
   "outputs": [
    {
     "data": {
      "text/plain": [
       "'EAS'"
      ]
     },
     "execution_count": 5,
     "metadata": {},
     "output_type": "execute_result"
    }
   ],
   "source": [
    "x = 'eas'\n",
    "\n",
    "x.upper()"
   ]
  },
  {
   "cell_type": "code",
   "execution_count": 3,
   "id": "d8517c96-19b9-4e15-bd10-a3617f3d2794",
   "metadata": {},
   "outputs": [
    {
     "data": {
      "text/plain": [
       "<function str.upper()>"
      ]
     },
     "execution_count": 3,
     "metadata": {},
     "output_type": "execute_result"
    }
   ],
   "source": [
    "x.upper"
   ]
  },
  {
   "cell_type": "code",
   "execution_count": 4,
   "id": "d3d366fe-b0fe-4008-91e6-bdf706590f57",
   "metadata": {},
   "outputs": [
    {
     "data": {
      "text/plain": [
       "<function __main__.my_def(x)>"
      ]
     },
     "execution_count": 4,
     "metadata": {},
     "output_type": "execute_result"
    }
   ],
   "source": [
    "def my_def(x):\n",
    "    return x * x\n",
    "\n",
    "my_def"
   ]
  },
  {
   "cell_type": "code",
   "execution_count": 6,
   "id": "fcb452a4-7fec-42ba-ae55-4928d11ba84d",
   "metadata": {},
   "outputs": [],
   "source": [
    "x = 'eas'\n",
    "y = x.upper()"
   ]
  },
  {
   "cell_type": "code",
   "execution_count": 7,
   "id": "47f072e6-f02a-4bde-b44f-84af2fbade4d",
   "metadata": {},
   "outputs": [
    {
     "name": "stdout",
     "output_type": "stream",
     "text": [
      "eas EAS\n"
     ]
    }
   ],
   "source": [
    "print(x, y)"
   ]
  },
  {
   "cell_type": "code",
   "execution_count": 8,
   "id": "21a123e7-9a32-4265-b59a-0f3c72df2ad6",
   "metadata": {},
   "outputs": [
    {
     "data": {
      "text/plain": [
       "'EAS'"
      ]
     },
     "execution_count": 8,
     "metadata": {},
     "output_type": "execute_result"
    }
   ],
   "source": [
    "str.upper('eas') ## x.upper()"
   ]
  },
  {
   "cell_type": "code",
   "execution_count": null,
   "id": "c8c7e898-4920-431c-b6ae-b73ffd6e05d5",
   "metadata": {},
   "outputs": [],
   "source": [
    "my_str = 'EAs'\n",
    "my_str."
   ]
  },
  {
   "cell_type": "code",
   "execution_count": 9,
   "id": "1d1fd22b-e36f-4db7-b74e-f1519aa0dd85",
   "metadata": {},
   "outputs": [
    {
     "data": {
      "text/plain": [
       "'ABBCCC'"
      ]
     },
     "execution_count": 9,
     "metadata": {},
     "output_type": "execute_result"
    }
   ],
   "source": [
    "my_string = '   ABBCCC  '\n",
    "\n",
    "\n",
    "my_string.strip()"
   ]
  },
  {
   "cell_type": "code",
   "execution_count": 10,
   "id": "311e2012-201a-4abe-a6e2-01e29b56fd57",
   "metadata": {},
   "outputs": [
    {
     "name": "stdout",
     "output_type": "stream",
     "text": [
      "   ABBCCC   Dummy\n",
      "ABBCCC\n"
     ]
    }
   ],
   "source": [
    "my_string = '   ABBCCC  '\n",
    "print(my_string, 'Dummy')\n",
    "print(my_string.strip())"
   ]
  },
  {
   "cell_type": "code",
   "execution_count": 11,
   "id": "5ab60b98-9666-49f3-bf87-e95a1c4ca467",
   "metadata": {},
   "outputs": [
    {
     "name": "stdout",
     "output_type": "stream",
     "text": [
      "BBCCC\n"
     ]
    }
   ],
   "source": [
    "my_string = 'ABBCCCA'\n",
    "print(my_string.strip('A'))"
   ]
  },
  {
   "cell_type": "code",
   "execution_count": 25,
   "id": "9747cbd2-145b-4bf8-8660-dfa583849392",
   "metadata": {},
   "outputs": [
    {
     "name": "stdout",
     "output_type": "stream",
     "text": [
      "BBCACC\n"
     ]
    }
   ],
   "source": [
    "my_string = 'AABBCACCAA'\n",
    "print(my_string.strip('A'))"
   ]
  },
  {
   "cell_type": "code",
   "execution_count": 13,
   "id": "77796714-4901-4b8d-8342-5d8a6c58c249",
   "metadata": {},
   "outputs": [
    {
     "name": "stdout",
     "output_type": "stream",
     "text": [
      "\n"
     ]
    }
   ],
   "source": [
    "my_string = 'AA'\n",
    "print(my_string.strip('A'))"
   ]
  },
  {
   "cell_type": "code",
   "execution_count": 14,
   "id": "30f6b5b7-c2e5-4a45-a07b-388db65894bb",
   "metadata": {},
   "outputs": [
    {
     "name": "stdout",
     "output_type": "stream",
     "text": [
      "\n"
     ]
    }
   ],
   "source": [
    "my_string = 'AAA'\n",
    "print(my_string.strip('A'))"
   ]
  },
  {
   "cell_type": "code",
   "execution_count": 15,
   "id": "9ff4203a-a368-4521-bd80-ad56e7288739",
   "metadata": {},
   "outputs": [
    {
     "name": "stdout",
     "output_type": "stream",
     "text": [
      "BBB\n"
     ]
    }
   ],
   "source": [
    "my_string = 'AAABBBAAA'\n",
    "print(my_string.strip('A'))"
   ]
  },
  {
   "cell_type": "code",
   "execution_count": 16,
   "id": "1808eb33-8b12-4d69-8b28-4bbeb9b8bc74",
   "metadata": {},
   "outputs": [
    {
     "name": "stdout",
     "output_type": "stream",
     "text": [
      "\n"
     ]
    }
   ],
   "source": [
    "my_string = 'EASEASEAS'\n",
    "print(my_string.strip('EAS'))"
   ]
  },
  {
   "cell_type": "code",
   "execution_count": 19,
   "id": "c0c01155-8b7e-408c-b916-9085b5c1c41c",
   "metadata": {},
   "outputs": [
    {
     "name": "stdout",
     "output_type": "stream",
     "text": [
      "True\n"
     ]
    }
   ],
   "source": [
    "my_string = 'eas503@@@'\n",
    "print(my_string.islower())"
   ]
  },
  {
   "cell_type": "code",
   "execution_count": 20,
   "id": "81c299c3-7401-4ee3-8a98-b2e1a4efc00b",
   "metadata": {},
   "outputs": [
    {
     "name": "stdout",
     "output_type": "stream",
     "text": [
      "False\n"
     ]
    }
   ],
   "source": [
    "my_string = 'EAS503'\n",
    "print(my_string.islower())"
   ]
  },
  {
   "cell_type": "code",
   "execution_count": 21,
   "id": "7df5a861-51c6-44b2-814b-1e5c7ce518c3",
   "metadata": {},
   "outputs": [
    {
     "name": "stdout",
     "output_type": "stream",
     "text": [
      "False\n"
     ]
    }
   ],
   "source": [
    "my_string = 'EaS503'\n",
    "print(my_string.islower())"
   ]
  },
  {
   "cell_type": "code",
   "execution_count": 22,
   "id": "29b3810b-97a5-4d8a-8f59-978efb984341",
   "metadata": {},
   "outputs": [
    {
     "name": "stdout",
     "output_type": "stream",
     "text": [
      "True\n"
     ]
    }
   ],
   "source": [
    "my_string = 'EAS503'\n",
    "print(my_string.isupper())"
   ]
  },
  {
   "cell_type": "code",
   "execution_count": null,
   "id": "ad5f9145-570e-4483-9615-7d8c45a71fcc",
   "metadata": {},
   "outputs": [],
   "source": [
    "my_string = 'EAS503'\n",
    "print(my_string.lower())"
   ]
  },
  {
   "cell_type": "code",
   "execution_count": 26,
   "id": "9984b203-9208-4f55-9f34-95bf6e31350a",
   "metadata": {},
   "outputs": [
    {
     "name": "stdout",
     "output_type": "stream",
     "text": [
      "False\n"
     ]
    }
   ],
   "source": [
    "my_string = 'EAS503'\n",
    "print(my_string.isalpha())"
   ]
  },
  {
   "cell_type": "code",
   "execution_count": 27,
   "id": "ce0592af-892e-41d7-9fe2-50d51e30e7b4",
   "metadata": {},
   "outputs": [
    {
     "name": "stdout",
     "output_type": "stream",
     "text": [
      "True\n"
     ]
    }
   ],
   "source": [
    "my_string = 'EAS'\n",
    "print(my_string.isalpha())"
   ]
  },
  {
   "cell_type": "code",
   "execution_count": 28,
   "id": "2881da75-d4ff-4b36-a923-0dde8da6c37d",
   "metadata": {},
   "outputs": [
    {
     "name": "stdout",
     "output_type": "stream",
     "text": [
      "True\n"
     ]
    }
   ],
   "source": [
    "my_string = 'EAs'\n",
    "print(my_string.isalpha())"
   ]
  },
  {
   "cell_type": "code",
   "execution_count": 29,
   "id": "0b6387bc-527d-4569-aa04-707c85300fc1",
   "metadata": {},
   "outputs": [
    {
     "data": {
      "text/plain": [
       "False"
      ]
     },
     "execution_count": 29,
     "metadata": {},
     "output_type": "execute_result"
    }
   ],
   "source": [
    "x = '3.14'\n",
    "x.isdecimal()"
   ]
  },
  {
   "cell_type": "code",
   "execution_count": 30,
   "id": "cfc0aa74-14e8-4c2f-941d-cdbcf0ef893a",
   "metadata": {},
   "outputs": [
    {
     "data": {
      "text/plain": [
       "True"
      ]
     },
     "execution_count": 30,
     "metadata": {},
     "output_type": "execute_result"
    }
   ],
   "source": [
    "x = '314'\n",
    "x.isdecimal()"
   ]
  },
  {
   "cell_type": "code",
   "execution_count": 31,
   "id": "7f6116b2-4da9-4629-8742-b27690c8d0e9",
   "metadata": {},
   "outputs": [
    {
     "data": {
      "text/plain": [
       "False"
      ]
     },
     "execution_count": 31,
     "metadata": {},
     "output_type": "execute_result"
    }
   ],
   "source": [
    "x = '3A14'\n",
    "x.isdecimal()"
   ]
  },
  {
   "cell_type": "code",
   "execution_count": 40,
   "id": "df25b34a-a226-4825-8dca-a07f64195f6c",
   "metadata": {},
   "outputs": [],
   "source": [
    "x = f'2\\u00B2'"
   ]
  },
  {
   "cell_type": "code",
   "execution_count": 41,
   "id": "45213a6c-ac44-4276-a796-c86fdc04bada",
   "metadata": {},
   "outputs": [
    {
     "data": {
      "text/plain": [
       "True"
      ]
     },
     "execution_count": 41,
     "metadata": {},
     "output_type": "execute_result"
    }
   ],
   "source": [
    "x.isdigit()"
   ]
  },
  {
   "cell_type": "code",
   "execution_count": 42,
   "id": "d4066a98-a4e9-4112-9849-ea44d53429b0",
   "metadata": {},
   "outputs": [],
   "source": [
    "x = '\\u00BC'"
   ]
  },
  {
   "cell_type": "code",
   "execution_count": 44,
   "id": "eb0dfdb1-8323-4814-990c-e53515425573",
   "metadata": {},
   "outputs": [
    {
     "data": {
      "text/plain": [
       "True"
      ]
     },
     "execution_count": 44,
     "metadata": {},
     "output_type": "execute_result"
    }
   ],
   "source": [
    "x.isnumeric()"
   ]
  },
  {
   "cell_type": "code",
   "execution_count": 45,
   "id": "07c21e81-b4c1-46b5-9296-a5c8c0daecbf",
   "metadata": {},
   "outputs": [
    {
     "name": "stdout",
     "output_type": "stream",
     "text": [
      "True\n"
     ]
    }
   ],
   "source": [
    "my_string = 'EAS503'\n",
    "print(my_string.isalnum())"
   ]
  },
  {
   "cell_type": "code",
   "execution_count": 46,
   "id": "32b42fa5-5328-4bf8-9594-88741ff9cbc5",
   "metadata": {},
   "outputs": [
    {
     "name": "stdout",
     "output_type": "stream",
     "text": [
      "False\n"
     ]
    }
   ],
   "source": [
    "my_string = 'EAS503!!!'\n",
    "print(my_string.isalnum())"
   ]
  },
  {
   "cell_type": "code",
   "execution_count": 47,
   "id": "d3135f18-af8d-4d2a-9894-d1c4bda7c1a5",
   "metadata": {},
   "outputs": [
    {
     "name": "stdout",
     "output_type": "stream",
     "text": [
      "True\n"
     ]
    }
   ],
   "source": [
    "my_string = 'EAS503'\n",
    "print(my_string.startswith('EAS'))"
   ]
  },
  {
   "cell_type": "code",
   "execution_count": null,
   "id": "6f18bba7-0a30-4fce-913f-59e5657ca90a",
   "metadata": {},
   "outputs": [],
   "source": [
    "\"\"\"\n",
    "f\n",
    "### the columns are a, b, c\n",
    "### some other noes\n",
    "### Ver.2.12\n",
    "Col1, col2, col3,\n",
    "5, 4, 3\n",
    "6, 2, 3\n",
    "\"\"\""
   ]
  },
  {
   "cell_type": "code",
   "execution_count": 50,
   "id": "01bbf89e-d99e-4399-9389-73c13610ad78",
   "metadata": {},
   "outputs": [
    {
     "data": {
      "text/plain": [
       "True"
      ]
     },
     "execution_count": 50,
     "metadata": {},
     "output_type": "execute_result"
    }
   ],
   "source": [
    "x = '## This file was generated from machine xyz'\n",
    "x.startswith('#')"
   ]
  },
  {
   "cell_type": "code",
   "execution_count": null,
   "id": "c192a848-3165-476f-940f-3d23d199e47c",
   "metadata": {},
   "outputs": [],
   "source": [
    "\"\"\"\n",
    "user_pass\n",
    "teacher_pass\n",
    "student\n",
    "\"\"\""
   ]
  },
  {
   "cell_type": "code",
   "execution_count": 51,
   "id": "cea493ed-4e96-4917-8661-82ea6db1c6ff",
   "metadata": {},
   "outputs": [
    {
     "data": {
      "text/plain": [
       "True"
      ]
     },
     "execution_count": 51,
     "metadata": {},
     "output_type": "execute_result"
    }
   ],
   "source": [
    "x = \"user_pass\"\n",
    "x.endswith('pass')"
   ]
  },
  {
   "cell_type": "code",
   "execution_count": 52,
   "id": "0e84baa4-9c43-4fa9-a607-1c1664ac26db",
   "metadata": {},
   "outputs": [
    {
     "data": {
      "text/plain": [
       "False"
      ]
     },
     "execution_count": 52,
     "metadata": {},
     "output_type": "execute_result"
    }
   ],
   "source": [
    "x = \"student\"\n",
    "x.endswith('pass')"
   ]
  },
  {
   "cell_type": "code",
   "execution_count": 53,
   "id": "fef4f964-5894-462e-9aad-4695bd6a2703",
   "metadata": {},
   "outputs": [
    {
     "name": "stdout",
     "output_type": "stream",
     "text": [
      "1\n"
     ]
    }
   ],
   "source": [
    "my_string = 'ABBCCC'\n",
    "\"\"\"\n",
    "A - 0\n",
    "B - 1\n",
    "B - 2\n",
    "C - 3\n",
    "C - 4\n",
    "C - 5\n",
    "\n",
    "\"\"\"\n",
    "print(my_string.find('BB'))"
   ]
  },
  {
   "cell_type": "code",
   "execution_count": 54,
   "id": "cd3369c3-70cc-457a-804b-5bd581bd6e4e",
   "metadata": {},
   "outputs": [
    {
     "name": "stdout",
     "output_type": "stream",
     "text": [
      "3\n"
     ]
    }
   ],
   "source": [
    "my_string = 'ABBCCC'\n",
    "\"\"\"\n",
    "A - 0\n",
    "B - 1\n",
    "B - 2\n",
    "C - 3\n",
    "C - 4\n",
    "C - 5\n",
    "\n",
    "\"\"\"\n",
    "print(my_string.find('C'))"
   ]
  },
  {
   "cell_type": "code",
   "execution_count": 55,
   "id": "bfa8bfd3-ba16-4e04-87aa-008689bce117",
   "metadata": {},
   "outputs": [
    {
     "name": "stdout",
     "output_type": "stream",
     "text": [
      "3\n"
     ]
    }
   ],
   "source": [
    "my_string = 'ABBCCC'\n",
    "\"\"\"\n",
    "A - 0\n",
    "B - 1\n",
    "B - 2\n",
    "C - 3\n",
    "C - 4\n",
    "C - 5\n",
    "\n",
    "\"\"\"\n",
    "print(my_string.find('CC'))"
   ]
  },
  {
   "cell_type": "code",
   "execution_count": 56,
   "id": "beba22f8-140d-4376-9d90-d58734d7ad30",
   "metadata": {},
   "outputs": [
    {
     "name": "stdout",
     "output_type": "stream",
     "text": [
      "3\n"
     ]
    }
   ],
   "source": [
    "my_string = 'ABBCCC'\n",
    "\"\"\"\n",
    "A - 0\n",
    "B - 1\n",
    "B - 2\n",
    "C - 3\n",
    "C - 4\n",
    "C - 5\n",
    "\n",
    "\"\"\"\n",
    "print(my_string.find('CCC'))"
   ]
  },
  {
   "cell_type": "code",
   "execution_count": 61,
   "id": "6bf7ec66-55cf-4ae3-8a8b-25b0f624aac7",
   "metadata": {},
   "outputs": [
    {
     "name": "stdout",
     "output_type": "stream",
     "text": [
      "-1\n",
      "I am here!\n"
     ]
    }
   ],
   "source": [
    "my_string = 'ABBCCC'\n",
    "\"\"\"\n",
    "A - 0\n",
    "B - 1\n",
    "B - 2\n",
    "C - 3\n",
    "C - 4\n",
    "C - 5\n",
    "\n",
    "\"\"\"\n",
    "print(my_string.find('D'))\n",
    "print('I am here!')"
   ]
  },
  {
   "cell_type": "code",
   "execution_count": 58,
   "id": "3bd53002-d6fe-4631-8f7d-0aeecc59dff1",
   "metadata": {},
   "outputs": [
    {
     "name": "stdout",
     "output_type": "stream",
     "text": [
      "1\n"
     ]
    }
   ],
   "source": [
    "my_string = 'ABBCCC'\n",
    "print(my_string.index('BB'))"
   ]
  },
  {
   "cell_type": "code",
   "execution_count": 60,
   "id": "48b698fe-a209-4062-a528-a64237494a77",
   "metadata": {},
   "outputs": [
    {
     "ename": "ValueError",
     "evalue": "substring not found",
     "output_type": "error",
     "traceback": [
      "\u001b[1;31m---------------------------------------------------------------------------\u001b[0m",
      "\u001b[1;31mValueError\u001b[0m                                Traceback (most recent call last)",
      "Cell \u001b[1;32mIn[60], line 2\u001b[0m\n\u001b[0;32m      1\u001b[0m my_string \u001b[38;5;241m=\u001b[39m \u001b[38;5;124m'\u001b[39m\u001b[38;5;124mABBCCC\u001b[39m\u001b[38;5;124m'\u001b[39m\n\u001b[1;32m----> 2\u001b[0m \u001b[38;5;28mprint\u001b[39m(\u001b[43mmy_string\u001b[49m\u001b[38;5;241;43m.\u001b[39;49m\u001b[43mindex\u001b[49m\u001b[43m(\u001b[49m\u001b[38;5;124;43m'\u001b[39;49m\u001b[38;5;124;43mAC\u001b[39;49m\u001b[38;5;124;43m'\u001b[39;49m\u001b[43m)\u001b[49m)\n\u001b[0;32m      3\u001b[0m \u001b[38;5;28mprint\u001b[39m(\u001b[38;5;124m'\u001b[39m\u001b[38;5;124mI am here!\u001b[39m\u001b[38;5;124m'\u001b[39m)\n",
      "\u001b[1;31mValueError\u001b[0m: substring not found"
     ]
    }
   ],
   "source": [
    "my_string = 'ABBCCC'\n",
    "print(my_string.index('AC'))\n",
    "print('I am here!')"
   ]
  },
  {
   "cell_type": "code",
   "execution_count": 62,
   "id": "22a9373d-4343-46e2-8016-fc9b5f3e8208",
   "metadata": {},
   "outputs": [
    {
     "name": "stdout",
     "output_type": "stream",
     "text": [
      "True\n"
     ]
    }
   ],
   "source": [
    "my_string = 'ABBCCC'\n",
    "print('A' in my_string)"
   ]
  },
  {
   "cell_type": "code",
   "execution_count": 63,
   "id": "23cb79c8-c322-4df4-bbaf-78afe59bdcdc",
   "metadata": {},
   "outputs": [
    {
     "name": "stdout",
     "output_type": "stream",
     "text": [
      "False\n"
     ]
    }
   ],
   "source": [
    "my_string = 'ABBCCC'\n",
    "print('D' in my_string)"
   ]
  },
  {
   "cell_type": "code",
   "execution_count": 64,
   "id": "e383fb95-f8d2-4547-84bc-4f33921094e6",
   "metadata": {},
   "outputs": [
    {
     "name": "stdout",
     "output_type": "stream",
     "text": [
      "True\n"
     ]
    }
   ],
   "source": [
    "my_string = 'ABBCCC'\n",
    "print('CCC' in my_string)"
   ]
  },
  {
   "cell_type": "code",
   "execution_count": 65,
   "id": "1cb1ef46-afcd-41e7-b98d-07b66d236ded",
   "metadata": {},
   "outputs": [
    {
     "name": "stdout",
     "output_type": "stream",
     "text": [
      "3\n"
     ]
    }
   ],
   "source": [
    "my_string = 'ABBCCC'\n",
    "print(my_string.count('C'))"
   ]
  },
  {
   "cell_type": "code",
   "execution_count": 66,
   "id": "ee6d91f3-1582-4ffd-942f-f541e99a81cd",
   "metadata": {},
   "outputs": [],
   "source": [
    "my_string = '(EAS503)'\n",
    "tmp1 = my_string.replace('(', '')"
   ]
  },
  {
   "cell_type": "code",
   "execution_count": 67,
   "id": "310d2fd8-e3f6-416d-9929-cf9aec4f7aca",
   "metadata": {},
   "outputs": [
    {
     "data": {
      "text/plain": [
       "'(EAS503)'"
      ]
     },
     "execution_count": 67,
     "metadata": {},
     "output_type": "execute_result"
    }
   ],
   "source": [
    "my_string"
   ]
  },
  {
   "cell_type": "code",
   "execution_count": 68,
   "id": "0a1b31c6-37e3-49bd-80d0-f32abc4d79b6",
   "metadata": {},
   "outputs": [
    {
     "data": {
      "text/plain": [
       "'EAS503)'"
      ]
     },
     "execution_count": 68,
     "metadata": {},
     "output_type": "execute_result"
    }
   ],
   "source": [
    "tmp1"
   ]
  },
  {
   "cell_type": "code",
   "execution_count": 69,
   "id": "7387a472-d69e-4dbf-917d-b6106cf04078",
   "metadata": {},
   "outputs": [
    {
     "name": "stdout",
     "output_type": "stream",
     "text": [
      "EAS503)\n",
      "EAS503\n"
     ]
    }
   ],
   "source": [
    "my_string = '(EAS503)'\n",
    "tmp1 = my_string.replace('(', '')\n",
    "print(tmp1)\n",
    "tmp2 = tmp1.replace(')', '')\n",
    "print(tmp2)"
   ]
  },
  {
   "cell_type": "code",
   "execution_count": 70,
   "id": "d3ba471b-6239-4953-8d1c-7d6f4eb80d23",
   "metadata": {},
   "outputs": [
    {
     "name": "stdout",
     "output_type": "stream",
     "text": [
      "EAS503\n"
     ]
    }
   ],
   "source": [
    "my_string = '(EAS503)'\n",
    "print(my_string.replace('(', '').replace(')', ''))"
   ]
  },
  {
   "cell_type": "code",
   "execution_count": 71,
   "id": "4b4b060b-fc5f-474b-a65c-3ed99b259396",
   "metadata": {},
   "outputs": [
    {
     "data": {
      "text/plain": [
       "'00EAS503'"
      ]
     },
     "execution_count": 71,
     "metadata": {},
     "output_type": "execute_result"
    }
   ],
   "source": [
    "my_string = 'EAS503'\n",
    "my_string.zfill(8)"
   ]
  },
  {
   "cell_type": "code",
   "execution_count": 72,
   "id": "fbe06664-5b02-4cad-91ad-3dd35d092d31",
   "metadata": {},
   "outputs": [
    {
     "data": {
      "text/plain": [
       "'00000123'"
      ]
     },
     "execution_count": 72,
     "metadata": {},
     "output_type": "execute_result"
    }
   ],
   "source": [
    "my_string = '123'\n",
    "my_string.zfill(8)"
   ]
  },
  {
   "cell_type": "code",
   "execution_count": 73,
   "id": "d4dc0e7b-418b-4c48-b64b-51e074089534",
   "metadata": {},
   "outputs": [
    {
     "name": "stdout",
     "output_type": "stream",
     "text": [
      "Help on method_descriptor:\n",
      "\n",
      "zfill(self, width, /)\n",
      "    Pad a numeric string with zeros on the left, to fill a field of the given width.\n",
      "    \n",
      "    The string is never truncated.\n",
      "\n"
     ]
    }
   ],
   "source": [
    "help(str.zfill)"
   ]
  },
  {
   "cell_type": "code",
   "execution_count": 74,
   "id": "c6dd44dc-2724-475f-8ec3-7e03e23ab912",
   "metadata": {},
   "outputs": [
    {
     "data": {
      "text/plain": [
       "'123'"
      ]
     },
     "execution_count": 74,
     "metadata": {},
     "output_type": "execute_result"
    }
   ],
   "source": [
    "my_string = '123'\n",
    "my_string.zfill(3)"
   ]
  },
  {
   "cell_type": "code",
   "execution_count": 75,
   "id": "a90b57bc-38ad-4693-8cc4-bc8edf2ec631",
   "metadata": {},
   "outputs": [
    {
     "data": {
      "text/plain": [
       "'02/08/2024'"
      ]
     },
     "execution_count": 75,
     "metadata": {},
     "output_type": "execute_result"
    }
   ],
   "source": [
    "mon = '02'\n",
    "day = '08'\n",
    "year = '2024'\n",
    "'/'.join((mon, day, year))"
   ]
  },
  {
   "cell_type": "code",
   "execution_count": 76,
   "id": "47434a4e-043f-4b34-b5ea-0ff8bd33d0af",
   "metadata": {},
   "outputs": [
    {
     "data": {
      "text/plain": [
       "'08/02/2024'"
      ]
     },
     "execution_count": 76,
     "metadata": {},
     "output_type": "execute_result"
    }
   ],
   "source": [
    "mon = '02'\n",
    "day = '08'\n",
    "year = '2024'\n",
    "'/'.join((day, mon, year))"
   ]
  },
  {
   "cell_type": "code",
   "execution_count": 77,
   "id": "becc3c0e-7286-4951-861c-f5af66e9fb7c",
   "metadata": {},
   "outputs": [
    {
     "data": {
      "text/plain": [
       "'2024/02/08'"
      ]
     },
     "execution_count": 77,
     "metadata": {},
     "output_type": "execute_result"
    }
   ],
   "source": [
    "mon = '02'\n",
    "day = '08'\n",
    "year = '2024'\n",
    "'/'.join((year, mon, day))"
   ]
  },
  {
   "cell_type": "code",
   "execution_count": 78,
   "id": "751684ef-41f7-40ef-a8d3-74fde9cc4c6f",
   "metadata": {},
   "outputs": [
    {
     "data": {
      "text/plain": [
       "'2024-02-08'"
      ]
     },
     "execution_count": 78,
     "metadata": {},
     "output_type": "execute_result"
    }
   ],
   "source": [
    "mon = '02'\n",
    "day = '08'\n",
    "year = '2024'\n",
    "'-'.join((year, mon, day))"
   ]
  },
  {
   "cell_type": "code",
   "execution_count": 79,
   "id": "ec5be6a8-63dd-4757-b92a-40c2156b800f",
   "metadata": {},
   "outputs": [
    {
     "ename": "TypeError",
     "evalue": "sequence item 3: expected str instance, int found",
     "output_type": "error",
     "traceback": [
      "\u001b[1;31m---------------------------------------------------------------------------\u001b[0m",
      "\u001b[1;31mTypeError\u001b[0m                                 Traceback (most recent call last)",
      "Cell \u001b[1;32mIn[79], line 2\u001b[0m\n\u001b[0;32m      1\u001b[0m years \u001b[38;5;241m=\u001b[39m (\u001b[38;5;124m'\u001b[39m\u001b[38;5;124m1900\u001b[39m\u001b[38;5;124m'\u001b[39m, \u001b[38;5;124m'\u001b[39m\u001b[38;5;124m1924\u001b[39m\u001b[38;5;124m'\u001b[39m, \u001b[38;5;124m'\u001b[39m\u001b[38;5;124m1950\u001b[39m\u001b[38;5;124m'\u001b[39m, \u001b[38;5;241m1990\u001b[39m)\n\u001b[1;32m----> 2\u001b[0m \u001b[38;5;124;43m'\u001b[39;49m\u001b[38;5;124;43m, \u001b[39;49m\u001b[38;5;124;43m'\u001b[39;49m\u001b[38;5;241;43m.\u001b[39;49m\u001b[43mjoin\u001b[49m\u001b[43m(\u001b[49m\u001b[43myears\u001b[49m\u001b[43m)\u001b[49m\n",
      "\u001b[1;31mTypeError\u001b[0m: sequence item 3: expected str instance, int found"
     ]
    }
   ],
   "source": [
    "years = ('1900', '1924', '1950', 1990)\n",
    "', '.join(years)"
   ]
  },
  {
   "cell_type": "code",
   "execution_count": 80,
   "id": "3577f476-8833-4141-b860-7512f6b0ed17",
   "metadata": {},
   "outputs": [
    {
     "data": {
      "text/plain": [
       "'1900, 1924, 1950, 1990'"
      ]
     },
     "execution_count": 80,
     "metadata": {},
     "output_type": "execute_result"
    }
   ],
   "source": [
    "years = ('1900', '1924', '1950', str(1990))\n",
    "', '.join(years)"
   ]
  },
  {
   "cell_type": "code",
   "execution_count": 81,
   "id": "213b7d9a-eabe-4a07-a108-fc71577cc979",
   "metadata": {},
   "outputs": [
    {
     "data": {
      "text/plain": [
       "True"
      ]
     },
     "execution_count": 81,
     "metadata": {},
     "output_type": "execute_result"
    }
   ],
   "source": [
    "True and True"
   ]
  },
  {
   "cell_type": "code",
   "execution_count": null,
   "id": "645322eb-135d-47b1-abeb-2ca5892015df",
   "metadata": {},
   "outputs": [],
   "source": []
  },
  {
   "cell_type": "code",
   "execution_count": 82,
   "id": "0bbf07e3-8464-4dec-967f-2d6527cdc34f",
   "metadata": {},
   "outputs": [
    {
     "data": {
      "text/plain": [
       "False"
      ]
     },
     "execution_count": 82,
     "metadata": {},
     "output_type": "execute_result"
    }
   ],
   "source": [
    "True and False"
   ]
  },
  {
   "cell_type": "code",
   "execution_count": 83,
   "id": "b68ab02b-c352-45a1-ace6-f6c34cbc5bd0",
   "metadata": {},
   "outputs": [
    {
     "data": {
      "text/plain": [
       "False"
      ]
     },
     "execution_count": 83,
     "metadata": {},
     "output_type": "execute_result"
    }
   ],
   "source": [
    "False and True"
   ]
  },
  {
   "cell_type": "code",
   "execution_count": 84,
   "id": "62ef176d-6531-4053-8225-1fee1457cbd0",
   "metadata": {},
   "outputs": [
    {
     "data": {
      "text/plain": [
       "False"
      ]
     },
     "execution_count": 84,
     "metadata": {},
     "output_type": "execute_result"
    }
   ],
   "source": [
    "False and False"
   ]
  },
  {
   "cell_type": "code",
   "execution_count": 85,
   "id": "0cabee90-e042-4b4a-b7fd-0fb0f03ef1e7",
   "metadata": {},
   "outputs": [
    {
     "data": {
      "text/plain": [
       "True"
      ]
     },
     "execution_count": 85,
     "metadata": {},
     "output_type": "execute_result"
    }
   ],
   "source": [
    "True or False"
   ]
  },
  {
   "cell_type": "code",
   "execution_count": 86,
   "id": "b1456e06-84e0-4fd0-bb29-f24e9564877e",
   "metadata": {},
   "outputs": [
    {
     "data": {
      "text/plain": [
       "True"
      ]
     },
     "execution_count": 86,
     "metadata": {},
     "output_type": "execute_result"
    }
   ],
   "source": [
    "False or True"
   ]
  },
  {
   "cell_type": "code",
   "execution_count": 87,
   "id": "68f0164e-5747-4bed-ad1a-d80d36269889",
   "metadata": {},
   "outputs": [
    {
     "data": {
      "text/plain": [
       "False"
      ]
     },
     "execution_count": 87,
     "metadata": {},
     "output_type": "execute_result"
    }
   ],
   "source": [
    "False or False"
   ]
  },
  {
   "cell_type": "code",
   "execution_count": 88,
   "id": "61cc3e0d-6cdc-4869-a714-9e9e98465ecb",
   "metadata": {},
   "outputs": [
    {
     "data": {
      "text/plain": [
       "True"
      ]
     },
     "execution_count": 88,
     "metadata": {},
     "output_type": "execute_result"
    }
   ],
   "source": [
    "True or True"
   ]
  },
  {
   "cell_type": "code",
   "execution_count": 89,
   "id": "86c2472d-3bf6-48c3-a026-4adfded8084f",
   "metadata": {},
   "outputs": [
    {
     "data": {
      "text/plain": [
       "False"
      ]
     },
     "execution_count": 89,
     "metadata": {},
     "output_type": "execute_result"
    }
   ],
   "source": [
    "not True"
   ]
  },
  {
   "cell_type": "code",
   "execution_count": 90,
   "id": "ae4ff3c2-d62c-469c-880a-816ecd4e6a18",
   "metadata": {},
   "outputs": [
    {
     "data": {
      "text/plain": [
       "True"
      ]
     },
     "execution_count": 90,
     "metadata": {},
     "output_type": "execute_result"
    }
   ],
   "source": [
    "not False"
   ]
  },
  {
   "cell_type": "code",
   "execution_count": 91,
   "id": "77c144ca-ea81-4ede-88a7-c0c03cef6833",
   "metadata": {},
   "outputs": [
    {
     "data": {
      "text/plain": [
       "True"
      ]
     },
     "execution_count": 91,
     "metadata": {},
     "output_type": "execute_result"
    }
   ],
   "source": [
    "is_teacher = True\n",
    "is_active = True\n",
    "\n",
    "is_teacher and is_active"
   ]
  },
  {
   "cell_type": "code",
   "execution_count": 92,
   "id": "1a16b921-5000-4670-91dc-09aac26e931c",
   "metadata": {},
   "outputs": [
    {
     "data": {
      "text/plain": [
       "False"
      ]
     },
     "execution_count": 92,
     "metadata": {},
     "output_type": "execute_result"
    }
   ],
   "source": [
    "is_teacher = True\n",
    "is_active = False\n",
    "\n",
    "is_teacher and is_active"
   ]
  },
  {
   "cell_type": "code",
   "execution_count": 93,
   "id": "1c40872c-bf78-4742-80ec-78906e70168d",
   "metadata": {},
   "outputs": [
    {
     "data": {
      "text/plain": [
       "True"
      ]
     },
     "execution_count": 93,
     "metadata": {},
     "output_type": "execute_result"
    }
   ],
   "source": [
    "is_teacher = True\n",
    "is_active = True\n",
    "is_superuser = False\n",
    "\n",
    "is_superuser or (is_teacher and is_active)"
   ]
  },
  {
   "cell_type": "code",
   "execution_count": 94,
   "id": "29eac778-14a1-4869-9322-ef360e15cf86",
   "metadata": {},
   "outputs": [
    {
     "data": {
      "text/plain": [
       "True"
      ]
     },
     "execution_count": 94,
     "metadata": {},
     "output_type": "execute_result"
    }
   ],
   "source": [
    "is_teacher = False\n",
    "is_active = False\n",
    "is_superuser = True\n",
    "\n",
    "is_superuser or (is_teacher and is_active)"
   ]
  },
  {
   "cell_type": "code",
   "execution_count": 95,
   "id": "821a5adc-cd3c-4714-834f-cd77c4725964",
   "metadata": {},
   "outputs": [
    {
     "data": {
      "text/plain": [
       "True"
      ]
     },
     "execution_count": 95,
     "metadata": {},
     "output_type": "execute_result"
    }
   ],
   "source": [
    "is_teacher = True\n",
    "is_active = False\n",
    "is_superuser = True\n",
    "\n",
    "is_superuser or (is_teacher and is_active)"
   ]
  },
  {
   "cell_type": "code",
   "execution_count": 96,
   "id": "7f8f8ea2-ef7f-467d-b208-7d31b485d315",
   "metadata": {},
   "outputs": [
    {
     "data": {
      "text/plain": [
       "False"
      ]
     },
     "execution_count": 96,
     "metadata": {},
     "output_type": "execute_result"
    }
   ],
   "source": [
    "cold = True\n",
    "windy = False\n",
    "\n",
    "(not cold) and windy # It is not cold and not windy"
   ]
  },
  {
   "cell_type": "code",
   "execution_count": 97,
   "id": "26df8cfe-1d46-42f4-990c-42138248b6c6",
   "metadata": {},
   "outputs": [
    {
     "data": {
      "text/plain": [
       "True"
      ]
     },
     "execution_count": 97,
     "metadata": {},
     "output_type": "execute_result"
    }
   ],
   "source": [
    "cold and wnot (indy)"
   ]
  },
  {
   "cell_type": "code",
   "execution_count": 100,
   "id": "806ce580-80d5-4460-bd3f-b1e3473bfa32",
   "metadata": {},
   "outputs": [],
   "source": [
    "is_teacher = True\n",
    "is_active = False\n",
    "if is_active and is_teacher: # if True and True\n",
    "    print('You can login')"
   ]
  },
  {
   "cell_type": "code",
   "execution_count": 101,
   "id": "96f36248-88bc-46be-9f6a-f4b7b3f4e50d",
   "metadata": {},
   "outputs": [],
   "source": [
    "if None:\n",
    "    print('You can login')"
   ]
  },
  {
   "cell_type": "code",
   "execution_count": 102,
   "id": "396dd23e-ee61-45fb-b741-3fe124f59cd5",
   "metadata": {},
   "outputs": [],
   "source": [
    "my_str = ''\n",
    "if my_str: #if False\n",
    "    print('You can login')"
   ]
  },
  {
   "cell_type": "code",
   "execution_count": 103,
   "id": "cebe370a-e88a-4ea0-bdba-674e971fba81",
   "metadata": {},
   "outputs": [
    {
     "name": "stdout",
     "output_type": "stream",
     "text": [
      "You can login\n"
     ]
    }
   ],
   "source": [
    "my_str = 'Let me in!'\n",
    "if my_str: #if False\n",
    "    print('You can login')"
   ]
  },
  {
   "cell_type": "code",
   "execution_count": 107,
   "id": "18fb1252-cdbc-4063-bd6d-86d8507891ec",
   "metadata": {},
   "outputs": [
    {
     "name": "stdout",
     "output_type": "stream",
     "text": [
      "You can login\n"
     ]
    }
   ],
   "source": [
    "my_str = '   ' \n",
    "if my_str: #if False\n",
    "    print('You can login')"
   ]
  },
  {
   "cell_type": "code",
   "execution_count": 105,
   "id": "0d63b936-09dd-47c6-b193-33264438e884",
   "metadata": {},
   "outputs": [
    {
     "data": {
      "text/plain": [
       "3"
      ]
     },
     "execution_count": 105,
     "metadata": {},
     "output_type": "execute_result"
    }
   ],
   "source": [
    "my_str = '   '\n",
    "\n",
    "len(my_str)"
   ]
  },
  {
   "cell_type": "code",
   "execution_count": 108,
   "id": "f186613e-6edb-4f58-a9f1-e62faf9bfc3a",
   "metadata": {},
   "outputs": [],
   "source": [
    "my_str = '   '  # => ''\n",
    "if my_str.strip(): #if False\n",
    "    print('You can login')"
   ]
  },
  {
   "cell_type": "code",
   "execution_count": 109,
   "id": "f53bcff8-c41a-44ad-a897-0ab015f55816",
   "metadata": {},
   "outputs": [],
   "source": [
    "my_val = 0\n",
    "if my_val: #if False\n",
    "    print('You can login')"
   ]
  },
  {
   "cell_type": "code",
   "execution_count": 110,
   "id": "b9620373-b9ae-4507-8e62-aa6a6ba7490d",
   "metadata": {},
   "outputs": [],
   "source": [
    "my_val = 0.0\n",
    "if my_val: #if False\n",
    "    print('You can login')"
   ]
  },
  {
   "cell_type": "code",
   "execution_count": 111,
   "id": "a8a8b41a-ae81-4175-ba58-cdbb04c43ff3",
   "metadata": {},
   "outputs": [
    {
     "name": "stdout",
     "output_type": "stream",
     "text": [
      "You can login\n"
     ]
    }
   ],
   "source": [
    "my_val = '0'\n",
    "if my_val: #if False\n",
    "    print('You can login')"
   ]
  },
  {
   "cell_type": "code",
   "execution_count": null,
   "id": "097389d6-20da-46c6-87f2-1ca193a51e09",
   "metadata": {},
   "outputs": [],
   "source": [
    "grade = 0\n",
    "grades = [90, 59, 89, 0, -1]\n",
    "if 0: #if False\n",
    "    print('You can login')"
   ]
  },
  {
   "cell_type": "code",
   "execution_count": 112,
   "id": "19c0aae5-6cb9-43ff-bdfa-1a5dd4bab1ca",
   "metadata": {},
   "outputs": [
    {
     "data": {
      "text/plain": [
       "True"
      ]
     },
     "execution_count": 112,
     "metadata": {},
     "output_type": "execute_result"
    }
   ],
   "source": [
    "0 == 0.0"
   ]
  },
  {
   "cell_type": "code",
   "execution_count": 113,
   "id": "6e11ae6f-2f0c-4d08-ae54-db5681f51892",
   "metadata": {},
   "outputs": [
    {
     "data": {
      "text/plain": [
       "False"
      ]
     },
     "execution_count": 113,
     "metadata": {},
     "output_type": "execute_result"
    }
   ],
   "source": [
    "67.0 != 67"
   ]
  },
  {
   "cell_type": "code",
   "execution_count": 114,
   "id": "3429df1f-70fe-40f0-9b0d-e55a36bc39c2",
   "metadata": {},
   "outputs": [
    {
     "data": {
      "text/plain": [
       "True"
      ]
     },
     "execution_count": 114,
     "metadata": {},
     "output_type": "execute_result"
    }
   ],
   "source": [
    "x = 2\n",
    "y = 5\n",
    "z = 7\n",
    "x < y and y < z"
   ]
  },
  {
   "cell_type": "code",
   "execution_count": 115,
   "id": "eaeb4039-23f8-4f64-9869-b3aafcf6188e",
   "metadata": {},
   "outputs": [
    {
     "data": {
      "text/plain": [
       "True"
      ]
     },
     "execution_count": 115,
     "metadata": {},
     "output_type": "execute_result"
    }
   ],
   "source": [
    "x < y  < z"
   ]
  },
  {
   "cell_type": "code",
   "execution_count": 116,
   "id": "ab8bf861-ee6d-4b4b-8c9f-1ee115ddd9c5",
   "metadata": {},
   "outputs": [
    {
     "data": {
      "text/plain": [
       "True"
      ]
     },
     "execution_count": 116,
     "metadata": {},
     "output_type": "execute_result"
    }
   ],
   "source": [
    "3 < 5 != True "
   ]
  },
  {
   "cell_type": "code",
   "execution_count": 117,
   "id": "e67aed14-3092-4f32-86fe-2172e5f9253f",
   "metadata": {},
   "outputs": [
    {
     "data": {
      "text/plain": [
       "True"
      ]
     },
     "execution_count": 117,
     "metadata": {},
     "output_type": "execute_result"
    }
   ],
   "source": [
    "3 < 5"
   ]
  },
  {
   "cell_type": "code",
   "execution_count": 118,
   "id": "265111db-87b5-42fd-a191-8a5d52e992fa",
   "metadata": {},
   "outputs": [
    {
     "data": {
      "text/plain": [
       "False"
      ]
     },
     "execution_count": 118,
     "metadata": {},
     "output_type": "execute_result"
    }
   ],
   "source": [
    "True != True"
   ]
  },
  {
   "cell_type": "code",
   "execution_count": 121,
   "id": "37813263-5164-4f42-b07f-bd7525e05cfc",
   "metadata": {},
   "outputs": [
    {
     "data": {
      "text/plain": [
       "True"
      ]
     },
     "execution_count": 121,
     "metadata": {},
     "output_type": "execute_result"
    }
   ],
   "source": [
    "3 < 5 != True"
   ]
  },
  {
   "cell_type": "code",
   "execution_count": 122,
   "id": "241ab082-d4dd-400c-ae35-2a4455179ab8",
   "metadata": {},
   "outputs": [
    {
     "data": {
      "text/plain": [
       "True"
      ]
     },
     "execution_count": 122,
     "metadata": {},
     "output_type": "execute_result"
    }
   ],
   "source": [
    "(3 < 5) and (5 != True)"
   ]
  },
  {
   "cell_type": "code",
   "execution_count": 123,
   "id": "4ec0831a-e3c9-45e4-9d59-f58a4edc5a46",
   "metadata": {},
   "outputs": [
    {
     "data": {
      "text/plain": [
       "True"
      ]
     },
     "execution_count": 123,
     "metadata": {},
     "output_type": "execute_result"
    }
   ],
   "source": [
    "3 < 5 != False\n",
    "(3 < 5) and (5 != False)"
   ]
  },
  {
   "cell_type": "code",
   "execution_count": 124,
   "id": "faf56372-9260-48ed-9868-6b8aeec2eeb2",
   "metadata": {},
   "outputs": [
    {
     "data": {
      "text/plain": [
       "True"
      ]
     },
     "execution_count": 124,
     "metadata": {},
     "output_type": "execute_result"
    }
   ],
   "source": [
    " 5!= True"
   ]
  },
  {
   "cell_type": "code",
   "execution_count": 125,
   "id": "3ea3819f-9a1a-4316-9663-294a9a2fdfb6",
   "metadata": {},
   "outputs": [
    {
     "data": {
      "text/plain": [
       "True"
      ]
     },
     "execution_count": 125,
     "metadata": {},
     "output_type": "execute_result"
    }
   ],
   "source": [
    "5 != 1"
   ]
  },
  {
   "cell_type": "code",
   "execution_count": 126,
   "id": "f9092290-2edc-4664-be06-e4469db48419",
   "metadata": {},
   "outputs": [
    {
     "name": "stdout",
     "output_type": "stream",
     "text": [
      "blah\n"
     ]
    }
   ],
   "source": [
    "if 5:\n",
    "    print('blah')"
   ]
  },
  {
   "cell_type": "code",
   "execution_count": 127,
   "id": "8fa549e3-ff8f-4f51-b946-bc14c84fa348",
   "metadata": {},
   "outputs": [
    {
     "data": {
      "text/plain": [
       "True"
      ]
     },
     "execution_count": 127,
     "metadata": {},
     "output_type": "execute_result"
    }
   ],
   "source": [
    "'A' < 'a' # 65 < 97"
   ]
  },
  {
   "cell_type": "code",
   "execution_count": 128,
   "id": "550c962b-af80-4be3-897e-09e6b8ff4ad2",
   "metadata": {},
   "outputs": [
    {
     "data": {
      "text/plain": [
       "False"
      ]
     },
     "execution_count": 128,
     "metadata": {},
     "output_type": "execute_result"
    }
   ],
   "source": [
    "'a' < 'A' "
   ]
  },
  {
   "cell_type": "code",
   "execution_count": 129,
   "id": "1b3f5013-f427-4765-83cf-9d11fd31037a",
   "metadata": {},
   "outputs": [
    {
     "data": {
      "text/plain": [
       "True"
      ]
     },
     "execution_count": 129,
     "metadata": {},
     "output_type": "execute_result"
    }
   ],
   "source": [
    "'abc' < 'abd'"
   ]
  },
  {
   "cell_type": "code",
   "execution_count": 130,
   "id": "d1ebacee-c6a7-418d-a214-1730f7255bc2",
   "metadata": {},
   "outputs": [
    {
     "data": {
      "text/plain": [
       "True"
      ]
     },
     "execution_count": 130,
     "metadata": {},
     "output_type": "execute_result"
    }
   ],
   "source": [
    "'abc' < 'abcd' # shorter is less"
   ]
  },
  {
   "cell_type": "code",
   "execution_count": null,
   "id": "ca5b916d-bbb6-40f1-9f09-5d4dac6afdae",
   "metadata": {},
   "outputs": [],
   "source": [
    "'John' \n",
    "'Johnathan'"
   ]
  },
  {
   "cell_type": "code",
   "execution_count": 131,
   "id": "65115b85-ee66-40ec-b705-9f02185787bb",
   "metadata": {},
   "outputs": [
    {
     "data": {
      "text/plain": [
       "True"
      ]
     },
     "execution_count": 131,
     "metadata": {},
     "output_type": "execute_result"
    }
   ],
   "source": [
    "'abca' < 'abcd'"
   ]
  },
  {
   "cell_type": "code",
   "execution_count": 132,
   "id": "00ed59cb-7b50-4d6f-b5c4-1b3b206cd714",
   "metadata": {},
   "outputs": [
    {
     "data": {
      "text/plain": [
       "True"
      ]
     },
     "execution_count": 132,
     "metadata": {},
     "output_type": "execute_result"
    }
   ],
   "source": [
    "'1' < '2' # 49 < 50"
   ]
  },
  {
   "cell_type": "code",
   "execution_count": 133,
   "id": "3b8cc7a1-1081-4c4f-a054-ee9c41e3ec41",
   "metadata": {},
   "outputs": [
    {
     "data": {
      "text/plain": [
       "True"
      ]
     },
     "execution_count": 133,
     "metadata": {},
     "output_type": "execute_result"
    }
   ],
   "source": [
    "'1' < '20'"
   ]
  },
  {
   "cell_type": "code",
   "execution_count": 134,
   "id": "b9a98c62-ee11-4b3c-beee-3cc4a8ff77b8",
   "metadata": {},
   "outputs": [
    {
     "data": {
      "text/plain": [
       "False"
      ]
     },
     "execution_count": 134,
     "metadata": {},
     "output_type": "execute_result"
    }
   ],
   "source": [
    "'2' < '11'"
   ]
  },
  {
   "cell_type": "code",
   "execution_count": 135,
   "id": "45e3b2eb-9b49-44dc-9cf1-c1ac09cdd0d0",
   "metadata": {},
   "outputs": [
    {
     "data": {
      "text/plain": [
       "True"
      ]
     },
     "execution_count": 135,
     "metadata": {},
     "output_type": "execute_result"
    }
   ],
   "source": [
    "2 < 11"
   ]
  },
  {
   "cell_type": "code",
   "execution_count": 136,
   "id": "0a68719a-982e-4aae-8b1a-6ffccc308bb3",
   "metadata": {},
   "outputs": [
    {
     "name": "stdout",
     "output_type": "stream",
     "text": [
      "48\n"
     ]
    }
   ],
   "source": [
    "print(ord('0'))"
   ]
  },
  {
   "cell_type": "code",
   "execution_count": 137,
   "id": "9335f517-0563-451b-95df-730608d3a161",
   "metadata": {},
   "outputs": [
    {
     "data": {
      "text/plain": [
       "True"
      ]
     },
     "execution_count": 137,
     "metadata": {},
     "output_type": "execute_result"
    }
   ],
   "source": [
    "'Jan' in '01 Jan 1838'"
   ]
  },
  {
   "cell_type": "code",
   "execution_count": null,
   "id": "9b4db1d8-a6c0-4374-98ea-d9bcb711e0c8",
   "metadata": {},
   "outputs": [],
   "source": [
    "['AABC', 'ABC', 'ABCD', '1', '2', '11', 'a', 'abc', 'b', 'abcd']\n",
    "1,\n",
    "2,\n",
    "\n",
    "\n",
    "##\n",
    "1\n",
    "11\n",
    "2\n",
    "AABC\n",
    "ABC\n",
    "ABCD\n",
    "a\n",
    "abc\n",
    "abcd\n",
    "b"
   ]
  },
  {
   "cell_type": "code",
   "execution_count": null,
   "id": "4fbcb45c-2ad4-48d6-ab72-a2c211d55563",
   "metadata": {},
   "outputs": [],
   "source": [
    "['Male21', 'Female25', 'Male30', 'Male2', 'Female24', 'Male11']\n",
    "\n",
    "Female24\n",
    "Female25\n",
    "Male11\n",
    "Male2\n",
    "Male21\n",
    "Male30"
   ]
  },
  {
   "cell_type": "code",
   "execution_count": 138,
   "id": "f8e1248f-f4a5-49f9-9f6d-7748308c8ddc",
   "metadata": {},
   "outputs": [
    {
     "data": {
      "text/plain": [
       "2"
      ]
     },
     "execution_count": 138,
     "metadata": {},
     "output_type": "execute_result"
    }
   ],
   "source": [
    "2"
   ]
  },
  {
   "cell_type": "code",
   "execution_count": 139,
   "id": "b4601413-0d7d-493b-bf94-26275ebe350c",
   "metadata": {},
   "outputs": [
    {
     "data": {
      "text/plain": [
       "'1\\n2'"
      ]
     },
     "execution_count": 139,
     "metadata": {},
     "output_type": "execute_result"
    }
   ],
   "source": [
    "'1\\n2'"
   ]
  },
  {
   "cell_type": "code",
   "execution_count": 140,
   "id": "fd9242d0-55e8-495f-a016-ed99dfc47cee",
   "metadata": {},
   "outputs": [
    {
     "name": "stdout",
     "output_type": "stream",
     "text": [
      "1\n",
      "2\n"
     ]
    }
   ],
   "source": [
    "print('1\\n2')"
   ]
  },
  {
   "cell_type": "code",
   "execution_count": 142,
   "id": "1a3c1299-af70-413c-b29f-0908a834c272",
   "metadata": {
    "scrolled": true
   },
   "outputs": [
    {
     "data": {
      "text/plain": [
       "'3 \\n 4'"
      ]
     },
     "execution_count": 142,
     "metadata": {},
     "output_type": "execute_result"
    }
   ],
   "source": [
    "'{} \\n {}'.format(3, 4)"
   ]
  },
  {
   "cell_type": "code",
   "execution_count": 143,
   "id": "9d288c2a-4b2d-4c6e-9779-fcd8ae361dbf",
   "metadata": {},
   "outputs": [
    {
     "name": "stdout",
     "output_type": "stream",
     "text": [
      "3 \n",
      " 4\n"
     ]
    }
   ],
   "source": [
    "print('{} \\n {}'.format(3, 4))"
   ]
  }
 ],
 "metadata": {
  "kernelspec": {
   "display_name": "Python 3 (ipykernel)",
   "language": "python",
   "name": "python3"
  },
  "language_info": {
   "codemirror_mode": {
    "name": "ipython",
    "version": 3
   },
   "file_extension": ".py",
   "mimetype": "text/x-python",
   "name": "python",
   "nbconvert_exporter": "python",
   "pygments_lexer": "ipython3",
   "version": "3.9.18"
  }
 },
 "nbformat": 4,
 "nbformat_minor": 5
}
