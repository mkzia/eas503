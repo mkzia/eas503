{
 "cells": [
  {
   "cell_type": "code",
   "execution_count": 5,
   "id": "2b2df111-47cf-4f25-9f76-188d3160fa7d",
   "metadata": {},
   "outputs": [
    {
     "data": {
      "text/plain": [
       "[('Asian', 'Divorced'),\n",
       " ('White', 'Divorced'),\n",
       " ('Unknown', 'Divorced'),\n",
       " ('Unknown', 'Married'),\n",
       " ('Asian', 'Married'),\n",
       " ('African American', 'Married'),\n",
       " ('White', 'Married'),\n",
       " ('Asian', 'Separated'),\n",
       " ('African American', 'Separated'),\n",
       " ('White', 'Separated'),\n",
       " ('Asian', 'Single'),\n",
       " ('White', 'Single'),\n",
       " ('Unknown', 'Single'),\n",
       " ('African American', 'Single'),\n",
       " ('African American', 'Unknown'),\n",
       " ('Asian', 'Unknown'),\n",
       " ('White', 'Unknown'),\n",
       " ('White', 'Widowed')]"
      ]
     },
     "execution_count": 5,
     "metadata": {},
     "output_type": "execute_result"
    }
   ],
   "source": [
    "values = set()\n",
    "with open('PatientCorePopulatedTable.csv') as file:\n",
    "    header = next(file)\n",
    "    for line in file:\n",
    "        data = line.strip().split('\\t')\n",
    "        race = data[3]\n",
    "        status = data[4]\n",
    "        values.add((race, status))\n",
    "\n",
    "sorted(values, key=lambda ele: ele[1])"
   ]
  },
  {
   "cell_type": "code",
   "execution_count": 11,
   "id": "d49d80fd-11a0-405a-96fa-710b0a54fcb2",
   "metadata": {},
   "outputs": [
    {
     "name": "stdout",
     "output_type": "stream",
     "text": [
      "(C91.00) Acute lymphoblastic leukemia not having achieved remission\n",
      "(M05.442) Rheumatoid myopathy with rheumatoid arthritis of left hand\n",
      "(K91) Intraoperative and postprocedural complications and disorders of digestive system, not elsewhere classified\n",
      "(M05.752) Rheumatoid arthritis with rheumatoid factor of left hip without organ or systems involvement\n",
      "(C94.6) Myelodysplastic disease, not classified\n",
      "(C92.51) Acute myelomonocytic leukemia, in remission\n",
      "(D12.7) Benign neoplasm of rectosigmoid junction\n",
      "(C79.72) Secondary malignant neoplasm of left adrenal gland\n",
      "(M06.31) Rheumatoid nodule, shoulder\n",
      "(Z13.810) Encounter for screening for upper gastrointestinal disorder\n",
      "(Z13.83) Encounter for screening for respiratory disorder NEC\n",
      "(D39.12) Neoplasm of uncertain behavior of left ovary\n",
      "(O99.41) Diseases of the circulatory system complicating pregnancy\n",
      "(O07.32) Renal failure following failed attempted termination of pregnancy\n",
      "(E10.630) Type 1 diabetes mellitus with periodontal disease\n",
      "(F11) Opioid related disorders\n",
      "(D13.1) Benign neoplasm of stomach\n",
      "(F31.4) Bipolar disorder, current episode depressed, severe, without psychotic features\n",
      "(O10.113) Pre-existing hypertensive heart disease complicating pregnancy, third trimester\n",
      "(N49.2) Inflammatory disorders of scrotum\n",
      "(I25.82) Chronic total occlusion of coronary artery\n",
      "(C51.2) Malignant neoplasm of clitoris\n",
      "(H75.01) Mastoiditis in infectious and parasitic diseases classified elsewhere, right ear\n",
      "(M01.X5) Direct infection of hip in infectious and parasitic diseases classified elsewhere\n",
      "(E10.339) Type 1 diabetes mellitus with moderate nonproliferative diabetic retinopathy without macular edema\n",
      "(C19) Malignant neoplasm of rectosigmoid junction\n",
      "(I67.81) Acute cerebrovascular insufficiency\n",
      "(C92.50) Acute myelomonocytic leukemia, not having achieved remission\n",
      "(I25.84) Coronary atherosclerosis due to calcified coronary lesion\n",
      "(M63) Disorders of muscle in diseases classified elsewhere\n",
      "(O9A.1) Malignant neoplasm complicating pregnancy, childbirth and the puerperium\n",
      "(C75.1) Malignant neoplasm of pituitary gland\n",
      "(M11.071) Hydroxyapatite deposition disease, right ankle and foot\n",
      "(F01.5) Vascular dementia\n",
      "(G47) Sleep disorders\n",
      "(G96.1) Disorders of meninges, not elsewhere classified\n",
      "(C91.5) Adult T-cell lymphoma/leukemia (HTLV-1-associated)\n",
      "(Z91.15) Patient's noncompliance with renal dialysis\n",
      "(C92.12) Chronic myeloid leukemia, BCR/ABL-positive, in relapse\n",
      "(M05.742) Rheumatoid arthritis with rheumatoid factor of left hand without organ or systems involvement\n",
      "(J66.1) Flax-dressers' disease\n",
      "(N18.1) Chronic kidney disease, stage 1\n",
      "(C88.3) Immunoproliferative small intestinal disease\n",
      "(Z12) Encounter for screening for malignant neoplasms\n",
      "(M05.261) Rheumatoid vasculitis with rheumatoid arthritis of right knee\n",
      "(B40.1) Chronic pulmonary blastomycosis\n",
      "(H34) Retinal vascular occlusions\n",
      "(M24.251) Disorder of ligament, right hip\n",
      "(O99.712) Diseases of the skin and subcutaneous tissue complicating pregnancy, second trimester\n",
      "(I79.0) Aneurysm of aorta in diseases classified elsewhere\n",
      "(A98.3) Marburg virus disease\n",
      "(M05.722) Rheumatoid arthritis with rheumatoid factor of left elbow without organ or systems involvement\n",
      "(H16.433) Localized vascularization of cornea, bilateral\n",
      "(N25.1) Nephrogenic diabetes insipidus\n",
      "(M02.37) Reiter's disease, ankle and foot\n",
      "(M10.31) Gout due to renal impairment, shoulder\n",
      "(I25.110) Atherosclerotic heart disease of native coronary artery with unstable angina pectoris\n",
      "(E72.4) Disorders of ornithine metabolism\n",
      "(O24.111) Pre-existing diabetes mellitus, type 2, in pregnancy, first trimester\n",
      "(Z13.0) Encounter for screening for diseases of the blood and blood-forming organs and certain disorders involving the immune mechanism\n",
      "(M24.22) Disorder of ligament, elbow\n",
      "(C03.0) Malignant neoplasm of upper gum\n",
      "(Z12.2) Encounter for screening for malignant neoplasm of respiratory organs\n",
      "(C69.61) Malignant neoplasm of right orbit\n",
      "(O10.213) Pre-existing hypertensive chronic kidney disease complicating pregnancy, third trimester\n",
      "(M90.51) Osteonecrosis in diseases classified elsewhere, shoulder\n",
      "(F63.81) Intermittent explosive disorder\n",
      "(O10.13) Pre-existing hypertensive heart disease complicating the puerperium\n",
      "(C94.22) Acute megakaryoblastic leukemia, in relapse\n",
      "(C11) Malignant neoplasm of nasopharynx\n",
      "(I43) Cardiomyopathy in diseases classified elsewhere\n",
      "(E09.359) Drug or chemical induced diabetes mellitus with proliferative diabetic retinopathy without macular edema\n",
      "(M90.6) Osteitis deformans in neoplastic diseases\n",
      "(C72.1) Malignant neoplasm of cauda equina\n",
      "(F12.180) Cannabis abuse with cannabis-induced anxiety disorder\n",
      "(C18.3) Malignant neoplasm of hepatic flexure\n",
      "(M05.272) Rheumatoid vasculitis with rheumatoid arthritis of left ankle and foot\n",
      "(E10.32) Type 1 diabetes mellitus with mild nonproliferative diabetic retinopathy\n",
      "(M06.361) Rheumatoid nodule, right knee\n",
      "(H26.21) Cataract with neovascularization\n",
      "(Z12.13) Encounter for screening for malignant neoplasm of small intestine\n",
      "(D35.5) Benign neoplasm of carotid body\n",
      "(D16.2) Benign neoplasm of long bones of lower limb\n",
      "(M06.041) Rheumatoid arthritis without rheumatoid factor, right hand\n",
      "(M05.732) Rheumatoid arthritis with rheumatoid factor of left wrist without organ or systems involvement\n",
      "(M10.37) Gout due to renal impairment, ankle and foot\n",
      "(C67.5) Malignant neoplasm of bladder neck\n",
      "(M10.361) Gout due to renal impairment, right knee\n",
      "(K08.121) Complete loss of teeth due to periodontal diseases, class I\n",
      "(E30) Disorders of puberty, not elsewhere classified\n",
      "(G71) Primary disorders of muscles\n",
      "(C18.3) Malignant neoplasm of hepatic flexure\n",
      "(O99.351) Diseases of the nervous system complicating pregnancy, first trimester\n",
      "(M05.25) Rheumatoid vasculitis with rheumatoid arthritis of hip\n",
      "(C57.21) Malignant neoplasm of right round ligament\n",
      "(K00) Disorders of tooth development and eruption\n",
      "(M63.832) Disorders of muscle in diseases classified elsewhere, left forearm\n",
      "(C72.3) Malignant neoplasm of optic nerve\n",
      "(M05.27) Rheumatoid vasculitis with rheumatoid arthritis of ankle and foot\n",
      "(F06.1) Catatonic disorder due to known physiological condition\n"
     ]
    }
   ],
   "source": [
    "values = set()\n",
    "with open('AdmissionsDiagnosesCorePopulatedTable.csv') as file:\n",
    "    header = next(file)\n",
    "    for line in file:\n",
    "        _, id, code, description = line.strip().split('\\t')\n",
    "        if id != '1':\n",
    "            continue\n",
    "        \n",
    "        string = f'({code}) {description}'\n",
    "        print(string)\n",
    "        \n",
    "\n",
    "# sorted(values, key=lambda ele: ele[1])"
   ]
  },
  {
   "cell_type": "code",
   "execution_count": 30,
   "id": "35ae7c86-eed0-47b2-9e9f-797ae378a1bd",
   "metadata": {},
   "outputs": [
    {
     "name": "stdout",
     "output_type": "stream",
     "text": [
      "['(C91.00) Acute lymphoblastic leukemia not having achieved remission', '(M05.442) Rheumatoid myopathy with rheumatoid arthritis of left hand', '(K91) Intraoperative and postprocedural complications and disorders of digestive system, not elsewhere classified', '(M05.752) Rheumatoid arthritis with rheumatoid factor of left hip without organ or systems involvement', '(C94.6) Myelodysplastic disease, not classified', '(C92.51) Acute myelomonocytic leukemia, in remission', '(D12.7) Benign neoplasm of rectosigmoid junction', '(C79.72) Secondary malignant neoplasm of left adrenal gland', '(M06.31) Rheumatoid nodule, shoulder', '(Z13.810) Encounter for screening for upper gastrointestinal disorder', '(Z13.83) Encounter for screening for respiratory disorder NEC', '(D39.12) Neoplasm of uncertain behavior of left ovary', '(O99.41) Diseases of the circulatory system complicating pregnancy', '(O07.32) Renal failure following failed attempted termination of pregnancy', '(E10.630) Type 1 diabetes mellitus with periodontal disease', '(F11) Opioid related disorders', '(D13.1) Benign neoplasm of stomach', '(F31.4) Bipolar disorder, current episode depressed, severe, without psychotic features', '(O10.113) Pre-existing hypertensive heart disease complicating pregnancy, third trimester', '(N49.2) Inflammatory disorders of scrotum', '(I25.82) Chronic total occlusion of coronary artery', '(C51.2) Malignant neoplasm of clitoris', '(H75.01) Mastoiditis in infectious and parasitic diseases classified elsewhere, right ear', '(M01.X5) Direct infection of hip in infectious and parasitic diseases classified elsewhere', '(E10.339) Type 1 diabetes mellitus with moderate nonproliferative diabetic retinopathy without macular edema', '(C19) Malignant neoplasm of rectosigmoid junction', '(I67.81) Acute cerebrovascular insufficiency', '(C92.50) Acute myelomonocytic leukemia, not having achieved remission', '(I25.84) Coronary atherosclerosis due to calcified coronary lesion', '(M63) Disorders of muscle in diseases classified elsewhere', '(O9A.1) Malignant neoplasm complicating pregnancy, childbirth and the puerperium', '(C75.1) Malignant neoplasm of pituitary gland', '(M11.071) Hydroxyapatite deposition disease, right ankle and foot', '(F01.5) Vascular dementia', '(G47) Sleep disorders', '(G96.1) Disorders of meninges, not elsewhere classified', '(C91.5) Adult T-cell lymphoma/leukemia (HTLV-1-associated)', \"(Z91.15) Patient's noncompliance with renal dialysis\", '(C92.12) Chronic myeloid leukemia, BCR/ABL-positive, in relapse', '(M05.742) Rheumatoid arthritis with rheumatoid factor of left hand without organ or systems involvement', \"(J66.1) Flax-dressers' disease\", '(N18.1) Chronic kidney disease, stage 1', '(C88.3) Immunoproliferative small intestinal disease', '(Z12) Encounter for screening for malignant neoplasms', '(M05.261) Rheumatoid vasculitis with rheumatoid arthritis of right knee', '(B40.1) Chronic pulmonary blastomycosis', '(H34) Retinal vascular occlusions', '(M24.251) Disorder of ligament, right hip', '(O99.712) Diseases of the skin and subcutaneous tissue complicating pregnancy, second trimester', '(I79.0) Aneurysm of aorta in diseases classified elsewhere', '(A98.3) Marburg virus disease', '(M05.722) Rheumatoid arthritis with rheumatoid factor of left elbow without organ or systems involvement', '(H16.433) Localized vascularization of cornea, bilateral', '(N25.1) Nephrogenic diabetes insipidus', \"(M02.37) Reiter's disease, ankle and foot\", '(M10.31) Gout due to renal impairment, shoulder', '(I25.110) Atherosclerotic heart disease of native coronary artery with unstable angina pectoris', '(E72.4) Disorders of ornithine metabolism', '(O24.111) Pre-existing diabetes mellitus, type 2, in pregnancy, first trimester', '(Z13.0) Encounter for screening for diseases of the blood and blood-forming organs and certain disorders involving the immune mechanism', '(M24.22) Disorder of ligament, elbow', '(C03.0) Malignant neoplasm of upper gum', '(Z12.2) Encounter for screening for malignant neoplasm of respiratory organs', '(C69.61) Malignant neoplasm of right orbit', '(O10.213) Pre-existing hypertensive chronic kidney disease complicating pregnancy, third trimester', '(M90.51) Osteonecrosis in diseases classified elsewhere, shoulder', '(F63.81) Intermittent explosive disorder', '(O10.13) Pre-existing hypertensive heart disease complicating the puerperium', '(C94.22) Acute megakaryoblastic leukemia, in relapse', '(C11) Malignant neoplasm of nasopharynx', '(I43) Cardiomyopathy in diseases classified elsewhere', '(E09.359) Drug or chemical induced diabetes mellitus with proliferative diabetic retinopathy without macular edema', '(M90.6) Osteitis deformans in neoplastic diseases', '(C72.1) Malignant neoplasm of cauda equina', '(F12.180) Cannabis abuse with cannabis-induced anxiety disorder', '(C18.3) Malignant neoplasm of hepatic flexure', '(M05.272) Rheumatoid vasculitis with rheumatoid arthritis of left ankle and foot', '(E10.32) Type 1 diabetes mellitus with mild nonproliferative diabetic retinopathy', '(M06.361) Rheumatoid nodule, right knee', '(H26.21) Cataract with neovascularization', '(Z12.13) Encounter for screening for malignant neoplasm of small intestine', '(D35.5) Benign neoplasm of carotid body', '(D16.2) Benign neoplasm of long bones of lower limb', '(M06.041) Rheumatoid arthritis without rheumatoid factor, right hand', '(M05.732) Rheumatoid arthritis with rheumatoid factor of left wrist without organ or systems involvement', '(M10.37) Gout due to renal impairment, ankle and foot', '(C67.5) Malignant neoplasm of bladder neck', '(M10.361) Gout due to renal impairment, right knee', '(K08.121) Complete loss of teeth due to periodontal diseases, class I', '(E30) Disorders of puberty, not elsewhere classified', '(G71) Primary disorders of muscles', '(C18.3) Malignant neoplasm of hepatic flexure', '(O99.351) Diseases of the nervous system complicating pregnancy, first trimester', '(M05.25) Rheumatoid vasculitis with rheumatoid arthritis of hip', '(C57.21) Malignant neoplasm of right round ligament', '(K00) Disorders of tooth development and eruption', '(M63.832) Disorders of muscle in diseases classified elsewhere, left forearm', '(C72.3) Malignant neoplasm of optic nerve', '(M05.27) Rheumatoid vasculitis with rheumatoid arthritis of ankle and foot', '(F06.1) Catatonic disorder due to known physiological condition']\n"
     ]
    }
   ],
   "source": [
    "file = open('AdmissionsDiagnosesCorePopulatedTable.csv')\n",
    "header = next(file)\n",
    "data = ['(' + (ele.strip().split('\\t')[2] + ') ' + ele.strip().split('\\t')[3]) for ele in filter(lambda line: line.split('\\t')[1] == '1', file)]\n",
    "print(data)\n",
    "# map(lambda line: f'({line.strip().split(\"\\t\")[2]})', data)"
   ]
  },
  {
   "cell_type": "code",
   "execution_count": 25,
   "id": "f4efdbe8-96a6-4a32-a612-5fd837562bd7",
   "metadata": {},
   "outputs": [
    {
     "ename": "SyntaxError",
     "evalue": "f-string expression part cannot include a backslash (2781997147.py, line 2)",
     "output_type": "error",
     "traceback": [
      "\u001b[1;36m  Cell \u001b[1;32mIn[25], line 2\u001b[1;36m\u001b[0m\n\u001b[1;33m    f'{x.split(\"\\t\"}'\u001b[0m\n\u001b[1;37m                     ^\u001b[0m\n\u001b[1;31mSyntaxError\u001b[0m\u001b[1;31m:\u001b[0m f-string expression part cannot include a backslash\n"
     ]
    }
   ],
   "source": [
    "x = 'a\\tb'\n",
    "f'{x.split(\"\\t\"}'"
   ]
  }
 ],
 "metadata": {
  "kernelspec": {
   "display_name": "Python 3 (ipykernel)",
   "language": "python",
   "name": "python3"
  },
  "language_info": {
   "codemirror_mode": {
    "name": "ipython",
    "version": 3
   },
   "file_extension": ".py",
   "mimetype": "text/x-python",
   "name": "python",
   "nbconvert_exporter": "python",
   "pygments_lexer": "ipython3",
   "version": "3.9.18"
  }
 },
 "nbformat": 4,
 "nbformat_minor": 5
}
