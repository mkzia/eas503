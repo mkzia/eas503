{
 "cells": [
  {
   "cell_type": "code",
   "execution_count": 9,
   "id": "ec395696-20c4-4361-877b-f0febb183c92",
   "metadata": {},
   "outputs": [
    {
     "data": {
      "text/plain": [
       "[1, 2, 3, 4, [5, 6, 7]]"
      ]
     },
     "execution_count": 9,
     "metadata": {},
     "output_type": "execute_result"
    }
   ],
   "source": [
    "x = [1, 2, 3, 4]\n",
    "x.append([5, 6, 7])\n",
    "x"
   ]
  },
  {
   "cell_type": "code",
   "execution_count": 8,
   "id": "8adfd27d-a7bb-4698-8640-e56d549a3a0c",
   "metadata": {},
   "outputs": [
    {
     "name": "stdout",
     "output_type": "stream",
     "text": [
      "[1, 2, 3, 4, 5, 6, 7]\n"
     ]
    }
   ],
   "source": [
    "y = [1, 2, 3, 4]\n",
    "y.extend([5, 6, 7])\n",
    "print(y)"
   ]
  },
  {
   "cell_type": "code",
   "execution_count": 10,
   "id": "2492d3a8-968b-4c15-8afc-a2e0646cb6db",
   "metadata": {},
   "outputs": [
    {
     "data": {
      "text/plain": [
       "[1, 2, 3, 4, 5, 6, 7]"
      ]
     },
     "execution_count": 10,
     "metadata": {},
     "output_type": "execute_result"
    }
   ],
   "source": [
    "x = [1, 2, 3, 4]\n",
    "x += [5, 6, 7]\n",
    "x"
   ]
  },
  {
   "cell_type": "code",
   "execution_count": 11,
   "id": "934492d7-606e-44d8-a83c-ce1c51770bad",
   "metadata": {},
   "outputs": [
    {
     "data": {
      "text/plain": [
       "[1, 2, 3, 4, 0, 1, 2, 3, 4]"
      ]
     },
     "execution_count": 11,
     "metadata": {},
     "output_type": "execute_result"
    }
   ],
   "source": [
    "x = [1, 2, 3, 4]\n",
    "x += range(5)\n",
    "x"
   ]
  },
  {
   "cell_type": "code",
   "execution_count": 13,
   "id": "3d5bbede-7f01-49ac-95f2-de23decf7d9c",
   "metadata": {},
   "outputs": [
    {
     "data": {
      "text/plain": [
       "[1, 2, 3, 4, range(0, 5)]"
      ]
     },
     "execution_count": 13,
     "metadata": {},
     "output_type": "execute_result"
    }
   ],
   "source": [
    "x = [1, 2, 3, 4]\n",
    "x.append(range(5))\n",
    "x"
   ]
  },
  {
   "cell_type": "code",
   "execution_count": 14,
   "id": "72ee71b5-8951-4051-ac03-d90b30e0a44f",
   "metadata": {},
   "outputs": [
    {
     "data": {
      "text/plain": [
       "[1, 2, 3, 4, [0, 1, 2, 3, 4]]"
      ]
     },
     "execution_count": 14,
     "metadata": {},
     "output_type": "execute_result"
    }
   ],
   "source": [
    "x = [1, 2, 3, 4]\n",
    "x.append(list(range(5)))\n",
    "x"
   ]
  },
  {
   "cell_type": "code",
   "execution_count": 15,
   "id": "e58d3594-65e5-4fd3-9347-259141bec786",
   "metadata": {},
   "outputs": [
    {
     "data": {
      "text/plain": [
       "[1, 2, 3, 4, 0, 1, 2, 3, 4]"
      ]
     },
     "execution_count": 15,
     "metadata": {},
     "output_type": "execute_result"
    }
   ],
   "source": [
    "x = [1, 2, 3, 4]\n",
    "x.extend(range(5))\n",
    "x"
   ]
  },
  {
   "cell_type": "code",
   "execution_count": 16,
   "id": "42cef522-76c0-4229-834e-8ad3f6e14a4c",
   "metadata": {},
   "outputs": [
    {
     "data": {
      "text/plain": [
       "['Apple', 'Banana', 'Pear']"
      ]
     },
     "execution_count": 16,
     "metadata": {},
     "output_type": "execute_result"
    }
   ],
   "source": [
    "basket = [\n",
    "    'Apple',\n",
    "    'Banana',\n",
    "    'Pear',\n",
    "]\n",
    "\n",
    "basket"
   ]
  },
  {
   "cell_type": "code",
   "execution_count": 19,
   "id": "45fd8562-a4be-4897-b171-7f2d93e74c52",
   "metadata": {},
   "outputs": [
    {
     "data": {
      "text/plain": [
       "['Apple', 'Banana', 'Pear', 'Mango']"
      ]
     },
     "execution_count": 19,
     "metadata": {},
     "output_type": "execute_result"
    }
   ],
   "source": [
    "basket = [\n",
    "    'Apple',\n",
    "    'Banana',\n",
    "    'Pear',\n",
    "    'Mango',\n",
    "]\n",
    "basket"
   ]
  },
  {
   "cell_type": "code",
   "execution_count": 27,
   "id": "52475a25-a4a5-43e8-8b33-0f941ae624be",
   "metadata": {},
   "outputs": [
    {
     "name": "stdout",
     "output_type": "stream",
     "text": [
      "3\n",
      "3\n",
      "6\n",
      "4\n",
      "7\n",
      "5\n",
      "3\n",
      "1\n",
      "1\n",
      "7\n"
     ]
    }
   ],
   "source": [
    "import random\n",
    "random.seed(503)\n",
    "for _ in range(10):\n",
    "    print(random.randint(1, 10))"
   ]
  },
  {
   "cell_type": "code",
   "execution_count": 32,
   "id": "c053d2f3-ce82-4064-b9dd-da43e087cf15",
   "metadata": {},
   "outputs": [
    {
     "name": "stdout",
     "output_type": "stream",
     "text": [
      "0\n"
     ]
    }
   ],
   "source": [
    "for num in range(10):\n",
    "    print(num)\n",
    "    break\n",
    "    print(num * num)"
   ]
  },
  {
   "cell_type": "code",
   "execution_count": 31,
   "id": "3af99b96-1adc-4653-be5b-dc83a51e7cdd",
   "metadata": {},
   "outputs": [
    {
     "name": "stdout",
     "output_type": "stream",
     "text": [
      "0\n",
      "1\n",
      "2\n",
      "3\n",
      "4\n",
      "5\n",
      "6\n",
      "7\n",
      "8\n",
      "9\n"
     ]
    }
   ],
   "source": [
    "for num in range(10):\n",
    "    print(num)\n",
    "    continue\n",
    "    print(num*num)"
   ]
  },
  {
   "cell_type": "code",
   "execution_count": 33,
   "id": "812ec9f4-4a0e-428d-a938-64071fb07b52",
   "metadata": {},
   "outputs": [
    {
     "name": "stdout",
     "output_type": "stream",
     "text": [
      "0\n",
      "1\n",
      "2\n",
      "3\n",
      "4\n",
      "6\n",
      "7\n",
      "8\n",
      "9\n"
     ]
    }
   ],
   "source": [
    "for num in range(10):\n",
    "    if num == 5:\n",
    "        break\n",
    "        continue\n",
    "    print(num)"
   ]
  },
  {
   "cell_type": "code",
   "execution_count": 34,
   "id": "822e2fa0-ab47-43eb-9229-bb92682ac05c",
   "metadata": {},
   "outputs": [
    {
     "name": "stdout",
     "output_type": "stream",
     "text": [
      "0\n",
      "1\n",
      "2\n",
      "3\n",
      "4\n",
      "5\n",
      "6\n",
      "7\n",
      "8\n",
      "9\n"
     ]
    }
   ],
   "source": [
    "for num in range(10):\n",
    "    if num == 5:\n",
    "        pass\n",
    "    print(num)"
   ]
  },
  {
   "cell_type": "code",
   "execution_count": null,
   "id": "8bd006f2-f0a7-431f-855e-6351d031f738",
   "metadata": {},
   "outputs": [],
   "source": [
    "if x > 10:\n",
    "    return 15\n",
    "\n",
    "elif True:\n",
    "    pass\n",
    "else:\n",
    "    return blah"
   ]
  },
  {
   "cell_type": "code",
   "execution_count": 36,
   "id": "eec1be23-07a3-4a51-9f23-5782adb6db63",
   "metadata": {},
   "outputs": [
    {
     "name": "stdin",
     "output_type": "stream",
     "text": [
      "Enter an integer. Enter nothing to quit:  \n"
     ]
    },
    {
     "ename": "ZeroDivisionError",
     "evalue": "division by zero",
     "output_type": "error",
     "traceback": [
      "\u001b[1;31m---------------------------------------------------------------------------\u001b[0m",
      "\u001b[1;31mZeroDivisionError\u001b[0m                         Traceback (most recent call last)",
      "Cell \u001b[1;32mIn[36], line 12\u001b[0m\n\u001b[0;32m      8\u001b[0m     number_count \u001b[38;5;241m+\u001b[39m\u001b[38;5;241m=\u001b[39m \u001b[38;5;241m1\u001b[39m\n\u001b[0;32m      9\u001b[0m     input_string \u001b[38;5;241m=\u001b[39m \u001b[38;5;28minput\u001b[39m(\u001b[38;5;124m'\u001b[39m\u001b[38;5;124mEnter an integer. Enter nothing to quit: \u001b[39m\u001b[38;5;124m'\u001b[39m)\n\u001b[1;32m---> 12\u001b[0m average \u001b[38;5;241m=\u001b[39m \u001b[43msummed_values\u001b[49m\u001b[43m \u001b[49m\u001b[38;5;241;43m/\u001b[39;49m\u001b[43m \u001b[49m\u001b[43mnumber_count\u001b[49m\n\u001b[0;32m     14\u001b[0m \u001b[38;5;28mprint\u001b[39m(\u001b[38;5;124m'\u001b[39m\u001b[38;5;124mThe average of \u001b[39m\u001b[38;5;132;01m%d\u001b[39;00m\u001b[38;5;124m numbers is \u001b[39m\u001b[38;5;132;01m%f\u001b[39;00m\u001b[38;5;124m'\u001b[39m \u001b[38;5;241m%\u001b[39m(number_count, summed_values))\n",
      "\u001b[1;31mZeroDivisionError\u001b[0m: division by zero"
     ]
    }
   ],
   "source": [
    "summed_values = 0  # a container to store the sum of interger values collected\n",
    "number_count = 0  # a container to store the number of integer values collected\n",
    "\n",
    "input_string = input('Enter an integer. Enter nothing to quit: ')\n",
    "\n",
    "while input_string:\n",
    "    summed_values += int(input_string)\n",
    "    number_count += 1\n",
    "    input_string = input('Enter an integer. Enter nothing to quit: ')\n",
    "\n",
    "\n",
    "average = summed_values / number_count\n",
    "\n",
    "print('The average of %d numbers is %f' %(number_count, summed_values))"
   ]
  },
  {
   "cell_type": "code",
   "execution_count": 37,
   "id": "4e1e3d45-47f1-4a70-9dcd-482d56e8aa21",
   "metadata": {},
   "outputs": [
    {
     "name": "stdin",
     "output_type": "stream",
     "text": [
      "Enter an integer. Enter negative number to quit:  5\n",
      "Enter an integer. Enter nothing to quit:  6\n",
      "Enter an integer. Enter nothing to quit:  7\n",
      "Enter an integer. Enter nothing to quit:  8\n",
      "Enter an integer. Enter nothing to quit:  -100\n"
     ]
    },
    {
     "name": "stdout",
     "output_type": "stream",
     "text": [
      "The average of 4 numbers is 26.000000\n"
     ]
    }
   ],
   "source": [
    "summed_values = 0  # a container to store the sum of interger values collected\n",
    "number_count = 0  # a container to store the number of integer values collected\n",
    "\n",
    "number = int(input('Enter an integer. Enter negative number to quit: '))\n",
    "\n",
    "while number >=0:\n",
    "    summed_values += int(number)\n",
    "    number_count += 1\n",
    "    number = int(input('Enter an integer. Enter nothing to quit: '))\n",
    "\n",
    "\n",
    "average = summed_values / number_count\n",
    "\n",
    "print('The average of %d numbers is %f' %(number_count, summed_values))"
   ]
  },
  {
   "cell_type": "code",
   "execution_count": 39,
   "id": "c3d6679d-4522-43f4-8770-b98252974a6a",
   "metadata": {},
   "outputs": [
    {
     "name": "stdin",
     "output_type": "stream",
     "text": [
      "Enter a test grade. Enter negative number to quit:  100\n",
      "Enter a test grade. Enter negative number to quit:  80\n",
      "Enter a test grade. Enter negative number to quit:  90\n",
      "Enter a test grade. Enter negative number to quit:  100\n",
      "Enter a test grade. Enter negative number to quit:  -1\n"
     ]
    },
    {
     "name": "stdout",
     "output_type": "stream",
     "text": [
      "92.5 A\n"
     ]
    }
   ],
   "source": [
    "test_grades = 0  # a container to store the sum of interger values collected\n",
    "number_tests = 0  # a container to store the number of integer values collected\n",
    "\n",
    "number = int(input('Enter a test grade. Enter negative number to quit: '))\n",
    "\n",
    "while number >=0:\n",
    "    test_grades += int(number)\n",
    "    number_tests += 1\n",
    "    number = int(input('Enter a test grade. Enter negative number to quit: '))\n",
    "\n",
    "\n",
    "average = test_grades / number_tests\n",
    "\n",
    "\n",
    "if  average >= 90:\n",
    "    letter_grade = 'A'\n",
    "elif 80 <= average <= 89:\n",
    "    letter_grade = 'B'\n",
    "elif 70 <= average <= 79:\n",
    "    letter_grade = 'C'\n",
    "elif 60 <= average <= 69:\n",
    "    letter_grade = 'D'\n",
    "elif average <= 60:\n",
    "    letter_grade = 'F'\n",
    "\n",
    "\n",
    "print(average, letter_grade)"
   ]
  },
  {
   "cell_type": "code",
   "execution_count": 40,
   "id": "78dc7fd8-ee39-49ca-adab-d0234268a795",
   "metadata": {},
   "outputs": [
    {
     "name": "stdin",
     "output_type": "stream",
     "text": [
      "Enter a starting number:  10\n"
     ]
    },
    {
     "name": "stdout",
     "output_type": "stream",
     "text": [
      "10\n",
      "9\n",
      "8\n",
      "7\n",
      "6\n",
      "5\n",
      "4\n",
      "3\n",
      "2\n",
      "1\n",
      "0\n"
     ]
    }
   ],
   "source": [
    "number = int(input('Enter a starting number: '))\n",
    "\n",
    "while number >= 0:\n",
    "    print(number)\n",
    "    number -= 1"
   ]
  },
  {
   "cell_type": "code",
   "execution_count": 41,
   "id": "44466167-6254-43df-ba2b-f6fac1f46e7a",
   "metadata": {},
   "outputs": [
    {
     "name": "stdin",
     "output_type": "stream",
     "text": [
      "Enter an integer number:  20\n"
     ]
    },
    {
     "name": "stdout",
     "output_type": "stream",
     "text": [
      "0\n",
      "2\n",
      "4\n",
      "6\n",
      "8\n",
      "10\n",
      "12\n",
      "14\n",
      "16\n",
      "18\n",
      "20\n"
     ]
    }
   ],
   "source": [
    "end_number = int(input('Enter an integer number: '))\n",
    "current_number = 0\n",
    "while current_number <= end_number:\n",
    "    if current_number % 2 == 0:\n",
    "        print(current_number)\n",
    "    current_number += 1"
   ]
  },
  {
   "cell_type": "code",
   "execution_count": 42,
   "id": "7072c9f4-285f-41f2-8bbe-3b7f4d88ea86",
   "metadata": {},
   "outputs": [
    {
     "name": "stdout",
     "output_type": "stream",
     "text": [
      "1\n",
      "2\n",
      "3\n",
      "4\n",
      "5\n",
      "6\n",
      "7\n",
      "8\n",
      "9\n",
      "10\n",
      "11\n",
      "12\n",
      "13\n",
      "14\n",
      "15\n",
      "16\n",
      "17\n",
      "18\n",
      "19\n",
      "20\n",
      "21\n",
      "22\n",
      "23\n",
      "24\n",
      "25\n",
      "26\n",
      "27\n",
      "28\n",
      "29\n",
      "30\n",
      "31\n",
      "32\n",
      "33\n",
      "34\n",
      "35\n",
      "36\n",
      "37\n",
      "38\n",
      "39\n",
      "40\n",
      "41\n",
      "42\n",
      "43\n",
      "44\n",
      "45\n",
      "46\n",
      "47\n",
      "48\n",
      "49\n"
     ]
    }
   ],
   "source": [
    "def modify_loop_ex2(n):\n",
    "\n",
    "    iteration_count = 0\n",
    "    number = 1\n",
    "    while number <= n:\n",
    "\n",
    "        if number == 50:\n",
    "            break\n",
    "\n",
    "        print(number)\n",
    "        number += 1\n",
    "        iteration_count += 1\n",
    "\n",
    "modify_loop_ex2(1000)"
   ]
  },
  {
   "cell_type": "code",
   "execution_count": 43,
   "id": "38a5f04b-7bc9-44d4-9ba2-f483726e779f",
   "metadata": {},
   "outputs": [
    {
     "name": "stdout",
     "output_type": "stream",
     "text": [
      "1 A\n",
      "2 B\n",
      "3 C\n",
      "4 D\n",
      "5 E\n",
      "6 F\n",
      "7 G\n",
      "8 H\n",
      "9 I\n"
     ]
    }
   ],
   "source": [
    "# for ele in sequence:\n",
    "#     pass\n",
    "\n",
    "for index, ele in enumerate('ABCDEFGHI', 1):\n",
    "    print(index, ele)"
   ]
  },
  {
   "cell_type": "code",
   "execution_count": 44,
   "id": "720f6714-c27a-4882-9e47-02fcb631e28a",
   "metadata": {},
   "outputs": [
    {
     "data": {
      "text/plain": [
       "[0, 2, 4, 6, 8, 10, 12, 14, 16, 18]"
      ]
     },
     "execution_count": 44,
     "metadata": {},
     "output_type": "execute_result"
    }
   ],
   "source": [
    "# [ valid_expression for ele in sequence]  this will append all the valid expressions in a list \n",
    "\n",
    "[ ele*2 for ele in range(10)]"
   ]
  },
  {
   "cell_type": "code",
   "execution_count": 45,
   "id": "160eb790-f8d5-4973-a4b2-64a5b011f89b",
   "metadata": {},
   "outputs": [
    {
     "data": {
      "text/plain": [
       "[0, 2, 4, 6, 8, 10, 12, 14, 16, 18]"
      ]
     },
     "execution_count": 45,
     "metadata": {},
     "output_type": "execute_result"
    }
   ],
   "source": [
    "tmp = []\n",
    "for ele in range(10):\n",
    "    tmp.append(ele*2)\n",
    "\n",
    "tmp"
   ]
  },
  {
   "cell_type": "code",
   "execution_count": 46,
   "id": "d27ab076-3a6b-4558-aac7-2cd616f56020",
   "metadata": {},
   "outputs": [
    {
     "data": {
      "text/plain": [
       "[0, 10, 20, 30, 40, 50, 60, 70, 80, 90]"
      ]
     },
     "execution_count": 46,
     "metadata": {},
     "output_type": "execute_result"
    }
   ],
   "source": [
    "[ ele*10 for ele in range(10)]"
   ]
  },
  {
   "cell_type": "code",
   "execution_count": 47,
   "id": "c6392545-5a13-4a74-85d9-47e2f6bf0523",
   "metadata": {},
   "outputs": [
    {
     "data": {
      "text/plain": [
       "'BUFFALO'"
      ]
     },
     "execution_count": 47,
     "metadata": {},
     "output_type": "execute_result"
    }
   ],
   "source": [
    "animal = 'buffalo'\n",
    "animal.upper()"
   ]
  },
  {
   "cell_type": "code",
   "execution_count": 49,
   "id": "1bea647a-5fca-406c-8a8a-bf71ab64c6fc",
   "metadata": {},
   "outputs": [
    {
     "data": {
      "text/plain": [
       "'BUFFALO'"
      ]
     },
     "execution_count": 49,
     "metadata": {},
     "output_type": "execute_result"
    }
   ],
   "source": [
    "''.join([ ele.upper() for ele in animal])"
   ]
  },
  {
   "cell_type": "code",
   "execution_count": 50,
   "id": "08e65ee2-32ae-4a64-8b79-57036591fcf7",
   "metadata": {},
   "outputs": [
    {
     "data": {
      "text/plain": [
       "['John', 'Jane', 'Doe']"
      ]
     },
     "execution_count": 50,
     "metadata": {},
     "output_type": "execute_result"
    }
   ],
   "source": [
    "students = ['john', 'jane', 'doe']\n",
    "[ student.title() for student in students]"
   ]
  },
  {
   "cell_type": "code",
   "execution_count": 52,
   "id": "e4e4f7bc-9052-49b3-bf5a-904db796a111",
   "metadata": {},
   "outputs": [
    {
     "data": {
      "text/plain": [
       "[False, False, False, False, True, True]"
      ]
     },
     "execution_count": 52,
     "metadata": {},
     "output_type": "execute_result"
    }
   ],
   "source": [
    "my_list = [0, '', [], 0.0, '0', True]\n",
    "[bool(ele) for ele in my_list]"
   ]
  },
  {
   "cell_type": "code",
   "execution_count": 53,
   "id": "f30382cc-ad6e-4559-b873-0d24051d575d",
   "metadata": {},
   "outputs": [],
   "source": [
    "my_list = range(6)"
   ]
  },
  {
   "cell_type": "code",
   "execution_count": 54,
   "id": "687de823-7c45-45ee-a585-6dfe40d13d8d",
   "metadata": {},
   "outputs": [
    {
     "data": {
      "text/plain": [
       "['0', '1', '2', '3', '4', '5']"
      ]
     },
     "execution_count": 54,
     "metadata": {},
     "output_type": "execute_result"
    }
   ],
   "source": [
    "[ str(ele) for ele in my_list]"
   ]
  },
  {
   "cell_type": "code",
   "execution_count": 57,
   "id": "75e1fc21-7c63-4930-b471-d229a35f16ef",
   "metadata": {},
   "outputs": [
    {
     "name": "stdout",
     "output_type": "stream",
     "text": [
      "student1 ['93', '78', '82', '83', '65']\n",
      "student1 [93, 78, 82, 83, 65]\n"
     ]
    }
   ],
   "source": [
    "line = 'student1,93,78,82,83,65'\n",
    "name, *grades = line.split(',')\n",
    "print(name, grades)\n",
    "grades = [ int(grade) for grade in grades]\n",
    "print(name, grades)"
   ]
  },
  {
   "cell_type": "code",
   "execution_count": 60,
   "id": "c4c7e16b-4059-443f-bd29-9c9adbab51a9",
   "metadata": {},
   "outputs": [
    {
     "data": {
      "text/plain": [
       "('student1', 1199)"
      ]
     },
     "execution_count": 60,
     "metadata": {},
     "output_type": "execute_result"
    }
   ],
   "source": [
    "def calc_average(line):\n",
    "    \"\"\"\n",
    "    Assume line is in format 'student1,93,78,82,83,65'\n",
    "    \"\"\"\n",
    "    import math\n",
    "    name, *grades = line.split(',')\n",
    "    grades = [ int(grade) for grade in grades]\n",
    "    avg = math.ceil(sum(grades)/len(grades))\n",
    "    return name, avg\n",
    "\n",
    "calc_average('student1,93,78,82,83,65, 34, 9032, 90, 2340, 90')"
   ]
  },
  {
   "cell_type": "code",
   "execution_count": 61,
   "id": "17bbb059-8e35-45b9-93a1-f17d2252ca53",
   "metadata": {},
   "outputs": [
    {
     "data": {
      "text/plain": [
       "9032"
      ]
     },
     "execution_count": 61,
     "metadata": {},
     "output_type": "execute_result"
    }
   ],
   "source": [
    "int(' 9032')"
   ]
  },
  {
   "cell_type": "code",
   "execution_count": 62,
   "id": "fa0f92fe-5887-41ed-808f-ccb5b5671cc9",
   "metadata": {},
   "outputs": [
    {
     "data": {
      "text/plain": [
       "[0, 2, 4, 6, 8, 10, 12, 14, 16, 18]"
      ]
     },
     "execution_count": 62,
     "metadata": {},
     "output_type": "execute_result"
    }
   ],
   "source": [
    "numbers = range(20)\n",
    "even = [number for number in numbers if number % 2 == 0 ]\n",
    "even"
   ]
  },
  {
   "cell_type": "code",
   "execution_count": 63,
   "id": "5dd7e0fa-ff23-4ae6-a0a4-f131b6a823f6",
   "metadata": {},
   "outputs": [
    {
     "data": {
      "text/plain": [
       "[1, 3, 5, 7, 9, 11, 13, 15, 17, 19]"
      ]
     },
     "execution_count": 63,
     "metadata": {},
     "output_type": "execute_result"
    }
   ],
   "source": [
    "[number for number in numbers if number % 2 != 0 ]\n"
   ]
  },
  {
   "cell_type": "code",
   "execution_count": 64,
   "id": "a1dc24c2-fb57-4167-b281-36adf8ee0578",
   "metadata": {},
   "outputs": [
    {
     "data": {
      "text/plain": [
       "[0, 1, 2, 27, 4, 125, 6, 343, 8, 729]"
      ]
     },
     "execution_count": 64,
     "metadata": {},
     "output_type": "execute_result"
    }
   ],
   "source": [
    "numbers = range(10)\n",
    "[number if number % 2 == 0 else number**3 for number in range(10)]"
   ]
  },
  {
   "cell_type": "code",
   "execution_count": 68,
   "id": "31ce6c1d-1a1a-4af8-82be-7ff02c006b13",
   "metadata": {},
   "outputs": [
    {
     "data": {
      "text/plain": [
       "'rllywnttgtwrk'"
      ]
     },
     "execution_count": 68,
     "metadata": {},
     "output_type": "execute_result"
    }
   ],
   "source": [
    "sentence = 'I rEAlly want to gO to work'\n",
    "vowels = 'aeiou'\n",
    "\n",
    "''.join([char for char in sentence if char.lower() not in vowels and char.strip() ])\n"
   ]
  },
  {
   "cell_type": "code",
   "execution_count": 83,
   "id": "a6778ac1-6f7a-4f91-b82a-523511a79aed",
   "metadata": {},
   "outputs": [],
   "source": [
    "def get_unique_nationalities():\n",
    "    filename = 'soccer_players_statistics.csv'\n",
    "    header = False\n",
    "    unique_nat = []\n",
    "    with open(filename, encoding=\"utf-8\") as file:\n",
    "        for line in file:\n",
    "            if not line.strip():\n",
    "                continue\n",
    "            if not header:\n",
    "                header = True\n",
    "                continue\n",
    "                \n",
    "            columns = line.strip().split(',')\n",
    "            nat = columns[1]\n",
    "            if nat not in unique_nat:\n",
    "                unique_nat.append(nat)\n",
    "    unique_nat.sort()\n",
    "    return unique_nat\n",
    "\n"
   ]
  },
  {
   "cell_type": "code",
   "execution_count": 84,
   "id": "742ff5b4-111f-4c77-87b3-9c324e3b82b7",
   "metadata": {},
   "outputs": [
    {
     "data": {
      "text/plain": [
       "['Afghanistan',\n",
       " 'Albania',\n",
       " 'Algeria',\n",
       " 'Angola',\n",
       " 'Antigua & Barbuda',\n",
       " 'Argentina',\n",
       " 'Armenia',\n",
       " 'Aruba',\n",
       " 'Australia',\n",
       " 'Austria',\n",
       " 'Azerbaijan',\n",
       " 'Barbados',\n",
       " 'Belarus',\n",
       " 'Belgium',\n",
       " 'Belize',\n",
       " 'Benin',\n",
       " 'Bermuda',\n",
       " 'Bolivia',\n",
       " 'Bosnia Herzegovina',\n",
       " 'Brazil',\n",
       " 'Bulgaria',\n",
       " 'Burkina Faso',\n",
       " 'Cameroon',\n",
       " 'Canada',\n",
       " 'Cape Verde',\n",
       " 'Central African Rep.',\n",
       " 'Chad',\n",
       " 'Chile',\n",
       " 'China PR',\n",
       " 'Chinese Taipei',\n",
       " 'Colombia',\n",
       " 'Comoros',\n",
       " 'Congo',\n",
       " 'Costa Rica',\n",
       " 'Croatia',\n",
       " 'Cuba',\n",
       " 'Curacao',\n",
       " 'Cyprus',\n",
       " 'Czech Republic',\n",
       " 'DR Congo',\n",
       " 'Denmark',\n",
       " 'Dominican Republic',\n",
       " 'Ecuador',\n",
       " 'Egypt',\n",
       " 'El Salvador',\n",
       " 'England',\n",
       " 'Equatorial Guinea',\n",
       " 'Eritrea',\n",
       " 'Estonia',\n",
       " 'FIFA16_NationName_215',\n",
       " 'FYR Macedonia',\n",
       " 'Faroe Islands',\n",
       " 'Fiji',\n",
       " 'Finland',\n",
       " 'France',\n",
       " 'Gabon',\n",
       " 'Gambia',\n",
       " 'Georgia',\n",
       " 'Germany',\n",
       " 'Ghana',\n",
       " 'Gibraltar',\n",
       " 'Greece',\n",
       " 'Grenada',\n",
       " 'Guam',\n",
       " 'Guatemala',\n",
       " 'Guinea',\n",
       " 'Guinea Bissau',\n",
       " 'Guyana',\n",
       " 'Haiti',\n",
       " 'Honduras',\n",
       " 'Hungary',\n",
       " 'Iceland',\n",
       " 'India',\n",
       " 'Iran',\n",
       " 'Iraq',\n",
       " 'Israel',\n",
       " 'Italy',\n",
       " 'Ivory Coast',\n",
       " 'Jamaica',\n",
       " 'Japan',\n",
       " 'Kazakhstan',\n",
       " 'Kenya',\n",
       " 'Korea DPR',\n",
       " 'Korea Republic',\n",
       " 'Kosovo',\n",
       " 'Kuwait',\n",
       " 'Latvia',\n",
       " 'Lebanon',\n",
       " 'Lesotho',\n",
       " 'Liberia',\n",
       " 'Libya',\n",
       " 'Liechtenstein',\n",
       " 'Lithuania',\n",
       " 'Luxembourg',\n",
       " 'Madagascar',\n",
       " 'Mali',\n",
       " 'Malta',\n",
       " 'Mauritania',\n",
       " 'Mauritius',\n",
       " 'Mexico',\n",
       " 'Moldova',\n",
       " 'Montenegro',\n",
       " 'Montserrat',\n",
       " 'Morocco',\n",
       " 'Mozambique',\n",
       " 'Namibia',\n",
       " 'Netherlands',\n",
       " 'New Zealand',\n",
       " 'Niger',\n",
       " 'Nigeria',\n",
       " 'Northern Ireland',\n",
       " 'Norway',\n",
       " 'Oman',\n",
       " 'Pakistan',\n",
       " 'Palestine',\n",
       " 'Panama',\n",
       " 'Papua New Guinea',\n",
       " 'Paraguay',\n",
       " 'Peru',\n",
       " 'Philippines',\n",
       " 'Poland',\n",
       " 'Portugal',\n",
       " 'Puerto Rico',\n",
       " 'Qatar',\n",
       " 'Republic of Ireland',\n",
       " 'Romania',\n",
       " 'Russia',\n",
       " 'San Marino',\n",
       " 'Saudi Arabia',\n",
       " 'Scotland',\n",
       " 'Senegal',\n",
       " 'Serbia',\n",
       " 'Sierra Leone',\n",
       " 'Slovakia',\n",
       " 'Slovenia',\n",
       " 'Somalia',\n",
       " 'South Africa',\n",
       " 'Spain',\n",
       " 'St Kitts Nevis',\n",
       " 'St Lucia',\n",
       " 'Suriname',\n",
       " 'Sweden',\n",
       " 'Switzerland',\n",
       " 'Syria',\n",
       " 'São Tomé & Príncipe',\n",
       " 'Tanzania',\n",
       " 'Timor-Leste',\n",
       " 'Togo',\n",
       " 'Trinidad & Tobago',\n",
       " 'Tunisia',\n",
       " 'Turkey',\n",
       " 'Uganda',\n",
       " 'Ukraine',\n",
       " 'United States',\n",
       " 'Uruguay',\n",
       " 'Uzbekistan',\n",
       " 'Venezuela',\n",
       " 'Wales',\n",
       " 'Zambia',\n",
       " 'Zimbabwe']"
      ]
     },
     "execution_count": 84,
     "metadata": {},
     "output_type": "execute_result"
    }
   ],
   "source": [
    "get_unique_nationalities()"
   ]
  },
  {
   "cell_type": "code",
   "execution_count": 91,
   "id": "5c90e6a4-5dab-4b3b-bfff-24aa02b3b5e4",
   "metadata": {},
   "outputs": [],
   "source": [
    "def get_unique_values_by_column_name(column_name):\n",
    "    filename = 'soccer_players_statistics.csv'\n",
    "    header = False\n",
    "    unique_vals = []\n",
    "    with open(filename, encoding=\"utf-8\") as file:\n",
    "        for line in file:\n",
    "            if not line.strip():\n",
    "                continue\n",
    "            if not header:\n",
    "                header = line.strip().split(',')\n",
    "                try:\n",
    "                    index = header.index(column_name)\n",
    "                except:\n",
    "                    print(f'Column name {column_name} does not exist!')\n",
    "                    return\n",
    "                continue\n",
    "                \n",
    "            columns = line.strip().split(',')\n",
    "            val = columns[index]\n",
    "            if val not in unique_vals:\n",
    "                unique_vals.append(val)\n",
    "    unique_vals.sort()\n",
    "    return unique_vals"
   ]
  },
  {
   "cell_type": "code",
   "execution_count": 94,
   "id": "27adfa24-bf32-436d-94e9-d62d5c04b410",
   "metadata": {},
   "outputs": [
    {
     "data": {
      "text/plain": [
       "['45',\n",
       " '46',\n",
       " '47',\n",
       " '48',\n",
       " '49',\n",
       " '50',\n",
       " '51',\n",
       " '52',\n",
       " '53',\n",
       " '54',\n",
       " '55',\n",
       " '56',\n",
       " '57',\n",
       " '58',\n",
       " '59',\n",
       " '60',\n",
       " '61',\n",
       " '62',\n",
       " '63',\n",
       " '64',\n",
       " '65',\n",
       " '66',\n",
       " '67',\n",
       " '68',\n",
       " '69',\n",
       " '70',\n",
       " '71',\n",
       " '72',\n",
       " '73',\n",
       " '74',\n",
       " '75',\n",
       " '76',\n",
       " '77',\n",
       " '78',\n",
       " '79',\n",
       " '80',\n",
       " '81',\n",
       " '82',\n",
       " '83',\n",
       " '84',\n",
       " '85',\n",
       " '86',\n",
       " '87',\n",
       " '88',\n",
       " '89',\n",
       " '90',\n",
       " '92',\n",
       " '93',\n",
       " '94']"
      ]
     },
     "execution_count": 94,
     "metadata": {},
     "output_type": "execute_result"
    }
   ],
   "source": []
  },
  {
   "cell_type": "code",
   "execution_count": 102,
   "id": "54910332-ff4c-4d8c-a333-81db7fa66e89",
   "metadata": {},
   "outputs": [
    {
     "data": {
      "text/plain": [
       "(45, 94, 69)"
      ]
     },
     "execution_count": 102,
     "metadata": {},
     "output_type": "execute_result"
    }
   ],
   "source": [
    "def stats(column_name):\n",
    "    values = get_unique_values_by_column_name(column_name)\n",
    "    try:\n",
    "        values = [int(val) for val in values]\n",
    "    except:\n",
    "        print(f'Could not convert column {column_name} to integers')\n",
    "        return\n",
    "    return (min(values), max(values), round(sum(values)/len(values)))\n",
    "\n",
    "stats('Rating')"
   ]
  },
  {
   "cell_type": "code",
   "execution_count": 124,
   "id": "d48e40c2-353a-4c24-95a9-0b88f3c345e5",
   "metadata": {},
   "outputs": [],
   "source": [
    "def extract_columns(column_names):\n",
    "    filename = 'soccer_players_statistics.csv'\n",
    "    header = False\n",
    "    values = []\n",
    "    column_indices = []\n",
    "    with open(filename, encoding=\"utf-8\") as file:\n",
    "        for line in file:\n",
    "            if not line.strip():\n",
    "                continue\n",
    "            if not header:\n",
    "                header = line.strip().split(',')\n",
    "                try:\n",
    "                    for name in column_names:\n",
    "                        index = header.index(name)\n",
    "                        column_indices.append(index)\n",
    "                except:\n",
    "                    print(f'Column name {column_name} does not exist!')\n",
    "                    return\n",
    "                continue\n",
    "                \n",
    "            columns = line.strip().split(',')\n",
    "            tmp = []\n",
    "            for index in column_indices:\n",
    "                tmp.append(columns[index])\n",
    "            \n",
    "            values.append(tmp)\n",
    "    return values\n",
    "\n",
    "column_data = extract_columns(['Name','Club_Joining', 'Contract_Expiry'])"
   ]
  },
  {
   "cell_type": "code",
   "execution_count": 128,
   "id": "3281e1e6-35f2-43e6-8489-1cc802c07bee",
   "metadata": {},
   "outputs": [
    {
     "name": "stdout",
     "output_type": "stream",
     "text": [
      "0.0 30.0 4.219309717404902\n"
     ]
    }
   ],
   "source": [
    "differences = []\n",
    "for name, start_date, end_year in column_data:\n",
    "    try:\n",
    "        start_year = int(start_date.split('/')[-1])\n",
    "        end_year = float(end_year)\n",
    "    except:\n",
    "        continue\n",
    "    differences.append(end_year-start_year)\n",
    "print(min(differences), max(differences), sum(differences)/len(differences))"
   ]
  },
  {
   "cell_type": "code",
   "execution_count": 103,
   "id": "82a41ae1-4877-4c42-9a01-5582673ab244",
   "metadata": {},
   "outputs": [],
   "source": [
    "with open('soccer_players_statistics.csv', encoding='utf-8') as file:\n",
    "    for line in file:\n",
    "        header = line.strip().split(',')\n",
    "        break"
   ]
  },
  {
   "cell_type": "code",
   "execution_count": 105,
   "id": "fd654604-516d-4a01-8b4c-af5cbc326f59",
   "metadata": {},
   "outputs": [
    {
     "data": {
      "text/plain": [
       "1"
      ]
     },
     "execution_count": 105,
     "metadata": {},
     "output_type": "execute_result"
    }
   ],
   "source": [
    " header.index('Nationality')"
   ]
  },
  {
   "cell_type": "code",
   "execution_count": 108,
   "id": "ccf75c6e-6380-481c-b3db-8e42f3169713",
   "metadata": {},
   "outputs": [
    {
     "name": "stdout",
     "output_type": "stream",
     "text": [
      "0 Name\n",
      "1 Nationality\n",
      "2 National_Position\n",
      "3 National_Kit\n",
      "4 Club\n",
      "5 Club_Position\n",
      "6 Club_Kit\n",
      "7 Club_Joining\n",
      "8 Contract_Expiry\n",
      "9 Rating\n",
      "10 Height\n",
      "11 Weight\n",
      "12 Preferred_Foot\n",
      "13 Birth_Date\n",
      "14 Age\n",
      "15 Preferred_Position\n",
      "16 Work_Rate\n",
      "17 Weak_foot\n",
      "18 Skill_Moves\n",
      "19 Ball_Control\n",
      "20 Dribbling\n",
      "21 Marking\n",
      "22 Sliding_Tackle\n",
      "23 Standing_Tackle\n",
      "24 Aggression\n",
      "25 Reactions\n",
      "26 Attacking_Position\n",
      "27 Interceptions\n",
      "28 Vision\n",
      "29 Composure\n",
      "30 Crossing\n",
      "31 Short_Pass\n",
      "32 Long_Pass\n",
      "33 Acceleration\n",
      "34 Speed\n",
      "35 Stamina\n",
      "36 Strength\n",
      "37 Balance\n",
      "38 Agility\n",
      "39 Jumping\n",
      "40 Heading\n",
      "41 Shot_Power\n",
      "42 Finishing\n",
      "43 Long_Shots\n",
      "44 Curve\n",
      "45 Freekick_Accuracy\n",
      "46 Penalties\n",
      "47 Volleys\n",
      "48 GK_Positioning\n",
      "49 GK_Diving\n",
      "50 GK_Kicking\n",
      "51 GK_Handling\n",
      "52 GK_Reflexes\n"
     ]
    }
   ],
   "source": [
    "for index, ele in enumerate(header):\n",
    "    print(index, ele)"
   ]
  }
 ],
 "metadata": {
  "kernelspec": {
   "display_name": "Python 3 (ipykernel)",
   "language": "python",
   "name": "python3"
  },
  "language_info": {
   "codemirror_mode": {
    "name": "ipython",
    "version": 3
   },
   "file_extension": ".py",
   "mimetype": "text/x-python",
   "name": "python",
   "nbconvert_exporter": "python",
   "pygments_lexer": "ipython3",
   "version": "3.9.18"
  }
 },
 "nbformat": 4,
 "nbformat_minor": 5
}
