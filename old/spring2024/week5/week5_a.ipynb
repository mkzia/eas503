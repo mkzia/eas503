{
 "cells": [
  {
   "cell_type": "code",
   "execution_count": 1,
   "id": "8909d306-3d35-457d-b911-8a4684c14e83",
   "metadata": {},
   "outputs": [
    {
     "data": {
      "text/plain": [
       "''"
      ]
     },
     "execution_count": 1,
     "metadata": {},
     "output_type": "execute_result"
    }
   ],
   "source": [
    "'' * 5"
   ]
  },
  {
   "cell_type": "code",
   "execution_count": 2,
   "id": "455c6b2e-8e10-40f1-b245-026c85ce6297",
   "metadata": {},
   "outputs": [
    {
     "data": {
      "text/plain": [
       "''"
      ]
     },
     "execution_count": 2,
     "metadata": {},
     "output_type": "execute_result"
    }
   ],
   "source": [
    "5 * ''"
   ]
  },
  {
   "cell_type": "code",
   "execution_count": 3,
   "id": "0529f407-3895-48b4-9b48-47c090624010",
   "metadata": {},
   "outputs": [
    {
     "name": "stdout",
     "output_type": "stream",
     "text": [
      "Help on class range in module builtins:\n",
      "\n",
      "class range(object)\n",
      " |  range(stop) -> range object\n",
      " |  range(start, stop[, step]) -> range object\n",
      " |  \n",
      " |  Return an object that produces a sequence of integers from start (inclusive)\n",
      " |  to stop (exclusive) by step.  range(i, j) produces i, i+1, i+2, ..., j-1.\n",
      " |  start defaults to 0, and stop is omitted!  range(4) produces 0, 1, 2, 3.\n",
      " |  These are exactly the valid indices for a list of 4 elements.\n",
      " |  When step is given, it specifies the increment (or decrement).\n",
      " |  \n",
      " |  Methods defined here:\n",
      " |  \n",
      " |  __bool__(self, /)\n",
      " |      True if self else False\n",
      " |  \n",
      " |  __contains__(self, key, /)\n",
      " |      Return key in self.\n",
      " |  \n",
      " |  __eq__(self, value, /)\n",
      " |      Return self==value.\n",
      " |  \n",
      " |  __ge__(self, value, /)\n",
      " |      Return self>=value.\n",
      " |  \n",
      " |  __getattribute__(self, name, /)\n",
      " |      Return getattr(self, name).\n",
      " |  \n",
      " |  __getitem__(self, key, /)\n",
      " |      Return self[key].\n",
      " |  \n",
      " |  __gt__(self, value, /)\n",
      " |      Return self>value.\n",
      " |  \n",
      " |  __hash__(self, /)\n",
      " |      Return hash(self).\n",
      " |  \n",
      " |  __iter__(self, /)\n",
      " |      Implement iter(self).\n",
      " |  \n",
      " |  __le__(self, value, /)\n",
      " |      Return self<=value.\n",
      " |  \n",
      " |  __len__(self, /)\n",
      " |      Return len(self).\n",
      " |  \n",
      " |  __lt__(self, value, /)\n",
      " |      Return self<value.\n",
      " |  \n",
      " |  __ne__(self, value, /)\n",
      " |      Return self!=value.\n",
      " |  \n",
      " |  __reduce__(...)\n",
      " |      Helper for pickle.\n",
      " |  \n",
      " |  __repr__(self, /)\n",
      " |      Return repr(self).\n",
      " |  \n",
      " |  __reversed__(...)\n",
      " |      Return a reverse iterator.\n",
      " |  \n",
      " |  count(...)\n",
      " |      rangeobject.count(value) -> integer -- return number of occurrences of value\n",
      " |  \n",
      " |  index(...)\n",
      " |      rangeobject.index(value) -> integer -- return index of value.\n",
      " |      Raise ValueError if the value is not present.\n",
      " |  \n",
      " |  ----------------------------------------------------------------------\n",
      " |  Static methods defined here:\n",
      " |  \n",
      " |  __new__(*args, **kwargs) from builtins.type\n",
      " |      Create and return a new object.  See help(type) for accurate signature.\n",
      " |  \n",
      " |  ----------------------------------------------------------------------\n",
      " |  Data descriptors defined here:\n",
      " |  \n",
      " |  start\n",
      " |  \n",
      " |  step\n",
      " |  \n",
      " |  stop\n",
      "\n"
     ]
    }
   ],
   "source": [
    "help(range)"
   ]
  },
  {
   "cell_type": "code",
   "execution_count": 8,
   "id": "382ded4a-3040-4c54-b1db-30d97f314e16",
   "metadata": {},
   "outputs": [],
   "source": [
    "x = range(5) # (0, 5) == > 0, 1, 2, 3, 4\n",
    "x = range(1, 5) # 1, 2, 3, 4\n",
    "x = range(1, 10, 2) # 1, 3, 5, 7, 9"
   ]
  },
  {
   "cell_type": "code",
   "execution_count": 10,
   "id": "4e283983-df83-4cdf-b946-62db327a5b0e",
   "metadata": {},
   "outputs": [],
   "source": [
    "x = list(x)"
   ]
  },
  {
   "cell_type": "code",
   "execution_count": 11,
   "id": "a1c7dca0-f779-4f4f-ba5b-b35eafb2bff4",
   "metadata": {},
   "outputs": [
    {
     "data": {
      "text/plain": [
       "[1, 3, 5, 7, 9]"
      ]
     },
     "execution_count": 11,
     "metadata": {},
     "output_type": "execute_result"
    }
   ],
   "source": [
    "x"
   ]
  },
  {
   "cell_type": "code",
   "execution_count": 12,
   "id": "fc7727bf-216f-400b-8847-c01e4d4543ed",
   "metadata": {},
   "outputs": [
    {
     "name": "stdout",
     "output_type": "stream",
     "text": [
      "1\n",
      "2\n",
      "3\n",
      "4\n",
      "5\n",
      "6\n",
      "7\n",
      "8\n",
      "9\n",
      "10\n",
      "11\n",
      "12\n",
      "13\n",
      "14\n",
      "15\n",
      "16\n",
      "17\n",
      "18\n",
      "19\n",
      "20\n",
      "21\n",
      "22\n",
      "23\n",
      "24\n",
      "25\n",
      "26\n",
      "27\n",
      "28\n",
      "29\n",
      "30\n",
      "31\n",
      "32\n",
      "33\n",
      "34\n",
      "35\n",
      "36\n",
      "37\n",
      "38\n",
      "39\n",
      "40\n",
      "41\n",
      "42\n",
      "43\n",
      "44\n",
      "45\n",
      "46\n",
      "47\n",
      "48\n",
      "49\n",
      "50\n",
      "51\n",
      "52\n",
      "53\n",
      "54\n",
      "55\n",
      "56\n",
      "57\n",
      "58\n",
      "59\n",
      "60\n",
      "61\n",
      "62\n",
      "63\n",
      "64\n",
      "65\n",
      "66\n",
      "67\n",
      "68\n",
      "69\n",
      "70\n",
      "71\n",
      "72\n",
      "73\n",
      "74\n",
      "75\n",
      "76\n",
      "77\n",
      "78\n",
      "79\n",
      "80\n",
      "81\n",
      "82\n",
      "83\n",
      "84\n",
      "85\n",
      "86\n",
      "87\n",
      "88\n",
      "89\n",
      "90\n",
      "91\n",
      "92\n",
      "93\n",
      "94\n",
      "95\n",
      "96\n",
      "97\n",
      "98\n",
      "99\n",
      "100\n"
     ]
    }
   ],
   "source": [
    "for num in range(1, 101):\n",
    "    print(num)"
   ]
  },
  {
   "cell_type": "code",
   "execution_count": 13,
   "id": "3903c3ef-c996-4733-ab72-6f9f7cf63c73",
   "metadata": {},
   "outputs": [],
   "source": [
    "x = [1, 7, 3]"
   ]
  },
  {
   "cell_type": "code",
   "execution_count": 14,
   "id": "ba93c6d0-9651-4310-b5a7-463a119f6cab",
   "metadata": {},
   "outputs": [
    {
     "data": {
      "text/plain": [
       "11"
      ]
     },
     "execution_count": 14,
     "metadata": {},
     "output_type": "execute_result"
    }
   ],
   "source": [
    "sum(x)"
   ]
  },
  {
   "cell_type": "code",
   "execution_count": 17,
   "id": "262a81ea-d760-4df7-b4fa-b8f7d4c142df",
   "metadata": {},
   "outputs": [
    {
     "name": "stdout",
     "output_type": "stream",
     "text": [
      "1\n",
      "17\n",
      "173\n",
      "173\n"
     ]
    }
   ],
   "source": [
    "total = 0\n",
    "for ele in x:\n",
    "    total = total * 10 + ele\n",
    "    print(total)\n",
    "print(total)"
   ]
  },
  {
   "cell_type": "code",
   "execution_count": 19,
   "id": "63e1f6cd-87d5-4674-875c-9d35920d05bc",
   "metadata": {},
   "outputs": [
    {
     "data": {
      "text/plain": [
       "'0001123344'"
      ]
     },
     "execution_count": 19,
     "metadata": {},
     "output_type": "execute_result"
    }
   ],
   "source": [
    "string1 = '1134000234'\n",
    "output = '0001123344]\n",
    "''.join(sorted(string1))"
   ]
  },
  {
   "cell_type": "code",
   "execution_count": 26,
   "id": "de2a3034-e55f-464d-8191-04bcb93370e7",
   "metadata": {},
   "outputs": [
    {
     "data": {
      "text/plain": [
       "['0', '0', '0', '1', '1', '2', '3', '3', '4', '4']"
      ]
     },
     "execution_count": 26,
     "metadata": {},
     "output_type": "execute_result"
    }
   ],
   "source": [
    "sorted(string1)"
   ]
  },
  {
   "cell_type": "code",
   "execution_count": 27,
   "id": "12e0e35f-43fc-439f-bb05-c0bc7ace1d39",
   "metadata": {},
   "outputs": [
    {
     "data": {
      "text/plain": [
       "'0001123344'"
      ]
     },
     "execution_count": 27,
     "metadata": {},
     "output_type": "execute_result"
    }
   ],
   "source": [
    "''.join(sorted(string1))"
   ]
  },
  {
   "cell_type": "code",
   "execution_count": null,
   "id": "c6deba50-b706-4a20-8d22-493e5c7a298f",
   "metadata": {},
   "outputs": [],
   "source": [
    "# [0, 0, 0, 0, 0, 0, 0, 0, 0, 0]\n",
    "# [3, 2, 1, 2, 2, 0, 0, 0, 0, 0]"
   ]
  },
  {
   "cell_type": "code",
   "execution_count": 20,
   "id": "921f09df-1f0f-446d-b5e9-f129b4f24893",
   "metadata": {},
   "outputs": [],
   "source": [
    "store = [0] * 10"
   ]
  },
  {
   "cell_type": "code",
   "execution_count": 22,
   "id": "ec78dc76-cf41-4175-bcdc-97d6a150fcef",
   "metadata": {},
   "outputs": [],
   "source": [
    "for char in string1:\n",
    "    index = int(char)\n",
    "    store[index] += 1"
   ]
  },
  {
   "cell_type": "code",
   "execution_count": 23,
   "id": "172c5060-b502-481e-8a40-d8c13eff5d87",
   "metadata": {},
   "outputs": [
    {
     "data": {
      "text/plain": [
       "[3, 2, 1, 2, 2, 0, 0, 0, 0, 0]"
      ]
     },
     "execution_count": 23,
     "metadata": {},
     "output_type": "execute_result"
    }
   ],
   "source": [
    "store"
   ]
  },
  {
   "cell_type": "code",
   "execution_count": 32,
   "id": "870ec91c-94a5-4cf6-b493-2ae04f7e954a",
   "metadata": {},
   "outputs": [
    {
     "data": {
      "text/plain": [
       "'0001123344'"
      ]
     },
     "execution_count": 32,
     "metadata": {},
     "output_type": "execute_result"
    }
   ],
   "source": [
    "new_string = ''\n",
    "for index, count in enumerate(store):\n",
    "    tmp = str(index) * count\n",
    "    new_string += tmp\n",
    "\n",
    "new_string"
   ]
  },
  {
   "cell_type": "code",
   "execution_count": 37,
   "id": "f9adcc12-46c4-46d3-aafc-5c86b97ed031",
   "metadata": {},
   "outputs": [
    {
     "data": {
      "text/plain": [
       "''"
      ]
     },
     "execution_count": 37,
     "metadata": {},
     "output_type": "execute_result"
    }
   ],
   "source": [
    "x = '                     '\n",
    "x.strip()"
   ]
  },
  {
   "cell_type": "code",
   "execution_count": 38,
   "id": "59eeabfa-0bd3-40bd-b9a0-c431b16c2300",
   "metadata": {},
   "outputs": [
    {
     "name": "stdout",
     "output_type": "stream",
     "text": [
      "\"Index\", \"Year\", \"Age\", \"Name\", \"Movie\"\n",
      "1, 1928, 22, \"Janet Gaynor\", \"Seventh Heaven, Street Angel and Sunrise: A Song of Two Humans\"\n",
      "2, 1929, 37, \"Mary Pickford\", \"Coquette\"\n",
      "3, 1930, 28, \"Norma Shearer\", \"The Divorcee\"\n",
      "4, 1931, 63, \"Marie Dressler\", \"Min and Bill\"\n",
      "5, 1932, 32, \"Helen Hayes\", \"The Sin of Madelon Claudet\"\n",
      "6, 1933, 26, \"Katharine Hepburn\", \"Morning Glory\"\n",
      "7, 1934, 31, \"Claudette Colbert\", \"It Happened One Night\"\n",
      "8, 1935, 27, \"Bette Davis\", \"Dangerous\"\n",
      "9, 1936, 27, \"Luise Rainer\", \"The Great Ziegfeld\"\n",
      "10, 1937, 28, \"Luise Rainer\", \"The Good Earth\"\n",
      "11, 1938, 30, \"Bette Davis\", \"Jezebel\"\n",
      "12, 1939, 26, \"Vivien Leigh\", \"Gone with the Wind\"\n",
      "13, 1940, 29, \"Ginger Rogers\", \"Kitty Foyle\"\n",
      "14, 1941, 24, \"Joan Fontaine\", \"Suspicion\"\n",
      "15, 1942, 38, \"Greer Garson\", \"Mrs. Miniver\"\n",
      "16, 1943, 25, \"Jennifer Jones\", \"The Song of Bernadette\"\n",
      "17, 1944, 29, \"Ingrid Bergman\", \"Gaslight\"\n",
      "18, 1945, 40, \"Joan Crawford\", \"Mildred Pierce\"\n",
      "19, 1946, 30, \"Olivia de Havilland\", \"To Each His Own\"\n",
      "20, 1947, 35, \"Loretta Young\", \"The Farmer's Daughter\"\n",
      "21, 1948, 32, \"Jane Wyman\", \"Johnny Belinda\"\n",
      "22, 1949, 33, \"Olivia de Havilland\", \"The Heiress\"\n",
      "23, 1950, 29, \"Judy Holliday\", \"Born Yesterday\"\n",
      "24, 1951, 38, \"Vivien Leigh\", \"A Streetcar Named Desire\"\n",
      "25, 1952, 54, \"Shirley Booth\", \"Come Back, Little Sheba\"\n",
      "26, 1953, 24, \"Audrey Hepburn\", \"Roman Holiday\"\n",
      "27, 1954, 25, \"Grace Kelly\", \"The Country Girl\"\n",
      "28, 1955, 48, \"Anna Magnani\", \"The Rose Tattoo\"\n",
      "29, 1956, 41, \"Ingrid Bergman\", \"Anastasia\"\n",
      "30, 1957, 28, \"Joanne Woodward\", \"The Three Faces of Eve\"\n",
      "31, 1958, 41, \"Susan Hayward\", \"I Want to Live!\"\n",
      "32, 1959, 39, \"Simone Signoret\", \"Room at the Top\"\n",
      "33, 1960, 29, \"Elizabeth Taylor\", \"BUtterfield 8\"\n",
      "34, 1961, 27, \"Sophia Loren\", \"Two Women\"\n",
      "35, 1962, 31, \"Anne Bancroft\", \"The Miracle Worker\"\n",
      "36, 1963, 31, \"Patricia Neal\", \"Hud\"\n",
      "37, 1964, 29, \"Julie Andrews\", \"Mary Poppins\"\n",
      "38, 1965, 25, \"Julie Christie\", \"Darling\"\n",
      "39, 1966, 35, \"Elizabeth Taylor\", \"Who's Afraid of Virginia Woolf?\"\n",
      "40, 1967, 60, \"Katharine Hepburn\", \"Guess Who's Coming to Dinner\"\n",
      "41, 1968, 61, \"Katharine Hepburn\", \"The Lion in Winter\"\n",
      "42, 1969, 26, \"Barbra Streisand\", \"Funny Girl\"\n",
      "43, 1970, 35, \"Maggie Smith\", \"The Prime of Miss Jean Brodie\"\n",
      "44, 1971, 34, \"Glenda Jackson\", \"Women in Love\"\n",
      "45, 1972, 34, \"Jane Fonda\", \"Klute\"\n",
      "46, 1973, 27, \"Liza Minnelli\", \"Cabaret\"\n",
      "47, 1974, 37, \"Glenda Jackson\", \"A Touch of Class\"\n",
      "48, 1975, 42, \"Ellen Burstyn\", \"Alice Doesn't Live Here Anymore\"\n",
      "49, 1976, 41, \"Louise Fletcher\", \"One Flew Over the Cuckoo's Nest\"\n",
      "50, 1977, 36, \"Faye Dunaway\", \"Network\"\n",
      "51, 1978, 32, \"Diane Keaton\", \"Annie Hall\"\n",
      "52, 1979, 41, \"Jane Fonda\", \"Coming Home\"\n",
      "53, 1980, 33, \"Sally Field\", \"Norma Rae\"\n",
      "54, 1981, 31, \"Sissy Spacek\", \"Coal Miner's Daughter\"\n",
      "55, 1982, 74, \"Katharine Hepburn\", \"On Golden Pond\"\n",
      "56, 1983, 33, \"Meryl Streep\", \"Sophie's Choice\"\n",
      "57, 1984, 49, \"Shirley MacLaine\", \"Terms of Endearment\"\n",
      "58, 1985, 38, \"Sally Field\", \"Places in the Heart\"\n",
      "59, 1986, 61, \"Geraldine Page\", \"The Trip to Bountiful\"\n",
      "60, 1987, 21, \"Marlee Matlin\", \"Children of a Lesser God\"\n",
      "61, 1988, 41, \"Cher\", \"Moonstruck\"\n",
      "62, 1989, 26, \"Jodie Foster\", \"The Accused\"\n",
      "63, 1990, 80, \"Jessica Tandy\", \"Driving Miss Daisy\"\n",
      "64, 1991, 42, \"Kathy Bates\", \"Misery\"\n",
      "65, 1992, 29, \"Jodie Foster\", \"The Silence of the Lambs\"\n",
      "66, 1993, 33, \"Emma Thompson\", \"Howards End\"\n",
      "67, 1994, 36, \"Holly Hunter\", \"The Piano\"\n",
      "68, 1995, 45, \"Jessica Lange\", \"Blue Sky\"\n",
      "69, 1996, 49, \"Susan Sarandon\", \"Dead Man Walking\"\n",
      "70, 1997, 39, \"Frances McDormand\", \"Fargo\"\n",
      "71, 1998, 34, \"Helen Hunt\", \"As Good as It Gets\"\n",
      "72, 1999, 26, \"Gwyneth Paltrow\", \"Shakespeare in Love\"\n",
      "73, 2000, 25, \"Hilary Swank\", \"Boys Don't Cry\"\n",
      "74, 2001, 33, \"Julia Roberts\", \"Erin Brockovich\"\n",
      "75, 2002, 35, \"Halle Berry\", \"Monster's Ball\"\n",
      "76, 2003, 35, \"Nicole Kidman\", \"The Hours\"\n",
      "77, 2004, 28, \"Charlize Theron\", \"Monster\"\n",
      "78, 2005, 30, \"Hilary Swank\", \"Million Dollar Baby\"\n",
      "79, 2006, 29, \"Reese Witherspoon\", \"Walk the Line\"\n",
      "80, 2007, 61, \"Helen Mirren\", \"The Queen\"\n",
      "81, 2008, 32, \"Marion Cotillard\", \"La Vie en rose\"\n",
      "82, 2009, 33, \"Kate Winslet\", \"The Reader\"\n",
      "83, 2010, 45, \"Sandra Bullock\", \"The Blind Side\"\n",
      "84, 2011, 29, \"Natalie Portman\", \"Black Swan\"\n",
      "85, 2012, 62, \"Meryl Streep\", \"The Iron Lady\"\n",
      "86, 2013, 22, \"Jennifer Lawrence\", \"Silver Linings Playbook\"\n",
      "87, 2014, 44, \"Cate Blanchett\", \"Blue Jasmine\"\n",
      "88, 2015, 54, \"Julianne Moore\", \"Still Alice\"\n",
      "89, 2016, 26, \"Brie Larson\", \"Room\"\n"
     ]
    }
   ],
   "source": [
    "with open('oscar_age_female.csv') as file:\n",
    "    for line in file:\n",
    "        if not line.strip(): # used for skipping empty lines!\n",
    "            continue\n",
    "            \n",
    "        print(line.strip())"
   ]
  },
  {
   "cell_type": "code",
   "execution_count": 42,
   "id": "eb434747-c539-4b14-aff3-2c1030123aec",
   "metadata": {},
   "outputs": [
    {
     "name": "stdout",
     "output_type": "stream",
     "text": [
      "line3 1\n",
      "line7 1\n",
      "line3 4444\n",
      "line7 4\n",
      "line3 666666\n",
      "line7 6\n"
     ]
    }
   ],
   "source": [
    "numbers = [1, 3, 4, 6, 3]\n",
    "for number in numbers:\n",
    "    \n",
    "    if number == 3:\n",
    "        continue # any below this line, ignore and go to next value in for loop\n",
    "    print('line3', number*str(number))    \n",
    "    print('line7', number)"
   ]
  },
  {
   "cell_type": "code",
   "execution_count": 49,
   "id": "ce8b5a4d-593d-459e-9a8b-c1981069496b",
   "metadata": {},
   "outputs": [
    {
     "name": "stdout",
     "output_type": "stream",
     "text": [
      "Encountered a bad value 32.o\n"
     ]
    },
    {
     "data": {
      "text/plain": [
       "[3.0, 9.0, 32.0, 324.0, 9.0, 234.0, 23.4, 34.0, 12.0, 44.0, 0.0]"
      ]
     },
     "execution_count": 49,
     "metadata": {},
     "output_type": "execute_result"
    }
   ],
   "source": [
    "numbers = []\n",
    "with open('numbers.txt') as file:\n",
    "    for line in file:\n",
    "        if not line.strip():\n",
    "            continue\n",
    "        try:\n",
    "            number = float(line)\n",
    "        except:\n",
    "            print('Encountered a bad value', line.strip())\n",
    "            continue\n",
    "        numbers.append(number)\n",
    "numbers"
   ]
  },
  {
   "cell_type": "code",
   "execution_count": 53,
   "id": "b7bed197-511f-47c4-8e68-0e5e855bac67",
   "metadata": {},
   "outputs": [
    {
     "data": {
      "text/plain": [
       "True"
      ]
     },
     "execution_count": 53,
     "metadata": {},
     "output_type": "execute_result"
    }
   ],
   "source": [
    "line = '            \\n'\n",
    "not line.strip()"
   ]
  },
  {
   "cell_type": "code",
   "execution_count": 48,
   "id": "5febbdfb-8bc2-40ac-8662-37136e91a535",
   "metadata": {},
   "outputs": [
    {
     "data": {
      "text/plain": [
       "72.44"
      ]
     },
     "execution_count": 48,
     "metadata": {},
     "output_type": "execute_result"
    }
   ],
   "source": [
    "sum(numbers)/len(numbers)"
   ]
  },
  {
   "cell_type": "code",
   "execution_count": 54,
   "id": "93dc9c3b-9202-4267-b9c1-00e3c70dbaf7",
   "metadata": {},
   "outputs": [
    {
     "data": {
      "text/plain": [
       "True"
      ]
     },
     "execution_count": 54,
     "metadata": {},
     "output_type": "execute_result"
    }
   ],
   "source": [
    "x = [1, 34, 2, 23, 5, 5, 34, 2]\n",
    "1 in x"
   ]
  },
  {
   "cell_type": "code",
   "execution_count": 55,
   "id": "cb65857b-e452-48e1-a2c0-78e5484e2f20",
   "metadata": {},
   "outputs": [
    {
     "data": {
      "text/plain": [
       "False"
      ]
     },
     "execution_count": 55,
     "metadata": {},
     "output_type": "execute_result"
    }
   ],
   "source": [
    "35 in x"
   ]
  },
  {
   "cell_type": "code",
   "execution_count": 56,
   "id": "ac063159-b401-4b85-9f95-f3c7657a5283",
   "metadata": {},
   "outputs": [],
   "source": [
    "unique_values = []\n",
    "for ele in x:\n",
    "    if ele not in unique_values:\n",
    "        unique_values.append(ele)"
   ]
  },
  {
   "cell_type": "code",
   "execution_count": 57,
   "id": "938d6450-2d44-48ad-acbe-5aa8a87d3cf4",
   "metadata": {},
   "outputs": [
    {
     "data": {
      "text/plain": [
       "[1, 34, 2, 23, 5]"
      ]
     },
     "execution_count": 57,
     "metadata": {},
     "output_type": "execute_result"
    }
   ],
   "source": [
    "unique_values"
   ]
  },
  {
   "cell_type": "code",
   "execution_count": 58,
   "id": "6d93a19c-432d-4c73-a70a-727bb1be6d0e",
   "metadata": {},
   "outputs": [
    {
     "data": {
      "text/plain": [
       "34.0"
      ]
     },
     "execution_count": 58,
     "metadata": {},
     "output_type": "execute_result"
    }
   ],
   "source": [
    "float('34\\n')"
   ]
  },
  {
   "cell_type": "code",
   "execution_count": 59,
   "id": "f813e5b5-8e60-49b9-9349-ce1f1b63db6a",
   "metadata": {},
   "outputs": [
    {
     "data": {
      "text/plain": [
       "34.0"
      ]
     },
     "execution_count": 59,
     "metadata": {},
     "output_type": "execute_result"
    }
   ],
   "source": [
    "float('34        ')"
   ]
  },
  {
   "cell_type": "code",
   "execution_count": 66,
   "id": "3a1e47a2-f747-4099-bc29-bb6f74d17b95",
   "metadata": {},
   "outputs": [
    {
     "name": "stdout",
     "output_type": "stream",
     "text": [
      "78.8\n",
      "64.42857142857143\n",
      "75.43\n"
     ]
    }
   ],
   "source": [
    "def sum_file(filename):\n",
    "    output = []\n",
    "    with open(filename) as file:\n",
    "        for line in file:\n",
    "            if not line.strip():\n",
    "                continue\n",
    "            try:\n",
    "                number = float(line)\n",
    "            except:\n",
    "                continue\n",
    "            output.append(number)\n",
    "    return sum(output)/len(output)\n",
    "print(sum_file('for_ex7_data1.txt'))\n",
    "print(sum_file('for_ex7_data2.txt'))\n",
    "print(sum_file('for_ex7_data3.txt'))"
   ]
  },
  {
   "cell_type": "code",
   "execution_count": 67,
   "id": "c8d707bc-93e1-4424-a993-7c505dd0f6e7",
   "metadata": {},
   "outputs": [
    {
     "name": "stdout",
     "output_type": "stream",
     "text": [
      "Help on method randint in module random:\n",
      "\n",
      "randint(a, b) method of random.Random instance\n",
      "    Return random integer in range [a, b], including both end points.\n",
      "\n"
     ]
    }
   ],
   "source": [
    "import random\n",
    "random.seed(503)\n",
    "help(random.randint)"
   ]
  },
  {
   "cell_type": "code",
   "execution_count": 85,
   "id": "2db1b522-eef2-4b5d-b068-d26c7cd3cb9b",
   "metadata": {},
   "outputs": [],
   "source": [
    "def simulate_coin_toss(n):\n",
    "    tosses = ''\n",
    "    for n in range(n):\n",
    "        toss = random.randint(0, 1)\n",
    "        if toss == 0:\n",
    "            tosses += 'H'\n",
    "        else:\n",
    "            tosses += 'T'\n",
    "    return tosses"
   ]
  },
  {
   "cell_type": "code",
   "execution_count": 101,
   "id": "5cb8b648-5ca9-4ba5-ac76-532117f872eb",
   "metadata": {},
   "outputs": [
    {
     "data": {
      "text/plain": [
       "(0.5001816, 0.4998184)"
      ]
     },
     "execution_count": 101,
     "metadata": {},
     "output_type": "execute_result"
    }
   ],
   "source": [
    "0 # head\n",
    "1 # tail\n",
    "def probablity_h_t(n):\n",
    "    tosses = simulate_coin_toss(n)\n",
    "    heads = tosses.count('H')\n",
    "    tails = tosses.count('T')\n",
    "    p_h = heads/len(tosses)\n",
    "    p_t = tails/len(tosses)\n",
    "    return(p_h, p_t)\n",
    "\n",
    "probablity_h_t(10_000_000)"
   ]
  },
  {
   "cell_type": "code",
   "execution_count": 116,
   "id": "05ace9a4-fb47-4b82-91e1-1580b43965b9",
   "metadata": {},
   "outputs": [
    {
     "name": "stdout",
     "output_type": "stream",
     "text": [
      "student1,68.12\n",
      "\n",
      "student2,79.60\n",
      "\n",
      "student3,85.80\n",
      "\n",
      "student4,78.80\n",
      "\n",
      "student5,83.40\n",
      "\n",
      "student6,73.80\n",
      "\n",
      "student7,81.60\n",
      "\n",
      "student8,90.00\n",
      "\n",
      "student9,87.00\n",
      "\n",
      "student10,78.20\n",
      "\n"
     ]
    }
   ],
   "source": [
    "filename = 'for_ex11_data.txt'\n",
    "with open(filename) as file, open('output.csv', 'w') as output:\n",
    "    for line in file:\n",
    "        if not line.strip():\n",
    "            continue\n",
    "\n",
    "        student_name, *tmp = line.strip().split(',')\n",
    "        grades = []\n",
    "        for ele in tmp:\n",
    "            grades.append(int(ele))\n",
    "        avg = sum(grades)/len(grades)\n",
    "        line = f'{student_name},{avg:.2f}\\n'\n",
    "        print(line)\n",
    "        output.write(line)"
   ]
  },
  {
   "cell_type": "code",
   "execution_count": 1,
   "id": "7187b6d0-9b81-4b99-bf4c-033dc5840d23",
   "metadata": {},
   "outputs": [
    {
     "ename": "NameError",
     "evalue": "name 'index' is not defined",
     "output_type": "error",
     "traceback": [
      "\u001b[1;31m---------------------------------------------------------------------------\u001b[0m",
      "\u001b[1;31mNameError\u001b[0m                                 Traceback (most recent call last)",
      "Cell \u001b[1;32mIn[1], line 1\u001b[0m\n\u001b[1;32m----> 1\u001b[0m \u001b[43mindex\u001b[49m\n",
      "\u001b[1;31mNameError\u001b[0m: name 'index' is not defined"
     ]
    }
   ],
   "source": [
    "index"
   ]
  }
 ],
 "metadata": {
  "kernelspec": {
   "display_name": "Python 3 (ipykernel)",
   "language": "python",
   "name": "python3"
  },
  "language_info": {
   "codemirror_mode": {
    "name": "ipython",
    "version": 3
   },
   "file_extension": ".py",
   "mimetype": "text/x-python",
   "name": "python",
   "nbconvert_exporter": "python",
   "pygments_lexer": "ipython3",
   "version": "3.9.18"
  }
 },
 "nbformat": 4,
 "nbformat_minor": 5
}
