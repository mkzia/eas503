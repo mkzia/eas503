{
 "cells": [
  {
   "cell_type": "markdown",
   "id": "239df45f",
   "metadata": {},
   "source": [
    "1. `pwd` -- display the present workign directory\n",
    "1. `ls -lh` -- list the contents of a directory \n",
    "1. `clear` -- clear the terminal output\n",
    "1. `cd tests` -- change to another directory \n",
    "1. `cd ..` -- go up one directory\n",
    "1. `python ex1.py` -- execute the python file"
   ]
  },
  {
   "cell_type": "code",
   "execution_count": null,
   "id": "c478576f",
   "metadata": {},
   "outputs": [],
   "source": []
  }
 ],
 "metadata": {
  "kernelspec": {
   "display_name": "Python 3 (ipykernel)",
   "language": "python",
   "name": "python3"
  },
  "language_info": {
   "codemirror_mode": {
    "name": "ipython",
    "version": 3
   },
   "file_extension": ".py",
   "mimetype": "text/x-python",
   "name": "python",
   "nbconvert_exporter": "python",
   "pygments_lexer": "ipython3",
   "version": "3.9.13"
  }
 },
 "nbformat": 4,
 "nbformat_minor": 5
}
