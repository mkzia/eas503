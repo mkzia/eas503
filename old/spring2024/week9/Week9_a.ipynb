{
 "cells": [
  {
   "cell_type": "code",
   "execution_count": 1,
   "id": "83f2a00e-73c7-4e43-a8f3-ed2256ae59e6",
   "metadata": {},
   "outputs": [
    {
     "name": "stdout",
     "output_type": "stream",
     "text": [
      "0\n",
      "1\n",
      "2\n",
      "3\n",
      "4\n"
     ]
    }
   ],
   "source": [
    "x = list(range(5))\n",
    "for ele in x:\n",
    "    print(ele)"
   ]
  },
  {
   "cell_type": "code",
   "execution_count": 4,
   "id": "0e874fae-2398-47fb-b626-993fb7d7acca",
   "metadata": {},
   "outputs": [
    {
     "name": "stdout",
     "output_type": "stream",
     "text": [
      "0\n",
      "1\n",
      "2\n",
      "3\n",
      "4\n"
     ]
    }
   ],
   "source": [
    "class MyRange:\n",
    "    def __init__(self, end_number):\n",
    "        self.end_number = end_number\n",
    "\n",
    "    def __iter__(self):\n",
    "        self.value = 0\n",
    "        return self\n",
    "\n",
    "    def __next__(self):\n",
    "        if self.value < self.end_number:\n",
    "            current_value = self.value\n",
    "            self.value += 1\n",
    "            return current_value\n",
    "        else:\n",
    "            raise StopIteration\n",
    "        \n",
    "\n",
    "\n",
    "mr = MyRange(5)\n",
    "for ele in mr:\n",
    "    print(ele)"
   ]
  },
  {
   "cell_type": "code",
   "execution_count": 8,
   "id": "2e762610-470c-4240-99a7-bdc3ac7eb251",
   "metadata": {},
   "outputs": [
    {
     "name": "stdout",
     "output_type": "stream",
     "text": [
      "['last_name', 'first_name', 'email', 'country', 'account']\n"
     ]
    }
   ],
   "source": [
    "with open('people.tsv') as file:\n",
    "    header = next(file).strip().split()\n",
    "    for line in file:\n",
    "        if not line.strip():\n",
    "            continue\n",
    "\n",
    "\n",
    "print(header)"
   ]
  },
  {
   "cell_type": "code",
   "execution_count": 9,
   "id": "1c9a31da-79ef-463c-bd49-c435d835a95f",
   "metadata": {},
   "outputs": [
    {
     "name": "stdout",
     "output_type": "stream",
     "text": [
      "0\n",
      "1\n",
      "8\n",
      "27\n",
      "64\n",
      "125\n",
      "216\n",
      "343\n",
      "512\n",
      "729\n"
     ]
    }
   ],
   "source": [
    "class PowX:\n",
    "    def __init__(self, limit, power):\n",
    "        self.limit = limit\n",
    "        self.power = power\n",
    "\n",
    "    def __iter__(self):\n",
    "        self.value = 0\n",
    "        return self\n",
    "\n",
    "    def __next__(self):\n",
    "        if self.value < self.limit:\n",
    "            output = self.value**self.power\n",
    "            self.value += 1\n",
    "            return output\n",
    "        else:\n",
    "            raise StopIteration\n",
    "\n",
    "\n",
    "for ele in PowX(10, 3):\n",
    "    print(ele)"
   ]
  },
  {
   "cell_type": "code",
   "execution_count": 11,
   "id": "b70bbf83-9e04-4ed5-8a92-d4b23b451ad9",
   "metadata": {},
   "outputs": [
    {
     "name": "stdout",
     "output_type": "stream",
     "text": [
      "0\n",
      "1\n",
      "8\n",
      "27\n",
      "64\n",
      "125\n",
      "216\n",
      "343\n",
      "512\n",
      "729\n"
     ]
    }
   ],
   "source": [
    "def PowX(limit, power):\n",
    "    value = 0\n",
    "    while value < limit:\n",
    "        yield value**power\n",
    "        value += 1\n",
    "x = PowX(10, 3)\n",
    "for ele in x:\n",
    "    print(ele)"
   ]
  },
  {
   "cell_type": "code",
   "execution_count": 12,
   "id": "0d878620-2c87-434e-a226-2fab2703602d",
   "metadata": {},
   "outputs": [],
   "source": [
    "for ele in x:\n",
    "    print(ele)"
   ]
  },
  {
   "cell_type": "code",
   "execution_count": 13,
   "id": "c51657b3-eb20-41aa-9185-4f6fa93b6d95",
   "metadata": {},
   "outputs": [],
   "source": [
    "for ele in []:\n",
    "    print(ele)"
   ]
  },
  {
   "cell_type": "code",
   "execution_count": null,
   "id": "e8df58be-f072-4d82-99aa-fe2e5ab8d2d4",
   "metadata": {},
   "outputs": [],
   "source": [
    "class MyRange:\n",
    "    def __init__(self, end_number):\n",
    "        self.end_number = end_number\n",
    "\n",
    "    def __iter__(self):\n",
    "        self.value = 0\n",
    "        return self\n",
    "\n",
    "    def __next__(self):\n",
    "        if self.value < self.end_number:\n",
    "            current_value = self.value\n",
    "            self.value += 1\n",
    "            return current_value\n",
    "        else:\n",
    "            raise StopIteration\n",
    "\n",
    "mr1 = MyRange(5)\n",
    "mr2 = MyRange(6)"
   ]
  },
  {
   "cell_type": "code",
   "execution_count": 14,
   "id": "17e12875-5fed-474e-b72a-b26048261668",
   "metadata": {},
   "outputs": [
    {
     "name": "stdout",
     "output_type": "stream",
     "text": [
      "\n",
      "Print class_variable\n",
      "t1.class_variable:  1\n",
      "t2.class_variable:  1\n"
     ]
    }
   ],
   "source": [
    "class TestClass:\n",
    "    class_variable = 1 # Belongs to the class. Shared by all instances\n",
    "t1 = TestClass()\n",
    "t2 = TestClass()\n",
    "\n",
    "print('\\nPrint class_variable')\n",
    "print('t1.class_variable: ', t1.class_variable)\n",
    "print('t2.class_variable: ', t2.class_variable)"
   ]
  },
  {
   "cell_type": "code",
   "execution_count": 15,
   "id": "87e0e63e-268e-4dbd-80d5-408d1d6d5db4",
   "metadata": {},
   "outputs": [
    {
     "data": {
      "text/plain": [
       "1"
      ]
     },
     "execution_count": 15,
     "metadata": {},
     "output_type": "execute_result"
    }
   ],
   "source": [
    "TestClass.class_variable"
   ]
  },
  {
   "cell_type": "code",
   "execution_count": 16,
   "id": "c331d2bb-298f-4ae1-8ce9-70073fa58ebb",
   "metadata": {},
   "outputs": [
    {
     "name": "stdout",
     "output_type": "stream",
     "text": [
      "\n",
      "Change class_variable in class definition and print class_variable\n",
      "t1.class_variable:  2\n",
      "t2.class_variable:  2\n"
     ]
    }
   ],
   "source": [
    "print('\\nChange class_variable in class definition and print class_variable')\n",
    "TestClass.class_variable = 2\n",
    "print('t1.class_variable: ', t1.class_variable)\n",
    "print('t2.class_variable: ', t2.class_variable)"
   ]
  },
  {
   "cell_type": "code",
   "execution_count": 17,
   "id": "17bdb8fc-40a4-43a7-93d4-76c097884a55",
   "metadata": {},
   "outputs": [
    {
     "name": "stdout",
     "output_type": "stream",
     "text": [
      "\n",
      "Change class_variable in instance t1 and print class_variable\n",
      "t1.class_variable:  3\n",
      "t2.class_variable:  2\n"
     ]
    }
   ],
   "source": [
    "print('\\nChange class_variable in instance t1 and print class_variable')\n",
    "t1.class_variable = 3\n",
    "print('t1.class_variable: ', t1.class_variable)\n",
    "print('t2.class_variable: ', t2.class_variable)"
   ]
  },
  {
   "cell_type": "code",
   "execution_count": 18,
   "id": "7714218a-996f-4c4c-9f1c-7e124dc805e4",
   "metadata": {},
   "outputs": [
    {
     "name": "stdout",
     "output_type": "stream",
     "text": [
      "\n",
      "Change class_variable in instance t2 and print class_variable\n",
      "t1.class_variable:  3\n",
      "t2.class_variable:  4\n"
     ]
    }
   ],
   "source": [
    "print('\\nChange class_variable in instance t2 and print class_variable')\n",
    "t2.class_variable = 4\n",
    "print('t1.class_variable: ', t1.class_variable)\n",
    "print('t2.class_variable: ', t2.class_variable)\n"
   ]
  },
  {
   "cell_type": "code",
   "execution_count": 19,
   "id": "22725e23-99d4-44eb-8a5c-8bbe101ad2d4",
   "metadata": {},
   "outputs": [
    {
     "name": "stdout",
     "output_type": "stream",
     "text": [
      "\n",
      " ------------------------------------------------------------ \n",
      "\n"
     ]
    }
   ],
   "source": [
    "print('\\n', '-'*60, '\\n')\n",
    "\n",
    "class TestClass:\n",
    "    class_variable = 1 # Belongs to the class. Shared by all instances\n",
    "\n",
    "    def __init__(self, instance_variable):\n",
    "        self.instance_variable = instance_variable\n",
    "\n",
    "\n",
    "t1 = TestClass(1)\n",
    "t2 = TestClass(2)"
   ]
  },
  {
   "cell_type": "code",
   "execution_count": 20,
   "id": "0c0690e7-022c-4343-af67-67d992df19e6",
   "metadata": {},
   "outputs": [
    {
     "name": "stdout",
     "output_type": "stream",
     "text": [
      "\n",
      "Print class_variable\n",
      "t1.class_variable:  1\n",
      "t2.class_variable:  1\n"
     ]
    }
   ],
   "source": [
    "print('\\nPrint class_variable')\n",
    "print('t1.class_variable: ', t1.class_variable)\n",
    "print('t2.class_variable: ', t2.class_variable)\n"
   ]
  },
  {
   "cell_type": "code",
   "execution_count": 21,
   "id": "cd353f30-c724-4255-825f-4efe4347e69d",
   "metadata": {},
   "outputs": [
    {
     "name": "stdout",
     "output_type": "stream",
     "text": [
      "\n",
      "Print instance_variable\n",
      "t1.instance_variable:  1\n",
      "t2.instance_variable:  2\n"
     ]
    }
   ],
   "source": [
    "print('\\nPrint instance_variable')\n",
    "print('t1.instance_variable: ', t1.instance_variable)\n",
    "print('t2.instance_variable: ', t2.instance_variable)\n",
    "\n"
   ]
  },
  {
   "cell_type": "code",
   "execution_count": 22,
   "id": "0b9f1d69-ec27-48d4-a485-56486d385e63",
   "metadata": {},
   "outputs": [
    {
     "name": "stdout",
     "output_type": "stream",
     "text": [
      "\n",
      "Change class_variable in class definition and print class_variable\n",
      "t1.class_variable:  2\n",
      "t1.class_variable:  2\n"
     ]
    }
   ],
   "source": [
    "print('\\nChange class_variable in class definition and print class_variable')\n",
    "TestClass.class_variable = 2\n",
    "print('t1.class_variable: ', t1.class_variable)\n",
    "print('t1.class_variable: ', t2.class_variable)\n"
   ]
  },
  {
   "cell_type": "code",
   "execution_count": 23,
   "id": "ecb1dfb7-ccff-4c2f-888e-66fa85e9ba1b",
   "metadata": {},
   "outputs": [
    {
     "name": "stdout",
     "output_type": "stream",
     "text": [
      "\n",
      "Change instance_variable for t1 and print instance_variable\n",
      "t1.instance_variable:  10\n",
      "t2.instance_variable:  2\n"
     ]
    }
   ],
   "source": [
    "print('\\nChange instance_variable for t1 and print instance_variable')\n",
    "t1.instance_variable = 10\n",
    "print('t1.instance_variable: ', t1.instance_variable)\n",
    "print('t2.instance_variable: ', t2.instance_variable)\n"
   ]
  },
  {
   "cell_type": "code",
   "execution_count": 24,
   "id": "70024080-353f-4be5-8423-a49fe7bb9b2c",
   "metadata": {},
   "outputs": [
    {
     "name": "stdout",
     "output_type": "stream",
     "text": [
      "\n",
      "Change instance_variable for t2 and print instance_variable\n",
      "t1.instance_variable:  10\n",
      "t2.instance_variable:  20\n"
     ]
    }
   ],
   "source": [
    "print('\\nChange instance_variable for t2 and print instance_variable')\n",
    "t2.instance_variable = 20\n",
    "print('t1.instance_variable: ', t1.instance_variable)\n",
    "print('t2.instance_variable: ', t2.instance_variable)"
   ]
  },
  {
   "cell_type": "code",
   "execution_count": 25,
   "id": "f1503468-e2c5-4e70-a34f-0c4824b0fd01",
   "metadata": {},
   "outputs": [
    {
     "name": "stdout",
     "output_type": "stream",
     "text": [
      "\n",
      "Change class_variable in instance t1 and print class_variable\n",
      "t1.class_variable:  3\n",
      "t2.class_variable:  2\n"
     ]
    }
   ],
   "source": [
    "print('\\nChange class_variable in instance t1 and print class_variable')\n",
    "t1.class_variable = 3\n",
    "print('t1.class_variable: ', t1.class_variable)\n",
    "print('t2.class_variable: ', t2.class_variable)"
   ]
  },
  {
   "cell_type": "code",
   "execution_count": 26,
   "id": "94252f07-2495-4905-bab3-eb029aec8d14",
   "metadata": {},
   "outputs": [
    {
     "name": "stdout",
     "output_type": "stream",
     "text": [
      "\n",
      "Change class_variable in instance t2 and print class_variable\n",
      "t1.class_variable:  3\n",
      "t2.class_variable:  4\n"
     ]
    }
   ],
   "source": [
    "print('\\nChange class_variable in instance t2 and print class_variable')\n",
    "t2.class_variable = 4\n",
    "print('t1.class_variable: ', t1.class_variable)\n",
    "print('t2.class_variable: ', t2.class_variable)\n",
    "\n"
   ]
  },
  {
   "cell_type": "code",
   "execution_count": 27,
   "id": "22bf0029-355e-4c5c-a727-1142fb1f7410",
   "metadata": {},
   "outputs": [
    {
     "name": "stdout",
     "output_type": "stream",
     "text": [
      "\n",
      " ------------------------------------------------------------ \n",
      "\n"
     ]
    }
   ],
   "source": [
    "print('\\n', '-'*60, '\\n')\n",
    "\n",
    "\n",
    "class TestClass:\n",
    "    class_variable = 1\n",
    "\n",
    "    # @staticmethod are bound to class rather than object. Therefore, to use them, you do not have\n",
    "    # to instantiate an object.\n",
    "    # NOTE: staticmethods do no have access to class properties (variables or methods).\n",
    "    # This means they cannot access class_variable.\n",
    "    # Such methods are used when you do not want subclasses to change/overwrite a specific method.\n",
    "\n",
    "    def blah(self):\n",
    "        return 'blah'\n",
    "        \n",
    "    @staticmethod\n",
    "    def add(number1, number2):\n",
    "        return number1 + number2"
   ]
  },
  {
   "cell_type": "code",
   "execution_count": null,
   "id": "c3057d99-513b-4711-afe3-8276dce34588",
   "metadata": {},
   "outputs": [],
   "source": []
  },
  {
   "cell_type": "code",
   "execution_count": 28,
   "id": "6c6fb6f9-9574-473e-9f40-21758a122724",
   "metadata": {},
   "outputs": [
    {
     "data": {
      "text/plain": [
       "3"
      ]
     },
     "execution_count": 28,
     "metadata": {},
     "output_type": "execute_result"
    }
   ],
   "source": [
    "TestClass.add(1,2)"
   ]
  },
  {
   "cell_type": "code",
   "execution_count": 29,
   "id": "d56280cc-1cc9-4316-8fb9-48a6d26f3d1d",
   "metadata": {},
   "outputs": [
    {
     "data": {
      "text/plain": [
       "7"
      ]
     },
     "execution_count": 29,
     "metadata": {},
     "output_type": "execute_result"
    }
   ],
   "source": [
    "t1 = TestClass()\n",
    "t1.add(3,4)"
   ]
  },
  {
   "cell_type": "code",
   "execution_count": 30,
   "id": "dc3901e2-d2a6-4154-9c51-7f8a1ca0b441",
   "metadata": {},
   "outputs": [
    {
     "data": {
      "text/plain": [
       "1"
      ]
     },
     "execution_count": 30,
     "metadata": {},
     "output_type": "execute_result"
    }
   ],
   "source": [
    "TestClass.class_variable"
   ]
  },
  {
   "cell_type": "code",
   "execution_count": 32,
   "id": "733f94ee-8804-480b-bbaf-2fbc4c14b8be",
   "metadata": {},
   "outputs": [
    {
     "ename": "NameError",
     "evalue": "name 'class_variable' is not defined",
     "output_type": "error",
     "traceback": [
      "\u001b[1;31m---------------------------------------------------------------------------\u001b[0m",
      "\u001b[1;31mNameError\u001b[0m                                 Traceback (most recent call last)",
      "Cell \u001b[1;32mIn[32], line 14\u001b[0m\n\u001b[0;32m     10\u001b[0m     \u001b[38;5;129m@staticmethod\u001b[39m\n\u001b[0;32m     11\u001b[0m     \u001b[38;5;28;01mdef\u001b[39;00m \u001b[38;5;21madd\u001b[39m(number1, number2):\n\u001b[0;32m     12\u001b[0m         \u001b[38;5;28;01mreturn\u001b[39;00m number1 \u001b[38;5;241m+\u001b[39m number2 \u001b[38;5;241m+\u001b[39m class_variable\n\u001b[1;32m---> 14\u001b[0m \u001b[38;5;28mprint\u001b[39m(\u001b[38;5;124m'\u001b[39m\u001b[38;5;124m@staticmethod add: \u001b[39m\u001b[38;5;124m'\u001b[39m, \u001b[43mTestClass2\u001b[49m\u001b[38;5;241;43m.\u001b[39;49m\u001b[43madd\u001b[49m\u001b[43m(\u001b[49m\u001b[38;5;241;43m3\u001b[39;49m\u001b[43m,\u001b[49m\u001b[38;5;241;43m4\u001b[39;49m\u001b[43m)\u001b[49m)\n",
      "Cell \u001b[1;32mIn[32], line 12\u001b[0m, in \u001b[0;36mTestClass2.add\u001b[1;34m(number1, number2)\u001b[0m\n\u001b[0;32m     10\u001b[0m \u001b[38;5;129m@staticmethod\u001b[39m\n\u001b[0;32m     11\u001b[0m \u001b[38;5;28;01mdef\u001b[39;00m \u001b[38;5;21madd\u001b[39m(number1, number2):\n\u001b[1;32m---> 12\u001b[0m     \u001b[38;5;28;01mreturn\u001b[39;00m number1 \u001b[38;5;241m+\u001b[39m number2 \u001b[38;5;241m+\u001b[39m \u001b[43mclass_variable\u001b[49m\n",
      "\u001b[1;31mNameError\u001b[0m: name 'class_variable' is not defined"
     ]
    }
   ],
   "source": [
    "class TestClass2:\n",
    "    class_variable = 1\n",
    "\n",
    "    # @staticmethod are bound to class rather than object. Therefore, to use them, you do not have\n",
    "    # to instantiate an object.\n",
    "    # NOTE: staticmethods do no have access to class properties (variables or methods).\n",
    "    # This means they cannot access class_variable.\n",
    "    # Such methods are used when you do not want subclasses to change/overwrite a specific method.\n",
    "\n",
    "    @staticmethod\n",
    "    def add(number1, number2):\n",
    "        return number1 + number2# + class_variable\n",
    "\n",
    "print('@staticmethod add: ', TestClass2.add(3,4))"
   ]
  },
  {
   "cell_type": "code",
   "execution_count": 36,
   "id": "2f3c52c5-af65-4854-8a0e-77c584527e38",
   "metadata": {},
   "outputs": [
    {
     "name": "stdout",
     "output_type": "stream",
     "text": [
      "@classmethod add:  11\n"
     ]
    }
   ],
   "source": [
    "class TestClass:\n",
    "    class_variable = 1\n",
    "\n",
    "    # @classmethod are bound to class rather than object. Therefore, to use them, you do not have\n",
    "    # to instantiate an object.\n",
    "    # NOTE: Unlike staticmethods, classmethods do have access to class properties (variables or methods).\n",
    "    # This means they can access class_variable.\n",
    "\n",
    "    @classmethod\n",
    "    def add(cls, number1, number2):\n",
    "        return number1 + number2\n",
    "print('@classmethod add: ', TestClass.add(5,6))\n"
   ]
  },
  {
   "cell_type": "code",
   "execution_count": 37,
   "id": "e38dc00d-04fb-4fbf-8661-0b891e459684",
   "metadata": {},
   "outputs": [
    {
     "name": "stdout",
     "output_type": "stream",
     "text": [
      "@classmethod add -- access to class variable:  12\n"
     ]
    }
   ],
   "source": [
    "class TestClass2:\n",
    "    class_variable = 1\n",
    "\n",
    "    # @classmethod are bound to class rather than object. Therefore, to use them, you do not have\n",
    "    # to instantiate an object.\n",
    "    # NOTE: Unlike staticmethods, classmethods do have access to class properties (variables or methods).\n",
    "    # This means they can access class_variable.\n",
    "\n",
    "    @classmethod\n",
    "    def add(cls, number1, number2):\n",
    "        return number1 + number2 + cls.class_variable\n",
    "\n",
    "print('@classmethod add -- access to class variable: ', TestClass2.add(5,6))"
   ]
  },
  {
   "cell_type": "code",
   "execution_count": 50,
   "id": "64c216cc-0128-4f91-b505-7682cca6c327",
   "metadata": {},
   "outputs": [
    {
     "name": "stdout",
     "output_type": "stream",
     "text": [
      "add_static:  27\n",
      "add_class:  28\n"
     ]
    }
   ],
   "source": [
    "class TestClass:\n",
    "    class_variable = 1\n",
    "\n",
    "    def __init__(self, var):\n",
    "        self.var = var\n",
    "\n",
    "    @staticmethod\n",
    "    def add_static(number1, number2):\n",
    "        return number1 + number2\n",
    "\n",
    "    @classmethod\n",
    "    def add_class(cls, number1, number2):\n",
    "        return number1 + number2 + cls.class_variable\n",
    "\n",
    "    def add_object(self, number1, number2):\n",
    "        return number1 + number2 + self.class_variable + 29 + self.var + self.five()\n",
    "\n",
    "    def five(self):\n",
    "        return 5\n",
    "\n",
    "\n",
    "print('add_static: ', TestClass.add_static(13,14))\n",
    "print('add_class: ', TestClass.add_class(13,14))\n",
    "\n",
    "\n"
   ]
  },
  {
   "cell_type": "code",
   "execution_count": 51,
   "id": "a463c661-c803-4002-bf5a-83a7eb701375",
   "metadata": {},
   "outputs": [
    {
     "name": "stdout",
     "output_type": "stream",
     "text": [
      "Call from object -- add_object:  96\n"
     ]
    }
   ],
   "source": [
    "t1 = TestClass(34)                                                                           #(self, number1, number2)\n",
    "print('Call from object -- add_object: ', t1.add_object(13, 14)) # --> TestClass.add_object(t1, 13, 14))"
   ]
  },
  {
   "cell_type": "code",
   "execution_count": 52,
   "id": "d968fe5c-e628-4446-890c-dc2f5a8e0476",
   "metadata": {},
   "outputs": [
    {
     "name": "stdout",
     "output_type": "stream",
     "text": [
      "Call from class -- add_object:  96\n"
     ]
    }
   ],
   "source": [
    "print('Call from class -- add_object: ', TestClass.add_object(t1, 13, 14))"
   ]
  },
  {
   "cell_type": "code",
   "execution_count": 53,
   "id": "71f22005-941f-42f6-9ece-dd132f3d8f42",
   "metadata": {},
   "outputs": [],
   "source": [
    "class MyClass:\n",
    "    def __init__(self, **kwargs):\n",
    "        self.data = {}\n",
    "              \n",
    "    def __setitem__(self, key, value): # MyCLass[key] = value\n",
    "        self.data[key] = value\n",
    "        \n",
    "    def __getitem__(self, key): # MyClass[key]\n",
    "        return self.data[key]      \n",
    "\n",
    "my_class = MyClass()\n",
    "# + __add__\n",
    "my_class['Exam1'] = 90"
   ]
  },
  {
   "cell_type": "code",
   "execution_count": 54,
   "id": "98996478-d18e-460c-ad0a-e9d42396dd0d",
   "metadata": {},
   "outputs": [
    {
     "data": {
      "text/plain": [
       "90"
      ]
     },
     "execution_count": 54,
     "metadata": {},
     "output_type": "execute_result"
    }
   ],
   "source": [
    "my_class['Exam1']"
   ]
  },
  {
   "cell_type": "code",
   "execution_count": 56,
   "id": "c09d75cb-433b-4ede-9cd1-b4347cb711c4",
   "metadata": {},
   "outputs": [
    {
     "data": {
      "text/plain": [
       "50"
      ]
     },
     "execution_count": 56,
     "metadata": {},
     "output_type": "execute_result"
    }
   ],
   "source": [
    "my_class['Exam2'] = 50\n",
    "my_class['Exam2']"
   ]
  },
  {
   "cell_type": "code",
   "execution_count": 57,
   "id": "5ea1c5da-7a05-4315-87dc-5f0d80017be7",
   "metadata": {},
   "outputs": [
    {
     "data": {
      "text/plain": [
       "{'Exam1': 90, 'Exam2': 50}"
      ]
     },
     "execution_count": 57,
     "metadata": {},
     "output_type": "execute_result"
    }
   ],
   "source": [
    "my_class.data"
   ]
  },
  {
   "cell_type": "code",
   "execution_count": 99,
   "id": "b8485068-c057-4842-8868-63be0df64afb",
   "metadata": {},
   "outputs": [],
   "source": [
    "from collections import defaultdict\n",
    "class MyClass:\n",
    "    def __init__(self, **kwargs):\n",
    "        self.data = defaultdict(list)\n",
    "        header = kwargs.get('header') \n",
    "        lines = kwargs.get('lines')\n",
    "        if header:\n",
    "            header = lines.pop(0)\n",
    "        else:\n",
    "            header = list(range(len(lines[0])))\n",
    "        self.header = header\n",
    "        # Store the data as a dictionary\n",
    "        for line in lines:\n",
    "            row = dict(zip(header, line))\n",
    "            for key,value in row.items():\n",
    "                self.data[key].append(value)\n",
    "              \n",
    "    def __setitem__(self, key, value): # MyCLass[key] = value\n",
    "        self.data[key] = value\n",
    "        \n",
    "    def __getitem__(self, key): # MyClass[key]\n",
    "        if type(key) in (str, int):\n",
    "            return self.data[key]   \n",
    "        elif isinstance(key, list):\n",
    "            output = []\n",
    "            for k in key:\n",
    "                output.append(self.data[k])\n",
    "        \n",
    "            output = list(zip(*output))              \n",
    "            return output"
   ]
  },
  {
   "cell_type": "code",
   "execution_count": null,
   "id": "2c1806e0-49ac-4d20-9b38-01f68cfad9b9",
   "metadata": {},
   "outputs": [],
   "source": []
  },
  {
   "cell_type": "code",
   "execution_count": 58,
   "id": "197e5e5d-0c87-45c1-90d9-014431c3188d",
   "metadata": {},
   "outputs": [
    {
     "name": "stdout",
     "output_type": "stream",
     "text": [
      "['col1', 'col2', 'col3'] [[1, 2, 3], [4, 5, 6], [7, 8, 9]]\n"
     ]
    }
   ],
   "source": [
    "x = [\n",
    "    ['col1','col2', 'col3'],\n",
    "    [1, 2, 3],\n",
    "    [4, 5, 6],\n",
    "    [7, 8, 9]   \n",
    "]\n",
    "\n",
    "header = x.pop(0)\n",
    "print(header, x)\n"
   ]
  },
  {
   "cell_type": "code",
   "execution_count": 59,
   "id": "1dfe0673-bf7d-4740-9d17-cdf2cd1e82ae",
   "metadata": {},
   "outputs": [
    {
     "name": "stdout",
     "output_type": "stream",
     "text": [
      "[1, 2, 3]\n",
      "[4, 5, 6]\n",
      "[7, 8, 9]\n"
     ]
    }
   ],
   "source": [
    "for row in x:\n",
    "    print(row)"
   ]
  },
  {
   "cell_type": "code",
   "execution_count": 64,
   "id": "aed84d85-98fd-4528-9df5-8e9203067a3c",
   "metadata": {},
   "outputs": [
    {
     "name": "stdout",
     "output_type": "stream",
     "text": [
      "{'col1': [1, 4, 7], 'col2': [2, 5, 8], 'col3': [3, 6, 9]}\n"
     ]
    }
   ],
   "source": [
    "from collections import defaultdict\n",
    "data = defaultdict(list)\n",
    "for line in x:\n",
    "    row = dict(zip(header, line))\n",
    "    for key,value in row.items():\n",
    "        data[key].append(value)\n",
    "print(dict(data))"
   ]
  },
  {
   "cell_type": "code",
   "execution_count": 67,
   "id": "0cfbd9d3-2767-42b5-a672-15c37aacec68",
   "metadata": {},
   "outputs": [
    {
     "data": {
      "text/plain": [
       "[3, 6, 9]"
      ]
     },
     "execution_count": 67,
     "metadata": {},
     "output_type": "execute_result"
    }
   ],
   "source": [
    "data['col3']"
   ]
  },
  {
   "cell_type": "code",
   "execution_count": 68,
   "id": "b40265c7-09ca-4ed5-982d-ac3cb1f7a913",
   "metadata": {},
   "outputs": [
    {
     "data": {
      "text/plain": [
       "[[1, 2, 3], [4, 5, 6], [7, 8, 9]]"
      ]
     },
     "execution_count": 68,
     "metadata": {},
     "output_type": "execute_result"
    }
   ],
   "source": [
    "x"
   ]
  },
  {
   "cell_type": "code",
   "execution_count": 70,
   "id": "c2840e33-f5eb-4994-8bb8-304e498135fb",
   "metadata": {},
   "outputs": [
    {
     "name": "stdout",
     "output_type": "stream",
     "text": [
      "[1, 4, 7] [2, 5, 8]\n"
     ]
    },
    {
     "data": {
      "text/plain": [
       "[(1, 2), (4, 5), (7, 8)]"
      ]
     },
     "execution_count": 70,
     "metadata": {},
     "output_type": "execute_result"
    }
   ],
   "source": [
    "x = data['col1']\n",
    "y = data['col2']\n",
    "z = [x,y]\n",
    "\n",
    "list(zip(*z)) "
   ]
  },
  {
   "cell_type": "code",
   "execution_count": null,
   "id": "53bacffa-1b53-473f-82ed-ea393e764d54",
   "metadata": {},
   "outputs": [],
   "source": [
    "# df[['col1', 'col3']]\n",
    "# s1 -- col name is a string df['exam1']\n",
    "# s2 -- col name is a number df[0]\n",
    "# s3 -- pass in a list of column names to retrive  df[['exam1', 'exam5']], df[[0, 4]]"
   ]
  },
  {
   "cell_type": "code",
   "execution_count": 72,
   "id": "a7aeb2c3-d7de-4db8-9d06-21a8767b33d4",
   "metadata": {},
   "outputs": [],
   "source": [
    "filename = 'people.tsv'\n",
    "people = []\n",
    "with open(filename) as f:\n",
    "    for line in f:\n",
    "        line = line.strip()\n",
    "        if not line:\n",
    "            continue\n",
    "        people.append(line.strip().split('\\t'))\n",
    "\n",
    "\n",
    "mc = MyClass(lines=people, header=True)"
   ]
  },
  {
   "cell_type": "code",
   "execution_count": 74,
   "id": "0b99e737-ce22-4859-9ebd-f7a9e3d54bb8",
   "metadata": {},
   "outputs": [
    {
     "name": "stdout",
     "output_type": "stream",
     "text": [
      "('Michael', 'Weaver', 'xdunn@hotmail.com')\n",
      "('Jackson', 'Owens', 'iedwards@yahoo.com')\n",
      "('Patrick', 'Gilmore', 'arogers@smith.com')\n",
      "('Jeffrey', 'Perez', 'plewis@chavez.com')\n",
      "('James', 'Thomas', 'fred92@yahoo.com')\n",
      "('Greg', 'Nelson', 'mmiller@lynch.com')\n",
      "('Joshua', 'White', 'steven49@gmail.com')\n",
      "('Todd', 'Francis', 'amanda23@hotmail.com')\n",
      "('Stephen', 'Shaw', 'jackduke@hotmail.com')\n",
      "('Mariah', 'Armstrong', 'rhodesnicholas@hotmail.com')\n",
      "('Anthony', 'Boyle', 'smithashlee@yahoo.com')\n",
      "('Patrick', 'Cuevas', 'ubriggs@hill.info')\n",
      "('Gerald', 'Reyes', 'brownclarence@gonzalez-moore.com')\n",
      "('Christopher', 'Calderon', 'teresa30@carpenter-warner.com')\n",
      "('Shane', 'Weiss', 'leekatherine@williams.com')\n",
      "('Crystal', 'Conley', 'chasewatkins@perez-phillips.com')\n",
      "('Jeffrey', 'Nelson', 'hsherman@gmail.com')\n",
      "('Brianna', 'Johnson', 'martinezdaniel@hotmail.com')\n",
      "('Brandon', 'Werner', 'justinfischer@gmail.com')\n",
      "('Brianna', 'Bennett', 'cindy08@gmail.com')\n",
      "('Austin', 'Fletcher', 'carolharrington@fleming.org')\n",
      "('Patrick', 'Lewis', 'lopezcarl@johnson.com')\n",
      "('Joseph', 'Smith', 'michael74@yahoo.com')\n",
      "('Sharon', 'Sullivan', 'gonzalezrobert@hotmail.com')\n",
      "('Krystal', 'Wilson', 'dawnjohnson@gmail.com')\n",
      "('Diana', 'Schmidt', 'watersryan@gmail.com')\n",
      "('Sean', 'Huff', 'byoung@gmail.com')\n",
      "('Robin', 'Nguyen', 'vhanson@yahoo.com')\n",
      "('Robyn', 'Russell', 'bfletcher@yahoo.com')\n",
      "('Tiffany', 'Smith', 'colleengarrison@hotmail.com')\n",
      "('Lori', 'Smith', 'catherine23@gmail.com')\n",
      "('Sabrina', 'Keith', 'xmurphy@yahoo.com')\n",
      "('Miguel', 'Johnson', 'aaronrichard@middleton.net')\n",
      "('Dustin', 'Barron', 'jesse93@best.com')\n",
      "('Michael', 'Robinson', 'johnperez@johnson.com')\n",
      "('Robert', 'Nguyen', 'jessica62@yahoo.com')\n",
      "('Brandon', 'Abbott', 'jennifer87@gmail.com')\n",
      "('Bruce', 'Oneill', 'morenolindsay@bass.org')\n",
      "('Linda', 'Nash', 'robertdavis@hotmail.com')\n",
      "('Kathleen', 'Cameron', 'melanie81@rogers.com')\n",
      "('Wesley', 'Wilkinson', 'clineerin@hotmail.com')\n",
      "('Debbie', 'Wallace', 'terri95@hotmail.com')\n",
      "('Kayla', 'Woodward', 'danielle65@yahoo.com')\n",
      "('Stephanie', 'Bennett', 'sjackson@yahoo.com')\n",
      "('Caleb', 'Jenkins', 'douglas63@yahoo.com')\n",
      "('Valerie', 'Edwards', 'woodardlindsey@yahoo.com')\n",
      "('Mary', 'Anderson', 'suebrown@yahoo.com')\n",
      "('Angela', 'Ray', 'swhite@yahoo.com')\n",
      "('Haley', 'Edwards', 'martinkimberly@lopez.com')\n",
      "('Charles', 'Clark', 'jessica11@hotmail.com')\n",
      "('Lisa', 'Hill', 'hsmith@baker.com')\n",
      "('Jonathan', 'Carpenter', 'fklein@yahoo.com')\n",
      "('Latoya', 'Griffith', 'ryan32@skinner.com')\n",
      "('Kim', 'Blair', 'tmurphy@flores.biz')\n",
      "('Mary', 'Salazar', 'mary64@ray.org')\n",
      "('Kenneth', 'Krueger', 'jennajoseph@yahoo.com')\n",
      "('Phillip', 'Burke', 'watsonsamuel@gmail.com')\n",
      "('Erica', 'Juarez', 'xvelasquez@hughes.com')\n",
      "('Jason', 'Watkins', 'april99@gmail.com')\n",
      "('Lee', 'Carter', 'kfletcher@yahoo.com')\n",
      "('Randy', 'Huang', 'xchurch@hotmail.com')\n",
      "('Kristina', 'Owen', 'megan24@stewart.net')\n",
      "('Beth', 'Turner', 'sydneycollins@hunter.com')\n",
      "('Michael', 'Aguirre', 'robertbowen@chavez-ortega.com')\n",
      "('Elizabeth', 'Wilson', 'christiandanielle@yahoo.com')\n",
      "('Teresa', 'Hardy', 'kdavidson@gordon.com')\n",
      "('David', 'Stewart', 'bennettwanda@vega-guerra.net')\n",
      "('Heather', 'Moore', 'mark00@hotmail.com')\n",
      "('Melissa', 'Grant', 'schaefernatalie@hotmail.com')\n",
      "('Jennifer', 'Thompson', 'moralesmartin@rodgers.com')\n",
      "('Raymond', 'Anderson', 'dprince@hotmail.com')\n",
      "('Angela', 'Ramsey', 'cparks@valdez-hudson.com')\n",
      "('Betty', 'Gonzales', 'martinezrichard@yahoo.com')\n",
      "('Thomas', 'Castaneda', 'kpena@yahoo.com')\n",
      "('Jonathan', 'Todd', 'julie68@gmail.com')\n",
      "('Stacey', 'Garcia', 'lukebradford@hotmail.com')\n",
      "('Judy', 'Figueroa', 'ystewart@yahoo.com')\n",
      "('Ashley', 'Castillo', 'cory33@king-shaw.net')\n",
      "('Zachary', 'Flores', 'zcalhoun@gmail.com')\n",
      "('Erica', 'Allen', 'michaelhall@hotmail.com')\n",
      "('Savannah', 'Potts', 'kristentaylor@yahoo.com')\n",
      "('Zachary', 'Wheeler', 'stephen63@yahoo.com')\n",
      "('Timothy', 'Thomas', 'bryanmartin@gmail.com')\n",
      "('Ann', 'Mcknight', 'kristinavelasquez@gmail.com')\n",
      "('Ruth', 'Thompson', 'denise01@burns.org')\n",
      "('Daniel', 'Levy', 'beancody@jones.com')\n",
      "('Paul', 'Hubbard', 'ubradley@yahoo.com')\n",
      "('Jason', 'Jones', 'anthony75@yahoo.com')\n",
      "('Margaret', 'Garcia', 'antonio52@gmail.com')\n",
      "('Jeremy', 'Peters', 'johnlewis@hotmail.com')\n",
      "('Mark', 'Stone', 'nmoore@hotmail.com')\n",
      "('Darius', 'Edwards', 'nchurch@yahoo.com')\n",
      "('Tracy', 'Lawson', 'piercejenna@gmail.com')\n",
      "('Christina', 'Cooper', 'ddavidson@hotmail.com')\n",
      "('Megan', 'Harris', 'ndelacruz@yahoo.com')\n",
      "('Timothy', 'Jones', 'jenniferadkins@griffin.biz')\n",
      "('Tracie', 'Burch', 'evansmiguel@yahoo.com')\n",
      "('Jason', 'Chung', 'kenneththompson@baxter.com')\n",
      "('Samantha', 'Melton', 'bcurtis@hotmail.com')\n",
      "('Michael', 'Hansen', 'phillipssean@hotmail.com')\n"
     ]
    }
   ],
   "source": [
    "for row in mc[['first_name', 'last_name', 'email']]:\n",
    "    print(row)"
   ]
  },
  {
   "cell_type": "code",
   "execution_count": 75,
   "id": "c0b90c04-63b8-4010-936f-e2330bd00a14",
   "metadata": {},
   "outputs": [
    {
     "name": "stdout",
     "output_type": "stream",
     "text": [
      "('Nepal', 'xdunn@hotmail.com')\n",
      "('Kazakhstan', 'iedwards@yahoo.com')\n",
      "('Mauritius', 'arogers@smith.com')\n",
      "('New Zealand', 'plewis@chavez.com')\n",
      "('Yemen', 'fred92@yahoo.com')\n",
      "('Jordan', 'mmiller@lynch.com')\n",
      "('Palau', 'steven49@gmail.com')\n",
      "('Argentina', 'amanda23@hotmail.com')\n",
      "('Marshall Islands', 'jackduke@hotmail.com')\n",
      "('Albania', 'rhodesnicholas@hotmail.com')\n",
      "('Kyrgyz Republic', 'smithashlee@yahoo.com')\n",
      "('Turkmenistan', 'ubriggs@hill.info')\n",
      "('Fiji', 'brownclarence@gonzalez-moore.com')\n",
      "('Costa Rica', 'teresa30@carpenter-warner.com')\n",
      "('Martinique', 'leekatherine@williams.com')\n",
      "('Singapore', 'chasewatkins@perez-phillips.com')\n",
      "('Mayotte', 'hsherman@gmail.com')\n",
      "('Costa Rica', 'martinezdaniel@hotmail.com')\n",
      "('Guadeloupe', 'justinfischer@gmail.com')\n",
      "('Bahamas', 'cindy08@gmail.com')\n",
      "('Azerbaijan', 'carolharrington@fleming.org')\n",
      "('Saint Helena', 'lopezcarl@johnson.com')\n",
      "('Hong Kong', 'michael74@yahoo.com')\n",
      "('Turkey', 'gonzalezrobert@hotmail.com')\n",
      "('Swaziland', 'dawnjohnson@gmail.com')\n",
      "('Holy See (Vatican City State)', 'watersryan@gmail.com')\n",
      "('Norfolk Island', 'byoung@gmail.com')\n",
      "('Kenya', 'vhanson@yahoo.com')\n",
      "('Togo', 'bfletcher@yahoo.com')\n",
      "('San Marino', 'colleengarrison@hotmail.com')\n",
      "('Romania', 'catherine23@gmail.com')\n",
      "('Algeria', 'xmurphy@yahoo.com')\n",
      "('Slovakia (Slovak Republic)', 'aaronrichard@middleton.net')\n",
      "('Somalia', 'jesse93@best.com')\n",
      "('Turkmenistan', 'johnperez@johnson.com')\n",
      "('Croatia', 'jessica62@yahoo.com')\n",
      "('Jamaica', 'jennifer87@gmail.com')\n",
      "('Montserrat', 'morenolindsay@bass.org')\n",
      "('Heard Island and McDonald Islands', 'robertdavis@hotmail.com')\n",
      "('Niger', 'melanie81@rogers.com')\n",
      "('Saint Vincent and the Grenadines', 'clineerin@hotmail.com')\n",
      "('Antigua and Barbuda', 'terri95@hotmail.com')\n",
      "('Mexico', 'danielle65@yahoo.com')\n",
      "('Singapore', 'sjackson@yahoo.com')\n",
      "('Botswana', 'douglas63@yahoo.com')\n",
      "('Guinea', 'woodardlindsey@yahoo.com')\n",
      "('Chile', 'suebrown@yahoo.com')\n",
      "('Mayotte', 'swhite@yahoo.com')\n",
      "('Macedonia', 'martinkimberly@lopez.com')\n",
      "('Ukraine', 'jessica11@hotmail.com')\n",
      "('Saint Martin', 'hsmith@baker.com')\n",
      "('Germany', 'fklein@yahoo.com')\n",
      "('Lesotho', 'ryan32@skinner.com')\n",
      "('Nepal', 'tmurphy@flores.biz')\n",
      "('Latvia', 'mary64@ray.org')\n",
      "('Central African Republic', 'jennajoseph@yahoo.com')\n",
      "('Peru', 'watsonsamuel@gmail.com')\n",
      "('Spain', 'xvelasquez@hughes.com')\n",
      "('Seychelles', 'april99@gmail.com')\n",
      "('Faroe Islands', 'kfletcher@yahoo.com')\n",
      "('Tokelau', 'xchurch@hotmail.com')\n",
      "('Cocos (Keeling) Islands', 'megan24@stewart.net')\n",
      "('Burundi', 'sydneycollins@hunter.com')\n",
      "('Timor-Leste', 'robertbowen@chavez-ortega.com')\n",
      "('Montserrat', 'christiandanielle@yahoo.com')\n",
      "('Norway', 'kdavidson@gordon.com')\n",
      "('Sierra Leone', 'bennettwanda@vega-guerra.net')\n",
      "('French Polynesia', 'mark00@hotmail.com')\n",
      "('French Guiana', 'schaefernatalie@hotmail.com')\n",
      "('Cape Verde', 'moralesmartin@rodgers.com')\n",
      "('Barbados', 'dprince@hotmail.com')\n",
      "('Andorra', 'cparks@valdez-hudson.com')\n",
      "('Montserrat', 'martinezrichard@yahoo.com')\n",
      "('Egypt', 'kpena@yahoo.com')\n",
      "('Malaysia', 'julie68@gmail.com')\n",
      "('Zimbabwe', 'lukebradford@hotmail.com')\n",
      "('Portugal', 'ystewart@yahoo.com')\n",
      "('Paraguay', 'cory33@king-shaw.net')\n",
      "('Central African Republic', 'zcalhoun@gmail.com')\n",
      "('Palau', 'michaelhall@hotmail.com')\n",
      "('Micronesia', 'kristentaylor@yahoo.com')\n",
      "('Armenia', 'stephen63@yahoo.com')\n",
      "('Bahrain', 'bryanmartin@gmail.com')\n",
      "('Guatemala', 'kristinavelasquez@gmail.com')\n",
      "('Saint Vincent and the Grenadines', 'denise01@burns.org')\n",
      "('Kazakhstan', 'beancody@jones.com')\n",
      "('Germany', 'ubradley@yahoo.com')\n",
      "('Western Sahara', 'anthony75@yahoo.com')\n",
      "('Togo', 'antonio52@gmail.com')\n",
      "('Guam', 'johnlewis@hotmail.com')\n",
      "('Kuwait', 'nmoore@hotmail.com')\n",
      "('Eritrea', 'nchurch@yahoo.com')\n",
      "('Czech Republic', 'piercejenna@gmail.com')\n",
      "('Maldives', 'ddavidson@hotmail.com')\n",
      "('Armenia', 'ndelacruz@yahoo.com')\n",
      "('Benin', 'jenniferadkins@griffin.biz')\n",
      "('Fiji', 'evansmiguel@yahoo.com')\n",
      "('Iceland', 'kenneththompson@baxter.com')\n",
      "('Macedonia', 'bcurtis@hotmail.com')\n",
      "('Serbia', 'phillipssean@hotmail.com')\n"
     ]
    }
   ],
   "source": [
    "for row in mc[['country', 'email']]:\n",
    "    print(row)"
   ]
  },
  {
   "cell_type": "code",
   "execution_count": 76,
   "id": "2fee4d61-942a-4cb6-8c85-d709e11dfe8c",
   "metadata": {},
   "outputs": [
    {
     "name": "stdout",
     "output_type": "stream",
     "text": [
      "['Michael', 'Jackson', 'Patrick', 'Jeffrey', 'James', 'Greg', 'Joshua', 'Todd', 'Stephen', 'Mariah', 'Anthony', 'Patrick', 'Gerald', 'Christopher', 'Shane', 'Crystal', 'Jeffrey', 'Brianna', 'Brandon', 'Brianna', 'Austin', 'Patrick', 'Joseph', 'Sharon', 'Krystal', 'Diana', 'Sean', 'Robin', 'Robyn', 'Tiffany', 'Lori', 'Sabrina', 'Miguel', 'Dustin', 'Michael', 'Robert', 'Brandon', 'Bruce', 'Linda', 'Kathleen', 'Wesley', 'Debbie', 'Kayla', 'Stephanie', 'Caleb', 'Valerie', 'Mary', 'Angela', 'Haley', 'Charles', 'Lisa', 'Jonathan', 'Latoya', 'Kim', 'Mary', 'Kenneth', 'Phillip', 'Erica', 'Jason', 'Lee', 'Randy', 'Kristina', 'Beth', 'Michael', 'Elizabeth', 'Teresa', 'David', 'Heather', 'Melissa', 'Jennifer', 'Raymond', 'Angela', 'Betty', 'Thomas', 'Jonathan', 'Stacey', 'Judy', 'Ashley', 'Zachary', 'Erica', 'Savannah', 'Zachary', 'Timothy', 'Ann', 'Ruth', 'Daniel', 'Paul', 'Jason', 'Margaret', 'Jeremy', 'Mark', 'Darius', 'Tracy', 'Christina', 'Megan', 'Timothy', 'Tracie', 'Jason', 'Samantha', 'Michael']\n"
     ]
    }
   ],
   "source": [
    "print(mc['first_name'])"
   ]
  },
  {
   "cell_type": "code",
   "execution_count": 100,
   "id": "43a08bc7-d210-4103-b529-f0489047de2d",
   "metadata": {},
   "outputs": [
    {
     "name": "stdout",
     "output_type": "stream",
     "text": [
      "('Weaver', 'QVJP6465242365388')\n",
      "('Owens', 'FVQZ0955529767455')\n",
      "('Gilmore', 'QFIM0905182880347')\n",
      "('Perez', 'YWOT0997131632248')\n",
      "('Thomas', 'QAAE9838291982555')\n",
      "('Nelson', 'PCNE8127696280157')\n",
      "('White', 'BCEN3299883381338')\n",
      "('Francis', 'XPTQ7837014557677')\n",
      "('Shaw', 'TRLQ6559557081716')\n",
      "('Armstrong', 'OHOV7518558201999')\n",
      "('Boyle', 'MCQU7347833033110')\n",
      "('Cuevas', 'PPHE5533473251751')\n",
      "('Reyes', 'JCDK1943355298609')\n",
      "('Calderon', 'NERZ5502558659614')\n",
      "('Weiss', 'DLDV5789894914403')\n",
      "('Conley', 'GZZF6936998445532')\n",
      "('Nelson', 'ECGK2823955143629')\n",
      "('Johnson', 'QOVO4275314052899')\n",
      "('Werner', 'UKRT1119626365017')\n",
      "('Bennett', 'UNPV3347450330173')\n",
      "('Fletcher', 'GJZT6825738428111')\n",
      "('Lewis', 'JOQE2648899771737')\n",
      "('Smith', 'MNXY3262955868027')\n",
      "('Sullivan', 'YHXF7256577475630')\n",
      "('Wilson', 'MUVI3570791852556')\n",
      "('Schmidt', 'UKCP6739617302102')\n",
      "('Huff', 'WDAT4146843903498')\n",
      "('Nguyen', 'SVMU4403517448078')\n",
      "('Russell', 'ZNUY4071301663622')\n",
      "('Smith', 'GPFA8271551275648')\n",
      "('Smith', 'MKWY4848668895426')\n",
      "('Keith', 'QHIW7412514205367')\n",
      "('Johnson', 'QAAO4666689281736')\n",
      "('Barron', 'LRPR8694143910883')\n",
      "('Robinson', 'UWFU1921951273393')\n",
      "('Nguyen', 'JQHS4274771257925')\n",
      "('Abbott', 'RSLD0426398604312')\n",
      "('Oneill', 'UYHI6964741005832')\n",
      "('Nash', 'ZKTE5908966955533')\n",
      "('Cameron', 'HHHP3471562002758')\n",
      "('Wilkinson', 'UWLV6407825245995')\n",
      "('Wallace', 'JRBN0811785293731')\n",
      "('Woodward', 'VDWY7565964041116')\n",
      "('Bennett', 'DNRB2101855092009')\n",
      "('Jenkins', 'IILE1765776198023')\n",
      "('Edwards', 'ZJUF2687631787282')\n",
      "('Anderson', 'DHMT4208071148508')\n",
      "('Ray', 'UBRR8524342666714')\n",
      "('Edwards', 'OGPU6537909247863')\n",
      "('Clark', 'AHYX6128839695452')\n",
      "('Hill', 'VUPW6891906300822')\n",
      "('Carpenter', 'PKFW4841194501766')\n",
      "('Griffith', 'BNYD8693045932496')\n",
      "('Blair', 'FQJA6381776349463')\n",
      "('Salazar', 'KCNI2464381879411')\n",
      "('Krueger', 'BIGY3006735396533')\n",
      "('Burke', 'CNJX1222752295544')\n",
      "('Juarez', 'ZROP5229895490397')\n",
      "('Watkins', 'NXKK2792812848629')\n",
      "('Carter', 'DPLN5056382218296')\n",
      "('Huang', 'KAOL9792684486009')\n",
      "('Owen', 'WRXW4627191899235')\n",
      "('Turner', 'OMOK4767172062189')\n",
      "('Aguirre', 'KRKF7344951038740')\n",
      "('Wilson', 'SAAA4141150617330')\n",
      "('Hardy', 'XNWQ1072087896797')\n",
      "('Stewart', 'FTHM1005169617995')\n",
      "('Moore', 'OSSM9070924947595')\n",
      "('Grant', 'CFQJ4204773901237')\n",
      "('Thompson', 'MGFG2793756668287')\n",
      "('Anderson', 'IGXK5881682171566')\n",
      "('Ramsey', 'QYBW6359021109484')\n",
      "('Gonzales', 'UTSI0776569247505')\n",
      "('Castaneda', 'LSDI9463735752680')\n",
      "('Todd', 'ISYY1401931979959')\n",
      "('Garcia', 'HNOA0376843856035')\n",
      "('Figueroa', 'EEVV8325881104553')\n",
      "('Castillo', 'QXGZ3111246190069')\n",
      "('Flores', 'ACQR2846533122117')\n",
      "('Allen', 'ZAZD8310339637467')\n",
      "('Potts', 'ARWK1547324119222')\n",
      "('Wheeler', 'OMQX4840913072589')\n",
      "('Thomas', 'OCFV4659464275270')\n",
      "('Mcknight', 'DTRB4720098955341')\n",
      "('Thompson', 'YYHM5758234683389')\n",
      "('Levy', 'AHBN3151680654826')\n",
      "('Hubbard', 'FGBC0366153271398')\n",
      "('Jones', 'MHTE8867005510944')\n",
      "('Garcia', 'IYOD4325345823013')\n",
      "('Peters', 'NZFX8257739892619')\n",
      "('Stone', 'MWRB2515761996641')\n",
      "('Edwards', 'CURJ9953745256871')\n",
      "('Lawson', 'ATOT8581137487723')\n",
      "('Cooper', 'RQGA0882784089265')\n",
      "('Harris', 'EOPA8088866975598')\n",
      "('Jones', 'JCUN9597199552039')\n",
      "('Burch', 'IZYL3351829981461')\n",
      "('Chung', 'JDIH2349154465371')\n",
      "('Melton', 'VRZP1447516193511')\n",
      "('Hansen', 'QKAF2254397516681')\n"
     ]
    }
   ],
   "source": [
    "mc = MyClass(lines=people, header=False)\n",
    "\n",
    "for row in mc[[0, 4]]:\n",
    "    print(row)"
   ]
  },
  {
   "cell_type": "code",
   "execution_count": 95,
   "id": "683e0939-ef5f-420e-9f9b-058c0d16b60b",
   "metadata": {},
   "outputs": [
    {
     "name": "stdout",
     "output_type": "stream",
     "text": [
      "output [[], []]\n"
     ]
    },
    {
     "data": {
      "text/plain": [
       "[]"
      ]
     },
     "execution_count": 95,
     "metadata": {},
     "output_type": "execute_result"
    }
   ],
   "source": [
    "mc[['country', 'email']]"
   ]
  },
  {
   "cell_type": "code",
   "execution_count": 97,
   "id": "d01d14e8-550f-40e6-970d-84f6cc615d3c",
   "metadata": {},
   "outputs": [
    {
     "data": {
      "text/plain": [
       "[0, 1, 2, 3, 4]"
      ]
     },
     "execution_count": 97,
     "metadata": {},
     "output_type": "execute_result"
    }
   ],
   "source": [
    "mc.header"
   ]
  },
  {
   "cell_type": "code",
   "execution_count": 101,
   "id": "3639a1bf-6f80-4690-9d5e-714875aacb43",
   "metadata": {},
   "outputs": [
    {
     "name": "stdout",
     "output_type": "stream",
     "text": [
      "[]\n",
      "[]\n",
      "[('92', '77'), ('74', '93'), ('83', '96'), ('100', '72'), ('77', '96'), ('100', '86'), ('66', '91'), ('97', '86'), ('95', '98'), ('78', '76'), ('78', '100'), ('82', '92'), ('83', '78'), ('89', '81'), ('86', '94'), ('96', '75'), ('85', '72'), ('83', '68'), ('70', '99'), ('80', '89'), ('79', '100'), ('100', '65'), ('68', '67'), ('94', '71'), ('89', '99'), ('94', '65'), ('83', '91'), ('97', '96'), ('65', '78'), ('96', '85'), ('85', '69'), ('82', '82'), ('88', '76'), ('66', '85'), ('75', '98'), ('85', '89'), ('93', '85'), ('86', '90'), ('96', '82'), ('85', '98'), ('98', '95'), ('84', '82'), ('95', '91'), ('80', '83'), ('67', '89'), ('65', '72'), ('99', '89'), ('77', '91'), ('68', '97'), ('82', '66'), ('86', '66'), ('91', '98'), ('94', '77'), ('69', '80'), ('100', '91'), ('77', '68'), ('65', '100'), ('75', '75'), ('91', '84'), ('71', '79'), ('69', '71'), ('79', '91'), ('91', '87'), ('93', '97'), ('100', '75'), ('68', '66'), ('82', '74'), ('66', '96'), ('88', '85'), ('78', '76'), ('97', '73'), ('88', '94'), ('92', '99'), ('86', '98'), ('68', '87'), ('88', '92'), ('66', '72'), ('70', '95'), ('69', '94'), ('86', '86'), ('96', '87'), ('76', '95'), ('66', '72'), ('83', '85'), ('98', '79'), ('69', '94'), ('78', '88'), ('66', '67'), ('89', '78'), ('92', '66'), ('87', '69'), ('86', '88'), ('77', '77'), ('93', '99'), ('86', '83'), ('78', '84'), ('74', '95'), ('71', '87'), ('71', '69'), ('81', '80')]\n",
      "['student1', 'student2', 'student3', 'student4', 'student5', 'student6', 'student7', 'student8', 'student9', 'student10', 'student11', 'student12', 'student13', 'student14', 'student15', 'student16', 'student17', 'student18', 'student19', 'student20', 'student21', 'student22', 'student23', 'student24', 'student25', 'student26', 'student27', 'student28', 'student29', 'student30', 'student31', 'student32', 'student33', 'student34', 'student35', 'student36', 'student37', 'student38', 'student39', 'student40', 'student41', 'student42', 'student43', 'student44', 'student45', 'student46', 'student47', 'student48', 'student49', 'student50', 'student51', 'student52', 'student53', 'student54', 'student55', 'student56', 'student57', 'student58', 'student59', 'student60', 'student61', 'student62', 'student63', 'student64', 'student65', 'student66', 'student67', 'student68', 'student69', 'student70', 'student71', 'student72', 'student73', 'student74', 'student75', 'student76', 'student77', 'student78', 'student79', 'student80', 'student81', 'student82', 'student83', 'student84', 'student85', 'student86', 'student87', 'student88', 'student89', 'student90', 'student91', 'student92', 'student93', 'student94', 'student95', 'student96', 'student97', 'student98', 'student99', 'student100']\n"
     ]
    }
   ],
   "source": [
    "filename = 'testdata.txt'\n",
    "grades = []\n",
    "with open(filename) as f:\n",
    "    for line in f:\n",
    "        line = line.strip()\n",
    "        if not line:\n",
    "            continue\n",
    "        grades.append(line.strip().split(','))\n",
    "\n",
    "grades = tuple(grades)\n",
    "mc = MyClass(lines=list(people), header=True)\n",
    "print(mc[['first_name', 'last_name', 'email']])\n",
    "print(mc['first_name'])\n",
    "\n",
    "\n",
    "mc = MyClass(lines=list(grades))\n",
    "print(mc[[1, 2]])\n",
    "print(mc[0])"
   ]
  },
  {
   "cell_type": "code",
   "execution_count": 102,
   "id": "59ebf669-da26-4c19-961a-cbc319c1242f",
   "metadata": {},
   "outputs": [
    {
     "data": {
      "text/plain": [
       "[1, 2, 3, 4, 5, 6]"
      ]
     },
     "execution_count": 102,
     "metadata": {},
     "output_type": "execute_result"
    }
   ],
   "source": [
    "x = [1, 2, 3]\n",
    "y = [4, 5, 6]\n",
    "x + y\n",
    "5, 7, 9"
   ]
  },
  {
   "cell_type": "code",
   "execution_count": 103,
   "id": "e9db6b93-fdb0-4c1a-ba49-729e33a66f02",
   "metadata": {},
   "outputs": [
    {
     "data": {
      "text/plain": [
       "[5, 7, 9]"
      ]
     },
     "execution_count": 103,
     "metadata": {},
     "output_type": "execute_result"
    }
   ],
   "source": [
    "class ListV2:\n",
    "    def __init__(self, values):\n",
    "        self.values = values\n",
    "        \n",
    "    def __add__(self, right):\n",
    "        output = [l + r for l, r in zip(self.values, right.values)]\n",
    "#         return ListV2(output)\n",
    "        return output\n",
    "    \n",
    "    def __repr__(self):\n",
    "        return str(self.values)\n",
    "\n",
    "x = ListV2([1, 2, 3])\n",
    "y = ListV2([4, 5, 6])\n",
    "x + y"
   ]
  },
  {
   "cell_type": "code",
   "execution_count": 104,
   "id": "ab461246-4fa8-4fd0-9b4e-ba3331e04c5e",
   "metadata": {},
   "outputs": [
    {
     "name": "stdout",
     "output_type": "stream",
     "text": [
      "[('92', '77'), ('74', '93'), ('83', '96'), ('100', '72'), ('77', '96'), ('100', '86'), ('66', '91'), ('97', '86'), ('95', '98'), ('78', '76'), ('78', '100'), ('82', '92'), ('83', '78'), ('89', '81'), ('86', '94'), ('96', '75'), ('85', '72'), ('83', '68'), ('70', '99'), ('80', '89'), ('79', '100'), ('100', '65'), ('68', '67'), ('94', '71'), ('89', '99'), ('94', '65'), ('83', '91'), ('97', '96'), ('65', '78'), ('96', '85'), ('85', '69'), ('82', '82'), ('88', '76'), ('66', '85'), ('75', '98'), ('85', '89'), ('93', '85'), ('86', '90'), ('96', '82'), ('85', '98'), ('98', '95'), ('84', '82'), ('95', '91'), ('80', '83'), ('67', '89'), ('65', '72'), ('99', '89'), ('77', '91'), ('68', '97'), ('82', '66'), ('86', '66'), ('91', '98'), ('94', '77'), ('69', '80'), ('100', '91'), ('77', '68'), ('65', '100'), ('75', '75'), ('91', '84'), ('71', '79'), ('69', '71'), ('79', '91'), ('91', '87'), ('93', '97'), ('100', '75'), ('68', '66'), ('82', '74'), ('66', '96'), ('88', '85'), ('78', '76'), ('97', '73'), ('88', '94'), ('92', '99'), ('86', '98'), ('68', '87'), ('88', '92'), ('66', '72'), ('70', '95'), ('69', '94'), ('86', '86'), ('96', '87'), ('76', '95'), ('66', '72'), ('83', '85'), ('98', '79'), ('69', '94'), ('78', '88'), ('66', '67'), ('89', '78'), ('92', '66'), ('87', '69'), ('86', '88'), ('77', '77'), ('93', '99'), ('86', '83'), ('78', '84'), ('74', '95'), ('71', '87'), ('71', '69'), ('81', '80')]\n"
     ]
    }
   ],
   "source": [
    "from collections import defaultdict\n",
    "\n",
    "\n",
    "\n",
    "class ListV2:\n",
    "    def __init__(self, values):\n",
    "        self.values = values\n",
    "        \n",
    "    def __add__(self, right):\n",
    "        output = [l + r for l, r in zip(self.values, right.values)]\n",
    "#         return ListV2(output)\n",
    "        return output\n",
    "    \n",
    "    def __repr__(self):\n",
    "        return str(self.values)\n",
    "        \n",
    "\n",
    "class MyClass:\n",
    "    def __init__(self, **kwargs):\n",
    "        self.data = defaultdict(list)\n",
    "        header = kwargs.get('header')\n",
    "        lines = kwargs.get('lines')\n",
    "        if header:\n",
    "            header = lines.pop(0)\n",
    "        else:\n",
    "            header = list(range(len(lines[0])))\n",
    "        \n",
    "        for line in lines:\n",
    "            row = dict(zip(header, line))\n",
    "            for key,value in row.items():\n",
    "                self.data[key].append(value)\n",
    "              \n",
    "    def __setitem__(self, key, value): # MyCLass[key] = value\n",
    "        self.data[key] = value\n",
    "        \n",
    "    def __getitem__(self, key): # MyClass[key]\n",
    "        if type(key) in [str, int]:\n",
    "            return ListV2(self.data[key])  \n",
    "        elif isinstance(key, list):\n",
    "            output = []\n",
    "            for k in key:\n",
    "                output.append(self.data[k])\n",
    "            output = list(zip(*output))\n",
    "                \n",
    "            return output\n",
    "        \n",
    "    def as_type(self, column, cast_type):\n",
    "        self.data[column] = list(map(cast_type, self.data[column]))\n",
    "\n",
    "filename = 'testdata.txt'\n",
    "grades = []\n",
    "with open(filename) as f:\n",
    "    for line in f:\n",
    "        line = line.strip()\n",
    "        if not line:\n",
    "            continue\n",
    "        grades.append(line.strip().split(','))\n",
    "\n",
    "grades = tuple(grades)\n",
    "\n",
    "mc = MyClass(lines=list(grades))\n",
    "print(mc[[1, 2]])\n"
   ]
  },
  {
   "cell_type": "code",
   "execution_count": 105,
   "id": "0492963e-932f-430f-b2f7-77d242821a7b",
   "metadata": {},
   "outputs": [
    {
     "name": "stdout",
     "output_type": "stream",
     "text": [
      "[(92, '77'), (74, '93'), (83, '96'), (100, '72'), (77, '96'), (100, '86'), (66, '91'), (97, '86'), (95, '98'), (78, '76'), (78, '100'), (82, '92'), (83, '78'), (89, '81'), (86, '94'), (96, '75'), (85, '72'), (83, '68'), (70, '99'), (80, '89'), (79, '100'), (100, '65'), (68, '67'), (94, '71'), (89, '99'), (94, '65'), (83, '91'), (97, '96'), (65, '78'), (96, '85'), (85, '69'), (82, '82'), (88, '76'), (66, '85'), (75, '98'), (85, '89'), (93, '85'), (86, '90'), (96, '82'), (85, '98'), (98, '95'), (84, '82'), (95, '91'), (80, '83'), (67, '89'), (65, '72'), (99, '89'), (77, '91'), (68, '97'), (82, '66'), (86, '66'), (91, '98'), (94, '77'), (69, '80'), (100, '91'), (77, '68'), (65, '100'), (75, '75'), (91, '84'), (71, '79'), (69, '71'), (79, '91'), (91, '87'), (93, '97'), (100, '75'), (68, '66'), (82, '74'), (66, '96'), (88, '85'), (78, '76'), (97, '73'), (88, '94'), (92, '99'), (86, '98'), (68, '87'), (88, '92'), (66, '72'), (70, '95'), (69, '94'), (86, '86'), (96, '87'), (76, '95'), (66, '72'), (83, '85'), (98, '79'), (69, '94'), (78, '88'), (66, '67'), (89, '78'), (92, '66'), (87, '69'), (86, '88'), (77, '77'), (93, '99'), (86, '83'), (78, '84'), (74, '95'), (71, '87'), (71, '69'), (81, '80')]\n"
     ]
    }
   ],
   "source": [
    "mc.as_type(1, int)\n",
    "print(mc[[1, 2]])\n"
   ]
  },
  {
   "cell_type": "code",
   "execution_count": 107,
   "id": "4e343238-9204-4c35-bd85-45fd2ac793ee",
   "metadata": {},
   "outputs": [
    {
     "name": "stdout",
     "output_type": "stream",
     "text": [
      "[(92, 77), (74, 93), (83, 96), (100, 72), (77, 96), (100, 86), (66, 91), (97, 86), (95, 98), (78, 76), (78, 100), (82, 92), (83, 78), (89, 81), (86, 94), (96, 75), (85, 72), (83, 68), (70, 99), (80, 89), (79, 100), (100, 65), (68, 67), (94, 71), (89, 99), (94, 65), (83, 91), (97, 96), (65, 78), (96, 85), (85, 69), (82, 82), (88, 76), (66, 85), (75, 98), (85, 89), (93, 85), (86, 90), (96, 82), (85, 98), (98, 95), (84, 82), (95, 91), (80, 83), (67, 89), (65, 72), (99, 89), (77, 91), (68, 97), (82, 66), (86, 66), (91, 98), (94, 77), (69, 80), (100, 91), (77, 68), (65, 100), (75, 75), (91, 84), (71, 79), (69, 71), (79, 91), (91, 87), (93, 97), (100, 75), (68, 66), (82, 74), (66, 96), (88, 85), (78, 76), (97, 73), (88, 94), (92, 99), (86, 98), (68, 87), (88, 92), (66, 72), (70, 95), (69, 94), (86, 86), (96, 87), (76, 95), (66, 72), (83, 85), (98, 79), (69, 94), (78, 88), (66, 67), (89, 78), (92, 66), (87, 69), (86, 88), (77, 77), (93, 99), (86, 83), (78, 84), (74, 95), (71, 87), (71, 69), (81, 80)]\n"
     ]
    }
   ],
   "source": [
    "mc.as_type(2, int)\n",
    "print(mc[[1, 2]])"
   ]
  },
  {
   "cell_type": "code",
   "execution_count": 108,
   "id": "8ab84575-e865-49ed-b030-a5cb83e10f57",
   "metadata": {},
   "outputs": [
    {
     "name": "stdout",
     "output_type": "stream",
     "text": [
      "defaultdict(<class 'list'>, {1: [82.75], 2: [84.13]})\n"
     ]
    }
   ],
   "source": [
    "from collections import defaultdict\n",
    "\n",
    "\n",
    "class ListV2:\n",
    "    def __init__(self, values):\n",
    "        self.values = values\n",
    "        \n",
    "    def __add__(self, right):\n",
    "        output = [l + r for l, r in zip(self.values, right.values)]\n",
    "#         return ListV2(output)\n",
    "        return output\n",
    "    \n",
    "    def __repr__(self):\n",
    "        return str(self.values)\n",
    "        \n",
    "\n",
    "\n",
    "class MyClass:\n",
    "    def __init__(self, **kwargs):\n",
    "        self.data = defaultdict(list)\n",
    "        header = kwargs.get('header')\n",
    "        lines = kwargs.get('lines')\n",
    "        if header:\n",
    "            header = lines.pop(0)\n",
    "        else:\n",
    "            header = list(range(len(lines[0])))\n",
    "        \n",
    "        for line in lines:\n",
    "            row = dict(zip(header, line))\n",
    "            for key,value in row.items():\n",
    "                self.data[key].append(value)\n",
    "              \n",
    "    def __setitem__(self, key, value): # MyCLass[key] = value\n",
    "        self.data[key] = value\n",
    "        \n",
    "    def __getitem__(self, key): # MyClass[key]\n",
    "        if type(key) in [str, int]:\n",
    "            return ListV2(self.data[key])  \n",
    "        elif isinstance(key, list):\n",
    "            output = []\n",
    "            for k in key:\n",
    "                output.append(self.data[k])\n",
    "            output = list(zip(*output))\n",
    "                \n",
    "            return output\n",
    "        \n",
    "    def as_type(self, column, cast_type):\n",
    "        self.data[column] = list(map(cast_type, self.data[column]))\n",
    "        \n",
    "    def mean(self, columns):\n",
    "        if type(columns) in [str, int]:\n",
    "            data = self.data[columns]\n",
    "            return sum(data)/len(data)\n",
    "        elif isinstance(columns, list):\n",
    "            data = []\n",
    "            for column in columns:\n",
    "                data.append(sum(self.data[column])/len(self.data[column]))\n",
    "            \n",
    "            data =  [columns, data]\n",
    "            return MyClass(lines=data, header=True)\n",
    "\n",
    "filename = 'testdata.txt'\n",
    "grades = []\n",
    "with open(filename) as f:\n",
    "    for line in f:\n",
    "        line = line.strip()\n",
    "        if not line:\n",
    "            continue\n",
    "        grades.append(line.strip().split(','))\n",
    "\n",
    "grades = tuple(grades)\n",
    "\n",
    "mc = MyClass(lines=list(grades))\n",
    "mc.as_type(1, int)\n",
    "mc.as_type(2, int)\n",
    "a = mc.mean([1, 2])\n",
    "print(a.data)       "
   ]
  },
  {
   "cell_type": "code",
   "execution_count": 109,
   "id": "dd1ba275-0aca-4b09-b985-fdb9ba77c51f",
   "metadata": {},
   "outputs": [
    {
     "data": {
      "text/plain": [
       "<__main__.MyClass at 0x1a23a9cd9d0>"
      ]
     },
     "execution_count": 109,
     "metadata": {},
     "output_type": "execute_result"
    }
   ],
   "source": [
    "a"
   ]
  },
  {
   "cell_type": "code",
   "execution_count": 113,
   "id": "b090a71e-8625-4d63-ac50-70268171995d",
   "metadata": {},
   "outputs": [
    {
     "data": {
      "text/plain": [
       "[(82.75, 84.13)]"
      ]
     },
     "execution_count": 113,
     "metadata": {},
     "output_type": "execute_result"
    }
   ],
   "source": [
    "a[[1,2]]"
   ]
  },
  {
   "cell_type": "code",
   "execution_count": 116,
   "id": "8fe6a424-ffd5-429d-b6fa-4d3770f11d49",
   "metadata": {},
   "outputs": [
    {
     "name": "stdout",
     "output_type": "stream",
     "text": [
      "(slice(1, 10, 2), slice(None, None, None)) <class 'tuple'>\n"
     ]
    }
   ],
   "source": [
    "class AClass:  \n",
    "    def __getitem__(self, a):\n",
    "        print(a, type(a))\n",
    "a = AClass()   \n",
    "a[1:10:2, :]"
   ]
  },
  {
   "cell_type": "code",
   "execution_count": 117,
   "id": "571ee13d-d77c-4013-8bd3-d20c724d79e4",
   "metadata": {},
   "outputs": [
    {
     "name": "stdout",
     "output_type": "stream",
     "text": [
      "1\n",
      "10\n",
      "2\n"
     ]
    }
   ],
   "source": [
    "b = slice(1, 10, 2)\n",
    "print(b.start)\n",
    "print(b.stop)\n",
    "print(b.step)"
   ]
  },
  {
   "cell_type": "code",
   "execution_count": 118,
   "id": "74731fb6-6269-4674-b01a-994718f843a0",
   "metadata": {},
   "outputs": [
    {
     "name": "stdout",
     "output_type": "stream",
     "text": [
      "1 4 7\n",
      "2 5 8\n",
      "3 6 9\n"
     ]
    }
   ],
   "source": [
    "x = [[1,2,3], [4, 5, 6], [7, 8,9]]\n",
    "for c1, c2, c3 in zip(*x):\n",
    "    print(c1, c2, c3)"
   ]
  },
  {
   "cell_type": "markdown",
   "id": "54cc0644-24ec-4404-b623-a65e53c1e603",
   "metadata": {},
   "source": [
    "list(zip(*x))"
   ]
  }
 ],
 "metadata": {
  "kernelspec": {
   "display_name": "Python 3 (ipykernel)",
   "language": "python",
   "name": "python3"
  },
  "language_info": {
   "codemirror_mode": {
    "name": "ipython",
    "version": 3
   },
   "file_extension": ".py",
   "mimetype": "text/x-python",
   "name": "python",
   "nbconvert_exporter": "python",
   "pygments_lexer": "ipython3",
   "version": "3.9.18"
  }
 },
 "nbformat": 4,
 "nbformat_minor": 5
}
