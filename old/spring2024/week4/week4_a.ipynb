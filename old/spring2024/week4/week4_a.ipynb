{
 "cells": [
  {
   "cell_type": "code",
   "execution_count": 3,
   "id": "64c493de-a295-4ac2-b109-8b6ce3f63a83",
   "metadata": {},
   "outputs": [
    {
     "name": "stdin",
     "output_type": "stream",
     "text": [
      "Enter the pH level:  2.o\n"
     ]
    },
    {
     "ename": "ValueError",
     "evalue": "could not convert string to float: '2.o'",
     "output_type": "error",
     "traceback": [
      "\u001b[1;31m---------------------------------------------------------------------------\u001b[0m",
      "\u001b[1;31mValueError\u001b[0m                                Traceback (most recent call last)",
      "Cell \u001b[1;32mIn[3], line 1\u001b[0m\n\u001b[1;32m----> 1\u001b[0m ph \u001b[38;5;241m=\u001b[39m \u001b[38;5;28;43mfloat\u001b[39;49m\u001b[43m(\u001b[49m\u001b[38;5;28;43minput\u001b[39;49m\u001b[43m(\u001b[49m\u001b[38;5;124;43m'\u001b[39;49m\u001b[38;5;124;43mEnter the pH level: \u001b[39;49m\u001b[38;5;124;43m'\u001b[39;49m\u001b[43m)\u001b[49m\u001b[43m)\u001b[49m\n\u001b[0;32m      2\u001b[0m \u001b[38;5;28;01mif\u001b[39;00m ph \u001b[38;5;241m<\u001b[39m \u001b[38;5;241m7.0\u001b[39m:\n\u001b[0;32m      3\u001b[0m     \u001b[38;5;28mprint\u001b[39m(ph, \u001b[38;5;124m\"\u001b[39m\u001b[38;5;124m is acidic.\u001b[39m\u001b[38;5;124m\"\u001b[39m)\n",
      "\u001b[1;31mValueError\u001b[0m: could not convert string to float: '2.o'"
     ]
    }
   ],
   "source": [
    "ph = float(input('Enter the pH level: '))\n",
    "if ph < 7.0:\n",
    "    print(ph, \" is acidic.\") #indentation important"
   ]
  },
  {
   "cell_type": "code",
   "execution_count": 4,
   "id": "098a2268-3517-463c-aa43-e44082e6bbd8",
   "metadata": {},
   "outputs": [
    {
     "name": "stdin",
     "output_type": "stream",
     "text": [
      "Enter the pH level:  5\n"
     ]
    },
    {
     "name": "stdout",
     "output_type": "stream",
     "text": [
      "5.0  is acidic.\n",
      "You should be careful with that!\n"
     ]
    }
   ],
   "source": [
    "ph = float(input('Enter the pH level: '))\n",
    "if ph < 7.0:\n",
    "    print(ph, \" is acidic.\")\n",
    "    print('You should be careful with that!') #indentation is important"
   ]
  },
  {
   "cell_type": "code",
   "execution_count": 5,
   "id": "84f0a8cc-e952-4f55-a4b8-76d55abb8cbf",
   "metadata": {},
   "outputs": [
    {
     "name": "stdin",
     "output_type": "stream",
     "text": [
      "Enter the pH level:  9\n"
     ]
    },
    {
     "name": "stdout",
     "output_type": "stream",
     "text": [
      "You should be careful with that!\n"
     ]
    }
   ],
   "source": [
    "ph = float(input('Enter the pH level: '))\n",
    "if ph < 7.0:\n",
    "    print(ph, \" is acidic.\")\n",
    "print('You should be careful with that!') #indentation is important"
   ]
  },
  {
   "cell_type": "code",
   "execution_count": 7,
   "id": "962872ae-d80d-4357-82c6-59795047f677",
   "metadata": {},
   "outputs": [
    {
     "name": "stdin",
     "output_type": "stream",
     "text": [
      "Enter the pH level:  9\n"
     ]
    },
    {
     "name": "stdout",
     "output_type": "stream",
     "text": [
      "9.0  is basic.\n"
     ]
    }
   ],
   "source": [
    "ph = float(input('Enter the pH level: '))\n",
    "if ph < 7.0:\n",
    "    print(ph, \" is acidic.\") #indentation important\n",
    "\n",
    "if ph > 7.0:\n",
    "    print(ph, \" is basic.\") "
   ]
  },
  {
   "cell_type": "code",
   "execution_count": 11,
   "id": "ad87f4fb-dbd0-4ee9-8458-8a9a10040e74",
   "metadata": {},
   "outputs": [
    {
     "name": "stdin",
     "output_type": "stream",
     "text": [
      "Enter the pH level:  7.0\n"
     ]
    },
    {
     "name": "stdout",
     "output_type": "stream",
     "text": [
      "7.0  is neutral.\n"
     ]
    }
   ],
   "source": [
    "ph = float(input('Enter the pH level: '))\n",
    "if ph < 7.0:\n",
    "    print(ph, \" is acidic.\") #indentation important\n",
    "elif ph > 7.0:\n",
    "    print(ph, \" is basic.\") \n",
    "else:\n",
    "    print(ph, \" is neutral.\")"
   ]
  },
  {
   "cell_type": "code",
   "execution_count": 12,
   "id": "d3c83439-0d2e-4241-88e4-4ddde249892b",
   "metadata": {},
   "outputs": [
    {
     "name": "stdin",
     "output_type": "stream",
     "text": [
      "Enter the pH level:  7.0\n"
     ]
    },
    {
     "name": "stdout",
     "output_type": "stream",
     "text": [
      "7.0  is neutral.\n"
     ]
    }
   ],
   "source": [
    "ph = float(input('Enter the pH level: '))\n",
    "if ph < 7.0:\n",
    "    print(ph, \" is acidic.\") #indentation important\n",
    "elif ph > 7.0:\n",
    "    print(ph, \" is basic.\") \n",
    "elif ph == 7.0:\n",
    "    print(ph, \" is neutral.\")"
   ]
  },
  {
   "cell_type": "code",
   "execution_count": 17,
   "id": "4d7930be-1e38-4fbe-8617-461ddce8bb41",
   "metadata": {},
   "outputs": [
    {
     "name": "stdin",
     "output_type": "stream",
     "text": [
      "Enter the pH level:  \n"
     ]
    },
    {
     "ename": "ValueError",
     "evalue": "could not convert string to float: ''",
     "output_type": "error",
     "traceback": [
      "\u001b[1;31m---------------------------------------------------------------------------\u001b[0m",
      "\u001b[1;31mValueError\u001b[0m                                Traceback (most recent call last)",
      "Cell \u001b[1;32mIn[17], line 1\u001b[0m\n\u001b[1;32m----> 1\u001b[0m ph \u001b[38;5;241m=\u001b[39m \u001b[38;5;28;43mfloat\u001b[39;49m\u001b[43m(\u001b[49m\u001b[38;5;28;43minput\u001b[39;49m\u001b[43m(\u001b[49m\u001b[38;5;124;43m'\u001b[39;49m\u001b[38;5;124;43mEnter the pH level: \u001b[39;49m\u001b[38;5;124;43m'\u001b[39;49m\u001b[43m)\u001b[49m\u001b[43m)\u001b[49m\n\u001b[0;32m      2\u001b[0m \u001b[38;5;28;01mif\u001b[39;00m ph \u001b[38;5;241m<\u001b[39m \u001b[38;5;241m7.0\u001b[39m:\n\u001b[0;32m      3\u001b[0m     \u001b[38;5;28mprint\u001b[39m(ph, \u001b[38;5;124m\"\u001b[39m\u001b[38;5;124m is acidic.\u001b[39m\u001b[38;5;124m\"\u001b[39m) \u001b[38;5;66;03m#\u001b[39;00m\n",
      "\u001b[1;31mValueError\u001b[0m: could not convert string to float: ''"
     ]
    }
   ],
   "source": [
    "ph = float(input('Enter the pH level: '))\n",
    "if ph < 7.0:\n",
    "    print(ph, \" is acidic.\") #\n",
    "    ph = 8.0  #indentation important\n",
    "    \n",
    "elif ph > 7.0:\n",
    "    print(ph, \" is basic. ----\") "
   ]
  },
  {
   "cell_type": "code",
   "execution_count": 16,
   "id": "08589bdf-a5d9-4736-8b4b-0ac235ae1c1e",
   "metadata": {},
   "outputs": [
    {
     "name": "stdin",
     "output_type": "stream",
     "text": [
      "Enter the compound:  H2O\n"
     ]
    },
    {
     "name": "stdout",
     "output_type": "stream",
     "text": [
      "Water\n"
     ]
    }
   ],
   "source": [
    "compound = input('Enter the compound: ')\n",
    "if compound == 'H2O':\n",
    "    print('Water')\n",
    "elif compound == 'NH3':\n",
    "    print('Ammonia')\n",
    "elif compound == 'CH4':\n",
    "    print('Methane')\n",
    "else:\n",
    "    print('Unknown compound')"
   ]
  },
  {
   "cell_type": "code",
   "execution_count": 18,
   "id": "ae76160f-1dde-4666-8331-8df721069a2b",
   "metadata": {},
   "outputs": [
    {
     "name": "stdin",
     "output_type": "stream",
     "text": [
      "Enter the pH level:  \n"
     ]
    },
    {
     "name": "stdout",
     "output_type": "stream",
     "text": [
      "No pH value was given!\n"
     ]
    }
   ],
   "source": [
    "value = input('Enter the pH level: ')\n",
    "if len(value) > 0:\n",
    "    ph = float(value) \n",
    "    if ph < 7.0:\n",
    "        print(ph, \" is acidic.\")\n",
    "    elif ph > 7.0:\n",
    "        print(ph, \" is basic.\")\n",
    "    else:\n",
    "        print(ph, \" is neutral.\")\n",
    "\n",
    "else:\n",
    "    print('No pH value was given!')"
   ]
  },
  {
   "cell_type": "code",
   "execution_count": 21,
   "id": "6de718a8-f98e-4b9e-8bb7-532fbba716e4",
   "metadata": {},
   "outputs": [
    {
     "name": "stdin",
     "output_type": "stream",
     "text": [
      "Enter the pH level:  \n"
     ]
    },
    {
     "name": "stdout",
     "output_type": "stream",
     "text": [
      "No pH value was given!\n"
     ]
    }
   ],
   "source": [
    "value = input('Enter the pH level: ')\n",
    "if value: #False\n",
    "    ph = float(value) \n",
    "    if ph < 7.0:\n",
    "        print(ph, \" is acidic.\")\n",
    "    elif ph > 7.0:\n",
    "        print(ph, \" is basic.\")\n",
    "    else:\n",
    "        print(ph, \" is neutral.\")\n",
    "\n",
    "else:\n",
    "    print('No pH value was given!')"
   ]
  },
  {
   "cell_type": "code",
   "execution_count": null,
   "id": "767dad2e-6c06-4c60-929a-d0798600fc2b",
   "metadata": {},
   "outputs": [],
   "source": [
    "if age < 45:\n",
    "    if bmi < 22.0:\n",
    "        risk = 'low'\n",
    "    else:\n",
    "        risk = 'medium'\n",
    "else:\n",
    "    if bmi < 22.0:\n",
    "        risk = 'medium'\n",
    "    else:\n",
    "        risk = 'high'"
   ]
  },
  {
   "cell_type": "code",
   "execution_count": null,
   "id": "12ece7a5-3cd6-4353-9b2e-ba0e74c7744a",
   "metadata": {},
   "outputs": [],
   "source": [
    "young = age < 45\n",
    "slim = bmi < 22.0\n",
    "if young:\n",
    "    if slim:\n",
    "        risk = 'low'\n",
    "    else:\n",
    "        risk = 'medium'\n",
    "else:\n",
    "    if slim:\n",
    "        risk = 'medium'\n",
    "    else:\n",
    "        risk = 'high'"
   ]
  },
  {
   "cell_type": "code",
   "execution_count": 23,
   "id": "203685e4-6436-4ce7-91f6-af6b2b2f1d42",
   "metadata": {},
   "outputs": [
    {
     "name": "stdout",
     "output_type": "stream",
     "text": [
      "2  is VERY acidic! Be careful.\n"
     ]
    }
   ],
   "source": [
    "ph = 2\n",
    "if ph < 3.0:\n",
    "    print(ph, ' is VERY acidic! Be careful.')\n",
    "    \n",
    "elif ph < 7.0:\n",
    "    print(ph, ' is acidic')"
   ]
  },
  {
   "cell_type": "code",
   "execution_count": null,
   "id": "ed06680d-c90f-426e-808d-9f34cc3354a9",
   "metadata": {},
   "outputs": [],
   "source": [
    "# Given a number x, \n",
    "# print FizzBuzz if it is a multiple of 5 and 7, \n",
    "# Fizz if it is a multiple of 5, \n",
    "# and Buzz if it is a multiple of 7\n",
    "\n",
    "if x % 5 == 0 and x % 7 == 0:\n",
    "    print('FizzBuzz')\n",
    "elif x % 5 == 0 :\n",
    "    print('Fizz')\n",
    "elif x % 7 == 0:\n",
    "    print('Buzz')"
   ]
  },
  {
   "cell_type": "code",
   "execution_count": null,
   "id": "8321cf5b-0605-47d2-8de7-0797c3670eba",
   "metadata": {},
   "outputs": [],
   "source": [
    "if x % 5 == 0 :\n",
    "    print('Fizz')\n",
    "elif x % 7 == 0:\n",
    "    print('Buzz')\n",
    "elif x % 5 == 0 and x % 7 == 0:\n",
    "    print('FizzBuzz')"
   ]
  },
  {
   "cell_type": "code",
   "execution_count": 24,
   "id": "2fa68d42-197a-4901-971a-7a1c27011321",
   "metadata": {},
   "outputs": [],
   "source": [
    "def my_min():\n",
    "    number1 = int(input('Enter first integer: '))\n",
    "    number2 = int(input('Enter second integer: '))\n",
    "    number3 = int(input('Enter third integer: '))\n",
    "\n",
    "    minimum = number1  # current min\n",
    "\n",
    "    if number2 < minimum:\n",
    "        minimum = number2\n",
    "\n",
    "    if number3 < minimum:\n",
    "        minimum = number3\n",
    "\n",
    "    print('Minimum value is', minimum)"
   ]
  },
  {
   "cell_type": "code",
   "execution_count": 26,
   "id": "075c5176-6fed-4a7f-bab3-723d52a09881",
   "metadata": {},
   "outputs": [
    {
     "name": "stdin",
     "output_type": "stream",
     "text": [
      "Enter first integer:  23\n",
      "Enter second integer:  09\n",
      "Enter third integer:  78\n"
     ]
    },
    {
     "name": "stdout",
     "output_type": "stream",
     "text": [
      "Minimum value is 9\n"
     ]
    }
   ],
   "source": [
    "my_min()"
   ]
  },
  {
   "cell_type": "code",
   "execution_count": 27,
   "id": "724cb349-4cb5-4e5b-8a42-b12e8e20dec8",
   "metadata": {},
   "outputs": [
    {
     "name": "stdin",
     "output_type": "stream",
     "text": [
      "What is your name?  John\n"
     ]
    },
    {
     "name": "stdout",
     "output_type": "stream",
     "text": [
      "Your name is John!\n"
     ]
    }
   ],
   "source": [
    "name = input('What is your name? ')\n",
    "if name.lower() == 'john':\n",
    "    print('Your name is John!')\n",
    "elif name.lower() == 'jane':\n",
    "    print('Your name is Jane!')"
   ]
  },
  {
   "cell_type": "code",
   "execution_count": 29,
   "id": "38b53261-0d57-4c2e-bc93-857bc7aabc07",
   "metadata": {},
   "outputs": [
    {
     "name": "stdin",
     "output_type": "stream",
     "text": [
      "What is your name?  JoHn\n"
     ]
    }
   ],
   "source": [
    "name = input('What is your name? ')\n",
    "if name == 'john':\n",
    "    print('Your name is John!')\n",
    "elif name == 'jane':\n",
    "    print('Your name is Jane!')"
   ]
  },
  {
   "cell_type": "code",
   "execution_count": null,
   "id": "e2377d34-3d66-4006-98b2-f2a85d7a51af",
   "metadata": {},
   "outputs": [],
   "source": [
    "# John != john"
   ]
  },
  {
   "cell_type": "code",
   "execution_count": 30,
   "id": "fe1d8f40-6706-4d5f-bbee-dc7ccfcc7172",
   "metadata": {},
   "outputs": [
    {
     "data": {
      "text/plain": [
       "0"
      ]
     },
     "execution_count": 30,
     "metadata": {},
     "output_type": "execute_result"
    }
   ],
   "source": [
    "0 % 2"
   ]
  },
  {
   "cell_type": "code",
   "execution_count": 31,
   "id": "7bf99e34-3126-42a4-a1d4-3a02e8788a2e",
   "metadata": {},
   "outputs": [],
   "source": [
    "x = 3\n"
   ]
  },
  {
   "cell_type": "code",
   "execution_count": 32,
   "id": "0c00342f-4e43-4f2c-b059-7ae51ed58435",
   "metadata": {},
   "outputs": [],
   "source": [
    "x  = 4"
   ]
  },
  {
   "cell_type": "code",
   "execution_count": 38,
   "id": "55a3e186-1916-495d-ba78-ef7eaab0296d",
   "metadata": {},
   "outputs": [],
   "source": [
    "x = [1, 2, 3, 4]"
   ]
  },
  {
   "cell_type": "code",
   "execution_count": 34,
   "id": "e4236958-439b-4e2a-b1cf-e92c39486961",
   "metadata": {},
   "outputs": [],
   "source": [
    "x = [1, 3.14, 2, 4]"
   ]
  },
  {
   "cell_type": "code",
   "execution_count": 39,
   "id": "1e4a7f44-789d-4e14-b37e-658db9066ddd",
   "metadata": {},
   "outputs": [
    {
     "data": {
      "text/plain": [
       "1"
      ]
     },
     "execution_count": 39,
     "metadata": {},
     "output_type": "execute_result"
    }
   ],
   "source": [
    "min(x)"
   ]
  },
  {
   "cell_type": "code",
   "execution_count": 40,
   "id": "33637b9a-181c-470a-a0b8-a7588fdf3a90",
   "metadata": {},
   "outputs": [
    {
     "ename": "TypeError",
     "evalue": "'<' not supported between instances of 'int' and 'str'",
     "output_type": "error",
     "traceback": [
      "\u001b[1;31m---------------------------------------------------------------------------\u001b[0m",
      "\u001b[1;31mTypeError\u001b[0m                                 Traceback (most recent call last)",
      "Cell \u001b[1;32mIn[40], line 2\u001b[0m\n\u001b[0;32m      1\u001b[0m x \u001b[38;5;241m=\u001b[39m [\u001b[38;5;124m'\u001b[39m\u001b[38;5;124m1\u001b[39m\u001b[38;5;124m'\u001b[39m, \u001b[38;5;241m1\u001b[39m, \u001b[38;5;241m1.0\u001b[39m]\n\u001b[1;32m----> 2\u001b[0m \u001b[38;5;28;43mmin\u001b[39;49m\u001b[43m(\u001b[49m\u001b[43mx\u001b[49m\u001b[43m)\u001b[49m\n",
      "\u001b[1;31mTypeError\u001b[0m: '<' not supported between instances of 'int' and 'str'"
     ]
    }
   ],
   "source": [
    "x = ['1', 1, 1.0]\n",
    "min(x)"
   ]
  },
  {
   "cell_type": "code",
   "execution_count": 42,
   "id": "4c777b22-fb61-4183-81ca-eaaf72807248",
   "metadata": {},
   "outputs": [
    {
     "data": {
      "text/plain": [
       "'11'"
      ]
     },
     "execution_count": 42,
     "metadata": {},
     "output_type": "execute_result"
    }
   ],
   "source": [
    "min(['11', '2'])"
   ]
  },
  {
   "cell_type": "code",
   "execution_count": null,
   "id": "245178f0-aae5-4004-82cc-dc8cf0e4c69c",
   "metadata": {},
   "outputs": [],
   "source": [
    "x = [False, True, False]"
   ]
  },
  {
   "cell_type": "code",
   "execution_count": 43,
   "id": "41536d3d-a770-4d2c-ab21-a0afc23e1720",
   "metadata": {},
   "outputs": [
    {
     "data": {
      "text/plain": [
       "2"
      ]
     },
     "execution_count": 43,
     "metadata": {},
     "output_type": "execute_result"
    }
   ],
   "source": [
    "min([11, 2])"
   ]
  },
  {
   "cell_type": "code",
   "execution_count": 44,
   "id": "b5abfd8f-d3e7-4116-bcd2-8e78bcb136e7",
   "metadata": {},
   "outputs": [],
   "source": [
    "grades = ['A', 'B', 'C', 'D', 'F']\n",
    "        #  0    1    2    3    4"
   ]
  },
  {
   "cell_type": "code",
   "execution_count": 45,
   "id": "7468fbdd-528f-41bc-b460-e340341928fc",
   "metadata": {},
   "outputs": [
    {
     "data": {
      "text/plain": [
       "'A'"
      ]
     },
     "execution_count": 45,
     "metadata": {},
     "output_type": "execute_result"
    }
   ],
   "source": [
    "grades[0]"
   ]
  },
  {
   "cell_type": "code",
   "execution_count": 46,
   "id": "54a71dd7-83f6-4491-bcbf-dccf1838988a",
   "metadata": {},
   "outputs": [
    {
     "data": {
      "text/plain": [
       "'D'"
      ]
     },
     "execution_count": 46,
     "metadata": {},
     "output_type": "execute_result"
    }
   ],
   "source": [
    "grades[3]"
   ]
  },
  {
   "cell_type": "code",
   "execution_count": 47,
   "id": "bbcd4224-c6a6-40a9-b1b4-09574d81c8f0",
   "metadata": {},
   "outputs": [
    {
     "data": {
      "text/plain": [
       "31"
      ]
     },
     "execution_count": 47,
     "metadata": {},
     "output_type": "execute_result"
    }
   ],
   "source": [
    "days_in_months = [None, 31, 28, 31, 30, 31, 30, 31, 31, 30, 31, 30, 31]\n",
    "\n",
    "days_in_months[7]"
   ]
  },
  {
   "cell_type": "code",
   "execution_count": 48,
   "id": "569758ac-78ae-4b39-b95f-3c88aa64dc9f",
   "metadata": {},
   "outputs": [
    {
     "data": {
      "text/plain": [
       "31"
      ]
     },
     "execution_count": 48,
     "metadata": {},
     "output_type": "execute_result"
    }
   ],
   "source": [
    "days_in_months = [31, 28, 31, 30, 31, 30, 31, 31, 30, 31, 30, 31]\n",
    "days_in_months[6]"
   ]
  },
  {
   "cell_type": "code",
   "execution_count": 49,
   "id": "eef654fd-8bf4-48d6-93d4-16555436f3e0",
   "metadata": {},
   "outputs": [],
   "source": [
    "grades_count = [20, 40, 10, 2, 3]\n",
    "# N, n = 5\n",
    "# 0 - N-1, n-1"
   ]
  },
  {
   "cell_type": "code",
   "execution_count": 50,
   "id": "d48ea96f-448f-4ada-bf0c-1aee3d63040a",
   "metadata": {},
   "outputs": [
    {
     "ename": "IndexError",
     "evalue": "list index out of range",
     "output_type": "error",
     "traceback": [
      "\u001b[1;31m---------------------------------------------------------------------------\u001b[0m",
      "\u001b[1;31mIndexError\u001b[0m                                Traceback (most recent call last)",
      "Cell \u001b[1;32mIn[50], line 1\u001b[0m\n\u001b[1;32m----> 1\u001b[0m \u001b[43mgrades_count\u001b[49m\u001b[43m[\u001b[49m\u001b[38;5;241;43m90\u001b[39;49m\u001b[43m]\u001b[49m\n",
      "\u001b[1;31mIndexError\u001b[0m: list index out of range"
     ]
    }
   ],
   "source": [
    "grades_count[90]"
   ]
  },
  {
   "cell_type": "code",
   "execution_count": null,
   "id": "8774654e-f425-4138-bdee-4e9aaea68635",
   "metadata": {},
   "outputs": [],
   "source": [
    "days_in_months = [None, 31, 28, 31, 30, 31, 30, 31, 31, 30, 31, 30, 31]\n",
    "                  # 0    1   2   3   4   5   6   7   8   9  10   11  12\n",
    "                   #                 -6    -5    -4         -3   -2  -1\n",
    "start_index = 3\n",
    "end_index = 8 # not 7"
   ]
  },
  {
   "cell_type": "code",
   "execution_count": 51,
   "id": "9b240727-d9cf-48c3-9d17-06217eb11dfd",
   "metadata": {},
   "outputs": [],
   "source": [
    "my_list = days_in_months"
   ]
  },
  {
   "cell_type": "code",
   "execution_count": 52,
   "id": "fa6cfade-4e41-4fc8-8759-148fd8169a35",
   "metadata": {},
   "outputs": [
    {
     "data": {
      "text/plain": [
       "[30, 31, 30, 31, 31, 30, 31, 30, 31]"
      ]
     },
     "execution_count": 52,
     "metadata": {},
     "output_type": "execute_result"
    }
   ],
   "source": [
    "my_list[3:]"
   ]
  },
  {
   "cell_type": "code",
   "execution_count": 55,
   "id": "a81c54ba-c9ec-4c7e-9fb9-ad1acfef618a",
   "metadata": {},
   "outputs": [],
   "source": [
    "my_list = [None, 'Jan', 'Feb', 'Mar', 'Apr', 'May', 'Jun', 'Jul', 'Aug', 'Sep', 'Oct', 'Nov', 'Dec']\n"
   ]
  },
  {
   "cell_type": "code",
   "execution_count": 56,
   "id": "f7de56ce-f5df-439a-91f0-cdf7ee08284f",
   "metadata": {},
   "outputs": [
    {
     "data": {
      "text/plain": [
       "['Mar', 'Apr', 'May', 'Jun', 'Jul', 'Aug', 'Sep', 'Oct', 'Nov', 'Dec']"
      ]
     },
     "execution_count": 56,
     "metadata": {},
     "output_type": "execute_result"
    }
   ],
   "source": [
    "my_list[3:]"
   ]
  },
  {
   "cell_type": "code",
   "execution_count": 57,
   "id": "dd5086be-e1b5-432d-8fed-ef78f5450d88",
   "metadata": {},
   "outputs": [
    {
     "data": {
      "text/plain": [
       "[None, 'Jan', 'Feb', 'Mar', 'Apr', 'May', 'Jun', 'Jul', 'Aug', 'Sep']"
      ]
     },
     "execution_count": 57,
     "metadata": {},
     "output_type": "execute_result"
    }
   ],
   "source": [
    "my_list[:10] "
   ]
  },
  {
   "cell_type": "code",
   "execution_count": 58,
   "id": "c617b9f0-8af3-46ca-8c8d-3a084e4a4275",
   "metadata": {},
   "outputs": [
    {
     "data": {
      "text/plain": [
       "['Jan', 'Feb', 'Mar', 'Apr', 'May', 'Jun', 'Jul', 'Aug', 'Sep']"
      ]
     },
     "execution_count": 58,
     "metadata": {},
     "output_type": "execute_result"
    }
   ],
   "source": [
    "my_list[1:10] "
   ]
  },
  {
   "cell_type": "code",
   "execution_count": 59,
   "id": "134aed68-32c8-4223-99a5-4771108f7eb7",
   "metadata": {},
   "outputs": [
    {
     "data": {
      "text/plain": [
       "['Mar', 'Apr', 'May', 'Jun', 'Jul', 'Aug', 'Sep']"
      ]
     },
     "execution_count": 59,
     "metadata": {},
     "output_type": "execute_result"
    }
   ],
   "source": [
    "my_list[3:10]"
   ]
  },
  {
   "cell_type": "code",
   "execution_count": 60,
   "id": "a561161a-1b57-4c1e-8d88-057dfe46e619",
   "metadata": {},
   "outputs": [
    {
     "data": {
      "text/plain": [
       "['Mar', 'May', 'Jul', 'Sep']"
      ]
     },
     "execution_count": 60,
     "metadata": {},
     "output_type": "execute_result"
    }
   ],
   "source": [
    "my_list[3:10:2] "
   ]
  },
  {
   "cell_type": "code",
   "execution_count": 61,
   "id": "a1b83a67-6785-4a57-90bf-a7869c7214aa",
   "metadata": {},
   "outputs": [
    {
     "data": {
      "text/plain": [
       "[None, 'Feb', 'Apr', 'Jun', 'Aug']"
      ]
     },
     "execution_count": 61,
     "metadata": {},
     "output_type": "execute_result"
    }
   ],
   "source": [
    "my_list[:10:2]"
   ]
  },
  {
   "cell_type": "code",
   "execution_count": 62,
   "id": "9d7bb92e-b914-46e8-b66e-c6be3302657c",
   "metadata": {},
   "outputs": [
    {
     "data": {
      "text/plain": [
       "['Jan', 'Mar', 'May', 'Jul', 'Sep', 'Nov']"
      ]
     },
     "execution_count": 62,
     "metadata": {},
     "output_type": "execute_result"
    }
   ],
   "source": [
    "my_list[1::2]"
   ]
  },
  {
   "cell_type": "code",
   "execution_count": 63,
   "id": "603ed958-e0d1-4ee1-9029-caf9d7c06470",
   "metadata": {},
   "outputs": [
    {
     "data": {
      "text/plain": [
       "['Jan', 'Apr', 'Jul', 'Oct']"
      ]
     },
     "execution_count": 63,
     "metadata": {},
     "output_type": "execute_result"
    }
   ],
   "source": [
    "my_list[1::3]"
   ]
  },
  {
   "cell_type": "code",
   "execution_count": 64,
   "id": "3adeaa02-a49b-482b-a969-c8d2e1b244b9",
   "metadata": {},
   "outputs": [
    {
     "data": {
      "text/plain": [
       "'Dec'"
      ]
     },
     "execution_count": 64,
     "metadata": {},
     "output_type": "execute_result"
    }
   ],
   "source": [
    "my_list[-1]"
   ]
  },
  {
   "cell_type": "code",
   "execution_count": 71,
   "id": "090fb325-7d69-4830-820c-9033a4101b88",
   "metadata": {},
   "outputs": [
    {
     "data": {
      "text/plain": [
       "['Dec',\n",
       " 'Nov',\n",
       " 'Oct',\n",
       " 'Sep',\n",
       " 'Aug',\n",
       " 'Jul',\n",
       " 'Jun',\n",
       " 'May',\n",
       " 'Apr',\n",
       " 'Mar',\n",
       " 'Feb',\n",
       " 'Jan']"
      ]
     },
     "execution_count": 71,
     "metadata": {},
     "output_type": "execute_result"
    }
   ],
   "source": [
    "my_list[:0:-1]"
   ]
  },
  {
   "cell_type": "code",
   "execution_count": 72,
   "id": "19989065-2109-4cdc-821a-8283dc1dd90d",
   "metadata": {},
   "outputs": [
    {
     "data": {
      "text/plain": [
       "'Oct'"
      ]
     },
     "execution_count": 72,
     "metadata": {},
     "output_type": "execute_result"
    }
   ],
   "source": [
    "my_list[-3]\n"
   ]
  },
  {
   "cell_type": "code",
   "execution_count": 73,
   "id": "607fc35b-a133-4bf8-ad12-c48a08b35730",
   "metadata": {},
   "outputs": [
    {
     "data": {
      "text/plain": [
       "['A', 'B', 'c', 'D', 'F']"
      ]
     },
     "execution_count": 73,
     "metadata": {},
     "output_type": "execute_result"
    }
   ],
   "source": [
    "grades = ['A', 'B', 'C', 'D', 'F']\n",
    "grades[2] = 'c'\n",
    "grades"
   ]
  },
  {
   "cell_type": "code",
   "execution_count": 74,
   "id": "ff9c10c8-bbb6-4afa-87f8-d0e4606d4ea4",
   "metadata": {},
   "outputs": [],
   "source": [
    "grades[0] = 'a'"
   ]
  },
  {
   "cell_type": "code",
   "execution_count": 75,
   "id": "efe39745-2bc9-456c-948c-ea410f9d0df8",
   "metadata": {},
   "outputs": [
    {
     "data": {
      "text/plain": [
       "['a', 'B', 'c', 'D', 'F']"
      ]
     },
     "execution_count": 75,
     "metadata": {},
     "output_type": "execute_result"
    }
   ],
   "source": [
    "grades"
   ]
  },
  {
   "cell_type": "code",
   "execution_count": 76,
   "id": "10aa393e-5dd2-4643-8d66-4bc501f08a10",
   "metadata": {},
   "outputs": [],
   "source": [
    "grades[1:2] = 'a'"
   ]
  },
  {
   "cell_type": "code",
   "execution_count": 77,
   "id": "ddfb2909-3689-40c2-98bc-d8923643b4cb",
   "metadata": {},
   "outputs": [
    {
     "data": {
      "text/plain": [
       "['a', 'a', 'c', 'D', 'F']"
      ]
     },
     "execution_count": 77,
     "metadata": {},
     "output_type": "execute_result"
    }
   ],
   "source": [
    "grades"
   ]
  },
  {
   "cell_type": "code",
   "execution_count": 78,
   "id": "795746be-8a30-402f-8e19-d488cf5e3bd6",
   "metadata": {},
   "outputs": [],
   "source": [
    "grades[2:] = ['d', 'f']"
   ]
  },
  {
   "cell_type": "code",
   "execution_count": 79,
   "id": "22d508c1-74f2-4df7-ad2e-079e44f57296",
   "metadata": {},
   "outputs": [
    {
     "data": {
      "text/plain": [
       "['a', 'a', 'd', 'f']"
      ]
     },
     "execution_count": 79,
     "metadata": {},
     "output_type": "execute_result"
    }
   ],
   "source": [
    "grades"
   ]
  },
  {
   "cell_type": "code",
   "execution_count": 80,
   "id": "5207ddcb-ebb8-4cc5-aa71-988778d29de2",
   "metadata": {},
   "outputs": [
    {
     "data": {
      "text/plain": [
       "['a', 'a', 'd', 'f']"
      ]
     },
     "execution_count": 80,
     "metadata": {},
     "output_type": "execute_result"
    }
   ],
   "source": [
    "grades"
   ]
  },
  {
   "cell_type": "code",
   "execution_count": 82,
   "id": "adc195f9-1e52-4571-a42f-e7c3afaab422",
   "metadata": {},
   "outputs": [
    {
     "data": {
      "text/plain": [
       "['a', 'd', 'f']"
      ]
     },
     "execution_count": 82,
     "metadata": {},
     "output_type": "execute_result"
    }
   ],
   "source": [
    "grades[1:]"
   ]
  },
  {
   "cell_type": "code",
   "execution_count": 84,
   "id": "ef87c9e3-1167-43b7-afd9-4131cf0f444a",
   "metadata": {},
   "outputs": [],
   "source": [
    "grades[1:] = 'D'"
   ]
  },
  {
   "cell_type": "raw",
   "id": "63de1f68-be56-412b-b10b-ffd171dd042b",
   "metadata": {},
   "source": [
    "1:2 ==> 1\n",
    "1:3 ==> 1,2"
   ]
  },
  {
   "cell_type": "code",
   "execution_count": 86,
   "id": "e38adcb3-b5e5-4168-a491-8d80f31bc982",
   "metadata": {},
   "outputs": [],
   "source": [
    "grades = ['A', 'B', 'C', 'D', 'F']\n"
   ]
  },
  {
   "cell_type": "code",
   "execution_count": 87,
   "id": "ff78761f-5847-46ce-b9ea-a6f347d970d2",
   "metadata": {},
   "outputs": [],
   "source": [
    "grades[1:] = 'D'"
   ]
  },
  {
   "cell_type": "code",
   "execution_count": 88,
   "id": "b402b116-ba02-401c-b9c9-ef454944fd06",
   "metadata": {},
   "outputs": [
    {
     "data": {
      "text/plain": [
       "['A', 'D']"
      ]
     },
     "execution_count": 88,
     "metadata": {},
     "output_type": "execute_result"
    }
   ],
   "source": [
    "grades"
   ]
  },
  {
   "cell_type": "code",
   "execution_count": 89,
   "id": "d02d13e0-246f-4eed-9155-18fbbfaba8d4",
   "metadata": {},
   "outputs": [],
   "source": [
    "grades = ['A', 'B', 'C', 'D', 'F']\n",
    "grades[1:3] = 'D'"
   ]
  },
  {
   "cell_type": "code",
   "execution_count": 11,
   "id": "be3c366b-c319-4f1b-9604-70349af5c761",
   "metadata": {},
   "outputs": [],
   "source": [
    "grades = ['A', 'B', 'C', 'D', 'F']\n"
   ]
  },
  {
   "cell_type": "code",
   "execution_count": 2,
   "id": "ed680615-1471-4811-9d0e-3a3d31cf0b05",
   "metadata": {},
   "outputs": [
    {
     "data": {
      "text/plain": [
       "['A', 'B', 'C', 'D', 'F']"
      ]
     },
     "execution_count": 2,
     "metadata": {},
     "output_type": "execute_result"
    }
   ],
   "source": [
    "grades"
   ]
  },
  {
   "cell_type": "code",
   "execution_count": 12,
   "id": "392f1ab3-531c-40bc-9bf5-08b6748c7208",
   "metadata": {},
   "outputs": [],
   "source": [
    "grades[1:4] = 'G'"
   ]
  },
  {
   "cell_type": "code",
   "execution_count": 13,
   "id": "07d4ef08-bbb4-46a2-85ea-45adaf9198e0",
   "metadata": {},
   "outputs": [
    {
     "data": {
      "text/plain": [
       "['A', 'G', 'F']"
      ]
     },
     "execution_count": 13,
     "metadata": {},
     "output_type": "execute_result"
    }
   ],
   "source": [
    "grades"
   ]
  },
  {
   "cell_type": "code",
   "execution_count": null,
   "id": "6881c111-5630-4041-8ece-1913ed5bcb54",
   "metadata": {},
   "outputs": [],
   "source": [
    "['A', 'D', 'D', 'D', 'F'] # this doesn't happen"
   ]
  },
  {
   "cell_type": "code",
   "execution_count": null,
   "id": "514f5807-db61-4f1f-a318-bb11301eea9c",
   "metadata": {},
   "outputs": [],
   "source": [
    "grades = ['A', 'B', 'C', 'D', 'F']\n",
    "grades[1:4]"
   ]
  },
  {
   "cell_type": "code",
   "execution_count": 14,
   "id": "aa2175db-f947-4a20-9849-b44638119f4e",
   "metadata": {},
   "outputs": [],
   "source": [
    "grades = ['A', 'B', 'C', 'D', 'F']\n",
    "del grades[0]\n"
   ]
  },
  {
   "cell_type": "code",
   "execution_count": 15,
   "id": "f3a2b757-a6aa-41ee-aa38-35d38b9f036e",
   "metadata": {},
   "outputs": [
    {
     "data": {
      "text/plain": [
       "['B', 'C', 'D', 'F']"
      ]
     },
     "execution_count": 15,
     "metadata": {},
     "output_type": "execute_result"
    }
   ],
   "source": [
    "grades"
   ]
  },
  {
   "cell_type": "code",
   "execution_count": 16,
   "id": "91624cfb-d16e-4d6e-a218-c217e3b3d4f9",
   "metadata": {},
   "outputs": [],
   "source": [
    "del grades[1:3]\n"
   ]
  },
  {
   "cell_type": "code",
   "execution_count": 17,
   "id": "9b73310e-8869-4288-b94e-e879d3e27f1e",
   "metadata": {},
   "outputs": [
    {
     "data": {
      "text/plain": [
       "['B', 'F']"
      ]
     },
     "execution_count": 17,
     "metadata": {},
     "output_type": "execute_result"
    }
   ],
   "source": [
    "grades"
   ]
  },
  {
   "cell_type": "code",
   "execution_count": 18,
   "id": "28e0a332-9e63-401f-9f93-8bc89a33878c",
   "metadata": {},
   "outputs": [],
   "source": [
    "del grades"
   ]
  },
  {
   "cell_type": "code",
   "execution_count": 19,
   "id": "132f2d8b-e086-4c2a-9432-409688313bfc",
   "metadata": {},
   "outputs": [
    {
     "ename": "NameError",
     "evalue": "name 'grades' is not defined",
     "output_type": "error",
     "traceback": [
      "\u001b[1;31m---------------------------------------------------------------------------\u001b[0m",
      "\u001b[1;31mNameError\u001b[0m                                 Traceback (most recent call last)",
      "Cell \u001b[1;32mIn[19], line 1\u001b[0m\n\u001b[1;32m----> 1\u001b[0m \u001b[43mgrades\u001b[49m\n",
      "\u001b[1;31mNameError\u001b[0m: name 'grades' is not defined"
     ]
    }
   ],
   "source": [
    "grades"
   ]
  },
  {
   "cell_type": "code",
   "execution_count": 20,
   "id": "6b92a5e9-121c-4c7c-bf93-a78618c859b7",
   "metadata": {},
   "outputs": [
    {
     "data": {
      "text/plain": [
       "'F'"
      ]
     },
     "execution_count": 20,
     "metadata": {},
     "output_type": "execute_result"
    }
   ],
   "source": [
    "grades = ['A', 'B', 'C', 'D', 'F']\n",
    "grades.pop() # deletes the last element in list and returns it "
   ]
  },
  {
   "cell_type": "code",
   "execution_count": 21,
   "id": "1935f47e-0f50-4140-a544-fb8614e8333c",
   "metadata": {},
   "outputs": [],
   "source": [
    "grades = ['A', 'B', 'C', 'D', 'F']\n",
    "last_ele = grades.pop() # deletes the last element in list and returns it "
   ]
  },
  {
   "cell_type": "code",
   "execution_count": 22,
   "id": "9adbd3b5-2c0a-4555-ae4c-43c34e0f59f5",
   "metadata": {},
   "outputs": [
    {
     "data": {
      "text/plain": [
       "'F'"
      ]
     },
     "execution_count": 22,
     "metadata": {},
     "output_type": "execute_result"
    }
   ],
   "source": [
    "last_ele"
   ]
  },
  {
   "cell_type": "code",
   "execution_count": 23,
   "id": "b950b96b-1fb9-4e7b-9d5b-03bcf6538346",
   "metadata": {},
   "outputs": [
    {
     "data": {
      "text/plain": [
       "'A'"
      ]
     },
     "execution_count": 23,
     "metadata": {},
     "output_type": "execute_result"
    }
   ],
   "source": [
    "grades.pop(0) # deletes the first element in list and returns it"
   ]
  },
  {
   "cell_type": "code",
   "execution_count": 26,
   "id": "6d6ae183-0e3a-4eae-8407-559f20f3d45a",
   "metadata": {},
   "outputs": [
    {
     "data": {
      "text/plain": [
       "'D'"
      ]
     },
     "execution_count": 26,
     "metadata": {},
     "output_type": "execute_result"
    }
   ],
   "source": [
    "grades = ['A', 'B', 'C', 'D', 'F']\n",
    "\n",
    "grades.pop(3) # deletes the fourth element in list and returns it"
   ]
  },
  {
   "cell_type": "code",
   "execution_count": 27,
   "id": "a6888b45-5ec0-4753-b56a-ea0b5402c24e",
   "metadata": {},
   "outputs": [
    {
     "data": {
      "text/plain": [
       "['A', 'B', 'C', 'F']"
      ]
     },
     "execution_count": 27,
     "metadata": {},
     "output_type": "execute_result"
    }
   ],
   "source": [
    "grades"
   ]
  },
  {
   "cell_type": "code",
   "execution_count": null,
   "id": "bd44257d-8b46-48cd-a4c5-0299aeede218",
   "metadata": {},
   "outputs": [],
   "source": []
  }
 ],
 "metadata": {
  "kernelspec": {
   "display_name": "Python 3 (ipykernel)",
   "language": "python",
   "name": "python3"
  },
  "language_info": {
   "codemirror_mode": {
    "name": "ipython",
    "version": 3
   },
   "file_extension": ".py",
   "mimetype": "text/x-python",
   "name": "python",
   "nbconvert_exporter": "python",
   "pygments_lexer": "ipython3",
   "version": "3.9.18"
  }
 },
 "nbformat": 4,
 "nbformat_minor": 5
}
