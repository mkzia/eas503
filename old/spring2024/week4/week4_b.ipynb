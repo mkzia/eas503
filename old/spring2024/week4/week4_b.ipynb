{
 "cells": [
  {
   "cell_type": "code",
   "execution_count": 4,
   "id": "b3ccc596-e862-4e30-bdad-6d1bf92a3b2e",
   "metadata": {},
   "outputs": [
    {
     "data": {
      "text/plain": [
       "[1, 'A', 5, 6]"
      ]
     },
     "execution_count": 4,
     "metadata": {},
     "output_type": "execute_result"
    }
   ],
   "source": [
    "x = [1, 2, 3, 4, 5, 6]\n",
    "    #0, 1, 2, 3, 4, 5\n",
    "# x[2]\n",
    "x[1:4] = 'A'\n",
    "# x[1, 'A', 'A', 'A', A', 6]\n",
    "x"
   ]
  },
  {
   "cell_type": "code",
   "execution_count": 5,
   "id": "bcf9a529-a420-4c76-bec1-710b8ddcbe5a",
   "metadata": {},
   "outputs": [
    {
     "data": {
      "text/plain": [
       "[1, 'A', 'A', 'A', 5, 6]"
      ]
     },
     "execution_count": 5,
     "metadata": {},
     "output_type": "execute_result"
    }
   ],
   "source": [
    "x = [1, 2, 3, 4, 5, 6]\n",
    "    #0, 1, 2, 3, 4, 5\n",
    "\n",
    "x[1:4] = ['A'] * 3\n",
    "x"
   ]
  },
  {
   "cell_type": "code",
   "execution_count": 6,
   "id": "94dd7c29-1b96-46db-8780-e105286af177",
   "metadata": {},
   "outputs": [
    {
     "data": {
      "text/plain": [
       "['A', 'A', 'A']"
      ]
     },
     "execution_count": 6,
     "metadata": {},
     "output_type": "execute_result"
    }
   ],
   "source": [
    "['A'] * 3"
   ]
  },
  {
   "cell_type": "code",
   "execution_count": 7,
   "id": "b713e12c-0022-4d58-beab-99aee3b27395",
   "metadata": {},
   "outputs": [
    {
     "ename": "TypeError",
     "evalue": "can only concatenate list (not \"int\") to list",
     "output_type": "error",
     "traceback": [
      "\u001b[1;31m---------------------------------------------------------------------------\u001b[0m",
      "\u001b[1;31mTypeError\u001b[0m                                 Traceback (most recent call last)",
      "Cell \u001b[1;32mIn[7], line 1\u001b[0m\n\u001b[1;32m----> 1\u001b[0m \u001b[43m[\u001b[49m\u001b[38;5;124;43m'\u001b[39;49m\u001b[38;5;124;43mA\u001b[39;49m\u001b[38;5;124;43m'\u001b[39;49m\u001b[43m]\u001b[49m\u001b[43m \u001b[49m\u001b[38;5;241;43m+\u001b[39;49m\u001b[43m \u001b[49m\u001b[38;5;241;43m3\u001b[39;49m\n",
      "\u001b[1;31mTypeError\u001b[0m: can only concatenate list (not \"int\") to list"
     ]
    }
   ],
   "source": [
    "['A'] + 3"
   ]
  },
  {
   "cell_type": "code",
   "execution_count": 8,
   "id": "a0565de7-962a-4697-a04b-011c8ddd2578",
   "metadata": {},
   "outputs": [
    {
     "data": {
      "text/plain": [
       "['A', 'B']"
      ]
     },
     "execution_count": 8,
     "metadata": {},
     "output_type": "execute_result"
    }
   ],
   "source": [
    "['A'] + ['B']"
   ]
  },
  {
   "cell_type": "code",
   "execution_count": 9,
   "id": "bd5c156e-7b3d-4f45-bca0-9524f49b94e1",
   "metadata": {},
   "outputs": [
    {
     "data": {
      "text/plain": [
       "['A', 'C']"
      ]
     },
     "execution_count": 9,
     "metadata": {},
     "output_type": "execute_result"
    }
   ],
   "source": [
    "y = ['A']\n",
    "y + ['C']"
   ]
  },
  {
   "cell_type": "code",
   "execution_count": 10,
   "id": "0ddc64ae-dd8d-443b-8b99-2fa533f3a2e9",
   "metadata": {},
   "outputs": [
    {
     "data": {
      "text/plain": [
       "['A']"
      ]
     },
     "execution_count": 10,
     "metadata": {},
     "output_type": "execute_result"
    }
   ],
   "source": [
    "y"
   ]
  },
  {
   "cell_type": "code",
   "execution_count": 11,
   "id": "9288cdf6-f86a-4b8c-ac27-5ec0521acff6",
   "metadata": {},
   "outputs": [
    {
     "data": {
      "text/plain": [
       "['A', 'C', 'D']"
      ]
     },
     "execution_count": 11,
     "metadata": {},
     "output_type": "execute_result"
    }
   ],
   "source": [
    "y + ['C'] + ['D']"
   ]
  },
  {
   "cell_type": "code",
   "execution_count": 12,
   "id": "5f842560-5eab-48b2-a152-fa6414c14976",
   "metadata": {},
   "outputs": [
    {
     "data": {
      "text/plain": [
       "['A', 'C', 'D', 'E']"
      ]
     },
     "execution_count": 12,
     "metadata": {},
     "output_type": "execute_result"
    }
   ],
   "source": [
    "y + ['C'] + ['D', 'E']"
   ]
  },
  {
   "cell_type": "code",
   "execution_count": 13,
   "id": "6288928d-c23d-431b-a374-638a5776fcaf",
   "metadata": {},
   "outputs": [
    {
     "data": {
      "text/plain": [
       "['A', 'C', 'D', 'E', 1, 3.14, True, None]"
      ]
     },
     "execution_count": 13,
     "metadata": {},
     "output_type": "execute_result"
    }
   ],
   "source": [
    "y + ['C'] + ['D', 'E'] + [1, 3.14, True, None]"
   ]
  },
  {
   "cell_type": "code",
   "execution_count": 15,
   "id": "518c7f67-d244-4fc0-a4dd-2ceba57c1527",
   "metadata": {},
   "outputs": [
    {
     "data": {
      "text/plain": [
       "['A', 'B', 'C', 'D', 'F', 'A', 'B', 'C', 'D', 'F', 'A', 'B', 'C', 'D', 'F']"
      ]
     },
     "execution_count": 15,
     "metadata": {},
     "output_type": "execute_result"
    }
   ],
   "source": [
    "grades = ['A', 'B', 'C', 'D', 'F']\n",
    "grades *= 3 # grades = grades * 3\n",
    "grades"
   ]
  },
  {
   "cell_type": "code",
   "execution_count": 17,
   "id": "3f5f7916-5293-4fc1-a8b4-f1dfee066d3c",
   "metadata": {},
   "outputs": [
    {
     "data": {
      "text/plain": [
       "[0, 0, 0, 0, 0, 0, 0, 0, 0, 0, 0, 0, 0]"
      ]
     },
     "execution_count": 17,
     "metadata": {},
     "output_type": "execute_result"
    }
   ],
   "source": [
    "months_count = [0] * 13\n",
    "months_count"
   ]
  },
  {
   "cell_type": "code",
   "execution_count": 18,
   "id": "291c714e-7db3-41bb-a023-5e2fff7b9118",
   "metadata": {},
   "outputs": [],
   "source": [
    "['Dec', 'Mar', 'Dec']\n",
    "month = 'Dec'\n",
    "if month == 'Dec':\n",
    "    months_count[12] += 1"
   ]
  },
  {
   "cell_type": "code",
   "execution_count": 19,
   "id": "cc5e43fb-dde9-4388-9bc8-550801489f2e",
   "metadata": {},
   "outputs": [
    {
     "data": {
      "text/plain": [
       "[0, 0, 0, 0, 0, 0, 0, 0, 0, 0, 0, 0, 1]"
      ]
     },
     "execution_count": 19,
     "metadata": {},
     "output_type": "execute_result"
    }
   ],
   "source": [
    "months_count"
   ]
  },
  {
   "cell_type": "code",
   "execution_count": null,
   "id": "60b317fe-c405-48f2-adb8-c9a4f57c02ef",
   "metadata": {},
   "outputs": [],
   "source": [
    "# min, min, sum\n",
    "# numbers (int, float) -- max, min, sum\n",
    "# strings (str) -- max, min\n",
    "# boolean (False, True) -- max, min, "
   ]
  },
  {
   "cell_type": "code",
   "execution_count": 21,
   "id": "2bd08523-3d9e-46f9-9068-0beb6ddc8a03",
   "metadata": {},
   "outputs": [
    {
     "data": {
      "text/plain": [
       "1"
      ]
     },
     "execution_count": 21,
     "metadata": {},
     "output_type": "execute_result"
    }
   ],
   "source": [
    "max(True, False) # ==> [0,1]\n",
    "sum([True, False])"
   ]
  },
  {
   "cell_type": "code",
   "execution_count": 22,
   "id": "2c4b94af-6845-42c5-a6fc-802b5391edf9",
   "metadata": {},
   "outputs": [
    {
     "data": {
      "text/plain": [
       "10"
      ]
     },
     "execution_count": 22,
     "metadata": {},
     "output_type": "execute_result"
    }
   ],
   "source": [
    "sum([True, False] + [True]*9)"
   ]
  },
  {
   "cell_type": "code",
   "execution_count": 23,
   "id": "31893afe-c7cf-4bdc-864e-5b80196dd81e",
   "metadata": {},
   "outputs": [
    {
     "data": {
      "text/plain": [
       "0"
      ]
     },
     "execution_count": 23,
     "metadata": {},
     "output_type": "execute_result"
    }
   ],
   "source": [
    "sum([False]*1000)"
   ]
  },
  {
   "cell_type": "code",
   "execution_count": 24,
   "id": "f330704b-b9b7-476d-8c0c-33a9cafbd218",
   "metadata": {},
   "outputs": [
    {
     "data": {
      "text/plain": [
       "True"
      ]
     },
     "execution_count": 24,
     "metadata": {},
     "output_type": "execute_result"
    }
   ],
   "source": [
    "False < True"
   ]
  },
  {
   "cell_type": "code",
   "execution_count": 25,
   "id": "10dc99e2-1d26-448d-a41b-2f03780f5089",
   "metadata": {},
   "outputs": [
    {
     "data": {
      "text/plain": [
       "False"
      ]
     },
     "execution_count": 25,
     "metadata": {},
     "output_type": "execute_result"
    }
   ],
   "source": [
    "False > True"
   ]
  },
  {
   "cell_type": "code",
   "execution_count": 26,
   "id": "95c9c629-ded8-481f-b7cd-05a82a4cfcf2",
   "metadata": {},
   "outputs": [
    {
     "data": {
      "text/plain": [
       "False"
      ]
     },
     "execution_count": 26,
     "metadata": {},
     "output_type": "execute_result"
    }
   ],
   "source": [
    "False == True"
   ]
  },
  {
   "cell_type": "code",
   "execution_count": 29,
   "id": "82a87182-9f7b-4991-a564-364b2f4a9f55",
   "metadata": {},
   "outputs": [
    {
     "data": {
      "text/plain": [
       "80"
      ]
     },
     "execution_count": 29,
     "metadata": {},
     "output_type": "execute_result"
    }
   ],
   "source": [
    "my_list2 = [['John', [55, 65, 86]], ['Jane', [70, 80, 80]]]\n",
    "\n",
    "my_list2[1][1][1]"
   ]
  },
  {
   "cell_type": "code",
   "execution_count": 30,
   "id": "a671b413-e9dd-47b1-acf1-832c163d3479",
   "metadata": {},
   "outputs": [
    {
     "data": {
      "text/plain": [
       "True"
      ]
     },
     "execution_count": 30,
     "metadata": {},
     "output_type": "execute_result"
    }
   ],
   "source": [
    "# This can be very slow, O(N)\n",
    "my_list = ['A', 1, 'Spam', True]\n",
    "'A' in my_list # check if the thing to left of the in operator is in the sequence on right side"
   ]
  },
  {
   "cell_type": "code",
   "execution_count": 31,
   "id": "bc5b9a31-216d-4d5a-ab45-94dbb09d75cd",
   "metadata": {},
   "outputs": [
    {
     "data": {
      "text/plain": [
       "True"
      ]
     },
     "execution_count": 31,
     "metadata": {},
     "output_type": "execute_result"
    }
   ],
   "source": [
    "'A' in 'BCAD'"
   ]
  },
  {
   "cell_type": "code",
   "execution_count": 32,
   "id": "3c2f2c4b-1dd5-4d4d-b9ca-d5df586f81ad",
   "metadata": {},
   "outputs": [
    {
     "data": {
      "text/plain": [
       "0"
      ]
     },
     "execution_count": 32,
     "metadata": {},
     "output_type": "execute_result"
    }
   ],
   "source": [
    "len([])"
   ]
  },
  {
   "cell_type": "code",
   "execution_count": 33,
   "id": "ce981628-6b76-44c4-890b-649b16435e8b",
   "metadata": {},
   "outputs": [
    {
     "data": {
      "text/plain": [
       "3"
      ]
     },
     "execution_count": 33,
     "metadata": {},
     "output_type": "execute_result"
    }
   ],
   "source": [
    "len([1, 2, 3])"
   ]
  },
  {
   "cell_type": "code",
   "execution_count": 34,
   "id": "18a78a08-9f99-4985-8483-2c32c38ff608",
   "metadata": {},
   "outputs": [
    {
     "data": {
      "text/plain": [
       "3"
      ]
     },
     "execution_count": 34,
     "metadata": {},
     "output_type": "execute_result"
    }
   ],
   "source": [
    "max([1, 2, 3])"
   ]
  },
  {
   "cell_type": "code",
   "execution_count": 35,
   "id": "b6e4f763-81a9-40c2-abdf-582f915631a5",
   "metadata": {},
   "outputs": [
    {
     "data": {
      "text/plain": [
       "1"
      ]
     },
     "execution_count": 35,
     "metadata": {},
     "output_type": "execute_result"
    }
   ],
   "source": [
    "min([1, 2, 3])"
   ]
  },
  {
   "cell_type": "code",
   "execution_count": 36,
   "id": "928c0bc0-1039-4f7c-a74e-1fdb2442636a",
   "metadata": {},
   "outputs": [
    {
     "data": {
      "text/plain": [
       "6"
      ]
     },
     "execution_count": 36,
     "metadata": {},
     "output_type": "execute_result"
    }
   ],
   "source": [
    "sum([1, 2, 3])"
   ]
  },
  {
   "cell_type": "code",
   "execution_count": 37,
   "id": "15a0fac1-3736-4c6c-95f1-b7a4f330dcc3",
   "metadata": {},
   "outputs": [
    {
     "data": {
      "text/plain": [
       "20.0"
      ]
     },
     "execution_count": 37,
     "metadata": {},
     "output_type": "execute_result"
    }
   ],
   "source": [
    "def avg_list(lst):\n",
    "    return sum(lst)/len(lst)\n",
    "\n",
    "avg_list([10, 20, 30])"
   ]
  },
  {
   "cell_type": "code",
   "execution_count": 38,
   "id": "e0a6109f-d05f-4e12-ab25-bd1efc1f1252",
   "metadata": {},
   "outputs": [
    {
     "data": {
      "text/plain": [
       "[1, 2, 34, 234, 342]"
      ]
     },
     "execution_count": 38,
     "metadata": {},
     "output_type": "execute_result"
    }
   ],
   "source": [
    "sorted([1, 342, 2, 34, 234])"
   ]
  },
  {
   "cell_type": "code",
   "execution_count": 39,
   "id": "d6a8bd07-6c41-41ae-af7e-747f9a589545",
   "metadata": {},
   "outputs": [
    {
     "data": {
      "text/plain": [
       "[342, 234, 34, 2, 1]"
      ]
     },
     "execution_count": 39,
     "metadata": {},
     "output_type": "execute_result"
    }
   ],
   "source": [
    "sorted([1, 342, 2, 34, 234], reverse=True)"
   ]
  },
  {
   "cell_type": "code",
   "execution_count": 40,
   "id": "2bd7bb72-8694-48d3-a0dc-065f9ee7429b",
   "metadata": {},
   "outputs": [],
   "source": [
    "x = (1, 2, 3)"
   ]
  },
  {
   "cell_type": "code",
   "execution_count": 41,
   "id": "c940aa87-6cbc-483d-8b9c-b1356bc8cfef",
   "metadata": {},
   "outputs": [
    {
     "ename": "TypeError",
     "evalue": "'tuple' object does not support item assignment",
     "output_type": "error",
     "traceback": [
      "\u001b[1;31m---------------------------------------------------------------------------\u001b[0m",
      "\u001b[1;31mTypeError\u001b[0m                                 Traceback (most recent call last)",
      "Cell \u001b[1;32mIn[41], line 1\u001b[0m\n\u001b[1;32m----> 1\u001b[0m x[\u001b[38;5;241m1\u001b[39m] \u001b[38;5;241m=\u001b[39m \u001b[38;5;241m4\u001b[39m\n",
      "\u001b[1;31mTypeError\u001b[0m: 'tuple' object does not support item assignment"
     ]
    }
   ],
   "source": [
    "x[1] = 4"
   ]
  },
  {
   "cell_type": "code",
   "execution_count": 43,
   "id": "a0d4df31-6189-4451-9dbe-a753d217a665",
   "metadata": {},
   "outputs": [],
   "source": [
    "y = list(x)"
   ]
  },
  {
   "cell_type": "code",
   "execution_count": 45,
   "id": "b25a5889-69ff-49ed-9fd6-09cf1ce7fb0c",
   "metadata": {},
   "outputs": [
    {
     "data": {
      "text/plain": [
       "[1, 44, 3]"
      ]
     },
     "execution_count": 45,
     "metadata": {},
     "output_type": "execute_result"
    }
   ],
   "source": [
    "y[1] = 44\n",
    "y"
   ]
  },
  {
   "cell_type": "code",
   "execution_count": 46,
   "id": "b73c8892-2430-4757-8917-df370ed2fdc8",
   "metadata": {},
   "outputs": [
    {
     "data": {
      "text/plain": [
       "True"
      ]
     },
     "execution_count": 46,
     "metadata": {},
     "output_type": "execute_result"
    }
   ],
   "source": [
    "x = [True, False, True, False]\n",
    "any(x)"
   ]
  },
  {
   "cell_type": "code",
   "execution_count": 47,
   "id": "b5dcaf9d-19c3-401e-b80e-14c5a528098c",
   "metadata": {},
   "outputs": [
    {
     "data": {
      "text/plain": [
       "False"
      ]
     },
     "execution_count": 47,
     "metadata": {},
     "output_type": "execute_result"
    }
   ],
   "source": [
    "x = [False, 0, 0.0, (), []]\n",
    "any(x)"
   ]
  },
  {
   "cell_type": "code",
   "execution_count": 48,
   "id": "af3eb9a1-558f-49fe-ad16-32c2769f5bc0",
   "metadata": {},
   "outputs": [
    {
     "data": {
      "text/plain": [
       "True"
      ]
     },
     "execution_count": 48,
     "metadata": {},
     "output_type": "execute_result"
    }
   ],
   "source": [
    "any([False, 0, 0.0, (), [], '0'])"
   ]
  },
  {
   "cell_type": "code",
   "execution_count": 49,
   "id": "18e3995a-69ca-419c-b0a6-2693ce7bc57f",
   "metadata": {},
   "outputs": [
    {
     "data": {
      "text/plain": [
       "True"
      ]
     },
     "execution_count": 49,
     "metadata": {},
     "output_type": "execute_result"
    }
   ],
   "source": [
    "any([False, 34, False, (), []])\n"
   ]
  },
  {
   "cell_type": "code",
   "execution_count": 50,
   "id": "41ddd6b5-76ab-47ad-bdca-ec9490c29607",
   "metadata": {},
   "outputs": [
    {
     "data": {
      "text/plain": [
       "True"
      ]
     },
     "execution_count": 50,
     "metadata": {},
     "output_type": "execute_result"
    }
   ],
   "source": [
    "conds = (True, False, True)\n",
    "any(conds)"
   ]
  },
  {
   "cell_type": "code",
   "execution_count": 51,
   "id": "efd4121d-1101-495b-bd93-4e2502911ad5",
   "metadata": {},
   "outputs": [
    {
     "data": {
      "text/plain": [
       "False"
      ]
     },
     "execution_count": 51,
     "metadata": {},
     "output_type": "execute_result"
    }
   ],
   "source": [
    "all([False, 34, False, (), []])"
   ]
  },
  {
   "cell_type": "code",
   "execution_count": 52,
   "id": "61d1a7d0-eb1d-4626-901a-dc09418053b4",
   "metadata": {},
   "outputs": [
    {
     "name": "stdout",
     "output_type": "stream",
     "text": [
      "<class 'tuple'> <class 'list'>\n"
     ]
    }
   ],
   "source": [
    "x = (1, 2, 3)\n",
    "y = list(x)\n",
    "print(type(x), type(y))"
   ]
  },
  {
   "cell_type": "code",
   "execution_count": 56,
   "id": "2242a0dc-d04b-4a62-8100-5e8448099a28",
   "metadata": {},
   "outputs": [
    {
     "name": "stdout",
     "output_type": "stream",
     "text": [
      "(1, 2, 3)\n"
     ]
    }
   ],
   "source": [
    "print(x)"
   ]
  },
  {
   "cell_type": "code",
   "execution_count": 53,
   "id": "7ca83cbf-4842-4704-bbc9-4ddbdd81bdc2",
   "metadata": {},
   "outputs": [],
   "source": [
    "a, b = [3,4]"
   ]
  },
  {
   "cell_type": "code",
   "execution_count": 55,
   "id": "b952d776-9f9d-4428-bf6d-d62b000b6753",
   "metadata": {},
   "outputs": [
    {
     "name": "stdout",
     "output_type": "stream",
     "text": [
      "3 4\n"
     ]
    }
   ],
   "source": [
    "print(a, b)"
   ]
  },
  {
   "cell_type": "code",
   "execution_count": 57,
   "id": "f71ec59f-6e87-4fbb-b06f-9dc4bc044206",
   "metadata": {},
   "outputs": [
    {
     "ename": "ValueError",
     "evalue": "too many values to unpack (expected 3)",
     "output_type": "error",
     "traceback": [
      "\u001b[1;31m---------------------------------------------------------------------------\u001b[0m",
      "\u001b[1;31mValueError\u001b[0m                                Traceback (most recent call last)",
      "Cell \u001b[1;32mIn[57], line 1\u001b[0m\n\u001b[1;32m----> 1\u001b[0m a, b, c \u001b[38;5;241m=\u001b[39m [\u001b[38;5;241m3\u001b[39m,\u001b[38;5;241m4\u001b[39m] \u001b[38;5;241m+\u001b[39m [\u001b[38;5;241m5\u001b[39m] \u001b[38;5;241m*\u001b[39m \u001b[38;5;241m10\u001b[39m\n",
      "\u001b[1;31mValueError\u001b[0m: too many values to unpack (expected 3)"
     ]
    }
   ],
   "source": [
    "a, b, c = [3,4] + [5] * 10"
   ]
  },
  {
   "cell_type": "code",
   "execution_count": 58,
   "id": "09640f90-1e88-40d1-821f-c93dac871528",
   "metadata": {},
   "outputs": [
    {
     "name": "stdout",
     "output_type": "stream",
     "text": [
      "3 4 [5, 5, 5, 5, 5, 5, 5, 5, 5, 5]\n"
     ]
    }
   ],
   "source": [
    "a, b, *c = [3,4] + [5] * 10\n",
    "print(a, b, c)"
   ]
  },
  {
   "cell_type": "code",
   "execution_count": 59,
   "id": "c977d8bd-8423-4445-9491-1386aa9ecfdc",
   "metadata": {},
   "outputs": [
    {
     "name": "stdout",
     "output_type": "stream",
     "text": [
      "3 4 [5, 5, 5, 5, 5, 5, 5, 5, 5] 5\n"
     ]
    }
   ],
   "source": [
    "a, b, *c, d = [3,4] + [5] * 10\n",
    "print(a, b, c, d)"
   ]
  },
  {
   "cell_type": "code",
   "execution_count": 60,
   "id": "4fc1241d-f1ca-4508-a49b-ab51a7be19b7",
   "metadata": {},
   "outputs": [
    {
     "data": {
      "text/plain": [
       "'ABC'"
      ]
     },
     "execution_count": 60,
     "metadata": {},
     "output_type": "execute_result"
    }
   ],
   "source": [
    "x = 'AbC'\n",
    "x.upper()"
   ]
  },
  {
   "cell_type": "code",
   "execution_count": 65,
   "id": "e798814c-3e02-4757-ac5f-a7e8866da7db",
   "metadata": {},
   "outputs": [],
   "source": [
    "x = [1, 2, 3]\n",
    "x.append(3) # O(1)"
   ]
  },
  {
   "cell_type": "code",
   "execution_count": 63,
   "id": "0de182f3-66aa-4833-81e2-470deee841f1",
   "metadata": {},
   "outputs": [
    {
     "data": {
      "text/plain": [
       "[1, 2, 3, 3]"
      ]
     },
     "execution_count": 63,
     "metadata": {},
     "output_type": "execute_result"
    }
   ],
   "source": [
    "x"
   ]
  },
  {
   "cell_type": "code",
   "execution_count": 64,
   "id": "1e251fe4-5d12-4ede-a112-6a6fa50e4395",
   "metadata": {},
   "outputs": [
    {
     "data": {
      "text/plain": [
       "'Abd'"
      ]
     },
     "execution_count": 64,
     "metadata": {},
     "output_type": "execute_result"
    }
   ],
   "source": [
    "x = 'AbC'\n",
    "x.replace('C', 'd')"
   ]
  },
  {
   "cell_type": "code",
   "execution_count": 67,
   "id": "b3222c00-87b7-4f69-9f84-56c421a28251",
   "metadata": {},
   "outputs": [
    {
     "data": {
      "text/plain": [
       "[33, 1, 2, 3]"
      ]
     },
     "execution_count": 67,
     "metadata": {},
     "output_type": "execute_result"
    }
   ],
   "source": [
    "x = [1, 2, 3]\n",
    "x.insert(0, 33) # O(N)\n",
    "x"
   ]
  },
  {
   "cell_type": "code",
   "execution_count": 68,
   "id": "923b067a-c167-42b2-8e87-7f64767a97d9",
   "metadata": {},
   "outputs": [
    {
     "data": {
      "text/plain": [
       "[1, 55, 2, 3]"
      ]
     },
     "execution_count": 68,
     "metadata": {},
     "output_type": "execute_result"
    }
   ],
   "source": [
    "x = [1, 2, 3]\n",
    "x.insert(1, 55) # O(N)\n",
    "x"
   ]
  },
  {
   "cell_type": "code",
   "execution_count": 70,
   "id": "ec88a87f-4389-441f-afc3-0c50456b79cc",
   "metadata": {},
   "outputs": [
    {
     "data": {
      "text/plain": [
       "[2, 1, 4]"
      ]
     },
     "execution_count": 70,
     "metadata": {},
     "output_type": "execute_result"
    }
   ],
   "source": [
    "x = [1, 2, 1, 4]\n",
    "x.remove(1)\n",
    "x"
   ]
  },
  {
   "cell_type": "code",
   "execution_count": 72,
   "id": "5e45e437-cd48-400f-82c2-f4025dff41bf",
   "metadata": {},
   "outputs": [],
   "source": [
    "x = [1, 2, 1, 4]\n",
    "save_val = x.pop()"
   ]
  },
  {
   "cell_type": "code",
   "execution_count": 74,
   "id": "93e1e8c4-9394-40ac-8e8e-399fdc461534",
   "metadata": {},
   "outputs": [
    {
     "data": {
      "text/plain": [
       "(4, [1, 2, 1])"
      ]
     },
     "execution_count": 74,
     "metadata": {},
     "output_type": "execute_result"
    }
   ],
   "source": [
    "save_val, x"
   ]
  },
  {
   "cell_type": "code",
   "execution_count": 75,
   "id": "85cda90a-a7bc-431f-8a0c-4c80e9c4d5e8",
   "metadata": {},
   "outputs": [],
   "source": [
    "x = [1, 2, 1, 4]\n",
    "save_val = x.pop(2)"
   ]
  },
  {
   "cell_type": "code",
   "execution_count": 76,
   "id": "7a3ebb0f-2ce7-4c6d-b6f6-84cc4b029f6a",
   "metadata": {},
   "outputs": [
    {
     "name": "stdout",
     "output_type": "stream",
     "text": [
      "[1, 2, 4] 1\n"
     ]
    }
   ],
   "source": [
    "print(x, save_val)"
   ]
  },
  {
   "cell_type": "code",
   "execution_count": 77,
   "id": "593bda78-7eda-4ab2-817c-68c145df3a08",
   "metadata": {},
   "outputs": [
    {
     "data": {
      "text/plain": [
       "0"
      ]
     },
     "execution_count": 77,
     "metadata": {},
     "output_type": "execute_result"
    }
   ],
   "source": [
    "x = [1, 2, 1, 4]\n",
    "x.index(1)"
   ]
  },
  {
   "cell_type": "code",
   "execution_count": 78,
   "id": "b9aaa1bf-104d-452b-8844-c0ac4313a1ed",
   "metadata": {},
   "outputs": [
    {
     "data": {
      "text/plain": [
       "3"
      ]
     },
     "execution_count": 78,
     "metadata": {},
     "output_type": "execute_result"
    }
   ],
   "source": [
    "x = [1, 2, 1, 4]\n",
    "x.index(4)"
   ]
  },
  {
   "cell_type": "code",
   "execution_count": 79,
   "id": "175534f2-4383-425c-b3c4-7c52afa1bedf",
   "metadata": {},
   "outputs": [
    {
     "data": {
      "text/plain": [
       "2"
      ]
     },
     "execution_count": 79,
     "metadata": {},
     "output_type": "execute_result"
    }
   ],
   "source": [
    "x = [1, 2, 1, 4]\n",
    "x.count(1)"
   ]
  },
  {
   "cell_type": "code",
   "execution_count": 80,
   "id": "13499377-adac-410e-a57c-4d5b0ceac4b9",
   "metadata": {},
   "outputs": [
    {
     "data": {
      "text/plain": [
       "1"
      ]
     },
     "execution_count": 80,
     "metadata": {},
     "output_type": "execute_result"
    }
   ],
   "source": [
    "x = [1, 2, 1, 4]\n",
    "x.count(4)"
   ]
  },
  {
   "cell_type": "code",
   "execution_count": null,
   "id": "01f5c586-6af5-40cc-b78b-411171529260",
   "metadata": {},
   "outputs": [],
   "source": [
    "# understand the difference between sorted and sort\n"
   ]
  },
  {
   "cell_type": "code",
   "execution_count": 82,
   "id": "5b97fc08-6ff3-49cf-b32b-263ece6defcf",
   "metadata": {},
   "outputs": [
    {
     "data": {
      "text/plain": [
       "[12, 23, 234, 324]"
      ]
     },
     "execution_count": 82,
     "metadata": {},
     "output_type": "execute_result"
    }
   ],
   "source": [
    "x = [23, 324, 12, 234]\n",
    "x.sort()\n",
    "x"
   ]
  },
  {
   "cell_type": "code",
   "execution_count": 83,
   "id": "207e60d9-39a4-48f7-9a58-08b8c96ea7dd",
   "metadata": {},
   "outputs": [
    {
     "name": "stdout",
     "output_type": "stream",
     "text": [
      "Help on method_descriptor:\n",
      "\n",
      "sort(self, /, *, key=None, reverse=False)\n",
      "    Sort the list in ascending order and return None.\n",
      "    \n",
      "    The sort is in-place (i.e. the list itself is modified) and stable (i.e. the\n",
      "    order of two equal elements is maintained).\n",
      "    \n",
      "    If a key function is given, apply it once to each list item and sort them,\n",
      "    ascending or descending, according to their function values.\n",
      "    \n",
      "    The reverse flag can be set to sort in descending order.\n",
      "\n"
     ]
    }
   ],
   "source": [
    "help(list.sort)"
   ]
  },
  {
   "cell_type": "code",
   "execution_count": 84,
   "id": "07a2fbfd-0bfa-4734-8e9f-ef03cca83dcb",
   "metadata": {},
   "outputs": [
    {
     "data": {
      "text/plain": [
       "([12, 23, 234, 324], None)"
      ]
     },
     "execution_count": 84,
     "metadata": {},
     "output_type": "execute_result"
    }
   ],
   "source": [
    "x = [23, 324, 12, 234]\n",
    "ret_val = x.sort()\n",
    "x, ret_val"
   ]
  },
  {
   "cell_type": "code",
   "execution_count": 85,
   "id": "20df263f-7744-4c42-84b7-678cb6554115",
   "metadata": {},
   "outputs": [
    {
     "data": {
      "text/plain": [
       "[12, 23, 234, 324]"
      ]
     },
     "execution_count": 85,
     "metadata": {},
     "output_type": "execute_result"
    }
   ],
   "source": [
    "x"
   ]
  },
  {
   "cell_type": "code",
   "execution_count": 86,
   "id": "5b74d3cf-ed63-4b38-8003-17ab18ac752d",
   "metadata": {},
   "outputs": [
    {
     "data": {
      "text/plain": [
       "[324, 234, 23, 12]"
      ]
     },
     "execution_count": 86,
     "metadata": {},
     "output_type": "execute_result"
    }
   ],
   "source": [
    "x.reverse()\n",
    "x"
   ]
  },
  {
   "cell_type": "code",
   "execution_count": 87,
   "id": "61169c39-8e0f-43d1-a5cc-266cbf988bce",
   "metadata": {},
   "outputs": [
    {
     "data": {
      "text/plain": [
       "[324, 234, 23, 12]"
      ]
     },
     "execution_count": 87,
     "metadata": {},
     "output_type": "execute_result"
    }
   ],
   "source": [
    "sorted(x, reverse=True)"
   ]
  },
  {
   "cell_type": "code",
   "execution_count": 90,
   "id": "6a93bd2c-0999-42e8-8eb3-e9c0029acf41",
   "metadata": {},
   "outputs": [
    {
     "data": {
      "text/plain": [
       "[12, 23, 234, 324]"
      ]
     },
     "execution_count": 90,
     "metadata": {},
     "output_type": "execute_result"
    }
   ],
   "source": [
    "list(reversed(x))"
   ]
  },
  {
   "cell_type": "code",
   "execution_count": 91,
   "id": "39d38be3-a177-4b2e-aa3e-9340cbef903c",
   "metadata": {},
   "outputs": [],
   "source": [
    "my_tuple = (1, 2, 3, [4, 5, 6])"
   ]
  },
  {
   "cell_type": "code",
   "execution_count": 92,
   "id": "9fa26f3e-c744-42ad-beda-6115e9c6497d",
   "metadata": {},
   "outputs": [
    {
     "ename": "TypeError",
     "evalue": "'tuple' object does not support item assignment",
     "output_type": "error",
     "traceback": [
      "\u001b[1;31m---------------------------------------------------------------------------\u001b[0m",
      "\u001b[1;31mTypeError\u001b[0m                                 Traceback (most recent call last)",
      "Cell \u001b[1;32mIn[92], line 1\u001b[0m\n\u001b[1;32m----> 1\u001b[0m my_tuple[\u001b[38;5;241m1\u001b[39m] \u001b[38;5;241m=\u001b[39m \u001b[38;5;241m5\u001b[39m\n",
      "\u001b[1;31mTypeError\u001b[0m: 'tuple' object does not support item assignment"
     ]
    }
   ],
   "source": [
    "my_tuple[1] = 5"
   ]
  },
  {
   "cell_type": "code",
   "execution_count": 93,
   "id": "98f1f01f-e4bc-4b26-a47b-64c817ceccf9",
   "metadata": {},
   "outputs": [
    {
     "ename": "TypeError",
     "evalue": "'tuple' object does not support item assignment",
     "output_type": "error",
     "traceback": [
      "\u001b[1;31m---------------------------------------------------------------------------\u001b[0m",
      "\u001b[1;31mTypeError\u001b[0m                                 Traceback (most recent call last)",
      "Cell \u001b[1;32mIn[93], line 1\u001b[0m\n\u001b[1;32m----> 1\u001b[0m my_tuple[\u001b[38;5;241m3\u001b[39m] \u001b[38;5;241m=\u001b[39m \u001b[38;5;241m5\u001b[39m\n",
      "\u001b[1;31mTypeError\u001b[0m: 'tuple' object does not support item assignment"
     ]
    }
   ],
   "source": [
    "my_tuple[3] = 5"
   ]
  },
  {
   "cell_type": "code",
   "execution_count": 94,
   "id": "7473c89a-2d4c-4482-ad75-25d8415b95c5",
   "metadata": {},
   "outputs": [],
   "source": [
    "my_tuple[3][2] = 55"
   ]
  },
  {
   "cell_type": "code",
   "execution_count": 95,
   "id": "d636c769-08ed-4a88-bf66-f84a21265011",
   "metadata": {},
   "outputs": [
    {
     "data": {
      "text/plain": [
       "(1, 2, 3, [4, 5, 55])"
      ]
     },
     "execution_count": 95,
     "metadata": {},
     "output_type": "execute_result"
    }
   ],
   "source": [
    "my_tuple"
   ]
  },
  {
   "cell_type": "code",
   "execution_count": 96,
   "id": "1b8587e3-0307-4074-bcbf-9fe7d1b1ddf5",
   "metadata": {},
   "outputs": [],
   "source": [
    "my_tuple[3].append('Hello')"
   ]
  },
  {
   "cell_type": "code",
   "execution_count": 97,
   "id": "06821e50-8e54-4a06-b25c-b0cdf26afe17",
   "metadata": {},
   "outputs": [
    {
     "data": {
      "text/plain": [
       "(1, 2, 3, [4, 5, 55, 'Hello'])"
      ]
     },
     "execution_count": 97,
     "metadata": {},
     "output_type": "execute_result"
    }
   ],
   "source": [
    "my_tuple"
   ]
  },
  {
   "cell_type": "code",
   "execution_count": 98,
   "id": "130d0ab2-9b7e-4d61-af9c-dfde514dd0f1",
   "metadata": {},
   "outputs": [
    {
     "data": {
      "text/plain": [
       "'Hello'"
      ]
     },
     "execution_count": 98,
     "metadata": {},
     "output_type": "execute_result"
    }
   ],
   "source": [
    "my_tuple[3].pop()"
   ]
  },
  {
   "cell_type": "code",
   "execution_count": 99,
   "id": "66ccb625-0ab4-43a8-b201-8c760aea711f",
   "metadata": {},
   "outputs": [],
   "source": [
    "my_tuple[3].reverse()"
   ]
  },
  {
   "cell_type": "code",
   "execution_count": 100,
   "id": "5737bc5d-7bbc-4fd4-8c16-9f45d3cd5b0b",
   "metadata": {},
   "outputs": [
    {
     "data": {
      "text/plain": [
       "(1, 2, 3, [55, 5, 4])"
      ]
     },
     "execution_count": 100,
     "metadata": {},
     "output_type": "execute_result"
    }
   ],
   "source": [
    "my_tuple"
   ]
  },
  {
   "cell_type": "code",
   "execution_count": 101,
   "id": "cca2c949-e5e1-4b36-8727-d78f794134a9",
   "metadata": {},
   "outputs": [
    {
     "name": "stdout",
     "output_type": "stream",
     "text": [
      "D\n"
     ]
    }
   ],
   "source": [
    "my_string = 'Doe, John'\n",
    "print(my_string[0])"
   ]
  },
  {
   "cell_type": "code",
   "execution_count": 102,
   "id": "4957b0c5-5ff5-4dcd-af0e-b9b1b0ccb9c1",
   "metadata": {},
   "outputs": [
    {
     "ename": "TypeError",
     "evalue": "'str' object does not support item assignment",
     "output_type": "error",
     "traceback": [
      "\u001b[1;31m---------------------------------------------------------------------------\u001b[0m",
      "\u001b[1;31mTypeError\u001b[0m                                 Traceback (most recent call last)",
      "Cell \u001b[1;32mIn[102], line 1\u001b[0m\n\u001b[1;32m----> 1\u001b[0m my_string[\u001b[38;5;241m0\u001b[39m] \u001b[38;5;241m=\u001b[39m \u001b[38;5;124m'\u001b[39m\u001b[38;5;124mA\u001b[39m\u001b[38;5;124m'\u001b[39m\n",
      "\u001b[1;31mTypeError\u001b[0m: 'str' object does not support item assignment"
     ]
    }
   ],
   "source": [
    "my_string[0] = 'A'"
   ]
  },
  {
   "cell_type": "code",
   "execution_count": 103,
   "id": "6b144690-cc5f-4bae-bef5-3f4bb3346d91",
   "metadata": {},
   "outputs": [
    {
     "data": {
      "text/plain": [
       "[1, 2, 55]"
      ]
     },
     "execution_count": 103,
     "metadata": {},
     "output_type": "execute_result"
    }
   ],
   "source": [
    "x = [1, 2, 3]\n",
    "x[2] = 55\n",
    "x"
   ]
  },
  {
   "cell_type": "code",
   "execution_count": 104,
   "id": "16edd2d1-9efb-43e5-a950-5546d6059067",
   "metadata": {},
   "outputs": [
    {
     "data": {
      "text/plain": [
       "'n'"
      ]
     },
     "execution_count": 104,
     "metadata": {},
     "output_type": "execute_result"
    }
   ],
   "source": [
    "my_string[-1]"
   ]
  },
  {
   "cell_type": "code",
   "execution_count": 106,
   "id": "3c64bd94-7ee5-4ecb-8eec-3df34ae0209f",
   "metadata": {},
   "outputs": [
    {
     "name": "stdout",
     "output_type": "stream",
     "text": [
      "Doe, ----- John\n"
     ]
    }
   ],
   "source": [
    "my_string = 'Doe, John'\n",
    "last_name, first_name = my_string.split() # default is  space\n",
    "print(last_name, '-'*5, first_name)"
   ]
  },
  {
   "cell_type": "code",
   "execution_count": 107,
   "id": "5d519b37-5ba5-4bc0-85d3-b1fea9366198",
   "metadata": {},
   "outputs": [
    {
     "name": "stdout",
     "output_type": "stream",
     "text": [
      "Doe ----- John\n"
     ]
    }
   ],
   "source": [
    "my_string = 'Doe, John'\n",
    "last_name, first_name = my_string.split(', ') # default is  space\n",
    "print(last_name, '-'*5, first_name)"
   ]
  },
  {
   "cell_type": "code",
   "execution_count": 108,
   "id": "451bae18-597b-4e26-86e6-b52032aa02a2",
   "metadata": {},
   "outputs": [
    {
     "name": "stdout",
     "output_type": "stream",
     "text": [
      "['2023', '05', '23']\n"
     ]
    }
   ],
   "source": [
    "date = '2023/05/23'\n",
    "print(date.split('/'))"
   ]
  },
  {
   "cell_type": "code",
   "execution_count": 109,
   "id": "9e43b296-6ae0-40c4-a167-6e05352a3866",
   "metadata": {},
   "outputs": [
    {
     "name": "stdout",
     "output_type": "stream",
     "text": [
      "2023 05 23\n"
     ]
    }
   ],
   "source": [
    "date = '2023/05/23'\n",
    "year, month, day = date.split('/')\n",
    "print(year, month, day)"
   ]
  },
  {
   "cell_type": "code",
   "execution_count": 110,
   "id": "99ca8a29-5834-4620-abc9-7c6ce6a3e524",
   "metadata": {},
   "outputs": [
    {
     "name": "stdout",
     "output_type": "stream",
     "text": [
      "2023 05 23\n",
      "2023 5 23\n"
     ]
    }
   ],
   "source": [
    "year, month, day = date.split('/')\n",
    "print(year, month, day)\n",
    "print(int(year), int(month), int(day))"
   ]
  },
  {
   "cell_type": "code",
   "execution_count": 111,
   "id": "b0cebe99-8316-4669-8d07-c4ef029a977c",
   "metadata": {},
   "outputs": [
    {
     "ename": "TypeError",
     "evalue": "can only concatenate str (not \"int\") to str",
     "output_type": "error",
     "traceback": [
      "\u001b[1;31m---------------------------------------------------------------------------\u001b[0m",
      "\u001b[1;31mTypeError\u001b[0m                                 Traceback (most recent call last)",
      "Cell \u001b[1;32mIn[111], line 1\u001b[0m\n\u001b[1;32m----> 1\u001b[0m \u001b[43mmonth\u001b[49m\u001b[43m \u001b[49m\u001b[38;5;241;43m+\u001b[39;49m\u001b[43m \u001b[49m\u001b[38;5;241;43m1\u001b[39;49m\n",
      "\u001b[1;31mTypeError\u001b[0m: can only concatenate str (not \"int\") to str"
     ]
    }
   ],
   "source": [
    "month + 1"
   ]
  },
  {
   "cell_type": "code",
   "execution_count": 112,
   "id": "df8775d6-0924-4979-ae41-520b0ce97280",
   "metadata": {},
   "outputs": [
    {
     "data": {
      "text/plain": [
       "6"
      ]
     },
     "execution_count": 112,
     "metadata": {},
     "output_type": "execute_result"
    }
   ],
   "source": [
    "int(month) + 1"
   ]
  },
  {
   "cell_type": "code",
   "execution_count": 113,
   "id": "afbcf626-99f8-4b35-8380-7c5c3af2a556",
   "metadata": {},
   "outputs": [
    {
     "name": "stdout",
     "output_type": "stream",
     "text": [
      "['05', '23', '2023']\n"
     ]
    }
   ],
   "source": [
    "date = '05-23-2023'\n",
    "print(date.split('-'))"
   ]
  },
  {
   "cell_type": "code",
   "execution_count": null,
   "id": "663412dc-b0ec-4788-9535-d3ca922b2cfd",
   "metadata": {},
   "outputs": [],
   "source": [
    "date = '05-23-2023'\n",
    "\n",
    "month, day, year = date[:2], date[3:5], date[6:]"
   ]
  },
  {
   "cell_type": "code",
   "execution_count": 116,
   "id": "585b6d38-dd77-4aa7-9855-2bcacff499c3",
   "metadata": {},
   "outputs": [],
   "source": [
    "date = '05-23-2023'"
   ]
  },
  {
   "cell_type": "code",
   "execution_count": 117,
   "id": "a0fc6102-5f4e-4ba3-a3de-d0508d60a830",
   "metadata": {},
   "outputs": [
    {
     "data": {
      "text/plain": [
       "'05'"
      ]
     },
     "execution_count": 117,
     "metadata": {},
     "output_type": "execute_result"
    }
   ],
   "source": [
    "date[:2]"
   ]
  },
  {
   "cell_type": "code",
   "execution_count": 136,
   "id": "46518ae7-9544-4d87-b8f0-d3985f358da3",
   "metadata": {},
   "outputs": [],
   "source": [
    "my_string = 'range=start=3;end=20;step=2' # start=3, end=20, step=2\n",
    "_, data = my_string.split('=', 1)\n",
    "start, end, step = data.split(';')"
   ]
  },
  {
   "cell_type": "code",
   "execution_count": 137,
   "id": "5fe048b3-2418-49d5-a3b7-e5d5ed15e239",
   "metadata": {},
   "outputs": [
    {
     "name": "stdout",
     "output_type": "stream",
     "text": [
      "start=3 end=20 step=2\n"
     ]
    }
   ],
   "source": [
    "print(start, end, step)"
   ]
  },
  {
   "cell_type": "code",
   "execution_count": 141,
   "id": "b88b5c2a-3ea6-43e7-ab42-b27024a6777c",
   "metadata": {},
   "outputs": [
    {
     "data": {
      "text/plain": [
       "3"
      ]
     },
     "execution_count": 141,
     "metadata": {},
     "output_type": "execute_result"
    }
   ],
   "source": [
    "int(start.split('=')[1])\n"
   ]
  },
  {
   "cell_type": "code",
   "execution_count": 128,
   "id": "6e81ecc8-37d2-4561-bfad-aff3e6aec2d1",
   "metadata": {},
   "outputs": [
    {
     "data": {
      "text/plain": [
       "'range'"
      ]
     },
     "execution_count": 128,
     "metadata": {},
     "output_type": "execute_result"
    }
   ],
   "source": [
    "'start=334'"
   ]
  },
  {
   "cell_type": "code",
   "execution_count": 142,
   "id": "c0b44daf-5749-49c7-a82d-8ea006bb8023",
   "metadata": {},
   "outputs": [],
   "source": [
    "my_string = 'range=start=3;end=20;step=2'"
   ]
  },
  {
   "cell_type": "code",
   "execution_count": 143,
   "id": "0529d23e-d017-48af-ad4f-2219b0c1b655",
   "metadata": {},
   "outputs": [
    {
     "data": {
      "text/plain": [
       "'range=start=3;end=20;step=2'"
      ]
     },
     "execution_count": 143,
     "metadata": {},
     "output_type": "execute_result"
    }
   ],
   "source": [
    "my_string"
   ]
  },
  {
   "cell_type": "code",
   "execution_count": 145,
   "id": "d928f34d-bfb5-423d-9538-b72149687699",
   "metadata": {},
   "outputs": [
    {
     "data": {
      "text/plain": [
       "'start=3;end=20;step=2'"
      ]
     },
     "execution_count": 145,
     "metadata": {},
     "output_type": "execute_result"
    }
   ],
   "source": [
    "my_string.split('=', 1)[1]"
   ]
  },
  {
   "cell_type": "code",
   "execution_count": 146,
   "id": "1454fce8-3160-49f9-8387-323a3ecc5dbd",
   "metadata": {},
   "outputs": [
    {
     "name": "stdout",
     "output_type": "stream",
     "text": [
      "3 20 2\n"
     ]
    }
   ],
   "source": [
    "my_string = 'range=start=3;end=20;step=2'\n",
    "range_options = my_string.split('=', 1)[1]\n",
    "start, end, step = range_options.split(';')\n",
    "start = start.split('=')[1] # or [-1]\n",
    "end = end.split('=')[1] # or [-1]\n",
    "step = step.split('=')[1] # or [-1]\n",
    "print(start, end, step)"
   ]
  },
  {
   "cell_type": "code",
   "execution_count": 150,
   "id": "9cf89cff-b3f8-4517-b08c-6736a22fa6be",
   "metadata": {},
   "outputs": [
    {
     "data": {
      "text/plain": [
       "'start=3;end=20;step=2'"
      ]
     },
     "execution_count": 150,
     "metadata": {},
     "output_type": "execute_result"
    }
   ],
   "source": [
    "my_string.split('=', 1)[1]"
   ]
  },
  {
   "cell_type": "code",
   "execution_count": 151,
   "id": "23b91474-a0dc-45e2-8f1c-bbd4e5f629bd",
   "metadata": {},
   "outputs": [
    {
     "data": {
      "text/plain": [
       "['start=3', 'end=20', 'step=2']"
      ]
     },
     "execution_count": 151,
     "metadata": {},
     "output_type": "execute_result"
    }
   ],
   "source": [
    " range_options.split(';')"
   ]
  },
  {
   "cell_type": "code",
   "execution_count": 152,
   "id": "0c897767-47cc-46c7-88ba-7e3f64b7ee2d",
   "metadata": {},
   "outputs": [
    {
     "name": "stdout",
     "output_type": "stream",
     "text": [
      "['First', 'line', 'Second', 'line', 'Third', 'line']\n"
     ]
    }
   ],
   "source": [
    "long_string='First line\\nSecond line\\nThird line'\n",
    "print(long_string.split())\n"
   ]
  },
  {
   "cell_type": "code",
   "execution_count": 153,
   "id": "284c7875-4c2a-43cf-b5c9-3c004f096662",
   "metadata": {},
   "outputs": [
    {
     "name": "stdout",
     "output_type": "stream",
     "text": [
      "['First line', 'Second line', 'Third line']\n"
     ]
    }
   ],
   "source": [
    "print(long_string.split('\\n'))\n"
   ]
  },
  {
   "cell_type": "code",
   "execution_count": 154,
   "id": "c1f8af96-0c33-4672-9973-28571b9681dc",
   "metadata": {},
   "outputs": [
    {
     "name": "stdout",
     "output_type": "stream",
     "text": [
      "['First line', 'Second line', 'Third line']\n"
     ]
    }
   ],
   "source": [
    "print(long_string.splitlines())"
   ]
  },
  {
   "cell_type": "code",
   "execution_count": 155,
   "id": "b19627f5-0f77-4e76-94a6-f2b5ad82f439",
   "metadata": {},
   "outputs": [],
   "source": [
    "my_string = 'EaS503!'\n",
    "\n",
    "def char_type(char):\n",
    "    if 'A' <= char <= 'Z':\n",
    "        return 'Upper Case'\n",
    "    elif 'a' <= char <= 'z':\n",
    "        return 'Lower Case'\n",
    "    elif '0' <= char <= '9':\n",
    "        return 'Digit'\n",
    "    else:\n",
    "        return 'Not Alpha Numeric'"
   ]
  },
  {
   "cell_type": "code",
   "execution_count": 156,
   "id": "961b9c8d-6f97-4bc6-bfe1-a764084d064d",
   "metadata": {},
   "outputs": [
    {
     "data": {
      "text/plain": [
       "'Upper Case'"
      ]
     },
     "execution_count": 156,
     "metadata": {},
     "output_type": "execute_result"
    }
   ],
   "source": [
    "char_type('E')"
   ]
  },
  {
   "cell_type": "code",
   "execution_count": 157,
   "id": "e8c2e1df-8826-421c-b915-9a45aad777c0",
   "metadata": {},
   "outputs": [
    {
     "name": "stdout",
     "output_type": "stream",
     "text": [
      "E\n",
      "A\n",
      "S\n",
      "5\n",
      "0\n",
      "3\n"
     ]
    }
   ],
   "source": [
    "def my_func():\n",
    "    pass\n",
    "\n",
    "if x > 1:\n",
    "    pass\n",
    "else:\n",
    "    print('bla')\n",
    "\n",
    "x = 'EAS503'\n",
    "for ele in x:\n",
    "    print(ele)"
   ]
  },
  {
   "cell_type": "code",
   "execution_count": 158,
   "id": "9fe4450d-fff8-4651-9ea1-6870e7ce6f63",
   "metadata": {},
   "outputs": [
    {
     "name": "stdout",
     "output_type": "stream",
     "text": [
      "A\n",
      "1\n",
      "2\n",
      "False\n",
      "0\n"
     ]
    }
   ],
   "source": [
    "x = ['A', 1, 2, False, 0]\n",
    "for ele in x:\n",
    "    print(ele)"
   ]
  },
  {
   "cell_type": "code",
   "execution_count": 159,
   "id": "ca44dfda-0ba4-4779-b6f3-508566853e18",
   "metadata": {},
   "outputs": [
    {
     "name": "stdout",
     "output_type": "stream",
     "text": [
      "A\n",
      "1\n",
      "2\n",
      "False\n",
      "0\n"
     ]
    }
   ],
   "source": [
    "x = ('A', 1, 2, False, 0)\n",
    "for ele in x:\n",
    "    print(ele)"
   ]
  },
  {
   "cell_type": "code",
   "execution_count": 162,
   "id": "8a794d67-b266-47d8-8abf-4b6d9b6a6c79",
   "metadata": {},
   "outputs": [],
   "source": [
    "# range(start,stop,step) # [start:step:stop\n",
    "x = range(10)"
   ]
  },
  {
   "cell_type": "code",
   "execution_count": 163,
   "id": "4b0b89ea-7821-409f-9480-e18e66f0a4d1",
   "metadata": {},
   "outputs": [
    {
     "data": {
      "text/plain": [
       "range(0, 10)"
      ]
     },
     "execution_count": 163,
     "metadata": {},
     "output_type": "execute_result"
    }
   ],
   "source": [
    "x"
   ]
  },
  {
   "cell_type": "code",
   "execution_count": 164,
   "id": "77512ad9-6d83-4efe-a9ba-b2713b83ca54",
   "metadata": {},
   "outputs": [
    {
     "data": {
      "text/plain": [
       "[0, 1, 2, 3, 4, 5, 6, 7, 8, 9]"
      ]
     },
     "execution_count": 164,
     "metadata": {},
     "output_type": "execute_result"
    }
   ],
   "source": [
    "y = list(x)"
   ]
  },
  {
   "cell_type": "code",
   "execution_count": 166,
   "id": "c3695f24-f6e7-42f2-9e86-58e84115fc6a",
   "metadata": {},
   "outputs": [
    {
     "name": "stdout",
     "output_type": "stream",
     "text": [
      "0\n",
      "1\n",
      "2\n",
      "3\n",
      "4\n",
      "5\n",
      "6\n",
      "7\n",
      "8\n",
      "9\n"
     ]
    }
   ],
   "source": [
    "x = range(10)\n",
    "for ele in x:\n",
    "    print(ele)"
   ]
  },
  {
   "cell_type": "code",
   "execution_count": 167,
   "id": "747571d6-f87d-4470-8fd4-9f48d9d29dfe",
   "metadata": {},
   "outputs": [
    {
     "name": "stdout",
     "output_type": "stream",
     "text": [
      "0\n",
      "1\n",
      "2\n",
      "3\n",
      "4\n",
      "5\n",
      "6\n",
      "7\n",
      "8\n",
      "9\n"
     ]
    }
   ],
   "source": [
    "for ele in x:\n",
    "    print(ele)"
   ]
  },
  {
   "cell_type": "code",
   "execution_count": 169,
   "id": "8a6755c8-aa8f-49da-9ca8-346768b0bafd",
   "metadata": {},
   "outputs": [
    {
     "name": "stdout",
     "output_type": "stream",
     "text": [
      "[0, 1, 2, 3, 4, 5, 6, 7, 8, 9]\n",
      "0\n",
      "1\n",
      "2\n",
      "3\n",
      "4\n",
      "5\n",
      "6\n",
      "7\n",
      "8\n",
      "9\n"
     ]
    }
   ],
   "source": [
    "y = list(x)\n",
    "print(y)\n",
    "for ele in y:\n",
    "    print(ele)"
   ]
  },
  {
   "cell_type": "code",
   "execution_count": 170,
   "id": "cb8d6446-3a1c-43cd-abef-761319853f6a",
   "metadata": {},
   "outputs": [
    {
     "name": "stdout",
     "output_type": "stream",
     "text": [
      "0\n",
      "1\n",
      "2\n",
      "3\n",
      "4\n"
     ]
    }
   ],
   "source": [
    "values = [4, 10, 3, 8, -6]\n",
    "        # 0, 1,  2, 3, 4\n",
    "# for (i=0; i<len(values); i++) {\n",
    "\n",
    "# }\n",
    "for i in range(len(values)):\n",
    "    print(i)"
   ]
  },
  {
   "cell_type": "code",
   "execution_count": 171,
   "id": "cd547a36-5cd9-4db9-aa0e-a982251a95b8",
   "metadata": {},
   "outputs": [
    {
     "name": "stdout",
     "output_type": "stream",
     "text": [
      "0 4\n",
      "1 10\n",
      "2 3\n",
      "3 8\n",
      "4 -6\n"
     ]
    }
   ],
   "source": [
    "for i in range(len(values)):\n",
    "    print(i, values[i])"
   ]
  },
  {
   "cell_type": "code",
   "execution_count": 173,
   "id": "ba77c17b-ee2b-45e1-b502-074313a5fd5a",
   "metadata": {},
   "outputs": [
    {
     "name": "stdout",
     "output_type": "stream",
     "text": [
      "0 4\n",
      "1 10\n",
      "2 3\n",
      "3 8\n",
      "4 -6\n"
     ]
    }
   ],
   "source": [
    "values = [4, 10, 3, 8, -6]\n",
    "for index, value in enumerate(values):\n",
    "    print(index, value)"
   ]
  },
  {
   "cell_type": "code",
   "execution_count": 172,
   "id": "1020f552-2ff7-4c34-ad89-e7f9869435ac",
   "metadata": {},
   "outputs": [
    {
     "data": {
      "text/plain": [
       "[(0, 4), (1, 10), (2, 3), (3, 8), (4, -6)]"
      ]
     },
     "execution_count": 172,
     "metadata": {},
     "output_type": "execute_result"
    }
   ],
   "source": [
    "list(enumerate(values))"
   ]
  },
  {
   "cell_type": "code",
   "execution_count": null,
   "id": "d930f0f8-f4b3-49bb-a023-058e54f3999c",
   "metadata": {},
   "outputs": [],
   "source": [
    "index, value = (0, 4)"
   ]
  },
  {
   "cell_type": "code",
   "execution_count": 174,
   "id": "1d48cadb-85b9-4a92-8ee2-a11b068a95b6",
   "metadata": {},
   "outputs": [
    {
     "name": "stdout",
     "output_type": "stream",
     "text": [
      "1 4\n",
      "2 10\n",
      "3 3\n",
      "4 8\n",
      "5 -6\n"
     ]
    }
   ],
   "source": [
    "values = [4, 10, 3, 8, -6]\n",
    "for index, value in enumerate(values, 1):\n",
    "    print(index, value)"
   ]
  },
  {
   "cell_type": "code",
   "execution_count": 175,
   "id": "bb4d59da-5ac7-4cbf-bc35-67803ead285a",
   "metadata": {},
   "outputs": [
    {
     "name": "stdout",
     "output_type": "stream",
     "text": [
      "100 4\n",
      "101 10\n",
      "102 3\n",
      "103 8\n",
      "104 -6\n"
     ]
    }
   ],
   "source": [
    "values = [4, 10, 3, 8, -6]\n",
    "for index, value in enumerate(values, 100):\n",
    "    print(index, value)"
   ]
  },
  {
   "cell_type": "code",
   "execution_count": 176,
   "id": "7dd17da3-beda-460f-96e0-b9127184e64d",
   "metadata": {},
   "outputs": [
    {
     "data": {
      "text/plain": [
       "[4, 10, 3, 8, -6]"
      ]
     },
     "execution_count": 176,
     "metadata": {},
     "output_type": "execute_result"
    }
   ],
   "source": [
    "values"
   ]
  },
  {
   "cell_type": "code",
   "execution_count": 177,
   "id": "4ea20ab8-ce8b-4866-af20-1245e20d7079",
   "metadata": {},
   "outputs": [
    {
     "name": "stdout",
     "output_type": "stream",
     "text": [
      "4\n",
      "10\n",
      "3\n",
      "8\n",
      "-6\n"
     ]
    }
   ],
   "source": [
    "for ele in values:\n",
    "    print(ele)"
   ]
  },
  {
   "cell_type": "code",
   "execution_count": 179,
   "id": "f2ce935d-db1c-493d-a68f-2cef57688340",
   "metadata": {},
   "outputs": [
    {
     "name": "stdout",
     "output_type": "stream",
     "text": [
      "4\n",
      "10\n",
      "3\n",
      "8\n",
      "-6\n"
     ]
    }
   ],
   "source": [
    "for value in values:\n",
    "    print(value)"
   ]
  },
  {
   "cell_type": "code",
   "execution_count": 180,
   "id": "6aa02f40-295a-4bda-9ebb-9d3259e8d4ff",
   "metadata": {},
   "outputs": [
    {
     "name": "stdout",
     "output_type": "stream",
     "text": [
      "[8, 20, 6, 16, -12]\n"
     ]
    }
   ],
   "source": [
    "values = [4, 10, 3, 8, -6]\n",
    "for i in range(len(values)):\n",
    "    values[i] = values[i] * 2\n",
    "print(values)"
   ]
  },
  {
   "cell_type": "code",
   "execution_count": 181,
   "id": "999f3b2a-13f8-4628-9466-90f2651c13c3",
   "metadata": {},
   "outputs": [
    {
     "name": "stdout",
     "output_type": "stream",
     "text": [
      "Li 6.941\n",
      "Na 22.98976928\n",
      "K 39.0983\n"
     ]
    }
   ],
   "source": [
    "metals = ['Li', 'Na', 'K']\n",
    "weights = [6.941, 22.98976928, 39.0983]\n",
    "for i in range(len(metals)):\n",
    "    print(metals[i], weights[i])"
   ]
  },
  {
   "cell_type": "code",
   "execution_count": 183,
   "id": "97fe1839-38ab-4bd9-9da6-aced262a4807",
   "metadata": {},
   "outputs": [
    {
     "name": "stdout",
     "output_type": "stream",
     "text": [
      "Li 6.941\n",
      "Na 22.98976928\n",
      "K 39.0983\n"
     ]
    }
   ],
   "source": [
    "metals = ['Li', 'Na', 'K']\n",
    "weights = [6.941, 22.98976928, 39.0983]\n",
    "for metal, weight in zip(metals, weights):\n",
    "    print(metal, weight)"
   ]
  },
  {
   "cell_type": "code",
   "execution_count": 182,
   "id": "86ff1e85-29c4-48b8-a6d4-6c39613dfb77",
   "metadata": {},
   "outputs": [
    {
     "data": {
      "text/plain": [
       "[('Li', 6.941), ('Na', 22.98976928), ('K', 39.0983)]"
      ]
     },
     "execution_count": 182,
     "metadata": {},
     "output_type": "execute_result"
    }
   ],
   "source": [
    "list(zip(metals, weights))"
   ]
  },
  {
   "cell_type": "code",
   "execution_count": null,
   "id": "437b3789-30a6-42d3-a060-e4865eb9d509",
   "metadata": {},
   "outputs": [],
   "source": []
  },
  {
   "cell_type": "code",
   "execution_count": null,
   "id": "55b19bb9-d567-4b2e-9cda-68acc0914de2",
   "metadata": {},
   "outputs": [],
   "source": [
    "metals = ['Li', 'Na', 'K', 'C']\n",
    "weights = [6.941, 22.98976928, 39.0983]\n",
    "for metal, weight in zip(metals, weights):\n",
    "    print(metal, weight)"
   ]
  },
  {
   "cell_type": "code",
   "execution_count": 184,
   "id": "0fa8bfcd-8f3b-4a4b-9041-f1786c6089e8",
   "metadata": {},
   "outputs": [],
   "source": [
    "my_list = ['Jan', 'Feb', 'Mar', 'Apr', 'May', 'Jun', 'Jul', 'Aug', 'Sep', 'Oct', 'Nov', 'Dec']\n"
   ]
  },
  {
   "cell_type": "code",
   "execution_count": 186,
   "id": "402aa5d6-3880-4464-9815-249ce9ce7702",
   "metadata": {},
   "outputs": [
    {
     "data": {
      "text/plain": [
       "[(1, 'Jan'),\n",
       " (2, 'Feb'),\n",
       " (3, 'Mar'),\n",
       " (4, 'Apr'),\n",
       " (5, 'May'),\n",
       " (6, 'Jun'),\n",
       " (7, 'Jul'),\n",
       " (8, 'Aug'),\n",
       " (9, 'Sep'),\n",
       " (10, 'Oct'),\n",
       " (11, 'Nov'),\n",
       " (12, 'Dec')]"
      ]
     },
     "execution_count": 186,
     "metadata": {},
     "output_type": "execute_result"
    }
   ],
   "source": [
    "list(enumerate(my_list, 1))"
   ]
  },
  {
   "cell_type": "code",
   "execution_count": 188,
   "id": "f402cbf9-b21c-4928-a2f4-4286a8b85ee2",
   "metadata": {},
   "outputs": [
    {
     "data": {
      "text/plain": [
       "[('Li', 6.941), ('Na', 22.98976928), ('K', 39.0983)]"
      ]
     },
     "execution_count": 188,
     "metadata": {},
     "output_type": "execute_result"
    }
   ],
   "source": [
    "metals = ['Li', 'Na', 'K']\n",
    "weights = [6.941, 22.98976928, 39.0983]\n",
    "list(zip(metals, weights))"
   ]
  },
  {
   "cell_type": "code",
   "execution_count": 189,
   "id": "38af5106-fe40-402d-9b56-b9dbac885756",
   "metadata": {},
   "outputs": [
    {
     "data": {
      "text/plain": [
       "[('Li', 6.941), ('Na', 22.98976928), ('K', 39.0983)]"
      ]
     },
     "execution_count": 189,
     "metadata": {},
     "output_type": "execute_result"
    }
   ],
   "source": [
    "metals = ['Li', 'Na', 'K', 'C']\n",
    "weights = [6.941, 22.98976928, 39.0983]\n",
    "list(zip(metals, weights))"
   ]
  },
  {
   "cell_type": "code",
   "execution_count": 191,
   "id": "c2328311-db76-461f-8907-5a2d8a711ce8",
   "metadata": {},
   "outputs": [
    {
     "data": {
      "text/plain": [
       "[('Li', 6.941, 1), ('Na', 22.98976928, 3), ('K', 39.0983, 4)]"
      ]
     },
     "execution_count": 191,
     "metadata": {},
     "output_type": "execute_result"
    }
   ],
   "source": [
    "metals = ['Li', 'Na', 'K']\n",
    "weights = [6.941, 22.98976928, 39.0983]\n",
    "random = [1, 3, 4]\n",
    "list(zip(metals, weights, random))"
   ]
  },
  {
   "cell_type": "code",
   "execution_count": 192,
   "id": "e75e0a0b-ace1-49ca-868c-5965e3fecb1e",
   "metadata": {},
   "outputs": [
    {
     "name": "stdout",
     "output_type": "stream",
     "text": [
      "Li\n",
      "Na\n",
      "K\n",
      "F\n",
      "Cl\n",
      "Br\n"
     ]
    }
   ],
   "source": [
    "elements = [['Li', 'Na', 'K'], ['F', 'Cl', 'Br']]\n",
    "for inner_list in elements:\n",
    "    for item in inner_list:\n",
    "        print(item)"
   ]
  },
  {
   "cell_type": "code",
   "execution_count": 193,
   "id": "26aa1f48-50f9-4844-a5f9-e86686c94bdc",
   "metadata": {},
   "outputs": [
    {
     "name": "stdout",
     "output_type": "stream",
     "text": [
      "3\n",
      "3\n",
      "4\n"
     ]
    }
   ],
   "source": [
    "info = [\n",
    "    ['Isaac Newton', 1643, 1727],\n",
    "    ['Charles Darwin', 1809, 1882],\n",
    "    ['Alan Turing', 1912, 1954, 'alan@bletchley.uk']\n",
    "]\n",
    "for item in info:\n",
    "    print(len(item))"
   ]
  },
  {
   "cell_type": "code",
   "execution_count": 198,
   "id": "4bb5c5fc-af1a-495b-bb6b-c1c95c0a3437",
   "metadata": {},
   "outputs": [
    {
     "name": "stdout",
     "output_type": "stream",
     "text": [
      "110\n"
     ]
    }
   ],
   "source": [
    "x = [1, 7, 3]\n",
    "\n",
    "total = 0\n",
    "for ele in x:\n",
    "    total += ele * 10\n",
    "print(total)"
   ]
  },
  {
   "cell_type": "code",
   "execution_count": 197,
   "id": "8ac79947-82be-49da-a01c-6fc3fb151995",
   "metadata": {},
   "outputs": [
    {
     "data": {
      "text/plain": [
       "11"
      ]
     },
     "execution_count": 197,
     "metadata": {},
     "output_type": "execute_result"
    }
   ],
   "source": [
    "sum(x)"
   ]
  }
 ],
 "metadata": {
  "kernelspec": {
   "display_name": "Python 3 (ipykernel)",
   "language": "python",
   "name": "python3"
  },
  "language_info": {
   "codemirror_mode": {
    "name": "ipython",
    "version": 3
   },
   "file_extension": ".py",
   "mimetype": "text/x-python",
   "name": "python",
   "nbconvert_exporter": "python",
   "pygments_lexer": "ipython3",
   "version": "3.9.18"
  }
 },
 "nbformat": 4,
 "nbformat_minor": 5
}
