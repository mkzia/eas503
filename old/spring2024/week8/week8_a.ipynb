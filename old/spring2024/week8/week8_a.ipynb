{
 "cells": [
  {
   "cell_type": "code",
   "execution_count": 1,
   "id": "15de638d-c922-4f30-b930-08e3fb3e2d2c",
   "metadata": {},
   "outputs": [
    {
     "ename": "SyntaxError",
     "evalue": "invalid syntax (1165691915.py, line 6)",
     "output_type": "error",
     "traceback": [
      "\u001b[1;36m  Cell \u001b[1;32mIn[1], line 6\u001b[1;36m\u001b[0m\n\u001b[1;33m    scores = [80, 90, 95, 92 85]\u001b[0m\n\u001b[1;37m                             ^\u001b[0m\n\u001b[1;31mSyntaxError\u001b[0m\u001b[1;31m:\u001b[0m invalid syntax\n"
     ]
    }
   ],
   "source": [
    "# function \n",
    "def average(numbers): \n",
    "  return sum(numbers) / len(numbers)\n",
    "\n",
    "# data\n",
    "scores = [80, 90, 95, 92 85]\n",
    "scores = {\n",
    "    'e1':80,\n",
    "    'e2':90,\n",
    "    'e3':95,\n",
    "    'e4':92,\n",
    "}\n",
    "\n",
    "# User has to know which data to pass into function\n",
    "# to get desired output\n",
    "print(f'The average score is {average(scores)}.')\n"
   ]
  },
  {
   "cell_type": "code",
   "execution_count": 4,
   "id": "009eff28-37f3-452e-b91f-dfc9dcbb882b",
   "metadata": {},
   "outputs": [],
   "source": [
    "scores = {\n",
    "    'e1':80,\n",
    "    'e2':90,\n",
    "    'e3':95,\n",
    "    'e4':92,\n",
    "}"
   ]
  },
  {
   "cell_type": "code",
   "execution_count": 6,
   "id": "1f69654f-aadf-4dbc-8d39-df4ec2d254dd",
   "metadata": {},
   "outputs": [],
   "source": [
    "scores = {\n",
    "    1:80,\n",
    "    2:90,\n",
    "    3:95,\n",
    "    4:92,\n",
    "}"
   ]
  },
  {
   "cell_type": "code",
   "execution_count": 7,
   "id": "f559bff0-2061-4155-970d-7182b7c04a46",
   "metadata": {},
   "outputs": [
    {
     "data": {
      "text/plain": [
       "10"
      ]
     },
     "execution_count": 7,
     "metadata": {},
     "output_type": "execute_result"
    }
   ],
   "source": [
    "sum(scores)"
   ]
  },
  {
   "cell_type": "code",
   "execution_count": 20,
   "id": "cc33a183-7fe7-435d-9d33-00090b13ce4a",
   "metadata": {},
   "outputs": [
    {
     "name": "stdout",
     "output_type": "stream",
     "text": [
      "I am in __init__\n",
      "The final score is 88.4.\n"
     ]
    }
   ],
   "source": [
    "class ScoreList:\n",
    "  def __init__(self, scores):\n",
    "    print('I am in __init__')\n",
    "    self.scores = scores\n",
    "    self.length = len(self.scores)\n",
    "\n",
    "  def average(self):\n",
    "    return sum(self.scores) / self.length\n",
    "\n",
    "# Class()\n",
    "scores1 = ScoreList([80, 90, 95, 92, 85]) \n",
    "print(f'The final score is {scores1.average()}.')   "
   ]
  },
  {
   "cell_type": "code",
   "execution_count": null,
   "id": "fcc50dfb-2b55-47ea-9856-7a1210b2c8aa",
   "metadata": {},
   "outputs": [],
   "source": []
  },
  {
   "cell_type": "code",
   "execution_count": 16,
   "id": "ffcf18f9-9308-43ff-b1ae-99f160faa1e2",
   "metadata": {},
   "outputs": [
    {
     "data": {
      "text/plain": [
       "4"
      ]
     },
     "execution_count": 16,
     "metadata": {},
     "output_type": "execute_result"
    }
   ],
   "source": [
    "x = [1, 2, 3, 4]\n",
    "x.__len__()"
   ]
  },
  {
   "cell_type": "code",
   "execution_count": 10,
   "id": "cd2b01bf-b7a0-4137-9c85-5190c44c2350",
   "metadata": {},
   "outputs": [
    {
     "name": "stdout",
     "output_type": "stream",
     "text": [
      "The final score is 8.6.\n"
     ]
    }
   ],
   "source": [
    "scores2 = ScoreList([8, 9, 9, 9, 8]) \n",
    "print(f'The final score is {scores2.average()}.')   "
   ]
  },
  {
   "cell_type": "code",
   "execution_count": 21,
   "id": "ab7e8f7b-e3bb-4a14-a4f5-4e308bb29a4f",
   "metadata": {},
   "outputs": [
    {
     "name": "stdout",
     "output_type": "stream",
     "text": [
      "<__main__.Point object at 0x000001705B76F820>\n",
      "<__main__.Point object at 0x000001705C9472B0>\n"
     ]
    }
   ],
   "source": [
    "class Point:\n",
    "    def __init__(self, x, y):\n",
    "        self.x = x\n",
    "        self.y = y\n",
    "p1 = Point(10, 10)\n",
    "p2 = Point(10, 10)\n",
    "print(p1)\n",
    "print(p2)"
   ]
  },
  {
   "cell_type": "code",
   "execution_count": 22,
   "id": "8df76b35-ffcc-46d3-9de7-165236b129fe",
   "metadata": {},
   "outputs": [
    {
     "name": "stdout",
     "output_type": "stream",
     "text": [
      "False\n"
     ]
    }
   ],
   "source": [
    "print(p1 == p2)"
   ]
  },
  {
   "cell_type": "code",
   "execution_count": 23,
   "id": "13b969df-b643-4c51-85c5-9ed0e2115964",
   "metadata": {},
   "outputs": [
    {
     "name": "stdout",
     "output_type": "stream",
     "text": [
      "False\n"
     ]
    }
   ],
   "source": [
    "print(p1 is p2)"
   ]
  },
  {
   "cell_type": "code",
   "execution_count": 27,
   "id": "ec58f36f-76b2-4ca7-ae69-65ab3203c78a",
   "metadata": {},
   "outputs": [
    {
     "name": "stdout",
     "output_type": "stream",
     "text": [
      "Point(x=10, y=10)\n",
      "Point(x=10, y=10)\n",
      "True\n",
      "True\n"
     ]
    }
   ],
   "source": [
    "from collections import namedtuple\n",
    "Point = namedtuple('Point', 'x y')\n",
    "\n",
    "p1 = Point(10, 10)\n",
    "p2 = Point(10, 10)\n",
    "p2 = p1\n",
    "print(p1)\n",
    "print(p2)\n",
    "print(p1 == p2)\n",
    "print(p1 is p2)"
   ]
  },
  {
   "cell_type": "code",
   "execution_count": 25,
   "id": "f9684f41-144d-42b1-95a3-d1bf8e99e3b7",
   "metadata": {},
   "outputs": [
    {
     "name": "stdout",
     "output_type": "stream",
     "text": [
      "True\n",
      "True\n"
     ]
    }
   ],
   "source": [
    "x = {1: 2, 3:4}\n",
    "y = x\n",
    "print(x == y)\n",
    "print(x is y)"
   ]
  },
  {
   "cell_type": "code",
   "execution_count": 26,
   "id": "4b474a4e-e1d8-4d48-ab0b-837716adc79c",
   "metadata": {},
   "outputs": [
    {
     "name": "stdout",
     "output_type": "stream",
     "text": [
      "True\n",
      "False\n"
     ]
    }
   ],
   "source": [
    "x = {3:4, 1:2}\n",
    "y = {1:2, 3:4}\n",
    "print(x == y)\n",
    "print(x is y)"
   ]
  },
  {
   "cell_type": "code",
   "execution_count": 29,
   "id": "87c314ce-ff7b-46b3-b8f5-da7a642a5664",
   "metadata": {},
   "outputs": [
    {
     "name": "stdout",
     "output_type": "stream",
     "text": [
      "The final score is 88.4.\n",
      "The final score is 89.25.\n"
     ]
    }
   ],
   "source": [
    "class ScoreList:\n",
    "    def __init__(self, scores):\n",
    "        self.scores = scores\n",
    "\n",
    "    def average(self):\n",
    "        return sum(self.scores) / len(self.scores)\n",
    "\n",
    "l1 = [80, 90, 95, 92, 85]\n",
    "scores = ScoreList(l1) \n",
    "print(f'The final score is {scores.average()}.') \n",
    "l1.pop()\n",
    "print(f'The final score is {scores.average()}.')  "
   ]
  },
  {
   "cell_type": "code",
   "execution_count": 30,
   "id": "bdd5ed9e-7454-4b27-8a60-d7ceca414a13",
   "metadata": {},
   "outputs": [
    {
     "name": "stdout",
     "output_type": "stream",
     "text": [
      "The final score is 88.4.\n"
     ]
    },
    {
     "ename": "AttributeError",
     "evalue": "'tuple' object has no attribute 'pop'",
     "output_type": "error",
     "traceback": [
      "\u001b[1;31m---------------------------------------------------------------------------\u001b[0m",
      "\u001b[1;31mAttributeError\u001b[0m                            Traceback (most recent call last)",
      "Cell \u001b[1;32mIn[30], line 11\u001b[0m\n\u001b[0;32m      9\u001b[0m scores \u001b[38;5;241m=\u001b[39m ScoreList(l1) \n\u001b[0;32m     10\u001b[0m \u001b[38;5;28mprint\u001b[39m(\u001b[38;5;124mf\u001b[39m\u001b[38;5;124m'\u001b[39m\u001b[38;5;124mThe final score is \u001b[39m\u001b[38;5;132;01m{\u001b[39;00mscores\u001b[38;5;241m.\u001b[39maverage()\u001b[38;5;132;01m}\u001b[39;00m\u001b[38;5;124m.\u001b[39m\u001b[38;5;124m'\u001b[39m) \n\u001b[1;32m---> 11\u001b[0m \u001b[43ml1\u001b[49m\u001b[38;5;241;43m.\u001b[39;49m\u001b[43mpop\u001b[49m()\n\u001b[0;32m     12\u001b[0m \u001b[38;5;28mprint\u001b[39m(\u001b[38;5;124mf\u001b[39m\u001b[38;5;124m'\u001b[39m\u001b[38;5;124mThe final score is \u001b[39m\u001b[38;5;132;01m{\u001b[39;00mscores\u001b[38;5;241m.\u001b[39maverage()\u001b[38;5;132;01m}\u001b[39;00m\u001b[38;5;124m.\u001b[39m\u001b[38;5;124m'\u001b[39m)\n",
      "\u001b[1;31mAttributeError\u001b[0m: 'tuple' object has no attribute 'pop'"
     ]
    }
   ],
   "source": [
    "class ScoreList:\n",
    "    def __init__(self, scores):\n",
    "        self.scores = scores\n",
    "\n",
    "    def average(self):\n",
    "        return sum(self.scores) / len(self.scores)\n",
    "\n",
    "l1 = (80, 90, 95, 92, 85)\n",
    "scores = ScoreList(l1) \n",
    "print(f'The final score is {scores.average()}.') \n",
    "l1.pop()\n",
    "print(f'The final score is {scores.average()}.')  "
   ]
  },
  {
   "cell_type": "code",
   "execution_count": 31,
   "id": "28b36804-7063-4e62-9d03-24153100dea7",
   "metadata": {},
   "outputs": [
    {
     "name": "stdout",
     "output_type": "stream",
     "text": [
      "The final score is 88.4.\n",
      "The final score is 88.4.\n"
     ]
    }
   ],
   "source": [
    "class ScoreList:\n",
    "    def __init__(self, scores):\n",
    "        self.scores = scores[:] # scores.copy() # list(scores)\n",
    "\n",
    "    def average(self):\n",
    "        return sum(self.scores) / len(self.scores)\n",
    "\n",
    "l1 = [80, 90, 95, 92, 85]\n",
    "scores = ScoreList(l1) \n",
    "print(f'The final score is {scores.average()}.') \n",
    "l1.pop()\n",
    "print(f'The final score is {scores.average()}.')  "
   ]
  },
  {
   "cell_type": "code",
   "execution_count": 34,
   "id": "97078a28-7d9e-4369-be00-0759c1c55d0b",
   "metadata": {},
   "outputs": [
    {
     "data": {
      "text/plain": [
       "<__main__.ScoreList at 0x1705b7d7c40>"
      ]
     },
     "execution_count": 34,
     "metadata": {},
     "output_type": "execute_result"
    }
   ],
   "source": [
    "scores"
   ]
  },
  {
   "cell_type": "code",
   "execution_count": 33,
   "id": "a9aad4ea-21e8-43bc-95c9-91d2c190da94",
   "metadata": {},
   "outputs": [
    {
     "data": {
      "text/plain": [
       "[1, 2, 3]"
      ]
     },
     "execution_count": 33,
     "metadata": {},
     "output_type": "execute_result"
    }
   ],
   "source": [
    "x = [1, 2, 3]\n",
    "x"
   ]
  },
  {
   "cell_type": "code",
   "execution_count": 38,
   "id": "159179e3-d67c-4ef4-8336-f455f3d4c897",
   "metadata": {},
   "outputs": [
    {
     "name": "stdout",
     "output_type": "stream",
     "text": [
      "__str__: 1\n"
     ]
    },
    {
     "data": {
      "text/plain": [
       "__repr__: __str__: 1"
      ]
     },
     "execution_count": 38,
     "metadata": {},
     "output_type": "execute_result"
    }
   ],
   "source": [
    "class a:\n",
    "    def __init__(self, value):\n",
    "        self.value = value\n",
    "    \n",
    "    def __repr__(self):\n",
    "        return f'__repr__: {self.value}'\n",
    "        \n",
    "    def __str__(self):\n",
    "        return f'__str__: {self.value}'\n",
    "a1 = a(1)\n",
    "print(a1)\n",
    "a(a1)"
   ]
  },
  {
   "cell_type": "code",
   "execution_count": 39,
   "id": "2ae070d0-bc58-4c90-a155-58e494f23891",
   "metadata": {},
   "outputs": [
    {
     "data": {
      "text/plain": [
       "'__repr__: 1'"
      ]
     },
     "execution_count": 39,
     "metadata": {},
     "output_type": "execute_result"
    }
   ],
   "source": [
    "a1.__repr__()"
   ]
  },
  {
   "cell_type": "code",
   "execution_count": 40,
   "id": "8fcf4578-a68a-4a13-a9e7-1bac9af98a10",
   "metadata": {},
   "outputs": [
    {
     "data": {
      "text/plain": [
       "__repr__: 1"
      ]
     },
     "execution_count": 40,
     "metadata": {},
     "output_type": "execute_result"
    }
   ],
   "source": [
    "a1"
   ]
  },
  {
   "cell_type": "code",
   "execution_count": 41,
   "id": "3a8e2b8e-91c3-4f6e-9851-c1794fb08442",
   "metadata": {},
   "outputs": [
    {
     "data": {
      "text/plain": [
       "'abc'"
      ]
     },
     "execution_count": 41,
     "metadata": {},
     "output_type": "execute_result"
    }
   ],
   "source": [
    "x = 'abc'\n",
    "x"
   ]
  },
  {
   "cell_type": "code",
   "execution_count": 42,
   "id": "c0e94714-05ed-4cb3-b966-d96abefd9939",
   "metadata": {},
   "outputs": [
    {
     "name": "stdout",
     "output_type": "stream",
     "text": [
      "abc\n"
     ]
    }
   ],
   "source": [
    "print(x)"
   ]
  },
  {
   "cell_type": "code",
   "execution_count": 49,
   "id": "5b003b11-d634-4153-b5f0-081bce4fceae",
   "metadata": {},
   "outputs": [],
   "source": [
    "class ScoreList:\n",
    "    def __init__(self, scores):\n",
    "        self.scores = scores\n",
    "\n",
    "    def average(self):\n",
    "        return sum(self.scores) / len(self.scores)\n",
    "\n",
    "    def __repr__(self):\n",
    "        return f'ScoreList({self.scores})'\n",
    "\n",
    "    def __str__(self):\n",
    "        return f'The average of the list {str(self.scores)} is {self.average()} '"
   ]
  },
  {
   "cell_type": "code",
   "execution_count": 50,
   "id": "2b9ae585-86ae-40d1-a527-a9f2cb6ef7ea",
   "metadata": {},
   "outputs": [
    {
     "name": "stdout",
     "output_type": "stream",
     "text": [
      "The average of the list [80, 90, 95, 92, 85] is 88.4 \n"
     ]
    }
   ],
   "source": [
    "scores1 = ScoreList([80, 90, 95, 92, 85]) \n",
    "print(scores1)"
   ]
  },
  {
   "cell_type": "code",
   "execution_count": 51,
   "id": "ff8e260a-6865-48dc-b0b3-badeeed37290",
   "metadata": {},
   "outputs": [
    {
     "data": {
      "text/plain": [
       "ScoreList([80, 90, 95, 92, 85])"
      ]
     },
     "execution_count": 51,
     "metadata": {},
     "output_type": "execute_result"
    }
   ],
   "source": [
    "scores1"
   ]
  },
  {
   "cell_type": "code",
   "execution_count": 52,
   "id": "b6a330ad-7853-45b7-90e7-74470a530d11",
   "metadata": {},
   "outputs": [
    {
     "data": {
      "text/plain": [
       "Point(x=10, y=10)"
      ]
     },
     "execution_count": 52,
     "metadata": {},
     "output_type": "execute_result"
    }
   ],
   "source": [
    "from collections import namedtuple\n",
    "Point = namedtuple('Point', 'x y')\n",
    "\n",
    "p1 = Point(10, 10)\n",
    "p1"
   ]
  },
  {
   "cell_type": "code",
   "execution_count": 54,
   "id": "4f353764-5ff8-40a6-8371-740f56da4c6f",
   "metadata": {},
   "outputs": [
    {
     "data": {
      "text/plain": [
       "'Point(x=10, y=10)'"
      ]
     },
     "execution_count": 54,
     "metadata": {},
     "output_type": "execute_result"
    }
   ],
   "source": [
    "p1.__str__()"
   ]
  },
  {
   "cell_type": "code",
   "execution_count": 62,
   "id": "2ca3396a-c05f-4efb-aca7-a5d749501d18",
   "metadata": {},
   "outputs": [
    {
     "name": "stdout",
     "output_type": "stream",
     "text": [
      "x: 10; y: 10; z: 13.0\n",
      "x: 10; y: 10; z: 14.5\n",
      "False\n",
      "False\n"
     ]
    }
   ],
   "source": [
    "from typing import NamedTuple\n",
    "\n",
    "class Point(NamedTuple):\n",
    "    x: int\n",
    "    y: int\n",
    "    z: float\n",
    "\n",
    "    def __str__(self):\n",
    "        return f'x: {self.x}; y: {self.y}; z: {self.z}'\n",
    "\n",
    "p1 = Point(10, 10, 13.0)\n",
    "p2 = Point(10, 10, 14.5)\n",
    "print(p1)\n",
    "print(p2)\n",
    "print(p1 == p2)\n",
    "print(p1 is p2)"
   ]
  },
  {
   "cell_type": "code",
   "execution_count": 64,
   "id": "a26d38a3-4b2e-4d6a-9e75-e1c36051e83f",
   "metadata": {},
   "outputs": [
    {
     "data": {
      "text/plain": [
       "10"
      ]
     },
     "execution_count": 64,
     "metadata": {},
     "output_type": "execute_result"
    }
   ],
   "source": [
    "p1.y"
   ]
  },
  {
   "cell_type": "code",
   "execution_count": 65,
   "id": "238107e8-0e30-4187-a9ba-0b342f2588d8",
   "metadata": {},
   "outputs": [
    {
     "ename": "AttributeError",
     "evalue": "can't set attribute",
     "output_type": "error",
     "traceback": [
      "\u001b[1;31m---------------------------------------------------------------------------\u001b[0m",
      "\u001b[1;31mAttributeError\u001b[0m                            Traceback (most recent call last)",
      "Cell \u001b[1;32mIn[65], line 1\u001b[0m\n\u001b[1;32m----> 1\u001b[0m p1\u001b[38;5;241m.\u001b[39mx \u001b[38;5;241m=\u001b[39m \u001b[38;5;241m10\u001b[39m\n",
      "\u001b[1;31mAttributeError\u001b[0m: can't set attribute"
     ]
    }
   ],
   "source": [
    "p1.x = 10"
   ]
  },
  {
   "cell_type": "code",
   "execution_count": 66,
   "id": "a4b844be-1716-47da-b63c-980ac273f832",
   "metadata": {},
   "outputs": [],
   "source": [
    "class Point:\n",
    "    def __init__(self, x, y):\n",
    "        self.x = x\n",
    "        self.y = y\n",
    "    "
   ]
  },
  {
   "cell_type": "code",
   "execution_count": 68,
   "id": "7bbe246c-0a77-4b20-8fb4-3976d128895f",
   "metadata": {},
   "outputs": [
    {
     "name": "stdout",
     "output_type": "stream",
     "text": [
      "1 2\n"
     ]
    }
   ],
   "source": [
    "p1 = Point(1,2)\n",
    "print(p1.x, p1.y)"
   ]
  },
  {
   "cell_type": "code",
   "execution_count": 69,
   "id": "b859f443-792f-489e-9ead-f5c004554d48",
   "metadata": {},
   "outputs": [
    {
     "name": "stdout",
     "output_type": "stream",
     "text": [
      "x: 10; y: 10\n",
      "x: 10; y: 10\n",
      "True\n",
      "False\n"
     ]
    }
   ],
   "source": [
    "from dataclasses import dataclass\n",
    "\n",
    "@dataclass\n",
    "class Point:\n",
    "    x: int\n",
    "    y: int\n",
    "\n",
    "    def __str__(self):\n",
    "        return f'x: {self.x}; y: {self.y}'\n",
    "\n",
    "p1 = Point(10, 10)\n",
    "p2 = Point(10, 10)\n",
    "print(p1)\n",
    "print(p2)\n",
    "print(p1 == p2)\n",
    "print(p1 is p2)"
   ]
  },
  {
   "cell_type": "code",
   "execution_count": 70,
   "id": "bd722a29-057a-4b05-a440-b98b8f36289a",
   "metadata": {},
   "outputs": [],
   "source": [
    "p1.x = 20"
   ]
  },
  {
   "cell_type": "code",
   "execution_count": null,
   "id": "55008a72-724b-4d45-b924-43b872c2c6d3",
   "metadata": {},
   "outputs": [],
   "source": [
    "class InventoryItem:\n",
    "    def __init__(self, name: str, unit_price: float, quantity_on_hand: int = 0):\n",
    "        self.name = name\n",
    "        self.unit_price = unit_price\n",
    "        self.quantity_on_hand = quantity_on_hand"
   ]
  },
  {
   "cell_type": "code",
   "execution_count": 71,
   "id": "bb47102c-d733-41ba-9cf9-d8196526fbfd",
   "metadata": {},
   "outputs": [
    {
     "name": "stdout",
     "output_type": "stream",
     "text": [
      "{'x': 10, 'y': 12}\n",
      "{'x': 10, 'y': 12}\n",
      "{'x': 10, 'y': 12}\n"
     ]
    }
   ],
   "source": [
    "from collections import namedtuple\n",
    "from typing import NamedTuple\n",
    "from dataclasses import dataclass\n",
    "import dataclasses \n",
    "\n",
    "\n",
    "Pointnamedtuple = namedtuple('Point', 'x y')\n",
    "\n",
    "\n",
    "class PointNamedTuple(NamedTuple):\n",
    "    x: int\n",
    "    y: int\n",
    "\n",
    "    def __str__(self):\n",
    "        return f'x: {self.x}; y: {self.y}'\n",
    "\n",
    "@dataclass\n",
    "class Pointdataclass:\n",
    "    x: int\n",
    "    y: int\n",
    "\n",
    "    def __str__(self):\n",
    "        return f'x: {self.x}; y: {self.y}'\n",
    "\n",
    "p1 = Pointnamedtuple(10, 12)\n",
    "p2 = PointNamedTuple(10, 12)\n",
    "p3 = Pointdataclass(10, 12)\n",
    "print(p1._asdict())\n",
    "print(p2._asdict())\n",
    "print(dataclasses.asdict(p3))"
   ]
  },
  {
   "cell_type": "code",
   "execution_count": 79,
   "id": "4074ea19-e1e9-444f-b5d6-bfdcf45e0dfb",
   "metadata": {},
   "outputs": [
    {
     "name": "stdout",
     "output_type": "stream",
     "text": [
      "Point(x=5, y=10)\n"
     ]
    }
   ],
   "source": [
    "p1 = namedtuple('Point', 'x y', defaults=[5, 10])\n",
    "print(p1())"
   ]
  },
  {
   "cell_type": "code",
   "execution_count": 80,
   "id": "6409db17-f23a-401c-a58d-7241828b3698",
   "metadata": {},
   "outputs": [
    {
     "name": "stdout",
     "output_type": "stream",
     "text": [
      "Point(x=1, y=5)\n"
     ]
    }
   ],
   "source": [
    "Point = namedtuple('Point', 'x y', defaults=[5])\n",
    "p1 = Point(1)\n",
    "print(p1)"
   ]
  },
  {
   "cell_type": "code",
   "execution_count": 81,
   "id": "22b9b1e7-720b-418c-82bc-6c486580f347",
   "metadata": {},
   "outputs": [
    {
     "ename": "TypeError",
     "evalue": "unsupported operand type(s) for -: 'Point' and 'Point'",
     "output_type": "error",
     "traceback": [
      "\u001b[1;31m---------------------------------------------------------------------------\u001b[0m",
      "\u001b[1;31mTypeError\u001b[0m                                 Traceback (most recent call last)",
      "Cell \u001b[1;32mIn[81], line 4\u001b[0m\n\u001b[0;32m      2\u001b[0m p1 \u001b[38;5;241m=\u001b[39m Pointnamedtuple(\u001b[38;5;241m1\u001b[39m,\u001b[38;5;241m2\u001b[39m)\n\u001b[0;32m      3\u001b[0m p2 \u001b[38;5;241m=\u001b[39m Pointnamedtuple(\u001b[38;5;241m3\u001b[39m,\u001b[38;5;241m4\u001b[39m)\n\u001b[1;32m----> 4\u001b[0m \u001b[43mp1\u001b[49m\u001b[43m \u001b[49m\u001b[38;5;241;43m-\u001b[39;49m\u001b[43m \u001b[49m\u001b[43mp2\u001b[49m\n",
      "\u001b[1;31mTypeError\u001b[0m: unsupported operand type(s) for -: 'Point' and 'Point'"
     ]
    }
   ],
   "source": [
    "Pointnamedtuple = namedtuple('Point', 'x y')\n",
    "p1 = Pointnamedtuple(1,2)\n",
    "p2 = Pointnamedtuple(3,4)\n",
    "p1 - p2"
   ]
  },
  {
   "cell_type": "code",
   "execution_count": 87,
   "id": "8a1c3e65-646a-4e3d-b678-00bbbca8e4a9",
   "metadata": {},
   "outputs": [],
   "source": [
    "class Person:\n",
    "    def __init__(self, first_name, last_name, email):\n",
    "        self.first_name = first_name\n",
    "        self.last_name = last_name\n",
    "        self.email = email\n",
    "\n",
    "    def __repr__(self):\n",
    "        return f'{self.first_name} {self.last_name}'\n",
    "\n",
    "    def get_full_name(self):\n",
    "        return f'{self.last_name}, {self.first_name}'"
   ]
  },
  {
   "cell_type": "code",
   "execution_count": 88,
   "id": "d50b94b3-c284-4753-9e0b-854ba4e15bdc",
   "metadata": {},
   "outputs": [
    {
     "data": {
      "text/plain": [
       "'jdoe@buffalo.edu'"
      ]
     },
     "execution_count": 88,
     "metadata": {},
     "output_type": "execute_result"
    }
   ],
   "source": [
    "p1 = Person('john', 'doe', 'jdoe@buffalo.edu')\n",
    "p1.email"
   ]
  },
  {
   "cell_type": "code",
   "execution_count": 89,
   "id": "92d879c9-9fb5-4f1e-a0a0-9da384369a8e",
   "metadata": {},
   "outputs": [
    {
     "data": {
      "text/plain": [
       "'doe, john'"
      ]
     },
     "execution_count": 89,
     "metadata": {},
     "output_type": "execute_result"
    }
   ],
   "source": [
    "p1.get_full_name()\n"
   ]
  },
  {
   "cell_type": "code",
   "execution_count": null,
   "id": "77f506c8-ce3a-4c49-b64f-527c00fd64b4",
   "metadata": {},
   "outputs": [],
   "source": [
    "class Student(Person):\n",
    "\n",
    "    def __init__(self, first_name, last_name, email, program):\n",
    "        super().__init__(first_name, last_name, email)\n",
    "        self.program = program"
   ]
  },
  {
   "cell_type": "code",
   "execution_count": 90,
   "id": "eae1848d-4e5a-42c1-9d7e-0827e12c5023",
   "metadata": {},
   "outputs": [
    {
     "name": "stdout",
     "output_type": "stream",
     "text": [
      "john doe\n",
      "abc, abc, efg, hij\n"
     ]
    }
   ],
   "source": [
    "class Student(Person):\n",
    "    PROGRAMS = {'graduate', 'undergraduate'}\n",
    "\n",
    "    def __init__(self, first_name, last_name, email, program):     \n",
    "        if program.lower() not in self.PROGRAMS:\n",
    "            raise ValueError('program can only be \"graduate\" or \"undergraduate\"')\n",
    "        super().__init__(first_name, last_name, email)\n",
    "        self.program = program.lower()\n",
    "        self.classes = []\n",
    "\n",
    "    def enroll(self, name_of_course):\n",
    "        self.classes.append(name_of_course)\n",
    "\n",
    "    def print_classes(self):\n",
    "        classes = ', '.join(self.classes)\n",
    "        print(f'{classes}')\n",
    "\n",
    "\n",
    "s1 = Student('john', 'doe', 'jdoe@example.edu', 'gradUate')\n",
    "print(s1)\n",
    "s1.enroll('abc')\n",
    "s1.enroll('abc')\n",
    "s1.enroll('efg')\n",
    "s1.enroll('hij')\n",
    "s1.print_classes()"
   ]
  },
  {
   "cell_type": "code",
   "execution_count": 91,
   "id": "c62480c1-d7ef-4934-8eae-e6c945be5bff",
   "metadata": {},
   "outputs": [
    {
     "name": "stdout",
     "output_type": "stream",
     "text": [
      "john doe\n",
      "Already enrolled in abc doe, john!\n",
      "abc, efg, hij\n"
     ]
    }
   ],
   "source": [
    "class Student(Person):\n",
    "    PROGRAMS = ['graduate', 'undergraduate']\n",
    "\n",
    "    def __init__(self, first_name, last_name, email, program):\n",
    "        super().__init__(first_name, last_name, email)\n",
    "        if program.lower() not in self.PROGRAMS:\n",
    "            raise ValueError('program can only be \"graduate\" or \"undergraduate\"')\n",
    "        self.program = program\n",
    "        self.classes = []\n",
    "\n",
    "\n",
    "    def enroll(self, name_of_course):\n",
    "        if name_of_course not in self.classes:\n",
    "            self.classes.append(name_of_course)\n",
    "        else:\n",
    "            print(f'Already enrolled in {name_of_course} {self.get_full_name()}!')\n",
    "\n",
    "    def print_classes(self):\n",
    "        classes = ', '.join(self.classes)\n",
    "        print(f'{classes}')\n",
    "\n",
    "    def print_self(self):\n",
    "        print(self)\n",
    "\n",
    "s1 = Student('john', 'doe', 'jdoe@example.edu', 'graduate')\n",
    "print(s1)\n",
    "s1.enroll('abc')\n",
    "s1.enroll('abc')\n",
    "s1.enroll('efg')\n",
    "s1.enroll('hij')\n",
    "s1.print_classes()\n"
   ]
  },
  {
   "cell_type": "code",
   "execution_count": 92,
   "id": "555b4518-b7e2-458c-af75-2c5957106cf4",
   "metadata": {},
   "outputs": [
    {
     "name": "stdout",
     "output_type": "stream",
     "text": [
      "john doe\n",
      "Already enrolled in Chemistry!\n",
      "Chemistry, Math, Physics\n"
     ]
    }
   ],
   "source": [
    "class Course:\n",
    "    def __init__(self, course_name, credits):\n",
    "        self.course_name = course_name\n",
    "        self.credits = credits\n",
    "\n",
    "    def __repr__(self):\n",
    "        return f'{self.course_name}'\n",
    "\n",
    "\n",
    "class Student(Person):\n",
    "    PROGRAMS = ['graduate', 'undergraduate']\n",
    "\n",
    "    def __init__(self, first_name, last_name, email, program):\n",
    "        super().__init__(first_name, last_name, email)\n",
    "        if program.lower() not in self.PROGRAMS:\n",
    "            raise ValueError('program can only be \"graduate\" or \"undergraduate\"')\n",
    "        self.program = program\n",
    "        self.classes = []\n",
    "\n",
    "  # 1 in [1, 2, 3]\n",
    "    # obj in list\n",
    "    def enroll(self, course):\n",
    "        if course not in self.classes:\n",
    "            self.classes.append(course)\n",
    "        else:\n",
    "            print(f'Already enrolled in {course}!')\n",
    "\n",
    "    def print_classes(self):\n",
    "        classes = ', '.join(sorted([i.course_name for i in self.classes]))\n",
    "        print(f'{classes}')\n",
    "\n",
    "c1 = Course('Math', 3)\n",
    "c2 = Course('Physics', 4)\n",
    "c3 = Course('Chemistry', 3)\n",
    "c4 = Course('English', 3)\n",
    "\n",
    "s1 = Student('john', 'doe', 'jdoe@example.edu', 'graduate')\n",
    "print(s1)\n",
    "s1.enroll(c1)\n",
    "s1.enroll(c2)\n",
    "s1.enroll(c3)\n",
    "s1.enroll(c3)\n",
    "s1.print_classes()"
   ]
  },
  {
   "cell_type": "code",
   "execution_count": null,
   "id": "05065c44-e6ea-4690-966a-f782542ad963",
   "metadata": {},
   "outputs": [],
   "source": []
  }
 ],
 "metadata": {
  "kernelspec": {
   "display_name": "Python 3 (ipykernel)",
   "language": "python",
   "name": "python3"
  },
  "language_info": {
   "codemirror_mode": {
    "name": "ipython",
    "version": 3
   },
   "file_extension": ".py",
   "mimetype": "text/x-python",
   "name": "python",
   "nbconvert_exporter": "python",
   "pygments_lexer": "ipython3",
   "version": "3.9.18"
  }
 },
 "nbformat": 4,
 "nbformat_minor": 5
}
