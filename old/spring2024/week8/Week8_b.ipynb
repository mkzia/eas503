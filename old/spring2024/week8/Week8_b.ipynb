{
 "cells": [
  {
   "cell_type": "code",
   "execution_count": 2,
   "id": "abdfd6ff-990f-4380-aa02-17c0a92135a3",
   "metadata": {},
   "outputs": [
    {
     "name": "stdout",
     "output_type": "stream",
     "text": [
      "john doe\n",
      "Already enrolled in Chemistry!\n",
      "Chemistry, Math, Physics\n"
     ]
    }
   ],
   "source": [
    "class Course:\n",
    "    def __init__(self, course_name, credits):\n",
    "        self.course_name = course_name\n",
    "        self.credits = credits\n",
    "\n",
    "    def __repr__(self):\n",
    "        return f'{self.course_name}'\n",
    "\n",
    "    def get_course_name(self):\n",
    "        return self.course_name\n",
    "\n",
    "class Person:\n",
    "    def __init__(self, first_name, last_name, email):\n",
    "        self.first_name = first_name\n",
    "        self.last_name = last_name\n",
    "        self.email = email\n",
    "\n",
    "    def __repr__(self):\n",
    "        return f'{self.first_name} {self.last_name}'\n",
    "\n",
    "    def get_email(self):\n",
    "        return self.email\n",
    "\n",
    "    def get_full_name(self):\n",
    "        return f'{self.last_name}, {self.first_name}'\n",
    "\n",
    "\n",
    "class Student(Person):\n",
    "    PROGRAMS = ['graduate', 'undergraduate']\n",
    "\n",
    "    def __init__(self, first_name, last_name, email, program):\n",
    "        super().__init__(first_name, last_name, email)\n",
    "        if program.lower() not in self.PROGRAMS:\n",
    "            raise ValueError('program can only be \"graduate\" or \"undergraduate\"')\n",
    "        self.program = program\n",
    "        self.classes = []\n",
    "\n",
    "\n",
    "    def enroll(self, course):\n",
    "        if course not in self.classes:\n",
    "            self.classes.append(course)\n",
    "        else:\n",
    "            print(f'Already enrolled in {course}!')\n",
    "\n",
    "    def print_classes(self):\n",
    "        classes = ', '.join(sorted([i.course_name for i in self.classes]))\n",
    "        print(f'{classes}')\n",
    "\n",
    "c1 = Course('Math', 3)\n",
    "c2 = Course('Physics', 4)\n",
    "c3 = Course('Chemistry', 3)\n",
    "c4 = Course('English', 3)\n",
    "\n",
    "s1 = Student('john', 'doe', 'jdoe@example.edu', 'graduate')\n",
    "print(s1)\n",
    "s1.enroll(c1)\n",
    "s1.enroll(c2)\n",
    "s1.enroll(c3)\n",
    "s1.enroll(c3)\n",
    "s1.print_classes()"
   ]
  },
  {
   "cell_type": "code",
   "execution_count": 12,
   "id": "2d3758a7-7271-4818-b8c0-5caab572c768",
   "metadata": {},
   "outputs": [
    {
     "name": "stdout",
     "output_type": "stream",
     "text": [
      "john doe\n",
      "You will be over the max credits! Cannot add Physics.\n",
      "Chemistry, Math\n"
     ]
    }
   ],
   "source": [
    "class Student(Person):\n",
    "    PROGRAMS = ['graduate', 'undergraduate']\n",
    "    MAX_CREDITS = 9\n",
    "\n",
    "    def __init__(self, first_name, last_name, email, program):\n",
    "        super().__init__(first_name, last_name, email)\n",
    "        if program.lower() not in self.PROGRAMS:\n",
    "            raise ValueError('program can only be \"graduate\" or \"undergraduate\"')\n",
    "        self.program = program\n",
    "        self.classes = []\n",
    "        self.enrolled_credits = 0\n",
    "\n",
    "    def enroll(self, course):\n",
    "        # if self.enrolled_credits < self.MAX_CREDITS:\n",
    "        #     if course in self.classes:\n",
    "        #         print('Already enroleld in', course)\n",
    "        #         return      \n",
    "        #     self.classes.append(course)\n",
    "        #     self.enrolled_credits += course.credits\n",
    "        #     print('Enrolled in', course)\n",
    "        # else:\n",
    "        #     print('Cannot enroll in', course, 'because you over credits')\n",
    "            \n",
    "        if self.enrolled_credits + course.credits > self.MAX_CREDITS:\n",
    "            print(f'You will be over the max credits! Cannot add {course}.')\n",
    "            return\n",
    "\n",
    "        if course not in self.classes:\n",
    "            self.classes.append(course)\n",
    "            self.enrolled_credits += course.credits\n",
    "        else:\n",
    "            print(f'Already enrolled in {course}!')\n",
    "\n",
    "    def print_classes(self):\n",
    "        classes = ', '.join(sorted([i.course_name for i in self.classes]))\n",
    "        print(f'{classes}')\n",
    "\n",
    "\n",
    "class Course:\n",
    "    def __init__(self, course_name, credits):\n",
    "        self.course_name = course_name\n",
    "        self.credits = credits\n",
    "\n",
    "    def __repr__(self):\n",
    "        return f'{self.course_name}'\n",
    "\n",
    "    def __str__(self):\n",
    "        return f'{self.course_name}'\n",
    "\n",
    "\n",
    "    def get_course_name(self):\n",
    "        return self.course_name\n",
    "\n",
    "\n",
    "c1 = Course('Math', 3)\n",
    "c2 = Course('Physics', 4)\n",
    "c3 = Course('Chemistry', 3)\n",
    "c4 = Course('English', 3)\n",
    "\n",
    "s1 = Student('john', 'doe', 'jdoe@example.edu', 'graduate')\n",
    "print(s1)\n",
    "s1.enroll(c1)\n",
    "s1.enroll(c3)\n",
    "s1.enroll(c2)\n",
    "# s1.enroll(c2)\n",
    "s1.print_classes()"
   ]
  },
  {
   "cell_type": "code",
   "execution_count": 14,
   "id": "90202281-ea13-49db-ac09-5c915df569fc",
   "metadata": {},
   "outputs": [],
   "source": [
    "class Student(Person):\n",
    "    PROGRAMS = ['undergraduate', 'graduate']\n",
    "    MAX_CREDITS = 12\n",
    "    \n",
    "    def __init__(self, first_name, last_name, email, program):\n",
    "        if program.lower() not in self.PROGRAMS:\n",
    "            raise ValueError(f'Programs can only be {self.PROGRAMS}. You entered: {program}.')\n",
    "        \n",
    "        super().__init__(first_name, last_name, email)\n",
    "        self.program = program.title()\n",
    "        self.courses = []\n",
    "        self.total_credits = 0\n",
    "   \n",
    "    def __repr__(self):\n",
    "        return f'{self.first_name} {self.last_name}; {self.program}'\n",
    "    \n",
    "    def enroll(self, *courses):\n",
    "        for course in courses:\n",
    "            if (self.total_credits + course.credits) > self.MAX_CREDITS:\n",
    "                print('This will put you above 16 Credits')\n",
    "                return       \n",
    "            if course not in self.courses:\n",
    "                self.courses.append(course)\n",
    "                print(self.courses[-1].course_name)\n",
    "                print(self.courses[-1].credits)\n",
    "\n",
    "                self.total_credits += course.credits\n",
    "            else:\n",
    "                print(f'Already enrolled in {class_name} ')\n",
    "        \n",
    "    def print_classes(self):\n",
    "        print(', '.join([ele.course_name for ele in self.courses]))"
   ]
  },
  {
   "cell_type": "code",
   "execution_count": 15,
   "id": "161324d7-b42b-4a9c-97eb-69dbb6a888de",
   "metadata": {},
   "outputs": [
    {
     "name": "stdout",
     "output_type": "stream",
     "text": [
      "john doe; Graduate\n",
      "Math\n",
      "3\n",
      "Chemistry\n",
      "3\n",
      "English\n",
      "3\n",
      "Math, Chemistry, English\n"
     ]
    }
   ],
   "source": [
    "c1 = Course('Math', 3)\n",
    "c2 = Course('Physics', 4)\n",
    "c3 = Course('Chemistry', 3)\n",
    "c4 = Course('English', 3)\n",
    "\n",
    "s1 = Student('john', 'doe', 'jdoe@example.edu', 'graduate')\n",
    "print(s1)\n",
    "s1.enroll(c1, c3, c4)\n",
    "s1.print_classes()"
   ]
  },
  {
   "cell_type": "code",
   "execution_count": 16,
   "id": "9bf64e8d-a1a3-4954-8522-a6676c62f8ec",
   "metadata": {},
   "outputs": [
    {
     "name": "stdout",
     "output_type": "stream",
     "text": [
      "Coke: 60\n",
      "Pepsi: 50\n",
      "7up: 40\n"
     ]
    }
   ],
   "source": [
    "class Beverage:\n",
    "    def __init__(self, name, temp):\n",
    "        self.name = name\n",
    "        self.temp = temp\n",
    "        \n",
    "    def __repr__(self):\n",
    "        return f'{self.name}: {self.temp}'\n",
    "        \n",
    "b1 = Beverage('Coke', 60)\n",
    "b2 = Beverage('Pepsi', 50)\n",
    "b3 = Beverage('7up', 40)\n",
    "\n",
    "beverages = [b1, b2, b3]\n",
    "for beverage in beverages:\n",
    "    print(beverage)"
   ]
  },
  {
   "cell_type": "code",
   "execution_count": 17,
   "id": "5fd9c981-521a-4186-9a0e-8297399793a3",
   "metadata": {},
   "outputs": [
    {
     "name": "stdout",
     "output_type": "stream",
     "text": [
      "Coke: 60\n",
      "Pepsi: 75\n",
      "7up: 40\n"
     ]
    }
   ],
   "source": [
    "class Beverage:\n",
    "    def __init__(self, name, temp=75):\n",
    "        self.name = name\n",
    "        self.temp = temp\n",
    "        \n",
    "    def __repr__(self):\n",
    "        return f'{self.name}: {self.temp}'\n",
    "        \n",
    "b1 = Beverage('Coke', 60)\n",
    "b2 = Beverage('Pepsi')\n",
    "b3 = Beverage('7up', 40)\n",
    "\n",
    "beverages = [b1, b2, b3]\n",
    "for beverage in beverages:\n",
    "    print(beverage)"
   ]
  },
  {
   "cell_type": "code",
   "execution_count": 19,
   "id": "0eee33a9-1f4e-4491-a170-d4af47f23b24",
   "metadata": {},
   "outputs": [
    {
     "name": "stdout",
     "output_type": "stream",
     "text": [
      "Fanta 55\n"
     ]
    }
   ],
   "source": [
    "b1 = Beverage(**{'name':'Fanta', 'temp': 55})\n",
    "print(b1.name, b1.temp)"
   ]
  },
  {
   "cell_type": "code",
   "execution_count": 20,
   "id": "e7f82769-3145-4712-bc4c-dbd8b83dbd08",
   "metadata": {},
   "outputs": [
    {
     "data": {
      "text/plain": [
       "Fanta: 75"
      ]
     },
     "execution_count": 20,
     "metadata": {},
     "output_type": "execute_result"
    }
   ],
   "source": [
    "Beverage(**{'name':'Fanta'})\n"
   ]
  },
  {
   "cell_type": "code",
   "execution_count": 21,
   "id": "8c5e69b7-c964-4875-8047-6b89caaae431",
   "metadata": {},
   "outputs": [],
   "source": [
    "class Logfile:\n",
    "    def __init__(self, filename):\n",
    "        self.filename = filename\n",
    "        self.file = None\n",
    "        \n",
    "    def open_file(self):\n",
    "        self.file = open(self.filename, 'w')\n",
    "        \n",
    "    def write_row(self, row):\n",
    "        self.file.write(f'{row.strip()}\\n')\n",
    "        \n",
    "    def close_file(self):\n",
    "        self.file.close()\n",
    "        \n",
    "\n",
    "        \n",
    "l1 = Logfile('log1.txt')\n",
    "l1.open_file()\n",
    "\n",
    "for row in ['abc', 'efg', 'hij']:\n",
    "    l1.write_row(row)\n",
    "    \n",
    "l1.close_file()\n",
    "\n",
    "l2 = Logfile('log2.txt')\n",
    "l2.open_file()\n",
    "\n",
    "for row in ['ABC', 'EFG', 'DHIJ']:\n",
    "    l2.write_row(row)\n",
    "    \n",
    "l2.close_file()"
   ]
  },
  {
   "cell_type": "code",
   "execution_count": 28,
   "id": "53192401-9633-44e9-9a87-59299d76c64d",
   "metadata": {},
   "outputs": [
    {
     "name": "stdout",
     "output_type": "stream",
     "text": [
      " Samuel Anderson; GPA: 2.62\n",
      " Jacob Cummings; GPA: 3.41\n",
      " Walter Sosa; GPA: 2.62\n",
      " Joel Conway; GPA: 3.23\n",
      " Andrew Burton; GPA: 2.15\n",
      " Judith Harris; GPA: 1.83\n",
      " Abigail Thomas; GPA: 2.61\n",
      " Sarah Edwards; GPA: 3.31\n",
      " Jennifer Pratt; GPA: 2.87\n",
      " Patricia Hess; GPA: 3.1\n",
      " Brandon Butler; GPA: 3.83\n",
      " Tammy Williams; GPA: 3.21\n",
      " Jonathan Williams; GPA: 1.96\n",
      " Amy Perry; GPA: 2.87\n",
      " Evelyn Mendez; GPA: 1.54\n",
      " Elizabeth Jackson; GPA: 2.4\n",
      " Douglas Cameron; GPA: 2.35\n",
      " Heather Wright; GPA: 2.38\n",
      " Mariah Tucker; GPA: 3.11\n",
      " Rachel Jones; GPA: 2.86\n",
      " Tommy Hull; GPA: 3.0\n",
      " Miguel Guerra; GPA: 2.04\n",
      " Sarah Hernandez; GPA: 2.02\n",
      " Ellen Cortez; GPA: 3.43\n",
      " Tracy Lee; GPA: 2.29\n",
      " Troy Griffith; GPA: 2.07\n",
      " Ana Torres; GPA: 3.14\n",
      " Howard Moore; GPA: 2.7\n",
      " Richard Nelson; GPA: 2.78\n",
      " Lisa James; GPA: 2.82\n",
      " Hannah Macias; GPA: 3.76\n",
      " Richard Rodriguez; GPA: 2.85\n",
      " Christopher Ho; GPA: 3.0\n",
      " Raymond Fisher; GPA: 3.25\n",
      " Gregory Jones; GPA: 3.38\n",
      " Ashley Davenport; GPA: 2.0\n",
      " Jamie Peters; GPA: 3.38\n",
      " Lisa Aguilar; GPA: 3.88\n",
      " David Bush; GPA: 1.94\n",
      " Samantha Barr; GPA: 3.5\n",
      " Steven Gordon; GPA: 2.02\n",
      " Matthew Jones; GPA: 2.49\n",
      " Ronald Harris; GPA: 1.55\n",
      " Brandon Crane; GPA: 3.89\n",
      " Michael Fry; GPA: 2.27\n",
      " Monica Mann; GPA: 3.36\n",
      " Richard Matthews; GPA: 1.93\n",
      " Jon Perkins; GPA: 3.5\n",
      " Jasmine Williams; GPA: 1.7\n",
      " Kristy Rowland; GPA: 3.46\n",
      " Tanya Montgomery; GPA: 1.63\n",
      " Steven Mcgee; GPA: 2.0\n",
      " Amber Aguilar; GPA: 1.81\n",
      " Jason Stuart; GPA: 2.0\n",
      " Kyle Humphrey; GPA: 3.81\n",
      " Christina Stewart; GPA: 3.74\n",
      " Thomas Roberts; GPA: 3.64\n",
      " Jason Weber; GPA: 2.39\n",
      " Karen Lee; GPA: 1.95\n",
      " Edward Lopez; GPA: 1.86\n",
      " Kayla Baldwin; GPA: 2.76\n",
      " Madison Dunn; GPA: 3.11\n",
      " Sarah Brown; GPA: 2.53\n",
      " Christina Bowman; GPA: 2.65\n",
      " Jennifer Vazquez; GPA: 1.5\n",
      " Emily Mccarthy; GPA: 2.96\n",
      " Carrie Lewis; GPA: 2.87\n",
      " Mark Jackson; GPA: 3.48\n",
      " Julie Weaver; GPA: 3.16\n",
      " Lauren Torres; GPA: 3.69\n",
      " Mary Moon; GPA: 3.62\n",
      " Michelle Church; GPA: 3.75\n",
      " Laura Haley; GPA: 2.98\n",
      " Ann Rodriguez; GPA: 2.58\n",
      " Colleen Gomez; GPA: 2.22\n",
      " Amy Hunter; GPA: 3.47\n",
      " Anthony Davis; GPA: 3.48\n",
      " Dorothy Graves; GPA: 2.12\n",
      " Phyllis Miller; GPA: 2.61\n",
      " Robert Burnett; GPA: 1.83\n",
      " Sophia Haley; GPA: 2.75\n",
      " Ashley Shaw; GPA: 2.83\n",
      " Andrew Erickson; GPA: 2.07\n",
      " Rebecca Weaver; GPA: 3.66\n",
      " Danielle Young; GPA: 1.71\n",
      " Carol Howell; GPA: 2.63\n",
      " Jasmin Stephens; GPA: 2.63\n",
      " Justin Guerrero; GPA: 3.28\n",
      " Ashley Aguilar; GPA: 1.61\n",
      " Kelly Holmes; GPA: 2.13\n",
      " Erica Fleming; GPA: 1.52\n",
      " Raymond Christian; GPA: 1.67\n",
      " Brian Franklin; GPA: 3.0\n",
      " Ashley James; GPA: 2.62\n",
      " Christine Johnson; GPA: 3.65\n",
      " Brian Holland; GPA: 2.44\n",
      " Rebecca Harrison; GPA: 3.64\n",
      " Meagan Harrell; GPA: 3.54\n",
      " Johnny Mitchell; GPA: 1.65\n",
      " Kevin Cooper; GPA: 2.35\n"
     ]
    }
   ],
   "source": [
    "class Person:\n",
    "    def __init__(self, first_name, last_name):\n",
    "        self.first_name = first_name\n",
    "        self.last_name = last_name\n",
    "\n",
    "\n",
    "\n",
    "class Student(Person):\n",
    "    def __init__(self, first_name, last_name, credit_hours, q_point):\n",
    "        super().__init__(first_name, last_name)\n",
    "        self.credit_hours = credit_hours\n",
    "        self.q_point = q_point\n",
    "        self.gpa = round(self.q_point / self.credit_hours, 2)\n",
    "\n",
    "    def __repr__(self):\n",
    "        return f'{self.first_name} {self.last_name}; GPA: {self.gpa}'\n",
    "        \n",
    "\n",
    "    def get_gpa(self):b\n",
    "        return round(self.q_point / self.credit_hours, 2)\n",
    "    \n",
    "    \n",
    "filename = 'data.tsv'\n",
    "\n",
    "students = []\n",
    "\n",
    "with open(filename) as file:\n",
    "    for line in file:\n",
    "        if not line.strip():\n",
    "            continue\n",
    "        \n",
    "        name, credits, q_points = line.strip().split('\\t')\n",
    "        last_name, first_name = name.split(',')\n",
    "        \n",
    "        student = Student(first_name, last_name, int(credits), int(q_points))\n",
    "        students.append(student)\n",
    "\n",
    "for ele in students:\n",
    "    print(ele)"
   ]
  },
  {
   "cell_type": "code",
   "execution_count": 29,
   "id": "e38bfc18-b7a9-41cd-a464-e5c8c1b02c49",
   "metadata": {},
   "outputs": [
    {
     "data": {
      "text/plain": [
       "[ Jennifer Vazquez; GPA: 1.5,\n",
       "  Erica Fleming; GPA: 1.52,\n",
       "  Evelyn Mendez; GPA: 1.54,\n",
       "  Ronald Harris; GPA: 1.55,\n",
       "  Ashley Aguilar; GPA: 1.61,\n",
       "  Tanya Montgomery; GPA: 1.63,\n",
       "  Johnny Mitchell; GPA: 1.65,\n",
       "  Raymond Christian; GPA: 1.67,\n",
       "  Jasmine Williams; GPA: 1.7,\n",
       "  Danielle Young; GPA: 1.71,\n",
       "  Amber Aguilar; GPA: 1.81,\n",
       "  Judith Harris; GPA: 1.83,\n",
       "  Robert Burnett; GPA: 1.83,\n",
       "  Edward Lopez; GPA: 1.86,\n",
       "  Richard Matthews; GPA: 1.93,\n",
       "  David Bush; GPA: 1.94,\n",
       "  Karen Lee; GPA: 1.95,\n",
       "  Jonathan Williams; GPA: 1.96,\n",
       "  Ashley Davenport; GPA: 2.0,\n",
       "  Steven Mcgee; GPA: 2.0,\n",
       "  Jason Stuart; GPA: 2.0,\n",
       "  Sarah Hernandez; GPA: 2.02,\n",
       "  Steven Gordon; GPA: 2.02,\n",
       "  Miguel Guerra; GPA: 2.04,\n",
       "  Troy Griffith; GPA: 2.07,\n",
       "  Andrew Erickson; GPA: 2.07,\n",
       "  Dorothy Graves; GPA: 2.12,\n",
       "  Kelly Holmes; GPA: 2.13,\n",
       "  Andrew Burton; GPA: 2.15,\n",
       "  Colleen Gomez; GPA: 2.22,\n",
       "  Michael Fry; GPA: 2.27,\n",
       "  Tracy Lee; GPA: 2.29,\n",
       "  Douglas Cameron; GPA: 2.35,\n",
       "  Kevin Cooper; GPA: 2.35,\n",
       "  Heather Wright; GPA: 2.38,\n",
       "  Jason Weber; GPA: 2.39,\n",
       "  Elizabeth Jackson; GPA: 2.4,\n",
       "  Brian Holland; GPA: 2.44,\n",
       "  Matthew Jones; GPA: 2.49,\n",
       "  Sarah Brown; GPA: 2.53,\n",
       "  Ann Rodriguez; GPA: 2.58,\n",
       "  Abigail Thomas; GPA: 2.61,\n",
       "  Phyllis Miller; GPA: 2.61,\n",
       "  Samuel Anderson; GPA: 2.62,\n",
       "  Walter Sosa; GPA: 2.62,\n",
       "  Ashley James; GPA: 2.62,\n",
       "  Carol Howell; GPA: 2.63,\n",
       "  Jasmin Stephens; GPA: 2.63,\n",
       "  Christina Bowman; GPA: 2.65,\n",
       "  Howard Moore; GPA: 2.7,\n",
       "  Sophia Haley; GPA: 2.75,\n",
       "  Kayla Baldwin; GPA: 2.76,\n",
       "  Richard Nelson; GPA: 2.78,\n",
       "  Lisa James; GPA: 2.82,\n",
       "  Ashley Shaw; GPA: 2.83,\n",
       "  Richard Rodriguez; GPA: 2.85,\n",
       "  Rachel Jones; GPA: 2.86,\n",
       "  Jennifer Pratt; GPA: 2.87,\n",
       "  Amy Perry; GPA: 2.87,\n",
       "  Carrie Lewis; GPA: 2.87,\n",
       "  Emily Mccarthy; GPA: 2.96,\n",
       "  Laura Haley; GPA: 2.98,\n",
       "  Tommy Hull; GPA: 3.0,\n",
       "  Christopher Ho; GPA: 3.0,\n",
       "  Brian Franklin; GPA: 3.0,\n",
       "  Patricia Hess; GPA: 3.1,\n",
       "  Mariah Tucker; GPA: 3.11,\n",
       "  Madison Dunn; GPA: 3.11,\n",
       "  Ana Torres; GPA: 3.14,\n",
       "  Julie Weaver; GPA: 3.16,\n",
       "  Tammy Williams; GPA: 3.21,\n",
       "  Joel Conway; GPA: 3.23,\n",
       "  Raymond Fisher; GPA: 3.25,\n",
       "  Justin Guerrero; GPA: 3.28,\n",
       "  Sarah Edwards; GPA: 3.31,\n",
       "  Monica Mann; GPA: 3.36,\n",
       "  Gregory Jones; GPA: 3.38,\n",
       "  Jamie Peters; GPA: 3.38,\n",
       "  Jacob Cummings; GPA: 3.41,\n",
       "  Ellen Cortez; GPA: 3.43,\n",
       "  Kristy Rowland; GPA: 3.46,\n",
       "  Amy Hunter; GPA: 3.47,\n",
       "  Mark Jackson; GPA: 3.48,\n",
       "  Anthony Davis; GPA: 3.48,\n",
       "  Samantha Barr; GPA: 3.5,\n",
       "  Jon Perkins; GPA: 3.5,\n",
       "  Meagan Harrell; GPA: 3.54,\n",
       "  Mary Moon; GPA: 3.62,\n",
       "  Thomas Roberts; GPA: 3.64,\n",
       "  Rebecca Harrison; GPA: 3.64,\n",
       "  Christine Johnson; GPA: 3.65,\n",
       "  Rebecca Weaver; GPA: 3.66,\n",
       "  Lauren Torres; GPA: 3.69,\n",
       "  Christina Stewart; GPA: 3.74,\n",
       "  Michelle Church; GPA: 3.75,\n",
       "  Hannah Macias; GPA: 3.76,\n",
       "  Kyle Humphrey; GPA: 3.81,\n",
       "  Brandon Butler; GPA: 3.83,\n",
       "  Lisa Aguilar; GPA: 3.88,\n",
       "  Brandon Crane; GPA: 3.89]"
      ]
     },
     "execution_count": 29,
     "metadata": {},
     "output_type": "execute_result"
    }
   ],
   "source": [
    "sorted(students, key=lambda student: student.gpa)"
   ]
  },
  {
   "cell_type": "code",
   "execution_count": null,
   "id": "b30f612d-fb66-4d7b-bc73-52868d50d0eb",
   "metadata": {},
   "outputs": [],
   "source": [
    "classifier.fit()\n",
    "classifier.predict()"
   ]
  },
  {
   "cell_type": "code",
   "execution_count": 38,
   "id": "7922dd39-a157-409f-a575-3aa6ca745abb",
   "metadata": {},
   "outputs": [],
   "source": [
    "from abc import ABC, abstractmethod\n",
    "\n",
    "class Employee(ABC):\n",
    "\n",
    "    def __init__(self, first_name, last_name, ssn):\n",
    "        self.first_name = first_name\n",
    "        self.last_name = last_name\n",
    "        self.ssn = ssn\n",
    "\n",
    "    @abstractmethod\n",
    "    def earnings(self):\n",
    "        pass\n",
    "\n",
    "    def __repr__(self):\n",
    "        return f'{self.first_name} {self.last_name}\\nsocial security: {self.ssn}'"
   ]
  },
  {
   "cell_type": "code",
   "execution_count": 39,
   "id": "39feba6d-2668-4d14-9f53-b2a114e50a43",
   "metadata": {},
   "outputs": [
    {
     "ename": "TypeError",
     "evalue": "Can't instantiate abstract class Employee with abstract method earnings",
     "output_type": "error",
     "traceback": [
      "\u001b[1;31m---------------------------------------------------------------------------\u001b[0m",
      "\u001b[1;31mTypeError\u001b[0m                                 Traceback (most recent call last)",
      "Cell \u001b[1;32mIn[39], line 1\u001b[0m\n\u001b[1;32m----> 1\u001b[0m e1 \u001b[38;5;241m=\u001b[39m \u001b[43mEmployee\u001b[49m\u001b[43m(\u001b[49m\u001b[38;5;124;43m'\u001b[39;49m\u001b[38;5;124;43mjohn\u001b[39;49m\u001b[38;5;124;43m'\u001b[39;49m\u001b[43m,\u001b[49m\u001b[43m \u001b[49m\u001b[38;5;124;43m'\u001b[39;49m\u001b[38;5;124;43mdoe\u001b[39;49m\u001b[38;5;124;43m'\u001b[39;49m\u001b[43m,\u001b[49m\u001b[43m \u001b[49m\u001b[38;5;124;43m'\u001b[39;49m\u001b[38;5;124;43m111-22-3333\u001b[39;49m\u001b[38;5;124;43m'\u001b[39;49m\u001b[43m)\u001b[49m\n",
      "\u001b[1;31mTypeError\u001b[0m: Can't instantiate abstract class Employee with abstract method earnings"
     ]
    }
   ],
   "source": [
    "e1 = Employee('john', 'doe', '111-22-3333')"
   ]
  },
  {
   "cell_type": "code",
   "execution_count": 42,
   "id": "fdfaf0d1-f928-4b60-8651-ffff53bd1a12",
   "metadata": {},
   "outputs": [],
   "source": [
    "class SalariedEmployee(Employee):\n",
    "    def __init__(self, first_name, last_name, ssn, salary):\n",
    "        super().__init__(first_name, last_name, ssn)\n",
    "        self.weekly_salary = salary\n",
    "\n",
    "    def earnings(self):\n",
    "        return self.weekly_salary\n",
    "\n",
    "    def __repr__(self):\n",
    "        return f'salaried employee: {super().__repr__()}\\nweekly salary: ${self.weekly_salary}'\n"
   ]
  },
  {
   "cell_type": "code",
   "execution_count": 44,
   "id": "7f481759-5349-4456-9301-b434205f5a04",
   "metadata": {},
   "outputs": [
    {
     "data": {
      "text/plain": [
       "salaried employee: john doe\n",
       "social security: 111-22-3333\n",
       "weekly salary: $2000"
      ]
     },
     "execution_count": 44,
     "metadata": {},
     "output_type": "execute_result"
    }
   ],
   "source": [
    "se1 = SalariedEmployee('john', 'doe', '111-22-3333', 2000)\n",
    "se1"
   ]
  },
  {
   "cell_type": "code",
   "execution_count": 46,
   "id": "28f290f3-a753-4b99-996e-833843ecc5aa",
   "metadata": {},
   "outputs": [
    {
     "name": "stdout",
     "output_type": "stream",
     "text": [
      "Employees processed individually:\n",
      "\n",
      "salaried employee: John Smith\n",
      "social security: 111-11-1111\n",
      "weekly salary: $800\n",
      "earned: $800\n",
      "\n",
      "hourly employee: Karen Price\n",
      "social security: 222-22-2222\n",
      "hourly wage: $16.75; hours worked: 40\n",
      "earned: $670.0\n",
      "\n",
      "commission employee: Sue Jones\n",
      "social security: 333-33-3333\n",
      "gross sales: $10000; commission rate: 0.06\n",
      "earned: $600.0\n",
      "\n",
      "base-salaried commission employee: Bob Lewis\n",
      "social security: 444-44-4444\n",
      "gross sales: $5000; commission rate: 0.04; base-salary: $300\n",
      "earned: $500.0\n"
     ]
    }
   ],
   "source": [
    "# Java How to Program Deitel et. al\n",
    "\n",
    "from abc import ABC, abstractmethod\n",
    "\n",
    "\n",
    "class Employee(ABC):\n",
    "\n",
    "    def __init__(self, first_name, last_name, ssn):\n",
    "        self.first_name = first_name\n",
    "        self.last_name = last_name\n",
    "        self.ssn = ssn\n",
    "\n",
    "    @abstractmethod\n",
    "    def earnings(self):\n",
    "        pass\n",
    "\n",
    "    def __repr__(self):\n",
    "        return f'{self.first_name} {self.last_name}\\nsocial security: {self.ssn}'\n",
    "\n",
    "\n",
    "class SalariedEmployee(Employee):\n",
    "    def __init__(self, first_name, last_name, ssn, salary):\n",
    "        super().__init__(first_name, last_name, ssn)\n",
    "        self.weekly_salary = salary\n",
    "\n",
    "    def earnings(self):\n",
    "        return self.weekly_salary\n",
    "\n",
    "    def __repr__(self):\n",
    "        return f'salaried employee: {super().__repr__()}\\nweekly salary: ${self.weekly_salary}'\n",
    "\n",
    "\n",
    "class HourlyEmployee(Employee):\n",
    "    def __init__(self, first_name, last_name, ssn, hourly_wage, hours_worked):\n",
    "        super().__init__(first_name, last_name, ssn)\n",
    "        self.hourly_wage = hourly_wage\n",
    "        self.hours_worked = hours_worked\n",
    "\n",
    "    def earnings(self):\n",
    "        if self.hours_worked < 40:  # no overtime\n",
    "            earned = self.hourly_wage * self.hours_worked\n",
    "        else:\n",
    "            earned = 40 * self.hourly_wage + \\\n",
    "                (self.hours_worked - 40) * self.hourly_wage * 1.5\n",
    "\n",
    "        return earned\n",
    "\n",
    "    def __repr__(self):\n",
    "        return f'hourly employee: {super().__repr__()}\\nhourly wage: ${self.hourly_wage}; hours worked: {self.hours_worked}'\n",
    "\n",
    "\n",
    "class CommissionEmployee(Employee):\n",
    "    def __init__(self, first_name, last_name, ssn, sales, rate):\n",
    "        super().__init__(first_name, last_name, ssn)\n",
    "        self.sales = sales\n",
    "        self.rate = rate\n",
    "\n",
    "    def earnings(self):\n",
    "        earned = self.sales * self.rate\n",
    "        return earned\n",
    "\n",
    "    def __repr__(self):\n",
    "        return f'commission employee: {super().__repr__()}\\ngross sales: ${self.sales}; commission rate: {self.rate}'\n",
    "\n",
    "\n",
    "class BasePlusCommissionEmployee(CommissionEmployee):\n",
    "    def __init__(self, first_name, last_name, ssn, sales, rate, salary):\n",
    "        super().__init__(first_name, last_name, ssn, sales, rate)\n",
    "        self.salary = salary\n",
    "\n",
    "    def earnings(self):\n",
    "        earned = self.salary + super().earnings()\n",
    "        return earned\n",
    "\n",
    "    def __repr__(self):\n",
    "        return f'base-salaried {super().__repr__()}; base-salary: ${self.salary}'\n",
    "\n",
    "\n",
    "print('Employees processed individually:\\n')\n",
    "salaried_employee = SalariedEmployee('John', 'Smith', '111-11-1111', 800)\n",
    "print(salaried_employee)\n",
    "print(f'earned: ${salaried_employee.earnings()}')\n",
    "\n",
    "print()\n",
    "hourly_employee = HourlyEmployee('Karen', 'Price', '222-22-2222', 16.75, 40)\n",
    "print(hourly_employee)\n",
    "print(f'earned: ${hourly_employee.earnings()}')\n",
    "\n",
    "print()\n",
    "commission_employee = CommissionEmployee('Sue', 'Jones', '333-33-3333', 10000, 0.06)\n",
    "print(commission_employee)\n",
    "print(f'earned: ${commission_employee.earnings()}')\n",
    "\n",
    "\n",
    "print()\n",
    "base_plus_commission_employee = BasePlusCommissionEmployee('Bob', 'Lewis', '444-44-4444', 5000, 0.04, 300)\n",
    "print(base_plus_commission_employee)\n",
    "print(f'earned: ${base_plus_commission_employee.earnings()}')\n",
    "\n",
    "\n",
    "\n"
   ]
  },
  {
   "cell_type": "code",
   "execution_count": 49,
   "id": "32d2173d-5f2a-458a-bedb-c1668a9d145c",
   "metadata": {},
   "outputs": [
    {
     "name": "stdout",
     "output_type": "stream",
     "text": [
      "\n",
      "earned: $800\n",
      "\n",
      "earned: $670.0\n",
      "\n",
      "earned: $600.0\n",
      "\n",
      "earned: $500.0\n"
     ]
    }
   ],
   "source": [
    "employees = [salaried_employee, hourly_employee,\n",
    "             commission_employee, base_plus_commission_employee]\n",
    "\n",
    "for employee in employees:\n",
    "    print()\n",
    "\n",
    "    print(f'earned: ${employee.earnings()}')"
   ]
  },
  {
   "cell_type": "code",
   "execution_count": 50,
   "id": "39c86814-7f34-4afe-b282-ec5898dae234",
   "metadata": {},
   "outputs": [
    {
     "name": "stdout",
     "output_type": "stream",
     "text": [
      "\n",
      "salaried employee: John Smith\n",
      "social security: 111-11-1111\n",
      "weekly salary: $800\n",
      "earned: $800\n",
      "\n",
      "hourly employee: Karen Price\n",
      "social security: 222-22-2222\n",
      "hourly wage: $16.75; hours worked: 40\n",
      "earned: $670.0\n",
      "\n",
      "commission employee: Sue Jones\n",
      "social security: 333-33-3333\n",
      "gross sales: $10000; commission rate: 0.06\n",
      "earned: $600.0\n",
      "\n",
      "base-salaried commission employee: Bob Lewis\n",
      "social security: 444-44-4444\n",
      "gross sales: $5000; commission rate: 0.04; base-salary: $300\n",
      "new base salary with 10% increase is 330.0\n",
      "earned: $530.0\n"
     ]
    }
   ],
   "source": [
    "for employee in employees:\n",
    "    print()\n",
    "    print(employee)\n",
    "    if employee.__class__.__name__ == 'BasePlusCommissionEmployee':\n",
    "        employee.salary = 1.10 * employee.salary\n",
    "        print(f'new base salary with 10% increase is {employee.salary}')\n",
    "    print(f'earned: ${employee.earnings()}')\n"
   ]
  },
  {
   "cell_type": "code",
   "execution_count": 52,
   "id": "202bd954-c1a3-40e5-9fa7-4f4fc707f523",
   "metadata": {},
   "outputs": [],
   "source": [
    "class Point:\n",
    "    def __init__(self, x, y):\n",
    "        self.x = x\n",
    "        self.y = y\n",
    "\n",
    "p1 = Point(1, 2)\n",
    "p2 = Point(3, 4)"
   ]
  },
  {
   "cell_type": "code",
   "execution_count": 53,
   "id": "cf62f04c-3357-43c7-b4b2-af52a8ae1d2e",
   "metadata": {},
   "outputs": [
    {
     "ename": "TypeError",
     "evalue": "unsupported operand type(s) for +: 'Point' and 'Point'",
     "output_type": "error",
     "traceback": [
      "\u001b[1;31m---------------------------------------------------------------------------\u001b[0m",
      "\u001b[1;31mTypeError\u001b[0m                                 Traceback (most recent call last)",
      "Cell \u001b[1;32mIn[53], line 1\u001b[0m\n\u001b[1;32m----> 1\u001b[0m \u001b[43mp1\u001b[49m\u001b[43m \u001b[49m\u001b[38;5;241;43m+\u001b[39;49m\u001b[43m \u001b[49m\u001b[43mp2\u001b[49m\n",
      "\u001b[1;31mTypeError\u001b[0m: unsupported operand type(s) for +: 'Point' and 'Point'"
     ]
    }
   ],
   "source": [
    "p1 + p2\n"
   ]
  },
  {
   "cell_type": "code",
   "execution_count": 60,
   "id": "d010d11f-be6c-4c5b-97b5-7ffbaa4b7ce7",
   "metadata": {},
   "outputs": [
    {
     "name": "stdout",
     "output_type": "stream",
     "text": [
      "Circle with radius 10\n",
      "Circle with radius 5\n",
      "78.53981633974483\n"
     ]
    }
   ],
   "source": [
    "import math\n",
    "class Circle:\n",
    "\n",
    "    def __init__(self, radius):\n",
    "        self.radius = radius\n",
    "\n",
    "    def get_area(self):\n",
    "        return math.pi * self.radius**2\n",
    "\n",
    "    def __add__(self, another_circle): # c1 + c2 # c1.__add__(c2)\n",
    "        return Circle(self.radius + another_circle.radius)\n",
    "\n",
    "    def __sub__(self, another_circle): # c1 + c2 # c1.__add__(c2)\n",
    "        return Circle(self.radius - another_circle.radius)\n",
    "\n",
    "\n",
    "    def __repr__(self):\n",
    "        return \"Circle with radius \" + str(self.radius)\n",
    "\n",
    "\n",
    "c1 = Circle(10)\n",
    "c2 = Circle(5)\n",
    "\n",
    "print(c1)\n",
    "print(c2)\n",
    "print(c2.get_area())"
   ]
  },
  {
   "cell_type": "code",
   "execution_count": 61,
   "id": "b87b638a-f212-495a-9e56-5601a71eaf74",
   "metadata": {},
   "outputs": [
    {
     "data": {
      "text/plain": [
       "Circle with radius 15"
      ]
     },
     "execution_count": 61,
     "metadata": {},
     "output_type": "execute_result"
    }
   ],
   "source": [
    "c1 + c2"
   ]
  },
  {
   "cell_type": "code",
   "execution_count": 62,
   "id": "1e7c6d99-66a3-49d0-aa17-39a7748f0e3a",
   "metadata": {},
   "outputs": [
    {
     "data": {
      "text/plain": [
       "Circle with radius 5"
      ]
     },
     "execution_count": 62,
     "metadata": {},
     "output_type": "execute_result"
    }
   ],
   "source": [
    "c1 - c2"
   ]
  },
  {
   "cell_type": "code",
   "execution_count": 68,
   "id": "968e76e6-e6f9-4d51-b2df-836f9e27c4ce",
   "metadata": {},
   "outputs": [
    {
     "name": "stdout",
     "output_type": "stream",
     "text": [
      "True\n"
     ]
    }
   ],
   "source": [
    "class Circle:\n",
    "\n",
    "    def __init__(self, radius):\n",
    "        self.radius = radius\n",
    "\n",
    "    def get_area(self):\n",
    "        return math.pi * self.radius**2\n",
    "\n",
    "    def __str__(self):\n",
    "        return \"Circle with radius \" + str(self.radius)\n",
    "\n",
    "    def __add__(self, another_circle):\n",
    "        return Circle(self.radius + another_circle.radius)\n",
    "\n",
    "    def __gt__(self, another_circle):\n",
    "        return self.radius > another_circle.radius\n",
    "\n",
    "    def __ge__(self, another_circle):\n",
    "        return self.radius >= another_circle.radius\n",
    "\n",
    "    def __lt__(self, another_circle):\n",
    "        return self.radius < another_circle.radius\n",
    "\n",
    "\n",
    "\n",
    "c1 = Circle(10)\n",
    "c2 = Circle(5)\n",
    "print(c1 > c2)"
   ]
  },
  {
   "cell_type": "code",
   "execution_count": 69,
   "id": "4050be31-2102-4200-9833-b8b8014bd35c",
   "metadata": {},
   "outputs": [
    {
     "name": "stdout",
     "output_type": "stream",
     "text": [
      "True\n"
     ]
    }
   ],
   "source": [
    "print(c1 >= c2)"
   ]
  },
  {
   "cell_type": "code",
   "execution_count": 71,
   "id": "8a715a67-ddce-4520-bd5b-031e3d359419",
   "metadata": {},
   "outputs": [
    {
     "name": "stdout",
     "output_type": "stream",
     "text": [
      "5.385164807134504\n"
     ]
    }
   ],
   "source": [
    "import math\n",
    "class Point:\n",
    "    def __init__(self, x=0, y=0):\n",
    "        self.x = x\n",
    "        self.y = y\n",
    "\n",
    "    def __add__(self, another_point):\n",
    "        return Point(self.x + another_point.x, self.y + another_point.y)\n",
    "\n",
    "    def __sub__(self, another_point):\n",
    "        return Point(self.x - another_point.x, self.y - another_point.y)\n",
    "\n",
    "    def length(self):\n",
    "        return math.sqrt(self.x**2 + self.y**2)\n",
    "\n",
    "    def distance(self, another_point):\n",
    "        return (self - another_point).length()\n",
    "\n",
    "    def __str__(self):\n",
    "        return f'{self.x}, {self.y}'\n",
    "\n",
    "p1 = Point(3, 4)\n",
    "p2 = Point(8, 6)\n",
    "print(p1.distance(p2))"
   ]
  },
  {
   "cell_type": "code",
   "execution_count": 72,
   "id": "9b80694f-fe75-4e29-8093-4b39f28eb406",
   "metadata": {},
   "outputs": [
    {
     "ename": "TypeError",
     "evalue": "'Point' object is not iterable",
     "output_type": "error",
     "traceback": [
      "\u001b[1;31m---------------------------------------------------------------------------\u001b[0m",
      "\u001b[1;31mTypeError\u001b[0m                                 Traceback (most recent call last)",
      "Cell \u001b[1;32mIn[72], line 1\u001b[0m\n\u001b[1;32m----> 1\u001b[0m \u001b[38;5;28;01mfor\u001b[39;00m ele \u001b[38;5;129;01min\u001b[39;00m p1:\n\u001b[0;32m      2\u001b[0m     \u001b[38;5;28mprint\u001b[39m(ele)\n",
      "\u001b[1;31mTypeError\u001b[0m: 'Point' object is not iterable"
     ]
    }
   ],
   "source": [
    "for ele in p1:\n",
    "    print(ele)"
   ]
  },
  {
   "cell_type": "code",
   "execution_count": 74,
   "id": "cc5d0782-e436-4d2a-b153-7a4e457fa40d",
   "metadata": {},
   "outputs": [
    {
     "name": "stdout",
     "output_type": "stream",
     "text": [
      "0\n",
      "1\n",
      "2\n",
      "3\n",
      "4\n"
     ]
    }
   ],
   "source": [
    "for ele in range(5):\n",
    "    print(ele)"
   ]
  },
  {
   "cell_type": "code",
   "execution_count": 80,
   "id": "0400ae9e-0a90-4b05-ab55-1043f9948f8f",
   "metadata": {},
   "outputs": [
    {
     "name": "stdout",
     "output_type": "stream",
     "text": [
      "0\n",
      "1\n",
      "2\n",
      "3\n",
      "4\n"
     ]
    }
   ],
   "source": [
    "class MyRange:\n",
    "\n",
    "    def __init__(self, limit):\n",
    "        self.limit = limit\n",
    "\n",
    "    def __iter__(self):\n",
    "        self.value = 0\n",
    "        return self\n",
    "\n",
    "    def __next__(self):\n",
    "        if self.value < self.limit:\n",
    "            output = self.value\n",
    "            self.value += 1\n",
    "            return output\n",
    "        else:\n",
    "            raise StopIteration\n",
    "\n",
    "for ele in MyRange(5):\n",
    "    print(ele)"
   ]
  },
  {
   "cell_type": "code",
   "execution_count": 85,
   "id": "5fe9920a-9ee8-4fff-a612-72da6bb42597",
   "metadata": {},
   "outputs": [
    {
     "data": {
      "text/plain": [
       "0"
      ]
     },
     "execution_count": 85,
     "metadata": {},
     "output_type": "execute_result"
    }
   ],
   "source": [
    "mr = MyRange(5)\n",
    "obj = iter(mr)\n",
    "obj.value\n",
    "\n",
    "# for iter(class)\n",
    "# for next(class)"
   ]
  },
  {
   "cell_type": "code",
   "execution_count": 84,
   "id": "cdc4280b-c6aa-423e-adeb-60d40d1d043d",
   "metadata": {},
   "outputs": [],
   "source": []
  },
  {
   "cell_type": "code",
   "execution_count": 92,
   "id": "4afed7f8-d2f9-4522-9ce6-0f6820d13e38",
   "metadata": {},
   "outputs": [
    {
     "ename": "StopIteration",
     "evalue": "",
     "output_type": "error",
     "traceback": [
      "\u001b[1;31m---------------------------------------------------------------------------\u001b[0m",
      "\u001b[1;31mStopIteration\u001b[0m                             Traceback (most recent call last)",
      "Cell \u001b[1;32mIn[92], line 1\u001b[0m\n\u001b[1;32m----> 1\u001b[0m \u001b[38;5;28;43mnext\u001b[39;49m\u001b[43m(\u001b[49m\u001b[43mobj\u001b[49m\u001b[43m)\u001b[49m\n",
      "Cell \u001b[1;32mIn[80], line 16\u001b[0m, in \u001b[0;36mMyRange.__next__\u001b[1;34m(self)\u001b[0m\n\u001b[0;32m     14\u001b[0m     \u001b[38;5;28;01mreturn\u001b[39;00m output\n\u001b[0;32m     15\u001b[0m \u001b[38;5;28;01melse\u001b[39;00m:\n\u001b[1;32m---> 16\u001b[0m     \u001b[38;5;28;01mraise\u001b[39;00m \u001b[38;5;167;01mStopIteration\u001b[39;00m\n",
      "\u001b[1;31mStopIteration\u001b[0m: "
     ]
    }
   ],
   "source": [
    "next(obj)"
   ]
  },
  {
   "cell_type": "code",
   "execution_count": 93,
   "id": "364b1783-310e-4dea-a44e-5afd647c57a7",
   "metadata": {},
   "outputs": [
    {
     "data": {
      "text/plain": [
       "<__main__.MyRange at 0x160a693be50>"
      ]
     },
     "execution_count": 93,
     "metadata": {},
     "output_type": "execute_result"
    }
   ],
   "source": [
    "iter(obj)\n"
   ]
  },
  {
   "cell_type": "code",
   "execution_count": 97,
   "id": "9bf9f627-1cc5-4346-bc91-76bcd06257e2",
   "metadata": {},
   "outputs": [
    {
     "data": {
      "text/plain": [
       "3"
      ]
     },
     "execution_count": 97,
     "metadata": {},
     "output_type": "execute_result"
    }
   ],
   "source": [
    "next(obj)"
   ]
  },
  {
   "cell_type": "code",
   "execution_count": 105,
   "id": "71d2a61b-c181-4432-a837-e698841b5153",
   "metadata": {},
   "outputs": [
    {
     "name": "stdout",
     "output_type": "stream",
     "text": [
      "['Weaver', 'Michael', 'xdunn@hotmail.com', 'Nepal', 'QVJP6465242365388']\n",
      "['Owens', 'Jackson', 'iedwards@yahoo.com', 'Kazakhstan', 'FVQZ0955529767455']\n",
      "['Gilmore', 'Patrick', 'arogers@smith.com', 'Mauritius', 'QFIM0905182880347']\n",
      "['Perez', 'Jeffrey', 'plewis@chavez.com', 'New Zealand', 'YWOT0997131632248']\n",
      "['Thomas', 'James', 'fred92@yahoo.com', 'Yemen', 'QAAE9838291982555']\n",
      "['Nelson', 'Greg', 'mmiller@lynch.com', 'Jordan', 'PCNE8127696280157']\n",
      "['White', 'Joshua', 'steven49@gmail.com', 'Palau', 'BCEN3299883381338']\n",
      "['Francis', 'Todd', 'amanda23@hotmail.com', 'Argentina', 'XPTQ7837014557677']\n",
      "['Shaw', 'Stephen', 'jackduke@hotmail.com', 'Marshall Islands', 'TRLQ6559557081716']\n",
      "['Armstrong', 'Mariah', 'rhodesnicholas@hotmail.com', 'Albania', 'OHOV7518558201999']\n",
      "['Boyle', 'Anthony', 'smithashlee@yahoo.com', 'Kyrgyz Republic', 'MCQU7347833033110']\n",
      "['Cuevas', 'Patrick', 'ubriggs@hill.info', 'Turkmenistan', 'PPHE5533473251751']\n",
      "['Reyes', 'Gerald', 'brownclarence@gonzalez-moore.com', 'Fiji', 'JCDK1943355298609']\n",
      "['Calderon', 'Christopher', 'teresa30@carpenter-warner.com', 'Costa Rica', 'NERZ5502558659614']\n",
      "['Weiss', 'Shane', 'leekatherine@williams.com', 'Martinique', 'DLDV5789894914403']\n",
      "['Conley', 'Crystal', 'chasewatkins@perez-phillips.com', 'Singapore', 'GZZF6936998445532']\n",
      "['Nelson', 'Jeffrey', 'hsherman@gmail.com', 'Mayotte', 'ECGK2823955143629']\n",
      "['Johnson', 'Brianna', 'martinezdaniel@hotmail.com', 'Costa Rica', 'QOVO4275314052899']\n",
      "['Werner', 'Brandon', 'justinfischer@gmail.com', 'Guadeloupe', 'UKRT1119626365017']\n",
      "['Bennett', 'Brianna', 'cindy08@gmail.com', 'Bahamas', 'UNPV3347450330173']\n",
      "['Fletcher', 'Austin', 'carolharrington@fleming.org', 'Azerbaijan', 'GJZT6825738428111']\n",
      "['Lewis', 'Patrick', 'lopezcarl@johnson.com', 'Saint Helena', 'JOQE2648899771737']\n",
      "['Smith', 'Joseph', 'michael74@yahoo.com', 'Hong Kong', 'MNXY3262955868027']\n",
      "['Sullivan', 'Sharon', 'gonzalezrobert@hotmail.com', 'Turkey', 'YHXF7256577475630']\n",
      "['Wilson', 'Krystal', 'dawnjohnson@gmail.com', 'Swaziland', 'MUVI3570791852556']\n",
      "['Schmidt', 'Diana', 'watersryan@gmail.com', 'Holy See (Vatican City State)', 'UKCP6739617302102']\n",
      "['Huff', 'Sean', 'byoung@gmail.com', 'Norfolk Island', 'WDAT4146843903498']\n",
      "['Nguyen', 'Robin', 'vhanson@yahoo.com', 'Kenya', 'SVMU4403517448078']\n",
      "['Russell', 'Robyn', 'bfletcher@yahoo.com', 'Togo', 'ZNUY4071301663622']\n",
      "['Smith', 'Tiffany', 'colleengarrison@hotmail.com', 'San Marino', 'GPFA8271551275648']\n",
      "['Smith', 'Lori', 'catherine23@gmail.com', 'Romania', 'MKWY4848668895426']\n",
      "['Keith', 'Sabrina', 'xmurphy@yahoo.com', 'Algeria', 'QHIW7412514205367']\n",
      "['Johnson', 'Miguel', 'aaronrichard@middleton.net', 'Slovakia (Slovak Republic)', 'QAAO4666689281736']\n",
      "['Barron', 'Dustin', 'jesse93@best.com', 'Somalia', 'LRPR8694143910883']\n",
      "['Robinson', 'Michael', 'johnperez@johnson.com', 'Turkmenistan', 'UWFU1921951273393']\n",
      "['Nguyen', 'Robert', 'jessica62@yahoo.com', 'Croatia', 'JQHS4274771257925']\n",
      "['Abbott', 'Brandon', 'jennifer87@gmail.com', 'Jamaica', 'RSLD0426398604312']\n",
      "['Oneill', 'Bruce', 'morenolindsay@bass.org', 'Montserrat', 'UYHI6964741005832']\n",
      "['Nash', 'Linda', 'robertdavis@hotmail.com', 'Heard Island and McDonald Islands', 'ZKTE5908966955533']\n",
      "['Cameron', 'Kathleen', 'melanie81@rogers.com', 'Niger', 'HHHP3471562002758']\n",
      "['Wilkinson', 'Wesley', 'clineerin@hotmail.com', 'Saint Vincent and the Grenadines', 'UWLV6407825245995']\n",
      "['Wallace', 'Debbie', 'terri95@hotmail.com', 'Antigua and Barbuda', 'JRBN0811785293731']\n",
      "['Woodward', 'Kayla', 'danielle65@yahoo.com', 'Mexico', 'VDWY7565964041116']\n",
      "['Bennett', 'Stephanie', 'sjackson@yahoo.com', 'Singapore', 'DNRB2101855092009']\n",
      "['Jenkins', 'Caleb', 'douglas63@yahoo.com', 'Botswana', 'IILE1765776198023']\n",
      "['Edwards', 'Valerie', 'woodardlindsey@yahoo.com', 'Guinea', 'ZJUF2687631787282']\n",
      "['Anderson', 'Mary', 'suebrown@yahoo.com', 'Chile', 'DHMT4208071148508']\n",
      "['Ray', 'Angela', 'swhite@yahoo.com', 'Mayotte', 'UBRR8524342666714']\n",
      "['Edwards', 'Haley', 'martinkimberly@lopez.com', 'Macedonia', 'OGPU6537909247863']\n",
      "['Clark', 'Charles', 'jessica11@hotmail.com', 'Ukraine', 'AHYX6128839695452']\n",
      "['Hill', 'Lisa', 'hsmith@baker.com', 'Saint Martin', 'VUPW6891906300822']\n",
      "['Carpenter', 'Jonathan', 'fklein@yahoo.com', 'Germany', 'PKFW4841194501766']\n",
      "['Griffith', 'Latoya', 'ryan32@skinner.com', 'Lesotho', 'BNYD8693045932496']\n",
      "['Blair', 'Kim', 'tmurphy@flores.biz', 'Nepal', 'FQJA6381776349463']\n",
      "['Salazar', 'Mary', 'mary64@ray.org', 'Latvia', 'KCNI2464381879411']\n",
      "['Krueger', 'Kenneth', 'jennajoseph@yahoo.com', 'Central African Republic', 'BIGY3006735396533']\n",
      "['Burke', 'Phillip', 'watsonsamuel@gmail.com', 'Peru', 'CNJX1222752295544']\n",
      "['Juarez', 'Erica', 'xvelasquez@hughes.com', 'Spain', 'ZROP5229895490397']\n",
      "['Watkins', 'Jason', 'april99@gmail.com', 'Seychelles', 'NXKK2792812848629']\n",
      "['Carter', 'Lee', 'kfletcher@yahoo.com', 'Faroe Islands', 'DPLN5056382218296']\n",
      "['Huang', 'Randy', 'xchurch@hotmail.com', 'Tokelau', 'KAOL9792684486009']\n",
      "['Owen', 'Kristina', 'megan24@stewart.net', 'Cocos (Keeling) Islands', 'WRXW4627191899235']\n",
      "['Turner', 'Beth', 'sydneycollins@hunter.com', 'Burundi', 'OMOK4767172062189']\n",
      "['Aguirre', 'Michael', 'robertbowen@chavez-ortega.com', 'Timor-Leste', 'KRKF7344951038740']\n",
      "['Wilson', 'Elizabeth', 'christiandanielle@yahoo.com', 'Montserrat', 'SAAA4141150617330']\n",
      "['Hardy', 'Teresa', 'kdavidson@gordon.com', 'Norway', 'XNWQ1072087896797']\n",
      "['Stewart', 'David', 'bennettwanda@vega-guerra.net', 'Sierra Leone', 'FTHM1005169617995']\n",
      "['Moore', 'Heather', 'mark00@hotmail.com', 'French Polynesia', 'OSSM9070924947595']\n",
      "['Grant', 'Melissa', 'schaefernatalie@hotmail.com', 'French Guiana', 'CFQJ4204773901237']\n",
      "['Thompson', 'Jennifer', 'moralesmartin@rodgers.com', 'Cape Verde', 'MGFG2793756668287']\n",
      "['Anderson', 'Raymond', 'dprince@hotmail.com', 'Barbados', 'IGXK5881682171566']\n",
      "['Ramsey', 'Angela', 'cparks@valdez-hudson.com', 'Andorra', 'QYBW6359021109484']\n",
      "['Gonzales', 'Betty', 'martinezrichard@yahoo.com', 'Montserrat', 'UTSI0776569247505']\n",
      "['Castaneda', 'Thomas', 'kpena@yahoo.com', 'Egypt', 'LSDI9463735752680']\n",
      "['Todd', 'Jonathan', 'julie68@gmail.com', 'Malaysia', 'ISYY1401931979959']\n",
      "['Garcia', 'Stacey', 'lukebradford@hotmail.com', 'Zimbabwe', 'HNOA0376843856035']\n",
      "['Figueroa', 'Judy', 'ystewart@yahoo.com', 'Portugal', 'EEVV8325881104553']\n",
      "['Castillo', 'Ashley', 'cory33@king-shaw.net', 'Paraguay', 'QXGZ3111246190069']\n",
      "['Flores', 'Zachary', 'zcalhoun@gmail.com', 'Central African Republic', 'ACQR2846533122117']\n",
      "['Allen', 'Erica', 'michaelhall@hotmail.com', 'Palau', 'ZAZD8310339637467']\n",
      "['Potts', 'Savannah', 'kristentaylor@yahoo.com', 'Micronesia', 'ARWK1547324119222']\n",
      "['Wheeler', 'Zachary', 'stephen63@yahoo.com', 'Armenia', 'OMQX4840913072589']\n",
      "['Thomas', 'Timothy', 'bryanmartin@gmail.com', 'Bahrain', 'OCFV4659464275270']\n",
      "['Mcknight', 'Ann', 'kristinavelasquez@gmail.com', 'Guatemala', 'DTRB4720098955341']\n",
      "['Thompson', 'Ruth', 'denise01@burns.org', 'Saint Vincent and the Grenadines', 'YYHM5758234683389']\n",
      "['Levy', 'Daniel', 'beancody@jones.com', 'Kazakhstan', 'AHBN3151680654826']\n",
      "['Hubbard', 'Paul', 'ubradley@yahoo.com', 'Germany', 'FGBC0366153271398']\n",
      "['Jones', 'Jason', 'anthony75@yahoo.com', 'Western Sahara', 'MHTE8867005510944']\n",
      "['Garcia', 'Margaret', 'antonio52@gmail.com', 'Togo', 'IYOD4325345823013']\n",
      "['Peters', 'Jeremy', 'johnlewis@hotmail.com', 'Guam', 'NZFX8257739892619']\n",
      "['Stone', 'Mark', 'nmoore@hotmail.com', 'Kuwait', 'MWRB2515761996641']\n",
      "['Edwards', 'Darius', 'nchurch@yahoo.com', 'Eritrea', 'CURJ9953745256871']\n",
      "['Lawson', 'Tracy', 'piercejenna@gmail.com', 'Czech Republic', 'ATOT8581137487723']\n",
      "['Cooper', 'Christina', 'ddavidson@hotmail.com', 'Maldives', 'RQGA0882784089265']\n",
      "['Harris', 'Megan', 'ndelacruz@yahoo.com', 'Armenia', 'EOPA8088866975598']\n",
      "['Jones', 'Timothy', 'jenniferadkins@griffin.biz', 'Benin', 'JCUN9597199552039']\n",
      "['Burch', 'Tracie', 'evansmiguel@yahoo.com', 'Fiji', 'IZYL3351829981461']\n",
      "['Chung', 'Jason', 'kenneththompson@baxter.com', 'Iceland', 'JDIH2349154465371']\n",
      "['Melton', 'Samantha', 'bcurtis@hotmail.com', 'Macedonia', 'VRZP1447516193511']\n",
      "['Hansen', 'Michael', 'phillipssean@hotmail.com', 'Serbia', 'QKAF2254397516681']\n"
     ]
    }
   ],
   "source": [
    "with open('people.tsv') as file:\n",
    "    header = next(file).strip().split('\\t')\n",
    "    # print(header)\n",
    "    for line in file:    \n",
    "        print(line.strip().split('\\t'))\n"
   ]
  },
  {
   "cell_type": "code",
   "execution_count": 99,
   "id": "85f01614-7d36-43d3-a3fe-a20c27b70a63",
   "metadata": {},
   "outputs": [
    {
     "data": {
      "text/plain": [
       "'last_name\\tfirst_name\\temail\\tcountry\\taccount\\n'"
      ]
     },
     "execution_count": 99,
     "metadata": {},
     "output_type": "execute_result"
    }
   ],
   "source": [
    "header"
   ]
  }
 ],
 "metadata": {
  "kernelspec": {
   "display_name": "Python 3 (ipykernel)",
   "language": "python",
   "name": "python3"
  },
  "language_info": {
   "codemirror_mode": {
    "name": "ipython",
    "version": 3
   },
   "file_extension": ".py",
   "mimetype": "text/x-python",
   "name": "python",
   "nbconvert_exporter": "python",
   "pygments_lexer": "ipython3",
   "version": "3.9.18"
  }
 },
 "nbformat": 4,
 "nbformat_minor": 5
}
