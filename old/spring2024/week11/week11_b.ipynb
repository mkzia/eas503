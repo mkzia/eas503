{
 "cells": [
  {
   "cell_type": "code",
   "execution_count": 17,
   "id": "2abd4c42-a22a-4015-ab4e-a1a7fc30f2ec",
   "metadata": {},
   "outputs": [
    {
     "ename": "PermissionError",
     "evalue": "[WinError 32] The process cannot access the file because it is being used by another process: 'depts_students.db'",
     "output_type": "error",
     "traceback": [
      "\u001b[1;31m---------------------------------------------------------------------------\u001b[0m",
      "\u001b[1;31mPermissionError\u001b[0m                           Traceback (most recent call last)",
      "Cell \u001b[1;32mIn[17], line 24\u001b[0m\n\u001b[0;32m     22\u001b[0m db \u001b[38;5;241m=\u001b[39m \u001b[38;5;124m'\u001b[39m\u001b[38;5;124mdepts_students.db\u001b[39m\u001b[38;5;124m'\u001b[39m\n\u001b[0;32m     23\u001b[0m \u001b[38;5;28;01mif\u001b[39;00m os\u001b[38;5;241m.\u001b[39mpath\u001b[38;5;241m.\u001b[39mexists(db):\n\u001b[1;32m---> 24\u001b[0m     \u001b[43mos\u001b[49m\u001b[38;5;241;43m.\u001b[39;49m\u001b[43mremove\u001b[49m\u001b[43m(\u001b[49m\u001b[43mdb\u001b[49m\u001b[43m)\u001b[49m\n\u001b[0;32m     26\u001b[0m create_table_departments_sql \u001b[38;5;241m=\u001b[39m \u001b[38;5;124m\"\"\"\u001b[39m\u001b[38;5;124m CREATE TABLE Departments (\u001b[39m\n\u001b[0;32m     27\u001b[0m \u001b[38;5;124m    DepartmentId INTEGER NOT NULL PRIMARY KEY,\u001b[39m\n\u001b[0;32m     28\u001b[0m \u001b[38;5;124m    DepartmentName TEXT \u001b[39m\n\u001b[0;32m     29\u001b[0m \u001b[38;5;124m); \u001b[39m\u001b[38;5;124m\"\"\"\u001b[39m\n\u001b[0;32m     31\u001b[0m create_table_students_sql \u001b[38;5;241m=\u001b[39m \u001b[38;5;124m\"\"\"\u001b[39m\u001b[38;5;124mCREATE TABLE [Students] (\u001b[39m\n\u001b[0;32m     32\u001b[0m \u001b[38;5;124m    [StudentId] INTEGER PRIMARY KEY NOT NULL,\u001b[39m\n\u001b[0;32m     33\u001b[0m \u001b[38;5;124m    [StudentName] TEXT NOT NULL,\u001b[39m\n\u001b[1;32m   (...)\u001b[0m\n\u001b[0;32m     36\u001b[0m \u001b[38;5;124m    FOREIGN KEY(DepartmentId) REFERENCES Departments(DepartmentId)\u001b[39m\n\u001b[0;32m     37\u001b[0m \u001b[38;5;124m);\u001b[39m\u001b[38;5;124m\"\"\"\u001b[39m\n",
      "\u001b[1;31mPermissionError\u001b[0m: [WinError 32] The process cannot access the file because it is being used by another process: 'depts_students.db'"
     ]
    }
   ],
   "source": [
    "import sqlite3\n",
    "from sqlite3 import Error\n",
    "import os\n",
    "\n",
    "def create_connection(db_file):\n",
    "    conn = None\n",
    "    try:\n",
    "        conn = sqlite3.connect(db_file)\n",
    "    except Error as e:\n",
    "        print(e)\n",
    "\n",
    "    return conn\n",
    "\n",
    "\n",
    "def create_table(conn, create_table_sql):\n",
    "    try:\n",
    "        c = conn.cursor()\n",
    "        c.execute(create_table_sql)\n",
    "    except Error as e:\n",
    "        print(e)\n",
    "\n",
    "db = 'depts_students.db'\n",
    "if os.path.exists(db):\n",
    "    os.remove(db)\n",
    "\n",
    "create_table_departments_sql = \"\"\" CREATE TABLE Departments (\n",
    "    DepartmentId INTEGER NOT NULL PRIMARY KEY,\n",
    "    DepartmentName TEXT \n",
    "); \"\"\"\n",
    "\n",
    "create_table_students_sql = \"\"\"CREATE TABLE [Students] (\n",
    "    [StudentId] INTEGER PRIMARY KEY NOT NULL,\n",
    "    [StudentName] TEXT NOT NULL,\n",
    "    [DepartmentId] INTEGER,\n",
    "    [DateOfBirth] DATE,\n",
    "    FOREIGN KEY(DepartmentId) REFERENCES Departments(DepartmentId)\n",
    ");\"\"\"\n",
    "\n",
    "depts = ('IT', 'Physics', 'Arts', 'Math')\n",
    "\n",
    "students = (\n",
    "    ('Michael', 1, '1998-10-12'),\n",
    "    ('John', 1, '1998-10-12'),\n",
    "    ('Jack', 1, '1998-10-12'),\n",
    "    ('Sara', 2, '1998-10-12'),\n",
    "    ('Sally', 2, '1998-10-12'),\n",
    "    ('Jena', None, '1998-10-12'),\n",
    "    ('Nancy', 2, '1998-10-12'),\n",
    "    ('Adam', 3, '1998-10-12'),\n",
    "    ('Stevens', 3, '1998-10-12'),\n",
    "    ('George', None, '1998-10-12')\n",
    ")\n",
    "\n",
    "def insert_depts(conn, values):\n",
    "    sql = ''' INSERT INTO Departments(DepartmentName)\n",
    "              VALUES(?) '''\n",
    "    cur = conn.cursor()\n",
    "    cur.execute(sql, values)\n",
    "    return cur.lastrowid\n",
    "\n",
    "def insert_student(conn, values):\n",
    "    sql = ''' INSERT INTO Students(StudentName, DepartmentId, DateOfBirth)\n",
    "              VALUES(?,?,?) '''\n",
    "    cur = conn.cursor()\n",
    "    cur.execute(sql, values)\n",
    "    return cur.lastrowid\n",
    "\n",
    "\n",
    "conn = create_connection(db)\n",
    "\n",
    "with conn:\n",
    "    create_table(conn, create_table_departments_sql)\n",
    "    create_table(conn, create_table_students_sql)\n",
    "    for values in depts:\n",
    "        insert_depts(conn, (values, )) # artifical tuple\n",
    "        \n",
    "    for values in students:\n",
    "        insert_student(conn, values)"
   ]
  },
  {
   "cell_type": "code",
   "execution_count": 3,
   "id": "b1d7788d-8bf2-46ed-b1d5-5efdd98a68eb",
   "metadata": {},
   "outputs": [
    {
     "data": {
      "text/html": [
       "<div>\n",
       "<style scoped>\n",
       "    .dataframe tbody tr th:only-of-type {\n",
       "        vertical-align: middle;\n",
       "    }\n",
       "\n",
       "    .dataframe tbody tr th {\n",
       "        vertical-align: top;\n",
       "    }\n",
       "\n",
       "    .dataframe thead th {\n",
       "        text-align: right;\n",
       "    }\n",
       "</style>\n",
       "<table border=\"1\" class=\"dataframe\">\n",
       "  <thead>\n",
       "    <tr style=\"text-align: right;\">\n",
       "      <th></th>\n",
       "      <th>DepartmentId</th>\n",
       "      <th>DepartmentName</th>\n",
       "    </tr>\n",
       "  </thead>\n",
       "  <tbody>\n",
       "    <tr>\n",
       "      <th>0</th>\n",
       "      <td>1</td>\n",
       "      <td>IT</td>\n",
       "    </tr>\n",
       "    <tr>\n",
       "      <th>1</th>\n",
       "      <td>2</td>\n",
       "      <td>Physics</td>\n",
       "    </tr>\n",
       "    <tr>\n",
       "      <th>2</th>\n",
       "      <td>3</td>\n",
       "      <td>Arts</td>\n",
       "    </tr>\n",
       "    <tr>\n",
       "      <th>3</th>\n",
       "      <td>4</td>\n",
       "      <td>Math</td>\n",
       "    </tr>\n",
       "  </tbody>\n",
       "</table>\n",
       "</div>"
      ],
      "text/plain": [
       "   DepartmentId DepartmentName\n",
       "0             1             IT\n",
       "1             2        Physics\n",
       "2             3           Arts\n",
       "3             4           Math"
      ]
     },
     "execution_count": 3,
     "metadata": {},
     "output_type": "execute_result"
    }
   ],
   "source": [
    "import sqlite3\n",
    "from sqlite3 import Error\n",
    "import os\n",
    "def create_connection(db_file):\n",
    "    conn = None\n",
    "    try:\n",
    "        conn = sqlite3.connect(db_file)\n",
    "    except Error as e:\n",
    "        print(e)\n",
    "\n",
    "    return conn\n",
    "db = 'depts_students.db'\n",
    "conn = create_connection(db)\n",
    "\n",
    "import pandas as pd\n",
    "pd.read_sql_query('SELECT * FROM Departments', conn)"
   ]
  },
  {
   "cell_type": "code",
   "execution_count": 18,
   "id": "a5b4943b-1c77-4f61-8031-4c2a8bda6106",
   "metadata": {},
   "outputs": [
    {
     "name": "stdout",
     "output_type": "stream",
     "text": [
      "INSERT INTO Departments(DepartmentName) VALUES(\"Chemistry\"); DROP TABLE Students;)\n"
     ]
    }
   ],
   "source": [
    "x = '\"Chemistry\"); DROP TABLE Students;'\n",
    "sql_statement = f'INSERT INTO Departments(DepartmentName) VALUES({x})'\n",
    "print(sql_statement)"
   ]
  },
  {
   "cell_type": "code",
   "execution_count": 19,
   "id": "4331a8b5-417c-4ad9-bc0d-e3c96107cb21",
   "metadata": {},
   "outputs": [
    {
     "name": "stdout",
     "output_type": "stream",
     "text": [
      "INSERT INTO Departments(DepartmentName) VALUES(\"Chemistry\"); DROP TABLE Students;)\n"
     ]
    },
    {
     "ename": "Warning",
     "evalue": "You can only execute one statement at a time.",
     "output_type": "error",
     "traceback": [
      "\u001b[1;31m---------------------------------------------------------------------------\u001b[0m",
      "\u001b[1;31mWarning\u001b[0m                                   Traceback (most recent call last)",
      "Cell \u001b[1;32mIn[19], line 3\u001b[0m\n\u001b[0;32m      1\u001b[0m \u001b[38;5;28mprint\u001b[39m(sql_statement)\n\u001b[0;32m      2\u001b[0m cur \u001b[38;5;241m=\u001b[39m conn\u001b[38;5;241m.\u001b[39mcursor()\n\u001b[1;32m----> 3\u001b[0m row_id \u001b[38;5;241m=\u001b[39m \u001b[43mcur\u001b[49m\u001b[38;5;241;43m.\u001b[39;49m\u001b[43mexecute\u001b[49m\u001b[43m(\u001b[49m\u001b[43msql_statement\u001b[49m\u001b[43m)\u001b[49m\n",
      "\u001b[1;31mWarning\u001b[0m: You can only execute one statement at a time."
     ]
    }
   ],
   "source": [
    "print(sql_statement)\n",
    "cur = conn.cursor()\n",
    "row_id = cur.execute(sql_statement)\n"
   ]
  },
  {
   "cell_type": "code",
   "execution_count": 4,
   "id": "69725fcf-6ec3-4e81-bf71-7c29e64b390a",
   "metadata": {},
   "outputs": [
    {
     "name": "stdout",
     "output_type": "stream",
     "text": [
      "(1, 'IT')\n",
      "(2, 'Physics')\n",
      "(3, 'Arts')\n",
      "(4, 'Math')\n"
     ]
    }
   ],
   "source": [
    "cur = conn.cursor()\n",
    "cur.execute('SELECT * FROM Departments')\n",
    "for row in cur.fetchall():  \n",
    "    print(row)"
   ]
  },
  {
   "cell_type": "code",
   "execution_count": 23,
   "id": "4db21fee-49e2-47fd-9ac7-f03d4fc94a25",
   "metadata": {},
   "outputs": [
    {
     "data": {
      "text/plain": [
       "<sqlite3.Cursor at 0x167d7b0a3b0>"
      ]
     },
     "execution_count": 23,
     "metadata": {},
     "output_type": "execute_result"
    }
   ],
   "source": [
    "cur = conn.cursor()\n",
    "sql = ''' INSERT INTO Departments(DepartmentName)\n",
    "              VALUES(?) '''\n",
    "values = ('\"Biology\"); DROP TABLE Students;)', )\n",
    "cur.execute(sql, values)"
   ]
  },
  {
   "cell_type": "code",
   "execution_count": 5,
   "id": "4089f654-639c-4d6f-b492-3ed3ecd3a89e",
   "metadata": {},
   "outputs": [
    {
     "name": "stdout",
     "output_type": "stream",
     "text": [
      "(1, 'IT')\n",
      "(2, 'Physics')\n",
      "(3, 'Arts')\n",
      "(4, 'Math')\n"
     ]
    }
   ],
   "source": [
    "cur = conn.cursor()\n",
    "cur.execute('SELECT * FROM Departments')\n",
    "for row in cur.fetchall():  \n",
    "    print(row)"
   ]
  },
  {
   "cell_type": "code",
   "execution_count": 6,
   "id": "46e18ad4-ffba-4e19-a03c-cacad24d4f91",
   "metadata": {},
   "outputs": [],
   "source": [
    "for row in cur.fetchall():\n",
    "    print(row)"
   ]
  },
  {
   "cell_type": "code",
   "execution_count": 7,
   "id": "b3d45bf0-7699-46bb-8bee-67773657c2fe",
   "metadata": {},
   "outputs": [
    {
     "name": "stdout",
     "output_type": "stream",
     "text": [
      "(1, 'IT')\n",
      "(2, 'Physics')\n",
      "(3, 'Arts')\n",
      "(4, 'Math')\n",
      "None\n"
     ]
    }
   ],
   "source": [
    "cur.execute('SELECT * FROM Departments')\n",
    "print(cur.fetchone())\n",
    "print(cur.fetchone())\n",
    "print(cur.fetchone())\n",
    "print(cur.fetchone())\n",
    "print(cur.fetchone())"
   ]
  },
  {
   "cell_type": "code",
   "execution_count": 9,
   "id": "5ad399e9-804b-4eb4-b2b1-915b23da5be6",
   "metadata": {},
   "outputs": [
    {
     "name": "stdout",
     "output_type": "stream",
     "text": [
      "(1, 'IT')\n",
      "(2, 'Physics')\n",
      "(3, 'Arts')\n",
      "(4, 'Math')\n"
     ]
    }
   ],
   "source": [
    "cur.execute('SELECT * FROM Departments')\n",
    "value = cur.fetchone()\n",
    "while value:\n",
    "    print(value)\n",
    "    value = cur.fetchone()\n"
   ]
  },
  {
   "cell_type": "code",
   "execution_count": 10,
   "id": "973ff5ba-b37b-4dcd-9c20-a8bf4c307193",
   "metadata": {},
   "outputs": [
    {
     "name": "stdout",
     "output_type": "stream",
     "text": [
      "{'IT': 1, 'Physics': 2, 'Arts': 3, 'Math': 4}\n"
     ]
    }
   ],
   "source": [
    "cur.execute('SELECT * FROM Departments')\n",
    "dept_fk_lookup = {}\n",
    "for key, text in cur.fetchall():\n",
    "    dept_fk_lookup[text] = key\n",
    "print(dept_fk_lookup)"
   ]
  },
  {
   "cell_type": "code",
   "execution_count": 15,
   "id": "20945894-9bf9-404f-ae88-326fa9431c2f",
   "metadata": {},
   "outputs": [
    {
     "name": "stdout",
     "output_type": "stream",
     "text": [
      "('IT',)\n",
      "IT\n",
      "('Physics',)\n",
      "Physics\n",
      "('Arts',)\n",
      "Arts\n",
      "('Math',)\n",
      "Math\n"
     ]
    }
   ],
   "source": [
    "cur.execute('SELECT DepartmentName FROM Departments')\n",
    "dept_fk_lookup = {}\n",
    "for row in cur.fetchall():\n",
    "    print(row)\n",
    "    print(row[0])"
   ]
  },
  {
   "cell_type": "code",
   "execution_count": 27,
   "id": "81c71221-2d73-4510-8aaf-98f7654e58ff",
   "metadata": {},
   "outputs": [
    {
     "name": "stdout",
     "output_type": "stream",
     "text": [
      "{'Arts': 1, 'IT': 2, 'Math': 3, 'Physics': 4}\n",
      "BEFORE ['Michael', 'IT', '1998-10-12']\n",
      "key IT\n",
      "AFTER ['Michael', 2, '1998-10-12']\n",
      "BEFORE ['John', 'IT', '1998-10-12']\n",
      "key IT\n",
      "AFTER ['John', 2, '1998-10-12']\n",
      "BEFORE ['Jack', 'IT', '1998-10-12']\n",
      "key IT\n",
      "AFTER ['Jack', 2, '1998-10-12']\n",
      "BEFORE ['Sara', 'Physics', '1998-10-12']\n",
      "key Physics\n",
      "AFTER ['Sara', 4, '1998-10-12']\n",
      "BEFORE ['Sally', 'Physics', '1998-10-12']\n",
      "key Physics\n",
      "AFTER ['Sally', 4, '1998-10-12']\n",
      "BEFORE ['Jena', None, '1998-10-12']\n",
      "key None\n",
      "AFTER ['Jena', None, '1998-10-12']\n",
      "BEFORE ['Nancy', 'Physics', '1998-10-12']\n",
      "key Physics\n",
      "AFTER ['Nancy', 4, '1998-10-12']\n",
      "BEFORE ['Adam', 'Arts', '1998-10-12']\n",
      "key Arts\n",
      "AFTER ['Adam', 1, '1998-10-12']\n",
      "BEFORE ['Stevens', 'Arts', '1998-10-12']\n",
      "key Arts\n",
      "AFTER ['Stevens', 1, '1998-10-12']\n",
      "BEFORE ['George', None, '1998-10-12']\n",
      "key None\n",
      "AFTER ['George', None, '1998-10-12']\n"
     ]
    }
   ],
   "source": [
    "def insert_depts(conn, values):\n",
    "    sql = ''' INSERT INTO Departments(DepartmentName)\n",
    "              VALUES(?) '''\n",
    "    cur = conn.cursor()\n",
    "    cur.execute(sql, values)\n",
    "    return cur.lastrowid\n",
    "\n",
    "def insert_student(conn, values):\n",
    "    sql = ''' INSERT INTO Students(StudentName, DepartmentId, DateOfBirth)\n",
    "              VALUES(?,?,?) '''\n",
    "    cur = conn.cursor()\n",
    "    cur.execute(sql, values)\n",
    "    return cur.lastrowid\n",
    "    \n",
    "db = 'depts_students_new2.db'\n",
    "conn = create_connection(db)\n",
    "\n",
    "create_table_departments_sql = \"\"\" CREATE TABLE [Departments] (\n",
    "    [DepartmentId] INTEGER  NOT NULL PRIMARY KEY,\n",
    "    [DepartmentName] TEXT \n",
    "); \"\"\"\n",
    "\n",
    "create_table_students_sql = \"\"\"CREATE TABLE [Students] (\n",
    "    [StudentId] INTEGER  PRIMARY KEY NOT NULL,\n",
    "    [StudentName] TEXT NOT NULL,\n",
    "    [DepartmentId] INTEGER,\n",
    "    [DateOfBirth] DATE,\n",
    "    FOREIGN KEY(DepartmentId) REFERENCES Departments(DepartmentId)\n",
    ");\"\"\"\n",
    "\n",
    "depts = sorted(('IT', 'Physics', 'Arts', 'Math'))\n",
    "students = (\n",
    "    ('Michael', 'IT', '1998-10-12'),\n",
    "    ('John', 'IT', '1998-10-12'),\n",
    "    ('Jack', 'IT', '1998-10-12'),\n",
    "    ('Sara', 'Physics', '1998-10-12'),\n",
    "    ('Sally', 'Physics', '1998-10-12'),\n",
    "    ('Jena', None, '1998-10-12'),\n",
    "    ('Nancy', 'Physics', '1998-10-12'),\n",
    "    ('Adam', 'Arts', '1998-10-12'),\n",
    "    ('Stevens', 'Arts', '1998-10-12'),\n",
    "    ('George', None, '1998-10-12')\n",
    ")\n",
    "\n",
    "\n",
    "with conn:\n",
    "    create_table(conn, create_table_departments_sql)\n",
    "    for values in depts:\n",
    "        insert_depts(conn, (values, ))\n",
    "\n",
    "cur = conn.cursor()\n",
    "cur.execute('SELECT * FROM Departments')\n",
    "dept_fk_lookup = {}\n",
    "for key, text in cur.fetchall():\n",
    "    dept_fk_lookup[text] = key\n",
    "print(dept_fk_lookup)\n",
    "\n",
    "\n",
    "with conn:\n",
    "    create_table(conn, create_table_students_sql)\n",
    "    for values in students:\n",
    "        values = list(values)\n",
    "        print('BEFORE', values)\n",
    "        key = values[1]\n",
    "        print('key', key)\n",
    "        if key:\n",
    "            values[1] = dept_fk_lookup[values[1]]\n",
    "        print('AFTER',values)\n",
    "        insert_student(conn, values)"
   ]
  },
  {
   "cell_type": "code",
   "execution_count": 25,
   "id": "f77da03c-4307-4ae2-b9f5-d2ce229ffc2b",
   "metadata": {},
   "outputs": [
    {
     "name": "stdout",
     "output_type": "stream",
     "text": [
      "[(1, 'IT'), (2, 'Physics'), (3, 'Arts'), (4, 'Math'), (5, 'IT'), (6, 'Physics'), (7, 'Arts'), (8, 'Math'), (9, 'IT'), (10, 'Physics'), (11, 'Arts'), (12, 'Math')]\n"
     ]
    }
   ],
   "source": [
    "cur.execute('SELECT * FROM Departments')\n",
    "print(cur.fetchall())"
   ]
  },
  {
   "cell_type": "code",
   "execution_count": 29,
   "id": "aae1a090-2e49-4551-8c89-72364fbbcd8d",
   "metadata": {},
   "outputs": [
    {
     "name": "stdout",
     "output_type": "stream",
     "text": [
      "[2010, 2011, 2012, 2013, 2014, 2015, 2016, 2017, 2018]\n"
     ]
    }
   ],
   "source": [
    "def execute_sql_statement(sql_statement, conn):\n",
    "    cur = conn.cursor()\n",
    "    cur.execute(sql_statement)\n",
    "\n",
    "    rows = cur.fetchall()\n",
    "\n",
    "    return rows\n",
    "conn = create_connection('india_export.db')\n",
    "sql_statement = \"SELECT DISTINCT year from export ORDER BY year\"\n",
    "years = execute_sql_statement(sql_statement, conn)\n",
    "years = list(map(lambda row: int(row[0]), years))\n",
    "print(years)"
   ]
  }
 ],
 "metadata": {
  "kernelspec": {
   "display_name": "Python 3 (ipykernel)",
   "language": "python",
   "name": "python3"
  },
  "language_info": {
   "codemirror_mode": {
    "name": "ipython",
    "version": 3
   },
   "file_extension": ".py",
   "mimetype": "text/x-python",
   "name": "python",
   "nbconvert_exporter": "python",
   "pygments_lexer": "ipython3",
   "version": "3.9.18"
  }
 },
 "nbformat": 4,
 "nbformat_minor": 5
}
