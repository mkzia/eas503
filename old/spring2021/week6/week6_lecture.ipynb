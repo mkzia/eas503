{
 "cells": [
  {
   "cell_type": "code",
   "execution_count": 4,
   "metadata": {},
   "outputs": [
    {
     "name": "stdout",
     "output_type": "stream",
     "text": [
      "Enter filename to read: people.tsv\n",
      "[{'last_name': 'Weaver', 'first_name': 'Michael', 'email': 'xdunn@hotmail.com', 'country': 'Nepal', 'account': 'QVJP6465242365388'}, {'last_name': 'Owens', 'first_name': 'Jackson', 'email': 'iedwards@yahoo.com', 'country': 'Kazakhstan', 'account': 'FVQZ0955529767455'}, {'last_name': 'Gilmore', 'first_name': 'Patrick', 'email': 'arogers@smith.com', 'country': 'Mauritius', 'account': 'QFIM0905182880347'}, {'last_name': 'Perez', 'first_name': 'Jeffrey', 'email': 'plewis@chavez.com', 'country': 'New Zealand', 'account': 'YWOT0997131632248'}, {'last_name': 'Thomas', 'first_name': 'James', 'email': 'fred92@yahoo.com', 'country': 'Yemen', 'account': 'QAAE9838291982555'}, {'last_name': 'Nelson', 'first_name': 'Greg', 'email': 'mmiller@lynch.com', 'country': 'Jordan', 'account': 'PCNE8127696280157'}, {'last_name': 'White', 'first_name': 'Joshua', 'email': 'steven49@gmail.com', 'country': 'Palau', 'account': 'BCEN3299883381338'}, {'last_name': 'Francis', 'first_name': 'Todd', 'email': 'amanda23@hotmail.com', 'country': 'Argentina', 'account': 'XPTQ7837014557677'}, {'last_name': 'Shaw', 'first_name': 'Stephen', 'email': 'jackduke@hotmail.com', 'country': 'Marshall Islands', 'account': 'TRLQ6559557081716'}, {'last_name': 'Armstrong', 'first_name': 'Mariah', 'email': 'rhodesnicholas@hotmail.com', 'country': 'Albania', 'account': 'OHOV7518558201999'}, {'last_name': 'Boyle', 'first_name': 'Anthony', 'email': 'smithashlee@yahoo.com', 'country': 'Kyrgyz Republic', 'account': 'MCQU7347833033110'}, {'last_name': 'Cuevas', 'first_name': 'Patrick', 'email': 'ubriggs@hill.info', 'country': 'Turkmenistan', 'account': 'PPHE5533473251751'}, {'last_name': 'Reyes', 'first_name': 'Gerald', 'email': 'brownclarence@gonzalez-moore.com', 'country': 'Fiji', 'account': 'JCDK1943355298609'}, {'last_name': 'Calderon', 'first_name': 'Christopher', 'email': 'teresa30@carpenter-warner.com', 'country': 'Costa Rica', 'account': 'NERZ5502558659614'}, {'last_name': 'Weiss', 'first_name': 'Shane', 'email': 'leekatherine@williams.com', 'country': 'Martinique', 'account': 'DLDV5789894914403'}, {'last_name': 'Conley', 'first_name': 'Crystal', 'email': 'chasewatkins@perez-phillips.com', 'country': 'Singapore', 'account': 'GZZF6936998445532'}, {'last_name': 'Nelson', 'first_name': 'Jeffrey', 'email': 'hsherman@gmail.com', 'country': 'Mayotte', 'account': 'ECGK2823955143629'}, {'last_name': 'Johnson', 'first_name': 'Brianna', 'email': 'martinezdaniel@hotmail.com', 'country': 'Costa Rica', 'account': 'QOVO4275314052899'}, {'last_name': 'Werner', 'first_name': 'Brandon', 'email': 'justinfischer@gmail.com', 'country': 'Guadeloupe', 'account': 'UKRT1119626365017'}, {'last_name': 'Bennett', 'first_name': 'Brianna', 'email': 'cindy08@gmail.com', 'country': 'Bahamas', 'account': 'UNPV3347450330173'}, {'last_name': 'Fletcher', 'first_name': 'Austin', 'email': 'carolharrington@fleming.org', 'country': 'Azerbaijan', 'account': 'GJZT6825738428111'}, {'last_name': 'Lewis', 'first_name': 'Patrick', 'email': 'lopezcarl@johnson.com', 'country': 'Saint Helena', 'account': 'JOQE2648899771737'}, {'last_name': 'Smith', 'first_name': 'Joseph', 'email': 'michael74@yahoo.com', 'country': 'Hong Kong', 'account': 'MNXY3262955868027'}, {'last_name': 'Sullivan', 'first_name': 'Sharon', 'email': 'gonzalezrobert@hotmail.com', 'country': 'Turkey', 'account': 'YHXF7256577475630'}, {'last_name': 'Wilson', 'first_name': 'Krystal', 'email': 'dawnjohnson@gmail.com', 'country': 'Swaziland', 'account': 'MUVI3570791852556'}, {'last_name': 'Schmidt', 'first_name': 'Diana', 'email': 'watersryan@gmail.com', 'country': 'Holy See (Vatican City State)', 'account': 'UKCP6739617302102'}, {'last_name': 'Huff', 'first_name': 'Sean', 'email': 'byoung@gmail.com', 'country': 'Norfolk Island', 'account': 'WDAT4146843903498'}, {'last_name': 'Nguyen', 'first_name': 'Robin', 'email': 'vhanson@yahoo.com', 'country': 'Kenya', 'account': 'SVMU4403517448078'}, {'last_name': 'Russell', 'first_name': 'Robyn', 'email': 'bfletcher@yahoo.com', 'country': 'Togo', 'account': 'ZNUY4071301663622'}, {'last_name': 'Smith', 'first_name': 'Tiffany', 'email': 'colleengarrison@hotmail.com', 'country': 'San Marino', 'account': 'GPFA8271551275648'}, {'last_name': 'Smith', 'first_name': 'Lori', 'email': 'catherine23@gmail.com', 'country': 'Romania', 'account': 'MKWY4848668895426'}, {'last_name': 'Keith', 'first_name': 'Sabrina', 'email': 'xmurphy@yahoo.com', 'country': 'Algeria', 'account': 'QHIW7412514205367'}, {'last_name': 'Johnson', 'first_name': 'Miguel', 'email': 'aaronrichard@middleton.net', 'country': 'Slovakia (Slovak Republic)', 'account': 'QAAO4666689281736'}, {'last_name': 'Barron', 'first_name': 'Dustin', 'email': 'jesse93@best.com', 'country': 'Somalia', 'account': 'LRPR8694143910883'}, {'last_name': 'Robinson', 'first_name': 'Michael', 'email': 'johnperez@johnson.com', 'country': 'Turkmenistan', 'account': 'UWFU1921951273393'}, {'last_name': 'Nguyen', 'first_name': 'Robert', 'email': 'jessica62@yahoo.com', 'country': 'Croatia', 'account': 'JQHS4274771257925'}, {'last_name': 'Abbott', 'first_name': 'Brandon', 'email': 'jennifer87@gmail.com', 'country': 'Jamaica', 'account': 'RSLD0426398604312'}, {'last_name': 'Oneill', 'first_name': 'Bruce', 'email': 'morenolindsay@bass.org', 'country': 'Montserrat', 'account': 'UYHI6964741005832'}, {'last_name': 'Nash', 'first_name': 'Linda', 'email': 'robertdavis@hotmail.com', 'country': 'Heard Island and McDonald Islands', 'account': 'ZKTE5908966955533'}, {'last_name': 'Cameron', 'first_name': 'Kathleen', 'email': 'melanie81@rogers.com', 'country': 'Niger', 'account': 'HHHP3471562002758'}, {'last_name': 'Wilkinson', 'first_name': 'Wesley', 'email': 'clineerin@hotmail.com', 'country': 'Saint Vincent and the Grenadines', 'account': 'UWLV6407825245995'}, {'last_name': 'Wallace', 'first_name': 'Debbie', 'email': 'terri95@hotmail.com', 'country': 'Antigua and Barbuda', 'account': 'JRBN0811785293731'}, {'last_name': 'Woodward', 'first_name': 'Kayla', 'email': 'danielle65@yahoo.com', 'country': 'Mexico', 'account': 'VDWY7565964041116'}, {'last_name': 'Bennett', 'first_name': 'Stephanie', 'email': 'sjackson@yahoo.com', 'country': 'Singapore', 'account': 'DNRB2101855092009'}, {'last_name': 'Jenkins', 'first_name': 'Caleb', 'email': 'douglas63@yahoo.com', 'country': 'Botswana', 'account': 'IILE1765776198023'}, {'last_name': 'Edwards', 'first_name': 'Valerie', 'email': 'woodardlindsey@yahoo.com', 'country': 'Guinea', 'account': 'ZJUF2687631787282'}, {'last_name': 'Anderson', 'first_name': 'Mary', 'email': 'suebrown@yahoo.com', 'country': 'Chile', 'account': 'DHMT4208071148508'}, {'last_name': 'Ray', 'first_name': 'Angela', 'email': 'swhite@yahoo.com', 'country': 'Mayotte', 'account': 'UBRR8524342666714'}, {'last_name': 'Edwards', 'first_name': 'Haley', 'email': 'martinkimberly@lopez.com', 'country': 'Macedonia', 'account': 'OGPU6537909247863'}, {'last_name': 'Clark', 'first_name': 'Charles', 'email': 'jessica11@hotmail.com', 'country': 'Ukraine', 'account': 'AHYX6128839695452'}, {'last_name': 'Hill', 'first_name': 'Lisa', 'email': 'hsmith@baker.com', 'country': 'Saint Martin', 'account': 'VUPW6891906300822'}, {'last_name': 'Carpenter', 'first_name': 'Jonathan', 'email': 'fklein@yahoo.com', 'country': 'Germany', 'account': 'PKFW4841194501766'}, {'last_name': 'Griffith', 'first_name': 'Latoya', 'email': 'ryan32@skinner.com', 'country': 'Lesotho', 'account': 'BNYD8693045932496'}, {'last_name': 'Blair', 'first_name': 'Kim', 'email': 'tmurphy@flores.biz', 'country': 'Nepal', 'account': 'FQJA6381776349463'}, {'last_name': 'Salazar', 'first_name': 'Mary', 'email': 'mary64@ray.org', 'country': 'Latvia', 'account': 'KCNI2464381879411'}, {'last_name': 'Krueger', 'first_name': 'Kenneth', 'email': 'jennajoseph@yahoo.com', 'country': 'Central African Republic', 'account': 'BIGY3006735396533'}, {'last_name': 'Burke', 'first_name': 'Phillip', 'email': 'watsonsamuel@gmail.com', 'country': 'Peru', 'account': 'CNJX1222752295544'}, {'last_name': 'Juarez', 'first_name': 'Erica', 'email': 'xvelasquez@hughes.com', 'country': 'Spain', 'account': 'ZROP5229895490397'}, {'last_name': 'Watkins', 'first_name': 'Jason', 'email': 'april99@gmail.com', 'country': 'Seychelles', 'account': 'NXKK2792812848629'}, {'last_name': 'Carter', 'first_name': 'Lee', 'email': 'kfletcher@yahoo.com', 'country': 'Faroe Islands', 'account': 'DPLN5056382218296'}, {'last_name': 'Huang', 'first_name': 'Randy', 'email': 'xchurch@hotmail.com', 'country': 'Tokelau', 'account': 'KAOL9792684486009'}, {'last_name': 'Owen', 'first_name': 'Kristina', 'email': 'megan24@stewart.net', 'country': 'Cocos (Keeling) Islands', 'account': 'WRXW4627191899235'}, {'last_name': 'Turner', 'first_name': 'Beth', 'email': 'sydneycollins@hunter.com', 'country': 'Burundi', 'account': 'OMOK4767172062189'}, {'last_name': 'Aguirre', 'first_name': 'Michael', 'email': 'robertbowen@chavez-ortega.com', 'country': 'Timor-Leste', 'account': 'KRKF7344951038740'}, {'last_name': 'Wilson', 'first_name': 'Elizabeth', 'email': 'christiandanielle@yahoo.com', 'country': 'Montserrat', 'account': 'SAAA4141150617330'}, {'last_name': 'Hardy', 'first_name': 'Teresa', 'email': 'kdavidson@gordon.com', 'country': 'Norway', 'account': 'XNWQ1072087896797'}, {'last_name': 'Stewart', 'first_name': 'David', 'email': 'bennettwanda@vega-guerra.net', 'country': 'Sierra Leone', 'account': 'FTHM1005169617995'}, {'last_name': 'Moore', 'first_name': 'Heather', 'email': 'mark00@hotmail.com', 'country': 'French Polynesia', 'account': 'OSSM9070924947595'}, {'last_name': 'Grant', 'first_name': 'Melissa', 'email': 'schaefernatalie@hotmail.com', 'country': 'French Guiana', 'account': 'CFQJ4204773901237'}, {'last_name': 'Thompson', 'first_name': 'Jennifer', 'email': 'moralesmartin@rodgers.com', 'country': 'Cape Verde', 'account': 'MGFG2793756668287'}, {'last_name': 'Anderson', 'first_name': 'Raymond', 'email': 'dprince@hotmail.com', 'country': 'Barbados', 'account': 'IGXK5881682171566'}, {'last_name': 'Ramsey', 'first_name': 'Angela', 'email': 'cparks@valdez-hudson.com', 'country': 'Andorra', 'account': 'QYBW6359021109484'}, {'last_name': 'Gonzales', 'first_name': 'Betty', 'email': 'martinezrichard@yahoo.com', 'country': 'Montserrat', 'account': 'UTSI0776569247505'}, {'last_name': 'Castaneda', 'first_name': 'Thomas', 'email': 'kpena@yahoo.com', 'country': 'Egypt', 'account': 'LSDI9463735752680'}, {'last_name': 'Todd', 'first_name': 'Jonathan', 'email': 'julie68@gmail.com', 'country': 'Malaysia', 'account': 'ISYY1401931979959'}, {'last_name': 'Garcia', 'first_name': 'Stacey', 'email': 'lukebradford@hotmail.com', 'country': 'Zimbabwe', 'account': 'HNOA0376843856035'}, {'last_name': 'Figueroa', 'first_name': 'Judy', 'email': 'ystewart@yahoo.com', 'country': 'Portugal', 'account': 'EEVV8325881104553'}, {'last_name': 'Castillo', 'first_name': 'Ashley', 'email': 'cory33@king-shaw.net', 'country': 'Paraguay', 'account': 'QXGZ3111246190069'}, {'last_name': 'Flores', 'first_name': 'Zachary', 'email': 'zcalhoun@gmail.com', 'country': 'Central African Republic', 'account': 'ACQR2846533122117'}, {'last_name': 'Allen', 'first_name': 'Erica', 'email': 'michaelhall@hotmail.com', 'country': 'Palau', 'account': 'ZAZD8310339637467'}, {'last_name': 'Potts', 'first_name': 'Savannah', 'email': 'kristentaylor@yahoo.com', 'country': 'Micronesia', 'account': 'ARWK1547324119222'}, {'last_name': 'Wheeler', 'first_name': 'Zachary', 'email': 'stephen63@yahoo.com', 'country': 'Armenia', 'account': 'OMQX4840913072589'}, {'last_name': 'Thomas', 'first_name': 'Timothy', 'email': 'bryanmartin@gmail.com', 'country': 'Bahrain', 'account': 'OCFV4659464275270'}, {'last_name': 'Mcknight', 'first_name': 'Ann', 'email': 'kristinavelasquez@gmail.com', 'country': 'Guatemala', 'account': 'DTRB4720098955341'}, {'last_name': 'Thompson', 'first_name': 'Ruth', 'email': 'denise01@burns.org', 'country': 'Saint Vincent and the Grenadines', 'account': 'YYHM5758234683389'}, {'last_name': 'Levy', 'first_name': 'Daniel', 'email': 'beancody@jones.com', 'country': 'Kazakhstan', 'account': 'AHBN3151680654826'}, {'last_name': 'Hubbard', 'first_name': 'Paul', 'email': 'ubradley@yahoo.com', 'country': 'Germany', 'account': 'FGBC0366153271398'}, {'last_name': 'Jones', 'first_name': 'Jason', 'email': 'anthony75@yahoo.com', 'country': 'Western Sahara', 'account': 'MHTE8867005510944'}, {'last_name': 'Garcia', 'first_name': 'Margaret', 'email': 'antonio52@gmail.com', 'country': 'Togo', 'account': 'IYOD4325345823013'}, {'last_name': 'Peters', 'first_name': 'Jeremy', 'email': 'johnlewis@hotmail.com', 'country': 'Guam', 'account': 'NZFX8257739892619'}, {'last_name': 'Stone', 'first_name': 'Mark', 'email': 'nmoore@hotmail.com', 'country': 'Kuwait', 'account': 'MWRB2515761996641'}, {'last_name': 'Edwards', 'first_name': 'Darius', 'email': 'nchurch@yahoo.com', 'country': 'Eritrea', 'account': 'CURJ9953745256871'}, {'last_name': 'Lawson', 'first_name': 'Tracy', 'email': 'piercejenna@gmail.com', 'country': 'Czech Republic', 'account': 'ATOT8581137487723'}, {'last_name': 'Cooper', 'first_name': 'Christina', 'email': 'ddavidson@hotmail.com', 'country': 'Maldives', 'account': 'RQGA0882784089265'}, {'last_name': 'Harris', 'first_name': 'Megan', 'email': 'ndelacruz@yahoo.com', 'country': 'Armenia', 'account': 'EOPA8088866975598'}, {'last_name': 'Jones', 'first_name': 'Timothy', 'email': 'jenniferadkins@griffin.biz', 'country': 'Benin', 'account': 'JCUN9597199552039'}, {'last_name': 'Burch', 'first_name': 'Tracie', 'email': 'evansmiguel@yahoo.com', 'country': 'Fiji', 'account': 'IZYL3351829981461'}, {'last_name': 'Chung', 'first_name': 'Jason', 'email': 'kenneththompson@baxter.com', 'country': 'Iceland', 'account': 'JDIH2349154465371'}, {'last_name': 'Melton', 'first_name': 'Samantha', 'email': 'bcurtis@hotmail.com', 'country': 'Macedonia', 'account': 'VRZP1447516193511'}, {'last_name': 'Hansen', 'first_name': 'Michael', 'email': 'phillipssean@hotmail.com', 'country': 'Serbia', 'account': 'QKAF2254397516681'}]\n"
     ]
    }
   ],
   "source": [
    "##############################################################\n",
    "# dict_ex1.py\n",
    "# Load people.tsv into a dictionary. \n",
    "# Prompt user for filename\n",
    "\n",
    "\n",
    "filename = input('Enter filename to read: ')\n",
    "\n",
    "people_list = []\n",
    "header = None\n",
    "with open(filename) as file:\n",
    "    for line in file:\n",
    "        # skip empty line\n",
    "        if not line.strip():\n",
    "            continue\n",
    "        \n",
    "        if not header:\n",
    "            header = line.strip().split('\\t')\n",
    "            continue\n",
    "            \n",
    "        \n",
    "        data = line.strip().split('\\t')\n",
    "        people_list.append(dict(zip(header,data)))\n",
    "        \n",
    "    \n",
    "print(people_list)"
   ]
  },
  {
   "cell_type": "code",
   "execution_count": 11,
   "metadata": {},
   "outputs": [
    {
     "name": "stdout",
     "output_type": "stream",
     "text": [
      "{'col1': 1, 'col2': 2, 'col3': 4, 'col4': 5}\n"
     ]
    }
   ],
   "source": [
    "a = ['col1', 'col2', 'col3', 'col3', 'col4', 'col5']\n",
    "b = [1, 2, 3, 4, 5]\n",
    "\n",
    "print(dict(zip(a,b)))"
   ]
  },
  {
   "cell_type": "code",
   "execution_count": 14,
   "metadata": {},
   "outputs": [
    {
     "ename": "ValueError",
     "evalue": "dictionary update sequence element #0 has length 3; 2 is required",
     "output_type": "error",
     "traceback": [
      "\u001b[1;31m---------------------------------------------------------------------------\u001b[0m",
      "\u001b[1;31mValueError\u001b[0m                                Traceback (most recent call last)",
      "\u001b[1;32m<ipython-input-14-3b669a7b3d55>\u001b[0m in \u001b[0;36m<module>\u001b[1;34m\u001b[0m\n\u001b[0;32m      3\u001b[0m \u001b[0mc\u001b[0m \u001b[1;33m=\u001b[0m \u001b[1;33m[\u001b[0m\u001b[1;36m21\u001b[0m\u001b[1;33m,\u001b[0m \u001b[1;36m22\u001b[0m\u001b[1;33m,\u001b[0m \u001b[1;36m23\u001b[0m\u001b[1;33m]\u001b[0m\u001b[1;33m\u001b[0m\u001b[1;33m\u001b[0m\u001b[0m\n\u001b[0;32m      4\u001b[0m \u001b[1;33m\u001b[0m\u001b[0m\n\u001b[1;32m----> 5\u001b[1;33m \u001b[0mprint\u001b[0m\u001b[1;33m(\u001b[0m\u001b[0mdict\u001b[0m\u001b[1;33m(\u001b[0m\u001b[0mzip\u001b[0m\u001b[1;33m(\u001b[0m\u001b[0ma\u001b[0m\u001b[1;33m,\u001b[0m \u001b[0mb\u001b[0m\u001b[1;33m,\u001b[0m \u001b[0mc\u001b[0m\u001b[1;33m)\u001b[0m\u001b[1;33m)\u001b[0m\u001b[1;33m)\u001b[0m\u001b[1;33m\u001b[0m\u001b[1;33m\u001b[0m\u001b[0m\n\u001b[0m",
      "\u001b[1;31mValueError\u001b[0m: dictionary update sequence element #0 has length 3; 2 is required"
     ]
    }
   ],
   "source": [
    "a = [1, 2, 3]\n",
    "b = [11, 12, 13]\n",
    "c = [21, 22, 23]\n",
    "\n",
    "print(dict(zip(a, b, c)))"
   ]
  },
  {
   "cell_type": "code",
   "execution_count": 17,
   "metadata": {},
   "outputs": [
    {
     "data": {
      "text/plain": [
       "'Mar'"
      ]
     },
     "execution_count": 17,
     "metadata": {},
     "output_type": "execute_result"
    }
   ],
   "source": [
    "####################################################\n",
    "# dict_ex2.py \n",
    "# Write a function to convert month number to \n",
    "# month name. First use a list and then a dictionary\n",
    "\n",
    "month_list = [\n",
    "    '', \n",
    "    'Jan', \n",
    "    'Feb',\n",
    "    'Mar', \n",
    "    'Apr',\n",
    "    'May', \n",
    "    'Jun', \n",
    "    'Jul', \n",
    "    'Aug', \n",
    "    'Sept', \n",
    "    'Oct', \n",
    "    'Nov', \n",
    "    'Dec'\n",
    "]\n",
    "\n",
    "month_list[3]\n",
    "\n",
    "\n",
    "month_dict = {\n",
    "    1: 'Jan',\n",
    "    2: 'Feb',\n",
    "    3: 'Mar'\n",
    "}\n",
    "\n",
    "\n",
    "month_dict[3]"
   ]
  },
  {
   "cell_type": "code",
   "execution_count": 18,
   "metadata": {},
   "outputs": [
    {
     "name": "stdout",
     "output_type": "stream",
     "text": [
      "test\tabcd\n"
     ]
    }
   ],
   "source": [
    "my_string = 'test\\tabcd'\n",
    "print(my_string)"
   ]
  },
  {
   "cell_type": "code",
   "execution_count": 36,
   "metadata": {
    "scrolled": true
   },
   "outputs": [
    {
     "name": "stdout",
     "output_type": "stream",
     "text": [
      "443355555566602225552777777771111\n"
     ]
    }
   ],
   "source": [
    "####################################################\n",
    "# dict_ex3.py \n",
    "# Convert text message to numbers\n",
    "\n",
    "# 0 \tspace\n",
    "# 1 \t., ?, !\n",
    "# 2 \tABC\n",
    "# 3 \tDEF\n",
    "# 4 \tGHI\n",
    "# 5 \tJKL\n",
    "# 6 \tMNO\n",
    "# 7 \tPQRS\n",
    "# 8 \tTUV\n",
    "# 9 \tWXYZ\n",
    "\n",
    "from pprint import pprint\n",
    "def convert_message_to_numbers(message):\n",
    "# {' ': 0,\n",
    "#  '!': 1,\n",
    "#  ',': 1,\n",
    "#  '.': 1,\n",
    "#  '?': 1,\n",
    "#  'A': 2,\n",
    "#  'B': 2,\n",
    "#  'C': 2,\n",
    "#  'D': 3,\n",
    "#  'E': 3,\n",
    "#  'F': 3,\n",
    "#  'G': 4,\n",
    "#  'H': 4,\n",
    "#  'I': 4,\n",
    "#  'J': 5,\n",
    "#  'K': 5,\n",
    "#  'L': 5,\n",
    "#  'M': 6,\n",
    "#  'N': 6,\n",
    "#  'O': 6,\n",
    "#  'P': 7,\n",
    "#  'Q': 7,\n",
    "#  'R': 7,\n",
    "#  'S': 7,\n",
    "#  'T': 8,\n",
    "#  'U': 8,\n",
    "#  'V': 8,\n",
    "#  'W': 9,\n",
    "#  'X': 9,\n",
    "#  'Y': 9,\n",
    "#  'Z': 9}\n",
    "    \n",
    "    \n",
    "    lookup = {\n",
    "        0: ' ',\n",
    "        1: '.,?!',\n",
    "        2: 'ABC',\n",
    "        3: 'DEF',\n",
    "        4: 'GHI',\n",
    "        5: 'JKL',\n",
    "        6: 'MNO',\n",
    "        7: 'PQRS',\n",
    "        8: 'TUV',\n",
    "        9: 'WXYZ'\n",
    "    }\n",
    "\n",
    "\n",
    "    lookup_map = {}\n",
    "\n",
    "    for key, value in lookup.items():\n",
    "#         print(f'{key}: {value}')\n",
    "        for idx, ele in enumerate(value, 1):\n",
    "#             print(f'--- {ele}: {key}')\n",
    "            lookup_map[str(ele)] = str(key)*idx    \n",
    "    \n",
    "    output = ''\n",
    "    \n",
    "    for char in message:\n",
    "        output += lookup_map[char.upper()]\n",
    "        \n",
    "    print(output)\n",
    "            \n",
    "#    \n",
    "convert_message_to_numbers('Hello Class!')"
   ]
  },
  {
   "cell_type": "code",
   "execution_count": 24,
   "metadata": {},
   "outputs": [
    {
     "name": "stdout",
     "output_type": "stream",
     "text": [
      "1\n",
      "2\n",
      "3\n",
      "4\n"
     ]
    }
   ],
   "source": [
    "x = [1, 2, 3, 4]\n",
    "\n",
    "for ele in x:\n",
    "    print(ele)"
   ]
  },
  {
   "cell_type": "code",
   "execution_count": 26,
   "metadata": {},
   "outputs": [
    {
     "name": "stdout",
     "output_type": "stream",
     "text": [
      "0 1\n",
      "1 2\n",
      "2 3\n",
      "3 4\n"
     ]
    }
   ],
   "source": [
    "idx = 0\n",
    "for ele in x:\n",
    "    print(idx, ele)\n",
    "    idx += 1\n",
    "    \n"
   ]
  },
  {
   "cell_type": "code",
   "execution_count": 27,
   "metadata": {},
   "outputs": [
    {
     "name": "stdout",
     "output_type": "stream",
     "text": [
      "0 1\n",
      "1 2\n",
      "2 3\n",
      "3 4\n"
     ]
    }
   ],
   "source": [
    "for idx, ele in enumerate(x):\n",
    "    print(idx, ele)"
   ]
  },
  {
   "cell_type": "code",
   "execution_count": 28,
   "metadata": {},
   "outputs": [
    {
     "name": "stdout",
     "output_type": "stream",
     "text": [
      "1 1\n",
      "2 2\n",
      "3 3\n",
      "4 4\n"
     ]
    }
   ],
   "source": [
    "for idx, ele in enumerate(x, 1):\n",
    "    print(idx, ele)"
   ]
  },
  {
   "cell_type": "code",
   "execution_count": 29,
   "metadata": {},
   "outputs": [
    {
     "name": "stdout",
     "output_type": "stream",
     "text": [
      "100 1\n",
      "101 2\n",
      "102 3\n",
      "103 4\n"
     ]
    }
   ],
   "source": [
    "for idx, ele in enumerate(x, 100):\n",
    "    print(idx, ele)"
   ]
  },
  {
   "cell_type": "code",
   "execution_count": 64,
   "metadata": {},
   "outputs": [
    {
     "name": "stdout",
     "output_type": "stream",
     "text": [
      "{2: 33,\n",
      " 3: 53,\n",
      " 4: 83,\n",
      " 5: 126,\n",
      " 6: 141,\n",
      " 7: 167,\n",
      " 8: 123,\n",
      " 9: 114,\n",
      " 10: 76,\n",
      " 11: 52,\n",
      " 12: 32}\n",
      "SUm       Simulated Percent     Expected Percent \n",
      "\n",
      "2                       3.3                 2.78\n",
      "3                       5.3                 5.56\n",
      "4                       8.3                 8.33\n",
      "5                      12.6                11.11\n",
      "6                      14.1                13.89\n",
      "7                      16.7                16.67\n",
      "8                      12.3                13.89\n",
      "9                      11.4                11.11\n",
      "10                      7.6                 8.33\n",
      "11                      5.2                 5.56\n",
      "12                      3.2                 2.78\n"
     ]
    }
   ],
   "source": [
    "######################################################\n",
    "# dict_ex5.py\n",
    "# Simulate two dice. Print the total, theoretical/expected probability, and simulated probability\n",
    "# input: the number of simulations\n",
    "# https://socratic.org/questions/what-is-the-expected-value-of-the-sum-of-two-rolls-of-a-six-sided-die\n",
    "# Total     Simulated Percent     Expected Percent \n",
    "\n",
    "# 2                      2.76                 2.78\n",
    "# 3                      5.57                 5.56\n",
    "# 4                      8.34                 8.33\n",
    "# 5                      11.1                11.11\n",
    "# 6                     13.83                13.89\n",
    "# 7                     16.68                16.67\n",
    "# 8                      13.9                13.89\n",
    "# 9                      11.1                11.11\n",
    "# 10                     8.36                 8.33\n",
    "# 11                     5.57                 5.56\n",
    "# 12                     2.79                 2.78\n",
    "\n",
    "\n",
    "\n",
    "def simulate_two_dice(no_simulation):\n",
    "    import random\n",
    "    theoretical_probabilities = [\n",
    "        0, # 0\n",
    "        0, # 1\n",
    "        1 / 36, # 2 --  1/6 * 1/6\n",
    "        2 / 36, # 3\n",
    "        3 / 36, #4 \n",
    "        4 / 36,\n",
    "        5 / 36,\n",
    "        6 / 36,\n",
    "        5 / 36,\n",
    "        4 / 36,\n",
    "        3 / 36,\n",
    "        2 / 36,\n",
    "        1 / 36,\n",
    "    ]\n",
    "\n",
    "    two_dice = {}\n",
    "    two_dice = {}.fromkeys(range(2,13), 0)\n",
    "    for no in range(no_simulation):\n",
    "        dice1 = random.randint(1, 6)\n",
    "        dice2 = random.randint(1, 6)\n",
    "\n",
    "        total = dice1 + dice2\n",
    "#         if total not in two_dice:\n",
    "#             two_dice[total] = 0\n",
    "            \n",
    "        two_dice[total] += 1\n",
    "    \n",
    "    pprint(two_dice)\n",
    "\n",
    "    simulated_probability = [0, 0]\n",
    "\n",
    "    for number in range(2, 13):\n",
    "        simulated_probability.append(two_dice[number] / no_simulation)\n",
    "\n",
    "    column1 = 'Total'\n",
    "    column2 = 'Simulated Percent'\n",
    "    column3 = 'Expected Percent'\n",
    "\n",
    "    print(\n",
    "        column1.ljust(6),\n",
    "        column2.rjust(20),\n",
    "        column3.rjust(20),\n",
    "        '\\n'\n",
    "    )\n",
    "    for number in range(2, 13):\n",
    "        sp = round(simulated_probability[number] * 100, 2)\n",
    "        tp = round(theoretical_probabilities[number] * 100, 2)\n",
    "        print(\n",
    "            str(number).ljust(6),\n",
    "            str(sp).rjust(20),\n",
    "            str(tp).rjust(20),\n",
    "        )\n",
    "\n",
    "\n",
    "simulate_two_dice(1000)"
   ]
  },
  {
   "cell_type": "code",
   "execution_count": 49,
   "metadata": {},
   "outputs": [],
   "source": [
    "two_dice = {}.fromkeys(range(2,13), 0)"
   ]
  },
  {
   "cell_type": "code",
   "execution_count": 50,
   "metadata": {},
   "outputs": [
    {
     "data": {
      "text/plain": [
       "{2: 0, 3: 0, 4: 0, 5: 0, 6: 0, 7: 0, 8: 0, 9: 0, 10: 0, 11: 0, 12: 0}"
      ]
     },
     "execution_count": 50,
     "metadata": {},
     "output_type": "execute_result"
    }
   ],
   "source": [
    "two_dice"
   ]
  },
  {
   "cell_type": "code",
   "execution_count": 54,
   "metadata": {},
   "outputs": [],
   "source": [
    "# sum = 2 -- 1 + 1 == 1/6 * 1/6 = 1/36"
   ]
  },
  {
   "cell_type": "code",
   "execution_count": null,
   "metadata": {},
   "outputs": [],
   "source": []
  },
  {
   "cell_type": "code",
   "execution_count": 55,
   "metadata": {},
   "outputs": [
    {
     "name": "stdout",
     "output_type": "stream",
     "text": [
      "{'blah': 2}\n"
     ]
    }
   ],
   "source": [
    "my_dict = {}\n",
    "\n",
    "my_dict['blah'] = 2\n",
    "\n",
    "print(my_dict)"
   ]
  },
  {
   "cell_type": "code",
   "execution_count": 56,
   "metadata": {},
   "outputs": [],
   "source": [
    "my_dict = {}\n",
    "\n",
    "for ele in range(10):\n",
    "    my_dict[ele] = ele**ele"
   ]
  },
  {
   "cell_type": "code",
   "execution_count": 57,
   "metadata": {},
   "outputs": [
    {
     "data": {
      "text/plain": [
       "{0: 1,\n",
       " 1: 1,\n",
       " 2: 4,\n",
       " 3: 27,\n",
       " 4: 256,\n",
       " 5: 3125,\n",
       " 6: 46656,\n",
       " 7: 823543,\n",
       " 8: 16777216,\n",
       " 9: 387420489}"
      ]
     },
     "execution_count": 57,
     "metadata": {},
     "output_type": "execute_result"
    }
   ],
   "source": [
    "my_dict"
   ]
  },
  {
   "cell_type": "code",
   "execution_count": 62,
   "metadata": {},
   "outputs": [
    {
     "ename": "TypeError",
     "evalue": "unhashable type: 'set'",
     "output_type": "error",
     "traceback": [
      "\u001b[1;31m---------------------------------------------------------------------------\u001b[0m",
      "\u001b[1;31mTypeError\u001b[0m                                 Traceback (most recent call last)",
      "\u001b[1;32m<ipython-input-62-2394a48005b1>\u001b[0m in \u001b[0;36m<module>\u001b[1;34m\u001b[0m\n\u001b[1;32m----> 1\u001b[1;33m \u001b[1;33m{\u001b[0m\u001b[1;33m{\u001b[0m\u001b[1;36m123\u001b[0m\u001b[1;33m}\u001b[0m\u001b[1;33m,\u001b[0m\u001b[1;33m{\u001b[0m\u001b[1;36m456\u001b[0m\u001b[1;33m}\u001b[0m\u001b[1;33m}\u001b[0m\u001b[1;33m\u001b[0m\u001b[1;33m\u001b[0m\u001b[0m\n\u001b[0m",
      "\u001b[1;31mTypeError\u001b[0m: unhashable type: 'set'"
     ]
    }
   ],
   "source": [
    "{{123},{456}}\n"
   ]
  },
  {
   "cell_type": "code",
   "execution_count": 63,
   "metadata": {},
   "outputs": [
    {
     "data": {
      "text/plain": [
       "{1, 2, 3}"
      ]
     },
     "execution_count": 63,
     "metadata": {},
     "output_type": "execute_result"
    }
   ],
   "source": [
    "{1,2,3}"
   ]
  },
  {
   "cell_type": "code",
   "execution_count": 66,
   "metadata": {},
   "outputs": [
    {
     "name": "stdout",
     "output_type": "stream",
     "text": [
      "9\n"
     ]
    }
   ],
   "source": [
    "# lambda_ex1.py\n",
    "# Write a function that squares a number and returns the value.\n",
    "# Write it again again using Lambda functions\n",
    "\n",
    "\n",
    "def square(n):\n",
    "    return n*n\n",
    "\n",
    "print(square(3))"
   ]
  },
  {
   "cell_type": "code",
   "execution_count": 68,
   "metadata": {},
   "outputs": [
    {
     "name": "stdout",
     "output_type": "stream",
     "text": [
      "9\n"
     ]
    }
   ],
   "source": [
    "a = lambda n: n*n\n",
    "\n",
    "print(a(3))"
   ]
  },
  {
   "cell_type": "code",
   "execution_count": 71,
   "metadata": {},
   "outputs": [
    {
     "name": "stdout",
     "output_type": "stream",
     "text": [
      "6\n"
     ]
    }
   ],
   "source": [
    "asdfsdf = lambda n: n * 2\n",
    "\n",
    "print(asdfsdf(3))"
   ]
  },
  {
   "cell_type": "code",
   "execution_count": 74,
   "metadata": {},
   "outputs": [
    {
     "name": "stdout",
     "output_type": "stream",
     "text": [
      "[1, 4, 9, 16]\n"
     ]
    }
   ],
   "source": [
    "# lambda_ex4.py\n",
    "# 1) Write a function to double a list\n",
    "# 2) Use list comprehension to double a list\n",
    "# 3) Use lambda with map to double a list\n",
    "\n",
    "# lambda functions are used with other functions. Usually with map, filter, sort\n",
    "# map objects are a generator. How many times can you iterate over them?\n",
    "\n",
    "\n",
    "def double_list(input_list):\n",
    "    output_list = []\n",
    "    for ele in input_list:\n",
    "        output_list.append(ele*ele)\n",
    "        \n",
    "    return output_list\n",
    "\n",
    "input_list = [1, 2, 3, 4]\n",
    "print(double_list([1, 2, 3, 4]))"
   ]
  },
  {
   "cell_type": "code",
   "execution_count": 75,
   "metadata": {},
   "outputs": [
    {
     "name": "stdout",
     "output_type": "stream",
     "text": [
      "[1, 4, 9, 16]\n"
     ]
    }
   ],
   "source": [
    "list2x = [ele*ele for ele in input_list ]\n",
    "print(list2x)"
   ]
  },
  {
   "cell_type": "code",
   "execution_count": 79,
   "metadata": {},
   "outputs": [
    {
     "name": "stdout",
     "output_type": "stream",
     "text": [
      "[1, 4, 9, 16]\n"
     ]
    }
   ],
   "source": [
    "# map(function, sequence)\n",
    "\n",
    "output = map(lambda ele: ele*ele, input_list)\n",
    "print(list(output))"
   ]
  },
  {
   "cell_type": "code",
   "execution_count": 80,
   "metadata": {},
   "outputs": [
    {
     "name": "stdout",
     "output_type": "stream",
     "text": [
      "[1, 4, 9, 16]\n"
     ]
    }
   ],
   "source": [
    "def test(ele):\n",
    "    return ele*ele\n",
    "output = map(test, input_list)\n",
    "print(list(output))"
   ]
  },
  {
   "cell_type": "code",
   "execution_count": 82,
   "metadata": {},
   "outputs": [
    {
     "name": "stdout",
     "output_type": "stream",
     "text": [
      "['John', 'Jane', 'Doe']\n",
      "['John', 'Jane', 'Doe']\n",
      "['John', 'Jane', 'Doe']\n",
      "['John', 'Jane', 'Doe']\n"
     ]
    }
   ],
   "source": [
    "# lambda_ex5.py\n",
    "# Capitalize the names in the students list \n",
    "# 1) using a list and loop\n",
    "# 2) using list comprehension\n",
    "# 3) using lambda and map\n",
    "\n",
    "students = ['john', 'jane', 'doe']\n",
    "\n",
    "# make upper case\n",
    "\n",
    "\n",
    "# method 1 create new list and loop\n",
    "new_list = []\n",
    "for student in students:\n",
    "    new_list.append(student.title())\n",
    "\n",
    "print(new_list)\n",
    "\n",
    "# method 2 -- use list comprehension\n",
    "\n",
    "print([student[0].upper()+student[1:] for student in students])\n",
    "\n",
    "print([student.title() for student in students])\n",
    "\n",
    "# method 3 -- use lambda\n",
    "\n",
    "print(list(map(lambda student: student.title(), students)))\n",
    "\n"
   ]
  },
  {
   "cell_type": "code",
   "execution_count": 83,
   "metadata": {},
   "outputs": [
    {
     "name": "stdout",
     "output_type": "stream",
     "text": [
      "[{'Value': 34.4}, {'Value': 45.3}, {'Value': 73.4}]\n"
     ]
    }
   ],
   "source": [
    "# lambda_ex6.py\n",
    "# Using lambda and map, convert the numbers to float\n",
    "\n",
    "# covert each value to float\n",
    "\n",
    "my_dict = [{'value': '34.4'}, {'value': '45.3'}, {'value': '73.4'}]\n",
    "\n",
    "print(list(map(lambda ele: {'Value': float(ele['value'])}, my_dict)))\n"
   ]
  },
  {
   "cell_type": "code",
   "execution_count": 85,
   "metadata": {},
   "outputs": [
    {
     "name": "stdout",
     "output_type": "stream",
     "text": [
      "[{'Value': '34.4'}, {'Value': '45.3'}, {'Value': '73.4'}]\n"
     ]
    }
   ],
   "source": [
    "my_list2 = [{'Value': ele['value']} for ele in my_dict]\n",
    "print(my_list2)"
   ]
  },
  {
   "cell_type": "code",
   "execution_count": 90,
   "metadata": {},
   "outputs": [
    {
     "name": "stdout",
     "output_type": "stream",
     "text": [
      "[1972, 1976, 1980, 1984, 1988, 1992, 1996]\n",
      "[1972, 1976, 1980, 1984, 1988, 1992, 1996]\n",
      "[394.4, 395.2, 396.0, 396.8, 397.6, 398.4, 399.2]\n"
     ]
    }
   ],
   "source": [
    "# lambda_ex7.py\n",
    "# Create a dictionary where the key is year and \n",
    "# value is True/False if the year is a leap year\n",
    "# 1) using a loop and dict\n",
    "# 2) using filter without a function\n",
    "# 3)\n",
    "\n",
    "years = range(1970, 2000) # for these years\n",
    "\n",
    "def is_leap_year(year):\n",
    "    # does not work for century year\n",
    "    if year % 4 == 0:\n",
    "        return True\n",
    "    else:\n",
    "        return False\n",
    "\n",
    "my_dict = {}\n",
    "leap_years = []\n",
    "for year in years:\n",
    "    my_dict.update({year: is_leap_year(year)})\n",
    "    if is_leap_year(year):\n",
    "        leap_years.append(year)\n",
    "\n",
    "# import pprint\n",
    "# pprint.pprint(my_dict)\n",
    "# print(leap_years)\n",
    "\n",
    "# filter(function, sequence)\n",
    "\n",
    "leap_year_lambda = lambda year: year % 4 == 0 \n",
    "\n",
    "filter(leap_year_lambda, range(1970, 2000))\n",
    "\n",
    "print(list(filter(lambda year: year % 4 == 0, range(1970, 2000))))\n",
    "print(list(filter(lambda year: is_leap_year(year), range(1970, 2000))))\n",
    "print(list(map(lambda year: year/5, filter(lambda year: year % 4 == 0, range(1970, 2000)))))\n",
    "\n",
    "# # # combining map with filter\n",
    "\n",
    "# print(list(map(lambda year: f'{year} is a leap year!', filter(lambda year: year % 4 == 0, range(1970, 2000)) )))\n",
    "\n",
    "\n",
    "# # # list comprehension\n",
    "\n",
    "# # print()\n",
    "# print([f'{year} is a leap year' for year in range(1970, 2000) if year % 4 == 0])\n",
    "\n"
   ]
  },
  {
   "cell_type": "code",
   "execution_count": 97,
   "metadata": {},
   "outputs": [
    {
     "name": "stdout",
     "output_type": "stream",
     "text": [
      "[1970, 1971, 1972, 1973, 1974, 1975, 1976, 1977, 1978, 1979, 1980, 1981, 1982, 1983, 1984, 1985, 1986, 1987, 1988, 1989, 1990, 1991, 1992, 1993, 1994, 1995, 1996, 1997, 1998, 1999]\n",
      "[1972, 1976, 1980, 1984, 1988, 1992, 1996]\n"
     ]
    }
   ],
   "source": [
    "print(list(range(1970, 2000)))\n",
    "print(list(filter(lambda year: year % 4 == 0 , range(1970, 2000))))"
   ]
  },
  {
   "cell_type": "code",
   "execution_count": 98,
   "metadata": {},
   "outputs": [
    {
     "name": "stdout",
     "output_type": "stream",
     "text": [
      "['1972 is a leap year', '1976 is a leap year', '1980 is a leap year', '1984 is a leap year', '1988 is a leap year', '1992 is a leap year', '1996 is a leap year']\n"
     ]
    }
   ],
   "source": [
    "# print()\n",
    "print([f'{year} is a leap year' for year in range(1970, 2000) if year % 4 == 0])"
   ]
  },
  {
   "cell_type": "code",
   "execution_count": 105,
   "metadata": {},
   "outputs": [
    {
     "name": "stdout",
     "output_type": "stream",
     "text": [
      "[('abc', 3), ('efg', 1), ('hij', 2)]\n",
      "[('abc', 3), ('efg', 1), ('hij', 2)]\n"
     ]
    }
   ],
   "source": [
    "\n",
    "# lambda_ex8.py\n",
    "# Sort x using value\n",
    "x = (('efg', 1), ('abc', 3), ('hij', 2))\n",
    "\n",
    "print(sorted(x)) # does work\n",
    "func1 = lambda x: x[0]\n",
    "print(sorted(x, key=func1))\n"
   ]
  },
  {
   "cell_type": "code",
   "execution_count": 100,
   "metadata": {},
   "outputs": [
    {
     "name": "stdout",
     "output_type": "stream",
     "text": [
      "[-30, 1, 41, 2222]\n"
     ]
    }
   ],
   "source": [
    "x = [1, 2222, -30, 41]\n",
    "print(sorted(x))"
   ]
  },
  {
   "cell_type": "code",
   "execution_count": 101,
   "metadata": {},
   "outputs": [
    {
     "data": {
      "text/plain": [
       "[2222, 41, 1, -30]"
      ]
     },
     "execution_count": 101,
     "metadata": {},
     "output_type": "execute_result"
    }
   ],
   "source": [
    "sorted(x, reverse=True)"
   ]
  },
  {
   "cell_type": "code",
   "execution_count": 108,
   "metadata": {},
   "outputs": [
    {
     "name": "stdout",
     "output_type": "stream",
     "text": [
      "[{'username': 'doe', 'grade': 35}, {'username': 'john', 'grade': 50}, {'username': 'jane', 'grade': 80}, {'grade': 89, 'username': 'Kelly'}]\n",
      "\n",
      "[{'username': 'john', 'grade': 50}, {'username': 'jane', 'grade': 80}, {'username': 'doe', 'grade': 35}, {'grade': 89, 'username': 'Kelly'}]\n"
     ]
    }
   ],
   "source": [
    "# lambda_ex9.py\n",
    "# sort dictionary by username \n",
    "# reverse sort\n",
    "\n",
    "students = [\n",
    "    {'username': 'john', 'grade': 50},\n",
    "    {'username': 'jane', 'grade': 80},\n",
    "    {'username': 'doe', 'grade': 35},\n",
    "    {'grade': 89, 'username': 'Kelly'}\n",
    "]\n",
    "\n",
    "from pprint import pprint\n",
    "print(sorted(students, key=lambda student: student['grade']))\n",
    "print()\n",
    "print(sorted(students, key=lambda student: student['username'], reverse=True))"
   ]
  },
  {
   "cell_type": "code",
   "execution_count": 111,
   "metadata": {},
   "outputs": [
    {
     "name": "stdout",
     "output_type": "stream",
     "text": [
      "Janette\n",
      "doe\n",
      "Janette\n"
     ]
    }
   ],
   "source": [
    "# lambda_ex11.py\n",
    "# sort array by len of names\n",
    "students = ['john', 'Janette', 'doe']\n",
    "print(min(students))\n",
    "\n",
    "\n",
    "print(min(students, key=lambda student: len(student)))\n",
    "\n",
    "print(max(students, key=lambda student: len(student)))"
   ]
  },
  {
   "cell_type": "code",
   "execution_count": 114,
   "metadata": {},
   "outputs": [
    {
     "ename": "KeyError",
     "evalue": "'value'",
     "output_type": "error",
     "traceback": [
      "\u001b[1;31m---------------------------------------------------------------------------\u001b[0m",
      "\u001b[1;31mKeyError\u001b[0m                                  Traceback (most recent call last)",
      "\u001b[1;32m<ipython-input-114-a498cffd28bf>\u001b[0m in \u001b[0;36m<module>\u001b[1;34m\u001b[0m\n\u001b[0;32m      4\u001b[0m \u001b[0mmy_list\u001b[0m \u001b[1;33m=\u001b[0m \u001b[1;33m[\u001b[0m\u001b[1;33m{\u001b[0m\u001b[1;34m'value'\u001b[0m\u001b[1;33m:\u001b[0m \u001b[1;34m'34.4'\u001b[0m\u001b[1;33m}\u001b[0m\u001b[1;33m,\u001b[0m \u001b[1;33m{\u001b[0m\u001b[1;34m'value'\u001b[0m\u001b[1;33m:\u001b[0m \u001b[1;34m'45.3'\u001b[0m\u001b[1;33m}\u001b[0m\u001b[1;33m,\u001b[0m \u001b[1;33m{\u001b[0m\u001b[1;34m'value3'\u001b[0m\u001b[1;33m:\u001b[0m \u001b[1;34m'73.4'\u001b[0m\u001b[1;33m}\u001b[0m\u001b[1;33m,\u001b[0m \u001b[1;33m{\u001b[0m\u001b[1;34m'value3'\u001b[0m\u001b[1;33m:\u001b[0m \u001b[1;34m'73.4'\u001b[0m\u001b[1;33m}\u001b[0m\u001b[1;33m]\u001b[0m\u001b[1;33m\u001b[0m\u001b[1;33m\u001b[0m\u001b[0m\n\u001b[0;32m      5\u001b[0m \u001b[1;33m\u001b[0m\u001b[0m\n\u001b[1;32m----> 6\u001b[1;33m \u001b[0mprint\u001b[0m\u001b[1;33m(\u001b[0m\u001b[0msorted\u001b[0m\u001b[1;33m(\u001b[0m\u001b[0mmy_list\u001b[0m\u001b[1;33m,\u001b[0m \u001b[0mkey\u001b[0m\u001b[1;33m=\u001b[0m\u001b[1;32mlambda\u001b[0m \u001b[0mele\u001b[0m\u001b[1;33m:\u001b[0m \u001b[0mfloat\u001b[0m\u001b[1;33m(\u001b[0m\u001b[0mele\u001b[0m\u001b[1;33m[\u001b[0m\u001b[1;34m'value'\u001b[0m\u001b[1;33m]\u001b[0m\u001b[1;33m)\u001b[0m\u001b[1;33m)\u001b[0m\u001b[1;33m)\u001b[0m\u001b[1;33m\u001b[0m\u001b[1;33m\u001b[0m\u001b[0m\n\u001b[0m\u001b[0;32m      7\u001b[0m \u001b[1;33m\u001b[0m\u001b[0m\n\u001b[0;32m      8\u001b[0m \u001b[0mprint\u001b[0m\u001b[1;33m(\u001b[0m\u001b[0mmax\u001b[0m\u001b[1;33m(\u001b[0m\u001b[0mmy_list\u001b[0m\u001b[1;33m,\u001b[0m \u001b[0mkey\u001b[0m\u001b[1;33m=\u001b[0m\u001b[1;32mlambda\u001b[0m \u001b[0mele\u001b[0m\u001b[1;33m:\u001b[0m \u001b[0mfloat\u001b[0m\u001b[1;33m(\u001b[0m\u001b[0mele\u001b[0m\u001b[1;33m[\u001b[0m\u001b[1;34m'value'\u001b[0m\u001b[1;33m]\u001b[0m\u001b[1;33m)\u001b[0m\u001b[1;33m)\u001b[0m\u001b[1;33m)\u001b[0m\u001b[1;33m\u001b[0m\u001b[1;33m\u001b[0m\u001b[0m\n",
      "\u001b[1;32m<ipython-input-114-a498cffd28bf>\u001b[0m in \u001b[0;36m<lambda>\u001b[1;34m(ele)\u001b[0m\n\u001b[0;32m      4\u001b[0m \u001b[0mmy_list\u001b[0m \u001b[1;33m=\u001b[0m \u001b[1;33m[\u001b[0m\u001b[1;33m{\u001b[0m\u001b[1;34m'value'\u001b[0m\u001b[1;33m:\u001b[0m \u001b[1;34m'34.4'\u001b[0m\u001b[1;33m}\u001b[0m\u001b[1;33m,\u001b[0m \u001b[1;33m{\u001b[0m\u001b[1;34m'value'\u001b[0m\u001b[1;33m:\u001b[0m \u001b[1;34m'45.3'\u001b[0m\u001b[1;33m}\u001b[0m\u001b[1;33m,\u001b[0m \u001b[1;33m{\u001b[0m\u001b[1;34m'value3'\u001b[0m\u001b[1;33m:\u001b[0m \u001b[1;34m'73.4'\u001b[0m\u001b[1;33m}\u001b[0m\u001b[1;33m,\u001b[0m \u001b[1;33m{\u001b[0m\u001b[1;34m'value3'\u001b[0m\u001b[1;33m:\u001b[0m \u001b[1;34m'73.4'\u001b[0m\u001b[1;33m}\u001b[0m\u001b[1;33m]\u001b[0m\u001b[1;33m\u001b[0m\u001b[1;33m\u001b[0m\u001b[0m\n\u001b[0;32m      5\u001b[0m \u001b[1;33m\u001b[0m\u001b[0m\n\u001b[1;32m----> 6\u001b[1;33m \u001b[0mprint\u001b[0m\u001b[1;33m(\u001b[0m\u001b[0msorted\u001b[0m\u001b[1;33m(\u001b[0m\u001b[0mmy_list\u001b[0m\u001b[1;33m,\u001b[0m \u001b[0mkey\u001b[0m\u001b[1;33m=\u001b[0m\u001b[1;32mlambda\u001b[0m \u001b[0mele\u001b[0m\u001b[1;33m:\u001b[0m \u001b[0mfloat\u001b[0m\u001b[1;33m(\u001b[0m\u001b[0mele\u001b[0m\u001b[1;33m[\u001b[0m\u001b[1;34m'value'\u001b[0m\u001b[1;33m]\u001b[0m\u001b[1;33m)\u001b[0m\u001b[1;33m)\u001b[0m\u001b[1;33m)\u001b[0m\u001b[1;33m\u001b[0m\u001b[1;33m\u001b[0m\u001b[0m\n\u001b[0m\u001b[0;32m      7\u001b[0m \u001b[1;33m\u001b[0m\u001b[0m\n\u001b[0;32m      8\u001b[0m \u001b[0mprint\u001b[0m\u001b[1;33m(\u001b[0m\u001b[0mmax\u001b[0m\u001b[1;33m(\u001b[0m\u001b[0mmy_list\u001b[0m\u001b[1;33m,\u001b[0m \u001b[0mkey\u001b[0m\u001b[1;33m=\u001b[0m\u001b[1;32mlambda\u001b[0m \u001b[0mele\u001b[0m\u001b[1;33m:\u001b[0m \u001b[0mfloat\u001b[0m\u001b[1;33m(\u001b[0m\u001b[0mele\u001b[0m\u001b[1;33m[\u001b[0m\u001b[1;34m'value'\u001b[0m\u001b[1;33m]\u001b[0m\u001b[1;33m)\u001b[0m\u001b[1;33m)\u001b[0m\u001b[1;33m)\u001b[0m\u001b[1;33m\u001b[0m\u001b[1;33m\u001b[0m\u001b[0m\n",
      "\u001b[1;31mKeyError\u001b[0m: 'value'"
     ]
    }
   ],
   "source": [
    "# lambda_ex12.py\n",
    "# sort dictionary by value\n",
    "\n",
    "my_list = [{'value': '34.4'}, {'value': '45.3'}, {'value3': '73.4'}, {'value3': '73.4'}]\n",
    "\n",
    "print(sorted(my_list, key=lambda ele: float(ele['value'])))\n",
    "\n",
    "print(max(my_list, key=lambda ele: float(ele['value'])))\n"
   ]
  },
  {
   "cell_type": "code",
   "execution_count": 115,
   "metadata": {},
   "outputs": [
    {
     "name": "stdout",
     "output_type": "stream",
     "text": [
      "[-3, -1, 1, 3, 5]\n"
     ]
    }
   ],
   "source": [
    "input = [-4, -2, 0, 2, 4]\n",
    "\n",
    "print(list(map(lambda x: x+1, input)))"
   ]
  },
  {
   "cell_type": "code",
   "execution_count": 116,
   "metadata": {},
   "outputs": [
    {
     "data": {
      "text/plain": [
       "[-4, -2, 0, 2, 4]"
      ]
     },
     "execution_count": 116,
     "metadata": {},
     "output_type": "execute_result"
    }
   ],
   "source": [
    "sequence = [0, 2, 4, -4, -2]\n",
    "\n",
    "sorted(sequence)"
   ]
  },
  {
   "cell_type": "code",
   "execution_count": 121,
   "metadata": {},
   "outputs": [],
   "source": [
    "sequence = [('john', 95, 'USA'), ('jane', 99, 'Canada'), ('doe', 65, 'Mexico')]\n"
   ]
  },
  {
   "cell_type": "code",
   "execution_count": 122,
   "metadata": {},
   "outputs": [
    {
     "data": {
      "text/plain": [
       "[('doe', 65, 'Mexico'), ('jane', 99, 'Canada'), ('john', 95, 'USA')]"
      ]
     },
     "execution_count": 122,
     "metadata": {},
     "output_type": "execute_result"
    }
   ],
   "source": [
    "sorted(sequence)"
   ]
  },
  {
   "cell_type": "code",
   "execution_count": 123,
   "metadata": {},
   "outputs": [
    {
     "data": {
      "text/plain": [
       "[('doe', 65, 'Mexico'), ('john', 95, 'USA'), ('jane', 99, 'Canada')]"
      ]
     },
     "execution_count": 123,
     "metadata": {},
     "output_type": "execute_result"
    }
   ],
   "source": [
    "sorted(sequence, key=lambda ele: ele[1])"
   ]
  },
  {
   "cell_type": "code",
   "execution_count": 124,
   "metadata": {},
   "outputs": [
    {
     "data": {
      "text/plain": [
       "[('jane', 99, 'Canada'), ('doe', 65, 'Mexico'), ('john', 95, 'USA')]"
      ]
     },
     "execution_count": 124,
     "metadata": {},
     "output_type": "execute_result"
    }
   ],
   "source": [
    "sorted(sequence, key=lambda ele: ele[2])"
   ]
  },
  {
   "cell_type": "code",
   "execution_count": 126,
   "metadata": {},
   "outputs": [
    {
     "data": {
      "text/plain": [
       "('jane', 99, 'Canada')"
      ]
     },
     "execution_count": 126,
     "metadata": {},
     "output_type": "execute_result"
    }
   ],
   "source": [
    "max(sequence, key=lambda ele: ele[1])"
   ]
  },
  {
   "cell_type": "code",
   "execution_count": 127,
   "metadata": {},
   "outputs": [
    {
     "data": {
      "text/plain": [
       "('doe', 65, 'Mexico')"
      ]
     },
     "execution_count": 127,
     "metadata": {},
     "output_type": "execute_result"
    }
   ],
   "source": [
    "min(sequence, key=lambda ele: ele[1])"
   ]
  },
  {
   "cell_type": "code",
   "execution_count": null,
   "metadata": {},
   "outputs": [],
   "source": [
    "my_lambda = lambda x: x * 2\n",
    "\n",
    "return (my_lambda, output)"
   ]
  }
 ],
 "metadata": {
  "kernelspec": {
   "display_name": "Python 3",
   "language": "python",
   "name": "python3"
  },
  "language_info": {
   "codemirror_mode": {
    "name": "ipython",
    "version": 3
   },
   "file_extension": ".py",
   "mimetype": "text/x-python",
   "name": "python",
   "nbconvert_exporter": "python",
   "pygments_lexer": "ipython3",
   "version": "3.8.5"
  }
 },
 "nbformat": 4,
 "nbformat_minor": 4
}
