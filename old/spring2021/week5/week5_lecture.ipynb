{
 "cells": [
  {
   "cell_type": "code",
   "execution_count": 8,
   "metadata": {},
   "outputs": [],
   "source": [
    "##################################################################\n",
    "# for_ex9.py\n",
    "# Write a function that uses the output from the \n",
    "# coin_toss function and calculates the probability of H and T\n",
    "# Input: number of simulation\n",
    "# Output: probability of H and T\n",
    "\n",
    "\n",
    "def coin_toss(number_of_simulations):\n",
    "    import random\n",
    "    \n",
    "    output = ''\n",
    "    for i in range(number_of_simulations):\n",
    "        toss = random.randint(0,1)\n",
    "        \n",
    "        if toss == 0:\n",
    "            toss = 'H'\n",
    "        else:\n",
    "            toss = 'T'\n",
    "            \n",
    "        output += toss\n",
    "        \n",
    "    return output\n",
    "\n",
    "    "
   ]
  },
  {
   "cell_type": "code",
   "execution_count": 21,
   "metadata": {},
   "outputs": [
    {
     "data": {
      "text/plain": [
       "0.6376399666745366"
      ]
     },
     "execution_count": 21,
     "metadata": {},
     "output_type": "execute_result"
    }
   ],
   "source": [
    "random.random()"
   ]
  },
  {
   "cell_type": "code",
   "execution_count": 9,
   "metadata": {},
   "outputs": [
    {
     "name": "stdout",
     "output_type": "stream",
     "text": [
      "HHTHHHTHTT\n"
     ]
    }
   ],
   "source": [
    "output = coin_toss(10)\n",
    "print(output)"
   ]
  },
  {
   "cell_type": "code",
   "execution_count": 48,
   "metadata": {},
   "outputs": [
    {
     "name": "stdout",
     "output_type": "stream",
     "text": [
      "Heads: 49.51; Tails: 50.49\n"
     ]
    }
   ],
   "source": [
    "def calc_prob(no_sims):\n",
    "    results = coin_toss(no_sims)\n",
    "    \n",
    "    H = 0\n",
    "    T = 0\n",
    "    for toss in results:\n",
    "        if toss == 'H':\n",
    "            H += 1\n",
    "        else:\n",
    "            T += 1\n",
    "    \n",
    "    \n",
    "    print(f'Heads: {H/no_sims*100}; Tails: {T/no_sims*100}')\n",
    "\n",
    "calc_prob(10000)"
   ]
  },
  {
   "cell_type": "code",
   "execution_count": 52,
   "metadata": {},
   "outputs": [
    {
     "data": {
      "text/plain": [
       "'D'"
      ]
     },
     "execution_count": 52,
     "metadata": {},
     "output_type": "execute_result"
    }
   ],
   "source": [
    "my_list = ['A', 'B', 'C', 'D']\n",
    "random.choice(my_list)"
   ]
  },
  {
   "cell_type": "code",
   "execution_count": 58,
   "metadata": {},
   "outputs": [
    {
     "name": "stdout",
     "output_type": "stream",
     "text": [
      "Enter a number: 10\n",
      "Enter a number: 0\n",
      "Enter a number: 19\n",
      "Enter a number: \n",
      "9.666666666666666\n"
     ]
    }
   ],
   "source": [
    "# while_ex1\n",
    "# Write a program that takes integers from the user and returns the average\n",
    "# Use a while loop and make an empty string the stop criteria.\n",
    "\n",
    "number = input('Enter a number: ')\n",
    "total = 0\n",
    "number_of_inputs = 0\n",
    "while number:\n",
    "    total += int(number)\n",
    "    number_of_inputs += 1\n",
    "    number = input('Enter a number: ')\n",
    "    \n",
    "print(total/number_of_inputs)"
   ]
  },
  {
   "cell_type": "code",
   "execution_count": 61,
   "metadata": {},
   "outputs": [
    {
     "name": "stdout",
     "output_type": "stream",
     "text": [
      "Enter a number: 10\n",
      "Enter a number: 5\n",
      "Enter a number: 15\n",
      "Enter a number: -1\n",
      "10.0\n"
     ]
    }
   ],
   "source": [
    "###############################################################\n",
    "# while_ex2\n",
    "# Write a program that takes integers from the user and returns the average\n",
    "# Use a while loop and make negative number the stop criteria.\n",
    "\n",
    "number = int(input('Enter a number: '))\n",
    "total = 0\n",
    "number_of_inputs = 0\n",
    "while number >= 0:\n",
    "    total += int(number)\n",
    "    number_of_inputs += 1\n",
    "    number = int(input('Enter a number: '))\n",
    "    \n",
    "print(total/number_of_inputs)"
   ]
  },
  {
   "cell_type": "code",
   "execution_count": 62,
   "metadata": {},
   "outputs": [
    {
     "name": "stdout",
     "output_type": "stream",
     "text": [
      "Enter a number: 10\n",
      "10\n",
      "9\n",
      "8\n",
      "7\n",
      "6\n",
      "5\n",
      "4\n",
      "3\n",
      "2\n",
      "1\n",
      "0\n"
     ]
    }
   ],
   "source": [
    "# while_ex4\n",
    "# Write a program that takes an integer and counts down to zero -- print the value\n",
    "\n",
    "number = int(input('Enter a number: '))\n",
    "\n",
    "while number > -1:\n",
    "    print(number)\n",
    "    number -= 1 \n"
   ]
  },
  {
   "cell_type": "code",
   "execution_count": 64,
   "metadata": {},
   "outputs": [
    {
     "name": "stdout",
     "output_type": "stream",
     "text": [
      "[1, 4, 9, 16, 25]\n"
     ]
    }
   ],
   "source": [
    "# [ f(ele) for ele in sequence ]\n",
    "\n",
    "sequence = [1, 2, 3, 4, 5]\n",
    "\n",
    "my_list = []\n",
    "for ele in sequence:\n",
    "    squared = ele*ele\n",
    "    my_list.append(squared)\n",
    "    \n",
    "\n",
    "print(my_list)"
   ]
  },
  {
   "cell_type": "code",
   "execution_count": 65,
   "metadata": {},
   "outputs": [],
   "source": [
    "my_list2 = [ ele*ele for ele in sequence ]"
   ]
  },
  {
   "cell_type": "code",
   "execution_count": 66,
   "metadata": {},
   "outputs": [
    {
     "name": "stdout",
     "output_type": "stream",
     "text": [
      "[1, 4, 9, 16, 25]\n"
     ]
    }
   ],
   "source": [
    "print(my_list2)"
   ]
  },
  {
   "cell_type": "code",
   "execution_count": 70,
   "metadata": {},
   "outputs": [
    {
     "name": "stdout",
     "output_type": "stream",
     "text": [
      "[1, 4, 9]\n"
     ]
    }
   ],
   "source": [
    "# list_comp_ex1.py\n",
    "# Re-write the following code to use List Comprehension\n",
    "# my_list = [1, 2, 3]\n",
    "# new_list = []\n",
    "# for ele in my_list:\n",
    "#     tmp = ele * ele\n",
    "#     new_list.append(tmp)\n",
    "\n",
    "my_list = [1, 2, 3]\n",
    "new_list = [ele*ele for ele in my_list]\n",
    "print(new_list)"
   ]
  },
  {
   "cell_type": "code",
   "execution_count": 71,
   "metadata": {},
   "outputs": [
    {
     "name": "stdout",
     "output_type": "stream",
     "text": [
      "[10, 20, 30]\n"
     ]
    }
   ],
   "source": [
    "###############################################################\n",
    "# list_comp_ex2.py\n",
    "# Re-write the following code to use List Comprehension\n",
    "# # Multiply each number by 10\n",
    "\n",
    "# my_list = [1, 2, 3]\n",
    "# new_list = []\n",
    "# for ele in my_list:\n",
    "#     tmp = ele * 10\n",
    "#     new_list.append(tmp)\n",
    "my_list = [1, 2, 3]\n",
    "new_list = [ele*10 for ele in my_list]\n",
    "print(new_list)"
   ]
  },
  {
   "cell_type": "code",
   "execution_count": 76,
   "metadata": {},
   "outputs": [
    {
     "name": "stdout",
     "output_type": "stream",
     "text": [
      "['W', 'H', 'E', 'R', 'E', ' ', 'I', 'S', ' ', 'T', 'H', 'E', ' ', 'R', 'E', 'S', 'T', ' ', 'O', 'F', ' ', 'T', 'H', 'E', ' ', 'C', 'L', 'A', 'S', 'S', '?']\n",
      "WHERE IS THE REST OF THE CLASS?\n",
      "WHERE IS THE REST OF THE CLASS?\n"
     ]
    }
   ],
   "source": [
    "my_string = 'where is the rest of the class?'\n",
    "\n",
    "my_string2 = [blah.upper()  for blah in my_string]\n",
    "print(my_string2)\n",
    "\n",
    "my_string3 = ''.join(my_string2)\n",
    "print(my_string3)\n",
    "print(my_string.upper())"
   ]
  },
  {
   "cell_type": "code",
   "execution_count": 77,
   "metadata": {},
   "outputs": [
    {
     "name": "stdout",
     "output_type": "stream",
     "text": [
      "['John', 'Jane', 'Doe']\n"
     ]
    }
   ],
   "source": [
    "###############################################################\n",
    "# list_comp_ex4.py\n",
    "# Title each name in the student list\n",
    "\n",
    "students = ['john', 'jane', 'doe']\n",
    "\n",
    "\n",
    "students = [student.title() for student in students]\n",
    "print(students)"
   ]
  },
  {
   "cell_type": "code",
   "execution_count": 81,
   "metadata": {},
   "outputs": [
    {
     "name": "stdout",
     "output_type": "stream",
     "text": [
      "[False, False, False, True, True, True]\n"
     ]
    }
   ],
   "source": [
    "my_list = [0, '', [], 1, '1', '0']\n",
    "my_list2 = [bool(ele) for ele in my_list]\n",
    "print(my_list2)"
   ]
  },
  {
   "cell_type": "code",
   "execution_count": 79,
   "metadata": {},
   "outputs": [
    {
     "data": {
      "text/plain": [
       "False"
      ]
     },
     "execution_count": 79,
     "metadata": {},
     "output_type": "execute_result"
    }
   ],
   "source": [
    "bool(0)"
   ]
  },
  {
   "cell_type": "code",
   "execution_count": 82,
   "metadata": {},
   "outputs": [
    {
     "name": "stdout",
     "output_type": "stream",
     "text": [
      "['0', '1', '2', '3', '4', '5']\n"
     ]
    }
   ],
   "source": [
    "my_list = range(6)\n",
    "\n",
    "my_list2 = [str(ele) for ele in my_list]\n",
    "print(my_list2)"
   ]
  },
  {
   "cell_type": "code",
   "execution_count": 83,
   "metadata": {},
   "outputs": [
    {
     "name": "stdout",
     "output_type": "stream",
     "text": [
      "[0, 1, 2, 3, 4, 5]\n"
     ]
    }
   ],
   "source": [
    "my_list = list(range(6))\n",
    "print(my_list)"
   ]
  },
  {
   "cell_type": "code",
   "execution_count": 87,
   "metadata": {},
   "outputs": [
    {
     "name": "stdout",
     "output_type": "stream",
     "text": [
      "[1, 3, 5, 7, 9, 11, 13, 15, 17, 19]\n",
      "[0, 2, 4, 6, 8, 10, 12, 14, 16, 18]\n"
     ]
    }
   ],
   "source": [
    "###############################################################\n",
    "# list_comp_ex7.py\n",
    "# use list comprehension to reduce a list of numbers to just even or odd\n",
    "\n",
    "\n",
    "numbers = range(20)\n",
    "\n",
    "odd = [ele for ele in numbers if ele % 2 != 0]\n",
    "print(odd)\n",
    "\n",
    "\n",
    "even = [ele for ele in numbers if ele % 2 == 0]\n",
    "print(even)"
   ]
  },
  {
   "cell_type": "code",
   "execution_count": 90,
   "metadata": {},
   "outputs": [
    {
     "name": "stdout",
     "output_type": "stream",
     "text": [
      "[0, 1, 2, 27, 4, 125, 6, 343, 8, 729]\n"
     ]
    }
   ],
   "source": [
    "#[ f(ele) if condition else g(ele) for ele in sequence ]\n",
    "###############################################################\n",
    "# list_comp_ex8.py\n",
    "# use list comprehension to modify a list of numbers such that evens are left as is\n",
    "# and the odds are raised to the three power\n",
    "\n",
    "\n",
    "numbers = range(10)\n",
    "\n",
    "my_list = [ele if ele % 2 == 0 else ele**3 for ele in numbers]\n",
    "print(my_list)\n"
   ]
  },
  {
   "cell_type": "code",
   "execution_count": 94,
   "metadata": {},
   "outputs": [
    {
     "name": "stdout",
     "output_type": "stream",
     "text": [
      " rlly wnt t g t wrk\n"
     ]
    }
   ],
   "source": [
    "###############################################################\n",
    "# list_comp_ex9.py\n",
    "# use list comprehension to remove vowels from a sentence\n",
    "\n",
    "sentence = 'I rEAlly want to gO to work'\n",
    "\n",
    "vowels = ['a', 'e', 'i', 'o', 'u']\n",
    "\n",
    "new_sentence = [letter for letter in sentence if letter.lower() not in vowels]\n",
    "print(''.join(new_sentence))\n"
   ]
  },
  {
   "cell_type": "code",
   "execution_count": 95,
   "metadata": {},
   "outputs": [
    {
     "name": "stdout",
     "output_type": "stream",
     "text": [
      " rlly wnt t g t wrk\n"
     ]
    }
   ],
   "source": [
    "\n",
    "sentence = 'I rEAlly want to gO to work'\n",
    "\n",
    "vowels = 'aeiou'\n",
    "\n",
    "new_sentence = [letter for letter in sentence if letter.lower() not in vowels]\n",
    "print(''.join(new_sentence))"
   ]
  },
  {
   "cell_type": "code",
   "execution_count": 97,
   "metadata": {},
   "outputs": [
    {
     "data": {
      "text/plain": [
       "True"
      ]
     },
     "execution_count": 97,
     "metadata": {},
     "output_type": "execute_result"
    }
   ],
   "source": [
    "my_list = [1, 2, 3.14, 'str']\n",
    "\n",
    "\n",
    "my_str = ['a', 'b', 'c', 'd']\n",
    "my_str = 'abcd'\n",
    "'d' in my_str"
   ]
  },
  {
   "cell_type": "code",
   "execution_count": 98,
   "metadata": {},
   "outputs": [
    {
     "name": "stdout",
     "output_type": "stream",
     "text": [
      "a\n",
      "b\n",
      "c\n",
      "d\n",
      "e\n",
      "f\n"
     ]
    }
   ],
   "source": [
    "my_str = 'abcdef'\n",
    "for letter in my_str:\n",
    "    print(letter)"
   ]
  },
  {
   "cell_type": "code",
   "execution_count": 99,
   "metadata": {},
   "outputs": [
    {
     "ename": "AttributeError",
     "evalue": "'list' object has no attribute 'upper'",
     "output_type": "error",
     "traceback": [
      "\u001b[1;31m---------------------------------------------------------------------------\u001b[0m",
      "\u001b[1;31mAttributeError\u001b[0m                            Traceback (most recent call last)",
      "\u001b[1;32m<ipython-input-99-cb70ddac9e00>\u001b[0m in \u001b[0;36m<module>\u001b[1;34m\u001b[0m\n\u001b[0;32m      1\u001b[0m \u001b[0mmy_str\u001b[0m \u001b[1;33m=\u001b[0m \u001b[1;33m[\u001b[0m\u001b[1;34m'a'\u001b[0m\u001b[1;33m,\u001b[0m \u001b[1;34m'b'\u001b[0m\u001b[1;33m,\u001b[0m \u001b[1;34m'c'\u001b[0m\u001b[1;33m,\u001b[0m \u001b[1;34m'd'\u001b[0m\u001b[1;33m]\u001b[0m\u001b[1;33m\u001b[0m\u001b[1;33m\u001b[0m\u001b[0m\n\u001b[1;32m----> 2\u001b[1;33m \u001b[0mmy_str\u001b[0m\u001b[1;33m.\u001b[0m\u001b[0mupper\u001b[0m\u001b[1;33m(\u001b[0m\u001b[1;33m)\u001b[0m\u001b[1;33m\u001b[0m\u001b[1;33m\u001b[0m\u001b[0m\n\u001b[0m",
      "\u001b[1;31mAttributeError\u001b[0m: 'list' object has no attribute 'upper'"
     ]
    }
   ],
   "source": [
    "my_str = ['a', 'b', 'c', 'd']\n",
    "my_str.upper()"
   ]
  },
  {
   "cell_type": "code",
   "execution_count": 100,
   "metadata": {},
   "outputs": [
    {
     "data": {
      "text/plain": [
       "'ABCD'"
      ]
     },
     "execution_count": 100,
     "metadata": {},
     "output_type": "execute_result"
    }
   ],
   "source": [
    "my_str = 'abcd'\n",
    "my_str.upper()"
   ]
  },
  {
   "cell_type": "code",
   "execution_count": 101,
   "metadata": {},
   "outputs": [
    {
     "data": {
      "text/plain": [
       "True"
      ]
     },
     "execution_count": 101,
     "metadata": {},
     "output_type": "execute_result"
    }
   ],
   "source": [
    "long_string = 'abc efg hij'\n",
    "\n",
    "'abc' in long_string"
   ]
  },
  {
   "cell_type": "code",
   "execution_count": 102,
   "metadata": {},
   "outputs": [
    {
     "data": {
      "text/plain": [
       "True"
      ]
     },
     "execution_count": 102,
     "metadata": {},
     "output_type": "execute_result"
    }
   ],
   "source": [
    "list_of_strs = ['abc', 'efg', 'hij']\n",
    "'abc' in list_of_strs"
   ]
  },
  {
   "cell_type": "code",
   "execution_count": 103,
   "metadata": {},
   "outputs": [],
   "source": [
    "A = {0, 2, 4, 6, 8};\n",
    "B = {1, 2, 3, 4, 5};"
   ]
  },
  {
   "cell_type": "code",
   "execution_count": 104,
   "metadata": {},
   "outputs": [
    {
     "data": {
      "text/plain": [
       "{0, 2, 4, 6, 8}"
      ]
     },
     "execution_count": 104,
     "metadata": {},
     "output_type": "execute_result"
    }
   ],
   "source": [
    "A\n"
   ]
  },
  {
   "cell_type": "code",
   "execution_count": 105,
   "metadata": {},
   "outputs": [
    {
     "data": {
      "text/plain": [
       "{0, 1, 2, 3, 4, 5, 6, 8}"
      ]
     },
     "execution_count": 105,
     "metadata": {},
     "output_type": "execute_result"
    }
   ],
   "source": [
    "A | B"
   ]
  },
  {
   "cell_type": "code",
   "execution_count": 106,
   "metadata": {},
   "outputs": [
    {
     "data": {
      "text/plain": [
       "{2, 4}"
      ]
     },
     "execution_count": 106,
     "metadata": {},
     "output_type": "execute_result"
    }
   ],
   "source": [
    "A & B"
   ]
  },
  {
   "cell_type": "code",
   "execution_count": 107,
   "metadata": {},
   "outputs": [
    {
     "data": {
      "text/plain": [
       "True"
      ]
     },
     "execution_count": 107,
     "metadata": {},
     "output_type": "execute_result"
    }
   ],
   "source": [
    "2 in A"
   ]
  },
  {
   "cell_type": "code",
   "execution_count": 116,
   "metadata": {},
   "outputs": [
    {
     "name": "stdout",
     "output_type": "stream",
     "text": [
      "{2, 4}\n"
     ]
    },
    {
     "data": {
      "text/plain": [
       "{0, 6, 8}"
      ]
     },
     "execution_count": 116,
     "metadata": {},
     "output_type": "execute_result"
    }
   ],
   "source": [
    "A = {0, 2, 4, 6, 8};\n",
    "B = {1, 2, 3, 4, 5, 15, 23, 43};\n",
    "print(A & B)\n",
    "A - B"
   ]
  },
  {
   "cell_type": "code",
   "execution_count": 110,
   "metadata": {},
   "outputs": [
    {
     "data": {
      "text/plain": [
       "{1, 3, 5}"
      ]
     },
     "execution_count": 110,
     "metadata": {},
     "output_type": "execute_result"
    }
   ],
   "source": [
    "\n",
    "B - A"
   ]
  },
  {
   "cell_type": "code",
   "execution_count": 111,
   "metadata": {},
   "outputs": [],
   "source": [
    "my_list = [1, 1, 2, 3]\n",
    "my_list = list(set(my_list))"
   ]
  },
  {
   "cell_type": "code",
   "execution_count": 112,
   "metadata": {},
   "outputs": [
    {
     "data": {
      "text/plain": [
       "[1, 2, 3]"
      ]
     },
     "execution_count": 112,
     "metadata": {},
     "output_type": "execute_result"
    }
   ],
   "source": [
    "my_list"
   ]
  },
  {
   "cell_type": "code",
   "execution_count": 118,
   "metadata": {},
   "outputs": [],
   "source": [
    "# Ex1\n",
    "# Write a function that takes name of two gene files, \n",
    "# reads them, and returns which genes are:\n",
    "# 1) In first file but not in second file\n",
    "# 2) In second file but not in first file\n",
    "\n",
    "filename1 = 'gene_list1.txt'\n",
    "filename2 = 'gene_list2.txt'\n",
    "def gene_sets(filename1, filename2):\n",
    "    gene1 = []\n",
    "    with open(filename1) as fh:\n",
    "        for line in fh:\n",
    "            if not line.strip():\n",
    "                continue\n",
    "            gene1.append(line.strip())\n",
    "            \n",
    "    gene2 = []\n",
    "    with open(filename2) as fh:\n",
    "        for line in fh:\n",
    "            if not line.strip():\n",
    "                continue\n",
    "            gene2.append(line.strip())\n",
    "\n",
    "    gene1 = set(gene1)\n",
    "    gene2 = set(gene2)\n",
    "    output1 = gene1-gene2\n",
    "    output2 = gene2-gene1\n",
    "    print(output1)\n",
    "    print(output2)"
   ]
  },
  {
   "cell_type": "code",
   "execution_count": 115,
   "metadata": {},
   "outputs": [
    {
     "name": "stdout",
     "output_type": "stream",
     "text": [
      "['A1BG', 'A1CF', 'A2M', 'A2ML1', 'A3GALT2', 'A4GALT', 'A4GNT', 'AAAS', 'AACS', 'AADAC', 'AADACL2', 'AADACL3', 'AADACL4', 'AADAT', 'AAGAB', 'AAK1', 'AAMDC', 'AAMP', 'AANAT', 'AAR2', 'AARD', 'AARS1', 'AARS2', 'AARSD1', 'AASDH', 'AASDHPPT', 'AASS', 'AATF', 'AATK', 'ABAT', 'ABCA1', 'ABCA2', 'ABCA3', 'ABCA4', 'ABCA5', 'ABCA6', 'ABCA7', 'ABCA8', 'ABCA9', 'ABCA10', 'ABCA12', 'ABCA13', 'ABCB1', 'ABCB4', 'ABCB5', 'ABCB6', 'ABCB7', 'ABCB8', 'ABCB9', 'ABCB10', 'ABCB11', 'ABCC1', 'ABCC2', 'ABCC3', 'ABCC4', 'ABCC5', 'ABCC6', 'ABCC8', 'ABCC9', 'ABCC10', 'ABCC11', 'ABCC12', 'ABCD1', 'ABCD2', 'ABCD3', 'ABCD4', 'ABCE1', 'ABCF1', 'ABCF2', 'ABCF3', 'ABCG1', 'ABCG2', 'ABCG4', 'ABCG5', 'ABCG8', 'ABHD1', 'ABHD2', 'ABHD3', 'ABHD4', 'ABHD5', 'ABHD6', 'ABHD8', 'ABHD10', 'ABHD11', 'ABHD12', 'ABHD12B', 'ABHD13', 'ABHD14A', 'ABHD14B', 'ABHD15', 'ABHD16A', 'ABHD16B', 'ABHD17A', 'ABHD17B', 'ABHD17C', 'ABHD18', 'ABI1', 'ABI2', 'ABI3', 'ABI3BP', 'ABITRAM', 'ABL1', 'ABL2', 'ABLIM1', 'ABLIM2', 'ABLIM3', 'ABO', 'ABR', 'ABRA', 'ABRACL', 'ABRAXAS1', 'ABRAXAS2', 'ABT1', 'ABTB1', 'ABTB2', 'ACAA1', 'ACAA2', 'ACACA', 'ACACB', 'ACAD8', 'ACAD9', 'ACAD10', 'ACAD11', 'ACADL', 'ACADM', 'ACADS', 'ACADSB', 'ACADVL', 'ACAN', 'ACAP1', 'ACAP2', 'ACAP3', 'ACAT1', 'ACAT2', 'ACBD3', 'ACBD4', 'ACBD5', 'ACBD6', 'ACBD7', 'ACCS', 'ACCSL', 'ACD', 'ACE', 'ACE2', 'ACER1', 'ACER2', 'ACER3', 'ACHE', 'ACIN1', 'ACKR1', 'ACKR2', 'ACKR3', 'ACKR4', 'ACLY', 'ACMSD', 'ACO1', 'ACO2', 'ACOD1', 'ACOT1', 'ACOT2', 'ACOT4', 'ACOT6', 'ACOT7', 'ACOT8', 'ACOT9', 'ACOT11', 'ACOT12', 'ACOT13', 'ACOX1', 'ACOX2', 'ACOX3', 'ACOXL', 'ACP1', 'ACP2', 'ACP3', 'ACP4', 'ACP5', 'ACP6', 'ACP7', 'ACR', 'ACRBP', 'ACRV1', 'ACSBG1', 'ACSBG2', 'ACSF2', 'ACSF3', 'ACSL1', 'ACSL3', 'ACSL4', 'ACSL5', 'ACSL6', 'ACSM1', 'ACSM2A', 'ACSM2B', 'ACSM3', 'ACSM4', 'ACSM5', 'ACSM6', 'ACSS1', 'ACSS2', 'ACSS3', 'ACTA1', 'ACTA2', 'ACTB', 'ACTBL2', 'ACTC1', 'ACTG1', 'ACTG2', 'ACTL6A', 'ACTL6B', 'ACTL7A', 'ACTL7B', 'ACTL8', 'ACTL9', 'ACTL10', 'ACTN1', 'ACTN2', 'ACTN3', 'ACTN4', 'ACTR1A', 'ACTR1B', 'ACTR2', 'ACTR3', 'ACTR3B', 'ACTR3C', 'ACTR5', 'ACTR6', 'ACTR8', 'ACTR10', 'ACTRT1', 'ACTRT2', 'ACTRT3', 'ACVR1', 'ACVR1B', 'ACVR1C', 'ACVR2A', 'ACVR2B', 'ACVRL1', 'ACY1', 'ACY3', 'ACYP1', 'ACYP2', 'ADA']\n",
      "['ABHD11', 'ABHD12', 'ABHD12B', 'ABHD13', 'ABHD14A', 'ABHD14B', 'ABHD15', 'ABHD16A', 'ABHD16B', 'ABHD17A', 'ABHD17B', 'ABHD17C', 'ABHD18', 'ABI1', 'ABI2', 'ABI3', 'ABI3BP', 'ABITRAM', 'ABL1', 'ABL2', 'ABLIM1', 'ABLIM2', 'ABLIM3', 'ABO', 'ABR', 'ABRA', 'ABRACL', 'ABRAXAS1', 'ABRAXAS2', 'ABT1', 'ABTB1', 'ABTB2', 'ACAA1', 'ACAA2', 'ACACA', 'ACACB', 'ACAD8', 'ACAD9', 'ACAD10', 'ACAD11', 'ACADL', 'ACADM', 'ACADS', 'ACADSB', 'ACADVL', 'ACAN', 'ACAP1', 'ACAP2', 'ACAP3', 'ACAT1', 'ACAT2', 'ACBD3', 'ACBD4', 'ACBD5', 'ACBD6', 'ACBD7', 'ACCS', 'ACCSL', 'ZNF714', 'ZNF716', 'ZNF717', 'ZNF718', 'ZNF720', 'ZNF721', 'ZNF723', 'ZNF724', 'ZNF726', 'ZNF727', 'ZNF728', 'ZNF729', 'ZNF730', 'ZNF732', 'ZNF735', 'ZNF736', 'ZNF737', 'ZNF738', 'ZNF740', 'ZNF746', 'ZNF747', 'ZNF749', 'ZNF750', 'ZNF761', 'ZNF763', 'ZNF764', 'ZNF765', 'ZNF766', 'ZNF768', 'ZNF770', 'ZNF771', 'ZNF772', 'ZNF773', 'ZNF774', 'ZNF775', 'ZNF776', 'ZNF777', 'ZNF778', 'ZNF780A', 'ZNF780B', 'ZNF781', 'ZNF782', 'ZNF783', 'ZNF784', 'ZNF785', 'ZNF786', 'ZNF787', 'ZNF789', 'ZNF790', 'ZNF791', 'ZNF792', 'ZNF793', 'ZNF799', 'ZNF800', 'ZNF804A', 'ZNF804B', 'ZNF805', 'ZNF808', 'ZNF813', 'ZNF814', 'ZNF816', 'ZNF821', 'ZNF823', 'ZNF827', 'ZNF829', 'ZNF830', 'ZNF831', 'ZNF835', 'ZNF836', 'ZNF837', 'ZNF839', 'ZNF841', 'ZNF843', 'ZNF844', 'ZNF845', 'ZNF846', 'ZNF850', 'ZNF852', 'ZNF853', 'ZNF860', 'ZNF862', 'ZNF865', 'ZNF875', 'ZNF878', 'ZNF879', 'ZNF880', 'ZNF883', 'ZNF888', 'ZNF891', 'ZNFX1', 'ZNHIT1', 'ZNHIT2', 'ZNHIT3', 'ZNHIT6', 'ZNRD1', 'ZNRD2', 'ZNRF1', 'ZNRF2', 'ZNRF3', 'ZNRF4', 'ZP1', 'ZP2', 'ZP3', 'ZP4', 'ZPBP', 'ZPBP2', 'ZPLD1', 'ZPR1', 'ZRANB1', 'ZRANB2', 'ZRANB3', 'ZRSR2', 'ZSCAN1', 'ZSCAN2', 'ZSCAN4', 'ZSCAN5A', 'ZSCAN5B', 'ZSCAN5C', 'ZSCAN9', 'ZSCAN10', 'ZSCAN12', 'ZSCAN16', 'ZSCAN18', 'ZSCAN20', 'ZSCAN21', 'ZSCAN22', 'ZSCAN23', 'ZSCAN25', 'ZSCAN26', 'ZSCAN29', 'ZSCAN30', 'ZSCAN31', 'ZSCAN32', 'ZSWIM1', 'ZSWIM2', 'ZSWIM3', 'ZSWIM4', 'ZSWIM5', 'ZSWIM6', 'ZSWIM7', 'ZSWIM8', 'ZSWIM9', 'ZUP1']\n"
     ]
    }
   ],
   "source": [
    "gene_sets(filename1, filename2)"
   ]
  },
  {
   "cell_type": "code",
   "execution_count": 121,
   "metadata": {},
   "outputs": [
    {
     "name": "stdout",
     "output_type": "stream",
     "text": [
      "[('john doe', 'jdoe@buffalo.edu', 123456, 'Biology'), ('jndoe@buffalo.edu', 'jane doe', 2223343, 'Chemistry')]\n"
     ]
    }
   ],
   "source": [
    "# student\n",
    "# name\n",
    "# email\n",
    "# id\n",
    "# major\n",
    "\n",
    "students = [\n",
    "    ('john doe', 'jdoe@buffalo.edu', 123456, 'Biology'),\n",
    "    ('jndoe@buffalo.edu', 'jane doe', 2223343, 'Chemistry')\n",
    "]\n",
    "print(students)"
   ]
  },
  {
   "cell_type": "code",
   "execution_count": 122,
   "metadata": {},
   "outputs": [
    {
     "name": "stdout",
     "output_type": "stream",
     "text": [
      "[{'name': 'john', 'email': 'john@email.com', 'id': 1234, 'major': 'Engineering'}, {'name': 'jane', 'email': 'jane@email.com', 'id': 4444, 'major': 'Chemistry'}]\n"
     ]
    }
   ],
   "source": [
    "my_dict = {\n",
    "    'name': 'john',\n",
    "    'email': 'john@email.com',\n",
    "    'id': 1234,\n",
    "    'major': 'Engineering'\n",
    "}\n",
    "\n",
    "students  = [\n",
    "    {\n",
    "    'name': 'john',\n",
    "    'email': 'john@email.com',\n",
    "    'id': 1234,\n",
    "    'major': 'Engineering'\n",
    "}, \n",
    "    {\n",
    "    'name': 'jane',\n",
    "    'email': 'jane@email.com',\n",
    "    'id': 4444,\n",
    "    'major': 'Chemistry'\n",
    "}\n",
    "    \n",
    "]\n",
    "\n",
    "print(students)"
   ]
  },
  {
   "cell_type": "code",
   "execution_count": 123,
   "metadata": {},
   "outputs": [
    {
     "data": {
      "text/plain": [
       "{'name': 'john', 'email': 'john@email.com', 'id': 1234, 'major': 'Engineering'}"
      ]
     },
     "execution_count": 123,
     "metadata": {},
     "output_type": "execute_result"
    }
   ],
   "source": [
    "my_dict = dict(\n",
    "    name='john',\n",
    "    email='john@email.com',\n",
    "    id=1234,\n",
    "    major='Engineering'\n",
    ")\n",
    "\n",
    "my_dict"
   ]
  },
  {
   "cell_type": "code",
   "execution_count": 124,
   "metadata": {},
   "outputs": [
    {
     "data": {
      "text/plain": [
       "'john'"
      ]
     },
     "execution_count": 124,
     "metadata": {},
     "output_type": "execute_result"
    }
   ],
   "source": [
    "## accessing value\n",
    "key = 'name'\n",
    "my_dict['name']\n",
    "my_dict[key]\n"
   ]
  },
  {
   "cell_type": "code",
   "execution_count": 128,
   "metadata": {},
   "outputs": [
    {
     "data": {
      "text/plain": [
       "'john@email.com'"
      ]
     },
     "execution_count": 128,
     "metadata": {},
     "output_type": "execute_result"
    }
   ],
   "source": [
    "\n",
    "key_to_access = 'email'\n",
    "my_dict[key_to_access]"
   ]
  },
  {
   "cell_type": "code",
   "execution_count": 129,
   "metadata": {},
   "outputs": [
    {
     "data": {
      "text/plain": [
       "{'name': 'john', 'email': 'john@email.com', 'id': 1234, 'major': 'Engineering'}"
      ]
     },
     "execution_count": 129,
     "metadata": {},
     "output_type": "execute_result"
    }
   ],
   "source": [
    "my_dict"
   ]
  },
  {
   "cell_type": "code",
   "execution_count": 130,
   "metadata": {},
   "outputs": [
    {
     "name": "stdout",
     "output_type": "stream",
     "text": [
      "john\n",
      "john@email.com\n",
      "1234\n",
      "Engineering\n"
     ]
    }
   ],
   "source": [
    "for value in my_dict.values():\n",
    "    print(value)"
   ]
  },
  {
   "cell_type": "code",
   "execution_count": 131,
   "metadata": {},
   "outputs": [
    {
     "name": "stdout",
     "output_type": "stream",
     "text": [
      "name\n",
      "email\n",
      "id\n",
      "major\n"
     ]
    }
   ],
   "source": [
    "for key in my_dict.keys():\n",
    "    print(key)"
   ]
  },
  {
   "cell_type": "code",
   "execution_count": 136,
   "metadata": {},
   "outputs": [
    {
     "name": "stdout",
     "output_type": "stream",
     "text": [
      "name: john\n",
      "email: john@email.com\n",
      "id: 1234\n",
      "major: Engineering\n"
     ]
    }
   ],
   "source": [
    "for key, value in my_dict.items():\n",
    "#     print(f'Key: {key} and Value: {value}')\n",
    "    print(f'{key}: {value}')"
   ]
  },
  {
   "cell_type": "code",
   "execution_count": 137,
   "metadata": {},
   "outputs": [],
   "source": [
    "my_dict = {\n",
    "    'name': 'john',\n",
    "    'email': 'john@email.com',\n",
    "    'id': 1234,\n",
    "    'major': 'Engineering'\n",
    "}\n",
    "\n",
    "students  = [\n",
    "    {\n",
    "    'name': 'john',\n",
    "    'email': 'john@email.com',\n",
    "    'id': 1234,\n",
    "    'major': 'Engineering'\n",
    "}, \n",
    "    {\n",
    "    'name': 'jane',\n",
    "    'email': 'jane@email.com',\n",
    "    'id': 4444,\n",
    "    'major': 'Chemistry'\n",
    "}\n",
    "    \n",
    "]"
   ]
  },
  {
   "cell_type": "code",
   "execution_count": 140,
   "metadata": {},
   "outputs": [
    {
     "name": "stdout",
     "output_type": "stream",
     "text": [
      "[{'email': 'john@email.com',\n",
      "  'id': 1234,\n",
      "  'major': 'Engineering',\n",
      "  'name': 'john'},\n",
      " {'email': 'jane@email.com', 'id': 4444, 'major': 'Chemistry', 'name': 'jane'}]\n"
     ]
    }
   ],
   "source": [
    "from pprint import pprint\n",
    "pprint(students)\n"
   ]
  },
  {
   "cell_type": "code",
   "execution_count": 141,
   "metadata": {},
   "outputs": [
    {
     "name": "stdout",
     "output_type": "stream",
     "text": [
      "{'name': 'john', 'email': 'john@email.com', 'id': 1234, 'major': 'Engineering'}\n",
      "{'name': 'jane', 'email': 'jane@email.com', 'id': 4444, 'major': 'Chemistry'}\n"
     ]
    }
   ],
   "source": [
    "for student in students:\n",
    "    print(student)"
   ]
  },
  {
   "cell_type": "code",
   "execution_count": 145,
   "metadata": {},
   "outputs": [
    {
     "name": "stdout",
     "output_type": "stream",
     "text": [
      "name john\n",
      "email john@email.com\n",
      "id 1234\n",
      "major Engineering\n",
      "********************\n",
      "name jane\n",
      "email jane@email.com\n",
      "id 4444\n",
      "major Chemistry\n",
      "********************\n"
     ]
    }
   ],
   "source": [
    "for student in students:\n",
    "    for k, v in student.items():\n",
    "        print(k,v)\n",
    "    print('*'*20)"
   ]
  },
  {
   "cell_type": "code",
   "execution_count": null,
   "metadata": {},
   "outputs": [],
   "source": [
    "if key in my_dict:\n",
    "    print(True)\n",
    "else:\n",
    "    print(False)\n",
    "    \n"
   ]
  },
  {
   "cell_type": "code",
   "execution_count": 146,
   "metadata": {},
   "outputs": [
    {
     "data": {
      "text/plain": [
       "True"
      ]
     },
     "execution_count": 146,
     "metadata": {},
     "output_type": "execute_result"
    }
   ],
   "source": [
    "my_list = ['A', 'b', 2, 3.14]\n",
    "\n",
    "'A' in my_list"
   ]
  },
  {
   "cell_type": "code",
   "execution_count": 148,
   "metadata": {},
   "outputs": [
    {
     "data": {
      "text/plain": [
       "False"
      ]
     },
     "execution_count": 148,
     "metadata": {},
     "output_type": "execute_result"
    }
   ],
   "source": [
    "53.14 in my_list"
   ]
  },
  {
   "cell_type": "code",
   "execution_count": 149,
   "metadata": {},
   "outputs": [
    {
     "data": {
      "text/plain": [
       "{'name': 'john', 'email': 'john@email.com', 'id': 1234, 'major': 'Engineering'}"
      ]
     },
     "execution_count": 149,
     "metadata": {},
     "output_type": "execute_result"
    }
   ],
   "source": [
    "my_dict"
   ]
  },
  {
   "cell_type": "code",
   "execution_count": 150,
   "metadata": {},
   "outputs": [
    {
     "data": {
      "text/plain": [
       "True"
      ]
     },
     "execution_count": 150,
     "metadata": {},
     "output_type": "execute_result"
    }
   ],
   "source": [
    "'name' in my_dict"
   ]
  },
  {
   "cell_type": "code",
   "execution_count": 151,
   "metadata": {},
   "outputs": [
    {
     "data": {
      "text/plain": [
       "False"
      ]
     },
     "execution_count": 151,
     "metadata": {},
     "output_type": "execute_result"
    }
   ],
   "source": [
    "'Name' in my_dict"
   ]
  },
  {
   "cell_type": "code",
   "execution_count": 152,
   "metadata": {},
   "outputs": [],
   "source": [
    "new_student = {}.fromkeys(\n",
    "    ['name', 'email', 'id', 'major'], 'missing')"
   ]
  },
  {
   "cell_type": "code",
   "execution_count": 154,
   "metadata": {},
   "outputs": [
    {
     "data": {
      "text/plain": [
       "{'name': 'missing', 'email': 'missing', 'id': 'missing', 'major': 'missing'}"
      ]
     },
     "execution_count": 154,
     "metadata": {},
     "output_type": "execute_result"
    }
   ],
   "source": [
    "new_student"
   ]
  },
  {
   "cell_type": "code",
   "execution_count": 155,
   "metadata": {},
   "outputs": [
    {
     "name": "stdout",
     "output_type": "stream",
     "text": [
      "{'HeadsCount': 0, 'TailsCount': 0}\n"
     ]
    }
   ],
   "source": [
    "toss = {}.fromkeys(\n",
    "    ['HeadsCount', 'TailsCount'], 0)\n",
    "\n",
    "print(toss)"
   ]
  },
  {
   "cell_type": "code",
   "execution_count": 156,
   "metadata": {},
   "outputs": [
    {
     "data": {
      "text/plain": [
       "{0: 'iammissing',\n",
       " 1: 'iammissing',\n",
       " 2: 'iammissing',\n",
       " 3: 'iammissing',\n",
       " 4: 'iammissing'}"
      ]
     },
     "execution_count": 156,
     "metadata": {},
     "output_type": "execute_result"
    }
   ],
   "source": [
    "my_dict = {}.fromkeys(range(5), 'iammissing')\n",
    "my_dict"
   ]
  },
  {
   "cell_type": "code",
   "execution_count": 158,
   "metadata": {},
   "outputs": [
    {
     "data": {
      "text/plain": [
       "'john'"
      ]
     },
     "execution_count": 158,
     "metadata": {},
     "output_type": "execute_result"
    }
   ],
   "source": [
    "my_dict = dict(\n",
    "    name='john',\n",
    "    email='john@email.com',\n",
    "    id=1234,\n",
    "    major='Engineering'\n",
    ")\n",
    "\n",
    "my_dict['name']\n"
   ]
  },
  {
   "cell_type": "code",
   "execution_count": 159,
   "metadata": {},
   "outputs": [
    {
     "ename": "KeyError",
     "evalue": "'blah'",
     "output_type": "error",
     "traceback": [
      "\u001b[1;31m---------------------------------------------------------------------------\u001b[0m",
      "\u001b[1;31mKeyError\u001b[0m                                  Traceback (most recent call last)",
      "\u001b[1;32m<ipython-input-159-953059170fba>\u001b[0m in \u001b[0;36m<module>\u001b[1;34m\u001b[0m\n\u001b[1;32m----> 1\u001b[1;33m \u001b[0mmy_dict\u001b[0m\u001b[1;33m[\u001b[0m\u001b[1;34m'blah'\u001b[0m\u001b[1;33m]\u001b[0m\u001b[1;33m\u001b[0m\u001b[1;33m\u001b[0m\u001b[0m\n\u001b[0m",
      "\u001b[1;31mKeyError\u001b[0m: 'blah'"
     ]
    }
   ],
   "source": [
    "my_dict['blah']"
   ]
  },
  {
   "cell_type": "code",
   "execution_count": 160,
   "metadata": {},
   "outputs": [
    {
     "name": "stdout",
     "output_type": "stream",
     "text": [
      "No\n"
     ]
    }
   ],
   "source": [
    "if 'blah' in my_dict:\n",
    "    print('Yes')\n",
    "else:\n",
    "    print('No')"
   ]
  },
  {
   "cell_type": "code",
   "execution_count": 161,
   "metadata": {},
   "outputs": [
    {
     "name": "stdout",
     "output_type": "stream",
     "text": [
      "john\n"
     ]
    }
   ],
   "source": [
    "value = my_dict.get('name')\n",
    "print(value)"
   ]
  },
  {
   "cell_type": "code",
   "execution_count": 162,
   "metadata": {},
   "outputs": [
    {
     "name": "stdout",
     "output_type": "stream",
     "text": [
      "None\n"
     ]
    }
   ],
   "source": [
    "value = my_dict.get('Name')\n",
    "print(value)"
   ]
  },
  {
   "cell_type": "code",
   "execution_count": 163,
   "metadata": {},
   "outputs": [
    {
     "name": "stdout",
     "output_type": "stream",
     "text": [
      "No\n"
     ]
    }
   ],
   "source": [
    "if my_dict.get('Name'):\n",
    "    print('Yes')\n",
    "else:\n",
    "    print('No')"
   ]
  },
  {
   "cell_type": "code",
   "execution_count": 164,
   "metadata": {},
   "outputs": [
    {
     "data": {
      "text/plain": [
       "'Missing Name'"
      ]
     },
     "execution_count": 164,
     "metadata": {},
     "output_type": "execute_result"
    }
   ],
   "source": [
    "my_dict.get('Name', 'N/A')"
   ]
  },
  {
   "cell_type": "code",
   "execution_count": 165,
   "metadata": {},
   "outputs": [
    {
     "data": {
      "text/plain": [
       "'john'"
      ]
     },
     "execution_count": 165,
     "metadata": {},
     "output_type": "execute_result"
    }
   ],
   "source": [
    "my_dict.pop('name')"
   ]
  },
  {
   "cell_type": "code",
   "execution_count": 166,
   "metadata": {},
   "outputs": [
    {
     "data": {
      "text/plain": [
       "{'email': 'john@email.com', 'id': 1234, 'major': 'Engineering'}"
      ]
     },
     "execution_count": 166,
     "metadata": {},
     "output_type": "execute_result"
    }
   ],
   "source": [
    "my_dict"
   ]
  },
  {
   "cell_type": "code",
   "execution_count": 167,
   "metadata": {},
   "outputs": [
    {
     "name": "stdout",
     "output_type": "stream",
     "text": [
      "{'email': 'john@email.com', 'id': 1234, 'major': 'Engineering', 'year': 2010, 'ear': 2030}\n"
     ]
    }
   ],
   "source": [
    "my_dict.update({'year':2010, 'ear': 2030})\n",
    "print(my_dict)"
   ]
  },
  {
   "cell_type": "code",
   "execution_count": 168,
   "metadata": {},
   "outputs": [],
   "source": [
    "my_dict.update({'email': 'john@buffalo.edu'})"
   ]
  },
  {
   "cell_type": "code",
   "execution_count": 169,
   "metadata": {},
   "outputs": [
    {
     "data": {
      "text/plain": [
       "{'email': 'john@buffalo.edu',\n",
       " 'id': 1234,\n",
       " 'major': 'Engineering',\n",
       " 'year': 2010,\n",
       " 'ear': 2030}"
      ]
     },
     "execution_count": 169,
     "metadata": {},
     "output_type": "execute_result"
    }
   ],
   "source": [
    "my_dict"
   ]
  },
  {
   "cell_type": "code",
   "execution_count": 170,
   "metadata": {},
   "outputs": [
    {
     "data": {
      "text/plain": [
       "{0: 0, 1: 2, 2: 4, 3: 6, 4: 8, 5: 10, 6: 12, 7: 14, 8: 16, 9: 18}"
      ]
     },
     "execution_count": 170,
     "metadata": {},
     "output_type": "execute_result"
    }
   ],
   "source": [
    "{ele:ele*2 for ele in range(10)}"
   ]
  },
  {
   "cell_type": "code",
   "execution_count": 171,
   "metadata": {},
   "outputs": [
    {
     "data": {
      "text/plain": [
       "{'john': 95, 'jane': 99, 'doe': 98}"
      ]
     },
     "execution_count": 171,
     "metadata": {},
     "output_type": "execute_result"
    }
   ],
   "source": [
    "list1 = ['john', 'jane', 'doe']\n",
    "list2 = [95, 99, 98]\n",
    "\n",
    "{list1[i]: list2[i] for i in range(len(list1))}"
   ]
  },
  {
   "cell_type": "code",
   "execution_count": 172,
   "metadata": {},
   "outputs": [
    {
     "name": "stdout",
     "output_type": "stream",
     "text": [
      "{'john': 95, 'jane': 99, 'doe': 98}\n"
     ]
    }
   ],
   "source": [
    "print(dict(zip(list1,list2)))"
   ]
  },
  {
   "cell_type": "code",
   "execution_count": 175,
   "metadata": {},
   "outputs": [
    {
     "data": {
      "text/plain": [
       "[('john', 95), ('jane', 99), ('doe', 98), ('jack', 99), ('bob', 100)]"
      ]
     },
     "execution_count": 175,
     "metadata": {},
     "output_type": "execute_result"
    }
   ],
   "source": [
    "list1 = ['john', 'jane', 'doe', 'jack', 'bob']\n",
    "list2 = [95, 99, 98, 99, 100, 42, 234]\n",
    "\n",
    "\n",
    "list(zip(list1,list2))"
   ]
  },
  {
   "cell_type": "code",
   "execution_count": 176,
   "metadata": {},
   "outputs": [
    {
     "data": {
      "text/plain": [
       "[('john', 95, 'abc'), ('jane', 99, 'efg')]"
      ]
     },
     "execution_count": 176,
     "metadata": {},
     "output_type": "execute_result"
    }
   ],
   "source": [
    "list1 = ['john', 'jane', 'doe', 'jack', 'bob']\n",
    "list2 = [95, 99, 98, 99, 100, 42, 234]\n",
    "list3 = ['abc', 'efg']\n",
    "list(zip(list1,list2,list3))"
   ]
  },
  {
   "cell_type": "code",
   "execution_count": 178,
   "metadata": {},
   "outputs": [
    {
     "data": {
      "text/plain": [
       "{'john': 95, 'jane': 99, 'doe': 98, 'jack': 99, 'bob': 100}"
      ]
     },
     "execution_count": 178,
     "metadata": {},
     "output_type": "execute_result"
    }
   ],
   "source": [
    "list1 = ['john', 'jane', 'doe', 'jack', 'bob']\n",
    "list2 = [95, 99, 98, 99, 100, 42, 234]\n",
    "dict(list(zip(list1,list2)))"
   ]
  },
  {
   "cell_type": "code",
   "execution_count": 179,
   "metadata": {},
   "outputs": [
    {
     "data": {
      "text/plain": [
       "{1: 'odd',\n",
       " 2: 'even',\n",
       " 3: 'odd',\n",
       " 4: 'even',\n",
       " 5: 'odd',\n",
       " 6: 'even',\n",
       " 7: 'odd',\n",
       " 8: 'even',\n",
       " 9: 'odd',\n",
       " 10: 'even',\n",
       " 11: 'odd',\n",
       " 12: 'even',\n",
       " 13: 'odd',\n",
       " 14: 'even',\n",
       " 15: 'odd',\n",
       " 16: 'even',\n",
       " 17: 'odd',\n",
       " 18: 'even',\n",
       " 19: 'odd'}"
      ]
     },
     "execution_count": 179,
     "metadata": {},
     "output_type": "execute_result"
    }
   ],
   "source": [
    "{num: (\"even\" if num % 2 == 0 else \"odd\") for num in range(1, 20)}"
   ]
  },
  {
   "cell_type": "code",
   "execution_count": null,
   "metadata": {},
   "outputs": [],
   "source": []
  }
 ],
 "metadata": {
  "kernelspec": {
   "display_name": "Python 3",
   "language": "python",
   "name": "python3"
  },
  "language_info": {
   "codemirror_mode": {
    "name": "ipython",
    "version": 3
   },
   "file_extension": ".py",
   "mimetype": "text/x-python",
   "name": "python",
   "nbconvert_exporter": "python",
   "pygments_lexer": "ipython3",
   "version": "3.8.5"
  }
 },
 "nbformat": 4,
 "nbformat_minor": 4
}
