{
 "cells": [
  {
   "cell_type": "code",
   "execution_count": 2,
   "metadata": {},
   "outputs": [
    {
     "name": "stdout",
     "output_type": "stream",
     "text": [
      "Hello class\n",
      "None\n"
     ]
    }
   ],
   "source": [
    "# Function types:\n",
    "    # inputs/outputs\n",
    "    # different types of inputs\n",
    "    \n",
    "# type#1 --  no input, no output\n",
    "# type#2 -- input, no output\n",
    "# type#3 -- no input, output\n",
    "# type#4 -- input, output\n",
    "\n",
    "def func_type1():\n",
    "    print('Hello class')\n",
    "    \n",
    "    # return None -- default \n",
    "func_type1_output = func_type1()\n",
    "print(func_type1_output)\n"
   ]
  },
  {
   "cell_type": "code",
   "execution_count": 4,
   "metadata": {},
   "outputs": [
    {
     "name": "stdout",
     "output_type": "stream",
     "text": [
      "Hello John!\n",
      "None\n"
     ]
    }
   ],
   "source": [
    "def func_type2(name):\n",
    "    print(f'Hello {name}!')\n",
    "\n",
    "func_type2_output = func_type2('John')\n",
    "print(func_type2_output)\n"
   ]
  },
  {
   "cell_type": "code",
   "execution_count": 11,
   "metadata": {},
   "outputs": [
    {
     "name": "stdout",
     "output_type": "stream",
     "text": [
      "5\n"
     ]
    }
   ],
   "source": [
    "def func_type3():\n",
    "    import random\n",
    "    return random.randint(1,6)\n",
    "\n",
    "func_type3_output = func_type3()\n",
    "print(func_type3_output)"
   ]
  },
  {
   "cell_type": "code",
   "execution_count": 12,
   "metadata": {},
   "outputs": [
    {
     "name": "stdout",
     "output_type": "stream",
     "text": [
      "144\n"
     ]
    }
   ],
   "source": [
    "def func_type4(number):\n",
    "    return number * number\n",
    "\n",
    "func_type4_output = func_type4(12)\n",
    "print(func_type4_output)"
   ]
  },
  {
   "cell_type": "code",
   "execution_count": 13,
   "metadata": {},
   "outputs": [],
   "source": [
    "def func(spam, eggs, toast=0, ham=0):   # first 2 required\n",
    "    print(spam, eggs, toast, ham)\n",
    "    "
   ]
  },
  {
   "cell_type": "code",
   "execution_count": 15,
   "metadata": {},
   "outputs": [
    {
     "name": "stdout",
     "output_type": "stream",
     "text": [
      "1 2 0 0\n",
      "None\n"
     ]
    }
   ],
   "source": [
    "output = func(1, 2)\n",
    "print(output)"
   ]
  },
  {
   "cell_type": "code",
   "execution_count": 16,
   "metadata": {},
   "outputs": [
    {
     "name": "stdout",
     "output_type": "stream",
     "text": [
      "1 0 0 1\n"
     ]
    }
   ],
   "source": [
    "func(1, ham=1, eggs=0)  "
   ]
  },
  {
   "cell_type": "code",
   "execution_count": 17,
   "metadata": {},
   "outputs": [
    {
     "name": "stdout",
     "output_type": "stream",
     "text": [
      "1 0 0 1\n"
     ]
    }
   ],
   "source": [
    "func(1, 0, ham=1)  "
   ]
  },
  {
   "cell_type": "code",
   "execution_count": 18,
   "metadata": {},
   "outputs": [
    {
     "name": "stdout",
     "output_type": "stream",
     "text": [
      "1 0 0 0\n"
     ]
    }
   ],
   "source": [
    "func(spam=1, eggs=0) "
   ]
  },
  {
   "cell_type": "code",
   "execution_count": 19,
   "metadata": {},
   "outputs": [
    {
     "name": "stdout",
     "output_type": "stream",
     "text": [
      "1 0 0 0\n"
     ]
    }
   ],
   "source": [
    "func(eggs=0, spam=1) "
   ]
  },
  {
   "cell_type": "code",
   "execution_count": 20,
   "metadata": {},
   "outputs": [
    {
     "name": "stdout",
     "output_type": "stream",
     "text": [
      "3 2 1 0\n"
     ]
    }
   ],
   "source": [
    "func(toast=1, eggs=2, spam=3) "
   ]
  },
  {
   "cell_type": "code",
   "execution_count": 21,
   "metadata": {},
   "outputs": [
    {
     "ename": "TypeError",
     "evalue": "func() missing 1 required positional argument: 'spam'",
     "output_type": "error",
     "traceback": [
      "\u001b[1;31m---------------------------------------------------------------------------\u001b[0m",
      "\u001b[1;31mTypeError\u001b[0m                                 Traceback (most recent call last)",
      "\u001b[1;32m<ipython-input-21-cf1db8571413>\u001b[0m in \u001b[0;36m<module>\u001b[1;34m\u001b[0m\n\u001b[1;32m----> 1\u001b[1;33m \u001b[0mfunc\u001b[0m\u001b[1;33m(\u001b[0m\u001b[0mtoast\u001b[0m\u001b[1;33m=\u001b[0m\u001b[1;36m1\u001b[0m\u001b[1;33m,\u001b[0m \u001b[0meggs\u001b[0m\u001b[1;33m=\u001b[0m\u001b[1;36m2\u001b[0m\u001b[1;33m)\u001b[0m\u001b[1;33m\u001b[0m\u001b[1;33m\u001b[0m\u001b[0m\n\u001b[0m",
      "\u001b[1;31mTypeError\u001b[0m: func() missing 1 required positional argument: 'spam'"
     ]
    }
   ],
   "source": [
    "func(toast=1, eggs=2) "
   ]
  },
  {
   "cell_type": "code",
   "execution_count": 22,
   "metadata": {},
   "outputs": [
    {
     "name": "stdout",
     "output_type": "stream",
     "text": [
      "1 2 3 4\n"
     ]
    }
   ],
   "source": [
    "func(1, 2, 3, 4)      "
   ]
  },
  {
   "cell_type": "code",
   "execution_count": 23,
   "metadata": {},
   "outputs": [
    {
     "ename": "SyntaxError",
     "evalue": "positional argument follows keyword argument (<ipython-input-23-f25ba85dcdc4>, line 1)",
     "output_type": "error",
     "traceback": [
      "\u001b[1;36m  File \u001b[1;32m\"<ipython-input-23-f25ba85dcdc4>\"\u001b[1;36m, line \u001b[1;32m1\u001b[0m\n\u001b[1;33m    func(1,toast=3, 4)\u001b[0m\n\u001b[1;37m                    ^\u001b[0m\n\u001b[1;31mSyntaxError\u001b[0m\u001b[1;31m:\u001b[0m positional argument follows keyword argument\n"
     ]
    }
   ],
   "source": [
    "func(1,toast=3, 4)\n"
   ]
  },
  {
   "cell_type": "code",
   "execution_count": 24,
   "metadata": {},
   "outputs": [
    {
     "name": "stdout",
     "output_type": "stream",
     "text": [
      "1\n",
      "[2, 3, 4, 5]\n"
     ]
    }
   ],
   "source": [
    "my_list = [1, 2, 3, 4, 5]\n",
    "a, *b = my_list\n",
    "print(a)\n",
    "print(b)"
   ]
  },
  {
   "cell_type": "code",
   "execution_count": 26,
   "metadata": {},
   "outputs": [
    {
     "name": "stdout",
     "output_type": "stream",
     "text": [
      "1\n",
      "2\n",
      "[3, 4, 5]\n"
     ]
    }
   ],
   "source": [
    "a, b, *c  = tuple(my_list)\n",
    "print(a)\n",
    "print(b)\n",
    "print(c)"
   ]
  },
  {
   "cell_type": "code",
   "execution_count": 42,
   "metadata": {},
   "outputs": [
    {
     "name": "stdout",
     "output_type": "stream",
     "text": [
      "[2, 3]\n"
     ]
    }
   ],
   "source": [
    "my_list = [1, 2, 3]\n",
    "a, *args = my_list \n",
    "print(args)"
   ]
  },
  {
   "cell_type": "code",
   "execution_count": 30,
   "metadata": {},
   "outputs": [
    {
     "name": "stdout",
     "output_type": "stream",
     "text": [
      "1 (2, 3) {'x': 1, 'y': 2}\n",
      "1\n",
      "(2, 3)\n",
      "{'x': 1, 'y': 2}\n"
     ]
    }
   ],
   "source": [
    "def f(a, *args, **kwargs): \n",
    "    print(a, args, kwargs)\n",
    "    print(a)\n",
    "    print(args)\n",
    "    print(kwargs)\n",
    "\n",
    "f(1, 2, 3, x=1, y=2)"
   ]
  },
  {
   "cell_type": "code",
   "execution_count": 47,
   "metadata": {},
   "outputs": [
    {
     "data": {
      "text/plain": [
       "False"
      ]
     },
     "execution_count": 47,
     "metadata": {},
     "output_type": "execute_result"
    }
   ],
   "source": [
    "x = 'A'\n",
    "other = 'SPAM'\n",
    "x not in other\n",
    "!(x in other)"
   ]
  },
  {
   "cell_type": "code",
   "execution_count": 57,
   "metadata": {},
   "outputs": [
    {
     "name": "stdout",
     "output_type": "stream",
     "text": [
      "Scanning SPAM for letter S\n",
      "Scanning SLAM for letter S\n",
      "S is in ('SPAM', 'SLAM')\n",
      "Scanning SPAM for letter C\n",
      "C not in SPAM, so breaking for loop and else will not be executed\n",
      "Scanning SPAM for letter A\n",
      "Scanning SLAM for letter A\n",
      "A is in ('SPAM', 'SLAM')\n",
      "Scanning SPAM for letter M\n",
      "Scanning SLAM for letter M\n",
      "M is in ('SPAM', 'SLAM')\n"
     ]
    }
   ],
   "source": [
    "args0 = 'SCAM'\n",
    "args1onward = ('SPAM', 'SLAM')\n",
    "for letter in args0:\n",
    "    for word in args1onward:\n",
    "        print(f'Scanning {word} for letter {letter}')\n",
    "        if letter not in word:\n",
    "            print(f'{letter} not in {word}, so breaking for loop and else will not be executed')\n",
    "            break\n",
    "    else: ## The for loop finished without breaking\n",
    "        print(f'{letter} is in {args1onward}')\n",
    "        "
   ]
  },
  {
   "cell_type": "code",
   "execution_count": 53,
   "metadata": {},
   "outputs": [
    {
     "name": "stdout",
     "output_type": "stream",
     "text": [
      "args ('SCAM', 'SPAM', 'SLAM')\n"
     ]
    }
   ],
   "source": [
    "def intersect(*args):\n",
    "    print('args', args)\n",
    "    res = []\n",
    "    for x in args[0]: \n",
    "#         print('x', x) # scan first sequence\n",
    "        for other in args[1:]:\n",
    "#             print('other', other) # for all other args\n",
    "            if x not in other: \n",
    "#                 print(f'{x} is not in {other}')\n",
    "                break   # item in each one?\n",
    "        else:  \n",
    "#             print(f'else indicates that the loop was not broken, so adding {x}')# no:  break out of loop\n",
    "            res.append(x)              # yes: add items to end\n",
    "    return res\n",
    "\n",
    "def union(*args):\n",
    "    res = []\n",
    "    for seq in args:                   # for all args\n",
    "        for x in seq:                  # for all nodes\n",
    "            if not x in res:\n",
    "                res.append(x)          # add new items to result\n",
    "    return res\n",
    "\n",
    "\n",
    "s1, s2, s3, s4 = \"SPAM\", \"SCAM\", \"SLAM\", \"EAS503\"\n",
    "\n",
    "intersect(s2, s1, s3)\n"
   ]
  },
  {
   "cell_type": "code",
   "execution_count": null,
   "metadata": {},
   "outputs": [],
   "source": [
    "args = ('SPAM', 'SCAM')"
   ]
  },
  {
   "cell_type": "code",
   "execution_count": 43,
   "metadata": {},
   "outputs": [
    {
     "name": "stdout",
     "output_type": "stream",
     "text": [
      "([1, 2, 3], (1, 4))\n",
      "x 1\n",
      "other (1, 4)\n",
      "else indicates that the loop was not broken, so adding 1\n",
      "x 2\n",
      "other (1, 4)\n",
      "2 is not in (1, 4)\n",
      "x 3\n",
      "other (1, 4)\n",
      "3 is not in (1, 4)\n",
      "('SPAM', 'SCAM', 'SLAM')\n",
      "x S\n",
      "other SCAM\n",
      "other SLAM\n",
      "else indicates that the loop was not broken, so adding S\n",
      "x P\n",
      "other SCAM\n",
      "P is not in SCAM\n",
      "x A\n",
      "other SCAM\n",
      "other SLAM\n",
      "else indicates that the loop was not broken, so adding A\n",
      "x M\n",
      "other SCAM\n",
      "other SLAM\n",
      "else indicates that the loop was not broken, so adding M\n"
     ]
    },
    {
     "data": {
      "text/plain": [
       "['S', 'P', 'A', 'M', 'C', 'L']"
      ]
     },
     "execution_count": 43,
     "metadata": {},
     "output_type": "execute_result"
    }
   ],
   "source": [
    "union(s1, s2)\n",
    "\n",
    "\n",
    "intersect([1,2,3], (1,4))\n",
    "\n",
    "\n",
    "intersect(s1, s2, s3)\n",
    "\n",
    "union(s1, s2, s3)\n"
   ]
  },
  {
   "cell_type": "code",
   "execution_count": 50,
   "metadata": {},
   "outputs": [
    {
     "name": "stdout",
     "output_type": "stream",
     "text": [
      "1\n",
      "{'x': 1, 'y': 2, 'z': 3}\n",
      "1\n"
     ]
    }
   ],
   "source": [
    "def my_func(a, **kwargs):\n",
    "    print(a)\n",
    "    print(kwargs)\n",
    "    print(kwargs['x'])\n",
    "    \n",
    "    \n",
    "my_func(1, x=1, y=2, z=3)\n",
    "\n"
   ]
  },
  {
   "cell_type": "code",
   "execution_count": 51,
   "metadata": {},
   "outputs": [
    {
     "ename": "TypeError",
     "evalue": "my_func() takes 1 positional argument but 2 were given",
     "output_type": "error",
     "traceback": [
      "\u001b[1;31m---------------------------------------------------------------------------\u001b[0m",
      "\u001b[1;31mTypeError\u001b[0m                                 Traceback (most recent call last)",
      "\u001b[1;32m<ipython-input-51-7252ce85bd64>\u001b[0m in \u001b[0;36m<module>\u001b[1;34m\u001b[0m\n\u001b[1;32m----> 1\u001b[1;33m \u001b[0mmy_func\u001b[0m\u001b[1;33m(\u001b[0m\u001b[1;36m1\u001b[0m\u001b[1;33m,\u001b[0m \u001b[1;36m2\u001b[0m\u001b[1;33m,\u001b[0m \u001b[0mx\u001b[0m\u001b[1;33m=\u001b[0m\u001b[1;36m1\u001b[0m\u001b[1;33m,\u001b[0m \u001b[0my\u001b[0m\u001b[1;33m=\u001b[0m\u001b[1;36m2\u001b[0m\u001b[1;33m,\u001b[0m \u001b[0mz\u001b[0m\u001b[1;33m=\u001b[0m\u001b[1;36m3\u001b[0m\u001b[1;33m)\u001b[0m\u001b[1;33m\u001b[0m\u001b[1;33m\u001b[0m\u001b[0m\n\u001b[0m",
      "\u001b[1;31mTypeError\u001b[0m: my_func() takes 1 positional argument but 2 were given"
     ]
    }
   ],
   "source": [
    "my_func(1, 2, x=1, y=2, z=3)"
   ]
  },
  {
   "cell_type": "code",
   "execution_count": 59,
   "metadata": {},
   "outputs": [
    {
     "name": "stdout",
     "output_type": "stream",
     "text": [
      "Global reporting!\n",
      "Global reporting!\n",
      "Local reporting!\n",
      "I have been changed!\n",
      "I have been changed!\n"
     ]
    }
   ],
   "source": [
    "# imutable -- int, float, str, tuple, bool\n",
    "# mutable -- dict, list\n",
    "\n",
    "\n",
    "variable = 'Global reporting!'\n",
    "\n",
    "\n",
    "def use_variable_global():\n",
    "    ## since variable is outside the function\n",
    "    print(variable)\n",
    "\n",
    "\n",
    "def use_variable_local():\n",
    "    variable = 'Local reporting!'\n",
    "    print(variable)\n",
    "\n",
    "# def use_variable_global():\n",
    "\n",
    "def change_global_inside_function():\n",
    "    global variable\n",
    "    variable = 'I have been changed!'\n",
    "    print(variable)\n",
    "\n",
    "\n",
    "print(variable)\n",
    "use_variable_global()\n",
    "use_variable_local()\n",
    "change_global_inside_function()\n",
    "print(variable)\n"
   ]
  },
  {
   "cell_type": "code",
   "execution_count": 70,
   "metadata": {},
   "outputs": [
    {
     "name": "stdout",
     "output_type": "stream",
     "text": [
      "my_list before change inside function1: [1, 2, 3, 4]\n",
      "my_variable before change inside function1: 5\n",
      "my_list after change inside function1: [1, 2, 3, 4, 30]\n",
      "my_variable after change inside function1: 10\n",
      "my_list after calling function1 is [1, 2, 3, 4, 30]\n",
      "my_variable after calling function1 is 5\n"
     ]
    }
   ],
   "source": [
    "my_list = [1, 2, 3, 4]\n",
    "my_variable = 5\n",
    "\n",
    "\n",
    "def function1(my_list, my_variable):\n",
    "    print('my_list before change inside function1:', my_list)\n",
    "    print('my_variable before change inside function1:', my_variable)\n",
    "    my_list.append(30)\n",
    "    my_variable = 10\n",
    "\n",
    "    print('my_list after change inside function1:', my_list)\n",
    "    print('my_variable after change inside function1:', my_variable)\n",
    "\n",
    "\n",
    "# imutable -- int, float, str, tuple, bool\n",
    "# mutable -- dict, list\n",
    "    \n",
    "    \n",
    "function1(my_list, my_variable)\n",
    "print(f'my_list after calling function1 is {my_list}')\n",
    "print(f'my_variable after calling function1 is {my_variable}')"
   ]
  },
  {
   "cell_type": "code",
   "execution_count": 68,
   "metadata": {},
   "outputs": [
    {
     "name": "stdout",
     "output_type": "stream",
     "text": [
      "my_list after change inside function2 [1, 2, 3, 4, 90]\n",
      "my_variable after change inside function2 45\n",
      "my_list after calling function2 is [1, 2, 3, 4]\n",
      "my_variable after calling function2 is 5\n"
     ]
    }
   ],
   "source": [
    "my_list = [1, 2, 3, 4]\n",
    "my_variable = 5\n",
    "\n",
    "def function2(my_list, my_variable):\n",
    "    # https://stackoverflow.com/questions/2612802/how-to-clone-or-copy-a-list\n",
    "\n",
    "    my_list = my_list[:]\n",
    "    my_list.append(90)\n",
    "    my_variable = 45\n",
    "\n",
    "    print('my_list after change inside function2', my_list)\n",
    "    print('my_variable after change inside function2', my_variable)\n",
    "\n",
    "\n",
    "function2(my_list, my_variable)    \n",
    "print(f'my_list after calling function2 is {my_list}')\n",
    "print(f'my_variable after calling function2 is {my_variable}')"
   ]
  },
  {
   "cell_type": "code",
   "execution_count": 71,
   "metadata": {},
   "outputs": [
    {
     "name": "stdout",
     "output_type": "stream",
     "text": [
      "my_list before change inside function1: [1, 2, 3, 4]\n",
      "my_variable before change inside function1: 5\n",
      "my_list after change inside function1: [1, 2, 3, 4, 30]\n",
      "my_variable after change inside function1: 10\n",
      "my_list after change1 inside function3 [1, 2, 3, 4, 30]\n",
      "my_variable after change1 inside function3 5\n",
      "my_list after change inside function2 [1, 2, 3, 4, 30, 90]\n",
      "my_variable after change inside function2 45\n",
      "my_list after change2 inside function3 [1, 2, 3, 4, 30]\n",
      "my_variable after change2 inside function3 5\n"
     ]
    }
   ],
   "source": [
    "my_list = [1, 2, 3, 4]\n",
    "my_variable = 5\n",
    "\n",
    "def function3():\n",
    "    my_list = [1, 2, 3, 4]\n",
    "    my_variable = 0\n",
    "\n",
    "def function2(my_list, my_vairable):\n",
    "    # https://stackoverflow.com/questions/2612802/how-to-clone-or-copy-a-list\n",
    "\n",
    "    my_list = my_list[:]\n",
    "    my_list.append(90)\n",
    "    my_variable = 45\n",
    "\n",
    "    print('my_list after change inside function2', my_list)\n",
    "    print('my_variable after change inside function2', my_variable)\n",
    "\n",
    "function1(my_list, my_variable)\n",
    "\n",
    "print('my_list after change1 inside function3', my_list)\n",
    "print('my_variable after change1 inside function3', my_variable)\n",
    "\n",
    "function2(my_list, my_variable)\n",
    "\n",
    "\n",
    "print('my_list after change2 inside function3', my_list)\n",
    "print('my_variable after change2 inside function3', my_variable)\n",
    "\n",
    "\n",
    "\n",
    "function3()\n"
   ]
  },
  {
   "cell_type": "code",
   "execution_count": 73,
   "metadata": {},
   "outputs": [
    {
     "name": "stdout",
     "output_type": "stream",
     "text": [
      "{'name': 'John', 'Grade': 85}\n",
      "{'name': 'Jane', 'Grade': 85}\n",
      "{'name': 'Jane', 'Grade': 85}\n"
     ]
    }
   ],
   "source": [
    "import copy\n",
    "\n",
    "my_dict = {'name': 'John', 'Grade': 85}\n",
    "\n",
    "def func4(my_dict):\n",
    "    print(my_dict)\n",
    "    my_dict['name'] = 'Jane'\n",
    "    print(my_dict)\n",
    "   \n",
    "func4(my_dict)\n",
    "print(my_dict)\n",
    "# dict2 = copy.deepcopy(dict1)"
   ]
  },
  {
   "cell_type": "code",
   "execution_count": 76,
   "metadata": {},
   "outputs": [
    {
     "name": "stdout",
     "output_type": "stream",
     "text": [
      "{'name': 'John', 'Grade': 85}\n",
      "{'name': 'Jane', 'Grade': 85}\n",
      "{'name': 'John', 'Grade': 85}\n"
     ]
    }
   ],
   "source": [
    "import copy\n",
    "\n",
    "my_dict = {'name': 'John', 'Grade': 85}\n",
    "\n",
    "def func5(my_dict):\n",
    "    my_dict = copy.deepcopy(my_dict)\n",
    "    print(my_dict)\n",
    "    my_dict['name'] = 'Jane'\n",
    "    print(my_dict)\n",
    "   \n",
    "\n",
    "\n",
    "func5(my_dict)\n",
    "print(my_dict)\n",
    "# dict2 = copy.deepcopy(dict1)"
   ]
  },
  {
   "cell_type": "code",
   "execution_count": 77,
   "metadata": {},
   "outputs": [],
   "source": [
    "my_dict = {'name': 'John', 'Grade': 85}"
   ]
  },
  {
   "cell_type": "code",
   "execution_count": 78,
   "metadata": {
    "scrolled": true
   },
   "outputs": [
    {
     "name": "stdout",
     "output_type": "stream",
     "text": [
      "{'name': 'John', 'Grade': 85, 'Name': 'John'}\n"
     ]
    }
   ],
   "source": [
    "my_dict['Name'] = 'John'\n",
    "print(my_dict)"
   ]
  },
  {
   "cell_type": "code",
   "execution_count": null,
   "metadata": {},
   "outputs": [],
   "source": []
  },
  {
   "cell_type": "code",
   "execution_count": 79,
   "metadata": {},
   "outputs": [
    {
     "name": "stdout",
     "output_type": "stream",
     "text": [
      "{'Grade': 85, 'Name': 'John'}\n"
     ]
    }
   ],
   "source": [
    "del my_dict['name']\n",
    "print(my_dict)"
   ]
  },
  {
   "cell_type": "code",
   "execution_count": 82,
   "metadata": {},
   "outputs": [
    {
     "name": "stdout",
     "output_type": "stream",
     "text": [
      "{'Grade': 85, 'Name': 'Jack'}\n"
     ]
    }
   ],
   "source": [
    "my_dict['Name'] = 'Jack'\n",
    "print(my_dict)"
   ]
  },
  {
   "cell_type": "code",
   "execution_count": 80,
   "metadata": {},
   "outputs": [
    {
     "name": "stdout",
     "output_type": "stream",
     "text": [
      "[1, 2, 3]\n"
     ]
    }
   ],
   "source": [
    "x = [1, 2, 3]\n",
    "print(x)"
   ]
  },
  {
   "cell_type": "code",
   "execution_count": 81,
   "metadata": {},
   "outputs": [
    {
     "name": "stdout",
     "output_type": "stream",
     "text": [
      "[1, 5, 3]\n"
     ]
    }
   ],
   "source": [
    "x[1] = 5\n",
    "print(x)"
   ]
  },
  {
   "cell_type": "code",
   "execution_count": 85,
   "metadata": {},
   "outputs": [
    {
     "ename": "KeyError",
     "evalue": "'Name'",
     "output_type": "error",
     "traceback": [
      "\u001b[1;31m---------------------------------------------------------------------------\u001b[0m",
      "\u001b[1;31mKeyError\u001b[0m                                  Traceback (most recent call last)",
      "\u001b[1;32m<ipython-input-85-a4c6dfa152b5>\u001b[0m in \u001b[0;36m<module>\u001b[1;34m\u001b[0m\n\u001b[0;32m      4\u001b[0m \u001b[1;33m\u001b[0m\u001b[0m\n\u001b[0;32m      5\u001b[0m \u001b[1;32mfor\u001b[0m \u001b[0mold_name\u001b[0m\u001b[1;33m,\u001b[0m \u001b[0mnew_name\u001b[0m \u001b[1;32min\u001b[0m \u001b[0mmapping\u001b[0m\u001b[1;33m:\u001b[0m\u001b[1;33m\u001b[0m\u001b[1;33m\u001b[0m\u001b[0m\n\u001b[1;32m----> 6\u001b[1;33m     \u001b[0mmy_dict\u001b[0m\u001b[1;33m[\u001b[0m\u001b[0mnew_name\u001b[0m\u001b[1;33m]\u001b[0m \u001b[1;33m=\u001b[0m \u001b[0mmy_dict\u001b[0m\u001b[1;33m[\u001b[0m\u001b[0mold_name\u001b[0m\u001b[1;33m]\u001b[0m\u001b[1;33m\u001b[0m\u001b[1;33m\u001b[0m\u001b[0m\n\u001b[0m\u001b[0;32m      7\u001b[0m     \u001b[1;32mdel\u001b[0m \u001b[0mmy_dict\u001b[0m\u001b[1;33m[\u001b[0m\u001b[0mold_name\u001b[0m\u001b[1;33m]\u001b[0m\u001b[1;33m\u001b[0m\u001b[1;33m\u001b[0m\u001b[0m\n\u001b[0;32m      8\u001b[0m \u001b[1;33m\u001b[0m\u001b[0m\n",
      "\u001b[1;31mKeyError\u001b[0m: 'Name'"
     ]
    }
   ],
   "source": [
    "mapping = (('Name', 'name'), \n",
    "    ('Grade', 'Total')\n",
    ")\n",
    "\n",
    "for old_name, new_name in mapping:\n",
    "    my_dict[new_name] = my_dict[old_name]\n",
    "    del my_dict[old_name]\n",
    "    \n",
    "print(my_dict)"
   ]
  },
  {
   "cell_type": "code",
   "execution_count": 89,
   "metadata": {},
   "outputs": [
    {
     "data": {
      "text/plain": [
       "'John'"
      ]
     },
     "execution_count": 89,
     "metadata": {},
     "output_type": "execute_result"
    }
   ],
   "source": [
    "# class is like a blue print\n",
    "# object is an instance of the class \n",
    "\n",
    "def func():\n",
    "    pass\n",
    "\n",
    "# UpperCamelCase \n",
    "# MyScores\n",
    "# PersonAddress\n",
    "\n",
    "class Person:\n",
    "    def __init__(self, first_name, last_name, email):\n",
    "        self.first_name = first_name\n",
    "        self.last_name = last_name\n",
    "        self.email = email\n",
    "        self.username = email.split('@')[0]\n",
    "        \n",
    "person1 = Person('John', 'Doe', 'john@buffalo.edu')\n",
    "person1.first_name"
   ]
  },
  {
   "cell_type": "code",
   "execution_count": 90,
   "metadata": {},
   "outputs": [
    {
     "data": {
      "text/plain": [
       "'Doe'"
      ]
     },
     "execution_count": 90,
     "metadata": {},
     "output_type": "execute_result"
    }
   ],
   "source": [
    "person1.last_name"
   ]
  },
  {
   "cell_type": "code",
   "execution_count": 91,
   "metadata": {},
   "outputs": [
    {
     "data": {
      "text/plain": [
       "'john@buffalo.edu'"
      ]
     },
     "execution_count": 91,
     "metadata": {},
     "output_type": "execute_result"
    }
   ],
   "source": [
    "person1.email"
   ]
  },
  {
   "cell_type": "code",
   "execution_count": 92,
   "metadata": {},
   "outputs": [
    {
     "data": {
      "text/plain": [
       "'john'"
      ]
     },
     "execution_count": 92,
     "metadata": {},
     "output_type": "execute_result"
    }
   ],
   "source": [
    "person1.username"
   ]
  },
  {
   "cell_type": "code",
   "execution_count": 93,
   "metadata": {},
   "outputs": [
    {
     "name": "stdout",
     "output_type": "stream",
     "text": [
      "<__main__.Person object at 0x000001E924B601F0>\n"
     ]
    }
   ],
   "source": [
    "print(person1)"
   ]
  },
  {
   "cell_type": "code",
   "execution_count": 101,
   "metadata": {},
   "outputs": [],
   "source": [
    "class Person:\n",
    "    def __init__(self, first_name, last_name, email):\n",
    "        self.first_name = first_name\n",
    "        self.last_name = last_name\n",
    "        self.email = email\n",
    "\n",
    "    def __repr__(self):\n",
    "        return f'{self.first_name} {self.last_name}'\n",
    "\n",
    "    \n",
    "# python default repr\n",
    "# your own repr\n",
    "# your own str"
   ]
  },
  {
   "cell_type": "code",
   "execution_count": 102,
   "metadata": {},
   "outputs": [
    {
     "name": "stdout",
     "output_type": "stream",
     "text": [
      "John Doe\n"
     ]
    }
   ],
   "source": [
    "person1 = Person('John', 'Doe', 'john@buffalo.edu')\n",
    "print(person1)"
   ]
  },
  {
   "cell_type": "code",
   "execution_count": 103,
   "metadata": {},
   "outputs": [
    {
     "data": {
      "text/plain": [
       "'John Doe'"
      ]
     },
     "execution_count": 103,
     "metadata": {},
     "output_type": "execute_result"
    }
   ],
   "source": [
    "person1.__repr__()"
   ]
  },
  {
   "cell_type": "code",
   "execution_count": 104,
   "metadata": {},
   "outputs": [
    {
     "data": {
      "text/plain": [
       "'John Doe'"
      ]
     },
     "execution_count": 104,
     "metadata": {},
     "output_type": "execute_result"
    }
   ],
   "source": [
    "person1.__str__()"
   ]
  },
  {
   "cell_type": "code",
   "execution_count": 105,
   "metadata": {},
   "outputs": [
    {
     "name": "stdout",
     "output_type": "stream",
     "text": [
      "John Doe\n"
     ]
    }
   ],
   "source": [
    "# https://stackoverflow.com/questions/1436703/what-is-the-difference-between-str-and-repr\n",
    "class Person:\n",
    "    def __init__(self, first_name, last_name, email):\n",
    "        self.first_name = first_name\n",
    "        self.last_name = last_name\n",
    "        self.email = email\n",
    "\n",
    "    def __repr__(self):\n",
    "        return f'{self.first_name} {self.last_name}'\n",
    "\n",
    "    def get_email(self):\n",
    "        return self.email\n",
    "\n",
    "    def get_full_name(self):\n",
    "        return f'{self.last_name}, {self.first_name}'\n",
    "\n",
    "person1 = Person('John', 'Doe', 'john@buffalo.edu')\n",
    "print(person1)\n"
   ]
  },
  {
   "cell_type": "code",
   "execution_count": 106,
   "metadata": {},
   "outputs": [
    {
     "data": {
      "text/plain": [
       "'john@buffalo.edu'"
      ]
     },
     "execution_count": 106,
     "metadata": {},
     "output_type": "execute_result"
    }
   ],
   "source": [
    "person1.get_email()"
   ]
  },
  {
   "cell_type": "code",
   "execution_count": 107,
   "metadata": {},
   "outputs": [
    {
     "data": {
      "text/plain": [
       "'john@buffalo.edu'"
      ]
     },
     "execution_count": 107,
     "metadata": {},
     "output_type": "execute_result"
    }
   ],
   "source": [
    "person1.email"
   ]
  },
  {
   "cell_type": "code",
   "execution_count": 108,
   "metadata": {},
   "outputs": [
    {
     "data": {
      "text/plain": [
       "'Doe, John'"
      ]
     },
     "execution_count": 108,
     "metadata": {},
     "output_type": "execute_result"
    }
   ],
   "source": [
    "person1.get_full_name()"
   ]
  },
  {
   "cell_type": "code",
   "execution_count": 109,
   "metadata": {},
   "outputs": [
    {
     "name": "stdout",
     "output_type": "stream",
     "text": [
      "John Doe\n"
     ]
    }
   ],
   "source": [
    "class Student(Person):\n",
    "\n",
    "    def __init__(self, first_name, last_name, email, program):\n",
    "        # Person.__init__(first_name, last_name, email)\n",
    "        super().__init__(first_name, last_name, email)\n",
    "        self.program = program\n",
    "        \n",
    "s1 = Student('John', 'Doe', 'john@buffalo.edu', 'EAS')\n",
    "\n",
    "print(s1)"
   ]
  },
  {
   "cell_type": "code",
   "execution_count": 112,
   "metadata": {},
   "outputs": [
    {
     "name": "stdout",
     "output_type": "stream",
     "text": [
      "john doe\n"
     ]
    }
   ],
   "source": [
    "class Student(Person):\n",
    "    PROGRAMS = ['graduate', 'undergraduate']\n",
    "\n",
    "    def __init__(self, first_name, last_name, email, program):\n",
    "        super().__init__(first_name, last_name, email)\n",
    "        if program.lower() not in self.PROGRAMS:\n",
    "            raise ValueError('program can only be \"graduate\" or \"undergraduate\"')\n",
    "        self.program = program.lower()\n",
    "        self.classes = []\n",
    "\n",
    "\n",
    "    def enroll(self, name_of_course):\n",
    "        self.classes.append(name_of_course)\n",
    "\n",
    "    def print_classes(self):\n",
    "        classes = ', '.join(self.classes)\n",
    "        print(f'{classes}')\n",
    "\n",
    "        \n",
    "s1 = Student('john', 'doe', 'jdoe@example.edu', 'Graduate')\n",
    "print(s1)"
   ]
  },
  {
   "cell_type": "code",
   "execution_count": 114,
   "metadata": {},
   "outputs": [
    {
     "name": "stdout",
     "output_type": "stream",
     "text": [
      "EAS503, EAS501, EAS502, EAS503, EAS501, EAS502, EAS503\n"
     ]
    }
   ],
   "source": [
    "s1.enroll('EAS503')\n",
    "s1.enroll('EAS501')\n",
    "s1.enroll('EAS502')\n",
    "s1.enroll('EAS503')\n",
    "\n",
    "s1.print_classe()s"
   ]
  },
  {
   "cell_type": "code",
   "execution_count": 117,
   "metadata": {},
   "outputs": [
    {
     "name": "stdout",
     "output_type": "stream",
     "text": [
      "[]\n",
      "Already enrolled in EAS503 doe, john!\n"
     ]
    }
   ],
   "source": [
    "class Student(Person):\n",
    "    PROGRAMS = ['graduate', 'undergraduate']\n",
    "\n",
    "    def __init__(self, first_name, last_name, email, program):\n",
    "        super().__init__(first_name, last_name, email)\n",
    "        if program.lower() not in self.PROGRAMS:\n",
    "            raise ValueError('program can only be \"graduate\" or \"undergraduate\"')\n",
    "        self.program = program\n",
    "        self.classes = []\n",
    "\n",
    "\n",
    "    def enroll(self, name_of_course):\n",
    "        if name_of_course not in self.classes:\n",
    "            self.classes.append(name_of_course)\n",
    "        else:\n",
    "            print(f'Already enrolled in {name_of_course} {self.get_full_name()}!')\n",
    "\n",
    "    def print_classes(self):\n",
    "        classes = ', '.join(self.classes)\n",
    "        print(f'{classes}')\n",
    "\n",
    "    def print_self(self):\n",
    "        print(self)\n",
    "\n",
    "s1 = Student('john', 'doe', 'jdoe@example.edu', 'Graduate')\n",
    "print(s1.classes)\n",
    "s1.enroll('EAS503')\n",
    "s1.enroll('EAS501')\n",
    "s1.enroll('EAS502')\n",
    "s1.enroll('EAS503')"
   ]
  },
  {
   "cell_type": "code",
   "execution_count": 123,
   "metadata": {},
   "outputs": [
    {
     "name": "stdout",
     "output_type": "stream",
     "text": [
      "john doe\n",
      "Already enrolled in Chemistry!\n",
      "Chemistry (3), Math (3), Physics (4)\n"
     ]
    }
   ],
   "source": [
    "class Course:\n",
    "    def __init__(self, course_name, credits):\n",
    "        self.course_name = course_name\n",
    "        self.credits = credits\n",
    "\n",
    "    def __repr__(self):\n",
    "        return f'{self.course_name}'\n",
    "\n",
    "\n",
    "    def get_course_name(self):\n",
    "        return self.course_name\n",
    "\n",
    "    \n",
    "class Student(Person):\n",
    "    PROGRAMS = ['graduate', 'undergraduate']\n",
    "\n",
    "    def __init__(self, first_name, last_name, email, program):\n",
    "        super().__init__(first_name, last_name, email)\n",
    "        if program.lower() not in self.PROGRAMS:\n",
    "            raise ValueError('program can only be \"graduate\" or \"undergraduate\"')\n",
    "        self.program = program\n",
    "        self.classes = []\n",
    "\n",
    "\n",
    "    def enroll(self, course):\n",
    "        if course not in self.classes:\n",
    "            self.classes.append(course)\n",
    "        else:\n",
    "            print(f'Already enrolled in {course}!')\n",
    "\n",
    "    def print_classes(self):\n",
    "        classes = ', '.join(sorted([f'{i.course_name} ({i.credits})' for i in self.classes]))\n",
    "        print(f'{classes}')\n",
    "\n",
    "\n",
    "\n",
    "\n",
    "\n",
    "c1 = Course('Math', 3)\n",
    "c2 = Course('Physics', 4)\n",
    "c3 = Course('Chemistry', 3)\n",
    "c4 = Course('English', 3)\n",
    "\n",
    "s1 = Student('john', 'doe', 'jdoe@example.edu', 'graduate')\n",
    "print(s1)\n",
    "s1.enroll(c1)\n",
    "s1.enroll(c2)\n",
    "s1.enroll(c3)\n",
    "s1.enroll(c3)\n",
    "s1.print_classes()"
   ]
  },
  {
   "cell_type": "code",
   "execution_count": 129,
   "metadata": {},
   "outputs": [
    {
     "name": "stdout",
     "output_type": "stream",
     "text": [
      "john doe\n",
      "Already enrolled in Math!\n",
      "Cannot enroll, exceeded max credits\n",
      "Cannot enroll, exceeded max credits\n",
      "Chemistry, Math, Math\n"
     ]
    }
   ],
   "source": [
    "class Student(Person):\n",
    "    PROGRAMS = ['graduate', 'undergraduate']\n",
    "    MAX_CREDITS = 9\n",
    "\n",
    "    def __init__(self, first_name, last_name, email, program):\n",
    "        super().__init__(first_name, last_name, email)\n",
    "        if program.lower() not in self.PROGRAMS:\n",
    "            raise ValueError('program can only be \"graduate\" or \"undergraduate\"')\n",
    "        self.program = program\n",
    "        self.classes = []\n",
    "        self.enrolled_credits = 0\n",
    "\n",
    "    def enroll(self, course):\n",
    "        \n",
    "        if course in self.classes:\n",
    "            print(f'Already enrolled in {course}!')\n",
    "            \n",
    "        if self.enrolled_credits < self.MAX_CREDITS:\n",
    "            \n",
    "            self.classes.append(course)\n",
    "            self.enrolled_credits += course.credits\n",
    "        else:\n",
    "            print('Cannot enroll, exceeded max credits')\n",
    "            \n",
    "            \n",
    "#         if self.get_total_credits() + course.credits > self.MAX_CREDITS:\n",
    "#             print(f'You will be over the max credits! Cannot add {course}.')\n",
    "#             return\n",
    "\n",
    "       \n",
    "\n",
    "    def print_classes(self):\n",
    "        classes = ', '.join(sorted([i.course_name for i in self.classes]))\n",
    "        print(f'{classes}')\n",
    "\n",
    "\n",
    "    def get_total_credits(self):\n",
    "        total_credits = 0\n",
    "        for ele in self.classes:\n",
    "            total_credits += ele.credits\n",
    "        return total_credits\n",
    "\n",
    "class Course:\n",
    "    def __init__(self, course_name, credits):\n",
    "        self.course_name = course_name\n",
    "        self.credits = credits\n",
    "\n",
    "    def __repr__(self):\n",
    "        return f'{self.course_name}'\n",
    "\n",
    "    def __str__(self):\n",
    "        return f'{self.course_name}'\n",
    "\n",
    "\n",
    "    def get_course_name(self):\n",
    "        return self.course_name\n",
    "\n",
    "\n",
    "c1 = Course('Math', 3)\n",
    "c2 = Course('Physics', 4)\n",
    "c3 = Course('Chemistry', 3)\n",
    "c4 = Course('English', 3)\n",
    "\n",
    "s1 = Student('john', 'doe', 'jdoe@example.edu', 'graduate')\n",
    "print(s1)\n",
    "s1.enroll(c1)\n",
    "s1.enroll(c1)\n",
    "s1.enroll(c3)\n",
    "s1.enroll(c4)\n",
    "s1.enroll(c2)\n",
    "s1.print_classes()\n"
   ]
  },
  {
   "cell_type": "code",
   "execution_count": null,
   "metadata": {},
   "outputs": [],
   "source": []
  }
 ],
 "metadata": {
  "kernelspec": {
   "display_name": "Python 3",
   "language": "python",
   "name": "python3"
  },
  "language_info": {
   "codemirror_mode": {
    "name": "ipython",
    "version": 3
   },
   "file_extension": ".py",
   "mimetype": "text/x-python",
   "name": "python",
   "nbconvert_exporter": "python",
   "pygments_lexer": "ipython3",
   "version": "3.8.5"
  }
 },
 "nbformat": 4,
 "nbformat_minor": 4
}
