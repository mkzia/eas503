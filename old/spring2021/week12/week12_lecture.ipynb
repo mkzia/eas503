{
 "cells": [
  {
   "cell_type": "code",
   "execution_count": 1,
   "metadata": {},
   "outputs": [],
   "source": [
    "import sqlite3\n",
    "from sqlite3 import Error\n",
    "\n",
    "\n",
    "def create_connection(db_file):\n",
    "    conn = None\n",
    "    try:\n",
    "        conn = sqlite3.connect(db_file)\n",
    "    except Error as e:\n",
    "        print(e)\n",
    "\n",
    "    return conn"
   ]
  },
  {
   "cell_type": "code",
   "execution_count": 3,
   "metadata": {},
   "outputs": [],
   "source": [
    "def create_table(conn, create_table_sql):\n",
    "    try:\n",
    "        c = conn.cursor()\n",
    "        c.execute(create_table_sql)\n",
    "    except Error as e:\n",
    "        print(e)"
   ]
  },
  {
   "cell_type": "code",
   "execution_count": 4,
   "metadata": {},
   "outputs": [],
   "source": [
    "import os, pprint\n",
    "db_file = 'testdb1.db'\n",
    "\n",
    "if os.path.exists(db_file):\n",
    "    os.remove(db_file)\n",
    "\n",
    "create_table_sql = \"\"\"CREATE TABLE students (\n",
    "    last_name TEXT, \n",
    "    first_name TEXT, \n",
    "    username TEXT, \n",
    "    exam1 REAL, exam2 REAL, exam3 REAL);\"\"\"\n",
    "\n",
    "conn = create_connection(db_file)\n",
    "\n",
    "with conn:\n",
    "    create_table(conn, create_table_sql)"
   ]
  },
  {
   "cell_type": "code",
   "execution_count": 5,
   "metadata": {},
   "outputs": [
    {
     "name": "stdout",
     "output_type": "stream",
     "text": [
      "<sqlite3.Connection object at 0x000001DF1D6158A0>\n"
     ]
    }
   ],
   "source": [
    "print(conn)"
   ]
  },
  {
   "cell_type": "code",
   "execution_count": 6,
   "metadata": {},
   "outputs": [],
   "source": [
    "conn.close()"
   ]
  },
  {
   "cell_type": "code",
   "execution_count": 7,
   "metadata": {},
   "outputs": [
    {
     "name": "stdout",
     "output_type": "stream",
     "text": [
      "<sqlite3.Connection object at 0x000001DF1D6158A0>\n"
     ]
    }
   ],
   "source": [
    "print(conn)"
   ]
  },
  {
   "cell_type": "code",
   "execution_count": 9,
   "metadata": {},
   "outputs": [
    {
     "name": "stdout",
     "output_type": "stream",
     "text": [
      "table students already exists\n"
     ]
    }
   ],
   "source": [
    "conn = create_connection(db_file)\n",
    "with conn:\n",
    "    create_table(conn, create_table_sql)"
   ]
  },
  {
   "cell_type": "code",
   "execution_count": 18,
   "metadata": {},
   "outputs": [],
   "source": [
    "create_table_sql = \"\"\"CREATE TABLE students (\n",
    "    last_name TEXT, \n",
    "    first_name TEXT, \n",
    "    username TEXT, \n",
    "    exam1 REAL, exam2 REAL, exam3 REAL);\"\"\"\n",
    "with conn:\n",
    "    create_table(conn, \"DROP TABLE Students\")\n",
    "    create_table(conn, create_table_sql)"
   ]
  },
  {
   "cell_type": "code",
   "execution_count": 22,
   "metadata": {},
   "outputs": [],
   "source": [
    "def insert_student(conn, values):\n",
    "\n",
    "    sql = ''' INSERT INTO students(last_name,first_name,username,exam1,exam2,exam3)\n",
    "              VALUES(?,?,?,?,?,?) '''\n",
    "    cur = conn.cursor()\n",
    "    cur.execute(sql, values)\n",
    "    return cur.lastrowid"
   ]
  },
  {
   "cell_type": "code",
   "execution_count": 32,
   "metadata": {},
   "outputs": [],
   "source": [
    "def select_all_students(conn):\n",
    "    cur = conn.cursor()\n",
    "    cur.execute(\"SELECT * FROM students\")\n",
    "    rows = cur.fetchall()\n",
    "    for row in rows:\n",
    "        print(row)\n",
    "\n",
    "    return rows"
   ]
  },
  {
   "cell_type": "code",
   "execution_count": 33,
   "metadata": {
    "scrolled": false
   },
   "outputs": [
    {
     "name": "stdout",
     "output_type": "stream",
     "text": [
      "('Larson', 'Melissa', 'larsonmeli', 24.0, 89.0, 31.0)\n",
      "('Novak', 'Melissa', 'novakmeli', 77.0, 3.0, 38.0)\n",
      "('Sawyer', 'Wendy', 'sawyerwend', 81.0, 59.0, 30.0)\n",
      "('Schultz', 'Marcus', 'schultzmarc', 59.0, 29.0, 67.0)\n",
      "('Vega', 'Nicholas', 'veganich', 64.0, 12.0, 95.0)\n",
      "('Adams', 'Brenda', 'adamsbren', 80.0, 49.0, 60.0)\n",
      "('Thompson', 'Charlene', 'thompsonchar', 37.0, 56.0, 26.0)\n",
      "('Booth', 'Bradley', 'boothbrad', 85.0, 8.0, 77.0)\n",
      "('Gallegos', 'Eugene', 'gallegoseuge', 34.0, 9.0, 76.0)\n",
      "('Munoz', 'Mary', 'munozmary', 77.0, 41.0, 55.0)\n",
      "('Carey', 'Kimberly', 'careykimb', 29.0, 94.0, 23.0)\n",
      "('Paul', 'Philip', 'paulphil', 79.0, 86.0, 60.0)\n",
      "('Reed', 'Madeline', 'reedmade', 16.0, 39.0, 46.0)\n",
      "('Parsons', 'Cassie', 'parsonscass', 61.0, 62.0, 65.0)\n",
      "('Mcclain', 'Glenn', 'mcclainglen', 85.0, 98.0, 52.0)\n",
      "('Oliver', 'Janice', 'oliverjani', 72.0, 47.0, 34.0)\n",
      "('Lozano', 'Catherine', 'lozanocath', 71.0, 19.0, 94.0)\n",
      "('Klein', 'John', 'kleinjohn', 3.0, 43.0, 88.0)\n",
      "('Brooks', 'Marcus', 'brooksmarc', 6.0, 81.0, 70.0)\n",
      "('Lee', 'Michael', 'leemich', 30.0, 54.0, 25.0)\n",
      "('Myers', 'Elizabeth', 'myerseliz', 41.0, 38.0, 28.0)\n",
      "('Bowen', 'Katherine', 'bowenkath', 57.0, 61.0, 34.0)\n",
      "('Gibson', 'Edward', 'gibsonedwa', 84.0, 27.0, 21.0)\n",
      "('Smith', 'Christopher', 'smithchri', 25.0, 11.0, 68.0)\n",
      "('Key', 'Debra', 'keydebr', 66.0, 47.0, 29.0)\n",
      "('Fleming', 'Carlos', 'flemingcarl', 50.0, 45.0, 93.0)\n",
      "('Parrish', 'Nathan', 'parrishnath', 47.0, 92.0, 45.0)\n",
      "('Lewis', 'Michael', 'lewismich', 73.0, 65.0, 98.0)\n",
      "('Diaz', 'David', 'diazdavi', 52.0, 40.0, 20.0)\n",
      "('Walter', 'Linda', 'walterlind', 28.0, 14.0, 71.0)\n",
      "('Bailey', 'Amanda', 'baileyaman', 27.0, 4.0, 38.0)\n",
      "('Terrell', 'Robert', 'terrellrobe', 99.0, 93.0, 60.0)\n",
      "('Johnson', 'Janice', 'johnsonjani', 22.0, 49.0, 93.0)\n",
      "('Lee', 'John', 'leejohn', 25.0, 25.0, 39.0)\n",
      "('Dominguez', 'Kathryn', 'dominguezkath', 21.0, 82.0, 31.0)\n",
      "('Ellis', 'Paige', 'ellispaig', 41.0, 46.0, 82.0)\n",
      "('Wilkinson', 'Jennifer', 'wilkinsonjenn', 52.0, 64.0, 44.0)\n",
      "('Rodriguez', 'Michelle', 'rodriguezmich', 94.0, 24.0, 50.0)\n",
      "('Kennedy', 'Lisa', 'kennedylisa', 93.0, 19.0, 48.0)\n",
      "('Henderson', 'Michelle', 'hendersonmich', 91.0, 60.0, 86.0)\n",
      "('Hill', 'James', 'hilljame', 59.0, 22.0, 85.0)\n",
      "('Jones', 'David', 'jonesdavi', 37.0, 60.0, 15.0)\n",
      "('Landry', 'Patrick', 'landrypatr', 41.0, 82.0, 93.0)\n",
      "('Cox', 'Jerome', 'coxjero', 67.0, 28.0, 29.0)\n",
      "('Santana', 'Linda', 'santanalind', 77.0, 58.0, 4.0)\n",
      "('Patton', 'Robert', 'pattonrobe', 78.0, 53.0, 20.0)\n",
      "('Mclean', 'Christopher', 'mcleanchri', 59.0, 58.0, 73.0)\n",
      "('Rhodes', 'Andre', 'rhodesandr', 53.0, 9.0, 82.0)\n",
      "('Ramsey', 'John', 'ramseyjohn', 89.0, 95.0, 94.0)\n",
      "('Martin', 'Paul', 'martinpaul', 15.0, 11.0, 12.0)\n",
      "('Perez', 'Kelli', 'perezkell', 6.0, 22.0, 3.0)\n",
      "('Moran', 'Troy', 'morantroy', 61.0, 21.0, 45.0)\n",
      "('Kerr', 'Sarah', 'kerrsara', 82.0, 27.0, 65.0)\n",
      "('Wade', 'Stephanie', 'wadestep', 9.0, 69.0, 31.0)\n",
      "('Smith', 'Rebecca', 'smithrebe', 3.0, 75.0, 55.0)\n",
      "('Long', 'Joel', 'longjoel', 20.0, 50.0, 3.0)\n",
      "('Ashley', 'Cody', 'ashleycody', 75.0, 69.0, 94.0)\n",
      "('Patrick', 'Rachel', 'patrickrach', 16.0, 20.0, 80.0)\n",
      "('Oliver', 'Alex', 'oliveralex', 61.0, 22.0, 6.0)\n",
      "('Hoffman', 'Shannon', 'hoffmanshan', 29.0, 68.0, 71.0)\n",
      "('Holden', 'Michael', 'holdenmich', 57.0, 23.0, 53.0)\n",
      "('Graham', 'Vanessa', 'grahamvane', 78.0, 76.0, 73.0)\n",
      "('Blair', 'Christopher', 'blairchri', 70.0, 97.0, 27.0)\n",
      "('Taylor', 'Diana', 'taylordian', 99.0, 90.0, 6.0)\n",
      "('Reilly', 'Brandon', 'reillybran', 10.0, 94.0, 64.0)\n",
      "('Gamble', 'Matthew', 'gamblematt', 48.0, 50.0, 26.0)\n",
      "('Weber', 'Patrick', 'weberpatr', 87.0, 33.0, 92.0)\n",
      "('Woodard', 'Judy', 'woodardjudy', 47.0, 43.0, 13.0)\n",
      "('Hull', 'Alexandra', 'hullalex', 38.0, 7.0, 42.0)\n",
      "('Frank', 'Jessica', 'frankjess', 95.0, 87.0, 92.0)\n",
      "('Davis', 'Samuel', 'davissamu', 22.0, 17.0, 91.0)\n",
      "('Baird', 'Alexandra', 'bairdalex', 32.0, 90.0, 71.0)\n",
      "('Hensley', 'James', 'hensleyjame', 52.0, 50.0, 61.0)\n",
      "('Luna', 'Carmen', 'lunacarm', 36.0, 92.0, 6.0)\n",
      "('Garcia', 'Brian', 'garciabria', 37.0, 53.0, 3.0)\n",
      "('Andrews', 'Luis', 'andrewsluis', 43.0, 92.0, 3.0)\n",
      "('Watson', 'Jessica', 'watsonjess', 2.0, 44.0, 50.0)\n",
      "('Evans', 'Dawn', 'evansdawn', 18.0, 59.0, 45.0)\n",
      "('Barnes', 'Tammy', 'barnestamm', 54.0, 53.0, 71.0)\n",
      "('Nelson', 'Angela', 'nelsonange', 33.0, 63.0, 66.0)\n",
      "('Patterson', 'Jennifer', 'pattersonjenn', 26.0, 98.0, 97.0)\n",
      "('King', 'Austin', 'kingaust', 64.0, 89.0, 59.0)\n",
      "('Smith', 'Carol', 'smithcaro', 73.0, 48.0, 65.0)\n",
      "('Cook', 'Lisa', 'cooklisa', 66.0, 25.0, 11.0)\n",
      "('Francis', 'Shawn', 'francisshaw', 37.0, 55.0, 26.0)\n",
      "('Monroe', 'Michael', 'monroemich', 23.0, 92.0, 34.0)\n",
      "('Cortez', 'Patrick', 'cortezpatr', 18.0, 22.0, 2.0)\n",
      "('Chang', 'Kristen', 'changkris', 78.0, 55.0, 94.0)\n",
      "('Mcclain', 'Brandy', 'mcclainbran', 65.0, 1.0, 23.0)\n",
      "('Sellers', 'Stephanie', 'sellersstep', 11.0, 83.0, 76.0)\n",
      "('Olsen', 'Mariah', 'olsenmari', 44.0, 27.0, 64.0)\n",
      "('Melton', 'Brianna', 'meltonbria', 52.0, 95.0, 47.0)\n",
      "('Day', 'Jon', 'dayjon', 15.0, 55.0, 71.0)\n",
      "('Little', 'Brian', 'littlebria', 25.0, 35.0, 88.0)\n",
      "('Johnson', 'Wayne', 'johnsonwayn', 66.0, 31.0, 58.0)\n",
      "('Duncan', 'Andrew', 'duncanandr', 59.0, 87.0, 34.0)\n",
      "('Bush', 'Alexander', 'bushalex', 82.0, 54.0, 25.0)\n",
      "('Summers', 'Michael', 'summersmich', 18.0, 95.0, 63.0)\n",
      "('Bowers', 'Sandra', 'bowerssand', 52.0, 8.0, 50.0)\n",
      "('Fernandez', 'Jonathan', 'fernandezjona', 74.0, 80.0, 22.0)\n"
     ]
    }
   ],
   "source": [
    "with conn:\n",
    "    create_table(conn, \"DROP TABLE Students\")\n",
    "    create_table(conn, create_table_sql)\n",
    "   \n",
    "    for student in open('students.tsv', 'r'):\n",
    "        values = student.strip().split('\\t')\n",
    "#         print(values)\n",
    "        rid = insert_student(conn, values)\n",
    "#         print(rid)\n",
    "    select_all_students(conn)\n",
    "        \n"
   ]
  },
  {
   "cell_type": "code",
   "execution_count": 37,
   "metadata": {},
   "outputs": [
    {
     "data": {
      "text/html": [
       "<div>\n",
       "<style scoped>\n",
       "    .dataframe tbody tr th:only-of-type {\n",
       "        vertical-align: middle;\n",
       "    }\n",
       "\n",
       "    .dataframe tbody tr th {\n",
       "        vertical-align: top;\n",
       "    }\n",
       "\n",
       "    .dataframe thead th {\n",
       "        text-align: right;\n",
       "    }\n",
       "</style>\n",
       "<table border=\"1\" class=\"dataframe\">\n",
       "  <thead>\n",
       "    <tr style=\"text-align: right;\">\n",
       "      <th></th>\n",
       "      <th>last_name</th>\n",
       "      <th>first_name</th>\n",
       "      <th>username</th>\n",
       "      <th>exam1</th>\n",
       "      <th>exam2</th>\n",
       "      <th>exam3</th>\n",
       "    </tr>\n",
       "  </thead>\n",
       "  <tbody>\n",
       "    <tr>\n",
       "      <th>0</th>\n",
       "      <td>Larson</td>\n",
       "      <td>Melissa</td>\n",
       "      <td>larsonmeli</td>\n",
       "      <td>24.0</td>\n",
       "      <td>89.0</td>\n",
       "      <td>31.0</td>\n",
       "    </tr>\n",
       "    <tr>\n",
       "      <th>1</th>\n",
       "      <td>Novak</td>\n",
       "      <td>Melissa</td>\n",
       "      <td>novakmeli</td>\n",
       "      <td>77.0</td>\n",
       "      <td>3.0</td>\n",
       "      <td>38.0</td>\n",
       "    </tr>\n",
       "    <tr>\n",
       "      <th>2</th>\n",
       "      <td>Sawyer</td>\n",
       "      <td>Wendy</td>\n",
       "      <td>sawyerwend</td>\n",
       "      <td>81.0</td>\n",
       "      <td>59.0</td>\n",
       "      <td>30.0</td>\n",
       "    </tr>\n",
       "    <tr>\n",
       "      <th>3</th>\n",
       "      <td>Schultz</td>\n",
       "      <td>Marcus</td>\n",
       "      <td>schultzmarc</td>\n",
       "      <td>59.0</td>\n",
       "      <td>29.0</td>\n",
       "      <td>67.0</td>\n",
       "    </tr>\n",
       "    <tr>\n",
       "      <th>4</th>\n",
       "      <td>Vega</td>\n",
       "      <td>Nicholas</td>\n",
       "      <td>veganich</td>\n",
       "      <td>64.0</td>\n",
       "      <td>12.0</td>\n",
       "      <td>95.0</td>\n",
       "    </tr>\n",
       "    <tr>\n",
       "      <th>...</th>\n",
       "      <td>...</td>\n",
       "      <td>...</td>\n",
       "      <td>...</td>\n",
       "      <td>...</td>\n",
       "      <td>...</td>\n",
       "      <td>...</td>\n",
       "    </tr>\n",
       "    <tr>\n",
       "      <th>95</th>\n",
       "      <td>Duncan</td>\n",
       "      <td>Andrew</td>\n",
       "      <td>duncanandr</td>\n",
       "      <td>59.0</td>\n",
       "      <td>87.0</td>\n",
       "      <td>34.0</td>\n",
       "    </tr>\n",
       "    <tr>\n",
       "      <th>96</th>\n",
       "      <td>Bush</td>\n",
       "      <td>Alexander</td>\n",
       "      <td>bushalex</td>\n",
       "      <td>82.0</td>\n",
       "      <td>54.0</td>\n",
       "      <td>25.0</td>\n",
       "    </tr>\n",
       "    <tr>\n",
       "      <th>97</th>\n",
       "      <td>Summers</td>\n",
       "      <td>Michael</td>\n",
       "      <td>summersmich</td>\n",
       "      <td>18.0</td>\n",
       "      <td>95.0</td>\n",
       "      <td>63.0</td>\n",
       "    </tr>\n",
       "    <tr>\n",
       "      <th>98</th>\n",
       "      <td>Bowers</td>\n",
       "      <td>Sandra</td>\n",
       "      <td>bowerssand</td>\n",
       "      <td>52.0</td>\n",
       "      <td>8.0</td>\n",
       "      <td>50.0</td>\n",
       "    </tr>\n",
       "    <tr>\n",
       "      <th>99</th>\n",
       "      <td>Fernandez</td>\n",
       "      <td>Jonathan</td>\n",
       "      <td>fernandezjona</td>\n",
       "      <td>74.0</td>\n",
       "      <td>80.0</td>\n",
       "      <td>22.0</td>\n",
       "    </tr>\n",
       "  </tbody>\n",
       "</table>\n",
       "<p>100 rows × 6 columns</p>\n",
       "</div>"
      ],
      "text/plain": [
       "    last_name first_name       username  exam1  exam2  exam3\n",
       "0      Larson    Melissa     larsonmeli   24.0   89.0   31.0\n",
       "1       Novak    Melissa      novakmeli   77.0    3.0   38.0\n",
       "2      Sawyer      Wendy     sawyerwend   81.0   59.0   30.0\n",
       "3     Schultz     Marcus    schultzmarc   59.0   29.0   67.0\n",
       "4        Vega   Nicholas       veganich   64.0   12.0   95.0\n",
       "..        ...        ...            ...    ...    ...    ...\n",
       "95     Duncan     Andrew     duncanandr   59.0   87.0   34.0\n",
       "96       Bush  Alexander       bushalex   82.0   54.0   25.0\n",
       "97    Summers    Michael    summersmich   18.0   95.0   63.0\n",
       "98     Bowers     Sandra     bowerssand   52.0    8.0   50.0\n",
       "99  Fernandez   Jonathan  fernandezjona   74.0   80.0   22.0\n",
       "\n",
       "[100 rows x 6 columns]"
      ]
     },
     "metadata": {},
     "output_type": "display_data"
    }
   ],
   "source": [
    "import pandas as pd\n",
    "df = pd.read_sql_query(\"SELECT * FROM StudENTs\", conn)\n",
    "display(df)"
   ]
  },
  {
   "cell_type": "code",
   "execution_count": 47,
   "metadata": {},
   "outputs": [
    {
     "name": "stdout",
     "output_type": "stream",
     "text": [
      "('Michael', 'IT')\n",
      "('John', 'IT')\n",
      "('Jack', 'IT')\n",
      "('Sara', 'Physics')\n",
      "('Sally', 'Physics')\n",
      "('Nancy', 'Physics')\n",
      "('Adam', 'Arts')\n",
      "('Stevens', 'Arts')\n"
     ]
    }
   ],
   "source": [
    "import os\n",
    "import sqlite3\n",
    "from sqlite3 import Error\n",
    "\n",
    "try:\n",
    "    conn.close()\n",
    "except:\n",
    "    pass\n",
    "def create_connection(db_file):\n",
    "    conn = None\n",
    "    try:\n",
    "        conn = sqlite3.connect(db_file)\n",
    "        conn.execute(\"PRAGMA foreign_keys = 1\")\n",
    "    except Error as e:\n",
    "        print(e)\n",
    "\n",
    "    return conn\n",
    "\n",
    "\n",
    "def create_table(conn, create_table_sql):\n",
    "    try:\n",
    "        c = conn.cursor()\n",
    "        c.execute(create_table_sql)\n",
    "    except Error as e:\n",
    "        print(e)\n",
    "\n",
    "def insert_depts(conn, values):\n",
    "    sql = ''' INSERT INTO Departments(DepartmentName)\n",
    "              VALUES(?) '''\n",
    "    cur = conn.cursor()\n",
    "    cur.execute(sql, values)\n",
    "    return cur.lastrowid\n",
    "\n",
    "\n",
    "def insert_student(conn, values):\n",
    "    sql = ''' INSERT INTO Students(StudentName, DepartmentId, DateOfBirth)\n",
    "              VALUES(?,?,?) '''\n",
    "    cur = conn.cursor()\n",
    "    cur.execute(sql, values)\n",
    "    return cur.lastrowid\n",
    "\n",
    "\n",
    "def select_all_students(conn):\n",
    "    cur = conn.cursor()\n",
    "#     cur.execute(\"\"\"SELECT * FROM Students INNER JOIN Departments USING(DepartmentId);\"\"\")\n",
    "    cur.execute(\"\"\"SELECT StudentName, DepartmentName FROM Students INNER JOIN Departments USING(DepartmentId);\"\"\")\n",
    "\n",
    "    rows = cur.fetchall()\n",
    "\n",
    "    for row in rows:\n",
    "        print(row)\n",
    "\n",
    "    return rows\n",
    "\n",
    "\n",
    "db_file = 'sqlite_example2.db'\n",
    "if os.path.exists(db_file):\n",
    "    os.remove(db_file)\n",
    "\n",
    "create_table_departments_sql = \"\"\" CREATE TABLE [Departments] (\n",
    "    [DepartmentId] INTEGER NOT NULL PRIMARY KEY,\n",
    "    [DepartmentName] TEXT NOT NULL\n",
    "); \"\"\"\n",
    "\n",
    "create_table_students_sql = \"\"\" CREATE TABLE [Students] (\n",
    "    [StudentId] INTEGER  PRIMARY KEY NOT NULL,\n",
    "    [StudentName] TEXT NOT NULL,\n",
    "    [DepartmentId] INTEGER  NULL,\n",
    "    [DateOfBirth] DATE NULL,\n",
    "    FOREIGN KEY(DepartmentId) REFERENCES Departments(DepartmentId)\n",
    ");  \"\"\"\n",
    "\n",
    "conn = create_connection(db_file)\n",
    "\n",
    "\n",
    "depts = ('IT', 'Physics', 'Arts', 'Math')\n",
    "students = (\n",
    "    ('Michael', 1, '1998-10-12'),\n",
    "    ('John', 1, '1998-10-12'),\n",
    "    ('Jack', 1, '1998-10-12'),\n",
    "    ('Sara', 2, '1998-10-12'),\n",
    "    ('Sally', 2, '1998-10-12'),\n",
    "    ('Jena', None, '1998-10-12'),\n",
    "    ('Nancy', 2, '1998-10-12'),\n",
    "    ('Adam', 3, '1998-10-12'),\n",
    "    ('Stevens', 3, '1998-10-12'),\n",
    "    ('George', None, '1998-10-12')\n",
    ")\n",
    "\n",
    "with conn:\n",
    "    create_table(conn, \"DROP TABLE IF EXISTS Departments\")\n",
    "    create_table(conn, \"DROP TABLE IF EXISTS Students\")\n",
    "    create_table(conn, create_table_departments_sql)\n",
    "    create_table(conn, create_table_students_sql)\n",
    "    for values in depts:\n",
    "#         print(values)\n",
    "#         print((values, ))\n",
    "        value_tupple = (values, )\n",
    "        insert_depts(conn, value_tupple)\n",
    "    for values in students:\n",
    "        insert_student(conn, values)\n",
    "select_all_students(conn)\n",
    "\n",
    "conn.close()"
   ]
  },
  {
   "cell_type": "code",
   "execution_count": null,
   "metadata": {},
   "outputs": [],
   "source": []
  },
  {
   "cell_type": "code",
   "execution_count": 53,
   "metadata": {},
   "outputs": [
    {
     "name": "stdout",
     "output_type": "stream",
     "text": [
      "['Michael', 'IT', '1998-10-12']\n",
      "(1,)\n",
      "['Michael', 1, '1998-10-12']\n",
      "['John', 'IT', '1998-10-12']\n",
      "(1,)\n",
      "['John', 1, '1998-10-12']\n",
      "['Jack', 'IT', '1998-10-12']\n",
      "(1,)\n",
      "['Jack', 1, '1998-10-12']\n",
      "['Sara', 'Physics', '1998-10-12']\n",
      "(2,)\n",
      "['Sara', 2, '1998-10-12']\n",
      "['Sally', 'Physics', '1998-10-12']\n",
      "(2,)\n",
      "['Sally', 2, '1998-10-12']\n",
      "['Jena', None, '1998-10-12']\n",
      "['Jena', None, '1998-10-12']\n",
      "['Nancy', 'Physics', '1998-10-12']\n",
      "(2,)\n",
      "['Nancy', 2, '1998-10-12']\n",
      "['Adam', 'Arts', '1998-10-12']\n",
      "(3,)\n",
      "['Adam', 3, '1998-10-12']\n",
      "['Stevens', 'Arts', '1998-10-12']\n",
      "(3,)\n",
      "['Stevens', 3, '1998-10-12']\n",
      "['George', None, '1998-10-12']\n",
      "['George', None, '1998-10-12']\n",
      "(1, 'Michael', 1, '1998-10-12', 'IT')\n",
      "(2, 'John', 1, '1998-10-12', 'IT')\n",
      "(3, 'Jack', 1, '1998-10-12', 'IT')\n",
      "(4, 'Sara', 2, '1998-10-12', 'Physics')\n",
      "(5, 'Sally', 2, '1998-10-12', 'Physics')\n",
      "(7, 'Nancy', 2, '1998-10-12', 'Physics')\n",
      "(8, 'Adam', 3, '1998-10-12', 'Arts')\n",
      "(9, 'Stevens', 3, '1998-10-12', 'Arts')\n"
     ]
    }
   ],
   "source": [
    "import os\n",
    "import sqlite3\n",
    "from sqlite3 import Error\n",
    "\n",
    "try:\n",
    "    conn.close()\n",
    "except:\n",
    "    pass\n",
    "\n",
    "def create_connection(db_file):\n",
    "    conn = None\n",
    "    try:\n",
    "        conn = sqlite3.connect(db_file)\n",
    "        conn.execute(\"PRAGMA foreign_keys = 1\")\n",
    "    except Error as e:\n",
    "        print(e)\n",
    "\n",
    "    return conn\n",
    "\n",
    "\n",
    "def create_table(conn, create_table_sql):\n",
    "    try:\n",
    "        c = conn.cursor()\n",
    "        c.execute(create_table_sql)\n",
    "    except Error as e:\n",
    "        print(e)\n",
    "\n",
    "def insert_depts(conn, values):\n",
    "    sql = ''' INSERT INTO Departments(DepartmentName)\n",
    "              VALUES(?) '''\n",
    "    cur = conn.cursor()\n",
    "    cur.execute(sql, values)\n",
    "    return cur.lastrowid\n",
    "\n",
    "\n",
    "def insert_student(conn, values):\n",
    "    sql = ''' INSERT INTO Students(StudentName, DepartmentId, DateOfBirth)\n",
    "              VALUES(?,?,?) '''\n",
    "    cur = conn.cursor()\n",
    "    cur.execute(sql, values)\n",
    "    return cur.lastrowid\n",
    "\n",
    "def insert_student2(conn, table, values):\n",
    "    sql = ''' INSERT INTO ?\n",
    "              VALUES(?,?,?) '''\n",
    "    cur = conn.cursor()\n",
    "    cur.execute(sql, values)\n",
    "    return cur.lastrowid\n",
    "\n",
    "\n",
    "def get_dept_fk(dept):\n",
    "    cur = conn.cursor()\n",
    "    sql_statement = \"\"\"SELECT DepartmentId FROM Departments WHERE DepartmentName == (?);\"\"\"\n",
    "    cur.execute(sql_statement,  (dept, ))\n",
    "\n",
    "    fk = cur.fetchone()\n",
    "    if fk:\n",
    "        print(fk)\n",
    "        return fk[0]\n",
    "    else:\n",
    "        return None\n",
    "\n",
    "\n",
    "def select_all_students(conn):\n",
    "    cur = conn.cursor()\n",
    "    cur.execute(\"\"\"SELECT * FROM Students INNER JOIN Departments USING(DepartmentId);\"\"\")\n",
    "\n",
    "    rows = cur.fetchall()\n",
    "\n",
    "    for row in rows:\n",
    "        print(row)\n",
    "\n",
    "    return rows\n",
    "\n",
    "\n",
    "db_file = 'sample_data_py.db'\n",
    "if os.path.exists(db_file):\n",
    "    os.remove(db_file)\n",
    "\n",
    "create_table_departments_sql = \"\"\" CREATE TABLE [Departments] (\n",
    "    [DepartmentId] INTEGER  NOT NULL PRIMARY KEY,\n",
    "    [DepartmentName] NVARCHAR(50)  NULL\n",
    "); \"\"\"\n",
    "\n",
    "create_table_students_sql = \"\"\" CREATE TABLE [Students] (\n",
    "    [StudentId] INTEGER  PRIMARY KEY NOT NULL,\n",
    "    [StudentName] NVARCHAR(50) NOT NULL,\n",
    "    [DepartmentId] INTEGER  NULL,\n",
    "    [DateOfBirth] DATE NULL,\n",
    "    FOREIGN KEY(DepartmentId) REFERENCES Departments(DepartmentId)\n",
    ");  \"\"\"\n",
    "\n",
    "conn = create_connection(db_file)\n",
    "\n",
    "\n",
    "depts = ('IT', 'Physics', 'Arts', 'Math')\n",
    "students = (\n",
    "    ('Michael', 'IT', '1998-10-12'),\n",
    "    ('John', 'IT', '1998-10-12'),\n",
    "    ('Jack', 'IT', '1998-10-12'),\n",
    "    ('Sara', 'Physics', '1998-10-12'),\n",
    "    ('Sally', 'Physics', '1998-10-12'),\n",
    "    ('Jena', None, '1998-10-12'),\n",
    "    ('Nancy', 'Physics', '1998-10-12'),\n",
    "    ('Adam', 'Arts', '1998-10-12'),\n",
    "    ('Stevens', 'Arts', '1998-10-12'),\n",
    "    ('George', None, '1998-10-12')\n",
    ")\n",
    "\n",
    "with conn:\n",
    "\n",
    "    create_table(conn, create_table_departments_sql)\n",
    "    create_table(conn, create_table_students_sql)\n",
    "    for values in depts:\n",
    "        insert_depts(conn, (values, ))\n",
    "    for values in students:\n",
    "        values = list(values)\n",
    "        print(values)\n",
    "        values[1] = get_dept_fk(values[1])\n",
    "        print(values)\n",
    "        insert_student(conn, values)\n",
    "    select_all_students(conn)\n",
    "    \n",
    "conn.close()"
   ]
  },
  {
   "cell_type": "code",
   "execution_count": 54,
   "metadata": {},
   "outputs": [
    {
     "name": "stdout",
     "output_type": "stream",
     "text": [
      "[('EN1-26', \"O'Brien\", 'Sean'), ('EN1-33', 'Guya', 'Amy'), ('EN1-35', 'Baranco', 'Steven'), ('EN1-36', 'Roslyn', 'Elizabeth'), ('EN1-38', 'Schaaf', 'Carol'), ('EN1-40', 'Wing', 'Alexandra')]\n",
      "[('30-452-T3', 'STAR manual'), ('30-457-T3', 'ISO procedures'), ('30-482-TC', 'Web site'), ('31-124-T3', 'Employee handbook'), ('31-238-TC', 'STAR prototype'), ('31-238-TC2', 'New catalog'), ('35-152-TC', 'STAR pricing'), ('36-272-TC', 'Order system')]\n",
      "[('EN1-26', '30-452-T3'), ('EN1-26', '30-457-T3'), ('EN1-26', '31-124-T3'), ('EN1-33', '30-328-TC'), ('EN1-33', '30-452-T3'), ('EN1-33', '32-244-T3'), ('EN1-35', '30-452-T3'), ('EN1-35', '31-238-TC'), ('EN1-36', '35-152-TC'), ('EN1-38', '36-272-TC'), ('EN1-40', '31-238-TC2'), ('EN1-40', '31-241-TC')]\n",
      "[('EN1-26', 3), ('EN1-33', 3), ('EN1-35', 2), ('EN1-36', 1), ('EN1-38', 1), ('EN1-40', 2)]\n",
      "('EN1-26', '30-452-T3', \"O'Brien\", 'Sean', 'STAR manual')\n",
      "('EN1-26', '30-457-T3', \"O'Brien\", 'Sean', 'ISO procedures')\n",
      "('EN1-26', '31-124-T3', \"O'Brien\", 'Sean', 'Employee handbook')\n",
      "('EN1-33', '30-328-TC', 'Guya', 'Amy', None)\n",
      "('EN1-33', '30-452-T3', 'Guya', 'Amy', 'STAR manual')\n",
      "('EN1-33', '32-244-T3', 'Guya', 'Amy', None)\n",
      "('EN1-35', '30-452-T3', 'Baranco', 'Steven', 'STAR manual')\n",
      "('EN1-35', '31-238-TC', 'Baranco', 'Steven', 'STAR prototype')\n",
      "('EN1-36', '35-152-TC', 'Roslyn', 'Elizabeth', 'STAR pricing')\n",
      "('EN1-38', '36-272-TC', 'Schaaf', 'Carol', 'Order system')\n",
      "('EN1-40', '31-238-TC2', 'Wing', 'Alexandra', 'New catalog')\n",
      "('EN1-40', '31-241-TC', 'Wing', 'Alexandra', None)\n"
     ]
    }
   ],
   "source": [
    "import sqlite3\n",
    "from sqlite3 import Error\n",
    "\n",
    "\n",
    "\n",
    "def create_connection(db_file, delete_db=False):\n",
    "    import os\n",
    "    if delete_db and os.path.exists(db_file):\n",
    "        os.remove(db_file)\n",
    "\n",
    "    conn = None\n",
    "    try:\n",
    "        conn = sqlite3.connect(db_file)\n",
    "        conn.execute(\"PRAGMA foreign_keys = 1\")\n",
    "    except Error as e:\n",
    "        print(e)\n",
    "\n",
    "    return conn\n",
    "\n",
    "\n",
    "def create_table(conn, create_table_sql):\n",
    "    try:\n",
    "        c = conn.cursor()\n",
    "        c.execute(create_table_sql)\n",
    "    except Error as e:\n",
    "        print(e)\n",
    "\n",
    "\n",
    "def insert_employee(conn, values):\n",
    "    sql = \"\"\" INSERT INTO EMPLOYEES VALUES(?, ?, ?) \"\"\"\n",
    "    cur = conn.cursor()\n",
    "    cur.execute(sql, values)\n",
    "    return cur.lastrowid\n",
    "\n",
    "def insert_project(conn, values):\n",
    "    sql = \"\"\" INSERT INTO PROJECTS VALUES(?, ?) \"\"\"\n",
    "    cur = conn.cursor()\n",
    "    cur.execute(sql, values)\n",
    "    return cur.lastrowid\n",
    "\n",
    "def insert_employee_project(conn, values):\n",
    "    sql = \"\"\" INSERT INTO EMPLOYEES_PROJECTS VALUES(?, ?) \"\"\"\n",
    "    cur = conn.cursor()\n",
    "    cur.execute(sql, values)\n",
    "    return cur.lastrowid\n",
    "\n",
    "\n",
    "def execute_sql_statement(sql_statement):\n",
    "    cur = conn.cursor()\n",
    "    cur.execute(sql_statement)\n",
    "\n",
    "    rows = cur.fetchall()\n",
    "\n",
    "    return rows\n",
    "\n",
    "\n",
    "\n",
    "create_employee_table_sql = \"\"\"CREATE TABLE [EMPLOYEES] (  \n",
    "    [EmployeeID] TEXT  NOT NULL PRIMARY KEY,\n",
    "    [Last_Name] TEXT NOT NULL,\n",
    "    [First_Name] TEXT NOT NULL\n",
    ");\"\"\"\n",
    "\n",
    "create_projects_table_sql = \"\"\" CREATE TABLE [PROJECTS] (  \n",
    "    [ProjectNum] TEXT  NOT NULL,\n",
    "    [ProjectTitle] TEXT NOT NULL,\n",
    "    PRIMARY KEY (ProjectNum, ProjectTitle)\n",
    ");\n",
    "\"\"\"\n",
    "\n",
    "create_employees_projects_table_sql = \"\"\" CREATE TABLE [EMPLOYEES_PROJECTS] (  \n",
    "    [EmployeeID] TEXT  NOT NULL,\n",
    "    [ProjectNum] TEXT NOT NULL,\n",
    "    PRIMARY KEY (EmployeeID, ProjectNum)\n",
    ");\n",
    "\"\"\"\n",
    "\n",
    "\n",
    "employees = (\n",
    "    (\"EN1-26\", \"O'Brien\", \"Sean\"),\n",
    "    (\"EN1-33\", \"Guya\", \"Amy\"),\n",
    "    (\"EN1-35\", \"Baranco\", \"Steven\"),\n",
    "    (\"EN1-36\", \"Roslyn\", \"Elizabeth\"),\n",
    "    (\"EN1-38\", \"Schaaf\", \"Carol\"),\n",
    "    (\"EN1-40\", \"Wing\", \"Alexandra\")\n",
    ")\n",
    "\n",
    "projects = (\n",
    "    (\"30-452-T3\", \"STAR manual\"),\n",
    "    (\"30-457-T3\", \"ISO procedures\"),\n",
    "    (\"30-482-TC\", \"Web site\"),\n",
    "    (\"31-124-T3\", \"Employee handbook\"),\n",
    "    (\"31-238-TC\", \"STAR prototype\"),\n",
    "    (\"31-238-TC2\", \"New catalog\"),\n",
    "    (\"35-152-TC\", \"STAR pricing\"),\n",
    "    (\"36-272-TC\", \"Order system\"),\n",
    ")\n",
    "\n",
    "\n",
    "employees_projects = (\n",
    "    (\"EN1-26\", \"30-452-T3\"),\n",
    "    (\"EN1-26\", \"30-457-T3\"),\n",
    "    (\"EN1-26\", \"31-124-T3\"),\n",
    "    (\"EN1-33\", \"30-328-TC\"),\n",
    "    (\"EN1-33\", \"30-452-T3\"),\n",
    "    (\"EN1-33\", \"32-244-T3\"),\n",
    "    (\"EN1-35\", \"30-452-T3\"),\n",
    "    (\"EN1-35\", \"31-238-TC\"),\n",
    "    (\"EN1-36\", \"35-152-TC\"),\n",
    "    (\"EN1-38\", \"36-272-TC\"),\n",
    "    (\"EN1-40\", \"31-238-TC2\"),\n",
    "    (\"EN1-40\", \"31-241-TC\"),\n",
    ")\n",
    "\n",
    "\n",
    "db_file = 'example5_py2.db'\n",
    "conn = create_connection(db_file, True)\n",
    "\n",
    "\n",
    "with conn:\n",
    "    create_table(conn, create_employee_table_sql)\n",
    "    create_table(conn, create_projects_table_sql)\n",
    "    create_table(conn, create_employees_projects_table_sql)\n",
    "\n",
    "    for ele in employees:\n",
    "        insert_employee(conn, ele)\n",
    "    for ele in projects:\n",
    "        insert_project(conn, ele)\n",
    "    for ele in employees_projects:\n",
    "        insert_employee_project(conn, ele)\n",
    "\n",
    "    print(execute_sql_statement(\"SELECT * FROM EMPLOYEES;\"))\n",
    "    print(execute_sql_statement(\"SELECT * FROM PROJECTS;\"))\n",
    "    print(execute_sql_statement(\"SELECT * FROM EMPLOYEES_PROJECTS;\"))\n",
    "    print(execute_sql_statement(\"SELECT EmployeeID, count(ProjectNum) FROM EMPLOYEES_PROJECTS GROUP BY EmployeeID;\"))\n",
    "    sql_statement = \"\"\"SELECT EMPLOYEES_PROJECTS.EmployeeID, EMPLOYEES_PROJECTS.ProjectNum, EMPLOYEES.Last_Name, EMPLOYEES.First_Name, PROJECTS.ProjectTitle FROM EMPLOYEES_PROJECTS \n",
    "LEFT JOIN EMPLOYEES ON EMPLOYEES_PROJECTS.EmployeeID = EMPLOYEES.EmployeeID\n",
    "LEFT JOIN PROJECTS ON EMPLOYEES_PROJECTS.ProjectNum = PROJECTS.ProjectNum;\"\"\"\n",
    "    for ele in execute_sql_statement(sql_statement):\n",
    "        print(ele)"
   ]
  },
  {
   "cell_type": "code",
   "execution_count": 55,
   "metadata": {},
   "outputs": [
    {
     "name": "stdout",
     "output_type": "stream",
     "text": [
      "[0 1 2 3 4 5 6 7 8 9]\n"
     ]
    }
   ],
   "source": [
    "# Square a list using NumPy\n",
    "import numpy as np\n",
    "\n",
    "vector = np.array(range(10))\n",
    "print(vector)"
   ]
  },
  {
   "cell_type": "code",
   "execution_count": 57,
   "metadata": {},
   "outputs": [
    {
     "name": "stdout",
     "output_type": "stream",
     "text": [
      "[0, 1, 2, 3, 4, 5, 6, 7, 8, 9]\n",
      "[0, 1, 2, 3, 4, 5, 6, 7, 8, 9, 0, 1, 2, 3, 4, 5, 6, 7, 8, 9, 0, 1, 2, 3, 4, 5, 6, 7, 8, 9, 0, 1, 2, 3, 4, 5, 6, 7, 8, 9, 0, 1, 2, 3, 4, 5, 6, 7, 8, 9]\n"
     ]
    }
   ],
   "source": [
    "py_list = list(range(10))\n",
    "print(py_list)\n",
    "print(py_list*5)"
   ]
  },
  {
   "cell_type": "code",
   "execution_count": 58,
   "metadata": {},
   "outputs": [
    {
     "name": "stdout",
     "output_type": "stream",
     "text": [
      "[ 0  5 10 15 20 25 30 35 40 45]\n"
     ]
    }
   ],
   "source": [
    "scalar = 5\n",
    "print(vector * scalar)\n"
   ]
  },
  {
   "cell_type": "code",
   "execution_count": 59,
   "metadata": {},
   "outputs": [
    {
     "name": "stdout",
     "output_type": "stream",
     "text": [
      "[ 0  1  4  9 16 25 36 49 64 81]\n"
     ]
    }
   ],
   "source": [
    "print(vector * vector)"
   ]
  },
  {
   "cell_type": "code",
   "execution_count": 60,
   "metadata": {},
   "outputs": [
    {
     "name": "stdout",
     "output_type": "stream",
     "text": [
      "[1, 2, 3]\n",
      "[1 2 3]\n"
     ]
    }
   ],
   "source": [
    "my_list = [1, 2, 3]\n",
    "print(my_list)\n",
    "\n",
    "import numpy as np\n",
    "\n",
    "my_vector = np.array(my_list)\n",
    "print(my_vector)\n"
   ]
  },
  {
   "cell_type": "code",
   "execution_count": 61,
   "metadata": {},
   "outputs": [
    {
     "data": {
      "text/plain": [
       "[[1, 2, 3], [1, 2, 3]]"
      ]
     },
     "execution_count": 61,
     "metadata": {},
     "output_type": "execute_result"
    }
   ],
   "source": [
    "[my_list, my_list]"
   ]
  },
  {
   "cell_type": "code",
   "execution_count": 62,
   "metadata": {},
   "outputs": [
    {
     "name": "stdout",
     "output_type": "stream",
     "text": [
      "[[1 2 3]\n",
      " [1 2 3]]\n"
     ]
    }
   ],
   "source": [
    "my_matrix = np.array([my_list, my_list])\n",
    "print(my_matrix)"
   ]
  },
  {
   "cell_type": "code",
   "execution_count": 63,
   "metadata": {},
   "outputs": [
    {
     "data": {
      "text/plain": [
       "array([1, 2, 3, 1, 2, 3])"
      ]
     },
     "execution_count": 63,
     "metadata": {},
     "output_type": "execute_result"
    }
   ],
   "source": [
    "np.hstack([my_list, my_list])"
   ]
  },
  {
   "cell_type": "code",
   "execution_count": 64,
   "metadata": {},
   "outputs": [
    {
     "data": {
      "text/plain": [
       "array([1, 2, 3, 4, 5])"
      ]
     },
     "execution_count": 64,
     "metadata": {},
     "output_type": "execute_result"
    }
   ],
   "source": [
    "np.hstack([[1,2], [3,4,5]])"
   ]
  },
  {
   "cell_type": "code",
   "execution_count": 65,
   "metadata": {},
   "outputs": [
    {
     "name": "stderr",
     "output_type": "stream",
     "text": [
      "<ipython-input-65-b04160bebc86>:1: VisibleDeprecationWarning: Creating an ndarray from ragged nested sequences (which is a list-or-tuple of lists-or-tuples-or ndarrays with different lengths or shapes) is deprecated. If you meant to do this, you must specify 'dtype=object' when creating the ndarray\n",
      "  np.array([[1,2], [3,4,5]])\n"
     ]
    },
    {
     "data": {
      "text/plain": [
       "array([list([1, 2]), list([3, 4, 5])], dtype=object)"
      ]
     },
     "execution_count": 65,
     "metadata": {},
     "output_type": "execute_result"
    }
   ],
   "source": [
    "np.array([[1,2], [3,4,5]])"
   ]
  },
  {
   "cell_type": "code",
   "execution_count": 66,
   "metadata": {},
   "outputs": [],
   "source": [
    "a = np.hstack([[1,2], [3,4,5]])"
   ]
  },
  {
   "cell_type": "code",
   "execution_count": 67,
   "metadata": {},
   "outputs": [
    {
     "data": {
      "text/plain": [
       "array([ 5, 10, 15, 20, 25])"
      ]
     },
     "execution_count": 67,
     "metadata": {},
     "output_type": "execute_result"
    }
   ],
   "source": [
    "a*5"
   ]
  },
  {
   "cell_type": "code",
   "execution_count": 69,
   "metadata": {},
   "outputs": [
    {
     "name": "stdout",
     "output_type": "stream",
     "text": [
      "[[1 2 3]\n",
      " [1 2 3]]\n"
     ]
    }
   ],
   "source": [
    "my_matrix = np.array([my_list, my_list])\n",
    "print(my_matrix)"
   ]
  },
  {
   "cell_type": "code",
   "execution_count": 70,
   "metadata": {},
   "outputs": [
    {
     "name": "stdout",
     "output_type": "stream",
     "text": [
      "[[1 2 3]\n",
      " [1 2 3]]\n"
     ]
    }
   ],
   "source": [
    "b = np.vstack([my_list, my_list])\n",
    "print(b)"
   ]
  },
  {
   "cell_type": "code",
   "execution_count": 74,
   "metadata": {},
   "outputs": [
    {
     "data": {
      "text/plain": [
       "array([[1, 2],\n",
       "       [3, 4],\n",
       "       [5, 6],\n",
       "       [7, 8]])"
      ]
     },
     "execution_count": 74,
     "metadata": {},
     "output_type": "execute_result"
    }
   ],
   "source": [
    "my_list1 = [(1,2), [3,4]]\n",
    "my_list2 = [[5,6], [7,8]]  \n",
    "np.hstack([my_list1, my_list2])   \n",
    "np.vstack([my_list1, my_list2])"
   ]
  },
  {
   "cell_type": "code",
   "execution_count": 72,
   "metadata": {},
   "outputs": [
    {
     "data": {
      "text/plain": [
       "array([1, 2, 3])"
      ]
     },
     "execution_count": 72,
     "metadata": {},
     "output_type": "execute_result"
    }
   ],
   "source": [
    "b[0]"
   ]
  },
  {
   "cell_type": "code",
   "execution_count": 73,
   "metadata": {},
   "outputs": [
    {
     "data": {
      "text/plain": [
       "2"
      ]
     },
     "execution_count": 73,
     "metadata": {},
     "output_type": "execute_result"
    }
   ],
   "source": [
    "b[0][1]"
   ]
  },
  {
   "cell_type": "code",
   "execution_count": 75,
   "metadata": {},
   "outputs": [],
   "source": [
    "b[0][1] = 5"
   ]
  },
  {
   "cell_type": "code",
   "execution_count": 76,
   "metadata": {},
   "outputs": [
    {
     "data": {
      "text/plain": [
       "array([[1, 5, 3],\n",
       "       [1, 2, 3]])"
      ]
     },
     "execution_count": 76,
     "metadata": {},
     "output_type": "execute_result"
    }
   ],
   "source": [
    "b"
   ]
  },
  {
   "cell_type": "code",
   "execution_count": 77,
   "metadata": {},
   "outputs": [
    {
     "name": "stdout",
     "output_type": "stream",
     "text": [
      "[0 1 2 3 4 5 6 7 8 9]\n"
     ]
    }
   ],
   "source": [
    "print(np.arange(10))\n"
   ]
  },
  {
   "cell_type": "code",
   "execution_count": 79,
   "metadata": {},
   "outputs": [
    {
     "name": "stdout",
     "output_type": "stream",
     "text": [
      "[0 1 2 3 4 5 6 7 8 9]\n",
      "[0 2 4 6 8]\n"
     ]
    }
   ],
   "source": [
    "print(np.arange(0, 10))\n",
    "print(np.arange(0, 10, 2))"
   ]
  },
  {
   "cell_type": "code",
   "execution_count": 80,
   "metadata": {},
   "outputs": [
    {
     "data": {
      "text/plain": [
       "array([0., 0., 0.])"
      ]
     },
     "execution_count": 80,
     "metadata": {},
     "output_type": "execute_result"
    }
   ],
   "source": [
    "np.zeros(3)"
   ]
  },
  {
   "cell_type": "code",
   "execution_count": 81,
   "metadata": {},
   "outputs": [
    {
     "data": {
      "text/plain": [
       "array([[0., 0., 0.],\n",
       "       [0., 0., 0.],\n",
       "       [0., 0., 0.]])"
      ]
     },
     "execution_count": 81,
     "metadata": {},
     "output_type": "execute_result"
    }
   ],
   "source": [
    "np.zeros((3,3))"
   ]
  },
  {
   "cell_type": "code",
   "execution_count": 82,
   "metadata": {},
   "outputs": [
    {
     "data": {
      "text/plain": [
       "array([[0., 0., 0., 0.],\n",
       "       [0., 0., 0., 0.],\n",
       "       [0., 0., 0., 0.]])"
      ]
     },
     "execution_count": 82,
     "metadata": {},
     "output_type": "execute_result"
    }
   ],
   "source": [
    "np.zeros((3,4))"
   ]
  },
  {
   "cell_type": "code",
   "execution_count": 83,
   "metadata": {},
   "outputs": [
    {
     "data": {
      "text/plain": [
       "array([1., 1., 1.])"
      ]
     },
     "execution_count": 83,
     "metadata": {},
     "output_type": "execute_result"
    }
   ],
   "source": [
    "np.ones(3)"
   ]
  },
  {
   "cell_type": "code",
   "execution_count": 84,
   "metadata": {},
   "outputs": [
    {
     "data": {
      "text/plain": [
       "array([[1., 1., 1.],\n",
       "       [1., 1., 1.],\n",
       "       [1., 1., 1.]])"
      ]
     },
     "execution_count": 84,
     "metadata": {},
     "output_type": "execute_result"
    }
   ],
   "source": [
    "np.ones((3,3))"
   ]
  },
  {
   "cell_type": "code",
   "execution_count": 85,
   "metadata": {},
   "outputs": [
    {
     "data": {
      "text/plain": [
       "array([4., 4., 4.])"
      ]
     },
     "execution_count": 85,
     "metadata": {},
     "output_type": "execute_result"
    }
   ],
   "source": [
    "np.ones(3)*4"
   ]
  },
  {
   "cell_type": "code",
   "execution_count": 86,
   "metadata": {},
   "outputs": [
    {
     "data": {
      "text/plain": [
       "array([ 0. ,  2.5,  5. ,  7.5, 10. ])"
      ]
     },
     "execution_count": 86,
     "metadata": {},
     "output_type": "execute_result"
    }
   ],
   "source": [
    "np.linspace(0, 10, 5)"
   ]
  },
  {
   "cell_type": "code",
   "execution_count": 87,
   "metadata": {},
   "outputs": [
    {
     "data": {
      "text/plain": [
       "array([1900., 1910., 1920., 1930., 1940., 1950., 1960., 1970., 1980.,\n",
       "       1990., 2000.])"
      ]
     },
     "execution_count": 87,
     "metadata": {},
     "output_type": "execute_result"
    }
   ],
   "source": [
    "np.linspace(1900, 2000, 11)"
   ]
  },
  {
   "cell_type": "code",
   "execution_count": 88,
   "metadata": {},
   "outputs": [
    {
     "data": {
      "text/plain": [
       "array([[1., 0., 0.],\n",
       "       [0., 1., 0.],\n",
       "       [0., 0., 1.]])"
      ]
     },
     "execution_count": 88,
     "metadata": {},
     "output_type": "execute_result"
    }
   ],
   "source": [
    "np.eye(3)"
   ]
  },
  {
   "cell_type": "code",
   "execution_count": 89,
   "metadata": {},
   "outputs": [
    {
     "data": {
      "text/plain": [
       "array([[1.01670004e-311, 1.01670077e-311, 1.01670077e-311],\n",
       "       [1.01670077e-311, 1.01670077e-311, 1.01670077e-311]])"
      ]
     },
     "execution_count": 89,
     "metadata": {},
     "output_type": "execute_result"
    }
   ],
   "source": [
    "np.empty((2,3))"
   ]
  },
  {
   "cell_type": "code",
   "execution_count": 90,
   "metadata": {},
   "outputs": [
    {
     "data": {
      "text/plain": [
       "array([0.71095653, 0.87934501, 0.62399287])"
      ]
     },
     "execution_count": 90,
     "metadata": {},
     "output_type": "execute_result"
    }
   ],
   "source": [
    "np.random.rand(3)"
   ]
  },
  {
   "cell_type": "code",
   "execution_count": 91,
   "metadata": {},
   "outputs": [
    {
     "data": {
      "text/plain": [
       "array([[0.80271001, 0.70675503, 0.6322271 ],\n",
       "       [0.96596709, 0.97078935, 0.82963637],\n",
       "       [0.41609592, 0.46134163, 0.37133243]])"
      ]
     },
     "execution_count": 91,
     "metadata": {},
     "output_type": "execute_result"
    }
   ],
   "source": [
    "np.random.rand(3,3)"
   ]
  },
  {
   "cell_type": "code",
   "execution_count": 92,
   "metadata": {},
   "outputs": [
    {
     "data": {
      "text/plain": [
       "array([ 0.59282708, -1.65770441, -0.03408532])"
      ]
     },
     "execution_count": 92,
     "metadata": {},
     "output_type": "execute_result"
    }
   ],
   "source": [
    "np.random.randn(3)"
   ]
  },
  {
   "cell_type": "code",
   "execution_count": 93,
   "metadata": {},
   "outputs": [
    {
     "data": {
      "text/plain": [
       "79"
      ]
     },
     "execution_count": 93,
     "metadata": {},
     "output_type": "execute_result"
    }
   ],
   "source": [
    "np.random.randint(1,101)"
   ]
  },
  {
   "cell_type": "code",
   "execution_count": 94,
   "metadata": {},
   "outputs": [
    {
     "data": {
      "text/plain": [
       "array([67, 18, 96, 95, 40])"
      ]
     },
     "execution_count": 94,
     "metadata": {},
     "output_type": "execute_result"
    }
   ],
   "source": [
    "np.random.randint(1,101,5)  "
   ]
  },
  {
   "cell_type": "code",
   "execution_count": 95,
   "metadata": {},
   "outputs": [],
   "source": [
    "vector = np.arange(1,10)"
   ]
  },
  {
   "cell_type": "code",
   "execution_count": 96,
   "metadata": {},
   "outputs": [
    {
     "name": "stdout",
     "output_type": "stream",
     "text": [
      "[1 2 3 4 5 6 7 8 9]\n"
     ]
    }
   ],
   "source": [
    "print(vector)"
   ]
  },
  {
   "cell_type": "code",
   "execution_count": 97,
   "metadata": {},
   "outputs": [
    {
     "name": "stdout",
     "output_type": "stream",
     "text": [
      "[[1 2 3]\n",
      " [4 5 6]\n",
      " [7 8 9]]\n"
     ]
    }
   ],
   "source": [
    "print(vector.reshape(3,3))"
   ]
  },
  {
   "cell_type": "code",
   "execution_count": 98,
   "metadata": {},
   "outputs": [],
   "source": [
    "vector = np.arange(1,13)"
   ]
  },
  {
   "cell_type": "code",
   "execution_count": 99,
   "metadata": {},
   "outputs": [
    {
     "name": "stdout",
     "output_type": "stream",
     "text": [
      "[[ 1  2  3  4]\n",
      " [ 5  6  7  8]\n",
      " [ 9 10 11 12]]\n"
     ]
    }
   ],
   "source": [
    "print(vector.reshape(3,4))"
   ]
  },
  {
   "cell_type": "code",
   "execution_count": 100,
   "metadata": {},
   "outputs": [
    {
     "name": "stdout",
     "output_type": "stream",
     "text": [
      "[[ 1  2  3]\n",
      " [ 4  5  6]\n",
      " [ 7  8  9]\n",
      " [10 11 12]]\n"
     ]
    }
   ],
   "source": [
    "print(vector.reshape(4,3))"
   ]
  },
  {
   "cell_type": "code",
   "execution_count": 101,
   "metadata": {},
   "outputs": [
    {
     "name": "stdout",
     "output_type": "stream",
     "text": [
      "[[ 1  2]\n",
      " [ 3  4]\n",
      " [ 5  6]\n",
      " [ 7  8]\n",
      " [ 9 10]\n",
      " [11 12]]\n"
     ]
    }
   ],
   "source": [
    "print(vector.reshape(6,2))"
   ]
  },
  {
   "cell_type": "code",
   "execution_count": 102,
   "metadata": {},
   "outputs": [
    {
     "name": "stdout",
     "output_type": "stream",
     "text": [
      "[[ 1  2  3  4  5  6]\n",
      " [ 7  8  9 10 11 12]]\n"
     ]
    }
   ],
   "source": [
    "print(vector.reshape(2,6))"
   ]
  },
  {
   "cell_type": "code",
   "execution_count": 103,
   "metadata": {},
   "outputs": [],
   "source": [
    "vector = np.random.randint(1,50,25)"
   ]
  },
  {
   "cell_type": "code",
   "execution_count": 104,
   "metadata": {},
   "outputs": [
    {
     "name": "stdout",
     "output_type": "stream",
     "text": [
      "[41 30 11 19 26  3 35  4 25 39 40  9  9 20 18  5 37 13  7 46 42 47 24 31\n",
      " 35]\n"
     ]
    }
   ],
   "source": [
    "print(vector)"
   ]
  },
  {
   "cell_type": "code",
   "execution_count": 105,
   "metadata": {},
   "outputs": [
    {
     "data": {
      "text/plain": [
       "3"
      ]
     },
     "execution_count": 105,
     "metadata": {},
     "output_type": "execute_result"
    }
   ],
   "source": [
    "vector.min()"
   ]
  },
  {
   "cell_type": "code",
   "execution_count": 106,
   "metadata": {},
   "outputs": [
    {
     "data": {
      "text/plain": [
       "47"
      ]
     },
     "execution_count": 106,
     "metadata": {},
     "output_type": "execute_result"
    }
   ],
   "source": [
    "vector.max()"
   ]
  },
  {
   "cell_type": "code",
   "execution_count": 107,
   "metadata": {},
   "outputs": [],
   "source": [
    "index = vector.argmin()"
   ]
  },
  {
   "cell_type": "code",
   "execution_count": 108,
   "metadata": {},
   "outputs": [
    {
     "data": {
      "text/plain": [
       "5"
      ]
     },
     "execution_count": 108,
     "metadata": {},
     "output_type": "execute_result"
    }
   ],
   "source": [
    "index"
   ]
  },
  {
   "cell_type": "code",
   "execution_count": 109,
   "metadata": {},
   "outputs": [
    {
     "data": {
      "text/plain": [
       "(25,)"
      ]
     },
     "execution_count": 109,
     "metadata": {},
     "output_type": "execute_result"
    }
   ],
   "source": [
    "vector.shape"
   ]
  },
  {
   "cell_type": "code",
   "execution_count": 110,
   "metadata": {},
   "outputs": [],
   "source": [
    "my_matrix = vector.reshape(5, 5)"
   ]
  },
  {
   "cell_type": "code",
   "execution_count": 111,
   "metadata": {},
   "outputs": [
    {
     "data": {
      "text/plain": [
       "(5, 5)"
      ]
     },
     "execution_count": 111,
     "metadata": {},
     "output_type": "execute_result"
    }
   ],
   "source": [
    "my_matrix.shape"
   ]
  },
  {
   "cell_type": "code",
   "execution_count": 112,
   "metadata": {},
   "outputs": [],
   "source": [
    "vector = np.array(range(10))"
   ]
  },
  {
   "cell_type": "code",
   "execution_count": 113,
   "metadata": {},
   "outputs": [
    {
     "data": {
      "text/plain": [
       "3"
      ]
     },
     "execution_count": 113,
     "metadata": {},
     "output_type": "execute_result"
    }
   ],
   "source": [
    "vector[3]"
   ]
  },
  {
   "cell_type": "code",
   "execution_count": 114,
   "metadata": {},
   "outputs": [
    {
     "data": {
      "text/plain": [
       "array([0, 1, 2, 3, 4, 5, 6, 7, 8, 9])"
      ]
     },
     "execution_count": 114,
     "metadata": {},
     "output_type": "execute_result"
    }
   ],
   "source": [
    "vector"
   ]
  },
  {
   "cell_type": "code",
   "execution_count": 115,
   "metadata": {},
   "outputs": [
    {
     "data": {
      "text/plain": [
       "array([3, 4, 5, 6, 7])"
      ]
     },
     "execution_count": 115,
     "metadata": {},
     "output_type": "execute_result"
    }
   ],
   "source": [
    "vector[3:8]"
   ]
  },
  {
   "cell_type": "code",
   "execution_count": 116,
   "metadata": {},
   "outputs": [],
   "source": [
    "vector[3:6] = 12 ## Not allowed with regular python list"
   ]
  },
  {
   "cell_type": "code",
   "execution_count": 117,
   "metadata": {},
   "outputs": [
    {
     "data": {
      "text/plain": [
       "array([ 0,  1,  2, 12, 12, 12,  6,  7,  8,  9])"
      ]
     },
     "execution_count": 117,
     "metadata": {},
     "output_type": "execute_result"
    }
   ],
   "source": [
    "vector"
   ]
  },
  {
   "cell_type": "code",
   "execution_count": 118,
   "metadata": {},
   "outputs": [],
   "source": [
    "vector = np.array(range(10))"
   ]
  },
  {
   "cell_type": "code",
   "execution_count": 119,
   "metadata": {},
   "outputs": [],
   "source": [
    "my_slice = vector[3:7]"
   ]
  },
  {
   "cell_type": "code",
   "execution_count": 120,
   "metadata": {},
   "outputs": [],
   "source": [
    "my_slice[:] = 20"
   ]
  },
  {
   "cell_type": "code",
   "execution_count": 121,
   "metadata": {},
   "outputs": [
    {
     "name": "stdout",
     "output_type": "stream",
     "text": [
      "[ 0  1  2 20 20 20 20  7  8  9]\n"
     ]
    }
   ],
   "source": [
    "print(vector)"
   ]
  },
  {
   "cell_type": "code",
   "execution_count": 122,
   "metadata": {},
   "outputs": [
    {
     "name": "stdout",
     "output_type": "stream",
     "text": [
      "[0 1 2 3 4 5 6 7 8 9]\n"
     ]
    }
   ],
   "source": [
    "vector = np.array(range(10))\n",
    "my_slice_copy = vector[3:7].copy()\n",
    "print(vector)"
   ]
  },
  {
   "cell_type": "code",
   "execution_count": 123,
   "metadata": {},
   "outputs": [],
   "source": [
    "my_slice_copy[:] = 100"
   ]
  },
  {
   "cell_type": "code",
   "execution_count": 124,
   "metadata": {},
   "outputs": [
    {
     "name": "stdout",
     "output_type": "stream",
     "text": [
      "[0 1 2 3 4 5 6 7 8 9]\n"
     ]
    }
   ],
   "source": [
    "print(vector)"
   ]
  },
  {
   "cell_type": "code",
   "execution_count": 125,
   "metadata": {},
   "outputs": [
    {
     "data": {
      "text/plain": [
       "array([100, 100, 100, 100])"
      ]
     },
     "execution_count": 125,
     "metadata": {},
     "output_type": "execute_result"
    }
   ],
   "source": [
    "my_slice_copy"
   ]
  },
  {
   "cell_type": "code",
   "execution_count": 126,
   "metadata": {},
   "outputs": [],
   "source": [
    "matrix = np.array(range(1,10)).reshape((3,3))"
   ]
  },
  {
   "cell_type": "code",
   "execution_count": 127,
   "metadata": {},
   "outputs": [
    {
     "data": {
      "text/plain": [
       "array([[1, 2, 3],\n",
       "       [4, 5, 6],\n",
       "       [7, 8, 9]])"
      ]
     },
     "execution_count": 127,
     "metadata": {},
     "output_type": "execute_result"
    }
   ],
   "source": [
    "matrix"
   ]
  },
  {
   "cell_type": "code",
   "execution_count": 128,
   "metadata": {},
   "outputs": [
    {
     "data": {
      "text/plain": [
       "1"
      ]
     },
     "execution_count": 128,
     "metadata": {},
     "output_type": "execute_result"
    }
   ],
   "source": [
    "matrix[0,0]"
   ]
  },
  {
   "cell_type": "code",
   "execution_count": 129,
   "metadata": {},
   "outputs": [
    {
     "data": {
      "text/plain": [
       "1"
      ]
     },
     "execution_count": 129,
     "metadata": {},
     "output_type": "execute_result"
    }
   ],
   "source": [
    "matrix[0][0] "
   ]
  },
  {
   "cell_type": "code",
   "execution_count": 130,
   "metadata": {},
   "outputs": [
    {
     "data": {
      "text/plain": [
       "9"
      ]
     },
     "execution_count": 130,
     "metadata": {},
     "output_type": "execute_result"
    }
   ],
   "source": [
    " \n",
    "matrix[2][2] "
   ]
  },
  {
   "cell_type": "code",
   "execution_count": 131,
   "metadata": {},
   "outputs": [
    {
     "data": {
      "text/plain": [
       "9"
      ]
     },
     "execution_count": 131,
     "metadata": {},
     "output_type": "execute_result"
    }
   ],
   "source": [
    "\n",
    "\n",
    "matrix[2,2] "
   ]
  },
  {
   "cell_type": "code",
   "execution_count": 132,
   "metadata": {},
   "outputs": [
    {
     "data": {
      "text/plain": [
       "array([3, 6, 9])"
      ]
     },
     "execution_count": 132,
     "metadata": {},
     "output_type": "execute_result"
    }
   ],
   "source": [
    "matrix[:,2] # Grab the third column"
   ]
  },
  {
   "cell_type": "code",
   "execution_count": 133,
   "metadata": {},
   "outputs": [
    {
     "data": {
      "text/plain": [
       "array([4, 5, 6])"
      ]
     },
     "execution_count": 133,
     "metadata": {},
     "output_type": "execute_result"
    }
   ],
   "source": [
    "matrix[1,:] # Grab the second row"
   ]
  },
  {
   "cell_type": "code",
   "execution_count": 134,
   "metadata": {},
   "outputs": [
    {
     "data": {
      "text/plain": [
       "array([[1, 2, 3],\n",
       "       [4, 5, 6]])"
      ]
     },
     "execution_count": 134,
     "metadata": {},
     "output_type": "execute_result"
    }
   ],
   "source": [
    "matrix[:2,:] # grab the first two rows, all columns"
   ]
  },
  {
   "cell_type": "code",
   "execution_count": 135,
   "metadata": {},
   "outputs": [
    {
     "data": {
      "text/plain": [
       "array([[1, 2, 3],\n",
       "       [4, 5, 6]])"
      ]
     },
     "execution_count": 135,
     "metadata": {},
     "output_type": "execute_result"
    }
   ],
   "source": [
    "matrix[:2] # grab the first two rows, all columns"
   ]
  },
  {
   "cell_type": "code",
   "execution_count": 136,
   "metadata": {},
   "outputs": [
    {
     "data": {
      "text/plain": [
       "array([[2, 3],\n",
       "       [5, 6],\n",
       "       [8, 9]])"
      ]
     },
     "execution_count": 136,
     "metadata": {},
     "output_type": "execute_result"
    }
   ],
   "source": [
    "matrix[:,1:] # grab all the rows, but columns starting from 1"
   ]
  },
  {
   "cell_type": "code",
   "execution_count": 137,
   "metadata": {},
   "outputs": [],
   "source": [
    "vector = np.arange(10)"
   ]
  },
  {
   "cell_type": "code",
   "execution_count": 138,
   "metadata": {},
   "outputs": [],
   "source": [
    "gt2 = vector > 2"
   ]
  },
  {
   "cell_type": "code",
   "execution_count": 139,
   "metadata": {},
   "outputs": [
    {
     "data": {
      "text/plain": [
       "array([False, False, False,  True,  True,  True,  True,  True,  True,\n",
       "        True])"
      ]
     },
     "execution_count": 139,
     "metadata": {},
     "output_type": "execute_result"
    }
   ],
   "source": [
    "gt2"
   ]
  },
  {
   "cell_type": "code",
   "execution_count": 140,
   "metadata": {},
   "outputs": [
    {
     "data": {
      "text/plain": [
       "array([0, 1, 2, 3, 4, 5, 6, 7, 8, 9])"
      ]
     },
     "execution_count": 140,
     "metadata": {},
     "output_type": "execute_result"
    }
   ],
   "source": [
    "vector"
   ]
  },
  {
   "cell_type": "code",
   "execution_count": 141,
   "metadata": {},
   "outputs": [],
   "source": [
    "lt8 = vector < 8 # create condition"
   ]
  },
  {
   "cell_type": "code",
   "execution_count": 142,
   "metadata": {},
   "outputs": [
    {
     "name": "stdout",
     "output_type": "stream",
     "text": [
      "[3 4 5 6 7 8 9]\n"
     ]
    }
   ],
   "source": [
    "selected_gt2 = vector[gt2]\n",
    "print(selected_gt2)"
   ]
  },
  {
   "cell_type": "code",
   "execution_count": 143,
   "metadata": {},
   "outputs": [
    {
     "data": {
      "text/plain": [
       "array([[1, 2, 3],\n",
       "       [4, 5, 6],\n",
       "       [7, 8, 9]])"
      ]
     },
     "execution_count": 143,
     "metadata": {},
     "output_type": "execute_result"
    }
   ],
   "source": [
    "matrix"
   ]
  },
  {
   "cell_type": "code",
   "execution_count": 144,
   "metadata": {},
   "outputs": [],
   "source": [
    "gt2 = matrix > 2"
   ]
  },
  {
   "cell_type": "code",
   "execution_count": 145,
   "metadata": {},
   "outputs": [
    {
     "data": {
      "text/plain": [
       "array([[False, False,  True],\n",
       "       [ True,  True,  True],\n",
       "       [ True,  True,  True]])"
      ]
     },
     "execution_count": 145,
     "metadata": {},
     "output_type": "execute_result"
    }
   ],
   "source": [
    "gt2"
   ]
  },
  {
   "cell_type": "code",
   "execution_count": 147,
   "metadata": {},
   "outputs": [],
   "source": [
    "a = matrix[gt2]"
   ]
  },
  {
   "cell_type": "code",
   "execution_count": 148,
   "metadata": {},
   "outputs": [],
   "source": [
    "a[:] = 5"
   ]
  },
  {
   "cell_type": "code",
   "execution_count": 149,
   "metadata": {},
   "outputs": [
    {
     "data": {
      "text/plain": [
       "array([[1, 2, 3],\n",
       "       [4, 5, 6],\n",
       "       [7, 8, 9]])"
      ]
     },
     "execution_count": 149,
     "metadata": {},
     "output_type": "execute_result"
    }
   ],
   "source": [
    "matrix"
   ]
  },
  {
   "cell_type": "code",
   "execution_count": 151,
   "metadata": {},
   "outputs": [],
   "source": [
    "gt2[2,1] = False"
   ]
  },
  {
   "cell_type": "code",
   "execution_count": 152,
   "metadata": {},
   "outputs": [
    {
     "data": {
      "text/plain": [
       "array([[False, False,  True],\n",
       "       [ True,  True,  True],\n",
       "       [ True, False,  True]])"
      ]
     },
     "execution_count": 152,
     "metadata": {},
     "output_type": "execute_result"
    }
   ],
   "source": [
    "gt2"
   ]
  },
  {
   "cell_type": "code",
   "execution_count": 153,
   "metadata": {},
   "outputs": [],
   "source": [
    "gt2[2,2] = False"
   ]
  },
  {
   "cell_type": "code",
   "execution_count": 154,
   "metadata": {},
   "outputs": [
    {
     "data": {
      "text/plain": [
       "array([[False, False,  True],\n",
       "       [ True,  True,  True],\n",
       "       [ True, False, False]])"
      ]
     },
     "execution_count": 154,
     "metadata": {},
     "output_type": "execute_result"
    }
   ],
   "source": [
    "gt2"
   ]
  },
  {
   "cell_type": "code",
   "execution_count": 156,
   "metadata": {},
   "outputs": [
    {
     "data": {
      "text/plain": [
       "array([3, 4, 5, 6, 7])"
      ]
     },
     "execution_count": 156,
     "metadata": {},
     "output_type": "execute_result"
    }
   ],
   "source": [
    "matrix[gt2]"
   ]
  },
  {
   "cell_type": "code",
   "execution_count": 157,
   "metadata": {},
   "outputs": [],
   "source": [
    "selected_lt8 = vector[lt8] # apply condition to select"
   ]
  },
  {
   "cell_type": "code",
   "execution_count": 158,
   "metadata": {},
   "outputs": [
    {
     "data": {
      "text/plain": [
       "array([0, 1, 2, 3, 4, 5, 6, 7])"
      ]
     },
     "execution_count": 158,
     "metadata": {},
     "output_type": "execute_result"
    }
   ],
   "source": [
    "selected_lt8"
   ]
  },
  {
   "cell_type": "code",
   "execution_count": 159,
   "metadata": {},
   "outputs": [
    {
     "data": {
      "text/plain": [
       "array([3, 4, 5, 6, 7, 8, 9])"
      ]
     },
     "execution_count": 159,
     "metadata": {},
     "output_type": "execute_result"
    }
   ],
   "source": [
    "vector[vector>2]"
   ]
  },
  {
   "cell_type": "code",
   "execution_count": 160,
   "metadata": {},
   "outputs": [
    {
     "data": {
      "text/plain": [
       "array([3, 4, 5, 6])"
      ]
     },
     "execution_count": 160,
     "metadata": {},
     "output_type": "execute_result"
    }
   ],
   "source": [
    "cond = (vector>2) & (vector<7)\n",
    "vector[cond]"
   ]
  },
  {
   "cell_type": "code",
   "execution_count": 161,
   "metadata": {},
   "outputs": [
    {
     "data": {
      "text/plain": [
       "array([2, 3, 4, 5, 6, 7])"
      ]
     },
     "execution_count": 161,
     "metadata": {},
     "output_type": "execute_result"
    }
   ],
   "source": [
    "cond = (vector>=2) & (vector<=7)\n",
    "vector[cond]"
   ]
  },
  {
   "cell_type": "code",
   "execution_count": 162,
   "metadata": {},
   "outputs": [],
   "source": [
    "vector = np.arange(10)"
   ]
  },
  {
   "cell_type": "code",
   "execution_count": 163,
   "metadata": {},
   "outputs": [
    {
     "data": {
      "text/plain": [
       "array([0, 1, 2, 3, 4, 5, 6, 7, 8, 9])"
      ]
     },
     "execution_count": 163,
     "metadata": {},
     "output_type": "execute_result"
    }
   ],
   "source": [
    "vector"
   ]
  },
  {
   "cell_type": "code",
   "execution_count": 164,
   "metadata": {},
   "outputs": [
    {
     "name": "stderr",
     "output_type": "stream",
     "text": [
      "<ipython-input-164-4ac0ec101f5a>:1: RuntimeWarning: invalid value encountered in true_divide\n",
      "  vector / vector\n"
     ]
    },
    {
     "data": {
      "text/plain": [
       "array([nan,  1.,  1.,  1.,  1.,  1.,  1.,  1.,  1.,  1.])"
      ]
     },
     "execution_count": 164,
     "metadata": {},
     "output_type": "execute_result"
    }
   ],
   "source": [
    "vector / vector"
   ]
  },
  {
   "cell_type": "code",
   "execution_count": 165,
   "metadata": {},
   "outputs": [
    {
     "name": "stderr",
     "output_type": "stream",
     "text": [
      "<ipython-input-165-67aaf75f0193>:1: RuntimeWarning: divide by zero encountered in log\n",
      "  np.log(vector)\n"
     ]
    },
    {
     "data": {
      "text/plain": [
       "array([      -inf, 0.        , 0.69314718, 1.09861229, 1.38629436,\n",
       "       1.60943791, 1.79175947, 1.94591015, 2.07944154, 2.19722458])"
      ]
     },
     "execution_count": 165,
     "metadata": {},
     "output_type": "execute_result"
    }
   ],
   "source": [
    "np.log(vector)"
   ]
  },
  {
   "cell_type": "code",
   "execution_count": 166,
   "metadata": {},
   "outputs": [
    {
     "data": {
      "text/plain": [
       "array([0, 1, 2, 3, 4, 5, 6, 7, 8, 9])"
      ]
     },
     "execution_count": 166,
     "metadata": {},
     "output_type": "execute_result"
    }
   ],
   "source": [
    "vector"
   ]
  },
  {
   "cell_type": "code",
   "execution_count": 167,
   "metadata": {},
   "outputs": [
    {
     "data": {
      "text/plain": [
       "5"
      ]
     },
     "execution_count": 167,
     "metadata": {},
     "output_type": "execute_result"
    }
   ],
   "source": [
    "sum(vector<5)"
   ]
  },
  {
   "cell_type": "code",
   "execution_count": 168,
   "metadata": {},
   "outputs": [
    {
     "data": {
      "text/plain": [
       "array([ True,  True,  True,  True,  True, False, False, False, False,\n",
       "       False])"
      ]
     },
     "execution_count": 168,
     "metadata": {},
     "output_type": "execute_result"
    }
   ],
   "source": [
    "vector<5"
   ]
  },
  {
   "cell_type": "code",
   "execution_count": 172,
   "metadata": {},
   "outputs": [],
   "source": [
    "import math\n",
    "vector = np.arange(1,11) * math.pi/2 "
   ]
  },
  {
   "cell_type": "code",
   "execution_count": 173,
   "metadata": {},
   "outputs": [
    {
     "data": {
      "text/plain": [
       "array([ 1.57079633,  3.14159265,  4.71238898,  6.28318531,  7.85398163,\n",
       "        9.42477796, 10.99557429, 12.56637061, 14.13716694, 15.70796327])"
      ]
     },
     "execution_count": 173,
     "metadata": {},
     "output_type": "execute_result"
    }
   ],
   "source": [
    "vector"
   ]
  },
  {
   "cell_type": "code",
   "execution_count": 174,
   "metadata": {},
   "outputs": [
    {
     "data": {
      "text/plain": [
       "array([ 1.0000000e+00,  1.2246468e-16, -1.0000000e+00, -2.4492936e-16,\n",
       "        1.0000000e+00,  3.6739404e-16, -1.0000000e+00, -4.8985872e-16,\n",
       "        1.0000000e+00,  6.1232340e-16])"
      ]
     },
     "execution_count": 174,
     "metadata": {},
     "output_type": "execute_result"
    }
   ],
   "source": [
    "np.sin(vector)"
   ]
  },
  {
   "cell_type": "code",
   "execution_count": 175,
   "metadata": {},
   "outputs": [],
   "source": [
    "vector = np.arange(0,math.pi+math.pi/4,math.pi/4)"
   ]
  },
  {
   "cell_type": "code",
   "execution_count": 176,
   "metadata": {},
   "outputs": [],
   "source": [
    "vector = np.arange(0,math.pi+math.pi/4,math.pi/4)"
   ]
  },
  {
   "cell_type": "code",
   "execution_count": 177,
   "metadata": {},
   "outputs": [
    {
     "data": {
      "text/plain": [
       "array([0.00000000e+00, 7.07106781e-01, 1.00000000e+00, 7.07106781e-01,\n",
       "       1.22464680e-16])"
      ]
     },
     "execution_count": 177,
     "metadata": {},
     "output_type": "execute_result"
    }
   ],
   "source": [
    "np.sin(vector)"
   ]
  },
  {
   "cell_type": "code",
   "execution_count": 180,
   "metadata": {},
   "outputs": [],
   "source": [
    "matrix = np.random.rand(5,5)"
   ]
  },
  {
   "cell_type": "code",
   "execution_count": 181,
   "metadata": {},
   "outputs": [
    {
     "data": {
      "text/plain": [
       "array([[0.39637384, 0.95948016, 0.90558763, 0.83130834, 0.07784663],\n",
       "       [0.65937062, 0.28646928, 0.91122621, 0.98894044, 0.03716721],\n",
       "       [0.81343953, 0.00728198, 0.68048637, 0.62008209, 0.27521474],\n",
       "       [0.69699032, 0.59671114, 0.79974778, 0.67015676, 0.98707365],\n",
       "       [0.55373187, 0.36287239, 0.50589613, 0.34483131, 0.53352068]])"
      ]
     },
     "execution_count": 181,
     "metadata": {},
     "output_type": "execute_result"
    }
   ],
   "source": [
    "matrix"
   ]
  },
  {
   "cell_type": "code",
   "execution_count": 182,
   "metadata": {},
   "outputs": [
    {
     "data": {
      "text/plain": [
       "array([[0.396, 0.959, 0.905, 0.831, 0.077],\n",
       "       [0.659, 0.286, 0.911, 0.988, 0.037],\n",
       "       [0.813, 0.007, 0.68 , 0.62 , 0.275],\n",
       "       [0.696, 0.596, 0.799, 0.67 , 0.987],\n",
       "       [0.553, 0.362, 0.505, 0.344, 0.533]])"
      ]
     },
     "execution_count": 182,
     "metadata": {},
     "output_type": "execute_result"
    }
   ],
   "source": [
    "np.floor(matrix*1000)/1000"
   ]
  },
  {
   "cell_type": "code",
   "execution_count": 183,
   "metadata": {},
   "outputs": [
    {
     "data": {
      "text/plain": [
       "array([[0.396, 0.959, 0.906, 0.831, 0.078],\n",
       "       [0.659, 0.286, 0.911, 0.989, 0.037],\n",
       "       [0.813, 0.007, 0.68 , 0.62 , 0.275],\n",
       "       [0.697, 0.597, 0.8  , 0.67 , 0.987],\n",
       "       [0.554, 0.363, 0.506, 0.345, 0.534]])"
      ]
     },
     "execution_count": 183,
     "metadata": {},
     "output_type": "execute_result"
    }
   ],
   "source": [
    "np.round(matrix*1000)/1000"
   ]
  },
  {
   "cell_type": "code",
   "execution_count": 184,
   "metadata": {},
   "outputs": [],
   "source": [
    "matrix = np.arange(1,10).reshape(3,3)"
   ]
  },
  {
   "cell_type": "code",
   "execution_count": 185,
   "metadata": {},
   "outputs": [
    {
     "data": {
      "text/plain": [
       "array([[1, 2, 3],\n",
       "       [4, 5, 6],\n",
       "       [7, 8, 9]])"
      ]
     },
     "execution_count": 185,
     "metadata": {},
     "output_type": "execute_result"
    }
   ],
   "source": [
    "matrix"
   ]
  },
  {
   "cell_type": "code",
   "execution_count": 186,
   "metadata": {},
   "outputs": [
    {
     "data": {
      "text/plain": [
       "array([ 6, 15, 24])"
      ]
     },
     "execution_count": 186,
     "metadata": {},
     "output_type": "execute_result"
    }
   ],
   "source": [
    "matrix.sum(axis=1) "
   ]
  },
  {
   "cell_type": "code",
   "execution_count": 187,
   "metadata": {},
   "outputs": [
    {
     "data": {
      "text/plain": [
       "array([12, 15, 18])"
      ]
     },
     "execution_count": 187,
     "metadata": {},
     "output_type": "execute_result"
    }
   ],
   "source": [
    "matrix.sum(axis=0) "
   ]
  },
  {
   "cell_type": "code",
   "execution_count": 188,
   "metadata": {},
   "outputs": [
    {
     "data": {
      "text/plain": [
       "45"
      ]
     },
     "execution_count": 188,
     "metadata": {},
     "output_type": "execute_result"
    }
   ],
   "source": [
    "matrix.sum()"
   ]
  },
  {
   "cell_type": "code",
   "execution_count": 189,
   "metadata": {},
   "outputs": [
    {
     "data": {
      "text/plain": [
       "array([ 1,  3,  6, 10, 15, 21, 28, 36, 45], dtype=int32)"
      ]
     },
     "execution_count": 189,
     "metadata": {},
     "output_type": "execute_result"
    }
   ],
   "source": [
    "matrix.cumsum() "
   ]
  },
  {
   "cell_type": "code",
   "execution_count": 190,
   "metadata": {},
   "outputs": [
    {
     "data": {
      "text/plain": [
       "array([     1,      2,      6,     24,    120,    720,   5040,  40320,\n",
       "       362880], dtype=int32)"
      ]
     },
     "execution_count": 190,
     "metadata": {},
     "output_type": "execute_result"
    }
   ],
   "source": [
    "matrix.cumprod() "
   ]
  },
  {
   "cell_type": "code",
   "execution_count": 191,
   "metadata": {},
   "outputs": [],
   "source": [
    "matrix = np.array([1,2,3]*3).reshape(3,3)"
   ]
  },
  {
   "cell_type": "code",
   "execution_count": 192,
   "metadata": {},
   "outputs": [
    {
     "data": {
      "text/plain": [
       "array([[1, 2, 3],\n",
       "       [1, 2, 3],\n",
       "       [1, 2, 3]])"
      ]
     },
     "execution_count": 192,
     "metadata": {},
     "output_type": "execute_result"
    }
   ],
   "source": [
    "matrix"
   ]
  },
  {
   "cell_type": "code",
   "execution_count": 194,
   "metadata": {},
   "outputs": [
    {
     "data": {
      "text/plain": [
       "array([1, 2, 3])"
      ]
     },
     "execution_count": 194,
     "metadata": {},
     "output_type": "execute_result"
    }
   ],
   "source": [
    "np.unique(matrix)"
   ]
  },
  {
   "cell_type": "code",
   "execution_count": null,
   "metadata": {},
   "outputs": [],
   "source": []
  }
 ],
 "metadata": {
  "kernelspec": {
   "display_name": "Python 3",
   "language": "python",
   "name": "python3"
  },
  "language_info": {
   "codemirror_mode": {
    "name": "ipython",
    "version": 3
   },
   "file_extension": ".py",
   "mimetype": "text/x-python",
   "name": "python",
   "nbconvert_exporter": "python",
   "pygments_lexer": "ipython3",
   "version": "3.8.5"
  }
 },
 "nbformat": 4,
 "nbformat_minor": 4
}
