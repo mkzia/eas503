{
 "cells": [
  {
   "cell_type": "code",
   "execution_count": 1,
   "metadata": {},
   "outputs": [],
   "source": [
    "x = 2"
   ]
  },
  {
   "cell_type": "code",
   "execution_count": 2,
   "metadata": {},
   "outputs": [],
   "source": [
    "y = 5.2"
   ]
  },
  {
   "cell_type": "code",
   "execution_count": 3,
   "metadata": {},
   "outputs": [],
   "source": [
    "my_str = 'EAS503'"
   ]
  },
  {
   "cell_type": "code",
   "execution_count": 4,
   "metadata": {},
   "outputs": [],
   "source": [
    "__my_str = 'fine'\n",
    "\n",
    "hello2 = 5\n",
    "\n"
   ]
  },
  {
   "cell_type": "code",
   "execution_count": 5,
   "metadata": {},
   "outputs": [
    {
     "ename": "SyntaxError",
     "evalue": "invalid syntax (<ipython-input-5-b30c0d1a9595>, line 1)",
     "output_type": "error",
     "traceback": [
      "\u001b[1;36m  File \u001b[1;32m\"<ipython-input-5-b30c0d1a9595>\"\u001b[1;36m, line \u001b[1;32m1\u001b[0m\n\u001b[1;33m    2hello = 5\u001b[0m\n\u001b[1;37m     ^\u001b[0m\n\u001b[1;31mSyntaxError\u001b[0m\u001b[1;31m:\u001b[0m invalid syntax\n"
     ]
    }
   ],
   "source": [
    "2hello = 5\n",
    "2*hello = 5\n",
    "\n",
    "x = 5\n",
    "X = 10"
   ]
  },
  {
   "cell_type": "code",
   "execution_count": 6,
   "metadata": {},
   "outputs": [],
   "source": [
    "number_of_cars = 10 #number of cars\n",
    "\n",
    "PI = 3.14"
   ]
  },
  {
   "cell_type": "code",
   "execution_count": 7,
   "metadata": {},
   "outputs": [
    {
     "name": "stdout",
     "output_type": "stream",
     "text": [
      "Hello Class!\n"
     ]
    }
   ],
   "source": [
    "print('Hello Class!')"
   ]
  },
  {
   "cell_type": "code",
   "execution_count": 8,
   "metadata": {},
   "outputs": [
    {
     "name": "stdout",
     "output_type": "stream",
     "text": [
      "Enter a number: 50\n"
     ]
    },
    {
     "data": {
      "text/plain": [
       "'50'"
      ]
     },
     "execution_count": 8,
     "metadata": {},
     "output_type": "execute_result"
    }
   ],
   "source": [
    "input('Enter a number: ')"
   ]
  },
  {
   "cell_type": "code",
   "execution_count": null,
   "metadata": {},
   "outputs": [],
   "source": []
  },
  {
   "cell_type": "code",
   "execution_count": 10,
   "metadata": {},
   "outputs": [
    {
     "name": "stdout",
     "output_type": "stream",
     "text": [
      "Enter a number: 89\n"
     ]
    }
   ],
   "source": [
    "number = input('Enter a number: ')\n"
   ]
  },
  {
   "cell_type": "code",
   "execution_count": 11,
   "metadata": {},
   "outputs": [
    {
     "name": "stdout",
     "output_type": "stream",
     "text": [
      "89\n"
     ]
    }
   ],
   "source": [
    "print(number)"
   ]
  },
  {
   "cell_type": "code",
   "execution_count": 12,
   "metadata": {},
   "outputs": [],
   "source": [
    "x = 1\n",
    "\n",
    "x = x + 1"
   ]
  },
  {
   "cell_type": "code",
   "execution_count": 13,
   "metadata": {},
   "outputs": [],
   "source": [
    "x += 1"
   ]
  },
  {
   "cell_type": "code",
   "execution_count": 14,
   "metadata": {},
   "outputs": [
    {
     "name": "stdout",
     "output_type": "stream",
     "text": [
      "26.196373794859472\n"
     ]
    }
   ],
   "source": [
    "def calculate_distance(x1,y1,x2,y2):\n",
    "    import math\n",
    "    \n",
    "    distance = math.sqrt((x1-x2)**2 + (y1-y2)**2)\n",
    "    return distance\n",
    "\n",
    "distance = calculate_distance(-7, -4, 17, 6.5)\n",
    "print(distance)"
   ]
  },
  {
   "cell_type": "code",
   "execution_count": 15,
   "metadata": {},
   "outputs": [
    {
     "name": "stdout",
     "output_type": "stream",
     "text": [
      "26.2\n"
     ]
    }
   ],
   "source": [
    "print(round(distance,2))"
   ]
  },
  {
   "cell_type": "code",
   "execution_count": 18,
   "metadata": {},
   "outputs": [
    {
     "name": "stdout",
     "output_type": "stream",
     "text": [
      "15\n"
     ]
    }
   ],
   "source": [
    "# Following the function design recipe, define a function that has one\n",
    "# parameter, a number, and returns that number tripled\n",
    "\n",
    "def triple_number(input_value):\n",
    "    output_value = input_value*3\n",
    "    return output_value\n",
    "\n",
    "    \n",
    "\n",
    "print(triple_number(5))"
   ]
  },
  {
   "cell_type": "code",
   "execution_count": 19,
   "metadata": {},
   "outputs": [
    {
     "name": "stdout",
     "output_type": "stream",
     "text": [
      "15\n"
     ]
    }
   ],
   "source": [
    "# Following the function design recipe, define a function that has one\n",
    "# parameter, a number, and returns that number tripled\n",
    "\n",
    "def triple_number(input_value):\n",
    "    return input_value * 3\n",
    " \n",
    "    \n",
    "\n",
    "print(triple_number(5))"
   ]
  },
  {
   "cell_type": "code",
   "execution_count": 20,
   "metadata": {},
   "outputs": [
    {
     "ename": "SyntaxError",
     "evalue": "'return' outside function (<ipython-input-20-05d6bd9d5563>, line 1)",
     "output_type": "error",
     "traceback": [
      "\u001b[1;36m  File \u001b[1;32m\"<ipython-input-20-05d6bd9d5563>\"\u001b[1;36m, line \u001b[1;32m1\u001b[0m\n\u001b[1;33m    return 'a'\u001b[0m\n\u001b[1;37m    ^\u001b[0m\n\u001b[1;31mSyntaxError\u001b[0m\u001b[1;31m:\u001b[0m 'return' outside function\n"
     ]
    }
   ],
   "source": [
    "return 'a'"
   ]
  },
  {
   "cell_type": "code",
   "execution_count": 23,
   "metadata": {},
   "outputs": [
    {
     "name": "stdout",
     "output_type": "stream",
     "text": [
      "160.0\n"
     ]
    }
   ],
   "source": [
    "# Following the function design recipe, define a function that has one\n",
    "# parameter, a distance in kilometers, and returns the distance in miles.\n",
    "# (There are 1.6 km per miles.)\n",
    "\n",
    "def km_to_miles(km):\n",
    "    return 1.6*km\n",
    "\n",
    "print(km_to_miles(100))"
   ]
  },
  {
   "cell_type": "code",
   "execution_count": 25,
   "metadata": {},
   "outputs": [
    {
     "name": "stdout",
     "output_type": "stream",
     "text": [
      "90.0\n",
      "75.0\n"
     ]
    }
   ],
   "source": [
    "# Following the function design recipe, define a function that has three\n",
    "# parameters, grades between 0 and 100 inclusive, and returns the average\n",
    "# of those grades.\n",
    "\n",
    "\n",
    "def calculate_average(grade1, grade2, grade3):\n",
    "    return (grade1 + grade2 + grade3)/3\n",
    "\n",
    "print(calculate_average(90,90,90))\n",
    "                        \n",
    "print(calculate_average(50, 75, 100))"
   ]
  },
  {
   "cell_type": "code",
   "execution_count": 26,
   "metadata": {},
   "outputs": [
    {
     "name": "stdout",
     "output_type": "stream",
     "text": [
      "50.0\n"
     ]
    }
   ],
   "source": [
    "# Following the function design recipe, define a function that has four\n",
    "# parameters, all of them grades between 0 and 100 inclusive, and returns\n",
    "# the average of the best 3 of those grades.\n",
    "\n",
    "def calculate_average(grade1, grade2, grade3, grade4):\n",
    "    total = grade1 + grade2 + grade3 + grade4\n",
    "    min_grade = min(grade1, grade2, grade3, grade4)\n",
    "    average = (total-min_grade)/3\n",
    "    return average\n",
    "\n",
    "print(calculate_average(10, 50, 50, 50))\n",
    "    \n",
    "    "
   ]
  },
  {
   "cell_type": "code",
   "execution_count": 30,
   "metadata": {},
   "outputs": [
    {
     "name": "stdout",
     "output_type": "stream",
     "text": [
      "19\n"
     ]
    }
   ],
   "source": [
    "# Write a function that returns the number of full weeks that have elapsed between the two days\n",
    "\n",
    "\n",
    "def weeks_elapsed(day1, day2):\n",
    "    \n",
    "    return (abs(day1-day2))//7\n",
    "\n",
    "print(weeks_elapsed(41, 180))"
   ]
  },
  {
   "cell_type": "code",
   "execution_count": 27,
   "metadata": {},
   "outputs": [
    {
     "data": {
      "text/plain": [
       "10"
      ]
     },
     "execution_count": 27,
     "metadata": {},
     "output_type": "execute_result"
    }
   ],
   "source": [
    "abs(-10)"
   ]
  },
  {
   "cell_type": "code",
   "execution_count": 31,
   "metadata": {},
   "outputs": [
    {
     "data": {
      "text/plain": [
       "30"
      ]
     },
     "execution_count": 31,
     "metadata": {},
     "output_type": "execute_result"
    }
   ],
   "source": [
    "def multiply(input_value, factor=3):\n",
    "    return input_value * factor\n",
    "\n",
    "multiply(10)"
   ]
  },
  {
   "cell_type": "code",
   "execution_count": 32,
   "metadata": {},
   "outputs": [
    {
     "data": {
      "text/plain": [
       "21"
      ]
     },
     "execution_count": 32,
     "metadata": {},
     "output_type": "execute_result"
    }
   ],
   "source": [
    "multiply(7)"
   ]
  },
  {
   "cell_type": "code",
   "execution_count": 33,
   "metadata": {},
   "outputs": [
    {
     "data": {
      "text/plain": [
       "63"
      ]
     },
     "execution_count": 33,
     "metadata": {},
     "output_type": "execute_result"
    }
   ],
   "source": [
    "multiply(7,9)"
   ]
  },
  {
   "cell_type": "code",
   "execution_count": 34,
   "metadata": {},
   "outputs": [
    {
     "data": {
      "text/plain": [
       "6"
      ]
     },
     "execution_count": 34,
     "metadata": {},
     "output_type": "execute_result"
    }
   ],
   "source": [
    "x = 'EAS503'\n",
    "len(x)"
   ]
  },
  {
   "cell_type": "code",
   "execution_count": 35,
   "metadata": {},
   "outputs": [
    {
     "data": {
      "text/plain": [
       "8"
      ]
     },
     "execution_count": 35,
     "metadata": {},
     "output_type": "execute_result"
    }
   ],
   "source": [
    "new_password = 'test1234'\n",
    "len(new_password)"
   ]
  },
  {
   "cell_type": "code",
   "execution_count": 36,
   "metadata": {},
   "outputs": [
    {
     "data": {
      "text/plain": [
       "'EAS503'"
      ]
     },
     "execution_count": 36,
     "metadata": {},
     "output_type": "execute_result"
    }
   ],
   "source": [
    "str1 = 'EAS'\n",
    "str2 = '503'\n",
    "\n",
    "str1 + str2"
   ]
  },
  {
   "cell_type": "code",
   "execution_count": 37,
   "metadata": {},
   "outputs": [
    {
     "data": {
      "text/plain": [
       "'EASEASEAS'"
      ]
     },
     "execution_count": 37,
     "metadata": {},
     "output_type": "execute_result"
    }
   ],
   "source": [
    "str1 * 3"
   ]
  },
  {
   "cell_type": "code",
   "execution_count": 38,
   "metadata": {},
   "outputs": [
    {
     "name": "stdout",
     "output_type": "stream",
     "text": [
      "********************************************************************************\n"
     ]
    }
   ],
   "source": [
    "seperator = '*' * 80\n",
    "\n",
    "print(seperator)"
   ]
  },
  {
   "cell_type": "code",
   "execution_count": 39,
   "metadata": {},
   "outputs": [
    {
     "name": "stdout",
     "output_type": "stream",
     "text": [
      "********************************************************************************\n",
      "Hello!\n",
      "********************************************************************************\n"
     ]
    }
   ],
   "source": [
    "print(seperator)\n",
    "print('Hello!')\n",
    "print(seperator)"
   ]
  },
  {
   "cell_type": "code",
   "execution_count": 40,
   "metadata": {},
   "outputs": [
    {
     "name": "stdout",
     "output_type": "stream",
     "text": [
      "--------------------------------------------------------------------------------\n",
      "Hello!\n",
      "--------------------------------------------------------------------------------\n"
     ]
    }
   ],
   "source": [
    "seperator = '-' * 80\n",
    "print(seperator)\n",
    "print('Hello!')\n",
    "print(seperator)\n"
   ]
  },
  {
   "cell_type": "code",
   "execution_count": 41,
   "metadata": {},
   "outputs": [
    {
     "name": "stdout",
     "output_type": "stream",
     "text": [
      "EAS503\n"
     ]
    }
   ],
   "source": [
    "x = 'EAS'\n",
    "x += '503'\n",
    "print(x)"
   ]
  },
  {
   "cell_type": "code",
   "execution_count": 42,
   "metadata": {},
   "outputs": [
    {
     "name": "stdout",
     "output_type": "stream",
     "text": [
      "JohnDoe\n"
     ]
    }
   ],
   "source": [
    "first_name = 'John'\n",
    "last_name = 'Doe'\n",
    "\n",
    "full_name = first_name + last_name\n",
    "\n",
    "print(full_name)"
   ]
  },
  {
   "cell_type": "code",
   "execution_count": 43,
   "metadata": {},
   "outputs": [
    {
     "name": "stdout",
     "output_type": "stream",
     "text": [
      "John Doe\n"
     ]
    }
   ],
   "source": [
    "full_name = first_name + ' ' + last_name\n",
    "\n",
    "print(full_name)"
   ]
  },
  {
   "cell_type": "code",
   "execution_count": 44,
   "metadata": {},
   "outputs": [
    {
     "ename": "TypeError",
     "evalue": "can only concatenate str (not \"int\") to str",
     "output_type": "error",
     "traceback": [
      "\u001b[1;31m---------------------------------------------------------------------------\u001b[0m",
      "\u001b[1;31mTypeError\u001b[0m                                 Traceback (most recent call last)",
      "\u001b[1;32m<ipython-input-44-07145decfc8d>\u001b[0m in \u001b[0;36m<module>\u001b[1;34m\u001b[0m\n\u001b[1;32m----> 1\u001b[1;33m \u001b[1;34m'NH'\u001b[0m \u001b[1;33m+\u001b[0m \u001b[1;36m3\u001b[0m\u001b[1;33m\u001b[0m\u001b[1;33m\u001b[0m\u001b[0m\n\u001b[0m",
      "\u001b[1;31mTypeError\u001b[0m: can only concatenate str (not \"int\") to str"
     ]
    }
   ],
   "source": [
    "'NH' + 3"
   ]
  },
  {
   "cell_type": "code",
   "execution_count": 45,
   "metadata": {},
   "outputs": [
    {
     "data": {
      "text/plain": [
       "'NH3'"
      ]
     },
     "execution_count": 45,
     "metadata": {},
     "output_type": "execute_result"
    }
   ],
   "source": [
    "'NH' + str(3)\n",
    "\n",
    "\n",
    "\n",
    "\n",
    "\n"
   ]
  },
  {
   "cell_type": "code",
   "execution_count": 47,
   "metadata": {},
   "outputs": [
    {
     "data": {
      "text/plain": [
       "'67.3'"
      ]
     },
     "execution_count": 47,
     "metadata": {},
     "output_type": "execute_result"
    }
   ],
   "source": [
    "str(67.3)"
   ]
  },
  {
   "cell_type": "code",
   "execution_count": 48,
   "metadata": {},
   "outputs": [
    {
     "name": "stdout",
     "output_type": "stream",
     "text": [
      "78\n"
     ]
    }
   ],
   "source": [
    "x = '78'\n",
    "\n",
    "y = int(x)\n",
    "print(y)"
   ]
  },
  {
   "cell_type": "code",
   "execution_count": 49,
   "metadata": {},
   "outputs": [
    {
     "ename": "ValueError",
     "evalue": "invalid literal for int() with base 10: '78.8'",
     "output_type": "error",
     "traceback": [
      "\u001b[1;31m---------------------------------------------------------------------------\u001b[0m",
      "\u001b[1;31mValueError\u001b[0m                                Traceback (most recent call last)",
      "\u001b[1;32m<ipython-input-49-c7fc674faff0>\u001b[0m in \u001b[0;36m<module>\u001b[1;34m\u001b[0m\n\u001b[0;32m      1\u001b[0m \u001b[0mx\u001b[0m \u001b[1;33m=\u001b[0m \u001b[1;34m'78.8'\u001b[0m\u001b[1;33m\u001b[0m\u001b[1;33m\u001b[0m\u001b[0m\n\u001b[1;32m----> 2\u001b[1;33m \u001b[0mprint\u001b[0m\u001b[1;33m(\u001b[0m\u001b[0mint\u001b[0m\u001b[1;33m(\u001b[0m\u001b[0mx\u001b[0m\u001b[1;33m)\u001b[0m\u001b[1;33m)\u001b[0m\u001b[1;33m\u001b[0m\u001b[1;33m\u001b[0m\u001b[0m\n\u001b[0m",
      "\u001b[1;31mValueError\u001b[0m: invalid literal for int() with base 10: '78.8'"
     ]
    }
   ],
   "source": [
    "x = '78.8'\n",
    "print(int(x))"
   ]
  },
  {
   "cell_type": "code",
   "execution_count": 50,
   "metadata": {},
   "outputs": [
    {
     "name": "stdout",
     "output_type": "stream",
     "text": [
      "78.8\n"
     ]
    }
   ],
   "source": [
    "x = '78.8'\n",
    "print(float(x))"
   ]
  },
  {
   "cell_type": "code",
   "execution_count": 51,
   "metadata": {},
   "outputs": [
    {
     "data": {
      "text/plain": [
       "\"don't\""
      ]
     },
     "execution_count": 51,
     "metadata": {},
     "output_type": "execute_result"
    }
   ],
   "source": [
    "'don\\'t'"
   ]
  },
  {
   "cell_type": "code",
   "execution_count": 52,
   "metadata": {},
   "outputs": [
    {
     "data": {
      "text/plain": [
       "'He said, \"whatever\"'"
      ]
     },
     "execution_count": 52,
     "metadata": {},
     "output_type": "execute_result"
    }
   ],
   "source": [
    "\"He said, \\\"whatever\\\"\""
   ]
  },
  {
   "cell_type": "code",
   "execution_count": 53,
   "metadata": {},
   "outputs": [
    {
     "data": {
      "text/plain": [
       "\"Don't\""
      ]
     },
     "execution_count": 53,
     "metadata": {},
     "output_type": "execute_result"
    }
   ],
   "source": [
    "\"Don't\""
   ]
  },
  {
   "cell_type": "code",
   "execution_count": 54,
   "metadata": {},
   "outputs": [
    {
     "data": {
      "text/plain": [
       "'Don\"t'"
      ]
     },
     "execution_count": 54,
     "metadata": {},
     "output_type": "execute_result"
    }
   ],
   "source": [
    "'Don\"t'"
   ]
  },
  {
   "cell_type": "code",
   "execution_count": 56,
   "metadata": {},
   "outputs": [
    {
     "name": "stdout",
     "output_type": "stream",
     "text": [
      "Hello\tWorld\n"
     ]
    }
   ],
   "source": [
    "print(\"Hello\\tWorld\")"
   ]
  },
  {
   "cell_type": "code",
   "execution_count": 57,
   "metadata": {},
   "outputs": [
    {
     "name": "stdout",
     "output_type": "stream",
     "text": [
      "Hello\n",
      "World\n"
     ]
    }
   ],
   "source": [
    "print(\"Hello\\nWorld\")"
   ]
  },
  {
   "cell_type": "code",
   "execution_count": 58,
   "metadata": {},
   "outputs": [
    {
     "name": "stdout",
     "output_type": "stream",
     "text": [
      "Hello\n"
     ]
    }
   ],
   "source": [
    "print('Hello')"
   ]
  },
  {
   "cell_type": "code",
   "execution_count": 59,
   "metadata": {},
   "outputs": [
    {
     "name": "stdout",
     "output_type": "stream",
     "text": [
      "Hello World 2 3\n"
     ]
    }
   ],
   "source": [
    "print('Hello', 'World', 2, 3)"
   ]
  },
  {
   "cell_type": "code",
   "execution_count": 60,
   "metadata": {},
   "outputs": [
    {
     "name": "stdout",
     "output_type": "stream",
     "text": [
      "Hello World\n"
     ]
    }
   ],
   "source": [
    "print('Hello', 'World', sep=' ')"
   ]
  },
  {
   "cell_type": "code",
   "execution_count": 61,
   "metadata": {},
   "outputs": [
    {
     "name": "stdout",
     "output_type": "stream",
     "text": [
      "Hello-World\n"
     ]
    }
   ],
   "source": [
    "print('Hello', 'World', sep='-')"
   ]
  },
  {
   "cell_type": "code",
   "execution_count": 62,
   "metadata": {},
   "outputs": [
    {
     "name": "stdout",
     "output_type": "stream",
     "text": [
      "Hello----World\n"
     ]
    }
   ],
   "source": [
    "print('Hello', 'World', sep='-'*4)"
   ]
  },
  {
   "cell_type": "code",
   "execution_count": 63,
   "metadata": {},
   "outputs": [
    {
     "name": "stdout",
     "output_type": "stream",
     "text": [
      "Enter a number: 50\n"
     ]
    }
   ],
   "source": [
    "number = input('Enter a number: ')"
   ]
  },
  {
   "cell_type": "code",
   "execution_count": 64,
   "metadata": {},
   "outputs": [
    {
     "name": "stdout",
     "output_type": "stream",
     "text": [
      "50\n"
     ]
    }
   ],
   "source": [
    "print(number)"
   ]
  },
  {
   "cell_type": "code",
   "execution_count": 65,
   "metadata": {},
   "outputs": [
    {
     "name": "stdout",
     "output_type": "stream",
     "text": [
      "<class 'str'>\n"
     ]
    }
   ],
   "source": [
    "print(type(number))"
   ]
  },
  {
   "cell_type": "code",
   "execution_count": 66,
   "metadata": {},
   "outputs": [
    {
     "name": "stdout",
     "output_type": "stream",
     "text": [
      "Enter a number: 50\n",
      "<class 'int'>\n"
     ]
    }
   ],
   "source": [
    "number = input('Enter a number: ')\n",
    "number = int(number)\n",
    "print(type(number))"
   ]
  },
  {
   "cell_type": "code",
   "execution_count": 67,
   "metadata": {},
   "outputs": [
    {
     "name": "stdout",
     "output_type": "stream",
     "text": [
      "Enter a number: 50\n",
      "<class 'int'>\n"
     ]
    }
   ],
   "source": [
    "number = int(input('Enter a number: '))\n",
    "print(type(number))"
   ]
  },
  {
   "cell_type": "code",
   "execution_count": 72,
   "metadata": {},
   "outputs": [
    {
     "name": "stdout",
     "output_type": "stream",
     "text": [
      "Please enter temperature in Fahrenheit: 32\n",
      "The temperature in celsius is: 0.0\n"
     ]
    }
   ],
   "source": [
    "def convert_celsius():\n",
    "    fahrenheit = float(input('Please enter temperature in Fahrenheit: '))\n",
    "    celsius =  (fahrenheit - 32.0) * 5.0 / 9.0  \n",
    "    output_message = 'The temperature in celsius is: ' +  str(celsius)\n",
    "    print(output_message)\n",
    "    \n",
    "  \n",
    "convert_celsius()"
   ]
  },
  {
   "cell_type": "code",
   "execution_count": 76,
   "metadata": {},
   "outputs": [
    {
     "name": "stdout",
     "output_type": "stream",
     "text": [
      "The value of PI is: 3.14159265359\n",
      "3.14\n",
      "x = 3, y = 4, x * y = 12\n"
     ]
    }
   ],
   "source": [
    "PI = 3.14159265359 \n",
    "print(f'The value of PI is: {PI}')\n",
    "\n",
    "print(f'{PI:.2f}')\n",
    "x = 3\n",
    "y = 4\n",
    "print(f'x = {x}, y = {y}, x * y = {x*y}')"
   ]
  },
  {
   "cell_type": "code",
   "execution_count": 82,
   "metadata": {},
   "outputs": [
    {
     "name": "stdout",
     "output_type": "stream",
     "text": [
      "PI is 3.14\n",
      "PI is 3.14\n",
      "PI is 3.14\n"
     ]
    }
   ],
   "source": [
    "PI = 3.14159265359 \n",
    "name = 'PI'\n",
    "\n",
    "print('%s is %.2f' % (name, PI))  # oldest way format specifier is <width>.<precision><type>\n",
    "\n",
    "## ----\n",
    "\n",
    "\n",
    "print(('{0} is {1:.2f}'.format('PI', PI)) ) \n",
    "# print(('{1} is {0}'.format('PI', PI)) ) \n",
    "\n",
    "# older way {<index>:<format-specifier>} where the format specifier is <width>.<precision><type>\n",
    "\n",
    "\n",
    "\n",
    "print(f'{name} is {PI:.2f}') # newest way\n",
    "\n"
   ]
  },
  {
   "cell_type": "code",
   "execution_count": 83,
   "metadata": {},
   "outputs": [
    {
     "name": "stdout",
     "output_type": "stream",
     "text": [
      "EAS503\n",
      "EAS503\n"
     ]
    }
   ],
   "source": [
    "# {<index>:<format-specifier>} where the format specifier is <width>.<precision><type>\n",
    "# {:<format-specifier>} where the format specifier is <width>.<precision><type>\n",
    "\n",
    "\n",
    "class_number = 'EAS503'\n",
    "class_size = 113\n",
    "class_average = 92.3\n",
    "\n",
    "# Example 1\n",
    "str_format = '{}'.format(class_number)\n",
    "f_string = f'{class_number}'\n",
    "\n",
    "print(str_format)\n",
    "print(f_string)"
   ]
  },
  {
   "cell_type": "code",
   "execution_count": 84,
   "metadata": {},
   "outputs": [
    {
     "name": "stdout",
     "output_type": "stream",
     "text": [
      "The course number is EAS503\n",
      "The course number is EAS503\n"
     ]
    }
   ],
   "source": [
    "str_format = 'The course number is {}'.format(class_number)\n",
    "f_string = f'The course number is {class_number}'\n",
    "\n",
    "print(str_format)\n",
    "print(f_string)"
   ]
  },
  {
   "cell_type": "code",
   "execution_count": 85,
   "metadata": {},
   "outputs": [
    {
     "name": "stdout",
     "output_type": "stream",
     "text": [
      "The course number is EAS503. It has 113 students.\n",
      "The course number is EAS503. It has 113 students.\n"
     ]
    }
   ],
   "source": [
    "str_format = 'The course number is {}. It has {} students.'.format(class_number, class_size)\n",
    "str_format = 'The course number is {0}. It has {1} students.'.format(class_number, class_size)\n",
    "f_string = f'The course number is {class_number}. It has {class_size} students.'\n",
    "\n",
    "print(str_format)\n",
    "print(f_string)"
   ]
  },
  {
   "cell_type": "code",
   "execution_count": 86,
   "metadata": {},
   "outputs": [
    {
     "name": "stdout",
     "output_type": "stream",
     "text": [
      "The course number is EAS503. It has 113 students. The class average is 92.3\n",
      "The course number is 113. It has EAS503 students. The class average is 92.3.\n"
     ]
    }
   ],
   "source": [
    "str_format = 'The course number is {0}. It has {1} students. The class average is {2}'.format(class_number, class_size, class_average)\n",
    "f_string = f'The course number is {class_size}. It has {class_number} students. The class average is {class_average}.'\n",
    "\n",
    "print(str_format)\n",
    "print(f_string)"
   ]
  },
  {
   "cell_type": "code",
   "execution_count": 89,
   "metadata": {},
   "outputs": [
    {
     "name": "stdout",
     "output_type": "stream",
     "text": [
      "The course number is EAS503    . It has        113 students. The class average is            92.3\n",
      "The course number is EAS503    . It has        113 students. The class average is       92.3.\n"
     ]
    }
   ],
   "source": [
    "# {<index>:<format-specifier>} where the format specifier is <width>.<precision><type>\n",
    "# {<variable/expression>:<format-specifier>} where the format specifier is \n",
    "\n",
    "#<width>.<precision><type>\n",
    "\n",
    "\n",
    "# Example 6 specify number of spaces to use -- width\n",
    "str_format = 'The course number is {0:10}. It has {1:10} students. The class average is {2:15}'.format(class_number, class_size, class_average)\n",
    "f_string = f'The course number is {class_number:10}. It has {class_size:10} students. The class average is {class_average:10}.'\n",
    "\n",
    "print(str_format)\n",
    "print(f_string)"
   ]
  },
  {
   "cell_type": "code",
   "execution_count": 92,
   "metadata": {},
   "outputs": [
    {
     "name": "stdout",
     "output_type": "stream",
     "text": [
      "The course number is     EAS503. It has        113 students. The class average is       92.3\n",
      "The course number is     EAS503. It has 113        students. The class average is       92.3.\n"
     ]
    }
   ],
   "source": [
    "# Example 7 right align\n",
    "str_format = 'The course number is {0:>10}. It has {1:>10} students. The class average is {2:>10}'.format(class_number, class_size, class_average)\n",
    "f_string = f'The course number is {class_number:>10}. It has {class_size:<10} students. The class average is {class_average:>10}.'\n",
    "\n",
    "print(str_format)\n",
    "print(f_string)"
   ]
  },
  {
   "cell_type": "code",
   "execution_count": 95,
   "metadata": {},
   "outputs": [
    {
     "name": "stdout",
     "output_type": "stream",
     "text": [
      "They'll hibernate during the winter.\n"
     ]
    }
   ],
   "source": [
    "# 1 ----------------------------\n",
    "# Print: They'll hibernate during the winter.\n",
    "\n",
    "message = 'They\\'ll hibernate during the winter.'\n",
    "print(message)"
   ]
  },
  {
   "cell_type": "code",
   "execution_count": 96,
   "metadata": {},
   "outputs": [
    {
     "name": "stdout",
     "output_type": "stream",
     "text": [
      "\"Aabsolutely not,\" he said\n"
     ]
    }
   ],
   "source": [
    "# Print: \"Absolutely not,\" he said.\n",
    "\n",
    "message = '\"Aabsolutely not,\" he said'\n",
    "print(message)"
   ]
  },
  {
   "cell_type": "code",
   "execution_count": 97,
   "metadata": {},
   "outputs": [
    {
     "name": "stdout",
     "output_type": "stream",
     "text": [
      "\"Absolutely not,\" he said.\n"
     ]
    }
   ],
   "source": [
    "message = \"\\\"Absolutely not,\\\" he said.\"\n",
    "print(message)"
   ]
  },
  {
   "cell_type": "code",
   "execution_count": 98,
   "metadata": {},
   "outputs": [
    {
     "name": "stdout",
     "output_type": "stream",
     "text": [
      "\"He said, 'Absolute not,'\", recalled Mel\n"
     ]
    }
   ],
   "source": [
    "# Print: \"He said, 'Absolutely not,'\" recalled Mel.\n",
    "\n",
    "message = '\"He said, \\'Absolute not,\\'\", recalled Mel'\n",
    "print(message)"
   ]
  },
  {
   "cell_type": "code",
   "execution_count": 160,
   "metadata": {},
   "outputs": [
    {
     "name": "stdout",
     "output_type": "stream",
     "text": [
      "left'right\n"
     ]
    }
   ],
   "source": [
    "# Print: left\\right.\n",
    "message = 'left\\'right'\n",
    "print(message)\n",
    "\n"
   ]
  },
  {
   "cell_type": "code",
   "execution_count": 102,
   "metadata": {},
   "outputs": [
    {
     "name": "stdout",
     "output_type": "stream",
     "text": [
      "The rabbit is 3.\n"
     ]
    }
   ],
   "source": [
    "# Given x = 3 and y = 12.5 print: The rabbit is 3.\n",
    "\n",
    "x = 3\n",
    "y = 12.5\n",
    "message = f'The rabbit is {x}.'\n",
    "print(message)\n"
   ]
  },
  {
   "cell_type": "code",
   "execution_count": 104,
   "metadata": {},
   "outputs": [
    {
     "name": "stdout",
     "output_type": "stream",
     "text": [
      "12.5 * 3.\n"
     ]
    }
   ],
   "source": [
    "# Given x = 3 and y = 12.5 print: 12.5 * 3.\n",
    "\n",
    "x = 3\n",
    "y = 12.5\n",
    "message = f'{y} * {x}.'\n",
    "print(message)"
   ]
  },
  {
   "cell_type": "code",
   "execution_count": 105,
   "metadata": {},
   "outputs": [
    {
     "name": "stdout",
     "output_type": "stream",
     "text": [
      "+---------------------------------------------------+\n",
      "|               Cereal Yields (kg/ha)               |\n",
      "+---------------+--------+--------+--------+--------+\n",
      "|    Country    |  1980  |  1990  |  2000  |  2010  |\n",
      "+---------------+--------+--------+--------+--------+\n",
      "| China         |  2,937 |  4,321 |  4,752 |  5,527 |\n",
      "| Germany       |  4,225 |  5,411 |  6,453 |  6,718 |\n",
      "| United States |  3,772 |  4,755 |  5,854 |  6,988 |\n",
      "+---------------+--------+--------+--------+--------+\n"
     ]
    }
   ],
   "source": [
    "title = '|' + '{:^51}'.format('Cereal Yields (kg/ha)') + '|'\n",
    "line = '+' + '-'*15 + '+' + ('-'*8 + '+')*4\n",
    "row = '| {:<13} |' + ' {:6,d} |'*4\n",
    "header = '| {:^13s} |'.format('Country') + (' {:^6d} |'*4).format(1980, 1990,\n",
    "                                                                  2000, 2010)\n",
    "print('+' + '-'*(len(title)-2) + '+',\n",
    "      title,\n",
    "      line,\n",
    "      header,\n",
    "      line,\n",
    "      row.format('China', 2937, 4321, 4752, 5527),\n",
    "      row.format('Germany', 4225, 5411, 6453, 6718),\n",
    "      row.format('United States', 3772, 4755, 5854, 6988),\n",
    "      line,\n",
    "      sep='\\n')"
   ]
  },
  {
   "cell_type": "code",
   "execution_count": 106,
   "metadata": {},
   "outputs": [
    {
     "name": "stdout",
     "output_type": "stream",
     "text": [
      "|               Cereal Yields (kg/ha)               |\n"
     ]
    }
   ],
   "source": [
    "title = '|' + '{:^51}'.format('Cereal Yields (kg/ha)') + '|'\n",
    "print(title)"
   ]
  },
  {
   "cell_type": "code",
   "execution_count": 110,
   "metadata": {},
   "outputs": [
    {
     "name": "stdout",
     "output_type": "stream",
     "text": [
      "|               Cereal Yields (kg/ha)               |\n",
      "53\n"
     ]
    }
   ],
   "source": [
    "title = 'Cereal Yields (kg/ha)'\n",
    "title_str = f'|{title:^51}|'\n",
    "print(title_str)\n",
    "print(len(title_str))"
   ]
  },
  {
   "cell_type": "code",
   "execution_count": 109,
   "metadata": {},
   "outputs": [
    {
     "name": "stdout",
     "output_type": "stream",
     "text": [
      "+---------------+--------+--------+--------+--------+\n"
     ]
    }
   ],
   "source": [
    "line = '+' + '-'*15 + '+' + ('-'*8 + '+')*4\n",
    "\n",
    "print(line)"
   ]
  },
  {
   "cell_type": "code",
   "execution_count": 113,
   "metadata": {},
   "outputs": [
    {
     "name": "stdout",
     "output_type": "stream",
     "text": [
      "+---------------+--------+--------+--------+--------+\n"
     ]
    }
   ],
   "source": [
    "part_of_line = ('-'*8 + '+')*4\n",
    "line = f'+{\"-\"*15}+{part_of_line}'\n",
    "print(line)\n"
   ]
  },
  {
   "cell_type": "code",
   "execution_count": 116,
   "metadata": {},
   "outputs": [
    {
     "name": "stdout",
     "output_type": "stream",
     "text": [
      "|    Country    |  1980  |  1990  |  2000  |  2010  |\n"
     ]
    }
   ],
   "source": [
    "header = '| {:^13s} |'.format('Country') + (' {:^6d} |'*4).format(1980, 1990,\n",
    "                                                                  2000, 2010)\n",
    "print(header)"
   ]
  },
  {
   "cell_type": "code",
   "execution_count": 117,
   "metadata": {},
   "outputs": [
    {
     "name": "stdout",
     "output_type": "stream",
     "text": [
      " {:^6d} | {:^6d} | {:^6d} | {:^6d} |\n"
     ]
    }
   ],
   "source": [
    "print((' {:^6d} |'*4))"
   ]
  },
  {
   "cell_type": "code",
   "execution_count": 118,
   "metadata": {},
   "outputs": [
    {
     "name": "stdout",
     "output_type": "stream",
     "text": [
      " {:^6d} | {:^6d} | {:^6d} | {:^6d} |\n"
     ]
    }
   ],
   "source": [
    "x = (' {:^6d} |'*4)\n",
    "\n",
    "print(x)"
   ]
  },
  {
   "cell_type": "code",
   "execution_count": 119,
   "metadata": {},
   "outputs": [
    {
     "data": {
      "text/plain": [
       "'  1877  |  8023  |  8990  |  1000  |'"
      ]
     },
     "execution_count": 119,
     "metadata": {},
     "output_type": "execute_result"
    }
   ],
   "source": [
    "x.format(1877, 8023, 8990, 1000)"
   ]
  },
  {
   "cell_type": "code",
   "execution_count": 123,
   "metadata": {},
   "outputs": [
    {
     "name": "stdout",
     "output_type": "stream",
     "text": [
      "|    Country    |  1980  |  1990  |  2000  | 2010  |\n"
     ]
    }
   ],
   "source": [
    "header1 = f'| {\"Country\":^13s} | {1980:^6d} | {1990:^6d} | {2000:^6d} |{2010:^6d} |'\n",
    "print(header1)\n"
   ]
  },
  {
   "cell_type": "code",
   "execution_count": 129,
   "metadata": {},
   "outputs": [
    {
     "name": "stdout",
     "output_type": "stream",
     "text": [
      "| {:<13} | {:6,d} | {:6,d} | {:6,d} | {:6,d} |\n"
     ]
    }
   ],
   "source": [
    "row = '| {:<13} |' + ' {:6,d} |'*4\n",
    "print(row)"
   ]
  },
  {
   "cell_type": "code",
   "execution_count": 130,
   "metadata": {},
   "outputs": [
    {
     "data": {
      "text/plain": [
       "'| Guam          |  4,444 |  5,555 |  8,888 |  9,999 |'"
      ]
     },
     "execution_count": 130,
     "metadata": {},
     "output_type": "execute_result"
    }
   ],
   "source": [
    "row.format('Guam', 4444, 5555, 8888, 9999)"
   ]
  },
  {
   "cell_type": "code",
   "execution_count": 131,
   "metadata": {},
   "outputs": [
    {
     "name": "stdout",
     "output_type": "stream",
     "text": [
      "1\n",
      "3\n",
      "4\n",
      "5\n"
     ]
    }
   ],
   "source": [
    "print(1, 3, 4, 5, sep='\\n')"
   ]
  },
  {
   "cell_type": "code",
   "execution_count": 133,
   "metadata": {},
   "outputs": [
    {
     "data": {
      "text/plain": [
       "'ABCD'"
      ]
     },
     "execution_count": 133,
     "metadata": {},
     "output_type": "execute_result"
    }
   ],
   "source": [
    "my_string = 'abcd'\n",
    "\n",
    "my_string.upper()\n",
    "\n"
   ]
  },
  {
   "cell_type": "code",
   "execution_count": 134,
   "metadata": {},
   "outputs": [],
   "source": [
    "def upper(input_string):\n",
    "    # do something convert all cases to upper case\n",
    "    return output_string"
   ]
  },
  {
   "cell_type": "code",
   "execution_count": 135,
   "metadata": {},
   "outputs": [
    {
     "data": {
      "text/plain": [
       "'Abcd'"
      ]
     },
     "execution_count": 135,
     "metadata": {},
     "output_type": "execute_result"
    }
   ],
   "source": [
    "my_string = 'abcd'\n",
    "\n",
    "my_string.capitalize()\n",
    "\n"
   ]
  },
  {
   "cell_type": "code",
   "execution_count": 138,
   "metadata": {},
   "outputs": [
    {
     "data": {
      "text/plain": [
       "3"
      ]
     },
     "execution_count": 138,
     "metadata": {},
     "output_type": "execute_result"
    }
   ],
   "source": [
    "my_string = 'aabcad'\n",
    "\n",
    "my_string.count('a')\n",
    "\n"
   ]
  },
  {
   "cell_type": "code",
   "execution_count": 140,
   "metadata": {},
   "outputs": [
    {
     "data": {
      "text/plain": [
       "False"
      ]
     },
     "execution_count": 140,
     "metadata": {},
     "output_type": "execute_result"
    }
   ],
   "source": [
    "my_string = 'abcd'\n",
    "\n",
    "my_string.endswith('cd')\n",
    "\n",
    "my_string.endswith('ef')\n",
    "\n"
   ]
  },
  {
   "cell_type": "code",
   "execution_count": 144,
   "metadata": {},
   "outputs": [
    {
     "data": {
      "text/plain": [
       "3"
      ]
     },
     "execution_count": 144,
     "metadata": {},
     "output_type": "execute_result"
    }
   ],
   "source": [
    "my_string = 'bcdaa'\n",
    "\n",
    "my_string.find('a')"
   ]
  },
  {
   "cell_type": "code",
   "execution_count": 145,
   "metadata": {},
   "outputs": [
    {
     "data": {
      "text/plain": [
       "True"
      ]
     },
     "execution_count": 145,
     "metadata": {},
     "output_type": "execute_result"
    }
   ],
   "source": [
    "my_string.islower()"
   ]
  },
  {
   "cell_type": "code",
   "execution_count": 148,
   "metadata": {},
   "outputs": [
    {
     "data": {
      "text/plain": [
       "True"
      ]
     },
     "execution_count": 148,
     "metadata": {},
     "output_type": "execute_result"
    }
   ],
   "source": [
    "my_string.startswith('bc')"
   ]
  },
  {
   "cell_type": "code",
   "execution_count": 151,
   "metadata": {},
   "outputs": [
    {
     "name": "stdout",
     "output_type": "stream",
     "text": [
      "    AbCDef   \t\n"
     ]
    }
   ],
   "source": [
    "my_string = '    AbCDef   \\t'\n",
    "print(my_string)"
   ]
  },
  {
   "cell_type": "code",
   "execution_count": 152,
   "metadata": {},
   "outputs": [
    {
     "data": {
      "text/plain": [
       "'AbCDef   \\t'"
      ]
     },
     "execution_count": 152,
     "metadata": {},
     "output_type": "execute_result"
    }
   ],
   "source": [
    "my_string.lstrip()"
   ]
  },
  {
   "cell_type": "code",
   "execution_count": 153,
   "metadata": {},
   "outputs": [
    {
     "data": {
      "text/plain": [
       "'    AbCDef'"
      ]
     },
     "execution_count": 153,
     "metadata": {},
     "output_type": "execute_result"
    }
   ],
   "source": [
    "my_string.rstrip()"
   ]
  },
  {
   "cell_type": "code",
   "execution_count": 154,
   "metadata": {},
   "outputs": [
    {
     "data": {
      "text/plain": [
       "'AbCDef'"
      ]
     },
     "execution_count": 154,
     "metadata": {},
     "output_type": "execute_result"
    }
   ],
   "source": [
    "my_string.strip()"
   ]
  },
  {
   "cell_type": "code",
   "execution_count": 158,
   "metadata": {},
   "outputs": [
    {
     "name": "stdout",
     "output_type": "stream",
     "text": [
      "exam1\n",
      "exam2\n",
      "exam3\n"
     ]
    }
   ],
   "source": [
    "exams = 'exam1, exam2, exam3'\n",
    "exam1, exam2, exam3 = exams.split(',')\n",
    "\n",
    "print(exam1)\n",
    "print(exam2.strip())\n",
    "print(exam3.strip())"
   ]
  },
  {
   "cell_type": "code",
   "execution_count": null,
   "metadata": {},
   "outputs": [],
   "source": [
    "# Python Sticky note \n",
    "# https://openastronomy.org/rcsc18/chapters/03-fundamentals-of-python/01-introduction-to-python"
   ]
  },
  {
   "cell_type": "code",
   "execution_count": null,
   "metadata": {},
   "outputs": [],
   "source": []
  },
  {
   "cell_type": "code",
   "execution_count": null,
   "metadata": {},
   "outputs": [],
   "source": []
  }
 ],
 "metadata": {
  "kernelspec": {
   "display_name": "Python 3",
   "language": "python",
   "name": "python3"
  },
  "language_info": {
   "codemirror_mode": {
    "name": "ipython",
    "version": 3
   },
   "file_extension": ".py",
   "mimetype": "text/x-python",
   "name": "python",
   "nbconvert_exporter": "python",
   "pygments_lexer": "ipython3",
   "version": "3.8.5"
  }
 },
 "nbformat": 4,
 "nbformat_minor": 4
}
