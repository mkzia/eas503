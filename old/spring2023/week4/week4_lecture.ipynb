{
 "cells": [
  {
   "cell_type": "markdown",
   "id": "adb58970",
   "metadata": {},
   "source": [
    "## + Operator\n",
    "- + arithmetic \n",
    "- + string -- concat\n",
    "- + list -- join lists \n",
    "- * tuple -- repeat\n",
    "\n",
    "## * Operator\n",
    "- * arithmetic (int, float)\n",
    "- * string -- repeat\n",
    "- * list -- repeat \n",
    "- * tuple -- repeat\n",
    "\n",
    "## + for mixed data\n",
    "- string + int , string + float -- illegal\n",
    "\n",
    "\n",
    "## * for mixed data\n",
    "- string * int -- repeat\n",
    "\n"
   ]
  },
  {
   "cell_type": "code",
   "execution_count": 2,
   "id": "55c0993c",
   "metadata": {},
   "outputs": [
    {
     "data": {
      "text/plain": [
       "(1, 2, 1, 2)"
      ]
     },
     "execution_count": 2,
     "metadata": {},
     "output_type": "execute_result"
    }
   ],
   "source": [
    "(1, 2) * 2"
   ]
  },
  {
   "cell_type": "code",
   "execution_count": 3,
   "id": "01d2d131",
   "metadata": {},
   "outputs": [
    {
     "ename": "TypeError",
     "evalue": "can only concatenate str (not \"int\") to str",
     "output_type": "error",
     "traceback": [
      "\u001b[1;31m---------------------------------------------------------------------------\u001b[0m",
      "\u001b[1;31mTypeError\u001b[0m                                 Traceback (most recent call last)",
      "\u001b[1;32m~\\AppData\\Local\\Temp\\ipykernel_21196\\3639007781.py\u001b[0m in \u001b[0;36m<module>\u001b[1;34m\u001b[0m\n\u001b[1;32m----> 1\u001b[1;33m \u001b[1;34m'NA'\u001b[0m \u001b[1;33m+\u001b[0m \u001b[1;36m3\u001b[0m\u001b[1;33m\u001b[0m\u001b[1;33m\u001b[0m\u001b[0m\n\u001b[0m",
      "\u001b[1;31mTypeError\u001b[0m: can only concatenate str (not \"int\") to str"
     ]
    }
   ],
   "source": [
    "'NA' + 3"
   ]
  },
  {
   "cell_type": "code",
   "execution_count": 8,
   "id": "2e5e956a",
   "metadata": {},
   "outputs": [
    {
     "data": {
      "text/plain": [
       "'NA3'"
      ]
     },
     "execution_count": 8,
     "metadata": {},
     "output_type": "execute_result"
    }
   ],
   "source": [
    "'NA' + str(3)"
   ]
  },
  {
   "cell_type": "code",
   "execution_count": 4,
   "id": "44cd5841",
   "metadata": {},
   "outputs": [
    {
     "data": {
      "text/plain": [
       "'NA3'"
      ]
     },
     "execution_count": 4,
     "metadata": {},
     "output_type": "execute_result"
    }
   ],
   "source": [
    "x = 'NA'\n",
    "y = 3\n",
    "f'{x}{y}'"
   ]
  },
  {
   "cell_type": "code",
   "execution_count": 6,
   "id": "7dab9d4c",
   "metadata": {},
   "outputs": [
    {
     "data": {
      "text/plain": [
       "3"
      ]
     },
     "execution_count": 6,
     "metadata": {},
     "output_type": "execute_result"
    }
   ],
   "source": [
    "int('3')"
   ]
  },
  {
   "cell_type": "code",
   "execution_count": 9,
   "id": "543c0fc6",
   "metadata": {},
   "outputs": [],
   "source": [
    "x = 1\n",
    "x = x + 1"
   ]
  },
  {
   "cell_type": "code",
   "execution_count": 10,
   "id": "d83ac93d",
   "metadata": {},
   "outputs": [],
   "source": [
    "x = 1\n",
    "x += 1"
   ]
  },
  {
   "cell_type": "code",
   "execution_count": 12,
   "id": "adccfe7c",
   "metadata": {},
   "outputs": [],
   "source": [
    "x = [1, 2, [3, 4]]"
   ]
  },
  {
   "cell_type": "code",
   "execution_count": 13,
   "id": "7c7c2f71",
   "metadata": {},
   "outputs": [],
   "source": [
    "x[2] = 5"
   ]
  },
  {
   "cell_type": "code",
   "execution_count": 14,
   "id": "3664fff6",
   "metadata": {},
   "outputs": [
    {
     "ename": "TypeError",
     "evalue": "'tuple' object does not support item assignment",
     "output_type": "error",
     "traceback": [
      "\u001b[1;31m---------------------------------------------------------------------------\u001b[0m",
      "\u001b[1;31mTypeError\u001b[0m                                 Traceback (most recent call last)",
      "\u001b[1;32m~\\AppData\\Local\\Temp\\ipykernel_21196\\2463042206.py\u001b[0m in \u001b[0;36m<module>\u001b[1;34m\u001b[0m\n\u001b[0;32m      1\u001b[0m \u001b[0mx\u001b[0m \u001b[1;33m=\u001b[0m \u001b[1;33m(\u001b[0m\u001b[1;36m1\u001b[0m\u001b[1;33m,\u001b[0m \u001b[1;36m2\u001b[0m\u001b[1;33m,\u001b[0m \u001b[1;33m[\u001b[0m\u001b[1;36m3\u001b[0m\u001b[1;33m,\u001b[0m \u001b[1;36m4\u001b[0m\u001b[1;33m]\u001b[0m\u001b[1;33m)\u001b[0m\u001b[1;33m\u001b[0m\u001b[1;33m\u001b[0m\u001b[0m\n\u001b[1;32m----> 2\u001b[1;33m \u001b[0mx\u001b[0m\u001b[1;33m[\u001b[0m\u001b[1;36m2\u001b[0m\u001b[1;33m]\u001b[0m \u001b[1;33m=\u001b[0m \u001b[1;36m5\u001b[0m\u001b[1;33m\u001b[0m\u001b[1;33m\u001b[0m\u001b[0m\n\u001b[0m",
      "\u001b[1;31mTypeError\u001b[0m: 'tuple' object does not support item assignment"
     ]
    }
   ],
   "source": [
    "x = (1, 2, [3, 4])\n",
    "x[2] = 5"
   ]
  },
  {
   "cell_type": "code",
   "execution_count": 15,
   "id": "12265008",
   "metadata": {},
   "outputs": [],
   "source": [
    "x = (1, 2, [3, 4])\n",
    "x[2][1] = 5"
   ]
  },
  {
   "cell_type": "code",
   "execution_count": 16,
   "id": "42599c40",
   "metadata": {},
   "outputs": [
    {
     "data": {
      "text/plain": [
       "(1, 2, [3, 5])"
      ]
     },
     "execution_count": 16,
     "metadata": {},
     "output_type": "execute_result"
    }
   ],
   "source": [
    "x"
   ]
  },
  {
   "cell_type": "code",
   "execution_count": 17,
   "id": "5bf1f5ac",
   "metadata": {},
   "outputs": [
    {
     "data": {
      "text/plain": [
       "4"
      ]
     },
     "execution_count": 17,
     "metadata": {},
     "output_type": "execute_result"
    }
   ],
   "source": [
    "round(3.55)"
   ]
  },
  {
   "cell_type": "code",
   "execution_count": 18,
   "id": "beb5cbb1",
   "metadata": {},
   "outputs": [
    {
     "data": {
      "text/plain": [
       "4"
      ]
     },
     "execution_count": 18,
     "metadata": {},
     "output_type": "execute_result"
    }
   ],
   "source": [
    "round(3.5)"
   ]
  },
  {
   "cell_type": "code",
   "execution_count": 19,
   "id": "7cf420b3",
   "metadata": {},
   "outputs": [
    {
     "data": {
      "text/plain": [
       "4"
      ]
     },
     "execution_count": 19,
     "metadata": {},
     "output_type": "execute_result"
    }
   ],
   "source": [
    "round(4.5)"
   ]
  },
  {
   "cell_type": "code",
   "execution_count": 21,
   "id": "7dc51b43",
   "metadata": {},
   "outputs": [
    {
     "data": {
      "text/plain": [
       "2.67"
      ]
     },
     "execution_count": 21,
     "metadata": {},
     "output_type": "execute_result"
    }
   ],
   "source": [
    "round(2.675, 2)"
   ]
  },
  {
   "cell_type": "code",
   "execution_count": 22,
   "id": "082583e8",
   "metadata": {},
   "outputs": [
    {
     "data": {
      "text/plain": [
       "2.58"
      ]
     },
     "execution_count": 22,
     "metadata": {},
     "output_type": "execute_result"
    }
   ],
   "source": [
    "round(2.575, 2)"
   ]
  },
  {
   "cell_type": "code",
   "execution_count": 23,
   "id": "c0beb140",
   "metadata": {},
   "outputs": [
    {
     "data": {
      "text/plain": [
       "4"
      ]
     },
     "execution_count": 23,
     "metadata": {},
     "output_type": "execute_result"
    }
   ],
   "source": [
    "import math\n",
    "\n",
    "math.ceil(3.14)"
   ]
  },
  {
   "cell_type": "code",
   "execution_count": 24,
   "id": "f9adf443",
   "metadata": {},
   "outputs": [
    {
     "data": {
      "text/plain": [
       "3"
      ]
     },
     "execution_count": 24,
     "metadata": {},
     "output_type": "execute_result"
    }
   ],
   "source": [
    "math.floor(3.14)"
   ]
  },
  {
   "cell_type": "code",
   "execution_count": 26,
   "id": "ee963cb2",
   "metadata": {},
   "outputs": [
    {
     "data": {
      "text/plain": [
       "'3      '"
      ]
     },
     "execution_count": 26,
     "metadata": {},
     "output_type": "execute_result"
    }
   ],
   "source": [
    "x = 3\n",
    "f'{x}             '"
   ]
  },
  {
   "cell_type": "code",
   "execution_count": 27,
   "id": "57ca5ba0",
   "metadata": {},
   "outputs": [
    {
     "data": {
      "text/plain": [
       "'         3'"
      ]
     },
     "execution_count": 27,
     "metadata": {},
     "output_type": "execute_result"
    }
   ],
   "source": [
    "f'{x:10}'"
   ]
  },
  {
   "cell_type": "code",
   "execution_count": 28,
   "id": "a82f5293",
   "metadata": {},
   "outputs": [],
   "source": [
    "x = [1, 15, 3, 5, 7]"
   ]
  },
  {
   "cell_type": "code",
   "execution_count": null,
   "id": "46b2d407",
   "metadata": {},
   "outputs": [],
   "source": [
    "# x.sort() # method doesn't return a new value, rahter it sorts in-place\n",
    "# sorted() # function returns a new value/list"
   ]
  },
  {
   "cell_type": "code",
   "execution_count": 29,
   "id": "ad102ef3",
   "metadata": {},
   "outputs": [],
   "source": [
    "y = sorted(x)"
   ]
  },
  {
   "cell_type": "code",
   "execution_count": 30,
   "id": "9aeb983e",
   "metadata": {},
   "outputs": [
    {
     "data": {
      "text/plain": [
       "[1, 15, 3, 5, 7]"
      ]
     },
     "execution_count": 30,
     "metadata": {},
     "output_type": "execute_result"
    }
   ],
   "source": [
    "x"
   ]
  },
  {
   "cell_type": "code",
   "execution_count": 31,
   "id": "26e70606",
   "metadata": {},
   "outputs": [
    {
     "data": {
      "text/plain": [
       "[1, 3, 5, 7, 15]"
      ]
     },
     "execution_count": 31,
     "metadata": {},
     "output_type": "execute_result"
    }
   ],
   "source": [
    "y"
   ]
  },
  {
   "cell_type": "code",
   "execution_count": 32,
   "id": "df6420c3",
   "metadata": {},
   "outputs": [],
   "source": [
    "a = x.sort()"
   ]
  },
  {
   "cell_type": "code",
   "execution_count": 33,
   "id": "e217589a",
   "metadata": {},
   "outputs": [
    {
     "data": {
      "text/plain": [
       "[1, 3, 5, 7, 15]"
      ]
     },
     "execution_count": 33,
     "metadata": {},
     "output_type": "execute_result"
    }
   ],
   "source": [
    "x"
   ]
  },
  {
   "cell_type": "code",
   "execution_count": 34,
   "id": "1c1011f0",
   "metadata": {},
   "outputs": [
    {
     "data": {
      "text/plain": [
       "NoneType"
      ]
     },
     "execution_count": 34,
     "metadata": {},
     "output_type": "execute_result"
    }
   ],
   "source": [
    "type(a)"
   ]
  },
  {
   "cell_type": "code",
   "execution_count": 35,
   "id": "9adceba0",
   "metadata": {},
   "outputs": [],
   "source": [
    "a"
   ]
  },
  {
   "cell_type": "code",
   "execution_count": 36,
   "id": "7136baae",
   "metadata": {},
   "outputs": [
    {
     "name": "stdout",
     "output_type": "stream",
     "text": [
      "1 2 4 list [1, 2, 3]\n"
     ]
    }
   ],
   "source": [
    "print(1, 2, 4, 'list', [1, 2, 3])"
   ]
  },
  {
   "cell_type": "code",
   "execution_count": 53,
   "id": "7c3df5f3",
   "metadata": {},
   "outputs": [
    {
     "name": "stdout",
     "output_type": "stream",
     "text": [
      "1 2 4 list [1, 2, 3]--1 2 4 list [1, 2, 3]--"
     ]
    }
   ],
   "source": [
    "print(1, 2, 4, 'list', [1, 2, 3], end='--')\n",
    "print(1, 2, 4, 'list', [1, 2, 3], end='--')"
   ]
  },
  {
   "cell_type": "code",
   "execution_count": 50,
   "id": "dfbc9200",
   "metadata": {},
   "outputs": [
    {
     "name": "stdout",
     "output_type": "stream",
     "text": [
      "0 1 3; 1 2 4; 2 3 5; "
     ]
    }
   ],
   "source": [
    "x = [1, 2, 3]\n",
    "y = [3, 4, 5]\n",
    "\n",
    "length_x = len(x)\n",
    "length_y = len(y)\n",
    "\n",
    "if length_x == length_y:\n",
    "    for index in range(length_x):\n",
    "        print(index, x[index], y[index], end='; ')"
   ]
  },
  {
   "cell_type": "code",
   "execution_count": 55,
   "id": "d87772d7",
   "metadata": {},
   "outputs": [
    {
     "name": "stdout",
     "output_type": "stream",
     "text": [
      "1 3 7\n",
      "2 4 8\n"
     ]
    }
   ],
   "source": [
    "x = [1, 2, 3, 5]\n",
    "y = [3, 4, 5]\n",
    "z = [7, 8]\n",
    "\n",
    "for a, b, c in zip(x, y, z):\n",
    "    print(a, b, c)"
   ]
  },
  {
   "cell_type": "code",
   "execution_count": 57,
   "id": "707364fb",
   "metadata": {},
   "outputs": [
    {
     "name": "stdout",
     "output_type": "stream",
     "text": [
      "USA 331\n",
      "India 1408\n",
      "Russia 143\n",
      "China 1412\n"
     ]
    }
   ],
   "source": [
    "countries = ['USA', 'India', 'Russia', 'China', 'France']\n",
    "population = [331, 1408, 143, 1412]\n",
    "\n",
    "for c, p in zip(countries, population):\n",
    "    print(c, p)\n",
    "    \n"
   ]
  },
  {
   "cell_type": "code",
   "execution_count": 61,
   "id": "c85c9b0f",
   "metadata": {},
   "outputs": [
    {
     "data": {
      "text/plain": [
       "'Russia'"
      ]
     },
     "execution_count": 61,
     "metadata": {},
     "output_type": "execute_result"
    }
   ],
   "source": [
    "countries[2]"
   ]
  },
  {
   "cell_type": "code",
   "execution_count": 62,
   "id": "50f77c2c",
   "metadata": {},
   "outputs": [
    {
     "data": {
      "text/plain": [
       "'France'"
      ]
     },
     "execution_count": 62,
     "metadata": {},
     "output_type": "execute_result"
    }
   ],
   "source": [
    "countries[-1]"
   ]
  },
  {
   "cell_type": "code",
   "execution_count": 63,
   "id": "13b4a10e",
   "metadata": {},
   "outputs": [
    {
     "data": {
      "text/plain": [
       "'China'"
      ]
     },
     "execution_count": 63,
     "metadata": {},
     "output_type": "execute_result"
    }
   ],
   "source": [
    "countries[-2]"
   ]
  },
  {
   "cell_type": "code",
   "execution_count": 64,
   "id": "b338fc67",
   "metadata": {},
   "outputs": [
    {
     "data": {
      "text/plain": [
       "['India', 'Russia']"
      ]
     },
     "execution_count": 64,
     "metadata": {},
     "output_type": "execute_result"
    }
   ],
   "source": [
    " # start:end(not included):step(default=1)\n",
    "countries[1:3] # 1, 2 "
   ]
  },
  {
   "cell_type": "code",
   "execution_count": 65,
   "id": "e0ca60a8",
   "metadata": {},
   "outputs": [
    {
     "data": {
      "text/plain": [
       "['India', 'Russia', 'China', 'France']"
      ]
     },
     "execution_count": 65,
     "metadata": {},
     "output_type": "execute_result"
    }
   ],
   "source": [
    " # start:end(not included):step(default=1)\n",
    "countries[1:] # 1, 2, 3, 4 "
   ]
  },
  {
   "cell_type": "code",
   "execution_count": 66,
   "id": "d0de519e",
   "metadata": {},
   "outputs": [
    {
     "data": {
      "text/plain": [
       "['USA', 'India', 'Russia']"
      ]
     },
     "execution_count": 66,
     "metadata": {},
     "output_type": "execute_result"
    }
   ],
   "source": [
    " # start:end(not included):step(default=1)\n",
    "countries[:3] # 0, 1 , 2 "
   ]
  },
  {
   "cell_type": "code",
   "execution_count": 67,
   "id": "fe9076c6",
   "metadata": {},
   "outputs": [
    {
     "data": {
      "text/plain": [
       "['India', 'China']"
      ]
     },
     "execution_count": 67,
     "metadata": {},
     "output_type": "execute_result"
    }
   ],
   "source": [
    "countries = ['USA', 'India', 'Russia', 'China', 'France']\n",
    "countries[1::2]"
   ]
  },
  {
   "cell_type": "code",
   "execution_count": 68,
   "id": "9fc8d553",
   "metadata": {},
   "outputs": [
    {
     "data": {
      "text/plain": [
       "['China', 'Russia', 'India', 'USA']"
      ]
     },
     "execution_count": 68,
     "metadata": {},
     "output_type": "execute_result"
    }
   ],
   "source": [
    "countries[-2::-1]"
   ]
  },
  {
   "cell_type": "code",
   "execution_count": 71,
   "id": "57a150b6",
   "metadata": {},
   "outputs": [
    {
     "data": {
      "text/plain": [
       "'aissuR'"
      ]
     },
     "execution_count": 71,
     "metadata": {},
     "output_type": "execute_result"
    }
   ],
   "source": [
    "x = 'Russia'\n",
    "x[::-1]"
   ]
  },
  {
   "cell_type": "code",
   "execution_count": 69,
   "id": "40c98e83",
   "metadata": {
    "scrolled": true
   },
   "outputs": [
    {
     "data": {
      "text/plain": [
       "['France', 'China', 'Russia', 'India', 'USA']"
      ]
     },
     "execution_count": 69,
     "metadata": {},
     "output_type": "execute_result"
    }
   ],
   "source": [
    "countries[::-1]"
   ]
  },
  {
   "cell_type": "code",
   "execution_count": 59,
   "id": "461fb482",
   "metadata": {},
   "outputs": [
    {
     "name": "stdout",
     "output_type": "stream",
     "text": [
      "USA 331\n",
      "India 1408\n",
      "Russia 143\n",
      "China 1412\n"
     ]
    }
   ],
   "source": [
    "c_p = (\n",
    "    ('USA', 331), \n",
    "    ('India', 1408), \n",
    "    ('Russia', 143), \n",
    "    ('China', 1412),   \n",
    ")\n",
    "\n",
    "for c, p in c_p:\n",
    "    print(c, p)"
   ]
  },
  {
   "cell_type": "code",
   "execution_count": null,
   "id": "0a67fdbc",
   "metadata": {},
   "outputs": [],
   "source": []
  },
  {
   "cell_type": "code",
   "execution_count": null,
   "id": "d2fd9f9e",
   "metadata": {},
   "outputs": [],
   "source": [
    "x = [1, 2, 3, 6]\n",
    "y = [3, 4, 5]\n",
    "\n",
    "length = len(x)\n",
    "for index in range(length):\n",
    "    print(index, x[index], y[index])"
   ]
  },
  {
   "cell_type": "code",
   "execution_count": 89,
   "id": "dc118c6d",
   "metadata": {},
   "outputs": [
    {
     "name": "stdout",
     "output_type": "stream",
     "text": [
      "|      Country       |\n",
      "        USA         \n",
      "       India        \n",
      "       Russia       \n",
      "       China        \n",
      "       France       \n"
     ]
    }
   ],
   "source": [
    "# {<variable/index>:<format-specifier>}\n",
    "# <padding_character><alignment><width>.<comma><precision><type>\n",
    "\n",
    "title = 'Country'\n",
    "countries = ['USA', 'India', 'Russia', 'China', 'France']\n",
    "width = 20\n",
    "alignment = '^'\n",
    "print(f'|{title:^{width}}|')\n",
    "for country in countries:\n",
    "    print(f'{country:{alignment}{width}}')"
   ]
  },
  {
   "cell_type": "code",
   "execution_count": 80,
   "id": "5aa8cc18",
   "metadata": {},
   "outputs": [
    {
     "name": "stdout",
     "output_type": "stream",
     "text": [
      "00000100000\n"
     ]
    }
   ],
   "source": [
    "mrn = 1\n",
    "print(f'{mrn:0^11}')"
   ]
  },
  {
   "cell_type": "code",
   "execution_count": 86,
   "id": "3992b36d",
   "metadata": {},
   "outputs": [
    {
     "name": "stdout",
     "output_type": "stream",
     "text": [
      "****90******\n"
     ]
    }
   ],
   "source": [
    "padding_char = '*'\n",
    "print(f'{90:{padding_char}>6}{padding_char*6}')"
   ]
  },
  {
   "cell_type": "code",
   "execution_count": 90,
   "id": "db0519e0",
   "metadata": {},
   "outputs": [],
   "source": [
    "# 1900-2000 -- 101\n",
    "years = range(1900, 2001)"
   ]
  },
  {
   "cell_type": "code",
   "execution_count": 91,
   "id": "4923aa9e",
   "metadata": {},
   "outputs": [
    {
     "name": "stdout",
     "output_type": "stream",
     "text": [
      "1900\n",
      "1901\n",
      "1902\n",
      "1903\n",
      "1904\n",
      "1905\n",
      "1906\n",
      "1907\n",
      "1908\n",
      "1909\n",
      "1910\n",
      "1911\n",
      "1912\n",
      "1913\n",
      "1914\n",
      "1915\n",
      "1916\n",
      "1917\n",
      "1918\n",
      "1919\n",
      "1920\n",
      "1921\n",
      "1922\n",
      "1923\n",
      "1924\n",
      "1925\n",
      "1926\n",
      "1927\n",
      "1928\n",
      "1929\n",
      "1930\n",
      "1931\n",
      "1932\n",
      "1933\n",
      "1934\n",
      "1935\n",
      "1936\n",
      "1937\n",
      "1938\n",
      "1939\n",
      "1940\n",
      "1941\n",
      "1942\n",
      "1943\n",
      "1944\n",
      "1945\n",
      "1946\n",
      "1947\n",
      "1948\n",
      "1949\n",
      "1950\n",
      "1951\n",
      "1952\n",
      "1953\n",
      "1954\n",
      "1955\n",
      "1956\n",
      "1957\n",
      "1958\n",
      "1959\n",
      "1960\n",
      "1961\n",
      "1962\n",
      "1963\n",
      "1964\n",
      "1965\n",
      "1966\n",
      "1967\n",
      "1968\n",
      "1969\n",
      "1970\n",
      "1971\n",
      "1972\n",
      "1973\n",
      "1974\n",
      "1975\n",
      "1976\n",
      "1977\n",
      "1978\n",
      "1979\n",
      "1980\n",
      "1981\n",
      "1982\n",
      "1983\n",
      "1984\n",
      "1985\n",
      "1986\n",
      "1987\n",
      "1988\n",
      "1989\n",
      "1990\n",
      "1991\n",
      "1992\n",
      "1993\n",
      "1994\n",
      "1995\n",
      "1996\n",
      "1997\n",
      "1998\n",
      "1999\n",
      "2000\n"
     ]
    }
   ],
   "source": [
    "for year in years:\n",
    "    print(year)"
   ]
  },
  {
   "cell_type": "code",
   "execution_count": 92,
   "id": "249d0998",
   "metadata": {},
   "outputs": [
    {
     "name": "stdout",
     "output_type": "stream",
     "text": [
      "[0, 1, 2, 3, 4, 5, 6, 7, 8, 9]\n"
     ]
    }
   ],
   "source": [
    "x = range(10) # 0 --> 9\n",
    "print(list(x))"
   ]
  },
  {
   "cell_type": "code",
   "execution_count": 93,
   "id": "783000c2",
   "metadata": {},
   "outputs": [
    {
     "name": "stdout",
     "output_type": "stream",
     "text": [
      "[10, 11, 12, 13, 14, 15, 16, 17, 18, 19, 20]\n"
     ]
    }
   ],
   "source": [
    "x = range(10, 21) \n",
    "print(list(x))"
   ]
  },
  {
   "cell_type": "code",
   "execution_count": 94,
   "id": "48bc07e6",
   "metadata": {},
   "outputs": [
    {
     "name": "stdout",
     "output_type": "stream",
     "text": [
      "[10, 13, 16, 19]\n"
     ]
    }
   ],
   "source": [
    "x = range(10, 21, 3) \n",
    "print(list(x))"
   ]
  },
  {
   "cell_type": "code",
   "execution_count": 95,
   "id": "0042e7d3",
   "metadata": {},
   "outputs": [
    {
     "name": "stdout",
     "output_type": "stream",
     "text": [
      "[100, 99, 98, 97, 96, 95, 94, 93, 92, 91, 90, 89, 88, 87, 86, 85, 84, 83, 82, 81, 80, 79, 78, 77, 76, 75, 74, 73, 72, 71, 70, 69, 68, 67, 66, 65, 64, 63, 62, 61, 60, 59, 58, 57, 56, 55, 54, 53, 52, 51, 50, 49, 48, 47, 46, 45, 44, 43, 42, 41, 40, 39, 38, 37, 36, 35, 34, 33, 32, 31, 30, 29, 28, 27, 26, 25, 24, 23, 22, 21]\n"
     ]
    }
   ],
   "source": [
    "x = range(100, 20, -1) \n",
    "print(list(x))"
   ]
  },
  {
   "cell_type": "code",
   "execution_count": 96,
   "id": "78539c81",
   "metadata": {},
   "outputs": [
    {
     "name": "stdout",
     "output_type": "stream",
     "text": [
      "range(100, 20, -1)\n"
     ]
    }
   ],
   "source": [
    "print(x)"
   ]
  },
  {
   "cell_type": "code",
   "execution_count": 97,
   "id": "3574a3c5",
   "metadata": {},
   "outputs": [],
   "source": [
    "y = list(x)"
   ]
  },
  {
   "cell_type": "code",
   "execution_count": 98,
   "id": "18d97fed",
   "metadata": {},
   "outputs": [
    {
     "name": "stdout",
     "output_type": "stream",
     "text": [
      "[100, 99, 98, 97, 96, 95, 94, 93, 92, 91, 90, 89, 88, 87, 86, 85, 84, 83, 82, 81, 80, 79, 78, 77, 76, 75, 74, 73, 72, 71, 70, 69, 68, 67, 66, 65, 64, 63, 62, 61, 60, 59, 58, 57, 56, 55, 54, 53, 52, 51, 50, 49, 48, 47, 46, 45, 44, 43, 42, 41, 40, 39, 38, 37, 36, 35, 34, 33, 32, 31, 30, 29, 28, 27, 26, 25, 24, 23, 22, 21]\n"
     ]
    }
   ],
   "source": [
    "print(y)"
   ]
  },
  {
   "cell_type": "code",
   "execution_count": 99,
   "id": "2c3e59fd",
   "metadata": {},
   "outputs": [
    {
     "name": "stdout",
     "output_type": "stream",
     "text": [
      "range(100, 20, -1)\n"
     ]
    }
   ],
   "source": [
    "print(x)"
   ]
  },
  {
   "cell_type": "code",
   "execution_count": 104,
   "id": "751e32cf",
   "metadata": {},
   "outputs": [],
   "source": [
    "x = [1, 3, 2, 7, 6, 3.14, True, False] # True == 1, False == 0"
   ]
  },
  {
   "cell_type": "code",
   "execution_count": 106,
   "id": "36c53dca",
   "metadata": {},
   "outputs": [],
   "source": [
    "return_value = sorted(x)"
   ]
  },
  {
   "cell_type": "code",
   "execution_count": 107,
   "id": "09915e4c",
   "metadata": {},
   "outputs": [
    {
     "data": {
      "text/plain": [
       "[False, 1, True, 2, 3, 3.14, 6, 7]"
      ]
     },
     "execution_count": 107,
     "metadata": {},
     "output_type": "execute_result"
    }
   ],
   "source": [
    "return_value"
   ]
  },
  {
   "cell_type": "code",
   "execution_count": 109,
   "id": "c7bd2cd8",
   "metadata": {},
   "outputs": [],
   "source": [
    "x.sort()"
   ]
  },
  {
   "cell_type": "code",
   "execution_count": 110,
   "id": "25650f64",
   "metadata": {},
   "outputs": [
    {
     "data": {
      "text/plain": [
       "[False, 1, True, 2, 3, 3.14, 6, 7]"
      ]
     },
     "execution_count": 110,
     "metadata": {},
     "output_type": "execute_result"
    }
   ],
   "source": [
    "x"
   ]
  },
  {
   "cell_type": "code",
   "execution_count": 114,
   "id": "672c7944",
   "metadata": {},
   "outputs": [],
   "source": [
    "x = '[EAS503]'\n",
    "\n",
    "y = x.replace('3', '4')"
   ]
  },
  {
   "cell_type": "code",
   "execution_count": 115,
   "id": "4a65358c",
   "metadata": {},
   "outputs": [
    {
     "data": {
      "text/plain": [
       "'[EAS503]'"
      ]
     },
     "execution_count": 115,
     "metadata": {},
     "output_type": "execute_result"
    }
   ],
   "source": [
    "x"
   ]
  },
  {
   "cell_type": "code",
   "execution_count": 116,
   "id": "4bec20be",
   "metadata": {},
   "outputs": [
    {
     "data": {
      "text/plain": [
       "'[EAS504]'"
      ]
     },
     "execution_count": 116,
     "metadata": {},
     "output_type": "execute_result"
    }
   ],
   "source": [
    "y"
   ]
  },
  {
   "cell_type": "code",
   "execution_count": 118,
   "id": "64961de0",
   "metadata": {},
   "outputs": [
    {
     "data": {
      "text/plain": [
       "['0', '3', '5', 'A', 'E', 'S', '[', ']']"
      ]
     },
     "execution_count": 118,
     "metadata": {},
     "output_type": "execute_result"
    }
   ],
   "source": [
    "sorted(x)"
   ]
  },
  {
   "cell_type": "code",
   "execution_count": 119,
   "id": "9662c6d8",
   "metadata": {},
   "outputs": [
    {
     "name": "stdout",
     "output_type": "stream",
     "text": [
      "[0, 1, 2, 3, 4, 5, 6, 7, 8, 9, 10, 11, 12, 13, 14, 15, 16, 17, 18, 19]\n"
     ]
    }
   ],
   "source": [
    "x = list(range(20))\n",
    "print(x)"
   ]
  },
  {
   "cell_type": "code",
   "execution_count": 120,
   "id": "cb6cb358",
   "metadata": {},
   "outputs": [],
   "source": [
    "x[1:4] = [11, 22, 33]"
   ]
  },
  {
   "cell_type": "code",
   "execution_count": 121,
   "id": "ebc40344",
   "metadata": {},
   "outputs": [
    {
     "data": {
      "text/plain": [
       "[0, 11, 22, 33, 4, 5, 6, 7, 8, 9, 10, 11, 12, 13, 14, 15, 16, 17, 18, 19]"
      ]
     },
     "execution_count": 121,
     "metadata": {},
     "output_type": "execute_result"
    }
   ],
   "source": [
    "x"
   ]
  },
  {
   "cell_type": "code",
   "execution_count": 122,
   "id": "57698cbd",
   "metadata": {},
   "outputs": [
    {
     "name": "stdout",
     "output_type": "stream",
     "text": [
      "[0, 1, 2, 3, 4, 5, 6, 7, 8, 9, 10, 11, 12, 13, 14, 15, 16, 17, 18, 19]\n"
     ]
    }
   ],
   "source": [
    "x = list(range(20))\n",
    "print(x)\n",
    "x[1:5] = [100, ] * 4 "
   ]
  },
  {
   "cell_type": "code",
   "execution_count": 123,
   "id": "3f267a99",
   "metadata": {},
   "outputs": [
    {
     "name": "stdout",
     "output_type": "stream",
     "text": [
      "[0, 100, 100, 100, 100, 5, 6, 7, 8, 9, 10, 11, 12, 13, 14, 15, 16, 17, 18, 19]\n"
     ]
    }
   ],
   "source": [
    "print(x)"
   ]
  },
  {
   "cell_type": "code",
   "execution_count": 124,
   "id": "ba189f62",
   "metadata": {},
   "outputs": [
    {
     "data": {
      "text/plain": [
       "[100, 100, 100, 100]"
      ]
     },
     "execution_count": 124,
     "metadata": {},
     "output_type": "execute_result"
    }
   ],
   "source": [
    "[100, ] * 4 "
   ]
  },
  {
   "cell_type": "code",
   "execution_count": 125,
   "id": "c1c1a59f",
   "metadata": {},
   "outputs": [
    {
     "data": {
      "text/plain": [
       "'[EAS604]'"
      ]
     },
     "execution_count": 125,
     "metadata": {},
     "output_type": "execute_result"
    }
   ],
   "source": [
    "x = '[EAS503]'\n",
    "x.replace('5', '6').replace('3', '4')"
   ]
  },
  {
   "cell_type": "code",
   "execution_count": 128,
   "id": "7610ad49",
   "metadata": {},
   "outputs": [
    {
     "data": {
      "text/plain": [
       "[100,\n",
       " 101,\n",
       " 102,\n",
       " 103,\n",
       " 104,\n",
       " 105,\n",
       " 106,\n",
       " 107,\n",
       " 108,\n",
       " 109,\n",
       " 110,\n",
       " 111,\n",
       " 112,\n",
       " 113,\n",
       " 114,\n",
       " 115,\n",
       " 116,\n",
       " 117,\n",
       " 118,\n",
       " 119,\n",
       " 120]"
      ]
     },
     "execution_count": 128,
     "metadata": {},
     "output_type": "execute_result"
    }
   ],
   "source": [
    "x = list(range(100, 121))\n",
    "x"
   ]
  },
  {
   "cell_type": "code",
   "execution_count": 129,
   "id": "bfeafb42",
   "metadata": {},
   "outputs": [
    {
     "name": "stdout",
     "output_type": "stream",
     "text": [
      "21\n",
      "[0, 1, 2, 3, 4, 5, 6, 7, 8, 9, 10, 11, 12, 13, 14, 15, 16, 17, 18, 19, 20]\n"
     ]
    }
   ],
   "source": [
    "length = len(x)\n",
    "indices = list(range(length))\n",
    "print(length)\n",
    "print(indices)"
   ]
  },
  {
   "cell_type": "code",
   "execution_count": 132,
   "id": "e3262a61",
   "metadata": {},
   "outputs": [
    {
     "name": "stdout",
     "output_type": "stream",
     "text": [
      "At index: 0 we have the value 100\n",
      "At index: 1 we have the value 101\n",
      "At index: 2 we have the value 102\n",
      "At index: 3 we have the value 103\n",
      "At index: 4 we have the value 104\n",
      "At index: 5 we have the value 105\n",
      "At index: 6 we have the value 106\n",
      "At index: 7 we have the value 107\n",
      "At index: 8 we have the value 108\n",
      "At index: 9 we have the value 109\n",
      "At index: 10 we have the value 110\n",
      "At index: 11 we have the value 111\n",
      "At index: 12 we have the value 112\n",
      "At index: 13 we have the value 113\n",
      "At index: 14 we have the value 114\n",
      "At index: 15 we have the value 115\n",
      "At index: 16 we have the value 116\n",
      "At index: 17 we have the value 117\n",
      "At index: 18 we have the value 118\n",
      "At index: 19 we have the value 119\n",
      "At index: 20 we have the value 120\n"
     ]
    }
   ],
   "source": [
    "for index in indices:\n",
    "    print(f'At index: {index} we have the value {x[index]}')"
   ]
  },
  {
   "cell_type": "code",
   "execution_count": 133,
   "id": "c0476731",
   "metadata": {},
   "outputs": [
    {
     "name": "stdout",
     "output_type": "stream",
     "text": [
      "0 100\n",
      "1 101\n",
      "2 102\n",
      "3 103\n",
      "4 104\n",
      "5 105\n",
      "6 106\n",
      "7 107\n",
      "8 108\n",
      "9 109\n",
      "10 110\n",
      "11 111\n",
      "12 112\n",
      "13 113\n",
      "14 114\n",
      "15 115\n",
      "16 116\n",
      "17 117\n",
      "18 118\n",
      "19 119\n",
      "20 120\n"
     ]
    }
   ],
   "source": [
    "for index, value in enumerate(x):\n",
    "    print(index, value)"
   ]
  },
  {
   "cell_type": "code",
   "execution_count": 135,
   "id": "88df8811",
   "metadata": {},
   "outputs": [
    {
     "name": "stdout",
     "output_type": "stream",
     "text": [
      "1 100\n",
      "2 101\n",
      "3 102\n",
      "4 103\n",
      "5 104\n",
      "6 105\n",
      "7 106\n",
      "8 107\n",
      "9 108\n",
      "10 109\n",
      "11 110\n",
      "12 111\n",
      "13 112\n",
      "14 113\n",
      "15 114\n",
      "16 115\n",
      "17 116\n",
      "18 117\n",
      "19 118\n",
      "20 119\n",
      "21 120\n"
     ]
    }
   ],
   "source": [
    "e = enumerate(x, 1)\n",
    "for index, value in e:\n",
    "    print(index, value)"
   ]
  },
  {
   "cell_type": "code",
   "execution_count": 137,
   "id": "4134c595",
   "metadata": {},
   "outputs": [],
   "source": [
    "for index, value in e:\n",
    "    print(index, value)"
   ]
  },
  {
   "cell_type": "code",
   "execution_count": 139,
   "id": "b0c83fbc",
   "metadata": {},
   "outputs": [],
   "source": [
    "for ele in ():\n",
    "    print(ele)"
   ]
  },
  {
   "cell_type": "code",
   "execution_count": 140,
   "id": "c53ba4b9",
   "metadata": {},
   "outputs": [],
   "source": [
    "x = list(range(20))\n",
    "y = x.sort() # reutrn value is None!!!!!"
   ]
  },
  {
   "cell_type": "code",
   "execution_count": 142,
   "id": "67a19aa6",
   "metadata": {},
   "outputs": [
    {
     "ename": "TypeError",
     "evalue": "'NoneType' object is not iterable",
     "output_type": "error",
     "traceback": [
      "\u001b[1;31m---------------------------------------------------------------------------\u001b[0m",
      "\u001b[1;31mTypeError\u001b[0m                                 Traceback (most recent call last)",
      "\u001b[1;32m~\\AppData\\Local\\Temp\\ipykernel_21196\\583972979.py\u001b[0m in \u001b[0;36m<module>\u001b[1;34m\u001b[0m\n\u001b[0;32m      2\u001b[0m \u001b[0mx\u001b[0m\u001b[1;33m.\u001b[0m\u001b[0mreplace\u001b[0m\u001b[1;33m(\u001b[0m\u001b[1;34m'A'\u001b[0m\u001b[1;33m,\u001b[0m \u001b[1;34m'D'\u001b[0m\u001b[1;33m)\u001b[0m\u001b[1;33m\u001b[0m\u001b[1;33m\u001b[0m\u001b[0m\n\u001b[0;32m      3\u001b[0m \u001b[0mx\u001b[0m \u001b[1;33m=\u001b[0m \u001b[0mlist\u001b[0m\u001b[1;33m(\u001b[0m\u001b[0mrange\u001b[0m\u001b[1;33m(\u001b[0m\u001b[1;36m20\u001b[0m\u001b[1;33m)\u001b[0m\u001b[1;33m)\u001b[0m\u001b[1;33m\u001b[0m\u001b[1;33m\u001b[0m\u001b[0m\n\u001b[1;32m----> 4\u001b[1;33m \u001b[1;32mfor\u001b[0m \u001b[0mele\u001b[0m \u001b[1;32min\u001b[0m \u001b[0mx\u001b[0m\u001b[1;33m.\u001b[0m\u001b[0msort\u001b[0m\u001b[1;33m(\u001b[0m\u001b[1;33m)\u001b[0m\u001b[1;33m:\u001b[0m\u001b[1;33m\u001b[0m\u001b[1;33m\u001b[0m\u001b[0m\n\u001b[0m\u001b[0;32m      5\u001b[0m     \u001b[0mprint\u001b[0m\u001b[1;33m(\u001b[0m\u001b[0mele\u001b[0m\u001b[1;33m)\u001b[0m\u001b[1;33m\u001b[0m\u001b[1;33m\u001b[0m\u001b[0m\n",
      "\u001b[1;31mTypeError\u001b[0m: 'NoneType' object is not iterable"
     ]
    }
   ],
   "source": [
    "x = 'ABC'\n",
    "x.replace('A', 'D')\n",
    "x = list(range(20))\n",
    "for ele in x.sort():\n",
    "    print(ele)"
   ]
  },
  {
   "cell_type": "code",
   "execution_count": 143,
   "id": "c2f5bb3f",
   "metadata": {},
   "outputs": [
    {
     "data": {
      "text/plain": [
       "['USA', 'India', 'Russia', 'China', 'France']"
      ]
     },
     "execution_count": 143,
     "metadata": {},
     "output_type": "execute_result"
    }
   ],
   "source": [
    "countries\n",
    "    "
   ]
  },
  {
   "cell_type": "code",
   "execution_count": 144,
   "id": "74ad07fc",
   "metadata": {},
   "outputs": [
    {
     "name": "stdout",
     "output_type": "stream",
     "text": [
      "USA\n",
      "India\n",
      "Russia\n",
      "China\n",
      "France\n"
     ]
    }
   ],
   "source": [
    "for c in countries:\n",
    "    print(c)"
   ]
  },
  {
   "cell_type": "code",
   "execution_count": 146,
   "id": "a64ce356",
   "metadata": {},
   "outputs": [
    {
     "name": "stdout",
     "output_type": "stream",
     "text": [
      "USA\n",
      "India\n",
      "Russia\n",
      "China\n",
      "France\n"
     ]
    }
   ],
   "source": [
    "for p in countries:\n",
    "    print(p)"
   ]
  },
  {
   "cell_type": "code",
   "execution_count": 147,
   "id": "7b93c157",
   "metadata": {},
   "outputs": [
    {
     "ename": "SyntaxError",
     "evalue": "invalid syntax (278277731.py, line 1)",
     "output_type": "error",
     "traceback": [
      "\u001b[1;36m  File \u001b[1;32m\"C:\\Users\\mkhaw\\AppData\\Local\\Temp\\ipykernel_21196\\278277731.py\"\u001b[1;36m, line \u001b[1;32m1\u001b[0m\n\u001b[1;33m    for ele in sequence\u001b[0m\n\u001b[1;37m                       ^\u001b[0m\n\u001b[1;31mSyntaxError\u001b[0m\u001b[1;31m:\u001b[0m invalid syntax\n"
     ]
    }
   ],
   "source": [
    "for ele in sequence:\n",
    "    print(ele)"
   ]
  },
  {
   "cell_type": "code",
   "execution_count": 151,
   "id": "c5e9cc82",
   "metadata": {},
   "outputs": [],
   "source": [
    "def mul(x: int, y: int) -> int:\n",
    "    return x * y"
   ]
  },
  {
   "cell_type": "code",
   "execution_count": 152,
   "id": "dce20ef8",
   "metadata": {},
   "outputs": [
    {
     "data": {
      "text/plain": [
       "120"
      ]
     },
     "execution_count": 152,
     "metadata": {},
     "output_type": "execute_result"
    }
   ],
   "source": [
    "mul(10, 12)"
   ]
  },
  {
   "cell_type": "code",
   "execution_count": 153,
   "id": "f875c004",
   "metadata": {},
   "outputs": [
    {
     "data": {
      "text/plain": [
       "'************'"
      ]
     },
     "execution_count": 153,
     "metadata": {},
     "output_type": "execute_result"
    }
   ],
   "source": [
    "mul('*', 12)"
   ]
  },
  {
   "cell_type": "code",
   "execution_count": 154,
   "id": "3a37639e",
   "metadata": {},
   "outputs": [
    {
     "data": {
      "text/plain": [
       "'************'"
      ]
     },
     "execution_count": 154,
     "metadata": {},
     "output_type": "execute_result"
    }
   ],
   "source": [
    "12 * '*'"
   ]
  },
  {
   "cell_type": "code",
   "execution_count": null,
   "id": "6a413d4b",
   "metadata": {},
   "outputs": [],
   "source": [
    "'*' * 12"
   ]
  },
  {
   "cell_type": "code",
   "execution_count": 155,
   "id": "0cff2226",
   "metadata": {},
   "outputs": [
    {
     "data": {
      "text/plain": [
       "'************'"
      ]
     },
     "execution_count": 155,
     "metadata": {},
     "output_type": "execute_result"
    }
   ],
   "source": [
    "mul(12, '*')"
   ]
  },
  {
   "cell_type": "code",
   "execution_count": 158,
   "id": "c69b52fb",
   "metadata": {},
   "outputs": [
    {
     "name": "stdout",
     "output_type": "stream",
     "text": [
      "['Jan', 'Feb', 'Mar', 'Apr', 'May', 'Jun', 'Jul', 'Aug', 'Sep', 'Oct', 'Nov', 'Dec']\n"
     ]
    }
   ],
   "source": [
    "months = ['Jan', 'Feb', 'Mar', 'Apr', 'May', 'Jun', 'Jul', 'Aug', 'Sep', 'Oct', 'Nov', 'Dec']\n",
    "print(months)"
   ]
  },
  {
   "cell_type": "code",
   "execution_count": 159,
   "id": "46e8aa37",
   "metadata": {},
   "outputs": [
    {
     "name": "stdout",
     "output_type": "stream",
     "text": [
      "Jan\n",
      "Feb\n",
      "Mar\n",
      "Apr\n",
      "May\n",
      "Jun\n",
      "Jul\n",
      "Aug\n",
      "Sep\n",
      "Oct\n",
      "Nov\n",
      "Dec\n"
     ]
    }
   ],
   "source": [
    "for month in months:\n",
    "    print(month)"
   ]
  },
  {
   "cell_type": "code",
   "execution_count": 160,
   "id": "7d3f679e",
   "metadata": {},
   "outputs": [
    {
     "name": "stdout",
     "output_type": "stream",
     "text": [
      "1 Jan\n",
      "2 Feb\n",
      "3 Mar\n",
      "4 Apr\n",
      "5 May\n",
      "6 Jun\n",
      "7 Jul\n",
      "8 Aug\n",
      "9 Sep\n",
      "10 Oct\n",
      "11 Nov\n",
      "12 Dec\n"
     ]
    }
   ],
   "source": [
    "count = 1\n",
    "for month in months:\n",
    "    print(count, month)\n",
    "    count += 1"
   ]
  },
  {
   "cell_type": "code",
   "execution_count": 161,
   "id": "7a4e95ee",
   "metadata": {},
   "outputs": [
    {
     "name": "stdout",
     "output_type": "stream",
     "text": [
      "0 Jan\n",
      "1 Feb\n",
      "2 Mar\n",
      "3 Apr\n",
      "4 May\n",
      "5 Jun\n",
      "6 Jul\n",
      "7 Aug\n",
      "8 Sep\n",
      "9 Oct\n",
      "10 Nov\n",
      "11 Dec\n"
     ]
    }
   ],
   "source": [
    "for index, month in enumerate(months):\n",
    "    print(index, month)\n"
   ]
  },
  {
   "cell_type": "code",
   "execution_count": 175,
   "id": "40245c93",
   "metadata": {},
   "outputs": [
    {
     "name": "stdout",
     "output_type": "stream",
     "text": [
      "1000 Jan\n",
      "1001 Feb\n",
      "1002 Mar\n",
      "1003 Apr\n",
      "1004 May\n",
      "1005 Jun\n",
      "1006 Jul\n",
      "1007 Aug\n",
      "1008 Sep\n",
      "1009 Oct\n",
      "1010 Nov\n",
      "1011 Dec\n"
     ]
    }
   ],
   "source": [
    "for index, month in enumerate(months, 1000):\n",
    "#     print(index, month)\n",
    "    if index in (3, 4, 5):\n",
    "        print(index, month, 'Spring')\n",
    "    else:\n",
    "        print(index, month)"
   ]
  },
  {
   "cell_type": "code",
   "execution_count": 179,
   "id": "b47a3387",
   "metadata": {},
   "outputs": [],
   "source": [
    "x = [1, 2, 3, 4, 5, 7, 8, 9, 0, ]\n"
   ]
  },
  {
   "cell_type": "code",
   "execution_count": 180,
   "id": "4a4e7e9b",
   "metadata": {},
   "outputs": [],
   "source": [
    "a, b, *c = x"
   ]
  },
  {
   "cell_type": "code",
   "execution_count": 181,
   "id": "7009e99d",
   "metadata": {},
   "outputs": [
    {
     "name": "stdout",
     "output_type": "stream",
     "text": [
      "1 2 [3, 4, 5, 7, 8, 9, 0]\n"
     ]
    }
   ],
   "source": [
    "print(a, b, c)"
   ]
  },
  {
   "cell_type": "code",
   "execution_count": 183,
   "id": "3f9c31b0",
   "metadata": {},
   "outputs": [],
   "source": [
    "x = 'John Doe,97,93,94'\n"
   ]
  },
  {
   "cell_type": "code",
   "execution_count": 184,
   "id": "d7043046",
   "metadata": {},
   "outputs": [
    {
     "data": {
      "text/plain": [
       "['John Doe', '97', '93', '94']"
      ]
     },
     "execution_count": 184,
     "metadata": {},
     "output_type": "execute_result"
    }
   ],
   "source": [
    "x.split(',')"
   ]
  },
  {
   "cell_type": "code",
   "execution_count": 185,
   "id": "eaa29ab2",
   "metadata": {},
   "outputs": [],
   "source": [
    "name, *grades = x.split(',')"
   ]
  },
  {
   "cell_type": "code",
   "execution_count": 186,
   "id": "39a6c858",
   "metadata": {},
   "outputs": [
    {
     "name": "stdout",
     "output_type": "stream",
     "text": [
      "John Doe ['97', '93', '94']\n"
     ]
    }
   ],
   "source": [
    "print(name, grades)"
   ]
  },
  {
   "cell_type": "code",
   "execution_count": 187,
   "id": "78696a1c",
   "metadata": {},
   "outputs": [],
   "source": [
    "def my_func(a, b, c):\n",
    "    pass\n"
   ]
  },
  {
   "cell_type": "code",
   "execution_count": 188,
   "id": "40180186",
   "metadata": {},
   "outputs": [
    {
     "name": "stdout",
     "output_type": "stream",
     "text": [
      "0\n",
      "1\n",
      "2\n",
      "3\n",
      "4\n"
     ]
    }
   ],
   "source": [
    "for i in range(5):\n",
    "    \n",
    "    if i == 1:\n",
    "        pass # placeholder for instructions or statemets \n",
    "    print(i)"
   ]
  },
  {
   "cell_type": "code",
   "execution_count": 189,
   "id": "af562717",
   "metadata": {},
   "outputs": [
    {
     "name": "stdout",
     "output_type": "stream",
     "text": [
      "0\n",
      "2\n",
      "3\n",
      "4\n"
     ]
    }
   ],
   "source": [
    "for i in range(5):\n",
    "    \n",
    "    if i == 1:\n",
    "        continue \n",
    "    print(i)"
   ]
  },
  {
   "cell_type": "code",
   "execution_count": 190,
   "id": "a28808c0",
   "metadata": {},
   "outputs": [
    {
     "name": "stdout",
     "output_type": "stream",
     "text": [
      "0\n"
     ]
    }
   ],
   "source": [
    "for i in range(5):\n",
    "    \n",
    "    if i == 1:\n",
    "        break \n",
    "    print(i)"
   ]
  },
  {
   "cell_type": "code",
   "execution_count": 198,
   "id": "afd79f75",
   "metadata": {},
   "outputs": [
    {
     "name": "stdout",
     "output_type": "stream",
     "text": [
      "17\n"
     ]
    }
   ],
   "source": [
    "countries = ['Countries', 'USA', 'India', 'France', 'China', 'ABCDEFGHIHJKLMNOP']\n",
    "max_width = 0\n",
    "for country in countries:\n",
    "    current_width = len(country)\n",
    "    if current_width > max_width:\n",
    "        max_width = current_width \n",
    "             \n",
    "print(max_width)\n"
   ]
  },
  {
   "cell_type": "code",
   "execution_count": 199,
   "id": "149a081f",
   "metadata": {},
   "outputs": [
    {
     "name": "stdout",
     "output_type": "stream",
     "text": [
      "|     Countries     |\n",
      "|        USA        |\n",
      "|       India       |\n",
      "|      France       |\n",
      "|       China       |\n",
      "| ABCDEFGHIHJKLMNOP |\n"
     ]
    }
   ],
   "source": [
    "for country in countries:\n",
    "    print(f'|{country:^{max_width+2}}|')"
   ]
  },
  {
   "cell_type": "code",
   "execution_count": 202,
   "id": "0301bba9",
   "metadata": {},
   "outputs": [
    {
     "name": "stdout",
     "output_type": "stream",
     "text": [
      "['Name', 'Nationality', 'National_Position', 'National_Kit', 'Club', 'Club_Position', 'Club_Kit', 'Club_Joining', 'Contract_Expiry', 'Rating', 'Height', 'Weight', 'Preferred_Foot', 'Birth_Date', 'Age', 'Preferred_Position', 'Work_Rate', 'Weak_foot', 'Skill_Moves', 'Ball_Control', 'Dribbling', 'Marking', 'Sliding_Tackle', 'Standing_Tackle', 'Aggression', 'Reactions', 'Attacking_Position', 'Interceptions', 'Vision', 'Composure', 'Crossing', 'Short_Pass', 'Long_Pass', 'Acceleration', 'Speed', 'Stamina', 'Strength', 'Balance', 'Agility', 'Jumping', 'Heading', 'Shot_Power', 'Finishing', 'Long_Shots', 'Curve', 'Freekick_Accuracy', 'Penalties', 'Volleys', 'GK_Positioning', 'GK_Diving', 'GK_Kicking', 'GK_Handling', 'GK_Reflexes']\n"
     ]
    }
   ],
   "source": [
    "filename = 'soccer_players_statistics.csv'\n",
    "header = None\n",
    "unique_values = []\n",
    "with open(filename) as file:\n",
    "    for line in file:\n",
    "        if not line.strip():\n",
    "            continue\n",
    "            \n",
    "        if not header:\n",
    "            header = line.strip().split(',')\n",
    "            continue\n",
    "            \n",
    "        cols = line.strip().split(',')\n",
    "        \n",
    "            \n",
    "            "
   ]
  },
  {
   "cell_type": "code",
   "execution_count": 214,
   "id": "8ad7ff0c",
   "metadata": {},
   "outputs": [
    {
     "name": "stdout",
     "output_type": "stream",
     "text": [
      "['Afghanistan', 'Albania', 'Algeria', 'Angola', 'Antigua & Barbuda', 'Argentina', 'Armenia', 'Aruba', 'Australia', 'Austria', 'Azerbaijan', 'Barbados', 'Belarus', 'Belgium', 'Belize', 'Benin', 'Bermuda', 'Bolivia', 'Bosnia Herzegovina', 'Brazil', 'Bulgaria', 'Burkina Faso', 'Cameroon', 'Canada', 'Cape Verde', 'Central African Rep.', 'Chad', 'Chile', 'China PR', 'Chinese Taipei', 'Colombia', 'Comoros', 'Congo', 'Costa Rica', 'Croatia', 'Cuba', 'Curacao', 'Cyprus', 'Czech Republic', 'DR Congo', 'Denmark', 'Dominican Republic', 'Ecuador', 'Egypt', 'El Salvador', 'England', 'Equatorial Guinea', 'Eritrea', 'Estonia', 'FIFA16_NationName_215', 'FYR Macedonia', 'Faroe Islands', 'Fiji', 'Finland', 'France', 'Gabon', 'Gambia', 'Georgia', 'Germany', 'Ghana', 'Gibraltar', 'Greece', 'Grenada', 'Guam', 'Guatemala', 'Guinea', 'Guinea Bissau', 'Guyana', 'Haiti', 'Honduras', 'Hungary', 'Iceland', 'India', 'Iran', 'Iraq', 'Israel', 'Italy', 'Ivory Coast', 'Jamaica', 'Japan', 'Kazakhstan', 'Kenya', 'Korea DPR', 'Korea Republic', 'Kosovo', 'Kuwait', 'Latvia', 'Lebanon', 'Lesotho', 'Liberia', 'Libya', 'Liechtenstein', 'Lithuania', 'Luxembourg', 'Madagascar', 'Mali', 'Malta', 'Mauritania', 'Mauritius', 'Mexico', 'Moldova', 'Montenegro', 'Montserrat', 'Morocco', 'Mozambique', 'Namibia', 'Netherlands', 'New Zealand', 'Niger', 'Nigeria', 'Northern Ireland', 'Norway', 'Oman', 'Pakistan', 'Palestine', 'Panama', 'Papua New Guinea', 'Paraguay', 'Peru', 'Philippines', 'Poland', 'Portugal', 'Puerto Rico', 'Qatar', 'Republic of Ireland', 'Romania', 'Russia', 'San Marino', 'Saudi Arabia', 'Scotland', 'Senegal', 'Serbia', 'Sierra Leone', 'Slovakia', 'Slovenia', 'Somalia', 'South Africa', 'Spain', 'St Kitts Nevis', 'St Lucia', 'Suriname', 'Sweden', 'Switzerland', 'Syria', 'São Tomé & Príncipe', 'Tanzania', 'Timor-Leste', 'Togo', 'Trinidad & Tobago', 'Tunisia', 'Turkey', 'Uganda', 'Ukraine', 'United States', 'Uruguay', 'Uzbekistan', 'Venezuela', 'Wales', 'Zambia', 'Zimbabwe']\n"
     ]
    }
   ],
   "source": [
    "def get_unique_nationalities():\n",
    "\n",
    "    filename = 'soccer_players_statistics.csv'\n",
    "    header = None\n",
    "    unique_nationalities = []\n",
    "    with open(filename, encoding=\"utf-8\") as file:\n",
    "        for line in file:\n",
    "            line = line.strip()\n",
    "            if not line:\n",
    "                continue\n",
    "\n",
    "            if not header:\n",
    "                header = line.split(',')\n",
    "                continue\n",
    "\n",
    "            cols = line.split(',')\n",
    "            nationality = cols[1]\n",
    "            if nationality not in unique_nationalities:\n",
    "                unique_nationalities.append(nationality)\n",
    "                \n",
    "    unique_nationalities.sort()\n",
    "    return unique_nationalities\n",
    "\n",
    "\n",
    "\n",
    "print(get_unique_nationalities())\n",
    "\n",
    "with open('nationalities.tsv', 'w', encoding=\"utf-8\") as file:\n",
    "    file.write(f'Nationality\\tCharCount\\n')\n",
    "    for nationality in get_unique_nationalities():\n",
    "        line = f'{nationality}\\t{len(nationality)}\\n'\n",
    "        file.write(line)\n"
   ]
  },
  {
   "cell_type": "code",
   "execution_count": 227,
   "id": "088741e6",
   "metadata": {},
   "outputs": [
    {
     "name": "stdout",
     "output_type": "stream",
     "text": [
      "1\n"
     ]
    },
    {
     "data": {
      "text/plain": [
       "['Afghanistan',\n",
       " 'Albania',\n",
       " 'Algeria',\n",
       " 'Angola',\n",
       " 'Antigua & Barbuda',\n",
       " 'Argentina',\n",
       " 'Armenia',\n",
       " 'Aruba',\n",
       " 'Australia',\n",
       " 'Austria',\n",
       " 'Azerbaijan',\n",
       " 'Barbados',\n",
       " 'Belarus',\n",
       " 'Belgium',\n",
       " 'Belize',\n",
       " 'Benin',\n",
       " 'Bermuda',\n",
       " 'Bolivia',\n",
       " 'Bosnia Herzegovina',\n",
       " 'Brazil',\n",
       " 'Bulgaria',\n",
       " 'Burkina Faso',\n",
       " 'Cameroon',\n",
       " 'Canada',\n",
       " 'Cape Verde',\n",
       " 'Central African Rep.',\n",
       " 'Chad',\n",
       " 'Chile',\n",
       " 'China PR',\n",
       " 'Chinese Taipei',\n",
       " 'Colombia',\n",
       " 'Comoros',\n",
       " 'Congo',\n",
       " 'Costa Rica',\n",
       " 'Croatia',\n",
       " 'Cuba',\n",
       " 'Curacao',\n",
       " 'Cyprus',\n",
       " 'Czech Republic',\n",
       " 'DR Congo',\n",
       " 'Denmark',\n",
       " 'Dominican Republic',\n",
       " 'Ecuador',\n",
       " 'Egypt',\n",
       " 'El Salvador',\n",
       " 'England',\n",
       " 'Equatorial Guinea',\n",
       " 'Eritrea',\n",
       " 'Estonia',\n",
       " 'FIFA16_NationName_215',\n",
       " 'FYR Macedonia',\n",
       " 'Faroe Islands',\n",
       " 'Fiji',\n",
       " 'Finland',\n",
       " 'France',\n",
       " 'Gabon',\n",
       " 'Gambia',\n",
       " 'Georgia',\n",
       " 'Germany',\n",
       " 'Ghana',\n",
       " 'Gibraltar',\n",
       " 'Greece',\n",
       " 'Grenada',\n",
       " 'Guam',\n",
       " 'Guatemala',\n",
       " 'Guinea',\n",
       " 'Guinea Bissau',\n",
       " 'Guyana',\n",
       " 'Haiti',\n",
       " 'Honduras',\n",
       " 'Hungary',\n",
       " 'Iceland',\n",
       " 'India',\n",
       " 'Iran',\n",
       " 'Iraq',\n",
       " 'Israel',\n",
       " 'Italy',\n",
       " 'Ivory Coast',\n",
       " 'Jamaica',\n",
       " 'Japan',\n",
       " 'Kazakhstan',\n",
       " 'Kenya',\n",
       " 'Korea DPR',\n",
       " 'Korea Republic',\n",
       " 'Kosovo',\n",
       " 'Kuwait',\n",
       " 'Latvia',\n",
       " 'Lebanon',\n",
       " 'Lesotho',\n",
       " 'Liberia',\n",
       " 'Libya',\n",
       " 'Liechtenstein',\n",
       " 'Lithuania',\n",
       " 'Luxembourg',\n",
       " 'Madagascar',\n",
       " 'Mali',\n",
       " 'Malta',\n",
       " 'Mauritania',\n",
       " 'Mauritius',\n",
       " 'Mexico',\n",
       " 'Moldova',\n",
       " 'Montenegro',\n",
       " 'Montserrat',\n",
       " 'Morocco',\n",
       " 'Mozambique',\n",
       " 'Namibia',\n",
       " 'Netherlands',\n",
       " 'New Zealand',\n",
       " 'Niger',\n",
       " 'Nigeria',\n",
       " 'Northern Ireland',\n",
       " 'Norway',\n",
       " 'Oman',\n",
       " 'Pakistan',\n",
       " 'Palestine',\n",
       " 'Panama',\n",
       " 'Papua New Guinea',\n",
       " 'Paraguay',\n",
       " 'Peru',\n",
       " 'Philippines',\n",
       " 'Poland',\n",
       " 'Portugal',\n",
       " 'Puerto Rico',\n",
       " 'Qatar',\n",
       " 'Republic of Ireland',\n",
       " 'Romania',\n",
       " 'Russia',\n",
       " 'San Marino',\n",
       " 'Saudi Arabia',\n",
       " 'Scotland',\n",
       " 'Senegal',\n",
       " 'Serbia',\n",
       " 'Sierra Leone',\n",
       " 'Slovakia',\n",
       " 'Slovenia',\n",
       " 'Somalia',\n",
       " 'South Africa',\n",
       " 'Spain',\n",
       " 'St Kitts Nevis',\n",
       " 'St Lucia',\n",
       " 'Suriname',\n",
       " 'Sweden',\n",
       " 'Switzerland',\n",
       " 'Syria',\n",
       " 'São Tomé & Príncipe',\n",
       " 'Tanzania',\n",
       " 'Timor-Leste',\n",
       " 'Togo',\n",
       " 'Trinidad & Tobago',\n",
       " 'Tunisia',\n",
       " 'Turkey',\n",
       " 'Uganda',\n",
       " 'Ukraine',\n",
       " 'United States',\n",
       " 'Uruguay',\n",
       " 'Uzbekistan',\n",
       " 'Venezuela',\n",
       " 'Wales',\n",
       " 'Zambia',\n",
       " 'Zimbabwe']"
      ]
     },
     "execution_count": 227,
     "metadata": {},
     "output_type": "execute_result"
    }
   ],
   "source": [
    "def get_unique_values_by_column_name(column_name):\n",
    "    filename = 'soccer_players_statistics.csv'\n",
    "    header = None\n",
    "    col_found = None\n",
    "    unique_values = []\n",
    "    with open(filename, encoding=\"utf-8\") as file:\n",
    "        for line in file:\n",
    "            line = line.strip()\n",
    "            if not line:\n",
    "                continue\n",
    "\n",
    "            if not header:\n",
    "                header = line.split(',')\n",
    "                continue\n",
    "\n",
    "            if not col_found:\n",
    "                try:\n",
    "                    col_number = header.index(column_name)\n",
    "                    col_found = True\n",
    "                    print(col_number)\n",
    "                except:\n",
    "                    print(f'Column {column_name} does not exist in the file')\n",
    "                    return False\n",
    "                \n",
    "            cols = line.split(',')\n",
    "            value = cols[col_number]\n",
    "            if value not in unique_values:\n",
    "                unique_values.append(value)\n",
    "                \n",
    "    unique_values.sort()\n",
    "    return unique_values\n",
    "get_unique_values_by_column_name('Nationality')"
   ]
  },
  {
   "cell_type": "code",
   "execution_count": 220,
   "id": "dd0f7138",
   "metadata": {},
   "outputs": [
    {
     "ename": "ValueError",
     "evalue": "4 is not in list",
     "output_type": "error",
     "traceback": [
      "\u001b[1;31m---------------------------------------------------------------------------\u001b[0m",
      "\u001b[1;31mValueError\u001b[0m                                Traceback (most recent call last)",
      "\u001b[1;32m~\\AppData\\Local\\Temp\\ipykernel_21196\\331865208.py\u001b[0m in \u001b[0;36m<module>\u001b[1;34m\u001b[0m\n\u001b[0;32m      1\u001b[0m \u001b[0mx\u001b[0m \u001b[1;33m=\u001b[0m \u001b[1;33m[\u001b[0m\u001b[1;36m1\u001b[0m\u001b[1;33m,\u001b[0m \u001b[1;36m2\u001b[0m\u001b[1;33m,\u001b[0m \u001b[1;36m3\u001b[0m\u001b[1;33m]\u001b[0m\u001b[1;33m\u001b[0m\u001b[1;33m\u001b[0m\u001b[0m\n\u001b[1;32m----> 2\u001b[1;33m \u001b[0mx\u001b[0m\u001b[1;33m.\u001b[0m\u001b[0mindex\u001b[0m\u001b[1;33m(\u001b[0m\u001b[1;36m4\u001b[0m\u001b[1;33m)\u001b[0m\u001b[1;33m\u001b[0m\u001b[1;33m\u001b[0m\u001b[0m\n\u001b[0m",
      "\u001b[1;31mValueError\u001b[0m: 4 is not in list"
     ]
    }
   ],
   "source": [
    "x = [1, 2, 3]\n",
    "x.index(4)"
   ]
  },
  {
   "cell_type": "code",
   "execution_count": 232,
   "id": "e9780733",
   "metadata": {},
   "outputs": [
    {
     "data": {
      "text/plain": [
       "28"
      ]
     },
     "execution_count": 232,
     "metadata": {},
     "output_type": "execute_result"
    }
   ],
   "source": [
    "def get_unique_values_by_column_name(column_name):\n",
    "    filename = 'soccer_players_statistics.csv'\n",
    "    header = None\n",
    "    unique_values = []\n",
    "    with open(filename, encoding=\"utf-8\") as file:\n",
    "        for line in file:\n",
    "            line = line.strip()\n",
    "            if not line:\n",
    "                continue\n",
    "\n",
    "            if not header:\n",
    "                header = line.split(',')\n",
    "                try:\n",
    "                    col_number = header.index(column_name)\n",
    "                except:\n",
    "                    print(f'Column {column_name} does not exist in the file')\n",
    "                    return False\n",
    "                \n",
    "                continue         \n",
    "                \n",
    "            cols = line.split(',')\n",
    "            value = cols[col_number]\n",
    "            if value not in unique_values:\n",
    "                unique_values.append(value)\n",
    "                \n",
    "    unique_values.sort()\n",
    "    return unique_values\n",
    "len(get_unique_values_by_column_name('National_Position'))"
   ]
  },
  {
   "cell_type": "code",
   "execution_count": 242,
   "id": "9890e5f7",
   "metadata": {},
   "outputs": [
    {
     "name": "stdout",
     "output_type": "stream",
     "text": [
      "You selected a non number column\n"
     ]
    }
   ],
   "source": [
    "def stats(column_name):\n",
    "    allowed_column_names = (\n",
    "        'Rating',\n",
    "        'Penalties',\n",
    "    )\n",
    "    \n",
    "    if column_name not in allowed_column_names:\n",
    "        print('You selected a non number column')\n",
    "        return \n",
    "    \n",
    "    values = get_unique_values_by_column_name(column_name)\n",
    "    numbers = []\n",
    "    for value in values:\n",
    "        numbers.append(int(value))\n",
    "    min_value = min(numbers)\n",
    "    max_value = max(numbers)\n",
    "    average = round(sum(numbers)/len(numbers), 2)\n",
    "    \n",
    "    return (min_value, max_value, average)\n",
    "    \n",
    "stats('Name')"
   ]
  },
  {
   "cell_type": "code",
   "execution_count": 249,
   "id": "4c43b4a3",
   "metadata": {},
   "outputs": [
    {
     "data": {
      "text/plain": [
       "[['Cristiano Ronaldo', '94', '85'],\n",
       " ['Lionel Messi', '93', '74'],\n",
       " ['Neymar', '92', '81'],\n",
       " ['Luis Suárez', '92', '85'],\n",
       " ['Manuel Neuer', '92', '47'],\n",
       " ['De Gea', '90', '40'],\n",
       " ['Robert Lewandowski', '90', '81'],\n",
       " ['Gareth Bale', '90', '76'],\n",
       " ['Zlatan Ibrahimović', '90', '91'],\n",
       " ['Thibaut Courtois', '89', '27'],\n",
       " ['Jérôme Boateng', '89', '46'],\n",
       " ['Eden Hazard', '89', '86'],\n",
       " ['Luka Modrić', '89', '80'],\n",
       " ['Mesut Özil', '89', '67'],\n",
       " ['Gonzalo Higuaín', '89', '70'],\n",
       " ['Thiago Silva', '89', '71'],\n",
       " ['Sergio Ramos', '89', '68'],\n",
       " ['Sergio Agüero', '89', '80'],\n",
       " ['Paul Pogba', '88', '76'],\n",
       " ['Antoine Griezmann', '88', '71'],\n",
       " ['Kevin De Bruyne', '88', '77'],\n",
       " ['Marco Reus', '88', '84'],\n",
       " ['Alexis Sánchez', '88', '77'],\n",
       " ['Toni Kroos', '88', '73'],\n",
       " ['Diego Godín', '88', '50'],\n",
       " ['Mats Hummels', '88', '68'],\n",
       " ['Hugo Lloris', '88', '40'],\n",
       " ['Giorgio Chiellini', '88', '50'],\n",
       " ['Philipp Lahm', '88', '69'],\n",
       " ['Pepe', '88', '57'],\n",
       " ['Petr Čech', '88', '23'],\n",
       " ['Gianluigi Buffon', '88', '22'],\n",
       " ['Iniesta', '88', '71'],\n",
       " ['Jan Oblak', '87', '11'],\n",
       " ['James Rodríguez', '87', '81'],\n",
       " ['Pierre-Emerick Aubameyang', '87', '82'],\n",
       " ['Leonardo Bonucci', '87', '70'],\n",
       " ['Arturo Vidal', '87', '84'],\n",
       " ['Ivan Rakitić', '87', '78'],\n",
       " ['David Silva', '87', '77'],\n",
       " ['Samir Handanovič', '87', '23'],\n",
       " ['Piqué', '87', '69'],\n",
       " ['Arjen Robben', '87', '80'],\n",
       " ['Paulo Dybala', '86', '84'],\n",
       " ['Marco Verratti', '86', '64'],\n",
       " ['David Alaba', '86', '80'],\n",
       " ['Henrikh Mkhitaryan', '86', '72'],\n",
       " ['Bernd Leno', '86', '23'],\n",
       " ['Thomas Müller', '86', '60'],\n",
       " ['Sergio Busquets', '86', '60'],\n",
       " ['Thiago', '86', '75'],\n",
       " ['Jordi Alba', '86', '59'],\n",
       " ['Coutinho', '86', '64'],\n",
       " ['Ángel Di María', '86', '73'],\n",
       " ['Diego Costa', '86', '76'],\n",
       " ['Edinson Cavani', '86', '84'],\n",
       " ['Radja Nainggolan', '86', '63'],\n",
       " ['Marcelo', '86', '59'],\n",
       " ['Claudio Marchisio', '86', '78'],\n",
       " ['Miranda', '86', '49'],\n",
       " ['Karim Benzema', '86', '82'],\n",
       " ['Cesc Fàbregas', '86', '80'],\n",
       " ['Franck Ribéry', '86', '78'],\n",
       " ['Santi Cazorla', '86', '80'],\n",
       " ['Andrea Barzagli', '86', '60'],\n",
       " ['Harry Kane', '85', '82'],\n",
       " ['Alexandre Lacazette', '85', '84'],\n",
       " ['Keylor Navas', '85', '25'],\n",
       " ['Romelu Lukaku', '85', '80'],\n",
       " ['Christian Eriksen', '85', '67'],\n",
       " ['İlkay Gündoğan', '85', '76'],\n",
       " ['Toby Alderweireld', '85', '60'],\n",
       " ['Willian', '85', '60'],\n",
       " ['Miralem Pjanić', '85', '79'],\n",
       " ['Juan Mata', '85', '81'],\n",
       " ['Javi Martinez', '85', '52'],\n",
       " ['Dimitri Payet', '85', '76'],\n",
       " ['Dries Mertens', '85', '78'],\n",
       " ['Sokratis', '85', '38'],\n",
       " ['Marek Hamšik', '85', '70'],\n",
       " ['Blaise Matuidi', '85', '56'],\n",
       " ['Stéphane Ruffier', '85', '25'],\n",
       " ['Laurent Koscielny', '85', '51'],\n",
       " ['Filipe Luís', '85', '65'],\n",
       " ['Vincent Kompany', '85', '63'],\n",
       " ['Aymeric Laporte', '84', '35'],\n",
       " ['Yannick Carrasco', '84', '74'],\n",
       " ['Carvajal', '84', '45'],\n",
       " ['Riyad Mahrez', '84', '72'],\n",
       " ['Raphaël Varane', '84', '43'],\n",
       " ['Mauro Icardi', '84', '78'],\n",
       " ['Lorenzo Insigne', '84', '61'],\n",
       " ['Isco', '84', '76'],\n",
       " ['Koke', '84', '59'],\n",
       " ['Kostas Manolas', '84', '26'],\n",
       " ['Danijel Subašić', '84', '23'],\n",
       " ['Nicolás Otamendi', '84', '44'],\n",
       " ['Shkodran Mustafi', '84', '54'],\n",
       " ['Nemanja Matić', '84', '69'],\n",
       " ['Alex Sandro', '84', '59'],\n",
       " ['Kamil Glik', '84', '39'],\n",
       " ['Douglas Costa', '84', '77'],\n",
       " ['Kevin Strootman', '84', '77'],\n",
       " ['Nicolás Gaitán', '84', '71'],\n",
       " ['Bruno', '84', '75'],\n",
       " ['Ivan Perišić', '84', '76'],\n",
       " ['David Luiz', '84', '75'],\n",
       " ['Sami Khedira', '84', '69'],\n",
       " ['Benedikt Höwedes', '84', '56'],\n",
       " ['Ralf Fährmann', '84', '21'],\n",
       " ['Sergio Asenjo', '84', '15'],\n",
       " ['Éver Banega', '84', '67'],\n",
       " ['Medhi Benatia', '84', '41'],\n",
       " ['Steve Mandanda', '84', '11'],\n",
       " ['Dani Alves', '84', '70'],\n",
       " ['Arda Turan', '84', '73'],\n",
       " ['Javier Mascherano', '84', '60'],\n",
       " ['Aduriz', '84', '77'],\n",
       " ['Yaya Touré', '84', '89'],\n",
       " ['Eric Bailly', '83', '46'],\n",
       " ['José María Giménez', '83', '38'],\n",
       " [\"N'Golo Kanté\", '83', '54'],\n",
       " ['Gerónimo Rulli', '83', '24'],\n",
       " ['João Mário', '83', '66'],\n",
       " ['André Gomes', '83', '55'],\n",
       " ['Marquinhos', '83', '31'],\n",
       " ['Carlos Bacca', '83', '79'],\n",
       " ['William Carvalho', '83', '60'],\n",
       " ['Karim Bellarabi', '83', '57'],\n",
       " ['Raheem Sterling', '83', '63'],\n",
       " ['Julian Draxler', '83', '63'],\n",
       " ['Roberto Firmino', '83', '72'],\n",
       " ['Marcos Rojo', '83', '64'],\n",
       " ['Kalidou Koulibaly', '83', '33'],\n",
       " ['Danilo Pereira', '83', '52'],\n",
       " ['Timo Horn', '83', '21'],\n",
       " ['Casemiro', '83', '66'],\n",
       " ['Vitolo', '83', '74'],\n",
       " ['Anthony Lopes', '83', '16'],\n",
       " ['Mattia Perin', '83', '21'],\n",
       " ['Joel Matip', '83', '42'],\n",
       " ['Juan Cuadrado', '83', '65'],\n",
       " ['Iago Aspas', '83', '74'],\n",
       " ['Marc-André ter Stegen', '83', '25'],\n",
       " ['Mario Götze', '82', '65'],\n",
       " ['Ander Herrera', '83', '79'],\n",
       " ['Javier Pastore', '83', '75'],\n",
       " ['Chris Smalling', '83', '52'],\n",
       " ['Pedro', '83', '66'],\n",
       " ['Giacomo Bonaventura', '83', '68'],\n",
       " ['Roman Bürki', '83', '20'],\n",
       " ['Oscar', '83', '68'],\n",
       " [\"Steven N'Zonzi\", '83', '57'],\n",
       " ['Aaron Ramsey', '83', '75'],\n",
       " ['Mateo Musacchio', '83', '57'],\n",
       " ['Ömer Toprak', '83', '48'],\n",
       " ['José Callejón', '83', '62'],\n",
       " ['Adrien Silva', '83', '85'],\n",
       " ['Azpilicueta', '83', '66'],\n",
       " ['Sebastian Giovinco', '83', '75'],\n",
       " ['Anthony Modeste', '83', '77'],\n",
       " ['Mario Mandžukić', '83', '76'],\n",
       " ['Adam Lallana', '83', '70'],\n",
       " ['Olivier Giroud', '83', '81'],\n",
       " ['Rui Patrício', '83', '32'],\n",
       " ['Yann Sommer', '83', '24'],\n",
       " ['Jonas', '83', '83'],\n",
       " ['Kévin Gameiro', '83', '85'],\n",
       " ['Claudio Bravo', '83', '23'],\n",
       " ['Łukasz Piszczek', '83', '65'],\n",
       " ['Jan Vertonghen', '83', '68'],\n",
       " ['Asmir Begović', '83', '40'],\n",
       " ['Naldo', '83', '60'],\n",
       " ['Daniel Sturridge', '83', '75'],\n",
       " ['José Fonte', '83', '43'],\n",
       " ['Ezequiel Garay', '83', '69'],\n",
       " ['Samir Nasri', '83', '77'],\n",
       " ['Gary Cahill', '83', '53'],\n",
       " ['Ashley Williams', '83', '45'],\n",
       " ['Leighton Baines', '83', '90'],\n",
       " ['Kasper Schmeichel', '83', '26'],\n",
       " ['Borja Valero', '83', '72'],\n",
       " ['Hatem Ben Arfa', '83', '87'],\n",
       " ['Joe Hart', '83', '68'],\n",
       " ['Juanfran', '83', '66'],\n",
       " ['Wesley Sneijder', '83', '76'],\n",
       " ['Nani', '83', '72'],\n",
       " ['Stephan Lichtsteiner', '83', '66'],\n",
       " ['Wayne Rooney', '83', '79'],\n",
       " ['Daniele De Rossi', '83', '75'],\n",
       " ['José Reina', '83', '24'],\n",
       " ['Quaresma', '83', '74'],\n",
       " ['Marco Asensio', '82', '62'],\n",
       " ['Bernardo Silva', '83', '64'],\n",
       " ['Islam Slimani', '82', '72'],\n",
       " ['Jonathan Tah', '82', '38'],\n",
       " ['Anthony Martial', '82', '71'],\n",
       " ['Dele Alli', '82', '52'],\n",
       " ['Ederson', '82', '17'],\n",
       " ['Mohamed Salah', '82', '61'],\n",
       " ['Sadio Mané', '82', '71'],\n",
       " ['Lucas Vázquez', '82', '56'],\n",
       " ['Franco Vázquez', '82', '67'],\n",
       " ['Manu Trigueros', '82', '65'],\n",
       " ['Samuel Umtiti', '82', '61'],\n",
       " ['Stefan Savić', '82', '37'],\n",
       " ['Roque Mesa', '82', '42'],\n",
       " ['Loris Karius', '82', '19'],\n",
       " ['Alessandro Florenzi', '82', '76'],\n",
       " ['Virgil van Dijk', '82', '62'],\n",
       " ['Jack Butland', '82', '42'],\n",
       " ['Morata', '82', '72'],\n",
       " ['Lucas', '82', '75'],\n",
       " ['Yevhen Konoplyanka', '82', '75'],\n",
       " ['Francesco Acerbi', '82', '72'],\n",
       " ['Nolito', '82', '74'],\n",
       " ['Granit Xhaka', '82', '59'],\n",
       " ['Stefan de Vrij', '82', '41'],\n",
       " ['Jonathan Viera', '82', '74'],\n",
       " ['Pizzi', '82', '76'],\n",
       " ['Serge Aurier', '82', '66'],\n",
       " ['Grzegorz Krychowiak', '82', '78'],\n",
       " ['Kevin Kampl', '82', '64'],\n",
       " ['Dejan Lovren', '82', '52'],\n",
       " ['Gary Medel', '82', '62'],\n",
       " ['Idrissa Gueye', '82', '54'],\n",
       " ['Víctor Ruíz', '82', '46'],\n",
       " ['Ricardo Rodríguez', '82', '83'],\n",
       " ['Xherdan Shaqiri', '82', '65'],\n",
       " ['Ciro Immobile', '82', '76'],\n",
       " ['Nathaniel Clyne', '82', '46'],\n",
       " ['Iborra', '82', '72'],\n",
       " ['Jack Wilshere', '82', '65'],\n",
       " ['Shinji Kagawa', '82', '78'],\n",
       " ['Kevin Trapp', '82', '17'],\n",
       " ['Taison', '82', '72'],\n",
       " ['Kyle Walker', '82', '63'],\n",
       " ['Marlos', '82', '74'],\n",
       " ['Luiz Gustavo', '82', '58'],\n",
       " ['Giuliano', '82', '75'],\n",
       " ['Gylfi Sigurðsson', '82', '80'],\n",
       " ['Yacine Brahimi', '82', '75'],\n",
       " ['Marko Arnautović', '82', '78'],\n",
       " ['Jordan Henderson', '82', '64'],\n",
       " ['Orestis Karnezis', '82', '21'],\n",
       " ['Mamadou Sakho', '81', '40'],\n",
       " ['Adil Rami', '82', '48'],\n",
       " ['Fernando Néstor Muslera', '82', '24'],\n",
       " ['Vedran Ćorluka', '82', '49'],\n",
       " ['Edin Džeko', '82', '70'],\n",
       " ['Séamus Coleman', '82', '60'],\n",
       " ['Javier Hernández', '82', '76'],\n",
       " ['Beñat', '82', '69'],\n",
       " ['Lars Bender', '82', '52'],\n",
       " ['Axel Witsel', '82', '81'],\n",
       " ['Morgan Schneiderlin', '82', '56'],\n",
       " ['Kevin Mirallas', '82', '75'],\n",
       " ['Carlos Vela', '82', '72'],\n",
       " ['Emiliano Viviano', '82', '21'],\n",
       " ['Antonio Valencia', '82', '55'],\n",
       " ['Gonzalo Castro', '82', '58'],\n",
       " ['Falcao', '82', '84'],\n",
       " ['Diego Alves', '82', '24'],\n",
       " ['Andrea Consigli', '82', '21'],\n",
       " ['João Moutinho', '82', '70'],\n",
       " ['Moussa Dembélé', '82', '67'],\n",
       " ['Michael Krohn-Dehli', '82', '76'],\n",
       " ['Loïc Perrin', '82', '68'],\n",
       " ['Lucas Biglia', '82', '72'],\n",
       " ['Benoît Costil', '82', '15'],\n",
       " ['Raúl Albiol', '82', '37'],\n",
       " ['Mario Gómez', '82', '74'],\n",
       " ['Gabi', '82', '83'],\n",
       " ['Diego López', '82', '21'],\n",
       " ['Raffael', '82', '72'],\n",
       " ['Alejandro Gómez', '82', '69'],\n",
       " ['Gonzalo Rodríguez', '82', '74'],\n",
       " ['Vincent Enyeama', '82', '75'],\n",
       " ['Kaká', '82', '84'],\n",
       " ['Fernandinho', '82', '61'],\n",
       " ['David Villa', '82', '88'],\n",
       " ['Victor Valdés', '82', '26'],\n",
       " ['Per Mertesacker', '82', '42'],\n",
       " ['Patrice Evra', '82', '57'],\n",
       " ['Xabi Alonso', '82', '80'],\n",
       " ['Michael Carrick', '82', '64'],\n",
       " ['Andrea Pirlo', '82', '84'],\n",
       " ['Casillas', '82', '24'],\n",
       " ['Ousmane Dembélé', '81', '70'],\n",
       " ['Corentin Tolisso', '81', '70'],\n",
       " ['Marcelo Brozović', '81', '69'],\n",
       " ['Federico Bernardeschi', '81', '72'],\n",
       " ['Niklas Süle', '81', '32'],\n",
       " ['Domenico Berardi', '81', '80'],\n",
       " ['Morgan Sanson', '81', '68'],\n",
       " ['Samu Castillejo', '81', '59'],\n",
       " ['Adrien Rabiot', '81', '68'],\n",
       " ['Leon Goretzka', '81', '51'],\n",
       " ['Quincy Promes', '81', '72'],\n",
       " ['Andrea Belotti', '81', '77'],\n",
       " ['Jonas Hector', '81', '65'],\n",
       " ['Mateo Kovačić', '81', '59'],\n",
       " ['Sergio Rico', '81', '24'],\n",
       " ['Oleg Shatov', '81', '60'],\n",
       " ['Jorginho', '81', '84'],\n",
       " ['Florian Thauvin', '81', '57'],\n",
       " ['Michy Batshuayi', '80', '67'],\n",
       " ['Iñigo Martínez', '81', '39'],\n",
       " ['Suso', '81', '68'],\n",
       " ['Deulofeu', '81', '70'],\n",
       " ['Felipe Anderson', '81', '53'],\n",
       " ['Jasper Cillessen', '81', '21'],\n",
       " ['Wissam Ben Yedder', '81', '74'],\n",
       " ['Lucas Pérez', '81', '79'],\n",
       " ['Ross Barkley', '81', '65'],\n",
       " ['Cédric Bakambu', '81', '72'],\n",
       " ['Bartra', '81', '52'],\n",
       " ['André Schürrle', '81', '83'],\n",
       " ['Roberto Pereyra', '81', '72'],\n",
       " ['Mario Gaspar', '81', '50'],\n",
       " ['Fabián Orellana', '81', '75'],\n",
       " ['Lukáš Hrádecký', '81', '20'],\n",
       " ['Daley Blind', '81', '56'],\n",
       " ['De Marcos', '81', '55'],\n",
       " ['Wilfried Bony', '81', '77'],\n",
       " ['Iturraspe', '81', '58'],\n",
       " ['Parejo', '81', '83'],\n",
       " ['Salomón Rondón', '81', '62'],\n",
       " ['Daniel Carriço', '81', '62'],\n",
       " ['Bas Dost', '81', '77'],\n",
       " ['James McCarthy', '81', '60'],\n",
       " ['Camacho', '81', '48'],\n",
       " ['Paulinho', '81', '71'],\n",
       " ['Alan Dzagoev', '81', '65'],\n",
       " ['Igor Smolnikov', '81', '41'],\n",
       " ['Lars Stindl', '81', '69'],\n",
       " ['Mario Balotelli', '81', '92'],\n",
       " ['Wojciech Szczęsny', '81', '18'],\n",
       " ['Nikola Kalinić', '81', '70'],\n",
       " ['Mikel San José', '81', '51'],\n",
       " ['Christian Benteke', '81', '77'],\n",
       " ['Marco Parolo', '81', '45'],\n",
       " ['Ljubomir Fejsa', '81', '56'],\n",
       " ['Martín Cáceres', '81', '50'],\n",
       " ['Georginio Wijnaldum', '81', '74'],\n",
       " ['Federico Fazio', '81', '33'],\n",
       " ['Simon Kjær', '81', '46'],\n",
       " ['Loïc Rémy', '81', '78'],\n",
       " ['Miguel Layún', '81', '75'],\n",
       " ['Adán', '81', '25'],\n",
       " ['Benoît Trémoulinas', '81', '77'],\n",
       " ['Sven Bender', '81', '42'],\n",
       " ['Mathieu Valbuena', '81', '65'],\n",
       " ['Bojan', '81', '71'],\n",
       " ['Augusto Fernández', '81', '62'],\n",
       " ['Antonio Candreva', '81', '86'],\n",
       " ['Davide Astori', '81', '27'],\n",
       " ['Raúl García', '81', '76'],\n",
       " ['Giovani dos Santos', '81', '70'],\n",
       " ['Erik Lamela', '81', '75'],\n",
       " ['Ryan Shawcross', '81', '48'],\n",
       " ['Danny Rose', '81', '57'],\n",
       " ['Renato Augusto', '81', '68'],\n",
       " ['Martin Škrtel', '81', '52'],\n",
       " ['Theo Walcott', '81', '74'],\n",
       " ['Bacary Sagna', '81', '59'],\n",
       " ['Dante', '81', '57'],\n",
       " ['Salomon Kalou', '81', '86'],\n",
       " ['André-Pierre Gignac', '81', '78'],\n",
       " ['Lukas Podolski', '81', '83'],\n",
       " ['Negredo', '81', '80'],\n",
       " ['Pablo Zabaleta', '81', '64'],\n",
       " ['Darijo Srna', '81', '84'],\n",
       " ['Cédric Carrasso', '81', '13'],\n",
       " ['Rubén Castro', '81', '76'],\n",
       " ['Jérémy Mathieu', '81', '60'],\n",
       " ['Carlos Idriss Kameni', '81', '24'],\n",
       " ['Moyá', '81', '11'],\n",
       " ['Rune Almenning Jarstein', '81', '13'],\n",
       " ['Jermain Defoe', '81', '71'],\n",
       " ['Thiago Motta', '81', '70'],\n",
       " ['Fernando Torres', '81', '74'],\n",
       " ['Júlio César', '81', '13'],\n",
       " ['Didier Drogba', '81', '84'],\n",
       " ['Danny', '81', '67'],\n",
       " ['John Terry', '81', '52'],\n",
       " [\"Samuel Eto'o\", '81', '85'],\n",
       " ['Tiago', '81', '57'],\n",
       " ['Gelson Martins', '80', '66'],\n",
       " ['Leroy Sané', '80', '63'],\n",
       " ['Julian Weigl', '81', '50'],\n",
       " ['Nabil Fekir', '80', '70'],\n",
       " ['Jean Michaël Seri', '80', '67'],\n",
       " ['Williams', '80', '64'],\n",
       " ['Marco Sportiello', '80', '21'],\n",
       " ['Keita Baldé Diao', '80', '58'],\n",
       " ['Nikola Maksimović', '80', '26'],\n",
       " ['Thomas Lemar', '80', '68'],\n",
       " ['Kingsley Coman', '80', '70'],\n",
       " ['Alisson', '80', '23'],\n",
       " ['Joshua Kimmich', '80', '44'],\n",
       " ['Julian Brandt', '80', '54'],\n",
       " ['Sofiane Boufal', '80', '69'],\n",
       " ['Bruma', '80', '71'],\n",
       " ['Daniele Rugani', '80', '29'],\n",
       " ['Raphaël Guerreiro', '80', '44'],\n",
       " ['Fabinho', '80', '88'],\n",
       " ['Jamie Vardy', '81', '76'],\n",
       " ['Hakim Ziyech', '80', '74'],\n",
       " ['Emil Forsberg', '80', '64'],\n",
       " ['Saúl', '80', '54'],\n",
       " ['Felipe', '80', '47'],\n",
       " ['Taras Stepanenko', '80', '52'],\n",
       " ['Luke Shaw', '80', '53'],\n",
       " ['Leo Baptistao', '80', '65'],\n",
       " ['Antonio Rüdiger', '80', '40'],\n",
       " ['Matija Nastasić', '80', '47'],\n",
       " ['Denis Suárez', '80', '63'],\n",
       " ['Kurt Zouma', '80', '61'],\n",
       " ['John Brooks', '80', '45'],\n",
       " ['Héctor Bellerín', '80', '62'],\n",
       " ['Thorgan Hazard', '80', '73'],\n",
       " ['Davy Klaassen', '80', '75'],\n",
       " ['Valère Germain', '80', '77'],\n",
       " ['Paul-Georges Ntep', '80', '70'],\n",
       " ['Layvin Kurzawa', '80', '62'],\n",
       " ['Rafinha', '80', '67'],\n",
       " ['Jeison Murillo', '80', '46'],\n",
       " ['Riccardo Saponara', '80', '67'],\n",
       " ['Djibril Sidibé', '80', '43'],\n",
       " ['Nacho Fernández', '80', '45'],\n",
       " ['Josip Iličić', '80', '78'],\n",
       " ['Kevin Volland', '80', '72'],\n",
       " ['Allan', '80', '53'],\n",
       " ['Pablo Hernández', '80', '62'],\n",
       " ['Sergi Roberto', '80', '57'],\n",
       " ['Wilfried Zaha', '80', '66'],\n",
       " ['Manolo Gabbiadini', '80', '72'],\n",
       " ['Josuha Guilavogui', '80', '50'],\n",
       " ['Patrick Herrmann', '80', '61'],\n",
       " ['Sebastián Coates', '80', '42'],\n",
       " ['Oğuzhan Özyakup', '80', '78'],\n",
       " ['Yaroslav Rakitskyi', '80', '50'],\n",
       " ['Phil Jones', '80', '55'],\n",
       " ['Adrián', '80', '44'],\n",
       " ['Neto', '80', '22'],\n",
       " ['Hugo Mallo', '80', '23'],\n",
       " ['Daniel Didavi', '80', '65'],\n",
       " ['Younès Belhanda', '80', '80'],\n",
       " ['Oliver Baumann', '80', '22'],\n",
       " ['Mário Fernandes', '80', '53'],\n",
       " ['Roberto Soriano', '80', '62'],\n",
       " ['Jesús Corona', '80', '68'],\n",
       " ['Maxime Gonalons', '80', '71'],\n",
       " ['Alphonse Areola', '80', '25'],\n",
       " ['Yunus Mallı', '80', '81'],\n",
       " ['Eduardo Salvio', '80', '60'],\n",
       " ['Stephan El Shaarawy', '80', '72'],\n",
       " ['Iago Falqué', '80', '77'],\n",
       " ['Marwin Hitz', '80', '22'],\n",
       " ['Thimothée Kolodziejczak', '80', '49'],\n",
       " ['Francis Coquelin', '80', '52'],\n",
       " ['Marcel Schmelzer', '80', '46'],\n",
       " ['Ryad Boudebouz', '80', '87'],\n",
       " ['Ganso', '80', '76'],\n",
       " ['Fedor Smolov', '80', '74'],\n",
       " ['Christian Noboa', '80', '80'],\n",
       " ['Kwadwo Asamoah', '80', '64'],\n",
       " ['Ron-Robert Zieler', '80', '24'],\n",
       " ['Danny Welbeck', '80', '70'],\n",
       " ['Danny Drinkwater', '80', '53'],\n",
       " ['Aleksandar Kolarov', '80', '74'],\n",
       " ['Matteo Darmian', '80', '45'],\n",
       " ['Ibrahima Traoré', '80', '56'],\n",
       " ['Diego Perotti', '80', '82'],\n",
       " ['Angelo Ogbonna', '80', '39'],\n",
       " ['Max Kruse', '80', '86'],\n",
       " ['Konstantinos Mitroglou', '80', '61'],\n",
       " ['Nordin Amrabat', '80', '77'],\n",
       " ['Stevan Jovetić', '80', '80'],\n",
       " ['Jeremain Lens', '80', '67'],\n",
       " ['Branislav Ivanović', '80', '58'],\n",
       " ['Eder', '80', '78'],\n",
       " ['Kiko Casilla', '80', '23'],\n",
       " ['Nacho Monreal', '80', '61'],\n",
       " ['Serdar Tasci', '80', '42'],\n",
       " ['Marcelo Díaz', '80', '66'],\n",
       " ['André Ayew', '80', '71'],\n",
       " ['Winston Reid', '80', '55'],\n",
       " ['Lucas Leiva', '80', '61'],\n",
       " ['Kevin-Prince Boateng', '80', '67'],\n",
       " ['Héctor Moreno', '80', '63'],\n",
       " ['Cristian Ansaldi', '80', '52'],\n",
       " ['Daniel Wass', '80', '64'],\n",
       " ['Coke', '80', '74'],\n",
       " ['Andrés Guardado', '80', '70'],\n",
       " ['Jonathan dos Santos', '80', '59'],\n",
       " ['Ryan Bertrand', '80', '52'],\n",
       " ['Jardel', '80', '57'],\n",
       " ['Salvatore Sirigu', '80', '19'],\n",
       " ['Yohan Cabaye', '80', '78'],\n",
       " ['Vitaliy Denisov', '80', '31'],\n",
       " ['Dušan Basta', '80', '55'],\n",
       " ['Gustavo Cabral', '80', '47'],\n",
       " ['Gabriel Paletta', '80', '35'],\n",
       " ['Łukasz Fabiański', '80', '22'],\n",
       " ['Ben Foster', '80', '41'],\n",
       " ['Vedad Ibišević', '80', '77'],\n",
       " ['Andreas Granqvist', '80', '79'],\n",
       " ['Héctor Herrera', '80', '59'],\n",
       " ['Igor Akinfeev', '80', '10'],\n",
       " ['Fernando Belluschi', '80', '75'],\n",
       " ['Andriy Pyatov', '80', '15'],\n",
       " ['Antonio Mirante', '80', '21'],\n",
       " ['Federico Marchetti', '80', '22'],\n",
       " ['James Milner', '80', '83'],\n",
       " ['Michel Vorm', '80', '41'],\n",
       " ['Daniel Baier', '80', '62'],\n",
       " ['Atiba Hutchinson', '80', '76'],\n",
       " ['Mehmet Topal', '80', '68'],\n",
       " ['Bastian Schweinsteiger', '82', '77'],\n",
       " ['René Adler', '80', '21'],\n",
       " ['Jérémy Toulalan', '80', '56'],\n",
       " ['Phil Jagielka', '80', '68'],\n",
       " ['Stefano Sorrentino', '80', '20'],\n",
       " ['Robin van Persie', '80', '84'],\n",
       " ['Gareth Barry', '80', '72'],\n",
       " ['Francesco Totti', '80', '86'],\n",
       " ['Gianluigi Donnarumma', '79', '24'],\n",
       " ['Nélson Semedo', '79', '38'],\n",
       " ['Florin Andone', '79', '74'],\n",
       " ['Sergej Milinković-Savić', '79', '38'],\n",
       " ['Omar Al Soma', '79', '74'],\n",
       " ['Petros', '79', '58'],\n",
       " ['Victor Nilsson Lindelöf', '79', '55'],\n",
       " ['Naby Keïta', '79', '58'],\n",
       " ['Tiémoué Bakayoko', '79', '45'],\n",
       " ['Mahmoud Dahoud', '79', '55'],\n",
       " ['Rúben Semedo', '79', '38'],\n",
       " ['Rafa', '79', '59'],\n",
       " ['Dani García', '79', '58'],\n",
       " ['Lisandro López', '79', '48'],\n",
       " ['Ángel Correa', '79', '55'],\n",
       " ['Andreas Christensen', '79', '38'],\n",
       " ['Nabil Bentaleb', '79', '69'],\n",
       " ['Stanislav Kritsyuk', '79', '14'],\n",
       " ['Divock Origi', '79', '65'],\n",
       " ['Max Meyer', '79', '60'],\n",
       " ['Gayà', '79', '52'],\n",
       " ['Marco Benassi', '79', '51'],\n",
       " ['Pedro Santos', '79', '65'],\n",
       " ['Elseid Hysaj', '79', '40'],\n",
       " ['João Cancelo', '79', '46'],\n",
       " ['Alessio Romagnoli', '79', '34'],\n",
       " ['Piotr Zieliński', '79', '51'],\n",
       " ['Bruno Peres', '79', '59'],\n",
       " ['Ricardo Pereira', '79', '54'],\n",
       " ['Óliver Torres', '79', '65'],\n",
       " ['Filip Kostić', '79', '67'],\n",
       " ['Emre Can', '79', '60'],\n",
       " ['Matthias Ginter', '79', '67'],\n",
       " ['Luciano Vietto', '79', '69'],\n",
       " ['Arrizabalaga', '79', '24'],\n",
       " ['Maximilian Arnold', '79', '59'],\n",
       " ['Alassane Pléa', '79', '63'],\n",
       " ['Denis Cheryshev', '79', '64'],\n",
       " ['Edin Višća', '79', '75'],\n",
       " ['Bernard', '79', '57'],\n",
       " ['Daniele Baselli', '79', '71'],\n",
       " ['Arkadiusz Milik', '79', '79'],\n",
       " ['Bernat', '79', '53'],\n",
       " ['Šime Vrsaljko', '79', '52'],\n",
       " ['Eric Botteghin', '79', '52'],\n",
       " ['John Stones', '80', '37'],\n",
       " ['Jannik Vestergaard', '79', '43'],\n",
       " ['Simone Zaza', '79', '80'],\n",
       " ['Sergi Darder', '79', '55'],\n",
       " ['Fernando', '79', '61'],\n",
       " ['Memphis Depay', '79', '66'],\n",
       " ['Jesé', '79', '68'],\n",
       " ['Thomas Meunier', '79', '65'],\n",
       " ['Eric Dier', '79', '70'],\n",
       " ['Federico Fernández', '79', '42'],\n",
       " ['Nicola Sansone', '79', '66'],\n",
       " ['Gastón Ramírez', '79', '73'],\n",
       " ['Faouzi Ghoulam', '79', '76'],\n",
       " ['Gabriel', '79', '51'],\n",
       " ['Vladimír Darida', '79', '74'],\n",
       " ['Cédric', '79', '60'],\n",
       " ['Lorenzo Tonelli', '79', '35'],\n",
       " ['Benjamin Lecomte', '79', '20'],\n",
       " ['Lucas Digne', '79', '58'],\n",
       " ['Paco Alcácer', '79', '71'],\n",
       " ['Heung Min Son', '79', '71'],\n",
       " ['Vicente Gómez', '79', '46'],\n",
       " ['Emre Çolak', '79', '72'],\n",
       " ['André André', '79', '86'],\n",
       " ['Dušan Tadić', '79', '80'],\n",
       " ['Danilo', '79', '67'],\n",
       " ['Pablo Sarabia', '79', '61'],\n",
       " ['Alex Oxlade-Chamberlain', '79', '69'],\n",
       " ['Marco Höger', '79', '74'],\n",
       " ['Florian Lejeune', '79', '43'],\n",
       " ['Giannelli Imbula', '79', '29'],\n",
       " ['Nicolás Lodeiro', '79', '76'],\n",
       " ['Daniel Caligiuri', '79', '79'],\n",
       " ['Jeffrey Bruma', '79', '39'],\n",
       " ['Willian José', '79', '80'],\n",
       " ['Wahbi Khazri', '79', '75'],\n",
       " ['Keko', '79', '66'],\n",
       " ['Gil', '79', '42'],\n",
       " ['Martin Braithwaite', '79', '73'],\n",
       " ['Jaume Costa', '79', '56'],\n",
       " ['Romain Hamouma', '79', '72'],\n",
       " ['Escudero', '79', '66'],\n",
       " ['Marcos Alonso', '79', '64'],\n",
       " ['Holger Badstuber', '79', '64'],\n",
       " ['Osvaldo Alonso', '79', '66'],\n",
       " ['Juraj Kucka', '79', '71'],\n",
       " ['Jeroen Zoet', '79', '27'],\n",
       " ['Illarramendi', '79', '50'],\n",
       " ['Adem Ljajić', '79', '75'],\n",
       " ['Eliaquim Mangala', '79', '46'],\n",
       " ['Canales', '79', '66'],\n",
       " ['Balenziaga', '79', '44'],\n",
       " ['Rafael', '79', '58'],\n",
       " ['Sebastian Rudy', '79', '71'],\n",
       " ['Jonathas', '79', '78'],\n",
       " ['Aleksandar Dragović', '79', '65'],\n",
       " ['Manuel Lanzini', '79', '68'],\n",
       " ['Victor Wanyama', '79', '65'],\n",
       " [\"Alfred N'Diaye\", '79', '54'],\n",
       " ['Nicolas Nkoulou', '79', '50'],\n",
       " ['Volkan Babacan', '79', '12'],\n",
       " ['Seydou Doumbia', '79', '79'],\n",
       " ['Pavel Mamaev', '79', '85'],\n",
       " ['Artem Dzyuba', '79', '77'],\n",
       " ['Maurício', '79', '52'],\n",
       " [\"Yann M'Vila\", '79', '68'],\n",
       " ['Kieran Gibbs', '79', '63'],\n",
       " ['Mariano', '79', '61'],\n",
       " ['Sofiane Feghouli', '79', '62'],\n",
       " ['Fernando', '79', '54'],\n",
       " ['Claudio Yacob', '79', '66'],\n",
       " ['Roberto', '79', '19'],\n",
       " ['Moussa Sissoko', '79', '68'],\n",
       " ['Maximiliano Pereira', '79', '63'],\n",
       " ['Sidnei', '79', '58'],\n",
       " ['William Vainqueur', '79', '32'],\n",
       " ['Miguel Veloso', '79', '73'],\n",
       " ['Fabricio', '79', '22'],\n",
       " ['Vieirinha', '79', '66'],\n",
       " ['Fabian Johnson', '79', '53'],\n",
       " ['Demba Ba', '79', '89'],\n",
       " ['Bryan Ruíz', '79', '71'],\n",
       " ['Marcus Berg', '79', '70'],\n",
       " ['Pontus Wernbloom', '79', '66'],\n",
       " ['David Ospina', '79', '26'],\n",
       " ['Ignacio Piatti', '79', '70'],\n",
       " ['Valter Birsa', '79', '76'],\n",
       " ['Matías Fernández', '78', '72'],\n",
       " ['Marcano', '79', '35'],\n",
       " ['Simon Mignolet', '79', '41'],\n",
       " ['Sergio Romero', '79', '16'],\n",
       " ['Domenico Criscito', '79', '68'],\n",
       " ['Castán', '79', '40'],\n",
       " ['Moussa Sow', '79', '75'],\n",
       " ['Diego Valeri', '79', '71'],\n",
       " ['Nuri Şahin', '78', '39'],\n",
       " ['Jonny Evans', '79', '44'],\n",
       " ['Danilo', '79', '50'],\n",
       " ['Nicolás Pareja', '79', '69'],\n",
       " ['Ştefan Radu', '79', '57'],\n",
       " ['Nicolas Lombaerts', '79', '48'],\n",
       " ['Giuseppe Rossi', '79', '87'],\n",
       " ['Llorente', '79', '70'],\n",
       " ['Bafétimbi Gomis', '79', '83'],\n",
       " ['Mathieu Debuchy', '79', '66'],\n",
       " ['Ibrahim Afellay', '79', '70'],\n",
       " ['Jefferson Farfán', '79', '79'],\n",
       " ['Manuel Fernandes', '79', '75'],\n",
       " ['Scott Dann', '79', '30'],\n",
       " ['Clint Dempsey', '79', '71'],\n",
       " ['Michael Bradley', '79', '71'],\n",
       " ['Yoann Gourcuff', '79', '76'],\n",
       " ['Hilton', '79', '64'],\n",
       " ['Pablo Batalla', '79', '82'],\n",
       " ['Gaël Clichy', '79', '45'],\n",
       " ['Klaas-Jan Huntelaar', '79', '56'],\n",
       " ['Luisão', '79', '66'],\n",
       " ['Vasiliy Berezutskiy', '79', '45'],\n",
       " ['Igor Denisov', '79', '62'],\n",
       " ['Alexandr Samedov', '79', '81'],\n",
       " ['Jesús Navas', '79', '56'],\n",
       " ['Xabi Prieto', '79', '84'],\n",
       " ['Javi Fuego', '79', '60'],\n",
       " ['Marcelo Barovero', '79', '20'],\n",
       " ['Lisandro López', '79', '84'],\n",
       " ['Guillermo Ochoa', '79', '16'],\n",
       " ['Bruno Alves', '79', '75'],\n",
       " ['Burak Yılmaz', '79', '79'],\n",
       " ['Diego Benaglio', '79', '23'],\n",
       " ['Zoran Tošić', '79', '67'],\n",
       " ['Maxwell', '79', '59'],\n",
       " ['Kim Källström', '79', '70'],\n",
       " ['Tim Howard', '79', '33'],\n",
       " ['Denys Boyko', '78', '15'],\n",
       " ['Marcus Rashford', '78', '74'],\n",
       " ['Miguel Almirón', '78', '58'],\n",
       " ['Gabriel Jesus', '78', '73'],\n",
       " ['Oyarzabal', '78', '47'],\n",
       " ['André Silva', '78', '77'],\n",
       " ['Soares', '78', '68'],\n",
       " ['Nemanja Radoja', '78', '42'],\n",
       " ['Marcos Acuña', '78', '43'],\n",
       " ['Jorge Meré', '78', '51'],\n",
       " ['Jony', '78', '61'],\n",
       " ['Antonio Sanabria', '78', '69'],\n",
       " [\"Cheikh N'Doye\", '78', '57'],\n",
       " ['José Izquierdo', '78', '58'],\n",
       " ['Gonzalo Escalante', '78', '64'],\n",
       " ['Theo Bongonda', '78', '57'],\n",
       " ['Sebastián Torrico', '78', '21'],\n",
       " ['Morales', '78', '68'],\n",
       " ['Wendell', '78', '46'],\n",
       " ['Andrej Kramarić', '78', '79'],\n",
       " ['Davide Zappacosta', '78', '59'],\n",
       " ['Jemerson', '78', '54'],\n",
       " ['Lucas Alario', '78', '70'],\n",
       " ['Duván Zapata', '78', '64'],\n",
       " ['Wylan Cyprien', '78', '53'],\n",
       " ['Diego Llorente', '78', '53'],\n",
       " ['Alex Telles', '78', '63'],\n",
       " ['Timo Werner', '78', '63'],\n",
       " ['André Hahn', '78', '47'],\n",
       " ['Paulo Oliveira', '78', '45'],\n",
       " ['Rachid Ghezzal', '77', '65'],\n",
       " ['Grimaldo', '78', '51'],\n",
       " ['Kevin Wimmer', '78', '35'],\n",
       " ['Tiago Volpi', '78', '21'],\n",
       " ['Joël Veltman', '78', '42'],\n",
       " ['Sead Kolašinac', '78', '44'],\n",
       " ['Guido Pizarro', '78', '60'],\n",
       " ['Michael Keane', '79', '48'],\n",
       " ['Jesse Lingard', '78', '65'],\n",
       " ['Bigas', '78', '48'],\n",
       " ['Vlad Chiricheş', '78', '51'],\n",
       " ['Ben Davies', '78', '54'],\n",
       " ['Carlos Sánchez', '78', '65'],\n",
       " ['Santiago Gentiletti', '78', '43'],\n",
       " ['Takashi Inui', '78', '51'],\n",
       " ['Raúl Jiménez', '78', '86'],\n",
       " ['Joel Campbell', '78', '75'],\n",
       " ['Mário Rui', '78', '60'],\n",
       " [\"M'Baye Niang\", '78', '70'],\n",
       " ['Christoph Kramer', '78', '47'],\n",
       " ['Konstantinos Fortounis', '78', '80'],\n",
       " ['Joãozinho', '78', '83'],\n",
       " ['André Carrillo', '78', '68'],\n",
       " ['Rodrigo Moledo', '78', '45'],\n",
       " ['Johannes Geis', '78', '75'],\n",
       " ['Salif Sané', '78', '43'],\n",
       " ['Milan Badelj', '78', '68'],\n",
       " ['Agustín Marchesín', '78', '14'],\n",
       " ['Łukasz Teodorczyk', '78', '65'],\n",
       " ['Nacer Chadli', '78', '76'],\n",
       " ['Cristian Tello', '78', '56'],\n",
       " ['Bruno', '78', '42'],\n",
       " ['Sebastian Rode', '78', '51'],\n",
       " ['Nicolai Jørgensen', '78', '72'],\n",
       " ['John Guidetti', '78', '81'],\n",
       " ['Bruno Martins Indi', '78', '38'],\n",
       " ['Jordy Clasie', '78', '64'],\n",
       " ['Charles Aránguiz', '78', '81'],\n",
       " ['Mathew Ryan', '78', '25'],\n",
       " ['Rogelio Funes Mori', '78', '70'],\n",
       " ['Aymen Abdennour', '78', '51'],\n",
       " ['Mexer', '78', '38'],\n",
       " ['Enzo Pérez', '78', '82'],\n",
       " ['Teófilo Gutiérrez', '78', '72'],\n",
       " ['Dorlan Pabón', '78', '80'],\n",
       " ['Charlie Austin', '78', '77'],\n",
       " ['Borja Bastón', '78', '72'],\n",
       " ['Sergi Enrich', '78', '63'],\n",
       " ['Hernán Pérez', '78', '48'],\n",
       " ['Thomas Delaney', '78', '60'],\n",
       " ['Davy Pröpper', '78', '69'],\n",
       " ['Cenk Tosun', '78', '82'],\n",
       " ['Koen Casteels', '78', '20'],\n",
       " ['Emanuele Giaccherini', '78', '69'],\n",
       " ['Allan Nyom', '78', '37'],\n",
       " ['Kevin Vogt', '78', '53'],\n",
       " ['Fontàs', '78', '52'],\n",
       " ['Lamine Sané', '78', '33'],\n",
       " ['Gökhan Töre', '78', '70'],\n",
       " ['Fredy Montero', '78', '77'],\n",
       " ['Celso Borges', '78', '77'],\n",
       " ['Michail Antonio', '79', '73'],\n",
       " ['Etxeita', '78', '30'],\n",
       " ['Julian Baumgartlinger', '78', '59'],\n",
       " ['Mehmet Ekici', '77', '74'],\n",
       " ['Muniain', '78', '61'],\n",
       " ['Susaeta', '78', '58'],\n",
       " ['Etrit Berisha', '78', '22'],\n",
       " ['Yannick Bolasie', '78', '65'],\n",
       " ['Miguel Lopes', '78', '50'],\n",
       " ['Senad Lulić', '78', '55'],\n",
       " ['Rochina', '78', '67'],\n",
       " ['Omar El Kaddouri', '78', '70'],\n",
       " ['Denis Glushakov', '78', '75'],\n",
       " ['Carlos Zambrano', '78', '44'],\n",
       " ['Mame Diouf', '78', '75'],\n",
       " ['Onur Kıvrak', '78', '19'],\n",
       " ['Jefferson Montero', '78', '68'],\n",
       " ['Keisuke Honda', '78', '76'],\n",
       " ['Bernardo Espinosa', '78', '52'],\n",
       " ['Marco Fabián', '78', '77'],\n",
       " ['Ivelin Popov', '78', '71'],\n",
       " ['Joe Allen', '78', '52'],\n",
       " ['Romain Thomas', '78', '52'],\n",
       " ['Mehdi Carcela-González', '78', '65'],\n",
       " ['Sandro Wagner', '78', '64'],\n",
       " ['Pablo Piatti', '78', '59'],\n",
       " ['Eric Maxim Choupo-Moting', '78', '68'],\n",
       " ['Sebastian Langkamp', '78', '38'],\n",
       " ['Neven Subotić', '78', '43'],\n",
       " ['Fabian Delph', '78', '65'],\n",
       " ['Raúl Bobadilla', '78', '68'],\n",
       " ['Troy Deeney', '78', '80'],\n",
       " ['Håvard Nordtveit', '78', '56'],\n",
       " ['Balázs Dzsudzsák', '78', '85'],\n",
       " ['Andy Carroll', '78', '73'],\n",
       " ['Bořek Dočkal', '78', '75'],\n",
       " ['Marek Suchý', '78', '64'],\n",
       " ['Luiz Adriano', '78', '76'],\n",
       " ['Guilherme', '78', '12'],\n",
       " ['Ki Sung Yueng', '78', '76'],\n",
       " ['Ruud Vormer', '78', '79'],\n",
       " ['Etienne Capoue', '78', '52'],\n",
       " ['Paul Baysse', '78', '50'],\n",
       " ['Cristian Zapata', '78', '38'],\n",
       " ['Dieumerci Mbokani', '78', '72'],\n",
       " ['Marouane Fellaini', '78', '64'],\n",
       " ['Nahuel Guzmán', '78', '12'],\n",
       " ['Adrián Ramos', '78', '72'],\n",
       " ['Baiano', '78', '49'],\n",
       " ['Jan Ďurica', '78', '14'],\n",
       " ['Pedro León', '78', '71'],\n",
       " ['Zlatko Junuzović', '78', '70'],\n",
       " ['Luca Antonelli', '77', '51'],\n",
       " ['Victor Moses', '78', '71'],\n",
       " ['Zurutuza', '78', '61'],\n",
       " ['Fraser Forster', '78', '22'],\n",
       " ['Lasse Schøne', '78', '77'],\n",
       " ['James McArthur', '78', '67'],\n",
       " ['Mario Suárez', '78', '59'],\n",
       " ['Steven Defour', '78', '69'],\n",
       " ['Diego Buonanotte', '78', '71'],\n",
       " ['Tim Krul', '78', '42'],\n",
       " ['Jack Cork', '78', '47'],\n",
       " ['Kenneth Vermeer', '78', '30'],\n",
       " ['Rafinha', '78', '63'],\n",
       " ['Salvatore Bocchetti', '78', '45'],\n",
       " ['Ignazio Abate', '78', '48'],\n",
       " ['Rasmus Elm', '78', '85'],\n",
       " ['Marco Ruben', '78', '74'],\n",
       " ['Jakub Błaszczykowski', '78', '70'],\n",
       " ['Adriano', '78', '59'],\n",
       " ['Tom Heaton', '79', '24'],\n",
       " ['Oleksandr Kucher', '78', '33'],\n",
       " ['Karim El Ahmadi', '78', '69'],\n",
       " ['Javi García', '78', '61'],\n",
       " ['David Abraham', '78', '56'],\n",
       " ['Riccardo Montolivo', '78', '76'],\n",
       " ['Fabio Quagliarella', '78', '77'],\n",
       " ['Jurado', '78', '66'],\n",
       " ['Ezequiel Lavezzi', '78', '69'],\n",
       " ['Christian Gentner', '78', '65'],\n",
       " ['Laurent Ciman', '78', '47'],\n",
       " ['Thomas Vermaelen', '78', '62'],\n",
       " ['Rodrigo Palacio', '78', '79'],\n",
       " ['Per Ciljan Skjelbred', '78', '55'],\n",
       " ['Ashley Young', '78', '65'],\n",
       " ['Mark Noble', '78', '88'],\n",
       " ['Aaron Lennon', '78', '62'],\n",
       " ['Christophe Jallet', '78', '71'],\n",
       " ['Sergey Ryzhikov', '78', '22'],\n",
       " ['Soldado', '78', '79'],\n",
       " ['Oscar Wendt', '78', '65'],\n",
       " ['Gökhan Gönül', '78', '67'],\n",
       " ['José Sosa', '78', '75'],\n",
       " ['Ragnar Klavan', '78', '44'],\n",
       " ['Willy Caballero', '78', '16'],\n",
       " ['Vágner Love', '78', '85'],\n",
       " ['Robert Huth', '78', '54'],\n",
       " ['Gomes', '78', '41'],\n",
       " ['Martín Demichelis', '78', '46'],\n",
       " ['Selçuk İnan', '78', '88'],\n",
       " ['Alexander Meier', '78', '76'],\n",
       " ['Sergey Ignashevich', '78', '76'],\n",
       " ['Reyes', '78', '72'],\n",
       " ['Nigel de Jong', '78', '58'],\n",
       " ['Mathieu Bodmer', '78', '76'],\n",
       " ['Joaquín', '78', '75'],\n",
       " ['Claudio Pizarro', '78', '81'],\n",
       " ['César Navas', '78', '50'],\n",
       " ['Alessandro Gamberini', '78', '41'],\n",
       " ['Kylian Mbappe Lottin', '77', '65'],\n",
       " ['Alban Lafont', '77', '16'],\n",
       " ['Renato Sanches', '77', '68'],\n",
       " ['Formosandrinho', '77', '56'],\n",
       " ['Sidney Pessinho', '77', '67'],\n",
       " ['Everticinho', '77', '64'],\n",
       " ['Louri Beretta', '77', '74'],\n",
       " ['Claudio Coíntra', '77', '73'],\n",
       " ['Maikel Catarino', '77', '41'],\n",
       " ['Ronaldo Esler', '77', '49'],\n",
       " ['Gazzolisco', '77', '77'],\n",
       " ['Raphaelito Anjos', '77', '23'],\n",
       " ['Mauricio Lemos', '77', '41'],\n",
       " ['Dalbert', '77', '42'],\n",
       " ['Lorenzo Pellegrini', '77', '49'],\n",
       " ['Yeray', '77', '61'],\n",
       " ['Vincent Janssen', '77', '81'],\n",
       " ['Pablo Fornals', '77', '46'],\n",
       " ['Marcos Llorente', '77', '53'],\n",
       " ['Martín Campaña', '77', '23'],\n",
       " ['Nadiem Amiri', '77', '65'],\n",
       " ['Vincent Koziello', '77', '60'],\n",
       " ['Vallejo', '77', '45'],\n",
       " ['Şener Özbayraklı', '77', '44'],\n",
       " ['Franco Cervi', '77', '56'],\n",
       " ['Malcom', '78', '66'],\n",
       " ['Rick Karsdorp', '77', '52'],\n",
       " ['Dani Ceballos', '78', '55'],\n",
       " ['Hirving Lozano', '77', '64'],\n",
       " ['Yoan Cardinale', '77', '23'],\n",
       " ['Badou Ndiaye', '77', '65'],\n",
       " ['Alessandro Schöpf', '77', '64'],\n",
       " ['Davinson Sánchez', '77', '44'],\n",
       " ['Matias Vecino', '77', '56'],\n",
       " ['Georges-Kévin Nkoudou', '77', '67'],\n",
       " ['Sandro', '77', '70'],\n",
       " ['Wesley Hoedt', '77', '37'],\n",
       " ['Bastos', '77', '50'],\n",
       " ['Wallace', '77', '45'],\n",
       " ['Youri Tielemans', '78', '76'],\n",
       " ['Alen Halilović', '77', '75'],\n",
       " ['Yuriy Lodygin', '77', '22'],\n",
       " ['Silvan Widmer', '77', '58'],\n",
       " ['Gino Peruzzi', '77', '46'],\n",
       " ['Pablo Pérez', '77', '59'],\n",
       " ['Darío Benedetto', '77', '66'],\n",
       " ['Iván Marcone', '77', '59'],\n",
       " ['Matías Kranevitter', '77', '46'],\n",
       " ['Emmanuel Mas', '77', '57'],\n",
       " ['Franco Armani', '77', '20'],\n",
       " ['Daniel Torres', '77', '72'],\n",
       " ['Felipe Pardo', '77', '67'],\n",
       " ['Sardar Azmoun', '77', '55'],\n",
       " ['Alan Ruiz', '77', '66'],\n",
       " ['Diego Rolán', '77', '75'],\n",
       " ['Mohamed Elneny', '77', '62'],\n",
       " ['Mario Lemina', '77', '68'],\n",
       " ['Anderson Talisca', '77', '71'],\n",
       " ['Bruno Fernandes', '77', '66'],\n",
       " ['Roberto Gagliardini', '77', '41'],\n",
       " ['Kerem Demirbay', '77', '67'],\n",
       " ['Nicolás Tagliafico', '77', '46'],\n",
       " ['Pablo De Blasis', '77', '70'],\n",
       " ['Carles Gil', '77', '69'],\n",
       " ['Luca Zuffi', '75', '61'],\n",
       " ['Juan Fernando Quintero', '77', '71'],\n",
       " ['Jonny', '77', '46'],\n",
       " ['Otávio', '77', '72'],\n",
       " ['Alexander Szymanowski', '77', '70'],\n",
       " ['Jhon Córdoba', '77', '69'],\n",
       " ['Jozabed', '77', '54'],\n",
       " ['Pacheco', '77', '23'],\n",
       " ['Sam Larsson', '77', '50'],\n",
       " ['Abdul Rahman Baba', '77', '42'],\n",
       " ['Andreas Samaris', '77', '66'],\n",
       " ['Gabriel', '77', '66'],\n",
       " ['Gerard Moreno', '77', '73'],\n",
       " ['Erik Durm', '77', '55'],\n",
       " ['Tobias Strobl', '77', '45'],\n",
       " ['Marçal', '77', '43'],\n",
       " ['Leandro Paredes', '77', '57'],\n",
       " ['Roberto Torres', '77', '78'],\n",
       " ['Mitchell Weiser', '77', '58'],\n",
       " ['Dominique Heintz', '77', '41'],\n",
       " ['Serge Gnabry', '77', '69'],\n",
       " ['Jetro Willems', '77', '46'],\n",
       " ['Leonardo Pavoletti', '77', '64'],\n",
       " ['Zouhair Feddal', '77', '48'],\n",
       " ['Sébastien Haller', '77', '86'],\n",
       " ['Lucas Castro', '77', '68'],\n",
       " ['Luís Hernández', '77', '54'],\n",
       " ['Marcelo', '77', '42'],\n",
       " ['Benjamin Mendy', '77', '40'],\n",
       " ...]"
      ]
     },
     "execution_count": 249,
     "metadata": {},
     "output_type": "execute_result"
    }
   ],
   "source": [
    "def extract_columns(column_names):\n",
    "    filename = 'soccer_players_statistics.csv'\n",
    "    header = None\n",
    "    values = []\n",
    "    col_index = []\n",
    "    with open(filename, encoding=\"utf-8\") as file:\n",
    "        for line in file:\n",
    "            line = line.strip()\n",
    "            if not line:\n",
    "                continue\n",
    "\n",
    "            if not header:\n",
    "                header = line.split(',')\n",
    "                try:\n",
    "                    for column_name in column_names:\n",
    "                        col_index.append(header.index(column_name))\n",
    "                except:\n",
    "                    print(f'Column {column_name} does not exist in the file')\n",
    "                    return False\n",
    "                \n",
    "                continue         \n",
    "            cols = line.split(',')\n",
    "            row = []\n",
    "            for index in col_index:\n",
    "                row.append(cols[index])\n",
    "            values.append(row)\n",
    "\n",
    "                \n",
    "    return values\n",
    "extract_columns(('Name', 'Rating', 'Penalties'))"
   ]
  },
  {
   "cell_type": "code",
   "execution_count": 252,
   "id": "0b5a755a",
   "metadata": {},
   "outputs": [],
   "source": [
    "column_data = extract_columns(['Club_Joining', 'Contract_Expiry'])"
   ]
  },
  {
   "cell_type": "code",
   "execution_count": 257,
   "id": "32947d4c",
   "metadata": {},
   "outputs": [
    {
     "data": {
      "text/plain": [
       "'2016'"
      ]
     },
     "execution_count": 257,
     "metadata": {},
     "output_type": "execute_result"
    }
   ],
   "source": [
    "x = '07/01/2016'\n",
    "x.split('/')[2]"
   ]
  },
  {
   "cell_type": "code",
   "execution_count": 264,
   "id": "71044c18",
   "metadata": {},
   "outputs": [
    {
     "name": "stdout",
     "output_type": "stream",
     "text": [
      "0 30\n"
     ]
    }
   ],
   "source": [
    "min_val = float('inf')\n",
    "max_val = float('-inf')\n",
    "for join, expiry in column_data:\n",
    "    if not expiry.strip() or not join.strip(): #skip empty values\n",
    "        continue \n",
    "    expiry = int(expiry[:4])\n",
    "    join = int(join.split('/')[2])\n",
    "    diff = abs(expiry - join)\n",
    "    if diff < min_val:\n",
    "        min_val = diff\n",
    "        \n",
    "    if diff > max_val:\n",
    "        max_val = diff\n",
    "        \n",
    "print(min_val, max_val)"
   ]
  },
  {
   "cell_type": "code",
   "execution_count": null,
   "id": "a86fa5f1",
   "metadata": {},
   "outputs": [],
   "source": []
  }
 ],
 "metadata": {
  "kernelspec": {
   "display_name": "Python 3 (ipykernel)",
   "language": "python",
   "name": "python3"
  },
  "language_info": {
   "codemirror_mode": {
    "name": "ipython",
    "version": 3
   },
   "file_extension": ".py",
   "mimetype": "text/x-python",
   "name": "python",
   "nbconvert_exporter": "python",
   "pygments_lexer": "ipython3",
   "version": "3.8.16"
  }
 },
 "nbformat": 4,
 "nbformat_minor": 5
}
