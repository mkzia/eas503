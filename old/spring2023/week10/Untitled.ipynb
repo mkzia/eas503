{
 "cells": [
  {
   "cell_type": "code",
   "execution_count": 1,
   "id": "fb9806e7",
   "metadata": {},
   "outputs": [],
   "source": [
    "filename = 'PatientCorePopulatedTable.csv'\n",
    "\n",
    "data = [line.strip().split('\\t')for line in open(filename) if line.strip()]"
   ]
  },
  {
   "cell_type": "code",
   "execution_count": 3,
   "id": "e37e0f26",
   "metadata": {},
   "outputs": [],
   "source": [
    "header = data.pop(0)"
   ]
  },
  {
   "cell_type": "code",
   "execution_count": 9,
   "id": "9211626b",
   "metadata": {},
   "outputs": [],
   "source": [
    "d = list(map(lambda line: (line[0], 'Buffalo Hospital', float(line[-1])*10), data))"
   ]
  },
  {
   "cell_type": "code",
   "execution_count": 13,
   "id": "fee780fa",
   "metadata": {},
   "outputs": [],
   "source": [
    "d = set(map(lambda line: line[4], data))"
   ]
  },
  {
   "cell_type": "code",
   "execution_count": 14,
   "id": "6524be12",
   "metadata": {},
   "outputs": [
    {
     "data": {
      "text/plain": [
       "{'Divorced', 'Married', 'Separated', 'Single', 'Unknown', 'Widowed'}"
      ]
     },
     "execution_count": 14,
     "metadata": {},
     "output_type": "execute_result"
    }
   ],
   "source": [
    "d"
   ]
  },
  {
   "cell_type": "code",
   "execution_count": 15,
   "id": "70abac1c",
   "metadata": {},
   "outputs": [],
   "source": [
    "d = set(map(lambda line: (line[3], line[4]), data))"
   ]
  },
  {
   "cell_type": "code",
   "execution_count": 16,
   "id": "9f9d9307",
   "metadata": {},
   "outputs": [
    {
     "data": {
      "text/plain": [
       "{('African American', 'Married'),\n",
       " ('African American', 'Separated'),\n",
       " ('African American', 'Single'),\n",
       " ('African American', 'Unknown'),\n",
       " ('Asian', 'Divorced'),\n",
       " ('Asian', 'Married'),\n",
       " ('Asian', 'Separated'),\n",
       " ('Asian', 'Single'),\n",
       " ('Asian', 'Unknown'),\n",
       " ('Unknown', 'Divorced'),\n",
       " ('Unknown', 'Married'),\n",
       " ('Unknown', 'Single'),\n",
       " ('White', 'Divorced'),\n",
       " ('White', 'Married'),\n",
       " ('White', 'Separated'),\n",
       " ('White', 'Single'),\n",
       " ('White', 'Unknown'),\n",
       " ('White', 'Widowed')}"
      ]
     },
     "execution_count": 16,
     "metadata": {},
     "output_type": "execute_result"
    }
   ],
   "source": [
    "d"
   ]
  },
  {
   "cell_type": "code",
   "execution_count": 17,
   "id": "43ba1a3f",
   "metadata": {},
   "outputs": [],
   "source": [
    "filename2 = 'AdmissionsDiagnosesCorePopulatedTable.csv'\n",
    "data2 = [line.strip().split('\\t')for line in open(filename2) if line.strip()]"
   ]
  },
  {
   "cell_type": "code",
   "execution_count": 19,
   "id": "7b737472",
   "metadata": {},
   "outputs": [
    {
     "data": {
      "text/plain": [
       "['PatientID',\n",
       " 'AdmissionID',\n",
       " 'PrimaryDiagnosisCode',\n",
       " 'PrimaryDiagnosisDescription']"
      ]
     },
     "execution_count": 19,
     "metadata": {},
     "output_type": "execute_result"
    }
   ],
   "source": [
    "data2.pop(0)"
   ]
  },
  {
   "cell_type": "code",
   "execution_count": 24,
   "id": "48cb8694",
   "metadata": {},
   "outputs": [],
   "source": [
    "d = list(map(lambda line: f'({line[2]}) {line[3]}', filter(lambda line: line[1] == '1', data2)))"
   ]
  },
  {
   "cell_type": "code",
   "execution_count": 25,
   "id": "89ed7ffc",
   "metadata": {},
   "outputs": [
    {
     "data": {
      "text/plain": [
       "['(C91.00) Acute lymphoblastic leukemia not having achieved remission',\n",
       " '(M05.442) Rheumatoid myopathy with rheumatoid arthritis of left hand',\n",
       " '(K91) Intraoperative and postprocedural complications and disorders of digestive system, not elsewhere classified',\n",
       " '(M05.752) Rheumatoid arthritis with rheumatoid factor of left hip without organ or systems involvement',\n",
       " '(C94.6) Myelodysplastic disease, not classified',\n",
       " '(C92.51) Acute myelomonocytic leukemia, in remission',\n",
       " '(D12.7) Benign neoplasm of rectosigmoid junction',\n",
       " '(C79.72) Secondary malignant neoplasm of left adrenal gland',\n",
       " '(M06.31) Rheumatoid nodule, shoulder',\n",
       " '(Z13.810) Encounter for screening for upper gastrointestinal disorder',\n",
       " '(Z13.83) Encounter for screening for respiratory disorder NEC',\n",
       " '(D39.12) Neoplasm of uncertain behavior of left ovary',\n",
       " '(O99.41) Diseases of the circulatory system complicating pregnancy',\n",
       " '(O07.32) Renal failure following failed attempted termination of pregnancy',\n",
       " '(E10.630) Type 1 diabetes mellitus with periodontal disease',\n",
       " '(F11) Opioid related disorders',\n",
       " '(D13.1) Benign neoplasm of stomach',\n",
       " '(F31.4) Bipolar disorder, current episode depressed, severe, without psychotic features',\n",
       " '(O10.113) Pre-existing hypertensive heart disease complicating pregnancy, third trimester',\n",
       " '(N49.2) Inflammatory disorders of scrotum',\n",
       " '(I25.82) Chronic total occlusion of coronary artery',\n",
       " '(C51.2) Malignant neoplasm of clitoris',\n",
       " '(H75.01) Mastoiditis in infectious and parasitic diseases classified elsewhere, right ear',\n",
       " '(M01.X5) Direct infection of hip in infectious and parasitic diseases classified elsewhere',\n",
       " '(E10.339) Type 1 diabetes mellitus with moderate nonproliferative diabetic retinopathy without macular edema',\n",
       " '(C19) Malignant neoplasm of rectosigmoid junction',\n",
       " '(I67.81) Acute cerebrovascular insufficiency',\n",
       " '(C92.50) Acute myelomonocytic leukemia, not having achieved remission',\n",
       " '(I25.84) Coronary atherosclerosis due to calcified coronary lesion',\n",
       " '(M63) Disorders of muscle in diseases classified elsewhere',\n",
       " '(O9A.1) Malignant neoplasm complicating pregnancy, childbirth and the puerperium',\n",
       " '(C75.1) Malignant neoplasm of pituitary gland',\n",
       " '(M11.071) Hydroxyapatite deposition disease, right ankle and foot',\n",
       " '(F01.5) Vascular dementia',\n",
       " '(G47) Sleep disorders',\n",
       " '(G96.1) Disorders of meninges, not elsewhere classified',\n",
       " '(C91.5) Adult T-cell lymphoma/leukemia (HTLV-1-associated)',\n",
       " \"(Z91.15) Patient's noncompliance with renal dialysis\",\n",
       " '(C92.12) Chronic myeloid leukemia, BCR/ABL-positive, in relapse',\n",
       " '(M05.742) Rheumatoid arthritis with rheumatoid factor of left hand without organ or systems involvement',\n",
       " \"(J66.1) Flax-dressers' disease\",\n",
       " '(N18.1) Chronic kidney disease, stage 1',\n",
       " '(C88.3) Immunoproliferative small intestinal disease',\n",
       " '(Z12) Encounter for screening for malignant neoplasms',\n",
       " '(M05.261) Rheumatoid vasculitis with rheumatoid arthritis of right knee',\n",
       " '(B40.1) Chronic pulmonary blastomycosis',\n",
       " '(H34) Retinal vascular occlusions',\n",
       " '(M24.251) Disorder of ligament, right hip',\n",
       " '(O99.712) Diseases of the skin and subcutaneous tissue complicating pregnancy, second trimester',\n",
       " '(I79.0) Aneurysm of aorta in diseases classified elsewhere',\n",
       " '(A98.3) Marburg virus disease',\n",
       " '(M05.722) Rheumatoid arthritis with rheumatoid factor of left elbow without organ or systems involvement',\n",
       " '(H16.433) Localized vascularization of cornea, bilateral',\n",
       " '(N25.1) Nephrogenic diabetes insipidus',\n",
       " \"(M02.37) Reiter's disease, ankle and foot\",\n",
       " '(M10.31) Gout due to renal impairment, shoulder',\n",
       " '(I25.110) Atherosclerotic heart disease of native coronary artery with unstable angina pectoris',\n",
       " '(E72.4) Disorders of ornithine metabolism',\n",
       " '(O24.111) Pre-existing diabetes mellitus, type 2, in pregnancy, first trimester',\n",
       " '(Z13.0) Encounter for screening for diseases of the blood and blood-forming organs and certain disorders involving the immune mechanism',\n",
       " '(M24.22) Disorder of ligament, elbow',\n",
       " '(C03.0) Malignant neoplasm of upper gum',\n",
       " '(Z12.2) Encounter for screening for malignant neoplasm of respiratory organs',\n",
       " '(C69.61) Malignant neoplasm of right orbit',\n",
       " '(O10.213) Pre-existing hypertensive chronic kidney disease complicating pregnancy, third trimester',\n",
       " '(M90.51) Osteonecrosis in diseases classified elsewhere, shoulder',\n",
       " '(F63.81) Intermittent explosive disorder',\n",
       " '(O10.13) Pre-existing hypertensive heart disease complicating the puerperium',\n",
       " '(C94.22) Acute megakaryoblastic leukemia, in relapse',\n",
       " '(C11) Malignant neoplasm of nasopharynx',\n",
       " '(I43) Cardiomyopathy in diseases classified elsewhere',\n",
       " '(E09.359) Drug or chemical induced diabetes mellitus with proliferative diabetic retinopathy without macular edema',\n",
       " '(M90.6) Osteitis deformans in neoplastic diseases',\n",
       " '(C72.1) Malignant neoplasm of cauda equina',\n",
       " '(F12.180) Cannabis abuse with cannabis-induced anxiety disorder',\n",
       " '(C18.3) Malignant neoplasm of hepatic flexure',\n",
       " '(M05.272) Rheumatoid vasculitis with rheumatoid arthritis of left ankle and foot',\n",
       " '(E10.32) Type 1 diabetes mellitus with mild nonproliferative diabetic retinopathy',\n",
       " '(M06.361) Rheumatoid nodule, right knee',\n",
       " '(H26.21) Cataract with neovascularization',\n",
       " '(Z12.13) Encounter for screening for malignant neoplasm of small intestine',\n",
       " '(D35.5) Benign neoplasm of carotid body',\n",
       " '(D16.2) Benign neoplasm of long bones of lower limb',\n",
       " '(M06.041) Rheumatoid arthritis without rheumatoid factor, right hand',\n",
       " '(M05.732) Rheumatoid arthritis with rheumatoid factor of left wrist without organ or systems involvement',\n",
       " '(M10.37) Gout due to renal impairment, ankle and foot',\n",
       " '(C67.5) Malignant neoplasm of bladder neck',\n",
       " '(M10.361) Gout due to renal impairment, right knee',\n",
       " '(K08.121) Complete loss of teeth due to periodontal diseases, class I',\n",
       " '(E30) Disorders of puberty, not elsewhere classified',\n",
       " '(G71) Primary disorders of muscles',\n",
       " '(C18.3) Malignant neoplasm of hepatic flexure',\n",
       " '(O99.351) Diseases of the nervous system complicating pregnancy, first trimester',\n",
       " '(M05.25) Rheumatoid vasculitis with rheumatoid arthritis of hip',\n",
       " '(C57.21) Malignant neoplasm of right round ligament',\n",
       " '(K00) Disorders of tooth development and eruption',\n",
       " '(M63.832) Disorders of muscle in diseases classified elsewhere, left forearm',\n",
       " '(C72.3) Malignant neoplasm of optic nerve',\n",
       " '(M05.27) Rheumatoid vasculitis with rheumatoid arthritis of ankle and foot',\n",
       " '(F06.1) Catatonic disorder due to known physiological condition']"
      ]
     },
     "execution_count": 25,
     "metadata": {},
     "output_type": "execute_result"
    }
   ],
   "source": [
    "d"
   ]
  },
  {
   "cell_type": "code",
   "execution_count": 32,
   "id": "581d4f85",
   "metadata": {},
   "outputs": [],
   "source": [
    "def func(line):\n",
    "    if float(line[-1]) > 15:\n",
    "        if line[3] in ('White', 'African American') and line[4] == 'Married':\n",
    "            return True\n",
    "        else:\n",
    "            False\n",
    "        \n",
    "    else:\n",
    "        return False\n",
    "    \n",
    "d = list(map(lambda line: (line[0], line[3], line[4], line[-1]), filter(func, data)))"
   ]
  },
  {
   "cell_type": "code",
   "execution_count": 34,
   "id": "7e21cf40",
   "metadata": {},
   "outputs": [
    {
     "data": {
      "text/plain": [
       "14"
      ]
     },
     "execution_count": 34,
     "metadata": {},
     "output_type": "execute_result"
    }
   ],
   "source": [
    "len(d)"
   ]
  },
  {
   "cell_type": "code",
   "execution_count": 38,
   "id": "5a8219ff",
   "metadata": {},
   "outputs": [],
   "source": [
    "d = list(map(lambda line: (line[4], float(line[-1])), data))"
   ]
  },
  {
   "cell_type": "code",
   "execution_count": 40,
   "id": "2fdf17fa",
   "metadata": {},
   "outputs": [],
   "source": [
    "d2 = sorted(d, key=lambda line: (line[0], -1*line[1]))"
   ]
  },
  {
   "cell_type": "code",
   "execution_count": 41,
   "id": "1e75c71a",
   "metadata": {},
   "outputs": [
    {
     "data": {
      "text/plain": [
       "[('Divorced', 88.65),\n",
       " ('Divorced', 83.75),\n",
       " ('Divorced', 19.52),\n",
       " ('Divorced', 19.49),\n",
       " ('Divorced', 19.41),\n",
       " ('Divorced', 18.17),\n",
       " ('Divorced', 14.58),\n",
       " ('Divorced', 14.07),\n",
       " ('Divorced', 11.88),\n",
       " ('Divorced', 11.08),\n",
       " ('Divorced', 6.48),\n",
       " ('Married', 94.06),\n",
       " ('Married', 93.6),\n",
       " ('Married', 19.74),\n",
       " ('Married', 19.66),\n",
       " ('Married', 19.5),\n",
       " ('Married', 19.46),\n",
       " ('Married', 19.22),\n",
       " ('Married', 18.91),\n",
       " ('Married', 18.8),\n",
       " ('Married', 18.65),\n",
       " ('Married', 18.33),\n",
       " ('Married', 18.2),\n",
       " ('Married', 18.08),\n",
       " ('Married', 18.05),\n",
       " ('Married', 18.05),\n",
       " ('Married', 17.84),\n",
       " ('Married', 17.72),\n",
       " ('Married', 16.76),\n",
       " ('Married', 16.71),\n",
       " ('Married', 16.09),\n",
       " ('Married', 15.31),\n",
       " ('Married', 15.11),\n",
       " ('Married', 15.04),\n",
       " ('Married', 14.87),\n",
       " ('Married', 14.81),\n",
       " ('Married', 14.2),\n",
       " ('Married', 14.15),\n",
       " ('Married', 14.03),\n",
       " ('Married', 13.9),\n",
       " ('Married', 13.23),\n",
       " ('Married', 12.8),\n",
       " ('Married', 12.41),\n",
       " ('Married', 12.01),\n",
       " ('Married', 11.89),\n",
       " ('Married', 11.25),\n",
       " ('Married', 10.87),\n",
       " ('Married', 10.35),\n",
       " ('Married', 10.3),\n",
       " ('Married', 9.1),\n",
       " ('Married', 8.81),\n",
       " ('Married', 6.67),\n",
       " ('Married', 5.94),\n",
       " ('Married', 4.51),\n",
       " ('Married', 4.34),\n",
       " ('Married', 3.3),\n",
       " ('Separated', 98.4),\n",
       " ('Separated', 19.36),\n",
       " ('Separated', 17.98),\n",
       " ('Separated', 13.03),\n",
       " ('Separated', 10.8),\n",
       " ('Single', 94.0),\n",
       " ('Single', 93.23),\n",
       " ('Single', 89.44),\n",
       " ('Single', 19.52),\n",
       " ('Single', 18.88),\n",
       " ('Single', 18.41),\n",
       " ('Single', 18.36),\n",
       " ('Single', 16.88),\n",
       " ('Single', 16.86),\n",
       " ('Single', 16.69),\n",
       " ('Single', 16.43),\n",
       " ('Single', 16.32),\n",
       " ('Single', 16.24),\n",
       " ('Single', 15.98),\n",
       " ('Single', 15.72),\n",
       " ('Single', 15.56),\n",
       " ('Single', 15.24),\n",
       " ('Single', 14.99),\n",
       " ('Single', 14.9),\n",
       " ('Single', 14.49),\n",
       " ('Single', 14.49),\n",
       " ('Single', 14.28),\n",
       " ('Single', 13.97),\n",
       " ('Single', 13.1),\n",
       " ('Single', 12.92),\n",
       " ('Single', 12.86),\n",
       " ('Single', 11.43),\n",
       " ('Single', 11.16),\n",
       " ('Single', 11.15),\n",
       " ('Single', 11.04),\n",
       " ('Single', 7.59),\n",
       " ('Single', 1.7),\n",
       " ('Unknown', 82.08),\n",
       " ('Unknown', 19.16),\n",
       " ('Unknown', 18.95),\n",
       " ('Unknown', 16.89),\n",
       " ('Unknown', 15.02),\n",
       " ('Unknown', 12.38),\n",
       " ('Widowed', 88.66)]"
      ]
     },
     "execution_count": 41,
     "metadata": {},
     "output_type": "execute_result"
    }
   ],
   "source": [
    "d2"
   ]
  },
  {
   "cell_type": "code",
   "execution_count": 44,
   "id": "d00bd88c",
   "metadata": {},
   "outputs": [],
   "source": [
    "d3 = sorted(d, key=lambda line: (line[0], line[1]), reverse=True)"
   ]
  },
  {
   "cell_type": "code",
   "execution_count": 45,
   "id": "5748d852",
   "metadata": {},
   "outputs": [
    {
     "data": {
      "text/plain": [
       "[('Widowed', 88.66),\n",
       " ('Unknown', 82.08),\n",
       " ('Unknown', 19.16),\n",
       " ('Unknown', 18.95),\n",
       " ('Unknown', 16.89),\n",
       " ('Unknown', 15.02),\n",
       " ('Unknown', 12.38),\n",
       " ('Single', 94.0),\n",
       " ('Single', 93.23),\n",
       " ('Single', 89.44),\n",
       " ('Single', 19.52),\n",
       " ('Single', 18.88),\n",
       " ('Single', 18.41),\n",
       " ('Single', 18.36),\n",
       " ('Single', 16.88),\n",
       " ('Single', 16.86),\n",
       " ('Single', 16.69),\n",
       " ('Single', 16.43),\n",
       " ('Single', 16.32),\n",
       " ('Single', 16.24),\n",
       " ('Single', 15.98),\n",
       " ('Single', 15.72),\n",
       " ('Single', 15.56),\n",
       " ('Single', 15.24),\n",
       " ('Single', 14.99),\n",
       " ('Single', 14.9),\n",
       " ('Single', 14.49),\n",
       " ('Single', 14.49),\n",
       " ('Single', 14.28),\n",
       " ('Single', 13.97),\n",
       " ('Single', 13.1),\n",
       " ('Single', 12.92),\n",
       " ('Single', 12.86),\n",
       " ('Single', 11.43),\n",
       " ('Single', 11.16),\n",
       " ('Single', 11.15),\n",
       " ('Single', 11.04),\n",
       " ('Single', 7.59),\n",
       " ('Single', 1.7),\n",
       " ('Separated', 98.4),\n",
       " ('Separated', 19.36),\n",
       " ('Separated', 17.98),\n",
       " ('Separated', 13.03),\n",
       " ('Separated', 10.8),\n",
       " ('Married', 94.06),\n",
       " ('Married', 93.6),\n",
       " ('Married', 19.74),\n",
       " ('Married', 19.66),\n",
       " ('Married', 19.5),\n",
       " ('Married', 19.46),\n",
       " ('Married', 19.22),\n",
       " ('Married', 18.91),\n",
       " ('Married', 18.8),\n",
       " ('Married', 18.65),\n",
       " ('Married', 18.33),\n",
       " ('Married', 18.2),\n",
       " ('Married', 18.08),\n",
       " ('Married', 18.05),\n",
       " ('Married', 18.05),\n",
       " ('Married', 17.84),\n",
       " ('Married', 17.72),\n",
       " ('Married', 16.76),\n",
       " ('Married', 16.71),\n",
       " ('Married', 16.09),\n",
       " ('Married', 15.31),\n",
       " ('Married', 15.11),\n",
       " ('Married', 15.04),\n",
       " ('Married', 14.87),\n",
       " ('Married', 14.81),\n",
       " ('Married', 14.2),\n",
       " ('Married', 14.15),\n",
       " ('Married', 14.03),\n",
       " ('Married', 13.9),\n",
       " ('Married', 13.23),\n",
       " ('Married', 12.8),\n",
       " ('Married', 12.41),\n",
       " ('Married', 12.01),\n",
       " ('Married', 11.89),\n",
       " ('Married', 11.25),\n",
       " ('Married', 10.87),\n",
       " ('Married', 10.35),\n",
       " ('Married', 10.3),\n",
       " ('Married', 9.1),\n",
       " ('Married', 8.81),\n",
       " ('Married', 6.67),\n",
       " ('Married', 5.94),\n",
       " ('Married', 4.51),\n",
       " ('Married', 4.34),\n",
       " ('Married', 3.3),\n",
       " ('Divorced', 88.65),\n",
       " ('Divorced', 83.75),\n",
       " ('Divorced', 19.52),\n",
       " ('Divorced', 19.49),\n",
       " ('Divorced', 19.41),\n",
       " ('Divorced', 18.17),\n",
       " ('Divorced', 14.58),\n",
       " ('Divorced', 14.07),\n",
       " ('Divorced', 11.88),\n",
       " ('Divorced', 11.08),\n",
       " ('Divorced', 6.48)]"
      ]
     },
     "execution_count": 45,
     "metadata": {},
     "output_type": "execute_result"
    }
   ],
   "source": [
    "d3"
   ]
  },
  {
   "cell_type": "code",
   "execution_count": 46,
   "id": "46fc81c7",
   "metadata": {},
   "outputs": [
    {
     "data": {
      "text/plain": [
       "True"
      ]
     },
     "execution_count": 46,
     "metadata": {},
     "output_type": "execute_result"
    }
   ],
   "source": [
    "'1991-05-29' > '1950-01-01'\n",
    "\n"
   ]
  },
  {
   "cell_type": "code",
   "execution_count": 48,
   "id": "6d2f7115",
   "metadata": {},
   "outputs": [
    {
     "data": {
      "text/plain": [
       "False"
      ]
     },
     "execution_count": 48,
     "metadata": {},
     "output_type": "execute_result"
    }
   ],
   "source": [
    "'1945-06-27' < '1965-01-01' < '1920-01-01' "
   ]
  },
  {
   "cell_type": "code",
   "execution_count": null,
   "id": "34db6098",
   "metadata": {},
   "outputs": [],
   "source": []
  }
 ],
 "metadata": {
  "kernelspec": {
   "display_name": "Python 3 (ipykernel)",
   "language": "python",
   "name": "python3"
  },
  "language_info": {
   "codemirror_mode": {
    "name": "ipython",
    "version": 3
   },
   "file_extension": ".py",
   "mimetype": "text/x-python",
   "name": "python",
   "nbconvert_exporter": "python",
   "pygments_lexer": "ipython3",
   "version": "3.9.13"
  }
 },
 "nbformat": 4,
 "nbformat_minor": 5
}
