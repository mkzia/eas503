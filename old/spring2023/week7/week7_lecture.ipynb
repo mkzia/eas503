{
 "cells": [
  {
   "cell_type": "code",
   "execution_count": 8,
   "id": "347f8795",
   "metadata": {},
   "outputs": [
    {
     "data": {
      "text/plain": [
       "2142747912688"
      ]
     },
     "execution_count": 8,
     "metadata": {},
     "output_type": "execute_result"
    }
   ],
   "source": [
    "x = 7\n",
    "id(x)"
   ]
  },
  {
   "cell_type": "code",
   "execution_count": 9,
   "id": "17c4b1b2",
   "metadata": {},
   "outputs": [
    {
     "name": "stdout",
     "output_type": "stream",
     "text": [
      "id(number): 2142747912688\n"
     ]
    },
    {
     "data": {
      "text/plain": [
       "343"
      ]
     },
     "execution_count": 9,
     "metadata": {},
     "output_type": "execute_result"
    }
   ],
   "source": [
    "def cube(number):\n",
    "    print('id(number):', id(number))\n",
    "    return number ** 3\n",
    "\n",
    "cube(x)"
   ]
  },
  {
   "cell_type": "code",
   "execution_count": 10,
   "id": "7214b9cd",
   "metadata": {},
   "outputs": [
    {
     "name": "stdout",
     "output_type": "stream",
     "text": [
      "number is x: True\n"
     ]
    },
    {
     "data": {
      "text/plain": [
       "343"
      ]
     },
     "execution_count": 10,
     "metadata": {},
     "output_type": "execute_result"
    }
   ],
   "source": [
    "def cube(number):\n",
    "    print('number is x:', number is x) ## The Python's is operator returns True if its two operands have the same identify\n",
    "    return number ** 3\n",
    "\n",
    "cube(x)"
   ]
  },
  {
   "cell_type": "code",
   "execution_count": 12,
   "id": "91051e3c",
   "metadata": {},
   "outputs": [
    {
     "name": "stdout",
     "output_type": "stream",
     "text": [
      "2142747912688\n",
      "id(number) before modifying number: 2142747912688\n",
      "id(number) after modifying number: 2142831217552\n"
     ]
    },
    {
     "data": {
      "text/plain": [
       "40353607"
      ]
     },
     "execution_count": 12,
     "metadata": {},
     "output_type": "execute_result"
    }
   ],
   "source": [
    "def cube(number):\n",
    "    print('id(number) before modifying number:', id(number))\n",
    "    number **=3\n",
    "    print('id(number) after modifying number:', id(number))\n",
    "    return number ** 3\n",
    "\n",
    "print(id(x))\n",
    "cube(x)"
   ]
  },
  {
   "cell_type": "code",
   "execution_count": 17,
   "id": "be5b5b12",
   "metadata": {},
   "outputs": [
    {
     "name": "stdout",
     "output_type": "stream",
     "text": [
      "2142832341952\n",
      "id(lst) before modifying list: 2142832341952\n",
      "id(lst) after modifying list: 2142832341952\n",
      "[6, 3, 8]\n"
     ]
    }
   ],
   "source": [
    "def cube_list(lst):\n",
    "    print('id(lst) before modifying list:', id(lst))\n",
    "    lst[1] = 3\n",
    "    print('id(lst) after modifying list:', id(lst))\n",
    "    return lst\n",
    "x_lst = [6, 7, 8]\n",
    "print(id(x_lst))\n",
    "cube_list(x_lst)\n",
    "print(x_lst)"
   ]
  },
  {
   "cell_type": "code",
   "execution_count": 18,
   "id": "d961279f",
   "metadata": {},
   "outputs": [
    {
     "name": "stdout",
     "output_type": "stream",
     "text": [
      "x 2142747912688\n",
      "id(lst) before modifying list: 2142832341888\n",
      "id(lst) after modifying list: 2142832341888\n"
     ]
    },
    {
     "data": {
      "text/plain": [
       "[6, 3, 8]"
      ]
     },
     "execution_count": 18,
     "metadata": {},
     "output_type": "execute_result"
    }
   ],
   "source": [
    "def cube_list(lst):\n",
    "    print('id(lst) before modifying list:', id(lst))\n",
    "    lst[1] = 3\n",
    "    print('id(lst) after modifying list:', id(lst))\n",
    "    return lst\n",
    "x_lst = [6, 7, 8]\n",
    "print('x', id(x_lst[1])) # 2142747912688\n",
    "cube_list(x_lst)"
   ]
  },
  {
   "cell_type": "code",
   "execution_count": 24,
   "id": "1c0191b9",
   "metadata": {},
   "outputs": [],
   "source": [
    "variable = 'Global reporting!'\n",
    "\n",
    "\n",
    "def use_variable_global():\n",
    "    ## since variable is outside the function\n",
    "    print(variable)"
   ]
  },
  {
   "cell_type": "code",
   "execution_count": 25,
   "id": "948d1e49",
   "metadata": {},
   "outputs": [
    {
     "name": "stdout",
     "output_type": "stream",
     "text": [
      "Global reporting!\n"
     ]
    }
   ],
   "source": [
    "use_variable_global()"
   ]
  },
  {
   "cell_type": "code",
   "execution_count": 21,
   "id": "82ecd201",
   "metadata": {},
   "outputs": [
    {
     "name": "stdout",
     "output_type": "stream",
     "text": [
      "Local reporting!\n"
     ]
    }
   ],
   "source": [
    "def use_variable_local():\n",
    "    variable = 'Local reporting!'\n",
    "    print(variable)\n",
    "    \n",
    "use_variable_local()"
   ]
  },
  {
   "cell_type": "code",
   "execution_count": 26,
   "id": "d00fa74d",
   "metadata": {},
   "outputs": [
    {
     "name": "stdout",
     "output_type": "stream",
     "text": [
      "I have been changed!\n"
     ]
    }
   ],
   "source": [
    "def change_global_inside_function():\n",
    "    global variable\n",
    "    variable = 'I have been changed!'\n",
    "    print(variable)\n",
    "    \n",
    "change_global_inside_function()"
   ]
  },
  {
   "cell_type": "code",
   "execution_count": 27,
   "id": "37b69d0c",
   "metadata": {},
   "outputs": [
    {
     "data": {
      "text/plain": [
       "'I have been changed!'"
      ]
     },
     "execution_count": 27,
     "metadata": {},
     "output_type": "execute_result"
    }
   ],
   "source": [
    "variable"
   ]
  },
  {
   "cell_type": "code",
   "execution_count": 37,
   "id": "2428c830",
   "metadata": {},
   "outputs": [
    {
     "name": "stdout",
     "output_type": "stream",
     "text": [
      "my_list before change inside function1 [1, 2, 3]\n",
      "my_variable before change inside function1 4\n",
      "my_list after change inside function1 [1, 2, 3, 30]\n",
      "my_variable after change inside function1 10\n",
      "[1, 2, 3, 30]\n",
      "4\n"
     ]
    }
   ],
   "source": [
    "def function1(my_list, my_variable):\n",
    "    print('my_list before change inside function1', my_list)\n",
    "    print('my_variable before change inside function1', my_variable)\n",
    "    my_list.append(30)\n",
    "    my_variable = 10\n",
    "\n",
    "    print('my_list after change inside function1', my_list)\n",
    "    print('my_variable after change inside function1', my_variable)\n",
    "\n",
    "    \n",
    "my_list = [1, 2, 3]\n",
    "my_variable = 4\n",
    "function1(my_list, my_variable)\n",
    "print(my_list)\n",
    "print(my_variable)"
   ]
  },
  {
   "cell_type": "code",
   "execution_count": 44,
   "id": "c314637d",
   "metadata": {},
   "outputs": [
    {
     "name": "stdout",
     "output_type": "stream",
     "text": [
      "[1, 2, 3, 30]\n",
      "55\n",
      "my_list after change inside function2 [1, 2, 3, 30, 90]\n",
      "my_variable after change inside function2 356\n",
      "[1, 2, 3, 30]\n",
      "55\n"
     ]
    }
   ],
   "source": [
    "import copy\n",
    "copy.deepcopy(list)\n",
    "\n",
    "def function2(my_list, my_variable):\n",
    "    # https://stackoverflow.com/questions/2612802/how-to-clone-or-copy-a-list\n",
    "\n",
    "    my_list = my_list[:]\n",
    "    my_list.append(90)\n",
    "    my_variable = 356\n",
    "\n",
    "    print('my_list after change inside function2', my_list)\n",
    "    print('my_variable after change inside function2', my_variable)\n",
    "\n",
    "print(my_list)\n",
    "print(my_variable)\n",
    "function2(my_list, my_variable)\n",
    "print(my_list)\n",
    "print(my_variable)"
   ]
  },
  {
   "cell_type": "code",
   "execution_count": 45,
   "id": "12afbbfe",
   "metadata": {},
   "outputs": [
    {
     "name": "stdout",
     "output_type": "stream",
     "text": [
      "my_list after change inside function2 [1, 2, 3, 4, 90]\n",
      "my_variable after change inside function2 356\n",
      "my_list after change inside function2 [1, 2, 3, 4, 90]\n",
      "my_variable after change inside function2 45\n",
      "my_list before change inside function1 [1, 2, 3, 4, 90]\n",
      "my_variable before change inside function1 45\n",
      "my_list after change inside function1 [1, 2, 3, 4, 90, 30]\n",
      "my_variable after change inside function1 10\n",
      "my_list after change1 inside function3 [1, 2, 3, 4, 90, 30]\n",
      "my_variable after change1 inside function3 45\n",
      "my_list after change inside function2 [1, 2, 3, 4, 90, 30, 90]\n",
      "my_variable after change inside function2 356\n",
      "my_list after change2 inside function3 [1, 2, 3, 4, 90, 30]\n",
      "my_variable after change2 inside function3 45\n"
     ]
    }
   ],
   "source": [
    "\n",
    "def function3():\n",
    "    my_variable = 55\n",
    "    my_list = [1, 2, 3, 4]\n",
    "    my_variable = function2(my_list, my_variable)\n",
    "    # https://stackoverflow.com/questions/2612802/how-to-clone-or-copy-a-list\n",
    "\n",
    "    my_list = my_list[:] # copy\n",
    "    my_list.append(90)\n",
    "    my_variable = 45\n",
    "\n",
    "    print('my_list after change inside function2', my_list)\n",
    "    print('my_variable after change inside function2', my_variable)\n",
    "\n",
    "    function1(my_list, my_variable)\n",
    "\n",
    "    print('my_list after change1 inside function3', my_list)\n",
    "    print('my_variable after change1 inside function3', my_variable)\n",
    "\n",
    "    function2(my_list, my_variable)\n",
    "\n",
    "\n",
    "    print('my_list after change2 inside function3', my_list)\n",
    "    print('my_variable after change2 inside function3', my_variable)\n",
    "\n",
    "function3()"
   ]
  },
  {
   "cell_type": "code",
   "execution_count": 48,
   "id": "03ce17f3",
   "metadata": {},
   "outputs": [
    {
     "data": {
      "text/plain": [
       "[(1, 'a', 3.5), (3, 'Z', 90)]"
      ]
     },
     "execution_count": 48,
     "metadata": {},
     "output_type": "execute_result"
    }
   ],
   "source": [
    "import operator\n",
    "x = (\n",
    "    (1, 'a', 3.5), \n",
    "    (3, 'Z', 90)\n",
    ")\n",
    "sorted(x, key=operator.itemgetter(0))"
   ]
  },
  {
   "cell_type": "code",
   "execution_count": 49,
   "id": "fa5ac9cd",
   "metadata": {},
   "outputs": [
    {
     "data": {
      "text/plain": [
       "[(1, 'a', 3.5), (3, 'Z', 90)]"
      ]
     },
     "execution_count": 49,
     "metadata": {},
     "output_type": "execute_result"
    }
   ],
   "source": [
    "sorted(x, key=lambda x: x[0])"
   ]
  },
  {
   "cell_type": "code",
   "execution_count": 50,
   "id": "5ad2da7e",
   "metadata": {},
   "outputs": [
    {
     "ename": "TypeError",
     "evalue": "float() argument must be a string or a number, not 'operator.itemgetter'",
     "output_type": "error",
     "traceback": [
      "\u001b[1;31m---------------------------------------------------------------------------\u001b[0m",
      "\u001b[1;31mTypeError\u001b[0m                                 Traceback (most recent call last)",
      "\u001b[1;32m~\\AppData\\Local\\Temp\\ipykernel_14804\\4245563373.py\u001b[0m in \u001b[0;36m<module>\u001b[1;34m\u001b[0m\n\u001b[0;32m      6\u001b[0m \u001b[1;33m\u001b[0m\u001b[0m\n\u001b[0;32m      7\u001b[0m \u001b[0msorted\u001b[0m\u001b[1;33m(\u001b[0m\u001b[0mx\u001b[0m\u001b[1;33m,\u001b[0m \u001b[0mkey\u001b[0m\u001b[1;33m=\u001b[0m\u001b[0moperator\u001b[0m\u001b[1;33m.\u001b[0m\u001b[0mitemgetter\u001b[0m\u001b[1;33m(\u001b[0m\u001b[1;34m'name'\u001b[0m\u001b[1;33m)\u001b[0m\u001b[1;33m)\u001b[0m\u001b[1;33m\u001b[0m\u001b[1;33m\u001b[0m\u001b[0m\n\u001b[1;32m----> 8\u001b[1;33m \u001b[0msorted\u001b[0m\u001b[1;33m(\u001b[0m\u001b[0mx\u001b[0m\u001b[1;33m,\u001b[0m \u001b[0mkey\u001b[0m\u001b[1;33m=\u001b[0m\u001b[0mfloat\u001b[0m\u001b[1;33m(\u001b[0m\u001b[0moperator\u001b[0m\u001b[1;33m.\u001b[0m\u001b[0mitemgetter\u001b[0m\u001b[1;33m(\u001b[0m\u001b[1;34m'test1'\u001b[0m\u001b[1;33m)\u001b[0m\u001b[1;33m)\u001b[0m\u001b[1;33m)\u001b[0m\u001b[1;33m\u001b[0m\u001b[1;33m\u001b[0m\u001b[0m\n\u001b[0m",
      "\u001b[1;31mTypeError\u001b[0m: float() argument must be a string or a number, not 'operator.itemgetter'"
     ]
    }
   ],
   "source": [
    "import operator\n",
    "x = [\n",
    "    {'name': 'student2', 'test1': '100', 'test2': '90','test3': '65', 'test4': '68', 'test5': '94'},\n",
    "    {'name': 'student83', 'test1': '88', 'test2': '76', 'test3': '65', 'test4': '97', 'test5': '82'},\n",
    "    {'name': 'student31', 'test1': '90', 'test2': '87', 'test3': '66', 'test4': '95', 'test5': '72'}]\n",
    "\n",
    "sorted(x, key=operator.itemgetter('name'))\n",
    "sorted(x, key=operator.itemgetter('test1'))"
   ]
  },
  {
   "cell_type": "code",
   "execution_count": 52,
   "id": "3f190688",
   "metadata": {},
   "outputs": [
    {
     "data": {
      "text/plain": [
       "[(2, 1, 3), (2, 2, 3), (1, 10, 2)]"
      ]
     },
     "execution_count": 52,
     "metadata": {},
     "output_type": "execute_result"
    }
   ],
   "source": [
    "x = (\n",
    "    (2, 2, 3),\n",
    "    (2, 1, 3),\n",
    "    (1, 10, 2),\n",
    ")\n",
    "\n",
    "sorted(x, key=lambda ele: (ele[1], ele[0]))"
   ]
  },
  {
   "cell_type": "code",
   "execution_count": 54,
   "id": "5fb0b840",
   "metadata": {},
   "outputs": [
    {
     "data": {
      "text/plain": [
       "[(1, 10, 'F'), (2, 1, 'D'), (2, 2, 'P')]"
      ]
     },
     "execution_count": 54,
     "metadata": {},
     "output_type": "execute_result"
    }
   ],
   "source": [
    "x = (\n",
    "    (2, 2, 'P'),\n",
    "    (2, 1, 'D'),\n",
    "    (1, 10, 'F'),\n",
    ")\n",
    "\n",
    "sorted(x, key=lambda ele: (ele[0], ele[2]))"
   ]
  },
  {
   "cell_type": "code",
   "execution_count": 63,
   "id": "9236b9be",
   "metadata": {},
   "outputs": [
    {
     "data": {
      "text/plain": [
       "[(1, 10, 'F'), (2, 1, 'D'), (2, 2, 'P')]"
      ]
     },
     "execution_count": 63,
     "metadata": {},
     "output_type": "execute_result"
    }
   ],
   "source": [
    "x = (\n",
    "    (2, 2, 'P'),\n",
    "    (2, 1, 'D'),\n",
    "    (1, 10, 'F'),\n",
    ")\n",
    "\n",
    "sorted(x, key=lambda x: '___'.join((str(x[0]), str(x[2]))))"
   ]
  },
  {
   "cell_type": "code",
   "execution_count": 76,
   "id": "620b628e",
   "metadata": {},
   "outputs": [
    {
     "data": {
      "text/plain": [
       "[(2, 1, 'D'), (2, 2, 'P'), (1, 10, 'F')]"
      ]
     },
     "execution_count": 76,
     "metadata": {},
     "output_type": "execute_result"
    }
   ],
   "source": [
    "x = (\n",
    "    (2, 2, 'P'),\n",
    "    (2, 1, 'D'),\n",
    "    (1, 10, 'F'),\n",
    ")\n",
    "\n",
    "sorted(x, key=lambda x: '___'.join((f'{str(x[1]):0>2}', )))"
   ]
  },
  {
   "cell_type": "code",
   "execution_count": 59,
   "id": "9da3b583",
   "metadata": {},
   "outputs": [],
   "source": [
    "x = (2, 2, 'P')"
   ]
  },
  {
   "cell_type": "code",
   "execution_count": 77,
   "id": "4e9cc6b3",
   "metadata": {},
   "outputs": [
    {
     "data": {
      "text/plain": [
       "True"
      ]
     },
     "execution_count": 77,
     "metadata": {},
     "output_type": "execute_result"
    }
   ],
   "source": [
    "'10' < '2'"
   ]
  },
  {
   "cell_type": "code",
   "execution_count": 78,
   "id": "1a346caa",
   "metadata": {},
   "outputs": [
    {
     "data": {
      "text/plain": [
       "False"
      ]
     },
     "execution_count": 78,
     "metadata": {},
     "output_type": "execute_result"
    }
   ],
   "source": [
    "'10' < '02'"
   ]
  },
  {
   "cell_type": "code",
   "execution_count": 62,
   "id": "01b00003",
   "metadata": {},
   "outputs": [
    {
     "data": {
      "text/plain": [
       "'2___P'"
      ]
     },
     "execution_count": 62,
     "metadata": {},
     "output_type": "execute_result"
    }
   ],
   "source": [
    "'___'.join((str(x[0]), str(x[2])))"
   ]
  },
  {
   "cell_type": "code",
   "execution_count": 74,
   "id": "34e3707e",
   "metadata": {},
   "outputs": [
    {
     "data": {
      "text/plain": [
       "'02'"
      ]
     },
     "execution_count": 74,
     "metadata": {},
     "output_type": "execute_result"
    }
   ],
   "source": [
    "x\n",
    "f'{str(x[1]):0>2}'"
   ]
  },
  {
   "cell_type": "code",
   "execution_count": 69,
   "id": "a52b26f3",
   "metadata": {},
   "outputs": [
    {
     "data": {
      "text/plain": [
       "((2, 2, 'P'), (2, 1, 'D'), (1, 10, 'F'))"
      ]
     },
     "execution_count": 69,
     "metadata": {},
     "output_type": "execute_result"
    }
   ],
   "source": [
    "x"
   ]
  },
  {
   "cell_type": "code",
   "execution_count": 70,
   "id": "81d1a1c5",
   "metadata": {},
   "outputs": [],
   "source": [
    "x = (2, 2, 'P')"
   ]
  },
  {
   "cell_type": "code",
   "execution_count": 79,
   "id": "1dd6f85c",
   "metadata": {},
   "outputs": [
    {
     "name": "stdout",
     "output_type": "stream",
     "text": [
      "Defaulting to user installation because normal site-packages is not writeable\n",
      "Collecting natsort\n",
      "  Downloading natsort-8.3.1-py3-none-any.whl (38 kB)\n",
      "Installing collected packages: natsort\n",
      "Successfully installed natsort-8.3.1\n",
      "Note: you may need to restart the kernel to use updated packages.\n"
     ]
    },
    {
     "name": "stderr",
     "output_type": "stream",
     "text": [
      "  WARNING: The script natsort.exe is installed in 'C:\\Users\\mkhaw\\AppData\\Roaming\\Python\\Python39\\Scripts' which is not on PATH.\n",
      "  Consider adding this directory to PATH or, if you prefer to suppress this warning, use --no-warn-script-location.\n"
     ]
    }
   ],
   "source": [
    " pip install natsort"
   ]
  },
  {
   "cell_type": "code",
   "execution_count": 1,
   "id": "176292bb",
   "metadata": {},
   "outputs": [
    {
     "data": {
      "text/plain": [
       "['1 ft 5 in', '10 ft 2 in', '2 ft 11 in', '2 ft 7 in', '7 ft 6 in']"
      ]
     },
     "execution_count": 1,
     "metadata": {},
     "output_type": "execute_result"
    }
   ],
   "source": [
    "a = ['2 ft 7 in', '1 ft 5 in', '10 ft 2 in', '2 ft 11 in', '7 ft 6 in']\n",
    "sorted(a)"
   ]
  },
  {
   "cell_type": "code",
   "execution_count": 2,
   "id": "aebbf0e0",
   "metadata": {},
   "outputs": [
    {
     "data": {
      "text/plain": [
       "['1 ft 5 in', '2 ft 7 in', '2 ft 11 in', '7 ft 6 in', '10 ft 2 in']"
      ]
     },
     "execution_count": 2,
     "metadata": {},
     "output_type": "execute_result"
    }
   ],
   "source": [
    "from natsort import natsorted\n",
    "natsorted(a)"
   ]
  },
  {
   "cell_type": "code",
   "execution_count": null,
   "id": "8267ae44",
   "metadata": {},
   "outputs": [],
   "source": []
  }
 ],
 "metadata": {
  "kernelspec": {
   "display_name": "Python 3 (ipykernel)",
   "language": "python",
   "name": "python3"
  },
  "language_info": {
   "codemirror_mode": {
    "name": "ipython",
    "version": 3
   },
   "file_extension": ".py",
   "mimetype": "text/x-python",
   "name": "python",
   "nbconvert_exporter": "python",
   "pygments_lexer": "ipython3",
   "version": "3.9.13"
  }
 },
 "nbformat": 4,
 "nbformat_minor": 5
}
