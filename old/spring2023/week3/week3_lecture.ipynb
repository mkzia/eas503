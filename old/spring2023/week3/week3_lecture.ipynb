{
 "cells": [
  {
   "cell_type": "code",
   "execution_count": 1,
   "id": "f4989b50",
   "metadata": {},
   "outputs": [
    {
     "name": "stdout",
     "output_type": "stream",
     "text": [
      "Enter the pH level: 5.5\n",
      "OK  is basic.\n"
     ]
    }
   ],
   "source": [
    "ph = float(input('Enter the pH level: '))\n",
    "if ph < 7.0:\n",
    "    ph = 'OK'  #indentation important\n",
    "    print(ph, \" is basic.\") #\n",
    "elif ph > 7.0:\n",
    "    print(ph, \" is basic.\") "
   ]
  },
  {
   "cell_type": "code",
   "execution_count": null,
   "id": "86dc2283",
   "metadata": {},
   "outputs": [],
   "source": [
    "value = input('Enter the pH level: ')\n",
    "if value:\n",
    "    ph = float(value) \n",
    "    if ph < 7.0:\n",
    "        print(ph, \" is acidic.\")\n",
    "    elif ph > 7.0:\n",
    "        print(ph, \" is basic.\")\n",
    "    elif ph == 7.0:\n",
    "        print(ph, \" is neutral.\")\n",
    "\n",
    "else:\n",
    "    print('No pH value was given!')"
   ]
  },
  {
   "cell_type": "code",
   "execution_count": 2,
   "id": "5d732698",
   "metadata": {},
   "outputs": [],
   "source": [
    "from platform import python_version"
   ]
  },
  {
   "cell_type": "code",
   "execution_count": 3,
   "id": "15d3f4a6",
   "metadata": {},
   "outputs": [
    {
     "data": {
      "text/plain": [
       "<function platform.python_version()>"
      ]
     },
     "execution_count": 3,
     "metadata": {},
     "output_type": "execute_result"
    }
   ],
   "source": [
    "python_version"
   ]
  },
  {
   "cell_type": "code",
   "execution_count": 4,
   "id": "7c146906",
   "metadata": {},
   "outputs": [
    {
     "name": "stdout",
     "output_type": "stream",
     "text": [
      "<function python_version at 0x000001DDDF4E6A60>\n"
     ]
    }
   ],
   "source": [
    "print(python_version)"
   ]
  },
  {
   "cell_type": "code",
   "execution_count": 5,
   "id": "4727cd5b",
   "metadata": {},
   "outputs": [
    {
     "name": "stdout",
     "output_type": "stream",
     "text": [
      "C:\\ProgramData\\Anaconda3\\python.exe\n",
      "3.8.16 (default, Jan 17 2023, 22:25:28) [MSC v.1916 64 bit (AMD64)]\n",
      "sys.version_info(major=3, minor=8, micro=16, releaselevel='final', serial=0)\n"
     ]
    }
   ],
   "source": [
    "import sys\n",
    "print(sys.executable)\n",
    "print(sys.version)\n",
    "print(sys.version_info)"
   ]
  },
  {
   "cell_type": "markdown",
   "id": "4f0c0677",
   "metadata": {},
   "source": [
    "Given a number x, print FizzBuzz if it is a multiple of 5 and 7, Fizz if it is a multiple of 5, and Buzz if it is a multiple of 7."
   ]
  },
  {
   "cell_type": "code",
   "execution_count": 6,
   "id": "8727e607",
   "metadata": {},
   "outputs": [
    {
     "name": "stdout",
     "output_type": "stream",
     "text": [
      "Fizz\n"
     ]
    }
   ],
   "source": [
    "x = 35\n",
    "\n",
    "if x % 5 == 0:\n",
    "    print('Fizz')\n",
    "elif x % 7 == 0:\n",
    "    print('Buzz')\n",
    "elif x % 5 == 0 and x % 7 == 0:\n",
    "    print('FizzBuzz')"
   ]
  },
  {
   "cell_type": "code",
   "execution_count": 7,
   "id": "574531a3",
   "metadata": {},
   "outputs": [
    {
     "name": "stdout",
     "output_type": "stream",
     "text": [
      "FizzBuzz\n"
     ]
    }
   ],
   "source": [
    "x = 35\n",
    "\n",
    "if x % 5 == 0 and x % 7 == 0:\n",
    "    print('FizzBuzz')\n",
    "elif x % 5 == 0:\n",
    "    print('Fizz')\n",
    "elif x % 7 == 0:\n",
    "    print('Buzz')\n"
   ]
  },
  {
   "cell_type": "code",
   "execution_count": 8,
   "id": "45f92163",
   "metadata": {},
   "outputs": [
    {
     "name": "stdout",
     "output_type": "stream",
     "text": [
      "FizzBuzz\n",
      "Fizz\n",
      "Buzz\n"
     ]
    }
   ],
   "source": [
    "x = 35\n",
    "\n",
    "if x % 5 == 0 and x % 7 == 0:\n",
    "    print('FizzBuzz')\n",
    "    \n",
    "if x % 5 == 0:\n",
    "    print('Fizz')\n",
    "    \n",
    "if x % 7 == 0:\n",
    "    print('Buzz')\n"
   ]
  },
  {
   "cell_type": "code",
   "execution_count": null,
   "id": "31106f34",
   "metadata": {},
   "outputs": [],
   "source": [
    "# Implement the min() function for three inputs\n",
    "def my_min():\n",
    "    number1 = int(input('Enter first integer: '))\n",
    "    number2 = int(input('Enter second integer: '))\n",
    "    number3 = int(input('Enter third integer: '))\n",
    "\n",
    "    minimum = number1  \n",
    "\n",
    "    if number2 < minimum:\n",
    "        minimum = number2\n",
    "\n",
    "    if number3 < minimum:\n",
    "        minimum = number3\n",
    "\n",
    "    print('Minimum value is', minimum)"
   ]
  },
  {
   "cell_type": "code",
   "execution_count": 10,
   "id": "567d7a6e",
   "metadata": {},
   "outputs": [
    {
     "data": {
      "text/plain": [
       "'F'"
      ]
     },
     "execution_count": 10,
     "metadata": {},
     "output_type": "execute_result"
    }
   ],
   "source": [
    "grades = ['A', 'B', 'C', 'D', 'F']\n",
    "grades[0]\n",
    "grades[4]"
   ]
  },
  {
   "cell_type": "code",
   "execution_count": 11,
   "id": "e20a71e6",
   "metadata": {},
   "outputs": [
    {
     "data": {
      "text/plain": [
       "30"
      ]
     },
     "execution_count": 11,
     "metadata": {},
     "output_type": "execute_result"
    }
   ],
   "source": [
    "days_in_months = ['NOT_A_MONTH', 31, 28, 31, 30, 31, 30, 31, 31, 30, 31, 30, 31]\n",
    "days_in_months[11]"
   ]
  },
  {
   "cell_type": "code",
   "execution_count": null,
   "id": "77a2f5d7",
   "metadata": {},
   "outputs": [],
   "source": [
    "grades_count = [20, 40, 10, 2, 3]"
   ]
  },
  {
   "cell_type": "code",
   "execution_count": 12,
   "id": "9e3bee5d",
   "metadata": {},
   "outputs": [],
   "source": [
    "my_list = list(range(21))"
   ]
  },
  {
   "cell_type": "code",
   "execution_count": 13,
   "id": "de5e7952",
   "metadata": {},
   "outputs": [
    {
     "data": {
      "text/plain": [
       "[0, 1, 2, 3, 4, 5, 6, 7, 8, 9, 10, 11, 12, 13, 14, 15, 16, 17, 18, 19, 20]"
      ]
     },
     "execution_count": 13,
     "metadata": {},
     "output_type": "execute_result"
    }
   ],
   "source": [
    "my_list"
   ]
  },
  {
   "cell_type": "code",
   "execution_count": 14,
   "id": "246da6ae",
   "metadata": {},
   "outputs": [
    {
     "data": {
      "text/plain": [
       "[3, 4, 5, 6, 7, 8, 9, 10, 11, 12, 13, 14, 15, 16, 17, 18, 19, 20]"
      ]
     },
     "execution_count": 14,
     "metadata": {},
     "output_type": "execute_result"
    }
   ],
   "source": [
    "my_list[3:] # [start:end:step]"
   ]
  },
  {
   "cell_type": "code",
   "execution_count": 17,
   "id": "9b8083f9",
   "metadata": {},
   "outputs": [],
   "source": [
    "my_list = [1, 2, 3, 4, 5, 6, 7, 8, 9, 10, 11, 12, 13, 14, 15, 16, 17, 18, 19, 20]"
   ]
  },
  {
   "cell_type": "code",
   "execution_count": 18,
   "id": "afff9aa4",
   "metadata": {},
   "outputs": [
    {
     "data": {
      "text/plain": [
       "[4, 5, 6, 7, 8, 9, 10, 11, 12, 13, 14, 15, 16, 17, 18, 19, 20]"
      ]
     },
     "execution_count": 18,
     "metadata": {},
     "output_type": "execute_result"
    }
   ],
   "source": [
    "my_list[3:]"
   ]
  },
  {
   "cell_type": "code",
   "execution_count": 19,
   "id": "a1e9834d",
   "metadata": {},
   "outputs": [],
   "source": [
    "my_list = list(range(21))"
   ]
  },
  {
   "cell_type": "code",
   "execution_count": 20,
   "id": "dbd3b2de",
   "metadata": {},
   "outputs": [
    {
     "data": {
      "text/plain": [
       "[0, 1, 2, 3, 4, 5, 6, 7, 8, 9]"
      ]
     },
     "execution_count": 20,
     "metadata": {},
     "output_type": "execute_result"
    }
   ],
   "source": [
    "my_list[:10] "
   ]
  },
  {
   "cell_type": "code",
   "execution_count": 21,
   "id": "a192c014",
   "metadata": {},
   "outputs": [
    {
     "data": {
      "text/plain": [
       "[3, 4, 5, 6, 7, 8, 9]"
      ]
     },
     "execution_count": 21,
     "metadata": {},
     "output_type": "execute_result"
    }
   ],
   "source": [
    "my_list[3:10] "
   ]
  },
  {
   "cell_type": "code",
   "execution_count": 22,
   "id": "9e17c575",
   "metadata": {},
   "outputs": [
    {
     "data": {
      "text/plain": [
       "[3, 5, 7, 9]"
      ]
     },
     "execution_count": 22,
     "metadata": {},
     "output_type": "execute_result"
    }
   ],
   "source": [
    "my_list[3:10:2]"
   ]
  },
  {
   "cell_type": "code",
   "execution_count": 24,
   "id": "4a714881",
   "metadata": {},
   "outputs": [
    {
     "name": "stdout",
     "output_type": "stream",
     "text": [
      "21\n"
     ]
    },
    {
     "data": {
      "text/plain": [
       "[0, 1, 2, 3, 4, 5, 6, 7, 8, 9, 10, 11, 12, 13, 14, 15, 16, 17, 18, 19, 20]"
      ]
     },
     "execution_count": 24,
     "metadata": {},
     "output_type": "execute_result"
    }
   ],
   "source": [
    "length = len(my_list)\n",
    "print(length)\n",
    "my_list[:length]"
   ]
  },
  {
   "cell_type": "code",
   "execution_count": 29,
   "id": "8d621e8b",
   "metadata": {},
   "outputs": [
    {
     "data": {
      "text/plain": [
       "20"
      ]
     },
     "execution_count": 29,
     "metadata": {},
     "output_type": "execute_result"
    }
   ],
   "source": [
    "my_list[-1]"
   ]
  },
  {
   "cell_type": "code",
   "execution_count": 30,
   "id": "9f3485c7",
   "metadata": {},
   "outputs": [
    {
     "data": {
      "text/plain": [
       "'F'"
      ]
     },
     "execution_count": 30,
     "metadata": {},
     "output_type": "execute_result"
    }
   ],
   "source": [
    "grades = ['A', 'B', 'C', 'D', 'F']\n",
    "grades[-1]"
   ]
  },
  {
   "cell_type": "code",
   "execution_count": 31,
   "id": "29a2640e",
   "metadata": {},
   "outputs": [
    {
     "data": {
      "text/plain": [
       "['F', 'D', 'C', 'B', 'A']"
      ]
     },
     "execution_count": 31,
     "metadata": {},
     "output_type": "execute_result"
    }
   ],
   "source": [
    "grades[::-1]"
   ]
  },
  {
   "cell_type": "code",
   "execution_count": 32,
   "id": "16d74c68",
   "metadata": {},
   "outputs": [],
   "source": [
    "grades = ['A', 'B', 'C', 'D', 'F']"
   ]
  },
  {
   "cell_type": "code",
   "execution_count": 33,
   "id": "a5bc9e4f",
   "metadata": {},
   "outputs": [],
   "source": [
    "grades[0] = 'a'"
   ]
  },
  {
   "cell_type": "code",
   "execution_count": 34,
   "id": "11dc51d3",
   "metadata": {},
   "outputs": [
    {
     "data": {
      "text/plain": [
       "['a', 'B', 'C', 'D', 'F']"
      ]
     },
     "execution_count": 34,
     "metadata": {},
     "output_type": "execute_result"
    }
   ],
   "source": [
    "grades"
   ]
  },
  {
   "cell_type": "code",
   "execution_count": 35,
   "id": "961b8d22",
   "metadata": {},
   "outputs": [],
   "source": [
    "grades[1:3] = 'a'"
   ]
  },
  {
   "cell_type": "code",
   "execution_count": 36,
   "id": "c54929de",
   "metadata": {},
   "outputs": [
    {
     "data": {
      "text/plain": [
       "['a', 'a', 'D', 'F']"
      ]
     },
     "execution_count": 36,
     "metadata": {},
     "output_type": "execute_result"
    }
   ],
   "source": [
    "grades"
   ]
  },
  {
   "cell_type": "code",
   "execution_count": 37,
   "id": "82d0060a",
   "metadata": {},
   "outputs": [],
   "source": [
    "grades = ['A', 'B', 'C', 'D', 'F']"
   ]
  },
  {
   "cell_type": "code",
   "execution_count": 38,
   "id": "e179c51d",
   "metadata": {},
   "outputs": [],
   "source": [
    "grades[1:3] = ['a', 'a']"
   ]
  },
  {
   "cell_type": "code",
   "execution_count": 39,
   "id": "74debeda",
   "metadata": {},
   "outputs": [
    {
     "data": {
      "text/plain": [
       "['A', 'a', 'a', 'D', 'F']"
      ]
     },
     "execution_count": 39,
     "metadata": {},
     "output_type": "execute_result"
    }
   ],
   "source": [
    "grades"
   ]
  },
  {
   "cell_type": "code",
   "execution_count": 40,
   "id": "998c3ca2",
   "metadata": {},
   "outputs": [],
   "source": [
    "grades = ['A', 'B', 'C', 'D', 'F']\n",
    "del grades[0]"
   ]
  },
  {
   "cell_type": "code",
   "execution_count": 41,
   "id": "a815793f",
   "metadata": {},
   "outputs": [
    {
     "data": {
      "text/plain": [
       "['B', 'C', 'D', 'F']"
      ]
     },
     "execution_count": 41,
     "metadata": {},
     "output_type": "execute_result"
    }
   ],
   "source": [
    "grades"
   ]
  },
  {
   "cell_type": "code",
   "execution_count": 42,
   "id": "91482c10",
   "metadata": {},
   "outputs": [
    {
     "ename": "SyntaxError",
     "evalue": "invalid syntax (1418841046.py, line 2)",
     "output_type": "error",
     "traceback": [
      "\u001b[1;36m  File \u001b[1;32m\"C:\\Users\\mkhaw\\AppData\\Local\\Temp\\ipykernel_4008\\1418841046.py\"\u001b[1;36m, line \u001b[1;32m2\u001b[0m\n\u001b[1;33m    x = del grades[0]\u001b[0m\n\u001b[1;37m        ^\u001b[0m\n\u001b[1;31mSyntaxError\u001b[0m\u001b[1;31m:\u001b[0m invalid syntax\n"
     ]
    }
   ],
   "source": [
    "grades = ['A', 'B', 'C', 'D', 'F']\n",
    "x = del grades[0]"
   ]
  },
  {
   "cell_type": "code",
   "execution_count": 43,
   "id": "3b4234a7",
   "metadata": {},
   "outputs": [],
   "source": [
    "grades = ['A', 'B', 'C', 'D', 'F']\n",
    "x = grades.pop() "
   ]
  },
  {
   "cell_type": "code",
   "execution_count": 46,
   "id": "cb40fbde",
   "metadata": {},
   "outputs": [
    {
     "data": {
      "text/plain": [
       "['A', 'B', 'C', 'D']"
      ]
     },
     "execution_count": 46,
     "metadata": {},
     "output_type": "execute_result"
    }
   ],
   "source": [
    "grades"
   ]
  },
  {
   "cell_type": "code",
   "execution_count": 45,
   "id": "9a945f42",
   "metadata": {},
   "outputs": [
    {
     "data": {
      "text/plain": [
       "'F'"
      ]
     },
     "execution_count": 45,
     "metadata": {},
     "output_type": "execute_result"
    }
   ],
   "source": [
    "x"
   ]
  },
  {
   "cell_type": "code",
   "execution_count": 47,
   "id": "56c256f2",
   "metadata": {},
   "outputs": [
    {
     "data": {
      "text/plain": [
       "'A'"
      ]
     },
     "execution_count": 47,
     "metadata": {},
     "output_type": "execute_result"
    }
   ],
   "source": [
    "grades.pop(0)"
   ]
  },
  {
   "cell_type": "code",
   "execution_count": 48,
   "id": "e6100be6",
   "metadata": {},
   "outputs": [
    {
     "data": {
      "text/plain": [
       "['B', 'C', 'D']"
      ]
     },
     "execution_count": 48,
     "metadata": {},
     "output_type": "execute_result"
    }
   ],
   "source": [
    "grades"
   ]
  },
  {
   "cell_type": "code",
   "execution_count": 49,
   "id": "e49d85a6",
   "metadata": {},
   "outputs": [
    {
     "ename": "IndexError",
     "evalue": "pop index out of range",
     "output_type": "error",
     "traceback": [
      "\u001b[1;31m---------------------------------------------------------------------------\u001b[0m",
      "\u001b[1;31mIndexError\u001b[0m                                Traceback (most recent call last)",
      "\u001b[1;32m~\\AppData\\Local\\Temp\\ipykernel_4008\\2402554857.py\u001b[0m in \u001b[0;36m<module>\u001b[1;34m\u001b[0m\n\u001b[1;32m----> 1\u001b[1;33m \u001b[0mgrades\u001b[0m\u001b[1;33m.\u001b[0m\u001b[0mpop\u001b[0m\u001b[1;33m(\u001b[0m\u001b[1;36m3\u001b[0m\u001b[1;33m)\u001b[0m\u001b[1;33m\u001b[0m\u001b[1;33m\u001b[0m\u001b[0m\n\u001b[0m",
      "\u001b[1;31mIndexError\u001b[0m: pop index out of range"
     ]
    }
   ],
   "source": [
    "grades.pop(3)"
   ]
  },
  {
   "cell_type": "code",
   "execution_count": 50,
   "id": "20a720c7",
   "metadata": {},
   "outputs": [
    {
     "data": {
      "text/plain": [
       "'D'"
      ]
     },
     "execution_count": 50,
     "metadata": {},
     "output_type": "execute_result"
    }
   ],
   "source": [
    "grades.pop(2)"
   ]
  },
  {
   "cell_type": "code",
   "execution_count": 51,
   "id": "19c0827a",
   "metadata": {},
   "outputs": [
    {
     "data": {
      "text/plain": [
       "['B', 'C']"
      ]
     },
     "execution_count": 51,
     "metadata": {},
     "output_type": "execute_result"
    }
   ],
   "source": [
    "grades"
   ]
  },
  {
   "cell_type": "code",
   "execution_count": 52,
   "id": "68a4dc18",
   "metadata": {},
   "outputs": [
    {
     "ename": "SyntaxError",
     "evalue": "invalid syntax (2704641945.py, line 2)",
     "output_type": "error",
     "traceback": [
      "\u001b[1;36m  File \u001b[1;32m\"C:\\Users\\mkhaw\\AppData\\Local\\Temp\\ipykernel_4008\\2704641945.py\"\u001b[1;36m, line \u001b[1;32m2\u001b[0m\n\u001b[1;33m    my_list.pop(1:3)\u001b[0m\n\u001b[1;37m                 ^\u001b[0m\n\u001b[1;31mSyntaxError\u001b[0m\u001b[1;31m:\u001b[0m invalid syntax\n"
     ]
    }
   ],
   "source": [
    "my_list\n",
    "my_list.pop(1:3)"
   ]
  },
  {
   "cell_type": "code",
   "execution_count": 53,
   "id": "49d2895f",
   "metadata": {},
   "outputs": [],
   "source": [
    "grades1 = ['A', 'B', 'C']\n",
    "grades2 = ['D', 'F']\n",
    "grades = grades1 + grades2"
   ]
  },
  {
   "cell_type": "code",
   "execution_count": 54,
   "id": "b982ccb6",
   "metadata": {},
   "outputs": [
    {
     "data": {
      "text/plain": [
       "['A', 'B', 'C', 'D', 'F']"
      ]
     },
     "execution_count": 54,
     "metadata": {},
     "output_type": "execute_result"
    }
   ],
   "source": [
    "grades"
   ]
  },
  {
   "cell_type": "code",
   "execution_count": null,
   "id": "c5ad1911",
   "metadata": {},
   "outputs": [],
   "source": [
    "x = [1, 2, 3]\n",
    "y = [3, 4, 5]\n",
    "\n",
    "x + y\n",
    "\n",
    "[3, 6, 8]"
   ]
  },
  {
   "cell_type": "code",
   "execution_count": 56,
   "id": "556e8b86",
   "metadata": {},
   "outputs": [],
   "source": [
    "grades = ['A', 'B', 'C', 'D', 'F']\n",
    "grades *= 3"
   ]
  },
  {
   "cell_type": "code",
   "execution_count": 57,
   "id": "48440bd0",
   "metadata": {},
   "outputs": [
    {
     "data": {
      "text/plain": [
       "['A', 'B', 'C', 'D', 'F', 'A', 'B', 'C', 'D', 'F', 'A', 'B', 'C', 'D', 'F']"
      ]
     },
     "execution_count": 57,
     "metadata": {},
     "output_type": "execute_result"
    }
   ],
   "source": [
    "grades"
   ]
  },
  {
   "cell_type": "code",
   "execution_count": 60,
   "id": "b774c22e",
   "metadata": {},
   "outputs": [],
   "source": [
    "my_list2 = [['John', [55, 65, 86]], ['Jane', [70, 85, 80]]]"
   ]
  },
  {
   "cell_type": "code",
   "execution_count": 61,
   "id": "39061fdb",
   "metadata": {},
   "outputs": [
    {
     "data": {
      "text/plain": [
       "85"
      ]
     },
     "execution_count": 61,
     "metadata": {},
     "output_type": "execute_result"
    }
   ],
   "source": [
    "my_list2[1][1][1]"
   ]
  },
  {
   "cell_type": "code",
   "execution_count": 63,
   "id": "e4cf1402",
   "metadata": {},
   "outputs": [
    {
     "data": {
      "text/plain": [
       "True"
      ]
     },
     "execution_count": 63,
     "metadata": {},
     "output_type": "execute_result"
    }
   ],
   "source": [
    "my_str = 'ABCD'\n",
    "'B' in my_str"
   ]
  },
  {
   "cell_type": "code",
   "execution_count": 64,
   "id": "d59247c7",
   "metadata": {},
   "outputs": [
    {
     "data": {
      "text/plain": [
       "['A', 'B', 'C', 'D', 'F', 'A', 'B', 'C', 'D', 'F', 'A', 'B', 'C', 'D', 'F']"
      ]
     },
     "execution_count": 64,
     "metadata": {},
     "output_type": "execute_result"
    }
   ],
   "source": [
    "grades"
   ]
  },
  {
   "cell_type": "code",
   "execution_count": 65,
   "id": "c5b6c0a1",
   "metadata": {},
   "outputs": [
    {
     "data": {
      "text/plain": [
       "True"
      ]
     },
     "execution_count": 65,
     "metadata": {},
     "output_type": "execute_result"
    }
   ],
   "source": [
    "my_list = ['A', 1, 'Spam', True]\n",
    "'A' in my_list"
   ]
  },
  {
   "cell_type": "code",
   "execution_count": 66,
   "id": "1cb33feb",
   "metadata": {},
   "outputs": [
    {
     "data": {
      "text/plain": [
       "False"
      ]
     },
     "execution_count": 66,
     "metadata": {},
     "output_type": "execute_result"
    }
   ],
   "source": [
    "my_list = ['A', 1, 'Spam', True]\n",
    "'B' in my_list"
   ]
  },
  {
   "cell_type": "code",
   "execution_count": 67,
   "id": "e9eb84a2",
   "metadata": {},
   "outputs": [
    {
     "data": {
      "text/plain": [
       "[12, 11, 10, 9, 8, 7, 6, 5, 4, 3, 2, 1, 0]"
      ]
     },
     "execution_count": 67,
     "metadata": {},
     "output_type": "execute_result"
    }
   ],
   "source": [
    "numbers = [3, 4, 8, 9, 5, 6, 7, 0, 1, 2, 10, 11, 12]\n",
    "sorted(numbers, reverse=True)"
   ]
  },
  {
   "cell_type": "code",
   "execution_count": 68,
   "id": "521a6d77",
   "metadata": {},
   "outputs": [],
   "source": [
    "numbers = (3, 4, 8, 9, 5, 6, 7, 0, 1, 2, 10, 11, 12)"
   ]
  },
  {
   "cell_type": "code",
   "execution_count": 69,
   "id": "bfe62c51",
   "metadata": {},
   "outputs": [
    {
     "ename": "TypeError",
     "evalue": "'tuple' object does not support item assignment",
     "output_type": "error",
     "traceback": [
      "\u001b[1;31m---------------------------------------------------------------------------\u001b[0m",
      "\u001b[1;31mTypeError\u001b[0m                                 Traceback (most recent call last)",
      "\u001b[1;32m~\\AppData\\Local\\Temp\\ipykernel_4008\\1504667854.py\u001b[0m in \u001b[0;36m<module>\u001b[1;34m\u001b[0m\n\u001b[1;32m----> 1\u001b[1;33m \u001b[0mnumbers\u001b[0m\u001b[1;33m[\u001b[0m\u001b[1;36m0\u001b[0m\u001b[1;33m]\u001b[0m \u001b[1;33m=\u001b[0m \u001b[1;36m34\u001b[0m\u001b[1;33m\u001b[0m\u001b[1;33m\u001b[0m\u001b[0m\n\u001b[0m",
      "\u001b[1;31mTypeError\u001b[0m: 'tuple' object does not support item assignment"
     ]
    }
   ],
   "source": [
    "numbers[0] = 34"
   ]
  },
  {
   "cell_type": "code",
   "execution_count": 70,
   "id": "db01a4fe",
   "metadata": {},
   "outputs": [
    {
     "name": "stdout",
     "output_type": "stream",
     "text": [
      "[3, 4, 8, 9, 5, 6, 7, 0, 1, 2, 10, 11, 12]\n"
     ]
    }
   ],
   "source": [
    "n = list(numbers)\n",
    "print(n)"
   ]
  },
  {
   "cell_type": "code",
   "execution_count": 71,
   "id": "6459942c",
   "metadata": {},
   "outputs": [],
   "source": [
    "n[0] = 34"
   ]
  },
  {
   "cell_type": "code",
   "execution_count": 72,
   "id": "a5ecd766",
   "metadata": {},
   "outputs": [
    {
     "name": "stdout",
     "output_type": "stream",
     "text": [
      "[34, 4, 8, 9, 5, 6, 7, 0, 1, 2, 10, 11, 12]\n"
     ]
    }
   ],
   "source": [
    "print(n)"
   ]
  },
  {
   "cell_type": "code",
   "execution_count": 73,
   "id": "d451c579",
   "metadata": {},
   "outputs": [],
   "source": [
    "a, b = [3,4]"
   ]
  },
  {
   "cell_type": "code",
   "execution_count": 74,
   "id": "8368cfb6",
   "metadata": {},
   "outputs": [
    {
     "name": "stdout",
     "output_type": "stream",
     "text": [
      "3 4\n"
     ]
    }
   ],
   "source": [
    "print(a, b)"
   ]
  },
  {
   "cell_type": "code",
   "execution_count": 75,
   "id": "0cfcdb6c",
   "metadata": {},
   "outputs": [
    {
     "ename": "ValueError",
     "evalue": "too many values to unpack (expected 2)",
     "output_type": "error",
     "traceback": [
      "\u001b[1;31m---------------------------------------------------------------------------\u001b[0m",
      "\u001b[1;31mValueError\u001b[0m                                Traceback (most recent call last)",
      "\u001b[1;32m~\\AppData\\Local\\Temp\\ipykernel_4008\\2868459303.py\u001b[0m in \u001b[0;36m<module>\u001b[1;34m\u001b[0m\n\u001b[1;32m----> 1\u001b[1;33m \u001b[0ma\u001b[0m\u001b[1;33m,\u001b[0m \u001b[0mb\u001b[0m \u001b[1;33m=\u001b[0m \u001b[1;33m[\u001b[0m\u001b[1;36m3\u001b[0m\u001b[1;33m,\u001b[0m \u001b[1;36m4\u001b[0m\u001b[1;33m,\u001b[0m \u001b[1;36m5\u001b[0m\u001b[1;33m]\u001b[0m\u001b[1;33m\u001b[0m\u001b[1;33m\u001b[0m\u001b[0m\n\u001b[0m",
      "\u001b[1;31mValueError\u001b[0m: too many values to unpack (expected 2)"
     ]
    }
   ],
   "source": [
    "a, b = [3, 4, 5]"
   ]
  },
  {
   "cell_type": "code",
   "execution_count": 78,
   "id": "2f2bfc1c",
   "metadata": {},
   "outputs": [],
   "source": [
    "a, b, *c = [3, 4, 5, 6]"
   ]
  },
  {
   "cell_type": "code",
   "execution_count": 79,
   "id": "cdd15a88",
   "metadata": {},
   "outputs": [
    {
     "name": "stdout",
     "output_type": "stream",
     "text": [
      "3 4 []\n"
     ]
    }
   ],
   "source": [
    "print(a, b, c)"
   ]
  },
  {
   "cell_type": "code",
   "execution_count": 80,
   "id": "0337c5f5",
   "metadata": {},
   "outputs": [
    {
     "name": "stdout",
     "output_type": "stream",
     "text": [
      "3 4 []\n"
     ]
    }
   ],
   "source": [
    "a, b, *c = [3, 4]\n",
    "print(a, b, c)"
   ]
  },
  {
   "cell_type": "code",
   "execution_count": 81,
   "id": "bf0700e4",
   "metadata": {},
   "outputs": [],
   "source": [
    "*a, b = [3, 4, 5]"
   ]
  },
  {
   "cell_type": "code",
   "execution_count": 82,
   "id": "7b0adfdc",
   "metadata": {},
   "outputs": [
    {
     "name": "stdout",
     "output_type": "stream",
     "text": [
      "[3, 4] 5\n"
     ]
    }
   ],
   "source": [
    "print(a, b)"
   ]
  },
  {
   "cell_type": "code",
   "execution_count": 83,
   "id": "94c6dc70",
   "metadata": {},
   "outputs": [],
   "source": [
    "*a, b = [3, 4, 5, 6, 7]"
   ]
  },
  {
   "cell_type": "code",
   "execution_count": 84,
   "id": "536bb028",
   "metadata": {},
   "outputs": [
    {
     "name": "stdout",
     "output_type": "stream",
     "text": [
      "[3, 4, 5, 6] 7\n"
     ]
    }
   ],
   "source": [
    "print(a, b)"
   ]
  },
  {
   "cell_type": "code",
   "execution_count": 85,
   "id": "549de539",
   "metadata": {},
   "outputs": [
    {
     "ename": "SyntaxError",
     "evalue": "two starred expressions in assignment (1996122506.py, line 1)",
     "output_type": "error",
     "traceback": [
      "\u001b[1;36m  File \u001b[1;32m\"C:\\Users\\mkhaw\\AppData\\Local\\Temp\\ipykernel_4008\\1996122506.py\"\u001b[1;36m, line \u001b[1;32m1\u001b[0m\n\u001b[1;33m    *a, b, *c = [3, 4, 5, 6, 7, 4, 4, 4]\u001b[0m\n\u001b[1;37m    ^\u001b[0m\n\u001b[1;31mSyntaxError\u001b[0m\u001b[1;31m:\u001b[0m two starred expressions in assignment\n"
     ]
    }
   ],
   "source": [
    "*a, b, *c = [3, 4, 5, 6, 7, 4, 4, 4]"
   ]
  },
  {
   "cell_type": "code",
   "execution_count": 86,
   "id": "fa837317",
   "metadata": {},
   "outputs": [
    {
     "name": "stdout",
     "output_type": "stream",
     "text": [
      "['A', 'B', 'C', 'D']\n"
     ]
    }
   ],
   "source": [
    "grades = ['A', 'B', 'C']\n",
    "grades.append('D')\n",
    "print(grades)"
   ]
  },
  {
   "cell_type": "code",
   "execution_count": 87,
   "id": "288fdcf7",
   "metadata": {},
   "outputs": [
    {
     "name": "stdout",
     "output_type": "stream",
     "text": [
      "['A', 'F', 'B', 'C']\n"
     ]
    }
   ],
   "source": [
    "grades = ['A', 'B', 'C']\n",
    "grades.insert(1, 'F')\n",
    "print(grades)"
   ]
  },
  {
   "cell_type": "code",
   "execution_count": 88,
   "id": "d2aa34db",
   "metadata": {},
   "outputs": [
    {
     "name": "stdout",
     "output_type": "stream",
     "text": [
      "['A', 'B', 'C', 'F']\n"
     ]
    }
   ],
   "source": [
    "grades = ['A', 'B', 'C']\n",
    "grades.insert(100000, 'F')\n",
    "print(grades)"
   ]
  },
  {
   "cell_type": "code",
   "execution_count": 89,
   "id": "b4a346e3",
   "metadata": {},
   "outputs": [
    {
     "name": "stdout",
     "output_type": "stream",
     "text": [
      "['B', 'A', 'C']\n"
     ]
    }
   ],
   "source": [
    "grades = ['A', 'B', 'A', 'C']\n",
    "grades.remove('A')\n",
    "print(grades)"
   ]
  },
  {
   "cell_type": "code",
   "execution_count": 90,
   "id": "857fa86c",
   "metadata": {},
   "outputs": [
    {
     "name": "stdout",
     "output_type": "stream",
     "text": [
      "1\n"
     ]
    }
   ],
   "source": [
    "grades = ['A', 'C', 'B', 'C']\n",
    "print(grades.index('C'))"
   ]
  },
  {
   "cell_type": "code",
   "execution_count": 91,
   "id": "a397408c",
   "metadata": {},
   "outputs": [
    {
     "ename": "ValueError",
     "evalue": "'E' is not in list",
     "output_type": "error",
     "traceback": [
      "\u001b[1;31m---------------------------------------------------------------------------\u001b[0m",
      "\u001b[1;31mValueError\u001b[0m                                Traceback (most recent call last)",
      "\u001b[1;32m~\\AppData\\Local\\Temp\\ipykernel_4008\\2330738741.py\u001b[0m in \u001b[0;36m<module>\u001b[1;34m\u001b[0m\n\u001b[0;32m      1\u001b[0m \u001b[0mgrades\u001b[0m \u001b[1;33m=\u001b[0m \u001b[1;33m[\u001b[0m\u001b[1;34m'A'\u001b[0m\u001b[1;33m,\u001b[0m \u001b[1;34m'C'\u001b[0m\u001b[1;33m,\u001b[0m \u001b[1;34m'B'\u001b[0m\u001b[1;33m,\u001b[0m \u001b[1;34m'C'\u001b[0m\u001b[1;33m]\u001b[0m\u001b[1;33m\u001b[0m\u001b[1;33m\u001b[0m\u001b[0m\n\u001b[1;32m----> 2\u001b[1;33m \u001b[0mprint\u001b[0m\u001b[1;33m(\u001b[0m\u001b[0mgrades\u001b[0m\u001b[1;33m.\u001b[0m\u001b[0mindex\u001b[0m\u001b[1;33m(\u001b[0m\u001b[1;34m'E'\u001b[0m\u001b[1;33m)\u001b[0m\u001b[1;33m)\u001b[0m\u001b[1;33m\u001b[0m\u001b[1;33m\u001b[0m\u001b[0m\n\u001b[0m",
      "\u001b[1;31mValueError\u001b[0m: 'E' is not in list"
     ]
    }
   ],
   "source": [
    "grades = ['A', 'C', 'B', 'C']\n",
    "print(grades.index('E'))"
   ]
  },
  {
   "cell_type": "code",
   "execution_count": 92,
   "id": "e246de0d",
   "metadata": {},
   "outputs": [
    {
     "data": {
      "text/plain": [
       "[1, 2, 3, 4, 10, 22]"
      ]
     },
     "execution_count": 92,
     "metadata": {},
     "output_type": "execute_result"
    }
   ],
   "source": [
    "x = [1, 22, 3, 4, 10, 2]\n",
    "sorted(x)"
   ]
  },
  {
   "cell_type": "code",
   "execution_count": 93,
   "id": "d5cf1f2b",
   "metadata": {},
   "outputs": [
    {
     "data": {
      "text/plain": [
       "[1, 22, 3, 4, 10, 2]"
      ]
     },
     "execution_count": 93,
     "metadata": {},
     "output_type": "execute_result"
    }
   ],
   "source": [
    "x"
   ]
  },
  {
   "cell_type": "code",
   "execution_count": 94,
   "id": "fdcbcf39",
   "metadata": {},
   "outputs": [],
   "source": [
    "x.sort()"
   ]
  },
  {
   "cell_type": "code",
   "execution_count": 95,
   "id": "8b66a1f3",
   "metadata": {},
   "outputs": [
    {
     "data": {
      "text/plain": [
       "[1, 2, 3, 4, 10, 22]"
      ]
     },
     "execution_count": 95,
     "metadata": {},
     "output_type": "execute_result"
    }
   ],
   "source": [
    "x"
   ]
  },
  {
   "cell_type": "code",
   "execution_count": 96,
   "id": "670f2bc7",
   "metadata": {},
   "outputs": [],
   "source": [
    "u = x.sort()"
   ]
  },
  {
   "cell_type": "code",
   "execution_count": 97,
   "id": "d8d3cc7a",
   "metadata": {},
   "outputs": [
    {
     "name": "stdout",
     "output_type": "stream",
     "text": [
      "None\n"
     ]
    }
   ],
   "source": [
    "print(u)"
   ]
  },
  {
   "cell_type": "code",
   "execution_count": 99,
   "id": "f370abe1",
   "metadata": {},
   "outputs": [
    {
     "data": {
      "text/plain": [
       "'FDCBA'"
      ]
     },
     "execution_count": 99,
     "metadata": {},
     "output_type": "execute_result"
    }
   ],
   "source": [
    "x = 'ABCDF'\n",
    "\n",
    "x[::-1]"
   ]
  },
  {
   "cell_type": "code",
   "execution_count": 100,
   "id": "dd07e1fc",
   "metadata": {},
   "outputs": [
    {
     "data": {
      "text/plain": [
       "['A', 'B', 'C', 'D', 'F']"
      ]
     },
     "execution_count": 100,
     "metadata": {},
     "output_type": "execute_result"
    }
   ],
   "source": [
    "list(x)"
   ]
  },
  {
   "cell_type": "code",
   "execution_count": 103,
   "id": "cca0faef",
   "metadata": {},
   "outputs": [],
   "source": [
    "y  = list(x)"
   ]
  },
  {
   "cell_type": "code",
   "execution_count": 105,
   "id": "cb2ab10e",
   "metadata": {},
   "outputs": [],
   "source": [
    "y.reverse()"
   ]
  },
  {
   "cell_type": "code",
   "execution_count": 106,
   "id": "82a5fa7d",
   "metadata": {},
   "outputs": [
    {
     "data": {
      "text/plain": [
       "['F', 'D', 'C', 'B', 'A']"
      ]
     },
     "execution_count": 106,
     "metadata": {},
     "output_type": "execute_result"
    }
   ],
   "source": [
    "y"
   ]
  },
  {
   "cell_type": "code",
   "execution_count": 107,
   "id": "fae70839",
   "metadata": {},
   "outputs": [
    {
     "data": {
      "text/plain": [
       "'FDCBA'"
      ]
     },
     "execution_count": 107,
     "metadata": {},
     "output_type": "execute_result"
    }
   ],
   "source": [
    "''.join(y)"
   ]
  },
  {
   "cell_type": "code",
   "execution_count": 108,
   "id": "b3fe5292",
   "metadata": {},
   "outputs": [
    {
     "name": "stdout",
     "output_type": "stream",
     "text": [
      "(1, 2, 4, 5)\n"
     ]
    }
   ],
   "source": [
    "tp = (1, 2, 4, 5)\n",
    "print(tp)"
   ]
  },
  {
   "cell_type": "code",
   "execution_count": 109,
   "id": "7bf66bcd",
   "metadata": {},
   "outputs": [
    {
     "ename": "TypeError",
     "evalue": "'tuple' object does not support item assignment",
     "output_type": "error",
     "traceback": [
      "\u001b[1;31m---------------------------------------------------------------------------\u001b[0m",
      "\u001b[1;31mTypeError\u001b[0m                                 Traceback (most recent call last)",
      "\u001b[1;32m~\\AppData\\Local\\Temp\\ipykernel_4008\\3439868024.py\u001b[0m in \u001b[0;36m<module>\u001b[1;34m\u001b[0m\n\u001b[1;32m----> 1\u001b[1;33m \u001b[0mtp\u001b[0m\u001b[1;33m[\u001b[0m\u001b[1;36m1\u001b[0m\u001b[1;33m]\u001b[0m \u001b[1;33m=\u001b[0m \u001b[1;36m3\u001b[0m\u001b[1;33m\u001b[0m\u001b[1;33m\u001b[0m\u001b[0m\n\u001b[0m",
      "\u001b[1;31mTypeError\u001b[0m: 'tuple' object does not support item assignment"
     ]
    }
   ],
   "source": [
    "tp[1] = 3"
   ]
  },
  {
   "cell_type": "code",
   "execution_count": 110,
   "id": "eca60981",
   "metadata": {},
   "outputs": [
    {
     "data": {
      "text/plain": [
       "5"
      ]
     },
     "execution_count": 110,
     "metadata": {},
     "output_type": "execute_result"
    }
   ],
   "source": [
    "tp[3]"
   ]
  },
  {
   "cell_type": "code",
   "execution_count": 111,
   "id": "d9eca940",
   "metadata": {},
   "outputs": [],
   "source": [
    "my_tuple = (1, 2, 3, [4, 5, 6])"
   ]
  },
  {
   "cell_type": "code",
   "execution_count": 112,
   "id": "9d3d6ea8",
   "metadata": {},
   "outputs": [
    {
     "ename": "TypeError",
     "evalue": "'tuple' object does not support item assignment",
     "output_type": "error",
     "traceback": [
      "\u001b[1;31m---------------------------------------------------------------------------\u001b[0m",
      "\u001b[1;31mTypeError\u001b[0m                                 Traceback (most recent call last)",
      "\u001b[1;32m~\\AppData\\Local\\Temp\\ipykernel_4008\\608613790.py\u001b[0m in \u001b[0;36m<module>\u001b[1;34m\u001b[0m\n\u001b[1;32m----> 1\u001b[1;33m \u001b[0mmy_tuple\u001b[0m\u001b[1;33m[\u001b[0m\u001b[1;36m1\u001b[0m\u001b[1;33m]\u001b[0m \u001b[1;33m=\u001b[0m \u001b[1;36m33\u001b[0m\u001b[1;33m\u001b[0m\u001b[1;33m\u001b[0m\u001b[0m\n\u001b[0m",
      "\u001b[1;31mTypeError\u001b[0m: 'tuple' object does not support item assignment"
     ]
    }
   ],
   "source": [
    "my_tuple[1] = 33"
   ]
  },
  {
   "cell_type": "code",
   "execution_count": 113,
   "id": "9c9ceed9",
   "metadata": {},
   "outputs": [],
   "source": [
    "my_tuple[3][1] = 55"
   ]
  },
  {
   "cell_type": "code",
   "execution_count": 114,
   "id": "33cf5771",
   "metadata": {},
   "outputs": [
    {
     "data": {
      "text/plain": [
       "(1, 2, 3, [4, 55, 6])"
      ]
     },
     "execution_count": 114,
     "metadata": {},
     "output_type": "execute_result"
    }
   ],
   "source": [
    "my_tuple"
   ]
  },
  {
   "cell_type": "code",
   "execution_count": 115,
   "id": "62a93e69",
   "metadata": {},
   "outputs": [
    {
     "ename": "TypeError",
     "evalue": "'tuple' object does not support item assignment",
     "output_type": "error",
     "traceback": [
      "\u001b[1;31m---------------------------------------------------------------------------\u001b[0m",
      "\u001b[1;31mTypeError\u001b[0m                                 Traceback (most recent call last)",
      "\u001b[1;32m~\\AppData\\Local\\Temp\\ipykernel_4008\\2683376048.py\u001b[0m in \u001b[0;36m<module>\u001b[1;34m\u001b[0m\n\u001b[1;32m----> 1\u001b[1;33m \u001b[0mmy_tuple\u001b[0m\u001b[1;33m[\u001b[0m\u001b[1;36m3\u001b[0m\u001b[1;33m]\u001b[0m \u001b[1;33m=\u001b[0m \u001b[1;36m3\u001b[0m\u001b[1;33m\u001b[0m\u001b[1;33m\u001b[0m\u001b[0m\n\u001b[0m",
      "\u001b[1;31mTypeError\u001b[0m: 'tuple' object does not support item assignment"
     ]
    }
   ],
   "source": [
    "my_tuple[3] = 3"
   ]
  },
  {
   "cell_type": "code",
   "execution_count": 116,
   "id": "42c4e0e2",
   "metadata": {},
   "outputs": [
    {
     "ename": "TypeError",
     "evalue": "'tuple' object does not support item assignment",
     "output_type": "error",
     "traceback": [
      "\u001b[1;31m---------------------------------------------------------------------------\u001b[0m",
      "\u001b[1;31mTypeError\u001b[0m                                 Traceback (most recent call last)",
      "\u001b[1;32m~\\AppData\\Local\\Temp\\ipykernel_4008\\4009708277.py\u001b[0m in \u001b[0;36m<module>\u001b[1;34m\u001b[0m\n\u001b[0;32m      1\u001b[0m \u001b[0mx\u001b[0m \u001b[1;33m=\u001b[0m \u001b[1;33m[\u001b[0m\u001b[1;36m1\u001b[0m\u001b[1;33m,\u001b[0m \u001b[1;36m2\u001b[0m\u001b[1;33m,\u001b[0m \u001b[1;36m3\u001b[0m\u001b[1;33m,\u001b[0m \u001b[1;33m(\u001b[0m\u001b[1;36m4\u001b[0m\u001b[1;33m,\u001b[0m \u001b[1;36m5\u001b[0m\u001b[1;33m)\u001b[0m\u001b[1;33m]\u001b[0m\u001b[1;33m\u001b[0m\u001b[1;33m\u001b[0m\u001b[0m\n\u001b[1;32m----> 2\u001b[1;33m \u001b[0mx\u001b[0m\u001b[1;33m[\u001b[0m\u001b[1;33m-\u001b[0m\u001b[1;36m1\u001b[0m\u001b[1;33m]\u001b[0m\u001b[1;33m[\u001b[0m\u001b[1;36m1\u001b[0m\u001b[1;33m]\u001b[0m \u001b[1;33m=\u001b[0m \u001b[1;36m55\u001b[0m\u001b[1;33m\u001b[0m\u001b[1;33m\u001b[0m\u001b[0m\n\u001b[0m",
      "\u001b[1;31mTypeError\u001b[0m: 'tuple' object does not support item assignment"
     ]
    }
   ],
   "source": [
    "x = [1, 2, 3, (4, 5)]\n",
    "x[-1][1] = 55"
   ]
  },
  {
   "cell_type": "code",
   "execution_count": 117,
   "id": "1cb654f0",
   "metadata": {},
   "outputs": [
    {
     "name": "stdout",
     "output_type": "stream",
     "text": [
      "['Doe,', 'John']\n"
     ]
    }
   ],
   "source": [
    "my_string = 'Doe, John'\n",
    "print(my_string.split())"
   ]
  },
  {
   "cell_type": "code",
   "execution_count": 118,
   "id": "2bc7201a",
   "metadata": {},
   "outputs": [],
   "source": [
    "f, l = my_string.split()\n"
   ]
  },
  {
   "cell_type": "code",
   "execution_count": 119,
   "id": "67dd0092",
   "metadata": {},
   "outputs": [
    {
     "name": "stdout",
     "output_type": "stream",
     "text": [
      "Doe, John\n"
     ]
    }
   ],
   "source": [
    "print(f,l)"
   ]
  },
  {
   "cell_type": "code",
   "execution_count": 121,
   "id": "15ed65a8",
   "metadata": {},
   "outputs": [
    {
     "name": "stdout",
     "output_type": "stream",
     "text": [
      "Doe\n"
     ]
    }
   ],
   "source": [
    "f = f[:-1]\n",
    "print(f)"
   ]
  },
  {
   "cell_type": "code",
   "execution_count": null,
   "id": "aa5f6e92",
   "metadata": {},
   "outputs": [],
   "source": [
    "x[1:-1]"
   ]
  },
  {
   "cell_type": "code",
   "execution_count": 122,
   "id": "a74a44a0",
   "metadata": {},
   "outputs": [
    {
     "name": "stdout",
     "output_type": "stream",
     "text": [
      "['Doe', ' John']\n"
     ]
    }
   ],
   "source": [
    "print(my_string.split(','))"
   ]
  },
  {
   "cell_type": "code",
   "execution_count": 123,
   "id": "dca0d266",
   "metadata": {},
   "outputs": [
    {
     "name": "stdout",
     "output_type": "stream",
     "text": [
      "['Doe', 'John']\n"
     ]
    }
   ],
   "source": [
    "print(my_string.split(', '))"
   ]
  },
  {
   "cell_type": "code",
   "execution_count": 124,
   "id": "ff5a302d",
   "metadata": {},
   "outputs": [
    {
     "name": "stdout",
     "output_type": "stream",
     "text": [
      "['range', 'start=3;end=20;step=2']\n"
     ]
    }
   ],
   "source": [
    "my_string = 'range=start=3;end=20;step=2'\n",
    "print(my_string.split('=', 1))"
   ]
  },
  {
   "cell_type": "code",
   "execution_count": 125,
   "id": "108d2353",
   "metadata": {},
   "outputs": [
    {
     "name": "stdout",
     "output_type": "stream",
     "text": [
      "['range', 'start', '3;end', '20;step', '2']\n"
     ]
    }
   ],
   "source": [
    "print(my_string.split('='))"
   ]
  },
  {
   "cell_type": "code",
   "execution_count": 126,
   "id": "31b32064",
   "metadata": {},
   "outputs": [
    {
     "name": "stdout",
     "output_type": "stream",
     "text": [
      "start=3;end=20;step=2\n"
     ]
    }
   ],
   "source": [
    "range_options = my_string.split('=', 1)[1]\n",
    "print(range_options)"
   ]
  },
  {
   "cell_type": "code",
   "execution_count": 127,
   "id": "74d7cb9c",
   "metadata": {},
   "outputs": [
    {
     "name": "stdout",
     "output_type": "stream",
     "text": [
      "start=3 end=20 step=2\n"
     ]
    }
   ],
   "source": [
    "start, end, step = range_options.split(';')\n",
    "print(start, end, step)"
   ]
  },
  {
   "cell_type": "code",
   "execution_count": null,
   "id": "bb31af2c",
   "metadata": {},
   "outputs": [],
   "source": [
    "my_string = 'range=start=3;end=20;step=2'\n",
    "range_options = my_string.split('=', 1)[1]\n",
    "start, end, step = range_options.split(';')\n",
    "start = start.split('=')[1] # or [-1]\n",
    "end = end.split('=')[1] # or [-1]\n",
    "step = step.split('=')[1] # or [-1]\n",
    "print(start, end, step)"
   ]
  },
  {
   "cell_type": "code",
   "execution_count": 128,
   "id": "b813f430",
   "metadata": {},
   "outputs": [],
   "source": [
    "x = 'start=3'"
   ]
  },
  {
   "cell_type": "code",
   "execution_count": 129,
   "id": "f93a4ce6",
   "metadata": {},
   "outputs": [
    {
     "name": "stdout",
     "output_type": "stream",
     "text": [
      "start 3\n"
     ]
    }
   ],
   "source": [
    "a, b = x.split('=')\n",
    "print(a, b)"
   ]
  },
  {
   "cell_type": "code",
   "execution_count": 130,
   "id": "21634a8f",
   "metadata": {},
   "outputs": [
    {
     "data": {
      "text/plain": [
       "'3'"
      ]
     },
     "execution_count": 130,
     "metadata": {},
     "output_type": "execute_result"
    }
   ],
   "source": [
    "x.split('=')[1]"
   ]
  },
  {
   "cell_type": "code",
   "execution_count": 131,
   "id": "818b2bbf",
   "metadata": {},
   "outputs": [
    {
     "data": {
      "text/plain": [
       "['start', '3']"
      ]
     },
     "execution_count": 131,
     "metadata": {},
     "output_type": "execute_result"
    }
   ],
   "source": [
    "x.split('=')"
   ]
  },
  {
   "cell_type": "code",
   "execution_count": 132,
   "id": "2b7848d9",
   "metadata": {},
   "outputs": [
    {
     "name": "stdout",
     "output_type": "stream",
     "text": [
      "First line\n",
      "Second line\n",
      "Third line\n"
     ]
    }
   ],
   "source": [
    "print('First line\\nSecond line\\nThird line')"
   ]
  },
  {
   "cell_type": "code",
   "execution_count": 134,
   "id": "a7d300cb",
   "metadata": {},
   "outputs": [],
   "source": [
    "x = range(0,10,1)"
   ]
  },
  {
   "cell_type": "code",
   "execution_count": 135,
   "id": "a66af004",
   "metadata": {},
   "outputs": [
    {
     "name": "stdout",
     "output_type": "stream",
     "text": [
      "range(0, 10)\n"
     ]
    }
   ],
   "source": [
    "print(x)"
   ]
  },
  {
   "cell_type": "code",
   "execution_count": 137,
   "id": "ce8c91f9",
   "metadata": {},
   "outputs": [
    {
     "data": {
      "text/plain": [
       "range"
      ]
     },
     "execution_count": 137,
     "metadata": {},
     "output_type": "execute_result"
    }
   ],
   "source": [
    "type(range(0,10,1))"
   ]
  },
  {
   "cell_type": "code",
   "execution_count": 136,
   "id": "32fa1550",
   "metadata": {},
   "outputs": [
    {
     "name": "stdout",
     "output_type": "stream",
     "text": [
      "[0, 1, 2, 3, 4, 5, 6, 7, 8, 9]\n"
     ]
    }
   ],
   "source": [
    "x = list(range(0,10,1))\n",
    "print(x)"
   ]
  },
  {
   "cell_type": "code",
   "execution_count": 138,
   "id": "7ecc93f7",
   "metadata": {},
   "outputs": [
    {
     "name": "stdout",
     "output_type": "stream",
     "text": [
      "0\n",
      "1\n",
      "2\n",
      "3\n",
      "4\n",
      "5\n",
      "6\n",
      "7\n",
      "8\n",
      "9\n"
     ]
    }
   ],
   "source": [
    "for ele in range(10):\n",
    "    print(ele)"
   ]
  },
  {
   "cell_type": "code",
   "execution_count": 139,
   "id": "1581d238",
   "metadata": {},
   "outputs": [
    {
     "name": "stdout",
     "output_type": "stream",
     "text": [
      "0\n",
      "1\n",
      "2\n",
      "3\n",
      "4\n",
      "5\n",
      "6\n",
      "7\n",
      "8\n",
      "9\n"
     ]
    }
   ],
   "source": [
    "for ele in range(10):\n",
    "    print(ele)"
   ]
  },
  {
   "cell_type": "code",
   "execution_count": 140,
   "id": "1dad2b19",
   "metadata": {},
   "outputs": [
    {
     "name": "stdout",
     "output_type": "stream",
     "text": [
      "[0, 1, 2, 3, 4, 5, 6, 7, 8, 9]\n"
     ]
    }
   ],
   "source": [
    "x = list(range(10))\n",
    "print(x)"
   ]
  },
  {
   "cell_type": "code",
   "execution_count": 146,
   "id": "126ae9d6",
   "metadata": {},
   "outputs": [
    {
     "ename": "AttributeError",
     "evalue": "'range' object has no attribute 'reverse'",
     "output_type": "error",
     "traceback": [
      "\u001b[1;31m---------------------------------------------------------------------------\u001b[0m",
      "\u001b[1;31mAttributeError\u001b[0m                            Traceback (most recent call last)",
      "\u001b[1;32m~\\AppData\\Local\\Temp\\ipykernel_4008\\2671348029.py\u001b[0m in \u001b[0;36m<module>\u001b[1;34m\u001b[0m\n\u001b[1;32m----> 1\u001b[1;33m \u001b[1;32mfor\u001b[0m \u001b[0mele\u001b[0m \u001b[1;32min\u001b[0m \u001b[0mrange\u001b[0m\u001b[1;33m(\u001b[0m\u001b[1;36m1\u001b[0m\u001b[1;33m,\u001b[0m \u001b[1;36m101\u001b[0m\u001b[1;33m)\u001b[0m\u001b[1;33m.\u001b[0m\u001b[0mreverse\u001b[0m\u001b[1;33m(\u001b[0m\u001b[1;33m)\u001b[0m\u001b[1;33m:\u001b[0m\u001b[1;33m\u001b[0m\u001b[1;33m\u001b[0m\u001b[0m\n\u001b[0m\u001b[0;32m      2\u001b[0m     \u001b[1;32mif\u001b[0m \u001b[0mele\u001b[0m \u001b[1;33m%\u001b[0m \u001b[1;36m5\u001b[0m \u001b[1;33m==\u001b[0m \u001b[1;36m0\u001b[0m \u001b[1;32mand\u001b[0m \u001b[0mele\u001b[0m \u001b[1;33m%\u001b[0m \u001b[1;36m7\u001b[0m \u001b[1;33m==\u001b[0m \u001b[1;36m0\u001b[0m\u001b[1;33m:\u001b[0m\u001b[1;33m\u001b[0m\u001b[1;33m\u001b[0m\u001b[0m\n\u001b[0;32m      3\u001b[0m         \u001b[0mprint\u001b[0m\u001b[1;33m(\u001b[0m\u001b[0mele\u001b[0m\u001b[1;33m,\u001b[0m \u001b[1;34m'FizzBuzz'\u001b[0m\u001b[1;33m)\u001b[0m\u001b[1;33m\u001b[0m\u001b[1;33m\u001b[0m\u001b[0m\n\u001b[0;32m      4\u001b[0m     \u001b[1;32melif\u001b[0m \u001b[0mele\u001b[0m \u001b[1;33m%\u001b[0m \u001b[1;36m5\u001b[0m \u001b[1;33m==\u001b[0m \u001b[1;36m0\u001b[0m\u001b[1;33m:\u001b[0m\u001b[1;33m\u001b[0m\u001b[1;33m\u001b[0m\u001b[0m\n\u001b[0;32m      5\u001b[0m         \u001b[0mprint\u001b[0m\u001b[1;33m(\u001b[0m\u001b[0mele\u001b[0m\u001b[1;33m,\u001b[0m \u001b[1;34m'Fizz'\u001b[0m\u001b[1;33m)\u001b[0m\u001b[1;33m\u001b[0m\u001b[1;33m\u001b[0m\u001b[0m\n",
      "\u001b[1;31mAttributeError\u001b[0m: 'range' object has no attribute 'reverse'"
     ]
    }
   ],
   "source": [
    "for ele in range(1, 101):\n",
    "    if ele % 5 == 0 and ele % 7 == 0:\n",
    "        print(ele, 'FizzBuzz')\n",
    "    elif ele % 5 == 0:\n",
    "        print(ele, 'Fizz')\n",
    "    elif ele % 7 == 0:\n",
    "        print(ele, 'Buzz')\n",
    "    else:\n",
    "        print(ele)"
   ]
  },
  {
   "cell_type": "code",
   "execution_count": 152,
   "id": "7e3913fd",
   "metadata": {},
   "outputs": [
    {
     "data": {
      "text/plain": [
       "[100,\n",
       " 99,\n",
       " 98,\n",
       " 97,\n",
       " 96,\n",
       " 95,\n",
       " 94,\n",
       " 93,\n",
       " 92,\n",
       " 91,\n",
       " 90,\n",
       " 89,\n",
       " 88,\n",
       " 87,\n",
       " 86,\n",
       " 85,\n",
       " 84,\n",
       " 83,\n",
       " 82,\n",
       " 81,\n",
       " 80,\n",
       " 79,\n",
       " 78,\n",
       " 77,\n",
       " 76,\n",
       " 75,\n",
       " 74,\n",
       " 73,\n",
       " 72,\n",
       " 71,\n",
       " 70,\n",
       " 69,\n",
       " 68,\n",
       " 67,\n",
       " 66,\n",
       " 65,\n",
       " 64,\n",
       " 63,\n",
       " 62,\n",
       " 61,\n",
       " 60,\n",
       " 59,\n",
       " 58,\n",
       " 57,\n",
       " 56,\n",
       " 55,\n",
       " 54,\n",
       " 53,\n",
       " 52,\n",
       " 51,\n",
       " 50,\n",
       " 49,\n",
       " 48,\n",
       " 47,\n",
       " 46,\n",
       " 45,\n",
       " 44,\n",
       " 43,\n",
       " 42,\n",
       " 41,\n",
       " 40,\n",
       " 39,\n",
       " 38,\n",
       " 37,\n",
       " 36,\n",
       " 35,\n",
       " 34,\n",
       " 33,\n",
       " 32,\n",
       " 31,\n",
       " 30,\n",
       " 29,\n",
       " 28,\n",
       " 27,\n",
       " 26,\n",
       " 25,\n",
       " 24,\n",
       " 23,\n",
       " 22,\n",
       " 21,\n",
       " 20,\n",
       " 19,\n",
       " 18,\n",
       " 17,\n",
       " 16,\n",
       " 15,\n",
       " 14,\n",
       " 13,\n",
       " 12,\n",
       " 11,\n",
       " 10,\n",
       " 9,\n",
       " 8,\n",
       " 7,\n",
       " 6,\n",
       " 5,\n",
       " 4,\n",
       " 3,\n",
       " 2,\n",
       " 1]"
      ]
     },
     "execution_count": 152,
     "metadata": {},
     "output_type": "execute_result"
    }
   ],
   "source": [
    "list(range(100, 0, -1))"
   ]
  },
  {
   "cell_type": "code",
   "execution_count": null,
   "id": "8be705ac",
   "metadata": {},
   "outputs": [],
   "source": []
  },
  {
   "cell_type": "code",
   "execution_count": 154,
   "id": "b4f2212f",
   "metadata": {},
   "outputs": [
    {
     "name": "stdout",
     "output_type": "stream",
     "text": [
      "0 4\n",
      "1 10\n",
      "2 3\n",
      "3 8\n",
      "4 -6\n"
     ]
    }
   ],
   "source": [
    "values = [4, 10, 3, 8, -6]\n",
    "length = len(values)\n",
    "for i in range(length):\n",
    "    print(i, values[i])"
   ]
  },
  {
   "cell_type": "code",
   "execution_count": null,
   "id": "e3359a7c",
   "metadata": {},
   "outputs": [],
   "source": [
    "(for i=0; i<length; i++) {\n",
    "    \n",
    "}"
   ]
  },
  {
   "cell_type": "code",
   "execution_count": 155,
   "id": "498b2cf4",
   "metadata": {},
   "outputs": [
    {
     "name": "stdout",
     "output_type": "stream",
     "text": [
      "4\n",
      "10\n",
      "3\n",
      "8\n",
      "-6\n"
     ]
    }
   ],
   "source": [
    "for ele in values:\n",
    "    print(ele)"
   ]
  },
  {
   "cell_type": "code",
   "execution_count": 157,
   "id": "1b90d604",
   "metadata": {},
   "outputs": [
    {
     "name": "stdout",
     "output_type": "stream",
     "text": [
      "0 4\n",
      "1 10\n",
      "2 3\n",
      "3 8\n",
      "4 -6\n"
     ]
    }
   ],
   "source": [
    "for idx, ele in enumerate(values):\n",
    "    print(idx, ele)"
   ]
  },
  {
   "cell_type": "code",
   "execution_count": 158,
   "id": "81760e80",
   "metadata": {},
   "outputs": [],
   "source": [
    "x = enumerate(values)"
   ]
  },
  {
   "cell_type": "code",
   "execution_count": 159,
   "id": "55c4d111",
   "metadata": {},
   "outputs": [
    {
     "name": "stdout",
     "output_type": "stream",
     "text": [
      "<enumerate object at 0x000001DDE1F8B080>\n"
     ]
    }
   ],
   "source": [
    "print(x)"
   ]
  },
  {
   "cell_type": "code",
   "execution_count": 160,
   "id": "678d4366",
   "metadata": {},
   "outputs": [
    {
     "name": "stdout",
     "output_type": "stream",
     "text": [
      "0 4\n",
      "1 10\n",
      "2 3\n",
      "3 8\n",
      "4 -6\n"
     ]
    }
   ],
   "source": [
    "for idx, ele in x:\n",
    "    print(idx, ele)"
   ]
  },
  {
   "cell_type": "code",
   "execution_count": 161,
   "id": "a354b66f",
   "metadata": {},
   "outputs": [],
   "source": [
    "for idx, ele in x:\n",
    "    print(idx, ele)"
   ]
  },
  {
   "cell_type": "code",
   "execution_count": 162,
   "id": "3320409a",
   "metadata": {
    "scrolled": true
   },
   "outputs": [
    {
     "name": "stdout",
     "output_type": "stream",
     "text": [
      "(0, 4)\n",
      "(1, 10)\n",
      "(2, 3)\n",
      "(3, 8)\n",
      "(4, -6)\n"
     ]
    }
   ],
   "source": [
    "for ele in enumerate(values):\n",
    "    print(ele)"
   ]
  },
  {
   "cell_type": "code",
   "execution_count": 163,
   "id": "d1f22fb1",
   "metadata": {},
   "outputs": [
    {
     "name": "stdout",
     "output_type": "stream",
     "text": [
      "0 4\n",
      "1 10\n",
      "2 3\n",
      "3 8\n",
      "4 -6\n"
     ]
    }
   ],
   "source": [
    "for idx, ele in enumerate(values):\n",
    "    print(idx, ele)"
   ]
  },
  {
   "cell_type": "code",
   "execution_count": null,
   "id": "a9aa3135",
   "metadata": {},
   "outputs": [],
   "source": [
    "idx, ele = (0, 4)"
   ]
  },
  {
   "cell_type": "code",
   "execution_count": 164,
   "id": "31d27630",
   "metadata": {},
   "outputs": [],
   "source": [
    "values = [4, 10, 3, 8, -6]\n",
    "for i in range(len(values)):\n",
    "    values[i] = values[i] * 2"
   ]
  },
  {
   "cell_type": "code",
   "execution_count": 168,
   "id": "922a3d58",
   "metadata": {},
   "outputs": [
    {
     "data": {
      "text/plain": [
       "[(0, 8), (1, 20), (2, 6), (3, 16), (4, -12)]"
      ]
     },
     "execution_count": 168,
     "metadata": {},
     "output_type": "execute_result"
    }
   ],
   "source": [
    "list(enumerate(values))"
   ]
  },
  {
   "cell_type": "code",
   "execution_count": 165,
   "id": "dc2db81d",
   "metadata": {},
   "outputs": [
    {
     "data": {
      "text/plain": [
       "[8, 20, 6, 16, -12]"
      ]
     },
     "execution_count": 165,
     "metadata": {},
     "output_type": "execute_result"
    }
   ],
   "source": [
    "values"
   ]
  },
  {
   "cell_type": "code",
   "execution_count": 166,
   "id": "760995d8",
   "metadata": {},
   "outputs": [],
   "source": [
    "values = [4, 10, 3, 8, -6]\n",
    "for i, e in enumerate(values):\n",
    "    values[i] = e * 2"
   ]
  },
  {
   "cell_type": "code",
   "execution_count": 167,
   "id": "3589e118",
   "metadata": {},
   "outputs": [
    {
     "data": {
      "text/plain": [
       "[8, 20, 6, 16, -12]"
      ]
     },
     "execution_count": 167,
     "metadata": {},
     "output_type": "execute_result"
    }
   ],
   "source": [
    "values"
   ]
  },
  {
   "cell_type": "code",
   "execution_count": 169,
   "id": "80dd46f4",
   "metadata": {},
   "outputs": [
    {
     "data": {
      "text/plain": [
       "[(1, 8), (2, 20), (3, 6), (4, 16), (5, -12)]"
      ]
     },
     "execution_count": 169,
     "metadata": {},
     "output_type": "execute_result"
    }
   ],
   "source": [
    "list(enumerate(values, 1))"
   ]
  },
  {
   "cell_type": "code",
   "execution_count": 170,
   "id": "ebe06d5b",
   "metadata": {},
   "outputs": [
    {
     "data": {
      "text/plain": [
       "[(100, 8), (101, 20), (102, 6), (103, 16), (104, -12)]"
      ]
     },
     "execution_count": 170,
     "metadata": {},
     "output_type": "execute_result"
    }
   ],
   "source": [
    "list(enumerate(values, 100))"
   ]
  },
  {
   "cell_type": "code",
   "execution_count": 171,
   "id": "7b1599a6",
   "metadata": {},
   "outputs": [
    {
     "name": "stdout",
     "output_type": "stream",
     "text": [
      "Li 6.941\n",
      "Na 22.98976928\n",
      "K 39.0983\n"
     ]
    }
   ],
   "source": [
    "metals = ['Li', 'Na', 'K']\n",
    "weights = [6.941, 22.98976928, 39.0983]\n",
    "for i in range(len(metals)):\n",
    "    print(metals[i], weights[i])"
   ]
  },
  {
   "cell_type": "code",
   "execution_count": 172,
   "id": "c8aeb71e",
   "metadata": {},
   "outputs": [
    {
     "name": "stdout",
     "output_type": "stream",
     "text": [
      "Li 6.941\n",
      "Na 22.98976928\n",
      "K 39.0983\n"
     ]
    }
   ],
   "source": [
    "metals = ['Li', 'Na', 'K']\n",
    "weights = [6.941, 22.98976928, 39.0983]\n",
    "for metal, weight in zip(metals, weights):\n",
    "    print(metal, weight)"
   ]
  },
  {
   "cell_type": "code",
   "execution_count": 173,
   "id": "4a9aaf39",
   "metadata": {},
   "outputs": [
    {
     "name": "stdout",
     "output_type": "stream",
     "text": [
      "Li 6.941\n",
      "Na 22.98976928\n",
      "K 39.0983\n"
     ]
    }
   ],
   "source": [
    "x = zip(metals, weights)\n",
    "\n",
    "for metal, weight in x:\n",
    "    print(metal, weight)"
   ]
  },
  {
   "cell_type": "code",
   "execution_count": 174,
   "id": "12921d66",
   "metadata": {},
   "outputs": [],
   "source": [
    "for metal, weight in x:\n",
    "    print(metal, weight)"
   ]
  },
  {
   "cell_type": "code",
   "execution_count": 175,
   "id": "21baaf01",
   "metadata": {},
   "outputs": [
    {
     "name": "stdout",
     "output_type": "stream",
     "text": [
      "Li 6.941\n",
      "Na 22.98976928\n",
      "K 39.0983\n"
     ]
    }
   ],
   "source": [
    "metals = ['Li', 'Na', 'K', 'H']\n",
    "weights = [6.941, 22.98976928, 39.0983]\n",
    "for metal, weight in zip(metals, weights):\n",
    "    print(metal, weight)"
   ]
  },
  {
   "cell_type": "code",
   "execution_count": 176,
   "id": "6ab837ed",
   "metadata": {},
   "outputs": [
    {
     "name": "stdout",
     "output_type": "stream",
     "text": [
      "Li\n",
      "Na\n",
      "K\n",
      "F\n",
      "Cl\n",
      "Br\n"
     ]
    }
   ],
   "source": [
    "elements = [['Li', 'Na', 'K'], ['F', 'Cl', 'Br']]\n",
    "for inner_list in elements:\n",
    "    for item in inner_list:\n",
    "        print(item)"
   ]
  },
  {
   "cell_type": "code",
   "execution_count": 177,
   "id": "15582ea2",
   "metadata": {},
   "outputs": [
    {
     "name": "stdout",
     "output_type": "stream",
     "text": [
      "3\n",
      "3\n",
      "4\n"
     ]
    }
   ],
   "source": [
    "info = [\n",
    "    ['Isaac Newton', 1643, 1727],\n",
    "    ['Charles Darwin', 1809, 1882],\n",
    "    ['Alan Turing', 1912, 1954, 'alan@bletchley.uk']\n",
    "]\n",
    "for item in info:\n",
    "    print(len(item))"
   ]
  },
  {
   "cell_type": "code",
   "execution_count": 185,
   "id": "8c58b0e6",
   "metadata": {},
   "outputs": [
    {
     "name": "stdout",
     "output_type": "stream",
     "text": [
      "1134000234 0001123344 4433211000\n"
     ]
    }
   ],
   "source": [
    "string1 = '1134000234'\n",
    "string2 = ''.join(sorted(list(string1)))\n",
    "string3 = ''.join(sorted(list(string1), reverse=True))\n",
    "print(string1, string2, string3)"
   ]
  },
  {
   "cell_type": "code",
   "execution_count": 179,
   "id": "712e8f3f",
   "metadata": {},
   "outputs": [],
   "source": [
    "store = [0] * 10"
   ]
  },
  {
   "cell_type": "code",
   "execution_count": 180,
   "id": "cc2018ec",
   "metadata": {},
   "outputs": [
    {
     "data": {
      "text/plain": [
       "[0, 0, 0, 0, 0, 0, 0, 0, 0, 0]"
      ]
     },
     "execution_count": 180,
     "metadata": {},
     "output_type": "execute_result"
    }
   ],
   "source": [
    "store"
   ]
  },
  {
   "cell_type": "code",
   "execution_count": 181,
   "id": "87f0c69d",
   "metadata": {},
   "outputs": [],
   "source": [
    "for char in string1:\n",
    "    index = int(char)\n",
    "    store[index] += 1\n"
   ]
  },
  {
   "cell_type": "code",
   "execution_count": 182,
   "id": "32185f4a",
   "metadata": {},
   "outputs": [
    {
     "name": "stdout",
     "output_type": "stream",
     "text": [
      "1134000234\n"
     ]
    }
   ],
   "source": [
    "print(string1)"
   ]
  },
  {
   "cell_type": "code",
   "execution_count": 183,
   "id": "20d18f68",
   "metadata": {},
   "outputs": [
    {
     "name": "stdout",
     "output_type": "stream",
     "text": [
      "[3, 2, 1, 2, 2, 0, 0, 0, 0, 0]\n"
     ]
    }
   ],
   "source": [
    "print(store)"
   ]
  },
  {
   "cell_type": "code",
   "execution_count": 186,
   "id": "63f27e98",
   "metadata": {},
   "outputs": [
    {
     "name": "stdout",
     "output_type": "stream",
     "text": [
      "000\n",
      "00011\n",
      "000112\n",
      "00011233\n",
      "0001123344\n",
      "0001123344\n",
      "0001123344\n",
      "0001123344\n",
      "0001123344\n",
      "0001123344\n",
      "0001123344\n"
     ]
    }
   ],
   "source": [
    "sorted_string = ''\n",
    "for idx, ele in enumerate(store):\n",
    "    sorted_string += str(idx) * ele\n",
    "    print(sorted_string)\n",
    "print(sorted_string)"
   ]
  },
  {
   "cell_type": "code",
   "execution_count": 189,
   "id": "5cfce984",
   "metadata": {},
   "outputs": [
    {
     "name": "stdout",
     "output_type": "stream",
     "text": [
      "4\n",
      "3\n",
      "2\n",
      "1\n",
      "10\n"
     ]
    }
   ],
   "source": [
    "number = 1234\n",
    "sum = 0\n",
    "while number:\n",
    "    print(number % 10)\n",
    "    sum += number % 10\n",
    "    number = number // 10 \n",
    "print(sum)"
   ]
  },
  {
   "cell_type": "code",
   "execution_count": 188,
   "id": "87c20e75",
   "metadata": {},
   "outputs": [
    {
     "data": {
      "text/plain": [
       "4"
      ]
     },
     "execution_count": 188,
     "metadata": {},
     "output_type": "execute_result"
    }
   ],
   "source": [
    "1234 % 10"
   ]
  },
  {
   "cell_type": "code",
   "execution_count": 190,
   "id": "927f82da",
   "metadata": {},
   "outputs": [
    {
     "data": {
      "text/plain": [
       "123"
      ]
     },
     "execution_count": 190,
     "metadata": {},
     "output_type": "execute_result"
    }
   ],
   "source": [
    "1234 // 10 "
   ]
  },
  {
   "cell_type": "code",
   "execution_count": 198,
   "id": "c9284cb5",
   "metadata": {},
   "outputs": [
    {
     "ename": "SyntaxError",
     "evalue": "'continue' not properly in loop (2892553402.py, line 6)",
     "output_type": "error",
     "traceback": [
      "\u001b[1;36m  File \u001b[1;32m\"C:\\Users\\mkhaw\\AppData\\Local\\Temp\\ipykernel_4008\\2892553402.py\"\u001b[1;36m, line \u001b[1;32m6\u001b[0m\n\u001b[1;33m    continue\u001b[0m\n\u001b[1;37m    ^\u001b[0m\n\u001b[1;31mSyntaxError\u001b[0m\u001b[1;31m:\u001b[0m 'continue' not properly in loop\n"
     ]
    }
   ],
   "source": [
    "line = '99.5o'\n",
    "\n",
    "try:\n",
    "    value = float(line)\n",
    "except:\n",
    "    pr\n",
    "    \n",
    "print(value)"
   ]
  },
  {
   "cell_type": "code",
   "execution_count": 194,
   "id": "06137804",
   "metadata": {},
   "outputs": [
    {
     "ename": "ValueError",
     "evalue": "could not convert string to float: '99.5o'",
     "output_type": "error",
     "traceback": [
      "\u001b[1;31m---------------------------------------------------------------------------\u001b[0m",
      "\u001b[1;31mValueError\u001b[0m                                Traceback (most recent call last)",
      "\u001b[1;32m~\\AppData\\Local\\Temp\\ipykernel_4008\\2594725654.py\u001b[0m in \u001b[0;36m<module>\u001b[1;34m\u001b[0m\n\u001b[0;32m      1\u001b[0m \u001b[0mx\u001b[0m \u001b[1;33m=\u001b[0m \u001b[1;34m'99.5o'\u001b[0m\u001b[1;33m\u001b[0m\u001b[1;33m\u001b[0m\u001b[0m\n\u001b[1;32m----> 2\u001b[1;33m \u001b[0mfloat\u001b[0m\u001b[1;33m(\u001b[0m\u001b[0mx\u001b[0m\u001b[1;33m)\u001b[0m\u001b[1;33m\u001b[0m\u001b[1;33m\u001b[0m\u001b[0m\n\u001b[0m",
      "\u001b[1;31mValueError\u001b[0m: could not convert string to float: '99.5o'"
     ]
    }
   ],
   "source": [
    "x = '99.5o'\n",
    "float(x)"
   ]
  },
  {
   "cell_type": "code",
   "execution_count": null,
   "id": "640b0069",
   "metadata": {},
   "outputs": [],
   "source": []
  }
 ],
 "metadata": {
  "kernelspec": {
   "display_name": "Python 3 (ipykernel)",
   "language": "python",
   "name": "python3"
  },
  "language_info": {
   "codemirror_mode": {
    "name": "ipython",
    "version": 3
   },
   "file_extension": ".py",
   "mimetype": "text/x-python",
   "name": "python",
   "nbconvert_exporter": "python",
   "pygments_lexer": "ipython3",
   "version": "3.8.16"
  }
 },
 "nbformat": 4,
 "nbformat_minor": 5
}
