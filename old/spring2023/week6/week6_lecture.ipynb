{
 "cells": [
  {
   "cell_type": "code",
   "execution_count": 4,
   "id": "98cb87e1",
   "metadata": {},
   "outputs": [
    {
     "data": {
      "text/plain": [
       "{1: 1,\n",
       " 2: 4,\n",
       " 3: 27,\n",
       " 4: 16,\n",
       " 5: 125,\n",
       " 6: 36,\n",
       " 7: 343,\n",
       " 8: 64,\n",
       " 9: 729,\n",
       " 10: 100,\n",
       " 11: 1331,\n",
       " 12: 144,\n",
       " 13: 2197,\n",
       " 14: 196,\n",
       " 15: 3375,\n",
       " 16: 256,\n",
       " 17: 4913,\n",
       " 18: 324,\n",
       " 19: 6859,\n",
       " 20: 400}"
      ]
     },
     "execution_count": 4,
     "metadata": {},
     "output_type": "execute_result"
    }
   ],
   "source": [
    "{ num: num*num if num % 2 == 0 else num**3 for num in range(1, 21) }"
   ]
  },
  {
   "cell_type": "code",
   "execution_count": 6,
   "id": "451d185e",
   "metadata": {},
   "outputs": [
    {
     "data": {
      "text/plain": [
       "{1901: 'Not Leap',\n",
       " 1902: 'Not Leap',\n",
       " 1903: 'Not Leap',\n",
       " 1904: 'Leap',\n",
       " 1905: 'Not Leap',\n",
       " 1906: 'Not Leap',\n",
       " 1907: 'Not Leap',\n",
       " 1908: 'Leap',\n",
       " 1909: 'Not Leap',\n",
       " 1910: 'Not Leap',\n",
       " 1911: 'Not Leap',\n",
       " 1912: 'Leap',\n",
       " 1913: 'Not Leap',\n",
       " 1914: 'Not Leap',\n",
       " 1915: 'Not Leap',\n",
       " 1916: 'Leap',\n",
       " 1917: 'Not Leap',\n",
       " 1918: 'Not Leap',\n",
       " 1919: 'Not Leap',\n",
       " 1920: 'Leap',\n",
       " 1921: 'Not Leap',\n",
       " 1922: 'Not Leap',\n",
       " 1923: 'Not Leap',\n",
       " 1924: 'Leap',\n",
       " 1925: 'Not Leap',\n",
       " 1926: 'Not Leap',\n",
       " 1927: 'Not Leap',\n",
       " 1928: 'Leap',\n",
       " 1929: 'Not Leap',\n",
       " 1930: 'Not Leap',\n",
       " 1931: 'Not Leap',\n",
       " 1932: 'Leap',\n",
       " 1933: 'Not Leap',\n",
       " 1934: 'Not Leap',\n",
       " 1935: 'Not Leap',\n",
       " 1936: 'Leap',\n",
       " 1937: 'Not Leap',\n",
       " 1938: 'Not Leap',\n",
       " 1939: 'Not Leap',\n",
       " 1940: 'Leap',\n",
       " 1941: 'Not Leap',\n",
       " 1942: 'Not Leap',\n",
       " 1943: 'Not Leap',\n",
       " 1944: 'Leap',\n",
       " 1945: 'Not Leap',\n",
       " 1946: 'Not Leap',\n",
       " 1947: 'Not Leap',\n",
       " 1948: 'Leap',\n",
       " 1949: 'Not Leap',\n",
       " 1950: 'Not Leap',\n",
       " 1951: 'Not Leap',\n",
       " 1952: 'Leap',\n",
       " 1953: 'Not Leap',\n",
       " 1954: 'Not Leap',\n",
       " 1955: 'Not Leap',\n",
       " 1956: 'Leap',\n",
       " 1957: 'Not Leap',\n",
       " 1958: 'Not Leap',\n",
       " 1959: 'Not Leap',\n",
       " 1960: 'Leap',\n",
       " 1961: 'Not Leap',\n",
       " 1962: 'Not Leap',\n",
       " 1963: 'Not Leap',\n",
       " 1964: 'Leap',\n",
       " 1965: 'Not Leap',\n",
       " 1966: 'Not Leap',\n",
       " 1967: 'Not Leap',\n",
       " 1968: 'Leap',\n",
       " 1969: 'Not Leap',\n",
       " 1970: 'Not Leap',\n",
       " 1971: 'Not Leap',\n",
       " 1972: 'Leap',\n",
       " 1973: 'Not Leap',\n",
       " 1974: 'Not Leap',\n",
       " 1975: 'Not Leap',\n",
       " 1976: 'Leap',\n",
       " 1977: 'Not Leap',\n",
       " 1978: 'Not Leap',\n",
       " 1979: 'Not Leap',\n",
       " 1980: 'Leap',\n",
       " 1981: 'Not Leap',\n",
       " 1982: 'Not Leap',\n",
       " 1983: 'Not Leap',\n",
       " 1984: 'Leap',\n",
       " 1985: 'Not Leap',\n",
       " 1986: 'Not Leap',\n",
       " 1987: 'Not Leap',\n",
       " 1988: 'Leap',\n",
       " 1989: 'Not Leap',\n",
       " 1990: 'Not Leap',\n",
       " 1991: 'Not Leap',\n",
       " 1992: 'Leap',\n",
       " 1993: 'Not Leap',\n",
       " 1994: 'Not Leap',\n",
       " 1995: 'Not Leap',\n",
       " 1996: 'Leap',\n",
       " 1997: 'Not Leap',\n",
       " 1998: 'Not Leap',\n",
       " 1999: 'Not Leap',\n",
       " 2000: 'Leap'}"
      ]
     },
     "execution_count": 6,
     "metadata": {},
     "output_type": "execute_result"
    }
   ],
   "source": [
    "{ year: 'Leap' if year % 4 == 0 else 'Not Leap'  for year in range(1901, 2001) }"
   ]
  },
  {
   "cell_type": "code",
   "execution_count": null,
   "id": "72be4435",
   "metadata": {},
   "outputs": [],
   "source": [
    "# Professor, keys cannot be mutable but you are\n",
    "# taking list as key when comprehending, does this work?"
   ]
  },
  {
   "cell_type": "code",
   "execution_count": null,
   "id": "8655fa69",
   "metadata": {},
   "outputs": [],
   "source": [
    "ele in list # O(N)\n",
    "ele in tuple # O(N)\n",
    "ele in dict # O(1)\n",
    "ele in set # O(1)"
   ]
  },
  {
   "cell_type": "code",
   "execution_count": 7,
   "id": "3c57c569",
   "metadata": {},
   "outputs": [
    {
     "data": {
      "text/plain": [
       "{0, 6, 8}"
      ]
     },
     "execution_count": 7,
     "metadata": {},
     "output_type": "execute_result"
    }
   ],
   "source": [
    "A = {0, 2, 4, 6, 8}\n",
    "B = {1, 2, 3, 4, 5}\n",
    "A - B"
   ]
  },
  {
   "cell_type": "code",
   "execution_count": 8,
   "id": "e67c73bf",
   "metadata": {},
   "outputs": [
    {
     "data": {
      "text/plain": [
       "{1, 3, 5}"
      ]
     },
     "execution_count": 8,
     "metadata": {},
     "output_type": "execute_result"
    }
   ],
   "source": [
    "B - A"
   ]
  },
  {
   "cell_type": "code",
   "execution_count": 9,
   "id": "1359bda6",
   "metadata": {},
   "outputs": [
    {
     "data": {
      "text/plain": [
       "True"
      ]
     },
     "execution_count": 9,
     "metadata": {},
     "output_type": "execute_result"
    }
   ],
   "source": [
    "A = {1, 2, 3, 4, 5}\n",
    "B = {3, 4}\n",
    "B < A"
   ]
  },
  {
   "cell_type": "code",
   "execution_count": 10,
   "id": "ad3b664a",
   "metadata": {},
   "outputs": [
    {
     "data": {
      "text/plain": [
       "True"
      ]
     },
     "execution_count": 10,
     "metadata": {},
     "output_type": "execute_result"
    }
   ],
   "source": [
    "A = {1, 2, 3, 4, 5}\n",
    "B = {3, 4}\n",
    "B <= A"
   ]
  },
  {
   "cell_type": "code",
   "execution_count": null,
   "id": "d59a8474",
   "metadata": {},
   "outputs": [],
   "source": [
    "A = {1, 2, 3, 4, 5}\n",
    "B = {3, 4}\n",
    "B <= A"
   ]
  },
  {
   "cell_type": "code",
   "execution_count": 11,
   "id": "e8a4a47d",
   "metadata": {},
   "outputs": [
    {
     "name": "stdout",
     "output_type": "stream",
     "text": [
      "{1, 2, 3, 4, 5, 6}\n"
     ]
    }
   ],
   "source": [
    "A = {1, 2, 3, 4, 5}\n",
    "A.add(6)\n",
    "print(A)"
   ]
  },
  {
   "cell_type": "code",
   "execution_count": 12,
   "id": "ea8e05b0",
   "metadata": {},
   "outputs": [],
   "source": [
    "A.add(1)"
   ]
  },
  {
   "cell_type": "code",
   "execution_count": 13,
   "id": "1e528ea4",
   "metadata": {},
   "outputs": [
    {
     "data": {
      "text/plain": [
       "{1, 2, 3, 4, 5, 6}"
      ]
     },
     "execution_count": 13,
     "metadata": {},
     "output_type": "execute_result"
    }
   ],
   "source": [
    "A"
   ]
  },
  {
   "cell_type": "code",
   "execution_count": 14,
   "id": "f2935f41",
   "metadata": {},
   "outputs": [
    {
     "data": {
      "text/plain": [
       "{'Bio', 'Chem', 'Eco', 'Mth', 'Phys'}"
      ]
     },
     "execution_count": 14,
     "metadata": {},
     "output_type": "execute_result"
    }
   ],
   "source": [
    "majors = ['Bio', 'Chem', 'Phys', 'Eco', 'Mth', 'Mth']\n",
    "\n",
    "set(majors)"
   ]
  },
  {
   "cell_type": "code",
   "execution_count": 15,
   "id": "23f7bfa9",
   "metadata": {},
   "outputs": [
    {
     "data": {
      "text/plain": [
       "['Eco', 'Chem', 'Bio', 'Phys', 'Mth']"
      ]
     },
     "execution_count": 15,
     "metadata": {},
     "output_type": "execute_result"
    }
   ],
   "source": [
    "list(set(majors))"
   ]
  },
  {
   "cell_type": "code",
   "execution_count": null,
   "id": "eac2ed89",
   "metadata": {},
   "outputs": [],
   "source": [
    "#mrn,admission,discharge\n",
    "\n",
    "mrns = set()\n",
    "with open(filename) as file:\n",
    "    for line in file:\n",
    "        line = line.strip()\n",
    "        if not line:\n",
    "            continue\n",
    "        \n",
    "        line = line.split(',')\n",
    "        mrns.add(line[0])"
   ]
  },
  {
   "cell_type": "code",
   "execution_count": 16,
   "id": "6464d2ab",
   "metadata": {},
   "outputs": [
    {
     "name": "stdout",
     "output_type": "stream",
     "text": [
      "{2, 3, 4, 5}\n"
     ]
    },
    {
     "ename": "KeyError",
     "evalue": "'P'",
     "output_type": "error",
     "traceback": [
      "\u001b[1;31m---------------------------------------------------------------------------\u001b[0m",
      "\u001b[1;31mKeyError\u001b[0m                                  Traceback (most recent call last)",
      "\u001b[1;32m~\\AppData\\Local\\Temp\\ipykernel_24804\\240188243.py\u001b[0m in \u001b[0;36m<module>\u001b[1;34m\u001b[0m\n\u001b[0;32m      2\u001b[0m \u001b[0mA\u001b[0m\u001b[1;33m.\u001b[0m\u001b[0mremove\u001b[0m\u001b[1;33m(\u001b[0m\u001b[1;36m1\u001b[0m\u001b[1;33m)\u001b[0m\u001b[1;33m\u001b[0m\u001b[1;33m\u001b[0m\u001b[0m\n\u001b[0;32m      3\u001b[0m \u001b[0mprint\u001b[0m\u001b[1;33m(\u001b[0m\u001b[0mA\u001b[0m\u001b[1;33m)\u001b[0m\u001b[1;33m\u001b[0m\u001b[1;33m\u001b[0m\u001b[0m\n\u001b[1;32m----> 4\u001b[1;33m \u001b[0mA\u001b[0m\u001b[1;33m.\u001b[0m\u001b[0mremove\u001b[0m\u001b[1;33m(\u001b[0m\u001b[1;34m'P'\u001b[0m\u001b[1;33m)\u001b[0m\u001b[1;33m\u001b[0m\u001b[1;33m\u001b[0m\u001b[0m\n\u001b[0m",
      "\u001b[1;31mKeyError\u001b[0m: 'P'"
     ]
    }
   ],
   "source": [
    "A = {1, 2, 3, 4, 5}\n",
    "A.remove(1)\n",
    "print(A)\n",
    "A.remove('P')"
   ]
  },
  {
   "cell_type": "code",
   "execution_count": 17,
   "id": "c81bafac",
   "metadata": {},
   "outputs": [
    {
     "data": {
      "text/plain": [
       "1"
      ]
     },
     "execution_count": 17,
     "metadata": {},
     "output_type": "execute_result"
    }
   ],
   "source": [
    "A = {1, 2, 3, 4, 5}\n",
    "A.pop()"
   ]
  },
  {
   "cell_type": "code",
   "execution_count": 18,
   "id": "c12f2568",
   "metadata": {},
   "outputs": [],
   "source": [
    "d1 = dict(a=1, b=2, c=3, d=4)\n",
    "d2 = dict(b=20, d=40, e=50)"
   ]
  },
  {
   "cell_type": "code",
   "execution_count": 19,
   "id": "5b41a56f",
   "metadata": {},
   "outputs": [
    {
     "data": {
      "text/plain": [
       "{'a': 1, 'b': 2, 'c': 3, 'd': 4}"
      ]
     },
     "execution_count": 19,
     "metadata": {},
     "output_type": "execute_result"
    }
   ],
   "source": [
    "d1"
   ]
  },
  {
   "cell_type": "code",
   "execution_count": 20,
   "id": "aafde361",
   "metadata": {},
   "outputs": [
    {
     "data": {
      "text/plain": [
       "{'b': 20, 'd': 40, 'e': 50}"
      ]
     },
     "execution_count": 20,
     "metadata": {},
     "output_type": "execute_result"
    }
   ],
   "source": [
    "d2"
   ]
  },
  {
   "cell_type": "code",
   "execution_count": 28,
   "id": "ed4b8482",
   "metadata": {},
   "outputs": [],
   "source": [
    "#student_name, studentid, exam1, exam2, exam3\n",
    "\n",
    "d1 = dict(student_name='John', exam1=20, exam2=30, exam3=40)\n",
    "d2 = dict(student_name='Jane', exam1=15, exam2=36, exam3=52)\n",
    "d3 = dict(student_name='Jane', student_id='Bio', admission_year=2023)\n",
    "\n",
    "exams = {'exam1', 'exam2', 'exam3'}"
   ]
  },
  {
   "cell_type": "code",
   "execution_count": 30,
   "id": "431085ce",
   "metadata": {},
   "outputs": [
    {
     "data": {
      "text/plain": [
       "3"
      ]
     },
     "execution_count": 30,
     "metadata": {},
     "output_type": "execute_result"
    }
   ],
   "source": [
    "len(d1.keys() & exams)"
   ]
  },
  {
   "cell_type": "code",
   "execution_count": 31,
   "id": "1fe92d2f",
   "metadata": {},
   "outputs": [
    {
     "data": {
      "text/plain": [
       "3"
      ]
     },
     "execution_count": 31,
     "metadata": {},
     "output_type": "execute_result"
    }
   ],
   "source": [
    "len(d2.keys() & exams)"
   ]
  },
  {
   "cell_type": "code",
   "execution_count": 32,
   "id": "170b7a2f",
   "metadata": {},
   "outputs": [
    {
     "data": {
      "text/plain": [
       "0"
      ]
     },
     "execution_count": 32,
     "metadata": {},
     "output_type": "execute_result"
    }
   ],
   "source": [
    "len(d3.keys() & exams)"
   ]
  },
  {
   "cell_type": "code",
   "execution_count": 33,
   "id": "020da214",
   "metadata": {},
   "outputs": [
    {
     "ename": "SyntaxError",
     "evalue": "invalid syntax (3004467664.py, line 1)",
     "output_type": "error",
     "traceback": [
      "\u001b[1;36m  File \u001b[1;32m\"C:\\Users\\mkhaw\\AppData\\Local\\Temp\\ipykernel_24804\\3004467664.py\"\u001b[1;36m, line \u001b[1;32m1\u001b[0m\n\u001b[1;33m    d3.keys() && exams\u001b[0m\n\u001b[1;37m               ^\u001b[0m\n\u001b[1;31mSyntaxError\u001b[0m\u001b[1;31m:\u001b[0m invalid syntax\n"
     ]
    }
   ],
   "source": [
    "d3.keys() && exams"
   ]
  },
  {
   "cell_type": "code",
   "execution_count": 34,
   "id": "4c53cc27",
   "metadata": {},
   "outputs": [
    {
     "name": "stdout",
     "output_type": "stream",
     "text": [
      "2\n",
      "3\n",
      "4\n",
      "5\n"
     ]
    }
   ],
   "source": [
    "for ele in A:\n",
    "    print(ele)"
   ]
  },
  {
   "cell_type": "code",
   "execution_count": 35,
   "id": "713b6582",
   "metadata": {},
   "outputs": [
    {
     "data": {
      "text/plain": [
       "{0, 1, 2, 3, 4, 5, 6, 7, 8, 9, 10, 11, 12, 13, 14, 15, 16, 17, 18, 19}"
      ]
     },
     "execution_count": 35,
     "metadata": {},
     "output_type": "execute_result"
    }
   ],
   "source": [
    "{ele for ele in range(20)}"
   ]
  },
  {
   "cell_type": "code",
   "execution_count": 36,
   "id": "c5bd21b1",
   "metadata": {},
   "outputs": [
    {
     "data": {
      "text/plain": [
       "16"
      ]
     },
     "execution_count": 36,
     "metadata": {},
     "output_type": "execute_result"
    }
   ],
   "source": [
    "def x2(x):\n",
    "    return x * x\n",
    "\n",
    "x2(4)"
   ]
  },
  {
   "cell_type": "code",
   "execution_count": 37,
   "id": "6e24e813",
   "metadata": {},
   "outputs": [
    {
     "data": {
      "text/plain": [
       "16"
      ]
     },
     "execution_count": 37,
     "metadata": {},
     "output_type": "execute_result"
    }
   ],
   "source": [
    "lambda_x2 = lambda ele: ele * ele\n",
    "\n",
    "lambda_x2(4)"
   ]
  },
  {
   "cell_type": "code",
   "execution_count": 38,
   "id": "6d41f16c",
   "metadata": {},
   "outputs": [
    {
     "data": {
      "text/plain": [
       "3"
      ]
     },
     "execution_count": 38,
     "metadata": {},
     "output_type": "execute_result"
    }
   ],
   "source": [
    "add = lambda a,b: a + b\n",
    "\n",
    "add(1, 2)"
   ]
  },
  {
   "cell_type": "code",
   "execution_count": 39,
   "id": "7083749f",
   "metadata": {},
   "outputs": [
    {
     "name": "stdout",
     "output_type": "stream",
     "text": [
      "12\n"
     ]
    }
   ],
   "source": [
    "func = lambda a, b: a * b\n",
    "def lambda_test(function, number1, number2):\n",
    "    return function(number1, number2)\n",
    "print(lambda_test(func, 3, 4))"
   ]
  },
  {
   "cell_type": "code",
   "execution_count": 40,
   "id": "be994eba",
   "metadata": {},
   "outputs": [
    {
     "name": "stdout",
     "output_type": "stream",
     "text": [
      "[4, 9, 16]\n"
     ]
    }
   ],
   "source": [
    "my_list = [2, 3, 4]\n",
    "\n",
    "# double this list\n",
    "\n",
    "# method 1 - define a square function\n",
    "\n",
    "def square_list(my_list):\n",
    "    new_list = []\n",
    "    for ele in my_list:\n",
    "        new_list.append(ele * ele)\n",
    "\n",
    "    return new_list\n",
    "\n",
    "print(square_list(my_list))"
   ]
  },
  {
   "cell_type": "code",
   "execution_count": 41,
   "id": "1d621be5",
   "metadata": {},
   "outputs": [
    {
     "name": "stdout",
     "output_type": "stream",
     "text": [
      "[4, 9, 16]\n"
     ]
    }
   ],
   "source": [
    "# method 2 - list comprehension\n",
    "\n",
    "print([ele*ele for ele in my_list])"
   ]
  },
  {
   "cell_type": "code",
   "execution_count": 46,
   "id": "9dd7abc6",
   "metadata": {},
   "outputs": [
    {
     "name": "stdout",
     "output_type": "stream",
     "text": [
      "[4, 9, 16]\n"
     ]
    }
   ],
   "source": [
    "# \n",
    "new_list = list(map(lambda ele: ele * ele, my_list))\n",
    "print(new_list)"
   ]
  },
  {
   "cell_type": "code",
   "execution_count": 48,
   "id": "4c39f1c6",
   "metadata": {},
   "outputs": [
    {
     "ename": "TypeError",
     "evalue": "unsupported operand type(s) for +: 'int' and 'str'",
     "output_type": "error",
     "traceback": [
      "\u001b[1;31m---------------------------------------------------------------------------\u001b[0m",
      "\u001b[1;31mTypeError\u001b[0m                                 Traceback (most recent call last)",
      "\u001b[1;32m~\\AppData\\Local\\Temp\\ipykernel_24804\\3407917170.py\u001b[0m in \u001b[0;36m<module>\u001b[1;34m\u001b[0m\n\u001b[0;32m      1\u001b[0m \u001b[0mx\u001b[0m \u001b[1;33m=\u001b[0m \u001b[1;33m[\u001b[0m\u001b[1;34m'1'\u001b[0m\u001b[1;33m,\u001b[0m \u001b[1;34m'2'\u001b[0m\u001b[1;33m,\u001b[0m \u001b[1;34m'3'\u001b[0m\u001b[1;33m,\u001b[0m \u001b[1;34m'4'\u001b[0m\u001b[1;33m]\u001b[0m\u001b[1;33m\u001b[0m\u001b[1;33m\u001b[0m\u001b[0m\n\u001b[0;32m      2\u001b[0m \u001b[1;33m\u001b[0m\u001b[0m\n\u001b[1;32m----> 3\u001b[1;33m \u001b[0msum\u001b[0m\u001b[1;33m(\u001b[0m\u001b[0mx\u001b[0m\u001b[1;33m)\u001b[0m\u001b[1;33m\u001b[0m\u001b[1;33m\u001b[0m\u001b[0m\n\u001b[0m",
      "\u001b[1;31mTypeError\u001b[0m: unsupported operand type(s) for +: 'int' and 'str'"
     ]
    }
   ],
   "source": [
    "x = ['1', '2', '3', '4']\n",
    "\n",
    "sum(x)"
   ]
  },
  {
   "cell_type": "code",
   "execution_count": 50,
   "id": "0693bfa9",
   "metadata": {},
   "outputs": [
    {
     "data": {
      "text/plain": [
       "10"
      ]
     },
     "execution_count": 50,
     "metadata": {},
     "output_type": "execute_result"
    }
   ],
   "source": [
    "sum(map(int, x))"
   ]
  },
  {
   "cell_type": "code",
   "execution_count": 51,
   "id": "6120116e",
   "metadata": {},
   "outputs": [
    {
     "data": {
      "text/plain": [
       "10.0"
      ]
     },
     "execution_count": 51,
     "metadata": {},
     "output_type": "execute_result"
    }
   ],
   "source": [
    "sum(map(float, x))"
   ]
  },
  {
   "cell_type": "code",
   "execution_count": 53,
   "id": "5b618597",
   "metadata": {},
   "outputs": [
    {
     "data": {
      "text/plain": [
       "30"
      ]
     },
     "execution_count": 53,
     "metadata": {},
     "output_type": "execute_result"
    }
   ],
   "source": [
    "def x2(ele):\n",
    "    return ele * ele\n",
    "\n",
    "sum(map(x2, map(int, x)))"
   ]
  },
  {
   "cell_type": "code",
   "execution_count": null,
   "id": "f51d25de",
   "metadata": {},
   "outputs": [],
   "source": [
    "# three ways of giving a function map\n",
    "# 1) predefined -- int, float, str\n",
    "# 2) define a named function -- x2()\n",
    "# 3) use a lambda function "
   ]
  },
  {
   "cell_type": "code",
   "execution_count": 54,
   "id": "c15fce20",
   "metadata": {},
   "outputs": [
    {
     "name": "stdout",
     "output_type": "stream",
     "text": [
      "10\n",
      "10\n"
     ]
    }
   ],
   "source": [
    "print(sum(map(int, x))) # 1\n",
    "\n",
    "def our_int(ele): #2 \n",
    "    return int(ele) \n",
    "\n",
    "print(sum(map(our_int, x)))"
   ]
  },
  {
   "cell_type": "code",
   "execution_count": 57,
   "id": "e6cc78af",
   "metadata": {},
   "outputs": [
    {
     "name": "stdout",
     "output_type": "stream",
     "text": [
      "18\n"
     ]
    }
   ],
   "source": [
    "y = 2\n",
    "print(sum(map(lambda ele: int(ele) + y, x)))"
   ]
  },
  {
   "cell_type": "code",
   "execution_count": 58,
   "id": "6309b1ac",
   "metadata": {},
   "outputs": [
    {
     "name": "stdout",
     "output_type": "stream",
     "text": [
      "[3, 8, 15]\n"
     ]
    }
   ],
   "source": [
    "x = [1, 2, 3]\n",
    "y = [3, 4, 5]\n",
    "\n",
    "print(list(map(lambda e1, e2: e1 * e2, x, y )))"
   ]
  },
  {
   "cell_type": "code",
   "execution_count": 59,
   "id": "b6762476",
   "metadata": {},
   "outputs": [
    {
     "data": {
      "text/plain": [
       "['The value is 1', 'The value is 2', 'The value is 3']"
      ]
     },
     "execution_count": 59,
     "metadata": {},
     "output_type": "execute_result"
    }
   ],
   "source": [
    "list(map(lambda ele: f'The value is {ele}', x))"
   ]
  },
  {
   "cell_type": "code",
   "execution_count": 60,
   "id": "8e22707b",
   "metadata": {},
   "outputs": [
    {
     "name": "stdout",
     "output_type": "stream",
     "text": [
      "[3, 8, 15]\n"
     ]
    }
   ],
   "source": [
    "print(list(map(lambda x, y: x * y, x, y )))"
   ]
  },
  {
   "cell_type": "code",
   "execution_count": 61,
   "id": "6829ba30",
   "metadata": {},
   "outputs": [
    {
     "data": {
      "text/plain": [
       "['The value is 1', 'The value is 2', 'The value is 3']"
      ]
     },
     "execution_count": 61,
     "metadata": {},
     "output_type": "execute_result"
    }
   ],
   "source": [
    "[f'The value is {ele}'for ele in x]"
   ]
  },
  {
   "cell_type": "code",
   "execution_count": null,
   "id": "14064ce7",
   "metadata": {},
   "outputs": [],
   "source": [
    "students = ['john', 'jane', 'doe']\n",
    "\n"
   ]
  },
  {
   "cell_type": "code",
   "execution_count": 62,
   "id": "d8acfb3a",
   "metadata": {},
   "outputs": [
    {
     "name": "stdout",
     "output_type": "stream",
     "text": [
      "[{'Value': 34.4}, {'Value': 45.3}, {'Value': 73.4}]\n"
     ]
    }
   ],
   "source": [
    "my_dict = [{'value': '34.4'}, {'value': '45.3'}, {'value': '73.4'}]\n",
    "\n",
    "print(list(map(lambda ele: {'Value': float(ele['value'])}, my_dict)))"
   ]
  },
  {
   "cell_type": "code",
   "execution_count": 65,
   "id": "a368cfd0",
   "metadata": {},
   "outputs": [
    {
     "data": {
      "text/plain": [
       "153.1"
      ]
     },
     "execution_count": 65,
     "metadata": {},
     "output_type": "execute_result"
    }
   ],
   "source": [
    "sum(map(lambda ele: float(ele.get('value')), my_dict))"
   ]
  },
  {
   "cell_type": "code",
   "execution_count": 66,
   "id": "e2f05eae",
   "metadata": {},
   "outputs": [
    {
     "name": "stdout",
     "output_type": "stream",
     "text": [
      "{1970: False, 1971: False, 1972: True, 1973: False, 1974: False, 1975: False, 1976: True, 1977: False, 1978: False, 1979: False, 1980: True, 1981: False, 1982: False, 1983: False, 1984: True, 1985: False, 1986: False, 1987: False, 1988: True, 1989: False, 1990: False, 1991: False, 1992: True, 1993: False, 1994: False, 1995: False, 1996: True, 1997: False, 1998: False, 1999: False}\n"
     ]
    }
   ],
   "source": [
    "years = range(1970, 2000) # for these years\n",
    "\n",
    "\n",
    "\n",
    "def is_leap_year(year):\n",
    "    # does not work for century year\n",
    "    if year % 4 == 0:\n",
    "        return True\n",
    "    else:\n",
    "        return False\n",
    "\n",
    "my_dict = {}\n",
    "leap_years = []\n",
    "for year in years:\n",
    "    my_dict.update({year: is_leap_year(year)})\n",
    "    if is_leap_year(year):\n",
    "        leap_years.append(year)\n",
    "        \n",
    "print(my_dict)"
   ]
  },
  {
   "cell_type": "code",
   "execution_count": 67,
   "id": "6ec11b7b",
   "metadata": {},
   "outputs": [
    {
     "name": "stdout",
     "output_type": "stream",
     "text": [
      "[1972, 1976, 1980, 1984, 1988, 1992, 1996]\n"
     ]
    }
   ],
   "source": [
    "print(leap_years)"
   ]
  },
  {
   "cell_type": "code",
   "execution_count": 69,
   "id": "0fda06a2",
   "metadata": {},
   "outputs": [
    {
     "name": "stdout",
     "output_type": "stream",
     "text": [
      "[{1970: False}, {1971: False}, {1972: True}, {1973: False}, {1974: False}, {1975: False}, {1976: True}, {1977: False}, {1978: False}, {1979: False}, {1980: True}, {1981: False}, {1982: False}, {1983: False}, {1984: True}, {1985: False}, {1986: False}, {1987: False}, {1988: True}, {1989: False}, {1990: False}, {1991: False}, {1992: True}, {1993: False}, {1994: False}, {1995: False}, {1996: True}, {1997: False}, {1998: False}, {1999: False}]\n"
     ]
    }
   ],
   "source": [
    "print(list(map(lambda year: {year: is_leap_year(year)}, years)))"
   ]
  },
  {
   "cell_type": "code",
   "execution_count": 71,
   "id": "05cdd349",
   "metadata": {},
   "outputs": [
    {
     "data": {
      "text/plain": [
       "[1972, 1976, 1980, 1984, 1988, 1992, 1996]"
      ]
     },
     "execution_count": 71,
     "metadata": {},
     "output_type": "execute_result"
    }
   ],
   "source": [
    "leap_year_lambda = lambda year: year % 4 == 0 \n",
    "\n",
    "list(filter(leap_year_lambda, range(1970, 2000)))"
   ]
  },
  {
   "cell_type": "code",
   "execution_count": 72,
   "id": "4a3e29fe",
   "metadata": {},
   "outputs": [
    {
     "data": {
      "text/plain": [
       "[1972, 1976, 1980, 1984, 1988, 1992, 1996]"
      ]
     },
     "execution_count": 72,
     "metadata": {},
     "output_type": "execute_result"
    }
   ],
   "source": [
    "list(filter(lambda year: year % 4 == 0 , range(1970, 2000)))"
   ]
  },
  {
   "cell_type": "code",
   "execution_count": 73,
   "id": "1f6e0cb1",
   "metadata": {},
   "outputs": [
    {
     "data": {
      "text/plain": [
       "[1970,\n",
       " 1971,\n",
       " 1972,\n",
       " 1973,\n",
       " 1974,\n",
       " 1975,\n",
       " 1976,\n",
       " 1977,\n",
       " 1978,\n",
       " 1979,\n",
       " 1980,\n",
       " 1981,\n",
       " 1982,\n",
       " 1983,\n",
       " 1984,\n",
       " 1985,\n",
       " 1986,\n",
       " 1987,\n",
       " 1988,\n",
       " 1989,\n",
       " 1990,\n",
       " 1991,\n",
       " 1992,\n",
       " 1993,\n",
       " 1994,\n",
       " 1995,\n",
       " 1996,\n",
       " 1997,\n",
       " 1998,\n",
       " 1999]"
      ]
     },
     "execution_count": 73,
     "metadata": {},
     "output_type": "execute_result"
    }
   ],
   "source": [
    "list(filter(lambda year: True , range(1970, 2000)))"
   ]
  },
  {
   "cell_type": "code",
   "execution_count": 74,
   "id": "62258c58",
   "metadata": {},
   "outputs": [
    {
     "data": {
      "text/plain": [
       "[13, 14, 18, 19, 20, 35]"
      ]
     },
     "execution_count": 74,
     "metadata": {},
     "output_type": "execute_result"
    }
   ],
   "source": [
    "ages = [13, 14, 18, 19, 20, 35]\n",
    "\n",
    "list(filter(lambda ele: ele < 40, ages))"
   ]
  },
  {
   "cell_type": "code",
   "execution_count": 75,
   "id": "4b08176e",
   "metadata": {},
   "outputs": [],
   "source": [
    "x = (\n",
    "    ('efg', 1), \n",
    "    ('abc', 3), \n",
    "    ('hij', 2)\n",
    ")"
   ]
  },
  {
   "cell_type": "code",
   "execution_count": 76,
   "id": "0298c4c7",
   "metadata": {},
   "outputs": [
    {
     "data": {
      "text/plain": [
       "[('abc', 3), ('efg', 1), ('hij', 2)]"
      ]
     },
     "execution_count": 76,
     "metadata": {},
     "output_type": "execute_result"
    }
   ],
   "source": [
    "sorted(x)"
   ]
  },
  {
   "cell_type": "code",
   "execution_count": 77,
   "id": "fcaf65d3",
   "metadata": {},
   "outputs": [
    {
     "name": "stdout",
     "output_type": "stream",
     "text": [
      "[('efg', 1), ('hij', 2), ('abc', 3)]\n"
     ]
    }
   ],
   "source": [
    "print(sorted(x, key=lambda ele: ele[1]))"
   ]
  },
  {
   "cell_type": "code",
   "execution_count": 78,
   "id": "ecf0ccf6",
   "metadata": {},
   "outputs": [
    {
     "name": "stdout",
     "output_type": "stream",
     "text": [
      "[('hij', 2, '1000'), ('abc', 3, '212'), ('efg', 1, '5')]\n"
     ]
    }
   ],
   "source": [
    "x = (\n",
    "    ('efg', 1, '5'), \n",
    "    ('abc', 3, '212'), \n",
    "    ('hij', 2, '1000')\n",
    ")\n",
    "print(sorted(x, key=lambda ele: ele[2]))"
   ]
  },
  {
   "cell_type": "code",
   "execution_count": 79,
   "id": "058eee52",
   "metadata": {},
   "outputs": [
    {
     "name": "stdout",
     "output_type": "stream",
     "text": [
      "[{'grade': 89, 'username': 'Kelly'}, {'username': 'doe', 'grade': 35}, {'username': 'jane', 'grade': 80}, {'username': 'john', 'grade': 50}]\n"
     ]
    }
   ],
   "source": [
    "students = [\n",
    "    {'username': 'john', 'grade': 50},\n",
    "    {'username': 'jane', 'grade': 80},\n",
    "    {'username': 'doe', 'grade': 35},\n",
    "    {'grade': 89, 'username': 'Kelly'}\n",
    "]\n",
    "\n",
    "print(sorted(students, key=lambda student: student['username']))"
   ]
  },
  {
   "cell_type": "code",
   "execution_count": 80,
   "id": "47e6472b",
   "metadata": {},
   "outputs": [
    {
     "name": "stdout",
     "output_type": "stream",
     "text": [
      "[{'username': 'john', 'grade': 50}, {'username': 'jane', 'grade': 80}, {'username': 'doe', 'grade': 35}, {'grade': 89, 'username': 'Kelly'}]\n"
     ]
    }
   ],
   "source": [
    "print(sorted(students, key=lambda student: student['username'], reverse=True))"
   ]
  },
  {
   "cell_type": "code",
   "execution_count": 81,
   "id": "e4213bdf",
   "metadata": {},
   "outputs": [
    {
     "data": {
      "text/plain": [
       "['Janette', 'doe', 'john']"
      ]
     },
     "execution_count": 81,
     "metadata": {},
     "output_type": "execute_result"
    }
   ],
   "source": [
    "students = ['john', 'Janette', 'doe']\n",
    "\n",
    "sorted(students)"
   ]
  },
  {
   "cell_type": "code",
   "execution_count": 82,
   "id": "e7afa93e",
   "metadata": {},
   "outputs": [
    {
     "data": {
      "text/plain": [
       "['doe', 'john', 'Janette']"
      ]
     },
     "execution_count": 82,
     "metadata": {},
     "output_type": "execute_result"
    }
   ],
   "source": [
    "sorted(students, key=lambda ele: len(ele))"
   ]
  },
  {
   "cell_type": "code",
   "execution_count": 83,
   "id": "2be37516",
   "metadata": {},
   "outputs": [
    {
     "data": {
      "text/plain": [
       "'Janette'"
      ]
     },
     "execution_count": 83,
     "metadata": {},
     "output_type": "execute_result"
    }
   ],
   "source": [
    "min(students)"
   ]
  },
  {
   "cell_type": "code",
   "execution_count": 84,
   "id": "4c5135bb",
   "metadata": {},
   "outputs": [
    {
     "data": {
      "text/plain": [
       "'doe'"
      ]
     },
     "execution_count": 84,
     "metadata": {},
     "output_type": "execute_result"
    }
   ],
   "source": [
    "min(students, key=lambda ele: len(ele))"
   ]
  },
  {
   "cell_type": "code",
   "execution_count": 86,
   "id": "8fb23d0d",
   "metadata": {},
   "outputs": [
    {
     "data": {
      "text/plain": [
       "'tom'"
      ]
     },
     "execution_count": 86,
     "metadata": {},
     "output_type": "execute_result"
    }
   ],
   "source": [
    "students = ['john', 'Janette', 'tom', 'doe']\n",
    "min(students, key=lambda ele: len(ele))"
   ]
  },
  {
   "cell_type": "code",
   "execution_count": 87,
   "id": "63bbef75",
   "metadata": {},
   "outputs": [
    {
     "data": {
      "text/plain": [
       "'Janette'"
      ]
     },
     "execution_count": 87,
     "metadata": {},
     "output_type": "execute_result"
    }
   ],
   "source": [
    "max(students, key=lambda student: len(student))"
   ]
  },
  {
   "cell_type": "code",
   "execution_count": 88,
   "id": "111daf10",
   "metadata": {},
   "outputs": [
    {
     "name": "stdout",
     "output_type": "stream",
     "text": [
      "{'value': '73.4'}\n"
     ]
    }
   ],
   "source": [
    "my_list = [{'value': '34.4'}, {'value': '45.3'}, {'value': '73.4'}]\n",
    "print(max(my_list, key=lambda ele: float(ele['value'])))"
   ]
  },
  {
   "cell_type": "code",
   "execution_count": 89,
   "id": "c9dd1eea",
   "metadata": {},
   "outputs": [
    {
     "data": {
      "text/plain": [
       "['Janette', 'john', 'tom', 'doe']"
      ]
     },
     "execution_count": 89,
     "metadata": {},
     "output_type": "execute_result"
    }
   ],
   "source": [
    "sorted(students, key=lambda ele: len(ele), reverse=True)"
   ]
  },
  {
   "cell_type": "code",
   "execution_count": 91,
   "id": "40772d99",
   "metadata": {},
   "outputs": [
    {
     "name": "stdout",
     "output_type": "stream",
     "text": [
      "no\n"
     ]
    }
   ],
   "source": [
    "value = '1.1.1'\n",
    "\n",
    "try:\n",
    "    value = float(line)\n",
    "except:\n",
    "    print('no')"
   ]
  },
  {
   "cell_type": "code",
   "execution_count": 92,
   "id": "49abad1e",
   "metadata": {},
   "outputs": [
    {
     "ename": "SyntaxError",
     "evalue": "invalid syntax (1337827577.py, line 1)",
     "output_type": "error",
     "traceback": [
      "\u001b[1;36m  File \u001b[1;32m\"C:\\Users\\mkhaw\\AppData\\Local\\Temp\\ipykernel_24804\\1337827577.py\"\u001b[1;36m, line \u001b[1;32m1\u001b[0m\n\u001b[1;33m    def func(()):\u001b[0m\n\u001b[1;37m             ^\u001b[0m\n\u001b[1;31mSyntaxError\u001b[0m\u001b[1;31m:\u001b[0m invalid syntax\n"
     ]
    }
   ],
   "source": [
    "def func(()):\n",
    "    pass"
   ]
  },
  {
   "cell_type": "code",
   "execution_count": null,
   "id": "299f17dd",
   "metadata": {},
   "outputs": [],
   "source": [
    "# pass\n",
    "# continue\n",
    "# break\n",
    "\n",
    "if x > 1:\n",
    "    print(x)\n",
    "else:\n",
    "    pass # TODO"
   ]
  },
  {
   "cell_type": "code",
   "execution_count": 93,
   "id": "8af84348",
   "metadata": {},
   "outputs": [
    {
     "ename": "SyntaxError",
     "evalue": "invalid syntax (2246135109.py, line 1)",
     "output_type": "error",
     "traceback": [
      "\u001b[1;36m  File \u001b[1;32m\"C:\\Users\\mkhaw\\AppData\\Local\\Temp\\ipykernel_24804\\2246135109.py\"\u001b[1;36m, line \u001b[1;32m1\u001b[0m\n\u001b[1;33m    for index in some_list\u001b[0m\n\u001b[1;37m                          ^\u001b[0m\n\u001b[1;31mSyntaxError\u001b[0m\u001b[1;31m:\u001b[0m invalid syntax\n"
     ]
    }
   ],
   "source": [
    "for index in some_list\n",
    "    print(index)"
   ]
  },
  {
   "cell_type": "code",
   "execution_count": 94,
   "id": "dbf92811",
   "metadata": {},
   "outputs": [],
   "source": [
    "def func():\n",
    "    print(variable)"
   ]
  },
  {
   "cell_type": "code",
   "execution_count": 95,
   "id": "c0b8f865",
   "metadata": {},
   "outputs": [
    {
     "ename": "NameError",
     "evalue": "name 'variable' is not defined",
     "output_type": "error",
     "traceback": [
      "\u001b[1;31m---------------------------------------------------------------------------\u001b[0m",
      "\u001b[1;31mNameError\u001b[0m                                 Traceback (most recent call last)",
      "\u001b[1;32m~\\AppData\\Local\\Temp\\ipykernel_24804\\2078144611.py\u001b[0m in \u001b[0;36m<module>\u001b[1;34m\u001b[0m\n\u001b[1;32m----> 1\u001b[1;33m \u001b[0mfunc\u001b[0m\u001b[1;33m(\u001b[0m\u001b[1;33m)\u001b[0m\u001b[1;33m\u001b[0m\u001b[1;33m\u001b[0m\u001b[0m\n\u001b[0m",
      "\u001b[1;32m~\\AppData\\Local\\Temp\\ipykernel_24804\\2038279552.py\u001b[0m in \u001b[0;36mfunc\u001b[1;34m()\u001b[0m\n\u001b[0;32m      1\u001b[0m \u001b[1;32mdef\u001b[0m \u001b[0mfunc\u001b[0m\u001b[1;33m(\u001b[0m\u001b[1;33m)\u001b[0m\u001b[1;33m:\u001b[0m\u001b[1;33m\u001b[0m\u001b[1;33m\u001b[0m\u001b[0m\n\u001b[1;32m----> 2\u001b[1;33m     \u001b[0mprint\u001b[0m\u001b[1;33m(\u001b[0m\u001b[0mvariable\u001b[0m\u001b[1;33m)\u001b[0m\u001b[1;33m\u001b[0m\u001b[1;33m\u001b[0m\u001b[0m\n\u001b[0m",
      "\u001b[1;31mNameError\u001b[0m: name 'variable' is not defined"
     ]
    }
   ],
   "source": [
    "func()"
   ]
  },
  {
   "cell_type": "code",
   "execution_count": 96,
   "id": "9ea165b3",
   "metadata": {},
   "outputs": [
    {
     "ename": "TypeError",
     "evalue": "can only concatenate str (not \"int\") to str",
     "output_type": "error",
     "traceback": [
      "\u001b[1;31m---------------------------------------------------------------------------\u001b[0m",
      "\u001b[1;31mTypeError\u001b[0m                                 Traceback (most recent call last)",
      "\u001b[1;32m~\\AppData\\Local\\Temp\\ipykernel_24804\\1841419283.py\u001b[0m in \u001b[0;36m<module>\u001b[1;34m\u001b[0m\n\u001b[1;32m----> 1\u001b[1;33m \u001b[1;34m'3'\u001b[0m \u001b[1;33m+\u001b[0m \u001b[1;36m3\u001b[0m\u001b[1;33m\u001b[0m\u001b[1;33m\u001b[0m\u001b[0m\n\u001b[0m",
      "\u001b[1;31mTypeError\u001b[0m: can only concatenate str (not \"int\") to str"
     ]
    }
   ],
   "source": [
    "'3' + 3"
   ]
  },
  {
   "cell_type": "code",
   "execution_count": 97,
   "id": "e23a82b6",
   "metadata": {},
   "outputs": [
    {
     "data": {
      "text/plain": [
       "3"
      ]
     },
     "execution_count": 97,
     "metadata": {},
     "output_type": "execute_result"
    }
   ],
   "source": [
    "int('3')"
   ]
  },
  {
   "cell_type": "code",
   "execution_count": 98,
   "id": "bdd16c4b",
   "metadata": {},
   "outputs": [
    {
     "ename": "ValueError",
     "evalue": "invalid literal for int() with base 10: '3a'",
     "output_type": "error",
     "traceback": [
      "\u001b[1;31m---------------------------------------------------------------------------\u001b[0m",
      "\u001b[1;31mValueError\u001b[0m                                Traceback (most recent call last)",
      "\u001b[1;32m~\\AppData\\Local\\Temp\\ipykernel_24804\\2188293556.py\u001b[0m in \u001b[0;36m<module>\u001b[1;34m\u001b[0m\n\u001b[1;32m----> 1\u001b[1;33m \u001b[0mint\u001b[0m\u001b[1;33m(\u001b[0m\u001b[1;34m'3a'\u001b[0m\u001b[1;33m)\u001b[0m\u001b[1;33m\u001b[0m\u001b[1;33m\u001b[0m\u001b[0m\n\u001b[0m",
      "\u001b[1;31mValueError\u001b[0m: invalid literal for int() with base 10: '3a'"
     ]
    }
   ],
   "source": [
    "int('3a')"
   ]
  },
  {
   "cell_type": "code",
   "execution_count": 99,
   "id": "bcce09f1",
   "metadata": {},
   "outputs": [
    {
     "ename": "KeyError",
     "evalue": "'class'",
     "output_type": "error",
     "traceback": [
      "\u001b[1;31m---------------------------------------------------------------------------\u001b[0m",
      "\u001b[1;31mKeyError\u001b[0m                                  Traceback (most recent call last)",
      "\u001b[1;32m~\\AppData\\Local\\Temp\\ipykernel_24804\\2044794529.py\u001b[0m in \u001b[0;36m<module>\u001b[1;34m\u001b[0m\n\u001b[0;32m      1\u001b[0m \u001b[0mstudent\u001b[0m \u001b[1;33m=\u001b[0m \u001b[1;33m{\u001b[0m\u001b[1;34m'username'\u001b[0m\u001b[1;33m:\u001b[0m \u001b[1;34m'john'\u001b[0m\u001b[1;33m,\u001b[0m \u001b[1;34m'grade'\u001b[0m\u001b[1;33m:\u001b[0m \u001b[1;36m50\u001b[0m\u001b[1;33m}\u001b[0m\u001b[1;33m\u001b[0m\u001b[1;33m\u001b[0m\u001b[0m\n\u001b[1;32m----> 2\u001b[1;33m \u001b[0mstudent\u001b[0m\u001b[1;33m[\u001b[0m\u001b[1;34m'class'\u001b[0m\u001b[1;33m]\u001b[0m\u001b[1;33m\u001b[0m\u001b[1;33m\u001b[0m\u001b[0m\n\u001b[0m",
      "\u001b[1;31mKeyError\u001b[0m: 'class'"
     ]
    }
   ],
   "source": [
    "student = {'username': 'john', 'grade': 50}\n",
    "student['class']"
   ]
  },
  {
   "cell_type": "code",
   "execution_count": 101,
   "id": "030dee8e",
   "metadata": {},
   "outputs": [],
   "source": [
    "if 'class' in student:\n",
    "    print(student['class'])"
   ]
  },
  {
   "cell_type": "code",
   "execution_count": 102,
   "id": "0b09e241",
   "metadata": {},
   "outputs": [
    {
     "name": "stdout",
     "output_type": "stream",
     "text": [
      "None\n"
     ]
    }
   ],
   "source": [
    "print(student.get('class'))"
   ]
  },
  {
   "cell_type": "code",
   "execution_count": 103,
   "id": "0ec47ec5",
   "metadata": {},
   "outputs": [
    {
     "name": "stdout",
     "output_type": "stream",
     "text": [
      "Missing\n"
     ]
    }
   ],
   "source": [
    "print(student.get('class', 'Missing'))"
   ]
  },
  {
   "cell_type": "code",
   "execution_count": 104,
   "id": "ffd33249",
   "metadata": {},
   "outputs": [
    {
     "data": {
      "text/plain": [
       "'TEST1234'"
      ]
     },
     "execution_count": 104,
     "metadata": {},
     "output_type": "execute_result"
    }
   ],
   "source": [
    "string = 'test1234'\n",
    "string.upper()"
   ]
  },
  {
   "cell_type": "code",
   "execution_count": 105,
   "id": "e980186a",
   "metadata": {},
   "outputs": [
    {
     "ename": "AttributeError",
     "evalue": "'str' object has no attribute 'Upper'",
     "output_type": "error",
     "traceback": [
      "\u001b[1;31m---------------------------------------------------------------------------\u001b[0m",
      "\u001b[1;31mAttributeError\u001b[0m                            Traceback (most recent call last)",
      "\u001b[1;32m~\\AppData\\Local\\Temp\\ipykernel_24804\\520036443.py\u001b[0m in \u001b[0;36m<module>\u001b[1;34m\u001b[0m\n\u001b[0;32m      1\u001b[0m \u001b[0mstring\u001b[0m \u001b[1;33m=\u001b[0m \u001b[1;34m'test1234'\u001b[0m\u001b[1;33m\u001b[0m\u001b[1;33m\u001b[0m\u001b[0m\n\u001b[1;32m----> 2\u001b[1;33m \u001b[0mstring\u001b[0m\u001b[1;33m.\u001b[0m\u001b[0mUpper\u001b[0m\u001b[1;33m(\u001b[0m\u001b[1;33m)\u001b[0m\u001b[1;33m\u001b[0m\u001b[1;33m\u001b[0m\u001b[0m\n\u001b[0m",
      "\u001b[1;31mAttributeError\u001b[0m: 'str' object has no attribute 'Upper'"
     ]
    }
   ],
   "source": [
    "string = 'test1234'\n",
    "string.Upper()"
   ]
  },
  {
   "cell_type": "code",
   "execution_count": 106,
   "id": "41364c66",
   "metadata": {},
   "outputs": [
    {
     "ename": "AttributeError",
     "evalue": "'list' object has no attribute 'upper'",
     "output_type": "error",
     "traceback": [
      "\u001b[1;31m---------------------------------------------------------------------------\u001b[0m",
      "\u001b[1;31mAttributeError\u001b[0m                            Traceback (most recent call last)",
      "\u001b[1;32m~\\AppData\\Local\\Temp\\ipykernel_24804\\1111297724.py\u001b[0m in \u001b[0;36m<module>\u001b[1;34m\u001b[0m\n\u001b[0;32m      1\u001b[0m \u001b[0mx\u001b[0m \u001b[1;33m=\u001b[0m \u001b[1;33m[\u001b[0m\u001b[1;36m1\u001b[0m\u001b[1;33m,\u001b[0m\u001b[1;36m2\u001b[0m\u001b[1;33m,\u001b[0m\u001b[1;36m3\u001b[0m\u001b[1;33m]\u001b[0m\u001b[1;33m\u001b[0m\u001b[1;33m\u001b[0m\u001b[0m\n\u001b[1;32m----> 2\u001b[1;33m \u001b[0mx\u001b[0m\u001b[1;33m.\u001b[0m\u001b[0mupper\u001b[0m\u001b[1;33m(\u001b[0m\u001b[1;33m)\u001b[0m\u001b[1;33m\u001b[0m\u001b[1;33m\u001b[0m\u001b[0m\n\u001b[0m",
      "\u001b[1;31mAttributeError\u001b[0m: 'list' object has no attribute 'upper'"
     ]
    }
   ],
   "source": [
    "x = [1,2,3]\n",
    "x.upper()"
   ]
  },
  {
   "cell_type": "code",
   "execution_count": 107,
   "id": "ea205b5e",
   "metadata": {},
   "outputs": [
    {
     "ename": "ValueError",
     "evalue": "a message",
     "output_type": "error",
     "traceback": [
      "\u001b[1;31m---------------------------------------------------------------------------\u001b[0m",
      "\u001b[1;31mValueError\u001b[0m                                Traceback (most recent call last)",
      "\u001b[1;32m~\\AppData\\Local\\Temp\\ipykernel_24804\\1307917353.py\u001b[0m in \u001b[0;36m<module>\u001b[1;34m\u001b[0m\n\u001b[1;32m----> 1\u001b[1;33m \u001b[1;32mraise\u001b[0m \u001b[0mValueError\u001b[0m\u001b[1;33m(\u001b[0m\u001b[1;34m'a message'\u001b[0m\u001b[1;33m)\u001b[0m\u001b[1;33m\u001b[0m\u001b[1;33m\u001b[0m\u001b[0m\n\u001b[0m",
      "\u001b[1;31mValueError\u001b[0m: a message"
     ]
    }
   ],
   "source": [
    "raise ValueError('a message')"
   ]
  },
  {
   "cell_type": "code",
   "execution_count": 108,
   "id": "d8467418",
   "metadata": {},
   "outputs": [
    {
     "ename": "ValueError",
     "evalue": "",
     "output_type": "error",
     "traceback": [
      "\u001b[1;31m---------------------------------------------------------------------------\u001b[0m",
      "\u001b[1;31mValueError\u001b[0m                                Traceback (most recent call last)",
      "\u001b[1;32m~\\AppData\\Local\\Temp\\ipykernel_24804\\4096975414.py\u001b[0m in \u001b[0;36m<module>\u001b[1;34m\u001b[0m\n\u001b[1;32m----> 1\u001b[1;33m \u001b[1;32mraise\u001b[0m \u001b[0mValueError\u001b[0m\u001b[1;33m\u001b[0m\u001b[1;33m\u001b[0m\u001b[0m\n\u001b[0m",
      "\u001b[1;31mValueError\u001b[0m: "
     ]
    }
   ],
   "source": [
    "raise ValueError"
   ]
  },
  {
   "cell_type": "code",
   "execution_count": 109,
   "id": "9cf06ce4",
   "metadata": {},
   "outputs": [],
   "source": [
    "def calculate_bmi(height, weight):\n",
    "\n",
    "    if type(height) not in [float, int]:\n",
    "        raise TypeError('Height has to be float or an int')\n",
    "\n",
    "    if type(weight) not in [float, int]:\n",
    "        raise TypeError('Weight has to be float or an int')\n",
    "\n",
    "\n",
    "    if height <= 0:\n",
    "        raise ValueError('Height cannot be less than or equal to 0')\n",
    "\n",
    "    if weight <= 0:\n",
    "        raise ValueError('Weight cannot be less than or equal to 0')\n",
    "\n",
    "    return 720 * weight / height**2\n"
   ]
  },
  {
   "cell_type": "code",
   "execution_count": 113,
   "id": "4e66765f",
   "metadata": {},
   "outputs": [
    {
     "ename": "ValueError",
     "evalue": "Height cannot be less than or equal to 0",
     "output_type": "error",
     "traceback": [
      "\u001b[1;31m---------------------------------------------------------------------------\u001b[0m",
      "\u001b[1;31mValueError\u001b[0m                                Traceback (most recent call last)",
      "\u001b[1;32m~\\AppData\\Local\\Temp\\ipykernel_24804\\2684044031.py\u001b[0m in \u001b[0;36m<module>\u001b[1;34m\u001b[0m\n\u001b[1;32m----> 1\u001b[1;33m \u001b[0mcalculate_bmi\u001b[0m\u001b[1;33m(\u001b[0m\u001b[1;33m-\u001b[0m\u001b[1;36m66\u001b[0m\u001b[1;33m,\u001b[0m \u001b[1;36m170\u001b[0m\u001b[1;33m)\u001b[0m\u001b[1;33m\u001b[0m\u001b[1;33m\u001b[0m\u001b[0m\n\u001b[0m",
      "\u001b[1;32m~\\AppData\\Local\\Temp\\ipykernel_24804\\3587866431.py\u001b[0m in \u001b[0;36mcalculate_bmi\u001b[1;34m(height, weight)\u001b[0m\n\u001b[0;32m      9\u001b[0m \u001b[1;33m\u001b[0m\u001b[0m\n\u001b[0;32m     10\u001b[0m     \u001b[1;32mif\u001b[0m \u001b[0mheight\u001b[0m \u001b[1;33m<=\u001b[0m \u001b[1;36m0\u001b[0m\u001b[1;33m:\u001b[0m\u001b[1;33m\u001b[0m\u001b[1;33m\u001b[0m\u001b[0m\n\u001b[1;32m---> 11\u001b[1;33m         \u001b[1;32mraise\u001b[0m \u001b[0mValueError\u001b[0m\u001b[1;33m(\u001b[0m\u001b[1;34m'Height cannot be less than or equal to 0'\u001b[0m\u001b[1;33m)\u001b[0m\u001b[1;33m\u001b[0m\u001b[1;33m\u001b[0m\u001b[0m\n\u001b[0m\u001b[0;32m     12\u001b[0m \u001b[1;33m\u001b[0m\u001b[0m\n\u001b[0;32m     13\u001b[0m     \u001b[1;32mif\u001b[0m \u001b[0mweight\u001b[0m \u001b[1;33m<=\u001b[0m \u001b[1;36m0\u001b[0m\u001b[1;33m:\u001b[0m\u001b[1;33m\u001b[0m\u001b[1;33m\u001b[0m\u001b[0m\n",
      "\u001b[1;31mValueError\u001b[0m: Height cannot be less than or equal to 0"
     ]
    }
   ],
   "source": [
    "calculate_bmi(-66, 170)"
   ]
  },
  {
   "cell_type": "code",
   "execution_count": null,
   "id": "9f55235b",
   "metadata": {},
   "outputs": [],
   "source": [
    "if type(height) != float and type(height) != int # --> type(height) not in [float, int]"
   ]
  },
  {
   "cell_type": "code",
   "execution_count": 8,
   "id": "9a772da3",
   "metadata": {},
   "outputs": [
    {
     "name": "stdout",
     "output_type": "stream",
     "text": [
      "Please enter height: 10\n",
      "Please enter weight: 10\n",
      "I run when there is no error\n",
      "I always run!\n",
      "70.3\n"
     ]
    }
   ],
   "source": [
    "def calculate_bmi(height, weight):\n",
    "\n",
    "    if type(height) not in [float, int]:\n",
    "        raise TypeError('Height has to be float or an int')\n",
    "\n",
    "    if type(weight) not in [float, int]:\n",
    "        raise TypeError('Weight has to be float or an int')\n",
    "\n",
    "\n",
    "    if height <= 0:\n",
    "        raise ValueError('Height cannot be less than or equal to 0')\n",
    "\n",
    "    if weight <= 0:\n",
    "        raise ValueError('Weight cannot be less than or equal to 0')\n",
    "\n",
    "    return 703 * weight / height**2\n",
    "\n",
    "while True:\n",
    "    try:\n",
    "        height = float(input('Please enter height: '))\n",
    "        weight = float(input('Please enter weight: '))\n",
    "    except Exception as error:\n",
    "        print(error)\n",
    "        print('Please enter a number')\n",
    "    else:\n",
    "        print('I run when there is no error')\n",
    "        break\n",
    "    finally:\n",
    "        print('I always run!')\n",
    "\n",
    "print(calculate_bmi(height, weight))"
   ]
  },
  {
   "cell_type": "code",
   "execution_count": 6,
   "id": "f107a71e",
   "metadata": {},
   "outputs": [
    {
     "name": "stdout",
     "output_type": "stream",
     "text": [
      "Please enter height: a\n",
      "could not convert string to float: 'a'\n",
      "Please enter a number\n",
      "I always run!\n"
     ]
    }
   ],
   "source": [
    "try:\n",
    "    height = float(input('Please enter height: '))\n",
    "    weight = float(input('Please enter weight: '))\n",
    "except Exception as error:\n",
    "    print(error)\n",
    "    print('Please enter a number')\n",
    "else:\n",
    "    print('I run when there is no error')\n",
    "finally:\n",
    "    print('I always run!')"
   ]
  },
  {
   "cell_type": "code",
   "execution_count": 4,
   "id": "ac8f1478",
   "metadata": {},
   "outputs": [
    {
     "name": "stdout",
     "output_type": "stream",
     "text": [
      "Please enter height: a\n",
      "error\n"
     ]
    }
   ],
   "source": [
    "try:\n",
    "    height = float(input('Please enter height: '))\n",
    "except:\n",
    "    print('error')"
   ]
  },
  {
   "cell_type": "code",
   "execution_count": 9,
   "id": "d30d8ba7",
   "metadata": {},
   "outputs": [],
   "source": [
    "student = {'username': 'john', 'grade': 50}\n",
    "\n",
    "def get_key(some_dict, key, default_value=None):\n",
    "    try:\n",
    "        return some_dict[key]\n",
    "    except KeyError:\n",
    "        return default_value"
   ]
  },
  {
   "cell_type": "code",
   "execution_count": 12,
   "id": "6811f85d",
   "metadata": {},
   "outputs": [
    {
     "name": "stdout",
     "output_type": "stream",
     "text": [
      "john\n"
     ]
    }
   ],
   "source": [
    "print(get_key(student, 'username'))"
   ]
  },
  {
   "cell_type": "code",
   "execution_count": 13,
   "id": "fb9631f2",
   "metadata": {},
   "outputs": [
    {
     "name": "stdout",
     "output_type": "stream",
     "text": [
      "Missing\n"
     ]
    }
   ],
   "source": [
    "print(get_key(student, 'userme', 'Missing'))"
   ]
  },
  {
   "cell_type": "code",
   "execution_count": 14,
   "id": "127d072e",
   "metadata": {},
   "outputs": [
    {
     "name": "stdout",
     "output_type": "stream",
     "text": [
      "OS error\n"
     ]
    }
   ],
   "source": [
    "filename = 'abcd.txt'\n",
    "try: \n",
    "    file = open(filename) \n",
    "except OSError: \n",
    "    print('OS error') \n",
    "except FileNotFoundError: \n",
    "    print('File not found') "
   ]
  },
  {
   "cell_type": "code",
   "execution_count": 15,
   "id": "e221eff6",
   "metadata": {},
   "outputs": [
    {
     "name": "stdout",
     "output_type": "stream",
     "text": [
      "File not found\n"
     ]
    }
   ],
   "source": [
    "filename = 'abcd.txt'\n",
    "try: \n",
    "    file = open(filename) \n",
    "except FileNotFoundError: \n",
    "    print('File not found') \n",
    "except OSError: \n",
    "    print('OS error') \n"
   ]
  },
  {
   "cell_type": "code",
   "execution_count": 18,
   "id": "3b73ccec",
   "metadata": {},
   "outputs": [
    {
     "name": "stdout",
     "output_type": "stream",
     "text": [
      "1 2 0 0\n"
     ]
    }
   ],
   "source": [
    "def func(spam, eggs, toast=0, ham=0):   # first 2 required\n",
    "    print (spam, eggs, toast, ham)\n",
    "\n",
    "func(1, 2) "
   ]
  },
  {
   "cell_type": "code",
   "execution_count": 19,
   "id": "c7f6de49",
   "metadata": {},
   "outputs": [
    {
     "name": "stdout",
     "output_type": "stream",
     "text": [
      "1 2 0 0\n"
     ]
    }
   ],
   "source": [
    "func(eggs=2, spam=1) "
   ]
  },
  {
   "cell_type": "code",
   "execution_count": 20,
   "id": "e36a483e",
   "metadata": {},
   "outputs": [
    {
     "ename": "TypeError",
     "evalue": "func() missing 1 required positional argument: 'eggs'",
     "output_type": "error",
     "traceback": [
      "\u001b[1;31m---------------------------------------------------------------------------\u001b[0m",
      "\u001b[1;31mTypeError\u001b[0m                                 Traceback (most recent call last)",
      "\u001b[1;32m~\\AppData\\Local\\Temp\\ipykernel_19372\\1551908222.py\u001b[0m in \u001b[0;36m<module>\u001b[1;34m\u001b[0m\n\u001b[1;32m----> 1\u001b[1;33m \u001b[0mfunc\u001b[0m\u001b[1;33m(\u001b[0m\u001b[1;36m1\u001b[0m\u001b[1;33m)\u001b[0m\u001b[1;33m\u001b[0m\u001b[1;33m\u001b[0m\u001b[0m\n\u001b[0m",
      "\u001b[1;31mTypeError\u001b[0m: func() missing 1 required positional argument: 'eggs'"
     ]
    }
   ],
   "source": [
    "func(1) "
   ]
  },
  {
   "cell_type": "code",
   "execution_count": 24,
   "id": "86d85cc1",
   "metadata": {},
   "outputs": [
    {
     "name": "stdout",
     "output_type": "stream",
     "text": [
      "1 2 0 0\n"
     ]
    }
   ],
   "source": [
    "func_input = {\n",
    "    'eggs': 2,\n",
    "    'spam': 1\n",
    "}\n",
    "func(**func_input) # --> eggs=2, spam=1"
   ]
  },
  {
   "cell_type": "code",
   "execution_count": null,
   "id": "d2f0ee61",
   "metadata": {},
   "outputs": [],
   "source": []
  },
  {
   "cell_type": "code",
   "execution_count": 27,
   "id": "8f2648b1",
   "metadata": {},
   "outputs": [
    {
     "name": "stdout",
     "output_type": "stream",
     "text": [
      "1 [2, 3, 4]\n"
     ]
    }
   ],
   "source": [
    "x = [1, 2, 3, 4]\n",
    "a, *b = x\n",
    "print(a, b)"
   ]
  },
  {
   "cell_type": "code",
   "execution_count": 29,
   "id": "58d0f8f7",
   "metadata": {},
   "outputs": [
    {
     "name": "stdout",
     "output_type": "stream",
     "text": [
      "1 (2, 3) {'x': 1, 'y': 2}\n"
     ]
    }
   ],
   "source": [
    "def f(a, *args, **kwargs): \n",
    "    print(a, args, kwargs)\n",
    "\n",
    "f(1, 2, 3, x=1, y=2)\n",
    "\n",
    "# a = 1\n",
    "# args = (2, 3)\n",
    "# kwargs = {'x': 1, 'y': 2}"
   ]
  },
  {
   "cell_type": "code",
   "execution_count": 30,
   "id": "3c159b98",
   "metadata": {},
   "outputs": [
    {
     "name": "stdout",
     "output_type": "stream",
     "text": [
      "1 () {'b': 2, 'c': 3}\n"
     ]
    }
   ],
   "source": [
    "f_dict = {\n",
    "    'a': 1,\n",
    "    'b': 2, # --> b=2\n",
    "    'c': 3 # --> c=3\n",
    "}\n",
    "f(**f_dict)\n",
    "# a = 1\n",
    "# args = ()\n",
    "# kwargs = {'b':2, 'c':3}"
   ]
  },
  {
   "cell_type": "code",
   "execution_count": 33,
   "id": "2e06627b",
   "metadata": {},
   "outputs": [
    {
     "name": "stdout",
     "output_type": "stream",
     "text": [
      "1\n",
      "4\n",
      "2\n",
      "3\n",
      "I print when there is no break in for loop\n"
     ]
    }
   ],
   "source": [
    "x = [1, 2, 3]\n",
    "for ele in x:\n",
    "    if ele == 2:\n",
    "        print(ele*ele)\n",
    "    print(ele)\n",
    "else:\n",
    "    print('I print when there is no break in for loop')\n"
   ]
  },
  {
   "cell_type": "code",
   "execution_count": 34,
   "id": "bce2358c",
   "metadata": {},
   "outputs": [
    {
     "name": "stdout",
     "output_type": "stream",
     "text": [
      "1\n"
     ]
    }
   ],
   "source": [
    "x = [1, 2, 3]\n",
    "for ele in x:\n",
    "    if ele == 2:\n",
    "        break\n",
    "    print(ele)\n",
    "else:\n",
    "    print('I print when there is no break in for loop')\n"
   ]
  },
  {
   "cell_type": "code",
   "execution_count": 35,
   "id": "b372e66b",
   "metadata": {},
   "outputs": [
    {
     "name": "stdout",
     "output_type": "stream",
     "text": [
      "1 2 3 4 5 6\n"
     ]
    }
   ],
   "source": [
    "print(1, 2, 3, 4, 5, 6)"
   ]
  },
  {
   "cell_type": "code",
   "execution_count": 36,
   "id": "c87d1e44",
   "metadata": {},
   "outputs": [
    {
     "ename": "TypeError",
     "evalue": "int() takes at most 2 arguments (5 given)",
     "output_type": "error",
     "traceback": [
      "\u001b[1;31m---------------------------------------------------------------------------\u001b[0m",
      "\u001b[1;31mTypeError\u001b[0m                                 Traceback (most recent call last)",
      "\u001b[1;32m~\\AppData\\Local\\Temp\\ipykernel_19372\\2660177099.py\u001b[0m in \u001b[0;36m<module>\u001b[1;34m\u001b[0m\n\u001b[1;32m----> 1\u001b[1;33m \u001b[0mint\u001b[0m\u001b[1;33m(\u001b[0m\u001b[1;36m1\u001b[0m\u001b[1;33m,\u001b[0m \u001b[1;36m1\u001b[0m\u001b[1;33m,\u001b[0m \u001b[1;36m3\u001b[0m\u001b[1;33m,\u001b[0m \u001b[1;36m4\u001b[0m\u001b[1;33m,\u001b[0m \u001b[1;36m5\u001b[0m\u001b[1;33m)\u001b[0m\u001b[1;33m\u001b[0m\u001b[1;33m\u001b[0m\u001b[0m\n\u001b[0m",
      "\u001b[1;31mTypeError\u001b[0m: int() takes at most 2 arguments (5 given)"
     ]
    }
   ],
   "source": [
    "int(1, 1, 3, 4, 5)"
   ]
  },
  {
   "cell_type": "code",
   "execution_count": 39,
   "id": "64653310",
   "metadata": {},
   "outputs": [
    {
     "name": "stdout",
     "output_type": "stream",
     "text": [
      "1 2 3 4 5 6 "
     ]
    }
   ],
   "source": [
    "def our_print(*args):\n",
    "    for ele in args:\n",
    "        print(ele, end=' ')\n",
    "        \n",
    "our_print(1, 2, 3, 4, 5, 6)"
   ]
  },
  {
   "cell_type": "code",
   "execution_count": 38,
   "id": "b6b96a08",
   "metadata": {},
   "outputs": [
    {
     "name": "stdout",
     "output_type": "stream",
     "text": [
      "Help on built-in function print in module builtins:\n",
      "\n",
      "print(...)\n",
      "    print(value, ..., sep=' ', end='\\n', file=sys.stdout, flush=False)\n",
      "    \n",
      "    Prints the values to a stream, or to sys.stdout by default.\n",
      "    Optional keyword arguments:\n",
      "    file:  a file-like object (stream); defaults to the current sys.stdout.\n",
      "    sep:   string inserted between values, default a space.\n",
      "    end:   string appended after the last value, default a newline.\n",
      "    flush: whether to forcibly flush the stream.\n",
      "\n"
     ]
    }
   ],
   "source": [
    "help(print)"
   ]
  },
  {
   "cell_type": "code",
   "execution_count": 43,
   "id": "cd06c610",
   "metadata": {},
   "outputs": [
    {
     "name": "stdout",
     "output_type": "stream",
     "text": [
      "x S\n",
      "other SCAM\n",
      "S in SCAM True\n",
      "x P\n",
      "other SCAM\n",
      "P in SCAM False\n",
      "x A\n",
      "other SCAM\n",
      "A in SCAM True\n",
      "x M\n",
      "other SCAM\n",
      "M in SCAM True\n"
     ]
    },
    {
     "data": {
      "text/plain": [
       "['S', 'A', 'M']"
      ]
     },
     "execution_count": 43,
     "metadata": {},
     "output_type": "execute_result"
    }
   ],
   "source": [
    "def intersect(*args):\n",
    "    res = []\n",
    "    for x in args[0]:                  # scan first sequence\n",
    "        print('x', x)\n",
    "        for other in args[1:]:         # for all other args\n",
    "            print('other', other)\n",
    "            print(f'{x} in {other}', x in other)\n",
    "            if x not in other: break   # item in each one?\n",
    "        else:                          # no:  break out of loop\n",
    "            res.append(x)              # yes: add items to end\n",
    "    return res\n",
    "\n",
    "\n",
    "s1, s2, s3 = \"SPAM\", \"SCAM\", \"SLAM\"\n",
    "\n",
    "intersect(s1, s2)"
   ]
  },
  {
   "cell_type": "code",
   "execution_count": 44,
   "id": "709f9db9",
   "metadata": {},
   "outputs": [
    {
     "name": "stdout",
     "output_type": "stream",
     "text": [
      "x S\n",
      "other SCAM\n",
      "S in SCAM True\n",
      "other SLAM\n",
      "S in SLAM True\n",
      "x P\n",
      "other SCAM\n",
      "P in SCAM False\n",
      "x A\n",
      "other SCAM\n",
      "A in SCAM True\n",
      "other SLAM\n",
      "A in SLAM True\n",
      "x M\n",
      "other SCAM\n",
      "M in SCAM True\n",
      "other SLAM\n",
      "M in SLAM True\n"
     ]
    },
    {
     "data": {
      "text/plain": [
       "['S', 'A', 'M']"
      ]
     },
     "execution_count": 44,
     "metadata": {},
     "output_type": "execute_result"
    }
   ],
   "source": [
    "intersect(s1, s2, s3)"
   ]
  },
  {
   "cell_type": "code",
   "execution_count": 45,
   "id": "b9666c22",
   "metadata": {},
   "outputs": [
    {
     "data": {
      "text/plain": [
       "['S', 'P', 'A', 'M', 'C']"
      ]
     },
     "execution_count": 45,
     "metadata": {},
     "output_type": "execute_result"
    }
   ],
   "source": [
    "def union(*args):\n",
    "    res = []\n",
    "    for seq in args:                   # for all args\n",
    "        for x in seq:                  # for all nodes\n",
    "            if not x in res:\n",
    "                res.append(x)          # add new items to result\n",
    "    return res\n",
    "union(s1, s2)"
   ]
  },
  {
   "cell_type": "code",
   "execution_count": null,
   "id": "8617dbd1",
   "metadata": {},
   "outputs": [],
   "source": []
  }
 ],
 "metadata": {
  "kernelspec": {
   "display_name": "Python 3 (ipykernel)",
   "language": "python",
   "name": "python3"
  },
  "language_info": {
   "codemirror_mode": {
    "name": "ipython",
    "version": 3
   },
   "file_extension": ".py",
   "mimetype": "text/x-python",
   "name": "python",
   "nbconvert_exporter": "python",
   "pygments_lexer": "ipython3",
   "version": "3.9.13"
  }
 },
 "nbformat": 4,
 "nbformat_minor": 5
}
