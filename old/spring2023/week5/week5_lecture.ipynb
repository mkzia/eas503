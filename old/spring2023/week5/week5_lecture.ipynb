{
 "cells": [
  {
   "cell_type": "code",
   "execution_count": 2,
   "id": "e6c0e5a2",
   "metadata": {},
   "outputs": [
    {
     "data": {
      "text/plain": [
       "[1, 4, 9]"
      ]
     },
     "execution_count": 2,
     "metadata": {},
     "output_type": "execute_result"
    }
   ],
   "source": [
    "my_list = [1, 2, 3]\n",
    "new_list = []\n",
    "for ele in my_list:\n",
    "    tmp = ele * ele\n",
    "    new_list.append(tmp)\n",
    "new_list"
   ]
  },
  {
   "cell_type": "code",
   "execution_count": 3,
   "id": "ff17ab9c",
   "metadata": {},
   "outputs": [],
   "source": [
    "# [ f(ele) for ele in sequence ]\n",
    "\n",
    "l2 = [ele*ele for ele in my_list]"
   ]
  },
  {
   "cell_type": "code",
   "execution_count": 4,
   "id": "0b24e35a",
   "metadata": {},
   "outputs": [
    {
     "name": "stdout",
     "output_type": "stream",
     "text": [
      "[1, 4, 9]\n"
     ]
    }
   ],
   "source": [
    "print(l2)"
   ]
  },
  {
   "cell_type": "code",
   "execution_count": 6,
   "id": "7309dfea",
   "metadata": {},
   "outputs": [
    {
     "name": "stdout",
     "output_type": "stream",
     "text": [
      "[1, 4, 9]\n"
     ]
    }
   ],
   "source": [
    "def mul2(ele):\n",
    "    return ele * ele\n",
    "\n",
    "l2 = [mul2(ele) for ele in my_list]\n",
    "print(l2)"
   ]
  },
  {
   "cell_type": "code",
   "execution_count": 7,
   "id": "de6e6685",
   "metadata": {},
   "outputs": [
    {
     "name": "stdout",
     "output_type": "stream",
     "text": [
      "[1, 1, 1]\n"
     ]
    }
   ],
   "source": [
    "l2 = [1 for ele in my_list]\n",
    "print(l2)"
   ]
  },
  {
   "cell_type": "code",
   "execution_count": 8,
   "id": "62c2e43c",
   "metadata": {},
   "outputs": [
    {
     "name": "stdout",
     "output_type": "stream",
     "text": [
      "[1, 1, 1, 1, 1, 1, 1, 1, 1, 1, 1, 1, 1, 1, 1, 1, 1, 1, 1, 1, 1, 1, 1, 1, 1, 1, 1, 1, 1, 1, 1, 1, 1, 1, 1, 1, 1, 1, 1, 1, 1, 1, 1, 1, 1, 1, 1, 1, 1, 1, 1, 1, 1, 1, 1, 1, 1, 1, 1, 1, 1, 1, 1, 1, 1, 1, 1, 1, 1, 1, 1, 1, 1, 1, 1, 1, 1, 1, 1, 1, 1, 1, 1, 1, 1, 1, 1, 1, 1, 1, 1, 1, 1, 1, 1, 1, 1, 1, 1, 1]\n"
     ]
    }
   ],
   "source": [
    "l2 = [1 for ele in range(100)]\n",
    "print(l2)"
   ]
  },
  {
   "cell_type": "code",
   "execution_count": 9,
   "id": "1eeb51ba",
   "metadata": {},
   "outputs": [
    {
     "data": {
      "text/plain": [
       "[1,\n",
       " 1,\n",
       " 1,\n",
       " 1,\n",
       " 1,\n",
       " 1,\n",
       " 1,\n",
       " 1,\n",
       " 1,\n",
       " 1,\n",
       " 1,\n",
       " 1,\n",
       " 1,\n",
       " 1,\n",
       " 1,\n",
       " 1,\n",
       " 1,\n",
       " 1,\n",
       " 1,\n",
       " 1,\n",
       " 1,\n",
       " 1,\n",
       " 1,\n",
       " 1,\n",
       " 1,\n",
       " 1,\n",
       " 1,\n",
       " 1,\n",
       " 1,\n",
       " 1,\n",
       " 1,\n",
       " 1,\n",
       " 1,\n",
       " 1,\n",
       " 1,\n",
       " 1,\n",
       " 1,\n",
       " 1,\n",
       " 1,\n",
       " 1,\n",
       " 1,\n",
       " 1,\n",
       " 1,\n",
       " 1,\n",
       " 1,\n",
       " 1,\n",
       " 1,\n",
       " 1,\n",
       " 1,\n",
       " 1,\n",
       " 1,\n",
       " 1,\n",
       " 1,\n",
       " 1,\n",
       " 1,\n",
       " 1,\n",
       " 1,\n",
       " 1,\n",
       " 1,\n",
       " 1,\n",
       " 1,\n",
       " 1,\n",
       " 1,\n",
       " 1,\n",
       " 1,\n",
       " 1,\n",
       " 1,\n",
       " 1,\n",
       " 1,\n",
       " 1,\n",
       " 1,\n",
       " 1,\n",
       " 1,\n",
       " 1,\n",
       " 1,\n",
       " 1,\n",
       " 1,\n",
       " 1,\n",
       " 1,\n",
       " 1,\n",
       " 1,\n",
       " 1,\n",
       " 1,\n",
       " 1,\n",
       " 1,\n",
       " 1,\n",
       " 1,\n",
       " 1,\n",
       " 1,\n",
       " 1,\n",
       " 1,\n",
       " 1,\n",
       " 1,\n",
       " 1,\n",
       " 1,\n",
       " 1,\n",
       " 1,\n",
       " 1,\n",
       " 1,\n",
       " 1]"
      ]
     },
     "execution_count": 9,
     "metadata": {},
     "output_type": "execute_result"
    }
   ],
   "source": [
    "[1] * 100"
   ]
  },
  {
   "cell_type": "code",
   "execution_count": 11,
   "id": "65059ad7",
   "metadata": {},
   "outputs": [
    {
     "data": {
      "text/plain": [
       "['B', 'U', 'F', 'F', 'A', 'L', 'O']"
      ]
     },
     "execution_count": 11,
     "metadata": {},
     "output_type": "execute_result"
    }
   ],
   "source": [
    "animal = 'buffalo'\n",
    "[char.upper() for char in animal]"
   ]
  },
  {
   "cell_type": "code",
   "execution_count": 12,
   "id": "29e93e04",
   "metadata": {},
   "outputs": [
    {
     "data": {
      "text/plain": [
       "'BUFFALO'"
      ]
     },
     "execution_count": 12,
     "metadata": {},
     "output_type": "execute_result"
    }
   ],
   "source": [
    "animal.upper()"
   ]
  },
  {
   "cell_type": "code",
   "execution_count": 13,
   "id": "01c5b8dd",
   "metadata": {},
   "outputs": [
    {
     "data": {
      "text/plain": [
       "'BUFFALO'"
      ]
     },
     "execution_count": 13,
     "metadata": {},
     "output_type": "execute_result"
    }
   ],
   "source": [
    "''.join([char.upper() for char in animal])"
   ]
  },
  {
   "cell_type": "code",
   "execution_count": 14,
   "id": "4ba9a55e",
   "metadata": {},
   "outputs": [
    {
     "data": {
      "text/plain": [
       "'B, U, F, F, A, L, O'"
      ]
     },
     "execution_count": 14,
     "metadata": {},
     "output_type": "execute_result"
    }
   ],
   "source": [
    "', '.join([char.upper() for char in animal])"
   ]
  },
  {
   "cell_type": "code",
   "execution_count": 15,
   "id": "e5445d20",
   "metadata": {},
   "outputs": [
    {
     "data": {
      "text/plain": [
       "['John', 'Jane', 'Doe']"
      ]
     },
     "execution_count": 15,
     "metadata": {},
     "output_type": "execute_result"
    }
   ],
   "source": [
    "students = ['john', 'jane', 'doe']\n",
    "[student[0].upper() + student[1:] for student in students]"
   ]
  },
  {
   "cell_type": "code",
   "execution_count": 16,
   "id": "d6dbc74e",
   "metadata": {},
   "outputs": [
    {
     "name": "stdout",
     "output_type": "stream",
     "text": [
      "['John', 'Jane', 'Doe']\n"
     ]
    }
   ],
   "source": [
    "print([student.title() for student in students])"
   ]
  },
  {
   "cell_type": "code",
   "execution_count": 17,
   "id": "1ac40a12",
   "metadata": {},
   "outputs": [
    {
     "data": {
      "text/plain": [
       "['John', 'Jane', 'Doe']"
      ]
     },
     "execution_count": 17,
     "metadata": {},
     "output_type": "execute_result"
    }
   ],
   "source": [
    "[\n",
    "    student[0].upper() + student[1:] \n",
    "    for student in students\n",
    "]"
   ]
  },
  {
   "cell_type": "code",
   "execution_count": 18,
   "id": "3a949b6e",
   "metadata": {},
   "outputs": [],
   "source": [
    "my_list = [0, '', []]"
   ]
  },
  {
   "cell_type": "code",
   "execution_count": 19,
   "id": "e217c44a",
   "metadata": {},
   "outputs": [
    {
     "data": {
      "text/plain": [
       "[False, False, False]"
      ]
     },
     "execution_count": 19,
     "metadata": {},
     "output_type": "execute_result"
    }
   ],
   "source": [
    "[bool(ele) for ele in my_list]"
   ]
  },
  {
   "cell_type": "code",
   "execution_count": 20,
   "id": "9b7516de",
   "metadata": {},
   "outputs": [],
   "source": [
    "my_list = range(6)"
   ]
  },
  {
   "cell_type": "code",
   "execution_count": 21,
   "id": "235a2d7c",
   "metadata": {},
   "outputs": [
    {
     "data": {
      "text/plain": [
       "['0', '1', '2', '3', '4', '5']"
      ]
     },
     "execution_count": 21,
     "metadata": {},
     "output_type": "execute_result"
    }
   ],
   "source": [
    "[str(ele) for ele in my_list]"
   ]
  },
  {
   "cell_type": "code",
   "execution_count": 22,
   "id": "f77f663b",
   "metadata": {},
   "outputs": [],
   "source": [
    "x = 'John,84,34,56,90'\n",
    "name, *grades = x.split(',')"
   ]
  },
  {
   "cell_type": "code",
   "execution_count": 23,
   "id": "b2b781e4",
   "metadata": {},
   "outputs": [
    {
     "name": "stdout",
     "output_type": "stream",
     "text": [
      "John ['84', '34', '56', '90']\n"
     ]
    }
   ],
   "source": [
    "print(name, grades)"
   ]
  },
  {
   "cell_type": "code",
   "execution_count": 24,
   "id": "ae89afd5",
   "metadata": {},
   "outputs": [
    {
     "data": {
      "text/plain": [
       "[84, 34, 56, 90]"
      ]
     },
     "execution_count": 24,
     "metadata": {},
     "output_type": "execute_result"
    }
   ],
   "source": [
    "[int(grade) for grade in grades]"
   ]
  },
  {
   "cell_type": "code",
   "execution_count": 25,
   "id": "c855b05c",
   "metadata": {},
   "outputs": [],
   "source": [
    "tmp = []\n",
    "for grade in grades:\n",
    "    tmp.append(int(grade))"
   ]
  },
  {
   "cell_type": "code",
   "execution_count": 26,
   "id": "ec60b6bc",
   "metadata": {},
   "outputs": [
    {
     "data": {
      "text/plain": [
       "[84, 34, 56, 90]"
      ]
     },
     "execution_count": 26,
     "metadata": {},
     "output_type": "execute_result"
    }
   ],
   "source": [
    "tmp"
   ]
  },
  {
   "cell_type": "code",
   "execution_count": 28,
   "id": "f6aafaa7",
   "metadata": {},
   "outputs": [
    {
     "name": "stdout",
     "output_type": "stream",
     "text": [
      "[2, 4, 6, 8, 10, 12, 14, 16, 18, 20]\n"
     ]
    }
   ],
   "source": [
    "numbers = range(1, 21)\n",
    "even = [number for number in numbers if number % 2 == 0]\n",
    "print(even)"
   ]
  },
  {
   "cell_type": "code",
   "execution_count": 29,
   "id": "1fe3b20e",
   "metadata": {},
   "outputs": [
    {
     "name": "stdout",
     "output_type": "stream",
     "text": [
      "[1, 3, 5, 7, 9, 11, 13, 15, 17, 19]\n"
     ]
    }
   ],
   "source": [
    "even = [number for number in numbers if number % 2 != 0]\n",
    "print(even)"
   ]
  },
  {
   "cell_type": "code",
   "execution_count": 30,
   "id": "932fa624",
   "metadata": {},
   "outputs": [
    {
     "data": {
      "text/plain": [
       "[0, 1, 2, 27, 4, 125, 6, 343, 8, 729]"
      ]
     },
     "execution_count": 30,
     "metadata": {},
     "output_type": "execute_result"
    }
   ],
   "source": [
    "numbers = range(10)\n",
    "[number if number % 2 == 0 else number**3 for number in numbers]"
   ]
  },
  {
   "cell_type": "code",
   "execution_count": 32,
   "id": "794c4ff4",
   "metadata": {},
   "outputs": [
    {
     "data": {
      "text/plain": [
       "' rlly wnt t g t wrk'"
      ]
     },
     "execution_count": 32,
     "metadata": {},
     "output_type": "execute_result"
    }
   ],
   "source": [
    "sentence = 'I rEAlly want to gO to work'\n",
    "''.join([char for char in sentence if char.lower() not in 'aeiou'])"
   ]
  },
  {
   "cell_type": "code",
   "execution_count": 37,
   "id": "8c4d1316",
   "metadata": {},
   "outputs": [
    {
     "name": "stdout",
     "output_type": "stream",
     "text": [
      "0\n",
      "5\n",
      "10\n",
      "15\n",
      "20\n"
     ]
    }
   ],
   "source": [
    "x = ( ele*5 for ele in range(5) )\n",
    "\n",
    "for ele in x:\n",
    "    print(ele)"
   ]
  },
  {
   "cell_type": "code",
   "execution_count": 38,
   "id": "8701f5eb",
   "metadata": {},
   "outputs": [
    {
     "name": "stdout",
     "output_type": "stream",
     "text": [
      "0\n",
      "5\n",
      "10\n",
      "15\n",
      "20\n",
      "0\n",
      "5\n",
      "10\n",
      "15\n",
      "20\n"
     ]
    }
   ],
   "source": [
    "x = list(( ele*5 for ele in range(5) ))\n",
    "for ele in x:\n",
    "    print(ele)\n",
    "for ele in x:\n",
    "    print(ele)"
   ]
  },
  {
   "cell_type": "code",
   "execution_count": 35,
   "id": "49a107e8",
   "metadata": {},
   "outputs": [],
   "source": [
    "for ele in x:\n",
    "    print(ele)"
   ]
  },
  {
   "cell_type": "code",
   "execution_count": null,
   "id": "59cd4945",
   "metadata": {},
   "outputs": [],
   "source": []
  },
  {
   "cell_type": "code",
   "execution_count": 36,
   "id": "35893483",
   "metadata": {},
   "outputs": [],
   "source": [
    "x = []\n",
    "for ele in x:\n",
    "    print(ele)"
   ]
  },
  {
   "cell_type": "code",
   "execution_count": 39,
   "id": "9ee5e720",
   "metadata": {},
   "outputs": [],
   "source": [
    "large_string = \"Cristiano Ronaldo\tNationality=Portugal;National_Position=LS;National_Kit=7.0;Club=Real Madrid;Club_Position=LW;Club_Kit=7.0;Club_Joining=07/01/2009;Contract_Expiry=2021.0;Rating=94;Height=185 cm;Weight=80 kg;Preferred_Foot=Right;Birth_Date=02/05/1985;Age=32;Preferred_Position=LW/ST;Work_Rate=High / Low;Weak_foot=4;Skill_Moves=5;Ball_Control=93;Dribbling=92;Marking=22;Sliding_Tackle=23;Standing_Tackle=31;Aggression=63;Reactions=96;Attacking_Position=94;Interceptions=29;Vision=85;Composure=86;Crossing=84;Short_Pass=83;Long_Pass=77;Acceleration=91;Speed=92;Stamina=92;Strength=80;Balance=63;Agility=90;Jumping=95;Heading=85;Shot_Power=92;Finishing=93;Long_Shots=90;Curve=81;Freekick_Accuracy=76;Penalties=85;Volleys=88;GK_Positioning=14;GK_Diving=7;GK_Kicking=15;GK_Handling=11;GK_Reflexes=11\""
   ]
  },
  {
   "cell_type": "code",
   "execution_count": 40,
   "id": "e5720447",
   "metadata": {},
   "outputs": [],
   "source": [
    "name, large = large_string.split('\\t')"
   ]
  },
  {
   "cell_type": "code",
   "execution_count": 41,
   "id": "fff23cd6",
   "metadata": {},
   "outputs": [
    {
     "name": "stdout",
     "output_type": "stream",
     "text": [
      "Cristiano Ronaldo\n"
     ]
    }
   ],
   "source": [
    "print(name)"
   ]
  },
  {
   "cell_type": "code",
   "execution_count": 42,
   "id": "1e14c653",
   "metadata": {},
   "outputs": [
    {
     "name": "stdout",
     "output_type": "stream",
     "text": [
      "Nationality=Portugal;National_Position=LS;National_Kit=7.0;Club=Real Madrid;Club_Position=LW;Club_Kit=7.0;Club_Joining=07/01/2009;Contract_Expiry=2021.0;Rating=94;Height=185 cm;Weight=80 kg;Preferred_Foot=Right;Birth_Date=02/05/1985;Age=32;Preferred_Position=LW/ST;Work_Rate=High / Low;Weak_foot=4;Skill_Moves=5;Ball_Control=93;Dribbling=92;Marking=22;Sliding_Tackle=23;Standing_Tackle=31;Aggression=63;Reactions=96;Attacking_Position=94;Interceptions=29;Vision=85;Composure=86;Crossing=84;Short_Pass=83;Long_Pass=77;Acceleration=91;Speed=92;Stamina=92;Strength=80;Balance=63;Agility=90;Jumping=95;Heading=85;Shot_Power=92;Finishing=93;Long_Shots=90;Curve=81;Freekick_Accuracy=76;Penalties=85;Volleys=88;GK_Positioning=14;GK_Diving=7;GK_Kicking=15;GK_Handling=11;GK_Reflexes=11\n"
     ]
    }
   ],
   "source": [
    "print(large)"
   ]
  },
  {
   "cell_type": "code",
   "execution_count": 53,
   "id": "3471a027",
   "metadata": {},
   "outputs": [],
   "source": [
    "keys = []\n",
    "values = []\n",
    "int_types = ['Weak_foot', 'Skill_Moves', 'Ball_Control', 'Dribbling', 'Marking', 'Sliding_Tackle', 'Standing_Tackle', 'Aggression', 'Reactions', 'Attacking_Position', 'Interceptions', 'Vision', 'Composure', 'Crossing', 'Short_Pass', 'Long_Pass', 'Acceleration', 'Speed', 'Stamina', 'Strength', 'Balance', 'Agility', 'Jumping', 'Heading', 'Shot_Power', 'Finishing', 'Long_Shots', 'Curve', 'Freekick_Accuracy', 'Penalties', 'Volleys', 'GK_Positioning', 'GK_Diving', 'GK_Kicking', 'GK_Handling', 'GK_Reflexes']\n",
    "float_types\n",
    "for ele in large.split(';'):\n",
    "    key, value = ele.split('=')\n",
    "    keys.append(key)\n",
    "    if key in int_types:\n",
    "        values.append(int(value))\n",
    "    else:\n",
    "        values.append(value)"
   ]
  },
  {
   "cell_type": "code",
   "execution_count": 54,
   "id": "28d82278",
   "metadata": {},
   "outputs": [
    {
     "name": "stdout",
     "output_type": "stream",
     "text": [
      "['Nationality', 'National_Position', 'National_Kit', 'Club', 'Club_Position', 'Club_Kit', 'Club_Joining', 'Contract_Expiry', 'Rating', 'Height', 'Weight', 'Preferred_Foot', 'Birth_Date', 'Age', 'Preferred_Position', 'Work_Rate', 'Weak_foot', 'Skill_Moves', 'Ball_Control', 'Dribbling', 'Marking', 'Sliding_Tackle', 'Standing_Tackle', 'Aggression', 'Reactions', 'Attacking_Position', 'Interceptions', 'Vision', 'Composure', 'Crossing', 'Short_Pass', 'Long_Pass', 'Acceleration', 'Speed', 'Stamina', 'Strength', 'Balance', 'Agility', 'Jumping', 'Heading', 'Shot_Power', 'Finishing', 'Long_Shots', 'Curve', 'Freekick_Accuracy', 'Penalties', 'Volleys', 'GK_Positioning', 'GK_Diving', 'GK_Kicking', 'GK_Handling', 'GK_Reflexes']\n"
     ]
    }
   ],
   "source": [
    "print(keys)"
   ]
  },
  {
   "cell_type": "code",
   "execution_count": 55,
   "id": "d53c66a9",
   "metadata": {},
   "outputs": [
    {
     "name": "stdout",
     "output_type": "stream",
     "text": [
      "['Portugal', 'LS', '7.0', 'Real Madrid', 'LW', '7.0', '07/01/2009', '2021.0', '94', '185 cm', '80 kg', 'Right', '02/05/1985', '32', 'LW/ST', 'High / Low', 4, 5, 93, 92, 22, 23, 31, 63, 96, 94, 29, 85, 86, 84, 83, 77, 91, 92, 92, 80, 63, 90, 95, 85, 92, 93, 90, 81, 76, 85, 88, 14, 7, 15, 11, 11]\n"
     ]
    }
   ],
   "source": [
    "print(values)"
   ]
  },
  {
   "cell_type": "code",
   "execution_count": null,
   "id": "d1c7d0bb",
   "metadata": {},
   "outputs": [],
   "source": [
    "days_in_months = [0, 31, 28, 31, 30, 31, 30, 31, 31, 30, 31, 30, 31] "
   ]
  },
  {
   "cell_type": "code",
   "execution_count": 56,
   "id": "ce37d562",
   "metadata": {},
   "outputs": [
    {
     "data": {
      "text/plain": [
       "(('John Doe', 'jdoe@buffalo.edu', 11223344, 'Biology'),\n",
       " ('Jane Doe', 'jane@buffalo.edu', 22334455, 'Chemistry'))"
      ]
     },
     "execution_count": 56,
     "metadata": {},
     "output_type": "execute_result"
    }
   ],
   "source": [
    "(\n",
    "    ('John Doe', 'jdoe@buffalo.edu', 11223344, 'Biology'),\n",
    "    ('Jane Doe', 'jane@buffalo.edu', 22334455, 'Chemistry'),\n",
    ")"
   ]
  },
  {
   "cell_type": "code",
   "execution_count": 57,
   "id": "ddb5e03e",
   "metadata": {},
   "outputs": [],
   "source": [
    "days_in_months = {\n",
    "    'Jan': 31,\n",
    "    'Feb': (28,29),\n",
    "    'Mar': 31,\n",
    "    'Apr': 30,\n",
    "    'May': 31,\n",
    "    'Jun': 30,\n",
    "    'Jul': 31,\n",
    "    'Aug': 31,\n",
    "    'Sep': 30,\n",
    "    'Oct': 31,\n",
    "    'Nov': 30,\n",
    "    'Dec': 31,\n",
    "}"
   ]
  },
  {
   "cell_type": "code",
   "execution_count": 58,
   "id": "6f417cc7",
   "metadata": {},
   "outputs": [],
   "source": [
    "days_in_months = {\n",
    "    1: 31,\n",
    "    2: (28,29),\n",
    "    3: 31,\n",
    "    4: 30,\n",
    "    5: 31,\n",
    "    6: 30,\n",
    "    7: 31,\n",
    "    8: 31,\n",
    "    9: 30,\n",
    "    10: 31,\n",
    "    11: 30,\n",
    "    12: 31,\n",
    "}"
   ]
  },
  {
   "cell_type": "code",
   "execution_count": 60,
   "id": "c15a2018",
   "metadata": {},
   "outputs": [
    {
     "data": {
      "text/plain": [
       "31"
      ]
     },
     "execution_count": 60,
     "metadata": {},
     "output_type": "execute_result"
    }
   ],
   "source": [
    "days_in_months[5]"
   ]
  },
  {
   "cell_type": "code",
   "execution_count": 61,
   "id": "26d47ca3",
   "metadata": {},
   "outputs": [
    {
     "data": {
      "text/plain": [
       "({'Name': 'John Doe',\n",
       "  'Email': 'jdoe@buffalo.edu',\n",
       "  'ID': 11223344,\n",
       "  'Major': 'Biology'},\n",
       " {'Name': 'Jane Doe',\n",
       "  'Email': 'Jane@buffalo.edu',\n",
       "  'ID': 22334455,\n",
       "  'Major': 'Chemistry'})"
      ]
     },
     "execution_count": 61,
     "metadata": {},
     "output_type": "execute_result"
    }
   ],
   "source": [
    "(\n",
    "    {\n",
    "        'Name': 'John Doe', \n",
    "        'Email': 'jdoe@buffalo.edu',\n",
    "        'ID': 11223344, \n",
    "        'Major': 'Biology'\n",
    "    },\n",
    "    {\n",
    "        'Name': 'Jane Doe', \n",
    "        'Email': 'Jane@buffalo.edu',\n",
    "        'ID': 22334455, \n",
    "        'Major': 'Chemistry'\n",
    "    },\n",
    ")"
   ]
  },
  {
   "cell_type": "code",
   "execution_count": 62,
   "id": "1b799a5d",
   "metadata": {},
   "outputs": [
    {
     "name": "stdout",
     "output_type": "stream",
     "text": [
      "{1: True, 'F': False, 2: 3}\n",
      "1 True\n",
      "F False\n",
      "2 3\n"
     ]
    }
   ],
   "source": [
    "x = {1: True, 'F': False, 2:3}\n",
    "print(x)\n",
    "for key, value in x.items():\n",
    "    print(key, value)"
   ]
  },
  {
   "cell_type": "code",
   "execution_count": 63,
   "id": "e43a1dbf",
   "metadata": {},
   "outputs": [
    {
     "data": {
      "text/plain": [
       "{'1': 1}"
      ]
     },
     "execution_count": 63,
     "metadata": {},
     "output_type": "execute_result"
    }
   ],
   "source": [
    "# What can be keys?\n",
    "# immutable: str, tuple, int, float, frozenset\n",
    "\n",
    "{'1': 1}"
   ]
  },
  {
   "cell_type": "code",
   "execution_count": 64,
   "id": "2b5429fe",
   "metadata": {},
   "outputs": [
    {
     "data": {
      "text/plain": [
       "{(1, 2): 1}"
      ]
     },
     "execution_count": 64,
     "metadata": {},
     "output_type": "execute_result"
    }
   ],
   "source": [
    "\n",
    "{(1,2): 1}"
   ]
  },
  {
   "cell_type": "code",
   "execution_count": 65,
   "id": "4a1d962b",
   "metadata": {},
   "outputs": [
    {
     "ename": "TypeError",
     "evalue": "unhashable type: 'list'",
     "output_type": "error",
     "traceback": [
      "\u001b[1;31m---------------------------------------------------------------------------\u001b[0m",
      "\u001b[1;31mTypeError\u001b[0m                                 Traceback (most recent call last)",
      "\u001b[1;32m~\\AppData\\Local\\Temp\\ipykernel_8472\\1289384886.py\u001b[0m in \u001b[0;36m<module>\u001b[1;34m\u001b[0m\n\u001b[1;32m----> 1\u001b[1;33m \u001b[1;33m{\u001b[0m\u001b[1;33m[\u001b[0m\u001b[1;36m1\u001b[0m\u001b[1;33m,\u001b[0m\u001b[1;36m2\u001b[0m\u001b[1;33m]\u001b[0m\u001b[1;33m:\u001b[0m \u001b[1;36m1\u001b[0m\u001b[1;33m}\u001b[0m\u001b[1;33m\u001b[0m\u001b[1;33m\u001b[0m\u001b[0m\n\u001b[0m",
      "\u001b[1;31mTypeError\u001b[0m: unhashable type: 'list'"
     ]
    }
   ],
   "source": [
    "\n",
    "{[1,2]: 1}"
   ]
  },
  {
   "cell_type": "code",
   "execution_count": 66,
   "id": "bbc14b6d",
   "metadata": {},
   "outputs": [
    {
     "data": {
      "text/plain": [
       "{1: 1}"
      ]
     },
     "execution_count": 66,
     "metadata": {},
     "output_type": "execute_result"
    }
   ],
   "source": [
    "{1: 1}"
   ]
  },
  {
   "cell_type": "code",
   "execution_count": 67,
   "id": "dd5eb34d",
   "metadata": {},
   "outputs": [
    {
     "data": {
      "text/plain": [
       "{3.14: 1}"
      ]
     },
     "execution_count": 67,
     "metadata": {},
     "output_type": "execute_result"
    }
   ],
   "source": [
    "{3.14: 1}"
   ]
  },
  {
   "cell_type": "code",
   "execution_count": 68,
   "id": "d1ca9371",
   "metadata": {},
   "outputs": [
    {
     "data": {
      "text/plain": [
       "{True: 1}"
      ]
     },
     "execution_count": 68,
     "metadata": {},
     "output_type": "execute_result"
    }
   ],
   "source": [
    "{True: 1}"
   ]
  },
  {
   "cell_type": "code",
   "execution_count": 69,
   "id": "cbd2c09e",
   "metadata": {},
   "outputs": [
    {
     "ename": "SyntaxError",
     "evalue": "invalid syntax (296176515.py, line 4)",
     "output_type": "error",
     "traceback": [
      "\u001b[1;36m  File \u001b[1;32m\"C:\\Users\\mkhaw\\AppData\\Local\\Temp\\ipykernel_8472\\296176515.py\"\u001b[1;36m, line \u001b[1;32m4\u001b[0m\n\u001b[1;33m    'id': 1234,\u001b[0m\n\u001b[1;37m        ^\u001b[0m\n\u001b[1;31mSyntaxError\u001b[0m\u001b[1;31m:\u001b[0m invalid syntax\n"
     ]
    }
   ],
   "source": [
    "my_dict = {\n",
    "    'name': 'john',\n",
    "    'email': 'john@email.com',\n",
    "    'id': 1234,\n",
    "    'major': 'Engineering'\n",
    "}"
   ]
  },
  {
   "cell_type": "code",
   "execution_count": 71,
   "id": "2313f3b0",
   "metadata": {},
   "outputs": [
    {
     "ename": "SyntaxError",
     "evalue": "invalid syntax (454533866.py, line 6)",
     "output_type": "error",
     "traceback": [
      "\u001b[1;36m  File \u001b[1;32m\"C:\\Users\\mkhaw\\AppData\\Local\\Temp\\ipykernel_8472\\454533866.py\"\u001b[1;36m, line \u001b[1;32m6\u001b[0m\n\u001b[1;33m    'year': 2024\u001b[0m\n\u001b[1;37m          ^\u001b[0m\n\u001b[1;31mSyntaxError\u001b[0m\u001b[1;31m:\u001b[0m invalid syntax\n"
     ]
    }
   ],
   "source": [
    "my_dict = {\n",
    "    'name': 'john',\n",
    "    'email': 'john@email.com',\n",
    "    'id': 1234,\n",
    "    'major': 'Engineering',\n",
    "    'year': 2024,\n",
    "}"
   ]
  },
  {
   "cell_type": "code",
   "execution_count": null,
   "id": "f7138414",
   "metadata": {},
   "outputs": [],
   "source": [
    "[1, 2, 3, ]"
   ]
  },
  {
   "cell_type": "code",
   "execution_count": 72,
   "id": "ca818028",
   "metadata": {},
   "outputs": [
    {
     "data": {
      "text/plain": [
       "{'name': 'john', 'email': 'john@email.com', 'id': 1234, 'major': 'Engineering'}"
      ]
     },
     "execution_count": 72,
     "metadata": {},
     "output_type": "execute_result"
    }
   ],
   "source": [
    "dict(\n",
    "    name='john',\n",
    "    email='john@email.com',\n",
    "    id=1234,\n",
    "    major='Engineering'\n",
    ")"
   ]
  },
  {
   "cell_type": "code",
   "execution_count": 73,
   "id": "f8c0867b",
   "metadata": {},
   "outputs": [
    {
     "data": {
      "text/plain": [
       "['Nationality',\n",
       " 'National_Position',\n",
       " 'National_Kit',\n",
       " 'Club',\n",
       " 'Club_Position',\n",
       " 'Club_Kit',\n",
       " 'Club_Joining',\n",
       " 'Contract_Expiry',\n",
       " 'Rating',\n",
       " 'Height',\n",
       " 'Weight',\n",
       " 'Preferred_Foot',\n",
       " 'Birth_Date',\n",
       " 'Age',\n",
       " 'Preferred_Position',\n",
       " 'Work_Rate',\n",
       " 'Weak_foot',\n",
       " 'Skill_Moves',\n",
       " 'Ball_Control',\n",
       " 'Dribbling',\n",
       " 'Marking',\n",
       " 'Sliding_Tackle',\n",
       " 'Standing_Tackle',\n",
       " 'Aggression',\n",
       " 'Reactions',\n",
       " 'Attacking_Position',\n",
       " 'Interceptions',\n",
       " 'Vision',\n",
       " 'Composure',\n",
       " 'Crossing',\n",
       " 'Short_Pass',\n",
       " 'Long_Pass',\n",
       " 'Acceleration',\n",
       " 'Speed',\n",
       " 'Stamina',\n",
       " 'Strength',\n",
       " 'Balance',\n",
       " 'Agility',\n",
       " 'Jumping',\n",
       " 'Heading',\n",
       " 'Shot_Power',\n",
       " 'Finishing',\n",
       " 'Long_Shots',\n",
       " 'Curve',\n",
       " 'Freekick_Accuracy',\n",
       " 'Penalties',\n",
       " 'Volleys',\n",
       " 'GK_Positioning',\n",
       " 'GK_Diving',\n",
       " 'GK_Kicking',\n",
       " 'GK_Handling',\n",
       " 'GK_Reflexes']"
      ]
     },
     "execution_count": 73,
     "metadata": {},
     "output_type": "execute_result"
    }
   ],
   "source": [
    "keys"
   ]
  },
  {
   "cell_type": "code",
   "execution_count": 74,
   "id": "27d3f543",
   "metadata": {},
   "outputs": [
    {
     "data": {
      "text/plain": [
       "['Portugal',\n",
       " 'LS',\n",
       " '7.0',\n",
       " 'Real Madrid',\n",
       " 'LW',\n",
       " '7.0',\n",
       " '07/01/2009',\n",
       " '2021.0',\n",
       " '94',\n",
       " '185 cm',\n",
       " '80 kg',\n",
       " 'Right',\n",
       " '02/05/1985',\n",
       " '32',\n",
       " 'LW/ST',\n",
       " 'High / Low',\n",
       " 4,\n",
       " 5,\n",
       " 93,\n",
       " 92,\n",
       " 22,\n",
       " 23,\n",
       " 31,\n",
       " 63,\n",
       " 96,\n",
       " 94,\n",
       " 29,\n",
       " 85,\n",
       " 86,\n",
       " 84,\n",
       " 83,\n",
       " 77,\n",
       " 91,\n",
       " 92,\n",
       " 92,\n",
       " 80,\n",
       " 63,\n",
       " 90,\n",
       " 95,\n",
       " 85,\n",
       " 92,\n",
       " 93,\n",
       " 90,\n",
       " 81,\n",
       " 76,\n",
       " 85,\n",
       " 88,\n",
       " 14,\n",
       " 7,\n",
       " 15,\n",
       " 11,\n",
       " 11]"
      ]
     },
     "execution_count": 74,
     "metadata": {},
     "output_type": "execute_result"
    }
   ],
   "source": [
    "values"
   ]
  },
  {
   "cell_type": "code",
   "execution_count": 75,
   "id": "63779376",
   "metadata": {},
   "outputs": [
    {
     "name": "stdout",
     "output_type": "stream",
     "text": [
      "{'Nationality': 'Portugal', 'National_Position': 'LS', 'National_Kit': '7.0', 'Club': 'Real Madrid', 'Club_Position': 'LW', 'Club_Kit': '7.0', 'Club_Joining': '07/01/2009', 'Contract_Expiry': '2021.0', 'Rating': '94', 'Height': '185 cm', 'Weight': '80 kg', 'Preferred_Foot': 'Right', 'Birth_Date': '02/05/1985', 'Age': '32', 'Preferred_Position': 'LW/ST', 'Work_Rate': 'High / Low', 'Weak_foot': 4, 'Skill_Moves': 5, 'Ball_Control': 93, 'Dribbling': 92, 'Marking': 22, 'Sliding_Tackle': 23, 'Standing_Tackle': 31, 'Aggression': 63, 'Reactions': 96, 'Attacking_Position': 94, 'Interceptions': 29, 'Vision': 85, 'Composure': 86, 'Crossing': 84, 'Short_Pass': 83, 'Long_Pass': 77, 'Acceleration': 91, 'Speed': 92, 'Stamina': 92, 'Strength': 80, 'Balance': 63, 'Agility': 90, 'Jumping': 95, 'Heading': 85, 'Shot_Power': 92, 'Finishing': 93, 'Long_Shots': 90, 'Curve': 81, 'Freekick_Accuracy': 76, 'Penalties': 85, 'Volleys': 88, 'GK_Positioning': 14, 'GK_Diving': 7, 'GK_Kicking': 15, 'GK_Handling': 11, 'GK_Reflexes': 11}\n"
     ]
    }
   ],
   "source": [
    "my_dict = {}\n",
    "for k, v in zip(keys, values):\n",
    "    my_dict[k] = v\n",
    "    \n",
    "print(my_dict)\n",
    "    "
   ]
  },
  {
   "cell_type": "code",
   "execution_count": 76,
   "id": "a0eb0f20",
   "metadata": {},
   "outputs": [
    {
     "name": "stdout",
     "output_type": "stream",
     "text": [
      "{'Acceleration': 91,\n",
      " 'Age': '32',\n",
      " 'Aggression': 63,\n",
      " 'Agility': 90,\n",
      " 'Attacking_Position': 94,\n",
      " 'Balance': 63,\n",
      " 'Ball_Control': 93,\n",
      " 'Birth_Date': '02/05/1985',\n",
      " 'Club': 'Real Madrid',\n",
      " 'Club_Joining': '07/01/2009',\n",
      " 'Club_Kit': '7.0',\n",
      " 'Club_Position': 'LW',\n",
      " 'Composure': 86,\n",
      " 'Contract_Expiry': '2021.0',\n",
      " 'Crossing': 84,\n",
      " 'Curve': 81,\n",
      " 'Dribbling': 92,\n",
      " 'Finishing': 93,\n",
      " 'Freekick_Accuracy': 76,\n",
      " 'GK_Diving': 7,\n",
      " 'GK_Handling': 11,\n",
      " 'GK_Kicking': 15,\n",
      " 'GK_Positioning': 14,\n",
      " 'GK_Reflexes': 11,\n",
      " 'Heading': 85,\n",
      " 'Height': '185 cm',\n",
      " 'Interceptions': 29,\n",
      " 'Jumping': 95,\n",
      " 'Long_Pass': 77,\n",
      " 'Long_Shots': 90,\n",
      " 'Marking': 22,\n",
      " 'National_Kit': '7.0',\n",
      " 'National_Position': 'LS',\n",
      " 'Nationality': 'Portugal',\n",
      " 'Penalties': 85,\n",
      " 'Preferred_Foot': 'Right',\n",
      " 'Preferred_Position': 'LW/ST',\n",
      " 'Rating': '94',\n",
      " 'Reactions': 96,\n",
      " 'Short_Pass': 83,\n",
      " 'Shot_Power': 92,\n",
      " 'Skill_Moves': 5,\n",
      " 'Sliding_Tackle': 23,\n",
      " 'Speed': 92,\n",
      " 'Stamina': 92,\n",
      " 'Standing_Tackle': 31,\n",
      " 'Strength': 80,\n",
      " 'Vision': 85,\n",
      " 'Volleys': 88,\n",
      " 'Weak_foot': 4,\n",
      " 'Weight': '80 kg',\n",
      " 'Work_Rate': 'High / Low'}\n"
     ]
    }
   ],
   "source": [
    "from pprint import pprint\n",
    "pprint(my_dict)"
   ]
  },
  {
   "cell_type": "code",
   "execution_count": 78,
   "id": "12c6ee50",
   "metadata": {},
   "outputs": [
    {
     "data": {
      "text/plain": [
       "{'Nationality': 'Portugal',\n",
       " 'National_Position': 'LS',\n",
       " 'National_Kit': '7.0',\n",
       " 'Club': 'Real Madrid',\n",
       " 'Club_Position': 'LW',\n",
       " 'Club_Kit': '7.0',\n",
       " 'Club_Joining': '07/01/2009',\n",
       " 'Contract_Expiry': '2021.0',\n",
       " 'Rating': '94',\n",
       " 'Height': '185 cm',\n",
       " 'Weight': '80 kg',\n",
       " 'Preferred_Foot': 'Right',\n",
       " 'Birth_Date': '02/05/1985',\n",
       " 'Age': '32',\n",
       " 'Preferred_Position': 'LW/ST',\n",
       " 'Work_Rate': 'High / Low',\n",
       " 'Weak_foot': 4,\n",
       " 'Skill_Moves': 5,\n",
       " 'Ball_Control': 93,\n",
       " 'Dribbling': 92,\n",
       " 'Marking': 22,\n",
       " 'Sliding_Tackle': 23,\n",
       " 'Standing_Tackle': 31,\n",
       " 'Aggression': 63,\n",
       " 'Reactions': 96,\n",
       " 'Attacking_Position': 94,\n",
       " 'Interceptions': 29,\n",
       " 'Vision': 85,\n",
       " 'Composure': 86,\n",
       " 'Crossing': 84,\n",
       " 'Short_Pass': 83,\n",
       " 'Long_Pass': 77,\n",
       " 'Acceleration': 91,\n",
       " 'Speed': 92,\n",
       " 'Stamina': 92,\n",
       " 'Strength': 80,\n",
       " 'Balance': 63,\n",
       " 'Agility': 90,\n",
       " 'Jumping': 95,\n",
       " 'Heading': 85,\n",
       " 'Shot_Power': 92,\n",
       " 'Finishing': 93,\n",
       " 'Long_Shots': 90,\n",
       " 'Curve': 81,\n",
       " 'Freekick_Accuracy': 76,\n",
       " 'Penalties': 85,\n",
       " 'Volleys': 88,\n",
       " 'GK_Positioning': 14,\n",
       " 'GK_Diving': 7,\n",
       " 'GK_Kicking': 15,\n",
       " 'GK_Handling': 11,\n",
       " 'GK_Reflexes': 11}"
      ]
     },
     "execution_count": 78,
     "metadata": {},
     "output_type": "execute_result"
    }
   ],
   "source": [
    "dict(zip(keys,values))"
   ]
  },
  {
   "cell_type": "code",
   "execution_count": 80,
   "id": "cb9431dd",
   "metadata": {},
   "outputs": [
    {
     "data": {
      "text/plain": [
       "{1: 2, 3: 4}"
      ]
     },
     "execution_count": 80,
     "metadata": {},
     "output_type": "execute_result"
    }
   ],
   "source": [
    "dict(((1,2), (3,4)))"
   ]
  },
  {
   "cell_type": "code",
   "execution_count": 81,
   "id": "579a5e7d",
   "metadata": {},
   "outputs": [
    {
     "data": {
      "text/plain": [
       "{'Nationality': 'Portugal',\n",
       " 'National_Position': 'LS',\n",
       " 'National_Kit': '7.0',\n",
       " 'Club': 'Real Madrid',\n",
       " 'Club_Position': 'LW',\n",
       " 'Club_Kit': '7.0',\n",
       " 'Club_Joining': '07/01/2009',\n",
       " 'Contract_Expiry': '2021.0',\n",
       " 'Rating': '94',\n",
       " 'Height': '185 cm',\n",
       " 'Weight': '80 kg',\n",
       " 'Preferred_Foot': 'Right',\n",
       " 'Birth_Date': '02/05/1985',\n",
       " 'Age': '32',\n",
       " 'Preferred_Position': 'LW/ST',\n",
       " 'Work_Rate': 'High / Low',\n",
       " 'Weak_foot': 4,\n",
       " 'Skill_Moves': 5,\n",
       " 'Ball_Control': 93,\n",
       " 'Dribbling': 92,\n",
       " 'Marking': 22,\n",
       " 'Sliding_Tackle': 23,\n",
       " 'Standing_Tackle': 31,\n",
       " 'Aggression': 63,\n",
       " 'Reactions': 96,\n",
       " 'Attacking_Position': 94,\n",
       " 'Interceptions': 29,\n",
       " 'Vision': 85,\n",
       " 'Composure': 86,\n",
       " 'Crossing': 84,\n",
       " 'Short_Pass': 83,\n",
       " 'Long_Pass': 77,\n",
       " 'Acceleration': 91,\n",
       " 'Speed': 92,\n",
       " 'Stamina': 92,\n",
       " 'Strength': 80,\n",
       " 'Balance': 63,\n",
       " 'Agility': 90,\n",
       " 'Jumping': 95,\n",
       " 'Heading': 85,\n",
       " 'Shot_Power': 92,\n",
       " 'Finishing': 93,\n",
       " 'Long_Shots': 90,\n",
       " 'Curve': 81,\n",
       " 'Freekick_Accuracy': 76,\n",
       " 'Penalties': 85,\n",
       " 'Volleys': 88,\n",
       " 'GK_Positioning': 14,\n",
       " 'GK_Diving': 7,\n",
       " 'GK_Kicking': 15,\n",
       " 'GK_Handling': 11,\n",
       " 'GK_Reflexes': 11}"
      ]
     },
     "execution_count": 81,
     "metadata": {},
     "output_type": "execute_result"
    }
   ],
   "source": [
    "my_dict"
   ]
  },
  {
   "cell_type": "code",
   "execution_count": 83,
   "id": "f5ef751f",
   "metadata": {},
   "outputs": [
    {
     "name": "stdout",
     "output_type": "stream",
     "text": [
      "Portugal\n",
      "LS\n",
      "7.0\n",
      "Real Madrid\n",
      "LW\n",
      "7.0\n",
      "07/01/2009\n",
      "2021.0\n",
      "94\n",
      "185 cm\n",
      "80 kg\n",
      "Right\n",
      "02/05/1985\n",
      "32\n",
      "LW/ST\n",
      "High / Low\n",
      "4\n",
      "5\n",
      "93\n",
      "92\n",
      "22\n",
      "23\n",
      "31\n",
      "63\n",
      "96\n",
      "94\n",
      "29\n",
      "85\n",
      "86\n",
      "84\n",
      "83\n",
      "77\n",
      "91\n",
      "92\n",
      "92\n",
      "80\n",
      "63\n",
      "90\n",
      "95\n",
      "85\n",
      "92\n",
      "93\n",
      "90\n",
      "81\n",
      "76\n",
      "85\n",
      "88\n",
      "14\n",
      "7\n",
      "15\n",
      "11\n",
      "11\n"
     ]
    }
   ],
   "source": [
    "for key in keys:\n",
    "    print(my_dict[key])"
   ]
  },
  {
   "cell_type": "code",
   "execution_count": 84,
   "id": "c4a9b865",
   "metadata": {},
   "outputs": [
    {
     "name": "stdout",
     "output_type": "stream",
     "text": [
      "john\n",
      "john@email.com\n",
      "1234\n",
      "Engineering\n"
     ]
    }
   ],
   "source": [
    "my_dict = {\n",
    "    'name': 'john',\n",
    "    'email': 'john@email.com',\n",
    "    'id': 1234,\n",
    "    'major': 'Engineering'\n",
    "}\n",
    "for value in my_dict.values():\n",
    "    print(value)"
   ]
  },
  {
   "cell_type": "code",
   "execution_count": 85,
   "id": "8b5ed6b5",
   "metadata": {},
   "outputs": [
    {
     "name": "stdout",
     "output_type": "stream",
     "text": [
      "name\n",
      "email\n",
      "id\n",
      "major\n"
     ]
    }
   ],
   "source": [
    "my_dict = {\n",
    "    'name': 'john',\n",
    "    'email': 'john@email.com',\n",
    "    'id': 1234,\n",
    "    'major': 'Engineering'\n",
    "}\n",
    "for key in my_dict.keys():\n",
    "    print(key)"
   ]
  },
  {
   "cell_type": "code",
   "execution_count": 86,
   "id": "3ec08c8a",
   "metadata": {},
   "outputs": [
    {
     "name": "stdout",
     "output_type": "stream",
     "text": [
      "key is name and value is john\n",
      "key is email and value is john@email.com\n",
      "key is id and value is 1234\n",
      "key is major and value is Engineering\n"
     ]
    }
   ],
   "source": [
    "my_dict = {\n",
    "    'name': 'john',\n",
    "    'email': 'john@email.com',\n",
    "    'id': 1234,\n",
    "    'major': 'Engineering'\n",
    "}\n",
    "for key, value in my_dict.items():\n",
    "    print(f'key is {key} and value is {value}')"
   ]
  },
  {
   "cell_type": "code",
   "execution_count": 87,
   "id": "1a0fc48d",
   "metadata": {},
   "outputs": [
    {
     "data": {
      "text/plain": [
       "{'name': 'john', 'email': 'john@email.com', 'id': 1234, 'major': 'Engineering'}"
      ]
     },
     "execution_count": 87,
     "metadata": {},
     "output_type": "execute_result"
    }
   ],
   "source": [
    "my_dict"
   ]
  },
  {
   "cell_type": "code",
   "execution_count": 88,
   "id": "63d65950",
   "metadata": {},
   "outputs": [
    {
     "data": {
      "text/plain": [
       "True"
      ]
     },
     "execution_count": 88,
     "metadata": {},
     "output_type": "execute_result"
    }
   ],
   "source": [
    "'name' in my_dict"
   ]
  },
  {
   "cell_type": "code",
   "execution_count": 89,
   "id": "74b809e7",
   "metadata": {},
   "outputs": [
    {
     "data": {
      "text/plain": [
       "True"
      ]
     },
     "execution_count": 89,
     "metadata": {},
     "output_type": "execute_result"
    }
   ],
   "source": [
    "'name' in my_dict.keys()"
   ]
  },
  {
   "cell_type": "code",
   "execution_count": 91,
   "id": "c1b38396",
   "metadata": {},
   "outputs": [],
   "source": [
    "x = [1, 2, 3]\n",
    "y = x.copy()"
   ]
  },
  {
   "cell_type": "code",
   "execution_count": 92,
   "id": "e78e8c2d",
   "metadata": {},
   "outputs": [
    {
     "name": "stdout",
     "output_type": "stream",
     "text": [
      "[1, 3, 3] [1, 2, 3]\n"
     ]
    }
   ],
   "source": [
    "x[1] = 3\n",
    "print(x,y)"
   ]
  },
  {
   "cell_type": "code",
   "execution_count": 93,
   "id": "30488324",
   "metadata": {},
   "outputs": [],
   "source": [
    "x = [1, 2, 3, [4, 5, 6]]\n",
    "y = x.copy()"
   ]
  },
  {
   "cell_type": "code",
   "execution_count": 94,
   "id": "5448ad45",
   "metadata": {},
   "outputs": [
    {
     "name": "stdout",
     "output_type": "stream",
     "text": [
      "[1, 2, 3, [4, 5, 6, 7]] [1, 2, 3, [4, 5, 6, 7]]\n"
     ]
    }
   ],
   "source": [
    "x[3].append(7)\n",
    "print(x,y)"
   ]
  },
  {
   "cell_type": "code",
   "execution_count": 95,
   "id": "f512a713",
   "metadata": {},
   "outputs": [
    {
     "name": "stdout",
     "output_type": "stream",
     "text": [
      "[1, 2, 3, [4, 5, 6, 7, 8]] [1, 2, 3, [4, 5, 6, 7, 8]]\n"
     ]
    }
   ],
   "source": [
    "z = x[:]\n",
    "x[3].append(8)\n",
    "print(x, z)"
   ]
  },
  {
   "cell_type": "code",
   "execution_count": 96,
   "id": "1e49d3d7",
   "metadata": {},
   "outputs": [
    {
     "name": "stdout",
     "output_type": "stream",
     "text": [
      "[1, 2, 3, [4, 5, 6, 7, 8, 8]] [1, 2, 3, [4, 5, 6, 7, 8, 8]] [1, 2, 3, [4, 5, 6, 7, 8, 8]] [1, 2, 3, [4, 5, 6, 7, 8]]\n"
     ]
    }
   ],
   "source": [
    "import copy\n",
    "\n",
    "v = copy.deepcopy(x)\n",
    "x[3].append(8)\n",
    "print(x, y, z, v)"
   ]
  },
  {
   "cell_type": "code",
   "execution_count": 97,
   "id": "3d016dce",
   "metadata": {},
   "outputs": [
    {
     "name": "stdout",
     "output_type": "stream",
     "text": [
      "{1: False, 2: [3, 4, 5]} {1: True, 2: [3, 4, 5]}\n"
     ]
    }
   ],
   "source": [
    "x = {1: True, 2: [3, 4, 5]}\n",
    "y = x.copy()\n",
    "x[1] = False\n",
    "print(x, y)"
   ]
  },
  {
   "cell_type": "code",
   "execution_count": 98,
   "id": "f8ccf03b",
   "metadata": {},
   "outputs": [
    {
     "name": "stdout",
     "output_type": "stream",
     "text": [
      "{1: True, 2: [3, 4, 5, 6]} {1: True, 2: [3, 4, 5, 6]}\n"
     ]
    }
   ],
   "source": [
    "x = {1: True, 2: [3, 4, 5]}\n",
    "y = x.copy()\n",
    "x[2].append(6)\n",
    "print(x, y)"
   ]
  },
  {
   "cell_type": "code",
   "execution_count": 99,
   "id": "af2a245c",
   "metadata": {},
   "outputs": [
    {
     "name": "stdout",
     "output_type": "stream",
     "text": [
      "{1: True, 2: [3, 4, 5, 6]} {1: True, 2: [3, 4, 5]}\n"
     ]
    }
   ],
   "source": [
    "import copy\n",
    "x = {1: True, 2: [3, 4, 5]}\n",
    "y = copy.deepcopy(x)\n",
    "x[2].append(6)\n",
    "print(x, y)"
   ]
  },
  {
   "cell_type": "code",
   "execution_count": 100,
   "id": "f6fda004",
   "metadata": {},
   "outputs": [],
   "source": [
    "new_student = {}.fromkeys(\n",
    "    ['name', 'email', 'id', 'major'], 'missing')"
   ]
  },
  {
   "cell_type": "code",
   "execution_count": 101,
   "id": "030aca11",
   "metadata": {},
   "outputs": [
    {
     "data": {
      "text/plain": [
       "{'name': 'missing', 'email': 'missing', 'id': 'missing', 'major': 'missing'}"
      ]
     },
     "execution_count": 101,
     "metadata": {},
     "output_type": "execute_result"
    }
   ],
   "source": [
    "new_student"
   ]
  },
  {
   "cell_type": "code",
   "execution_count": 102,
   "id": "f00a8695",
   "metadata": {},
   "outputs": [],
   "source": [
    "\n",
    "my_dict = {}.fromkeys(range(5), 'iammissing')"
   ]
  },
  {
   "cell_type": "code",
   "execution_count": 103,
   "id": "b483ae9d",
   "metadata": {},
   "outputs": [
    {
     "data": {
      "text/plain": [
       "{0: 'iammissing',\n",
       " 1: 'iammissing',\n",
       " 2: 'iammissing',\n",
       " 3: 'iammissing',\n",
       " 4: 'iammissing'}"
      ]
     },
     "execution_count": 103,
     "metadata": {},
     "output_type": "execute_result"
    }
   ],
   "source": [
    "my_dict"
   ]
  },
  {
   "cell_type": "code",
   "execution_count": 104,
   "id": "5e53470e",
   "metadata": {},
   "outputs": [
    {
     "ename": "KeyError",
     "evalue": "'Name'",
     "output_type": "error",
     "traceback": [
      "\u001b[1;31m---------------------------------------------------------------------------\u001b[0m",
      "\u001b[1;31mKeyError\u001b[0m                                  Traceback (most recent call last)",
      "\u001b[1;32m~\\AppData\\Local\\Temp\\ipykernel_8472\\1813956264.py\u001b[0m in \u001b[0;36m<module>\u001b[1;34m\u001b[0m\n\u001b[0;32m      5\u001b[0m     \u001b[1;34m'major'\u001b[0m\u001b[1;33m:\u001b[0m \u001b[1;34m'Engineering'\u001b[0m\u001b[1;33m\u001b[0m\u001b[1;33m\u001b[0m\u001b[0m\n\u001b[0;32m      6\u001b[0m }\n\u001b[1;32m----> 7\u001b[1;33m \u001b[0mmy_dict\u001b[0m\u001b[1;33m[\u001b[0m\u001b[1;34m'Name'\u001b[0m\u001b[1;33m]\u001b[0m\u001b[1;33m\u001b[0m\u001b[1;33m\u001b[0m\u001b[0m\n\u001b[0m",
      "\u001b[1;31mKeyError\u001b[0m: 'Name'"
     ]
    }
   ],
   "source": [
    "my_dict = {\n",
    "    'name': 'john',\n",
    "    'email': 'john@email.com',\n",
    "    'id': 1234,\n",
    "    'major': 'Engineering'\n",
    "}\n",
    "my_dict['Name']"
   ]
  },
  {
   "cell_type": "code",
   "execution_count": 106,
   "id": "b2eb468a",
   "metadata": {},
   "outputs": [],
   "source": [
    "if my_dict.get('Name'):\n",
    "    print(my_dict.get('Name'))"
   ]
  },
  {
   "cell_type": "code",
   "execution_count": 107,
   "id": "d47c7b2f",
   "metadata": {},
   "outputs": [
    {
     "name": "stdout",
     "output_type": "stream",
     "text": [
      "john\n"
     ]
    }
   ],
   "source": [
    "if my_dict.get('name'):\n",
    "    print(my_dict.get('name'))"
   ]
  },
  {
   "cell_type": "code",
   "execution_count": 108,
   "id": "d193e2d2",
   "metadata": {},
   "outputs": [],
   "source": [
    "my_dict = {'Name': 0}\n",
    "if my_dict.get('Name'):\n",
    "    print(my_dict.get('Name'))"
   ]
  },
  {
   "cell_type": "code",
   "execution_count": 115,
   "id": "faec29de",
   "metadata": {},
   "outputs": [
    {
     "name": "stdout",
     "output_type": "stream",
     "text": [
      "1\n",
      "2\n",
      "3\n",
      "1\n",
      "2\n",
      "3\n"
     ]
    }
   ],
   "source": [
    "# tuple\n",
    "# tuple comphrehension which generates/produces one-time values\n",
    "x = (1, 2, 3)\n",
    "for ele in x:\n",
    "    print(ele)\n",
    "    \n",
    "for ele in x:\n",
    "    print(ele)"
   ]
  },
  {
   "cell_type": "code",
   "execution_count": 119,
   "id": "fffb2d59",
   "metadata": {},
   "outputs": [],
   "source": [
    "y = (ele for ele in range(1,4))"
   ]
  },
  {
   "cell_type": "code",
   "execution_count": 120,
   "id": "66c3fc5a",
   "metadata": {},
   "outputs": [
    {
     "name": "stdout",
     "output_type": "stream",
     "text": [
      "<generator object <genexpr> at 0x000002C1AAEE4190>\n"
     ]
    }
   ],
   "source": [
    "print(y)"
   ]
  },
  {
   "cell_type": "code",
   "execution_count": 121,
   "id": "f0f242fc",
   "metadata": {},
   "outputs": [
    {
     "name": "stdout",
     "output_type": "stream",
     "text": [
      "1\n",
      "2\n",
      "3\n"
     ]
    }
   ],
   "source": [
    "for ele in y:\n",
    "    print(ele)"
   ]
  },
  {
   "cell_type": "code",
   "execution_count": 122,
   "id": "c70cd251",
   "metadata": {},
   "outputs": [],
   "source": [
    "for ele in y:\n",
    "    print(ele)"
   ]
  },
  {
   "cell_type": "code",
   "execution_count": 125,
   "id": "b70e189d",
   "metadata": {},
   "outputs": [
    {
     "data": {
      "text/plain": [
       "'N/A'"
      ]
     },
     "execution_count": 125,
     "metadata": {},
     "output_type": "execute_result"
    }
   ],
   "source": [
    "my_dict = {\n",
    "    'name': 'john',\n",
    "    'email': 'john@email.com',\n",
    "    'id': 1234,\n",
    "    'major': 'Engineering'\n",
    "}\n",
    "my_dict.get('Name', 'N/A')"
   ]
  },
  {
   "cell_type": "code",
   "execution_count": 128,
   "id": "29c4a88f",
   "metadata": {},
   "outputs": [],
   "source": [
    "my_dict = {\n",
    "    'name': 'john',\n",
    "    'email': 'john@email.com',\n",
    "    'id': 1234,\n",
    "    'major': 'Engineering'\n",
    "}\n",
    "x = my_dict.pop('name')"
   ]
  },
  {
   "cell_type": "code",
   "execution_count": 129,
   "id": "0c24df0f",
   "metadata": {},
   "outputs": [
    {
     "name": "stdout",
     "output_type": "stream",
     "text": [
      "john {'email': 'john@email.com', 'id': 1234, 'major': 'Engineering'}\n"
     ]
    }
   ],
   "source": [
    "print(x, my_dict)"
   ]
  },
  {
   "cell_type": "code",
   "execution_count": 130,
   "id": "2c6ac4df",
   "metadata": {},
   "outputs": [],
   "source": [
    "my_dict = {\n",
    "    'name': 'john',\n",
    "    'email': 'john@email.com',\n",
    "    'id': 1234,\n",
    "    'major': 'Engineering'\n",
    "}\n",
    "del my_dict['name']"
   ]
  },
  {
   "cell_type": "code",
   "execution_count": 131,
   "id": "dbe73e66",
   "metadata": {},
   "outputs": [
    {
     "data": {
      "text/plain": [
       "{'email': 'john@email.com', 'id': 1234, 'major': 'Engineering'}"
      ]
     },
     "execution_count": 131,
     "metadata": {},
     "output_type": "execute_result"
    }
   ],
   "source": [
    "my_dict"
   ]
  },
  {
   "cell_type": "code",
   "execution_count": 132,
   "id": "db9e13e6",
   "metadata": {},
   "outputs": [],
   "source": [
    "my_dict = {\n",
    "    'name': 'john',\n",
    "    'email': 'john@email.com',\n",
    "    'id': 1234,\n",
    "    'major': 'Engineering'\n",
    "}"
   ]
  },
  {
   "cell_type": "code",
   "execution_count": 133,
   "id": "2612c492",
   "metadata": {},
   "outputs": [
    {
     "ename": "KeyError",
     "evalue": "'Name'",
     "output_type": "error",
     "traceback": [
      "\u001b[1;31m---------------------------------------------------------------------------\u001b[0m",
      "\u001b[1;31mKeyError\u001b[0m                                  Traceback (most recent call last)",
      "\u001b[1;32m~\\AppData\\Local\\Temp\\ipykernel_8472\\1238692192.py\u001b[0m in \u001b[0;36m<module>\u001b[1;34m\u001b[0m\n\u001b[1;32m----> 1\u001b[1;33m \u001b[0mmy_dict\u001b[0m\u001b[1;33m.\u001b[0m\u001b[0mpop\u001b[0m\u001b[1;33m(\u001b[0m\u001b[1;34m'Name'\u001b[0m\u001b[1;33m)\u001b[0m\u001b[1;33m\u001b[0m\u001b[1;33m\u001b[0m\u001b[0m\n\u001b[0m",
      "\u001b[1;31mKeyError\u001b[0m: 'Name'"
     ]
    }
   ],
   "source": [
    "my_dict.pop('Name')"
   ]
  },
  {
   "cell_type": "code",
   "execution_count": 134,
   "id": "567bc22a",
   "metadata": {},
   "outputs": [
    {
     "ename": "KeyError",
     "evalue": "'Name'",
     "output_type": "error",
     "traceback": [
      "\u001b[1;31m---------------------------------------------------------------------------\u001b[0m",
      "\u001b[1;31mKeyError\u001b[0m                                  Traceback (most recent call last)",
      "\u001b[1;32m~\\AppData\\Local\\Temp\\ipykernel_8472\\4033500596.py\u001b[0m in \u001b[0;36m<module>\u001b[1;34m\u001b[0m\n\u001b[1;32m----> 1\u001b[1;33m \u001b[1;32mdel\u001b[0m \u001b[0mmy_dict\u001b[0m\u001b[1;33m[\u001b[0m\u001b[1;34m'Name'\u001b[0m\u001b[1;33m]\u001b[0m\u001b[1;33m\u001b[0m\u001b[1;33m\u001b[0m\u001b[0m\n\u001b[0m",
      "\u001b[1;31mKeyError\u001b[0m: 'Name'"
     ]
    }
   ],
   "source": [
    "del my_dict['Name']"
   ]
  },
  {
   "cell_type": "code",
   "execution_count": 137,
   "id": "b0354c33",
   "metadata": {},
   "outputs": [],
   "source": [
    "if 'Name' in my_dict:\n",
    "    my_dict.pop('Name')"
   ]
  },
  {
   "cell_type": "code",
   "execution_count": 136,
   "id": "3838f319",
   "metadata": {},
   "outputs": [
    {
     "data": {
      "text/plain": [
       "False"
      ]
     },
     "execution_count": 136,
     "metadata": {},
     "output_type": "execute_result"
    }
   ],
   "source": [
    "'Name' in my_dict"
   ]
  },
  {
   "cell_type": "code",
   "execution_count": 138,
   "id": "b38e8714",
   "metadata": {},
   "outputs": [
    {
     "data": {
      "text/plain": [
       "('major', 'Engineering')"
      ]
     },
     "execution_count": 138,
     "metadata": {},
     "output_type": "execute_result"
    }
   ],
   "source": [
    "my_dict = {\n",
    "    'name': 'john',\n",
    "    'email': 'john@email.com',\n",
    "    'id': 1234,\n",
    "    'major': 'Engineering'\n",
    "}\n",
    "my_dict.popitem()"
   ]
  },
  {
   "cell_type": "code",
   "execution_count": 139,
   "id": "c009ee04",
   "metadata": {},
   "outputs": [
    {
     "data": {
      "text/plain": [
       "{'name': 'john', 'email': 'john@email.com', 'id': 1234}"
      ]
     },
     "execution_count": 139,
     "metadata": {},
     "output_type": "execute_result"
    }
   ],
   "source": [
    "my_dict"
   ]
  },
  {
   "cell_type": "code",
   "execution_count": 141,
   "id": "f17951ed",
   "metadata": {},
   "outputs": [
    {
     "data": {
      "text/plain": [
       "{'name': 'john',\n",
       " 'email': 'john@email.com',\n",
       " 'id': 1234,\n",
       " 'major': 'Engineering',\n",
       " 'Graduate Year': 2024}"
      ]
     },
     "execution_count": 141,
     "metadata": {},
     "output_type": "execute_result"
    }
   ],
   "source": [
    "my_dict = {\n",
    "    'name': 'john',\n",
    "    'email': 'john@email.com',\n",
    "    'id': 1234,\n",
    "    'major': 'Engineering'\n",
    "}\n",
    "my_dict.update({'Graduate Year': 2024})\n",
    "my_dict"
   ]
  },
  {
   "cell_type": "code",
   "execution_count": 142,
   "id": "59a51da4",
   "metadata": {},
   "outputs": [
    {
     "data": {
      "text/plain": [
       "{'name': 'John',\n",
       " 'email': 'john@email.com',\n",
       " 'id': 1234,\n",
       " 'major': 'Engineering',\n",
       " 'Year': 1555}"
      ]
     },
     "execution_count": 142,
     "metadata": {},
     "output_type": "execute_result"
    }
   ],
   "source": [
    "my_dict = {\n",
    "    'name': 'john',\n",
    "    'email': 'john@email.com',\n",
    "    'id': 1234,\n",
    "    'major': 'Engineering'\n",
    "}\n",
    "my_dict.update({'name': 'John', 'Year': 1555})\n",
    "my_dict"
   ]
  },
  {
   "cell_type": "code",
   "execution_count": 143,
   "id": "6356cb6d",
   "metadata": {},
   "outputs": [
    {
     "ename": "KeyError",
     "evalue": "'Graduate Year'",
     "output_type": "error",
     "traceback": [
      "\u001b[1;31m---------------------------------------------------------------------------\u001b[0m",
      "\u001b[1;31mKeyError\u001b[0m                                  Traceback (most recent call last)",
      "\u001b[1;32m~\\AppData\\Local\\Temp\\ipykernel_8472\\3633220714.py\u001b[0m in \u001b[0;36m<module>\u001b[1;34m\u001b[0m\n\u001b[0;32m      5\u001b[0m     \u001b[1;34m'major'\u001b[0m\u001b[1;33m:\u001b[0m \u001b[1;34m'Engineering'\u001b[0m\u001b[1;33m\u001b[0m\u001b[1;33m\u001b[0m\u001b[0m\n\u001b[0;32m      6\u001b[0m }\n\u001b[1;32m----> 7\u001b[1;33m \u001b[0mmy_dict\u001b[0m\u001b[1;33m[\u001b[0m\u001b[1;34m'Graduate Year'\u001b[0m\u001b[1;33m]\u001b[0m \u001b[1;31m# = 2024\u001b[0m\u001b[1;33m\u001b[0m\u001b[1;33m\u001b[0m\u001b[0m\n\u001b[0m",
      "\u001b[1;31mKeyError\u001b[0m: 'Graduate Year'"
     ]
    }
   ],
   "source": [
    "my_dict = {\n",
    "    'name': 'john',\n",
    "    'email': 'john@email.com',\n",
    "    'id': 1234,\n",
    "    'major': 'Engineering'\n",
    "}\n",
    "my_dict['Graduate Year'] # = 2024"
   ]
  },
  {
   "cell_type": "code",
   "execution_count": 144,
   "id": "bd873935",
   "metadata": {},
   "outputs": [
    {
     "name": "stdout",
     "output_type": "stream",
     "text": [
      "{'name': 'john', 'email': 'john@email.com', 'id': 1234, 'major': 'Engineering', 'Graduate Year': 2024}\n"
     ]
    }
   ],
   "source": [
    "my_dict = {\n",
    "    'name': 'john',\n",
    "    'email': 'john@email.com',\n",
    "    'id': 1234,\n",
    "    'major': 'Engineering'\n",
    "}\n",
    "my_dict['Graduate Year'] = 2024\n",
    "print(my_dict)"
   ]
  },
  {
   "cell_type": "code",
   "execution_count": 145,
   "id": "6b488a8c",
   "metadata": {},
   "outputs": [
    {
     "data": {
      "text/plain": [
       "{'name': 'john',\n",
       " 'email': 'john@email.com',\n",
       " 'id': 1234,\n",
       " 'major': 'Engineering',\n",
       " 'Graduate Year': 2024}"
      ]
     },
     "execution_count": 145,
     "metadata": {},
     "output_type": "execute_result"
    }
   ],
   "source": [
    "my_dict = {\n",
    "    'name': 'john',\n",
    "    'email': 'john@email.com',\n",
    "    'id': 1234,\n",
    "    'major': 'Engineering'\n",
    "}\n",
    "my_dict | {'Graduate Year': 2024}\n",
    "\n"
   ]
  },
  {
   "cell_type": "code",
   "execution_count": 146,
   "id": "05795339",
   "metadata": {},
   "outputs": [
    {
     "name": "stdout",
     "output_type": "stream",
     "text": [
      "{'name': 'john', 'email': 'john@email.com', 'id': 1234, 'major': 'Engineering'}\n"
     ]
    }
   ],
   "source": [
    "print(my_dict)"
   ]
  },
  {
   "cell_type": "code",
   "execution_count": 147,
   "id": "fd7c64c6",
   "metadata": {},
   "outputs": [
    {
     "data": {
      "text/plain": [
       "{'name': 'john',\n",
       " 'email': 'john@email.com',\n",
       " 'id': 1234,\n",
       " 'major': 'Engineering',\n",
       " 'Graduate Year': 2024}"
      ]
     },
     "execution_count": 147,
     "metadata": {},
     "output_type": "execute_result"
    }
   ],
   "source": [
    "my_dict = {\n",
    "    'name': 'john',\n",
    "    'email': 'john@email.com',\n",
    "    'id': 1234,\n",
    "    'major': 'Engineering'\n",
    "}\n",
    "my_dict = my_dict | {'Graduate Year': 2024}\n",
    "my_dict"
   ]
  },
  {
   "cell_type": "code",
   "execution_count": 148,
   "id": "de5f4d1f",
   "metadata": {},
   "outputs": [],
   "source": [
    "my_dict = {\n",
    "    'name': 'john',\n",
    "    'email': 'john@email.com',\n",
    "    'id': 1234,\n",
    "    'major': 'Engineering',\n",
    "    'year': [2000, 2001]\n",
    "}\n",
    "y = my_dict | {'Graduate Year': 2024}"
   ]
  },
  {
   "cell_type": "code",
   "execution_count": 149,
   "id": "16770aec",
   "metadata": {},
   "outputs": [
    {
     "data": {
      "text/plain": [
       "{'name': 'john',\n",
       " 'email': 'john@email.com',\n",
       " 'id': 1234,\n",
       " 'major': 'Engineering',\n",
       " 'year': [2000, 2001],\n",
       " 'Graduate Year': 2024}"
      ]
     },
     "execution_count": 149,
     "metadata": {},
     "output_type": "execute_result"
    }
   ],
   "source": [
    "y"
   ]
  },
  {
   "cell_type": "code",
   "execution_count": 150,
   "id": "f9eccd1d",
   "metadata": {},
   "outputs": [
    {
     "data": {
      "text/plain": [
       "{'name': 'john',\n",
       " 'email': 'john@email.com',\n",
       " 'id': 1234,\n",
       " 'major': 'Engineering',\n",
       " 'year': [2000, 2001]}"
      ]
     },
     "execution_count": 150,
     "metadata": {},
     "output_type": "execute_result"
    }
   ],
   "source": [
    "my_dict"
   ]
  },
  {
   "cell_type": "code",
   "execution_count": 151,
   "id": "a0c2aee2",
   "metadata": {},
   "outputs": [],
   "source": [
    "my_dict['year'].append(2002)"
   ]
  },
  {
   "cell_type": "code",
   "execution_count": 152,
   "id": "3874f8cf",
   "metadata": {},
   "outputs": [
    {
     "name": "stdout",
     "output_type": "stream",
     "text": [
      "{'name': 'john', 'email': 'john@email.com', 'id': 1234, 'major': 'Engineering', 'year': [2000, 2001, 2002]} {'name': 'john', 'email': 'john@email.com', 'id': 1234, 'major': 'Engineering', 'year': [2000, 2001, 2002], 'Graduate Year': 2024}\n"
     ]
    }
   ],
   "source": [
    "print(my_dict, y)"
   ]
  },
  {
   "cell_type": "code",
   "execution_count": 153,
   "id": "8e4e8623",
   "metadata": {},
   "outputs": [
    {
     "data": {
      "text/plain": [
       "{'name': 'john',\n",
       " 'email': 'john@email.com',\n",
       " 'id': 1234,\n",
       " 'major': 'Engineering',\n",
       " 'year': [2000, 2001, 2002],\n",
       " 'Graduate Year': 2024}"
      ]
     },
     "execution_count": 153,
     "metadata": {},
     "output_type": "execute_result"
    }
   ],
   "source": [
    "y"
   ]
  },
  {
   "cell_type": "code",
   "execution_count": 154,
   "id": "3cbdd3a8",
   "metadata": {},
   "outputs": [
    {
     "data": {
      "text/plain": [
       "{'name': 'john',\n",
       " 'email': 'john@email.com',\n",
       " 'id': 1234,\n",
       " 'major': 'Engineering',\n",
       " 'year': [2000, 2001, 2002]}"
      ]
     },
     "execution_count": 154,
     "metadata": {},
     "output_type": "execute_result"
    }
   ],
   "source": [
    "my_dict"
   ]
  },
  {
   "cell_type": "code",
   "execution_count": 155,
   "id": "b6f76db8",
   "metadata": {},
   "outputs": [
    {
     "name": "stdout",
     "output_type": "stream",
     "text": [
      "{'name': 'john', 'email': 'john@email.com', 'id': 1234, 'major': 'Engineering', 'Graduate Year': 2024}\n"
     ]
    }
   ],
   "source": [
    "my_dict = {\n",
    "    'name': 'john',\n",
    "    'email': 'john@email.com',\n",
    "    'id': 1234,\n",
    "    'major': 'Engineering'\n",
    "}\n",
    "my_dict |= {'Graduate Year': 2024}\n",
    "\n",
    "print(my_dict)"
   ]
  },
  {
   "cell_type": "code",
   "execution_count": 156,
   "id": "e5abaa58",
   "metadata": {},
   "outputs": [],
   "source": [
    "my_dict = {'LoginCount': 0}\n",
    "my_dict['LoginCount'] += 1"
   ]
  },
  {
   "cell_type": "code",
   "execution_count": 157,
   "id": "57bac63e",
   "metadata": {},
   "outputs": [
    {
     "data": {
      "text/plain": [
       "{'LoginCount': 1}"
      ]
     },
     "execution_count": 157,
     "metadata": {},
     "output_type": "execute_result"
    }
   ],
   "source": [
    "my_dict"
   ]
  },
  {
   "cell_type": "code",
   "execution_count": 158,
   "id": "e40dd9b0",
   "metadata": {},
   "outputs": [],
   "source": [
    "my_dict['LoginCount'] += 1"
   ]
  },
  {
   "cell_type": "code",
   "execution_count": 159,
   "id": "8bd52fd2",
   "metadata": {},
   "outputs": [
    {
     "data": {
      "text/plain": [
       "{'LoginCount': 2}"
      ]
     },
     "execution_count": 159,
     "metadata": {},
     "output_type": "execute_result"
    }
   ],
   "source": [
    "my_dict"
   ]
  },
  {
   "cell_type": "code",
   "execution_count": 160,
   "id": "ef1bd080",
   "metadata": {},
   "outputs": [
    {
     "data": {
      "text/plain": [
       "{'Grades': [3]}"
      ]
     },
     "execution_count": 160,
     "metadata": {},
     "output_type": "execute_result"
    }
   ],
   "source": [
    "my_dict = {'Grades': []}\n",
    "my_dict['Grades'].append(3)\n",
    "my_dict"
   ]
  },
  {
   "cell_type": "code",
   "execution_count": 161,
   "id": "5dccb28d",
   "metadata": {},
   "outputs": [
    {
     "ename": "KeyError",
     "evalue": "'LoginCount'",
     "output_type": "error",
     "traceback": [
      "\u001b[1;31m---------------------------------------------------------------------------\u001b[0m",
      "\u001b[1;31mKeyError\u001b[0m                                  Traceback (most recent call last)",
      "\u001b[1;32m~\\AppData\\Local\\Temp\\ipykernel_8472\\3167099669.py\u001b[0m in \u001b[0;36m<module>\u001b[1;34m\u001b[0m\n\u001b[0;32m      1\u001b[0m \u001b[0mmy_dict\u001b[0m \u001b[1;33m=\u001b[0m \u001b[1;33m{\u001b[0m\u001b[1;33m}\u001b[0m\u001b[1;33m\u001b[0m\u001b[1;33m\u001b[0m\u001b[0m\n\u001b[1;32m----> 2\u001b[1;33m \u001b[0mmy_dict\u001b[0m\u001b[1;33m[\u001b[0m\u001b[1;34m'LoginCount'\u001b[0m\u001b[1;33m]\u001b[0m \u001b[1;33m+=\u001b[0m \u001b[1;36m1\u001b[0m \u001b[1;31m# my_dict['LoginCount'] = my_dict['LoginCount'] + 1\u001b[0m\u001b[1;33m\u001b[0m\u001b[1;33m\u001b[0m\u001b[0m\n\u001b[0m",
      "\u001b[1;31mKeyError\u001b[0m: 'LoginCount'"
     ]
    }
   ],
   "source": [
    "my_dict = {}\n",
    "my_dict['LoginCount'] += 1 # my_dict['LoginCount'] = my_dict['LoginCount'] + 1"
   ]
  },
  {
   "cell_type": "code",
   "execution_count": 162,
   "id": "c580c42e",
   "metadata": {},
   "outputs": [
    {
     "ename": "KeyError",
     "evalue": "'Grades'",
     "output_type": "error",
     "traceback": [
      "\u001b[1;31m---------------------------------------------------------------------------\u001b[0m",
      "\u001b[1;31mKeyError\u001b[0m                                  Traceback (most recent call last)",
      "\u001b[1;32m~\\AppData\\Local\\Temp\\ipykernel_8472\\4149443122.py\u001b[0m in \u001b[0;36m<module>\u001b[1;34m\u001b[0m\n\u001b[0;32m      1\u001b[0m \u001b[0mmy_dict\u001b[0m \u001b[1;33m=\u001b[0m \u001b[1;33m{\u001b[0m\u001b[1;33m}\u001b[0m\u001b[1;33m\u001b[0m\u001b[1;33m\u001b[0m\u001b[0m\n\u001b[1;32m----> 2\u001b[1;33m \u001b[0mmy_dict\u001b[0m\u001b[1;33m[\u001b[0m\u001b[1;34m'Grades'\u001b[0m\u001b[1;33m]\u001b[0m\u001b[1;33m.\u001b[0m\u001b[0mappend\u001b[0m\u001b[1;33m(\u001b[0m\u001b[1;36m3\u001b[0m\u001b[1;33m)\u001b[0m\u001b[1;33m\u001b[0m\u001b[1;33m\u001b[0m\u001b[0m\n\u001b[0m",
      "\u001b[1;31mKeyError\u001b[0m: 'Grades'"
     ]
    }
   ],
   "source": [
    "my_dict = {}\n",
    "my_dict['Grades'].append(3)  "
   ]
  },
  {
   "cell_type": "code",
   "execution_count": 164,
   "id": "eb7771b8",
   "metadata": {},
   "outputs": [],
   "source": [
    "my_dict = {}\n",
    "if 'Grades' not in my_dict:\n",
    "    my_dict['Grades'] =  []\n",
    "my_dict['Grades'].append(3)"
   ]
  },
  {
   "cell_type": "code",
   "execution_count": 165,
   "id": "d6b1dcb1",
   "metadata": {},
   "outputs": [],
   "source": [
    "my_dict = {}\n",
    "if 'LoginCount' not in my_dict:\n",
    "    my_dict['LoginCount'] =  0\n",
    "my_dict['LoginCount'] += 1"
   ]
  },
  {
   "cell_type": "code",
   "execution_count": 166,
   "id": "8eb088cc",
   "metadata": {},
   "outputs": [
    {
     "data": {
      "text/plain": [
       "{'LoginCount': 1}"
      ]
     },
     "execution_count": 166,
     "metadata": {},
     "output_type": "execute_result"
    }
   ],
   "source": [
    "my_dict"
   ]
  },
  {
   "cell_type": "code",
   "execution_count": 167,
   "id": "ad07e792",
   "metadata": {},
   "outputs": [
    {
     "name": "stdout",
     "output_type": "stream",
     "text": [
      "defaultdict(<class 'int'>, {'LoginCount': 1})\n"
     ]
    }
   ],
   "source": [
    "from collections import defaultdict\n",
    "my_dict = defaultdict(int)\n",
    "my_dict['LoginCount'] += 1\n",
    "print(my_dict)"
   ]
  },
  {
   "cell_type": "code",
   "execution_count": 168,
   "id": "f9b035d6",
   "metadata": {},
   "outputs": [
    {
     "name": "stdout",
     "output_type": "stream",
     "text": [
      "defaultdict(<class 'int'>, {'LoginCount': 1, 'try': 'blah'})\n"
     ]
    }
   ],
   "source": [
    "my_dict['try'] = 'blah'\n",
    "print(my_dict)"
   ]
  },
  {
   "cell_type": "code",
   "execution_count": 169,
   "id": "361bc118",
   "metadata": {},
   "outputs": [
    {
     "name": "stdout",
     "output_type": "stream",
     "text": [
      "defaultdict(<class 'int'>, {'LoginCount': 1, 'try': 'blah', 'abd': 100})\n"
     ]
    }
   ],
   "source": [
    "my_dict['abd'] += 100\n",
    "print(my_dict)"
   ]
  },
  {
   "cell_type": "code",
   "execution_count": 170,
   "id": "4272055b",
   "metadata": {},
   "outputs": [],
   "source": [
    "from collections import defaultdict\n",
    "my_dict = defaultdict(list)\n",
    "my_dict['Grades'].append(3)"
   ]
  },
  {
   "cell_type": "code",
   "execution_count": 171,
   "id": "f486d6a8",
   "metadata": {},
   "outputs": [
    {
     "data": {
      "text/plain": [
       "defaultdict(list, {'Grades': [3]})"
      ]
     },
     "execution_count": 171,
     "metadata": {},
     "output_type": "execute_result"
    }
   ],
   "source": [
    "my_dict"
   ]
  },
  {
   "cell_type": "code",
   "execution_count": 177,
   "id": "b97b7a9d",
   "metadata": {},
   "outputs": [
    {
     "name": "stdout",
     "output_type": "stream",
     "text": [
      "Counter({31: 7, 30: 4, 0: 1, 28: 1})\n"
     ]
    }
   ],
   "source": [
    "from collections import Counter\n",
    "days_in_months = [0, 31, 28, 31, 30, 31, 30, 31, 31, 30, 31, 30, 31]\n",
    "\n",
    "my_dict = Counter(days_in_months)\n",
    "print(my_dict)"
   ]
  },
  {
   "cell_type": "code",
   "execution_count": 176,
   "id": "21faedd1",
   "metadata": {},
   "outputs": [
    {
     "data": {
      "text/plain": [
       "7"
      ]
     },
     "execution_count": 176,
     "metadata": {},
     "output_type": "execute_result"
    }
   ],
   "source": [
    "my_dict[31]"
   ]
  },
  {
   "cell_type": "code",
   "execution_count": 178,
   "id": "68c2972b",
   "metadata": {},
   "outputs": [
    {
     "data": {
      "text/plain": [
       "{1: 'odd',\n",
       " 2: 'even',\n",
       " 3: 'odd',\n",
       " 4: 'even',\n",
       " 5: 'odd',\n",
       " 6: 'even',\n",
       " 7: 'odd',\n",
       " 8: 'even',\n",
       " 9: 'odd',\n",
       " 10: 'even',\n",
       " 11: 'odd',\n",
       " 12: 'even',\n",
       " 13: 'odd',\n",
       " 14: 'even',\n",
       " 15: 'odd',\n",
       " 16: 'even',\n",
       " 17: 'odd',\n",
       " 18: 'even',\n",
       " 19: 'odd',\n",
       " 20: 'even'}"
      ]
     },
     "execution_count": 178,
     "metadata": {},
     "output_type": "execute_result"
    }
   ],
   "source": [
    "# ## dictionary comprehension\n",
    "# {___:___ for ___ in ___}\n",
    "\n",
    "# [for ele in sequence]\n",
    "# (for ele in sequence)\n",
    "# {key:value for ele in sequence}\n",
    "{num: (\"even\" if num % 2 == 0 else \"odd\") for num in range(1, 21)}"
   ]
  },
  {
   "cell_type": "code",
   "execution_count": 185,
   "id": "ebc5e6b0",
   "metadata": {},
   "outputs": [
    {
     "name": "stdout",
     "output_type": "stream",
     "text": [
      "{'last_name': 'Weaver', 'first_name': 'Michael', 'email': 'xdunn@hotmail.com', 'country': 'Nepal', 'account': 'QVJP6465242365388'}\n",
      "{'last_name': 'Owens', 'first_name': 'Jackson', 'email': 'iedwards@yahoo.com', 'country': 'Kazakhstan', 'account': 'FVQZ0955529767455'}\n",
      "{'last_name': 'Gilmore', 'first_name': 'Patrick', 'email': 'arogers@smith.com', 'country': 'Mauritius', 'account': 'QFIM0905182880347'}\n",
      "{'last_name': 'Perez', 'first_name': 'Jeffrey', 'email': 'plewis@chavez.com', 'country': 'New Zealand', 'account': 'YWOT0997131632248'}\n",
      "{'last_name': 'Thomas', 'first_name': 'James', 'email': 'fred92@yahoo.com', 'country': 'Yemen', 'account': 'QAAE9838291982555'}\n",
      "{'last_name': 'Nelson', 'first_name': 'Greg', 'email': 'mmiller@lynch.com', 'country': 'Jordan', 'account': 'PCNE8127696280157'}\n",
      "{'last_name': 'White', 'first_name': 'Joshua', 'email': 'steven49@gmail.com', 'country': 'Palau', 'account': 'BCEN3299883381338'}\n",
      "{'last_name': 'Francis', 'first_name': 'Todd', 'email': 'amanda23@hotmail.com', 'country': 'Argentina', 'account': 'XPTQ7837014557677'}\n",
      "{'last_name': 'Shaw', 'first_name': 'Stephen', 'email': 'jackduke@hotmail.com', 'country': 'Marshall Islands', 'account': 'TRLQ6559557081716'}\n",
      "{'last_name': 'Armstrong', 'first_name': 'Mariah', 'email': 'rhodesnicholas@hotmail.com', 'country': 'Albania', 'account': 'OHOV7518558201999'}\n",
      "{'last_name': 'Boyle', 'first_name': 'Anthony', 'email': 'smithashlee@yahoo.com', 'country': 'Kyrgyz Republic', 'account': 'MCQU7347833033110'}\n",
      "{'last_name': 'Cuevas', 'first_name': 'Patrick', 'email': 'ubriggs@hill.info', 'country': 'Turkmenistan', 'account': 'PPHE5533473251751'}\n",
      "{'last_name': 'Reyes', 'first_name': 'Gerald', 'email': 'brownclarence@gonzalez-moore.com', 'country': 'Fiji', 'account': 'JCDK1943355298609'}\n",
      "{'last_name': 'Calderon', 'first_name': 'Christopher', 'email': 'teresa30@carpenter-warner.com', 'country': 'Costa Rica', 'account': 'NERZ5502558659614'}\n",
      "{'last_name': 'Weiss', 'first_name': 'Shane', 'email': 'leekatherine@williams.com', 'country': 'Martinique', 'account': 'DLDV5789894914403'}\n",
      "{'last_name': 'Conley', 'first_name': 'Crystal', 'email': 'chasewatkins@perez-phillips.com', 'country': 'Singapore', 'account': 'GZZF6936998445532'}\n",
      "{'last_name': 'Nelson', 'first_name': 'Jeffrey', 'email': 'hsherman@gmail.com', 'country': 'Mayotte', 'account': 'ECGK2823955143629'}\n",
      "{'last_name': 'Johnson', 'first_name': 'Brianna', 'email': 'martinezdaniel@hotmail.com', 'country': 'Costa Rica', 'account': 'QOVO4275314052899'}\n",
      "{'last_name': 'Werner', 'first_name': 'Brandon', 'email': 'justinfischer@gmail.com', 'country': 'Guadeloupe', 'account': 'UKRT1119626365017'}\n",
      "{'last_name': 'Bennett', 'first_name': 'Brianna', 'email': 'cindy08@gmail.com', 'country': 'Bahamas', 'account': 'UNPV3347450330173'}\n",
      "{'last_name': 'Fletcher', 'first_name': 'Austin', 'email': 'carolharrington@fleming.org', 'country': 'Azerbaijan', 'account': 'GJZT6825738428111'}\n",
      "{'last_name': 'Lewis', 'first_name': 'Patrick', 'email': 'lopezcarl@johnson.com', 'country': 'Saint Helena', 'account': 'JOQE2648899771737'}\n",
      "{'last_name': 'Smith', 'first_name': 'Joseph', 'email': 'michael74@yahoo.com', 'country': 'Hong Kong', 'account': 'MNXY3262955868027'}\n",
      "{'last_name': 'Sullivan', 'first_name': 'Sharon', 'email': 'gonzalezrobert@hotmail.com', 'country': 'Turkey', 'account': 'YHXF7256577475630'}\n",
      "{'last_name': 'Wilson', 'first_name': 'Krystal', 'email': 'dawnjohnson@gmail.com', 'country': 'Swaziland', 'account': 'MUVI3570791852556'}\n",
      "{'last_name': 'Schmidt', 'first_name': 'Diana', 'email': 'watersryan@gmail.com', 'country': 'Holy See (Vatican City State)', 'account': 'UKCP6739617302102'}\n",
      "{'last_name': 'Huff', 'first_name': 'Sean', 'email': 'byoung@gmail.com', 'country': 'Norfolk Island', 'account': 'WDAT4146843903498'}\n",
      "{'last_name': 'Nguyen', 'first_name': 'Robin', 'email': 'vhanson@yahoo.com', 'country': 'Kenya', 'account': 'SVMU4403517448078'}\n",
      "{'last_name': 'Russell', 'first_name': 'Robyn', 'email': 'bfletcher@yahoo.com', 'country': 'Togo', 'account': 'ZNUY4071301663622'}\n",
      "{'last_name': 'Smith', 'first_name': 'Tiffany', 'email': 'colleengarrison@hotmail.com', 'country': 'San Marino', 'account': 'GPFA8271551275648'}\n",
      "{'last_name': 'Smith', 'first_name': 'Lori', 'email': 'catherine23@gmail.com', 'country': 'Romania', 'account': 'MKWY4848668895426'}\n",
      "{'last_name': 'Keith', 'first_name': 'Sabrina', 'email': 'xmurphy@yahoo.com', 'country': 'Algeria', 'account': 'QHIW7412514205367'}\n",
      "{'last_name': 'Johnson', 'first_name': 'Miguel', 'email': 'aaronrichard@middleton.net', 'country': 'Slovakia (Slovak Republic)', 'account': 'QAAO4666689281736'}\n",
      "{'last_name': 'Barron', 'first_name': 'Dustin', 'email': 'jesse93@best.com', 'country': 'Somalia', 'account': 'LRPR8694143910883'}\n",
      "{'last_name': 'Robinson', 'first_name': 'Michael', 'email': 'johnperez@johnson.com', 'country': 'Turkmenistan', 'account': 'UWFU1921951273393'}\n",
      "{'last_name': 'Nguyen', 'first_name': 'Robert', 'email': 'jessica62@yahoo.com', 'country': 'Croatia', 'account': 'JQHS4274771257925'}\n",
      "{'last_name': 'Abbott', 'first_name': 'Brandon', 'email': 'jennifer87@gmail.com', 'country': 'Jamaica', 'account': 'RSLD0426398604312'}\n",
      "{'last_name': 'Oneill', 'first_name': 'Bruce', 'email': 'morenolindsay@bass.org', 'country': 'Montserrat', 'account': 'UYHI6964741005832'}\n",
      "{'last_name': 'Nash', 'first_name': 'Linda', 'email': 'robertdavis@hotmail.com', 'country': 'Heard Island and McDonald Islands', 'account': 'ZKTE5908966955533'}\n",
      "{'last_name': 'Cameron', 'first_name': 'Kathleen', 'email': 'melanie81@rogers.com', 'country': 'Niger', 'account': 'HHHP3471562002758'}\n",
      "{'last_name': 'Wilkinson', 'first_name': 'Wesley', 'email': 'clineerin@hotmail.com', 'country': 'Saint Vincent and the Grenadines', 'account': 'UWLV6407825245995'}\n",
      "{'last_name': 'Wallace', 'first_name': 'Debbie', 'email': 'terri95@hotmail.com', 'country': 'Antigua and Barbuda', 'account': 'JRBN0811785293731'}\n",
      "{'last_name': 'Woodward', 'first_name': 'Kayla', 'email': 'danielle65@yahoo.com', 'country': 'Mexico', 'account': 'VDWY7565964041116'}\n",
      "{'last_name': 'Bennett', 'first_name': 'Stephanie', 'email': 'sjackson@yahoo.com', 'country': 'Singapore', 'account': 'DNRB2101855092009'}\n",
      "{'last_name': 'Jenkins', 'first_name': 'Caleb', 'email': 'douglas63@yahoo.com', 'country': 'Botswana', 'account': 'IILE1765776198023'}\n",
      "{'last_name': 'Edwards', 'first_name': 'Valerie', 'email': 'woodardlindsey@yahoo.com', 'country': 'Guinea', 'account': 'ZJUF2687631787282'}\n",
      "{'last_name': 'Anderson', 'first_name': 'Mary', 'email': 'suebrown@yahoo.com', 'country': 'Chile', 'account': 'DHMT4208071148508'}\n",
      "{'last_name': 'Ray', 'first_name': 'Angela', 'email': 'swhite@yahoo.com', 'country': 'Mayotte', 'account': 'UBRR8524342666714'}\n",
      "{'last_name': 'Edwards', 'first_name': 'Haley', 'email': 'martinkimberly@lopez.com', 'country': 'Macedonia', 'account': 'OGPU6537909247863'}\n",
      "{'last_name': 'Clark', 'first_name': 'Charles', 'email': 'jessica11@hotmail.com', 'country': 'Ukraine', 'account': 'AHYX6128839695452'}\n",
      "{'last_name': 'Hill', 'first_name': 'Lisa', 'email': 'hsmith@baker.com', 'country': 'Saint Martin', 'account': 'VUPW6891906300822'}\n",
      "{'last_name': 'Carpenter', 'first_name': 'Jonathan', 'email': 'fklein@yahoo.com', 'country': 'Germany', 'account': 'PKFW4841194501766'}\n",
      "{'last_name': 'Griffith', 'first_name': 'Latoya', 'email': 'ryan32@skinner.com', 'country': 'Lesotho', 'account': 'BNYD8693045932496'}\n",
      "{'last_name': 'Blair', 'first_name': 'Kim', 'email': 'tmurphy@flores.biz', 'country': 'Nepal', 'account': 'FQJA6381776349463'}\n",
      "{'last_name': 'Salazar', 'first_name': 'Mary', 'email': 'mary64@ray.org', 'country': 'Latvia', 'account': 'KCNI2464381879411'}\n",
      "{'last_name': 'Krueger', 'first_name': 'Kenneth', 'email': 'jennajoseph@yahoo.com', 'country': 'Central African Republic', 'account': 'BIGY3006735396533'}\n",
      "{'last_name': 'Burke', 'first_name': 'Phillip', 'email': 'watsonsamuel@gmail.com', 'country': 'Peru', 'account': 'CNJX1222752295544'}\n",
      "{'last_name': 'Juarez', 'first_name': 'Erica', 'email': 'xvelasquez@hughes.com', 'country': 'Spain', 'account': 'ZROP5229895490397'}\n",
      "{'last_name': 'Watkins', 'first_name': 'Jason', 'email': 'april99@gmail.com', 'country': 'Seychelles', 'account': 'NXKK2792812848629'}\n",
      "{'last_name': 'Carter', 'first_name': 'Lee', 'email': 'kfletcher@yahoo.com', 'country': 'Faroe Islands', 'account': 'DPLN5056382218296'}\n",
      "{'last_name': 'Huang', 'first_name': 'Randy', 'email': 'xchurch@hotmail.com', 'country': 'Tokelau', 'account': 'KAOL9792684486009'}\n",
      "{'last_name': 'Owen', 'first_name': 'Kristina', 'email': 'megan24@stewart.net', 'country': 'Cocos (Keeling) Islands', 'account': 'WRXW4627191899235'}\n",
      "{'last_name': 'Turner', 'first_name': 'Beth', 'email': 'sydneycollins@hunter.com', 'country': 'Burundi', 'account': 'OMOK4767172062189'}\n",
      "{'last_name': 'Aguirre', 'first_name': 'Michael', 'email': 'robertbowen@chavez-ortega.com', 'country': 'Timor-Leste', 'account': 'KRKF7344951038740'}\n",
      "{'last_name': 'Wilson', 'first_name': 'Elizabeth', 'email': 'christiandanielle@yahoo.com', 'country': 'Montserrat', 'account': 'SAAA4141150617330'}\n",
      "{'last_name': 'Hardy', 'first_name': 'Teresa', 'email': 'kdavidson@gordon.com', 'country': 'Norway', 'account': 'XNWQ1072087896797'}\n",
      "{'last_name': 'Stewart', 'first_name': 'David', 'email': 'bennettwanda@vega-guerra.net', 'country': 'Sierra Leone', 'account': 'FTHM1005169617995'}\n",
      "{'last_name': 'Moore', 'first_name': 'Heather', 'email': 'mark00@hotmail.com', 'country': 'French Polynesia', 'account': 'OSSM9070924947595'}\n",
      "{'last_name': 'Grant', 'first_name': 'Melissa', 'email': 'schaefernatalie@hotmail.com', 'country': 'French Guiana', 'account': 'CFQJ4204773901237'}\n",
      "{'last_name': 'Thompson', 'first_name': 'Jennifer', 'email': 'moralesmartin@rodgers.com', 'country': 'Cape Verde', 'account': 'MGFG2793756668287'}\n",
      "{'last_name': 'Anderson', 'first_name': 'Raymond', 'email': 'dprince@hotmail.com', 'country': 'Barbados', 'account': 'IGXK5881682171566'}\n",
      "{'last_name': 'Ramsey', 'first_name': 'Angela', 'email': 'cparks@valdez-hudson.com', 'country': 'Andorra', 'account': 'QYBW6359021109484'}\n",
      "{'last_name': 'Gonzales', 'first_name': 'Betty', 'email': 'martinezrichard@yahoo.com', 'country': 'Montserrat', 'account': 'UTSI0776569247505'}\n",
      "{'last_name': 'Castaneda', 'first_name': 'Thomas', 'email': 'kpena@yahoo.com', 'country': 'Egypt', 'account': 'LSDI9463735752680'}\n",
      "{'last_name': 'Todd', 'first_name': 'Jonathan', 'email': 'julie68@gmail.com', 'country': 'Malaysia', 'account': 'ISYY1401931979959'}\n",
      "{'last_name': 'Garcia', 'first_name': 'Stacey', 'email': 'lukebradford@hotmail.com', 'country': 'Zimbabwe', 'account': 'HNOA0376843856035'}\n",
      "{'last_name': 'Figueroa', 'first_name': 'Judy', 'email': 'ystewart@yahoo.com', 'country': 'Portugal', 'account': 'EEVV8325881104553'}\n",
      "{'last_name': 'Castillo', 'first_name': 'Ashley', 'email': 'cory33@king-shaw.net', 'country': 'Paraguay', 'account': 'QXGZ3111246190069'}\n",
      "{'last_name': 'Flores', 'first_name': 'Zachary', 'email': 'zcalhoun@gmail.com', 'country': 'Central African Republic', 'account': 'ACQR2846533122117'}\n",
      "{'last_name': 'Allen', 'first_name': 'Erica', 'email': 'michaelhall@hotmail.com', 'country': 'Palau', 'account': 'ZAZD8310339637467'}\n",
      "{'last_name': 'Potts', 'first_name': 'Savannah', 'email': 'kristentaylor@yahoo.com', 'country': 'Micronesia', 'account': 'ARWK1547324119222'}\n",
      "{'last_name': 'Wheeler', 'first_name': 'Zachary', 'email': 'stephen63@yahoo.com', 'country': 'Armenia', 'account': 'OMQX4840913072589'}\n",
      "{'last_name': 'Thomas', 'first_name': 'Timothy', 'email': 'bryanmartin@gmail.com', 'country': 'Bahrain', 'account': 'OCFV4659464275270'}\n",
      "{'last_name': 'Mcknight', 'first_name': 'Ann', 'email': 'kristinavelasquez@gmail.com', 'country': 'Guatemala', 'account': 'DTRB4720098955341'}\n",
      "{'last_name': 'Thompson', 'first_name': 'Ruth', 'email': 'denise01@burns.org', 'country': 'Saint Vincent and the Grenadines', 'account': 'YYHM5758234683389'}\n",
      "{'last_name': 'Levy', 'first_name': 'Daniel', 'email': 'beancody@jones.com', 'country': 'Kazakhstan', 'account': 'AHBN3151680654826'}\n",
      "{'last_name': 'Hubbard', 'first_name': 'Paul', 'email': 'ubradley@yahoo.com', 'country': 'Germany', 'account': 'FGBC0366153271398'}\n",
      "{'last_name': 'Jones', 'first_name': 'Jason', 'email': 'anthony75@yahoo.com', 'country': 'Western Sahara', 'account': 'MHTE8867005510944'}\n",
      "{'last_name': 'Garcia', 'first_name': 'Margaret', 'email': 'antonio52@gmail.com', 'country': 'Togo', 'account': 'IYOD4325345823013'}\n",
      "{'last_name': 'Peters', 'first_name': 'Jeremy', 'email': 'johnlewis@hotmail.com', 'country': 'Guam', 'account': 'NZFX8257739892619'}\n",
      "{'last_name': 'Stone', 'first_name': 'Mark', 'email': 'nmoore@hotmail.com', 'country': 'Kuwait', 'account': 'MWRB2515761996641'}\n",
      "{'last_name': 'Edwards', 'first_name': 'Darius', 'email': 'nchurch@yahoo.com', 'country': 'Eritrea', 'account': 'CURJ9953745256871'}\n",
      "{'last_name': 'Lawson', 'first_name': 'Tracy', 'email': 'piercejenna@gmail.com', 'country': 'Czech Republic', 'account': 'ATOT8581137487723'}\n",
      "{'last_name': 'Cooper', 'first_name': 'Christina', 'email': 'ddavidson@hotmail.com', 'country': 'Maldives', 'account': 'RQGA0882784089265'}\n",
      "{'last_name': 'Harris', 'first_name': 'Megan', 'email': 'ndelacruz@yahoo.com', 'country': 'Armenia', 'account': 'EOPA8088866975598'}\n",
      "{'last_name': 'Jones', 'first_name': 'Timothy', 'email': 'jenniferadkins@griffin.biz', 'country': 'Benin', 'account': 'JCUN9597199552039'}\n",
      "{'last_name': 'Burch', 'first_name': 'Tracie', 'email': 'evansmiguel@yahoo.com', 'country': 'Fiji', 'account': 'IZYL3351829981461'}\n",
      "{'last_name': 'Chung', 'first_name': 'Jason', 'email': 'kenneththompson@baxter.com', 'country': 'Iceland', 'account': 'JDIH2349154465371'}\n",
      "{'last_name': 'Melton', 'first_name': 'Samantha', 'email': 'bcurtis@hotmail.com', 'country': 'Macedonia', 'account': 'VRZP1447516193511'}\n",
      "{'last_name': 'Hansen', 'first_name': 'Michael', 'email': 'phillipssean@hotmail.com', 'country': 'Serbia', 'account': 'QKAF2254397516681'}\n"
     ]
    }
   ],
   "source": [
    "header = None\n",
    "\n",
    "filename = 'people.tsv'\n",
    "lines = []\n",
    "with open(filename) as file:\n",
    "    for line in file:\n",
    "        line = line.strip()\n",
    "        if not line:\n",
    "            continue\n",
    "            \n",
    "        if not header:\n",
    "            header = line.split('\\t')\n",
    "            header_index = {ele:idx for idx, ele in enumerate(header)}\n",
    "            continue\n",
    "            \n",
    "        data = dict(zip(header, line.split('\\t')))\n",
    "            \n",
    "        lines.append(data)\n",
    "        \n",
    "for line in lines:\n",
    "    print(line)"
   ]
  },
  {
   "cell_type": "code",
   "execution_count": 186,
   "id": "88b0c99a",
   "metadata": {},
   "outputs": [
    {
     "data": {
      "text/plain": [
       "{'last_name': 0, 'first_name': 1, 'email': 2, 'country': 3, 'account': 4}"
      ]
     },
     "execution_count": 186,
     "metadata": {},
     "output_type": "execute_result"
    }
   ],
   "source": [
    "header_index"
   ]
  },
  {
   "cell_type": "code",
   "execution_count": 187,
   "id": "5aee5ef1",
   "metadata": {},
   "outputs": [
    {
     "data": {
      "text/plain": [
       "['last_name', 'first_name', 'email', 'country', 'account']"
      ]
     },
     "execution_count": 187,
     "metadata": {},
     "output_type": "execute_result"
    }
   ],
   "source": [
    "header"
   ]
  },
  {
   "cell_type": "code",
   "execution_count": 189,
   "id": "399e0616",
   "metadata": {},
   "outputs": [
    {
     "data": {
      "text/plain": [
       "1"
      ]
     },
     "execution_count": 189,
     "metadata": {},
     "output_type": "execute_result"
    }
   ],
   "source": [
    "header.index('first_name')"
   ]
  },
  {
   "cell_type": "code",
   "execution_count": 191,
   "id": "ee5a42ff",
   "metadata": {},
   "outputs": [],
   "source": [
    "def find_index(lst, val):\n",
    "    length = len(lst)\n",
    "    for i in range(length):\n",
    "        if header[i] == val:\n",
    "            return i\n",
    "    return -1"
   ]
  },
  {
   "cell_type": "code",
   "execution_count": 193,
   "id": "26dabd62",
   "metadata": {},
   "outputs": [
    {
     "data": {
      "text/plain": [
       "-1"
      ]
     },
     "execution_count": 193,
     "metadata": {},
     "output_type": "execute_result"
    }
   ],
   "source": [
    "find_index(header, 'firSt_name')"
   ]
  },
  {
   "cell_type": "code",
   "execution_count": 194,
   "id": "03661407",
   "metadata": {},
   "outputs": [],
   "source": [
    "header_index.get('FirstName')"
   ]
  },
  {
   "cell_type": "code",
   "execution_count": 195,
   "id": "dac68ca0",
   "metadata": {},
   "outputs": [
    {
     "data": {
      "text/plain": [
       "1"
      ]
     },
     "execution_count": 195,
     "metadata": {},
     "output_type": "execute_result"
    }
   ],
   "source": [
    "header_index.get('first_name')"
   ]
  },
  {
   "cell_type": "code",
   "execution_count": 214,
   "id": "ac650b01",
   "metadata": {},
   "outputs": [],
   "source": [
    "def simulate_two_dice(N):\n",
    "    import random\n",
    "    from collections import Counter\n",
    "    random.seed(503)\n",
    "    \n",
    "    result = []\n",
    "    for _ in range(N):\n",
    "        dice1 = random.randint(1, 6)\n",
    "        dice2 = random.randint(1, 6)\n",
    "        total = dice1 + dice2 \n",
    "        result.append(total)\n",
    "        \n",
    "    print(Counter(result))"
   ]
  },
  {
   "cell_type": "code",
   "execution_count": 215,
   "id": "23f17194",
   "metadata": {},
   "outputs": [
    {
     "name": "stdout",
     "output_type": "stream",
     "text": [
      "Counter({7: 1716, 8: 1383, 6: 1359, 9: 1141, 5: 1090, 10: 861, 4: 817, 11: 551, 3: 531, 12: 283, 2: 268})\n"
     ]
    }
   ],
   "source": [
    "simulate_two_dice(10000)\n"
   ]
  },
  {
   "cell_type": "code",
   "execution_count": 216,
   "id": "85d6fd2a",
   "metadata": {},
   "outputs": [],
   "source": [
    "def simulate_two_dice(N):\n",
    "    import random\n",
    "    \n",
    "    random.seed(503)\n",
    "    \n",
    "    result = {}\n",
    "    for _ in range(N):\n",
    "        dice1 = random.randint(1, 6)\n",
    "        dice2 = random.randint(1, 6)\n",
    "        total = dice1 + dice2 \n",
    "        \n",
    "        if total not in result:\n",
    "            result[total] = 0\n",
    "        \n",
    "        result[total] += 1\n",
    "        \n",
    "    print(result)\n"
   ]
  },
  {
   "cell_type": "code",
   "execution_count": 218,
   "id": "508573bb",
   "metadata": {},
   "outputs": [
    {
     "name": "stdout",
     "output_type": "stream",
     "text": [
      "{4: 817, 9: 1141, 6: 1359, 5: 1090, 7: 1716, 2: 268, 11: 551, 10: 861, 3: 531, 8: 1383, 12: 283}\n"
     ]
    }
   ],
   "source": [
    "simulate_two_dice(10000)"
   ]
  },
  {
   "cell_type": "code",
   "execution_count": 219,
   "id": "53604a40",
   "metadata": {},
   "outputs": [
    {
     "name": "stdout",
     "output_type": "stream",
     "text": [
      "defaultdict(<class 'int'>, {4: 817, 9: 1141, 6: 1359, 5: 1090, 7: 1716, 2: 268, 11: 551, 10: 861, 3: 531, 8: 1383, 12: 283})\n"
     ]
    }
   ],
   "source": [
    "def simulate_two_dice(N):\n",
    "    import random\n",
    "    from collections import defaultdict\n",
    "    \n",
    "    random.seed(503)\n",
    "    \n",
    "    result = defaultdict(int)\n",
    "    for _ in range(N):\n",
    "        dice1 = random.randint(1, 6)\n",
    "        dice2 = random.randint(1, 6)\n",
    "        total = dice1 + dice2 \n",
    "    \n",
    "        result[total] += 1\n",
    "        \n",
    "    print(result)\n",
    "simulate_two_dice(10000)"
   ]
  },
  {
   "cell_type": "code",
   "execution_count": 220,
   "id": "534b4dae",
   "metadata": {},
   "outputs": [
    {
     "name": "stdout",
     "output_type": "stream",
     "text": [
      "[0, 0, 268, 531, 817, 1090, 1359, 1716, 1383, 1141, 861, 551, 283]\n"
     ]
    }
   ],
   "source": [
    "def simulate_two_dice(N):\n",
    "    import random\n",
    "    \n",
    "    random.seed(503)\n",
    "    \n",
    "    result = [0,] * 13\n",
    "    for _ in range(N):\n",
    "        dice1 = random.randint(1, 6)\n",
    "        dice2 = random.randint(1, 6)\n",
    "        total = dice1 + dice2 \n",
    "    \n",
    "        result[total] += 1\n",
    "        \n",
    "    print(result)\n",
    "simulate_two_dice(10000)"
   ]
  },
  {
   "cell_type": "code",
   "execution_count": 230,
   "id": "8b3e0cb0",
   "metadata": {},
   "outputs": [
    {
     "name": "stdout",
     "output_type": "stream",
     "text": [
      "2 2.78\n",
      "3 5.55\n",
      "4 8.33\n",
      "5 11.12\n",
      "6 13.88\n",
      "7 16.68\n",
      "8 13.88\n",
      "9 11.11\n",
      "10 8.34\n",
      "11 5.56\n",
      "12 2.78\n",
      "100.00999999999999\n"
     ]
    }
   ],
   "source": [
    "def simulate_two_dice(N):\n",
    "    import random\n",
    "    from collections import defaultdict\n",
    "    \n",
    "    random.seed(2000)\n",
    "    \n",
    "    result = defaultdict(int)\n",
    "    for _ in range(N):\n",
    "        dice1 = random.randint(1, 6)\n",
    "        dice2 = random.randint(1, 6)\n",
    "        total = dice1 + dice2 \n",
    "    \n",
    "        result[total] += 1\n",
    "        \n",
    "    output = {}\n",
    "    for key, value in result.items():\n",
    "        output[key] = round(value / N * 100, 2)\n",
    "    for key in sorted(output.keys()):\n",
    "        print(key, output[key])\n",
    "        \n",
    "    print(sum(output.values()))\n",
    "simulate_two_dice(10000000) "
   ]
  },
  {
   "cell_type": "code",
   "execution_count": null,
   "id": "c684f4cc",
   "metadata": {},
   "outputs": [],
   "source": []
  }
 ],
 "metadata": {
  "kernelspec": {
   "display_name": "Python 3 (ipykernel)",
   "language": "python",
   "name": "python3"
  },
  "language_info": {
   "codemirror_mode": {
    "name": "ipython",
    "version": 3
   },
   "file_extension": ".py",
   "mimetype": "text/x-python",
   "name": "python",
   "nbconvert_exporter": "python",
   "pygments_lexer": "ipython3",
   "version": "3.9.13"
  }
 },
 "nbformat": 4,
 "nbformat_minor": 5
}
