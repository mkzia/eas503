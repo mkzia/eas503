{
 "cells": [
  {
   "cell_type": "code",
   "execution_count": 1,
   "id": "c3f1f901",
   "metadata": {},
   "outputs": [
    {
     "data": {
      "text/plain": [
       "2"
      ]
     },
     "execution_count": 1,
     "metadata": {},
     "output_type": "execute_result"
    }
   ],
   "source": [
    "1 + 1"
   ]
  },
  {
   "cell_type": "code",
   "execution_count": 2,
   "id": "c60a3bf9",
   "metadata": {},
   "outputs": [
    {
     "data": {
      "text/plain": [
       "20"
      ]
     },
     "execution_count": 2,
     "metadata": {},
     "output_type": "execute_result"
    }
   ],
   "source": [
    "2 * 10"
   ]
  },
  {
   "cell_type": "code",
   "execution_count": 3,
   "id": "5511bf77",
   "metadata": {},
   "outputs": [],
   "source": [
    "def add(x: int, y:int) -> int:\n",
    "    return x + y\n",
    "\n",
    "def main():\n",
    "    x = 1\n",
    "    y = 2\n",
    "    result = add(x, y)\n",
    "    output_string = f'The output of add({x}, {y}) is {result}.'\n",
    "    print(output_string)\n"
   ]
  },
  {
   "cell_type": "code",
   "execution_count": 5,
   "id": "c0408132",
   "metadata": {},
   "outputs": [
    {
     "name": "stdout",
     "output_type": "stream",
     "text": [
      "The output of add(1, 2) is 3.\n"
     ]
    }
   ],
   "source": [
    "main()"
   ]
  },
  {
   "cell_type": "code",
   "execution_count": 8,
   "id": "e7bfbd1f",
   "metadata": {},
   "outputs": [
    {
     "data": {
      "text/plain": [
       "2"
      ]
     },
     "execution_count": 8,
     "metadata": {},
     "output_type": "execute_result"
    }
   ],
   "source": [
    "53 // 24"
   ]
  },
  {
   "cell_type": "code",
   "execution_count": 7,
   "id": "87714bde",
   "metadata": {},
   "outputs": [
    {
     "data": {
      "text/plain": [
       "5"
      ]
     },
     "execution_count": 7,
     "metadata": {},
     "output_type": "execute_result"
    }
   ],
   "source": [
    "53 % 24"
   ]
  },
  {
   "cell_type": "code",
   "execution_count": 9,
   "id": "b96309fe",
   "metadata": {},
   "outputs": [
    {
     "data": {
      "text/plain": [
       "0"
      ]
     },
     "execution_count": 9,
     "metadata": {},
     "output_type": "execute_result"
    }
   ],
   "source": [
    "662 % 2"
   ]
  },
  {
   "cell_type": "code",
   "execution_count": 10,
   "id": "79dd6f93",
   "metadata": {},
   "outputs": [
    {
     "data": {
      "text/plain": [
       "2.5"
      ]
     },
     "execution_count": 10,
     "metadata": {},
     "output_type": "execute_result"
    }
   ],
   "source": [
    "2.5\n",
    "\n",
    "2 "
   ]
  },
  {
   "cell_type": "code",
   "execution_count": 13,
   "id": "bc80063a",
   "metadata": {},
   "outputs": [
    {
     "data": {
      "text/plain": [
       "-3"
      ]
     },
     "execution_count": 13,
     "metadata": {},
     "output_type": "execute_result"
    }
   ],
   "source": [
    "17 % -10\n"
   ]
  },
  {
   "cell_type": "code",
   "execution_count": 16,
   "id": "c7a94407",
   "metadata": {},
   "outputs": [
    {
     "data": {
      "text/plain": [
       "24"
      ]
     },
     "execution_count": 16,
     "metadata": {},
     "output_type": "execute_result"
    }
   ],
   "source": [
    "import sys\n",
    "sys.getsizeof(111113.14159032)"
   ]
  },
  {
   "cell_type": "code",
   "execution_count": null,
   "id": "b49b9183",
   "metadata": {},
   "outputs": [],
   "source": [
    "8/2(2+2)\n",
    "\n",
    "# \n",
    "8/(2*4) # 1\n",
    "\n",
    "(8/2) * 4 # 16"
   ]
  },
  {
   "cell_type": "code",
   "execution_count": 17,
   "id": "10db362b",
   "metadata": {},
   "outputs": [
    {
     "name": "stderr",
     "output_type": "stream",
     "text": [
      "<>:1: SyntaxWarning: 'int' object is not callable; perhaps you missed a comma?\n",
      "<>:1: SyntaxWarning: 'int' object is not callable; perhaps you missed a comma?\n",
      "C:\\Users\\mkhaw\\AppData\\Local\\Temp\\ipykernel_25752\\2683986465.py:1: SyntaxWarning: 'int' object is not callable; perhaps you missed a comma?\n",
      "  8/2(2+2)\n"
     ]
    },
    {
     "ename": "TypeError",
     "evalue": "'int' object is not callable",
     "output_type": "error",
     "traceback": [
      "\u001b[1;31m---------------------------------------------------------------------------\u001b[0m",
      "\u001b[1;31mTypeError\u001b[0m                                 Traceback (most recent call last)",
      "\u001b[1;32m~\\AppData\\Local\\Temp\\ipykernel_25752\\2683986465.py\u001b[0m in \u001b[0;36m<module>\u001b[1;34m\u001b[0m\n\u001b[1;32m----> 1\u001b[1;33m \u001b[1;36m8\u001b[0m\u001b[1;33m/\u001b[0m\u001b[1;36m2\u001b[0m\u001b[1;33m(\u001b[0m\u001b[1;36m2\u001b[0m\u001b[1;33m+\u001b[0m\u001b[1;36m2\u001b[0m\u001b[1;33m)\u001b[0m\u001b[1;33m\u001b[0m\u001b[1;33m\u001b[0m\u001b[0m\n\u001b[0m",
      "\u001b[1;31mTypeError\u001b[0m: 'int' object is not callable"
     ]
    }
   ],
   "source": [
    "8/2(2+2)"
   ]
  },
  {
   "cell_type": "code",
   "execution_count": 18,
   "id": "0ae55957",
   "metadata": {},
   "outputs": [
    {
     "data": {
      "text/plain": [
       "int"
      ]
     },
     "execution_count": 18,
     "metadata": {},
     "output_type": "execute_result"
    }
   ],
   "source": [
    "type(1)"
   ]
  },
  {
   "cell_type": "code",
   "execution_count": 19,
   "id": "0e5a0c7c",
   "metadata": {},
   "outputs": [],
   "source": [
    "type = 1"
   ]
  },
  {
   "cell_type": "code",
   "execution_count": 20,
   "id": "d816bc29",
   "metadata": {},
   "outputs": [
    {
     "ename": "TypeError",
     "evalue": "'int' object is not callable",
     "output_type": "error",
     "traceback": [
      "\u001b[1;31m---------------------------------------------------------------------------\u001b[0m",
      "\u001b[1;31mTypeError\u001b[0m                                 Traceback (most recent call last)",
      "\u001b[1;32m~\\AppData\\Local\\Temp\\ipykernel_25752\\3721642566.py\u001b[0m in \u001b[0;36m<module>\u001b[1;34m\u001b[0m\n\u001b[1;32m----> 1\u001b[1;33m \u001b[0mtype\u001b[0m\u001b[1;33m(\u001b[0m\u001b[1;36m1\u001b[0m\u001b[1;33m)\u001b[0m\u001b[1;33m\u001b[0m\u001b[1;33m\u001b[0m\u001b[0m\n\u001b[0m",
      "\u001b[1;31mTypeError\u001b[0m: 'int' object is not callable"
     ]
    }
   ],
   "source": [
    "type(1)"
   ]
  },
  {
   "cell_type": "code",
   "execution_count": 21,
   "id": "b2223f0c",
   "metadata": {},
   "outputs": [],
   "source": [
    "del type"
   ]
  },
  {
   "cell_type": "code",
   "execution_count": 22,
   "id": "c3162e2e",
   "metadata": {},
   "outputs": [
    {
     "data": {
      "text/plain": [
       "int"
      ]
     },
     "execution_count": 22,
     "metadata": {},
     "output_type": "execute_result"
    }
   ],
   "source": [
    "type(1)"
   ]
  },
  {
   "cell_type": "code",
   "execution_count": 24,
   "id": "f17db239",
   "metadata": {},
   "outputs": [],
   "source": [
    "exam_score = 100"
   ]
  },
  {
   "cell_type": "code",
   "execution_count": 25,
   "id": "830f10b3",
   "metadata": {},
   "outputs": [],
   "source": [
    "EXAM_SCORE= 100 "
   ]
  },
  {
   "cell_type": "code",
   "execution_count": null,
   "id": "fb3bbf4f",
   "metadata": {},
   "outputs": [],
   "source": [
    "examScore\n",
    "\n",
    "ExamScore"
   ]
  },
  {
   "cell_type": "code",
   "execution_count": 26,
   "id": "78e020d6",
   "metadata": {},
   "outputs": [],
   "source": [
    "ph = 7\n",
    "\n",
    "pH = 7"
   ]
  },
  {
   "cell_type": "code",
   "execution_count": null,
   "id": "f66a64b8",
   "metadata": {},
   "outputs": [],
   "source": [
    "x = 1\n",
    "\n",
    "x = 3.1415"
   ]
  },
  {
   "cell_type": "code",
   "execution_count": 30,
   "id": "8958bdd7",
   "metadata": {
    "scrolled": true
   },
   "outputs": [
    {
     "name": "stdout",
     "output_type": "stream",
     "text": [
      "2\n"
     ]
    }
   ],
   "source": [
    "x = 1\n",
    "x = x + 1\n",
    "print(x)"
   ]
  },
  {
   "cell_type": "code",
   "execution_count": 29,
   "id": "265636b9",
   "metadata": {},
   "outputs": [
    {
     "name": "stdout",
     "output_type": "stream",
     "text": [
      "2\n"
     ]
    }
   ],
   "source": [
    "x = 1\n",
    "x += 1\n",
    "print(x)"
   ]
  },
  {
   "cell_type": "code",
   "execution_count": 31,
   "id": "92ab00c2",
   "metadata": {},
   "outputs": [
    {
     "ename": "NameError",
     "evalue": "name 'PI' is not defined",
     "output_type": "error",
     "traceback": [
      "\u001b[1;31m---------------------------------------------------------------------------\u001b[0m",
      "\u001b[1;31mNameError\u001b[0m                                 Traceback (most recent call last)",
      "\u001b[1;32m~\\AppData\\Local\\Temp\\ipykernel_25752\\38663713.py\u001b[0m in \u001b[0;36m<module>\u001b[1;34m\u001b[0m\n\u001b[1;32m----> 1\u001b[1;33m \u001b[1;36m3\u001b[0m \u001b[1;33m+\u001b[0m \u001b[0mPI\u001b[0m\u001b[1;33m\u001b[0m\u001b[1;33m\u001b[0m\u001b[0m\n\u001b[0m",
      "\u001b[1;31mNameError\u001b[0m: name 'PI' is not defined"
     ]
    }
   ],
   "source": [
    "3 + PI"
   ]
  },
  {
   "cell_type": "code",
   "execution_count": 32,
   "id": "2d2dda08",
   "metadata": {},
   "outputs": [
    {
     "ename": "SyntaxError",
     "evalue": "invalid syntax (2379048881.py, line 1)",
     "output_type": "error",
     "traceback": [
      "\u001b[1;36m  File \u001b[1;32m\"C:\\Users\\mkhaw\\AppData\\Local\\Temp\\ipykernel_25752\\2379048881.py\"\u001b[1;36m, line \u001b[1;32m1\u001b[0m\n\u001b[1;33m    2 +\u001b[0m\n\u001b[1;37m         ^\u001b[0m\n\u001b[1;31mSyntaxError\u001b[0m\u001b[1;31m:\u001b[0m invalid syntax\n"
     ]
    }
   ],
   "source": [
    "2 +  "
   ]
  },
  {
   "cell_type": "code",
   "execution_count": 33,
   "id": "c6d107aa",
   "metadata": {},
   "outputs": [
    {
     "ename": "SyntaxError",
     "evalue": "cannot assign to literal (3541004665.py, line 1)",
     "output_type": "error",
     "traceback": [
      "\u001b[1;36m  File \u001b[1;32m\"C:\\Users\\mkhaw\\AppData\\Local\\Temp\\ipykernel_25752\\3541004665.py\"\u001b[1;36m, line \u001b[1;32m1\u001b[0m\n\u001b[1;33m    12 = x\u001b[0m\n\u001b[1;37m    ^\u001b[0m\n\u001b[1;31mSyntaxError\u001b[0m\u001b[1;31m:\u001b[0m cannot assign to literal\n"
     ]
    }
   ],
   "source": [
    "12 = x"
   ]
  },
  {
   "cell_type": "code",
   "execution_count": 35,
   "id": "6bff742c",
   "metadata": {},
   "outputs": [
    {
     "data": {
      "text/plain": [
       "-48"
      ]
     },
     "execution_count": 35,
     "metadata": {},
     "output_type": "execute_result"
    }
   ],
   "source": [
    "6 * -----8"
   ]
  },
  {
   "cell_type": "code",
   "execution_count": 37,
   "id": "0687c194",
   "metadata": {},
   "outputs": [
    {
     "ename": "SyntaxError",
     "evalue": "unexpected EOF while parsing (1832256377.py, line 1)",
     "output_type": "error",
     "traceback": [
      "\u001b[1;36m  File \u001b[1;32m\"C:\\Users\\mkhaw\\AppData\\Local\\Temp\\ipykernel_25752\\1832256377.py\"\u001b[1;36m, line \u001b[1;32m1\u001b[0m\n\u001b[1;33m    ((((4 ** 3)))\u001b[0m\n\u001b[1;37m                 ^\u001b[0m\n\u001b[1;31mSyntaxError\u001b[0m\u001b[1;31m:\u001b[0m unexpected EOF while parsing\n"
     ]
    }
   ],
   "source": [
    "((((4 ** 3)))"
   ]
  },
  {
   "cell_type": "code",
   "execution_count": 39,
   "id": "6ec742f5",
   "metadata": {},
   "outputs": [
    {
     "data": {
      "text/plain": [
       "5"
      ]
     },
     "execution_count": 39,
     "metadata": {},
     "output_type": "execute_result"
    }
   ],
   "source": [
    "(-(-(-(-5))))"
   ]
  },
  {
   "cell_type": "code",
   "execution_count": 40,
   "id": "f90f66ef",
   "metadata": {},
   "outputs": [],
   "source": [
    "x += 7 / 2"
   ]
  },
  {
   "cell_type": "code",
   "execution_count": 41,
   "id": "d28d8782",
   "metadata": {},
   "outputs": [
    {
     "data": {
      "text/plain": [
       "5.5"
      ]
     },
     "execution_count": 41,
     "metadata": {},
     "output_type": "execute_result"
    }
   ],
   "source": [
    "x"
   ]
  },
  {
   "cell_type": "code",
   "execution_count": 43,
   "id": "ac2ddf55",
   "metadata": {},
   "outputs": [
    {
     "data": {
      "text/plain": [
       "type"
      ]
     },
     "execution_count": 43,
     "metadata": {},
     "output_type": "execute_result"
    }
   ],
   "source": [
    "type(type(3.14))"
   ]
  },
  {
   "cell_type": "code",
   "execution_count": null,
   "id": "9f997bad",
   "metadata": {},
   "outputs": [],
   "source": [
    "Note the difference between parameters and arguments: Function parameters are\n",
    "    the names listed in the function's definition. Function arguments are\n",
    "    the real values passed to the function. Parameters are initialized to the values of the arguments supplied. "
   ]
  },
  {
   "cell_type": "code",
   "execution_count": null,
   "id": "d19785d9",
   "metadata": {},
   "outputs": [],
   "source": [
    "def <<function_name>>(<<parameters>>):\n",
    "    body\n",
    "    \n",
    "def f(x):\n",
    "    return x + x\n",
    "\n",
    "type(3.14)"
   ]
  },
  {
   "cell_type": "code",
   "execution_count": null,
   "id": "e8c6a3e2",
   "metadata": {},
   "outputs": [],
   "source": [
    "function blah(x) {\n",
    " body of function \n",
    "}\n",
    "\n",
    "x = x + 1"
   ]
  },
  {
   "cell_type": "code",
   "execution_count": 46,
   "id": "5a5cfa9a",
   "metadata": {},
   "outputs": [
    {
     "data": {
      "text/plain": [
       "32.0"
      ]
     },
     "execution_count": 46,
     "metadata": {},
     "output_type": "execute_result"
    }
   ],
   "source": [
    "def convert_celsius_to_fahrenheit(degrees_in_celsius):\n",
    "    return 9 / 5 * degrees_in_celsius + 32\n",
    "\n",
    "convert_celsius_to_fahrenheit(0)"
   ]
  },
  {
   "cell_type": "code",
   "execution_count": 48,
   "id": "b61ce9bb",
   "metadata": {},
   "outputs": [
    {
     "data": {
      "text/plain": [
       "212.0"
      ]
     },
     "execution_count": 48,
     "metadata": {},
     "output_type": "execute_result"
    }
   ],
   "source": [
    "\n",
    "convert_celsius_to_fahrenheit(100)"
   ]
  },
  {
   "cell_type": "code",
   "execution_count": 65,
   "id": "5765b3c6",
   "metadata": {},
   "outputs": [
    {
     "data": {
      "text/plain": [
       "212.0"
      ]
     },
     "execution_count": 65,
     "metadata": {},
     "output_type": "execute_result"
    }
   ],
   "source": [
    " 9 / 5 * 100 + 32\n",
    "    "
   ]
  },
  {
   "cell_type": "code",
   "execution_count": 51,
   "id": "915f65f2",
   "metadata": {},
   "outputs": [
    {
     "data": {
      "text/plain": [
       "32.0"
      ]
     },
     "execution_count": 51,
     "metadata": {},
     "output_type": "execute_result"
    }
   ],
   "source": [
    " 9 / 5 * 0 + 32"
   ]
  },
  {
   "cell_type": "code",
   "execution_count": 64,
   "id": "3922c27d",
   "metadata": {},
   "outputs": [],
   "source": [
    "def convert_celsius_to_fahrenheit(degrees_in_celsius):\n",
    "    f = 9 / 5 * degrees_in_celsius + 32\n",
    "    f += 32\n",
    "    return f"
   ]
  },
  {
   "cell_type": "code",
   "execution_count": 58,
   "id": "01a744f8",
   "metadata": {},
   "outputs": [
    {
     "data": {
      "text/plain": [
       "32.0"
      ]
     },
     "execution_count": 58,
     "metadata": {},
     "output_type": "execute_result"
    }
   ],
   "source": [
    "convert_celsius_to_fahrenheit(0)"
   ]
  },
  {
   "cell_type": "code",
   "execution_count": 66,
   "id": "6a2eea22",
   "metadata": {},
   "outputs": [
    {
     "data": {
      "text/plain": [
       "16"
      ]
     },
     "execution_count": 66,
     "metadata": {},
     "output_type": "execute_result"
    }
   ],
   "source": [
    "pow(2, 4)"
   ]
  },
  {
   "cell_type": "code",
   "execution_count": 67,
   "id": "18ede7ab",
   "metadata": {},
   "outputs": [
    {
     "data": {
      "text/plain": [
       "19"
      ]
     },
     "execution_count": 67,
     "metadata": {},
     "output_type": "execute_result"
    }
   ],
   "source": [
    "abs(-19)"
   ]
  },
  {
   "cell_type": "code",
   "execution_count": 68,
   "id": "c95197ee",
   "metadata": {},
   "outputs": [
    {
     "data": {
      "text/plain": [
       "4"
      ]
     },
     "execution_count": 68,
     "metadata": {},
     "output_type": "execute_result"
    }
   ],
   "source": [
    "round(4.3)"
   ]
  },
  {
   "cell_type": "code",
   "execution_count": 72,
   "id": "976d8a9a",
   "metadata": {},
   "outputs": [
    {
     "data": {
      "text/plain": [
       "5"
      ]
     },
     "execution_count": 72,
     "metadata": {},
     "output_type": "execute_result"
    }
   ],
   "source": [
    "round(4.51)"
   ]
  },
  {
   "cell_type": "code",
   "execution_count": 74,
   "id": "a9b8a98f",
   "metadata": {},
   "outputs": [
    {
     "data": {
      "text/plain": [
       "16"
      ]
     },
     "execution_count": 74,
     "metadata": {},
     "output_type": "execute_result"
    }
   ],
   "source": [
    "pow(abs(-2), round(4.3))"
   ]
  },
  {
   "cell_type": "code",
   "execution_count": 75,
   "id": "3e90844b",
   "metadata": {},
   "outputs": [
    {
     "data": {
      "text/plain": [
       "3"
      ]
     },
     "execution_count": 75,
     "metadata": {},
     "output_type": "execute_result"
    }
   ],
   "source": [
    "int(3.99)"
   ]
  },
  {
   "cell_type": "code",
   "execution_count": 77,
   "id": "1f6533b4",
   "metadata": {},
   "outputs": [
    {
     "data": {
      "text/plain": [
       "4"
      ]
     },
     "execution_count": 77,
     "metadata": {},
     "output_type": "execute_result"
    }
   ],
   "source": [
    "round(4.5)"
   ]
  },
  {
   "cell_type": "code",
   "execution_count": 78,
   "id": "d982bc19",
   "metadata": {},
   "outputs": [
    {
     "data": {
      "text/plain": [
       "8"
      ]
     },
     "execution_count": 78,
     "metadata": {},
     "output_type": "execute_result"
    }
   ],
   "source": [
    "round(8.5)"
   ]
  },
  {
   "cell_type": "code",
   "execution_count": 79,
   "id": "11f55cfb",
   "metadata": {},
   "outputs": [
    {
     "data": {
      "text/plain": [
       "8"
      ]
     },
     "execution_count": 79,
     "metadata": {},
     "output_type": "execute_result"
    }
   ],
   "source": [
    "round(7.5)"
   ]
  },
  {
   "cell_type": "code",
   "execution_count": 80,
   "id": "4c2d6428",
   "metadata": {},
   "outputs": [
    {
     "data": {
      "text/plain": [
       "3"
      ]
     },
     "execution_count": 80,
     "metadata": {},
     "output_type": "execute_result"
    }
   ],
   "source": [
    "round(3.141592653)"
   ]
  },
  {
   "cell_type": "code",
   "execution_count": 81,
   "id": "768f134a",
   "metadata": {},
   "outputs": [
    {
     "data": {
      "text/plain": [
       "3.14"
      ]
     },
     "execution_count": 81,
     "metadata": {},
     "output_type": "execute_result"
    }
   ],
   "source": [
    "round(3.141592653,2)"
   ]
  },
  {
   "cell_type": "code",
   "execution_count": 82,
   "id": "3a4798dc",
   "metadata": {},
   "outputs": [
    {
     "data": {
      "text/plain": [
       "3.1416"
      ]
     },
     "execution_count": 82,
     "metadata": {},
     "output_type": "execute_result"
    }
   ],
   "source": [
    "round(3.141592653,4)"
   ]
  },
  {
   "cell_type": "code",
   "execution_count": 83,
   "id": "c6fdf680",
   "metadata": {},
   "outputs": [
    {
     "name": "stdout",
     "output_type": "stream",
     "text": [
      "Help on built-in function round in module builtins:\n",
      "\n",
      "round(number, ndigits=None)\n",
      "    Round a number to a given precision in decimal digits.\n",
      "    \n",
      "    The return value is an integer if ndigits is omitted or None.  Otherwise\n",
      "    the return value has the same type as the number.  ndigits may be negative.\n",
      "\n"
     ]
    }
   ],
   "source": [
    "help(round)"
   ]
  },
  {
   "cell_type": "code",
   "execution_count": 84,
   "id": "024feabc",
   "metadata": {},
   "outputs": [
    {
     "data": {
      "text/plain": [
       "1"
      ]
     },
     "execution_count": 84,
     "metadata": {},
     "output_type": "execute_result"
    }
   ],
   "source": [
    "pow(2, 4, 3)"
   ]
  },
  {
   "cell_type": "code",
   "execution_count": 85,
   "id": "3d359904",
   "metadata": {},
   "outputs": [
    {
     "name": "stdout",
     "output_type": "stream",
     "text": [
      "Help on built-in function pow in module builtins:\n",
      "\n",
      "pow(base, exp, mod=None)\n",
      "    Equivalent to base**exp with 2 arguments or base**exp % mod with 3 arguments\n",
      "    \n",
      "    Some types, such as ints, are able to use a more efficient algorithm when\n",
      "    invoked using the three argument form.\n",
      "\n"
     ]
    }
   ],
   "source": [
    "help(pow)"
   ]
  },
  {
   "cell_type": "code",
   "execution_count": 86,
   "id": "3080986b",
   "metadata": {},
   "outputs": [
    {
     "data": {
      "text/plain": [
       "2"
      ]
     },
     "execution_count": 86,
     "metadata": {},
     "output_type": "execute_result"
    }
   ],
   "source": [
    "min(2, 3, 4)"
   ]
  },
  {
   "cell_type": "code",
   "execution_count": 87,
   "id": "86ced445",
   "metadata": {},
   "outputs": [
    {
     "data": {
      "text/plain": [
       "7"
      ]
     },
     "execution_count": 87,
     "metadata": {},
     "output_type": "execute_result"
    }
   ],
   "source": [
    "max(2, -3, 4, 7, -5)"
   ]
  },
  {
   "cell_type": "code",
   "execution_count": 88,
   "id": "fb04313f",
   "metadata": {},
   "outputs": [
    {
     "data": {
      "text/plain": [
       "4"
      ]
     },
     "execution_count": 88,
     "metadata": {},
     "output_type": "execute_result"
    }
   ],
   "source": [
    "max(2, -3, min(4, 7), -5)"
   ]
  },
  {
   "cell_type": "code",
   "execution_count": 89,
   "id": "4035a316",
   "metadata": {},
   "outputs": [
    {
     "data": {
      "text/plain": [
       "2241611046096"
      ]
     },
     "execution_count": 89,
     "metadata": {},
     "output_type": "execute_result"
    }
   ],
   "source": [
    "id(-9)"
   ]
  },
  {
   "cell_type": "code",
   "execution_count": 90,
   "id": "ad39ab08",
   "metadata": {},
   "outputs": [],
   "source": [
    "x = -9\n",
    "y = -9"
   ]
  },
  {
   "cell_type": "code",
   "execution_count": 91,
   "id": "e8104efd",
   "metadata": {},
   "outputs": [
    {
     "data": {
      "text/plain": [
       "2241611046128"
      ]
     },
     "execution_count": 91,
     "metadata": {},
     "output_type": "execute_result"
    }
   ],
   "source": [
    "id(x)"
   ]
  },
  {
   "cell_type": "code",
   "execution_count": 92,
   "id": "9525fa08",
   "metadata": {},
   "outputs": [
    {
     "data": {
      "text/plain": [
       "2241611045008"
      ]
     },
     "execution_count": 92,
     "metadata": {},
     "output_type": "execute_result"
    }
   ],
   "source": [
    "id(y)"
   ]
  },
  {
   "cell_type": "code",
   "execution_count": 93,
   "id": "d79bda20",
   "metadata": {},
   "outputs": [
    {
     "data": {
      "text/plain": [
       "2241530697344"
      ]
     },
     "execution_count": 93,
     "metadata": {},
     "output_type": "execute_result"
    }
   ],
   "source": [
    "id(abs)"
   ]
  },
  {
   "cell_type": "code",
   "execution_count": 103,
   "id": "b1cc927c",
   "metadata": {},
   "outputs": [],
   "source": [
    "def ex():\n",
    "    print(\"\"\"_____________________________\n",
    "Happy birthday to you!!!\n",
    "Happy birthday to you!!!\n",
    "Happy birthday, dear John\n",
    "Happy birthday to you!\n",
    "Happy birthday to you!\n",
    "______________________________\n",
    "\"\"\")"
   ]
  },
  {
   "cell_type": "code",
   "execution_count": 102,
   "id": "45dc1c45",
   "metadata": {},
   "outputs": [
    {
     "name": "stdout",
     "output_type": "stream",
     "text": [
      "_____________________________\n",
      "    Happy birthday to you!!!\n",
      " Happy birthday to you!!!\n",
      "Happy birthday, dear John\n",
      "Happy birthday to you!\n",
      "Happy birthday to you!\n",
      "______________________________\n",
      "\n"
     ]
    }
   ],
   "source": [
    "ex()"
   ]
  },
  {
   "cell_type": "code",
   "execution_count": 104,
   "id": "f6ae9daf",
   "metadata": {},
   "outputs": [
    {
     "name": "stdout",
     "output_type": "stream",
     "text": [
      "1\n"
     ]
    }
   ],
   "source": [
    "print(1)"
   ]
  },
  {
   "cell_type": "code",
   "execution_count": 105,
   "id": "47e3f0b6",
   "metadata": {},
   "outputs": [
    {
     "name": "stdout",
     "output_type": "stream",
     "text": [
      "2 3 3\n"
     ]
    }
   ],
   "source": [
    "print(2, 3, 3)"
   ]
  },
  {
   "cell_type": "code",
   "execution_count": 118,
   "id": "ad6c10ec",
   "metadata": {},
   "outputs": [],
   "source": [
    "def p1():\n",
    "    print('Happy birthday to you!!!')\n",
    "def p2(name):\n",
    "    print('Happy birthday, dear ' + name)\n",
    "def p3():\n",
    "    print('Happy birthday to you!!')"
   ]
  },
  {
   "cell_type": "code",
   "execution_count": 119,
   "id": "a86ef882",
   "metadata": {},
   "outputs": [
    {
     "name": "stdout",
     "output_type": "stream",
     "text": [
      "Happy birthday to you!!!\n",
      "Happy birthday to you!!!\n",
      "Happy birthday, dear Jane\n",
      "Happy birthday to you!!\n",
      "Happy birthday to you!!\n"
     ]
    }
   ],
   "source": [
    "def final(name):\n",
    "    p1()\n",
    "    p1()\n",
    "    p2(name)\n",
    "    p3()\n",
    "    p3()\n",
    "    \n",
    "final('Jane')"
   ]
  },
  {
   "cell_type": "code",
   "execution_count": 112,
   "id": "f0aeb723",
   "metadata": {},
   "outputs": [
    {
     "data": {
      "text/plain": [
       "'abcefg'"
      ]
     },
     "execution_count": 112,
     "metadata": {},
     "output_type": "execute_result"
    }
   ],
   "source": [
    "x = 'efg'\n",
    "'abc' + x"
   ]
  },
  {
   "cell_type": "code",
   "execution_count": 117,
   "id": "b54eb1a8",
   "metadata": {},
   "outputs": [
    {
     "name": "stdout",
     "output_type": "stream",
     "text": [
      "Happy birthday to you!!!\n",
      "Happy birthday to you!!!\n",
      "Happy birthday, dear John\n",
      "Happy birthday to you!\n",
      "Happy birthday to you!\n"
     ]
    }
   ],
   "source": [
    "final('John')"
   ]
  },
  {
   "cell_type": "code",
   "execution_count": 121,
   "id": "264e3622",
   "metadata": {},
   "outputs": [],
   "source": [
    "def p1():\n",
    "    print('Happy birthday to you!!!')"
   ]
  },
  {
   "cell_type": "code",
   "execution_count": 122,
   "id": "7671e2ca",
   "metadata": {},
   "outputs": [
    {
     "name": "stdout",
     "output_type": "stream",
     "text": [
      "Happy birthday to you!!!\n"
     ]
    }
   ],
   "source": [
    "p1()"
   ]
  },
  {
   "cell_type": "code",
   "execution_count": 123,
   "id": "7c197db2",
   "metadata": {},
   "outputs": [
    {
     "name": "stdout",
     "output_type": "stream",
     "text": [
      "Happy birthday, dear Jane\n"
     ]
    }
   ],
   "source": [
    "def p2(name):\n",
    "    print('Happy birthday, dear ' + name)\n",
    "p2('Jane')"
   ]
  },
  {
   "cell_type": "code",
   "execution_count": 124,
   "id": "f74ff14d",
   "metadata": {},
   "outputs": [
    {
     "name": "stdout",
     "output_type": "stream",
     "text": [
      "Happy birthday, dear Jane\n",
      "None\n"
     ]
    }
   ],
   "source": [
    "return_value = p2('Jane')\n",
    "print(return_value)"
   ]
  },
  {
   "cell_type": "code",
   "execution_count": 125,
   "id": "8737322a",
   "metadata": {},
   "outputs": [],
   "source": [
    "def add(x, y):\n",
    "    return x + y"
   ]
  },
  {
   "cell_type": "code",
   "execution_count": 127,
   "id": "4cfa052a",
   "metadata": {},
   "outputs": [
    {
     "name": "stdout",
     "output_type": "stream",
     "text": [
      "I am blah\n",
      "1\n"
     ]
    }
   ],
   "source": [
    "def blah():\n",
    "    print('I am blah')\n",
    "    return 1\n",
    "\n",
    "return_value = blah()\n",
    "print(return_value)"
   ]
  },
  {
   "cell_type": "code",
   "execution_count": 128,
   "id": "d4722b1a",
   "metadata": {},
   "outputs": [
    {
     "data": {
      "text/plain": [
       "13"
      ]
     },
     "execution_count": 128,
     "metadata": {},
     "output_type": "execute_result"
    }
   ],
   "source": [
    "import random\n",
    "\n",
    "random.randint(0, 101)"
   ]
  },
  {
   "cell_type": "code",
   "execution_count": 131,
   "id": "94b9fce2",
   "metadata": {},
   "outputs": [],
   "source": [
    "def f(x):\n",
    "    x = x * 2\n",
    "    return x\n",
    "\n",
    "res = f(3)"
   ]
  },
  {
   "cell_type": "code",
   "execution_count": 132,
   "id": "515922d6",
   "metadata": {},
   "outputs": [
    {
     "name": "stdout",
     "output_type": "stream",
     "text": [
      "6\n"
     ]
    }
   ],
   "source": [
    "print(res)"
   ]
  },
  {
   "cell_type": "code",
   "execution_count": 133,
   "id": "c43dca45",
   "metadata": {},
   "outputs": [
    {
     "data": {
      "text/plain": [
       "4"
      ]
     },
     "execution_count": 133,
     "metadata": {},
     "output_type": "execute_result"
    }
   ],
   "source": [
    "round(3.5)"
   ]
  },
  {
   "cell_type": "code",
   "execution_count": 134,
   "id": "0b80a457",
   "metadata": {},
   "outputs": [
    {
     "data": {
      "text/plain": [
       "4"
      ]
     },
     "execution_count": 134,
     "metadata": {},
     "output_type": "execute_result"
    }
   ],
   "source": [
    "round(4.5)"
   ]
  },
  {
   "cell_type": "code",
   "execution_count": 135,
   "id": "b4253932",
   "metadata": {},
   "outputs": [
    {
     "data": {
      "text/plain": [
       "8"
      ]
     },
     "execution_count": 135,
     "metadata": {},
     "output_type": "execute_result"
    }
   ],
   "source": [
    "round(7.5)"
   ]
  },
  {
   "cell_type": "code",
   "execution_count": 136,
   "id": "738ca377",
   "metadata": {},
   "outputs": [
    {
     "data": {
      "text/plain": [
       "8"
      ]
     },
     "execution_count": 136,
     "metadata": {},
     "output_type": "execute_result"
    }
   ],
   "source": [
    "round(8.5)"
   ]
  },
  {
   "cell_type": "code",
   "execution_count": null,
   "id": "350f50cd",
   "metadata": {},
   "outputs": [],
   "source": []
  }
 ],
 "metadata": {
  "kernelspec": {
   "display_name": "Python 3 (ipykernel)",
   "language": "python",
   "name": "python3"
  },
  "language_info": {
   "codemirror_mode": {
    "name": "ipython",
    "version": 3
   },
   "file_extension": ".py",
   "mimetype": "text/x-python",
   "name": "python",
   "nbconvert_exporter": "python",
   "pygments_lexer": "ipython3",
   "version": "3.8.16"
  }
 },
 "nbformat": 4,
 "nbformat_minor": 5
}
