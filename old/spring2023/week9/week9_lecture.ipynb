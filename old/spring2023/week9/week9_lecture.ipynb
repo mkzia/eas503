{
 "cells": [
  {
   "cell_type": "markdown",
   "id": "ea38eeb1",
   "metadata": {},
   "source": [
    "### Three requirements?\n",
    "1 - __iter__ -- initialize iterator -- reset value\n",
    "2 - __next__ -- you need to return/emit the current value, so you need to save it first, increment, and then return/emit \n",
    "3 - raise StopIteration when you have exhausted your values"
   ]
  },
  {
   "cell_type": "code",
   "execution_count": 60,
   "id": "7d045f24",
   "metadata": {},
   "outputs": [],
   "source": [
    "class MyClass:\n",
    "    def __init__(self, x, y): \n",
    "        self.x = x\n",
    "        self.y = y\n",
    "        \n",
    "    def add(self): # MyClass.add(specific_instance)\n",
    "        return self.x + self.y\n",
    "    \n",
    "    def sub(self):\n",
    "        return self.x - self.y"
   ]
  },
  {
   "cell_type": "code",
   "execution_count": 61,
   "id": "c41c83b4",
   "metadata": {},
   "outputs": [],
   "source": [
    "my_class = MyClass(1,2)"
   ]
  },
  {
   "cell_type": "code",
   "execution_count": 62,
   "id": "692f16fa",
   "metadata": {},
   "outputs": [
    {
     "data": {
      "text/plain": [
       "3"
      ]
     },
     "execution_count": 62,
     "metadata": {},
     "output_type": "execute_result"
    }
   ],
   "source": [
    "my_class.add()"
   ]
  },
  {
   "cell_type": "code",
   "execution_count": 63,
   "id": "02780e9e",
   "metadata": {},
   "outputs": [
    {
     "data": {
      "text/plain": [
       "-1"
      ]
     },
     "execution_count": 63,
     "metadata": {},
     "output_type": "execute_result"
    }
   ],
   "source": [
    "my_class.sub()"
   ]
  },
  {
   "cell_type": "code",
   "execution_count": null,
   "id": "3f39e097",
   "metadata": {},
   "outputs": [],
   "source": [
    "x = [1, 2, 3, 4]\n",
    "\n",
    "for ele in x:\n",
    "    print(x)"
   ]
  },
  {
   "cell_type": "code",
   "execution_count": null,
   "id": "c5384b1e",
   "metadata": {},
   "outputs": [],
   "source": [
    "for ele in MyClass:"
   ]
  },
  {
   "cell_type": "code",
   "execution_count": 1,
   "id": "4785e61a",
   "metadata": {},
   "outputs": [
    {
     "name": "stdout",
     "output_type": "stream",
     "text": [
      "0\n",
      "1\n",
      "2\n",
      "3\n",
      "4\n",
      "5\n",
      "6\n",
      "7\n",
      "8\n",
      "9\n"
     ]
    }
   ],
   "source": [
    "class MyRange:\n",
    "    \n",
    "    def __init__(self, start, stop, step=1):\n",
    "        self.start = start\n",
    "        self.stop = stop\n",
    "        self.step = step\n",
    "        \n",
    "    def __iter__(self):\n",
    "        self.value = 0\n",
    "        return self ## important return the class\n",
    "    \n",
    "    def __next__(self):\n",
    "        if self.value < self.stop:\n",
    "            return_value = self.value\n",
    "            self.value += 1\n",
    "            return return_value\n",
    "        else:\n",
    "            raise StopIteration\n",
    "        \n",
    "for ele in MyRange(0, 10, 1):\n",
    "    print(ele)"
   ]
  },
  {
   "cell_type": "code",
   "execution_count": 3,
   "id": "f92cea4f",
   "metadata": {},
   "outputs": [
    {
     "data": {
      "text/plain": [
       "0"
      ]
     },
     "execution_count": 3,
     "metadata": {},
     "output_type": "execute_result"
    }
   ],
   "source": [
    "my_range = MyRange(0, 10, 1)\n",
    "iter(my_range) # ==> MyRange(10).__iter__()\n",
    "next(my_range)"
   ]
  },
  {
   "cell_type": "code",
   "execution_count": 13,
   "id": "932c3bd5",
   "metadata": {},
   "outputs": [
    {
     "ename": "StopIteration",
     "evalue": "",
     "output_type": "error",
     "traceback": [
      "\u001b[1;31m---------------------------------------------------------------------------\u001b[0m",
      "\u001b[1;31mStopIteration\u001b[0m                             Traceback (most recent call last)",
      "\u001b[1;32m~\\AppData\\Local\\Temp\\ipykernel_8536\\2111157206.py\u001b[0m in \u001b[0;36m<module>\u001b[1;34m\u001b[0m\n\u001b[1;32m----> 1\u001b[1;33m \u001b[0mnext\u001b[0m\u001b[1;33m(\u001b[0m\u001b[0mmy_range\u001b[0m\u001b[1;33m)\u001b[0m\u001b[1;33m\u001b[0m\u001b[1;33m\u001b[0m\u001b[0m\n\u001b[0m",
      "\u001b[1;32m~\\AppData\\Local\\Temp\\ipykernel_8536\\705538282.py\u001b[0m in \u001b[0;36m__next__\u001b[1;34m(self)\u001b[0m\n\u001b[0;32m     16\u001b[0m             \u001b[1;32mreturn\u001b[0m \u001b[0mreturn_value\u001b[0m\u001b[1;33m\u001b[0m\u001b[1;33m\u001b[0m\u001b[0m\n\u001b[0;32m     17\u001b[0m         \u001b[1;32melse\u001b[0m\u001b[1;33m:\u001b[0m\u001b[1;33m\u001b[0m\u001b[1;33m\u001b[0m\u001b[0m\n\u001b[1;32m---> 18\u001b[1;33m             \u001b[1;32mraise\u001b[0m \u001b[0mStopIteration\u001b[0m\u001b[1;33m\u001b[0m\u001b[1;33m\u001b[0m\u001b[0m\n\u001b[0m\u001b[0;32m     19\u001b[0m \u001b[1;33m\u001b[0m\u001b[0m\n\u001b[0;32m     20\u001b[0m \u001b[1;32mfor\u001b[0m \u001b[0mele\u001b[0m \u001b[1;32min\u001b[0m \u001b[0mMyRange\u001b[0m\u001b[1;33m(\u001b[0m\u001b[1;36m0\u001b[0m\u001b[1;33m,\u001b[0m \u001b[1;36m10\u001b[0m\u001b[1;33m,\u001b[0m \u001b[1;36m1\u001b[0m\u001b[1;33m)\u001b[0m\u001b[1;33m:\u001b[0m\u001b[1;33m\u001b[0m\u001b[1;33m\u001b[0m\u001b[0m\n",
      "\u001b[1;31mStopIteration\u001b[0m: "
     ]
    }
   ],
   "source": [
    "next(my_range)"
   ]
  },
  {
   "cell_type": "code",
   "execution_count": 23,
   "id": "dff4d844",
   "metadata": {},
   "outputs": [],
   "source": [
    "class MyRange:\n",
    "    \n",
    "    def __init__(self, start, stop, step=1):\n",
    "        self.start = start\n",
    "        self.stop = stop\n",
    "        self.step = step\n",
    "        self.value = 0\n",
    "        \n",
    "#     def __iter__(self):       \n",
    "#         return self ## important return the class\n",
    "    \n",
    "#     def __next__(self):\n",
    "#         if self.value < self.stop:\n",
    "#             return_value = self.value\n",
    "#             self.value += 1\n",
    "#             return return_value\n",
    "#         else:\n",
    "#             raise StopIteration\n",
    "    def loop(self):\n",
    "        l1 = []\n",
    "        for ele in range(self.start, self.stop, self.step):\n",
    "            l1.append(ele)\n",
    "        return l1"
   ]
  },
  {
   "cell_type": "code",
   "execution_count": 17,
   "id": "ea6a2851",
   "metadata": {},
   "outputs": [
    {
     "name": "stdout",
     "output_type": "stream",
     "text": [
      "0\n",
      "1\n",
      "2\n",
      "3\n",
      "4\n",
      "5\n",
      "6\n",
      "7\n",
      "8\n",
      "9\n"
     ]
    }
   ],
   "source": [
    "my_range = MyRange(0, 10, 1)\n",
    "for ele in my_range:\n",
    "    print(ele)"
   ]
  },
  {
   "cell_type": "code",
   "execution_count": 18,
   "id": "590f680a",
   "metadata": {},
   "outputs": [],
   "source": [
    "for ele in my_range:\n",
    "    print(ele)"
   ]
  },
  {
   "cell_type": "code",
   "execution_count": 25,
   "id": "0640c713",
   "metadata": {},
   "outputs": [],
   "source": [
    "my_range = MyRange(0, 10, 1)"
   ]
  },
  {
   "cell_type": "code",
   "execution_count": 21,
   "id": "74077cd7",
   "metadata": {},
   "outputs": [
    {
     "ename": "TypeError",
     "evalue": "'MyRange' object is not iterable",
     "output_type": "error",
     "traceback": [
      "\u001b[1;31m---------------------------------------------------------------------------\u001b[0m",
      "\u001b[1;31mTypeError\u001b[0m                                 Traceback (most recent call last)",
      "\u001b[1;32m~\\AppData\\Local\\Temp\\ipykernel_8536\\3423931851.py\u001b[0m in \u001b[0;36m<module>\u001b[1;34m\u001b[0m\n\u001b[1;32m----> 1\u001b[1;33m \u001b[1;32mfor\u001b[0m \u001b[0mele\u001b[0m \u001b[1;32min\u001b[0m \u001b[0mmy_range\u001b[0m\u001b[1;33m:\u001b[0m\u001b[1;33m\u001b[0m\u001b[1;33m\u001b[0m\u001b[0m\n\u001b[0m\u001b[0;32m      2\u001b[0m     \u001b[0mprint\u001b[0m\u001b[1;33m(\u001b[0m\u001b[0mele\u001b[0m\u001b[1;33m)\u001b[0m\u001b[1;33m\u001b[0m\u001b[1;33m\u001b[0m\u001b[0m\n",
      "\u001b[1;31mTypeError\u001b[0m: 'MyRange' object is not iterable"
     ]
    }
   ],
   "source": [
    "for ele in my_range:\n",
    "    print(ele)"
   ]
  },
  {
   "cell_type": "code",
   "execution_count": 26,
   "id": "775bfb36",
   "metadata": {},
   "outputs": [
    {
     "name": "stdout",
     "output_type": "stream",
     "text": [
      "0\n",
      "1\n",
      "2\n",
      "3\n",
      "4\n",
      "5\n",
      "6\n",
      "7\n",
      "8\n",
      "9\n"
     ]
    }
   ],
   "source": [
    "for ele in my_range.loop():\n",
    "    print(ele)"
   ]
  },
  {
   "cell_type": "code",
   "execution_count": 33,
   "id": "39043d26",
   "metadata": {},
   "outputs": [],
   "source": [
    "class TestClass:\n",
    "    class_variable = 1 # Belongs to the class. Shared by all instances\n",
    "    \n",
    "t1 = TestClass()\n",
    "t2 = TestClass()"
   ]
  },
  {
   "cell_type": "code",
   "execution_count": 34,
   "id": "db09c1b9",
   "metadata": {},
   "outputs": [
    {
     "name": "stdout",
     "output_type": "stream",
     "text": [
      "\n",
      "Print class_variable\n",
      "t1.class_variable:  1\n",
      "t2.class_variable:  1\n"
     ]
    }
   ],
   "source": [
    "print('\\nPrint class_variable')\n",
    "print('t1.class_variable: ', t1.class_variable)\n",
    "print('t2.class_variable: ', t2.class_variable)\n"
   ]
  },
  {
   "cell_type": "code",
   "execution_count": 35,
   "id": "41e05db3",
   "metadata": {},
   "outputs": [
    {
     "name": "stdout",
     "output_type": "stream",
     "text": [
      "\n",
      "Change class_variable in class definition and print class_variable\n",
      "t1.class_variable:  2\n",
      "t2.class_variable:  2\n",
      "t2.class_variable:  2\n"
     ]
    }
   ],
   "source": [
    "print('\\nChange class_variable in class definition and print class_variable')\n",
    "TestClass.class_variable = 2\n",
    "print('t1.class_variable: ', t1.class_variable)\n",
    "print('t2.class_variable: ', t2.class_variable)\n",
    "t4 = TestClass\n",
    "print('t2.class_variable: ', t4.class_variable)\n"
   ]
  },
  {
   "cell_type": "code",
   "execution_count": 30,
   "id": "68e9339a",
   "metadata": {},
   "outputs": [
    {
     "name": "stdout",
     "output_type": "stream",
     "text": [
      "\n",
      "Change class_variable in instance t1 and print class_variable\n",
      "t1.class_variable:  3\n",
      "t2.class_variable:  2\n"
     ]
    }
   ],
   "source": [
    "\n",
    "print('\\nChange class_variable in instance t1 and print class_variable')\n",
    "t1.class_variable = 3\n",
    "print('t1.class_variable: ', t1.class_variable)\n",
    "print('t2.class_variable: ', t2.class_variable)"
   ]
  },
  {
   "cell_type": "code",
   "execution_count": 31,
   "id": "6d98552c",
   "metadata": {},
   "outputs": [
    {
     "name": "stdout",
     "output_type": "stream",
     "text": [
      "\n",
      "Change class_variable in instance t2 and print class_variable\n",
      "t1.class_variable:  3\n",
      "t2.class_variable:  4\n"
     ]
    }
   ],
   "source": [
    "print('\\nChange class_variable in instance t2 and print class_variable')\n",
    "t2.class_variable = 4\n",
    "print('t1.class_variable: ', t1.class_variable)\n",
    "print('t2.class_variable: ', t2.class_variable)"
   ]
  },
  {
   "cell_type": "code",
   "execution_count": 38,
   "id": "0aaa81b9",
   "metadata": {},
   "outputs": [
    {
     "name": "stdout",
     "output_type": "stream",
     "text": [
      "\n",
      "Print class_variable\n",
      "t1.class_variable:  1\n",
      "t2.class_variable:  1\n",
      "\n",
      "Print instance_variable\n",
      "t1.instance_variable:  1\n",
      "t2.instance_variable:  2\n"
     ]
    }
   ],
   "source": [
    "class TestClass:\n",
    "    class_variable = 1 # Belongs to the class. Shared by all instances\n",
    "\n",
    "    def __init__(self, instance_variable):\n",
    "        self.instance_variable = instance_variable\n",
    "\n",
    "\n",
    "t1 = TestClass(1)\n",
    "t2 = TestClass(2)\n",
    "print('\\nPrint class_variable')\n",
    "print('t1.class_variable: ', t1.class_variable)\n",
    "print('t2.class_variable: ', t2.class_variable)\n",
    "\n",
    "print('\\nPrint instance_variable')\n",
    "print('t1.instance_variable: ', t1.instance_variable)\n",
    "print('t2.instance_variable: ', t2.instance_variable)"
   ]
  },
  {
   "cell_type": "code",
   "execution_count": 39,
   "id": "ea5963f4",
   "metadata": {},
   "outputs": [
    {
     "name": "stdout",
     "output_type": "stream",
     "text": [
      "\n",
      "Change class_variable in class definition and print class_variable\n",
      "t1.class_variable:  2\n",
      "t1.class_variable:  2\n"
     ]
    }
   ],
   "source": [
    "print('\\nChange class_variable in class definition and print class_variable')\n",
    "TestClass.class_variable = 2\n",
    "print('t1.class_variable: ', t1.class_variable)\n",
    "print('t1.class_variable: ', t2.class_variable)"
   ]
  },
  {
   "cell_type": "code",
   "execution_count": 40,
   "id": "c115fc77",
   "metadata": {},
   "outputs": [
    {
     "name": "stdout",
     "output_type": "stream",
     "text": [
      "\n",
      "Change instance_variable for t1 and print instance_variable\n",
      "t1.instance_variable:  10\n",
      "t2.instance_variable:  2\n"
     ]
    }
   ],
   "source": [
    "print('\\nChange instance_variable for t1 and print instance_variable')\n",
    "t1.instance_variable = 10\n",
    "print('t1.instance_variable: ', t1.instance_variable)\n",
    "print('t2.instance_variable: ', t2.instance_variable)"
   ]
  },
  {
   "cell_type": "code",
   "execution_count": 41,
   "id": "686cd0c2",
   "metadata": {},
   "outputs": [
    {
     "name": "stdout",
     "output_type": "stream",
     "text": [
      "\n",
      "Change instance_variable for t2 and print instance_variable\n",
      "t1.instance_variable:  10\n",
      "t2.instance_variable:  20\n"
     ]
    }
   ],
   "source": [
    "print('\\nChange instance_variable for t2 and print instance_variable')\n",
    "t2.instance_variable = 20\n",
    "print('t1.instance_variable: ', t1.instance_variable)\n",
    "print('t2.instance_variable: ', t2.instance_variable)"
   ]
  },
  {
   "cell_type": "code",
   "execution_count": 42,
   "id": "73f29c6e",
   "metadata": {},
   "outputs": [
    {
     "name": "stdout",
     "output_type": "stream",
     "text": [
      "\n",
      "Change class_variable in instance t1 and print class_variable\n",
      "t1.class_variable:  3\n",
      "t2.class_variable:  2\n"
     ]
    }
   ],
   "source": [
    "print('\\nChange class_variable in instance t1 and print class_variable')\n",
    "t1.class_variable = 3\n",
    "print('t1.class_variable: ', t1.class_variable)\n",
    "print('t2.class_variable: ', t2.class_variable)\n"
   ]
  },
  {
   "cell_type": "code",
   "execution_count": 44,
   "id": "364566d1",
   "metadata": {},
   "outputs": [
    {
     "data": {
      "text/plain": [
       "2"
      ]
     },
     "execution_count": 44,
     "metadata": {},
     "output_type": "execute_result"
    }
   ],
   "source": [
    "TestClass.class_variable"
   ]
  },
  {
   "cell_type": "code",
   "execution_count": 46,
   "id": "c9593913",
   "metadata": {},
   "outputs": [],
   "source": [
    "class TestClass:\n",
    "    class_variable = 1\n",
    "\n",
    "    # @staticmethod are bound to class rather than object. Therefore, to use them, you do not have\n",
    "    # to instantiate an object.\n",
    "    # NOTE: staticmethods do no have access to class properties (variables or methods).\n",
    "    # This means they cannot access class_variable.\n",
    "    # Such methods are used when you do not want subclasses to change/overwrite a specific method.\n",
    "\n",
    "    @staticmethod\n",
    "    def add(number1, number2):\n",
    "        return number1 + number2"
   ]
  },
  {
   "cell_type": "code",
   "execution_count": 47,
   "id": "9560ac75",
   "metadata": {},
   "outputs": [
    {
     "name": "stdout",
     "output_type": "stream",
     "text": [
      "@staticmethod add:  7\n"
     ]
    }
   ],
   "source": [
    "print('@staticmethod add: ', TestClass.add(3,4))"
   ]
  },
  {
   "cell_type": "code",
   "execution_count": 49,
   "id": "3bc52511",
   "metadata": {},
   "outputs": [
    {
     "ename": "NameError",
     "evalue": "name 'class_variable' is not defined",
     "output_type": "error",
     "traceback": [
      "\u001b[1;31m---------------------------------------------------------------------------\u001b[0m",
      "\u001b[1;31mNameError\u001b[0m                                 Traceback (most recent call last)",
      "\u001b[1;32m~\\AppData\\Local\\Temp\\ipykernel_8536\\1773228283.py\u001b[0m in \u001b[0;36m<module>\u001b[1;34m\u001b[0m\n\u001b[0;32m     13\u001b[0m \u001b[1;33m\u001b[0m\u001b[0m\n\u001b[0;32m     14\u001b[0m \u001b[1;33m\u001b[0m\u001b[0m\n\u001b[1;32m---> 15\u001b[1;33m \u001b[0mprint\u001b[0m\u001b[1;33m(\u001b[0m\u001b[1;34m'@staticmethod add: '\u001b[0m\u001b[1;33m,\u001b[0m \u001b[0mTestClass2\u001b[0m\u001b[1;33m.\u001b[0m\u001b[0madd\u001b[0m\u001b[1;33m(\u001b[0m\u001b[1;36m3\u001b[0m\u001b[1;33m,\u001b[0m\u001b[1;36m4\u001b[0m\u001b[1;33m)\u001b[0m\u001b[1;33m)\u001b[0m\u001b[1;33m\u001b[0m\u001b[1;33m\u001b[0m\u001b[0m\n\u001b[0m\u001b[0;32m     16\u001b[0m \u001b[0mprint\u001b[0m\u001b[1;33m(\u001b[0m\u001b[1;34m'\\n'\u001b[0m\u001b[1;33m,\u001b[0m \u001b[1;34m'-'\u001b[0m\u001b[1;33m*\u001b[0m\u001b[1;36m60\u001b[0m\u001b[1;33m,\u001b[0m \u001b[1;34m'\\n'\u001b[0m\u001b[1;33m)\u001b[0m\u001b[1;33m\u001b[0m\u001b[1;33m\u001b[0m\u001b[0m\n",
      "\u001b[1;32m~\\AppData\\Local\\Temp\\ipykernel_8536\\1773228283.py\u001b[0m in \u001b[0;36madd\u001b[1;34m(number1, number2)\u001b[0m\n\u001b[0;32m     10\u001b[0m     \u001b[1;33m@\u001b[0m\u001b[0mstaticmethod\u001b[0m\u001b[1;33m\u001b[0m\u001b[1;33m\u001b[0m\u001b[0m\n\u001b[0;32m     11\u001b[0m     \u001b[1;32mdef\u001b[0m \u001b[0madd\u001b[0m\u001b[1;33m(\u001b[0m\u001b[0mnumber1\u001b[0m\u001b[1;33m,\u001b[0m \u001b[0mnumber2\u001b[0m\u001b[1;33m)\u001b[0m\u001b[1;33m:\u001b[0m\u001b[1;33m\u001b[0m\u001b[1;33m\u001b[0m\u001b[0m\n\u001b[1;32m---> 12\u001b[1;33m         \u001b[1;32mreturn\u001b[0m \u001b[0mnumber1\u001b[0m \u001b[1;33m+\u001b[0m \u001b[0mnumber2\u001b[0m \u001b[1;33m+\u001b[0m \u001b[0mclass_variable\u001b[0m\u001b[1;33m\u001b[0m\u001b[1;33m\u001b[0m\u001b[0m\n\u001b[0m\u001b[0;32m     13\u001b[0m \u001b[1;33m\u001b[0m\u001b[0m\n\u001b[0;32m     14\u001b[0m \u001b[1;33m\u001b[0m\u001b[0m\n",
      "\u001b[1;31mNameError\u001b[0m: name 'class_variable' is not defined"
     ]
    }
   ],
   "source": [
    "class TestClass2:\n",
    "    class_variable = 1\n",
    "\n",
    "    # @staticmethod are bound to class rather than object. Therefore, to use them, you do not have\n",
    "    # to instantiate an object.\n",
    "    # NOTE: staticmethods do no have access to class properties (variables or methods).\n",
    "    # This means they cannot access class_variable.\n",
    "    # Such methods are used when you do not want subclasses to change/overwrite a specific method.\n",
    "\n",
    "    @staticmethod\n",
    "    def add(number1, number2):\n",
    "        return number1 + number2 + class_variable\n",
    "\n",
    "\n",
    "print('@staticmethod add: ', TestClass2.add(3,4))\n",
    "print('\\n', '-'*60, '\\n')"
   ]
  },
  {
   "cell_type": "code",
   "execution_count": 50,
   "id": "c50ac8d2",
   "metadata": {},
   "outputs": [
    {
     "name": "stdout",
     "output_type": "stream",
     "text": [
      "@classmethod add:  11\n"
     ]
    }
   ],
   "source": [
    "class TestClass:\n",
    "    class_variable = 1\n",
    "\n",
    "    # @classmethod are bound to class rather than object. Therefore, to use them, you do not have\n",
    "    # to instantiate an object.\n",
    "    # NOTE: Unlike staticmethods, classmethods do have access to class properties (variables or methods).\n",
    "    # This means they can access class_variable.\n",
    "\n",
    "    @classmethod\n",
    "    def add(cls, number1, number2):\n",
    "        return number1 + number2\n",
    "print('@classmethod add: ', TestClass.add(5,6))"
   ]
  },
  {
   "cell_type": "code",
   "execution_count": 51,
   "id": "a50b03ee",
   "metadata": {},
   "outputs": [
    {
     "name": "stdout",
     "output_type": "stream",
     "text": [
      "@classmethod add -- access to class variable:  12\n"
     ]
    }
   ],
   "source": [
    "class TestClass2:\n",
    "    class_variable = 1 # CONSTANTS\n",
    "    \n",
    "\n",
    "    # @classmethod are bound to class rather than object. Therefore, to use them, you do not have\n",
    "    # to instantiate an object.\n",
    "    # NOTE: Unlike staticmethods, classmethods do have access to class properties (variables or methods).\n",
    "    # This means they can access class_variable.\n",
    "\n",
    "    @classmethod\n",
    "    def add(cls, number1, number2):\n",
    "        return number1 + number2 + cls.class_variable\n",
    "\n",
    "print('@classmethod add -- access to class variable: ', TestClass2.add(5,6))\n"
   ]
  },
  {
   "cell_type": "code",
   "execution_count": 53,
   "id": "749ba1f3",
   "metadata": {},
   "outputs": [
    {
     "name": "stdout",
     "output_type": "stream",
     "text": [
      "add_static:  27\n",
      "add_class:  28\n"
     ]
    }
   ],
   "source": [
    "class TestClass:\n",
    "    class_variable = 1\n",
    "    \n",
    "\n",
    "    @staticmethod\n",
    "    def add_static(number1, number2):\n",
    "        return number1 + number2\n",
    "\n",
    "    @classmethod\n",
    "    def add_class(cls, number1, number2):\n",
    "        return number1 + number2 + cls.class_variable\n",
    "\n",
    "\n",
    "    def add_object(self, number1, number2):\n",
    "        return number1 + number2 + self.class_variable + 29\n",
    "\n",
    "\n",
    "print('add_static: ', TestClass.add_static(13,14))\n",
    "print('add_class: ', TestClass.add_class(13,14))\n",
    "\n",
    "\n",
    "t1 = TestClass()"
   ]
  },
  {
   "cell_type": "code",
   "execution_count": 54,
   "id": "0bf948f0",
   "metadata": {},
   "outputs": [
    {
     "name": "stdout",
     "output_type": "stream",
     "text": [
      "Call from class -- add_object:  57\n",
      "Call from object -- add_object:  57\n"
     ]
    }
   ],
   "source": [
    "t1 = TestClass()\n",
    "print('Call from class -- add_object: ', TestClass.add_object(t1, 13, 14))\n",
    "print('Call from object -- add_object: ', t1.add_object(13, 14))"
   ]
  },
  {
   "cell_type": "code",
   "execution_count": 64,
   "id": "ae6a2638",
   "metadata": {},
   "outputs": [],
   "source": [
    "class MyClass:\n",
    "    pass"
   ]
  },
  {
   "cell_type": "code",
   "execution_count": 65,
   "id": "927a9cde",
   "metadata": {},
   "outputs": [
    {
     "name": "stdout",
     "output_type": "stream",
     "text": [
      "12\n"
     ]
    }
   ],
   "source": [
    "my_class = MyClass()\n",
    "my_class.x = 12\n",
    "\n",
    "print(my_class.x)"
   ]
  },
  {
   "cell_type": "code",
   "execution_count": 66,
   "id": "04dbbdda",
   "metadata": {},
   "outputs": [
    {
     "ename": "AttributeError",
     "evalue": "'MyClass' object has no attribute 'x'",
     "output_type": "error",
     "traceback": [
      "\u001b[1;31m---------------------------------------------------------------------------\u001b[0m",
      "\u001b[1;31mAttributeError\u001b[0m                            Traceback (most recent call last)",
      "\u001b[1;32m~\\AppData\\Local\\Temp\\ipykernel_8536\\1318202255.py\u001b[0m in \u001b[0;36m<module>\u001b[1;34m\u001b[0m\n\u001b[0;32m      1\u001b[0m \u001b[0mmy_class2\u001b[0m \u001b[1;33m=\u001b[0m \u001b[0mMyClass\u001b[0m\u001b[1;33m(\u001b[0m\u001b[1;33m)\u001b[0m\u001b[1;33m\u001b[0m\u001b[1;33m\u001b[0m\u001b[0m\n\u001b[1;32m----> 2\u001b[1;33m \u001b[0mprint\u001b[0m\u001b[1;33m(\u001b[0m\u001b[0mmy_class2\u001b[0m\u001b[1;33m.\u001b[0m\u001b[0mx\u001b[0m\u001b[1;33m)\u001b[0m\u001b[1;33m\u001b[0m\u001b[1;33m\u001b[0m\u001b[0m\n\u001b[0m",
      "\u001b[1;31mAttributeError\u001b[0m: 'MyClass' object has no attribute 'x'"
     ]
    }
   ],
   "source": [
    "my_class2 = MyClass()\n",
    "print(my_class2.x)"
   ]
  },
  {
   "cell_type": "code",
   "execution_count": 70,
   "id": "248a95ec",
   "metadata": {},
   "outputs": [],
   "source": [
    "my_class = [1, 2, 3, 4]\n",
    "my_class[3]  = 5\n",
    "\n"
   ]
  },
  {
   "cell_type": "code",
   "execution_count": 80,
   "id": "0a91898f",
   "metadata": {},
   "outputs": [],
   "source": [
    "# __add__ o1 + o2\n",
    "# __eq__ o1 == o1\n",
    "\n",
    "class MyClass:\n",
    "    def __init__(self, **kwargs):\n",
    "        self.data = {}\n",
    "              \n",
    "    def __setitem__(self, key, value): # MyCLass[key] = value\n",
    "        self.data[key] = value\n",
    "        \n",
    "    def __getitem__(self, key): # MyClass[key]\n",
    "        return self.data[key]      "
   ]
  },
  {
   "cell_type": "code",
   "execution_count": 81,
   "id": "30ba5eec",
   "metadata": {},
   "outputs": [],
   "source": [
    "my_class = MyClass()"
   ]
  },
  {
   "cell_type": "code",
   "execution_count": 82,
   "id": "46fcec4a",
   "metadata": {},
   "outputs": [],
   "source": [
    "my_class['Exam1'] = 90"
   ]
  },
  {
   "cell_type": "code",
   "execution_count": 83,
   "id": "bebd1101",
   "metadata": {},
   "outputs": [
    {
     "data": {
      "text/plain": [
       "90"
      ]
     },
     "execution_count": 83,
     "metadata": {},
     "output_type": "execute_result"
    }
   ],
   "source": [
    "my_class[Col]"
   ]
  },
  {
   "cell_type": "code",
   "execution_count": 84,
   "id": "39ed5680",
   "metadata": {},
   "outputs": [
    {
     "data": {
      "text/plain": [
       "{'Exam1': 90}"
      ]
     },
     "execution_count": 84,
     "metadata": {},
     "output_type": "execute_result"
    }
   ],
   "source": [
    "my_class.data"
   ]
  },
  {
   "cell_type": "code",
   "execution_count": 85,
   "id": "02156833",
   "metadata": {},
   "outputs": [
    {
     "data": {
      "text/plain": [
       "90"
      ]
     },
     "execution_count": 85,
     "metadata": {},
     "output_type": "execute_result"
    }
   ],
   "source": [
    "my_class.data['Exam1']"
   ]
  },
  {
   "cell_type": "code",
   "execution_count": 98,
   "id": "2659baa2",
   "metadata": {},
   "outputs": [],
   "source": [
    "filename = 'people.tsv'\n",
    "lines = []\n",
    "with open(filename) as f:\n",
    "    for line in f:\n",
    "        line = line.strip()\n",
    "        if not line:\n",
    "            continue\n",
    "        lines.append(line.strip().split('\\t'))\n",
    "        "
   ]
  },
  {
   "cell_type": "code",
   "execution_count": 124,
   "id": "54254d92",
   "metadata": {},
   "outputs": [],
   "source": [
    "filename = 'testdata.txt'\n",
    "lines = []\n",
    "with open(filename) as f:\n",
    "    for line in f:\n",
    "        line = line.strip()\n",
    "        if not line:\n",
    "            continue\n",
    "        lines.append(line.strip().split(','))"
   ]
  },
  {
   "cell_type": "code",
   "execution_count": 125,
   "id": "15b24e6c",
   "metadata": {},
   "outputs": [],
   "source": [
    "lines = tuple(lines)"
   ]
  },
  {
   "cell_type": "code",
   "execution_count": 126,
   "id": "ea03c97c",
   "metadata": {},
   "outputs": [
    {
     "data": {
      "text/plain": [
       "(['student1', '92', '77', '87', '77', '94'],\n",
       " ['student2', '74', '93', '88', '67', '85'],\n",
       " ['student3', '83', '96', '74', '79', '92'],\n",
       " ['student4', '100', '72', '83', '85', '66'],\n",
       " ['student5', '77', '96', '66', '79', '92'],\n",
       " ['student6', '100', '86', '84', '70', '71'],\n",
       " ['student7', '66', '91', '94', '97', '80'],\n",
       " ['student8', '97', '86', '75', '69', '88'],\n",
       " ['student9', '95', '98', '99', '85', '86'],\n",
       " ['student10', '78', '76', '73', '88', '86'],\n",
       " ['student11', '78', '100', '100', '91', '99'],\n",
       " ['student12', '82', '92', '85', '95', '86'],\n",
       " ['student13', '83', '78', '78', '89', '74'],\n",
       " ['student14', '89', '81', '92', '75', '66'],\n",
       " ['student15', '86', '94', '97', '67', '66'],\n",
       " ['student16', '96', '75', '78', '91', '83'],\n",
       " ['student17', '85', '72', '95', '74', '67'],\n",
       " ['student18', '83', '68', '91', '74', '66'],\n",
       " ['student19', '70', '99', '100', '76', '96'],\n",
       " ['student20', '80', '89', '73', '76', '72'],\n",
       " ['student21', '79', '100', '68', '91', '65'],\n",
       " ['student22', '100', '65', '84', '86', '96'],\n",
       " ['student23', '68', '67', '89', '97', '81'],\n",
       " ['student24', '94', '71', '93', '66', '81'],\n",
       " ['student25', '89', '99', '80', '92', '87'],\n",
       " ['student26', '94', '65', '100', '72', '82'],\n",
       " ['student27', '83', '91', '68', '78', '98'],\n",
       " ['student28', '97', '96', '85', '94', '93'],\n",
       " ['student29', '65', '78', '96', '77', '72'],\n",
       " ['student30', '96', '85', '98', '86', '95'],\n",
       " ['student31', '85', '69', '97', '86', '65'],\n",
       " ['student32', '82', '82', '75', '81', '91'],\n",
       " ['student33', '88', '76', '99', '66', '86'],\n",
       " ['student34', '66', '85', '65', '77', '95'],\n",
       " ['student35', '75', '98', '96', '87', '65'],\n",
       " ['student36', '85', '89', '87', '99', '77'],\n",
       " ['student37', '93', '85', '74', '84', '85'],\n",
       " ['student38', '86', '90', '96', '80', '88'],\n",
       " ['student39', '96', '82', '67', '83', '85'],\n",
       " ['student40', '85', '98', '91', '98', '84'],\n",
       " ['student41', '98', '95', '85', '66', '99'],\n",
       " ['student42', '84', '82', '71', '73', '74'],\n",
       " ['student43', '95', '91', '86', '67', '100'],\n",
       " ['student44', '80', '83', '72', '77', '67'],\n",
       " ['student45', '67', '89', '97', '65', '71'],\n",
       " ['student46', '65', '72', '89', '95', '67'],\n",
       " ['student47', '99', '89', '68', '72', '74'],\n",
       " ['student48', '77', '91', '69', '96', '84'],\n",
       " ['student49', '68', '97', '65', '100', '86'],\n",
       " ['student50', '82', '66', '66', '83', '95'],\n",
       " ['student51', '86', '66', '89', '89', '71'],\n",
       " ['student52', '91', '98', '95', '98', '76'],\n",
       " ['student53', '94', '77', '81', '87', '68'],\n",
       " ['student54', '69', '80', '95', '92', '76'],\n",
       " ['student55', '100', '91', '65', '67', '85'],\n",
       " ['student56', '77', '68', '65', '71', '72'],\n",
       " ['student57', '65', '100', '79', '71', '96'],\n",
       " ['student58', '75', '75', '99', '99', '95'],\n",
       " ['student59', '91', '84', '85', '84', '83'],\n",
       " ['student60', '71', '79', '74', '97', '68'],\n",
       " ['student61', '69', '71', '91', '69', '100'],\n",
       " ['student62', '79', '91', '96', '69', '97'],\n",
       " ['student63', '91', '87', '76', '98', '85'],\n",
       " ['student64', '93', '97', '72', '88', '73'],\n",
       " ['student65', '100', '75', '97', '84', '81'],\n",
       " ['student66', '68', '66', '65', '94', '86'],\n",
       " ['student67', '82', '74', '94', '67', '94'],\n",
       " ['student68', '66', '96', '79', '68', '91'],\n",
       " ['student69', '88', '85', '72', '80', '78'],\n",
       " ['student70', '78', '76', '72', '68', '74'],\n",
       " ['student71', '97', '73', '79', '69', '77'],\n",
       " ['student72', '88', '94', '73', '71', '65'],\n",
       " ['student73', '92', '99', '98', '80', '83'],\n",
       " ['student74', '86', '98', '66', '99', '72'],\n",
       " ['student75', '68', '87', '67', '77', '83'],\n",
       " ['student76', '88', '92', '71', '83', '70'],\n",
       " ['student77', '66', '72', '78', '69', '71'],\n",
       " ['student78', '70', '95', '90', '82', '95'],\n",
       " ['student79', '69', '94', '99', '83', '67'],\n",
       " ['student80', '86', '86', '79', '93', '66'],\n",
       " ['student81', '96', '87', '70', '95', '97'],\n",
       " ['student82', '76', '95', '68', '100', '85'],\n",
       " ['student83', '66', '72', '74', '99', '86'],\n",
       " ['student84', '83', '85', '66', '77', '85'],\n",
       " ['student85', '98', '79', '91', '78', '74'],\n",
       " ['student86', '69', '94', '71', '95', '71'],\n",
       " ['student87', '78', '88', '68', '95', '84'],\n",
       " ['student88', '66', '67', '96', '86', '69'],\n",
       " ['student89', '89', '78', '66', '73', '82'],\n",
       " ['student90', '92', '66', '95', '93', '76'],\n",
       " ['student91', '87', '69', '96', '70', '92'],\n",
       " ['student92', '86', '88', '67', '95', '66'],\n",
       " ['student93', '77', '77', '76', '84', '89'],\n",
       " ['student94', '93', '99', '95', '65', '70'],\n",
       " ['student95', '86', '83', '73', '94', '95'],\n",
       " ['student96', '78', '84', '79', '66', '92'],\n",
       " ['student97', '74', '95', '100', '85', '75'],\n",
       " ['student98', '71', '87', '89', '90', '94'],\n",
       " ['student99', '71', '69', '90', '81', '94'],\n",
       " ['student100', '81', '80', '86', '81', '71'])"
      ]
     },
     "execution_count": 126,
     "metadata": {},
     "output_type": "execute_result"
    }
   ],
   "source": [
    "lines"
   ]
  },
  {
   "cell_type": "code",
   "execution_count": 128,
   "id": "8e5c1895",
   "metadata": {},
   "outputs": [],
   "source": [
    "from collections import defaultdict\n",
    "class MyClass:\n",
    "    def __init__(self, **kwargs):\n",
    "        self.data = defaultdict(list)\n",
    "        header = kwargs.get('header')\n",
    "        lines = kwargs.get('lines')\n",
    "        if header:\n",
    "            header = lines.pop(0)\n",
    "        else:\n",
    "            header = list(range(len(lines[0])))\n",
    "        \n",
    "        for line in lines:\n",
    "            row = dict(zip(header, line))\n",
    "            for key,value in row.items():\n",
    "                self.data[key].append(value)\n",
    "              \n",
    "    def __setitem__(self, key, value): # MyCLass[key] = value\n",
    "        self.data[key] = value\n",
    "        \n",
    "    def __getitem__(self, key): # MyClass[key]\n",
    "        if isinstance(key, str):\n",
    "            return self.data[key]   \n",
    "        elif isinstance(key, list):\n",
    "            output = []\n",
    "            for k in key:\n",
    "                output.append(self.data[k])\n",
    "            output = list(zip(*output))\n",
    "                \n",
    "            return output\n",
    "            \n",
    "            \n",
    "    \n"
   ]
  },
  {
   "cell_type": "code",
   "execution_count": 117,
   "id": "dd06d239",
   "metadata": {},
   "outputs": [
    {
     "data": {
      "text/plain": [
       "[('Michael', 'Weaver', 'xdunn@hotmail.com'),\n",
       " ('Jackson', 'Owens', 'iedwards@yahoo.com'),\n",
       " ('Patrick', 'Gilmore', 'arogers@smith.com'),\n",
       " ('Jeffrey', 'Perez', 'plewis@chavez.com'),\n",
       " ('James', 'Thomas', 'fred92@yahoo.com'),\n",
       " ('Greg', 'Nelson', 'mmiller@lynch.com'),\n",
       " ('Joshua', 'White', 'steven49@gmail.com'),\n",
       " ('Todd', 'Francis', 'amanda23@hotmail.com'),\n",
       " ('Stephen', 'Shaw', 'jackduke@hotmail.com'),\n",
       " ('Mariah', 'Armstrong', 'rhodesnicholas@hotmail.com'),\n",
       " ('Anthony', 'Boyle', 'smithashlee@yahoo.com'),\n",
       " ('Patrick', 'Cuevas', 'ubriggs@hill.info'),\n",
       " ('Gerald', 'Reyes', 'brownclarence@gonzalez-moore.com'),\n",
       " ('Christopher', 'Calderon', 'teresa30@carpenter-warner.com'),\n",
       " ('Shane', 'Weiss', 'leekatherine@williams.com'),\n",
       " ('Crystal', 'Conley', 'chasewatkins@perez-phillips.com'),\n",
       " ('Jeffrey', 'Nelson', 'hsherman@gmail.com'),\n",
       " ('Brianna', 'Johnson', 'martinezdaniel@hotmail.com'),\n",
       " ('Brandon', 'Werner', 'justinfischer@gmail.com'),\n",
       " ('Brianna', 'Bennett', 'cindy08@gmail.com'),\n",
       " ('Austin', 'Fletcher', 'carolharrington@fleming.org'),\n",
       " ('Patrick', 'Lewis', 'lopezcarl@johnson.com'),\n",
       " ('Joseph', 'Smith', 'michael74@yahoo.com'),\n",
       " ('Sharon', 'Sullivan', 'gonzalezrobert@hotmail.com'),\n",
       " ('Krystal', 'Wilson', 'dawnjohnson@gmail.com'),\n",
       " ('Diana', 'Schmidt', 'watersryan@gmail.com'),\n",
       " ('Sean', 'Huff', 'byoung@gmail.com'),\n",
       " ('Robin', 'Nguyen', 'vhanson@yahoo.com'),\n",
       " ('Robyn', 'Russell', 'bfletcher@yahoo.com'),\n",
       " ('Tiffany', 'Smith', 'colleengarrison@hotmail.com'),\n",
       " ('Lori', 'Smith', 'catherine23@gmail.com'),\n",
       " ('Sabrina', 'Keith', 'xmurphy@yahoo.com'),\n",
       " ('Miguel', 'Johnson', 'aaronrichard@middleton.net'),\n",
       " ('Dustin', 'Barron', 'jesse93@best.com'),\n",
       " ('Michael', 'Robinson', 'johnperez@johnson.com'),\n",
       " ('Robert', 'Nguyen', 'jessica62@yahoo.com'),\n",
       " ('Brandon', 'Abbott', 'jennifer87@gmail.com'),\n",
       " ('Bruce', 'Oneill', 'morenolindsay@bass.org'),\n",
       " ('Linda', 'Nash', 'robertdavis@hotmail.com'),\n",
       " ('Kathleen', 'Cameron', 'melanie81@rogers.com'),\n",
       " ('Wesley', 'Wilkinson', 'clineerin@hotmail.com'),\n",
       " ('Debbie', 'Wallace', 'terri95@hotmail.com'),\n",
       " ('Kayla', 'Woodward', 'danielle65@yahoo.com'),\n",
       " ('Stephanie', 'Bennett', 'sjackson@yahoo.com'),\n",
       " ('Caleb', 'Jenkins', 'douglas63@yahoo.com'),\n",
       " ('Valerie', 'Edwards', 'woodardlindsey@yahoo.com'),\n",
       " ('Mary', 'Anderson', 'suebrown@yahoo.com'),\n",
       " ('Angela', 'Ray', 'swhite@yahoo.com'),\n",
       " ('Haley', 'Edwards', 'martinkimberly@lopez.com'),\n",
       " ('Charles', 'Clark', 'jessica11@hotmail.com'),\n",
       " ('Lisa', 'Hill', 'hsmith@baker.com'),\n",
       " ('Jonathan', 'Carpenter', 'fklein@yahoo.com'),\n",
       " ('Latoya', 'Griffith', 'ryan32@skinner.com'),\n",
       " ('Kim', 'Blair', 'tmurphy@flores.biz'),\n",
       " ('Mary', 'Salazar', 'mary64@ray.org'),\n",
       " ('Kenneth', 'Krueger', 'jennajoseph@yahoo.com'),\n",
       " ('Phillip', 'Burke', 'watsonsamuel@gmail.com'),\n",
       " ('Erica', 'Juarez', 'xvelasquez@hughes.com'),\n",
       " ('Jason', 'Watkins', 'april99@gmail.com'),\n",
       " ('Lee', 'Carter', 'kfletcher@yahoo.com'),\n",
       " ('Randy', 'Huang', 'xchurch@hotmail.com'),\n",
       " ('Kristina', 'Owen', 'megan24@stewart.net'),\n",
       " ('Beth', 'Turner', 'sydneycollins@hunter.com'),\n",
       " ('Michael', 'Aguirre', 'robertbowen@chavez-ortega.com'),\n",
       " ('Elizabeth', 'Wilson', 'christiandanielle@yahoo.com'),\n",
       " ('Teresa', 'Hardy', 'kdavidson@gordon.com'),\n",
       " ('David', 'Stewart', 'bennettwanda@vega-guerra.net'),\n",
       " ('Heather', 'Moore', 'mark00@hotmail.com'),\n",
       " ('Melissa', 'Grant', 'schaefernatalie@hotmail.com'),\n",
       " ('Jennifer', 'Thompson', 'moralesmartin@rodgers.com'),\n",
       " ('Raymond', 'Anderson', 'dprince@hotmail.com'),\n",
       " ('Angela', 'Ramsey', 'cparks@valdez-hudson.com'),\n",
       " ('Betty', 'Gonzales', 'martinezrichard@yahoo.com'),\n",
       " ('Thomas', 'Castaneda', 'kpena@yahoo.com'),\n",
       " ('Jonathan', 'Todd', 'julie68@gmail.com'),\n",
       " ('Stacey', 'Garcia', 'lukebradford@hotmail.com'),\n",
       " ('Judy', 'Figueroa', 'ystewart@yahoo.com'),\n",
       " ('Ashley', 'Castillo', 'cory33@king-shaw.net'),\n",
       " ('Zachary', 'Flores', 'zcalhoun@gmail.com'),\n",
       " ('Erica', 'Allen', 'michaelhall@hotmail.com'),\n",
       " ('Savannah', 'Potts', 'kristentaylor@yahoo.com'),\n",
       " ('Zachary', 'Wheeler', 'stephen63@yahoo.com'),\n",
       " ('Timothy', 'Thomas', 'bryanmartin@gmail.com'),\n",
       " ('Ann', 'Mcknight', 'kristinavelasquez@gmail.com'),\n",
       " ('Ruth', 'Thompson', 'denise01@burns.org'),\n",
       " ('Daniel', 'Levy', 'beancody@jones.com'),\n",
       " ('Paul', 'Hubbard', 'ubradley@yahoo.com'),\n",
       " ('Jason', 'Jones', 'anthony75@yahoo.com'),\n",
       " ('Margaret', 'Garcia', 'antonio52@gmail.com'),\n",
       " ('Jeremy', 'Peters', 'johnlewis@hotmail.com'),\n",
       " ('Mark', 'Stone', 'nmoore@hotmail.com'),\n",
       " ('Darius', 'Edwards', 'nchurch@yahoo.com'),\n",
       " ('Tracy', 'Lawson', 'piercejenna@gmail.com'),\n",
       " ('Christina', 'Cooper', 'ddavidson@hotmail.com'),\n",
       " ('Megan', 'Harris', 'ndelacruz@yahoo.com'),\n",
       " ('Timothy', 'Jones', 'jenniferadkins@griffin.biz'),\n",
       " ('Tracie', 'Burch', 'evansmiguel@yahoo.com'),\n",
       " ('Jason', 'Chung', 'kenneththompson@baxter.com'),\n",
       " ('Samantha', 'Melton', 'bcurtis@hotmail.com'),\n",
       " ('Michael', 'Hansen', 'phillipssean@hotmail.com')]"
      ]
     },
     "execution_count": 117,
     "metadata": {},
     "output_type": "execute_result"
    }
   ],
   "source": [
    "mc[['first_name', 'last_name', 'email']]"
   ]
  },
  {
   "cell_type": "code",
   "execution_count": 111,
   "id": "17ea7549",
   "metadata": {},
   "outputs": [
    {
     "name": "stdout",
     "output_type": "stream",
     "text": [
      "1 4 7\n",
      "2 5 8\n",
      "3 6 9\n"
     ]
    }
   ],
   "source": [
    "x = [[1,2,3], [4, 5, 6], [7, 8,9]]\n",
    "for c1, c2, c3 in zip(*x):\n",
    "    print(c1, c2, c3)"
   ]
  },
  {
   "cell_type": "code",
   "execution_count": 129,
   "id": "73c403cf",
   "metadata": {},
   "outputs": [],
   "source": [
    "mc = MyClass(lines=list(lines))"
   ]
  },
  {
   "cell_type": "code",
   "execution_count": 130,
   "id": "d02dfa16",
   "metadata": {},
   "outputs": [
    {
     "data": {
      "text/plain": [
       "[('92', '77'),\n",
       " ('74', '93'),\n",
       " ('83', '96'),\n",
       " ('100', '72'),\n",
       " ('77', '96'),\n",
       " ('100', '86'),\n",
       " ('66', '91'),\n",
       " ('97', '86'),\n",
       " ('95', '98'),\n",
       " ('78', '76'),\n",
       " ('78', '100'),\n",
       " ('82', '92'),\n",
       " ('83', '78'),\n",
       " ('89', '81'),\n",
       " ('86', '94'),\n",
       " ('96', '75'),\n",
       " ('85', '72'),\n",
       " ('83', '68'),\n",
       " ('70', '99'),\n",
       " ('80', '89'),\n",
       " ('79', '100'),\n",
       " ('100', '65'),\n",
       " ('68', '67'),\n",
       " ('94', '71'),\n",
       " ('89', '99'),\n",
       " ('94', '65'),\n",
       " ('83', '91'),\n",
       " ('97', '96'),\n",
       " ('65', '78'),\n",
       " ('96', '85'),\n",
       " ('85', '69'),\n",
       " ('82', '82'),\n",
       " ('88', '76'),\n",
       " ('66', '85'),\n",
       " ('75', '98'),\n",
       " ('85', '89'),\n",
       " ('93', '85'),\n",
       " ('86', '90'),\n",
       " ('96', '82'),\n",
       " ('85', '98'),\n",
       " ('98', '95'),\n",
       " ('84', '82'),\n",
       " ('95', '91'),\n",
       " ('80', '83'),\n",
       " ('67', '89'),\n",
       " ('65', '72'),\n",
       " ('99', '89'),\n",
       " ('77', '91'),\n",
       " ('68', '97'),\n",
       " ('82', '66'),\n",
       " ('86', '66'),\n",
       " ('91', '98'),\n",
       " ('94', '77'),\n",
       " ('69', '80'),\n",
       " ('100', '91'),\n",
       " ('77', '68'),\n",
       " ('65', '100'),\n",
       " ('75', '75'),\n",
       " ('91', '84'),\n",
       " ('71', '79'),\n",
       " ('69', '71'),\n",
       " ('79', '91'),\n",
       " ('91', '87'),\n",
       " ('93', '97'),\n",
       " ('100', '75'),\n",
       " ('68', '66'),\n",
       " ('82', '74'),\n",
       " ('66', '96'),\n",
       " ('88', '85'),\n",
       " ('78', '76'),\n",
       " ('97', '73'),\n",
       " ('88', '94'),\n",
       " ('92', '99'),\n",
       " ('86', '98'),\n",
       " ('68', '87'),\n",
       " ('88', '92'),\n",
       " ('66', '72'),\n",
       " ('70', '95'),\n",
       " ('69', '94'),\n",
       " ('86', '86'),\n",
       " ('96', '87'),\n",
       " ('76', '95'),\n",
       " ('66', '72'),\n",
       " ('83', '85'),\n",
       " ('98', '79'),\n",
       " ('69', '94'),\n",
       " ('78', '88'),\n",
       " ('66', '67'),\n",
       " ('89', '78'),\n",
       " ('92', '66'),\n",
       " ('87', '69'),\n",
       " ('86', '88'),\n",
       " ('77', '77'),\n",
       " ('93', '99'),\n",
       " ('86', '83'),\n",
       " ('78', '84'),\n",
       " ('74', '95'),\n",
       " ('71', '87'),\n",
       " ('71', '69'),\n",
       " ('81', '80')]"
      ]
     },
     "execution_count": 130,
     "metadata": {},
     "output_type": "execute_result"
    }
   ],
   "source": [
    "mc[[1, 2]]"
   ]
  },
  {
   "cell_type": "code",
   "execution_count": 169,
   "id": "ac622a6b",
   "metadata": {},
   "outputs": [
    {
     "name": "stdout",
     "output_type": "stream",
     "text": [
      "<class 'list'> [5, 7, 9]\n"
     ]
    },
    {
     "ename": "TypeError",
     "evalue": "can only concatenate list (not \"ListV2\") to list",
     "output_type": "error",
     "traceback": [
      "\u001b[1;31m---------------------------------------------------------------------------\u001b[0m",
      "\u001b[1;31mTypeError\u001b[0m                                 Traceback (most recent call last)",
      "\u001b[1;32m~\\AppData\\Local\\Temp\\ipykernel_8536\\550331511.py\u001b[0m in \u001b[0;36m<module>\u001b[1;34m\u001b[0m\n\u001b[0;32m     16\u001b[0m \u001b[0ml3\u001b[0m \u001b[1;33m=\u001b[0m \u001b[1;33m(\u001b[0m\u001b[0ml1\u001b[0m \u001b[1;33m+\u001b[0m \u001b[0ml2\u001b[0m\u001b[1;33m)\u001b[0m\u001b[1;33m\u001b[0m\u001b[1;33m\u001b[0m\u001b[0m\n\u001b[0;32m     17\u001b[0m \u001b[0mprint\u001b[0m\u001b[1;33m(\u001b[0m\u001b[0mtype\u001b[0m\u001b[1;33m(\u001b[0m\u001b[0ml3\u001b[0m\u001b[1;33m)\u001b[0m\u001b[1;33m,\u001b[0m \u001b[0ml3\u001b[0m\u001b[1;33m)\u001b[0m\u001b[1;33m\u001b[0m\u001b[1;33m\u001b[0m\u001b[0m\n\u001b[1;32m---> 18\u001b[1;33m \u001b[0ml3\u001b[0m \u001b[1;33m+\u001b[0m \u001b[0ml1\u001b[0m\u001b[1;33m\u001b[0m\u001b[1;33m\u001b[0m\u001b[0m\n\u001b[0m",
      "\u001b[1;31mTypeError\u001b[0m: can only concatenate list (not \"ListV2\") to list"
     ]
    }
   ],
   "source": [
    "class ListV2:\n",
    "    def __init__(self, values):\n",
    "        self.values = values\n",
    "        \n",
    "    def __add__(self, right):\n",
    "        output = [l + r for l, r in zip(self.values, right.values)]\n",
    "#         return ListV2(output)\n",
    "        return output\n",
    "    \n",
    "    def __repr__(self):\n",
    "        return str(self.values)\n",
    "        \n",
    "l1 = ListV2([1, 2, 3])\n",
    "l2 = ListV2([4, 5, 6])\n",
    "# (l1 + l2) + l1 # list + ListV2\n",
    "l3 = (l1 + l2) \n",
    "print(type(l3), l3)\n",
    "l3 + l1"
   ]
  },
  {
   "cell_type": "code",
   "execution_count": 159,
   "id": "c58dcc02",
   "metadata": {},
   "outputs": [],
   "source": [
    "from collections import defaultdict\n",
    "\n",
    "\n",
    "class MyClass:\n",
    "    def __init__(self, **kwargs):\n",
    "        self.data = defaultdict(list)\n",
    "        header = kwargs.get('header')\n",
    "        lines = kwargs.get('lines')\n",
    "        if header:\n",
    "            header = lines.pop(0)\n",
    "        else:\n",
    "            header = list(range(len(lines[0])))\n",
    "        \n",
    "        for line in lines:\n",
    "            row = dict(zip(header, line))\n",
    "            for key,value in row.items():\n",
    "                self.data[key].append(value)\n",
    "              \n",
    "    def __setitem__(self, key, value): # MyCLass[key] = value\n",
    "        self.data[key] = value\n",
    "        \n",
    "    def __getitem__(self, key): # MyClass[key]\n",
    "        if type(key) in [str, int]:\n",
    "            return ListV2(self.data[key])  \n",
    "        elif isinstance(key, list):\n",
    "            output = []\n",
    "            for k in key:\n",
    "                output.append(self.data[k])\n",
    "            output = list(zip(*output))\n",
    "                \n",
    "            return output\n",
    "        \n",
    "    def as_type(self, column, cast_type):\n",
    "        self.data[column] = list(map(cast_type, self.data[column]))\n",
    "        "
   ]
  },
  {
   "cell_type": "code",
   "execution_count": 160,
   "id": "5e7e8734",
   "metadata": {},
   "outputs": [],
   "source": [
    "mc = MyClass(lines=list(lines))"
   ]
  },
  {
   "cell_type": "code",
   "execution_count": 161,
   "id": "817fb4ce",
   "metadata": {},
   "outputs": [
    {
     "data": {
      "text/plain": [
       "[('92', '77'),\n",
       " ('74', '93'),\n",
       " ('83', '96'),\n",
       " ('100', '72'),\n",
       " ('77', '96'),\n",
       " ('100', '86'),\n",
       " ('66', '91'),\n",
       " ('97', '86'),\n",
       " ('95', '98'),\n",
       " ('78', '76'),\n",
       " ('78', '100'),\n",
       " ('82', '92'),\n",
       " ('83', '78'),\n",
       " ('89', '81'),\n",
       " ('86', '94'),\n",
       " ('96', '75'),\n",
       " ('85', '72'),\n",
       " ('83', '68'),\n",
       " ('70', '99'),\n",
       " ('80', '89'),\n",
       " ('79', '100'),\n",
       " ('100', '65'),\n",
       " ('68', '67'),\n",
       " ('94', '71'),\n",
       " ('89', '99'),\n",
       " ('94', '65'),\n",
       " ('83', '91'),\n",
       " ('97', '96'),\n",
       " ('65', '78'),\n",
       " ('96', '85'),\n",
       " ('85', '69'),\n",
       " ('82', '82'),\n",
       " ('88', '76'),\n",
       " ('66', '85'),\n",
       " ('75', '98'),\n",
       " ('85', '89'),\n",
       " ('93', '85'),\n",
       " ('86', '90'),\n",
       " ('96', '82'),\n",
       " ('85', '98'),\n",
       " ('98', '95'),\n",
       " ('84', '82'),\n",
       " ('95', '91'),\n",
       " ('80', '83'),\n",
       " ('67', '89'),\n",
       " ('65', '72'),\n",
       " ('99', '89'),\n",
       " ('77', '91'),\n",
       " ('68', '97'),\n",
       " ('82', '66'),\n",
       " ('86', '66'),\n",
       " ('91', '98'),\n",
       " ('94', '77'),\n",
       " ('69', '80'),\n",
       " ('100', '91'),\n",
       " ('77', '68'),\n",
       " ('65', '100'),\n",
       " ('75', '75'),\n",
       " ('91', '84'),\n",
       " ('71', '79'),\n",
       " ('69', '71'),\n",
       " ('79', '91'),\n",
       " ('91', '87'),\n",
       " ('93', '97'),\n",
       " ('100', '75'),\n",
       " ('68', '66'),\n",
       " ('82', '74'),\n",
       " ('66', '96'),\n",
       " ('88', '85'),\n",
       " ('78', '76'),\n",
       " ('97', '73'),\n",
       " ('88', '94'),\n",
       " ('92', '99'),\n",
       " ('86', '98'),\n",
       " ('68', '87'),\n",
       " ('88', '92'),\n",
       " ('66', '72'),\n",
       " ('70', '95'),\n",
       " ('69', '94'),\n",
       " ('86', '86'),\n",
       " ('96', '87'),\n",
       " ('76', '95'),\n",
       " ('66', '72'),\n",
       " ('83', '85'),\n",
       " ('98', '79'),\n",
       " ('69', '94'),\n",
       " ('78', '88'),\n",
       " ('66', '67'),\n",
       " ('89', '78'),\n",
       " ('92', '66'),\n",
       " ('87', '69'),\n",
       " ('86', '88'),\n",
       " ('77', '77'),\n",
       " ('93', '99'),\n",
       " ('86', '83'),\n",
       " ('78', '84'),\n",
       " ('74', '95'),\n",
       " ('71', '87'),\n",
       " ('71', '69'),\n",
       " ('81', '80')]"
      ]
     },
     "execution_count": 161,
     "metadata": {},
     "output_type": "execute_result"
    }
   ],
   "source": [
    "mc[[1, 2]]"
   ]
  },
  {
   "cell_type": "code",
   "execution_count": 162,
   "id": "aa47c542",
   "metadata": {},
   "outputs": [],
   "source": [
    "mc.as_type(1, int)"
   ]
  },
  {
   "cell_type": "code",
   "execution_count": 163,
   "id": "c08376cd",
   "metadata": {},
   "outputs": [
    {
     "data": {
      "text/plain": [
       "[(92, '77'),\n",
       " (74, '93'),\n",
       " (83, '96'),\n",
       " (100, '72'),\n",
       " (77, '96'),\n",
       " (100, '86'),\n",
       " (66, '91'),\n",
       " (97, '86'),\n",
       " (95, '98'),\n",
       " (78, '76'),\n",
       " (78, '100'),\n",
       " (82, '92'),\n",
       " (83, '78'),\n",
       " (89, '81'),\n",
       " (86, '94'),\n",
       " (96, '75'),\n",
       " (85, '72'),\n",
       " (83, '68'),\n",
       " (70, '99'),\n",
       " (80, '89'),\n",
       " (79, '100'),\n",
       " (100, '65'),\n",
       " (68, '67'),\n",
       " (94, '71'),\n",
       " (89, '99'),\n",
       " (94, '65'),\n",
       " (83, '91'),\n",
       " (97, '96'),\n",
       " (65, '78'),\n",
       " (96, '85'),\n",
       " (85, '69'),\n",
       " (82, '82'),\n",
       " (88, '76'),\n",
       " (66, '85'),\n",
       " (75, '98'),\n",
       " (85, '89'),\n",
       " (93, '85'),\n",
       " (86, '90'),\n",
       " (96, '82'),\n",
       " (85, '98'),\n",
       " (98, '95'),\n",
       " (84, '82'),\n",
       " (95, '91'),\n",
       " (80, '83'),\n",
       " (67, '89'),\n",
       " (65, '72'),\n",
       " (99, '89'),\n",
       " (77, '91'),\n",
       " (68, '97'),\n",
       " (82, '66'),\n",
       " (86, '66'),\n",
       " (91, '98'),\n",
       " (94, '77'),\n",
       " (69, '80'),\n",
       " (100, '91'),\n",
       " (77, '68'),\n",
       " (65, '100'),\n",
       " (75, '75'),\n",
       " (91, '84'),\n",
       " (71, '79'),\n",
       " (69, '71'),\n",
       " (79, '91'),\n",
       " (91, '87'),\n",
       " (93, '97'),\n",
       " (100, '75'),\n",
       " (68, '66'),\n",
       " (82, '74'),\n",
       " (66, '96'),\n",
       " (88, '85'),\n",
       " (78, '76'),\n",
       " (97, '73'),\n",
       " (88, '94'),\n",
       " (92, '99'),\n",
       " (86, '98'),\n",
       " (68, '87'),\n",
       " (88, '92'),\n",
       " (66, '72'),\n",
       " (70, '95'),\n",
       " (69, '94'),\n",
       " (86, '86'),\n",
       " (96, '87'),\n",
       " (76, '95'),\n",
       " (66, '72'),\n",
       " (83, '85'),\n",
       " (98, '79'),\n",
       " (69, '94'),\n",
       " (78, '88'),\n",
       " (66, '67'),\n",
       " (89, '78'),\n",
       " (92, '66'),\n",
       " (87, '69'),\n",
       " (86, '88'),\n",
       " (77, '77'),\n",
       " (93, '99'),\n",
       " (86, '83'),\n",
       " (78, '84'),\n",
       " (74, '95'),\n",
       " (71, '87'),\n",
       " (71, '69'),\n",
       " (81, '80')]"
      ]
     },
     "execution_count": 163,
     "metadata": {},
     "output_type": "execute_result"
    }
   ],
   "source": [
    "mc[[1, 2]]"
   ]
  },
  {
   "cell_type": "code",
   "execution_count": 164,
   "id": "8a3b11e8",
   "metadata": {},
   "outputs": [],
   "source": [
    "mc.as_type(2, int)"
   ]
  },
  {
   "cell_type": "code",
   "execution_count": 165,
   "id": "3ac3d3ee",
   "metadata": {},
   "outputs": [
    {
     "data": {
      "text/plain": [
       "[92, 74, 83, 100, 77, 100, 66, 97, 95, 78, 78, 82, 83, 89, 86, 96, 85, 83, 70, 80, 79, 100, 68, 94, 89, 94, 83, 97, 65, 96, 85, 82, 88, 66, 75, 85, 93, 86, 96, 85, 98, 84, 95, 80, 67, 65, 99, 77, 68, 82, 86, 91, 94, 69, 100, 77, 65, 75, 91, 71, 69, 79, 91, 93, 100, 68, 82, 66, 88, 78, 97, 88, 92, 86, 68, 88, 66, 70, 69, 86, 96, 76, 66, 83, 98, 69, 78, 66, 89, 92, 87, 86, 77, 93, 86, 78, 74, 71, 71, 81]"
      ]
     },
     "execution_count": 165,
     "metadata": {},
     "output_type": "execute_result"
    }
   ],
   "source": [
    "mc[1]  "
   ]
  },
  {
   "cell_type": "code",
   "execution_count": 166,
   "id": "f4a1acc2",
   "metadata": {},
   "outputs": [
    {
     "data": {
      "text/plain": [
       "[169, 167, 179, 172, 173, 186, 157, 183, 193, 154, 178, 174, 161, 170, 180, 171, 157, 151, 169, 169, 179, 165, 135, 165, 188, 159, 174, 193, 143, 181, 154, 164, 164, 151, 173, 174, 178, 176, 178, 183, 193, 166, 186, 163, 156, 137, 188, 168, 165, 148, 152, 189, 171, 149, 191, 145, 165, 150, 175, 150, 140, 170, 178, 190, 175, 134, 156, 162, 173, 154, 170, 182, 191, 184, 155, 180, 138, 165, 163, 172, 183, 171, 138, 168, 177, 163, 166, 133, 167, 158, 156, 174, 154, 192, 169, 162, 169, 158, 140, 161]"
      ]
     },
     "execution_count": 166,
     "metadata": {},
     "output_type": "execute_result"
    }
   ],
   "source": [
    "mc[1] + mc[2]"
   ]
  },
  {
   "cell_type": "code",
   "execution_count": 193,
   "id": "f22ee126",
   "metadata": {},
   "outputs": [],
   "source": [
    "from collections import defaultdict\n",
    "\n",
    "\n",
    "class MyClass:\n",
    "    def __init__(self, **kwargs):\n",
    "        self.data = defaultdict(list)\n",
    "        header = kwargs.get('header')\n",
    "        lines = kwargs.get('lines')\n",
    "        if header:\n",
    "            header = lines.pop(0)\n",
    "        else:\n",
    "            header = list(range(len(lines[0])))\n",
    "        \n",
    "        for line in lines:\n",
    "            row = dict(zip(header, line))\n",
    "            for key,value in row.items():\n",
    "                self.data[key].append(value)\n",
    "              \n",
    "    def __setitem__(self, key, value): # MyCLass[key] = value\n",
    "        self.data[key] = value\n",
    "        \n",
    "    def __getitem__(self, key): # MyClass[key]\n",
    "        if type(key) in [str, int]:\n",
    "            return ListV2(self.data[key])  \n",
    "        elif isinstance(key, list):\n",
    "            output = []\n",
    "            for k in key:\n",
    "                output.append(self.data[k])\n",
    "            output = list(zip(*output))\n",
    "                \n",
    "            return output\n",
    "        \n",
    "    def as_type(self, column, cast_type):\n",
    "        self.data[column] = list(map(cast_type, self.data[column]))\n",
    "        \n",
    "    def mean(self, columns):\n",
    "        if type(columns) in [str, int]:\n",
    "            data = self.data[columns]\n",
    "            return sum(data)/len(data)\n",
    "        elif isinstance(columns, list):\n",
    "            data = []\n",
    "            for column in columns:\n",
    "                data.append(sum(self.data[column])/len(self.data[column]))\n",
    "            \n",
    "            data =  [columns, data]\n",
    "            return MyClass(lines=data, header=True)\n",
    "            \n"
   ]
  },
  {
   "cell_type": "code",
   "execution_count": 197,
   "id": "7f1719b7",
   "metadata": {},
   "outputs": [],
   "source": [
    "mc = MyClass(lines=list(lines))\n",
    "mc.as_type(1, int)\n",
    "mc.as_type(2, int)"
   ]
  },
  {
   "cell_type": "code",
   "execution_count": 202,
   "id": "2385741c",
   "metadata": {},
   "outputs": [],
   "source": [
    "a = mc.mean([1, 2])"
   ]
  },
  {
   "cell_type": "code",
   "execution_count": 201,
   "id": "ca8e77b5",
   "metadata": {},
   "outputs": [
    {
     "data": {
      "text/plain": [
       "defaultdict(list, {1: [82.75], 2: [84.13]})"
      ]
     },
     "execution_count": 201,
     "metadata": {},
     "output_type": "execute_result"
    }
   ],
   "source": [
    "a.data"
   ]
  },
  {
   "cell_type": "code",
   "execution_count": 205,
   "id": "eeea090e",
   "metadata": {},
   "outputs": [
    {
     "ename": "SyntaxError",
     "evalue": "invalid syntax (1897783252.py, line 5)",
     "output_type": "error",
     "traceback": [
      "\u001b[1;36m  File \u001b[1;32m\"C:\\Users\\mkhaw\\AppData\\Local\\Temp\\ipykernel_8536\\1897783252.py\"\u001b[1;36m, line \u001b[1;32m5\u001b[0m\n\u001b[1;33m    func((1:10:5))\u001b[0m\n\u001b[1;37m           ^\u001b[0m\n\u001b[1;31mSyntaxError\u001b[0m\u001b[1;31m:\u001b[0m invalid syntax\n"
     ]
    }
   ],
   "source": [
    "def func(x):\n",
    "    print(x)\n",
    "    \n",
    "    \n",
    "func((1:10:5))"
   ]
  },
  {
   "cell_type": "code",
   "execution_count": 223,
   "id": "8c5670e4",
   "metadata": {},
   "outputs": [
    {
     "name": "stdout",
     "output_type": "stream",
     "text": [
      "(slice(1, 10, 2), slice(None, None, None)) <class 'tuple'>\n"
     ]
    }
   ],
   "source": [
    "class AClass:\n",
    "    \n",
    "    def __getitem__(self, a):\n",
    "        print(a, type(a))\n",
    "a = AClass()   \n",
    "a[1:10:2, :]"
   ]
  },
  {
   "cell_type": "code",
   "execution_count": 212,
   "id": "4b57b045",
   "metadata": {},
   "outputs": [],
   "source": [
    "b = slice(1, 10, 2)"
   ]
  },
  {
   "cell_type": "code",
   "execution_count": 213,
   "id": "bb403d1c",
   "metadata": {},
   "outputs": [
    {
     "data": {
      "text/plain": [
       "slice(1, 10, 2)"
      ]
     },
     "execution_count": 213,
     "metadata": {},
     "output_type": "execute_result"
    }
   ],
   "source": [
    "b"
   ]
  },
  {
   "cell_type": "code",
   "execution_count": 214,
   "id": "2d7e167b",
   "metadata": {},
   "outputs": [
    {
     "data": {
      "text/plain": [
       "1"
      ]
     },
     "execution_count": 214,
     "metadata": {},
     "output_type": "execute_result"
    }
   ],
   "source": [
    "b.start"
   ]
  },
  {
   "cell_type": "code",
   "execution_count": 215,
   "id": "7671b648",
   "metadata": {},
   "outputs": [
    {
     "data": {
      "text/plain": [
       "10"
      ]
     },
     "execution_count": 215,
     "metadata": {},
     "output_type": "execute_result"
    }
   ],
   "source": [
    "b.stop"
   ]
  },
  {
   "cell_type": "code",
   "execution_count": 216,
   "id": "f0180b62",
   "metadata": {},
   "outputs": [
    {
     "data": {
      "text/plain": [
       "2"
      ]
     },
     "execution_count": 216,
     "metadata": {},
     "output_type": "execute_result"
    }
   ],
   "source": [
    "b.step"
   ]
  },
  {
   "cell_type": "code",
   "execution_count": 221,
   "id": "6c563047",
   "metadata": {},
   "outputs": [
    {
     "name": "stdout",
     "output_type": "stream",
     "text": [
      "(slice(None, None, None), slice(5, 20, 2))\n"
     ]
    }
   ],
   "source": [
    "a[:, 5:20:2]"
   ]
  },
  {
   "cell_type": "code",
   "execution_count": 262,
   "id": "8993c6a2",
   "metadata": {},
   "outputs": [],
   "source": [
    "from collections import defaultdict\n",
    "\n",
    "\n",
    "class MyClass:\n",
    "    def __init__(self, **kwargs):\n",
    "        self.data = defaultdict(list)\n",
    "        header = kwargs.get('header')\n",
    "        lines = kwargs.get('lines')\n",
    "        if header:\n",
    "            self.header = lines.pop(0)\n",
    "        else:\n",
    "            self.header = list(range(len(lines[0])))\n",
    "        \n",
    "        for line in lines:\n",
    "            row = dict(zip(self.header, line))\n",
    "            for key,value in row.items():\n",
    "                self.data[key].append(value)\n",
    "              \n",
    "    def __setitem__(self, key, value): # MyCLass[key] = value\n",
    "        self.data[key] = value\n",
    "        \n",
    "    def __getitem__(self, key): # MyClass[key]\n",
    "        if type(key) in [str, int]:\n",
    "            return ListV2(self.data[key])  \n",
    "        elif isinstance(key, list):\n",
    "            output = []\n",
    "            for k in key:\n",
    "                output.append(self.data[k])\n",
    "            output = list(zip(*output))       \n",
    "            return output\n",
    "        elif isinstance(key, slice):\n",
    "            all_rows = list(zip(*self.data.values()))\n",
    "            output = all_rows[key.start:key.stop:key.step]\n",
    "            return MyClass(lines=output)\n",
    "            \n",
    "        elif isinstance(key, tuple):\n",
    "            row = key[0]\n",
    "            col = key[1]\n",
    "            columns = list(self.data.keys())\n",
    "            columns = columns[col]\n",
    "            data = []\n",
    "            for col in columns:\n",
    "                data.append(self.data[col])\n",
    "            \n",
    "            \n",
    "            all_rows = list(zip(*data))\n",
    "            output = all_rows[row.start:row.stop:row.step]\n",
    "            output = [columns] + output\n",
    "            return MyClass(lines=output, header=True)\n",
    "            \n",
    "            \n",
    "        \n",
    "    def as_type(self, column, cast_type):\n",
    "        self.data[column] = list(map(cast_type, self.data[column]))\n",
    "        \n",
    "    def mean(self, columns):\n",
    "        if type(columns) in [str, int]:\n",
    "            data = self.data[columns]\n",
    "            return sum(data)/len(data)\n",
    "        elif isinstance(columns, list):\n",
    "            data = []\n",
    "            for column in columns:\n",
    "                data.append(sum(self.data[column])/len(self.data[column]))\n",
    "            \n",
    "            data =  [columns, data]\n",
    "            return MyClass(lines=data, header=True)\n",
    "        \n",
    "    def __repr__(self):\n",
    "        print(self.header)\n",
    "        for ele in list(zip(*self.data.values())):\n",
    "            print(ele)\n",
    "            \n"
   ]
  },
  {
   "cell_type": "code",
   "execution_count": 236,
   "id": "46a16023",
   "metadata": {},
   "outputs": [
    {
     "data": {
      "text/plain": [
       "[(5, 7), (6, 8)]"
      ]
     },
     "execution_count": 236,
     "metadata": {},
     "output_type": "execute_result"
    }
   ],
   "source": [
    "x = {1: [5, 6], 2: [7, 8]}\n",
    "list(zip(*x.values()))"
   ]
  },
  {
   "cell_type": "code",
   "execution_count": 264,
   "id": "40b24e88",
   "metadata": {},
   "outputs": [],
   "source": [
    "mc = MyClass(lines=list(lines))\n",
    "mc.as_type(1, int)\n",
    "mc.as_type(2, int)"
   ]
  },
  {
   "cell_type": "code",
   "execution_count": 267,
   "id": "3621ebbb",
   "metadata": {},
   "outputs": [],
   "source": [
    "a = mc[5:21:2, 1:6]"
   ]
  },
  {
   "cell_type": "code",
   "execution_count": 268,
   "id": "85c1a267",
   "metadata": {},
   "outputs": [
    {
     "name": "stdout",
     "output_type": "stream",
     "text": [
      "[1, 2, 3, 4, 5]\n",
      "(100, 86, '84', '70', '71')\n",
      "(97, 86, '75', '69', '88')\n",
      "(78, 76, '73', '88', '86')\n",
      "(82, 92, '85', '95', '86')\n",
      "(89, 81, '92', '75', '66')\n",
      "(96, 75, '78', '91', '83')\n",
      "(83, 68, '91', '74', '66')\n",
      "(80, 89, '73', '76', '72')\n"
     ]
    },
    {
     "ename": "TypeError",
     "evalue": "__repr__ returned non-string (type NoneType)",
     "output_type": "error",
     "traceback": [
      "\u001b[1;31m---------------------------------------------------------------------------\u001b[0m",
      "\u001b[1;31mTypeError\u001b[0m                                 Traceback (most recent call last)",
      "\u001b[1;32mC:\\ProgramData\\Anaconda3\\lib\\site-packages\\IPython\\core\\formatters.py\u001b[0m in \u001b[0;36m__call__\u001b[1;34m(self, obj)\u001b[0m\n\u001b[0;32m    700\u001b[0m                 \u001b[0mtype_pprinters\u001b[0m\u001b[1;33m=\u001b[0m\u001b[0mself\u001b[0m\u001b[1;33m.\u001b[0m\u001b[0mtype_printers\u001b[0m\u001b[1;33m,\u001b[0m\u001b[1;33m\u001b[0m\u001b[1;33m\u001b[0m\u001b[0m\n\u001b[0;32m    701\u001b[0m                 deferred_pprinters=self.deferred_printers)\n\u001b[1;32m--> 702\u001b[1;33m             \u001b[0mprinter\u001b[0m\u001b[1;33m.\u001b[0m\u001b[0mpretty\u001b[0m\u001b[1;33m(\u001b[0m\u001b[0mobj\u001b[0m\u001b[1;33m)\u001b[0m\u001b[1;33m\u001b[0m\u001b[1;33m\u001b[0m\u001b[0m\n\u001b[0m\u001b[0;32m    703\u001b[0m             \u001b[0mprinter\u001b[0m\u001b[1;33m.\u001b[0m\u001b[0mflush\u001b[0m\u001b[1;33m(\u001b[0m\u001b[1;33m)\u001b[0m\u001b[1;33m\u001b[0m\u001b[1;33m\u001b[0m\u001b[0m\n\u001b[0;32m    704\u001b[0m             \u001b[1;32mreturn\u001b[0m \u001b[0mstream\u001b[0m\u001b[1;33m.\u001b[0m\u001b[0mgetvalue\u001b[0m\u001b[1;33m(\u001b[0m\u001b[1;33m)\u001b[0m\u001b[1;33m\u001b[0m\u001b[1;33m\u001b[0m\u001b[0m\n",
      "\u001b[1;32mC:\\ProgramData\\Anaconda3\\lib\\site-packages\\IPython\\lib\\pretty.py\u001b[0m in \u001b[0;36mpretty\u001b[1;34m(self, obj)\u001b[0m\n\u001b[0;32m    392\u001b[0m                         \u001b[1;32mif\u001b[0m \u001b[0mcls\u001b[0m \u001b[1;32mis\u001b[0m \u001b[1;32mnot\u001b[0m \u001b[0mobject\u001b[0m\u001b[0;31m \u001b[0m\u001b[0;31m\\\u001b[0m\u001b[1;33m\u001b[0m\u001b[1;33m\u001b[0m\u001b[0m\n\u001b[0;32m    393\u001b[0m                                 \u001b[1;32mand\u001b[0m \u001b[0mcallable\u001b[0m\u001b[1;33m(\u001b[0m\u001b[0mcls\u001b[0m\u001b[1;33m.\u001b[0m\u001b[0m__dict__\u001b[0m\u001b[1;33m.\u001b[0m\u001b[0mget\u001b[0m\u001b[1;33m(\u001b[0m\u001b[1;34m'__repr__'\u001b[0m\u001b[1;33m)\u001b[0m\u001b[1;33m)\u001b[0m\u001b[1;33m:\u001b[0m\u001b[1;33m\u001b[0m\u001b[1;33m\u001b[0m\u001b[0m\n\u001b[1;32m--> 394\u001b[1;33m                             \u001b[1;32mreturn\u001b[0m \u001b[0m_repr_pprint\u001b[0m\u001b[1;33m(\u001b[0m\u001b[0mobj\u001b[0m\u001b[1;33m,\u001b[0m \u001b[0mself\u001b[0m\u001b[1;33m,\u001b[0m \u001b[0mcycle\u001b[0m\u001b[1;33m)\u001b[0m\u001b[1;33m\u001b[0m\u001b[1;33m\u001b[0m\u001b[0m\n\u001b[0m\u001b[0;32m    395\u001b[0m \u001b[1;33m\u001b[0m\u001b[0m\n\u001b[0;32m    396\u001b[0m             \u001b[1;32mreturn\u001b[0m \u001b[0m_default_pprint\u001b[0m\u001b[1;33m(\u001b[0m\u001b[0mobj\u001b[0m\u001b[1;33m,\u001b[0m \u001b[0mself\u001b[0m\u001b[1;33m,\u001b[0m \u001b[0mcycle\u001b[0m\u001b[1;33m)\u001b[0m\u001b[1;33m\u001b[0m\u001b[1;33m\u001b[0m\u001b[0m\n",
      "\u001b[1;32mC:\\ProgramData\\Anaconda3\\lib\\site-packages\\IPython\\lib\\pretty.py\u001b[0m in \u001b[0;36m_repr_pprint\u001b[1;34m(obj, p, cycle)\u001b[0m\n\u001b[0;32m    698\u001b[0m     \u001b[1;34m\"\"\"A pprint that just redirects to the normal repr function.\"\"\"\u001b[0m\u001b[1;33m\u001b[0m\u001b[1;33m\u001b[0m\u001b[0m\n\u001b[0;32m    699\u001b[0m     \u001b[1;31m# Find newlines and replace them with p.break_()\u001b[0m\u001b[1;33m\u001b[0m\u001b[1;33m\u001b[0m\u001b[0m\n\u001b[1;32m--> 700\u001b[1;33m     \u001b[0moutput\u001b[0m \u001b[1;33m=\u001b[0m \u001b[0mrepr\u001b[0m\u001b[1;33m(\u001b[0m\u001b[0mobj\u001b[0m\u001b[1;33m)\u001b[0m\u001b[1;33m\u001b[0m\u001b[1;33m\u001b[0m\u001b[0m\n\u001b[0m\u001b[0;32m    701\u001b[0m     \u001b[0mlines\u001b[0m \u001b[1;33m=\u001b[0m \u001b[0moutput\u001b[0m\u001b[1;33m.\u001b[0m\u001b[0msplitlines\u001b[0m\u001b[1;33m(\u001b[0m\u001b[1;33m)\u001b[0m\u001b[1;33m\u001b[0m\u001b[1;33m\u001b[0m\u001b[0m\n\u001b[0;32m    702\u001b[0m     \u001b[1;32mwith\u001b[0m \u001b[0mp\u001b[0m\u001b[1;33m.\u001b[0m\u001b[0mgroup\u001b[0m\u001b[1;33m(\u001b[0m\u001b[1;33m)\u001b[0m\u001b[1;33m:\u001b[0m\u001b[1;33m\u001b[0m\u001b[1;33m\u001b[0m\u001b[0m\n",
      "\u001b[1;31mTypeError\u001b[0m: __repr__ returned non-string (type NoneType)"
     ]
    }
   ],
   "source": [
    "a"
   ]
  },
  {
   "cell_type": "code",
   "execution_count": null,
   "id": "f1a99eaa",
   "metadata": {},
   "outputs": [],
   "source": []
  }
 ],
 "metadata": {
  "kernelspec": {
   "display_name": "Python 3 (ipykernel)",
   "language": "python",
   "name": "python3"
  },
  "language_info": {
   "codemirror_mode": {
    "name": "ipython",
    "version": 3
   },
   "file_extension": ".py",
   "mimetype": "text/x-python",
   "name": "python",
   "nbconvert_exporter": "python",
   "pygments_lexer": "ipython3",
   "version": "3.9.13"
  }
 },
 "nbformat": 4,
 "nbformat_minor": 5
}
