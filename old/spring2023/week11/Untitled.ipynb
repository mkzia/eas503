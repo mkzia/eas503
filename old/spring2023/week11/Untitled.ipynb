{
 "cells": [
  {
   "cell_type": "code",
   "execution_count": 1,
   "id": "e4a7ab53",
   "metadata": {},
   "outputs": [],
   "source": [
    "# https://docs.python.org/3/library/datetime.html#strftime-and-strptime-format-codes"
   ]
  },
  {
   "cell_type": "code",
   "execution_count": 2,
   "id": "d5df4b22",
   "metadata": {},
   "outputs": [],
   "source": [
    "x = '2011-10-12 14:55:02.027'\n",
    "y = '2011-10-22 01:16:07.557'\n",
    "\n",
    "import datetime\n"
   ]
  },
  {
   "cell_type": "code",
   "execution_count": 3,
   "id": "165ef613",
   "metadata": {},
   "outputs": [
    {
     "data": {
      "text/plain": [
       "datetime.datetime(2023, 4, 19, 19, 1, 30, 799585)"
      ]
     },
     "execution_count": 3,
     "metadata": {},
     "output_type": "execute_result"
    }
   ],
   "source": [
    "datetime.datetime.strptime()"
   ]
  },
  {
   "cell_type": "code",
   "execution_count": 4,
   "id": "610ca77d",
   "metadata": {},
   "outputs": [
    {
     "data": {
      "text/plain": [
       "datetime.datetime(2011, 10, 12, 0, 0)"
      ]
     },
     "execution_count": 4,
     "metadata": {},
     "output_type": "execute_result"
    }
   ],
   "source": [
    "x = '2011-10-12'\n",
    "datetime.datetime.strptime(x, '%Y-%m-%d')\n"
   ]
  },
  {
   "cell_type": "code",
   "execution_count": 5,
   "id": "c93990e0",
   "metadata": {},
   "outputs": [
    {
     "data": {
      "text/plain": [
       "datetime.datetime(2014, 10, 12, 0, 0)"
      ]
     },
     "execution_count": 5,
     "metadata": {},
     "output_type": "execute_result"
    }
   ],
   "source": [
    "x = '10/12/2014'\n",
    "datetime.datetime.strptime(x, '%m/%d/%Y')\n"
   ]
  },
  {
   "cell_type": "code",
   "execution_count": 6,
   "id": "2e973d03",
   "metadata": {},
   "outputs": [
    {
     "data": {
      "text/plain": [
       "datetime.datetime(2011, 10, 12, 14, 55, 2)"
      ]
     },
     "execution_count": 6,
     "metadata": {},
     "output_type": "execute_result"
    }
   ],
   "source": [
    "x = '2011-10-12 14:55:02'\n",
    "datetime.datetime.strptime(x, '%Y-%m-%d %H:%M:%S')\n"
   ]
  },
  {
   "cell_type": "code",
   "execution_count": 11,
   "id": "ea749fb8",
   "metadata": {},
   "outputs": [],
   "source": [
    "x = '2011-10-12 14:55:02.027'\n",
    "xx = datetime.datetime.strptime(x.split('.')[0], '%Y-%m-%d %H:%M:%S')"
   ]
  },
  {
   "cell_type": "code",
   "execution_count": 12,
   "id": "edb3a07a",
   "metadata": {},
   "outputs": [],
   "source": [
    "y = '2011-10-22 01:16:07'\n",
    "yy = datetime.datetime.strptime(y, '%Y-%m-%d %H:%M:%S')"
   ]
  },
  {
   "cell_type": "code",
   "execution_count": 13,
   "id": "7ee77474",
   "metadata": {},
   "outputs": [
    {
     "data": {
      "text/plain": [
       "datetime.datetime(2011, 10, 12, 14, 55, 2)"
      ]
     },
     "execution_count": 13,
     "metadata": {},
     "output_type": "execute_result"
    }
   ],
   "source": [
    "xx\n"
   ]
  },
  {
   "cell_type": "code",
   "execution_count": 14,
   "id": "2b69ba6e",
   "metadata": {},
   "outputs": [
    {
     "data": {
      "text/plain": [
       "datetime.datetime(2011, 10, 22, 1, 16, 7)"
      ]
     },
     "execution_count": 14,
     "metadata": {},
     "output_type": "execute_result"
    }
   ],
   "source": [
    "yy"
   ]
  },
  {
   "cell_type": "code",
   "execution_count": 16,
   "id": "6718b81a",
   "metadata": {},
   "outputs": [],
   "source": [
    "dt = xx-yy"
   ]
  },
  {
   "cell_type": "code",
   "execution_count": 21,
   "id": "83d95b2e",
   "metadata": {},
   "outputs": [
    {
     "data": {
      "text/plain": [
       "-13581.083333333334"
      ]
     },
     "execution_count": 21,
     "metadata": {},
     "output_type": "execute_result"
    }
   ],
   "source": [
    "dt.total_seconds() / 60"
   ]
  },
  {
   "cell_type": "code",
   "execution_count": 20,
   "id": "e75e0f76",
   "metadata": {},
   "outputs": [
    {
     "data": {
      "text/plain": [
       "datetime.timedelta(days=-10, seconds=49135)"
      ]
     },
     "execution_count": 20,
     "metadata": {},
     "output_type": "execute_result"
    }
   ],
   "source": [
    "dt"
   ]
  },
  {
   "cell_type": "code",
   "execution_count": 23,
   "id": "a622d069",
   "metadata": {},
   "outputs": [
    {
     "data": {
      "text/html": [
       "<div>\n",
       "<style scoped>\n",
       "    .dataframe tbody tr th:only-of-type {\n",
       "        vertical-align: middle;\n",
       "    }\n",
       "\n",
       "    .dataframe tbody tr th {\n",
       "        vertical-align: top;\n",
       "    }\n",
       "\n",
       "    .dataframe thead th {\n",
       "        text-align: right;\n",
       "    }\n",
       "</style>\n",
       "<table border=\"1\" class=\"dataframe\">\n",
       "  <thead>\n",
       "    <tr style=\"text-align: right;\">\n",
       "      <th></th>\n",
       "      <th>PRODUCT</th>\n",
       "      <th>QUANTITY</th>\n",
       "    </tr>\n",
       "  </thead>\n",
       "  <tbody>\n",
       "    <tr>\n",
       "      <th>0</th>\n",
       "      <td>Potatoes</td>\n",
       "      <td>45</td>\n",
       "    </tr>\n",
       "    <tr>\n",
       "      <th>1</th>\n",
       "      <td>Avacados</td>\n",
       "      <td>63</td>\n",
       "    </tr>\n",
       "    <tr>\n",
       "      <th>2</th>\n",
       "      <td>Kiwis</td>\n",
       "      <td>19</td>\n",
       "    </tr>\n",
       "    <tr>\n",
       "      <th>3</th>\n",
       "      <td>Onions</td>\n",
       "      <td>20</td>\n",
       "    </tr>\n",
       "    <tr>\n",
       "      <th>4</th>\n",
       "      <td>Melons</td>\n",
       "      <td>66</td>\n",
       "    </tr>\n",
       "    <tr>\n",
       "      <th>5</th>\n",
       "      <td>Broccoli</td>\n",
       "      <td>27</td>\n",
       "    </tr>\n",
       "    <tr>\n",
       "      <th>6</th>\n",
       "      <td>Squash</td>\n",
       "      <td>92</td>\n",
       "    </tr>\n",
       "  </tbody>\n",
       "</table>\n",
       "</div>"
      ],
      "text/plain": [
       "    PRODUCT  QUANTITY\n",
       "0  Potatoes        45\n",
       "1  Avacados        63\n",
       "2     Kiwis        19\n",
       "3    Onions        20\n",
       "4    Melons        66\n",
       "5  Broccoli        27\n",
       "6    Squash        92"
      ]
     },
     "metadata": {},
     "output_type": "display_data"
    }
   ],
   "source": [
    "import pandas as pd\n",
    "import sqlite3\n",
    "conn = sqlite3.connect(\"join_example_database.db\")\n",
    "sql_statement = \"select Quantities.product, Quantities.quantity FROM Quantities\"\n",
    "df = pd.read_sql_query(sql_statement, conn)\n",
    "display(df)"
   ]
  },
  {
   "cell_type": "code",
   "execution_count": null,
   "id": "0e7e50e6",
   "metadata": {},
   "outputs": [],
   "source": [
    "def dbex_1():\n",
    "    \"\"\"\n",
    "    Return all products with quantity greater than 60;\n",
    "    output columns: product_name, product_quantity\n",
    "    output (df, sql_statement)\n",
    "    \"\"\"\n",
    "\n",
    "    import pandas as pd\n",
    "    import sqlite3\n",
    "    conn = sqlite3.connect(\"join_example_database.db\")\n",
    "    cur = conn.cursor()\n",
    "    ###### \n",
    "    sql_statement = \"select Quantities.product, Quantities.quantity FROM Quantities Where quantity > 60;\"\n",
    "    \n",
    "    #####\n",
    "    df = pd.read_sql_query(sql_statement, conn)\n",
    "    return (df, sql_statement)"
   ]
  },
  {
   "cell_type": "code",
   "execution_count": 24,
   "id": "e72bb09f",
   "metadata": {},
   "outputs": [],
   "source": [
    "import sqlite3\n",
    "from sqlite3 import Error\n",
    "\n",
    "\n",
    "def create_connection(db_file):\n",
    "    conn = None\n",
    "    try:\n",
    "        conn = sqlite3.connect(db_file)\n",
    "    except Error as e:\n",
    "        print(e)\n",
    "\n",
    "    return conn\n",
    "\n",
    "def create_table(conn, create_table_sql):\n",
    "    try:\n",
    "        c = conn.cursor()\n",
    "        c.execute(create_table_sql)\n",
    "    except Error as e:\n",
    "        print(e)"
   ]
  },
  {
   "cell_type": "code",
   "execution_count": 29,
   "id": "a75f0544",
   "metadata": {},
   "outputs": [
    {
     "name": "stdout",
     "output_type": "stream",
     "text": [
      "('Melissa', 'Larson')\n",
      "('Melissa', 'Novak')\n",
      "('Wendy', 'Sawyer')\n",
      "('Marcus', 'Schultz')\n",
      "('Nicholas', 'Vega')\n",
      "('Brenda', 'Adams')\n",
      "('Charlene', 'Thompson')\n",
      "('Bradley', 'Booth')\n",
      "('Eugene', 'Gallegos')\n",
      "('Mary', 'Munoz')\n",
      "('Kimberly', 'Carey')\n",
      "('Philip', 'Paul')\n",
      "('Madeline', 'Reed')\n",
      "('Cassie', 'Parsons')\n",
      "('Glenn', 'Mcclain')\n",
      "('Janice', 'Oliver')\n",
      "('Catherine', 'Lozano')\n",
      "('John', 'Klein')\n",
      "('Marcus', 'Brooks')\n",
      "('Michael', 'Lee')\n",
      "('Elizabeth', 'Myers')\n",
      "('Katherine', 'Bowen')\n",
      "('Edward', 'Gibson')\n",
      "('Christopher', 'Smith')\n",
      "('Debra', 'Key')\n",
      "('Carlos', 'Fleming')\n",
      "('Nathan', 'Parrish')\n",
      "('Michael', 'Lewis')\n",
      "('David', 'Diaz')\n",
      "('Linda', 'Walter')\n",
      "('Amanda', 'Bailey')\n",
      "('Robert', 'Terrell')\n",
      "('Janice', 'Johnson')\n",
      "('John', 'Lee')\n",
      "('Kathryn', 'Dominguez')\n",
      "('Paige', 'Ellis')\n",
      "('Jennifer', 'Wilkinson')\n",
      "('Michelle', 'Rodriguez')\n",
      "('Lisa', 'Kennedy')\n",
      "('Michelle', 'Henderson')\n",
      "('James', 'Hill')\n",
      "('David', 'Jones')\n",
      "('Patrick', 'Landry')\n",
      "('Jerome', 'Cox')\n",
      "('Linda', 'Santana')\n",
      "('Robert', 'Patton')\n",
      "('Christopher', 'Mclean')\n",
      "('Andre', 'Rhodes')\n",
      "('John', 'Ramsey')\n",
      "('Paul', 'Martin')\n",
      "('Kelli', 'Perez')\n",
      "('Troy', 'Moran')\n",
      "('Sarah', 'Kerr')\n",
      "('Stephanie', 'Wade')\n",
      "('Rebecca', 'Smith')\n",
      "('Joel', 'Long')\n",
      "('Cody', 'Ashley')\n",
      "('Rachel', 'Patrick')\n",
      "('Alex', 'Oliver')\n",
      "('Shannon', 'Hoffman')\n",
      "('Michael', 'Holden')\n",
      "('Vanessa', 'Graham')\n",
      "('Christopher', 'Blair')\n",
      "('Diana', 'Taylor')\n",
      "('Brandon', 'Reilly')\n",
      "('Matthew', 'Gamble')\n",
      "('Patrick', 'Weber')\n",
      "('Judy', 'Woodard')\n",
      "('Alexandra', 'Hull')\n",
      "('Jessica', 'Frank')\n",
      "('Samuel', 'Davis')\n",
      "('Alexandra', 'Baird')\n",
      "('James', 'Hensley')\n",
      "('Carmen', 'Luna')\n",
      "('Brian', 'Garcia')\n",
      "('Luis', 'Andrews')\n",
      "('Jessica', 'Watson')\n",
      "('Dawn', 'Evans')\n",
      "('Tammy', 'Barnes')\n",
      "('Angela', 'Nelson')\n",
      "('Jennifer', 'Patterson')\n",
      "('Austin', 'King')\n",
      "('Carol', 'Smith')\n",
      "('Lisa', 'Cook')\n",
      "('Shawn', 'Francis')\n",
      "('Michael', 'Monroe')\n",
      "('Patrick', 'Cortez')\n",
      "('Kristen', 'Chang')\n",
      "('Brandy', 'Mcclain')\n",
      "('Stephanie', 'Sellers')\n",
      "('Mariah', 'Olsen')\n",
      "('Brianna', 'Melton')\n",
      "('Jon', 'Day')\n",
      "('Brian', 'Little')\n",
      "('Wayne', 'Johnson')\n",
      "('Andrew', 'Duncan')\n",
      "('Alexander', 'Bush')\n",
      "('Michael', 'Summers')\n",
      "('Sandra', 'Bowers')\n",
      "('Jonathan', 'Fernandez')\n"
     ]
    }
   ],
   "source": [
    "db_file = 'student_test_in_class.db'\n",
    "conn = create_connection(db_file)\n",
    "cur = conn.cursor()\n",
    "cur.execute(\"SELECT first_name, last_name FROM students\")\n",
    "\n",
    "rows = cur.fetchall()\n",
    "\n",
    "for row in rows:\n",
    "    print(row)"
   ]
  },
  {
   "cell_type": "code",
   "execution_count": 30,
   "id": "9cb73210",
   "metadata": {},
   "outputs": [
    {
     "data": {
      "text/plain": [
       "<sqlite3.Cursor at 0x1b5a0fd96c0>"
      ]
     },
     "execution_count": 30,
     "metadata": {},
     "output_type": "execute_result"
    }
   ],
   "source": [
    "db_file = 'student_test_in_class.db'\n",
    "conn = create_connection(db_file)\n",
    "cur = conn.cursor()\n",
    "cur.execute(\"SELECT first_name, last_name FROM students\")\n"
   ]
  },
  {
   "cell_type": "code",
   "execution_count": 33,
   "id": "c61960b6",
   "metadata": {},
   "outputs": [
    {
     "data": {
      "text/plain": [
       "('Wendy', 'Sawyer')"
      ]
     },
     "execution_count": 33,
     "metadata": {},
     "output_type": "execute_result"
    }
   ],
   "source": [
    "cur.fetchone()"
   ]
  },
  {
   "cell_type": "code",
   "execution_count": 45,
   "id": "015a8a2a",
   "metadata": {},
   "outputs": [
    {
     "name": "stdout",
     "output_type": "stream",
     "text": [
      "['Larson', 'Melissa', 'larsonmeli', '24', '89', '31']\n",
      "['Novak', 'Melissa', 'novakmeli', '77', '3', '38']\n",
      "['Sawyer', 'Wendy', 'sawyerwend', '81', '59', '30']\n",
      "['Schultz', 'Marcus', 'schultzmarc', '59', '29', '67']\n",
      "['Vega', 'Nicholas', 'veganich', '64', '12', '95']\n",
      "['Adams', 'Brenda', 'adamsbren', '80', '49', '60']\n",
      "['Thompson', 'Charlene', 'thompsonchar', '37', '56', '26']\n",
      "['Booth', 'Bradley', 'boothbrad', '85', '8', '77']\n",
      "['Gallegos', 'Eugene', 'gallegoseuge', '34', '9', '76']\n",
      "['Munoz', 'Mary', 'munozmary', '77', '41', '55']\n",
      "['Carey', 'Kimberly', 'careykimb', '29', '94', '23']\n",
      "['Paul', 'Philip', 'paulphil', '79', '86', '60']\n",
      "['Reed', 'Madeline', 'reedmade', '16', '39', '46']\n",
      "['Parsons', 'Cassie', 'parsonscass', '61', '62', '65']\n",
      "['Mcclain', 'Glenn', 'mcclainglen', '85', '98', '52']\n",
      "['Oliver', 'Janice', 'oliverjani', '72', '47', '34']\n",
      "['Lozano', 'Catherine', 'lozanocath', '71', '19', '94']\n",
      "['Klein', 'John', 'kleinjohn', '3', '43', '88']\n",
      "['Brooks', 'Marcus', 'brooksmarc', '6', '81', '70']\n",
      "['Lee', 'Michael', 'leemich', '30', '54', '25']\n",
      "['Myers', 'Elizabeth', 'myerseliz', '41', '38', '28']\n",
      "['Bowen', 'Katherine', 'bowenkath', '57', '61', '34']\n",
      "['Gibson', 'Edward', 'gibsonedwa', '84', '27', '21']\n",
      "['Smith', 'Christopher', 'smithchri', '25', '11', '68']\n",
      "['Key', 'Debra', 'keydebr', '66', '47', '29']\n",
      "['Fleming', 'Carlos', 'flemingcarl', '50', '45', '93']\n",
      "['Parrish', 'Nathan', 'parrishnath', '47', '92', '45']\n",
      "['Lewis', 'Michael', 'lewismich', '73', '65', '98']\n",
      "['Diaz', 'David', 'diazdavi', '52', '40', '20']\n",
      "['Walter', 'Linda', 'walterlind', '28', '14', '71']\n",
      "['Bailey', 'Amanda', 'baileyaman', '27', '4', '38']\n",
      "['Terrell', 'Robert', 'terrellrobe', '99', '93', '60']\n",
      "['Johnson', 'Janice', 'johnsonjani', '22', '49', '93']\n",
      "['Lee', 'John', 'leejohn', '25', '25', '39']\n",
      "['Dominguez', 'Kathryn', 'dominguezkath', '21', '82', '31']\n",
      "['Ellis', 'Paige', 'ellispaig', '41', '46', '82']\n",
      "['Wilkinson', 'Jennifer', 'wilkinsonjenn', '52', '64', '44']\n",
      "['Rodriguez', 'Michelle', 'rodriguezmich', '94', '24', '50']\n",
      "['Kennedy', 'Lisa', 'kennedylisa', '93', '19', '48']\n",
      "['Henderson', 'Michelle', 'hendersonmich', '91', '60', '86']\n",
      "['Hill', 'James', 'hilljame', '59', '22', '85']\n",
      "['Jones', 'David', 'jonesdavi', '37', '60', '15']\n",
      "['Landry', 'Patrick', 'landrypatr', '41', '82', '93']\n",
      "['Cox', 'Jerome', 'coxjero', '67', '28', '29']\n",
      "['Santana', 'Linda', 'santanalind', '77', '58', '4']\n",
      "['Patton', 'Robert', 'pattonrobe', '78', '53', '20']\n",
      "['Mclean', 'Christopher', 'mcleanchri', '59', '58', '73']\n",
      "['Rhodes', 'Andre', 'rhodesandr', '53', '9', '82']\n",
      "['Ramsey', 'John', 'ramseyjohn', '89', '95', '94']\n",
      "['Martin', 'Paul', 'martinpaul', '15', '11', '12']\n",
      "['Perez', 'Kelli', 'perezkell', '6', '22', '3']\n",
      "['Moran', 'Troy', 'morantroy', '61', '21', '45']\n",
      "['Kerr', 'Sarah', 'kerrsara', '82', '27', '65']\n",
      "['Wade', 'Stephanie', 'wadestep', '9', '69', '31']\n",
      "['Smith', 'Rebecca', 'smithrebe', '3', '75', '55']\n",
      "['Long', 'Joel', 'longjoel', '20', '50', '3']\n",
      "['Ashley', 'Cody', 'ashleycody', '75', '69', '94']\n",
      "['Patrick', 'Rachel', 'patrickrach', '16', '20', '80']\n",
      "['Oliver', 'Alex', 'oliveralex', '61', '22', '6']\n",
      "['Hoffman', 'Shannon', 'hoffmanshan', '29', '68', '71']\n",
      "['Holden', 'Michael', 'holdenmich', '57', '23', '53']\n",
      "['Graham', 'Vanessa', 'grahamvane', '78', '76', '73']\n",
      "['Blair', 'Christopher', 'blairchri', '70', '97', '27']\n",
      "['Taylor', 'Diana', 'taylordian', '99', '90', '6']\n",
      "['Reilly', 'Brandon', 'reillybran', '10', '94', '64']\n",
      "['Gamble', 'Matthew', 'gamblematt', '48', '50', '26']\n",
      "['Weber', 'Patrick', 'weberpatr', '87', '33', '92']\n",
      "['Woodard', 'Judy', 'woodardjudy', '47', '43', '13']\n",
      "['Hull', 'Alexandra', 'hullalex', '38', '7', '42']\n",
      "['Frank', 'Jessica', 'frankjess', '95', '87', '92']\n",
      "['Davis', 'Samuel', 'davissamu', '22', '17', '91']\n",
      "['Baird', 'Alexandra', 'bairdalex', '32', '90', '71']\n",
      "['Hensley', 'James', 'hensleyjame', '52', '50', '61']\n",
      "['Luna', 'Carmen', 'lunacarm', '36', '92', '6']\n",
      "['Garcia', 'Brian', 'garciabria', '37', '53', '3']\n",
      "['Andrews', 'Luis', 'andrewsluis', '43', '92', '3']\n",
      "['Watson', 'Jessica', 'watsonjess', '2', '44', '50']\n",
      "['Evans', 'Dawn', 'evansdawn', '18', '59', '45']\n",
      "['Barnes', 'Tammy', 'barnestamm', '54', '53', '71']\n",
      "['Nelson', 'Angela', 'nelsonange', '33', '63', '66']\n",
      "['Patterson', 'Jennifer', 'pattersonjenn', '26', '98', '97']\n",
      "['King', 'Austin', 'kingaust', '64', '89', '59']\n",
      "['Smith', 'Carol', 'smithcaro', '73', '48', '65']\n",
      "['Cook', 'Lisa', 'cooklisa', '66', '25', '11']\n",
      "['Francis', 'Shawn', 'francisshaw', '37', '55', '26']\n",
      "['Monroe', 'Michael', 'monroemich', '23', '92', '34']\n",
      "['Cortez', 'Patrick', 'cortezpatr', '18', '22', '2']\n",
      "['Chang', 'Kristen', 'changkris', '78', '55', '94']\n",
      "['Mcclain', 'Brandy', 'mcclainbran', '65', '1', '23']\n",
      "['Sellers', 'Stephanie', 'sellersstep', '11', '83', '76']\n",
      "['Olsen', 'Mariah', 'olsenmari', '44', '27', '64']\n",
      "['Melton', 'Brianna', 'meltonbria', '52', '95', '47']\n",
      "['Day', 'Jon', 'dayjon', '15', '55', '71']\n",
      "['Little', 'Brian', 'littlebria', '25', '35', '88']\n",
      "['Johnson', 'Wayne', 'johnsonwayn', '66', '31', '58']\n",
      "['Duncan', 'Andrew', 'duncanandr', '59', '87', '34']\n",
      "['Bush', 'Alexander', 'bushalex', '82', '54', '25']\n",
      "['Summers', 'Michael', 'summersmich', '18', '95', '63']\n",
      "['Bowers', 'Sandra', 'bowerssand', '52', '8', '50']\n",
      "['Fernandez', 'Jonathan', 'fernandezjona', '74', '80', '22']\n"
     ]
    }
   ],
   "source": [
    "import os\n",
    "db_file = 'student_test_in_class2.db'\n",
    "if os.path.exists(db_file):\n",
    "    os.remove(db_file)\n",
    "\n",
    "\n",
    "conn.close()\n",
    "\n",
    "create_table_sql = \"\"\"\n",
    "CREATE TABLE students (\n",
    "    last_name TEXT,\n",
    "    first_name TEXT,\n",
    "    username TEXT,\n",
    "    exam1 REAL,\n",
    "    exam2 REAL,\n",
    "    exam3 REAL\n",
    ");\n",
    "\"\"\"\n",
    "\n",
    "conn = create_connection(db_file)\n",
    "\n",
    "\n",
    "def insert_student(conn, values):\n",
    "    sql = '''INSERT INTO students(last_name,first_name,username,exam1,exam2,exam3)\n",
    "              VALUES(?,?,?,?,?,?) '''\n",
    "    cur = conn.cursor()\n",
    "    cur.execute(sql, values)\n",
    "    return cur.lastrowid\n",
    "\n",
    "with conn:\n",
    "    # create\n",
    "    create_table(conn, create_table_sql)\n",
    "\n",
    "    # insert\n",
    "    for student in open('students.tsv', 'r'):\n",
    "        values = student.strip().split('\\t')\n",
    "        print(values)\n",
    "        rid = insert_student(conn, values) ## What is rid?"
   ]
  },
  {
   "cell_type": "code",
   "execution_count": 46,
   "id": "790fa418",
   "metadata": {},
   "outputs": [],
   "source": [
    "conn.close()"
   ]
  },
  {
   "cell_type": "code",
   "execution_count": 47,
   "id": "b634917c",
   "metadata": {},
   "outputs": [
    {
     "data": {
      "text/html": [
       "<div>\n",
       "<style scoped>\n",
       "    .dataframe tbody tr th:only-of-type {\n",
       "        vertical-align: middle;\n",
       "    }\n",
       "\n",
       "    .dataframe tbody tr th {\n",
       "        vertical-align: top;\n",
       "    }\n",
       "\n",
       "    .dataframe thead th {\n",
       "        text-align: right;\n",
       "    }\n",
       "</style>\n",
       "<table border=\"1\" class=\"dataframe\">\n",
       "  <thead>\n",
       "    <tr style=\"text-align: right;\">\n",
       "      <th></th>\n",
       "      <th>last_name</th>\n",
       "      <th>first_name</th>\n",
       "      <th>username</th>\n",
       "      <th>exam1</th>\n",
       "      <th>exam2</th>\n",
       "      <th>exam3</th>\n",
       "    </tr>\n",
       "  </thead>\n",
       "  <tbody>\n",
       "    <tr>\n",
       "      <th>0</th>\n",
       "      <td>Larson</td>\n",
       "      <td>Melissa</td>\n",
       "      <td>larsonmeli</td>\n",
       "      <td>24.0</td>\n",
       "      <td>89.0</td>\n",
       "      <td>31.0</td>\n",
       "    </tr>\n",
       "    <tr>\n",
       "      <th>1</th>\n",
       "      <td>Novak</td>\n",
       "      <td>Melissa</td>\n",
       "      <td>novakmeli</td>\n",
       "      <td>77.0</td>\n",
       "      <td>3.0</td>\n",
       "      <td>38.0</td>\n",
       "    </tr>\n",
       "    <tr>\n",
       "      <th>2</th>\n",
       "      <td>Sawyer</td>\n",
       "      <td>Wendy</td>\n",
       "      <td>sawyerwend</td>\n",
       "      <td>81.0</td>\n",
       "      <td>59.0</td>\n",
       "      <td>30.0</td>\n",
       "    </tr>\n",
       "    <tr>\n",
       "      <th>3</th>\n",
       "      <td>Schultz</td>\n",
       "      <td>Marcus</td>\n",
       "      <td>schultzmarc</td>\n",
       "      <td>59.0</td>\n",
       "      <td>29.0</td>\n",
       "      <td>67.0</td>\n",
       "    </tr>\n",
       "    <tr>\n",
       "      <th>4</th>\n",
       "      <td>Vega</td>\n",
       "      <td>Nicholas</td>\n",
       "      <td>veganich</td>\n",
       "      <td>64.0</td>\n",
       "      <td>12.0</td>\n",
       "      <td>95.0</td>\n",
       "    </tr>\n",
       "    <tr>\n",
       "      <th>...</th>\n",
       "      <td>...</td>\n",
       "      <td>...</td>\n",
       "      <td>...</td>\n",
       "      <td>...</td>\n",
       "      <td>...</td>\n",
       "      <td>...</td>\n",
       "    </tr>\n",
       "    <tr>\n",
       "      <th>95</th>\n",
       "      <td>Duncan</td>\n",
       "      <td>Andrew</td>\n",
       "      <td>duncanandr</td>\n",
       "      <td>59.0</td>\n",
       "      <td>87.0</td>\n",
       "      <td>34.0</td>\n",
       "    </tr>\n",
       "    <tr>\n",
       "      <th>96</th>\n",
       "      <td>Bush</td>\n",
       "      <td>Alexander</td>\n",
       "      <td>bushalex</td>\n",
       "      <td>82.0</td>\n",
       "      <td>54.0</td>\n",
       "      <td>25.0</td>\n",
       "    </tr>\n",
       "    <tr>\n",
       "      <th>97</th>\n",
       "      <td>Summers</td>\n",
       "      <td>Michael</td>\n",
       "      <td>summersmich</td>\n",
       "      <td>18.0</td>\n",
       "      <td>95.0</td>\n",
       "      <td>63.0</td>\n",
       "    </tr>\n",
       "    <tr>\n",
       "      <th>98</th>\n",
       "      <td>Bowers</td>\n",
       "      <td>Sandra</td>\n",
       "      <td>bowerssand</td>\n",
       "      <td>52.0</td>\n",
       "      <td>8.0</td>\n",
       "      <td>50.0</td>\n",
       "    </tr>\n",
       "    <tr>\n",
       "      <th>99</th>\n",
       "      <td>Fernandez</td>\n",
       "      <td>Jonathan</td>\n",
       "      <td>fernandezjona</td>\n",
       "      <td>74.0</td>\n",
       "      <td>80.0</td>\n",
       "      <td>22.0</td>\n",
       "    </tr>\n",
       "  </tbody>\n",
       "</table>\n",
       "<p>100 rows × 6 columns</p>\n",
       "</div>"
      ],
      "text/plain": [
       "    last_name first_name       username  exam1  exam2  exam3\n",
       "0      Larson    Melissa     larsonmeli   24.0   89.0   31.0\n",
       "1       Novak    Melissa      novakmeli   77.0    3.0   38.0\n",
       "2      Sawyer      Wendy     sawyerwend   81.0   59.0   30.0\n",
       "3     Schultz     Marcus    schultzmarc   59.0   29.0   67.0\n",
       "4        Vega   Nicholas       veganich   64.0   12.0   95.0\n",
       "..        ...        ...            ...    ...    ...    ...\n",
       "95     Duncan     Andrew     duncanandr   59.0   87.0   34.0\n",
       "96       Bush  Alexander       bushalex   82.0   54.0   25.0\n",
       "97    Summers    Michael    summersmich   18.0   95.0   63.0\n",
       "98     Bowers     Sandra     bowerssand   52.0    8.0   50.0\n",
       "99  Fernandez   Jonathan  fernandezjona   74.0   80.0   22.0\n",
       "\n",
       "[100 rows x 6 columns]"
      ]
     },
     "metadata": {},
     "output_type": "display_data"
    }
   ],
   "source": [
    "conn = create_connection(db_file)\n",
    "\n",
    "\n",
    "sql_statement = \"SELECT * FROM Students\"\n",
    "df = pd.read_sql_query(sql_statement, conn)\n",
    "display(df)"
   ]
  },
  {
   "cell_type": "code",
   "execution_count": 48,
   "id": "febada6a",
   "metadata": {},
   "outputs": [
    {
     "data": {
      "text/plain": [
       "(1,)"
      ]
     },
     "execution_count": 48,
     "metadata": {},
     "output_type": "execute_result"
    }
   ],
   "source": [
    "(1,)"
   ]
  },
  {
   "cell_type": "code",
   "execution_count": 49,
   "id": "2ae37a59",
   "metadata": {},
   "outputs": [],
   "source": [
    "db = 'depts_students.db'\n",
    "if os.path.exists(db):\n",
    "    os.remove(db)\n",
    "\n",
    "create_table_departments_sql = \"\"\" CREATE TABLE [Departments] (\n",
    "    [DepartmentId] INTEGER  NOT NULL PRIMARY KEY,\n",
    "    [DepartmentName] TEXT \n",
    "); \"\"\"\n",
    "\n",
    "create_table_students_sql = \"\"\"CREATE TABLE [Students] (\n",
    "    [StudentId] INTEGER  PRIMARY KEY NOT NULL,\n",
    "    [StudentName] TEXT NOT NULL,\n",
    "    [DepartmentId] INTEGER,\n",
    "    [DateOfBirth] DATE,\n",
    "    FOREIGN KEY(DepartmentId) REFERENCES Departments(DepartmentId)\n",
    ");\"\"\"\n",
    "\n",
    "\n",
    "depts = ('IT', 'Physics', 'Arts', 'Math')\n",
    "\n",
    "students = (\n",
    "    ('Michael', 1, '1998-10-12'),\n",
    "    ('John', 1, '1998-10-12'),\n",
    "    ('Jack', 1, '1998-10-12'),\n",
    "    ('Sara', 2, '1998-10-12'),\n",
    "    ('Sally', 2, '1998-10-12'),\n",
    "    ('Jena', None, '1998-10-12'),\n",
    "    ('Nancy', 2, '1998-10-12'),\n",
    "    ('Adam', 3, '1998-10-12'),\n",
    "    ('Stevens', 3, '1998-10-12'),\n",
    "    ('George', None, '1998-10-12')\n",
    ")\n",
    "\n",
    "def insert_depts(conn, values):\n",
    "    sql = ''' INSERT INTO Departments(DepartmentName)\n",
    "              VALUES(?) '''\n",
    "    cur = conn.cursor()\n",
    "    cur.execute(sql, values)\n",
    "    return cur.lastrowid\n",
    "\n",
    "\n",
    "def insert_student(conn, values):\n",
    "    sql = ''' INSERT INTO Students(StudentName, DepartmentId, DateOfBirth)\n",
    "              VALUES(?,?,?) '''\n",
    "    cur = conn.cursor()\n",
    "    cur.execute(sql, values)\n",
    "    return cur.lastrowid\n",
    "\n",
    "conn = create_connection(db)\n",
    "\n",
    "with conn:\n",
    "\n",
    "    create_table(conn, create_table_departments_sql)\n",
    "    create_table(conn, create_table_students_sql)\n",
    "    for values in depts:\n",
    "        insert_depts(conn, (values, ))\n",
    "        \n",
    "    for values in students:\n",
    "        insert_student(conn, values)"
   ]
  },
  {
   "cell_type": "code",
   "execution_count": 50,
   "id": "45c85898",
   "metadata": {},
   "outputs": [
    {
     "name": "stdout",
     "output_type": "stream",
     "text": [
      "(1, 'IT')\n",
      "(2, 'Physics')\n",
      "(3, 'Arts')\n",
      "(4, 'Math')\n"
     ]
    }
   ],
   "source": [
    "cur = conn.cursor()\n",
    "cur.execute('SELECT * FROM Departments')\n",
    "for row in cur.fetchall():  \n",
    "    print(row)"
   ]
  },
  {
   "cell_type": "code",
   "execution_count": 51,
   "id": "846fcc11",
   "metadata": {},
   "outputs": [],
   "source": [
    "for row in cur.fetchall():\n",
    "    print(row)"
   ]
  },
  {
   "cell_type": "code",
   "execution_count": 52,
   "id": "1b8e9348",
   "metadata": {},
   "outputs": [
    {
     "name": "stdout",
     "output_type": "stream",
     "text": [
      "{'IT': 1, 'Physics': 2, 'Arts': 3, 'Math': 4}\n"
     ]
    }
   ],
   "source": [
    "cur = conn.cursor()\n",
    "cur.execute('SELECT * FROM Departments')\n",
    "dept_fk_lookup = {}\n",
    "for row in cur.fetchall():\n",
    "    key, text = row\n",
    "    dept_fk_lookup[text] = key\n",
    "print(dept_fk_lookup)"
   ]
  },
  {
   "cell_type": "code",
   "execution_count": 61,
   "id": "5f6dd1ce",
   "metadata": {},
   "outputs": [
    {
     "name": "stdout",
     "output_type": "stream",
     "text": [
      "BEFORE ['Michael', 'IT', '1998-10-12']\n",
      "key IT\n",
      "AFTER ['Michael', 1, '1998-10-12']\n",
      "BEFORE ['John', 'IT', '1998-10-12']\n",
      "key IT\n",
      "AFTER ['John', 1, '1998-10-12']\n",
      "BEFORE ['Jack', 'IT', '1998-10-12']\n",
      "key IT\n",
      "AFTER ['Jack', 1, '1998-10-12']\n",
      "BEFORE ['Sara', 'Physics', '1998-10-12']\n",
      "key Physics\n",
      "AFTER ['Sara', 2, '1998-10-12']\n",
      "BEFORE ['Sally', 'Physics', '1998-10-12']\n",
      "key Physics\n",
      "AFTER ['Sally', 2, '1998-10-12']\n",
      "BEFORE ['Jena', None, '1998-10-12']\n",
      "key None\n",
      "AFTER ['Jena', None, '1998-10-12']\n",
      "BEFORE ['Nancy', 'Physics', '1998-10-12']\n",
      "key Physics\n",
      "AFTER ['Nancy', 2, '1998-10-12']\n",
      "BEFORE ['Adam', 'Arts', '1998-10-12']\n",
      "key Arts\n",
      "AFTER ['Adam', 3, '1998-10-12']\n",
      "BEFORE ['Stevens', 'Arts', '1998-10-12']\n",
      "key Arts\n",
      "AFTER ['Stevens', 3, '1998-10-12']\n",
      "BEFORE ['George', None, '1998-10-12']\n",
      "key None\n",
      "AFTER ['George', None, '1998-10-12']\n"
     ]
    }
   ],
   "source": [
    "db = 'depts_students.db'\n",
    "if os.path.exists(db):\n",
    "    os.remove(db)\n",
    "\n",
    "create_table_departments_sql = \"\"\" CREATE TABLE [Departments] (\n",
    "    [DepartmentId] INTEGER  NOT NULL PRIMARY KEY,\n",
    "    [DepartmentName] TEXT \n",
    "); \"\"\"\n",
    "\n",
    "create_table_students_sql = \"\"\"CREATE TABLE [Students] (\n",
    "    [StudentId] INTEGER  PRIMARY KEY NOT NULL,\n",
    "    [StudentName] TEXT NOT NULL,\n",
    "    [DepartmentId] INTEGER,\n",
    "    [DateOfBirth] DATE,\n",
    "    FOREIGN KEY(DepartmentId) REFERENCES Departments(DepartmentId)\n",
    ");\"\"\"\n",
    "\n",
    "depts = ('IT', 'Physics', 'Arts', 'Math')\n",
    "students = (\n",
    "    ('Michael', 'IT', '1998-10-12'),\n",
    "    ('John', 'IT', '1998-10-12'),\n",
    "    ('Jack', 'IT', '1998-10-12'),\n",
    "    ('Sara', 'Physics', '1998-10-12'),\n",
    "    ('Sally', 'Physics', '1998-10-12'),\n",
    "    ('Jena', None, '1998-10-12'),\n",
    "    ('Nancy', 'Physics', '1998-10-12'),\n",
    "    ('Adam', 'Arts', '1998-10-12'),\n",
    "    ('Stevens', 'Arts', '1998-10-12'),\n",
    "    ('George', None, '1998-10-12')\n",
    ")\n",
    "\n",
    "conn = create_connection(db)\n",
    "with conn:\n",
    "\n",
    "    create_table(conn, create_table_departments_sql)\n",
    "    create_table(conn, create_table_students_sql)\n",
    "    for values in depts:\n",
    "        insert_depts(conn, (values, ))\n",
    "        \n",
    "    for values in students:\n",
    "        values = list(values)\n",
    "        print('BEFORE', values)\n",
    "        key = values[1]\n",
    "        print('key', key)\n",
    "        if key:\n",
    "            values[1] = dept_fk_lookup[values[1]]\n",
    "        print('AFTER',values)\n",
    "        insert_student(conn, values)"
   ]
  },
  {
   "cell_type": "code",
   "execution_count": 60,
   "id": "4a449bab",
   "metadata": {},
   "outputs": [
    {
     "ename": "FileNotFoundError",
     "evalue": "[WinError 2] The system cannot find the file specified: 'depts_students.db'",
     "output_type": "error",
     "traceback": [
      "\u001b[1;31m---------------------------------------------------------------------------\u001b[0m",
      "\u001b[1;31mFileNotFoundError\u001b[0m                         Traceback (most recent call last)",
      "\u001b[1;32m~\\AppData\\Local\\Temp\\ipykernel_21040\\4014881147.py\u001b[0m in \u001b[0;36m<module>\u001b[1;34m\u001b[0m\n\u001b[0;32m      1\u001b[0m \u001b[0mconn\u001b[0m\u001b[1;33m.\u001b[0m\u001b[0mclose\u001b[0m\u001b[1;33m(\u001b[0m\u001b[1;33m)\u001b[0m\u001b[1;33m\u001b[0m\u001b[1;33m\u001b[0m\u001b[0m\n\u001b[1;32m----> 2\u001b[1;33m \u001b[0mos\u001b[0m\u001b[1;33m.\u001b[0m\u001b[0mremove\u001b[0m\u001b[1;33m(\u001b[0m\u001b[0mdb\u001b[0m\u001b[1;33m)\u001b[0m\u001b[1;33m\u001b[0m\u001b[1;33m\u001b[0m\u001b[0m\n\u001b[0m",
      "\u001b[1;31mFileNotFoundError\u001b[0m: [WinError 2] The system cannot find the file specified: 'depts_students.db'"
     ]
    }
   ],
   "source": [
    "conn.close()\n",
    "os.remove(db)"
   ]
  },
  {
   "cell_type": "code",
   "execution_count": 62,
   "id": "484ba508",
   "metadata": {},
   "outputs": [],
   "source": [
    "import pandas as pd\n",
    "import sqlite3\n",
    "from sqlite3 import Error\n",
    "\n",
    "def create_connection(db_file, delete_db=False):\n",
    "    import os\n",
    "    if delete_db and os.path.exists(db_file):\n",
    "        os.remove(db_file)\n",
    "\n",
    "    conn = None\n",
    "    try:\n",
    "        conn = sqlite3.connect(db_file)\n",
    "        conn.execute(\"PRAGMA foreign_keys = 1\")\n",
    "    except Error as e:\n",
    "        print(e)\n",
    "\n",
    "    return conn\n",
    "\n",
    "\n",
    "def create_table(conn, create_table_sql):\n",
    "    try:\n",
    "        c = conn.cursor()\n",
    "        c.execute(create_table_sql)\n",
    "    except Error as e:\n",
    "        print(e)\n",
    "        \n",
    "def execute_sql_statement(sql_statement, conn):\n",
    "    cur = conn.cursor()\n",
    "    cur.execute(sql_statement)\n",
    "\n",
    "    rows = cur.fetchall()\n",
    "\n",
    "    return rows"
   ]
  },
  {
   "cell_type": "code",
   "execution_count": 63,
   "id": "fc9f93ce",
   "metadata": {},
   "outputs": [],
   "source": [
    "conn = create_connection('india_export.db')"
   ]
  },
  {
   "cell_type": "code",
   "execution_count": 66,
   "id": "c9d2871b",
   "metadata": {},
   "outputs": [
    {
     "name": "stdout",
     "output_type": "stream",
     "text": [
      "[2010, 2011, 2012, 2013, 2014, 2015, 2016, 2017, 2018]\n"
     ]
    }
   ],
   "source": [
    "# Get list of unique years\n",
    "\n",
    "sql_statement = \"SELECT DISTINCT year from export ORDER BY year\"\n",
    "\n",
    "years = execute_sql_statement(sql_statement, conn)\n",
    "years = list(map(lambda row: int(row[0]), years))\n",
    "print(years)"
   ]
  },
  {
   "cell_type": "code",
   "execution_count": 67,
   "id": "bc6165e1",
   "metadata": {},
   "outputs": [
    {
     "data": {
      "text/html": [
       "<div>\n",
       "<style scoped>\n",
       "    .dataframe tbody tr th:only-of-type {\n",
       "        vertical-align: middle;\n",
       "    }\n",
       "\n",
       "    .dataframe tbody tr th {\n",
       "        vertical-align: top;\n",
       "    }\n",
       "\n",
       "    .dataframe thead th {\n",
       "        text-align: right;\n",
       "    }\n",
       "</style>\n",
       "<table border=\"1\" class=\"dataframe\">\n",
       "  <thead>\n",
       "    <tr style=\"text-align: right;\">\n",
       "      <th></th>\n",
       "      <th>YEAR</th>\n",
       "    </tr>\n",
       "  </thead>\n",
       "  <tbody>\n",
       "  </tbody>\n",
       "</table>\n",
       "</div>"
      ],
      "text/plain": [
       "Empty DataFrame\n",
       "Columns: [YEAR]\n",
       "Index: []"
      ]
     },
     "metadata": {},
     "output_type": "display_data"
    }
   ],
   "source": [
    "create_table_sql = \"\"\"CREATE TABLE [Year] (\n",
    "    [YEAR] INTEGER NOT NULL PRIMARY KEY\n",
    ");\n",
    "\"\"\"\n",
    "# conn_norm.close()\n",
    "\n",
    "conn_norm = create_connection('india_export_norm.db', True)\n",
    "create_table(conn_norm, create_table_sql)\n",
    "sql_statement = \"SELECT * FROM Year\"\n",
    "df = pd.read_sql_query(sql_statement, conn_norm)\n",
    "display(df)\n",
    "conn_norm.close()"
   ]
  },
  {
   "cell_type": "code",
   "execution_count": 69,
   "id": "5825a764",
   "metadata": {},
   "outputs": [],
   "source": [
    "conn_norm = create_connection('india_export_norm.db')\n",
    "\n",
    "def insert_year(conn, values):\n",
    "    sql = ''' INSERT INTO YEAR(YEAR)\n",
    "              VALUES(?) '''\n",
    "    cur = conn.cursor()\n",
    "    cur.execute(sql, values)\n",
    "    return cur.lastrowid\n",
    "\n",
    "with conn_norm:\n",
    "    for year in years:\n",
    "        insert_year(conn_norm, (year, ))"
   ]
  },
  {
   "cell_type": "code",
   "execution_count": 70,
   "id": "2c98f0a3",
   "metadata": {},
   "outputs": [
    {
     "name": "stdout",
     "output_type": "stream",
     "text": [
      "table [Year] already exists\n"
     ]
    },
    {
     "data": {
      "text/html": [
       "<div>\n",
       "<style scoped>\n",
       "    .dataframe tbody tr th:only-of-type {\n",
       "        vertical-align: middle;\n",
       "    }\n",
       "\n",
       "    .dataframe tbody tr th {\n",
       "        vertical-align: top;\n",
       "    }\n",
       "\n",
       "    .dataframe thead th {\n",
       "        text-align: right;\n",
       "    }\n",
       "</style>\n",
       "<table border=\"1\" class=\"dataframe\">\n",
       "  <thead>\n",
       "    <tr style=\"text-align: right;\">\n",
       "      <th></th>\n",
       "      <th>YEAR</th>\n",
       "    </tr>\n",
       "  </thead>\n",
       "  <tbody>\n",
       "    <tr>\n",
       "      <th>0</th>\n",
       "      <td>2010</td>\n",
       "    </tr>\n",
       "    <tr>\n",
       "      <th>1</th>\n",
       "      <td>2011</td>\n",
       "    </tr>\n",
       "    <tr>\n",
       "      <th>2</th>\n",
       "      <td>2012</td>\n",
       "    </tr>\n",
       "    <tr>\n",
       "      <th>3</th>\n",
       "      <td>2013</td>\n",
       "    </tr>\n",
       "    <tr>\n",
       "      <th>4</th>\n",
       "      <td>2014</td>\n",
       "    </tr>\n",
       "    <tr>\n",
       "      <th>5</th>\n",
       "      <td>2015</td>\n",
       "    </tr>\n",
       "    <tr>\n",
       "      <th>6</th>\n",
       "      <td>2016</td>\n",
       "    </tr>\n",
       "    <tr>\n",
       "      <th>7</th>\n",
       "      <td>2017</td>\n",
       "    </tr>\n",
       "    <tr>\n",
       "      <th>8</th>\n",
       "      <td>2018</td>\n",
       "    </tr>\n",
       "  </tbody>\n",
       "</table>\n",
       "</div>"
      ],
      "text/plain": [
       "   YEAR\n",
       "0  2010\n",
       "1  2011\n",
       "2  2012\n",
       "3  2013\n",
       "4  2014\n",
       "5  2015\n",
       "6  2016\n",
       "7  2017\n",
       "8  2018"
      ]
     },
     "metadata": {},
     "output_type": "display_data"
    }
   ],
   "source": [
    "sql_statement = \"SELECT * FROM Year\"\n",
    "df = pd.read_sql_query(sql_statement, conn_norm)\n",
    "display(df)\n",
    "conn_norm.close()"
   ]
  },
  {
   "cell_type": "code",
   "execution_count": 71,
   "id": "013c6294",
   "metadata": {},
   "outputs": [],
   "source": [
    "conn = sqlite3.connect('all_players.db')"
   ]
  },
  {
   "cell_type": "code",
   "execution_count": 79,
   "id": "f32357b4",
   "metadata": {},
   "outputs": [
    {
     "data": {
      "text/plain": [
       "[('TB',),\n",
       " ('DC',),\n",
       " ('LA',),\n",
       " ('KC',),\n",
       " ('CLB',),\n",
       " ('SJ',),\n",
       " ('DAL',),\n",
       " ('MET',),\n",
       " ('COL',),\n",
       " ('NE',),\n",
       " ('MIA',),\n",
       " ('CHI',),\n",
       " ('RSL',),\n",
       " ('TOR',),\n",
       " ('CHV',),\n",
       " ('ATL',),\n",
       " ('LAFC',),\n",
       " ('HOU',),\n",
       " ('NY',),\n",
       " ('NSH',),\n",
       " ('PAN',),\n",
       " ('POR',),\n",
       " ('SKC',),\n",
       " ('SLV',),\n",
       " ('VAN',),\n",
       " ('SEA',),\n",
       " ('MIN',),\n",
       " ('HAI',),\n",
       " ('PHI',),\n",
       " ('USA',),\n",
       " ('ROC',),\n",
       " ('MTL',),\n",
       " ('ECU',),\n",
       " ('HON',),\n",
       " ('ORL',),\n",
       " ('CIN',),\n",
       " ('GHA',),\n",
       " ('MTQ',),\n",
       " ('JAM',),\n",
       " ('RBNY',),\n",
       " ('CAN',),\n",
       " ('NYC',),\n",
       " ('CIV',),\n",
       " ('NYR',),\n",
       " ('LFC',),\n",
       " ('MCF',)]"
      ]
     },
     "execution_count": 79,
     "metadata": {},
     "output_type": "execute_result"
    }
   ],
   "source": [
    "sql_statement = \"SELECT DISTINCT trim(CLUB) FROM players WHERE CLUB IS NOT NULL\"\n",
    "rows = execute_sql_statement(sql_statement, conn)\n",
    "rows"
   ]
  },
  {
   "cell_type": "code",
   "execution_count": 80,
   "id": "f514b62b",
   "metadata": {},
   "outputs": [
    {
     "name": "stdout",
     "output_type": "stream",
     "text": [
      "Counter({('TB',): 1, ('DC',): 1, ('LA',): 1, ('KC',): 1, ('CLB',): 1, ('SJ',): 1, ('DAL',): 1, ('MET',): 1, ('COL',): 1, ('NE',): 1, ('MIA',): 1, ('CHI',): 1, ('RSL',): 1, ('TOR',): 1, ('CHV',): 1, ('ATL',): 1, ('LAFC',): 1, ('HOU',): 1, ('NY',): 1, ('NSH',): 1, ('PAN',): 1, ('POR',): 1, ('SKC',): 1, ('SLV',): 1, ('VAN',): 1, ('SEA',): 1, ('MIN',): 1, ('HAI',): 1, ('PHI',): 1, ('USA',): 1, ('ROC',): 1, ('MTL',): 1, ('ECU',): 1, ('HON',): 1, ('ORL',): 1, ('CIN',): 1, ('GHA',): 1, ('MTQ',): 1, ('JAM',): 1, ('RBNY',): 1, ('CAN',): 1, ('NYC',): 1, ('CIV',): 1, ('NYR',): 1, ('LFC',): 1, ('MCF',): 1})\n"
     ]
    }
   ],
   "source": [
    "from collections import Counter\n",
    "\n",
    "counter = Counter(rows)\n",
    "print(counter)"
   ]
  },
  {
   "cell_type": "code",
   "execution_count": null,
   "id": "3b60d226",
   "metadata": {},
   "outputs": [],
   "source": []
  }
 ],
 "metadata": {
  "kernelspec": {
   "display_name": "Python 3 (ipykernel)",
   "language": "python",
   "name": "python3"
  },
  "language_info": {
   "codemirror_mode": {
    "name": "ipython",
    "version": 3
   },
   "file_extension": ".py",
   "mimetype": "text/x-python",
   "name": "python",
   "nbconvert_exporter": "python",
   "pygments_lexer": "ipython3",
   "version": "3.9.13"
  }
 },
 "nbformat": 4,
 "nbformat_minor": 5
}
