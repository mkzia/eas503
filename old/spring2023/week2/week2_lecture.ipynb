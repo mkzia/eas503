{
 "cells": [
  {
   "cell_type": "code",
   "execution_count": 1,
   "id": "29af7c0d",
   "metadata": {},
   "outputs": [],
   "source": [
    "x = 'EAS503'"
   ]
  },
  {
   "cell_type": "code",
   "execution_count": 2,
   "id": "a9de37f4",
   "metadata": {},
   "outputs": [
    {
     "name": "stdout",
     "output_type": "stream",
     "text": [
      "EAS503\n"
     ]
    }
   ],
   "source": [
    "print(x)"
   ]
  },
  {
   "cell_type": "code",
   "execution_count": 3,
   "id": "5d8ebf26",
   "metadata": {},
   "outputs": [],
   "source": [
    "x = \"EAS503\""
   ]
  },
  {
   "cell_type": "code",
   "execution_count": 10,
   "id": "386811a7",
   "metadata": {},
   "outputs": [
    {
     "name": "stdout",
     "output_type": "stream",
     "text": [
      "\n",
      "Should you want a string\n",
      "    that crosses multiple lines,\n",
      " Use matched triple quotes.\n"
     ]
    }
   ],
   "source": [
    "print('''\n",
    "Should you want a string\n",
    "    that crosses multiple lines,\n",
    " Use matched triple quotes.''')"
   ]
  },
  {
   "cell_type": "code",
   "execution_count": 5,
   "id": "81209aa2",
   "metadata": {},
   "outputs": [
    {
     "data": {
      "text/plain": [
       "True"
      ]
     },
     "execution_count": 5,
     "metadata": {},
     "output_type": "execute_result"
    }
   ],
   "source": [
    "bool('False')"
   ]
  },
  {
   "cell_type": "code",
   "execution_count": 6,
   "id": "d2157f2f",
   "metadata": {},
   "outputs": [
    {
     "data": {
      "text/plain": [
       "True"
      ]
     },
     "execution_count": 6,
     "metadata": {},
     "output_type": "execute_result"
    }
   ],
   "source": [
    "bool('True')"
   ]
  },
  {
   "cell_type": "code",
   "execution_count": 7,
   "id": "4d0be4a1",
   "metadata": {},
   "outputs": [
    {
     "data": {
      "text/plain": [
       "False"
      ]
     },
     "execution_count": 7,
     "metadata": {},
     "output_type": "execute_result"
    }
   ],
   "source": [
    "bool(0)"
   ]
  },
  {
   "cell_type": "code",
   "execution_count": 8,
   "id": "a1a1246d",
   "metadata": {},
   "outputs": [
    {
     "data": {
      "text/plain": [
       "True"
      ]
     },
     "execution_count": 8,
     "metadata": {},
     "output_type": "execute_result"
    }
   ],
   "source": [
    "bool(1)"
   ]
  },
  {
   "cell_type": "code",
   "execution_count": 13,
   "id": "b3f2673c",
   "metadata": {},
   "outputs": [
    {
     "name": "stdout",
     "output_type": "stream",
     "text": [
      "abbcd 2 3 34.3\n"
     ]
    }
   ],
   "source": [
    "print('abbcd', 2, 3, 34.3)"
   ]
  },
  {
   "cell_type": "code",
   "execution_count": 14,
   "id": "19eb8079",
   "metadata": {},
   "outputs": [
    {
     "name": "stdout",
     "output_type": "stream",
     "text": [
      "abbcd---2---3---34.3\n"
     ]
    }
   ],
   "source": [
    "print('abbcd', 2, 3, 34.3, sep='---')"
   ]
  },
  {
   "cell_type": "code",
   "execution_count": 15,
   "id": "2551116c",
   "metadata": {},
   "outputs": [
    {
     "name": "stdout",
     "output_type": "stream",
     "text": [
      "abbcd\n",
      "2\n",
      "3\n",
      "34.3\n"
     ]
    }
   ],
   "source": [
    "print('abbcd', 2, 3, 34.3, sep='\\n')"
   ]
  },
  {
   "cell_type": "code",
   "execution_count": 16,
   "id": "e80bc9e9",
   "metadata": {},
   "outputs": [
    {
     "name": "stdout",
     "output_type": "stream",
     "text": [
      "abbcd\t2\t3\t34.3\n"
     ]
    }
   ],
   "source": [
    "print('abbcd', 2, 3, 34.3, sep='\\t')"
   ]
  },
  {
   "cell_type": "code",
   "execution_count": 17,
   "id": "d450d73b",
   "metadata": {},
   "outputs": [
    {
     "name": "stdout",
     "output_type": "stream",
     "text": [
      "1900, 1920, 1930, 1940\n"
     ]
    }
   ],
   "source": [
    "print(1900, 1920, 1930, 1940, sep=', ')"
   ]
  },
  {
   "cell_type": "code",
   "execution_count": 22,
   "id": "34005a6b",
   "metadata": {},
   "outputs": [
    {
     "name": "stdout",
     "output_type": "stream",
     "text": [
      "1 2\n"
     ]
    }
   ],
   "source": [
    "def add(x, y):\n",
    "    print(x, y)\n",
    "    return x + y\n",
    "    \n",
    "return_value = add(1, 2)"
   ]
  },
  {
   "cell_type": "code",
   "execution_count": 23,
   "id": "40775f57",
   "metadata": {},
   "outputs": [
    {
     "name": "stdout",
     "output_type": "stream",
     "text": [
      "3\n"
     ]
    }
   ],
   "source": [
    "print(return_value)"
   ]
  },
  {
   "cell_type": "code",
   "execution_count": 24,
   "id": "56a691a8",
   "metadata": {},
   "outputs": [
    {
     "name": "stdout",
     "output_type": "stream",
     "text": [
      "12\n"
     ]
    }
   ],
   "source": [
    "scientist = 'Issac Newton'\n",
    "print(len(scientist))"
   ]
  },
  {
   "cell_type": "code",
   "execution_count": 25,
   "id": "277700e6",
   "metadata": {},
   "outputs": [
    {
     "name": "stdout",
     "output_type": "stream",
     "text": [
      "8 10\n"
     ]
    }
   ],
   "source": [
    "mrn1 = '12345678'\n",
    "mrn2 = '1233456790'\n",
    "print(len(mrn1), len(mrn2))"
   ]
  },
  {
   "cell_type": "code",
   "execution_count": 26,
   "id": "e8dad569",
   "metadata": {},
   "outputs": [
    {
     "data": {
      "text/plain": [
       "0"
      ]
     },
     "execution_count": 26,
     "metadata": {},
     "output_type": "execute_result"
    }
   ],
   "source": [
    "len('')"
   ]
  },
  {
   "cell_type": "code",
   "execution_count": 27,
   "id": "1ec9a5cc",
   "metadata": {},
   "outputs": [
    {
     "data": {
      "text/plain": [
       "1"
      ]
     },
     "execution_count": 27,
     "metadata": {},
     "output_type": "execute_result"
    }
   ],
   "source": [
    "len(' ')"
   ]
  },
  {
   "cell_type": "code",
   "execution_count": 28,
   "id": "4a37e253",
   "metadata": {},
   "outputs": [
    {
     "data": {
      "text/plain": [
       "1"
      ]
     },
     "execution_count": 28,
     "metadata": {},
     "output_type": "execute_result"
    }
   ],
   "source": [
    "len('\\n')"
   ]
  },
  {
   "cell_type": "code",
   "execution_count": 29,
   "id": "1ca1a812",
   "metadata": {},
   "outputs": [
    {
     "data": {
      "text/plain": [
       "'Alan TurningGrace Hopper'"
      ]
     },
     "execution_count": 29,
     "metadata": {},
     "output_type": "execute_result"
    }
   ],
   "source": [
    "'Alan Turning' +  'Grace Hopper'"
   ]
  },
  {
   "cell_type": "code",
   "execution_count": 30,
   "id": "0d8f368f",
   "metadata": {},
   "outputs": [
    {
     "data": {
      "text/plain": [
       "'Alan Turning Grace Hopper'"
      ]
     },
     "execution_count": 30,
     "metadata": {},
     "output_type": "execute_result"
    }
   ],
   "source": [
    "'Alan Turning' + ' ' + 'Grace Hopper'"
   ]
  },
  {
   "cell_type": "code",
   "execution_count": 31,
   "id": "4d6cb97b",
   "metadata": {},
   "outputs": [
    {
     "data": {
      "text/plain": [
       "'Alan Turning, Grace Hopper'"
      ]
     },
     "execution_count": 31,
     "metadata": {},
     "output_type": "execute_result"
    }
   ],
   "source": [
    "'Alan Turning' + ', ' + 'Grace Hopper'"
   ]
  },
  {
   "cell_type": "code",
   "execution_count": 32,
   "id": "8fe085d9",
   "metadata": {},
   "outputs": [
    {
     "ename": "TypeError",
     "evalue": "can only concatenate str (not \"int\") to str",
     "output_type": "error",
     "traceback": [
      "\u001b[1;31m---------------------------------------------------------------------------\u001b[0m",
      "\u001b[1;31mTypeError\u001b[0m                                 Traceback (most recent call last)",
      "\u001b[1;32m~\\AppData\\Local\\Temp\\ipykernel_21792\\2249529199.py\u001b[0m in \u001b[0;36m<module>\u001b[1;34m\u001b[0m\n\u001b[1;32m----> 1\u001b[1;33m \u001b[1;34m'NH'\u001b[0m \u001b[1;33m+\u001b[0m \u001b[1;36m3\u001b[0m\u001b[1;33m\u001b[0m\u001b[1;33m\u001b[0m\u001b[0m\n\u001b[0m",
      "\u001b[1;31mTypeError\u001b[0m: can only concatenate str (not \"int\") to str"
     ]
    }
   ],
   "source": [
    "'NH' + 3"
   ]
  },
  {
   "cell_type": "code",
   "execution_count": 33,
   "id": "b6da825f",
   "metadata": {},
   "outputs": [
    {
     "ename": "TypeError",
     "evalue": "can only concatenate str (not \"int\") to str",
     "output_type": "error",
     "traceback": [
      "\u001b[1;31m---------------------------------------------------------------------------\u001b[0m",
      "\u001b[1;31mTypeError\u001b[0m                                 Traceback (most recent call last)",
      "\u001b[1;32m~\\AppData\\Local\\Temp\\ipykernel_21792\\1875980761.py\u001b[0m in \u001b[0;36m<module>\u001b[1;34m\u001b[0m\n\u001b[0;32m      1\u001b[0m \u001b[0mmy_int\u001b[0m \u001b[1;33m=\u001b[0m \u001b[1;36m7\u001b[0m\u001b[1;33m\u001b[0m\u001b[1;33m\u001b[0m\u001b[0m\n\u001b[1;32m----> 2\u001b[1;33m \u001b[1;34m'Four score and '\u001b[0m \u001b[1;33m+\u001b[0m \u001b[0mmy_int\u001b[0m \u001b[1;33m+\u001b[0m \u001b[1;34m' years ago'\u001b[0m\u001b[1;33m\u001b[0m\u001b[1;33m\u001b[0m\u001b[0m\n\u001b[0m",
      "\u001b[1;31mTypeError\u001b[0m: can only concatenate str (not \"int\") to str"
     ]
    }
   ],
   "source": [
    "my_int = 7\n",
    "'Four score and ' + my_int + ' years ago'"
   ]
  },
  {
   "cell_type": "code",
   "execution_count": 34,
   "id": "e9ea5d79",
   "metadata": {},
   "outputs": [
    {
     "data": {
      "text/plain": [
       "'Four score and 7 years ago'"
      ]
     },
     "execution_count": 34,
     "metadata": {},
     "output_type": "execute_result"
    }
   ],
   "source": [
    "'Four score and ' + str(my_int) + ' years ago'"
   ]
  },
  {
   "cell_type": "code",
   "execution_count": 35,
   "id": "6bc37ccc",
   "metadata": {},
   "outputs": [
    {
     "ename": "ValueError",
     "evalue": "invalid literal for int() with base 10: '-324.40'",
     "output_type": "error",
     "traceback": [
      "\u001b[1;31m---------------------------------------------------------------------------\u001b[0m",
      "\u001b[1;31mValueError\u001b[0m                                Traceback (most recent call last)",
      "\u001b[1;32m~\\AppData\\Local\\Temp\\ipykernel_21792\\1452151595.py\u001b[0m in \u001b[0;36m<module>\u001b[1;34m\u001b[0m\n\u001b[1;32m----> 1\u001b[1;33m \u001b[0mint\u001b[0m\u001b[1;33m(\u001b[0m\u001b[1;34m'-324.40'\u001b[0m\u001b[1;33m)\u001b[0m\u001b[1;33m\u001b[0m\u001b[1;33m\u001b[0m\u001b[0m\n\u001b[0m",
      "\u001b[1;31mValueError\u001b[0m: invalid literal for int() with base 10: '-324.40'"
     ]
    }
   ],
   "source": [
    "int('-324.40')"
   ]
  },
  {
   "cell_type": "code",
   "execution_count": 36,
   "id": "91352b3a",
   "metadata": {},
   "outputs": [
    {
     "data": {
      "text/plain": [
       "324"
      ]
     },
     "execution_count": 36,
     "metadata": {},
     "output_type": "execute_result"
    }
   ],
   "source": [
    "int(324.40)"
   ]
  },
  {
   "cell_type": "code",
   "execution_count": 37,
   "id": "265a2cf0",
   "metadata": {},
   "outputs": [
    {
     "data": {
      "text/plain": [
       "'ATATATATAT'"
      ]
     },
     "execution_count": 37,
     "metadata": {},
     "output_type": "execute_result"
    }
   ],
   "source": [
    "'AT' * 5"
   ]
  },
  {
   "cell_type": "code",
   "execution_count": 38,
   "id": "84f46bdc",
   "metadata": {},
   "outputs": [
    {
     "data": {
      "text/plain": [
       "'-----'"
      ]
     },
     "execution_count": 38,
     "metadata": {},
     "output_type": "execute_result"
    }
   ],
   "source": [
    "'-' * 5"
   ]
  },
  {
   "cell_type": "code",
   "execution_count": 40,
   "id": "1c84320f",
   "metadata": {},
   "outputs": [
    {
     "name": "stdout",
     "output_type": "stream",
     "text": [
      "--------------------------------------------------------------------------------\n",
      "John Doe\n",
      "--------------------------------------------------------------------------------\n",
      "Jane doe\n"
     ]
    }
   ],
   "source": [
    "print('-'*80)\n",
    "print('John Doe')\n",
    "print('-'*80)\n",
    "print('Jane doe')"
   ]
  },
  {
   "cell_type": "code",
   "execution_count": 145,
   "id": "db79d2e0",
   "metadata": {},
   "outputs": [
    {
     "data": {
      "text/plain": [
       "'*****'"
      ]
     },
     "execution_count": 145,
     "metadata": {},
     "output_type": "execute_result"
    }
   ],
   "source": [
    "from IPython.core.interactiveshell import InteractiveShell\n",
    "InteractiveShell.ast_node_interactivity = \"last_expr\"\n",
    "'-' * 5\n",
    "'*' * 5"
   ]
  },
  {
   "cell_type": "code",
   "execution_count": 44,
   "id": "29017fc7",
   "metadata": {},
   "outputs": [
    {
     "data": {
      "text/plain": [
       "'x\\ny'"
      ]
     },
     "execution_count": 44,
     "metadata": {},
     "output_type": "execute_result"
    }
   ],
   "source": [
    "'x\\ny'"
   ]
  },
  {
   "cell_type": "code",
   "execution_count": 45,
   "id": "8cd1c3e5",
   "metadata": {},
   "outputs": [
    {
     "name": "stdout",
     "output_type": "stream",
     "text": [
      "x\n",
      "y\n"
     ]
    }
   ],
   "source": [
    "print('x\\ny')"
   ]
  },
  {
   "cell_type": "code",
   "execution_count": 47,
   "id": "11ea943f",
   "metadata": {},
   "outputs": [
    {
     "data": {
      "text/plain": [
       "\"I can't do this\""
      ]
     },
     "execution_count": 47,
     "metadata": {},
     "output_type": "execute_result"
    }
   ],
   "source": [
    "'I can\\'t do this'"
   ]
  },
  {
   "cell_type": "code",
   "execution_count": 48,
   "id": "09c8197b",
   "metadata": {},
   "outputs": [
    {
     "data": {
      "text/plain": [
       "'x\\ty'"
      ]
     },
     "execution_count": 48,
     "metadata": {},
     "output_type": "execute_result"
    }
   ],
   "source": [
    "'x\\ty'"
   ]
  },
  {
   "cell_type": "code",
   "execution_count": 50,
   "id": "46d542cb",
   "metadata": {},
   "outputs": [
    {
     "name": "stdout",
     "output_type": "stream",
     "text": [
      "x\\y\n"
     ]
    }
   ],
   "source": [
    "print('x\\\\y')"
   ]
  },
  {
   "cell_type": "code",
   "execution_count": 52,
   "id": "57ae1cc1",
   "metadata": {},
   "outputs": [
    {
     "ename": "SyntaxError",
     "evalue": "invalid syntax (51601139.py, line 1)",
     "output_type": "error",
     "traceback": [
      "\u001b[1;36m  File \u001b[1;32m\"C:\\Users\\mkhaw\\AppData\\Local\\Temp\\ipykernel_21792\\51601139.py\"\u001b[1;36m, line \u001b[1;32m1\u001b[0m\n\u001b[1;33m    `I can't do this`\u001b[0m\n\u001b[1;37m    ^\u001b[0m\n\u001b[1;31mSyntaxError\u001b[0m\u001b[1;31m:\u001b[0m invalid syntax\n"
     ]
    }
   ],
   "source": [
    "`I can't do this`"
   ]
  },
  {
   "cell_type": "code",
   "execution_count": 53,
   "id": "af7e7529",
   "metadata": {},
   "outputs": [
    {
     "name": "stdout",
     "output_type": "stream",
     "text": [
      "1\t2\n"
     ]
    }
   ],
   "source": [
    "print('1\\t2')"
   ]
  },
  {
   "cell_type": "code",
   "execution_count": null,
   "id": "b22d3b3c",
   "metadata": {},
   "outputs": [],
   "source": [
    "def add(x,y):\n",
    "    return x + y\n",
    "\n",
    "add(1, 2)"
   ]
  },
  {
   "cell_type": "code",
   "execution_count": 57,
   "id": "0dc71529",
   "metadata": {},
   "outputs": [
    {
     "name": "stdout",
     "output_type": "stream",
     "text": [
      "Please enter a number: 5\n"
     ]
    }
   ],
   "source": [
    "number = input('Please enter a number: ')"
   ]
  },
  {
   "cell_type": "code",
   "execution_count": 58,
   "id": "7683350e",
   "metadata": {},
   "outputs": [
    {
     "data": {
      "text/plain": [
       "str"
      ]
     },
     "execution_count": 58,
     "metadata": {},
     "output_type": "execute_result"
    }
   ],
   "source": [
    "type(number)"
   ]
  },
  {
   "cell_type": "code",
   "execution_count": 60,
   "id": "eb677292",
   "metadata": {},
   "outputs": [
    {
     "name": "stdout",
     "output_type": "stream",
     "text": [
      "Please enter a number: 5\n"
     ]
    }
   ],
   "source": [
    "number = int(input('Please enter a number: '))"
   ]
  },
  {
   "cell_type": "code",
   "execution_count": 61,
   "id": "3dbb5808",
   "metadata": {},
   "outputs": [
    {
     "data": {
      "text/plain": [
       "int"
      ]
     },
     "execution_count": 61,
     "metadata": {},
     "output_type": "execute_result"
    }
   ],
   "source": [
    "type(number)"
   ]
  },
  {
   "cell_type": "code",
   "execution_count": 63,
   "id": "4051d209",
   "metadata": {},
   "outputs": [
    {
     "name": "stdout",
     "output_type": "stream",
     "text": [
      "Please enter a number: 3.14\n"
     ]
    },
    {
     "ename": "ValueError",
     "evalue": "invalid literal for int() with base 10: '3.14'",
     "output_type": "error",
     "traceback": [
      "\u001b[1;31m---------------------------------------------------------------------------\u001b[0m",
      "\u001b[1;31mValueError\u001b[0m                                Traceback (most recent call last)",
      "\u001b[1;32m~\\AppData\\Local\\Temp\\ipykernel_21792\\118622374.py\u001b[0m in \u001b[0;36m<module>\u001b[1;34m\u001b[0m\n\u001b[1;32m----> 1\u001b[1;33m \u001b[0mnumber\u001b[0m \u001b[1;33m=\u001b[0m \u001b[0mint\u001b[0m\u001b[1;33m(\u001b[0m\u001b[0minput\u001b[0m\u001b[1;33m(\u001b[0m\u001b[1;34m'Please enter a number: '\u001b[0m\u001b[1;33m)\u001b[0m\u001b[1;33m)\u001b[0m\u001b[1;33m\u001b[0m\u001b[1;33m\u001b[0m\u001b[0m\n\u001b[0m",
      "\u001b[1;31mValueError\u001b[0m: invalid literal for int() with base 10: '3.14'"
     ]
    }
   ],
   "source": [
    "number = int(input('Please enter a number: '))"
   ]
  },
  {
   "cell_type": "code",
   "execution_count": 64,
   "id": "b5a2a8ad",
   "metadata": {},
   "outputs": [
    {
     "name": "stdout",
     "output_type": "stream",
     "text": [
      "Please enter a number: lol\n"
     ]
    },
    {
     "ename": "ValueError",
     "evalue": "invalid literal for int() with base 10: 'lol'",
     "output_type": "error",
     "traceback": [
      "\u001b[1;31m---------------------------------------------------------------------------\u001b[0m",
      "\u001b[1;31mValueError\u001b[0m                                Traceback (most recent call last)",
      "\u001b[1;32m~\\AppData\\Local\\Temp\\ipykernel_21792\\118622374.py\u001b[0m in \u001b[0;36m<module>\u001b[1;34m\u001b[0m\n\u001b[1;32m----> 1\u001b[1;33m \u001b[0mnumber\u001b[0m \u001b[1;33m=\u001b[0m \u001b[0mint\u001b[0m\u001b[1;33m(\u001b[0m\u001b[0minput\u001b[0m\u001b[1;33m(\u001b[0m\u001b[1;34m'Please enter a number: '\u001b[0m\u001b[1;33m)\u001b[0m\u001b[1;33m)\u001b[0m\u001b[1;33m\u001b[0m\u001b[1;33m\u001b[0m\u001b[0m\n\u001b[0m",
      "\u001b[1;31mValueError\u001b[0m: invalid literal for int() with base 10: 'lol'"
     ]
    }
   ],
   "source": [
    "number = int(input('Please enter a number: '))"
   ]
  },
  {
   "cell_type": "code",
   "execution_count": 65,
   "id": "cbc54807",
   "metadata": {},
   "outputs": [],
   "source": [
    "def convert_celsius():\n",
    "    fahrenheit = float(input('Please enter temperature in Fahrenheit: '))\n",
    "    celsius =  (fahrenheit - 32.0) * 5.0 / 9.0  \n",
    "    print('The temperature in celsius is: ', celsius) "
   ]
  },
  {
   "cell_type": "code",
   "execution_count": 67,
   "id": "2b939612",
   "metadata": {},
   "outputs": [
    {
     "name": "stdout",
     "output_type": "stream",
     "text": [
      "Please enter temperature in Fahrenheit: 32\n",
      "The temperature in celsius is:  0.0\n"
     ]
    }
   ],
   "source": [
    "convert_celsius()"
   ]
  },
  {
   "cell_type": "code",
   "execution_count": 68,
   "id": "300d20fe",
   "metadata": {},
   "outputs": [
    {
     "name": "stdout",
     "output_type": "stream",
     "text": [
      "Please enter temperature in Fahrenheit: 212\n",
      "The temperature in celsius is:  100.0\n"
     ]
    }
   ],
   "source": [
    "convert_celsius()"
   ]
  },
  {
   "cell_type": "code",
   "execution_count": 69,
   "id": "ec8d6b02",
   "metadata": {},
   "outputs": [
    {
     "name": "stdout",
     "output_type": "stream",
     "text": [
      "3.14\n"
     ]
    }
   ],
   "source": [
    "PI = 3.14159265359 \n",
    "print(f'{PI:.2f}')"
   ]
  },
  {
   "cell_type": "code",
   "execution_count": null,
   "id": "2a18015a",
   "metadata": {},
   "outputs": [],
   "source": [
    "x = '123'"
   ]
  },
  {
   "cell_type": "code",
   "execution_count": null,
   "id": "e7c3512e",
   "metadata": {},
   "outputs": [],
   "source": [
    "{<index/expression>:<format-specifier>} \n",
    "<padding_character><alignment><width>.<comma><precision><type>"
   ]
  },
  {
   "cell_type": "code",
   "execution_count": 81,
   "id": "250704b6",
   "metadata": {},
   "outputs": [
    {
     "data": {
      "text/plain": [
       "'64'"
      ]
     },
     "execution_count": 81,
     "metadata": {},
     "output_type": "execute_result"
    }
   ],
   "source": [
    "f'{pow(2*4, 2)}'"
   ]
  },
  {
   "cell_type": "code",
   "execution_count": null,
   "id": "a16fb430",
   "metadata": {},
   "outputs": [],
   "source": [
    "PI = 3.14159265359 \n",
    "name = 'PI'\n",
    "# {<name_of_variable>:<format-specifier>} where the format specifier is <width>.<precision><type>\n",
    "print(f'{name} is {PI:.2f}') # newest way"
   ]
  },
  {
   "cell_type": "code",
   "execution_count": 71,
   "id": "26568915",
   "metadata": {},
   "outputs": [
    {
     "name": "stdout",
     "output_type": "stream",
     "text": [
      "The course number is EAS503. It has 113 students.\n",
      "The course number is EAS503. It has 113 students.\n"
     ]
    }
   ],
   "source": [
    "course_number = 'EAS503'\n",
    "class_size = 113\n",
    "class_average = 92.3\n",
    "str_format = 'The course number is {}. It has {} students.'.format(course_number, class_size)\n",
    "f_string = f'The course number is {course_number}. It has {class_size} students.'\n",
    "\n",
    "print(str_format)\n",
    "print(f_string)"
   ]
  },
  {
   "cell_type": "code",
   "execution_count": 72,
   "id": "7b2acabc",
   "metadata": {},
   "outputs": [
    {
     "name": "stdout",
     "output_type": "stream",
     "text": [
      "The course number is EAS503. It has 113 students.\n"
     ]
    }
   ],
   "source": [
    "str_format = 'The course number is {0}. It has {1} students.'.format(course_number, class_size)\n",
    "print(str_format)"
   ]
  },
  {
   "cell_type": "code",
   "execution_count": 73,
   "id": "1080ab0b",
   "metadata": {},
   "outputs": [
    {
     "name": "stdout",
     "output_type": "stream",
     "text": [
      "The course number is 113. It has EAS503 students.\n"
     ]
    }
   ],
   "source": [
    "str_format = 'The course number is {1}. It has {0} students.'.format(course_number, class_size)\n",
    "print(str_format)"
   ]
  },
  {
   "cell_type": "code",
   "execution_count": 74,
   "id": "f77db105",
   "metadata": {},
   "outputs": [
    {
     "ename": "IndexError",
     "evalue": "Replacement index 2 out of range for positional args tuple",
     "output_type": "error",
     "traceback": [
      "\u001b[1;31m---------------------------------------------------------------------------\u001b[0m",
      "\u001b[1;31mIndexError\u001b[0m                                Traceback (most recent call last)",
      "\u001b[1;32m~\\AppData\\Local\\Temp\\ipykernel_21792\\418625909.py\u001b[0m in \u001b[0;36m<module>\u001b[1;34m\u001b[0m\n\u001b[1;32m----> 1\u001b[1;33m \u001b[0mstr_format\u001b[0m \u001b[1;33m=\u001b[0m \u001b[1;34m'The course number is {}. It has {} students. {}{}'\u001b[0m\u001b[1;33m.\u001b[0m\u001b[0mformat\u001b[0m\u001b[1;33m(\u001b[0m\u001b[0mcourse_number\u001b[0m\u001b[1;33m,\u001b[0m \u001b[0mclass_size\u001b[0m\u001b[1;33m)\u001b[0m\u001b[1;33m\u001b[0m\u001b[1;33m\u001b[0m\u001b[0m\n\u001b[0m",
      "\u001b[1;31mIndexError\u001b[0m: Replacement index 2 out of range for positional args tuple"
     ]
    }
   ],
   "source": [
    "str_format = 'The course number is {}. It has {} students. {}{}'.format(course_number, class_size)\n"
   ]
  },
  {
   "cell_type": "code",
   "execution_count": 77,
   "id": "5f616358",
   "metadata": {},
   "outputs": [
    {
     "name": "stdout",
     "output_type": "stream",
     "text": [
      "The course number is EAS503. It has 113 students. 3--4\n"
     ]
    }
   ],
   "source": [
    "str_format = 'The course number is {}. It has {} students. {}--{}'.format(course_number, class_size, 3, 4, 5)\n",
    "print(str_format)"
   ]
  },
  {
   "cell_type": "code",
   "execution_count": 78,
   "id": "552a0ec5",
   "metadata": {},
   "outputs": [
    {
     "ename": "ValueError",
     "evalue": "cannot switch from manual field specification to automatic field numbering",
     "output_type": "error",
     "traceback": [
      "\u001b[1;31m---------------------------------------------------------------------------\u001b[0m",
      "\u001b[1;31mValueError\u001b[0m                                Traceback (most recent call last)",
      "\u001b[1;32m~\\AppData\\Local\\Temp\\ipykernel_21792\\898943839.py\u001b[0m in \u001b[0;36m<module>\u001b[1;34m\u001b[0m\n\u001b[1;32m----> 1\u001b[1;33m \u001b[0mstr_format\u001b[0m \u001b[1;33m=\u001b[0m \u001b[1;34m'The course number is {1}. It has {0} students. {}--{}'\u001b[0m\u001b[1;33m.\u001b[0m\u001b[0mformat\u001b[0m\u001b[1;33m(\u001b[0m\u001b[0mcourse_number\u001b[0m\u001b[1;33m,\u001b[0m \u001b[0mclass_size\u001b[0m\u001b[1;33m,\u001b[0m \u001b[1;36m3\u001b[0m\u001b[1;33m,\u001b[0m \u001b[1;36m4\u001b[0m\u001b[1;33m,\u001b[0m \u001b[1;36m5\u001b[0m\u001b[1;33m)\u001b[0m\u001b[1;33m\u001b[0m\u001b[1;33m\u001b[0m\u001b[0m\n\u001b[0m\u001b[0;32m      2\u001b[0m \u001b[0mprint\u001b[0m\u001b[1;33m(\u001b[0m\u001b[0mstr_format\u001b[0m\u001b[1;33m)\u001b[0m\u001b[1;33m\u001b[0m\u001b[1;33m\u001b[0m\u001b[0m\n",
      "\u001b[1;31mValueError\u001b[0m: cannot switch from manual field specification to automatic field numbering"
     ]
    }
   ],
   "source": [
    "str_format = 'The course number is {1}. It has {0} students. {}--{}'.format(\n",
    "    course_number, class_size, 3, 4, 5)\n",
    "print(str_format)"
   ]
  },
  {
   "cell_type": "code",
   "execution_count": 83,
   "id": "a8b0add8",
   "metadata": {},
   "outputs": [
    {
     "data": {
      "text/plain": [
       "'3.142'"
      ]
     },
     "execution_count": 83,
     "metadata": {},
     "output_type": "execute_result"
    }
   ],
   "source": [
    "f'{PI:.3f}'"
   ]
  },
  {
   "cell_type": "code",
   "execution_count": 84,
   "id": "a13b2e34",
   "metadata": {},
   "outputs": [
    {
     "name": "stdout",
     "output_type": "stream",
     "text": [
      "The course number is EAS503    . It has        113 students. The class average is       92.3.\n",
      "The course number is EAS503    . It has        113 students. The class average is       92.3.\n"
     ]
    }
   ],
   "source": [
    "course_number = 'EAS503'\n",
    "class_size = 113\n",
    "class_average = 92.3\n",
    "str_format = 'The course number is {0:10}. It has {1:10} students. The class average is {2:10}.'.format(course_number, class_size, class_average)\n",
    "f_string = f'The course number is {course_number:10}. It has {class_size:10} students. The class average is {class_average:10}.'\n",
    "\n",
    "print(str_format)\n",
    "print(f_string)"
   ]
  },
  {
   "cell_type": "code",
   "execution_count": 85,
   "id": "952e79df",
   "metadata": {},
   "outputs": [
    {
     "name": "stdout",
     "output_type": "stream",
     "text": [
      "EAS503    \n",
      "----------\n"
     ]
    }
   ],
   "source": [
    "x = 'EAS503'\n",
    "print(f'{x:10}')\n",
    "print('-'*10)"
   ]
  },
  {
   "cell_type": "code",
   "execution_count": 86,
   "id": "eac5f5f4",
   "metadata": {},
   "outputs": [
    {
     "name": "stdout",
     "output_type": "stream",
     "text": [
      "The course number is     EAS503. It has        113 students. The class average is       92.3.\n",
      "The course number is     EAS503. It has        113 students. The class average is       92.3.\n"
     ]
    }
   ],
   "source": [
    "course_number = 'EAS503'\n",
    "class_size = 113\n",
    "class_average = 92.3\n",
    "str_format = 'The course number is {0:>10}. It has {1:>10} students. The class average is {2:>10}.'.format(course_number, class_size, class_average)\n",
    "f_string = f'The course number is {course_number:>10}. It has {class_size:>10} students. The class average is {class_average:>10}.'\n",
    "\n",
    "print(str_format)\n",
    "print(f_string)"
   ]
  },
  {
   "cell_type": "code",
   "execution_count": 87,
   "id": "665edfc1",
   "metadata": {},
   "outputs": [
    {
     "name": "stdout",
     "output_type": "stream",
     "text": [
      "The number padded 223333 padded with zeros 00223333\n",
      "The number padded 223333 padded with zeros 00223333\n"
     ]
    }
   ],
   "source": [
    "student_id = 223333\n",
    "\n",
    "str_format = 'The number padded {} padded with zeros {:08}'.format(student_id, student_id)\n",
    "f_string = f'The number padded {student_id} padded with zeros {student_id:08}'\n",
    "\n",
    "print(str_format)\n",
    "print(f_string)"
   ]
  },
  {
   "cell_type": "code",
   "execution_count": 89,
   "id": "cf4332c6",
   "metadata": {},
   "outputs": [
    {
     "name": "stdout",
     "output_type": "stream",
     "text": [
      "The number padded 223333 padded with zeros 223333**\n",
      "The number padded 223333 padded with zeros 223333**\n"
     ]
    }
   ],
   "source": [
    "student_id = 223333\n",
    "\n",
    "str_format = 'The number padded {} padded with zeros {:*<8}'.format(student_id, student_id)\n",
    "f_string = f'The number padded {student_id} padded with zeros {student_id:*<8}'\n",
    "\n",
    "print(str_format)\n",
    "print(f_string)"
   ]
  },
  {
   "cell_type": "code",
   "execution_count": 91,
   "id": "a2514a10",
   "metadata": {},
   "outputs": [
    {
     "data": {
      "text/plain": [
       "'3.50'"
      ]
     },
     "execution_count": 91,
     "metadata": {},
     "output_type": "execute_result"
    }
   ],
   "source": [
    "f'{3.5:.2f}'"
   ]
  },
  {
   "cell_type": "code",
   "execution_count": 92,
   "id": "c51d0286",
   "metadata": {},
   "outputs": [
    {
     "data": {
      "text/plain": [
       "3.5"
      ]
     },
     "execution_count": 92,
     "metadata": {},
     "output_type": "execute_result"
    }
   ],
   "source": [
    "round(3.5, 2)"
   ]
  },
  {
   "cell_type": "code",
   "execution_count": 123,
   "id": "be2ce1da",
   "metadata": {},
   "outputs": [
    {
     "name": "stdout",
     "output_type": "stream",
     "text": [
      "+---------------------------------------------------+\n",
      "|               Cereal Yields (kg/ha)               |\n",
      "+---------------+--------+--------+--------+--------+\n",
      "|    Country    |  1980  |  1990  |  2000  |  2010  |\n",
      "+---------------+--------+--------+--------+--------+\n",
      "| China         |  2,937 |  4,321 |  4,752 |  5,527 |\n",
      "| Germany       |  4,225 |  5,411 |  6,453 |  6,718 |\n",
      "| United States |  3,772 |  4,755 |  5,854 |  6,988 |\n",
      "+---------------+--------+--------+--------+--------+\n"
     ]
    }
   ],
   "source": [
    "title = '|' + '{:^51}'.format('Cereal Yields (kg/ha)') + '|'\n",
    "line = '+' + '-'*15 + '+' + ('-'*8 + '+')*4\n",
    "row = '| {:<13} |' + ' {:6,d} |'*4\n",
    "header = '| {:^13s} |'.format('Country') + (' {:^6d} |'*4).format(1980, 1990,\n",
    "                                                                  2000, 2010)\n",
    "top = '+' + '-'*(len(title)-2) + '+'\n",
    "print(top,\n",
    "      title,\n",
    "      line,\n",
    "      header,\n",
    "      line,\n",
    "      row.format('China', 2937, 4321, 4752, 5527),\n",
    "      row.format('Germany', 4225, 5411, 6453, 6718),\n",
    "      row.format('United States', 3772, 4755, 5854, 6988),\n",
    "      line,\n",
    "      sep='\\n')"
   ]
  },
  {
   "cell_type": "code",
   "execution_count": 95,
   "id": "df91a45f",
   "metadata": {},
   "outputs": [
    {
     "name": "stdout",
     "output_type": "stream",
     "text": [
      "|               Cereal Yields (kg/ha)               |\n"
     ]
    }
   ],
   "source": [
    "title = '|' + '{:^51}'.format('Cereal Yields (kg/ha)') + '|'\n",
    "print(title)"
   ]
  },
  {
   "cell_type": "code",
   "execution_count": 96,
   "id": "40b790bf",
   "metadata": {},
   "outputs": [
    {
     "data": {
      "text/plain": [
       "'               Cereal Yields (kg/ha)               '"
      ]
     },
     "execution_count": 96,
     "metadata": {},
     "output_type": "execute_result"
    }
   ],
   "source": [
    "x = 'Cereal Yields (kg/ha)'\n",
    "'{:^51}'.format(x)"
   ]
  },
  {
   "cell_type": "code",
   "execution_count": 99,
   "id": "698d8caf",
   "metadata": {},
   "outputs": [
    {
     "data": {
      "text/plain": [
       "'               Cereal Yields (kg/ha)               '"
      ]
     },
     "execution_count": 99,
     "metadata": {},
     "output_type": "execute_result"
    }
   ],
   "source": [
    "\n",
    "'{:^51}'.format('Cereal Yields (kg/ha)')"
   ]
  },
  {
   "cell_type": "code",
   "execution_count": 100,
   "id": "e5c9e104",
   "metadata": {},
   "outputs": [
    {
     "name": "stdout",
     "output_type": "stream",
     "text": [
      "|               Cereal Yields (kg/ha)               |\n"
     ]
    }
   ],
   "source": [
    "title = '|' + '{:^51}'.format('Cereal Yields (kg/ha)') + '|'\n",
    "print(title)"
   ]
  },
  {
   "cell_type": "code",
   "execution_count": 105,
   "id": "6c48464d",
   "metadata": {},
   "outputs": [
    {
     "data": {
      "text/plain": [
       "'|               Cereal Yields (kg/ha)               |'"
      ]
     },
     "execution_count": 105,
     "metadata": {},
     "output_type": "execute_result"
    }
   ],
   "source": [
    "x = 51\n",
    "y = '^'\n",
    "f'|{\"Cereal Yields (kg/ha)\":{y}{x}}|' # on homework"
   ]
  },
  {
   "cell_type": "code",
   "execution_count": 109,
   "id": "f5faa3cb",
   "metadata": {},
   "outputs": [
    {
     "name": "stdout",
     "output_type": "stream",
     "text": [
      "+---------------+--------+--------+--------+--------+\n"
     ]
    }
   ],
   "source": [
    "line = '+' + '-'*15 + '+' + ('-'*8 + '+')*4\n",
    "print(line)"
   ]
  },
  {
   "cell_type": "code",
   "execution_count": 108,
   "id": "c26647ef",
   "metadata": {},
   "outputs": [
    {
     "data": {
      "text/plain": [
       "'--------+--------+--------+--------+'"
      ]
     },
     "execution_count": 108,
     "metadata": {},
     "output_type": "execute_result"
    }
   ],
   "source": [
    "('-'*8 + '+')*4"
   ]
  },
  {
   "cell_type": "code",
   "execution_count": 112,
   "id": "48c094ff",
   "metadata": {},
   "outputs": [],
   "source": [
    "line = f'+{\"-\"*15}+{(\"-\"*8 + \"+\")*4}'"
   ]
  },
  {
   "cell_type": "code",
   "execution_count": 113,
   "id": "de53fcac",
   "metadata": {},
   "outputs": [
    {
     "name": "stdout",
     "output_type": "stream",
     "text": [
      "+---------------+--------+--------+--------+--------+\n"
     ]
    }
   ],
   "source": [
    "print(line)"
   ]
  },
  {
   "cell_type": "code",
   "execution_count": null,
   "id": "0eeafa43",
   "metadata": {},
   "outputs": [],
   "source": [
    "row = '| {:<13} |' + ' {:6,d} |'*4\n"
   ]
  },
  {
   "cell_type": "code",
   "execution_count": 114,
   "id": "afc02173",
   "metadata": {},
   "outputs": [],
   "source": [
    "template = '| {:<13} |'"
   ]
  },
  {
   "cell_type": "code",
   "execution_count": 115,
   "id": "52f29ad4",
   "metadata": {},
   "outputs": [
    {
     "name": "stdout",
     "output_type": "stream",
     "text": [
      "| {:<13} |\n"
     ]
    }
   ],
   "source": [
    "print(template)"
   ]
  },
  {
   "cell_type": "code",
   "execution_count": 116,
   "id": "d6d99a4a",
   "metadata": {},
   "outputs": [
    {
     "data": {
      "text/plain": [
       "'| Security      |'"
      ]
     },
     "execution_count": 116,
     "metadata": {},
     "output_type": "execute_result"
    }
   ],
   "source": [
    "template.format('Security')"
   ]
  },
  {
   "cell_type": "code",
   "execution_count": 117,
   "id": "0df4bea3",
   "metadata": {},
   "outputs": [],
   "source": [
    "tmp2 = ' {:6,d} |'*4"
   ]
  },
  {
   "cell_type": "code",
   "execution_count": 118,
   "id": "ac178245",
   "metadata": {},
   "outputs": [
    {
     "name": "stdout",
     "output_type": "stream",
     "text": [
      " {:6,d} | {:6,d} | {:6,d} | {:6,d} |\n"
     ]
    }
   ],
   "source": [
    "print(tmp2)"
   ]
  },
  {
   "cell_type": "code",
   "execution_count": 120,
   "id": "214f07be",
   "metadata": {},
   "outputs": [
    {
     "data": {
      "text/plain": [
       "'  1,900 | 123,456 | 99,999,999 | 988,888 |'"
      ]
     },
     "execution_count": 120,
     "metadata": {},
     "output_type": "execute_result"
    }
   ],
   "source": [
    "tmp2.format(1900, 123456, 99999999, 988888 )"
   ]
  },
  {
   "cell_type": "code",
   "execution_count": 121,
   "id": "1cbd89f8",
   "metadata": {},
   "outputs": [
    {
     "name": "stdout",
     "output_type": "stream",
     "text": [
      "|    Country    |  1980  |  1990  |  2000  |  2010  |\n"
     ]
    }
   ],
   "source": [
    "header = '| {:^13s} |'.format('Country') + (' {:^6d} |'*4).format(1980, 1990,\n",
    "                                                                  2000, 2010)\n",
    "print(header)"
   ]
  },
  {
   "cell_type": "code",
   "execution_count": null,
   "id": "658a70f9",
   "metadata": {},
   "outputs": [],
   "source": [
    "with open('test_file.txt', 'w') as file:\n",
    "    file.write('line1\\nline2')"
   ]
  },
  {
   "cell_type": "code",
   "execution_count": 124,
   "id": "13f9ca26",
   "metadata": {},
   "outputs": [
    {
     "data": {
      "text/plain": [
       "_io.TextIOWrapper"
      ]
     },
     "execution_count": 124,
     "metadata": {},
     "output_type": "execute_result"
    }
   ],
   "source": []
  },
  {
   "cell_type": "code",
   "execution_count": 127,
   "id": "654a265c",
   "metadata": {},
   "outputs": [],
   "source": [
    "file = open('test1.txt', 'w')\n",
    "x = file.write('abc\\nefg')\n",
    "file.close()"
   ]
  },
  {
   "cell_type": "code",
   "execution_count": 128,
   "id": "b62b21c2",
   "metadata": {},
   "outputs": [
    {
     "name": "stdout",
     "output_type": "stream",
     "text": [
      "7\n"
     ]
    }
   ],
   "source": [
    "print(x)"
   ]
  },
  {
   "cell_type": "code",
   "execution_count": null,
   "id": "619e379c",
   "metadata": {},
   "outputs": [],
   "source": [
    "with open('test_file.txt', 'w') as file:\n",
    "    file.write('line1\\nline2')\n",
    "x = 1    "
   ]
  },
  {
   "cell_type": "code",
   "execution_count": 131,
   "id": "8414c9a6",
   "metadata": {},
   "outputs": [
    {
     "name": "stdout",
     "output_type": "stream",
     "text": [
      "123\n",
      "456\n",
      "789\n"
     ]
    }
   ],
   "source": [
    "print('\\n'.join(['123', '456', '789']))"
   ]
  },
  {
   "cell_type": "code",
   "execution_count": 132,
   "id": "1d17edc1",
   "metadata": {},
   "outputs": [
    {
     "name": "stdout",
     "output_type": "stream",
     "text": [
      "123, 456, 789\n"
     ]
    }
   ],
   "source": [
    "print(', '.join(['123', '456', '789']))"
   ]
  },
  {
   "cell_type": "code",
   "execution_count": 133,
   "id": "bf04016e",
   "metadata": {},
   "outputs": [
    {
     "data": {
      "text/plain": [
       "485"
      ]
     },
     "execution_count": 133,
     "metadata": {},
     "output_type": "execute_result"
    }
   ],
   "source": [
    "title = '|' + '{:^51}'.format('Cereal Yields (kg/ha)') + '|'\n",
    "line = '+' + '-'*15 + '+' + ('-'*8 + '+')*4\n",
    "row = '| {:<13} |' + ' {:6,d} |'*4\n",
    "header = '| {:^13s} |'.format('Country') + (' {:^6d} |'*4).format(1980, 1990,\n",
    "                                                                  2000, 2010)\n",
    "file_content = '\\n'.join(('+' + '-'*(len(title)-2) + '+',\n",
    "      title,\n",
    "      line,\n",
    "      header,\n",
    "      line,\n",
    "      row.format('China', 2937, 4321, 4752, 5527),\n",
    "      row.format('Germany', 4225, 5411, 6453, 6718),\n",
    "      row.format('United States', 3772, 4755, 5854, 6988),\n",
    "      line))\n",
    "\n",
    "with open('test_file2.txt', 'w') as file:\n",
    "    file.write(file_content)"
   ]
  },
  {
   "cell_type": "code",
   "execution_count": 134,
   "id": "4f281f72",
   "metadata": {},
   "outputs": [
    {
     "data": {
      "text/plain": [
       "'Browning'"
      ]
     },
     "execution_count": 134,
     "metadata": {},
     "output_type": "execute_result"
    }
   ],
   "source": [
    "'browning'.capitalize()"
   ]
  },
  {
   "cell_type": "code",
   "execution_count": 136,
   "id": "819bebd4",
   "metadata": {},
   "outputs": [
    {
     "data": {
      "text/plain": [
       "'Browning'"
      ]
     },
     "execution_count": 136,
     "metadata": {},
     "output_type": "execute_result"
    }
   ],
   "source": [
    "x = 'browning'\n",
    "x.capitalize()"
   ]
  },
  {
   "cell_type": "code",
   "execution_count": 137,
   "id": "7472bcdd",
   "metadata": {},
   "outputs": [
    {
     "name": "stdout",
     "output_type": "stream",
     "text": [
      "   ABBCCC   Dummy\n",
      "ABBCCC Dummy\n"
     ]
    }
   ],
   "source": [
    "my_string = '   ABBCCC  '\n",
    "print(my_string, 'Dummy')\n",
    "print(my_string.strip(), 'Dummy')"
   ]
  },
  {
   "cell_type": "code",
   "execution_count": 141,
   "id": "d843a2ec",
   "metadata": {},
   "outputs": [
    {
     "name": "stdout",
     "output_type": "stream",
     "text": [
      "BBCCC\n"
     ]
    }
   ],
   "source": [
    "my_string = '  ABBCCCA'\n",
    "print(my_string.strip(' A'))"
   ]
  },
  {
   "cell_type": "code",
   "execution_count": 142,
   "id": "f077c853",
   "metadata": {},
   "outputs": [
    {
     "name": "stdout",
     "output_type": "stream",
     "text": [
      "This is a  line\n",
      "\n"
     ]
    }
   ],
   "source": [
    "x = 'This is a  line\\n'\n",
    "print(x)"
   ]
  },
  {
   "cell_type": "code",
   "execution_count": 158,
   "id": "7031b003",
   "metadata": {},
   "outputs": [
    {
     "name": "stdout",
     "output_type": "stream",
     "text": [
      "This is a  line\n",
      "\n"
     ]
    }
   ],
   "source": [
    "x = 'This is a  line\\n'\n",
    "x.strip()\n",
    "print(x)"
   ]
  },
  {
   "cell_type": "code",
   "execution_count": 148,
   "id": "87b41775",
   "metadata": {},
   "outputs": [
    {
     "data": {
      "text/plain": [
       "'²'"
      ]
     },
     "execution_count": 148,
     "metadata": {},
     "output_type": "execute_result"
    }
   ],
   "source": [
    "\"\\u00B2\""
   ]
  },
  {
   "cell_type": "code",
   "execution_count": 149,
   "id": "3a604160",
   "metadata": {},
   "outputs": [
    {
     "data": {
      "text/plain": [
       "True"
      ]
     },
     "execution_count": 149,
     "metadata": {},
     "output_type": "execute_result"
    }
   ],
   "source": [
    "\"\\u00B2\".isdigit()"
   ]
  },
  {
   "cell_type": "code",
   "execution_count": 154,
   "id": "8b61f39c",
   "metadata": {},
   "outputs": [
    {
     "data": {
      "text/plain": [
       "True"
      ]
     },
     "execution_count": 154,
     "metadata": {},
     "output_type": "execute_result"
    }
   ],
   "source": [
    "\"\\u00BC\".isnumeric()"
   ]
  },
  {
   "cell_type": "code",
   "execution_count": 155,
   "id": "a1474ceb",
   "metadata": {},
   "outputs": [
    {
     "ename": "ValueError",
     "evalue": "could not convert string to float: '¼'",
     "output_type": "error",
     "traceback": [
      "\u001b[1;31m---------------------------------------------------------------------------\u001b[0m",
      "\u001b[1;31mValueError\u001b[0m                                Traceback (most recent call last)",
      "\u001b[1;32m~\\AppData\\Local\\Temp\\ipykernel_21792\\2471937232.py\u001b[0m in \u001b[0;36m<module>\u001b[1;34m\u001b[0m\n\u001b[1;32m----> 1\u001b[1;33m \u001b[0mfloat\u001b[0m\u001b[1;33m(\u001b[0m\u001b[1;34m\"\\u00BC\"\u001b[0m\u001b[1;33m)\u001b[0m\u001b[1;33m\u001b[0m\u001b[1;33m\u001b[0m\u001b[0m\n\u001b[0m",
      "\u001b[1;31mValueError\u001b[0m: could not convert string to float: '¼'"
     ]
    }
   ],
   "source": [
    "float(\"\\u00BC\")"
   ]
  },
  {
   "cell_type": "code",
   "execution_count": 156,
   "id": "8c04f695",
   "metadata": {},
   "outputs": [
    {
     "name": "stdout",
     "output_type": "stream",
     "text": [
      "EAS503)\n",
      "EAS503\n"
     ]
    }
   ],
   "source": [
    "my_string = '(EAS503)'\n",
    "tmp1 = my_string.replace('(', '')\n",
    "print(tmp1)\n",
    "tmp2 = tmp1.replace(')', '')\n",
    "print(tmp2)"
   ]
  },
  {
   "cell_type": "code",
   "execution_count": 159,
   "id": "b4833cdd",
   "metadata": {},
   "outputs": [
    {
     "data": {
      "text/plain": [
       "0"
      ]
     },
     "execution_count": 159,
     "metadata": {},
     "output_type": "execute_result"
    }
   ],
   "source": [
    "x = 'ABAB'\n",
    "x.find('A')"
   ]
  },
  {
   "cell_type": "code",
   "execution_count": 160,
   "id": "4b532305",
   "metadata": {},
   "outputs": [
    {
     "data": {
      "text/plain": [
       "'EAS503'"
      ]
     },
     "execution_count": 160,
     "metadata": {},
     "output_type": "execute_result"
    }
   ],
   "source": [
    "my_string.replace('(EAS503)', 'EAS503')"
   ]
  },
  {
   "cell_type": "code",
   "execution_count": 161,
   "id": "c5941caf",
   "metadata": {},
   "outputs": [],
   "source": [
    "def remove_parentheses(my_string):\n",
    "    tmp1 = my_string.replace('(', '')\n",
    "    tmp2 = tmp1.replace(')', '')\n",
    "    return tmp2"
   ]
  },
  {
   "cell_type": "code",
   "execution_count": 162,
   "id": "56c325ae",
   "metadata": {},
   "outputs": [
    {
     "data": {
      "text/plain": [
       "'BIO101'"
      ]
     },
     "execution_count": 162,
     "metadata": {},
     "output_type": "execute_result"
    }
   ],
   "source": [
    "remove_parentheses('(BIO101)')"
   ]
  },
  {
   "cell_type": "code",
   "execution_count": 163,
   "id": "3536a6a6",
   "metadata": {},
   "outputs": [
    {
     "data": {
      "text/plain": [
       "'EAS503'"
      ]
     },
     "execution_count": 163,
     "metadata": {},
     "output_type": "execute_result"
    }
   ],
   "source": [
    "my_string[1:-1]"
   ]
  },
  {
   "cell_type": "code",
   "execution_count": 164,
   "id": "6536b702",
   "metadata": {},
   "outputs": [
    {
     "name": "stdout",
     "output_type": "stream",
     "text": [
      "EAS503\n",
      "(EAS503)\n"
     ]
    }
   ],
   "source": [
    "my_string = '(EAS503)'\n",
    "print(my_string.replace('(', '').replace(')', ''))\n",
    "print(my_string)"
   ]
  },
  {
   "cell_type": "code",
   "execution_count": 165,
   "id": "d3f202b6",
   "metadata": {},
   "outputs": [
    {
     "name": "stdout",
     "output_type": "stream",
     "text": [
      "eas503\n",
      "(EAS503)\n"
     ]
    }
   ],
   "source": [
    "my_string = '(EAS503)'\n",
    "print(my_string.replace('(', '').replace(')', '').lower())\n",
    "print(my_string)"
   ]
  },
  {
   "cell_type": "code",
   "execution_count": 166,
   "id": "a60bb693",
   "metadata": {},
   "outputs": [],
   "source": [
    "x = list('EAS503')"
   ]
  },
  {
   "cell_type": "code",
   "execution_count": 167,
   "id": "1ace1ca1",
   "metadata": {},
   "outputs": [
    {
     "data": {
      "text/plain": [
       "['E', 'A', 'S', '5', '0', '3']"
      ]
     },
     "execution_count": 167,
     "metadata": {},
     "output_type": "execute_result"
    }
   ],
   "source": [
    "x"
   ]
  },
  {
   "cell_type": "code",
   "execution_count": 168,
   "id": "2798424b",
   "metadata": {},
   "outputs": [],
   "source": [
    "x[1] = 'B'"
   ]
  },
  {
   "cell_type": "code",
   "execution_count": 169,
   "id": "bcd75325",
   "metadata": {},
   "outputs": [
    {
     "data": {
      "text/plain": [
       "['E', 'B', 'S', '5', '0', '3']"
      ]
     },
     "execution_count": 169,
     "metadata": {},
     "output_type": "execute_result"
    }
   ],
   "source": [
    "x"
   ]
  },
  {
   "cell_type": "code",
   "execution_count": 170,
   "id": "383888e7",
   "metadata": {},
   "outputs": [
    {
     "data": {
      "text/plain": [
       "'EBS503'"
      ]
     },
     "execution_count": 170,
     "metadata": {},
     "output_type": "execute_result"
    }
   ],
   "source": [
    "''.join(x)"
   ]
  },
  {
   "cell_type": "code",
   "execution_count": 171,
   "id": "e146e422",
   "metadata": {},
   "outputs": [
    {
     "data": {
      "text/plain": [
       "True"
      ]
     },
     "execution_count": 171,
     "metadata": {},
     "output_type": "execute_result"
    }
   ],
   "source": [
    "67.0 == 67"
   ]
  },
  {
   "cell_type": "code",
   "execution_count": 172,
   "id": "77ec5b46",
   "metadata": {},
   "outputs": [
    {
     "data": {
      "text/plain": [
       "False"
      ]
     },
     "execution_count": 172,
     "metadata": {},
     "output_type": "execute_result"
    }
   ],
   "source": [
    "x = 3\n",
    "(1 < x) and (x <= 5)\n",
    "\n",
    "x = 7\n",
    "(1 < x) and (x <= 5)"
   ]
  },
  {
   "cell_type": "code",
   "execution_count": 173,
   "id": "e1ea551c",
   "metadata": {},
   "outputs": [
    {
     "data": {
      "text/plain": [
       "True"
      ]
     },
     "execution_count": 173,
     "metadata": {},
     "output_type": "execute_result"
    }
   ],
   "source": [
    "x = 2\n",
    "y = 5\n",
    "z = 7\n",
    "x < y and y < z"
   ]
  },
  {
   "cell_type": "code",
   "execution_count": 174,
   "id": "ba94a479",
   "metadata": {},
   "outputs": [
    {
     "data": {
      "text/plain": [
       "True"
      ]
     },
     "execution_count": 174,
     "metadata": {},
     "output_type": "execute_result"
    }
   ],
   "source": [
    "x < y < z"
   ]
  },
  {
   "cell_type": "code",
   "execution_count": 176,
   "id": "703b0f75",
   "metadata": {},
   "outputs": [
    {
     "data": {
      "text/plain": [
       "False"
      ]
     },
     "execution_count": 176,
     "metadata": {},
     "output_type": "execute_result"
    }
   ],
   "source": [
    "'A' > 'Z' # 65 > 90"
   ]
  },
  {
   "cell_type": "code",
   "execution_count": 178,
   "id": "70de7c8f",
   "metadata": {},
   "outputs": [
    {
     "data": {
      "text/plain": [
       "False"
      ]
     },
     "execution_count": 178,
     "metadata": {},
     "output_type": "execute_result"
    }
   ],
   "source": [
    "'A' > 'a' # 65 > 97"
   ]
  },
  {
   "cell_type": "code",
   "execution_count": 179,
   "id": "f2848449",
   "metadata": {},
   "outputs": [
    {
     "data": {
      "text/plain": [
       "False"
      ]
     },
     "execution_count": 179,
     "metadata": {},
     "output_type": "execute_result"
    }
   ],
   "source": [
    "'2' < '11'"
   ]
  },
  {
   "cell_type": "code",
   "execution_count": 180,
   "id": "e91ec51f",
   "metadata": {},
   "outputs": [
    {
     "data": {
      "text/plain": [
       "False"
      ]
     },
     "execution_count": 180,
     "metadata": {},
     "output_type": "execute_result"
    }
   ],
   "source": [
    "50 < 49 "
   ]
  },
  {
   "cell_type": "code",
   "execution_count": null,
   "id": "fbb84b2b",
   "metadata": {},
   "outputs": [],
   "source": []
  }
 ],
 "metadata": {
  "kernelspec": {
   "display_name": "Python 3 (ipykernel)",
   "language": "python",
   "name": "python3"
  },
  "language_info": {
   "codemirror_mode": {
    "name": "ipython",
    "version": 3
   },
   "file_extension": ".py",
   "mimetype": "text/x-python",
   "name": "python",
   "nbconvert_exporter": "python",
   "pygments_lexer": "ipython3",
   "version": "3.8.16"
  }
 },
 "nbformat": 4,
 "nbformat_minor": 5
}
