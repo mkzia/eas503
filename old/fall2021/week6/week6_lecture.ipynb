{
 "cells": [
  {
   "cell_type": "code",
   "execution_count": 1,
   "id": "d098b221",
   "metadata": {},
   "outputs": [
    {
     "name": "stdout",
     "output_type": "stream",
     "text": [
      "{'name': 'John', 'email': 'john@buffalo.edu', 'student_id': 1234}\n"
     ]
    }
   ],
   "source": [
    "my_list = ['John', 'john@buffalo.edu', 1234]\n",
    "my_dict = {\n",
    "    'name': 'John',\n",
    "    'email': 'john@buffalo.edu',\n",
    "    'student_id': 1234\n",
    "}\n",
    "\n",
    "print(my_dict)"
   ]
  },
  {
   "cell_type": "code",
   "execution_count": 2,
   "id": "f6f99e89",
   "metadata": {},
   "outputs": [
    {
     "data": {
      "text/plain": [
       "'John'"
      ]
     },
     "execution_count": 2,
     "metadata": {},
     "output_type": "execute_result"
    }
   ],
   "source": [
    "my_dict['name']"
   ]
  },
  {
   "cell_type": "code",
   "execution_count": 4,
   "id": "09688dec",
   "metadata": {},
   "outputs": [
    {
     "data": {
      "text/plain": [
       "'N/A'"
      ]
     },
     "execution_count": 4,
     "metadata": {},
     "output_type": "execute_result"
    }
   ],
   "source": [
    "my_dict.get('Name', 'N/A')"
   ]
  },
  {
   "cell_type": "code",
   "execution_count": 5,
   "id": "adfd503b",
   "metadata": {},
   "outputs": [
    {
     "data": {
      "text/plain": [
       "'John'"
      ]
     },
     "execution_count": 5,
     "metadata": {},
     "output_type": "execute_result"
    }
   ],
   "source": [
    "my_dict.get('name')"
   ]
  },
  {
   "cell_type": "code",
   "execution_count": 6,
   "id": "5a9b4605",
   "metadata": {},
   "outputs": [
    {
     "name": "stdout",
     "output_type": "stream",
     "text": [
      "name John\n",
      "email john@buffalo.edu\n",
      "student_id 1234\n"
     ]
    }
   ],
   "source": [
    "for key, value in my_dict.items():\n",
    "    print(key, value)"
   ]
  },
  {
   "cell_type": "code",
   "execution_count": 7,
   "id": "598b54c5",
   "metadata": {},
   "outputs": [
    {
     "data": {
      "text/plain": [
       "True"
      ]
     },
     "execution_count": 7,
     "metadata": {},
     "output_type": "execute_result"
    }
   ],
   "source": [
    "'name' in my_dict"
   ]
  },
  {
   "cell_type": "code",
   "execution_count": 8,
   "id": "5043239e",
   "metadata": {},
   "outputs": [
    {
     "name": "stdout",
     "output_type": "stream",
     "text": [
      "Name exists\n"
     ]
    }
   ],
   "source": [
    "name = my_dict.get('name')\n",
    "\n",
    "if name:\n",
    "    print('Name exists')"
   ]
  },
  {
   "cell_type": "code",
   "execution_count": 9,
   "id": "a37b0a3a",
   "metadata": {},
   "outputs": [],
   "source": [
    "name = my_dict.get('Name')\n",
    "\n",
    "if name:\n",
    "    print('Name exists')"
   ]
  },
  {
   "cell_type": "code",
   "execution_count": 10,
   "id": "b2a9a1f5",
   "metadata": {},
   "outputs": [
    {
     "data": {
      "text/plain": [
       "['name', 'email', 'student_id']"
      ]
     },
     "execution_count": 10,
     "metadata": {},
     "output_type": "execute_result"
    }
   ],
   "source": [
    "list(my_dict.keys())"
   ]
  },
  {
   "cell_type": "code",
   "execution_count": 11,
   "id": "192684b3",
   "metadata": {},
   "outputs": [
    {
     "data": {
      "text/plain": [
       "['John', 'john@buffalo.edu', 1234]"
      ]
     },
     "execution_count": 11,
     "metadata": {},
     "output_type": "execute_result"
    }
   ],
   "source": [
    "list(my_dict.values())"
   ]
  },
  {
   "cell_type": "code",
   "execution_count": 12,
   "id": "ef6a8e92",
   "metadata": {},
   "outputs": [
    {
     "name": "stdout",
     "output_type": "stream",
     "text": [
      "John in dict!\n"
     ]
    }
   ],
   "source": [
    "if 'John' in my_dict.values():\n",
    "    print('John in dict!')"
   ]
  },
  {
   "cell_type": "code",
   "execution_count": 13,
   "id": "ff9a11dc",
   "metadata": {},
   "outputs": [],
   "source": [
    "if 'john' in my_dict.values():\n",
    "    print('John in dict!')"
   ]
  },
  {
   "cell_type": "code",
   "execution_count": 14,
   "id": "e5d4f178",
   "metadata": {},
   "outputs": [
    {
     "name": "stdout",
     "output_type": "stream",
     "text": [
      "email key in dict\n"
     ]
    }
   ],
   "source": [
    "if 'email' in my_dict:\n",
    "    print('email key in dict')"
   ]
  },
  {
   "cell_type": "code",
   "execution_count": 15,
   "id": "2249df59",
   "metadata": {},
   "outputs": [
    {
     "data": {
      "text/plain": [
       "49"
      ]
     },
     "execution_count": 15,
     "metadata": {},
     "output_type": "execute_result"
    }
   ],
   "source": [
    "# lambda_ex1.py\n",
    "# Write a function that squares a number and returns the value.\n",
    "# Write it again again using Lambda functions\n",
    "\n",
    "\n",
    "def f(x):\n",
    "    y = x * x\n",
    "    return y\n",
    "\n",
    "\n",
    "lfunc = lambda x: x * x\n",
    "\n",
    "\n",
    "x = 7\n",
    "\n",
    "f(7)"
   ]
  },
  {
   "cell_type": "code",
   "execution_count": 16,
   "id": "3367eb7c",
   "metadata": {},
   "outputs": [
    {
     "data": {
      "text/plain": [
       "49"
      ]
     },
     "execution_count": 16,
     "metadata": {},
     "output_type": "execute_result"
    }
   ],
   "source": [
    "lfunc(7)"
   ]
  },
  {
   "cell_type": "code",
   "execution_count": 17,
   "id": "3273ab55",
   "metadata": {},
   "outputs": [
    {
     "data": {
      "text/plain": [
       "3"
      ]
     },
     "execution_count": 17,
     "metadata": {},
     "output_type": "execute_result"
    }
   ],
   "source": [
    "lfunc2 = lambda x,y: x + y\n",
    "\n",
    "lfunc2(1,2)"
   ]
  },
  {
   "cell_type": "code",
   "execution_count": 19,
   "id": "1e89e9e3",
   "metadata": {},
   "outputs": [
    {
     "data": {
      "text/plain": [
       "21"
      ]
     },
     "execution_count": 19,
     "metadata": {},
     "output_type": "execute_result"
    }
   ],
   "source": [
    "lfunc = lambda x,y: x * y\n",
    "def lambda_test(function, a, b):\n",
    "    return function(a, b)\n",
    "\n",
    "a = 3\n",
    "b = 7\n",
    "lambda_test(lfunc, a, b)"
   ]
  },
  {
   "cell_type": "code",
   "execution_count": 24,
   "id": "b8971053",
   "metadata": {},
   "outputs": [
    {
     "name": "stdout",
     "output_type": "stream",
     "text": [
      "[2, 4, 6, 8]\n",
      "[2, 4, 6, 8]\n"
     ]
    }
   ],
   "source": [
    "# lambda_ex4.py\n",
    "# 1) Write a function to double a list\n",
    "# 2) Use list comprehension to double a list\n",
    "# 3) Use lambda with map to double a list\n",
    "\n",
    "lst = [1, 2, 3, 4]\n",
    "\n",
    "output_loop = []\n",
    "for ele in lst:\n",
    "    output_loop.append(ele*2)\n",
    "    \n",
    "output_lst_comp = [ ele*2 for ele in lst]\n",
    "\n",
    "print(output_loop)\n",
    "print(output_lst_comp)"
   ]
  },
  {
   "cell_type": "code",
   "execution_count": 25,
   "id": "ed67d83c",
   "metadata": {},
   "outputs": [
    {
     "data": {
      "text/plain": [
       "[2, 4, 6, 8]"
      ]
     },
     "execution_count": 25,
     "metadata": {},
     "output_type": "execute_result"
    }
   ],
   "source": [
    "ldouble = lambda x: x * 2\n",
    "\n",
    "list(map(ldouble, lst))"
   ]
  },
  {
   "cell_type": "code",
   "execution_count": 65,
   "id": "f7adcbcd",
   "metadata": {},
   "outputs": [],
   "source": [
    "a = list(map(lambda x: x*2, lst))\n",
    "b = "
   ]
  },
  {
   "cell_type": "code",
   "execution_count": 27,
   "id": "7def4d9d",
   "metadata": {},
   "outputs": [
    {
     "data": {
      "text/plain": [
       "[2, 4, 6, 8]"
      ]
     },
     "execution_count": 27,
     "metadata": {},
     "output_type": "execute_result"
    }
   ],
   "source": [
    "def f(x):\n",
    "    return x * 2\n",
    "\n",
    "list(map(f, lst))"
   ]
  },
  {
   "cell_type": "code",
   "execution_count": 28,
   "id": "bbf8d5a7",
   "metadata": {},
   "outputs": [
    {
     "name": "stdout",
     "output_type": "stream",
     "text": [
      "2\n",
      "4\n",
      "6\n",
      "8\n"
     ]
    }
   ],
   "source": [
    "result = map(ldouble, lst)\n",
    "for ele in result:\n",
    "    print(ele)\n",
    "    \n",
    "for ele in result:\n",
    "    print(ele)\n",
    " "
   ]
  },
  {
   "cell_type": "code",
   "execution_count": 29,
   "id": "9e90c215",
   "metadata": {},
   "outputs": [
    {
     "name": "stdout",
     "output_type": "stream",
     "text": [
      "2\n",
      "4\n",
      "6\n",
      "8\n",
      "2\n",
      "4\n",
      "6\n",
      "8\n"
     ]
    }
   ],
   "source": [
    "result = list(map(ldouble, lst))\n",
    "for ele in result:\n",
    "    print(ele)\n",
    "    \n",
    "for ele in result:\n",
    "    print(ele)"
   ]
  },
  {
   "cell_type": "code",
   "execution_count": 30,
   "id": "832c2b9c",
   "metadata": {},
   "outputs": [
    {
     "name": "stdout",
     "output_type": "stream",
     "text": [
      "<map object at 0x000001A33727D970>\n"
     ]
    }
   ],
   "source": [
    "print(map(ldouble, lst))"
   ]
  },
  {
   "cell_type": "code",
   "execution_count": 31,
   "id": "db6ce1f1",
   "metadata": {},
   "outputs": [],
   "source": [
    "students = ['john', 'jane', 'doe']\n",
    "\n"
   ]
  },
  {
   "cell_type": "code",
   "execution_count": 33,
   "id": "8334b3bb",
   "metadata": {},
   "outputs": [
    {
     "data": {
      "text/plain": [
       "[{'value': 34.4}, {'value': 45.3}, {'value': 73.4}]"
      ]
     },
     "execution_count": 33,
     "metadata": {},
     "output_type": "execute_result"
    }
   ],
   "source": [
    "my_dict = [\n",
    "    {'value': '34.4'}, \n",
    "    {'value': '45.3'},\n",
    "    {'value': '73.4'}\n",
    "]\n",
    "\n",
    "dict2 = []\n",
    "for ele in my_dict:\n",
    "    value = float(ele['value'])\n",
    "    dict2.append({'value': value})\n",
    "    \n",
    "    \n",
    "dict2"
   ]
  },
  {
   "cell_type": "code",
   "execution_count": 34,
   "id": "bfdd51cf",
   "metadata": {},
   "outputs": [
    {
     "data": {
      "text/plain": [
       "['34.4', '45.3', '73.4']"
      ]
     },
     "execution_count": 34,
     "metadata": {},
     "output_type": "execute_result"
    }
   ],
   "source": [
    "list(map(lambda a_dict: a_dict['value'], my_dict))"
   ]
  },
  {
   "cell_type": "code",
   "execution_count": 35,
   "id": "5b43a049",
   "metadata": {},
   "outputs": [
    {
     "data": {
      "text/plain": [
       "[34.4, 45.3, 73.4]"
      ]
     },
     "execution_count": 35,
     "metadata": {},
     "output_type": "execute_result"
    }
   ],
   "source": [
    "list(map(lambda a_dict: float(a_dict['value']), my_dict))"
   ]
  },
  {
   "cell_type": "code",
   "execution_count": 36,
   "id": "650f761d",
   "metadata": {},
   "outputs": [
    {
     "data": {
      "text/plain": [
       "[{'value': 34.4}, {'value': 45.3}, {'value': 73.4}]"
      ]
     },
     "execution_count": 36,
     "metadata": {},
     "output_type": "execute_result"
    }
   ],
   "source": [
    "list(map(lambda a_dict: {'value': float(a_dict['value'])}, my_dict))"
   ]
  },
  {
   "cell_type": "code",
   "execution_count": 37,
   "id": "16ad0edb",
   "metadata": {},
   "outputs": [],
   "source": [
    "years = range(1970, 2000) # for these years\n",
    "\n",
    "def is_leap_year(year):\n",
    "    # does not work for century year\n",
    "    if year % 4 == 0:\n",
    "        return True\n",
    "    else:\n",
    "        return False\n",
    "my_dict = {}\n",
    "leap_years = []\n",
    "for year in years:\n",
    "    my_dict.update({year: is_leap_year(year)})\n",
    "    if is_leap_year(year):\n",
    "        leap_years.append(year)"
   ]
  },
  {
   "cell_type": "code",
   "execution_count": 38,
   "id": "72eab524",
   "metadata": {},
   "outputs": [
    {
     "data": {
      "text/plain": [
       "{1970: False,\n",
       " 1971: False,\n",
       " 1972: True,\n",
       " 1973: False,\n",
       " 1974: False,\n",
       " 1975: False,\n",
       " 1976: True,\n",
       " 1977: False,\n",
       " 1978: False,\n",
       " 1979: False,\n",
       " 1980: True,\n",
       " 1981: False,\n",
       " 1982: False,\n",
       " 1983: False,\n",
       " 1984: True,\n",
       " 1985: False,\n",
       " 1986: False,\n",
       " 1987: False,\n",
       " 1988: True,\n",
       " 1989: False,\n",
       " 1990: False,\n",
       " 1991: False,\n",
       " 1992: True,\n",
       " 1993: False,\n",
       " 1994: False,\n",
       " 1995: False,\n",
       " 1996: True,\n",
       " 1997: False,\n",
       " 1998: False,\n",
       " 1999: False}"
      ]
     },
     "execution_count": 38,
     "metadata": {},
     "output_type": "execute_result"
    }
   ],
   "source": [
    "my_dict"
   ]
  },
  {
   "cell_type": "code",
   "execution_count": 39,
   "id": "2de947ce",
   "metadata": {},
   "outputs": [
    {
     "data": {
      "text/plain": [
       "[1972, 1976, 1980, 1984, 1988, 1992, 1996]"
      ]
     },
     "execution_count": 39,
     "metadata": {},
     "output_type": "execute_result"
    }
   ],
   "source": [
    "leap_years"
   ]
  },
  {
   "cell_type": "code",
   "execution_count": 41,
   "id": "90ff88b3",
   "metadata": {},
   "outputs": [
    {
     "data": {
      "text/plain": [
       "[{1970: False},\n",
       " {1971: False},\n",
       " {1972: True},\n",
       " {1973: False},\n",
       " {1974: False},\n",
       " {1975: False},\n",
       " {1976: True},\n",
       " {1977: False},\n",
       " {1978: False},\n",
       " {1979: False},\n",
       " {1980: True},\n",
       " {1981: False},\n",
       " {1982: False},\n",
       " {1983: False},\n",
       " {1984: True},\n",
       " {1985: False},\n",
       " {1986: False},\n",
       " {1987: False},\n",
       " {1988: True},\n",
       " {1989: False},\n",
       " {1990: False},\n",
       " {1991: False},\n",
       " {1992: True},\n",
       " {1993: False},\n",
       " {1994: False},\n",
       " {1995: False},\n",
       " {1996: True},\n",
       " {1997: False},\n",
       " {1998: False},\n",
       " {1999: False}]"
      ]
     },
     "execution_count": 41,
     "metadata": {},
     "output_type": "execute_result"
    }
   ],
   "source": [
    "list(map(lambda year: {year: is_leap_year(year)}, years))"
   ]
  },
  {
   "cell_type": "code",
   "execution_count": 49,
   "id": "84290dca",
   "metadata": {},
   "outputs": [
    {
     "name": "stdout",
     "output_type": "stream",
     "text": [
      "[1972, 1976, 1980, 1984, 1988, 1992, 1996]\n"
     ]
    }
   ],
   "source": [
    "output = list(filter(lambda year: year % 4 == 0, range(1970, 2000)))\n",
    "print(output)"
   ]
  },
  {
   "cell_type": "code",
   "execution_count": 66,
   "id": "44813d52",
   "metadata": {},
   "outputs": [
    {
     "data": {
      "text/plain": [
       "['namename', 'emailemail', 'student_idstudent_id']"
      ]
     },
     "execution_count": 66,
     "metadata": {},
     "output_type": "execute_result"
    }
   ],
   "source": [
    "my_dict = {\n",
    "    'name': 'John',\n",
    "    'email': 'john@buffalo.edu',\n",
    "    'student_id': 1234\n",
    "}\n",
    "\n",
    "list(map(lambda value: value *2, my_dict))"
   ]
  },
  {
   "cell_type": "code",
   "execution_count": 67,
   "id": "689234c4",
   "metadata": {},
   "outputs": [
    {
     "data": {
      "text/plain": [
       "['name', 'email', 'student_id']"
      ]
     },
     "execution_count": 67,
     "metadata": {},
     "output_type": "execute_result"
    }
   ],
   "source": [
    "list(my_dict)"
   ]
  },
  {
   "cell_type": "code",
   "execution_count": 46,
   "id": "d467ccd7",
   "metadata": {},
   "outputs": [
    {
     "data": {
      "text/plain": [
       "['namename', 'emailemail', 'student_idstudent_id']"
      ]
     },
     "execution_count": 46,
     "metadata": {},
     "output_type": "execute_result"
    }
   ],
   "source": [
    "list(map(lambda value: value *2, my_dict.keys()))"
   ]
  },
  {
   "cell_type": "code",
   "execution_count": 70,
   "id": "1a065fa4",
   "metadata": {},
   "outputs": [
    {
     "name": "stdout",
     "output_type": "stream",
     "text": [
      "['name', 'email', 'student_id']\n",
      "['JohnJohn', 'john@buffalo.edujohn@buffalo.edu', 2468]\n",
      "{'name': 'JohnJohn', 'email': 'john@buffalo.edujohn@buffalo.edu', 'student_id': 2468}\n"
     ]
    }
   ],
   "source": [
    "keys = list(map(lambda value: value, my_dict.keys()))\n",
    "values = list(map(lambda value: value*2, my_dict.values()))\n",
    "print(keys)\n",
    "print(values)\n",
    "print(dict(zip(keys,values)))"
   ]
  },
  {
   "cell_type": "code",
   "execution_count": 47,
   "id": "16c33d75",
   "metadata": {},
   "outputs": [
    {
     "data": {
      "text/plain": [
       "['JohnJohn', 'john@buffalo.edujohn@buffalo.edu', 2468]"
      ]
     },
     "execution_count": 47,
     "metadata": {},
     "output_type": "execute_result"
    }
   ],
   "source": [
    "list(map(lambda value: value *2, my_dict.values()))"
   ]
  },
  {
   "cell_type": "code",
   "execution_count": 50,
   "id": "ad67dd27",
   "metadata": {},
   "outputs": [],
   "source": [
    "x = (('efg', 1), ('abc', 3), ('hij', 2))"
   ]
  },
  {
   "cell_type": "code",
   "execution_count": 51,
   "id": "a06126c1",
   "metadata": {},
   "outputs": [
    {
     "data": {
      "text/plain": [
       "[('abc', 3), ('efg', 1), ('hij', 2)]"
      ]
     },
     "execution_count": 51,
     "metadata": {},
     "output_type": "execute_result"
    }
   ],
   "source": [
    "sorted(x)"
   ]
  },
  {
   "cell_type": "code",
   "execution_count": 52,
   "id": "fa5c984f",
   "metadata": {},
   "outputs": [
    {
     "data": {
      "text/plain": [
       "[('efg', 1), ('hij', 2), ('abc', 3)]"
      ]
     },
     "execution_count": 52,
     "metadata": {},
     "output_type": "execute_result"
    }
   ],
   "source": [
    "sorted(x, key=lambda ele: ele[1])"
   ]
  },
  {
   "cell_type": "code",
   "execution_count": 53,
   "id": "358d0fa6",
   "metadata": {},
   "outputs": [
    {
     "ename": "TypeError",
     "evalue": "'tuple' object is not callable",
     "output_type": "error",
     "traceback": [
      "\u001b[1;31m---------------------------------------------------------------------------\u001b[0m",
      "\u001b[1;31mTypeError\u001b[0m                                 Traceback (most recent call last)",
      "\u001b[1;32m~\\AppData\\Local\\Temp/ipykernel_19232/1134765198.py\u001b[0m in \u001b[0;36m<module>\u001b[1;34m\u001b[0m\n\u001b[1;32m----> 1\u001b[1;33m \u001b[0msorted\u001b[0m\u001b[1;33m(\u001b[0m\u001b[0mx\u001b[0m\u001b[1;33m,\u001b[0m \u001b[0mkey\u001b[0m\u001b[1;33m=\u001b[0m\u001b[0mx\u001b[0m\u001b[1;33m[\u001b[0m\u001b[1;36m1\u001b[0m\u001b[1;33m]\u001b[0m\u001b[1;33m)\u001b[0m\u001b[1;33m\u001b[0m\u001b[1;33m\u001b[0m\u001b[0m\n\u001b[0m",
      "\u001b[1;31mTypeError\u001b[0m: 'tuple' object is not callable"
     ]
    }
   ],
   "source": [
    "sorted(x, key=x[1])"
   ]
  },
  {
   "cell_type": "code",
   "execution_count": 54,
   "id": "915d24fb",
   "metadata": {},
   "outputs": [],
   "source": [
    "x = [\n",
    "    ['efg', 1],\n",
    "    ['abc', 3], \n",
    "    ['hij', 2]\n",
    "]"
   ]
  },
  {
   "cell_type": "code",
   "execution_count": 56,
   "id": "de48582e",
   "metadata": {},
   "outputs": [
    {
     "data": {
      "text/plain": [
       "[['abc', 3], ['efg', 1], ['hij', 2]]"
      ]
     },
     "execution_count": 56,
     "metadata": {},
     "output_type": "execute_result"
    }
   ],
   "source": [
    "sorted(x)"
   ]
  },
  {
   "cell_type": "code",
   "execution_count": 57,
   "id": "2189bf32",
   "metadata": {},
   "outputs": [
    {
     "ename": "TypeError",
     "evalue": "'<' not supported between instances of 'int' and 'str'",
     "output_type": "error",
     "traceback": [
      "\u001b[1;31m---------------------------------------------------------------------------\u001b[0m",
      "\u001b[1;31mTypeError\u001b[0m                                 Traceback (most recent call last)",
      "\u001b[1;32m~\\AppData\\Local\\Temp/ipykernel_19232/1171036631.py\u001b[0m in \u001b[0;36m<module>\u001b[1;34m\u001b[0m\n\u001b[0;32m      4\u001b[0m     \u001b[1;33m[\u001b[0m\u001b[1;34m'hij'\u001b[0m\u001b[1;33m,\u001b[0m \u001b[1;36m2\u001b[0m\u001b[1;33m]\u001b[0m\u001b[1;33m\u001b[0m\u001b[1;33m\u001b[0m\u001b[0m\n\u001b[0;32m      5\u001b[0m ]\n\u001b[1;32m----> 6\u001b[1;33m \u001b[0msorted\u001b[0m\u001b[1;33m(\u001b[0m\u001b[0mx\u001b[0m\u001b[1;33m)\u001b[0m\u001b[1;33m\u001b[0m\u001b[1;33m\u001b[0m\u001b[0m\n\u001b[0m",
      "\u001b[1;31mTypeError\u001b[0m: '<' not supported between instances of 'int' and 'str'"
     ]
    }
   ],
   "source": [
    "x = [\n",
    "    ['efg', 1],\n",
    "    [3, 3], \n",
    "    ['hij', 2]\n",
    "]\n",
    "sorted(x)"
   ]
  },
  {
   "cell_type": "code",
   "execution_count": 59,
   "id": "6168bf6b",
   "metadata": {},
   "outputs": [
    {
     "data": {
      "text/plain": [
       "[['efg', 1], ['hij', 2], ['abc', 3]]"
      ]
     },
     "execution_count": 59,
     "metadata": {},
     "output_type": "execute_result"
    }
   ],
   "source": [
    "x = [\n",
    "    ['efg', 1],\n",
    "    ['abc', 3], \n",
    "    ['hij', 2]\n",
    "]\n",
    "\n",
    "sorted(x, key=lambda row: row[1])"
   ]
  },
  {
   "cell_type": "code",
   "execution_count": 60,
   "id": "10f08d67",
   "metadata": {},
   "outputs": [],
   "source": [
    "students = [\n",
    "    {'username': 'john', 'grade': 50},\n",
    "    {'username': 'jane', 'grade': 80},\n",
    "    {'username': 'doe', 'grade': 35},\n",
    "    {'grade': 89, 'username': 'Kelly'}\n",
    "]"
   ]
  },
  {
   "cell_type": "code",
   "execution_count": 62,
   "id": "f6864717",
   "metadata": {},
   "outputs": [
    {
     "data": {
      "text/plain": [
       "[{'username': 'doe', 'grade': 35},\n",
       " {'username': 'john', 'grade': 50},\n",
       " {'username': 'jane', 'grade': 80},\n",
       " {'grade': 89, 'username': 'Kelly'}]"
      ]
     },
     "execution_count": 62,
     "metadata": {},
     "output_type": "execute_result"
    }
   ],
   "source": [
    "sorted(students, key=lambda student: student['grade'])"
   ]
  },
  {
   "cell_type": "code",
   "execution_count": 63,
   "id": "feb19cb4",
   "metadata": {},
   "outputs": [
    {
     "data": {
      "text/plain": [
       "[{'grade': 89, 'username': 'Kelly'},\n",
       " {'username': 'jane', 'grade': 80},\n",
       " {'username': 'john', 'grade': 50},\n",
       " {'username': 'doe', 'grade': 35}]"
      ]
     },
     "execution_count": 63,
     "metadata": {},
     "output_type": "execute_result"
    }
   ],
   "source": [
    "sorted(students, key=lambda student: student['grade'], reverse=True)"
   ]
  },
  {
   "cell_type": "code",
   "execution_count": 64,
   "id": "33dbf45b",
   "metadata": {},
   "outputs": [
    {
     "data": {
      "text/plain": [
       "[{'grade': 89, 'username': 'Kelly'},\n",
       " {'username': 'doe', 'grade': 35},\n",
       " {'username': 'jane', 'grade': 80},\n",
       " {'username': 'john', 'grade': 50}]"
      ]
     },
     "execution_count": 64,
     "metadata": {},
     "output_type": "execute_result"
    }
   ],
   "source": [
    "sorted(students, key=lambda student: student['username'])"
   ]
  },
  {
   "cell_type": "code",
   "execution_count": 71,
   "id": "5b29c29f",
   "metadata": {},
   "outputs": [],
   "source": [
    "# SyntaxError -- invalid Python syntax\n",
    "def func():\n",
    "    pass"
   ]
  },
  {
   "cell_type": "code",
   "execution_count": 72,
   "id": "2daaadf4",
   "metadata": {},
   "outputs": [
    {
     "ename": "SyntaxError",
     "evalue": "invalid syntax (Temp/ipykernel_19232/1337827577.py, line 1)",
     "output_type": "error",
     "traceback": [
      "\u001b[1;36m  File \u001b[1;32m\"C:\\Users\\mkhaw\\AppData\\Local\\Temp/ipykernel_19232/1337827577.py\"\u001b[1;36m, line \u001b[1;32m1\u001b[0m\n\u001b[1;33m    def func(()):\u001b[0m\n\u001b[1;37m             ^\u001b[0m\n\u001b[1;31mSyntaxError\u001b[0m\u001b[1;31m:\u001b[0m invalid syntax\n"
     ]
    }
   ],
   "source": [
    "def func(()):\n",
    "    pass"
   ]
  },
  {
   "cell_type": "code",
   "execution_count": 73,
   "id": "45141e8d",
   "metadata": {},
   "outputs": [
    {
     "ename": "SyntaxError",
     "evalue": "invalid syntax (Temp/ipykernel_19232/2246135109.py, line 1)",
     "output_type": "error",
     "traceback": [
      "\u001b[1;36m  File \u001b[1;32m\"C:\\Users\\mkhaw\\AppData\\Local\\Temp/ipykernel_19232/2246135109.py\"\u001b[1;36m, line \u001b[1;32m1\u001b[0m\n\u001b[1;33m    for index in some_list\u001b[0m\n\u001b[1;37m                          ^\u001b[0m\n\u001b[1;31mSyntaxError\u001b[0m\u001b[1;31m:\u001b[0m invalid syntax\n"
     ]
    }
   ],
   "source": [
    "for index in some_list\n",
    "    print(index)"
   ]
  },
  {
   "cell_type": "code",
   "execution_count": 74,
   "id": "0eecc60a",
   "metadata": {},
   "outputs": [
    {
     "ename": "NameError",
     "evalue": "name 'some_list' is not defined",
     "output_type": "error",
     "traceback": [
      "\u001b[1;31m---------------------------------------------------------------------------\u001b[0m",
      "\u001b[1;31mNameError\u001b[0m                                 Traceback (most recent call last)",
      "\u001b[1;32m~\\AppData\\Local\\Temp/ipykernel_19232/4095349050.py\u001b[0m in \u001b[0;36m<module>\u001b[1;34m\u001b[0m\n\u001b[1;32m----> 1\u001b[1;33m \u001b[1;32mfor\u001b[0m \u001b[0mindex\u001b[0m \u001b[1;32min\u001b[0m \u001b[0msome_list\u001b[0m\u001b[1;33m:\u001b[0m\u001b[1;33m\u001b[0m\u001b[1;33m\u001b[0m\u001b[0m\n\u001b[0m\u001b[0;32m      2\u001b[0m     \u001b[0mprint\u001b[0m\u001b[1;33m(\u001b[0m\u001b[0mindex\u001b[0m\u001b[1;33m)\u001b[0m\u001b[1;33m\u001b[0m\u001b[1;33m\u001b[0m\u001b[0m\n",
      "\u001b[1;31mNameError\u001b[0m: name 'some_list' is not defined"
     ]
    }
   ],
   "source": [
    "for index in some_list:\n",
    "    print(index)"
   ]
  },
  {
   "cell_type": "code",
   "execution_count": 75,
   "id": "8118655d",
   "metadata": {},
   "outputs": [],
   "source": [
    "def func():\n",
    "    print(variable)"
   ]
  },
  {
   "cell_type": "code",
   "execution_count": 76,
   "id": "0106d6b9",
   "metadata": {},
   "outputs": [
    {
     "ename": "NameError",
     "evalue": "name 'variable' is not defined",
     "output_type": "error",
     "traceback": [
      "\u001b[1;31m---------------------------------------------------------------------------\u001b[0m",
      "\u001b[1;31mNameError\u001b[0m                                 Traceback (most recent call last)",
      "\u001b[1;32m~\\AppData\\Local\\Temp/ipykernel_19232/2078144611.py\u001b[0m in \u001b[0;36m<module>\u001b[1;34m\u001b[0m\n\u001b[1;32m----> 1\u001b[1;33m \u001b[0mfunc\u001b[0m\u001b[1;33m(\u001b[0m\u001b[1;33m)\u001b[0m\u001b[1;33m\u001b[0m\u001b[1;33m\u001b[0m\u001b[0m\n\u001b[0m",
      "\u001b[1;32m~\\AppData\\Local\\Temp/ipykernel_19232/2038279552.py\u001b[0m in \u001b[0;36mfunc\u001b[1;34m()\u001b[0m\n\u001b[0;32m      1\u001b[0m \u001b[1;32mdef\u001b[0m \u001b[0mfunc\u001b[0m\u001b[1;33m(\u001b[0m\u001b[1;33m)\u001b[0m\u001b[1;33m:\u001b[0m\u001b[1;33m\u001b[0m\u001b[1;33m\u001b[0m\u001b[0m\n\u001b[1;32m----> 2\u001b[1;33m     \u001b[0mprint\u001b[0m\u001b[1;33m(\u001b[0m\u001b[0mvariable\u001b[0m\u001b[1;33m)\u001b[0m\u001b[1;33m\u001b[0m\u001b[1;33m\u001b[0m\u001b[0m\n\u001b[0m",
      "\u001b[1;31mNameError\u001b[0m: name 'variable' is not defined"
     ]
    }
   ],
   "source": [
    "func()"
   ]
  },
  {
   "cell_type": "code",
   "execution_count": 77,
   "id": "8638b00d",
   "metadata": {},
   "outputs": [
    {
     "ename": "TypeError",
     "evalue": "can only concatenate str (not \"int\") to str",
     "output_type": "error",
     "traceback": [
      "\u001b[1;31m---------------------------------------------------------------------------\u001b[0m",
      "\u001b[1;31mTypeError\u001b[0m                                 Traceback (most recent call last)",
      "\u001b[1;32m~\\AppData\\Local\\Temp/ipykernel_19232/1841419283.py\u001b[0m in \u001b[0;36m<module>\u001b[1;34m\u001b[0m\n\u001b[1;32m----> 1\u001b[1;33m \u001b[1;34m'3'\u001b[0m \u001b[1;33m+\u001b[0m \u001b[1;36m3\u001b[0m\u001b[1;33m\u001b[0m\u001b[1;33m\u001b[0m\u001b[0m\n\u001b[0m",
      "\u001b[1;31mTypeError\u001b[0m: can only concatenate str (not \"int\") to str"
     ]
    }
   ],
   "source": [
    "'3' + 3"
   ]
  },
  {
   "cell_type": "code",
   "execution_count": 78,
   "id": "8ee9adca",
   "metadata": {},
   "outputs": [
    {
     "ename": "TypeError",
     "evalue": "unsupported operand type(s) for +: 'int' and 'str'",
     "output_type": "error",
     "traceback": [
      "\u001b[1;31m---------------------------------------------------------------------------\u001b[0m",
      "\u001b[1;31mTypeError\u001b[0m                                 Traceback (most recent call last)",
      "\u001b[1;32m~\\AppData\\Local\\Temp/ipykernel_19232/238351767.py\u001b[0m in \u001b[0;36m<module>\u001b[1;34m\u001b[0m\n\u001b[1;32m----> 1\u001b[1;33m \u001b[1;36m3\u001b[0m \u001b[1;33m+\u001b[0m \u001b[1;34m'3'\u001b[0m\u001b[1;33m\u001b[0m\u001b[1;33m\u001b[0m\u001b[0m\n\u001b[0m",
      "\u001b[1;31mTypeError\u001b[0m: unsupported operand type(s) for +: 'int' and 'str'"
     ]
    }
   ],
   "source": [
    "3 + '3'"
   ]
  },
  {
   "cell_type": "code",
   "execution_count": 79,
   "id": "4146fbb0",
   "metadata": {},
   "outputs": [
    {
     "ename": "IndexError",
     "evalue": "list index out of range",
     "output_type": "error",
     "traceback": [
      "\u001b[1;31m---------------------------------------------------------------------------\u001b[0m",
      "\u001b[1;31mIndexError\u001b[0m                                Traceback (most recent call last)",
      "\u001b[1;32m~\\AppData\\Local\\Temp/ipykernel_19232/4099616676.py\u001b[0m in \u001b[0;36m<module>\u001b[1;34m\u001b[0m\n\u001b[0;32m      1\u001b[0m \u001b[1;31m# IndexError\u001b[0m\u001b[1;33m\u001b[0m\u001b[1;33m\u001b[0m\u001b[1;33m\u001b[0m\u001b[0m\n\u001b[0;32m      2\u001b[0m \u001b[0mmy_list\u001b[0m \u001b[1;33m=\u001b[0m \u001b[1;33m[\u001b[0m\u001b[1;36m1\u001b[0m\u001b[1;33m,\u001b[0m \u001b[1;36m2\u001b[0m\u001b[1;33m,\u001b[0m \u001b[1;36m3\u001b[0m\u001b[1;33m]\u001b[0m\u001b[1;33m\u001b[0m\u001b[1;33m\u001b[0m\u001b[0m\n\u001b[1;32m----> 3\u001b[1;33m \u001b[0mmy_list\u001b[0m\u001b[1;33m[\u001b[0m\u001b[1;36m4\u001b[0m\u001b[1;33m]\u001b[0m\u001b[1;33m\u001b[0m\u001b[1;33m\u001b[0m\u001b[0m\n\u001b[0m",
      "\u001b[1;31mIndexError\u001b[0m: list index out of range"
     ]
    }
   ],
   "source": [
    "# IndexError\n",
    "my_list = [1, 2, 3]\n",
    "my_list[4]"
   ]
  },
  {
   "cell_type": "code",
   "execution_count": 80,
   "id": "53fe6668",
   "metadata": {},
   "outputs": [
    {
     "data": {
      "text/plain": [
       "3"
      ]
     },
     "execution_count": 80,
     "metadata": {},
     "output_type": "execute_result"
    }
   ],
   "source": [
    "# ValueError calling a built-in function with invalid value type\n",
    "\n",
    "int('3')"
   ]
  },
  {
   "cell_type": "code",
   "execution_count": 81,
   "id": "44afecbb",
   "metadata": {},
   "outputs": [
    {
     "ename": "ValueError",
     "evalue": "invalid literal for int() with base 10: '3.0'",
     "output_type": "error",
     "traceback": [
      "\u001b[1;31m---------------------------------------------------------------------------\u001b[0m",
      "\u001b[1;31mValueError\u001b[0m                                Traceback (most recent call last)",
      "\u001b[1;32m~\\AppData\\Local\\Temp/ipykernel_19232/2894328385.py\u001b[0m in \u001b[0;36m<module>\u001b[1;34m\u001b[0m\n\u001b[1;32m----> 1\u001b[1;33m \u001b[0mint\u001b[0m\u001b[1;33m(\u001b[0m\u001b[1;34m'3.0'\u001b[0m\u001b[1;33m)\u001b[0m\u001b[1;33m\u001b[0m\u001b[1;33m\u001b[0m\u001b[0m\n\u001b[0m",
      "\u001b[1;31mValueError\u001b[0m: invalid literal for int() with base 10: '3.0'"
     ]
    }
   ],
   "source": [
    "int('3.0')"
   ]
  },
  {
   "cell_type": "code",
   "execution_count": 82,
   "id": "ec26b426",
   "metadata": {},
   "outputs": [
    {
     "data": {
      "text/plain": [
       "3.0"
      ]
     },
     "execution_count": 82,
     "metadata": {},
     "output_type": "execute_result"
    }
   ],
   "source": [
    "float('3.0')"
   ]
  },
  {
   "cell_type": "code",
   "execution_count": 84,
   "id": "9640b010",
   "metadata": {},
   "outputs": [
    {
     "ename": "ValueError",
     "evalue": "invalid literal for int() with base 10: '3a'",
     "output_type": "error",
     "traceback": [
      "\u001b[1;31m---------------------------------------------------------------------------\u001b[0m",
      "\u001b[1;31mValueError\u001b[0m                                Traceback (most recent call last)",
      "\u001b[1;32m~\\AppData\\Local\\Temp/ipykernel_19232/2188293556.py\u001b[0m in \u001b[0;36m<module>\u001b[1;34m\u001b[0m\n\u001b[1;32m----> 1\u001b[1;33m \u001b[0mint\u001b[0m\u001b[1;33m(\u001b[0m\u001b[1;34m'3a'\u001b[0m\u001b[1;33m)\u001b[0m\u001b[1;33m\u001b[0m\u001b[1;33m\u001b[0m\u001b[0m\n\u001b[0m",
      "\u001b[1;31mValueError\u001b[0m: invalid literal for int() with base 10: '3a'"
     ]
    }
   ],
   "source": [
    "int('3a')"
   ]
  },
  {
   "cell_type": "code",
   "execution_count": 85,
   "id": "9b9bd6d1",
   "metadata": {},
   "outputs": [],
   "source": [
    "student = {'username': 'john', 'grade': 50}"
   ]
  },
  {
   "cell_type": "code",
   "execution_count": 86,
   "id": "18640d9f",
   "metadata": {},
   "outputs": [
    {
     "ename": "KeyError",
     "evalue": "'class'",
     "output_type": "error",
     "traceback": [
      "\u001b[1;31m---------------------------------------------------------------------------\u001b[0m",
      "\u001b[1;31mKeyError\u001b[0m                                  Traceback (most recent call last)",
      "\u001b[1;32m~\\AppData\\Local\\Temp/ipykernel_19232/2070866390.py\u001b[0m in \u001b[0;36m<module>\u001b[1;34m\u001b[0m\n\u001b[1;32m----> 1\u001b[1;33m \u001b[0mstudent\u001b[0m\u001b[1;33m[\u001b[0m\u001b[1;34m'class'\u001b[0m\u001b[1;33m]\u001b[0m\u001b[1;33m\u001b[0m\u001b[1;33m\u001b[0m\u001b[0m\n\u001b[0m",
      "\u001b[1;31mKeyError\u001b[0m: 'class'"
     ]
    }
   ],
   "source": [
    "student['class']"
   ]
  },
  {
   "cell_type": "code",
   "execution_count": 87,
   "id": "2ad52c48",
   "metadata": {},
   "outputs": [
    {
     "data": {
      "text/plain": [
       "'TEST1234'"
      ]
     },
     "execution_count": 87,
     "metadata": {},
     "output_type": "execute_result"
    }
   ],
   "source": [
    "string = 'test1234'\n",
    "string.upper()"
   ]
  },
  {
   "cell_type": "code",
   "execution_count": 88,
   "id": "8ac29ac5",
   "metadata": {},
   "outputs": [
    {
     "ename": "AttributeError",
     "evalue": "'str' object has no attribute 'uper'",
     "output_type": "error",
     "traceback": [
      "\u001b[1;31m---------------------------------------------------------------------------\u001b[0m",
      "\u001b[1;31mAttributeError\u001b[0m                            Traceback (most recent call last)",
      "\u001b[1;32m~\\AppData\\Local\\Temp/ipykernel_19232/2585139419.py\u001b[0m in \u001b[0;36m<module>\u001b[1;34m\u001b[0m\n\u001b[0;32m      1\u001b[0m \u001b[0mstring\u001b[0m \u001b[1;33m=\u001b[0m \u001b[1;34m'test1234'\u001b[0m\u001b[1;33m\u001b[0m\u001b[1;33m\u001b[0m\u001b[0m\n\u001b[1;32m----> 2\u001b[1;33m \u001b[0mstring\u001b[0m\u001b[1;33m.\u001b[0m\u001b[0muper\u001b[0m\u001b[1;33m(\u001b[0m\u001b[1;33m)\u001b[0m\u001b[1;33m\u001b[0m\u001b[1;33m\u001b[0m\u001b[0m\n\u001b[0m",
      "\u001b[1;31mAttributeError\u001b[0m: 'str' object has no attribute 'uper'"
     ]
    }
   ],
   "source": [
    "string = 'test1234'\n",
    "string.uper()"
   ]
  },
  {
   "cell_type": "code",
   "execution_count": 89,
   "id": "cf0382b2",
   "metadata": {},
   "outputs": [
    {
     "ename": "ValueError",
     "evalue": "a message",
     "output_type": "error",
     "traceback": [
      "\u001b[1;31m---------------------------------------------------------------------------\u001b[0m",
      "\u001b[1;31mValueError\u001b[0m                                Traceback (most recent call last)",
      "\u001b[1;32m~\\AppData\\Local\\Temp/ipykernel_19232/1307917353.py\u001b[0m in \u001b[0;36m<module>\u001b[1;34m\u001b[0m\n\u001b[1;32m----> 1\u001b[1;33m \u001b[1;32mraise\u001b[0m \u001b[0mValueError\u001b[0m\u001b[1;33m(\u001b[0m\u001b[1;34m'a message'\u001b[0m\u001b[1;33m)\u001b[0m\u001b[1;33m\u001b[0m\u001b[1;33m\u001b[0m\u001b[0m\n\u001b[0m",
      "\u001b[1;31mValueError\u001b[0m: a message"
     ]
    }
   ],
   "source": [
    "raise ValueError('a message')"
   ]
  },
  {
   "cell_type": "code",
   "execution_count": 90,
   "id": "9951417f",
   "metadata": {},
   "outputs": [
    {
     "ename": "AttributeError",
     "evalue": "a message",
     "output_type": "error",
     "traceback": [
      "\u001b[1;31m---------------------------------------------------------------------------\u001b[0m",
      "\u001b[1;31mAttributeError\u001b[0m                            Traceback (most recent call last)",
      "\u001b[1;32m~\\AppData\\Local\\Temp/ipykernel_19232/2892830225.py\u001b[0m in \u001b[0;36m<module>\u001b[1;34m\u001b[0m\n\u001b[1;32m----> 1\u001b[1;33m \u001b[1;32mraise\u001b[0m \u001b[0mAttributeError\u001b[0m\u001b[1;33m(\u001b[0m\u001b[1;34m'a message'\u001b[0m\u001b[1;33m)\u001b[0m\u001b[1;33m\u001b[0m\u001b[1;33m\u001b[0m\u001b[0m\n\u001b[0m",
      "\u001b[1;31mAttributeError\u001b[0m: a message"
     ]
    }
   ],
   "source": [
    "raise AttributeError('a message')"
   ]
  },
  {
   "cell_type": "code",
   "execution_count": 91,
   "id": "b4e16562",
   "metadata": {},
   "outputs": [
    {
     "ename": "AttributeError",
     "evalue": "",
     "output_type": "error",
     "traceback": [
      "\u001b[1;31m---------------------------------------------------------------------------\u001b[0m",
      "\u001b[1;31mAttributeError\u001b[0m                            Traceback (most recent call last)",
      "\u001b[1;32m~\\AppData\\Local\\Temp/ipykernel_19232/2934461794.py\u001b[0m in \u001b[0;36m<module>\u001b[1;34m\u001b[0m\n\u001b[1;32m----> 1\u001b[1;33m \u001b[1;32mraise\u001b[0m \u001b[0mAttributeError\u001b[0m\u001b[1;33m(\u001b[0m\u001b[1;33m)\u001b[0m\u001b[1;33m\u001b[0m\u001b[1;33m\u001b[0m\u001b[0m\n\u001b[0m",
      "\u001b[1;31mAttributeError\u001b[0m: "
     ]
    }
   ],
   "source": [
    "raise AttributeError()"
   ]
  },
  {
   "cell_type": "code",
   "execution_count": null,
   "id": "ee25ec42",
   "metadata": {},
   "outputs": [],
   "source": [
    "def calculate_bmi(height, weight):\n",
    "\n",
    "    if type(height) not in [float, int]:\n",
    "        raise TypeError('Height has to be float or an int')\n",
    "\n",
    "    if type(weight) not in [float, int]:\n",
    "        raise TypeError('Weight has to be float or an int')\n",
    "\n",
    "\n",
    "    if height <= 0:\n",
    "        raise ValueError('Height cannot be less than or equal to 0')\n",
    "\n",
    "    if weight <= 0:\n",
    "        raise ValueError('Weight cannot be less than or equal to 0')\n",
    "\n",
    "    return 703 * weight / height**2\n",
    "\n",
    "calculate_bmi('60', 150)"
   ]
  },
  {
   "cell_type": "code",
   "execution_count": 99,
   "id": "5088201f",
   "metadata": {},
   "outputs": [
    {
     "name": "stdout",
     "output_type": "stream",
     "text": [
      "Please enter height: abc\n",
      "could not convert string to float: 'abc'\n",
      "Please enter a number\n",
      "I always run!\n",
      "I always run!\n"
     ]
    },
    {
     "ename": "KeyboardInterrupt",
     "evalue": "Interrupted by user",
     "output_type": "error",
     "traceback": [
      "\u001b[1;31m---------------------------------------------------------------------------\u001b[0m",
      "\u001b[1;31mKeyboardInterrupt\u001b[0m                         Traceback (most recent call last)",
      "\u001b[1;32m~\\AppData\\Local\\Temp/ipykernel_19232/3651724932.py\u001b[0m in \u001b[0;36m<module>\u001b[1;34m\u001b[0m\n\u001b[0;32m      1\u001b[0m \u001b[1;32mwhile\u001b[0m \u001b[1;32mTrue\u001b[0m\u001b[1;33m:\u001b[0m\u001b[1;33m\u001b[0m\u001b[1;33m\u001b[0m\u001b[0m\n\u001b[0;32m      2\u001b[0m     \u001b[1;32mtry\u001b[0m\u001b[1;33m:\u001b[0m\u001b[1;33m\u001b[0m\u001b[1;33m\u001b[0m\u001b[0m\n\u001b[1;32m----> 3\u001b[1;33m         \u001b[0mheight\u001b[0m \u001b[1;33m=\u001b[0m \u001b[0mfloat\u001b[0m\u001b[1;33m(\u001b[0m\u001b[0minput\u001b[0m\u001b[1;33m(\u001b[0m\u001b[1;34m'Please enter height: '\u001b[0m\u001b[1;33m)\u001b[0m\u001b[1;33m)\u001b[0m\u001b[1;33m\u001b[0m\u001b[1;33m\u001b[0m\u001b[0m\n\u001b[0m\u001b[0;32m      4\u001b[0m         \u001b[0mweight\u001b[0m \u001b[1;33m=\u001b[0m \u001b[0mfloat\u001b[0m\u001b[1;33m(\u001b[0m\u001b[0minput\u001b[0m\u001b[1;33m(\u001b[0m\u001b[1;34m'Please enter weight: '\u001b[0m\u001b[1;33m)\u001b[0m\u001b[1;33m)\u001b[0m\u001b[1;33m\u001b[0m\u001b[1;33m\u001b[0m\u001b[0m\n\u001b[0;32m      5\u001b[0m     \u001b[1;32mexcept\u001b[0m \u001b[0mException\u001b[0m \u001b[1;32mas\u001b[0m \u001b[0merror\u001b[0m\u001b[1;33m:\u001b[0m\u001b[1;33m\u001b[0m\u001b[1;33m\u001b[0m\u001b[0m\n",
      "\u001b[1;32mC:\\ProgramData\\Anaconda3\\lib\\site-packages\\ipykernel\\kernelbase.py\u001b[0m in \u001b[0;36mraw_input\u001b[1;34m(self, prompt)\u001b[0m\n\u001b[0;32m   1004\u001b[0m                 \u001b[1;34m\"raw_input was called, but this frontend does not support input requests.\"\u001b[0m\u001b[1;33m\u001b[0m\u001b[1;33m\u001b[0m\u001b[0m\n\u001b[0;32m   1005\u001b[0m             )\n\u001b[1;32m-> 1006\u001b[1;33m         return self._input_request(\n\u001b[0m\u001b[0;32m   1007\u001b[0m             \u001b[0mstr\u001b[0m\u001b[1;33m(\u001b[0m\u001b[0mprompt\u001b[0m\u001b[1;33m)\u001b[0m\u001b[1;33m,\u001b[0m\u001b[1;33m\u001b[0m\u001b[1;33m\u001b[0m\u001b[0m\n\u001b[0;32m   1008\u001b[0m             \u001b[0mself\u001b[0m\u001b[1;33m.\u001b[0m\u001b[0m_parent_ident\u001b[0m\u001b[1;33m[\u001b[0m\u001b[1;34m\"shell\"\u001b[0m\u001b[1;33m]\u001b[0m\u001b[1;33m,\u001b[0m\u001b[1;33m\u001b[0m\u001b[1;33m\u001b[0m\u001b[0m\n",
      "\u001b[1;32mC:\\ProgramData\\Anaconda3\\lib\\site-packages\\ipykernel\\kernelbase.py\u001b[0m in \u001b[0;36m_input_request\u001b[1;34m(self, prompt, ident, parent, password)\u001b[0m\n\u001b[0;32m   1049\u001b[0m             \u001b[1;32mexcept\u001b[0m \u001b[0mKeyboardInterrupt\u001b[0m\u001b[1;33m:\u001b[0m\u001b[1;33m\u001b[0m\u001b[1;33m\u001b[0m\u001b[0m\n\u001b[0;32m   1050\u001b[0m                 \u001b[1;31m# re-raise KeyboardInterrupt, to truncate traceback\u001b[0m\u001b[1;33m\u001b[0m\u001b[1;33m\u001b[0m\u001b[1;33m\u001b[0m\u001b[0m\n\u001b[1;32m-> 1051\u001b[1;33m                 \u001b[1;32mraise\u001b[0m \u001b[0mKeyboardInterrupt\u001b[0m\u001b[1;33m(\u001b[0m\u001b[1;34m\"Interrupted by user\"\u001b[0m\u001b[1;33m)\u001b[0m \u001b[1;32mfrom\u001b[0m \u001b[1;32mNone\u001b[0m\u001b[1;33m\u001b[0m\u001b[1;33m\u001b[0m\u001b[0m\n\u001b[0m\u001b[0;32m   1052\u001b[0m             \u001b[1;32mexcept\u001b[0m \u001b[0mException\u001b[0m\u001b[1;33m:\u001b[0m\u001b[1;33m\u001b[0m\u001b[1;33m\u001b[0m\u001b[0m\n\u001b[0;32m   1053\u001b[0m                 \u001b[0mself\u001b[0m\u001b[1;33m.\u001b[0m\u001b[0mlog\u001b[0m\u001b[1;33m.\u001b[0m\u001b[0mwarning\u001b[0m\u001b[1;33m(\u001b[0m\u001b[1;34m\"Invalid Message:\"\u001b[0m\u001b[1;33m,\u001b[0m \u001b[0mexc_info\u001b[0m\u001b[1;33m=\u001b[0m\u001b[1;32mTrue\u001b[0m\u001b[1;33m)\u001b[0m\u001b[1;33m\u001b[0m\u001b[1;33m\u001b[0m\u001b[0m\n",
      "\u001b[1;31mKeyboardInterrupt\u001b[0m: Interrupted by user"
     ]
    }
   ],
   "source": [
    "while True:\n",
    "    try:\n",
    "        height = float(input('Please enter height: '))\n",
    "        weight = float(input('Please enter weight: '))\n",
    "    except Exception as error:\n",
    "        print(error)\n",
    "        print('Please enter a number')\n",
    "    else:\n",
    "        print('I run when there is no error')\n",
    "        break\n",
    "    finally:\n",
    "        print('I always run!')\n",
    "\n",
    "print(calculate_bmi(height, weight))"
   ]
  },
  {
   "cell_type": "code",
   "execution_count": 101,
   "id": "3a7e800a",
   "metadata": {},
   "outputs": [
    {
     "name": "stdout",
     "output_type": "stream",
     "text": [
      "Please enter height: abcd\n",
      "could not convert string to float: 'abcd'\n",
      "Please enter a VALID Number\n",
      "I always run!\n",
      "I always run!\n"
     ]
    },
    {
     "ename": "KeyboardInterrupt",
     "evalue": "Interrupted by user",
     "output_type": "error",
     "traceback": [
      "\u001b[1;31m---------------------------------------------------------------------------\u001b[0m",
      "\u001b[1;31mKeyboardInterrupt\u001b[0m                         Traceback (most recent call last)",
      "\u001b[1;32m~\\AppData\\Local\\Temp/ipykernel_19232/2440554716.py\u001b[0m in \u001b[0;36m<module>\u001b[1;34m\u001b[0m\n\u001b[0;32m      1\u001b[0m \u001b[1;32mwhile\u001b[0m \u001b[1;32mTrue\u001b[0m\u001b[1;33m:\u001b[0m\u001b[1;33m\u001b[0m\u001b[1;33m\u001b[0m\u001b[0m\n\u001b[0;32m      2\u001b[0m     \u001b[1;32mtry\u001b[0m\u001b[1;33m:\u001b[0m\u001b[1;33m\u001b[0m\u001b[1;33m\u001b[0m\u001b[0m\n\u001b[1;32m----> 3\u001b[1;33m         \u001b[0mheight\u001b[0m \u001b[1;33m=\u001b[0m \u001b[0mfloat\u001b[0m\u001b[1;33m(\u001b[0m\u001b[0minput\u001b[0m\u001b[1;33m(\u001b[0m\u001b[1;34m'Please enter height: '\u001b[0m\u001b[1;33m)\u001b[0m\u001b[1;33m)\u001b[0m\u001b[1;33m\u001b[0m\u001b[1;33m\u001b[0m\u001b[0m\n\u001b[0m\u001b[0;32m      4\u001b[0m         \u001b[0mweight\u001b[0m \u001b[1;33m=\u001b[0m \u001b[0mfloat\u001b[0m\u001b[1;33m(\u001b[0m\u001b[0minput\u001b[0m\u001b[1;33m(\u001b[0m\u001b[1;34m'Please enter weight: '\u001b[0m\u001b[1;33m)\u001b[0m\u001b[1;33m)\u001b[0m\u001b[1;33m\u001b[0m\u001b[1;33m\u001b[0m\u001b[0m\n\u001b[0;32m      5\u001b[0m     \u001b[1;32mexcept\u001b[0m \u001b[0mValueError\u001b[0m \u001b[1;32mas\u001b[0m \u001b[0merror\u001b[0m\u001b[1;33m:\u001b[0m\u001b[1;33m\u001b[0m\u001b[1;33m\u001b[0m\u001b[0m\n",
      "\u001b[1;32mC:\\ProgramData\\Anaconda3\\lib\\site-packages\\ipykernel\\kernelbase.py\u001b[0m in \u001b[0;36mraw_input\u001b[1;34m(self, prompt)\u001b[0m\n\u001b[0;32m   1004\u001b[0m                 \u001b[1;34m\"raw_input was called, but this frontend does not support input requests.\"\u001b[0m\u001b[1;33m\u001b[0m\u001b[1;33m\u001b[0m\u001b[0m\n\u001b[0;32m   1005\u001b[0m             )\n\u001b[1;32m-> 1006\u001b[1;33m         return self._input_request(\n\u001b[0m\u001b[0;32m   1007\u001b[0m             \u001b[0mstr\u001b[0m\u001b[1;33m(\u001b[0m\u001b[0mprompt\u001b[0m\u001b[1;33m)\u001b[0m\u001b[1;33m,\u001b[0m\u001b[1;33m\u001b[0m\u001b[1;33m\u001b[0m\u001b[0m\n\u001b[0;32m   1008\u001b[0m             \u001b[0mself\u001b[0m\u001b[1;33m.\u001b[0m\u001b[0m_parent_ident\u001b[0m\u001b[1;33m[\u001b[0m\u001b[1;34m\"shell\"\u001b[0m\u001b[1;33m]\u001b[0m\u001b[1;33m,\u001b[0m\u001b[1;33m\u001b[0m\u001b[1;33m\u001b[0m\u001b[0m\n",
      "\u001b[1;32mC:\\ProgramData\\Anaconda3\\lib\\site-packages\\ipykernel\\kernelbase.py\u001b[0m in \u001b[0;36m_input_request\u001b[1;34m(self, prompt, ident, parent, password)\u001b[0m\n\u001b[0;32m   1049\u001b[0m             \u001b[1;32mexcept\u001b[0m \u001b[0mKeyboardInterrupt\u001b[0m\u001b[1;33m:\u001b[0m\u001b[1;33m\u001b[0m\u001b[1;33m\u001b[0m\u001b[0m\n\u001b[0;32m   1050\u001b[0m                 \u001b[1;31m# re-raise KeyboardInterrupt, to truncate traceback\u001b[0m\u001b[1;33m\u001b[0m\u001b[1;33m\u001b[0m\u001b[1;33m\u001b[0m\u001b[0m\n\u001b[1;32m-> 1051\u001b[1;33m                 \u001b[1;32mraise\u001b[0m \u001b[0mKeyboardInterrupt\u001b[0m\u001b[1;33m(\u001b[0m\u001b[1;34m\"Interrupted by user\"\u001b[0m\u001b[1;33m)\u001b[0m \u001b[1;32mfrom\u001b[0m \u001b[1;32mNone\u001b[0m\u001b[1;33m\u001b[0m\u001b[1;33m\u001b[0m\u001b[0m\n\u001b[0m\u001b[0;32m   1052\u001b[0m             \u001b[1;32mexcept\u001b[0m \u001b[0mException\u001b[0m\u001b[1;33m:\u001b[0m\u001b[1;33m\u001b[0m\u001b[1;33m\u001b[0m\u001b[0m\n\u001b[0;32m   1053\u001b[0m                 \u001b[0mself\u001b[0m\u001b[1;33m.\u001b[0m\u001b[0mlog\u001b[0m\u001b[1;33m.\u001b[0m\u001b[0mwarning\u001b[0m\u001b[1;33m(\u001b[0m\u001b[1;34m\"Invalid Message:\"\u001b[0m\u001b[1;33m,\u001b[0m \u001b[0mexc_info\u001b[0m\u001b[1;33m=\u001b[0m\u001b[1;32mTrue\u001b[0m\u001b[1;33m)\u001b[0m\u001b[1;33m\u001b[0m\u001b[1;33m\u001b[0m\u001b[0m\n",
      "\u001b[1;31mKeyboardInterrupt\u001b[0m: Interrupted by user"
     ]
    }
   ],
   "source": [
    "while True:\n",
    "    try:\n",
    "        height = float(input('Please enter height: '))\n",
    "        weight = float(input('Please enter weight: '))\n",
    "    except ValueError as error:\n",
    "        print(error)\n",
    "        print('Please enter a VALID Number')\n",
    "    except student = {'username': 'john', 'grade': 50}\n",
    "\n",
    "\n",
    "def get_key(some_dict, key, default_value=None):\n",
    "    try:\n",
    "        return some_dict[key]\n",
    "    except KeyError:\n",
    "        return default_value as error:\n",
    "        print(error)\n",
    "        print('Not sure what this error')\n",
    "    else:\n",
    "        print('I run when there is no error')\n",
    "        break\n",
    "    finally:\n",
    "        print('I always run!')\n",
    "\n",
    "print(calculate_bmi(height, weight))"
   ]
  },
  {
   "cell_type": "code",
   "execution_count": 100,
   "id": "d149d44a",
   "metadata": {},
   "outputs": [
    {
     "ename": "ValueError",
     "evalue": "could not convert string to float: 'abc'",
     "output_type": "error",
     "traceback": [
      "\u001b[1;31m---------------------------------------------------------------------------\u001b[0m",
      "\u001b[1;31mValueError\u001b[0m                                Traceback (most recent call last)",
      "\u001b[1;32m~\\AppData\\Local\\Temp/ipykernel_19232/3646000741.py\u001b[0m in \u001b[0;36m<module>\u001b[1;34m\u001b[0m\n\u001b[1;32m----> 1\u001b[1;33m \u001b[0mfloat\u001b[0m\u001b[1;33m(\u001b[0m\u001b[1;34m'abc'\u001b[0m\u001b[1;33m)\u001b[0m\u001b[1;33m\u001b[0m\u001b[1;33m\u001b[0m\u001b[0m\n\u001b[0m",
      "\u001b[1;31mValueError\u001b[0m: could not convert string to float: 'abc'"
     ]
    }
   ],
   "source": [
    "float('abc')"
   ]
  },
  {
   "cell_type": "code",
   "execution_count": 102,
   "id": "9a9fb822",
   "metadata": {},
   "outputs": [
    {
     "data": {
      "text/plain": [
       "'john'"
      ]
     },
     "execution_count": 102,
     "metadata": {},
     "output_type": "execute_result"
    }
   ],
   "source": [
    "student = {'username': 'john', 'grade': 50}\n",
    "\n",
    "\n",
    "def get_key(some_dict, key, default_value=None):\n",
    "    try:\n",
    "        return some_dict[key]\n",
    "    except KeyError:\n",
    "        return default_value\n",
    "    \n",
    "get_key(student, 'username')"
   ]
  },
  {
   "cell_type": "code",
   "execution_count": 103,
   "id": "96c9ff5c",
   "metadata": {},
   "outputs": [],
   "source": [
    "get_key(student, 'userame')"
   ]
  },
  {
   "cell_type": "code",
   "execution_count": 104,
   "id": "ab6e3072",
   "metadata": {},
   "outputs": [
    {
     "data": {
      "text/plain": [
       "'Missing'"
      ]
     },
     "execution_count": 104,
     "metadata": {},
     "output_type": "execute_result"
    }
   ],
   "source": [
    "get_key(student, 'userame', 'Missing')"
   ]
  },
  {
   "cell_type": "code",
   "execution_count": 105,
   "id": "3d701bfd",
   "metadata": {},
   "outputs": [
    {
     "data": {
      "text/plain": [
       "'N/A'"
      ]
     },
     "execution_count": 105,
     "metadata": {},
     "output_type": "execute_result"
    }
   ],
   "source": [
    "def get_key(some_dict, key, default_value='N/A'):\n",
    "    try:\n",
    "        return some_dict[key]\n",
    "    except KeyError:\n",
    "        return default_value\n",
    "get_key(student, 'userame')"
   ]
  },
  {
   "cell_type": "code",
   "execution_count": 106,
   "id": "419229b2",
   "metadata": {},
   "outputs": [
    {
     "data": {
      "text/plain": [
       "'john'"
      ]
     },
     "execution_count": 106,
     "metadata": {},
     "output_type": "execute_result"
    }
   ],
   "source": [
    "def get_key(some_dict, key, default_value='N/A'):\n",
    "    try:\n",
    "        return some_dict[key]\n",
    "    except KeyError:\n",
    "        return default_value\n",
    "get_key(student, 'username')"
   ]
  },
  {
   "cell_type": "code",
   "execution_count": 107,
   "id": "c2a4fe0a",
   "metadata": {},
   "outputs": [
    {
     "ename": "KeyError",
     "evalue": "'usename'",
     "output_type": "error",
     "traceback": [
      "\u001b[1;31m---------------------------------------------------------------------------\u001b[0m",
      "\u001b[1;31mKeyError\u001b[0m                                  Traceback (most recent call last)",
      "\u001b[1;32m~\\AppData\\Local\\Temp/ipykernel_19232/4030442022.py\u001b[0m in \u001b[0;36m<module>\u001b[1;34m\u001b[0m\n\u001b[0;32m      3\u001b[0m     \u001b[1;32mreturn\u001b[0m \u001b[0msome_dict\u001b[0m\u001b[1;33m[\u001b[0m\u001b[0mkey\u001b[0m\u001b[1;33m]\u001b[0m\u001b[1;33m\u001b[0m\u001b[1;33m\u001b[0m\u001b[0m\n\u001b[0;32m      4\u001b[0m \u001b[1;33m\u001b[0m\u001b[0m\n\u001b[1;32m----> 5\u001b[1;33m \u001b[0mget_key\u001b[0m\u001b[1;33m(\u001b[0m\u001b[0mstudent\u001b[0m\u001b[1;33m,\u001b[0m \u001b[1;34m'usename'\u001b[0m\u001b[1;33m)\u001b[0m\u001b[1;33m\u001b[0m\u001b[1;33m\u001b[0m\u001b[0m\n\u001b[0m",
      "\u001b[1;32m~\\AppData\\Local\\Temp/ipykernel_19232/4030442022.py\u001b[0m in \u001b[0;36mget_key\u001b[1;34m(some_dict, key, default_value)\u001b[0m\n\u001b[0;32m      1\u001b[0m \u001b[1;32mdef\u001b[0m \u001b[0mget_key\u001b[0m\u001b[1;33m(\u001b[0m\u001b[0msome_dict\u001b[0m\u001b[1;33m,\u001b[0m \u001b[0mkey\u001b[0m\u001b[1;33m,\u001b[0m \u001b[0mdefault_value\u001b[0m\u001b[1;33m=\u001b[0m\u001b[1;34m'N/A'\u001b[0m\u001b[1;33m)\u001b[0m\u001b[1;33m:\u001b[0m\u001b[1;33m\u001b[0m\u001b[1;33m\u001b[0m\u001b[0m\n\u001b[0;32m      2\u001b[0m \u001b[1;33m\u001b[0m\u001b[0m\n\u001b[1;32m----> 3\u001b[1;33m     \u001b[1;32mreturn\u001b[0m \u001b[0msome_dict\u001b[0m\u001b[1;33m[\u001b[0m\u001b[0mkey\u001b[0m\u001b[1;33m]\u001b[0m\u001b[1;33m\u001b[0m\u001b[1;33m\u001b[0m\u001b[0m\n\u001b[0m\u001b[0;32m      4\u001b[0m \u001b[1;33m\u001b[0m\u001b[0m\n\u001b[0;32m      5\u001b[0m \u001b[0mget_key\u001b[0m\u001b[1;33m(\u001b[0m\u001b[0mstudent\u001b[0m\u001b[1;33m,\u001b[0m \u001b[1;34m'usename'\u001b[0m\u001b[1;33m)\u001b[0m\u001b[1;33m\u001b[0m\u001b[1;33m\u001b[0m\u001b[0m\n",
      "\u001b[1;31mKeyError\u001b[0m: 'usename'"
     ]
    }
   ],
   "source": [
    "def get_key(some_dict, key, default_value='N/A'):\n",
    "    \n",
    "    return some_dict[key]\n",
    "\n",
    "get_key(student, 'usename')"
   ]
  },
  {
   "cell_type": "code",
   "execution_count": 108,
   "id": "3747e63d",
   "metadata": {},
   "outputs": [
    {
     "ename": "TypeError",
     "evalue": "func() takes 0 positional arguments but 2 were given",
     "output_type": "error",
     "traceback": [
      "\u001b[1;31m---------------------------------------------------------------------------\u001b[0m",
      "\u001b[1;31mTypeError\u001b[0m                                 Traceback (most recent call last)",
      "\u001b[1;32m~\\AppData\\Local\\Temp/ipykernel_19232/204996027.py\u001b[0m in \u001b[0;36m<module>\u001b[1;34m\u001b[0m\n\u001b[1;32m----> 1\u001b[1;33m \u001b[0mfunc\u001b[0m\u001b[1;33m(\u001b[0m\u001b[1;36m1\u001b[0m\u001b[1;33m,\u001b[0m \u001b[1;36m2\u001b[0m\u001b[1;33m)\u001b[0m                              \u001b[1;31m# output: (1, 2, 0, 0)\u001b[0m\u001b[1;33m\u001b[0m\u001b[1;33m\u001b[0m\u001b[0m\n\u001b[0m\u001b[0;32m      2\u001b[0m \u001b[0mfunc\u001b[0m\u001b[1;33m(\u001b[0m\u001b[1;36m1\u001b[0m\u001b[1;33m,\u001b[0m \u001b[0mham\u001b[0m\u001b[1;33m=\u001b[0m\u001b[1;36m1\u001b[0m\u001b[1;33m,\u001b[0m \u001b[0meggs\u001b[0m\u001b[1;33m=\u001b[0m\u001b[1;36m0\u001b[0m\u001b[1;33m)\u001b[0m                  \u001b[1;31m# output: (1, 0, 0, 1)\u001b[0m\u001b[1;33m\u001b[0m\u001b[1;33m\u001b[0m\u001b[0m\n\u001b[0;32m      3\u001b[0m \u001b[0mfunc\u001b[0m\u001b[1;33m(\u001b[0m\u001b[0mspam\u001b[0m\u001b[1;33m=\u001b[0m\u001b[1;36m1\u001b[0m\u001b[1;33m,\u001b[0m \u001b[0meggs\u001b[0m\u001b[1;33m=\u001b[0m\u001b[1;36m0\u001b[0m\u001b[1;33m)\u001b[0m                    \u001b[1;31m# output: (1, 0, 0, 0)\u001b[0m\u001b[1;33m\u001b[0m\u001b[1;33m\u001b[0m\u001b[0m\n\u001b[0;32m      4\u001b[0m \u001b[0mfunc\u001b[0m\u001b[1;33m(\u001b[0m\u001b[0mtoast\u001b[0m\u001b[1;33m=\u001b[0m\u001b[1;36m1\u001b[0m\u001b[1;33m,\u001b[0m \u001b[0meggs\u001b[0m\u001b[1;33m=\u001b[0m\u001b[1;36m2\u001b[0m\u001b[1;33m,\u001b[0m \u001b[0mspam\u001b[0m\u001b[1;33m=\u001b[0m\u001b[1;36m3\u001b[0m\u001b[1;33m)\u001b[0m           \u001b[1;31m# output: (3, 2, 1, 0)\u001b[0m\u001b[1;33m\u001b[0m\u001b[1;33m\u001b[0m\u001b[0m\n\u001b[0;32m      5\u001b[0m \u001b[0mfunc\u001b[0m\u001b[1;33m(\u001b[0m\u001b[1;36m1\u001b[0m\u001b[1;33m,\u001b[0m \u001b[1;36m2\u001b[0m\u001b[1;33m,\u001b[0m \u001b[1;36m3\u001b[0m\u001b[1;33m,\u001b[0m \u001b[1;36m4\u001b[0m\u001b[1;33m)\u001b[0m                        \u001b[1;31m# output: (1, 2, 3, 4)\u001b[0m\u001b[1;33m\u001b[0m\u001b[1;33m\u001b[0m\u001b[0m\n",
      "\u001b[1;31mTypeError\u001b[0m: func() takes 0 positional arguments but 2 were given"
     ]
    }
   ],
   "source": [
    "func(1, 2)                              # output: (1, 2, 0, 0)\n",
    "func(1, ham=1, eggs=0)                  # output: (1, 0, 0, 1)\n",
    "func(spam=1, eggs=0)                    # output: (1, 0, 0, 0)\n",
    "func(toast=1, eggs=2, spam=3)           # output: (3, 2, 1, 0)\n",
    "func(1, 2, 3, 4)                        # output: (1, 2, 3, 4)"
   ]
  },
  {
   "cell_type": "code",
   "execution_count": 109,
   "id": "92f778c2",
   "metadata": {},
   "outputs": [
    {
     "name": "stdout",
     "output_type": "stream",
     "text": [
      "1 2 0 0\n"
     ]
    }
   ],
   "source": [
    "def func(spam, eggs, toast=0, ham=0):   # first 2 required\n",
    "    print (spam, eggs, toast, ham)\n",
    "func(1,2)"
   ]
  },
  {
   "cell_type": "code",
   "execution_count": 110,
   "id": "6642a233",
   "metadata": {},
   "outputs": [
    {
     "name": "stdout",
     "output_type": "stream",
     "text": [
      "1 2 3 0\n"
     ]
    }
   ],
   "source": [
    "func(1,2, 3)"
   ]
  },
  {
   "cell_type": "code",
   "execution_count": 111,
   "id": "171033fc",
   "metadata": {},
   "outputs": [
    {
     "name": "stdout",
     "output_type": "stream",
     "text": [
      "1 2 3 4\n"
     ]
    }
   ],
   "source": [
    "func(1, 2, 3, 4)"
   ]
  },
  {
   "cell_type": "code",
   "execution_count": 112,
   "id": "7e496d1a",
   "metadata": {},
   "outputs": [
    {
     "name": "stdout",
     "output_type": "stream",
     "text": [
      "1 0 0 1\n"
     ]
    }
   ],
   "source": [
    "def func(spam, eggs, toast=0, ham=0):   # first 2 required\n",
    "    print (spam, eggs, toast, ham)\n",
    "    \n",
    "func(1, ham=1, eggs=0) "
   ]
  },
  {
   "cell_type": "code",
   "execution_count": 113,
   "id": "f11994ed",
   "metadata": {},
   "outputs": [
    {
     "ename": "TypeError",
     "evalue": "func() missing 1 required positional argument: 'eggs'",
     "output_type": "error",
     "traceback": [
      "\u001b[1;31m---------------------------------------------------------------------------\u001b[0m",
      "\u001b[1;31mTypeError\u001b[0m                                 Traceback (most recent call last)",
      "\u001b[1;32m~\\AppData\\Local\\Temp/ipykernel_19232/361855354.py\u001b[0m in \u001b[0;36m<module>\u001b[1;34m\u001b[0m\n\u001b[1;32m----> 1\u001b[1;33m \u001b[0mfunc\u001b[0m\u001b[1;33m(\u001b[0m\u001b[1;36m1\u001b[0m\u001b[1;33m,\u001b[0m \u001b[0mham\u001b[0m\u001b[1;33m=\u001b[0m\u001b[1;36m1\u001b[0m\u001b[1;33m,\u001b[0m \u001b[0mtoast\u001b[0m\u001b[1;33m=\u001b[0m\u001b[1;36m0\u001b[0m\u001b[1;33m)\u001b[0m\u001b[1;33m\u001b[0m\u001b[1;33m\u001b[0m\u001b[0m\n\u001b[0m",
      "\u001b[1;31mTypeError\u001b[0m: func() missing 1 required positional argument: 'eggs'"
     ]
    }
   ],
   "source": [
    "func(1, ham=1, toast=0) "
   ]
  },
  {
   "cell_type": "code",
   "execution_count": 115,
   "id": "b649fe51",
   "metadata": {},
   "outputs": [
    {
     "name": "stdout",
     "output_type": "stream",
     "text": [
      "1 0 4 4\n"
     ]
    }
   ],
   "source": [
    "def func(spam, eggs, toast=4, ham=4):   # first 2 required\n",
    "    print (spam, eggs, toast, ham)\n",
    "  \n",
    "\n",
    "func(spam=1, eggs=0) "
   ]
  },
  {
   "cell_type": "code",
   "execution_count": 116,
   "id": "67af23c2",
   "metadata": {},
   "outputs": [
    {
     "name": "stdout",
     "output_type": "stream",
     "text": [
      "1 (2, 3) {'x': 1, 'y': 2}\n"
     ]
    }
   ],
   "source": [
    "def f(a, *args, **kwargs): \n",
    "    print(a, args, kwargs)\n",
    "\n",
    "f(1, 2, 3, x=1, y=2)"
   ]
  },
  {
   "cell_type": "code",
   "execution_count": 117,
   "id": "453af0d8",
   "metadata": {},
   "outputs": [
    {
     "name": "stdout",
     "output_type": "stream",
     "text": [
      "1 (2, 3, 5, 6, 7, 7, 8, 10) {'x': 1, 'y': 2}\n"
     ]
    }
   ],
   "source": [
    "f(1, 2, 3, 5, 6, 7, 7,8, 10, x=1, y=2)"
   ]
  },
  {
   "cell_type": "code",
   "execution_count": 118,
   "id": "9a133b90",
   "metadata": {},
   "outputs": [
    {
     "name": "stdout",
     "output_type": "stream",
     "text": [
      "1 2\n"
     ]
    }
   ],
   "source": [
    "x = (1, 2)\n",
    "a, b = x\n",
    "print(a, b)"
   ]
  },
  {
   "cell_type": "code",
   "execution_count": 119,
   "id": "d0294571",
   "metadata": {},
   "outputs": [
    {
     "ename": "ValueError",
     "evalue": "not enough values to unpack (expected 3, got 2)",
     "output_type": "error",
     "traceback": [
      "\u001b[1;31m---------------------------------------------------------------------------\u001b[0m",
      "\u001b[1;31mValueError\u001b[0m                                Traceback (most recent call last)",
      "\u001b[1;32m~\\AppData\\Local\\Temp/ipykernel_19232/2118594223.py\u001b[0m in \u001b[0;36m<module>\u001b[1;34m\u001b[0m\n\u001b[0;32m      1\u001b[0m \u001b[0mx\u001b[0m \u001b[1;33m=\u001b[0m \u001b[1;33m(\u001b[0m\u001b[1;36m1\u001b[0m\u001b[1;33m,\u001b[0m \u001b[1;36m2\u001b[0m\u001b[1;33m)\u001b[0m\u001b[1;33m\u001b[0m\u001b[1;33m\u001b[0m\u001b[0m\n\u001b[1;32m----> 2\u001b[1;33m \u001b[0ma\u001b[0m\u001b[1;33m,\u001b[0m \u001b[0mb\u001b[0m\u001b[1;33m,\u001b[0m \u001b[0mc\u001b[0m \u001b[1;33m=\u001b[0m \u001b[0mx\u001b[0m\u001b[1;33m\u001b[0m\u001b[1;33m\u001b[0m\u001b[0m\n\u001b[0m",
      "\u001b[1;31mValueError\u001b[0m: not enough values to unpack (expected 3, got 2)"
     ]
    }
   ],
   "source": [
    "x = (1, 2)\n",
    "a, b, c = x\n"
   ]
  },
  {
   "cell_type": "code",
   "execution_count": 120,
   "id": "611b6e90",
   "metadata": {},
   "outputs": [
    {
     "ename": "ValueError",
     "evalue": "too many values to unpack (expected 2)",
     "output_type": "error",
     "traceback": [
      "\u001b[1;31m---------------------------------------------------------------------------\u001b[0m",
      "\u001b[1;31mValueError\u001b[0m                                Traceback (most recent call last)",
      "\u001b[1;32m~\\AppData\\Local\\Temp/ipykernel_19232/2544584218.py\u001b[0m in \u001b[0;36m<module>\u001b[1;34m\u001b[0m\n\u001b[0;32m      1\u001b[0m \u001b[0mx\u001b[0m \u001b[1;33m=\u001b[0m \u001b[1;33m(\u001b[0m\u001b[1;36m1\u001b[0m\u001b[1;33m,\u001b[0m \u001b[1;36m2\u001b[0m\u001b[1;33m,\u001b[0m \u001b[1;36m3\u001b[0m\u001b[1;33m,\u001b[0m \u001b[1;36m4\u001b[0m\u001b[1;33m,\u001b[0m \u001b[1;36m5\u001b[0m\u001b[1;33m)\u001b[0m\u001b[1;33m\u001b[0m\u001b[1;33m\u001b[0m\u001b[0m\n\u001b[1;32m----> 2\u001b[1;33m \u001b[0ma\u001b[0m\u001b[1;33m,\u001b[0m \u001b[0mb\u001b[0m \u001b[1;33m=\u001b[0m \u001b[0mx\u001b[0m\u001b[1;33m\u001b[0m\u001b[1;33m\u001b[0m\u001b[0m\n\u001b[0m\u001b[0;32m      3\u001b[0m \u001b[0mprint\u001b[0m\u001b[1;33m(\u001b[0m\u001b[0ma\u001b[0m\u001b[1;33m,\u001b[0m \u001b[0mb\u001b[0m\u001b[1;33m)\u001b[0m\u001b[1;33m\u001b[0m\u001b[1;33m\u001b[0m\u001b[0m\n",
      "\u001b[1;31mValueError\u001b[0m: too many values to unpack (expected 2)"
     ]
    }
   ],
   "source": [
    "x = (1, 2, 3, 4, 5)\n",
    "a, b = x\n",
    "print(a, b)"
   ]
  },
  {
   "cell_type": "code",
   "execution_count": 121,
   "id": "22ba97f4",
   "metadata": {},
   "outputs": [
    {
     "name": "stdout",
     "output_type": "stream",
     "text": [
      "1 2 [3, 4, 5]\n"
     ]
    }
   ],
   "source": [
    "x = (1, 2, 3, 4, 5)\n",
    "a, b, *everythingelse = x\n",
    "print(a, b, everythingelse)"
   ]
  },
  {
   "cell_type": "code",
   "execution_count": 122,
   "id": "94ac7cb1",
   "metadata": {},
   "outputs": [
    {
     "name": "stdout",
     "output_type": "stream",
     "text": [
      "1 (2, 3) {'x': 1, 'y': 2, 'abc': 3}\n"
     ]
    }
   ],
   "source": [
    "def f(a, *args, **kwargs): \n",
    "    print(a, args, kwargs)\n",
    "\n",
    "f(1, 2, 3, x=1, y=2, abc=3)"
   ]
  },
  {
   "cell_type": "code",
   "execution_count": 123,
   "id": "19d7a062",
   "metadata": {},
   "outputs": [
    {
     "name": "stdout",
     "output_type": "stream",
     "text": [
      "1 (2, 3) {}\n"
     ]
    }
   ],
   "source": [
    "def f(a, *args, **kwargs): \n",
    "    print(a, args, kwargs)\n",
    "\n",
    "f(1, 2, 3)"
   ]
  },
  {
   "cell_type": "code",
   "execution_count": 124,
   "id": "30512328",
   "metadata": {},
   "outputs": [
    {
     "name": "stdout",
     "output_type": "stream",
     "text": [
      "1 () {}\n"
     ]
    }
   ],
   "source": [
    "f(1)"
   ]
  },
  {
   "cell_type": "code",
   "execution_count": 125,
   "id": "6c63ce2e",
   "metadata": {},
   "outputs": [
    {
     "ename": "SyntaxError",
     "evalue": "positional argument follows keyword argument (Temp/ipykernel_19232/1882681768.py, line 1)",
     "output_type": "error",
     "traceback": [
      "\u001b[1;36m  File \u001b[1;32m\"C:\\Users\\mkhaw\\AppData\\Local\\Temp/ipykernel_19232/1882681768.py\"\u001b[1;36m, line \u001b[1;32m1\u001b[0m\n\u001b[1;33m    f(abc=1, 1, 2,3)\u001b[0m\n\u001b[1;37m             ^\u001b[0m\n\u001b[1;31mSyntaxError\u001b[0m\u001b[1;31m:\u001b[0m positional argument follows keyword argument\n"
     ]
    }
   ],
   "source": [
    "f(abc=1, 1, 2,3)"
   ]
  },
  {
   "cell_type": "code",
   "execution_count": 126,
   "id": "605c95a3",
   "metadata": {},
   "outputs": [
    {
     "ename": "SyntaxError",
     "evalue": "positional argument follows keyword argument (Temp/ipykernel_19232/143201668.py, line 1)",
     "output_type": "error",
     "traceback": [
      "\u001b[1;36m  File \u001b[1;32m\"C:\\Users\\mkhaw\\AppData\\Local\\Temp/ipykernel_19232/143201668.py\"\u001b[1;36m, line \u001b[1;32m1\u001b[0m\n\u001b[1;33m    f(1, abc=2, 2,3)\u001b[0m\n\u001b[1;37m                ^\u001b[0m\n\u001b[1;31mSyntaxError\u001b[0m\u001b[1;31m:\u001b[0m positional argument follows keyword argument\n"
     ]
    }
   ],
   "source": [
    "f(1, abc=2, 2,3)"
   ]
  },
  {
   "cell_type": "code",
   "execution_count": 138,
   "id": "2810b50e",
   "metadata": {},
   "outputs": [],
   "source": [
    "def intersect(*args):\n",
    "    res = []\n",
    "    for x in args[0]:                  # scan first sequence\n",
    "        for other in args[1:]:         # for all other args\n",
    "            if x not in other: break   # item in each one?\n",
    "        else:                          # no:  break out of loop\n",
    "            res.append(x)              # yes: add items to end\n",
    "    return res\n",
    "\n",
    "def union(*args):\n",
    "    res = []\n",
    "    for seq in args:                   # for all args\n",
    "        for x in seq:                  # for all nodes\n",
    "            if not x in res:\n",
    "                res.append(x)          # add new items to result\n",
    "    return res\n",
    "\n",
    "\n",
    "s1, s2, s3, s4 = \"SPAM\", \"SCAM\", \"SLAM\", \"STP\""
   ]
  },
  {
   "cell_type": "code",
   "execution_count": 128,
   "id": "3488f6a2",
   "metadata": {},
   "outputs": [
    {
     "data": {
      "text/plain": [
       "['S', 'A', 'M']"
      ]
     },
     "execution_count": 128,
     "metadata": {},
     "output_type": "execute_result"
    }
   ],
   "source": [
    "intersect(s1, s2)"
   ]
  },
  {
   "cell_type": "code",
   "execution_count": 139,
   "id": "5df3bbb4",
   "metadata": {},
   "outputs": [
    {
     "name": "stdout",
     "output_type": "stream",
     "text": [
      "check if S in all other args\n",
      "SCAM\n",
      "SLAM\n",
      "STP\n",
      "S was found in all other arguments ('SCAM', 'SLAM', 'STP')\n",
      "check if P in all other args\n",
      "SCAM\n",
      "check if A in all other args\n",
      "SCAM\n",
      "SLAM\n",
      "STP\n",
      "check if M in all other args\n",
      "SCAM\n",
      "SLAM\n",
      "STP\n"
     ]
    },
    {
     "data": {
      "text/plain": [
       "['S']"
      ]
     },
     "execution_count": 139,
     "metadata": {},
     "output_type": "execute_result"
    }
   ],
   "source": [
    "def intersect(*args):\n",
    "    res = []\n",
    "    for x in args[0]:                  # scan first sequence\n",
    "        print(f'check if {x} in all other args')\n",
    "        for other in args[1:]:         # for all other args\n",
    "            print(other)\n",
    "            if x not in other: break   # item in each one?\n",
    "        else:                          # no:  break out of loop\n",
    "            print(f'{x} was found in all other arguments {args[1:]}')\n",
    "            res.append(x)              # yes: add items to end\n",
    "    return res\n",
    "intersect(s1, s2, s3, s4)"
   ]
  },
  {
   "cell_type": "code",
   "execution_count": 140,
   "id": "5dc12b14",
   "metadata": {},
   "outputs": [
    {
     "data": {
      "text/plain": [
       "140716681406432"
      ]
     },
     "execution_count": 140,
     "metadata": {},
     "output_type": "execute_result"
    }
   ],
   "source": [
    "x = 7\n",
    "id(x)"
   ]
  },
  {
   "cell_type": "code",
   "execution_count": 141,
   "id": "30d18a21",
   "metadata": {},
   "outputs": [
    {
     "data": {
      "text/plain": [
       "140716681406432"
      ]
     },
     "execution_count": 141,
     "metadata": {},
     "output_type": "execute_result"
    }
   ],
   "source": [
    "id(7)"
   ]
  },
  {
   "cell_type": "code",
   "execution_count": 144,
   "id": "e4e1cbab",
   "metadata": {},
   "outputs": [
    {
     "name": "stdout",
     "output_type": "stream",
     "text": [
      "id(number): 140716681406432\n"
     ]
    }
   ],
   "source": [
    "def cube(number):\n",
    "    print('id(number):', id(number))\n",
    "    return number ** 3\n",
    "\n",
    "y = cube(x)"
   ]
  },
  {
   "cell_type": "code",
   "execution_count": 145,
   "id": "a4d0779d",
   "metadata": {},
   "outputs": [
    {
     "data": {
      "text/plain": [
       "1800510821200"
      ]
     },
     "execution_count": 145,
     "metadata": {},
     "output_type": "execute_result"
    }
   ],
   "source": [
    "id(y)"
   ]
  },
  {
   "cell_type": "code",
   "execution_count": 146,
   "id": "3b1fc10f",
   "metadata": {},
   "outputs": [
    {
     "name": "stdout",
     "output_type": "stream",
     "text": [
      "number is x: True\n"
     ]
    },
    {
     "data": {
      "text/plain": [
       "343"
      ]
     },
     "execution_count": 146,
     "metadata": {},
     "output_type": "execute_result"
    }
   ],
   "source": [
    "x = 7\n",
    "def cube(number):\n",
    "    print('number is x:', number is x) \n",
    "    ## The Python's is operator returns True if its two operands have the same identify\n",
    "    return number ** 3\n",
    "\n",
    "cube(x)"
   ]
  },
  {
   "cell_type": "code",
   "execution_count": 147,
   "id": "47ab27d8",
   "metadata": {},
   "outputs": [
    {
     "name": "stdout",
     "output_type": "stream",
     "text": [
      "id(number) before modifying number: 140716681406432\n",
      "id(number) after modifying number: 1800510821520\n"
     ]
    },
    {
     "data": {
      "text/plain": [
       "40353607"
      ]
     },
     "execution_count": 147,
     "metadata": {},
     "output_type": "execute_result"
    }
   ],
   "source": [
    "def cube(number):\n",
    "    print('id(number) before modifying number:', id(number))\n",
    "    number **=3\n",
    "    print('id(number) after modifying number:', id(number))\n",
    "    return number ** 3\n",
    "\n",
    "cube(x)"
   ]
  },
  {
   "cell_type": "code",
   "execution_count": 153,
   "id": "775645f4",
   "metadata": {},
   "outputs": [
    {
     "name": "stdout",
     "output_type": "stream",
     "text": [
      "[6, 7, 8] 140716681406432\n",
      "id(lst) before modifying list: 1800507178048\n",
      "id(lst) after modifying list: 1800507178048\n",
      "[6, 3, 8] 140716681406304\n"
     ]
    }
   ],
   "source": [
    "def cube_list(lst):\n",
    "    print('id(lst) before modifying list:', id(lst))\n",
    "    lst[1] = 3\n",
    "    print('id(lst) after modifying list:', id(lst))\n",
    "    return None\n",
    "x_lst = [6, 7, 8]\n",
    "print(x_lst, id(x_lst[1]))\n",
    "cube_list(x_lst)\n",
    "print(x_lst, id(x_lst[1]))"
   ]
  },
  {
   "cell_type": "code",
   "execution_count": 154,
   "id": "56b9c6c8",
   "metadata": {},
   "outputs": [
    {
     "name": "stdout",
     "output_type": "stream",
     "text": [
      "Global reporting!\n",
      "Global reporting!\n",
      "Local reporting!\n",
      "I have been changed!\n",
      "I have been changed!\n"
     ]
    }
   ],
   "source": [
    "variable = 'Global reporting!'\n",
    "\n",
    "\n",
    "def use_variable_global():\n",
    "    ## since variable is outside the function\n",
    "    print(variable)\n",
    "\n",
    "\n",
    "def use_variable_local():\n",
    "    variable = 'Local reporting!'\n",
    "    print(variable)\n",
    "\n",
    "# def use_variable_global():\n",
    "\n",
    "def change_global_inside_function():\n",
    "    global variable\n",
    "    variable = 'I have been changed!'\n",
    "    print(variable)\n",
    "\n",
    "\n",
    "print(variable)\n",
    "use_variable_global()\n",
    "use_variable_local()\n",
    "change_global_inside_function()\n",
    "print(variable)"
   ]
  },
  {
   "cell_type": "code",
   "execution_count": 159,
   "id": "c008541a",
   "metadata": {},
   "outputs": [
    {
     "name": "stdout",
     "output_type": "stream",
     "text": [
      "my_list before change inside function1 [1, 2, 3]\n",
      "my_variable before change inside function1 20\n",
      "my_list after change inside function1 [1, 2, 3, 30]\n",
      "my_variable after change inside function1 10\n",
      "[1, 2, 3, 30] 20\n"
     ]
    }
   ],
   "source": [
    "def function1(my_list, my_variable):\n",
    "    print('my_list before change inside function1', my_list)\n",
    "    print('my_variable before change inside function1', my_variable)\n",
    "    my_list.append(30)\n",
    "    my_variable = 10\n",
    "\n",
    "    print('my_list after change inside function1', my_list)\n",
    "    print('my_variable after change inside function1', my_variable)\n",
    "\n",
    "x_lst = [1, 2, 3]\n",
    "x = 20\n",
    "function1(x_lst, x)\n",
    "\n",
    "print(x_lst, x)"
   ]
  },
  {
   "cell_type": "code",
   "execution_count": 161,
   "id": "88875b70",
   "metadata": {},
   "outputs": [
    {
     "name": "stdout",
     "output_type": "stream",
     "text": [
      "1800507789120\n",
      "1800506759296\n"
     ]
    }
   ],
   "source": [
    "x = [1, 2, 3]\n",
    "print(id(x))\n",
    "print(id(x[:]))"
   ]
  },
  {
   "cell_type": "code",
   "execution_count": null,
   "id": "913c3217",
   "metadata": {},
   "outputs": [],
   "source": []
  }
 ],
 "metadata": {
  "kernelspec": {
   "display_name": "Python 3 (ipykernel)",
   "language": "python",
   "name": "python3"
  },
  "language_info": {
   "codemirror_mode": {
    "name": "ipython",
    "version": 3
   },
   "file_extension": ".py",
   "mimetype": "text/x-python",
   "name": "python",
   "nbconvert_exporter": "python",
   "pygments_lexer": "ipython3",
   "version": "3.8.5"
  }
 },
 "nbformat": 4,
 "nbformat_minor": 5
}
