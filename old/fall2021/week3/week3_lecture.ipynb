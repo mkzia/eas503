{
 "cells": [
  {
   "cell_type": "code",
   "execution_count": 1,
   "id": "eb681afa",
   "metadata": {},
   "outputs": [
    {
     "data": {
      "text/plain": [
       "3.14"
      ]
     },
     "execution_count": 1,
     "metadata": {},
     "output_type": "execute_result"
    }
   ],
   "source": [
    "x = 3.1415\n",
    "\n",
    "round(x, 2)"
   ]
  },
  {
   "cell_type": "code",
   "execution_count": 2,
   "id": "3505b105",
   "metadata": {},
   "outputs": [
    {
     "name": "stdout",
     "output_type": "stream",
     "text": [
      "3.14\n"
     ]
    }
   ],
   "source": [
    "y = f'{x:.2f}'\n",
    "print(y)"
   ]
  },
  {
   "cell_type": "code",
   "execution_count": 3,
   "id": "6b190456",
   "metadata": {},
   "outputs": [
    {
     "data": {
      "text/plain": [
       "3.2"
      ]
     },
     "execution_count": 3,
     "metadata": {},
     "output_type": "execute_result"
    }
   ],
   "source": [
    "z = 3.199\n",
    "round(z, 2)"
   ]
  },
  {
   "cell_type": "code",
   "execution_count": 4,
   "id": "4c52ba5b",
   "metadata": {},
   "outputs": [
    {
     "name": "stdout",
     "output_type": "stream",
     "text": [
      "3.20\n"
     ]
    }
   ],
   "source": [
    "zz = f'{z:.2f}'\n",
    "print(zz)"
   ]
  },
  {
   "cell_type": "code",
   "execution_count": 6,
   "id": "836687b8",
   "metadata": {},
   "outputs": [
    {
     "name": "stdout",
     "output_type": "stream",
     "text": [
      "90\n",
      "409\n",
      "\n"
     ]
    }
   ],
   "source": [
    "x = 90\n",
    "y = 409\n",
    "\n",
    "s1 = f\"\"\"{x}\n",
    "{y}\n",
    "\"\"\"\n",
    "print(s1)"
   ]
  },
  {
   "cell_type": "code",
   "execution_count": 7,
   "id": "12ca3ec5",
   "metadata": {},
   "outputs": [
    {
     "name": "stdout",
     "output_type": "stream",
     "text": [
      "90\n",
      "409\n"
     ]
    }
   ],
   "source": [
    "string = f'{x}\\n'\n",
    "string +=  f'{y}'\n",
    "\n",
    "print(string)"
   ]
  },
  {
   "cell_type": "code",
   "execution_count": 8,
   "id": "06b489f3",
   "metadata": {},
   "outputs": [
    {
     "data": {
      "text/plain": [
       "499"
      ]
     },
     "execution_count": 8,
     "metadata": {},
     "output_type": "execute_result"
    }
   ],
   "source": [
    "x + y "
   ]
  },
  {
   "cell_type": "code",
   "execution_count": 9,
   "id": "cea69e73",
   "metadata": {},
   "outputs": [
    {
     "data": {
      "text/plain": [
       "int"
      ]
     },
     "execution_count": 9,
     "metadata": {},
     "output_type": "execute_result"
    }
   ],
   "source": [
    "a = round(2)\n",
    "type(a)"
   ]
  },
  {
   "cell_type": "code",
   "execution_count": 11,
   "id": "3e1636c2",
   "metadata": {},
   "outputs": [
    {
     "data": {
      "text/plain": [
       "float"
      ]
     },
     "execution_count": 11,
     "metadata": {},
     "output_type": "execute_result"
    }
   ],
   "source": [
    "type(round(2.2, 2))"
   ]
  },
  {
   "cell_type": "code",
   "execution_count": 12,
   "id": "27b8abe0",
   "metadata": {},
   "outputs": [
    {
     "data": {
      "text/plain": [
       "float"
      ]
     },
     "execution_count": 12,
     "metadata": {},
     "output_type": "execute_result"
    }
   ],
   "source": [
    "type(abs(-3.0))"
   ]
  },
  {
   "cell_type": "code",
   "execution_count": 13,
   "id": "f0420991",
   "metadata": {},
   "outputs": [
    {
     "data": {
      "text/plain": [
       "int"
      ]
     },
     "execution_count": 13,
     "metadata": {},
     "output_type": "execute_result"
    }
   ],
   "source": [
    "type(abs(-3))"
   ]
  },
  {
   "cell_type": "code",
   "execution_count": 14,
   "id": "aa9936a1",
   "metadata": {},
   "outputs": [],
   "source": [
    "title = '|' + '{:^51}'.format('Cereal Yields (kg/ha)') + '|'"
   ]
  },
  {
   "cell_type": "code",
   "execution_count": 15,
   "id": "fde39fe3",
   "metadata": {},
   "outputs": [
    {
     "name": "stdout",
     "output_type": "stream",
     "text": [
      "|\n"
     ]
    }
   ],
   "source": [
    "print('|')"
   ]
  },
  {
   "cell_type": "code",
   "execution_count": 16,
   "id": "1c087198",
   "metadata": {},
   "outputs": [
    {
     "name": "stdout",
     "output_type": "stream",
     "text": [
      "               Cereal Yields (kg/ha)               \n"
     ]
    }
   ],
   "source": [
    "print('{:^51}'.format('Cereal Yields (kg/ha)'))"
   ]
  },
  {
   "cell_type": "code",
   "execution_count": 17,
   "id": "040cff48",
   "metadata": {},
   "outputs": [
    {
     "name": "stdout",
     "output_type": "stream",
     "text": [
      "|               Cereal Yields (kg/ha)               |\n"
     ]
    }
   ],
   "source": [
    "print(title)"
   ]
  },
  {
   "cell_type": "code",
   "execution_count": 18,
   "id": "6643a49f",
   "metadata": {},
   "outputs": [
    {
     "name": "stdout",
     "output_type": "stream",
     "text": [
      "|               Cereal Yields (kg/ha)               |\n"
     ]
    }
   ],
   "source": [
    "header = 'Cereal Yields (kg/ha)'\n",
    "title = '|' + f'{header:^51}' + '|'\n",
    "print(title)"
   ]
  },
  {
   "cell_type": "code",
   "execution_count": 20,
   "id": "150e9d09",
   "metadata": {},
   "outputs": [
    {
     "name": "stdout",
     "output_type": "stream",
     "text": [
      "                       3.142                       \n"
     ]
    }
   ],
   "source": [
    "pi = 3.1415\n",
    "\n",
    "number = f'{pi:^51.3f}'\n",
    "print(number)"
   ]
  },
  {
   "cell_type": "code",
   "execution_count": 22,
   "id": "7159c1e3",
   "metadata": {},
   "outputs": [
    {
     "name": "stdout",
     "output_type": "stream",
     "text": [
      "000000000000000000000003.14200000000000000000000000\n"
     ]
    }
   ],
   "source": [
    "number = f'{pi:0^51.3f}'\n",
    "print(number)"
   ]
  },
  {
   "cell_type": "code",
   "execution_count": 26,
   "id": "66a4b293",
   "metadata": {},
   "outputs": [
    {
     "name": "stdout",
     "output_type": "stream",
     "text": [
      "001234\n"
     ]
    }
   ],
   "source": [
    "mrn = 1234\n",
    "\n",
    "new_mrn = f'{mrn:0>6}'\n",
    "print(new_mrn)"
   ]
  },
  {
   "cell_type": "code",
   "execution_count": 27,
   "id": "7a6b274c",
   "metadata": {},
   "outputs": [
    {
     "name": "stdout",
     "output_type": "stream",
     "text": [
      "001234\n"
     ]
    }
   ],
   "source": [
    "new_mrn = f'{mrn:06}'\n",
    "print(new_mrn)"
   ]
  },
  {
   "cell_type": "code",
   "execution_count": 33,
   "id": "f33e45ca",
   "metadata": {},
   "outputs": [
    {
     "name": "stdout",
     "output_type": "stream",
     "text": [
      "--1234\n"
     ]
    }
   ],
   "source": [
    "new_mrn = f'{mrn:->6}'\n",
    "print(new_mrn)"
   ]
  },
  {
   "cell_type": "code",
   "execution_count": 34,
   "id": "3c6a45e3",
   "metadata": {},
   "outputs": [
    {
     "name": "stdout",
     "output_type": "stream",
     "text": [
      "+---------------+--------+--------+--------+--------+\n"
     ]
    }
   ],
   "source": [
    "line = '+' + '-'*15 + '+' + ('-'*8 + '+')*4\n",
    "print(line)"
   ]
  },
  {
   "cell_type": "code",
   "execution_count": 35,
   "id": "f296f8b7",
   "metadata": {},
   "outputs": [
    {
     "name": "stdout",
     "output_type": "stream",
     "text": [
      "| {:<13} | {:6,d} | {:6,d} | {:6,d} | {:6,d} |\n"
     ]
    }
   ],
   "source": [
    "row = '| {:<13} |' + ' {:6,d} |'*4\n",
    "\n",
    "print(row)"
   ]
  },
  {
   "cell_type": "code",
   "execution_count": 37,
   "id": "5c33dd2a",
   "metadata": {},
   "outputs": [
    {
     "name": "stdout",
     "output_type": "stream",
     "text": [
      "1234556\n"
     ]
    }
   ],
   "source": [
    "x = f'{1234556:6d}'\n",
    "print(x)\n"
   ]
  },
  {
   "cell_type": "code",
   "execution_count": 38,
   "id": "30a332dc",
   "metadata": {},
   "outputs": [
    {
     "name": "stdout",
     "output_type": "stream",
     "text": [
      "|    Country    |  1980  |  1990  |  2000  |  2010  |\n"
     ]
    }
   ],
   "source": [
    "header = '| {:^13s} |'.format('Country') + (' {:^6d} |'*4).format(1980, 1990,\n",
    "                                                                  2000, 2010)\n",
    "print(header)"
   ]
  },
  {
   "cell_type": "code",
   "execution_count": 39,
   "id": "cda50366",
   "metadata": {},
   "outputs": [],
   "source": [
    "title = '|' + '{:^51}'.format('Cereal Yields (kg/ha)') + '|'\n",
    "line = '+' + '-'*15 + '+' + ('-'*8 + '+')*4\n",
    "row = '| {:<13} |' + ' {:6,d} |'*4\n",
    "header = '| {:^13s} |'.format('Country') + (' {:^6d} |'*4).format(1980, 1990,2000, 2010)"
   ]
  },
  {
   "cell_type": "code",
   "execution_count": 40,
   "id": "bcfd96ed",
   "metadata": {},
   "outputs": [
    {
     "name": "stdout",
     "output_type": "stream",
     "text": [
      "1 2 abc 3.4\n"
     ]
    }
   ],
   "source": [
    "print(1, 2, 'abc', 3.4)"
   ]
  },
  {
   "cell_type": "code",
   "execution_count": 41,
   "id": "51a9ae6b",
   "metadata": {},
   "outputs": [
    {
     "name": "stdout",
     "output_type": "stream",
     "text": [
      "1-2-abc-3.4\n"
     ]
    }
   ],
   "source": [
    "print(1, 2, 'abc', 3.4, sep='-')"
   ]
  },
  {
   "cell_type": "code",
   "execution_count": 42,
   "id": "04c03c71",
   "metadata": {},
   "outputs": [
    {
     "name": "stdout",
     "output_type": "stream",
     "text": [
      "+---------------------------------------------------+\n",
      "|               Cereal Yields (kg/ha)               |\n",
      "+---------------+--------+--------+--------+--------+\n",
      "|    Country    |  1980  |  1990  |  2000  |  2010  |\n",
      "+---------------+--------+--------+--------+--------+\n",
      "| China         |  2,937 |  4,321 |  4,752 |  5,527 |\n",
      "| Germany       |  4,225 |  5,411 |  6,453 |  6,718 |\n",
      "| United States |  3,772 |  4,755 |  5,854 |  6,988 |\n",
      "+---------------+--------+--------+--------+--------+\n"
     ]
    }
   ],
   "source": [
    "print('+' + '-'*(len(title)-2) + '+',\n",
    "      title,\n",
    "      line,\n",
    "      header,\n",
    "      line,\n",
    "      row.format('China', 2937, 4321, 4752, 5527),\n",
    "      row.format('Germany', 4225, 5411, 6453, 6718),\n",
    "      row.format('United States', 3772, 4755, 5854, 6988),\n",
    "      line,\n",
    "      sep='\\n')"
   ]
  },
  {
   "cell_type": "code",
   "execution_count": 43,
   "id": "8efee8e7",
   "metadata": {},
   "outputs": [
    {
     "name": "stdout",
     "output_type": "stream",
     "text": [
      "+---------------------------------------------------+\n"
     ]
    }
   ],
   "source": [
    "print('+' + '-'*(len(title)-2) + '+')"
   ]
  },
  {
   "cell_type": "code",
   "execution_count": 44,
   "id": "6c47a90c",
   "metadata": {},
   "outputs": [],
   "source": [
    "a = 1\n",
    "b = 2"
   ]
  },
  {
   "cell_type": "code",
   "execution_count": 45,
   "id": "b8fa2168",
   "metadata": {},
   "outputs": [
    {
     "data": {
      "text/plain": [
       "False"
      ]
     },
     "execution_count": 45,
     "metadata": {},
     "output_type": "execute_result"
    }
   ],
   "source": [
    "a == b"
   ]
  },
  {
   "cell_type": "code",
   "execution_count": 46,
   "id": "08655d01",
   "metadata": {},
   "outputs": [],
   "source": [
    "# a = b ## avoid this"
   ]
  },
  {
   "cell_type": "code",
   "execution_count": 47,
   "id": "71e5608f",
   "metadata": {},
   "outputs": [
    {
     "data": {
      "text/plain": [
       "True"
      ]
     },
     "execution_count": 47,
     "metadata": {},
     "output_type": "execute_result"
    }
   ],
   "source": [
    "a != b"
   ]
  },
  {
   "cell_type": "code",
   "execution_count": 48,
   "id": "8daf3275",
   "metadata": {},
   "outputs": [
    {
     "data": {
      "text/plain": [
       "False"
      ]
     },
     "execution_count": 48,
     "metadata": {},
     "output_type": "execute_result"
    }
   ],
   "source": [
    "a > b"
   ]
  },
  {
   "cell_type": "code",
   "execution_count": 49,
   "id": "9cd7ad4f",
   "metadata": {},
   "outputs": [
    {
     "data": {
      "text/plain": [
       "True"
      ]
     },
     "execution_count": 49,
     "metadata": {},
     "output_type": "execute_result"
    }
   ],
   "source": [
    "a < b"
   ]
  },
  {
   "cell_type": "code",
   "execution_count": 50,
   "id": "f4b6138c",
   "metadata": {},
   "outputs": [
    {
     "data": {
      "text/plain": [
       "False"
      ]
     },
     "execution_count": 50,
     "metadata": {},
     "output_type": "execute_result"
    }
   ],
   "source": [
    "a >= b"
   ]
  },
  {
   "cell_type": "code",
   "execution_count": 51,
   "id": "b9070daa",
   "metadata": {},
   "outputs": [
    {
     "data": {
      "text/plain": [
       "False"
      ]
     },
     "execution_count": 51,
     "metadata": {},
     "output_type": "execute_result"
    }
   ],
   "source": [
    "a>=b"
   ]
  },
  {
   "cell_type": "code",
   "execution_count": 52,
   "id": "c025a994",
   "metadata": {},
   "outputs": [
    {
     "name": "stdout",
     "output_type": "stream",
     "text": [
      "You can access\n"
     ]
    }
   ],
   "source": [
    "is_teacher = True\n",
    "is_active = True\n",
    "\n",
    "if is_teacher and is_active: \n",
    "    print('You can access')"
   ]
  },
  {
   "cell_type": "code",
   "execution_count": 53,
   "id": "4db9059f",
   "metadata": {},
   "outputs": [],
   "source": [
    "is_teacher = True\n",
    "is_active = False\n",
    "\n",
    "if is_teacher and is_active: \n",
    "    print('You can access')"
   ]
  },
  {
   "cell_type": "code",
   "execution_count": 55,
   "id": "48bda5a0",
   "metadata": {},
   "outputs": [
    {
     "name": "stdout",
     "output_type": "stream",
     "text": [
      "You can access\n"
     ]
    }
   ],
   "source": [
    "is_teacher = True\n",
    "is_active = False\n",
    "is_superuser = True\n",
    "\n",
    "if is_superuser or (is_teacher and is_active): \n",
    "    print('You can access')"
   ]
  },
  {
   "cell_type": "code",
   "execution_count": 56,
   "id": "6868e531",
   "metadata": {},
   "outputs": [],
   "source": [
    "if not is_superuser: \n",
    "    print('You cannot access')"
   ]
  },
  {
   "cell_type": "code",
   "execution_count": 57,
   "id": "1f4f1522",
   "metadata": {},
   "outputs": [
    {
     "data": {
      "text/plain": [
       "False"
      ]
     },
     "execution_count": 57,
     "metadata": {},
     "output_type": "execute_result"
    }
   ],
   "source": [
    "not True\n"
   ]
  },
  {
   "cell_type": "code",
   "execution_count": 58,
   "id": "ed6f9c2a",
   "metadata": {},
   "outputs": [
    {
     "data": {
      "text/plain": [
       "True"
      ]
     },
     "execution_count": 58,
     "metadata": {},
     "output_type": "execute_result"
    }
   ],
   "source": [
    "not False"
   ]
  },
  {
   "cell_type": "code",
   "execution_count": 59,
   "id": "c3738965",
   "metadata": {},
   "outputs": [],
   "source": [
    "def f():\n",
    "    return None\n",
    "\n",
    "def g():\n",
    "    return True\n",
    "\n",
    "output1 = f()\n",
    "if output1:\n",
    "    print('There is an output')"
   ]
  },
  {
   "cell_type": "code",
   "execution_count": 60,
   "id": "7a92d9ac",
   "metadata": {},
   "outputs": [
    {
     "name": "stdout",
     "output_type": "stream",
     "text": [
      "There is an output\n"
     ]
    }
   ],
   "source": [
    "output2 = g()\n",
    "if output2:\n",
    "    print('There is an output')"
   ]
  },
  {
   "cell_type": "code",
   "execution_count": 61,
   "id": "5d861bc0",
   "metadata": {},
   "outputs": [
    {
     "data": {
      "text/plain": [
       "True"
      ]
     },
     "execution_count": 61,
     "metadata": {},
     "output_type": "execute_result"
    }
   ],
   "source": [
    "x = 2\n",
    "y = 5\n",
    "z = 7\n",
    "\n",
    "x < y and y < z"
   ]
  },
  {
   "cell_type": "code",
   "execution_count": 62,
   "id": "760cecb6",
   "metadata": {},
   "outputs": [
    {
     "data": {
      "text/plain": [
       "True"
      ]
     },
     "execution_count": 62,
     "metadata": {},
     "output_type": "execute_result"
    }
   ],
   "source": [
    "(x < y) and (y < z) # better"
   ]
  },
  {
   "cell_type": "code",
   "execution_count": 63,
   "id": "d623f900",
   "metadata": {},
   "outputs": [
    {
     "data": {
      "text/plain": [
       "True"
      ]
     },
     "execution_count": 63,
     "metadata": {},
     "output_type": "execute_result"
    }
   ],
   "source": [
    "x < y < z  # best"
   ]
  },
  {
   "cell_type": "code",
   "execution_count": 64,
   "id": "a38d553e",
   "metadata": {},
   "outputs": [
    {
     "data": {
      "text/plain": [
       "True"
      ]
     },
     "execution_count": 64,
     "metadata": {},
     "output_type": "execute_result"
    }
   ],
   "source": [
    "3 < 5 != True "
   ]
  },
  {
   "cell_type": "code",
   "execution_count": 65,
   "id": "2c663dbf",
   "metadata": {},
   "outputs": [
    {
     "data": {
      "text/plain": [
       "False"
      ]
     },
     "execution_count": 65,
     "metadata": {},
     "output_type": "execute_result"
    }
   ],
   "source": [
    "True != True"
   ]
  },
  {
   "cell_type": "code",
   "execution_count": 66,
   "id": "1e582256",
   "metadata": {},
   "outputs": [
    {
     "data": {
      "text/plain": [
       "True"
      ]
     },
     "execution_count": 66,
     "metadata": {},
     "output_type": "execute_result"
    }
   ],
   "source": [
    "3 < "
   ]
  },
  {
   "cell_type": "code",
   "execution_count": 67,
   "id": "9986f4ca",
   "metadata": {},
   "outputs": [
    {
     "data": {
      "text/plain": [
       "True"
      ]
     },
     "execution_count": 67,
     "metadata": {},
     "output_type": "execute_result"
    }
   ],
   "source": [
    "5 != True"
   ]
  },
  {
   "cell_type": "code",
   "execution_count": 68,
   "id": "b26d78fe",
   "metadata": {},
   "outputs": [
    {
     "data": {
      "text/plain": [
       "False"
      ]
     },
     "execution_count": 68,
     "metadata": {},
     "output_type": "execute_result"
    }
   ],
   "source": [
    "3 < True"
   ]
  },
  {
   "cell_type": "code",
   "execution_count": 73,
   "id": "9c46a82b",
   "metadata": {},
   "outputs": [
    {
     "data": {
      "text/plain": [
       "False"
      ]
     },
     "execution_count": 73,
     "metadata": {},
     "output_type": "execute_result"
    }
   ],
   "source": [
    "3 < (5 != True)"
   ]
  },
  {
   "cell_type": "code",
   "execution_count": 74,
   "id": "7d276e31",
   "metadata": {},
   "outputs": [
    {
     "data": {
      "text/plain": [
       "True"
      ]
     },
     "execution_count": 74,
     "metadata": {},
     "output_type": "execute_result"
    }
   ],
   "source": [
    "(3 < 5) and (5 != True)"
   ]
  },
  {
   "cell_type": "code",
   "execution_count": 75,
   "id": "c8d03393",
   "metadata": {},
   "outputs": [
    {
     "data": {
      "text/plain": [
       "True"
      ]
     },
     "execution_count": 75,
     "metadata": {},
     "output_type": "execute_result"
    }
   ],
   "source": [
    "5 != True"
   ]
  },
  {
   "cell_type": "code",
   "execution_count": 76,
   "id": "1d444e69",
   "metadata": {},
   "outputs": [
    {
     "data": {
      "text/plain": [
       "True"
      ]
     },
     "execution_count": 76,
     "metadata": {},
     "output_type": "execute_result"
    }
   ],
   "source": [
    "'A' < 'a'"
   ]
  },
  {
   "cell_type": "code",
   "execution_count": 77,
   "id": "d3967dd3",
   "metadata": {},
   "outputs": [
    {
     "data": {
      "text/plain": [
       "True"
      ]
     },
     "execution_count": 77,
     "metadata": {},
     "output_type": "execute_result"
    }
   ],
   "source": [
    "1 == True"
   ]
  },
  {
   "cell_type": "code",
   "execution_count": 78,
   "id": "0851b948",
   "metadata": {},
   "outputs": [
    {
     "data": {
      "text/plain": [
       "True"
      ]
     },
     "execution_count": 78,
     "metadata": {},
     "output_type": "execute_result"
    }
   ],
   "source": [
    "5 != True"
   ]
  },
  {
   "cell_type": "code",
   "execution_count": 79,
   "id": "28af4000",
   "metadata": {},
   "outputs": [
    {
     "data": {
      "text/plain": [
       "True"
      ]
     },
     "execution_count": 79,
     "metadata": {},
     "output_type": "execute_result"
    }
   ],
   "source": [
    "0 == False"
   ]
  },
  {
   "cell_type": "code",
   "execution_count": 80,
   "id": "f04a57a3",
   "metadata": {},
   "outputs": [
    {
     "data": {
      "text/plain": [
       "True"
      ]
     },
     "execution_count": 80,
     "metadata": {},
     "output_type": "execute_result"
    }
   ],
   "source": [
    "1 == True"
   ]
  },
  {
   "cell_type": "code",
   "execution_count": 81,
   "id": "4fb65146",
   "metadata": {},
   "outputs": [
    {
     "data": {
      "text/plain": [
       "3"
      ]
     },
     "execution_count": 81,
     "metadata": {},
     "output_type": "execute_result"
    }
   ],
   "source": [
    "x  = 3.14\n",
    "\n",
    "int(x)"
   ]
  },
  {
   "cell_type": "code",
   "execution_count": 82,
   "id": "5219b833",
   "metadata": {},
   "outputs": [
    {
     "data": {
      "text/plain": [
       "True"
      ]
     },
     "execution_count": 82,
     "metadata": {},
     "output_type": "execute_result"
    }
   ],
   "source": [
    "'Jan' in '01 Jan 1838'"
   ]
  },
  {
   "cell_type": "code",
   "execution_count": 86,
   "id": "f496ec83",
   "metadata": {},
   "outputs": [
    {
     "name": "stdout",
     "output_type": "stream",
     "text": [
      "Enter the pH level: 10\n"
     ]
    }
   ],
   "source": [
    "ph = float(input('Enter the pH level: '))\n",
    "if ph < 7.0:\n",
    "    print(ph, \" is acidic.\") #indentation important"
   ]
  },
  {
   "cell_type": "code",
   "execution_count": 87,
   "id": "c41f37c1",
   "metadata": {},
   "outputs": [
    {
     "name": "stdout",
     "output_type": "stream",
     "text": [
      "Enter the pH level: 3\n",
      "3.0  is acidic.\n",
      "You should be careful with that!\n"
     ]
    }
   ],
   "source": [
    "ph = float(input('Enter the pH level: '))\n",
    "if ph < 7.0:\n",
    "    print(ph, \" is acidic.\")\n",
    "    print('You should be careful with that!') #indentation is important"
   ]
  },
  {
   "cell_type": "code",
   "execution_count": 90,
   "id": "243d07eb",
   "metadata": {},
   "outputs": [
    {
     "name": "stdout",
     "output_type": "stream",
     "text": [
      "Enter the pH level: 3\n",
      "3.0  is acidic.\n",
      "You should be careful with that!\n"
     ]
    }
   ],
   "source": [
    "ph = float(input('Enter the pH level: '))\n",
    "if ph < 7.0:\n",
    "    print(ph, \" is acidic.\")\n",
    "print('You should be careful with that!') #indentation is important"
   ]
  },
  {
   "cell_type": "code",
   "execution_count": 91,
   "id": "efc08701",
   "metadata": {},
   "outputs": [
    {
     "name": "stdout",
     "output_type": "stream",
     "text": [
      "Enter the pH level: 3\n",
      "8.0  is basic.\n"
     ]
    }
   ],
   "source": [
    "ph = float(input('Enter the pH level: '))\n",
    "if ph < 7.0:\n",
    "    ph = 8.0 #indentation important\n",
    "\n",
    "if ph > 7.0:\n",
    "    print(ph, \" is basic.\") "
   ]
  },
  {
   "cell_type": "code",
   "execution_count": 92,
   "id": "014fe0ad",
   "metadata": {},
   "outputs": [
    {
     "name": "stdout",
     "output_type": "stream",
     "text": [
      "Enter the pH level: 3\n"
     ]
    }
   ],
   "source": [
    "ph = float(input('Enter the pH level: '))\n",
    "if ph < 7.0:\n",
    "    ph = 8.0  #indentation important\n",
    "elif ph > 7.0:\n",
    "    print(ph, \" is basic.\") "
   ]
  },
  {
   "cell_type": "code",
   "execution_count": 96,
   "id": "95d666fb",
   "metadata": {},
   "outputs": [
    {
     "name": "stdout",
     "output_type": "stream",
     "text": [
      "Enter the compound: AA\n",
      "Unknown compound\n"
     ]
    }
   ],
   "source": [
    "compound = input('Enter the compound: ')\n",
    "if compound == 'H2O':\n",
    "    print('Water')\n",
    "elif compound == 'NH3':\n",
    "    print('Ammonia')\n",
    "elif compound == 'CH4':\n",
    "    print('Methane')\n",
    "else:\n",
    "    print('Unknown compound')"
   ]
  },
  {
   "cell_type": "code",
   "execution_count": 100,
   "id": "d6d2d94a",
   "metadata": {},
   "outputs": [
    {
     "name": "stdout",
     "output_type": "stream",
     "text": [
      "Enter the pH level: 8\n",
      "8.0  is basic.\n"
     ]
    }
   ],
   "source": [
    "value = input('Enter the pH level: ')\n",
    "if len(value) > 0:\n",
    "    ph = float(value) \n",
    "    if ph < 7.0:\n",
    "        print(ph, \" is acidic.\")\n",
    "    elif ph > 7.0:\n",
    "        print(ph, \" is basic.\")\n",
    "    else:\n",
    "        print(ph, \" is neutral.\")\n",
    "\n",
    "else:\n",
    "    print('No pH value was given!')"
   ]
  },
  {
   "cell_type": "code",
   "execution_count": 101,
   "id": "33e0875d",
   "metadata": {},
   "outputs": [],
   "source": [
    "age = 35\n",
    "bmi = 25\n",
    "\n",
    "if age < 45:\n",
    "    if bmi < 22.0:\n",
    "        risk = 'low'\n",
    "    else:\n",
    "        risk = 'medium'\n",
    "else:\n",
    "    if bmi < 22.0:\n",
    "        risk = 'medium'\n",
    "    else:\n",
    "        risk = 'high'"
   ]
  },
  {
   "cell_type": "code",
   "execution_count": 102,
   "id": "a65127f0",
   "metadata": {},
   "outputs": [],
   "source": [
    "young = age < 45\n",
    "slim = bmi < 22.0\n",
    "if young:\n",
    "    if slim:\n",
    "        risk = 'low'\n",
    "    else:\n",
    "        risk = 'medium'\n",
    "else:\n",
    "    if slim:\n",
    "        risk = 'medium'\n",
    "    else:\n",
    "        risk = 'high'"
   ]
  },
  {
   "cell_type": "code",
   "execution_count": 104,
   "id": "baaa2b30",
   "metadata": {},
   "outputs": [
    {
     "name": "stdout",
     "output_type": "stream",
     "text": [
      "medium\n"
     ]
    }
   ],
   "source": [
    "young = age < 45\n",
    "slim = bmi < 22.0\n",
    "if young and slim:\n",
    "    risk = 'low'\n",
    "elif young and not slim :\n",
    "    risk = 'medium'\n",
    "elif not young and slim:\n",
    "    risk = 'medium'\n",
    "elif not young and not slim:\n",
    "    risk = 'high'\n",
    "    \n",
    "print(risk)"
   ]
  },
  {
   "cell_type": "code",
   "execution_count": 105,
   "id": "2767afd3",
   "metadata": {},
   "outputs": [
    {
     "name": "stdout",
     "output_type": "stream",
     "text": [
      "2  is acidic\n"
     ]
    }
   ],
   "source": [
    "ph = 2\n",
    "if ph < 7.0:\n",
    "    print(ph, ' is acidic')\n",
    "elif ph < 3.0:\n",
    "    print(ph, ' is VERY acidic! Be careful.')"
   ]
  },
  {
   "cell_type": "code",
   "execution_count": 106,
   "id": "0ffc5852",
   "metadata": {},
   "outputs": [
    {
     "name": "stdout",
     "output_type": "stream",
     "text": [
      "2  is acidic\n"
     ]
    }
   ],
   "source": [
    "ph = 2\n",
    "if ph < 7.0:\n",
    "    print(ph, ' is acidic')\n",
    "elif ph < 3.0:\n",
    "    print(ph, ' is VERY acidic! Be careful.')"
   ]
  },
  {
   "cell_type": "code",
   "execution_count": 107,
   "id": "e7bb1eeb",
   "metadata": {},
   "outputs": [
    {
     "name": "stdout",
     "output_type": "stream",
     "text": [
      "2  is VERY acidic! Be careful.\n"
     ]
    }
   ],
   "source": [
    "ph = 2\n",
    "if ph < 3.0:\n",
    "    print(ph, ' is VERY acidic! Be careful.')\n",
    "elif ph < 7.0:\n",
    "    print(ph, ' is acidic')\n"
   ]
  },
  {
   "cell_type": "code",
   "execution_count": 108,
   "id": "4f33f46f",
   "metadata": {},
   "outputs": [
    {
     "name": "stdout",
     "output_type": "stream",
     "text": [
      "2  is VERY acidic! Be careful.\n",
      "2  is acidic\n"
     ]
    }
   ],
   "source": [
    "ph = 2\n",
    "if ph < 3.0:\n",
    "    print(ph, ' is VERY acidic! Be careful.')\n",
    "\n",
    "if ph < 7.0:\n",
    "    print(ph, ' is acidic')"
   ]
  },
  {
   "cell_type": "code",
   "execution_count": 109,
   "id": "9b8ed663",
   "metadata": {},
   "outputs": [
    {
     "name": "stdout",
     "output_type": "stream",
     "text": [
      "2  is VERY acidic! Be careful.\n",
      "2  is acidic\n"
     ]
    }
   ],
   "source": [
    "ph = 2\n",
    "if ph < 7.0:\n",
    "    print(ph, ' is VERY acidic! Be careful.')\n",
    "    if ph < 3.0:\n",
    "        print(ph, ' is acidic')"
   ]
  },
  {
   "cell_type": "code",
   "execution_count": 110,
   "id": "767d8253",
   "metadata": {},
   "outputs": [
    {
     "name": "stdout",
     "output_type": "stream",
     "text": [
      "Enter first integer: 10\n",
      "Enter second integer: 6\n",
      "Enter third integer: 90\n",
      "Minimum value is 6\n"
     ]
    }
   ],
   "source": [
    "number1 = int(input('Enter first integer: '))\n",
    "number2 = int(input('Enter second integer: '))\n",
    "number3 = int(input('Enter third integer: '))\n",
    "\n",
    "minimum = number1  \n",
    "\n",
    "if number2 < minimum:\n",
    "    minimum = number2\n",
    "\n",
    "if number3 < minimum:\n",
    "    minimum = number3\n",
    "\n",
    "print('Minimum value is', minimum)"
   ]
  },
  {
   "cell_type": "code",
   "execution_count": 112,
   "id": "39e77eb2",
   "metadata": {},
   "outputs": [
    {
     "name": "stdout",
     "output_type": "stream",
     "text": [
      "Temp in C: 100\n",
      "212.0\n"
     ]
    }
   ],
   "source": [
    "# 1 ---------------------\n",
    "# Write a program to prompt the user for temperature in Celsius, convert \n",
    "# the temperature to Fahrenheit, and print temperature in Fahrenheit. \n",
    "\n",
    "# (0°C × 9/5) + 32 = 32°F\n",
    "def c_to_f():\n",
    "    temp_in_c = float(input('Temp in C: '))\n",
    "    temp_in_f = (temp_in_c * 9/5) + 32\n",
    "    print(temp_in_f)\n",
    "    \n",
    "c_to_f()"
   ]
  },
  {
   "cell_type": "code",
   "execution_count": 116,
   "id": "af255595",
   "metadata": {},
   "outputs": [
    {
     "name": "stdout",
     "output_type": "stream",
     "text": [
      "Temp in C: -1\n",
      "Very cold\n"
     ]
    }
   ],
   "source": [
    "\n",
    "def c_to_f():\n",
    "    c = float(input('Temp in C: '))\n",
    "    f = (c * 9/5) + 32\n",
    "    if f > 90:\n",
    "        print('Very hot')\n",
    "    \n",
    "    if f < 32:\n",
    "        print('Very cold')\n",
    "    \n",
    "c_to_f()"
   ]
  },
  {
   "cell_type": "code",
   "execution_count": 120,
   "id": "8672e301",
   "metadata": {},
   "outputs": [
    {
     "name": "stdout",
     "output_type": "stream",
     "text": [
      "a: 5\n",
      "b: 6\n",
      "c: 1\n",
      "Has two real roots\n",
      "-1.0 -0.2\n"
     ]
    }
   ],
   "source": [
    "# 3 ---------------------\n",
    "# Write a function to calculate the solution to a quadratic equation\n",
    "# https://www.mathsisfun.com/algebra/quadratic-equation.html\n",
    "# Prompt the user to the coefficients a, b, and c. \n",
    "\n",
    "def quad():\n",
    "    import math\n",
    "    a =  int(input('a: '))\n",
    "    b =  int(input('b: '))\n",
    "    c =  int(input('c: '))\n",
    "    \n",
    "    discriminant = b**2 - 4*a*c\n",
    "    if discriminant > 0:\n",
    "        print('Has two real roots')\n",
    "    elif discriminant == 0:\n",
    "        print('Has one real root')\n",
    "    elif discriminant < 0:\n",
    "        print(' Has complex roots')\n",
    "    \n",
    "    \n",
    "    x1 = (-b - math.sqrt(discriminant)) / (2*a)\n",
    "    x2 = (-b + math.sqrt(discriminant)) / (2*a)\n",
    "    \n",
    "    \n",
    "    print(x1, x2)\n",
    "    \n",
    "quad()"
   ]
  },
  {
   "cell_type": "code",
   "execution_count": 124,
   "id": "8b4629d5",
   "metadata": {},
   "outputs": [
    {
     "name": "stdout",
     "output_type": "stream",
     "text": [
      "Username: JdoE\n",
      "You have access\n"
     ]
    }
   ],
   "source": [
    "def ex6():\n",
    "    username = input('Username: ')\n",
    "    \n",
    "    if username.lower() == 'jdoe':\n",
    "        print('You have access')\n",
    "    else:\n",
    "        print('You do not have access')\n",
    "        \n",
    "ex6()"
   ]
  },
  {
   "cell_type": "code",
   "execution_count": 125,
   "id": "cd7b464a",
   "metadata": {},
   "outputs": [
    {
     "name": "stdout",
     "output_type": "stream",
     "text": [
      "Name: JoHN\n",
      "yes\n"
     ]
    }
   ],
   "source": [
    "def ex7():\n",
    "    name = input('Name: ')\n",
    "    \n",
    "    if name.lower() == 'john' or name.lower() == 'jane':\n",
    "        print('yes')\n",
    "    \n",
    "        \n",
    "ex7()"
   ]
  },
  {
   "cell_type": "code",
   "execution_count": 126,
   "id": "bb8a00b8",
   "metadata": {},
   "outputs": [
    {
     "ename": "SyntaxError",
     "evalue": "invalid syntax (Temp/ipykernel_10460/3683444726.py, line 4)",
     "output_type": "error",
     "traceback": [
      "\u001b[1;36m  File \u001b[1;32m\"C:\\Users\\mkhaw\\AppData\\Local\\Temp/ipykernel_10460/3683444726.py\"\u001b[1;36m, line \u001b[1;32m4\u001b[0m\n\u001b[1;33m    if name.lower() in ('john', 'jane')\u001b[0m\n\u001b[1;37m                                       ^\u001b[0m\n\u001b[1;31mSyntaxError\u001b[0m\u001b[1;31m:\u001b[0m invalid syntax\n"
     ]
    }
   ],
   "source": [
    "def ex7():\n",
    "    name = input('Name: ')\n",
    "    \n",
    "    if name.lower() in ('john', 'jane')\n",
    "        print('yes')\n",
    "    \n",
    "        \n",
    "ex7()"
   ]
  },
  {
   "cell_type": "code",
   "execution_count": 127,
   "id": "bc7664be",
   "metadata": {},
   "outputs": [
    {
     "data": {
      "text/plain": [
       "'E'"
      ]
     },
     "execution_count": 127,
     "metadata": {},
     "output_type": "execute_result"
    }
   ],
   "source": [
    "string = 'EAS503'\n",
    "string[0]"
   ]
  },
  {
   "cell_type": "code",
   "execution_count": 128,
   "id": "075efb78",
   "metadata": {},
   "outputs": [
    {
     "data": {
      "text/plain": [
       "5"
      ]
     },
     "execution_count": 128,
     "metadata": {},
     "output_type": "execute_result"
    }
   ],
   "source": [
    "whales = [5, 4, 7, 3, 2, 3, 2, 6, 4, 2, 1, 7, 1, 3]\n",
    "whales[0]"
   ]
  },
  {
   "cell_type": "code",
   "execution_count": 129,
   "id": "85e1a099",
   "metadata": {},
   "outputs": [],
   "source": [
    "grades = ['A', 'B', 'C', 'D', 'F']"
   ]
  },
  {
   "cell_type": "code",
   "execution_count": 130,
   "id": "b7565bd6",
   "metadata": {},
   "outputs": [
    {
     "data": {
      "text/plain": [
       "['A', 'B', 'C', 'D', 'F']"
      ]
     },
     "execution_count": 130,
     "metadata": {},
     "output_type": "execute_result"
    }
   ],
   "source": [
    "grades"
   ]
  },
  {
   "cell_type": "code",
   "execution_count": 131,
   "id": "07c31d4f",
   "metadata": {},
   "outputs": [
    {
     "data": {
      "text/plain": [
       "['C', 'D']"
      ]
     },
     "execution_count": 131,
     "metadata": {},
     "output_type": "execute_result"
    }
   ],
   "source": [
    "#list[start_index:end_index)\n",
    "grades[2:4]"
   ]
  },
  {
   "cell_type": "code",
   "execution_count": 132,
   "id": "1bb05a3a",
   "metadata": {},
   "outputs": [
    {
     "data": {
      "text/plain": [
       "['B', 'D']"
      ]
     },
     "execution_count": 132,
     "metadata": {},
     "output_type": "execute_result"
    }
   ],
   "source": [
    "# list[start_index:end_index(not included):step_size]\n",
    "grades[1::2]"
   ]
  },
  {
   "cell_type": "code",
   "execution_count": 133,
   "id": "848e35c6",
   "metadata": {},
   "outputs": [
    {
     "data": {
      "text/plain": [
       "'F'"
      ]
     },
     "execution_count": 133,
     "metadata": {},
     "output_type": "execute_result"
    }
   ],
   "source": [
    "\n",
    "grades[-1]"
   ]
  },
  {
   "cell_type": "code",
   "execution_count": 134,
   "id": "0da320f2",
   "metadata": {},
   "outputs": [
    {
     "data": {
      "text/plain": [
       "['F', 'D', 'C', 'B', 'A']"
      ]
     },
     "execution_count": 134,
     "metadata": {},
     "output_type": "execute_result"
    }
   ],
   "source": [
    "grades[::-1]"
   ]
  },
  {
   "cell_type": "code",
   "execution_count": 135,
   "id": "096bcbff",
   "metadata": {},
   "outputs": [],
   "source": [
    "grades = ['A', 'B', 'C', 'D', 'F']"
   ]
  },
  {
   "cell_type": "code",
   "execution_count": 136,
   "id": "a4dbc277",
   "metadata": {},
   "outputs": [],
   "source": [
    "grades[0] = 'a'"
   ]
  },
  {
   "cell_type": "code",
   "execution_count": 137,
   "id": "3299c1ce",
   "metadata": {},
   "outputs": [
    {
     "data": {
      "text/plain": [
       "['a', 'B', 'C', 'D', 'F']"
      ]
     },
     "execution_count": 137,
     "metadata": {},
     "output_type": "execute_result"
    }
   ],
   "source": [
    "grades"
   ]
  },
  {
   "cell_type": "code",
   "execution_count": 138,
   "id": "b7b91458",
   "metadata": {},
   "outputs": [],
   "source": [
    "grades[1] = 'a'"
   ]
  },
  {
   "cell_type": "code",
   "execution_count": 139,
   "id": "d53ada35",
   "metadata": {},
   "outputs": [
    {
     "data": {
      "text/plain": [
       "['a', 'a', 'C', 'D', 'F']"
      ]
     },
     "execution_count": 139,
     "metadata": {},
     "output_type": "execute_result"
    }
   ],
   "source": [
    "grades"
   ]
  },
  {
   "cell_type": "code",
   "execution_count": 140,
   "id": "954b5cb4",
   "metadata": {},
   "outputs": [],
   "source": [
    "grades[1:4] = 'a'"
   ]
  },
  {
   "cell_type": "code",
   "execution_count": 141,
   "id": "d175e485",
   "metadata": {},
   "outputs": [
    {
     "data": {
      "text/plain": [
       "['a', 'a', 'F']"
      ]
     },
     "execution_count": 141,
     "metadata": {},
     "output_type": "execute_result"
    }
   ],
   "source": [
    "grades"
   ]
  },
  {
   "cell_type": "code",
   "execution_count": 142,
   "id": "48d8dd4e",
   "metadata": {},
   "outputs": [],
   "source": [
    "grades = ['A', 'B', 'C', 'D', 'F']\n",
    "grades[1:4] = 'a'"
   ]
  },
  {
   "cell_type": "code",
   "execution_count": 143,
   "id": "05211bc7",
   "metadata": {},
   "outputs": [
    {
     "data": {
      "text/plain": [
       "['A', 'a', 'F']"
      ]
     },
     "execution_count": 143,
     "metadata": {},
     "output_type": "execute_result"
    }
   ],
   "source": [
    "grades"
   ]
  },
  {
   "cell_type": "code",
   "execution_count": 144,
   "id": "3ff76d0c",
   "metadata": {},
   "outputs": [
    {
     "data": {
      "text/plain": [
       "3"
      ]
     },
     "execution_count": 144,
     "metadata": {},
     "output_type": "execute_result"
    }
   ],
   "source": [
    "len(grades)"
   ]
  },
  {
   "cell_type": "code",
   "execution_count": 145,
   "id": "daafacd9",
   "metadata": {},
   "outputs": [],
   "source": [
    "grades = ['A', 'B', 'C', 'D', 'F']"
   ]
  },
  {
   "cell_type": "code",
   "execution_count": 146,
   "id": "3437ba08",
   "metadata": {},
   "outputs": [],
   "source": [
    "grades[2:] = ['d', 'f']"
   ]
  },
  {
   "cell_type": "code",
   "execution_count": 147,
   "id": "2de09af4",
   "metadata": {},
   "outputs": [
    {
     "data": {
      "text/plain": [
       "['A', 'B', 'd', 'f']"
      ]
     },
     "execution_count": 147,
     "metadata": {},
     "output_type": "execute_result"
    }
   ],
   "source": [
    "grades"
   ]
  },
  {
   "cell_type": "code",
   "execution_count": 148,
   "id": "40c955b9",
   "metadata": {},
   "outputs": [],
   "source": [
    "grades = ['A', 'B', 'C', 'D', 'F']"
   ]
  },
  {
   "cell_type": "code",
   "execution_count": 149,
   "id": "f13b5d85",
   "metadata": {},
   "outputs": [],
   "source": [
    "del grades[0]"
   ]
  },
  {
   "cell_type": "code",
   "execution_count": 150,
   "id": "700d8a46",
   "metadata": {},
   "outputs": [
    {
     "data": {
      "text/plain": [
       "['B', 'C', 'D', 'F']"
      ]
     },
     "execution_count": 150,
     "metadata": {},
     "output_type": "execute_result"
    }
   ],
   "source": [
    "grades"
   ]
  },
  {
   "cell_type": "code",
   "execution_count": 151,
   "id": "195956e7",
   "metadata": {},
   "outputs": [],
   "source": [
    "del grades[1:3]"
   ]
  },
  {
   "cell_type": "code",
   "execution_count": 152,
   "id": "d8fdc38a",
   "metadata": {},
   "outputs": [
    {
     "data": {
      "text/plain": [
       "['B', 'F']"
      ]
     },
     "execution_count": 152,
     "metadata": {},
     "output_type": "execute_result"
    }
   ],
   "source": [
    "grades"
   ]
  },
  {
   "cell_type": "code",
   "execution_count": 158,
   "id": "0f787698",
   "metadata": {},
   "outputs": [],
   "source": [
    "del grades"
   ]
  },
  {
   "cell_type": "code",
   "execution_count": 154,
   "id": "00891d40",
   "metadata": {},
   "outputs": [],
   "source": [
    "grades1 = ['A', 'B', 'C']\n",
    "grades2 = ['D', 'F']\n",
    "grades = grades1 + grades2"
   ]
  },
  {
   "cell_type": "code",
   "execution_count": 155,
   "id": "ec3cbb37",
   "metadata": {},
   "outputs": [
    {
     "data": {
      "text/plain": [
       "['A', 'B', 'C', 'D', 'F']"
      ]
     },
     "execution_count": 155,
     "metadata": {},
     "output_type": "execute_result"
    }
   ],
   "source": [
    "grades"
   ]
  },
  {
   "cell_type": "code",
   "execution_count": 156,
   "id": "d3313a73",
   "metadata": {},
   "outputs": [],
   "source": [
    "grades = ['A', 'B', 'C', 'D', 'F']\n",
    "grades *= 3"
   ]
  },
  {
   "cell_type": "code",
   "execution_count": 157,
   "id": "7a7858e5",
   "metadata": {},
   "outputs": [
    {
     "data": {
      "text/plain": [
       "['A', 'B', 'C', 'D', 'F', 'A', 'B', 'C', 'D', 'F', 'A', 'B', 'C', 'D', 'F']"
      ]
     },
     "execution_count": 157,
     "metadata": {},
     "output_type": "execute_result"
    }
   ],
   "source": [
    "grades"
   ]
  },
  {
   "cell_type": "code",
   "execution_count": 159,
   "id": "f9710725",
   "metadata": {},
   "outputs": [],
   "source": [
    "my_list = ['A', 1, 'Spam', True]"
   ]
  },
  {
   "cell_type": "code",
   "execution_count": 161,
   "id": "9840d9d0",
   "metadata": {},
   "outputs": [],
   "source": [
    "my_list2 = [['John', [55, 65, 86]], ['Jane', [70, 80, 80]]]"
   ]
  },
  {
   "cell_type": "code",
   "execution_count": 162,
   "id": "f9b19640",
   "metadata": {},
   "outputs": [
    {
     "data": {
      "text/plain": [
       "[['John', [55, 65, 86]], ['Jane', [70, 80, 80]]]"
      ]
     },
     "execution_count": 162,
     "metadata": {},
     "output_type": "execute_result"
    }
   ],
   "source": [
    "my_list2"
   ]
  },
  {
   "cell_type": "code",
   "execution_count": null,
   "id": "180515ff",
   "metadata": {},
   "outputs": [],
   "source": []
  }
 ],
 "metadata": {
  "kernelspec": {
   "display_name": "Python 3 (ipykernel)",
   "language": "python",
   "name": "python3"
  },
  "language_info": {
   "codemirror_mode": {
    "name": "ipython",
    "version": 3
   },
   "file_extension": ".py",
   "mimetype": "text/x-python",
   "name": "python",
   "nbconvert_exporter": "python",
   "pygments_lexer": "ipython3",
   "version": "3.8.5"
  }
 },
 "nbformat": 4,
 "nbformat_minor": 5
}
