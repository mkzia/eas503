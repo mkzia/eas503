{
 "cells": [
  {
   "cell_type": "code",
   "execution_count": 1,
   "id": "5f281719",
   "metadata": {},
   "outputs": [],
   "source": [
    "import json\n",
    "\n",
    "data = [\n",
    "    {\n",
    "        'student_name': 'John Doe',\n",
    "        'major': 'Math'\n",
    "    },\n",
    "    {\n",
    "        'student_name': 'Jane Doe',\n",
    "        'major': 'Chemistry'\n",
    "    },\n",
    "\n",
    "]\n",
    "\n",
    "filename = 'test.json'\n"
   ]
  },
  {
   "cell_type": "code",
   "execution_count": 2,
   "id": "b15f9b17",
   "metadata": {},
   "outputs": [],
   "source": [
    "## Save data\n",
    "with open(filename, 'w') as file:\n",
    "    json.dump(data, file, sort_keys=True, indent=2, separators=(',', ': '), ensure_ascii=False)\n",
    "\n"
   ]
  },
  {
   "cell_type": "code",
   "execution_count": 3,
   "id": "8d4e9e1c",
   "metadata": {},
   "outputs": [],
   "source": [
    "## read the json file\n",
    "with open(filename, 'r') as file:\n",
    "    data_reloaded = json.load(file)\n"
   ]
  },
  {
   "cell_type": "code",
   "execution_count": 4,
   "id": "0771fbb3",
   "metadata": {},
   "outputs": [
    {
     "data": {
      "text/plain": [
       "True"
      ]
     },
     "execution_count": 4,
     "metadata": {},
     "output_type": "execute_result"
    }
   ],
   "source": [
    "data == data_reloaded"
   ]
  },
  {
   "cell_type": "code",
   "execution_count": 5,
   "id": "c96b9fe6",
   "metadata": {},
   "outputs": [
    {
     "data": {
      "text/plain": [
       "{'Broccoli', 'Squash'}"
      ]
     },
     "execution_count": 5,
     "metadata": {},
     "output_type": "execute_result"
    }
   ],
   "source": [
    "qty_products = (\n",
    "    'Potatoes',\n",
    "    'Avacados',\n",
    "    'Kiwis',\n",
    "    'Onions',\n",
    "    'Melons',\n",
    "    'Broccoli',\n",
    "    'Squash',\n",
    ")\n",
    "\n",
    "prc_products = (\n",
    "    'Potatoes',\n",
    "    'Avacados',\n",
    "    'Kiwis',\n",
    "    'Onions',\n",
    "    'Melons',\n",
    "    'Oranges',\n",
    "    'Tomatoes',\n",
    ")\n",
    "\n",
    "set(qty_products) - set(prc_products)"
   ]
  },
  {
   "cell_type": "code",
   "execution_count": 6,
   "id": "5818701a",
   "metadata": {},
   "outputs": [
    {
     "data": {
      "text/plain": [
       "{'Oranges', 'Tomatoes'}"
      ]
     },
     "execution_count": 6,
     "metadata": {},
     "output_type": "execute_result"
    }
   ],
   "source": [
    "set(prc_products) - set(qty_products)"
   ]
  },
  {
   "cell_type": "code",
   "execution_count": 7,
   "id": "74457953",
   "metadata": {},
   "outputs": [
    {
     "data": {
      "text/plain": [
       "{'Avacados', 'Kiwis', 'Melons', 'Onions', 'Potatoes'}"
      ]
     },
     "execution_count": 7,
     "metadata": {},
     "output_type": "execute_result"
    }
   ],
   "source": [
    "set(prc_products) & set(qty_products)"
   ]
  },
  {
   "cell_type": "code",
   "execution_count": null,
   "id": "8c15ec0d",
   "metadata": {},
   "outputs": [],
   "source": [
    "INSERT INTO Cars (make_model_id, color_id, available) VALUES (1, colors['Green'], 1);\n",
    "\n",
    "colors = {\n",
    "    'Red': 1,\n",
    "    'Blue': 2,\n",
    "    'Green': 3\n",
    "}"
   ]
  },
  {
   "cell_type": "code",
   "execution_count": 8,
   "id": "3991400f",
   "metadata": {},
   "outputs": [
    {
     "data": {
      "text/plain": [
       "3"
      ]
     },
     "execution_count": 8,
     "metadata": {},
     "output_type": "execute_result"
    }
   ],
   "source": [
    "colors = {\n",
    "    'Red': 1,\n",
    "    'Blue': 2,\n",
    "    'Green': 3\n",
    "}\n",
    "\n",
    "colors['Green']"
   ]
  },
  {
   "cell_type": "code",
   "execution_count": 10,
   "id": "834be925",
   "metadata": {},
   "outputs": [
    {
     "data": {
      "text/html": [
       "<div>\n",
       "<style scoped>\n",
       "    .dataframe tbody tr th:only-of-type {\n",
       "        vertical-align: middle;\n",
       "    }\n",
       "\n",
       "    .dataframe tbody tr th {\n",
       "        vertical-align: top;\n",
       "    }\n",
       "\n",
       "    .dataframe thead th {\n",
       "        text-align: right;\n",
       "    }\n",
       "</style>\n",
       "<table border=\"1\" class=\"dataframe\">\n",
       "  <thead>\n",
       "    <tr style=\"text-align: right;\">\n",
       "      <th></th>\n",
       "      <th>PRODUCT</th>\n",
       "      <th>QUANTITY</th>\n",
       "    </tr>\n",
       "  </thead>\n",
       "  <tbody>\n",
       "    <tr>\n",
       "      <th>0</th>\n",
       "      <td>Avacados</td>\n",
       "      <td>63</td>\n",
       "    </tr>\n",
       "    <tr>\n",
       "      <th>1</th>\n",
       "      <td>Melons</td>\n",
       "      <td>66</td>\n",
       "    </tr>\n",
       "    <tr>\n",
       "      <th>2</th>\n",
       "      <td>Squash</td>\n",
       "      <td>92</td>\n",
       "    </tr>\n",
       "  </tbody>\n",
       "</table>\n",
       "</div>"
      ],
      "text/plain": [
       "    PRODUCT  QUANTITY\n",
       "0  Avacados        63\n",
       "1    Melons        66\n",
       "2    Squash        92"
      ]
     },
     "execution_count": 10,
     "metadata": {},
     "output_type": "execute_result"
    }
   ],
   "source": [
    "import pandas as pd\n",
    "import sqlite3\n",
    "conn = sqlite3.connect(\"join_example_database.db\")\n",
    "# cur = conn.cursor()\n",
    "sql_statement = \"select Quantities.product, Quantities.quantity FROM Quantities Where quantity > 60;\"\n",
    "df = pd.read_sql_query(sql_statement, conn)\n",
    "df\n",
    "\n"
   ]
  },
  {
   "cell_type": "code",
   "execution_count": 11,
   "id": "eeed8915",
   "metadata": {},
   "outputs": [
    {
     "data": {
      "text/plain": [
       "True"
      ]
     },
     "execution_count": 11,
     "metadata": {},
     "output_type": "execute_result"
    }
   ],
   "source": [
    "\n",
    "df.to_csv('dbex_1.csv', index = False)\n",
    "data = pd.read_csv(\"dbex_1.csv\") \n",
    "df.equals(data)\n",
    "\n"
   ]
  },
  {
   "cell_type": "code",
   "execution_count": 20,
   "id": "ddf91a9d",
   "metadata": {},
   "outputs": [],
   "source": [
    "def dbex_1():\n",
    "    \"\"\"\n",
    "    Return all products with quantity greater than 60;\n",
    "    output columns: product_name, product_quantity\n",
    "    output (df, sql_statement)\n",
    "    \"\"\"\n",
    "\n",
    "    import pandas as pd\n",
    "    import sqlite3\n",
    "    conn = sqlite3.connect(\"join_example_database.db\")\n",
    "    ###\n",
    "    sql_statement = \"SELECT * FROM PRICES WHERE PRICE > 3\"\n",
    "    \n",
    "    ###\n",
    "    df = pd.read_sql_query(sql_statement, conn)\n",
    "    return (df, sql_statement)"
   ]
  },
  {
   "cell_type": "code",
   "execution_count": 21,
   "id": "483248d1",
   "metadata": {},
   "outputs": [],
   "source": [
    "df, sql_statement = dbex_1()"
   ]
  },
  {
   "cell_type": "code",
   "execution_count": 22,
   "id": "827e8df7",
   "metadata": {},
   "outputs": [
    {
     "data": {
      "text/html": [
       "<div>\n",
       "<style scoped>\n",
       "    .dataframe tbody tr th:only-of-type {\n",
       "        vertical-align: middle;\n",
       "    }\n",
       "\n",
       "    .dataframe tbody tr th {\n",
       "        vertical-align: top;\n",
       "    }\n",
       "\n",
       "    .dataframe thead th {\n",
       "        text-align: right;\n",
       "    }\n",
       "</style>\n",
       "<table border=\"1\" class=\"dataframe\">\n",
       "  <thead>\n",
       "    <tr style=\"text-align: right;\">\n",
       "      <th></th>\n",
       "      <th>PK</th>\n",
       "      <th>PRODUCT</th>\n",
       "      <th>PRICE</th>\n",
       "    </tr>\n",
       "  </thead>\n",
       "  <tbody>\n",
       "    <tr>\n",
       "      <th>0</th>\n",
       "      <td>2</td>\n",
       "      <td>Avacados</td>\n",
       "      <td>4</td>\n",
       "    </tr>\n",
       "    <tr>\n",
       "      <th>1</th>\n",
       "      <td>5</td>\n",
       "      <td>Melons</td>\n",
       "      <td>5</td>\n",
       "    </tr>\n",
       "    <tr>\n",
       "      <th>2</th>\n",
       "      <td>6</td>\n",
       "      <td>Oranges</td>\n",
       "      <td>5</td>\n",
       "    </tr>\n",
       "    <tr>\n",
       "      <th>3</th>\n",
       "      <td>7</td>\n",
       "      <td>Tomatoes</td>\n",
       "      <td>6</td>\n",
       "    </tr>\n",
       "  </tbody>\n",
       "</table>\n",
       "</div>"
      ],
      "text/plain": [
       "   PK   PRODUCT  PRICE\n",
       "0   2  Avacados      4\n",
       "1   5    Melons      5\n",
       "2   6   Oranges      5\n",
       "3   7  Tomatoes      6"
      ]
     },
     "execution_count": 22,
     "metadata": {},
     "output_type": "execute_result"
    }
   ],
   "source": [
    "df"
   ]
  },
  {
   "cell_type": "code",
   "execution_count": 23,
   "id": "1f5c734e",
   "metadata": {},
   "outputs": [],
   "source": [
    "response = {\n",
    "   \"status\":\"success\",\n",
    "   \"data\":[\n",
    "      {\n",
    "         \"id\":1,\n",
    "         \"employee_name\":\"Tiger Nixon\",\n",
    "         \"employee_salary\":320800,\n",
    "         \"employee_age\":61,\n",
    "         \"profile_image\":\"\"\n",
    "      },\n",
    "      {\n",
    "         \"id\":2,\n",
    "         \"employee_name\":\"Garrett Winters\",\n",
    "         \"employee_salary\":170750,\n",
    "         \"employee_age\":63,\n",
    "         \"profile_image\":\"\"\n",
    "      },\n",
    "      {\n",
    "         \"id\":3,\n",
    "         \"employee_name\":\"Ashton Cox\",\n",
    "         \"employee_salary\":86000,\n",
    "         \"employee_age\":66,\n",
    "         \"profile_image\":\"\"\n",
    "      },\n",
    "      {\n",
    "         \"id\":4,\n",
    "         \"employee_name\":\"Cedric Kelly\",\n",
    "         \"employee_salary\":433060,\n",
    "         \"employee_age\":22,\n",
    "         \"profile_image\":\"\"\n",
    "      },\n",
    "      {\n",
    "         \"id\":5,\n",
    "         \"employee_name\":\"Airi Satou\",\n",
    "         \"employee_salary\":162700,\n",
    "         \"employee_age\":33,\n",
    "         \"profile_image\":\"\"\n",
    "      },\n",
    "      {\n",
    "         \"id\":6,\n",
    "         \"employee_name\":\"Brielle Williamson\",\n",
    "         \"employee_salary\":372000,\n",
    "         \"employee_age\":61,\n",
    "         \"profile_image\":\"\"\n",
    "      },\n",
    "      {\n",
    "         \"id\":7,\n",
    "         \"employee_name\":\"Herrod Chandler\",\n",
    "         \"employee_salary\":137500,\n",
    "         \"employee_age\":59,\n",
    "         \"profile_image\":\"\"\n",
    "      },\n",
    "      {\n",
    "         \"id\":8,\n",
    "         \"employee_name\":\"Rhona Davidson\",\n",
    "         \"employee_salary\":327900,\n",
    "         \"employee_age\":55,\n",
    "         \"profile_image\":\"\"\n",
    "      },\n",
    "      {\n",
    "         \"id\":9,\n",
    "         \"employee_name\":\"Colleen Hurst\",\n",
    "         \"employee_salary\":205500,\n",
    "         \"employee_age\":39,\n",
    "         \"profile_image\":\"\"\n",
    "      },\n",
    "      {\n",
    "         \"id\":10,\n",
    "         \"employee_name\":\"Sonya Frost\",\n",
    "         \"employee_salary\":103600,\n",
    "         \"employee_age\":23,\n",
    "         \"profile_image\":\"\"\n",
    "      },\n",
    "      {\n",
    "         \"id\":11,\n",
    "         \"employee_name\":\"Jena Gaines\",\n",
    "         \"employee_salary\":90560,\n",
    "         \"employee_age\":30,\n",
    "         \"profile_image\":\"\"\n",
    "      },\n",
    "      {\n",
    "         \"id\":12,\n",
    "         \"employee_name\":\"Quinn Flynn\",\n",
    "         \"employee_salary\":342000,\n",
    "         \"employee_age\":22,\n",
    "         \"profile_image\":\"\"\n",
    "      },\n",
    "      {\n",
    "         \"id\":13,\n",
    "         \"employee_name\":\"Charde Marshall\",\n",
    "         \"employee_salary\":470600,\n",
    "         \"employee_age\":36,\n",
    "         \"profile_image\":\"\"\n",
    "      },\n",
    "      {\n",
    "         \"id\":14,\n",
    "         \"employee_name\":\"Haley Kennedy\",\n",
    "         \"employee_salary\":313500,\n",
    "         \"employee_age\":43,\n",
    "         \"profile_image\":\"\"\n",
    "      },\n",
    "      {\n",
    "         \"id\":15,\n",
    "         \"employee_name\":\"Tatyana Fitzpatrick\",\n",
    "         \"employee_salary\":385750,\n",
    "         \"employee_age\":19,\n",
    "         \"profile_image\":\"\"\n",
    "      },\n",
    "      {\n",
    "         \"id\":16,\n",
    "         \"employee_name\":\"Michael Silva\",\n",
    "         \"employee_salary\":198500,\n",
    "         \"employee_age\":66,\n",
    "         \"profile_image\":\"\"\n",
    "      },\n",
    "      {\n",
    "         \"id\":17,\n",
    "         \"employee_name\":\"Paul Byrd\",\n",
    "         \"employee_salary\":725000,\n",
    "         \"employee_age\":64,\n",
    "         \"profile_image\":\"\"\n",
    "      },\n",
    "      {\n",
    "         \"id\":18,\n",
    "         \"employee_name\":\"Gloria Little\",\n",
    "         \"employee_salary\":237500,\n",
    "         \"employee_age\":59,\n",
    "         \"profile_image\":\"\"\n",
    "      },\n",
    "      {\n",
    "         \"id\":19,\n",
    "         \"employee_name\":\"Bradley Greer\",\n",
    "         \"employee_salary\":132000,\n",
    "         \"employee_age\":41,\n",
    "         \"profile_image\":\"\"\n",
    "      },\n",
    "      {\n",
    "         \"id\":20,\n",
    "         \"employee_name\":\"Dai Rios\",\n",
    "         \"employee_salary\":217500,\n",
    "         \"employee_age\":35,\n",
    "         \"profile_image\":\"\"\n",
    "      },\n",
    "      {\n",
    "         \"id\":21,\n",
    "         \"employee_name\":\"Jenette Caldwell\",\n",
    "         \"employee_salary\":345000,\n",
    "         \"employee_age\":30,\n",
    "         \"profile_image\":\"\"\n",
    "      },\n",
    "      {\n",
    "         \"id\":22,\n",
    "         \"employee_name\":\"Yuri Berry\",\n",
    "         \"employee_salary\":675000,\n",
    "         \"employee_age\":40,\n",
    "         \"profile_image\":\"\"\n",
    "      },\n",
    "      {\n",
    "         \"id\":23,\n",
    "         \"employee_name\":\"Caesar Vance\",\n",
    "         \"employee_salary\":106450,\n",
    "         \"employee_age\":21,\n",
    "         \"profile_image\":\"\"\n",
    "      },\n",
    "      {\n",
    "         \"id\":24,\n",
    "         \"employee_name\":\"Doris Wilder\",\n",
    "         \"employee_salary\":85600,\n",
    "         \"employee_age\":23,\n",
    "         \"profile_image\":\"\"\n",
    "      }\n",
    "   ],\n",
    "   \"message\":\"Successfully! All records has been fetched.\"\n",
    "}\n"
   ]
  },
  {
   "cell_type": "code",
   "execution_count": 24,
   "id": "3f91e6a6",
   "metadata": {},
   "outputs": [
    {
     "name": "stdout",
     "output_type": "stream",
     "text": [
      "{'data': [{'employee_age': 61,\n",
      "           'employee_name': 'Tiger Nixon',\n",
      "           'employee_salary': 320800,\n",
      "           'id': 1,\n",
      "           'profile_image': ''},\n",
      "          {'employee_age': 63,\n",
      "           'employee_name': 'Garrett Winters',\n",
      "           'employee_salary': 170750,\n",
      "           'id': 2,\n",
      "           'profile_image': ''},\n",
      "          {'employee_age': 66,\n",
      "           'employee_name': 'Ashton Cox',\n",
      "           'employee_salary': 86000,\n",
      "           'id': 3,\n",
      "           'profile_image': ''},\n",
      "          {'employee_age': 22,\n",
      "           'employee_name': 'Cedric Kelly',\n",
      "           'employee_salary': 433060,\n",
      "           'id': 4,\n",
      "           'profile_image': ''},\n",
      "          {'employee_age': 33,\n",
      "           'employee_name': 'Airi Satou',\n",
      "           'employee_salary': 162700,\n",
      "           'id': 5,\n",
      "           'profile_image': ''},\n",
      "          {'employee_age': 61,\n",
      "           'employee_name': 'Brielle Williamson',\n",
      "           'employee_salary': 372000,\n",
      "           'id': 6,\n",
      "           'profile_image': ''},\n",
      "          {'employee_age': 59,\n",
      "           'employee_name': 'Herrod Chandler',\n",
      "           'employee_salary': 137500,\n",
      "           'id': 7,\n",
      "           'profile_image': ''},\n",
      "          {'employee_age': 55,\n",
      "           'employee_name': 'Rhona Davidson',\n",
      "           'employee_salary': 327900,\n",
      "           'id': 8,\n",
      "           'profile_image': ''},\n",
      "          {'employee_age': 39,\n",
      "           'employee_name': 'Colleen Hurst',\n",
      "           'employee_salary': 205500,\n",
      "           'id': 9,\n",
      "           'profile_image': ''},\n",
      "          {'employee_age': 23,\n",
      "           'employee_name': 'Sonya Frost',\n",
      "           'employee_salary': 103600,\n",
      "           'id': 10,\n",
      "           'profile_image': ''},\n",
      "          {'employee_age': 30,\n",
      "           'employee_name': 'Jena Gaines',\n",
      "           'employee_salary': 90560,\n",
      "           'id': 11,\n",
      "           'profile_image': ''},\n",
      "          {'employee_age': 22,\n",
      "           'employee_name': 'Quinn Flynn',\n",
      "           'employee_salary': 342000,\n",
      "           'id': 12,\n",
      "           'profile_image': ''},\n",
      "          {'employee_age': 36,\n",
      "           'employee_name': 'Charde Marshall',\n",
      "           'employee_salary': 470600,\n",
      "           'id': 13,\n",
      "           'profile_image': ''},\n",
      "          {'employee_age': 43,\n",
      "           'employee_name': 'Haley Kennedy',\n",
      "           'employee_salary': 313500,\n",
      "           'id': 14,\n",
      "           'profile_image': ''},\n",
      "          {'employee_age': 19,\n",
      "           'employee_name': 'Tatyana Fitzpatrick',\n",
      "           'employee_salary': 385750,\n",
      "           'id': 15,\n",
      "           'profile_image': ''},\n",
      "          {'employee_age': 66,\n",
      "           'employee_name': 'Michael Silva',\n",
      "           'employee_salary': 198500,\n",
      "           'id': 16,\n",
      "           'profile_image': ''},\n",
      "          {'employee_age': 64,\n",
      "           'employee_name': 'Paul Byrd',\n",
      "           'employee_salary': 725000,\n",
      "           'id': 17,\n",
      "           'profile_image': ''},\n",
      "          {'employee_age': 59,\n",
      "           'employee_name': 'Gloria Little',\n",
      "           'employee_salary': 237500,\n",
      "           'id': 18,\n",
      "           'profile_image': ''},\n",
      "          {'employee_age': 41,\n",
      "           'employee_name': 'Bradley Greer',\n",
      "           'employee_salary': 132000,\n",
      "           'id': 19,\n",
      "           'profile_image': ''},\n",
      "          {'employee_age': 35,\n",
      "           'employee_name': 'Dai Rios',\n",
      "           'employee_salary': 217500,\n",
      "           'id': 20,\n",
      "           'profile_image': ''},\n",
      "          {'employee_age': 30,\n",
      "           'employee_name': 'Jenette Caldwell',\n",
      "           'employee_salary': 345000,\n",
      "           'id': 21,\n",
      "           'profile_image': ''},\n",
      "          {'employee_age': 40,\n",
      "           'employee_name': 'Yuri Berry',\n",
      "           'employee_salary': 675000,\n",
      "           'id': 22,\n",
      "           'profile_image': ''},\n",
      "          {'employee_age': 21,\n",
      "           'employee_name': 'Caesar Vance',\n",
      "           'employee_salary': 106450,\n",
      "           'id': 23,\n",
      "           'profile_image': ''},\n",
      "          {'employee_age': 23,\n",
      "           'employee_name': 'Doris Wilder',\n",
      "           'employee_salary': 85600,\n",
      "           'id': 24,\n",
      "           'profile_image': ''}],\n",
      " 'message': 'Successfully! All records has been fetched.',\n",
      " 'status': 'success'}\n"
     ]
    }
   ],
   "source": [
    "from pprint import pprint\n",
    "\n",
    "pprint(response)"
   ]
  },
  {
   "cell_type": "code",
   "execution_count": null,
   "id": "3f4abbb9",
   "metadata": {},
   "outputs": [],
   "source": []
  }
 ],
 "metadata": {
  "kernelspec": {
   "display_name": "Python 3 (ipykernel)",
   "language": "python",
   "name": "python3"
  },
  "language_info": {
   "codemirror_mode": {
    "name": "ipython",
    "version": 3
   },
   "file_extension": ".py",
   "mimetype": "text/x-python",
   "name": "python",
   "nbconvert_exporter": "python",
   "pygments_lexer": "ipython3",
   "version": "3.8.5"
  }
 },
 "nbformat": 4,
 "nbformat_minor": 5
}
