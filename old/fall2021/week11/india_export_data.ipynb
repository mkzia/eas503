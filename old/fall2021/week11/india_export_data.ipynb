{
 "cells": [
  {
   "cell_type": "code",
   "execution_count": null,
   "id": "d5065baf",
   "metadata": {},
   "outputs": [],
   "source": [
    "import pandas as pd\n",
    "import sqlite3\n",
    "\n",
    "\n",
    "df = pd.read_csv('2018-2010_export.csv')\n",
    "display(df)"
   ]
  },
  {
   "cell_type": "code",
   "execution_count": null,
   "id": "d44baa74",
   "metadata": {},
   "outputs": [],
   "source": [
    "conn = sqlite3.connect('india_export.db')\n",
    "cur = conn.cursor()\n",
    "cur.execute('''DROP TABLE IF EXISTS export''')\n",
    "df.to_sql('export', conn, if_exists='replace', index=False) # - writes the pd.df to SQLIte DB\n",
    "conn.commit()"
   ]
  },
  {
   "cell_type": "code",
   "execution_count": null,
   "id": "13dd0e50",
   "metadata": {},
   "outputs": [],
   "source": [
    "pd.read_sql('select * from export', conn)"
   ]
  },
  {
   "cell_type": "code",
   "execution_count": null,
   "id": "d08f712a",
   "metadata": {},
   "outputs": [],
   "source": [
    "conn.close()"
   ]
  },
  {
   "cell_type": "markdown",
   "id": "b8d82301",
   "metadata": {},
   "source": [
    "# Steps to normalizing India export database\n",
    "\n",
    "- Inspect table and determine how many tables into convert the database into \n",
    "    - Four tables:\n",
    "        - year \n",
    "        - country   \n",
    "        - commodity \n",
    "        - a table that joins country, year, commmodity, and value \n",
    "        \n",
    "- Steps to create year table\n",
    "- list of unique years\n",
    "- create statement\n",
    "- insert function \n"
   ]
  },
  {
   "cell_type": "code",
   "execution_count": null,
   "id": "c1c7f292",
   "metadata": {},
   "outputs": [],
   "source": [
    "import pandas as pd\n",
    "import sqlite3\n",
    "from sqlite3 import Error\n",
    "\n",
    "def create_connection(db_file, delete_db=False):\n",
    "    import os\n",
    "    if delete_db and os.path.exists(db_file):\n",
    "        os.remove(db_file)\n",
    "\n",
    "    conn = None\n",
    "    try:\n",
    "        conn = sqlite3.connect(db_file)\n",
    "        conn.execute(\"PRAGMA foreign_keys = 1\")\n",
    "    except Error as e:\n",
    "        print(e)\n",
    "\n",
    "    return conn\n",
    "\n",
    "\n",
    "def create_table(conn, create_table_sql):\n",
    "    try:\n",
    "        c = conn.cursor()\n",
    "        c.execute(create_table_sql)\n",
    "    except Error as e:\n",
    "        print(e)\n",
    "        \n",
    "def execute_sql_statement(sql_statement, conn):\n",
    "    cur = conn.cursor()\n",
    "    cur.execute(sql_statement)\n",
    "\n",
    "    rows = cur.fetchall()\n",
    "\n",
    "    return rows\n"
   ]
  },
  {
   "cell_type": "code",
   "execution_count": null,
   "id": "66118759",
   "metadata": {},
   "outputs": [],
   "source": [
    "conn = create_connection('india_export.db')"
   ]
  },
  {
   "cell_type": "code",
   "execution_count": null,
   "id": "dccbae07",
   "metadata": {},
   "outputs": [],
   "source": [
    "# Get list of unique years\n",
    "\n",
    "sql_statement = \"SELECT DISTINCT year from export ORDER BY year\"\n",
    "\n",
    "years = execute_sql_statement(sql_statement, conn)\n",
    "years = list(map(lambda row: int(row[0]), years))\n",
    "print(years)"
   ]
  },
  {
   "cell_type": "code",
   "execution_count": null,
   "id": "f7f2e6ec",
   "metadata": {},
   "outputs": [],
   "source": [
    "create_table_sql = \"\"\"CREATE TABLE [Year] (\n",
    "    [YEAR] INTEGER NOT NULL PRIMARY KEY\n",
    ");\n",
    "\"\"\"\n",
    "conn_norm.close()\n",
    "\n",
    "conn_norm = create_connection('india_export_norm.db', True)\n",
    "create_table(conn_norm, create_table_sql)\n",
    "sql_statement = \"SELECT * FROM Year\"\n",
    "df = pd.read_sql_query(sql_statement, conn_norm)\n",
    "display(df)\n",
    "conn_norm.close()"
   ]
  },
  {
   "cell_type": "code",
   "execution_count": null,
   "id": "da483133",
   "metadata": {},
   "outputs": [],
   "source": [
    "conn_norm = create_connection('india_export_norm.db')\n",
    "sql_statement = \"SELECT * FROM Year\"\n",
    "df = pd.read_sql_query(sql_statement, conn_norm)\n",
    "display(df)"
   ]
  },
  {
   "cell_type": "code",
   "execution_count": null,
   "id": "3aa65519",
   "metadata": {},
   "outputs": [],
   "source": [
    "def insert_year(conn, values):\n",
    "    sql = ''' INSERT INTO YEAR(YEAR)\n",
    "              VALUES(?) '''\n",
    "    cur = conn.cursor()\n",
    "    cur.execute(sql, values)\n",
    "    return cur.lastrowid\n",
    "\n",
    "with conn_norm:\n",
    "    for year in years:\n",
    "        insert_year(conn_norm, (year, ))\n"
   ]
  },
  {
   "cell_type": "code",
   "execution_count": null,
   "id": "61b7c7c1",
   "metadata": {},
   "outputs": [],
   "source": [
    "sql_statement = \"SELECT * FROM Year\"\n",
    "df = pd.read_sql_query(sql_statement, conn_norm)\n",
    "display(df)"
   ]
  },
  {
   "cell_type": "code",
   "execution_count": null,
   "id": "17bfb333",
   "metadata": {},
   "outputs": [],
   "source": [
    "conn_norm.close()\n"
   ]
  },
  {
   "cell_type": "code",
   "execution_count": null,
   "id": "16d9425c",
   "metadata": {},
   "outputs": [],
   "source": [
    "conn_norm = create_connection('india_export_norm.db')\n",
    "sql_statement = \"SELECT * FROM Year\"\n",
    "df = pd.read_sql_query(sql_statement, conn_norm)\n",
    "display(df)"
   ]
  },
  {
   "cell_type": "code",
   "execution_count": null,
   "id": "eb032880",
   "metadata": {},
   "outputs": [],
   "source": [
    "# Get list of unique countries\n",
    "\n",
    "sql_statement = \"SELECT DISTINCT country from export ORDER BY country\"\n",
    "\n",
    "countries = execute_sql_statement(sql_statement, conn)\n",
    "countries = list(map(lambda row: row[0], countries))\n",
    "print(countries)"
   ]
  },
  {
   "cell_type": "code",
   "execution_count": null,
   "id": "d3ee95be",
   "metadata": {},
   "outputs": [],
   "source": [
    "def insert_country(conn, values):\n",
    "    sql = ''' INSERT INTO COUNTRY(COUNTRY)\n",
    "              VALUES(?) '''\n",
    "    cur = conn.cursor()\n",
    "    cur.execute(sql, values)\n",
    "    return cur.lastrowid\n",
    "\n",
    "create_table_sql = \"\"\"CREATE TABLE IF NOT EXISTS [Country] (\n",
    "    [Country] TEXT NOT NULL PRIMARY KEY\n",
    ");\n",
    "\"\"\"\n",
    "create_table(conn_norm, create_table_sql)\n",
    "\n",
    "with conn_norm:\n",
    "    for country in countries:\n",
    "        insert_country(conn_norm, (country, ))\n",
    "        \n",
    "sql_statement = \"SELECT * FROM country\"\n",
    "df = pd.read_sql_query(sql_statement, conn_norm)\n",
    "display(df)\n"
   ]
  },
  {
   "cell_type": "code",
   "execution_count": null,
   "id": "c4ec8403",
   "metadata": {},
   "outputs": [],
   "source": [
    "sql_statement = \"SELECT DISTINCT COMMODITY FROM export order by COMMODITY\"\n",
    "commodities = execute_sql_statement(sql_statement, conn)\n",
    "print(commodities)\n",
    "print(len(commodities))"
   ]
  },
  {
   "cell_type": "code",
   "execution_count": null,
   "id": "2cf17fe6",
   "metadata": {},
   "outputs": [],
   "source": [
    "def insert_commodity(conn, values):\n",
    "    sql = ''' INSERT INTO COMMODITY (COMMODITY)\n",
    "              VALUES(?) '''\n",
    "    cur = conn.cursor()\n",
    "    cur.execute(sql, values)\n",
    "    return cur.lastrowid\n",
    "\n",
    "create_table_sql = \"\"\"CREATE TABLE IF NOT EXISTS [COMMODITY] (\n",
    "    [HSCODE] INTEGER NOT NULL PRIMARY KEY, \n",
    "    [COMMODITY] TEXT NOT NULL\n",
    ");\n",
    "\"\"\"\n",
    "create_table(conn_norm, create_table_sql)\n",
    "\n"
   ]
  },
  {
   "cell_type": "code",
   "execution_count": null,
   "id": "aab307d3",
   "metadata": {},
   "outputs": [],
   "source": [
    "with conn_norm:\n",
    "    for commodity in commodities:\n",
    "        insert_commodity(conn_norm, commodity)\n",
    "        \n",
    "sql_statement = \"SELECT * FROM Commodity\"\n",
    "df = pd.read_sql_query(sql_statement, conn_norm)\n",
    "display(df)"
   ]
  },
  {
   "cell_type": "code",
   "execution_count": null,
   "id": "3ea59544",
   "metadata": {},
   "outputs": [],
   "source": [
    "# Table 4 which is going link all the tables with values\n",
    "\n",
    "def insert_value(conn, values):\n",
    "    sql = ''' INSERT INTO Export (HSCODE, COUNTRY, YEAR, VALUE)\n",
    "              VALUES(?, ?, ?, ?) '''\n",
    "    cur = conn.cursor()\n",
    "    cur.execute(sql, values)\n",
    "    return cur.lastrowid\n",
    "\n",
    "create_table_sql = \"\"\"CREATE TABLE IF NOT EXISTS [Export] (\n",
    "    [VALUEID] INTEGER NOT NULL PRIMARY KEY,\n",
    "    [HSCODE] INTEGER NOT NULL, \n",
    "    [COUNTRY] TEXT NOT NULL,\n",
    "    [YEAR] INTEGER NOT NULL,\n",
    "    [VALUE] REAL,\n",
    "    FOREIGN KEY(COUNTRY) REFERENCES Country(COUNTRY),\n",
    "    FOREIGN KEY(YEAR) REFERENCES YEAR(YEAR),\n",
    "    FOREIGN KEY(HSCODE) REFERENCES Commodity(HSCODE)\n",
    ");\n",
    "\"\"\"\n",
    "create_table(conn_norm, create_table_sql)"
   ]
  },
  {
   "cell_type": "code",
   "execution_count": null,
   "id": "424ba151",
   "metadata": {},
   "outputs": [],
   "source": [
    "sql_statement = 'SELECT Commodity, country, year, value from export'\n",
    "values = execute_sql_statement(sql_statement, conn)\n",
    "print(values[:10])"
   ]
  },
  {
   "cell_type": "code",
   "execution_count": null,
   "id": "91a7b6f0",
   "metadata": {},
   "outputs": [],
   "source": [
    "sql_statement = 'SELECT HSCODE, COMMODITY from COMMODITY'\n",
    "values = execute_sql_statement(sql_statement, conn_norm)\n",
    "print(values[:10])"
   ]
  },
  {
   "cell_type": "code",
   "execution_count": null,
   "id": "6005def1",
   "metadata": {},
   "outputs": [],
   "source": [
    "commodity_lookup = {}\n",
    "for hscode, commodity in values:\n",
    "    commodity_lookup[commodity] = hscode\n",
    "    \n",
    "print(commodity_lookup)"
   ]
  },
  {
   "cell_type": "code",
   "execution_count": null,
   "id": "af3d7b47",
   "metadata": {},
   "outputs": [],
   "source": [
    "commodity_lookup['MEAT AND EDIBLE MEAT OFFAL.']"
   ]
  },
  {
   "cell_type": "code",
   "execution_count": null,
   "id": "6185674b",
   "metadata": {},
   "outputs": [],
   "source": [
    "sql_statement = 'SELECT HSCODE, Commodity, country, year, value from export'\n",
    "values = execute_sql_statement(sql_statement, conn)\n",
    "# with conn_norm:\n",
    "count = 0\n",
    "with conn_norm:\n",
    "    for value in values:\n",
    "        text = value[1]\n",
    "        hscode = commodity_lookup[text]\n",
    "        insert_tuple = (hscode, value[2], value[3], value[4])\n",
    "        insert_value(conn_norm, insert_tuple)\n"
   ]
  },
  {
   "cell_type": "code",
   "execution_count": null,
   "id": "481d58f5",
   "metadata": {},
   "outputs": [],
   "source": [
    "\n"
   ]
  },
  {
   "cell_type": "code",
   "execution_count": null,
   "id": "79342f4f",
   "metadata": {},
   "outputs": [],
   "source": [
    "import time\n",
    "time.monotonic() \n",
    "\n"
   ]
  },
  {
   "cell_type": "code",
   "execution_count": null,
   "id": "bc52be45",
   "metadata": {},
   "outputs": [],
   "source": [
    "\n",
    "# conn_norm = create_connection('india_export_norm.db')\n",
    "# cur = conn_norm.cursor()\n",
    "# cur.execute('DROP TABLE EXPORT')\n",
    "create_table_sql = \"\"\"CREATE TABLE IF NOT EXISTS [Export] (\n",
    "    [VALUEID] INTEGER NOT NULL PRIMARY KEY,\n",
    "    [HSCODE] INTEGER NOT NULL, \n",
    "    [COUNTRY] TEXT NOT NULL,\n",
    "    [YEAR] INTEGER NOT NULL,\n",
    "    [VALUE] REAL,\n",
    "    FOREIGN KEY(COUNTRY) REFERENCES Country(COUNTRY),\n",
    "    FOREIGN KEY(YEAR) REFERENCES YEAR(YEAR),\n",
    "    FOREIGN KEY(HSCODE) REFERENCES Commodity(HSCODE)\n",
    ");\n",
    "\"\"\"\n",
    "create_table(conn_norm, create_table_sql)\n",
    "\n",
    "with conn_norm:\n",
    "    start_time = time.monotonic() \n",
    "    for value in values:\n",
    "        text = value[1]\n",
    "        hscode = commodity_lookup[text]\n",
    "        insert_tuple = (hscode, value[2], value[3], value[4])\n",
    "        insert_value(conn_norm, insert_tuple)\n",
    "end_time = time.monotonic()     \n",
    "\n",
    "\n",
    "print(end_time-start_time)"
   ]
  },
  {
   "cell_type": "code",
   "execution_count": null,
   "id": "204fffb2",
   "metadata": {},
   "outputs": [],
   "source": [
    "insert_tuples = []\n",
    "\n",
    "for value in values:\n",
    "    text = value[1]\n",
    "    hscode = commodity_lookup[text]\n",
    "    insert_tuple = (hscode, value[2], value[3], value[4])\n",
    "    insert_tuples.append(insert_tuple)\n",
    "print(insert_tuples[:100])"
   ]
  },
  {
   "cell_type": "code",
   "execution_count": null,
   "id": "a97d1e3b",
   "metadata": {},
   "outputs": [],
   "source": [
    "\n",
    "conn_norm = create_connection('india_export_norm.db')\n",
    "cur = conn_norm.cursor()\n",
    "cur.execute('DROP TABLE EXPORT')\n",
    "create_table_sql = \"\"\"CREATE TABLE IF NOT EXISTS [Export] (\n",
    "    [VALUEID] INTEGER NOT NULL PRIMARY KEY,\n",
    "    [HSCODE] INTEGER NOT NULL, \n",
    "    [COUNTRY] TEXT NOT NULL,\n",
    "    [YEAR] INTEGER NOT NULL,\n",
    "    [VALUE] REAL,\n",
    "    FOREIGN KEY(COUNTRY) REFERENCES Country(COUNTRY),\n",
    "    FOREIGN KEY(YEAR) REFERENCES YEAR(YEAR),\n",
    "    FOREIGN KEY(HSCODE) REFERENCES Commodity(HSCODE)\n",
    ");\n",
    "\"\"\"\n",
    "create_table(conn_norm, create_table_sql)\n",
    "sql = ''' INSERT INTO Export (HSCODE, COUNTRY, YEAR, VALUE)\n",
    "              VALUES(?, ?, ?, ?) '''\n",
    "cur = conn_norm.cursor()\n",
    "start_time = time.monotonic() \n",
    "cur.executemany(sql, insert_tuples)\n",
    "conn_norm.commit()\n",
    "end_time = time.monotonic()     "
   ]
  },
  {
   "cell_type": "code",
   "execution_count": null,
   "id": "70246268",
   "metadata": {},
   "outputs": [],
   "source": [
    "print(end_time-start_time)"
   ]
  },
  {
   "cell_type": "code",
   "execution_count": null,
   "id": "225df5c7",
   "metadata": {},
   "outputs": [],
   "source": [
    "x = 'abcd'\n",
    "x.upper"
   ]
  },
  {
   "cell_type": "code",
   "execution_count": null,
   "id": "a28b1be5",
   "metadata": {},
   "outputs": [],
   "source": [
    "conn_norm.commit"
   ]
  },
  {
   "cell_type": "code",
   "execution_count": null,
   "id": "626d32cb",
   "metadata": {},
   "outputs": [],
   "source": []
  }
 ],
 "metadata": {
  "kernelspec": {
   "display_name": "Python 3 (ipykernel)",
   "language": "python",
   "name": "python3"
  },
  "language_info": {
   "codemirror_mode": {
    "name": "ipython",
    "version": 3
   },
   "file_extension": ".py",
   "mimetype": "text/x-python",
   "name": "python",
   "nbconvert_exporter": "python",
   "pygments_lexer": "ipython3",
   "version": "3.8.12"
  }
 },
 "nbformat": 4,
 "nbformat_minor": 5
}
