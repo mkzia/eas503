{
 "cells": [
  {
   "cell_type": "code",
   "execution_count": 3,
   "id": "4a3eb5c7",
   "metadata": {},
   "outputs": [
    {
     "data": {
      "text/plain": [
       "True"
      ]
     },
     "execution_count": 3,
     "metadata": {},
     "output_type": "execute_result"
    }
   ],
   "source": [
    "(5 != True)"
   ]
  },
  {
   "cell_type": "code",
   "execution_count": 4,
   "id": "beaea1ff",
   "metadata": {},
   "outputs": [
    {
     "data": {
      "text/plain": [
       "True"
      ]
     },
     "execution_count": 4,
     "metadata": {},
     "output_type": "execute_result"
    }
   ],
   "source": [
    "(3 < 5)"
   ]
  },
  {
   "cell_type": "code",
   "execution_count": 5,
   "id": "d1d784d8",
   "metadata": {},
   "outputs": [
    {
     "data": {
      "text/plain": [
       "True"
      ]
     },
     "execution_count": 5,
     "metadata": {},
     "output_type": "execute_result"
    }
   ],
   "source": [
    "3 < 5 != True "
   ]
  },
  {
   "cell_type": "code",
   "execution_count": 7,
   "id": "2e152f9b",
   "metadata": {},
   "outputs": [
    {
     "name": "stdout",
     "output_type": "stream",
     "text": [
      "[1, 2, 3]\n"
     ]
    }
   ],
   "source": [
    "my_list = [1, 2, 3]\n",
    "print(my_list)"
   ]
  },
  {
   "cell_type": "code",
   "execution_count": 8,
   "id": "5e842500",
   "metadata": {},
   "outputs": [],
   "source": [
    "my_list[1] = 'EAS503'"
   ]
  },
  {
   "cell_type": "code",
   "execution_count": 9,
   "id": "f78da196",
   "metadata": {},
   "outputs": [
    {
     "data": {
      "text/plain": [
       "[1, 'EAS503', 3]"
      ]
     },
     "execution_count": 9,
     "metadata": {},
     "output_type": "execute_result"
    }
   ],
   "source": [
    "my_list"
   ]
  },
  {
   "cell_type": "code",
   "execution_count": 10,
   "id": "c00f4018",
   "metadata": {},
   "outputs": [
    {
     "name": "stdout",
     "output_type": "stream",
     "text": [
      "(1, 2, 3)\n"
     ]
    }
   ],
   "source": [
    "my_tuple = (1, 2, 3)\n",
    "print(my_tuple)"
   ]
  },
  {
   "cell_type": "code",
   "execution_count": 11,
   "id": "b538dae0",
   "metadata": {},
   "outputs": [
    {
     "ename": "TypeError",
     "evalue": "'tuple' object does not support item assignment",
     "output_type": "error",
     "traceback": [
      "\u001b[1;31m---------------------------------------------------------------------------\u001b[0m",
      "\u001b[1;31mTypeError\u001b[0m                                 Traceback (most recent call last)",
      "\u001b[1;32m~\\AppData\\Local\\Temp/ipykernel_15544/3076809827.py\u001b[0m in \u001b[0;36m<module>\u001b[1;34m\u001b[0m\n\u001b[1;32m----> 1\u001b[1;33m \u001b[0mmy_tuple\u001b[0m\u001b[1;33m[\u001b[0m\u001b[1;36m1\u001b[0m\u001b[1;33m]\u001b[0m \u001b[1;33m=\u001b[0m \u001b[1;34m'ABC'\u001b[0m\u001b[1;33m\u001b[0m\u001b[1;33m\u001b[0m\u001b[0m\n\u001b[0m",
      "\u001b[1;31mTypeError\u001b[0m: 'tuple' object does not support item assignment"
     ]
    }
   ],
   "source": [
    "my_tuple[1] = 'ABC'"
   ]
  },
  {
   "cell_type": "code",
   "execution_count": 12,
   "id": "86a16769",
   "metadata": {},
   "outputs": [
    {
     "name": "stdout",
     "output_type": "stream",
     "text": [
      "(1, [1, 2], 3)\n"
     ]
    }
   ],
   "source": [
    "my_tuple2 = (1, [1, 2], 3)\n",
    "print(my_tuple2)"
   ]
  },
  {
   "cell_type": "code",
   "execution_count": 15,
   "id": "f298d97b",
   "metadata": {},
   "outputs": [
    {
     "name": "stdout",
     "output_type": "stream",
     "text": [
      "(1, [1, 'ABC'], 3)\n"
     ]
    }
   ],
   "source": [
    "my_tuple2[1][1] = 'ABC'\n",
    "print(my_tuple2)"
   ]
  },
  {
   "cell_type": "code",
   "execution_count": 16,
   "id": "578b6148",
   "metadata": {},
   "outputs": [
    {
     "ename": "TypeError",
     "evalue": "'tuple' object does not support item assignment",
     "output_type": "error",
     "traceback": [
      "\u001b[1;31m---------------------------------------------------------------------------\u001b[0m",
      "\u001b[1;31mTypeError\u001b[0m                                 Traceback (most recent call last)",
      "\u001b[1;32m~\\AppData\\Local\\Temp/ipykernel_15544/2681935543.py\u001b[0m in \u001b[0;36m<module>\u001b[1;34m\u001b[0m\n\u001b[1;32m----> 1\u001b[1;33m \u001b[0mmy_tuple2\u001b[0m\u001b[1;33m[\u001b[0m\u001b[1;36m1\u001b[0m\u001b[1;33m]\u001b[0m \u001b[1;33m=\u001b[0m \u001b[1;34m'ABC'\u001b[0m\u001b[1;33m\u001b[0m\u001b[1;33m\u001b[0m\u001b[0m\n\u001b[0m",
      "\u001b[1;31mTypeError\u001b[0m: 'tuple' object does not support item assignment"
     ]
    }
   ],
   "source": [
    "my_tuple2[1] = 'ABC'"
   ]
  },
  {
   "cell_type": "code",
   "execution_count": 17,
   "id": "6bcd6f70",
   "metadata": {},
   "outputs": [],
   "source": [
    "my_list = [1, 100, 50]"
   ]
  },
  {
   "cell_type": "code",
   "execution_count": 18,
   "id": "db8eb158",
   "metadata": {},
   "outputs": [
    {
     "data": {
      "text/plain": [
       "3"
      ]
     },
     "execution_count": 18,
     "metadata": {},
     "output_type": "execute_result"
    }
   ],
   "source": [
    "len(my_list)"
   ]
  },
  {
   "cell_type": "code",
   "execution_count": 19,
   "id": "7eb4b56f",
   "metadata": {},
   "outputs": [
    {
     "data": {
      "text/plain": [
       "True"
      ]
     },
     "execution_count": 19,
     "metadata": {},
     "output_type": "execute_result"
    }
   ],
   "source": [
    "len(my_list) == 3"
   ]
  },
  {
   "cell_type": "code",
   "execution_count": 20,
   "id": "aeac53e1",
   "metadata": {},
   "outputs": [
    {
     "data": {
      "text/plain": [
       "100"
      ]
     },
     "execution_count": 20,
     "metadata": {},
     "output_type": "execute_result"
    }
   ],
   "source": [
    "max(my_list)"
   ]
  },
  {
   "cell_type": "code",
   "execution_count": 21,
   "id": "c579be4d",
   "metadata": {},
   "outputs": [
    {
     "data": {
      "text/plain": [
       "1"
      ]
     },
     "execution_count": 21,
     "metadata": {},
     "output_type": "execute_result"
    }
   ],
   "source": [
    "min(my_list)"
   ]
  },
  {
   "cell_type": "code",
   "execution_count": 22,
   "id": "ac138c6a",
   "metadata": {},
   "outputs": [
    {
     "ename": "TypeError",
     "evalue": "'>' not supported between instances of 'int' and 'str'",
     "output_type": "error",
     "traceback": [
      "\u001b[1;31m---------------------------------------------------------------------------\u001b[0m",
      "\u001b[1;31mTypeError\u001b[0m                                 Traceback (most recent call last)",
      "\u001b[1;32m~\\AppData\\Local\\Temp/ipykernel_15544/3810977176.py\u001b[0m in \u001b[0;36m<module>\u001b[1;34m\u001b[0m\n\u001b[0;32m      1\u001b[0m \u001b[0mmy_list\u001b[0m \u001b[1;33m=\u001b[0m \u001b[1;33m[\u001b[0m\u001b[1;34m'a'\u001b[0m\u001b[1;33m,\u001b[0m \u001b[1;36m1\u001b[0m\u001b[1;33m,\u001b[0m \u001b[1;36m2.5\u001b[0m\u001b[1;33m]\u001b[0m\u001b[1;33m\u001b[0m\u001b[1;33m\u001b[0m\u001b[0m\n\u001b[1;32m----> 2\u001b[1;33m \u001b[0mmax\u001b[0m\u001b[1;33m(\u001b[0m\u001b[0mmy_list\u001b[0m\u001b[1;33m)\u001b[0m\u001b[1;33m\u001b[0m\u001b[1;33m\u001b[0m\u001b[0m\n\u001b[0m",
      "\u001b[1;31mTypeError\u001b[0m: '>' not supported between instances of 'int' and 'str'"
     ]
    }
   ],
   "source": [
    "my_list = ['a', 1, 2.5]\n",
    "max(my_list)"
   ]
  },
  {
   "cell_type": "code",
   "execution_count": 23,
   "id": "6a303b43",
   "metadata": {},
   "outputs": [
    {
     "data": {
      "text/plain": [
       "3.14"
      ]
     },
     "execution_count": 23,
     "metadata": {},
     "output_type": "execute_result"
    }
   ],
   "source": [
    "my_list = [1.1, 2, 3.14]\n",
    "\n",
    "max(my_list)"
   ]
  },
  {
   "cell_type": "code",
   "execution_count": 24,
   "id": "67412d75",
   "metadata": {},
   "outputs": [
    {
     "data": {
      "text/plain": [
       "'Z'"
      ]
     },
     "execution_count": 24,
     "metadata": {},
     "output_type": "execute_result"
    }
   ],
   "source": [
    "my_list = ['a', 'b', 'Z']\n",
    "min(my_list)"
   ]
  },
  {
   "cell_type": "code",
   "execution_count": 26,
   "id": "17e5aa5b",
   "metadata": {},
   "outputs": [],
   "source": [
    "my_list = [1.1, 2, 3.14]"
   ]
  },
  {
   "cell_type": "code",
   "execution_count": 27,
   "id": "e08cce00",
   "metadata": {},
   "outputs": [
    {
     "data": {
      "text/plain": [
       "6.24"
      ]
     },
     "execution_count": 27,
     "metadata": {},
     "output_type": "execute_result"
    }
   ],
   "source": [
    "sum(my_list)"
   ]
  },
  {
   "cell_type": "code",
   "execution_count": 28,
   "id": "960a69a4",
   "metadata": {},
   "outputs": [
    {
     "data": {
      "text/plain": [
       "[1.1, 2, 3.14]"
      ]
     },
     "execution_count": 28,
     "metadata": {},
     "output_type": "execute_result"
    }
   ],
   "source": [
    "sorted(my_list)"
   ]
  },
  {
   "cell_type": "code",
   "execution_count": 29,
   "id": "16a696eb",
   "metadata": {},
   "outputs": [
    {
     "name": "stdout",
     "output_type": "stream",
     "text": [
      "Help on built-in function sorted in module builtins:\n",
      "\n",
      "sorted(iterable, /, *, key=None, reverse=False)\n",
      "    Return a new list containing all items from the iterable in ascending order.\n",
      "    \n",
      "    A custom key function can be supplied to customize the sort order, and the\n",
      "    reverse flag can be set to request the result in descending order.\n",
      "\n"
     ]
    }
   ],
   "source": [
    "help(sorted)"
   ]
  },
  {
   "cell_type": "code",
   "execution_count": 30,
   "id": "ec207a24",
   "metadata": {},
   "outputs": [
    {
     "data": {
      "text/plain": [
       "[1.1, 2, 3.14]"
      ]
     },
     "execution_count": 30,
     "metadata": {},
     "output_type": "execute_result"
    }
   ],
   "source": [
    "sorted(my_list, reverse=False)"
   ]
  },
  {
   "cell_type": "code",
   "execution_count": 31,
   "id": "aa224001",
   "metadata": {},
   "outputs": [
    {
     "data": {
      "text/plain": [
       "[3.14, 2, 1.1]"
      ]
     },
     "execution_count": 31,
     "metadata": {},
     "output_type": "execute_result"
    }
   ],
   "source": [
    "sorted(my_list, reverse=True)"
   ]
  },
  {
   "cell_type": "code",
   "execution_count": 32,
   "id": "593a4f12",
   "metadata": {},
   "outputs": [
    {
     "data": {
      "text/plain": [
       "True"
      ]
     },
     "execution_count": 32,
     "metadata": {},
     "output_type": "execute_result"
    }
   ],
   "source": [
    "my_list = [1, True, 3.14, 'eas503']\n",
    "any(my_list)\n"
   ]
  },
  {
   "cell_type": "code",
   "execution_count": 33,
   "id": "fae5d146",
   "metadata": {},
   "outputs": [
    {
     "data": {
      "text/plain": [
       "True"
      ]
     },
     "execution_count": 33,
     "metadata": {},
     "output_type": "execute_result"
    }
   ],
   "source": [
    "my_list = [1, True, 3.14, 0]\n",
    "any(my_list)\n"
   ]
  },
  {
   "cell_type": "code",
   "execution_count": 34,
   "id": "a65095d9",
   "metadata": {},
   "outputs": [
    {
     "data": {
      "text/plain": [
       "False"
      ]
     },
     "execution_count": 34,
     "metadata": {},
     "output_type": "execute_result"
    }
   ],
   "source": [
    "my_list = [False, 0.0, [], (), 0, None]\n",
    "any(my_list)"
   ]
  },
  {
   "cell_type": "code",
   "execution_count": 35,
   "id": "2def663e",
   "metadata": {},
   "outputs": [
    {
     "data": {
      "text/plain": [
       "False"
      ]
     },
     "execution_count": 35,
     "metadata": {},
     "output_type": "execute_result"
    }
   ],
   "source": [
    "all(my_list)"
   ]
  },
  {
   "cell_type": "code",
   "execution_count": 36,
   "id": "56025204",
   "metadata": {},
   "outputs": [
    {
     "data": {
      "text/plain": [
       "False"
      ]
     },
     "execution_count": 36,
     "metadata": {},
     "output_type": "execute_result"
    }
   ],
   "source": [
    "my_list = [1, True, 3.14, 0]\n",
    "all(my_list)"
   ]
  },
  {
   "cell_type": "code",
   "execution_count": 37,
   "id": "f6770a04",
   "metadata": {},
   "outputs": [
    {
     "name": "stdout",
     "output_type": "stream",
     "text": [
      "EAS503\n"
     ]
    }
   ],
   "source": [
    "my_string = 'eas503'\n",
    "print(my_string.upper())"
   ]
  },
  {
   "cell_type": "code",
   "execution_count": 39,
   "id": "0becfeb5",
   "metadata": {},
   "outputs": [
    {
     "name": "stdout",
     "output_type": "stream",
     "text": [
      "Eas503\n"
     ]
    }
   ],
   "source": [
    "print(my_string.title())"
   ]
  },
  {
   "cell_type": "code",
   "execution_count": 40,
   "id": "68ff84a2",
   "metadata": {},
   "outputs": [
    {
     "ename": "ValueError",
     "evalue": "list.remove(x): x not in list",
     "output_type": "error",
     "traceback": [
      "\u001b[1;31m---------------------------------------------------------------------------\u001b[0m",
      "\u001b[1;31mValueError\u001b[0m                                Traceback (most recent call last)",
      "\u001b[1;32m~\\AppData\\Local\\Temp/ipykernel_15544/2297991535.py\u001b[0m in \u001b[0;36m<module>\u001b[1;34m\u001b[0m\n\u001b[0;32m      2\u001b[0m \u001b[0mgrades\u001b[0m\u001b[1;33m.\u001b[0m\u001b[0mappend\u001b[0m\u001b[1;33m(\u001b[0m\u001b[1;34m'D'\u001b[0m\u001b[1;33m)\u001b[0m\u001b[1;33m\u001b[0m\u001b[1;33m\u001b[0m\u001b[0m\n\u001b[0;32m      3\u001b[0m \u001b[0mgrades\u001b[0m\u001b[1;33m.\u001b[0m\u001b[0minsert\u001b[0m\u001b[1;33m(\u001b[0m\u001b[1;36m4\u001b[0m\u001b[1;33m,\u001b[0m \u001b[1;34m'F'\u001b[0m\u001b[1;33m)\u001b[0m\u001b[1;33m\u001b[0m\u001b[1;33m\u001b[0m\u001b[0m\n\u001b[1;32m----> 4\u001b[1;33m \u001b[0mgrades\u001b[0m\u001b[1;33m.\u001b[0m\u001b[0mremove\u001b[0m\u001b[1;33m(\u001b[0m\u001b[1;36m2\u001b[0m\u001b[1;33m)\u001b[0m\u001b[1;33m\u001b[0m\u001b[1;33m\u001b[0m\u001b[0m\n\u001b[0m\u001b[0;32m      5\u001b[0m \u001b[0mgrades\u001b[0m\u001b[1;33m.\u001b[0m\u001b[0mpop\u001b[0m\u001b[1;33m(\u001b[0m\u001b[1;33m)\u001b[0m\u001b[1;33m\u001b[0m\u001b[1;33m\u001b[0m\u001b[0m\n\u001b[0;32m      6\u001b[0m \u001b[0mgrades\u001b[0m\u001b[1;33m.\u001b[0m\u001b[0mindex\u001b[0m\u001b[1;33m(\u001b[0m\u001b[1;34m'C'\u001b[0m\u001b[1;33m)\u001b[0m\u001b[1;33m\u001b[0m\u001b[1;33m\u001b[0m\u001b[0m\n",
      "\u001b[1;31mValueError\u001b[0m: list.remove(x): x not in list"
     ]
    }
   ],
   "source": [
    "grades = ['A', 'B', 'C']\n",
    "grades.append('D')\n",
    "grades.insert(4, 'F')\n",
    "grades.remove(2)\n",
    "grades.pop()\n",
    "grades.index('C')\n",
    "grades.count() # len(grades)\n",
    "grades.sort()\n",
    "grades.reverse()"
   ]
  },
  {
   "cell_type": "code",
   "execution_count": 41,
   "id": "9e053937",
   "metadata": {},
   "outputs": [],
   "source": [
    "grades = ['A', 'B', 'C']\n",
    "grades.append('D')"
   ]
  },
  {
   "cell_type": "code",
   "execution_count": 42,
   "id": "2d620418",
   "metadata": {},
   "outputs": [
    {
     "data": {
      "text/plain": [
       "['A', 'B', 'C', 'D']"
      ]
     },
     "execution_count": 42,
     "metadata": {},
     "output_type": "execute_result"
    }
   ],
   "source": [
    "grades"
   ]
  },
  {
   "cell_type": "code",
   "execution_count": 43,
   "id": "4509ac6d",
   "metadata": {},
   "outputs": [],
   "source": [
    "grades.insert(2, 'F')"
   ]
  },
  {
   "cell_type": "code",
   "execution_count": 44,
   "id": "0a45e977",
   "metadata": {},
   "outputs": [
    {
     "data": {
      "text/plain": [
       "['A', 'B', 'F', 'C', 'D']"
      ]
     },
     "execution_count": 44,
     "metadata": {},
     "output_type": "execute_result"
    }
   ],
   "source": [
    "grades"
   ]
  },
  {
   "cell_type": "code",
   "execution_count": 45,
   "id": "4a9eaf0d",
   "metadata": {},
   "outputs": [],
   "source": []
  },
  {
   "cell_type": "code",
   "execution_count": 46,
   "id": "55f5e306",
   "metadata": {},
   "outputs": [
    {
     "data": {
      "text/plain": [
       "['A', 'B', 'C', 'D', 'F']"
      ]
     },
     "execution_count": 46,
     "metadata": {},
     "output_type": "execute_result"
    }
   ],
   "source": [
    "grades = ['A', 'B', 'C']\n",
    "grades.append('D')\n",
    "grades.insert(4, 'F')\n",
    "grades"
   ]
  },
  {
   "cell_type": "code",
   "execution_count": 47,
   "id": "fe1b2fbd",
   "metadata": {},
   "outputs": [
    {
     "ename": "ValueError",
     "evalue": "list.remove(x): x not in list",
     "output_type": "error",
     "traceback": [
      "\u001b[1;31m---------------------------------------------------------------------------\u001b[0m",
      "\u001b[1;31mValueError\u001b[0m                                Traceback (most recent call last)",
      "\u001b[1;32m~\\AppData\\Local\\Temp/ipykernel_15544/165686225.py\u001b[0m in \u001b[0;36m<module>\u001b[1;34m\u001b[0m\n\u001b[1;32m----> 1\u001b[1;33m \u001b[0mgrades\u001b[0m\u001b[1;33m.\u001b[0m\u001b[0mremove\u001b[0m\u001b[1;33m(\u001b[0m\u001b[1;36m2\u001b[0m\u001b[1;33m)\u001b[0m\u001b[1;33m\u001b[0m\u001b[1;33m\u001b[0m\u001b[0m\n\u001b[0m",
      "\u001b[1;31mValueError\u001b[0m: list.remove(x): x not in list"
     ]
    }
   ],
   "source": [
    "grades.remove(2)"
   ]
  },
  {
   "cell_type": "code",
   "execution_count": 48,
   "id": "41cbb329",
   "metadata": {},
   "outputs": [],
   "source": [
    "grades.remove('C')"
   ]
  },
  {
   "cell_type": "code",
   "execution_count": 49,
   "id": "26051491",
   "metadata": {},
   "outputs": [
    {
     "data": {
      "text/plain": [
       "['A', 'B', 'D', 'F']"
      ]
     },
     "execution_count": 49,
     "metadata": {},
     "output_type": "execute_result"
    }
   ],
   "source": [
    "grades"
   ]
  },
  {
   "cell_type": "code",
   "execution_count": 53,
   "id": "4cc3a4a4",
   "metadata": {},
   "outputs": [
    {
     "data": {
      "text/plain": [
       "['A', 'B', 'C', 'D', 'D']"
      ]
     },
     "execution_count": 53,
     "metadata": {},
     "output_type": "execute_result"
    }
   ],
   "source": [
    "grades = ['A', 'B', 'C']\n",
    "grades.append('D')\n",
    "grades.append('D')\n",
    "grades"
   ]
  },
  {
   "cell_type": "code",
   "execution_count": 54,
   "id": "cc759123",
   "metadata": {},
   "outputs": [
    {
     "data": {
      "text/plain": [
       "['A', 'B', 'C', 'D']"
      ]
     },
     "execution_count": 54,
     "metadata": {},
     "output_type": "execute_result"
    }
   ],
   "source": [
    "grades.remove('D')\n",
    "grades"
   ]
  },
  {
   "cell_type": "code",
   "execution_count": 55,
   "id": "d8ba3e25",
   "metadata": {},
   "outputs": [],
   "source": [
    "last_ele = grades.pop()"
   ]
  },
  {
   "cell_type": "code",
   "execution_count": 56,
   "id": "c1d7e008",
   "metadata": {},
   "outputs": [
    {
     "data": {
      "text/plain": [
       "'D'"
      ]
     },
     "execution_count": 56,
     "metadata": {},
     "output_type": "execute_result"
    }
   ],
   "source": [
    "last_ele"
   ]
  },
  {
   "cell_type": "code",
   "execution_count": 57,
   "id": "fc5df38d",
   "metadata": {},
   "outputs": [
    {
     "data": {
      "text/plain": [
       "['A', 'B', 'C']"
      ]
     },
     "execution_count": 57,
     "metadata": {},
     "output_type": "execute_result"
    }
   ],
   "source": [
    "grades"
   ]
  },
  {
   "cell_type": "code",
   "execution_count": 58,
   "id": "5eb8928e",
   "metadata": {},
   "outputs": [
    {
     "data": {
      "text/plain": [
       "'C'"
      ]
     },
     "execution_count": 58,
     "metadata": {},
     "output_type": "execute_result"
    }
   ],
   "source": [
    "grades.pop()"
   ]
  },
  {
   "cell_type": "code",
   "execution_count": 59,
   "id": "b2ded634",
   "metadata": {},
   "outputs": [
    {
     "data": {
      "text/plain": [
       "['A', 'B']"
      ]
     },
     "execution_count": 59,
     "metadata": {},
     "output_type": "execute_result"
    }
   ],
   "source": [
    "grades"
   ]
  },
  {
   "cell_type": "code",
   "execution_count": 60,
   "id": "6b3300a0",
   "metadata": {},
   "outputs": [
    {
     "data": {
      "text/plain": [
       "['A', 'B']"
      ]
     },
     "execution_count": 60,
     "metadata": {},
     "output_type": "execute_result"
    }
   ],
   "source": [
    "_"
   ]
  },
  {
   "cell_type": "code",
   "execution_count": 61,
   "id": "39470bd0",
   "metadata": {},
   "outputs": [
    {
     "ename": "ValueError",
     "evalue": "'C' is not in list",
     "output_type": "error",
     "traceback": [
      "\u001b[1;31m---------------------------------------------------------------------------\u001b[0m",
      "\u001b[1;31mValueError\u001b[0m                                Traceback (most recent call last)",
      "\u001b[1;32m~\\AppData\\Local\\Temp/ipykernel_15544/821014445.py\u001b[0m in \u001b[0;36m<module>\u001b[1;34m\u001b[0m\n\u001b[1;32m----> 1\u001b[1;33m \u001b[0mgrades\u001b[0m\u001b[1;33m.\u001b[0m\u001b[0mindex\u001b[0m\u001b[1;33m(\u001b[0m\u001b[1;34m'C'\u001b[0m\u001b[1;33m)\u001b[0m\u001b[1;33m\u001b[0m\u001b[1;33m\u001b[0m\u001b[0m\n\u001b[0m",
      "\u001b[1;31mValueError\u001b[0m: 'C' is not in list"
     ]
    }
   ],
   "source": [
    "grades.index('C')"
   ]
  },
  {
   "cell_type": "code",
   "execution_count": 62,
   "id": "94e0dc62",
   "metadata": {},
   "outputs": [
    {
     "data": {
      "text/plain": [
       "2"
      ]
     },
     "execution_count": 62,
     "metadata": {},
     "output_type": "execute_result"
    }
   ],
   "source": [
    "grades = ['A', 'B', 'C']\n",
    "grades.index('C')"
   ]
  },
  {
   "cell_type": "code",
   "execution_count": 63,
   "id": "15051188",
   "metadata": {},
   "outputs": [
    {
     "data": {
      "text/plain": [
       "['A', 'B', 'C']"
      ]
     },
     "execution_count": 63,
     "metadata": {},
     "output_type": "execute_result"
    }
   ],
   "source": [
    "grades"
   ]
  },
  {
   "cell_type": "code",
   "execution_count": 64,
   "id": "9851872f",
   "metadata": {},
   "outputs": [
    {
     "data": {
      "text/plain": [
       "1"
      ]
     },
     "execution_count": 64,
     "metadata": {},
     "output_type": "execute_result"
    }
   ],
   "source": [
    "grades.count('C')"
   ]
  },
  {
   "cell_type": "code",
   "execution_count": 65,
   "id": "53990b3c",
   "metadata": {},
   "outputs": [
    {
     "data": {
      "text/plain": [
       "2"
      ]
     },
     "execution_count": 65,
     "metadata": {},
     "output_type": "execute_result"
    }
   ],
   "source": [
    "grades.append('C')\n",
    "grades.count('C')"
   ]
  },
  {
   "cell_type": "code",
   "execution_count": 66,
   "id": "f6372f52",
   "metadata": {},
   "outputs": [
    {
     "data": {
      "text/plain": [
       "['A', 'B', 'C', 'C']"
      ]
     },
     "execution_count": 66,
     "metadata": {},
     "output_type": "execute_result"
    }
   ],
   "source": [
    "grades\n"
   ]
  },
  {
   "cell_type": "code",
   "execution_count": 67,
   "id": "316fb678",
   "metadata": {},
   "outputs": [
    {
     "data": {
      "text/plain": [
       "['A', 'B', 'C', 'F']"
      ]
     },
     "execution_count": 67,
     "metadata": {},
     "output_type": "execute_result"
    }
   ],
   "source": [
    "grades = ['F', 'B', 'A', 'C']\n",
    "sorted(grades)"
   ]
  },
  {
   "cell_type": "code",
   "execution_count": 68,
   "id": "c2b50e8e",
   "metadata": {},
   "outputs": [
    {
     "data": {
      "text/plain": [
       "['F', 'B', 'A', 'C']"
      ]
     },
     "execution_count": 68,
     "metadata": {},
     "output_type": "execute_result"
    }
   ],
   "source": [
    "grades"
   ]
  },
  {
   "cell_type": "code",
   "execution_count": 69,
   "id": "f29cbd43",
   "metadata": {},
   "outputs": [],
   "source": [
    "sorted_grades = sorted(grades)"
   ]
  },
  {
   "cell_type": "code",
   "execution_count": 70,
   "id": "4110b83b",
   "metadata": {},
   "outputs": [
    {
     "data": {
      "text/plain": [
       "['A', 'B', 'C', 'F']"
      ]
     },
     "execution_count": 70,
     "metadata": {},
     "output_type": "execute_result"
    }
   ],
   "source": [
    "sorted_grades"
   ]
  },
  {
   "cell_type": "code",
   "execution_count": 71,
   "id": "00d340bc",
   "metadata": {},
   "outputs": [
    {
     "data": {
      "text/plain": [
       "['F', 'B', 'A', 'C']"
      ]
     },
     "execution_count": 71,
     "metadata": {},
     "output_type": "execute_result"
    }
   ],
   "source": [
    "grades"
   ]
  },
  {
   "cell_type": "code",
   "execution_count": 72,
   "id": "d104baa6",
   "metadata": {},
   "outputs": [],
   "source": [
    "grades.sort()"
   ]
  },
  {
   "cell_type": "code",
   "execution_count": 73,
   "id": "80f57fa4",
   "metadata": {},
   "outputs": [
    {
     "data": {
      "text/plain": [
       "['A', 'B', 'C', 'F']"
      ]
     },
     "execution_count": 73,
     "metadata": {},
     "output_type": "execute_result"
    }
   ],
   "source": [
    "grades"
   ]
  },
  {
   "cell_type": "code",
   "execution_count": 74,
   "id": "4b636bec",
   "metadata": {},
   "outputs": [],
   "source": [
    "val = grades.sort()"
   ]
  },
  {
   "cell_type": "code",
   "execution_count": 75,
   "id": "fa0919a6",
   "metadata": {},
   "outputs": [],
   "source": [
    "val"
   ]
  },
  {
   "cell_type": "code",
   "execution_count": 76,
   "id": "76d3fb30",
   "metadata": {},
   "outputs": [
    {
     "data": {
      "text/plain": [
       "NoneType"
      ]
     },
     "execution_count": 76,
     "metadata": {},
     "output_type": "execute_result"
    }
   ],
   "source": [
    "type(val)"
   ]
  },
  {
   "cell_type": "code",
   "execution_count": 77,
   "id": "4cc35734",
   "metadata": {},
   "outputs": [],
   "source": [
    "grades.reverse()"
   ]
  },
  {
   "cell_type": "code",
   "execution_count": 78,
   "id": "0f0085ae",
   "metadata": {},
   "outputs": [
    {
     "data": {
      "text/plain": [
       "['F', 'C', 'B', 'A']"
      ]
     },
     "execution_count": 78,
     "metadata": {},
     "output_type": "execute_result"
    }
   ],
   "source": [
    "grades"
   ]
  },
  {
   "cell_type": "code",
   "execution_count": 79,
   "id": "ffdd1f2a",
   "metadata": {},
   "outputs": [],
   "source": [
    "a, b = [3, 4]"
   ]
  },
  {
   "cell_type": "code",
   "execution_count": 80,
   "id": "b5a8ed4f",
   "metadata": {},
   "outputs": [
    {
     "data": {
      "text/plain": [
       "3"
      ]
     },
     "execution_count": 80,
     "metadata": {},
     "output_type": "execute_result"
    }
   ],
   "source": [
    "a"
   ]
  },
  {
   "cell_type": "code",
   "execution_count": 81,
   "id": "6c42844e",
   "metadata": {},
   "outputs": [
    {
     "data": {
      "text/plain": [
       "4"
      ]
     },
     "execution_count": 81,
     "metadata": {},
     "output_type": "execute_result"
    }
   ],
   "source": [
    "b"
   ]
  },
  {
   "cell_type": "code",
   "execution_count": 82,
   "id": "63c9a4a6",
   "metadata": {},
   "outputs": [
    {
     "ename": "ValueError",
     "evalue": "too many values to unpack (expected 2)",
     "output_type": "error",
     "traceback": [
      "\u001b[1;31m---------------------------------------------------------------------------\u001b[0m",
      "\u001b[1;31mValueError\u001b[0m                                Traceback (most recent call last)",
      "\u001b[1;32m~\\AppData\\Local\\Temp/ipykernel_15544/1767440786.py\u001b[0m in \u001b[0;36m<module>\u001b[1;34m\u001b[0m\n\u001b[1;32m----> 1\u001b[1;33m \u001b[0ma\u001b[0m\u001b[1;33m,\u001b[0m \u001b[0mb\u001b[0m \u001b[1;33m=\u001b[0m \u001b[1;33m[\u001b[0m\u001b[1;36m3\u001b[0m\u001b[1;33m,\u001b[0m \u001b[1;36m4\u001b[0m\u001b[1;33m,\u001b[0m \u001b[1;36m5\u001b[0m\u001b[1;33m,\u001b[0m \u001b[1;36m6\u001b[0m\u001b[1;33m,\u001b[0m \u001b[1;36m7\u001b[0m\u001b[1;33m]\u001b[0m\u001b[1;33m\u001b[0m\u001b[1;33m\u001b[0m\u001b[0m\n\u001b[0m",
      "\u001b[1;31mValueError\u001b[0m: too many values to unpack (expected 2)"
     ]
    }
   ],
   "source": [
    "a, b = [3, 4, 5, 6, 7]"
   ]
  },
  {
   "cell_type": "code",
   "execution_count": 84,
   "id": "f87491e8",
   "metadata": {},
   "outputs": [],
   "source": [
    "a, b, *tmp = [3, 4, 5, 6, 7]"
   ]
  },
  {
   "cell_type": "code",
   "execution_count": 85,
   "id": "f9444ddb",
   "metadata": {},
   "outputs": [
    {
     "data": {
      "text/plain": [
       "3"
      ]
     },
     "execution_count": 85,
     "metadata": {},
     "output_type": "execute_result"
    }
   ],
   "source": [
    "a"
   ]
  },
  {
   "cell_type": "code",
   "execution_count": 86,
   "id": "374db51d",
   "metadata": {},
   "outputs": [
    {
     "data": {
      "text/plain": [
       "4"
      ]
     },
     "execution_count": 86,
     "metadata": {},
     "output_type": "execute_result"
    }
   ],
   "source": [
    "b"
   ]
  },
  {
   "cell_type": "code",
   "execution_count": 87,
   "id": "962ac600",
   "metadata": {},
   "outputs": [
    {
     "data": {
      "text/plain": [
       "[5, 6, 7]"
      ]
     },
     "execution_count": 87,
     "metadata": {},
     "output_type": "execute_result"
    }
   ],
   "source": [
    "tmp"
   ]
  },
  {
   "cell_type": "code",
   "execution_count": 88,
   "id": "378355c9",
   "metadata": {},
   "outputs": [],
   "source": [
    "a, b, *_ = [3, 4, 5, 6, 7]"
   ]
  },
  {
   "cell_type": "code",
   "execution_count": 89,
   "id": "060eb13a",
   "metadata": {},
   "outputs": [
    {
     "ename": "SyntaxError",
     "evalue": "invalid syntax (Temp/ipykernel_15544/4034451855.py, line 1)",
     "output_type": "error",
     "traceback": [
      "\u001b[1;36m  File \u001b[1;32m\"C:\\Users\\mkhaw\\AppData\\Local\\Temp/ipykernel_15544/4034451855.py\"\u001b[1;36m, line \u001b[1;32m1\u001b[0m\n\u001b[1;33m    range(start:stop:step) # [start:step:stop)\u001b[0m\n\u001b[1;37m               ^\u001b[0m\n\u001b[1;31mSyntaxError\u001b[0m\u001b[1;31m:\u001b[0m invalid syntax\n"
     ]
    }
   ],
   "source": [
    "range(start:stop:step) # [start:step:stop)"
   ]
  },
  {
   "cell_type": "code",
   "execution_count": 90,
   "id": "468510db",
   "metadata": {},
   "outputs": [
    {
     "data": {
      "text/plain": [
       "range(0, 5)"
      ]
     },
     "execution_count": 90,
     "metadata": {},
     "output_type": "execute_result"
    }
   ],
   "source": [
    "range(5)"
   ]
  },
  {
   "cell_type": "code",
   "execution_count": 91,
   "id": "ba9e99a6",
   "metadata": {},
   "outputs": [],
   "source": [
    "x = range(5)"
   ]
  },
  {
   "cell_type": "code",
   "execution_count": 92,
   "id": "f0f46f0f",
   "metadata": {},
   "outputs": [
    {
     "name": "stdout",
     "output_type": "stream",
     "text": [
      "range(0, 5)\n"
     ]
    }
   ],
   "source": [
    "print(x)"
   ]
  },
  {
   "cell_type": "code",
   "execution_count": 93,
   "id": "7d380f80",
   "metadata": {},
   "outputs": [
    {
     "name": "stdout",
     "output_type": "stream",
     "text": [
      "0\n",
      "1\n",
      "2\n",
      "3\n",
      "4\n"
     ]
    }
   ],
   "source": [
    "my_range = range(5)\n",
    "for number in my_range:\n",
    "    print(number)"
   ]
  },
  {
   "cell_type": "code",
   "execution_count": 94,
   "id": "09dc0d57",
   "metadata": {},
   "outputs": [
    {
     "name": "stdout",
     "output_type": "stream",
     "text": [
      "0\n",
      "1\n",
      "2\n",
      "3\n",
      "4\n"
     ]
    }
   ],
   "source": [
    "for number in my_range:\n",
    "    print(number)"
   ]
  },
  {
   "cell_type": "code",
   "execution_count": 95,
   "id": "410fb03a",
   "metadata": {},
   "outputs": [
    {
     "name": "stdout",
     "output_type": "stream",
     "text": [
      "0\n",
      "1\n",
      "2\n",
      "3\n",
      "4\n"
     ]
    }
   ],
   "source": [
    "for number in my_range:\n",
    "    print(number)"
   ]
  },
  {
   "cell_type": "code",
   "execution_count": 96,
   "id": "55bc7d96",
   "metadata": {},
   "outputs": [
    {
     "data": {
      "text/plain": [
       "range(0, 5)"
      ]
     },
     "execution_count": 96,
     "metadata": {},
     "output_type": "execute_result"
    }
   ],
   "source": [
    " my_range"
   ]
  },
  {
   "cell_type": "code",
   "execution_count": 97,
   "id": "69efdef9",
   "metadata": {},
   "outputs": [],
   "source": [
    "my_range_list = list(my_range)"
   ]
  },
  {
   "cell_type": "code",
   "execution_count": 98,
   "id": "f39e282c",
   "metadata": {},
   "outputs": [
    {
     "data": {
      "text/plain": [
       "[0, 1, 2, 3, 4]"
      ]
     },
     "execution_count": 98,
     "metadata": {},
     "output_type": "execute_result"
    }
   ],
   "source": [
    "my_range_list"
   ]
  },
  {
   "cell_type": "code",
   "execution_count": 99,
   "id": "b416d02b",
   "metadata": {},
   "outputs": [
    {
     "name": "stdout",
     "output_type": "stream",
     "text": [
      "0\n",
      "1\n",
      "2\n",
      "3\n",
      "4\n"
     ]
    }
   ],
   "source": [
    "values = [4, 10, 3, 8, -6]\n",
    "for i in range(len(values)):\n",
    "    print(i)"
   ]
  },
  {
   "cell_type": "code",
   "execution_count": 100,
   "id": "a2363baf",
   "metadata": {},
   "outputs": [
    {
     "name": "stdout",
     "output_type": "stream",
     "text": [
      "0 4\n",
      "1 10\n",
      "2 3\n",
      "3 8\n",
      "4 -6\n"
     ]
    }
   ],
   "source": [
    "values = [4, 10, 3, 8, -6]\n",
    "for i in range(len(values)):\n",
    "    print(i, values[i])"
   ]
  },
  {
   "cell_type": "code",
   "execution_count": 101,
   "id": "8e318fda",
   "metadata": {},
   "outputs": [
    {
     "name": "stdout",
     "output_type": "stream",
     "text": [
      "4\n",
      "10\n",
      "3\n",
      "8\n",
      "-6\n"
     ]
    }
   ],
   "source": [
    "for ele in values:\n",
    "    print(ele)"
   ]
  },
  {
   "cell_type": "code",
   "execution_count": 102,
   "id": "238fd845",
   "metadata": {},
   "outputs": [
    {
     "name": "stdout",
     "output_type": "stream",
     "text": [
      "0 4\n",
      "2 3\n",
      "3 8\n",
      "4 -6\n"
     ]
    }
   ],
   "source": [
    "values = [4, 10, 3, 8, -6]\n",
    "for i in range(len(values)):\n",
    "    if i != 1:\n",
    "        print(i, values[i])"
   ]
  },
  {
   "cell_type": "code",
   "execution_count": 104,
   "id": "c324fa0b",
   "metadata": {},
   "outputs": [
    {
     "name": "stdout",
     "output_type": "stream",
     "text": [
      "0 4\n",
      "1 10\n",
      "2 3\n",
      "3 8\n",
      "4 -6\n"
     ]
    }
   ],
   "source": [
    "for idx, ele in enumerate(values):\n",
    "    print(idx, ele)"
   ]
  },
  {
   "cell_type": "code",
   "execution_count": 105,
   "id": "274cc372",
   "metadata": {},
   "outputs": [
    {
     "name": "stdout",
     "output_type": "stream",
     "text": [
      "0 4\n",
      "2 3\n",
      "3 8\n",
      "4 -6\n"
     ]
    }
   ],
   "source": [
    "for idx, ele in enumerate(values):\n",
    "    if idx != 1:\n",
    "        print(idx, ele)"
   ]
  },
  {
   "cell_type": "code",
   "execution_count": 106,
   "id": "ec78f989",
   "metadata": {},
   "outputs": [
    {
     "name": "stdout",
     "output_type": "stream",
     "text": [
      "1 4\n",
      "2 10\n",
      "3 3\n",
      "4 8\n",
      "5 -6\n"
     ]
    }
   ],
   "source": [
    "for idx, ele in enumerate(values):\n",
    "    print(idx+1, ele)"
   ]
  },
  {
   "cell_type": "code",
   "execution_count": 107,
   "id": "0dafac38",
   "metadata": {},
   "outputs": [
    {
     "name": "stdout",
     "output_type": "stream",
     "text": [
      "1 4\n",
      "2 10\n",
      "3 3\n",
      "4 8\n",
      "5 -6\n"
     ]
    }
   ],
   "source": [
    "for idx, ele in enumerate(values, 1):\n",
    "    print(idx, ele)"
   ]
  },
  {
   "cell_type": "code",
   "execution_count": 108,
   "id": "a89faef2",
   "metadata": {},
   "outputs": [
    {
     "name": "stdout",
     "output_type": "stream",
     "text": [
      "100 4\n",
      "101 10\n",
      "102 3\n",
      "103 8\n",
      "104 -6\n"
     ]
    }
   ],
   "source": [
    "for idx, ele in enumerate(values, 100):\n",
    "    print(idx, ele)"
   ]
  },
  {
   "cell_type": "code",
   "execution_count": 109,
   "id": "3cb7d464",
   "metadata": {},
   "outputs": [],
   "source": [
    "values = [4, 10, 3, 8, -6]\n",
    "for i in range(len(values)):\n",
    "    values[i] = values[i] * 2"
   ]
  },
  {
   "cell_type": "code",
   "execution_count": 110,
   "id": "ac9fc8e7",
   "metadata": {},
   "outputs": [
    {
     "data": {
      "text/plain": [
       "[8, 20, 6, 16, -12]"
      ]
     },
     "execution_count": 110,
     "metadata": {},
     "output_type": "execute_result"
    }
   ],
   "source": [
    "values"
   ]
  },
  {
   "cell_type": "code",
   "execution_count": 111,
   "id": "15ae0d05",
   "metadata": {},
   "outputs": [
    {
     "name": "stdout",
     "output_type": "stream",
     "text": [
      "Li 6.941\n",
      "Na 22.98976928\n",
      "K 39.0983\n"
     ]
    }
   ],
   "source": [
    "metals = ['Li', 'Na', 'K']\n",
    "weights = [6.941, 22.98976928, 39.0983]\n",
    "for i in range(len(metals)):\n",
    "    print(metals[i], weights[i])"
   ]
  },
  {
   "cell_type": "code",
   "execution_count": 115,
   "id": "e92618eb",
   "metadata": {},
   "outputs": [
    {
     "name": "stdout",
     "output_type": "stream",
     "text": [
      "Li 6.941\n",
      "Na 22.98976928\n",
      "K 39.0983\n"
     ]
    }
   ],
   "source": [
    "metals_weights = zip(metals, weights)\n",
    "for metal, weight in metals_weights:\n",
    "    print(metal, weight)"
   ]
  },
  {
   "cell_type": "code",
   "execution_count": 116,
   "id": "e6fe1317",
   "metadata": {},
   "outputs": [],
   "source": [
    "for metal, weight in metals_weights:\n",
    "    print(metal, weight)"
   ]
  },
  {
   "cell_type": "code",
   "execution_count": 117,
   "id": "7d73ca5c",
   "metadata": {},
   "outputs": [],
   "source": [
    "for ele in []:\n",
    "    print(ele)"
   ]
  },
  {
   "cell_type": "code",
   "execution_count": 118,
   "id": "d9fb4515",
   "metadata": {},
   "outputs": [
    {
     "name": "stdout",
     "output_type": "stream",
     "text": [
      "<zip object at 0x00000147A95214C0>\n"
     ]
    }
   ],
   "source": [
    "my_zip = zip(metals, weights)\n",
    "print(my_zip)"
   ]
  },
  {
   "cell_type": "code",
   "execution_count": 119,
   "id": "ab18e402",
   "metadata": {},
   "outputs": [],
   "source": [
    "my_zip_list = list(my_zip)"
   ]
  },
  {
   "cell_type": "code",
   "execution_count": 121,
   "id": "49ae87fe",
   "metadata": {},
   "outputs": [
    {
     "data": {
      "text/plain": [
       "[('Li', 6.941), ('Na', 22.98976928), ('K', 39.0983)]"
      ]
     },
     "execution_count": 121,
     "metadata": {},
     "output_type": "execute_result"
    }
   ],
   "source": [
    "metals = ['Li', 'Na', 'K']\n",
    "weights = [6.941, 22.98976928, 39.0983]\n",
    "my_zip_list"
   ]
  },
  {
   "cell_type": "code",
   "execution_count": 122,
   "id": "6d2a8d39",
   "metadata": {},
   "outputs": [
    {
     "name": "stdout",
     "output_type": "stream",
     "text": [
      "[('Li', 6.941), ('Na', 22.98976928), ('K', 39.0983)]\n"
     ]
    }
   ],
   "source": [
    "metals = ['Li', 'Na', 'K', 'H']\n",
    "weights = [6.941, 22.98976928, 39.0983,]\n",
    "\n",
    "print(list(zip(metals, weights)))"
   ]
  },
  {
   "cell_type": "code",
   "execution_count": 123,
   "id": "8df796c5",
   "metadata": {},
   "outputs": [
    {
     "name": "stdout",
     "output_type": "stream",
     "text": [
      "[('Li', 6.941), ('Na', 22.98976928), ('K', 39.0983), ('H', 1)]\n"
     ]
    }
   ],
   "source": [
    "metals = ['Li', 'Na', 'K', 'H']\n",
    "weights = [6.941, 22.98976928, 39.0983, 1]\n",
    "\n",
    "print(list(zip(metals, weights)))"
   ]
  },
  {
   "cell_type": "code",
   "execution_count": 124,
   "id": "566ce10b",
   "metadata": {},
   "outputs": [
    {
     "ename": "TypeError",
     "evalue": "'NoneType' object is not iterable",
     "output_type": "error",
     "traceback": [
      "\u001b[1;31m---------------------------------------------------------------------------\u001b[0m",
      "\u001b[1;31mTypeError\u001b[0m                                 Traceback (most recent call last)",
      "\u001b[1;32m~\\AppData\\Local\\Temp/ipykernel_15544/2601242424.py\u001b[0m in \u001b[0;36m<module>\u001b[1;34m\u001b[0m\n\u001b[0;32m      2\u001b[0m \u001b[0mweights\u001b[0m \u001b[1;33m=\u001b[0m \u001b[1;33m[\u001b[0m\u001b[1;36m6.941\u001b[0m\u001b[1;33m,\u001b[0m \u001b[1;36m22.98976928\u001b[0m\u001b[1;33m,\u001b[0m \u001b[1;36m39.0983\u001b[0m\u001b[1;33m,\u001b[0m \u001b[1;36m1\u001b[0m\u001b[1;33m]\u001b[0m\u001b[1;33m\u001b[0m\u001b[1;33m\u001b[0m\u001b[0m\n\u001b[0;32m      3\u001b[0m \u001b[1;33m\u001b[0m\u001b[0m\n\u001b[1;32m----> 4\u001b[1;33m \u001b[0mprint\u001b[0m\u001b[1;33m(\u001b[0m\u001b[0mlist\u001b[0m\u001b[1;33m(\u001b[0m\u001b[0mzip\u001b[0m\u001b[1;33m(\u001b[0m\u001b[0mmetals\u001b[0m\u001b[1;33m,\u001b[0m \u001b[0mweights\u001b[0m\u001b[1;33m.\u001b[0m\u001b[0mreverse\u001b[0m\u001b[1;33m(\u001b[0m\u001b[1;33m)\u001b[0m\u001b[1;33m)\u001b[0m\u001b[1;33m)\u001b[0m\u001b[1;33m)\u001b[0m\u001b[1;33m\u001b[0m\u001b[1;33m\u001b[0m\u001b[0m\n\u001b[0m",
      "\u001b[1;31mTypeError\u001b[0m: 'NoneType' object is not iterable"
     ]
    }
   ],
   "source": [
    "metals = ['Li', 'Na', 'K', 'H']\n",
    "weights = [6.941, 22.98976928, 39.0983, 1]\n",
    "\n",
    "print(list(zip(metals, weights.reverse())))"
   ]
  },
  {
   "cell_type": "code",
   "execution_count": 126,
   "id": "c1357df6",
   "metadata": {},
   "outputs": [
    {
     "name": "stdout",
     "output_type": "stream",
     "text": [
      "[('Li', 1), ('Na', 6.941), ('K', 22.98976928), ('H', 39.0983)]\n"
     ]
    }
   ],
   "source": [
    "metals = ['Li', 'Na', 'K', 'H']\n",
    "weights = [6.941, 22.98976928, 39.0983, 1]\n",
    "\n",
    "print(list(zip(metals, sorted(weights, reverse=False))))"
   ]
  },
  {
   "cell_type": "code",
   "execution_count": 128,
   "id": "ebc2a67b",
   "metadata": {},
   "outputs": [
    {
     "name": "stdout",
     "output_type": "stream",
     "text": [
      "[(1, 11, 111), (2, 22, 222), (3, 33, 333)]\n"
     ]
    }
   ],
   "source": [
    "a = [1, 2, 3]\n",
    "b = [11, 22, 33]\n",
    "c = [111, 222, 333]\n",
    "sequence = list(zip(a, b, c))\n",
    "print(sequence)"
   ]
  },
  {
   "cell_type": "code",
   "execution_count": 129,
   "id": "c2248867",
   "metadata": {},
   "outputs": [
    {
     "name": "stdout",
     "output_type": "stream",
     "text": [
      "(1, 11, 111)\n",
      "(2, 22, 222)\n",
      "(3, 33, 333)\n"
     ]
    }
   ],
   "source": [
    "for ele in sequence:\n",
    "    print(ele)"
   ]
  },
  {
   "cell_type": "code",
   "execution_count": 130,
   "id": "ee65071d",
   "metadata": {},
   "outputs": [
    {
     "name": "stdout",
     "output_type": "stream",
     "text": [
      "1 11 111\n",
      "2 22 222\n",
      "3 33 333\n"
     ]
    }
   ],
   "source": [
    "for a, b, c in sequence:\n",
    "    print(a, b, c)"
   ]
  },
  {
   "cell_type": "code",
   "execution_count": 131,
   "id": "186cd9fc",
   "metadata": {},
   "outputs": [
    {
     "name": "stdout",
     "output_type": "stream",
     "text": [
      "Li\n",
      "Na\n",
      "K\n",
      "F\n",
      "Cl\n",
      "Br\n"
     ]
    }
   ],
   "source": [
    "elements = [['Li', 'Na', 'K'], ['F', 'Cl', 'Br']]\n",
    "for inner_list in elements:\n",
    "    for item in inner_list:\n",
    "        print(item)"
   ]
  },
  {
   "cell_type": "code",
   "execution_count": 132,
   "id": "35f2b582",
   "metadata": {},
   "outputs": [
    {
     "name": "stdout",
     "output_type": "stream",
     "text": [
      "3\n",
      "3\n",
      "4\n"
     ]
    }
   ],
   "source": [
    "info = [\n",
    "    ['Isaac Newton', 1643, 1727],\n",
    "    ['Charles Darwin', 1809, 1882],\n",
    "    ['Alan Turing', 1912, 1954, 'alan@bletchley.uk']\n",
    "]\n",
    "for item in info:\n",
    "    print(len(item))"
   ]
  },
  {
   "cell_type": "code",
   "execution_count": 133,
   "id": "eff1fe83",
   "metadata": {},
   "outputs": [
    {
     "data": {
      "text/plain": [
       "6"
      ]
     },
     "execution_count": 133,
     "metadata": {},
     "output_type": "execute_result"
    }
   ],
   "source": [
    "###############################################################\n",
    "# for_ex1.py\n",
    "# Write a function that takes in a list of values and returns its sum\n",
    "\n",
    "def ex1(my_list):\n",
    "    return sum(my_list)\n",
    "\n",
    "my_list = [1, 2, 3]\n",
    "ex1(my_list)"
   ]
  },
  {
   "cell_type": "code",
   "execution_count": 134,
   "id": "7d591598",
   "metadata": {},
   "outputs": [
    {
     "data": {
      "text/plain": [
       "2.0"
      ]
     },
     "execution_count": 134,
     "metadata": {},
     "output_type": "execute_result"
    }
   ],
   "source": [
    "###############################################################\n",
    "# for_ex2.py\n",
    "# Write a function that takes in a list of values and returns its average\n",
    "\n",
    "def ex2(my_list):\n",
    "    return sum(my_list)/len(my_list)\n",
    "\n",
    "my_list = [1, 2, 3]\n",
    "ex2(my_list)"
   ]
  },
  {
   "cell_type": "code",
   "execution_count": 138,
   "id": "da25a402",
   "metadata": {},
   "outputs": [
    {
     "data": {
      "text/plain": [
       "[2, 4, 6]"
      ]
     },
     "execution_count": 138,
     "metadata": {},
     "output_type": "execute_result"
    }
   ],
   "source": [
    "def ex4(my_list):\n",
    "    for idx in range(len(my_list)):\n",
    "        my_list[idx] = my_list[idx] * 2\n",
    "    return my_list\n",
    "\n",
    "my_list = [1, 2, 3]\n",
    "ex4(my_list)"
   ]
  },
  {
   "cell_type": "code",
   "execution_count": 139,
   "id": "c74b4085",
   "metadata": {},
   "outputs": [
    {
     "data": {
      "text/plain": [
       "[1, 4, 9]"
      ]
     },
     "execution_count": 139,
     "metadata": {},
     "output_type": "execute_result"
    }
   ],
   "source": [
    "##################################################################\n",
    "# for_ex5.py\n",
    "# Write a pow() function that computes the power of each element in a list\n",
    "\n",
    "def ex5(my_list, power):\n",
    "    for idx in range(len(my_list)):\n",
    "        my_list[idx] = my_list[idx] ** power\n",
    "    return my_list\n",
    "\n",
    "my_list = [1, 2, 3]\n",
    "ex5(my_list, 2)"
   ]
  },
  {
   "cell_type": "code",
   "execution_count": 140,
   "id": "95cb13b4",
   "metadata": {},
   "outputs": [
    {
     "data": {
      "text/plain": [
       "[1, 64, 729]"
      ]
     },
     "execution_count": 140,
     "metadata": {},
     "output_type": "execute_result"
    }
   ],
   "source": [
    "ex5(my_list, 3)"
   ]
  },
  {
   "cell_type": "code",
   "execution_count": 141,
   "id": "4d7cfcae",
   "metadata": {},
   "outputs": [
    {
     "data": {
      "text/plain": [
       "[1, 2, 3, 5, 4]"
      ]
     },
     "execution_count": 141,
     "metadata": {},
     "output_type": "execute_result"
    }
   ],
   "source": [
    "##################################################################\n",
    "# for_ex6.py\n",
    "# Write a function to remove duplicate from a list\n",
    "\n",
    "my_list = [1, 2, 3, 3, 5, 5, 5, 4]\n",
    "\n",
    "def remove_duplicate(input):\n",
    "    \n",
    "    output = []\n",
    "    for ele in input:\n",
    "        if ele not in output:\n",
    "            output.append(ele)\n",
    "    return output\n",
    "\n",
    "remove_duplicate(my_list)"
   ]
  },
  {
   "cell_type": "code",
   "execution_count": 142,
   "id": "7ac8093e",
   "metadata": {},
   "outputs": [
    {
     "name": "stdout",
     "output_type": "stream",
     "text": [
      "80\n",
      "\n",
      "90\n",
      "\n",
      "78\n",
      "\n",
      "56\n",
      "\n",
      "90\n"
     ]
    }
   ],
   "source": [
    "##################################################################\n",
    "# for_ex7.py\n",
    "# Write a function that reads grades from an input file and calculates their average\n",
    "# input: filename\n",
    "# use: for_ex7_data1.txt\n",
    "# use: for_ex7_data2.txt\n",
    "# use: for_ex7_data3.txt\n",
    "# use a list to read the values in to and then use sum and len to calclate average.\n",
    "# Be careful about empty rows!\n",
    "# Be careful about non-numbers!\n",
    "filename = 'for_ex7_data1.txt'\n",
    "with open(filename, 'r') as file:\n",
    "    for line in file:\n",
    "        print(line)"
   ]
  },
  {
   "cell_type": "code",
   "execution_count": 145,
   "id": "59d0d51f",
   "metadata": {},
   "outputs": [
    {
     "data": {
      "text/plain": [
       "'80\\n90\\n78\\n56\\n90'"
      ]
     },
     "execution_count": 145,
     "metadata": {},
     "output_type": "execute_result"
    }
   ],
   "source": [
    "my_file = open(filename, 'r')\n",
    "\n",
    "my_file.read()"
   ]
  },
  {
   "cell_type": "code",
   "execution_count": 146,
   "id": "e9b83572",
   "metadata": {},
   "outputs": [
    {
     "data": {
      "text/plain": [
       "['80\\n', '90\\n', '78\\n', '56\\n', '90']"
      ]
     },
     "execution_count": 146,
     "metadata": {},
     "output_type": "execute_result"
    }
   ],
   "source": [
    "my_file = open(filename, 'r')\n",
    "my_file.readlines()"
   ]
  },
  {
   "cell_type": "code",
   "execution_count": 147,
   "id": "efaf1ba8",
   "metadata": {},
   "outputs": [
    {
     "name": "stdout",
     "output_type": "stream",
     "text": [
      "['80\\n', '90\\n', '78\\n', '56\\n', '90']\n"
     ]
    }
   ],
   "source": [
    "filename = 'for_ex7_data1.txt'\n",
    "grades = []\n",
    "with open(filename, 'r') as file:\n",
    "    for line in file:\n",
    "        grades.append(line)\n",
    "        \n",
    "print(grades)"
   ]
  },
  {
   "cell_type": "code",
   "execution_count": 150,
   "id": "8ca32953",
   "metadata": {},
   "outputs": [
    {
     "name": "stdout",
     "output_type": "stream",
     "text": [
      "78.8\n"
     ]
    }
   ],
   "source": [
    "filename = 'for_ex7_data1.txt'\n",
    "grades = []\n",
    "with open(filename, 'r') as file:\n",
    "    for line in file:\n",
    "        grades.append(int(line))\n",
    "        \n",
    "average = sum(grades)/len(grades)\n",
    "print(average)"
   ]
  },
  {
   "cell_type": "code",
   "execution_count": 153,
   "id": "978667a8",
   "metadata": {},
   "outputs": [
    {
     "ename": "ValueError",
     "evalue": "invalid literal for int() with base 10: '\\n'",
     "output_type": "error",
     "traceback": [
      "\u001b[1;31m---------------------------------------------------------------------------\u001b[0m",
      "\u001b[1;31mValueError\u001b[0m                                Traceback (most recent call last)",
      "\u001b[1;32m~\\AppData\\Local\\Temp/ipykernel_15544/2189592525.py\u001b[0m in \u001b[0;36m<module>\u001b[1;34m\u001b[0m\n\u001b[0;32m      1\u001b[0m \u001b[0mx\u001b[0m \u001b[1;33m=\u001b[0m \u001b[1;34m'\\n'\u001b[0m\u001b[1;33m\u001b[0m\u001b[1;33m\u001b[0m\u001b[0m\n\u001b[1;32m----> 2\u001b[1;33m \u001b[0mint\u001b[0m\u001b[1;33m(\u001b[0m\u001b[0mx\u001b[0m\u001b[1;33m)\u001b[0m\u001b[1;33m\u001b[0m\u001b[1;33m\u001b[0m\u001b[0m\n\u001b[0m",
      "\u001b[1;31mValueError\u001b[0m: invalid literal for int() with base 10: '\\n'"
     ]
    }
   ],
   "source": [
    "x = '\\n'\n",
    "int(x)"
   ]
  },
  {
   "cell_type": "code",
   "execution_count": 154,
   "id": "145d9e77",
   "metadata": {},
   "outputs": [
    {
     "data": {
      "text/plain": [
       "True"
      ]
     },
     "execution_count": 154,
     "metadata": {},
     "output_type": "execute_result"
    }
   ],
   "source": [
    "1000 == 1000.0"
   ]
  },
  {
   "cell_type": "code",
   "execution_count": 163,
   "id": "6b150a06",
   "metadata": {},
   "outputs": [
    {
     "name": "stdout",
     "output_type": "stream",
     "text": [
      "64.42857142857143\n"
     ]
    }
   ],
   "source": [
    "filename = 'for_ex7_data2.txt'\n",
    "grades = []\n",
    "with open(filename, 'r') as file:\n",
    "    for line in file:\n",
    "        if not line.strip(): ## check if stripped line is empty. if it is empty, then skip this line\n",
    "            continue\n",
    "            \n",
    "        grades.append(int(line.strip()))\n",
    "average = sum(grades)/len(grades)\n",
    "print(average)      "
   ]
  },
  {
   "cell_type": "code",
   "execution_count": 164,
   "id": "290b5c1b",
   "metadata": {},
   "outputs": [
    {
     "data": {
      "text/plain": [
       "True"
      ]
     },
     "execution_count": 164,
     "metadata": {},
     "output_type": "execute_result"
    }
   ],
   "source": [
    "x = '123'\n",
    "x.isdigit()"
   ]
  },
  {
   "cell_type": "code",
   "execution_count": 165,
   "id": "99fb7226",
   "metadata": {},
   "outputs": [
    {
     "data": {
      "text/plain": [
       "False"
      ]
     },
     "execution_count": 165,
     "metadata": {},
     "output_type": "execute_result"
    }
   ],
   "source": [
    "x.isalpha()"
   ]
  },
  {
   "cell_type": "code",
   "execution_count": 166,
   "id": "e4a865f9",
   "metadata": {},
   "outputs": [
    {
     "data": {
      "text/plain": [
       "True"
      ]
     },
     "execution_count": 166,
     "metadata": {},
     "output_type": "execute_result"
    }
   ],
   "source": [
    "x.isalnum()"
   ]
  },
  {
   "cell_type": "code",
   "execution_count": 167,
   "id": "43eb5be4",
   "metadata": {},
   "outputs": [
    {
     "data": {
      "text/plain": [
       "True"
      ]
     },
     "execution_count": 167,
     "metadata": {},
     "output_type": "execute_result"
    }
   ],
   "source": [
    "'ABC'.isalpha()"
   ]
  },
  {
   "cell_type": "code",
   "execution_count": 168,
   "id": "96d42e10",
   "metadata": {},
   "outputs": [
    {
     "ename": "ValueError",
     "evalue": "could not convert string to float: '99.o'",
     "output_type": "error",
     "traceback": [
      "\u001b[1;31m---------------------------------------------------------------------------\u001b[0m",
      "\u001b[1;31mValueError\u001b[0m                                Traceback (most recent call last)",
      "\u001b[1;32m~\\AppData\\Local\\Temp/ipykernel_15544/505430690.py\u001b[0m in \u001b[0;36m<module>\u001b[1;34m\u001b[0m\n\u001b[0;32m      9\u001b[0m             \u001b[1;32mcontinue\u001b[0m\u001b[1;33m\u001b[0m\u001b[1;33m\u001b[0m\u001b[0m\n\u001b[0;32m     10\u001b[0m \u001b[1;33m\u001b[0m\u001b[0m\n\u001b[1;32m---> 11\u001b[1;33m         \u001b[0mgrades\u001b[0m\u001b[1;33m.\u001b[0m\u001b[0mappend\u001b[0m\u001b[1;33m(\u001b[0m\u001b[0mfloat\u001b[0m\u001b[1;33m(\u001b[0m\u001b[0mline\u001b[0m\u001b[1;33m.\u001b[0m\u001b[0mstrip\u001b[0m\u001b[1;33m(\u001b[0m\u001b[1;33m)\u001b[0m\u001b[1;33m)\u001b[0m\u001b[1;33m)\u001b[0m\u001b[1;33m\u001b[0m\u001b[1;33m\u001b[0m\u001b[0m\n\u001b[0m\u001b[0;32m     12\u001b[0m \u001b[0maverage\u001b[0m \u001b[1;33m=\u001b[0m \u001b[0msum\u001b[0m\u001b[1;33m(\u001b[0m\u001b[0mgrades\u001b[0m\u001b[1;33m)\u001b[0m\u001b[1;33m/\u001b[0m\u001b[0mlen\u001b[0m\u001b[1;33m(\u001b[0m\u001b[0mgrades\u001b[0m\u001b[1;33m)\u001b[0m\u001b[1;33m\u001b[0m\u001b[1;33m\u001b[0m\u001b[0m\n\u001b[0;32m     13\u001b[0m \u001b[0mprint\u001b[0m\u001b[1;33m(\u001b[0m\u001b[0maverage\u001b[0m\u001b[1;33m)\u001b[0m\u001b[1;33m\u001b[0m\u001b[1;33m\u001b[0m\u001b[0m\n",
      "\u001b[1;31mValueError\u001b[0m: could not convert string to float: '99.o'"
     ]
    }
   ],
   "source": [
    "filename = 'for_ex7_data3.txt'\n",
    "grades = []\n",
    "with open(filename, 'r') as file:\n",
    "    for line in file:\n",
    "        if not line.strip(): ## check if stripped line is empty. if it is empty, then skip this line\n",
    "            continue\n",
    "        \n",
    "        if line.strip().isalpha():\n",
    "            continue\n",
    "            \n",
    "        grades.append(float(line.strip()))\n",
    "average = sum(grades)/len(grades)\n",
    "print(average)  "
   ]
  },
  {
   "cell_type": "code",
   "execution_count": 169,
   "id": "92e4119c",
   "metadata": {},
   "outputs": [
    {
     "data": {
      "text/plain": [
       "False"
      ]
     },
     "execution_count": 169,
     "metadata": {},
     "output_type": "execute_result"
    }
   ],
   "source": [
    "x = '3.14'\n",
    "x.isalpha()"
   ]
  },
  {
   "cell_type": "code",
   "execution_count": 170,
   "id": "433b3a29",
   "metadata": {},
   "outputs": [
    {
     "data": {
      "text/plain": [
       "False"
      ]
     },
     "execution_count": 170,
     "metadata": {},
     "output_type": "execute_result"
    }
   ],
   "source": [
    "x.isnumeric()"
   ]
  },
  {
   "cell_type": "code",
   "execution_count": 171,
   "id": "1b81e52f",
   "metadata": {},
   "outputs": [
    {
     "data": {
      "text/plain": [
       "False"
      ]
     },
     "execution_count": 171,
     "metadata": {},
     "output_type": "execute_result"
    }
   ],
   "source": [
    "x.isdigit()"
   ]
  },
  {
   "cell_type": "code",
   "execution_count": 173,
   "id": "d887fe43",
   "metadata": {},
   "outputs": [
    {
     "data": {
      "text/plain": [
       "[99.4, 98.5, 78.34, 43.34, 34.0, 99.0]"
      ]
     },
     "execution_count": 173,
     "metadata": {},
     "output_type": "execute_result"
    }
   ],
   "source": [
    "filename = 'for_ex7_data3.txt'\n",
    "grades = []\n",
    "with open(filename, 'r') as file:\n",
    "    for line in file:\n",
    "        if not line.strip(): ## check if stripped line is empty. if it is empty, then skip this line\n",
    "            continue\n",
    "        \n",
    "        try:\n",
    "            float_value = float(line.strip())\n",
    "        except:\n",
    "            continue\n",
    "        \n",
    "        \n",
    "        grades.append(float(line.strip()))\n",
    "        \n",
    "        \n",
    "        \n",
    "grades"
   ]
  },
  {
   "cell_type": "code",
   "execution_count": 174,
   "id": "86fe8029",
   "metadata": {},
   "outputs": [
    {
     "name": "stdout",
     "output_type": "stream",
     "text": [
      "75.43\n"
     ]
    }
   ],
   "source": [
    "average = sum(grades)/len(grades)\n",
    "print(average) "
   ]
  },
  {
   "cell_type": "code",
   "execution_count": 176,
   "id": "9cf600a2",
   "metadata": {},
   "outputs": [
    {
     "name": "stdout",
     "output_type": "stream",
     "text": [
      "[99.4, 98.5, 78.34, 43.34, 34.0, 99.0]\n",
      "['99.o', 'AAB', '9A.00']\n"
     ]
    }
   ],
   "source": [
    "filename = 'for_ex7_data3.txt'\n",
    "grades = []\n",
    "bad_lines = []\n",
    "with open(filename, 'r') as file:\n",
    "    for line in file:\n",
    "        if not line.strip(): ## check if stripped line is empty. if it is empty, then skip this line\n",
    "            continue\n",
    "        \n",
    "        try:\n",
    "            float_value = float(line.strip())\n",
    "        except:\n",
    "            bad_lines.append(line.strip())\n",
    "            continue\n",
    "        \n",
    "        \n",
    "        grades.append(float(line.strip()))\n",
    "        \n",
    "        \n",
    "        \n",
    "print(grades)\n",
    "print(bad_lines)"
   ]
  },
  {
   "cell_type": "code",
   "execution_count": 197,
   "id": "59497243",
   "metadata": {},
   "outputs": [],
   "source": [
    "##################################################################\n",
    "# for_ex8.py\n",
    "# Write a function simulates a coin toss\n",
    "# Input: number of simulation\n",
    "# Output: a string that concatenates the results, ex. 'HHHTTTHTHTHT'\n",
    "\n",
    "import random\n",
    "seed = 1234\n",
    "def ex8(no_sim):\n",
    "    random.seed(seed)\n",
    "    output = ''\n",
    "    for ele in range(no_sim):\n",
    "        toss = random.randint(0, 1)\n",
    "        if toss == 0:\n",
    "            toss = 'H'\n",
    "        else:\n",
    "            toss = 'T'\n",
    "        \n",
    "        output += toss\n",
    "        \n",
    "    return output"
   ]
  },
  {
   "cell_type": "code",
   "execution_count": 198,
   "id": "17793ed2",
   "metadata": {},
   "outputs": [
    {
     "data": {
      "text/plain": [
       "'THHHH'"
      ]
     },
     "execution_count": 198,
     "metadata": {},
     "output_type": "execute_result"
    }
   ],
   "source": [
    "ex8(5)"
   ]
  },
  {
   "cell_type": "code",
   "execution_count": 199,
   "id": "3391e004",
   "metadata": {},
   "outputs": [],
   "source": [
    "import random\n",
    "seed = 1234\n",
    "def ex8(no_sim):\n",
    "    choices = ['H', 'T']\n",
    "    random.seed(seed)\n",
    "    output = ''\n",
    "    for ele in range(no_sim):\n",
    "        toss = random.choice(choices)\n",
    "        output += toss\n",
    "        \n",
    "    return output"
   ]
  },
  {
   "cell_type": "code",
   "execution_count": 200,
   "id": "b1010b6c",
   "metadata": {},
   "outputs": [
    {
     "data": {
      "text/plain": [
       "'THHHH'"
      ]
     },
     "execution_count": 200,
     "metadata": {},
     "output_type": "execute_result"
    }
   ],
   "source": [
    "ex8(5)"
   ]
  },
  {
   "cell_type": "code",
   "execution_count": 209,
   "id": "7125224f",
   "metadata": {},
   "outputs": [],
   "source": [
    "def ex9(no_sim):\n",
    "    result = ex8(no_sim)\n",
    "    str_len = len(result)\n",
    "    H = result.count('H')\n",
    "    # T = result.count('T')\n",
    "    tmp = H/str_len\n",
    "    print(tmp, (1-tmp))\n",
    "  "
   ]
  },
  {
   "cell_type": "code",
   "execution_count": 210,
   "id": "fa5e36c3",
   "metadata": {},
   "outputs": [
    {
     "name": "stdout",
     "output_type": "stream",
     "text": [
      "0.8 0.19999999999999996\n"
     ]
    }
   ],
   "source": [
    "ex9(10)"
   ]
  },
  {
   "cell_type": "code",
   "execution_count": 211,
   "id": "10b32daf",
   "metadata": {},
   "outputs": [
    {
     "name": "stdout",
     "output_type": "stream",
     "text": [
      "0.55 0.44999999999999996\n"
     ]
    }
   ],
   "source": [
    "ex9(100)"
   ]
  },
  {
   "cell_type": "code",
   "execution_count": 212,
   "id": "fd093280",
   "metadata": {},
   "outputs": [
    {
     "name": "stdout",
     "output_type": "stream",
     "text": [
      "0.474 0.526\n"
     ]
    }
   ],
   "source": [
    "ex9(1000)"
   ]
  },
  {
   "cell_type": "code",
   "execution_count": 213,
   "id": "00fc538e",
   "metadata": {},
   "outputs": [
    {
     "name": "stdout",
     "output_type": "stream",
     "text": [
      "0.5051 0.4949\n"
     ]
    }
   ],
   "source": [
    "ex9(10000)"
   ]
  },
  {
   "cell_type": "code",
   "execution_count": 214,
   "id": "1e20eb30",
   "metadata": {},
   "outputs": [
    {
     "name": "stdout",
     "output_type": "stream",
     "text": [
      "0.50033 0.49966999999999995\n"
     ]
    }
   ],
   "source": [
    "ex9(100000)"
   ]
  },
  {
   "cell_type": "code",
   "execution_count": 215,
   "id": "ddb025d3",
   "metadata": {},
   "outputs": [
    {
     "name": "stdout",
     "output_type": "stream",
     "text": [
      "0.499963 0.5000370000000001\n"
     ]
    }
   ],
   "source": [
    "ex9(1000000)"
   ]
  },
  {
   "cell_type": "code",
   "execution_count": 216,
   "id": "85aa11aa",
   "metadata": {},
   "outputs": [
    {
     "data": {
      "text/plain": [
       "['s',\n",
       " 't',\n",
       " 'u',\n",
       " 'd',\n",
       " 'e',\n",
       " 'n',\n",
       " 't',\n",
       " '1',\n",
       " ',',\n",
       " '9',\n",
       " '3',\n",
       " ',',\n",
       " '7',\n",
       " '8',\n",
       " ',',\n",
       " '8',\n",
       " '2',\n",
       " ',',\n",
       " '8',\n",
       " '3',\n",
       " ',',\n",
       " '6',\n",
       " '5',\n",
       " ',',\n",
       " '2',\n",
       " '3',\n",
       " ',',\n",
       " '3',\n",
       " '4',\n",
       " ',',\n",
       " '8',\n",
       " '7']"
      ]
     },
     "execution_count": 216,
     "metadata": {},
     "output_type": "execute_result"
    }
   ],
   "source": [
    "x = 'student1,93,78,82,83,65,23,34,87'\n",
    "list(x)"
   ]
  },
  {
   "cell_type": "code",
   "execution_count": 222,
   "id": "6e555eed",
   "metadata": {},
   "outputs": [],
   "source": [
    "def ex11():\n",
    "    filename = 'for_ex11_data.txt'\n",
    "    with open(filename, 'r') as file:\n",
    "        for line in file:\n",
    "            if not line.strip():\n",
    "                continue\n",
    "            \n",
    "            student_name, *grades = line.strip().split(',')\n",
    "            \n",
    "            for idx in range(len(grades)):\n",
    "                grades[idx] = int(grades[idx])\n",
    "            \n",
    "            print(student_name, round(sum(grades)/len(grades), 2))\n",
    "            "
   ]
  },
  {
   "cell_type": "code",
   "execution_count": 223,
   "id": "c714d253",
   "metadata": {},
   "outputs": [
    {
     "name": "stdout",
     "output_type": "stream",
     "text": [
      "student1 68.12\n",
      "student2 79.6\n",
      "student3 85.8\n",
      "student4 78.8\n",
      "student5 83.4\n",
      "student6 73.8\n",
      "student7 81.6\n",
      "student8 90.0\n",
      "student9 87.0\n",
      "student10 78.2\n"
     ]
    }
   ],
   "source": [
    "ex11()"
   ]
  },
  {
   "cell_type": "code",
   "execution_count": 219,
   "id": "7ce33d7f",
   "metadata": {},
   "outputs": [
    {
     "ename": "TypeError",
     "evalue": "int() argument must be a string, a bytes-like object or a number, not 'list'",
     "output_type": "error",
     "traceback": [
      "\u001b[1;31m---------------------------------------------------------------------------\u001b[0m",
      "\u001b[1;31mTypeError\u001b[0m                                 Traceback (most recent call last)",
      "\u001b[1;32m~\\AppData\\Local\\Temp/ipykernel_15544/2295314396.py\u001b[0m in \u001b[0;36m<module>\u001b[1;34m\u001b[0m\n\u001b[0;32m      1\u001b[0m \u001b[0mgrades\u001b[0m \u001b[1;33m=\u001b[0m \u001b[1;33m[\u001b[0m\u001b[1;34m'93'\u001b[0m\u001b[1;33m,\u001b[0m \u001b[1;34m'78'\u001b[0m\u001b[1;33m,\u001b[0m \u001b[1;34m'82'\u001b[0m\u001b[1;33m,\u001b[0m \u001b[1;34m'83'\u001b[0m\u001b[1;33m,\u001b[0m \u001b[1;34m'65'\u001b[0m\u001b[1;33m,\u001b[0m \u001b[1;34m'23'\u001b[0m\u001b[1;33m,\u001b[0m \u001b[1;34m'34'\u001b[0m\u001b[1;33m,\u001b[0m \u001b[1;34m'87'\u001b[0m\u001b[1;33m]\u001b[0m\u001b[1;33m\u001b[0m\u001b[1;33m\u001b[0m\u001b[0m\n\u001b[0;32m      2\u001b[0m \u001b[1;33m\u001b[0m\u001b[0m\n\u001b[1;32m----> 3\u001b[1;33m \u001b[0mint\u001b[0m\u001b[1;33m(\u001b[0m\u001b[0mgrades\u001b[0m\u001b[1;33m)\u001b[0m\u001b[1;33m\u001b[0m\u001b[1;33m\u001b[0m\u001b[0m\n\u001b[0m",
      "\u001b[1;31mTypeError\u001b[0m: int() argument must be a string, a bytes-like object or a number, not 'list'"
     ]
    }
   ],
   "source": [
    "grades = ['93', '78', '82', '83', '65', '23', '34', '87']\n",
    "\n",
    "int(grades)"
   ]
  },
  {
   "cell_type": "code",
   "execution_count": 225,
   "id": "bcd4381a",
   "metadata": {},
   "outputs": [],
   "source": [
    "# Ex1\n",
    "# Write a function that prints from 1 to n using a for loop, it should skip every\n",
    "# multiple of 5\n",
    "\n",
    "def ex1(n):\n",
    "    for idx in range(1, n+1):\n",
    "        if idx % 5 == 0:\n",
    "            continue\n",
    "        print(idx)\n",
    "        "
   ]
  },
  {
   "cell_type": "code",
   "execution_count": 227,
   "id": "b753d7a0",
   "metadata": {},
   "outputs": [
    {
     "name": "stdout",
     "output_type": "stream",
     "text": [
      "1\n",
      "2\n",
      "3\n",
      "4\n",
      "6\n",
      "7\n",
      "8\n",
      "9\n"
     ]
    }
   ],
   "source": [
    "ex1(10)"
   ]
  },
  {
   "cell_type": "code",
   "execution_count": 229,
   "id": "e6f41883",
   "metadata": {},
   "outputs": [],
   "source": [
    "# Ex1\n",
    "# Write a function that prints from 1 to n using a for loop, it should skip every\n",
    "# multiple of 5\n",
    "\n",
    "def ex11(n):\n",
    "    for idx in range(1, n+1):\n",
    "        if idx % 5 == 0 and idx % 7 == 0:\n",
    "            print(idx, '57')\n",
    "        elif idx % 5 == 0:\n",
    "            print(idx, '5')\n",
    "        elif idx % 7 == 0:\n",
    "            print(idx, '7')\n",
    "\n",
    "        "
   ]
  },
  {
   "cell_type": "code",
   "execution_count": 230,
   "id": "95dec898",
   "metadata": {},
   "outputs": [
    {
     "name": "stdout",
     "output_type": "stream",
     "text": [
      "5 5\n",
      "7 7\n",
      "10 5\n",
      "14 7\n",
      "15 5\n",
      "20 5\n",
      "21 7\n",
      "25 5\n",
      "28 7\n",
      "30 5\n",
      "35 57\n",
      "40 5\n",
      "42 7\n",
      "45 5\n",
      "49 7\n",
      "50 5\n",
      "55 5\n",
      "56 7\n",
      "60 5\n",
      "63 7\n",
      "65 5\n",
      "70 57\n",
      "75 5\n",
      "77 7\n",
      "80 5\n",
      "84 7\n",
      "85 5\n",
      "90 5\n",
      "91 7\n",
      "95 5\n",
      "98 7\n",
      "100 5\n"
     ]
    }
   ],
   "source": [
    "ex11(100)"
   ]
  },
  {
   "cell_type": "code",
   "execution_count": 234,
   "id": "7ef8ffd5",
   "metadata": {},
   "outputs": [],
   "source": [
    "# while_ex1\n",
    "# Write a program that takes integers from the user and returns the average\n",
    "# Use a while loop and make an empty string the stop criteria.\n",
    "\n",
    "\n",
    "def while_ex1():\n",
    "    value = input('Input a number or an empty string to stop: ')\n",
    "    val_list = []\n",
    "    while value:\n",
    "        val_list.append(int(value))\n",
    "        value = input('Input a number or an empty string to stop: ')\n",
    "     \n",
    "    if val_list:\n",
    "        average = sum(val_list)/len(val_list)\n",
    "        print(average)\n",
    "    else:\n",
    "        print('No values entered')\n"
   ]
  },
  {
   "cell_type": "code",
   "execution_count": 235,
   "id": "d5905459",
   "metadata": {},
   "outputs": [
    {
     "name": "stdout",
     "output_type": "stream",
     "text": [
      "Input a number or an empty string to stop: \n",
      "No values entered\n"
     ]
    }
   ],
   "source": [
    "while_ex1()"
   ]
  },
  {
   "cell_type": "code",
   "execution_count": 236,
   "id": "9f99a687",
   "metadata": {},
   "outputs": [
    {
     "name": "stdout",
     "output_type": "stream",
     "text": [
      "Input a number or an empty string to stop: 10\n",
      "Input a number or an empty string to stop: 20\n",
      "Input a number or an empty string to stop: 30\n",
      "Input a number or an empty string to stop: \n",
      "20.0\n"
     ]
    }
   ],
   "source": [
    "while_ex1()"
   ]
  },
  {
   "cell_type": "code",
   "execution_count": 238,
   "id": "db81386b",
   "metadata": {},
   "outputs": [],
   "source": [
    "def while_ex2():\n",
    "    value = input('Input a number or -1 to stop: ')\n",
    "    val_list = []\n",
    "    while value:\n",
    "        value = int(value)\n",
    "        if value < 0:\n",
    "            break\n",
    "            \n",
    "        val_list.append(value)\n",
    "        value = input('Input a number or -1 to stop: ')\n",
    "     \n",
    "    if val_list:\n",
    "        average = sum(val_list)/len(val_list)\n",
    "        print(average)\n",
    "    else:\n",
    "        print('No values entered')\n"
   ]
  },
  {
   "cell_type": "code",
   "execution_count": 239,
   "id": "8b6bee9c",
   "metadata": {},
   "outputs": [
    {
     "name": "stdout",
     "output_type": "stream",
     "text": [
      "Input a number or -1 to stop: 10\n",
      "Input a number or -1 to stop: 11\n",
      "Input a number or -1 to stop: 12\n",
      "Input a number or -1 to stop: 13\n",
      "Input a number or -1 to stop: -1\n",
      "11.5\n"
     ]
    }
   ],
   "source": [
    "while_ex2()"
   ]
  },
  {
   "cell_type": "code",
   "execution_count": 240,
   "id": "7738d913",
   "metadata": {},
   "outputs": [],
   "source": [
    "def while4(n):\n",
    "    \n",
    "    while n:\n",
    "        print(n)\n",
    "        n -= 1"
   ]
  },
  {
   "cell_type": "code",
   "execution_count": 241,
   "id": "de45adc9",
   "metadata": {},
   "outputs": [
    {
     "name": "stdout",
     "output_type": "stream",
     "text": [
      "10\n",
      "9\n",
      "8\n",
      "7\n",
      "6\n",
      "5\n",
      "4\n",
      "3\n",
      "2\n",
      "1\n"
     ]
    }
   ],
   "source": [
    "while4(10)"
   ]
  },
  {
   "cell_type": "code",
   "execution_count": 244,
   "id": "790d8a21",
   "metadata": {},
   "outputs": [
    {
     "name": "stdout",
     "output_type": "stream",
     "text": [
      "123400\n"
     ]
    }
   ],
   "source": [
    "mrn = 1234\n",
    "print(f'{mrn:0<6}')"
   ]
  },
  {
   "cell_type": "code",
   "execution_count": 246,
   "id": "d2590eb4",
   "metadata": {},
   "outputs": [
    {
     "name": "stdout",
     "output_type": "stream",
     "text": [
      "001234\n"
     ]
    }
   ],
   "source": [
    "mrn = 1234\n",
    "print(f'{mrn:0>6}')"
   ]
  },
  {
   "cell_type": "code",
   "execution_count": 253,
   "id": "b602e144",
   "metadata": {},
   "outputs": [
    {
     "name": "stdout",
     "output_type": "stream",
     "text": [
      "        1234\n"
     ]
    }
   ],
   "source": [
    "mrn = 1234\n",
    "print(f'{mrn:12}')"
   ]
  },
  {
   "cell_type": "code",
   "execution_count": 248,
   "id": "bc4273b6",
   "metadata": {},
   "outputs": [
    {
     "name": "stdout",
     "output_type": "stream",
     "text": [
      "  1234\n"
     ]
    }
   ],
   "source": [
    "mrn = 1234\n",
    "print(f'{mrn:6}')"
   ]
  },
  {
   "cell_type": "code",
   "execution_count": 252,
   "id": "8c360d29",
   "metadata": {},
   "outputs": [
    {
     "name": "stdout",
     "output_type": "stream",
     "text": [
      "1234--\n"
     ]
    }
   ],
   "source": [
    "string = '1234'\n",
    "print(f'{string:-<6}')"
   ]
  },
  {
   "cell_type": "code",
   "execution_count": 255,
   "id": "7f74dabb",
   "metadata": {},
   "outputs": [
    {
     "data": {
      "text/plain": [
       "3.1415"
      ]
     },
     "execution_count": 255,
     "metadata": {},
     "output_type": "execute_result"
    }
   ],
   "source": [
    "x = 3.14150\n",
    "\n",
    "round(x,5)"
   ]
  },
  {
   "cell_type": "code",
   "execution_count": 256,
   "id": "bf598dab",
   "metadata": {},
   "outputs": [
    {
     "data": {
      "text/plain": [
       "'3.14150'"
      ]
     },
     "execution_count": 256,
     "metadata": {},
     "output_type": "execute_result"
    }
   ],
   "source": [
    "f'{x:.5f}'"
   ]
  },
  {
   "cell_type": "code",
   "execution_count": 257,
   "id": "863fd4ed",
   "metadata": {},
   "outputs": [
    {
     "data": {
      "text/plain": [
       "'       3.1415'"
      ]
     },
     "execution_count": 257,
     "metadata": {},
     "output_type": "execute_result"
    }
   ],
   "source": [
    "f'{x:13-.4f}'"
   ]
  },
  {
   "cell_type": "code",
   "execution_count": null,
   "id": "57751fbb",
   "metadata": {},
   "outputs": [],
   "source": []
  }
 ],
 "metadata": {
  "kernelspec": {
   "display_name": "Python 3 (ipykernel)",
   "language": "python",
   "name": "python3"
  },
  "language_info": {
   "codemirror_mode": {
    "name": "ipython",
    "version": 3
   },
   "file_extension": ".py",
   "mimetype": "text/x-python",
   "name": "python",
   "nbconvert_exporter": "python",
   "pygments_lexer": "ipython3",
   "version": "3.8.5"
  }
 },
 "nbformat": 4,
 "nbformat_minor": 5
}
