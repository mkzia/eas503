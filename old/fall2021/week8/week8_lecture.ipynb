{
 "cells": [
  {
   "cell_type": "code",
   "execution_count": 3,
   "id": "27030bc2",
   "metadata": {},
   "outputs": [],
   "source": [
    "result = ['student1: B',\n",
    "'student2: B',\n",
    "'student3: B',\n",
    "'student4: A',\n",
    "'student5: B',\n",
    "'student6: B',\n",
    "'student7: D',\n",
    "'student8: C',\n",
    "'student9: B',\n",
    "'student10: A',\n",
    "'student11: C']\n",
    "\n",
    "output = ['student1: B', 'student2: B', 'student3: B', 'student4: B', 'student5: B', 'student6: B', 'student7: C', 'student8: C', 'student9: B', 'student10: C', 'student11: C', ]"
   ]
  },
  {
   "cell_type": "code",
   "execution_count": 4,
   "id": "e1e662f3",
   "metadata": {},
   "outputs": [
    {
     "data": {
      "text/plain": [
       "False"
      ]
     },
     "execution_count": 4,
     "metadata": {},
     "output_type": "execute_result"
    }
   ],
   "source": [
    "result == output"
   ]
  },
  {
   "cell_type": "code",
   "execution_count": 6,
   "id": "25f14bd5",
   "metadata": {},
   "outputs": [
    {
     "name": "stdout",
     "output_type": "stream",
     "text": [
      "3 student4: A student4: B\n",
      "6 student7: D student7: C\n",
      "9 student10: A student10: C\n"
     ]
    }
   ],
   "source": [
    "for idx, value in enumerate(result):\n",
    "    if value != output[idx]:\n",
    "        print(idx, value, output[idx])"
   ]
  },
  {
   "cell_type": "code",
   "execution_count": 7,
   "id": "ce59a23c",
   "metadata": {},
   "outputs": [
    {
     "name": "stdout",
     "output_type": "stream",
     "text": [
      "3 student4: A student4: B\n",
      "6 student7: D student7: C\n",
      "9 student10: A student10: C\n"
     ]
    }
   ],
   "source": [
    "for idx in range(len(result)):\n",
    "    if result[idx] != output[idx]:\n",
    "        print(idx, result[idx], output[idx])"
   ]
  },
  {
   "cell_type": "code",
   "execution_count": null,
   "id": "ac7d68ef",
   "metadata": {},
   "outputs": [],
   "source": [
    "class Person:\n",
    "    def __init__(self, first_name, last_name):\n",
    "        self.first_name = first_name,\n",
    "        self.last_name = last_name\n",
    "        \n"
   ]
  },
  {
   "cell_type": "code",
   "execution_count": 10,
   "id": "c4c555a4",
   "metadata": {},
   "outputs": [],
   "source": [
    "from abc import ABC, abstractmethod\n",
    "\n",
    "\n",
    "class Employee(ABC):\n",
    "    def __init__(self, first_name, last_name, ssn):\n",
    "        self.first_name = first_name\n",
    "        self.last_name = last_name\n",
    "        self.ssn = ssn\n",
    "\n",
    "    @abstractmethod\n",
    "    def earnings(self):\n",
    "        pass\n",
    "\n",
    "    def __repr__(self):\n",
    "        return f'{self.first_name} {self.last_name}\\nsocial security: {self.ssn}'"
   ]
  },
  {
   "cell_type": "code",
   "execution_count": 11,
   "id": "048e219b",
   "metadata": {},
   "outputs": [],
   "source": [
    "e1 = Employee('John', 'Doe', '111-22-3333')"
   ]
  },
  {
   "cell_type": "code",
   "execution_count": 12,
   "id": "04b74329",
   "metadata": {},
   "outputs": [],
   "source": [
    "e1.earnings()\n"
   ]
  },
  {
   "cell_type": "code",
   "execution_count": 13,
   "id": "f6d969be",
   "metadata": {},
   "outputs": [
    {
     "data": {
      "text/plain": [
       "John Doe\n",
       "social security: 111-22-3333"
      ]
     },
     "execution_count": 13,
     "metadata": {},
     "output_type": "execute_result"
    }
   ],
   "source": [
    "e1"
   ]
  },
  {
   "cell_type": "code",
   "execution_count": 15,
   "id": "b7919391",
   "metadata": {},
   "outputs": [],
   "source": [
    "class SalariedEmployee(Employee):\n",
    "    def __init__(self, first_name, last_name, ssn, salary):\n",
    "        super().__init__(first_name, last_name, ssn)\n",
    "        self.weekly_salary = salary\n",
    "\n",
    "    def earnings(self):\n",
    "        return self.weekly_salary\n",
    "\n",
    "    def __repr__(self):\n",
    "        return f'salaried employee: {super().__repr__()}\\nweekly salary: ${self.weekly_salary}'\n"
   ]
  },
  {
   "cell_type": "code",
   "execution_count": 16,
   "id": "d509bbfc",
   "metadata": {},
   "outputs": [],
   "source": [
    "salaried_employee = SalariedEmployee('John', 'Doe', '111-22-3333', 500)"
   ]
  },
  {
   "cell_type": "code",
   "execution_count": 17,
   "id": "2ed50af6",
   "metadata": {},
   "outputs": [
    {
     "data": {
      "text/plain": [
       "500"
      ]
     },
     "execution_count": 17,
     "metadata": {},
     "output_type": "execute_result"
    }
   ],
   "source": [
    "salaried_employee.earnings()"
   ]
  },
  {
   "cell_type": "code",
   "execution_count": 18,
   "id": "0d02510f",
   "metadata": {},
   "outputs": [
    {
     "data": {
      "text/plain": [
       "salaried employee: John Doe\n",
       "social security: 111-22-3333\n",
       "weekly salary: $500"
      ]
     },
     "execution_count": 18,
     "metadata": {},
     "output_type": "execute_result"
    }
   ],
   "source": [
    "salaried_employee"
   ]
  },
  {
   "cell_type": "code",
   "execution_count": 19,
   "id": "ec125ee4",
   "metadata": {},
   "outputs": [],
   "source": [
    "class HourlyEmployee(Employee):\n",
    "    def __init__(self, first_name, last_name, ssn, hourly_wage, hours_worked):\n",
    "        super().__init__(first_name, last_name, ssn)\n",
    "        self.hourly_wage = hourly_wage\n",
    "        self.hours_worked = hours_worked\n",
    "\n",
    "    def earnings(self):\n",
    "        if self.hours_worked < 40:  # no overtime\n",
    "            earned = self.hourly_wage * self.hours_worked\n",
    "        else:\n",
    "            earned = 40 * self.hourly_wage + \\\n",
    "                (self.hours_worked - 40) * self.hourly_wage * 1.5\n",
    "\n",
    "        return earned\n",
    "\n",
    "    def __repr__(self):\n",
    "        return f'hourly employee: {super().__repr__()}\\nhourly wage: ${self.hourly_wage}; hours worked: {self.hours_worked}'"
   ]
  },
  {
   "cell_type": "code",
   "execution_count": 20,
   "id": "a19f91f2",
   "metadata": {},
   "outputs": [],
   "source": [
    "hourly_employee = HourlyEmployee('John', 'Doe', '111-22-3333', 25, 45)"
   ]
  },
  {
   "cell_type": "code",
   "execution_count": 21,
   "id": "f36dca5f",
   "metadata": {},
   "outputs": [
    {
     "data": {
      "text/plain": [
       "1187.5"
      ]
     },
     "execution_count": 21,
     "metadata": {},
     "output_type": "execute_result"
    }
   ],
   "source": [
    "hourly_employee.earnings()"
   ]
  },
  {
   "cell_type": "code",
   "execution_count": 22,
   "id": "10f89212",
   "metadata": {},
   "outputs": [
    {
     "data": {
      "text/plain": [
       "hourly employee: John Doe\n",
       "social security: 111-22-3333\n",
       "hourly wage: $25; hours worked: 45"
      ]
     },
     "execution_count": 22,
     "metadata": {},
     "output_type": "execute_result"
    }
   ],
   "source": [
    "hourly_employee"
   ]
  },
  {
   "cell_type": "code",
   "execution_count": 23,
   "id": "01fe3ad5",
   "metadata": {},
   "outputs": [],
   "source": [
    "class CommissionEmployee(Employee):\n",
    "    def __init__(self, first_name, last_name, ssn, sales, rate):\n",
    "        super().__init__(first_name, last_name, ssn)\n",
    "        self.sales = sales\n",
    "        self.rate = rate\n",
    "\n",
    "    def earnings(self):\n",
    "        earned = self.sales * self.rate\n",
    "        return earned\n",
    "\n",
    "    def __repr__(self):\n",
    "        return f'commission employee: {super().__repr__()}\\ngross sales: ${self.sales}; commission rate: {self.rate}'"
   ]
  },
  {
   "cell_type": "code",
   "execution_count": 24,
   "id": "46d43567",
   "metadata": {},
   "outputs": [],
   "source": [
    "commission_employee = CommissionEmployee('John', 'Doe', '111-22-3333', 1000, 0.05)"
   ]
  },
  {
   "cell_type": "code",
   "execution_count": 25,
   "id": "6008ad78",
   "metadata": {},
   "outputs": [
    {
     "data": {
      "text/plain": [
       "50.0"
      ]
     },
     "execution_count": 25,
     "metadata": {},
     "output_type": "execute_result"
    }
   ],
   "source": [
    "commission_employee.earnings()"
   ]
  },
  {
   "cell_type": "code",
   "execution_count": 26,
   "id": "fbc18164",
   "metadata": {},
   "outputs": [
    {
     "data": {
      "text/plain": [
       "commission employee: John Doe\n",
       "social security: 111-22-3333\n",
       "gross sales: $1000; commission rate: 0.05"
      ]
     },
     "execution_count": 26,
     "metadata": {},
     "output_type": "execute_result"
    }
   ],
   "source": [
    "commission_employee"
   ]
  },
  {
   "cell_type": "code",
   "execution_count": 27,
   "id": "16105a21",
   "metadata": {},
   "outputs": [],
   "source": [
    "class BasePlusCommissionEmployee(CommissionEmployee):\n",
    "    def __init__(self, first_name, last_name, ssn, sales, rate, salary):\n",
    "        super().__init__(first_name, last_name, ssn, sales, rate)\n",
    "        self.salary = salary\n",
    "\n",
    "    def earnings(self):\n",
    "        earned = self.salary + super().earnings()\n",
    "        return earned\n",
    "\n",
    "    def __repr__(self):\n",
    "        return f'base-salaried {super().__repr__()}; base-salary: ${self.salary}'"
   ]
  },
  {
   "cell_type": "code",
   "execution_count": 28,
   "id": "023fa326",
   "metadata": {},
   "outputs": [],
   "source": [
    "base_plus_commission_employee = BasePlusCommissionEmployee('John', 'Doe', '111-22-3333', 1000, 0.05, 20000)"
   ]
  },
  {
   "cell_type": "code",
   "execution_count": 29,
   "id": "8bec3034",
   "metadata": {},
   "outputs": [
    {
     "data": {
      "text/plain": [
       "20050.0"
      ]
     },
     "execution_count": 29,
     "metadata": {},
     "output_type": "execute_result"
    }
   ],
   "source": [
    "base_plus_commission_employee.earnings()"
   ]
  },
  {
   "cell_type": "code",
   "execution_count": 30,
   "id": "c8d8d8b0",
   "metadata": {},
   "outputs": [
    {
     "data": {
      "text/plain": [
       "base-salaried commission employee: John Doe\n",
       "social security: 111-22-3333\n",
       "gross sales: $1000; commission rate: 0.05; base-salary: $20000"
      ]
     },
     "execution_count": 30,
     "metadata": {},
     "output_type": "execute_result"
    }
   ],
   "source": [
    "base_plus_commission_employee"
   ]
  },
  {
   "cell_type": "code",
   "execution_count": 31,
   "id": "58bd3946",
   "metadata": {},
   "outputs": [
    {
     "name": "stdout",
     "output_type": "stream",
     "text": [
      "\n",
      "salaried employee: John Smith\n",
      "social security: 111-11-1111\n",
      "weekly salary: $800\n",
      "earned: $800\n",
      "\n",
      "hourly employee: Karen Price\n",
      "social security: 222-22-2222\n",
      "hourly wage: $16.75; hours worked: 40\n",
      "earned: $670.0\n",
      "\n",
      "commission employee: Sue Jones\n",
      "social security: 333-33-3333\n",
      "gross sales: $10000; commission rate: 0.06\n",
      "earned: $600.0\n",
      "\n",
      "base-salaried commission employee: Bob Lewis\n",
      "social security: 444-44-4444\n",
      "gross sales: $5000; commission rate: 0.04; base-salary: $300\n",
      "earned: $500.0\n"
     ]
    }
   ],
   "source": [
    "salaried_employee = SalariedEmployee('John', 'Smith', '111-11-1111', 800)\n",
    "hourly_employee = HourlyEmployee('Karen', 'Price', '222-22-2222', 16.75, 40)\n",
    "commission_employee = CommissionEmployee('Sue', 'Jones', '333-33-3333', 10000, 0.06)\n",
    "base_plus_commission_employee = BasePlusCommissionEmployee('Bob', 'Lewis', '444-44-4444', 5000, 0.04, 300)\n",
    "\n",
    "\n",
    "employees = [\n",
    "    salaried_employee, \n",
    "    hourly_employee,\n",
    "    commission_employee, \n",
    "    base_plus_commission_employee\n",
    "]\n",
    "\n",
    "for employee in employees:\n",
    "    print()\n",
    "    print(employee)\n",
    "    print(f'earned: ${employee.earnings()}')"
   ]
  },
  {
   "cell_type": "code",
   "execution_count": 32,
   "id": "11247d26",
   "metadata": {},
   "outputs": [
    {
     "name": "stdout",
     "output_type": "stream",
     "text": [
      "\n",
      "salaried employee: John Smith\n",
      "social security: 111-11-1111\n",
      "weekly salary: $800\n",
      "earned: $800\n",
      "\n",
      "hourly employee: Karen Price\n",
      "social security: 222-22-2222\n",
      "hourly wage: $16.75; hours worked: 40\n",
      "earned: $670.0\n",
      "\n",
      "commission employee: Sue Jones\n",
      "social security: 333-33-3333\n",
      "gross sales: $10000; commission rate: 0.06\n",
      "earned: $600.0\n",
      "\n",
      "base-salaried commission employee: Bob Lewis\n",
      "social security: 444-44-4444\n",
      "gross sales: $5000; commission rate: 0.04; base-salary: $300\n",
      "new base salary with 10% increase is 330.0\n",
      "earned: $530.0\n"
     ]
    }
   ],
   "source": [
    "for employee in employees:\n",
    "    print()\n",
    "    print(employee)\n",
    "    if employee.__class__.__name__ == 'BasePlusCommissionEmployee':\n",
    "        employee.salary = 1.10 * employee.salary\n",
    "        print(f'new base salary with 10% increase is {employee.salary}')\n",
    "    print(f'earned: ${employee.earnings()}')"
   ]
  },
  {
   "cell_type": "code",
   "execution_count": 33,
   "id": "09a12207",
   "metadata": {},
   "outputs": [
    {
     "ename": "TypeError",
     "evalue": "unsupported operand type(s) for +: 'BasePlusCommissionEmployee' and 'BasePlusCommissionEmployee'",
     "output_type": "error",
     "traceback": [
      "\u001b[1;31m---------------------------------------------------------------------------\u001b[0m",
      "\u001b[1;31mTypeError\u001b[0m                                 Traceback (most recent call last)",
      "\u001b[1;32m~\\AppData\\Local\\Temp/ipykernel_7980/2875979542.py\u001b[0m in \u001b[0;36m<module>\u001b[1;34m\u001b[0m\n\u001b[1;32m----> 1\u001b[1;33m \u001b[0mbase_plus_commission_employee\u001b[0m \u001b[1;33m+\u001b[0m \u001b[0mbase_plus_commission_employee\u001b[0m\u001b[1;33m\u001b[0m\u001b[1;33m\u001b[0m\u001b[0m\n\u001b[0m",
      "\u001b[1;31mTypeError\u001b[0m: unsupported operand type(s) for +: 'BasePlusCommissionEmployee' and 'BasePlusCommissionEmployee'"
     ]
    }
   ],
   "source": [
    "base_plus_commission_employee + base_plus_commission_employee"
   ]
  },
  {
   "cell_type": "code",
   "execution_count": 34,
   "id": "5761aeb6",
   "metadata": {},
   "outputs": [
    {
     "data": {
      "text/plain": [
       "2"
      ]
     },
     "execution_count": 34,
     "metadata": {},
     "output_type": "execute_result"
    }
   ],
   "source": [
    "1 + 1"
   ]
  },
  {
   "cell_type": "code",
   "execution_count": 35,
   "id": "e0aa455f",
   "metadata": {},
   "outputs": [
    {
     "data": {
      "text/plain": [
       "3.5"
      ]
     },
     "execution_count": 35,
     "metadata": {},
     "output_type": "execute_result"
    }
   ],
   "source": [
    "1 + 2.5"
   ]
  },
  {
   "cell_type": "code",
   "execution_count": 36,
   "id": "1e4ec805",
   "metadata": {},
   "outputs": [
    {
     "ename": "TypeError",
     "evalue": "unsupported operand type(s) for +: 'int' and 'str'",
     "output_type": "error",
     "traceback": [
      "\u001b[1;31m---------------------------------------------------------------------------\u001b[0m",
      "\u001b[1;31mTypeError\u001b[0m                                 Traceback (most recent call last)",
      "\u001b[1;32m~\\AppData\\Local\\Temp/ipykernel_7980/2877782753.py\u001b[0m in \u001b[0;36m<module>\u001b[1;34m\u001b[0m\n\u001b[1;32m----> 1\u001b[1;33m \u001b[1;36m1\u001b[0m \u001b[1;33m+\u001b[0m \u001b[1;34m'1'\u001b[0m\u001b[1;33m\u001b[0m\u001b[1;33m\u001b[0m\u001b[0m\n\u001b[0m",
      "\u001b[1;31mTypeError\u001b[0m: unsupported operand type(s) for +: 'int' and 'str'"
     ]
    }
   ],
   "source": [
    "1 + '1'"
   ]
  },
  {
   "cell_type": "code",
   "execution_count": 39,
   "id": "031adb0f",
   "metadata": {},
   "outputs": [],
   "source": [
    "import math\n",
    "class Circle:\n",
    "\n",
    "    def __init__(self, radius):\n",
    "        self.radius = radius\n",
    "\n",
    "    def get_area(self):\n",
    "        return math.pi * self.radius**2\n",
    "\n",
    "    def __repr__(self):\n",
    "        return \"Circle with radius \" + str(self.radius)\n"
   ]
  },
  {
   "cell_type": "code",
   "execution_count": 40,
   "id": "c3d7d95b",
   "metadata": {},
   "outputs": [],
   "source": [
    "c1 = Circle(10)\n",
    "c2 = Circle(15)"
   ]
  },
  {
   "cell_type": "code",
   "execution_count": 41,
   "id": "c7e6c6fa",
   "metadata": {},
   "outputs": [
    {
     "ename": "TypeError",
     "evalue": "unsupported operand type(s) for +: 'Circle' and 'Circle'",
     "output_type": "error",
     "traceback": [
      "\u001b[1;31m---------------------------------------------------------------------------\u001b[0m",
      "\u001b[1;31mTypeError\u001b[0m                                 Traceback (most recent call last)",
      "\u001b[1;32m~\\AppData\\Local\\Temp/ipykernel_7980/3659229129.py\u001b[0m in \u001b[0;36m<module>\u001b[1;34m\u001b[0m\n\u001b[1;32m----> 1\u001b[1;33m \u001b[0mc1\u001b[0m \u001b[1;33m+\u001b[0m \u001b[0mc2\u001b[0m\u001b[1;33m\u001b[0m\u001b[1;33m\u001b[0m\u001b[0m\n\u001b[0m",
      "\u001b[1;31mTypeError\u001b[0m: unsupported operand type(s) for +: 'Circle' and 'Circle'"
     ]
    }
   ],
   "source": [
    "c1 + c2"
   ]
  },
  {
   "cell_type": "code",
   "execution_count": 46,
   "id": "4bac4b7f",
   "metadata": {},
   "outputs": [],
   "source": [
    "import math\n",
    "class Circle:\n",
    "\n",
    "    def __init__(self, radius):\n",
    "        self.radius = radius\n",
    "\n",
    "    def get_area(self):\n",
    "        return math.pi * self.radius**2\n",
    "\n",
    "    def __repr__(self):\n",
    "        return \"Circle with radius \" + str(self.radius)\n",
    "    \n",
    "    def __add__(self, another_circle): # another_circle ---> self + another_circle\n",
    "        return Circle(self.radius + another_circle.radius)\n",
    "    \n",
    "    def __gt__(self, another_circle):\n",
    "        return self.radius > another_circle.radius\n",
    "\n",
    "    def __lt__(self, another_circle):\n",
    "        return self.radius < another_circle.radius\n",
    "\n"
   ]
  },
  {
   "cell_type": "code",
   "execution_count": 47,
   "id": "ebcb07bf",
   "metadata": {},
   "outputs": [
    {
     "data": {
      "text/plain": [
       "Circle with radius 25"
      ]
     },
     "execution_count": 47,
     "metadata": {},
     "output_type": "execute_result"
    }
   ],
   "source": [
    "c1 = Circle(10)\n",
    "c2 = Circle(15)\n",
    "\n",
    "c1 + c2"
   ]
  },
  {
   "cell_type": "code",
   "execution_count": 48,
   "id": "3d92a75d",
   "metadata": {},
   "outputs": [
    {
     "data": {
      "text/plain": [
       "True"
      ]
     },
     "execution_count": 48,
     "metadata": {},
     "output_type": "execute_result"
    }
   ],
   "source": [
    "c1 < c2"
   ]
  },
  {
   "cell_type": "code",
   "execution_count": 49,
   "id": "ca68e31e",
   "metadata": {},
   "outputs": [
    {
     "data": {
      "text/plain": [
       "False"
      ]
     },
     "execution_count": 49,
     "metadata": {},
     "output_type": "execute_result"
    }
   ],
   "source": [
    "c1 > c2"
   ]
  },
  {
   "cell_type": "code",
   "execution_count": 50,
   "id": "7a66f587",
   "metadata": {},
   "outputs": [],
   "source": [
    "class Point:\n",
    "    def __init__(self, x=0, y=0):\n",
    "        self.x = x\n",
    "        self.y = y\n",
    "\n",
    "    def __add__(self, another_point):\n",
    "        return Point(self.x + another_point.x, self.y + another_point.y)\n",
    "\n",
    "    def __sub__(self, another_point):\n",
    "        return Point(self.x - another_point.x, self.y - another_point.y)\n",
    "\n",
    "    def __str__(self):\n",
    "        return f'{self.x}, {self.y}'"
   ]
  },
  {
   "cell_type": "code",
   "execution_count": 51,
   "id": "58e8b97b",
   "metadata": {},
   "outputs": [
    {
     "name": "stdout",
     "output_type": "stream",
     "text": [
      "11, 10\n"
     ]
    }
   ],
   "source": [
    "p1 = Point(3, 4)\n",
    "p2 = Point(8, 6)\n",
    "print(p2+p1)\n"
   ]
  },
  {
   "cell_type": "code",
   "execution_count": 52,
   "id": "18321a9e",
   "metadata": {},
   "outputs": [
    {
     "name": "stdout",
     "output_type": "stream",
     "text": [
      "5, 2\n"
     ]
    }
   ],
   "source": [
    "print(p2-p1)"
   ]
  },
  {
   "cell_type": "code",
   "execution_count": 53,
   "id": "4ddb6863",
   "metadata": {},
   "outputs": [
    {
     "name": "stdout",
     "output_type": "stream",
     "text": [
      "5.385164807134504\n"
     ]
    }
   ],
   "source": [
    "import math\n",
    "class Point:\n",
    "    def __init__(self, x=0, y=0):\n",
    "        self.x = x\n",
    "        self.y = y\n",
    "\n",
    "    def __add__(self, another_point):\n",
    "        return Point(self.x + another_point.x, self.y + another_point.y)\n",
    "\n",
    "    def __sub__(self, another_point):\n",
    "        return Point(self.x - another_point.x, self.y - another_point.y)\n",
    "\n",
    "    def length(self):\n",
    "        return math.sqrt(self.x**2 + self.y**2)\n",
    "\n",
    "    def distance(self, another_point):\n",
    "        return (self - another_point).length()\n",
    "\n",
    "    def __str__(self):\n",
    "        return f'{self.x}, {self.y}'\n",
    "\n",
    "p1 = Point(3, 4)\n",
    "p2 = Point(8, 6)\n",
    "print(p1.distance(p2))"
   ]
  },
  {
   "cell_type": "code",
   "execution_count": 54,
   "id": "fc1f20d9",
   "metadata": {},
   "outputs": [
    {
     "name": "stdout",
     "output_type": "stream",
     "text": [
      "0\n",
      "1\n",
      "2\n",
      "3\n",
      "4\n"
     ]
    }
   ],
   "source": [
    "x = range(5)\n",
    "for i in x:\n",
    "    print(i)"
   ]
  },
  {
   "cell_type": "code",
   "execution_count": 55,
   "id": "a8a14848",
   "metadata": {},
   "outputs": [],
   "source": [
    "class MyRange:\n",
    "\n",
    "    def __init__(self, limit):\n",
    "        self.limit = limit\n",
    "\n",
    "    def __iter__(self):\n",
    "        self.value = 0\n",
    "        return self\n",
    "\n",
    "    def __next__(self):\n",
    "        if self.value < self.limit:\n",
    "            output = self.value\n",
    "            self.value += 1\n",
    "            return output\n",
    "        else:\n",
    "            raise StopIteration\n"
   ]
  },
  {
   "cell_type": "code",
   "execution_count": 56,
   "id": "96fcc74b",
   "metadata": {},
   "outputs": [],
   "source": [
    "my_range = MyRange(10)\n"
   ]
  },
  {
   "cell_type": "code",
   "execution_count": 57,
   "id": "2c9f407d",
   "metadata": {},
   "outputs": [
    {
     "data": {
      "text/plain": [
       "10"
      ]
     },
     "execution_count": 57,
     "metadata": {},
     "output_type": "execute_result"
    }
   ],
   "source": [
    "my_range.limit"
   ]
  },
  {
   "cell_type": "code",
   "execution_count": 58,
   "id": "3b29f43d",
   "metadata": {},
   "outputs": [],
   "source": [
    "i = iter(my_range)"
   ]
  },
  {
   "cell_type": "code",
   "execution_count": 59,
   "id": "364b510b",
   "metadata": {},
   "outputs": [],
   "source": [
    "ii = my_range.__iter__()"
   ]
  },
  {
   "cell_type": "code",
   "execution_count": 60,
   "id": "85e4e512",
   "metadata": {},
   "outputs": [
    {
     "data": {
      "text/plain": [
       "2549340306448"
      ]
     },
     "execution_count": 60,
     "metadata": {},
     "output_type": "execute_result"
    }
   ],
   "source": [
    "id(i)\n"
   ]
  },
  {
   "cell_type": "code",
   "execution_count": 61,
   "id": "d86e8175",
   "metadata": {},
   "outputs": [
    {
     "data": {
      "text/plain": [
       "2549340306448"
      ]
     },
     "execution_count": 61,
     "metadata": {},
     "output_type": "execute_result"
    }
   ],
   "source": [
    "id(ii)"
   ]
  },
  {
   "cell_type": "code",
   "execution_count": 62,
   "id": "f91d9aab",
   "metadata": {},
   "outputs": [
    {
     "data": {
      "text/plain": [
       "0"
      ]
     },
     "execution_count": 62,
     "metadata": {},
     "output_type": "execute_result"
    }
   ],
   "source": [
    "next(i)"
   ]
  },
  {
   "cell_type": "code",
   "execution_count": 63,
   "id": "47b74b72",
   "metadata": {},
   "outputs": [
    {
     "data": {
      "text/plain": [
       "1"
      ]
     },
     "execution_count": 63,
     "metadata": {},
     "output_type": "execute_result"
    }
   ],
   "source": [
    "next(i)"
   ]
  },
  {
   "cell_type": "code",
   "execution_count": 64,
   "id": "79d78164",
   "metadata": {},
   "outputs": [
    {
     "data": {
      "text/plain": [
       "2"
      ]
     },
     "execution_count": 64,
     "metadata": {},
     "output_type": "execute_result"
    }
   ],
   "source": [
    "next(i)"
   ]
  },
  {
   "cell_type": "code",
   "execution_count": 65,
   "id": "7bda73e0",
   "metadata": {},
   "outputs": [
    {
     "data": {
      "text/plain": [
       "3"
      ]
     },
     "execution_count": 65,
     "metadata": {},
     "output_type": "execute_result"
    }
   ],
   "source": [
    "next(i)"
   ]
  },
  {
   "cell_type": "code",
   "execution_count": 66,
   "id": "ce91e33f",
   "metadata": {},
   "outputs": [
    {
     "data": {
      "text/plain": [
       "4"
      ]
     },
     "execution_count": 66,
     "metadata": {},
     "output_type": "execute_result"
    }
   ],
   "source": [
    "i.__next__()"
   ]
  },
  {
   "cell_type": "code",
   "execution_count": 67,
   "id": "d6fb79e6",
   "metadata": {},
   "outputs": [
    {
     "data": {
      "text/plain": [
       "5"
      ]
     },
     "execution_count": 67,
     "metadata": {},
     "output_type": "execute_result"
    }
   ],
   "source": [
    "i.__next__()"
   ]
  },
  {
   "cell_type": "code",
   "execution_count": 68,
   "id": "135592cf",
   "metadata": {},
   "outputs": [
    {
     "data": {
      "text/plain": [
       "6"
      ]
     },
     "execution_count": 68,
     "metadata": {},
     "output_type": "execute_result"
    }
   ],
   "source": [
    "i.__next__()"
   ]
  },
  {
   "cell_type": "code",
   "execution_count": 69,
   "id": "5b65e35e",
   "metadata": {},
   "outputs": [
    {
     "data": {
      "text/plain": [
       "7"
      ]
     },
     "execution_count": 69,
     "metadata": {},
     "output_type": "execute_result"
    }
   ],
   "source": [
    "i.__next__()"
   ]
  },
  {
   "cell_type": "code",
   "execution_count": 70,
   "id": "3e0ba4e8",
   "metadata": {},
   "outputs": [
    {
     "data": {
      "text/plain": [
       "8"
      ]
     },
     "execution_count": 70,
     "metadata": {},
     "output_type": "execute_result"
    }
   ],
   "source": [
    "i.__next__()"
   ]
  },
  {
   "cell_type": "code",
   "execution_count": 71,
   "id": "f56ae17a",
   "metadata": {},
   "outputs": [
    {
     "data": {
      "text/plain": [
       "9"
      ]
     },
     "execution_count": 71,
     "metadata": {},
     "output_type": "execute_result"
    }
   ],
   "source": [
    "i.__next__()"
   ]
  },
  {
   "cell_type": "code",
   "execution_count": 72,
   "id": "257dfc19",
   "metadata": {},
   "outputs": [
    {
     "ename": "StopIteration",
     "evalue": "",
     "output_type": "error",
     "traceback": [
      "\u001b[1;31m---------------------------------------------------------------------------\u001b[0m",
      "\u001b[1;31mStopIteration\u001b[0m                             Traceback (most recent call last)",
      "\u001b[1;32m~\\AppData\\Local\\Temp/ipykernel_7980/2142742944.py\u001b[0m in \u001b[0;36m<module>\u001b[1;34m\u001b[0m\n\u001b[1;32m----> 1\u001b[1;33m \u001b[0mi\u001b[0m\u001b[1;33m.\u001b[0m\u001b[0m__next__\u001b[0m\u001b[1;33m(\u001b[0m\u001b[1;33m)\u001b[0m\u001b[1;33m\u001b[0m\u001b[1;33m\u001b[0m\u001b[0m\n\u001b[0m",
      "\u001b[1;32m~\\AppData\\Local\\Temp/ipykernel_7980/4284138114.py\u001b[0m in \u001b[0;36m__next__\u001b[1;34m(self)\u001b[0m\n\u001b[0;32m     14\u001b[0m             \u001b[1;32mreturn\u001b[0m \u001b[0moutput\u001b[0m\u001b[1;33m\u001b[0m\u001b[1;33m\u001b[0m\u001b[0m\n\u001b[0;32m     15\u001b[0m         \u001b[1;32melse\u001b[0m\u001b[1;33m:\u001b[0m\u001b[1;33m\u001b[0m\u001b[1;33m\u001b[0m\u001b[0m\n\u001b[1;32m---> 16\u001b[1;33m             \u001b[1;32mraise\u001b[0m \u001b[0mStopIteration\u001b[0m\u001b[1;33m\u001b[0m\u001b[1;33m\u001b[0m\u001b[0m\n\u001b[0m",
      "\u001b[1;31mStopIteration\u001b[0m: "
     ]
    }
   ],
   "source": [
    "i.__next__()"
   ]
  },
  {
   "cell_type": "code",
   "execution_count": 78,
   "id": "948176fa",
   "metadata": {},
   "outputs": [
    {
     "name": "stdout",
     "output_type": "stream",
     "text": [
      "0\n",
      "1\n",
      "2\n",
      "3\n",
      "4\n",
      "5\n",
      "6\n",
      "7\n",
      "8\n",
      "9\n"
     ]
    }
   ],
   "source": [
    "for value in MyRange(10):\n",
    "    print(value)"
   ]
  },
  {
   "cell_type": "code",
   "execution_count": 79,
   "id": "e4f9ead6",
   "metadata": {},
   "outputs": [
    {
     "name": "stdout",
     "output_type": "stream",
     "text": [
      "0\n",
      "1\n",
      "8\n",
      "27\n",
      "64\n",
      "125\n",
      "216\n",
      "343\n",
      "512\n",
      "729\n"
     ]
    }
   ],
   "source": [
    "class PowX:\n",
    "    def __init__(self, limit, power):\n",
    "        self.limit = limit\n",
    "        self.power = power\n",
    "\n",
    "    def __iter__(self):\n",
    "        self.value = 0\n",
    "        return self\n",
    "\n",
    "    def __next__(self):\n",
    "        if self.value < self.limit:\n",
    "            output = self.value**self.power\n",
    "            self.value += 1\n",
    "            return output\n",
    "        else:\n",
    "            raise StopIteration\n",
    "            \n",
    "            \n",
    "for ele in PowX(10, 3):\n",
    "    print(ele)\n"
   ]
  },
  {
   "cell_type": "code",
   "execution_count": 80,
   "id": "28258338",
   "metadata": {},
   "outputs": [
    {
     "ename": "TypeError",
     "evalue": "'Point' object is not iterable",
     "output_type": "error",
     "traceback": [
      "\u001b[1;31m---------------------------------------------------------------------------\u001b[0m",
      "\u001b[1;31mTypeError\u001b[0m                                 Traceback (most recent call last)",
      "\u001b[1;32m~\\AppData\\Local\\Temp/ipykernel_7980/614377410.py\u001b[0m in \u001b[0;36m<module>\u001b[1;34m\u001b[0m\n\u001b[1;32m----> 1\u001b[1;33m \u001b[1;32mfor\u001b[0m \u001b[0mi\u001b[0m \u001b[1;32min\u001b[0m \u001b[0mp1\u001b[0m\u001b[1;33m:\u001b[0m\u001b[1;33m\u001b[0m\u001b[1;33m\u001b[0m\u001b[0m\n\u001b[0m\u001b[0;32m      2\u001b[0m     \u001b[0mprint\u001b[0m\u001b[1;33m(\u001b[0m\u001b[0mi\u001b[0m\u001b[1;33m)\u001b[0m\u001b[1;33m\u001b[0m\u001b[1;33m\u001b[0m\u001b[0m\n",
      "\u001b[1;31mTypeError\u001b[0m: 'Point' object is not iterable"
     ]
    }
   ],
   "source": [
    "for i in p1:\n",
    "    print(i)"
   ]
  },
  {
   "cell_type": "code",
   "execution_count": 82,
   "id": "24a801ee",
   "metadata": {},
   "outputs": [],
   "source": [
    "## lets use generator\n",
    "\n",
    "def PowX(limit, power):\n",
    "    value = 0\n",
    "    while value < limit:\n",
    "        yield value**power\n",
    "        value += 1"
   ]
  },
  {
   "cell_type": "code",
   "execution_count": 83,
   "id": "fe11bad7",
   "metadata": {},
   "outputs": [
    {
     "name": "stdout",
     "output_type": "stream",
     "text": [
      "0\n",
      "1\n",
      "8\n",
      "27\n",
      "64\n",
      "125\n",
      "216\n",
      "343\n",
      "512\n",
      "729\n"
     ]
    }
   ],
   "source": [
    "values = PowX(10, 3)\n",
    "for ele in values:\n",
    "    print(ele)"
   ]
  },
  {
   "cell_type": "code",
   "execution_count": 84,
   "id": "5ff19ec5",
   "metadata": {},
   "outputs": [
    {
     "data": {
      "text/plain": [
       "<generator object PowX at 0x0000025190EF5510>"
      ]
     },
     "execution_count": 84,
     "metadata": {},
     "output_type": "execute_result"
    }
   ],
   "source": [
    "values"
   ]
  },
  {
   "cell_type": "code",
   "execution_count": 85,
   "id": "96d6d409",
   "metadata": {},
   "outputs": [],
   "source": [
    "for ele in values:\n",
    "    print(ele)"
   ]
  },
  {
   "cell_type": "code",
   "execution_count": 86,
   "id": "f05caed7",
   "metadata": {},
   "outputs": [],
   "source": [
    "values = PowX(10, 3)\n"
   ]
  },
  {
   "cell_type": "code",
   "execution_count": 87,
   "id": "28395dcd",
   "metadata": {},
   "outputs": [
    {
     "data": {
      "text/plain": [
       "<generator object PowX at 0x0000025190EF59E0>"
      ]
     },
     "execution_count": 87,
     "metadata": {},
     "output_type": "execute_result"
    }
   ],
   "source": [
    "values"
   ]
  },
  {
   "cell_type": "code",
   "execution_count": 88,
   "id": "f747c46b",
   "metadata": {},
   "outputs": [
    {
     "name": "stdout",
     "output_type": "stream",
     "text": [
      "[0, 1, 8, 27, 64, 125, 216, 343, 512, 729]\n"
     ]
    }
   ],
   "source": [
    "l = list(values)\n",
    "print(l)"
   ]
  },
  {
   "cell_type": "code",
   "execution_count": 89,
   "id": "d7d72e2b",
   "metadata": {},
   "outputs": [
    {
     "name": "stdout",
     "output_type": "stream",
     "text": [
      "0\n",
      "1\n",
      "8\n",
      "27\n",
      "64\n",
      "125\n",
      "216\n",
      "343\n",
      "512\n",
      "729\n"
     ]
    }
   ],
   "source": [
    "for e in l:\n",
    "    print(e)"
   ]
  },
  {
   "cell_type": "code",
   "execution_count": 90,
   "id": "34f1d4dd",
   "metadata": {},
   "outputs": [
    {
     "name": "stdout",
     "output_type": "stream",
     "text": [
      "0\n",
      "1\n",
      "8\n",
      "27\n",
      "64\n",
      "125\n",
      "216\n",
      "343\n",
      "512\n",
      "729\n"
     ]
    }
   ],
   "source": [
    "for e in l:\n",
    "    print(e)"
   ]
  },
  {
   "cell_type": "code",
   "execution_count": 93,
   "id": "12fcb5bc",
   "metadata": {},
   "outputs": [
    {
     "name": "stdout",
     "output_type": "stream",
     "text": [
      "('Larson', 'Melissa', 'larsonmeli', 24, 89, 31)\n",
      "('Novak', 'Melissa', 'novakmeli', 77, 3, 38)\n",
      "('Sawyer', 'Wendy', 'sawyerwend', 81, 59, 30)\n",
      "('Schultz', 'Marcus', 'schultzmarc', 59, 29, 67)\n",
      "('Vega', 'Nicholas', 'veganich', 64, 12, 95)\n",
      "('Adams', 'Brenda', 'adamsbren', 80, 49, 60)\n",
      "('Thompson', 'Charlene', 'thompsonchar', 37, 56, 26)\n",
      "('Booth', 'Bradley', 'boothbrad', 85, 8, 77)\n",
      "('Gallegos', 'Eugene', 'gallegoseuge', 34, 9, 76)\n",
      "('Munoz', 'Mary', 'munozmary', 77, 41, 55)\n",
      "('Carey', 'Kimberly', 'careykimb', 29, 94, 23)\n",
      "('Paul', 'Philip', 'paulphil', 79, 86, 60)\n",
      "('Reed', 'Madeline', 'reedmade', 16, 39, 46)\n",
      "('Parsons', 'Cassie', 'parsonscass', 61, 62, 65)\n",
      "('Mcclain', 'Glenn', 'mcclainglen', 85, 98, 52)\n",
      "('Oliver', 'Janice', 'oliverjani', 72, 47, 34)\n",
      "('Lozano', 'Catherine', 'lozanocath', 71, 19, 94)\n",
      "('Klein', 'John', 'kleinjohn', 3, 43, 88)\n",
      "('Brooks', 'Marcus', 'brooksmarc', 6, 81, 70)\n",
      "('Lee', 'Michael', 'leemich', 30, 54, 25)\n",
      "('Myers', 'Elizabeth', 'myerseliz', 41, 38, 28)\n",
      "('Bowen', 'Katherine', 'bowenkath', 57, 61, 34)\n",
      "('Gibson', 'Edward', 'gibsonedwa', 84, 27, 21)\n",
      "('Smith', 'Christopher', 'smithchri', 25, 11, 68)\n",
      "('Key', 'Debra', 'keydebr', 66, 47, 29)\n",
      "('Fleming', 'Carlos', 'flemingcarl', 50, 45, 93)\n",
      "('Parrish', 'Nathan', 'parrishnath', 47, 92, 45)\n",
      "('Lewis', 'Michael', 'lewismich', 73, 65, 98)\n",
      "('Diaz', 'David', 'diazdavi', 52, 40, 20)\n",
      "('Walter', 'Linda', 'walterlind', 28, 14, 71)\n",
      "('Bailey', 'Amanda', 'baileyaman', 27, 4, 38)\n",
      "('Terrell', 'Robert', 'terrellrobe', 99, 93, 60)\n",
      "('Johnson', 'Janice', 'johnsonjani', 22, 49, 93)\n",
      "('Lee', 'John', 'leejohn', 25, 25, 39)\n",
      "('Dominguez', 'Kathryn', 'dominguezkath', 21, 82, 31)\n",
      "('Ellis', 'Paige', 'ellispaig', 41, 46, 82)\n",
      "('Wilkinson', 'Jennifer', 'wilkinsonjenn', 52, 64, 44)\n",
      "('Rodriguez', 'Michelle', 'rodriguezmich', 94, 24, 50)\n",
      "('Kennedy', 'Lisa', 'kennedylisa', 93, 19, 48)\n",
      "('Henderson', 'Michelle', 'hendersonmich', 91, 60, 86)\n",
      "('Hill', 'James', 'hilljame', 59, 22, 85)\n",
      "('Jones', 'David', 'jonesdavi', 37, 60, 15)\n",
      "('Landry', 'Patrick', 'landrypatr', 41, 82, 93)\n",
      "('Cox', 'Jerome', 'coxjero', 67, 28, 29)\n",
      "('Santana', 'Linda', 'santanalind', 77, 58, 4)\n",
      "('Patton', 'Robert', 'pattonrobe', 78, 53, 20)\n",
      "('Mclean', 'Christopher', 'mcleanchri', 59, 58, 73)\n",
      "('Rhodes', 'Andre', 'rhodesandr', 53, 9, 82)\n",
      "('Ramsey', 'John', 'ramseyjohn', 89, 95, 94)\n",
      "('Martin', 'Paul', 'martinpaul', 15, 11, 12)\n",
      "('Perez', 'Kelli', 'perezkell', 6, 22, 3)\n",
      "('Moran', 'Troy', 'morantroy', 61, 21, 45)\n",
      "('Kerr', 'Sarah', 'kerrsara', 82, 27, 65)\n",
      "('Wade', 'Stephanie', 'wadestep', 9, 69, 31)\n",
      "('Smith', 'Rebecca', 'smithrebe', 3, 75, 55)\n",
      "('Long', 'Joel', 'longjoel', 20, 50, 3)\n",
      "('Ashley', 'Cody', 'ashleycody', 75, 69, 94)\n",
      "('Patrick', 'Rachel', 'patrickrach', 16, 20, 80)\n",
      "('Oliver', 'Alex', 'oliveralex', 61, 22, 6)\n",
      "('Hoffman', 'Shannon', 'hoffmanshan', 29, 68, 71)\n",
      "('Holden', 'Michael', 'holdenmich', 57, 23, 53)\n",
      "('Graham', 'Vanessa', 'grahamvane', 78, 76, 73)\n",
      "('Blair', 'Christopher', 'blairchri', 70, 97, 27)\n",
      "('Taylor', 'Diana', 'taylordian', 99, 90, 6)\n",
      "('Reilly', 'Brandon', 'reillybran', 10, 94, 64)\n",
      "('Gamble', 'Matthew', 'gamblematt', 48, 50, 26)\n",
      "('Weber', 'Patrick', 'weberpatr', 87, 33, 92)\n",
      "('Woodard', 'Judy', 'woodardjudy', 47, 43, 13)\n",
      "('Hull', 'Alexandra', 'hullalex', 38, 7, 42)\n",
      "('Frank', 'Jessica', 'frankjess', 95, 87, 92)\n",
      "('Davis', 'Samuel', 'davissamu', 22, 17, 91)\n",
      "('Baird', 'Alexandra', 'bairdalex', 32, 90, 71)\n",
      "('Hensley', 'James', 'hensleyjame', 52, 50, 61)\n",
      "('Luna', 'Carmen', 'lunacarm', 36, 92, 6)\n",
      "('Garcia', 'Brian', 'garciabria', 37, 53, 3)\n",
      "('Andrews', 'Luis', 'andrewsluis', 43, 92, 3)\n",
      "('Watson', 'Jessica', 'watsonjess', 2, 44, 50)\n",
      "('Evans', 'Dawn', 'evansdawn', 18, 59, 45)\n",
      "('Barnes', 'Tammy', 'barnestamm', 54, 53, 71)\n",
      "('Nelson', 'Angela', 'nelsonange', 33, 63, 66)\n",
      "('Patterson', 'Jennifer', 'pattersonjenn', 26, 98, 97)\n",
      "('King', 'Austin', 'kingaust', 64, 89, 59)\n",
      "('Smith', 'Carol', 'smithcaro', 73, 48, 65)\n",
      "('Cook', 'Lisa', 'cooklisa', 66, 25, 11)\n",
      "('Francis', 'Shawn', 'francisshaw', 37, 55, 26)\n",
      "('Monroe', 'Michael', 'monroemich', 23, 92, 34)\n",
      "('Cortez', 'Patrick', 'cortezpatr', 18, 22, 2)\n",
      "('Chang', 'Kristen', 'changkris', 78, 55, 94)\n",
      "('Mcclain', 'Brandy', 'mcclainbran', 65, 1, 23)\n",
      "('Sellers', 'Stephanie', 'sellersstep', 11, 83, 76)\n",
      "('Olsen', 'Mariah', 'olsenmari', 44, 27, 64)\n",
      "('Melton', 'Brianna', 'meltonbria', 52, 95, 47)\n",
      "('Day', 'Jon', 'dayjon', 15, 55, 71)\n",
      "('Little', 'Brian', 'littlebria', 25, 35, 88)\n",
      "('Johnson', 'Wayne', 'johnsonwayn', 66, 31, 58)\n",
      "('Duncan', 'Andrew', 'duncanandr', 59, 87, 34)\n",
      "('Bush', 'Alexander', 'bushalex', 82, 54, 25)\n",
      "('Summers', 'Michael', 'summersmich', 18, 95, 63)\n",
      "('Bowers', 'Sandra', 'bowerssand', 52, 8, 50)\n",
      "('Fernandez', 'Jonathan', 'fernandezjona', 74, 80, 22)\n"
     ]
    }
   ],
   "source": [
    "filename = 'students.tsv'\n",
    "\n",
    "students = []\n",
    "with open(filename) as file:\n",
    "    for line in file:\n",
    "        if not line.strip():\n",
    "            continue\n",
    "        fn, ln, un, e1, e2, e3 = line.strip().split('\\t')\n",
    "        students.append((fn, ln, un, int(e1), int(e2), int(e3)))\n",
    "\n",
    "for student in students:\n",
    "    print(student)"
   ]
  },
  {
   "cell_type": "code",
   "execution_count": 94,
   "id": "2d5e1247",
   "metadata": {},
   "outputs": [
    {
     "name": "stdout",
     "output_type": "stream",
     "text": [
      "('larsonmeli', 24)\n",
      "('novakmeli', 77)\n",
      "('sawyerwend', 81)\n",
      "('schultzmarc', 59)\n",
      "('veganich', 64)\n",
      "('adamsbren', 80)\n",
      "('thompsonchar', 37)\n",
      "('boothbrad', 85)\n",
      "('gallegoseuge', 34)\n",
      "('munozmary', 77)\n",
      "('careykimb', 29)\n",
      "('paulphil', 79)\n",
      "('reedmade', 16)\n",
      "('parsonscass', 61)\n",
      "('mcclainglen', 85)\n",
      "('oliverjani', 72)\n",
      "('lozanocath', 71)\n",
      "('kleinjohn', 3)\n",
      "('brooksmarc', 6)\n",
      "('leemich', 30)\n",
      "('myerseliz', 41)\n",
      "('bowenkath', 57)\n",
      "('gibsonedwa', 84)\n",
      "('smithchri', 25)\n",
      "('keydebr', 66)\n",
      "('flemingcarl', 50)\n",
      "('parrishnath', 47)\n",
      "('lewismich', 73)\n",
      "('diazdavi', 52)\n",
      "('walterlind', 28)\n",
      "('baileyaman', 27)\n",
      "('terrellrobe', 99)\n",
      "('johnsonjani', 22)\n",
      "('leejohn', 25)\n",
      "('dominguezkath', 21)\n",
      "('ellispaig', 41)\n",
      "('wilkinsonjenn', 52)\n",
      "('rodriguezmich', 94)\n",
      "('kennedylisa', 93)\n",
      "('hendersonmich', 91)\n",
      "('hilljame', 59)\n",
      "('jonesdavi', 37)\n",
      "('landrypatr', 41)\n",
      "('coxjero', 67)\n",
      "('santanalind', 77)\n",
      "('pattonrobe', 78)\n",
      "('mcleanchri', 59)\n",
      "('rhodesandr', 53)\n",
      "('ramseyjohn', 89)\n",
      "('martinpaul', 15)\n",
      "('perezkell', 6)\n",
      "('morantroy', 61)\n",
      "('kerrsara', 82)\n",
      "('wadestep', 9)\n",
      "('smithrebe', 3)\n",
      "('longjoel', 20)\n",
      "('ashleycody', 75)\n",
      "('patrickrach', 16)\n",
      "('oliveralex', 61)\n",
      "('hoffmanshan', 29)\n",
      "('holdenmich', 57)\n",
      "('grahamvane', 78)\n",
      "('blairchri', 70)\n",
      "('taylordian', 99)\n",
      "('reillybran', 10)\n",
      "('gamblematt', 48)\n",
      "('weberpatr', 87)\n",
      "('woodardjudy', 47)\n",
      "('hullalex', 38)\n",
      "('frankjess', 95)\n",
      "('davissamu', 22)\n",
      "('bairdalex', 32)\n",
      "('hensleyjame', 52)\n",
      "('lunacarm', 36)\n",
      "('garciabria', 37)\n",
      "('andrewsluis', 43)\n",
      "('watsonjess', 2)\n",
      "('evansdawn', 18)\n",
      "('barnestamm', 54)\n",
      "('nelsonange', 33)\n",
      "('pattersonjenn', 26)\n",
      "('kingaust', 64)\n",
      "('smithcaro', 73)\n",
      "('cooklisa', 66)\n",
      "('francisshaw', 37)\n",
      "('monroemich', 23)\n",
      "('cortezpatr', 18)\n",
      "('changkris', 78)\n",
      "('mcclainbran', 65)\n",
      "('sellersstep', 11)\n",
      "('olsenmari', 44)\n",
      "('meltonbria', 52)\n",
      "('dayjon', 15)\n",
      "('littlebria', 25)\n",
      "('johnsonwayn', 66)\n",
      "('duncanandr', 59)\n",
      "('bushalex', 82)\n",
      "('summersmich', 18)\n",
      "('bowerssand', 52)\n",
      "('fernandezjona', 74)\n"
     ]
    }
   ],
   "source": [
    "l_func = lambda student: (student[2], student[3])\n",
    "\n",
    "for ele in map(l_func, students):\n",
    "    print(ele)"
   ]
  },
  {
   "cell_type": "code",
   "execution_count": 96,
   "id": "c1e55cf5",
   "metadata": {},
   "outputs": [
    {
     "data": {
      "text/plain": [
       "[('terrellrobe', 99),\n",
       " ('taylordian', 99),\n",
       " ('frankjess', 95),\n",
       " ('rodriguezmich', 94),\n",
       " ('kennedylisa', 93),\n",
       " ('hendersonmich', 91),\n",
       " ('ramseyjohn', 89),\n",
       " ('weberpatr', 87),\n",
       " ('boothbrad', 85),\n",
       " ('mcclainglen', 85),\n",
       " ('gibsonedwa', 84),\n",
       " ('kerrsara', 82),\n",
       " ('bushalex', 82),\n",
       " ('sawyerwend', 81),\n",
       " ('adamsbren', 80),\n",
       " ('paulphil', 79),\n",
       " ('pattonrobe', 78),\n",
       " ('grahamvane', 78),\n",
       " ('changkris', 78),\n",
       " ('novakmeli', 77)]"
      ]
     },
     "execution_count": 96,
     "metadata": {},
     "output_type": "execute_result"
    }
   ],
   "source": [
    "sorted(map(l_func, students), key=lambda row: row[1], reverse=True)[:20]"
   ]
  },
  {
   "cell_type": "code",
   "execution_count": 102,
   "id": "ee7b0b5f",
   "metadata": {},
   "outputs": [
    {
     "name": "stdout",
     "output_type": "stream",
     "text": [
      "50.01\n"
     ]
    }
   ],
   "source": [
    "exam1 = list((map(lambda row: row[3], students)))\n",
    "exam1avg = sum(exam1)/len(exam1)\n",
    "print(exam1avg)"
   ]
  },
  {
   "cell_type": "code",
   "execution_count": 108,
   "id": "abe8d0ee",
   "metadata": {},
   "outputs": [
    {
     "name": "stdout",
     "output_type": "stream",
     "text": [
      "('sawyerwend', 81)\n",
      "('boothbrad', 85)\n",
      "('mcclainglen', 85)\n",
      "('gibsonedwa', 84)\n",
      "('terrellrobe', 99)\n",
      "('rodriguezmich', 94)\n",
      "('kennedylisa', 93)\n",
      "('hendersonmich', 91)\n",
      "('ramseyjohn', 89)\n",
      "('kerrsara', 82)\n",
      "('taylordian', 99)\n",
      "('weberpatr', 87)\n",
      "('frankjess', 95)\n",
      "('bushalex', 82)\n"
     ]
    }
   ],
   "source": [
    "for ele in map(lambda row: (row[2], row[3]), filter(lambda row: row[3] > 80, students)):\n",
    "    print(ele)"
   ]
  },
  {
   "cell_type": "code",
   "execution_count": 109,
   "id": "e2e3ec5e",
   "metadata": {},
   "outputs": [
    {
     "name": "stdout",
     "output_type": "stream",
     "text": [
      "('sawyerwend', 81)\n",
      "('boothbrad', 85)\n",
      "('mcclainglen', 85)\n",
      "('gibsonedwa', 84)\n",
      "('ramseyjohn', 89)\n",
      "('kerrsara', 82)\n",
      "('weberpatr', 87)\n",
      "('bushalex', 82)\n"
     ]
    }
   ],
   "source": [
    "for ele in map(lambda row: (row[2], row[3]), filter(lambda row:  80 < row[3] < 90, students)):\n",
    "    print(ele)"
   ]
  },
  {
   "cell_type": "code",
   "execution_count": 111,
   "id": "21e41c4e",
   "metadata": {},
   "outputs": [
    {
     "data": {
      "text/plain": [
       "14"
      ]
     },
     "execution_count": 111,
     "metadata": {},
     "output_type": "execute_result"
    }
   ],
   "source": [
    "len(list(map(lambda row: (row[2], row[3]), filter(lambda row:  80 < row[3], students))))"
   ]
  },
  {
   "cell_type": "code",
   "execution_count": 112,
   "id": "069871aa",
   "metadata": {},
   "outputs": [
    {
     "name": "stdout",
     "output_type": "stream",
     "text": [
      "('Larson', 'Melissa', 'larsonmeli', 24, 89, 31)\n",
      "('Novak', 'Melissa', 'novakmeli', 77, 3, 38)\n"
     ]
    }
   ],
   "source": [
    "for ele in filter(lambda row: row[1] == 'Melissa', students):\n",
    "    print(ele)"
   ]
  },
  {
   "cell_type": "code",
   "execution_count": 114,
   "id": "2638828a",
   "metadata": {},
   "outputs": [
    {
     "name": "stdout",
     "output_type": "stream",
     "text": [
      "('Larson', 'Melissa', 'larsonmeli', 24, 89, 31)\n",
      "('Novak', 'Melissa', 'novakmeli', 77, 3, 38)\n",
      "('Wade', 'Stephanie', 'wadestep', 9, 69, 31)\n",
      "('Oliver', 'Alex', 'oliveralex', 61, 22, 6)\n",
      "('Sellers', 'Stephanie', 'sellersstep', 11, 83, 76)\n"
     ]
    }
   ],
   "source": [
    "for ele in filter(lambda row: row[1] in ['Melissa', 'Stephanie', 'Alex'], students):\n",
    "    print(ele)"
   ]
  },
  {
   "cell_type": "code",
   "execution_count": 115,
   "id": "e2a369d4",
   "metadata": {},
   "outputs": [
    {
     "name": "stdout",
     "output_type": "stream",
     "text": [
      "('Oliver', 'Alex', 'oliveralex', 61, 22, 6)\n",
      "('Hull', 'Alexandra', 'hullalex', 38, 7, 42)\n",
      "('Baird', 'Alexandra', 'bairdalex', 32, 90, 71)\n",
      "('Bush', 'Alexander', 'bushalex', 82, 54, 25)\n"
     ]
    }
   ],
   "source": [
    "for ele in filter(lambda row: row[1].startswith('Alex'), students):\n",
    "    print(ele)"
   ]
  },
  {
   "cell_type": "code",
   "execution_count": 116,
   "id": "7f78a7c4",
   "metadata": {},
   "outputs": [
    {
     "name": "stdout",
     "output_type": "stream",
     "text": [
      "('Lozano', 'Catherine', 'lozanocath', 71, 19, 94)\n",
      "('Bowen', 'Katherine', 'bowenkath', 57, 61, 34)\n",
      "('Parrish', 'Nathan', 'parrishnath', 47, 92, 45)\n",
      "('Dominguez', 'Kathryn', 'dominguezkath', 21, 82, 31)\n",
      "('Fernandez', 'Jonathan', 'fernandezjona', 74, 80, 22)\n"
     ]
    }
   ],
   "source": [
    "for ele in filter(lambda row: 'ath' in row[1], students):\n",
    "    print(ele)"
   ]
  },
  {
   "cell_type": "code",
   "execution_count": 120,
   "id": "b88a2a03",
   "metadata": {},
   "outputs": [],
   "source": [
    "from collections import Counter\n",
    "\n",
    "c = list((map(lambda row: row[3], students)))\n",
    "\n",
    "exam = Counter(c)"
   ]
  },
  {
   "cell_type": "code",
   "execution_count": 121,
   "id": "e040b8ea",
   "metadata": {},
   "outputs": [
    {
     "name": "stdout",
     "output_type": "stream",
     "text": [
      "Counter({52: 5, 59: 4, 37: 4, 77: 3, 61: 3, 41: 3, 25: 3, 66: 3, 78: 3, 18: 3, 64: 2, 85: 2, 29: 2, 16: 2, 3: 2, 6: 2, 57: 2, 47: 2, 73: 2, 99: 2, 22: 2, 15: 2, 82: 2, 24: 1, 81: 1, 80: 1, 34: 1, 79: 1, 72: 1, 71: 1, 30: 1, 84: 1, 50: 1, 28: 1, 27: 1, 21: 1, 94: 1, 93: 1, 91: 1, 67: 1, 53: 1, 89: 1, 9: 1, 20: 1, 75: 1, 70: 1, 10: 1, 48: 1, 87: 1, 38: 1, 95: 1, 32: 1, 36: 1, 43: 1, 2: 1, 54: 1, 33: 1, 26: 1, 23: 1, 65: 1, 11: 1, 44: 1, 74: 1})\n"
     ]
    }
   ],
   "source": [
    "print(exam)"
   ]
  },
  {
   "cell_type": "code",
   "execution_count": 122,
   "id": "ce955e9c",
   "metadata": {},
   "outputs": [
    {
     "name": "stdout",
     "output_type": "stream",
     "text": [
      "Counter({'Michael': 5, 'John': 3, 'Christopher': 3, 'Patrick': 3, 'Melissa': 2, 'Marcus': 2, 'Janice': 2, 'David': 2, 'Linda': 2, 'Robert': 2, 'Jennifer': 2, 'Michelle': 2, 'Lisa': 2, 'James': 2, 'Stephanie': 2, 'Alexandra': 2, 'Jessica': 2, 'Brian': 2, 'Wendy': 1, 'Nicholas': 1, 'Brenda': 1, 'Charlene': 1, 'Bradley': 1, 'Eugene': 1, 'Mary': 1, 'Kimberly': 1, 'Philip': 1, 'Madeline': 1, 'Cassie': 1, 'Glenn': 1, 'Catherine': 1, 'Elizabeth': 1, 'Katherine': 1, 'Edward': 1, 'Debra': 1, 'Carlos': 1, 'Nathan': 1, 'Amanda': 1, 'Kathryn': 1, 'Paige': 1, 'Jerome': 1, 'Andre': 1, 'Paul': 1, 'Kelli': 1, 'Troy': 1, 'Sarah': 1, 'Rebecca': 1, 'Joel': 1, 'Cody': 1, 'Rachel': 1, 'Alex': 1, 'Shannon': 1, 'Vanessa': 1, 'Diana': 1, 'Brandon': 1, 'Matthew': 1, 'Judy': 1, 'Samuel': 1, 'Carmen': 1, 'Luis': 1, 'Dawn': 1, 'Tammy': 1, 'Angela': 1, 'Austin': 1, 'Carol': 1, 'Shawn': 1, 'Kristen': 1, 'Brandy': 1, 'Mariah': 1, 'Brianna': 1, 'Jon': 1, 'Wayne': 1, 'Andrew': 1, 'Alexander': 1, 'Sandra': 1, 'Jonathan': 1})\n"
     ]
    }
   ],
   "source": [
    "from collections import Counter\n",
    "\n",
    "c = list((map(lambda row: row[1], students)))\n",
    "\n",
    "names = Counter(c)\n",
    "print(names)"
   ]
  },
  {
   "cell_type": "code",
   "execution_count": null,
   "id": "bab194ba",
   "metadata": {},
   "outputs": [],
   "source": []
  }
 ],
 "metadata": {
  "kernelspec": {
   "display_name": "Python 3 (ipykernel)",
   "language": "python",
   "name": "python3"
  },
  "language_info": {
   "codemirror_mode": {
    "name": "ipython",
    "version": 3
   },
   "file_extension": ".py",
   "mimetype": "text/x-python",
   "name": "python",
   "nbconvert_exporter": "python",
   "pygments_lexer": "ipython3",
   "version": "3.8.5"
  }
 },
 "nbformat": 4,
 "nbformat_minor": 5
}
