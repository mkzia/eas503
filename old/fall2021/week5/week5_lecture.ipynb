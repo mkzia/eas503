{
 "cells": [
  {
   "cell_type": "code",
   "execution_count": 1,
   "id": "fbaa18b3",
   "metadata": {},
   "outputs": [
    {
     "ename": "NameError",
     "evalue": "name 'sequence' is not defined",
     "output_type": "error",
     "traceback": [
      "\u001b[1;31m---------------------------------------------------------------------------\u001b[0m",
      "\u001b[1;31mNameError\u001b[0m                                 Traceback (most recent call last)",
      "\u001b[1;32m~\\AppData\\Local\\Temp/ipykernel_17060/3151630969.py\u001b[0m in \u001b[0;36m<module>\u001b[1;34m\u001b[0m\n\u001b[1;32m----> 1\u001b[1;33m \u001b[1;33m[\u001b[0m \u001b[0mf\u001b[0m\u001b[1;33m(\u001b[0m\u001b[0mele\u001b[0m\u001b[1;33m)\u001b[0m \u001b[1;32mfor\u001b[0m \u001b[0mele\u001b[0m \u001b[1;32min\u001b[0m \u001b[0msequence\u001b[0m \u001b[1;33m]\u001b[0m\u001b[1;33m\u001b[0m\u001b[1;33m\u001b[0m\u001b[0m\n\u001b[0m",
      "\u001b[1;31mNameError\u001b[0m: name 'sequence' is not defined"
     ]
    }
   ],
   "source": [
    "[ f(ele) for ele in sequence ]"
   ]
  },
  {
   "cell_type": "code",
   "execution_count": 2,
   "id": "a1737255",
   "metadata": {},
   "outputs": [
    {
     "data": {
      "text/plain": [
       "[0, 1, 4, 9, 16]"
      ]
     },
     "execution_count": 2,
     "metadata": {},
     "output_type": "execute_result"
    }
   ],
   "source": [
    "sequence = range(5)\n",
    "def f(x):\n",
    "    y = x * x\n",
    "    return y\n",
    "\n",
    "my_list = []\n",
    "for ele in sequence:\n",
    "    my_list.append(f(ele))\n",
    "    \n",
    "my_list"
   ]
  },
  {
   "cell_type": "code",
   "execution_count": 3,
   "id": "16179a78",
   "metadata": {},
   "outputs": [
    {
     "data": {
      "text/plain": [
       "[0, 1, 4, 9, 16]"
      ]
     },
     "execution_count": 3,
     "metadata": {},
     "output_type": "execute_result"
    }
   ],
   "source": [
    "my_list_comp = [ f(ele) for ele in sequence ]\n",
    "\n",
    "my_list_comp"
   ]
  },
  {
   "cell_type": "code",
   "execution_count": 5,
   "id": "746c4077",
   "metadata": {},
   "outputs": [
    {
     "data": {
      "text/plain": [
       "[0, 1, 4, 9, 16]"
      ]
     },
     "execution_count": 5,
     "metadata": {},
     "output_type": "execute_result"
    }
   ],
   "source": [
    "my_list_comp = [ele * ele for ele in sequence ]\n",
    "my_list_comp"
   ]
  },
  {
   "cell_type": "code",
   "execution_count": 6,
   "id": "890a9602",
   "metadata": {},
   "outputs": [
    {
     "ename": "NameError",
     "evalue": "name 'condition' is not defined",
     "output_type": "error",
     "traceback": [
      "\u001b[1;31m---------------------------------------------------------------------------\u001b[0m",
      "\u001b[1;31mNameError\u001b[0m                                 Traceback (most recent call last)",
      "\u001b[1;32m~\\AppData\\Local\\Temp/ipykernel_17060/1000743995.py\u001b[0m in \u001b[0;36m<module>\u001b[1;34m\u001b[0m\n\u001b[1;32m----> 1\u001b[1;33m \u001b[1;33m[\u001b[0m \u001b[0mf\u001b[0m\u001b[1;33m(\u001b[0m\u001b[0mele\u001b[0m\u001b[1;33m)\u001b[0m \u001b[1;32mfor\u001b[0m \u001b[0mele\u001b[0m \u001b[1;32min\u001b[0m \u001b[0msequence\u001b[0m \u001b[1;32mif\u001b[0m \u001b[0mcondition\u001b[0m \u001b[1;33m]\u001b[0m\u001b[1;33m\u001b[0m\u001b[1;33m\u001b[0m\u001b[0m\n\u001b[0m",
      "\u001b[1;32m~\\AppData\\Local\\Temp/ipykernel_17060/1000743995.py\u001b[0m in \u001b[0;36m<listcomp>\u001b[1;34m(.0)\u001b[0m\n\u001b[1;32m----> 1\u001b[1;33m \u001b[1;33m[\u001b[0m \u001b[0mf\u001b[0m\u001b[1;33m(\u001b[0m\u001b[0mele\u001b[0m\u001b[1;33m)\u001b[0m \u001b[1;32mfor\u001b[0m \u001b[0mele\u001b[0m \u001b[1;32min\u001b[0m \u001b[0msequence\u001b[0m \u001b[1;32mif\u001b[0m \u001b[0mcondition\u001b[0m \u001b[1;33m]\u001b[0m\u001b[1;33m\u001b[0m\u001b[1;33m\u001b[0m\u001b[0m\n\u001b[0m",
      "\u001b[1;31mNameError\u001b[0m: name 'condition' is not defined"
     ]
    }
   ],
   "source": [
    "[ f(ele) for ele in sequence if condition ]"
   ]
  },
  {
   "cell_type": "code",
   "execution_count": 7,
   "id": "1dab4516",
   "metadata": {},
   "outputs": [
    {
     "data": {
      "text/plain": [
       "[2, 4, 6, 8, 10, 12, 14, 16, 18, 20]"
      ]
     },
     "execution_count": 7,
     "metadata": {},
     "output_type": "execute_result"
    }
   ],
   "source": [
    "sequence = range(1,21)\n",
    "\n",
    "even = [ number for number in sequence if number % 2 == 0]\n",
    "even"
   ]
  },
  {
   "cell_type": "code",
   "execution_count": 8,
   "id": "5e6a7330",
   "metadata": {},
   "outputs": [
    {
     "data": {
      "text/plain": [
       "[1, 3, 5, 7, 9, 11, 13, 15, 17, 19]"
      ]
     },
     "execution_count": 8,
     "metadata": {},
     "output_type": "execute_result"
    }
   ],
   "source": [
    "sequence = range(1,21)\n",
    "\n",
    "odd = [ number for number in sequence if number % 2 != 0]\n",
    "odd"
   ]
  },
  {
   "cell_type": "code",
   "execution_count": 9,
   "id": "f89d0d42",
   "metadata": {},
   "outputs": [
    {
     "ename": "NameError",
     "evalue": "name 'condition' is not defined",
     "output_type": "error",
     "traceback": [
      "\u001b[1;31m---------------------------------------------------------------------------\u001b[0m",
      "\u001b[1;31mNameError\u001b[0m                                 Traceback (most recent call last)",
      "\u001b[1;32m~\\AppData\\Local\\Temp/ipykernel_17060/4002114161.py\u001b[0m in \u001b[0;36m<module>\u001b[1;34m\u001b[0m\n\u001b[1;32m----> 1\u001b[1;33m \u001b[1;33m[\u001b[0m \u001b[0mf\u001b[0m\u001b[1;33m(\u001b[0m\u001b[0mele\u001b[0m\u001b[1;33m)\u001b[0m \u001b[1;32mif\u001b[0m \u001b[0mcondition\u001b[0m \u001b[1;32melse\u001b[0m \u001b[0mg\u001b[0m\u001b[1;33m(\u001b[0m\u001b[0mele\u001b[0m\u001b[1;33m)\u001b[0m \u001b[1;32mfor\u001b[0m \u001b[0mele\u001b[0m \u001b[1;32min\u001b[0m \u001b[0msequence\u001b[0m \u001b[1;33m]\u001b[0m\u001b[1;33m\u001b[0m\u001b[1;33m\u001b[0m\u001b[0m\n\u001b[0m",
      "\u001b[1;32m~\\AppData\\Local\\Temp/ipykernel_17060/4002114161.py\u001b[0m in \u001b[0;36m<listcomp>\u001b[1;34m(.0)\u001b[0m\n\u001b[1;32m----> 1\u001b[1;33m \u001b[1;33m[\u001b[0m \u001b[0mf\u001b[0m\u001b[1;33m(\u001b[0m\u001b[0mele\u001b[0m\u001b[1;33m)\u001b[0m \u001b[1;32mif\u001b[0m \u001b[0mcondition\u001b[0m \u001b[1;32melse\u001b[0m \u001b[0mg\u001b[0m\u001b[1;33m(\u001b[0m\u001b[0mele\u001b[0m\u001b[1;33m)\u001b[0m \u001b[1;32mfor\u001b[0m \u001b[0mele\u001b[0m \u001b[1;32min\u001b[0m \u001b[0msequence\u001b[0m \u001b[1;33m]\u001b[0m\u001b[1;33m\u001b[0m\u001b[1;33m\u001b[0m\u001b[0m\n\u001b[0m",
      "\u001b[1;31mNameError\u001b[0m: name 'condition' is not defined"
     ]
    }
   ],
   "source": [
    "[ f(ele) if condition else g(ele) for ele in sequence ]"
   ]
  },
  {
   "cell_type": "code",
   "execution_count": 13,
   "id": "be005562",
   "metadata": {},
   "outputs": [
    {
     "data": {
      "text/plain": [
       "[(1, 1),\n",
       " (2, 4),\n",
       " (3, 27),\n",
       " (4, 16),\n",
       " (5, 125),\n",
       " (6, 36),\n",
       " (7, 343),\n",
       " (8, 64),\n",
       " (9, 729),\n",
       " (10, 100),\n",
       " (11, 1331),\n",
       " (12, 144),\n",
       " (13, 2197),\n",
       " (14, 196),\n",
       " (15, 3375),\n",
       " (16, 256),\n",
       " (17, 4913),\n",
       " (18, 324),\n",
       " (19, 6859),\n",
       " (20, 400)]"
      ]
     },
     "execution_count": 13,
     "metadata": {},
     "output_type": "execute_result"
    }
   ],
   "source": [
    "def square(x):\n",
    "    return x * x\n",
    "\n",
    "def cube(x):\n",
    "    return x * x * x\n",
    " \n",
    "sequence = range(1,21)\n",
    "\n",
    "result = [ (number, square(number)) if number % 2 == 0 else (number, cube(number)) for number in sequence]\n",
    "result"
   ]
  },
  {
   "cell_type": "code",
   "execution_count": 14,
   "id": "b24bc9ab",
   "metadata": {},
   "outputs": [
    {
     "data": {
      "text/plain": [
       "[1, 4, 9]"
      ]
     },
     "execution_count": 14,
     "metadata": {},
     "output_type": "execute_result"
    }
   ],
   "source": [
    " # list_comp_ex1.py\n",
    "# Re-write the following code to use List Comprehension\n",
    "# my_list = [1, 2, 3]\n",
    "# new_list = []\n",
    "# for ele in my_list:\n",
    "#     tmp = ele * ele\n",
    "#     new_list.append(tmp)\n",
    "\n",
    "my_list = [1, 2, 3]\n",
    "result = [ ele*ele for ele in my_list]\n",
    "result"
   ]
  },
  {
   "cell_type": "code",
   "execution_count": 15,
   "id": "0ca2cbf8",
   "metadata": {},
   "outputs": [
    {
     "data": {
      "text/plain": [
       "[10, 20, 30]"
      ]
     },
     "execution_count": 15,
     "metadata": {},
     "output_type": "execute_result"
    }
   ],
   "source": [
    "# list_comp_ex2.py\n",
    "# Re-write the following code to use List Comprehension\n",
    "# # Multiply each number by 10\n",
    "\n",
    "# my_list = [1, 2, 3]\n",
    "# new_list = []\n",
    "# for ele in my_list:\n",
    "#     tmp = ele * 10\n",
    "#     new_list.append(tmp)\n",
    "\n",
    "\n",
    "my_list = [1, 2, 3]\n",
    "result = [ ele*10 for ele in my_list]\n",
    "result"
   ]
  },
  {
   "cell_type": "code",
   "execution_count": 18,
   "id": "9484ca84",
   "metadata": {},
   "outputs": [
    {
     "data": {
      "text/plain": [
       "'BUFFALO'"
      ]
     },
     "execution_count": 18,
     "metadata": {},
     "output_type": "execute_result"
    }
   ],
   "source": [
    "# list_comp_ex3.py\n",
    "# Upper case each letter in animal variable\n",
    "\n",
    "# # Works with any type of sequence\n",
    "\n",
    "animal = 'buffalo'\n",
    "\n",
    "result = [ char.upper() for char in animal]\n",
    "result = ''.join(result)\n",
    "result"
   ]
  },
  {
   "cell_type": "code",
   "execution_count": 19,
   "id": "144d056f",
   "metadata": {},
   "outputs": [
    {
     "data": {
      "text/plain": [
       "'BUFFALO'"
      ]
     },
     "execution_count": 19,
     "metadata": {},
     "output_type": "execute_result"
    }
   ],
   "source": [
    "animal.upper()"
   ]
  },
  {
   "cell_type": "code",
   "execution_count": 20,
   "id": "a795313e",
   "metadata": {},
   "outputs": [
    {
     "data": {
      "text/plain": [
       "['John', 'Jane', 'Doe']"
      ]
     },
     "execution_count": 20,
     "metadata": {},
     "output_type": "execute_result"
    }
   ],
   "source": [
    "students = ['john', 'jane', 'doe']\n",
    "\n",
    "result = [ student.title() for student in students]\n",
    "result"
   ]
  },
  {
   "cell_type": "code",
   "execution_count": 21,
   "id": "82e50cc5",
   "metadata": {},
   "outputs": [
    {
     "data": {
      "text/plain": [
       "[False, False, False]"
      ]
     },
     "execution_count": 21,
     "metadata": {},
     "output_type": "execute_result"
    }
   ],
   "source": [
    "my_list = [0, '', []]\n",
    "\n",
    "result = [ True if ele else False for ele in my_list ]\n",
    "result"
   ]
  },
  {
   "cell_type": "code",
   "execution_count": 24,
   "id": "6d50af5c",
   "metadata": {},
   "outputs": [
    {
     "data": {
      "text/plain": [
       "[(0, False),\n",
       " (0.0, False),\n",
       " ('0', True),\n",
       " ('', False),\n",
       " ([], False),\n",
       " ((), False),\n",
       " ({}, False),\n",
       " (1, True),\n",
       " (3.14, True),\n",
       " (True, True),\n",
       " (False, False),\n",
       " (None, False)]"
      ]
     },
     "execution_count": 24,
     "metadata": {},
     "output_type": "execute_result"
    }
   ],
   "source": [
    "my_list = [0, 0.0, '0', '', [], (), {}, 1, 3.14, True, False, None]\n",
    "\n",
    "result = [ (ele, True) if ele else (ele, False) for ele in my_list ]\n",
    "result\n"
   ]
  },
  {
   "cell_type": "code",
   "execution_count": 25,
   "id": "f7b39655",
   "metadata": {},
   "outputs": [
    {
     "data": {
      "text/plain": [
       "['0', '1', '2', '3', '4', '5']"
      ]
     },
     "execution_count": 25,
     "metadata": {},
     "output_type": "execute_result"
    }
   ],
   "source": [
    "my_list = range(6)\n",
    "\n",
    "result = [ str(number) for number in my_list]\n",
    "result"
   ]
  },
  {
   "cell_type": "code",
   "execution_count": 26,
   "id": "632f9927",
   "metadata": {},
   "outputs": [
    {
     "data": {
      "text/plain": [
       "[0, 1, 2, 27, 4, 125, 6, 343, 8, 729]"
      ]
     },
     "execution_count": 26,
     "metadata": {},
     "output_type": "execute_result"
    }
   ],
   "source": [
    "numbers = range(10)\n",
    "\n",
    "result = [ number if number % 2 == 0 else number**3 for number in numbers ]\n",
    "result"
   ]
  },
  {
   "cell_type": "code",
   "execution_count": 30,
   "id": "488f9f29",
   "metadata": {},
   "outputs": [
    {
     "data": {
      "text/plain": [
       "'rlly wnt t g t wRK'"
      ]
     },
     "execution_count": 30,
     "metadata": {},
     "output_type": "execute_result"
    }
   ],
   "source": [
    "sentence = 'I rEAlly want to gO to woRK'\n",
    "vowels = ['a', 'e', 'i', 'o', 'u']\n",
    "\n",
    "result = ''.join([ char for char in sentence if char.lower() not in vowels]).strip()\n",
    "result"
   ]
  },
  {
   "cell_type": "code",
   "execution_count": 31,
   "id": "61de2d3b",
   "metadata": {},
   "outputs": [
    {
     "data": {
      "text/plain": [
       "{0, 2, 4, 6, 8}"
      ]
     },
     "execution_count": 31,
     "metadata": {},
     "output_type": "execute_result"
    }
   ],
   "source": [
    "A = {0, 2,    4, 6, 8};\n",
    "B = {1, 2, 3, 4, 5};\n",
    "\n",
    "A"
   ]
  },
  {
   "cell_type": "code",
   "execution_count": 35,
   "id": "0c7f685f",
   "metadata": {},
   "outputs": [],
   "source": [
    "result = A | B\n"
   ]
  },
  {
   "cell_type": "code",
   "execution_count": 36,
   "id": "10bd5c75",
   "metadata": {},
   "outputs": [
    {
     "data": {
      "text/plain": [
       "[0, 1, 2, 3, 4, 5, 6, 8]"
      ]
     },
     "execution_count": 36,
     "metadata": {},
     "output_type": "execute_result"
    }
   ],
   "source": [
    "list(result)"
   ]
  },
  {
   "cell_type": "code",
   "execution_count": 37,
   "id": "e3499220",
   "metadata": {},
   "outputs": [
    {
     "data": {
      "text/plain": [
       "{2, 4}"
      ]
     },
     "execution_count": 37,
     "metadata": {},
     "output_type": "execute_result"
    }
   ],
   "source": [
    "A & B"
   ]
  },
  {
   "cell_type": "code",
   "execution_count": 38,
   "id": "b249db5f",
   "metadata": {},
   "outputs": [
    {
     "data": {
      "text/plain": [
       "{0, 6, 8}"
      ]
     },
     "execution_count": 38,
     "metadata": {},
     "output_type": "execute_result"
    }
   ],
   "source": [
    "A - B"
   ]
  },
  {
   "cell_type": "code",
   "execution_count": 39,
   "id": "811193d7",
   "metadata": {},
   "outputs": [
    {
     "data": {
      "text/plain": [
       "{1, 3, 5}"
      ]
     },
     "execution_count": 39,
     "metadata": {},
     "output_type": "execute_result"
    }
   ],
   "source": [
    "B - A"
   ]
  },
  {
   "cell_type": "code",
   "execution_count": 42,
   "id": "710c9230",
   "metadata": {},
   "outputs": [],
   "source": [
    "my_list = [1, 1, 2, 3]"
   ]
  },
  {
   "cell_type": "code",
   "execution_count": 43,
   "id": "caf22187",
   "metadata": {},
   "outputs": [
    {
     "data": {
      "text/plain": [
       "[1, 2, 3]"
      ]
     },
     "execution_count": 43,
     "metadata": {},
     "output_type": "execute_result"
    }
   ],
   "source": [
    "new_list = []\n",
    "for ele in my_list:\n",
    "    if ele not in new_list:\n",
    "        new_list.append(ele)\n",
    "new_list"
   ]
  },
  {
   "cell_type": "code",
   "execution_count": 44,
   "id": "62bc7225",
   "metadata": {},
   "outputs": [
    {
     "data": {
      "text/plain": [
       "{1, 2, 3}"
      ]
     },
     "execution_count": 44,
     "metadata": {},
     "output_type": "execute_result"
    }
   ],
   "source": [
    "set(my_list)"
   ]
  },
  {
   "cell_type": "code",
   "execution_count": 46,
   "id": "78bd8d0c",
   "metadata": {},
   "outputs": [
    {
     "data": {
      "text/plain": [
       "[1, 2, 3]"
      ]
     },
     "execution_count": 46,
     "metadata": {},
     "output_type": "execute_result"
    }
   ],
   "source": [
    "my_list_set = list(set(my_list))\n",
    "my_list_set"
   ]
  },
  {
   "cell_type": "code",
   "execution_count": 47,
   "id": "10241929",
   "metadata": {},
   "outputs": [
    {
     "data": {
      "text/plain": [
       "{1, 2, 3}"
      ]
     },
     "execution_count": 47,
     "metadata": {},
     "output_type": "execute_result"
    }
   ],
   "source": [
    "my_set = set(my_list)\n",
    "my_set"
   ]
  },
  {
   "cell_type": "code",
   "execution_count": 49,
   "id": "b3cc9d39",
   "metadata": {},
   "outputs": [
    {
     "data": {
      "text/plain": [
       "{1, 2, 3}"
      ]
     },
     "execution_count": 49,
     "metadata": {},
     "output_type": "execute_result"
    }
   ],
   "source": [
    "my_set.add(1)\n",
    "my_set"
   ]
  },
  {
   "cell_type": "code",
   "execution_count": 50,
   "id": "a41003ff",
   "metadata": {},
   "outputs": [
    {
     "data": {
      "text/plain": [
       "{1, 2, 3, 4}"
      ]
     },
     "execution_count": 50,
     "metadata": {},
     "output_type": "execute_result"
    }
   ],
   "source": [
    "my_set.add(4)\n",
    "my_set"
   ]
  },
  {
   "cell_type": "code",
   "execution_count": 51,
   "id": "6bc15fe0",
   "metadata": {},
   "outputs": [
    {
     "data": {
      "text/plain": [
       "{1, 2, 3}"
      ]
     },
     "execution_count": 51,
     "metadata": {},
     "output_type": "execute_result"
    }
   ],
   "source": [
    "my_set.remove(4)\n",
    "my_set"
   ]
  },
  {
   "cell_type": "code",
   "execution_count": 54,
   "id": "b5c43b37",
   "metadata": {},
   "outputs": [
    {
     "name": "stdout",
     "output_type": "stream",
     "text": [
      "{'ACSL3', 'ABCG4', 'ACTR3B', 'ABHD3', 'ABHD6', 'ACTL10', 'AANAT', 'ACOD1', 'ABCB4', 'ACTR5', 'ABCA6', 'ACVR2A', 'ABHD10', 'ACTR8', 'ACSM3', 'ABCA9', 'ABCB10', 'ACSM1', 'ACTG2', 'A3GALT2', 'ACKR1', 'AAAS', 'ACHE', 'ABCG2', 'ACTA1', 'ABCA2', 'ACSL5', 'ACD', 'AAGAB', 'ACY3', 'ABCB7', 'ABCB9', 'ABCF3', 'AASDHPPT', 'ABCC2', 'A4GALT', 'ABCG5', 'ACER1', 'ABCA5', 'ACOT13', 'ACTN2', 'ACYP2', 'ACVR1B', 'ABCC10', 'ACOX2', 'ABCC9', 'ACSS1', 'ACLY', 'ABCA7', 'ACOX1', 'ACSF2', 'A2ML1', 'ABCB6', 'ABCA13', 'ABCC12', 'ACER3', 'ACIN1', 'ABCB1', 'ABHD8', 'ABCA10', 'ACP3', 'ACSBG2', 'ACTRT2', 'AARS1', 'ACOT1', 'ACRBP', 'ABCE1', 'AAR2', 'ACSL1', 'ACP5', 'ACER2', 'ACRV1', 'ACTRT3', 'ACOT2', 'AARS2', 'ABCC6', 'ACP4', 'ACO1', 'ABCA12', 'AATK', 'ACOT7', 'ABCC11', 'ACTL8', 'ACTL6B', 'ABHD4', 'ACSL4', 'ACVR2B', 'ACSS3', 'AAMDC', 'ACSF3', 'ACE2', 'A1CF', 'ABHD2', 'ABCB11', 'ABCB8', 'AARSD1', 'AADACL3', 'ACOT8', 'ACSM4', 'ABHD5', 'ACTG1', 'A4GNT', 'ACTN4', 'A1BG', 'ACVR1C', 'ACTR1A', 'AARD', 'ACTR10', 'AAMP', 'ACP7', 'ACSM2B', 'ACKR3', 'AAK1', 'AADACL2', 'ACE', 'ABCD2', 'AADAC', 'ACTBL2', 'ABCG1', 'ACVR1', 'ACP6', 'ACSS2', 'ACTL7A', 'ACKR4', 'ABCC5', 'ACO2', 'ABCC4', 'AADACL4', 'AACS', 'ACOT6', 'ACTR2', 'ABCA4', 'ABCA1', 'ACMSD', 'AASDH', 'AADAT', 'ABAT', 'ACTA2', 'ACTB', 'ACTRT1', 'ACOX3', 'ABCC8', 'ABCD4', 'ABCF2', 'ACSM6', 'ACR', 'ACTL6A', 'ABCC3', 'ABCA8', 'ACTR1B', 'ACSM5', 'ACTL9', 'ACP2', 'ACTL7B', 'ABCD3', 'ACTR3', 'ACVRL1', 'ACKR2', 'ACOT11', 'ACOT4', 'ABCD1', 'ACSBG1', 'A2M', 'ACP1', 'ABCF1', 'ABCA3', 'ABHD1', 'ACTR3C', 'ACOXL', 'AASS', 'ACTN3', 'ADA', 'AATF', 'ABCB5', 'ACTN1', 'ACTR6', 'ABCC1', 'ACOT9', 'ACOT12', 'ACYP1', 'ABCG8', 'ACSL6', 'ACTC1', 'ACY1', 'ACSM2A'}\n",
      "{'ZNF774', 'ZSCAN5A', 'ZNF777', 'ZSCAN21', 'ZNF837', 'ZSCAN16', 'ZNF862', 'ZSCAN30', 'ZNF786', 'ZNF793', 'ZNF717', 'ZNF790', 'ZRANB3', 'ZSCAN1', 'ZNF860', 'ZNF771', 'ZSCAN26', 'ZNF821', 'ZNF778', 'ZNF799', 'ZSWIM4', 'ZNF839', 'ZNRF2', 'ZPLD1', 'ZNF716', 'ZSCAN31', 'ZNF718', 'ZSCAN5B', 'ZNF891', 'ZNFX1', 'ZNF829', 'ZUP1', 'ZNF816', 'ZNF780B', 'ZSCAN12', 'ZNF879', 'ZNF827', 'ZSCAN18', 'ZNF735', 'ZSCAN23', 'ZNRD2', 'ZNF772', 'ZNHIT3', 'ZNF835', 'ZNF732', 'ZSCAN9', 'ZSCAN4', 'ZP3', 'ZNF836', 'ZNF738', 'ZNRF4', 'ZNF787', 'ZNF736', 'ZNF768', 'ZNF845', 'ZNF765', 'ZSWIM7', 'ZNF805', 'ZSCAN20', 'ZNF776', 'ZNHIT1', 'ZNF773', 'ZNF783', 'ZNF814', 'ZP4', 'ZSWIM1', 'ZNF763', 'ZSWIM6', 'ZNF770', 'ZNF789', 'ZSCAN32', 'ZNF831', 'ZSCAN2', 'ZNF804A', 'ZNF843', 'ZPBP2', 'ZNF878', 'ZNRF3', 'ZSWIM9', 'ZSWIM8', 'ZRANB1', 'ZP2', 'ZRANB2', 'ZNF782', 'ZNF852', 'ZNHIT6', 'ZNF727', 'ZNF883', 'ZPR1', 'ZNF749', 'ZNF813', 'ZNF853', 'ZNF800', 'ZNF844', 'ZNF880', 'ZNF747', 'ZNF865', 'ZRSR2', 'ZNF714', 'ZNF726', 'ZSCAN25', 'ZNF746', 'ZSCAN22', 'ZNF721', 'ZNF737', 'ZNF728', 'ZNRD1', 'ZSWIM3', 'ZSCAN5C', 'ZNF808', 'ZSCAN10', 'ZNF723', 'ZNF766', 'ZNF846', 'ZP1', 'ZNF792', 'ZNF730', 'ZNF781', 'ZNF784', 'ZSWIM5', 'ZNHIT2', 'ZNF720', 'ZNF729', 'ZNF830', 'ZNF761', 'ZNF780A', 'ZNF888', 'ZNF764', 'ZNF750', 'ZNF785', 'ZNF791', 'ZNF775', 'ZNF875', 'ZNF740', 'ZSCAN29', 'ZNF841', 'ZNF804B', 'ZSWIM2', 'ZNF850', 'ZPBP', 'ZNF823', 'ZNRF1', 'ZNF724'}\n"
     ]
    }
   ],
   "source": [
    "# Ex1\n",
    "# Write a function that takes name of two gene files, \n",
    "# reads them, and returns which genes are:\n",
    "# 1) In first file but not in second file\n",
    "# 2) In second file but not in first file\n",
    "\n",
    "\n",
    "\n",
    "\n",
    "def ex1(filename1, filename2):\n",
    "        \n",
    "    file1_set = set()\n",
    "    file2_set = set()\n",
    "    \n",
    "    with open(filename1) as f:\n",
    "        for line in f:\n",
    "            if not line.strip():\n",
    "                continue\n",
    "            file1_set.add(line.strip())\n",
    "            \n",
    "    with open(filename2) as f:\n",
    "        for line in f:\n",
    "            if not line.strip():\n",
    "                continue\n",
    "            file2_set.add(line.strip()) \n",
    "            \n",
    "    \n",
    "    only_in_file1 = file1_set - file2_set\n",
    "    only_in_file2 = file2_set - file1_set\n",
    "    \n",
    "    return (only_in_file1, only_in_file2)\n",
    "    \n",
    "only_in_file1, only_in_file2 = ex1('gene_list1.txt', 'gene_list2.txt')  \n",
    "print(only_in_file1)\n",
    "\n",
    "print(only_in_file2)"
   ]
  },
  {
   "cell_type": "code",
   "execution_count": 55,
   "id": "60b88eb3",
   "metadata": {},
   "outputs": [
    {
     "data": {
      "text/plain": [
       "(('John Doe', 'jdoe@buffalo.edu', 1234, 'Biology'),\n",
       " ('Jane Doe', 'jane@buffalo.edu', 5343, 'Chemistry'))"
      ]
     },
     "execution_count": 55,
     "metadata": {},
     "output_type": "execute_result"
    }
   ],
   "source": [
    "students = (\n",
    "    ('John Doe', 'jdoe@buffalo.edu', 1234, 'Biology'), \n",
    "    ('Jane Doe', 'jane@buffalo.edu', 5343, 'Chemistry'), \n",
    ")\n",
    "\n",
    "students"
   ]
  },
  {
   "cell_type": "code",
   "execution_count": 56,
   "id": "d71c4934",
   "metadata": {},
   "outputs": [
    {
     "data": {
      "text/plain": [
       "[{'Name': 'John Doe',\n",
       "  'Email': 'jdoe@buffalo.edu',\n",
       "  'UBID': 1234,\n",
       "  'Major': 'Biology'},\n",
       " {'Name': 'Jane Doe',\n",
       "  'Email': 'jane@buffalo.edu',\n",
       "  'UBID': 5343,\n",
       "  'Major': 'Chemistry'}]"
      ]
     },
     "execution_count": 56,
     "metadata": {},
     "output_type": "execute_result"
    }
   ],
   "source": [
    "students_dict = [\n",
    "    {\n",
    "        \"Name\": \"John Doe\",\n",
    "        \"Email\": \"jdoe@buffalo.edu\",\n",
    "        \"UBID\": 1234,\n",
    "        \"Major\": \"Biology\"\n",
    "    },\n",
    "    {\n",
    "        \"Name\": \"Jane Doe\",\n",
    "        \"Email\": \"jane@buffalo.edu\",\n",
    "        \"UBID\": 5343,\n",
    "        \"Major\": \"Chemistry\"\n",
    "    }\n",
    "]\n",
    "\n",
    "students_dict"
   ]
  },
  {
   "cell_type": "code",
   "execution_count": 57,
   "id": "4ae7917c",
   "metadata": {},
   "outputs": [
    {
     "name": "stdout",
     "output_type": "stream",
     "text": [
      "{'Name': 'John Doe', 'Email': 'jdoe@buffalo.edu', 'UBID': 1234, 'Major': 'Biology'}\n",
      "{'Name': 'Jane Doe', 'Email': 'jane@buffalo.edu', 'UBID': 5343, 'Major': 'Chemistry'}\n"
     ]
    }
   ],
   "source": [
    "student1 = {'Name': 'John Doe',\n",
    "  'Email': 'jdoe@buffalo.edu',\n",
    "  'UBID': 1234,\n",
    "  'Major': 'Biology'}\n",
    "\n",
    "student2 = {\n",
    "        \"Name\": \"Jane Doe\",\n",
    "        \"Email\": \"jane@buffalo.edu\",\n",
    "        \"UBID\": 5343,\n",
    "        \"Major\": \"Chemistry\"\n",
    "    }\n",
    "\n",
    "print(student1)\n",
    "\n",
    "print(student2)"
   ]
  },
  {
   "cell_type": "code",
   "execution_count": 58,
   "id": "14e1c4e0",
   "metadata": {},
   "outputs": [
    {
     "data": {
      "text/plain": [
       "[{'Name': 'John Doe',\n",
       "  'Email': 'jdoe@buffalo.edu',\n",
       "  'UBID': 1234,\n",
       "  'Major': 'Biology'},\n",
       " {'Name': 'Jane Doe',\n",
       "  'Email': 'jane@buffalo.edu',\n",
       "  'UBID': 5343,\n",
       "  'Major': 'Chemistry'}]"
      ]
     },
     "execution_count": 58,
     "metadata": {},
     "output_type": "execute_result"
    }
   ],
   "source": [
    "students_dict_list = [student1, student2]\n",
    "students_dict_list"
   ]
  },
  {
   "cell_type": "code",
   "execution_count": 59,
   "id": "2d4d3cee",
   "metadata": {},
   "outputs": [
    {
     "data": {
      "text/plain": [
       "{1: 'One', 2: 'Two', 3: 3}"
      ]
     },
     "execution_count": 59,
     "metadata": {},
     "output_type": "execute_result"
    }
   ],
   "source": [
    "# keys can be int, str, tuple, float, bool\n",
    "\n",
    "dict1 = {1: 'One', 2: 'Two', 3: 3}\n",
    "dict1"
   ]
  },
  {
   "cell_type": "code",
   "execution_count": 61,
   "id": "ef65a934",
   "metadata": {},
   "outputs": [
    {
     "data": {
      "text/plain": [
       "{'One': 1, 'Two': 2}"
      ]
     },
     "execution_count": 61,
     "metadata": {},
     "output_type": "execute_result"
    }
   ],
   "source": [
    "dict2 = {'One': 1, 'Two': 2}\n",
    "dict2"
   ]
  },
  {
   "cell_type": "code",
   "execution_count": 62,
   "id": "45118bcd",
   "metadata": {},
   "outputs": [],
   "source": [
    "dict3 = {\n",
    "    (1,2): 'ABC',\n",
    "    (2,3): 'EFG'\n",
    "}"
   ]
  },
  {
   "cell_type": "code",
   "execution_count": 63,
   "id": "72fade42",
   "metadata": {},
   "outputs": [
    {
     "data": {
      "text/plain": [
       "{(1, 2): 'ABC', (2, 3): 'EFG'}"
      ]
     },
     "execution_count": 63,
     "metadata": {},
     "output_type": "execute_result"
    }
   ],
   "source": [
    "dict3"
   ]
  },
  {
   "cell_type": "code",
   "execution_count": 65,
   "id": "81941e79",
   "metadata": {},
   "outputs": [
    {
     "data": {
      "text/plain": [
       "{1.1: 'One', 2: 'Two', 3: 3}"
      ]
     },
     "execution_count": 65,
     "metadata": {},
     "output_type": "execute_result"
    }
   ],
   "source": [
    "dict1 = {1.1: 'One', 2: 'Two', 3: 3}\n",
    "dict1"
   ]
  },
  {
   "cell_type": "code",
   "execution_count": 66,
   "id": "f58436a8",
   "metadata": {},
   "outputs": [],
   "source": [
    "dict2 = {False: 1}"
   ]
  },
  {
   "cell_type": "code",
   "execution_count": 67,
   "id": "67127ea7",
   "metadata": {},
   "outputs": [],
   "source": [
    "dict2 = {True: 1}"
   ]
  },
  {
   "cell_type": "code",
   "execution_count": 68,
   "id": "89b280dc",
   "metadata": {},
   "outputs": [
    {
     "ename": "TypeError",
     "evalue": "unhashable type: 'list'",
     "output_type": "error",
     "traceback": [
      "\u001b[1;31m---------------------------------------------------------------------------\u001b[0m",
      "\u001b[1;31mTypeError\u001b[0m                                 Traceback (most recent call last)",
      "\u001b[1;32m~\\AppData\\Local\\Temp/ipykernel_17060/38945548.py\u001b[0m in \u001b[0;36m<module>\u001b[1;34m\u001b[0m\n\u001b[1;32m----> 1\u001b[1;33m \u001b[0mdict3\u001b[0m \u001b[1;33m=\u001b[0m \u001b[1;33m{\u001b[0m\u001b[1;33m[\u001b[0m\u001b[1;36m1\u001b[0m\u001b[1;33m,\u001b[0m \u001b[1;36m2\u001b[0m\u001b[1;33m]\u001b[0m\u001b[1;33m:\u001b[0m \u001b[1;36m1\u001b[0m\u001b[1;33m}\u001b[0m\u001b[1;33m\u001b[0m\u001b[1;33m\u001b[0m\u001b[0m\n\u001b[0m",
      "\u001b[1;31mTypeError\u001b[0m: unhashable type: 'list'"
     ]
    }
   ],
   "source": [
    "dict3 = {[1, 2]: 1}"
   ]
  },
  {
   "cell_type": "code",
   "execution_count": 69,
   "id": "f7c273f8",
   "metadata": {},
   "outputs": [
    {
     "data": {
      "text/plain": [
       "{'Name': 'John Doe',\n",
       " 'Email': 'jdoe@buffalo.edu',\n",
       " 'UBID': 1234,\n",
       " 'Major': 'Biology'}"
      ]
     },
     "execution_count": 69,
     "metadata": {},
     "output_type": "execute_result"
    }
   ],
   "source": [
    "student1"
   ]
  },
  {
   "cell_type": "code",
   "execution_count": 70,
   "id": "ac26c7a8",
   "metadata": {},
   "outputs": [
    {
     "data": {
      "text/plain": [
       "'John Doe'"
      ]
     },
     "execution_count": 70,
     "metadata": {},
     "output_type": "execute_result"
    }
   ],
   "source": [
    "student1['Name']"
   ]
  },
  {
   "cell_type": "code",
   "execution_count": 71,
   "id": "4619b8d2",
   "metadata": {},
   "outputs": [
    {
     "data": {
      "text/plain": [
       "'jdoe@buffalo.edu'"
      ]
     },
     "execution_count": 71,
     "metadata": {},
     "output_type": "execute_result"
    }
   ],
   "source": [
    "student1['Email']"
   ]
  },
  {
   "cell_type": "code",
   "execution_count": 73,
   "id": "0bfa0a9a",
   "metadata": {},
   "outputs": [
    {
     "name": "stdout",
     "output_type": "stream",
     "text": [
      "Name John Doe\n",
      "Email jdoe@buffalo.edu\n",
      "UBID 1234\n",
      "Major Biology\n"
     ]
    }
   ],
   "source": [
    "for key, value in student1.items():\n",
    "    print(key, value)"
   ]
  },
  {
   "cell_type": "code",
   "execution_count": 74,
   "id": "87221ae0",
   "metadata": {},
   "outputs": [
    {
     "data": {
      "text/plain": [
       "[{'Name': 'John Doe',\n",
       "  'Email': 'jdoe@buffalo.edu',\n",
       "  'UBID': 1234,\n",
       "  'Major': 'Biology'},\n",
       " {'Name': 'Jane Doe',\n",
       "  'Email': 'jane@buffalo.edu',\n",
       "  'UBID': 5343,\n",
       "  'Major': 'Chemistry'}]"
      ]
     },
     "execution_count": 74,
     "metadata": {},
     "output_type": "execute_result"
    }
   ],
   "source": [
    "students_dict_list"
   ]
  },
  {
   "cell_type": "code",
   "execution_count": 75,
   "id": "b3b92935",
   "metadata": {},
   "outputs": [
    {
     "data": {
      "text/plain": [
       "['John Doe', 'Jane Doe']"
      ]
     },
     "execution_count": 75,
     "metadata": {},
     "output_type": "execute_result"
    }
   ],
   "source": [
    "result = [ student['Name'] for student in students_dict_list]\n",
    "result"
   ]
  },
  {
   "cell_type": "code",
   "execution_count": 76,
   "id": "9399e1c3",
   "metadata": {},
   "outputs": [
    {
     "data": {
      "text/plain": [
       "['John Doe', 'Jane Doe']"
      ]
     },
     "execution_count": 76,
     "metadata": {},
     "output_type": "execute_result"
    }
   ],
   "source": [
    "output = []\n",
    "for student in students_dict_list:\n",
    "    for key, value in student.items():\n",
    "        if key == 'Name':\n",
    "            output.append(value)\n",
    "            \n",
    "output"
   ]
  },
  {
   "cell_type": "code",
   "execution_count": 77,
   "id": "490835e3",
   "metadata": {},
   "outputs": [
    {
     "data": {
      "text/plain": [
       "[('John Doe', 'jdoe@buffalo.edu'), ('Jane Doe', 'jane@buffalo.edu')]"
      ]
     },
     "execution_count": 77,
     "metadata": {},
     "output_type": "execute_result"
    }
   ],
   "source": [
    "result = [ (student['Name'], student['Email']) for student in students_dict_list]\n",
    "result\n"
   ]
  },
  {
   "cell_type": "code",
   "execution_count": 78,
   "id": "49e8b956",
   "metadata": {},
   "outputs": [
    {
     "name": "stdout",
     "output_type": "stream",
     "text": [
      "John Doe jdoe@buffalo.edu\n",
      "Jane Doe jane@buffalo.edu\n"
     ]
    }
   ],
   "source": [
    "for name, email in result:\n",
    "    print(name, email)"
   ]
  },
  {
   "cell_type": "code",
   "execution_count": 79,
   "id": "8cdbd139",
   "metadata": {},
   "outputs": [
    {
     "name": "stdout",
     "output_type": "stream",
     "text": [
      "John Doe jdoe@buffalo.edu 1234\n",
      "Jane Doe jane@buffalo.edu 5343\n"
     ]
    }
   ],
   "source": [
    "result = [ (student['Name'], student['Email'], student['UBID']) for student in students_dict_list]\n",
    "for name, email, ubid in result:\n",
    "    print(name, email, ubid)"
   ]
  },
  {
   "cell_type": "code",
   "execution_count": 81,
   "id": "0427f81b",
   "metadata": {},
   "outputs": [
    {
     "data": {
      "text/plain": [
       "{'Name': 'John Doe',\n",
       " 'Email': 'jdoe@buffalo.edu',\n",
       " 'UBID': 1234,\n",
       " 'Major': 'Biology'}"
      ]
     },
     "execution_count": 81,
     "metadata": {},
     "output_type": "execute_result"
    }
   ],
   "source": [
    "student1"
   ]
  },
  {
   "cell_type": "code",
   "execution_count": 82,
   "id": "fdc2ec95",
   "metadata": {},
   "outputs": [
    {
     "data": {
      "text/plain": [
       "'John Doe'"
      ]
     },
     "execution_count": 82,
     "metadata": {},
     "output_type": "execute_result"
    }
   ],
   "source": [
    "student1['Name']"
   ]
  },
  {
   "cell_type": "code",
   "execution_count": 83,
   "id": "6635d46c",
   "metadata": {},
   "outputs": [
    {
     "data": {
      "text/plain": [
       "'John Doe'"
      ]
     },
     "execution_count": 83,
     "metadata": {},
     "output_type": "execute_result"
    }
   ],
   "source": [
    "key = 'Name'\n",
    "student1[key]"
   ]
  },
  {
   "cell_type": "code",
   "execution_count": 84,
   "id": "f99b46c0",
   "metadata": {},
   "outputs": [
    {
     "name": "stdout",
     "output_type": "stream",
     "text": [
      "John Doe\n",
      "jdoe@buffalo.edu\n",
      "1234\n",
      "Biology\n"
     ]
    }
   ],
   "source": [
    "for value in student1.values():\n",
    "    print(value)"
   ]
  },
  {
   "cell_type": "code",
   "execution_count": 85,
   "id": "eefe0a30",
   "metadata": {},
   "outputs": [
    {
     "data": {
      "text/plain": [
       "dict_values(['John Doe', 'jdoe@buffalo.edu', 1234, 'Biology'])"
      ]
     },
     "execution_count": 85,
     "metadata": {},
     "output_type": "execute_result"
    }
   ],
   "source": [
    "student1.values()"
   ]
  },
  {
   "cell_type": "code",
   "execution_count": 86,
   "id": "8708245e",
   "metadata": {},
   "outputs": [
    {
     "name": "stdout",
     "output_type": "stream",
     "text": [
      "Name\n",
      "Email\n",
      "UBID\n",
      "Major\n"
     ]
    }
   ],
   "source": [
    "for key in student1.keys():\n",
    "    print(key)"
   ]
  },
  {
   "cell_type": "code",
   "execution_count": 88,
   "id": "6f19bfea",
   "metadata": {},
   "outputs": [
    {
     "name": "stdout",
     "output_type": "stream",
     "text": [
      "Key: Name; Value: John Doe\n",
      "Key: Email; Value: jdoe@buffalo.edu\n",
      "Key: UBID; Value: 1234\n",
      "Key: Major; Value: Biology\n"
     ]
    }
   ],
   "source": [
    "for key, value in student1.items():\n",
    "    print(f'Key: {key}; Value: {value}')"
   ]
  },
  {
   "cell_type": "code",
   "execution_count": 89,
   "id": "e2811084",
   "metadata": {},
   "outputs": [
    {
     "data": {
      "text/plain": [
       "'Major'"
      ]
     },
     "execution_count": 89,
     "metadata": {},
     "output_type": "execute_result"
    }
   ],
   "source": [
    "key"
   ]
  },
  {
   "cell_type": "code",
   "execution_count": 90,
   "id": "db1f483d",
   "metadata": {},
   "outputs": [
    {
     "data": {
      "text/plain": [
       "True"
      ]
     },
     "execution_count": 90,
     "metadata": {},
     "output_type": "execute_result"
    }
   ],
   "source": [
    "key in student1"
   ]
  },
  {
   "cell_type": "code",
   "execution_count": 91,
   "id": "6669047d",
   "metadata": {},
   "outputs": [
    {
     "data": {
      "text/plain": [
       "False"
      ]
     },
     "execution_count": 91,
     "metadata": {},
     "output_type": "execute_result"
    }
   ],
   "source": [
    "'Minor' in student1"
   ]
  },
  {
   "cell_type": "code",
   "execution_count": 92,
   "id": "689f19b3",
   "metadata": {},
   "outputs": [
    {
     "data": {
      "text/plain": [
       "[{'Name': 'John Doe',\n",
       "  'Email': 'jdoe@buffalo.edu',\n",
       "  'UBID': 1234,\n",
       "  'Major': 'Biology'},\n",
       " {'Name': 'Jane Doe',\n",
       "  'Email': 'jane@buffalo.edu',\n",
       "  'UBID': 5343,\n",
       "  'Major': 'Chemistry'}]"
      ]
     },
     "execution_count": 92,
     "metadata": {},
     "output_type": "execute_result"
    }
   ],
   "source": [
    "students_dict_list"
   ]
  },
  {
   "cell_type": "code",
   "execution_count": 93,
   "id": "2282954b",
   "metadata": {},
   "outputs": [
    {
     "data": {
      "text/plain": [
       "{'Name': 'John Doe',\n",
       " 'Email': 'jdoe@buffalo.edu',\n",
       " 'UBID': 1234,\n",
       " 'Major': 'Biology'}"
      ]
     },
     "execution_count": 93,
     "metadata": {},
     "output_type": "execute_result"
    }
   ],
   "source": [
    "student1"
   ]
  },
  {
   "cell_type": "code",
   "execution_count": 94,
   "id": "18e2b8ad",
   "metadata": {},
   "outputs": [
    {
     "data": {
      "text/plain": [
       "True"
      ]
     },
     "execution_count": 94,
     "metadata": {},
     "output_type": "execute_result"
    }
   ],
   "source": [
    "'John Doe' in student1.values()"
   ]
  },
  {
   "cell_type": "code",
   "execution_count": 95,
   "id": "28c7926e",
   "metadata": {},
   "outputs": [
    {
     "data": {
      "text/plain": [
       "False"
      ]
     },
     "execution_count": 95,
     "metadata": {},
     "output_type": "execute_result"
    }
   ],
   "source": [
    "'John Joe' in student1.values()"
   ]
  },
  {
   "cell_type": "code",
   "execution_count": 96,
   "id": "d7012ea1",
   "metadata": {},
   "outputs": [
    {
     "name": "stdout",
     "output_type": "stream",
     "text": [
      "[1, 2, 4] [1, 2, 4]\n"
     ]
    }
   ],
   "source": [
    "x = [1, 2, 3]\n",
    "\n",
    "y = x\n",
    "\n",
    "x[2] = 4\n",
    "\n",
    "print(x, y)"
   ]
  },
  {
   "cell_type": "code",
   "execution_count": 98,
   "id": "3bdb5bda",
   "metadata": {},
   "outputs": [
    {
     "name": "stdout",
     "output_type": "stream",
     "text": [
      "2697491275264\n",
      "2697491275264\n"
     ]
    }
   ],
   "source": [
    "print(id(x))\n",
    "print(id(y))"
   ]
  },
  {
   "cell_type": "code",
   "execution_count": 99,
   "id": "9d08eb31",
   "metadata": {},
   "outputs": [
    {
     "name": "stdout",
     "output_type": "stream",
     "text": [
      "2697491611072\n"
     ]
    }
   ],
   "source": [
    "y = x.copy()\n",
    "print(id(y))"
   ]
  },
  {
   "cell_type": "code",
   "execution_count": 100,
   "id": "4937f397",
   "metadata": {},
   "outputs": [],
   "source": [
    "y[2] = 3"
   ]
  },
  {
   "cell_type": "code",
   "execution_count": 101,
   "id": "0959eb39",
   "metadata": {},
   "outputs": [
    {
     "name": "stdout",
     "output_type": "stream",
     "text": [
      "[1, 2, 4] [1, 2, 3]\n"
     ]
    }
   ],
   "source": [
    "print(x, y)"
   ]
  },
  {
   "cell_type": "code",
   "execution_count": 102,
   "id": "cda417c3",
   "metadata": {},
   "outputs": [],
   "source": [
    "student2 = student1.copy()"
   ]
  },
  {
   "cell_type": "code",
   "execution_count": 103,
   "id": "5acb385c",
   "metadata": {},
   "outputs": [
    {
     "name": "stdout",
     "output_type": "stream",
     "text": [
      "{'Name': 'John Doe', 'Email': 'jdoe@buffalo.edu', 'UBID': 1234, 'Major': 'Biology'}\n",
      "{'Name': 'Joe Joe', 'Email': 'jdoe@buffalo.edu', 'UBID': 1234, 'Major': 'Biology'}\n"
     ]
    }
   ],
   "source": [
    "student2['Name'] = 'Joe Joe'\n",
    "\n",
    "print(student1)\n",
    "print(student2)"
   ]
  },
  {
   "cell_type": "code",
   "execution_count": 104,
   "id": "b20786d4",
   "metadata": {},
   "outputs": [],
   "source": [
    "new_student = {}.fromkeys(\n",
    "    ['name', 'email', 'id', 'major'], 'missing')"
   ]
  },
  {
   "cell_type": "code",
   "execution_count": 105,
   "id": "2d67c170",
   "metadata": {},
   "outputs": [
    {
     "data": {
      "text/plain": [
       "{'name': 'missing', 'email': 'missing', 'id': 'missing', 'major': 'missing'}"
      ]
     },
     "execution_count": 105,
     "metadata": {},
     "output_type": "execute_result"
    }
   ],
   "source": [
    "new_student"
   ]
  },
  {
   "cell_type": "code",
   "execution_count": 106,
   "id": "b2bc23f6",
   "metadata": {},
   "outputs": [],
   "source": [
    "my_dict = {}.fromkeys(range(5), 'iammissing')"
   ]
  },
  {
   "cell_type": "code",
   "execution_count": 107,
   "id": "78b9a2fe",
   "metadata": {},
   "outputs": [
    {
     "data": {
      "text/plain": [
       "{0: 'iammissing',\n",
       " 1: 'iammissing',\n",
       " 2: 'iammissing',\n",
       " 3: 'iammissing',\n",
       " 4: 'iammissing'}"
      ]
     },
     "execution_count": 107,
     "metadata": {},
     "output_type": "execute_result"
    }
   ],
   "source": [
    "my_dict"
   ]
  },
  {
   "cell_type": "code",
   "execution_count": 108,
   "id": "5306ac38",
   "metadata": {},
   "outputs": [
    {
     "data": {
      "text/plain": [
       "'John Doe'"
      ]
     },
     "execution_count": 108,
     "metadata": {},
     "output_type": "execute_result"
    }
   ],
   "source": [
    "student1.get('Name')"
   ]
  },
  {
   "cell_type": "code",
   "execution_count": 110,
   "id": "686bedbc",
   "metadata": {},
   "outputs": [
    {
     "name": "stdout",
     "output_type": "stream",
     "text": [
      "None <class 'NoneType'>\n"
     ]
    }
   ],
   "source": [
    "result = student1.get('NameS')\n",
    "print(result, type(result))"
   ]
  },
  {
   "cell_type": "code",
   "execution_count": 111,
   "id": "37b581bf",
   "metadata": {},
   "outputs": [
    {
     "name": "stdout",
     "output_type": "stream",
     "text": [
      "N/A\n"
     ]
    }
   ],
   "source": [
    "result = student1.get('NameS', 'N/A')\n",
    "print(result)\n"
   ]
  },
  {
   "cell_type": "code",
   "execution_count": 112,
   "id": "1fded64d",
   "metadata": {},
   "outputs": [
    {
     "name": "stdout",
     "output_type": "stream",
     "text": [
      "John Doe\n"
     ]
    }
   ],
   "source": [
    "result = student1.get('Name', 'N/A')\n",
    "print(result)"
   ]
  },
  {
   "cell_type": "code",
   "execution_count": 113,
   "id": "04e9bdb3",
   "metadata": {},
   "outputs": [
    {
     "data": {
      "text/plain": [
       "'John Doe'"
      ]
     },
     "execution_count": 113,
     "metadata": {},
     "output_type": "execute_result"
    }
   ],
   "source": [
    "key = 'Name'\n",
    "student1[key]"
   ]
  },
  {
   "cell_type": "code",
   "execution_count": 114,
   "id": "7f45ef35",
   "metadata": {},
   "outputs": [
    {
     "ename": "KeyError",
     "evalue": "'NameS'",
     "output_type": "error",
     "traceback": [
      "\u001b[1;31m---------------------------------------------------------------------------\u001b[0m",
      "\u001b[1;31mKeyError\u001b[0m                                  Traceback (most recent call last)",
      "\u001b[1;32m~\\AppData\\Local\\Temp/ipykernel_17060/3059833882.py\u001b[0m in \u001b[0;36m<module>\u001b[1;34m\u001b[0m\n\u001b[0;32m      1\u001b[0m \u001b[0mkey\u001b[0m \u001b[1;33m=\u001b[0m \u001b[1;34m'NameS'\u001b[0m\u001b[1;33m\u001b[0m\u001b[1;33m\u001b[0m\u001b[0m\n\u001b[1;32m----> 2\u001b[1;33m \u001b[0mstudent1\u001b[0m\u001b[1;33m[\u001b[0m\u001b[0mkey\u001b[0m\u001b[1;33m]\u001b[0m\u001b[1;33m\u001b[0m\u001b[1;33m\u001b[0m\u001b[0m\n\u001b[0m",
      "\u001b[1;31mKeyError\u001b[0m: 'NameS'"
     ]
    }
   ],
   "source": [
    "key = 'NameS'\n",
    "student1[key]"
   ]
  },
  {
   "cell_type": "code",
   "execution_count": 115,
   "id": "eebe11d0",
   "metadata": {},
   "outputs": [
    {
     "data": {
      "text/plain": [
       "'John Doe'"
      ]
     },
     "execution_count": 115,
     "metadata": {},
     "output_type": "execute_result"
    }
   ],
   "source": [
    "student1.pop('Name')"
   ]
  },
  {
   "cell_type": "code",
   "execution_count": 116,
   "id": "181fbdf5",
   "metadata": {},
   "outputs": [
    {
     "data": {
      "text/plain": [
       "{'Email': 'jdoe@buffalo.edu', 'UBID': 1234, 'Major': 'Biology'}"
      ]
     },
     "execution_count": 116,
     "metadata": {},
     "output_type": "execute_result"
    }
   ],
   "source": [
    "student1"
   ]
  },
  {
   "cell_type": "code",
   "execution_count": 117,
   "id": "f91db140",
   "metadata": {},
   "outputs": [
    {
     "name": "stdout",
     "output_type": "stream",
     "text": [
      "Biology {'Email': 'jdoe@buffalo.edu', 'UBID': 1234}\n"
     ]
    }
   ],
   "source": [
    "removed_value = student1.pop('Major')\n",
    "print(removed_value, student1)"
   ]
  },
  {
   "cell_type": "code",
   "execution_count": 119,
   "id": "cb6b86f5",
   "metadata": {},
   "outputs": [],
   "source": [
    "student1.update({'YearGraduate':2010, 'Death Date': 2030})"
   ]
  },
  {
   "cell_type": "code",
   "execution_count": 120,
   "id": "83019d12",
   "metadata": {},
   "outputs": [
    {
     "data": {
      "text/plain": [
       "{'Email': 'jdoe@buffalo.edu',\n",
       " 'UBID': 1234,\n",
       " 'YearGraduate': 2010,\n",
       " 'Death Date': 2030}"
      ]
     },
     "execution_count": 120,
     "metadata": {},
     "output_type": "execute_result"
    }
   ],
   "source": [
    "student1"
   ]
  },
  {
   "cell_type": "code",
   "execution_count": 121,
   "id": "36f266d4",
   "metadata": {},
   "outputs": [],
   "source": [
    "student1.update({'Email': 'JoeJOe@buffalo.edu', 'Death Date': 2040})"
   ]
  },
  {
   "cell_type": "code",
   "execution_count": 122,
   "id": "418cdea1",
   "metadata": {},
   "outputs": [
    {
     "data": {
      "text/plain": [
       "{'Email': 'JoeJOe@buffalo.edu',\n",
       " 'UBID': 1234,\n",
       " 'YearGraduate': 2010,\n",
       " 'Death Date': 2040}"
      ]
     },
     "execution_count": 122,
     "metadata": {},
     "output_type": "execute_result"
    }
   ],
   "source": [
    "student1"
   ]
  },
  {
   "cell_type": "code",
   "execution_count": 123,
   "id": "55d297a6",
   "metadata": {},
   "outputs": [
    {
     "data": {
      "text/plain": [
       "{0: 5, 1: 5, 2: 5, 3: 5, 4: 5}"
      ]
     },
     "execution_count": 123,
     "metadata": {},
     "output_type": "execute_result"
    }
   ],
   "source": [
    "my_dict = {}.fromkeys(range(5), 5)\n",
    "my_dict"
   ]
  },
  {
   "cell_type": "code",
   "execution_count": 124,
   "id": "4756ce58",
   "metadata": {},
   "outputs": [
    {
     "data": {
      "text/plain": [
       "{0: 0, 1: 5, 2: 10, 3: 15, 4: 20}"
      ]
     },
     "execution_count": 124,
     "metadata": {},
     "output_type": "execute_result"
    }
   ],
   "source": [
    "{key: key*value for key, value in my_dict.items()}"
   ]
  },
  {
   "cell_type": "code",
   "execution_count": 125,
   "id": "9f186134",
   "metadata": {},
   "outputs": [
    {
     "data": {
      "text/plain": [
       "{0: 0, 1: 1, 2: 4, 3: 9, 4: 16}"
      ]
     },
     "execution_count": 125,
     "metadata": {},
     "output_type": "execute_result"
    }
   ],
   "source": [
    "{num: num*num for num in range(5)}"
   ]
  },
  {
   "cell_type": "code",
   "execution_count": 126,
   "id": "46171d4c",
   "metadata": {},
   "outputs": [
    {
     "data": {
      "text/plain": [
       "{'john': 95, 'jane': 99, 'doe': 98}"
      ]
     },
     "execution_count": 126,
     "metadata": {},
     "output_type": "execute_result"
    }
   ],
   "source": [
    "list1 = ['john', 'jane', 'doe']\n",
    "list2 = [95, 99, 98]\n",
    "\n",
    "{list1[i]: list2[i] for i in range(len(list1))}"
   ]
  },
  {
   "cell_type": "code",
   "execution_count": 127,
   "id": "60f1c140",
   "metadata": {},
   "outputs": [
    {
     "data": {
      "text/plain": [
       "{'john': 95, 'jane': 99, 'doe': 98}"
      ]
     },
     "execution_count": 127,
     "metadata": {},
     "output_type": "execute_result"
    }
   ],
   "source": [
    "dict(zip(list1,list2))"
   ]
  },
  {
   "cell_type": "code",
   "execution_count": 128,
   "id": "6d7e7e95",
   "metadata": {},
   "outputs": [
    {
     "data": {
      "text/plain": [
       "{1: 'odd',\n",
       " 2: 'even',\n",
       " 3: 'odd',\n",
       " 4: 'even',\n",
       " 5: 'odd',\n",
       " 6: 'even',\n",
       " 7: 'odd',\n",
       " 8: 'even',\n",
       " 9: 'odd',\n",
       " 10: 'even',\n",
       " 11: 'odd',\n",
       " 12: 'even',\n",
       " 13: 'odd',\n",
       " 14: 'even',\n",
       " 15: 'odd',\n",
       " 16: 'even',\n",
       " 17: 'odd',\n",
       " 18: 'even',\n",
       " 19: 'odd'}"
      ]
     },
     "execution_count": 128,
     "metadata": {},
     "output_type": "execute_result"
    }
   ],
   "source": [
    "{num: (\"even\" if num % 2 == 0 else \"odd\") for num in range(1, 20)}"
   ]
  },
  {
   "cell_type": "code",
   "execution_count": 139,
   "id": "77e8e229",
   "metadata": {},
   "outputs": [
    {
     "name": "stdout",
     "output_type": "stream",
     "text": [
      "[{'account': 'QVJP6465242365388',\n",
      "  'country': 'Nepal',\n",
      "  'email': 'xdunn@hotmail.com',\n",
      "  'first_name': 'Michael',\n",
      "  'last_name': 'Weaver'},\n",
      " {'account': 'FVQZ0955529767455',\n",
      "  'country': 'Kazakhstan',\n",
      "  'email': 'iedwards@yahoo.com',\n",
      "  'first_name': 'Jackson',\n",
      "  'last_name': 'Owens'},\n",
      " {'account': 'QFIM0905182880347',\n",
      "  'country': 'Mauritius',\n",
      "  'email': 'arogers@smith.com',\n",
      "  'first_name': 'Patrick',\n",
      "  'last_name': 'Gilmore'},\n",
      " {'account': 'YWOT0997131632248',\n",
      "  'country': 'New Zealand',\n",
      "  'email': 'plewis@chavez.com',\n",
      "  'first_name': 'Jeffrey',\n",
      "  'last_name': 'Perez'},\n",
      " {'account': 'QAAE9838291982555',\n",
      "  'country': 'Yemen',\n",
      "  'email': 'fred92@yahoo.com',\n",
      "  'first_name': 'James',\n",
      "  'last_name': 'Thomas'},\n",
      " {'account': 'PCNE8127696280157',\n",
      "  'country': 'Jordan',\n",
      "  'email': 'mmiller@lynch.com',\n",
      "  'first_name': 'Greg',\n",
      "  'last_name': 'Nelson'},\n",
      " {'account': 'BCEN3299883381338',\n",
      "  'country': 'Palau',\n",
      "  'email': 'steven49@gmail.com',\n",
      "  'first_name': 'Joshua',\n",
      "  'last_name': 'White'},\n",
      " {'account': 'XPTQ7837014557677',\n",
      "  'country': 'Argentina',\n",
      "  'email': 'amanda23@hotmail.com',\n",
      "  'first_name': 'Todd',\n",
      "  'last_name': 'Francis'},\n",
      " {'account': 'TRLQ6559557081716',\n",
      "  'country': 'Marshall Islands',\n",
      "  'email': 'jackduke@hotmail.com',\n",
      "  'first_name': 'Stephen',\n",
      "  'last_name': 'Shaw'},\n",
      " {'account': 'OHOV7518558201999',\n",
      "  'country': 'Albania',\n",
      "  'email': 'rhodesnicholas@hotmail.com',\n",
      "  'first_name': 'Mariah',\n",
      "  'last_name': 'Armstrong'},\n",
      " {'account': 'MCQU7347833033110',\n",
      "  'country': 'Kyrgyz Republic',\n",
      "  'email': 'smithashlee@yahoo.com',\n",
      "  'first_name': 'Anthony',\n",
      "  'last_name': 'Boyle'},\n",
      " {'account': 'PPHE5533473251751',\n",
      "  'country': 'Turkmenistan',\n",
      "  'email': 'ubriggs@hill.info',\n",
      "  'first_name': 'Patrick',\n",
      "  'last_name': 'Cuevas'},\n",
      " {'account': 'JCDK1943355298609',\n",
      "  'country': 'Fiji',\n",
      "  'email': 'brownclarence@gonzalez-moore.com',\n",
      "  'first_name': 'Gerald',\n",
      "  'last_name': 'Reyes'},\n",
      " {'account': 'NERZ5502558659614',\n",
      "  'country': 'Costa Rica',\n",
      "  'email': 'teresa30@carpenter-warner.com',\n",
      "  'first_name': 'Christopher',\n",
      "  'last_name': 'Calderon'},\n",
      " {'account': 'DLDV5789894914403',\n",
      "  'country': 'Martinique',\n",
      "  'email': 'leekatherine@williams.com',\n",
      "  'first_name': 'Shane',\n",
      "  'last_name': 'Weiss'},\n",
      " {'account': 'GZZF6936998445532',\n",
      "  'country': 'Singapore',\n",
      "  'email': 'chasewatkins@perez-phillips.com',\n",
      "  'first_name': 'Crystal',\n",
      "  'last_name': 'Conley'},\n",
      " {'account': 'ECGK2823955143629',\n",
      "  'country': 'Mayotte',\n",
      "  'email': 'hsherman@gmail.com',\n",
      "  'first_name': 'Jeffrey',\n",
      "  'last_name': 'Nelson'},\n",
      " {'account': 'QOVO4275314052899',\n",
      "  'country': 'Costa Rica',\n",
      "  'email': 'martinezdaniel@hotmail.com',\n",
      "  'first_name': 'Brianna',\n",
      "  'last_name': 'Johnson'},\n",
      " {'account': 'UKRT1119626365017',\n",
      "  'country': 'Guadeloupe',\n",
      "  'email': 'justinfischer@gmail.com',\n",
      "  'first_name': 'Brandon',\n",
      "  'last_name': 'Werner'},\n",
      " {'account': 'UNPV3347450330173',\n",
      "  'country': 'Bahamas',\n",
      "  'email': 'cindy08@gmail.com',\n",
      "  'first_name': 'Brianna',\n",
      "  'last_name': 'Bennett'},\n",
      " {'account': 'GJZT6825738428111',\n",
      "  'country': 'Azerbaijan',\n",
      "  'email': 'carolharrington@fleming.org',\n",
      "  'first_name': 'Austin',\n",
      "  'last_name': 'Fletcher'},\n",
      " {'account': 'JOQE2648899771737',\n",
      "  'country': 'Saint Helena',\n",
      "  'email': 'lopezcarl@johnson.com',\n",
      "  'first_name': 'Patrick',\n",
      "  'last_name': 'Lewis'},\n",
      " {'account': 'MNXY3262955868027',\n",
      "  'country': 'Hong Kong',\n",
      "  'email': 'michael74@yahoo.com',\n",
      "  'first_name': 'Joseph',\n",
      "  'last_name': 'Smith'},\n",
      " {'account': 'YHXF7256577475630',\n",
      "  'country': 'Turkey',\n",
      "  'email': 'gonzalezrobert@hotmail.com',\n",
      "  'first_name': 'Sharon',\n",
      "  'last_name': 'Sullivan'},\n",
      " {'account': 'MUVI3570791852556',\n",
      "  'country': 'Swaziland',\n",
      "  'email': 'dawnjohnson@gmail.com',\n",
      "  'first_name': 'Krystal',\n",
      "  'last_name': 'Wilson'},\n",
      " {'account': 'UKCP6739617302102',\n",
      "  'country': 'Holy See (Vatican City State)',\n",
      "  'email': 'watersryan@gmail.com',\n",
      "  'first_name': 'Diana',\n",
      "  'last_name': 'Schmidt'},\n",
      " {'account': 'WDAT4146843903498',\n",
      "  'country': 'Norfolk Island',\n",
      "  'email': 'byoung@gmail.com',\n",
      "  'first_name': 'Sean',\n",
      "  'last_name': 'Huff'},\n",
      " {'account': 'SVMU4403517448078',\n",
      "  'country': 'Kenya',\n",
      "  'email': 'vhanson@yahoo.com',\n",
      "  'first_name': 'Robin',\n",
      "  'last_name': 'Nguyen'},\n",
      " {'account': 'ZNUY4071301663622',\n",
      "  'country': 'Togo',\n",
      "  'email': 'bfletcher@yahoo.com',\n",
      "  'first_name': 'Robyn',\n",
      "  'last_name': 'Russell'},\n",
      " {'account': 'GPFA8271551275648',\n",
      "  'country': 'San Marino',\n",
      "  'email': 'colleengarrison@hotmail.com',\n",
      "  'first_name': 'Tiffany',\n",
      "  'last_name': 'Smith'},\n",
      " {'account': 'MKWY4848668895426',\n",
      "  'country': 'Romania',\n",
      "  'email': 'catherine23@gmail.com',\n",
      "  'first_name': 'Lori',\n",
      "  'last_name': 'Smith'},\n",
      " {'account': 'QHIW7412514205367',\n",
      "  'country': 'Algeria',\n",
      "  'email': 'xmurphy@yahoo.com',\n",
      "  'first_name': 'Sabrina',\n",
      "  'last_name': 'Keith'},\n",
      " {'account': 'QAAO4666689281736',\n",
      "  'country': 'Slovakia (Slovak Republic)',\n",
      "  'email': 'aaronrichard@middleton.net',\n",
      "  'first_name': 'Miguel',\n",
      "  'last_name': 'Johnson'},\n",
      " {'account': 'LRPR8694143910883',\n",
      "  'country': 'Somalia',\n",
      "  'email': 'jesse93@best.com',\n",
      "  'first_name': 'Dustin',\n",
      "  'last_name': 'Barron'},\n",
      " {'account': 'UWFU1921951273393',\n",
      "  'country': 'Turkmenistan',\n",
      "  'email': 'johnperez@johnson.com',\n",
      "  'first_name': 'Michael',\n",
      "  'last_name': 'Robinson'},\n",
      " {'account': 'JQHS4274771257925',\n",
      "  'country': 'Croatia',\n",
      "  'email': 'jessica62@yahoo.com',\n",
      "  'first_name': 'Robert',\n",
      "  'last_name': 'Nguyen'},\n",
      " {'account': 'RSLD0426398604312',\n",
      "  'country': 'Jamaica',\n",
      "  'email': 'jennifer87@gmail.com',\n",
      "  'first_name': 'Brandon',\n",
      "  'last_name': 'Abbott'},\n",
      " {'account': 'UYHI6964741005832',\n",
      "  'country': 'Montserrat',\n",
      "  'email': 'morenolindsay@bass.org',\n",
      "  'first_name': 'Bruce',\n",
      "  'last_name': 'Oneill'},\n",
      " {'account': 'ZKTE5908966955533',\n",
      "  'country': 'Heard Island and McDonald Islands',\n",
      "  'email': 'robertdavis@hotmail.com',\n",
      "  'first_name': 'Linda',\n",
      "  'last_name': 'Nash'},\n",
      " {'account': 'HHHP3471562002758',\n",
      "  'country': 'Niger',\n",
      "  'email': 'melanie81@rogers.com',\n",
      "  'first_name': 'Kathleen',\n",
      "  'last_name': 'Cameron'},\n",
      " {'account': 'UWLV6407825245995',\n",
      "  'country': 'Saint Vincent and the Grenadines',\n",
      "  'email': 'clineerin@hotmail.com',\n",
      "  'first_name': 'Wesley',\n",
      "  'last_name': 'Wilkinson'},\n",
      " {'account': 'JRBN0811785293731',\n",
      "  'country': 'Antigua and Barbuda',\n",
      "  'email': 'terri95@hotmail.com',\n",
      "  'first_name': 'Debbie',\n",
      "  'last_name': 'Wallace'},\n",
      " {'account': 'VDWY7565964041116',\n",
      "  'country': 'Mexico',\n",
      "  'email': 'danielle65@yahoo.com',\n",
      "  'first_name': 'Kayla',\n",
      "  'last_name': 'Woodward'},\n",
      " {'account': 'DNRB2101855092009',\n",
      "  'country': 'Singapore',\n",
      "  'email': 'sjackson@yahoo.com',\n",
      "  'first_name': 'Stephanie',\n",
      "  'last_name': 'Bennett'},\n",
      " {'account': 'IILE1765776198023',\n",
      "  'country': 'Botswana',\n",
      "  'email': 'douglas63@yahoo.com',\n",
      "  'first_name': 'Caleb',\n",
      "  'last_name': 'Jenkins'},\n",
      " {'account': 'ZJUF2687631787282',\n",
      "  'country': 'Guinea',\n",
      "  'email': 'woodardlindsey@yahoo.com',\n",
      "  'first_name': 'Valerie',\n",
      "  'last_name': 'Edwards'},\n",
      " {'account': 'DHMT4208071148508',\n",
      "  'country': 'Chile',\n",
      "  'email': 'suebrown@yahoo.com',\n",
      "  'first_name': 'Mary',\n",
      "  'last_name': 'Anderson'},\n",
      " {'account': 'UBRR8524342666714',\n",
      "  'country': 'Mayotte',\n",
      "  'email': 'swhite@yahoo.com',\n",
      "  'first_name': 'Angela',\n",
      "  'last_name': 'Ray'},\n",
      " {'account': 'OGPU6537909247863',\n",
      "  'country': 'Macedonia',\n",
      "  'email': 'martinkimberly@lopez.com',\n",
      "  'first_name': 'Haley',\n",
      "  'last_name': 'Edwards'},\n",
      " {'account': 'AHYX6128839695452',\n",
      "  'country': 'Ukraine',\n",
      "  'email': 'jessica11@hotmail.com',\n",
      "  'first_name': 'Charles',\n",
      "  'last_name': 'Clark'},\n",
      " {'account': 'VUPW6891906300822',\n",
      "  'country': 'Saint Martin',\n",
      "  'email': 'hsmith@baker.com',\n",
      "  'first_name': 'Lisa',\n",
      "  'last_name': 'Hill'},\n",
      " {'account': 'PKFW4841194501766',\n",
      "  'country': 'Germany',\n",
      "  'email': 'fklein@yahoo.com',\n",
      "  'first_name': 'Jonathan',\n",
      "  'last_name': 'Carpenter'},\n",
      " {'account': 'BNYD8693045932496',\n",
      "  'country': 'Lesotho',\n",
      "  'email': 'ryan32@skinner.com',\n",
      "  'first_name': 'Latoya',\n",
      "  'last_name': 'Griffith'},\n",
      " {'account': 'FQJA6381776349463',\n",
      "  'country': 'Nepal',\n",
      "  'email': 'tmurphy@flores.biz',\n",
      "  'first_name': 'Kim',\n",
      "  'last_name': 'Blair'},\n",
      " {'account': 'KCNI2464381879411',\n",
      "  'country': 'Latvia',\n",
      "  'email': 'mary64@ray.org',\n",
      "  'first_name': 'Mary',\n",
      "  'last_name': 'Salazar'},\n",
      " {'account': 'BIGY3006735396533',\n",
      "  'country': 'Central African Republic',\n",
      "  'email': 'jennajoseph@yahoo.com',\n",
      "  'first_name': 'Kenneth',\n",
      "  'last_name': 'Krueger'},\n",
      " {'account': 'CNJX1222752295544',\n",
      "  'country': 'Peru',\n",
      "  'email': 'watsonsamuel@gmail.com',\n",
      "  'first_name': 'Phillip',\n",
      "  'last_name': 'Burke'},\n",
      " {'account': 'ZROP5229895490397',\n",
      "  'country': 'Spain',\n",
      "  'email': 'xvelasquez@hughes.com',\n",
      "  'first_name': 'Erica',\n",
      "  'last_name': 'Juarez'},\n",
      " {'account': 'NXKK2792812848629',\n",
      "  'country': 'Seychelles',\n",
      "  'email': 'april99@gmail.com',\n",
      "  'first_name': 'Jason',\n",
      "  'last_name': 'Watkins'},\n",
      " {'account': 'DPLN5056382218296',\n",
      "  'country': 'Faroe Islands',\n",
      "  'email': 'kfletcher@yahoo.com',\n",
      "  'first_name': 'Lee',\n",
      "  'last_name': 'Carter'},\n",
      " {'account': 'KAOL9792684486009',\n",
      "  'country': 'Tokelau',\n",
      "  'email': 'xchurch@hotmail.com',\n",
      "  'first_name': 'Randy',\n",
      "  'last_name': 'Huang'},\n",
      " {'account': 'WRXW4627191899235',\n",
      "  'country': 'Cocos (Keeling) Islands',\n",
      "  'email': 'megan24@stewart.net',\n",
      "  'first_name': 'Kristina',\n",
      "  'last_name': 'Owen'},\n",
      " {'account': 'OMOK4767172062189',\n",
      "  'country': 'Burundi',\n",
      "  'email': 'sydneycollins@hunter.com',\n",
      "  'first_name': 'Beth',\n",
      "  'last_name': 'Turner'},\n",
      " {'account': 'KRKF7344951038740',\n",
      "  'country': 'Timor-Leste',\n",
      "  'email': 'robertbowen@chavez-ortega.com',\n",
      "  'first_name': 'Michael',\n",
      "  'last_name': 'Aguirre'},\n",
      " {'account': 'SAAA4141150617330',\n",
      "  'country': 'Montserrat',\n",
      "  'email': 'christiandanielle@yahoo.com',\n",
      "  'first_name': 'Elizabeth',\n",
      "  'last_name': 'Wilson'},\n",
      " {'account': 'XNWQ1072087896797',\n",
      "  'country': 'Norway',\n",
      "  'email': 'kdavidson@gordon.com',\n",
      "  'first_name': 'Teresa',\n",
      "  'last_name': 'Hardy'},\n",
      " {'account': 'FTHM1005169617995',\n",
      "  'country': 'Sierra Leone',\n",
      "  'email': 'bennettwanda@vega-guerra.net',\n",
      "  'first_name': 'David',\n",
      "  'last_name': 'Stewart'},\n",
      " {'account': 'OSSM9070924947595',\n",
      "  'country': 'French Polynesia',\n",
      "  'email': 'mark00@hotmail.com',\n",
      "  'first_name': 'Heather',\n",
      "  'last_name': 'Moore'},\n",
      " {'account': 'CFQJ4204773901237',\n",
      "  'country': 'French Guiana',\n",
      "  'email': 'schaefernatalie@hotmail.com',\n",
      "  'first_name': 'Melissa',\n",
      "  'last_name': 'Grant'},\n",
      " {'account': 'MGFG2793756668287',\n",
      "  'country': 'Cape Verde',\n",
      "  'email': 'moralesmartin@rodgers.com',\n",
      "  'first_name': 'Jennifer',\n",
      "  'last_name': 'Thompson'},\n",
      " {'account': 'IGXK5881682171566',\n",
      "  'country': 'Barbados',\n",
      "  'email': 'dprince@hotmail.com',\n",
      "  'first_name': 'Raymond',\n",
      "  'last_name': 'Anderson'},\n",
      " {'account': 'QYBW6359021109484',\n",
      "  'country': 'Andorra',\n",
      "  'email': 'cparks@valdez-hudson.com',\n",
      "  'first_name': 'Angela',\n",
      "  'last_name': 'Ramsey'},\n",
      " {'account': 'UTSI0776569247505',\n",
      "  'country': 'Montserrat',\n",
      "  'email': 'martinezrichard@yahoo.com',\n",
      "  'first_name': 'Betty',\n",
      "  'last_name': 'Gonzales'},\n",
      " {'account': 'LSDI9463735752680',\n",
      "  'country': 'Egypt',\n",
      "  'email': 'kpena@yahoo.com',\n",
      "  'first_name': 'Thomas',\n",
      "  'last_name': 'Castaneda'},\n",
      " {'account': 'ISYY1401931979959',\n",
      "  'country': 'Malaysia',\n",
      "  'email': 'julie68@gmail.com',\n",
      "  'first_name': 'Jonathan',\n",
      "  'last_name': 'Todd'},\n",
      " {'account': 'HNOA0376843856035',\n",
      "  'country': 'Zimbabwe',\n",
      "  'email': 'lukebradford@hotmail.com',\n",
      "  'first_name': 'Stacey',\n",
      "  'last_name': 'Garcia'},\n",
      " {'account': 'EEVV8325881104553',\n",
      "  'country': 'Portugal',\n",
      "  'email': 'ystewart@yahoo.com',\n",
      "  'first_name': 'Judy',\n",
      "  'last_name': 'Figueroa'},\n",
      " {'account': 'QXGZ3111246190069',\n",
      "  'country': 'Paraguay',\n",
      "  'email': 'cory33@king-shaw.net',\n",
      "  'first_name': 'Ashley',\n",
      "  'last_name': 'Castillo'},\n",
      " {'account': 'ACQR2846533122117',\n",
      "  'country': 'Central African Republic',\n",
      "  'email': 'zcalhoun@gmail.com',\n",
      "  'first_name': 'Zachary',\n",
      "  'last_name': 'Flores'},\n",
      " {'account': 'ZAZD8310339637467',\n",
      "  'country': 'Palau',\n",
      "  'email': 'michaelhall@hotmail.com',\n",
      "  'first_name': 'Erica',\n",
      "  'last_name': 'Allen'},\n",
      " {'account': 'ARWK1547324119222',\n",
      "  'country': 'Micronesia',\n",
      "  'email': 'kristentaylor@yahoo.com',\n",
      "  'first_name': 'Savannah',\n",
      "  'last_name': 'Potts'},\n",
      " {'account': 'OMQX4840913072589',\n",
      "  'country': 'Armenia',\n",
      "  'email': 'stephen63@yahoo.com',\n",
      "  'first_name': 'Zachary',\n",
      "  'last_name': 'Wheeler'},\n",
      " {'account': 'OCFV4659464275270',\n",
      "  'country': 'Bahrain',\n",
      "  'email': 'bryanmartin@gmail.com',\n",
      "  'first_name': 'Timothy',\n",
      "  'last_name': 'Thomas'},\n",
      " {'account': 'DTRB4720098955341',\n",
      "  'country': 'Guatemala',\n",
      "  'email': 'kristinavelasquez@gmail.com',\n",
      "  'first_name': 'Ann',\n",
      "  'last_name': 'Mcknight'},\n",
      " {'account': 'YYHM5758234683389',\n",
      "  'country': 'Saint Vincent and the Grenadines',\n",
      "  'email': 'denise01@burns.org',\n",
      "  'first_name': 'Ruth',\n",
      "  'last_name': 'Thompson'},\n",
      " {'account': 'AHBN3151680654826',\n",
      "  'country': 'Kazakhstan',\n",
      "  'email': 'beancody@jones.com',\n",
      "  'first_name': 'Daniel',\n",
      "  'last_name': 'Levy'},\n",
      " {'account': 'FGBC0366153271398',\n",
      "  'country': 'Germany',\n",
      "  'email': 'ubradley@yahoo.com',\n",
      "  'first_name': 'Paul',\n",
      "  'last_name': 'Hubbard'},\n",
      " {'account': 'MHTE8867005510944',\n",
      "  'country': 'Western Sahara',\n",
      "  'email': 'anthony75@yahoo.com',\n",
      "  'first_name': 'Jason',\n",
      "  'last_name': 'Jones'},\n",
      " {'account': 'IYOD4325345823013',\n",
      "  'country': 'Togo',\n",
      "  'email': 'antonio52@gmail.com',\n",
      "  'first_name': 'Margaret',\n",
      "  'last_name': 'Garcia'},\n",
      " {'account': 'NZFX8257739892619',\n",
      "  'country': 'Guam',\n",
      "  'email': 'johnlewis@hotmail.com',\n",
      "  'first_name': 'Jeremy',\n",
      "  'last_name': 'Peters'},\n",
      " {'account': 'MWRB2515761996641',\n",
      "  'country': 'Kuwait',\n",
      "  'email': 'nmoore@hotmail.com',\n",
      "  'first_name': 'Mark',\n",
      "  'last_name': 'Stone'},\n",
      " {'account': 'CURJ9953745256871',\n",
      "  'country': 'Eritrea',\n",
      "  'email': 'nchurch@yahoo.com',\n",
      "  'first_name': 'Darius',\n",
      "  'last_name': 'Edwards'},\n",
      " {'account': 'ATOT8581137487723',\n",
      "  'country': 'Czech Republic',\n",
      "  'email': 'piercejenna@gmail.com',\n",
      "  'first_name': 'Tracy',\n",
      "  'last_name': 'Lawson'},\n",
      " {'account': 'RQGA0882784089265',\n",
      "  'country': 'Maldives',\n",
      "  'email': 'ddavidson@hotmail.com',\n",
      "  'first_name': 'Christina',\n",
      "  'last_name': 'Cooper'},\n",
      " {'account': 'EOPA8088866975598',\n",
      "  'country': 'Armenia',\n",
      "  'email': 'ndelacruz@yahoo.com',\n",
      "  'first_name': 'Megan',\n",
      "  'last_name': 'Harris'},\n",
      " {'account': 'JCUN9597199552039',\n",
      "  'country': 'Benin',\n",
      "  'email': 'jenniferadkins@griffin.biz',\n",
      "  'first_name': 'Timothy',\n",
      "  'last_name': 'Jones'},\n",
      " {'account': 'IZYL3351829981461',\n",
      "  'country': 'Fiji',\n",
      "  'email': 'evansmiguel@yahoo.com',\n",
      "  'first_name': 'Tracie',\n",
      "  'last_name': 'Burch'},\n",
      " {'account': 'JDIH2349154465371',\n",
      "  'country': 'Iceland',\n",
      "  'email': 'kenneththompson@baxter.com',\n",
      "  'first_name': 'Jason',\n",
      "  'last_name': 'Chung'},\n",
      " {'account': 'VRZP1447516193511',\n",
      "  'country': 'Macedonia',\n",
      "  'email': 'bcurtis@hotmail.com',\n",
      "  'first_name': 'Samantha',\n",
      "  'last_name': 'Melton'},\n",
      " {'account': 'QKAF2254397516681',\n",
      "  'country': 'Serbia',\n",
      "  'email': 'phillipssean@hotmail.com',\n",
      "  'first_name': 'Michael',\n",
      "  'last_name': 'Hansen'}]\n"
     ]
    }
   ],
   "source": [
    "from pprint import pprint\n",
    "filename = 'people.tsv'\n",
    "\n",
    "students = []\n",
    "with open(filename) as f:\n",
    "    header_read = False\n",
    "    header = None\n",
    "    for line in f:\n",
    "        if not line.strip():\n",
    "            continue\n",
    "        \n",
    "        line_split = line.strip().split('\\t')\n",
    "\n",
    "        if not header:\n",
    "            header = line_split\n",
    "            continue\n",
    "            \n",
    "        students.append(dict(zip(header, line_split)))\n",
    "\n",
    "pprint(students)"
   ]
  },
  {
   "cell_type": "code",
   "execution_count": 140,
   "id": "b592bce9",
   "metadata": {},
   "outputs": [
    {
     "data": {
      "text/plain": [
       "{'last_name': 'Owens',\n",
       " 'first_name': 'Jackson',\n",
       " 'email': 'iedwards@yahoo.com',\n",
       " 'country': 'Kazakhstan',\n",
       " 'account': 'FVQZ0955529767455'}"
      ]
     },
     "execution_count": 140,
     "metadata": {},
     "output_type": "execute_result"
    }
   ],
   "source": [
    "students[1]"
   ]
  },
  {
   "cell_type": "code",
   "execution_count": 142,
   "id": "8a87415a",
   "metadata": {},
   "outputs": [
    {
     "data": {
      "text/plain": [
       "'Jan'"
      ]
     },
     "execution_count": 142,
     "metadata": {},
     "output_type": "execute_result"
    }
   ],
   "source": [
    "# dict_ex2.py \n",
    "# Write a function to convert month number to \n",
    "# month name. First use a list and then a dictionary\n",
    "\n",
    "def ex2(month):\n",
    "    \n",
    "    month_dict = {\n",
    "        1: 'Jan',\n",
    "        2: 'Feb',\n",
    "        3: 'Mar',\n",
    "        4: 'Apr',\n",
    "        5: 'May',\n",
    "        6: 'Jun',\n",
    "        7: 'Jul',\n",
    "        8: 'Aug',\n",
    "        9: 'Sep',\n",
    "        10: 'Oct',\n",
    "        11: 'Nov',\n",
    "        12: 'Dec',\n",
    "    }\n",
    "    \n",
    "    return month_dict.get(month, 'Unknown Month')\n",
    "    \n",
    "ex2(1)"
   ]
  },
  {
   "cell_type": "code",
   "execution_count": 143,
   "id": "bb59ad4e",
   "metadata": {},
   "outputs": [
    {
     "data": {
      "text/plain": [
       "'Unknown Month'"
      ]
     },
     "execution_count": 143,
     "metadata": {},
     "output_type": "execute_result"
    }
   ],
   "source": [
    "ex2(0)"
   ]
  },
  {
   "cell_type": "code",
   "execution_count": 144,
   "id": "7167faa6",
   "metadata": {},
   "outputs": [
    {
     "data": {
      "text/plain": [
       "'Dec'"
      ]
     },
     "execution_count": 144,
     "metadata": {},
     "output_type": "execute_result"
    }
   ],
   "source": [
    "ex2(12)"
   ]
  },
  {
   "cell_type": "code",
   "execution_count": 145,
   "id": "e5d8ffde",
   "metadata": {},
   "outputs": [],
   "source": [
    "month_dict = {\n",
    "        1: 'Jan',\n",
    "        2: 'Feb',\n",
    "        3: 'Mar',\n",
    "        4: 'Apr',\n",
    "        5: 'May',\n",
    "        6: 'Jun',\n",
    "        7: 'Jul',\n",
    "        8: 'Aug',\n",
    "        9: 'Sep',\n",
    "        10: 'Oct',\n",
    "        11: 'Nov',\n",
    "        12: 'Dec',\n",
    "    }"
   ]
  },
  {
   "cell_type": "code",
   "execution_count": 146,
   "id": "c186662a",
   "metadata": {},
   "outputs": [
    {
     "name": "stdout",
     "output_type": "stream",
     "text": [
      "dict_values(['Jan', 'Feb', 'Mar', 'Apr', 'May', 'Jun', 'Jul', 'Aug', 'Sep', 'Oct', 'Nov', 'Dec'])\n"
     ]
    }
   ],
   "source": [
    "values = month_dict.values()\n",
    "print(values)"
   ]
  },
  {
   "cell_type": "code",
   "execution_count": 147,
   "id": "435977f3",
   "metadata": {},
   "outputs": [
    {
     "data": {
      "text/plain": [
       "['',\n",
       " 'Jan',\n",
       " 'Feb',\n",
       " 'Mar',\n",
       " 'Apr',\n",
       " 'May',\n",
       " 'Jun',\n",
       " 'Jul',\n",
       " 'Aug',\n",
       " 'Sep',\n",
       " 'Oct',\n",
       " 'Nov',\n",
       " 'Dec']"
      ]
     },
     "execution_count": 147,
     "metadata": {},
     "output_type": "execute_result"
    }
   ],
   "source": [
    "months = list(values)\n",
    "months.insert(0, '')\n",
    "months"
   ]
  },
  {
   "cell_type": "code",
   "execution_count": 148,
   "id": "8cd7cf54",
   "metadata": {},
   "outputs": [
    {
     "data": {
      "text/plain": [
       "''"
      ]
     },
     "execution_count": 148,
     "metadata": {},
     "output_type": "execute_result"
    }
   ],
   "source": [
    "months[0]"
   ]
  },
  {
   "cell_type": "code",
   "execution_count": 149,
   "id": "e099f75d",
   "metadata": {},
   "outputs": [
    {
     "data": {
      "text/plain": [
       "'Jan'"
      ]
     },
     "execution_count": 149,
     "metadata": {},
     "output_type": "execute_result"
    }
   ],
   "source": [
    "months[1]"
   ]
  },
  {
   "cell_type": "code",
   "execution_count": 155,
   "id": "cba55bcf",
   "metadata": {},
   "outputs": [
    {
     "name": "stdout",
     "output_type": "stream",
     "text": [
      "{' ': '0',\n",
      " '!': '1111',\n",
      " ',': '11',\n",
      " '.': '1',\n",
      " '?': '111',\n",
      " 'A': '2',\n",
      " 'B': '22',\n",
      " 'C': '222',\n",
      " 'D': '3',\n",
      " 'E': '33',\n",
      " 'F': '333',\n",
      " 'G': '4',\n",
      " 'H': '44',\n",
      " 'I': '444',\n",
      " 'J': '5',\n",
      " 'K': '55',\n",
      " 'L': '555',\n",
      " 'M': '6',\n",
      " 'N': '66',\n",
      " 'O': '666',\n",
      " 'P': '7',\n",
      " 'Q': '77',\n",
      " 'R': '777',\n",
      " 'S': '7777',\n",
      " 'T': '8',\n",
      " 'U': '88',\n",
      " 'V': '888',\n",
      " 'W': '9',\n",
      " 'X': '99',\n",
      " 'Y': '999',\n",
      " 'Z': '9999'}\n",
      "44335555556660966677755531111\n"
     ]
    }
   ],
   "source": [
    "# dict_ex3.py \n",
    "# Convert text message to numbers\n",
    "\n",
    "# 0 \tspace\n",
    "# 1 \t., ?, !\n",
    "# 2 \tABC\n",
    "# 3 \tDEF\n",
    "# 4 \tGHI\n",
    "# 5 \tJKL\n",
    "# 6 \tMNO\n",
    "# 7 \tPQRS\n",
    "# 8 \tTUV\n",
    "# 9 \tWXYZ\n",
    "\n",
    "lookup = {\n",
    "    0: ' ',\n",
    "    1: '.,?!',\n",
    "    2: 'ABC',\n",
    "    3: 'DEF',\n",
    "    4: 'GHI',\n",
    "    5: 'JKL',\n",
    "    6: 'MNO',\n",
    "    7: 'PQRS',\n",
    "    8: 'TUV',\n",
    "    9: 'WXYZ'\n",
    "}\n",
    "\n",
    "lookup_map = {}\n",
    "\n",
    "for key, value in lookup.items():\n",
    "    if value == ' ':\n",
    "        lookup_map[value] = str(key)\n",
    "    else:\n",
    "        for idx, char in enumerate(value, 1):\n",
    "            lookup_map[char] = idx * str(key)\n",
    "pprint(lookup_map)\n",
    "\n",
    "message = 'Hello World!'\n",
    "\n",
    "coded = ''\n",
    "for char in message:\n",
    "    coded += lookup_map.get(char.upper())\n",
    "print(coded)"
   ]
  },
  {
   "cell_type": "code",
   "execution_count": 166,
   "id": "bdaeaefe",
   "metadata": {},
   "outputs": [
    {
     "name": "stdout",
     "output_type": "stream",
     "text": [
      "{2: 2.8,\n",
      " 3: 5.57,\n",
      " 4: 8.3,\n",
      " 5: 11.13,\n",
      " 6: 13.82,\n",
      " 7: 16.67,\n",
      " 8: 13.94,\n",
      " 9: 11.05,\n",
      " 10: 8.32,\n",
      " 11: 5.62,\n",
      " 12: 2.78}\n"
     ]
    }
   ],
   "source": [
    "def simulate_two_dice(no_simulation):\n",
    "    import random\n",
    "    theoretical_probabilities = [\n",
    "        0,\n",
    "        0,\n",
    "        1 / 36,\n",
    "        2 / 36,\n",
    "        3 / 36,\n",
    "        4 / 36,\n",
    "        5 / 36,\n",
    "        6 / 36,\n",
    "        5 / 36,\n",
    "        4 / 36,\n",
    "        3 / 36,\n",
    "        2 / 36,\n",
    "        1 / 36,\n",
    "    ]\n",
    "    \n",
    "    \n",
    "    observed_two_dice_value = {}\n",
    "    \n",
    "    for ele in range(no_simulation):\n",
    "        dice1 = random.randint(1,6)\n",
    "        dice2 = random.randint(1,6)\n",
    "        \n",
    "        total = dice1 + dice2\n",
    "        \n",
    "        if total not in observed_two_dice_value:\n",
    "            observed_two_dice_value[total] = 0\n",
    "            \n",
    "        observed_two_dice_value[total] += 1\n",
    "        \n",
    "    for key, value in observed_two_dice_value.items():\n",
    "        observed_two_dice_value[key] = round(value/no_simulation * 100,2)\n",
    "\n",
    "    pprint(observed_two_dice_value)\n",
    "    \n",
    "\n",
    "simulate_two_dice(1000000)"
   ]
  },
  {
   "cell_type": "code",
   "execution_count": null,
   "id": "5030d55e",
   "metadata": {},
   "outputs": [],
   "source": []
  }
 ],
 "metadata": {
  "kernelspec": {
   "display_name": "Python 3 (ipykernel)",
   "language": "python",
   "name": "python3"
  },
  "language_info": {
   "codemirror_mode": {
    "name": "ipython",
    "version": 3
   },
   "file_extension": ".py",
   "mimetype": "text/x-python",
   "name": "python",
   "nbconvert_exporter": "python",
   "pygments_lexer": "ipython3",
   "version": "3.8.5"
  }
 },
 "nbformat": 4,
 "nbformat_minor": 5
}
