{
 "cells": [
  {
   "cell_type": "code",
   "execution_count": 12,
   "id": "a98f5368",
   "metadata": {},
   "outputs": [],
   "source": [
    "filename = 'PatientCorePopulatedTable.csv'\n",
    "\n",
    "rows = []\n",
    "header = None\n",
    "with open(filename) as file:\n",
    "    for line in file:\n",
    "        line = line.strip()\n",
    "        if not line: \n",
    "            continue\n",
    "        if not header:\n",
    "            header = True\n",
    "            continue\n",
    "            \n",
    "        ptid, _, _, race, status, _, poverty = line.split('\\t')\n",
    "        if ((race == 'White' and status == 'Married') or (race == 'African American' and status == 'Married')) and \\\n",
    "            float(poverty) > 15:\n",
    "            \n",
    "            rows.append((ptid, race, status, float(poverty)))"
   ]
  },
  {
   "cell_type": "code",
   "execution_count": 13,
   "id": "7c7efe24",
   "metadata": {},
   "outputs": [
    {
     "name": "stdout",
     "output_type": "stream",
     "text": [
      "1 ('6E70D84D-C75F-477C-BC37-9177C3698C66', 'White', 'Married', 16.09)\n",
      "2 ('C8556CC0-32FC-4CA5-A8CD-9CCF38816167', 'White', 'Married', 18.2)\n",
      "3 ('B39DC5AC-E003-4E6A-91B6-FC07625A1285', 'White', 'Married', 15.31)\n",
      "4 ('25B786AF-0F99-478C-9CFA-0EA607E45834', 'White', 'Married', 93.6)\n",
      "5 ('81C5B13B-F6B2-4E57-9593-6E7E4C13B2CE', 'White', 'Married', 19.22)\n",
      "6 ('69B5D2A0-12FD-46EF-A5FF-B29C4BAFBE49', 'White', 'Married', 18.65)\n",
      "7 ('9BBF3A51-443D-438B-9289-B98B8E0577C0', 'White', 'Married', 16.76)\n",
      "8 ('49DADA25-F2C2-42BB-8210-D78E6C7B0D48', 'African American', 'Married', 19.5)\n",
      "9 ('2EE42DEF-37CA-4694-827E-FA4EAF882BFC', 'White', 'Married', 18.91)\n",
      "10 ('C65A4ADE-112E-49E4-B72A-0DED22C242ED', 'White', 'Married', 19.66)\n",
      "11 ('80AC01B2-BD55-4BE0-A59A-4024104CF4E9', 'African American', 'Married', 19.74)\n",
      "12 ('0E0EADE8-5592-4E0B-9F88-D7596E32EE08', 'White', 'Married', 18.8)\n",
      "13 ('BC44CE19-9FC5-4AC9-A296-9EBC5E3D03AE', 'African American', 'Married', 15.04)\n",
      "14 ('3E462A8F-7B90-43A1-A8B6-AD82CB5002C9', 'White', 'Married', 18.33)\n"
     ]
    }
   ],
   "source": [
    "for idx, ele in enumerate(rows, 1):\n",
    "    print(idx, ele)"
   ]
  },
  {
   "cell_type": "code",
   "execution_count": 15,
   "id": "9a970cf6",
   "metadata": {},
   "outputs": [
    {
     "data": {
      "text/plain": [
       "[('25B786AF-0F99-478C-9CFA-0EA607E45834', 'White', 'Married', 93.6),\n",
       " ('80AC01B2-BD55-4BE0-A59A-4024104CF4E9',\n",
       "  'African American',\n",
       "  'Married',\n",
       "  19.74),\n",
       " ('C65A4ADE-112E-49E4-B72A-0DED22C242ED', 'White', 'Married', 19.66),\n",
       " ('49DADA25-F2C2-42BB-8210-D78E6C7B0D48', 'African American', 'Married', 19.5),\n",
       " ('81C5B13B-F6B2-4E57-9593-6E7E4C13B2CE', 'White', 'Married', 19.22),\n",
       " ('2EE42DEF-37CA-4694-827E-FA4EAF882BFC', 'White', 'Married', 18.91),\n",
       " ('0E0EADE8-5592-4E0B-9F88-D7596E32EE08', 'White', 'Married', 18.8),\n",
       " ('69B5D2A0-12FD-46EF-A5FF-B29C4BAFBE49', 'White', 'Married', 18.65),\n",
       " ('3E462A8F-7B90-43A1-A8B6-AD82CB5002C9', 'White', 'Married', 18.33),\n",
       " ('C8556CC0-32FC-4CA5-A8CD-9CCF38816167', 'White', 'Married', 18.2),\n",
       " ('9BBF3A51-443D-438B-9289-B98B8E0577C0', 'White', 'Married', 16.76),\n",
       " ('6E70D84D-C75F-477C-BC37-9177C3698C66', 'White', 'Married', 16.09),\n",
       " ('B39DC5AC-E003-4E6A-91B6-FC07625A1285', 'White', 'Married', 15.31),\n",
       " ('BC44CE19-9FC5-4AC9-A296-9EBC5E3D03AE',\n",
       "  'African American',\n",
       "  'Married',\n",
       "  15.04)]"
      ]
     },
     "execution_count": 15,
     "metadata": {},
     "output_type": "execute_result"
    }
   ],
   "source": [
    "sorted(rows, key=lambda row: row[-1], reverse=True)"
   ]
  },
  {
   "cell_type": "code",
   "execution_count": 16,
   "id": "bed3647f",
   "metadata": {},
   "outputs": [
    {
     "data": {
      "text/plain": [
       "[('6E70D84D-C75F-477C-BC37-9177C3698C66', 'White', 'Married', 16.09),\n",
       " ('C8556CC0-32FC-4CA5-A8CD-9CCF38816167', 'White', 'Married', 18.2),\n",
       " ('B39DC5AC-E003-4E6A-91B6-FC07625A1285', 'White', 'Married', 15.31),\n",
       " ('25B786AF-0F99-478C-9CFA-0EA607E45834', 'White', 'Married', 93.6),\n",
       " ('81C5B13B-F6B2-4E57-9593-6E7E4C13B2CE', 'White', 'Married', 19.22),\n",
       " ('69B5D2A0-12FD-46EF-A5FF-B29C4BAFBE49', 'White', 'Married', 18.65),\n",
       " ('9BBF3A51-443D-438B-9289-B98B8E0577C0', 'White', 'Married', 16.76),\n",
       " ('49DADA25-F2C2-42BB-8210-D78E6C7B0D48', 'African American', 'Married', 19.5),\n",
       " ('2EE42DEF-37CA-4694-827E-FA4EAF882BFC', 'White', 'Married', 18.91),\n",
       " ('C65A4ADE-112E-49E4-B72A-0DED22C242ED', 'White', 'Married', 19.66),\n",
       " ('80AC01B2-BD55-4BE0-A59A-4024104CF4E9',\n",
       "  'African American',\n",
       "  'Married',\n",
       "  19.74),\n",
       " ('0E0EADE8-5592-4E0B-9F88-D7596E32EE08', 'White', 'Married', 18.8),\n",
       " ('BC44CE19-9FC5-4AC9-A296-9EBC5E3D03AE',\n",
       "  'African American',\n",
       "  'Married',\n",
       "  15.04),\n",
       " ('3E462A8F-7B90-43A1-A8B6-AD82CB5002C9', 'White', 'Married', 18.33)]"
      ]
     },
     "execution_count": 16,
     "metadata": {},
     "output_type": "execute_result"
    }
   ],
   "source": [
    "sorted(rows, key=lambda row: (row[2], [3]), reverse=True)"
   ]
  },
  {
   "cell_type": "code",
   "execution_count": 17,
   "id": "996bf351",
   "metadata": {},
   "outputs": [],
   "source": [
    "filename = 'PatientCorePopulatedTable.csv'\n",
    "\n",
    "rows = []\n",
    "header = None\n",
    "with open(filename) as file:\n",
    "    for line in file:\n",
    "        line = line.strip()\n",
    "        if not line: \n",
    "            continue\n",
    "        if not header:\n",
    "            header = True\n",
    "            continue\n",
    "            \n",
    "        ptid, _, _, race, status, _, poverty = line.split('\\t')\n",
    "        \n",
    "            \n",
    "        rows.append((status, float(poverty)))"
   ]
  },
  {
   "cell_type": "code",
   "execution_count": 18,
   "id": "f7e7aab4",
   "metadata": {},
   "outputs": [
    {
     "data": {
      "text/plain": [
       "[('Married', 18.08),\n",
       " ('Separated', 13.03),\n",
       " ('Married', 6.67),\n",
       " ('Married', 16.09),\n",
       " ('Married', 18.2),\n",
       " ('Married', 12.41),\n",
       " ('Married', 12.8),\n",
       " ('Married', 15.31),\n",
       " ('Single', 16.32),\n",
       " ('Single', 11.43),\n",
       " ('Married', 11.25),\n",
       " ('Divorced', 83.75),\n",
       " ('Single', 14.28),\n",
       " ('Married', 11.89),\n",
       " ('Single', 94.0),\n",
       " ('Married', 12.01),\n",
       " ('Unknown', 16.89),\n",
       " ('Single', 1.7),\n",
       " ('Married', 93.6),\n",
       " ('Single', 15.72),\n",
       " ('Single', 13.1),\n",
       " ('Married', 14.87),\n",
       " ('Single', 13.97),\n",
       " ('Married', 19.22),\n",
       " ('Married', 16.71),\n",
       " ('Single', 7.59),\n",
       " ('Married', 18.05),\n",
       " ('Single', 16.24),\n",
       " ('Single', 14.49),\n",
       " ('Single', 11.16),\n",
       " ('Divorced', 14.07),\n",
       " ('Married', 17.72),\n",
       " ('Married', 18.65),\n",
       " ('Married', 4.34),\n",
       " ('Widowed', 88.66),\n",
       " ('Married', 16.76),\n",
       " ('Married', 14.81),\n",
       " ('Single', 16.86),\n",
       " ('Married', 19.5),\n",
       " ('Married', 14.03),\n",
       " ('Unknown', 82.08),\n",
       " ('Single', 18.88),\n",
       " ('Single', 19.52),\n",
       " ('Unknown', 15.02),\n",
       " ('Separated', 10.8),\n",
       " ('Single', 16.88),\n",
       " ('Divorced', 19.41),\n",
       " ('Divorced', 18.17),\n",
       " ('Married', 10.87),\n",
       " ('Married', 3.3),\n",
       " ('Married', 4.51),\n",
       " ('Married', 5.94),\n",
       " ('Married', 8.81),\n",
       " ('Divorced', 14.58),\n",
       " ('Married', 13.23),\n",
       " ('Single', 18.36),\n",
       " ('Single', 15.98),\n",
       " ('Single', 14.99),\n",
       " ('Single', 89.44),\n",
       " ('Unknown', 18.95),\n",
       " ('Married', 18.91),\n",
       " ('Single', 15.56),\n",
       " ('Married', 10.3),\n",
       " ('Single', 11.15),\n",
       " ('Married', 19.66),\n",
       " ('Married', 19.74),\n",
       " ('Married', 94.06),\n",
       " ('Single', 16.69),\n",
       " ('Single', 16.43),\n",
       " ('Married', 10.35),\n",
       " ('Married', 18.8),\n",
       " ('Unknown', 19.16),\n",
       " ('Married', 14.2),\n",
       " ('Single', 18.41),\n",
       " ('Single', 12.86),\n",
       " ('Divorced', 88.65),\n",
       " ('Married', 17.84),\n",
       " ('Single', 12.92),\n",
       " ('Divorced', 19.49),\n",
       " ('Married', 15.04),\n",
       " ('Married', 14.15),\n",
       " ('Separated', 98.4),\n",
       " ('Married', 18.33),\n",
       " ('Single', 15.24),\n",
       " ('Divorced', 19.52),\n",
       " ('Divorced', 6.48),\n",
       " ('Married', 9.1),\n",
       " ('Married', 15.11),\n",
       " ('Married', 19.46),\n",
       " ('Married', 13.9),\n",
       " ('Separated', 19.36),\n",
       " ('Single', 11.04),\n",
       " ('Single', 93.23),\n",
       " ('Married', 18.05),\n",
       " ('Divorced', 11.88),\n",
       " ('Unknown', 12.38),\n",
       " ('Divorced', 11.08),\n",
       " ('Single', 14.49),\n",
       " ('Separated', 17.98),\n",
       " ('Single', 14.9)]"
      ]
     },
     "execution_count": 18,
     "metadata": {},
     "output_type": "execute_result"
    }
   ],
   "source": [
    "rows"
   ]
  },
  {
   "cell_type": "code",
   "execution_count": 21,
   "id": "98320c3c",
   "metadata": {},
   "outputs": [
    {
     "data": {
      "text/plain": [
       "[('Divorced', 6.48),\n",
       " ('Divorced', 11.08),\n",
       " ('Divorced', 11.88),\n",
       " ('Divorced', 14.07),\n",
       " ('Divorced', 14.58),\n",
       " ('Divorced', 18.17),\n",
       " ('Divorced', 19.41),\n",
       " ('Divorced', 19.49),\n",
       " ('Divorced', 19.52),\n",
       " ('Divorced', 83.75),\n",
       " ('Divorced', 88.65),\n",
       " ('Married', 3.3),\n",
       " ('Married', 4.34),\n",
       " ('Married', 4.51),\n",
       " ('Married', 5.94),\n",
       " ('Married', 6.67),\n",
       " ('Married', 8.81),\n",
       " ('Married', 9.1),\n",
       " ('Married', 10.3),\n",
       " ('Married', 10.35),\n",
       " ('Married', 10.87),\n",
       " ('Married', 11.25),\n",
       " ('Married', 11.89),\n",
       " ('Married', 12.01),\n",
       " ('Married', 12.41),\n",
       " ('Married', 12.8),\n",
       " ('Married', 13.23),\n",
       " ('Married', 13.9),\n",
       " ('Married', 14.03),\n",
       " ('Married', 14.15),\n",
       " ('Married', 14.2),\n",
       " ('Married', 14.81),\n",
       " ('Married', 14.87),\n",
       " ('Married', 15.04),\n",
       " ('Married', 15.11),\n",
       " ('Married', 15.31),\n",
       " ('Married', 16.09),\n",
       " ('Married', 16.71),\n",
       " ('Married', 16.76),\n",
       " ('Married', 17.72),\n",
       " ('Married', 17.84),\n",
       " ('Married', 18.05),\n",
       " ('Married', 18.05),\n",
       " ('Married', 18.08),\n",
       " ('Married', 18.2),\n",
       " ('Married', 18.33),\n",
       " ('Married', 18.65),\n",
       " ('Married', 18.8),\n",
       " ('Married', 18.91),\n",
       " ('Married', 19.22),\n",
       " ('Married', 19.46),\n",
       " ('Married', 19.5),\n",
       " ('Married', 19.66),\n",
       " ('Married', 19.74),\n",
       " ('Married', 93.6),\n",
       " ('Married', 94.06),\n",
       " ('Separated', 10.8),\n",
       " ('Separated', 13.03),\n",
       " ('Separated', 17.98),\n",
       " ('Separated', 19.36),\n",
       " ('Separated', 98.4),\n",
       " ('Single', 1.7),\n",
       " ('Single', 7.59),\n",
       " ('Single', 11.04),\n",
       " ('Single', 11.15),\n",
       " ('Single', 11.16),\n",
       " ('Single', 11.43),\n",
       " ('Single', 12.86),\n",
       " ('Single', 12.92),\n",
       " ('Single', 13.1),\n",
       " ('Single', 13.97),\n",
       " ('Single', 14.28),\n",
       " ('Single', 14.49),\n",
       " ('Single', 14.49),\n",
       " ('Single', 14.9),\n",
       " ('Single', 14.99),\n",
       " ('Single', 15.24),\n",
       " ('Single', 15.56),\n",
       " ('Single', 15.72),\n",
       " ('Single', 15.98),\n",
       " ('Single', 16.24),\n",
       " ('Single', 16.32),\n",
       " ('Single', 16.43),\n",
       " ('Single', 16.69),\n",
       " ('Single', 16.86),\n",
       " ('Single', 16.88),\n",
       " ('Single', 18.36),\n",
       " ('Single', 18.41),\n",
       " ('Single', 18.88),\n",
       " ('Single', 19.52),\n",
       " ('Single', 89.44),\n",
       " ('Single', 93.23),\n",
       " ('Single', 94.0),\n",
       " ('Unknown', 12.38),\n",
       " ('Unknown', 15.02),\n",
       " ('Unknown', 16.89),\n",
       " ('Unknown', 18.95),\n",
       " ('Unknown', 19.16),\n",
       " ('Unknown', 82.08),\n",
       " ('Widowed', 88.66)]"
      ]
     },
     "execution_count": 21,
     "metadata": {},
     "output_type": "execute_result"
    }
   ],
   "source": [
    "sorted(rows, key=lambda row: (row[0], row[1]))"
   ]
  },
  {
   "cell_type": "code",
   "execution_count": 22,
   "id": "95a82e3b",
   "metadata": {},
   "outputs": [
    {
     "data": {
      "text/plain": [
       "[('Divorced', 88.65),\n",
       " ('Divorced', 83.75),\n",
       " ('Divorced', 19.52),\n",
       " ('Divorced', 19.49),\n",
       " ('Divorced', 19.41),\n",
       " ('Divorced', 18.17),\n",
       " ('Divorced', 14.58),\n",
       " ('Divorced', 14.07),\n",
       " ('Divorced', 11.88),\n",
       " ('Divorced', 11.08),\n",
       " ('Divorced', 6.48),\n",
       " ('Married', 94.06),\n",
       " ('Married', 93.6),\n",
       " ('Married', 19.74),\n",
       " ('Married', 19.66),\n",
       " ('Married', 19.5),\n",
       " ('Married', 19.46),\n",
       " ('Married', 19.22),\n",
       " ('Married', 18.91),\n",
       " ('Married', 18.8),\n",
       " ('Married', 18.65),\n",
       " ('Married', 18.33),\n",
       " ('Married', 18.2),\n",
       " ('Married', 18.08),\n",
       " ('Married', 18.05),\n",
       " ('Married', 18.05),\n",
       " ('Married', 17.84),\n",
       " ('Married', 17.72),\n",
       " ('Married', 16.76),\n",
       " ('Married', 16.71),\n",
       " ('Married', 16.09),\n",
       " ('Married', 15.31),\n",
       " ('Married', 15.11),\n",
       " ('Married', 15.04),\n",
       " ('Married', 14.87),\n",
       " ('Married', 14.81),\n",
       " ('Married', 14.2),\n",
       " ('Married', 14.15),\n",
       " ('Married', 14.03),\n",
       " ('Married', 13.9),\n",
       " ('Married', 13.23),\n",
       " ('Married', 12.8),\n",
       " ('Married', 12.41),\n",
       " ('Married', 12.01),\n",
       " ('Married', 11.89),\n",
       " ('Married', 11.25),\n",
       " ('Married', 10.87),\n",
       " ('Married', 10.35),\n",
       " ('Married', 10.3),\n",
       " ('Married', 9.1),\n",
       " ('Married', 8.81),\n",
       " ('Married', 6.67),\n",
       " ('Married', 5.94),\n",
       " ('Married', 4.51),\n",
       " ('Married', 4.34),\n",
       " ('Married', 3.3),\n",
       " ('Separated', 98.4),\n",
       " ('Separated', 19.36),\n",
       " ('Separated', 17.98),\n",
       " ('Separated', 13.03),\n",
       " ('Separated', 10.8),\n",
       " ('Single', 94.0),\n",
       " ('Single', 93.23),\n",
       " ('Single', 89.44),\n",
       " ('Single', 19.52),\n",
       " ('Single', 18.88),\n",
       " ('Single', 18.41),\n",
       " ('Single', 18.36),\n",
       " ('Single', 16.88),\n",
       " ('Single', 16.86),\n",
       " ('Single', 16.69),\n",
       " ('Single', 16.43),\n",
       " ('Single', 16.32),\n",
       " ('Single', 16.24),\n",
       " ('Single', 15.98),\n",
       " ('Single', 15.72),\n",
       " ('Single', 15.56),\n",
       " ('Single', 15.24),\n",
       " ('Single', 14.99),\n",
       " ('Single', 14.9),\n",
       " ('Single', 14.49),\n",
       " ('Single', 14.49),\n",
       " ('Single', 14.28),\n",
       " ('Single', 13.97),\n",
       " ('Single', 13.1),\n",
       " ('Single', 12.92),\n",
       " ('Single', 12.86),\n",
       " ('Single', 11.43),\n",
       " ('Single', 11.16),\n",
       " ('Single', 11.15),\n",
       " ('Single', 11.04),\n",
       " ('Single', 7.59),\n",
       " ('Single', 1.7),\n",
       " ('Unknown', 82.08),\n",
       " ('Unknown', 19.16),\n",
       " ('Unknown', 18.95),\n",
       " ('Unknown', 16.89),\n",
       " ('Unknown', 15.02),\n",
       " ('Unknown', 12.38),\n",
       " ('Widowed', 88.66)]"
      ]
     },
     "execution_count": 22,
     "metadata": {},
     "output_type": "execute_result"
    }
   ],
   "source": [
    "sorted(rows, key=lambda row: (row[0], -1*row[1]))"
   ]
  },
  {
   "cell_type": "code",
   "execution_count": 23,
   "id": "8bef1f34",
   "metadata": {},
   "outputs": [
    {
     "data": {
      "text/plain": [
       "True"
      ]
     },
     "execution_count": 23,
     "metadata": {},
     "output_type": "execute_result"
    }
   ],
   "source": [
    "'1950-01-01' < '1950-01-21'"
   ]
  },
  {
   "cell_type": "code",
   "execution_count": 25,
   "id": "1f844cea",
   "metadata": {},
   "outputs": [
    {
     "data": {
      "text/plain": [
       "False"
      ]
     },
     "execution_count": 25,
     "metadata": {},
     "output_type": "execute_result"
    }
   ],
   "source": [
    "'19530119' < '19500121'"
   ]
  },
  {
   "cell_type": "code",
   "execution_count": 29,
   "id": "66272241",
   "metadata": {},
   "outputs": [
    {
     "data": {
      "text/plain": [
       "True"
      ]
     },
     "execution_count": 29,
     "metadata": {},
     "output_type": "execute_result"
    }
   ],
   "source": [
    "'1952 18 02' < '1952 19 01'"
   ]
  },
  {
   "cell_type": "code",
   "execution_count": null,
   "id": "1a7f2e75",
   "metadata": {},
   "outputs": [],
   "source": [
    "x < y < zbb"
   ]
  },
  {
   "cell_type": "code",
   "execution_count": 30,
   "id": "17842b65",
   "metadata": {},
   "outputs": [
    {
     "data": {
      "text/plain": [
       "6"
      ]
     },
     "execution_count": 30,
     "metadata": {},
     "output_type": "execute_result"
    }
   ],
   "source": [
    "lfunc = lambda row: sum(row)\n",
    "\n",
    "lfunc([1, 2, 3])"
   ]
  },
  {
   "cell_type": "code",
   "execution_count": 31,
   "id": "2770bbb7",
   "metadata": {},
   "outputs": [
    {
     "data": {
      "text/plain": [
       "[6, 5, 15]"
      ]
     },
     "execution_count": 31,
     "metadata": {},
     "output_type": "execute_result"
    }
   ],
   "source": [
    "x = [[1, 2, 3], [2, 3], [4, 5, 6]]\n",
    "list(map(lfunc, x))"
   ]
  },
  {
   "cell_type": "code",
   "execution_count": 32,
   "id": "6786103b",
   "metadata": {},
   "outputs": [
    {
     "data": {
      "text/plain": [
       "5"
      ]
     },
     "execution_count": 32,
     "metadata": {},
     "output_type": "execute_result"
    }
   ],
   "source": [
    "lfunc(x[1])"
   ]
  },
  {
   "cell_type": "code",
   "execution_count": 33,
   "id": "8468455b",
   "metadata": {},
   "outputs": [
    {
     "data": {
      "text/plain": [
       "[(1, 10, 2), (2, 1, 3), (2, 2, 3)]"
      ]
     },
     "execution_count": 33,
     "metadata": {},
     "output_type": "execute_result"
    }
   ],
   "source": [
    "x = (\n",
    "    (2, 2, 3),\n",
    "    (2, 1, 3),\n",
    "    (1, 10, 2),\n",
    ")\n",
    "\n",
    "sorted(x, key=lambda ele: (ele[0], ele[1]))"
   ]
  },
  {
   "cell_type": "code",
   "execution_count": 35,
   "id": "390f8a35",
   "metadata": {},
   "outputs": [
    {
     "data": {
      "text/plain": [
       "[(2, 2, 3), (2, 1, 3), (1, 10, 2)]"
      ]
     },
     "execution_count": 35,
     "metadata": {},
     "output_type": "execute_result"
    }
   ],
   "source": [
    "sorted(x, key=lambda ele: (ele[0], ele[1]), reverse=1)"
   ]
  },
  {
   "cell_type": "code",
   "execution_count": null,
   "id": "2ac1afcd",
   "metadata": {},
   "outputs": [],
   "source": []
  }
 ],
 "metadata": {
  "kernelspec": {
   "display_name": "Python 3 (ipykernel)",
   "language": "python",
   "name": "python3"
  },
  "language_info": {
   "codemirror_mode": {
    "name": "ipython",
    "version": 3
   },
   "file_extension": ".py",
   "mimetype": "text/x-python",
   "name": "python",
   "nbconvert_exporter": "python",
   "pygments_lexer": "ipython3",
   "version": "3.9.13"
  }
 },
 "nbformat": 4,
 "nbformat_minor": 5
}
