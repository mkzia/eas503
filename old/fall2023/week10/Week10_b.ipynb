{
 "cells": [
  {
   "cell_type": "code",
   "execution_count": 5,
   "id": "4e2849c1",
   "metadata": {},
   "outputs": [],
   "source": [
    "import sqlite3\n",
    "from sqlite3 import Error\n",
    "\n",
    "\n",
    "def create_connection(db_file):\n",
    "    conn = None\n",
    "    try:\n",
    "        conn = sqlite3.connect(db_file)\n",
    "    except Error as e:\n",
    "        print(e)\n",
    "\n",
    "    return conn\n",
    "\n",
    "def create_table(conn, create_table_sql):\n",
    "    try:\n",
    "        c = conn.cursor()\n",
    "        c.execute(create_table_sql)\n",
    "    except Error as e:\n",
    "        print(e)"
   ]
  },
  {
   "cell_type": "code",
   "execution_count": 6,
   "id": "0b758904",
   "metadata": {},
   "outputs": [
    {
     "name": "stdout",
     "output_type": "stream",
     "text": [
      "('Melissa', 'Larson')\n",
      "('Melissa', 'Novak')\n",
      "('Wendy', 'Sawyer')\n",
      "('Marcus', 'Schultz')\n",
      "('Nicholas', 'Vega')\n",
      "('Brenda', 'Adams')\n",
      "('Charlene', 'Thompson')\n",
      "('Bradley', 'Booth')\n",
      "('Eugene', 'Gallegos')\n",
      "('Mary', 'Munoz')\n",
      "('Kimberly', 'Carey')\n",
      "('Philip', 'Paul')\n",
      "('Madeline', 'Reed')\n",
      "('Cassie', 'Parsons')\n",
      "('Glenn', 'Mcclain')\n",
      "('Janice', 'Oliver')\n",
      "('Catherine', 'Lozano')\n",
      "('John', 'Klein')\n",
      "('Marcus', 'Brooks')\n",
      "('Michael', 'Lee')\n",
      "('Elizabeth', 'Myers')\n",
      "('Katherine', 'Bowen')\n",
      "('Edward', 'Gibson')\n",
      "('Christopher', 'Smith')\n",
      "('Debra', 'Key')\n",
      "('Carlos', 'Fleming')\n",
      "('Nathan', 'Parrish')\n",
      "('Michael', 'Lewis')\n",
      "('David', 'Diaz')\n",
      "('Linda', 'Walter')\n",
      "('Amanda', 'Bailey')\n",
      "('Robert', 'Terrell')\n",
      "('Janice', 'Johnson')\n",
      "('John', 'Lee')\n",
      "('Kathryn', 'Dominguez')\n",
      "('Paige', 'Ellis')\n",
      "('Jennifer', 'Wilkinson')\n",
      "('Michelle', 'Rodriguez')\n",
      "('Lisa', 'Kennedy')\n",
      "('Michelle', 'Henderson')\n",
      "('James', 'Hill')\n",
      "('David', 'Jones')\n",
      "('Patrick', 'Landry')\n",
      "('Jerome', 'Cox')\n",
      "('Linda', 'Santana')\n",
      "('Robert', 'Patton')\n",
      "('Christopher', 'Mclean')\n",
      "('Andre', 'Rhodes')\n",
      "('John', 'Ramsey')\n",
      "('Paul', 'Martin')\n",
      "('Kelli', 'Perez')\n",
      "('Troy', 'Moran')\n",
      "('Sarah', 'Kerr')\n",
      "('Stephanie', 'Wade')\n",
      "('Rebecca', 'Smith')\n",
      "('Joel', 'Long')\n",
      "('Cody', 'Ashley')\n",
      "('Rachel', 'Patrick')\n",
      "('Alex', 'Oliver')\n",
      "('Shannon', 'Hoffman')\n",
      "('Michael', 'Holden')\n",
      "('Vanessa', 'Graham')\n",
      "('Christopher', 'Blair')\n",
      "('Diana', 'Taylor')\n",
      "('Brandon', 'Reilly')\n",
      "('Matthew', 'Gamble')\n",
      "('Patrick', 'Weber')\n",
      "('Judy', 'Woodard')\n",
      "('Alexandra', 'Hull')\n",
      "('Jessica', 'Frank')\n",
      "('Samuel', 'Davis')\n",
      "('Alexandra', 'Baird')\n",
      "('James', 'Hensley')\n",
      "('Carmen', 'Luna')\n",
      "('Brian', 'Garcia')\n",
      "('Luis', 'Andrews')\n",
      "('Jessica', 'Watson')\n",
      "('Dawn', 'Evans')\n",
      "('Tammy', 'Barnes')\n",
      "('Angela', 'Nelson')\n",
      "('Jennifer', 'Patterson')\n",
      "('Austin', 'King')\n",
      "('Carol', 'Smith')\n",
      "('Lisa', 'Cook')\n",
      "('Shawn', 'Francis')\n",
      "('Michael', 'Monroe')\n",
      "('Patrick', 'Cortez')\n",
      "('Kristen', 'Chang')\n",
      "('Brandy', 'Mcclain')\n",
      "('Stephanie', 'Sellers')\n",
      "('Mariah', 'Olsen')\n",
      "('Brianna', 'Melton')\n",
      "('Jon', 'Day')\n",
      "('Brian', 'Little')\n",
      "('Wayne', 'Johnson')\n",
      "('Andrew', 'Duncan')\n",
      "('Alexander', 'Bush')\n",
      "('Michael', 'Summers')\n",
      "('Sandra', 'Bowers')\n",
      "('Jonathan', 'Fernandez')\n"
     ]
    }
   ],
   "source": [
    "db_file = 'student_test_in_class.db'\n",
    "conn = create_connection(db_file)\n",
    "cur = conn.cursor()\n",
    "cur.execute(\"SELECT first_name, last_name FROM students\")\n",
    "\n",
    "rows = cur.fetchall()\n",
    "\n",
    "for row in rows:\n",
    "    print(row)"
   ]
  },
  {
   "cell_type": "code",
   "execution_count": 13,
   "id": "b8b90d80",
   "metadata": {},
   "outputs": [],
   "source": []
  },
  {
   "cell_type": "code",
   "execution_count": 24,
   "id": "2209b914",
   "metadata": {},
   "outputs": [
    {
     "ename": "PermissionError",
     "evalue": "[WinError 32] The process cannot access the file because it is being used by another process: 'student_test_in_class3.db'",
     "output_type": "error",
     "traceback": [
      "\u001b[1;31m---------------------------------------------------------------------------\u001b[0m",
      "\u001b[1;31mPermissionError\u001b[0m                           Traceback (most recent call last)",
      "\u001b[1;32m~\\AppData\\Local\\Temp\\ipykernel_23956\\3072941672.py\u001b[0m in \u001b[0;36m<module>\u001b[1;34m\u001b[0m\n\u001b[0;32m     10\u001b[0m \u001b[1;33m\u001b[0m\u001b[0m\n\u001b[0;32m     11\u001b[0m \u001b[1;32mif\u001b[0m \u001b[0mos\u001b[0m\u001b[1;33m.\u001b[0m\u001b[0mpath\u001b[0m\u001b[1;33m.\u001b[0m\u001b[0mexists\u001b[0m\u001b[1;33m(\u001b[0m\u001b[0mdb_file\u001b[0m\u001b[1;33m)\u001b[0m\u001b[1;33m:\u001b[0m\u001b[1;33m\u001b[0m\u001b[1;33m\u001b[0m\u001b[0m\n\u001b[1;32m---> 12\u001b[1;33m     \u001b[0mos\u001b[0m\u001b[1;33m.\u001b[0m\u001b[0mremove\u001b[0m\u001b[1;33m(\u001b[0m\u001b[0mdb_file\u001b[0m\u001b[1;33m)\u001b[0m\u001b[1;33m\u001b[0m\u001b[1;33m\u001b[0m\u001b[0m\n\u001b[0m\u001b[0;32m     13\u001b[0m \u001b[1;33m\u001b[0m\u001b[0m\n\u001b[0;32m     14\u001b[0m create_table_sql = \"\"\"\n",
      "\u001b[1;31mPermissionError\u001b[0m: [WinError 32] The process cannot access the file because it is being used by another process: 'student_test_in_class3.db'"
     ]
    }
   ],
   "source": [
    "try:\n",
    "    conn.close()\n",
    "except:\n",
    "    pass\n",
    "\n",
    "db_file = 'student_test_in_class3.db'\n",
    "conn = create_connection(db_file)\n",
    "\n",
    "import os\n",
    "\n",
    "if os.path.exists(db_file):\n",
    "    os.remove(db_file)\n",
    "\n",
    "create_table_sql = \"\"\"\n",
    "CREATE TABLE students (\n",
    "    last_name TEXT,\n",
    "    first_name TEXT,\n",
    "    username TEXT,\n",
    "    exam1 REAL,\n",
    "    exam2 REAL,\n",
    "    exam3 REAL\n",
    ");\n",
    "\"\"\"\n",
    "\n",
    "def insert_student(conn, values):\n",
    "    sql = ''' INSERT INTO students(last_name,first_name,username,exam1,exam2,exam3)\n",
    "              VALUES(?,?,?,?,?,?) '''\n",
    "    cur = conn.cursor()\n",
    "    cur.execute(sql, values)\n",
    "    return cur.lastrowid\n",
    "\n",
    "\n",
    "with conn:\n",
    "    # create\n",
    "    create_table(conn, create_table_sql)\n",
    "\n",
    "    # insert\n",
    "    for student in open('students.tsv', 'r'):\n",
    "        values = student.strip().split('\\t')\n",
    "        print(values)\n",
    "        rid = insert_student(conn, values) ## What is rid?\n"
   ]
  },
  {
   "cell_type": "code",
   "execution_count": 18,
   "id": "e5ceddfa",
   "metadata": {},
   "outputs": [
    {
     "data": {
      "text/plain": [
       "100"
      ]
     },
     "execution_count": 18,
     "metadata": {},
     "output_type": "execute_result"
    }
   ],
   "source": [
    "rid"
   ]
  },
  {
   "cell_type": "code",
   "execution_count": 20,
   "id": "04336c39",
   "metadata": {},
   "outputs": [
    {
     "ename": "OperationalError",
     "evalue": "no such table: students",
     "output_type": "error",
     "traceback": [
      "\u001b[1;31m---------------------------------------------------------------------------\u001b[0m",
      "\u001b[1;31mOperationalError\u001b[0m                          Traceback (most recent call last)",
      "\u001b[1;32m~\\AppData\\Local\\Temp\\ipykernel_23956\\666699988.py\u001b[0m in \u001b[0;36m<module>\u001b[1;34m\u001b[0m\n\u001b[0;32m      3\u001b[0m \u001b[0mcur\u001b[0m \u001b[1;33m=\u001b[0m \u001b[0mconn\u001b[0m\u001b[1;33m.\u001b[0m\u001b[0mcursor\u001b[0m\u001b[1;33m(\u001b[0m\u001b[1;33m)\u001b[0m\u001b[1;33m\u001b[0m\u001b[1;33m\u001b[0m\u001b[0m\n\u001b[0;32m      4\u001b[0m \u001b[1;33m\u001b[0m\u001b[0m\n\u001b[1;32m----> 5\u001b[1;33m \u001b[0mcur\u001b[0m\u001b[1;33m.\u001b[0m\u001b[0mexecute\u001b[0m\u001b[1;33m(\u001b[0m\u001b[1;34m\"SELECT first_name, last_name FROM students\"\u001b[0m\u001b[1;33m)\u001b[0m\u001b[1;33m\u001b[0m\u001b[1;33m\u001b[0m\u001b[0m\n\u001b[0m\u001b[0;32m      6\u001b[0m \u001b[1;33m\u001b[0m\u001b[0m\n\u001b[0;32m      7\u001b[0m \u001b[0mrows\u001b[0m \u001b[1;33m=\u001b[0m \u001b[0mcur\u001b[0m\u001b[1;33m.\u001b[0m\u001b[0mfetchall\u001b[0m\u001b[1;33m(\u001b[0m\u001b[1;33m)\u001b[0m\u001b[1;33m\u001b[0m\u001b[1;33m\u001b[0m\u001b[0m\n",
      "\u001b[1;31mOperationalError\u001b[0m: no such table: students"
     ]
    }
   ],
   "source": [
    "conn = create_connection(db_file)\n",
    "\n",
    "cur = conn.cursor()\n",
    "\n",
    "cur.execute(\"SELECT first_name, last_name FROM students\")\n",
    "\n",
    "rows = cur.fetchall()\n",
    "\n",
    "for row in rows:\n",
    "    print(row)"
   ]
  },
  {
   "cell_type": "code",
   "execution_count": 3,
   "id": "8ec65659",
   "metadata": {},
   "outputs": [],
   "source": [
    "import sqlite3\n",
    "from sqlite3 import Error\n",
    "import os\n",
    "\n",
    "def create_connection(db_file):\n",
    "    conn = None\n",
    "    try:\n",
    "        conn = sqlite3.connect(db_file)\n",
    "    except Error as e:\n",
    "        print(e)\n",
    "\n",
    "    return conn\n",
    "\n",
    "def create_table(conn, create_table_sql):\n",
    "    try:\n",
    "        c = conn.cursor()\n",
    "        c.execute(create_table_sql)\n",
    "    except Error as e:\n",
    "        print(e)\n",
    "\n",
    "\n",
    "db = 'depts_students.db'\n",
    "if os.path.exists(db):\n",
    "    os.remove(db)\n",
    "    \n",
    "    \n",
    "create_table_departments_sql = \"\"\" CREATE TABLE [Departments] (\n",
    "    [DepartmentId] INTEGER  NOT NULL PRIMARY KEY,\n",
    "    [DepartmentName] TEXT \n",
    "); \"\"\"\n",
    "\n",
    "create_table_students_sql = \"\"\"CREATE TABLE [Students] (\n",
    "    [StudentId] INTEGER  PRIMARY KEY NOT NULL,\n",
    "    [StudentName] TEXT NOT NULL,\n",
    "    [DepartmentId] INTEGER,\n",
    "    [DateOfBirth] DATE,\n",
    "    FOREIGN KEY(DepartmentId) REFERENCES Departments(DepartmentId)\n",
    ");\"\"\"\n",
    "\n",
    "\n",
    "depts = ('IT', 'Physics', 'Arts', 'Math')\n",
    "\n",
    "students = (\n",
    "    ('Michael', 1, '1998-10-12'),\n",
    "    ('John', 1, '1998-10-12'),\n",
    "    ('Jack', 1, '1998-10-12'),\n",
    "    ('Sara', 2, '1998-10-12'),\n",
    "    ('Sally', 2, '1998-10-12'),\n",
    "    ('Jena', None, '1998-10-12'),\n",
    "    ('Nancy', 2, '1998-10-12'),\n",
    "    ('Adam', 3, '1998-10-12'),\n",
    "    ('Stevens', 3, '1998-10-12'),\n",
    "    ('George', None, '1998-10-12')\n",
    ")\n",
    "\n",
    "def insert_depts(conn, values):\n",
    "    sql = ''' INSERT INTO Departments(DepartmentName)\n",
    "              VALUES(?) '''\n",
    "    cur = conn.cursor()\n",
    "    cur.execute(sql, values)\n",
    "    return cur.lastrowid\n",
    "\n",
    "\n",
    "def insert_student(conn, values):\n",
    "    sql = ''' INSERT INTO Students(StudentName, DepartmentId, DateOfBirth)\n",
    "              VALUES(?,?,?) '''\n",
    "    cur = conn.cursor()\n",
    "    cur.execute(sql, values)\n",
    "    return cur.lastrowid\n",
    "\n",
    "\n",
    "conn = create_connection(db)\n",
    "\n",
    "with conn:\n",
    "\n",
    "    create_table(conn, create_table_departments_sql)\n",
    "    create_table(conn, create_table_students_sql)\n",
    "    for values in depts:\n",
    "        insert_depts(conn, (values, ))\n",
    "        \n",
    "    for values in students:\n",
    "        insert_student(conn, values)\n"
   ]
  },
  {
   "cell_type": "code",
   "execution_count": 10,
   "id": "0f70bc2c",
   "metadata": {},
   "outputs": [],
   "source": [
    "conn.close()"
   ]
  },
  {
   "cell_type": "code",
   "execution_count": 19,
   "id": "61d953b5",
   "metadata": {},
   "outputs": [
    {
     "name": "stdout",
     "output_type": "stream",
     "text": [
      "100\n",
      "101\n",
      "102\n",
      "103\n"
     ]
    }
   ],
   "source": [
    "db = 'depts_students.db'\n",
    "if os.path.exists(db):\n",
    "    os.remove(db)\n",
    "\n",
    "depts = ('IT', 'Physics', 'Arts', 'Math')\n",
    "\n",
    "create_table_departments_sql = \"\"\" CREATE TABLE [Departments] (\n",
    "    [DepartmentId] INTEGER NOT NULL PRIMARY KEY,\n",
    "    [DepartmentName] TEXT \n",
    "); \"\"\"\n",
    "\n",
    "\n",
    "\n",
    "def insert_depts(conn, values):\n",
    "    sql = ''' INSERT INTO Departments(DepartmentName)\n",
    "              VALUES(?) '''\n",
    "    cur = conn.cursor()\n",
    "    cur.execute(sql, values)\n",
    "    return cur.lastrowid\n",
    "\n",
    "conn = create_connection(db)\n",
    "\n",
    "with conn:\n",
    "\n",
    "    create_table(conn, create_table_departments_sql)\n",
    "    create_table(conn, create_table_students_sql)\n",
    "    for idx, values in enumerate(depts, 100):\n",
    "        val = insert_depts(conn, (idx, values))\n",
    "        print(val)"
   ]
  },
  {
   "cell_type": "code",
   "execution_count": 20,
   "id": "700e0dba",
   "metadata": {},
   "outputs": [],
   "source": [
    "conn.close()"
   ]
  },
  {
   "cell_type": "code",
   "execution_count": 23,
   "id": "68af1066",
   "metadata": {},
   "outputs": [
    {
     "name": "stdout",
     "output_type": "stream",
     "text": [
      "(100, 'IT')\n",
      "(101, 'Physics')\n",
      "(102, 'Arts')\n",
      "(103, 'Math')\n"
     ]
    }
   ],
   "source": [
    "\n",
    "cur = conn.cursor()\n",
    "cur.execute('SELECT * FROM Departments')\n",
    "for row in cur.fetchall():  \n",
    "    print(row)"
   ]
  },
  {
   "cell_type": "code",
   "execution_count": 24,
   "id": "2c4bf94a",
   "metadata": {},
   "outputs": [],
   "source": [
    "for row in cur.fetchall():\n",
    "    print(row)"
   ]
  },
  {
   "cell_type": "code",
   "execution_count": 25,
   "id": "04a43d1f",
   "metadata": {},
   "outputs": [
    {
     "name": "stdout",
     "output_type": "stream",
     "text": [
      "(100, 'IT')\n",
      "(101, 'Physics')\n",
      "(102, 'Arts')\n",
      "(103, 'Math')\n",
      "None\n"
     ]
    }
   ],
   "source": [
    "cur.execute('SELECT * FROM Departments')\n",
    "print(cur.fetchone())\n",
    "print(cur.fetchone())\n",
    "print(cur.fetchone())\n",
    "print(cur.fetchone())\n",
    "print(cur.fetchone())"
   ]
  },
  {
   "cell_type": "code",
   "execution_count": 26,
   "id": "ae4bdbd7",
   "metadata": {},
   "outputs": [
    {
     "name": "stdout",
     "output_type": "stream",
     "text": [
      "{'IT': 100, 'Physics': 101, 'Arts': 102, 'Math': 103}\n"
     ]
    }
   ],
   "source": [
    "cur.execute('SELECT * FROM Departments')\n",
    "dept_fk_lookup = {}\n",
    "for row in cur.fetchall():\n",
    "    key, text = row\n",
    "    dept_fk_lookup[text] = key\n",
    "print(dept_fk_lookup)"
   ]
  },
  {
   "cell_type": "code",
   "execution_count": 27,
   "id": "5bd44926",
   "metadata": {},
   "outputs": [],
   "source": [
    "conn.close()"
   ]
  },
  {
   "cell_type": "code",
   "execution_count": 31,
   "id": "16135a8d",
   "metadata": {},
   "outputs": [
    {
     "name": "stdout",
     "output_type": "stream",
     "text": [
      "BEFORE ['Michael', 'IT', '1998-10-12']\n",
      "key IT\n",
      "AFTER ['Michael', 100, '1998-10-12']\n",
      "BEFORE ['John', 'IT', '1998-10-12']\n",
      "key IT\n",
      "AFTER ['John', 100, '1998-10-12']\n",
      "BEFORE ['Jack', 'IT', '1998-10-12']\n",
      "key IT\n",
      "AFTER ['Jack', 100, '1998-10-12']\n",
      "BEFORE ['Sara', 'Physics', '1998-10-12']\n",
      "key Physics\n",
      "AFTER ['Sara', 101, '1998-10-12']\n",
      "BEFORE ['Sally', 'Physics', '1998-10-12']\n",
      "key Physics\n",
      "AFTER ['Sally', 101, '1998-10-12']\n",
      "BEFORE ['Jena', None, '1998-10-12']\n",
      "key None\n",
      "AFTER ['Jena', None, '1998-10-12']\n",
      "BEFORE ['Nancy', 'Physics', '1998-10-12']\n",
      "key Physics\n",
      "AFTER ['Nancy', 101, '1998-10-12']\n",
      "BEFORE ['Adam', 'Arts', '1998-10-12']\n",
      "key Arts\n",
      "AFTER ['Adam', 102, '1998-10-12']\n",
      "BEFORE ['Stevens', 'Arts', '1998-10-12']\n",
      "key Arts\n",
      "AFTER ['Stevens', 102, '1998-10-12']\n",
      "BEFORE ['George', None, '1998-10-12']\n",
      "key None\n",
      "AFTER ['George', None, '1998-10-12']\n"
     ]
    }
   ],
   "source": [
    "db = 'depts_students3.db'\n",
    "if os.path.exists(db):\n",
    "    os.remove(db)\n",
    "conn = create_connection(db)\n",
    "create_table_departments_sql = \"\"\" CREATE TABLE [Departments] (\n",
    "    [DepartmentId] INTEGER  NOT NULL PRIMARY KEY,\n",
    "    [DepartmentName] TEXT \n",
    "); \"\"\"\n",
    "\n",
    "create_table_students_sql = \"\"\"CREATE TABLE [Students] (\n",
    "    [StudentId] INTEGER  PRIMARY KEY NOT NULL,\n",
    "    [StudentName] TEXT NOT NULL,\n",
    "    [DepartmentId] INTEGER,\n",
    "    [DateOfBirth] DATE,\n",
    "    FOREIGN KEY(DepartmentId) REFERENCES Departments(DepartmentId)\n",
    ");\"\"\"\n",
    "\n",
    "depts = ('IT', 'Physics', 'Arts', 'Math')\n",
    "students = (\n",
    "    ('Michael', 'IT', '1998-10-12'),\n",
    "    ('John', 'IT', '1998-10-12'),\n",
    "    ('Jack', 'IT', '1998-10-12'),\n",
    "    ('Sara', 'Physics', '1998-10-12'),\n",
    "    ('Sally', 'Physics', '1998-10-12'),\n",
    "    ('Jena', None, '1998-10-12'),\n",
    "    ('Nancy', 'Physics', '1998-10-12'),\n",
    "    ('Adam', 'Arts', '1998-10-12'),\n",
    "    ('Stevens', 'Arts', '1998-10-12'),\n",
    "    ('George', None, '1998-10-12')\n",
    ")\n",
    "\n",
    "def insert_depts(conn, values):\n",
    "    sql = ''' INSERT INTO Departments(DepartmentName)\n",
    "              VALUES(?) '''\n",
    "    cur = conn.cursor()\n",
    "    cur.execute(sql, values)\n",
    "    return cur.lastrowid\n",
    "\n",
    "with conn:\n",
    "\n",
    "    create_table(conn, create_table_departments_sql)\n",
    "    create_table(conn, create_table_students_sql)\n",
    "    for values in depts:\n",
    "        insert_depts(conn, (values, ))\n",
    "        \n",
    "    for values in students:\n",
    "        values = list(values)\n",
    "        print('BEFORE', values)\n",
    "        key = values[1]\n",
    "        print('key', key)\n",
    "        if key:\n",
    "            values[1] = dept_fk_lookup[values[1]]\n",
    "        print('AFTER',values)\n",
    "        insert_student(conn, values)"
   ]
  },
  {
   "cell_type": "code",
   "execution_count": 2,
   "id": "b45ea375",
   "metadata": {},
   "outputs": [],
   "source": [
    "import pandas as pd\n",
    "import sqlite3\n",
    "from sqlite3 import Error\n",
    "\n",
    "def create_connection(db_file, delete_db=False):\n",
    "    import os\n",
    "    if delete_db and os.path.exists(db_file):\n",
    "        os.remove(db_file)\n",
    "\n",
    "    conn = None\n",
    "    try:\n",
    "        conn = sqlite3.connect(db_file)\n",
    "        conn.execute(\"PRAGMA foreign_keys = 1\")\n",
    "    except Error as e:\n",
    "        print(e)\n",
    "\n",
    "    return conn\n",
    "\n",
    "\n",
    "def create_table(conn, create_table_sql):\n",
    "    try:\n",
    "        c = conn.cursor()\n",
    "        c.execute(create_table_sql)\n",
    "    except Error as e:\n",
    "        print(e)\n",
    "        \n",
    "def execute_sql_statement(sql_statement, conn):\n",
    "    cur = conn.cursor()\n",
    "    cur.execute(sql_statement)\n",
    "\n",
    "    rows = cur.fetchall()\n",
    "\n",
    "    return rows"
   ]
  },
  {
   "cell_type": "code",
   "execution_count": 3,
   "id": "dd599310",
   "metadata": {},
   "outputs": [],
   "source": [
    "conn = create_connection('india_export.db')\n",
    "\n",
    "sql_statement = \"SELECT DISTINCT year from export ORDER BY year\"\n",
    "\n",
    "years = execute_sql_statement(sql_statement, conn)\n",
    "# years = list(map(lambda row: int(row[0]), years))\n",
    "# print(years)"
   ]
  },
  {
   "cell_type": "code",
   "execution_count": 4,
   "id": "b763b0de",
   "metadata": {},
   "outputs": [
    {
     "data": {
      "text/plain": [
       "[(2010,),\n",
       " (2011,),\n",
       " (2012,),\n",
       " (2013,),\n",
       " (2014,),\n",
       " (2015,),\n",
       " (2016,),\n",
       " (2017,),\n",
       " (2018,)]"
      ]
     },
     "execution_count": 4,
     "metadata": {},
     "output_type": "execute_result"
    }
   ],
   "source": [
    "years"
   ]
  },
  {
   "cell_type": "code",
   "execution_count": 5,
   "id": "1ee7755f",
   "metadata": {},
   "outputs": [],
   "source": [
    "yrs = list(map(lambda row: int(row[0]), years))\n"
   ]
  },
  {
   "cell_type": "code",
   "execution_count": 6,
   "id": "789c5a07",
   "metadata": {},
   "outputs": [
    {
     "data": {
      "text/plain": [
       "[2010, 2011, 2012, 2013, 2014, 2015, 2016, 2017, 2018]"
      ]
     },
     "execution_count": 6,
     "metadata": {},
     "output_type": "execute_result"
    }
   ],
   "source": [
    "yrs"
   ]
  },
  {
   "cell_type": "code",
   "execution_count": 7,
   "id": "ffa3208b",
   "metadata": {},
   "outputs": [
    {
     "data": {
      "text/html": [
       "<div>\n",
       "<style scoped>\n",
       "    .dataframe tbody tr th:only-of-type {\n",
       "        vertical-align: middle;\n",
       "    }\n",
       "\n",
       "    .dataframe tbody tr th {\n",
       "        vertical-align: top;\n",
       "    }\n",
       "\n",
       "    .dataframe thead th {\n",
       "        text-align: right;\n",
       "    }\n",
       "</style>\n",
       "<table border=\"1\" class=\"dataframe\">\n",
       "  <thead>\n",
       "    <tr style=\"text-align: right;\">\n",
       "      <th></th>\n",
       "      <th>YEAR</th>\n",
       "    </tr>\n",
       "  </thead>\n",
       "  <tbody>\n",
       "  </tbody>\n",
       "</table>\n",
       "</div>"
      ],
      "text/plain": [
       "Empty DataFrame\n",
       "Columns: [YEAR]\n",
       "Index: []"
      ]
     },
     "metadata": {},
     "output_type": "display_data"
    }
   ],
   "source": [
    "create_table_sql = \"\"\"CREATE TABLE [Year] (\n",
    "    [YEAR] INTEGER NOT NULL PRIMARY KEY\n",
    ");\n",
    "\"\"\"\n",
    "# conn_norm.close()\n",
    "\n",
    "conn_norm = create_connection('india_export_norm.db', True)\n",
    "create_table(conn_norm, create_table_sql)\n",
    "sql_statement = \"SELECT * FROM Year\"\n",
    "df = pd.read_sql_query(sql_statement, conn_norm)\n",
    "display(df)\n",
    "conn_norm.close()"
   ]
  },
  {
   "cell_type": "code",
   "execution_count": 8,
   "id": "b29f0358",
   "metadata": {},
   "outputs": [],
   "source": [
    "def insert_year(conn, values):\n",
    "    sql = ''' INSERT INTO YEAR(YEAR)\n",
    "              VALUES(?) '''\n",
    "    cur = conn.cursor()\n",
    "    cur.execute(sql, values)\n",
    "    return cur.lastrowid\n",
    "\n",
    "\n",
    "conn_norm = create_connection('india_export_norm.db')\n",
    "\n",
    "\n",
    "with conn_norm:\n",
    "    for year in years:\n",
    "        insert_year(conn_norm, year)"
   ]
  },
  {
   "cell_type": "code",
   "execution_count": 9,
   "id": "dbe1c0f1",
   "metadata": {},
   "outputs": [
    {
     "data": {
      "text/html": [
       "<div>\n",
       "<style scoped>\n",
       "    .dataframe tbody tr th:only-of-type {\n",
       "        vertical-align: middle;\n",
       "    }\n",
       "\n",
       "    .dataframe tbody tr th {\n",
       "        vertical-align: top;\n",
       "    }\n",
       "\n",
       "    .dataframe thead th {\n",
       "        text-align: right;\n",
       "    }\n",
       "</style>\n",
       "<table border=\"1\" class=\"dataframe\">\n",
       "  <thead>\n",
       "    <tr style=\"text-align: right;\">\n",
       "      <th></th>\n",
       "      <th>YEAR</th>\n",
       "    </tr>\n",
       "  </thead>\n",
       "  <tbody>\n",
       "    <tr>\n",
       "      <th>0</th>\n",
       "      <td>2010</td>\n",
       "    </tr>\n",
       "    <tr>\n",
       "      <th>1</th>\n",
       "      <td>2011</td>\n",
       "    </tr>\n",
       "    <tr>\n",
       "      <th>2</th>\n",
       "      <td>2012</td>\n",
       "    </tr>\n",
       "    <tr>\n",
       "      <th>3</th>\n",
       "      <td>2013</td>\n",
       "    </tr>\n",
       "    <tr>\n",
       "      <th>4</th>\n",
       "      <td>2014</td>\n",
       "    </tr>\n",
       "    <tr>\n",
       "      <th>5</th>\n",
       "      <td>2015</td>\n",
       "    </tr>\n",
       "    <tr>\n",
       "      <th>6</th>\n",
       "      <td>2016</td>\n",
       "    </tr>\n",
       "    <tr>\n",
       "      <th>7</th>\n",
       "      <td>2017</td>\n",
       "    </tr>\n",
       "    <tr>\n",
       "      <th>8</th>\n",
       "      <td>2018</td>\n",
       "    </tr>\n",
       "  </tbody>\n",
       "</table>\n",
       "</div>"
      ],
      "text/plain": [
       "   YEAR\n",
       "0  2010\n",
       "1  2011\n",
       "2  2012\n",
       "3  2013\n",
       "4  2014\n",
       "5  2015\n",
       "6  2016\n",
       "7  2017\n",
       "8  2018"
      ]
     },
     "metadata": {},
     "output_type": "display_data"
    }
   ],
   "source": [
    "sql_statement = \"SELECT * FROM Year\"\n",
    "df = pd.read_sql_query(sql_statement, conn_norm)\n",
    "display(df)"
   ]
  },
  {
   "cell_type": "code",
   "execution_count": null,
   "id": "a27976e6",
   "metadata": {},
   "outputs": [],
   "source": [
    "[First Name] ==> FirstName"
   ]
  }
 ],
 "metadata": {
  "kernelspec": {
   "display_name": "Python 3 (ipykernel)",
   "language": "python",
   "name": "python3"
  },
  "language_info": {
   "codemirror_mode": {
    "name": "ipython",
    "version": 3
   },
   "file_extension": ".py",
   "mimetype": "text/x-python",
   "name": "python",
   "nbconvert_exporter": "python",
   "pygments_lexer": "ipython3",
   "version": "3.9.13"
  }
 },
 "nbformat": 4,
 "nbformat_minor": 5
}
