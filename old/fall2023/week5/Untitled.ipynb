{
 "cells": [
  {
   "cell_type": "code",
   "execution_count": 6,
   "id": "3b0558b8",
   "metadata": {},
   "outputs": [
    {
     "name": "stdout",
     "output_type": "stream",
     "text": [
      "20\n"
     ]
    }
   ],
   "source": [
    "number = 1234\n",
    "sum = 0\n",
    "while number:\n",
    "    sum += number % 10\n",
    "    number = number // 10 \n",
    "print(sum)"
   ]
  },
  {
   "cell_type": "code",
   "execution_count": 4,
   "id": "a0ce161b",
   "metadata": {},
   "outputs": [
    {
     "data": {
      "text/plain": [
       "6"
      ]
     },
     "execution_count": 4,
     "metadata": {},
     "output_type": "execute_result"
    }
   ],
   "source": [
    "234234234776 % 10"
   ]
  },
  {
   "cell_type": "code",
   "execution_count": 2,
   "id": "79597601",
   "metadata": {},
   "outputs": [
    {
     "data": {
      "text/plain": [
       "123.4"
      ]
     },
     "execution_count": 2,
     "metadata": {},
     "output_type": "execute_result"
    }
   ],
   "source": [
    "123 * 10 == 1230  + 4"
   ]
  },
  {
   "cell_type": "code",
   "execution_count": null,
   "id": "4296307e",
   "metadata": {},
   "outputs": [],
   "source": [
    "123 % 10 == > 120 + 3 "
   ]
  },
  {
   "cell_type": "code",
   "execution_count": null,
   "id": "0fe0b004",
   "metadata": {},
   "outputs": [],
   "source": [
    "1234 = 1230 + 4  --> 123 * 10 + 4"
   ]
  },
  {
   "cell_type": "code",
   "execution_count": 7,
   "id": "8d32914c",
   "metadata": {},
   "outputs": [],
   "source": [
    "total = 0\n",
    "for ele in str(6743):\n",
    "    total += int(ele)"
   ]
  },
  {
   "cell_type": "code",
   "execution_count": 8,
   "id": "ffd7d1ec",
   "metadata": {},
   "outputs": [
    {
     "data": {
      "text/plain": [
       "20"
      ]
     },
     "execution_count": 8,
     "metadata": {},
     "output_type": "execute_result"
    }
   ],
   "source": [
    "total"
   ]
  },
  {
   "cell_type": "code",
   "execution_count": 9,
   "id": "c5a1a68c",
   "metadata": {},
   "outputs": [
    {
     "name": "stdout",
     "output_type": "stream",
     "text": [
      "[1, 4, 9]\n"
     ]
    }
   ],
   "source": [
    "my_list = [1, 2, 3]\n",
    "new_list = []\n",
    "for ele in my_list:\n",
    "    tmp = ele * ele\n",
    "    new_list.append(tmp)\n",
    "print(new_list)"
   ]
  },
  {
   "cell_type": "code",
   "execution_count": 11,
   "id": "34597d77",
   "metadata": {},
   "outputs": [
    {
     "data": {
      "text/plain": [
       "[1, 4, 9]"
      ]
     },
     "execution_count": 11,
     "metadata": {},
     "output_type": "execute_result"
    }
   ],
   "source": [
    "[ele * ele for ele in my_list]"
   ]
  },
  {
   "cell_type": "code",
   "execution_count": 13,
   "id": "ab95637a",
   "metadata": {},
   "outputs": [
    {
     "data": {
      "text/plain": [
       "[100, 200, 300]"
      ]
     },
     "execution_count": 13,
     "metadata": {},
     "output_type": "execute_result"
    }
   ],
   "source": [
    "my_list = [1, 2, 3]\n",
    "new_list = []\n",
    "for ele in my_list:\n",
    "    tmp = ele * 10\n",
    "    new_list.append(tmp)\n",
    "    \n",
    "[ele * 10 for ele in new_list]"
   ]
  },
  {
   "cell_type": "code",
   "execution_count": 16,
   "id": "e0fade00",
   "metadata": {},
   "outputs": [
    {
     "data": {
      "text/plain": [
       "'BUFFALO'"
      ]
     },
     "execution_count": 16,
     "metadata": {},
     "output_type": "execute_result"
    }
   ],
   "source": [
    "animal = 'buffalo'\n",
    "''.join([char.upper() for char in animal])"
   ]
  },
  {
   "cell_type": "code",
   "execution_count": 15,
   "id": "d96417de",
   "metadata": {},
   "outputs": [
    {
     "data": {
      "text/plain": [
       "'BUFFALO'"
      ]
     },
     "execution_count": 15,
     "metadata": {},
     "output_type": "execute_result"
    }
   ],
   "source": [
    "animal.upper()"
   ]
  },
  {
   "cell_type": "code",
   "execution_count": 17,
   "id": "8b3445fc",
   "metadata": {},
   "outputs": [
    {
     "data": {
      "text/plain": [
       "['John', 'Jane', 'Doe']"
      ]
     },
     "execution_count": 17,
     "metadata": {},
     "output_type": "execute_result"
    }
   ],
   "source": [
    "students = ['john', 'jane', 'doe']\n",
    "[student[0].upper()+student[1:] for student in students]\n"
   ]
  },
  {
   "cell_type": "code",
   "execution_count": 18,
   "id": "4320c9bb",
   "metadata": {},
   "outputs": [
    {
     "name": "stdout",
     "output_type": "stream",
     "text": [
      "['John', 'Jane', 'Doe']\n"
     ]
    }
   ],
   "source": [
    "students = ['john', 'jane', 'doe']\n",
    "print([student.title() for student in students])"
   ]
  },
  {
   "cell_type": "code",
   "execution_count": 19,
   "id": "0d48436b",
   "metadata": {},
   "outputs": [
    {
     "data": {
      "text/plain": [
       "[False, False, False]"
      ]
     },
     "execution_count": 19,
     "metadata": {},
     "output_type": "execute_result"
    }
   ],
   "source": [
    "my_list = [0, '', []]\n",
    "[bool(ele) for ele in my_list]"
   ]
  },
  {
   "cell_type": "code",
   "execution_count": 21,
   "id": "241dd51d",
   "metadata": {},
   "outputs": [
    {
     "data": {
      "text/plain": [
       "True"
      ]
     },
     "execution_count": 21,
     "metadata": {},
     "output_type": "execute_result"
    }
   ],
   "source": [
    "my_list = [1, '', []]\n",
    "any([bool(ele) for ele in my_list])"
   ]
  },
  {
   "cell_type": "code",
   "execution_count": 22,
   "id": "ecfe886f",
   "metadata": {},
   "outputs": [
    {
     "data": {
      "text/plain": [
       "False"
      ]
     },
     "execution_count": 22,
     "metadata": {},
     "output_type": "execute_result"
    }
   ],
   "source": [
    "my_list = [1, '', []]\n",
    "all([bool(ele) for ele in my_list])"
   ]
  },
  {
   "cell_type": "code",
   "execution_count": 23,
   "id": "58e0e5f7",
   "metadata": {},
   "outputs": [
    {
     "data": {
      "text/plain": [
       "['0', '1', '2', '3', '4', '5']"
      ]
     },
     "execution_count": 23,
     "metadata": {},
     "output_type": "execute_result"
    }
   ],
   "source": [
    "my_list = range(6)\n",
    "[str(element) for element in my_list]"
   ]
  },
  {
   "cell_type": "code",
   "execution_count": 25,
   "id": "1a95da5b",
   "metadata": {},
   "outputs": [
    {
     "data": {
      "text/plain": [
       "[0, 2, 4, 6, 8, 10, 12, 14, 16, 18]"
      ]
     },
     "execution_count": 25,
     "metadata": {},
     "output_type": "execute_result"
    }
   ],
   "source": [
    "numbers = range(20)\n",
    "[number for number in numbers if number % 2 == 0 ]\n"
   ]
  },
  {
   "cell_type": "code",
   "execution_count": 27,
   "id": "f5eca946",
   "metadata": {},
   "outputs": [
    {
     "data": {
      "text/plain": [
       "[1, 3, 5, 7, 9, 11, 13, 15, 17, 19]"
      ]
     },
     "execution_count": 27,
     "metadata": {},
     "output_type": "execute_result"
    }
   ],
   "source": [
    "[number for number in numbers if number % 2 ]"
   ]
  },
  {
   "cell_type": "code",
   "execution_count": 28,
   "id": "0901ead4",
   "metadata": {},
   "outputs": [
    {
     "data": {
      "text/plain": [
       "[0, 1, 2, 27, 4, 125, 6, 343, 8, 729]"
      ]
     },
     "execution_count": 28,
     "metadata": {},
     "output_type": "execute_result"
    }
   ],
   "source": [
    "numbers = range(10)\n",
    "[number if number % 2 == 0 else number**3 for number in range(10)]"
   ]
  },
  {
   "cell_type": "code",
   "execution_count": 29,
   "id": "8a072917",
   "metadata": {},
   "outputs": [
    {
     "data": {
      "text/plain": [
       "[0, 1, 4, 27, 16, 125, 36, 343, 64, 729]"
      ]
     },
     "execution_count": 29,
     "metadata": {},
     "output_type": "execute_result"
    }
   ],
   "source": [
    "[number*number if number % 2 == 0 else number**3 for number in range(10)]"
   ]
  },
  {
   "cell_type": "code",
   "execution_count": 30,
   "id": "7de3c1da",
   "metadata": {},
   "outputs": [
    {
     "data": {
      "text/plain": [
       "['0', 1, '2', 27, '4', 125, '6', 343, '8', 729]"
      ]
     },
     "execution_count": 30,
     "metadata": {},
     "output_type": "execute_result"
    }
   ],
   "source": [
    "[str(number) if number % 2 == 0 else number**3 for number in range(10)]"
   ]
  },
  {
   "cell_type": "code",
   "execution_count": 40,
   "id": "6300fea1",
   "metadata": {},
   "outputs": [
    {
     "data": {
      "text/plain": [
       "['r', 'l', 'l', 'y', 'w', 'n', 't', 't', 'g', 't', 'w', 'r', 'k']"
      ]
     },
     "execution_count": 40,
     "metadata": {},
     "output_type": "execute_result"
    }
   ],
   "source": [
    "sentence = 'I rEAlly want to gO to work'\n",
    "[char for char in sentence if char.lower() not in vowels and char.strip()]"
   ]
  },
  {
   "cell_type": "code",
   "execution_count": 32,
   "id": "0e4652e9",
   "metadata": {},
   "outputs": [
    {
     "data": {
      "text/plain": [
       "True"
      ]
     },
     "execution_count": 32,
     "metadata": {},
     "output_type": "execute_result"
    }
   ],
   "source": [
    "vowels = 'aeiou'\n",
    "'a' in vowels"
   ]
  },
  {
   "cell_type": "code",
   "execution_count": 33,
   "id": "925e4583",
   "metadata": {},
   "outputs": [
    {
     "data": {
      "text/plain": [
       "False"
      ]
     },
     "execution_count": 33,
     "metadata": {},
     "output_type": "execute_result"
    }
   ],
   "source": [
    "'b' in vowels"
   ]
  },
  {
   "cell_type": "code",
   "execution_count": 52,
   "id": "43e8da80",
   "metadata": {},
   "outputs": [
    {
     "data": {
      "text/plain": [
       "['Afghanistan',\n",
       " 'Albania',\n",
       " 'Algeria',\n",
       " 'Angola',\n",
       " 'Antigua & Barbuda',\n",
       " 'Argentina',\n",
       " 'Armenia',\n",
       " 'Aruba',\n",
       " 'Australia',\n",
       " 'Austria',\n",
       " 'Azerbaijan',\n",
       " 'Barbados',\n",
       " 'Belarus',\n",
       " 'Belgium',\n",
       " 'Belize',\n",
       " 'Benin',\n",
       " 'Bermuda',\n",
       " 'Bolivia',\n",
       " 'Bosnia Herzegovina',\n",
       " 'Brazil',\n",
       " 'Bulgaria',\n",
       " 'Burkina Faso',\n",
       " 'Cameroon',\n",
       " 'Canada',\n",
       " 'Cape Verde',\n",
       " 'Central African Rep.',\n",
       " 'Chad',\n",
       " 'Chile',\n",
       " 'China PR',\n",
       " 'Chinese Taipei',\n",
       " 'Colombia',\n",
       " 'Comoros',\n",
       " 'Congo',\n",
       " 'Costa Rica',\n",
       " 'Croatia',\n",
       " 'Cuba',\n",
       " 'Curacao',\n",
       " 'Cyprus',\n",
       " 'Czech Republic',\n",
       " 'DR Congo',\n",
       " 'Denmark',\n",
       " 'Dominican Republic',\n",
       " 'Ecuador',\n",
       " 'Egypt',\n",
       " 'El Salvador',\n",
       " 'England',\n",
       " 'Equatorial Guinea',\n",
       " 'Eritrea',\n",
       " 'Estonia',\n",
       " 'FIFA16_NationName_215',\n",
       " 'FYR Macedonia',\n",
       " 'Faroe Islands',\n",
       " 'Fiji',\n",
       " 'Finland',\n",
       " 'France',\n",
       " 'Gabon',\n",
       " 'Gambia',\n",
       " 'Georgia',\n",
       " 'Germany',\n",
       " 'Ghana',\n",
       " 'Gibraltar',\n",
       " 'Greece',\n",
       " 'Grenada',\n",
       " 'Guam',\n",
       " 'Guatemala',\n",
       " 'Guinea',\n",
       " 'Guinea Bissau',\n",
       " 'Guyana',\n",
       " 'Haiti',\n",
       " 'Honduras',\n",
       " 'Hungary',\n",
       " 'Iceland',\n",
       " 'India',\n",
       " 'Iran',\n",
       " 'Iraq',\n",
       " 'Israel',\n",
       " 'Italy',\n",
       " 'Ivory Coast',\n",
       " 'Jamaica',\n",
       " 'Japan',\n",
       " 'Kazakhstan',\n",
       " 'Kenya',\n",
       " 'Korea DPR',\n",
       " 'Korea Republic',\n",
       " 'Kosovo',\n",
       " 'Kuwait',\n",
       " 'Latvia',\n",
       " 'Lebanon',\n",
       " 'Lesotho',\n",
       " 'Liberia',\n",
       " 'Libya',\n",
       " 'Liechtenstein',\n",
       " 'Lithuania',\n",
       " 'Luxembourg',\n",
       " 'Madagascar',\n",
       " 'Mali',\n",
       " 'Malta',\n",
       " 'Mauritania',\n",
       " 'Mauritius',\n",
       " 'Mexico',\n",
       " 'Moldova',\n",
       " 'Montenegro',\n",
       " 'Montserrat',\n",
       " 'Morocco',\n",
       " 'Mozambique',\n",
       " 'Namibia',\n",
       " 'Netherlands',\n",
       " 'New Zealand',\n",
       " 'Niger',\n",
       " 'Nigeria',\n",
       " 'Northern Ireland',\n",
       " 'Norway',\n",
       " 'Oman',\n",
       " 'Pakistan',\n",
       " 'Palestine',\n",
       " 'Panama',\n",
       " 'Papua New Guinea',\n",
       " 'Paraguay',\n",
       " 'Peru',\n",
       " 'Philippines',\n",
       " 'Poland',\n",
       " 'Portugal',\n",
       " 'Puerto Rico',\n",
       " 'Qatar',\n",
       " 'Republic of Ireland',\n",
       " 'Romania',\n",
       " 'Russia',\n",
       " 'San Marino',\n",
       " 'Saudi Arabia',\n",
       " 'Scotland',\n",
       " 'Senegal',\n",
       " 'Serbia',\n",
       " 'Sierra Leone',\n",
       " 'Slovakia',\n",
       " 'Slovenia',\n",
       " 'Somalia',\n",
       " 'South Africa',\n",
       " 'Spain',\n",
       " 'St Kitts Nevis',\n",
       " 'St Lucia',\n",
       " 'Suriname',\n",
       " 'Sweden',\n",
       " 'Switzerland',\n",
       " 'Syria',\n",
       " 'São Tomé & Príncipe',\n",
       " 'Tanzania',\n",
       " 'Timor-Leste',\n",
       " 'Togo',\n",
       " 'Trinidad & Tobago',\n",
       " 'Tunisia',\n",
       " 'Turkey',\n",
       " 'Uganda',\n",
       " 'Ukraine',\n",
       " 'United States',\n",
       " 'Uruguay',\n",
       " 'Uzbekistan',\n",
       " 'Venezuela',\n",
       " 'Wales',\n",
       " 'Zambia',\n",
       " 'Zimbabwe']"
      ]
     },
     "execution_count": 52,
     "metadata": {},
     "output_type": "execute_result"
    }
   ],
   "source": [
    "filename = 'soccer_players_statistics.csv'\n",
    "# filename = 'soccer_players_statistics-Copy1.csv'\n",
    "\n",
    "def grab_nat(filename):\n",
    "    header = None\n",
    "    nat_list = []\n",
    "    nat_index = 1\n",
    "    with open(filename, encoding=\"utf-8\") as file:\n",
    "        for line in file:\n",
    "            line = line.strip()\n",
    "            if not line:\n",
    "                continue\n",
    "            line = line.split(',')    \n",
    "            if not header:\n",
    "                header = line\n",
    "                continue\n",
    "\n",
    "            nat = line[1]\n",
    "            if nat not in nat_list:\n",
    "                nat_list.append(nat)\n",
    "\n",
    "        nat_list.sort()\n",
    "        return nat_list\n",
    "    \n",
    "grab_nat(filename)"
   ]
  },
  {
   "cell_type": "code",
   "execution_count": 47,
   "id": "75a624bf",
   "metadata": {},
   "outputs": [],
   "source": [
    "lines = open(filename, encoding=\"utf-8\").readlines()"
   ]
  },
  {
   "cell_type": "code",
   "execution_count": 62,
   "id": "0a3a5e81",
   "metadata": {},
   "outputs": [
    {
     "data": {
      "text/plain": [
       "['CAM',\n",
       " 'CB',\n",
       " 'CDM',\n",
       " 'CM',\n",
       " 'GK',\n",
       " 'LAM',\n",
       " 'LB',\n",
       " 'LCB',\n",
       " 'LCM',\n",
       " 'LDM',\n",
       " 'LF',\n",
       " 'LM',\n",
       " 'LS',\n",
       " 'LW',\n",
       " 'LWB',\n",
       " 'RAM',\n",
       " 'RB',\n",
       " 'RCB',\n",
       " 'RCM',\n",
       " 'RDM',\n",
       " 'RF',\n",
       " 'RM',\n",
       " 'RS',\n",
       " 'RW',\n",
       " 'RWB',\n",
       " 'ST',\n",
       " 'Sub']"
      ]
     },
     "execution_count": 62,
     "metadata": {},
     "output_type": "execute_result"
    }
   ],
   "source": [
    "filename = 'soccer_players_statistics.csv'\n",
    "# filename = 'soccer_players_statistics-Copy1.csv'\n",
    "\n",
    "def grab_nat(filename, col_name):\n",
    "    header = None\n",
    "    values = []\n",
    "    with open(filename, encoding=\"utf-8\") as file:\n",
    "        for line in file:\n",
    "            line = line.strip()\n",
    "            if not line:\n",
    "                continue\n",
    "            line = line.split(',')    \n",
    "            if not header:\n",
    "                header = line\n",
    "                col_index = header.index(col_name)\n",
    "                continue\n",
    "\n",
    "            val = line[col_index]\n",
    " \n",
    "            if val and val not in values:\n",
    "                values.append(val)\n",
    "\n",
    "        values.sort()\n",
    "        return values\n",
    "    \n",
    "grab_nat(filename, 'National_Position')"
   ]
  },
  {
   "cell_type": "code",
   "execution_count": 53,
   "id": "0081867d",
   "metadata": {},
   "outputs": [
    {
     "data": {
      "text/plain": [
       "1"
      ]
     },
     "execution_count": 53,
     "metadata": {},
     "output_type": "execute_result"
    }
   ],
   "source": [
    "x = [1, 2, 3]\n",
    "x.index(2)"
   ]
  },
  {
   "cell_type": "code",
   "execution_count": 64,
   "id": "4e350470",
   "metadata": {},
   "outputs": [
    {
     "data": {
      "text/plain": [
       "['45',\n",
       " '46',\n",
       " '47',\n",
       " '48',\n",
       " '49',\n",
       " '50',\n",
       " '51',\n",
       " '52',\n",
       " '53',\n",
       " '54',\n",
       " '55',\n",
       " '56',\n",
       " '57',\n",
       " '58',\n",
       " '59',\n",
       " '60',\n",
       " '61',\n",
       " '62',\n",
       " '63',\n",
       " '64',\n",
       " '65',\n",
       " '66',\n",
       " '67',\n",
       " '68',\n",
       " '69',\n",
       " '70',\n",
       " '71',\n",
       " '72',\n",
       " '73',\n",
       " '74',\n",
       " '75',\n",
       " '76',\n",
       " '77',\n",
       " '78',\n",
       " '79',\n",
       " '80',\n",
       " '81',\n",
       " '82',\n",
       " '83',\n",
       " '84',\n",
       " '85',\n",
       " '86',\n",
       " '87',\n",
       " '88',\n",
       " '89',\n",
       " '90',\n",
       " '92',\n",
       " '93',\n",
       " '94']"
      ]
     },
     "execution_count": 64,
     "metadata": {},
     "output_type": "execute_result"
    }
   ],
   "source": [
    "def get_unique_values_by_column_name(column_name):\n",
    "    header = None\n",
    "    unique_values = []\n",
    "    with open('soccer_players_statistics.csv', encoding=\"utf-8\") as file:\n",
    "        for line in file:\n",
    "\n",
    "            if not line.strip():\n",
    "                continue\n",
    "\n",
    "            if not header:\n",
    "                header = line.strip().split(',')\n",
    "                try:\n",
    "                    column_index = header.index(column_name)\n",
    "                except:\n",
    "                    print(f'Column Name {column_name} not found!')\n",
    "                    return False\n",
    "                continue\n",
    "\n",
    "            line = line.strip().split(',')\n",
    "\n",
    "            value = line[column_index]\n",
    "            if value and value not in unique_values:\n",
    "                unique_values.append(value)\n",
    "                \n",
    "    \n",
    "    unique_values.sort()\n",
    "    \n",
    "    return unique_values\n",
    "        \n",
    "get_unique_values_by_column_name('Rating')"
   ]
  },
  {
   "cell_type": "code",
   "execution_count": 69,
   "id": "9cac0b44",
   "metadata": {},
   "outputs": [
    {
     "name": "stdout",
     "output_type": "stream",
     "text": [
      "[45.0, 46.0, 47.0, 48.0, 49.0, 50.0, 51.0, 52.0, 53.0, 54.0, 55.0, 56.0, 57.0, 58.0, 59.0, 60.0, 61.0, 62.0, 63.0, 64.0, 65.0, 66.0, 67.0, 68.0, 69.0, 70.0, 71.0, 72.0, 73.0, 74.0, 75.0, 76.0, 77.0, 78.0, 79.0, 80.0, 81.0, 82.0, 83.0, 84.0, 85.0, 86.0, 87.0, 88.0, 89.0, 90.0, 92.0, 93.0, 94.0]\n"
     ]
    },
    {
     "data": {
      "text/plain": [
       "(45.0, 94.0, 69.06)"
      ]
     },
     "execution_count": 69,
     "metadata": {},
     "output_type": "execute_result"
    }
   ],
   "source": [
    "def mean(number_sequence):\n",
    "    return round(sum(number_sequence)/len(number_sequence), 2)\n",
    "\n",
    "def stats(column_name):\n",
    "    values = get_unique_values_by_column_name(column_name)\n",
    "    values = [float(value) for value in values]\n",
    "    print(values)\n",
    "    return (min(values), max(values), mean(values))\n",
    "    \n",
    "stats('Rating')"
   ]
  },
  {
   "cell_type": "code",
   "execution_count": 67,
   "id": "29de2ba5",
   "metadata": {},
   "outputs": [
    {
     "ename": "TypeError",
     "evalue": "'int' object is not callable",
     "output_type": "error",
     "traceback": [
      "\u001b[1;31m---------------------------------------------------------------------------\u001b[0m",
      "\u001b[1;31mTypeError\u001b[0m                                 Traceback (most recent call last)",
      "\u001b[1;32m~\\AppData\\Local\\Temp\\ipykernel_18340\\3615202615.py\u001b[0m in \u001b[0;36m<module>\u001b[1;34m\u001b[0m\n\u001b[1;32m----> 1\u001b[1;33m \u001b[0mmean\u001b[0m\u001b[1;33m(\u001b[0m\u001b[1;33m[\u001b[0m\u001b[1;36m45.0\u001b[0m\u001b[1;33m,\u001b[0m \u001b[1;36m46.0\u001b[0m\u001b[1;33m,\u001b[0m \u001b[1;36m47.0\u001b[0m\u001b[1;33m,\u001b[0m \u001b[1;36m48.0\u001b[0m\u001b[1;33m,\u001b[0m \u001b[1;36m49.0\u001b[0m\u001b[1;33m,\u001b[0m \u001b[1;36m50.0\u001b[0m\u001b[1;33m,\u001b[0m \u001b[1;36m51.0\u001b[0m\u001b[1;33m,\u001b[0m \u001b[1;36m52.0\u001b[0m\u001b[1;33m,\u001b[0m \u001b[1;36m53.0\u001b[0m\u001b[1;33m,\u001b[0m \u001b[1;36m54.0\u001b[0m\u001b[1;33m,\u001b[0m \u001b[1;36m55.0\u001b[0m\u001b[1;33m,\u001b[0m \u001b[1;36m56.0\u001b[0m\u001b[1;33m,\u001b[0m \u001b[1;36m57.0\u001b[0m\u001b[1;33m,\u001b[0m \u001b[1;36m58.0\u001b[0m\u001b[1;33m,\u001b[0m \u001b[1;36m59.0\u001b[0m\u001b[1;33m,\u001b[0m \u001b[1;36m60.0\u001b[0m\u001b[1;33m,\u001b[0m \u001b[1;36m61.0\u001b[0m\u001b[1;33m,\u001b[0m \u001b[1;36m62.0\u001b[0m\u001b[1;33m,\u001b[0m \u001b[1;36m63.0\u001b[0m\u001b[1;33m,\u001b[0m \u001b[1;36m64.0\u001b[0m\u001b[1;33m,\u001b[0m \u001b[1;36m65.0\u001b[0m\u001b[1;33m,\u001b[0m \u001b[1;36m66.0\u001b[0m\u001b[1;33m,\u001b[0m \u001b[1;36m67.0\u001b[0m\u001b[1;33m,\u001b[0m \u001b[1;36m68.0\u001b[0m\u001b[1;33m,\u001b[0m \u001b[1;36m69.0\u001b[0m\u001b[1;33m,\u001b[0m \u001b[1;36m70.0\u001b[0m\u001b[1;33m,\u001b[0m \u001b[1;36m71.0\u001b[0m\u001b[1;33m,\u001b[0m \u001b[1;36m72.0\u001b[0m\u001b[1;33m,\u001b[0m \u001b[1;36m73.0\u001b[0m\u001b[1;33m,\u001b[0m \u001b[1;36m74.0\u001b[0m\u001b[1;33m,\u001b[0m \u001b[1;36m75.0\u001b[0m\u001b[1;33m,\u001b[0m \u001b[1;36m76.0\u001b[0m\u001b[1;33m,\u001b[0m \u001b[1;36m77.0\u001b[0m\u001b[1;33m,\u001b[0m \u001b[1;36m78.0\u001b[0m\u001b[1;33m,\u001b[0m \u001b[1;36m79.0\u001b[0m\u001b[1;33m,\u001b[0m \u001b[1;36m80.0\u001b[0m\u001b[1;33m,\u001b[0m \u001b[1;36m81.0\u001b[0m\u001b[1;33m,\u001b[0m \u001b[1;36m82.0\u001b[0m\u001b[1;33m,\u001b[0m \u001b[1;36m83.0\u001b[0m\u001b[1;33m,\u001b[0m \u001b[1;36m84.0\u001b[0m\u001b[1;33m,\u001b[0m \u001b[1;36m85.0\u001b[0m\u001b[1;33m,\u001b[0m \u001b[1;36m86.0\u001b[0m\u001b[1;33m,\u001b[0m \u001b[1;36m87.0\u001b[0m\u001b[1;33m,\u001b[0m \u001b[1;36m88.0\u001b[0m\u001b[1;33m,\u001b[0m \u001b[1;36m89.0\u001b[0m\u001b[1;33m,\u001b[0m \u001b[1;36m90.0\u001b[0m\u001b[1;33m,\u001b[0m \u001b[1;36m92.0\u001b[0m\u001b[1;33m,\u001b[0m \u001b[1;36m93.0\u001b[0m\u001b[1;33m,\u001b[0m \u001b[1;36m94.0\u001b[0m\u001b[1;33m]\u001b[0m\u001b[1;33m)\u001b[0m\u001b[1;33m\u001b[0m\u001b[1;33m\u001b[0m\u001b[0m\n\u001b[0m",
      "\u001b[1;32m~\\AppData\\Local\\Temp\\ipykernel_18340\\2407659812.py\u001b[0m in \u001b[0;36mmean\u001b[1;34m(number_sequence)\u001b[0m\n\u001b[0;32m      1\u001b[0m \u001b[1;32mdef\u001b[0m \u001b[0mmean\u001b[0m\u001b[1;33m(\u001b[0m\u001b[0mnumber_sequence\u001b[0m\u001b[1;33m)\u001b[0m\u001b[1;33m:\u001b[0m\u001b[1;33m\u001b[0m\u001b[1;33m\u001b[0m\u001b[0m\n\u001b[1;32m----> 2\u001b[1;33m     \u001b[1;32mreturn\u001b[0m \u001b[0mround\u001b[0m\u001b[1;33m(\u001b[0m\u001b[0msum\u001b[0m\u001b[1;33m(\u001b[0m\u001b[0mnumber_sequence\u001b[0m\u001b[1;33m)\u001b[0m\u001b[1;33m/\u001b[0m\u001b[0mlen\u001b[0m\u001b[1;33m(\u001b[0m\u001b[0mnumber_sequence\u001b[0m\u001b[1;33m)\u001b[0m\u001b[1;33m,\u001b[0m \u001b[1;36m2\u001b[0m\u001b[1;33m)\u001b[0m\u001b[1;33m\u001b[0m\u001b[1;33m\u001b[0m\u001b[0m\n\u001b[0m\u001b[0;32m      3\u001b[0m \u001b[1;33m\u001b[0m\u001b[0m\n\u001b[0;32m      4\u001b[0m \u001b[1;32mdef\u001b[0m \u001b[0mstats\u001b[0m\u001b[1;33m(\u001b[0m\u001b[0mcolumn_name\u001b[0m\u001b[1;33m)\u001b[0m\u001b[1;33m:\u001b[0m\u001b[1;33m\u001b[0m\u001b[1;33m\u001b[0m\u001b[0m\n\u001b[0;32m      5\u001b[0m     \u001b[0mvalues\u001b[0m \u001b[1;33m=\u001b[0m \u001b[0mget_unique_values_by_column_name\u001b[0m\u001b[1;33m(\u001b[0m\u001b[0mcolumn_name\u001b[0m\u001b[1;33m)\u001b[0m\u001b[1;33m\u001b[0m\u001b[1;33m\u001b[0m\u001b[0m\n",
      "\u001b[1;31mTypeError\u001b[0m: 'int' object is not callable"
     ]
    }
   ],
   "source": [
    "mean([45.0, 46.0, 47.0, 48.0, 49.0, 50.0, 51.0, 52.0, 53.0, 54.0, 55.0, 56.0, 57.0, 58.0, 59.0, 60.0, 61.0, 62.0, 63.0, 64.0, 65.0, 66.0, 67.0, 68.0, 69.0, 70.0, 71.0, 72.0, 73.0, 74.0, 75.0, 76.0, 77.0, 78.0, 79.0, 80.0, 81.0, 82.0, 83.0, 84.0, 85.0, 86.0, 87.0, 88.0, 89.0, 90.0, 92.0, 93.0, 94.0])"
   ]
  },
  {
   "cell_type": "code",
   "execution_count": null,
   "id": "f0971446",
   "metadata": {},
   "outputs": [],
   "source": [
    "def extract_columns(column_names):\n",
    "    header = None\n",
    "    values = []\n",
    "    with open('soccer_players_statistics.csv', encoding=\"utf-8\") as file:\n",
    "        for line in file:\n",
    "\n",
    "            if not line.strip():\n",
    "                continue\n",
    "\n",
    "            if not header:\n",
    "                header = line.strip().split(',')"
   ]
  }
 ],
 "metadata": {
  "kernelspec": {
   "display_name": "Python 3 (ipykernel)",
   "language": "python",
   "name": "python3"
  },
  "language_info": {
   "codemirror_mode": {
    "name": "ipython",
    "version": 3
   },
   "file_extension": ".py",
   "mimetype": "text/x-python",
   "name": "python",
   "nbconvert_exporter": "python",
   "pygments_lexer": "ipython3",
   "version": "3.9.13"
  }
 },
 "nbformat": 4,
 "nbformat_minor": 5
}
