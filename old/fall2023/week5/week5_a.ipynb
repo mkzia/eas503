{
 "cells": [
  {
   "cell_type": "code",
   "execution_count": 1,
   "id": "4dcc7729",
   "metadata": {},
   "outputs": [],
   "source": [
    "x = range(5)"
   ]
  },
  {
   "cell_type": "code",
   "execution_count": 2,
   "id": "030d7438",
   "metadata": {},
   "outputs": [
    {
     "data": {
      "text/plain": [
       "range(0, 5)"
      ]
     },
     "execution_count": 2,
     "metadata": {},
     "output_type": "execute_result"
    }
   ],
   "source": [
    "x"
   ]
  },
  {
   "cell_type": "code",
   "execution_count": 3,
   "id": "b65ee62e",
   "metadata": {},
   "outputs": [
    {
     "name": "stdout",
     "output_type": "stream",
     "text": [
      "range(0, 5)\n"
     ]
    }
   ],
   "source": [
    "print(x)"
   ]
  },
  {
   "cell_type": "code",
   "execution_count": 6,
   "id": "85d7eb99",
   "metadata": {},
   "outputs": [],
   "source": [
    "x = list(x)"
   ]
  },
  {
   "cell_type": "code",
   "execution_count": 7,
   "id": "7dcd0725",
   "metadata": {},
   "outputs": [
    {
     "data": {
      "text/plain": [
       "[0, 1, 2, 3, 4]"
      ]
     },
     "execution_count": 7,
     "metadata": {},
     "output_type": "execute_result"
    }
   ],
   "source": [
    "x"
   ]
  },
  {
   "cell_type": "code",
   "execution_count": null,
   "id": "4000d6ee",
   "metadata": {},
   "outputs": [],
   "source": [
    "x = []\n",
    "\n",
    "for ele in x:\n",
    "    print(ele)"
   ]
  },
  {
   "cell_type": "code",
   "execution_count": 8,
   "id": "4cdb2f6f",
   "metadata": {},
   "outputs": [],
   "source": [
    "x = ()\n",
    "\n",
    "for ele in x:\n",
    "    print(ele)"
   ]
  },
  {
   "cell_type": "code",
   "execution_count": 10,
   "id": "409a5a2b",
   "metadata": {},
   "outputs": [
    {
     "name": "stdout",
     "output_type": "stream",
     "text": [
      "1\n",
      "2\n",
      "3\n",
      "4\n",
      "1\n",
      "2\n",
      "3\n",
      "4\n"
     ]
    }
   ],
   "source": [
    "x = [1, 2, 3, 4]\n",
    "for ele in x:\n",
    "    print(ele)\n",
    "    \n",
    "for ele in x:\n",
    "    print(ele)"
   ]
  },
  {
   "cell_type": "code",
   "execution_count": 11,
   "id": "5aeeb643",
   "metadata": {},
   "outputs": [
    {
     "name": "stdout",
     "output_type": "stream",
     "text": [
      "1\n",
      "2\n",
      "3\n",
      "4\n",
      "1\n",
      "2\n",
      "3\n",
      "4\n"
     ]
    }
   ],
   "source": [
    "x = (1, 2, 3, 4)\n",
    "for ele in x:\n",
    "    print(ele)\n",
    "    \n",
    "for ele in x:\n",
    "    print(ele)"
   ]
  },
  {
   "cell_type": "code",
   "execution_count": 12,
   "id": "1a2aded6",
   "metadata": {},
   "outputs": [
    {
     "name": "stdout",
     "output_type": "stream",
     "text": [
      "0\n",
      "1\n",
      "2\n",
      "3\n",
      "4\n"
     ]
    }
   ],
   "source": [
    "values = [4, 10, 3, 8, -6]\n",
    "for i in range(len(values)):\n",
    "    print(i)"
   ]
  },
  {
   "cell_type": "code",
   "execution_count": 13,
   "id": "5f69f770",
   "metadata": {},
   "outputs": [
    {
     "name": "stdout",
     "output_type": "stream",
     "text": [
      "0 4\n",
      "1 10\n",
      "2 3\n",
      "3 8\n",
      "4 -6\n"
     ]
    }
   ],
   "source": [
    "values = [4, 10, 3, 8, -6]\n",
    "for i in range(len(values)):\n",
    "    print(i, values[i])"
   ]
  },
  {
   "cell_type": "code",
   "execution_count": 14,
   "id": "deb49394",
   "metadata": {},
   "outputs": [
    {
     "name": "stdout",
     "output_type": "stream",
     "text": [
      "4\n",
      "10\n",
      "3\n",
      "8\n",
      "-6\n"
     ]
    }
   ],
   "source": [
    "for value in values:\n",
    "    print(value)"
   ]
  },
  {
   "cell_type": "code",
   "execution_count": 15,
   "id": "fb6d8f1e",
   "metadata": {},
   "outputs": [
    {
     "name": "stdout",
     "output_type": "stream",
     "text": [
      "0 4\n",
      "1 10\n",
      "2 3\n",
      "3 8\n",
      "4 -6\n"
     ]
    }
   ],
   "source": [
    "for idx, value in enumerate(values):\n",
    "    print(idx, value)"
   ]
  },
  {
   "cell_type": "code",
   "execution_count": 16,
   "id": "3bb2b56f",
   "metadata": {},
   "outputs": [
    {
     "name": "stdout",
     "output_type": "stream",
     "text": [
      "100 4\n",
      "101 10\n",
      "102 3\n",
      "103 8\n",
      "104 -6\n"
     ]
    }
   ],
   "source": [
    "for idx, value in enumerate(values, 100):\n",
    "    print(idx, value)"
   ]
  },
  {
   "cell_type": "code",
   "execution_count": 17,
   "id": "727caef6",
   "metadata": {},
   "outputs": [],
   "source": [
    "values = [4, 10, 3, 8, -6]\n",
    "for i in range(len(values)):\n",
    "    values[i] = values[i] * 2"
   ]
  },
  {
   "cell_type": "code",
   "execution_count": 18,
   "id": "1c027666",
   "metadata": {},
   "outputs": [
    {
     "data": {
      "text/plain": [
       "[8, 20, 6, 16, -12]"
      ]
     },
     "execution_count": 18,
     "metadata": {},
     "output_type": "execute_result"
    }
   ],
   "source": [
    "values"
   ]
  },
  {
   "cell_type": "code",
   "execution_count": 19,
   "id": "e4a10ca4",
   "metadata": {},
   "outputs": [
    {
     "name": "stdout",
     "output_type": "stream",
     "text": [
      "Li 6.941\n",
      "Na 22.98976928\n",
      "K 39.0983\n"
     ]
    }
   ],
   "source": [
    "metals = ['Li', 'Na', 'K']\n",
    "weights = [6.941, 22.98976928, 39.0983]\n",
    "for i in range(len(metals)):\n",
    "    print(metals[i], weights[i])"
   ]
  },
  {
   "cell_type": "code",
   "execution_count": 20,
   "id": "0280c6ca",
   "metadata": {},
   "outputs": [
    {
     "name": "stdout",
     "output_type": "stream",
     "text": [
      "Li 6.941\n",
      "Na 22.98976928\n",
      "K 39.0983\n"
     ]
    }
   ],
   "source": [
    "metals = ['Li', 'Na', 'K']\n",
    "weights = [6.941, 22.98976928, 39.0983]\n",
    "for metal, weight in zip(metals, weights):\n",
    "    print(metal, weight)"
   ]
  },
  {
   "cell_type": "code",
   "execution_count": 22,
   "id": "85015f27",
   "metadata": {},
   "outputs": [
    {
     "name": "stdout",
     "output_type": "stream",
     "text": [
      "Li 6.941 77\n",
      "Na 22.98976928 88\n",
      "K 39.0983 0\n"
     ]
    }
   ],
   "source": [
    "metals = ['Li', 'Na', 'K', 'O']\n",
    "weights = [6.941, 22.98976928, 39.0983]\n",
    "something = [77, 88, 0]\n",
    "for metal, weight, athing in zip(metals, weights, something):\n",
    "    print(metal, weight, athing)"
   ]
  },
  {
   "cell_type": "code",
   "execution_count": 23,
   "id": "6061c8d2",
   "metadata": {},
   "outputs": [
    {
     "name": "stdout",
     "output_type": "stream",
     "text": [
      "Li 6.941 77\n",
      "Na 22.98976928 88\n"
     ]
    }
   ],
   "source": [
    "metals = ['Li', 'Na', 'K', 'O']\n",
    "weights = [6.941, 22.98976928]\n",
    "something = [77, 88, 0]\n",
    "for metal, weight, athing in zip(metals, weights, something):\n",
    "    print(metal, weight, athing)"
   ]
  },
  {
   "cell_type": "code",
   "execution_count": 24,
   "id": "a2650be3",
   "metadata": {},
   "outputs": [],
   "source": []
  },
  {
   "cell_type": "code",
   "execution_count": 25,
   "id": "e29966bc",
   "metadata": {},
   "outputs": [
    {
     "data": {
      "text/plain": [
       "zip"
      ]
     },
     "execution_count": 25,
     "metadata": {},
     "output_type": "execute_result"
    }
   ],
   "source": [
    "type(x)"
   ]
  },
  {
   "cell_type": "code",
   "execution_count": 30,
   "id": "24a2b8c2",
   "metadata": {},
   "outputs": [
    {
     "name": "stdout",
     "output_type": "stream",
     "text": [
      "('Li', 6.941, 77)\n",
      "('Na', 22.98976928, 88)\n"
     ]
    }
   ],
   "source": [
    "x = zip(metals, weights, something)\n",
    "for ele in x:\n",
    "    print(ele)"
   ]
  },
  {
   "cell_type": "code",
   "execution_count": 27,
   "id": "505471af",
   "metadata": {},
   "outputs": [],
   "source": [
    "a, b, c = ('Li', 6.941, 77)"
   ]
  },
  {
   "cell_type": "code",
   "execution_count": 28,
   "id": "ea333fc2",
   "metadata": {},
   "outputs": [
    {
     "name": "stdout",
     "output_type": "stream",
     "text": [
      "Li 6.941 77\n"
     ]
    }
   ],
   "source": [
    "print(a, b, c)"
   ]
  },
  {
   "cell_type": "code",
   "execution_count": 31,
   "id": "45deb509",
   "metadata": {},
   "outputs": [],
   "source": [
    "for ele in x:\n",
    "    print(ele)"
   ]
  },
  {
   "cell_type": "code",
   "execution_count": 32,
   "id": "7aa1caff",
   "metadata": {},
   "outputs": [
    {
     "data": {
      "text/plain": [
       "[('Li', 6.941, 77), ('Na', 22.98976928, 88)]"
      ]
     },
     "execution_count": 32,
     "metadata": {},
     "output_type": "execute_result"
    }
   ],
   "source": [
    "list(zip(metals, weights, something))"
   ]
  },
  {
   "cell_type": "code",
   "execution_count": 33,
   "id": "585340e8",
   "metadata": {},
   "outputs": [
    {
     "data": {
      "text/plain": [
       "(('Li', 6.941, 77), ('Na', 22.98976928, 88))"
      ]
     },
     "execution_count": 33,
     "metadata": {},
     "output_type": "execute_result"
    }
   ],
   "source": [
    "tuple(zip(metals, weights, something))"
   ]
  },
  {
   "cell_type": "code",
   "execution_count": 35,
   "id": "b9afcd67",
   "metadata": {},
   "outputs": [
    {
     "name": "stdout",
     "output_type": "stream",
     "text": [
      "Li\n",
      "Na\n",
      "K\n",
      "F\n",
      "Cl\n",
      "Br\n"
     ]
    }
   ],
   "source": [
    "elements = [['Li', 'Na', 'K'], ['F', 'Cl', 'Br']]\n",
    "for inner_list in elements:\n",
    "    for item in inner_list:\n",
    "        print(item)"
   ]
  },
  {
   "cell_type": "code",
   "execution_count": 41,
   "id": "54a76096",
   "metadata": {},
   "outputs": [
    {
     "name": "stdout",
     "output_type": "stream",
     "text": [
      "3\n",
      "3\n",
      "4\n"
     ]
    }
   ],
   "source": [
    "no_cols = []\n",
    "info = [\n",
    "    ['Isaac Newton', 1643, 1727],\n",
    "    ['Charles Darwin', 1809, 1882],\n",
    "    ['Alan Turing', 1912, 1954, 'alan@bletchley.uk']\n",
    "]\n",
    "for item in info:\n",
    "    length = len(item)\n",
    "    print(length)\n",
    "    if length not in no_cols:\n",
    "        no_cols.append(len(item))"
   ]
  },
  {
   "cell_type": "code",
   "execution_count": 44,
   "id": "0debdeca",
   "metadata": {},
   "outputs": [
    {
     "data": {
      "text/plain": [
       "True"
      ]
     },
     "execution_count": 44,
     "metadata": {},
     "output_type": "execute_result"
    }
   ],
   "source": [
    "len(no_cols) != 1"
   ]
  },
  {
   "cell_type": "code",
   "execution_count": 37,
   "id": "bab273d3",
   "metadata": {},
   "outputs": [
    {
     "name": "stdout",
     "output_type": "stream",
     "text": [
      "Isaac Newton,1643,1727\n",
      "Charles Darwin,1809,1882\n",
      "Alan Turing,1912,1954,alan@bletchley.uk\n"
     ]
    }
   ],
   "source": [
    "info = ['Isaac Newton,1643,1727',\n",
    "    'Charles Darwin,1809,1882',\n",
    "    'Alan Turing,1912,1954,alan@bletchley.uk'\n",
    "]\n",
    "for ele in info:\n",
    "    print(ele)"
   ]
  },
  {
   "cell_type": "code",
   "execution_count": 38,
   "id": "11a48c61",
   "metadata": {},
   "outputs": [
    {
     "name": "stdout",
     "output_type": "stream",
     "text": [
      "Isaac Newton 1643 1727\n",
      "Charles Darwin 1809 1882\n"
     ]
    },
    {
     "ename": "ValueError",
     "evalue": "too many values to unpack (expected 3)",
     "output_type": "error",
     "traceback": [
      "\u001b[1;31m---------------------------------------------------------------------------\u001b[0m",
      "\u001b[1;31mValueError\u001b[0m                                Traceback (most recent call last)",
      "\u001b[1;32m~\\AppData\\Local\\Temp\\ipykernel_29948\\1926529549.py\u001b[0m in \u001b[0;36m<module>\u001b[1;34m\u001b[0m\n\u001b[0;32m      1\u001b[0m \u001b[1;32mfor\u001b[0m \u001b[0mele\u001b[0m \u001b[1;32min\u001b[0m \u001b[0minfo\u001b[0m\u001b[1;33m:\u001b[0m\u001b[1;33m\u001b[0m\u001b[1;33m\u001b[0m\u001b[0m\n\u001b[1;32m----> 2\u001b[1;33m     \u001b[0mname\u001b[0m\u001b[1;33m,\u001b[0m \u001b[0mby\u001b[0m \u001b[1;33m,\u001b[0m\u001b[0mdy\u001b[0m \u001b[1;33m=\u001b[0m \u001b[0mele\u001b[0m\u001b[1;33m.\u001b[0m\u001b[0msplit\u001b[0m\u001b[1;33m(\u001b[0m\u001b[1;34m','\u001b[0m\u001b[1;33m)\u001b[0m\u001b[1;33m\u001b[0m\u001b[1;33m\u001b[0m\u001b[0m\n\u001b[0m\u001b[0;32m      3\u001b[0m     \u001b[0mprint\u001b[0m\u001b[1;33m(\u001b[0m\u001b[0mname\u001b[0m\u001b[1;33m,\u001b[0m \u001b[0mby\u001b[0m \u001b[1;33m,\u001b[0m\u001b[0mdy\u001b[0m\u001b[1;33m)\u001b[0m\u001b[1;33m\u001b[0m\u001b[1;33m\u001b[0m\u001b[0m\n",
      "\u001b[1;31mValueError\u001b[0m: too many values to unpack (expected 3)"
     ]
    }
   ],
   "source": [
    "for ele in info:\n",
    "    name, by ,dy = ele.split(',')\n",
    "    print(name, by ,dy)"
   ]
  },
  {
   "cell_type": "code",
   "execution_count": 45,
   "id": "17583009",
   "metadata": {},
   "outputs": [],
   "source": [
    "x = [1, 7, 3]\n",
    "\n",
    "sum = 0\n",
    "for ele in x:\n",
    "    sum = sum *10 + ele"
   ]
  },
  {
   "cell_type": "code",
   "execution_count": 46,
   "id": "ee85d616",
   "metadata": {},
   "outputs": [
    {
     "ename": "TypeError",
     "evalue": "'int' object is not callable",
     "output_type": "error",
     "traceback": [
      "\u001b[1;31m---------------------------------------------------------------------------\u001b[0m",
      "\u001b[1;31mTypeError\u001b[0m                                 Traceback (most recent call last)",
      "\u001b[1;32m~\\AppData\\Local\\Temp\\ipykernel_29948\\2270250244.py\u001b[0m in \u001b[0;36m<module>\u001b[1;34m\u001b[0m\n\u001b[1;32m----> 1\u001b[1;33m \u001b[0msum\u001b[0m\u001b[1;33m(\u001b[0m\u001b[0mx\u001b[0m\u001b[1;33m)\u001b[0m\u001b[1;33m\u001b[0m\u001b[1;33m\u001b[0m\u001b[0m\n\u001b[0m",
      "\u001b[1;31mTypeError\u001b[0m: 'int' object is not callable"
     ]
    }
   ],
   "source": [
    "sum(x)"
   ]
  },
  {
   "cell_type": "code",
   "execution_count": 47,
   "id": "8d99ff07",
   "metadata": {},
   "outputs": [],
   "source": [
    "del sum"
   ]
  },
  {
   "cell_type": "code",
   "execution_count": 49,
   "id": "63ecda88",
   "metadata": {},
   "outputs": [
    {
     "data": {
      "text/plain": [
       "11"
      ]
     },
     "execution_count": 49,
     "metadata": {},
     "output_type": "execute_result"
    }
   ],
   "source": [
    "sum(x)"
   ]
  },
  {
   "cell_type": "code",
   "execution_count": 60,
   "id": "1f3855f6",
   "metadata": {},
   "outputs": [
    {
     "name": "stdout",
     "output_type": "stream",
     "text": [
      "11340078879879978970234234234 00011222333344447777788889999 99998888777774444333322211000\n"
     ]
    }
   ],
   "source": [
    "string1 = '11340078879879978970234234234'\n",
    "string2 = ''.join(sorted(string1))\n",
    "string3 = ''.join(sorted(string1, reverse=True))\n",
    "print(string1, string2, string3)"
   ]
  },
  {
   "cell_type": "code",
   "execution_count": 51,
   "id": "e7e170be",
   "metadata": {},
   "outputs": [
    {
     "data": {
      "text/plain": [
       "['0', '0', '0', '1', '1', '2', '3', '3', '4', '4']"
      ]
     },
     "execution_count": 51,
     "metadata": {},
     "output_type": "execute_result"
    }
   ],
   "source": [
    "sorted(string1)"
   ]
  },
  {
   "cell_type": "code",
   "execution_count": 61,
   "id": "d1f65008",
   "metadata": {},
   "outputs": [],
   "source": [
    "store = [0] * 10\n",
    "\n",
    "for char in string1:\n",
    "    index = int(char)\n",
    "    store[index] += 1"
   ]
  },
  {
   "cell_type": "code",
   "execution_count": 64,
   "id": "33b35d30",
   "metadata": {
    "scrolled": true
   },
   "outputs": [
    {
     "name": "stdout",
     "output_type": "stream",
     "text": [
      "0 3\n",
      "1 2\n",
      "2 3\n",
      "3 4\n",
      "4 4\n",
      "5 0\n",
      "6 0\n",
      "7 5\n",
      "8 4\n",
      "9 4\n"
     ]
    }
   ],
   "source": [
    "for idx, ele in enumerate(store):\n",
    "    print(idx, ele)"
   ]
  },
  {
   "cell_type": "code",
   "execution_count": 65,
   "id": "19abca3f",
   "metadata": {},
   "outputs": [
    {
     "name": "stdout",
     "output_type": "stream",
     "text": [
      "000\n",
      "00011\n",
      "00011222\n",
      "000112223333\n",
      "0001122233334444\n",
      "0001122233334444\n",
      "0001122233334444\n",
      "000112223333444477777\n",
      "0001122233334444777778888\n",
      "00011222333344447777788889999\n",
      "00011222333344447777788889999\n"
     ]
    }
   ],
   "source": [
    "sorted_string = ''\n",
    "for idx, ele in enumerate(store):\n",
    "    sorted_string += str(idx) * ele\n",
    "    print(sorted_string)\n",
    "print(sorted_string)"
   ]
  },
  {
   "cell_type": "code",
   "execution_count": null,
   "id": "9fff2a91",
   "metadata": {},
   "outputs": [],
   "source": [
    "number = 1234\n",
    "sum = 0\n",
    "while number:\n",
    "    sum += number % 10\n",
    "    number = number // 10 \n",
    "print(sum)"
   ]
  },
  {
   "cell_type": "code",
   "execution_count": 66,
   "id": "90d27222",
   "metadata": {},
   "outputs": [
    {
     "ename": "SyntaxError",
     "evalue": "invalid syntax (1584591791.py, line 3)",
     "output_type": "error",
     "traceback": [
      "\u001b[1;36m  File \u001b[1;32m\"C:\\Users\\mkhaw\\AppData\\Local\\Temp\\ipykernel_29948\\1584591791.py\"\u001b[1;36m, line \u001b[1;32m3\u001b[0m\n\u001b[1;33m    float(6.5O)\u001b[0m\n\u001b[1;37m             ^\u001b[0m\n\u001b[1;31mSyntaxError\u001b[0m\u001b[1;31m:\u001b[0m invalid syntax\n"
     ]
    }
   ],
   "source": [
    "4.5\n",
    "6.5\n",
    "float(6.5O)"
   ]
  },
  {
   "cell_type": "code",
   "execution_count": 68,
   "id": "05a99ae9",
   "metadata": {},
   "outputs": [],
   "source": [
    "unique_values = []\n",
    "sequence = [1, 1, 1, 2, 2, 3, 4, 4, 3, 5]\n",
    "for ele in sequence:\n",
    "    if ele not in unique_values:\n",
    "        unique_values.append(ele)\n",
    "        \n"
   ]
  },
  {
   "cell_type": "code",
   "execution_count": 69,
   "id": "fc4b6a5a",
   "metadata": {},
   "outputs": [
    {
     "data": {
      "text/plain": [
       "[1, 2, 3, 4, 5]"
      ]
     },
     "execution_count": 69,
     "metadata": {},
     "output_type": "execute_result"
    }
   ],
   "source": [
    "unique_values"
   ]
  },
  {
   "cell_type": "code",
   "execution_count": 70,
   "id": "ab9ae865",
   "metadata": {},
   "outputs": [],
   "source": [
    "unique_values = []"
   ]
  },
  {
   "cell_type": "code",
   "execution_count": 71,
   "id": "2d5e2991",
   "metadata": {},
   "outputs": [
    {
     "data": {
      "text/plain": [
       "False"
      ]
     },
     "execution_count": 71,
     "metadata": {},
     "output_type": "execute_result"
    }
   ],
   "source": [
    "1 in unique_values"
   ]
  },
  {
   "cell_type": "code",
   "execution_count": 72,
   "id": "19c2b92e",
   "metadata": {},
   "outputs": [],
   "source": [
    "unique_values.append(1)"
   ]
  },
  {
   "cell_type": "code",
   "execution_count": 73,
   "id": "d2c7444d",
   "metadata": {},
   "outputs": [
    {
     "data": {
      "text/plain": [
       "True"
      ]
     },
     "execution_count": 73,
     "metadata": {},
     "output_type": "execute_result"
    }
   ],
   "source": [
    "1 in unique_values"
   ]
  },
  {
   "cell_type": "code",
   "execution_count": 79,
   "id": "fd062bef",
   "metadata": {},
   "outputs": [
    {
     "data": {
      "text/plain": [
       "75.43"
      ]
     },
     "execution_count": 79,
     "metadata": {},
     "output_type": "execute_result"
    }
   ],
   "source": [
    "def average_from_file(filename):\n",
    "    grade_list = []\n",
    "    with open(filename) as file:\n",
    "        for line in file:\n",
    "            line = line.strip()\n",
    "            if not line:\n",
    "                continue\n",
    "            try:\n",
    "                value = float(line)\n",
    "            except:\n",
    "                continue\n",
    "            grade_list.append(value)\n",
    "            \n",
    "    return sum(grade_list)/len(grade_list)\n",
    "average_from_file('for_ex7_data3.txt')            "
   ]
  },
  {
   "cell_type": "code",
   "execution_count": 88,
   "id": "2e39289c",
   "metadata": {},
   "outputs": [],
   "source": [
    "import random\n",
    "random.seed(503)\n"
   ]
  },
  {
   "cell_type": "code",
   "execution_count": 95,
   "id": "6fef86ee",
   "metadata": {},
   "outputs": [
    {
     "name": "stdout",
     "output_type": "stream",
     "text": [
      "0\n",
      "0\n",
      "1\n",
      "0\n",
      "1\n",
      "1\n",
      "0\n",
      "0\n",
      "0\n",
      "1\n"
     ]
    }
   ],
   "source": [
    "for ele in range(10):\n",
    "    print(random.randint(0, 1))"
   ]
  },
  {
   "cell_type": "code",
   "execution_count": null,
   "id": "80615f86",
   "metadata": {},
   "outputs": [],
   "source": [
    "# H = 0\n",
    "# T = 1"
   ]
  },
  {
   "cell_type": "code",
   "execution_count": 101,
   "id": "7906aebc",
   "metadata": {},
   "outputs": [
    {
     "name": "stdout",
     "output_type": "stream",
     "text": [
      "HHHTTHHTTT\n"
     ]
    }
   ],
   "source": [
    "import random\n",
    "def coin_toss(number):\n",
    "#     random.seed(503)\n",
    "    output = ''\n",
    "    for i in range(number):\n",
    "        toss = random.randint(0, 1)\n",
    "\n",
    "        if toss == 0:\n",
    "            output += 'H'\n",
    "        else:\n",
    "            output += 'T'\n",
    "\n",
    "    return output\n",
    "\n",
    "\n",
    "print(coin_toss(10))"
   ]
  },
  {
   "cell_type": "code",
   "execution_count": 102,
   "id": "92323308",
   "metadata": {},
   "outputs": [],
   "source": [
    "def coin_toss_probability(number):\n",
    "    result = coin_toss(number)\n",
    "    head_count = 0\n",
    "    tail_count = 0\n",
    "\n",
    "    for ele in result:\n",
    "        if ele == 'H':\n",
    "            head_count += 1\n",
    "        elif ele == 'T':\n",
    "            tail_count += 1\n",
    "\n",
    "    return (head_count / len(result), tail_count / len(result))"
   ]
  },
  {
   "cell_type": "code",
   "execution_count": 108,
   "id": "915ee18a",
   "metadata": {},
   "outputs": [
    {
     "name": "stdout",
     "output_type": "stream",
     "text": [
      "(0.499816, 0.500184)\n"
     ]
    }
   ],
   "source": [
    "\n",
    "print(coin_toss_probability(1000000))"
   ]
  },
  {
   "cell_type": "code",
   "execution_count": 109,
   "id": "625d2bfb",
   "metadata": {},
   "outputs": [
    {
     "name": "stdout",
     "output_type": "stream",
     "text": [
      "(0.501652, 0.498348)\n"
     ]
    }
   ],
   "source": [
    "def coin_toss_probability(number):\n",
    "    result = coin_toss(number)\n",
    "    head_count = result.count('H')\n",
    "    tail_count = result.count('T')\n",
    "\n",
    "#     for ele in result:\n",
    "#         if ele == 'H':\n",
    "#             head_count += 1\n",
    "#         elif ele == 'T':\n",
    "#             tail_count += 1\n",
    "\n",
    "    return (head_count / len(result), tail_count / len(result))\n",
    "print(coin_toss_probability(1000000))"
   ]
  },
  {
   "cell_type": "code",
   "execution_count": 120,
   "id": "247d8edb",
   "metadata": {},
   "outputs": [
    {
     "name": "stdout",
     "output_type": "stream",
     "text": [
      "student1 68.125\n",
      "student2 79.6\n",
      "student3 85.8\n",
      "student4 78.8\n",
      "student5 83.4\n",
      "student6 73.8\n",
      "student7 81.6\n",
      "student8 90.0\n",
      "student9 87.0\n",
      "student10 78.2\n"
     ]
    }
   ],
   "source": [
    "def print_student_average(filename):\n",
    "    with open(filename) as file:\n",
    "        for line in file:\n",
    "            line = line.strip()\n",
    "            if not line:\n",
    "                continue\n",
    "            student_name, *tests = line.split(',')\n",
    "            int_grades = []\n",
    "            for ele in tests:\n",
    "                int_grades.append(int(ele))\n",
    "            average = sum(int_grades)/len(int_grades)\n",
    "            print(student_name, average)\n",
    "\n",
    "print_student_average('for_ex11_data.txt')"
   ]
  },
  {
   "cell_type": "code",
   "execution_count": 110,
   "id": "8e0dc188",
   "metadata": {},
   "outputs": [],
   "source": [
    "n, g1, g2, g3, g4, g5 = 'student2,86,76,85,86,65'.split(',')"
   ]
  },
  {
   "cell_type": "code",
   "execution_count": 111,
   "id": "3cf1dd55",
   "metadata": {},
   "outputs": [
    {
     "data": {
      "text/plain": [
       "['student2', '86', '76', '85', '86', '65']"
      ]
     },
     "execution_count": 111,
     "metadata": {},
     "output_type": "execute_result"
    }
   ],
   "source": [
    "'student2,86,76,85,86,65'.split(',')"
   ]
  },
  {
   "cell_type": "code",
   "execution_count": 112,
   "id": "002bac3f",
   "metadata": {},
   "outputs": [
    {
     "data": {
      "text/plain": [
       "['student1', '93', '78', '82', '83', '65', '23', '34', '87']"
      ]
     },
     "execution_count": 112,
     "metadata": {},
     "output_type": "execute_result"
    }
   ],
   "source": [
    "y = 'student1,93,78,82,83,65,23,34,87'\n",
    "y.split(',')"
   ]
  },
  {
   "cell_type": "code",
   "execution_count": 116,
   "id": "49eb5b1f",
   "metadata": {},
   "outputs": [],
   "source": [
    "name, *grades = 'student2,86,76,85,86,65'.split(',')"
   ]
  },
  {
   "cell_type": "code",
   "execution_count": 114,
   "id": "fc583bd2",
   "metadata": {},
   "outputs": [
    {
     "name": "stdout",
     "output_type": "stream",
     "text": [
      "student2 ['86', '76', '85', '86', '65']\n"
     ]
    }
   ],
   "source": [
    "print(name, grades)"
   ]
  },
  {
   "cell_type": "code",
   "execution_count": 117,
   "id": "e147d767",
   "metadata": {},
   "outputs": [],
   "source": [
    "name, *grades = y.split(',')"
   ]
  },
  {
   "cell_type": "code",
   "execution_count": 118,
   "id": "d3045d8e",
   "metadata": {},
   "outputs": [
    {
     "name": "stdout",
     "output_type": "stream",
     "text": [
      "student1 ['93', '78', '82', '83', '65', '23', '34', '87']\n"
     ]
    }
   ],
   "source": [
    "print(name, grades)"
   ]
  },
  {
   "cell_type": "code",
   "execution_count": 119,
   "id": "f56e2287",
   "metadata": {},
   "outputs": [
    {
     "data": {
      "text/plain": [
       "['93', '78', '82', '83', '65', '23', '34', '87']"
      ]
     },
     "execution_count": 119,
     "metadata": {},
     "output_type": "execute_result"
    }
   ],
   "source": [
    "grades"
   ]
  },
  {
   "cell_type": "code",
   "execution_count": 127,
   "id": "4094879f",
   "metadata": {},
   "outputs": [],
   "source": [
    "def generate_students(output_filename, number_of_students, number_of_tests, test_score_range):\n",
    "    import random\n",
    "\n",
    "    with open(output_filename, 'w') as output_file:\n",
    "\n",
    "        for i in range(1, number_of_students+1):\n",
    "            line = []\n",
    "            student_name = 'student' + str(i)\n",
    "            line.append(student_name)\n",
    "            for ii in range(random.randint(1, number_of_tests)):\n",
    "                line.append(str(random.randint(test_score_range[0], test_score_range[1])))\n",
    "\n",
    "            line = ','.join(line)  + '\\n'\n",
    "            output_file.write(line)\n",
    "            \n",
    "generate_students('testdata.txt', 100, 30, (90,100))    "
   ]
  },
  {
   "cell_type": "code",
   "execution_count": 128,
   "id": "dea9bc98",
   "metadata": {},
   "outputs": [
    {
     "name": "stdout",
     "output_type": "stream",
     "text": [
      "Enter an integer. Enter nothing to quit: 88\n",
      "Enter an integer. Enter nothing to quit: 889\n",
      "Enter an integer. Enter nothing to quit: 77\n",
      "Enter an integer. Enter nothing to quit: 342\n",
      "Enter an integer. Enter nothing to quit: 0\n",
      "Enter an integer. Enter nothing to quit: \n",
      "The average of 5 numbers is 1396.000000\n"
     ]
    }
   ],
   "source": [
    "summed_values = 0  # a container to store the sum of interger values collected\n",
    "number_count = 0  # a container to store the number of integer values collected\n",
    "\n",
    "input_string = input('Enter an integer. Enter nothing to quit: ')\n",
    "\n",
    "while input_string:\n",
    "    summed_values += int(input_string)\n",
    "    number_count += 1\n",
    "    input_string = input('Enter an integer. Enter nothing to quit: ')\n",
    "\n",
    "\n",
    "average = summed_values / number_count\n",
    "\n",
    "print('The average of %d numbers is %f' %(number_count, summed_values))"
   ]
  },
  {
   "cell_type": "code",
   "execution_count": 131,
   "id": "e1f47cb0",
   "metadata": {},
   "outputs": [],
   "source": [
    "def modify_loop_ex1(n):\n",
    "    for number in range(n):\n",
    "\n",
    "        if number % 5 == 0:\n",
    "            print('Skipping:', number)\n",
    "            continue\n",
    "\n",
    "        print(number)"
   ]
  },
  {
   "cell_type": "code",
   "execution_count": 132,
   "id": "306f0cb0",
   "metadata": {},
   "outputs": [
    {
     "name": "stdout",
     "output_type": "stream",
     "text": [
      "Skipping: 0\n",
      "0\n",
      "1\n",
      "2\n",
      "3\n",
      "4\n",
      "Skipping: 5\n",
      "5\n",
      "6\n",
      "7\n",
      "8\n",
      "9\n",
      "Skipping: 10\n",
      "10\n",
      "11\n",
      "12\n",
      "13\n",
      "14\n",
      "Skipping: 15\n",
      "15\n",
      "16\n",
      "17\n",
      "18\n",
      "19\n",
      "Skipping: 20\n",
      "20\n",
      "21\n",
      "22\n",
      "23\n",
      "24\n",
      "Skipping: 25\n",
      "25\n",
      "26\n",
      "27\n",
      "28\n",
      "29\n",
      "Skipping: 30\n",
      "30\n",
      "31\n",
      "32\n",
      "33\n",
      "34\n",
      "Skipping: 35\n",
      "35\n",
      "36\n",
      "37\n",
      "38\n",
      "39\n",
      "Skipping: 40\n",
      "40\n",
      "41\n",
      "42\n",
      "43\n",
      "44\n",
      "Skipping: 45\n",
      "45\n",
      "46\n",
      "47\n",
      "48\n",
      "49\n",
      "Skipping: 50\n",
      "50\n",
      "51\n",
      "52\n",
      "53\n",
      "54\n",
      "Skipping: 55\n",
      "55\n",
      "56\n",
      "57\n",
      "58\n",
      "59\n",
      "Skipping: 60\n",
      "60\n",
      "61\n",
      "62\n",
      "63\n",
      "64\n",
      "Skipping: 65\n",
      "65\n",
      "66\n",
      "67\n",
      "68\n",
      "69\n",
      "Skipping: 70\n",
      "70\n",
      "71\n",
      "72\n",
      "73\n",
      "74\n",
      "Skipping: 75\n",
      "75\n",
      "76\n",
      "77\n",
      "78\n",
      "79\n",
      "Skipping: 80\n",
      "80\n",
      "81\n",
      "82\n",
      "83\n",
      "84\n",
      "Skipping: 85\n",
      "85\n",
      "86\n",
      "87\n",
      "88\n",
      "89\n",
      "Skipping: 90\n",
      "90\n",
      "91\n",
      "92\n",
      "93\n",
      "94\n",
      "Skipping: 95\n",
      "95\n",
      "96\n",
      "97\n",
      "98\n",
      "99\n"
     ]
    }
   ],
   "source": [
    "modify_loop_ex1(100)"
   ]
  },
  {
   "cell_type": "code",
   "execution_count": 135,
   "id": "4b0f595f",
   "metadata": {},
   "outputs": [],
   "source": [
    "a, *b = 'student2,86,76,85,86,65'.split(',')"
   ]
  },
  {
   "cell_type": "code",
   "execution_count": 134,
   "id": "6fe77899",
   "metadata": {},
   "outputs": [
    {
     "data": {
      "text/plain": [
       "'65'"
      ]
     },
     "execution_count": 134,
     "metadata": {},
     "output_type": "execute_result"
    }
   ],
   "source": [
    "a, b, c, d, g, 'student2,86,76,85,86,65'.split(',')[-1]"
   ]
  },
  {
   "cell_type": "code",
   "execution_count": 136,
   "id": "b49e201e",
   "metadata": {},
   "outputs": [
    {
     "data": {
      "text/plain": [
       "'65'"
      ]
     },
     "execution_count": 136,
     "metadata": {},
     "output_type": "execute_result"
    }
   ],
   "source": [
    "b[-1]"
   ]
  },
  {
   "cell_type": "code",
   "execution_count": 137,
   "id": "37a50581",
   "metadata": {},
   "outputs": [],
   "source": [
    "a, *_, d = 'student2,86,76,85,86,65'.split(',')"
   ]
  },
  {
   "cell_type": "code",
   "execution_count": 138,
   "id": "89450d99",
   "metadata": {},
   "outputs": [
    {
     "data": {
      "text/plain": [
       "'65'"
      ]
     },
     "execution_count": 138,
     "metadata": {},
     "output_type": "execute_result"
    }
   ],
   "source": [
    "d"
   ]
  },
  {
   "cell_type": "code",
   "execution_count": 139,
   "id": "ac850814",
   "metadata": {},
   "outputs": [
    {
     "data": {
      "text/plain": [
       "['86', '76', '85', '86']"
      ]
     },
     "execution_count": 139,
     "metadata": {},
     "output_type": "execute_result"
    }
   ],
   "source": [
    "_"
   ]
  },
  {
   "cell_type": "code",
   "execution_count": 140,
   "id": "2fa098b3",
   "metadata": {},
   "outputs": [
    {
     "ename": "SyntaxError",
     "evalue": "multiple starred expressions in assignment (474097598.py, line 1)",
     "output_type": "error",
     "traceback": [
      "\u001b[1;36m  File \u001b[1;32m\"C:\\Users\\mkhaw\\AppData\\Local\\Temp\\ipykernel_29948\\474097598.py\"\u001b[1;36m, line \u001b[1;32m1\u001b[0m\n\u001b[1;33m    a, *_, *_,d = 'student2,86,76,85,86,65'.split(',')\u001b[0m\n\u001b[1;37m    ^\u001b[0m\n\u001b[1;31mSyntaxError\u001b[0m\u001b[1;31m:\u001b[0m multiple starred expressions in assignment\n"
     ]
    }
   ],
   "source": [
    "a, *_, *_,d = 'student2,86,76,85,86,65'.split(',')"
   ]
  },
  {
   "cell_type": "code",
   "execution_count": null,
   "id": "70298127",
   "metadata": {},
   "outputs": [],
   "source": []
  }
 ],
 "metadata": {
  "kernelspec": {
   "display_name": "Python 3 (ipykernel)",
   "language": "python",
   "name": "python3"
  },
  "language_info": {
   "codemirror_mode": {
    "name": "ipython",
    "version": 3
   },
   "file_extension": ".py",
   "mimetype": "text/x-python",
   "name": "python",
   "nbconvert_exporter": "python",
   "pygments_lexer": "ipython3",
   "version": "3.9.13"
  }
 },
 "nbformat": 4,
 "nbformat_minor": 5
}
