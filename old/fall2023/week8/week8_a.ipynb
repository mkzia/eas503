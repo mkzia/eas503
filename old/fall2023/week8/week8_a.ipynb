{
 "cells": [
  {
   "cell_type": "code",
   "execution_count": 1,
   "id": "53c02a93",
   "metadata": {},
   "outputs": [],
   "source": [
    "lst = [1, 2, 3]"
   ]
  },
  {
   "cell_type": "code",
   "execution_count": 2,
   "id": "7f0dbe24",
   "metadata": {},
   "outputs": [
    {
     "data": {
      "text/plain": [
       "[1, 2, 3]"
      ]
     },
     "execution_count": 2,
     "metadata": {},
     "output_type": "execute_result"
    }
   ],
   "source": [
    "lst"
   ]
  },
  {
   "cell_type": "code",
   "execution_count": 3,
   "id": "ddc6bd21",
   "metadata": {},
   "outputs": [],
   "source": [
    "x = 1"
   ]
  },
  {
   "cell_type": "code",
   "execution_count": 4,
   "id": "aee137e2",
   "metadata": {},
   "outputs": [],
   "source": [
    "x = 1"
   ]
  },
  {
   "cell_type": "code",
   "execution_count": 5,
   "id": "23072f3c",
   "metadata": {},
   "outputs": [
    {
     "ename": "TypeError",
     "evalue": "'int' object is not iterable",
     "output_type": "error",
     "traceback": [
      "\u001b[1;31m---------------------------------------------------------------------------\u001b[0m",
      "\u001b[1;31mTypeError\u001b[0m                                 Traceback (most recent call last)",
      "\u001b[1;32m~\\AppData\\Local\\Temp\\ipykernel_18812\\3578754497.py\u001b[0m in \u001b[0;36m<module>\u001b[1;34m\u001b[0m\n\u001b[1;32m----> 1\u001b[1;33m \u001b[0msorted\u001b[0m\u001b[1;33m(\u001b[0m\u001b[0mx\u001b[0m\u001b[1;33m)\u001b[0m\u001b[1;33m\u001b[0m\u001b[1;33m\u001b[0m\u001b[0m\n\u001b[0m",
      "\u001b[1;31mTypeError\u001b[0m: 'int' object is not iterable"
     ]
    }
   ],
   "source": [
    "sorted(x)"
   ]
  },
  {
   "cell_type": "code",
   "execution_count": 11,
   "id": "891a61b7",
   "metadata": {},
   "outputs": [
    {
     "name": "stdout",
     "output_type": "stream",
     "text": [
      "The final score is 88.4.\n"
     ]
    }
   ],
   "source": [
    "class ScoreList:\n",
    "    def __init__(self, scores):\n",
    "        self.scores = scores\n",
    "\n",
    "    def average(self):\n",
    "        return sum(self.scores) / len(self.scores)\n",
    "\n",
    "scores1 = ScoreList([80, 90, 95, 92, 85]) \n",
    "print(f'The final score is {scores1.average()}.')   "
   ]
  },
  {
   "cell_type": "code",
   "execution_count": 8,
   "id": "1f4e8d84",
   "metadata": {},
   "outputs": [],
   "source": [
    "x = list([1, 2, 3])"
   ]
  },
  {
   "cell_type": "code",
   "execution_count": 12,
   "id": "7974adb1",
   "metadata": {},
   "outputs": [
    {
     "name": "stdout",
     "output_type": "stream",
     "text": [
      "The final score is 538.4.\n"
     ]
    }
   ],
   "source": [
    "scores2 = ScoreList([80, 90, 2345, 92, 85]) \n",
    "print(f'The final score is {scores2.average()}.') "
   ]
  },
  {
   "cell_type": "code",
   "execution_count": 14,
   "id": "ab968d68",
   "metadata": {},
   "outputs": [
    {
     "data": {
      "text/plain": [
       "[80, 90, 2345, 92, 85]"
      ]
     },
     "execution_count": 14,
     "metadata": {},
     "output_type": "execute_result"
    }
   ],
   "source": [
    "scores2.scores"
   ]
  },
  {
   "cell_type": "code",
   "execution_count": 15,
   "id": "354f333c",
   "metadata": {},
   "outputs": [],
   "source": [
    "x = list()"
   ]
  },
  {
   "cell_type": "code",
   "execution_count": 16,
   "id": "d375982e",
   "metadata": {},
   "outputs": [
    {
     "data": {
      "text/plain": [
       "[]"
      ]
     },
     "execution_count": 16,
     "metadata": {},
     "output_type": "execute_result"
    }
   ],
   "source": [
    "x"
   ]
  },
  {
   "cell_type": "code",
   "execution_count": 20,
   "id": "99739059",
   "metadata": {},
   "outputs": [],
   "source": [
    "x = list()"
   ]
  },
  {
   "cell_type": "code",
   "execution_count": 22,
   "id": "cd449040",
   "metadata": {},
   "outputs": [],
   "source": [
    "x.append(1)"
   ]
  },
  {
   "cell_type": "code",
   "execution_count": 23,
   "id": "015ae3a1",
   "metadata": {},
   "outputs": [
    {
     "data": {
      "text/plain": [
       "[1]"
      ]
     },
     "execution_count": 23,
     "metadata": {},
     "output_type": "execute_result"
    }
   ],
   "source": [
    "x"
   ]
  },
  {
   "cell_type": "code",
   "execution_count": 24,
   "id": "db546205",
   "metadata": {},
   "outputs": [],
   "source": [
    "x = 'str'\n",
    "\n",
    "x = str('str')"
   ]
  },
  {
   "cell_type": "code",
   "execution_count": 25,
   "id": "4ceec248",
   "metadata": {},
   "outputs": [],
   "source": [
    "class Point:\n",
    "    def __init__(self, x, y):\n",
    "        self.x = x\n",
    "        self.y = y\n",
    "\n",
    "p1 = Point(10, 10)\n",
    "p2 = Point(10, 10)"
   ]
  },
  {
   "cell_type": "code",
   "execution_count": 26,
   "id": "9ab3d21c",
   "metadata": {},
   "outputs": [
    {
     "name": "stdout",
     "output_type": "stream",
     "text": [
      "<__main__.Point object at 0x00000220E0980CA0>\n"
     ]
    }
   ],
   "source": [
    "print(p1)"
   ]
  },
  {
   "cell_type": "code",
   "execution_count": 27,
   "id": "3e1d76b2",
   "metadata": {},
   "outputs": [
    {
     "data": {
      "text/plain": [
       "<__main__.Point at 0x220e0980b80>"
      ]
     },
     "execution_count": 27,
     "metadata": {},
     "output_type": "execute_result"
    }
   ],
   "source": [
    "p2"
   ]
  },
  {
   "cell_type": "code",
   "execution_count": 28,
   "id": "fcfd13b0",
   "metadata": {},
   "outputs": [
    {
     "name": "stdout",
     "output_type": "stream",
     "text": [
      "False\n"
     ]
    }
   ],
   "source": [
    "print(p1 == p2)"
   ]
  },
  {
   "cell_type": "code",
   "execution_count": 29,
   "id": "207a0343",
   "metadata": {},
   "outputs": [
    {
     "data": {
      "text/plain": [
       "False"
      ]
     },
     "execution_count": 29,
     "metadata": {},
     "output_type": "execute_result"
    }
   ],
   "source": [
    "p1 is p2"
   ]
  },
  {
   "cell_type": "code",
   "execution_count": 30,
   "id": "e6a20469",
   "metadata": {},
   "outputs": [
    {
     "name": "stdout",
     "output_type": "stream",
     "text": [
      "True\n",
      "True\n"
     ]
    }
   ],
   "source": [
    "x = 1\n",
    "y = 1\n",
    "\n",
    "print(x == y)\n",
    "print(x is y)"
   ]
  },
  {
   "cell_type": "code",
   "execution_count": 31,
   "id": "a8dd7459",
   "metadata": {},
   "outputs": [
    {
     "name": "stdout",
     "output_type": "stream",
     "text": [
      "Point(x=10, y=10)\n",
      "Point(x=10, y=10)\n"
     ]
    }
   ],
   "source": [
    "from collections import namedtuple\n",
    "Point = namedtuple('Point', 'x y')\n",
    "\n",
    "p1 = Point(10, 10)\n",
    "p2 = Point(10, 10)\n",
    "print(p1)\n",
    "print(p2)"
   ]
  },
  {
   "cell_type": "code",
   "execution_count": 32,
   "id": "7d21d5c2",
   "metadata": {},
   "outputs": [
    {
     "name": "stdout",
     "output_type": "stream",
     "text": [
      "True\n",
      "False\n"
     ]
    }
   ],
   "source": [
    "print(p1 == p2) # comparing values\n",
    "print(p1 is p2) # comparing memory location"
   ]
  },
  {
   "cell_type": "code",
   "execution_count": 49,
   "id": "052dacc9",
   "metadata": {},
   "outputs": [],
   "source": [
    "x = 1\n",
    "y = 1"
   ]
  },
  {
   "cell_type": "code",
   "execution_count": 50,
   "id": "3aaa15df",
   "metadata": {},
   "outputs": [
    {
     "name": "stdout",
     "output_type": "stream",
     "text": [
      "True\n"
     ]
    }
   ],
   "source": [
    "print(x == y)"
   ]
  },
  {
   "cell_type": "code",
   "execution_count": 51,
   "id": "6918e361",
   "metadata": {},
   "outputs": [
    {
     "name": "stdout",
     "output_type": "stream",
     "text": [
      "True\n"
     ]
    }
   ],
   "source": [
    "print(x is y)"
   ]
  },
  {
   "cell_type": "code",
   "execution_count": 36,
   "id": "0bae0cf9",
   "metadata": {},
   "outputs": [
    {
     "name": "stdout",
     "output_type": "stream",
     "text": [
      "True\n",
      "True\n"
     ]
    }
   ],
   "source": [
    "x = {1: 2, 3:4}\n",
    "y = x\n",
    "print(x == y)\n",
    "print(x is y)"
   ]
  },
  {
   "cell_type": "code",
   "execution_count": 41,
   "id": "df5c7cc7",
   "metadata": {},
   "outputs": [
    {
     "name": "stdout",
     "output_type": "stream",
     "text": [
      "True\n",
      "False\n"
     ]
    }
   ],
   "source": [
    "x = {3:4, 1:2}\n",
    "y = {1:2, 3:4}\n",
    "print(x == y)\n",
    "print(x is y)"
   ]
  },
  {
   "cell_type": "code",
   "execution_count": 37,
   "id": "6a80f8d6",
   "metadata": {},
   "outputs": [],
   "source": [
    "x = {1:2, 3: 4}"
   ]
  },
  {
   "cell_type": "code",
   "execution_count": 56,
   "id": "23840b7d",
   "metadata": {},
   "outputs": [
    {
     "name": "stdout",
     "output_type": "stream",
     "text": [
      "The final score is 88.4.\n",
      "The final score is 89.25.\n"
     ]
    }
   ],
   "source": [
    "class ScoreList():\n",
    "    def __init__(self, scores):\n",
    "        self.scores = scores\n",
    "\n",
    "    def average(self):\n",
    "        return sum(self.scores) / len(self.scores)\n",
    "\n",
    "l1 = [80, 90, 95, 92, 85]\n",
    "scores = ScoreList(l1) \n",
    "print(f'The final score is {scores.average()}.') \n",
    "l1.pop()\n",
    "print(f'The final score is {scores.average()}.')    "
   ]
  },
  {
   "cell_type": "code",
   "execution_count": 59,
   "id": "483d8507",
   "metadata": {},
   "outputs": [
    {
     "name": "stdout",
     "output_type": "stream",
     "text": [
      "The final score is 88.4.\n",
      "The final score is 88.4.\n"
     ]
    }
   ],
   "source": [
    "class ScoreList():\n",
    "    def __init__(self, *scores):\n",
    "        self.scores = scores\n",
    "\n",
    "    def average(self):\n",
    "        return sum(self.scores) / len(self.scores)\n",
    "\n",
    "l1 = [80, 90, 95, 92, 85]\n",
    "scores = ScoreList(80, 90, 95, 92, 85) \n",
    "print(f'The final score is {scores.average()}.') \n",
    "l1.pop()\n",
    "print(f'The final score is {scores.average()}.')    "
   ]
  },
  {
   "cell_type": "code",
   "execution_count": 58,
   "id": "34a5525f",
   "metadata": {},
   "outputs": [
    {
     "data": {
      "text/plain": [
       "True"
      ]
     },
     "execution_count": 58,
     "metadata": {},
     "output_type": "execute_result"
    }
   ],
   "source": [
    "scores.scores is l1"
   ]
  },
  {
   "cell_type": "code",
   "execution_count": 60,
   "id": "5956bf2f",
   "metadata": {},
   "outputs": [
    {
     "name": "stdout",
     "output_type": "stream",
     "text": [
      "The final score is 88.4.\n",
      "The final score is 88.4.\n"
     ]
    }
   ],
   "source": [
    "class ScoreList():\n",
    "    def __init__(self, scores):\n",
    "        self.scores = scores[:]\n",
    "\n",
    "    def average(self):\n",
    "        return sum(self.scores) / len(self.scores)\n",
    "\n",
    "l1 = [80, 90, 95, 92, 85]\n",
    "scores = ScoreList(l1) \n",
    "print(f'The final score is {scores.average()}.') \n",
    "l1.pop()\n",
    "print(f'The final score is {scores.average()}.')  "
   ]
  },
  {
   "cell_type": "code",
   "execution_count": 54,
   "id": "60cecc5d",
   "metadata": {},
   "outputs": [
    {
     "data": {
      "text/plain": [
       "[80, 90, 95, 92]"
      ]
     },
     "execution_count": 54,
     "metadata": {},
     "output_type": "execute_result"
    }
   ],
   "source": [
    "l1"
   ]
  },
  {
   "cell_type": "code",
   "execution_count": 61,
   "id": "6c400b5a",
   "metadata": {},
   "outputs": [],
   "source": [
    "x = [1, 2, [3, 4]]"
   ]
  },
  {
   "cell_type": "code",
   "execution_count": 62,
   "id": "3cc57aad",
   "metadata": {},
   "outputs": [],
   "source": [
    "y = x.copy()"
   ]
  },
  {
   "cell_type": "code",
   "execution_count": 63,
   "id": "1be65a32",
   "metadata": {},
   "outputs": [],
   "source": [
    "x[1] = 55"
   ]
  },
  {
   "cell_type": "code",
   "execution_count": 64,
   "id": "e44a9280",
   "metadata": {},
   "outputs": [
    {
     "name": "stdout",
     "output_type": "stream",
     "text": [
      "[1, 55, [3, 4]] [1, 2, [3, 4]]\n"
     ]
    }
   ],
   "source": [
    "print(x, y)"
   ]
  },
  {
   "cell_type": "code",
   "execution_count": 65,
   "id": "048638ef",
   "metadata": {},
   "outputs": [],
   "source": [
    "y[-1].append(65)"
   ]
  },
  {
   "cell_type": "code",
   "execution_count": 66,
   "id": "eb4f60ef",
   "metadata": {},
   "outputs": [
    {
     "name": "stdout",
     "output_type": "stream",
     "text": [
      "[1, 55, [3, 4, 65]] [1, 2, [3, 4, 65]]\n"
     ]
    }
   ],
   "source": [
    "print(x, y)"
   ]
  },
  {
   "cell_type": "code",
   "execution_count": null,
   "id": "7b687383",
   "metadata": {},
   "outputs": [],
   "source": [
    "import copy \n",
    "copy.deepcopy(x)"
   ]
  },
  {
   "cell_type": "code",
   "execution_count": 67,
   "id": "36e0ff4f",
   "metadata": {},
   "outputs": [],
   "source": [
    "class a:\n",
    "    def __init__(self, value):\n",
    "        self.value = value"
   ]
  },
  {
   "cell_type": "code",
   "execution_count": 69,
   "id": "d3fb603c",
   "metadata": {},
   "outputs": [],
   "source": [
    "a1 = a(3)"
   ]
  },
  {
   "cell_type": "code",
   "execution_count": 70,
   "id": "cdeeef85",
   "metadata": {},
   "outputs": [
    {
     "data": {
      "text/plain": [
       "<__main__.a at 0x220e0bdb3d0>"
      ]
     },
     "execution_count": 70,
     "metadata": {},
     "output_type": "execute_result"
    }
   ],
   "source": [
    "a1"
   ]
  },
  {
   "cell_type": "code",
   "execution_count": 75,
   "id": "68b31015",
   "metadata": {},
   "outputs": [],
   "source": [
    "class a:\n",
    "    def __init__(self, value):\n",
    "        self.value = value\n",
    "        \n",
    "    def __repr__(self):\n",
    "        return str(self.value)"
   ]
  },
  {
   "cell_type": "code",
   "execution_count": 76,
   "id": "448590bb",
   "metadata": {},
   "outputs": [
    {
     "data": {
      "text/plain": [
       "3"
      ]
     },
     "execution_count": 76,
     "metadata": {},
     "output_type": "execute_result"
    }
   ],
   "source": [
    "a1 = a(3)\n",
    "a1"
   ]
  },
  {
   "cell_type": "code",
   "execution_count": 77,
   "id": "8459e8be",
   "metadata": {},
   "outputs": [
    {
     "name": "stdout",
     "output_type": "stream",
     "text": [
      "3\n"
     ]
    }
   ],
   "source": [
    "print(a1)"
   ]
  },
  {
   "cell_type": "code",
   "execution_count": 82,
   "id": "272b1a6c",
   "metadata": {},
   "outputs": [],
   "source": [
    "class a:\n",
    "    def __init__(self, value):\n",
    "        self.value = value\n",
    "        \n",
    "    def __repr__(self):\n",
    "        return f'repr: {str(self.value)}'\n",
    "    \n",
    "    def __str__(self):\n",
    "        return f'str: {str(self.value)}'"
   ]
  },
  {
   "cell_type": "code",
   "execution_count": 83,
   "id": "bd8427e7",
   "metadata": {},
   "outputs": [
    {
     "name": "stdout",
     "output_type": "stream",
     "text": [
      "str: 3\n"
     ]
    },
    {
     "data": {
      "text/plain": [
       "repr: 3"
      ]
     },
     "execution_count": 83,
     "metadata": {},
     "output_type": "execute_result"
    }
   ],
   "source": [
    "a1 = a(3)\n",
    "print(a1)\n",
    "a1"
   ]
  },
  {
   "cell_type": "code",
   "execution_count": 84,
   "id": "4bc2e96b",
   "metadata": {},
   "outputs": [
    {
     "data": {
      "text/plain": [
       "repr: 3"
      ]
     },
     "execution_count": 84,
     "metadata": {},
     "output_type": "execute_result"
    }
   ],
   "source": [
    "a1"
   ]
  },
  {
   "cell_type": "code",
   "execution_count": 85,
   "id": "421187ab",
   "metadata": {},
   "outputs": [
    {
     "name": "stdout",
     "output_type": "stream",
     "text": [
      "str: 3\n"
     ]
    }
   ],
   "source": [
    "print(a1)"
   ]
  },
  {
   "cell_type": "code",
   "execution_count": 86,
   "id": "4d7b1ba0",
   "metadata": {},
   "outputs": [],
   "source": [
    "class Point:\n",
    "    def __init__(self, x, y):\n",
    "        self.x = x\n",
    "        self.y = y\n",
    "        \n",
    "    def __repr__(self):\n",
    "        return f'x={self.x}; y={self.y}'\n",
    "\n",
    "p1 = Point(10, 10)\n",
    "p2 = Point(10, 10)"
   ]
  },
  {
   "cell_type": "code",
   "execution_count": 87,
   "id": "34d55a3f",
   "metadata": {},
   "outputs": [
    {
     "data": {
      "text/plain": [
       "x=10; y=10"
      ]
     },
     "execution_count": 87,
     "metadata": {},
     "output_type": "execute_result"
    }
   ],
   "source": [
    "p1"
   ]
  },
  {
   "cell_type": "code",
   "execution_count": 88,
   "id": "3cd61471",
   "metadata": {},
   "outputs": [
    {
     "data": {
      "text/plain": [
       "x=10; y=10"
      ]
     },
     "execution_count": 88,
     "metadata": {},
     "output_type": "execute_result"
    }
   ],
   "source": [
    "p2"
   ]
  },
  {
   "cell_type": "code",
   "execution_count": 90,
   "id": "1efa1006",
   "metadata": {},
   "outputs": [
    {
     "name": "stdout",
     "output_type": "stream",
     "text": [
      "x: 10; y: 10\n",
      "x: 10; y: 10\n",
      "True\n",
      "False\n"
     ]
    }
   ],
   "source": [
    "from typing import NamedTuple\n",
    "\n",
    "class Point(NamedTuple):\n",
    "    x: int\n",
    "    y: int\n",
    "\n",
    "    def __str__(self):\n",
    "        return f'x: {self.x}; y: {self.y}'\n",
    "    \n",
    "p1 = Point(10, 10)\n",
    "p2 = Point(10, 10)\n",
    "print(p1)\n",
    "print(p2)\n",
    "print(p1 == p2)\n",
    "print(p1 is p2)"
   ]
  },
  {
   "cell_type": "code",
   "execution_count": 91,
   "id": "fe912027",
   "metadata": {},
   "outputs": [
    {
     "ename": "AttributeError",
     "evalue": "can't set attribute",
     "output_type": "error",
     "traceback": [
      "\u001b[1;31m---------------------------------------------------------------------------\u001b[0m",
      "\u001b[1;31mAttributeError\u001b[0m                            Traceback (most recent call last)",
      "\u001b[1;32m~\\AppData\\Local\\Temp\\ipykernel_18812\\3856725170.py\u001b[0m in \u001b[0;36m<module>\u001b[1;34m\u001b[0m\n\u001b[1;32m----> 1\u001b[1;33m \u001b[0mp1\u001b[0m\u001b[1;33m.\u001b[0m\u001b[0mx\u001b[0m \u001b[1;33m=\u001b[0m \u001b[1;36m3\u001b[0m\u001b[1;33m\u001b[0m\u001b[1;33m\u001b[0m\u001b[0m\n\u001b[0m",
      "\u001b[1;31mAttributeError\u001b[0m: can't set attribute"
     ]
    }
   ],
   "source": [
    "p1.x = 3"
   ]
  },
  {
   "cell_type": "code",
   "execution_count": 92,
   "id": "e060efa6",
   "metadata": {},
   "outputs": [
    {
     "name": "stdout",
     "output_type": "stream",
     "text": [
      "x: 10; y: 10\n",
      "x: 10; y: 10\n",
      "True\n",
      "False\n"
     ]
    }
   ],
   "source": [
    "from dataclasses import dataclass\n",
    "\n",
    "@dataclass\n",
    "class Point:\n",
    "    x: int\n",
    "    y: int\n",
    "\n",
    "    def __str__(self):\n",
    "        return f'x: {self.x}; y: {self.y}'\n",
    "\n",
    "p1 = Point(10, 10)\n",
    "p2 = Point(10, 10)\n",
    "print(p1)\n",
    "print(p2)\n",
    "print(p1 == p2)\n",
    "print(p1 is p2)"
   ]
  },
  {
   "cell_type": "code",
   "execution_count": 93,
   "id": "f7f83f23",
   "metadata": {},
   "outputs": [],
   "source": [
    "from dataclasses import dataclass\n",
    "\n",
    "@dataclass\n",
    "class InventoryItem:\n",
    "    \"\"\"Class for keeping track of an item in inventory.\"\"\"\n",
    "    name: str\n",
    "    unit_price: float\n",
    "    quantity_on_hand: int = 0\n",
    "\n",
    "    def total_cost(self) -> float:\n",
    "        return self.unit_price * self.quantity_on_hand\n"
   ]
  },
  {
   "cell_type": "code",
   "execution_count": 94,
   "id": "c84efa82",
   "metadata": {},
   "outputs": [],
   "source": [
    "it = InventoryItem('blah', 3.14, 5)"
   ]
  },
  {
   "cell_type": "code",
   "execution_count": 95,
   "id": "17994c1b",
   "metadata": {},
   "outputs": [],
   "source": [
    "it.name = 'clah'"
   ]
  },
  {
   "cell_type": "code",
   "execution_count": 99,
   "id": "4f0a6f01",
   "metadata": {},
   "outputs": [
    {
     "name": "stdout",
     "output_type": "stream",
     "text": [
      "{'x': 10, 'y': 12}\n",
      "{'x': 10, 'y': 12}\n",
      "{'x': 10, 'y': 12}\n"
     ]
    }
   ],
   "source": [
    "from collections import namedtuple\n",
    "from typing import NamedTuple\n",
    "from dataclasses import dataclass\n",
    "import dataclasses\n",
    "\n",
    "\n",
    "Pointnamedtuple = namedtuple('Point', 'x y')\n",
    "\n",
    "\n",
    "class PointNamedTuple(NamedTuple):\n",
    "    x: int\n",
    "    y: int\n",
    "\n",
    "    def __str__(self):\n",
    "        return f'x: {self.x}; y: {self.y}'\n",
    "\n",
    "@dataclass\n",
    "class Pointdataclass:\n",
    "    x: int\n",
    "    y: int\n",
    "\n",
    "    def __str__(self):\n",
    "        return f'x: {self.x}; y: {self.y}'\n",
    "\n",
    "p1 = Pointnamedtuple(10, 12)\n",
    "p2 = PointNamedTuple(10, 12)\n",
    "p3 = Pointdataclass(10, 12)\n",
    "print(p1._asdict())\n",
    "print(p2._asdict())\n",
    "print(dataclasses.asdict(p3))"
   ]
  },
  {
   "cell_type": "code",
   "execution_count": 105,
   "id": "b063113b",
   "metadata": {},
   "outputs": [],
   "source": [
    "class Person:\n",
    "    def __init__(self, first_name, last_name, email):\n",
    "        self.first_name = first_name\n",
    "        self.last_name = last_name\n",
    "        self.email = email\n",
    "\n",
    "    def __repr__(self):\n",
    "        return self.get_full_name()\n",
    "\n",
    "    def get_full_name(self):\n",
    "        return f'{self.last_name}, {self.first_name}'"
   ]
  },
  {
   "cell_type": "code",
   "execution_count": 106,
   "id": "c44e5645",
   "metadata": {},
   "outputs": [],
   "source": [
    "p1 = Person('John', 'Doe', 'jdoe@buffalo.edu')"
   ]
  },
  {
   "cell_type": "code",
   "execution_count": 107,
   "id": "2e473360",
   "metadata": {},
   "outputs": [],
   "source": [
    "p2 = Person('Jane', 'Doe', 'jane@buffalo.edu')"
   ]
  },
  {
   "cell_type": "code",
   "execution_count": 108,
   "id": "95d36c8a",
   "metadata": {},
   "outputs": [
    {
     "data": {
      "text/plain": [
       "Doe, John"
      ]
     },
     "execution_count": 108,
     "metadata": {},
     "output_type": "execute_result"
    }
   ],
   "source": [
    "p1"
   ]
  },
  {
   "cell_type": "code",
   "execution_count": 109,
   "id": "bf2df2d9",
   "metadata": {},
   "outputs": [
    {
     "data": {
      "text/plain": [
       "Doe, Jane"
      ]
     },
     "execution_count": 109,
     "metadata": {},
     "output_type": "execute_result"
    }
   ],
   "source": [
    "p2"
   ]
  },
  {
   "cell_type": "code",
   "execution_count": 110,
   "id": "6d83cd54",
   "metadata": {},
   "outputs": [],
   "source": [
    "class Student(Person):\n",
    "\n",
    "    def __init__(self, first_name, last_name, email, program):\n",
    "        super().__init__(first_name, last_name, email)\n",
    "        self.program = program\n"
   ]
  },
  {
   "cell_type": "code",
   "execution_count": 115,
   "id": "ecc03a73",
   "metadata": {},
   "outputs": [],
   "source": [
    "class Student(Person):\n",
    "    PROGRAMS = ['graduate', 'undergraduate']\n",
    "\n",
    "    def __init__(self, first_name, last_name, email, program):    \n",
    "        if program.lower() not in self.PROGRAMS:\n",
    "            raise ValueError('program can only be \"graduate\" or \"undergraduate\"')\n",
    "        super().__init__(first_name, last_name, email)\n",
    "        self.program = program.lower()\n",
    "        self.classes = []\n",
    "\n",
    "\n",
    "    def enroll(self, name_of_course):\n",
    "        self.classes.append(name_of_course)\n",
    "\n",
    "    def print_classes(self):\n",
    "        classes = ', '.join(self.classes)\n",
    "        print(f'{classes}')"
   ]
  },
  {
   "cell_type": "code",
   "execution_count": 116,
   "id": "0b60e218",
   "metadata": {},
   "outputs": [
    {
     "name": "stdout",
     "output_type": "stream",
     "text": [
      "doe, john\n"
     ]
    }
   ],
   "source": [
    "s1 = Student('john', 'doe', 'jdoe@example.edu', 'gradUate')\n",
    "print(s1)"
   ]
  },
  {
   "cell_type": "code",
   "execution_count": 117,
   "id": "30a5ece9",
   "metadata": {},
   "outputs": [
    {
     "name": "stdout",
     "output_type": "stream",
     "text": [
      "abc, abc, efg, hij\n"
     ]
    }
   ],
   "source": [
    "s1.enroll('abc')\n",
    "s1.enroll('abc')\n",
    "s1.enroll('efg')\n",
    "s1.enroll('hij')\n",
    "s1.print_classes()"
   ]
  },
  {
   "cell_type": "code",
   "execution_count": 119,
   "id": "ea9cf167",
   "metadata": {},
   "outputs": [
    {
     "name": "stdout",
     "output_type": "stream",
     "text": [
      "doe, john\n",
      "Already enrolled in abc doe, john!\n",
      "abc, efg, hij\n"
     ]
    }
   ],
   "source": [
    "class Student(Person):\n",
    "    PROGRAMS = ['graduate', 'undergraduate']\n",
    "\n",
    "    def __init__(self, first_name, last_name, email, program):\n",
    "        super().__init__(first_name, last_name, email)\n",
    "        if program.lower() not in self.PROGRAMS:\n",
    "            raise ValueError('program can only be \"graduate\" or \"undergraduate\"')\n",
    "        self.program = program\n",
    "        self.classes = []\n",
    "\n",
    "\n",
    "    def enroll(self, name_of_course):\n",
    "        if name_of_course not in self.classes:\n",
    "            self.classes.append(name_of_course)\n",
    "        else:\n",
    "            print(f'Already enrolled in {name_of_course} {self.get_full_name()}!')\n",
    "\n",
    "    def print_classes(self):\n",
    "        classes = ', '.join(self.classes)\n",
    "        print(f'{classes}')\n",
    "\n",
    "    def print_self(self):\n",
    "        print(self)\n",
    "\n",
    "s1 = Student('john', 'doe', 'jdoe@example.edu', 'graduate')\n",
    "print(s1)\n",
    "s1.enroll('abc')\n",
    "s1.enroll('abc')\n",
    "s1.enroll('efg')\n",
    "s1.enroll('hij')\n",
    "s1.print_classes()\n"
   ]
  },
  {
   "cell_type": "code",
   "execution_count": 120,
   "id": "ea28cd97",
   "metadata": {},
   "outputs": [
    {
     "name": "stdout",
     "output_type": "stream",
     "text": [
      "doe, john\n",
      "Already enrolled in Chemistry!\n",
      "Chemistry, Math, Physics\n"
     ]
    }
   ],
   "source": [
    "class Course:\n",
    "    def __init__(self, course_name, credits):\n",
    "        self.course_name = course_name\n",
    "        self.credits = credits\n",
    "\n",
    "    def __repr__(self):\n",
    "        return f'{self.course_name}'\n",
    "\n",
    "\n",
    "    def get_course_name(self):\n",
    "        return self.course_name\n",
    "\n",
    "\n",
    "\n",
    "class Student(Person):\n",
    "    PROGRAMS = ['graduate', 'undergraduate']\n",
    "\n",
    "    def __init__(self, first_name, last_name, email, program):\n",
    "        super().__init__(first_name, last_name, email)\n",
    "        if program.lower() not in self.PROGRAMS:\n",
    "            raise ValueError('program can only be \"graduate\" or \"undergraduate\"')\n",
    "        self.program = program\n",
    "        self.classes = []\n",
    "\n",
    "\n",
    "    def enroll(self, course):\n",
    "        if course not in self.classes:\n",
    "            self.classes.append(course)\n",
    "        else:\n",
    "            print(f'Already enrolled in {course}!')\n",
    "\n",
    "    def print_classes(self):\n",
    "        classes = ', '.join(sorted([i.course_name for i in self.classes]))\n",
    "        print(f'{classes}')\n",
    "\n",
    "c1 = Course('Math', 3)\n",
    "c2 = Course('Physics', 4)\n",
    "c3 = Course('Chemistry', 3)\n",
    "c4 = Course('English', 3)\n",
    "\n",
    "s1 = Student('john', 'doe', 'jdoe@example.edu', 'graduate')\n",
    "print(s1)\n",
    "s1.enroll(c1)\n",
    "s1.enroll(c2)\n",
    "s1.enroll(c3)\n",
    "s1.enroll(c3)\n",
    "s1.print_classes()"
   ]
  },
  {
   "cell_type": "code",
   "execution_count": 121,
   "id": "e3c7e8a3",
   "metadata": {},
   "outputs": [
    {
     "name": "stdout",
     "output_type": "stream",
     "text": [
      "doe, john\n",
      "Already enrolled in Math!\n",
      "You will be over the max credits! Cannot add Physics.\n",
      "Chemistry, English, Math\n"
     ]
    }
   ],
   "source": [
    "class Student(Person):\n",
    "    PROGRAMS = ['graduate', 'undergraduate']\n",
    "    MAX_CREDITS = 9\n",
    "\n",
    "    def __init__(self, first_name, last_name, email, program):\n",
    "        super().__init__(first_name, last_name, email)\n",
    "        if program.lower() not in self.PROGRAMS:\n",
    "            raise ValueError('program can only be \"graduate\" or \"undergraduate\"')\n",
    "        self.program = program\n",
    "        self.classes = []\n",
    "        self.enrolled_credits = 0\n",
    "\n",
    "    def enroll(self, course):\n",
    "        \n",
    "        # never allow more than 9 credits after enrollment -- 8 \n",
    "        if self.get_total_credits() + course.credits > self.MAX_CREDITS:\n",
    "            print(f'You will be over the max credits! Cannot add {course}.')\n",
    "            return\n",
    "\n",
    "        if course not in self.classes:\n",
    "            self.classes.append(course)\n",
    "        else:\n",
    "            print(f'Already enrolled in {course}!')\n",
    "\n",
    "    def print_classes(self):\n",
    "        classes = ', '.join(sorted([i.course_name for i in self.classes]))\n",
    "        print(f'{classes}')\n",
    "\n",
    "\n",
    "    def get_total_credits(self):\n",
    "        total_credits = 0\n",
    "        for ele in self.classes:\n",
    "            total_credits += ele.credits\n",
    "        return total_credits\n",
    "\n",
    "class Course:\n",
    "    def __init__(self, course_name, credits):\n",
    "        self.course_name = course_name\n",
    "        self.credits = credits\n",
    "\n",
    "    def __repr__(self):\n",
    "        return f'{self.course_name}'\n",
    "\n",
    "    def __str__(self):\n",
    "        return f'{self.course_name}'\n",
    "\n",
    "\n",
    "    def get_course_name(self):\n",
    "        return self.course_name\n",
    "\n",
    "\n",
    "c1 = Course('Math', 3)\n",
    "c2 = Course('Physics', 4)\n",
    "c3 = Course('Chemistry', 3)\n",
    "c4 = Course('English', 3)\n",
    "\n",
    "s1 = Student('john', 'doe', 'jdoe@example.edu', 'graduate')\n",
    "print(s1)\n",
    "s1.enroll(c1)\n",
    "s1.enroll(c1)\n",
    "s1.enroll(c3)\n",
    "s1.enroll(c4)\n",
    "s1.enroll(c2)\n",
    "s1.print_classes()"
   ]
  },
  {
   "cell_type": "code",
   "execution_count": 122,
   "id": "26f0e759",
   "metadata": {},
   "outputs": [],
   "source": [
    "class Logfile:\n",
    "    def __init__(self, filename):\n",
    "        self.filename = filename\n",
    "        self.file = None\n",
    "        \n",
    "    def open_file(self):\n",
    "        self.file = open(self.filename, 'w')\n",
    "        \n",
    "    def write_row(self, row):\n",
    "        self.file.write(f'{row.strip()}\\n')\n",
    "        \n",
    "    def close_file(self):\n",
    "        self.file.close()\n",
    "        \n",
    "\n",
    "        \n",
    "l1 = Logfile('log1.txt')\n",
    "l1.open_file()\n",
    "\n",
    "for row in ['abc', 'efg', 'hij']:\n",
    "    l1.write_row(row)\n",
    "    \n",
    "l1.close_file()"
   ]
  },
  {
   "cell_type": "code",
   "execution_count": 125,
   "id": "a3243936",
   "metadata": {},
   "outputs": [],
   "source": [
    "class Person:\n",
    "    def __init__(self, first_name, last_name):\n",
    "        self.first_name = first_name\n",
    "        self.last_name = last_name\n",
    "\n",
    "    \n",
    "\n",
    "class Student(Person):\n",
    "    def __init__(self, first_name, last_name, credit_hours, q_point):\n",
    "        super().__init__(first_name, last_name)\n",
    "        self.credit_hours = credit_hours\n",
    "        self.q_point = q_point\n",
    "        \n",
    "    def __repr__(self):\n",
    "        return f'{self.first_name} {self.last_name}; {self.get_gpa()}'\n",
    "    \n",
    "    def get_gpa(self):\n",
    "        return round(self.q_point / self.credit_hours, 2)\n",
    "    \n",
    "    \n",
    "filename = 'data.tsv'\n",
    "\n",
    "students = []\n",
    "\n",
    "with open(filename) as file:\n",
    "    for line in file:\n",
    "        if not line.strip():\n",
    "            continue\n",
    "        \n",
    "        name, credits, q_points = line.strip().split('\\t')\n",
    "        last_name, first_name = name.split(',')\n",
    "        first_name = first_name.strip()\n",
    "        \n",
    "        student = Student(first_name, last_name, int(credits), int(q_points))\n",
    "        students.append(student)"
   ]
  },
  {
   "cell_type": "code",
   "execution_count": 127,
   "id": "eac79209",
   "metadata": {},
   "outputs": [
    {
     "name": "stdout",
     "output_type": "stream",
     "text": [
      "Samuel Anderson; 2.62\n",
      "Jacob Cummings; 3.41\n",
      "Walter Sosa; 2.62\n",
      "Joel Conway; 3.23\n",
      "Andrew Burton; 2.15\n",
      "Judith Harris; 1.83\n",
      "Abigail Thomas; 2.61\n",
      "Sarah Edwards; 3.31\n",
      "Jennifer Pratt; 2.87\n",
      "Patricia Hess; 3.1\n",
      "Brandon Butler; 3.83\n",
      "Tammy Williams; 3.21\n",
      "Jonathan Williams; 1.96\n",
      "Amy Perry; 2.87\n",
      "Evelyn Mendez; 1.54\n",
      "Elizabeth Jackson; 2.4\n",
      "Douglas Cameron; 2.35\n",
      "Heather Wright; 2.38\n",
      "Mariah Tucker; 3.11\n",
      "Rachel Jones; 2.86\n",
      "Tommy Hull; 3.0\n",
      "Miguel Guerra; 2.04\n",
      "Sarah Hernandez; 2.02\n",
      "Ellen Cortez; 3.43\n",
      "Tracy Lee; 2.29\n",
      "Troy Griffith; 2.07\n",
      "Ana Torres; 3.14\n",
      "Howard Moore; 2.7\n",
      "Richard Nelson; 2.78\n",
      "Lisa James; 2.82\n",
      "Hannah Macias; 3.76\n",
      "Richard Rodriguez; 2.85\n",
      "Christopher Ho; 3.0\n",
      "Raymond Fisher; 3.25\n",
      "Gregory Jones; 3.38\n",
      "Ashley Davenport; 2.0\n",
      "Jamie Peters; 3.38\n",
      "Lisa Aguilar; 3.88\n",
      "David Bush; 1.94\n",
      "Samantha Barr; 3.5\n",
      "Steven Gordon; 2.02\n",
      "Matthew Jones; 2.49\n",
      "Ronald Harris; 1.55\n",
      "Brandon Crane; 3.89\n",
      "Michael Fry; 2.27\n",
      "Monica Mann; 3.36\n",
      "Richard Matthews; 1.93\n",
      "Jon Perkins; 3.5\n",
      "Jasmine Williams; 1.7\n",
      "Kristy Rowland; 3.46\n",
      "Tanya Montgomery; 1.63\n",
      "Steven Mcgee; 2.0\n",
      "Amber Aguilar; 1.81\n",
      "Jason Stuart; 2.0\n",
      "Kyle Humphrey; 3.81\n",
      "Christina Stewart; 3.74\n",
      "Thomas Roberts; 3.64\n",
      "Jason Weber; 2.39\n",
      "Karen Lee; 1.95\n",
      "Edward Lopez; 1.86\n",
      "Kayla Baldwin; 2.76\n",
      "Madison Dunn; 3.11\n",
      "Sarah Brown; 2.53\n",
      "Christina Bowman; 2.65\n",
      "Jennifer Vazquez; 1.5\n",
      "Emily Mccarthy; 2.96\n",
      "Carrie Lewis; 2.87\n",
      "Mark Jackson; 3.48\n",
      "Julie Weaver; 3.16\n",
      "Lauren Torres; 3.69\n",
      "Mary Moon; 3.62\n",
      "Michelle Church; 3.75\n",
      "Laura Haley; 2.98\n",
      "Ann Rodriguez; 2.58\n",
      "Colleen Gomez; 2.22\n",
      "Amy Hunter; 3.47\n",
      "Anthony Davis; 3.48\n",
      "Dorothy Graves; 2.12\n",
      "Phyllis Miller; 2.61\n",
      "Robert Burnett; 1.83\n",
      "Sophia Haley; 2.75\n",
      "Ashley Shaw; 2.83\n",
      "Andrew Erickson; 2.07\n",
      "Rebecca Weaver; 3.66\n",
      "Danielle Young; 1.71\n",
      "Carol Howell; 2.63\n",
      "Jasmin Stephens; 2.63\n",
      "Justin Guerrero; 3.28\n",
      "Ashley Aguilar; 1.61\n",
      "Kelly Holmes; 2.13\n",
      "Erica Fleming; 1.52\n",
      "Raymond Christian; 1.67\n",
      "Brian Franklin; 3.0\n",
      "Ashley James; 2.62\n",
      "Christine Johnson; 3.65\n",
      "Brian Holland; 2.44\n",
      "Rebecca Harrison; 3.64\n",
      "Meagan Harrell; 3.54\n",
      "Johnny Mitchell; 1.65\n",
      "Kevin Cooper; 2.35\n"
     ]
    }
   ],
   "source": [
    "for student in students:\n",
    "    print(student)"
   ]
  },
  {
   "cell_type": "code",
   "execution_count": 128,
   "id": "f14f9fcf",
   "metadata": {},
   "outputs": [],
   "source": [
    "s1 = students[1]"
   ]
  },
  {
   "cell_type": "code",
   "execution_count": 129,
   "id": "4a10ed78",
   "metadata": {},
   "outputs": [
    {
     "data": {
      "text/plain": [
       "Jacob Cummings; 3.41"
      ]
     },
     "execution_count": 129,
     "metadata": {},
     "output_type": "execute_result"
    }
   ],
   "source": [
    "s1"
   ]
  },
  {
   "cell_type": "code",
   "execution_count": 130,
   "id": "d77fab73",
   "metadata": {},
   "outputs": [
    {
     "ename": "TypeError",
     "evalue": "'>' not supported between instances of 'Student' and 'Student'",
     "output_type": "error",
     "traceback": [
      "\u001b[1;31m---------------------------------------------------------------------------\u001b[0m",
      "\u001b[1;31mTypeError\u001b[0m                                 Traceback (most recent call last)",
      "\u001b[1;32m~\\AppData\\Local\\Temp\\ipykernel_18812\\2159455119.py\u001b[0m in \u001b[0;36m<module>\u001b[1;34m\u001b[0m\n\u001b[1;32m----> 1\u001b[1;33m \u001b[0mmax\u001b[0m\u001b[1;33m(\u001b[0m\u001b[0mstudents\u001b[0m\u001b[1;33m)\u001b[0m\u001b[1;33m\u001b[0m\u001b[1;33m\u001b[0m\u001b[0m\n\u001b[0m",
      "\u001b[1;31mTypeError\u001b[0m: '>' not supported between instances of 'Student' and 'Student'"
     ]
    }
   ],
   "source": [
    "max(students)"
   ]
  },
  {
   "cell_type": "code",
   "execution_count": 131,
   "id": "0c1cfa80",
   "metadata": {},
   "outputs": [
    {
     "data": {
      "text/plain": [
       "Jennifer Vazquez; 1.5"
      ]
     },
     "execution_count": 131,
     "metadata": {},
     "output_type": "execute_result"
    }
   ],
   "source": [
    "min(students, key=lambda student: student.get_gpa())"
   ]
  },
  {
   "cell_type": "code",
   "execution_count": 132,
   "id": "92d3dcdd",
   "metadata": {},
   "outputs": [
    {
     "data": {
      "text/plain": [
       "Brandon Crane; 3.89"
      ]
     },
     "execution_count": 132,
     "metadata": {},
     "output_type": "execute_result"
    }
   ],
   "source": [
    "max(students, key=lambda student: student.get_gpa())"
   ]
  },
  {
   "cell_type": "code",
   "execution_count": 133,
   "id": "21a29347",
   "metadata": {},
   "outputs": [
    {
     "data": {
      "text/plain": [
       "[Jennifer Vazquez; 1.5,\n",
       " Erica Fleming; 1.52,\n",
       " Evelyn Mendez; 1.54,\n",
       " Ronald Harris; 1.55,\n",
       " Ashley Aguilar; 1.61,\n",
       " Tanya Montgomery; 1.63,\n",
       " Johnny Mitchell; 1.65,\n",
       " Raymond Christian; 1.67,\n",
       " Jasmine Williams; 1.7,\n",
       " Danielle Young; 1.71,\n",
       " Amber Aguilar; 1.81,\n",
       " Judith Harris; 1.83,\n",
       " Robert Burnett; 1.83,\n",
       " Edward Lopez; 1.86,\n",
       " Richard Matthews; 1.93,\n",
       " David Bush; 1.94,\n",
       " Karen Lee; 1.95,\n",
       " Jonathan Williams; 1.96,\n",
       " Ashley Davenport; 2.0,\n",
       " Steven Mcgee; 2.0,\n",
       " Jason Stuart; 2.0,\n",
       " Sarah Hernandez; 2.02,\n",
       " Steven Gordon; 2.02,\n",
       " Miguel Guerra; 2.04,\n",
       " Troy Griffith; 2.07,\n",
       " Andrew Erickson; 2.07,\n",
       " Dorothy Graves; 2.12,\n",
       " Kelly Holmes; 2.13,\n",
       " Andrew Burton; 2.15,\n",
       " Colleen Gomez; 2.22,\n",
       " Michael Fry; 2.27,\n",
       " Tracy Lee; 2.29,\n",
       " Douglas Cameron; 2.35,\n",
       " Kevin Cooper; 2.35,\n",
       " Heather Wright; 2.38,\n",
       " Jason Weber; 2.39,\n",
       " Elizabeth Jackson; 2.4,\n",
       " Brian Holland; 2.44,\n",
       " Matthew Jones; 2.49,\n",
       " Sarah Brown; 2.53,\n",
       " Ann Rodriguez; 2.58,\n",
       " Abigail Thomas; 2.61,\n",
       " Phyllis Miller; 2.61,\n",
       " Samuel Anderson; 2.62,\n",
       " Walter Sosa; 2.62,\n",
       " Ashley James; 2.62,\n",
       " Carol Howell; 2.63,\n",
       " Jasmin Stephens; 2.63,\n",
       " Christina Bowman; 2.65,\n",
       " Howard Moore; 2.7,\n",
       " Sophia Haley; 2.75,\n",
       " Kayla Baldwin; 2.76,\n",
       " Richard Nelson; 2.78,\n",
       " Lisa James; 2.82,\n",
       " Ashley Shaw; 2.83,\n",
       " Richard Rodriguez; 2.85,\n",
       " Rachel Jones; 2.86,\n",
       " Jennifer Pratt; 2.87,\n",
       " Amy Perry; 2.87,\n",
       " Carrie Lewis; 2.87,\n",
       " Emily Mccarthy; 2.96,\n",
       " Laura Haley; 2.98,\n",
       " Tommy Hull; 3.0,\n",
       " Christopher Ho; 3.0,\n",
       " Brian Franklin; 3.0,\n",
       " Patricia Hess; 3.1,\n",
       " Mariah Tucker; 3.11,\n",
       " Madison Dunn; 3.11,\n",
       " Ana Torres; 3.14,\n",
       " Julie Weaver; 3.16,\n",
       " Tammy Williams; 3.21,\n",
       " Joel Conway; 3.23,\n",
       " Raymond Fisher; 3.25,\n",
       " Justin Guerrero; 3.28,\n",
       " Sarah Edwards; 3.31,\n",
       " Monica Mann; 3.36,\n",
       " Gregory Jones; 3.38,\n",
       " Jamie Peters; 3.38,\n",
       " Jacob Cummings; 3.41,\n",
       " Ellen Cortez; 3.43,\n",
       " Kristy Rowland; 3.46,\n",
       " Amy Hunter; 3.47,\n",
       " Mark Jackson; 3.48,\n",
       " Anthony Davis; 3.48,\n",
       " Samantha Barr; 3.5,\n",
       " Jon Perkins; 3.5,\n",
       " Meagan Harrell; 3.54,\n",
       " Mary Moon; 3.62,\n",
       " Thomas Roberts; 3.64,\n",
       " Rebecca Harrison; 3.64,\n",
       " Christine Johnson; 3.65,\n",
       " Rebecca Weaver; 3.66,\n",
       " Lauren Torres; 3.69,\n",
       " Christina Stewart; 3.74,\n",
       " Michelle Church; 3.75,\n",
       " Hannah Macias; 3.76,\n",
       " Kyle Humphrey; 3.81,\n",
       " Brandon Butler; 3.83,\n",
       " Lisa Aguilar; 3.88,\n",
       " Brandon Crane; 3.89]"
      ]
     },
     "execution_count": 133,
     "metadata": {},
     "output_type": "execute_result"
    }
   ],
   "source": [
    "sorted(students, key=lambda student: student.get_gpa())"
   ]
  },
  {
   "cell_type": "code",
   "execution_count": 134,
   "id": "2adbd587",
   "metadata": {},
   "outputs": [
    {
     "ename": "TypeError",
     "evalue": "unsupported operand type(s) for +: 'int' and 'str'",
     "output_type": "error",
     "traceback": [
      "\u001b[1;31m---------------------------------------------------------------------------\u001b[0m",
      "\u001b[1;31mTypeError\u001b[0m                                 Traceback (most recent call last)",
      "\u001b[1;32m~\\AppData\\Local\\Temp\\ipykernel_18812\\238351767.py\u001b[0m in \u001b[0;36m<module>\u001b[1;34m\u001b[0m\n\u001b[1;32m----> 1\u001b[1;33m \u001b[1;36m3\u001b[0m \u001b[1;33m+\u001b[0m \u001b[1;34m'3'\u001b[0m\u001b[1;33m\u001b[0m\u001b[1;33m\u001b[0m\u001b[0m\n\u001b[0m",
      "\u001b[1;31mTypeError\u001b[0m: unsupported operand type(s) for +: 'int' and 'str'"
     ]
    }
   ],
   "source": [
    "3 + '3'"
   ]
  },
  {
   "cell_type": "code",
   "execution_count": 149,
   "id": "53fd5f53",
   "metadata": {},
   "outputs": [
    {
     "name": "stdout",
     "output_type": "stream",
     "text": [
      "1 2 {'c': 3}\n"
     ]
    }
   ],
   "source": [
    "def my_func(a, b, **kwargs):\n",
    "    if kwargs:\n",
    "        print(a, b, kwargs)\n",
    "    else:\n",
    "        print(a, b)\n",
    "    \n",
    "my_func(1, 2, c=3)"
   ]
  },
  {
   "cell_type": "code",
   "execution_count": 150,
   "id": "9058dbfc",
   "metadata": {},
   "outputs": [
    {
     "ename": "TypeError",
     "evalue": "my_func() takes 2 positional arguments but 3 were given",
     "output_type": "error",
     "traceback": [
      "\u001b[1;31m---------------------------------------------------------------------------\u001b[0m",
      "\u001b[1;31mTypeError\u001b[0m                                 Traceback (most recent call last)",
      "\u001b[1;32m~\\AppData\\Local\\Temp\\ipykernel_18812\\1860885832.py\u001b[0m in \u001b[0;36m<module>\u001b[1;34m\u001b[0m\n\u001b[1;32m----> 1\u001b[1;33m \u001b[0mmy_func\u001b[0m\u001b[1;33m(\u001b[0m\u001b[1;36m1\u001b[0m\u001b[1;33m,\u001b[0m \u001b[1;36m2\u001b[0m\u001b[1;33m,\u001b[0m \u001b[1;36m4\u001b[0m\u001b[1;33m)\u001b[0m\u001b[1;33m\u001b[0m\u001b[1;33m\u001b[0m\u001b[0m\n\u001b[0m",
      "\u001b[1;31mTypeError\u001b[0m: my_func() takes 2 positional arguments but 3 were given"
     ]
    }
   ],
   "source": [
    "my_func(1, 2, 4)"
   ]
  },
  {
   "cell_type": "code",
   "execution_count": 137,
   "id": "2cf9e3f3",
   "metadata": {},
   "outputs": [
    {
     "name": "stdout",
     "output_type": "stream",
     "text": [
      "1 2 3\n"
     ]
    }
   ],
   "source": [
    "my_func(1, 2, **)"
   ]
  },
  {
   "cell_type": "code",
   "execution_count": 151,
   "id": "82035afb",
   "metadata": {},
   "outputs": [
    {
     "name": "stdout",
     "output_type": "stream",
     "text": [
      "1 2\n"
     ]
    }
   ],
   "source": [
    "my_func(1, 2)"
   ]
  },
  {
   "cell_type": "code",
   "execution_count": null,
   "id": "79706520",
   "metadata": {},
   "outputs": [],
   "source": []
  }
 ],
 "metadata": {
  "kernelspec": {
   "display_name": "Python 3 (ipykernel)",
   "language": "python",
   "name": "python3"
  },
  "language_info": {
   "codemirror_mode": {
    "name": "ipython",
    "version": 3
   },
   "file_extension": ".py",
   "mimetype": "text/x-python",
   "name": "python",
   "nbconvert_exporter": "python",
   "pygments_lexer": "ipython3",
   "version": "3.9.13"
  }
 },
 "nbformat": 4,
 "nbformat_minor": 5
}
