{
 "cells": [
  {
   "cell_type": "code",
   "execution_count": 7,
   "id": "051268c1",
   "metadata": {},
   "outputs": [],
   "source": [
    "from abc import ABC, abstractmethod\n",
    "\n",
    "\n",
    "class Employee(ABC):\n",
    "\n",
    "    def __init__(self, first_name, last_name, ssn):\n",
    "        self.first_name = first_name\n",
    "        self.last_name = last_name\n",
    "        self.ssn = ssn\n",
    "\n",
    "    @abstractmethod\n",
    "    def earnings(self):\n",
    "        pass\n",
    "    \n",
    "    def __repr__(self):\n",
    "        return f'{self.first_name} {self.last_name}\\nsocial security: {self.ssn}'"
   ]
  },
  {
   "cell_type": "code",
   "execution_count": 2,
   "id": "89ae12cb",
   "metadata": {},
   "outputs": [
    {
     "ename": "TypeError",
     "evalue": "Can't instantiate abstract class Employee with abstract method earnings",
     "output_type": "error",
     "traceback": [
      "\u001b[1;31m---------------------------------------------------------------------------\u001b[0m",
      "\u001b[1;31mTypeError\u001b[0m                                 Traceback (most recent call last)",
      "\u001b[1;32m~\\AppData\\Local\\Temp\\ipykernel_13580\\4269588165.py\u001b[0m in \u001b[0;36m<module>\u001b[1;34m\u001b[0m\n\u001b[1;32m----> 1\u001b[1;33m \u001b[0me1\u001b[0m \u001b[1;33m=\u001b[0m \u001b[0mEmployee\u001b[0m\u001b[1;33m(\u001b[0m\u001b[1;34m'john'\u001b[0m\u001b[1;33m,\u001b[0m \u001b[1;34m'doe'\u001b[0m\u001b[1;33m,\u001b[0m \u001b[1;34m'111-22-3333'\u001b[0m\u001b[1;33m)\u001b[0m\u001b[1;33m\u001b[0m\u001b[1;33m\u001b[0m\u001b[0m\n\u001b[0m",
      "\u001b[1;31mTypeError\u001b[0m: Can't instantiate abstract class Employee with abstract method earnings"
     ]
    }
   ],
   "source": [
    "e1 = Employee('john', 'doe', '111-22-3333')"
   ]
  },
  {
   "cell_type": "code",
   "execution_count": 8,
   "id": "acfde456",
   "metadata": {},
   "outputs": [],
   "source": [
    "class SalariedEmployee(Employee):\n",
    "    def __init__(self, first_name, last_name, ssn, salary):\n",
    "        super().__init__(first_name, last_name, ssn)\n",
    "        self.weekly_salary = salary\n",
    "\n",
    "    def earnings(self):\n",
    "        return self.weekly_salary\n",
    "\n",
    "    def __repr__(self):\n",
    "        return f'salaried employee: {super().__repr__()}\\nweekly salary: ${self.weekly_salary}'\n",
    "\n",
    "se1 = SalariedEmployee('john', 'doe', '111-22-3333', '525')\n"
   ]
  },
  {
   "cell_type": "code",
   "execution_count": 9,
   "id": "30e03589",
   "metadata": {},
   "outputs": [
    {
     "data": {
      "text/plain": [
       "'525'"
      ]
     },
     "execution_count": 9,
     "metadata": {},
     "output_type": "execute_result"
    }
   ],
   "source": [
    "se1.earnings()"
   ]
  },
  {
   "cell_type": "code",
   "execution_count": 11,
   "id": "1e9e4298",
   "metadata": {},
   "outputs": [
    {
     "data": {
      "text/plain": [
       "salaried employee: john doe\n",
       "social security: 111-22-3333\n",
       "weekly salary: $525"
      ]
     },
     "execution_count": 11,
     "metadata": {},
     "output_type": "execute_result"
    }
   ],
   "source": [
    "se1"
   ]
  },
  {
   "cell_type": "code",
   "execution_count": 12,
   "id": "f60a9151",
   "metadata": {},
   "outputs": [],
   "source": [
    "class HourlyEmployee(Employee):\n",
    "    def __init__(self, first_name, last_name, ssn, hourly_wage, hours_worked):\n",
    "        super().__init__(first_name, last_name, ssn)\n",
    "        self.hourly_wage = hourly_wage\n",
    "        self.hours_worked = hours_worked\n",
    "\n",
    "    def earnings(self):\n",
    "        if self.hours_worked < 40:  # no overtime\n",
    "            earned = self.hourly_wage * self.hours_worked\n",
    "        else:\n",
    "            earned = 40 * self.hourly_wage + \\\n",
    "                (self.hours_worked - 40) * self.hourly_wage * 1.5\n",
    "\n",
    "        return earned\n",
    "\n",
    "    def __repr__(self):\n",
    "        return f'hourly employee: {super().__repr__()}\\nhourly wage: ${self.hourly_wage}; hours worked: {self.hours_worked}'\n"
   ]
  },
  {
   "cell_type": "code",
   "execution_count": 13,
   "id": "ec83b1ef",
   "metadata": {},
   "outputs": [],
   "source": [
    "class CommissionEmployee(Employee):\n",
    "    def __init__(self, first_name, last_name, ssn, sales, rate):\n",
    "        super().__init__(first_name, last_name, ssn)\n",
    "        self.sales = sales\n",
    "        self.rate = rate\n",
    "\n",
    "    def earnings(self):\n",
    "        earned = self.sales * self.rate\n",
    "        return earned\n",
    "\n",
    "    def __repr__(self):\n",
    "        return f'commission employee: {super().__repr__()}\\ngross sales: ${self.sales}; commission rate: {self.rate}'\n"
   ]
  },
  {
   "cell_type": "code",
   "execution_count": 14,
   "id": "cf3b26d1",
   "metadata": {},
   "outputs": [],
   "source": [
    "class BasePlusCommissionEmployee(CommissionEmployee):\n",
    "    def __init__(self, first_name, last_name, ssn, sales, rate, salary):\n",
    "        super().__init__(first_name, last_name, ssn, sales, rate)\n",
    "        self.salary = salary\n",
    "\n",
    "    def earnings(self):\n",
    "        earned = self.salary + super().earnings()\n",
    "        return earned\n",
    "\n",
    "    def __repr__(self):\n",
    "        return f'base-salaried {super().__repr__()}; base-salary: ${self.salary}'\n"
   ]
  },
  {
   "cell_type": "code",
   "execution_count": 15,
   "id": "9e1a1275",
   "metadata": {},
   "outputs": [
    {
     "name": "stdout",
     "output_type": "stream",
     "text": [
      "Employees processed individually:\n",
      "\n",
      "salaried employee: John Smith\n",
      "social security: 111-11-1111\n",
      "weekly salary: $800\n",
      "earned: $800\n",
      "\n",
      "hourly employee: Karen Price\n",
      "social security: 222-22-2222\n",
      "hourly wage: $16.75; hours worked: 40\n",
      "earned: $670.0\n",
      "\n",
      "commission employee: Sue Jones\n",
      "social security: 333-33-3333\n",
      "gross sales: $10000; commission rate: 0.06\n",
      "earned: $600.0\n",
      "\n",
      "base-salaried commission employee: Bob Lewis\n",
      "social security: 444-44-4444\n",
      "gross sales: $5000; commission rate: 0.04; base-salary: $300\n",
      "earned: $500.0\n"
     ]
    }
   ],
   "source": [
    "print('Employees processed individually:\\n')\n",
    "salaried_employee = SalariedEmployee('John', 'Smith', '111-11-1111', 800)\n",
    "print(salaried_employee)\n",
    "print(f'earned: ${salaried_employee.earnings()}')\n",
    "\n",
    "print()\n",
    "hourly_employee = HourlyEmployee('Karen', 'Price', '222-22-2222', 16.75, 40)\n",
    "print(hourly_employee)\n",
    "print(f'earned: ${hourly_employee.earnings()}')\n",
    "\n",
    "print()\n",
    "commission_employee = CommissionEmployee('Sue', 'Jones', '333-33-3333', 10000, 0.06)\n",
    "print(commission_employee)\n",
    "print(f'earned: ${commission_employee.earnings()}')\n",
    "\n",
    "\n",
    "print()\n",
    "base_plus_commission_employee = BasePlusCommissionEmployee('Bob', 'Lewis', '444-44-4444', 5000, 0.04, 300)\n",
    "print(base_plus_commission_employee)\n",
    "print(f'earned: ${base_plus_commission_employee.earnings()}')\n"
   ]
  },
  {
   "cell_type": "code",
   "execution_count": 16,
   "id": "2cd135fb",
   "metadata": {},
   "outputs": [
    {
     "name": "stdout",
     "output_type": "stream",
     "text": [
      "\n",
      "salaried employee: John Smith\n",
      "social security: 111-11-1111\n",
      "weekly salary: $800\n",
      "earned: $800\n",
      "\n",
      "hourly employee: Karen Price\n",
      "social security: 222-22-2222\n",
      "hourly wage: $16.75; hours worked: 40\n",
      "earned: $670.0\n",
      "\n",
      "commission employee: Sue Jones\n",
      "social security: 333-33-3333\n",
      "gross sales: $10000; commission rate: 0.06\n",
      "earned: $600.0\n",
      "\n",
      "base-salaried commission employee: Bob Lewis\n",
      "social security: 444-44-4444\n",
      "gross sales: $5000; commission rate: 0.04; base-salary: $300\n",
      "new base salary with 10% increase is 330.0\n",
      "earned: $530.0\n"
     ]
    }
   ],
   "source": [
    "employees = [salaried_employee, hourly_employee, commission_employee, base_plus_commission_employee]\n",
    "\n",
    "for employee in employees:\n",
    "    print()\n",
    "    print(employee)\n",
    "    if employee.__class__.__name__ == 'BasePlusCommissionEmployee':\n",
    "        employee.salary = 1.10 * employee.salary\n",
    "        print(f'new base salary with 10% increase is {employee.salary}')\n",
    "    print(f'earned: ${employee.earnings()}')\n"
   ]
  },
  {
   "cell_type": "code",
   "execution_count": 17,
   "id": "371eb3d2",
   "metadata": {},
   "outputs": [
    {
     "name": "stdout",
     "output_type": "stream",
     "text": [
      "Circle with radius 10\n",
      "Circle with radius 5\n",
      "78.53981633974483\n"
     ]
    }
   ],
   "source": [
    "import math\n",
    "class Circle:\n",
    "\n",
    "    def __init__(self, radius):\n",
    "        self.radius = radius\n",
    "\n",
    "    def get_area(self):\n",
    "        return math.pi * self.radius**2\n",
    "\n",
    "\n",
    "    def __repr__(self):\n",
    "        return \"Circle with radius \" + str(self.radius)\n",
    "    \n",
    "    def __str__(self):\n",
    "        return \"Circle with radius \" + str(self.radius)\n",
    "\n",
    "c1 = Circle(10)\n",
    "c2 = Circle(5)\n",
    "\n",
    "print(c1)\n",
    "print(c2)\n",
    "print(c2.get_area())"
   ]
  },
  {
   "cell_type": "code",
   "execution_count": 18,
   "id": "7ee9d19d",
   "metadata": {},
   "outputs": [
    {
     "data": {
      "text/plain": [
       "False"
      ]
     },
     "execution_count": 18,
     "metadata": {},
     "output_type": "execute_result"
    }
   ],
   "source": [
    "c1 == c2"
   ]
  },
  {
   "cell_type": "code",
   "execution_count": 19,
   "id": "9cc12e71",
   "metadata": {},
   "outputs": [
    {
     "data": {
      "text/plain": [
       "False"
      ]
     },
     "execution_count": 19,
     "metadata": {},
     "output_type": "execute_result"
    }
   ],
   "source": [
    "c1 = Circle(5)\n",
    "c2 = Circle(5)\n",
    "c1 == c2"
   ]
  },
  {
   "cell_type": "code",
   "execution_count": 22,
   "id": "c416e6c6",
   "metadata": {},
   "outputs": [],
   "source": [
    "import math\n",
    "class Circle:\n",
    "\n",
    "    def __init__(self, radius):\n",
    "        self.radius = radius\n",
    "\n",
    "    def get_area(self):\n",
    "        return math.pi * self.radius**2\n",
    "\n",
    "\n",
    "    def __repr__(self):\n",
    "        return \"Circle with radius \" + str(self.radius)\n",
    "    \n",
    "    def __eq__(self, other): # left == right; other == right\n",
    "        return self.radius == other.radius"
   ]
  },
  {
   "cell_type": "code",
   "execution_count": 23,
   "id": "7ff8233a",
   "metadata": {},
   "outputs": [
    {
     "data": {
      "text/plain": [
       "True"
      ]
     },
     "execution_count": 23,
     "metadata": {},
     "output_type": "execute_result"
    }
   ],
   "source": [
    "c1 = Circle(5)\n",
    "c2 = Circle(5)\n",
    "c1 == c2 # c1.__eq__(c2)"
   ]
  },
  {
   "cell_type": "code",
   "execution_count": 24,
   "id": "4c094c93",
   "metadata": {},
   "outputs": [
    {
     "data": {
      "text/plain": [
       "False"
      ]
     },
     "execution_count": 24,
     "metadata": {},
     "output_type": "execute_result"
    }
   ],
   "source": [
    "c1 = Circle(5)\n",
    "c2 = Circle(15)\n",
    "c1 == c2"
   ]
  },
  {
   "cell_type": "code",
   "execution_count": 25,
   "id": "108c10ce",
   "metadata": {},
   "outputs": [
    {
     "data": {
      "text/plain": [
       "2"
      ]
     },
     "execution_count": 25,
     "metadata": {},
     "output_type": "execute_result"
    }
   ],
   "source": [
    "1 + 1"
   ]
  },
  {
   "cell_type": "code",
   "execution_count": 26,
   "id": "b74224cd",
   "metadata": {},
   "outputs": [
    {
     "data": {
      "text/plain": [
       "'strstr'"
      ]
     },
     "execution_count": 26,
     "metadata": {},
     "output_type": "execute_result"
    }
   ],
   "source": [
    "'str' + 'str'"
   ]
  },
  {
   "cell_type": "code",
   "execution_count": 27,
   "id": "c48dbef3",
   "metadata": {},
   "outputs": [
    {
     "ename": "TypeError",
     "evalue": "unsupported operand type(s) for +: 'Circle' and 'Circle'",
     "output_type": "error",
     "traceback": [
      "\u001b[1;31m---------------------------------------------------------------------------\u001b[0m",
      "\u001b[1;31mTypeError\u001b[0m                                 Traceback (most recent call last)",
      "\u001b[1;32m~\\AppData\\Local\\Temp\\ipykernel_13580\\3659229129.py\u001b[0m in \u001b[0;36m<module>\u001b[1;34m\u001b[0m\n\u001b[1;32m----> 1\u001b[1;33m \u001b[0mc1\u001b[0m \u001b[1;33m+\u001b[0m \u001b[0mc2\u001b[0m\u001b[1;33m\u001b[0m\u001b[1;33m\u001b[0m\u001b[0m\n\u001b[0m",
      "\u001b[1;31mTypeError\u001b[0m: unsupported operand type(s) for +: 'Circle' and 'Circle'"
     ]
    }
   ],
   "source": [
    "c1 + c2"
   ]
  },
  {
   "cell_type": "code",
   "execution_count": 28,
   "id": "e293afd7",
   "metadata": {},
   "outputs": [
    {
     "data": {
      "text/plain": [
       "False"
      ]
     },
     "execution_count": 28,
     "metadata": {},
     "output_type": "execute_result"
    }
   ],
   "source": [
    "c1 == c2"
   ]
  },
  {
   "cell_type": "code",
   "execution_count": 29,
   "id": "f4f4a0d4",
   "metadata": {},
   "outputs": [
    {
     "ename": "TypeError",
     "evalue": "unsupported operand type(s) for +: 'Circle' and 'Circle'",
     "output_type": "error",
     "traceback": [
      "\u001b[1;31m---------------------------------------------------------------------------\u001b[0m",
      "\u001b[1;31mTypeError\u001b[0m                                 Traceback (most recent call last)",
      "\u001b[1;32m~\\AppData\\Local\\Temp\\ipykernel_13580\\3659229129.py\u001b[0m in \u001b[0;36m<module>\u001b[1;34m\u001b[0m\n\u001b[1;32m----> 1\u001b[1;33m \u001b[0mc1\u001b[0m \u001b[1;33m+\u001b[0m \u001b[0mc2\u001b[0m\u001b[1;33m\u001b[0m\u001b[1;33m\u001b[0m\u001b[0m\n\u001b[0m",
      "\u001b[1;31mTypeError\u001b[0m: unsupported operand type(s) for +: 'Circle' and 'Circle'"
     ]
    }
   ],
   "source": [
    "c1 + c2"
   ]
  },
  {
   "cell_type": "code",
   "execution_count": 30,
   "id": "989fc116",
   "metadata": {},
   "outputs": [
    {
     "name": "stdout",
     "output_type": "stream",
     "text": [
      "Circle with radius 15\n"
     ]
    }
   ],
   "source": [
    "class Circle:\n",
    "\n",
    "    def __init__(self, radius):\n",
    "        self.radius = radius\n",
    "\n",
    "    def get_area(self):\n",
    "        return math.pi * self.radius**2\n",
    "\n",
    "    def __str__(self):\n",
    "        return \"Circle with radius \" + str(self.radius)\n",
    "\n",
    "    def __add__(self, another_circle):\n",
    "        return Circle(self.radius + another_circle.radius)\n",
    "\n",
    "\n",
    "c1 = Circle(10)\n",
    "c2 = Circle(5)\n",
    "c3 = c1 + c2 ### ==> c1.__add__(c2) ==> Circle.__add__(c1, c2)\n",
    "print(c3)"
   ]
  },
  {
   "cell_type": "code",
   "execution_count": null,
   "id": "0ebf7c5c",
   "metadata": {},
   "outputs": [],
   "source": [
    "+ __add__\n",
    "- __sub__\n"
   ]
  },
  {
   "cell_type": "code",
   "execution_count": 33,
   "id": "8ce1e49f",
   "metadata": {},
   "outputs": [
    {
     "name": "stdout",
     "output_type": "stream",
     "text": [
      "False\n"
     ]
    }
   ],
   "source": [
    "class Circle:\n",
    "\n",
    "    def __init__(self, radius):\n",
    "        self.radius = radius\n",
    "\n",
    "    def get_area(self):\n",
    "        return math.pi * self.radius**2\n",
    "\n",
    "    def __str__(self):\n",
    "        return \"Circle with radius \" + str(self.radius)\n",
    "\n",
    "    def __add__(self, another_circle):\n",
    "        return Circle(self.radius + another_circle.radius)\n",
    "\n",
    "    def __gt__(self, another_circle): #gt, ge, lt, le # Circle.__gt__(c1, c2)\n",
    "        return self.radius > another_circle.radius\n",
    "\n",
    "    def __lt__(self, another_circle):\n",
    "        return self.radius < another_circle.radius\n",
    "\n",
    "\n",
    "\n",
    "c1 = Circle(10)\n",
    "c2 = Circle(5)\n",
    "print(c1 < c2)"
   ]
  },
  {
   "cell_type": "code",
   "execution_count": 35,
   "id": "d566e06b",
   "metadata": {},
   "outputs": [
    {
     "data": {
      "text/plain": [
       "True"
      ]
     },
     "execution_count": 35,
     "metadata": {},
     "output_type": "execute_result"
    }
   ],
   "source": [
    "c2 < c1"
   ]
  },
  {
   "cell_type": "code",
   "execution_count": 36,
   "id": "0883a15b",
   "metadata": {},
   "outputs": [
    {
     "name": "stdout",
     "output_type": "stream",
     "text": [
      "1\n",
      "2\n",
      "3\n"
     ]
    }
   ],
   "source": [
    "x = [1, 2, 3]\n",
    "for ele in x:\n",
    "    print(ele)"
   ]
  },
  {
   "cell_type": "code",
   "execution_count": 37,
   "id": "8cddbc74",
   "metadata": {},
   "outputs": [
    {
     "ename": "TypeError",
     "evalue": "'Circle' object is not iterable",
     "output_type": "error",
     "traceback": [
      "\u001b[1;31m---------------------------------------------------------------------------\u001b[0m",
      "\u001b[1;31mTypeError\u001b[0m                                 Traceback (most recent call last)",
      "\u001b[1;32m~\\AppData\\Local\\Temp\\ipykernel_13580\\1663909579.py\u001b[0m in \u001b[0;36m<module>\u001b[1;34m\u001b[0m\n\u001b[1;32m----> 1\u001b[1;33m \u001b[1;32mfor\u001b[0m \u001b[0mele\u001b[0m \u001b[1;32min\u001b[0m \u001b[0mc1\u001b[0m\u001b[1;33m:\u001b[0m\u001b[1;33m\u001b[0m\u001b[1;33m\u001b[0m\u001b[0m\n\u001b[0m\u001b[0;32m      2\u001b[0m     \u001b[0mprint\u001b[0m\u001b[1;33m(\u001b[0m\u001b[0mele\u001b[0m\u001b[1;33m)\u001b[0m\u001b[1;33m\u001b[0m\u001b[1;33m\u001b[0m\u001b[0m\n",
      "\u001b[1;31mTypeError\u001b[0m: 'Circle' object is not iterable"
     ]
    }
   ],
   "source": [
    "for ele in c1:\n",
    "    print(ele)"
   ]
  },
  {
   "cell_type": "code",
   "execution_count": 58,
   "id": "d7475ecb",
   "metadata": {},
   "outputs": [],
   "source": [
    "class MyRange:\n",
    "\n",
    "    def __init__(self, limit):\n",
    "        self.limit = limit\n",
    "        self.value = 0\n",
    "\n",
    "    def __iter__(self):\n",
    "        self.value = 0 # they don't reset this value\n",
    "        return self\n",
    "\n",
    "    def __next__(self):\n",
    "        if self.value < self.limit:\n",
    "            output = self.value\n",
    "            self.value += 1\n",
    "            return output\n",
    "        else:\n",
    "            raise StopIteration\n"
   ]
  },
  {
   "cell_type": "code",
   "execution_count": 59,
   "id": "b7b6f616",
   "metadata": {},
   "outputs": [
    {
     "name": "stdout",
     "output_type": "stream",
     "text": [
      "0\n",
      "1\n",
      "2\n",
      "3\n",
      "4\n"
     ]
    }
   ],
   "source": [
    "x = MyRange(5)\n",
    "for ele in x:\n",
    "    print(ele)"
   ]
  },
  {
   "cell_type": "code",
   "execution_count": 60,
   "id": "d5beeb95",
   "metadata": {},
   "outputs": [],
   "source": [
    "for ele in x:\n",
    "    print(ele)"
   ]
  },
  {
   "cell_type": "code",
   "execution_count": 61,
   "id": "d4f6d2ba",
   "metadata": {},
   "outputs": [],
   "source": [
    "for ele in x:\n",
    "    print(ele)"
   ]
  },
  {
   "cell_type": "code",
   "execution_count": 43,
   "id": "66829178",
   "metadata": {},
   "outputs": [
    {
     "name": "stdout",
     "output_type": "stream",
     "text": [
      "in __iter__\n"
     ]
    }
   ],
   "source": [
    "i = iter(MyRange(10))"
   ]
  },
  {
   "cell_type": "code",
   "execution_count": 44,
   "id": "938b001c",
   "metadata": {},
   "outputs": [
    {
     "name": "stdout",
     "output_type": "stream",
     "text": [
      "in __next__\n"
     ]
    },
    {
     "data": {
      "text/plain": [
       "0"
      ]
     },
     "execution_count": 44,
     "metadata": {},
     "output_type": "execute_result"
    }
   ],
   "source": [
    "next(i)"
   ]
  },
  {
   "cell_type": "code",
   "execution_count": 45,
   "id": "e22e0cb7",
   "metadata": {},
   "outputs": [
    {
     "name": "stdout",
     "output_type": "stream",
     "text": [
      "in __next__\n"
     ]
    },
    {
     "data": {
      "text/plain": [
       "1"
      ]
     },
     "execution_count": 45,
     "metadata": {},
     "output_type": "execute_result"
    }
   ],
   "source": [
    "next(i)"
   ]
  },
  {
   "cell_type": "code",
   "execution_count": 46,
   "id": "b5c01145",
   "metadata": {},
   "outputs": [
    {
     "name": "stdout",
     "output_type": "stream",
     "text": [
      "in __next__\n"
     ]
    },
    {
     "data": {
      "text/plain": [
       "2"
      ]
     },
     "execution_count": 46,
     "metadata": {},
     "output_type": "execute_result"
    }
   ],
   "source": [
    "next(i)"
   ]
  },
  {
   "cell_type": "code",
   "execution_count": 47,
   "id": "d16f6863",
   "metadata": {},
   "outputs": [
    {
     "name": "stdout",
     "output_type": "stream",
     "text": [
      "in __next__\n"
     ]
    },
    {
     "data": {
      "text/plain": [
       "3"
      ]
     },
     "execution_count": 47,
     "metadata": {},
     "output_type": "execute_result"
    }
   ],
   "source": [
    "next(i)"
   ]
  },
  {
   "cell_type": "code",
   "execution_count": 48,
   "id": "584301b1",
   "metadata": {},
   "outputs": [
    {
     "name": "stdout",
     "output_type": "stream",
     "text": [
      "in __next__\n"
     ]
    },
    {
     "data": {
      "text/plain": [
       "4"
      ]
     },
     "execution_count": 48,
     "metadata": {},
     "output_type": "execute_result"
    }
   ],
   "source": [
    "next(i)"
   ]
  },
  {
   "cell_type": "code",
   "execution_count": 49,
   "id": "061b4fd9",
   "metadata": {},
   "outputs": [
    {
     "name": "stdout",
     "output_type": "stream",
     "text": [
      "in __next__\n"
     ]
    },
    {
     "data": {
      "text/plain": [
       "5"
      ]
     },
     "execution_count": 49,
     "metadata": {},
     "output_type": "execute_result"
    }
   ],
   "source": [
    "next(i)"
   ]
  },
  {
   "cell_type": "code",
   "execution_count": 50,
   "id": "4999e621",
   "metadata": {},
   "outputs": [
    {
     "name": "stdout",
     "output_type": "stream",
     "text": [
      "in __next__\n"
     ]
    },
    {
     "data": {
      "text/plain": [
       "6"
      ]
     },
     "execution_count": 50,
     "metadata": {},
     "output_type": "execute_result"
    }
   ],
   "source": [
    "next(i)"
   ]
  },
  {
   "cell_type": "code",
   "execution_count": 51,
   "id": "21102864",
   "metadata": {},
   "outputs": [
    {
     "name": "stdout",
     "output_type": "stream",
     "text": [
      "in __next__\n"
     ]
    },
    {
     "data": {
      "text/plain": [
       "7"
      ]
     },
     "execution_count": 51,
     "metadata": {},
     "output_type": "execute_result"
    }
   ],
   "source": [
    "next(i)"
   ]
  },
  {
   "cell_type": "code",
   "execution_count": 52,
   "id": "d8f57c41",
   "metadata": {},
   "outputs": [
    {
     "name": "stdout",
     "output_type": "stream",
     "text": [
      "in __next__\n"
     ]
    },
    {
     "data": {
      "text/plain": [
       "8"
      ]
     },
     "execution_count": 52,
     "metadata": {},
     "output_type": "execute_result"
    }
   ],
   "source": [
    "next(i)"
   ]
  },
  {
   "cell_type": "code",
   "execution_count": 53,
   "id": "78c5eae2",
   "metadata": {},
   "outputs": [
    {
     "name": "stdout",
     "output_type": "stream",
     "text": [
      "in __next__\n"
     ]
    },
    {
     "data": {
      "text/plain": [
       "9"
      ]
     },
     "execution_count": 53,
     "metadata": {},
     "output_type": "execute_result"
    }
   ],
   "source": [
    "next(i)"
   ]
  },
  {
   "cell_type": "code",
   "execution_count": 54,
   "id": "48eede28",
   "metadata": {},
   "outputs": [
    {
     "name": "stdout",
     "output_type": "stream",
     "text": [
      "in __next__\n"
     ]
    },
    {
     "ename": "StopIteration",
     "evalue": "",
     "output_type": "error",
     "traceback": [
      "\u001b[1;31m---------------------------------------------------------------------------\u001b[0m",
      "\u001b[1;31mStopIteration\u001b[0m                             Traceback (most recent call last)",
      "\u001b[1;32m~\\AppData\\Local\\Temp\\ipykernel_13580\\1939748483.py\u001b[0m in \u001b[0;36m<module>\u001b[1;34m\u001b[0m\n\u001b[1;32m----> 1\u001b[1;33m \u001b[0mnext\u001b[0m\u001b[1;33m(\u001b[0m\u001b[0mi\u001b[0m\u001b[1;33m)\u001b[0m\u001b[1;33m\u001b[0m\u001b[1;33m\u001b[0m\u001b[0m\n\u001b[0m",
      "\u001b[1;32m~\\AppData\\Local\\Temp\\ipykernel_13580\\3619641802.py\u001b[0m in \u001b[0;36m__next__\u001b[1;34m(self)\u001b[0m\n\u001b[0;32m     16\u001b[0m             \u001b[1;32mreturn\u001b[0m \u001b[0moutput\u001b[0m\u001b[1;33m\u001b[0m\u001b[1;33m\u001b[0m\u001b[0m\n\u001b[0;32m     17\u001b[0m         \u001b[1;32melse\u001b[0m\u001b[1;33m:\u001b[0m\u001b[1;33m\u001b[0m\u001b[1;33m\u001b[0m\u001b[0m\n\u001b[1;32m---> 18\u001b[1;33m             \u001b[1;32mraise\u001b[0m \u001b[0mStopIteration\u001b[0m\u001b[1;33m\u001b[0m\u001b[1;33m\u001b[0m\u001b[0m\n\u001b[0m",
      "\u001b[1;31mStopIteration\u001b[0m: "
     ]
    }
   ],
   "source": [
    "next(i)"
   ]
  },
  {
   "cell_type": "code",
   "execution_count": 56,
   "id": "89e82757",
   "metadata": {},
   "outputs": [
    {
     "name": "stdout",
     "output_type": "stream",
     "text": [
      "in __iter__\n",
      "in __next__\n",
      "0\n",
      "in __next__\n",
      "1\n",
      "in __next__\n",
      "2\n",
      "in __next__\n",
      "3\n",
      "in __next__\n",
      "4\n",
      "in __next__\n",
      "5\n",
      "in __next__\n",
      "6\n",
      "in __next__\n",
      "7\n",
      "in __next__\n",
      "8\n",
      "in __next__\n",
      "9\n",
      "in __next__\n"
     ]
    }
   ],
   "source": [
    "for ele in MyRange(10):\n",
    "    print(ele)"
   ]
  },
  {
   "cell_type": "code",
   "execution_count": 62,
   "id": "9a1e8680",
   "metadata": {},
   "outputs": [
    {
     "data": {
      "text/plain": [
       "[1, 2, 3, 1, 2, 3]"
      ]
     },
     "execution_count": 62,
     "metadata": {},
     "output_type": "execute_result"
    }
   ],
   "source": [
    "[1, 2, 3] + [1, 2, 3]"
   ]
  },
  {
   "cell_type": "code",
   "execution_count": null,
   "id": "3821472a",
   "metadata": {},
   "outputs": [],
   "source": [
    "[2, 4, 6]"
   ]
  },
  {
   "cell_type": "code",
   "execution_count": 64,
   "id": "a516d660",
   "metadata": {},
   "outputs": [
    {
     "name": "stdout",
     "output_type": "stream",
     "text": [
      "0\n",
      "1\n",
      "8\n",
      "27\n",
      "64\n",
      "125\n",
      "216\n",
      "343\n",
      "512\n",
      "729\n"
     ]
    }
   ],
   "source": [
    "class PowX:\n",
    "    def __init__(self, limit, power):\n",
    "        self.limit = limit\n",
    "        self.power = power\n",
    "\n",
    "    def __iter__(self):\n",
    "        self.value = 0\n",
    "        return self\n",
    "\n",
    "    def __next__(self):\n",
    "        if self.value < self.limit:\n",
    "            output = self.value**self.power\n",
    "            self.value += 1\n",
    "            return output\n",
    "        else:\n",
    "            raise StopIteration\n",
    "\n",
    "\n",
    "for ele in PowX(10, 3):\n",
    "    print(ele)"
   ]
  },
  {
   "cell_type": "code",
   "execution_count": 65,
   "id": "0de11fe8",
   "metadata": {},
   "outputs": [
    {
     "name": "stdout",
     "output_type": "stream",
     "text": [
      "0\n",
      "1\n",
      "8\n",
      "27\n",
      "64\n",
      "125\n",
      "216\n",
      "343\n",
      "512\n",
      "729\n"
     ]
    }
   ],
   "source": [
    "def PowX(limit, power):\n",
    "    value = 0\n",
    "    while value < limit:\n",
    "        yield value**power\n",
    "        value += 1\n",
    "\n",
    "x = PowX(10, 3)\n",
    "for ele in x:\n",
    "    print(ele)"
   ]
  },
  {
   "cell_type": "code",
   "execution_count": 66,
   "id": "fb673c5b",
   "metadata": {},
   "outputs": [],
   "source": [
    "for ele in x:\n",
    "    print(ele)"
   ]
  },
  {
   "cell_type": "code",
   "execution_count": 68,
   "id": "a91a83fa",
   "metadata": {},
   "outputs": [],
   "source": [
    "c1 = Circle(5)\n",
    "c2 = Circle(6)"
   ]
  },
  {
   "cell_type": "code",
   "execution_count": 69,
   "id": "c8e47459",
   "metadata": {},
   "outputs": [
    {
     "name": "stdout",
     "output_type": "stream",
     "text": [
      "\n",
      "Print class_variable\n",
      "t1.class_variable:  1\n",
      "t2.class_variable:  1\n"
     ]
    }
   ],
   "source": [
    "class TestClass:\n",
    "    class_variable = 1 # Belongs to the class. Shared by all instances\n",
    "\n",
    "\n",
    "\n",
    "t1 = TestClass()\n",
    "t2 = TestClass()\n",
    "print('\\nPrint class_variable')\n",
    "print('t1.class_variable: ', t1.class_variable)\n",
    "print('t2.class_variable: ', t2.class_variable)"
   ]
  },
  {
   "cell_type": "code",
   "execution_count": 70,
   "id": "7e2cceae",
   "metadata": {},
   "outputs": [
    {
     "name": "stdout",
     "output_type": "stream",
     "text": [
      "\n",
      "Change class_variable in class definition and print class_variable\n",
      "t1.class_variable:  2\n",
      "t2.class_variable:  2\n"
     ]
    }
   ],
   "source": [
    "print('\\nChange class_variable in class definition and print class_variable')\n",
    "TestClass.class_variable = 2\n",
    "print('t1.class_variable: ', t1.class_variable)\n",
    "print('t2.class_variable: ', t2.class_variable)"
   ]
  },
  {
   "cell_type": "code",
   "execution_count": 71,
   "id": "2c5ce83e",
   "metadata": {},
   "outputs": [
    {
     "name": "stdout",
     "output_type": "stream",
     "text": [
      "\n",
      "Change class_variable in instance t1 and print class_variable\n",
      "t1.class_variable:  3\n",
      "t2.class_variable:  2\n"
     ]
    }
   ],
   "source": [
    "print('\\nChange class_variable in instance t1 and print class_variable')\n",
    "t1.class_variable = 3\n",
    "print('t1.class_variable: ', t1.class_variable)\n",
    "print('t2.class_variable: ', t2.class_variable)"
   ]
  },
  {
   "cell_type": "code",
   "execution_count": 72,
   "id": "d65c70a3",
   "metadata": {},
   "outputs": [
    {
     "name": "stdout",
     "output_type": "stream",
     "text": [
      "\n",
      "Change class_variable in instance t2 and print class_variable\n",
      "t1.class_variable:  3\n",
      "t2.class_variable:  4\n"
     ]
    }
   ],
   "source": [
    "print('\\nChange class_variable in instance t2 and print class_variable')\n",
    "t2.class_variable = 4\n",
    "print('t1.class_variable: ', t1.class_variable)\n",
    "print('t2.class_variable: ', t2.class_variable)"
   ]
  },
  {
   "cell_type": "code",
   "execution_count": 73,
   "id": "9359cad8",
   "metadata": {},
   "outputs": [
    {
     "name": "stdout",
     "output_type": "stream",
     "text": [
      "\n",
      " ------------------------------------------------------------ \n",
      "\n",
      "\n",
      "Print class_variable\n",
      "t1.class_variable:  1\n",
      "t2.class_variable:  1\n"
     ]
    }
   ],
   "source": [
    "print('\\n', '-'*60, '\\n')\n",
    "\n",
    "class TestClass:\n",
    "    class_variable = 1 # Belongs to the class. Shared by all instances\n",
    "\n",
    "    def __init__(self, instance_variable):\n",
    "        self.instance_variable = instance_variable\n",
    "\n",
    "\n",
    "t1 = TestClass(1)\n",
    "t2 = TestClass(2)\n",
    "\n",
    "\n",
    "print('\\nPrint class_variable')\n",
    "print('t1.class_variable: ', t1.class_variable)\n",
    "print('t2.class_variable: ', t2.class_variable)"
   ]
  },
  {
   "cell_type": "code",
   "execution_count": 75,
   "id": "3f61b685",
   "metadata": {},
   "outputs": [
    {
     "name": "stdout",
     "output_type": "stream",
     "text": [
      "\n",
      "Print instance_variable\n",
      "t1.instance_variable:  1\n",
      "t2.instance_variable:  2\n"
     ]
    }
   ],
   "source": [
    "print('\\nPrint instance_variable')\n",
    "print('t1.instance_variable: ', t1.instance_variable)\n",
    "print('t2.instance_variable: ', t2.instance_variable)"
   ]
  },
  {
   "cell_type": "code",
   "execution_count": 76,
   "id": "d77f0850",
   "metadata": {},
   "outputs": [
    {
     "name": "stdout",
     "output_type": "stream",
     "text": [
      "\n",
      "Change class_variable in class definition and print class_variable\n",
      "t1.class_variable:  2\n",
      "t1.class_variable:  2\n"
     ]
    }
   ],
   "source": [
    "print('\\nChange class_variable in class definition and print class_variable')\n",
    "TestClass.class_variable = 2\n",
    "print('t1.class_variable: ', t1.class_variable)\n",
    "print('t1.class_variable: ', t2.class_variable)\n"
   ]
  },
  {
   "cell_type": "code",
   "execution_count": 77,
   "id": "db43357c",
   "metadata": {},
   "outputs": [
    {
     "name": "stdout",
     "output_type": "stream",
     "text": [
      "\n",
      "Change instance_variable for t1 and print instance_variable\n",
      "t1.instance_variable:  10\n",
      "t2.instance_variable:  2\n",
      "\n",
      "Change instance_variable for t2 and print instance_variable\n",
      "t1.instance_variable:  10\n",
      "t2.instance_variable:  20\n"
     ]
    }
   ],
   "source": [
    "\n",
    "print('\\nChange instance_variable for t1 and print instance_variable')\n",
    "t1.instance_variable = 10\n",
    "print('t1.instance_variable: ', t1.instance_variable)\n",
    "print('t2.instance_variable: ', t2.instance_variable)\n",
    "\n",
    "print('\\nChange instance_variable for t2 and print instance_variable')\n",
    "t2.instance_variable = 20\n",
    "print('t1.instance_variable: ', t1.instance_variable)\n",
    "print('t2.instance_variable: ', t2.instance_variable)"
   ]
  },
  {
   "cell_type": "code",
   "execution_count": 78,
   "id": "dea8109a",
   "metadata": {},
   "outputs": [
    {
     "name": "stdout",
     "output_type": "stream",
     "text": [
      "@staticmethod add:  7\n"
     ]
    }
   ],
   "source": [
    "class TestClass:\n",
    "    class_variable = 1\n",
    "\n",
    "    # @staticmethod are bound to class rather than object. Therefore, to use them, you do not have\n",
    "    # to instantiate an object.\n",
    "    # NOTE: staticmethods do no have access to class properties (variables or methods).\n",
    "    # This means they cannot access class_variable.\n",
    "    # Such methods are used when you do not want subclasses to change/overwrite a specific method.\n",
    "\n",
    "    @staticmethod\n",
    "    def add(number1, number2):\n",
    "        return number1 + number2\n",
    "\n",
    "\n",
    "print('@staticmethod add: ', TestClass.add(3,4))"
   ]
  },
  {
   "cell_type": "code",
   "execution_count": 80,
   "id": "f27082b3",
   "metadata": {},
   "outputs": [
    {
     "name": "stdout",
     "output_type": "stream",
     "text": [
      "@staticmethod add:  7\n"
     ]
    }
   ],
   "source": [
    "class TestClass2:\n",
    "    class_variable = 1\n",
    "\n",
    "    # @staticmethod are bound to class rather than object. Therefore, to use them, you do not have\n",
    "    # to instantiate an object.\n",
    "    # NOTE: staticmethods do no have access to class properties (variables or methods).\n",
    "    # This means they cannot access class_variable.\n",
    "    # Such methods are used when you do not want subclasses to change/overwrite a specific method.\n",
    "\n",
    "    @staticmethod\n",
    "    def add(number1, number2):\n",
    "        return number1 + number2#+ class_variable\n",
    "\n",
    "print('@staticmethod add: ', TestClass2.add(3,4))"
   ]
  },
  {
   "cell_type": "code",
   "execution_count": 81,
   "id": "3497469f",
   "metadata": {},
   "outputs": [
    {
     "name": "stdout",
     "output_type": "stream",
     "text": [
      "@classmethod add:  11\n"
     ]
    }
   ],
   "source": [
    "class TestClass:\n",
    "    class_variable = 1\n",
    "\n",
    "    # @classmethod are bound to class rather than object. Therefore, to use them, you do not have\n",
    "    # to instantiate an object.\n",
    "    # NOTE: Unlike staticmethods, classmethods do have access to class properties (variables or methods).\n",
    "    # This means they can access class_variable.\n",
    "\n",
    "    @classmethod\n",
    "    def add(cls, number1, number2):\n",
    "        return number1 + number2 \n",
    "    \n",
    "print('@classmethod add: ', TestClass.add(5,6))"
   ]
  },
  {
   "cell_type": "code",
   "execution_count": 82,
   "id": "484a45a9",
   "metadata": {},
   "outputs": [
    {
     "name": "stdout",
     "output_type": "stream",
     "text": [
      "@classmethod add -- access to class variable:  12\n"
     ]
    }
   ],
   "source": [
    "class TestClass2:\n",
    "    class_variable = 1\n",
    "\n",
    "    # @classmethod are bound to class rather than object. Therefore, to use them, you do not have\n",
    "    # to instantiate an object.\n",
    "    # NOTE: Unlike staticmethods, classmethods do have access to class properties (variables or methods).\n",
    "    # This means they can access class_variable.\n",
    "\n",
    "    @classmethod\n",
    "    def add(cls, number1, number2):\n",
    "        return number1 + number2 + cls.class_variable\n",
    "\n",
    "print('@classmethod add -- access to class variable: ', TestClass2.add(5,6))"
   ]
  },
  {
   "cell_type": "code",
   "execution_count": 83,
   "id": "38c59102",
   "metadata": {},
   "outputs": [
    {
     "name": "stdout",
     "output_type": "stream",
     "text": [
      "add_static:  27\n",
      "add_class:  28\n"
     ]
    }
   ],
   "source": [
    "class TestClass:\n",
    "    class_variable = 1\n",
    "\n",
    "    @staticmethod\n",
    "    def add_static(number1, number2):\n",
    "        return number1 + number2\n",
    "\n",
    "    @classmethod\n",
    "    def add_class(cls, number1, number2):\n",
    "        return number1 + number2 + cls.class_variable\n",
    "\n",
    "\n",
    "    def add_object(self, number1, number2):\n",
    "        return number1 + number2 + self.class_variable + 29\n",
    "\n",
    "\n",
    "print('add_static: ', TestClass.add_static(13,14))\n",
    "print('add_class: ', TestClass.add_class(13,14))"
   ]
  },
  {
   "cell_type": "code",
   "execution_count": 84,
   "id": "1ab99189",
   "metadata": {},
   "outputs": [
    {
     "name": "stdout",
     "output_type": "stream",
     "text": [
      "Call from class -- add_object:  57\n",
      "Call from object -- add_object:  57\n"
     ]
    }
   ],
   "source": [
    "t1 = TestClass()\n",
    "\n",
    "print('Call from class -- add_object: ', TestClass.add_object(t1, 13, 14))\n",
    "print('Call from object -- add_object: ', t1.add_object(13, 14)) # --> TestClass.add_object(t1, 13, 14))"
   ]
  },
  {
   "cell_type": "code",
   "execution_count": 88,
   "id": "ce1972c7",
   "metadata": {},
   "outputs": [
    {
     "data": {
      "text/plain": [
       "30"
      ]
     },
     "execution_count": 88,
     "metadata": {},
     "output_type": "execute_result"
    }
   ],
   "source": [
    "class TestClass:\n",
    "    class_variable = 1\n",
    "    \n",
    "    def __init__(self, number):\n",
    "        self.number = number\n",
    "\n",
    "    @staticmethod\n",
    "    def add_static(number1, number2):\n",
    "        return number1 + number2\n",
    "\n",
    "    @classmethod\n",
    "    def add_class(cls, number1, number2):\n",
    "        return number1 + number2 + cls.class_variable\n",
    "\n",
    "\n",
    "    def add_object(self, number1, number2):\n",
    "        return number1 + number2 + self.number #+ self.class_variable + 29\n",
    "\n",
    "\n",
    "t2 = TestClass(5)\n",
    "t2.add_object(12, 13)"
   ]
  },
  {
   "cell_type": "code",
   "execution_count": null,
   "id": "f69c1f26",
   "metadata": {},
   "outputs": [],
   "source": [
    "x = [1, 2, 3]\n",
    "x[2] = 4"
   ]
  },
  {
   "cell_type": "code",
   "execution_count": 89,
   "id": "98e93d55",
   "metadata": {},
   "outputs": [
    {
     "data": {
      "text/plain": [
       "90"
      ]
     },
     "execution_count": 89,
     "metadata": {},
     "output_type": "execute_result"
    }
   ],
   "source": [
    "class MyClass:\n",
    "    def __init__(self, **kwargs):\n",
    "        self.data = {}\n",
    "              \n",
    "    def __setitem__(self, key, value): # MyCLass[key] = value\n",
    "        self.data[key] = value\n",
    "        \n",
    "    def __getitem__(self, key): # MyClass[key]\n",
    "        return self.data[key]      \n",
    "\n",
    "my_class = MyClass()\n",
    "\n",
    "\n",
    "my_class['Exam1'] = 90\n",
    "my_class['Exam1']"
   ]
  },
  {
   "cell_type": "code",
   "execution_count": 90,
   "id": "3cf9c64a",
   "metadata": {},
   "outputs": [
    {
     "data": {
      "text/plain": [
       "89"
      ]
     },
     "execution_count": 90,
     "metadata": {},
     "output_type": "execute_result"
    }
   ],
   "source": [
    "my_class['Exam2'] = 89\n",
    "my_class['Exam2']"
   ]
  },
  {
   "cell_type": "code",
   "execution_count": 91,
   "id": "5fd4bdd4",
   "metadata": {},
   "outputs": [
    {
     "data": {
      "text/plain": [
       "{'Exam1': 90, 'Exam2': 89}"
      ]
     },
     "execution_count": 91,
     "metadata": {},
     "output_type": "execute_result"
    }
   ],
   "source": [
    "my_class.data"
   ]
  },
  {
   "cell_type": "code",
   "execution_count": 98,
   "id": "18a69077",
   "metadata": {},
   "outputs": [],
   "source": [
    "filename = 'people.tsv'\n",
    "people = []\n",
    "with open(filename) as f:\n",
    "    for line in f:\n",
    "        line = line.strip()\n",
    "        if not line:\n",
    "            continue\n",
    "        people.append(line.strip().split('\\t'))"
   ]
  },
  {
   "cell_type": "code",
   "execution_count": null,
   "id": "0f70366d",
   "metadata": {},
   "outputs": [],
   "source": [
    "{'last_name': [], 'first_name': []}"
   ]
  },
  {
   "cell_type": "code",
   "execution_count": 94,
   "id": "49488c80",
   "metadata": {},
   "outputs": [],
   "source": [
    "from collections import defaultdict\n",
    "class MyClass:\n",
    "    def __init__(self, **kwargs):\n",
    "        self.data = defaultdict(list)\n",
    "        header = kwargs.get('header') \n",
    "        lines = kwargs.get('lines')\n",
    "        if header:\n",
    "            header = lines.pop(0)\n",
    "        else:\n",
    "            header = list(range(len(lines[0])))\n",
    "        \n",
    "        # Store the data as a dictionary\n",
    "        for line in lines:\n",
    "            row = dict(zip(header, line))\n",
    "            for key,value in row.items():\n",
    "                self.data[key].append(value)\n",
    "              \n",
    "    def __setitem__(self, key, value): # MyCLass[key] = value\n",
    "        self.data[key] = value\n",
    "        \n",
    "    def __getitem__(self, key): # MyClass[key]\n",
    "        if type(key) in (str, int):\n",
    "            return self.data[key]   \n",
    "        elif isinstance(key, list):\n",
    "            output = []\n",
    "            for k in key:\n",
    "                output.append(self.data[k])\n",
    "            output = list(zip(*output))              \n",
    "            return output"
   ]
  },
  {
   "cell_type": "code",
   "execution_count": 122,
   "id": "aa1fcefb",
   "metadata": {},
   "outputs": [
    {
     "name": "stdout",
     "output_type": "stream",
     "text": [
      "Nepal\n",
      "Kazakhstan\n",
      "Mauritius\n",
      "New Zealand\n",
      "Yemen\n",
      "Jordan\n",
      "Palau\n",
      "Argentina\n",
      "Marshall Islands\n",
      "Albania\n",
      "Kyrgyz Republic\n",
      "Turkmenistan\n",
      "Fiji\n",
      "Costa Rica\n",
      "Martinique\n",
      "Singapore\n",
      "Mayotte\n",
      "Costa Rica\n",
      "Guadeloupe\n",
      "Bahamas\n",
      "Azerbaijan\n",
      "Saint Helena\n",
      "Hong Kong\n",
      "Turkey\n",
      "Swaziland\n",
      "Holy See (Vatican City State)\n",
      "Norfolk Island\n",
      "Kenya\n",
      "Togo\n",
      "San Marino\n",
      "Romania\n",
      "Algeria\n",
      "Slovakia (Slovak Republic)\n",
      "Somalia\n",
      "Turkmenistan\n",
      "Croatia\n",
      "Jamaica\n",
      "Montserrat\n",
      "Heard Island and McDonald Islands\n",
      "Niger\n",
      "Saint Vincent and the Grenadines\n",
      "Antigua and Barbuda\n",
      "Mexico\n",
      "Singapore\n",
      "Botswana\n",
      "Guinea\n",
      "Chile\n",
      "Mayotte\n",
      "Macedonia\n",
      "Ukraine\n",
      "Saint Martin\n",
      "Germany\n",
      "Lesotho\n",
      "Nepal\n",
      "Latvia\n",
      "Central African Republic\n",
      "Peru\n",
      "Spain\n",
      "Seychelles\n",
      "Faroe Islands\n",
      "Tokelau\n",
      "Cocos (Keeling) Islands\n",
      "Burundi\n",
      "Timor-Leste\n",
      "Montserrat\n",
      "Norway\n",
      "Sierra Leone\n",
      "French Polynesia\n",
      "French Guiana\n",
      "Cape Verde\n",
      "Barbados\n",
      "Andorra\n",
      "Montserrat\n",
      "Egypt\n",
      "Malaysia\n",
      "Zimbabwe\n",
      "Portugal\n",
      "Paraguay\n",
      "Central African Republic\n",
      "Palau\n",
      "Micronesia\n",
      "Armenia\n",
      "Bahrain\n",
      "Guatemala\n",
      "Saint Vincent and the Grenadines\n",
      "Kazakhstan\n",
      "Germany\n",
      "Western Sahara\n",
      "Togo\n",
      "Guam\n",
      "Kuwait\n",
      "Eritrea\n",
      "Czech Republic\n",
      "Maldives\n",
      "Armenia\n",
      "Benin\n",
      "Fiji\n",
      "Iceland\n",
      "Macedonia\n",
      "Serbia\n"
     ]
    }
   ],
   "source": [
    "mc = MyClass(lines=people[:], header=True)\n",
    "for ele in mc[['country', 'email']]:\n",
    "    print(ele)"
   ]
  },
  {
   "cell_type": "code",
   "execution_count": 106,
   "id": "a0334a29",
   "metadata": {},
   "outputs": [
    {
     "name": "stdout",
     "output_type": "stream",
     "text": [
      "{'lines': 2, 'blah': 3, 'hi': 4}\n"
     ]
    }
   ],
   "source": [
    "class Test:\n",
    "    def __init__(self, **kwargs):\n",
    "        print(kwargs)\n",
    "        \n",
    "t1 = Test(lines=2, blah=3, hi=4)"
   ]
  },
  {
   "cell_type": "code",
   "execution_count": 107,
   "id": "87e8cc37",
   "metadata": {},
   "outputs": [
    {
     "name": "stdout",
     "output_type": "stream",
     "text": [
      "{'lines': 232, 'blah': 234234, 'h23i': 234}\n"
     ]
    },
    {
     "data": {
      "text/plain": [
       "<__main__.Test at 0x274575ddcd0>"
      ]
     },
     "execution_count": 107,
     "metadata": {},
     "output_type": "execute_result"
    }
   ],
   "source": [
    "Test(lines=232, blah=234234, h23i=234)"
   ]
  },
  {
   "cell_type": "code",
   "execution_count": 109,
   "id": "2054adbd",
   "metadata": {},
   "outputs": [],
   "source": [
    "filename = 'people.tsv'\n",
    "people = []\n",
    "with open(filename) as f:\n",
    "    for line in f:\n",
    "        line = line.strip()\n",
    "        if not line:\n",
    "            continue\n",
    "        people.append(line.strip().split('\\t'))"
   ]
  },
  {
   "cell_type": "code",
   "execution_count": 110,
   "id": "790d09b6",
   "metadata": {},
   "outputs": [],
   "source": [
    "lines = people[:]"
   ]
  },
  {
   "cell_type": "code",
   "execution_count": 111,
   "id": "56472b16",
   "metadata": {},
   "outputs": [
    {
     "data": {
      "text/plain": [
       "['last_name', 'first_name', 'email', 'country', 'account']"
      ]
     },
     "execution_count": 111,
     "metadata": {},
     "output_type": "execute_result"
    }
   ],
   "source": [
    "lines[0]"
   ]
  },
  {
   "cell_type": "code",
   "execution_count": 112,
   "id": "f38b7710",
   "metadata": {},
   "outputs": [],
   "source": [
    "header = lines.pop(0)"
   ]
  },
  {
   "cell_type": "code",
   "execution_count": 113,
   "id": "d229e3bd",
   "metadata": {},
   "outputs": [
    {
     "data": {
      "text/plain": [
       "['last_name', 'first_name', 'email', 'country', 'account']"
      ]
     },
     "execution_count": 113,
     "metadata": {},
     "output_type": "execute_result"
    }
   ],
   "source": [
    "header"
   ]
  },
  {
   "cell_type": "code",
   "execution_count": 114,
   "id": "685d6d0f",
   "metadata": {},
   "outputs": [
    {
     "data": {
      "text/plain": [
       "['Weaver', 'Michael', 'xdunn@hotmail.com', 'Nepal', 'QVJP6465242365388']"
      ]
     },
     "execution_count": 114,
     "metadata": {},
     "output_type": "execute_result"
    }
   ],
   "source": [
    "lines[0]"
   ]
  },
  {
   "cell_type": "code",
   "execution_count": 115,
   "id": "14c3ba23",
   "metadata": {},
   "outputs": [],
   "source": [
    "data = defaultdict(list)"
   ]
  },
  {
   "cell_type": "code",
   "execution_count": 118,
   "id": "da076adb",
   "metadata": {},
   "outputs": [],
   "source": [
    "for line in lines:\n",
    "    row = dict(zip(header, line))\n",
    "    for key, value in row.items():\n",
    "        data[key].append(value) # "
   ]
  },
  {
   "cell_type": "code",
   "execution_count": 120,
   "id": "e2d492e3",
   "metadata": {},
   "outputs": [
    {
     "data": {
      "text/plain": [
       "['Weaver',\n",
       " 'Owens',\n",
       " 'Gilmore',\n",
       " 'Perez',\n",
       " 'Thomas',\n",
       " 'Nelson',\n",
       " 'White',\n",
       " 'Francis',\n",
       " 'Shaw',\n",
       " 'Armstrong',\n",
       " 'Boyle',\n",
       " 'Cuevas',\n",
       " 'Reyes',\n",
       " 'Calderon',\n",
       " 'Weiss',\n",
       " 'Conley',\n",
       " 'Nelson',\n",
       " 'Johnson',\n",
       " 'Werner',\n",
       " 'Bennett',\n",
       " 'Fletcher',\n",
       " 'Lewis',\n",
       " 'Smith',\n",
       " 'Sullivan',\n",
       " 'Wilson',\n",
       " 'Schmidt',\n",
       " 'Huff',\n",
       " 'Nguyen',\n",
       " 'Russell',\n",
       " 'Smith',\n",
       " 'Smith',\n",
       " 'Keith',\n",
       " 'Johnson',\n",
       " 'Barron',\n",
       " 'Robinson',\n",
       " 'Nguyen',\n",
       " 'Abbott',\n",
       " 'Oneill',\n",
       " 'Nash',\n",
       " 'Cameron',\n",
       " 'Wilkinson',\n",
       " 'Wallace',\n",
       " 'Woodward',\n",
       " 'Bennett',\n",
       " 'Jenkins',\n",
       " 'Edwards',\n",
       " 'Anderson',\n",
       " 'Ray',\n",
       " 'Edwards',\n",
       " 'Clark',\n",
       " 'Hill',\n",
       " 'Carpenter',\n",
       " 'Griffith',\n",
       " 'Blair',\n",
       " 'Salazar',\n",
       " 'Krueger',\n",
       " 'Burke',\n",
       " 'Juarez',\n",
       " 'Watkins',\n",
       " 'Carter',\n",
       " 'Huang',\n",
       " 'Owen',\n",
       " 'Turner',\n",
       " 'Aguirre',\n",
       " 'Wilson',\n",
       " 'Hardy',\n",
       " 'Stewart',\n",
       " 'Moore',\n",
       " 'Grant',\n",
       " 'Thompson',\n",
       " 'Anderson',\n",
       " 'Ramsey',\n",
       " 'Gonzales',\n",
       " 'Castaneda',\n",
       " 'Todd',\n",
       " 'Garcia',\n",
       " 'Figueroa',\n",
       " 'Castillo',\n",
       " 'Flores',\n",
       " 'Allen',\n",
       " 'Potts',\n",
       " 'Wheeler',\n",
       " 'Thomas',\n",
       " 'Mcknight',\n",
       " 'Thompson',\n",
       " 'Levy',\n",
       " 'Hubbard',\n",
       " 'Jones',\n",
       " 'Garcia',\n",
       " 'Peters',\n",
       " 'Stone',\n",
       " 'Edwards',\n",
       " 'Lawson',\n",
       " 'Cooper',\n",
       " 'Harris',\n",
       " 'Jones',\n",
       " 'Burch',\n",
       " 'Chung',\n",
       " 'Melton',\n",
       " 'Hansen']"
      ]
     },
     "execution_count": 120,
     "metadata": {},
     "output_type": "execute_result"
    }
   ],
   "source": [
    "data['last_name']"
   ]
  },
  {
   "cell_type": "code",
   "execution_count": 121,
   "id": "b13c6222",
   "metadata": {},
   "outputs": [
    {
     "data": {
      "text/plain": [
       "['xdunn@hotmail.com',\n",
       " 'iedwards@yahoo.com',\n",
       " 'arogers@smith.com',\n",
       " 'plewis@chavez.com',\n",
       " 'fred92@yahoo.com',\n",
       " 'mmiller@lynch.com',\n",
       " 'steven49@gmail.com',\n",
       " 'amanda23@hotmail.com',\n",
       " 'jackduke@hotmail.com',\n",
       " 'rhodesnicholas@hotmail.com',\n",
       " 'smithashlee@yahoo.com',\n",
       " 'ubriggs@hill.info',\n",
       " 'brownclarence@gonzalez-moore.com',\n",
       " 'teresa30@carpenter-warner.com',\n",
       " 'leekatherine@williams.com',\n",
       " 'chasewatkins@perez-phillips.com',\n",
       " 'hsherman@gmail.com',\n",
       " 'martinezdaniel@hotmail.com',\n",
       " 'justinfischer@gmail.com',\n",
       " 'cindy08@gmail.com',\n",
       " 'carolharrington@fleming.org',\n",
       " 'lopezcarl@johnson.com',\n",
       " 'michael74@yahoo.com',\n",
       " 'gonzalezrobert@hotmail.com',\n",
       " 'dawnjohnson@gmail.com',\n",
       " 'watersryan@gmail.com',\n",
       " 'byoung@gmail.com',\n",
       " 'vhanson@yahoo.com',\n",
       " 'bfletcher@yahoo.com',\n",
       " 'colleengarrison@hotmail.com',\n",
       " 'catherine23@gmail.com',\n",
       " 'xmurphy@yahoo.com',\n",
       " 'aaronrichard@middleton.net',\n",
       " 'jesse93@best.com',\n",
       " 'johnperez@johnson.com',\n",
       " 'jessica62@yahoo.com',\n",
       " 'jennifer87@gmail.com',\n",
       " 'morenolindsay@bass.org',\n",
       " 'robertdavis@hotmail.com',\n",
       " 'melanie81@rogers.com',\n",
       " 'clineerin@hotmail.com',\n",
       " 'terri95@hotmail.com',\n",
       " 'danielle65@yahoo.com',\n",
       " 'sjackson@yahoo.com',\n",
       " 'douglas63@yahoo.com',\n",
       " 'woodardlindsey@yahoo.com',\n",
       " 'suebrown@yahoo.com',\n",
       " 'swhite@yahoo.com',\n",
       " 'martinkimberly@lopez.com',\n",
       " 'jessica11@hotmail.com',\n",
       " 'hsmith@baker.com',\n",
       " 'fklein@yahoo.com',\n",
       " 'ryan32@skinner.com',\n",
       " 'tmurphy@flores.biz',\n",
       " 'mary64@ray.org',\n",
       " 'jennajoseph@yahoo.com',\n",
       " 'watsonsamuel@gmail.com',\n",
       " 'xvelasquez@hughes.com',\n",
       " 'april99@gmail.com',\n",
       " 'kfletcher@yahoo.com',\n",
       " 'xchurch@hotmail.com',\n",
       " 'megan24@stewart.net',\n",
       " 'sydneycollins@hunter.com',\n",
       " 'robertbowen@chavez-ortega.com',\n",
       " 'christiandanielle@yahoo.com',\n",
       " 'kdavidson@gordon.com',\n",
       " 'bennettwanda@vega-guerra.net',\n",
       " 'mark00@hotmail.com',\n",
       " 'schaefernatalie@hotmail.com',\n",
       " 'moralesmartin@rodgers.com',\n",
       " 'dprince@hotmail.com',\n",
       " 'cparks@valdez-hudson.com',\n",
       " 'martinezrichard@yahoo.com',\n",
       " 'kpena@yahoo.com',\n",
       " 'julie68@gmail.com',\n",
       " 'lukebradford@hotmail.com',\n",
       " 'ystewart@yahoo.com',\n",
       " 'cory33@king-shaw.net',\n",
       " 'zcalhoun@gmail.com',\n",
       " 'michaelhall@hotmail.com',\n",
       " 'kristentaylor@yahoo.com',\n",
       " 'stephen63@yahoo.com',\n",
       " 'bryanmartin@gmail.com',\n",
       " 'kristinavelasquez@gmail.com',\n",
       " 'denise01@burns.org',\n",
       " 'beancody@jones.com',\n",
       " 'ubradley@yahoo.com',\n",
       " 'anthony75@yahoo.com',\n",
       " 'antonio52@gmail.com',\n",
       " 'johnlewis@hotmail.com',\n",
       " 'nmoore@hotmail.com',\n",
       " 'nchurch@yahoo.com',\n",
       " 'piercejenna@gmail.com',\n",
       " 'ddavidson@hotmail.com',\n",
       " 'ndelacruz@yahoo.com',\n",
       " 'jenniferadkins@griffin.biz',\n",
       " 'evansmiguel@yahoo.com',\n",
       " 'kenneththompson@baxter.com',\n",
       " 'bcurtis@hotmail.com',\n",
       " 'phillipssean@hotmail.com']"
      ]
     },
     "execution_count": 121,
     "metadata": {},
     "output_type": "execute_result"
    }
   ],
   "source": [
    "data['email']"
   ]
  },
  {
   "cell_type": "code",
   "execution_count": 134,
   "id": "feb1b658",
   "metadata": {},
   "outputs": [],
   "source": [
    "key = ['email', 'last_name', 'first_name']\n",
    "output = []\n",
    "for k in key:\n",
    "    output.append(data[k])\n",
    "output = list(zip(*output))              \n"
   ]
  },
  {
   "cell_type": "code",
   "execution_count": 135,
   "id": "83188bea",
   "metadata": {},
   "outputs": [
    {
     "data": {
      "text/plain": [
       "[('xdunn@hotmail.com', 'Weaver', 'Michael'),\n",
       " ('iedwards@yahoo.com', 'Owens', 'Jackson'),\n",
       " ('arogers@smith.com', 'Gilmore', 'Patrick'),\n",
       " ('plewis@chavez.com', 'Perez', 'Jeffrey'),\n",
       " ('fred92@yahoo.com', 'Thomas', 'James'),\n",
       " ('mmiller@lynch.com', 'Nelson', 'Greg'),\n",
       " ('steven49@gmail.com', 'White', 'Joshua'),\n",
       " ('amanda23@hotmail.com', 'Francis', 'Todd'),\n",
       " ('jackduke@hotmail.com', 'Shaw', 'Stephen'),\n",
       " ('rhodesnicholas@hotmail.com', 'Armstrong', 'Mariah'),\n",
       " ('smithashlee@yahoo.com', 'Boyle', 'Anthony'),\n",
       " ('ubriggs@hill.info', 'Cuevas', 'Patrick'),\n",
       " ('brownclarence@gonzalez-moore.com', 'Reyes', 'Gerald'),\n",
       " ('teresa30@carpenter-warner.com', 'Calderon', 'Christopher'),\n",
       " ('leekatherine@williams.com', 'Weiss', 'Shane'),\n",
       " ('chasewatkins@perez-phillips.com', 'Conley', 'Crystal'),\n",
       " ('hsherman@gmail.com', 'Nelson', 'Jeffrey'),\n",
       " ('martinezdaniel@hotmail.com', 'Johnson', 'Brianna'),\n",
       " ('justinfischer@gmail.com', 'Werner', 'Brandon'),\n",
       " ('cindy08@gmail.com', 'Bennett', 'Brianna'),\n",
       " ('carolharrington@fleming.org', 'Fletcher', 'Austin'),\n",
       " ('lopezcarl@johnson.com', 'Lewis', 'Patrick'),\n",
       " ('michael74@yahoo.com', 'Smith', 'Joseph'),\n",
       " ('gonzalezrobert@hotmail.com', 'Sullivan', 'Sharon'),\n",
       " ('dawnjohnson@gmail.com', 'Wilson', 'Krystal'),\n",
       " ('watersryan@gmail.com', 'Schmidt', 'Diana'),\n",
       " ('byoung@gmail.com', 'Huff', 'Sean'),\n",
       " ('vhanson@yahoo.com', 'Nguyen', 'Robin'),\n",
       " ('bfletcher@yahoo.com', 'Russell', 'Robyn'),\n",
       " ('colleengarrison@hotmail.com', 'Smith', 'Tiffany'),\n",
       " ('catherine23@gmail.com', 'Smith', 'Lori'),\n",
       " ('xmurphy@yahoo.com', 'Keith', 'Sabrina'),\n",
       " ('aaronrichard@middleton.net', 'Johnson', 'Miguel'),\n",
       " ('jesse93@best.com', 'Barron', 'Dustin'),\n",
       " ('johnperez@johnson.com', 'Robinson', 'Michael'),\n",
       " ('jessica62@yahoo.com', 'Nguyen', 'Robert'),\n",
       " ('jennifer87@gmail.com', 'Abbott', 'Brandon'),\n",
       " ('morenolindsay@bass.org', 'Oneill', 'Bruce'),\n",
       " ('robertdavis@hotmail.com', 'Nash', 'Linda'),\n",
       " ('melanie81@rogers.com', 'Cameron', 'Kathleen'),\n",
       " ('clineerin@hotmail.com', 'Wilkinson', 'Wesley'),\n",
       " ('terri95@hotmail.com', 'Wallace', 'Debbie'),\n",
       " ('danielle65@yahoo.com', 'Woodward', 'Kayla'),\n",
       " ('sjackson@yahoo.com', 'Bennett', 'Stephanie'),\n",
       " ('douglas63@yahoo.com', 'Jenkins', 'Caleb'),\n",
       " ('woodardlindsey@yahoo.com', 'Edwards', 'Valerie'),\n",
       " ('suebrown@yahoo.com', 'Anderson', 'Mary'),\n",
       " ('swhite@yahoo.com', 'Ray', 'Angela'),\n",
       " ('martinkimberly@lopez.com', 'Edwards', 'Haley'),\n",
       " ('jessica11@hotmail.com', 'Clark', 'Charles'),\n",
       " ('hsmith@baker.com', 'Hill', 'Lisa'),\n",
       " ('fklein@yahoo.com', 'Carpenter', 'Jonathan'),\n",
       " ('ryan32@skinner.com', 'Griffith', 'Latoya'),\n",
       " ('tmurphy@flores.biz', 'Blair', 'Kim'),\n",
       " ('mary64@ray.org', 'Salazar', 'Mary'),\n",
       " ('jennajoseph@yahoo.com', 'Krueger', 'Kenneth'),\n",
       " ('watsonsamuel@gmail.com', 'Burke', 'Phillip'),\n",
       " ('xvelasquez@hughes.com', 'Juarez', 'Erica'),\n",
       " ('april99@gmail.com', 'Watkins', 'Jason'),\n",
       " ('kfletcher@yahoo.com', 'Carter', 'Lee'),\n",
       " ('xchurch@hotmail.com', 'Huang', 'Randy'),\n",
       " ('megan24@stewart.net', 'Owen', 'Kristina'),\n",
       " ('sydneycollins@hunter.com', 'Turner', 'Beth'),\n",
       " ('robertbowen@chavez-ortega.com', 'Aguirre', 'Michael'),\n",
       " ('christiandanielle@yahoo.com', 'Wilson', 'Elizabeth'),\n",
       " ('kdavidson@gordon.com', 'Hardy', 'Teresa'),\n",
       " ('bennettwanda@vega-guerra.net', 'Stewart', 'David'),\n",
       " ('mark00@hotmail.com', 'Moore', 'Heather'),\n",
       " ('schaefernatalie@hotmail.com', 'Grant', 'Melissa'),\n",
       " ('moralesmartin@rodgers.com', 'Thompson', 'Jennifer'),\n",
       " ('dprince@hotmail.com', 'Anderson', 'Raymond'),\n",
       " ('cparks@valdez-hudson.com', 'Ramsey', 'Angela'),\n",
       " ('martinezrichard@yahoo.com', 'Gonzales', 'Betty'),\n",
       " ('kpena@yahoo.com', 'Castaneda', 'Thomas'),\n",
       " ('julie68@gmail.com', 'Todd', 'Jonathan'),\n",
       " ('lukebradford@hotmail.com', 'Garcia', 'Stacey'),\n",
       " ('ystewart@yahoo.com', 'Figueroa', 'Judy'),\n",
       " ('cory33@king-shaw.net', 'Castillo', 'Ashley'),\n",
       " ('zcalhoun@gmail.com', 'Flores', 'Zachary'),\n",
       " ('michaelhall@hotmail.com', 'Allen', 'Erica'),\n",
       " ('kristentaylor@yahoo.com', 'Potts', 'Savannah'),\n",
       " ('stephen63@yahoo.com', 'Wheeler', 'Zachary'),\n",
       " ('bryanmartin@gmail.com', 'Thomas', 'Timothy'),\n",
       " ('kristinavelasquez@gmail.com', 'Mcknight', 'Ann'),\n",
       " ('denise01@burns.org', 'Thompson', 'Ruth'),\n",
       " ('beancody@jones.com', 'Levy', 'Daniel'),\n",
       " ('ubradley@yahoo.com', 'Hubbard', 'Paul'),\n",
       " ('anthony75@yahoo.com', 'Jones', 'Jason'),\n",
       " ('antonio52@gmail.com', 'Garcia', 'Margaret'),\n",
       " ('johnlewis@hotmail.com', 'Peters', 'Jeremy'),\n",
       " ('nmoore@hotmail.com', 'Stone', 'Mark'),\n",
       " ('nchurch@yahoo.com', 'Edwards', 'Darius'),\n",
       " ('piercejenna@gmail.com', 'Lawson', 'Tracy'),\n",
       " ('ddavidson@hotmail.com', 'Cooper', 'Christina'),\n",
       " ('ndelacruz@yahoo.com', 'Harris', 'Megan'),\n",
       " ('jenniferadkins@griffin.biz', 'Jones', 'Timothy'),\n",
       " ('evansmiguel@yahoo.com', 'Burch', 'Tracie'),\n",
       " ('kenneththompson@baxter.com', 'Chung', 'Jason'),\n",
       " ('bcurtis@hotmail.com', 'Melton', 'Samantha'),\n",
       " ('phillipssean@hotmail.com', 'Hansen', 'Michael')]"
      ]
     },
     "execution_count": 135,
     "metadata": {},
     "output_type": "execute_result"
    }
   ],
   "source": [
    "output"
   ]
  },
  {
   "cell_type": "code",
   "execution_count": 136,
   "id": "4d1059ba",
   "metadata": {},
   "outputs": [],
   "source": [
    "filename = 'testdata.txt'\n",
    "grades = []\n",
    "with open(filename) as f:\n",
    "    for line in f:\n",
    "        line = line.strip()\n",
    "        if not line:\n",
    "            continue\n",
    "        grades.append(line.strip().split(','))"
   ]
  },
  {
   "cell_type": "code",
   "execution_count": 137,
   "id": "e2b41391",
   "metadata": {},
   "outputs": [
    {
     "data": {
      "text/plain": [
       "[['student1', '92', '77', '87', '77', '94'],\n",
       " ['student2', '74', '93', '88', '67', '85'],\n",
       " ['student3', '83', '96', '74', '79', '92'],\n",
       " ['student4', '100', '72', '83', '85', '66'],\n",
       " ['student5', '77', '96', '66', '79', '92'],\n",
       " ['student6', '100', '86', '84', '70', '71'],\n",
       " ['student7', '66', '91', '94', '97', '80'],\n",
       " ['student8', '97', '86', '75', '69', '88'],\n",
       " ['student9', '95', '98', '99', '85', '86'],\n",
       " ['student10', '78', '76', '73', '88', '86'],\n",
       " ['student11', '78', '100', '100', '91', '99'],\n",
       " ['student12', '82', '92', '85', '95', '86'],\n",
       " ['student13', '83', '78', '78', '89', '74'],\n",
       " ['student14', '89', '81', '92', '75', '66'],\n",
       " ['student15', '86', '94', '97', '67', '66'],\n",
       " ['student16', '96', '75', '78', '91', '83'],\n",
       " ['student17', '85', '72', '95', '74', '67'],\n",
       " ['student18', '83', '68', '91', '74', '66'],\n",
       " ['student19', '70', '99', '100', '76', '96'],\n",
       " ['student20', '80', '89', '73', '76', '72'],\n",
       " ['student21', '79', '100', '68', '91', '65'],\n",
       " ['student22', '100', '65', '84', '86', '96'],\n",
       " ['student23', '68', '67', '89', '97', '81'],\n",
       " ['student24', '94', '71', '93', '66', '81'],\n",
       " ['student25', '89', '99', '80', '92', '87'],\n",
       " ['student26', '94', '65', '100', '72', '82'],\n",
       " ['student27', '83', '91', '68', '78', '98'],\n",
       " ['student28', '97', '96', '85', '94', '93'],\n",
       " ['student29', '65', '78', '96', '77', '72'],\n",
       " ['student30', '96', '85', '98', '86', '95'],\n",
       " ['student31', '85', '69', '97', '86', '65'],\n",
       " ['student32', '82', '82', '75', '81', '91'],\n",
       " ['student33', '88', '76', '99', '66', '86'],\n",
       " ['student34', '66', '85', '65', '77', '95'],\n",
       " ['student35', '75', '98', '96', '87', '65'],\n",
       " ['student36', '85', '89', '87', '99', '77'],\n",
       " ['student37', '93', '85', '74', '84', '85'],\n",
       " ['student38', '86', '90', '96', '80', '88'],\n",
       " ['student39', '96', '82', '67', '83', '85'],\n",
       " ['student40', '85', '98', '91', '98', '84'],\n",
       " ['student41', '98', '95', '85', '66', '99'],\n",
       " ['student42', '84', '82', '71', '73', '74'],\n",
       " ['student43', '95', '91', '86', '67', '100'],\n",
       " ['student44', '80', '83', '72', '77', '67'],\n",
       " ['student45', '67', '89', '97', '65', '71'],\n",
       " ['student46', '65', '72', '89', '95', '67'],\n",
       " ['student47', '99', '89', '68', '72', '74'],\n",
       " ['student48', '77', '91', '69', '96', '84'],\n",
       " ['student49', '68', '97', '65', '100', '86'],\n",
       " ['student50', '82', '66', '66', '83', '95'],\n",
       " ['student51', '86', '66', '89', '89', '71'],\n",
       " ['student52', '91', '98', '95', '98', '76'],\n",
       " ['student53', '94', '77', '81', '87', '68'],\n",
       " ['student54', '69', '80', '95', '92', '76'],\n",
       " ['student55', '100', '91', '65', '67', '85'],\n",
       " ['student56', '77', '68', '65', '71', '72'],\n",
       " ['student57', '65', '100', '79', '71', '96'],\n",
       " ['student58', '75', '75', '99', '99', '95'],\n",
       " ['student59', '91', '84', '85', '84', '83'],\n",
       " ['student60', '71', '79', '74', '97', '68'],\n",
       " ['student61', '69', '71', '91', '69', '100'],\n",
       " ['student62', '79', '91', '96', '69', '97'],\n",
       " ['student63', '91', '87', '76', '98', '85'],\n",
       " ['student64', '93', '97', '72', '88', '73'],\n",
       " ['student65', '100', '75', '97', '84', '81'],\n",
       " ['student66', '68', '66', '65', '94', '86'],\n",
       " ['student67', '82', '74', '94', '67', '94'],\n",
       " ['student68', '66', '96', '79', '68', '91'],\n",
       " ['student69', '88', '85', '72', '80', '78'],\n",
       " ['student70', '78', '76', '72', '68', '74'],\n",
       " ['student71', '97', '73', '79', '69', '77'],\n",
       " ['student72', '88', '94', '73', '71', '65'],\n",
       " ['student73', '92', '99', '98', '80', '83'],\n",
       " ['student74', '86', '98', '66', '99', '72'],\n",
       " ['student75', '68', '87', '67', '77', '83'],\n",
       " ['student76', '88', '92', '71', '83', '70'],\n",
       " ['student77', '66', '72', '78', '69', '71'],\n",
       " ['student78', '70', '95', '90', '82', '95'],\n",
       " ['student79', '69', '94', '99', '83', '67'],\n",
       " ['student80', '86', '86', '79', '93', '66'],\n",
       " ['student81', '96', '87', '70', '95', '97'],\n",
       " ['student82', '76', '95', '68', '100', '85'],\n",
       " ['student83', '66', '72', '74', '99', '86'],\n",
       " ['student84', '83', '85', '66', '77', '85'],\n",
       " ['student85', '98', '79', '91', '78', '74'],\n",
       " ['student86', '69', '94', '71', '95', '71'],\n",
       " ['student87', '78', '88', '68', '95', '84'],\n",
       " ['student88', '66', '67', '96', '86', '69'],\n",
       " ['student89', '89', '78', '66', '73', '82'],\n",
       " ['student90', '92', '66', '95', '93', '76'],\n",
       " ['student91', '87', '69', '96', '70', '92'],\n",
       " ['student92', '86', '88', '67', '95', '66'],\n",
       " ['student93', '77', '77', '76', '84', '89'],\n",
       " ['student94', '93', '99', '95', '65', '70'],\n",
       " ['student95', '86', '83', '73', '94', '95'],\n",
       " ['student96', '78', '84', '79', '66', '92'],\n",
       " ['student97', '74', '95', '100', '85', '75'],\n",
       " ['student98', '71', '87', '89', '90', '94'],\n",
       " ['student99', '71', '69', '90', '81', '94'],\n",
       " ['student100', '81', '80', '86', '81', '71']]"
      ]
     },
     "execution_count": 137,
     "metadata": {},
     "output_type": "execute_result"
    }
   ],
   "source": [
    "grades"
   ]
  },
  {
   "cell_type": "code",
   "execution_count": 141,
   "id": "b975539f",
   "metadata": {},
   "outputs": [
    {
     "name": "stdout",
     "output_type": "stream",
     "text": [
      "('student1', '92', '77')\n",
      "('student2', '74', '67')\n",
      "('student3', '83', '79')\n",
      "('student4', '100', '85')\n",
      "('student5', '77', '79')\n",
      "('student6', '100', '70')\n",
      "('student7', '66', '97')\n",
      "('student8', '97', '69')\n",
      "('student9', '95', '85')\n",
      "('student10', '78', '88')\n",
      "('student11', '78', '91')\n",
      "('student12', '82', '95')\n",
      "('student13', '83', '89')\n",
      "('student14', '89', '75')\n",
      "('student15', '86', '67')\n",
      "('student16', '96', '91')\n",
      "('student17', '85', '74')\n",
      "('student18', '83', '74')\n",
      "('student19', '70', '76')\n",
      "('student20', '80', '76')\n",
      "('student21', '79', '91')\n",
      "('student22', '100', '86')\n",
      "('student23', '68', '97')\n",
      "('student24', '94', '66')\n",
      "('student25', '89', '92')\n",
      "('student26', '94', '72')\n",
      "('student27', '83', '78')\n",
      "('student28', '97', '94')\n",
      "('student29', '65', '77')\n",
      "('student30', '96', '86')\n",
      "('student31', '85', '86')\n",
      "('student32', '82', '81')\n",
      "('student33', '88', '66')\n",
      "('student34', '66', '77')\n",
      "('student35', '75', '87')\n",
      "('student36', '85', '99')\n",
      "('student37', '93', '84')\n",
      "('student38', '86', '80')\n",
      "('student39', '96', '83')\n",
      "('student40', '85', '98')\n",
      "('student41', '98', '66')\n",
      "('student42', '84', '73')\n",
      "('student43', '95', '67')\n",
      "('student44', '80', '77')\n",
      "('student45', '67', '65')\n",
      "('student46', '65', '95')\n",
      "('student47', '99', '72')\n",
      "('student48', '77', '96')\n",
      "('student49', '68', '100')\n",
      "('student50', '82', '83')\n",
      "('student51', '86', '89')\n",
      "('student52', '91', '98')\n",
      "('student53', '94', '87')\n",
      "('student54', '69', '92')\n",
      "('student55', '100', '67')\n",
      "('student56', '77', '71')\n",
      "('student57', '65', '71')\n",
      "('student58', '75', '99')\n",
      "('student59', '91', '84')\n",
      "('student60', '71', '97')\n",
      "('student61', '69', '69')\n",
      "('student62', '79', '69')\n",
      "('student63', '91', '98')\n",
      "('student64', '93', '88')\n",
      "('student65', '100', '84')\n",
      "('student66', '68', '94')\n",
      "('student67', '82', '67')\n",
      "('student68', '66', '68')\n",
      "('student69', '88', '80')\n",
      "('student70', '78', '68')\n",
      "('student71', '97', '69')\n",
      "('student72', '88', '71')\n",
      "('student73', '92', '80')\n",
      "('student74', '86', '99')\n",
      "('student75', '68', '77')\n",
      "('student76', '88', '83')\n",
      "('student77', '66', '69')\n",
      "('student78', '70', '82')\n",
      "('student79', '69', '83')\n",
      "('student80', '86', '93')\n",
      "('student81', '96', '95')\n",
      "('student82', '76', '100')\n",
      "('student83', '66', '99')\n",
      "('student84', '83', '77')\n",
      "('student85', '98', '78')\n",
      "('student86', '69', '95')\n",
      "('student87', '78', '95')\n",
      "('student88', '66', '86')\n",
      "('student89', '89', '73')\n",
      "('student90', '92', '93')\n",
      "('student91', '87', '70')\n",
      "('student92', '86', '95')\n",
      "('student93', '77', '84')\n",
      "('student94', '93', '65')\n",
      "('student95', '86', '94')\n",
      "('student96', '78', '66')\n",
      "('student97', '74', '85')\n",
      "('student98', '71', '90')\n",
      "('student99', '71', '81')\n",
      "('student100', '81', '81')\n"
     ]
    }
   ],
   "source": [
    "mc = MyClass(lines=list(grades))\n",
    "for ele in mc[[0, 1, 4]]:\n",
    "    print(ele)\n"
   ]
  },
  {
   "cell_type": "code",
   "execution_count": 142,
   "id": "7816d754",
   "metadata": {},
   "outputs": [],
   "source": [
    "x = [1, 2, 3]\n",
    "y = x"
   ]
  },
  {
   "cell_type": "code",
   "execution_count": 143,
   "id": "ec964f6b",
   "metadata": {},
   "outputs": [],
   "source": [
    "y[2] = 44"
   ]
  },
  {
   "cell_type": "code",
   "execution_count": 144,
   "id": "f6c788ca",
   "metadata": {},
   "outputs": [
    {
     "name": "stdout",
     "output_type": "stream",
     "text": [
      "[1, 2, 44] [1, 2, 44]\n"
     ]
    }
   ],
   "source": [
    "print(x, y )"
   ]
  },
  {
   "cell_type": "code",
   "execution_count": 145,
   "id": "695f108b",
   "metadata": {},
   "outputs": [],
   "source": [
    "x[1] = 78"
   ]
  },
  {
   "cell_type": "code",
   "execution_count": 146,
   "id": "5f3baa69",
   "metadata": {},
   "outputs": [
    {
     "name": "stdout",
     "output_type": "stream",
     "text": [
      "[1, 78, 44] [1, 78, 44]\n"
     ]
    }
   ],
   "source": [
    "print(x,y )"
   ]
  },
  {
   "cell_type": "code",
   "execution_count": 147,
   "id": "77e09bca",
   "metadata": {},
   "outputs": [
    {
     "name": "stdout",
     "output_type": "stream",
     "text": [
      "[1, 78, 3] [1, 2, 3]\n"
     ]
    }
   ],
   "source": [
    "x = [1, 2, 3]\n",
    "y = x[:] # x.copy()\n",
    "\n",
    "x[1] = 78\n",
    "print(x, y )"
   ]
  },
  {
   "cell_type": "code",
   "execution_count": 148,
   "id": "428ec87d",
   "metadata": {},
   "outputs": [],
   "source": [
    "x = (1, 2, 3, [4, 5])\n",
    "y = x[:]"
   ]
  },
  {
   "cell_type": "code",
   "execution_count": 149,
   "id": "9eb56208",
   "metadata": {},
   "outputs": [],
   "source": [
    "x[3].append(99)"
   ]
  },
  {
   "cell_type": "code",
   "execution_count": 150,
   "id": "a61175b8",
   "metadata": {},
   "outputs": [
    {
     "name": "stdout",
     "output_type": "stream",
     "text": [
      "(1, 2, 3, [4, 5, 99]) (1, 2, 3, [4, 5, 99])\n"
     ]
    }
   ],
   "source": [
    "print(x, y )"
   ]
  },
  {
   "cell_type": "code",
   "execution_count": 152,
   "id": "3e273ed4",
   "metadata": {},
   "outputs": [],
   "source": [
    "import copy\n",
    "y = copy.deepcopy(x)\n",
    "x[3].append(23)"
   ]
  },
  {
   "cell_type": "code",
   "execution_count": 153,
   "id": "292d90f9",
   "metadata": {},
   "outputs": [
    {
     "name": "stdout",
     "output_type": "stream",
     "text": [
      "(1, 2, 3, [4, 5, 99, 23, 23]) (1, 2, 3, [4, 5, 99, 23])\n"
     ]
    }
   ],
   "source": [
    "print(x, y)"
   ]
  },
  {
   "cell_type": "code",
   "execution_count": 154,
   "id": "295f421d",
   "metadata": {},
   "outputs": [
    {
     "data": {
      "text/plain": [
       "(1, 2, 3, [4, 5, 99, 23, 23])"
      ]
     },
     "execution_count": 154,
     "metadata": {},
     "output_type": "execute_result"
    }
   ],
   "source": [
    "x"
   ]
  },
  {
   "cell_type": "code",
   "execution_count": 155,
   "id": "76db87e5",
   "metadata": {},
   "outputs": [
    {
     "data": {
      "text/plain": [
       "(1, 2, 3, [4, 5, 99, 23])"
      ]
     },
     "execution_count": 155,
     "metadata": {},
     "output_type": "execute_result"
    }
   ],
   "source": [
    "y"
   ]
  },
  {
   "cell_type": "code",
   "execution_count": 156,
   "id": "9889c4b8",
   "metadata": {},
   "outputs": [],
   "source": [
    "x = [1, 2, 3, [4, 5]]\n",
    "y = copy.deepcopy(x)\n",
    "\n",
    "x[3].append(6)"
   ]
  },
  {
   "cell_type": "code",
   "execution_count": 157,
   "id": "c8d88fc0",
   "metadata": {},
   "outputs": [
    {
     "name": "stdout",
     "output_type": "stream",
     "text": [
      "[1, 2, 3, [4, 5, 6]] [1, 2, 3, [4, 5]]\n"
     ]
    }
   ],
   "source": [
    "print(x, y)"
   ]
  },
  {
   "cell_type": "code",
   "execution_count": 158,
   "id": "2384080c",
   "metadata": {},
   "outputs": [
    {
     "name": "stdout",
     "output_type": "stream",
     "text": [
      "(1, 2, 3, [4, 5, 6]) (1, 2, 3, [4, 5])\n"
     ]
    }
   ],
   "source": [
    "x = (1, 2, 3, [4, 5])\n",
    "y = copy.deepcopy(x)\n",
    "x[3].append(6)\n",
    "print(x, y)"
   ]
  },
  {
   "cell_type": "code",
   "execution_count": null,
   "id": "56fae508",
   "metadata": {},
   "outputs": [],
   "source": []
  }
 ],
 "metadata": {
  "kernelspec": {
   "display_name": "Python 3 (ipykernel)",
   "language": "python",
   "name": "python3"
  },
  "language_info": {
   "codemirror_mode": {
    "name": "ipython",
    "version": 3
   },
   "file_extension": ".py",
   "mimetype": "text/x-python",
   "name": "python",
   "nbconvert_exporter": "python",
   "pygments_lexer": "ipython3",
   "version": "3.9.13"
  }
 },
 "nbformat": 4,
 "nbformat_minor": 5
}
