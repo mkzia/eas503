{
 "cells": [
  {
   "cell_type": "code",
   "execution_count": 3,
   "id": "db59e023",
   "metadata": {},
   "outputs": [
    {
     "data": {
      "text/plain": [
       "16.666666666666664"
      ]
     },
     "execution_count": 3,
     "metadata": {},
     "output_type": "execute_result"
    }
   ],
   "source": [
    "6/36 * 100"
   ]
  },
  {
   "cell_type": "code",
   "execution_count": 10,
   "id": "eedce0d3",
   "metadata": {},
   "outputs": [
    {
     "name": "stdout",
     "output_type": "stream",
     "text": [
      "6\n"
     ]
    }
   ],
   "source": [
    "import random\n",
    "\n",
    "dice1 = random.randint(1, 6)\n",
    "dice2 = random.randint(1, 6)\n",
    "print(dice1+dice2)"
   ]
  },
  {
   "cell_type": "code",
   "execution_count": 8,
   "id": "8b487ebb",
   "metadata": {},
   "outputs": [
    {
     "name": "stdout",
     "output_type": "stream",
     "text": [
      "1\n",
      "5\n",
      "3\n",
      "3\n",
      "3\n",
      "2\n",
      "5\n",
      "4\n",
      "6\n",
      "5\n"
     ]
    }
   ],
   "source": [
    "for _ in range(10):\n",
    "    print(random.randint(1, 6))"
   ]
  },
  {
   "cell_type": "code",
   "execution_count": 26,
   "id": "fbfb1de9",
   "metadata": {},
   "outputs": [
    {
     "name": "stdout",
     "output_type": "stream",
     "text": [
      "2 2.81\n",
      "3 5.59\n",
      "4 8.3\n",
      "5 11.08\n",
      "6 13.92\n",
      "7 16.65\n",
      "8 13.9\n",
      "9 11.17\n",
      "10 8.29\n",
      "11 5.51\n",
      "12 2.77\n"
     ]
    }
   ],
   "source": [
    "from collections import defaultdict\n",
    "def simulate_two_dice(no_simulation):\n",
    "    import random\n",
    "    theoretical_probabilities = [\n",
    "        0,\n",
    "        0,\n",
    "        1 / 36,\n",
    "        2 / 36,\n",
    "        3 / 36,\n",
    "        4 / 36,\n",
    "        5 / 36,\n",
    "        6 / 36,\n",
    "        5 / 36,\n",
    "        4 / 36,\n",
    "        3 / 36,\n",
    "        2 / 36,\n",
    "        1 / 36,\n",
    "    ]\n",
    "\n",
    "    two_dice = {}\n",
    "#     two_dice = defaultdict(int)\n",
    "    for _ in range(no_simulation):\n",
    "        dice1 = random.randint(1, 6)\n",
    "        dice2 = random.randint(1, 6)\n",
    "        total = dice1 + dice2\n",
    "    \n",
    "        if total not in two_dice:\n",
    "            two_dice[total] = 0\n",
    "            \n",
    "        two_dice[total] += 1\n",
    "        \n",
    "    for ele in two_dice:\n",
    "        two_dice[ele] = round(two_dice[ele]/no_simulation * 100, 2)\n",
    "    \n",
    "    return two_dice\n",
    "\n",
    "results = simulate_two_dice(1000000)\n",
    "for ele in sorted(results):\n",
    "    print(ele, results[ele] )"
   ]
  },
  {
   "cell_type": "code",
   "execution_count": 17,
   "id": "f4e0f211",
   "metadata": {},
   "outputs": [
    {
     "data": {
      "text/plain": [
       "[3, 4, 5, 6, 7, 8, 9, 10, 11, 12]"
      ]
     },
     "execution_count": 17,
     "metadata": {},
     "output_type": "execute_result"
    }
   ],
   "source": [
    "sorted(results)"
   ]
  },
  {
   "cell_type": "code",
   "execution_count": 18,
   "id": "3fb3d94e",
   "metadata": {},
   "outputs": [],
   "source": [
    "my_dict = {\n",
    "    'b': 1,\n",
    "    'B': 2,\n",
    "    'bb': 3,\n",
    "    '1': 1\n",
    "}"
   ]
  },
  {
   "cell_type": "code",
   "execution_count": 19,
   "id": "45c07998",
   "metadata": {},
   "outputs": [
    {
     "name": "stdout",
     "output_type": "stream",
     "text": [
      "b\n",
      "B\n",
      "bb\n",
      "1\n"
     ]
    }
   ],
   "source": [
    "for ele in my_dict:\n",
    "    print(ele)"
   ]
  },
  {
   "cell_type": "code",
   "execution_count": 20,
   "id": "58f3c63b",
   "metadata": {},
   "outputs": [
    {
     "name": "stdout",
     "output_type": "stream",
     "text": [
      "1\n",
      "B\n",
      "b\n",
      "bb\n"
     ]
    }
   ],
   "source": [
    "for ele in sorted(my_dict):\n",
    "    print(ele)"
   ]
  },
  {
   "cell_type": "code",
   "execution_count": 27,
   "id": "616658ff",
   "metadata": {},
   "outputs": [],
   "source": [
    "total = {}"
   ]
  },
  {
   "cell_type": "code",
   "execution_count": 28,
   "id": "d4aea309",
   "metadata": {},
   "outputs": [
    {
     "ename": "KeyError",
     "evalue": "5",
     "output_type": "error",
     "traceback": [
      "\u001b[1;31m---------------------------------------------------------------------------\u001b[0m",
      "\u001b[1;31mKeyError\u001b[0m                                  Traceback (most recent call last)",
      "\u001b[1;32m~\\AppData\\Local\\Temp\\ipykernel_28484\\2915055577.py\u001b[0m in \u001b[0;36m<module>\u001b[1;34m\u001b[0m\n\u001b[1;32m----> 1\u001b[1;33m \u001b[0mtotal\u001b[0m\u001b[1;33m[\u001b[0m\u001b[1;36m5\u001b[0m\u001b[1;33m]\u001b[0m \u001b[1;33m+=\u001b[0m \u001b[1;36m1\u001b[0m\u001b[1;33m\u001b[0m\u001b[1;33m\u001b[0m\u001b[0m\n\u001b[0m",
      "\u001b[1;31mKeyError\u001b[0m: 5"
     ]
    }
   ],
   "source": [
    "total[5] += 1"
   ]
  },
  {
   "cell_type": "code",
   "execution_count": 29,
   "id": "4f6387f0",
   "metadata": {},
   "outputs": [],
   "source": [
    "if 5 not in total:\n",
    "    total[5] = 0\n",
    "    \n",
    "total[5] += 1"
   ]
  },
  {
   "cell_type": "code",
   "execution_count": 32,
   "id": "43afe7c5",
   "metadata": {},
   "outputs": [
    {
     "name": "stdout",
     "output_type": "stream",
     "text": [
      "2 2.77\n",
      "3 5.53\n",
      "4 8.34\n",
      "5 11.12\n",
      "6 13.86\n",
      "7 16.69\n",
      "8 13.91\n",
      "9 11.13\n",
      "10 8.32\n",
      "11 5.57\n",
      "12 2.77\n"
     ]
    }
   ],
   "source": [
    "from collections import defaultdict\n",
    "def simulate_two_dice(no_simulation):\n",
    "    import random\n",
    "    random.seed(503)\n",
    "    theoretical_probabilities = [\n",
    "        0,\n",
    "        0,\n",
    "        1 / 36,\n",
    "        2 / 36,\n",
    "        3 / 36,\n",
    "        4 / 36,\n",
    "        5 / 36,\n",
    "        6 / 36,\n",
    "        5 / 36,\n",
    "        4 / 36,\n",
    "        3 / 36,\n",
    "        2 / 36,\n",
    "        1 / 36,\n",
    "    ]\n",
    "\n",
    "#     two_dice = {}\n",
    "    two_dice = defaultdict(int)\n",
    "    for _ in range(no_simulation):\n",
    "        dice1 = random.randint(1, 6)\n",
    "        dice2 = random.randint(1, 6)\n",
    "        total = dice1 + dice2\n",
    "    \n",
    "#         if total not in two_dice:\n",
    "#             two_dice[total] = 0\n",
    "            \n",
    "        two_dice[total] += 1\n",
    "        \n",
    "    for ele in two_dice:\n",
    "        two_dice[ele] = round(two_dice[ele]/no_simulation * 100, 2)\n",
    "    \n",
    "    return two_dice\n",
    "\n",
    "results = simulate_two_dice(1000000)\n",
    "for ele in sorted(results):\n",
    "    print(ele, results[ele] )"
   ]
  },
  {
   "cell_type": "code",
   "execution_count": null,
   "id": "1f95a1d5",
   "metadata": {},
   "outputs": [],
   "source": [
    "2 2.77\n",
    "3 5.53\n",
    "4 8.34\n",
    "5 11.12\n",
    "6 13.86\n",
    "7 16.69\n",
    "8 13.91\n",
    "9 11.13\n",
    "10 8.32\n",
    "11 5.57\n",
    "12 2.77"
   ]
  },
  {
   "cell_type": "code",
   "execution_count": 36,
   "id": "61a274d4",
   "metadata": {},
   "outputs": [
    {
     "name": "stdout",
     "output_type": "stream",
     "text": [
      "2 2.77\n",
      "3 5.53\n",
      "4 8.34\n",
      "5 11.12\n",
      "6 13.86\n",
      "7 16.69\n",
      "8 13.91\n",
      "9 11.13\n",
      "10 8.32\n",
      "11 5.57\n",
      "12 2.77\n"
     ]
    }
   ],
   "source": [
    "from collections import Counter\n",
    "def simulate_two_dice(no_simulation):\n",
    "    import random\n",
    "    random.seed(503)\n",
    "    theoretical_probabilities = [\n",
    "        0,\n",
    "        0,\n",
    "        1 / 36,\n",
    "        2 / 36,\n",
    "        3 / 36,\n",
    "        4 / 36,\n",
    "        5 / 36,\n",
    "        6 / 36,\n",
    "        5 / 36,\n",
    "        4 / 36,\n",
    "        3 / 36,\n",
    "        2 / 36,\n",
    "        1 / 36,\n",
    "    ]\n",
    "\n",
    "#     two_dice = {}\n",
    "    two_dice = []\n",
    "    for _ in range(no_simulation):\n",
    "        dice1 = random.randint(1, 6)\n",
    "        dice2 = random.randint(1, 6)\n",
    "        total = dice1 + dice2\n",
    "    \n",
    "#         if total not in two_dice:\n",
    "#             two_dice[total] = 0\n",
    "            \n",
    "        two_dice.append(total)\n",
    "    c = Counter(two_dice)\n",
    "    two_dice = {}\n",
    "    for ele in c:\n",
    "        two_dice[ele] = round(c[ele]/no_simulation * 100, 2)\n",
    "    \n",
    "    return two_dice\n",
    "\n",
    "results = simulate_two_dice(1000000)\n",
    "for ele in sorted(results):\n",
    "    print(ele, results[ele] )"
   ]
  },
  {
   "cell_type": "code",
   "execution_count": 37,
   "id": "8b7564a1",
   "metadata": {},
   "outputs": [
    {
     "data": {
      "text/plain": [
       "Counter({1: 3, 2: 2, 3: 1})"
      ]
     },
     "execution_count": 37,
     "metadata": {},
     "output_type": "execute_result"
    }
   ],
   "source": [
    "x = [1, 2, 1, 1, 2, 3, 1, 1, 1, 1, ]\n",
    "Counter(x)"
   ]
  },
  {
   "cell_type": "code",
   "execution_count": null,
   "id": "45e769ed",
   "metadata": {},
   "outputs": [],
   "source": [
    "list -- Yes\n",
    "tuple -- Yes\n",
    "dict -- No\n",
    "set -- No"
   ]
  },
  {
   "cell_type": "code",
   "execution_count": 38,
   "id": "38df08ee",
   "metadata": {},
   "outputs": [],
   "source": [
    "my_dict = {\n",
    "    'a': 2,\n",
    "    'b': 3\n",
    "}"
   ]
  },
  {
   "cell_type": "code",
   "execution_count": 39,
   "id": "b2c1cf69",
   "metadata": {},
   "outputs": [
    {
     "data": {
      "text/plain": [
       "{'a': 2, 'b': 3}"
      ]
     },
     "execution_count": 39,
     "metadata": {},
     "output_type": "execute_result"
    }
   ],
   "source": [
    "my_dict"
   ]
  },
  {
   "cell_type": "code",
   "execution_count": null,
   "id": "8f3bdec9",
   "metadata": {},
   "outputs": [],
   "source": [
    "{'a': 2, 'b': 3, 'a': 5} # incorrect"
   ]
  },
  {
   "cell_type": "code",
   "execution_count": 40,
   "id": "817a179a",
   "metadata": {},
   "outputs": [],
   "source": [
    "my_dict['a'] = 5"
   ]
  },
  {
   "cell_type": "code",
   "execution_count": 41,
   "id": "6d1b7a20",
   "metadata": {},
   "outputs": [
    {
     "data": {
      "text/plain": [
       "{'a': 5, 'b': 3}"
      ]
     },
     "execution_count": 41,
     "metadata": {},
     "output_type": "execute_result"
    }
   ],
   "source": [
    "my_dict"
   ]
  },
  {
   "cell_type": "code",
   "execution_count": null,
   "id": "a0b9ce9c",
   "metadata": {},
   "outputs": [],
   "source": [
    "# no duplicate keys in a python dictionary"
   ]
  },
  {
   "cell_type": "code",
   "execution_count": 46,
   "id": "6b94901f",
   "metadata": {},
   "outputs": [],
   "source": [
    "my_dict = {'a': [2], 'b': 3,}"
   ]
  },
  {
   "cell_type": "code",
   "execution_count": 47,
   "id": "02889966",
   "metadata": {},
   "outputs": [
    {
     "data": {
      "text/plain": [
       "{'a': [2], 'b': 3}"
      ]
     },
     "execution_count": 47,
     "metadata": {},
     "output_type": "execute_result"
    }
   ],
   "source": [
    "my_dict"
   ]
  },
  {
   "cell_type": "code",
   "execution_count": 48,
   "id": "e620e879",
   "metadata": {},
   "outputs": [],
   "source": [
    "my_dict['a'].append(3)"
   ]
  },
  {
   "cell_type": "code",
   "execution_count": 49,
   "id": "d2249de0",
   "metadata": {},
   "outputs": [
    {
     "data": {
      "text/plain": [
       "{'a': [2, 3], 'b': 3}"
      ]
     },
     "execution_count": 49,
     "metadata": {},
     "output_type": "execute_result"
    }
   ],
   "source": [
    "my_dict"
   ]
  },
  {
   "cell_type": "code",
   "execution_count": 50,
   "id": "aa95e730",
   "metadata": {},
   "outputs": [
    {
     "name": "stdout",
     "output_type": "stream",
     "text": [
      "[1, 1, 2, 1, 1, 1]\n"
     ]
    }
   ],
   "source": [
    "x = [1, 1, 2, 1, 1, 1]\n",
    "print(x)"
   ]
  },
  {
   "cell_type": "code",
   "execution_count": 52,
   "id": "cc4b2d52",
   "metadata": {},
   "outputs": [],
   "source": [
    "x = set(x)"
   ]
  },
  {
   "cell_type": "code",
   "execution_count": 53,
   "id": "922c5f7e",
   "metadata": {},
   "outputs": [
    {
     "ename": "TypeError",
     "evalue": "'set' object is not subscriptable",
     "output_type": "error",
     "traceback": [
      "\u001b[1;31m---------------------------------------------------------------------------\u001b[0m",
      "\u001b[1;31mTypeError\u001b[0m                                 Traceback (most recent call last)",
      "\u001b[1;32m~\\AppData\\Local\\Temp\\ipykernel_28484\\4118936608.py\u001b[0m in \u001b[0;36m<module>\u001b[1;34m\u001b[0m\n\u001b[1;32m----> 1\u001b[1;33m \u001b[0mx\u001b[0m\u001b[1;33m[\u001b[0m\u001b[1;36m1\u001b[0m\u001b[1;33m]\u001b[0m\u001b[1;33m\u001b[0m\u001b[1;33m\u001b[0m\u001b[0m\n\u001b[0m",
      "\u001b[1;31mTypeError\u001b[0m: 'set' object is not subscriptable"
     ]
    }
   ],
   "source": [
    "x[1]"
   ]
  },
  {
   "cell_type": "code",
   "execution_count": 54,
   "id": "bd88cabf",
   "metadata": {},
   "outputs": [
    {
     "ename": "TypeError",
     "evalue": "'set' object is not subscriptable",
     "output_type": "error",
     "traceback": [
      "\u001b[1;31m---------------------------------------------------------------------------\u001b[0m",
      "\u001b[1;31mTypeError\u001b[0m                                 Traceback (most recent call last)",
      "\u001b[1;32m~\\AppData\\Local\\Temp\\ipykernel_28484\\1392855019.py\u001b[0m in \u001b[0;36m<module>\u001b[1;34m\u001b[0m\n\u001b[0;32m      1\u001b[0m \u001b[0mx\u001b[0m \u001b[1;33m=\u001b[0m \u001b[1;33m{\u001b[0m\u001b[1;36m0\u001b[0m\u001b[1;33m,\u001b[0m \u001b[1;36m1\u001b[0m\u001b[1;33m,\u001b[0m \u001b[1;36m2\u001b[0m\u001b[1;33m,\u001b[0m \u001b[1;36m3\u001b[0m\u001b[1;33m,\u001b[0m \u001b[1;36m4\u001b[0m\u001b[1;33m,\u001b[0m \u001b[1;36m5\u001b[0m\u001b[1;33m,\u001b[0m \u001b[1;36m6\u001b[0m\u001b[1;33m,\u001b[0m \u001b[1;36m7\u001b[0m\u001b[1;33m,\u001b[0m \u001b[1;36m8\u001b[0m\u001b[1;33m}\u001b[0m\u001b[1;33m\u001b[0m\u001b[1;33m\u001b[0m\u001b[0m\n\u001b[1;32m----> 2\u001b[1;33m \u001b[0mx\u001b[0m\u001b[1;33m[\u001b[0m\u001b[1;36m0\u001b[0m\u001b[1;33m]\u001b[0m\u001b[1;33m\u001b[0m\u001b[1;33m\u001b[0m\u001b[0m\n\u001b[0m",
      "\u001b[1;31mTypeError\u001b[0m: 'set' object is not subscriptable"
     ]
    }
   ],
   "source": [
    "x = {0, 1, 2, 3, 4, 5, 6, 7, 8}\n",
    "x[0]"
   ]
  },
  {
   "cell_type": "code",
   "execution_count": 57,
   "id": "7601137b",
   "metadata": {},
   "outputs": [],
   "source": [
    "x = {1, 3.14, '3.14', True, 0, False}"
   ]
  },
  {
   "cell_type": "code",
   "execution_count": 58,
   "id": "8263c5ff",
   "metadata": {},
   "outputs": [
    {
     "data": {
      "text/plain": [
       "{0, 1, 3.14, '3.14'}"
      ]
     },
     "execution_count": 58,
     "metadata": {},
     "output_type": "execute_result"
    }
   ],
   "source": [
    "x"
   ]
  },
  {
   "cell_type": "code",
   "execution_count": 59,
   "id": "16a286e1",
   "metadata": {},
   "outputs": [],
   "source": [
    "A = {0, 2, 4, 6, 8}\n",
    "B = {1, 2, 3, 4, 5}"
   ]
  },
  {
   "cell_type": "code",
   "execution_count": 60,
   "id": "cd0ec45f",
   "metadata": {},
   "outputs": [
    {
     "data": {
      "text/plain": [
       "True"
      ]
     },
     "execution_count": 60,
     "metadata": {},
     "output_type": "execute_result"
    }
   ],
   "source": [
    "2 in A"
   ]
  },
  {
   "cell_type": "code",
   "execution_count": null,
   "id": "7313cddb",
   "metadata": {},
   "outputs": [],
   "source": [
    "# Speed\n",
    "list, tuple -- in operator has cost of O(n)\n",
    "dict, set, -- in operator has cost of O(1)\n"
   ]
  },
  {
   "cell_type": "code",
   "execution_count": 61,
   "id": "0746c32c",
   "metadata": {},
   "outputs": [
    {
     "data": {
      "text/plain": [
       "{0, 2, 4, 6, 8}"
      ]
     },
     "execution_count": 61,
     "metadata": {},
     "output_type": "execute_result"
    }
   ],
   "source": [
    "A"
   ]
  },
  {
   "cell_type": "code",
   "execution_count": 62,
   "id": "83101b50",
   "metadata": {},
   "outputs": [
    {
     "data": {
      "text/plain": [
       "{1, 2, 3, 4, 5}"
      ]
     },
     "execution_count": 62,
     "metadata": {},
     "output_type": "execute_result"
    }
   ],
   "source": [
    "B"
   ]
  },
  {
   "cell_type": "code",
   "execution_count": 63,
   "id": "d75734bb",
   "metadata": {},
   "outputs": [
    {
     "data": {
      "text/plain": [
       "{0, 6, 8}"
      ]
     },
     "execution_count": 63,
     "metadata": {},
     "output_type": "execute_result"
    }
   ],
   "source": [
    "A - B"
   ]
  },
  {
   "cell_type": "code",
   "execution_count": 64,
   "id": "b04a40f8",
   "metadata": {},
   "outputs": [
    {
     "data": {
      "text/plain": [
       "{1, 3, 5}"
      ]
     },
     "execution_count": 64,
     "metadata": {},
     "output_type": "execute_result"
    }
   ],
   "source": [
    "B - A"
   ]
  },
  {
   "cell_type": "code",
   "execution_count": 65,
   "id": "c20bd8a2",
   "metadata": {},
   "outputs": [
    {
     "data": {
      "text/plain": [
       "True"
      ]
     },
     "execution_count": 65,
     "metadata": {},
     "output_type": "execute_result"
    }
   ],
   "source": [
    "A = {1, 2, 3, 4, 5}\n",
    "B = {3, 4}\n",
    "\n",
    "B < A"
   ]
  },
  {
   "cell_type": "code",
   "execution_count": 66,
   "id": "2a1c4f12",
   "metadata": {},
   "outputs": [
    {
     "data": {
      "text/plain": [
       "True"
      ]
     },
     "execution_count": 66,
     "metadata": {},
     "output_type": "execute_result"
    }
   ],
   "source": [
    "B <= A"
   ]
  },
  {
   "cell_type": "code",
   "execution_count": 67,
   "id": "d72d2e91",
   "metadata": {},
   "outputs": [
    {
     "data": {
      "text/plain": [
       "False"
      ]
     },
     "execution_count": 67,
     "metadata": {},
     "output_type": "execute_result"
    }
   ],
   "source": [
    "B > A"
   ]
  },
  {
   "cell_type": "code",
   "execution_count": 68,
   "id": "65853279",
   "metadata": {},
   "outputs": [
    {
     "name": "stdout",
     "output_type": "stream",
     "text": [
      "{1, 2, 3, 4, 5, 6}\n"
     ]
    }
   ],
   "source": [
    "A = {1, 2, 3, 4, 5}\n",
    "A.add(6)\n",
    "print(A)"
   ]
  },
  {
   "cell_type": "code",
   "execution_count": 69,
   "id": "24d1d51f",
   "metadata": {},
   "outputs": [
    {
     "ename": "AttributeError",
     "evalue": "'set' object has no attribute 'append'",
     "output_type": "error",
     "traceback": [
      "\u001b[1;31m---------------------------------------------------------------------------\u001b[0m",
      "\u001b[1;31mAttributeError\u001b[0m                            Traceback (most recent call last)",
      "\u001b[1;32m~\\AppData\\Local\\Temp\\ipykernel_28484\\3952802183.py\u001b[0m in \u001b[0;36m<module>\u001b[1;34m\u001b[0m\n\u001b[1;32m----> 1\u001b[1;33m \u001b[0mA\u001b[0m\u001b[1;33m.\u001b[0m\u001b[0mappend\u001b[0m\u001b[1;33m(\u001b[0m\u001b[1;36m5\u001b[0m\u001b[1;33m)\u001b[0m\u001b[1;33m\u001b[0m\u001b[1;33m\u001b[0m\u001b[0m\n\u001b[0m",
      "\u001b[1;31mAttributeError\u001b[0m: 'set' object has no attribute 'append'"
     ]
    }
   ],
   "source": [
    "A.append(5)"
   ]
  },
  {
   "cell_type": "code",
   "execution_count": 70,
   "id": "378ad700",
   "metadata": {},
   "outputs": [
    {
     "name": "stdout",
     "output_type": "stream",
     "text": [
      "{2, 3, 4, 5}\n"
     ]
    }
   ],
   "source": [
    "A = {1, 2, 3, 4, 5}\n",
    "A.discard(1)\n",
    "print(A)"
   ]
  },
  {
   "cell_type": "code",
   "execution_count": 71,
   "id": "d08668e7",
   "metadata": {},
   "outputs": [],
   "source": [
    "A.discard('BLah')"
   ]
  },
  {
   "cell_type": "code",
   "execution_count": 72,
   "id": "153e952a",
   "metadata": {},
   "outputs": [
    {
     "data": {
      "text/plain": [
       "1"
      ]
     },
     "execution_count": 72,
     "metadata": {},
     "output_type": "execute_result"
    }
   ],
   "source": [
    "A = {1, 2, 3, 4, 5}\n",
    "A.pop()"
   ]
  },
  {
   "cell_type": "code",
   "execution_count": 73,
   "id": "edd253dc",
   "metadata": {},
   "outputs": [],
   "source": [
    "d1 = dict(a=1, b=2, c=3, d=4)\n",
    "d2 = dict(b=20, d=40, e=50)"
   ]
  },
  {
   "cell_type": "code",
   "execution_count": 74,
   "id": "576b5953",
   "metadata": {},
   "outputs": [
    {
     "data": {
      "text/plain": [
       "{'a': 1, 'b': 2, 'c': 3, 'd': 4}"
      ]
     },
     "execution_count": 74,
     "metadata": {},
     "output_type": "execute_result"
    }
   ],
   "source": [
    "d1"
   ]
  },
  {
   "cell_type": "code",
   "execution_count": 75,
   "id": "6857439c",
   "metadata": {},
   "outputs": [
    {
     "data": {
      "text/plain": [
       "{'b': 20, 'd': 40, 'e': 50}"
      ]
     },
     "execution_count": 75,
     "metadata": {},
     "output_type": "execute_result"
    }
   ],
   "source": [
    "d2"
   ]
  },
  {
   "cell_type": "code",
   "execution_count": 76,
   "id": "45646ae3",
   "metadata": {},
   "outputs": [
    {
     "data": {
      "text/plain": [
       "{'b', 'd'}"
      ]
     },
     "execution_count": 76,
     "metadata": {},
     "output_type": "execute_result"
    }
   ],
   "source": [
    "d1.keys() & d2.keys()"
   ]
  },
  {
   "cell_type": "code",
   "execution_count": 79,
   "id": "27b524fb",
   "metadata": {},
   "outputs": [
    {
     "data": {
      "text/plain": [
       "True"
      ]
     },
     "execution_count": 79,
     "metadata": {},
     "output_type": "execute_result"
    }
   ],
   "source": [
    "d1.keys() <= {'a', 'b', 'c', 'd'}"
   ]
  },
  {
   "cell_type": "code",
   "execution_count": 77,
   "id": "88340507",
   "metadata": {},
   "outputs": [],
   "source": [
    "my_dict = dict(\n",
    "    name='john',\n",
    "    email='john@email.com',\n",
    "    id=1234,\n",
    "    major='Engineering'\n",
    ")"
   ]
  },
  {
   "cell_type": "code",
   "execution_count": 80,
   "id": "3e884a78",
   "metadata": {},
   "outputs": [
    {
     "data": {
      "text/plain": [
       "True"
      ]
     },
     "execution_count": 80,
     "metadata": {},
     "output_type": "execute_result"
    }
   ],
   "source": [
    "{'id', 'major'} <= my_dict.keys()"
   ]
  },
  {
   "cell_type": "code",
   "execution_count": 82,
   "id": "37a4d015",
   "metadata": {},
   "outputs": [],
   "source": [
    "def get_list_from_file(filename):\n",
    "    lst = []\n",
    "    with open(filename) as file:\n",
    "        for line in file:\n",
    "            if not line.strip():\n",
    "                continue\n",
    "\n",
    "            lst.append(line.strip())\n",
    "\n",
    "    return lst\n",
    "filename = 'gene_list1.txt'\n"
   ]
  },
  {
   "cell_type": "code",
   "execution_count": 88,
   "id": "f9abd948",
   "metadata": {},
   "outputs": [
    {
     "name": "stdout",
     "output_type": "stream",
     "text": [
      "(['ACLY', 'ABCA3', 'ABCA5', 'ACRBP', 'ABCF3', 'ACSS3', 'ACTRT1', 'A2M', 'ABCB11', 'A4GALT', 'ABCE1', 'ABCC9', 'AASS', 'ABCF1', 'AADACL4', 'ACOT9', 'ABCG8', 'ACSL3', 'ABCB4', 'ACTB', 'ABHD10', 'ACTG2', 'ACVR2B', 'ACTR3', 'AASDHPPT', 'ACP6', 'ABCC4', 'ACSL4', 'ABCA6', 'ACTN4', 'ABCD3', 'ACTN1', 'ACTL7B', 'ACTL9', 'ACKR1', 'ACSS1', 'AADAC', 'ACSM2A', 'AATK', 'ACSF3', 'ACP3', 'ACTR2', 'ABHD6', 'ACP4', 'ACHE', 'ACOD1', 'ABCA2', 'ACO2', 'ACTN3', 'AAAS', 'ABCA7', 'ACTL8', 'ACYP1', 'ACER1', 'ACVR1B', 'AAMDC', 'ACKR3', 'ACSM1', 'ACSM6', 'ACTR5', 'ACVR2A', 'ABCF2', 'ABCD2', 'ABCB9', 'ACOT13', 'ACOT11', 'ABCA13', 'ACTC1', 'ACO1', 'ACOT12', 'ABAT', 'AADACL2', 'ACSL5', 'AARD', 'AADAT', 'ACSBG1', 'ACTL10', 'ACTRT3', 'ACMSD', 'ACTL6B', 'ACTL6A', 'ABCA1', 'ACOT4', 'ACKR2', 'ACSM2B', 'ABHD8', 'ABCD1', 'ACE2', 'ACY1', 'ACOT6', 'AAMP', 'ACR', 'A3GALT2', 'ACD', 'ACP7', 'ACTR3B', 'ABCA8', 'A4GNT', 'ACP2', 'ABCC6', 'ACP5', 'ACSM5', 'ABCA9', 'ACOT7', 'ADA', 'ABCC3', 'ABCA12', 'ABCC2', 'A1BG', 'ABCC8', 'ABHD1', 'AASDH', 'ACRV1', 'ACSL1', 'ABCB10', 'ABHD4', 'AATF', 'ACOT8', 'ABCG1', 'ACTN2', 'ACER2', 'ACOX3', 'ACVR1C', 'AANAT', 'ACOT2', 'ABCB1', 'ABHD3', 'ACYP2', 'ABCG5', 'ACSS2', 'ABCA10', 'ABCC5', 'ACOX2', 'AARSD1', 'ABCC1', 'AARS1', 'ACTR1B', 'ACTR1A', 'ABCB8', 'ACKR4', 'AAGAB', 'ABCB5', 'A2ML1', 'ABCC12', 'ABCA4', 'ACTR8', 'ABHD2', 'ACIN1', 'ACVRL1', 'ABCD4', 'ACSL6', 'AAK1', 'ACTL7A', 'ACTG1', 'ABCB6', 'ABHD5', 'ACSF2', 'ACTR10', 'ACTA2', 'ACP1', 'ACTBL2', 'ACTR3C', 'ACTR6', 'ACOT1', 'AACS', 'ACSM3', 'ACER3', 'ACTA1', 'ACY3', 'ABCG4', 'ACVR1', 'A1CF', 'ABCC11', 'ACOX1', 'ACOXL', 'ACSBG2', 'ACSM4', 'ACTRT2', 'AARS2', 'AADACL3', 'AAR2', 'ACE', 'ABCG2', 'ABCB7', 'ABCC10'], ['ZPR1', 'ZSCAN32', 'ZP3', 'ZNF804A', 'ZNF850', 'ZSCAN18', 'ZNF860', 'ZSCAN20', 'ZNF736', 'ZSWIM9', 'ZNF790', 'ZNF879', 'ZNF853', 'ZNF782', 'ZRANB3', 'ZNF845', 'ZNF792', 'ZNF786', 'ZNRF4', 'ZNF789', 'ZSCAN30', 'ZNF726', 'ZSWIM6', 'ZNF716', 'ZNF738', 'ZNF831', 'ZNF718', 'ZNF721', 'ZSCAN4', 'ZNHIT2', 'ZNF785', 'ZNF777', 'ZNHIT6', 'ZNF844', 'ZSCAN31', 'ZNF730', 'ZNF747', 'ZNHIT1', 'ZNF761', 'ZNRF3', 'ZSCAN5B', 'ZNF720', 'ZNF728', 'ZNF770', 'ZSCAN10', 'ZSWIM7', 'ZUP1', 'ZNF814', 'ZNF737', 'ZNF883', 'ZNRD1', 'ZNF837', 'ZNF783', 'ZNF804B', 'ZNF778', 'ZNF766', 'ZSCAN21', 'ZNF717', 'ZSCAN5C', 'ZSWIM8', 'ZNF808', 'ZNHIT3', 'ZP2', 'ZNF765', 'ZNF830', 'ZNF846', 'ZNF771', 'ZNF813', 'ZNF836', 'ZNF865', 'ZNF875', 'ZNF805', 'ZNF829', 'ZNF773', 'ZNF843', 'ZNF839', 'ZSCAN16', 'ZNF714', 'ZNF793', 'ZRSR2', 'ZSWIM3', 'ZNF768', 'ZRANB1', 'ZPLD1', 'ZNRD2', 'ZP4', 'ZNF827', 'ZNF791', 'ZSWIM4', 'ZNF729', 'ZNF764', 'ZPBP2', 'ZNF732', 'ZSWIM5', 'ZNF774', 'ZNF780B', 'ZNF740', 'ZNF800', 'ZPBP', 'ZSCAN5A', 'ZNF888', 'ZNF799', 'ZNRF1', 'ZSCAN12', 'ZP1', 'ZNF780A', 'ZNF852', 'ZSCAN22', 'ZNF746', 'ZNRF2', 'ZNF880', 'ZSCAN25', 'ZNF749', 'ZNF891', 'ZNF750', 'ZNF775', 'ZNF821', 'ZNF781', 'ZNF763', 'ZSCAN9', 'ZNF841', 'ZNF878', 'ZNF784', 'ZSCAN26', 'ZNF772', 'ZSWIM1', 'ZNF735', 'ZNF835', 'ZRANB2', 'ZNF727', 'ZNF723', 'ZSCAN2', 'ZSCAN1', 'ZNF823', 'ZNFX1', 'ZNF787', 'ZNF776', 'ZSCAN23', 'ZNF724', 'ZSCAN29', 'ZNF816', 'ZSWIM2', 'ZNF862'])\n"
     ]
    }
   ],
   "source": [
    "def compare_two_lists(filename1, filename2):\n",
    "\n",
    "    list1 = get_list_from_file(filename1)\n",
    "    list2 = get_list_from_file(filename2)\n",
    "\n",
    "    return (list(set(list1)-set(list2)), list(set(list2)-set(list1)))\n",
    "\n",
    "\n",
    "print(compare_two_lists('gene_list1.txt', 'gene_list2.txt'))"
   ]
  },
  {
   "cell_type": "code",
   "execution_count": 86,
   "id": "4ece1546",
   "metadata": {},
   "outputs": [],
   "source": [
    "x = {'a', 'b', 'c', 'd'}"
   ]
  },
  {
   "cell_type": "code",
   "execution_count": 87,
   "id": "49a1f38c",
   "metadata": {},
   "outputs": [
    {
     "data": {
      "text/plain": [
       "['a', 'd', 'b', 'c']"
      ]
     },
     "execution_count": 87,
     "metadata": {},
     "output_type": "execute_result"
    }
   ],
   "source": [
    "list(x)"
   ]
  },
  {
   "cell_type": "code",
   "execution_count": 89,
   "id": "fc2be331",
   "metadata": {},
   "outputs": [
    {
     "data": {
      "text/plain": [
       "{0, 1, 2, 3, 4}"
      ]
     },
     "execution_count": 89,
     "metadata": {},
     "output_type": "execute_result"
    }
   ],
   "source": [
    "{ ele for ele in range(5)}"
   ]
  },
  {
   "cell_type": "code",
   "execution_count": 90,
   "id": "a782423d",
   "metadata": {},
   "outputs": [],
   "source": [
    "my_list = [1, 2, 3, 4]\n",
    "output = []\n",
    "for ele in my_list:\n",
    "    output.append(ele*ele)\n"
   ]
  },
  {
   "cell_type": "code",
   "execution_count": 91,
   "id": "5121488c",
   "metadata": {},
   "outputs": [
    {
     "data": {
      "text/plain": [
       "[1, 4, 9, 16]"
      ]
     },
     "execution_count": 91,
     "metadata": {},
     "output_type": "execute_result"
    }
   ],
   "source": [
    "output"
   ]
  },
  {
   "cell_type": "code",
   "execution_count": 94,
   "id": "f022ec7c",
   "metadata": {},
   "outputs": [
    {
     "data": {
      "text/plain": [
       "25"
      ]
     },
     "execution_count": 94,
     "metadata": {},
     "output_type": "execute_result"
    }
   ],
   "source": [
    "lfunc = lambda x: x * x # this is storing the lambda function in a variable \n",
    "\n",
    "lfunc(5)"
   ]
  },
  {
   "cell_type": "code",
   "execution_count": null,
   "id": "a1f60768",
   "metadata": {},
   "outputs": [],
   "source": [
    "# lambda a, b: a + b\n",
    "\n",
    "def f(a, b):\n",
    "    return a + b"
   ]
  },
  {
   "cell_type": "code",
   "execution_count": 95,
   "id": "75510128",
   "metadata": {},
   "outputs": [
    {
     "name": "stdout",
     "output_type": "stream",
     "text": [
      "12\n"
     ]
    }
   ],
   "source": [
    "func = lambda a, b: a * b\n",
    "def lambda_test(function, number1, number2):\n",
    "    return function(number1, number2)\n",
    "print(lambda_test(func, 3, 4))"
   ]
  },
  {
   "cell_type": "code",
   "execution_count": 96,
   "id": "01b5ee17",
   "metadata": {},
   "outputs": [
    {
     "name": "stdout",
     "output_type": "stream",
     "text": [
      "[4, 9, 16]\n"
     ]
    }
   ],
   "source": [
    "my_list = [2, 3, 4]\n",
    "\n",
    "# double this list\n",
    "\n",
    "# method 1 - define a square function\n",
    "\n",
    "def square_list(my_list):\n",
    "    new_list = []\n",
    "    for ele in my_list:\n",
    "        new_list.append(ele * ele)\n",
    "\n",
    "    return new_list\n",
    "\n",
    "print(square_list(my_list))"
   ]
  },
  {
   "cell_type": "code",
   "execution_count": 97,
   "id": "09f86d6f",
   "metadata": {},
   "outputs": [
    {
     "name": "stdout",
     "output_type": "stream",
     "text": [
      "[4, 9, 16]\n"
     ]
    }
   ],
   "source": [
    "# method 2 - list comprehension\n",
    "\n",
    "print([ele*ele for ele in my_list])"
   ]
  },
  {
   "cell_type": "code",
   "execution_count": 104,
   "id": "bf1bd9dc",
   "metadata": {},
   "outputs": [],
   "source": [
    "# method 3 - use lambda with map\n",
    "# map(lambda variables (comma separated): expression)\n",
    "\n",
    "x = map(lambda ele: ele*ele, my_list)"
   ]
  },
  {
   "cell_type": "code",
   "execution_count": 105,
   "id": "cec2335e",
   "metadata": {},
   "outputs": [
    {
     "name": "stdout",
     "output_type": "stream",
     "text": [
      "4\n",
      "9\n",
      "16\n"
     ]
    }
   ],
   "source": [
    "for ele in x:\n",
    "    print(ele)"
   ]
  },
  {
   "cell_type": "code",
   "execution_count": 106,
   "id": "ecb72aa6",
   "metadata": {},
   "outputs": [],
   "source": [
    "for ele in x:\n",
    "    print(ele)"
   ]
  },
  {
   "cell_type": "code",
   "execution_count": 107,
   "id": "b6edefaf",
   "metadata": {},
   "outputs": [
    {
     "data": {
      "text/plain": [
       "[4, 9, 16]"
      ]
     },
     "execution_count": 107,
     "metadata": {},
     "output_type": "execute_result"
    }
   ],
   "source": [
    "# variation #1\n",
    "list(map(lambda ele: ele*ele, my_list))"
   ]
  },
  {
   "cell_type": "code",
   "execution_count": 108,
   "id": "8776f746",
   "metadata": {},
   "outputs": [
    {
     "data": {
      "text/plain": [
       "[4, 9, 16]"
      ]
     },
     "execution_count": 108,
     "metadata": {},
     "output_type": "execute_result"
    }
   ],
   "source": [
    "lfunc = lambda ele: ele*ele\n",
    "list(map(lfunc, my_list))"
   ]
  },
  {
   "cell_type": "code",
   "execution_count": 109,
   "id": "a4d7ea8e",
   "metadata": {},
   "outputs": [
    {
     "data": {
      "text/plain": [
       "[4, 9, 16]"
      ]
     },
     "execution_count": 109,
     "metadata": {},
     "output_type": "execute_result"
    }
   ],
   "source": [
    "def square(x):\n",
    "    return x * x\n",
    "list(map(square, my_list))"
   ]
  },
  {
   "cell_type": "code",
   "execution_count": 110,
   "id": "fcecbbe4",
   "metadata": {},
   "outputs": [
    {
     "name": "stdout",
     "output_type": "stream",
     "text": [
      "['John', 'Jane', 'Doe']\n"
     ]
    }
   ],
   "source": [
    "students = ['john', 'jane', 'doe']\n",
    "# make upper case\n",
    "\n",
    "\n",
    "# method 1 create new list and loop\n",
    "new_list = []\n",
    "for student in students:\n",
    "    new_list.append(student.title())\n",
    "\n",
    "print(new_list)"
   ]
  },
  {
   "cell_type": "code",
   "execution_count": 111,
   "id": "2c9e9878",
   "metadata": {},
   "outputs": [
    {
     "name": "stdout",
     "output_type": "stream",
     "text": [
      "['John', 'Jane', 'Doe']\n",
      "['John', 'Jane', 'Doe']\n"
     ]
    }
   ],
   "source": [
    "# method 2 -- use list comprehension\n",
    "\n",
    "print([student[0].upper()+student[1:] for student in students])\n",
    "print([student.title() for student in students])"
   ]
  },
  {
   "cell_type": "code",
   "execution_count": 112,
   "id": "ef0c386a",
   "metadata": {},
   "outputs": [
    {
     "data": {
      "text/plain": [
       "['John', 'Jane', 'Doe']"
      ]
     },
     "execution_count": 112,
     "metadata": {},
     "output_type": "execute_result"
    }
   ],
   "source": [
    "list(map(lambda string: string.title(), students))"
   ]
  },
  {
   "cell_type": "code",
   "execution_count": 118,
   "id": "4bf96656",
   "metadata": {},
   "outputs": [
    {
     "name": "stdout",
     "output_type": "stream",
     "text": [
      "['A1BG\\n', 'A1CF\\n', 'A2M\\n', 'A2ML1\\n', 'A3GALT2\\n', 'A4GALT\\n', 'A4GNT\\n', 'AAAS\\n', 'AACS\\n', 'AADAC\\n', 'AADACL2\\n', 'AADACL3\\n', 'AADACL4\\n', 'AADAT\\n', 'AAGAB\\n', 'AAK1\\n', 'AAMDC\\n', 'AAMP\\n', 'AANAT\\n', 'AAR2\\n', 'AARD\\n', 'AARS1\\n', 'AARS2\\n', 'AARSD1\\n', 'AASDH\\n', 'AASDHPPT\\n', 'AASS\\n', 'AATF\\n', 'AATK\\n', 'ABAT\\n', 'ABCA1\\n', 'ABCA2\\n', 'ABCA3\\n', 'ABCA4\\n', 'ABCA5\\n', 'ABCA6\\n', 'ABCA7\\n', 'ABCA8\\n', 'ABCA9\\n', 'ABCA10\\n', 'ABCA12\\n', 'ABCA13\\n', 'ABCB1\\n', 'ABCB4\\n', 'ABCB5\\n', 'ABCB6\\n', 'ABCB7\\n', 'ABCB8\\n', 'ABCB9\\n', 'ABCB10\\n', 'ABCB11\\n', 'ABCC1\\n', 'ABCC2\\n', 'ABCC3\\n', 'ABCC4\\n', 'ABCC5\\n', 'ABCC6\\n', 'ABCC8\\n', 'ABCC9\\n', 'ABCC10\\n', 'ABCC11\\n', 'ABCC12\\n', 'ABCD1\\n', 'ABCD2\\n', 'ABCD3\\n', 'ABCD4\\n', 'ABCE1\\n', 'ABCF1\\n', 'ABCF2\\n', 'ABCF3\\n', 'ABCG1\\n', 'ABCG2\\n', 'ABCG4\\n', 'ABCG5\\n', 'ABCG8\\n', 'ABHD1\\n', 'ABHD2\\n', 'ABHD3\\n', 'ABHD4\\n', 'ABHD5\\n', 'ABHD6\\n', 'ABHD8\\n', 'ABHD10\\n', 'ABHD11\\n', 'ABHD12\\n', 'ABHD12B\\n', 'ABHD13\\n', 'ABHD14A\\n', 'ABHD14B\\n', 'ABHD15\\n', 'ABHD16A\\n', 'ABHD16B\\n', 'ABHD17A\\n', 'ABHD17B\\n', 'ABHD17C\\n', 'ABHD18\\n', 'ABI1\\n', 'ABI2\\n', 'ABI3\\n', 'ABI3BP\\n', 'ABITRAM\\n', 'ABL1\\n', 'ABL2\\n', 'ABLIM1\\n', 'ABLIM2\\n', 'ABLIM3\\n', 'ABO\\n', 'ABR\\n', 'ABRA\\n', 'ABRACL\\n', 'ABRAXAS1\\n', 'ABRAXAS2\\n', 'ABT1\\n', 'ABTB1\\n', 'ABTB2\\n', 'ACAA1\\n', 'ACAA2\\n', 'ACACA\\n', 'ACACB\\n', 'ACAD8\\n', 'ACAD9\\n', 'ACAD10\\n', 'ACAD11\\n', 'ACADL\\n', 'ACADM\\n', 'ACADS\\n', 'ACADSB\\n', 'ACADVL\\n', 'ACAN\\n', 'ACAP1\\n', 'ACAP2\\n', 'ACAP3\\n', 'ACAT1\\n', 'ACAT2\\n', 'ACBD3\\n', 'ACBD4\\n', 'ACBD5\\n', 'ACBD6\\n', 'ACBD7\\n', 'ACCS\\n', 'ACCSL\\n', 'ACD\\n', 'ACE\\n', 'ACE2\\n', 'ACER1\\n', 'ACER2\\n', 'ACER3\\n', 'ACHE\\n', 'ACIN1\\n', 'ACKR1\\n', 'ACKR2\\n', 'ACKR3\\n', 'ACKR4\\n', 'ACLY\\n', 'ACMSD\\n', 'ACO1\\n', 'ACO2\\n', 'ACOD1\\n', 'ACOT1\\n', 'ACOT2\\n', 'ACOT4\\n', 'ACOT6\\n', 'ACOT7\\n', 'ACOT8\\n', 'ACOT9\\n', 'ACOT11\\n', 'ACOT12\\n', 'ACOT13\\n', 'ACOX1\\n', 'ACOX2\\n', 'ACOX3\\n', 'ACOXL\\n', 'ACP1\\n', 'ACP2\\n', 'ACP3\\n', 'ACP4\\n', 'ACP5\\n', 'ACP6\\n', 'ACP7\\n', 'ACR\\n', 'ACRBP\\n', 'ACRV1\\n', 'ACSBG1\\n', 'ACSBG2\\n', 'ACSF2\\n', 'ACSF3\\n', 'ACSL1\\n', 'ACSL3\\n', 'ACSL4\\n', 'ACSL5\\n', 'ACSL6\\n', 'ACSM1\\n', 'ACSM2A\\n', 'ACSM2B\\n', 'ACSM3\\n', 'ACSM4\\n', 'ACSM5\\n', 'ACSM6\\n', 'ACSS1\\n', 'ACSS2\\n', 'ACSS3\\n', 'ACTA1\\n', 'ACTA2\\n', 'ACTB\\n', 'ACTBL2\\n', 'ACTC1\\n', 'ACTG1\\n', 'ACTG2\\n', 'ACTL6A\\n', 'ACTL6B\\n', 'ACTL7A\\n', 'ACTL7B\\n', 'ACTL8\\n', 'ACTL9\\n', 'ACTL10\\n', 'ACTN1\\n', 'ACTN2\\n', 'ACTN3\\n', 'ACTN4\\n', 'ACTR1A\\n', 'ACTR1B\\n', 'ACTR2\\n', 'ACTR3\\n', 'ACTR3B\\n', 'ACTR3C\\n', 'ACTR5\\n', 'ACTR6\\n', 'ACTR8\\n', 'ACTR10\\n', 'ACTRT1\\n', 'ACTRT2\\n', 'ACTRT3\\n', 'ACVR1\\n', 'ACVR1B\\n', 'ACVR1C\\n', 'ACVR2A\\n', 'ACVR2B\\n', 'ACVRL1\\n', 'ACY1\\n', 'ACY3\\n', 'ACYP1\\n', 'ACYP2\\n', 'ADA\\n']\n"
     ]
    }
   ],
   "source": [
    "data = open('gene_list1.txt').readlines()\n",
    "print(data)"
   ]
  },
  {
   "cell_type": "code",
   "execution_count": 116,
   "id": "c47e822b",
   "metadata": {},
   "outputs": [
    {
     "data": {
      "text/plain": [
       "['A1BG',\n",
       " 'A1CF',\n",
       " 'A2M',\n",
       " 'A2ML1',\n",
       " 'A3GALT2',\n",
       " 'A4GALT',\n",
       " 'A4GNT',\n",
       " 'AAAS',\n",
       " 'AACS',\n",
       " 'AADAC',\n",
       " 'AADACL2',\n",
       " 'AADACL3',\n",
       " 'AADACL4',\n",
       " 'AADAT',\n",
       " 'AAGAB',\n",
       " 'AAK1',\n",
       " 'AAMDC',\n",
       " 'AAMP',\n",
       " 'AANAT',\n",
       " 'AAR2',\n",
       " 'AARD',\n",
       " 'AARS1',\n",
       " 'AARS2',\n",
       " 'AARSD1',\n",
       " 'AASDH',\n",
       " 'AASDHPPT',\n",
       " 'AASS',\n",
       " 'AATF',\n",
       " 'AATK',\n",
       " 'ABAT',\n",
       " 'ABCA1',\n",
       " 'ABCA2',\n",
       " 'ABCA3',\n",
       " 'ABCA4',\n",
       " 'ABCA5',\n",
       " 'ABCA6',\n",
       " 'ABCA7',\n",
       " 'ABCA8',\n",
       " 'ABCA9',\n",
       " 'ABCA10',\n",
       " 'ABCA12',\n",
       " 'ABCA13',\n",
       " 'ABCB1',\n",
       " 'ABCB4',\n",
       " 'ABCB5',\n",
       " 'ABCB6',\n",
       " 'ABCB7',\n",
       " 'ABCB8',\n",
       " 'ABCB9',\n",
       " 'ABCB10',\n",
       " 'ABCB11',\n",
       " 'ABCC1',\n",
       " 'ABCC2',\n",
       " 'ABCC3',\n",
       " 'ABCC4',\n",
       " 'ABCC5',\n",
       " 'ABCC6',\n",
       " 'ABCC8',\n",
       " 'ABCC9',\n",
       " 'ABCC10',\n",
       " 'ABCC11',\n",
       " 'ABCC12',\n",
       " 'ABCD1',\n",
       " 'ABCD2',\n",
       " 'ABCD3',\n",
       " 'ABCD4',\n",
       " 'ABCE1',\n",
       " 'ABCF1',\n",
       " 'ABCF2',\n",
       " 'ABCF3',\n",
       " 'ABCG1',\n",
       " 'ABCG2',\n",
       " 'ABCG4',\n",
       " 'ABCG5',\n",
       " 'ABCG8',\n",
       " 'ABHD1',\n",
       " 'ABHD2',\n",
       " 'ABHD3',\n",
       " 'ABHD4',\n",
       " 'ABHD5',\n",
       " 'ABHD6',\n",
       " 'ABHD8',\n",
       " 'ABHD10',\n",
       " 'ABHD11',\n",
       " 'ABHD12',\n",
       " 'ABHD12B',\n",
       " 'ABHD13',\n",
       " 'ABHD14A',\n",
       " 'ABHD14B',\n",
       " 'ABHD15',\n",
       " 'ABHD16A',\n",
       " 'ABHD16B',\n",
       " 'ABHD17A',\n",
       " 'ABHD17B',\n",
       " 'ABHD17C',\n",
       " 'ABHD18',\n",
       " 'ABI1',\n",
       " 'ABI2',\n",
       " 'ABI3',\n",
       " 'ABI3BP',\n",
       " 'ABITRAM',\n",
       " 'ABL1',\n",
       " 'ABL2',\n",
       " 'ABLIM1',\n",
       " 'ABLIM2',\n",
       " 'ABLIM3',\n",
       " 'ABO',\n",
       " 'ABR',\n",
       " 'ABRA',\n",
       " 'ABRACL',\n",
       " 'ABRAXAS1',\n",
       " 'ABRAXAS2',\n",
       " 'ABT1',\n",
       " 'ABTB1',\n",
       " 'ABTB2',\n",
       " 'ACAA1',\n",
       " 'ACAA2',\n",
       " 'ACACA',\n",
       " 'ACACB',\n",
       " 'ACAD8',\n",
       " 'ACAD9',\n",
       " 'ACAD10',\n",
       " 'ACAD11',\n",
       " 'ACADL',\n",
       " 'ACADM',\n",
       " 'ACADS',\n",
       " 'ACADSB',\n",
       " 'ACADVL',\n",
       " 'ACAN',\n",
       " 'ACAP1',\n",
       " 'ACAP2',\n",
       " 'ACAP3',\n",
       " 'ACAT1',\n",
       " 'ACAT2',\n",
       " 'ACBD3',\n",
       " 'ACBD4',\n",
       " 'ACBD5',\n",
       " 'ACBD6',\n",
       " 'ACBD7',\n",
       " 'ACCS',\n",
       " 'ACCSL',\n",
       " 'ACD',\n",
       " 'ACE',\n",
       " 'ACE2',\n",
       " 'ACER1',\n",
       " 'ACER2',\n",
       " 'ACER3',\n",
       " 'ACHE',\n",
       " 'ACIN1',\n",
       " 'ACKR1',\n",
       " 'ACKR2',\n",
       " 'ACKR3',\n",
       " 'ACKR4',\n",
       " 'ACLY',\n",
       " 'ACMSD',\n",
       " 'ACO1',\n",
       " 'ACO2',\n",
       " 'ACOD1',\n",
       " 'ACOT1',\n",
       " 'ACOT2',\n",
       " 'ACOT4',\n",
       " 'ACOT6',\n",
       " 'ACOT7',\n",
       " 'ACOT8',\n",
       " 'ACOT9',\n",
       " 'ACOT11',\n",
       " 'ACOT12',\n",
       " 'ACOT13',\n",
       " 'ACOX1',\n",
       " 'ACOX2',\n",
       " 'ACOX3',\n",
       " 'ACOXL',\n",
       " 'ACP1',\n",
       " 'ACP2',\n",
       " 'ACP3',\n",
       " 'ACP4',\n",
       " 'ACP5',\n",
       " 'ACP6',\n",
       " 'ACP7',\n",
       " 'ACR',\n",
       " 'ACRBP',\n",
       " 'ACRV1',\n",
       " 'ACSBG1',\n",
       " 'ACSBG2',\n",
       " 'ACSF2',\n",
       " 'ACSF3',\n",
       " 'ACSL1',\n",
       " 'ACSL3',\n",
       " 'ACSL4',\n",
       " 'ACSL5',\n",
       " 'ACSL6',\n",
       " 'ACSM1',\n",
       " 'ACSM2A',\n",
       " 'ACSM2B',\n",
       " 'ACSM3',\n",
       " 'ACSM4',\n",
       " 'ACSM5',\n",
       " 'ACSM6',\n",
       " 'ACSS1',\n",
       " 'ACSS2',\n",
       " 'ACSS3',\n",
       " 'ACTA1',\n",
       " 'ACTA2',\n",
       " 'ACTB',\n",
       " 'ACTBL2',\n",
       " 'ACTC1',\n",
       " 'ACTG1',\n",
       " 'ACTG2',\n",
       " 'ACTL6A',\n",
       " 'ACTL6B',\n",
       " 'ACTL7A',\n",
       " 'ACTL7B',\n",
       " 'ACTL8',\n",
       " 'ACTL9',\n",
       " 'ACTL10',\n",
       " 'ACTN1',\n",
       " 'ACTN2',\n",
       " 'ACTN3',\n",
       " 'ACTN4',\n",
       " 'ACTR1A',\n",
       " 'ACTR1B',\n",
       " 'ACTR2',\n",
       " 'ACTR3',\n",
       " 'ACTR3B',\n",
       " 'ACTR3C',\n",
       " 'ACTR5',\n",
       " 'ACTR6',\n",
       " 'ACTR8',\n",
       " 'ACTR10',\n",
       " 'ACTRT1',\n",
       " 'ACTRT2',\n",
       " 'ACTRT3',\n",
       " 'ACVR1',\n",
       " 'ACVR1B',\n",
       " 'ACVR1C',\n",
       " 'ACVR2A',\n",
       " 'ACVR2B',\n",
       " 'ACVRL1',\n",
       " 'ACY1',\n",
       " 'ACY3',\n",
       " 'ACYP1',\n",
       " 'ACYP2',\n",
       " 'ADA']"
      ]
     },
     "execution_count": 116,
     "metadata": {},
     "output_type": "execute_result"
    }
   ],
   "source": [
    "list(map(lambda x: x.strip(), open('gene_list1.txt').readlines()))"
   ]
  },
  {
   "cell_type": "code",
   "execution_count": 119,
   "id": "82b4af12",
   "metadata": {},
   "outputs": [
    {
     "data": {
      "text/plain": [
       "[1, 2, 3]"
      ]
     },
     "execution_count": 119,
     "metadata": {},
     "output_type": "execute_result"
    }
   ],
   "source": [
    "x = ['1', '2', '3']\n",
    "list(map(lambda ele: int(ele), x))"
   ]
  },
  {
   "cell_type": "code",
   "execution_count": 120,
   "id": "ed7134ce",
   "metadata": {},
   "outputs": [
    {
     "data": {
      "text/plain": [
       "6"
      ]
     },
     "execution_count": 120,
     "metadata": {},
     "output_type": "execute_result"
    }
   ],
   "source": [
    "sum(map(lambda ele: int(ele), x))"
   ]
  },
  {
   "cell_type": "code",
   "execution_count": 121,
   "id": "35eb25b6",
   "metadata": {},
   "outputs": [
    {
     "data": {
      "text/plain": [
       "[{'value': 34.4}, {'value': 45.3}, {'value': 73.4}]"
      ]
     },
     "execution_count": 121,
     "metadata": {},
     "output_type": "execute_result"
    }
   ],
   "source": [
    "my_dict = [{'value': '34.4'}, {'value': '45.3'}, {'value': '73.4'}]\n",
    "\n",
    "list(map(lambda ele: {'value': float(ele['value'])}, my_dict))"
   ]
  },
  {
   "cell_type": "code",
   "execution_count": 122,
   "id": "043ce61b",
   "metadata": {},
   "outputs": [
    {
     "name": "stdout",
     "output_type": "stream",
     "text": [
      "{1970: False,\n",
      " 1971: False,\n",
      " 1972: True,\n",
      " 1973: False,\n",
      " 1974: False,\n",
      " 1975: False,\n",
      " 1976: True,\n",
      " 1977: False,\n",
      " 1978: False,\n",
      " 1979: False,\n",
      " 1980: True,\n",
      " 1981: False,\n",
      " 1982: False,\n",
      " 1983: False,\n",
      " 1984: True,\n",
      " 1985: False,\n",
      " 1986: False,\n",
      " 1987: False,\n",
      " 1988: True,\n",
      " 1989: False,\n",
      " 1990: False,\n",
      " 1991: False,\n",
      " 1992: True,\n",
      " 1993: False,\n",
      " 1994: False,\n",
      " 1995: False,\n",
      " 1996: True,\n",
      " 1997: False,\n",
      " 1998: False,\n",
      " 1999: False}\n",
      "[1972, 1976, 1980, 1984, 1988, 1992, 1996]\n"
     ]
    }
   ],
   "source": [
    "years = range(1970, 2000) # for these years\n",
    "\n",
    "def is_leap_year(year):\n",
    "    # does not work for century year\n",
    "    if year % 4 == 0:\n",
    "        return True\n",
    "    else:\n",
    "        return False\n",
    "\n",
    "my_dict = {}\n",
    "leap_years = []\n",
    "for year in years:\n",
    "    my_dict.update({year: is_leap_year(year)})\n",
    "    if is_leap_year(year):\n",
    "        leap_years.append(year)\n",
    "\n",
    "import pprint\n",
    "pprint.pprint(my_dict)\n",
    "print(leap_years)"
   ]
  },
  {
   "cell_type": "code",
   "execution_count": 123,
   "id": "5e056044",
   "metadata": {},
   "outputs": [
    {
     "data": {
      "text/plain": [
       "[3, 4, 5]"
      ]
     },
     "execution_count": 123,
     "metadata": {},
     "output_type": "execute_result"
    }
   ],
   "source": [
    "x = [1, 2, 3, 4, 5]\n",
    "\n",
    "list(filter(lambda ele: ele >=3, x))\n"
   ]
  },
  {
   "cell_type": "code",
   "execution_count": 124,
   "id": "730c2f3d",
   "metadata": {},
   "outputs": [
    {
     "data": {
      "text/plain": [
       "[1, 2, 3, 4, 5]"
      ]
     },
     "execution_count": 124,
     "metadata": {},
     "output_type": "execute_result"
    }
   ],
   "source": [
    "list(filter(lambda ele: True, x))\n"
   ]
  },
  {
   "cell_type": "code",
   "execution_count": 125,
   "id": "9cc53013",
   "metadata": {},
   "outputs": [
    {
     "data": {
      "text/plain": [
       "[1972, 1976, 1980, 1984, 1988, 1992, 1996]"
      ]
     },
     "execution_count": 125,
     "metadata": {},
     "output_type": "execute_result"
    }
   ],
   "source": [
    "list(filter(lambda ele: ele % 4 == 0, years))\n"
   ]
  },
  {
   "cell_type": "code",
   "execution_count": 127,
   "id": "7a253baa",
   "metadata": {},
   "outputs": [
    {
     "name": "stdout",
     "output_type": "stream",
     "text": [
      "[1972, 1976, 1980, 1984, 1988, 1992, 1996]\n",
      "[1972, 1976, 1980, 1984, 1988, 1992, 1996]\n"
     ]
    }
   ],
   "source": [
    "leap_year_lambda = lambda year: year % 4 == 0 \n",
    "\n",
    "filter(leap_year_lambda, range(1970, 2000))\n",
    "\n",
    "print(list(filter(lambda year: year % 4 == 0, range(1970, 2000))))\n",
    "print(list(filter(lambda year: is_leap_year(year), range(1970, 2000))))\n"
   ]
  },
  {
   "cell_type": "code",
   "execution_count": 129,
   "id": "552377d0",
   "metadata": {},
   "outputs": [
    {
     "name": "stdout",
     "output_type": "stream",
     "text": [
      "['1972 is a leap year!', '1976 is a leap year!', '1980 is a leap year!', '1984 is a leap year!', '1988 is a leap year!', '1992 is a leap year!', '1996 is a leap year!']\n"
     ]
    }
   ],
   "source": [
    "# # combining map with filter\n",
    "\n",
    "print(list(map(lambda year: f'{year} is a leap year!', filter(lambda year: year % 4 == 0, range(1970, 2000)) )))"
   ]
  },
  {
   "cell_type": "code",
   "execution_count": null,
   "id": "8f1e73e4",
   "metadata": {},
   "outputs": [],
   "source": [
    "# map(func, sequence) --> map(func, filter(func, sequence))"
   ]
  },
  {
   "cell_type": "code",
   "execution_count": 130,
   "id": "78a2a538",
   "metadata": {},
   "outputs": [
    {
     "name": "stdout",
     "output_type": "stream",
     "text": [
      "['1972 is a leap year', '1976 is a leap year', '1980 is a leap year', '1984 is a leap year', '1988 is a leap year', '1992 is a leap year', '1996 is a leap year']\n"
     ]
    }
   ],
   "source": [
    "print([f'{year} is a leap year' for year in range(1970, 2000) if year % 4 == 0])"
   ]
  },
  {
   "cell_type": "code",
   "execution_count": 131,
   "id": "239b3ad4",
   "metadata": {},
   "outputs": [],
   "source": [
    "x = (('efg', 1), ('abc', 3), ('hij', 2))\n"
   ]
  },
  {
   "cell_type": "code",
   "execution_count": 132,
   "id": "4b1a83f2",
   "metadata": {},
   "outputs": [
    {
     "data": {
      "text/plain": [
       "(('efg', 1), ('abc', 3), ('hij', 2))"
      ]
     },
     "execution_count": 132,
     "metadata": {},
     "output_type": "execute_result"
    }
   ],
   "source": [
    "x"
   ]
  },
  {
   "cell_type": "code",
   "execution_count": 133,
   "id": "b1e6d6ea",
   "metadata": {},
   "outputs": [
    {
     "data": {
      "text/plain": [
       "[('abc', 3), ('efg', 1), ('hij', 2)]"
      ]
     },
     "execution_count": 133,
     "metadata": {},
     "output_type": "execute_result"
    }
   ],
   "source": [
    "sorted(x)"
   ]
  },
  {
   "cell_type": "code",
   "execution_count": 134,
   "id": "4060559d",
   "metadata": {},
   "outputs": [
    {
     "name": "stdout",
     "output_type": "stream",
     "text": [
      "[('efg', 1), ('hij', 2), ('abc', 3)]\n"
     ]
    }
   ],
   "source": [
    "print(sorted(x, key=lambda ele: ele[1]))"
   ]
  },
  {
   "cell_type": "code",
   "execution_count": 135,
   "id": "ff507fa8",
   "metadata": {},
   "outputs": [
    {
     "name": "stdout",
     "output_type": "stream",
     "text": [
      "[{'grade': 89, 'username': 'Kelly'}, {'username': 'doe', 'grade': 35}, {'username': 'jane', 'grade': 80}, {'username': 'john', 'grade': 50}]\n"
     ]
    }
   ],
   "source": [
    "students = [\n",
    "    {'username': 'john', 'grade': 50},\n",
    "    {'username': 'jane', 'grade': 80},\n",
    "    {'username': 'doe', 'grade': 35},\n",
    "    {'grade': 89, 'username': 'Kelly'}\n",
    "]\n",
    "\n",
    "print(sorted(students, key=lambda student: student['username']))"
   ]
  },
  {
   "cell_type": "code",
   "execution_count": 136,
   "id": "6bcae639",
   "metadata": {},
   "outputs": [
    {
     "name": "stdout",
     "output_type": "stream",
     "text": [
      "[{'username': 'john', 'grade': 50}, {'username': 'jane', 'grade': 80}, {'username': 'doe', 'grade': 35}, {'grade': 89, 'username': 'Kelly'}]\n"
     ]
    }
   ],
   "source": [
    "print(sorted(students, key=lambda student: student['username'], reverse=True))"
   ]
  },
  {
   "cell_type": "code",
   "execution_count": 140,
   "id": "157767cb",
   "metadata": {},
   "outputs": [
    {
     "name": "stdout",
     "output_type": "stream",
     "text": [
      "[{'grade': 89, 'username': 'Kelly'}, {'username': 'jane', 'grade': 80}, {'username': 'john', 'grade': 50}, {'username': 'doe', 'grade': 35}]\n"
     ]
    }
   ],
   "source": [
    "print(sorted(students, key=lambda student: int(student['grade']),reverse=True))"
   ]
  },
  {
   "cell_type": "code",
   "execution_count": 141,
   "id": "fe2f3198",
   "metadata": {},
   "outputs": [
    {
     "name": "stdout",
     "output_type": "stream",
     "text": [
      "Janette\n"
     ]
    }
   ],
   "source": [
    "students = ['john', 'Janette', 'doe']\n",
    "print(min(students))"
   ]
  },
  {
   "cell_type": "code",
   "execution_count": 142,
   "id": "eb9e63e7",
   "metadata": {},
   "outputs": [
    {
     "name": "stdout",
     "output_type": "stream",
     "text": [
      "doe\n"
     ]
    }
   ],
   "source": [
    "print(min(students, key=lambda ele: len(ele)))"
   ]
  },
  {
   "cell_type": "code",
   "execution_count": 143,
   "id": "6c16b237",
   "metadata": {},
   "outputs": [
    {
     "name": "stdout",
     "output_type": "stream",
     "text": [
      "Janette\n"
     ]
    }
   ],
   "source": [
    "print(max(students, key=len))"
   ]
  },
  {
   "cell_type": "code",
   "execution_count": 145,
   "id": "c1ce518d",
   "metadata": {},
   "outputs": [
    {
     "name": "stdout",
     "output_type": "stream",
     "text": [
      "{'value': '73.4'}\n"
     ]
    }
   ],
   "source": [
    "my_list = [{'value': '34.4'}, {'value': '45.3'}, {'value': '73.4'}]\n",
    "print(max(my_list, key=lambda ele: float(ele['value'])))"
   ]
  },
  {
   "cell_type": "code",
   "execution_count": 150,
   "id": "111b9015",
   "metadata": {},
   "outputs": [
    {
     "data": {
      "text/plain": [
       "[(1, 'a', 3.5), (3, 'Z', 90)]"
      ]
     },
     "execution_count": 150,
     "metadata": {},
     "output_type": "execute_result"
    }
   ],
   "source": [
    "import operator\n",
    "x = (\n",
    "    (1, 'a', 3.5), \n",
    "    (3, 'Z', 90)\n",
    ")\n",
    "sorted(x, key=operator.itemgetter(2))"
   ]
  },
  {
   "cell_type": "code",
   "execution_count": 151,
   "id": "f1d6803f",
   "metadata": {},
   "outputs": [
    {
     "data": {
      "text/plain": [
       "[{'name': 'student2',\n",
       "  'test1': '100',\n",
       "  'test2': '90',\n",
       "  'test3': '65',\n",
       "  'test4': '68',\n",
       "  'test5': '94'},\n",
       " {'name': 'student31',\n",
       "  'test1': '90',\n",
       "  'test2': '87',\n",
       "  'test3': '66',\n",
       "  'test4': '95',\n",
       "  'test5': '72'},\n",
       " {'name': 'student83',\n",
       "  'test1': '88',\n",
       "  'test2': '76',\n",
       "  'test3': '65',\n",
       "  'test4': '97',\n",
       "  'test5': '82'}]"
      ]
     },
     "execution_count": 151,
     "metadata": {},
     "output_type": "execute_result"
    }
   ],
   "source": [
    "import operator\n",
    "x = [\n",
    "    {'name': 'student2', 'test1': '100', 'test2': '90','test3': '65', 'test4': '68', 'test5': '94'},\n",
    "    {'name': 'student83', 'test1': '88', 'test2': '76', 'test3': '65', 'test4': '97', 'test5': '82'},\n",
    "    {'name': 'student31', 'test1': '90', 'test2': '87', 'test3': '66', 'test4': '95', 'test5': '72'}\n",
    "]\n",
    "\n",
    "sorted(x, key=operator.itemgetter('name'))\n"
   ]
  },
  {
   "cell_type": "code",
   "execution_count": 152,
   "id": "3d5f43f8",
   "metadata": {},
   "outputs": [
    {
     "data": {
      "text/plain": [
       "[{'name': 'student2',\n",
       "  'test1': '100',\n",
       "  'test2': '90',\n",
       "  'test3': '65',\n",
       "  'test4': '68',\n",
       "  'test5': '94'},\n",
       " {'name': 'student83',\n",
       "  'test1': '88',\n",
       "  'test2': '76',\n",
       "  'test3': '65',\n",
       "  'test4': '97',\n",
       "  'test5': '82'},\n",
       " {'name': 'student31',\n",
       "  'test1': '90',\n",
       "  'test2': '87',\n",
       "  'test3': '66',\n",
       "  'test4': '95',\n",
       "  'test5': '72'}]"
      ]
     },
     "execution_count": 152,
     "metadata": {},
     "output_type": "execute_result"
    }
   ],
   "source": [
    "sorted(x, key=operator.itemgetter('test1'))"
   ]
  },
  {
   "cell_type": "code",
   "execution_count": 154,
   "id": "8d496972",
   "metadata": {},
   "outputs": [
    {
     "data": {
      "text/plain": [
       "[{'name': 'student83',\n",
       "  'test1': '88',\n",
       "  'test2': '76',\n",
       "  'test3': '65',\n",
       "  'test4': '97',\n",
       "  'test5': '82'},\n",
       " {'name': 'student31',\n",
       "  'test1': '90',\n",
       "  'test2': '87',\n",
       "  'test3': '66',\n",
       "  'test4': '95',\n",
       "  'test5': '72'},\n",
       " {'name': 'student2',\n",
       "  'test1': '100',\n",
       "  'test2': '90',\n",
       "  'test3': '65',\n",
       "  'test4': '68',\n",
       "  'test5': '94'}]"
      ]
     },
     "execution_count": 154,
     "metadata": {},
     "output_type": "execute_result"
    }
   ],
   "source": [
    "sorted(x, key=lambda ele: int(ele['test1']))"
   ]
  },
  {
   "cell_type": "code",
   "execution_count": 155,
   "id": "4e449df5",
   "metadata": {},
   "outputs": [
    {
     "data": {
      "text/plain": [
       "[(1, 10, 2), (2, 1, 3), (2, 2, 3)]"
      ]
     },
     "execution_count": 155,
     "metadata": {},
     "output_type": "execute_result"
    }
   ],
   "source": [
    "x = (\n",
    "    (2, 2, 3),\n",
    "    (2, 1, 3),\n",
    "    (1, 10, 2),\n",
    ")\n",
    "\n",
    "sorted(x, key=lambda ele: (ele[0], ele[1]))"
   ]
  },
  {
   "cell_type": "code",
   "execution_count": 157,
   "id": "2e326f4c",
   "metadata": {},
   "outputs": [
    {
     "data": {
      "text/plain": [
       "[('AMD', 'Advanced Micro Devices, Inc.', '$120.88', '+4.27', '121,475,927'),\n",
       " ('AAPL', 'Apple Inc.', '$164.71', '+1.97', '80,725,613'),\n",
       " ('NVDA', 'NVIDIA Corporation', '$240.82', '+3.34', '49,046,544'),\n",
       " ('OPEN', 'Opendoor Technologies Inc', '$8.42', '-2.55', '53,559,847'),\n",
       " ('ZNGA', 'Zynga Inc.', '$9.18', '+0.37', '48,193,380')]"
      ]
     },
     "execution_count": 157,
     "metadata": {},
     "output_type": "execute_result"
    }
   ],
   "source": [
    "data = (\n",
    "    ('AMD', 'Advanced Micro Devices, Inc.',\n",
    "     '$120.88', '+4.27', '121,475,927'),\n",
    "    ('AAPL', 'Apple Inc.', '$164.71', '+1.97', '80,725,613'),\n",
    "    ('OPEN', 'Opendoor Technologies Inc', '$8.42', '-2.55', '53,559,847'),\n",
    "    ('NVDA', 'NVIDIA Corporation', '$240.82', '+3.34', '49,046,544'),\n",
    "    ('ZNGA', 'Zynga Inc.', '$9.18', '+0.37', '48,193,380'),\n",
    ")\n",
    "sorted(data, key=operator.itemgetter(2))"
   ]
  },
  {
   "cell_type": "code",
   "execution_count": 158,
   "id": "800cdf10",
   "metadata": {},
   "outputs": [
    {
     "data": {
      "text/plain": [
       "[('OPEN', 'Opendoor Technologies Inc', '$8.42', '-2.55', '53,559,847'),\n",
       " ('ZNGA', 'Zynga Inc.', '$9.18', '+0.37', '48,193,380'),\n",
       " ('AMD', 'Advanced Micro Devices, Inc.', '$120.88', '+4.27', '121,475,927'),\n",
       " ('AAPL', 'Apple Inc.', '$164.71', '+1.97', '80,725,613'),\n",
       " ('NVDA', 'NVIDIA Corporation', '$240.82', '+3.34', '49,046,544')]"
      ]
     },
     "execution_count": 158,
     "metadata": {},
     "output_type": "execute_result"
    }
   ],
   "source": [
    "data = (\n",
    "    ('AMD', 'Advanced Micro Devices, Inc.',\n",
    "     '$120.88', '+4.27', '121,475,927'),\n",
    "    ('AAPL', 'Apple Inc.', '$164.71', '+1.97', '80,725,613'),\n",
    "    ('OPEN', 'Opendoor Technologies Inc', '$8.42', '-2.55', '53,559,847'),\n",
    "    ('NVDA', 'NVIDIA Corporation', '$240.82', '+3.34', '49,046,544'),\n",
    "    ('ZNGA', 'Zynga Inc.', '$9.18', '+0.37', '48,193,380'),\n",
    ")\n",
    "sorted(data, key=lambda ele: float(ele[2].replace('$', '')))"
   ]
  },
  {
   "cell_type": "code",
   "execution_count": null,
   "id": "7fcb41b5",
   "metadata": {},
   "outputs": [],
   "source": []
  }
 ],
 "metadata": {
  "kernelspec": {
   "display_name": "Python 3 (ipykernel)",
   "language": "python",
   "name": "python3"
  },
  "language_info": {
   "codemirror_mode": {
    "name": "ipython",
    "version": 3
   },
   "file_extension": ".py",
   "mimetype": "text/x-python",
   "name": "python",
   "nbconvert_exporter": "python",
   "pygments_lexer": "ipython3",
   "version": "3.9.13"
  }
 },
 "nbformat": 4,
 "nbformat_minor": 5
}
