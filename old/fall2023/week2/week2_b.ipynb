{
 "cells": [
  {
   "cell_type": "code",
   "execution_count": 33,
   "id": "72b2e617",
   "metadata": {},
   "outputs": [],
   "source": [
    "def my_func(x,y):\n",
    "    '''\n",
    "    help for this function\n",
    "    '''\n",
    "    # being solution\n",
    "    pass\n",
    "\n",
    "    # end solution"
   ]
  },
  {
   "cell_type": "code",
   "execution_count": 34,
   "id": "6f2b9fd7",
   "metadata": {},
   "outputs": [
    {
     "name": "stdout",
     "output_type": "stream",
     "text": [
      "Help on function my_func in module __main__:\n",
      "\n",
      "my_func(x, y)\n",
      "    help for this function\n",
      "\n"
     ]
    }
   ],
   "source": [
    "help(my_func)"
   ]
  },
  {
   "cell_type": "code",
   "execution_count": 1,
   "id": "f1c6a898",
   "metadata": {},
   "outputs": [],
   "source": [
    "my_string = 'EAS503'"
   ]
  },
  {
   "cell_type": "code",
   "execution_count": 2,
   "id": "c0b5c394",
   "metadata": {},
   "outputs": [],
   "source": [
    "my_string = \"EAS503\""
   ]
  },
  {
   "cell_type": "code",
   "execution_count": null,
   "id": "e4766f9c",
   "metadata": {},
   "outputs": [],
   "source": [
    "my_string = \"EAS503'"
   ]
  },
  {
   "cell_type": "code",
   "execution_count": null,
   "id": "7443c555",
   "metadata": {},
   "outputs": [],
   "source": [
    "'3.14'"
   ]
  },
  {
   "cell_type": "code",
   "execution_count": 3,
   "id": "d64fc4f8",
   "metadata": {},
   "outputs": [
    {
     "data": {
      "text/plain": [
       "6"
      ]
     },
     "execution_count": 3,
     "metadata": {},
     "output_type": "execute_result"
    }
   ],
   "source": [
    "len(my_string)"
   ]
  },
  {
   "cell_type": "code",
   "execution_count": 4,
   "id": "288dc869",
   "metadata": {},
   "outputs": [
    {
     "data": {
      "text/plain": [
       "'ABCD'"
      ]
     },
     "execution_count": 4,
     "metadata": {},
     "output_type": "execute_result"
    }
   ],
   "source": [
    "str1 = 'AB'\n",
    "str2 = 'CD'\n",
    "\n",
    "str1 + str2"
   ]
  },
  {
   "cell_type": "code",
   "execution_count": 5,
   "id": "c88adae3",
   "metadata": {},
   "outputs": [
    {
     "ename": "TypeError",
     "evalue": "can only concatenate str (not \"int\") to str",
     "output_type": "error",
     "traceback": [
      "\u001b[1;31m---------------------------------------------------------------------------\u001b[0m",
      "\u001b[1;31mTypeError\u001b[0m                                 Traceback (most recent call last)",
      "\u001b[1;32m~\\AppData\\Local\\Temp\\ipykernel_7312\\146420088.py\u001b[0m in \u001b[0;36m<module>\u001b[1;34m\u001b[0m\n\u001b[1;32m----> 1\u001b[1;33m \u001b[0mstr1\u001b[0m \u001b[1;33m+\u001b[0m \u001b[1;36m1\u001b[0m\u001b[1;33m\u001b[0m\u001b[1;33m\u001b[0m\u001b[0m\n\u001b[0m",
      "\u001b[1;31mTypeError\u001b[0m: can only concatenate str (not \"int\") to str"
     ]
    }
   ],
   "source": [
    "str1 + 1"
   ]
  },
  {
   "cell_type": "code",
   "execution_count": 7,
   "id": "5839adb2",
   "metadata": {},
   "outputs": [
    {
     "ename": "TypeError",
     "evalue": "unsupported operand type(s) for +: 'int' and 'str'",
     "output_type": "error",
     "traceback": [
      "\u001b[1;31m---------------------------------------------------------------------------\u001b[0m",
      "\u001b[1;31mTypeError\u001b[0m                                 Traceback (most recent call last)",
      "\u001b[1;32m~\\AppData\\Local\\Temp\\ipykernel_7312\\3393721357.py\u001b[0m in \u001b[0;36m<module>\u001b[1;34m\u001b[0m\n\u001b[1;32m----> 1\u001b[1;33m \u001b[1;36m1\u001b[0m \u001b[1;33m+\u001b[0m \u001b[0mstr1\u001b[0m\u001b[1;33m\u001b[0m\u001b[1;33m\u001b[0m\u001b[0m\n\u001b[0m",
      "\u001b[1;31mTypeError\u001b[0m: unsupported operand type(s) for +: 'int' and 'str'"
     ]
    }
   ],
   "source": [
    "1 + str1"
   ]
  },
  {
   "cell_type": "code",
   "execution_count": 8,
   "id": "b3fcd7e1",
   "metadata": {},
   "outputs": [
    {
     "ename": "TypeError",
     "evalue": "unsupported operand type(s) for /: 'str' and 'str'",
     "output_type": "error",
     "traceback": [
      "\u001b[1;31m---------------------------------------------------------------------------\u001b[0m",
      "\u001b[1;31mTypeError\u001b[0m                                 Traceback (most recent call last)",
      "\u001b[1;32m~\\AppData\\Local\\Temp\\ipykernel_7312\\834665631.py\u001b[0m in \u001b[0;36m<module>\u001b[1;34m\u001b[0m\n\u001b[1;32m----> 1\u001b[1;33m \u001b[0mstr1\u001b[0m \u001b[1;33m/\u001b[0m \u001b[0mstr2\u001b[0m\u001b[1;33m\u001b[0m\u001b[1;33m\u001b[0m\u001b[0m\n\u001b[0m",
      "\u001b[1;31mTypeError\u001b[0m: unsupported operand type(s) for /: 'str' and 'str'"
     ]
    }
   ],
   "source": [
    "str1 / str2"
   ]
  },
  {
   "cell_type": "code",
   "execution_count": 10,
   "id": "d1afbd48",
   "metadata": {},
   "outputs": [
    {
     "data": {
      "text/plain": [
       "'ABC ABC ABC ABC ABC '"
      ]
     },
     "execution_count": 10,
     "metadata": {},
     "output_type": "execute_result"
    }
   ],
   "source": [
    "str1 = 'ABC '\n",
    "str1 * 5"
   ]
  },
  {
   "cell_type": "code",
   "execution_count": 11,
   "id": "5e748a06",
   "metadata": {},
   "outputs": [
    {
     "data": {
      "text/plain": [
       "'ABC ABC ABC ABC ABC '"
      ]
     },
     "execution_count": 11,
     "metadata": {},
     "output_type": "execute_result"
    }
   ],
   "source": [
    "5 * str1"
   ]
  },
  {
   "cell_type": "code",
   "execution_count": 12,
   "id": "4b159e82",
   "metadata": {},
   "outputs": [],
   "source": [
    "x = 1\n",
    "x = x + 1"
   ]
  },
  {
   "cell_type": "code",
   "execution_count": 13,
   "id": "8e32c553",
   "metadata": {},
   "outputs": [],
   "source": [
    "x += 1"
   ]
  },
  {
   "cell_type": "code",
   "execution_count": 14,
   "id": "f42fe12f",
   "metadata": {},
   "outputs": [],
   "source": [
    "str1 = 'ABC '\n",
    "str1 += 'EFG'"
   ]
  },
  {
   "cell_type": "code",
   "execution_count": 15,
   "id": "08a86002",
   "metadata": {},
   "outputs": [
    {
     "data": {
      "text/plain": [
       "'ABC EFG'"
      ]
     },
     "execution_count": 15,
     "metadata": {},
     "output_type": "execute_result"
    }
   ],
   "source": [
    "str1"
   ]
  },
  {
   "cell_type": "code",
   "execution_count": 16,
   "id": "9a945845",
   "metadata": {},
   "outputs": [],
   "source": [
    "str = 'ABC'"
   ]
  },
  {
   "cell_type": "code",
   "execution_count": 17,
   "id": "3e946160",
   "metadata": {},
   "outputs": [],
   "source": [
    "str += 'EFG'"
   ]
  },
  {
   "cell_type": "code",
   "execution_count": 18,
   "id": "9c72031f",
   "metadata": {},
   "outputs": [
    {
     "data": {
      "text/plain": [
       "'ABCEFG'"
      ]
     },
     "execution_count": 18,
     "metadata": {},
     "output_type": "execute_result"
    }
   ],
   "source": [
    "str"
   ]
  },
  {
   "cell_type": "code",
   "execution_count": 19,
   "id": "d19f8734",
   "metadata": {},
   "outputs": [],
   "source": [
    "del str"
   ]
  },
  {
   "cell_type": "code",
   "execution_count": 20,
   "id": "41d72feb",
   "metadata": {},
   "outputs": [
    {
     "data": {
      "text/plain": [
       "type"
      ]
     },
     "execution_count": 20,
     "metadata": {},
     "output_type": "execute_result"
    }
   ],
   "source": [
    "type(str)"
   ]
  },
  {
   "cell_type": "code",
   "execution_count": 21,
   "id": "d375ec42",
   "metadata": {},
   "outputs": [
    {
     "ename": "SyntaxError",
     "evalue": "invalid syntax (347067884.py, line 1)",
     "output_type": "error",
     "traceback": [
      "\u001b[1;36m  File \u001b[1;32m\"C:\\Users\\mkhaw\\AppData\\Local\\Temp\\ipykernel_7312\\347067884.py\"\u001b[1;36m, line \u001b[1;32m1\u001b[0m\n\u001b[1;33m    in = 32\u001b[0m\n\u001b[1;37m    ^\u001b[0m\n\u001b[1;31mSyntaxError\u001b[0m\u001b[1;31m:\u001b[0m invalid syntax\n"
     ]
    }
   ],
   "source": [
    "in = 32"
   ]
  },
  {
   "cell_type": "code",
   "execution_count": 22,
   "id": "688db9e4",
   "metadata": {},
   "outputs": [
    {
     "data": {
      "text/plain": [
       "3"
      ]
     },
     "execution_count": 22,
     "metadata": {},
     "output_type": "execute_result"
    }
   ],
   "source": [
    "int(\"3\")"
   ]
  },
  {
   "cell_type": "code",
   "execution_count": 23,
   "id": "c94a5dc3",
   "metadata": {},
   "outputs": [
    {
     "ename": "ValueError",
     "evalue": "invalid literal for int() with base 10: '3.14'",
     "output_type": "error",
     "traceback": [
      "\u001b[1;31m---------------------------------------------------------------------------\u001b[0m",
      "\u001b[1;31mValueError\u001b[0m                                Traceback (most recent call last)",
      "\u001b[1;32m~\\AppData\\Local\\Temp\\ipykernel_7312\\2090256601.py\u001b[0m in \u001b[0;36m<module>\u001b[1;34m\u001b[0m\n\u001b[1;32m----> 1\u001b[1;33m \u001b[0mint\u001b[0m\u001b[1;33m(\u001b[0m\u001b[1;34m'3.14'\u001b[0m\u001b[1;33m)\u001b[0m\u001b[1;33m\u001b[0m\u001b[1;33m\u001b[0m\u001b[0m\n\u001b[0m",
      "\u001b[1;31mValueError\u001b[0m: invalid literal for int() with base 10: '3.14'"
     ]
    }
   ],
   "source": [
    "int('3.14')"
   ]
  },
  {
   "cell_type": "code",
   "execution_count": 30,
   "id": "9e9e3813",
   "metadata": {},
   "outputs": [
    {
     "ename": "SyntaxError",
     "evalue": "EOL while scanning string literal (2143285813.py, line 1)",
     "output_type": "error",
     "traceback": [
      "\u001b[1;36m  File \u001b[1;32m\"C:\\Users\\mkhaw\\AppData\\Local\\Temp\\ipykernel_7312\\2143285813.py\"\u001b[1;36m, line \u001b[1;32m1\u001b[0m\n\u001b[1;33m    a = '3.14\u001b[0m\n\u001b[1;37m                   ^\u001b[0m\n\u001b[1;31mSyntaxError\u001b[0m\u001b[1;31m:\u001b[0m EOL while scanning string literal\n"
     ]
    }
   ],
   "source": [
    "a = '3.14      \n",
    "'\n",
    "\n",
    "float(a)"
   ]
  },
  {
   "cell_type": "code",
   "execution_count": 25,
   "id": "3e826b47",
   "metadata": {},
   "outputs": [
    {
     "ename": "ValueError",
     "evalue": "invalid literal for int() with base 10: '3.14'",
     "output_type": "error",
     "traceback": [
      "\u001b[1;31m---------------------------------------------------------------------------\u001b[0m",
      "\u001b[1;31mValueError\u001b[0m                                Traceback (most recent call last)",
      "\u001b[1;32m~\\AppData\\Local\\Temp\\ipykernel_7312\\766485689.py\u001b[0m in \u001b[0;36m<module>\u001b[1;34m\u001b[0m\n\u001b[1;32m----> 1\u001b[1;33m \u001b[0mint\u001b[0m\u001b[1;33m(\u001b[0m\u001b[0ma\u001b[0m\u001b[1;33m)\u001b[0m\u001b[1;33m\u001b[0m\u001b[1;33m\u001b[0m\u001b[0m\n\u001b[0m",
      "\u001b[1;31mValueError\u001b[0m: invalid literal for int() with base 10: '3.14'"
     ]
    }
   ],
   "source": [
    "int(a)"
   ]
  },
  {
   "cell_type": "code",
   "execution_count": 26,
   "id": "8401df6f",
   "metadata": {},
   "outputs": [
    {
     "data": {
      "text/plain": [
       "3"
      ]
     },
     "execution_count": 26,
     "metadata": {},
     "output_type": "execute_result"
    }
   ],
   "source": [
    "a = '3'\n",
    "int(a)"
   ]
  },
  {
   "cell_type": "code",
   "execution_count": 27,
   "id": "f3e4a81a",
   "metadata": {},
   "outputs": [
    {
     "data": {
      "text/plain": [
       "3.0"
      ]
     },
     "execution_count": 27,
     "metadata": {},
     "output_type": "execute_result"
    }
   ],
   "source": [
    "float(a)"
   ]
  },
  {
   "cell_type": "code",
   "execution_count": 29,
   "id": "d8186466",
   "metadata": {},
   "outputs": [
    {
     "name": "stdout",
     "output_type": "stream",
     "text": [
      "Should you want a string\n",
      "    that crosses multiple lines,\n",
      "    Use matched triple quotes.\n"
     ]
    }
   ],
   "source": [
    "print('''Should you want a string\n",
    "    that crosses multiple lines,\n",
    "    Use matched triple quotes.''')"
   ]
  },
  {
   "cell_type": "code",
   "execution_count": 35,
   "id": "1d03736c",
   "metadata": {},
   "outputs": [],
   "source": [
    "def f1():\n",
    "    '''\n",
    "    super cool f1 function\n",
    "    '''\n",
    "    \n",
    "    x = 1\n",
    "    y = 2\n",
    "    z = 3\n",
    "    \"\"\"\n",
    "    This is very nice\n",
    "    \"\"\""
   ]
  },
  {
   "cell_type": "code",
   "execution_count": null,
   "id": "a80593a5",
   "metadata": {},
   "outputs": [],
   "source": [
    "a\n",
    "b\n",
    "c"
   ]
  },
  {
   "cell_type": "code",
   "execution_count": 38,
   "id": "2fb069fc",
   "metadata": {},
   "outputs": [
    {
     "name": "stdout",
     "output_type": "stream",
     "text": [
      "3\n"
     ]
    }
   ],
   "source": [
    "x = 1\n",
    "\"\"\"\n",
    "x = x + 1\n",
    "\"\"\"\n",
    "\n",
    "x = 2 + x\n",
    "print(x)"
   ]
  },
  {
   "cell_type": "code",
   "execution_count": 40,
   "id": "7e8c4b6b",
   "metadata": {},
   "outputs": [
    {
     "data": {
      "text/plain": [
       "3"
      ]
     },
     "execution_count": 40,
     "metadata": {},
     "output_type": "execute_result"
    }
   ],
   "source": [
    "3"
   ]
  },
  {
   "cell_type": "code",
   "execution_count": 41,
   "id": "2ad8c86f",
   "metadata": {},
   "outputs": [
    {
     "name": "stdout",
     "output_type": "stream",
     "text": [
      "3\n"
     ]
    }
   ],
   "source": [
    "print(3)"
   ]
  },
  {
   "cell_type": "code",
   "execution_count": 42,
   "id": "574ad112",
   "metadata": {},
   "outputs": [
    {
     "data": {
      "text/plain": [
       "1"
      ]
     },
     "execution_count": 42,
     "metadata": {},
     "output_type": "execute_result"
    }
   ],
   "source": [
    "min(1, 2, 3, 4)"
   ]
  },
  {
   "cell_type": "code",
   "execution_count": 43,
   "id": "0bffcf5c",
   "metadata": {},
   "outputs": [
    {
     "name": "stdout",
     "output_type": "stream",
     "text": [
      "3 4 5 6 7\n"
     ]
    }
   ],
   "source": [
    "print(3, 4, 5, 6, 7)"
   ]
  },
  {
   "cell_type": "code",
   "execution_count": 44,
   "id": "c575a75a",
   "metadata": {},
   "outputs": [
    {
     "name": "stdout",
     "output_type": "stream",
     "text": [
      "line1 line2 line3\n"
     ]
    }
   ],
   "source": [
    "print('line1', 'line2', 'line3')"
   ]
  },
  {
   "cell_type": "code",
   "execution_count": 48,
   "id": "15a47743",
   "metadata": {},
   "outputs": [
    {
     "name": "stdout",
     "output_type": "stream",
     "text": [
      "line1----line2----line3\n"
     ]
    }
   ],
   "source": [
    "print('line1', 'line2', 'line3', sep='----')"
   ]
  },
  {
   "cell_type": "code",
   "execution_count": 49,
   "id": "912bc4e8",
   "metadata": {},
   "outputs": [
    {
     "name": "stdout",
     "output_type": "stream",
     "text": [
      "12\n"
     ]
    }
   ],
   "source": [
    "scientist = 'Issac Newton'\n",
    "print(len(scientist))"
   ]
  },
  {
   "cell_type": "code",
   "execution_count": 56,
   "id": "c3a52c94",
   "metadata": {},
   "outputs": [
    {
     "data": {
      "text/plain": [
       "3"
      ]
     },
     "execution_count": 56,
     "metadata": {},
     "output_type": "execute_result"
    }
   ],
   "source": [
    "a = '  b'\n",
    "len(a)"
   ]
  },
  {
   "cell_type": "code",
   "execution_count": null,
   "id": "26ff8082",
   "metadata": {},
   "outputs": [],
   "source": [
    "a = ' '\n",
    "len(a)"
   ]
  },
  {
   "cell_type": "code",
   "execution_count": 54,
   "id": "71befbf7",
   "metadata": {},
   "outputs": [
    {
     "data": {
      "text/plain": [
       "'Alan Turning Grace Hopper'"
      ]
     },
     "execution_count": 54,
     "metadata": {},
     "output_type": "execute_result"
    }
   ],
   "source": [
    "'Alan Turning' + ' ' + 'Grace Hopper'"
   ]
  },
  {
   "cell_type": "code",
   "execution_count": 57,
   "id": "a4da2a04",
   "metadata": {},
   "outputs": [
    {
     "ename": "TypeError",
     "evalue": "can only concatenate str (not \"int\") to str",
     "output_type": "error",
     "traceback": [
      "\u001b[1;31m---------------------------------------------------------------------------\u001b[0m",
      "\u001b[1;31mTypeError\u001b[0m                                 Traceback (most recent call last)",
      "\u001b[1;32m~\\AppData\\Local\\Temp\\ipykernel_7312\\2249529199.py\u001b[0m in \u001b[0;36m<module>\u001b[1;34m\u001b[0m\n\u001b[1;32m----> 1\u001b[1;33m \u001b[1;34m'NH'\u001b[0m \u001b[1;33m+\u001b[0m \u001b[1;36m3\u001b[0m\u001b[1;33m\u001b[0m\u001b[1;33m\u001b[0m\u001b[0m\n\u001b[0m",
      "\u001b[1;31mTypeError\u001b[0m: can only concatenate str (not \"int\") to str"
     ]
    }
   ],
   "source": [
    "'NH' + 3"
   ]
  },
  {
   "cell_type": "code",
   "execution_count": null,
   "id": "59082ae2",
   "metadata": {},
   "outputs": [],
   "source": [
    "'NH' + \"3\""
   ]
  },
  {
   "cell_type": "code",
   "execution_count": 58,
   "id": "d7eee6f6",
   "metadata": {},
   "outputs": [],
   "source": [
    "x = 'abc    '"
   ]
  },
  {
   "cell_type": "code",
   "execution_count": 59,
   "id": "2bd66bf7",
   "metadata": {},
   "outputs": [
    {
     "name": "stdout",
     "output_type": "stream",
     "text": [
      "abc    \n"
     ]
    }
   ],
   "source": [
    "print(x)"
   ]
  },
  {
   "cell_type": "code",
   "execution_count": 62,
   "id": "afda04ab",
   "metadata": {},
   "outputs": [],
   "source": [
    "x = 'abc    ' + 'adfs d '"
   ]
  },
  {
   "cell_type": "code",
   "execution_count": 64,
   "id": "66f21651",
   "metadata": {},
   "outputs": [
    {
     "data": {
      "text/plain": [
       "'abc    adfs d '"
      ]
     },
     "execution_count": 64,
     "metadata": {},
     "output_type": "execute_result"
    }
   ],
   "source": [
    "x"
   ]
  },
  {
   "cell_type": "code",
   "execution_count": 65,
   "id": "bc3d72e8",
   "metadata": {},
   "outputs": [
    {
     "name": "stdout",
     "output_type": "stream",
     "text": [
      "abc    adfs d \n"
     ]
    }
   ],
   "source": [
    "print(x)"
   ]
  },
  {
   "cell_type": "code",
   "execution_count": 66,
   "id": "e73f323e",
   "metadata": {},
   "outputs": [
    {
     "data": {
      "text/plain": [
       "'Four score and 7 years ago'"
      ]
     },
     "execution_count": 66,
     "metadata": {},
     "output_type": "execute_result"
    }
   ],
   "source": [
    "'Four score and ' + str(7) + ' years ago'"
   ]
  },
  {
   "cell_type": "code",
   "execution_count": 67,
   "id": "59f21d61",
   "metadata": {},
   "outputs": [
    {
     "name": "stdout",
     "output_type": "stream",
     "text": [
      "------------------------------------------------------------------------------------------\n",
      "abc\n",
      "------------------------------------------------------------------------------------------\n"
     ]
    }
   ],
   "source": [
    "header = '-' * 90\n",
    "x = 'abc'\n",
    "\n",
    "print(header, x, header, sep='\\n')"
   ]
  },
  {
   "cell_type": "code",
   "execution_count": 68,
   "id": "d72fc71b",
   "metadata": {},
   "outputs": [
    {
     "ename": "SyntaxError",
     "evalue": "invalid syntax (2110019819.py, line 1)",
     "output_type": "error",
     "traceback": [
      "\u001b[1;36m  File \u001b[1;32m\"C:\\Users\\mkhaw\\AppData\\Local\\Temp\\ipykernel_7312\\2110019819.py\"\u001b[1;36m, line \u001b[1;32m1\u001b[0m\n\u001b[1;33m    'don't do this'\u001b[0m\n\u001b[1;37m         ^\u001b[0m\n\u001b[1;31mSyntaxError\u001b[0m\u001b[1;31m:\u001b[0m invalid syntax\n"
     ]
    }
   ],
   "source": [
    "'don't do this'"
   ]
  },
  {
   "cell_type": "code",
   "execution_count": 70,
   "id": "125439f5",
   "metadata": {},
   "outputs": [],
   "source": [
    "x = 'don\\'t do this'"
   ]
  },
  {
   "cell_type": "code",
   "execution_count": 71,
   "id": "6c939e0f",
   "metadata": {},
   "outputs": [
    {
     "name": "stdout",
     "output_type": "stream",
     "text": [
      "don't do this\n"
     ]
    }
   ],
   "source": [
    "print(x)"
   ]
  },
  {
   "cell_type": "code",
   "execution_count": 72,
   "id": "47a19ac3",
   "metadata": {},
   "outputs": [
    {
     "data": {
      "text/plain": [
       "\"don't do this\""
      ]
     },
     "execution_count": 72,
     "metadata": {},
     "output_type": "execute_result"
    }
   ],
   "source": [
    "\"don\\'t do this\""
   ]
  },
  {
   "cell_type": "code",
   "execution_count": 73,
   "id": "e5fbf798",
   "metadata": {},
   "outputs": [
    {
     "data": {
      "text/plain": [
       "\"don't do this\""
      ]
     },
     "execution_count": 73,
     "metadata": {},
     "output_type": "execute_result"
    }
   ],
   "source": [
    "\"don't do this\""
   ]
  },
  {
   "cell_type": "code",
   "execution_count": 74,
   "id": "ce3ca915",
   "metadata": {},
   "outputs": [
    {
     "data": {
      "text/plain": [
       "'don\"t do this'"
      ]
     },
     "execution_count": 74,
     "metadata": {},
     "output_type": "execute_result"
    }
   ],
   "source": [
    "'don\"t do this'"
   ]
  },
  {
   "cell_type": "code",
   "execution_count": 78,
   "id": "3c499e16",
   "metadata": {},
   "outputs": [],
   "source": [
    "x = \"he said, \\\"don't do this\\\"\""
   ]
  },
  {
   "cell_type": "code",
   "execution_count": 79,
   "id": "8f5fcf5f",
   "metadata": {},
   "outputs": [
    {
     "name": "stdout",
     "output_type": "stream",
     "text": [
      "he said, \"don't do this\"\n"
     ]
    }
   ],
   "source": [
    "print(x)"
   ]
  },
  {
   "cell_type": "code",
   "execution_count": 80,
   "id": "80b30c06",
   "metadata": {},
   "outputs": [
    {
     "data": {
      "text/plain": [
       "'he said, \"don\\'t do this\"'"
      ]
     },
     "execution_count": 80,
     "metadata": {},
     "output_type": "execute_result"
    }
   ],
   "source": [
    "x"
   ]
  },
  {
   "cell_type": "code",
   "execution_count": 84,
   "id": "eba9513d",
   "metadata": {},
   "outputs": [
    {
     "data": {
      "text/plain": [
       "24"
      ]
     },
     "execution_count": 84,
     "metadata": {},
     "output_type": "execute_result"
    }
   ],
   "source": [
    "len(x)"
   ]
  },
  {
   "cell_type": "code",
   "execution_count": 83,
   "id": "af9f59b8",
   "metadata": {},
   "outputs": [
    {
     "name": "stdout",
     "output_type": "stream",
     "text": [
      "he said, \"don't do this\"\n"
     ]
    }
   ],
   "source": [
    "print(x)"
   ]
  },
  {
   "cell_type": "code",
   "execution_count": 85,
   "id": "53c1b36d",
   "metadata": {},
   "outputs": [
    {
     "name": "stdout",
     "output_type": "stream",
     "text": [
      "he said, \"don't do this\"\n"
     ]
    },
    {
     "ename": "TypeError",
     "evalue": "object of type 'NoneType' has no len()",
     "output_type": "error",
     "traceback": [
      "\u001b[1;31m---------------------------------------------------------------------------\u001b[0m",
      "\u001b[1;31mTypeError\u001b[0m                                 Traceback (most recent call last)",
      "\u001b[1;32m~\\AppData\\Local\\Temp\\ipykernel_7312\\260257344.py\u001b[0m in \u001b[0;36m<module>\u001b[1;34m\u001b[0m\n\u001b[1;32m----> 1\u001b[1;33m \u001b[0mlen\u001b[0m\u001b[1;33m(\u001b[0m\u001b[0mprint\u001b[0m\u001b[1;33m(\u001b[0m\u001b[0mx\u001b[0m\u001b[1;33m)\u001b[0m\u001b[1;33m)\u001b[0m\u001b[1;33m\u001b[0m\u001b[1;33m\u001b[0m\u001b[0m\n\u001b[0m",
      "\u001b[1;31mTypeError\u001b[0m: object of type 'NoneType' has no len()"
     ]
    }
   ],
   "source": [
    "len(print(x))"
   ]
  },
  {
   "cell_type": "code",
   "execution_count": 86,
   "id": "a6290e76",
   "metadata": {},
   "outputs": [
    {
     "name": "stdout",
     "output_type": "stream",
     "text": [
      "abc\n"
     ]
    }
   ],
   "source": [
    "ret = print('abc')"
   ]
  },
  {
   "cell_type": "code",
   "execution_count": 87,
   "id": "d382a7e1",
   "metadata": {},
   "outputs": [
    {
     "name": "stdout",
     "output_type": "stream",
     "text": [
      "None\n"
     ]
    }
   ],
   "source": [
    "print(ret)"
   ]
  },
  {
   "cell_type": "code",
   "execution_count": 88,
   "id": "33c9ab1a",
   "metadata": {},
   "outputs": [
    {
     "ename": "TypeError",
     "evalue": "object of type 'NoneType' has no len()",
     "output_type": "error",
     "traceback": [
      "\u001b[1;31m---------------------------------------------------------------------------\u001b[0m",
      "\u001b[1;31mTypeError\u001b[0m                                 Traceback (most recent call last)",
      "\u001b[1;32m~\\AppData\\Local\\Temp\\ipykernel_7312\\597994717.py\u001b[0m in \u001b[0;36m<module>\u001b[1;34m\u001b[0m\n\u001b[1;32m----> 1\u001b[1;33m \u001b[0mlen\u001b[0m\u001b[1;33m(\u001b[0m\u001b[1;32mNone\u001b[0m\u001b[1;33m)\u001b[0m\u001b[1;33m\u001b[0m\u001b[1;33m\u001b[0m\u001b[0m\n\u001b[0m",
      "\u001b[1;31mTypeError\u001b[0m: object of type 'NoneType' has no len()"
     ]
    }
   ],
   "source": [
    "len(None)"
   ]
  },
  {
   "cell_type": "code",
   "execution_count": 89,
   "id": "e02a15ab",
   "metadata": {},
   "outputs": [
    {
     "data": {
      "text/plain": [
       "'3.14'"
      ]
     },
     "execution_count": 89,
     "metadata": {},
     "output_type": "execute_result"
    }
   ],
   "source": [
    "'3.14'"
   ]
  },
  {
   "cell_type": "code",
   "execution_count": 90,
   "id": "ae9a1d68",
   "metadata": {},
   "outputs": [
    {
     "data": {
      "text/plain": [
       "3.14"
      ]
     },
     "execution_count": 90,
     "metadata": {},
     "output_type": "execute_result"
    }
   ],
   "source": [
    "3.14"
   ]
  },
  {
   "cell_type": "code",
   "execution_count": 94,
   "id": "3440e8b5",
   "metadata": {},
   "outputs": [],
   "source": [
    "x = 'use the backslash key \\('"
   ]
  },
  {
   "cell_type": "code",
   "execution_count": 95,
   "id": "601d13bc",
   "metadata": {},
   "outputs": [
    {
     "name": "stdout",
     "output_type": "stream",
     "text": [
      "use the backslash key \\(\n"
     ]
    }
   ],
   "source": [
    "print(x)"
   ]
  },
  {
   "cell_type": "code",
   "execution_count": 96,
   "id": "73448ad0",
   "metadata": {},
   "outputs": [
    {
     "ename": "SyntaxError",
     "evalue": "EOL while scanning string literal (132589735.py, line 1)",
     "output_type": "error",
     "traceback": [
      "\u001b[1;36m  File \u001b[1;32m\"C:\\Users\\mkhaw\\AppData\\Local\\Temp\\ipykernel_7312\\132589735.py\"\u001b[1;36m, line \u001b[1;32m1\u001b[0m\n\u001b[1;33m    print('/\\/\\')\u001b[0m\n\u001b[1;37m                 ^\u001b[0m\n\u001b[1;31mSyntaxError\u001b[0m\u001b[1;31m:\u001b[0m EOL while scanning string literal\n"
     ]
    }
   ],
   "source": [
    "print('/\\/\\')"
   ]
  },
  {
   "cell_type": "code",
   "execution_count": 98,
   "id": "2c7ce4cb",
   "metadata": {},
   "outputs": [
    {
     "name": "stdout",
     "output_type": "stream",
     "text": [
      "/\\/\\\n"
     ]
    }
   ],
   "source": [
    "print('/\\\\/\\\\')"
   ]
  },
  {
   "cell_type": "code",
   "execution_count": 106,
   "id": "9d4314dc",
   "metadata": {},
   "outputs": [
    {
     "data": {
      "text/plain": [
       "' '"
      ]
     },
     "execution_count": 106,
     "metadata": {},
     "output_type": "execute_result"
    }
   ],
   "source": [
    "''' \\\n",
    "'''"
   ]
  },
  {
   "cell_type": "code",
   "execution_count": 105,
   "id": "7e45110e",
   "metadata": {},
   "outputs": [
    {
     "ename": "SyntaxError",
     "evalue": "EOL while scanning string literal (1036573535.py, line 1)",
     "output_type": "error",
     "traceback": [
      "\u001b[1;36m  File \u001b[1;32m\"C:\\Users\\mkhaw\\AppData\\Local\\Temp\\ipykernel_7312\\1036573535.py\"\u001b[1;36m, line \u001b[1;32m1\u001b[0m\n\u001b[1;33m    'adfsd \\\u001b[0m\n\u001b[1;37m             ^\u001b[0m\n\u001b[1;31mSyntaxError\u001b[0m\u001b[1;31m:\u001b[0m EOL while scanning string literal\n"
     ]
    }
   ],
   "source": [
    "'adfsd \\ \n",
    "sdlkfslkdf'"
   ]
  },
  {
   "cell_type": "code",
   "execution_count": 109,
   "id": "dcc0a245",
   "metadata": {},
   "outputs": [],
   "source": [
    "x = 'line1\\nline2\\nline3'"
   ]
  },
  {
   "cell_type": "code",
   "execution_count": 110,
   "id": "717ee4f3",
   "metadata": {},
   "outputs": [
    {
     "data": {
      "text/plain": [
       "'line1\\nline2\\nline3'"
      ]
     },
     "execution_count": 110,
     "metadata": {},
     "output_type": "execute_result"
    }
   ],
   "source": [
    "x"
   ]
  },
  {
   "cell_type": "code",
   "execution_count": 111,
   "id": "22f22a91",
   "metadata": {},
   "outputs": [
    {
     "name": "stdout",
     "output_type": "stream",
     "text": [
      "line1\n",
      "line2\n",
      "line3\n"
     ]
    }
   ],
   "source": [
    "print(x)"
   ]
  },
  {
   "cell_type": "code",
   "execution_count": 113,
   "id": "cf096659",
   "metadata": {},
   "outputs": [],
   "source": [
    "x = 'col1\\tcol2\\tcol3'"
   ]
  },
  {
   "cell_type": "code",
   "execution_count": 116,
   "id": "f12d791f",
   "metadata": {},
   "outputs": [
    {
     "data": {
      "text/plain": [
       "'col1\\tcol2\\tcol3'"
      ]
     },
     "execution_count": 116,
     "metadata": {},
     "output_type": "execute_result"
    }
   ],
   "source": [
    "x"
   ]
  },
  {
   "cell_type": "code",
   "execution_count": 115,
   "id": "3ddee07f",
   "metadata": {},
   "outputs": [
    {
     "name": "stdout",
     "output_type": "stream",
     "text": [
      "col1\tcol2\tcol3\n"
     ]
    }
   ],
   "source": [
    "print(x)"
   ]
  },
  {
   "cell_type": "code",
   "execution_count": 117,
   "id": "d2020c47",
   "metadata": {},
   "outputs": [
    {
     "name": "stdout",
     "output_type": "stream",
     "text": [
      "col1\tcol2\tcol3\n"
     ]
    }
   ],
   "source": [
    "print(x)"
   ]
  },
  {
   "cell_type": "code",
   "execution_count": 119,
   "id": "da9a5236",
   "metadata": {},
   "outputs": [
    {
     "name": "stdout",
     "output_type": "stream",
     "text": [
      "Please enter a number: 34\n"
     ]
    }
   ],
   "source": [
    "number = input('Please enter a number: ')"
   ]
  },
  {
   "cell_type": "code",
   "execution_count": null,
   "id": "1bca7f90",
   "metadata": {},
   "outputs": [],
   "source": [
    "def my_func(p1, param2):\n",
    "    pass\n",
    "\n",
    "my_func(1, 2)"
   ]
  },
  {
   "cell_type": "code",
   "execution_count": 120,
   "id": "364677fe",
   "metadata": {},
   "outputs": [
    {
     "data": {
      "text/plain": [
       "str"
      ]
     },
     "execution_count": 120,
     "metadata": {},
     "output_type": "execute_result"
    }
   ],
   "source": [
    "type(number)"
   ]
  },
  {
   "cell_type": "code",
   "execution_count": 121,
   "id": "b1408c2c",
   "metadata": {},
   "outputs": [
    {
     "data": {
      "text/plain": [
       "'3434'"
      ]
     },
     "execution_count": 121,
     "metadata": {},
     "output_type": "execute_result"
    }
   ],
   "source": [
    "number * 2"
   ]
  },
  {
   "cell_type": "code",
   "execution_count": 122,
   "id": "c6f62c98",
   "metadata": {},
   "outputs": [],
   "source": [
    "number = int(number)"
   ]
  },
  {
   "cell_type": "code",
   "execution_count": 123,
   "id": "9ff4e1f2",
   "metadata": {},
   "outputs": [
    {
     "data": {
      "text/plain": [
       "68"
      ]
     },
     "execution_count": 123,
     "metadata": {},
     "output_type": "execute_result"
    }
   ],
   "source": [
    "number * 2"
   ]
  },
  {
   "cell_type": "code",
   "execution_count": 125,
   "id": "654eea87",
   "metadata": {},
   "outputs": [
    {
     "name": "stdout",
     "output_type": "stream",
     "text": [
      "Please enter a number: 3.14\n"
     ]
    }
   ],
   "source": [
    "number = float(input('Please enter a number: '))"
   ]
  },
  {
   "cell_type": "code",
   "execution_count": 126,
   "id": "201a3b95",
   "metadata": {},
   "outputs": [],
   "source": [
    "def convert_celsius():\n",
    "    fahrenheit = float(input('Please enter temperature in Fahrenheit: '))\n",
    "    celsius =  (fahrenheit - 32.0) * 5.0 / 9.0  \n",
    "    print('The temperature in celsius is: ', celsius) "
   ]
  },
  {
   "cell_type": "code",
   "execution_count": 127,
   "id": "2c37c5bf",
   "metadata": {},
   "outputs": [
    {
     "name": "stdout",
     "output_type": "stream",
     "text": [
      "Please enter temperature in Fahrenheit: 212\n",
      "The temperature in celsius is:  100.0\n"
     ]
    }
   ],
   "source": [
    "convert_celsius()"
   ]
  },
  {
   "cell_type": "code",
   "execution_count": 129,
   "id": "d3ea08c0",
   "metadata": {},
   "outputs": [
    {
     "name": "stdout",
     "output_type": "stream",
     "text": [
      "Please enter temperature in Fahrenheit: 32\n",
      "The temperature in celsius is:  0.0\n"
     ]
    }
   ],
   "source": [
    "convert_celsius()"
   ]
  },
  {
   "cell_type": "code",
   "execution_count": 132,
   "id": "6bbbee22",
   "metadata": {},
   "outputs": [],
   "source": [
    "PI = 3.14159265359 \n",
    "pi_str = f'{PI:.2f}'"
   ]
  },
  {
   "cell_type": "code",
   "execution_count": 133,
   "id": "093042e0",
   "metadata": {},
   "outputs": [
    {
     "data": {
      "text/plain": [
       "str"
      ]
     },
     "execution_count": 133,
     "metadata": {},
     "output_type": "execute_result"
    }
   ],
   "source": [
    "type(pi_str)"
   ]
  },
  {
   "cell_type": "code",
   "execution_count": 134,
   "id": "a529acda",
   "metadata": {},
   "outputs": [
    {
     "data": {
      "text/plain": [
       "float"
      ]
     },
     "execution_count": 134,
     "metadata": {},
     "output_type": "execute_result"
    }
   ],
   "source": [
    "type(PI)"
   ]
  },
  {
   "cell_type": "code",
   "execution_count": 135,
   "id": "2d400200",
   "metadata": {},
   "outputs": [
    {
     "name": "stdout",
     "output_type": "stream",
     "text": [
      "PI is 3.14\n"
     ]
    }
   ],
   "source": [
    "PI = 3.14159265359 \n",
    "name = 'PI'\n",
    "print('%s is %.2f' % (name, PI))  # oldest way format specifier is <width>.<precision><type>"
   ]
  },
  {
   "cell_type": "code",
   "execution_count": null,
   "id": "928cc528",
   "metadata": {},
   "outputs": [],
   "source": [
    "PI = 3.14159265359 \n",
    "name = 'PI'\n",
    "print(('{0} is {1:.2f}'.format('PI', PI)) ) # "
   ]
  },
  {
   "cell_type": "code",
   "execution_count": 136,
   "id": "469b515a",
   "metadata": {},
   "outputs": [],
   "source": [
    "str_template = '{0} is {1:.2f}'"
   ]
  },
  {
   "cell_type": "code",
   "execution_count": 137,
   "id": "0f0d6384",
   "metadata": {},
   "outputs": [
    {
     "name": "stdout",
     "output_type": "stream",
     "text": [
      "{0} is {1:.2f}\n"
     ]
    }
   ],
   "source": [
    "print(str_template)"
   ]
  },
  {
   "cell_type": "code",
   "execution_count": 138,
   "id": "d0747967",
   "metadata": {},
   "outputs": [
    {
     "data": {
      "text/plain": [
       "'PI is 3.14'"
      ]
     },
     "execution_count": 138,
     "metadata": {},
     "output_type": "execute_result"
    }
   ],
   "source": [
    "str_template.format('PI', PI)"
   ]
  },
  {
   "cell_type": "code",
   "execution_count": 139,
   "id": "808ea5ae",
   "metadata": {},
   "outputs": [
    {
     "data": {
      "text/plain": [
       "'PI is 45.12'"
      ]
     },
     "execution_count": 139,
     "metadata": {},
     "output_type": "execute_result"
    }
   ],
   "source": [
    "str_template.format('PI', 45.12234)"
   ]
  },
  {
   "cell_type": "code",
   "execution_count": 140,
   "id": "5103731c",
   "metadata": {},
   "outputs": [
    {
     "data": {
      "text/plain": [
       "'Golden Ratio is 324.12'"
      ]
     },
     "execution_count": 140,
     "metadata": {},
     "output_type": "execute_result"
    }
   ],
   "source": [
    "str_template.format('Golden Ratio', 324.12234)"
   ]
  },
  {
   "cell_type": "code",
   "execution_count": null,
   "id": "379b0b83",
   "metadata": {},
   "outputs": [],
   "source": [
    "Data: <<date>>\n",
    "Address: <<address>>\n",
    "    \n",
    "Dear <<Person>>"
   ]
  },
  {
   "cell_type": "code",
   "execution_count": 141,
   "id": "9d0b5476",
   "metadata": {},
   "outputs": [],
   "source": [
    "str_template = '{} is {:.2f}'"
   ]
  },
  {
   "cell_type": "code",
   "execution_count": 143,
   "id": "83e2df29",
   "metadata": {},
   "outputs": [
    {
     "data": {
      "text/plain": [
       "'Golden Ratio is 1.62'"
      ]
     },
     "execution_count": 143,
     "metadata": {},
     "output_type": "execute_result"
    }
   ],
   "source": [
    "str_template.format('Golden Ratio', 1.618)# 0, 1"
   ]
  },
  {
   "cell_type": "code",
   "execution_count": 150,
   "id": "c4c5d740",
   "metadata": {},
   "outputs": [],
   "source": [
    "str_template = '{1} is {0}'\n",
    "# str_template = '{1} is {0:.2f}'"
   ]
  },
  {
   "cell_type": "code",
   "execution_count": 151,
   "id": "3749a3c4",
   "metadata": {},
   "outputs": [
    {
     "data": {
      "text/plain": [
       "'1.618 is Golden Ratio'"
      ]
     },
     "execution_count": 151,
     "metadata": {},
     "output_type": "execute_result"
    }
   ],
   "source": [
    "str_template.format('Golden Ratio', 1.618)"
   ]
  },
  {
   "cell_type": "code",
   "execution_count": 152,
   "id": "a0b4e2a1",
   "metadata": {},
   "outputs": [
    {
     "data": {
      "text/plain": [
       "'1.618 is Golden Ratio'"
      ]
     },
     "execution_count": 152,
     "metadata": {},
     "output_type": "execute_result"
    }
   ],
   "source": [
    "str_template.format('Golden Ratio', 1.618, 3)"
   ]
  },
  {
   "cell_type": "code",
   "execution_count": 153,
   "id": "fd9334b4",
   "metadata": {},
   "outputs": [
    {
     "data": {
      "text/plain": [
       "-4"
      ]
     },
     "execution_count": 153,
     "metadata": {},
     "output_type": "execute_result"
    }
   ],
   "source": [
    "-13 // 4"
   ]
  },
  {
   "cell_type": "code",
   "execution_count": 154,
   "id": "d11c77d2",
   "metadata": {},
   "outputs": [
    {
     "data": {
      "text/plain": [
       "3"
      ]
     },
     "execution_count": 154,
     "metadata": {},
     "output_type": "execute_result"
    }
   ],
   "source": [
    "-13 % 4"
   ]
  },
  {
   "cell_type": "code",
   "execution_count": null,
   "id": "a79c8145",
   "metadata": {},
   "outputs": [],
   "source": []
  }
 ],
 "metadata": {
  "kernelspec": {
   "display_name": "Python 3 (ipykernel)",
   "language": "python",
   "name": "python3"
  },
  "language_info": {
   "codemirror_mode": {
    "name": "ipython",
    "version": 3
   },
   "file_extension": ".py",
   "mimetype": "text/x-python",
   "name": "python",
   "nbconvert_exporter": "python",
   "pygments_lexer": "ipython3",
   "version": "3.9.13"
  }
 },
 "nbformat": 4,
 "nbformat_minor": 5
}
