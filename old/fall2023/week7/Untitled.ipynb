{
 "cells": [
  {
   "cell_type": "code",
   "execution_count": 18,
   "id": "67a44efd",
   "metadata": {},
   "outputs": [
    {
     "ename": "ValueError",
     "evalue": "Cannot convert 3.1513O to float.",
     "output_type": "error",
     "traceback": [
      "\u001b[1;31m---------------------------------------------------------------------------\u001b[0m",
      "\u001b[1;31mValueError\u001b[0m                                Traceback (most recent call last)",
      "\u001b[1;32m~\\AppData\\Local\\Temp\\ipykernel_4852\\1723607494.py\u001b[0m in \u001b[0;36m<module>\u001b[1;34m\u001b[0m\n\u001b[0;32m      4\u001b[0m \u001b[1;32mtry\u001b[0m\u001b[1;33m:\u001b[0m\u001b[1;33m\u001b[0m\u001b[1;33m\u001b[0m\u001b[0m\n\u001b[1;32m----> 5\u001b[1;33m     \u001b[0mval\u001b[0m \u001b[1;33m=\u001b[0m \u001b[0mfloat\u001b[0m\u001b[1;33m(\u001b[0m\u001b[0mline\u001b[0m\u001b[1;33m)\u001b[0m\u001b[1;33m\u001b[0m\u001b[1;33m\u001b[0m\u001b[0m\n\u001b[0m\u001b[0;32m      6\u001b[0m \u001b[1;32mexcept\u001b[0m\u001b[1;33m:\u001b[0m\u001b[1;33m\u001b[0m\u001b[1;33m\u001b[0m\u001b[0m\n",
      "\u001b[1;31mValueError\u001b[0m: could not convert string to float: '3.1513O'",
      "\nDuring handling of the above exception, another exception occurred:\n",
      "\u001b[1;31mValueError\u001b[0m                                Traceback (most recent call last)",
      "\u001b[1;32m~\\AppData\\Local\\Temp\\ipykernel_4852\\1723607494.py\u001b[0m in \u001b[0;36m<module>\u001b[1;34m\u001b[0m\n\u001b[0;32m      5\u001b[0m     \u001b[0mval\u001b[0m \u001b[1;33m=\u001b[0m \u001b[0mfloat\u001b[0m\u001b[1;33m(\u001b[0m\u001b[0mline\u001b[0m\u001b[1;33m)\u001b[0m\u001b[1;33m\u001b[0m\u001b[1;33m\u001b[0m\u001b[0m\n\u001b[0;32m      6\u001b[0m \u001b[1;32mexcept\u001b[0m\u001b[1;33m:\u001b[0m\u001b[1;33m\u001b[0m\u001b[1;33m\u001b[0m\u001b[0m\n\u001b[1;32m----> 7\u001b[1;33m     \u001b[1;32mraise\u001b[0m \u001b[0mValueError\u001b[0m\u001b[1;33m(\u001b[0m\u001b[1;34mf'Cannot convert {line} to float.'\u001b[0m\u001b[1;33m)\u001b[0m\u001b[1;33m\u001b[0m\u001b[1;33m\u001b[0m\u001b[0m\n\u001b[0m\u001b[0;32m      8\u001b[0m     \u001b[0mval\u001b[0m \u001b[1;33m=\u001b[0m \u001b[1;32mNone\u001b[0m\u001b[1;33m\u001b[0m\u001b[1;33m\u001b[0m\u001b[0m\n\u001b[0;32m      9\u001b[0m \u001b[0mprint\u001b[0m\u001b[1;33m(\u001b[0m\u001b[0mval\u001b[0m\u001b[1;33m)\u001b[0m\u001b[1;33m\u001b[0m\u001b[1;33m\u001b[0m\u001b[0m\n",
      "\u001b[1;31mValueError\u001b[0m: Cannot convert 3.1513O to float."
     ]
    }
   ],
   "source": [
    "values = []\n",
    "line = '3.1513O'\n",
    "\n",
    "try:\n",
    "    val = float(line)\n",
    "except:\n",
    "#     raise ValueError(f'Cannot convert {line} to float.')\n",
    "    val = None    \n",
    "    # continue\n",
    "print(val)"
   ]
  },
  {
   "cell_type": "code",
   "execution_count": 5,
   "id": "2377018c",
   "metadata": {},
   "outputs": [
    {
     "data": {
      "text/plain": [
       "[3.1513]"
      ]
     },
     "execution_count": 5,
     "metadata": {},
     "output_type": "execute_result"
    }
   ],
   "source": []
  },
  {
   "cell_type": "code",
   "execution_count": 7,
   "id": "278a810a",
   "metadata": {},
   "outputs": [
    {
     "ename": "ValueError",
     "evalue": "could not convert string to float: '3.1513O'",
     "output_type": "error",
     "traceback": [
      "\u001b[1;31m---------------------------------------------------------------------------\u001b[0m",
      "\u001b[1;31mValueError\u001b[0m                                Traceback (most recent call last)",
      "\u001b[1;32m~\\AppData\\Local\\Temp\\ipykernel_4852\\1765398030.py\u001b[0m in \u001b[0;36m<module>\u001b[1;34m\u001b[0m\n\u001b[1;32m----> 1\u001b[1;33m \u001b[0mfloat\u001b[0m\u001b[1;33m(\u001b[0m\u001b[0mline\u001b[0m\u001b[1;33m)\u001b[0m\u001b[1;33m\u001b[0m\u001b[1;33m\u001b[0m\u001b[0m\n\u001b[0m",
      "\u001b[1;31mValueError\u001b[0m: could not convert string to float: '3.1513O'"
     ]
    }
   ],
   "source": [
    "float(line)"
   ]
  },
  {
   "cell_type": "code",
   "execution_count": 8,
   "id": "22768223",
   "metadata": {},
   "outputs": [
    {
     "ename": "SyntaxError",
     "evalue": "invalid syntax (1277840458.py, line 1)",
     "output_type": "error",
     "traceback": [
      "\u001b[1;36m  File \u001b[1;32m\"C:\\Users\\mkhaw\\AppData\\Local\\Temp\\ipykernel_4852\\1277840458.py\"\u001b[1;36m, line \u001b[1;32m1\u001b[0m\n\u001b[1;33m    def func(()):\u001b[0m\n\u001b[1;37m             ^\u001b[0m\n\u001b[1;31mSyntaxError\u001b[0m\u001b[1;31m:\u001b[0m invalid syntax\n"
     ]
    }
   ],
   "source": [
    "def func(()):\n",
    "   pass"
   ]
  },
  {
   "cell_type": "code",
   "execution_count": null,
   "id": "13e7ad36",
   "metadata": {},
   "outputs": [],
   "source": [
    "\n",
    "for index in some_list\n",
    "    print(index)"
   ]
  },
  {
   "cell_type": "code",
   "execution_count": 9,
   "id": "7a5b0ae3",
   "metadata": {},
   "outputs": [],
   "source": [
    "def func():\n",
    "   print(variable)"
   ]
  },
  {
   "cell_type": "code",
   "execution_count": 10,
   "id": "85cae991",
   "metadata": {},
   "outputs": [
    {
     "ename": "NameError",
     "evalue": "name 'variable' is not defined",
     "output_type": "error",
     "traceback": [
      "\u001b[1;31m---------------------------------------------------------------------------\u001b[0m",
      "\u001b[1;31mNameError\u001b[0m                                 Traceback (most recent call last)",
      "\u001b[1;32m~\\AppData\\Local\\Temp\\ipykernel_4852\\2078144611.py\u001b[0m in \u001b[0;36m<module>\u001b[1;34m\u001b[0m\n\u001b[1;32m----> 1\u001b[1;33m \u001b[0mfunc\u001b[0m\u001b[1;33m(\u001b[0m\u001b[1;33m)\u001b[0m\u001b[1;33m\u001b[0m\u001b[1;33m\u001b[0m\u001b[0m\n\u001b[0m",
      "\u001b[1;32m~\\AppData\\Local\\Temp\\ipykernel_4852\\1583267659.py\u001b[0m in \u001b[0;36mfunc\u001b[1;34m()\u001b[0m\n\u001b[0;32m      1\u001b[0m \u001b[1;32mdef\u001b[0m \u001b[0mfunc\u001b[0m\u001b[1;33m(\u001b[0m\u001b[1;33m)\u001b[0m\u001b[1;33m:\u001b[0m\u001b[1;33m\u001b[0m\u001b[1;33m\u001b[0m\u001b[0m\n\u001b[1;32m----> 2\u001b[1;33m    \u001b[0mprint\u001b[0m\u001b[1;33m(\u001b[0m\u001b[0mvariable\u001b[0m\u001b[1;33m)\u001b[0m\u001b[1;33m\u001b[0m\u001b[1;33m\u001b[0m\u001b[0m\n\u001b[0m",
      "\u001b[1;31mNameError\u001b[0m: name 'variable' is not defined"
     ]
    }
   ],
   "source": [
    "func()"
   ]
  },
  {
   "cell_type": "code",
   "execution_count": 11,
   "id": "8b177a24",
   "metadata": {},
   "outputs": [
    {
     "name": "stdout",
     "output_type": "stream",
     "text": [
      "2\n"
     ]
    }
   ],
   "source": [
    "class TestClass:\n",
    "    class_variable1 = 2\n",
    "\n",
    "print(TestClass.class_variable1)"
   ]
  },
  {
   "cell_type": "code",
   "execution_count": 12,
   "id": "fc3200b0",
   "metadata": {},
   "outputs": [
    {
     "ename": "AttributeError",
     "evalue": "type object 'TestClass' has no attribute 'class_variable2'",
     "output_type": "error",
     "traceback": [
      "\u001b[1;31m---------------------------------------------------------------------------\u001b[0m",
      "\u001b[1;31mAttributeError\u001b[0m                            Traceback (most recent call last)",
      "\u001b[1;32m~\\AppData\\Local\\Temp\\ipykernel_4852\\2304545753.py\u001b[0m in \u001b[0;36m<module>\u001b[1;34m\u001b[0m\n\u001b[1;32m----> 1\u001b[1;33m \u001b[0mprint\u001b[0m\u001b[1;33m(\u001b[0m\u001b[0mTestClass\u001b[0m\u001b[1;33m.\u001b[0m\u001b[0mclass_variable2\u001b[0m\u001b[1;33m)\u001b[0m\u001b[1;33m\u001b[0m\u001b[1;33m\u001b[0m\u001b[0m\n\u001b[0m",
      "\u001b[1;31mAttributeError\u001b[0m: type object 'TestClass' has no attribute 'class_variable2'"
     ]
    }
   ],
   "source": [
    "print(TestClass.class_variable2)"
   ]
  },
  {
   "cell_type": "code",
   "execution_count": 13,
   "id": "ef8fe658",
   "metadata": {},
   "outputs": [
    {
     "data": {
      "text/plain": [
       "'TEST1234'"
      ]
     },
     "execution_count": 13,
     "metadata": {},
     "output_type": "execute_result"
    }
   ],
   "source": [
    "string = 'test1234'\n",
    "string.upper()\n"
   ]
  },
  {
   "cell_type": "code",
   "execution_count": 14,
   "id": "3eb46f3c",
   "metadata": {},
   "outputs": [
    {
     "ename": "AttributeError",
     "evalue": "'list' object has no attribute 'upper'",
     "output_type": "error",
     "traceback": [
      "\u001b[1;31m---------------------------------------------------------------------------\u001b[0m",
      "\u001b[1;31mAttributeError\u001b[0m                            Traceback (most recent call last)",
      "\u001b[1;32m~\\AppData\\Local\\Temp\\ipykernel_4852\\1111297724.py\u001b[0m in \u001b[0;36m<module>\u001b[1;34m\u001b[0m\n\u001b[0;32m      1\u001b[0m \u001b[0mx\u001b[0m \u001b[1;33m=\u001b[0m \u001b[1;33m[\u001b[0m\u001b[1;36m1\u001b[0m\u001b[1;33m,\u001b[0m\u001b[1;36m2\u001b[0m\u001b[1;33m,\u001b[0m\u001b[1;36m3\u001b[0m\u001b[1;33m]\u001b[0m\u001b[1;33m\u001b[0m\u001b[1;33m\u001b[0m\u001b[0m\n\u001b[1;32m----> 2\u001b[1;33m \u001b[0mx\u001b[0m\u001b[1;33m.\u001b[0m\u001b[0mupper\u001b[0m\u001b[1;33m(\u001b[0m\u001b[1;33m)\u001b[0m\u001b[1;33m\u001b[0m\u001b[1;33m\u001b[0m\u001b[0m\n\u001b[0m",
      "\u001b[1;31mAttributeError\u001b[0m: 'list' object has no attribute 'upper'"
     ]
    }
   ],
   "source": [
    "x = [1,2,3]\n",
    "x.upper()"
   ]
  },
  {
   "cell_type": "code",
   "execution_count": 17,
   "id": "c39252e9",
   "metadata": {},
   "outputs": [
    {
     "ename": "ValueError",
     "evalue": "invalid literal for int() with base 10: '3.14a'",
     "output_type": "error",
     "traceback": [
      "\u001b[1;31m---------------------------------------------------------------------------\u001b[0m",
      "\u001b[1;31mValueError\u001b[0m                                Traceback (most recent call last)",
      "\u001b[1;32m~\\AppData\\Local\\Temp\\ipykernel_4852\\3274060812.py\u001b[0m in \u001b[0;36m<module>\u001b[1;34m\u001b[0m\n\u001b[0;32m      1\u001b[0m \u001b[0mval\u001b[0m \u001b[1;33m=\u001b[0m \u001b[1;34m'3.14a'\u001b[0m\u001b[1;33m\u001b[0m\u001b[1;33m\u001b[0m\u001b[0m\n\u001b[1;32m----> 2\u001b[1;33m \u001b[0mint\u001b[0m\u001b[1;33m(\u001b[0m\u001b[0mval\u001b[0m\u001b[1;33m)\u001b[0m\u001b[1;33m\u001b[0m\u001b[1;33m\u001b[0m\u001b[0m\n\u001b[0m\u001b[0;32m      3\u001b[0m \u001b[1;33m\u001b[0m\u001b[0m\n\u001b[0;32m      4\u001b[0m \u001b[1;32mraise\u001b[0m \u001b[0mValueError\u001b[0m\u001b[1;33m(\u001b[0m\u001b[1;34m'a message'\u001b[0m\u001b[1;33m)\u001b[0m\u001b[1;33m\u001b[0m\u001b[1;33m\u001b[0m\u001b[0m\n",
      "\u001b[1;31mValueError\u001b[0m: invalid literal for int() with base 10: '3.14a'"
     ]
    }
   ],
   "source": [
    "val = '3.14a'\n",
    "int(val)\n",
    "\n",
    "raise ValueError('a message')"
   ]
  },
  {
   "cell_type": "code",
   "execution_count": null,
   "id": "4ce87d64",
   "metadata": {},
   "outputs": [],
   "source": [
    "type(height) != float and type(height) != int #not in [float, int]"
   ]
  },
  {
   "cell_type": "code",
   "execution_count": null,
   "id": "8a3029e2",
   "metadata": {},
   "outputs": [],
   "source": [
    "filename = 'abcd.txt'\n",
    "try: \n",
    "    file = open(filename) \n",
    "except FileNotFoundError: \n",
    "    print('File not found') \n",
    "except OSError: \n",
    "    print('OS error') \n"
   ]
  },
  {
   "cell_type": "code",
   "execution_count": null,
   "id": "0d30c825",
   "metadata": {},
   "outputs": [],
   "source": [
    "filename = 'abcd.txt'\n",
    "try: \n",
    "    file = open(filename) \n",
    "except OSError: \n",
    "    print('OS error') \n",
    "except FileNotFoundError: \n",
    "    print('File not found') "
   ]
  },
  {
   "cell_type": "code",
   "execution_count": 19,
   "id": "9ac47066",
   "metadata": {},
   "outputs": [
    {
     "name": "stdout",
     "output_type": "stream",
     "text": [
      "Please enter height: 3.14O\n",
      "could not convert string to float: '3.14O'\n",
      "Please enter a number\n",
      "I always run!\n",
      "Please enter height: 60\n",
      "Please enter weight: abcd\n",
      "could not convert string to float: 'abcd'\n",
      "Please enter a number\n",
      "I always run!\n",
      "Please enter height: 60\n",
      "Please enter weight: 150\n",
      "I run when there is no error\n",
      "I always run!\n"
     ]
    },
    {
     "ename": "NameError",
     "evalue": "name 'calculate_bmi' is not defined",
     "output_type": "error",
     "traceback": [
      "\u001b[1;31m---------------------------------------------------------------------------\u001b[0m",
      "\u001b[1;31mNameError\u001b[0m                                 Traceback (most recent call last)",
      "\u001b[1;32m~\\AppData\\Local\\Temp\\ipykernel_4852\\3651724932.py\u001b[0m in \u001b[0;36m<module>\u001b[1;34m\u001b[0m\n\u001b[0;32m     12\u001b[0m         \u001b[0mprint\u001b[0m\u001b[1;33m(\u001b[0m\u001b[1;34m'I always run!'\u001b[0m\u001b[1;33m)\u001b[0m\u001b[1;33m\u001b[0m\u001b[1;33m\u001b[0m\u001b[0m\n\u001b[0;32m     13\u001b[0m \u001b[1;33m\u001b[0m\u001b[0m\n\u001b[1;32m---> 14\u001b[1;33m \u001b[0mprint\u001b[0m\u001b[1;33m(\u001b[0m\u001b[0mcalculate_bmi\u001b[0m\u001b[1;33m(\u001b[0m\u001b[0mheight\u001b[0m\u001b[1;33m,\u001b[0m \u001b[0mweight\u001b[0m\u001b[1;33m)\u001b[0m\u001b[1;33m)\u001b[0m\u001b[1;33m\u001b[0m\u001b[1;33m\u001b[0m\u001b[0m\n\u001b[0m",
      "\u001b[1;31mNameError\u001b[0m: name 'calculate_bmi' is not defined"
     ]
    }
   ],
   "source": [
    "while True:\n",
    "    try:\n",
    "        height = float(input('Please enter height: '))\n",
    "        weight = float(input('Please enter weight: '))\n",
    "    except Exception as error:\n",
    "        print(error)\n",
    "        print('Please enter a number')\n",
    "    else:\n",
    "        print('I run when there is no error')\n",
    "        break\n",
    "    finally:\n",
    "        print('I always run!')\n",
    "\n",
    "print(calculate_bmi(height, weight))"
   ]
  },
  {
   "cell_type": "code",
   "execution_count": 20,
   "id": "b9e96260",
   "metadata": {},
   "outputs": [
    {
     "name": "stdout",
     "output_type": "stream",
     "text": [
      "60.0 150.0\n"
     ]
    }
   ],
   "source": [
    "print(height, weight)"
   ]
  },
  {
   "cell_type": "code",
   "execution_count": 21,
   "id": "c575cb15",
   "metadata": {},
   "outputs": [
    {
     "ename": "KeyError",
     "evalue": "3",
     "output_type": "error",
     "traceback": [
      "\u001b[1;31m---------------------------------------------------------------------------\u001b[0m",
      "\u001b[1;31mKeyError\u001b[0m                                  Traceback (most recent call last)",
      "\u001b[1;32m~\\AppData\\Local\\Temp\\ipykernel_4852\\1699739864.py\u001b[0m in \u001b[0;36m<module>\u001b[1;34m\u001b[0m\n\u001b[0;32m      1\u001b[0m \u001b[0mmy_dict\u001b[0m \u001b[1;33m=\u001b[0m \u001b[1;33m{\u001b[0m\u001b[1;34m'1'\u001b[0m\u001b[1;33m:\u001b[0m \u001b[1;36m1\u001b[0m\u001b[1;33m,\u001b[0m \u001b[1;36m2\u001b[0m\u001b[1;33m:\u001b[0m \u001b[1;34m'2'\u001b[0m\u001b[1;33m}\u001b[0m\u001b[1;33m\u001b[0m\u001b[1;33m\u001b[0m\u001b[0m\n\u001b[1;32m----> 2\u001b[1;33m \u001b[0mmy_dict\u001b[0m\u001b[1;33m[\u001b[0m\u001b[1;36m3\u001b[0m\u001b[1;33m]\u001b[0m\u001b[1;33m\u001b[0m\u001b[1;33m\u001b[0m\u001b[0m\n\u001b[0m",
      "\u001b[1;31mKeyError\u001b[0m: 3"
     ]
    }
   ],
   "source": [
    "my_dict = {'1': 1, 2: '2'}\n",
    "my_dict[3]"
   ]
  },
  {
   "cell_type": "code",
   "execution_count": 22,
   "id": "745a6892",
   "metadata": {},
   "outputs": [],
   "source": [
    "my_dict.get(3)"
   ]
  },
  {
   "cell_type": "code",
   "execution_count": 23,
   "id": "d6114189",
   "metadata": {},
   "outputs": [
    {
     "data": {
      "text/plain": [
       "'N/A'"
      ]
     },
     "execution_count": 23,
     "metadata": {},
     "output_type": "execute_result"
    }
   ],
   "source": [
    "my_dict.get(3, 'N/A')"
   ]
  },
  {
   "cell_type": "code",
   "execution_count": 24,
   "id": "67f40fec",
   "metadata": {},
   "outputs": [
    {
     "name": "stdout",
     "output_type": "stream",
     "text": [
      "Error\n"
     ]
    }
   ],
   "source": [
    "student = {'username': 'john', 'grade': 50}\n",
    "\n",
    "def get_key(some_dict, key, default_value=None):\n",
    "    try:\n",
    "        return some_dict[key]\n",
    "    except KeyError:\n",
    "        return default_value\n",
    "\n",
    "\n",
    "print(get_key(student, 'username1', default_value='Error'))"
   ]
  },
  {
   "cell_type": "code",
   "execution_count": 25,
   "id": "fa53764f",
   "metadata": {},
   "outputs": [
    {
     "name": "stdout",
     "output_type": "stream",
     "text": [
      "None\n"
     ]
    }
   ],
   "source": [
    "print(get_key(student, 'username1'))"
   ]
  },
  {
   "cell_type": "code",
   "execution_count": 26,
   "id": "8d455405",
   "metadata": {},
   "outputs": [
    {
     "name": "stdout",
     "output_type": "stream",
     "text": [
      "john\n"
     ]
    }
   ],
   "source": [
    "print(get_key(student, 'username'))"
   ]
  },
  {
   "cell_type": "code",
   "execution_count": 29,
   "id": "6d99e6d2",
   "metadata": {},
   "outputs": [],
   "source": [
    "def my_func(a, b=2):\n",
    "    print(a, b)\n"
   ]
  },
  {
   "cell_type": "code",
   "execution_count": 30,
   "id": "c9e67853",
   "metadata": {},
   "outputs": [
    {
     "ename": "TypeError",
     "evalue": "my_func() missing 1 required positional argument: 'a'",
     "output_type": "error",
     "traceback": [
      "\u001b[1;31m---------------------------------------------------------------------------\u001b[0m",
      "\u001b[1;31mTypeError\u001b[0m                                 Traceback (most recent call last)",
      "\u001b[1;32m~\\AppData\\Local\\Temp\\ipykernel_4852\\3936476787.py\u001b[0m in \u001b[0;36m<module>\u001b[1;34m\u001b[0m\n\u001b[1;32m----> 1\u001b[1;33m \u001b[0mmy_func\u001b[0m\u001b[1;33m(\u001b[0m\u001b[1;33m)\u001b[0m\u001b[1;33m\u001b[0m\u001b[1;33m\u001b[0m\u001b[0m\n\u001b[0m",
      "\u001b[1;31mTypeError\u001b[0m: my_func() missing 1 required positional argument: 'a'"
     ]
    }
   ],
   "source": [
    "my_func()"
   ]
  },
  {
   "cell_type": "code",
   "execution_count": 31,
   "id": "c06649ef",
   "metadata": {},
   "outputs": [
    {
     "name": "stdout",
     "output_type": "stream",
     "text": [
      "1 2\n"
     ]
    }
   ],
   "source": [
    "my_func(1)"
   ]
  },
  {
   "cell_type": "code",
   "execution_count": 32,
   "id": "2109f0b4",
   "metadata": {},
   "outputs": [
    {
     "name": "stdout",
     "output_type": "stream",
     "text": [
      "1 10\n"
     ]
    }
   ],
   "source": [
    "my_func(1, 10)"
   ]
  },
  {
   "cell_type": "code",
   "execution_count": 33,
   "id": "14ff3822",
   "metadata": {},
   "outputs": [
    {
     "name": "stdout",
     "output_type": "stream",
     "text": [
      "1 2 3\n"
     ]
    }
   ],
   "source": [
    "print(1, 2, 3)"
   ]
  },
  {
   "cell_type": "code",
   "execution_count": 34,
   "id": "e7f7fa58",
   "metadata": {},
   "outputs": [
    {
     "name": "stdout",
     "output_type": "stream",
     "text": [
      "1 2 3\n"
     ]
    }
   ],
   "source": [
    "print(1, 2, 3, sep=' ')"
   ]
  },
  {
   "cell_type": "code",
   "execution_count": 37,
   "id": "0623c9a5",
   "metadata": {},
   "outputs": [],
   "source": [
    "def my_func(a,c,b=2):\n",
    "    print(a, c, b)"
   ]
  },
  {
   "cell_type": "code",
   "execution_count": 38,
   "id": "bf18da7a",
   "metadata": {},
   "outputs": [
    {
     "name": "stdout",
     "output_type": "stream",
     "text": [
      "1 3 2\n"
     ]
    }
   ],
   "source": [
    "my_func(1, 3, 2)"
   ]
  },
  {
   "cell_type": "code",
   "execution_count": 41,
   "id": "2792aabb",
   "metadata": {},
   "outputs": [
    {
     "ename": "SyntaxError",
     "evalue": "positional argument follows keyword argument (1235892447.py, line 1)",
     "output_type": "error",
     "traceback": [
      "\u001b[1;36m  File \u001b[1;32m\"C:\\Users\\mkhaw\\AppData\\Local\\Temp\\ipykernel_4852\\1235892447.py\"\u001b[1;36m, line \u001b[1;32m1\u001b[0m\n\u001b[1;33m    my_func(a=1, c=3, 2)\u001b[0m\n\u001b[1;37m                       ^\u001b[0m\n\u001b[1;31mSyntaxError\u001b[0m\u001b[1;31m:\u001b[0m positional argument follows keyword argument\n"
     ]
    }
   ],
   "source": [
    "my_func(a=1, c=3, 2) # positional, keyword/optional arguments"
   ]
  },
  {
   "cell_type": "code",
   "execution_count": 54,
   "id": "62fd8b13",
   "metadata": {},
   "outputs": [
    {
     "name": "stdout",
     "output_type": "stream",
     "text": [
      "1 2 2\n"
     ]
    }
   ],
   "source": [
    "def my_func(a, b, c=2, d=5):\n",
    "    print(a, b,c)\n",
    "    \n",
    "my_func(a=1, b=2)"
   ]
  },
  {
   "cell_type": "code",
   "execution_count": 49,
   "id": "a663904c",
   "metadata": {},
   "outputs": [
    {
     "name": "stdout",
     "output_type": "stream",
     "text": [
      "1 2 3\n"
     ]
    }
   ],
   "source": [
    "my_dict = {\n",
    "    'a': 1,\n",
    "    'b': 2,\n",
    "    'c': 3,\n",
    "}\n",
    "\n",
    "my_func(**my_dict) # **my_dict ==> a=1, b=2, c=3"
   ]
  },
  {
   "cell_type": "code",
   "execution_count": 50,
   "id": "562b902a",
   "metadata": {},
   "outputs": [
    {
     "name": "stdout",
     "output_type": "stream",
     "text": [
      "3 4 5\n"
     ]
    }
   ],
   "source": [
    "my_dict = {\n",
    "    'a': 3,\n",
    "    'b': 4,\n",
    "    'c': 5,\n",
    "}\n",
    "\n",
    "my_func(**my_dict)"
   ]
  },
  {
   "cell_type": "code",
   "execution_count": 55,
   "id": "0ab0b053",
   "metadata": {},
   "outputs": [
    {
     "name": "stdout",
     "output_type": "stream",
     "text": [
      "1 2 3\n",
      "3 4 5\n",
      "3 4 2\n",
      "33 55 2\n"
     ]
    }
   ],
   "source": [
    "x = [\n",
    "    {\n",
    "        'a': 1,\n",
    "        'b': 2,\n",
    "        'c': 3,\n",
    "    },\n",
    "    {\n",
    "        'a': 3,  \n",
    "        'c': 5,\n",
    "        'b': 4,\n",
    "    },\n",
    "    {\n",
    "        'a': 3,  \n",
    "        'b': 4,\n",
    "    },\n",
    "    {\n",
    "        'a': 33,  \n",
    "        'b': 55,\n",
    "        'd': 44,\n",
    "    }  \n",
    "]\n",
    "for ele in x:\n",
    "    my_func(**ele)"
   ]
  },
  {
   "cell_type": "code",
   "execution_count": 58,
   "id": "42d53910",
   "metadata": {},
   "outputs": [
    {
     "name": "stdout",
     "output_type": "stream",
     "text": [
      "33 55 2\n"
     ]
    }
   ],
   "source": [
    "my_func(33, 55, d=45)"
   ]
  },
  {
   "cell_type": "code",
   "execution_count": 59,
   "id": "05f45062",
   "metadata": {},
   "outputs": [
    {
     "name": "stdout",
     "output_type": "stream",
     "text": [
      "1 0 0 1\n"
     ]
    }
   ],
   "source": [
    "def func(spam, eggs, toast=0, ham=0):   # first 2 required\n",
    "    print (spam, eggs, toast, ham)\n",
    "\n",
    "func(1, ham=1, eggs=0)                  # output: (1, 0, 0, 1)"
   ]
  },
  {
   "cell_type": "code",
   "execution_count": 60,
   "id": "4a58a609",
   "metadata": {},
   "outputs": [],
   "source": [
    "x = [1, 2, 3, 4]\n",
    "\n",
    "a, *b = x"
   ]
  },
  {
   "cell_type": "code",
   "execution_count": 61,
   "id": "d732924f",
   "metadata": {},
   "outputs": [
    {
     "name": "stdout",
     "output_type": "stream",
     "text": [
      "1 [2, 3, 4]\n"
     ]
    }
   ],
   "source": [
    "print(a, b)"
   ]
  },
  {
   "cell_type": "code",
   "execution_count": 63,
   "id": "ff5bf68b",
   "metadata": {},
   "outputs": [],
   "source": [
    "x = [1, 2, 3, 4]\n",
    "\n",
    "a, *b, c = x"
   ]
  },
  {
   "cell_type": "code",
   "execution_count": 64,
   "id": "a8873ee0",
   "metadata": {},
   "outputs": [
    {
     "name": "stdout",
     "output_type": "stream",
     "text": [
      "1 [2, 3] 4\n"
     ]
    }
   ],
   "source": [
    "print(a, b, c)"
   ]
  },
  {
   "cell_type": "code",
   "execution_count": 65,
   "id": "aaa8f119",
   "metadata": {},
   "outputs": [],
   "source": [
    "x = [1, 2, 3, 4]\n",
    "\n",
    "a, *_, c = x"
   ]
  },
  {
   "cell_type": "code",
   "execution_count": 70,
   "id": "ad3d28bd",
   "metadata": {},
   "outputs": [],
   "source": [
    "n, *g = 'name,89,90'.split(',')"
   ]
  },
  {
   "cell_type": "code",
   "execution_count": 71,
   "id": "2d525d16",
   "metadata": {},
   "outputs": [
    {
     "data": {
      "text/plain": [
       "['89', '90']"
      ]
     },
     "execution_count": 71,
     "metadata": {},
     "output_type": "execute_result"
    }
   ],
   "source": [
    "g"
   ]
  },
  {
   "cell_type": "code",
   "execution_count": 72,
   "id": "87172e9c",
   "metadata": {},
   "outputs": [
    {
     "data": {
      "text/plain": [
       "179"
      ]
     },
     "execution_count": 72,
     "metadata": {},
     "output_type": "execute_result"
    }
   ],
   "source": [
    "sum(map(int, g))"
   ]
  },
  {
   "cell_type": "code",
   "execution_count": 73,
   "id": "715f83cc",
   "metadata": {},
   "outputs": [
    {
     "name": "stdout",
     "output_type": "stream",
     "text": [
      "1 (2, 3) {'x': 1, 'y': 2}\n"
     ]
    }
   ],
   "source": [
    "def f(a, *args, **kwargs): \n",
    "    print(a, args, kwargs)\n",
    "\n",
    "f(1, 2, 3, x=1, y=2)"
   ]
  },
  {
   "cell_type": "code",
   "execution_count": 80,
   "id": "ec1d7fd1",
   "metadata": {},
   "outputs": [],
   "source": [
    "def my_print(*args):\n",
    "    print(' '.join(map(str,args)))"
   ]
  },
  {
   "cell_type": "code",
   "execution_count": 79,
   "id": "68467cb4",
   "metadata": {},
   "outputs": [
    {
     "name": "stdout",
     "output_type": "stream",
     "text": [
      "1 2 3 4 5 6 7 8 10\n"
     ]
    }
   ],
   "source": [
    "my_dict(1, 2, 3, 4, 5, 6, 7, 8, 10 )"
   ]
  },
  {
   "cell_type": "code",
   "execution_count": 91,
   "id": "4aeb0507",
   "metadata": {},
   "outputs": [],
   "source": [
    "def my_print(*args, **kwargs):\n",
    "    print(kwargs)\n",
    "    sep = kwargs.get('sep', ' ')\n",
    "    print(f'{sep}'.join(map(str,args)))"
   ]
  },
  {
   "cell_type": "code",
   "execution_count": 93,
   "id": "e4d02f07",
   "metadata": {},
   "outputs": [
    {
     "name": "stdout",
     "output_type": "stream",
     "text": [
      "{'sep': '---'}\n",
      "1---2---3---kljlklk---5---6---7---8---10\n"
     ]
    }
   ],
   "source": [
    "my_print(1, 2, 3, 'kljlklk', 5, 6, 7, 8, 10, sep='---')"
   ]
  },
  {
   "cell_type": "code",
   "execution_count": 90,
   "id": "659c5a38",
   "metadata": {},
   "outputs": [
    {
     "name": "stdout",
     "output_type": "stream",
     "text": [
      "1 2 3 4 5 6 7 8 10\n"
     ]
    }
   ],
   "source": [
    "my_print(1, 2, 3, 4, 5, 6, 7, 8, 10,)"
   ]
  },
  {
   "cell_type": "code",
   "execution_count": 94,
   "id": "e7da782f",
   "metadata": {},
   "outputs": [
    {
     "data": {
      "text/plain": [
       "'EAS503'"
      ]
     },
     "execution_count": 94,
     "metadata": {},
     "output_type": "execute_result"
    }
   ],
   "source": [
    "x = '(EAS503)'\n",
    "x.replace('(', '').replace(')','')"
   ]
  },
  {
   "cell_type": "code",
   "execution_count": 95,
   "id": "27437d49",
   "metadata": {},
   "outputs": [
    {
     "data": {
      "text/plain": [
       "'(EAS503)'"
      ]
     },
     "execution_count": 95,
     "metadata": {},
     "output_type": "execute_result"
    }
   ],
   "source": [
    "x"
   ]
  },
  {
   "cell_type": "code",
   "execution_count": null,
   "id": "5452fb28",
   "metadata": {},
   "outputs": [],
   "source": [
    "x = '(EAS503)'\n",
    "x = x.replace('(', '').replace(')','')"
   ]
  },
  {
   "cell_type": "code",
   "execution_count": 98,
   "id": "7822f474",
   "metadata": {},
   "outputs": [
    {
     "name": "stdout",
     "output_type": "stream",
     "text": [
      "('SPAM', 'SCAM')\n"
     ]
    }
   ],
   "source": [
    "s1, s2, s3 = \"SPAM\", \"SCAM\", \"SLAM\"\n",
    "def intersect(*args):\n",
    "    print(args)\n",
    "    \n",
    "intersect(s1, s2)"
   ]
  },
  {
   "cell_type": "code",
   "execution_count": 99,
   "id": "7d8a16b0",
   "metadata": {},
   "outputs": [
    {
     "name": "stdout",
     "output_type": "stream",
     "text": [
      "('SPAM', 'SCAM', 'SLAM')\n"
     ]
    }
   ],
   "source": [
    "intersect(s1, s2, s3)"
   ]
  },
  {
   "cell_type": "code",
   "execution_count": 100,
   "id": "7e652ef1",
   "metadata": {},
   "outputs": [
    {
     "name": "stdout",
     "output_type": "stream",
     "text": [
      "('SPAM', 'SCAM', 'a', 'b')\n"
     ]
    }
   ],
   "source": [
    "intersect(s1, s2, 'a', 'b')"
   ]
  },
  {
   "cell_type": "code",
   "execution_count": 101,
   "id": "71aca09a",
   "metadata": {},
   "outputs": [],
   "source": [
    "def intersect(*args):\n",
    "    res = []\n",
    "    # ('SPAM', 'SCAM', 'SLAM', 'SAM')\n",
    "    for x in args[0]:                  # scan first sequence\n",
    "        for other in args[1:]:         # for all other args\n",
    "            if x not in other: \n",
    "                break   # item in each one?\n",
    "        else:                          # no:  break out of loop\n",
    "            res.append(x)              # yes: add items to end\n",
    "    return res"
   ]
  },
  {
   "cell_type": "code",
   "execution_count": 105,
   "id": "028e3951",
   "metadata": {},
   "outputs": [
    {
     "data": {
      "text/plain": [
       "['A', 'M']"
      ]
     },
     "execution_count": 105,
     "metadata": {},
     "output_type": "execute_result"
    }
   ],
   "source": [
    "intersect(s1, s2, s3, 'NAM')"
   ]
  },
  {
   "cell_type": "code",
   "execution_count": 106,
   "id": "08a9db12",
   "metadata": {},
   "outputs": [
    {
     "data": {
      "text/plain": [
       "['S', 'P', 'A', 'M', 'C', 'L']"
      ]
     },
     "execution_count": 106,
     "metadata": {},
     "output_type": "execute_result"
    }
   ],
   "source": [
    "def union(*args):\n",
    "    res = []\n",
    "    for seq in args:                   # for all args\n",
    "        for x in seq:                  # for all nodes\n",
    "            if not x in res:\n",
    "                res.append(x)          # add new items to result\n",
    "    return res\n",
    "union(s1, s2, s3,  )"
   ]
  },
  {
   "cell_type": "code",
   "execution_count": 108,
   "id": "a9f2923c",
   "metadata": {},
   "outputs": [
    {
     "name": "stdout",
     "output_type": "stream",
     "text": [
      "Global reporting!\n"
     ]
    }
   ],
   "source": [
    "\n",
    "\n",
    "def use_variable_global():\n",
    "    ## since variable is outside the function\n",
    "    print(variable)\n",
    "use_variable_global()"
   ]
  },
  {
   "cell_type": "code",
   "execution_count": 113,
   "id": "15a8bc8f",
   "metadata": {},
   "outputs": [
    {
     "name": "stdout",
     "output_type": "stream",
     "text": [
      "Local reporting!\n",
      "Global reporting!\n"
     ]
    }
   ],
   "source": [
    "variable = 'Global reporting!'\n",
    "\n",
    "def use_variable_local():\n",
    "    variable = 'Local reporting!'\n",
    "    print(variable)\n",
    "\n",
    "def use_variable_local2():\n",
    "    print(variable)\n",
    "    \n",
    "use_variable_local()\n",
    "use_variable_local2()"
   ]
  },
  {
   "cell_type": "code",
   "execution_count": 114,
   "id": "9fe30086",
   "metadata": {},
   "outputs": [],
   "source": [
    "\n",
    "def change_global_inside_function():\n",
    "    global variable\n",
    "    variable = 'I have been changed!'\n",
    "    print(variable)\n"
   ]
  },
  {
   "cell_type": "code",
   "execution_count": 115,
   "id": "ac27b86f",
   "metadata": {},
   "outputs": [
    {
     "name": "stdout",
     "output_type": "stream",
     "text": [
      "I have been changed!\n"
     ]
    }
   ],
   "source": [
    "change_global_inside_function()"
   ]
  },
  {
   "cell_type": "code",
   "execution_count": 117,
   "id": "e7734c94",
   "metadata": {},
   "outputs": [
    {
     "name": "stdout",
     "output_type": "stream",
     "text": [
      "I have been changed!\n"
     ]
    }
   ],
   "source": [
    "use_variable_global()"
   ]
  },
  {
   "cell_type": "code",
   "execution_count": null,
   "id": "5d2d304c",
   "metadata": {},
   "outputs": [],
   "source": []
  },
  {
   "cell_type": "code",
   "execution_count": 119,
   "id": "29cb73b8",
   "metadata": {},
   "outputs": [
    {
     "name": "stdout",
     "output_type": "stream",
     "text": [
      "sdf\n"
     ]
    }
   ],
   "source": [
    "\n",
    "def change_global_inside_function():\n",
    "    global hh\n",
    "    hh = 'sdf'\n",
    "    print(hh)\n",
    "change_global_inside_function()"
   ]
  },
  {
   "cell_type": "code",
   "execution_count": 120,
   "id": "f4b50750",
   "metadata": {},
   "outputs": [
    {
     "data": {
      "text/plain": [
       "'sdf'"
      ]
     },
     "execution_count": 120,
     "metadata": {},
     "output_type": "execute_result"
    }
   ],
   "source": [
    "hh"
   ]
  },
  {
   "cell_type": "code",
   "execution_count": 121,
   "id": "17e337e3",
   "metadata": {},
   "outputs": [
    {
     "name": "stdout",
     "output_type": "stream",
     "text": [
      "my_list before change inside function1 [1, 2, 3, 4]\n",
      "my_variable before change inside function1 5\n",
      "my_list after change inside function1 [1, 2, 3, 4, 30]\n",
      "my_variable after change inside function1 10\n"
     ]
    }
   ],
   "source": [
    "def function1(my_list, my_variable):\n",
    "\tprint('my_list before change inside function1', my_list)\n",
    "\tprint('my_variable before change inside function1', my_variable)\n",
    "\tmy_list.append(30)\n",
    "\tmy_variable = 10\n",
    "\n",
    "\tprint('my_list after change inside function1', my_list)\n",
    "\tprint('my_variable after change inside function1', my_variable)\n",
    "    \n",
    "    \n",
    "my_list = [1, 2, 3, 4]\n",
    "my_variable = 5\n",
    "\n",
    "function1(my_list, my_variable)"
   ]
  },
  {
   "cell_type": "code",
   "execution_count": 122,
   "id": "30591b60",
   "metadata": {},
   "outputs": [
    {
     "name": "stdout",
     "output_type": "stream",
     "text": [
      "[1, 2, 3, 4, 30] 5\n"
     ]
    }
   ],
   "source": [
    "print(my_list, my_variable)"
   ]
  },
  {
   "cell_type": "code",
   "execution_count": 125,
   "id": "072a53b9",
   "metadata": {},
   "outputs": [
    {
     "name": "stdout",
     "output_type": "stream",
     "text": [
      "my_list after change inside function2 [1, 2, 3, 4, 90]\n",
      "my_variable after change inside function2 45\n"
     ]
    }
   ],
   "source": [
    "def function2(my_list, my_vairable):\n",
    "\t# https://stackoverflow.com/questions/2612802/how-to-clone-or-copy-a-list\n",
    "\n",
    "\tmy_list = my_list[:]\n",
    "\tmy_list.append(90)\n",
    "\tmy_variable = 45\n",
    "\n",
    "\tprint('my_list after change inside function2', my_list)\n",
    "\tprint('my_variable after change inside function2', my_variable)\n",
    "\n",
    "my_list = [1, 2, 3, 4]\n",
    "my_variable = 5\n",
    "    \n",
    "function2(my_list, my_variable)"
   ]
  },
  {
   "cell_type": "code",
   "execution_count": 126,
   "id": "a79231e2",
   "metadata": {},
   "outputs": [
    {
     "name": "stdout",
     "output_type": "stream",
     "text": [
      "[1, 2, 3, 4] 5\n"
     ]
    }
   ],
   "source": [
    "print(my_list, my_variable)"
   ]
  },
  {
   "cell_type": "code",
   "execution_count": 138,
   "id": "1185006d",
   "metadata": {},
   "outputs": [
    {
     "name": "stdout",
     "output_type": "stream",
     "text": [
      "my_list after change inside function2 [1, 500, 3, [4, 5, 90]]\n",
      "my_variable after change inside function2 45\n"
     ]
    }
   ],
   "source": [
    "def function4(my_list, my_vairable):\n",
    "\t# https://stackoverflow.com/questions/2612802/how-to-clone-or-copy-a-list\n",
    "\timport copy\n",
    "\tmy_list = copy.deepcopy(my_list)\n",
    "\tmy_list[1] = 500\n",
    "\tmy_list[-1].append(90)\n",
    "\tmy_variable = 45\n",
    "\n",
    "\tprint('my_list after change inside function2', my_list)\n",
    "\tprint('my_variable after change inside function2', my_variable)\n",
    "\n",
    "my_list = [1, 2, 3, [4, 5]]\n",
    "my_variable = 5\n",
    "    \n",
    "function4(my_list, my_variable)"
   ]
  },
  {
   "cell_type": "code",
   "execution_count": 139,
   "id": "cdb59a4c",
   "metadata": {},
   "outputs": [
    {
     "name": "stdout",
     "output_type": "stream",
     "text": [
      "[1, 2, 3, [4, 5]] 5\n"
     ]
    }
   ],
   "source": [
    "print(my_list, my_variable)"
   ]
  },
  {
   "cell_type": "code",
   "execution_count": 141,
   "id": "dacc876d",
   "metadata": {},
   "outputs": [
    {
     "name": "stdout",
     "output_type": "stream",
     "text": [
      "my_list after change inside function2 [1, 500, 3, [4, 5, 90]]\n",
      "my_variable after change inside function2 45\n",
      "[1, 500, 3, [4, 5, 90]] 5\n"
     ]
    }
   ],
   "source": [
    "def function5(my_list, my_vairable):\n",
    "\t# https://stackoverflow.com/questions/2612802/how-to-clone-or-copy-a-list\n",
    "\timport copy\n",
    "\tmy_list[1] = 500\n",
    "\tmy_list[-1].append(90)\n",
    "\tmy_variable = 45\n",
    "\n",
    "\tprint('my_list after change inside function2', my_list)\n",
    "\tprint('my_variable after change inside function2', my_variable)\n",
    "\n",
    "my_list = [1, 2, 3, [4, 5]]\n",
    "my_variable = 5\n",
    "    \n",
    "function5(my_list, my_variable)\n",
    "\n",
    "print(my_list, my_variable)"
   ]
  },
  {
   "cell_type": "code",
   "execution_count": null,
   "id": "847ea604",
   "metadata": {},
   "outputs": [],
   "source": []
  }
 ],
 "metadata": {
  "kernelspec": {
   "display_name": "Python 3 (ipykernel)",
   "language": "python",
   "name": "python3"
  },
  "language_info": {
   "codemirror_mode": {
    "name": "ipython",
    "version": 3
   },
   "file_extension": ".py",
   "mimetype": "text/x-python",
   "name": "python",
   "nbconvert_exporter": "python",
   "pygments_lexer": "ipython3",
   "version": "3.9.13"
  }
 },
 "nbformat": 4,
 "nbformat_minor": 5
}
