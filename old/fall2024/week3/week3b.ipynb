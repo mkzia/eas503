{
 "cells": [
  {
   "cell_type": "code",
   "execution_count": 1,
   "id": "bf552a5d-fb4b-4244-992a-910ec8a4e365",
   "metadata": {},
   "outputs": [
    {
     "data": {
      "text/plain": [
       "False"
      ]
     },
     "execution_count": 1,
     "metadata": {},
     "output_type": "execute_result"
    }
   ],
   "source": [
    "'female21' < 'Female21'\n",
    "# f e m a l e 2 1\n",
    "# F e m a l e 2 1 \n",
    "# 102 < 70"
   ]
  },
  {
   "cell_type": "code",
   "execution_count": 2,
   "id": "95d45760-1d3e-43a7-95d3-cff45cbeb515",
   "metadata": {},
   "outputs": [
    {
     "data": {
      "text/plain": [
       "4"
      ]
     },
     "execution_count": 2,
     "metadata": {},
     "output_type": "execute_result"
    }
   ],
   "source": [
    "min(78, 34, 9, 4)"
   ]
  },
  {
   "cell_type": "code",
   "execution_count": 4,
   "id": "68e1996b-2a3f-4a07-a5d2-0f04d497d8ff",
   "metadata": {},
   "outputs": [],
   "source": [
    "def my_min():\n",
    "    number1 = int(input('Enter first integer: '))\n",
    "    number2 = int(input('Enter second integer: '))\n",
    "    number3 = int(input('Enter third integer: '))\n",
    "\n",
    "    minimum = number1  \n",
    "\n",
    "    if number2 < minimum:\n",
    "        minimum = number2\n",
    "\n",
    "    if number3 < minimum:\n",
    "        minimum = number3\n",
    "\n",
    "    print('Minimum value is', minimum)\n",
    "\n"
   ]
  },
  {
   "cell_type": "code",
   "execution_count": 6,
   "id": "55623fb8-91a5-4b2f-9a9c-c9cd07c8916a",
   "metadata": {},
   "outputs": [
    {
     "name": "stdin",
     "output_type": "stream",
     "text": [
      "Enter first integer:  90\n",
      "Enter second integer:  70\n",
      "Enter third integer:  80\n"
     ]
    },
    {
     "name": "stdout",
     "output_type": "stream",
     "text": [
      "Minimum value is 70\n"
     ]
    }
   ],
   "source": [
    "my_min()"
   ]
  },
  {
   "cell_type": "code",
   "execution_count": 10,
   "id": "bd268177-b1d9-4c9d-b8f5-b8dfce50e26f",
   "metadata": {},
   "outputs": [
    {
     "name": "stdin",
     "output_type": "stream",
     "text": [
      "What is the Celsius temperature?  35\n"
     ]
    },
    {
     "name": "stdout",
     "output_type": "stream",
     "text": [
      "The temperature is 95.0 degrees Fahrenheit.\n",
      "It is very hot, so dress accordingly\n"
     ]
    }
   ],
   "source": [
    "def ex1():\n",
    "    celsius = float(input(\"What is the Celsius temperature? \"))\n",
    "    fahrenheit = 9/5 * celsius + 32\n",
    "    print(\"The temperature is\", fahrenheit, \"degrees Fahrenheit.\")\n",
    "    if fahrenheit < 32:\n",
    "        print(\"It is below freezing, so dress warmly!\")\n",
    "    elif fahrenheit > 90:\n",
    "        print(\"It is very hot, so dress accordingly!\")\n",
    "\n",
    "ex1()"
   ]
  },
  {
   "cell_type": "code",
   "execution_count": 12,
   "id": "8a89d966-3f56-42aa-8999-a9ed6a7a433a",
   "metadata": {},
   "outputs": [
    {
     "name": "stdout",
     "output_type": "stream",
     "text": [
      "This program finds the real solutions to a quadratic\n",
      "\n"
     ]
    },
    {
     "name": "stdin",
     "output_type": "stream",
     "text": [
      "Enter coefficient a:  2\n",
      "Enter coefficient b:  5\n",
      "Enter coefficient c:  -4.1\n"
     ]
    },
    {
     "name": "stdout",
     "output_type": "stream",
     "text": [
      "\n",
      "The solutions are: 0.6506577808748213 -3.1506577808748215\n"
     ]
    }
   ],
   "source": [
    "def ex3():\n",
    "    import math\n",
    "    print(\"This program finds the real solutions to a quadratic\\n\")\n",
    "    a = float(input(\"Enter coefficient a: \"))\n",
    "    b = float(input(\"Enter coefficient b: \"))\n",
    "    c = float(input(\"Enter coefficient c: \"))\n",
    "    disc_root = math.sqrt(b ** 2 - 4 * a * c)\n",
    "\n",
    "    root1 = (-b + disc_root) / (2 * a)\n",
    "    root2 = (-b - disc_root) / (2 * a)\n",
    "\n",
    "    print(\"\\nThe solutions are:\", root1, root2)\n",
    "\n",
    "ex3()"
   ]
  },
  {
   "cell_type": "code",
   "execution_count": 13,
   "id": "5d94330b-2186-4230-85c7-3550fdb7d417",
   "metadata": {},
   "outputs": [],
   "source": [
    "def ex5():\n",
    "    x1 = int(input(\"Enter a number: \"))\n",
    "    x2 = int(input(\"Enter another number: \"))\n",
    "    x3 = int(input(\"Enter enter a third number: \"))\n",
    "\n",
    "    if x1 >= x2 and x1 >= x3:\n",
    "        maxval = x1\n",
    "    elif x2 >= x1 and x2 >= x3:\n",
    "        maxval = x2\n",
    "    else:\n",
    "        maxval = x3\n",
    "\n",
    "    print(maxval)"
   ]
  },
  {
   "cell_type": "code",
   "execution_count": 14,
   "id": "fa5c70fc-4f2e-4c11-b634-53e334640340",
   "metadata": {},
   "outputs": [
    {
     "name": "stdin",
     "output_type": "stream",
     "text": [
      "Enter a number:  90\n",
      "Enter another number:  55\n",
      "Enter enter a third number:  34\n"
     ]
    },
    {
     "name": "stdout",
     "output_type": "stream",
     "text": [
      "90\n"
     ]
    }
   ],
   "source": [
    "ex5()"
   ]
  },
  {
   "cell_type": "code",
   "execution_count": 16,
   "id": "82868d6b-bc82-426e-8aef-ba4c7da5ed88",
   "metadata": {},
   "outputs": [
    {
     "name": "stdin",
     "output_type": "stream",
     "text": [
      "input username:  JDoe\n"
     ]
    },
    {
     "name": "stdout",
     "output_type": "stream",
     "text": [
      "Hi, John.\n"
     ]
    }
   ],
   "source": [
    "username = input(\"input username: \")\n",
    "\n",
    "if username.lower() == 'jdoe':\n",
    "    print('Hi, John.')\n",
    "else:\n",
    "    print('Hello, stranger.')"
   ]
  },
  {
   "cell_type": "code",
   "execution_count": null,
   "id": "9c242074-4ecf-4f63-b1b5-c613334b542f",
   "metadata": {},
   "outputs": [],
   "source": [
    "number = int(input('Please enter a number: '))\n",
    "\n",
    "if number == 0:\n",
    "    print('The number is even')\n",
    "elif number % 2 == 0:\n",
    "    print('The number is even')\n",
    "else: \n",
    "    print('The number is odd')"
   ]
  },
  {
   "cell_type": "code",
   "execution_count": null,
   "id": "7beaa781-016c-46b8-a664-ff8207df34ed",
   "metadata": {},
   "outputs": [],
   "source": [
    "count = 0\n",
    "\n",
    "# after every insert\n",
    "count += 1\n",
    "\n",
    "if count % 100_000 == 0:\n",
    "    print(f'I have inserted {count} records')"
   ]
  },
  {
   "cell_type": "code",
   "execution_count": 18,
   "id": "10659823-b95f-4eaf-8bc2-40794ec0e3af",
   "metadata": {},
   "outputs": [
    {
     "name": "stdout",
     "output_type": "stream",
     "text": [
      "6\n",
      "1\n"
     ]
    }
   ],
   "source": [
    "def my_func(a, b, c):\n",
    "    d = a + b + c\n",
    "    a = 5\n",
    "    return d\n",
    "\n",
    "A = 1\n",
    "B = 2\n",
    "C = 3\n",
    "\n",
    "print(my_func(A, B, C))\n",
    "print(A)"
   ]
  },
  {
   "cell_type": "markdown",
   "id": "fa906147-dcae-47be-b86e-dd3007aa3a6f",
   "metadata": {},
   "source": [
    "Immutable data types are: int, float, bool, and tuple -- if you change these inside a function, it does \n",
    "NOT affect the value outside the function\n",
    "\n",
    "Mutable data types are: list, dict, and set -- if you change these inside a function, it DOES \n",
    "affect the value outside the function "
   ]
  },
  {
   "cell_type": "code",
   "execution_count": 41,
   "id": "5457082b-00c5-420c-9100-97a36b94481c",
   "metadata": {},
   "outputs": [
    {
     "data": {
      "text/plain": [
       "1"
      ]
     },
     "execution_count": 41,
     "metadata": {},
     "output_type": "execute_result"
    }
   ],
   "source": [
    "x = [ 1, 'A', 'b', True, 3.14, None]\n",
    "    # 0   1    2    3     4     5\n",
    "x[0]"
   ]
  },
  {
   "cell_type": "code",
   "execution_count": 42,
   "id": "b0ceb8e5-aac8-4524-9f38-50a822d29805",
   "metadata": {},
   "outputs": [
    {
     "data": {
      "text/plain": [
       "True"
      ]
     },
     "execution_count": 42,
     "metadata": {},
     "output_type": "execute_result"
    }
   ],
   "source": [
    "x[3]"
   ]
  },
  {
   "cell_type": "code",
   "execution_count": 24,
   "id": "3baa160e-2ad4-4a1a-bc83-975fd50dd12b",
   "metadata": {},
   "outputs": [],
   "source": [
    "x[5]"
   ]
  },
  {
   "cell_type": "code",
   "execution_count": 32,
   "id": "7327d08f-f1e2-468e-89b8-8c7142ed7b6b",
   "metadata": {},
   "outputs": [],
   "source": [
    "grades = ['A', 'B', 'C', 'D', 'F']"
   ]
  },
  {
   "cell_type": "code",
   "execution_count": 28,
   "id": "4cffbad5-df80-4670-98dc-606790ae15b2",
   "metadata": {},
   "outputs": [],
   "source": [
    "days_in_months1 = [0, 31, 28, 31, 30, 31, 30, 31, 31, 30, 31, 30, 31]\n",
    "#                  0   1   2   3   4   5   6   7   8   9  10  11  12"
   ]
  },
  {
   "cell_type": "code",
   "execution_count": 29,
   "id": "54daaf60-1574-4cbb-8e38-d85339b271f9",
   "metadata": {},
   "outputs": [],
   "source": [
    "days_in_months2 = [31, 28, 31, 30, 31, 30, 31, 31, 30, 31, 30, 31]\n",
    "#                  0   1   2   3   4   5   6   7   8    9  10  11  "
   ]
  },
  {
   "cell_type": "code",
   "execution_count": 30,
   "id": "2eb9df2c-6a86-4bd8-b63f-1b475a470adb",
   "metadata": {},
   "outputs": [
    {
     "data": {
      "text/plain": [
       "31"
      ]
     },
     "execution_count": 30,
     "metadata": {},
     "output_type": "execute_result"
    }
   ],
   "source": [
    "days_in_months2[9]"
   ]
  },
  {
   "cell_type": "code",
   "execution_count": 31,
   "id": "846dde6a-63dc-4e0f-a136-03e241947280",
   "metadata": {},
   "outputs": [
    {
     "data": {
      "text/plain": [
       "31"
      ]
     },
     "execution_count": 31,
     "metadata": {},
     "output_type": "execute_result"
    }
   ],
   "source": [
    "days_in_months1[10]"
   ]
  },
  {
   "cell_type": "code",
   "execution_count": 35,
   "id": "d14cccc2-762a-408e-b7b1-b5e6c641ec97",
   "metadata": {},
   "outputs": [
    {
     "data": {
      "text/plain": [
       "'D'"
      ]
     },
     "execution_count": 35,
     "metadata": {},
     "output_type": "execute_result"
    }
   ],
   "source": [
    "grades = ['A', 'B', 'C', 'D', 'F']\n",
    "grades[3]"
   ]
  },
  {
   "cell_type": "code",
   "execution_count": null,
   "id": "7a29a62f-1b6b-4cee-895b-94e47080cb03",
   "metadata": {},
   "outputs": [],
   "source": [
    "[0, 31, 28, 31, 30, 31, 30, 31, 31, 30, 31, 30, 31]\n",
    "start = 5\n",
    "end = 9 # 8"
   ]
  },
  {
   "cell_type": "code",
   "execution_count": 39,
   "id": "851e0865-a6b5-4ee7-8b02-77e5b8dbb4d0",
   "metadata": {},
   "outputs": [],
   "source": [
    "months = [None, 'Jan', 'Feb', 'Mar', 'Apr', 'May', 'Jun', 'Jul', 'Aug', 'Sep', 'Oct', 'Nov', 'Dec']\n",
    "#                 1      2     3       4       5     6      7      8     9       10    11     12\n"
   ]
  },
  {
   "cell_type": "code",
   "execution_count": 47,
   "id": "429d009e-d2d2-4233-b944-776c2fd5f574",
   "metadata": {},
   "outputs": [
    {
     "ename": "SyntaxError",
     "evalue": "closing parenthesis ')' does not match opening parenthesis '[' (3666471829.py, line 1)",
     "output_type": "error",
     "traceback": [
      "\u001b[0;36m  Cell \u001b[0;32mIn[47], line 1\u001b[0;36m\u001b[0m\n\u001b[0;31m    months[5:9) #\u001b[0m\n\u001b[0m              ^\u001b[0m\n\u001b[0;31mSyntaxError\u001b[0m\u001b[0;31m:\u001b[0m closing parenthesis ')' does not match opening parenthesis '['\n"
     ]
    }
   ],
   "source": [
    "months[5:9) #"
   ]
  },
  {
   "cell_type": "code",
   "execution_count": null,
   "id": "ac70388d-cc9b-44ae-83d2-b54ad79072e9",
   "metadata": {},
   "outputs": [],
   "source": [
    "x = [1, 2, 3] # list -- can be modified\n",
    "y = (1, 2, 3) # tuple  -- cannot be modified"
   ]
  },
  {
   "cell_type": "code",
   "execution_count": 51,
   "id": "1c2b86ff-879f-492f-84b0-af9e2b308612",
   "metadata": {},
   "outputs": [
    {
     "data": {
      "text/plain": [
       "['May', 'Jun', 'Jul', 'Aug', 'Sep', 'Oct', 'Nov', 'Dec']"
      ]
     },
     "execution_count": 51,
     "metadata": {},
     "output_type": "execute_result"
    }
   ],
   "source": [
    "# start \n",
    "# end\n",
    "# step/ skip factor\n",
    "months[5:]"
   ]
  },
  {
   "cell_type": "code",
   "execution_count": 45,
   "id": "cfb4a6e7-0737-4a74-ad01-c0ba4c3f44dc",
   "metadata": {},
   "outputs": [
    {
     "data": {
      "text/plain": [
       "['May', 'Jul', 'Sep', 'Nov']"
      ]
     },
     "execution_count": 45,
     "metadata": {},
     "output_type": "execute_result"
    }
   ],
   "source": [
    "months[5::2]"
   ]
  },
  {
   "cell_type": "code",
   "execution_count": 48,
   "id": "78bb549e-7228-4cf4-a82b-8d0d0f89c4ab",
   "metadata": {},
   "outputs": [
    {
     "data": {
      "text/plain": [
       "['May', 'Jun', 'Jul', 'Aug', 'Sep', 'Oct', 'Nov', 'Dec']"
      ]
     },
     "execution_count": 48,
     "metadata": {},
     "output_type": "execute_result"
    }
   ],
   "source": [
    "months[5:]"
   ]
  },
  {
   "cell_type": "code",
   "execution_count": 49,
   "id": "7f5e53e3-c6a5-43e6-b656-b490993c24dd",
   "metadata": {},
   "outputs": [
    {
     "data": {
      "text/plain": [
       "['May', 'Jun', 'Jul', 'Aug', 'Sep', 'Oct', 'Nov', 'Dec']"
      ]
     },
     "execution_count": 49,
     "metadata": {},
     "output_type": "execute_result"
    }
   ],
   "source": [
    "months[5:13]"
   ]
  },
  {
   "cell_type": "code",
   "execution_count": 50,
   "id": "0282df31-41f0-4abb-9ef4-ad1b3b798d71",
   "metadata": {},
   "outputs": [
    {
     "data": {
      "text/plain": [
       "['May', 'Jun', 'Jul', 'Aug', 'Sep', 'Oct', 'Nov']"
      ]
     },
     "execution_count": 50,
     "metadata": {},
     "output_type": "execute_result"
    }
   ],
   "source": [
    "months[5:12]"
   ]
  },
  {
   "cell_type": "code",
   "execution_count": 52,
   "id": "55496402-9666-4942-9fee-0fad41ad8029",
   "metadata": {},
   "outputs": [
    {
     "data": {
      "text/plain": [
       "[None, 'Jan', 'Feb', 'Mar', 'Apr']"
      ]
     },
     "execution_count": 52,
     "metadata": {},
     "output_type": "execute_result"
    }
   ],
   "source": [
    "months[:5]"
   ]
  },
  {
   "cell_type": "code",
   "execution_count": 53,
   "id": "05fa5592-0c10-4294-813f-2f6059d6a044",
   "metadata": {},
   "outputs": [
    {
     "data": {
      "text/plain": [
       "['Jan', 'Feb', 'Mar', 'Apr']"
      ]
     },
     "execution_count": 53,
     "metadata": {},
     "output_type": "execute_result"
    }
   ],
   "source": [
    "months[1:5]"
   ]
  },
  {
   "cell_type": "code",
   "execution_count": 54,
   "id": "e02e63c2-e44d-42b8-8d14-e772d1adb6bd",
   "metadata": {},
   "outputs": [
    {
     "data": {
      "text/plain": [
       "['Mar', 'Apr', 'May', 'Jun', 'Jul', 'Aug', 'Sep']"
      ]
     },
     "execution_count": 54,
     "metadata": {},
     "output_type": "execute_result"
    }
   ],
   "source": [
    "months[3:10]"
   ]
  },
  {
   "cell_type": "code",
   "execution_count": 57,
   "id": "2dc70839-e518-42bc-b2cb-5616de7343e0",
   "metadata": {},
   "outputs": [
    {
     "data": {
      "text/plain": [
       "['Mar', 'Jun', 'Sep']"
      ]
     },
     "execution_count": 57,
     "metadata": {},
     "output_type": "execute_result"
    }
   ],
   "source": [
    "months[3:10:3]"
   ]
  },
  {
   "cell_type": "code",
   "execution_count": 59,
   "id": "bc0fbe7e-a324-43e5-9232-92376c72d1b8",
   "metadata": {},
   "outputs": [
    {
     "data": {
      "text/plain": [
       "[None, 'Feb', 'Apr', 'Jun', 'Aug']"
      ]
     },
     "execution_count": 59,
     "metadata": {},
     "output_type": "execute_result"
    }
   ],
   "source": [
    "months[:10:2]"
   ]
  },
  {
   "cell_type": "code",
   "execution_count": 60,
   "id": "ca7ab5d5-d489-4a10-84eb-de8623b600f7",
   "metadata": {},
   "outputs": [
    {
     "data": {
      "text/plain": [
       "'F'"
      ]
     },
     "execution_count": 60,
     "metadata": {},
     "output_type": "execute_result"
    }
   ],
   "source": [
    "grades = ['A', 'B', 'C', 'D', 'F']\n",
    "grades[-1] # returns the last element in the list"
   ]
  },
  {
   "cell_type": "code",
   "execution_count": 62,
   "id": "16634a31-de6f-45eb-a937-e5741efc4599",
   "metadata": {},
   "outputs": [
    {
     "data": {
      "text/plain": [
       "'B'"
      ]
     },
     "execution_count": 62,
     "metadata": {},
     "output_type": "execute_result"
    }
   ],
   "source": [
    "grades = ['A', 'B', 'C', 'D', 'F']\n",
    "#         -5    -4   -3   -2   -1\n",
    "\n",
    "grades[-4]"
   ]
  },
  {
   "cell_type": "code",
   "execution_count": 63,
   "id": "0820557b-8ecd-47c4-8334-1648dc51f45c",
   "metadata": {},
   "outputs": [
    {
     "data": {
      "text/plain": [
       "['A', 'B', 'C', 'D', 'F']"
      ]
     },
     "execution_count": 63,
     "metadata": {},
     "output_type": "execute_result"
    }
   ],
   "source": [
    "grades[::1]"
   ]
  },
  {
   "cell_type": "code",
   "execution_count": 64,
   "id": "469aa32c-ecd8-4db6-8940-e566b57f422f",
   "metadata": {},
   "outputs": [
    {
     "data": {
      "text/plain": [
       "['F', 'D', 'C', 'B', 'A']"
      ]
     },
     "execution_count": 64,
     "metadata": {},
     "output_type": "execute_result"
    }
   ],
   "source": [
    "grades[::-1]"
   ]
  },
  {
   "cell_type": "code",
   "execution_count": 65,
   "id": "8376ea1f-8bb9-4367-b1ed-6b7f3408eed3",
   "metadata": {},
   "outputs": [
    {
     "data": {
      "text/plain": [
       "5"
      ]
     },
     "execution_count": 65,
     "metadata": {},
     "output_type": "execute_result"
    }
   ],
   "source": [
    "len(grades)"
   ]
  },
  {
   "cell_type": "code",
   "execution_count": 67,
   "id": "d1d82409-b673-43c1-ac63-4c0937ea0630",
   "metadata": {},
   "outputs": [
    {
     "data": {
      "text/plain": [
       "['a', 'B', 'C', 'D', 'F']"
      ]
     },
     "execution_count": 67,
     "metadata": {},
     "output_type": "execute_result"
    }
   ],
   "source": [
    "grades = ['A', 'B', 'C', 'D', 'F']\n",
    "#          0    1    2    3    4  \n",
    "grades[0] = 'a'\n",
    "grades"
   ]
  },
  {
   "cell_type": "code",
   "execution_count": 68,
   "id": "df3fd4a2-0617-4738-aab6-fef0f13c4ca7",
   "metadata": {},
   "outputs": [
    {
     "data": {
      "text/plain": [
       "['a', 'a', 'C', 'D', 'F']"
      ]
     },
     "execution_count": 68,
     "metadata": {},
     "output_type": "execute_result"
    }
   ],
   "source": [
    "grades[1:2] = 'a' \n",
    "grades"
   ]
  },
  {
   "cell_type": "code",
   "execution_count": 69,
   "id": "18eb54ce-1ef7-4dcd-a86c-95dbf13571e2",
   "metadata": {},
   "outputs": [
    {
     "data": {
      "text/plain": [
       "['a', 'a', 'd', 'f']"
      ]
     },
     "execution_count": 69,
     "metadata": {},
     "output_type": "execute_result"
    }
   ],
   "source": [
    "grades[2:] = ['d', 'f']\n",
    "grades"
   ]
  },
  {
   "cell_type": "code",
   "execution_count": 70,
   "id": "1af3ceac-04af-4034-b188-20c7c2921ccc",
   "metadata": {},
   "outputs": [
    {
     "data": {
      "text/plain": [
       "['A', 'd', 'f']"
      ]
     },
     "execution_count": 70,
     "metadata": {},
     "output_type": "execute_result"
    }
   ],
   "source": [
    "grades = ['A', 'B', 'C', 'D', 'F']\n",
    "grades[1:] = ['d', 'f']\n",
    "grades"
   ]
  },
  {
   "cell_type": "code",
   "execution_count": 71,
   "id": "d473edaa-992a-4c54-ab40-a8d884bc0850",
   "metadata": {},
   "outputs": [
    {
     "data": {
      "text/plain": [
       "['A', 'd']"
      ]
     },
     "execution_count": 71,
     "metadata": {},
     "output_type": "execute_result"
    }
   ],
   "source": [
    "grades = ['A', 'B', 'C', 'D', 'F']\n",
    "grades[1:] = 'd'\n",
    "grades"
   ]
  },
  {
   "cell_type": "code",
   "execution_count": 72,
   "id": "5298e8c1-1334-48d5-913c-bfeeb3c2640d",
   "metadata": {},
   "outputs": [
    {
     "ename": "TypeError",
     "evalue": "can only assign an iterable",
     "output_type": "error",
     "traceback": [
      "\u001b[0;31m---------------------------------------------------------------------------\u001b[0m",
      "\u001b[0;31mTypeError\u001b[0m                                 Traceback (most recent call last)",
      "Cell \u001b[0;32mIn[72], line 2\u001b[0m\n\u001b[1;32m      1\u001b[0m grades \u001b[38;5;241m=\u001b[39m [\u001b[38;5;124m'\u001b[39m\u001b[38;5;124mA\u001b[39m\u001b[38;5;124m'\u001b[39m, \u001b[38;5;124m'\u001b[39m\u001b[38;5;124mB\u001b[39m\u001b[38;5;124m'\u001b[39m, \u001b[38;5;124m'\u001b[39m\u001b[38;5;124mC\u001b[39m\u001b[38;5;124m'\u001b[39m, \u001b[38;5;124m'\u001b[39m\u001b[38;5;124mD\u001b[39m\u001b[38;5;124m'\u001b[39m, \u001b[38;5;124m'\u001b[39m\u001b[38;5;124mF\u001b[39m\u001b[38;5;124m'\u001b[39m]\n\u001b[0;32m----> 2\u001b[0m \u001b[43mgrades\u001b[49m\u001b[43m[\u001b[49m\u001b[38;5;241;43m1\u001b[39;49m\u001b[43m:\u001b[49m\u001b[43m]\u001b[49m \u001b[38;5;241m=\u001b[39m \u001b[38;5;241m1\u001b[39m\n\u001b[1;32m      3\u001b[0m grades\n",
      "\u001b[0;31mTypeError\u001b[0m: can only assign an iterable"
     ]
    }
   ],
   "source": [
    "grades = ['A', 'B', 'C', 'D', 'F']\n",
    "grades[1:] = 1\n",
    "grades"
   ]
  },
  {
   "cell_type": "code",
   "execution_count": 73,
   "id": "a7fff462-8063-4a46-89f9-9acdd40adf22",
   "metadata": {},
   "outputs": [
    {
     "data": {
      "text/plain": [
       "'2'"
      ]
     },
     "execution_count": 73,
     "metadata": {},
     "output_type": "execute_result"
    }
   ],
   "source": [
    "# string is  sequence\n",
    "my_str = '01234'\n",
    "my_str[2]"
   ]
  },
  {
   "cell_type": "code",
   "execution_count": 74,
   "id": "d0e5e3cc-b3c1-4b84-b9a8-2a26665d51d1",
   "metadata": {},
   "outputs": [
    {
     "ename": "TypeError",
     "evalue": "'str' object does not support item assignment",
     "output_type": "error",
     "traceback": [
      "\u001b[0;31m---------------------------------------------------------------------------\u001b[0m",
      "\u001b[0;31mTypeError\u001b[0m                                 Traceback (most recent call last)",
      "Cell \u001b[0;32mIn[74], line 6\u001b[0m\n\u001b[1;32m      1\u001b[0m \u001b[38;5;66;03m# how does a string sequence differ from a list\u001b[39;00m\n\u001b[1;32m      2\u001b[0m \u001b[38;5;66;03m# immutable: int, float, str, tuple\u001b[39;00m\n\u001b[1;32m      3\u001b[0m \u001b[38;5;66;03m# mutable: list, dict, set\u001b[39;00m\n\u001b[1;32m      5\u001b[0m my_str \u001b[38;5;241m=\u001b[39m \u001b[38;5;124m'\u001b[39m\u001b[38;5;124m01234\u001b[39m\u001b[38;5;124m'\u001b[39m\n\u001b[0;32m----> 6\u001b[0m \u001b[43mmy_str\u001b[49m\u001b[43m[\u001b[49m\u001b[38;5;241;43m2\u001b[39;49m\u001b[43m]\u001b[49m \u001b[38;5;241m=\u001b[39m \u001b[38;5;124m'\u001b[39m\u001b[38;5;124mA\u001b[39m\u001b[38;5;124m'\u001b[39m\n",
      "\u001b[0;31mTypeError\u001b[0m: 'str' object does not support item assignment"
     ]
    }
   ],
   "source": [
    "# how does a string sequence differ from a list\n",
    "# immutable: int, float, str, tuple\n",
    "# mutable: list, dict, set\n",
    "\n",
    "my_str = '01234'\n",
    "my_str[2] = 'A'"
   ]
  },
  {
   "cell_type": "code",
   "execution_count": 75,
   "id": "063da0f3-642e-482a-bf95-a25a563beb89",
   "metadata": {},
   "outputs": [
    {
     "data": {
      "text/plain": [
       "['A', 'B', 'blah', 'D', 'F']"
      ]
     },
     "execution_count": 75,
     "metadata": {},
     "output_type": "execute_result"
    }
   ],
   "source": [
    "grades = ['A', 'B', 'C', 'D', 'F']\n",
    "grades[2] = 'blah'\n",
    "grades"
   ]
  },
  {
   "cell_type": "code",
   "execution_count": 76,
   "id": "3e2f1651-3834-4eb7-9263-e2757a91cfb5",
   "metadata": {},
   "outputs": [
    {
     "data": {
      "text/plain": [
       "['A', 'A', 'B', 100]"
      ]
     },
     "execution_count": 76,
     "metadata": {},
     "output_type": "execute_result"
    }
   ],
   "source": [
    "grades = ['A', 'B', 'C', 'D', 'F']\n",
    "grades[1:] = ['A', 'B', 100]\n",
    "grades"
   ]
  },
  {
   "cell_type": "code",
   "execution_count": 105,
   "id": "2c84bcce-b7dc-4a23-bb56-8276afd744fa",
   "metadata": {},
   "outputs": [
    {
     "data": {
      "text/plain": [
       "['A', 'a']"
      ]
     },
     "execution_count": 105,
     "metadata": {},
     "output_type": "execute_result"
    }
   ],
   "source": [
    "grades = ['A', 'B', 'C', 'D', 'F']\n",
    "grades[1:] = 'a'\n",
    "grades"
   ]
  },
  {
   "cell_type": "code",
   "execution_count": 106,
   "id": "d7fec99b-cc5e-45e3-af00-db9e78125db2",
   "metadata": {},
   "outputs": [
    {
     "ename": "TypeError",
     "evalue": "can only assign an iterable",
     "output_type": "error",
     "traceback": [
      "\u001b[0;31m---------------------------------------------------------------------------\u001b[0m",
      "\u001b[0;31mTypeError\u001b[0m                                 Traceback (most recent call last)",
      "Cell \u001b[0;32mIn[106], line 2\u001b[0m\n\u001b[1;32m      1\u001b[0m grades \u001b[38;5;241m=\u001b[39m [\u001b[38;5;124m'\u001b[39m\u001b[38;5;124mA\u001b[39m\u001b[38;5;124m'\u001b[39m, \u001b[38;5;124m'\u001b[39m\u001b[38;5;124mB\u001b[39m\u001b[38;5;124m'\u001b[39m, \u001b[38;5;124m'\u001b[39m\u001b[38;5;124mC\u001b[39m\u001b[38;5;124m'\u001b[39m, \u001b[38;5;124m'\u001b[39m\u001b[38;5;124mD\u001b[39m\u001b[38;5;124m'\u001b[39m, \u001b[38;5;124m'\u001b[39m\u001b[38;5;124mF\u001b[39m\u001b[38;5;124m'\u001b[39m]\n\u001b[0;32m----> 2\u001b[0m \u001b[43mgrades\u001b[49m\u001b[43m[\u001b[49m\u001b[38;5;241;43m1\u001b[39;49m\u001b[43m:\u001b[49m\u001b[43m]\u001b[49m \u001b[38;5;241m=\u001b[39m \u001b[38;5;241m1\u001b[39m\n\u001b[1;32m      3\u001b[0m grades\n",
      "\u001b[0;31mTypeError\u001b[0m: can only assign an iterable"
     ]
    }
   ],
   "source": [
    "grades = ['A', 'B', 'C', 'D', 'F']\n",
    "grades[1:] = 1\n",
    "grades"
   ]
  },
  {
   "cell_type": "code",
   "execution_count": 90,
   "id": "4f7b7651-0abd-4bba-9fdb-b1b1cf926d71",
   "metadata": {},
   "outputs": [
    {
     "data": {
      "text/plain": [
       "['A', 'lol', 'hi']"
      ]
     },
     "execution_count": 90,
     "metadata": {},
     "output_type": "execute_result"
    }
   ],
   "source": [
    "grades = ['A', 'B', 'C', 'D', 'F']\n",
    "grades[1:] = ['lol', 'hi']\n",
    "grades"
   ]
  },
  {
   "cell_type": "code",
   "execution_count": 91,
   "id": "a438fb74-f760-42e4-a525-163291cf4582",
   "metadata": {},
   "outputs": [
    {
     "data": {
      "text/plain": [
       "['A', 'lol', 'hi']"
      ]
     },
     "execution_count": 91,
     "metadata": {},
     "output_type": "execute_result"
    }
   ],
   "source": [
    "grades = ['A', 'B', 'C', 'D', 'F']\n",
    "grades[1:] = ('lol', 'hi')\n",
    "grades"
   ]
  },
  {
   "cell_type": "code",
   "execution_count": 92,
   "id": "bdccd77c-1075-4919-ab82-5973034b7135",
   "metadata": {},
   "outputs": [
    {
     "data": {
      "text/plain": [
       "['A', 'l', 'o', 'l']"
      ]
     },
     "execution_count": 92,
     "metadata": {},
     "output_type": "execute_result"
    }
   ],
   "source": [
    "grades = ['A', 'B', 'C', 'D', 'F']\n",
    "grades[1:] = ('lol')\n",
    "grades"
   ]
  },
  {
   "cell_type": "code",
   "execution_count": 93,
   "id": "4bdfa852-1463-4d7e-b33c-17e05450c2e4",
   "metadata": {},
   "outputs": [
    {
     "data": {
      "text/plain": [
       "str"
      ]
     },
     "execution_count": 93,
     "metadata": {},
     "output_type": "execute_result"
    }
   ],
   "source": [
    "type(('lol'))"
   ]
  },
  {
   "cell_type": "code",
   "execution_count": 94,
   "id": "7981596e-19f6-4e76-82d9-27835eddd50a",
   "metadata": {},
   "outputs": [
    {
     "data": {
      "text/plain": [
       "tuple"
      ]
     },
     "execution_count": 94,
     "metadata": {},
     "output_type": "execute_result"
    }
   ],
   "source": [
    "type(('lol',))"
   ]
  },
  {
   "cell_type": "code",
   "execution_count": 85,
   "id": "d937a8ef-09fd-49d8-90c4-fed24957b042",
   "metadata": {},
   "outputs": [
    {
     "data": {
      "text/plain": [
       "['A', 'a']"
      ]
     },
     "execution_count": 85,
     "metadata": {},
     "output_type": "execute_result"
    }
   ],
   "source": [
    "grades = ['A', 'B', 'C', 'D', 'F']\n",
    "grades[1:] = {'a':'c'}\n",
    "grades"
   ]
  },
  {
   "cell_type": "code",
   "execution_count": 86,
   "id": "639c633d-5d81-4ee2-b32c-7376539dbcbc",
   "metadata": {},
   "outputs": [
    {
     "data": {
      "text/plain": [
       "['A', 'a']"
      ]
     },
     "execution_count": 86,
     "metadata": {},
     "output_type": "execute_result"
    }
   ],
   "source": [
    "grades = ['A', 'B', 'C', 'D', 'F']\n",
    "grades[1:] = {'a'}\n",
    "grades"
   ]
  },
  {
   "cell_type": "code",
   "execution_count": null,
   "id": "7651e073-e1da-4cc7-ac92-fe16d723ea2b",
   "metadata": {},
   "outputs": [],
   "source": [
    "# sequence: str, list, tuple, dict, set "
   ]
  },
  {
   "cell_type": "code",
   "execution_count": 96,
   "id": "36a85438-f7fa-4aed-a79e-a2e3378d5bc9",
   "metadata": {},
   "outputs": [
    {
     "data": {
      "text/plain": [
       "['B', 'C', 'D', 'F']"
      ]
     },
     "execution_count": 96,
     "metadata": {},
     "output_type": "execute_result"
    }
   ],
   "source": [
    "grades = ['A', 'B', 'C', 'D', 'F']\n",
    "del grades[0]\n",
    "grades"
   ]
  },
  {
   "cell_type": "code",
   "execution_count": 97,
   "id": "adff0020-4451-4a73-9a4a-db7b670124e5",
   "metadata": {},
   "outputs": [
    {
     "data": {
      "text/plain": [
       "['B', 'F']"
      ]
     },
     "execution_count": 97,
     "metadata": {},
     "output_type": "execute_result"
    }
   ],
   "source": [
    "del grades[1:3]\n",
    "grades"
   ]
  },
  {
   "cell_type": "code",
   "execution_count": 98,
   "id": "91b02acb-ad9d-4347-8d35-3a473319f074",
   "metadata": {},
   "outputs": [],
   "source": [
    "del grades"
   ]
  },
  {
   "cell_type": "code",
   "execution_count": 99,
   "id": "0eea7ec6-e310-460c-a173-f969208c2f06",
   "metadata": {},
   "outputs": [
    {
     "ename": "NameError",
     "evalue": "name 'grades' is not defined",
     "output_type": "error",
     "traceback": [
      "\u001b[0;31m---------------------------------------------------------------------------\u001b[0m",
      "\u001b[0;31mNameError\u001b[0m                                 Traceback (most recent call last)",
      "Cell \u001b[0;32mIn[99], line 1\u001b[0m\n\u001b[0;32m----> 1\u001b[0m \u001b[43mgrades\u001b[49m\n",
      "\u001b[0;31mNameError\u001b[0m: name 'grades' is not defined"
     ]
    }
   ],
   "source": [
    "grades"
   ]
  },
  {
   "cell_type": "code",
   "execution_count": 108,
   "id": "8fa840bf-5b84-4d21-86f1-4c5364363852",
   "metadata": {},
   "outputs": [],
   "source": [
    "grades1 = ['A', 'B', 'C', 'D', 'F']\n",
    "grades2 = 'ABCDF'\n"
   ]
  },
  {
   "cell_type": "code",
   "execution_count": 109,
   "id": "67587b5d-1069-448f-a4c7-ab8c4cb159ff",
   "metadata": {},
   "outputs": [
    {
     "data": {
      "text/plain": [
       "['A', 'B', 'C', 'D', 'F']"
      ]
     },
     "execution_count": 109,
     "metadata": {},
     "output_type": "execute_result"
    }
   ],
   "source": [
    "grades3 = list(grades2)\n",
    "grades3"
   ]
  },
  {
   "cell_type": "code",
   "execution_count": 111,
   "id": "4b43c897-2744-494d-b5f8-a9d237f678ef",
   "metadata": {},
   "outputs": [
    {
     "data": {
      "text/plain": [
       "'ABcDF'"
      ]
     },
     "execution_count": 111,
     "metadata": {},
     "output_type": "execute_result"
    }
   ],
   "source": [
    "grades3 = list(grades2)\n",
    "grades3[2] = 'c'\n",
    "grades3 = ''.join(grades3)\n",
    "grades3"
   ]
  },
  {
   "cell_type": "code",
   "execution_count": 112,
   "id": "67500dca-f2b2-4b28-98f5-3d04877b262d",
   "metadata": {},
   "outputs": [
    {
     "data": {
      "text/plain": [
       "'A---B---c---D---F'"
      ]
     },
     "execution_count": 112,
     "metadata": {},
     "output_type": "execute_result"
    }
   ],
   "source": [
    "'---'.join(grades3)"
   ]
  },
  {
   "cell_type": "code",
   "execution_count": 113,
   "id": "aa169da1-0d92-47fb-9b86-56bad531cc17",
   "metadata": {},
   "outputs": [
    {
     "ename": "TypeError",
     "evalue": "sequence item 0: expected str instance, int found",
     "output_type": "error",
     "traceback": [
      "\u001b[0;31m---------------------------------------------------------------------------\u001b[0m",
      "\u001b[0;31mTypeError\u001b[0m                                 Traceback (most recent call last)",
      "Cell \u001b[0;32mIn[113], line 1\u001b[0m\n\u001b[0;32m----> 1\u001b[0m \u001b[38;5;124;43m'\u001b[39;49m\u001b[38;5;124;43m---\u001b[39;49m\u001b[38;5;124;43m'\u001b[39;49m\u001b[38;5;241;43m.\u001b[39;49m\u001b[43mjoin\u001b[49m\u001b[43m(\u001b[49m\u001b[43m[\u001b[49m\u001b[38;5;241;43m1\u001b[39;49m\u001b[43m,\u001b[49m\u001b[43m \u001b[49m\u001b[38;5;241;43m2\u001b[39;49m\u001b[43m,\u001b[49m\u001b[43m \u001b[49m\u001b[38;5;241;43m3\u001b[39;49m\u001b[43m]\u001b[49m\u001b[43m)\u001b[49m\n",
      "\u001b[0;31mTypeError\u001b[0m: sequence item 0: expected str instance, int found"
     ]
    }
   ],
   "source": [
    "'---'.join([1, 2, 3])"
   ]
  },
  {
   "cell_type": "code",
   "execution_count": 117,
   "id": "b1543113-e8c9-4b50-8794-4ab59ccd8c02",
   "metadata": {},
   "outputs": [
    {
     "data": {
      "text/plain": [
       "'1---2---3'"
      ]
     },
     "execution_count": 117,
     "metadata": {},
     "output_type": "execute_result"
    }
   ],
   "source": [
    "'---'.join(['1', '2', '3'])"
   ]
  },
  {
   "cell_type": "code",
   "execution_count": 118,
   "id": "ae75b84f-9711-4804-bebe-f724ddb97f97",
   "metadata": {},
   "outputs": [
    {
     "data": {
      "text/plain": [
       "'1---2---3'"
      ]
     },
     "execution_count": 118,
     "metadata": {},
     "output_type": "execute_result"
    }
   ],
   "source": [
    "'---'.join(('1', '2', '3'))"
   ]
  },
  {
   "cell_type": "code",
   "execution_count": 119,
   "id": "3b5a1322-6672-45f2-97f5-c3dc5bf3d554",
   "metadata": {},
   "outputs": [
    {
     "data": {
      "text/plain": [
       "'1---2---3'"
      ]
     },
     "execution_count": 119,
     "metadata": {},
     "output_type": "execute_result"
    }
   ],
   "source": [
    "'---'.join('123')"
   ]
  },
  {
   "cell_type": "code",
   "execution_count": 120,
   "id": "610ddb72-53a5-4a07-99da-f2c85996ede0",
   "metadata": {},
   "outputs": [
    {
     "ename": "TypeError",
     "evalue": "sequence item 0: expected str instance, int found",
     "output_type": "error",
     "traceback": [
      "\u001b[0;31m---------------------------------------------------------------------------\u001b[0m",
      "\u001b[0;31mTypeError\u001b[0m                                 Traceback (most recent call last)",
      "Cell \u001b[0;32mIn[120], line 1\u001b[0m\n\u001b[0;32m----> 1\u001b[0m \u001b[38;5;124;43m'\u001b[39;49m\u001b[38;5;124;43m---\u001b[39;49m\u001b[38;5;124;43m'\u001b[39;49m\u001b[38;5;241;43m.\u001b[39;49m\u001b[43mjoin\u001b[49m\u001b[43m(\u001b[49m\u001b[43m[\u001b[49m\u001b[38;5;241;43m1\u001b[39;49m\u001b[43m,\u001b[49m\u001b[43m \u001b[49m\u001b[38;5;241;43m2\u001b[39;49m\u001b[43m,\u001b[49m\u001b[43m \u001b[49m\u001b[38;5;241;43m3\u001b[39;49m\u001b[43m]\u001b[49m\u001b[43m)\u001b[49m\n",
      "\u001b[0;31mTypeError\u001b[0m: sequence item 0: expected str instance, int found"
     ]
    }
   ],
   "source": [
    "'---'.join([1, 2, 3])"
   ]
  },
  {
   "cell_type": "code",
   "execution_count": 121,
   "id": "a16b37bc-259e-4c04-a7dd-d51750e83e4d",
   "metadata": {},
   "outputs": [
    {
     "data": {
      "text/plain": [
       "'1---2---3'"
      ]
     },
     "execution_count": 121,
     "metadata": {},
     "output_type": "execute_result"
    }
   ],
   "source": [
    "'---'.join([str(1), str(2), str(3)])"
   ]
  },
  {
   "cell_type": "code",
   "execution_count": 123,
   "id": "129f54c8-0358-4b3f-aa0d-3f25d7fcf56a",
   "metadata": {},
   "outputs": [
    {
     "data": {
      "text/plain": [
       "'F'"
      ]
     },
     "execution_count": 123,
     "metadata": {},
     "output_type": "execute_result"
    }
   ],
   "source": [
    "grades = ['A', 'B', 'C', 'D', 'F']\n",
    "grades.pop() # deletes the last element in list and returns it "
   ]
  },
  {
   "cell_type": "code",
   "execution_count": 126,
   "id": "ea5b748b-a18c-418e-87aa-c2ec6d335b77",
   "metadata": {},
   "outputs": [
    {
     "name": "stdout",
     "output_type": "stream",
     "text": [
      "F\n",
      "['A', 'B', 'C', 'D']\n"
     ]
    }
   ],
   "source": [
    "grades = ['A', 'B', 'C', 'D', 'F']\n",
    "pop_val = grades.pop() # deletes the last element in list and returns it \n",
    "print(pop_val)\n",
    "print(grades)"
   ]
  },
  {
   "cell_type": "code",
   "execution_count": 125,
   "id": "0d69465a-490c-404d-8f05-c8d26711ae5e",
   "metadata": {},
   "outputs": [
    {
     "ename": "SyntaxError",
     "evalue": "invalid syntax (789799086.py, line 1)",
     "output_type": "error",
     "traceback": [
      "\u001b[0;36m  Cell \u001b[0;32mIn[125], line 1\u001b[0;36m\u001b[0m\n\u001b[0;31m    x = del grades[0]\u001b[0m\n\u001b[0m        ^\u001b[0m\n\u001b[0;31mSyntaxError\u001b[0m\u001b[0;31m:\u001b[0m invalid syntax\n"
     ]
    }
   ],
   "source": [
    "x = del grades[0]"
   ]
  },
  {
   "cell_type": "code",
   "execution_count": 127,
   "id": "da2ebedb-b5b9-428d-9fd3-54ce6b82c54e",
   "metadata": {},
   "outputs": [
    {
     "data": {
      "text/plain": [
       "'A'"
      ]
     },
     "execution_count": 127,
     "metadata": {},
     "output_type": "execute_result"
    }
   ],
   "source": [
    "grades.pop(0) "
   ]
  },
  {
   "cell_type": "code",
   "execution_count": 131,
   "id": "1d1fc5af-281b-436f-8062-6865fa6e4ea1",
   "metadata": {},
   "outputs": [
    {
     "data": {
      "text/plain": [
       "'C'"
      ]
     },
     "execution_count": 131,
     "metadata": {},
     "output_type": "execute_result"
    }
   ],
   "source": [
    "grades.pop(1)"
   ]
  },
  {
   "cell_type": "code",
   "execution_count": null,
   "id": "816747a1-84a3-4e5a-865e-58d02573f5ce",
   "metadata": {},
   "outputs": [],
   "source": []
  }
 ],
 "metadata": {
  "kernelspec": {
   "display_name": "Python 3 (ipykernel)",
   "language": "python",
   "name": "python3"
  },
  "language_info": {
   "codemirror_mode": {
    "name": "ipython",
    "version": 3
   },
   "file_extension": ".py",
   "mimetype": "text/x-python",
   "name": "python",
   "nbconvert_exporter": "python",
   "pygments_lexer": "ipython3",
   "version": "3.12.4"
  }
 },
 "nbformat": 4,
 "nbformat_minor": 5
}
