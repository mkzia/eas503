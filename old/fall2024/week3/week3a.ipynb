{
 "cells": [
  {
   "cell_type": "code",
   "execution_count": 1,
   "id": "f87e7266-f351-442c-b4c9-2fa3565ced00",
   "metadata": {},
   "outputs": [
    {
     "data": {
      "text/plain": [
       "'********************************************************************************'"
      ]
     },
     "execution_count": 1,
     "metadata": {},
     "output_type": "execute_result"
    }
   ],
   "source": [
    "'*' * 80"
   ]
  },
  {
   "cell_type": "code",
   "execution_count": 2,
   "id": "d904146e-2b98-42f6-8dcd-2aced773b8ad",
   "metadata": {},
   "outputs": [
    {
     "data": {
      "text/plain": [
       "'********************************************************************************'"
      ]
     },
     "execution_count": 2,
     "metadata": {},
     "output_type": "execute_result"
    }
   ],
   "source": [
    "80 * '*'"
   ]
  },
  {
   "cell_type": "code",
   "execution_count": 3,
   "id": "a61fd09c-e082-456d-8124-7043e28ffae1",
   "metadata": {},
   "outputs": [],
   "source": [
    "x = True"
   ]
  },
  {
   "cell_type": "code",
   "execution_count": 4,
   "id": "4008a38b-d214-43ab-b72b-2fd8e429b5b9",
   "metadata": {},
   "outputs": [
    {
     "data": {
      "text/plain": [
       "bool"
      ]
     },
     "execution_count": 4,
     "metadata": {},
     "output_type": "execute_result"
    }
   ],
   "source": [
    "type(x)"
   ]
  },
  {
   "cell_type": "code",
   "execution_count": 8,
   "id": "c4f25456-6d32-41d2-98cd-a37ab57ca7ba",
   "metadata": {},
   "outputs": [
    {
     "data": {
      "text/plain": [
       "type"
      ]
     },
     "execution_count": 8,
     "metadata": {},
     "output_type": "execute_result"
    }
   ],
   "source": [
    "y = 39\n",
    "z = type(39)\n",
    "type(z)"
   ]
  },
  {
   "cell_type": "code",
   "execution_count": 9,
   "id": "fc706bda-5804-47a8-ac6a-e87caecc349e",
   "metadata": {},
   "outputs": [
    {
     "data": {
      "text/plain": [
       "int"
      ]
     },
     "execution_count": 9,
     "metadata": {},
     "output_type": "execute_result"
    }
   ],
   "source": [
    "z."
   ]
  },
  {
   "cell_type": "code",
   "execution_count": null,
   "id": "c971f414-d5c6-4e6e-a3f1-3ab6d7173e0c",
   "metadata": {},
   "outputs": [],
   "source": [
    "False"
   ]
  },
  {
   "cell_type": "code",
   "execution_count": 10,
   "id": "39f41427-d2b4-4f15-b197-1945f1c8b3b6",
   "metadata": {},
   "outputs": [
    {
     "data": {
      "text/plain": [
       "False"
      ]
     },
     "execution_count": 10,
     "metadata": {},
     "output_type": "execute_result"
    }
   ],
   "source": [
    "not True"
   ]
  },
  {
   "cell_type": "code",
   "execution_count": 11,
   "id": "473d3fb8-370a-4778-b379-e8db44192ee1",
   "metadata": {},
   "outputs": [
    {
     "data": {
      "text/plain": [
       "True"
      ]
     },
     "execution_count": 11,
     "metadata": {},
     "output_type": "execute_result"
    }
   ],
   "source": [
    "not False"
   ]
  },
  {
   "cell_type": "code",
   "execution_count": 12,
   "id": "5b995656-9426-42a6-b9d1-832952f6a3b8",
   "metadata": {},
   "outputs": [
    {
     "data": {
      "text/plain": [
       "True"
      ]
     },
     "execution_count": 12,
     "metadata": {},
     "output_type": "execute_result"
    }
   ],
   "source": [
    "True and True"
   ]
  },
  {
   "cell_type": "code",
   "execution_count": 13,
   "id": "5e629933-33a3-467f-a57a-c728aa2ac7d5",
   "metadata": {},
   "outputs": [
    {
     "data": {
      "text/plain": [
       "False"
      ]
     },
     "execution_count": 13,
     "metadata": {},
     "output_type": "execute_result"
    }
   ],
   "source": [
    "True and False "
   ]
  },
  {
   "cell_type": "code",
   "execution_count": 14,
   "id": "0e3161b6-5bbc-4d8f-bbbd-7c2f0a035a61",
   "metadata": {},
   "outputs": [
    {
     "data": {
      "text/plain": [
       "False"
      ]
     },
     "execution_count": 14,
     "metadata": {},
     "output_type": "execute_result"
    }
   ],
   "source": [
    "False and True"
   ]
  },
  {
   "cell_type": "code",
   "execution_count": 15,
   "id": "ed6094cc-5f9f-467f-ac65-28fb89a647af",
   "metadata": {},
   "outputs": [
    {
     "data": {
      "text/plain": [
       "False"
      ]
     },
     "execution_count": 15,
     "metadata": {},
     "output_type": "execute_result"
    }
   ],
   "source": [
    "False and False"
   ]
  },
  {
   "cell_type": "code",
   "execution_count": 16,
   "id": "bd8ecb49-26db-42ab-9366-2622f3c1a2dd",
   "metadata": {},
   "outputs": [
    {
     "data": {
      "text/plain": [
       "True"
      ]
     },
     "execution_count": 16,
     "metadata": {},
     "output_type": "execute_result"
    }
   ],
   "source": [
    "True or False"
   ]
  },
  {
   "cell_type": "code",
   "execution_count": 17,
   "id": "2d2ed6cc-72e0-4cd0-9f31-3d0d1bd36329",
   "metadata": {},
   "outputs": [
    {
     "data": {
      "text/plain": [
       "True"
      ]
     },
     "execution_count": 17,
     "metadata": {},
     "output_type": "execute_result"
    }
   ],
   "source": [
    "False or True"
   ]
  },
  {
   "cell_type": "code",
   "execution_count": 18,
   "id": "19be11db-c758-43ee-97bd-af2f36dbe9e4",
   "metadata": {},
   "outputs": [
    {
     "data": {
      "text/plain": [
       "False"
      ]
     },
     "execution_count": 18,
     "metadata": {},
     "output_type": "execute_result"
    }
   ],
   "source": [
    "cold = True\n",
    "windy = False\n",
    "\n",
    "(not cold) and windy # It is not cold and windy"
   ]
  },
  {
   "cell_type": "code",
   "execution_count": null,
   "id": "be774fd1-070f-42f5-bb46-12a751323ae4",
   "metadata": {},
   "outputs": [],
   "source": [
    "98\n",
    "80\n",
    "90\n",
    "0\n",
    "# NA\n",
    "33"
   ]
  },
  {
   "cell_type": "code",
   "execution_count": 19,
   "id": "410592d2-09ec-4b4c-8197-6746f4060240",
   "metadata": {},
   "outputs": [
    {
     "data": {
      "text/plain": [
       "True"
      ]
     },
     "execution_count": 19,
     "metadata": {},
     "output_type": "execute_result"
    }
   ],
   "source": [
    "a = 1\n",
    "b = 1\n",
    "\n",
    "a == b"
   ]
  },
  {
   "cell_type": "code",
   "execution_count": null,
   "id": "b19e794e-be11-4c94-8cff-c80d509162b4",
   "metadata": {},
   "outputs": [],
   "source": [
    "x = a = b"
   ]
  },
  {
   "cell_type": "code",
   "execution_count": 20,
   "id": "d21396b6-b39e-4c99-893f-fcd7305dc343",
   "metadata": {},
   "outputs": [
    {
     "data": {
      "text/plain": [
       "True"
      ]
     },
     "execution_count": 20,
     "metadata": {},
     "output_type": "execute_result"
    }
   ],
   "source": [
    "10.0 == 10"
   ]
  },
  {
   "cell_type": "code",
   "execution_count": 21,
   "id": "ec88f8e4-61fa-4ebf-8411-1d9d54f2f4a2",
   "metadata": {},
   "outputs": [
    {
     "data": {
      "text/plain": [
       "True"
      ]
     },
     "execution_count": 21,
     "metadata": {},
     "output_type": "execute_result"
    }
   ],
   "source": [
    "x = 2\n",
    "y = 5\n",
    "z = 7\n",
    "x < y and y < z"
   ]
  },
  {
   "cell_type": "code",
   "execution_count": 22,
   "id": "e798f020-9b08-4ace-8308-2abfcce1dc9e",
   "metadata": {},
   "outputs": [
    {
     "data": {
      "text/plain": [
       "True"
      ]
     },
     "execution_count": 22,
     "metadata": {},
     "output_type": "execute_result"
    }
   ],
   "source": [
    "3 < 5 != True "
   ]
  },
  {
   "cell_type": "code",
   "execution_count": 23,
   "id": "cae52693-2b51-49f7-a35d-0a7a5870e494",
   "metadata": {},
   "outputs": [
    {
     "data": {
      "text/plain": [
       "True"
      ]
     },
     "execution_count": 23,
     "metadata": {},
     "output_type": "execute_result"
    }
   ],
   "source": [
    "3 < 5 != False"
   ]
  },
  {
   "cell_type": "code",
   "execution_count": 25,
   "id": "a115e76f-2e8e-4483-b5bf-35e30d5bfa99",
   "metadata": {},
   "outputs": [
    {
     "data": {
      "text/plain": [
       "True"
      ]
     },
     "execution_count": 25,
     "metadata": {},
     "output_type": "execute_result"
    }
   ],
   "source": [
    "(3 < 5) and (5 != False)\n",
    "# T and T --> T"
   ]
  },
  {
   "cell_type": "code",
   "execution_count": 26,
   "id": "8e9fad0b-87f9-4ec0-96c0-2fe49b3e24d9",
   "metadata": {},
   "outputs": [
    {
     "data": {
      "text/plain": [
       "True"
      ]
     },
     "execution_count": 26,
     "metadata": {},
     "output_type": "execute_result"
    }
   ],
   "source": [
    "(3 < 5) and (5 != 0)\n",
    "# T and T --> T"
   ]
  },
  {
   "cell_type": "code",
   "execution_count": 27,
   "id": "05bd7dd0-c2cf-4391-9072-b5cb052cf744",
   "metadata": {},
   "outputs": [
    {
     "name": "stdout",
     "output_type": "stream",
     "text": [
      "Enter!\n"
     ]
    }
   ],
   "source": [
    "is_superuser = True\n",
    "is_staff = True\n",
    "is_active = False\n",
    "if is_superuser or (is_staff and is_active): # if True or (True and False) ==>  True or False ==> True\n",
    "    print('Enter!')\n",
    "else:\n",
    "    print('You Shall Not Pass!')"
   ]
  },
  {
   "cell_type": "code",
   "execution_count": 28,
   "id": "7d68d1c5-238a-4a5f-ba7c-c44a7b37b6a8",
   "metadata": {},
   "outputs": [
    {
     "name": "stdout",
     "output_type": "stream",
     "text": [
      "You Shall Not Pass!\n"
     ]
    }
   ],
   "source": [
    "is_superuser = False\n",
    "is_staff = True\n",
    "is_active = False\n",
    "if is_superuser or (is_staff and is_active): # if False or (True and False) ==>  False or False ==> False\n",
    "    print('Enter!')\n",
    "else:\n",
    "    print('You Shall Not Pass!')"
   ]
  },
  {
   "cell_type": "code",
   "execution_count": 29,
   "id": "e5be650d-d772-4335-a396-275a04f90eb7",
   "metadata": {},
   "outputs": [
    {
     "name": "stdout",
     "output_type": "stream",
     "text": [
      "Enter!\n"
     ]
    }
   ],
   "source": [
    "is_superuser = False\n",
    "is_staff = True\n",
    "is_active = True\n",
    "if is_superuser or (is_staff and is_active): # if False or (True and True) ==>  False or True ==> True\n",
    "    print('Enter!')\n",
    "else:\n",
    "    print('You Shall Not Pass!')"
   ]
  },
  {
   "cell_type": "code",
   "execution_count": 30,
   "id": "4011765e-831a-402f-b07c-d9c13d1919f7",
   "metadata": {},
   "outputs": [
    {
     "data": {
      "text/plain": [
       "True"
      ]
     },
     "execution_count": 30,
     "metadata": {},
     "output_type": "execute_result"
    }
   ],
   "source": [
    "1 < 2"
   ]
  },
  {
   "cell_type": "code",
   "execution_count": 31,
   "id": "89b44244-69b5-4110-aef3-db5094c0d036",
   "metadata": {},
   "outputs": [
    {
     "data": {
      "text/plain": [
       "True"
      ]
     },
     "execution_count": 31,
     "metadata": {},
     "output_type": "execute_result"
    }
   ],
   "source": [
    "'A' < 'a' # 65 < 97"
   ]
  },
  {
   "cell_type": "code",
   "execution_count": 32,
   "id": "e2e1a015-ed27-4cb5-8df9-191200d638fa",
   "metadata": {},
   "outputs": [
    {
     "data": {
      "text/plain": [
       "False"
      ]
     },
     "execution_count": 32,
     "metadata": {},
     "output_type": "execute_result"
    }
   ],
   "source": [
    "'A' > 'Z' # 65 > 90"
   ]
  },
  {
   "cell_type": "code",
   "execution_count": 33,
   "id": "f93024e0-b825-4322-b1ee-764b9c046966",
   "metadata": {},
   "outputs": [
    {
     "data": {
      "text/plain": [
       "True"
      ]
     },
     "execution_count": 33,
     "metadata": {},
     "output_type": "execute_result"
    }
   ],
   "source": [
    "'abc' < 'abd'"
   ]
  },
  {
   "cell_type": "code",
   "execution_count": null,
   "id": "7ef9d1ed-c42c-45ca-ae71-0ba36d19035e",
   "metadata": {},
   "outputs": [],
   "source": [
    "'abc' < 'abcd'"
   ]
  },
  {
   "cell_type": "code",
   "execution_count": 34,
   "id": "418c4c7e-96a2-4a67-af8b-689b029587af",
   "metadata": {},
   "outputs": [
    {
     "data": {
      "text/plain": [
       "True"
      ]
     },
     "execution_count": 34,
     "metadata": {},
     "output_type": "execute_result"
    }
   ],
   "source": [
    "\"john\" < \"johnny\""
   ]
  },
  {
   "cell_type": "code",
   "execution_count": null,
   "id": "dc6dd390-7531-4655-ad8b-ddb5e9a9022e",
   "metadata": {},
   "outputs": [],
   "source": [
    "\"john\" < \"Johnny\" # \"j\" < \"J\""
   ]
  },
  {
   "cell_type": "code",
   "execution_count": 35,
   "id": "379c0f03-0174-42ce-b76d-9debad35fb8e",
   "metadata": {},
   "outputs": [
    {
     "data": {
      "text/plain": [
       "True"
      ]
     },
     "execution_count": 35,
     "metadata": {},
     "output_type": "execute_result"
    }
   ],
   "source": [
    "'1' < '2'"
   ]
  },
  {
   "cell_type": "code",
   "execution_count": 36,
   "id": "b0ab390f-84fa-4a06-b795-95e74e6eb08b",
   "metadata": {},
   "outputs": [
    {
     "data": {
      "text/plain": [
       "True"
      ]
     },
     "execution_count": 36,
     "metadata": {},
     "output_type": "execute_result"
    }
   ],
   "source": [
    "'1' < '20'"
   ]
  },
  {
   "cell_type": "code",
   "execution_count": 37,
   "id": "a5bea64b-c166-4775-af9f-6988f5a4f828",
   "metadata": {},
   "outputs": [
    {
     "data": {
      "text/plain": [
       "False"
      ]
     },
     "execution_count": 37,
     "metadata": {},
     "output_type": "execute_result"
    }
   ],
   "source": [
    "'2' < '11' # '2' < '1'"
   ]
  },
  {
   "cell_type": "code",
   "execution_count": 39,
   "id": "18e8eed4-33bc-4cc2-9c29-35eb901a7648",
   "metadata": {},
   "outputs": [
    {
     "name": "stdin",
     "output_type": "stream",
     "text": [
      "Enter the pH level:  4\n"
     ]
    },
    {
     "name": "stdout",
     "output_type": "stream",
     "text": [
      "4.0  is acidic.\n"
     ]
    }
   ],
   "source": [
    "ph = float(input('Enter the pH level: '))\n",
    "if ph < 7.0:\n",
    "    print(ph, \" is acidic.\") #indentation important"
   ]
  },
  {
   "cell_type": "code",
   "execution_count": 41,
   "id": "c43761e6-b7df-43e6-b808-36499ac19b3c",
   "metadata": {},
   "outputs": [
    {
     "name": "stdin",
     "output_type": "stream",
     "text": [
      "Enter the pH level:  10\n"
     ]
    },
    {
     "name": "stdout",
     "output_type": "stream",
     "text": [
      "Here!\n"
     ]
    }
   ],
   "source": [
    "ph = float(input('Enter the pH level: '))\n",
    "if ph < 7.0:\n",
    "    print(ph, \" is acidic.\")\n",
    "    print('You should be careful with that!') #indentation is important\n",
    "print('Here!')"
   ]
  },
  {
   "cell_type": "code",
   "execution_count": 42,
   "id": "0f404888-93b2-4255-bb87-f166ec00f7e4",
   "metadata": {},
   "outputs": [
    {
     "name": "stdin",
     "output_type": "stream",
     "text": [
      "Enter the pH level:  3\n"
     ]
    },
    {
     "name": "stdout",
     "output_type": "stream",
     "text": [
      "3.0  is acidic.\n",
      "You should be careful with that!\n",
      "Here!\n"
     ]
    }
   ],
   "source": [
    "ph = float(input('Enter the pH level: '))\n",
    "if ph < 7.0:\n",
    "    print(ph, \" is acidic.\")\n",
    "    print('You should be careful with that!') #indentation is important\n",
    "print('Here!')"
   ]
  },
  {
   "cell_type": "code",
   "execution_count": 43,
   "id": "6383e45d-a3fd-4e7b-ad0c-c15aae3a7034",
   "metadata": {},
   "outputs": [
    {
     "name": "stdin",
     "output_type": "stream",
     "text": [
      "Enter the pH level:  4\n"
     ]
    },
    {
     "name": "stdout",
     "output_type": "stream",
     "text": [
      "4.0  is acidic.\n"
     ]
    }
   ],
   "source": [
    "ph = float(input('Enter the pH level: '))\n",
    "if ph < 7.0:\n",
    "    print(ph, \" is acidic.\") #indentation important\n",
    "\n",
    "if ph > 7.0:\n",
    "    print(ph, \" is basic.\") "
   ]
  },
  {
   "cell_type": "code",
   "execution_count": 45,
   "id": "7b6f5aa9-0841-416b-b904-671a2c1b0ba9",
   "metadata": {},
   "outputs": [
    {
     "name": "stdin",
     "output_type": "stream",
     "text": [
      "Enter the pH level:  8\n"
     ]
    },
    {
     "name": "stdout",
     "output_type": "stream",
     "text": [
      "8.0  is basic.\n"
     ]
    }
   ],
   "source": [
    "ph = float(input('Enter the pH level: '))\n",
    "if ph < 7.0:\n",
    "    print(ph, \" is acidic.\") #indentation important\n",
    "elif ph > 7.0:\n",
    "    print(ph, \" is basic.\") "
   ]
  },
  {
   "cell_type": "code",
   "execution_count": 48,
   "id": "dd13f296-094c-456d-a47c-c3ac214ca6a7",
   "metadata": {},
   "outputs": [
    {
     "name": "stdin",
     "output_type": "stream",
     "text": [
      "Enter the pH level:  7\n"
     ]
    }
   ],
   "source": [
    "ph = float(input('Enter the pH level: '))\n",
    "if ph < 7.0:\n",
    "    ph = 8.0 #indentation important\n",
    "if ph > 7.0:\n",
    "    print(ph, \" is basic.\") "
   ]
  },
  {
   "cell_type": "code",
   "execution_count": 72,
   "id": "fd17e379-dc7d-4bcb-89e3-f914103d5763",
   "metadata": {},
   "outputs": [
    {
     "name": "stdin",
     "output_type": "stream",
     "text": [
      "Enter the pH level:  5\n"
     ]
    },
    {
     "name": "stdout",
     "output_type": "stream",
     "text": [
      "5.0  is acidic.\n"
     ]
    }
   ],
   "source": [
    "value = input('Enter the pH level: ')\n",
    "# if len(value) > 0: #  value := value.strip()\n",
    "if value := value.strip():\n",
    "    ph = float(value) \n",
    "    if ph < 7.0:\n",
    "        print(ph, \" is acidic.\")\n",
    "    elif ph > 7.0:\n",
    "        print(ph, \" is basic.\")\n",
    "    else:\n",
    "        print(ph, \" is neutral.\")\n",
    "else:\n",
    "    print('No pH value was given!')"
   ]
  },
  {
   "cell_type": "code",
   "execution_count": 53,
   "id": "11621c16-01a9-4fda-8523-d162624a1ff9",
   "metadata": {},
   "outputs": [
    {
     "name": "stdout",
     "output_type": "stream",
     "text": [
      "Empty\n"
     ]
    }
   ],
   "source": [
    "val = '   '\n",
    "if len(val.strip()) > 0: # \n",
    "    print('Non Empty String')\n",
    "\n",
    "# len(val) == True\n",
    "# val.strip() == ''\n",
    "\n",
    "val = '     \\t'\n",
    "if val.strip():\n",
    "    print('Non Empty')\n",
    "else:\n",
    "    print('Empty')"
   ]
  },
  {
   "cell_type": "code",
   "execution_count": 59,
   "id": "8460e9e9-6f82-4b90-8063-d597678bd0df",
   "metadata": {},
   "outputs": [
    {
     "name": "stdout",
     "output_type": "stream",
     "text": [
      "Non Empty\n"
     ]
    }
   ],
   "source": [
    "val = '   3  \\t'\n",
    "if len(val.strip()) == True:\n",
    "    print('Non Empty')\n",
    "else:\n",
    "    print('Empty')"
   ]
  },
  {
   "cell_type": "code",
   "execution_count": 56,
   "id": "c5cbc39f-88ca-446e-aad4-a91922b89d5c",
   "metadata": {},
   "outputs": [
    {
     "data": {
      "text/plain": [
       "False"
      ]
     },
     "execution_count": 56,
     "metadata": {},
     "output_type": "execute_result"
    }
   ],
   "source": [
    "3 == True"
   ]
  },
  {
   "cell_type": "code",
   "execution_count": 57,
   "id": "3d1c3efd-7c92-4967-b4e1-816751d4f13a",
   "metadata": {},
   "outputs": [
    {
     "data": {
      "text/plain": [
       "False"
      ]
     },
     "execution_count": 57,
     "metadata": {},
     "output_type": "execute_result"
    }
   ],
   "source": [
    "3 == 1"
   ]
  },
  {
   "cell_type": "code",
   "execution_count": 62,
   "id": "f2b44abf-b996-44d5-84dd-e6cb587547f0",
   "metadata": {},
   "outputs": [
    {
     "name": "stdout",
     "output_type": "stream",
     "text": [
      "Empty\n"
     ]
    }
   ],
   "source": [
    "val = '   \\t'\n",
    "if val.strip() == '':\n",
    "    print('Empty')\n",
    "else:\n",
    "    print('Non Empty')"
   ]
  },
  {
   "cell_type": "code",
   "execution_count": 65,
   "id": "139fbf29-42be-4d67-9e5d-69a7040aabeb",
   "metadata": {},
   "outputs": [
    {
     "name": "stdout",
     "output_type": "stream",
     "text": [
      "AVDSDSSDSD ||\n"
     ]
    }
   ],
   "source": [
    "val = 'AVDSDSSDSD     '\n",
    "\n",
    "if val := val.strip():\n",
    "    print(val, '||')\n",
    "else:\n",
    "    print('Empty')"
   ]
  },
  {
   "cell_type": "code",
   "execution_count": 67,
   "id": "26311c2b-fc08-4f5c-8177-125b8a67c4a1",
   "metadata": {},
   "outputs": [
    {
     "name": "stdout",
     "output_type": "stream",
     "text": [
      "AVDSDSSDSD ||\n"
     ]
    }
   ],
   "source": [
    "val = 'AVDSDSSDSD     '\n",
    "\n",
    "if val.strip():\n",
    "    print(val.strip(), '||')\n",
    "else:\n",
    "    print('Empty')"
   ]
  },
  {
   "cell_type": "code",
   "execution_count": 66,
   "id": "aa3bd5f5-7b15-48bd-9fb9-a3b7ae55a62f",
   "metadata": {},
   "outputs": [
    {
     "name": "stdout",
     "output_type": "stream",
     "text": [
      "AVDSDSSDSD      ||\n"
     ]
    }
   ],
   "source": [
    "val = 'AVDSDSSDSD     '\n",
    "\n",
    "if val.strip():\n",
    "    print(val, '||')\n",
    "else:\n",
    "    print('Empty')"
   ]
  },
  {
   "cell_type": "code",
   "execution_count": 73,
   "id": "88c6f8a1-e251-423a-93df-14f67be0ad8f",
   "metadata": {},
   "outputs": [
    {
     "name": "stdout",
     "output_type": "stream",
     "text": [
      "2  is acidic\n"
     ]
    }
   ],
   "source": [
    "ph = 2\n",
    "if ph < 7.0:\n",
    "    print(ph, ' is acidic')\n",
    "elif ph < 3.0:\n",
    "    print(ph, ' is VERY acidic! Be careful.')"
   ]
  },
  {
   "cell_type": "code",
   "execution_count": 74,
   "id": "9c5ef44f-4eee-477e-9fa4-ce4864a06328",
   "metadata": {},
   "outputs": [
    {
     "name": "stdout",
     "output_type": "stream",
     "text": [
      "2  is VERY acidic! Be careful.\n"
     ]
    }
   ],
   "source": [
    "ph = 2\n",
    "if ph < 3.0:\n",
    "    print(ph, ' is VERY acidic! Be careful.')\n",
    "elif ph < 7.0:\n",
    "    print(ph, ' is acidic')\n"
   ]
  },
  {
   "cell_type": "code",
   "execution_count": null,
   "id": "beee0b0e-f3d4-4f4a-a87b-b5a0f161f90e",
   "metadata": {},
   "outputs": [],
   "source": [
    "# Given a number x, print FizzBuzz if it is a multiple of 5 and 7, Fizz if it is a multiple of 5, and Buzz if it is a multiple of 7.\n",
    "\n",
    "x = 35\n",
    "\n",
    "if x % 5 == 0:\n",
    "    print('Fizz')\n",
    "elif x % 7 == 0:\n",
    "    print('Buzz')\n",
    "elif x % 5 == 0 and x % 7 == 0:\n",
    "    print('Fizz"
   ]
  }
 ],
 "metadata": {
  "kernelspec": {
   "display_name": "Python 3 (ipykernel)",
   "language": "python",
   "name": "python3"
  },
  "language_info": {
   "codemirror_mode": {
    "name": "ipython",
    "version": 3
   },
   "file_extension": ".py",
   "mimetype": "text/x-python",
   "name": "python",
   "nbconvert_exporter": "python",
   "pygments_lexer": "ipython3",
   "version": "3.12.4"
  }
 },
 "nbformat": 4,
 "nbformat_minor": 5
}
