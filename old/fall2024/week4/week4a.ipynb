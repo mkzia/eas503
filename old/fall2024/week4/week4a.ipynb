{
 "cells": [
  {
   "cell_type": "code",
   "execution_count": 2,
   "id": "fbd64a5a-f251-4249-a7d6-3a331ad922d4",
   "metadata": {},
   "outputs": [
    {
     "name": "stdout",
     "output_type": "stream",
     "text": [
      "(82.28, 95.84)\n"
     ]
    }
   ],
   "source": [
    "mean = 89.06 \n",
    "std = 6.78\n",
    "\n",
    "#  68–95–99.7\n",
    "\n",
    "# 68 -- 89.06-6.78 -- 89.06+6.78)\n",
    "\n",
    "std1 = (89.06-(6.78*1), 89.06+(6.78*1))\n",
    "print(std1)"
   ]
  },
  {
   "cell_type": "code",
   "execution_count": 3,
   "id": "3b9a04b0-da00-4d07-98b5-e4342b4044fd",
   "metadata": {},
   "outputs": [
    {
     "data": {
      "text/plain": [
       "(75.5, 102.62)"
      ]
     },
     "execution_count": 3,
     "metadata": {},
     "output_type": "execute_result"
    }
   ],
   "source": [
    "(89.06-(6.78*2), 89.06+(6.78*2))\n"
   ]
  },
  {
   "cell_type": "code",
   "execution_count": 4,
   "id": "b7b43503-6e15-4699-8d25-534208334e77",
   "metadata": {},
   "outputs": [
    {
     "data": {
      "text/plain": [
       "(68.72, 109.4)"
      ]
     },
     "execution_count": 4,
     "metadata": {},
     "output_type": "execute_result"
    }
   ],
   "source": [
    "(89.06-(6.78*3), 89.06+(6.78*3))\n"
   ]
  },
  {
   "cell_type": "code",
   "execution_count": 5,
   "id": "8fce4b83-9078-4c21-9a73-3868ad910ef5",
   "metadata": {},
   "outputs": [
    {
     "data": {
      "text/plain": [
       "2"
      ]
     },
     "execution_count": 5,
     "metadata": {},
     "output_type": "execute_result"
    }
   ],
   "source": [
    "x = [1, 2, 'ABC']\n",
    "x[1]\n"
   ]
  },
  {
   "cell_type": "code",
   "execution_count": 9,
   "id": "7d4dcc8b-ae75-49cb-ab60-62ee350ef180",
   "metadata": {},
   "outputs": [
    {
     "ename": "ValueError",
     "evalue": "44 is not in list",
     "output_type": "error",
     "traceback": [
      "\u001b[0;31m---------------------------------------------------------------------------\u001b[0m",
      "\u001b[0;31mValueError\u001b[0m                                Traceback (most recent call last)",
      "Cell \u001b[0;32mIn[9], line 1\u001b[0m\n\u001b[0;32m----> 1\u001b[0m \u001b[43mx\u001b[49m\u001b[38;5;241;43m.\u001b[39;49m\u001b[43mindex\u001b[49m\u001b[43m(\u001b[49m\u001b[38;5;241;43m44\u001b[39;49m\u001b[43m)\u001b[49m\n",
      "\u001b[0;31mValueError\u001b[0m: 44 is not in list"
     ]
    }
   ],
   "source": [
    "x.index(44)"
   ]
  },
  {
   "cell_type": "code",
   "execution_count": 10,
   "id": "0e72e1f0-1cfe-4e48-b7cd-6d4a067c52b9",
   "metadata": {},
   "outputs": [
    {
     "data": {
      "text/plain": [
       "False"
      ]
     },
     "execution_count": 10,
     "metadata": {},
     "output_type": "execute_result"
    }
   ],
   "source": [
    "33 in x"
   ]
  },
  {
   "cell_type": "code",
   "execution_count": 11,
   "id": "51e6629c-d71f-4f01-84cf-663c2bf47a4a",
   "metadata": {},
   "outputs": [
    {
     "data": {
      "text/plain": [
       "3"
      ]
     },
     "execution_count": 11,
     "metadata": {},
     "output_type": "execute_result"
    }
   ],
   "source": [
    "len(x)"
   ]
  },
  {
   "cell_type": "code",
   "execution_count": 12,
   "id": "47a2d22b-8000-4b5e-88c8-2fcb8da336c7",
   "metadata": {},
   "outputs": [
    {
     "data": {
      "text/plain": [
       "1"
      ]
     },
     "execution_count": 12,
     "metadata": {},
     "output_type": "execute_result"
    }
   ],
   "source": [
    "x = [1, 2, 3]\n",
    "min(x)"
   ]
  },
  {
   "cell_type": "code",
   "execution_count": 13,
   "id": "82215aea-6df8-4d98-9f8d-c9c77e0518c7",
   "metadata": {},
   "outputs": [
    {
     "data": {
      "text/plain": [
       "'B'"
      ]
     },
     "execution_count": 13,
     "metadata": {},
     "output_type": "execute_result"
    }
   ],
   "source": [
    "x = ['S', 'a', 'B']\n",
    "min(x)"
   ]
  },
  {
   "cell_type": "code",
   "execution_count": 14,
   "id": "85546b89-14fc-4ea4-90ef-aef256e89449",
   "metadata": {},
   "outputs": [
    {
     "data": {
      "text/plain": [
       "'0'"
      ]
     },
     "execution_count": 14,
     "metadata": {},
     "output_type": "execute_result"
    }
   ],
   "source": [
    "x = ['S', 'a', 'B','0']\n",
    "min(x)"
   ]
  },
  {
   "cell_type": "code",
   "execution_count": 15,
   "id": "fde39c31-8cf4-4144-a9f0-184242f0a27c",
   "metadata": {},
   "outputs": [
    {
     "ename": "TypeError",
     "evalue": "'<' not supported between instances of 'int' and 'str'",
     "output_type": "error",
     "traceback": [
      "\u001b[0;31m---------------------------------------------------------------------------\u001b[0m",
      "\u001b[0;31mTypeError\u001b[0m                                 Traceback (most recent call last)",
      "Cell \u001b[0;32mIn[15], line 2\u001b[0m\n\u001b[1;32m      1\u001b[0m x \u001b[38;5;241m=\u001b[39m [\u001b[38;5;124m'\u001b[39m\u001b[38;5;124mS\u001b[39m\u001b[38;5;124m'\u001b[39m, \u001b[38;5;124m'\u001b[39m\u001b[38;5;124ma\u001b[39m\u001b[38;5;124m'\u001b[39m, \u001b[38;5;124m'\u001b[39m\u001b[38;5;124mB\u001b[39m\u001b[38;5;124m'\u001b[39m,\u001b[38;5;241m0\u001b[39m]\n\u001b[0;32m----> 2\u001b[0m \u001b[38;5;28;43mmin\u001b[39;49m\u001b[43m(\u001b[49m\u001b[43mx\u001b[49m\u001b[43m)\u001b[49m\n",
      "\u001b[0;31mTypeError\u001b[0m: '<' not supported between instances of 'int' and 'str'"
     ]
    }
   ],
   "source": [
    "x = ['S', 'a', 'B',0]\n",
    "min(x)"
   ]
  },
  {
   "cell_type": "code",
   "execution_count": 16,
   "id": "b7478952-62c1-440f-8d30-f1b29ac36396",
   "metadata": {},
   "outputs": [
    {
     "data": {
      "text/plain": [
       "False"
      ]
     },
     "execution_count": 16,
     "metadata": {},
     "output_type": "execute_result"
    }
   ],
   "source": [
    "x = [22, 33, 44, False, True]\n",
    "min(x)"
   ]
  },
  {
   "cell_type": "code",
   "execution_count": 17,
   "id": "ac86d340-b2e3-4ed3-a165-093f2ea5f336",
   "metadata": {},
   "outputs": [
    {
     "data": {
      "text/plain": [
       "True"
      ]
     },
     "execution_count": 17,
     "metadata": {},
     "output_type": "execute_result"
    }
   ],
   "source": [
    "x = [22, 33, 44, True]\n",
    "min(x)"
   ]
  },
  {
   "cell_type": "code",
   "execution_count": 18,
   "id": "f8da7dcc-6fcf-4708-b795-490cd2f470e2",
   "metadata": {},
   "outputs": [
    {
     "data": {
      "text/plain": [
       "100"
      ]
     },
     "execution_count": 18,
     "metadata": {},
     "output_type": "execute_result"
    }
   ],
   "source": [
    "sum(x)"
   ]
  },
  {
   "cell_type": "code",
   "execution_count": 19,
   "id": "80594dd2-2bde-48be-ac78-3831eb68f6b8",
   "metadata": {},
   "outputs": [
    {
     "data": {
      "text/plain": [
       "99"
      ]
     },
     "execution_count": 19,
     "metadata": {},
     "output_type": "execute_result"
    }
   ],
   "source": [
    "22+33+44"
   ]
  },
  {
   "cell_type": "code",
   "execution_count": 20,
   "id": "176c9585-83b9-4f2f-8181-642430643f37",
   "metadata": {},
   "outputs": [
    {
     "data": {
      "text/plain": [
       "[True, 22, 33, 44]"
      ]
     },
     "execution_count": 20,
     "metadata": {},
     "output_type": "execute_result"
    }
   ],
   "source": [
    "sorted(x)"
   ]
  },
  {
   "cell_type": "code",
   "execution_count": 21,
   "id": "0814b9ac-6f58-46c9-83ac-40250532e20c",
   "metadata": {},
   "outputs": [
    {
     "data": {
      "text/plain": [
       "[22, 33, 44, True]"
      ]
     },
     "execution_count": 21,
     "metadata": {},
     "output_type": "execute_result"
    }
   ],
   "source": [
    "x"
   ]
  },
  {
   "cell_type": "code",
   "execution_count": 22,
   "id": "7765eabd-7dcd-4720-a4c5-c7309585315c",
   "metadata": {},
   "outputs": [
    {
     "name": "stdout",
     "output_type": "stream",
     "text": [
      "[True, 22, 33, 44]\n"
     ]
    }
   ],
   "source": [
    "y = sorted(x)\n",
    "print(y)"
   ]
  },
  {
   "cell_type": "code",
   "execution_count": 23,
   "id": "122e872d-92c9-402e-b09d-74b325cf12f7",
   "metadata": {},
   "outputs": [
    {
     "data": {
      "text/plain": [
       "(1, 2, 3)"
      ]
     },
     "execution_count": 23,
     "metadata": {},
     "output_type": "execute_result"
    }
   ],
   "source": [
    "x = (1, 2, 3)\n",
    "x"
   ]
  },
  {
   "cell_type": "code",
   "execution_count": 24,
   "id": "ece3b453-3f25-4933-aa0d-c152dc30f069",
   "metadata": {},
   "outputs": [
    {
     "ename": "TypeError",
     "evalue": "'tuple' object does not support item assignment",
     "output_type": "error",
     "traceback": [
      "\u001b[0;31m---------------------------------------------------------------------------\u001b[0m",
      "\u001b[0;31mTypeError\u001b[0m                                 Traceback (most recent call last)",
      "Cell \u001b[0;32mIn[24], line 1\u001b[0m\n\u001b[0;32m----> 1\u001b[0m \u001b[43mx\u001b[49m\u001b[43m[\u001b[49m\u001b[38;5;241;43m0\u001b[39;49m\u001b[43m]\u001b[49m \u001b[38;5;241m=\u001b[39m \u001b[38;5;241m11\u001b[39m\n",
      "\u001b[0;31mTypeError\u001b[0m: 'tuple' object does not support item assignment"
     ]
    }
   ],
   "source": [
    "x[0] = 11"
   ]
  },
  {
   "cell_type": "code",
   "execution_count": 26,
   "id": "19edd50c-59ce-4f23-9644-54afa5aa456d",
   "metadata": {},
   "outputs": [
    {
     "data": {
      "text/plain": [
       "[11, 2, 3]"
      ]
     },
     "execution_count": 26,
     "metadata": {},
     "output_type": "execute_result"
    }
   ],
   "source": [
    "x = list(x)\n",
    "x[0] = 11\n",
    "x"
   ]
  },
  {
   "cell_type": "code",
   "execution_count": 27,
   "id": "a152d9ba-004c-4149-a088-23eb99822b18",
   "metadata": {},
   "outputs": [
    {
     "ename": "TypeError",
     "evalue": "'str' object does not support item assignment",
     "output_type": "error",
     "traceback": [
      "\u001b[0;31m---------------------------------------------------------------------------\u001b[0m",
      "\u001b[0;31mTypeError\u001b[0m                                 Traceback (most recent call last)",
      "Cell \u001b[0;32mIn[27], line 2\u001b[0m\n\u001b[1;32m      1\u001b[0m x \u001b[38;5;241m=\u001b[39m \u001b[38;5;124m'\u001b[39m\u001b[38;5;124mABcDE\u001b[39m\u001b[38;5;124m'\u001b[39m\n\u001b[0;32m----> 2\u001b[0m \u001b[43mx\u001b[49m\u001b[43m[\u001b[49m\u001b[38;5;241;43m2\u001b[39;49m\u001b[43m]\u001b[49m \u001b[38;5;241m=\u001b[39m \u001b[38;5;124m'\u001b[39m\u001b[38;5;124mC\u001b[39m\u001b[38;5;124m'\u001b[39m\n",
      "\u001b[0;31mTypeError\u001b[0m: 'str' object does not support item assignment"
     ]
    }
   ],
   "source": [
    "x = 'ABcDE'\n",
    "x[2] = 'C'"
   ]
  },
  {
   "cell_type": "code",
   "execution_count": 28,
   "id": "0bef95a0-0f70-45f1-8b43-648f632b82bf",
   "metadata": {},
   "outputs": [
    {
     "data": {
      "text/plain": [
       "['A', 'B', 'c', 'D', 'E']"
      ]
     },
     "execution_count": 28,
     "metadata": {},
     "output_type": "execute_result"
    }
   ],
   "source": [
    "x = list(x)\n",
    "x"
   ]
  },
  {
   "cell_type": "code",
   "execution_count": 29,
   "id": "6d07f08a-ff88-4042-a407-b4da78f17ab2",
   "metadata": {},
   "outputs": [
    {
     "data": {
      "text/plain": [
       "['A', 'B', 'C', 'D', 'E']"
      ]
     },
     "execution_count": 29,
     "metadata": {},
     "output_type": "execute_result"
    }
   ],
   "source": [
    "x[2] = 'C'\n",
    "x"
   ]
  },
  {
   "cell_type": "code",
   "execution_count": 30,
   "id": "bebfbc97-075c-458f-9706-59e370f962c9",
   "metadata": {},
   "outputs": [
    {
     "data": {
      "text/plain": [
       "\"['A', 'B', 'C', 'D', 'E']\""
      ]
     },
     "execution_count": 30,
     "metadata": {},
     "output_type": "execute_result"
    }
   ],
   "source": [
    "str(x)"
   ]
  },
  {
   "cell_type": "code",
   "execution_count": 31,
   "id": "30982a1e-a2ef-45f7-a0f2-87897b231efc",
   "metadata": {},
   "outputs": [
    {
     "data": {
      "text/plain": [
       "'ABCDE'"
      ]
     },
     "execution_count": 31,
     "metadata": {},
     "output_type": "execute_result"
    }
   ],
   "source": [
    "''.join(x)"
   ]
  },
  {
   "cell_type": "code",
   "execution_count": 32,
   "id": "2ed81e7f-0cab-44a5-89d7-b5b324164c64",
   "metadata": {},
   "outputs": [
    {
     "data": {
      "text/plain": [
       "'A, B, C, D, E'"
      ]
     },
     "execution_count": 32,
     "metadata": {},
     "output_type": "execute_result"
    }
   ],
   "source": [
    "', '.join(x)"
   ]
  },
  {
   "cell_type": "code",
   "execution_count": 33,
   "id": "ed7095be-42d4-4179-b2e0-afbd8e8b2504",
   "metadata": {},
   "outputs": [
    {
     "data": {
      "text/plain": [
       "True"
      ]
     },
     "execution_count": 33,
     "metadata": {},
     "output_type": "execute_result"
    }
   ],
   "source": [
    "any([1, 2, 3])"
   ]
  },
  {
   "cell_type": "code",
   "execution_count": 34,
   "id": "acd4e0bc-c63a-4739-81e3-6f9445543f24",
   "metadata": {},
   "outputs": [
    {
     "data": {
      "text/plain": [
       "False"
      ]
     },
     "execution_count": 34,
     "metadata": {},
     "output_type": "execute_result"
    }
   ],
   "source": [
    "any([0, 0.0, []])"
   ]
  },
  {
   "cell_type": "code",
   "execution_count": 35,
   "id": "900a7f79-5cd3-43c8-90b6-f978d63a474e",
   "metadata": {},
   "outputs": [
    {
     "data": {
      "text/plain": [
       "True"
      ]
     },
     "execution_count": 35,
     "metadata": {},
     "output_type": "execute_result"
    }
   ],
   "source": [
    "any([True, False])"
   ]
  },
  {
   "cell_type": "code",
   "execution_count": 36,
   "id": "cbcb54f3-6f04-48dd-b14c-943b4c862cfd",
   "metadata": {},
   "outputs": [
    {
     "data": {
      "text/plain": [
       "True"
      ]
     },
     "execution_count": 36,
     "metadata": {},
     "output_type": "execute_result"
    }
   ],
   "source": [
    "any('AVD')"
   ]
  },
  {
   "cell_type": "code",
   "execution_count": 37,
   "id": "bb11b3bc-adbb-44fc-81ba-6961b3341f85",
   "metadata": {},
   "outputs": [
    {
     "data": {
      "text/plain": [
       "False"
      ]
     },
     "execution_count": 37,
     "metadata": {},
     "output_type": "execute_result"
    }
   ],
   "source": [
    "any('')"
   ]
  },
  {
   "cell_type": "code",
   "execution_count": 39,
   "id": "dcb64eb2-6fbd-4b4f-a6a7-ae1f7bdd4fea",
   "metadata": {},
   "outputs": [
    {
     "data": {
      "text/plain": [
       "False"
      ]
     },
     "execution_count": 39,
     "metadata": {},
     "output_type": "execute_result"
    }
   ],
   "source": [
    "all([True, False, 1, 0])"
   ]
  },
  {
   "cell_type": "code",
   "execution_count": 40,
   "id": "4b413d14-f242-4085-9c28-8f688893771c",
   "metadata": {},
   "outputs": [
    {
     "ename": "TypeError",
     "evalue": "unsupported operand type(s) for +: 'int' and 'str'",
     "output_type": "error",
     "traceback": [
      "\u001b[0;31m---------------------------------------------------------------------------\u001b[0m",
      "\u001b[0;31mTypeError\u001b[0m                                 Traceback (most recent call last)",
      "Cell \u001b[0;32mIn[40], line 1\u001b[0m\n\u001b[0;32m----> 1\u001b[0m \u001b[38;5;28;43msum\u001b[39;49m\u001b[43m(\u001b[49m\u001b[43m[\u001b[49m\u001b[38;5;124;43m'\u001b[39;49m\u001b[38;5;124;43ma\u001b[39;49m\u001b[38;5;124;43m'\u001b[39;49m\u001b[43m,\u001b[49m\u001b[43m \u001b[49m\u001b[38;5;124;43m'\u001b[39;49m\u001b[38;5;124;43mb\u001b[39;49m\u001b[38;5;124;43m'\u001b[39;49m\u001b[43m]\u001b[49m\u001b[43m)\u001b[49m\n",
      "\u001b[0;31mTypeError\u001b[0m: unsupported operand type(s) for +: 'int' and 'str'"
     ]
    }
   ],
   "source": [
    "sum(['a', 'b'])"
   ]
  },
  {
   "cell_type": "code",
   "execution_count": 41,
   "id": "5cd6abe8-0448-4535-80d1-3fff5a045377",
   "metadata": {},
   "outputs": [
    {
     "data": {
      "text/plain": [
       "['A', 'B', 'C', 'D', 'E']"
      ]
     },
     "execution_count": 41,
     "metadata": {},
     "output_type": "execute_result"
    }
   ],
   "source": [
    "x"
   ]
  },
  {
   "cell_type": "code",
   "execution_count": 42,
   "id": "a1a28d3a-beee-4db3-96c1-b4fd8332b80f",
   "metadata": {},
   "outputs": [
    {
     "data": {
      "text/plain": [
       "True"
      ]
     },
     "execution_count": 42,
     "metadata": {},
     "output_type": "execute_result"
    }
   ],
   "source": [
    "any(x)"
   ]
  },
  {
   "cell_type": "code",
   "execution_count": 43,
   "id": "28a112bd-afaa-4304-8838-66d98f82bba1",
   "metadata": {},
   "outputs": [
    {
     "data": {
      "text/plain": [
       "6"
      ]
     },
     "execution_count": 43,
     "metadata": {},
     "output_type": "execute_result"
    }
   ],
   "source": [
    "sum([1, 2, 3,])"
   ]
  },
  {
   "cell_type": "code",
   "execution_count": 44,
   "id": "57a9f8fd-63af-44f5-bd82-3d4c0ff7f37c",
   "metadata": {},
   "outputs": [
    {
     "data": {
      "text/plain": [
       "7"
      ]
     },
     "execution_count": 44,
     "metadata": {},
     "output_type": "execute_result"
    }
   ],
   "source": [
    "sum([1, 2, 3,True])"
   ]
  },
  {
   "cell_type": "code",
   "execution_count": 45,
   "id": "be5e14e9-129b-4894-a2ea-54fa042b5c49",
   "metadata": {},
   "outputs": [],
   "source": [
    "a, b = [3, 4]"
   ]
  },
  {
   "cell_type": "code",
   "execution_count": 46,
   "id": "1d848c91-f91a-4d77-9bce-1a172e889193",
   "metadata": {},
   "outputs": [
    {
     "ename": "ValueError",
     "evalue": "not enough values to unpack (expected 3, got 2)",
     "output_type": "error",
     "traceback": [
      "\u001b[0;31m---------------------------------------------------------------------------\u001b[0m",
      "\u001b[0;31mValueError\u001b[0m                                Traceback (most recent call last)",
      "Cell \u001b[0;32mIn[46], line 1\u001b[0m\n\u001b[0;32m----> 1\u001b[0m a, b, c \u001b[38;5;241m=\u001b[39m [\u001b[38;5;241m3\u001b[39m, \u001b[38;5;241m4\u001b[39m]\n",
      "\u001b[0;31mValueError\u001b[0m: not enough values to unpack (expected 3, got 2)"
     ]
    }
   ],
   "source": [
    "a, b, c = [3, 4]"
   ]
  },
  {
   "cell_type": "code",
   "execution_count": 47,
   "id": "1c60a312-d3d4-4a63-ab7e-20442c9e8602",
   "metadata": {},
   "outputs": [
    {
     "name": "stdout",
     "output_type": "stream",
     "text": [
      "3 4 [5, 6, 7]\n"
     ]
    }
   ],
   "source": [
    "col1, col2, *rest_cols = [3, 4, 5, 6, 7]\n",
    "print(col1, col2, rest_cols)"
   ]
  },
  {
   "cell_type": "code",
   "execution_count": 48,
   "id": "4308d2e5-67da-4846-853a-436081c9e098",
   "metadata": {},
   "outputs": [
    {
     "name": "stdout",
     "output_type": "stream",
     "text": [
      "3 4 [5, 6] 7\n"
     ]
    }
   ],
   "source": [
    "col1, col2, *rest_cols, last_col = [3, 4, 5, 6, 7]\n",
    "print(col1, col2, rest_cols, last_col)"
   ]
  },
  {
   "cell_type": "code",
   "execution_count": null,
   "id": "5ea22c47-eecc-4b7d-936c-64b675bce593",
   "metadata": {},
   "outputs": [],
   "source": []
  },
  {
   "cell_type": "code",
   "execution_count": 50,
   "id": "c0eb22f1-ae58-40e9-995b-ab348aee60ce",
   "metadata": {},
   "outputs": [
    {
     "ename": "SyntaxError",
     "evalue": "multiple starred expressions in assignment (3108593753.py, line 1)",
     "output_type": "error",
     "traceback": [
      "\u001b[0;36m  Cell \u001b[0;32mIn[50], line 1\u001b[0;36m\u001b[0m\n\u001b[0;31m    col1, *rest_cols, col2, *last_col = [3, 4, 5, 6, 7]\u001b[0m\n\u001b[0m    ^\u001b[0m\n\u001b[0;31mSyntaxError\u001b[0m\u001b[0;31m:\u001b[0m multiple starred expressions in assignment\n"
     ]
    }
   ],
   "source": [
    "col1, *rest_cols, col2, *last_col = [3, 4, 5, 6, 7]\n",
    "print(rest_cols, last_col)"
   ]
  },
  {
   "cell_type": "code",
   "execution_count": 52,
   "id": "a78fadb2-c005-45e3-9d02-b58b07e2d92a",
   "metadata": {},
   "outputs": [
    {
     "name": "stdout",
     "output_type": "stream",
     "text": [
      "3 4 A\n"
     ]
    }
   ],
   "source": [
    "name, ubid, *_, letter_grade = [3, 4, 5, 6, 'A']\n",
    "print(name, ubid, letter_grade)"
   ]
  },
  {
   "cell_type": "code",
   "execution_count": 53,
   "id": "4c55c50b-0c2f-4484-bfa0-deaad84e8ad9",
   "metadata": {},
   "outputs": [
    {
     "name": "stdout",
     "output_type": "stream",
     "text": [
      "3 4 6 A\n"
     ]
    }
   ],
   "source": [
    "name, ubid, *_, _2last, letter_grade = [3, 4, 5, 6, 'A']\n",
    "print(name, ubid, _2last, letter_grade)"
   ]
  },
  {
   "cell_type": "code",
   "execution_count": 55,
   "id": "4233528b-af55-4e69-806b-a203a7aad974",
   "metadata": {},
   "outputs": [
    {
     "data": {
      "text/plain": [
       "['A', 'B', 'C', 'D', 'E']"
      ]
     },
     "execution_count": 55,
     "metadata": {},
     "output_type": "execute_result"
    }
   ],
   "source": [
    "x\n"
   ]
  },
  {
   "cell_type": "code",
   "execution_count": 56,
   "id": "8adb4abe-c120-4f10-a867-1d96ceaa29be",
   "metadata": {},
   "outputs": [
    {
     "data": {
      "text/plain": [
       "['A', 'B', 'C', 'D', 'E', 66]"
      ]
     },
     "execution_count": 56,
     "metadata": {},
     "output_type": "execute_result"
    }
   ],
   "source": [
    "# x[0] -- x[anything_index] # O(1)\n",
    "x.append(66) # *O(1), O(N)\n",
    "x"
   ]
  },
  {
   "cell_type": "code",
   "execution_count": 57,
   "id": "e2b716a2-dea3-4372-afaa-210a43284b45",
   "metadata": {},
   "outputs": [
    {
     "data": {
      "text/plain": [
       "['Z', 'A', 'B', 'C', 'D', 'E', 66]"
      ]
     },
     "execution_count": 57,
     "metadata": {},
     "output_type": "execute_result"
    }
   ],
   "source": [
    "x.insert(0, 'Z')\n",
    "x"
   ]
  },
  {
   "cell_type": "code",
   "execution_count": 58,
   "id": "6e113a0c-56b2-40bb-87c5-ad05626bdb75",
   "metadata": {},
   "outputs": [
    {
     "data": {
      "text/plain": [
       "['Z', 'A', 'B', 'YAY', 'C', 'D', 'E', 66]"
      ]
     },
     "execution_count": 58,
     "metadata": {},
     "output_type": "execute_result"
    }
   ],
   "source": [
    "['Z', 'A', 'B', 'C', 'D', 'E', 66]\n",
    "# 0    1    2    3    4    5   6\n",
    "\n",
    "x.insert(3, 'YAY')\n",
    "x"
   ]
  },
  {
   "cell_type": "code",
   "execution_count": 59,
   "id": "5ab433ec-a696-40f2-a643-a391308859ed",
   "metadata": {},
   "outputs": [
    {
     "data": {
      "text/plain": [
       "['Z', 'A', 'B', 'YAY', 'C', 'D', 'E', 66, 'A']"
      ]
     },
     "execution_count": 59,
     "metadata": {},
     "output_type": "execute_result"
    }
   ],
   "source": [
    "x.append('A')\n",
    "x"
   ]
  },
  {
   "cell_type": "code",
   "execution_count": 60,
   "id": "fb4a008a-35f9-48ed-81eb-099b47d6af13",
   "metadata": {},
   "outputs": [],
   "source": [
    "x.remove('A')"
   ]
  },
  {
   "cell_type": "code",
   "execution_count": 61,
   "id": "e5203b69-604c-4d3b-937e-bf6b3dcb3150",
   "metadata": {},
   "outputs": [
    {
     "data": {
      "text/plain": [
       "['Z', 'B', 'YAY', 'C', 'D', 'E', 66, 'A']"
      ]
     },
     "execution_count": 61,
     "metadata": {},
     "output_type": "execute_result"
    }
   ],
   "source": [
    "x"
   ]
  },
  {
   "cell_type": "code",
   "execution_count": 62,
   "id": "a28bdf36-e28b-4f1a-83cb-f17fa9286e07",
   "metadata": {},
   "outputs": [],
   "source": [
    "x.remove('A')"
   ]
  },
  {
   "cell_type": "code",
   "execution_count": 63,
   "id": "0409f7a8-eec7-46be-9d54-8303dac27d7a",
   "metadata": {},
   "outputs": [
    {
     "data": {
      "text/plain": [
       "['Z', 'B', 'YAY', 'C', 'D', 'E', 66]"
      ]
     },
     "execution_count": 63,
     "metadata": {},
     "output_type": "execute_result"
    }
   ],
   "source": [
    "x"
   ]
  },
  {
   "cell_type": "code",
   "execution_count": 64,
   "id": "b5bb437a-5a22-40be-ab69-a7ab0fce668d",
   "metadata": {},
   "outputs": [
    {
     "ename": "ValueError",
     "evalue": "list.remove(x): x not in list",
     "output_type": "error",
     "traceback": [
      "\u001b[0;31m---------------------------------------------------------------------------\u001b[0m",
      "\u001b[0;31mValueError\u001b[0m                                Traceback (most recent call last)",
      "Cell \u001b[0;32mIn[64], line 1\u001b[0m\n\u001b[0;32m----> 1\u001b[0m \u001b[43mx\u001b[49m\u001b[38;5;241;43m.\u001b[39;49m\u001b[43mremove\u001b[49m\u001b[43m(\u001b[49m\u001b[38;5;124;43m'\u001b[39;49m\u001b[38;5;124;43mA\u001b[39;49m\u001b[38;5;124;43m'\u001b[39;49m\u001b[43m)\u001b[49m\n",
      "\u001b[0;31mValueError\u001b[0m: list.remove(x): x not in list"
     ]
    }
   ],
   "source": [
    "x.remove('A')"
   ]
  },
  {
   "cell_type": "code",
   "execution_count": 65,
   "id": "ae3bb341-1543-4672-a756-d489242e0a6e",
   "metadata": {},
   "outputs": [
    {
     "data": {
      "text/plain": [
       "['Z', 'B', 'YAY', 'C', 'D', 'E', 66]"
      ]
     },
     "execution_count": 65,
     "metadata": {},
     "output_type": "execute_result"
    }
   ],
   "source": [
    "if 'A' in x: # O(n)\n",
    "    x.remove('A')\n",
    "x"
   ]
  },
  {
   "cell_type": "code",
   "execution_count": 66,
   "id": "4783f81f-54d6-4a35-9e09-65b8dbc576b1",
   "metadata": {},
   "outputs": [
    {
     "name": "stdout",
     "output_type": "stream",
     "text": [
      "66\n"
     ]
    }
   ],
   "source": [
    "ret_val = x.pop()\n",
    "print(ret_val)"
   ]
  },
  {
   "cell_type": "code",
   "execution_count": 67,
   "id": "06be0cc3-9bd5-4484-a867-41bec45d5432",
   "metadata": {},
   "outputs": [
    {
     "data": {
      "text/plain": [
       "['Z', 'B', 'YAY', 'C', 'D', 'E']"
      ]
     },
     "execution_count": 67,
     "metadata": {},
     "output_type": "execute_result"
    }
   ],
   "source": [
    "x"
   ]
  },
  {
   "cell_type": "code",
   "execution_count": 68,
   "id": "938d6ade-2641-475d-bea8-2bbdb446ad42",
   "metadata": {},
   "outputs": [
    {
     "name": "stdout",
     "output_type": "stream",
     "text": [
      "None\n"
     ]
    }
   ],
   "source": [
    "ret_val = x.remove('YAY')\n",
    "print(ret_val)"
   ]
  },
  {
   "cell_type": "code",
   "execution_count": null,
   "id": "c75c0f9a-c796-46ea-8902-ac450a975d86",
   "metadata": {},
   "outputs": [],
   "source": []
  },
  {
   "cell_type": "code",
   "execution_count": 69,
   "id": "ac483277-a287-4286-b55b-001fb6fd64fa",
   "metadata": {},
   "outputs": [
    {
     "data": {
      "text/plain": [
       "'C'"
      ]
     },
     "execution_count": 69,
     "metadata": {},
     "output_type": "execute_result"
    }
   ],
   "source": [
    "x.pop(2)"
   ]
  },
  {
   "cell_type": "code",
   "execution_count": 70,
   "id": "49ec738a-a31d-495e-9c1a-5e946cb6393b",
   "metadata": {},
   "outputs": [
    {
     "data": {
      "text/plain": [
       "['A', 'B', 'C', 'D', 'F']"
      ]
     },
     "execution_count": 70,
     "metadata": {},
     "output_type": "execute_result"
    }
   ],
   "source": [
    "grades1 = ['A', 'B', 'C']\n",
    "grades2 = ['D', 'F']\n",
    "grades = grades1 + grades2\n",
    "grades"
   ]
  },
  {
   "cell_type": "code",
   "execution_count": 71,
   "id": "d3496187-5896-46b3-80ac-f3c879d83ebb",
   "metadata": {},
   "outputs": [],
   "source": [
    "\n",
    "\n",
    "grades = ['A', 'B', 'C', 'D', 'F']\n",
    "grades *= 3"
   ]
  },
  {
   "cell_type": "code",
   "execution_count": 72,
   "id": "797e1d75-83f4-4892-b488-4450989f236f",
   "metadata": {},
   "outputs": [
    {
     "data": {
      "text/plain": [
       "['A', 'B', 'C', 'D', 'F', 'A', 'B', 'C', 'D', 'F', 'A', 'B', 'C', 'D', 'F']"
      ]
     },
     "execution_count": 72,
     "metadata": {},
     "output_type": "execute_result"
    }
   ],
   "source": [
    "grades"
   ]
  },
  {
   "cell_type": "code",
   "execution_count": 73,
   "id": "702a9bfd-69a5-4c6b-9031-2731894b76fc",
   "metadata": {},
   "outputs": [
    {
     "data": {
      "text/plain": [
       "[0, 0, 0, 0, 0, 0, 0, 0, 0, 0]"
      ]
     },
     "execution_count": 73,
     "metadata": {},
     "output_type": "execute_result"
    }
   ],
   "source": [
    "[0] * 10"
   ]
  },
  {
   "cell_type": "code",
   "execution_count": 75,
   "id": "603fa30b-d8ea-443b-a8d0-9eeaa983edf5",
   "metadata": {},
   "outputs": [
    {
     "data": {
      "text/plain": [
       "80"
      ]
     },
     "execution_count": 75,
     "metadata": {},
     "output_type": "execute_result"
    }
   ],
   "source": [
    "my_list2 = [\n",
    "    ['John', [55, 65, 86]], \n",
    "    ['Jane', [70, 80, 80]]\n",
    "]\n",
    "\n",
    "my_list2[1][1][1]"
   ]
  },
  {
   "cell_type": "code",
   "execution_count": 76,
   "id": "0bc7874a-b4ad-4281-866b-3be51cdc82a8",
   "metadata": {},
   "outputs": [
    {
     "data": {
      "text/plain": [
       "[88, 99, 33, 44, 89, 23, 90, 100]"
      ]
     },
     "execution_count": 76,
     "metadata": {},
     "output_type": "execute_result"
    }
   ],
   "source": [
    "x = [88, 99, 33, 44]\n",
    "y = [89, 23, 90, 100]\n",
    "\n",
    "x + y"
   ]
  },
  {
   "cell_type": "code",
   "execution_count": 77,
   "id": "d2d232e9-760e-49a7-b95f-f1b4f88e36b1",
   "metadata": {},
   "outputs": [
    {
     "data": {
      "text/plain": [
       "[88, 99, 33, 44, [89, 23, 90, 100]]"
      ]
     },
     "execution_count": 77,
     "metadata": {},
     "output_type": "execute_result"
    }
   ],
   "source": [
    "x = [88, 99, 33, 44]\n",
    "y = [89, 23, 90, 100]\n",
    "x.append(y)\n",
    "x"
   ]
  },
  {
   "cell_type": "code",
   "execution_count": 79,
   "id": "be27e3e7-1db6-4002-8d49-f5af8951f4e6",
   "metadata": {},
   "outputs": [
    {
     "data": {
      "text/plain": [
       "[88, 99, 33, 44, 89, 23, 90, 100]"
      ]
     },
     "execution_count": 79,
     "metadata": {},
     "output_type": "execute_result"
    }
   ],
   "source": [
    "x = [88, 99, 33, 44]\n",
    "y = [89, 23, 90, 100]\n",
    "x.extend(y)\n",
    "x"
   ]
  },
  {
   "cell_type": "code",
   "execution_count": 81,
   "id": "4ab9f0d5-4006-4836-a74d-4403137cfa24",
   "metadata": {},
   "outputs": [],
   "source": [
    "x.append(89)"
   ]
  },
  {
   "cell_type": "code",
   "execution_count": 82,
   "id": "9cd7e7e9-be5b-499c-a740-b534c4478f5a",
   "metadata": {},
   "outputs": [
    {
     "data": {
      "text/plain": [
       "2"
      ]
     },
     "execution_count": 82,
     "metadata": {},
     "output_type": "execute_result"
    }
   ],
   "source": [
    "x.count(89)"
   ]
  },
  {
   "cell_type": "code",
   "execution_count": 83,
   "id": "de1b1cb4-7f97-4c3f-8e60-32ed22f984a8",
   "metadata": {},
   "outputs": [
    {
     "data": {
      "text/plain": [
       "0"
      ]
     },
     "execution_count": 83,
     "metadata": {},
     "output_type": "execute_result"
    }
   ],
   "source": [
    "x.count('A')"
   ]
  },
  {
   "cell_type": "code",
   "execution_count": 84,
   "id": "fd5e0a0f-be53-4dda-b1ef-8dd1ad03afad",
   "metadata": {},
   "outputs": [
    {
     "data": {
      "text/plain": [
       "[88, 99, 33, 44, 89, 23, 90, 100, 89]"
      ]
     },
     "execution_count": 84,
     "metadata": {},
     "output_type": "execute_result"
    }
   ],
   "source": [
    "x"
   ]
  },
  {
   "cell_type": "code",
   "execution_count": 85,
   "id": "bfde3036-2de3-463c-9086-c954c29e9225",
   "metadata": {},
   "outputs": [
    {
     "data": {
      "text/plain": [
       "[23, 33, 44, 88, 89, 89, 90, 99, 100]"
      ]
     },
     "execution_count": 85,
     "metadata": {},
     "output_type": "execute_result"
    }
   ],
   "source": [
    "sorted(x)"
   ]
  },
  {
   "cell_type": "code",
   "execution_count": 86,
   "id": "37a619b0-41c1-4fe1-971e-c8b5c895576e",
   "metadata": {},
   "outputs": [
    {
     "data": {
      "text/plain": [
       "[100, 99, 90, 89, 89, 88, 44, 33, 23]"
      ]
     },
     "execution_count": 86,
     "metadata": {},
     "output_type": "execute_result"
    }
   ],
   "source": [
    "sorted(x, reverse=True)"
   ]
  },
  {
   "cell_type": "code",
   "execution_count": 87,
   "id": "b43950b3-7547-41dc-a6c1-a3f8ed69c3b5",
   "metadata": {},
   "outputs": [
    {
     "data": {
      "text/plain": [
       "[23, 33, 44, 88, 89, 89, 90, 99, 100]"
      ]
     },
     "execution_count": 87,
     "metadata": {},
     "output_type": "execute_result"
    }
   ],
   "source": [
    "x.sort()\n",
    "x"
   ]
  },
  {
   "cell_type": "code",
   "execution_count": 89,
   "id": "c0b0ee6e-db83-441f-b840-33175cccca32",
   "metadata": {},
   "outputs": [
    {
     "name": "stdout",
     "output_type": "stream",
     "text": [
      "None\n"
     ]
    }
   ],
   "source": [
    "ret_val = x.sort()\n",
    "print(ret_val)"
   ]
  },
  {
   "cell_type": "code",
   "execution_count": 90,
   "id": "d5bcf97c-1b7f-401e-868b-ecee5e50eaf8",
   "metadata": {},
   "outputs": [
    {
     "data": {
      "text/plain": [
       "[23, 33, 44, 88, 89, 89, 90, 99, 100]"
      ]
     },
     "execution_count": 90,
     "metadata": {},
     "output_type": "execute_result"
    }
   ],
   "source": [
    "x"
   ]
  },
  {
   "cell_type": "code",
   "execution_count": 91,
   "id": "e1295272-c83c-4753-ad62-20f7da52af5d",
   "metadata": {},
   "outputs": [
    {
     "name": "stdout",
     "output_type": "stream",
     "text": [
      "[100, 99, 90, 89, 89, 88, 44, 33, 23]\n"
     ]
    }
   ],
   "source": [
    "x.reverse()\n",
    "print(x)"
   ]
  },
  {
   "cell_type": "code",
   "execution_count": 92,
   "id": "8eaaf2a3-4bad-40f3-9312-022879431a61",
   "metadata": {},
   "outputs": [
    {
     "ename": "TypeError",
     "evalue": "'tuple' object does not support item assignment",
     "output_type": "error",
     "traceback": [
      "\u001b[0;31m---------------------------------------------------------------------------\u001b[0m",
      "\u001b[0;31mTypeError\u001b[0m                                 Traceback (most recent call last)",
      "Cell \u001b[0;32mIn[92], line 2\u001b[0m\n\u001b[1;32m      1\u001b[0m my_tuple \u001b[38;5;241m=\u001b[39m (\u001b[38;5;241m1\u001b[39m, \u001b[38;5;241m2\u001b[39m, \u001b[38;5;241m3\u001b[39m, [\u001b[38;5;241m4\u001b[39m, \u001b[38;5;241m5\u001b[39m, \u001b[38;5;241m6\u001b[39m])\n\u001b[0;32m----> 2\u001b[0m \u001b[43mmy_tuple\u001b[49m\u001b[43m[\u001b[49m\u001b[38;5;241;43m-\u001b[39;49m\u001b[38;5;241;43m1\u001b[39;49m\u001b[43m]\u001b[49m \u001b[38;5;241m=\u001b[39m \u001b[38;5;241m4\u001b[39m\n",
      "\u001b[0;31mTypeError\u001b[0m: 'tuple' object does not support item assignment"
     ]
    }
   ],
   "source": [
    "my_tuple = (1, 2, 3, [4, 5, 6])\n",
    "my_tuple[-1] = 4\n"
   ]
  },
  {
   "cell_type": "code",
   "execution_count": 93,
   "id": "8e0bcf60-a982-44c0-bc15-6fe6083a8700",
   "metadata": {},
   "outputs": [
    {
     "data": {
      "text/plain": [
       "(1, 2, 3, [4, 5, 6, 55])"
      ]
     },
     "execution_count": 93,
     "metadata": {},
     "output_type": "execute_result"
    }
   ],
   "source": [
    "my_tuple = (1, 2, 3, [4, 5, 6])\n",
    "my_tuple[-1].append(55)\n",
    "my_tuple"
   ]
  },
  {
   "cell_type": "code",
   "execution_count": 97,
   "id": "1263e3f5-5075-4c98-8a11-5c45e5c58597",
   "metadata": {},
   "outputs": [
    {
     "data": {
      "text/plain": [
       "True"
      ]
     },
     "execution_count": 97,
     "metadata": {},
     "output_type": "execute_result"
    }
   ],
   "source": [
    "any([0, 1, []])"
   ]
  },
  {
   "cell_type": "code",
   "execution_count": 99,
   "id": "d3459a0f-26b7-46e6-94ec-8da389a58959",
   "metadata": {},
   "outputs": [
    {
     "name": "stdout",
     "output_type": "stream",
     "text": [
      "([1, 2, 3], [4, 5, 6], [7, 8, 9])\n"
     ]
    }
   ],
   "source": [
    "matrix = (\n",
    "    [1, 2, 3], \n",
    "    [4, 5, 6], \n",
    "    [7, 8, 9]\n",
    ")\n",
    "print(matrix)"
   ]
  },
  {
   "cell_type": "code",
   "execution_count": 100,
   "id": "a030edf3-21e2-4d57-b128-25f4e3574267",
   "metadata": {},
   "outputs": [
    {
     "name": "stdout",
     "output_type": "stream",
     "text": [
      "D\n",
      "n\n",
      "e\n"
     ]
    }
   ],
   "source": [
    "my_string = 'Doe, John'\n",
    "print(my_string[0])\n",
    "print(my_string[-1])\n",
    "print(my_string[2])"
   ]
  },
  {
   "cell_type": "code",
   "execution_count": 101,
   "id": "905f38b3-fba2-40a7-90ff-4df562a773d2",
   "metadata": {},
   "outputs": [
    {
     "name": "stdout",
     "output_type": "stream",
     "text": [
      "['Doe,', 'John']\n"
     ]
    }
   ],
   "source": [
    "my_string = 'Doe, John'\n",
    "print(my_string.split())"
   ]
  },
  {
   "cell_type": "code",
   "execution_count": 102,
   "id": "61682424-3215-41b7-bdbf-3e46e22d0341",
   "metadata": {},
   "outputs": [
    {
     "name": "stdout",
     "output_type": "stream",
     "text": [
      "['Doe', ' John']\n"
     ]
    }
   ],
   "source": [
    "print(my_string.split(','))"
   ]
  },
  {
   "cell_type": "code",
   "execution_count": 103,
   "id": "22b9d67e-6702-4c01-80a2-3cab0e19ba50",
   "metadata": {},
   "outputs": [
    {
     "data": {
      "text/plain": [
       "'John'"
      ]
     },
     "execution_count": 103,
     "metadata": {},
     "output_type": "execute_result"
    }
   ],
   "source": [
    "' John'.strip()"
   ]
  },
  {
   "cell_type": "code",
   "execution_count": 104,
   "id": "8c063a38-a169-45a8-a1b6-94a08eed33c2",
   "metadata": {},
   "outputs": [
    {
     "name": "stdout",
     "output_type": "stream",
     "text": [
      "['Doe', 'John']\n"
     ]
    }
   ],
   "source": [
    "print(my_string.split(', '))"
   ]
  },
  {
   "cell_type": "code",
   "execution_count": 105,
   "id": "ed7a183b-33d0-42fd-aeb2-a4fd56f66f46",
   "metadata": {},
   "outputs": [
    {
     "name": "stdout",
     "output_type": "stream",
     "text": [
      "2023 05 23\n"
     ]
    }
   ],
   "source": [
    "date = '2023/05/23'\n",
    "\n",
    "year, month, day = date.split('/')\n",
    "print(year, month, day)"
   ]
  },
  {
   "cell_type": "code",
   "execution_count": 106,
   "id": "2c20889d-4e55-4a8f-9da4-3d4e772bcb51",
   "metadata": {},
   "outputs": [
    {
     "data": {
      "text/plain": [
       "'0523'"
      ]
     },
     "execution_count": 106,
     "metadata": {},
     "output_type": "execute_result"
    }
   ],
   "source": [
    "month + day"
   ]
  },
  {
   "cell_type": "code",
   "execution_count": 107,
   "id": "155f98b5-b054-4113-b21b-b3efa4e5a43d",
   "metadata": {},
   "outputs": [
    {
     "data": {
      "text/plain": [
       "28"
      ]
     },
     "execution_count": 107,
     "metadata": {},
     "output_type": "execute_result"
    }
   ],
   "source": [
    "int(month) + int(day)"
   ]
  },
  {
   "cell_type": "code",
   "execution_count": 108,
   "id": "e40d3d44-b09d-4ccb-a0a3-5ec85fffba96",
   "metadata": {},
   "outputs": [
    {
     "name": "stdout",
     "output_type": "stream",
     "text": [
      "05 23 2023\n"
     ]
    }
   ],
   "source": [
    "date = '05-23-2023'\n",
    "month, day, year = date.split('-')\n",
    "print(month, day, year)"
   ]
  },
  {
   "cell_type": "code",
   "execution_count": null,
   "id": "4f24a30f-c48b-423f-84a2-5e2c65486062",
   "metadata": {},
   "outputs": [],
   "source": [
    "date = '05-23-2023'\n",
    "        0123456789\n",
    "\n",
    "month, day, year = date[:2], date[3:5], date[6:]"
   ]
  },
  {
   "cell_type": "code",
   "execution_count": 109,
   "id": "b9bce67f-3237-4a87-8ed5-c3f31a69d3b5",
   "metadata": {},
   "outputs": [
    {
     "data": {
      "text/plain": [
       "['range=start=3', 'end=20', 'step=2']"
      ]
     },
     "execution_count": 109,
     "metadata": {},
     "output_type": "execute_result"
    }
   ],
   "source": [
    "my_string = 'range=start=3;end=20;step=2'\n",
    "my_string.split(';')"
   ]
  },
  {
   "cell_type": "code",
   "execution_count": 110,
   "id": "7c40a48b-b3f6-47ba-9c2f-9b8bfcda8ac8",
   "metadata": {},
   "outputs": [
    {
     "data": {
      "text/plain": [
       "['range', 'start', '3;end', '20;step', '2']"
      ]
     },
     "execution_count": 110,
     "metadata": {},
     "output_type": "execute_result"
    }
   ],
   "source": [
    "my_string.split('=')"
   ]
  },
  {
   "cell_type": "code",
   "execution_count": 111,
   "id": "005a9eec-f999-48fe-8116-3ba799e53520",
   "metadata": {},
   "outputs": [
    {
     "name": "stdout",
     "output_type": "stream",
     "text": [
      "start=3;end=20;step=2\n"
     ]
    }
   ],
   "source": [
    "_, a = my_string.split('=', 1)\n",
    "print(a)"
   ]
  },
  {
   "cell_type": "code",
   "execution_count": null,
   "id": "a3eb4b54-527a-4298-841b-c2c941705d72",
   "metadata": {},
   "outputs": [],
   "source": [
    "_, a = my_string.split('=', 1)\n",
    "print(a)"
   ]
  },
  {
   "cell_type": "code",
   "execution_count": 113,
   "id": "fbc2bd0e-3a26-4893-a14c-54906ffb689f",
   "metadata": {},
   "outputs": [
    {
     "data": {
      "text/plain": [
       "'start=3;end=20;step=2'"
      ]
     },
     "execution_count": 113,
     "metadata": {},
     "output_type": "execute_result"
    }
   ],
   "source": [
    "my_string[6:]"
   ]
  },
  {
   "cell_type": "code",
   "execution_count": 114,
   "id": "9593cf7a-58ff-4758-9601-e4d5d8e6c250",
   "metadata": {},
   "outputs": [
    {
     "name": "stdout",
     "output_type": "stream",
     "text": [
      "start=3;end=20;step=2\n"
     ]
    }
   ],
   "source": [
    "_, a = my_string.split('=', 1)\n",
    "print(a)"
   ]
  },
  {
   "cell_type": "code",
   "execution_count": 116,
   "id": "63c15937-4bbb-4e60-8154-321cdcba3288",
   "metadata": {},
   "outputs": [
    {
     "name": "stdout",
     "output_type": "stream",
     "text": [
      "3 20 2\n"
     ]
    }
   ],
   "source": [
    "start, end, step = a.split(';')\n",
    "start = start.split('=')[-1]\n",
    "end = end.split('=')[-1]\n",
    "step = step.split('=')[-1]\n",
    "print(start, end, step)"
   ]
  },
  {
   "cell_type": "code",
   "execution_count": 117,
   "id": "fc4d5aef-6873-4f49-b16b-d22b721e842b",
   "metadata": {},
   "outputs": [
    {
     "name": "stdout",
     "output_type": "stream",
     "text": [
      "First line\n",
      "Second line\n",
      "Third line\n"
     ]
    }
   ],
   "source": [
    "long_string='First line\\nSecond line\\nThird line'\n",
    "print(long_string)"
   ]
  },
  {
   "cell_type": "code",
   "execution_count": 118,
   "id": "024e36d8-ec21-4934-af42-762c1b88c450",
   "metadata": {},
   "outputs": [
    {
     "data": {
      "text/plain": [
       "'First line\\nSecond line\\nThird line'"
      ]
     },
     "execution_count": 118,
     "metadata": {},
     "output_type": "execute_result"
    }
   ],
   "source": [
    "long_string"
   ]
  },
  {
   "cell_type": "code",
   "execution_count": 119,
   "id": "d90d154f-5d63-48a5-a638-6b97c454cd51",
   "metadata": {},
   "outputs": [
    {
     "name": "stdout",
     "output_type": "stream",
     "text": [
      "['First', 'line', 'Second', 'line', 'Third', 'line']\n"
     ]
    }
   ],
   "source": [
    "print(long_string.split())"
   ]
  },
  {
   "cell_type": "code",
   "execution_count": 120,
   "id": "209e8dcb-4178-4125-afed-ec89baeb618f",
   "metadata": {},
   "outputs": [
    {
     "name": "stdout",
     "output_type": "stream",
     "text": [
      "['First line', 'Second line', 'Third line']\n"
     ]
    }
   ],
   "source": [
    "print(long_string.split('\\n'))"
   ]
  },
  {
   "cell_type": "code",
   "execution_count": 121,
   "id": "fc353231-ed85-4372-824c-7f09994c7f21",
   "metadata": {},
   "outputs": [
    {
     "name": "stdout",
     "output_type": "stream",
     "text": [
      "['First line', 'Second line', 'Third line']\n"
     ]
    }
   ],
   "source": [
    "print(long_string.splitlines())"
   ]
  },
  {
   "cell_type": "code",
   "execution_count": 125,
   "id": "50d6084a-15a1-4c7f-8710-024e42c96ea7",
   "metadata": {},
   "outputs": [],
   "source": [
    "my_string = 'EaS503!'\n",
    "\n",
    "def char_type(char):\n",
    "    if 'A' <= char <= 'Z':  # 65 <= 85 <= 90 \n",
    "        return 'Upper Case'\n",
    "    elif 'a' <= char <= 'z':\n",
    "        return 'Lower Case'\n",
    "    elif '0' <= char <= '9':\n",
    "        return 'Digit'\n",
    "    else:\n",
    "        return 'Not Alpha Numeric'\n",
    "\n"
   ]
  },
  {
   "cell_type": "code",
   "execution_count": 123,
   "id": "174fd73a-484b-44cc-853a-9cd5d4167bfc",
   "metadata": {},
   "outputs": [
    {
     "data": {
      "text/plain": [
       "48"
      ]
     },
     "execution_count": 123,
     "metadata": {},
     "output_type": "execute_result"
    }
   ],
   "source": [
    "ord('0')"
   ]
  },
  {
   "cell_type": "code",
   "execution_count": 126,
   "id": "08348f27-35fd-48b4-bf99-637eb85590f0",
   "metadata": {},
   "outputs": [
    {
     "name": "stdout",
     "output_type": "stream",
     "text": [
      "E Upper Case\n",
      "a Lower Case\n",
      "S Upper Case\n",
      "5 Digit\n",
      "0 Digit\n",
      "3 Digit\n",
      "! Not Alpha Numeric\n"
     ]
    }
   ],
   "source": [
    "print(my_string[0], char_type(my_string[0]))\n",
    "print(my_string[1], char_type(my_string[1]))\n",
    "print(my_string[2], char_type(my_string[2]))\n",
    "print(my_string[3], char_type(my_string[3]))\n",
    "print(my_string[4], char_type(my_string[4]))\n",
    "print(my_string[5], char_type(my_string[5]))\n",
    "print(my_string[6], char_type(my_string[6]))"
   ]
  },
  {
   "cell_type": "code",
   "execution_count": null,
   "id": "5568baa0-13d8-4d1e-a560-90b08a7289d0",
   "metadata": {},
   "outputs": [],
   "source": [
    "for <ele> in <sequence>:\n",
    "    <body>"
   ]
  },
  {
   "cell_type": "code",
   "execution_count": 127,
   "id": "92241dd7-10a9-4779-8809-23233f04c8b2",
   "metadata": {},
   "outputs": [
    {
     "name": "stdout",
     "output_type": "stream",
     "text": [
      "A\n",
      "B\n",
      "C\n",
      "D\n",
      "E\n",
      "F\n",
      "G\n"
     ]
    }
   ],
   "source": [
    "my_str = 'ABCDEFG'\n",
    "for char in my_str:\n",
    "    print(char)"
   ]
  },
  {
   "cell_type": "code",
   "execution_count": 128,
   "id": "ec5698db-4a3f-42cd-83c6-eee2cb470942",
   "metadata": {},
   "outputs": [
    {
     "name": "stdout",
     "output_type": "stream",
     "text": [
      "1\n",
      "2\n",
      "3\n",
      "4\n",
      "5\n",
      "6\n"
     ]
    }
   ],
   "source": [
    "my_list = [1, 2, 3, 4, 5, 6]\n",
    "for ele in my_list:\n",
    "    print(ele)"
   ]
  },
  {
   "cell_type": "code",
   "execution_count": 129,
   "id": "b44f2da9-3a44-4efb-b29a-b8f99e5add5a",
   "metadata": {},
   "outputs": [
    {
     "name": "stdout",
     "output_type": "stream",
     "text": [
      "1\n",
      "2\n",
      "3\n",
      "4\n",
      "5\n",
      "6\n"
     ]
    }
   ],
   "source": [
    "my_tuple = (1, 2, 3, 4, 5, 6)\n",
    "for ele in my_tuple:\n",
    "    print(ele)"
   ]
  }
 ],
 "metadata": {
  "kernelspec": {
   "display_name": "Python 3 (ipykernel)",
   "language": "python",
   "name": "python3"
  },
  "language_info": {
   "codemirror_mode": {
    "name": "ipython",
    "version": 3
   },
   "file_extension": ".py",
   "mimetype": "text/x-python",
   "name": "python",
   "nbconvert_exporter": "python",
   "pygments_lexer": "ipython3",
   "version": "3.12.4"
  }
 },
 "nbformat": 4,
 "nbformat_minor": 5
}
