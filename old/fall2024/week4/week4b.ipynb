{
 "cells": [
  {
   "cell_type": "raw",
   "id": "0d7465c5-dbbe-44d9-9424-82cfdc644a7f",
   "metadata": {},
   "source": [
    "for <ele> in <sequence>:\n",
    "    <body>"
   ]
  },
  {
   "cell_type": "code",
   "execution_count": 1,
   "id": "a87c5909-db0f-4c75-bf89-41ff300b9040",
   "metadata": {},
   "outputs": [
    {
     "name": "stdout",
     "output_type": "stream",
     "text": [
      "1 1\n",
      "2 4\n",
      "3 9\n",
      "4 16\n"
     ]
    }
   ],
   "source": [
    "my_list = [1, 2, 3, 4]\n",
    "my_tuple = (1, 2, 3, 4)\n",
    "my_str = '1234'\n",
    "\n",
    "for ele in my_list:\n",
    "    print(ele, ele*ele)"
   ]
  },
  {
   "cell_type": "code",
   "execution_count": 2,
   "id": "257b3613-5a68-4e34-80da-5a0e3ee5ea40",
   "metadata": {},
   "outputs": [
    {
     "name": "stdout",
     "output_type": "stream",
     "text": [
      "1 1\n",
      "2 4\n",
      "3 9\n",
      "4 16\n"
     ]
    }
   ],
   "source": [
    "for ele in my_tuple:\n",
    "    print(ele, ele*ele)"
   ]
  },
  {
   "cell_type": "code",
   "execution_count": 4,
   "id": "d9a0ef08-d2cb-4fa0-b248-2986e7a7a036",
   "metadata": {},
   "outputs": [
    {
     "name": "stdout",
     "output_type": "stream",
     "text": [
      "1\n",
      "2\n",
      "3\n",
      "4\n"
     ]
    }
   ],
   "source": [
    "for ele in my_str:\n",
    "    print(ele)"
   ]
  },
  {
   "cell_type": "code",
   "execution_count": 6,
   "id": "d094085f-951f-42ff-805c-0fca5975cd42",
   "metadata": {},
   "outputs": [
    {
     "data": {
      "text/plain": [
       "[0, 1, 2, 3, 4, 5, 6, 7, 8, 9, 10]"
      ]
     },
     "execution_count": 6,
     "metadata": {},
     "output_type": "execute_result"
    }
   ],
   "source": [
    "start = 1\n",
    "stop = 11\n",
    "step = 1\n",
    "# range(start,stop,step) # [start:step:stop) --> \n",
    "list(range(stop))"
   ]
  },
  {
   "cell_type": "code",
   "execution_count": 8,
   "id": "a6d68818-eaaa-4a16-898c-5a9bf107471c",
   "metadata": {},
   "outputs": [
    {
     "data": {
      "text/plain": [
       "[1, 2, 3, 4, 5, 6, 7, 8, 9, 10]"
      ]
     },
     "execution_count": 8,
     "metadata": {},
     "output_type": "execute_result"
    }
   ],
   "source": [
    "list(range(start, stop))"
   ]
  },
  {
   "cell_type": "code",
   "execution_count": 9,
   "id": "a703a506-4175-40b0-ade8-eeb13461dc4a",
   "metadata": {},
   "outputs": [
    {
     "data": {
      "text/plain": [
       "[1, 3, 5, 7, 9]"
      ]
     },
     "execution_count": 9,
     "metadata": {},
     "output_type": "execute_result"
    }
   ],
   "source": [
    "list(range(start, stop, 2))"
   ]
  },
  {
   "cell_type": "code",
   "execution_count": 10,
   "id": "9223089d-0ebf-425a-849a-2561dbd6d5af",
   "metadata": {},
   "outputs": [
    {
     "data": {
      "text/plain": [
       "[2, 4, 6, 8, 10, 12, 14, 16, 18, 20]"
      ]
     },
     "execution_count": 10,
     "metadata": {},
     "output_type": "execute_result"
    }
   ],
   "source": [
    "list(range(2, 21, 2))"
   ]
  },
  {
   "cell_type": "code",
   "execution_count": 11,
   "id": "acfd06fd-a88e-42fb-a795-cf8021406861",
   "metadata": {},
   "outputs": [
    {
     "name": "stdout",
     "output_type": "stream",
     "text": [
      "0\n",
      "1\n",
      "2\n",
      "3\n",
      "4\n"
     ]
    }
   ],
   "source": [
    "values = [4, 10, 3, 8, -6]\n",
    "# for (i=1, i<length(list), i++) {\n",
    "\n",
    "# }\n",
    "\n",
    "for i in range(len(values)):\n",
    "    print(i)"
   ]
  },
  {
   "cell_type": "code",
   "execution_count": 12,
   "id": "a98efafb-4678-4962-8dfd-d11b9b5e11f6",
   "metadata": {},
   "outputs": [
    {
     "name": "stdout",
     "output_type": "stream",
     "text": [
      "0 4\n",
      "1 10\n",
      "2 3\n",
      "3 8\n",
      "4 -6\n"
     ]
    }
   ],
   "source": [
    "for i in range(len(values)):\n",
    "    print(i, values[i])"
   ]
  },
  {
   "cell_type": "code",
   "execution_count": 13,
   "id": "a1f6e2dc-10b3-4e13-b973-1ada1d10da65",
   "metadata": {},
   "outputs": [
    {
     "name": "stdout",
     "output_type": "stream",
     "text": [
      "4\n",
      "10\n",
      "3\n",
      "8\n",
      "-6\n"
     ]
    }
   ],
   "source": [
    "for ele in values:\n",
    "    print(ele)"
   ]
  },
  {
   "cell_type": "code",
   "execution_count": 14,
   "id": "54093c7e-7a5b-44c9-87e1-791609de9c64",
   "metadata": {},
   "outputs": [
    {
     "name": "stdout",
     "output_type": "stream",
     "text": [
      "0 4\n",
      "1 10\n",
      "2 3\n",
      "3 8\n",
      "4 -6\n"
     ]
    }
   ],
   "source": [
    "for idx, ele in enumerate(values):\n",
    "    print(idx, ele)"
   ]
  },
  {
   "cell_type": "code",
   "execution_count": 15,
   "id": "42f47c86-4dc4-4fb8-944c-eef83f421cad",
   "metadata": {},
   "outputs": [
    {
     "name": "stdout",
     "output_type": "stream",
     "text": [
      "1 4\n",
      "2 10\n",
      "3 3\n",
      "4 8\n",
      "5 -6\n"
     ]
    }
   ],
   "source": [
    "for idx, ele in enumerate(values, 1):\n",
    "    print(idx, ele)"
   ]
  },
  {
   "cell_type": "code",
   "execution_count": 16,
   "id": "7eae3abf-ea19-456a-8031-4320bfb17874",
   "metadata": {},
   "outputs": [
    {
     "name": "stdout",
     "output_type": "stream",
     "text": [
      "101 4\n",
      "102 10\n",
      "103 3\n",
      "104 8\n",
      "105 -6\n"
     ]
    }
   ],
   "source": [
    "for idx, ele in enumerate(values, 101):\n",
    "    print(idx, ele)"
   ]
  },
  {
   "cell_type": "code",
   "execution_count": 17,
   "id": "26ca75d1-e70e-4935-af75-f8e98033ad38",
   "metadata": {},
   "outputs": [
    {
     "name": "stdout",
     "output_type": "stream",
     "text": [
      "101 1\n",
      "102 2\n",
      "103 3\n",
      "104 4\n"
     ]
    }
   ],
   "source": [
    "for idx, ele in enumerate(my_str, 101):\n",
    "    print(idx, ele)"
   ]
  },
  {
   "cell_type": "code",
   "execution_count": 31,
   "id": "34f67fdc-77e1-4a4d-9378-e5fdb5aa29dd",
   "metadata": {},
   "outputs": [],
   "source": [
    "x = enumerate(values)"
   ]
  },
  {
   "cell_type": "code",
   "execution_count": 32,
   "id": "b3af7c45-e256-4002-b8a3-05bf08d801bd",
   "metadata": {},
   "outputs": [
    {
     "name": "stdout",
     "output_type": "stream",
     "text": [
      "(0, 4)\n",
      "(1, 10)\n",
      "(2, 3)\n",
      "(3, 8)\n",
      "(4, -6)\n"
     ]
    }
   ],
   "source": [
    "for ele in x:\n",
    "    print(ele)"
   ]
  },
  {
   "cell_type": "code",
   "execution_count": 29,
   "id": "508af6e6-7019-424c-b1fb-db0737dfe8a4",
   "metadata": {},
   "outputs": [],
   "source": [
    "for ele in x:\n",
    "    print(ele)"
   ]
  },
  {
   "cell_type": "code",
   "execution_count": 30,
   "id": "8fac0a29-c3d8-4e96-8d55-1b6b67392616",
   "metadata": {},
   "outputs": [],
   "source": [
    "for ele in []:\n",
    "    print(ele)"
   ]
  },
  {
   "cell_type": "code",
   "execution_count": 22,
   "id": "63e46d86-f428-4237-83a2-08506c2e0141",
   "metadata": {},
   "outputs": [
    {
     "name": "stdout",
     "output_type": "stream",
     "text": [
      "0 4\n"
     ]
    }
   ],
   "source": [
    "idx, ele = (0, 4)\n",
    "print(idx, ele)"
   ]
  },
  {
   "cell_type": "code",
   "execution_count": 35,
   "id": "e2e99ab4-7df2-4936-940b-67191bd4e8a2",
   "metadata": {},
   "outputs": [
    {
     "data": {
      "text/plain": [
       "[8, 20, 6, 16, -12]"
      ]
     },
     "execution_count": 35,
     "metadata": {},
     "output_type": "execute_result"
    }
   ],
   "source": [
    "values = [4, 10, 3, 8, -6]\n",
    "for i in range(len(values)):\n",
    "    values[i] = values[i] * 2\n",
    "values"
   ]
  },
  {
   "cell_type": "code",
   "execution_count": 33,
   "id": "f33fa02a-9d5a-44cd-a6b6-5beeab1c2802",
   "metadata": {},
   "outputs": [
    {
     "name": "stdout",
     "output_type": "stream",
     "text": [
      "0\n",
      "1\n",
      "2\n",
      "3\n",
      "4\n"
     ]
    }
   ],
   "source": [
    "x = range(len(values))\n",
    "\n",
    "for ele in x:\n",
    "    print(ele)"
   ]
  },
  {
   "cell_type": "code",
   "execution_count": 34,
   "id": "a8529489-d994-4c42-9dcb-90ab58dda4ee",
   "metadata": {},
   "outputs": [
    {
     "name": "stdout",
     "output_type": "stream",
     "text": [
      "0\n",
      "1\n",
      "2\n",
      "3\n",
      "4\n"
     ]
    }
   ],
   "source": [
    "for ele in x:\n",
    "    print(ele)"
   ]
  },
  {
   "cell_type": "code",
   "execution_count": 36,
   "id": "64c88df8-4e1d-400e-b0c2-7f78a71419e2",
   "metadata": {
    "scrolled": true
   },
   "outputs": [
    {
     "name": "stdout",
     "output_type": "stream",
     "text": [
      "Li 6.941\n",
      "Na 22.98976928\n",
      "K 39.0983\n"
     ]
    }
   ],
   "source": [
    "metals = ['Li', 'Na', 'K']\n",
    "weights = [6.941, 22.98976928, 39.0983]\n",
    "for i in range(len(metals)):\n",
    "    print(metals[i], weights[i])"
   ]
  },
  {
   "cell_type": "code",
   "execution_count": 37,
   "id": "772027f0-9e24-48e1-b36a-f68bfa687bbb",
   "metadata": {},
   "outputs": [
    {
     "name": "stdout",
     "output_type": "stream",
     "text": [
      "Li 6.941\n",
      "Na 22.98976928\n",
      "K 39.0983\n"
     ]
    }
   ],
   "source": [
    "metals = ['Li', 'Na', 'K']\n",
    "weights = [6.941, 22.98976928, 39.0983]\n",
    "for metal, weight in zip(metals, weights):\n",
    "    print(metal, weight)"
   ]
  },
  {
   "cell_type": "code",
   "execution_count": 38,
   "id": "fcd76dcb-d05f-48b6-a23e-bb608a93c699",
   "metadata": {},
   "outputs": [
    {
     "name": "stdout",
     "output_type": "stream",
     "text": [
      "Li 6.941\n",
      "Na 22.98976928\n",
      "K 39.0983\n"
     ]
    }
   ],
   "source": [
    "metals = ['Li', 'Na', 'K']\n",
    "weights = [6.941, 22.98976928, 39.0983]\n",
    "x = zip(metals, weights)\n",
    "for metal, weight in x:\n",
    "    print(metal, weight)"
   ]
  },
  {
   "cell_type": "code",
   "execution_count": 39,
   "id": "953f3917-5850-4b76-afe0-f94c760df143",
   "metadata": {},
   "outputs": [],
   "source": [
    "for metal, weight in x:\n",
    "    print(metal, weight)"
   ]
  },
  {
   "cell_type": "code",
   "execution_count": 40,
   "id": "68d4ff3c-ada1-48de-a397-a475fd9c8b33",
   "metadata": {},
   "outputs": [
    {
     "name": "stdout",
     "output_type": "stream",
     "text": [
      "Li 6.941 1\n",
      "Na 22.98976928 2\n",
      "K 39.0983 3\n"
     ]
    }
   ],
   "source": [
    "metals = ['Li', 'Na', 'K']\n",
    "weights = [6.941, 22.98976928, 39.0983]\n",
    "y = [1, 2, 3]\n",
    "x = zip(metals, weights,y)\n",
    "for metal, weight, s in x:\n",
    "    print(metal, weight,s)"
   ]
  },
  {
   "cell_type": "code",
   "execution_count": 41,
   "id": "69f9007b-e265-4c37-ba40-76868e055ca0",
   "metadata": {},
   "outputs": [
    {
     "name": "stdout",
     "output_type": "stream",
     "text": [
      "Li 6.941\n",
      "Na 22.98976928\n",
      "K 39.0983\n"
     ]
    }
   ],
   "source": [
    "metals = ['Li', 'Na', 'K', 'H']\n",
    "weights = [6.941, 22.98976928, 39.0983]\n",
    "\n",
    "x = zip(metals, weights)\n",
    "for metal, weight in x:\n",
    "    print(metal, weight)"
   ]
  },
  {
   "cell_type": "code",
   "execution_count": 42,
   "id": "bb92a315-e9a1-4a4d-b736-971362b5e72e",
   "metadata": {},
   "outputs": [
    {
     "name": "stdout",
     "output_type": "stream",
     "text": [
      "Li 6.941\n",
      "Na 22.98976928\n",
      "K 39.0983\n",
      "H 1\n"
     ]
    }
   ],
   "source": [
    "metals = ['Li', 'Na', 'K', 'H']\n",
    "weights = [6.941, 22.98976928, 39.0983, 1, 2, 3]\n",
    "\n",
    "x = zip(metals, weights)\n",
    "for metal, weight in x:\n",
    "    print(metal, weight)"
   ]
  },
  {
   "cell_type": "code",
   "execution_count": 43,
   "id": "b8b6afca-3c19-4211-87eb-8af0ea04092f",
   "metadata": {},
   "outputs": [
    {
     "name": "stdout",
     "output_type": "stream",
     "text": [
      "Li\n",
      "Na\n",
      "K\n",
      "F\n",
      "Cl\n",
      "Br\n"
     ]
    }
   ],
   "source": [
    "elements = [\n",
    "    ['Li', 'Na', 'K'], \n",
    "    ['F', 'Cl', 'Br']\n",
    "]\n",
    "for inner_list in elements:\n",
    "    for item in inner_list:\n",
    "        print(item)"
   ]
  },
  {
   "cell_type": "code",
   "execution_count": 44,
   "id": "787632bd-f06b-4ee0-958f-8e20414c4f44",
   "metadata": {},
   "outputs": [
    {
     "name": "stdout",
     "output_type": "stream",
     "text": [
      "3\n",
      "3\n",
      "4\n"
     ]
    }
   ],
   "source": [
    "info = [\n",
    "    ['Isaac Newton', 1643, 1727],\n",
    "    ['Charles Darwin', 1809, 1882],\n",
    "    ['Alan Turing', 1912, 1954, 'alan@bletchley.uk']\n",
    "]\n",
    "for item in info:\n",
    "    print(len(item))"
   ]
  },
  {
   "cell_type": "code",
   "execution_count": 45,
   "id": "36d1069b-60df-442f-acce-f0ebdc6290e7",
   "metadata": {},
   "outputs": [
    {
     "name": "stdout",
     "output_type": "stream",
     "text": [
      "11\n"
     ]
    }
   ],
   "source": [
    "x = [1, 7, 3] \n",
    "\n",
    "sum = 0\n",
    "for ele in x:\n",
    "    sum += ele\n",
    "\n",
    "print(sum)"
   ]
  },
  {
   "cell_type": "code",
   "execution_count": 46,
   "id": "3cb3145e-0e7b-47cc-b659-4c983945e50c",
   "metadata": {},
   "outputs": [
    {
     "name": "stdout",
     "output_type": "stream",
     "text": [
      "173\n"
     ]
    }
   ],
   "source": [
    "x = [1, 7, 3] # --> 173\n",
    "\n",
    "sum = 0\n",
    "for ele in x:\n",
    "    sum = sum *10 + ele\n",
    "print(sum)"
   ]
  },
  {
   "cell_type": "code",
   "execution_count": 47,
   "id": "dbd8722a-b912-4f5c-b897-0cd31967ea91",
   "metadata": {},
   "outputs": [
    {
     "name": "stdout",
     "output_type": "stream",
     "text": [
      "1134000234 0001123344 4433211000\n"
     ]
    }
   ],
   "source": [
    "string1 = '1134000234'\n",
    "string2 = ''.join(sorted([ele for ele in string1]))\n",
    "string3 = ''.join(sorted([ele for ele in string1], reverse=True))\n",
    "print(string1, string2, string3)"
   ]
  },
  {
   "cell_type": "code",
   "execution_count": 48,
   "id": "4106edd4-d53a-4206-9815-9d2eddc9bae9",
   "metadata": {},
   "outputs": [
    {
     "name": "stdout",
     "output_type": "stream",
     "text": [
      "1134000234 0001123344 4433211000\n"
     ]
    }
   ],
   "source": [
    "string1 = '1134000234'\n",
    "string2 = ''.join(sorted(list(string1)))\n",
    "string3 = ''.join(sorted(list(string1), reverse=True))\n",
    "print(string1, string2, string3)"
   ]
  },
  {
   "cell_type": "code",
   "execution_count": 49,
   "id": "bc2c389c-5227-4ddd-ac21-3b800b009a67",
   "metadata": {},
   "outputs": [],
   "source": [
    "count = [0,] * 10"
   ]
  },
  {
   "cell_type": "code",
   "execution_count": 50,
   "id": "3acf25cf-529b-4a14-a28b-a82cafa63e9f",
   "metadata": {},
   "outputs": [
    {
     "data": {
      "text/plain": [
       "[0, 0, 0, 0, 0, 0, 0, 0, 0, 0]"
      ]
     },
     "execution_count": 50,
     "metadata": {},
     "output_type": "execute_result"
    }
   ],
   "source": [
    "[3, 2, 1, 2, 2, 0, 0, 0, 0, 0]"
   ]
  },
  {
   "cell_type": "code",
   "execution_count": 51,
   "id": "c3c28be7-a799-408e-bb1a-b5da285db7f7",
   "metadata": {},
   "outputs": [
    {
     "data": {
      "text/plain": [
       "[3, 2, 1, 2, 2, 0, 0, 0, 0, 0]"
      ]
     },
     "execution_count": 51,
     "metadata": {},
     "output_type": "execute_result"
    }
   ],
   "source": [
    "store = [0] * 10\n",
    "string1 = '1134000234'\n",
    "for char in string1:\n",
    "    index = int(char)\n",
    "    store[index] += 1\n",
    "\n",
    "store"
   ]
  },
  {
   "cell_type": "code",
   "execution_count": 53,
   "id": "ee170c48-9cbf-4551-b222-8bf4b6ee58f7",
   "metadata": {},
   "outputs": [
    {
     "name": "stdout",
     "output_type": "stream",
     "text": [
      "before \n",
      "000\n",
      "after 000\n",
      "before 000\n",
      "11\n",
      "after 00011\n",
      "before 00011\n",
      "2\n",
      "after 000112\n",
      "before 000112\n",
      "33\n",
      "after 00011233\n",
      "before 00011233\n",
      "44\n",
      "after 0001123344\n",
      "before 0001123344\n",
      "\n",
      "after 0001123344\n",
      "before 0001123344\n",
      "\n",
      "after 0001123344\n",
      "before 0001123344\n",
      "\n",
      "after 0001123344\n",
      "before 0001123344\n",
      "\n",
      "after 0001123344\n",
      "before 0001123344\n",
      "\n",
      "after 0001123344\n",
      "0001123344\n"
     ]
    }
   ],
   "source": [
    "sorted_string = ''\n",
    "for idx, ele in enumerate(store):\n",
    "    print('before', sorted_string)\n",
    "    print(str(idx) * ele)\n",
    "    sorted_string += str(idx) * ele\n",
    "    print('after', sorted_string)\n",
    "print(sorted_string)\n"
   ]
  },
  {
   "cell_type": "code",
   "execution_count": 57,
   "id": "487e0d57-2dff-43c4-b457-fa028488f975",
   "metadata": {},
   "outputs": [
    {
     "name": "stdout",
     "output_type": "stream",
     "text": [
      "[5, 5, 4, 3, 6, 2, 5, 3, 1, 6]\n",
      "0000011111222233344444455666667778999999\n"
     ]
    }
   ],
   "source": [
    "store = [0] * 10\n",
    "string1 = '9999772233444441111000666224355667809901,alksdjAAAAAAAAAalkdf'\n",
    "for char in string1:\n",
    "    if char not in '0123456789':\n",
    "        continue\n",
    "    index = int(char)\n",
    "    store[index] += 1\n",
    "print(store)\n",
    "sorted_string = ''\n",
    "for idx, ele in enumerate(store):\n",
    "    sorted_string += str(idx) * ele\n",
    "print(sorted_string)"
   ]
  },
  {
   "cell_type": "code",
   "execution_count": null,
   "id": "512a9464-7917-4206-899e-dab758543d07",
   "metadata": {},
   "outputs": [],
   "source": [
    "number = 1234 # \n",
    "sum = 0\n",
    "while number:\n",
    "    sum += number % 10\n",
    "    number = number // 10 \n",
    "print(sum)"
   ]
  },
  {
   "cell_type": "code",
   "execution_count": 62,
   "id": "66cb28c8-6752-41d3-a83b-3a68f07833a8",
   "metadata": {},
   "outputs": [
    {
     "name": "stdout",
     "output_type": "stream",
     "text": [
      "student1,90,98,94,97,93,94,91,98,91,93,100,97,100,95,90,96\n",
      "student2,96,92,94,93,98,100,98\n",
      "student3,96,90,98,90,96,99,98,98,91,91,99\n",
      "student4,98,97,96,99,99,97,96,98,99,96,97,90,97,99,91,92,99,100,93,90,100\n",
      "student5,96,99,95,99,92,98,96,95,91,98,92,98,92,95,96,91,90,97,92,98,93,98,100,90,100\n",
      "student6,94,100,92,92,91,91,91,94,90,92,94,91,98,95,96,96,93,94,91,91,91,93,91,94,93,95,93,92\n",
      "student7,92,99,96,91,97,91,90,99,91,92,90,97,95,97,96,95\n",
      "student8,90,93,94,92,92,92,91,97,91,94,91,94\n",
      "student9,97\n",
      "student10,91,90,90,91,98,92,94,92,97,92,95,91,100,95,96,91,100,96,97,100,95,99,94\n",
      "student11,93,90,91,95,99,98,94,94,100,96,97,98,94,97,91,97\n",
      "student12,95,100,90,91\n",
      "student13,93,97,96,91,92,91,97,95,98,95,90,96,100,98,92,98,90,92,90,98,100,92,99,97,97,92,92,100\n",
      "student14,90,97,98,93\n",
      "student15,98,91,95,96,98,94,91,95,97,97,97,99,100,93,91,92,93,99,97,95,98,91,96,98,91,96,97,100,92,100\n",
      "student16,98,99,98,98,99,98,95,98,100,96,90,95,90,95,95\n",
      "student17,93,92,94,92,97,96,96,95,97,93,92,96,99,96,98,100,97,95,96,97,96,92,99,90,97\n",
      "student18,93,94,91,94,93,99,98,100,97,94,100,98,97,92,100,93,96,100,92\n",
      "student19,98,94,93,95,99,99,93,92,92,99,99,92,91,90,96,96,95,97,99,95,93,96,90,97,99,90\n",
      "student20,92,93,100,94,90,91,95,98,97,96,94,98,96,94,95,94,92,95,92,94,97,96,90,99,93,93,97,93,94,99\n",
      "student21,94,92,94,90,93,100,92,95,97,98,94,90,94,92,98,96,91,91,90,90,99,92,94,93,93\n",
      "student22,92,90,98,98,92,96,90,98,91,95,98,99,97,92,94,94,99,92,91\n",
      "student23,90,97,90,95,99,94,96,97,96,90,90,90,97,100,94,97,93,98,95,100,91,98,96\n",
      "student24,90,95,100,95,99,91\n",
      "student25,96,93,97,96,100,94,93,98,98,94,99,97,93,93\n",
      "student26,94,90,91,97,90,93,93,92,97,93,96,99,94,99,93\n",
      "student27,92,97,91,93,98,96,98,99,97,94,99,93,96,90,97,96,95,91,99,93,90,97,96,91,92\n",
      "student28,100,98,100,100,93,96,100,96,100,98,98,100,99,95,100\n",
      "student29,93,92,100,90,96,95\n",
      "student30,100,92,97,96,95,93,94,92,92,90,94,90,93,98\n",
      "student31,96,98,98,100,93,97,92,93,96,90,92,94,92,95,90\n",
      "student32,95,100,92\n",
      "student33,93,98,97,95,96,90,91,98,95,100,90,99\n",
      "student34,92,94,100,93,94,98,90,95\n",
      "student35,94,96,93\n",
      "student36,90,99,96,91,91,94\n",
      "student37,96,99\n",
      "student38,100,99,95,90,96,97,95,91,96,100,98,94,92,97,100,99,96,95,95,93,97\n",
      "student39,95,98,95,100,99,99,94,98,94,95,97,93,100,98,96,97,97,99,94,95,92,96,92,92,99,99,90,92,100,96\n",
      "student40,95,90,95,92,91,96,96,94\n",
      "student41,96,99,92,93,94,94,91,91,95,92,90,94,96,97,97,96,100,98,93,96,94,97,98,92\n",
      "student42,95,99,95,93,98,98,99,95,95,93,93,94,98,91,90,96,98,95,90,96,97\n",
      "student43,93\n",
      "student44,97,97,91,92,93,100,93,94,100,97,90,94\n",
      "student45,94,94,97,98,90,92,97,93,100,91\n",
      "student46,91,99,92,93,97,94,92,97,92,97,94,92,99,100,98,91,93,93,92,90,94,91,99,97,91,100,95,94,95\n",
      "student47,92,99,90,97,93,99,96,92,99,90,95,97,98,94,99,96,91,96,92\n",
      "student48,94,94,100,99,95,92,95,94,97,96,100\n",
      "student49,91,93,90\n",
      "student50,91,91,92,91,99,98,90,91,99,99,99,96,96,92,93,95,91,92,94,96,97,94,92,97,99,93,93,94\n",
      "student51,94,93,99,96,97,98,96,91,92,93,100,98,90,96,98,93,98\n",
      "student52,90,100\n",
      "student53,100,91,93,98,98,96,96,94,92,95,93,100,99,95,94,95,90,97,99,100,98,93,98\n",
      "student54,99,99,90,97,91,95,90,90,92,100,90,90,96,94,98,92,94,93,94,90,90,95,90,93,94,94,90,92,93\n",
      "student55,94,94,91,99,95\n",
      "student56,91,94,100,95\n",
      "student57,99,91,94,100,95,90,95,95,93,94,91,96,100,99,95,93,97\n",
      "student58,93,99,97,91,93,98,100,98,93,90,100,94\n",
      "student59,94\n",
      "student60,100,90,96\n",
      "student61,93,99,97,94,91,92,95,93,93,97,96,96,94,98,91,96,98,90,98,91,95,96,95\n",
      "student62,92,91\n",
      "student63,93,90,91,92,96\n",
      "student64,99,93,100,96,95,94,99,95,91,99,93,98,96,93,90,99,99,96,95,92,100,97,98,93,96,98,99,99,97,92\n",
      "student65,95,96,94,96,98,90,99,99,96,90,90,92,100,98,97,95,90,90,99,96,100,95,92,96\n",
      "student66,98,90\n",
      "student67,92,92,93,93,98,94,93,99,96,96,99,95,98,97,97,92,98,94,90,95,90,93,95,98,93,100,90\n",
      "student68,99,96,96,99,90,96,94,99,93,91\n",
      "student69,99,94,93\n",
      "student70,98,95,98,95,92,98,90,98,100,90,91,92,90\n",
      "student71,92,96,97,98,95,99,96,100,99,90,99,90,95,94,99,93,90,96,91,93,97,95,92,98,94\n",
      "student72,96,97,92,93,95,100,94,92,100,99,100\n",
      "student73,98,93,95,100,99,90,96\n",
      "student74,94,92,94,90,95,90,90,92,97,99,90,100,91,94,96,91,90,90,95,94,93,91,92,98\n",
      "student75,99,93,94,95,96,100,90,97,90,92,93,95,100,94,100,94,93,96,92,92,91,92\n",
      "student76,92,97\n",
      "student77,93,95,98,94,95,94,95,97,94,99,98,95,94,97,93,95,90,90,94,100,94,95,92,98,91,93,100\n",
      "student78,90,90,95,96,100,92,90,100,93,97,98,92,98,91,96,91,97,93,91,96,98,99,99,99,94,99,98,99,94\n",
      "student79,91,100,98,95,94,97,95,91,100,97,100,93,90,97,100,92,100,100,90,92,99,94,90,100,91,97\n",
      "student80,93,99,100,98,96,91,90,92,96,90,95,92,99,94,98,100,92,100,99,93,92,98,93,97\n",
      "student81,94,99,92,92\n",
      "student82,90,100,95,95,98\n",
      "student83,91,96,90,91,95,93\n",
      "student84,91,91,90,96,92,90,100,94\n",
      "student85,93,90,94,96,95,100,100,99,99,90,95,90,94,100,97,91\n",
      "student86,99,98,90,98,95,98,95,93,94,97,95\n",
      "student87,95,96,99,99,96,99,97,94,90,99,92,95,100,95,93,98,92,94,90,99,97,94,95,97,99,91,100,100\n",
      "student88,99,98,92,90,94,93,98,99,92,94,97,91,93,93,94,100,90,92,100,93\n",
      "student89,91,97,92,92,93\n",
      "student90,91,98,95,97,100,91,97,98,98,100,90,94,90,99,94,91,95,100,91,97,94,98,95,97,92,93,96\n",
      "student91,100,97,97,92,96,91,92,94,97\n",
      "student92,91,100,96,92,99,90,99,93,91,95,99,93,95,99,99,99,99,95,92,91,100,100,92,100,90,95\n",
      "student93,91,96,93,93,90,98,91,97,96,94,91,98,94,95,97,98,97,95,100,92,96,92,93,92,90\n",
      "student94,96,99,95,91,90,99,95,97,94,96,92,92,90,96,98,98,92,99,99,93,100,94,96,95\n",
      "student95,94,97,99,91,93,100,96,90\n",
      "student96,98,90,90,91,96,91,93,98,98,98,98,96,90\n",
      "student97,96,91,100,95,98,95,95,91,96,94\n",
      "student98,92,90,96,91,95,91,99,92,94,96,92,97,91,90,98,90,92,100,99,97,92\n",
      "student99,99,92,95,92,99,100,99,100,100,96,93,99,93,91,99,91,94,91,94,92,91,90,95,93,95,93,97,91,94,93\n",
      "student100,95,92,97,95,100,99\n"
     ]
    }
   ],
   "source": [
    "filename = 'testdata.txt'\n",
    "with open(filename, 'r') as file:\n",
    "    for line in file:\n",
    "        if not line.strip(): # used for skipping empty lines!\n",
    "            continue\n",
    "            \n",
    "        print(line.strip())\n",
    "\n",
    "### "
   ]
  },
  {
   "cell_type": "code",
   "execution_count": 59,
   "id": "49690eec-0433-4902-9a49-0ce2e82d4bf7",
   "metadata": {},
   "outputs": [
    {
     "data": {
      "text/plain": [
       "''"
      ]
     },
     "execution_count": 59,
     "metadata": {},
     "output_type": "execute_result"
    }
   ],
   "source": [
    "x = '                         \\n'\n",
    "x.strip()"
   ]
  },
  {
   "cell_type": "code",
   "execution_count": 73,
   "id": "02cef31a-3266-4253-9598-63fd9819ad8d",
   "metadata": {},
   "outputs": [
    {
     "name": "stdout",
     "output_type": "stream",
     "text": [
      "32.o is bad\n"
     ]
    },
    {
     "data": {
      "text/plain": [
       "65.85454545454546"
      ]
     },
     "execution_count": 73,
     "metadata": {},
     "output_type": "execute_result"
    }
   ],
   "source": [
    "numbers = []\n",
    "with open('numbers.txt') as file:\n",
    "    for line in file:\n",
    "        if not line.strip():\n",
    "            continue\n",
    "        try:\n",
    "            value = float(line)\n",
    "        except:\n",
    "            print(line.strip(), 'is bad')\n",
    "            continue\n",
    "        numbers.append(value)\n",
    "sum(numbers)/len(numbers)"
   ]
  },
  {
   "cell_type": "code",
   "execution_count": 69,
   "id": "026cba41-7938-470e-993b-9cccfab420c8",
   "metadata": {},
   "outputs": [
    {
     "data": {
      "text/plain": [
       "[3.0, 9.0, 32.0, 324.0, 9.0, 234.0, 23.4, 34.0, 12.0, 44.0, 0.0]"
      ]
     },
     "execution_count": 69,
     "metadata": {},
     "output_type": "execute_result"
    }
   ],
   "source": [
    "numbers"
   ]
  },
  {
   "cell_type": "code",
   "execution_count": 72,
   "id": "60374400-3b8c-454c-9039-8be0e0cadf95",
   "metadata": {},
   "outputs": [
    {
     "data": {
      "text/plain": [
       "65.85454545454546"
      ]
     },
     "execution_count": 72,
     "metadata": {},
     "output_type": "execute_result"
    }
   ],
   "source": []
  },
  {
   "cell_type": "code",
   "execution_count": 71,
   "id": "d64f83af-82f2-4d20-8fc2-35fd5a489bab",
   "metadata": {},
   "outputs": [],
   "source": [
    "del sum"
   ]
  },
  {
   "cell_type": "code",
   "execution_count": 74,
   "id": "da1c09ba-a435-4750-9b09-08a97533c026",
   "metadata": {},
   "outputs": [
    {
     "ename": "SyntaxError",
     "evalue": "invalid syntax (3939251948.py, line 1)",
     "output_type": "error",
     "traceback": [
      "\u001b[0;36m  Cell \u001b[0;32mIn[74], line 1\u001b[0;36m\u001b[0m\n\u001b[0;31m    a = [2,3,,5]\u001b[0m\n\u001b[0m             ^\u001b[0m\n\u001b[0;31mSyntaxError\u001b[0m\u001b[0;31m:\u001b[0m invalid syntax\n"
     ]
    }
   ],
   "source": [
    "a = [2,3,,5]"
   ]
  },
  {
   "cell_type": "code",
   "execution_count": 75,
   "id": "af76902c-04ca-4da8-8b2c-d53d4c27816f",
   "metadata": {},
   "outputs": [],
   "source": [
    "a = [2,3,None,5]"
   ]
  },
  {
   "cell_type": "code",
   "execution_count": 76,
   "id": "84941bd3-e012-4033-9e4c-89fd76957238",
   "metadata": {},
   "outputs": [],
   "source": [
    "total = 0\n",
    "count = 0\n",
    "my_list = list(range(20))\n",
    "for value in my_list:\n",
    "   total += value\n",
    "   count += 1\n",
    "average = total / count"
   ]
  },
  {
   "cell_type": "code",
   "execution_count": 77,
   "id": "e499cca7-1481-4715-a1af-acab65a4c33e",
   "metadata": {},
   "outputs": [
    {
     "data": {
      "text/plain": [
       "9.5"
      ]
     },
     "execution_count": 77,
     "metadata": {},
     "output_type": "execute_result"
    }
   ],
   "source": [
    "average"
   ]
  },
  {
   "cell_type": "code",
   "execution_count": 80,
   "id": "0b98ab4c-6f0d-4d7c-94ab-04c3099bde1f",
   "metadata": {},
   "outputs": [
    {
     "data": {
      "text/plain": [
       "'9723410658,alksdjAf'"
      ]
     },
     "execution_count": 80,
     "metadata": {},
     "output_type": "execute_result"
    }
   ],
   "source": [
    "string1 = '9999772233444441111000666224355667809901,alksdjAAAAAAAAAalkdf'\n",
    "\n",
    "unique_values = []\n",
    "for ele in string1:\n",
    "    if ele not in unique_values:\n",
    "        unique_values.append(ele)\n",
    "\n",
    "unique_values\n",
    "''.join(unique_values)"
   ]
  },
  {
   "cell_type": "code",
   "execution_count": 83,
   "id": "167e85df-a6c0-48a8-9cdb-23b5abd108fc",
   "metadata": {},
   "outputs": [
    {
     "data": {
      "text/plain": [
       "78.8"
      ]
     },
     "execution_count": 83,
     "metadata": {},
     "output_type": "execute_result"
    }
   ],
   "source": [
    "values = []\n",
    "with open('for_ex7_data1.txt') as file:\n",
    "    for line in file:\n",
    "        line = line.strip()\n",
    "        if not line:\n",
    "            continue\n",
    "\n",
    "        try:\n",
    "            value = int(line)\n",
    "        except:\n",
    "            continue\n",
    "\n",
    "        values.append(value)\n",
    "\n",
    "sum(values)/len(values)"
   ]
  },
  {
   "cell_type": "code",
   "execution_count": 84,
   "id": "d034b040-5e0c-4b1e-9c8f-f0a226783f3b",
   "metadata": {},
   "outputs": [
    {
     "data": {
      "text/plain": [
       "64.42857142857143"
      ]
     },
     "execution_count": 84,
     "metadata": {},
     "output_type": "execute_result"
    }
   ],
   "source": [
    "values = []\n",
    "with open('for_ex7_data2.txt') as file:\n",
    "    for line in file:\n",
    "        line = line.strip()\n",
    "        if not line:\n",
    "            continue\n",
    "\n",
    "        try:\n",
    "            value = int(line)\n",
    "        except:\n",
    "            continue\n",
    "\n",
    "        values.append(value)\n",
    "\n",
    "sum(values)/len(values)"
   ]
  },
  {
   "cell_type": "code",
   "execution_count": 85,
   "id": "b2867cb8-68e6-4b07-bdca-8acc14585c8a",
   "metadata": {},
   "outputs": [
    {
     "data": {
      "text/plain": [
       "66.5"
      ]
     },
     "execution_count": 85,
     "metadata": {},
     "output_type": "execute_result"
    }
   ],
   "source": [
    "values = []\n",
    "with open('for_ex7_data3.txt') as file:\n",
    "    for line in file:\n",
    "        line = line.strip()\n",
    "        if not line:\n",
    "            continue\n",
    "\n",
    "        try:\n",
    "            value = int(line)\n",
    "        except:\n",
    "            continue\n",
    "\n",
    "        values.append(value)\n",
    "\n",
    "sum(values)/len(values)"
   ]
  },
  {
   "cell_type": "code",
   "execution_count": 106,
   "id": "6f629a46-73fe-49c8-8fc6-ba436e816348",
   "metadata": {},
   "outputs": [
    {
     "name": "stdout",
     "output_type": "stream",
     "text": [
      "Tail: 500808; Head: 499192\n",
      "Tail: 0.500808; Head: 0.499192\n"
     ]
    }
   ],
   "source": [
    "import random\n",
    "\n",
    "count_t = 0\n",
    "count_h = 0\n",
    "num_toss = 1_000_000\n",
    "for _ in range(num_toss):\n",
    "    value = random.randint(0, 1)\n",
    "    if value == 0:\n",
    "        count_t += 1\n",
    "    elif value == 1:\n",
    "        count_h += 1\n",
    "\n",
    "print(f'Tail: {count_t}; Head: {count_h}')\n",
    "print(f'Tail: {count_t/num_toss}; Head: {count_h/num_toss}')"
   ]
  },
  {
   "cell_type": "code",
   "execution_count": 117,
   "id": "da1209cd-1904-4cbb-9a32-91744a89f245",
   "metadata": {},
   "outputs": [
    {
     "name": "stdout",
     "output_type": "stream",
     "text": [
      "0\n",
      "1\n",
      "0\n",
      "1\n",
      "1\n",
      "0\n",
      "1\n",
      "1\n",
      "0\n",
      "1\n"
     ]
    }
   ],
   "source": [
    "import random\n",
    "random.seed(43)\n",
    "num_toss = 10\n",
    "for _ in range(num_toss):\n",
    "    value = random.randint(0, 1)\n",
    "    print(value)"
   ]
  },
  {
   "cell_type": "code",
   "execution_count": 120,
   "id": "aa91f445-28d9-47b8-87ba-ad9ecae423b8",
   "metadata": {},
   "outputs": [
    {
     "name": "stdout",
     "output_type": "stream",
     "text": [
      "HHTHTTHHHTHHHTTHHTTTTTTTTHTTHTHTHHHHHTTTHTHTHHHTHTTHHTHTHHHHTHHTTHHHHTHTHHHTHHTTTTHHTTHTTHHHHTTTTHHHHTTTHHHTHTHHTHTTHHTHHTTTHHHTTHTHTHTTTTTHTHHTTHHTHHHHTHTTTHHTHTHHHHHHTTTHTHHTHTTHHHTTTHTHTHTHHTHTTHTTHHTTTHHTHHHTHHHHHTTHHTTTHTHHTHHHTHTHTHTHTTHHHHTHTHTHHTHTTHTTTHTTHHHHTHHHTTHTHTHTHHHTHHHHHHHHTTTTHHTTTHHHHHHTTTHHHHHTTTHTHHTTTTHTHTHHTTTTTHTHHTTHHTTTHHHTTHTTTTTTHTTHHTTTHHHHTTHHTHHTTHHTHTHHHHHHHTHTHTHTTHTTHHTHHTTHTHTTTTHHHTHHHHHHHHHTHHTHTTHTHTHHTTTHHHHTTHHHHTHTTTTTHHHTHHHHTHTHHHTHHHHTTTHTTHTTTTTHHHTTTTTHHTTTTHTTTHHTTTHHTHTTHTHHHTHHHHTTTHHHTTHHTHHTHTTTTHTTTHTTTTHTTHTHHHTHTTHHTTHHTHTTHTHTHHHTTHTTHHHTHTTHTHTHHTTHTTTTHTTTHHHTHHTTHHHTHHHTTHHTTTHHTTHTTTTHTHTTTTTTHTTHTHHHTTHHHHTHHHTTHTTTHHHTTTHHTTHTHTHTHTHHTHHTTHHTTHTTHTHHHHHTHHHHHTHTHTHTHTHHHTHHHHHTTTHHHTHHHTHHTHHHHTHTTHTTTTTHHHHHHHHTHHTHHTTTTTTHHTHHTHTHHHHHTTTTTHTHTTTTTTHTTHTTHHHTHHHTTHHTHTHTTHTTTTTTHTTHHHHTTHTTTTHHTTTHHTHHTTHHHHHHHHTHHTHTHHTTTTTHTHTTTTTHHHTHTTHHHTTHHTTTHTTTHTHHTHHTTTHHHHHHHHTTTHTHHTHHTTTHTHHTTHTHHHTHHHHTHTTHHTTHHHHHHTHHTTHHHTHT\n"
     ]
    }
   ],
   "source": [
    "def coin_toss(number):\n",
    "    import random\n",
    "    random.seed(503)\n",
    "    output = ''\n",
    "    for i in range(number):\n",
    "        toss = random.randint(0, 1)\n",
    "\n",
    "        if toss == 0:\n",
    "            output += 'H'\n",
    "        else:\n",
    "            output += 'T'\n",
    "\n",
    "    return output\n",
    "\n",
    "\n",
    "print(coin_toss(1000))"
   ]
  },
  {
   "cell_type": "code",
   "execution_count": 123,
   "id": "cb559f1f-2285-488b-9e12-80865a27aace",
   "metadata": {},
   "outputs": [
    {
     "name": "stdout",
     "output_type": "stream",
     "text": [
      "(0.49772, 0.50228)\n"
     ]
    }
   ],
   "source": [
    "def coin_toss(number):\n",
    "    import random\n",
    "    random.seed(503)\n",
    "    output = ''\n",
    "    for i in range(number):\n",
    "        toss = random.randint(0, 1)\n",
    "\n",
    "        if toss == 0:\n",
    "            output += 'H'\n",
    "        else:\n",
    "            output += 'T'\n",
    "\n",
    "    return output\n",
    "\n",
    "\n",
    "def coin_toss_probability(number):\n",
    "    result = coin_toss(number)\n",
    "    head_count = 0\n",
    "    tail_count = 0\n",
    "\n",
    "    for ele in result:\n",
    "        if ele == 'H':\n",
    "            head_count += 1\n",
    "        elif ele == 'T':\n",
    "            tail_count += 1\n",
    "\n",
    "    return (head_count / len(result), tail_count / len(result))\n",
    "\n",
    "\n",
    "print(coin_toss_probability(100_000))"
   ]
  },
  {
   "cell_type": "code",
   "execution_count": 138,
   "id": "2272f89f-5b84-47e4-8a57-acc3106e6182",
   "metadata": {},
   "outputs": [
    {
     "name": "stdout",
     "output_type": "stream",
     "text": [
      "81\n",
      "14\n",
      "3\n",
      "94\n",
      "35\n"
     ]
    }
   ],
   "source": [
    "import random\n",
    "random.seed(42)\n",
    "for _ in range(5):\n",
    "    print(random.randint(0, 100))"
   ]
  },
  {
   "cell_type": "code",
   "execution_count": null,
   "id": "53d5dfe4-e912-4a9e-ba98-3cae30efd6dc",
   "metadata": {},
   "outputs": [],
   "source": []
  }
 ],
 "metadata": {
  "kernelspec": {
   "display_name": "Python 3 (ipykernel)",
   "language": "python",
   "name": "python3"
  },
  "language_info": {
   "codemirror_mode": {
    "name": "ipython",
    "version": 3
   },
   "file_extension": ".py",
   "mimetype": "text/x-python",
   "name": "python",
   "nbconvert_exporter": "python",
   "pygments_lexer": "ipython3",
   "version": "3.12.4"
  }
 },
 "nbformat": 4,
 "nbformat_minor": 5
}
