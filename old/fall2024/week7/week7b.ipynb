{
 "cells": [
  {
   "cell_type": "code",
   "execution_count": 14,
   "id": "4e7be1f9-d42f-4b9f-ae0f-b920ee9d3050",
   "metadata": {},
   "outputs": [
    {
     "name": "stdout",
     "output_type": "stream",
     "text": [
      "john doe\n",
      "Cannot enroll in the same course again\n",
      "Cannot enroll because you are already at max credits\n",
      "Chemistry, Math\n"
     ]
    }
   ],
   "source": [
    "class Person:\n",
    "    def __init__(self, first_name, last_name, email):\n",
    "        self.first_name = first_name\n",
    "        self.last_name = last_name\n",
    "        self.email = email\n",
    "\n",
    "    def __repr__(self):\n",
    "        return f'{self.first_name} {self.last_name}'\n",
    "    \n",
    "    @property\n",
    "    def full_name(self):\n",
    "        return f'{self.last_name}, {self.first_name}'\n",
    "\n",
    "class Student(Person):\n",
    "    PROGRAMS = ['graduate', 'undergraduate']\n",
    "    MAX_CREDITS = 9\n",
    "\n",
    "    def __init__(self, first_name, last_name, email, program):\n",
    "        super().__init__(first_name, last_name, email)\n",
    "        if program.lower() not in self.PROGRAMS:\n",
    "            raise ValueError('program can only be \"graduate\" or \"undergraduate\"')\n",
    "        self.program = program\n",
    "        self.courses = []\n",
    "        self.total_credits = 0\n",
    "\n",
    "    def enroll(self, course):\n",
    "\n",
    "        if course in self.courses:\n",
    "            print('Cannot enroll in the same course again')\n",
    "            return \n",
    "            \n",
    "        # if self.get_total_credits() <= self.MAX_CREDITS:\n",
    "        #     self.courses.append(course)\n",
    "        # else:\n",
    "        #     print('Cannot enroll because you are already at max credits')\n",
    "\n",
    "        # if self.total_credits <= self.MAX_CREDITS:\n",
    "        #     self.courses.append(course)\n",
    "        #     self.total_credits += course.credits\n",
    "        # else:\n",
    "        #     print('Cannot enroll because you are already at max credits')\n",
    "\n",
    "        if self.total_credits + course.credits <= self.MAX_CREDITS:\n",
    "            self.courses.append(course)\n",
    "            self.total_credits += course.credits\n",
    "        else:\n",
    "            print('Cannot enroll because you are already at max credits')\n",
    "\n",
    "\n",
    "\n",
    "    # def get_total_credits(self):\n",
    "    #     total_credits = 0\n",
    "    #     for course in self.courses:\n",
    "    #         total_credits += course.credits\n",
    "    #     return total_credits\n",
    "\n",
    "\n",
    "    def print_classes(self):\n",
    "        classes = ', '.join(sorted([i.course_name for i in self.courses]))\n",
    "        print(f'{classes}')\n",
    "\n",
    "\n",
    "\n",
    "class Course:\n",
    "    def __init__(self, course_name, credits):\n",
    "        self.course_name = course_name\n",
    "        self.credits = credits\n",
    "\n",
    "    def __repr__(self):\n",
    "        return f'{self.course_name}'\n",
    "\n",
    "    def __str__(self):\n",
    "        return f'{self.course_name}'\n",
    "\n",
    "\n",
    "    def get_course_name(self):\n",
    "        return self.course_name\n",
    "\n",
    "\n",
    "c1 = Course('Math', 3)\n",
    "c2 = Course('Physics', 4)\n",
    "c3 = Course('Chemistry', 3)\n",
    "c4 = Course('English', 3)\n",
    "\n",
    "s1 = Student('john', 'doe', 'jdoe@example.edu', 'graduate')\n",
    "print(s1)\n",
    "s1.enroll(c1)\n",
    "s1.enroll(c1)\n",
    "s1.enroll(c3)\n",
    "# s1.enroll(c4)\n",
    "s1.enroll(c2)\n",
    "s1.print_classes()"
   ]
  },
  {
   "cell_type": "code",
   "execution_count": 15,
   "id": "36c39daf-c937-490b-bd23-97d3c34e20c6",
   "metadata": {},
   "outputs": [
    {
     "data": {
      "text/plain": [
       "6"
      ]
     },
     "execution_count": 15,
     "metadata": {},
     "output_type": "execute_result"
    }
   ],
   "source": [
    "s1.total_credits"
   ]
  },
  {
   "cell_type": "code",
   "execution_count": 18,
   "id": "53ca5180-34cd-4a45-a28a-684d78f1a1c1",
   "metadata": {},
   "outputs": [],
   "source": [
    "class Student(Person):\n",
    "    PROGRAMS = ['undergraduate', 'graduate']\n",
    "    MAX_CREDITS = 12\n",
    "    \n",
    "    def __init__(self, first_name, last_name, email, program):\n",
    "        if program.lower() not in self.PROGRAMS:\n",
    "            raise ValueError(f'Programs can only be {self.PROGRAMS}. You entered: {program}.')\n",
    "        \n",
    "        super().__init__(first_name, last_name, email)\n",
    "        self.program = program.title()\n",
    "        self.courses = []\n",
    "        self.total_credits = 0\n",
    "   \n",
    "    def __repr__(self):\n",
    "        return f'{self.first_name} {self.last_name}; {self.program}'\n",
    "    \n",
    "    def enroll(self, *courses):\n",
    "        for course in courses:\n",
    "            if (self.total_credits + course.credits) > self.MAX_CREDITS:\n",
    "                print(f'This will put you above {self.MAX_CREDITS} credits')\n",
    "                return       \n",
    "            if course not in self.courses:\n",
    "                self.courses.append(course)\n",
    "                self.total_credits += course.credits\n",
    "            else:\n",
    "                print(f'Already enrolled in {class_name} ')\n",
    "        \n",
    "    def print_classes(self):\n",
    "        print(', '.join([ele.course_name for ele in self.courses]))"
   ]
  },
  {
   "cell_type": "code",
   "execution_count": 20,
   "id": "ac5cec05-b555-47cc-a6a0-f0ed19092706",
   "metadata": {},
   "outputs": [
    {
     "name": "stdout",
     "output_type": "stream",
     "text": [
      "john doe; Graduate\n",
      "This will put you above 12 credits\n",
      "Math, Physics, Chemistry\n"
     ]
    }
   ],
   "source": [
    "s1 = Student('john', 'doe', 'jdoe@example.edu', 'graduate')\n",
    "print(s1)\n",
    "s1.enroll(c1, c2, c3, c4)\n",
    "s1.print_classes()"
   ]
  },
  {
   "cell_type": "code",
   "execution_count": 21,
   "id": "ecce1902-1d3d-4cea-b12d-7c74ac22195d",
   "metadata": {},
   "outputs": [
    {
     "name": "stdout",
     "output_type": "stream",
     "text": [
      "Coke: 60\n",
      "Pepsi: 50\n",
      "7up: 40\n"
     ]
    }
   ],
   "source": [
    "class Beverage:\n",
    "    def __init__(self, name, temp):\n",
    "        self.name = name\n",
    "        self.temp = temp\n",
    "        \n",
    "    def __repr__(self):\n",
    "        return f'{self.name}: {self.temp}'\n",
    "        \n",
    "b1 = Beverage('Coke', 60)\n",
    "b2 = Beverage('Pepsi', 50)\n",
    "b3 = Beverage('7up', 40)\n",
    "\n",
    "beverages = [b1, b2, b3]\n",
    "for beverage in beverages:\n",
    "    print(beverage)"
   ]
  },
  {
   "cell_type": "code",
   "execution_count": 22,
   "id": "460c9624-191a-419c-b4e0-a508b8767f79",
   "metadata": {},
   "outputs": [
    {
     "name": "stdout",
     "output_type": "stream",
     "text": [
      "Coke 60\n",
      "Pepsi 50\n",
      "7up 40\n"
     ]
    }
   ],
   "source": [
    "class Beverage:\n",
    "    def __init__(self, name, temp):\n",
    "        self.name = name\n",
    "        self.temp = temp\n",
    "        \n",
    "    def __repr__(self):\n",
    "        return f'{self.name}: {self.temp}'\n",
    "        \n",
    "b1 = Beverage('Coke', 60)\n",
    "b2 = Beverage('Pepsi', 50)\n",
    "b3 = Beverage('7up', 40)\n",
    "\n",
    "beverages = [b1, b2, b3]\n",
    "for beverage in beverages:\n",
    "    print(beverage.name, beverage.temp)"
   ]
  },
  {
   "cell_type": "code",
   "execution_count": 23,
   "id": "f399cfa9-4cf4-4de4-b78b-932c0c9ad9e5",
   "metadata": {},
   "outputs": [
    {
     "name": "stdout",
     "output_type": "stream",
     "text": [
      "Coke: 60\n",
      "Pepsi: 75\n",
      "7up: 40\n"
     ]
    }
   ],
   "source": [
    "class Beverage:\n",
    "    def __init__(self, name, temp=75):\n",
    "        self.name = name\n",
    "        self.temp = temp\n",
    "        \n",
    "    def __repr__(self):\n",
    "        return f'{self.name}: {self.temp}'\n",
    "        \n",
    "b1 = Beverage('Coke', 60)\n",
    "b2 = Beverage('Pepsi')\n",
    "b3 = Beverage('7up', 40)\n",
    "\n",
    "beverages = [b1, b2, b3]\n",
    "for beverage in beverages:\n",
    "    print(beverage)"
   ]
  },
  {
   "cell_type": "code",
   "execution_count": 24,
   "id": "11d14b1d-b9ab-42f3-91d7-ea74bc9aee96",
   "metadata": {},
   "outputs": [],
   "source": [
    "class Logfile:\n",
    "    def __init__(self, filename):\n",
    "        self.filename = filename\n",
    "        \n",
    "    def open_file(self):\n",
    "        self.file = open(self.filename, 'w')\n",
    "        \n",
    "    def write_row(self, row):\n",
    "        self.file.write(f'{row.strip()}\\n')\n",
    "        \n",
    "    def close_file(self):\n",
    "        self.file.close()\n",
    "        \n",
    "\n",
    "        \n",
    "l1 = Logfile('log1.txt')\n",
    "l1.open_file()\n",
    "\n",
    "for row in ['abc', 'efg', 'hij']:\n",
    "    l1.write_row(row)\n",
    "    \n",
    "l1.close_file()\n",
    "\n",
    "l2 = Logfile('log2.txt')\n",
    "l2.open_file()\n",
    "\n",
    "for row in ['ABC', 'EFG', 'DHIJ']:\n",
    "    l2.write_row(row)\n",
    "    \n",
    "l2.close_file()"
   ]
  },
  {
   "cell_type": "code",
   "execution_count": 27,
   "id": "5ba2f231-27c9-4230-8f31-21c0964f34ad",
   "metadata": {},
   "outputs": [],
   "source": [
    "class Person:\n",
    "    def __init__(self, first_name, last_name):\n",
    "        self.first_name = first_name\n",
    "        self.last_name = last_name\n",
    "\n",
    "    def __repr__(self):\n",
    "        return f'{self.first_name} {self.last_name}'\n",
    "\n",
    "class Student(Person):\n",
    "    def __init__(self, first_name, last_name, credit_hours, q_point):\n",
    "        super().__init__(first_name, last_name)\n",
    "        self.credit_hours = credit_hours\n",
    "        self.q_point = q_point\n",
    "        \n",
    "    def get_gpa(self):\n",
    "        return round(self.q_point / self.credit_hours, 2)\n",
    "\n",
    "    def __repr__(self):\n",
    "        return super().__repr__() + f\"; GPA: {self.get_gpa()}\"\n",
    "    \n",
    "    \n",
    "filename = 'data.tsv'\n",
    "\n",
    "students = []\n",
    "\n",
    "with open(filename) as file:\n",
    "    for line in file:\n",
    "        if not line.strip():\n",
    "            continue\n",
    "        \n",
    "        name, credits, q_points = line.strip().split('\\t')\n",
    "        last_name, first_name = name.split(', ')\n",
    "        \n",
    "        student = Student(first_name, last_name, int(credits), int(q_points))\n",
    "        students.append(student)"
   ]
  },
  {
   "cell_type": "code",
   "execution_count": 29,
   "id": "6bffde31-9930-4b5d-b6cd-92b93349fbd2",
   "metadata": {},
   "outputs": [
    {
     "name": "stdout",
     "output_type": "stream",
     "text": [
      "Samuel Anderson; GPA: 2.62\n",
      "Jacob Cummings; GPA: 3.41\n",
      "Walter Sosa; GPA: 2.62\n",
      "Joel Conway; GPA: 3.23\n",
      "Andrew Burton; GPA: 2.15\n",
      "Judith Harris; GPA: 1.83\n",
      "Abigail Thomas; GPA: 2.61\n",
      "Sarah Edwards; GPA: 3.31\n",
      "Jennifer Pratt; GPA: 2.87\n",
      "Patricia Hess; GPA: 3.1\n",
      "Brandon Butler; GPA: 3.83\n",
      "Tammy Williams; GPA: 3.21\n",
      "Jonathan Williams; GPA: 1.96\n",
      "Amy Perry; GPA: 2.87\n",
      "Evelyn Mendez; GPA: 1.54\n",
      "Elizabeth Jackson; GPA: 2.4\n",
      "Douglas Cameron; GPA: 2.35\n",
      "Heather Wright; GPA: 2.38\n",
      "Mariah Tucker; GPA: 3.11\n",
      "Rachel Jones; GPA: 2.86\n",
      "Tommy Hull; GPA: 3.0\n",
      "Miguel Guerra; GPA: 2.04\n",
      "Sarah Hernandez; GPA: 2.02\n",
      "Ellen Cortez; GPA: 3.43\n",
      "Tracy Lee; GPA: 2.29\n",
      "Troy Griffith; GPA: 2.07\n",
      "Ana Torres; GPA: 3.14\n",
      "Howard Moore; GPA: 2.7\n",
      "Richard Nelson; GPA: 2.78\n",
      "Lisa James; GPA: 2.82\n",
      "Hannah Macias; GPA: 3.76\n",
      "Richard Rodriguez; GPA: 2.85\n",
      "Christopher Ho; GPA: 3.0\n",
      "Raymond Fisher; GPA: 3.25\n",
      "Gregory Jones; GPA: 3.38\n",
      "Ashley Davenport; GPA: 2.0\n",
      "Jamie Peters; GPA: 3.38\n",
      "Lisa Aguilar; GPA: 3.88\n",
      "David Bush; GPA: 1.94\n",
      "Samantha Barr; GPA: 3.5\n",
      "Steven Gordon; GPA: 2.02\n",
      "Matthew Jones; GPA: 2.49\n",
      "Ronald Harris; GPA: 1.55\n",
      "Brandon Crane; GPA: 3.89\n",
      "Michael Fry; GPA: 2.27\n",
      "Monica Mann; GPA: 3.36\n",
      "Richard Matthews; GPA: 1.93\n",
      "Jon Perkins; GPA: 3.5\n",
      "Jasmine Williams; GPA: 1.7\n",
      "Kristy Rowland; GPA: 3.46\n",
      "Tanya Montgomery; GPA: 1.63\n",
      "Steven Mcgee; GPA: 2.0\n",
      "Amber Aguilar; GPA: 1.81\n",
      "Jason Stuart; GPA: 2.0\n",
      "Kyle Humphrey; GPA: 3.81\n",
      "Christina Stewart; GPA: 3.74\n",
      "Thomas Roberts; GPA: 3.64\n",
      "Jason Weber; GPA: 2.39\n",
      "Karen Lee; GPA: 1.95\n",
      "Edward Lopez; GPA: 1.86\n",
      "Kayla Baldwin; GPA: 2.76\n",
      "Madison Dunn; GPA: 3.11\n",
      "Sarah Brown; GPA: 2.53\n",
      "Christina Bowman; GPA: 2.65\n",
      "Jennifer Vazquez; GPA: 1.5\n",
      "Emily Mccarthy; GPA: 2.96\n",
      "Carrie Lewis; GPA: 2.87\n",
      "Mark Jackson; GPA: 3.48\n",
      "Julie Weaver; GPA: 3.16\n",
      "Lauren Torres; GPA: 3.69\n",
      "Mary Moon; GPA: 3.62\n",
      "Michelle Church; GPA: 3.75\n",
      "Laura Haley; GPA: 2.98\n",
      "Ann Rodriguez; GPA: 2.58\n",
      "Colleen Gomez; GPA: 2.22\n",
      "Amy Hunter; GPA: 3.47\n",
      "Anthony Davis; GPA: 3.48\n",
      "Dorothy Graves; GPA: 2.12\n",
      "Phyllis Miller; GPA: 2.61\n",
      "Robert Burnett; GPA: 1.83\n",
      "Sophia Haley; GPA: 2.75\n",
      "Ashley Shaw; GPA: 2.83\n",
      "Andrew Erickson; GPA: 2.07\n",
      "Rebecca Weaver; GPA: 3.66\n",
      "Danielle Young; GPA: 1.71\n",
      "Carol Howell; GPA: 2.63\n",
      "Jasmin Stephens; GPA: 2.63\n",
      "Justin Guerrero; GPA: 3.28\n",
      "Ashley Aguilar; GPA: 1.61\n",
      "Kelly Holmes; GPA: 2.13\n",
      "Erica Fleming; GPA: 1.52\n",
      "Raymond Christian; GPA: 1.67\n",
      "Brian Franklin; GPA: 3.0\n",
      "Ashley James; GPA: 2.62\n",
      "Christine Johnson; GPA: 3.65\n",
      "Brian Holland; GPA: 2.44\n",
      "Rebecca Harrison; GPA: 3.64\n",
      "Meagan Harrell; GPA: 3.54\n",
      "Johnny Mitchell; GPA: 1.65\n",
      "Kevin Cooper; GPA: 2.35\n"
     ]
    }
   ],
   "source": [
    "for student in students:\n",
    "    print(student)"
   ]
  },
  {
   "cell_type": "code",
   "execution_count": 33,
   "id": "2750a1e9-ab3e-43f9-87bd-006added1259",
   "metadata": {},
   "outputs": [
    {
     "data": {
      "text/plain": [
       "[Brandon Crane; GPA: 3.89,\n",
       " Lisa Aguilar; GPA: 3.88,\n",
       " Brandon Butler; GPA: 3.83,\n",
       " Kyle Humphrey; GPA: 3.81,\n",
       " Hannah Macias; GPA: 3.76,\n",
       " Michelle Church; GPA: 3.75,\n",
       " Christina Stewart; GPA: 3.74,\n",
       " Lauren Torres; GPA: 3.69,\n",
       " Rebecca Weaver; GPA: 3.66,\n",
       " Christine Johnson; GPA: 3.65,\n",
       " Thomas Roberts; GPA: 3.64,\n",
       " Rebecca Harrison; GPA: 3.64,\n",
       " Mary Moon; GPA: 3.62,\n",
       " Meagan Harrell; GPA: 3.54,\n",
       " Samantha Barr; GPA: 3.5,\n",
       " Jon Perkins; GPA: 3.5,\n",
       " Mark Jackson; GPA: 3.48,\n",
       " Anthony Davis; GPA: 3.48,\n",
       " Amy Hunter; GPA: 3.47,\n",
       " Kristy Rowland; GPA: 3.46,\n",
       " Ellen Cortez; GPA: 3.43,\n",
       " Jacob Cummings; GPA: 3.41,\n",
       " Gregory Jones; GPA: 3.38,\n",
       " Jamie Peters; GPA: 3.38,\n",
       " Monica Mann; GPA: 3.36,\n",
       " Sarah Edwards; GPA: 3.31,\n",
       " Justin Guerrero; GPA: 3.28,\n",
       " Raymond Fisher; GPA: 3.25,\n",
       " Joel Conway; GPA: 3.23,\n",
       " Tammy Williams; GPA: 3.21,\n",
       " Julie Weaver; GPA: 3.16,\n",
       " Ana Torres; GPA: 3.14,\n",
       " Mariah Tucker; GPA: 3.11,\n",
       " Madison Dunn; GPA: 3.11,\n",
       " Patricia Hess; GPA: 3.1,\n",
       " Tommy Hull; GPA: 3.0,\n",
       " Christopher Ho; GPA: 3.0,\n",
       " Brian Franklin; GPA: 3.0,\n",
       " Laura Haley; GPA: 2.98,\n",
       " Emily Mccarthy; GPA: 2.96,\n",
       " Jennifer Pratt; GPA: 2.87,\n",
       " Amy Perry; GPA: 2.87,\n",
       " Carrie Lewis; GPA: 2.87,\n",
       " Rachel Jones; GPA: 2.86,\n",
       " Richard Rodriguez; GPA: 2.85,\n",
       " Ashley Shaw; GPA: 2.83,\n",
       " Lisa James; GPA: 2.82,\n",
       " Richard Nelson; GPA: 2.78,\n",
       " Kayla Baldwin; GPA: 2.76,\n",
       " Sophia Haley; GPA: 2.75,\n",
       " Howard Moore; GPA: 2.7,\n",
       " Christina Bowman; GPA: 2.65,\n",
       " Carol Howell; GPA: 2.63,\n",
       " Jasmin Stephens; GPA: 2.63,\n",
       " Samuel Anderson; GPA: 2.62,\n",
       " Walter Sosa; GPA: 2.62,\n",
       " Ashley James; GPA: 2.62,\n",
       " Abigail Thomas; GPA: 2.61,\n",
       " Phyllis Miller; GPA: 2.61,\n",
       " Ann Rodriguez; GPA: 2.58,\n",
       " Sarah Brown; GPA: 2.53,\n",
       " Matthew Jones; GPA: 2.49,\n",
       " Brian Holland; GPA: 2.44,\n",
       " Elizabeth Jackson; GPA: 2.4,\n",
       " Jason Weber; GPA: 2.39,\n",
       " Heather Wright; GPA: 2.38,\n",
       " Douglas Cameron; GPA: 2.35,\n",
       " Kevin Cooper; GPA: 2.35,\n",
       " Tracy Lee; GPA: 2.29,\n",
       " Michael Fry; GPA: 2.27,\n",
       " Colleen Gomez; GPA: 2.22,\n",
       " Andrew Burton; GPA: 2.15,\n",
       " Kelly Holmes; GPA: 2.13,\n",
       " Dorothy Graves; GPA: 2.12,\n",
       " Troy Griffith; GPA: 2.07,\n",
       " Andrew Erickson; GPA: 2.07,\n",
       " Miguel Guerra; GPA: 2.04,\n",
       " Sarah Hernandez; GPA: 2.02,\n",
       " Steven Gordon; GPA: 2.02,\n",
       " Ashley Davenport; GPA: 2.0,\n",
       " Steven Mcgee; GPA: 2.0,\n",
       " Jason Stuart; GPA: 2.0,\n",
       " Jonathan Williams; GPA: 1.96,\n",
       " Karen Lee; GPA: 1.95,\n",
       " David Bush; GPA: 1.94,\n",
       " Richard Matthews; GPA: 1.93,\n",
       " Edward Lopez; GPA: 1.86,\n",
       " Judith Harris; GPA: 1.83,\n",
       " Robert Burnett; GPA: 1.83,\n",
       " Amber Aguilar; GPA: 1.81,\n",
       " Danielle Young; GPA: 1.71,\n",
       " Jasmine Williams; GPA: 1.7,\n",
       " Raymond Christian; GPA: 1.67,\n",
       " Johnny Mitchell; GPA: 1.65,\n",
       " Tanya Montgomery; GPA: 1.63,\n",
       " Ashley Aguilar; GPA: 1.61,\n",
       " Ronald Harris; GPA: 1.55,\n",
       " Evelyn Mendez; GPA: 1.54,\n",
       " Erica Fleming; GPA: 1.52,\n",
       " Jennifer Vazquez; GPA: 1.5]"
      ]
     },
     "execution_count": 33,
     "metadata": {},
     "output_type": "execute_result"
    }
   ],
   "source": [
    "sorted(students, key=lambda x: x.get_gpa())"
   ]
  },
  {
   "cell_type": "code",
   "execution_count": 34,
   "id": "fc62f4e9-caeb-4b21-b532-a421154c98b4",
   "metadata": {},
   "outputs": [
    {
     "data": {
      "text/plain": [
       "Brandon Crane; GPA: 3.89"
      ]
     },
     "execution_count": 34,
     "metadata": {},
     "output_type": "execute_result"
    }
   ],
   "source": [
    "max(students, key=lambda x: x.get_gpa())"
   ]
  },
  {
   "cell_type": "code",
   "execution_count": 35,
   "id": "ffc9ca4e-5b9e-4a98-bb7d-31526267ca01",
   "metadata": {},
   "outputs": [
    {
     "data": {
      "text/plain": [
       "Jennifer Vazquez; GPA: 1.5"
      ]
     },
     "execution_count": 35,
     "metadata": {},
     "output_type": "execute_result"
    }
   ],
   "source": [
    "min(students, key=lambda x: x.get_gpa())"
   ]
  },
  {
   "cell_type": "code",
   "execution_count": 38,
   "id": "b3a4cbd6-a692-47e5-8b7b-461dbeee6838",
   "metadata": {},
   "outputs": [
    {
     "data": {
      "text/plain": [
       "2.7124"
      ]
     },
     "execution_count": 38,
     "metadata": {},
     "output_type": "execute_result"
    }
   ],
   "source": [
    "sum([student.get_gpa() for student in students])/len(students)"
   ]
  },
  {
   "cell_type": "code",
   "execution_count": 39,
   "id": "22b84831-a8a6-4bbf-bde6-59bdcf287c3f",
   "metadata": {},
   "outputs": [
    {
     "data": {
      "text/plain": [
       "2.7124"
      ]
     },
     "execution_count": 39,
     "metadata": {},
     "output_type": "execute_result"
    }
   ],
   "source": [
    "sum(map(lambda x: x.get_gpa(), students))/len(students)"
   ]
  },
  {
   "cell_type": "code",
   "execution_count": 41,
   "id": "0910f2e2-9c94-471e-a5d3-adae6f252181",
   "metadata": {},
   "outputs": [],
   "source": [
    "from abc import ABC, abstractmethod\n",
    "\n",
    "\n",
    "class Employee(ABC):\n",
    "\n",
    "    def __init__(self, first_name, last_name, ssn):\n",
    "        self.first_name = first_name\n",
    "        self.last_name = last_name\n",
    "        self.ssn = ssn\n",
    "\n",
    "    @abstractmethod\n",
    "    def earnings(self):\n",
    "        pass\n",
    "\n",
    "    def __repr__(self):\n",
    "        return f'{self.first_name} {self.last_name}\\nsocial security: {self.ssn}'\n",
    "\n"
   ]
  },
  {
   "cell_type": "code",
   "execution_count": 43,
   "id": "453fe392-3be9-4ce4-97f6-0756d6dd5d7c",
   "metadata": {},
   "outputs": [],
   "source": [
    "class SalariedEmployee(Employee):\n",
    "    def __init__(self, first_name, last_name, ssn, salary):\n",
    "        super().__init__(first_name, last_name, ssn)\n",
    "        self.weekly_salary = salary\n",
    "\n",
    "    def earnings(self):\n",
    "        return self.weekly_salary\n",
    "\n",
    "    def __repr__(self):\n",
    "        return f'salaried employee: {super().__repr__()}\\nweekly salary: ${self.weekly_salary}'\n"
   ]
  },
  {
   "cell_type": "code",
   "execution_count": 44,
   "id": "0181f167-30f7-4a27-9209-25caac40e844",
   "metadata": {},
   "outputs": [],
   "source": [
    "class CommissionEmployee(Employee):\n",
    "    def __init__(self, first_name, last_name, ssn, sales, rate):\n",
    "        super().__init__(first_name, last_name, ssn)\n",
    "        self.sales = sales\n",
    "        self.rate = rate\n",
    "\n",
    "    def earnings(self):\n",
    "        earned = self.sales * self.rate\n",
    "        return earned\n",
    "\n",
    "    def __repr__(self):\n",
    "        return f'commission employee: {super().__repr__()}\\ngross sales: ${self.sales}; commission rate: {self.rate}'\n"
   ]
  },
  {
   "cell_type": "code",
   "execution_count": 47,
   "id": "0e7d8a4d-4558-411c-af83-9b3db0f74118",
   "metadata": {},
   "outputs": [],
   "source": [
    "class HourlyEmployee(Employee):\n",
    "    def __init__(self, first_name, last_name, ssn, hourly_wage, hours_worked):\n",
    "        super().__init__(first_name, last_name, ssn)\n",
    "        self.hourly_wage = hourly_wage\n",
    "        self.hours_worked = hours_worked\n",
    "\n",
    "    def earnings(self):\n",
    "        if self.hours_worked < 40:  # no overtime\n",
    "            earned = self.hourly_wage * self.hours_worked\n",
    "        else:\n",
    "            earned = 40 * self.hourly_wage + \\\n",
    "                (self.hours_worked - 40) * self.hourly_wage * 1.5\n",
    "\n",
    "        return earned\n",
    "\n",
    "    def __repr__(self):\n",
    "        return f'hourly employee: {super().__repr__()}\\nhourly wage: ${self.hourly_wage}; hours worked: {self.hours_worked}'\n"
   ]
  },
  {
   "cell_type": "code",
   "execution_count": 55,
   "id": "be6429d3-f925-4d54-b853-86b3731b018a",
   "metadata": {},
   "outputs": [],
   "source": [
    "class BasePlusCommissionEmployee(CommissionEmployee):\n",
    "    def __init__(self, first_name, last_name, ssn, sales, rate, salary):\n",
    "        super().__init__(first_name, last_name, ssn, sales, rate)\n",
    "        self.salary = salary\n",
    "\n",
    "    def earnings(self):\n",
    "        earned = self.salary + super().earnings()\n",
    "        return earned\n",
    "\n",
    "    def __repr__(self):\n",
    "        return f'base-salaried {super().__repr__()}; base-salary: ${self.salary}'"
   ]
  },
  {
   "cell_type": "code",
   "execution_count": 57,
   "id": "c6db9553-a3d3-4f6f-96b6-7d6a70b07ee4",
   "metadata": {},
   "outputs": [
    {
     "name": "stdout",
     "output_type": "stream",
     "text": [
      "Employees processed individually:\n",
      "\n",
      "salaried employee: John Smith\n",
      "social security: 111-11-1111\n",
      "weekly salary: $800\n",
      "earned: $800\n",
      "\n",
      "hourly employee: Karen Price\n",
      "social security: 222-22-2222\n",
      "hourly wage: $16.75; hours worked: 40\n",
      "earned: $670.0\n",
      "\n",
      "commission employee: Sue Jones\n",
      "social security: 333-33-3333\n",
      "gross sales: $10000; commission rate: 0.06\n",
      "earned: $600.0\n",
      "\n",
      "base-salaried commission employee: Bob Lewis\n",
      "social security: 444-44-4444\n",
      "gross sales: $5000; commission rate: 0.04; base-salary: $300\n",
      "earned: $500.0\n"
     ]
    }
   ],
   "source": [
    "print('Employees processed individually:\\n')\n",
    "salaried_employee = SalariedEmployee('John', 'Smith', '111-11-1111', 800)\n",
    "print(salaried_employee)\n",
    "print(f'earned: ${salaried_employee.earnings()}')\n",
    "\n",
    "print()\n",
    "hourly_employee = HourlyEmployee('Karen', 'Price', '222-22-2222', 16.75, 40)\n",
    "print(hourly_employee)\n",
    "print(f'earned: ${hourly_employee.earnings()}')\n",
    "\n",
    "print()\n",
    "commission_employee = CommissionEmployee('Sue', 'Jones', '333-33-3333', 10000, 0.06)\n",
    "print(commission_employee)\n",
    "print(f'earned: ${commission_employee.earnings()}')\n",
    "\n",
    "\n",
    "print()\n",
    "base_plus_commission_employee = BasePlusCommissionEmployee('Bob', 'Lewis', '444-44-4444', 5000, 0.04, 300)\n",
    "print(base_plus_commission_employee)\n",
    "print(f'earned: ${base_plus_commission_employee.earnings()}')"
   ]
  },
  {
   "cell_type": "code",
   "execution_count": 59,
   "id": "0e1433df-983a-44b1-9512-b0a5ddb93a2a",
   "metadata": {},
   "outputs": [
    {
     "name": "stdout",
     "output_type": "stream",
     "text": [
      "\n",
      "salaried employee: John Smith\n",
      "social security: 111-11-1111\n",
      "weekly salary: $800\n",
      "earned: $800\n",
      "\n",
      "hourly employee: Karen Price\n",
      "social security: 222-22-2222\n",
      "hourly wage: $16.75; hours worked: 40\n",
      "earned: $670.0\n",
      "\n",
      "commission employee: Sue Jones\n",
      "social security: 333-33-3333\n",
      "gross sales: $10000; commission rate: 0.06\n",
      "earned: $600.0\n",
      "\n",
      "base-salaried commission employee: Bob Lewis\n",
      "social security: 444-44-4444\n",
      "gross sales: $5000; commission rate: 0.04; base-salary: $300\n",
      "new base salary with 10% increase is 330.0\n",
      "earned: $530.0\n"
     ]
    }
   ],
   "source": [
    "employees = [salaried_employee, hourly_employee,\n",
    "             commission_employee, base_plus_commission_employee]\n",
    "\n",
    "for employee in employees:\n",
    "    print()\n",
    "    print(employee)\n",
    "    if employee.__class__.__name__ == 'BasePlusCommissionEmployee':\n",
    "        employee.salary = 1.10 * employee.salary\n",
    "        print(f'new base salary with 10% increase is {employee.salary}')\n",
    "    print(f'earned: ${employee.earnings()}')\n"
   ]
  },
  {
   "cell_type": "code",
   "execution_count": 62,
   "id": "c8c41264-2dd9-49fe-82ff-b39f1b907e4c",
   "metadata": {},
   "outputs": [
    {
     "name": "stdout",
     "output_type": "stream",
     "text": [
      "Circle with radius 10\n",
      "Circle with radius 5\n",
      "78.54\n"
     ]
    }
   ],
   "source": [
    "import math\n",
    "class Circle:\n",
    "\n",
    "    def __init__(self, radius):\n",
    "        self.radius = radius\n",
    "\n",
    "    def get_area(self):\n",
    "        return round(math.pi * self.radius**2,2)\n",
    "\n",
    "\n",
    "    def __repr__(self):\n",
    "        return f\"Circle({self.radius})\"\n",
    "    def __str__(self):\n",
    "        return \"Circle with radius \" + str(self.radius)\n",
    "\n",
    "c1 = Circle(10)\n",
    "c2 = Circle(5)\n",
    "\n",
    "print(c1)\n",
    "print(c2)\n",
    "print(c2.get_area())"
   ]
  },
  {
   "cell_type": "code",
   "execution_count": 63,
   "id": "a3bca1de-54cd-4544-b56a-2077f0f8ae31",
   "metadata": {},
   "outputs": [
    {
     "ename": "TypeError",
     "evalue": "unsupported operand type(s) for +: 'Circle' and 'Circle'",
     "output_type": "error",
     "traceback": [
      "\u001b[0;31m---------------------------------------------------------------------------\u001b[0m",
      "\u001b[0;31mTypeError\u001b[0m                                 Traceback (most recent call last)",
      "Cell \u001b[0;32mIn[63], line 1\u001b[0m\n\u001b[0;32m----> 1\u001b[0m \u001b[43mc1\u001b[49m\u001b[43m \u001b[49m\u001b[38;5;241;43m+\u001b[39;49m\u001b[43m \u001b[49m\u001b[43mc2\u001b[49m\n",
      "\u001b[0;31mTypeError\u001b[0m: unsupported operand type(s) for +: 'Circle' and 'Circle'"
     ]
    }
   ],
   "source": [
    "c1 + c2"
   ]
  },
  {
   "cell_type": "code",
   "execution_count": 76,
   "id": "3f5a16e7-3d3b-429b-a9ae-7435d85edfa5",
   "metadata": {},
   "outputs": [],
   "source": [
    "class Circle:\n",
    "\n",
    "    def __init__(self, radius):\n",
    "        self.radius = radius\n",
    "\n",
    "    def get_area(self):\n",
    "        return round(math.pi * self.radius**2,2)\n",
    "\n",
    "    def __add__(self, right): # other\n",
    "        # c1 + c2 ==> c2 = right\n",
    "        return Circle(self.radius + right.radius)\n",
    "\n",
    "    def __sub__(self, right):\n",
    "        return Circle(self.radius - right.radius)\n",
    "\n",
    "    def __repr__(self):\n",
    "        return f\"Circle({self.radius})\"\n",
    "    def __str__(self):\n",
    "        return \"Circle with radius \" + str(self.radius)"
   ]
  },
  {
   "cell_type": "code",
   "execution_count": 77,
   "id": "4fc30f70-44ed-439f-bf84-93ba9ed91b71",
   "metadata": {},
   "outputs": [
    {
     "name": "stdout",
     "output_type": "stream",
     "text": [
      "15\n",
      "706.86\n"
     ]
    }
   ],
   "source": [
    "c1 = Circle(10)\n",
    "c2 = Circle(5)\n",
    "c3 = c1 + c2\n",
    "print(c3.radius)\n",
    "print(c3.get_area())\n"
   ]
  },
  {
   "cell_type": "code",
   "execution_count": 78,
   "id": "0f48e70f-a2b8-420f-8527-d01030989a8c",
   "metadata": {},
   "outputs": [
    {
     "name": "stdout",
     "output_type": "stream",
     "text": [
      "Circle with radius 10\n",
      "Circle with radius 5\n",
      "Circle with radius 15\n",
      "Circle with radius 5\n"
     ]
    }
   ],
   "source": [
    "print(c1, c2, c1+c2, c1-c2, sep='\\n')"
   ]
  },
  {
   "cell_type": "code",
   "execution_count": 79,
   "id": "68126960-3b34-4c93-aac3-27fb0434a091",
   "metadata": {},
   "outputs": [
    {
     "name": "stdout",
     "output_type": "stream",
     "text": [
      "False\n"
     ]
    }
   ],
   "source": [
    "class Circle:\n",
    "\n",
    "    def __init__(self, radius):\n",
    "        self.radius = radius\n",
    "\n",
    "    def get_area(self):\n",
    "        return math.pi * self.radius**2\n",
    "\n",
    "    def __str__(self):\n",
    "        return \"Circle with radius \" + str(self.radius)\n",
    "\n",
    "    def __add__(self, another_circle):\n",
    "        return Circle(self.radius + another_circle.radius)\n",
    "\n",
    "    def __gt__(self, another_circle):\n",
    "        return self.radius > another_circle.radius\n",
    "\n",
    "    def __lt__(self, another_circle):\n",
    "        return self.radius < another_circle.radius\n",
    "\n",
    "\n",
    "\n",
    "c1 = Circle(10)\n",
    "c2 = Circle(5)\n",
    "print(c1 < c2)"
   ]
  },
  {
   "cell_type": "code",
   "execution_count": 80,
   "id": "188831ed-dce0-4802-b4d6-b86f5ce8019b",
   "metadata": {},
   "outputs": [
    {
     "name": "stdout",
     "output_type": "stream",
     "text": [
      "True\n"
     ]
    }
   ],
   "source": [
    "print(c1 > c2)"
   ]
  },
  {
   "cell_type": "code",
   "execution_count": 82,
   "id": "d23de81d-0659-494f-87dc-91c96d73edda",
   "metadata": {},
   "outputs": [
    {
     "ename": "TypeError",
     "evalue": "'<=' not supported between instances of 'Circle' and 'Circle'",
     "output_type": "error",
     "traceback": [
      "\u001b[0;31m---------------------------------------------------------------------------\u001b[0m",
      "\u001b[0;31mTypeError\u001b[0m                                 Traceback (most recent call last)",
      "Cell \u001b[0;32mIn[82], line 1\u001b[0m\n\u001b[0;32m----> 1\u001b[0m \u001b[38;5;28mprint\u001b[39m(\u001b[43mc1\u001b[49m\u001b[43m \u001b[49m\u001b[38;5;241;43m<\u001b[39;49m\u001b[38;5;241;43m=\u001b[39;49m\u001b[43m \u001b[49m\u001b[43mc2\u001b[49m)\n",
      "\u001b[0;31mTypeError\u001b[0m: '<=' not supported between instances of 'Circle' and 'Circle'"
     ]
    }
   ],
   "source": [
    "print(c1 <= c2)"
   ]
  },
  {
   "cell_type": "code",
   "execution_count": 83,
   "id": "83d8c113-d264-481a-847f-edaffa84ed41",
   "metadata": {},
   "outputs": [
    {
     "name": "stdout",
     "output_type": "stream",
     "text": [
      "5.385164807134504\n"
     ]
    }
   ],
   "source": [
    "import math\n",
    "class Point:\n",
    "    def __init__(self, x=0, y=0):\n",
    "        self.x = x\n",
    "        self.y = y\n",
    "\n",
    "    def __add__(self, another_point):\n",
    "        return Point(self.x + another_point.x, self.y + another_point.y)\n",
    "\n",
    "    def __sub__(self, another_point):\n",
    "        return Point(self.x - another_point.x, self.y - another_point.y)\n",
    "\n",
    "    def length(self):\n",
    "        return math.sqrt(self.x**2 + self.y**2)\n",
    "\n",
    "    def distance(self, another_point):\n",
    "        return (self - another_point).length()\n",
    "\n",
    "    def __str__(self):\n",
    "        return f'{self.x}, {self.y}'\n",
    "\n",
    "p1 = Point(3, 4)\n",
    "p2 = Point(8, 6)\n",
    "print(p1.distance(p2))"
   ]
  },
  {
   "cell_type": "code",
   "execution_count": 84,
   "id": "6e74542f-4847-41af-9e77-d8586b6c7df9",
   "metadata": {},
   "outputs": [
    {
     "name": "stdout",
     "output_type": "stream",
     "text": [
      "5.385164807134504\n"
     ]
    }
   ],
   "source": [
    "print(p2.distance(p1))"
   ]
  },
  {
   "cell_type": "code",
   "execution_count": 87,
   "id": "63685e27-3d06-405e-aca7-fbb179d53fc8",
   "metadata": {},
   "outputs": [],
   "source": [
    "x = [1, 2, 3]\n",
    "\n"
   ]
  },
  {
   "cell_type": "code",
   "execution_count": 88,
   "id": "489340d5-7530-453e-a571-639ccd0f7917",
   "metadata": {},
   "outputs": [
    {
     "name": "stdout",
     "output_type": "stream",
     "text": [
      "1\n",
      "2\n",
      "3\n"
     ]
    }
   ],
   "source": [
    "for ele in x:\n",
    "    print(ele)"
   ]
  },
  {
   "cell_type": "code",
   "execution_count": 89,
   "id": "bf73bc80-74f2-4a9d-92c7-b2fb1ac3bde0",
   "metadata": {},
   "outputs": [
    {
     "data": {
      "text/plain": [
       "range(0, 5)"
      ]
     },
     "execution_count": 89,
     "metadata": {},
     "output_type": "execute_result"
    }
   ],
   "source": [
    "range(5)"
   ]
  },
  {
   "cell_type": "code",
   "execution_count": 107,
   "id": "e0aab353-abab-43c0-8d46-553b82c75f3b",
   "metadata": {},
   "outputs": [],
   "source": [
    "class MyRange:\n",
    "\n",
    "    def __init__(self, limit):\n",
    "        self.limit = limit\n",
    "        self.value = 0\n",
    "\n",
    "    def __iter__(self):\n",
    "        self.value = 0\n",
    "        return self\n",
    "\n",
    "    def __next__(self):\n",
    "        if self.value < self.limit:\n",
    "            output = self.value\n",
    "            self.value += 1\n",
    "            return output\n",
    "            # return self.value\n",
    "        else:\n",
    "            raise StopIteration\n",
    "\n",
    "\n"
   ]
  },
  {
   "cell_type": "code",
   "execution_count": 91,
   "id": "ce8742b2-9417-42df-918f-55fc607bce31",
   "metadata": {},
   "outputs": [
    {
     "data": {
      "text/plain": [
       "0"
      ]
     },
     "execution_count": 91,
     "metadata": {},
     "output_type": "execute_result"
    }
   ],
   "source": [
    "mr10 = MyRange(10)\n",
    "i = iter(mr10)\n",
    "next(i)\n"
   ]
  },
  {
   "cell_type": "code",
   "execution_count": 92,
   "id": "2f607360-f6e6-4c24-89ef-4e1f9dc990a9",
   "metadata": {},
   "outputs": [
    {
     "data": {
      "text/plain": [
       "1"
      ]
     },
     "execution_count": 92,
     "metadata": {},
     "output_type": "execute_result"
    }
   ],
   "source": [
    "next(i)"
   ]
  },
  {
   "cell_type": "code",
   "execution_count": 93,
   "id": "d54dd819-687a-4b4e-9919-e18b68ba98b3",
   "metadata": {},
   "outputs": [
    {
     "data": {
      "text/plain": [
       "2"
      ]
     },
     "execution_count": 93,
     "metadata": {},
     "output_type": "execute_result"
    }
   ],
   "source": [
    "next(i)"
   ]
  },
  {
   "cell_type": "code",
   "execution_count": 94,
   "id": "f35e3788-143b-4f26-b006-11710f7227f4",
   "metadata": {},
   "outputs": [
    {
     "data": {
      "text/plain": [
       "3"
      ]
     },
     "execution_count": 94,
     "metadata": {},
     "output_type": "execute_result"
    }
   ],
   "source": [
    "next(i)"
   ]
  },
  {
   "cell_type": "code",
   "execution_count": 95,
   "id": "7d00c169-774d-4384-af40-dfae6c40b415",
   "metadata": {},
   "outputs": [
    {
     "data": {
      "text/plain": [
       "4"
      ]
     },
     "execution_count": 95,
     "metadata": {},
     "output_type": "execute_result"
    }
   ],
   "source": [
    "next(i)"
   ]
  },
  {
   "cell_type": "code",
   "execution_count": 96,
   "id": "fd9956eb-a680-402b-83d9-36c1e294c05e",
   "metadata": {},
   "outputs": [
    {
     "data": {
      "text/plain": [
       "5"
      ]
     },
     "execution_count": 96,
     "metadata": {},
     "output_type": "execute_result"
    }
   ],
   "source": [
    "next(i)"
   ]
  },
  {
   "cell_type": "code",
   "execution_count": 97,
   "id": "77503a90-048f-48f5-b848-3e1786f02259",
   "metadata": {},
   "outputs": [
    {
     "data": {
      "text/plain": [
       "6"
      ]
     },
     "execution_count": 97,
     "metadata": {},
     "output_type": "execute_result"
    }
   ],
   "source": [
    "next(i)"
   ]
  },
  {
   "cell_type": "code",
   "execution_count": 98,
   "id": "07a3698a-ce72-49bf-b4c8-4319bb2622b3",
   "metadata": {},
   "outputs": [
    {
     "data": {
      "text/plain": [
       "7"
      ]
     },
     "execution_count": 98,
     "metadata": {},
     "output_type": "execute_result"
    }
   ],
   "source": [
    "next(i)"
   ]
  },
  {
   "cell_type": "code",
   "execution_count": 99,
   "id": "d0a1d5d1-6d6c-4bb5-aa9e-06bb495b7155",
   "metadata": {},
   "outputs": [
    {
     "data": {
      "text/plain": [
       "8"
      ]
     },
     "execution_count": 99,
     "metadata": {},
     "output_type": "execute_result"
    }
   ],
   "source": [
    "next(i)"
   ]
  },
  {
   "cell_type": "code",
   "execution_count": 100,
   "id": "ddcf8f3f-f20a-43a0-82b8-c2503a213ba0",
   "metadata": {},
   "outputs": [
    {
     "data": {
      "text/plain": [
       "9"
      ]
     },
     "execution_count": 100,
     "metadata": {},
     "output_type": "execute_result"
    }
   ],
   "source": [
    "next(i)"
   ]
  },
  {
   "cell_type": "code",
   "execution_count": 101,
   "id": "f67c6724-2810-4123-a745-04e4341d898b",
   "metadata": {},
   "outputs": [
    {
     "ename": "StopIteration",
     "evalue": "",
     "output_type": "error",
     "traceback": [
      "\u001b[0;31m---------------------------------------------------------------------------\u001b[0m",
      "\u001b[0;31mStopIteration\u001b[0m                             Traceback (most recent call last)",
      "Cell \u001b[0;32mIn[101], line 1\u001b[0m\n\u001b[0;32m----> 1\u001b[0m \u001b[38;5;28;43mnext\u001b[39;49m\u001b[43m(\u001b[49m\u001b[43mi\u001b[49m\u001b[43m)\u001b[49m\n",
      "Cell \u001b[0;32mIn[90], line 16\u001b[0m, in \u001b[0;36mMyRange.__next__\u001b[0;34m(self)\u001b[0m\n\u001b[1;32m     14\u001b[0m     \u001b[38;5;28;01mreturn\u001b[39;00m output\n\u001b[1;32m     15\u001b[0m \u001b[38;5;28;01melse\u001b[39;00m:\n\u001b[0;32m---> 16\u001b[0m     \u001b[38;5;28;01mraise\u001b[39;00m \u001b[38;5;167;01mStopIteration\u001b[39;00m\n",
      "\u001b[0;31mStopIteration\u001b[0m: "
     ]
    }
   ],
   "source": [
    "next(i)"
   ]
  },
  {
   "cell_type": "code",
   "execution_count": 105,
   "id": "85f88b8a-b48e-4cdf-b674-392c91b4449a",
   "metadata": {},
   "outputs": [
    {
     "name": "stdout",
     "output_type": "stream",
     "text": [
      "0\n",
      "1\n",
      "2\n",
      "3\n",
      "4\n",
      "5\n",
      "6\n",
      "7\n",
      "8\n",
      "9\n"
     ]
    }
   ],
   "source": [
    "for ele in mr10:\n",
    "    print(ele)"
   ]
  },
  {
   "cell_type": "code",
   "execution_count": 106,
   "id": "e02cdd31-fd94-4f76-ab9e-dda14463a7d7",
   "metadata": {},
   "outputs": [
    {
     "name": "stdout",
     "output_type": "stream",
     "text": [
      "0\n",
      "1\n",
      "2\n",
      "3\n",
      "4\n",
      "5\n",
      "6\n",
      "7\n",
      "8\n",
      "9\n"
     ]
    }
   ],
   "source": [
    "for ele in mr10:\n",
    "    print(ele)"
   ]
  },
  {
   "cell_type": "code",
   "execution_count": 108,
   "id": "3b8b80cf-b205-4c95-baf3-d831341c3479",
   "metadata": {},
   "outputs": [],
   "source": [
    "mr5 = MyRange(5)"
   ]
  },
  {
   "cell_type": "code",
   "execution_count": 109,
   "id": "c7566238-16a6-45a2-be1b-0208cc2025c8",
   "metadata": {},
   "outputs": [
    {
     "name": "stdout",
     "output_type": "stream",
     "text": [
      "0\n",
      "1\n",
      "2\n",
      "3\n",
      "4\n"
     ]
    }
   ],
   "source": [
    "for ele in mr5:\n",
    "    print(ele)"
   ]
  },
  {
   "cell_type": "code",
   "execution_count": 110,
   "id": "c4ab43d9-c020-4f01-b9bc-60b816da1a64",
   "metadata": {},
   "outputs": [],
   "source": [
    "for ele in mr5:\n",
    "    print(ele)\n",
    "# step 1 - call iter"
   ]
  },
  {
   "cell_type": "code",
   "execution_count": 111,
   "id": "f65f4d1f-824a-47f4-ac11-2065f1a330d2",
   "metadata": {},
   "outputs": [
    {
     "ename": "StopIteration",
     "evalue": "",
     "output_type": "error",
     "traceback": [
      "\u001b[0;31m---------------------------------------------------------------------------\u001b[0m",
      "\u001b[0;31mStopIteration\u001b[0m                             Traceback (most recent call last)",
      "Cell \u001b[0;32mIn[111], line 1\u001b[0m\n\u001b[0;32m----> 1\u001b[0m \u001b[38;5;28;43mnext\u001b[39;49m\u001b[43m(\u001b[49m\u001b[43mmr5\u001b[49m\u001b[43m)\u001b[49m\n",
      "Cell \u001b[0;32mIn[107], line 17\u001b[0m, in \u001b[0;36mMyRange.__next__\u001b[0;34m(self)\u001b[0m\n\u001b[1;32m     15\u001b[0m     \u001b[38;5;28;01mreturn\u001b[39;00m output\n\u001b[1;32m     16\u001b[0m \u001b[38;5;28;01melse\u001b[39;00m:\n\u001b[0;32m---> 17\u001b[0m     \u001b[38;5;28;01mraise\u001b[39;00m \u001b[38;5;167;01mStopIteration\u001b[39;00m\n",
      "\u001b[0;31mStopIteration\u001b[0m: "
     ]
    }
   ],
   "source": [
    "next(mr5)"
   ]
  },
  {
   "cell_type": "code",
   "execution_count": 112,
   "id": "0e497e0b-dc6c-4f0a-b7b7-ab3f07996136",
   "metadata": {},
   "outputs": [
    {
     "data": {
      "text/plain": [
       "5"
      ]
     },
     "execution_count": 112,
     "metadata": {},
     "output_type": "execute_result"
    }
   ],
   "source": [
    "mr5.value"
   ]
  },
  {
   "cell_type": "code",
   "execution_count": null,
   "id": "29f24b0e-884c-488a-b152-698320dccf23",
   "metadata": {},
   "outputs": [],
   "source": [
    "for ele in MyClass:"
   ]
  },
  {
   "cell_type": "code",
   "execution_count": 119,
   "id": "5f592448-f031-45c9-89d2-fb0c880ed0b2",
   "metadata": {},
   "outputs": [],
   "source": [
    "class PowX:\n",
    "\n",
    "    def __init__(self, start, limit, power):\n",
    "        self.start = start\n",
    "        self.limit = limit\n",
    "        self.power = power\n",
    "\n",
    "    def __iter__(self):\n",
    "        self.value = self.start\n",
    "        return self\n",
    "\n",
    "    def __next__(self):\n",
    "        if self.value < self.limit:\n",
    "            output = self.value ** self.power\n",
    "            self.value += 1\n",
    "            return output\n",
    "        else:\n",
    "            raise StopIteration\n",
    "\n",
    "\n",
    "p2 = PowX(20, 25, 2)"
   ]
  },
  {
   "cell_type": "code",
   "execution_count": 120,
   "id": "7a6a06db-01bd-4f33-8a01-150bee48387f",
   "metadata": {},
   "outputs": [
    {
     "name": "stdout",
     "output_type": "stream",
     "text": [
      "400\n",
      "441\n",
      "484\n",
      "529\n",
      "576\n"
     ]
    }
   ],
   "source": [
    "for val in p2:\n",
    "    print(val)"
   ]
  },
  {
   "cell_type": "code",
   "execution_count": 124,
   "id": "7c44ec0f-a77d-4f11-a96d-a0c3af098760",
   "metadata": {},
   "outputs": [],
   "source": [
    "def PowX(limit, power):\n",
    "    value = 0\n",
    "    while value < limit:\n",
    "        yield value**power\n",
    "        value += 1\n",
    "\n",
    "p2 = PowX(5, 2)"
   ]
  },
  {
   "cell_type": "code",
   "execution_count": 125,
   "id": "0a111df4-34f9-404a-9dc2-fc791f3d188a",
   "metadata": {},
   "outputs": [
    {
     "name": "stdout",
     "output_type": "stream",
     "text": [
      "0\n",
      "1\n",
      "4\n",
      "9\n",
      "16\n"
     ]
    }
   ],
   "source": [
    "for ele in p2:\n",
    "    print(ele)"
   ]
  },
  {
   "cell_type": "code",
   "execution_count": 126,
   "id": "0b3d3b6d-b469-4dee-8bc3-a48681c1adc8",
   "metadata": {},
   "outputs": [],
   "source": [
    "for ele in p2:\n",
    "    print(ele)"
   ]
  },
  {
   "cell_type": "code",
   "execution_count": 123,
   "id": "aaa37e4b-452e-4a52-9b20-bf2d6ffab63e",
   "metadata": {},
   "outputs": [
    {
     "data": {
      "text/plain": [
       "[0, 1, 4, 9, 16]"
      ]
     },
     "execution_count": 123,
     "metadata": {},
     "output_type": "execute_result"
    }
   ],
   "source": [
    "def PowX(limit, power):\n",
    "    value = 0\n",
    "    values = []\n",
    "    while value < limit:\n",
    "        values.append( value**power)\n",
    "        value += 1\n",
    "\n",
    "    return values\n",
    "\n",
    "PowX(5, 2)"
   ]
  },
  {
   "cell_type": "code",
   "execution_count": 133,
   "id": "0a83eec5-775e-452e-aabd-1564267c43cc",
   "metadata": {},
   "outputs": [],
   "source": [
    "def collatz(n):  \n",
    "    count = 0\n",
    "    while n != 1:\n",
    "        if n % 2 == 0:\n",
    "            n = n / 2\n",
    "        else:\n",
    "            n = 3 * n + 1\n",
    "        count += 1\n",
    "    return count"
   ]
  },
  {
   "cell_type": "code",
   "execution_count": 134,
   "id": "ba8391b6-2c68-48cb-9ec4-42f9c5613c19",
   "metadata": {},
   "outputs": [
    {
     "data": {
      "text/plain": [
       "9"
      ]
     },
     "execution_count": 134,
     "metadata": {},
     "output_type": "execute_result"
    }
   ],
   "source": [
    "collatz(12)"
   ]
  },
  {
   "cell_type": "code",
   "execution_count": null,
   "id": "6566932b-fd0f-4015-b909-0da69ee8efde",
   "metadata": {},
   "outputs": [],
   "source": []
  }
 ],
 "metadata": {
  "kernelspec": {
   "display_name": "Python 3 (ipykernel)",
   "language": "python",
   "name": "python3"
  },
  "language_info": {
   "codemirror_mode": {
    "name": "ipython",
    "version": 3
   },
   "file_extension": ".py",
   "mimetype": "text/x-python",
   "name": "python",
   "nbconvert_exporter": "python",
   "pygments_lexer": "ipython3",
   "version": "3.12.4"
  }
 },
 "nbformat": 4,
 "nbformat_minor": 5
}
