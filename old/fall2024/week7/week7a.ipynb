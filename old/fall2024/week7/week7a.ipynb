{
 "cells": [
  {
   "cell_type": "code",
   "execution_count": 4,
   "id": "55856b74-32bb-441d-8cee-28e1d730853a",
   "metadata": {},
   "outputs": [
    {
     "name": "stdout",
     "output_type": "stream",
     "text": [
      "The average score is 88.4.\n"
     ]
    }
   ],
   "source": [
    "# function \n",
    "def average(numbers): \n",
    "  return sum(numbers) / len(numbers)\n",
    "\n",
    "# data\n",
    "scores = [80, 90, 95, 92, 85]\n",
    "\n",
    "# User has to know which data to pass into function\n",
    "# to get desired output\n",
    "print(f'The average score is {average(scores)}.')\n"
   ]
  },
  {
   "cell_type": "code",
   "execution_count": 1,
   "id": "a6bbb6f2-63d5-4536-b56b-f2b7c262697b",
   "metadata": {},
   "outputs": [
    {
     "data": {
      "text/plain": [
       "'LOWER'"
      ]
     },
     "execution_count": 1,
     "metadata": {},
     "output_type": "execute_result"
    }
   ],
   "source": [
    "x = 'lower'\n",
    "x.upper()"
   ]
  },
  {
   "cell_type": "code",
   "execution_count": 9,
   "id": "4504d428-573f-4c6f-bda2-7048a6c22c8a",
   "metadata": {},
   "outputs": [
    {
     "name": "stdout",
     "output_type": "stream",
     "text": [
      "The final score is 88.4.\n"
     ]
    }
   ],
   "source": [
    "class ScoreList():\n",
    "  def __init__(self, scores):\n",
    "    self.scores = scores\n",
    "\n",
    "  def average(self):\n",
    "    return sum(self.scores) / len(self.scores)\n",
    "\n",
    "scores = ScoreList([80, 90, 95, 92, 85]) \n",
    "print(f'The final score is {scores.average()}.')   "
   ]
  },
  {
   "cell_type": "code",
   "execution_count": null,
   "id": "cd498bd4-6663-485a-b8e0-ee8d0d8820e6",
   "metadata": {},
   "outputs": [],
   "source": []
  },
  {
   "cell_type": "code",
   "execution_count": 7,
   "id": "0f29bec3-255b-44c5-881c-b4fd217f9f1a",
   "metadata": {},
   "outputs": [
    {
     "name": "stdout",
     "output_type": "stream",
     "text": [
      "The final score is 74.25.\n"
     ]
    }
   ],
   "source": [
    "scores2 = ScoreList([80, 90, 95, 92, 85, 88, 32, 32]) \n",
    "print(f'The final score is {scores2.average()}.')  "
   ]
  },
  {
   "cell_type": "code",
   "execution_count": null,
   "id": "cceb6cea-5668-45a0-827b-c203d249b66c",
   "metadata": {},
   "outputs": [],
   "source": [
    "x.lower()"
   ]
  },
  {
   "cell_type": "code",
   "execution_count": 11,
   "id": "923efcbc-76a7-4ee7-bf15-7ecf91d46096",
   "metadata": {},
   "outputs": [],
   "source": [
    "x = 1"
   ]
  },
  {
   "cell_type": "code",
   "execution_count": null,
   "id": "39bb016c-a220-46eb-a399-7df026d60470",
   "metadata": {},
   "outputs": [],
   "source": [
    "y = [1, 2, 3, 4]"
   ]
  },
  {
   "cell_type": "code",
   "execution_count": 15,
   "id": "49fc7bea-cd0f-45d7-bdac-bba8e29d88e5",
   "metadata": {},
   "outputs": [],
   "source": [
    "class Point:\n",
    "    def __init__(self, x, y):\n",
    "        self.x = x\n",
    "        self.y = y\n",
    "\n",
    "p1 = Point(0, 0)"
   ]
  },
  {
   "cell_type": "code",
   "execution_count": 16,
   "id": "6eeb1adb-afc5-4c03-a70c-6586a7e345e0",
   "metadata": {},
   "outputs": [],
   "source": [
    "p2 = Point(10,10)"
   ]
  },
  {
   "cell_type": "code",
   "execution_count": null,
   "id": "101069d1-4eb1-4222-ab8d-19153aa79c97",
   "metadata": {},
   "outputs": [],
   "source": [
    "class Point:\n",
    "    def __init__(self, x, y):\n",
    "        self.x = x\n",
    "        self.y = y"
   ]
  },
  {
   "cell_type": "code",
   "execution_count": 17,
   "id": "42322381-b410-4051-8965-246dc815d3bc",
   "metadata": {},
   "outputs": [
    {
     "ename": "TypeError",
     "evalue": "unsupported operand type(s) for +: 'Point' and 'Point'",
     "output_type": "error",
     "traceback": [
      "\u001b[0;31m---------------------------------------------------------------------------\u001b[0m",
      "\u001b[0;31mTypeError\u001b[0m                                 Traceback (most recent call last)",
      "Cell \u001b[0;32mIn[17], line 1\u001b[0m\n\u001b[0;32m----> 1\u001b[0m \u001b[43mp1\u001b[49m\u001b[43m \u001b[49m\u001b[38;5;241;43m+\u001b[39;49m\u001b[43m \u001b[49m\u001b[43mp2\u001b[49m\n",
      "\u001b[0;31mTypeError\u001b[0m: unsupported operand type(s) for +: 'Point' and 'Point'"
     ]
    }
   ],
   "source": [
    "p1 + p2"
   ]
  },
  {
   "cell_type": "code",
   "execution_count": 18,
   "id": "630f5ea4-fdfd-476e-acb9-0629821dd642",
   "metadata": {},
   "outputs": [
    {
     "ename": "TypeError",
     "evalue": "unsupported operand type(s) for *: 'Point' and 'Point'",
     "output_type": "error",
     "traceback": [
      "\u001b[0;31m---------------------------------------------------------------------------\u001b[0m",
      "\u001b[0;31mTypeError\u001b[0m                                 Traceback (most recent call last)",
      "Cell \u001b[0;32mIn[18], line 1\u001b[0m\n\u001b[0;32m----> 1\u001b[0m \u001b[43mp1\u001b[49m\u001b[43m \u001b[49m\u001b[38;5;241;43m*\u001b[39;49m\u001b[43m \u001b[49m\u001b[43mp2\u001b[49m\n",
      "\u001b[0;31mTypeError\u001b[0m: unsupported operand type(s) for *: 'Point' and 'Point'"
     ]
    }
   ],
   "source": [
    "p1 * p2"
   ]
  },
  {
   "cell_type": "code",
   "execution_count": 19,
   "id": "425b90a6-ffe7-4793-be34-0bb5fb0bfb0e",
   "metadata": {},
   "outputs": [
    {
     "name": "stdout",
     "output_type": "stream",
     "text": [
      "<__main__.Point object at 0x7f823f2b2fc0>\n",
      "<__main__.Point object at 0x7f823f295790>\n",
      "False\n",
      "False\n"
     ]
    }
   ],
   "source": [
    "p1 = Point(10, 10)\n",
    "p2 = Point(10, 10)\n",
    "print(p1)\n",
    "print(p2)\n",
    "print(p1 == p2)\n",
    "print(p1 is p2)"
   ]
  },
  {
   "cell_type": "code",
   "execution_count": 20,
   "id": "61ce31bf-eb10-45aa-84bf-bc9a555c535b",
   "metadata": {},
   "outputs": [
    {
     "name": "stdout",
     "output_type": "stream",
     "text": [
      "Point(x=10, y=10)\n",
      "Point(x=10, y=10)\n",
      "True\n",
      "False\n"
     ]
    }
   ],
   "source": [
    "from collections import namedtuple\n",
    "Point = namedtuple('Point', 'x y')\n",
    "\n",
    "p1 = Point(10, 10)\n",
    "p2 = Point(10, 10)\n",
    "print(p1)\n",
    "print(p2)\n",
    "print(p1 == p2)\n",
    "print(p1 is p2)"
   ]
  },
  {
   "cell_type": "code",
   "execution_count": 22,
   "id": "b7b48460-fb36-4b1e-882b-ae11586e0118",
   "metadata": {},
   "outputs": [
    {
     "name": "stdout",
     "output_type": "stream",
     "text": [
      "True\n",
      "False\n"
     ]
    }
   ],
   "source": [
    "\n",
    "x = {1:2, 3:4} # dict(1=2, 3=4) Point(1,2)\n",
    "y = {1:2, 3:4} # dict(1=2, 3=4) Point(1,2)\n",
    "print(x == y)\n",
    "print(x is y)"
   ]
  },
  {
   "cell_type": "code",
   "execution_count": 23,
   "id": "53e464c7-c2f1-425f-ba6d-333f4b9f0773",
   "metadata": {},
   "outputs": [
    {
     "name": "stdout",
     "output_type": "stream",
     "text": [
      "The final score is 88.4.\n"
     ]
    }
   ],
   "source": [
    "class ScoreList():\n",
    "    def __init__(self, scores):\n",
    "        self.scores = scores\n",
    "\n",
    "    def average(self):\n",
    "        return sum(self.scores) / len(self.scores)\n",
    "\n",
    "l1 = [80, 90, 95, 92, 85]\n",
    "scores = ScoreList(l1) \n",
    "print(f'The final score is {scores.average()}.') \n"
   ]
  },
  {
   "cell_type": "code",
   "execution_count": 24,
   "id": "8240af83-cba7-451a-a2af-169c58dc3b2a",
   "metadata": {},
   "outputs": [
    {
     "name": "stdout",
     "output_type": "stream",
     "text": [
      "The final score is 89.25.\n"
     ]
    }
   ],
   "source": [
    "l1.pop()\n",
    "print(f'The final score is {scores.average()}.')    "
   ]
  },
  {
   "cell_type": "code",
   "execution_count": 26,
   "id": "c39d6526-2927-4567-a3e1-f2c12007787b",
   "metadata": {},
   "outputs": [
    {
     "name": "stdout",
     "output_type": "stream",
     "text": [
      "The final score is 88.4.\n",
      "The final score is 88.4.\n"
     ]
    }
   ],
   "source": [
    "class ScoreList():\n",
    "    def __init__(self, scores):\n",
    "        self.scores = tuple(scores)\n",
    "\n",
    "    def average(self):\n",
    "        return sum(self.scores) / len(self.scores)\n",
    "\n",
    "l1 = [80, 90, 95, 92, 85]\n",
    "scores = ScoreList(l1) \n",
    "print(f'The final score is {scores.average()}.') \n",
    "l1.pop()\n",
    "print(f'The final score is {scores.average()}.')    "
   ]
  },
  {
   "cell_type": "code",
   "execution_count": 29,
   "id": "2c056fd5-853a-4a6d-b1fb-6eec79d27176",
   "metadata": {},
   "outputs": [
    {
     "name": "stdout",
     "output_type": "stream",
     "text": [
      "<__main__.A object at 0x7f823f2b21b0>\n"
     ]
    }
   ],
   "source": [
    "class A:\n",
    "    def __init__(self, value):\n",
    "        self.value = value\n",
    "    \n",
    "    def __repr__(self):\n",
    "        return f'__repr__: {self.value}'\n",
    "        \n",
    "    def __str__(self):\n",
    "        return f'__str__: {self.value}'\n",
    "\n",
    "a = A(5)\n",
    "\n",
    "print(a)"
   ]
  },
  {
   "cell_type": "code",
   "execution_count": 31,
   "id": "6823ec90-ac20-4227-9021-3d220e002730",
   "metadata": {},
   "outputs": [
    {
     "name": "stdout",
     "output_type": "stream",
     "text": [
      "A(5)\n"
     ]
    }
   ],
   "source": [
    "class A:\n",
    "    def __init__(self, value):\n",
    "        self.value = value\n",
    "    \n",
    "    def __repr__(self):\n",
    "        return f'A({self.value})'\n",
    "        \n",
    "    def __str__(self):\n",
    "        return f'Value is: {self.value}'\n",
    "\n",
    "a = A(5)\n",
    "\n",
    "print(a)"
   ]
  },
  {
   "cell_type": "code",
   "execution_count": 32,
   "id": "98109437-f886-4041-a064-f638bde5a5c9",
   "metadata": {},
   "outputs": [
    {
     "data": {
      "text/plain": [
       "A(5)"
      ]
     },
     "execution_count": 32,
     "metadata": {},
     "output_type": "execute_result"
    }
   ],
   "source": [
    "a"
   ]
  },
  {
   "cell_type": "code",
   "execution_count": 37,
   "id": "534900c2-9bbc-4155-a509-2748bbfc7c6d",
   "metadata": {},
   "outputs": [
    {
     "name": "stdout",
     "output_type": "stream",
     "text": [
      "123\t345\n"
     ]
    }
   ],
   "source": [
    "x = '123\\t345'\n",
    "print(x)"
   ]
  },
  {
   "cell_type": "code",
   "execution_count": 36,
   "id": "36129e4d-729c-4dc8-961f-fefa08197f5a",
   "metadata": {},
   "outputs": [
    {
     "data": {
      "text/plain": [
       "'123\\t345'"
      ]
     },
     "execution_count": 36,
     "metadata": {},
     "output_type": "execute_result"
    }
   ],
   "source": [
    "x"
   ]
  },
  {
   "cell_type": "code",
   "execution_count": 38,
   "id": "056f6656-18e1-4910-97c6-ebf3c10fd5d1",
   "metadata": {},
   "outputs": [
    {
     "data": {
      "text/plain": [
       "10"
      ]
     },
     "execution_count": 38,
     "metadata": {},
     "output_type": "execute_result"
    }
   ],
   "source": [
    "p1.x"
   ]
  },
  {
   "cell_type": "code",
   "execution_count": 39,
   "id": "bf6e9461-d346-41a2-a34a-3be5904cb9d2",
   "metadata": {},
   "outputs": [
    {
     "data": {
      "text/plain": [
       "10"
      ]
     },
     "execution_count": 39,
     "metadata": {},
     "output_type": "execute_result"
    }
   ],
   "source": [
    "p1.y"
   ]
  },
  {
   "cell_type": "code",
   "execution_count": 40,
   "id": "da3b6eb5-3366-4092-bc64-f417c409c6c9",
   "metadata": {},
   "outputs": [
    {
     "ename": "AttributeError",
     "evalue": "'Point' object has no attribute 'z'",
     "output_type": "error",
     "traceback": [
      "\u001b[0;31m---------------------------------------------------------------------------\u001b[0m",
      "\u001b[0;31mAttributeError\u001b[0m                            Traceback (most recent call last)",
      "Cell \u001b[0;32mIn[40], line 1\u001b[0m\n\u001b[0;32m----> 1\u001b[0m \u001b[43mp1\u001b[49m\u001b[38;5;241;43m.\u001b[39;49m\u001b[43mz\u001b[49m\n",
      "\u001b[0;31mAttributeError\u001b[0m: 'Point' object has no attribute 'z'"
     ]
    }
   ],
   "source": [
    "p1.z"
   ]
  },
  {
   "cell_type": "code",
   "execution_count": 42,
   "id": "f82db546-2aba-4e83-9b2c-8f7d57266853",
   "metadata": {},
   "outputs": [
    {
     "name": "stdout",
     "output_type": "stream",
     "text": [
      "Point(x=10, y=10)\n",
      "Point(x=10, y=10)\n",
      "True\n",
      "False\n"
     ]
    }
   ],
   "source": [
    "from typing import NamedTuple\n",
    "\n",
    "class Point(NamedTuple):\n",
    "    x: int\n",
    "    y: int\n",
    "\n",
    "    def __str__(self):\n",
    "        return f'x: {self.x}; y: {self.y}'\n",
    "\n",
    "p1 = Point(10, 10)\n",
    "p2 = Point(10, 10)\n",
    "print(p1)\n",
    "print(p2)\n",
    "print(p1 == p2)\n",
    "print(p1 is p2)"
   ]
  },
  {
   "cell_type": "code",
   "execution_count": 43,
   "id": "1c4d0474-a86d-4b92-bfa5-fc7fad3276f5",
   "metadata": {},
   "outputs": [
    {
     "ename": "AttributeError",
     "evalue": "can't set attribute",
     "output_type": "error",
     "traceback": [
      "\u001b[0;31m---------------------------------------------------------------------------\u001b[0m",
      "\u001b[0;31mAttributeError\u001b[0m                            Traceback (most recent call last)",
      "Cell \u001b[0;32mIn[43], line 1\u001b[0m\n\u001b[0;32m----> 1\u001b[0m \u001b[43mp1\u001b[49m\u001b[38;5;241;43m.\u001b[39;49m\u001b[43mx\u001b[49m \u001b[38;5;241m=\u001b[39m \u001b[38;5;241m3\u001b[39m\n",
      "\u001b[0;31mAttributeError\u001b[0m: can't set attribute"
     ]
    }
   ],
   "source": [
    "p1.x = 3"
   ]
  },
  {
   "cell_type": "code",
   "execution_count": 44,
   "id": "279b33ef-0b74-4731-8882-c1a47bdca165",
   "metadata": {},
   "outputs": [
    {
     "name": "stdout",
     "output_type": "stream",
     "text": [
      "x: 10; y: 10\n",
      "x: 10; y: 10\n",
      "True\n",
      "False\n"
     ]
    }
   ],
   "source": [
    "from dataclasses import dataclass\n",
    "\n",
    "# class Point:\n",
    "#     def __init__(self, x, y):\n",
    "#         self.x = x\n",
    "#         self.y = y\n",
    "\n",
    "@dataclass\n",
    "class Point:\n",
    "    x: int\n",
    "    y: int\n",
    "\n",
    "    def __str__(self):\n",
    "        return f'x: {self.x}; y: {self.y}'\n",
    "\n",
    "p1 = Point(10, 10)\n",
    "p2 = Point(10, 10)\n",
    "print(p1)\n",
    "print(p2)\n",
    "print(p1 == p2)\n",
    "print(p1 is p2)"
   ]
  },
  {
   "cell_type": "code",
   "execution_count": 45,
   "id": "ac23a5d8-4a8d-4237-b129-fe965221c8a2",
   "metadata": {},
   "outputs": [
    {
     "name": "stdout",
     "output_type": "stream",
     "text": [
      "{'x': 10, 'y': 12}\n",
      "{'x': 10, 'y': 12}\n",
      "{'x': 10, 'y': 12}\n"
     ]
    }
   ],
   "source": [
    "from collections import namedtuple\n",
    "from typing import NamedTuple\n",
    "from dataclasses import dataclass\n",
    "import dataclasses \n",
    "\n",
    "\n",
    "Pointnamedtuple = namedtuple('Point', 'x y')\n",
    "\n",
    "\n",
    "class PointNamedTuple(NamedTuple):\n",
    "    x: int\n",
    "    y: int\n",
    "\n",
    "    def __str__(self):\n",
    "        return f'x: {self.x}; y: {self.y}'\n",
    "\n",
    "@dataclass\n",
    "class Pointdataclass:\n",
    "    x: int\n",
    "    y: int\n",
    "\n",
    "    def __str__(self):\n",
    "        return f'x: {self.x}; y: {self.y}'\n",
    "\n",
    "p1 = Pointnamedtuple(10, 12)\n",
    "p2 = PointNamedTuple(10, 12)\n",
    "p3 = Pointdataclass(10, 12)\n",
    "print(p1._asdict())\n",
    "print(p2._asdict())\n",
    "print(dataclasses.asdict(p3))"
   ]
  },
  {
   "cell_type": "code",
   "execution_count": 55,
   "id": "17260cea-8418-418b-a2b1-107147a8915f",
   "metadata": {},
   "outputs": [
    {
     "data": {
      "text/plain": [
       "'Doe, John'"
      ]
     },
     "execution_count": 55,
     "metadata": {},
     "output_type": "execute_result"
    }
   ],
   "source": [
    "class Person:\n",
    "    def __init__(self, first_name, last_name, email):\n",
    "        self.first_name = first_name\n",
    "        self.last_name = last_name\n",
    "        self.email = email\n",
    "\n",
    "    def __repr__(self):\n",
    "        return f\"Person('{self.first_name}', '{self.last_name}', '{self.email})'\"\n",
    "\n",
    "    def get_full_name(self):\n",
    "        return f'{self.last_name}, {self.first_name}'\n",
    "        \n",
    "    @property\n",
    "    def full_name(self):\n",
    "        return f'{self.last_name}, {self.first_name}'\n",
    "\n",
    "p1 = Person('John', 'Doe', 'jdoe@buffalo.edu')\n",
    "p1.get_full_name()"
   ]
  },
  {
   "cell_type": "code",
   "execution_count": 56,
   "id": "07601614-97a0-4a09-ac59-caef48718b88",
   "metadata": {},
   "outputs": [
    {
     "data": {
      "text/plain": [
       "'Doe, John'"
      ]
     },
     "execution_count": 56,
     "metadata": {},
     "output_type": "execute_result"
    }
   ],
   "source": [
    "p1.full_name"
   ]
  },
  {
   "cell_type": "code",
   "execution_count": 57,
   "id": "a8825f8c-917a-4a4e-a67a-4505c817b261",
   "metadata": {},
   "outputs": [],
   "source": [
    "class Student(Person):\n",
    "    \n",
    "    def __init__(self, first_name, last_name, email, program):\n",
    "        super().__init__(first_name, last_name, email) ### \n",
    "        self.program = program"
   ]
  },
  {
   "cell_type": "code",
   "execution_count": 58,
   "id": "886adf3a-be61-4574-80ce-402927e12025",
   "metadata": {},
   "outputs": [
    {
     "name": "stdout",
     "output_type": "stream",
     "text": [
      "Person('john', 'doe', 'jdoe@example.edu)'\n"
     ]
    }
   ],
   "source": [
    "s1 = Student('john', 'doe', 'jdoe@example.edu', 'gradUate')\n",
    "print(s1)"
   ]
  },
  {
   "cell_type": "code",
   "execution_count": 60,
   "id": "78ac4d5b-1783-41e7-8368-27295723046d",
   "metadata": {},
   "outputs": [
    {
     "data": {
      "text/plain": [
       "'gradUate'"
      ]
     },
     "execution_count": 60,
     "metadata": {},
     "output_type": "execute_result"
    }
   ],
   "source": [
    "s1.program"
   ]
  },
  {
   "cell_type": "code",
   "execution_count": 61,
   "id": "de749a1c-eea4-49ab-86f1-1c168c1656b4",
   "metadata": {},
   "outputs": [],
   "source": [
    "class Student(Person):\n",
    "    PROGRAMS = ['graduate', 'undergraduate']\n",
    "\n",
    "    def __init__(self, first_name, last_name, email, program):\n",
    "        super().__init__(first_name, last_name, email)\n",
    "        if program.lower() not in self.PROGRAMS:\n",
    "            raise ValueError('program can only be \"graduate\" or \"undergraduate\"')\n",
    "        self.program = program.lower()\n",
    "        self.classes = []\n",
    "\n",
    "\n",
    "    def enroll(self, name_of_course):\n",
    "        self.classes.append(name_of_course)\n",
    "\n",
    "    def print_classes(self):\n",
    "        classes = ', '.join(self.classes)\n",
    "        print(f'{classes}')"
   ]
  },
  {
   "cell_type": "code",
   "execution_count": 62,
   "id": "b9147879-c849-4962-a93a-83666e597d4f",
   "metadata": {},
   "outputs": [
    {
     "name": "stdout",
     "output_type": "stream",
     "text": [
      "Person('john', 'doe', 'jdoe@example.edu)'\n",
      "abc, abc, efg, hij\n"
     ]
    }
   ],
   "source": [
    "s1 = Student('john', 'doe', 'jdoe@example.edu', 'gradUate')\n",
    "print(s1)\n",
    "s1.enroll('abc')\n",
    "s1.enroll('abc')\n",
    "s1.enroll('efg')\n",
    "s1.enroll('hij')\n",
    "s1.print_classes()"
   ]
  },
  {
   "cell_type": "code",
   "execution_count": 63,
   "id": "53daa70c-4a18-4a8b-9e0b-962eb252e174",
   "metadata": {},
   "outputs": [
    {
     "name": "stdout",
     "output_type": "stream",
     "text": [
      "Person('john', 'doe', 'jdoe@example.edu)'\n",
      "Already enrolled in abc doe, john!\n",
      "abc, efg, hij\n"
     ]
    }
   ],
   "source": [
    "class Student(Person):\n",
    "    PROGRAMS = ['graduate', 'undergraduate']\n",
    "\n",
    "    def __init__(self, first_name, last_name, email, program):\n",
    "        super().__init__(first_name, last_name, email)\n",
    "        if program.lower() not in self.PROGRAMS:\n",
    "            raise ValueError('program can only be \"graduate\" or \"undergraduate\"')\n",
    "        self.program = program\n",
    "        self.classes = []\n",
    "\n",
    "\n",
    "    def enroll(self, name_of_course):\n",
    "        if name_of_course not in self.classes:\n",
    "            self.classes.append(name_of_course)\n",
    "        else:\n",
    "            print(f'Already enrolled in {name_of_course} {self.get_full_name()}!')\n",
    "\n",
    "    def print_classes(self):\n",
    "        classes = ', '.join(self.classes)\n",
    "        print(f'{classes}')\n",
    "\n",
    "    def print_self(self):\n",
    "        print(self)\n",
    "\n",
    "s1 = Student('john', 'doe', 'jdoe@example.edu', 'graduate')\n",
    "print(s1)\n",
    "s1.enroll('abc')\n",
    "s1.enroll('abc')\n",
    "s1.enroll('efg')\n",
    "s1.enroll('hij')\n",
    "s1.print_classes()\n"
   ]
  },
  {
   "cell_type": "code",
   "execution_count": 64,
   "id": "228b6098-af81-4e56-a3cb-084389eb76d2",
   "metadata": {},
   "outputs": [
    {
     "name": "stdout",
     "output_type": "stream",
     "text": [
      "Person('john', 'doe', 'jdoe@example.edu)'\n",
      "Already enrolled in Chemistry!\n",
      "Chemistry, Math, Physics\n"
     ]
    }
   ],
   "source": [
    "class Course:\n",
    "    def __init__(self, course_name, credits):\n",
    "        self.course_name = course_name\n",
    "        self.credits = credits\n",
    "\n",
    "    def __repr__(self):\n",
    "        return f'{self.course_name}'\n",
    "\n",
    "\n",
    "\n",
    "class Student(Person):\n",
    "    PROGRAMS = ['graduate', 'undergraduate']\n",
    "\n",
    "    def __init__(self, first_name, last_name, email, program):\n",
    "        super().__init__(first_name, last_name, email)\n",
    "        if program.lower() not in self.PROGRAMS:\n",
    "            raise ValueError('program can only be \"graduate\" or \"undergraduate\"')\n",
    "        self.program = program\n",
    "        self.classes = []\n",
    "\n",
    "\n",
    "    def enroll(self, course):\n",
    "        if course not in self.classes:\n",
    "            self.classes.append(course)\n",
    "        else:\n",
    "            print(f'Already enrolled in {course}!')\n",
    "\n",
    "    def print_classes(self):\n",
    "        classes = ', '.join(sorted([i.course_name for i in self.classes]))\n",
    "        print(f'{classes}')\n",
    "\n",
    "c1 = Course('Math', 3)\n",
    "c2 = Course('Physics', 4)\n",
    "c3 = Course('Chemistry', 3)\n",
    "c4 = Course('English', 3)\n",
    "\n",
    "s1 = Student('john', 'doe', 'jdoe@example.edu', 'graduate')\n",
    "print(s1)\n",
    "s1.enroll(c1)\n",
    "s1.enroll(c2)\n",
    "s1.enroll(c3)\n",
    "s1.enroll(c3)\n",
    "s1.print_classes()"
   ]
  },
  {
   "cell_type": "code",
   "execution_count": null,
   "id": "00eb79e7-4748-4ea7-9b50-ae9cd71481c0",
   "metadata": {},
   "outputs": [],
   "source": [
    "class Student(Person):\n",
    "    PROGRAMS = ['graduate', 'undergraduate']\n",
    "    MAX_CREDITS = 9\n",
    "\n",
    "    def __init__(self, first_name, last_name, email, program):\n",
    "        super().__init__(first_name, last_name, email)\n",
    "        if program.lower() not in self.PROGRAMS:\n",
    "            raise ValueError('program can only be \"graduate\" or \"undergraduate\"')\n",
    "        self.program = program\n",
    "        self.classes = []\n",
    "        self.enrolled_credits = 0\n",
    "\n",
    "    def enroll(self, course):\n",
    "        # if self.enrolled_credits < self.MAX_CREDITS:\n",
    "        #     self.classes.append(course)\n",
    "        #     self.enrolled_credits += course.credits\n",
    "        # else:\n",
    "        #     print('Cannot enroll')\n",
    "            \n",
    "        if self.get_total_credits() + course.credits > self.MAX_CREDITS:\n",
    "            print(f'You will be over the max credits! Cannot add {course}.')\n",
    "            return\n",
    "\n",
    "        if course not in self.classes:\n",
    "            self.classes.append(course)\n",
    "        else:\n",
    "            print(f'Already enrolled in {course}!')\n",
    "\n",
    "    def print_classes(self):\n",
    "        classes = ', '.join(sorted([i.course_name for i in self.classes]))\n",
    "        print(f'{classes}')\n",
    "\n",
    "\n",
    "    def get_total_credits(self):\n",
    "        total_credits = 0\n",
    "        for ele in self.classes:\n",
    "            total_credits += ele.credits\n",
    "        return total_credits\n",
    "\n",
    "class Course:\n",
    "    def __init__(self, course_name, credits):\n",
    "        self.course_name = course_name\n",
    "        self.credits = credits\n",
    "\n",
    "    def __repr__(self):\n",
    "        return f'{self.course_name}'\n",
    "\n",
    "    def __str__(self):\n",
    "        return f'{self.course_name}'\n",
    "\n",
    "\n",
    "    def get_course_name(self):\n",
    "        return self.course_name\n",
    "\n",
    "\n",
    "c1 = Course('Math', 3)\n",
    "c2 = Course('Physics', 4)\n",
    "c3 = Course('Chemistry', 3)\n",
    "c4 = Course('English', 3)\n",
    "\n",
    "s1 = Student('john', 'doe', 'jdoe@example.edu', 'graduate')\n",
    "print(s1)\n",
    "s1.enroll(c1)\n",
    "s1.enroll(c1)\n",
    "s1.enroll(c3)\n",
    "s1.enroll(c4)\n",
    "s1.enroll(c2)\n",
    "s1.print_classes()"
   ]
  },
  {
   "cell_type": "code",
   "execution_count": 66,
   "id": "de526882-ba26-4b2d-91a5-afbda1d037f5",
   "metadata": {},
   "outputs": [
    {
     "data": {
      "text/plain": [
       "True"
      ]
     },
     "execution_count": 66,
     "metadata": {},
     "output_type": "execute_result"
    }
   ],
   "source": [
    "x = 1\n",
    "\n",
    "y = [x, 1]\n",
    "\n",
    "y[0] is x"
   ]
  },
  {
   "cell_type": "code",
   "execution_count": 67,
   "id": "6b7410db-6e04-460a-b892-35754e0f0173",
   "metadata": {},
   "outputs": [
    {
     "data": {
      "text/plain": [
       "True"
      ]
     },
     "execution_count": 67,
     "metadata": {},
     "output_type": "execute_result"
    }
   ],
   "source": [
    "y[1] is x"
   ]
  },
  {
   "cell_type": "code",
   "execution_count": 68,
   "id": "6b3f9bfd-9cb7-47b3-8af2-569004d89ad8",
   "metadata": {},
   "outputs": [
    {
     "data": {
      "text/plain": [
       "True"
      ]
     },
     "execution_count": 68,
     "metadata": {},
     "output_type": "execute_result"
    }
   ],
   "source": [
    "x = [1, 2, 3]\n",
    "y = x\n",
    "y is x"
   ]
  },
  {
   "cell_type": "code",
   "execution_count": 69,
   "id": "a08352d3-ead6-4e78-896e-a0b5d5da1a8b",
   "metadata": {},
   "outputs": [
    {
     "data": {
      "text/plain": [
       "False"
      ]
     },
     "execution_count": 69,
     "metadata": {},
     "output_type": "execute_result"
    }
   ],
   "source": [
    "x = [1, 2, 3] # list(1, 2, 3)\n",
    "y = [1, 2, 3] # list(1, 2, 3)\n",
    "\n",
    "y is x"
   ]
  },
  {
   "cell_type": "code",
   "execution_count": 70,
   "id": "f0a12dc5-ca56-4159-97ed-232644b160b5",
   "metadata": {},
   "outputs": [
    {
     "data": {
      "text/plain": [
       "True"
      ]
     },
     "execution_count": 70,
     "metadata": {},
     "output_type": "execute_result"
    }
   ],
   "source": [
    "x[0] is y[0]"
   ]
  }
 ],
 "metadata": {
  "kernelspec": {
   "display_name": "Python 3 (ipykernel)",
   "language": "python",
   "name": "python3"
  },
  "language_info": {
   "codemirror_mode": {
    "name": "ipython",
    "version": 3
   },
   "file_extension": ".py",
   "mimetype": "text/x-python",
   "name": "python",
   "nbconvert_exporter": "python",
   "pygments_lexer": "ipython3",
   "version": "3.12.4"
  }
 },
 "nbformat": 4,
 "nbformat_minor": 5
}
