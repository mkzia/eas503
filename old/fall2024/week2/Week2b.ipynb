{
 "cells": [
  {
   "cell_type": "code",
   "execution_count": 1,
   "id": "3e9b15c8-103c-429b-a608-b34cfae5a560",
   "metadata": {},
   "outputs": [],
   "source": [
    "x = 'my_string'\n",
    "y = type(x)"
   ]
  },
  {
   "cell_type": "code",
   "execution_count": 4,
   "id": "f58a7472-71a8-434a-9f3b-12a5c499ae34",
   "metadata": {},
   "outputs": [
    {
     "name": "stdout",
     "output_type": "stream",
     "text": [
      "+---------------------------------------------------+\n",
      "|               Cereal Yields (kg/ha)               |\n",
      "+---------------+--------+--------+--------+--------+\n",
      "|    Country    |  1980  |  1990  |  2000  |  2010  |\n",
      "+---------------+--------+--------+--------+--------+\n",
      "| China         |  2,937 |  4,321 |  4,752 |  5,527 |\n",
      "| Germany       |  4,225 |  5,411 |  6,453 |  6,718 |\n",
      "| United States |  3,772 |  4,755 |  5,854 |  6,988 |\n",
      "+---------------+--------+--------+--------+--------+\n"
     ]
    }
   ],
   "source": [
    "title = '|' + '{:^51}'.format('Cereal Yields (kg/ha)') + '|'\n",
    "line = '+' + '-'*15 + '+' + ('-'*8 + '+')*4\n",
    "row = '| {:<13} |' + ' {:6,d} |'*4\n",
    "header = '| {:^13s} |'.format('Country') + (' {:^6d} |'*4).format(1980, 1990,\n",
    "                                                                  2000, 2010)\n",
    "print('+' + '-'*(len(title)-2) + '+',\n",
    "      title,\n",
    "      line,\n",
    "      header,\n",
    "      line,\n",
    "      row.format('China', 2937, 4321, 4752, 5527),\n",
    "      row.format('Germany', 4225, 5411, 6453, 6718),\n",
    "      row.format('United States', 3772, 4755, 5854, 6988),\n",
    "      line,\n",
    "      sep='\\n')"
   ]
  },
  {
   "cell_type": "code",
   "execution_count": null,
   "id": "5b49beef-f852-4768-bca9-b47e9caed0dc",
   "metadata": {},
   "outputs": [],
   "source": [
    "title = '|' + '{:^51}'.format('Cereal Yields (kg/ha)') + '|'\n"
   ]
  },
  {
   "cell_type": "code",
   "execution_count": 9,
   "id": "00c52b1a-b73d-4877-8779-33aafc5320f2",
   "metadata": {},
   "outputs": [
    {
     "name": "stdout",
     "output_type": "stream",
     "text": [
      "                     sdfsdfsd                      \n"
     ]
    }
   ],
   "source": [
    "title_template = '{:^51}'\n",
    "print(title_template.format('sdfsdfsd'))"
   ]
  },
  {
   "cell_type": "code",
   "execution_count": 11,
   "id": "d76c8e83-86fb-40f6-a162-6f7411877041",
   "metadata": {},
   "outputs": [
    {
     "data": {
      "text/plain": [
       "'+---------------+--------+--------+--------+--------+'"
      ]
     },
     "execution_count": 11,
     "metadata": {},
     "output_type": "execute_result"
    }
   ],
   "source": [
    "line = '+' + '-'*15 + '+' + ('-'*8 + '+')*4\n",
    "line"
   ]
  },
  {
   "cell_type": "code",
   "execution_count": 47,
   "id": "d2282e1b-34bd-440a-b1b8-50fca8bae47d",
   "metadata": {},
   "outputs": [
    {
     "data": {
      "text/plain": [
       "'| blah          |324   |2,342,342|2,334 |2,334 |'"
      ]
     },
     "execution_count": 47,
     "metadata": {},
     "output_type": "execute_result"
    }
   ],
   "source": [
    "row = '| {:<13} |' + '{:<6,d}|'*4\n",
    "row.format('blah', 324, 2342342, 2334, 2334)"
   ]
  },
  {
   "cell_type": "code",
   "execution_count": 22,
   "id": "de2591cf-2c46-4724-b292-be3df3216cab",
   "metadata": {},
   "outputs": [],
   "source": [
    "header = '| {:^13s} |'.format('Country') + (' {:^6d} |'*4).format(1980, 1990,\n",
    "                                                                  2000, 2010)"
   ]
  },
  {
   "cell_type": "code",
   "execution_count": 23,
   "id": "24495dc6-75a2-400c-8031-615f2c5669f9",
   "metadata": {},
   "outputs": [
    {
     "data": {
      "text/plain": [
       "'|    Country    |  1980  |  1990  |  2000  |  2010  |'"
      ]
     },
     "execution_count": 23,
     "metadata": {},
     "output_type": "execute_result"
    }
   ],
   "source": [
    "header"
   ]
  },
  {
   "cell_type": "code",
   "execution_count": 27,
   "id": "a240bbf2-c611-4877-a64c-c66918933c60",
   "metadata": {},
   "outputs": [
    {
     "data": {
      "text/plain": [
       "'----------------1,223,423,423,234-----------------'"
      ]
     },
     "execution_count": 27,
     "metadata": {},
     "output_type": "execute_result"
    }
   ],
   "source": [
    "# <padding_character><alignment><width><comma>.<precision><type>\\\n",
    "\"{:-^50,d}\".format(1223423423234)"
   ]
  },
  {
   "cell_type": "code",
   "execution_count": null,
   "id": "733f4baf-df82-4346-8829-010f924ecb25",
   "metadata": {},
   "outputs": [],
   "source": [
    "title = '|' + '{:^51}'.format('Cereal Yields (kg/ha)') + '|'\n",
    "line = '+' + '-'*15 + '+' + ('-'*8 + '+')*4\n",
    "row = '| {:<13} |' + ' {:6,d} |'*4\n",
    "header = '| {:^13s} |'.format('Country') + (' {:^6d} |'*4).format(1980, 1990,\n",
    "                                                                  2000, 2010)"
   ]
  },
  {
   "cell_type": "code",
   "execution_count": 30,
   "id": "1fc30607-b217-4d97-9325-dc06638668d7",
   "metadata": {},
   "outputs": [
    {
     "name": "stdout",
     "output_type": "stream",
     "text": [
      "+--------------------------------------+\n",
      "|               Cereal Yields (kg/ha)               |\n",
      "+---------------+--------+--------+--------+--------+\n",
      "|    Country    |  1980  |  1990  |  2000  |  2010  |\n",
      "+---------------+--------+--------+--------+--------+\n",
      "| China         |  2,937 |  4,321 |  4,752 |  5,527 |\n",
      "| Germany       |  4,225 |  5,411 |  6,453 |  6,718 |\n",
      "| United States |  3,772 |  4,755 |  5,854 |  6,988 |\n",
      "+---------------+--------+--------+--------+--------+\n"
     ]
    }
   ],
   "source": []
  },
  {
   "cell_type": "code",
   "execution_count": 31,
   "id": "fa99962d-6502-4142-b17a-d21779f8ab77",
   "metadata": {},
   "outputs": [
    {
     "data": {
      "text/plain": [
       "'+----------------------------+'"
      ]
     },
     "execution_count": 31,
     "metadata": {},
     "output_type": "execute_result"
    }
   ],
   "source": [
    "'+' + '-'*(len('kjlsdlkjsdfkljfdskjlsfdlkslfdk')-2) + '+'"
   ]
  },
  {
   "cell_type": "code",
   "execution_count": 33,
   "id": "2d25d9a5-3a55-4ec2-be8f-7733bc916d43",
   "metadata": {},
   "outputs": [
    {
     "name": "stdout",
     "output_type": "stream",
     "text": [
      "my_string my_String2\n"
     ]
    }
   ],
   "source": [
    "x = \"my_string\"\n",
    "y = \"my_String2\"\n",
    "print(x, y)"
   ]
  },
  {
   "cell_type": "code",
   "execution_count": 37,
   "id": "a2258f6a-ad56-45df-9515-d4ad7b2b87c5",
   "metadata": {},
   "outputs": [
    {
     "name": "stdout",
     "output_type": "stream",
     "text": [
      "my_string\tmy_String2\n"
     ]
    }
   ],
   "source": [
    "print(x, y, sep='\\t')"
   ]
  },
  {
   "cell_type": "code",
   "execution_count": 39,
   "id": "c07941c8-7369-4a3f-ba5f-86f156d852df",
   "metadata": {},
   "outputs": [
    {
     "name": "stdout",
     "output_type": "stream",
     "text": [
      "EAS503\n",
      "This class has 120 students\n"
     ]
    }
   ],
   "source": [
    "x = \"EAS503\\nThis class has 120 students\"\n",
    "print(x)"
   ]
  },
  {
   "cell_type": "code",
   "execution_count": 41,
   "id": "e11e2729-4fc1-4601-b0ba-88fcc12078a4",
   "metadata": {},
   "outputs": [
    {
     "data": {
      "text/plain": [
       "'ABCDEFG'"
      ]
     },
     "execution_count": 41,
     "metadata": {},
     "output_type": "execute_result"
    }
   ],
   "source": [
    "x = \"ABCDEFG\"\n",
    "\"{:4}\".format(x)"
   ]
  },
  {
   "cell_type": "code",
   "execution_count": 42,
   "id": "4662a82d-c92b-486e-8f25-cc0b40ab96fc",
   "metadata": {},
   "outputs": [
    {
     "name": "stdout",
     "output_type": "stream",
     "text": [
      "+---------------------------------------------------+\n",
      "|               Cereal Yields (kg/ha)               |\n",
      "+---------------+--------+--------+--------+--------+\n",
      "|    Country    |  1980  |  1990  |  2000  |  2010  |\n",
      "+---------------+--------+--------+--------+--------+\n",
      "| China         |  2,937 |  4,321 |  4,752 |  5,527 |\n",
      "| Germany       |  4,225 |  5,411 |  6,453 |  6,718 |\n",
      "| United States |  3,772 |  4,755 |  5,854 |  6,988 |\n",
      "+---------------+--------+--------+--------+--------+\n"
     ]
    }
   ],
   "source": [
    "title = '|' + '{:^51}'.format('Cereal Yields (kg/ha)') + '|'\n",
    "line = '+' + '-'*15 + '+' + ('-'*8 + '+')*4\n",
    "row = '| {:<13} |' + ' {:6,d} |'*4\n",
    "header = '| {:^13s} |'.format('Country') + (' {:^6d} |'*4).format(1980, 1990,\n",
    "                                                                  2000, 2010)\n",
    "print('+' + '-'*(len(title)-2) + '+',\n",
    "      title,\n",
    "      line,\n",
    "      header,\n",
    "      line,\n",
    "      row.format('China', 2937, 4321, 4752, 5527),\n",
    "      row.format('Germany', 4225, 5411, 6453, 6718),\n",
    "      row.format('United States', 3772, 4755, 5854, 6988),\n",
    "      line,\n",
    "      sep='\\n')"
   ]
  },
  {
   "cell_type": "code",
   "execution_count": 44,
   "id": "a949a67a-895e-4f77-ae2b-97a8f229fcd5",
   "metadata": {},
   "outputs": [
    {
     "data": {
      "text/plain": [
       "14"
      ]
     },
     "execution_count": 44,
     "metadata": {},
     "output_type": "execute_result"
    }
   ],
   "source": [
    "x = \"United Kingdom\"\n",
    "len(x)"
   ]
  },
  {
   "cell_type": "code",
   "execution_count": 56,
   "id": "09d5fee4-c24e-4e9c-85e5-f23ab964fbad",
   "metadata": {},
   "outputs": [],
   "source": [
    "w1 = 13\n",
    "w2 = 6\n",
    "al1 = \"<\"\n",
    "\n",
    "row = '| {:w1} |' + '{:{w2},d}|'*4"
   ]
  },
  {
   "cell_type": "code",
   "execution_count": 57,
   "id": "8686fb91-4b81-4d37-a03c-450a79fb5a73",
   "metadata": {},
   "outputs": [
    {
     "ename": "ValueError",
     "evalue": "Invalid format specifier 'w1' for object of type 'str'",
     "output_type": "error",
     "traceback": [
      "\u001b[0;31m---------------------------------------------------------------------------\u001b[0m",
      "\u001b[0;31mValueError\u001b[0m                                Traceback (most recent call last)",
      "Cell \u001b[0;32mIn[57], line 1\u001b[0m\n\u001b[0;32m----> 1\u001b[0m \u001b[43mrow\u001b[49m\u001b[38;5;241;43m.\u001b[39;49m\u001b[43mformat\u001b[49m\u001b[43m(\u001b[49m\u001b[38;5;124;43m\"\u001b[39;49m\u001b[38;5;124;43mIceland\u001b[39;49m\u001b[38;5;124;43m\"\u001b[39;49m\u001b[43m,\u001b[49m\u001b[43m \u001b[49m\u001b[38;5;241;43m5000\u001b[39;49m\u001b[43m,\u001b[49m\u001b[43m \u001b[49m\u001b[38;5;241;43m6000\u001b[39;49m\u001b[43m,\u001b[49m\u001b[43m \u001b[49m\u001b[38;5;241;43m7000\u001b[39;49m\u001b[43m,\u001b[49m\u001b[43m \u001b[49m\u001b[38;5;241;43m0\u001b[39;49m\u001b[43m)\u001b[49m\n",
      "\u001b[0;31mValueError\u001b[0m: Invalid format specifier 'w1' for object of type 'str'"
     ]
    }
   ],
   "source": [
    "row.format(\"Iceland\", 5000, 6000, 7000, 0)"
   ]
  },
  {
   "cell_type": "code",
   "execution_count": 65,
   "id": "e7049f7a-1303-4217-9a56-0c13a5d65705",
   "metadata": {},
   "outputs": [
    {
     "ename": "KeyError",
     "evalue": "'w1'",
     "output_type": "error",
     "traceback": [
      "\u001b[0;31m---------------------------------------------------------------------------\u001b[0m",
      "\u001b[0;31mKeyError\u001b[0m                                  Traceback (most recent call last)",
      "Cell \u001b[0;32mIn[65], line 2\u001b[0m\n\u001b[1;32m      1\u001b[0m row \u001b[38;5;241m=\u001b[39m \u001b[38;5;124m'\u001b[39m\u001b[38;5;124m| \u001b[39m\u001b[38;5;124m{\u001b[39m\u001b[38;5;124m:\u001b[39m\u001b[38;5;132;01m{w1}\u001b[39;00m\u001b[38;5;124m} |\u001b[39m\u001b[38;5;124m'\u001b[39m\n\u001b[0;32m----> 2\u001b[0m \u001b[43mrow\u001b[49m\u001b[38;5;241;43m.\u001b[39;49m\u001b[43mformat\u001b[49m\u001b[43m(\u001b[49m\u001b[38;5;124;43m'\u001b[39;49m\u001b[38;5;124;43mtest\u001b[39;49m\u001b[38;5;124;43m'\u001b[39;49m\u001b[43m)\u001b[49m\n",
      "\u001b[0;31mKeyError\u001b[0m: 'w1'"
     ]
    }
   ],
   "source": [
    "row = f'| {\"test\":w1} |'\n",
    "row.format('test')"
   ]
  },
  {
   "cell_type": "code",
   "execution_count": 81,
   "id": "9254a1ce-f0c5-42b0-b2cd-6e70d5586983",
   "metadata": {},
   "outputs": [
    {
     "data": {
      "text/plain": [
       "'| -------------Green Land |'"
      ]
     },
     "execution_count": 81,
     "metadata": {},
     "output_type": "execute_result"
    }
   ],
   "source": [
    "w1 = 23\n",
    "al = \">\"\n",
    "pd = \"-\"\n",
    "country = \"Green Land\"\n",
    "f'| {country:{pd}{al}{w1}} |'"
   ]
  },
  {
   "cell_type": "code",
   "execution_count": 83,
   "id": "342dbf45-3fa7-4f2e-93aa-3a426f0d6eb4",
   "metadata": {},
   "outputs": [
    {
     "data": {
      "text/plain": [
       "7"
      ]
     },
     "execution_count": 83,
     "metadata": {},
     "output_type": "execute_result"
    }
   ],
   "source": [
    "x = \"abc\\ndef\"\n",
    "len(x)"
   ]
  },
  {
   "cell_type": "code",
   "execution_count": 84,
   "id": "8bb06eaf-e75c-4488-ae66-4f962b613254",
   "metadata": {},
   "outputs": [],
   "source": [
    "with open('test_file.txt', 'w') as file:\n",
    "    file.write('line1\\nline2')\n",
    "\n",
    "# <---\n",
    "\n",
    "\n",
    "def func():\n",
    "    pass"
   ]
  },
  {
   "cell_type": "code",
   "execution_count": 95,
   "id": "1b7a63f6-71d7-486f-9554-de9c61027f83",
   "metadata": {},
   "outputs": [],
   "source": [
    "title = '|' + '{:^51}'.format('Cereal Yields (kg/ha)') + '|'\n",
    "line = '+' + '-'*15 + '+' + ('-'*8 + '+')*4\n",
    "row = '| {:<13} |' + ' {:6,d} |'*4\n",
    "header = '| {:^13s} |'.format('Country') + (' {:^6d} |'*4).format(1980, 1990,\n",
    "                                                                  2000, 2010)\n",
    "\n",
    "all_lines = (\n",
    "      '+' + '-'*(len(title)-2) + '+',\n",
    "      title,\n",
    "      line,\n",
    "      header,\n",
    "      line,\n",
    "      row.format('China', 2937, 4321, 4752, 5527),\n",
    "      row.format('Germany', 4225, 5411, 6453, 6718),\n",
    "      row.format('United States', 3772, 4755, 5854, 6988),\n",
    "      line\n",
    ")\n",
    "\n",
    "file_content = '\\n'.join(all_lines)\n",
    "\n",
    "with open('test_file2.txt', 'w') as file:\n",
    "    file.write(file_content)"
   ]
  },
  {
   "cell_type": "code",
   "execution_count": 85,
   "id": "ab613612-c1f4-4235-9977-7cc7e333c385",
   "metadata": {},
   "outputs": [
    {
     "data": {
      "text/plain": [
       "'abcefghij'"
      ]
     },
     "execution_count": 85,
     "metadata": {},
     "output_type": "execute_result"
    }
   ],
   "source": [
    "''.join(('abc', 'efg', 'hij'))"
   ]
  },
  {
   "cell_type": "code",
   "execution_count": 86,
   "id": "54a620d2-f9dd-4b0e-b5cd-4ab1d5731c39",
   "metadata": {},
   "outputs": [
    {
     "data": {
      "text/plain": [
       "'abc-efg-hij'"
      ]
     },
     "execution_count": 86,
     "metadata": {},
     "output_type": "execute_result"
    }
   ],
   "source": [
    "'-'.join(('abc', 'efg', 'hij'))"
   ]
  },
  {
   "cell_type": "code",
   "execution_count": 90,
   "id": "c605758a-f1b4-4675-892e-aa7c4ad789c6",
   "metadata": {},
   "outputs": [],
   "source": [
    "x = '\\t'.join(('abc', 'efg', 'hij'))"
   ]
  },
  {
   "cell_type": "code",
   "execution_count": 91,
   "id": "6bb73095-1696-46a2-9e13-fc19ca449565",
   "metadata": {},
   "outputs": [
    {
     "data": {
      "text/plain": [
       "'abc\\tefg\\thij'"
      ]
     },
     "execution_count": 91,
     "metadata": {},
     "output_type": "execute_result"
    }
   ],
   "source": [
    "x"
   ]
  },
  {
   "cell_type": "code",
   "execution_count": 92,
   "id": "268a8fe9-10de-4bb6-a65e-e222b7b372ff",
   "metadata": {},
   "outputs": [
    {
     "name": "stdout",
     "output_type": "stream",
     "text": [
      "abc\tefg\thij\n"
     ]
    }
   ],
   "source": [
    "print(x)"
   ]
  },
  {
   "cell_type": "code",
   "execution_count": 94,
   "id": "5fe0b22f-e6da-4ac3-956f-4f87fcfb60c7",
   "metadata": {},
   "outputs": [
    {
     "name": "stdout",
     "output_type": "stream",
     "text": [
      "abc\n",
      "efg\n",
      "hij\n"
     ]
    }
   ],
   "source": [
    "print('\\n'.join(('abc', 'efg', 'hij')))"
   ]
  },
  {
   "cell_type": "code",
   "execution_count": 97,
   "id": "2aa7b8cb-b776-46e8-9c5a-3bc9792620ba",
   "metadata": {},
   "outputs": [
    {
     "data": {
      "text/plain": [
       "'Browning'"
      ]
     },
     "execution_count": 97,
     "metadata": {},
     "output_type": "execute_result"
    }
   ],
   "source": [
    "x = \"browning\"\n",
    "x.capitalize()"
   ]
  },
  {
   "cell_type": "code",
   "execution_count": 98,
   "id": "ced5b6e4-e076-4054-adee-0dca58625522",
   "metadata": {},
   "outputs": [
    {
     "data": {
      "text/plain": [
       "'Browning'"
      ]
     },
     "execution_count": 98,
     "metadata": {},
     "output_type": "execute_result"
    }
   ],
   "source": [
    "\"browning\".capitalize()"
   ]
  },
  {
   "cell_type": "code",
   "execution_count": 99,
   "id": "5d97d28d-a3a8-40b7-aa29-0aece54b12c9",
   "metadata": {},
   "outputs": [],
   "source": [
    "my_string = '   ABBCCC  '"
   ]
  },
  {
   "cell_type": "code",
   "execution_count": 100,
   "id": "4c2b0d57-ae86-485d-ac69-d0a20a34ea78",
   "metadata": {},
   "outputs": [
    {
     "name": "stdout",
     "output_type": "stream",
     "text": [
      "   ABBCCC  \n"
     ]
    }
   ],
   "source": [
    "print(my_string)"
   ]
  },
  {
   "cell_type": "code",
   "execution_count": 101,
   "id": "96057683-57d9-44c0-b407-39e78def2f7c",
   "metadata": {},
   "outputs": [
    {
     "name": "stdout",
     "output_type": "stream",
     "text": [
      "   ABBCCC   Dummy\n"
     ]
    }
   ],
   "source": [
    "print(my_string, 'Dummy')"
   ]
  },
  {
   "cell_type": "code",
   "execution_count": 102,
   "id": "1d8dcd3f-f41a-498d-9a76-e34bb72c4d36",
   "metadata": {},
   "outputs": [
    {
     "name": "stdout",
     "output_type": "stream",
     "text": [
      "ABBCCC\n"
     ]
    }
   ],
   "source": [
    "print(my_string.strip())"
   ]
  },
  {
   "cell_type": "code",
   "execution_count": 104,
   "id": "bb6e38a2-81bc-43b2-82e6-1e008218df5d",
   "metadata": {},
   "outputs": [
    {
     "name": "stdout",
     "output_type": "stream",
     "text": [
      "\t\t\txxxx\n",
      "\n",
      "\n",
      "\n"
     ]
    }
   ],
   "source": [
    "x = \"\\t\\t\\txxxx\\n\\n\\n\"\n",
    "print(x)"
   ]
  },
  {
   "cell_type": "code",
   "execution_count": 105,
   "id": "5baac493-1ab9-4830-84f3-589e0d612b5f",
   "metadata": {},
   "outputs": [
    {
     "name": "stdout",
     "output_type": "stream",
     "text": [
      "xxxx\n"
     ]
    }
   ],
   "source": [
    "print(x.strip())"
   ]
  },
  {
   "cell_type": "code",
   "execution_count": 103,
   "id": "3f550888-9e68-4272-9c99-4169d99b05c4",
   "metadata": {},
   "outputs": [
    {
     "name": "stdout",
     "output_type": "stream",
     "text": [
      "ABBCCC Dummy\n"
     ]
    }
   ],
   "source": [
    "print(my_string.strip(), 'Dummy')"
   ]
  },
  {
   "cell_type": "code",
   "execution_count": 106,
   "id": "067a1565-d5ae-443c-8724-bffe5da0c4a2",
   "metadata": {},
   "outputs": [
    {
     "name": "stdout",
     "output_type": "stream",
     "text": [
      "BBCCC\n"
     ]
    }
   ],
   "source": [
    "my_string = 'ABBCCCA'\n",
    "print(my_string.strip('A'))"
   ]
  },
  {
   "cell_type": "code",
   "execution_count": 107,
   "id": "e4151e05-9fa8-4a44-833c-d2f0531ab34d",
   "metadata": {},
   "outputs": [
    {
     "name": "stdout",
     "output_type": "stream",
     "text": [
      "  ABBCCC\n"
     ]
    }
   ],
   "source": [
    "my_string = '  ABBCCCA'\n",
    "print(my_string.strip('A'))"
   ]
  },
  {
   "cell_type": "code",
   "execution_count": 108,
   "id": "4528eefe-34de-4800-8535-3bc751623cb2",
   "metadata": {},
   "outputs": [
    {
     "name": "stdout",
     "output_type": "stream",
     "text": [
      "   ABBCCC   Dummy\n",
      "ABBCCC   Dummy\n"
     ]
    }
   ],
   "source": [
    "my_string = '   ABBCCC  '\n",
    "print(my_string, 'Dummy')\n",
    "print(my_string.lstrip(), 'Dummy')"
   ]
  },
  {
   "cell_type": "code",
   "execution_count": 110,
   "id": "66be6515-09b2-440c-9212-c2b308310a0a",
   "metadata": {},
   "outputs": [
    {
     "name": "stdout",
     "output_type": "stream",
     "text": [
      "John Doe  Dummy\n"
     ]
    }
   ],
   "source": [
    "x = \"John Doe  \"\n",
    "print(x, 'Dummy', sep=\"\")"
   ]
  },
  {
   "cell_type": "code",
   "execution_count": 111,
   "id": "ab2a47c0-5402-4a35-8eaf-d975ae67dec7",
   "metadata": {},
   "outputs": [
    {
     "name": "stdout",
     "output_type": "stream",
     "text": [
      "John DoeDummy\n"
     ]
    }
   ],
   "source": [
    "print(x.strip(), 'Dummy', sep=\"\")"
   ]
  },
  {
   "cell_type": "code",
   "execution_count": 112,
   "id": "f39b59d5-1d14-4acb-97ec-8779a7d1972f",
   "metadata": {},
   "outputs": [
    {
     "name": "stdout",
     "output_type": "stream",
     "text": [
      "ohn Doe  Dummy\n"
     ]
    }
   ],
   "source": [
    "print(x.strip('J'), 'Dummy', sep=\"\")"
   ]
  },
  {
   "cell_type": "code",
   "execution_count": 113,
   "id": "f0182e71-4fa0-475f-bba3-380de1a25d49",
   "metadata": {},
   "outputs": [
    {
     "name": "stdout",
     "output_type": "stream",
     "text": [
      "False\n"
     ]
    }
   ],
   "source": [
    "my_string = 'EaS503'\n",
    "print(my_string.isupper())"
   ]
  },
  {
   "cell_type": "code",
   "execution_count": 114,
   "id": "e68549f9-d4b6-4daf-ab37-d72e2402059d",
   "metadata": {},
   "outputs": [
    {
     "name": "stdout",
     "output_type": "stream",
     "text": [
      "False\n"
     ]
    }
   ],
   "source": [
    "my_string = 'EAS503'\n",
    "print(my_string.isalpha())"
   ]
  },
  {
   "cell_type": "code",
   "execution_count": 115,
   "id": "712a3da6-cf29-4ef2-a52c-f4e457a3298f",
   "metadata": {},
   "outputs": [
    {
     "name": "stdout",
     "output_type": "stream",
     "text": [
      "True\n"
     ]
    }
   ],
   "source": [
    "my_string = 'EASaff'\n",
    "print(my_string.isalpha())"
   ]
  },
  {
   "cell_type": "code",
   "execution_count": 117,
   "id": "85c5335d-82a8-4eaa-9793-224f2237a76f",
   "metadata": {},
   "outputs": [
    {
     "name": "stdout",
     "output_type": "stream",
     "text": [
      "True\n"
     ]
    }
   ],
   "source": [
    "my_string = '12234234'\n",
    "print(my_string.isdecimal())"
   ]
  },
  {
   "cell_type": "code",
   "execution_count": 120,
   "id": "08f15056-a754-47b8-b274-fcac0fe80478",
   "metadata": {},
   "outputs": [
    {
     "name": "stdout",
     "output_type": "stream",
     "text": [
      "2²\n"
     ]
    }
   ],
   "source": [
    "print(\"2\\u00B2\")"
   ]
  },
  {
   "cell_type": "code",
   "execution_count": 121,
   "id": "d54b91af-070c-416b-8ddf-d50da3bfe6c6",
   "metadata": {},
   "outputs": [
    {
     "data": {
      "text/plain": [
       "True"
      ]
     },
     "execution_count": 121,
     "metadata": {},
     "output_type": "execute_result"
    }
   ],
   "source": [
    "\"2\\u00B2\".isdigit()"
   ]
  },
  {
   "cell_type": "code",
   "execution_count": 122,
   "id": "9d165db3-3b4c-47e0-9a1d-f28a784c2175",
   "metadata": {},
   "outputs": [
    {
     "name": "stdout",
     "output_type": "stream",
     "text": [
      "¼\n"
     ]
    }
   ],
   "source": [
    "print('\\u00BC')"
   ]
  },
  {
   "cell_type": "code",
   "execution_count": 123,
   "id": "fa20277b-aa4a-4a27-91af-3275c67bd59f",
   "metadata": {},
   "outputs": [
    {
     "name": "stdout",
     "output_type": "stream",
     "text": [
      "True\n"
     ]
    }
   ],
   "source": [
    "my_string = 'EAS503'\n",
    "print(my_string.isalnum())"
   ]
  },
  {
   "cell_type": "code",
   "execution_count": 124,
   "id": "502befe6-2985-431d-8ab1-db2ac86de2f6",
   "metadata": {},
   "outputs": [
    {
     "name": "stdout",
     "output_type": "stream",
     "text": [
      "False\n"
     ]
    }
   ],
   "source": [
    "my_string = 'EAS503!!!'\n",
    "print(my_string.isalnum())"
   ]
  },
  {
   "cell_type": "code",
   "execution_count": 125,
   "id": "507894da-4cba-4de5-9635-25d0878bcdd1",
   "metadata": {},
   "outputs": [
    {
     "name": "stdout",
     "output_type": "stream",
     "text": [
      "True\n"
     ]
    }
   ],
   "source": [
    "my_string = 'EAS503'\n",
    "print(my_string.startswith('EAS'))"
   ]
  },
  {
   "cell_type": "code",
   "execution_count": 126,
   "id": "ef5a60a4-dab7-4a13-9b60-b3c44e22480d",
   "metadata": {},
   "outputs": [
    {
     "name": "stdout",
     "output_type": "stream",
     "text": [
      "False\n"
     ]
    }
   ],
   "source": [
    "my_string = 'EAS503'\n",
    "print(my_string.startswith('503'))"
   ]
  },
  {
   "cell_type": "code",
   "execution_count": 127,
   "id": "c00397be-e45a-4b08-9ade-f910a324bd83",
   "metadata": {},
   "outputs": [
    {
     "name": "stdout",
     "output_type": "stream",
     "text": [
      "True\n"
     ]
    }
   ],
   "source": [
    "my_string = 'EAS503'\n",
    "print(my_string.endswith('03'))"
   ]
  },
  {
   "cell_type": "code",
   "execution_count": null,
   "id": "ff47d837-e88c-47c7-8e58-d7e7eefc1a11",
   "metadata": {},
   "outputs": [],
   "source": [
    "\"EAS503\"\n",
    " 012345\n"
   ]
  },
  {
   "cell_type": "code",
   "execution_count": 129,
   "id": "9b2d083d-2e67-4f98-8468-33cc2b8aa52f",
   "metadata": {},
   "outputs": [
    {
     "data": {
      "text/plain": [
       "'5'"
      ]
     },
     "execution_count": 129,
     "metadata": {},
     "output_type": "execute_result"
    }
   ],
   "source": [
    "x = \"EAS503\"\n",
    "x[3]"
   ]
  },
  {
   "cell_type": "code",
   "execution_count": 130,
   "id": "af85e6ef-9e40-499a-8540-2b965189e998",
   "metadata": {},
   "outputs": [
    {
     "name": "stdout",
     "output_type": "stream",
     "text": [
      "1\n"
     ]
    }
   ],
   "source": [
    "my_string = 'ABBCCC'\n",
    "             012345\n",
    "print(my_string.find('BB'))"
   ]
  },
  {
   "cell_type": "code",
   "execution_count": 131,
   "id": "57c3cd73-a8ed-4514-90b5-1cf9fbabc171",
   "metadata": {},
   "outputs": [
    {
     "name": "stdout",
     "output_type": "stream",
     "text": [
      "3\n"
     ]
    }
   ],
   "source": [
    "print(my_string.find('CCC'))"
   ]
  },
  {
   "cell_type": "code",
   "execution_count": 132,
   "id": "5a93b7c3-e8ac-41cf-a852-d02928d4d135",
   "metadata": {},
   "outputs": [
    {
     "name": "stdout",
     "output_type": "stream",
     "text": [
      "1\n"
     ]
    }
   ],
   "source": [
    "print(my_string.find('B'))"
   ]
  },
  {
   "cell_type": "code",
   "execution_count": 133,
   "id": "80c5b7b2-f4ea-4cf8-a228-5e6de28c532b",
   "metadata": {},
   "outputs": [
    {
     "name": "stdout",
     "output_type": "stream",
     "text": [
      "-1\n"
     ]
    }
   ],
   "source": [
    "print(my_string.find('AC'))"
   ]
  },
  {
   "cell_type": "code",
   "execution_count": 134,
   "id": "9c98c9ec-e01d-4b0a-b92a-e9ac13255ec6",
   "metadata": {},
   "outputs": [
    {
     "name": "stdout",
     "output_type": "stream",
     "text": [
      "1\n",
      "1\n"
     ]
    }
   ],
   "source": [
    "my_string = 'ABBCCC'\n",
    "print(my_string.index('BB'))\n",
    "print(my_string.index('B'))"
   ]
  },
  {
   "cell_type": "code",
   "execution_count": 135,
   "id": "aabfc4ad-9317-4d8d-aee3-4a27c7bd8f5a",
   "metadata": {},
   "outputs": [
    {
     "ename": "ValueError",
     "evalue": "substring not found",
     "output_type": "error",
     "traceback": [
      "\u001b[0;31m---------------------------------------------------------------------------\u001b[0m",
      "\u001b[0;31mValueError\u001b[0m                                Traceback (most recent call last)",
      "Cell \u001b[0;32mIn[135], line 1\u001b[0m\n\u001b[0;32m----> 1\u001b[0m \u001b[38;5;28mprint\u001b[39m(\u001b[43mmy_string\u001b[49m\u001b[38;5;241;43m.\u001b[39;49m\u001b[43mindex\u001b[49m\u001b[43m(\u001b[49m\u001b[38;5;124;43m'\u001b[39;49m\u001b[38;5;124;43mAC\u001b[39;49m\u001b[38;5;124;43m'\u001b[39;49m\u001b[43m)\u001b[49m)\n",
      "\u001b[0;31mValueError\u001b[0m: substring not found"
     ]
    }
   ],
   "source": [
    "print(my_string.index('AC'))"
   ]
  },
  {
   "cell_type": "code",
   "execution_count": 136,
   "id": "8733a8ed-b8a1-41d0-bb37-6593c06a6871",
   "metadata": {},
   "outputs": [
    {
     "name": "stdout",
     "output_type": "stream",
     "text": [
      "True\n"
     ]
    }
   ],
   "source": [
    "# +, - , *, /, //, %\n",
    "# in \n",
    "my_string = 'ABBCCC'\n",
    "print('A' in my_string)"
   ]
  },
  {
   "cell_type": "code",
   "execution_count": 138,
   "id": "322d46db-f407-438a-bfc1-dae6ad791cb6",
   "metadata": {},
   "outputs": [
    {
     "name": "stdout",
     "output_type": "stream",
     "text": [
      "1\n"
     ]
    }
   ],
   "source": [
    "my_string = 'ABCBCC'\n",
    "             # 012345\n",
    "print(my_string.find('B'))"
   ]
  },
  {
   "cell_type": "code",
   "execution_count": 139,
   "id": "5e057f11-05c8-4db3-9232-bdd7b15bac72",
   "metadata": {},
   "outputs": [
    {
     "name": "stdout",
     "output_type": "stream",
     "text": [
      "True\n"
     ]
    }
   ],
   "source": [
    "my_string = 'ABBCCC'\n",
    "print('A' in my_string)"
   ]
  },
  {
   "cell_type": "code",
   "execution_count": 140,
   "id": "fe84788e-cb2b-4ace-8ba6-108d177979b4",
   "metadata": {},
   "outputs": [
    {
     "name": "stdout",
     "output_type": "stream",
     "text": [
      "False\n"
     ]
    }
   ],
   "source": [
    "my_string = 'ABBCCC'\n",
    "print('a' in my_string)"
   ]
  },
  {
   "cell_type": "code",
   "execution_count": 142,
   "id": "df2f5cb2-1620-4972-9460-bbb87090e896",
   "metadata": {},
   "outputs": [
    {
     "name": "stdout",
     "output_type": "stream",
     "text": [
      "4\n",
      "2\n",
      "1\n"
     ]
    }
   ],
   "source": [
    "my_string = 'ABBCCCC'\n",
    "print(my_string.count('C'))\n",
    "print(my_string.count('CC'))\n",
    "print(my_string.count('CCC'))"
   ]
  },
  {
   "cell_type": "code",
   "execution_count": 143,
   "id": "1f682acc-2ab1-449a-a3fa-e59adc79b1fa",
   "metadata": {},
   "outputs": [
    {
     "name": "stdout",
     "output_type": "stream",
     "text": [
      "(EAS503)\n"
     ]
    }
   ],
   "source": [
    "my_string = '(EAS503)'\n",
    "my_string.replace('(', '')\n",
    "print(my_string)"
   ]
  },
  {
   "cell_type": "code",
   "execution_count": 144,
   "id": "4942f40a-cbf0-450a-aa77-0de05bd3b23d",
   "metadata": {},
   "outputs": [
    {
     "name": "stdout",
     "output_type": "stream",
     "text": [
      "EAS503)\n"
     ]
    }
   ],
   "source": [
    "tmp1 = my_string.replace('(', '')\n",
    "print(tmp1)"
   ]
  },
  {
   "cell_type": "code",
   "execution_count": 145,
   "id": "191be29b-3d6f-4485-aff0-536df5822572",
   "metadata": {},
   "outputs": [
    {
     "name": "stdout",
     "output_type": "stream",
     "text": [
      "EAS503\n",
      "(EAS503)\n"
     ]
    }
   ],
   "source": [
    "my_string = '(EAS503)'\n",
    "print(my_string.replace('(', '').replace(')', ''))\n",
    "print(my_string)"
   ]
  },
  {
   "cell_type": "code",
   "execution_count": 146,
   "id": "f141e98b-59e6-4b37-a023-6259b9c41668",
   "metadata": {},
   "outputs": [
    {
     "data": {
      "text/plain": [
       "'00EAS503'"
      ]
     },
     "execution_count": 146,
     "metadata": {},
     "output_type": "execute_result"
    }
   ],
   "source": [
    "my_string = 'EAS503'\n",
    "my_string.zfill(8)"
   ]
  },
  {
   "cell_type": "code",
   "execution_count": 148,
   "id": "cddcd5b2-f7a0-443d-8a4f-8908d071143f",
   "metadata": {},
   "outputs": [
    {
     "data": {
      "text/plain": [
       "'1900192419501990'"
      ]
     },
     "execution_count": 148,
     "metadata": {},
     "output_type": "execute_result"
    }
   ],
   "source": [
    "years = ('1900', '1924', '1950', '1990')\n",
    "''.join((years))"
   ]
  },
  {
   "cell_type": "code",
   "execution_count": 149,
   "id": "67964967-6e03-490f-a740-221f40dd2ad4",
   "metadata": {},
   "outputs": [
    {
     "data": {
      "text/plain": [
       "'1900, 1924, 1950, 1990'"
      ]
     },
     "execution_count": 149,
     "metadata": {},
     "output_type": "execute_result"
    }
   ],
   "source": [
    "years = ('1900', '1924', '1950', '1990')\n",
    "', '.join((years))"
   ]
  },
  {
   "cell_type": "code",
   "execution_count": 150,
   "id": "cd5e6b0a-f305-4c43-980a-913822af7175",
   "metadata": {},
   "outputs": [
    {
     "ename": "TypeError",
     "evalue": "sequence item 3: expected str instance, int found",
     "output_type": "error",
     "traceback": [
      "\u001b[0;31m---------------------------------------------------------------------------\u001b[0m",
      "\u001b[0;31mTypeError\u001b[0m                                 Traceback (most recent call last)",
      "Cell \u001b[0;32mIn[150], line 2\u001b[0m\n\u001b[1;32m      1\u001b[0m years \u001b[38;5;241m=\u001b[39m (\u001b[38;5;124m'\u001b[39m\u001b[38;5;124m1900\u001b[39m\u001b[38;5;124m'\u001b[39m, \u001b[38;5;124m'\u001b[39m\u001b[38;5;124m1924\u001b[39m\u001b[38;5;124m'\u001b[39m, \u001b[38;5;124m'\u001b[39m\u001b[38;5;124m1950\u001b[39m\u001b[38;5;124m'\u001b[39m, \u001b[38;5;241m1990\u001b[39m)\n\u001b[0;32m----> 2\u001b[0m \u001b[38;5;124;43m'\u001b[39;49m\u001b[38;5;124;43m, \u001b[39;49m\u001b[38;5;124;43m'\u001b[39;49m\u001b[38;5;241;43m.\u001b[39;49m\u001b[43mjoin\u001b[49m\u001b[43m(\u001b[49m\u001b[43myears\u001b[49m\u001b[43m)\u001b[49m\n",
      "\u001b[0;31mTypeError\u001b[0m: sequence item 3: expected str instance, int found"
     ]
    }
   ],
   "source": [
    "years = ('1900', '1924', '1950', 1990)\n",
    "', '.join(years)"
   ]
  },
  {
   "cell_type": "code",
   "execution_count": 151,
   "id": "82f7c0bb-35e3-4a21-aa10-1cbfff29b0bf",
   "metadata": {},
   "outputs": [
    {
     "name": "stdout",
     "output_type": "stream",
     "text": [
      "They'll hibernate during the winter.\n"
     ]
    }
   ],
   "source": [
    "x = \"They'll hibernate during the winter.\"\n",
    "print(x)"
   ]
  },
  {
   "cell_type": "code",
   "execution_count": 152,
   "id": "8544083d-f00a-4737-b593-1c2a6388a541",
   "metadata": {},
   "outputs": [
    {
     "name": "stdout",
     "output_type": "stream",
     "text": [
      "\"Absolutely not,\" he said.\n"
     ]
    }
   ],
   "source": [
    "x = '\"Absolutely not,\" he said.'\n",
    "print(x)"
   ]
  },
  {
   "cell_type": "code",
   "execution_count": 154,
   "id": "83d03651-1571-4721-a047-b89f5524f11f",
   "metadata": {},
   "outputs": [
    {
     "ename": "SyntaxError",
     "evalue": "unexpected character after line continuation character (2804808497.py, line 1)",
     "output_type": "error",
     "traceback": [
      "\u001b[0;36m  Cell \u001b[0;32mIn[154], line 1\u001b[0;36m\u001b[0m\n\u001b[0;31m    x = \"\\\"Absolutely not,\"  \\ he said.\"\u001b[0m\n\u001b[0m                              ^\u001b[0m\n\u001b[0;31mSyntaxError\u001b[0m\u001b[0;31m:\u001b[0m unexpected character after line continuation character\n"
     ]
    }
   ],
   "source": [
    "x = \"\\\"Absolutely not,\"  \\ he said.\"\n",
    "print(x)"
   ]
  },
  {
   "cell_type": "code",
   "execution_count": 155,
   "id": "187447d5-6a6f-4bf7-9a0a-d9873155e50a",
   "metadata": {},
   "outputs": [
    {
     "name": "stdout",
     "output_type": "stream",
     "text": [
      "\"He said, 'Absolutely not,'\" recalled Mel.\n"
     ]
    }
   ],
   "source": [
    "x = \"\\\"He said, 'Absolutely not,'\\\" recalled Mel.\"\n",
    "print(x)"
   ]
  },
  {
   "cell_type": "code",
   "execution_count": 156,
   "id": "06d78ac7-85ef-434a-9f5e-6e46356d0ed9",
   "metadata": {},
   "outputs": [
    {
     "name": "stdout",
     "output_type": "stream",
     "text": [
      "\"He said, 'Absolutely not,'\" recalled Mel.\n"
     ]
    }
   ],
   "source": [
    "x = '\\\"He said, \\'Absolutely not,\\'\" recalled Mel.'\n",
    "print(x)"
   ]
  },
  {
   "cell_type": "code",
   "execution_count": 158,
   "id": "015fe04b-58e3-487e-95bc-d34bb5908052",
   "metadata": {},
   "outputs": [
    {
     "name": "stdout",
     "output_type": "stream",
     "text": [
      "left\\right.\n"
     ]
    }
   ],
   "source": [
    "def prt():\n",
    "    print(\"left\\right.\")\n",
    "\n",
    "prt()"
   ]
  }
 ],
 "metadata": {
  "kernelspec": {
   "display_name": "Python 3 (ipykernel)",
   "language": "python",
   "name": "python3"
  },
  "language_info": {
   "codemirror_mode": {
    "name": "ipython",
    "version": 3
   },
   "file_extension": ".py",
   "mimetype": "text/x-python",
   "name": "python",
   "nbconvert_exporter": "python",
   "pygments_lexer": "ipython3",
   "version": "3.12.4"
  }
 },
 "nbformat": 4,
 "nbformat_minor": 5
}
