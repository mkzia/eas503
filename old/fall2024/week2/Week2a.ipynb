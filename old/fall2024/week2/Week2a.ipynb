{
 "cells": [
  {
   "cell_type": "code",
   "execution_count": null,
   "id": "155cb94c-6565-4aa9-9de8-9581fed8e765",
   "metadata": {},
   "outputs": [],
   "source": [
    "Happy birthday to you!!!\n",
    "Happy birthday to you!!!\n",
    "Happy birthday, dear John\n",
    "Happy birthday to you!\n",
    "Happy birthday to you!"
   ]
  },
  {
   "cell_type": "code",
   "execution_count": 4,
   "id": "845bb470-ff4f-40d6-b7a3-2493cea51ba5",
   "metadata": {},
   "outputs": [
    {
     "name": "stdout",
     "output_type": "stream",
     "text": [
      "Happy birthday to you!!!\n",
      "Happy birthday to you!!!\n",
      "Happy birthday, dear John\n",
      "Happy birthday to you!\n",
      "Happy birthday to you!\n",
      "None\n"
     ]
    }
   ],
   "source": [
    "def print_birthday1():\n",
    "    msg = \"\"\"Happy birthday to you!!!\n",
    "Happy birthday to you!!!\n",
    "Happy birthday, dear John\n",
    "Happy birthday to you!\n",
    "Happy birthday to you!\"\"\"\n",
    "    print(msg)\n",
    "\n",
    "ret_val = print_birthday()\n",
    "print(ret_val)"
   ]
  },
  {
   "cell_type": "code",
   "execution_count": 9,
   "id": "98ce6ff9-d145-4346-91a1-23635bd5551e",
   "metadata": {},
   "outputs": [
    {
     "name": "stdout",
     "output_type": "stream",
     "text": [
      "Happy birthday to you!!!!\n",
      "Happy birthday to you!!!!\n",
      "Happy birthday, dear John\n",
      "Happy birthday to you!\n",
      "Happy birthday to you!\n"
     ]
    }
   ],
   "source": [
    "def printbd3():\n",
    "    print(\"Happy birthday to you!!!!\")\n",
    "    print(\"Happy birthday to you!!!!\")\n",
    "\n",
    "def printbd1():\n",
    "    print(\"Happy birthday to you!\")\n",
    "    print(\"Happy birthday to you!\")\n",
    "    \n",
    "\n",
    "def print_birthday1():\n",
    "    printbd3()\n",
    "    print(\"Happy birthday, dear John\")\n",
    "    printbd1()\n",
    "\n",
    "print_birthday1()"
   ]
  },
  {
   "cell_type": "code",
   "execution_count": 10,
   "id": "be371cd8-642e-4e8e-9f29-b2165e6c2dd2",
   "metadata": {},
   "outputs": [],
   "source": [
    "def print_birthday1(name):\n",
    "    printbd3()\n",
    "    print(\"Happy birthday, dear \" + name)\n",
    "    printbd1()"
   ]
  },
  {
   "cell_type": "code",
   "execution_count": 11,
   "id": "a4209434-5786-45bc-b4b9-68d5f6318030",
   "metadata": {},
   "outputs": [
    {
     "name": "stdout",
     "output_type": "stream",
     "text": [
      "Happy birthday to you!!!!\n",
      "Happy birthday to you!!!!\n",
      "Happy birthday, dear John\n",
      "Happy birthday to you!\n",
      "Happy birthday to you!\n"
     ]
    }
   ],
   "source": [
    "print_birthday1(\"John\")"
   ]
  },
  {
   "cell_type": "code",
   "execution_count": 12,
   "id": "caa6a951-1029-45cc-bb17-98d05a9f0fcf",
   "metadata": {},
   "outputs": [
    {
     "name": "stdout",
     "output_type": "stream",
     "text": [
      "Happy birthday to you!!!!\n",
      "Happy birthday to you!!!!\n",
      "Happy birthday, dear Jane\n",
      "Happy birthday to you!\n",
      "Happy birthday to you!\n"
     ]
    }
   ],
   "source": [
    "print_birthday1(\"Jane\")"
   ]
  },
  {
   "cell_type": "code",
   "execution_count": 13,
   "id": "39255d6f-2913-4762-a1a2-8c0353f1b63d",
   "metadata": {},
   "outputs": [
    {
     "name": "stdout",
     "output_type": "stream",
     "text": [
      "Hello World!\n"
     ]
    }
   ],
   "source": [
    "def func_var1():\n",
    "    print(\"Hello World!\")\n",
    "\n",
    "func_var1()"
   ]
  },
  {
   "cell_type": "code",
   "execution_count": 14,
   "id": "d09dfdbb-37f9-48a5-9e90-66ff567dc2c3",
   "metadata": {},
   "outputs": [
    {
     "name": "stdout",
     "output_type": "stream",
     "text": [
      "1 2\n"
     ]
    }
   ],
   "source": [
    "ret_val = print(1, 2)"
   ]
  },
  {
   "cell_type": "code",
   "execution_count": 17,
   "id": "3298c92b-2906-492c-a41e-699108b11678",
   "metadata": {},
   "outputs": [
    {
     "name": "stdout",
     "output_type": "stream",
     "text": [
      "None\n"
     ]
    }
   ],
   "source": [
    "print(ret_val)"
   ]
  },
  {
   "cell_type": "code",
   "execution_count": 18,
   "id": "ca19dc2b-bf17-402b-9d90-ca93c7255dd5",
   "metadata": {},
   "outputs": [
    {
     "data": {
      "text/plain": [
       "12"
      ]
     },
     "execution_count": 18,
     "metadata": {},
     "output_type": "execute_result"
    }
   ],
   "source": [
    "def add(x,y):\n",
    "    return x + y\n",
    "\n",
    "add(10, 2)"
   ]
  },
  {
   "cell_type": "code",
   "execution_count": 21,
   "id": "dfc3f271-210d-41ca-b020-3269027c8e29",
   "metadata": {},
   "outputs": [
    {
     "data": {
      "text/plain": [
       "2"
      ]
     },
     "execution_count": 21,
     "metadata": {},
     "output_type": "execute_result"
    }
   ],
   "source": [
    "def ret2():\n",
    "    return 2\n",
    "\n",
    "ret2()"
   ]
  },
  {
   "cell_type": "code",
   "execution_count": 22,
   "id": "13861cb9-bd55-4003-af12-93f1c44bea7d",
   "metadata": {},
   "outputs": [
    {
     "data": {
      "text/plain": [
       "6.0"
      ]
     },
     "execution_count": 22,
     "metadata": {},
     "output_type": "execute_result"
    }
   ],
   "source": [
    "def quadratic(a, b, c, x):\n",
    "    \"\"\"ax^2 + bx + c\"\"\"\n",
    "    first = a * x ** 2\n",
    "    second = b * x\n",
    "    third = c\n",
    "    return first + second + third\n",
    "\n",
    "\n",
    "quadratic(2, 3, 4, 0.5)\n"
   ]
  },
  {
   "cell_type": "code",
   "execution_count": 24,
   "id": "bbc0fb2d-b4b8-409c-af5d-02b18282b95d",
   "metadata": {},
   "outputs": [
    {
     "ename": "NameError",
     "evalue": "name 'a' is not defined",
     "output_type": "error",
     "traceback": [
      "\u001b[0;31m---------------------------------------------------------------------------\u001b[0m",
      "\u001b[0;31mNameError\u001b[0m                                 Traceback (most recent call last)",
      "Cell \u001b[0;32mIn[24], line 1\u001b[0m\n\u001b[0;32m----> 1\u001b[0m \u001b[38;5;28mprint\u001b[39m(\u001b[43ma\u001b[49m)\n",
      "\u001b[0;31mNameError\u001b[0m: name 'a' is not defined"
     ]
    }
   ],
   "source": [
    "print(a)"
   ]
  },
  {
   "cell_type": "code",
   "execution_count": 25,
   "id": "0449bc2a-ad99-4aff-be4c-257d4a747690",
   "metadata": {},
   "outputs": [
    {
     "data": {
      "text/plain": [
       "7.0"
      ]
     },
     "execution_count": 25,
     "metadata": {},
     "output_type": "execute_result"
    }
   ],
   "source": [
    "y = 1\n",
    "def quadratic(a, b, c, x):\n",
    "    \"\"\"ax^2 + bx + c\"\"\"\n",
    "    first = a * pow(x, 2) ## Changed\n",
    "    second = b * x\n",
    "    third = c\n",
    "    return first + second + third + y\n",
    "quadratic(2, 3, 4, 0.5)\n"
   ]
  },
  {
   "cell_type": "code",
   "execution_count": 28,
   "id": "621d12ff-1831-41cb-8698-10941bdd90be",
   "metadata": {},
   "outputs": [
    {
     "name": "stdout",
     "output_type": "stream",
     "text": [
      "4\n"
     ]
    }
   ],
   "source": [
    "def x2(x):\n",
    "    def x3():\n",
    "        return x ** x \n",
    "    return x3()\n",
    "\n",
    "print(x2(2))"
   ]
  },
  {
   "cell_type": "code",
   "execution_count": 30,
   "id": "bbc9de51-9ab3-46ad-9f12-cd6889985c5f",
   "metadata": {},
   "outputs": [
    {
     "data": {
      "text/plain": [
       "234"
      ]
     },
     "execution_count": 30,
     "metadata": {},
     "output_type": "execute_result"
    }
   ],
   "source": [
    "y = 1\n",
    "def quadratic(a, b, c, X):\n",
    "    \"\"\"ax^2 + bx + c\"\"\"\n",
    "    first = a * pow(x, 2) ## Changed\n",
    "    second = b * x\n",
    "    third = c\n",
    "    return first + second + third \n",
    "\n",
    "a = 2\n",
    "b = 3\n",
    "c = 4\n",
    "x = 10\n",
    "X = 0.5\n",
    "quadratic(a, b, c, X)"
   ]
  },
  {
   "cell_type": "code",
   "execution_count": 33,
   "id": "1bee0c68-af46-4799-b581-52530d548e5a",
   "metadata": {},
   "outputs": [],
   "source": [
    "x = \"string\"\n",
    "x = 'string1232@---sfkjs!!!'"
   ]
  },
  {
   "cell_type": "code",
   "execution_count": 34,
   "id": "1ab1d1f3-79b1-4763-88d6-57be16ab45c3",
   "metadata": {},
   "outputs": [
    {
     "data": {
      "text/plain": [
       "22"
      ]
     },
     "execution_count": 34,
     "metadata": {},
     "output_type": "execute_result"
    }
   ],
   "source": [
    "len(x)"
   ]
  },
  {
   "cell_type": "code",
   "execution_count": 35,
   "id": "dc3e85c7-1f59-48ac-9fce-853ad87e5319",
   "metadata": {},
   "outputs": [
    {
     "data": {
      "text/plain": [
       "3"
      ]
     },
     "execution_count": 35,
     "metadata": {},
     "output_type": "execute_result"
    }
   ],
   "source": [
    "1 + 2"
   ]
  },
  {
   "cell_type": "code",
   "execution_count": 37,
   "id": "7ee51e49-e93e-41ec-909e-eb6d543f9f81",
   "metadata": {},
   "outputs": [
    {
     "data": {
      "text/plain": [
       "'string1string1'"
      ]
     },
     "execution_count": 37,
     "metadata": {},
     "output_type": "execute_result"
    }
   ],
   "source": [
    "x = \"string1\"\n",
    "x + x"
   ]
  },
  {
   "cell_type": "code",
   "execution_count": 38,
   "id": "0e4b2dcd-2cce-4341-ac37-41a2d8629141",
   "metadata": {},
   "outputs": [
    {
     "data": {
      "text/plain": [
       "'JohnDoe'"
      ]
     },
     "execution_count": 38,
     "metadata": {},
     "output_type": "execute_result"
    }
   ],
   "source": [
    "first_name = 'John'\n",
    "last_name = 'Doe'\n",
    "\n",
    "first_name + last_name"
   ]
  },
  {
   "cell_type": "code",
   "execution_count": 39,
   "id": "ff2a9c2c-4343-4644-a63b-bcc435030294",
   "metadata": {},
   "outputs": [
    {
     "data": {
      "text/plain": [
       "'John Doe'"
      ]
     },
     "execution_count": 39,
     "metadata": {},
     "output_type": "execute_result"
    }
   ],
   "source": [
    "first_name + ' ' + last_name"
   ]
  },
  {
   "cell_type": "code",
   "execution_count": 40,
   "id": "72d1172c-19c2-47cc-98f6-58c647047bf7",
   "metadata": {},
   "outputs": [
    {
     "ename": "TypeError",
     "evalue": "can only concatenate str (not \"int\") to str",
     "output_type": "error",
     "traceback": [
      "\u001b[0;31m---------------------------------------------------------------------------\u001b[0m",
      "\u001b[0;31mTypeError\u001b[0m                                 Traceback (most recent call last)",
      "Cell \u001b[0;32mIn[40], line 1\u001b[0m\n\u001b[0;32m----> 1\u001b[0m \u001b[43mfirst_name\u001b[49m\u001b[43m \u001b[49m\u001b[38;5;241;43m+\u001b[39;49m\u001b[43m \u001b[49m\u001b[38;5;241;43m1\u001b[39;49m\n",
      "\u001b[0;31mTypeError\u001b[0m: can only concatenate str (not \"int\") to str"
     ]
    }
   ],
   "source": [
    "first_name + 1"
   ]
  },
  {
   "cell_type": "code",
   "execution_count": 41,
   "id": "4fa6ad25-ab07-470b-8a19-3a06d366044c",
   "metadata": {},
   "outputs": [
    {
     "ename": "TypeError",
     "evalue": "unsupported operand type(s) for +: 'int' and 'str'",
     "output_type": "error",
     "traceback": [
      "\u001b[0;31m---------------------------------------------------------------------------\u001b[0m",
      "\u001b[0;31mTypeError\u001b[0m                                 Traceback (most recent call last)",
      "Cell \u001b[0;32mIn[41], line 1\u001b[0m\n\u001b[0;32m----> 1\u001b[0m \u001b[38;5;241;43m1\u001b[39;49m\u001b[43m \u001b[49m\u001b[38;5;241;43m+\u001b[39;49m\u001b[43m \u001b[49m\u001b[43mfirst_name\u001b[49m\n",
      "\u001b[0;31mTypeError\u001b[0m: unsupported operand type(s) for +: 'int' and 'str'"
     ]
    }
   ],
   "source": [
    " 1 + first_name"
   ]
  },
  {
   "cell_type": "code",
   "execution_count": 42,
   "id": "5254c3d8-d6b0-4b90-869b-0ff85ca3c869",
   "metadata": {},
   "outputs": [
    {
     "data": {
      "text/plain": [
       "9"
      ]
     },
     "execution_count": 42,
     "metadata": {},
     "output_type": "execute_result"
    }
   ],
   "source": [
    "3 * 3"
   ]
  },
  {
   "cell_type": "code",
   "execution_count": 47,
   "id": "ce59e394-1d46-4050-bfc4-9e1a8bc2e605",
   "metadata": {},
   "outputs": [
    {
     "name": "stdout",
     "output_type": "stream",
     "text": [
      "--------------------------------------------------------------------------------\n",
      "Hello\n",
      "--------------------------------------------------------------------------------\n"
     ]
    }
   ],
   "source": [
    "multi = 80\n",
    "print('-'*multi)\n",
    "print('Hello')\n",
    "print('-'*multi)"
   ]
  },
  {
   "cell_type": "code",
   "execution_count": 48,
   "id": "cb5d3750-2d7d-478b-b667-3afa5c71de55",
   "metadata": {},
   "outputs": [
    {
     "name": "stdout",
     "output_type": "stream",
     "text": [
      "strblah\n"
     ]
    }
   ],
   "source": [
    "x = 1\n",
    "x += 1 # x = x + 1\n",
    "\n",
    "x = 'str'\n",
    "x += 'blah' # 'str' + 'blah'\n",
    "print(x)"
   ]
  },
  {
   "cell_type": "code",
   "execution_count": 52,
   "id": "473f84ac-e5e6-455d-9c87-7671122f778a",
   "metadata": {},
   "outputs": [
    {
     "name": "stdout",
     "output_type": "stream",
     "text": [
      "Should you want a string\n",
      "    that crosses multiple lines,\n",
      "  Use matched triple quotes.\n",
      "\n",
      "  sd\n",
      "  \n",
      "\n"
     ]
    }
   ],
   "source": [
    "print('''Should you want a string\n",
    "    that crosses multiple lines,\n",
    "  Use matched triple quotes.\n",
    "\n",
    "  sd\n",
    "  \n",
    "''')"
   ]
  },
  {
   "cell_type": "code",
   "execution_count": 53,
   "id": "b8e0f913-c88d-4ddf-b873-46fc40ce7421",
   "metadata": {},
   "outputs": [
    {
     "name": "stdout",
     "output_type": "stream",
     "text": [
      "abbcd 2 3\n"
     ]
    }
   ],
   "source": [
    "print('abbcd', 2, 3)"
   ]
  },
  {
   "cell_type": "code",
   "execution_count": 59,
   "id": "b90733c5-f2ef-4789-935b-7fbc6acdf8a4",
   "metadata": {},
   "outputs": [
    {
     "name": "stdout",
     "output_type": "stream",
     "text": [
      "abbcd$$$$2$$$$3\n"
     ]
    }
   ],
   "source": [
    "print('abbcd', 2, 3, sep='$$$$') # default separator is space"
   ]
  },
  {
   "cell_type": "code",
   "execution_count": 60,
   "id": "47c0f6ed-803d-4786-8d82-fac40dd245f6",
   "metadata": {},
   "outputs": [
    {
     "ename": "TypeError",
     "evalue": "can only concatenate str (not \"int\") to str",
     "output_type": "error",
     "traceback": [
      "\u001b[0;31m---------------------------------------------------------------------------\u001b[0m",
      "\u001b[0;31mTypeError\u001b[0m                                 Traceback (most recent call last)",
      "Cell \u001b[0;32mIn[60], line 1\u001b[0m\n\u001b[0;32m----> 1\u001b[0m \u001b[38;5;124;43m'\u001b[39;49m\u001b[38;5;124;43mNH\u001b[39;49m\u001b[38;5;124;43m'\u001b[39;49m\u001b[43m \u001b[49m\u001b[38;5;241;43m+\u001b[39;49m\u001b[43m \u001b[49m\u001b[38;5;241;43m3\u001b[39;49m \u001b[38;5;66;03m# This will not work. You cannot add a str and int type. \u001b[39;00m\n",
      "\u001b[0;31mTypeError\u001b[0m: can only concatenate str (not \"int\") to str"
     ]
    }
   ],
   "source": [
    "'NH' + 3 # This will not work. You cannot add a str and int type. "
   ]
  },
  {
   "cell_type": "code",
   "execution_count": 62,
   "id": "b1361f15-2987-4f94-bfd5-dcf22d8ca42e",
   "metadata": {},
   "outputs": [
    {
     "ename": "TypeError",
     "evalue": "can only concatenate str (not \"int\") to str",
     "output_type": "error",
     "traceback": [
      "\u001b[0;31m---------------------------------------------------------------------------\u001b[0m",
      "\u001b[0;31mTypeError\u001b[0m                                 Traceback (most recent call last)",
      "Cell \u001b[0;32mIn[62], line 1\u001b[0m\n\u001b[0;32m----> 1\u001b[0m \u001b[38;5;124;43m'\u001b[39;49m\u001b[38;5;124;43mFour score and \u001b[39;49m\u001b[38;5;124;43m'\u001b[39;49m\u001b[43m \u001b[49m\u001b[38;5;241;43m+\u001b[39;49m\u001b[43m \u001b[49m\u001b[38;5;241;43m7\u001b[39;49m \u001b[38;5;241m+\u001b[39m \u001b[38;5;124m'\u001b[39m\u001b[38;5;124m years ago\u001b[39m\u001b[38;5;124m'\u001b[39m\n",
      "\u001b[0;31mTypeError\u001b[0m: can only concatenate str (not \"int\") to str"
     ]
    }
   ],
   "source": [
    "'Four score and ' + 7 + ' years ago'"
   ]
  },
  {
   "cell_type": "code",
   "execution_count": 63,
   "id": "790828a3-41ee-4f15-babc-195761e17770",
   "metadata": {},
   "outputs": [
    {
     "data": {
      "text/plain": [
       "'Four score and 7 years ago'"
      ]
     },
     "execution_count": 63,
     "metadata": {},
     "output_type": "execute_result"
    }
   ],
   "source": [
    "'Four score and ' + str(7) + ' years ago'"
   ]
  },
  {
   "cell_type": "code",
   "execution_count": 64,
   "id": "96b6095d-7e5b-4647-92df-04f23a9f865d",
   "metadata": {},
   "outputs": [
    {
     "ename": "ValueError",
     "evalue": "invalid literal for int() with base 10: '-324.0'",
     "output_type": "error",
     "traceback": [
      "\u001b[0;31m---------------------------------------------------------------------------\u001b[0m",
      "\u001b[0;31mValueError\u001b[0m                                Traceback (most recent call last)",
      "Cell \u001b[0;32mIn[64], line 1\u001b[0m\n\u001b[0;32m----> 1\u001b[0m \u001b[38;5;28;43mint\u001b[39;49m\u001b[43m(\u001b[49m\u001b[38;5;124;43m'\u001b[39;49m\u001b[38;5;124;43m-324.0\u001b[39;49m\u001b[38;5;124;43m'\u001b[39;49m\u001b[43m)\u001b[49m\n",
      "\u001b[0;31mValueError\u001b[0m: invalid literal for int() with base 10: '-324.0'"
     ]
    }
   ],
   "source": [
    "int('-324.0')"
   ]
  },
  {
   "cell_type": "code",
   "execution_count": 66,
   "id": "b71403c1-c765-4c32-9878-bfda42797e31",
   "metadata": {},
   "outputs": [
    {
     "data": {
      "text/plain": [
       "3.1415"
      ]
     },
     "execution_count": 66,
     "metadata": {},
     "output_type": "execute_result"
    }
   ],
   "source": [
    "float('3.1415')"
   ]
  },
  {
   "cell_type": "code",
   "execution_count": 67,
   "id": "71846f58-b3b4-4355-a403-925bcc02dcaa",
   "metadata": {},
   "outputs": [
    {
     "ename": "ValueError",
     "evalue": "could not convert string to float: '127.0.0.1'",
     "output_type": "error",
     "traceback": [
      "\u001b[0;31m---------------------------------------------------------------------------\u001b[0m",
      "\u001b[0;31mValueError\u001b[0m                                Traceback (most recent call last)",
      "Cell \u001b[0;32mIn[67], line 1\u001b[0m\n\u001b[0;32m----> 1\u001b[0m \u001b[38;5;28;43mfloat\u001b[39;49m\u001b[43m(\u001b[49m\u001b[38;5;124;43m'\u001b[39;49m\u001b[38;5;124;43m127.0.0.1\u001b[39;49m\u001b[38;5;124;43m'\u001b[39;49m\u001b[43m)\u001b[49m\n",
      "\u001b[0;31mValueError\u001b[0m: could not convert string to float: '127.0.0.1'"
     ]
    }
   ],
   "source": [
    "float('127.0.0.1')"
   ]
  },
  {
   "cell_type": "code",
   "execution_count": 69,
   "id": "8ff0cf86-0bbb-4eb6-8c66-47481a401ce2",
   "metadata": {},
   "outputs": [
    {
     "name": "stdout",
     "output_type": "stream",
     "text": [
      "My Name is: John Doe\n",
      "SSN:111-22-3333\n",
      "Cell:716-845-4444\n"
     ]
    }
   ],
   "source": [
    "x = 'My Name is: John Doe\\nSSN:111-22-3333\\nCell:716-845-4444'\n",
    "print(x)"
   ]
  },
  {
   "cell_type": "code",
   "execution_count": 70,
   "id": "17e2bb9a-e203-4af1-8b02-40a662bb34bd",
   "metadata": {},
   "outputs": [
    {
     "ename": "SyntaxError",
     "evalue": "unterminated string literal (detected at line 1) (86430801.py, line 1)",
     "output_type": "error",
     "traceback": [
      "\u001b[0;36m  Cell \u001b[0;32mIn[70], line 1\u001b[0;36m\u001b[0m\n\u001b[0;31m    'He said, \"they can't do this\"'\u001b[0m\n\u001b[0m                                 ^\u001b[0m\n\u001b[0;31mSyntaxError\u001b[0m\u001b[0;31m:\u001b[0m unterminated string literal (detected at line 1)\n"
     ]
    }
   ],
   "source": [
    "'He said, \"they can't do this\"'\n"
   ]
  },
  {
   "cell_type": "code",
   "execution_count": 72,
   "id": "cd1459a6-be00-4afe-82fc-44fbcca0b2bf",
   "metadata": {},
   "outputs": [],
   "source": [
    "x = 'He said, \"they can\\'t do this\"'"
   ]
  },
  {
   "cell_type": "code",
   "execution_count": 73,
   "id": "ed37c792-0e54-4c48-aaba-e9162d3c1aca",
   "metadata": {},
   "outputs": [
    {
     "name": "stdout",
     "output_type": "stream",
     "text": [
      "He said, \"they can't do this\"\n"
     ]
    }
   ],
   "source": [
    "print(x)"
   ]
  },
  {
   "cell_type": "code",
   "execution_count": 75,
   "id": "26bdce0e-3840-4d50-ace5-bcfc5b2338d8",
   "metadata": {},
   "outputs": [
    {
     "data": {
      "text/plain": [
       "'He said, \"they can\\'t do this\"'"
      ]
     },
     "execution_count": 75,
     "metadata": {},
     "output_type": "execute_result"
    }
   ],
   "source": [
    "x"
   ]
  },
  {
   "cell_type": "code",
   "execution_count": 76,
   "id": "789ca309-c9b7-4eb3-9eac-ea58b7eb30e4",
   "metadata": {},
   "outputs": [
    {
     "name": "stdout",
     "output_type": "stream",
     "text": [
      "He said, \"they can't do this\"\n"
     ]
    }
   ],
   "source": [
    "print(x)"
   ]
  },
  {
   "cell_type": "code",
   "execution_count": 77,
   "id": "6eab7ef1-818e-4bea-941d-32b10865165e",
   "metadata": {},
   "outputs": [
    {
     "name": "stdout",
     "output_type": "stream",
     "text": [
      "col1\tcol\tcol3\n"
     ]
    }
   ],
   "source": [
    "x = 'col1\\tcol\\tcol3'\n",
    "print(x)"
   ]
  },
  {
   "cell_type": "code",
   "execution_count": 79,
   "id": "fef6b9bf-4710-4121-b01a-ee07f380e991",
   "metadata": {},
   "outputs": [
    {
     "name": "stdout",
     "output_type": "stream",
     "text": [
      "/\\/\\\n"
     ]
    }
   ],
   "source": [
    "\n",
    "print('/\\\\/\\\\')"
   ]
  },
  {
   "cell_type": "code",
   "execution_count": 80,
   "id": "0c08ec90-4539-44b7-89f2-aa77e6adfdd1",
   "metadata": {},
   "outputs": [
    {
     "name": "stdout",
     "output_type": "stream",
     "text": [
      "blahblah\n"
     ]
    }
   ],
   "source": [
    "print('blahblah')"
   ]
  },
  {
   "cell_type": "code",
   "execution_count": 81,
   "id": "fac3466e-bc07-483c-8050-b6d91cc05767",
   "metadata": {},
   "outputs": [
    {
     "name": "stdin",
     "output_type": "stream",
     "text": [
      "Please enter a number:  99\n"
     ]
    }
   ],
   "source": [
    "number = input('Please enter a number: ')"
   ]
  },
  {
   "cell_type": "code",
   "execution_count": 82,
   "id": "abfe774c-aedf-48aa-9315-d5fe37870e46",
   "metadata": {},
   "outputs": [
    {
     "data": {
      "text/plain": [
       "str"
      ]
     },
     "execution_count": 82,
     "metadata": {},
     "output_type": "execute_result"
    }
   ],
   "source": [
    "type(number)"
   ]
  },
  {
   "cell_type": "code",
   "execution_count": 83,
   "id": "0aefe526-8750-40be-83e7-5d801e369c33",
   "metadata": {},
   "outputs": [
    {
     "name": "stdin",
     "output_type": "stream",
     "text": [
      "Please enter a number: haha kjsdkjkfjsdfl\n"
     ]
    }
   ],
   "source": [
    "number = input('Please enter a number: haha')"
   ]
  },
  {
   "cell_type": "code",
   "execution_count": 84,
   "id": "11b1cbb1-8168-41c2-b4ba-7b3f5e7c1f32",
   "metadata": {},
   "outputs": [
    {
     "data": {
      "text/plain": [
       "'kjsdkjkfjsdfl'"
      ]
     },
     "execution_count": 84,
     "metadata": {},
     "output_type": "execute_result"
    }
   ],
   "source": [
    "number"
   ]
  },
  {
   "cell_type": "code",
   "execution_count": 86,
   "id": "5e02bb6f-bf4e-48f4-ac7a-c73ad94647d1",
   "metadata": {},
   "outputs": [
    {
     "name": "stdin",
     "output_type": "stream",
     "text": [
      "Please enter a number:  3\n"
     ]
    },
    {
     "name": "stdout",
     "output_type": "stream",
     "text": [
      "3333\n"
     ]
    }
   ],
   "source": [
    "number = input('Please enter a number: ')\n",
    "\n",
    "print(number * 4)"
   ]
  },
  {
   "cell_type": "code",
   "execution_count": 87,
   "id": "6c25e8fe-df6f-4750-ab82-d146621d039f",
   "metadata": {},
   "outputs": [
    {
     "name": "stdin",
     "output_type": "stream",
     "text": [
      "Please enter a number:  3\n"
     ]
    },
    {
     "name": "stdout",
     "output_type": "stream",
     "text": [
      "12\n"
     ]
    }
   ],
   "source": [
    "number = input('Please enter a number: ')\n",
    "number = int(number)\n",
    "print(number * 4)"
   ]
  },
  {
   "cell_type": "code",
   "execution_count": 88,
   "id": "8080258e-2f8f-4e67-84c4-693df4f5e328",
   "metadata": {},
   "outputs": [
    {
     "name": "stdin",
     "output_type": "stream",
     "text": [
      " wq334\n"
     ]
    }
   ],
   "source": [
    "number = input('')"
   ]
  },
  {
   "cell_type": "code",
   "execution_count": 92,
   "id": "e9e8604d-1b81-4b59-a995-7d0fad116999",
   "metadata": {},
   "outputs": [],
   "source": [
    "def convert_celsius():\n",
    "    fahrenheit = float(input('Please enter temperature in Fahrenheit: '))\n",
    "    celsius =  (fahrenheit - 32.0) * 5.0 / 9.0  \n",
    "    print('The temperature in celsius is: ', celsius) "
   ]
  },
  {
   "cell_type": "code",
   "execution_count": 93,
   "id": "18fe064e-1679-4027-8f64-e984a7b0c44a",
   "metadata": {},
   "outputs": [
    {
     "name": "stdin",
     "output_type": "stream",
     "text": [
      "Please enter temperature in Fahrenheit:  78.6\n"
     ]
    },
    {
     "name": "stdout",
     "output_type": "stream",
     "text": [
      "The temperature in celsius is:  25.888888888888886\n"
     ]
    }
   ],
   "source": [
    "convert_celsius()"
   ]
  },
  {
   "cell_type": "code",
   "execution_count": 94,
   "id": "eab4c986-5a4e-4c15-ac68-ccad51f98e94",
   "metadata": {},
   "outputs": [
    {
     "data": {
      "text/plain": [
       "'str1str2'"
      ]
     },
     "execution_count": 94,
     "metadata": {},
     "output_type": "execute_result"
    }
   ],
   "source": [
    "'str1' + 'str2'"
   ]
  },
  {
   "cell_type": "code",
   "execution_count": 95,
   "id": "7eeb859a-3b49-4d9e-95b5-8f9fcab6ef57",
   "metadata": {},
   "outputs": [
    {
     "name": "stdout",
     "output_type": "stream",
     "text": [
      "3.14\n"
     ]
    }
   ],
   "source": [
    "PI = 3.14159265359 \n",
    "print(f'{PI:.2f}')"
   ]
  },
  {
   "cell_type": "code",
   "execution_count": null,
   "id": "cbb6928e-f6bb-4266-a781-33487895a6b3",
   "metadata": {},
   "outputs": [],
   "source": [
    "1234 # 00001234"
   ]
  },
  {
   "cell_type": "code",
   "execution_count": 96,
   "id": "331e6d4b-e2ae-4491-aefb-fed3fa986f58",
   "metadata": {},
   "outputs": [
    {
     "name": "stdout",
     "output_type": "stream",
     "text": [
      "PI is 3.14\n"
     ]
    }
   ],
   "source": [
    "PI = 3.14159265359 \n",
    "name = 'PI'\n",
    "print('%s is %.2f' % (name, PI))  # oldest way format specifier is <width>.<precision><type>"
   ]
  },
  {
   "cell_type": "code",
   "execution_count": 97,
   "id": "790a9a9e-5fb6-492d-ac82-2ee43fbb3687",
   "metadata": {},
   "outputs": [
    {
     "name": "stdout",
     "output_type": "stream",
     "text": [
      "PI is 3.14\n"
     ]
    }
   ],
   "source": [
    "PI = 3.14159265359 \n",
    "name = 'PI'\n",
    "print(('{0} is {1:.2f}'.format('PI', PI)) ) # \n",
    "                                # 0  , 1"
   ]
  },
  {
   "cell_type": "code",
   "execution_count": 98,
   "id": "36e88712-5c43-4533-8815-3bb8050051a1",
   "metadata": {},
   "outputs": [
    {
     "name": "stdout",
     "output_type": "stream",
     "text": [
      "PI is 3.14\n"
     ]
    }
   ],
   "source": [
    "PI = 3.14159265359 \n",
    "name = 'PI'\n",
    "print(('{} is {:.2f}'.format('PI', PI)) ) # \n",
    "                                # 0  , 1"
   ]
  },
  {
   "cell_type": "code",
   "execution_count": 99,
   "id": "1fbeb651-8a15-422e-bcbf-a407cb8f6b65",
   "metadata": {},
   "outputs": [
    {
     "name": "stdout",
     "output_type": "stream",
     "text": [
      "3.14159265359 is PI\n"
     ]
    }
   ],
   "source": [
    "PI = 3.14159265359 \n",
    "name = 'PI'\n",
    "print(('{1} is {0}'.format('PI', PI)) ) # \n",
    "                                # 0  , 1"
   ]
  },
  {
   "cell_type": "code",
   "execution_count": 104,
   "id": "df41b174-7848-4ca0-836f-354051cf722a",
   "metadata": {},
   "outputs": [
    {
     "name": "stdout",
     "output_type": "stream",
     "text": [
      "3.14159265359 is PI\n"
     ]
    }
   ],
   "source": [
    "PI = 3.14159265359 \n",
    "name = 'PI'\n",
    "print(('{1} is {0}'.format('PI', PI, 324234)) ) # \n",
    "                                # 0  , 1"
   ]
  },
  {
   "cell_type": "code",
   "execution_count": 108,
   "id": "dbbdb6d7-5400-4664-be2b-04a2253d9b07",
   "metadata": {},
   "outputs": [
    {
     "name": "stdout",
     "output_type": "stream",
     "text": [
      "324234 is PI\n"
     ]
    }
   ],
   "source": [
    "PI = 3.14159265359 \n",
    "name = 'PI'\n",
    "print(('{2} is {0}'.format('PI', PI, 324234)) ) # \n",
    "                                # 0  , 1"
   ]
  },
  {
   "cell_type": "code",
   "execution_count": 106,
   "id": "67fc60e8-a923-4c8d-8c5c-bac417153627",
   "metadata": {},
   "outputs": [
    {
     "ename": "IndexError",
     "evalue": "Replacement index 2 out of range for positional args tuple",
     "output_type": "error",
     "traceback": [
      "\u001b[0;31m---------------------------------------------------------------------------\u001b[0m",
      "\u001b[0;31mIndexError\u001b[0m                                Traceback (most recent call last)",
      "Cell \u001b[0;32mIn[106], line 3\u001b[0m\n\u001b[1;32m      1\u001b[0m PI \u001b[38;5;241m=\u001b[39m \u001b[38;5;241m3.14159265359\u001b[39m \n\u001b[1;32m      2\u001b[0m name \u001b[38;5;241m=\u001b[39m \u001b[38;5;124m'\u001b[39m\u001b[38;5;124mPI\u001b[39m\u001b[38;5;124m'\u001b[39m\n\u001b[0;32m----> 3\u001b[0m \u001b[38;5;28mprint\u001b[39m((\u001b[38;5;124;43m'\u001b[39;49m\u001b[38;5;132;43;01m{}\u001b[39;49;00m\u001b[38;5;124;43m is \u001b[39;49m\u001b[38;5;132;43;01m{}\u001b[39;49;00m\u001b[38;5;124;43m; \u001b[39;49m\u001b[38;5;132;43;01m{}\u001b[39;49;00m\u001b[38;5;124;43m'\u001b[39;49m\u001b[38;5;241;43m.\u001b[39;49m\u001b[43mformat\u001b[49m\u001b[43m(\u001b[49m\u001b[38;5;124;43m'\u001b[39;49m\u001b[38;5;124;43mPI\u001b[39;49m\u001b[38;5;124;43m'\u001b[39;49m\u001b[43m,\u001b[49m\u001b[43m \u001b[49m\u001b[43mPI\u001b[49m\u001b[43m)\u001b[49m) ) \u001b[38;5;66;03m# \u001b[39;00m\n\u001b[1;32m      4\u001b[0m                                 \u001b[38;5;66;03m# 0  , 1\u001b[39;00m\n",
      "\u001b[0;31mIndexError\u001b[0m: Replacement index 2 out of range for positional args tuple"
     ]
    }
   ],
   "source": [
    "PI = 3.14159265359 \n",
    "name = 'PI'\n",
    "print(('{} is {}; {}'.format('PI', PI)) ) # \n",
    "                                # 0  , 1"
   ]
  },
  {
   "cell_type": "code",
   "execution_count": 101,
   "id": "bc12635f-ae62-460b-b638-8b6989e4bb63",
   "metadata": {},
   "outputs": [
    {
     "data": {
      "text/plain": [
       "'PI is 3.14'"
      ]
     },
     "execution_count": 101,
     "metadata": {},
     "output_type": "execute_result"
    }
   ],
   "source": [
    "template = '{} is {:.2f}'\n",
    "\n",
    "template.format('PI', 3.1415)"
   ]
  },
  {
   "cell_type": "code",
   "execution_count": 102,
   "id": "96a54389-3db2-489d-9a7a-f5b9872aaf27",
   "metadata": {},
   "outputs": [
    {
     "data": {
      "text/plain": [
       "'GR is 1.62'"
      ]
     },
     "execution_count": 102,
     "metadata": {},
     "output_type": "execute_result"
    }
   ],
   "source": [
    "template.format('GR', 1.618)"
   ]
  },
  {
   "cell_type": "code",
   "execution_count": 103,
   "id": "9e9301d2-7811-48e6-aaf9-73f3118806be",
   "metadata": {},
   "outputs": [
    {
     "data": {
      "text/plain": [
       "'PI is 3.14'"
      ]
     },
     "execution_count": 103,
     "metadata": {},
     "output_type": "execute_result"
    }
   ],
   "source": [
    "name = 'PI'\n",
    "value = 3.1415898888\n",
    "f'{name} is {value:.2f}'"
   ]
  },
  {
   "cell_type": "code",
   "execution_count": 111,
   "id": "f88d3df7-5e17-4d1a-a482-a8cc794a59c4",
   "metadata": {},
   "outputs": [
    {
     "data": {
      "text/plain": [
       "'PIPIPIPIPIPIPIPIPIPI is 93.14'"
      ]
     },
     "execution_count": 111,
     "metadata": {},
     "output_type": "execute_result"
    }
   ],
   "source": [
    "name = 'PI'\n",
    "value = 3.1415898888\n",
    "f'{name*10} is {value+90:.2f}'"
   ]
  },
  {
   "cell_type": "code",
   "execution_count": null,
   "id": "77ee5ed0-9aa9-4162-8a21-df0d89ea37a4",
   "metadata": {},
   "outputs": [],
   "source": [
    "{<variable or expression>:<format-specifier>}\n",
    "<padding_character><alignment><width>.<comma><precision><type>"
   ]
  },
  {
   "cell_type": "code",
   "execution_count": 112,
   "id": "162594e9-1236-4a10-af5a-156b0bbb4377",
   "metadata": {},
   "outputs": [
    {
     "name": "stdout",
     "output_type": "stream",
     "text": [
      "PI is 3.14\n"
     ]
    }
   ],
   "source": [
    "PI = 3.14159265359 \n",
    "name = 'PI'\n",
    "# {<variable or expression>:<format-specifier>} where the format specifier is <width>.<precision><type>\n",
    "print(f'{name} is {PI:.2f}') # newest way"
   ]
  },
  {
   "cell_type": "code",
   "execution_count": 113,
   "id": "67215504-5673-4f88-9895-91a760266473",
   "metadata": {},
   "outputs": [
    {
     "name": "stdout",
     "output_type": "stream",
     "text": [
      "This is the first line.\n",
      "This is the second line.\n"
     ]
    }
   ],
   "source": [
    "line1 = 'This is the first line.\\n'\n",
    "line2 = 'This is the second line.'\n",
    "lines = line1 + line2\n",
    "print(lines)"
   ]
  },
  {
   "cell_type": "code",
   "execution_count": 114,
   "id": "b88f2233-ac25-4e5d-9cbc-9c916b360acb",
   "metadata": {},
   "outputs": [
    {
     "name": "stdout",
     "output_type": "stream",
     "text": [
      "EAS503\n",
      "EAS503\n"
     ]
    }
   ],
   "source": [
    "course_number = 'EAS503'\n",
    "class_size = 113\n",
    "class_average = 92.3\n",
    "\n",
    "str_format = '{}'.format(course_number)\n",
    "f_string = f'{course_number}'\n",
    "\n",
    "print(str_format)\n",
    "print(f_string)"
   ]
  },
  {
   "cell_type": "code",
   "execution_count": 115,
   "id": "664a569a-cb23-4eab-877b-f2a6b1fa5a18",
   "metadata": {},
   "outputs": [
    {
     "name": "stdout",
     "output_type": "stream",
     "text": [
      "The course number is EAS503.\n",
      "The course number is EAS503.\n"
     ]
    }
   ],
   "source": [
    "course_number = 'EAS503'\n",
    "class_size = 113\n",
    "class_average = 92.3\n",
    "\n",
    "str_format = 'The course number is {}.'.format(course_number)\n",
    "f_string = f'The course number is {course_number}.'\n",
    "\n",
    "print(str_format)\n",
    "print(f_string)"
   ]
  },
  {
   "cell_type": "code",
   "execution_count": 117,
   "id": "34ded573-6ff3-4af1-ab47-fbc5e4de300c",
   "metadata": {},
   "outputs": [
    {
     "name": "stdout",
     "output_type": "stream",
     "text": [
      "The course number is EAS503. It has 113 students.\n",
      "The course number is EAS503. It has 113 students.\n"
     ]
    }
   ],
   "source": [
    "course_number = 'EAS503'\n",
    "class_size = 113\n",
    "class_average = 92.3\n",
    "# str_format = 'The course number is {}. It has {} students.'.format(course_number, class_size)\n",
    "str_format = 'The course number is {0}. It has {1} students.'.format(course_number, class_size)\n",
    "f_string = f'The course number is {course_number}. It has {class_size} students.'\n",
    "\n",
    "print(str_format)\n",
    "print(f_string)"
   ]
  },
  {
   "cell_type": "code",
   "execution_count": 118,
   "id": "ca50679a-6285-4c6d-b563-9ff13f1ae230",
   "metadata": {},
   "outputs": [
    {
     "name": "stdout",
     "output_type": "stream",
     "text": [
      "The course number is 113. It has EAS503 students.\n",
      "The course number is 113. It has EAS503 students.\n"
     ]
    }
   ],
   "source": [
    "course_number = 'EAS503'\n",
    "class_size = 113\n",
    "class_average = 92.3\n",
    "str_format = 'The course number is {1}. It has {0} students.'.format(course_number, class_size)\n",
    "f_string = f'The course number is {class_size}. It has {course_number} students.'\n",
    "\n",
    "print(str_format)\n",
    "print(f_string)"
   ]
  },
  {
   "cell_type": "code",
   "execution_count": 120,
   "id": "a7ae79aa-059a-4c6e-bf8d-e25ba2152d9a",
   "metadata": {},
   "outputs": [
    {
     "name": "stdout",
     "output_type": "stream",
     "text": [
      "The course number is EAS503. It has 113 students. The class average is 92.3.\n",
      "The course number is EAS503. It has 113 students. The class average is 92.3.\n"
     ]
    }
   ],
   "source": [
    "course_number = 'EAS503'\n",
    "class_size = 113\n",
    "class_average = 92.3\n",
    "str_format = 'The course number is {0}. It has {1} students. The class average is {2}.'.format(course_number, class_size, class_average)\n",
    "f_string = f'The course number is {course_number}. It has {class_size} students. The class average is {class_average}.'\n",
    "\n",
    "print(str_format)\n",
    "print(f_string)"
   ]
  },
  {
   "cell_type": "code",
   "execution_count": 121,
   "id": "5ef1dd6e-9eab-440a-8f47-a2d78a6aa7fa",
   "metadata": {},
   "outputs": [
    {
     "name": "stdout",
     "output_type": "stream",
     "text": [
      "The course number is EAS503    . It has        113 students. The class average is       92.3.\n",
      "The course number is EAS503    . It has        113 students. The class average is       92.3.\n"
     ]
    }
   ],
   "source": [
    "course_number = 'EAS503'\n",
    "class_size = 113\n",
    "class_average = 92.3\n",
    "\n",
    "# format(course_number, class_size, class_average)\n",
    "# 0, 1, 2\n",
    "str_format = 'The course number is {0:10}. It has {1:10} students. The class average is {2:10}.'.format(course_number, class_size, class_average)\n",
    "f_string = f'The course number is {course_number:10}. It has {class_size:10} students. The class average is {class_average:10}.'\n",
    "\n",
    "print(str_format)\n",
    "print(f_string)"
   ]
  },
  {
   "cell_type": "code",
   "execution_count": 122,
   "id": "752992e4-23b3-48c5-811a-622b58863aee",
   "metadata": {},
   "outputs": [
    {
     "name": "stdout",
     "output_type": "stream",
     "text": [
      "The course number is     EAS503. It has        113 students. The class average is       92.3.\n",
      "The course number is     EAS503. It has        113 students. The class average is       92.3.\n"
     ]
    }
   ],
   "source": [
    "course_number = 'EAS503'\n",
    "class_size = 113\n",
    "class_average = 92.3\n",
    "str_format = 'The course number is {0:>10}. It has {1:>10} students. The class average is {2:>10}.'.format(course_number, class_size, class_average)\n",
    "f_string = f'The course number is {course_number:>10}. It has {class_size:>10} students. The class average is {class_average:>10}.'\n",
    "\n",
    "print(str_format)\n",
    "print(f_string)"
   ]
  },
  {
   "cell_type": "code",
   "execution_count": 123,
   "id": "829dea5d-b526-4eca-8d2c-fda12df7ceea",
   "metadata": {},
   "outputs": [
    {
     "name": "stdout",
     "output_type": "stream",
     "text": [
      "The course number is EAS503    . It has 113        students. The class average is 92.3      .\n",
      "The course number is EAS503    . It has 113        students. The class average is 92.3      .\n"
     ]
    }
   ],
   "source": [
    "course_number = 'EAS503'\n",
    "class_size = 113\n",
    "class_average = 92.3\n",
    "str_format = 'The course number is {0:<10}. It has {1:<10} students. The class average is {2:<10}.'.format(course_number, class_size, class_average)\n",
    "f_string = f'The course number is {course_number:<10}. It has {class_size:<10} students. The class average is {class_average:<10}.'\n",
    "\n",
    "print(str_format)\n",
    "print(f_string)"
   ]
  },
  {
   "cell_type": "code",
   "execution_count": 124,
   "id": "5bd257f8-8c4d-4fc0-881a-7521fd32fe04",
   "metadata": {},
   "outputs": [
    {
     "name": "stdout",
     "output_type": "stream",
     "text": [
      "The course number is   EAS503  . It has    113     students. The class average is    92.3   .\n",
      "The course number is   EAS503  . It has    113     students. The class average is    92.3   .\n"
     ]
    }
   ],
   "source": [
    "course_number = 'EAS503'\n",
    "class_size = 113\n",
    "class_average = 92.3\n",
    "str_format = 'The course number is {0:^10}. It has {1:^10} students. The class average is {2:^10}.'.format(course_number, class_size, class_average)\n",
    "f_string = f'The course number is {course_number:^10}. It has {class_size:^10} students. The class average is {class_average:^10}.'\n",
    "\n",
    "print(str_format)\n",
    "print(f_string)"
   ]
  },
  {
   "cell_type": "code",
   "execution_count": 125,
   "id": "46399b65-738a-46de-b8bb-1a733e108102",
   "metadata": {},
   "outputs": [
    {
     "name": "stdout",
     "output_type": "stream",
     "text": [
      "The number padded 223333 padded with zeros 00223333\n",
      "The number padded 223333 padded with zeros 00223333\n"
     ]
    }
   ],
   "source": [
    "student_id = 223333\n",
    "\n",
    "str_format = 'The number padded {} padded with zeros {:08}'.format(student_id, student_id)\n",
    "f_string = f'The number padded {student_id} padded with zeros {student_id:08}'\n",
    "\n",
    "print(str_format)\n",
    "print(f_string)"
   ]
  },
  {
   "cell_type": "code",
   "execution_count": 126,
   "id": "f7502fb1-4423-44ce-af2d-f0f1b94b98de",
   "metadata": {},
   "outputs": [
    {
     "name": "stdout",
     "output_type": "stream",
     "text": [
      "The number padded 223333 padded with zeros 22333300\n",
      "The number padded 223333 padded with zeros 22333300\n"
     ]
    }
   ],
   "source": [
    "student_id = 223333\n",
    "\n",
    "str_format = 'The number padded {} padded with zeros {:<08}'.format(student_id, student_id)\n",
    "f_string = f'The number padded {student_id} padded with zeros {student_id:<08}'\n",
    "\n",
    "print(str_format)\n",
    "print(f_string)"
   ]
  },
  {
   "cell_type": "code",
   "execution_count": 130,
   "id": "00fb921a-43ce-4aab-97eb-db7c3dae25bd",
   "metadata": {},
   "outputs": [
    {
     "name": "stdout",
     "output_type": "stream",
     "text": [
      "The number padded 223333 padded with zeros --223333\n",
      "The number padded 223333 padded with zeros --223333\n"
     ]
    }
   ],
   "source": [
    "student_id = 223333\n",
    "\n",
    "str_format = 'The number padded {} padded with zeros {:->8}'.format(student_id, student_id)\n",
    "f_string = f'The number padded {student_id} padded with zeros {student_id:->8}'\n",
    "\n",
    "print(str_format)\n",
    "print(f_string)"
   ]
  },
  {
   "cell_type": "code",
   "execution_count": null,
   "id": "883681e2-5c1f-4dfd-a298-9311201b7672",
   "metadata": {},
   "outputs": [],
   "source": [
    "<padding_character><alignment><width><comma>.<precision><type>"
   ]
  },
  {
   "cell_type": "code",
   "execution_count": 136,
   "id": "a4f091fd-b4ab-4c87-a3c0-e5350e322884",
   "metadata": {},
   "outputs": [
    {
     "data": {
      "text/plain": [
       "'003,333.14'"
      ]
     },
     "execution_count": 136,
     "metadata": {},
     "output_type": "execute_result"
    }
   ],
   "source": [
    "number = 3333.1415909009900\n",
    "f'{number:0>10,.2f}'"
   ]
  },
  {
   "cell_type": "code",
   "execution_count": 137,
   "id": "2bf024fb-908d-49a0-b28a-bbbf6a951f6c",
   "metadata": {},
   "outputs": [
    {
     "data": {
      "text/plain": [
       "'3,333.1400'"
      ]
     },
     "execution_count": 137,
     "metadata": {},
     "output_type": "execute_result"
    }
   ],
   "source": [
    "number = 3333.1415909009900\n",
    "f'{number:0<10,.2f}'"
   ]
  },
  {
   "cell_type": "code",
   "execution_count": 139,
   "id": "cdf9863b-ec23-497c-a224-e2c2b70e36b8",
   "metadata": {},
   "outputs": [
    {
     "data": {
      "text/plain": [
       "'4'"
      ]
     },
     "execution_count": 139,
     "metadata": {},
     "output_type": "execute_result"
    }
   ],
   "source": [
    "f'{3.5:.0f}'"
   ]
  },
  {
   "cell_type": "code",
   "execution_count": 140,
   "id": "2e71f7c9-60d5-47c2-b0a4-5ebd3a9c825f",
   "metadata": {},
   "outputs": [
    {
     "data": {
      "text/plain": [
       "'4'"
      ]
     },
     "execution_count": 140,
     "metadata": {},
     "output_type": "execute_result"
    }
   ],
   "source": [
    "f'{4.5:.0f}'"
   ]
  },
  {
   "cell_type": "code",
   "execution_count": 141,
   "id": "f1bca9b1-7046-4b0c-9dba-c63ef980a04a",
   "metadata": {},
   "outputs": [
    {
     "data": {
      "text/plain": [
       "4.5"
      ]
     },
     "execution_count": 141,
     "metadata": {},
     "output_type": "execute_result"
    }
   ],
   "source": [
    "round(4.503,2)"
   ]
  },
  {
   "cell_type": "code",
   "execution_count": 142,
   "id": "4ba12781-dbc6-4073-9407-dfabbb621b90",
   "metadata": {},
   "outputs": [
    {
     "data": {
      "text/plain": [
       "'4.50'"
      ]
     },
     "execution_count": 142,
     "metadata": {},
     "output_type": "execute_result"
    }
   ],
   "source": [
    "f'{4.503:.2f}'"
   ]
  },
  {
   "cell_type": "code",
   "execution_count": 143,
   "id": "6b3fcfd6-dd63-4062-b4ac-6ba6666a459e",
   "metadata": {},
   "outputs": [
    {
     "name": "stdout",
     "output_type": "stream",
     "text": [
      "+---------------------------------------------------+\n",
      "|               Cereal Yields (kg/ha)               |\n",
      "+---------------+--------+--------+--------+--------+\n",
      "|    Country    |  1980  |  1990  |  2000  |  2010  |\n",
      "+---------------+--------+--------+--------+--------+\n",
      "| China         |  2,937 |  4,321 |  4,752 |  5,527 |\n",
      "| Germany       |  4,225 |  5,411 |  6,453 |  6,718 |\n",
      "| United States |  3,772 |  4,755 |  5,854 |  6,988 |\n",
      "+---------------+--------+--------+--------+--------+\n"
     ]
    }
   ],
   "source": [
    "title = '|' + '{:^51}'.format('Cereal Yields (kg/ha)') + '|'\n",
    "line = '+' + '-'*15 + '+' + ('-'*8 + '+')*4\n",
    "row = '| {:<13} |' + ' {:6,d} |'*4\n",
    "header = '| {:^13s} |'.format('Country') + (' {:^6d} |'*4).format(1980, 1990,\n",
    "                                                                  2000, 2010)\n",
    "print('+' + '-'*(len(title)-2) + '+',\n",
    "      title,\n",
    "      line,\n",
    "      header,\n",
    "      line,\n",
    "      row.format('China', 2937, 4321, 4752, 5527),\n",
    "      row.format('Germany', 4225, 5411, 6453, 6718),\n",
    "      row.format('United States', 3772, 4755, 5854, 6988),\n",
    "      line,\n",
    "      sep='\\n')"
   ]
  }
 ],
 "metadata": {
  "kernelspec": {
   "display_name": "Python 3 (ipykernel)",
   "language": "python",
   "name": "python3"
  },
  "language_info": {
   "codemirror_mode": {
    "name": "ipython",
    "version": 3
   },
   "file_extension": ".py",
   "mimetype": "text/x-python",
   "name": "python",
   "nbconvert_exporter": "python",
   "pygments_lexer": "ipython3",
   "version": "3.12.4"
  }
 },
 "nbformat": 4,
 "nbformat_minor": 5
}
