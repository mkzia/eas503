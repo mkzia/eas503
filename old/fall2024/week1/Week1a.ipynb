{
 "cells": [
  {
   "cell_type": "markdown",
   "id": "f82d45b7-b87c-46f5-b39e-72e3db7fe2f6",
   "metadata": {},
   "source": [
    "# "
   ]
  },
  {
   "cell_type": "code",
   "execution_count": 3,
   "id": "67dd686a-9fef-476b-a8bd-3d90f4fe2963",
   "metadata": {},
   "outputs": [
    {
     "data": {
      "text/plain": [
       "49"
      ]
     },
     "execution_count": 3,
     "metadata": {},
     "output_type": "execute_result"
    }
   ],
   "source": [
    "43 + 6"
   ]
  },
  {
   "cell_type": "code",
   "execution_count": null,
   "id": "43c5ffd7-c2dd-4038-a16e-1d3f5ab68187",
   "metadata": {},
   "outputs": [],
   "source": []
  },
  {
   "cell_type": "code",
   "execution_count": 6,
   "id": "b0f046b7-16ed-47d2-b655-1fbc348df4ce",
   "metadata": {},
   "outputs": [
    {
     "data": {
      "text/plain": [
       "45"
      ]
     },
     "execution_count": 6,
     "metadata": {},
     "output_type": "execute_result"
    }
   ],
   "source": [
    "def add(x,y):\n",
    "    return x + y\n",
    "\n",
    "add(43, 2)"
   ]
  },
  {
   "cell_type": "code",
   "execution_count": null,
   "id": "a8cea004-9487-4db9-8d6a-4a88fe218d0e",
   "metadata": {},
   "outputs": [],
   "source": [
    "(+ 2 3) # 2 + 3"
   ]
  },
  {
   "cell_type": "code",
   "execution_count": 7,
   "id": "92f212c0-7878-455b-8921-6b746aef20e7",
   "metadata": {},
   "outputs": [
    {
     "data": {
      "text/plain": [
       "5"
      ]
     },
     "execution_count": 7,
     "metadata": {},
     "output_type": "execute_result"
    }
   ],
   "source": [
    "2 + 3"
   ]
  },
  {
   "cell_type": "code",
   "execution_count": 8,
   "id": "9290a29e-c5cc-4d46-b0fe-7d2f41c58a51",
   "metadata": {},
   "outputs": [
    {
     "data": {
      "text/plain": [
       "1.4"
      ]
     },
     "execution_count": 8,
     "metadata": {},
     "output_type": "execute_result"
    }
   ],
   "source": [
    "2 - (3 / 5)"
   ]
  },
  {
   "cell_type": "code",
   "execution_count": 12,
   "id": "4a9455d2-cd18-45d5-b565-d44530515de2",
   "metadata": {},
   "outputs": [
    {
     "data": {
      "text/plain": [
       "3333"
      ]
     },
     "execution_count": 12,
     "metadata": {},
     "output_type": "execute_result"
    }
   ],
   "source": [
    "3333"
   ]
  },
  {
   "cell_type": "code",
   "execution_count": 13,
   "id": "731cb66f-9657-4597-ad2e-3e445186ff82",
   "metadata": {},
   "outputs": [
    {
     "data": {
      "text/plain": [
       "3.2"
      ]
     },
     "execution_count": 13,
     "metadata": {},
     "output_type": "execute_result"
    }
   ],
   "source": [
    "16 / 5"
   ]
  },
  {
   "cell_type": "code",
   "execution_count": 14,
   "id": "b5a4216d-7ddb-47ab-a490-9f9d9b7f9936",
   "metadata": {},
   "outputs": [
    {
     "data": {
      "text/plain": [
       "3"
      ]
     },
     "execution_count": 14,
     "metadata": {},
     "output_type": "execute_result"
    }
   ],
   "source": [
    "16 // 5"
   ]
  },
  {
   "cell_type": "code",
   "execution_count": 15,
   "id": "b48e537c-6b34-459b-9a18-270537cd4843",
   "metadata": {},
   "outputs": [
    {
     "data": {
      "text/plain": [
       "7"
      ]
     },
     "execution_count": 15,
     "metadata": {},
     "output_type": "execute_result"
    }
   ],
   "source": [
    "31 % 24"
   ]
  },
  {
   "cell_type": "code",
   "execution_count": 16,
   "id": "5d9d8987-6dbd-4452-8d2f-e4297ccaab7b",
   "metadata": {},
   "outputs": [
    {
     "data": {
      "text/plain": [
       "4"
      ]
     },
     "execution_count": 16,
     "metadata": {},
     "output_type": "execute_result"
    }
   ],
   "source": [
    "2 ** 2"
   ]
  },
  {
   "cell_type": "code",
   "execution_count": null,
   "id": "e7cbd2bd-4e5b-462b-954f-2ed69a9bb5e2",
   "metadata": {},
   "outputs": [],
   "source": [
    "2 \n",
    "3.14 "
   ]
  },
  {
   "cell_type": "code",
   "execution_count": 17,
   "id": "043811be-7e55-4565-9bef-d40634673468",
   "metadata": {},
   "outputs": [
    {
     "data": {
      "text/plain": [
       "-2"
      ]
     },
     "execution_count": 17,
     "metadata": {},
     "output_type": "execute_result"
    }
   ],
   "source": [
    "17 // -10"
   ]
  },
  {
   "cell_type": "code",
   "execution_count": 22,
   "id": "4455d0ca-d376-44b1-af31-464ef175d720",
   "metadata": {},
   "outputs": [
    {
     "data": {
      "text/plain": [
       "-4"
      ]
     },
     "execution_count": 22,
     "metadata": {},
     "output_type": "execute_result"
    }
   ],
   "source": [
    "-16 // 5"
   ]
  },
  {
   "cell_type": "code",
   "execution_count": null,
   "id": "9f919ddc-8121-44b0-b8bb-03062971a8b1",
   "metadata": {},
   "outputs": [],
   "source": [
    "-3.2"
   ]
  },
  {
   "cell_type": "code",
   "execution_count": null,
   "id": "3a75a3a5-6895-4f0c-85e0-63907799e2b5",
   "metadata": {},
   "outputs": [],
   "source": [
    "n = 17\n",
    "base = -10"
   ]
  },
  {
   "cell_type": "code",
   "execution_count": 25,
   "id": "f0987c2a-40da-4f80-9f75-8a3cdc97c396",
   "metadata": {},
   "outputs": [
    {
     "data": {
      "text/plain": [
       "-2"
      ]
     },
     "execution_count": 25,
     "metadata": {},
     "output_type": "execute_result"
    }
   ],
   "source": [
    "17 // -10"
   ]
  },
  {
   "cell_type": "code",
   "execution_count": 26,
   "id": "d29c517c-5082-440b-b593-4b81fa1086da",
   "metadata": {},
   "outputs": [
    {
     "data": {
      "text/plain": [
       "-3"
      ]
     },
     "execution_count": 26,
     "metadata": {},
     "output_type": "execute_result"
    }
   ],
   "source": [
    "17 % -10"
   ]
  },
  {
   "cell_type": "code",
   "execution_count": 27,
   "id": "147d1058-a846-48c5-8d5e-a72a49a25d0c",
   "metadata": {},
   "outputs": [
    {
     "data": {
      "text/plain": [
       "3"
      ]
     },
     "execution_count": 27,
     "metadata": {},
     "output_type": "execute_result"
    }
   ],
   "source": [
    "-17 % 10"
   ]
  },
  {
   "cell_type": "code",
   "execution_count": 28,
   "id": "a45b1b2f-b5a9-40a9-ad33-07c38c956702",
   "metadata": {},
   "outputs": [
    {
     "data": {
      "text/plain": [
       "-7"
      ]
     },
     "execution_count": 28,
     "metadata": {},
     "output_type": "execute_result"
    }
   ],
   "source": [
    "-17 % -10"
   ]
  },
  {
   "cell_type": "code",
   "execution_count": 29,
   "id": "bd25483e-5cf4-4bee-9dea-13d6502549a5",
   "metadata": {},
   "outputs": [
    {
     "data": {
      "text/plain": [
       "int"
      ]
     },
     "execution_count": 29,
     "metadata": {},
     "output_type": "execute_result"
    }
   ],
   "source": [
    "type(2)"
   ]
  },
  {
   "cell_type": "code",
   "execution_count": 30,
   "id": "1ef3ba15-dddd-4478-97d6-6f25d5367eda",
   "metadata": {},
   "outputs": [
    {
     "data": {
      "text/plain": [
       "float"
      ]
     },
     "execution_count": 30,
     "metadata": {},
     "output_type": "execute_result"
    }
   ],
   "source": [
    "type(3.14)"
   ]
  },
  {
   "cell_type": "code",
   "execution_count": 31,
   "id": "e8c6dab3-f9d3-4676-8428-a4755ab8b181",
   "metadata": {},
   "outputs": [
    {
     "data": {
      "text/plain": [
       "int"
      ]
     },
     "execution_count": 31,
     "metadata": {},
     "output_type": "execute_result"
    }
   ],
   "source": [
    "type(1 + 2)"
   ]
  },
  {
   "cell_type": "code",
   "execution_count": 33,
   "id": "d98dd1d9-7e00-4b5c-bc74-3dfcd8ebeb38",
   "metadata": {},
   "outputs": [
    {
     "data": {
      "text/plain": [
       "10.0"
      ]
     },
     "execution_count": 33,
     "metadata": {},
     "output_type": "execute_result"
    }
   ],
   "source": [
    "10.0"
   ]
  },
  {
   "cell_type": "code",
   "execution_count": 34,
   "id": "30b3118f-9d6b-4dd0-b6aa-424baa6fcdd5",
   "metadata": {},
   "outputs": [
    {
     "data": {
      "text/plain": [
       "24"
      ]
     },
     "execution_count": 34,
     "metadata": {},
     "output_type": "execute_result"
    }
   ],
   "source": [
    "import sys\n",
    "sys.getsizeof(2.0)"
   ]
  },
  {
   "cell_type": "code",
   "execution_count": 36,
   "id": "8c1b6388-9724-49ed-8085-6a0a3e637257",
   "metadata": {},
   "outputs": [
    {
     "data": {
      "text/plain": [
       "24"
      ]
     },
     "execution_count": 36,
     "metadata": {},
     "output_type": "execute_result"
    }
   ],
   "source": [
    "sys.getsizeof(2342342342.234234234234234420)"
   ]
  },
  {
   "cell_type": "code",
   "execution_count": 37,
   "id": "67c1a798-6fbf-4d84-8da6-566be3c9844d",
   "metadata": {},
   "outputs": [
    {
     "data": {
      "text/plain": [
       "28"
      ]
     },
     "execution_count": 37,
     "metadata": {},
     "output_type": "execute_result"
    }
   ],
   "source": [
    "sys.getsizeof(2)"
   ]
  },
  {
   "cell_type": "code",
   "execution_count": 38,
   "id": "d9a2f740-71c8-4ffb-9b1b-c58aece82974",
   "metadata": {},
   "outputs": [
    {
     "data": {
      "text/plain": [
       "32"
      ]
     },
     "execution_count": 38,
     "metadata": {},
     "output_type": "execute_result"
    }
   ],
   "source": [
    "sys.getsizeof(2**30)"
   ]
  },
  {
   "cell_type": "code",
   "execution_count": 39,
   "id": "38a247f8-c4ac-44eb-817b-e1b77404bbaf",
   "metadata": {},
   "outputs": [
    {
     "data": {
      "text/plain": [
       "44"
      ]
     },
     "execution_count": 39,
     "metadata": {},
     "output_type": "execute_result"
    }
   ],
   "source": [
    "sys.getsizeof(2**130)"
   ]
  },
  {
   "cell_type": "code",
   "execution_count": 40,
   "id": "03ecea03-6660-4204-be6c-d2b2f5338135",
   "metadata": {},
   "outputs": [
    {
     "data": {
      "text/plain": [
       "0.6666666666666666"
      ]
     },
     "execution_count": 40,
     "metadata": {},
     "output_type": "execute_result"
    }
   ],
   "source": [
    "2 / 3"
   ]
  },
  {
   "cell_type": "code",
   "execution_count": 41,
   "id": "6d8c1199-519a-4c6b-8fd7-88e1198380cb",
   "metadata": {},
   "outputs": [
    {
     "data": {
      "text/plain": [
       "1.6666666666666667"
      ]
     },
     "execution_count": 41,
     "metadata": {},
     "output_type": "execute_result"
    }
   ],
   "source": [
    "5 / 3"
   ]
  },
  {
   "cell_type": "code",
   "execution_count": 42,
   "id": "c56fc8c5-17a0-46d7-9846-7a75c41a1fcb",
   "metadata": {},
   "outputs": [
    {
     "data": {
      "text/plain": [
       "10000000000.0"
      ]
     },
     "execution_count": 42,
     "metadata": {},
     "output_type": "execute_result"
    }
   ],
   "source": [
    "10_000_000_000 + 0.00000000001"
   ]
  }
 ],
 "metadata": {
  "kernelspec": {
   "display_name": "Python 3 (ipykernel)",
   "language": "python",
   "name": "python3"
  },
  "language_info": {
   "codemirror_mode": {
    "name": "ipython",
    "version": 3
   },
   "file_extension": ".py",
   "mimetype": "text/x-python",
   "name": "python",
   "nbconvert_exporter": "python",
   "pygments_lexer": "ipython3",
   "version": "3.12.4"
  }
 },
 "nbformat": 4,
 "nbformat_minor": 5
}
