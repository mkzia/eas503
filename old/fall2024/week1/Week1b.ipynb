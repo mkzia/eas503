{
 "cells": [
  {
   "cell_type": "code",
   "execution_count": 1,
   "id": "6db4a021-5fb1-4708-8e50-926649eab830",
   "metadata": {},
   "outputs": [
    {
     "name": "stderr",
     "output_type": "stream",
     "text": [
      "<>:1: SyntaxWarning: 'int' object is not callable; perhaps you missed a comma?\n",
      "<>:1: SyntaxWarning: 'int' object is not callable; perhaps you missed a comma?\n",
      "/tmp/ipykernel_494763/2683986465.py:1: SyntaxWarning: 'int' object is not callable; perhaps you missed a comma?\n",
      "  8/2(2+2)\n"
     ]
    },
    {
     "ename": "TypeError",
     "evalue": "'int' object is not callable",
     "output_type": "error",
     "traceback": [
      "\u001b[0;31m---------------------------------------------------------------------------\u001b[0m",
      "\u001b[0;31mTypeError\u001b[0m                                 Traceback (most recent call last)",
      "Cell \u001b[0;32mIn[1], line 1\u001b[0m\n\u001b[0;32m----> 1\u001b[0m \u001b[38;5;241m8\u001b[39m\u001b[38;5;241m/\u001b[39m\u001b[38;5;241;43m2\u001b[39;49m\u001b[43m(\u001b[49m\u001b[38;5;241;43m2\u001b[39;49m\u001b[38;5;241;43m+\u001b[39;49m\u001b[38;5;241;43m2\u001b[39;49m\u001b[43m)\u001b[49m\n",
      "\u001b[0;31mTypeError\u001b[0m: 'int' object is not callable"
     ]
    }
   ],
   "source": [
    "8/2(2+2)"
   ]
  },
  {
   "cell_type": "code",
   "execution_count": 2,
   "id": "ce8019c4-97ae-49e9-a971-8379e2803bc6",
   "metadata": {},
   "outputs": [
    {
     "data": {
      "text/plain": [
       "16.0"
      ]
     },
     "execution_count": 2,
     "metadata": {},
     "output_type": "execute_result"
    }
   ],
   "source": [
    "8/2 * (2+2)"
   ]
  },
  {
   "cell_type": "code",
   "execution_count": 7,
   "id": "46277bb0-f6db-46a9-97ad-382b9b6f6bca",
   "metadata": {},
   "outputs": [
    {
     "data": {
      "text/plain": [
       "100.0"
      ]
     },
     "execution_count": 7,
     "metadata": {},
     "output_type": "execute_result"
    }
   ],
   "source": [
    "(212 - 32) * 5 / 9"
   ]
  },
  {
   "cell_type": "code",
   "execution_count": null,
   "id": "12437a59-1d70-4b2d-beb0-e8c51afaf9f2",
   "metadata": {},
   "outputs": [],
   "source": [
    "[] # brackets square\n",
    "() # par\n",
    "<> # angle br\n",
    "{} # braces "
   ]
  },
  {
   "cell_type": "code",
   "execution_count": null,
   "id": "4d8d678b-3f80-4bda-b877-817a55b2745d",
   "metadata": {},
   "outputs": [],
   "source": []
  },
  {
   "cell_type": "code",
   "execution_count": 3,
   "id": "4f3ff2a3-116a-4aa0-8914-e5d101a1814e",
   "metadata": {},
   "outputs": [
    {
     "data": {
      "text/plain": [
       "1.0"
      ]
     },
     "execution_count": 3,
     "metadata": {},
     "output_type": "execute_result"
    }
   ],
   "source": [
    "8/(2*(2+2))"
   ]
  },
  {
   "cell_type": "code",
   "execution_count": 8,
   "id": "9316dacf-26d6-4450-861b-c3b4b34db6bb",
   "metadata": {},
   "outputs": [
    {
     "data": {
      "text/plain": [
       "3.14"
      ]
     },
     "execution_count": 8,
     "metadata": {},
     "output_type": "execute_result"
    }
   ],
   "source": [
    "3.14"
   ]
  },
  {
   "cell_type": "code",
   "execution_count": 10,
   "id": "1f2c8770-bcbb-4ab4-bebc-7a794331497b",
   "metadata": {},
   "outputs": [],
   "source": [
    "pi = 3.14"
   ]
  },
  {
   "cell_type": "code",
   "execution_count": 11,
   "id": "f3ca1575-e759-4a7e-901d-e2d9bce17657",
   "metadata": {},
   "outputs": [
    {
     "data": {
      "text/plain": [
       "float"
      ]
     },
     "execution_count": 11,
     "metadata": {},
     "output_type": "execute_result"
    }
   ],
   "source": [
    "type(pi)"
   ]
  },
  {
   "cell_type": "code",
   "execution_count": 12,
   "id": "5b103f84-dc92-4fc2-8927-d81356763722",
   "metadata": {},
   "outputs": [
    {
     "data": {
      "text/plain": [
       "int"
      ]
     },
     "execution_count": 12,
     "metadata": {},
     "output_type": "execute_result"
    }
   ],
   "source": [
    "pi = 3\n",
    "type(pi)"
   ]
  },
  {
   "cell_type": "code",
   "execution_count": 13,
   "id": "208f3a40-1b27-4d48-ac0a-26df4fb7f20c",
   "metadata": {},
   "outputs": [],
   "source": [
    "_pi = 3.14"
   ]
  },
  {
   "cell_type": "code",
   "execution_count": 14,
   "id": "43b7e3f1-e0a1-485a-8396-e9224494494d",
   "metadata": {},
   "outputs": [
    {
     "ename": "SyntaxError",
     "evalue": "invalid decimal literal (2169813955.py, line 1)",
     "output_type": "error",
     "traceback": [
      "\u001b[0;36m  Cell \u001b[0;32mIn[14], line 1\u001b[0;36m\u001b[0m\n\u001b[0;31m    3pi = 3.14\u001b[0m\n\u001b[0m    ^\u001b[0m\n\u001b[0;31mSyntaxError\u001b[0m\u001b[0;31m:\u001b[0m invalid decimal literal\n"
     ]
    }
   ],
   "source": [
    "3pi = 3.14"
   ]
  },
  {
   "cell_type": "code",
   "execution_count": null,
   "id": "39cfc78c-3d6c-4cd5-a35c-a92b7e07862d",
   "metadata": {},
   "outputs": [],
   "source": [
    "first_name"
   ]
  },
  {
   "cell_type": "code",
   "execution_count": 15,
   "id": "2c2ed85d-3cb7-4089-8d60-9dfa0cd4ee0e",
   "metadata": {},
   "outputs": [
    {
     "ename": "SyntaxError",
     "evalue": "cannot assign to False (1213486250.py, line 1)",
     "output_type": "error",
     "traceback": [
      "\u001b[0;36m  Cell \u001b[0;32mIn[15], line 1\u001b[0;36m\u001b[0m\n\u001b[0;31m    False = 3.4\u001b[0m\n\u001b[0m    ^\u001b[0m\n\u001b[0;31mSyntaxError\u001b[0m\u001b[0;31m:\u001b[0m cannot assign to False\n"
     ]
    }
   ],
   "source": [
    "False = 3.4"
   ]
  },
  {
   "cell_type": "code",
   "execution_count": null,
   "id": "9f515334-f243-468e-b1b2-cc1535e7b2d5",
   "metadata": {},
   "outputs": [],
   "source": [
    "first_name # snake case\n",
    "firstName # Js Camel Case\n",
    "FirstName # Upper Camel Case"
   ]
  },
  {
   "cell_type": "code",
   "execution_count": 16,
   "id": "307bba44-8e66-4a2a-b7e0-2f466aca5a24",
   "metadata": {},
   "outputs": [
    {
     "name": "stdout",
     "output_type": "stream",
     "text": [
      "John Jane\n"
     ]
    }
   ],
   "source": [
    "first_name = \"John\"\n",
    "firstName = \"Jane\"\n",
    "print(first_name, firstName)"
   ]
  },
  {
   "cell_type": "code",
   "execution_count": 17,
   "id": "4f00c96d-4432-4f41-933a-b9e05b25ff6d",
   "metadata": {},
   "outputs": [],
   "source": [
    "FIRST_NAME = \"John\""
   ]
  },
  {
   "cell_type": "code",
   "execution_count": 18,
   "id": "862ece8c-7899-4f51-820c-6f5f66f9bb99",
   "metadata": {},
   "outputs": [
    {
     "name": "stdout",
     "output_type": "stream",
     "text": [
      "Seasonal\n"
     ]
    }
   ],
   "source": [
    "type = \"Seasonal\"\n",
    "print(type)"
   ]
  },
  {
   "cell_type": "code",
   "execution_count": 19,
   "id": "1fa7fa40-019b-43f1-85a2-980a86a00928",
   "metadata": {},
   "outputs": [
    {
     "ename": "TypeError",
     "evalue": "'str' object is not callable",
     "output_type": "error",
     "traceback": [
      "\u001b[0;31m---------------------------------------------------------------------------\u001b[0m",
      "\u001b[0;31mTypeError\u001b[0m                                 Traceback (most recent call last)",
      "Cell \u001b[0;32mIn[19], line 1\u001b[0m\n\u001b[0;32m----> 1\u001b[0m \u001b[38;5;28;43mtype\u001b[39;49m\u001b[43m(\u001b[49m\u001b[38;5;241;43m3.14\u001b[39;49m\u001b[43m)\u001b[49m\n",
      "\u001b[0;31mTypeError\u001b[0m: 'str' object is not callable"
     ]
    }
   ],
   "source": [
    "type(3.14)"
   ]
  },
  {
   "cell_type": "code",
   "execution_count": 20,
   "id": "9f0700a9-0127-42e2-a784-aade590b554f",
   "metadata": {},
   "outputs": [
    {
     "data": {
      "text/plain": [
       "float"
      ]
     },
     "execution_count": 20,
     "metadata": {},
     "output_type": "execute_result"
    }
   ],
   "source": [
    "del type\n",
    "\n",
    "type(3.14)"
   ]
  },
  {
   "cell_type": "code",
   "execution_count": 21,
   "id": "5ce9699e-7fbe-44ba-a44d-52d2be9ab811",
   "metadata": {},
   "outputs": [
    {
     "name": "stdout",
     "output_type": "stream",
     "text": [
      "1\n"
     ]
    }
   ],
   "source": [
    "print(1)"
   ]
  },
  {
   "cell_type": "code",
   "execution_count": 22,
   "id": "76fc9b4a-723b-4a52-9923-935ba3c59bbf",
   "metadata": {},
   "outputs": [
    {
     "ename": "TypeError",
     "evalue": "'int' object is not callable",
     "output_type": "error",
     "traceback": [
      "\u001b[0;31m---------------------------------------------------------------------------\u001b[0m",
      "\u001b[0;31mTypeError\u001b[0m                                 Traceback (most recent call last)",
      "Cell \u001b[0;32mIn[22], line 2\u001b[0m\n\u001b[1;32m      1\u001b[0m \u001b[38;5;28mprint\u001b[39m \u001b[38;5;241m=\u001b[39m \u001b[38;5;241m1\u001b[39m\n\u001b[0;32m----> 2\u001b[0m \u001b[38;5;28;43mprint\u001b[39;49m\u001b[43m(\u001b[49m\u001b[38;5;241;43m2\u001b[39;49m\u001b[43m)\u001b[49m\n",
      "\u001b[0;31mTypeError\u001b[0m: 'int' object is not callable"
     ]
    }
   ],
   "source": [
    "print = 1\n",
    "print(2)"
   ]
  },
  {
   "cell_type": "code",
   "execution_count": 23,
   "id": "e4e07467-fc1f-4f57-9698-6611c1498f86",
   "metadata": {},
   "outputs": [
    {
     "name": "stdout",
     "output_type": "stream",
     "text": [
      "2\n"
     ]
    }
   ],
   "source": [
    "del print\n",
    "print(2)"
   ]
  },
  {
   "cell_type": "code",
   "execution_count": null,
   "id": "c9bc8879-6437-499e-90e6-39be61d00be6",
   "metadata": {},
   "outputs": [],
   "source": [
    "x = 1 \n",
    "x = x + 1\n",
    "x += 1"
   ]
  },
  {
   "cell_type": "code",
   "execution_count": null,
   "id": "4cae2bb7-2c6d-49aa-9350-1a9ba3f48970",
   "metadata": {},
   "outputs": [],
   "source": [
    "\\ #backlash\n",
    "/ # forward slash"
   ]
  },
  {
   "cell_type": "code",
   "execution_count": 25,
   "id": "4d909989-eaaa-49cd-be1e-51544617adda",
   "metadata": {},
   "outputs": [
    {
     "data": {
      "text/plain": [
       "110"
      ]
     },
     "execution_count": 25,
     "metadata": {},
     "output_type": "execute_result"
    }
   ],
   "source": [
    "x = 10\n",
    "x * (x + 1) # secret formula"
   ]
  },
  {
   "cell_type": "code",
   "execution_count": 27,
   "id": "05a14797-d677-4f7f-9b02-8bada1eef59e",
   "metadata": {},
   "outputs": [
    {
     "data": {
      "text/plain": [
       "-48"
      ]
     },
     "execution_count": 27,
     "metadata": {},
     "output_type": "execute_result"
    }
   ],
   "source": [
    "6 * -----8"
   ]
  },
  {
   "cell_type": "code",
   "execution_count": 28,
   "id": "addc5b16-6042-4ee8-b17f-2679afca0953",
   "metadata": {},
   "outputs": [
    {
     "ename": "SyntaxError",
     "evalue": "invalid decimal literal (3977860489.py, line 1)",
     "output_type": "error",
     "traceback": [
      "\u001b[0;36m  Cell \u001b[0;32mIn[28], line 1\u001b[0;36m\u001b[0m\n\u001b[0;31m    8sdfsdf = 9\u001b[0m\n\u001b[0m    ^\u001b[0m\n\u001b[0;31mSyntaxError\u001b[0m\u001b[0;31m:\u001b[0m invalid decimal literal\n"
     ]
    }
   ],
   "source": [
    "8sdfsdf = 9"
   ]
  },
  {
   "cell_type": "code",
   "execution_count": 29,
   "id": "c0dbb3bd-8b1f-4dfc-b566-79d2dca4edfc",
   "metadata": {},
   "outputs": [],
   "source": [
    "asdsf8 = 9"
   ]
  },
  {
   "cell_type": "code",
   "execution_count": 30,
   "id": "fc2785e1-15ed-437a-a492-04df1df7a824",
   "metadata": {},
   "outputs": [],
   "source": [
    "variable =  234234"
   ]
  },
  {
   "cell_type": "code",
   "execution_count": 31,
   "id": "00349c03-1f89-43f7-9fb0-c1be19e3ca76",
   "metadata": {},
   "outputs": [],
   "source": [
    "variable =  324234234"
   ]
  },
  {
   "cell_type": "code",
   "execution_count": null,
   "id": "d8ca3310-5aae-431a-b6c7-206d1281812b",
   "metadata": {},
   "outputs": [],
   "source": [
    "3 = 23432"
   ]
  },
  {
   "cell_type": "code",
   "execution_count": 35,
   "id": "54091d15-c18c-456d-9825-2092d9f359cf",
   "metadata": {},
   "outputs": [
    {
     "data": {
      "text/plain": [
       "324234234"
      ]
     },
     "execution_count": 35,
     "metadata": {},
     "output_type": "execute_result"
    }
   ],
   "source": [
    "324_234_234"
   ]
  },
  {
   "cell_type": "code",
   "execution_count": 36,
   "id": "f52eed50-6ada-4934-8d80-4a231a352fa7",
   "metadata": {},
   "outputs": [
    {
     "data": {
      "text/plain": [
       "3333"
      ]
     },
     "execution_count": 36,
     "metadata": {},
     "output_type": "execute_result"
    }
   ],
   "source": [
    "33_33"
   ]
  },
  {
   "cell_type": "code",
   "execution_count": 32,
   "id": "7e31d133-2fa0-4980-8afe-abc4d3f95b06",
   "metadata": {},
   "outputs": [
    {
     "data": {
      "text/plain": [
       "(324, 234, 234)"
      ]
     },
     "execution_count": 32,
     "metadata": {},
     "output_type": "execute_result"
    }
   ],
   "source": [
    "324,234,234"
   ]
  },
  {
   "cell_type": "code",
   "execution_count": null,
   "id": "c770fa2a-4d56-43bd-aaf1-80a71c432e22",
   "metadata": {},
   "outputs": [],
   "source": [
    "c_to_f(100)"
   ]
  },
  {
   "cell_type": "code",
   "execution_count": 38,
   "id": "4b7521a4-e19d-483a-845f-97244b64cc45",
   "metadata": {},
   "outputs": [
    {
     "name": "stdout",
     "output_type": "stream",
     "text": [
      "<class 'int'>\n"
     ]
    }
   ],
   "source": [
    "print(type(1))\n",
    "\n",
    "x = type(1)\n",
    "print(x)"
   ]
  },
  {
   "cell_type": "code",
   "execution_count": 39,
   "id": "713dcf48-efe4-4da3-91d6-664418423027",
   "metadata": {},
   "outputs": [
    {
     "data": {
      "text/plain": [
       "212.0"
      ]
     },
     "execution_count": 39,
     "metadata": {},
     "output_type": "execute_result"
    }
   ],
   "source": [
    "def celsius_to_fahrenheit(temp_in_c):\n",
    "    temp_in_f = temp_in_c * 9/5 + 32 \n",
    "    # a comment\n",
    "    x = 10\n",
    "    x += 20\n",
    "\n",
    "c = 100\n",
    "celsius_to_fahrenheit(100)\n"
   ]
  },
  {
   "cell_type": "code",
   "execution_count": null,
   "id": "3d681df2-4d71-4613-944f-8c4961a7640d",
   "metadata": {},
   "outputs": [],
   "source": [
    "function celsiusToFahrenheit(tempInC) {\n",
    "temp_in_f = temp_in_c * 9/5 + 32 \n",
    "}\n",
    "\n",
    "tempInC = 100\n",
    "celsiusToFahrenheit(tempInC)"
   ]
  },
  {
   "cell_type": "code",
   "execution_count": 47,
   "id": "8b08c913-545c-4bb0-8f58-e5c9d5defb08",
   "metadata": {},
   "outputs": [
    {
     "ename": "IndentationError",
     "evalue": "unindent does not match any outer indentation level (<string>, line 3)",
     "output_type": "error",
     "traceback": [
      "\u001b[0;36m  File \u001b[0;32m<string>:3\u001b[0;36m\u001b[0m\n\u001b[0;31m    return temp_in_f\u001b[0m\n\u001b[0m                    ^\u001b[0m\n\u001b[0;31mIndentationError\u001b[0m\u001b[0;31m:\u001b[0m unindent does not match any outer indentation level\n"
     ]
    }
   ],
   "source": [
    "def celsius_to_fahrenheit(temp_in_c):\n",
    "    temp_in_f = temp_in_c * 9/5 + 32 \n",
    "  return temp_in_f\n",
    "\n",
    "c = 0\n",
    "f = celsius_to_fahrenheit(c)\n",
    "print(f)"
   ]
  },
  {
   "cell_type": "code",
   "execution_count": 48,
   "id": "1ec3fbcf-f30a-4be0-bbe8-2b2d963c3d3e",
   "metadata": {},
   "outputs": [
    {
     "data": {
      "text/plain": [
       "99"
      ]
     },
     "execution_count": 48,
     "metadata": {},
     "output_type": "execute_result"
    }
   ],
   "source": [
    "abs(-99)"
   ]
  },
  {
   "cell_type": "code",
   "execution_count": 49,
   "id": "91c02696-e255-413d-989e-8df3e60a44fc",
   "metadata": {},
   "outputs": [
    {
     "ename": "TypeError",
     "evalue": "'int' object is not callable",
     "output_type": "error",
     "traceback": [
      "\u001b[0;31m---------------------------------------------------------------------------\u001b[0m",
      "\u001b[0;31mTypeError\u001b[0m                                 Traceback (most recent call last)",
      "Cell \u001b[0;32mIn[49], line 2\u001b[0m\n\u001b[1;32m      1\u001b[0m \u001b[38;5;28mabs\u001b[39m \u001b[38;5;241m=\u001b[39m \u001b[38;5;241m100\u001b[39m\n\u001b[0;32m----> 2\u001b[0m \u001b[38;5;28mprint\u001b[39m(\u001b[38;5;28;43mabs\u001b[39;49m\u001b[43m(\u001b[49m\u001b[38;5;241;43m-\u001b[39;49m\u001b[38;5;241;43m99\u001b[39;49m\u001b[43m)\u001b[49m)\n",
      "\u001b[0;31mTypeError\u001b[0m: 'int' object is not callable"
     ]
    }
   ],
   "source": [
    "abs = 100\n",
    "print(abs(-99))"
   ]
  },
  {
   "cell_type": "code",
   "execution_count": 50,
   "id": "db612e50-1f4c-43bf-a403-6732c6183bbe",
   "metadata": {},
   "outputs": [
    {
     "name": "stdout",
     "output_type": "stream",
     "text": [
      "99\n"
     ]
    }
   ],
   "source": [
    "del abs\n",
    "print(abs(-99))"
   ]
  },
  {
   "cell_type": "code",
   "execution_count": 52,
   "id": "23ea99c9-55cf-4dae-addc-e2c8808647a8",
   "metadata": {},
   "outputs": [
    {
     "data": {
      "text/plain": [
       "int"
      ]
     },
     "execution_count": 52,
     "metadata": {},
     "output_type": "execute_result"
    }
   ],
   "source": [
    "type(int(34.6))"
   ]
  },
  {
   "cell_type": "code",
   "execution_count": 53,
   "id": "d3b31748-479c-442f-b538-f3eb95c9069a",
   "metadata": {},
   "outputs": [
    {
     "data": {
      "text/plain": [
       "34"
      ]
     },
     "execution_count": 53,
     "metadata": {},
     "output_type": "execute_result"
    }
   ],
   "source": [
    "int('34')"
   ]
  },
  {
   "cell_type": "code",
   "execution_count": 54,
   "id": "019f6767-76b1-4d08-9fdc-04e0523bd564",
   "metadata": {},
   "outputs": [
    {
     "data": {
      "text/plain": [
       "-4"
      ]
     },
     "execution_count": 54,
     "metadata": {},
     "output_type": "execute_result"
    }
   ],
   "source": [
    "int(-4.3)"
   ]
  },
  {
   "cell_type": "code",
   "execution_count": 55,
   "id": "d1fb8dad-cd28-4f06-b881-fed4a7df2dab",
   "metadata": {},
   "outputs": [
    {
     "data": {
      "text/plain": [
       "4"
      ]
     },
     "execution_count": 55,
     "metadata": {},
     "output_type": "execute_result"
    }
   ],
   "source": [
    "int(4.3)"
   ]
  },
  {
   "cell_type": "code",
   "execution_count": 56,
   "id": "72536d1d-7ebd-4d69-8826-707e2a1a6549",
   "metadata": {},
   "outputs": [
    {
     "data": {
      "text/plain": [
       "4"
      ]
     },
     "execution_count": 56,
     "metadata": {},
     "output_type": "execute_result"
    }
   ],
   "source": [
    "round(3.8)"
   ]
  },
  {
   "cell_type": "code",
   "execution_count": 59,
   "id": "ed93f011-b39f-4881-be30-88e90c5b009b",
   "metadata": {},
   "outputs": [
    {
     "data": {
      "text/plain": [
       "3.14"
      ]
     },
     "execution_count": 59,
     "metadata": {},
     "output_type": "execute_result"
    }
   ],
   "source": [
    "round(3.1415, 2)"
   ]
  },
  {
   "cell_type": "code",
   "execution_count": 60,
   "id": "8938173a-761d-4813-830d-e3a0dc7a1279",
   "metadata": {},
   "outputs": [
    {
     "data": {
      "text/plain": [
       "33.15"
      ]
     },
     "execution_count": 60,
     "metadata": {},
     "output_type": "execute_result"
    }
   ],
   "source": [
    "round(33.145, 2)"
   ]
  },
  {
   "cell_type": "code",
   "execution_count": 61,
   "id": "dc53f6e0-6522-47c7-bc26-c7f6c8f6d95e",
   "metadata": {},
   "outputs": [
    {
     "data": {
      "text/plain": [
       "2.67"
      ]
     },
     "execution_count": 61,
     "metadata": {},
     "output_type": "execute_result"
    }
   ],
   "source": [
    "round(2.675, 2)"
   ]
  },
  {
   "cell_type": "code",
   "execution_count": 62,
   "id": "63462ee1-98c9-4a5a-9de1-29d0da8ec73e",
   "metadata": {},
   "outputs": [
    {
     "data": {
      "text/plain": [
       "4.5"
      ]
     },
     "execution_count": 62,
     "metadata": {},
     "output_type": "execute_result"
    }
   ],
   "source": [
    "round(4.55, 1)"
   ]
  },
  {
   "cell_type": "code",
   "execution_count": 64,
   "id": "e423979c-125a-4f67-972a-b66fd907fd29",
   "metadata": {},
   "outputs": [
    {
     "data": {
      "text/plain": [
       "4.2"
      ]
     },
     "execution_count": 64,
     "metadata": {},
     "output_type": "execute_result"
    }
   ],
   "source": [
    "round(4.25, 1)"
   ]
  },
  {
   "cell_type": "code",
   "execution_count": 66,
   "id": "29fbd985-2c0e-412d-8b4c-83c3ba2c22e6",
   "metadata": {},
   "outputs": [],
   "source": [
    "import decimal"
   ]
  },
  {
   "cell_type": "code",
   "execution_count": 67,
   "id": "104d2f28-490a-4c08-aae1-cb0f7b47bf2c",
   "metadata": {},
   "outputs": [
    {
     "name": "stdout",
     "output_type": "stream",
     "text": [
      "4.54999999999999982236431605997495353221893310546875\n"
     ]
    }
   ],
   "source": [
    "print(decimal.Decimal(4.55))"
   ]
  },
  {
   "cell_type": "code",
   "execution_count": 69,
   "id": "9fd6730c-5974-41fd-8af2-bf3c4dc45e24",
   "metadata": {},
   "outputs": [
    {
     "name": "stdout",
     "output_type": "stream",
     "text": [
      "1.25\n"
     ]
    }
   ],
   "source": [
    "print(decimal.Decimal(1.25))"
   ]
  },
  {
   "cell_type": "code",
   "execution_count": 70,
   "id": "e5d65eb3-607e-48f3-8451-b5654e554b45",
   "metadata": {},
   "outputs": [
    {
     "name": "stdout",
     "output_type": "stream",
     "text": [
      "Help on class type in module builtins:\n",
      "\n",
      "class type(object)\n",
      " |  type(object) -> the object's type\n",
      " |  type(name, bases, dict, **kwds) -> a new type\n",
      " |\n",
      " |  Methods defined here:\n",
      " |\n",
      " |  __call__(self, /, *args, **kwargs)\n",
      " |      Call self as a function.\n",
      " |\n",
      " |  __delattr__(self, name, /)\n",
      " |      Implement delattr(self, name).\n",
      " |\n",
      " |  __dir__(self, /)\n",
      " |      Specialized __dir__ implementation for types.\n",
      " |\n",
      " |  __getattribute__(self, name, /)\n",
      " |      Return getattr(self, name).\n",
      " |\n",
      " |  __init__(self, /, *args, **kwargs)\n",
      " |      Initialize self.  See help(type(self)) for accurate signature.\n",
      " |\n",
      " |  __instancecheck__(self, instance, /)\n",
      " |      Check if an object is an instance.\n",
      " |\n",
      " |  __or__(self, value, /)\n",
      " |      Return self|value.\n",
      " |\n",
      " |  __repr__(self, /)\n",
      " |      Return repr(self).\n",
      " |\n",
      " |  __ror__(self, value, /)\n",
      " |      Return value|self.\n",
      " |\n",
      " |  __setattr__(self, name, value, /)\n",
      " |      Implement setattr(self, name, value).\n",
      " |\n",
      " |  __sizeof__(self, /)\n",
      " |      Return memory consumption of the type object.\n",
      " |\n",
      " |  __subclasscheck__(self, subclass, /)\n",
      " |      Check if a class is a subclass.\n",
      " |\n",
      " |  __subclasses__(self, /)\n",
      " |      Return a list of immediate subclasses.\n",
      " |\n",
      " |  mro(self, /)\n",
      " |      Return a type's method resolution order.\n",
      " |\n",
      " |  ----------------------------------------------------------------------\n",
      " |  Class methods defined here:\n",
      " |\n",
      " |  __prepare__(...)\n",
      " |      __prepare__() -> dict\n",
      " |      used to create the namespace for the class statement\n",
      " |\n",
      " |  ----------------------------------------------------------------------\n",
      " |  Static methods defined here:\n",
      " |\n",
      " |  __new__(*args, **kwargs)\n",
      " |      Create and return a new object.  See help(type) for accurate signature.\n",
      " |\n",
      " |  ----------------------------------------------------------------------\n",
      " |  Data descriptors defined here:\n",
      " |\n",
      " |  __abstractmethods__\n",
      " |\n",
      " |  __annotations__\n",
      " |\n",
      " |  __dict__\n",
      " |\n",
      " |  __text_signature__\n",
      " |\n",
      " |  ----------------------------------------------------------------------\n",
      " |  Data and other attributes defined here:\n",
      " |\n",
      " |  __base__ = <class 'object'>\n",
      " |      The base class of the class hierarchy.\n",
      " |\n",
      " |      When called, it accepts no arguments and returns a new featureless\n",
      " |      instance that has no instance attributes and cannot be given any.\n",
      " |\n",
      " |\n",
      " |  __bases__ = (<class 'object'>,)\n",
      " |\n",
      " |  __basicsize__ = 920\n",
      " |\n",
      " |  __dictoffset__ = 264\n",
      " |\n",
      " |  __flags__ = 2156420354\n",
      " |\n",
      " |  __itemsize__ = 40\n",
      " |\n",
      " |  __mro__ = (<class 'type'>, <class 'object'>)\n",
      " |\n",
      " |  __type_params__ = ()\n",
      " |\n",
      " |  __weakrefoffset__ = 368\n",
      "\n"
     ]
    }
   ],
   "source": [
    "help(type)"
   ]
  },
  {
   "cell_type": "code",
   "execution_count": 73,
   "id": "67aca2c1-ef89-4289-bd3c-74173dc1b91f",
   "metadata": {},
   "outputs": [
    {
     "data": {
      "text/plain": [
       "27"
      ]
     },
     "execution_count": 73,
     "metadata": {},
     "output_type": "execute_result"
    }
   ],
   "source": [
    "pow(3,3) # 3 ** 3"
   ]
  },
  {
   "cell_type": "code",
   "execution_count": 74,
   "id": "9ed6bfe7-9140-46f8-be18-0329d6e48c3d",
   "metadata": {},
   "outputs": [
    {
     "data": {
      "text/plain": [
       "2"
      ]
     },
     "execution_count": 74,
     "metadata": {},
     "output_type": "execute_result"
    }
   ],
   "source": [
    "min(2, 3, 4)"
   ]
  },
  {
   "cell_type": "code",
   "execution_count": 77,
   "id": "631ab8b9-d199-45a3-91db-4c27267c5b2a",
   "metadata": {},
   "outputs": [
    {
     "name": "stdout",
     "output_type": "stream",
     "text": [
      "5\n"
     ]
    }
   ],
   "source": [
    "def ret_x(x):\n",
    "    return x\n",
    "\n",
    "print = 3\n",
    "y += ret_x(2)\n",
    "print(y)"
   ]
  },
  {
   "cell_type": "code",
   "execution_count": 75,
   "id": "79a08a85-33bc-49f3-846b-0e433354e630",
   "metadata": {},
   "outputs": [
    {
     "ename": "TypeError",
     "evalue": "unsupported operand type(s) for +: 'int' and 'NoneType'",
     "output_type": "error",
     "traceback": [
      "\u001b[0;31m---------------------------------------------------------------------------\u001b[0m",
      "\u001b[0;31mTypeError\u001b[0m                                 Traceback (most recent call last)",
      "Cell \u001b[0;32mIn[75], line 1\u001b[0m\n\u001b[0;32m----> 1\u001b[0m \u001b[38;5;241;43m3\u001b[39;49m\u001b[43m \u001b[49m\u001b[38;5;241;43m+\u001b[39;49m\u001b[43m \u001b[49m\u001b[38;5;28;43;01mNone\u001b[39;49;00m\n",
      "\u001b[0;31mTypeError\u001b[0m: unsupported operand type(s) for +: 'int' and 'NoneType'"
     ]
    }
   ],
   "source": [
    "3 + None"
   ]
  }
 ],
 "metadata": {
  "kernelspec": {
   "display_name": "Python 3 (ipykernel)",
   "language": "python",
   "name": "python3"
  },
  "language_info": {
   "codemirror_mode": {
    "name": "ipython",
    "version": 3
   },
   "file_extension": ".py",
   "mimetype": "text/x-python",
   "name": "python",
   "nbconvert_exporter": "python",
   "pygments_lexer": "ipython3",
   "version": "3.12.4"
  }
 },
 "nbformat": 4,
 "nbformat_minor": 5
}
