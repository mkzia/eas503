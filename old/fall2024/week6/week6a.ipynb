{
 "cells": [
  {
   "cell_type": "code",
   "execution_count": 9,
   "id": "ff6e09c3-c667-44cc-a0d6-bbbe20497ab1",
   "metadata": {},
   "outputs": [
    {
     "data": {
      "text/plain": [
       "{'data': [{'last_name': 'Weaver',\n",
       "   'first_name': 'Michael',\n",
       "   'email': 'xdunn@hotmail.com',\n",
       "   'country': 'Nepal',\n",
       "   'account': 'QVJP6465242365388'},\n",
       "  {'last_name': 'Owens',\n",
       "   'first_name': 'Jackson',\n",
       "   'email': 'iedwards@yahoo.com',\n",
       "   'country': 'Kazakhstan',\n",
       "   'account': 'FVQZ0955529767455'},\n",
       "  {'last_name': 'Gilmore',\n",
       "   'first_name': 'Patrick',\n",
       "   'email': 'arogers@smith.com',\n",
       "   'country': 'Mauritius',\n",
       "   'account': 'QFIM0905182880347'},\n",
       "  {'last_name': 'Perez',\n",
       "   'first_name': 'Jeffrey',\n",
       "   'email': 'plewis@chavez.com',\n",
       "   'country': 'New Zealand',\n",
       "   'account': 'YWOT0997131632248'},\n",
       "  {'last_name': 'Thomas',\n",
       "   'first_name': 'James',\n",
       "   'email': 'fred92@yahoo.com',\n",
       "   'country': 'Yemen',\n",
       "   'account': 'QAAE9838291982555'},\n",
       "  {'last_name': 'Nelson',\n",
       "   'first_name': 'Greg',\n",
       "   'email': 'mmiller@lynch.com',\n",
       "   'country': 'Jordan',\n",
       "   'account': 'PCNE8127696280157'},\n",
       "  {'last_name': 'White',\n",
       "   'first_name': 'Joshua',\n",
       "   'email': 'steven49@gmail.com',\n",
       "   'country': 'Palau',\n",
       "   'account': 'BCEN3299883381338'},\n",
       "  {'last_name': 'Francis',\n",
       "   'first_name': 'Todd',\n",
       "   'email': 'amanda23@hotmail.com',\n",
       "   'country': 'Argentina',\n",
       "   'account': 'XPTQ7837014557677'},\n",
       "  {'last_name': 'Shaw',\n",
       "   'first_name': 'Stephen',\n",
       "   'email': 'jackduke@hotmail.com',\n",
       "   'country': 'Marshall Islands',\n",
       "   'account': 'TRLQ6559557081716'},\n",
       "  {'last_name': 'Armstrong',\n",
       "   'first_name': 'Mariah',\n",
       "   'email': 'rhodesnicholas@hotmail.com',\n",
       "   'country': 'Albania',\n",
       "   'account': 'OHOV7518558201999'},\n",
       "  {'last_name': 'Boyle',\n",
       "   'first_name': 'Anthony',\n",
       "   'email': 'smithashlee@yahoo.com',\n",
       "   'country': 'Kyrgyz Republic',\n",
       "   'account': 'MCQU7347833033110'},\n",
       "  {'last_name': 'Cuevas',\n",
       "   'first_name': 'Patrick',\n",
       "   'email': 'ubriggs@hill.info',\n",
       "   'country': 'Turkmenistan',\n",
       "   'account': 'PPHE5533473251751'},\n",
       "  {'last_name': 'Reyes',\n",
       "   'first_name': 'Gerald',\n",
       "   'email': 'brownclarence@gonzalez-moore.com',\n",
       "   'country': 'Fiji',\n",
       "   'account': 'JCDK1943355298609'},\n",
       "  {'last_name': 'Calderon',\n",
       "   'first_name': 'Christopher',\n",
       "   'email': 'teresa30@carpenter-warner.com',\n",
       "   'country': 'Costa Rica',\n",
       "   'account': 'NERZ5502558659614'},\n",
       "  {'last_name': 'Weiss',\n",
       "   'first_name': 'Shane',\n",
       "   'email': 'leekatherine@williams.com',\n",
       "   'country': 'Martinique',\n",
       "   'account': 'DLDV5789894914403'},\n",
       "  {'last_name': 'Conley',\n",
       "   'first_name': 'Crystal',\n",
       "   'email': 'chasewatkins@perez-phillips.com',\n",
       "   'country': 'Singapore',\n",
       "   'account': 'GZZF6936998445532'},\n",
       "  {'last_name': 'Nelson',\n",
       "   'first_name': 'Jeffrey',\n",
       "   'email': 'hsherman@gmail.com',\n",
       "   'country': 'Mayotte',\n",
       "   'account': 'ECGK2823955143629'},\n",
       "  {'last_name': 'Johnson',\n",
       "   'first_name': 'Brianna',\n",
       "   'email': 'martinezdaniel@hotmail.com',\n",
       "   'country': 'Costa Rica',\n",
       "   'account': 'QOVO4275314052899'},\n",
       "  {'last_name': 'Werner',\n",
       "   'first_name': 'Brandon',\n",
       "   'email': 'justinfischer@gmail.com',\n",
       "   'country': 'Guadeloupe',\n",
       "   'account': 'UKRT1119626365017'},\n",
       "  {'last_name': 'Bennett',\n",
       "   'first_name': 'Brianna',\n",
       "   'email': 'cindy08@gmail.com',\n",
       "   'country': 'Bahamas',\n",
       "   'account': 'UNPV3347450330173'},\n",
       "  {'last_name': 'Fletcher',\n",
       "   'first_name': 'Austin',\n",
       "   'email': 'carolharrington@fleming.org',\n",
       "   'country': 'Azerbaijan',\n",
       "   'account': 'GJZT6825738428111'},\n",
       "  {'last_name': 'Lewis',\n",
       "   'first_name': 'Patrick',\n",
       "   'email': 'lopezcarl@johnson.com',\n",
       "   'country': 'Saint Helena',\n",
       "   'account': 'JOQE2648899771737'},\n",
       "  {'last_name': 'Smith',\n",
       "   'first_name': 'Joseph',\n",
       "   'email': 'michael74@yahoo.com',\n",
       "   'country': 'Hong Kong',\n",
       "   'account': 'MNXY3262955868027'},\n",
       "  {'last_name': 'Sullivan',\n",
       "   'first_name': 'Sharon',\n",
       "   'email': 'gonzalezrobert@hotmail.com',\n",
       "   'country': 'Turkey',\n",
       "   'account': 'YHXF7256577475630'},\n",
       "  {'last_name': 'Wilson',\n",
       "   'first_name': 'Krystal',\n",
       "   'email': 'dawnjohnson@gmail.com',\n",
       "   'country': 'Swaziland',\n",
       "   'account': 'MUVI3570791852556'},\n",
       "  {'last_name': 'Schmidt',\n",
       "   'first_name': 'Diana',\n",
       "   'email': 'watersryan@gmail.com',\n",
       "   'country': 'Holy See (Vatican City State)',\n",
       "   'account': 'UKCP6739617302102'},\n",
       "  {'last_name': 'Huff',\n",
       "   'first_name': 'Sean',\n",
       "   'email': 'byoung@gmail.com',\n",
       "   'country': 'Norfolk Island',\n",
       "   'account': 'WDAT4146843903498'},\n",
       "  {'last_name': 'Nguyen',\n",
       "   'first_name': 'Robin',\n",
       "   'email': 'vhanson@yahoo.com',\n",
       "   'country': 'Kenya',\n",
       "   'account': 'SVMU4403517448078'},\n",
       "  {'last_name': 'Russell',\n",
       "   'first_name': 'Robyn',\n",
       "   'email': 'bfletcher@yahoo.com',\n",
       "   'country': 'Togo',\n",
       "   'account': 'ZNUY4071301663622'},\n",
       "  {'last_name': 'Smith',\n",
       "   'first_name': 'Tiffany',\n",
       "   'email': 'colleengarrison@hotmail.com',\n",
       "   'country': 'San Marino',\n",
       "   'account': 'GPFA8271551275648'},\n",
       "  {'last_name': 'Smith',\n",
       "   'first_name': 'Lori',\n",
       "   'email': 'catherine23@gmail.com',\n",
       "   'country': 'Romania',\n",
       "   'account': 'MKWY4848668895426'},\n",
       "  {'last_name': 'Keith',\n",
       "   'first_name': 'Sabrina',\n",
       "   'email': 'xmurphy@yahoo.com',\n",
       "   'country': 'Algeria',\n",
       "   'account': 'QHIW7412514205367'},\n",
       "  {'last_name': 'Johnson',\n",
       "   'first_name': 'Miguel',\n",
       "   'email': 'aaronrichard@middleton.net',\n",
       "   'country': 'Slovakia (Slovak Republic)',\n",
       "   'account': 'QAAO4666689281736'},\n",
       "  {'last_name': 'Barron',\n",
       "   'first_name': 'Dustin',\n",
       "   'email': 'jesse93@best.com',\n",
       "   'country': 'Somalia',\n",
       "   'account': 'LRPR8694143910883'},\n",
       "  {'last_name': 'Robinson',\n",
       "   'first_name': 'Michael',\n",
       "   'email': 'johnperez@johnson.com',\n",
       "   'country': 'Turkmenistan',\n",
       "   'account': 'UWFU1921951273393'},\n",
       "  {'last_name': 'Nguyen',\n",
       "   'first_name': 'Robert',\n",
       "   'email': 'jessica62@yahoo.com',\n",
       "   'country': 'Croatia',\n",
       "   'account': 'JQHS4274771257925'},\n",
       "  {'last_name': 'Abbott',\n",
       "   'first_name': 'Brandon',\n",
       "   'email': 'jennifer87@gmail.com',\n",
       "   'country': 'Jamaica',\n",
       "   'account': 'RSLD0426398604312'},\n",
       "  {'last_name': 'Oneill',\n",
       "   'first_name': 'Bruce',\n",
       "   'email': 'morenolindsay@bass.org',\n",
       "   'country': 'Montserrat',\n",
       "   'account': 'UYHI6964741005832'},\n",
       "  {'last_name': 'Nash',\n",
       "   'first_name': 'Linda',\n",
       "   'email': 'robertdavis@hotmail.com',\n",
       "   'country': 'Heard Island and McDonald Islands',\n",
       "   'account': 'ZKTE5908966955533'},\n",
       "  {'last_name': 'Cameron',\n",
       "   'first_name': 'Kathleen',\n",
       "   'email': 'melanie81@rogers.com',\n",
       "   'country': 'Niger',\n",
       "   'account': 'HHHP3471562002758'},\n",
       "  {'last_name': 'Wilkinson',\n",
       "   'first_name': 'Wesley',\n",
       "   'email': 'clineerin@hotmail.com',\n",
       "   'country': 'Saint Vincent and the Grenadines',\n",
       "   'account': 'UWLV6407825245995'},\n",
       "  {'last_name': 'Wallace',\n",
       "   'first_name': 'Debbie',\n",
       "   'email': 'terri95@hotmail.com',\n",
       "   'country': 'Antigua and Barbuda',\n",
       "   'account': 'JRBN0811785293731'},\n",
       "  {'last_name': 'Woodward',\n",
       "   'first_name': 'Kayla',\n",
       "   'email': 'danielle65@yahoo.com',\n",
       "   'country': 'Mexico',\n",
       "   'account': 'VDWY7565964041116'},\n",
       "  {'last_name': 'Bennett',\n",
       "   'first_name': 'Stephanie',\n",
       "   'email': 'sjackson@yahoo.com',\n",
       "   'country': 'Singapore',\n",
       "   'account': 'DNRB2101855092009'},\n",
       "  {'last_name': 'Jenkins',\n",
       "   'first_name': 'Caleb',\n",
       "   'email': 'douglas63@yahoo.com',\n",
       "   'country': 'Botswana',\n",
       "   'account': 'IILE1765776198023'},\n",
       "  {'last_name': 'Edwards',\n",
       "   'first_name': 'Valerie',\n",
       "   'email': 'woodardlindsey@yahoo.com',\n",
       "   'country': 'Guinea',\n",
       "   'account': 'ZJUF2687631787282'},\n",
       "  {'last_name': 'Anderson',\n",
       "   'first_name': 'Mary',\n",
       "   'email': 'suebrown@yahoo.com',\n",
       "   'country': 'Chile',\n",
       "   'account': 'DHMT4208071148508'},\n",
       "  {'last_name': 'Ray',\n",
       "   'first_name': 'Angela',\n",
       "   'email': 'swhite@yahoo.com',\n",
       "   'country': 'Mayotte',\n",
       "   'account': 'UBRR8524342666714'},\n",
       "  {'last_name': 'Edwards',\n",
       "   'first_name': 'Haley',\n",
       "   'email': 'martinkimberly@lopez.com',\n",
       "   'country': 'Macedonia',\n",
       "   'account': 'OGPU6537909247863'},\n",
       "  {'last_name': 'Clark',\n",
       "   'first_name': 'Charles',\n",
       "   'email': 'jessica11@hotmail.com',\n",
       "   'country': 'Ukraine',\n",
       "   'account': 'AHYX6128839695452'},\n",
       "  {'last_name': 'Hill',\n",
       "   'first_name': 'Lisa',\n",
       "   'email': 'hsmith@baker.com',\n",
       "   'country': 'Saint Martin',\n",
       "   'account': 'VUPW6891906300822'},\n",
       "  {'last_name': 'Carpenter',\n",
       "   'first_name': 'Jonathan',\n",
       "   'email': 'fklein@yahoo.com',\n",
       "   'country': 'Germany',\n",
       "   'account': 'PKFW4841194501766'},\n",
       "  {'last_name': 'Griffith',\n",
       "   'first_name': 'Latoya',\n",
       "   'email': 'ryan32@skinner.com',\n",
       "   'country': 'Lesotho',\n",
       "   'account': 'BNYD8693045932496'},\n",
       "  {'last_name': 'Blair',\n",
       "   'first_name': 'Kim',\n",
       "   'email': 'tmurphy@flores.biz',\n",
       "   'country': 'Nepal',\n",
       "   'account': 'FQJA6381776349463'},\n",
       "  {'last_name': 'Salazar',\n",
       "   'first_name': 'Mary',\n",
       "   'email': 'mary64@ray.org',\n",
       "   'country': 'Latvia',\n",
       "   'account': 'KCNI2464381879411'},\n",
       "  {'last_name': 'Krueger',\n",
       "   'first_name': 'Kenneth',\n",
       "   'email': 'jennajoseph@yahoo.com',\n",
       "   'country': 'Central African Republic',\n",
       "   'account': 'BIGY3006735396533'},\n",
       "  {'last_name': 'Burke',\n",
       "   'first_name': 'Phillip',\n",
       "   'email': 'watsonsamuel@gmail.com',\n",
       "   'country': 'Peru',\n",
       "   'account': 'CNJX1222752295544'},\n",
       "  {'last_name': 'Juarez',\n",
       "   'first_name': 'Erica',\n",
       "   'email': 'xvelasquez@hughes.com',\n",
       "   'country': 'Spain',\n",
       "   'account': 'ZROP5229895490397'},\n",
       "  {'last_name': 'Watkins',\n",
       "   'first_name': 'Jason',\n",
       "   'email': 'april99@gmail.com',\n",
       "   'country': 'Seychelles',\n",
       "   'account': 'NXKK2792812848629'},\n",
       "  {'last_name': 'Carter',\n",
       "   'first_name': 'Lee',\n",
       "   'email': 'kfletcher@yahoo.com',\n",
       "   'country': 'Faroe Islands',\n",
       "   'account': 'DPLN5056382218296'},\n",
       "  {'last_name': 'Huang',\n",
       "   'first_name': 'Randy',\n",
       "   'email': 'xchurch@hotmail.com',\n",
       "   'country': 'Tokelau',\n",
       "   'account': 'KAOL9792684486009'},\n",
       "  {'last_name': 'Owen',\n",
       "   'first_name': 'Kristina',\n",
       "   'email': 'megan24@stewart.net',\n",
       "   'country': 'Cocos (Keeling) Islands',\n",
       "   'account': 'WRXW4627191899235'},\n",
       "  {'last_name': 'Turner',\n",
       "   'first_name': 'Beth',\n",
       "   'email': 'sydneycollins@hunter.com',\n",
       "   'country': 'Burundi',\n",
       "   'account': 'OMOK4767172062189'},\n",
       "  {'last_name': 'Aguirre',\n",
       "   'first_name': 'Michael',\n",
       "   'email': 'robertbowen@chavez-ortega.com',\n",
       "   'country': 'Timor-Leste',\n",
       "   'account': 'KRKF7344951038740'},\n",
       "  {'last_name': 'Wilson',\n",
       "   'first_name': 'Elizabeth',\n",
       "   'email': 'christiandanielle@yahoo.com',\n",
       "   'country': 'Montserrat',\n",
       "   'account': 'SAAA4141150617330'},\n",
       "  {'last_name': 'Hardy',\n",
       "   'first_name': 'Teresa',\n",
       "   'email': 'kdavidson@gordon.com',\n",
       "   'country': 'Norway',\n",
       "   'account': 'XNWQ1072087896797'},\n",
       "  {'last_name': 'Stewart',\n",
       "   'first_name': 'David',\n",
       "   'email': 'bennettwanda@vega-guerra.net',\n",
       "   'country': 'Sierra Leone',\n",
       "   'account': 'FTHM1005169617995'},\n",
       "  {'last_name': 'Moore',\n",
       "   'first_name': 'Heather',\n",
       "   'email': 'mark00@hotmail.com',\n",
       "   'country': 'French Polynesia',\n",
       "   'account': 'OSSM9070924947595'},\n",
       "  {'last_name': 'Grant',\n",
       "   'first_name': 'Melissa',\n",
       "   'email': 'schaefernatalie@hotmail.com',\n",
       "   'country': 'French Guiana',\n",
       "   'account': 'CFQJ4204773901237'},\n",
       "  {'last_name': 'Thompson',\n",
       "   'first_name': 'Jennifer',\n",
       "   'email': 'moralesmartin@rodgers.com',\n",
       "   'country': 'Cape Verde',\n",
       "   'account': 'MGFG2793756668287'},\n",
       "  {'last_name': 'Anderson',\n",
       "   'first_name': 'Raymond',\n",
       "   'email': 'dprince@hotmail.com',\n",
       "   'country': 'Barbados',\n",
       "   'account': 'IGXK5881682171566'},\n",
       "  {'last_name': 'Ramsey',\n",
       "   'first_name': 'Angela',\n",
       "   'email': 'cparks@valdez-hudson.com',\n",
       "   'country': 'Andorra',\n",
       "   'account': 'QYBW6359021109484'},\n",
       "  {'last_name': 'Gonzales',\n",
       "   'first_name': 'Betty',\n",
       "   'email': 'martinezrichard@yahoo.com',\n",
       "   'country': 'Montserrat',\n",
       "   'account': 'UTSI0776569247505'},\n",
       "  {'last_name': 'Castaneda',\n",
       "   'first_name': 'Thomas',\n",
       "   'email': 'kpena@yahoo.com',\n",
       "   'country': 'Egypt',\n",
       "   'account': 'LSDI9463735752680'},\n",
       "  {'last_name': 'Todd',\n",
       "   'first_name': 'Jonathan',\n",
       "   'email': 'julie68@gmail.com',\n",
       "   'country': 'Malaysia',\n",
       "   'account': 'ISYY1401931979959'},\n",
       "  {'last_name': 'Garcia',\n",
       "   'first_name': 'Stacey',\n",
       "   'email': 'lukebradford@hotmail.com',\n",
       "   'country': 'Zimbabwe',\n",
       "   'account': 'HNOA0376843856035'},\n",
       "  {'last_name': 'Figueroa',\n",
       "   'first_name': 'Judy',\n",
       "   'email': 'ystewart@yahoo.com',\n",
       "   'country': 'Portugal',\n",
       "   'account': 'EEVV8325881104553'},\n",
       "  {'last_name': 'Castillo',\n",
       "   'first_name': 'Ashley',\n",
       "   'email': 'cory33@king-shaw.net',\n",
       "   'country': 'Paraguay',\n",
       "   'account': 'QXGZ3111246190069'},\n",
       "  {'last_name': 'Flores',\n",
       "   'first_name': 'Zachary',\n",
       "   'email': 'zcalhoun@gmail.com',\n",
       "   'country': 'Central African Republic',\n",
       "   'account': 'ACQR2846533122117'},\n",
       "  {'last_name': 'Allen',\n",
       "   'first_name': 'Erica',\n",
       "   'email': 'michaelhall@hotmail.com',\n",
       "   'country': 'Palau',\n",
       "   'account': 'ZAZD8310339637467'},\n",
       "  {'last_name': 'Potts',\n",
       "   'first_name': 'Savannah',\n",
       "   'email': 'kristentaylor@yahoo.com',\n",
       "   'country': 'Micronesia',\n",
       "   'account': 'ARWK1547324119222'},\n",
       "  {'last_name': 'Wheeler',\n",
       "   'first_name': 'Zachary',\n",
       "   'email': 'stephen63@yahoo.com',\n",
       "   'country': 'Armenia',\n",
       "   'account': 'OMQX4840913072589'},\n",
       "  {'last_name': 'Thomas',\n",
       "   'first_name': 'Timothy',\n",
       "   'email': 'bryanmartin@gmail.com',\n",
       "   'country': 'Bahrain',\n",
       "   'account': 'OCFV4659464275270'},\n",
       "  {'last_name': 'Mcknight',\n",
       "   'first_name': 'Ann',\n",
       "   'email': 'kristinavelasquez@gmail.com',\n",
       "   'country': 'Guatemala',\n",
       "   'account': 'DTRB4720098955341'},\n",
       "  {'last_name': 'Thompson',\n",
       "   'first_name': 'Ruth',\n",
       "   'email': 'denise01@burns.org',\n",
       "   'country': 'Saint Vincent and the Grenadines',\n",
       "   'account': 'YYHM5758234683389'},\n",
       "  {'last_name': 'Levy',\n",
       "   'first_name': 'Daniel',\n",
       "   'email': 'beancody@jones.com',\n",
       "   'country': 'Kazakhstan',\n",
       "   'account': 'AHBN3151680654826'},\n",
       "  {'last_name': 'Hubbard',\n",
       "   'first_name': 'Paul',\n",
       "   'email': 'ubradley@yahoo.com',\n",
       "   'country': 'Germany',\n",
       "   'account': 'FGBC0366153271398'},\n",
       "  {'last_name': 'Jones',\n",
       "   'first_name': 'Jason',\n",
       "   'email': 'anthony75@yahoo.com',\n",
       "   'country': 'Western Sahara',\n",
       "   'account': 'MHTE8867005510944'},\n",
       "  {'last_name': 'Garcia',\n",
       "   'first_name': 'Margaret',\n",
       "   'email': 'antonio52@gmail.com',\n",
       "   'country': 'Togo',\n",
       "   'account': 'IYOD4325345823013'},\n",
       "  {'last_name': 'Peters',\n",
       "   'first_name': 'Jeremy',\n",
       "   'email': 'johnlewis@hotmail.com',\n",
       "   'country': 'Guam',\n",
       "   'account': 'NZFX8257739892619'},\n",
       "  {'last_name': 'Stone',\n",
       "   'first_name': 'Mark',\n",
       "   'email': 'nmoore@hotmail.com',\n",
       "   'country': 'Kuwait',\n",
       "   'account': 'MWRB2515761996641'},\n",
       "  {'last_name': 'Edwards',\n",
       "   'first_name': 'Darius',\n",
       "   'email': 'nchurch@yahoo.com',\n",
       "   'country': 'Eritrea',\n",
       "   'account': 'CURJ9953745256871'},\n",
       "  {'last_name': 'Lawson',\n",
       "   'first_name': 'Tracy',\n",
       "   'email': 'piercejenna@gmail.com',\n",
       "   'country': 'Czech Republic',\n",
       "   'account': 'ATOT8581137487723'},\n",
       "  {'last_name': 'Cooper',\n",
       "   'first_name': 'Christina',\n",
       "   'email': 'ddavidson@hotmail.com',\n",
       "   'country': 'Maldives',\n",
       "   'account': 'RQGA0882784089265'},\n",
       "  {'last_name': 'Harris',\n",
       "   'first_name': 'Megan',\n",
       "   'email': 'ndelacruz@yahoo.com',\n",
       "   'country': 'Armenia',\n",
       "   'account': 'EOPA8088866975598'},\n",
       "  {'last_name': 'Jones',\n",
       "   'first_name': 'Timothy',\n",
       "   'email': 'jenniferadkins@griffin.biz',\n",
       "   'country': 'Benin',\n",
       "   'account': 'JCUN9597199552039'},\n",
       "  {'last_name': 'Burch',\n",
       "   'first_name': 'Tracie',\n",
       "   'email': 'evansmiguel@yahoo.com',\n",
       "   'country': 'Fiji',\n",
       "   'account': 'IZYL3351829981461'},\n",
       "  {'last_name': 'Chung',\n",
       "   'first_name': 'Jason',\n",
       "   'email': 'kenneththompson@baxter.com',\n",
       "   'country': 'Iceland',\n",
       "   'account': 'JDIH2349154465371'},\n",
       "  {'last_name': 'Melton',\n",
       "   'first_name': 'Samantha',\n",
       "   'email': 'bcurtis@hotmail.com',\n",
       "   'country': 'Macedonia',\n",
       "   'account': 'VRZP1447516193511'},\n",
       "  {'last_name': 'Hansen',\n",
       "   'first_name': 'Michael',\n",
       "   'email': 'phillipssean@hotmail.com',\n",
       "   'country': 'Serbia',\n",
       "   'account': 'QKAF2254397516681'}],\n",
       " 'total_users': 100}"
      ]
     },
     "execution_count": 9,
     "metadata": {},
     "output_type": "execute_result"
    }
   ],
   "source": [
    "filename = \"people.tsv\"\n",
    "header = None\n",
    "response = {}\n",
    "response[\"data\"] = []\n",
    "with open(filename) as file: # default 'r', 'w', 'a' == append\n",
    "    for line in file:\n",
    "        line = line.strip()\n",
    "        if not line:\n",
    "            continue\n",
    "\n",
    "        if not header:\n",
    "            header = line.split('\\t')\n",
    "            continue\n",
    "\n",
    "        user = dict(zip(header, line.split('\\t')))\n",
    "        response[\"data\"].append(user)\n",
    "\n",
    "response[\"total_users\"] = len(response[\"data\"])\n"
   ]
  },
  {
   "cell_type": "code",
   "execution_count": 13,
   "id": "6afda4cf-9a86-43be-970a-30714e662174",
   "metadata": {},
   "outputs": [],
   "source": [
    "import json\n",
    "\n",
    "json.dump(response, open('json_response.json', 'w'), indent=2, sort_keys=True)"
   ]
  },
  {
   "cell_type": "code",
   "execution_count": 14,
   "id": "d1d9a2b7-3c0a-4d54-bdc5-3e847a0248ee",
   "metadata": {},
   "outputs": [
    {
     "name": "stdout",
     "output_type": "stream",
     "text": [
      "{'data': [{'account': 'QVJP6465242365388', 'country': 'Nepal', 'email': 'xdunn@hotmail.com', 'first_name': 'Michael', 'last_name': 'Weaver'}, {'account': 'FVQZ0955529767455', 'country': 'Kazakhstan', 'email': 'iedwards@yahoo.com', 'first_name': 'Jackson', 'last_name': 'Owens'}, {'account': 'QFIM0905182880347', 'country': 'Mauritius', 'email': 'arogers@smith.com', 'first_name': 'Patrick', 'last_name': 'Gilmore'}, {'account': 'YWOT0997131632248', 'country': 'New Zealand', 'email': 'plewis@chavez.com', 'first_name': 'Jeffrey', 'last_name': 'Perez'}, {'account': 'QAAE9838291982555', 'country': 'Yemen', 'email': 'fred92@yahoo.com', 'first_name': 'James', 'last_name': 'Thomas'}, {'account': 'PCNE8127696280157', 'country': 'Jordan', 'email': 'mmiller@lynch.com', 'first_name': 'Greg', 'last_name': 'Nelson'}, {'account': 'BCEN3299883381338', 'country': 'Palau', 'email': 'steven49@gmail.com', 'first_name': 'Joshua', 'last_name': 'White'}, {'account': 'XPTQ7837014557677', 'country': 'Argentina', 'email': 'amanda23@hotmail.com', 'first_name': 'Todd', 'last_name': 'Francis'}, {'account': 'TRLQ6559557081716', 'country': 'Marshall Islands', 'email': 'jackduke@hotmail.com', 'first_name': 'Stephen', 'last_name': 'Shaw'}, {'account': 'OHOV7518558201999', 'country': 'Albania', 'email': 'rhodesnicholas@hotmail.com', 'first_name': 'Mariah', 'last_name': 'Armstrong'}, {'account': 'MCQU7347833033110', 'country': 'Kyrgyz Republic', 'email': 'smithashlee@yahoo.com', 'first_name': 'Anthony', 'last_name': 'Boyle'}, {'account': 'PPHE5533473251751', 'country': 'Turkmenistan', 'email': 'ubriggs@hill.info', 'first_name': 'Patrick', 'last_name': 'Cuevas'}, {'account': 'JCDK1943355298609', 'country': 'Fiji', 'email': 'brownclarence@gonzalez-moore.com', 'first_name': 'Gerald', 'last_name': 'Reyes'}, {'account': 'NERZ5502558659614', 'country': 'Costa Rica', 'email': 'teresa30@carpenter-warner.com', 'first_name': 'Christopher', 'last_name': 'Calderon'}, {'account': 'DLDV5789894914403', 'country': 'Martinique', 'email': 'leekatherine@williams.com', 'first_name': 'Shane', 'last_name': 'Weiss'}, {'account': 'GZZF6936998445532', 'country': 'Singapore', 'email': 'chasewatkins@perez-phillips.com', 'first_name': 'Crystal', 'last_name': 'Conley'}, {'account': 'ECGK2823955143629', 'country': 'Mayotte', 'email': 'hsherman@gmail.com', 'first_name': 'Jeffrey', 'last_name': 'Nelson'}, {'account': 'QOVO4275314052899', 'country': 'Costa Rica', 'email': 'martinezdaniel@hotmail.com', 'first_name': 'Brianna', 'last_name': 'Johnson'}, {'account': 'UKRT1119626365017', 'country': 'Guadeloupe', 'email': 'justinfischer@gmail.com', 'first_name': 'Brandon', 'last_name': 'Werner'}, {'account': 'UNPV3347450330173', 'country': 'Bahamas', 'email': 'cindy08@gmail.com', 'first_name': 'Brianna', 'last_name': 'Bennett'}, {'account': 'GJZT6825738428111', 'country': 'Azerbaijan', 'email': 'carolharrington@fleming.org', 'first_name': 'Austin', 'last_name': 'Fletcher'}, {'account': 'JOQE2648899771737', 'country': 'Saint Helena', 'email': 'lopezcarl@johnson.com', 'first_name': 'Patrick', 'last_name': 'Lewis'}, {'account': 'MNXY3262955868027', 'country': 'Hong Kong', 'email': 'michael74@yahoo.com', 'first_name': 'Joseph', 'last_name': 'Smith'}, {'account': 'YHXF7256577475630', 'country': 'Turkey', 'email': 'gonzalezrobert@hotmail.com', 'first_name': 'Sharon', 'last_name': 'Sullivan'}, {'account': 'MUVI3570791852556', 'country': 'Swaziland', 'email': 'dawnjohnson@gmail.com', 'first_name': 'Krystal', 'last_name': 'Wilson'}, {'account': 'UKCP6739617302102', 'country': 'Holy See (Vatican City State)', 'email': 'watersryan@gmail.com', 'first_name': 'Diana', 'last_name': 'Schmidt'}, {'account': 'WDAT4146843903498', 'country': 'Norfolk Island', 'email': 'byoung@gmail.com', 'first_name': 'Sean', 'last_name': 'Huff'}, {'account': 'SVMU4403517448078', 'country': 'Kenya', 'email': 'vhanson@yahoo.com', 'first_name': 'Robin', 'last_name': 'Nguyen'}, {'account': 'ZNUY4071301663622', 'country': 'Togo', 'email': 'bfletcher@yahoo.com', 'first_name': 'Robyn', 'last_name': 'Russell'}, {'account': 'GPFA8271551275648', 'country': 'San Marino', 'email': 'colleengarrison@hotmail.com', 'first_name': 'Tiffany', 'last_name': 'Smith'}, {'account': 'MKWY4848668895426', 'country': 'Romania', 'email': 'catherine23@gmail.com', 'first_name': 'Lori', 'last_name': 'Smith'}, {'account': 'QHIW7412514205367', 'country': 'Algeria', 'email': 'xmurphy@yahoo.com', 'first_name': 'Sabrina', 'last_name': 'Keith'}, {'account': 'QAAO4666689281736', 'country': 'Slovakia (Slovak Republic)', 'email': 'aaronrichard@middleton.net', 'first_name': 'Miguel', 'last_name': 'Johnson'}, {'account': 'LRPR8694143910883', 'country': 'Somalia', 'email': 'jesse93@best.com', 'first_name': 'Dustin', 'last_name': 'Barron'}, {'account': 'UWFU1921951273393', 'country': 'Turkmenistan', 'email': 'johnperez@johnson.com', 'first_name': 'Michael', 'last_name': 'Robinson'}, {'account': 'JQHS4274771257925', 'country': 'Croatia', 'email': 'jessica62@yahoo.com', 'first_name': 'Robert', 'last_name': 'Nguyen'}, {'account': 'RSLD0426398604312', 'country': 'Jamaica', 'email': 'jennifer87@gmail.com', 'first_name': 'Brandon', 'last_name': 'Abbott'}, {'account': 'UYHI6964741005832', 'country': 'Montserrat', 'email': 'morenolindsay@bass.org', 'first_name': 'Bruce', 'last_name': 'Oneill'}, {'account': 'ZKTE5908966955533', 'country': 'Heard Island and McDonald Islands', 'email': 'robertdavis@hotmail.com', 'first_name': 'Linda', 'last_name': 'Nash'}, {'account': 'HHHP3471562002758', 'country': 'Niger', 'email': 'melanie81@rogers.com', 'first_name': 'Kathleen', 'last_name': 'Cameron'}, {'account': 'UWLV6407825245995', 'country': 'Saint Vincent and the Grenadines', 'email': 'clineerin@hotmail.com', 'first_name': 'Wesley', 'last_name': 'Wilkinson'}, {'account': 'JRBN0811785293731', 'country': 'Antigua and Barbuda', 'email': 'terri95@hotmail.com', 'first_name': 'Debbie', 'last_name': 'Wallace'}, {'account': 'VDWY7565964041116', 'country': 'Mexico', 'email': 'danielle65@yahoo.com', 'first_name': 'Kayla', 'last_name': 'Woodward'}, {'account': 'DNRB2101855092009', 'country': 'Singapore', 'email': 'sjackson@yahoo.com', 'first_name': 'Stephanie', 'last_name': 'Bennett'}, {'account': 'IILE1765776198023', 'country': 'Botswana', 'email': 'douglas63@yahoo.com', 'first_name': 'Caleb', 'last_name': 'Jenkins'}, {'account': 'ZJUF2687631787282', 'country': 'Guinea', 'email': 'woodardlindsey@yahoo.com', 'first_name': 'Valerie', 'last_name': 'Edwards'}, {'account': 'DHMT4208071148508', 'country': 'Chile', 'email': 'suebrown@yahoo.com', 'first_name': 'Mary', 'last_name': 'Anderson'}, {'account': 'UBRR8524342666714', 'country': 'Mayotte', 'email': 'swhite@yahoo.com', 'first_name': 'Angela', 'last_name': 'Ray'}, {'account': 'OGPU6537909247863', 'country': 'Macedonia', 'email': 'martinkimberly@lopez.com', 'first_name': 'Haley', 'last_name': 'Edwards'}, {'account': 'AHYX6128839695452', 'country': 'Ukraine', 'email': 'jessica11@hotmail.com', 'first_name': 'Charles', 'last_name': 'Clark'}, {'account': 'VUPW6891906300822', 'country': 'Saint Martin', 'email': 'hsmith@baker.com', 'first_name': 'Lisa', 'last_name': 'Hill'}, {'account': 'PKFW4841194501766', 'country': 'Germany', 'email': 'fklein@yahoo.com', 'first_name': 'Jonathan', 'last_name': 'Carpenter'}, {'account': 'BNYD8693045932496', 'country': 'Lesotho', 'email': 'ryan32@skinner.com', 'first_name': 'Latoya', 'last_name': 'Griffith'}, {'account': 'FQJA6381776349463', 'country': 'Nepal', 'email': 'tmurphy@flores.biz', 'first_name': 'Kim', 'last_name': 'Blair'}, {'account': 'KCNI2464381879411', 'country': 'Latvia', 'email': 'mary64@ray.org', 'first_name': 'Mary', 'last_name': 'Salazar'}, {'account': 'BIGY3006735396533', 'country': 'Central African Republic', 'email': 'jennajoseph@yahoo.com', 'first_name': 'Kenneth', 'last_name': 'Krueger'}, {'account': 'CNJX1222752295544', 'country': 'Peru', 'email': 'watsonsamuel@gmail.com', 'first_name': 'Phillip', 'last_name': 'Burke'}, {'account': 'ZROP5229895490397', 'country': 'Spain', 'email': 'xvelasquez@hughes.com', 'first_name': 'Erica', 'last_name': 'Juarez'}, {'account': 'NXKK2792812848629', 'country': 'Seychelles', 'email': 'april99@gmail.com', 'first_name': 'Jason', 'last_name': 'Watkins'}, {'account': 'DPLN5056382218296', 'country': 'Faroe Islands', 'email': 'kfletcher@yahoo.com', 'first_name': 'Lee', 'last_name': 'Carter'}, {'account': 'KAOL9792684486009', 'country': 'Tokelau', 'email': 'xchurch@hotmail.com', 'first_name': 'Randy', 'last_name': 'Huang'}, {'account': 'WRXW4627191899235', 'country': 'Cocos (Keeling) Islands', 'email': 'megan24@stewart.net', 'first_name': 'Kristina', 'last_name': 'Owen'}, {'account': 'OMOK4767172062189', 'country': 'Burundi', 'email': 'sydneycollins@hunter.com', 'first_name': 'Beth', 'last_name': 'Turner'}, {'account': 'KRKF7344951038740', 'country': 'Timor-Leste', 'email': 'robertbowen@chavez-ortega.com', 'first_name': 'Michael', 'last_name': 'Aguirre'}, {'account': 'SAAA4141150617330', 'country': 'Montserrat', 'email': 'christiandanielle@yahoo.com', 'first_name': 'Elizabeth', 'last_name': 'Wilson'}, {'account': 'XNWQ1072087896797', 'country': 'Norway', 'email': 'kdavidson@gordon.com', 'first_name': 'Teresa', 'last_name': 'Hardy'}, {'account': 'FTHM1005169617995', 'country': 'Sierra Leone', 'email': 'bennettwanda@vega-guerra.net', 'first_name': 'David', 'last_name': 'Stewart'}, {'account': 'OSSM9070924947595', 'country': 'French Polynesia', 'email': 'mark00@hotmail.com', 'first_name': 'Heather', 'last_name': 'Moore'}, {'account': 'CFQJ4204773901237', 'country': 'French Guiana', 'email': 'schaefernatalie@hotmail.com', 'first_name': 'Melissa', 'last_name': 'Grant'}, {'account': 'MGFG2793756668287', 'country': 'Cape Verde', 'email': 'moralesmartin@rodgers.com', 'first_name': 'Jennifer', 'last_name': 'Thompson'}, {'account': 'IGXK5881682171566', 'country': 'Barbados', 'email': 'dprince@hotmail.com', 'first_name': 'Raymond', 'last_name': 'Anderson'}, {'account': 'QYBW6359021109484', 'country': 'Andorra', 'email': 'cparks@valdez-hudson.com', 'first_name': 'Angela', 'last_name': 'Ramsey'}, {'account': 'UTSI0776569247505', 'country': 'Montserrat', 'email': 'martinezrichard@yahoo.com', 'first_name': 'Betty', 'last_name': 'Gonzales'}, {'account': 'LSDI9463735752680', 'country': 'Egypt', 'email': 'kpena@yahoo.com', 'first_name': 'Thomas', 'last_name': 'Castaneda'}, {'account': 'ISYY1401931979959', 'country': 'Malaysia', 'email': 'julie68@gmail.com', 'first_name': 'Jonathan', 'last_name': 'Todd'}, {'account': 'HNOA0376843856035', 'country': 'Zimbabwe', 'email': 'lukebradford@hotmail.com', 'first_name': 'Stacey', 'last_name': 'Garcia'}, {'account': 'EEVV8325881104553', 'country': 'Portugal', 'email': 'ystewart@yahoo.com', 'first_name': 'Judy', 'last_name': 'Figueroa'}, {'account': 'QXGZ3111246190069', 'country': 'Paraguay', 'email': 'cory33@king-shaw.net', 'first_name': 'Ashley', 'last_name': 'Castillo'}, {'account': 'ACQR2846533122117', 'country': 'Central African Republic', 'email': 'zcalhoun@gmail.com', 'first_name': 'Zachary', 'last_name': 'Flores'}, {'account': 'ZAZD8310339637467', 'country': 'Palau', 'email': 'michaelhall@hotmail.com', 'first_name': 'Erica', 'last_name': 'Allen'}, {'account': 'ARWK1547324119222', 'country': 'Micronesia', 'email': 'kristentaylor@yahoo.com', 'first_name': 'Savannah', 'last_name': 'Potts'}, {'account': 'OMQX4840913072589', 'country': 'Armenia', 'email': 'stephen63@yahoo.com', 'first_name': 'Zachary', 'last_name': 'Wheeler'}, {'account': 'OCFV4659464275270', 'country': 'Bahrain', 'email': 'bryanmartin@gmail.com', 'first_name': 'Timothy', 'last_name': 'Thomas'}, {'account': 'DTRB4720098955341', 'country': 'Guatemala', 'email': 'kristinavelasquez@gmail.com', 'first_name': 'Ann', 'last_name': 'Mcknight'}, {'account': 'YYHM5758234683389', 'country': 'Saint Vincent and the Grenadines', 'email': 'denise01@burns.org', 'first_name': 'Ruth', 'last_name': 'Thompson'}, {'account': 'AHBN3151680654826', 'country': 'Kazakhstan', 'email': 'beancody@jones.com', 'first_name': 'Daniel', 'last_name': 'Levy'}, {'account': 'FGBC0366153271398', 'country': 'Germany', 'email': 'ubradley@yahoo.com', 'first_name': 'Paul', 'last_name': 'Hubbard'}, {'account': 'MHTE8867005510944', 'country': 'Western Sahara', 'email': 'anthony75@yahoo.com', 'first_name': 'Jason', 'last_name': 'Jones'}, {'account': 'IYOD4325345823013', 'country': 'Togo', 'email': 'antonio52@gmail.com', 'first_name': 'Margaret', 'last_name': 'Garcia'}, {'account': 'NZFX8257739892619', 'country': 'Guam', 'email': 'johnlewis@hotmail.com', 'first_name': 'Jeremy', 'last_name': 'Peters'}, {'account': 'MWRB2515761996641', 'country': 'Kuwait', 'email': 'nmoore@hotmail.com', 'first_name': 'Mark', 'last_name': 'Stone'}, {'account': 'CURJ9953745256871', 'country': 'Eritrea', 'email': 'nchurch@yahoo.com', 'first_name': 'Darius', 'last_name': 'Edwards'}, {'account': 'ATOT8581137487723', 'country': 'Czech Republic', 'email': 'piercejenna@gmail.com', 'first_name': 'Tracy', 'last_name': 'Lawson'}, {'account': 'RQGA0882784089265', 'country': 'Maldives', 'email': 'ddavidson@hotmail.com', 'first_name': 'Christina', 'last_name': 'Cooper'}, {'account': 'EOPA8088866975598', 'country': 'Armenia', 'email': 'ndelacruz@yahoo.com', 'first_name': 'Megan', 'last_name': 'Harris'}, {'account': 'JCUN9597199552039', 'country': 'Benin', 'email': 'jenniferadkins@griffin.biz', 'first_name': 'Timothy', 'last_name': 'Jones'}, {'account': 'IZYL3351829981461', 'country': 'Fiji', 'email': 'evansmiguel@yahoo.com', 'first_name': 'Tracie', 'last_name': 'Burch'}, {'account': 'JDIH2349154465371', 'country': 'Iceland', 'email': 'kenneththompson@baxter.com', 'first_name': 'Jason', 'last_name': 'Chung'}, {'account': 'VRZP1447516193511', 'country': 'Macedonia', 'email': 'bcurtis@hotmail.com', 'first_name': 'Samantha', 'last_name': 'Melton'}, {'account': 'QKAF2254397516681', 'country': 'Serbia', 'email': 'phillipssean@hotmail.com', 'first_name': 'Michael', 'last_name': 'Hansen'}], 'total_users': 100}\n"
     ]
    }
   ],
   "source": [
    "json_data = json.load(open('json_response.json'))\n",
    "\n",
    "print(json_data)"
   ]
  },
  {
   "cell_type": "code",
   "execution_count": 31,
   "id": "f9dd45fe-3039-4169-bb2f-cfd469248798",
   "metadata": {},
   "outputs": [
    {
     "name": "stdout",
     "output_type": "stream",
     "text": [
      "defaultdict(<class 'int'>, {7: 1665271, 5: 1111230, 4: 833698, 12: 277479, 6: 1387866, 9: 1112114, 2: 278389, 3: 556262, 11: 556074, 8: 1388418, 10: 833199})\n",
      "2 2.78\n",
      "3 5.56\n",
      "4 8.34\n",
      "5 11.11\n",
      "6 13.88\n",
      "7 16.65\n",
      "8 13.88\n",
      "9 11.12\n",
      "10 8.33\n",
      "11 5.56\n",
      "12 2.77\n"
     ]
    }
   ],
   "source": [
    "def simulate_two_dice(no_simulation):\n",
    "    import random\n",
    "    from collections import defaultdict\n",
    "    random.seed(42)\n",
    "\n",
    "    # count = {}\n",
    "    count = defaultdict(int)\n",
    "    theoretical_probabilities = [\n",
    "        0,\n",
    "        0,\n",
    "        1 / 36,\n",
    "        2 / 36,\n",
    "        3 / 36,\n",
    "        4 / 36,\n",
    "        5 / 36,\n",
    "        6 / 36,\n",
    "        5 / 36,\n",
    "        4 / 36,\n",
    "        3 / 36,\n",
    "        2 / 36,\n",
    "        1 / 36,\n",
    "    ]\n",
    "\n",
    "    for _ in range(no_simulation):\n",
    "        dice1 = random.randint(1,6)\n",
    "        dice2 = random.randint(1,6)\n",
    "        total = dice1 + dice2\n",
    "    \n",
    "        # if total not in count:\n",
    "        #     count[total] = 0\n",
    "        # count[total] += 1\n",
    "\n",
    "        count[total] += 1\n",
    "\n",
    "    print(count)\n",
    "    probability = {}\n",
    "    for number in range(2, 13):\n",
    "        value = count[number]\n",
    "        probability[number] = round(value / no_simulation * 100, 2)\n",
    "\n",
    "    for key, value in probability.items():\n",
    "        print(key, value)\n",
    "simulate_two_dice(10_000_000)"
   ]
  },
  {
   "cell_type": "code",
   "execution_count": 33,
   "id": "728c88fd-cdaf-4929-a358-1a276b5fa481",
   "metadata": {},
   "outputs": [
    {
     "name": "stdout",
     "output_type": "stream",
     "text": [
      "Counter({7: 160, 8: 136, 6: 124, 5: 122, 9: 119, 10: 94, 4: 75, 3: 53, 11: 50, 12: 37, 2: 30})\n"
     ]
    }
   ],
   "source": [
    "def simulate_two_dice(no_simulation):\n",
    "    import random\n",
    "    from collections import Counter\n",
    "    random.seed(42)\n",
    "\n",
    "    # count = {}\n",
    "    count = []\n",
    "\n",
    "\n",
    "    for _ in range(no_simulation):\n",
    "        dice1 = random.randint(1,6)\n",
    "        dice2 = random.randint(1,6)\n",
    "        total = dice1 + dice2\n",
    "\n",
    "        count.append(total)\n",
    "\n",
    "    count = Counter(count)\n",
    "\n",
    "    print(count)\n",
    "simulate_two_dice(1000)"
   ]
  },
  {
   "cell_type": "code",
   "execution_count": 35,
   "id": "27053a5f-d964-4f81-a2ec-a9d8519668f2",
   "metadata": {},
   "outputs": [
    {
     "name": "stdout",
     "output_type": "stream",
     "text": [
      "0 0\n",
      "1 0\n",
      "2 30\n",
      "3 53\n",
      "4 75\n",
      "5 122\n",
      "6 124\n",
      "7 160\n",
      "8 136\n",
      "9 119\n",
      "10 94\n",
      "11 50\n",
      "12 37\n"
     ]
    }
   ],
   "source": [
    "def simulate_two_dice(no_simulation):\n",
    "    import random\n",
    "    from collections import Counter\n",
    "    random.seed(42)\n",
    "\n",
    "    # count = {}\n",
    "    count = [0,] * 13\n",
    "\n",
    "\n",
    "    for _ in range(no_simulation):\n",
    "        dice1 = random.randint(1,6)\n",
    "        dice2 = random.randint(1,6)\n",
    "        total = dice1 + dice2\n",
    "\n",
    "        count[total] += 1\n",
    "\n",
    "  \n",
    "    for index, value in enumerate(count):\n",
    "        print(index, value)\n",
    "simulate_two_dice(1000)"
   ]
  },
  {
   "cell_type": "code",
   "execution_count": 36,
   "id": "fa0945cf-7fa3-4efd-a242-4ab64324a3a9",
   "metadata": {},
   "outputs": [],
   "source": [
    "A = {0, 2, 4, 6, 8}\n",
    "B = {1, 2, 3, 4, 5}"
   ]
  },
  {
   "cell_type": "code",
   "execution_count": 38,
   "id": "2a3ea912-ef02-40e6-8277-403409cc584f",
   "metadata": {},
   "outputs": [
    {
     "data": {
      "text/plain": [
       "False"
      ]
     },
     "execution_count": 38,
     "metadata": {},
     "output_type": "execute_result"
    }
   ],
   "source": [
    "99 in A"
   ]
  },
  {
   "cell_type": "code",
   "execution_count": 39,
   "id": "d2aab437-9df5-4607-861c-1849d44738e2",
   "metadata": {},
   "outputs": [
    {
     "data": {
      "text/plain": [
       "{0, 1, 2, 3, 4, 5, 6, 8}"
      ]
     },
     "execution_count": 39,
     "metadata": {},
     "output_type": "execute_result"
    }
   ],
   "source": [
    "A | B"
   ]
  },
  {
   "cell_type": "code",
   "execution_count": 40,
   "id": "01535973-1be7-456b-883e-a37352a904db",
   "metadata": {},
   "outputs": [
    {
     "data": {
      "text/plain": [
       "{2, 4}"
      ]
     },
     "execution_count": 40,
     "metadata": {},
     "output_type": "execute_result"
    }
   ],
   "source": [
    "A & B"
   ]
  },
  {
   "cell_type": "code",
   "execution_count": 41,
   "id": "8134fc7d-1d65-4336-a4be-ab1df7be5f87",
   "metadata": {},
   "outputs": [
    {
     "data": {
      "text/plain": [
       "{0, 6, 8}"
      ]
     },
     "execution_count": 41,
     "metadata": {},
     "output_type": "execute_result"
    }
   ],
   "source": [
    "A - B"
   ]
  },
  {
   "cell_type": "code",
   "execution_count": 42,
   "id": "62ee9c6d-db91-4be5-990c-1a693d713c83",
   "metadata": {},
   "outputs": [
    {
     "data": {
      "text/plain": [
       "{1, 3, 5}"
      ]
     },
     "execution_count": 42,
     "metadata": {},
     "output_type": "execute_result"
    }
   ],
   "source": [
    "B - A"
   ]
  },
  {
   "cell_type": "code",
   "execution_count": 43,
   "id": "64581691-8e34-42d3-a516-dd45cab02157",
   "metadata": {},
   "outputs": [
    {
     "data": {
      "text/plain": [
       "True"
      ]
     },
     "execution_count": 43,
     "metadata": {},
     "output_type": "execute_result"
    }
   ],
   "source": [
    "A = {1, 2, 3, 4, 5}\n",
    "B = {3, 4}\n",
    "B < A"
   ]
  },
  {
   "cell_type": "code",
   "execution_count": 45,
   "id": "26bb4642-987c-4cde-9e88-fee61c5546a3",
   "metadata": {},
   "outputs": [
    {
     "data": {
      "text/plain": [
       "False"
      ]
     },
     "execution_count": 45,
     "metadata": {},
     "output_type": "execute_result"
    }
   ],
   "source": [
    "A = {1, 2, 3, 4, 5}\n",
    "B = {1, 2, 3, 9, 5}\n",
    "B <= A"
   ]
  },
  {
   "cell_type": "code",
   "execution_count": 46,
   "id": "7a1f1b61-598c-447c-83c6-e71d0110d02b",
   "metadata": {},
   "outputs": [
    {
     "name": "stdout",
     "output_type": "stream",
     "text": [
      "{1, 2, 3, 4, 5, 6}\n"
     ]
    }
   ],
   "source": [
    "A = {1, 2, 3, 4, 5}\n",
    "A.add(6)\n",
    "print(A)"
   ]
  },
  {
   "cell_type": "code",
   "execution_count": 47,
   "id": "65a36022-6cd8-40a9-88cf-92ab1aa416ce",
   "metadata": {},
   "outputs": [
    {
     "data": {
      "text/plain": [
       "{1, 2, 3, 4, 5, 6}"
      ]
     },
     "execution_count": 47,
     "metadata": {},
     "output_type": "execute_result"
    }
   ],
   "source": [
    "A.add(6)\n",
    "A"
   ]
  },
  {
   "cell_type": "code",
   "execution_count": 48,
   "id": "361baace-d8b1-4132-a056-14839ab5026c",
   "metadata": {},
   "outputs": [],
   "source": [
    "d1 = dict(a=1, b=2, c=3, d=4)\n",
    "d2 = dict(b=20, d=40, e=50)"
   ]
  },
  {
   "cell_type": "code",
   "execution_count": 50,
   "id": "cf94ea69-4b6a-44b1-b2d0-57fec2282a49",
   "metadata": {},
   "outputs": [
    {
     "data": {
      "text/plain": [
       "{'b', 'd'}"
      ]
     },
     "execution_count": 50,
     "metadata": {},
     "output_type": "execute_result"
    }
   ],
   "source": [
    "d1.keys() & d2.keys()"
   ]
  },
  {
   "cell_type": "code",
   "execution_count": 51,
   "id": "5e2aa9a4-813a-47a4-a0f2-d78b5dc2eb9d",
   "metadata": {},
   "outputs": [
    {
     "data": {
      "text/plain": [
       "True"
      ]
     },
     "execution_count": 51,
     "metadata": {},
     "output_type": "execute_result"
    }
   ],
   "source": [
    "keys = {\"b\", \"d\", \"c\"}\n",
    "keys < d1.keys()"
   ]
  },
  {
   "cell_type": "code",
   "execution_count": 53,
   "id": "dca8f41f-b540-42ae-a76e-944d80f8e708",
   "metadata": {},
   "outputs": [
    {
     "data": {
      "text/plain": [
       "{'country', 'email'}"
      ]
     },
     "execution_count": 53,
     "metadata": {},
     "output_type": "execute_result"
    }
   ],
   "source": [
    "x = {'account': 'QVJP6465242365388', 'country': 'Nepal', 'email': 'xdunn@hotmail.com', 'first_name': 'Michael', 'last_name': 'Weaver'}\n",
    "\n",
    "y = {'account': 'FVQZ0955529767455', 'first_name': 'Jackson', 'last_name': 'Owens'}\n",
    "\n",
    "\n",
    "x.keys() ^ y.keys()"
   ]
  },
  {
   "cell_type": "code",
   "execution_count": 57,
   "id": "5a8547c6-5fcf-429c-ad5c-d739213c9352",
   "metadata": {},
   "outputs": [],
   "source": [
    "y | {'country': 'Nepal', 'email': 'xdunn@hotmail.com'}\n",
    "y.update({'country': 'Nepal', 'email': 'xdunn@hotmail.com'})"
   ]
  },
  {
   "cell_type": "code",
   "execution_count": 55,
   "id": "d100dce8-6466-4e76-9e6e-ad836ad7d3f7",
   "metadata": {},
   "outputs": [],
   "source": [
    "y |= {'country': 'Nepal', 'email': 'xdunn@hotmail.com'}"
   ]
  },
  {
   "cell_type": "code",
   "execution_count": 56,
   "id": "6a06da82-7278-434e-a0bb-3aebcc91ce5a",
   "metadata": {},
   "outputs": [
    {
     "data": {
      "text/plain": [
       "{'account': 'FVQZ0955529767455',\n",
       " 'first_name': 'Jackson',\n",
       " 'last_name': 'Owens',\n",
       " 'country': 'Nepal',\n",
       " 'email': 'xdunn@hotmail.com'}"
      ]
     },
     "execution_count": 56,
     "metadata": {},
     "output_type": "execute_result"
    }
   ],
   "source": [
    "y"
   ]
  },
  {
   "cell_type": "code",
   "execution_count": 59,
   "id": "340af7f2-a730-46a3-ba27-869697884184",
   "metadata": {},
   "outputs": [
    {
     "data": {
      "text/plain": [
       "{1, 2, 3, 4, 5}"
      ]
     },
     "execution_count": 59,
     "metadata": {},
     "output_type": "execute_result"
    }
   ],
   "source": [
    "x = [1, 2, 1, 2, 1, 2, 3, 4, 5]\n",
    "set(x)"
   ]
  },
  {
   "cell_type": "code",
   "execution_count": 62,
   "id": "e2a1eaf4-7711-4337-9684-d29e9ae61227",
   "metadata": {},
   "outputs": [
    {
     "name": "stdout",
     "output_type": "stream",
     "text": [
      "['A1BG', 'A1CF', 'A2M', 'A2ML1', 'A3GALT2', 'A4GALT', 'A4GNT', 'AAAS', 'AACS', 'AADAC', 'AADACL2', 'AADACL3', 'AADACL4', 'AADAT', 'AAGAB', 'AAK1', 'AAMDC', 'AAMP', 'AANAT', 'AAR2', 'AARD', 'AARS1', 'AARS2', 'AARSD1', 'AASDH', 'AASDHPPT', 'AASS', 'AATF', 'AATK', 'ABAT', 'ABCA1', 'ABCA2', 'ABCA3', 'ABCA4', 'ABCA5', 'ABCA6', 'ABCA7', 'ABCA8', 'ABCA9', 'ABCA10', 'ABCA12', 'ABCA13', 'ABCB1', 'ABCB4', 'ABCB5', 'ABCB6', 'ABCB7', 'ABCB8', 'ABCB9', 'ABCB10', 'ABCB11', 'ABCC1', 'ABCC2', 'ABCC3', 'ABCC4', 'ABCC5', 'ABCC6', 'ABCC8', 'ABCC9', 'ABCC10', 'ABCC11', 'ABCC12', 'ABCD1', 'ABCD2', 'ABCD3', 'ABCD4', 'ABCE1', 'ABCF1', 'ABCF2', 'ABCF3', 'ABCG1', 'ABCG2', 'ABCG4', 'ABCG5', 'ABCG8', 'ABHD1', 'ABHD2', 'ABHD3', 'ABHD4', 'ABHD5', 'ABHD6', 'ABHD8', 'ABHD10', 'ABHD11', 'ABHD12', 'ABHD12B', 'ABHD13', 'ABHD14A', 'ABHD14B', 'ABHD15', 'ABHD16A', 'ABHD16B', 'ABHD17A', 'ABHD17B', 'ABHD17C', 'ABHD18', 'ABI1', 'ABI2', 'ABI3', 'ABI3BP', 'ABITRAM', 'ABL1', 'ABL2', 'ABLIM1', 'ABLIM2', 'ABLIM3', 'ABO', 'ABR', 'ABRA', 'ABRACL', 'ABRAXAS1', 'ABRAXAS2', 'ABT1', 'ABTB1', 'ABTB2', 'ACAA1', 'ACAA2', 'ACACA', 'ACACB', 'ACAD8', 'ACAD9', 'ACAD10', 'ACAD11', 'ACADL', 'ACADM', 'ACADS', 'ACADSB', 'ACADVL', 'ACAN', 'ACAP1', 'ACAP2', 'ACAP3', 'ACAT1', 'ACAT2', 'ACBD3', 'ACBD4', 'ACBD5', 'ACBD6', 'ACBD7', 'ACCS', 'ACCSL', 'ACD', 'ACE', 'ACE2', 'ACER1', 'ACER2', 'ACER3', 'ACHE', 'ACIN1', 'ACKR1', 'ACKR2', 'ACKR3', 'ACKR4', 'ACLY', 'ACMSD', 'ACO1', 'ACO2', 'ACOD1', 'ACOT1', 'ACOT2', 'ACOT4', 'ACOT6', 'ACOT7', 'ACOT8', 'ACOT9', 'ACOT11', 'ACOT12', 'ACOT13', 'ACOX1', 'ACOX2', 'ACOX3', 'ACOXL', 'ACP1', 'ACP2', 'ACP3', 'ACP4', 'ACP5', 'ACP6', 'ACP7', 'ACR', 'ACRBP', 'ACRV1', 'ACSBG1', 'ACSBG2', 'ACSF2', 'ACSF3', 'ACSL1', 'ACSL3', 'ACSL4', 'ACSL5', 'ACSL6', 'ACSM1', 'ACSM2A', 'ACSM2B', 'ACSM3', 'ACSM4', 'ACSM5', 'ACSM6', 'ACSS1', 'ACSS2', 'ACSS3', 'ACTA1', 'ACTA2', 'ACTB', 'ACTBL2', 'ACTC1', 'ACTG1', 'ACTG2', 'ACTL6A', 'ACTL6B', 'ACTL7A', 'ACTL7B', 'ACTL8', 'ACTL9', 'ACTL10', 'ACTN1', 'ACTN2', 'ACTN3', 'ACTN4', 'ACTR1A', 'ACTR1B', 'ACTR2', 'ACTR3', 'ACTR3B', 'ACTR3C', 'ACTR5', 'ACTR6', 'ACTR8', 'ACTR10', 'ACTRT1', 'ACTRT2', 'ACTRT3', 'ACVR1', 'ACVR1B', 'ACVR1C', 'ACVR2A', 'ACVR2B', 'ACVRL1', 'ACY1', 'ACY3', 'ACYP1', 'ACYP2', 'ADA']\n"
     ]
    }
   ],
   "source": [
    "genes = [line.strip() for line in open(\"gene_list1.txt\") if line.strip()]\n",
    "print(genes)"
   ]
  },
  {
   "cell_type": "code",
   "execution_count": 61,
   "id": "48dd38b4-1a67-4a02-9033-1616be353316",
   "metadata": {},
   "outputs": [
    {
     "name": "stdout",
     "output_type": "stream",
     "text": [
      "A1BG\n",
      "\n",
      "A1CF\n",
      "\n",
      "A2M\n",
      "\n",
      "A2ML1\n",
      "\n",
      "A3GALT2\n",
      "\n",
      "A4GALT\n",
      "\n",
      "A4GNT\n",
      "\n",
      "AAAS\n",
      "\n",
      "AACS\n",
      "\n",
      "AADAC\n",
      "\n",
      "AADACL2\n",
      "\n",
      "AADACL3\n",
      "\n",
      "AADACL4\n",
      "\n",
      "AADAT\n",
      "\n",
      "AAGAB\n",
      "\n",
      "AAK1\n",
      "\n",
      "AAMDC\n",
      "\n",
      "AAMP\n",
      "\n",
      "AANAT\n",
      "\n",
      "AAR2\n",
      "\n",
      "AARD\n",
      "\n",
      "AARS1\n",
      "\n",
      "AARS2\n",
      "\n",
      "AARSD1\n",
      "\n",
      "AASDH\n",
      "\n",
      "AASDHPPT\n",
      "\n",
      "AASS\n",
      "\n",
      "AATF\n",
      "\n",
      "AATK\n",
      "\n",
      "ABAT\n",
      "\n",
      "ABCA1\n",
      "\n",
      "ABCA2\n",
      "\n",
      "ABCA3\n",
      "\n",
      "ABCA4\n",
      "\n",
      "ABCA5\n",
      "\n",
      "ABCA6\n",
      "\n",
      "ABCA7\n",
      "\n",
      "ABCA8\n",
      "\n",
      "ABCA9\n",
      "\n",
      "ABCA10\n",
      "\n",
      "ABCA12\n",
      "\n",
      "ABCA13\n",
      "\n",
      "ABCB1\n",
      "\n",
      "ABCB4\n",
      "\n",
      "ABCB5\n",
      "\n",
      "ABCB6\n",
      "\n",
      "ABCB7\n",
      "\n",
      "ABCB8\n",
      "\n",
      "ABCB9\n",
      "\n",
      "ABCB10\n",
      "\n",
      "ABCB11\n",
      "\n",
      "ABCC1\n",
      "\n",
      "ABCC2\n",
      "\n",
      "ABCC3\n",
      "\n",
      "ABCC4\n",
      "\n",
      "ABCC5\n",
      "\n",
      "ABCC6\n",
      "\n",
      "ABCC8\n",
      "\n",
      "ABCC9\n",
      "\n",
      "ABCC10\n",
      "\n",
      "ABCC11\n",
      "\n",
      "ABCC12\n",
      "\n",
      "ABCD1\n",
      "\n",
      "ABCD2\n",
      "\n",
      "ABCD3\n",
      "\n",
      "ABCD4\n",
      "\n",
      "ABCE1\n",
      "\n",
      "ABCF1\n",
      "\n",
      "ABCF2\n",
      "\n",
      "ABCF3\n",
      "\n",
      "ABCG1\n",
      "\n",
      "ABCG2\n",
      "\n",
      "ABCG4\n",
      "\n",
      "ABCG5\n",
      "\n",
      "ABCG8\n",
      "\n",
      "ABHD1\n",
      "\n",
      "ABHD2\n",
      "\n",
      "ABHD3\n",
      "\n",
      "ABHD4\n",
      "\n",
      "ABHD5\n",
      "\n",
      "ABHD6\n",
      "\n",
      "ABHD8\n",
      "\n",
      "ABHD10\n",
      "\n",
      "ABHD11\n",
      "\n",
      "ABHD12\n",
      "\n",
      "ABHD12B\n",
      "\n",
      "ABHD13\n",
      "\n",
      "ABHD14A\n",
      "\n",
      "ABHD14B\n",
      "\n",
      "ABHD15\n",
      "\n",
      "ABHD16A\n",
      "\n",
      "ABHD16B\n",
      "\n",
      "ABHD17A\n",
      "\n",
      "ABHD17B\n",
      "\n",
      "ABHD17C\n",
      "\n",
      "ABHD18\n",
      "\n",
      "ABI1\n",
      "\n",
      "ABI2\n",
      "\n",
      "ABI3\n",
      "\n",
      "ABI3BP\n",
      "\n",
      "ABITRAM\n",
      "\n",
      "ABL1\n",
      "\n",
      "ABL2\n",
      "\n",
      "ABLIM1\n",
      "\n",
      "ABLIM2\n",
      "\n",
      "ABLIM3\n",
      "\n",
      "ABO\n",
      "\n",
      "ABR\n",
      "\n",
      "ABRA\n",
      "\n",
      "ABRACL\n",
      "\n",
      "ABRAXAS1\n",
      "\n",
      "ABRAXAS2\n",
      "\n",
      "ABT1\n",
      "\n",
      "ABTB1\n",
      "\n",
      "ABTB2\n",
      "\n",
      "ACAA1\n",
      "\n",
      "ACAA2\n",
      "\n",
      "ACACA\n",
      "\n",
      "ACACB\n",
      "\n",
      "ACAD8\n",
      "\n",
      "ACAD9\n",
      "\n",
      "ACAD10\n",
      "\n",
      "ACAD11\n",
      "\n",
      "ACADL\n",
      "\n",
      "ACADM\n",
      "\n",
      "ACADS\n",
      "\n",
      "ACADSB\n",
      "\n",
      "ACADVL\n",
      "\n",
      "ACAN\n",
      "\n",
      "ACAP1\n",
      "\n",
      "ACAP2\n",
      "\n",
      "ACAP3\n",
      "\n",
      "ACAT1\n",
      "\n",
      "ACAT2\n",
      "\n",
      "ACBD3\n",
      "\n",
      "ACBD4\n",
      "\n",
      "ACBD5\n",
      "\n",
      "ACBD6\n",
      "\n",
      "ACBD7\n",
      "\n",
      "ACCS\n",
      "\n",
      "ACCSL\n",
      "\n",
      "ACD\n",
      "\n",
      "ACE\n",
      "\n",
      "ACE2\n",
      "\n",
      "ACER1\n",
      "\n",
      "ACER2\n",
      "\n",
      "ACER3\n",
      "\n",
      "ACHE\n",
      "\n",
      "ACIN1\n",
      "\n",
      "ACKR1\n",
      "\n",
      "ACKR2\n",
      "\n",
      "ACKR3\n",
      "\n",
      "ACKR4\n",
      "\n",
      "ACLY\n",
      "\n",
      "ACMSD\n",
      "\n",
      "ACO1\n",
      "\n",
      "ACO2\n",
      "\n",
      "ACOD1\n",
      "\n",
      "ACOT1\n",
      "\n",
      "ACOT2\n",
      "\n",
      "ACOT4\n",
      "\n",
      "ACOT6\n",
      "\n",
      "ACOT7\n",
      "\n",
      "ACOT8\n",
      "\n",
      "ACOT9\n",
      "\n",
      "ACOT11\n",
      "\n",
      "ACOT12\n",
      "\n",
      "ACOT13\n",
      "\n",
      "ACOX1\n",
      "\n",
      "ACOX2\n",
      "\n",
      "ACOX3\n",
      "\n",
      "ACOXL\n",
      "\n",
      "ACP1\n",
      "\n",
      "ACP2\n",
      "\n",
      "ACP3\n",
      "\n",
      "ACP4\n",
      "\n",
      "ACP5\n",
      "\n",
      "ACP6\n",
      "\n",
      "ACP7\n",
      "\n",
      "ACR\n",
      "\n",
      "ACRBP\n",
      "\n",
      "ACRV1\n",
      "\n",
      "ACSBG1\n",
      "\n",
      "ACSBG2\n",
      "\n",
      "ACSF2\n",
      "\n",
      "ACSF3\n",
      "\n",
      "ACSL1\n",
      "\n",
      "ACSL3\n",
      "\n",
      "ACSL4\n",
      "\n",
      "ACSL5\n",
      "\n",
      "ACSL6\n",
      "\n",
      "ACSM1\n",
      "\n",
      "ACSM2A\n",
      "\n",
      "ACSM2B\n",
      "\n",
      "ACSM3\n",
      "\n",
      "ACSM4\n",
      "\n",
      "ACSM5\n",
      "\n",
      "ACSM6\n",
      "\n",
      "ACSS1\n",
      "\n",
      "ACSS2\n",
      "\n",
      "ACSS3\n",
      "\n",
      "ACTA1\n",
      "\n",
      "ACTA2\n",
      "\n",
      "ACTB\n",
      "\n",
      "ACTBL2\n",
      "\n",
      "ACTC1\n",
      "\n",
      "ACTG1\n",
      "\n",
      "ACTG2\n",
      "\n",
      "ACTL6A\n",
      "\n",
      "ACTL6B\n",
      "\n",
      "ACTL7A\n",
      "\n",
      "ACTL7B\n",
      "\n",
      "ACTL8\n",
      "\n",
      "ACTL9\n",
      "\n",
      "ACTL10\n",
      "\n",
      "ACTN1\n",
      "\n",
      "ACTN2\n",
      "\n",
      "ACTN3\n",
      "\n",
      "ACTN4\n",
      "\n",
      "ACTR1A\n",
      "\n",
      "ACTR1B\n",
      "\n",
      "ACTR2\n",
      "\n",
      "ACTR3\n",
      "\n",
      "ACTR3B\n",
      "\n",
      "ACTR3C\n",
      "\n",
      "ACTR5\n",
      "\n",
      "ACTR6\n",
      "\n",
      "ACTR8\n",
      "\n",
      "ACTR10\n",
      "\n",
      "ACTRT1\n",
      "\n",
      "ACTRT2\n",
      "\n",
      "ACTRT3\n",
      "\n",
      "ACVR1\n",
      "\n",
      "ACVR1B\n",
      "\n",
      "ACVR1C\n",
      "\n",
      "ACVR2A\n",
      "\n",
      "ACVR2B\n",
      "\n",
      "ACVRL1\n",
      "\n",
      "ACY1\n",
      "\n",
      "ACY3\n",
      "\n",
      "ACYP1\n",
      "\n",
      "ACYP2\n",
      "\n",
      "ADA\n",
      "\n"
     ]
    }
   ],
   "source": [
    "for line in open(\"gene_list1.txt\"):\n",
    "    print(line)"
   ]
  },
  {
   "cell_type": "code",
   "execution_count": 63,
   "id": "b3a9f715-78ff-4861-8c7e-dabfb9ab141b",
   "metadata": {},
   "outputs": [
    {
     "ename": "TypeError",
     "evalue": "'int' object is not iterable",
     "output_type": "error",
     "traceback": [
      "\u001b[0;31m---------------------------------------------------------------------------\u001b[0m",
      "\u001b[0;31mTypeError\u001b[0m                                 Traceback (most recent call last)",
      "Cell \u001b[0;32mIn[63], line 1\u001b[0m\n\u001b[0;32m----> 1\u001b[0m \u001b[38;5;28;01mfor\u001b[39;00m a \u001b[38;5;129;01min\u001b[39;00m \u001b[38;5;241m6\u001b[39m:\n\u001b[1;32m      2\u001b[0m     \u001b[38;5;28mprint\u001b[39m(a)\n",
      "\u001b[0;31mTypeError\u001b[0m: 'int' object is not iterable"
     ]
    }
   ],
   "source": [
    "for a in 6:\n",
    "    print(a)"
   ]
  },
  {
   "cell_type": "code",
   "execution_count": 64,
   "id": "0787bdad-5e22-453e-bd27-cbef3880a718",
   "metadata": {},
   "outputs": [
    {
     "name": "stdout",
     "output_type": "stream",
     "text": [
      "81\n",
      "81\n"
     ]
    }
   ],
   "source": [
    "def square(num):\n",
    "    return num * num\n",
    "\n",
    "square2 = lambda num: num * num\n",
    "\n",
    "print(square(9))\n",
    "print(square2(9))"
   ]
  },
  {
   "cell_type": "code",
   "execution_count": null,
   "id": "2d2a9164-9ad9-4553-be46-c8fc4bd4ef62",
   "metadata": {},
   "outputs": [],
   "source": [
    "def add2(x,y):\n",
    "    return x+y \n",
    "    \n",
    "add = lambda a,b: a + b\n",
    "print(add(3,10))"
   ]
  },
  {
   "cell_type": "code",
   "execution_count": 65,
   "id": "07ba0080-4896-43d3-85c2-d4853db0eef5",
   "metadata": {},
   "outputs": [
    {
     "name": "stdout",
     "output_type": "stream",
     "text": [
      "12\n"
     ]
    }
   ],
   "source": [
    "func = lambda a, b: a * b\n",
    "def lambda_test(function, number1, number2):\n",
    "    return function(number1, number2)\n",
    "print(lambda_test(func, 3, 4))"
   ]
  },
  {
   "cell_type": "code",
   "execution_count": 68,
   "id": "b097316f-fafd-4d6e-bde6-878d4b12cc96",
   "metadata": {},
   "outputs": [],
   "source": [
    "# map(function, sequence)\n",
    "\n",
    "my_list = [1, 2, 3]\n",
    "x = map(lambda ele: ele*ele, my_list) # generator"
   ]
  },
  {
   "cell_type": "code",
   "execution_count": 69,
   "id": "2722ecfe-764e-403a-aa08-b9f0753cf2cf",
   "metadata": {},
   "outputs": [
    {
     "name": "stdout",
     "output_type": "stream",
     "text": [
      "1\n",
      "4\n",
      "9\n"
     ]
    }
   ],
   "source": [
    "for value in x:\n",
    "    print(value)"
   ]
  },
  {
   "cell_type": "code",
   "execution_count": 70,
   "id": "efd9501b-ab22-4b07-b761-a84431f0f2ee",
   "metadata": {},
   "outputs": [],
   "source": [
    "for value in x:\n",
    "    print(value)"
   ]
  },
  {
   "cell_type": "code",
   "execution_count": 72,
   "id": "51d55ced-3f95-4e57-9c8d-c2551e8532bb",
   "metadata": {},
   "outputs": [
    {
     "name": "stdout",
     "output_type": "stream",
     "text": [
      "[1, 4, 9]\n"
     ]
    }
   ],
   "source": [
    "y = list(map(lambda ele: ele*ele, my_list))\n",
    "print(y)"
   ]
  },
  {
   "cell_type": "code",
   "execution_count": 73,
   "id": "21453748-a2f5-434e-8f49-8af00868d953",
   "metadata": {},
   "outputs": [
    {
     "name": "stdout",
     "output_type": "stream",
     "text": [
      "John\n",
      "Jane\n",
      "Doe\n"
     ]
    }
   ],
   "source": [
    "students = ['john', 'jane', 'doe']\n",
    "\n",
    "for student in students:\n",
    "    print(student.title())"
   ]
  },
  {
   "cell_type": "code",
   "execution_count": 74,
   "id": "4d696f09-4e97-4b1f-8b7a-ff07db96489a",
   "metadata": {},
   "outputs": [
    {
     "data": {
      "text/plain": [
       "['John', 'Jane', 'Doe']"
      ]
     },
     "execution_count": 74,
     "metadata": {},
     "output_type": "execute_result"
    }
   ],
   "source": [
    "[student.title() for student in students]"
   ]
  },
  {
   "cell_type": "code",
   "execution_count": 75,
   "id": "773a5da1-5e83-4668-b950-f43323105e67",
   "metadata": {},
   "outputs": [
    {
     "data": {
      "text/plain": [
       "['John', 'Jane', 'Doe']"
      ]
     },
     "execution_count": 75,
     "metadata": {},
     "output_type": "execute_result"
    }
   ],
   "source": [
    "list(map(lambda ele: ele.title(), students))"
   ]
  },
  {
   "cell_type": "code",
   "execution_count": 78,
   "id": "210be656-2904-4348-9649-57983ba044ba",
   "metadata": {},
   "outputs": [
    {
     "data": {
      "text/plain": [
       "[{'value': 34.4}, {'value': 45.3}, {'value': 73.4}]"
      ]
     },
     "execution_count": 78,
     "metadata": {},
     "output_type": "execute_result"
    }
   ],
   "source": [
    "my_dict = [{'value': '34.4'}, {'value': '45.3'}, {'value': '73.4'}]\n",
    "\n",
    "list(map(lambda ele: {'value': float(ele['value'])}, my_dict))"
   ]
  },
  {
   "cell_type": "code",
   "execution_count": 80,
   "id": "d8153290-4c84-4676-8034-435943d56731",
   "metadata": {},
   "outputs": [
    {
     "data": {
      "text/plain": [
       "{1970: False,\n",
       " 1971: False,\n",
       " 1972: True,\n",
       " 1973: False,\n",
       " 1974: False,\n",
       " 1975: False,\n",
       " 1976: True,\n",
       " 1977: False,\n",
       " 1978: False,\n",
       " 1979: False,\n",
       " 1980: True,\n",
       " 1981: False,\n",
       " 1982: False,\n",
       " 1983: False,\n",
       " 1984: True,\n",
       " 1985: False,\n",
       " 1986: False,\n",
       " 1987: False,\n",
       " 1988: True,\n",
       " 1989: False,\n",
       " 1990: False,\n",
       " 1991: False,\n",
       " 1992: True,\n",
       " 1993: False,\n",
       " 1994: False,\n",
       " 1995: False,\n",
       " 1996: True,\n",
       " 1997: False,\n",
       " 1998: False,\n",
       " 1999: False,\n",
       " 2000: True}"
      ]
     },
     "execution_count": 80,
     "metadata": {},
     "output_type": "execute_result"
    }
   ],
   "source": [
    "my_dict = {}\n",
    "for year in range(1970, 2001):\n",
    "    my_dict[year] = year % 4 == 0\n",
    "\n",
    "my_dict"
   ]
  },
  {
   "cell_type": "code",
   "execution_count": 81,
   "id": "3a14b0db-7949-4ea5-a25f-3a81472af7ba",
   "metadata": {},
   "outputs": [
    {
     "data": {
      "text/plain": [
       "[1972, 1976, 1980, 1984, 1988, 1992, 1996, 2000]"
      ]
     },
     "execution_count": 81,
     "metadata": {},
     "output_type": "execute_result"
    }
   ],
   "source": [
    "list(filter(lambda year: year % 4 == 0, range(1970, 2001)))"
   ]
  },
  {
   "cell_type": "code",
   "execution_count": 82,
   "id": "f15e75b8-ce43-4233-871c-30e88a02e109",
   "metadata": {},
   "outputs": [
    {
     "data": {
      "text/plain": [
       "[1970,\n",
       " 1971,\n",
       " 1972,\n",
       " 1973,\n",
       " 1974,\n",
       " 1975,\n",
       " 1976,\n",
       " 1977,\n",
       " 1978,\n",
       " 1979,\n",
       " 1980,\n",
       " 1981,\n",
       " 1982,\n",
       " 1983,\n",
       " 1984,\n",
       " 1985,\n",
       " 1986,\n",
       " 1987,\n",
       " 1988,\n",
       " 1989,\n",
       " 1990,\n",
       " 1991,\n",
       " 1992,\n",
       " 1993,\n",
       " 1994,\n",
       " 1995,\n",
       " 1996,\n",
       " 1997,\n",
       " 1998,\n",
       " 1999,\n",
       " 2000]"
      ]
     },
     "execution_count": 82,
     "metadata": {},
     "output_type": "execute_result"
    }
   ],
   "source": [
    "list(filter(lambda year: True, range(1970, 2001)))"
   ]
  },
  {
   "cell_type": "code",
   "execution_count": 83,
   "id": "19969887-ad7d-40c4-a028-4dd3b192e5c1",
   "metadata": {},
   "outputs": [
    {
     "data": {
      "text/plain": [
       "[('abc', 3), ('efg', 1), ('hij', 2)]"
      ]
     },
     "execution_count": 83,
     "metadata": {},
     "output_type": "execute_result"
    }
   ],
   "source": [
    "x = (\n",
    "    ('efg', 1), \n",
    "    ('abc', 3), \n",
    "    ('hij', 2)\n",
    ")\n",
    "\n",
    "sorted(x)"
   ]
  },
  {
   "cell_type": "code",
   "execution_count": 84,
   "id": "beccb55b-158e-4ac4-8a36-03c5887ee949",
   "metadata": {},
   "outputs": [
    {
     "data": {
      "text/plain": [
       "[('efg', 1), ('hij', 2), ('abc', 3)]"
      ]
     },
     "execution_count": 84,
     "metadata": {},
     "output_type": "execute_result"
    }
   ],
   "source": [
    "x = (\n",
    "    ('efg', 1), \n",
    "    ('abc', 3), \n",
    "    ('hij', 2)\n",
    ")\n",
    "\n",
    "sorted(x, key=lambda ele: ele[1])"
   ]
  },
  {
   "cell_type": "code",
   "execution_count": 86,
   "id": "2473e01c-91a8-4364-83c2-34e3cfdc8ce3",
   "metadata": {},
   "outputs": [
    {
     "data": {
      "text/plain": [
       "[{'grade': 89, 'username': 'Kelly'},\n",
       " {'username': 'doe', 'grade': 35},\n",
       " {'username': 'jane', 'grade': 80},\n",
       " {'username': 'john', 'grade': 50}]"
      ]
     },
     "execution_count": 86,
     "metadata": {},
     "output_type": "execute_result"
    }
   ],
   "source": [
    "students = [\n",
    "    {'username': 'john', 'grade': 50},\n",
    "    {'username': 'jane', 'grade': 80},\n",
    "    {'username': 'doe', 'grade': 35},\n",
    "    {'grade': 89, 'username': 'Kelly'}\n",
    "]\n",
    "\n",
    "sorted(students, key=lambda student: student[\"username\"])"
   ]
  },
  {
   "cell_type": "code",
   "execution_count": 87,
   "id": "24016641-5675-478e-8288-e2c3f9c92dfe",
   "metadata": {},
   "outputs": [
    {
     "data": {
      "text/plain": [
       "[{'username': 'doe', 'grade': 35},\n",
       " {'username': 'john', 'grade': 50},\n",
       " {'username': 'jane', 'grade': 80},\n",
       " {'grade': 89, 'username': 'Kelly'}]"
      ]
     },
     "execution_count": 87,
     "metadata": {},
     "output_type": "execute_result"
    }
   ],
   "source": [
    "sorted(students, key=lambda student: student[\"grade\"])"
   ]
  },
  {
   "cell_type": "code",
   "execution_count": 90,
   "id": "9ce2a247-629b-4c6d-992a-5fd6809fc5bd",
   "metadata": {},
   "outputs": [
    {
     "data": {
      "text/plain": [
       "[{'account': 'UBRR8524342666714',\n",
       "  'country': 'Mayotte',\n",
       "  'email': 'swhite@yahoo.com',\n",
       "  'first_name': 'Angela',\n",
       "  'last_name': 'Ray'},\n",
       " {'account': 'QYBW6359021109484',\n",
       "  'country': 'Andorra',\n",
       "  'email': 'cparks@valdez-hudson.com',\n",
       "  'first_name': 'Angela',\n",
       "  'last_name': 'Ramsey'},\n",
       " {'account': 'DTRB4720098955341',\n",
       "  'country': 'Guatemala',\n",
       "  'email': 'kristinavelasquez@gmail.com',\n",
       "  'first_name': 'Ann',\n",
       "  'last_name': 'Mcknight'},\n",
       " {'account': 'MCQU7347833033110',\n",
       "  'country': 'Kyrgyz Republic',\n",
       "  'email': 'smithashlee@yahoo.com',\n",
       "  'first_name': 'Anthony',\n",
       "  'last_name': 'Boyle'},\n",
       " {'account': 'QXGZ3111246190069',\n",
       "  'country': 'Paraguay',\n",
       "  'email': 'cory33@king-shaw.net',\n",
       "  'first_name': 'Ashley',\n",
       "  'last_name': 'Castillo'},\n",
       " {'account': 'GJZT6825738428111',\n",
       "  'country': 'Azerbaijan',\n",
       "  'email': 'carolharrington@fleming.org',\n",
       "  'first_name': 'Austin',\n",
       "  'last_name': 'Fletcher'},\n",
       " {'account': 'OMOK4767172062189',\n",
       "  'country': 'Burundi',\n",
       "  'email': 'sydneycollins@hunter.com',\n",
       "  'first_name': 'Beth',\n",
       "  'last_name': 'Turner'},\n",
       " {'account': 'UTSI0776569247505',\n",
       "  'country': 'Montserrat',\n",
       "  'email': 'martinezrichard@yahoo.com',\n",
       "  'first_name': 'Betty',\n",
       "  'last_name': 'Gonzales'},\n",
       " {'account': 'UKRT1119626365017',\n",
       "  'country': 'Guadeloupe',\n",
       "  'email': 'justinfischer@gmail.com',\n",
       "  'first_name': 'Brandon',\n",
       "  'last_name': 'Werner'},\n",
       " {'account': 'RSLD0426398604312',\n",
       "  'country': 'Jamaica',\n",
       "  'email': 'jennifer87@gmail.com',\n",
       "  'first_name': 'Brandon',\n",
       "  'last_name': 'Abbott'},\n",
       " {'account': 'QOVO4275314052899',\n",
       "  'country': 'Costa Rica',\n",
       "  'email': 'martinezdaniel@hotmail.com',\n",
       "  'first_name': 'Brianna',\n",
       "  'last_name': 'Johnson'},\n",
       " {'account': 'UNPV3347450330173',\n",
       "  'country': 'Bahamas',\n",
       "  'email': 'cindy08@gmail.com',\n",
       "  'first_name': 'Brianna',\n",
       "  'last_name': 'Bennett'},\n",
       " {'account': 'UYHI6964741005832',\n",
       "  'country': 'Montserrat',\n",
       "  'email': 'morenolindsay@bass.org',\n",
       "  'first_name': 'Bruce',\n",
       "  'last_name': 'Oneill'},\n",
       " {'account': 'IILE1765776198023',\n",
       "  'country': 'Botswana',\n",
       "  'email': 'douglas63@yahoo.com',\n",
       "  'first_name': 'Caleb',\n",
       "  'last_name': 'Jenkins'},\n",
       " {'account': 'AHYX6128839695452',\n",
       "  'country': 'Ukraine',\n",
       "  'email': 'jessica11@hotmail.com',\n",
       "  'first_name': 'Charles',\n",
       "  'last_name': 'Clark'},\n",
       " {'account': 'RQGA0882784089265',\n",
       "  'country': 'Maldives',\n",
       "  'email': 'ddavidson@hotmail.com',\n",
       "  'first_name': 'Christina',\n",
       "  'last_name': 'Cooper'},\n",
       " {'account': 'NERZ5502558659614',\n",
       "  'country': 'Costa Rica',\n",
       "  'email': 'teresa30@carpenter-warner.com',\n",
       "  'first_name': 'Christopher',\n",
       "  'last_name': 'Calderon'},\n",
       " {'account': 'GZZF6936998445532',\n",
       "  'country': 'Singapore',\n",
       "  'email': 'chasewatkins@perez-phillips.com',\n",
       "  'first_name': 'Crystal',\n",
       "  'last_name': 'Conley'},\n",
       " {'account': 'AHBN3151680654826',\n",
       "  'country': 'Kazakhstan',\n",
       "  'email': 'beancody@jones.com',\n",
       "  'first_name': 'Daniel',\n",
       "  'last_name': 'Levy'},\n",
       " {'account': 'CURJ9953745256871',\n",
       "  'country': 'Eritrea',\n",
       "  'email': 'nchurch@yahoo.com',\n",
       "  'first_name': 'Darius',\n",
       "  'last_name': 'Edwards'},\n",
       " {'account': 'FTHM1005169617995',\n",
       "  'country': 'Sierra Leone',\n",
       "  'email': 'bennettwanda@vega-guerra.net',\n",
       "  'first_name': 'David',\n",
       "  'last_name': 'Stewart'},\n",
       " {'account': 'JRBN0811785293731',\n",
       "  'country': 'Antigua and Barbuda',\n",
       "  'email': 'terri95@hotmail.com',\n",
       "  'first_name': 'Debbie',\n",
       "  'last_name': 'Wallace'},\n",
       " {'account': 'UKCP6739617302102',\n",
       "  'country': 'Holy See (Vatican City State)',\n",
       "  'email': 'watersryan@gmail.com',\n",
       "  'first_name': 'Diana',\n",
       "  'last_name': 'Schmidt'},\n",
       " {'account': 'LRPR8694143910883',\n",
       "  'country': 'Somalia',\n",
       "  'email': 'jesse93@best.com',\n",
       "  'first_name': 'Dustin',\n",
       "  'last_name': 'Barron'},\n",
       " {'account': 'SAAA4141150617330',\n",
       "  'country': 'Montserrat',\n",
       "  'email': 'christiandanielle@yahoo.com',\n",
       "  'first_name': 'Elizabeth',\n",
       "  'last_name': 'Wilson'},\n",
       " {'account': 'ZROP5229895490397',\n",
       "  'country': 'Spain',\n",
       "  'email': 'xvelasquez@hughes.com',\n",
       "  'first_name': 'Erica',\n",
       "  'last_name': 'Juarez'},\n",
       " {'account': 'ZAZD8310339637467',\n",
       "  'country': 'Palau',\n",
       "  'email': 'michaelhall@hotmail.com',\n",
       "  'first_name': 'Erica',\n",
       "  'last_name': 'Allen'},\n",
       " {'account': 'JCDK1943355298609',\n",
       "  'country': 'Fiji',\n",
       "  'email': 'brownclarence@gonzalez-moore.com',\n",
       "  'first_name': 'Gerald',\n",
       "  'last_name': 'Reyes'},\n",
       " {'account': 'PCNE8127696280157',\n",
       "  'country': 'Jordan',\n",
       "  'email': 'mmiller@lynch.com',\n",
       "  'first_name': 'Greg',\n",
       "  'last_name': 'Nelson'},\n",
       " {'account': 'OGPU6537909247863',\n",
       "  'country': 'Macedonia',\n",
       "  'email': 'martinkimberly@lopez.com',\n",
       "  'first_name': 'Haley',\n",
       "  'last_name': 'Edwards'},\n",
       " {'account': 'OSSM9070924947595',\n",
       "  'country': 'French Polynesia',\n",
       "  'email': 'mark00@hotmail.com',\n",
       "  'first_name': 'Heather',\n",
       "  'last_name': 'Moore'},\n",
       " {'account': 'FVQZ0955529767455',\n",
       "  'country': 'Kazakhstan',\n",
       "  'email': 'iedwards@yahoo.com',\n",
       "  'first_name': 'Jackson',\n",
       "  'last_name': 'Owens'},\n",
       " {'account': 'QAAE9838291982555',\n",
       "  'country': 'Yemen',\n",
       "  'email': 'fred92@yahoo.com',\n",
       "  'first_name': 'James',\n",
       "  'last_name': 'Thomas'},\n",
       " {'account': 'NXKK2792812848629',\n",
       "  'country': 'Seychelles',\n",
       "  'email': 'april99@gmail.com',\n",
       "  'first_name': 'Jason',\n",
       "  'last_name': 'Watkins'},\n",
       " {'account': 'MHTE8867005510944',\n",
       "  'country': 'Western Sahara',\n",
       "  'email': 'anthony75@yahoo.com',\n",
       "  'first_name': 'Jason',\n",
       "  'last_name': 'Jones'},\n",
       " {'account': 'JDIH2349154465371',\n",
       "  'country': 'Iceland',\n",
       "  'email': 'kenneththompson@baxter.com',\n",
       "  'first_name': 'Jason',\n",
       "  'last_name': 'Chung'},\n",
       " {'account': 'YWOT0997131632248',\n",
       "  'country': 'New Zealand',\n",
       "  'email': 'plewis@chavez.com',\n",
       "  'first_name': 'Jeffrey',\n",
       "  'last_name': 'Perez'},\n",
       " {'account': 'ECGK2823955143629',\n",
       "  'country': 'Mayotte',\n",
       "  'email': 'hsherman@gmail.com',\n",
       "  'first_name': 'Jeffrey',\n",
       "  'last_name': 'Nelson'},\n",
       " {'account': 'MGFG2793756668287',\n",
       "  'country': 'Cape Verde',\n",
       "  'email': 'moralesmartin@rodgers.com',\n",
       "  'first_name': 'Jennifer',\n",
       "  'last_name': 'Thompson'},\n",
       " {'account': 'NZFX8257739892619',\n",
       "  'country': 'Guam',\n",
       "  'email': 'johnlewis@hotmail.com',\n",
       "  'first_name': 'Jeremy',\n",
       "  'last_name': 'Peters'},\n",
       " {'account': 'PKFW4841194501766',\n",
       "  'country': 'Germany',\n",
       "  'email': 'fklein@yahoo.com',\n",
       "  'first_name': 'Jonathan',\n",
       "  'last_name': 'Carpenter'},\n",
       " {'account': 'ISYY1401931979959',\n",
       "  'country': 'Malaysia',\n",
       "  'email': 'julie68@gmail.com',\n",
       "  'first_name': 'Jonathan',\n",
       "  'last_name': 'Todd'},\n",
       " {'account': 'MNXY3262955868027',\n",
       "  'country': 'Hong Kong',\n",
       "  'email': 'michael74@yahoo.com',\n",
       "  'first_name': 'Joseph',\n",
       "  'last_name': 'Smith'},\n",
       " {'account': 'BCEN3299883381338',\n",
       "  'country': 'Palau',\n",
       "  'email': 'steven49@gmail.com',\n",
       "  'first_name': 'Joshua',\n",
       "  'last_name': 'White'},\n",
       " {'account': 'EEVV8325881104553',\n",
       "  'country': 'Portugal',\n",
       "  'email': 'ystewart@yahoo.com',\n",
       "  'first_name': 'Judy',\n",
       "  'last_name': 'Figueroa'},\n",
       " {'account': 'HHHP3471562002758',\n",
       "  'country': 'Niger',\n",
       "  'email': 'melanie81@rogers.com',\n",
       "  'first_name': 'Kathleen',\n",
       "  'last_name': 'Cameron'},\n",
       " {'account': 'VDWY7565964041116',\n",
       "  'country': 'Mexico',\n",
       "  'email': 'danielle65@yahoo.com',\n",
       "  'first_name': 'Kayla',\n",
       "  'last_name': 'Woodward'},\n",
       " {'account': 'BIGY3006735396533',\n",
       "  'country': 'Central African Republic',\n",
       "  'email': 'jennajoseph@yahoo.com',\n",
       "  'first_name': 'Kenneth',\n",
       "  'last_name': 'Krueger'},\n",
       " {'account': 'FQJA6381776349463',\n",
       "  'country': 'Nepal',\n",
       "  'email': 'tmurphy@flores.biz',\n",
       "  'first_name': 'Kim',\n",
       "  'last_name': 'Blair'},\n",
       " {'account': 'WRXW4627191899235',\n",
       "  'country': 'Cocos (Keeling) Islands',\n",
       "  'email': 'megan24@stewart.net',\n",
       "  'first_name': 'Kristina',\n",
       "  'last_name': 'Owen'},\n",
       " {'account': 'MUVI3570791852556',\n",
       "  'country': 'Swaziland',\n",
       "  'email': 'dawnjohnson@gmail.com',\n",
       "  'first_name': 'Krystal',\n",
       "  'last_name': 'Wilson'},\n",
       " {'account': 'BNYD8693045932496',\n",
       "  'country': 'Lesotho',\n",
       "  'email': 'ryan32@skinner.com',\n",
       "  'first_name': 'Latoya',\n",
       "  'last_name': 'Griffith'},\n",
       " {'account': 'DPLN5056382218296',\n",
       "  'country': 'Faroe Islands',\n",
       "  'email': 'kfletcher@yahoo.com',\n",
       "  'first_name': 'Lee',\n",
       "  'last_name': 'Carter'},\n",
       " {'account': 'ZKTE5908966955533',\n",
       "  'country': 'Heard Island and McDonald Islands',\n",
       "  'email': 'robertdavis@hotmail.com',\n",
       "  'first_name': 'Linda',\n",
       "  'last_name': 'Nash'},\n",
       " {'account': 'VUPW6891906300822',\n",
       "  'country': 'Saint Martin',\n",
       "  'email': 'hsmith@baker.com',\n",
       "  'first_name': 'Lisa',\n",
       "  'last_name': 'Hill'},\n",
       " {'account': 'MKWY4848668895426',\n",
       "  'country': 'Romania',\n",
       "  'email': 'catherine23@gmail.com',\n",
       "  'first_name': 'Lori',\n",
       "  'last_name': 'Smith'},\n",
       " {'account': 'IYOD4325345823013',\n",
       "  'country': 'Togo',\n",
       "  'email': 'antonio52@gmail.com',\n",
       "  'first_name': 'Margaret',\n",
       "  'last_name': 'Garcia'},\n",
       " {'account': 'OHOV7518558201999',\n",
       "  'country': 'Albania',\n",
       "  'email': 'rhodesnicholas@hotmail.com',\n",
       "  'first_name': 'Mariah',\n",
       "  'last_name': 'Armstrong'},\n",
       " {'account': 'MWRB2515761996641',\n",
       "  'country': 'Kuwait',\n",
       "  'email': 'nmoore@hotmail.com',\n",
       "  'first_name': 'Mark',\n",
       "  'last_name': 'Stone'},\n",
       " {'account': 'DHMT4208071148508',\n",
       "  'country': 'Chile',\n",
       "  'email': 'suebrown@yahoo.com',\n",
       "  'first_name': 'Mary',\n",
       "  'last_name': 'Anderson'},\n",
       " {'account': 'KCNI2464381879411',\n",
       "  'country': 'Latvia',\n",
       "  'email': 'mary64@ray.org',\n",
       "  'first_name': 'Mary',\n",
       "  'last_name': 'Salazar'},\n",
       " {'account': 'EOPA8088866975598',\n",
       "  'country': 'Armenia',\n",
       "  'email': 'ndelacruz@yahoo.com',\n",
       "  'first_name': 'Megan',\n",
       "  'last_name': 'Harris'},\n",
       " {'account': 'CFQJ4204773901237',\n",
       "  'country': 'French Guiana',\n",
       "  'email': 'schaefernatalie@hotmail.com',\n",
       "  'first_name': 'Melissa',\n",
       "  'last_name': 'Grant'},\n",
       " {'account': 'QVJP6465242365388',\n",
       "  'country': 'Nepal',\n",
       "  'email': 'xdunn@hotmail.com',\n",
       "  'first_name': 'Michael',\n",
       "  'last_name': 'Weaver'},\n",
       " {'account': 'UWFU1921951273393',\n",
       "  'country': 'Turkmenistan',\n",
       "  'email': 'johnperez@johnson.com',\n",
       "  'first_name': 'Michael',\n",
       "  'last_name': 'Robinson'},\n",
       " {'account': 'KRKF7344951038740',\n",
       "  'country': 'Timor-Leste',\n",
       "  'email': 'robertbowen@chavez-ortega.com',\n",
       "  'first_name': 'Michael',\n",
       "  'last_name': 'Aguirre'},\n",
       " {'account': 'QKAF2254397516681',\n",
       "  'country': 'Serbia',\n",
       "  'email': 'phillipssean@hotmail.com',\n",
       "  'first_name': 'Michael',\n",
       "  'last_name': 'Hansen'},\n",
       " {'account': 'QAAO4666689281736',\n",
       "  'country': 'Slovakia (Slovak Republic)',\n",
       "  'email': 'aaronrichard@middleton.net',\n",
       "  'first_name': 'Miguel',\n",
       "  'last_name': 'Johnson'},\n",
       " {'account': 'QFIM0905182880347',\n",
       "  'country': 'Mauritius',\n",
       "  'email': 'arogers@smith.com',\n",
       "  'first_name': 'Patrick',\n",
       "  'last_name': 'Gilmore'},\n",
       " {'account': 'PPHE5533473251751',\n",
       "  'country': 'Turkmenistan',\n",
       "  'email': 'ubriggs@hill.info',\n",
       "  'first_name': 'Patrick',\n",
       "  'last_name': 'Cuevas'},\n",
       " {'account': 'JOQE2648899771737',\n",
       "  'country': 'Saint Helena',\n",
       "  'email': 'lopezcarl@johnson.com',\n",
       "  'first_name': 'Patrick',\n",
       "  'last_name': 'Lewis'},\n",
       " {'account': 'FGBC0366153271398',\n",
       "  'country': 'Germany',\n",
       "  'email': 'ubradley@yahoo.com',\n",
       "  'first_name': 'Paul',\n",
       "  'last_name': 'Hubbard'},\n",
       " {'account': 'CNJX1222752295544',\n",
       "  'country': 'Peru',\n",
       "  'email': 'watsonsamuel@gmail.com',\n",
       "  'first_name': 'Phillip',\n",
       "  'last_name': 'Burke'},\n",
       " {'account': 'KAOL9792684486009',\n",
       "  'country': 'Tokelau',\n",
       "  'email': 'xchurch@hotmail.com',\n",
       "  'first_name': 'Randy',\n",
       "  'last_name': 'Huang'},\n",
       " {'account': 'IGXK5881682171566',\n",
       "  'country': 'Barbados',\n",
       "  'email': 'dprince@hotmail.com',\n",
       "  'first_name': 'Raymond',\n",
       "  'last_name': 'Anderson'},\n",
       " {'account': 'JQHS4274771257925',\n",
       "  'country': 'Croatia',\n",
       "  'email': 'jessica62@yahoo.com',\n",
       "  'first_name': 'Robert',\n",
       "  'last_name': 'Nguyen'},\n",
       " {'account': 'SVMU4403517448078',\n",
       "  'country': 'Kenya',\n",
       "  'email': 'vhanson@yahoo.com',\n",
       "  'first_name': 'Robin',\n",
       "  'last_name': 'Nguyen'},\n",
       " {'account': 'ZNUY4071301663622',\n",
       "  'country': 'Togo',\n",
       "  'email': 'bfletcher@yahoo.com',\n",
       "  'first_name': 'Robyn',\n",
       "  'last_name': 'Russell'},\n",
       " {'account': 'YYHM5758234683389',\n",
       "  'country': 'Saint Vincent and the Grenadines',\n",
       "  'email': 'denise01@burns.org',\n",
       "  'first_name': 'Ruth',\n",
       "  'last_name': 'Thompson'},\n",
       " {'account': 'QHIW7412514205367',\n",
       "  'country': 'Algeria',\n",
       "  'email': 'xmurphy@yahoo.com',\n",
       "  'first_name': 'Sabrina',\n",
       "  'last_name': 'Keith'},\n",
       " {'account': 'VRZP1447516193511',\n",
       "  'country': 'Macedonia',\n",
       "  'email': 'bcurtis@hotmail.com',\n",
       "  'first_name': 'Samantha',\n",
       "  'last_name': 'Melton'},\n",
       " {'account': 'ARWK1547324119222',\n",
       "  'country': 'Micronesia',\n",
       "  'email': 'kristentaylor@yahoo.com',\n",
       "  'first_name': 'Savannah',\n",
       "  'last_name': 'Potts'},\n",
       " {'account': 'WDAT4146843903498',\n",
       "  'country': 'Norfolk Island',\n",
       "  'email': 'byoung@gmail.com',\n",
       "  'first_name': 'Sean',\n",
       "  'last_name': 'Huff'},\n",
       " {'account': 'DLDV5789894914403',\n",
       "  'country': 'Martinique',\n",
       "  'email': 'leekatherine@williams.com',\n",
       "  'first_name': 'Shane',\n",
       "  'last_name': 'Weiss'},\n",
       " {'account': 'YHXF7256577475630',\n",
       "  'country': 'Turkey',\n",
       "  'email': 'gonzalezrobert@hotmail.com',\n",
       "  'first_name': 'Sharon',\n",
       "  'last_name': 'Sullivan'},\n",
       " {'account': 'HNOA0376843856035',\n",
       "  'country': 'Zimbabwe',\n",
       "  'email': 'lukebradford@hotmail.com',\n",
       "  'first_name': 'Stacey',\n",
       "  'last_name': 'Garcia'},\n",
       " {'account': 'DNRB2101855092009',\n",
       "  'country': 'Singapore',\n",
       "  'email': 'sjackson@yahoo.com',\n",
       "  'first_name': 'Stephanie',\n",
       "  'last_name': 'Bennett'},\n",
       " {'account': 'TRLQ6559557081716',\n",
       "  'country': 'Marshall Islands',\n",
       "  'email': 'jackduke@hotmail.com',\n",
       "  'first_name': 'Stephen',\n",
       "  'last_name': 'Shaw'},\n",
       " {'account': 'XNWQ1072087896797',\n",
       "  'country': 'Norway',\n",
       "  'email': 'kdavidson@gordon.com',\n",
       "  'first_name': 'Teresa',\n",
       "  'last_name': 'Hardy'},\n",
       " {'account': 'LSDI9463735752680',\n",
       "  'country': 'Egypt',\n",
       "  'email': 'kpena@yahoo.com',\n",
       "  'first_name': 'Thomas',\n",
       "  'last_name': 'Castaneda'},\n",
       " {'account': 'GPFA8271551275648',\n",
       "  'country': 'San Marino',\n",
       "  'email': 'colleengarrison@hotmail.com',\n",
       "  'first_name': 'Tiffany',\n",
       "  'last_name': 'Smith'},\n",
       " {'account': 'OCFV4659464275270',\n",
       "  'country': 'Bahrain',\n",
       "  'email': 'bryanmartin@gmail.com',\n",
       "  'first_name': 'Timothy',\n",
       "  'last_name': 'Thomas'},\n",
       " {'account': 'JCUN9597199552039',\n",
       "  'country': 'Benin',\n",
       "  'email': 'jenniferadkins@griffin.biz',\n",
       "  'first_name': 'Timothy',\n",
       "  'last_name': 'Jones'},\n",
       " {'account': 'XPTQ7837014557677',\n",
       "  'country': 'Argentina',\n",
       "  'email': 'amanda23@hotmail.com',\n",
       "  'first_name': 'Todd',\n",
       "  'last_name': 'Francis'},\n",
       " {'account': 'IZYL3351829981461',\n",
       "  'country': 'Fiji',\n",
       "  'email': 'evansmiguel@yahoo.com',\n",
       "  'first_name': 'Tracie',\n",
       "  'last_name': 'Burch'},\n",
       " {'account': 'ATOT8581137487723',\n",
       "  'country': 'Czech Republic',\n",
       "  'email': 'piercejenna@gmail.com',\n",
       "  'first_name': 'Tracy',\n",
       "  'last_name': 'Lawson'},\n",
       " {'account': 'ZJUF2687631787282',\n",
       "  'country': 'Guinea',\n",
       "  'email': 'woodardlindsey@yahoo.com',\n",
       "  'first_name': 'Valerie',\n",
       "  'last_name': 'Edwards'},\n",
       " {'account': 'UWLV6407825245995',\n",
       "  'country': 'Saint Vincent and the Grenadines',\n",
       "  'email': 'clineerin@hotmail.com',\n",
       "  'first_name': 'Wesley',\n",
       "  'last_name': 'Wilkinson'},\n",
       " {'account': 'ACQR2846533122117',\n",
       "  'country': 'Central African Republic',\n",
       "  'email': 'zcalhoun@gmail.com',\n",
       "  'first_name': 'Zachary',\n",
       "  'last_name': 'Flores'},\n",
       " {'account': 'OMQX4840913072589',\n",
       "  'country': 'Armenia',\n",
       "  'email': 'stephen63@yahoo.com',\n",
       "  'first_name': 'Zachary',\n",
       "  'last_name': 'Wheeler'}]"
      ]
     },
     "execution_count": 90,
     "metadata": {},
     "output_type": "execute_result"
    }
   ],
   "source": [
    "data = json_data[\"data\"]\n",
    "sorted(data, key=lambda user: user.get(\"first_name\"))"
   ]
  },
  {
   "cell_type": "code",
   "execution_count": 92,
   "id": "5b708e21-ea01-4e92-ad5f-bb2dda2d635b",
   "metadata": {},
   "outputs": [
    {
     "data": {
      "text/plain": [
       "'doe'"
      ]
     },
     "execution_count": 92,
     "metadata": {},
     "output_type": "execute_result"
    }
   ],
   "source": [
    "students = ['john', 'Janette', 'doe']\n",
    "\n",
    "min(students, key=lambda student: len(student))"
   ]
  },
  {
   "cell_type": "code",
   "execution_count": 93,
   "id": "3f25a6d5-c87e-45b5-9c55-0756107e43b0",
   "metadata": {},
   "outputs": [
    {
     "data": {
      "text/plain": [
       "'doe'"
      ]
     },
     "execution_count": 93,
     "metadata": {},
     "output_type": "execute_result"
    }
   ],
   "source": [
    "min(students, key=len)"
   ]
  },
  {
   "cell_type": "code",
   "execution_count": 94,
   "id": "57e2e6df-c1f2-439d-831b-134dad72d132",
   "metadata": {},
   "outputs": [
    {
     "data": {
      "text/plain": [
       "['John', 'Janette', 'Doe']"
      ]
     },
     "execution_count": 94,
     "metadata": {},
     "output_type": "execute_result"
    }
   ],
   "source": [
    "list(map(str.title, students))"
   ]
  },
  {
   "cell_type": "code",
   "execution_count": 97,
   "id": "27239f7c-7cb5-4dee-85b6-0d928bd10dee",
   "metadata": {},
   "outputs": [
    {
     "data": {
      "text/plain": [
       "[1.0, 2.0, 3.0, 4.0]"
      ]
     },
     "execution_count": 97,
     "metadata": {},
     "output_type": "execute_result"
    }
   ],
   "source": [
    "list(map(float, [\"1\", \"2\", \"3\", \"4\"]))"
   ]
  },
  {
   "cell_type": "code",
   "execution_count": 100,
   "id": "2b643ad4-99a1-41a9-ad61-942ba85eb9dc",
   "metadata": {},
   "outputs": [
    {
     "data": {
      "text/plain": [
       "[{'value': '34.4'}, {'value': '45.3'}, {'value': '73.4'}, {'value': '110.4'}]"
      ]
     },
     "execution_count": 100,
     "metadata": {},
     "output_type": "execute_result"
    }
   ],
   "source": [
    "my_list = [{'value': '34.4'}, {'value': '45.3'}, {'value': '73.4'}, {'value': '110.4'}]\n",
    "\n",
    "sorted(my_list, key=lambda ele: float(ele.get('value')))"
   ]
  },
  {
   "cell_type": "code",
   "execution_count": 104,
   "id": "262bbf78-f97f-4944-9474-1a664a72b0ae",
   "metadata": {},
   "outputs": [
    {
     "data": {
      "text/plain": [
       "[(1, 'a', 3.5), (3, 'Z', 90)]"
      ]
     },
     "execution_count": 104,
     "metadata": {},
     "output_type": "execute_result"
    }
   ],
   "source": [
    "import operator\n",
    "x = ((1, 'a', 3.5), (3, 'Z', 90))\n",
    "sorted(x, key=operator.itemgetter(2))"
   ]
  },
  {
   "cell_type": "code",
   "execution_count": 105,
   "id": "749c50b0-a054-41df-b83a-92930af3683c",
   "metadata": {},
   "outputs": [
    {
     "data": {
      "text/plain": [
       "[{'name': 'student2',\n",
       "  'test1': '100',\n",
       "  'test2': '90',\n",
       "  'test3': '65',\n",
       "  'test4': '68',\n",
       "  'test5': '94'},\n",
       " {'name': 'student31',\n",
       "  'test1': '90',\n",
       "  'test2': '87',\n",
       "  'test3': '66',\n",
       "  'test4': '95',\n",
       "  'test5': '72'},\n",
       " {'name': 'student83',\n",
       "  'test1': '88',\n",
       "  'test2': '76',\n",
       "  'test3': '65',\n",
       "  'test4': '97',\n",
       "  'test5': '82'}]"
      ]
     },
     "execution_count": 105,
     "metadata": {},
     "output_type": "execute_result"
    }
   ],
   "source": [
    "import operator\n",
    "x = [\n",
    "    {'name': 'student2', 'test1': '100', 'test2': '90','test3': '65', 'test4': '68', 'test5': '94'},\n",
    "    {'name': 'student83', 'test1': '88', 'test2': '76', 'test3': '65', 'test4': '97', 'test5': '82'},\n",
    "    {'name': 'student31', 'test1': '90', 'test2': '87', 'test3': '66', 'test4': '95', 'test5': '72'}]\n",
    "\n",
    "sorted(x, key=operator.itemgetter('name'))\n"
   ]
  },
  {
   "cell_type": "code",
   "execution_count": 106,
   "id": "88eca7f2-f9b1-47ef-9c39-3ce479bb3661",
   "metadata": {},
   "outputs": [
    {
     "data": {
      "text/plain": [
       "[{'name': 'student2',\n",
       "  'test1': '100',\n",
       "  'test2': '90',\n",
       "  'test3': '65',\n",
       "  'test4': '68',\n",
       "  'test5': '94'},\n",
       " {'name': 'student83',\n",
       "  'test1': '88',\n",
       "  'test2': '76',\n",
       "  'test3': '65',\n",
       "  'test4': '97',\n",
       "  'test5': '82'},\n",
       " {'name': 'student31',\n",
       "  'test1': '90',\n",
       "  'test2': '87',\n",
       "  'test3': '66',\n",
       "  'test4': '95',\n",
       "  'test5': '72'}]"
      ]
     },
     "execution_count": 106,
     "metadata": {},
     "output_type": "execute_result"
    }
   ],
   "source": [
    "sorted(x, key=operator.itemgetter('test1'))"
   ]
  },
  {
   "cell_type": "code",
   "execution_count": 107,
   "id": "30f6f65e-f78d-41b6-ada7-d08018a2802a",
   "metadata": {},
   "outputs": [
    {
     "data": {
      "text/plain": [
       "[{'name': 'student83',\n",
       "  'test1': '88',\n",
       "  'test2': '76',\n",
       "  'test3': '65',\n",
       "  'test4': '97',\n",
       "  'test5': '82'},\n",
       " {'name': 'student31',\n",
       "  'test1': '90',\n",
       "  'test2': '87',\n",
       "  'test3': '66',\n",
       "  'test4': '95',\n",
       "  'test5': '72'},\n",
       " {'name': 'student2',\n",
       "  'test1': '100',\n",
       "  'test2': '90',\n",
       "  'test3': '65',\n",
       "  'test4': '68',\n",
       "  'test5': '94'}]"
      ]
     },
     "execution_count": 107,
     "metadata": {},
     "output_type": "execute_result"
    }
   ],
   "source": [
    "\n",
    "sorted(x, key=lambda student: float(student.get('test1')))\n"
   ]
  },
  {
   "cell_type": "code",
   "execution_count": 108,
   "id": "6411b797-5fae-4e4c-a3ec-7635894179cd",
   "metadata": {},
   "outputs": [
    {
     "data": {
      "text/plain": [
       "[(1, 10, 2), (2, 1, 3), (2, 2, 3)]"
      ]
     },
     "execution_count": 108,
     "metadata": {},
     "output_type": "execute_result"
    }
   ],
   "source": [
    "x = (\n",
    "    (2, 2, 3),\n",
    "    (2, 1, 3),\n",
    "    (1, 10, 2),\n",
    ")\n",
    "\n",
    "sorted(x, key=lambda ele: (ele[0], ele[1]))"
   ]
  },
  {
   "cell_type": "code",
   "execution_count": 110,
   "id": "244e4f95-79c9-4fd7-a4f5-305edf32bb2d",
   "metadata": {},
   "outputs": [
    {
     "data": {
      "text/plain": [
       "[('OPEN', 'Opendoor Technologies Inc', '$8.42', '-2.55', '53,559,847'),\n",
       " ('ZNGA', 'Zynga Inc.', '$9.18', '+0.37', '48,193,380'),\n",
       " ('AAPL', 'Apple Inc.', '$164.71', '+1.97', '80,725,613'),\n",
       " ('NVDA', 'NVIDIA Corporation', '$240.82', '+3.34', '49,046,544'),\n",
       " ('AMD', 'Advanced Micro Devices, Inc.', '$120.88', '+4.27', '121,475,927')]"
      ]
     },
     "execution_count": 110,
     "metadata": {},
     "output_type": "execute_result"
    }
   ],
   "source": [
    "data = (\n",
    "    ('AMD', 'Advanced Micro Devices, Inc.',\n",
    "     '$120.88', '+4.27', '121,475,927'),\n",
    "    ('AAPL', 'Apple Inc.', '$164.71', '+1.97', '80,725,613'),\n",
    "    ('OPEN', 'Opendoor Technologies Inc', '$8.42', '-2.55', '53,559,847'),\n",
    "    ('NVDA', 'NVIDIA Corporation', '$240.82', '+3.34', '49,046,544'),\n",
    "    ('ZNGA', 'Zynga Inc.', '$9.18', '+0.37', '48,193,380'),\n",
    ")\n",
    "sorted(data, key=lambda ele: float(ele[3]))"
   ]
  },
  {
   "cell_type": "code",
   "execution_count": 112,
   "id": "dbd026f6-7a83-488c-a46f-cde1893af71f",
   "metadata": {},
   "outputs": [
    {
     "data": {
      "text/plain": [
       "['-10', '-19']"
      ]
     },
     "execution_count": 112,
     "metadata": {},
     "output_type": "execute_result"
    }
   ],
   "source": [
    "x = [\"-10\", \"-19\"]\n",
    "sorted(x)"
   ]
  },
  {
   "cell_type": "code",
   "execution_count": 113,
   "id": "1efe74c1-c341-47b6-9794-9e919c9740f9",
   "metadata": {},
   "outputs": [
    {
     "data": {
      "text/plain": [
       "[('OPEN', 'Opendoor Technologies Inc', '$8.42', '-2.55', '53,559,847'),\n",
       " ('ZNGA', 'Zynga Inc.', '$9.18', '+0.37', '48,193,380'),\n",
       " ('AMD', 'Advanced Micro Devices, Inc.', '$120.88', '+4.27', '121,475,927'),\n",
       " ('AAPL', 'Apple Inc.', '$164.71', '+1.97', '80,725,613'),\n",
       " ('NVDA', 'NVIDIA Corporation', '$240.82', '+3.34', '49,046,544')]"
      ]
     },
     "execution_count": 113,
     "metadata": {},
     "output_type": "execute_result"
    }
   ],
   "source": [
    "data = (\n",
    "    ('AMD', 'Advanced Micro Devices, Inc.','$120.88', '+4.27', '121,475,927'),\n",
    "    ('AAPL', 'Apple Inc.', '$164.71', '+1.97', '80,725,613'),\n",
    "    ('OPEN', 'Opendoor Technologies Inc', '$8.42', '-2.55', '53,559,847'),\n",
    "    ('NVDA', 'NVIDIA Corporation', '$240.82', '+3.34', '49,046,544'),\n",
    "    ('ZNGA', 'Zynga Inc.', '$9.18', '+0.37', '48,193,380'),\n",
    ")\n",
    "sorted(data, key=lambda ele: float(ele[2][1:]))"
   ]
  },
  {
   "cell_type": "code",
   "execution_count": 114,
   "id": "082b87a9-bead-4e2e-b967-28fc320c3d70",
   "metadata": {},
   "outputs": [
    {
     "data": {
      "text/plain": [
       "[('OPEN', 'Opendoor Technologies Inc', '$8.42', '-2.55', '53,559,847'),\n",
       " ('ZNGA', 'Zynga Inc.', '$9.18', '+0.37', '48,193,380'),\n",
       " ('AAPL', 'Apple Inc.', '$164.71', '+1.97', '80,725,613'),\n",
       " ('NVDA', 'NVIDIA Corporation', '$240.82', '+3.34', '49,046,544'),\n",
       " ('AMD', 'Advanced Micro Devices, Inc.', '$120.88', '+4.27', '121,475,927')]"
      ]
     },
     "execution_count": 114,
     "metadata": {},
     "output_type": "execute_result"
    }
   ],
   "source": [
    "sorted(data, key=lambda ele: float(ele[3]))"
   ]
  },
  {
   "cell_type": "code",
   "execution_count": 116,
   "id": "9dd9b83b-5151-4a0b-a51a-81ed41cf5abd",
   "metadata": {},
   "outputs": [
    {
     "data": {
      "text/plain": [
       "[('ZNGA', 'Zynga Inc.', '$9.18', '+0.37', '48,193,380'),\n",
       " ('NVDA', 'NVIDIA Corporation', '$240.82', '+3.34', '49,046,544'),\n",
       " ('OPEN', 'Opendoor Technologies Inc', '$8.42', '-2.55', '53,559,847'),\n",
       " ('AAPL', 'Apple Inc.', '$164.71', '+1.97', '80,725,613'),\n",
       " ('AMD', 'Advanced Micro Devices, Inc.', '$120.88', '+4.27', '121,475,927')]"
      ]
     },
     "execution_count": 116,
     "metadata": {},
     "output_type": "execute_result"
    }
   ],
   "source": [
    "sorted(data, key=lambda ele: float(ele[4].replace(',', '')))"
   ]
  },
  {
   "cell_type": "code",
   "execution_count": 128,
   "id": "794b03ad-b35b-486f-9e6b-583f6bbc9f4e",
   "metadata": {},
   "outputs": [
    {
     "name": "stdout",
     "output_type": "stream",
     "text": [
      "['-99', '-10', '111', '123a', 'a1', 'a2', 'aaa']\n"
     ]
    }
   ],
   "source": [
    "def convert_to_number(string):\n",
    "    try:\n",
    "        int(string)\n",
    "        return True\n",
    "    except:\n",
    "        return False\n",
    "        \n",
    "def is_string(string):\n",
    "    try:\n",
    "        float(string)\n",
    "        return False\n",
    "    except:\n",
    "        return True\n",
    "\n",
    "x = [\"111\", \"aaa\",\"-10\",\"a2\",\"123a\",\"-99\", \"a1\"]\n",
    "numbers = sorted(filter(convert_to_number, x), key=lambda ele: int(ele))\n",
    "strings = sorted(filter(is_string, x))\n",
    "\n",
    "print(numbers + strings)"
   ]
  },
  {
   "cell_type": "code",
   "execution_count": 138,
   "id": "e31f0ff3-ed24-4eee-93dd-d6a55e45b02f",
   "metadata": {},
   "outputs": [
    {
     "data": {
      "text/plain": [
       "['-10', '-99', '111', '123a', 'a1', 'a2', 'aaa']"
      ]
     },
     "execution_count": 138,
     "metadata": {},
     "output_type": "execute_result"
    }
   ],
   "source": [
    "sorted(filter(lambda ele: convert_to_number(ele), x)) + sorted(filter(lambda ele: not convert_to_number(ele), x))\n"
   ]
  }
 ],
 "metadata": {
  "kernelspec": {
   "display_name": "Python 3 (ipykernel)",
   "language": "python",
   "name": "python3"
  },
  "language_info": {
   "codemirror_mode": {
    "name": "ipython",
    "version": 3
   },
   "file_extension": ".py",
   "mimetype": "text/x-python",
   "name": "python",
   "nbconvert_exporter": "python",
   "pygments_lexer": "ipython3",
   "version": "3.11.7"
  }
 },
 "nbformat": 4,
 "nbformat_minor": 5
}
