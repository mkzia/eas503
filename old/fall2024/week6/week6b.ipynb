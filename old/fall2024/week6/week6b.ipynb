{
 "cells": [
  {
   "cell_type": "code",
   "execution_count": 1,
   "id": "04bd2bd2-14d3-4523-a9ba-a302facf8d06",
   "metadata": {},
   "outputs": [
    {
     "ename": "SyntaxError",
     "evalue": "invalid syntax (1277840458.py, line 1)",
     "output_type": "error",
     "traceback": [
      "\u001b[0;36m  Cell \u001b[0;32mIn[1], line 1\u001b[0;36m\u001b[0m\n\u001b[0;31m    def func(()):\u001b[0m\n\u001b[0m             ^\u001b[0m\n\u001b[0;31mSyntaxError\u001b[0m\u001b[0;31m:\u001b[0m invalid syntax\n"
     ]
    }
   ],
   "source": [
    "def func(()):\n",
    "   pass"
   ]
  },
  {
   "cell_type": "code",
   "execution_count": 2,
   "id": "34e0cbbf-06a6-460e-bb60-f0fee6ae7d1c",
   "metadata": {},
   "outputs": [],
   "source": [
    "def func():\n",
    "   print(variable)"
   ]
  },
  {
   "cell_type": "code",
   "execution_count": 3,
   "id": "f825535c-a3eb-42b1-945f-2a8a5074c618",
   "metadata": {},
   "outputs": [
    {
     "ename": "NameError",
     "evalue": "name 'variable' is not defined",
     "output_type": "error",
     "traceback": [
      "\u001b[0;31m---------------------------------------------------------------------------\u001b[0m",
      "\u001b[0;31mNameError\u001b[0m                                 Traceback (most recent call last)",
      "Cell \u001b[0;32mIn[3], line 1\u001b[0m\n\u001b[0;32m----> 1\u001b[0m func()\n",
      "Cell \u001b[0;32mIn[2], line 2\u001b[0m, in \u001b[0;36mfunc\u001b[0;34m()\u001b[0m\n\u001b[1;32m      1\u001b[0m \u001b[38;5;28;01mdef\u001b[39;00m \u001b[38;5;21mfunc\u001b[39m():\n\u001b[0;32m----> 2\u001b[0m    \u001b[38;5;28mprint\u001b[39m(variable)\n",
      "\u001b[0;31mNameError\u001b[0m: name 'variable' is not defined"
     ]
    }
   ],
   "source": [
    "func()"
   ]
  },
  {
   "cell_type": "code",
   "execution_count": 4,
   "id": "cc031db9-3600-4114-8cde-d9d4f23641b1",
   "metadata": {},
   "outputs": [
    {
     "ename": "TypeError",
     "evalue": "can only concatenate str (not \"int\") to str",
     "output_type": "error",
     "traceback": [
      "\u001b[0;31m---------------------------------------------------------------------------\u001b[0m",
      "\u001b[0;31mTypeError\u001b[0m                                 Traceback (most recent call last)",
      "Cell \u001b[0;32mIn[4], line 1\u001b[0m\n\u001b[0;32m----> 1\u001b[0m \u001b[38;5;124m'\u001b[39m\u001b[38;5;124m3\u001b[39m\u001b[38;5;124m'\u001b[39m \u001b[38;5;241m+\u001b[39m \u001b[38;5;241m3\u001b[39m\n",
      "\u001b[0;31mTypeError\u001b[0m: can only concatenate str (not \"int\") to str"
     ]
    }
   ],
   "source": [
    "'3' + 3"
   ]
  },
  {
   "cell_type": "code",
   "execution_count": 5,
   "id": "38443fe7-3d80-4303-9851-1cb13459fc64",
   "metadata": {},
   "outputs": [
    {
     "ename": "IndexError",
     "evalue": "list index out of range",
     "output_type": "error",
     "traceback": [
      "\u001b[0;31m---------------------------------------------------------------------------\u001b[0m",
      "\u001b[0;31mIndexError\u001b[0m                                Traceback (most recent call last)",
      "Cell \u001b[0;32mIn[5], line 2\u001b[0m\n\u001b[1;32m      1\u001b[0m my_list \u001b[38;5;241m=\u001b[39m [\u001b[38;5;241m1\u001b[39m, \u001b[38;5;241m2\u001b[39m, \u001b[38;5;241m3\u001b[39m]\n\u001b[0;32m----> 2\u001b[0m my_list[\u001b[38;5;241m4\u001b[39m]\n",
      "\u001b[0;31mIndexError\u001b[0m: list index out of range"
     ]
    }
   ],
   "source": [
    "my_list = [1, 2, 3]\n",
    "my_list[4]"
   ]
  },
  {
   "cell_type": "code",
   "execution_count": 6,
   "id": "d91299d7-581f-4013-92cc-8540c314e4a1",
   "metadata": {},
   "outputs": [
    {
     "data": {
      "text/plain": [
       "3"
      ]
     },
     "execution_count": 6,
     "metadata": {},
     "output_type": "execute_result"
    }
   ],
   "source": [
    "int('3')"
   ]
  },
  {
   "cell_type": "code",
   "execution_count": 7,
   "id": "a929e3b7-87f1-42b5-947f-f38074379eb0",
   "metadata": {},
   "outputs": [
    {
     "ename": "ValueError",
     "evalue": "invalid literal for int() with base 10: '3a'",
     "output_type": "error",
     "traceback": [
      "\u001b[0;31m---------------------------------------------------------------------------\u001b[0m",
      "\u001b[0;31mValueError\u001b[0m                                Traceback (most recent call last)",
      "Cell \u001b[0;32mIn[7], line 1\u001b[0m\n\u001b[0;32m----> 1\u001b[0m \u001b[38;5;28mint\u001b[39m(\u001b[38;5;124m'\u001b[39m\u001b[38;5;124m3a\u001b[39m\u001b[38;5;124m'\u001b[39m)\n",
      "\u001b[0;31mValueError\u001b[0m: invalid literal for int() with base 10: '3a'"
     ]
    }
   ],
   "source": [
    "int('3a')"
   ]
  },
  {
   "cell_type": "code",
   "execution_count": 8,
   "id": "955af16a-1c36-45f7-8c14-889380f65fad",
   "metadata": {},
   "outputs": [
    {
     "ename": "KeyError",
     "evalue": "'class'",
     "output_type": "error",
     "traceback": [
      "\u001b[0;31m---------------------------------------------------------------------------\u001b[0m",
      "\u001b[0;31mKeyError\u001b[0m                                  Traceback (most recent call last)",
      "Cell \u001b[0;32mIn[8], line 2\u001b[0m\n\u001b[1;32m      1\u001b[0m student \u001b[38;5;241m=\u001b[39m {\u001b[38;5;124m'\u001b[39m\u001b[38;5;124musername\u001b[39m\u001b[38;5;124m'\u001b[39m: \u001b[38;5;124m'\u001b[39m\u001b[38;5;124mjohn\u001b[39m\u001b[38;5;124m'\u001b[39m, \u001b[38;5;124m'\u001b[39m\u001b[38;5;124mgrade\u001b[39m\u001b[38;5;124m'\u001b[39m: \u001b[38;5;241m50\u001b[39m}\n\u001b[0;32m----> 2\u001b[0m student[\u001b[38;5;124m'\u001b[39m\u001b[38;5;124mclass\u001b[39m\u001b[38;5;124m'\u001b[39m]\n",
      "\u001b[0;31mKeyError\u001b[0m: 'class'"
     ]
    }
   ],
   "source": [
    "student = {'username': 'john', 'grade': 50}\n",
    "student['class']"
   ]
  },
  {
   "cell_type": "code",
   "execution_count": 9,
   "id": "d3f16740-35ff-4752-99e8-0eae10f3ff79",
   "metadata": {},
   "outputs": [
    {
     "data": {
      "text/plain": [
       "'TEST1234'"
      ]
     },
     "execution_count": 9,
     "metadata": {},
     "output_type": "execute_result"
    }
   ],
   "source": [
    "string = 'test1234'\n",
    "string.upper()\n"
   ]
  },
  {
   "cell_type": "code",
   "execution_count": 10,
   "id": "c67bd9fc-2d2b-49c9-8e06-3cc2eb0d9984",
   "metadata": {},
   "outputs": [
    {
     "ename": "AttributeError",
     "evalue": "'list' object has no attribute 'upper'",
     "output_type": "error",
     "traceback": [
      "\u001b[0;31m---------------------------------------------------------------------------\u001b[0m",
      "\u001b[0;31mAttributeError\u001b[0m                            Traceback (most recent call last)",
      "Cell \u001b[0;32mIn[10], line 2\u001b[0m\n\u001b[1;32m      1\u001b[0m x \u001b[38;5;241m=\u001b[39m [\u001b[38;5;241m1\u001b[39m,\u001b[38;5;241m2\u001b[39m,\u001b[38;5;241m3\u001b[39m]\n\u001b[0;32m----> 2\u001b[0m x\u001b[38;5;241m.\u001b[39mupper()\n",
      "\u001b[0;31mAttributeError\u001b[0m: 'list' object has no attribute 'upper'"
     ]
    }
   ],
   "source": [
    "x = [1,2,3]\n",
    "x.upper()"
   ]
  },
  {
   "cell_type": "code",
   "execution_count": 11,
   "id": "a8e58bde-8d5e-405f-ba06-98fc3a7440db",
   "metadata": {},
   "outputs": [
    {
     "ename": "AttributeError",
     "evalue": "'list' object has no attribute 'upper'",
     "output_type": "error",
     "traceback": [
      "\u001b[0;31m---------------------------------------------------------------------------\u001b[0m",
      "\u001b[0;31mAttributeError\u001b[0m                            Traceback (most recent call last)",
      "Cell \u001b[0;32mIn[11], line 1\u001b[0m\n\u001b[0;32m----> 1\u001b[0m x\u001b[38;5;241m.\u001b[39mupper\n",
      "\u001b[0;31mAttributeError\u001b[0m: 'list' object has no attribute 'upper'"
     ]
    }
   ],
   "source": [
    "x.upper"
   ]
  },
  {
   "cell_type": "code",
   "execution_count": 13,
   "id": "6241edb5-994f-484d-a936-b4981ed1a9af",
   "metadata": {},
   "outputs": [
    {
     "ename": "IndentationError",
     "evalue": "unindent does not match any outer indentation level (<tokenize>, line 4)",
     "output_type": "error",
     "traceback": [
      "\u001b[0;36m  File \u001b[0;32m<tokenize>:4\u001b[0;36m\u001b[0m\n\u001b[0;31m    return x + y\u001b[0m\n\u001b[0m    ^\u001b[0m\n\u001b[0;31mIndentationError\u001b[0m\u001b[0;31m:\u001b[0m unindent does not match any outer indentation level\n"
     ]
    }
   ],
   "source": [
    "def func():\n",
    "    x = 1\n",
    "    y = 2\n",
    "  return x + y"
   ]
  },
  {
   "cell_type": "code",
   "execution_count": 27,
   "id": "b9bc7e23-3955-4f91-a59b-459180121f01",
   "metadata": {},
   "outputs": [],
   "source": [
    "def area(length, width):\n",
    "    # if type(length) not in  (int, float):\n",
    "    if not isinstance(length, (int, float)):\n",
    "        raise ValueError(f\"{length} is not a number\")\n",
    "    return length * width                  "
   ]
  },
  {
   "cell_type": "code",
   "execution_count": 28,
   "id": "5d04c710-3cf7-4c4b-86aa-0e367ca3208c",
   "metadata": {},
   "outputs": [
    {
     "ename": "ValueError",
     "evalue": "19 is not a number",
     "output_type": "error",
     "traceback": [
      "\u001b[0;31m---------------------------------------------------------------------------\u001b[0m",
      "\u001b[0;31mValueError\u001b[0m                                Traceback (most recent call last)",
      "Cell \u001b[0;32mIn[28], line 1\u001b[0m\n\u001b[0;32m----> 1\u001b[0m area(\u001b[38;5;124m\"\u001b[39m\u001b[38;5;124m19\u001b[39m\u001b[38;5;124m\"\u001b[39m, \u001b[38;5;241m10\u001b[39m)\n",
      "Cell \u001b[0;32mIn[27], line 4\u001b[0m, in \u001b[0;36marea\u001b[0;34m(length, width)\u001b[0m\n\u001b[1;32m      1\u001b[0m \u001b[38;5;28;01mdef\u001b[39;00m \u001b[38;5;21marea\u001b[39m(length, width):\n\u001b[1;32m      2\u001b[0m     \u001b[38;5;66;03m# if type(length) not in  (int, float):\u001b[39;00m\n\u001b[1;32m      3\u001b[0m     \u001b[38;5;28;01mif\u001b[39;00m \u001b[38;5;129;01mnot\u001b[39;00m \u001b[38;5;28misinstance\u001b[39m(length, (\u001b[38;5;28mint\u001b[39m, \u001b[38;5;28mfloat\u001b[39m)):\n\u001b[0;32m----> 4\u001b[0m         \u001b[38;5;28;01mraise\u001b[39;00m \u001b[38;5;167;01mValueError\u001b[39;00m(\u001b[38;5;124mf\u001b[39m\u001b[38;5;124m\"\u001b[39m\u001b[38;5;132;01m{\u001b[39;00mlength\u001b[38;5;132;01m}\u001b[39;00m\u001b[38;5;124m is not a number\u001b[39m\u001b[38;5;124m\"\u001b[39m)\n\u001b[1;32m      5\u001b[0m     \u001b[38;5;28;01mreturn\u001b[39;00m length \u001b[38;5;241m*\u001b[39m width\n",
      "\u001b[0;31mValueError\u001b[0m: 19 is not a number"
     ]
    }
   ],
   "source": [
    "area(\"19\", 10)"
   ]
  },
  {
   "cell_type": "code",
   "execution_count": 31,
   "id": "5a23f175-ca61-4047-b1f5-9ae794a4034b",
   "metadata": {},
   "outputs": [
    {
     "data": {
      "text/plain": [
       "True"
      ]
     },
     "execution_count": 31,
     "metadata": {},
     "output_type": "execute_result"
    }
   ],
   "source": [
    "x = [1, 2, 3]\n",
    "isinstance(x, (list, tuple))"
   ]
  },
  {
   "cell_type": "code",
   "execution_count": 34,
   "id": "b1290948-ccf1-4b8b-a967-4c56db16536e",
   "metadata": {},
   "outputs": [
    {
     "ename": "ValueError",
     "evalue": "Weight cannot be less than or equal to 0",
     "output_type": "error",
     "traceback": [
      "\u001b[0;31m---------------------------------------------------------------------------\u001b[0m",
      "\u001b[0;31mValueError\u001b[0m                                Traceback (most recent call last)",
      "Cell \u001b[0;32mIn[34], line 19\u001b[0m\n\u001b[1;32m     14\u001b[0m         \u001b[38;5;28;01mraise\u001b[39;00m \u001b[38;5;167;01mValueError\u001b[39;00m(\u001b[38;5;124m'\u001b[39m\u001b[38;5;124mWeight cannot be less than or equal to 0\u001b[39m\u001b[38;5;124m'\u001b[39m)\n\u001b[1;32m     16\u001b[0m     \u001b[38;5;28;01mreturn\u001b[39;00m \u001b[38;5;241m703\u001b[39m \u001b[38;5;241m*\u001b[39m weight \u001b[38;5;241m/\u001b[39m height\u001b[38;5;241m*\u001b[39m\u001b[38;5;241m*\u001b[39m\u001b[38;5;241m2\u001b[39m\n\u001b[0;32m---> 19\u001b[0m calculate_bmi(\u001b[38;5;241m60\u001b[39m, \u001b[38;5;241m-\u001b[39m\u001b[38;5;241m10\u001b[39m)\n",
      "Cell \u001b[0;32mIn[34], line 14\u001b[0m, in \u001b[0;36mcalculate_bmi\u001b[0;34m(height, weight)\u001b[0m\n\u001b[1;32m     11\u001b[0m     \u001b[38;5;28;01mraise\u001b[39;00m \u001b[38;5;167;01mValueError\u001b[39;00m(\u001b[38;5;124m'\u001b[39m\u001b[38;5;124mHeight cannot be less than or equal to 0\u001b[39m\u001b[38;5;124m'\u001b[39m)\n\u001b[1;32m     13\u001b[0m \u001b[38;5;28;01mif\u001b[39;00m weight \u001b[38;5;241m<\u001b[39m\u001b[38;5;241m=\u001b[39m \u001b[38;5;241m0\u001b[39m:\n\u001b[0;32m---> 14\u001b[0m     \u001b[38;5;28;01mraise\u001b[39;00m \u001b[38;5;167;01mValueError\u001b[39;00m(\u001b[38;5;124m'\u001b[39m\u001b[38;5;124mWeight cannot be less than or equal to 0\u001b[39m\u001b[38;5;124m'\u001b[39m)\n\u001b[1;32m     16\u001b[0m \u001b[38;5;28;01mreturn\u001b[39;00m \u001b[38;5;241m703\u001b[39m \u001b[38;5;241m*\u001b[39m weight \u001b[38;5;241m/\u001b[39m height\u001b[38;5;241m*\u001b[39m\u001b[38;5;241m*\u001b[39m\u001b[38;5;241m2\u001b[39m\n",
      "\u001b[0;31mValueError\u001b[0m: Weight cannot be less than or equal to 0"
     ]
    }
   ],
   "source": [
    "def calculate_bmi(height, weight):\n",
    "\n",
    "    if type(height) not in [float, int]:\n",
    "        raise TypeError('Height has to be float or an int')\n",
    "\n",
    "    if type(weight) not in [float, int]:\n",
    "        raise TypeError('Weight has to be float or an int')\n",
    "\n",
    "\n",
    "    if height <= 0:\n",
    "        raise ValueError('Height cannot be less than or equal to 0')\n",
    "\n",
    "    if weight <= 0:\n",
    "        raise ValueError('Weight cannot be less than or equal to 0')\n",
    "\n",
    "    return 703 * weight / height**2\n",
    "\n",
    "\n",
    "calculate_bmi(60, -10)"
   ]
  },
  {
   "cell_type": "code",
   "execution_count": 35,
   "id": "516f7acc-cf2f-49c8-afdb-406ee7578d4c",
   "metadata": {},
   "outputs": [
    {
     "name": "stdin",
     "output_type": "stream",
     "text": [
      "Please enter height:  aa\n"
     ]
    },
    {
     "name": "stdout",
     "output_type": "stream",
     "text": [
      "could not convert string to float: 'aa'\n",
      "Please enter a number\n",
      "I always run!\n"
     ]
    },
    {
     "name": "stdin",
     "output_type": "stream",
     "text": [
      "Please enter height:  10\n",
      "Please enter weight:  10\n"
     ]
    },
    {
     "name": "stdout",
     "output_type": "stream",
     "text": [
      "I run when there is no error\n",
      "I always run!\n",
      "70.3\n"
     ]
    }
   ],
   "source": [
    "while True:\n",
    "    try:\n",
    "        height = float(input('Please enter height: '))\n",
    "        weight = float(input('Please enter weight: '))\n",
    "    except Exception as error:\n",
    "        print(error)\n",
    "        print('Please enter a number')\n",
    "    else:\n",
    "        print('I run when there is no error')\n",
    "        break\n",
    "    finally:\n",
    "        print('I always run!')\n",
    "\n",
    "print(calculate_bmi(height, weight))"
   ]
  },
  {
   "cell_type": "code",
   "execution_count": 38,
   "id": "3bcabc64-5d70-47d2-8449-79c4102c121b",
   "metadata": {},
   "outputs": [
    {
     "name": "stdout",
     "output_type": "stream",
     "text": [
      "None\n"
     ]
    }
   ],
   "source": [
    "student = {'username': 'john', 'grade': 50}\n",
    "\n",
    "def get_key(some_dict, key, default_value=None):\n",
    "    try:\n",
    "        return some_dict[key]\n",
    "    except KeyError:\n",
    "        return default_value\n",
    "\n",
    "\n",
    "print(get_key(student, 'usernam234234e'))"
   ]
  },
  {
   "cell_type": "code",
   "execution_count": 40,
   "id": "ec8e0fb8-e33e-4da5-9d26-c19e91f2fa46",
   "metadata": {},
   "outputs": [
    {
     "data": {
      "text/plain": [
       "'Error'"
      ]
     },
     "execution_count": 40,
     "metadata": {},
     "output_type": "execute_result"
    }
   ],
   "source": [
    "student.get('username1', 'Error')"
   ]
  },
  {
   "cell_type": "code",
   "execution_count": 41,
   "id": "2a8eb57e-b325-4c92-881d-90c62de30cc3",
   "metadata": {},
   "outputs": [
    {
     "name": "stdout",
     "output_type": "stream",
     "text": [
      "OS error\n"
     ]
    }
   ],
   "source": [
    "filename = 'abcd.txt'\n",
    "try: \n",
    "    file = open(filename) \n",
    "except OSError: \n",
    "    print('OS error') \n",
    "except FileNotFoundError: \n",
    "    print('File not found') "
   ]
  },
  {
   "cell_type": "code",
   "execution_count": 42,
   "id": "14b67d3f-e157-43b6-93a1-cbaac8b342a7",
   "metadata": {},
   "outputs": [
    {
     "name": "stdout",
     "output_type": "stream",
     "text": [
      "File not found\n"
     ]
    }
   ],
   "source": [
    "filename = 'abcd.txt'\n",
    "try: \n",
    "    file = open(filename) \n",
    "except FileNotFoundError: \n",
    "    print('File not found') \n",
    "except OSError: \n",
    "    print('OS error') \n"
   ]
  },
  {
   "cell_type": "code",
   "execution_count": 43,
   "id": "813f26fe-c7b5-4a54-9be2-7641b098f1c7",
   "metadata": {},
   "outputs": [
    {
     "name": "stdout",
     "output_type": "stream",
     "text": [
      "1 2 0 0\n"
     ]
    }
   ],
   "source": [
    "def func(spam, eggs, toast=0, ham=0):   # first 2 required\n",
    "    print (spam, eggs, toast, ham)\n",
    "\n",
    "func(1, 2) "
   ]
  },
  {
   "cell_type": "code",
   "execution_count": 44,
   "id": "486db61a-a8d0-41cc-9429-4ea0ed9e5ac2",
   "metadata": {},
   "outputs": [
    {
     "name": "stdout",
     "output_type": "stream",
     "text": [
      "1,2,3,4\n"
     ]
    }
   ],
   "source": [
    "print(1, 2, 3, 4, sep=',')\n",
    "def print(*values, sep=' '):\n",
    "    "
   ]
  },
  {
   "cell_type": "code",
   "execution_count": 46,
   "id": "332cd9fb-b222-45d2-ab26-19cfaabeae46",
   "metadata": {},
   "outputs": [
    {
     "name": "stdout",
     "output_type": "stream",
     "text": [
      "1 10 0 1\n"
     ]
    }
   ],
   "source": [
    "func(1, ham=1, eggs=10)    "
   ]
  },
  {
   "cell_type": "code",
   "execution_count": 47,
   "id": "2fd08afa-08fb-471c-b958-1a2e3c208bb7",
   "metadata": {},
   "outputs": [
    {
     "ename": "TypeError",
     "evalue": "func() missing 1 required positional argument: 'eggs'",
     "output_type": "error",
     "traceback": [
      "\u001b[0;31m---------------------------------------------------------------------------\u001b[0m",
      "\u001b[0;31mTypeError\u001b[0m                                 Traceback (most recent call last)",
      "Cell \u001b[0;32mIn[47], line 1\u001b[0m\n\u001b[0;32m----> 1\u001b[0m func(\u001b[38;5;241m1\u001b[39m, ham\u001b[38;5;241m=\u001b[39m\u001b[38;5;241m1\u001b[39m, toast\u001b[38;5;241m=\u001b[39m\u001b[38;5;241m10\u001b[39m)\n",
      "\u001b[0;31mTypeError\u001b[0m: func() missing 1 required positional argument: 'eggs'"
     ]
    }
   ],
   "source": [
    "func(1, ham=1, toast=10)  "
   ]
  },
  {
   "cell_type": "code",
   "execution_count": 48,
   "id": "9fe66901-313f-4399-86c2-93444b3d8738",
   "metadata": {},
   "outputs": [
    {
     "name": "stdout",
     "output_type": "stream",
     "text": [
      "1 0 0 0\n"
     ]
    }
   ],
   "source": [
    "func(spam=1, eggs=0)   "
   ]
  },
  {
   "cell_type": "code",
   "execution_count": 49,
   "id": "a84bf05e-fe21-493b-a048-75cb607c1691",
   "metadata": {},
   "outputs": [
    {
     "name": "stdout",
     "output_type": "stream",
     "text": [
      "3 2 1 0\n"
     ]
    }
   ],
   "source": [
    "func(toast=1, eggs=2, spam=3)    "
   ]
  },
  {
   "cell_type": "code",
   "execution_count": 50,
   "id": "08cf27cc-b30f-471f-8e5d-27d0e2839bb7",
   "metadata": {},
   "outputs": [
    {
     "name": "stdout",
     "output_type": "stream",
     "text": [
      "1 2 3 4\n"
     ]
    }
   ],
   "source": [
    "func(1, 2, 3, 4)    "
   ]
  },
  {
   "cell_type": "code",
   "execution_count": null,
   "id": "fc3971f3-0f54-4971-85b1-b8a74fd63ddf",
   "metadata": {},
   "outputs": [],
   "source": [
    "def f(a, *args, **kwargs): \n",
    "\tprint(a, args, kwargs)\n",
    "\n",
    "f(1, 2, 3, x=1, y=2)"
   ]
  },
  {
   "cell_type": "code",
   "execution_count": null,
   "id": "31d16cc4-df01-441b-bee5-8682d41a1a29",
   "metadata": {},
   "outputs": [],
   "source": []
  },
  {
   "cell_type": "code",
   "execution_count": 52,
   "id": "c38ab545-d6c2-4401-8e98-3bdf9ad6feff",
   "metadata": {},
   "outputs": [
    {
     "ename": "ValueError",
     "evalue": "too many values to unpack (expected 2)",
     "output_type": "error",
     "traceback": [
      "\u001b[0;31m---------------------------------------------------------------------------\u001b[0m",
      "\u001b[0;31mValueError\u001b[0m                                Traceback (most recent call last)",
      "Cell \u001b[0;32mIn[52], line 1\u001b[0m\n\u001b[0;32m----> 1\u001b[0m a, b \u001b[38;5;241m=\u001b[39m (\u001b[38;5;241m1\u001b[39m, \u001b[38;5;241m2\u001b[39m, \u001b[38;5;241m3\u001b[39m, \u001b[38;5;241m4\u001b[39m, \u001b[38;5;241m5\u001b[39m)\n\u001b[1;32m      2\u001b[0m \u001b[38;5;28mprint\u001b[39m(a, b)\n",
      "\u001b[0;31mValueError\u001b[0m: too many values to unpack (expected 2)"
     ]
    }
   ],
   "source": [
    "a, b = (1, 2, 3, 4, 5)\n",
    "print(a, b)"
   ]
  },
  {
   "cell_type": "code",
   "execution_count": 54,
   "id": "ad6356b3-c0b0-43f7-b0e6-8d6300247c1d",
   "metadata": {},
   "outputs": [
    {
     "name": "stdout",
     "output_type": "stream",
     "text": [
      "1 2 [3, 4] 5\n"
     ]
    }
   ],
   "source": [
    "a, b, *c, d = (1, 2, 3, 4, 5)\n",
    "print(a, b, c, d)"
   ]
  },
  {
   "cell_type": "code",
   "execution_count": 72,
   "id": "5b30738d-c5fd-49cc-9ae1-6e57fb777592",
   "metadata": {},
   "outputs": [
    {
     "ename": "AttributeError",
     "evalue": "'tuple' object has no attribute 'append'",
     "output_type": "error",
     "traceback": [
      "\u001b[0;31m---------------------------------------------------------------------------\u001b[0m",
      "\u001b[0;31mAttributeError\u001b[0m                            Traceback (most recent call last)",
      "Cell \u001b[0;32mIn[72], line 5\u001b[0m\n\u001b[1;32m      2\u001b[0m     args\u001b[38;5;241m.\u001b[39mappend(\u001b[38;5;241m3\u001b[39m)\n\u001b[1;32m      3\u001b[0m     \u001b[38;5;28mprint\u001b[39m(a, args)\n\u001b[0;32m----> 5\u001b[0m f(\u001b[38;5;241m1\u001b[39m, \u001b[38;5;241m2\u001b[39m)\n",
      "Cell \u001b[0;32mIn[72], line 2\u001b[0m, in \u001b[0;36mf\u001b[0;34m(a, *args)\u001b[0m\n\u001b[1;32m      1\u001b[0m \u001b[38;5;28;01mdef\u001b[39;00m \u001b[38;5;21mf\u001b[39m(a, \u001b[38;5;241m*\u001b[39margs): \n\u001b[0;32m----> 2\u001b[0m     args\u001b[38;5;241m.\u001b[39mappend(\u001b[38;5;241m3\u001b[39m)\n\u001b[1;32m      3\u001b[0m     \u001b[38;5;28mprint\u001b[39m(a, args)\n",
      "\u001b[0;31mAttributeError\u001b[0m: 'tuple' object has no attribute 'append'"
     ]
    }
   ],
   "source": [
    "def f(a, *args): \n",
    "    args.append(3)\n",
    "    print(a, args)\n",
    "\n",
    "f(1, 2)"
   ]
  },
  {
   "cell_type": "code",
   "execution_count": 56,
   "id": "6cf4a43b-5c67-4d98-9264-9c4d583ed6a9",
   "metadata": {},
   "outputs": [
    {
     "name": "stdout",
     "output_type": "stream",
     "text": [
      "1 (2, 4, 5, 6, 7)\n"
     ]
    }
   ],
   "source": [
    "f(1, 2, 4, 5, 6, 7)"
   ]
  },
  {
   "cell_type": "code",
   "execution_count": 59,
   "id": "eada94db-d8b5-42a2-a262-d1c9863d9c68",
   "metadata": {},
   "outputs": [
    {
     "name": "stdout",
     "output_type": "stream",
     "text": [
      "1 ()\n"
     ]
    }
   ],
   "source": [
    "f(1)"
   ]
  },
  {
   "cell_type": "code",
   "execution_count": 70,
   "id": "a83779fc-09cc-4660-818c-5cc7ddafe24b",
   "metadata": {},
   "outputs": [
    {
     "name": "stdout",
     "output_type": "stream",
     "text": [
      "1 (2, 3) {'x': 1, 'y': 2}\n"
     ]
    }
   ],
   "source": [
    "def f(a, *args, **kwargs): \n",
    "\tprint(a, args, kwargs)\n",
    "\n",
    "f(1, 2, 3, x=1, y=2)"
   ]
  },
  {
   "cell_type": "code",
   "execution_count": 62,
   "id": "c323c3b4-a6fc-45d9-bfc8-c7de11eba982",
   "metadata": {},
   "outputs": [
    {
     "ename": "TypeError",
     "evalue": "f() got multiple values for argument 'a'",
     "output_type": "error",
     "traceback": [
      "\u001b[0;31m---------------------------------------------------------------------------\u001b[0m",
      "\u001b[0;31mTypeError\u001b[0m                                 Traceback (most recent call last)",
      "Cell \u001b[0;32mIn[62], line 1\u001b[0m\n\u001b[0;32m----> 1\u001b[0m f(\u001b[38;5;241m2\u001b[39m, \u001b[38;5;241m3\u001b[39m, x\u001b[38;5;241m=\u001b[39m\u001b[38;5;241m1\u001b[39m, y\u001b[38;5;241m=\u001b[39m\u001b[38;5;241m2\u001b[39m, a\u001b[38;5;241m=\u001b[39m\u001b[38;5;241m1\u001b[39m)\n",
      "\u001b[0;31mTypeError\u001b[0m: f() got multiple values for argument 'a'"
     ]
    }
   ],
   "source": [
    "f(a=1, 2, 3, x=1, y=2)"
   ]
  },
  {
   "cell_type": "code",
   "execution_count": 66,
   "id": "4901e3e2-03eb-495e-92ba-3049488a0960",
   "metadata": {},
   "outputs": [
    {
     "name": "stdout",
     "output_type": "stream",
     "text": [
      "1\n",
      "2\n",
      "3\n",
      "No break\n"
     ]
    }
   ],
   "source": [
    "x = [1, 2, 3]\n",
    "\n",
    "for ele in x:\n",
    "    print(ele)\n",
    "    if ele == 3:\n",
    "        # break\n",
    "        pass\n",
    "else:\n",
    "    print('No break')"
   ]
  },
  {
   "cell_type": "code",
   "execution_count": null,
   "id": "ed8815a5-6f77-4ca7-9653-91204969ad99",
   "metadata": {},
   "outputs": [],
   "source": [
    "s1, s2, s3 = \"SPAM\", \"SCAM\", \"SLAM\""
   ]
  },
  {
   "cell_type": "code",
   "execution_count": 74,
   "id": "24c3b0d6-3227-44df-b108-7613eb58f065",
   "metadata": {},
   "outputs": [
    {
     "data": {
      "text/plain": [
       "['S', 'A', 'M']"
      ]
     },
     "execution_count": 74,
     "metadata": {},
     "output_type": "execute_result"
    }
   ],
   "source": [
    "def intersect(*args):\n",
    "    res = []\n",
    "    for char in args[0]:                  # scan first sequence\n",
    "        for other_word in args[1:]:         # for all other args\n",
    "            if char not in other_word: \n",
    "                break   # item in each one?\n",
    "        else:                          # no:  break out of loop\n",
    "            res.append(char)              # yes: add items to end\n",
    "    return res\n",
    "\n",
    "s1, s2, s3 = \"SPAM\", \"SCAM\", \"SLAM\"\n",
    "intersect(s1, s2, s3)\n",
    "# args = (s1, s2) ==> ('SPAM', 'SCAM')\n",
    "\n"
   ]
  },
  {
   "cell_type": "code",
   "execution_count": null,
   "id": "416c3621-b68e-47f1-87cc-c183d9317f72",
   "metadata": {},
   "outputs": [],
   "source": [
    "S\n",
    "P \n",
    "A\n",
    "M\n",
    "\n",
    "\n",
    "S in SCAM\n",
    "S in SLAM\n",
    "# res.append('S')\n",
    "P in SCAM\n",
    "A in SCAM\n",
    "A in SLAM\n",
    "res.append(A)\n",
    "\n",
    "M in SCAM\n",
    "M in SLAM\n",
    "res.append(M)\n",
    "[S, A, M]\n"
   ]
  },
  {
   "cell_type": "code",
   "execution_count": 75,
   "id": "cf5cddda-a76a-46d9-b39b-a05ec43c9052",
   "metadata": {},
   "outputs": [
    {
     "data": {
      "text/plain": [
       "['S', 'P', 'A', 'M', 'C', 'L']"
      ]
     },
     "execution_count": 75,
     "metadata": {},
     "output_type": "execute_result"
    }
   ],
   "source": [
    "def union(*args):\n",
    "    res = []\n",
    "    for seq in args:                   # for all args\n",
    "        for x in seq:                  # for all nodes\n",
    "            if not x in res:\n",
    "                res.append(x)          # add new items to result\n",
    "    return res\n",
    "\n",
    "union(s1, s2, s3)"
   ]
  },
  {
   "cell_type": "code",
   "execution_count": null,
   "id": "5dabcd57-f526-4a10-8ca2-ec2cf3f6dfe4",
   "metadata": {},
   "outputs": [],
   "source": []
  },
  {
   "cell_type": "code",
   "execution_count": 82,
   "id": "57d9d66d-01af-42cf-9299-3fc7d23a0725",
   "metadata": {},
   "outputs": [
    {
     "data": {
      "text/plain": [
       "{'A', 'C', 'L', 'M', 'P', 'S'}"
      ]
     },
     "execution_count": 82,
     "metadata": {},
     "output_type": "execute_result"
    }
   ],
   "source": [
    "set(\"SPAM\") | set(\"SLAM\") | set(\"SCAM\")"
   ]
  },
  {
   "cell_type": "code",
   "execution_count": 86,
   "id": "d89562d3-9ee3-487a-b96c-bb2cf51dc9f3",
   "metadata": {},
   "outputs": [
    {
     "name": "stdout",
     "output_type": "stream",
     "text": [
      "2 [1, 2, 3, 5]\n",
      "1 [1, 2, 3, 5]\n"
     ]
    }
   ],
   "source": [
    "a = 1\n",
    "b = [1, 2, 3]\n",
    "\n",
    "def func(A, B):\n",
    "    A = 2\n",
    "    B.append(5)\n",
    "    print(A, B)\n",
    "\n",
    "func(a,b)\n",
    "print(a, b)"
   ]
  },
  {
   "cell_type": "code",
   "execution_count": 88,
   "id": "883b23da-ccfe-4db6-a383-a162bc3910d1",
   "metadata": {},
   "outputs": [
    {
     "name": "stdout",
     "output_type": "stream",
     "text": [
      "Global reporting!\n",
      "Global reporting!\n",
      "Local reporting!\n",
      "Global reporting!\n"
     ]
    }
   ],
   "source": [
    "\n",
    "variable = 'Global reporting!'\n",
    "\n",
    "\n",
    "def use_variable_global():\n",
    "    ## since variable is outside the function\n",
    "    print(variable)\n",
    "\n",
    "\n",
    "def use_variable_local():\n",
    "    variable = 'Local reporting!'\n",
    "    print(variable)\n",
    "\n",
    "# def use_variable_global():\n",
    "\n",
    "def change_global_inside_function():\n",
    "    global variable\n",
    "    variable = 'I have been changed!'\n",
    "    print(variable)\n",
    "\n",
    "\n",
    "print(variable)\n",
    "use_variable_global()\n",
    "use_variable_local()\n",
    "# change_global_inside_function()\n",
    "print(variable)\n"
   ]
  },
  {
   "cell_type": "code",
   "execution_count": 102,
   "id": "3a8039d1-3b09-4e12-b113-172f659d081b",
   "metadata": {},
   "outputs": [],
   "source": [
    "\n",
    "def function1(my_list, my_variable):\n",
    "\tprint('my_list before change inside function1', my_list)\n",
    "\tprint('my_variable before change inside function1', my_variable)\n",
    "\tmy_list.append(30)\n",
    "\tmy_variable = 10\n",
    "\n",
    "\tprint('my_list after change inside function1', my_list)\n",
    "\tprint('my_variable after change inside function1', my_variable)\n",
    "\n",
    "\n",
    "def function2(my_list, my_vairable):\n",
    "\t# https://stackoverflow.com/questions/2612802/how-to-clone-or-copy-a-list\n",
    "\n",
    "\tmy_list = my_list[:]\n",
    "\tmy_list.append(90)\n",
    "\tmy_variable = 45\n",
    "\n",
    "\tprint('my_list after change inside function2', my_list)\n",
    "\tprint('my_variable after change inside function2', my_variable)\n",
    "\n",
    "\n",
    "\n",
    "def function3():\n",
    "    my_list = [1, 2, 3, 4]\n",
    "    my_variable = 3\n",
    "    function2(my_list, my_variable)\n",
    "    # https://stackoverflow.com/questions/2612802/how-to-clone-or-copy-a-list\n",
    "    \n",
    "    my_list = my_list[:]\n",
    "    my_list.append(90)\n",
    "    my_variable = 45\n",
    "    \n",
    "    print('my_list after change inside function2', my_list)\n",
    "    print('my_variable after change inside function2', my_variable)\n",
    "    \n",
    "    function1(my_list, my_variable)\n",
    "    \n",
    "    print('my_list after change1 inside function3', my_list)\n",
    "    print('my_variable after change1 inside function3', my_variable)\n",
    "    \n",
    "    function2(my_list, my_variable)\n",
    "    \n",
    "    \n",
    "    print('my_list after change2 inside function3', my_list)\n",
    "    print('my_variable after change2 inside function3', my_variable)\n",
    "    \n"
   ]
  },
  {
   "cell_type": "code",
   "execution_count": 95,
   "id": "897e22dc-aa6e-4efb-a4b1-f08866480d24",
   "metadata": {},
   "outputs": [
    {
     "name": "stdout",
     "output_type": "stream",
     "text": [
      "my_list before change inside function1 [1, 2, 3]\n",
      "my_variable before change inside function1 3\n",
      "my_list after change inside function1 [1, 2, 3, 30]\n",
      "my_variable after change inside function1 10\n"
     ]
    }
   ],
   "source": [
    "ml = [1, 2, 3]\n",
    "mv = 3\n",
    "\n",
    "function1(ml, mv)"
   ]
  },
  {
   "cell_type": "code",
   "execution_count": 96,
   "id": "9e944443-c884-4deb-adc2-e67e05b7a8d0",
   "metadata": {},
   "outputs": [
    {
     "data": {
      "text/plain": [
       "[1, 2, 3, 30]"
      ]
     },
     "execution_count": 96,
     "metadata": {},
     "output_type": "execute_result"
    }
   ],
   "source": [
    "ml"
   ]
  },
  {
   "cell_type": "code",
   "execution_count": 97,
   "id": "cf85e8d1-3d38-4604-bbc9-52df75b438ca",
   "metadata": {},
   "outputs": [
    {
     "data": {
      "text/plain": [
       "3"
      ]
     },
     "execution_count": 97,
     "metadata": {},
     "output_type": "execute_result"
    }
   ],
   "source": [
    "mv"
   ]
  },
  {
   "cell_type": "code",
   "execution_count": 98,
   "id": "c48e0257-9a1e-4bb3-b6db-b56ba0342b43",
   "metadata": {},
   "outputs": [
    {
     "name": "stdout",
     "output_type": "stream",
     "text": [
      "my_list after change inside function2 [1, 2, 3, 90]\n",
      "my_variable after change inside function2 45\n"
     ]
    }
   ],
   "source": [
    "ml = [1, 2, 3]\n",
    "mv = 3\n",
    "function2(ml, mv)"
   ]
  },
  {
   "cell_type": "code",
   "execution_count": 100,
   "id": "34d5e4d7-debd-4b55-ba05-8b341cdff6d2",
   "metadata": {},
   "outputs": [
    {
     "data": {
      "text/plain": [
       "([1, 2, 3], 3)"
      ]
     },
     "execution_count": 100,
     "metadata": {},
     "output_type": "execute_result"
    }
   ],
   "source": [
    "ml, mv"
   ]
  },
  {
   "cell_type": "code",
   "execution_count": 103,
   "id": "28ceaa58-b017-4abd-bcc4-56bcafe53deb",
   "metadata": {},
   "outputs": [
    {
     "name": "stdout",
     "output_type": "stream",
     "text": [
      "my_list after change inside function2 [1, 2, 3, 4, 90]\n",
      "my_variable after change inside function2 45\n",
      "my_list after change inside function2 [1, 2, 3, 4, 90]\n",
      "my_variable after change inside function2 45\n",
      "my_list before change inside function1 [1, 2, 3, 4, 90]\n",
      "my_variable before change inside function1 45\n",
      "my_list after change inside function1 [1, 2, 3, 4, 90, 30]\n",
      "my_variable after change inside function1 10\n",
      "my_list after change1 inside function3 [1, 2, 3, 4, 90, 30]\n",
      "my_variable after change1 inside function3 45\n",
      "my_list after change inside function2 [1, 2, 3, 4, 90, 30, 90]\n",
      "my_variable after change inside function2 45\n",
      "my_list after change2 inside function3 [1, 2, 3, 4, 90, 30]\n",
      "my_variable after change2 inside function3 45\n"
     ]
    }
   ],
   "source": [
    "function3()"
   ]
  }
 ],
 "metadata": {
  "kernelspec": {
   "display_name": "Python 3 (ipykernel)",
   "language": "python",
   "name": "python3"
  },
  "language_info": {
   "codemirror_mode": {
    "name": "ipython",
    "version": 3
   },
   "file_extension": ".py",
   "mimetype": "text/x-python",
   "name": "python",
   "nbconvert_exporter": "python",
   "pygments_lexer": "ipython3",
   "version": "3.11.7"
  }
 },
 "nbformat": 4,
 "nbformat_minor": 5
}
