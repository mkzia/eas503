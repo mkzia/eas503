{
 "cells": [
  {
   "cell_type": "code",
   "execution_count": 1,
   "id": "8a23003a-e414-44f9-b1d8-42e58a3c88f7",
   "metadata": {},
   "outputs": [],
   "source": [
    "large_string = \"Cristiano Ronaldo\tNationality=Portugal;National_Position=LS;National_Kit=7.0;Club=Real Madrid;Club_Position=LW;Club_Kit=7.0;Club_Joining=07/01/2009;Contract_Expiry=2021.0;Rating=94;Height=185 cm;Weight=80 kg;Preferred_Foot=Right;Birth_Date=02/05/1985;Age=32;Preferred_Position=LW/ST;Work_Rate=High / Low;Weak_foot=4;Skill_Moves=5;Ball_Control=93;Dribbling=92;Marking=22;Sliding_Tackle=23;Standing_Tackle=31;Aggression=63;Reactions=96;Attacking_Position=94;Interceptions=29;Vision=85;Composure=86;Crossing=84;Short_Pass=83;Long_Pass=77;Acceleration=91;Speed=92;Stamina=92;Strength=80;Balance=63;Agility=90;Jumping=95;Heading=85;Shot_Power=92;Finishing=93;Long_Shots=90;Curve=81;Freekick_Accuracy=76;Penalties=85;Volleys=88;GK_Positioning=14;GK_Diving=7;GK_Kicking=15;GK_Handling=11;GK_Reflexes=11\""
   ]
  },
  {
   "cell_type": "code",
   "execution_count": 14,
   "id": "63f3d82b-7470-4e70-96de-032c34469301",
   "metadata": {},
   "outputs": [
    {
     "name": "stdout",
     "output_type": "stream",
     "text": [
      "Cristiano Ronaldo; key: Nationality; value: Portugal\n",
      "Cristiano Ronaldo; key: National_Position; value: LS\n",
      "Cristiano Ronaldo; key: National_Kit; value: 7.0\n",
      "Cristiano Ronaldo; key: Club; value: Real Madrid\n",
      "Cristiano Ronaldo; key: Club_Position; value: LW\n",
      "Cristiano Ronaldo; key: Club_Kit; value: 7.0\n",
      "Cristiano Ronaldo; key: Club_Joining; value: 07/01/2009\n",
      "Cristiano Ronaldo; key: Contract_Expiry; value: 2021.0\n",
      "Cristiano Ronaldo; key: Rating; value: 94\n",
      "Cristiano Ronaldo; key: Height; value: 185 cm\n",
      "Cristiano Ronaldo; key: Weight; value: 80 kg\n",
      "Cristiano Ronaldo; key: Preferred_Foot; value: Right\n",
      "Cristiano Ronaldo; key: Birth_Date; value: 02/05/1985\n",
      "Cristiano Ronaldo; key: Age; value: 32\n",
      "Cristiano Ronaldo; key: Preferred_Position; value: LW/ST\n",
      "Cristiano Ronaldo; key: Work_Rate; value: High / Low\n",
      "Cristiano Ronaldo; key: Weak_foot; value: 4\n",
      "Cristiano Ronaldo; key: Skill_Moves; value: 5\n",
      "Cristiano Ronaldo; key: Ball_Control; value: 93\n",
      "Cristiano Ronaldo; key: Dribbling; value: 92\n",
      "Cristiano Ronaldo; key: Marking; value: 22\n",
      "Cristiano Ronaldo; key: Sliding_Tackle; value: 23\n",
      "Cristiano Ronaldo; key: Standing_Tackle; value: 31\n",
      "Cristiano Ronaldo; key: Aggression; value: 63\n",
      "Cristiano Ronaldo; key: Reactions; value: 96\n",
      "Cristiano Ronaldo; key: Attacking_Position; value: 94\n",
      "Cristiano Ronaldo; key: Interceptions; value: 29\n",
      "Cristiano Ronaldo; key: Vision; value: 85\n",
      "Cristiano Ronaldo; key: Composure; value: 86\n",
      "Cristiano Ronaldo; key: Crossing; value: 84\n",
      "Cristiano Ronaldo; key: Short_Pass; value: 83\n",
      "Cristiano Ronaldo; key: Long_Pass; value: 77\n",
      "Cristiano Ronaldo; key: Acceleration; value: 91\n",
      "Cristiano Ronaldo; key: Speed; value: 92\n",
      "Cristiano Ronaldo; key: Stamina; value: 92\n",
      "Cristiano Ronaldo; key: Strength; value: 80\n",
      "Cristiano Ronaldo; key: Balance; value: 63\n",
      "Cristiano Ronaldo; key: Agility; value: 90\n",
      "Cristiano Ronaldo; key: Jumping; value: 95\n",
      "Cristiano Ronaldo; key: Heading; value: 85\n",
      "Cristiano Ronaldo; key: Shot_Power; value: 92\n",
      "Cristiano Ronaldo; key: Finishing; value: 93\n",
      "Cristiano Ronaldo; key: Long_Shots; value: 90\n",
      "Cristiano Ronaldo; key: Curve; value: 81\n",
      "Cristiano Ronaldo; key: Freekick_Accuracy; value: 76\n",
      "Cristiano Ronaldo; key: Penalties; value: 85\n",
      "Cristiano Ronaldo; key: Volleys; value: 88\n",
      "Cristiano Ronaldo; key: GK_Positioning; value: 14\n",
      "Cristiano Ronaldo; key: GK_Diving; value: 7\n",
      "Cristiano Ronaldo; key: GK_Kicking; value: 15\n",
      "Cristiano Ronaldo; key: GK_Handling; value: 11\n",
      "Cristiano Ronaldo; key: GK_Reflexes; value: 11\n"
     ]
    }
   ],
   "source": [
    "name, data = large_string.split('\\t')\n",
    "for ele in data.split(';'):\n",
    "    key, value = ele.split('=')\n",
    "    print(f\"{name}; key: {key}; value: {value}\")"
   ]
  },
  {
   "cell_type": "code",
   "execution_count": 9,
   "id": "ea3c82d7-23bc-46dd-adcc-f1b5692ed889",
   "metadata": {},
   "outputs": [
    {
     "data": {
      "text/plain": [
       "2"
      ]
     },
     "execution_count": 9,
     "metadata": {},
     "output_type": "execute_result"
    }
   ],
   "source": [
    "len(large_string.split('\\t'))"
   ]
  },
  {
   "cell_type": "code",
   "execution_count": null,
   "id": "a51b0adf-5536-4c12-92be-71098da82e34",
   "metadata": {},
   "outputs": [],
   "source": [
    "days_in_months = [0, 31, 28, 31, 30, 31, 30, 31, 31, 30, 31, 30, 31]"
   ]
  },
  {
   "cell_type": "code",
   "execution_count": null,
   "id": "cbed4f8d-d251-4473-b23b-d4b02ed37f6b",
   "metadata": {},
   "outputs": [],
   "source": [
    "# column1 - name; column2 - email;\n",
    "(\n",
    "    ('John Doe', 'jdoe@buffalo.edu', 20131211, 'Biology'),\n",
    "    ('Jane Doe', 'jane@buffalo.edu', 22334455, 'Chemistry'),\n",
    ")"
   ]
  },
  {
   "cell_type": "code",
   "execution_count": null,
   "id": "9e6857bd-5b2d-450f-8335-90d63ed88166",
   "metadata": {},
   "outputs": [],
   "source": [
    "days_in_months = {\n",
    "    'Jan': 31,\n",
    "    'Feb': (28,29),\n",
    "    'Mar': 31,\n",
    "    'Apr': 30,\n",
    "    'May': 31,\n",
    "    'Jun': 30,\n",
    "    'Jul': 31,\n",
    "    'Aug': 31,\n",
    "    'Sep': 30,\n",
    "    'Oct': 31,\n",
    "    'Nov': 30,\n",
    "    'Dec': 31,\n",
    "}"
   ]
  },
  {
   "cell_type": "code",
   "execution_count": null,
   "id": "51e8c865-b40e-4f98-9381-3c02dbd0f9bd",
   "metadata": {},
   "outputs": [],
   "source": [
    "(\n",
    "    {\n",
    "        'Name': 'John Doe', \n",
    "        'Email': 'jdoe@buffalo.edu',\n",
    "        'ID': 11223344, \n",
    "        'Major': 'Biology'\n",
    "    },\n",
    "    {\n",
    "        'Name': 'Jane Doe', \n",
    "        'Email': 'Jane@buffalo.edu',\n",
    "        'ID': 22334455, \n",
    "        'Major': 'Chemistry'\n",
    "    },\n",
    ")"
   ]
  },
  {
   "cell_type": "code",
   "execution_count": 16,
   "id": "b80d87ab-dd23-477e-bbdb-adbeab4ddef1",
   "metadata": {},
   "outputs": [
    {
     "ename": "TypeError",
     "evalue": "'str' object does not support item assignment",
     "output_type": "error",
     "traceback": [
      "\u001b[0;31m---------------------------------------------------------------------------\u001b[0m",
      "\u001b[0;31mTypeError\u001b[0m                                 Traceback (most recent call last)",
      "Cell \u001b[0;32mIn[16], line 2\u001b[0m\n\u001b[1;32m      1\u001b[0m x \u001b[38;5;241m=\u001b[39m \u001b[38;5;124m'\u001b[39m\u001b[38;5;124mabcd\u001b[39m\u001b[38;5;124m'\u001b[39m\n\u001b[0;32m----> 2\u001b[0m \u001b[43mx\u001b[49m\u001b[43m[\u001b[49m\u001b[38;5;241;43m2\u001b[39;49m\u001b[43m]\u001b[49m \u001b[38;5;241m=\u001b[39m \u001b[38;5;124m'\u001b[39m\u001b[38;5;124mC\u001b[39m\u001b[38;5;124m'\u001b[39m\n",
      "\u001b[0;31mTypeError\u001b[0m: 'str' object does not support item assignment"
     ]
    }
   ],
   "source": [
    "x = 'abcd'\n",
    "x[2] = 'C'"
   ]
  },
  {
   "cell_type": "code",
   "execution_count": null,
   "id": "1f1b10b9-7da2-47bf-9d40-787312bc7d31",
   "metadata": {},
   "outputs": [],
   "source": [
    "3 = 4"
   ]
  },
  {
   "cell_type": "code",
   "execution_count": null,
   "id": "62981e35-9886-4ffb-8844-b61fac66f9fe",
   "metadata": {},
   "outputs": [],
   "source": [
    "3.14 = 1.63"
   ]
  },
  {
   "cell_type": "code",
   "execution_count": 17,
   "id": "7d870f36-35a4-481f-9542-3e3e7ec3c401",
   "metadata": {},
   "outputs": [
    {
     "data": {
      "text/plain": [
       "'abCd'"
      ]
     },
     "execution_count": 17,
     "metadata": {},
     "output_type": "execute_result"
    }
   ],
   "source": [
    "x = 'abcd'\n",
    "x.replace('c', 'C')\n",
    "# in-place methods return None\n",
    "# not in-place return the modified data"
   ]
  },
  {
   "cell_type": "code",
   "execution_count": 18,
   "id": "2ccb9c9c-1af8-4f43-aa56-d4f09c21b4c2",
   "metadata": {},
   "outputs": [
    {
     "data": {
      "text/plain": [
       "'abcd'"
      ]
     },
     "execution_count": 18,
     "metadata": {},
     "output_type": "execute_result"
    }
   ],
   "source": [
    "x"
   ]
  },
  {
   "cell_type": "code",
   "execution_count": null,
   "id": "478f7b1b-913c-4633-b42e-6884a32bf993",
   "metadata": {},
   "outputs": [],
   "source": [
    "# valid keys in a dictionary -- immutables\n",
    "- list -- no b/c mutable\n",
    "- tuple - yes b/c immutable\n",
    "- str - yes b/c immutable\n",
    "- int - yes\n",
    "- float - yes\n",
    "- bool - yes\n",
    "- None - yes\n"
   ]
  },
  {
   "cell_type": "code",
   "execution_count": 19,
   "id": "892036f7-11ae-4bac-b587-1cd350b2bd7b",
   "metadata": {},
   "outputs": [
    {
     "data": {
      "text/plain": [
       "{1: 'One', 3.14: 'PI'}"
      ]
     },
     "execution_count": 19,
     "metadata": {},
     "output_type": "execute_result"
    }
   ],
   "source": [
    "x = {\n",
    "1: 'One',\n",
    "3.14: 'PI'\n",
    "}\n",
    "x"
   ]
  },
  {
   "cell_type": "code",
   "execution_count": 20,
   "id": "9cb62a51-3f7b-4940-a3ae-9865c2358349",
   "metadata": {},
   "outputs": [
    {
     "data": {
      "text/plain": [
       "16"
      ]
     },
     "execution_count": 20,
     "metadata": {},
     "output_type": "execute_result"
    }
   ],
   "source": [
    "def x2(x):\n",
    "    return x * x\n",
    "\n",
    "x2(4)"
   ]
  },
  {
   "cell_type": "code",
   "execution_count": 21,
   "id": "83f347d8-91ad-42de-988c-d4a1ff9ad902",
   "metadata": {},
   "outputs": [
    {
     "data": {
      "text/plain": [
       "{'name': 'john', 'email': 'john@email.com', 'id': 1234, 'major': 'Engineering'}"
      ]
     },
     "execution_count": 21,
     "metadata": {},
     "output_type": "execute_result"
    }
   ],
   "source": [
    "dict(\n",
    "    name='john',\n",
    "    email='john@email.com',\n",
    "    id=1234,\n",
    "    major='Engineering'\n",
    ")"
   ]
  },
  {
   "cell_type": "code",
   "execution_count": 22,
   "id": "0c1dfd79-5456-4021-9b5a-a15e9180ff1b",
   "metadata": {},
   "outputs": [
    {
     "name": "stdout",
     "output_type": "stream",
     "text": [
      "john\n"
     ]
    }
   ],
   "source": [
    "my_dict = {\n",
    "    'name': 'john',\n",
    "    'email': 'john@email.com',\n",
    "    'id': 1234,\n",
    "    'major': 'Engineering'\n",
    "}\n",
    "\n",
    "print(my_dict['name']) # Method 1"
   ]
  },
  {
   "cell_type": "code",
   "execution_count": 23,
   "id": "4a1d2dd8-712b-485e-9597-8378ee04d5b3",
   "metadata": {},
   "outputs": [
    {
     "name": "stdout",
     "output_type": "stream",
     "text": [
      "john\n"
     ]
    }
   ],
   "source": [
    "key = 'name' # Method 2 -- use a variable key\n",
    "print(my_dict[key])"
   ]
  },
  {
   "cell_type": "code",
   "execution_count": null,
   "id": "33c25465-e8b6-4062-b2cb-b14c193d1dba",
   "metadata": {},
   "outputs": [],
   "source": [
    "my_dict = {\n",
    "    'name':             'john',\n",
    "    'email':            'john@email.com',\n",
    "    'id':                1234,\n",
    "    'major':            'Engineering'\n",
    "}"
   ]
  },
  {
   "cell_type": "code",
   "execution_count": 24,
   "id": "e57b1139-2a60-4b54-b3cc-5d1326b1f5e3",
   "metadata": {},
   "outputs": [
    {
     "name": "stdout",
     "output_type": "stream",
     "text": [
      "john\n",
      "john@email.com\n",
      "1234\n",
      "Engineering\n"
     ]
    }
   ],
   "source": [
    "for value in my_dict.values():\n",
    "    print(value)"
   ]
  },
  {
   "cell_type": "code",
   "execution_count": 25,
   "id": "2d29588c-70cc-4b6f-986b-9146336bfc92",
   "metadata": {},
   "outputs": [
    {
     "name": "stdout",
     "output_type": "stream",
     "text": [
      "name\n",
      "email\n",
      "id\n",
      "major\n"
     ]
    }
   ],
   "source": [
    "my_dict = {\n",
    "    'name': 'john',\n",
    "    'email': 'john@email.com',\n",
    "    'id': 1234,\n",
    "    'major': 'Engineering'\n",
    "}\n",
    "for key in my_dict.keys():\n",
    "    print(key)"
   ]
  },
  {
   "cell_type": "code",
   "execution_count": 26,
   "id": "c3911e4f-b413-4e8a-ab4f-c16ac4ae0b33",
   "metadata": {},
   "outputs": [
    {
     "name": "stdout",
     "output_type": "stream",
     "text": [
      "key is name and value is john\n",
      "key is email and value is john@email.com\n",
      "key is id and value is 1234\n",
      "key is major and value is Engineering\n"
     ]
    }
   ],
   "source": [
    "my_dict = {\n",
    "    'name': 'john',\n",
    "    'email': 'john@email.com',\n",
    "    'id': 1234,\n",
    "    'major': 'Engineering'\n",
    "}\n",
    "for key, value in my_dict.items(): # key, value = ('name', 'john')\n",
    "    print(f'key is {key} and value is {value}')"
   ]
  },
  {
   "cell_type": "code",
   "execution_count": 27,
   "id": "e602871f-1fb1-4878-a621-535c786187a0",
   "metadata": {},
   "outputs": [
    {
     "name": "stdout",
     "output_type": "stream",
     "text": [
      "name\n",
      "email\n",
      "id\n",
      "major\n"
     ]
    }
   ],
   "source": [
    "for ele in my_dict:\n",
    "    print(ele)"
   ]
  },
  {
   "cell_type": "code",
   "execution_count": 28,
   "id": "aac266df-ba7d-42c4-bc59-c941010ef104",
   "metadata": {},
   "outputs": [
    {
     "name": "stdout",
     "output_type": "stream",
     "text": [
      "name john\n",
      "email john@email.com\n",
      "id 1234\n",
      "major Engineering\n"
     ]
    }
   ],
   "source": [
    "for ele in my_dict: # default iterate over keys\n",
    "    print(ele, my_dict[ele])"
   ]
  },
  {
   "cell_type": "code",
   "execution_count": 30,
   "id": "69b1fb74-4ea6-4565-92b1-44b50bef92de",
   "metadata": {},
   "outputs": [
    {
     "name": "stdout",
     "output_type": "stream",
     "text": [
      "('name', 'john')\n",
      "name john\n",
      "('email', 'john@email.com')\n",
      "email john@email.com\n",
      "('id', 1234)\n",
      "id 1234\n",
      "('major', 'Engineering')\n",
      "major Engineering\n"
     ]
    }
   ],
   "source": [
    "for ele in my_dict.items():\n",
    "    print(ele)\n",
    "    key, value = ele\n",
    "    print(key, value)"
   ]
  },
  {
   "cell_type": "code",
   "execution_count": 31,
   "id": "816f26d3-7ca9-4df6-bbc2-d4110fe6b5a4",
   "metadata": {},
   "outputs": [
    {
     "name": "stdout",
     "output_type": "stream",
     "text": [
      "email john@email.com\n",
      "id 1234\n",
      "major Engineering\n",
      "name john\n"
     ]
    }
   ],
   "source": [
    "for ele in sorted(my_dict): # default iterate over keys\n",
    "    print(ele, my_dict[ele])"
   ]
  },
  {
   "cell_type": "code",
   "execution_count": 33,
   "id": "57277faa-eef3-46bf-8168-400d5bf080e9",
   "metadata": {},
   "outputs": [
    {
     "name": "stdout",
     "output_type": "stream",
     "text": [
      "True\n"
     ]
    }
   ],
   "source": [
    "my_dict = {\n",
    "    'name': 'john',\n",
    "    'email': 'john@email.com',\n",
    "    'id': 1234,\n",
    "    'major': 'Engineering'\n",
    "}\n",
    "\n",
    "key = 'Major'\n",
    "if key in my_dict:\n",
    "    print(True)\n",
    "else:\n",
    "    print(False)\n",
    "\n",
    "# ele in list O(N)\n",
    "# key in dict O(1)"
   ]
  },
  {
   "cell_type": "code",
   "execution_count": 34,
   "id": "a0f4ea7e-1d68-4842-bcb8-7ef6292ca960",
   "metadata": {},
   "outputs": [
    {
     "data": {
      "text/plain": [
       "True"
      ]
     },
     "execution_count": 34,
     "metadata": {},
     "output_type": "execute_result"
    }
   ],
   "source": [
    "my_list = [1, 2, 3, 4]\n",
    "my_dict = {1: None, 2: None, 3: None, 4: None}\n",
    "\n",
    "1 in my_list\n",
    "\n",
    "# lists can contain duplicates\n",
    "# dicts cannot contain duplicates"
   ]
  },
  {
   "cell_type": "code",
   "execution_count": null,
   "id": "99d0b58e-9eac-4205-8a67-56601610940b",
   "metadata": {},
   "outputs": [],
   "source": [
    "mrn = 11002233 \n",
    "mrn_list = [.....]\n",
    "mrn_dict = {..} "
   ]
  },
  {
   "cell_type": "code",
   "execution_count": 36,
   "id": "cf11ab00-d310-48a5-9c55-2fe583fa3800",
   "metadata": {},
   "outputs": [
    {
     "data": {
      "text/plain": [
       "False"
      ]
     },
     "execution_count": 36,
     "metadata": {},
     "output_type": "execute_result"
    }
   ],
   "source": [
    "5 in my_dict"
   ]
  },
  {
   "cell_type": "code",
   "execution_count": 37,
   "id": "2852783e-25e4-4f4f-98f0-ea9efc38d2c9",
   "metadata": {},
   "outputs": [
    {
     "data": {
      "text/plain": [
       "{1: None, 2: None, 3: None, 4: None}"
      ]
     },
     "execution_count": 37,
     "metadata": {},
     "output_type": "execute_result"
    }
   ],
   "source": [
    "my_dict.copy() # Shallow copy"
   ]
  },
  {
   "cell_type": "code",
   "execution_count": 38,
   "id": "28b0e139-0f1b-4182-807f-297fd794e734",
   "metadata": {},
   "outputs": [
    {
     "name": "stdout",
     "output_type": "stream",
     "text": [
      "{1: False, 2: [3, 4, 5]} {1: True, 2: [3, 4, 5]}\n"
     ]
    }
   ],
   "source": [
    "x = {1: True, 2: [3, 4, 5]}\n",
    "y = x.copy()\n",
    "x[1] = False\n",
    "print(x, y)"
   ]
  },
  {
   "cell_type": "code",
   "execution_count": 39,
   "id": "c832f053-9bbb-481f-9f86-467a659dacb6",
   "metadata": {},
   "outputs": [
    {
     "name": "stdout",
     "output_type": "stream",
     "text": [
      "{1: True, 2: [3, 4, 5, 6]} {1: True, 2: [3, 4, 5, 6]}\n"
     ]
    }
   ],
   "source": [
    "x = {1: True, 2: [3, 4, 5]}\n",
    "y = x.copy()\n",
    "x[2].append(6)\n",
    "print(x, y)"
   ]
  },
  {
   "cell_type": "code",
   "execution_count": 40,
   "id": "0e4ca681-b84a-4542-85cc-31d5c81d7a5b",
   "metadata": {},
   "outputs": [
    {
     "name": "stdout",
     "output_type": "stream",
     "text": [
      "{1: True, 2: [3, 4, 5, 6]} {1: True, 2: [3, 4, 5]}\n"
     ]
    }
   ],
   "source": [
    "import copy\n",
    "x = {1: True, 2: [3, 4, 5]}\n",
    "y = copy.deepcopy(x)\n",
    "x[2].append(6)\n",
    "print(x, y)"
   ]
  },
  {
   "cell_type": "code",
   "execution_count": 41,
   "id": "b5c206e7-2879-4e17-b509-508092e5815a",
   "metadata": {},
   "outputs": [
    {
     "ename": "AttributeError",
     "evalue": "'tuple' object has no attribute 'copy'",
     "output_type": "error",
     "traceback": [
      "\u001b[0;31m---------------------------------------------------------------------------\u001b[0m",
      "\u001b[0;31mAttributeError\u001b[0m                            Traceback (most recent call last)",
      "Cell \u001b[0;32mIn[41], line 2\u001b[0m\n\u001b[1;32m      1\u001b[0m x \u001b[38;5;241m=\u001b[39m (\u001b[38;5;241m1\u001b[39m, [\u001b[38;5;241m3\u001b[39m, \u001b[38;5;241m4\u001b[39m, \u001b[38;5;241m5\u001b[39m])\n\u001b[0;32m----> 2\u001b[0m y \u001b[38;5;241m=\u001b[39m \u001b[43mx\u001b[49m\u001b[38;5;241;43m.\u001b[39;49m\u001b[43mcopy\u001b[49m()\n\u001b[1;32m      3\u001b[0m x[\u001b[38;5;241m1\u001b[39m] \u001b[38;5;241m=\u001b[39m \u001b[38;5;241m3\u001b[39m\n",
      "\u001b[0;31mAttributeError\u001b[0m: 'tuple' object has no attribute 'copy'"
     ]
    }
   ],
   "source": [
    "x = (1, [3, 4, 5])\n",
    "y = x.copy()\n",
    "x[1] = 3"
   ]
  },
  {
   "cell_type": "code",
   "execution_count": 44,
   "id": "7550aee5-b6d6-4419-8dd0-d39efb69aae9",
   "metadata": {},
   "outputs": [
    {
     "name": "stdout",
     "output_type": "stream",
     "text": [
      "[1, [3, 4, 5, 99]] [1, [3, 4, 5, 99]]\n"
     ]
    }
   ],
   "source": [
    "x = [1, [3, 4, 5]]\n",
    "y = x.copy()\n",
    "x[1].append(99)\n",
    "print(x, y)"
   ]
  },
  {
   "cell_type": "code",
   "execution_count": 45,
   "id": "a4e1f5e9-bf53-4420-834e-f1a9826b2598",
   "metadata": {},
   "outputs": [
    {
     "data": {
      "text/plain": [
       "{'name': 'missing', 'email': 'missing', 'id': 'missing', 'major': 'missing'}"
      ]
     },
     "execution_count": 45,
     "metadata": {},
     "output_type": "execute_result"
    }
   ],
   "source": [
    "{}.fromkeys(\n",
    "    ['name', 'email', 'id', 'major'], 'missing')"
   ]
  },
  {
   "cell_type": "code",
   "execution_count": 46,
   "id": "0052840f-bfc7-4b4a-8aeb-a87cea94b2c8",
   "metadata": {},
   "outputs": [
    {
     "data": {
      "text/plain": [
       "{0: 'iammissing',\n",
       " 1: 'iammissing',\n",
       " 2: 'iammissing',\n",
       " 3: 'iammissing',\n",
       " 4: 'iammissing'}"
      ]
     },
     "execution_count": 46,
     "metadata": {},
     "output_type": "execute_result"
    }
   ],
   "source": [
    "{}.fromkeys(range(5), 'iammissing')"
   ]
  },
  {
   "cell_type": "code",
   "execution_count": 47,
   "id": "cae95a82-4233-44e9-b146-f07a24204bce",
   "metadata": {},
   "outputs": [
    {
     "name": "stdout",
     "output_type": "stream",
     "text": [
      "{1: [1, 2, 3], 2: [4, 5, 6]} {1: [1, 2, 3], 2: [4, 5, 6]}\n"
     ]
    }
   ],
   "source": [
    "x = {1:2, 3:4}\n",
    "x = {1: [1, 2, 3], 2: [4, 5, 6]}\n",
    "y = x.copy()\n",
    "\n",
    "print(x, y)"
   ]
  },
  {
   "cell_type": "code",
   "execution_count": 48,
   "id": "1a858892-00ca-45b5-8593-939237780269",
   "metadata": {},
   "outputs": [
    {
     "name": "stdout",
     "output_type": "stream",
     "text": [
      "{1: [1, 2, 3, 'Appended'], 2: [4, 5, 6]}\n"
     ]
    }
   ],
   "source": [
    "x[1].append('Appended')\n",
    "print(x)"
   ]
  },
  {
   "cell_type": "code",
   "execution_count": 49,
   "id": "b1b43414-ba61-46a1-8060-144e0d17ed34",
   "metadata": {},
   "outputs": [
    {
     "data": {
      "text/plain": [
       "{1: [1, 2, 3, 'Appended'], 2: [4, 5, 6]}"
      ]
     },
     "execution_count": 49,
     "metadata": {},
     "output_type": "execute_result"
    }
   ],
   "source": [
    "y"
   ]
  },
  {
   "cell_type": "code",
   "execution_count": 50,
   "id": "cca742f9-03f9-4e39-9e33-42268701a907",
   "metadata": {},
   "outputs": [
    {
     "name": "stdout",
     "output_type": "stream",
     "text": [
      "{1: [1, 2, 3], 2: [4, 5, 6]}\n"
     ]
    }
   ],
   "source": [
    "import copy\n",
    "x = {1: [1, 2, 3], 2: [4, 5, 6]}\n",
    "y = copy.deepcopy(x)\n",
    "x[1].append('Appended')\n",
    "print(y)\n"
   ]
  },
  {
   "cell_type": "code",
   "execution_count": 51,
   "id": "bff9c173-1bb3-4efb-860d-989b0afe7ae6",
   "metadata": {},
   "outputs": [
    {
     "data": {
      "text/plain": [
       "{1: [1, 2, 3, 'Appended'], 2: [4, 5, 6]}"
      ]
     },
     "execution_count": 51,
     "metadata": {},
     "output_type": "execute_result"
    }
   ],
   "source": [
    "x"
   ]
  },
  {
   "cell_type": "code",
   "execution_count": 52,
   "id": "6114e17b-04f8-4694-bf6b-49715f298131",
   "metadata": {},
   "outputs": [
    {
     "data": {
      "text/plain": [
       "'Engineering'"
      ]
     },
     "execution_count": 52,
     "metadata": {},
     "output_type": "execute_result"
    }
   ],
   "source": [
    "my_dict = {\n",
    "    'name': 'john',\n",
    "    'email': 'john@email.com',\n",
    "    'id': 1234,\n",
    "    'major': 'Engineering'\n",
    "}\n",
    "\n",
    "my_dict[\"major\"]"
   ]
  },
  {
   "cell_type": "code",
   "execution_count": 53,
   "id": "1daa7895-9375-4fec-ae56-5c6ff40ee997",
   "metadata": {},
   "outputs": [
    {
     "ename": "KeyError",
     "evalue": "'Major'",
     "output_type": "error",
     "traceback": [
      "\u001b[0;31m---------------------------------------------------------------------------\u001b[0m",
      "\u001b[0;31mKeyError\u001b[0m                                  Traceback (most recent call last)",
      "Cell \u001b[0;32mIn[53], line 1\u001b[0m\n\u001b[0;32m----> 1\u001b[0m \u001b[43mmy_dict\u001b[49m\u001b[43m[\u001b[49m\u001b[38;5;124;43m\"\u001b[39;49m\u001b[38;5;124;43mMajor\u001b[39;49m\u001b[38;5;124;43m\"\u001b[39;49m\u001b[43m]\u001b[49m\n",
      "\u001b[0;31mKeyError\u001b[0m: 'Major'"
     ]
    }
   ],
   "source": [
    "my_dict[\"Major\"]"
   ]
  },
  {
   "cell_type": "code",
   "execution_count": 54,
   "id": "4d871754-916e-4760-91c4-97b84bbaddbe",
   "metadata": {},
   "outputs": [
    {
     "data": {
      "text/plain": [
       "'Engineering'"
      ]
     },
     "execution_count": 54,
     "metadata": {},
     "output_type": "execute_result"
    }
   ],
   "source": [
    "my_dict.get(\"major\")"
   ]
  },
  {
   "cell_type": "code",
   "execution_count": 56,
   "id": "a41697e5-404f-423d-87b4-1f1f0e5413a4",
   "metadata": {},
   "outputs": [],
   "source": [
    "my_dict.get(\"Major\")"
   ]
  },
  {
   "cell_type": "code",
   "execution_count": 57,
   "id": "d911a093-51f3-45d6-ab36-847c2f116183",
   "metadata": {},
   "outputs": [
    {
     "name": "stdout",
     "output_type": "stream",
     "text": [
      "None\n"
     ]
    }
   ],
   "source": [
    "print(my_dict.get(\"Major\"))"
   ]
  },
  {
   "cell_type": "code",
   "execution_count": null,
   "id": "65255c09-9553-47da-9fff-7e57acd57e32",
   "metadata": {},
   "outputs": [],
   "source": [
    "if 'major' in my_dict:\n",
    "    pass"
   ]
  },
  {
   "cell_type": "code",
   "execution_count": 60,
   "id": "3f35fe66-0df1-4134-a36d-2638eabd48aa",
   "metadata": {},
   "outputs": [
    {
     "data": {
      "text/plain": [
       "'N/A'"
      ]
     },
     "execution_count": 60,
     "metadata": {},
     "output_type": "execute_result"
    }
   ],
   "source": [
    "my_dict.get('Name', 'N/A')"
   ]
  },
  {
   "cell_type": "code",
   "execution_count": 61,
   "id": "114409ea-460e-4bc1-aa7b-1c5f7b03e674",
   "metadata": {},
   "outputs": [
    {
     "ename": "TypeError",
     "evalue": "pop expected at least 1 argument, got 0",
     "output_type": "error",
     "traceback": [
      "\u001b[0;31m---------------------------------------------------------------------------\u001b[0m",
      "\u001b[0;31mTypeError\u001b[0m                                 Traceback (most recent call last)",
      "Cell \u001b[0;32mIn[61], line 7\u001b[0m\n\u001b[1;32m      1\u001b[0m my_dict \u001b[38;5;241m=\u001b[39m {\n\u001b[1;32m      2\u001b[0m     \u001b[38;5;124m'\u001b[39m\u001b[38;5;124mname\u001b[39m\u001b[38;5;124m'\u001b[39m: \u001b[38;5;124m'\u001b[39m\u001b[38;5;124mjohn\u001b[39m\u001b[38;5;124m'\u001b[39m,\n\u001b[1;32m      3\u001b[0m     \u001b[38;5;124m'\u001b[39m\u001b[38;5;124memail\u001b[39m\u001b[38;5;124m'\u001b[39m: \u001b[38;5;124m'\u001b[39m\u001b[38;5;124mjohn@email.com\u001b[39m\u001b[38;5;124m'\u001b[39m,\n\u001b[1;32m      4\u001b[0m     \u001b[38;5;124m'\u001b[39m\u001b[38;5;124mid\u001b[39m\u001b[38;5;124m'\u001b[39m: \u001b[38;5;241m1234\u001b[39m,\n\u001b[1;32m      5\u001b[0m     \u001b[38;5;124m'\u001b[39m\u001b[38;5;124mmajor\u001b[39m\u001b[38;5;124m'\u001b[39m: \u001b[38;5;124m'\u001b[39m\u001b[38;5;124mEngineering\u001b[39m\u001b[38;5;124m'\u001b[39m\n\u001b[1;32m      6\u001b[0m }\n\u001b[0;32m----> 7\u001b[0m \u001b[43mmy_dict\u001b[49m\u001b[38;5;241;43m.\u001b[39;49m\u001b[43mpop\u001b[49m\u001b[43m(\u001b[49m\u001b[43m)\u001b[49m\n",
      "\u001b[0;31mTypeError\u001b[0m: pop expected at least 1 argument, got 0"
     ]
    }
   ],
   "source": [
    "my_dict = {\n",
    "    'name': 'john',\n",
    "    'email': 'john@email.com',\n",
    "    'id': 1234,\n",
    "    'major': 'Engineering'\n",
    "}\n",
    "my_dict.pop()"
   ]
  },
  {
   "cell_type": "code",
   "execution_count": 62,
   "id": "f88c4d24-8e79-44d4-bf8f-86a2e4a94437",
   "metadata": {},
   "outputs": [
    {
     "data": {
      "text/plain": [
       "'john'"
      ]
     },
     "execution_count": 62,
     "metadata": {},
     "output_type": "execute_result"
    }
   ],
   "source": [
    "my_dict = {\n",
    "    'name': 'john',\n",
    "    'email': 'john@email.com',\n",
    "    'id': 1234,\n",
    "    'major': 'Engineering'\n",
    "}\n",
    "my_dict.pop('name')"
   ]
  },
  {
   "cell_type": "code",
   "execution_count": 63,
   "id": "3cea634a-09da-4497-904f-7a7281e371c4",
   "metadata": {},
   "outputs": [
    {
     "data": {
      "text/plain": [
       "{'email': 'john@email.com', 'id': 1234, 'major': 'Engineering'}"
      ]
     },
     "execution_count": 63,
     "metadata": {},
     "output_type": "execute_result"
    }
   ],
   "source": [
    "my_dict"
   ]
  },
  {
   "cell_type": "code",
   "execution_count": 64,
   "id": "5e6ad61a-3dc3-46c9-aeb9-ee29c148d4d4",
   "metadata": {},
   "outputs": [
    {
     "ename": "KeyError",
     "evalue": "'name'",
     "output_type": "error",
     "traceback": [
      "\u001b[0;31m---------------------------------------------------------------------------\u001b[0m",
      "\u001b[0;31mKeyError\u001b[0m                                  Traceback (most recent call last)",
      "Cell \u001b[0;32mIn[64], line 1\u001b[0m\n\u001b[0;32m----> 1\u001b[0m \u001b[43mmy_dict\u001b[49m\u001b[38;5;241;43m.\u001b[39;49m\u001b[43mpop\u001b[49m\u001b[43m(\u001b[49m\u001b[38;5;124;43m'\u001b[39;49m\u001b[38;5;124;43mname\u001b[39;49m\u001b[38;5;124;43m'\u001b[39;49m\u001b[43m)\u001b[49m\n",
      "\u001b[0;31mKeyError\u001b[0m: 'name'"
     ]
    }
   ],
   "source": [
    "my_dict.pop('name')"
   ]
  },
  {
   "cell_type": "code",
   "execution_count": 66,
   "id": "0662b2ad-a028-4d92-a510-dc48f99f9c8a",
   "metadata": {},
   "outputs": [
    {
     "name": "stdout",
     "output_type": "stream",
     "text": [
      "I am removing key: email\n"
     ]
    }
   ],
   "source": [
    "# Q\n",
    "key = 'email'\n",
    "if key in my_dict:\n",
    "    print(f'I am removing key: {key}')\n",
    "    my_dict.pop(key)"
   ]
  },
  {
   "cell_type": "code",
   "execution_count": 68,
   "id": "612d407f-8f68-4ac9-aef6-d1d0e8c514ad",
   "metadata": {},
   "outputs": [],
   "source": [
    "# Q\n",
    "key = 'email'\n",
    "if my_dict.get(key):\n",
    "    print(f'I am removing key: {key}')\n",
    "    my_dict.pop(key)"
   ]
  },
  {
   "cell_type": "code",
   "execution_count": 72,
   "id": "310e6d0d-c065-4901-af9e-c7a7c5f0bbf9",
   "metadata": {},
   "outputs": [],
   "source": [
    "del value "
   ]
  },
  {
   "cell_type": "code",
   "execution_count": 73,
   "id": "9d321398-9c62-4f92-ac2f-987dffdbbc1d",
   "metadata": {},
   "outputs": [
    {
     "name": "stdout",
     "output_type": "stream",
     "text": [
      "1234\n"
     ]
    }
   ],
   "source": [
    "# Q\n",
    "if value := my_dict.get('id'):\n",
    "    print(value)"
   ]
  },
  {
   "cell_type": "code",
   "execution_count": 74,
   "id": "aafcf8fd-0956-4953-99c9-8aa711f1a0ad",
   "metadata": {},
   "outputs": [],
   "source": [
    "del value\n",
    "if value := my_dict.get('idddd'):\n",
    "    print(value)"
   ]
  },
  {
   "cell_type": "code",
   "execution_count": 75,
   "id": "3d1f0164-2d23-4bdf-bf44-ea76529ee276",
   "metadata": {},
   "outputs": [],
   "source": [
    "my_dict = {\n",
    "    'name': 'john',\n",
    "    'email': 'john@email.com',\n",
    "    'id': 1234,\n",
    "    'major': 'Engineering'\n",
    "}\n",
    "del my_dict['name']"
   ]
  },
  {
   "cell_type": "code",
   "execution_count": 76,
   "id": "93005e05-658b-4ab8-9e2b-1f8fd8a1c7aa",
   "metadata": {},
   "outputs": [
    {
     "data": {
      "text/plain": [
       "('major', 'Engineering')"
      ]
     },
     "execution_count": 76,
     "metadata": {},
     "output_type": "execute_result"
    }
   ],
   "source": [
    "my_dict = {\n",
    "    'name': 'john',\n",
    "    'email': 'john@email.com',\n",
    "    'id': 1234,\n",
    "    'major': 'Engineering'\n",
    "}\n",
    "my_dict.popitem()"
   ]
  },
  {
   "cell_type": "code",
   "execution_count": 77,
   "id": "c6e538e9-4af6-4091-b9b0-37b35e6ae333",
   "metadata": {},
   "outputs": [
    {
     "data": {
      "text/plain": [
       "('id', 1234)"
      ]
     },
     "execution_count": 77,
     "metadata": {},
     "output_type": "execute_result"
    }
   ],
   "source": [
    "my_dict.popitem()"
   ]
  },
  {
   "cell_type": "code",
   "execution_count": 78,
   "id": "5a78243e-1c5d-4ded-9f49-a98a0b863644",
   "metadata": {},
   "outputs": [
    {
     "data": {
      "text/plain": [
       "('email', 'john@email.com')"
      ]
     },
     "execution_count": 78,
     "metadata": {},
     "output_type": "execute_result"
    }
   ],
   "source": [
    "my_dict.popitem()"
   ]
  },
  {
   "cell_type": "code",
   "execution_count": 79,
   "id": "de1e311e-283d-4e6f-ae16-f2b39764b749",
   "metadata": {},
   "outputs": [
    {
     "data": {
      "text/plain": [
       "('name', 'john')"
      ]
     },
     "execution_count": 79,
     "metadata": {},
     "output_type": "execute_result"
    }
   ],
   "source": [
    "my_dict.popitem()"
   ]
  },
  {
   "cell_type": "code",
   "execution_count": 80,
   "id": "432e3112-a06b-468a-8187-e0ef4c07438f",
   "metadata": {},
   "outputs": [
    {
     "ename": "KeyError",
     "evalue": "'popitem(): dictionary is empty'",
     "output_type": "error",
     "traceback": [
      "\u001b[0;31m---------------------------------------------------------------------------\u001b[0m",
      "\u001b[0;31mKeyError\u001b[0m                                  Traceback (most recent call last)",
      "Cell \u001b[0;32mIn[80], line 1\u001b[0m\n\u001b[0;32m----> 1\u001b[0m \u001b[43mmy_dict\u001b[49m\u001b[38;5;241;43m.\u001b[39;49m\u001b[43mpopitem\u001b[49m\u001b[43m(\u001b[49m\u001b[43m)\u001b[49m\n",
      "\u001b[0;31mKeyError\u001b[0m: 'popitem(): dictionary is empty'"
     ]
    }
   ],
   "source": [
    "my_dict.popitem()"
   ]
  },
  {
   "cell_type": "code",
   "execution_count": 81,
   "id": "b340c445-c0d0-4e97-a380-b6c0a9aa3750",
   "metadata": {},
   "outputs": [],
   "source": [
    "my_dict = {\n",
    "    'name': 'john',\n",
    "    'email': 'john@email.com',\n",
    "    'id': 1234,\n",
    "    'major': 'Engineering'\n",
    "}\n",
    "\n"
   ]
  },
  {
   "cell_type": "code",
   "execution_count": 86,
   "id": "684565cc-e4c7-49ee-a5c6-ee946efb1f75",
   "metadata": {},
   "outputs": [],
   "source": [
    "my_dict = {\n",
    "    'name': 'john',\n",
    "    'email': 'john@email.com',\n",
    "    'id': 0,\n",
    "    'major': 'Engineering'\n",
    "}"
   ]
  },
  {
   "cell_type": "code",
   "execution_count": 87,
   "id": "78ff83a1-6c55-4350-80d1-fa27bcfd4b36",
   "metadata": {},
   "outputs": [],
   "source": [
    "if value := my_dict['id']:\n",
    "    print(value)"
   ]
  },
  {
   "cell_type": "code",
   "execution_count": 88,
   "id": "f5400343-50b0-4477-bd7a-b399829d31f0",
   "metadata": {},
   "outputs": [
    {
     "name": "stdout",
     "output_type": "stream",
     "text": [
      "{'A': 1, 'B': 1}\n"
     ]
    }
   ],
   "source": [
    "x = {'A': 1, 'B': 1}\n",
    "print(x)"
   ]
  },
  {
   "cell_type": "code",
   "execution_count": 89,
   "id": "bfe0892c-95be-48ee-967f-19a4b26ec5fb",
   "metadata": {},
   "outputs": [
    {
     "data": {
      "text/plain": [
       "{'A': 33, 'B': 1}"
      ]
     },
     "execution_count": 89,
     "metadata": {},
     "output_type": "execute_result"
    }
   ],
   "source": [
    "x['A'] = 33\n",
    "x"
   ]
  },
  {
   "cell_type": "code",
   "execution_count": 90,
   "id": "a29d0542-392b-4633-8a76-aedbc0ac08a1",
   "metadata": {},
   "outputs": [
    {
     "data": {
      "text/plain": [
       "{'name': 'john',\n",
       " 'email': 'john@email.com',\n",
       " 'id': 1234,\n",
       " 'major': 'Engineering',\n",
       " 'Graduate Year': 2024}"
      ]
     },
     "execution_count": 90,
     "metadata": {},
     "output_type": "execute_result"
    }
   ],
   "source": [
    "my_dict = {\n",
    "    'name': 'john',\n",
    "    'email': 'john@email.com',\n",
    "    'id': 1234,\n",
    "    'major': 'Engineering'\n",
    "}\n",
    "my_dict.update({'Graduate Year': 2024})\n",
    "my_dict['Graduate Year'] = 2024\n"
   ]
  },
  {
   "cell_type": "code",
   "execution_count": 92,
   "id": "190d5f94-a5f9-4cf6-8fc5-d2f08f2f4829",
   "metadata": {},
   "outputs": [],
   "source": [
    "my_dict = {\n",
    "    'name': 'john',\n",
    "    'email': 'john@email.com',\n",
    "    'id': 1234,\n",
    "    'major': 'Engineering'\n",
    "}\n",
    "saved = my_dict | {'Graduate Year': 2024}"
   ]
  },
  {
   "cell_type": "code",
   "execution_count": 93,
   "id": "37568013-bc2e-4874-98d5-5335461ca8a2",
   "metadata": {},
   "outputs": [
    {
     "data": {
      "text/plain": [
       "{'name': 'john',\n",
       " 'email': 'john@email.com',\n",
       " 'id': 1234,\n",
       " 'major': 'Engineering',\n",
       " 'Graduate Year': 2024}"
      ]
     },
     "execution_count": 93,
     "metadata": {},
     "output_type": "execute_result"
    }
   ],
   "source": [
    "saved"
   ]
  },
  {
   "cell_type": "code",
   "execution_count": 94,
   "id": "7a81d004-ac61-42f2-858e-54291fbd4751",
   "metadata": {},
   "outputs": [
    {
     "data": {
      "text/plain": [
       "{'name': 'john', 'email': 'john@email.com', 'id': 1234, 'major': 'Engineering'}"
      ]
     },
     "execution_count": 94,
     "metadata": {},
     "output_type": "execute_result"
    }
   ],
   "source": [
    "my_dict"
   ]
  },
  {
   "cell_type": "code",
   "execution_count": 95,
   "id": "c3aa3239-920f-41f2-866f-7f7b428b8240",
   "metadata": {},
   "outputs": [
    {
     "name": "stdout",
     "output_type": "stream",
     "text": [
      "{'name': 'john', 'email': 'john@email.com', 'id': 1234, 'major': 'Engineering', 'Graduate Year': 2024}\n"
     ]
    }
   ],
   "source": [
    "my_dict = {\n",
    "    'name': 'john',\n",
    "    'email': 'john@email.com',\n",
    "    'id': 1234,\n",
    "    'major': 'Engineering'\n",
    "}\n",
    "my_dict |= {'Graduate Year': 2024}\n",
    "\n",
    "print(my_dict)"
   ]
  },
  {
   "cell_type": "code",
   "execution_count": 97,
   "id": "0cdae0f1-fd2c-4cb6-b4e0-7dc7a2eb22f1",
   "metadata": {},
   "outputs": [
    {
     "data": {
      "text/plain": [
       "{'LoginCount': 1}"
      ]
     },
     "execution_count": 97,
     "metadata": {},
     "output_type": "execute_result"
    }
   ],
   "source": [
    "my_dict = {'LoginCount': 0}\n",
    "my_dict['LoginCount'] += 1\n",
    "my_dict"
   ]
  },
  {
   "cell_type": "code",
   "execution_count": 98,
   "id": "6445c5b1-dee7-4386-947b-fe4ef56512e6",
   "metadata": {},
   "outputs": [
    {
     "data": {
      "text/plain": [
       "{'Grades': [3]}"
      ]
     },
     "execution_count": 98,
     "metadata": {},
     "output_type": "execute_result"
    }
   ],
   "source": [
    "my_dict = {'Grades': []}\n",
    "my_dict['Grades'].append(3)\n",
    "my_dict"
   ]
  },
  {
   "cell_type": "code",
   "execution_count": 100,
   "id": "ed6fb8b5-c89a-4e0e-94d5-a8946684d124",
   "metadata": {},
   "outputs": [
    {
     "data": {
      "text/plain": [
       "{'LoginCount': 1}"
      ]
     },
     "execution_count": 100,
     "metadata": {},
     "output_type": "execute_result"
    }
   ],
   "source": [
    "my_dict = {}\n",
    "if 'LoginCount' not in my_dict:\n",
    "    my_dict['LoginCount'] =  0\n",
    "\n",
    "my_dict['LoginCount'] += 1\n",
    "my_dict"
   ]
  },
  {
   "cell_type": "code",
   "execution_count": 101,
   "id": "d1071cda-54ca-4c1a-ab7d-c1542feb092c",
   "metadata": {},
   "outputs": [
    {
     "ename": "KeyError",
     "evalue": "'LoginCount'",
     "output_type": "error",
     "traceback": [
      "\u001b[0;31m---------------------------------------------------------------------------\u001b[0m",
      "\u001b[0;31mKeyError\u001b[0m                                  Traceback (most recent call last)",
      "Cell \u001b[0;32mIn[101], line 2\u001b[0m\n\u001b[1;32m      1\u001b[0m my_dict \u001b[38;5;241m=\u001b[39m {}\n\u001b[0;32m----> 2\u001b[0m \u001b[43mmy_dict\u001b[49m\u001b[43m[\u001b[49m\u001b[38;5;124;43m'\u001b[39;49m\u001b[38;5;124;43mLoginCount\u001b[39;49m\u001b[38;5;124;43m'\u001b[39;49m\u001b[43m]\u001b[49m \u001b[38;5;241m+\u001b[39m\u001b[38;5;241m=\u001b[39m \u001b[38;5;241m1\u001b[39m\n",
      "\u001b[0;31mKeyError\u001b[0m: 'LoginCount'"
     ]
    }
   ],
   "source": [
    "my_dict = {}\n",
    "my_dict['LoginCount'] += 1"
   ]
  },
  {
   "cell_type": "code",
   "execution_count": 103,
   "id": "e541494f-da26-4b44-b6a9-6c01c1b1b6d8",
   "metadata": {},
   "outputs": [
    {
     "data": {
      "text/plain": [
       "defaultdict(int, {'LoginCount': 1})"
      ]
     },
     "execution_count": 103,
     "metadata": {},
     "output_type": "execute_result"
    }
   ],
   "source": [
    "from collections import defaultdict\n",
    "my_dict = defaultdict(int) # int: 0, float: 0.0., list: []\n",
    "my_dict['LoginCount'] += 1\n",
    "my_dict"
   ]
  },
  {
   "cell_type": "code",
   "execution_count": 104,
   "id": "623c8f03-51fe-4ff6-ad87-764e7cb64ab1",
   "metadata": {},
   "outputs": [
    {
     "data": {
      "text/plain": [
       "defaultdict(list, {'Grades': [99]})"
      ]
     },
     "execution_count": 104,
     "metadata": {},
     "output_type": "execute_result"
    }
   ],
   "source": [
    "from collections import defaultdict\n",
    "my_dict = defaultdict(list)\n",
    "my_dict['Grades'].append(99)\n",
    "\n",
    "my_dict"
   ]
  },
  {
   "cell_type": "code",
   "execution_count": 105,
   "id": "71f810ec-7aea-4c82-9bda-277b4f290c64",
   "metadata": {},
   "outputs": [
    {
     "data": {
      "text/plain": [
       "Counter({31: 7, 30: 4, 0: 1, 28: 1})"
      ]
     },
     "execution_count": 105,
     "metadata": {},
     "output_type": "execute_result"
    }
   ],
   "source": [
    "from collections import Counter\n",
    "days_in_months = [0, 31, 28, 31, 30, 31, 30, 31, 31, 30, 31, 30, 31]\n",
    "\n",
    "Counter(days_in_months)"
   ]
  },
  {
   "cell_type": "code",
   "execution_count": 106,
   "id": "07b7d635-b0f2-4e62-a598-af86daa8ebbd",
   "metadata": {},
   "outputs": [
    {
     "data": {
      "text/plain": [
       "{0: 0, 1: 1, 2: 4, 3: 9, 4: 16}"
      ]
     },
     "execution_count": 106,
     "metadata": {},
     "output_type": "execute_result"
    }
   ],
   "source": [
    "{num: num*num for num in range(5)}\n"
   ]
  },
  {
   "cell_type": "code",
   "execution_count": 107,
   "id": "b2ff4104-22a2-4064-97c1-aa18380b824b",
   "metadata": {},
   "outputs": [
    {
     "data": {
      "text/plain": [
       "{1: 'odd',\n",
       " 2: 'even',\n",
       " 3: 'odd',\n",
       " 4: 'even',\n",
       " 5: 'odd',\n",
       " 6: 'even',\n",
       " 7: 'odd',\n",
       " 8: 'even',\n",
       " 9: 'odd',\n",
       " 10: 'even',\n",
       " 11: 'odd',\n",
       " 12: 'even',\n",
       " 13: 'odd',\n",
       " 14: 'even',\n",
       " 15: 'odd',\n",
       " 16: 'even',\n",
       " 17: 'odd',\n",
       " 18: 'even',\n",
       " 19: 'odd'}"
      ]
     },
     "execution_count": 107,
     "metadata": {},
     "output_type": "execute_result"
    }
   ],
   "source": [
    "{num: (\"even\" if num % 2 == 0 else \"odd\") for num in range(1, 20)}"
   ]
  },
  {
   "cell_type": "code",
   "execution_count": 108,
   "id": "ddef7588-8c28-43fe-8715-53aba82f9643",
   "metadata": {},
   "outputs": [
    {
     "data": {
      "text/plain": [
       "{'john': 95, 'jane': 99, 'doe': 98}"
      ]
     },
     "execution_count": 108,
     "metadata": {},
     "output_type": "execute_result"
    }
   ],
   "source": [
    "list1 = ['john', 'jane', 'doe']\n",
    "list2 = [95, 99, 98]\n",
    "\n",
    "dict(zip(list1,list2))"
   ]
  }
 ],
 "metadata": {
  "kernelspec": {
   "display_name": "Python 3 (ipykernel)",
   "language": "python",
   "name": "python3"
  },
  "language_info": {
   "codemirror_mode": {
    "name": "ipython",
    "version": 3
   },
   "file_extension": ".py",
   "mimetype": "text/x-python",
   "name": "python",
   "nbconvert_exporter": "python",
   "pygments_lexer": "ipython3",
   "version": "3.12.4"
  }
 },
 "nbformat": 4,
 "nbformat_minor": 5
}
