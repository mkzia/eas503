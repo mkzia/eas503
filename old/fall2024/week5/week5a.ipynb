{
 "cells": [
  {
   "cell_type": "code",
   "execution_count": 2,
   "id": "e07aeade-b587-4ffc-9b23-5fc743b13aec",
   "metadata": {},
   "outputs": [],
   "source": [
    "x = [1, 2, 3]\n",
    "y = ['one', 'two', 'three']"
   ]
  },
  {
   "cell_type": "code",
   "execution_count": 6,
   "id": "98561b1d-0374-4894-b73d-f5b46ebc1500",
   "metadata": {},
   "outputs": [
    {
     "name": "stdout",
     "output_type": "stream",
     "text": [
      "1 one\n",
      "2 two\n",
      "3 three\n"
     ]
    }
   ],
   "source": [
    "for a, b in zip(x,y):\n",
    "    print(a, b)"
   ]
  },
  {
   "cell_type": "code",
   "execution_count": 7,
   "id": "27769c7d-d67f-443a-b57e-7ddeb3d553d2",
   "metadata": {},
   "outputs": [],
   "source": [
    "tmp = zip(x,y)"
   ]
  },
  {
   "cell_type": "code",
   "execution_count": 8,
   "id": "7ae57e92-4c69-47c9-a136-437c786b0655",
   "metadata": {},
   "outputs": [
    {
     "name": "stdout",
     "output_type": "stream",
     "text": [
      "1 one\n",
      "2 two\n",
      "3 three\n"
     ]
    }
   ],
   "source": [
    "for a, b in tmp:\n",
    "    print(a, b)"
   ]
  },
  {
   "cell_type": "code",
   "execution_count": 9,
   "id": "abbbcec5-d40d-4236-9f76-458a2e359de6",
   "metadata": {},
   "outputs": [],
   "source": [
    "for a, b in tmp:\n",
    "    print(a, b)"
   ]
  },
  {
   "cell_type": "code",
   "execution_count": 11,
   "id": "66c6fb22-e70d-414b-a336-4c820c324796",
   "metadata": {},
   "outputs": [
    {
     "name": "stdout",
     "output_type": "stream",
     "text": [
      "0\n",
      "1\n",
      "0\n",
      "0\n",
      "1\n"
     ]
    }
   ],
   "source": [
    "import random\n",
    "\n",
    "for _ in range(5):\n",
    "    print(random.randint(0,1))"
   ]
  },
  {
   "cell_type": "code",
   "execution_count": 18,
   "id": "606a630c-493d-4273-a7d4-e8c6e5be5816",
   "metadata": {},
   "outputs": [
    {
     "name": "stdout",
     "output_type": "stream",
     "text": [
      "student1 68.125\n",
      "student2 79.6\n",
      "student3 85.8\n",
      "student4 78.8\n",
      "student5 83.4\n",
      "student6 73.8\n",
      "student7 81.6\n",
      "student8 90.0\n",
      "student9 87.0\n",
      "student10 78.2\n"
     ]
    }
   ],
   "source": [
    "filename = \"for_ex11_data.txt\"\n",
    "with open(filename) as file:\n",
    "    for line in file:\n",
    "        line = line.strip()\n",
    "        if not line:\n",
    "            continue\n",
    "\n",
    "        line = line.split(',')\n",
    "        name = line[0]\n",
    "        grades = []\n",
    "        for grade in line[1:]:\n",
    "            grades.append(int(grade))\n",
    "        print(name, sum(grades)/len(grades))\n",
    "        \n",
    "        "
   ]
  },
  {
   "cell_type": "code",
   "execution_count": 21,
   "id": "12466ada-aa06-4cc8-92de-90f7ba661a27",
   "metadata": {},
   "outputs": [
    {
     "name": "stdout",
     "output_type": "stream",
     "text": [
      "student1 68.125\n",
      "student2 79.6\n",
      "student3 85.8\n",
      "student4 78.8\n",
      "student5 83.4\n",
      "student6 73.8\n",
      "student7 81.6\n",
      "student8 90.0\n",
      "student9 87.0\n",
      "student10 78.2\n"
     ]
    }
   ],
   "source": [
    "filename = \"for_ex11_data.txt\"\n",
    "with open(filename) as file:\n",
    "    for line in file:\n",
    "        line = line.strip()\n",
    "        if not line:\n",
    "            continue\n",
    "\n",
    "        name, *str_grades = line.split(',')\n",
    "\n",
    "        grades = []\n",
    "        for grade in str_grades:\n",
    "            grades.append(int(grade))\n",
    "        \n",
    "        print(name, sum(grades)/len(grades))"
   ]
  },
  {
   "cell_type": "code",
   "execution_count": 19,
   "id": "030d57a1-5673-485c-8f22-6116d67bffa0",
   "metadata": {},
   "outputs": [
    {
     "data": {
      "text/plain": [
       "['student1', '93,78,82,83,65,23,34,87']"
      ]
     },
     "execution_count": 19,
     "metadata": {},
     "output_type": "execute_result"
    }
   ],
   "source": [
    "x = 'student1,93,78,82,83,65,23,34,87'\n",
    "x.split(',', 1)"
   ]
  },
  {
   "cell_type": "code",
   "execution_count": 24,
   "id": "2effaa7c-13cc-4d20-b54b-358cc61ef9a3",
   "metadata": {},
   "outputs": [
    {
     "name": "stdin",
     "output_type": "stream",
     "text": [
      "Enter a number to calculate average. Enter empty space to stop entering numbers:  80\n",
      "Enter a number to calculate average. Enter empty space to stop entering numbers:  100\n",
      "Enter a number to calculate average. Enter empty space to stop entering numbers:  \n"
     ]
    },
    {
     "name": "stdout",
     "output_type": "stream",
     "text": [
      "90.0\n"
     ]
    }
   ],
   "source": [
    "numbers = []\n",
    "number = input('Enter a number to calculate average. Enter empty space to stop entering numbers: ' )\n",
    "while number:\n",
    "    numbers.append(float(number))\n",
    "    number = input('Enter a number to calculate average. Enter empty space to stop entering numbers: ' )\n",
    "\n",
    "print(sum(numbers)/len(numbers))\n"
   ]
  },
  {
   "cell_type": "code",
   "execution_count": 23,
   "id": "9f325a94-386f-41a5-9721-3df748333df7",
   "metadata": {},
   "outputs": [
    {
     "data": {
      "text/plain": [
       "[80.0, 100.0]"
      ]
     },
     "execution_count": 23,
     "metadata": {},
     "output_type": "execute_result"
    }
   ],
   "source": [
    "numbers"
   ]
  },
  {
   "cell_type": "code",
   "execution_count": 28,
   "id": "bb5ed35a-1277-4ad9-b2d0-4b8dfa4aca8f",
   "metadata": {},
   "outputs": [
    {
     "name": "stdin",
     "output_type": "stream",
     "text": [
      "Enter a number to calculate average. Enter empty space to stop entering numbers:  80\n",
      "Enter a number to calculate average. Enter empty space to stop entering numbers:  100\n",
      "Enter a number to calculate average. Enter empty space to stop entering numbers:  100\n",
      "Enter a number to calculate average. Enter empty space to stop entering numbers:  0\n",
      "Enter a number to calculate average. Enter empty space to stop entering numbers:  -1\n"
     ]
    },
    {
     "name": "stdout",
     "output_type": "stream",
     "text": [
      "70.0\n"
     ]
    }
   ],
   "source": [
    "numbers = []\n",
    "number = float(input('Enter a number to calculate average. Enter empty space to stop entering numbers: ' ))\n",
    "while number >= 0:\n",
    "    numbers.append(number)\n",
    "    number = float(input('Enter a number to calculate average. Enter empty space to stop entering numbers: ' ))\n",
    "\n",
    "print(sum(numbers)/len(numbers))"
   ]
  },
  {
   "cell_type": "code",
   "execution_count": 29,
   "id": "914bb593-1a9c-45f5-87f3-0b0ba3d27299",
   "metadata": {},
   "outputs": [
    {
     "name": "stdout",
     "output_type": "stream",
     "text": [
      "Skipping: 0\n",
      "1\n",
      "2\n",
      "3\n",
      "4\n",
      "Skipping: 5\n",
      "6\n",
      "7\n",
      "8\n",
      "9\n",
      "Skipping: 10\n",
      "11\n",
      "12\n",
      "13\n",
      "14\n",
      "Skipping: 15\n",
      "16\n",
      "17\n",
      "18\n",
      "19\n",
      "Skipping: 20\n",
      "21\n",
      "22\n",
      "23\n",
      "24\n",
      "Skipping: 25\n",
      "26\n",
      "27\n",
      "28\n",
      "29\n",
      "Skipping: 30\n",
      "31\n",
      "32\n",
      "33\n",
      "34\n",
      "Skipping: 35\n",
      "36\n",
      "37\n",
      "38\n",
      "39\n",
      "Skipping: 40\n",
      "41\n",
      "42\n",
      "43\n",
      "44\n",
      "Skipping: 45\n",
      "46\n",
      "47\n",
      "48\n",
      "49\n",
      "Skipping: 50\n",
      "51\n",
      "52\n",
      "53\n",
      "54\n",
      "Skipping: 55\n",
      "56\n",
      "57\n",
      "58\n",
      "59\n",
      "Skipping: 60\n",
      "61\n",
      "62\n",
      "63\n",
      "64\n",
      "Skipping: 65\n",
      "66\n",
      "67\n",
      "68\n",
      "69\n",
      "Skipping: 70\n",
      "71\n",
      "72\n",
      "73\n",
      "74\n",
      "Skipping: 75\n",
      "76\n",
      "77\n",
      "78\n",
      "79\n",
      "Skipping: 80\n",
      "81\n",
      "82\n",
      "83\n",
      "84\n",
      "Skipping: 85\n",
      "86\n",
      "87\n",
      "88\n",
      "89\n",
      "Skipping: 90\n",
      "91\n",
      "92\n",
      "93\n",
      "94\n",
      "Skipping: 95\n",
      "96\n",
      "97\n",
      "98\n",
      "99\n"
     ]
    }
   ],
   "source": [
    "def modify_loop_ex1(n):\n",
    "    for number in range(n):\n",
    "\n",
    "        if number % 5 == 0:\n",
    "            print('Skipping:', number)\n",
    "            continue\n",
    "\n",
    "        print(number)\n",
    "\n",
    "modify_loop_ex1(100)"
   ]
  },
  {
   "cell_type": "code",
   "execution_count": 31,
   "id": "fa98cc2b-9839-404e-8c8d-e8836eff2bca",
   "metadata": {},
   "outputs": [
    {
     "name": "stdout",
     "output_type": "stream",
     "text": [
      "1\n",
      "2\n",
      "3\n",
      "4\n",
      "5\n",
      "6\n",
      "7\n",
      "8\n",
      "9\n",
      "10\n",
      "11\n",
      "12\n",
      "13\n",
      "14\n",
      "15\n",
      "16\n",
      "17\n",
      "18\n",
      "19\n",
      "20\n",
      "21\n",
      "22\n",
      "23\n",
      "24\n",
      "25\n",
      "26\n",
      "27\n",
      "28\n",
      "29\n",
      "30\n",
      "31\n",
      "32\n",
      "33\n",
      "34\n",
      "35\n",
      "36\n",
      "37\n",
      "38\n",
      "39\n",
      "40\n",
      "41\n",
      "42\n",
      "43\n",
      "44\n",
      "45\n",
      "46\n",
      "47\n",
      "48\n",
      "49\n",
      "50\n"
     ]
    }
   ],
   "source": [
    "def modify_loop_ex2(n):\n",
    "\n",
    "    iteration_count = 0\n",
    "    number = 1\n",
    "    while number <= n:\n",
    "\n",
    "        if number > 50:\n",
    "            break\n",
    "\n",
    "        print(number)\n",
    "        number += 1\n",
    "        iteration_count += 1\n",
    "    # jump here\n",
    "\n",
    "modify_loop_ex2(1000)"
   ]
  },
  {
   "cell_type": "code",
   "execution_count": 32,
   "id": "2743c91d-d8e4-40a6-bc3c-61c478a044f6",
   "metadata": {},
   "outputs": [
    {
     "name": "stdout",
     "output_type": "stream",
     "text": [
      "student1 68.125\n",
      "student2 79.6\n",
      "student3 85.8\n",
      "student4 78.8\n",
      "student5 83.4\n",
      "student6 73.8\n",
      "student7 81.6\n",
      "student8 90.0\n",
      "student9 87.0\n",
      "student10 78.2\n"
     ]
    }
   ],
   "source": [
    "filename = \"for_ex11_data.txt\"\n",
    "with open(filename) as file:\n",
    "    for line in file:\n",
    "        line = line.strip()\n",
    "        if not line:\n",
    "            continue\n",
    "\n",
    "        line = line.split(',')\n",
    "        name = line[0]\n",
    "\n",
    "        #-------------\n",
    "        grades = []\n",
    "        for grade in line[1:]:\n",
    "            grades.append(int(grade))\n",
    "        #-------------\n",
    "\n",
    "        \n",
    "        print(name, sum(grades)/len(grades))"
   ]
  },
  {
   "cell_type": "code",
   "execution_count": 34,
   "id": "f811f9bd-78dc-4333-a6e0-e24756b4fc8c",
   "metadata": {},
   "outputs": [],
   "source": [
    "grades = [int(grade)  for grade in line[1:]]"
   ]
  },
  {
   "cell_type": "code",
   "execution_count": null,
   "id": "016e83a6-42e2-493f-85d9-3d5ea0e72429",
   "metadata": {},
   "outputs": [],
   "source": []
  },
  {
   "cell_type": "code",
   "execution_count": 35,
   "id": "14186330-d9c0-41a3-a941-3d270652d208",
   "metadata": {},
   "outputs": [
    {
     "data": {
      "text/plain": [
       "[65, 89, 80, 68, 89]"
      ]
     },
     "execution_count": 35,
     "metadata": {},
     "output_type": "execute_result"
    }
   ],
   "source": [
    "grades"
   ]
  },
  {
   "cell_type": "code",
   "execution_count": 36,
   "id": "23698e28-4f8e-4232-9f14-35f975b11181",
   "metadata": {},
   "outputs": [
    {
     "data": {
      "text/plain": [
       "[65, 89, 80, 68, 89]"
      ]
     },
     "execution_count": 36,
     "metadata": {},
     "output_type": "execute_result"
    }
   ],
   "source": [
    "[int(grade)  for grade in line[1:]]"
   ]
  },
  {
   "cell_type": "code",
   "execution_count": null,
   "id": "374f7777-a9e4-40bd-8f1e-add49bb1bd1a",
   "metadata": {},
   "outputs": [],
   "source": []
  },
  {
   "cell_type": "code",
   "execution_count": 37,
   "id": "686bab3c-fc00-4a35-b682-6f99bd4bbd5e",
   "metadata": {},
   "outputs": [
    {
     "data": {
      "text/plain": [
       "['65', '89', '80', '68', '89']"
      ]
     },
     "execution_count": 37,
     "metadata": {},
     "output_type": "execute_result"
    }
   ],
   "source": [
    "[grade  for grade in line[1:]]"
   ]
  },
  {
   "cell_type": "code",
   "execution_count": 38,
   "id": "7535a70f-1ab8-4c75-9825-cafb5846f1ba",
   "metadata": {},
   "outputs": [
    {
     "data": {
      "text/plain": [
       "[False, False, False, False, False]"
      ]
     },
     "execution_count": 38,
     "metadata": {},
     "output_type": "execute_result"
    }
   ],
   "source": [
    "[False  for grade in line[1:]]"
   ]
  },
  {
   "cell_type": "code",
   "execution_count": 39,
   "id": "b101565d-6ef7-4aa1-9fa5-5a9304d33d5a",
   "metadata": {},
   "outputs": [
    {
     "data": {
      "text/plain": [
       "[89, 80, 89]"
      ]
     },
     "execution_count": 39,
     "metadata": {},
     "output_type": "execute_result"
    }
   ],
   "source": [
    "[int(grade) for grade in line[1:] if int(grade) >= 80]"
   ]
  },
  {
   "cell_type": "code",
   "execution_count": 40,
   "id": "77844d97-95a8-4936-903e-87bddfb83e7d",
   "metadata": {},
   "outputs": [
    {
     "data": {
      "text/plain": [
       "['65: Fail', '89: Pass', '80: Pass', '68: Fail', '89: Pass']"
      ]
     },
     "execution_count": 40,
     "metadata": {},
     "output_type": "execute_result"
    }
   ],
   "source": [
    "[f\"{grade}: Pass\"  if int(grade) >= 80 else f\"{grade}: Fail\" for grade in line[1:]]"
   ]
  },
  {
   "cell_type": "code",
   "execution_count": 41,
   "id": "11906ffa-6513-40a1-8d65-c6e348ef7762",
   "metadata": {},
   "outputs": [
    {
     "name": "stdout",
     "output_type": "stream",
     "text": [
      "65\n",
      "89\n",
      "80\n",
      "68\n",
      "89\n"
     ]
    }
   ],
   "source": [
    "tmp = (int(grade)  for grade in line[1:])\n",
    "for ele in tmp:\n",
    "    print(ele)"
   ]
  },
  {
   "cell_type": "code",
   "execution_count": 70,
   "id": "8525f49a-1868-417c-841d-9c7bf3f34012",
   "metadata": {},
   "outputs": [
    {
     "ename": "TypeError",
     "evalue": "'int' object is not iterable",
     "output_type": "error",
     "traceback": [
      "\u001b[0;31m---------------------------------------------------------------------------\u001b[0m",
      "\u001b[0;31mTypeError\u001b[0m                                 Traceback (most recent call last)",
      "Cell \u001b[0;32mIn[70], line 1\u001b[0m\n\u001b[0;32m----> 1\u001b[0m \u001b[38;5;28;43;01mfor\u001b[39;49;00m\u001b[43m \u001b[49m\u001b[43mele\u001b[49m\u001b[43m \u001b[49m\u001b[38;5;129;43;01min\u001b[39;49;00m\u001b[43m \u001b[49m\u001b[43mtmp\u001b[49m\u001b[43m:\u001b[49m\n\u001b[1;32m      2\u001b[0m \u001b[43m    \u001b[49m\u001b[38;5;28;43mprint\u001b[39;49m\u001b[43m(\u001b[49m\u001b[43mele\u001b[49m\u001b[43m)\u001b[49m\n\u001b[1;32m      3\u001b[0m \u001b[38;5;28mprint\u001b[39m(ele)\n",
      "\u001b[0;31mTypeError\u001b[0m: 'int' object is not iterable"
     ]
    }
   ],
   "source": [
    "for ele in tmp:\n",
    "    print(ele)\n",
    "print(ele)"
   ]
  },
  {
   "cell_type": "code",
   "execution_count": 43,
   "id": "e2703e9e-ba91-4005-bb3e-a2c5fb393194",
   "metadata": {},
   "outputs": [
    {
     "data": {
      "text/plain": [
       "[1, 4, 9]"
      ]
     },
     "execution_count": 43,
     "metadata": {},
     "output_type": "execute_result"
    }
   ],
   "source": [
    "my_list = [1, 2, 3]\n",
    "new_list = []\n",
    "for ele in my_list:\n",
    "    tmp = ele * ele\n",
    "    new_list.append(tmp)\n",
    "\n",
    "new_list"
   ]
  },
  {
   "cell_type": "code",
   "execution_count": 44,
   "id": "d3331ea1-4ce7-4c5b-917c-3372c0d401a7",
   "metadata": {},
   "outputs": [
    {
     "data": {
      "text/plain": [
       "[1, 4, 9]"
      ]
     },
     "execution_count": 44,
     "metadata": {},
     "output_type": "execute_result"
    }
   ],
   "source": [
    "[ele*ele for ele in my_list]"
   ]
  },
  {
   "cell_type": "code",
   "execution_count": 45,
   "id": "45224b42-ed05-4e14-95f3-23f5d57ce05c",
   "metadata": {},
   "outputs": [
    {
     "data": {
      "text/plain": [
       "[10, 20, 30]"
      ]
     },
     "execution_count": 45,
     "metadata": {},
     "output_type": "execute_result"
    }
   ],
   "source": [
    "[ele*10 for ele in my_list]"
   ]
  },
  {
   "cell_type": "code",
   "execution_count": 46,
   "id": "8dbebaaf-04b8-494b-af0a-dcbfc058714d",
   "metadata": {},
   "outputs": [
    {
     "data": {
      "text/plain": [
       "'BUFFALO'"
      ]
     },
     "execution_count": 46,
     "metadata": {},
     "output_type": "execute_result"
    }
   ],
   "source": [
    "animal = 'buffalo'\n",
    "animal.upper()"
   ]
  },
  {
   "cell_type": "code",
   "execution_count": 49,
   "id": "9e86560a-aa9f-4e6b-9e89-2bb2df9d5528",
   "metadata": {},
   "outputs": [
    {
     "data": {
      "text/plain": [
       "'BUFFALO'"
      ]
     },
     "execution_count": 49,
     "metadata": {},
     "output_type": "execute_result"
    }
   ],
   "source": [
    "''.join([char.upper() for char in animal])"
   ]
  },
  {
   "cell_type": "code",
   "execution_count": 50,
   "id": "75e187ea-191d-42d4-9b29-d6bcff309147",
   "metadata": {},
   "outputs": [
    {
     "data": {
      "text/plain": [
       "['John', 'Jane', 'Doe']"
      ]
     },
     "execution_count": 50,
     "metadata": {},
     "output_type": "execute_result"
    }
   ],
   "source": [
    "students = ['john', 'jane', 'doe']\n",
    "[student.title() for student in students]"
   ]
  },
  {
   "cell_type": "code",
   "execution_count": 52,
   "id": "b41b6398-395d-4082-9355-9cbd92d7eb19",
   "metadata": {},
   "outputs": [
    {
     "data": {
      "text/plain": [
       "[False, False, False, False, False, False, False]"
      ]
     },
     "execution_count": 52,
     "metadata": {},
     "output_type": "execute_result"
    }
   ],
   "source": [
    "my_list = [0, '', [], {},  (), False, 0.0]\n",
    "[bool(ele) for ele in my_list]"
   ]
  },
  {
   "cell_type": "code",
   "execution_count": 53,
   "id": "f345e809-e4f4-4561-9806-536f4f220d0c",
   "metadata": {},
   "outputs": [
    {
     "data": {
      "text/plain": [
       "['0', '1', '2', '3', '4', '5']"
      ]
     },
     "execution_count": 53,
     "metadata": {},
     "output_type": "execute_result"
    }
   ],
   "source": [
    "my_list = range(6)\n",
    "[str(ele) for ele in my_list]"
   ]
  },
  {
   "cell_type": "code",
   "execution_count": 55,
   "id": "cc0d9a15-da7c-4316-afa4-dd35f8383e82",
   "metadata": {},
   "outputs": [
    {
     "data": {
      "text/plain": [
       "[2, 4, 6, 8, 10, 12, 14, 16, 18, 20]"
      ]
     },
     "execution_count": 55,
     "metadata": {},
     "output_type": "execute_result"
    }
   ],
   "source": [
    "numbers = range(1, 21)\n",
    "[number for number in numbers if number % 2 == 0]"
   ]
  },
  {
   "cell_type": "code",
   "execution_count": 56,
   "id": "9baaec9b-fea0-4fa1-9ea5-307d588445ea",
   "metadata": {},
   "outputs": [
    {
     "data": {
      "text/plain": [
       "[1, 3, 5, 7, 9, 11, 13, 15, 17, 19]"
      ]
     },
     "execution_count": 56,
     "metadata": {},
     "output_type": "execute_result"
    }
   ],
   "source": [
    "[number for number in numbers if number % 2 != 0]"
   ]
  },
  {
   "cell_type": "code",
   "execution_count": 59,
   "id": "a23634a6-680b-4fa9-82b9-fbba409bc299",
   "metadata": {},
   "outputs": [
    {
     "data": {
      "text/plain": [
       "[1,\n",
       " 2,\n",
       " 27,\n",
       " 4,\n",
       " 125,\n",
       " 6,\n",
       " 343,\n",
       " 8,\n",
       " 729,\n",
       " 10,\n",
       " 1331,\n",
       " 12,\n",
       " 2197,\n",
       " 14,\n",
       " 3375,\n",
       " 16,\n",
       " 4913,\n",
       " 18,\n",
       " 6859,\n",
       " 20]"
      ]
     },
     "execution_count": 59,
     "metadata": {},
     "output_type": "execute_result"
    }
   ],
   "source": [
    "[number if number % 2 == 0 else number**3 for number in numbers]"
   ]
  },
  {
   "cell_type": "code",
   "execution_count": 63,
   "id": "fbd78df7-bd63-4d47-87a9-f8973aa390ed",
   "metadata": {},
   "outputs": [
    {
     "data": {
      "text/plain": [
       "['r', 'l', 'l', 'y', 'w', 'n', 't', 't', 'g', 't', 'w', 'r', 'k']"
      ]
     },
     "execution_count": 63,
     "metadata": {},
     "output_type": "execute_result"
    }
   ],
   "source": [
    "sentence = 'I rEAlly want to gO to work'\n",
    "\n",
    "vowels = 'aeiou'\n",
    "\n",
    "[char for char in sentence if char.lower() not in vowels and char.strip()]"
   ]
  },
  {
   "cell_type": "code",
   "execution_count": 77,
   "id": "31b65c9e-01f1-4c2f-9d11-1f2d3251fde9",
   "metadata": {},
   "outputs": [
    {
     "name": "stdout",
     "output_type": "stream",
     "text": [
      "['Afghanistan', 'Albania', 'Algeria', 'Angola', 'Antigua & Barbuda', 'Argentina', 'Armenia', 'Aruba', 'Australia', 'Austria', 'Azerbaijan', 'Barbados', 'Belarus', 'Belgium', 'Belize', 'Benin', 'Bermuda', 'Bolivia', 'Bosnia Herzegovina', 'Brazil', 'Bulgaria', 'Burkina Faso', 'Cameroon', 'Canada', 'Cape Verde', 'Central African Rep.', 'Chad', 'Chile', 'China PR', 'Chinese Taipei', 'Colombia', 'Comoros', 'Congo', 'Costa Rica', 'Croatia', 'Cuba', 'Curacao', 'Cyprus', 'Czech Republic', 'DR Congo', 'Denmark', 'Dominican Republic', 'Ecuador', 'Egypt', 'El Salvador', 'England', 'Equatorial Guinea', 'Eritrea', 'Estonia', 'FIFA16_NationName_215', 'FYR Macedonia', 'Faroe Islands', 'Fiji', 'Finland', 'France', 'Gabon', 'Gambia', 'Georgia', 'Germany', 'Ghana', 'Gibraltar', 'Greece', 'Grenada', 'Guam', 'Guatemala', 'Guinea', 'Guinea Bissau', 'Guyana', 'Haiti', 'Honduras', 'Hungary', 'Iceland', 'India', 'Iran', 'Iraq', 'Israel', 'Italy', 'Ivory Coast', 'Jamaica', 'Japan', 'Kazakhstan', 'Kenya', 'Korea DPR', 'Korea Republic', 'Kosovo', 'Kuwait', 'Latvia', 'Lebanon', 'Lesotho', 'Liberia', 'Libya', 'Liechtenstein', 'Lithuania', 'Luxembourg', 'Madagascar', 'Mali', 'Malta', 'Mauritania', 'Mauritius', 'Mexico', 'Moldova', 'Montenegro', 'Montserrat', 'Morocco', 'Mozambique', 'Namibia', 'Nationality', 'Netherlands', 'New Zealand', 'Niger', 'Nigeria', 'Northern Ireland', 'Norway', 'Oman', 'Pakistan', 'Palestine', 'Panama', 'Papua New Guinea', 'Paraguay', 'Peru', 'Philippines', 'Poland', 'Portugal', 'Puerto Rico', 'Qatar', 'Republic of Ireland', 'Romania', 'Russia', 'San Marino', 'Saudi Arabia', 'Scotland', 'Senegal', 'Serbia', 'Sierra Leone', 'Slovakia', 'Slovenia', 'Somalia', 'South Africa', 'Spain', 'St Kitts Nevis', 'St Lucia', 'Suriname', 'Sweden', 'Switzerland', 'Syria', 'São Tomé & Príncipe', 'Tanzania', 'Timor-Leste', 'Togo', 'Trinidad & Tobago', 'Tunisia', 'Turkey', 'Uganda', 'Ukraine', 'United States', 'Uruguay', 'Uzbekistan', 'Venezuela', 'Wales', 'Zambia', 'Zimbabwe']\n"
     ]
    }
   ],
   "source": [
    "filename = 'soccer_players_statistics.csv'\n",
    "line_count = 0\n",
    "header = None\n",
    "nationalities = []\n",
    "with open(filename) as file:\n",
    "    for line in file:\n",
    "        line = line.strip()\n",
    "        if not line:\n",
    "            continue\n",
    "        line = line.split(',')\n",
    "\n",
    "        if not header:\n",
    "            header = line\n",
    "            nat_col = header.index('Nationality')\n",
    "            continue\n",
    "  \n",
    "        nationality = line[nat_col]\n",
    "        if nationality not in nationalities:\n",
    "            nationalities.append(nationality)\n",
    "            \n",
    "        # line_count += 1\n",
    "        # if line_count > 10:\n",
    "        #     break\n",
    "nationalities.sort()\n",
    "print(nationalities)"
   ]
  },
  {
   "cell_type": "code",
   "execution_count": 91,
   "id": "5449099e-d957-49d2-b44f-e6a315344696",
   "metadata": {},
   "outputs": [
    {
     "name": "stdout",
     "output_type": "stream",
     "text": [
      "['CAM', 'CB', 'CDM', 'CM', 'GK', 'LAM', 'LB', 'LCB', 'LCM', 'LDM', 'LF', 'LM', 'LS', 'LW', 'LWB', 'RAM', 'RB', 'RCB', 'RCM', 'RDM', 'RF', 'RM', 'RS', 'RW', 'RWB', 'ST', 'Sub']\n"
     ]
    }
   ],
   "source": [
    "def get_values_by_column_name(column_name, unique=True):\n",
    "    filename = 'soccer_players_statistics.csv'\n",
    "    header = None\n",
    "    values = []\n",
    "    with open(filename) as file:\n",
    "        for line in file:\n",
    "            line = line.strip()\n",
    "            if not line:\n",
    "                continue\n",
    "            line = line.split(',')\n",
    "    \n",
    "            if not header:\n",
    "                header = line\n",
    "                try:\n",
    "                    column_index = header.index(column_name)\n",
    "                except:\n",
    "                    print(f'Column Name {column_name} not found!')\n",
    "                    return False\n",
    "                continue\n",
    "\n",
    "            value = line[column_index]\n",
    "            if value.strip():\n",
    "                if unique:\n",
    "                    if value not in values:\n",
    "                        values.append(value)\n",
    "                else:\n",
    "                    values.append(value)\n",
    "    values.sort()\n",
    "    return values\n",
    "\n",
    "values = get_values_by_column_name('National_Position')\n",
    "print(values)"
   ]
  },
  {
   "cell_type": "code",
   "execution_count": 94,
   "id": "091a6bf7-5924-4e04-864c-714a03db6f2b",
   "metadata": {},
   "outputs": [
    {
     "data": {
      "text/plain": [
       "(94.0, 45.0, 69.06)"
      ]
     },
     "execution_count": 94,
     "metadata": {},
     "output_type": "execute_result"
    }
   ],
   "source": [
    "def stats(column_name):\n",
    "    # values = get_unique_values_by_column_name(column_name)\n",
    "    # values = [float(value) for value in values]\n",
    "\n",
    "    values = [float(value) for value in get_values_by_column_name(column_name)]\n",
    "\n",
    "    mean = round(sum(values)/len(values), 2)\n",
    "    return (max(values), min(values), mean)\n",
    "stats('Rating')"
   ]
  },
  {
   "cell_type": "code",
   "execution_count": 104,
   "id": "a19746e8-ef0e-437b-a87f-168d009979aa",
   "metadata": {},
   "outputs": [
    {
     "name": "stdout",
     "output_type": "stream",
     "text": [
      "30.0 0.0\n"
     ]
    }
   ],
   "source": [
    "def extract_columns(column_names):\n",
    "    filename = 'soccer_players_statistics.csv'\n",
    "    header = None\n",
    "    values = []\n",
    "    with open(filename) as file:\n",
    "        for line in file:\n",
    "            line = line.strip()\n",
    "            if not line:\n",
    "                continue\n",
    "            line = line.split(',')\n",
    "    \n",
    "            if not header:\n",
    "                header = line\n",
    "                try:\n",
    "                    column_indices = [header.index(column_name) for column_name in column_names]\n",
    "                except:\n",
    "                    print(f'Column Names {column_names} not found!')\n",
    "                    return False\n",
    "                continue\n",
    "\n",
    "            values.append([line[index] for index in column_indices])\n",
    "\n",
    "    return values\n",
    "                \n",
    "\n",
    "values = extract_columns(['Club_Joining', 'Contract_Expiry'])\n",
    "max_value = float('-inf')\n",
    "min_value = float('inf')\n",
    "for joining, expiry in values:\n",
    "    try:\n",
    "        joining = float(joining.split('/')[-1])\n",
    "    except:\n",
    "        continue\n",
    "        \n",
    "    expiry = float(expiry)\n",
    "    diff = expiry - joining\n",
    "    if diff > max_value:\n",
    "        max_value = diff\n",
    "    if diff < min_value:\n",
    "        min_value = diff\n",
    "\n",
    "\n",
    "print(max_value, min_value)\n",
    "    \n"
   ]
  },
  {
   "cell_type": "code",
   "execution_count": null,
   "id": "568ab422-81d2-4b6f-9bd5-857be5895d4f",
   "metadata": {},
   "outputs": [],
   "source": []
  }
 ],
 "metadata": {
  "kernelspec": {
   "display_name": "Python 3 (ipykernel)",
   "language": "python",
   "name": "python3"
  },
  "language_info": {
   "codemirror_mode": {
    "name": "ipython",
    "version": 3
   },
   "file_extension": ".py",
   "mimetype": "text/x-python",
   "name": "python",
   "nbconvert_exporter": "python",
   "pygments_lexer": "ipython3",
   "version": "3.12.4"
  }
 },
 "nbformat": 4,
 "nbformat_minor": 5
}
