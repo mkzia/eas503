{
 "cells": [
  {
   "cell_type": "code",
   "execution_count": 1,
   "id": "7952f784-802a-4d7a-b33d-84fc7e75bfa3",
   "metadata": {},
   "outputs": [
    {
     "name": "stdout",
     "output_type": "stream",
     "text": [
      "11, 10\n"
     ]
    }
   ],
   "source": [
    "class Point:\n",
    "    def __init__(self, x=0, y=0):\n",
    "        self.x = x\n",
    "        self.y = y\n",
    "\n",
    "    def __add__(self, another_point):\n",
    "        return Point(self.x + another_point.x, self.y + another_point.y)\n",
    "\n",
    "    def __sub__(self, another_point):\n",
    "        return Point(self.x - another_point.x, self.y - another_point.y)\n",
    "\n",
    "    def __str__(self):\n",
    "        return f'{self.x}, {self.y}'\n",
    "\n",
    "\n",
    "p1 = Point(3, 4)\n",
    "p2 = Point(8, 6)\n",
    "print(p2 + p1)"
   ]
  },
  {
   "cell_type": "code",
   "execution_count": 2,
   "id": "6b5c7e24-7397-45fb-af03-edd9b29fe1c2",
   "metadata": {},
   "outputs": [
    {
     "name": "stdout",
     "output_type": "stream",
     "text": [
      "\n",
      "Print class_variable\n",
      "t1.class_variable:  1\n",
      "t2.class_variable:  1\n"
     ]
    }
   ],
   "source": [
    "class TestClass:\n",
    "    class_variable = 1 # Belongs to the class. Shared by all instances\n",
    "\n",
    "\n",
    "\n",
    "t1 = TestClass()\n",
    "t2 = TestClass()\n",
    "\n",
    "\n",
    "print('\\nPrint class_variable')\n",
    "print('t1.class_variable: ', t1.class_variable)\n",
    "print('t2.class_variable: ', t2.class_variable)\n"
   ]
  },
  {
   "cell_type": "code",
   "execution_count": 3,
   "id": "21e718e3-162a-42f9-a78b-f8c432148c79",
   "metadata": {},
   "outputs": [
    {
     "name": "stdout",
     "output_type": "stream",
     "text": [
      "\n",
      "Change class_variable in class definition and print class_variable\n",
      "t1.class_variable:  2\n",
      "t2.class_variable:  2\n"
     ]
    }
   ],
   "source": [
    "print('\\nChange class_variable in class definition and print class_variable')\n",
    "TestClass.class_variable = 2\n",
    "print('t1.class_variable: ', t1.class_variable)\n",
    "print('t2.class_variable: ', t2.class_variable)"
   ]
  },
  {
   "cell_type": "code",
   "execution_count": 4,
   "id": "82f1e8f1-eee5-4023-94de-5a9a4e1a950e",
   "metadata": {},
   "outputs": [
    {
     "name": "stdout",
     "output_type": "stream",
     "text": [
      "\n",
      "Change class_variable in instance t1 and print class_variable\n",
      "t1.class_variable:  3\n",
      "t2.class_variable:  2\n"
     ]
    }
   ],
   "source": [
    "print('\\nChange class_variable in instance t1 and print class_variable')\n",
    "t1.class_variable = 3\n",
    "print('t1.class_variable: ', t1.class_variable)\n",
    "print('t2.class_variable: ', t2.class_variable)"
   ]
  },
  {
   "cell_type": "code",
   "execution_count": 5,
   "id": "f1fecedd-b3c1-4c22-a26b-dfd8f0109300",
   "metadata": {},
   "outputs": [
    {
     "name": "stdout",
     "output_type": "stream",
     "text": [
      "\n",
      "Change class_variable in instance t2 and print class_variable\n",
      "t1.class_variable:  3\n",
      "t2.class_variable:  4\n"
     ]
    }
   ],
   "source": [
    "print('\\nChange class_variable in instance t2 and print class_variable')\n",
    "t2.class_variable = 4\n",
    "print('t1.class_variable: ', t1.class_variable)\n",
    "print('t2.class_variable: ', t2.class_variable)"
   ]
  },
  {
   "cell_type": "code",
   "execution_count": 6,
   "id": "280ce1ed-ed49-46e5-a4f2-3696cd556e75",
   "metadata": {},
   "outputs": [
    {
     "data": {
      "text/plain": [
       "2"
      ]
     },
     "execution_count": 6,
     "metadata": {},
     "output_type": "execute_result"
    }
   ],
   "source": [
    "t3 = TestClass()\n",
    "t3.class_variable"
   ]
  },
  {
   "cell_type": "code",
   "execution_count": 7,
   "id": "5c1d08d8-ce46-48c0-bd5d-da9e938fb9f3",
   "metadata": {},
   "outputs": [],
   "source": [
    "class TestClass:\n",
    "    class_variable = 1 # Belongs to the class. Shared by all instances\n",
    "\n",
    "    def __init__(self, instance_variable):\n",
    "        self.instance_variable = instance_variable\n",
    "\n",
    "\n",
    "t1 = TestClass(1)\n",
    "t2 = TestClass(2)"
   ]
  },
  {
   "cell_type": "code",
   "execution_count": 8,
   "id": "93f091b9-7e44-4912-a095-6cf97722d369",
   "metadata": {},
   "outputs": [
    {
     "name": "stdout",
     "output_type": "stream",
     "text": [
      "\n",
      "Print class_variable\n",
      "t1.class_variable:  1\n",
      "t2.class_variable:  1\n"
     ]
    }
   ],
   "source": [
    "\n",
    "print('\\nPrint class_variable')\n",
    "print('t1.class_variable: ', t1.class_variable)\n",
    "print('t2.class_variable: ', t2.class_variable)\n"
   ]
  },
  {
   "cell_type": "code",
   "execution_count": 9,
   "id": "b5588ae2-95b9-4ab0-913e-e153b5d91661",
   "metadata": {},
   "outputs": [
    {
     "name": "stdout",
     "output_type": "stream",
     "text": [
      "\n",
      "Print instance_variable\n",
      "t1.instance_variable:  1\n",
      "t2.instance_variable:  2\n"
     ]
    }
   ],
   "source": [
    "print('\\nPrint instance_variable')\n",
    "print('t1.instance_variable: ', t1.instance_variable)\n",
    "print('t2.instance_variable: ', t2.instance_variable)\n"
   ]
  },
  {
   "cell_type": "code",
   "execution_count": 10,
   "id": "200098e9-8f96-4160-a5d9-fcdfd425c639",
   "metadata": {},
   "outputs": [
    {
     "name": "stdout",
     "output_type": "stream",
     "text": [
      "\n",
      "Change class_variable in class definition and print class_variable\n",
      "t1.class_variable:  2\n",
      "t1.class_variable:  2\n"
     ]
    }
   ],
   "source": [
    "print('\\nChange class_variable in class definition and print class_variable')\n",
    "TestClass.class_variable = 2\n",
    "print('t1.class_variable: ', t1.class_variable)\n",
    "print('t1.class_variable: ', t2.class_variable)"
   ]
  },
  {
   "cell_type": "code",
   "execution_count": 11,
   "id": "0b81fc7f-05bb-4adc-996a-6ed36eb5f202",
   "metadata": {},
   "outputs": [
    {
     "name": "stdout",
     "output_type": "stream",
     "text": [
      "\n",
      "Change instance_variable for t1 and print instance_variable\n",
      "t1.instance_variable:  10\n",
      "t2.instance_variable:  2\n"
     ]
    }
   ],
   "source": [
    "print('\\nChange instance_variable for t1 and print instance_variable')\n",
    "t1.instance_variable = 10\n",
    "print('t1.instance_variable: ', t1.instance_variable)\n",
    "print('t2.instance_variable: ', t2.instance_variable)"
   ]
  },
  {
   "cell_type": "code",
   "execution_count": 12,
   "id": "74b215c2-aefa-419f-8de2-edf2811a72b9",
   "metadata": {},
   "outputs": [
    {
     "name": "stdout",
     "output_type": "stream",
     "text": [
      "\n",
      "Change instance_variable for t2 and print instance_variable\n",
      "t1.instance_variable:  10\n",
      "t2.instance_variable:  20\n"
     ]
    }
   ],
   "source": [
    "\n",
    "print('\\nChange instance_variable for t2 and print instance_variable')\n",
    "t2.instance_variable = 20\n",
    "print('t1.instance_variable: ', t1.instance_variable)\n",
    "print('t2.instance_variable: ', t2.instance_variable)"
   ]
  },
  {
   "cell_type": "code",
   "execution_count": 13,
   "id": "419985c0-27e2-4682-9d12-72a0e07b76f6",
   "metadata": {},
   "outputs": [
    {
     "name": "stdout",
     "output_type": "stream",
     "text": [
      "\n",
      "Change class_variable in instance t1 and print class_variable\n",
      "t1.class_variable:  3\n",
      "t2.class_variable:  2\n"
     ]
    }
   ],
   "source": [
    "print('\\nChange class_variable in instance t1 and print class_variable')\n",
    "t1.class_variable = 3\n",
    "print('t1.class_variable: ', t1.class_variable)\n",
    "print('t2.class_variable: ', t2.class_variable)\n"
   ]
  },
  {
   "cell_type": "code",
   "execution_count": 14,
   "id": "e95729ae-0b75-47b2-ad52-0b3ef156cacd",
   "metadata": {},
   "outputs": [
    {
     "name": "stdout",
     "output_type": "stream",
     "text": [
      "@staticmethod add:  7\n"
     ]
    }
   ],
   "source": [
    "class TestClass:\n",
    "    class_variable = 1\n",
    "\n",
    "    # @staticmethod are bound to a class rather than object. Therefore, to use them, you do not have\n",
    "    # to instantiate an object.\n",
    "    # NOTE: staticmethods do no have access to class properties (variables or methods).\n",
    "    # This means they cannot access class_variable.\n",
    "    # Such methods are used when you do not want subclasses to change/overwrite a specific method.\n",
    "\n",
    "    @staticmethod\n",
    "    def add(number1, number2):\n",
    "        return number1 + number2\n",
    "\n",
    "print('@staticmethod add: ', TestClass.add(3,4))\n"
   ]
  },
  {
   "cell_type": "code",
   "execution_count": 15,
   "id": "86f438de-ff44-4417-a51c-4af9127aadaa",
   "metadata": {},
   "outputs": [
    {
     "ename": "NameError",
     "evalue": "name 'class_variable' is not defined",
     "output_type": "error",
     "traceback": [
      "\u001b[0;31m---------------------------------------------------------------------------\u001b[0m",
      "\u001b[0;31mNameError\u001b[0m                                 Traceback (most recent call last)",
      "Cell \u001b[0;32mIn[15], line 13\u001b[0m\n\u001b[1;32m     10\u001b[0m     \u001b[38;5;129m@staticmethod\u001b[39m\n\u001b[1;32m     11\u001b[0m     \u001b[38;5;28;01mdef\u001b[39;00m \u001b[38;5;21madd\u001b[39m(number1, number2):\n\u001b[1;32m     12\u001b[0m         \u001b[38;5;28;01mreturn\u001b[39;00m number1 \u001b[38;5;241m+\u001b[39m number2 \u001b[38;5;241m+\u001b[39m class_variable\n\u001b[0;32m---> 13\u001b[0m \u001b[38;5;28mprint\u001b[39m(\u001b[38;5;124m'\u001b[39m\u001b[38;5;124m@staticmethod add: \u001b[39m\u001b[38;5;124m'\u001b[39m, \u001b[43mTestClass2\u001b[49m\u001b[38;5;241;43m.\u001b[39;49m\u001b[43madd\u001b[49m\u001b[43m(\u001b[49m\u001b[38;5;241;43m3\u001b[39;49m\u001b[43m,\u001b[49m\u001b[38;5;241;43m4\u001b[39;49m\u001b[43m)\u001b[49m)\n",
      "Cell \u001b[0;32mIn[15], line 12\u001b[0m, in \u001b[0;36mTestClass2.add\u001b[0;34m(number1, number2)\u001b[0m\n\u001b[1;32m     10\u001b[0m \u001b[38;5;129m@staticmethod\u001b[39m\n\u001b[1;32m     11\u001b[0m \u001b[38;5;28;01mdef\u001b[39;00m \u001b[38;5;21madd\u001b[39m(number1, number2):\n\u001b[0;32m---> 12\u001b[0m     \u001b[38;5;28;01mreturn\u001b[39;00m number1 \u001b[38;5;241m+\u001b[39m number2 \u001b[38;5;241m+\u001b[39m \u001b[43mclass_variable\u001b[49m\n",
      "\u001b[0;31mNameError\u001b[0m: name 'class_variable' is not defined"
     ]
    }
   ],
   "source": [
    "class TestClass2:\n",
    "    class_variable = 1\n",
    "\n",
    "    # @staticmethod are bound to class rather than object. Therefore, to use them, you do not have\n",
    "    # to instantiate an object.\n",
    "    # NOTE: staticmethods do no have access to class properties (variables or methods).\n",
    "    # This means they cannot access class_variable.\n",
    "    # Such methods are used when you do not want subclasses to change/overwrite a specific method.\n",
    "\n",
    "    @staticmethod\n",
    "    def add(number1, number2):\n",
    "        return number1 + number2 + class_variable\n",
    "print('@staticmethod add: ', TestClass2.add(3,4))"
   ]
  },
  {
   "cell_type": "code",
   "execution_count": 16,
   "id": "01c4d95d-6463-4ea7-a49a-4569fdec849f",
   "metadata": {},
   "outputs": [
    {
     "name": "stdout",
     "output_type": "stream",
     "text": [
      "@classmethod add:  11\n"
     ]
    }
   ],
   "source": [
    "class TestClass:\n",
    "    class_variable = 1\n",
    "\n",
    "    # @classmethod are bound to class rather than object. Therefore, to use them, you do not have\n",
    "    # to instantiate an object.\n",
    "    # NOTE: Unlike staticmethods, classmethods do have access to class properties (variables or methods).\n",
    "    # This means they can access class_variable.\n",
    "\n",
    "    @classmethod\n",
    "    def add(cls, number1, number2):\n",
    "        return number1 + number2\n",
    "print('@classmethod add: ', TestClass.add(5,6))"
   ]
  },
  {
   "cell_type": "code",
   "execution_count": 18,
   "id": "ebf395fa-410c-48a9-bfb9-f1fe0e10fa47",
   "metadata": {},
   "outputs": [
    {
     "name": "stdout",
     "output_type": "stream",
     "text": [
      "@classmethod add -- access to class variable:  12\n"
     ]
    }
   ],
   "source": [
    "class TestClass2:\n",
    "    class_variable = 1\n",
    "\n",
    "    # @classmethod are bound to class rather than object. Therefore, to use them, you do not have\n",
    "    # to instantiate an object.\n",
    "    # NOTE: Unlike staticmethods, classmethods do have access to class properties (variables or methods).\n",
    "    # This means they can access class_variable.\n",
    "\n",
    "    @classmethod\n",
    "    def add(cls, number1, number2):\n",
    "        return number1 + number2 + cls.class_variable\n",
    "\n",
    "print('@classmethod add -- access to class variable: ', TestClass2.add(5,6))"
   ]
  },
  {
   "cell_type": "code",
   "execution_count": 19,
   "id": "9f6297b0-e861-4934-8492-733387967930",
   "metadata": {},
   "outputs": [
    {
     "name": "stdout",
     "output_type": "stream",
     "text": [
      "add_static:  27\n",
      "add_class:  28\n"
     ]
    }
   ],
   "source": [
    "class TestClass:\n",
    "    class_variable = 1\n",
    "\n",
    "    @staticmethod\n",
    "    def add_static(number1, number2):\n",
    "        return number1 + number2\n",
    "\n",
    "    @classmethod\n",
    "    def add_class(cls, number1, number2):\n",
    "        return number1 + number2 + cls.class_variable\n",
    "\n",
    "\n",
    "    def add_object(self, number1, number2):\n",
    "        return number1 + number2 + self.class_variable + 29\n",
    "\n",
    "\n",
    "print('add_static: ', TestClass.add_static(13,14))\n",
    "print('add_class: ', TestClass.add_class(13,14))"
   ]
  },
  {
   "cell_type": "code",
   "execution_count": 20,
   "id": "6e8187df-3335-4bc1-9912-408dcedb3d66",
   "metadata": {},
   "outputs": [],
   "source": [
    "t1 = TestClass()"
   ]
  },
  {
   "cell_type": "code",
   "execution_count": 21,
   "id": "8e0847ad-1d8c-4b11-b0af-dc3f71a2476b",
   "metadata": {},
   "outputs": [
    {
     "name": "stdout",
     "output_type": "stream",
     "text": [
      "Call from object -- add_object:  57\n"
     ]
    }
   ],
   "source": [
    "print('Call from object -- add_object: ', t1.add_object(13, 14))"
   ]
  },
  {
   "cell_type": "code",
   "execution_count": null,
   "id": "e3a80004-d670-47f2-9179-dd7ff4fafd56",
   "metadata": {},
   "outputs": [],
   "source": [
    "print('Call from class -- add_object: ', TestClass.add_object(t1, 13, 14))"
   ]
  },
  {
   "cell_type": "code",
   "execution_count": 34,
   "id": "9e2ef2de-b424-4e00-89ec-f669eae9d70b",
   "metadata": {},
   "outputs": [
    {
     "data": {
      "text/plain": [
       "Point(8, 10)"
      ]
     },
     "execution_count": 34,
     "metadata": {},
     "output_type": "execute_result"
    }
   ],
   "source": [
    "class Point:\n",
    "    def __init__(self, x=0, y=0):\n",
    "        self.x = x\n",
    "        self.y = y\n",
    "\n",
    "    def __add__(self, another_point):\n",
    "        return Point(self.x + another_point.x, self.y + another_point.y)\n",
    "\n",
    "    def __sub__(self, another_point):\n",
    "        return Point(self.x - another_point.x, self.y - another_point.y)\n",
    "\n",
    "    def __repr__(self):\n",
    "        return f\"Point({self.x}, {self.y})\"\n",
    "    \n",
    "    def __str__(self):\n",
    "        return f'{self.x}, {self.y}'\n",
    "\n",
    "p1 = Point(3,4) \n",
    "p2 = Point(5, 6)\n",
    "p1 + p2 # --> Point.__add__(p1, p2)"
   ]
  },
  {
   "cell_type": "code",
   "execution_count": 28,
   "id": "837e7597-8753-4726-a7f1-c60b8f0ba1d8",
   "metadata": {},
   "outputs": [
    {
     "data": {
      "text/plain": [
       "Point(8, 10)"
      ]
     },
     "execution_count": 28,
     "metadata": {},
     "output_type": "execute_result"
    }
   ],
   "source": [
    "Point.__add__(p1, p2)"
   ]
  },
  {
   "cell_type": "code",
   "execution_count": 35,
   "id": "307b8aa5-6093-4ff6-94d3-8d625f2c8f58",
   "metadata": {},
   "outputs": [
    {
     "data": {
      "text/plain": [
       "'5, 6'"
      ]
     },
     "execution_count": 35,
     "metadata": {},
     "output_type": "execute_result"
    }
   ],
   "source": [
    "Point.__str__(p2)"
   ]
  },
  {
   "cell_type": "code",
   "execution_count": 40,
   "id": "8d357a40-dc96-4774-8594-f9a0071ea989",
   "metadata": {},
   "outputs": [
    {
     "data": {
      "text/plain": [
       "90"
      ]
     },
     "execution_count": 40,
     "metadata": {},
     "output_type": "execute_result"
    }
   ],
   "source": [
    "class MyClass:\n",
    "    def __init__(self, **kwargs):\n",
    "        self.data = {}\n",
    "              \n",
    "    def __setitem__(self, key, value): # MyCLass[key] = value\n",
    "        self.data[key] = value\n",
    "        \n",
    "    def __getitem__(self, key): # MyClass[key]\n",
    "        return self.data[key]      \n",
    "\n",
    "my_class = MyClass()\n",
    "my_class['Exam1'] = 90\n",
    "my_class['Exam1']"
   ]
  },
  {
   "cell_type": "code",
   "execution_count": 39,
   "id": "1dc7c399-9746-4230-b8bc-eed06932f533",
   "metadata": {},
   "outputs": [
    {
     "data": {
      "text/plain": [
       "2"
      ]
     },
     "execution_count": 39,
     "metadata": {},
     "output_type": "execute_result"
    }
   ],
   "source": [
    "my_dict = {}\n",
    "my_dict[1] = 2 # __setitem__\n",
    "my_dict[1] # _getitem__"
   ]
  },
  {
   "cell_type": "code",
   "execution_count": 64,
   "id": "ad47a7ee-40e8-46f6-a2bc-a3cc82bee253",
   "metadata": {},
   "outputs": [],
   "source": [
    "from collections import defaultdict\n",
    "class MyClass:\n",
    "    def __init__(self, **kwargs):\n",
    "        self.data = defaultdict(list)\n",
    "        header = kwargs.get('header') \n",
    "        lines = kwargs.get('lines')\n",
    "        if header:\n",
    "            header = lines.pop(0)\n",
    "        else:\n",
    "            header = list(range(len(lines[0])))\n",
    "        \n",
    "        # Store the data as a dictionary\n",
    "        for line in lines:\n",
    "            row = dict(zip(header, line))\n",
    "            for key,value in row.items():\n",
    "                self.data[key].append(value)\n",
    "\n",
    "\n",
    "    def __setitem__(self, key, value): # MyCLass[key] = value\n",
    "        self.data[key] = value\n",
    "    \n",
    "    def __getitem__(self, key): # MyClass[key]\n",
    "        if type(key) in (str, int):\n",
    "            return self.data[key]   \n",
    "        elif isinstance(key, list):\n",
    "            output = []\n",
    "            for k in key: # ['first_name', 'last_name']\n",
    "                output.append(self.data[k])\n",
    "            output = list(zip(*output))              \n",
    "            return output"
   ]
  },
  {
   "cell_type": "code",
   "execution_count": 61,
   "id": "f25df341-f478-456e-bae7-07f0daeb6e40",
   "metadata": {},
   "outputs": [
    {
     "data": {
      "text/plain": [
       "[[1, 2, 3], [4, 5, 6], [7, 8, 9]]"
      ]
     },
     "execution_count": 61,
     "metadata": {},
     "output_type": "execute_result"
    }
   ],
   "source": [
    "x = [1, 2, 3]\n",
    "y = [4, 5, 6]\n",
    "z = [7, 8, 9]\n",
    "output = [x, y, z]\n",
    "output\n",
    "\n",
    "# [ \n",
    "#     [1, 4]\n",
    "#     [2, 5]\n",
    "# ]"
   ]
  },
  {
   "cell_type": "code",
   "execution_count": 62,
   "id": "275f5dfc-be35-4c32-9137-6c84f4079c60",
   "metadata": {},
   "outputs": [
    {
     "data": {
      "text/plain": [
       "[(1, 4, 7), (2, 5, 8), (3, 6, 9)]"
      ]
     },
     "execution_count": 62,
     "metadata": {},
     "output_type": "execute_result"
    }
   ],
   "source": [
    "list(zip(*output))\n",
    "\n",
    "zip(x, y, z)"
   ]
  },
  {
   "cell_type": "code",
   "execution_count": 63,
   "id": "8c109027-e150-4b95-a9df-263823dfa6c0",
   "metadata": {},
   "outputs": [
    {
     "ename": "ValueError",
     "evalue": "dictionary update sequence element #0 has length 3; 2 is required",
     "output_type": "error",
     "traceback": [
      "\u001b[0;31m---------------------------------------------------------------------------\u001b[0m",
      "\u001b[0;31mValueError\u001b[0m                                Traceback (most recent call last)",
      "Cell \u001b[0;32mIn[63], line 1\u001b[0m\n\u001b[0;32m----> 1\u001b[0m \u001b[38;5;28;43mdict\u001b[39;49m\u001b[43m(\u001b[49m\u001b[38;5;28;43mzip\u001b[39;49m\u001b[43m(\u001b[49m\u001b[38;5;241;43m*\u001b[39;49m\u001b[43moutput\u001b[49m\u001b[43m)\u001b[49m\u001b[43m)\u001b[49m\n",
      "\u001b[0;31mValueError\u001b[0m: dictionary update sequence element #0 has length 3; 2 is required"
     ]
    }
   ],
   "source": [
    "dict(zip(*output))"
   ]
  },
  {
   "cell_type": "code",
   "execution_count": 65,
   "id": "7c9d2be9-1b9e-406b-92f9-e36cb3eb9806",
   "metadata": {},
   "outputs": [],
   "source": [
    "filename = 'people.tsv'\n",
    "people = []\n",
    "with open(filename) as f:\n",
    "    for line in f:\n",
    "        line = line.strip()\n",
    "        if not line:\n",
    "            continue\n",
    "        people.append(line.strip().split('\\t'))\n",
    "\n",
    "\n",
    "mc = MyClass(lines=people, header=True)"
   ]
  },
  {
   "cell_type": "code",
   "execution_count": 67,
   "id": "87f1cd75-f4b3-4923-9593-75350f9c85cf",
   "metadata": {},
   "outputs": [
    {
     "data": {
      "text/plain": [
       "[('xdunn@hotmail.com', 'Michael'),\n",
       " ('iedwards@yahoo.com', 'Jackson'),\n",
       " ('arogers@smith.com', 'Patrick'),\n",
       " ('plewis@chavez.com', 'Jeffrey'),\n",
       " ('fred92@yahoo.com', 'James'),\n",
       " ('mmiller@lynch.com', 'Greg'),\n",
       " ('steven49@gmail.com', 'Joshua'),\n",
       " ('amanda23@hotmail.com', 'Todd'),\n",
       " ('jackduke@hotmail.com', 'Stephen'),\n",
       " ('rhodesnicholas@hotmail.com', 'Mariah'),\n",
       " ('smithashlee@yahoo.com', 'Anthony'),\n",
       " ('ubriggs@hill.info', 'Patrick'),\n",
       " ('brownclarence@gonzalez-moore.com', 'Gerald'),\n",
       " ('teresa30@carpenter-warner.com', 'Christopher'),\n",
       " ('leekatherine@williams.com', 'Shane'),\n",
       " ('chasewatkins@perez-phillips.com', 'Crystal'),\n",
       " ('hsherman@gmail.com', 'Jeffrey'),\n",
       " ('martinezdaniel@hotmail.com', 'Brianna'),\n",
       " ('justinfischer@gmail.com', 'Brandon'),\n",
       " ('cindy08@gmail.com', 'Brianna'),\n",
       " ('carolharrington@fleming.org', 'Austin'),\n",
       " ('lopezcarl@johnson.com', 'Patrick'),\n",
       " ('michael74@yahoo.com', 'Joseph'),\n",
       " ('gonzalezrobert@hotmail.com', 'Sharon'),\n",
       " ('dawnjohnson@gmail.com', 'Krystal'),\n",
       " ('watersryan@gmail.com', 'Diana'),\n",
       " ('byoung@gmail.com', 'Sean'),\n",
       " ('vhanson@yahoo.com', 'Robin'),\n",
       " ('bfletcher@yahoo.com', 'Robyn'),\n",
       " ('colleengarrison@hotmail.com', 'Tiffany'),\n",
       " ('catherine23@gmail.com', 'Lori'),\n",
       " ('xmurphy@yahoo.com', 'Sabrina'),\n",
       " ('aaronrichard@middleton.net', 'Miguel'),\n",
       " ('jesse93@best.com', 'Dustin'),\n",
       " ('johnperez@johnson.com', 'Michael'),\n",
       " ('jessica62@yahoo.com', 'Robert'),\n",
       " ('jennifer87@gmail.com', 'Brandon'),\n",
       " ('morenolindsay@bass.org', 'Bruce'),\n",
       " ('robertdavis@hotmail.com', 'Linda'),\n",
       " ('melanie81@rogers.com', 'Kathleen'),\n",
       " ('clineerin@hotmail.com', 'Wesley'),\n",
       " ('terri95@hotmail.com', 'Debbie'),\n",
       " ('danielle65@yahoo.com', 'Kayla'),\n",
       " ('sjackson@yahoo.com', 'Stephanie'),\n",
       " ('douglas63@yahoo.com', 'Caleb'),\n",
       " ('woodardlindsey@yahoo.com', 'Valerie'),\n",
       " ('suebrown@yahoo.com', 'Mary'),\n",
       " ('swhite@yahoo.com', 'Angela'),\n",
       " ('martinkimberly@lopez.com', 'Haley'),\n",
       " ('jessica11@hotmail.com', 'Charles'),\n",
       " ('hsmith@baker.com', 'Lisa'),\n",
       " ('fklein@yahoo.com', 'Jonathan'),\n",
       " ('ryan32@skinner.com', 'Latoya'),\n",
       " ('tmurphy@flores.biz', 'Kim'),\n",
       " ('mary64@ray.org', 'Mary'),\n",
       " ('jennajoseph@yahoo.com', 'Kenneth'),\n",
       " ('watsonsamuel@gmail.com', 'Phillip'),\n",
       " ('xvelasquez@hughes.com', 'Erica'),\n",
       " ('april99@gmail.com', 'Jason'),\n",
       " ('kfletcher@yahoo.com', 'Lee'),\n",
       " ('xchurch@hotmail.com', 'Randy'),\n",
       " ('megan24@stewart.net', 'Kristina'),\n",
       " ('sydneycollins@hunter.com', 'Beth'),\n",
       " ('robertbowen@chavez-ortega.com', 'Michael'),\n",
       " ('christiandanielle@yahoo.com', 'Elizabeth'),\n",
       " ('kdavidson@gordon.com', 'Teresa'),\n",
       " ('bennettwanda@vega-guerra.net', 'David'),\n",
       " ('mark00@hotmail.com', 'Heather'),\n",
       " ('schaefernatalie@hotmail.com', 'Melissa'),\n",
       " ('moralesmartin@rodgers.com', 'Jennifer'),\n",
       " ('dprince@hotmail.com', 'Raymond'),\n",
       " ('cparks@valdez-hudson.com', 'Angela'),\n",
       " ('martinezrichard@yahoo.com', 'Betty'),\n",
       " ('kpena@yahoo.com', 'Thomas'),\n",
       " ('julie68@gmail.com', 'Jonathan'),\n",
       " ('lukebradford@hotmail.com', 'Stacey'),\n",
       " ('ystewart@yahoo.com', 'Judy'),\n",
       " ('cory33@king-shaw.net', 'Ashley'),\n",
       " ('zcalhoun@gmail.com', 'Zachary'),\n",
       " ('michaelhall@hotmail.com', 'Erica'),\n",
       " ('kristentaylor@yahoo.com', 'Savannah'),\n",
       " ('stephen63@yahoo.com', 'Zachary'),\n",
       " ('bryanmartin@gmail.com', 'Timothy'),\n",
       " ('kristinavelasquez@gmail.com', 'Ann'),\n",
       " ('denise01@burns.org', 'Ruth'),\n",
       " ('beancody@jones.com', 'Daniel'),\n",
       " ('ubradley@yahoo.com', 'Paul'),\n",
       " ('anthony75@yahoo.com', 'Jason'),\n",
       " ('antonio52@gmail.com', 'Margaret'),\n",
       " ('johnlewis@hotmail.com', 'Jeremy'),\n",
       " ('nmoore@hotmail.com', 'Mark'),\n",
       " ('nchurch@yahoo.com', 'Darius'),\n",
       " ('piercejenna@gmail.com', 'Tracy'),\n",
       " ('ddavidson@hotmail.com', 'Christina'),\n",
       " ('ndelacruz@yahoo.com', 'Megan'),\n",
       " ('jenniferadkins@griffin.biz', 'Timothy'),\n",
       " ('evansmiguel@yahoo.com', 'Tracie'),\n",
       " ('kenneththompson@baxter.com', 'Jason'),\n",
       " ('bcurtis@hotmail.com', 'Samantha'),\n",
       " ('phillipssean@hotmail.com', 'Michael')]"
      ]
     },
     "execution_count": 67,
     "metadata": {},
     "output_type": "execute_result"
    }
   ],
   "source": [
    "mc[['email', 'first_name']]"
   ]
  },
  {
   "cell_type": "code",
   "execution_count": 68,
   "id": "b38ef5ef-e3ca-46b0-b03d-386ad7eaf6b7",
   "metadata": {},
   "outputs": [],
   "source": [
    "people = tuple(people)\n",
    "filename = 'testdata.txt'\n",
    "grades = []\n",
    "with open(filename) as f:\n",
    "    for line in f:\n",
    "        line = line.strip()\n",
    "        if not line:\n",
    "            continue\n",
    "        grades.append(line.strip().split(','))\n",
    "mc = MyClass(lines=list(grades))"
   ]
  },
  {
   "cell_type": "code",
   "execution_count": 70,
   "id": "b7dba271-81f1-48db-9b54-ce505d8e3dc2",
   "metadata": {},
   "outputs": [
    {
     "data": {
      "text/plain": [
       "['student1',\n",
       " 'student2',\n",
       " 'student3',\n",
       " 'student4',\n",
       " 'student5',\n",
       " 'student6',\n",
       " 'student7',\n",
       " 'student8',\n",
       " 'student9',\n",
       " 'student10',\n",
       " 'student11',\n",
       " 'student12',\n",
       " 'student13',\n",
       " 'student14',\n",
       " 'student15',\n",
       " 'student16',\n",
       " 'student17',\n",
       " 'student18',\n",
       " 'student19',\n",
       " 'student20',\n",
       " 'student21',\n",
       " 'student22',\n",
       " 'student23',\n",
       " 'student24',\n",
       " 'student25',\n",
       " 'student26',\n",
       " 'student27',\n",
       " 'student28',\n",
       " 'student29',\n",
       " 'student30',\n",
       " 'student31',\n",
       " 'student32',\n",
       " 'student33',\n",
       " 'student34',\n",
       " 'student35',\n",
       " 'student36',\n",
       " 'student37',\n",
       " 'student38',\n",
       " 'student39',\n",
       " 'student40',\n",
       " 'student41',\n",
       " 'student42',\n",
       " 'student43',\n",
       " 'student44',\n",
       " 'student45',\n",
       " 'student46',\n",
       " 'student47',\n",
       " 'student48',\n",
       " 'student49',\n",
       " 'student50',\n",
       " 'student51',\n",
       " 'student52',\n",
       " 'student53',\n",
       " 'student54',\n",
       " 'student55',\n",
       " 'student56',\n",
       " 'student57',\n",
       " 'student58',\n",
       " 'student59',\n",
       " 'student60',\n",
       " 'student61',\n",
       " 'student62',\n",
       " 'student63',\n",
       " 'student64',\n",
       " 'student65',\n",
       " 'student66',\n",
       " 'student67',\n",
       " 'student68',\n",
       " 'student69',\n",
       " 'student70',\n",
       " 'student71',\n",
       " 'student72',\n",
       " 'student73',\n",
       " 'student74',\n",
       " 'student75',\n",
       " 'student76',\n",
       " 'student77',\n",
       " 'student78',\n",
       " 'student79',\n",
       " 'student80',\n",
       " 'student81',\n",
       " 'student82',\n",
       " 'student83',\n",
       " 'student84',\n",
       " 'student85',\n",
       " 'student86',\n",
       " 'student87',\n",
       " 'student88',\n",
       " 'student89',\n",
       " 'student90',\n",
       " 'student91',\n",
       " 'student92',\n",
       " 'student93',\n",
       " 'student94',\n",
       " 'student95',\n",
       " 'student96',\n",
       " 'student97',\n",
       " 'student98',\n",
       " 'student99',\n",
       " 'student100']"
      ]
     },
     "execution_count": 70,
     "metadata": {},
     "output_type": "execute_result"
    }
   ],
   "source": [
    "mc[0]"
   ]
  },
  {
   "cell_type": "code",
   "execution_count": 71,
   "id": "e0f30d46-a95e-4e85-baf9-1afc98737094",
   "metadata": {},
   "outputs": [
    {
     "data": {
      "text/plain": [
       "[('student1', '92'),\n",
       " ('student2', '74'),\n",
       " ('student3', '83'),\n",
       " ('student4', '100'),\n",
       " ('student5', '77'),\n",
       " ('student6', '100'),\n",
       " ('student7', '66'),\n",
       " ('student8', '97'),\n",
       " ('student9', '95'),\n",
       " ('student10', '78'),\n",
       " ('student11', '78'),\n",
       " ('student12', '82'),\n",
       " ('student13', '83'),\n",
       " ('student14', '89'),\n",
       " ('student15', '86'),\n",
       " ('student16', '96'),\n",
       " ('student17', '85'),\n",
       " ('student18', '83'),\n",
       " ('student19', '70'),\n",
       " ('student20', '80'),\n",
       " ('student21', '79'),\n",
       " ('student22', '100'),\n",
       " ('student23', '68'),\n",
       " ('student24', '94'),\n",
       " ('student25', '89'),\n",
       " ('student26', '94'),\n",
       " ('student27', '83'),\n",
       " ('student28', '97'),\n",
       " ('student29', '65'),\n",
       " ('student30', '96'),\n",
       " ('student31', '85'),\n",
       " ('student32', '82'),\n",
       " ('student33', '88'),\n",
       " ('student34', '66'),\n",
       " ('student35', '75'),\n",
       " ('student36', '85'),\n",
       " ('student37', '93'),\n",
       " ('student38', '86'),\n",
       " ('student39', '96'),\n",
       " ('student40', '85'),\n",
       " ('student41', '98'),\n",
       " ('student42', '84'),\n",
       " ('student43', '95'),\n",
       " ('student44', '80'),\n",
       " ('student45', '67'),\n",
       " ('student46', '65'),\n",
       " ('student47', '99'),\n",
       " ('student48', '77'),\n",
       " ('student49', '68'),\n",
       " ('student50', '82'),\n",
       " ('student51', '86'),\n",
       " ('student52', '91'),\n",
       " ('student53', '94'),\n",
       " ('student54', '69'),\n",
       " ('student55', '100'),\n",
       " ('student56', '77'),\n",
       " ('student57', '65'),\n",
       " ('student58', '75'),\n",
       " ('student59', '91'),\n",
       " ('student60', '71'),\n",
       " ('student61', '69'),\n",
       " ('student62', '79'),\n",
       " ('student63', '91'),\n",
       " ('student64', '93'),\n",
       " ('student65', '100'),\n",
       " ('student66', '68'),\n",
       " ('student67', '82'),\n",
       " ('student68', '66'),\n",
       " ('student69', '88'),\n",
       " ('student70', '78'),\n",
       " ('student71', '97'),\n",
       " ('student72', '88'),\n",
       " ('student73', '92'),\n",
       " ('student74', '86'),\n",
       " ('student75', '68'),\n",
       " ('student76', '88'),\n",
       " ('student77', '66'),\n",
       " ('student78', '70'),\n",
       " ('student79', '69'),\n",
       " ('student80', '86'),\n",
       " ('student81', '96'),\n",
       " ('student82', '76'),\n",
       " ('student83', '66'),\n",
       " ('student84', '83'),\n",
       " ('student85', '98'),\n",
       " ('student86', '69'),\n",
       " ('student87', '78'),\n",
       " ('student88', '66'),\n",
       " ('student89', '89'),\n",
       " ('student90', '92'),\n",
       " ('student91', '87'),\n",
       " ('student92', '86'),\n",
       " ('student93', '77'),\n",
       " ('student94', '93'),\n",
       " ('student95', '86'),\n",
       " ('student96', '78'),\n",
       " ('student97', '74'),\n",
       " ('student98', '71'),\n",
       " ('student99', '71'),\n",
       " ('student100', '81')]"
      ]
     },
     "execution_count": 71,
     "metadata": {},
     "output_type": "execute_result"
    }
   ],
   "source": [
    "mc[[0, 1]]"
   ]
  },
  {
   "cell_type": "code",
   "execution_count": 76,
   "id": "8caa2ece-fd94-4d10-83df-6a8531abaac4",
   "metadata": {},
   "outputs": [
    {
     "data": {
      "text/plain": [
       "[6, 9, 12]"
      ]
     },
     "execution_count": 76,
     "metadata": {},
     "output_type": "execute_result"
    }
   ],
   "source": [
    "from collections import defaultdict\n",
    "\n",
    "class ListV2:\n",
    "    def __init__(self, values):\n",
    "        self.values = values[:]\n",
    "        \n",
    "    def __add__(self, right):\n",
    "        output = [l + r for l, r in zip(self.values, right.values)]\n",
    "        return ListV2(output)\n",
    "        # return output\n",
    "    \n",
    "    def __repr__(self):\n",
    "        return str(self.values)\n",
    "\n",
    "l1 = ListV2([1, 2, 3])\n",
    "l2 = ListV2([4, 5, 6])\n",
    "l1 + l2 + l1"
   ]
  },
  {
   "cell_type": "code",
   "execution_count": 72,
   "id": "8ee00c4a-a2c1-4f11-baff-f34ad8abadf8",
   "metadata": {},
   "outputs": [
    {
     "data": {
      "text/plain": [
       "[1, 2, 3, 4, 5, 6]"
      ]
     },
     "execution_count": 72,
     "metadata": {},
     "output_type": "execute_result"
    }
   ],
   "source": [
    "x = [1, 2, 3]\n",
    "y = [4, 5, 6]\n",
    "x + y"
   ]
  },
  {
   "cell_type": "code",
   "execution_count": null,
   "id": "0cb3d910-b0b7-4cb3-ab2f-d6035cd525bd",
   "metadata": {},
   "outputs": [],
   "source": [
    "class MyClass:\n",
    "    def __init__(self, **kwargs):\n",
    "        self.data = defaultdict(list)\n",
    "        header = kwargs.get('header')\n",
    "        lines = kwargs.get('lines')\n",
    "        if header:\n",
    "            header = lines.pop(0)\n",
    "        else:\n",
    "            header = list(range(len(lines[0])))\n",
    "        \n",
    "        for line in lines:\n",
    "            row = dict(zip(header, line))\n",
    "            for key,value in row.items():\n",
    "                self.data[key].append(value)\n",
    "              \n",
    "    def __setitem__(self, key, value): # MyCLass[key] = value\n",
    "        self.data[key] = value\n",
    "        \n",
    "    def __getitem__(self, key): # MyClass[key]\n",
    "        if type(key) in [str, int]:\n",
    "            return ListV2(self.data[key])  \n",
    "        elif isinstance(key, list):\n",
    "            output = []\n",
    "            for k in key:\n",
    "                output.append(self.data[k])\n",
    "            output = list(zip(*output))\n",
    "                \n",
    "            return output\n",
    "        \n",
    "    def as_type(self, column, cast_type):\n",
    "        self.data[column] = list(map(cast_type, self.data[column]))"
   ]
  },
  {
   "cell_type": "code",
   "execution_count": 77,
   "id": "e8b52d4b-e281-45d3-bff4-e41b5b36ebbb",
   "metadata": {},
   "outputs": [
    {
     "name": "stdout",
     "output_type": "stream",
     "text": [
      "['0', '1', '2', '3', '4', '5', '6', '7', '8', '9', '10', '11', '12', '13', '14', '15', '16', '17', '18', '19', '20', '21', '22', '23', '24', '25', '26', '27', '28', '29', '30', '31', '32', '33', '34', '35', '36', '37', '38', '39', '40', '41', '42', '43', '44', '45', '46', '47', '48', '49']\n"
     ]
    }
   ],
   "source": [
    "x = [str(val) for val in range(50)]\n",
    "print(x)"
   ]
  },
  {
   "cell_type": "code",
   "execution_count": 78,
   "id": "a8423c39-b2c5-42d3-8750-7ffb36614edd",
   "metadata": {},
   "outputs": [
    {
     "data": {
      "text/plain": [
       "[0,\n",
       " 1,\n",
       " 2,\n",
       " 3,\n",
       " 4,\n",
       " 5,\n",
       " 6,\n",
       " 7,\n",
       " 8,\n",
       " 9,\n",
       " 10,\n",
       " 11,\n",
       " 12,\n",
       " 13,\n",
       " 14,\n",
       " 15,\n",
       " 16,\n",
       " 17,\n",
       " 18,\n",
       " 19,\n",
       " 20,\n",
       " 21,\n",
       " 22,\n",
       " 23,\n",
       " 24,\n",
       " 25,\n",
       " 26,\n",
       " 27,\n",
       " 28,\n",
       " 29,\n",
       " 30,\n",
       " 31,\n",
       " 32,\n",
       " 33,\n",
       " 34,\n",
       " 35,\n",
       " 36,\n",
       " 37,\n",
       " 38,\n",
       " 39,\n",
       " 40,\n",
       " 41,\n",
       " 42,\n",
       " 43,\n",
       " 44,\n",
       " 45,\n",
       " 46,\n",
       " 47,\n",
       " 48,\n",
       " 49]"
      ]
     },
     "execution_count": 78,
     "metadata": {},
     "output_type": "execute_result"
    }
   ],
   "source": [
    "list(map(int, x))"
   ]
  },
  {
   "cell_type": "code",
   "execution_count": 79,
   "id": "52e87f89-1c3f-4134-be1a-8c8078ec4c36",
   "metadata": {},
   "outputs": [],
   "source": [
    "from collections import defaultdict\n",
    "\n",
    "\n",
    "\n",
    "class ListV2:\n",
    "    def __init__(self, values):\n",
    "        self.values = values\n",
    "        \n",
    "    def __add__(self, right):\n",
    "        output = [l + r for l, r in zip(self.values, right.values)]\n",
    "#         return ListV2(output)\n",
    "        return output\n",
    "    \n",
    "    def __repr__(self):\n",
    "        return str(self.values)\n",
    "        \n",
    "\n",
    "class MyClass:\n",
    "    def __init__(self, **kwargs):\n",
    "        self.data = defaultdict(list)\n",
    "        header = kwargs.get('header')\n",
    "        lines = kwargs.get('lines')\n",
    "        if header:\n",
    "            header = lines.pop(0)\n",
    "        else:\n",
    "            header = list(range(len(lines[0])))\n",
    "        \n",
    "        for line in lines:\n",
    "            row = dict(zip(header, line))\n",
    "            for key,value in row.items():\n",
    "                self.data[key].append(value)\n",
    "              \n",
    "    def __setitem__(self, key, value): # MyCLass[key] = value\n",
    "        self.data[key] = value\n",
    "        \n",
    "    def __getitem__(self, key): # MyClass[key]\n",
    "        if type(key) in [str, int]:\n",
    "            return ListV2(self.data[key])  \n",
    "        elif isinstance(key, list):\n",
    "            output = []\n",
    "            for k in key:\n",
    "                output.append(self.data[k])\n",
    "            output = list(zip(*output))\n",
    "                \n",
    "            return output\n",
    "        \n",
    "    def as_type(self, column, cast_type):\n",
    "        self.data[column] = list(map(cast_type, self.data[column]))\n",
    "\n",
    "filename = 'testdata.txt'\n",
    "grades = []\n",
    "with open(filename) as f:\n",
    "    for line in f:\n",
    "        line = line.strip()\n",
    "        if not line:\n",
    "            continue\n",
    "        grades.append(line.strip().split(','))\n",
    "\n",
    "grades = tuple(grades)\n",
    "\n",
    "mc = MyClass(lines=list(grades))\n"
   ]
  },
  {
   "cell_type": "code",
   "execution_count": 80,
   "id": "d800ac71-ae1d-45e7-8c1d-61f11681ece1",
   "metadata": {},
   "outputs": [
    {
     "name": "stdout",
     "output_type": "stream",
     "text": [
      "[('92', '77'), ('74', '93'), ('83', '96'), ('100', '72'), ('77', '96'), ('100', '86'), ('66', '91'), ('97', '86'), ('95', '98'), ('78', '76'), ('78', '100'), ('82', '92'), ('83', '78'), ('89', '81'), ('86', '94'), ('96', '75'), ('85', '72'), ('83', '68'), ('70', '99'), ('80', '89'), ('79', '100'), ('100', '65'), ('68', '67'), ('94', '71'), ('89', '99'), ('94', '65'), ('83', '91'), ('97', '96'), ('65', '78'), ('96', '85'), ('85', '69'), ('82', '82'), ('88', '76'), ('66', '85'), ('75', '98'), ('85', '89'), ('93', '85'), ('86', '90'), ('96', '82'), ('85', '98'), ('98', '95'), ('84', '82'), ('95', '91'), ('80', '83'), ('67', '89'), ('65', '72'), ('99', '89'), ('77', '91'), ('68', '97'), ('82', '66'), ('86', '66'), ('91', '98'), ('94', '77'), ('69', '80'), ('100', '91'), ('77', '68'), ('65', '100'), ('75', '75'), ('91', '84'), ('71', '79'), ('69', '71'), ('79', '91'), ('91', '87'), ('93', '97'), ('100', '75'), ('68', '66'), ('82', '74'), ('66', '96'), ('88', '85'), ('78', '76'), ('97', '73'), ('88', '94'), ('92', '99'), ('86', '98'), ('68', '87'), ('88', '92'), ('66', '72'), ('70', '95'), ('69', '94'), ('86', '86'), ('96', '87'), ('76', '95'), ('66', '72'), ('83', '85'), ('98', '79'), ('69', '94'), ('78', '88'), ('66', '67'), ('89', '78'), ('92', '66'), ('87', '69'), ('86', '88'), ('77', '77'), ('93', '99'), ('86', '83'), ('78', '84'), ('74', '95'), ('71', '87'), ('71', '69'), ('81', '80')]\n"
     ]
    }
   ],
   "source": [
    "print(mc[[1, 2]])\n",
    "\n"
   ]
  },
  {
   "cell_type": "code",
   "execution_count": 83,
   "id": "f25eb031-7190-4669-abb6-68fdfbdd8f54",
   "metadata": {},
   "outputs": [
    {
     "name": "stdout",
     "output_type": "stream",
     "text": [
      "[('92', '77'), ('74', '93'), ('83', '96'), ('100', '72'), ('77', '96'), ('100', '86'), ('66', '91'), ('97', '86'), ('95', '98'), ('78', '76'), ('78', '100'), ('82', '92'), ('83', '78'), ('89', '81'), ('86', '94'), ('96', '75'), ('85', '72'), ('83', '68'), ('70', '99'), ('80', '89'), ('79', '100'), ('100', '65'), ('68', '67'), ('94', '71'), ('89', '99'), ('94', '65'), ('83', '91'), ('97', '96'), ('65', '78'), ('96', '85'), ('85', '69'), ('82', '82'), ('88', '76'), ('66', '85'), ('75', '98'), ('85', '89'), ('93', '85'), ('86', '90'), ('96', '82'), ('85', '98'), ('98', '95'), ('84', '82'), ('95', '91'), ('80', '83'), ('67', '89'), ('65', '72'), ('99', '89'), ('77', '91'), ('68', '97'), ('82', '66'), ('86', '66'), ('91', '98'), ('94', '77'), ('69', '80'), ('100', '91'), ('77', '68'), ('65', '100'), ('75', '75'), ('91', '84'), ('71', '79'), ('69', '71'), ('79', '91'), ('91', '87'), ('93', '97'), ('100', '75'), ('68', '66'), ('82', '74'), ('66', '96'), ('88', '85'), ('78', '76'), ('97', '73'), ('88', '94'), ('92', '99'), ('86', '98'), ('68', '87'), ('88', '92'), ('66', '72'), ('70', '95'), ('69', '94'), ('86', '86'), ('96', '87'), ('76', '95'), ('66', '72'), ('83', '85'), ('98', '79'), ('69', '94'), ('78', '88'), ('66', '67'), ('89', '78'), ('92', '66'), ('87', '69'), ('86', '88'), ('77', '77'), ('93', '99'), ('86', '83'), ('78', '84'), ('74', '95'), ('71', '87'), ('71', '69'), ('81', '80')]\n",
      "[(92, '77'), (74, '93'), (83, '96'), (100, '72'), (77, '96'), (100, '86'), (66, '91'), (97, '86'), (95, '98'), (78, '76'), (78, '100'), (82, '92'), (83, '78'), (89, '81'), (86, '94'), (96, '75'), (85, '72'), (83, '68'), (70, '99'), (80, '89'), (79, '100'), (100, '65'), (68, '67'), (94, '71'), (89, '99'), (94, '65'), (83, '91'), (97, '96'), (65, '78'), (96, '85'), (85, '69'), (82, '82'), (88, '76'), (66, '85'), (75, '98'), (85, '89'), (93, '85'), (86, '90'), (96, '82'), (85, '98'), (98, '95'), (84, '82'), (95, '91'), (80, '83'), (67, '89'), (65, '72'), (99, '89'), (77, '91'), (68, '97'), (82, '66'), (86, '66'), (91, '98'), (94, '77'), (69, '80'), (100, '91'), (77, '68'), (65, '100'), (75, '75'), (91, '84'), (71, '79'), (69, '71'), (79, '91'), (91, '87'), (93, '97'), (100, '75'), (68, '66'), (82, '74'), (66, '96'), (88, '85'), (78, '76'), (97, '73'), (88, '94'), (92, '99'), (86, '98'), (68, '87'), (88, '92'), (66, '72'), (70, '95'), (69, '94'), (86, '86'), (96, '87'), (76, '95'), (66, '72'), (83, '85'), (98, '79'), (69, '94'), (78, '88'), (66, '67'), (89, '78'), (92, '66'), (87, '69'), (86, '88'), (77, '77'), (93, '99'), (86, '83'), (78, '84'), (74, '95'), (71, '87'), (71, '69'), (81, '80')]\n",
      "[(92, 77), (74, 93), (83, 96), (100, 72), (77, 96), (100, 86), (66, 91), (97, 86), (95, 98), (78, 76), (78, 100), (82, 92), (83, 78), (89, 81), (86, 94), (96, 75), (85, 72), (83, 68), (70, 99), (80, 89), (79, 100), (100, 65), (68, 67), (94, 71), (89, 99), (94, 65), (83, 91), (97, 96), (65, 78), (96, 85), (85, 69), (82, 82), (88, 76), (66, 85), (75, 98), (85, 89), (93, 85), (86, 90), (96, 82), (85, 98), (98, 95), (84, 82), (95, 91), (80, 83), (67, 89), (65, 72), (99, 89), (77, 91), (68, 97), (82, 66), (86, 66), (91, 98), (94, 77), (69, 80), (100, 91), (77, 68), (65, 100), (75, 75), (91, 84), (71, 79), (69, 71), (79, 91), (91, 87), (93, 97), (100, 75), (68, 66), (82, 74), (66, 96), (88, 85), (78, 76), (97, 73), (88, 94), (92, 99), (86, 98), (68, 87), (88, 92), (66, 72), (70, 95), (69, 94), (86, 86), (96, 87), (76, 95), (66, 72), (83, 85), (98, 79), (69, 94), (78, 88), (66, 67), (89, 78), (92, 66), (87, 69), (86, 88), (77, 77), (93, 99), (86, 83), (78, 84), (74, 95), (71, 87), (71, 69), (81, 80)]\n"
     ]
    }
   ],
   "source": [
    "mc = MyClass(lines=list(grades))\n",
    "print(mc[[1, 2]])\n",
    "mc.as_type(1, int)\n",
    "print(mc[[1, 2]])\n",
    "mc.as_type(2, int)\n",
    "print(mc[[1, 2]])"
   ]
  },
  {
   "cell_type": "code",
   "execution_count": null,
   "id": "31d5d65f-061d-4d9c-a666-d60a58de3bad",
   "metadata": {},
   "outputs": [],
   "source": [
    "mc[1] + mc[2]"
   ]
  },
  {
   "cell_type": "code",
   "execution_count": 84,
   "id": "77033c3b-d22c-42e1-a741-cf1d0dcd846a",
   "metadata": {},
   "outputs": [
    {
     "name": "stdout",
     "output_type": "stream",
     "text": [
      "defaultdict(<class 'list'>, {1: [82.75], 2: [84.13]})\n"
     ]
    }
   ],
   "source": [
    "from collections import defaultdict\n",
    "\n",
    "\n",
    "class ListV2:\n",
    "    def __init__(self, values):\n",
    "        self.values = values\n",
    "        \n",
    "    def __add__(self, right):\n",
    "        output = [l + r for l, r in zip(self.values, right.values)]\n",
    "#         return ListV2(output)\n",
    "        return output\n",
    "    \n",
    "    def __repr__(self):\n",
    "        return str(self.values)\n",
    "        \n",
    "\n",
    "\n",
    "class MyClass:\n",
    "    def __init__(self, **kwargs):\n",
    "        self.data = defaultdict(list)\n",
    "        header = kwargs.get('header')\n",
    "        lines = kwargs.get('lines')\n",
    "        if header:\n",
    "            header = lines.pop(0)\n",
    "        else:\n",
    "            header = list(range(len(lines[0])))\n",
    "        \n",
    "        for line in lines:\n",
    "            row = dict(zip(header, line))\n",
    "            for key,value in row.items():\n",
    "                self.data[key].append(value)\n",
    "              \n",
    "    def __setitem__(self, key, value): # MyCLass[key] = value\n",
    "        self.data[key] = value\n",
    "        \n",
    "    def __getitem__(self, key): # MyClass[key]\n",
    "        if type(key) in [str, int]:\n",
    "            return ListV2(self.data[key])  \n",
    "        elif isinstance(key, list):\n",
    "            output = []\n",
    "            for k in key:\n",
    "                output.append(self.data[k])\n",
    "            output = list(zip(*output))\n",
    "                \n",
    "            return output\n",
    "        \n",
    "    def as_type(self, column, cast_type):\n",
    "        self.data[column] = list(map(cast_type, self.data[column]))\n",
    "        \n",
    "    def mean(self, columns):\n",
    "        if type(columns) in [str, int]:\n",
    "            data = self.data[columns]\n",
    "            return sum(data)/len(data)\n",
    "        elif isinstance(columns, list):\n",
    "            data = []\n",
    "            for column in columns:\n",
    "                data.append(sum(self.data[column])/len(self.data[column]))\n",
    "            \n",
    "            data =  [columns, data]\n",
    "            return MyClass(lines=data, header=True)\n",
    "\n",
    "filename = 'testdata.txt'\n",
    "grades = []\n",
    "with open(filename) as f:\n",
    "    for line in f:\n",
    "        line = line.strip()\n",
    "        if not line:\n",
    "            continue\n",
    "        grades.append(line.strip().split(','))\n",
    "\n",
    "grades = tuple(grades)\n",
    "\n",
    "mc = MyClass(lines=list(grades))\n",
    "mc.as_type(1, int)\n",
    "mc.as_type(2, int)\n",
    "a = mc.mean([1, 2])\n",
    "print(a.data)       "
   ]
  },
  {
   "cell_type": "code",
   "execution_count": 89,
   "id": "f067402a-3102-44d2-abab-d4a93bde2aec",
   "metadata": {},
   "outputs": [
    {
     "name": "stdout",
     "output_type": "stream",
     "text": [
      "slice(1, 10, 2)\n",
      "slice(None, None, None)\n"
     ]
    }
   ],
   "source": [
    "class AClass:\n",
    "    \n",
    "    def __getitem__(self, a):\n",
    "        for ele in a:\n",
    "            print(ele)\n",
    "a = AClass()   \n",
    "a[1:10:2, :]"
   ]
  },
  {
   "cell_type": "code",
   "execution_count": 90,
   "id": "1ce8018c-b3b2-4ac7-b665-4e6f41a56eb1",
   "metadata": {},
   "outputs": [
    {
     "name": "stdout",
     "output_type": "stream",
     "text": [
      "1\n",
      "10\n",
      "2\n"
     ]
    }
   ],
   "source": [
    "b = slice(1, 10, 2)\n",
    "print(b.start)\n",
    "print(b.stop)\n",
    "print(b.step)\n"
   ]
  },
  {
   "cell_type": "code",
   "execution_count": 91,
   "id": "02df1f0a-adb6-42f5-82d7-243068b5c71a",
   "metadata": {},
   "outputs": [
    {
     "name": "stdout",
     "output_type": "stream",
     "text": [
      "1 4 7\n",
      "2 5 8\n",
      "3 6 9\n"
     ]
    }
   ],
   "source": [
    "x = [[1,2,3], [4, 5, 6], [7, 8,9]]\n",
    "for c1, c2, c3 in zip(*x):\n",
    "    print(c1, c2, c3)"
   ]
  },
  {
   "cell_type": "code",
   "execution_count": 92,
   "id": "d2efcf97-e5e3-48d1-8cee-a79457ff4180",
   "metadata": {},
   "outputs": [
    {
     "data": {
      "text/plain": [
       "[(5, 7), (6, 8)]"
      ]
     },
     "execution_count": 92,
     "metadata": {},
     "output_type": "execute_result"
    }
   ],
   "source": [
    "x = {1: [5, 6], 2: [7, 8]}\n",
    "list(zip(*x.values()))"
   ]
  },
  {
   "cell_type": "code",
   "execution_count": 105,
   "id": "ebc3b9a7-9455-44d1-a141-76e87e1f0286",
   "metadata": {},
   "outputs": [],
   "source": [
    "from collections import defaultdict\n",
    "\n",
    "\n",
    "\n",
    "class ListV2:\n",
    "    def __init__(self, values):\n",
    "        self.values = values\n",
    "        \n",
    "    def __add__(self, right):\n",
    "        output = [l + r for l, r in zip(self.values, right.values)]\n",
    "#         return ListV2(output)\n",
    "        return output\n",
    "    \n",
    "    def __repr__(self):\n",
    "        return str(self.values)\n",
    "        \n",
    "\n",
    "class MyClass:\n",
    "    def __init__(self, **kwargs):\n",
    "        self.data = defaultdict(list)\n",
    "        header = kwargs.get('header')\n",
    "        lines = kwargs.get('lines')\n",
    "        if header:\n",
    "            self.header = lines.pop(0)\n",
    "        else:\n",
    "            self.header = list(range(len(lines[0])))\n",
    "        \n",
    "        for line in lines:\n",
    "            row = dict(zip(self.header, line))\n",
    "            for key,value in row.items():\n",
    "                self.data[key].append(value)\n",
    "              \n",
    "    def __setitem__(self, key, value): # MyCLass[key] = value\n",
    "        self.data[key] = value\n",
    "        \n",
    "    def __getitem__(self, key): # MyClass[key]\n",
    "        if type(key) in [str, int]:\n",
    "            return ListV2(self.data[key])  \n",
    "            \n",
    "        elif isinstance(key, list):\n",
    "            output = []\n",
    "            for k in key:\n",
    "                output.append(self.data[k])\n",
    "            output = list(zip(*output))       \n",
    "            return output\n",
    "            \n",
    "        elif isinstance(key, slice):\n",
    "            all_rows = list(zip(*self.data.values()))\n",
    "            output = all_rows[key.start:key.stop:key.step]\n",
    "            return MyClass(lines=output)\n",
    "            \n",
    "        elif isinstance(key, tuple):\n",
    "            row = key[0]\n",
    "            col = key[1]\n",
    "            columns = list(self.data.keys())\n",
    "            columns = columns[col]\n",
    "            data = []\n",
    "            for col in columns:\n",
    "                data.append(self.data[col])\n",
    "            \n",
    "            \n",
    "            all_rows = list(zip(*data))\n",
    "            output = all_rows[row.start:row.stop:row.step]\n",
    "            output = [columns] + output\n",
    "            return MyClass(lines=output, header=True)\n",
    "            \n",
    "            \n",
    "        \n",
    "    def as_type(self, column, cast_type):\n",
    "        self.data[column] = list(map(cast_type, self.data[column]))\n",
    "        \n",
    "    def mean(self, columns):\n",
    "        if type(columns) in [str, int]:\n",
    "            data = self.data[columns]\n",
    "            return sum(data)/len(data)\n",
    "        elif isinstance(columns, list):\n",
    "            data = []\n",
    "            for column in columns:\n",
    "                data.append(sum(self.data[column])/len(self.data[column]))\n",
    "            \n",
    "            data =  [columns, data]\n",
    "            return MyClass(lines=data, header=True)\n",
    "        \n",
    "    def __repr__(self):\n",
    "        print(self.header)\n",
    "        for ele in list(zip(*self.data.values())):\n",
    "            print(ele)\n",
    "        return \"\"\n",
    "\n",
    "\n",
    "filename = 'testdata.txt'\n",
    "grades = []\n",
    "with open(filename) as f:\n",
    "    for line in f:\n",
    "        line = line.strip()\n",
    "        if not line:\n",
    "            continue\n",
    "        grades.append(line.strip().split(','))\n",
    "\n",
    "grades = tuple(grades)\n",
    "\n",
    "mc = MyClass(lines=list(grades))\n",
    "mc.as_type(1, int)\n",
    "mc.as_type(2, int)  \n",
    "a = mc[5:21:2, 1:6] \n",
    "      "
   ]
  },
  {
   "cell_type": "code",
   "execution_count": 106,
   "id": "a369fad1-d8c1-44b9-91a2-155a64ad62a7",
   "metadata": {},
   "outputs": [],
   "source": [
    "filename = 'people.tsv'\n",
    "people = []\n",
    "with open(filename) as f:\n",
    "    for line in f:\n",
    "        line = line.strip()\n",
    "        if not line:\n",
    "            continue\n",
    "        people.append(line.strip().split('\\t'))\n",
    "\n",
    "\n",
    "mc = MyClass(lines=people, header=True)"
   ]
  },
  {
   "cell_type": "code",
   "execution_count": 109,
   "id": "08164d7e-ba0f-4693-a468-be2d6b427090",
   "metadata": {},
   "outputs": [
    {
     "name": "stdout",
     "output_type": "stream",
     "text": [
      "['first_name', 'country']\n",
      "('Greg', 'Jordan')\n",
      "('Todd', 'Argentina')\n",
      "('Mariah', 'Albania')\n",
      "('Patrick', 'Turkmenistan')\n",
      "('Christopher', 'Costa Rica')\n",
      "('Crystal', 'Singapore')\n",
      "('Brianna', 'Costa Rica')\n",
      "('Brianna', 'Bahamas')\n"
     ]
    },
    {
     "data": {
      "text/plain": []
     },
     "execution_count": 109,
     "metadata": {},
     "output_type": "execute_result"
    }
   ],
   "source": [
    "mc[5:21:2, 1:5:2] "
   ]
  }
 ],
 "metadata": {
  "kernelspec": {
   "display_name": "Python 3 (ipykernel)",
   "language": "python",
   "name": "python3"
  },
  "language_info": {
   "codemirror_mode": {
    "name": "ipython",
    "version": 3
   },
   "file_extension": ".py",
   "mimetype": "text/x-python",
   "name": "python",
   "nbconvert_exporter": "python",
   "pygments_lexer": "ipython3",
   "version": "3.12.4"
  }
 },
 "nbformat": 4,
 "nbformat_minor": 5
}
