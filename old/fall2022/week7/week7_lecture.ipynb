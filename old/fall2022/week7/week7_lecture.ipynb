{
 "cells": [
  {
   "cell_type": "code",
   "execution_count": 1,
   "id": "786a4a93",
   "metadata": {},
   "outputs": [],
   "source": [
    "bevs = [['Coke', 50], ['Pepsi', 45]]"
   ]
  },
  {
   "cell_type": "code",
   "execution_count": 3,
   "id": "ebe9cdd4",
   "metadata": {},
   "outputs": [
    {
     "name": "stdout",
     "output_type": "stream",
     "text": [
      "Coke: 60\n",
      "Coke\n",
      "Pepsi: 50\n",
      "Pepsi\n",
      "7up: 40\n",
      "7up\n"
     ]
    }
   ],
   "source": [
    "class Beverage:\n",
    "    def __init__(self, name, temp):\n",
    "        self.name = name\n",
    "        self.temp = temp\n",
    "        \n",
    "    def __repr__(self):\n",
    "        return f'{self.name}: {self.temp}'\n",
    "        \n",
    "b1 = Beverage('Coke', 60)\n",
    "b2 = Beverage('Pepsi', 50)\n",
    "b3 = Beverage('7up', 40)\n",
    "\n",
    "beverages = [b1, b2, b3]\n",
    "for beverage in beverages:\n",
    "    print(beverage)\n",
    "    print(beverage.name)"
   ]
  },
  {
   "cell_type": "code",
   "execution_count": 4,
   "id": "9ab12604",
   "metadata": {},
   "outputs": [
    {
     "name": "stdout",
     "output_type": "stream",
     "text": [
      "Coke: 60\n",
      "Pepsi: 75\n",
      "7up: 40\n"
     ]
    }
   ],
   "source": [
    "class Beverage:\n",
    "    def __init__(self, name, temp=75):\n",
    "        self.name = name\n",
    "        self.temp = temp\n",
    "        \n",
    "    def __repr__(self):\n",
    "        return f'{self.name}: {self.temp}'\n",
    "        \n",
    "b1 = Beverage('Coke', 60)\n",
    "b2 = Beverage('Pepsi')\n",
    "b3 = Beverage('7up', 40)\n",
    "\n",
    "beverages = [b1, b2, b3]\n",
    "for beverage in beverages:\n",
    "    print(beverage)"
   ]
  },
  {
   "cell_type": "code",
   "execution_count": 5,
   "id": "57487af4",
   "metadata": {},
   "outputs": [],
   "source": [
    "class Logfile:\n",
    "    def __init__(self, filename):\n",
    "        self.filename = filename\n",
    "        self.file = None\n",
    "        \n",
    "    def open_file(self):\n",
    "        self.file = open(self.filename, 'w')\n",
    "        \n",
    "    def write_row(self, row):\n",
    "        self.file.write(f'{row.strip()}\\n')\n",
    "        \n",
    "    def close_file(self):\n",
    "        self.file.close()\n",
    "        \n",
    "\n",
    "        \n",
    "l1 = Logfile('log1.txt')\n",
    "l1.open_file()\n",
    "\n",
    "for row in ['abc', 'efg', 'hij']:\n",
    "    l1.write_row(row)\n",
    "    \n",
    "l1.close_file()\n",
    "\n",
    "l2 = Logfile('log2.txt')\n",
    "l2.open_file()\n",
    "\n",
    "for row in ['ABC', 'EFG', 'DHIJ']:\n",
    "    l2.write_row(row)\n",
    "    \n",
    "l2.close_file()"
   ]
  },
  {
   "cell_type": "code",
   "execution_count": 7,
   "id": "736e8334",
   "metadata": {},
   "outputs": [
    {
     "data": {
      "text/plain": [
       "['Anderson', 'Samuel']"
      ]
     },
     "execution_count": 7,
     "metadata": {},
     "output_type": "execute_result"
    }
   ],
   "source": [
    "name = 'Anderson, Samuel'\n",
    "name.split(', ')"
   ]
  },
  {
   "cell_type": "code",
   "execution_count": 11,
   "id": "57d90a9a",
   "metadata": {},
   "outputs": [],
   "source": [
    "class Person:\n",
    "    def __init__(self, first_name, last_name):\n",
    "        self.first_name = first_name\n",
    "        self.last_name = last_name\n",
    "\n",
    "    \n",
    "\n",
    "class Student(Person):\n",
    "    def __init__(self, first_name, last_name, credit_hours, q_point):\n",
    "        super().__init__(first_name, last_name)\n",
    "        self.credit_hours = credit_hours\n",
    "        self.q_point = q_point\n",
    "        \n",
    "\n",
    "    def get_gpa(self):\n",
    "        return round(self.q_point / self.credit_hours, 2)\n",
    "    \n",
    "    def __repr__(self):\n",
    "        return f'{self.first_name} {self.last_name}; {self.get_gpa()}'\n",
    "    \n",
    "    \n",
    "filename = 'data.tsv'\n",
    "\n",
    "students = []\n",
    "\n",
    "with open(filename) as file:\n",
    "    for line in file:\n",
    "        if not line.strip():\n",
    "            continue\n",
    "        \n",
    "        name, credits, q_points = line.strip().split('\\t')\n",
    "        last_name, first_name = name.split(', ')\n",
    "        \n",
    "        student = Student(first_name, last_name, int(credits), int(q_points))\n",
    "        students.append(student)"
   ]
  },
  {
   "cell_type": "code",
   "execution_count": 29,
   "id": "5503bb47",
   "metadata": {},
   "outputs": [
    {
     "data": {
      "text/plain": [
       "2.35"
      ]
     },
     "execution_count": 29,
     "metadata": {},
     "output_type": "execute_result"
    }
   ],
   "source": []
  },
  {
   "cell_type": "code",
   "execution_count": 14,
   "id": "399f8d19",
   "metadata": {},
   "outputs": [
    {
     "data": {
      "text/plain": [
       "Brandon Crane; 3.89"
      ]
     },
     "execution_count": 14,
     "metadata": {},
     "output_type": "execute_result"
    }
   ],
   "source": [
    "max(students, key=lambda student: student.get_gpa())"
   ]
  },
  {
   "cell_type": "code",
   "execution_count": 15,
   "id": "6f6f3f40",
   "metadata": {},
   "outputs": [
    {
     "data": {
      "text/plain": [
       "Jennifer Vazquez; 1.5"
      ]
     },
     "execution_count": 15,
     "metadata": {},
     "output_type": "execute_result"
    }
   ],
   "source": [
    "min(students, key=lambda student: student.get_gpa())"
   ]
  },
  {
   "cell_type": "code",
   "execution_count": 16,
   "id": "eb39c6cb",
   "metadata": {},
   "outputs": [],
   "source": [
    "from abc import ABC, abstractmethod\n",
    "\n",
    "\n",
    "class Employee(ABC):\n",
    "\n",
    "    def __init__(self, first_name, last_name, ssn):\n",
    "        self.first_name = first_name\n",
    "        self.last_name = last_name\n",
    "        self.ssn = ssn\n",
    "\n",
    "    @abstractmethod\n",
    "    def earnings(self):\n",
    "        pass\n",
    "\n",
    "    def __repr__(self):\n",
    "        return f'{self.first_name} {self.last_name}\\nsocial security: {self.ssn}'\n"
   ]
  },
  {
   "cell_type": "code",
   "execution_count": 17,
   "id": "9076e601",
   "metadata": {},
   "outputs": [
    {
     "ename": "TypeError",
     "evalue": "Can't instantiate abstract class Employee with abstract methods earnings",
     "output_type": "error",
     "traceback": [
      "\u001b[1;31m---------------------------------------------------------------------------\u001b[0m",
      "\u001b[1;31mTypeError\u001b[0m                                 Traceback (most recent call last)",
      "\u001b[1;32m~\\AppData\\Local\\Temp/ipykernel_19928/3293703238.py\u001b[0m in \u001b[0;36m<module>\u001b[1;34m\u001b[0m\n\u001b[1;32m----> 1\u001b[1;33m \u001b[0me1\u001b[0m \u001b[1;33m=\u001b[0m \u001b[0mEmployee\u001b[0m\u001b[1;33m(\u001b[0m\u001b[1;34m'John'\u001b[0m\u001b[1;33m,\u001b[0m \u001b[1;34m'Doe'\u001b[0m\u001b[1;33m,\u001b[0m \u001b[1;34m'111-22-3333'\u001b[0m\u001b[1;33m)\u001b[0m\u001b[1;33m\u001b[0m\u001b[1;33m\u001b[0m\u001b[0m\n\u001b[0m",
      "\u001b[1;31mTypeError\u001b[0m: Can't instantiate abstract class Employee with abstract methods earnings"
     ]
    }
   ],
   "source": [
    "e1 = Employee('John', 'Doe', '111-22-3333')"
   ]
  },
  {
   "cell_type": "code",
   "execution_count": 18,
   "id": "45b7eaf0",
   "metadata": {},
   "outputs": [],
   "source": [
    "class SalariedEmployee(Employee):\n",
    "    def __init__(self, first_name, last_name, ssn, salary):\n",
    "        super().__init__(first_name, last_name, ssn)\n",
    "        self.weekly_salary = salary\n",
    "\n",
    "    def earnings(self):\n",
    "        return self.weekly_salary\n",
    "\n",
    "    def __repr__(self):\n",
    "        return f'salaried employee: {super().__repr__()}\\nweekly salary: ${self.weekly_salary}'\n"
   ]
  },
  {
   "cell_type": "code",
   "execution_count": 19,
   "id": "362631bf",
   "metadata": {},
   "outputs": [],
   "source": [
    "se = SalariedEmployee('John', 'Doe', '111-22-3333', '10000')"
   ]
  },
  {
   "cell_type": "code",
   "execution_count": 20,
   "id": "e5c07681",
   "metadata": {},
   "outputs": [
    {
     "name": "stdout",
     "output_type": "stream",
     "text": [
      "salaried employee: John Doe\n",
      "social security: 111-22-3333\n",
      "weekly salary: $10000\n"
     ]
    }
   ],
   "source": [
    "print(se)"
   ]
  },
  {
   "cell_type": "code",
   "execution_count": 21,
   "id": "b2ff2739",
   "metadata": {},
   "outputs": [],
   "source": [
    "# Java How to Program Deitel et. al\n",
    "\n",
    "from abc import ABC, abstractmethod\n",
    "\n",
    "\n",
    "class Employee(ABC):\n",
    "\n",
    "    def __init__(self, first_name, last_name, ssn):\n",
    "        self.first_name = first_name\n",
    "        self.last_name = last_name\n",
    "        self.ssn = ssn\n",
    "\n",
    "    @abstractmethod\n",
    "    def earnings(self):\n",
    "        pass\n",
    "\n",
    "    def __repr__(self):\n",
    "        return f'{self.first_name} {self.last_name}\\nsocial security: {self.ssn}'\n",
    "\n",
    "\n",
    "class SalariedEmployee(Employee):\n",
    "    def __init__(self, first_name, last_name, ssn, salary):\n",
    "        super().__init__(first_name, last_name, ssn)\n",
    "        self.weekly_salary = salary\n",
    "\n",
    "    def earnings(self):\n",
    "        return self.weekly_salary\n",
    "\n",
    "    def __repr__(self):\n",
    "        return f'salaried employee: {super().__repr__()}\\nweekly salary: ${self.weekly_salary}'\n",
    "\n",
    "\n",
    "class HourlyEmployee(Employee):\n",
    "    def __init__(self, first_name, last_name, ssn, hourly_wage, hours_worked):\n",
    "        super().__init__(first_name, last_name, ssn)\n",
    "        self.hourly_wage = hourly_wage\n",
    "        self.hours_worked = hours_worked\n",
    "\n",
    "    def earnings(self):\n",
    "        if self.hours_worked < 40:  # no overtime\n",
    "            earned = self.hourly_wage * self.hours_worked\n",
    "        else:\n",
    "            earned = 40 * self.hourly_wage + \\\n",
    "                (self.hours_worked - 40) * self.hourly_wage * 1.5\n",
    "\n",
    "        return earned\n",
    "\n",
    "    def __repr__(self):\n",
    "        return f'hourly employee: {super().__repr__()}\\nhourly wage: ${self.hourly_wage}; hours worked: {self.hours_worked}'\n",
    "\n",
    "\n",
    "class CommissionEmployee(Employee):\n",
    "    def __init__(self, first_name, last_name, ssn, sales, rate):\n",
    "        super().__init__(first_name, last_name, ssn)\n",
    "        self.sales = sales\n",
    "        self.rate = rate\n",
    "\n",
    "    def earnings(self):\n",
    "        earned = self.sales * self.rate\n",
    "        return earned\n",
    "\n",
    "    def __repr__(self):\n",
    "        return f'commission employee: {super().__repr__()}\\ngross sales: ${self.sales}; commission rate: {self.rate}'\n",
    "\n",
    "\n",
    "class BasePlusCommissionEmployee(CommissionEmployee):\n",
    "    def __init__(self, first_name, last_name, ssn, sales, rate, salary):\n",
    "        super().__init__(first_name, last_name, ssn, sales, rate)\n",
    "        self.salary = salary\n",
    "\n",
    "    def earnings(self):\n",
    "        earned = self.salary + super().earnings()\n",
    "        return earned\n",
    "\n",
    "    def __repr__(self):\n",
    "        return f'base-salaried {super().__repr__()}; base-salary: ${self.salary}'\n",
    "\n"
   ]
  },
  {
   "cell_type": "code",
   "execution_count": 22,
   "id": "3be309f9",
   "metadata": {},
   "outputs": [
    {
     "name": "stdout",
     "output_type": "stream",
     "text": [
      "Employees processed individually:\n",
      "\n",
      "salaried employee: John Smith\n",
      "social security: 111-11-1111\n",
      "weekly salary: $800\n",
      "earned: $800\n"
     ]
    }
   ],
   "source": [
    "print('Employees processed individually:\\n')\n",
    "salaried_employee = SalariedEmployee('John', 'Smith', '111-11-1111', 800)\n",
    "print(salaried_employee)\n",
    "print(f'earned: ${salaried_employee.earnings()}')\n"
   ]
  },
  {
   "cell_type": "code",
   "execution_count": 23,
   "id": "9c76aec9",
   "metadata": {},
   "outputs": [
    {
     "name": "stdout",
     "output_type": "stream",
     "text": [
      "\n",
      "hourly employee: Karen Price\n",
      "social security: 222-22-2222\n",
      "hourly wage: $16.75; hours worked: 40\n",
      "earned: $670.0\n"
     ]
    }
   ],
   "source": [
    "\n",
    "print()\n",
    "hourly_employee = HourlyEmployee('Karen', 'Price', '222-22-2222', 16.75, 40)\n",
    "print(hourly_employee)\n",
    "print(f'earned: ${hourly_employee.earnings()}')\n",
    "\n",
    "\n"
   ]
  },
  {
   "cell_type": "code",
   "execution_count": 24,
   "id": "36d38b9a",
   "metadata": {},
   "outputs": [
    {
     "name": "stdout",
     "output_type": "stream",
     "text": [
      "\n",
      "commission employee: Sue Jones\n",
      "social security: 333-33-3333\n",
      "gross sales: $10000; commission rate: 0.06\n",
      "earned: $600.0\n"
     ]
    }
   ],
   "source": [
    "print()\n",
    "commission_employee = CommissionEmployee('Sue', 'Jones', '333-33-3333', 10000, 0.06)\n",
    "print(commission_employee)\n",
    "print(f'earned: ${commission_employee.earnings()}')\n",
    "\n",
    "\n"
   ]
  },
  {
   "cell_type": "code",
   "execution_count": 25,
   "id": "d311a580",
   "metadata": {},
   "outputs": [
    {
     "name": "stdout",
     "output_type": "stream",
     "text": [
      "\n",
      "base-salaried commission employee: Bob Lewis\n",
      "social security: 444-44-4444\n",
      "gross sales: $5000; commission rate: 0.04; base-salary: $300\n",
      "earned: $500.0\n"
     ]
    }
   ],
   "source": [
    "print()\n",
    "base_plus_commission_employee = BasePlusCommissionEmployee('Bob', 'Lewis', '444-44-4444', 5000, 0.04, 300)\n",
    "print(base_plus_commission_employee)\n",
    "print(f'earned: ${base_plus_commission_employee.earnings()}')"
   ]
  },
  {
   "cell_type": "code",
   "execution_count": 26,
   "id": "cb2075b8",
   "metadata": {},
   "outputs": [
    {
     "name": "stdout",
     "output_type": "stream",
     "text": [
      "salaried employee: John Smith\n",
      "social security: 111-11-1111\n",
      "weekly salary: $800\n",
      "earned: $800\n",
      "hourly employee: Karen Price\n",
      "social security: 222-22-2222\n",
      "hourly wage: $16.75; hours worked: 40\n",
      "earned: $670.0\n",
      "commission employee: Sue Jones\n",
      "social security: 333-33-3333\n",
      "gross sales: $10000; commission rate: 0.06\n",
      "earned: $600.0\n",
      "base-salaried commission employee: Bob Lewis\n",
      "social security: 444-44-4444\n",
      "gross sales: $5000; commission rate: 0.04; base-salary: $300\n",
      "earned: $500.0\n"
     ]
    }
   ],
   "source": [
    "employees = [salaried_employee, hourly_employee,\n",
    "             commission_employee, base_plus_commission_employee]\n",
    "\n",
    "for employee in employees:\n",
    "    print(employee)\n",
    "    \n",
    "    if employee.__class__.__name__ == 'BasePlusCommissionEmployee':\n",
    "        employee.salary = 1.10 * employee.salary\n",
    "        print(f'new base salary with 10% increase is {employee.salary}')\n",
    "   \n",
    "    print(f'earned: ${employee.earnings()}')"
   ]
  },
  {
   "cell_type": "code",
   "execution_count": 45,
   "id": "da65ee21",
   "metadata": {},
   "outputs": [
    {
     "ename": "TypeError",
     "evalue": "'>' not supported between instances of 'Student' and 'Student'",
     "output_type": "error",
     "traceback": [
      "\u001b[1;31m---------------------------------------------------------------------------\u001b[0m",
      "\u001b[1;31mTypeError\u001b[0m                                 Traceback (most recent call last)",
      "\u001b[1;32m~\\AppData\\Local\\Temp/ipykernel_19928/3777001465.py\u001b[0m in \u001b[0;36m<module>\u001b[1;34m\u001b[0m\n\u001b[1;32m----> 1\u001b[1;33m \u001b[0ms1\u001b[0m \u001b[1;33m>\u001b[0m \u001b[0ms2\u001b[0m\u001b[1;33m\u001b[0m\u001b[1;33m\u001b[0m\u001b[0m\n\u001b[0m",
      "\u001b[1;31mTypeError\u001b[0m: '>' not supported between instances of 'Student' and 'Student'"
     ]
    }
   ],
   "source": [
    "s1 > s2"
   ]
  },
  {
   "cell_type": "code",
   "execution_count": 31,
   "id": "b1b28a0b",
   "metadata": {},
   "outputs": [
    {
     "data": {
      "text/plain": [
       "[Samuel Anderson; 2.62,\n",
       " Jacob Cummings; 3.41,\n",
       " Walter Sosa; 2.62,\n",
       " Joel Conway; 3.23,\n",
       " Andrew Burton; 2.15,\n",
       " Judith Harris; 1.83,\n",
       " Abigail Thomas; 2.61,\n",
       " Sarah Edwards; 3.31,\n",
       " Jennifer Pratt; 2.87,\n",
       " Patricia Hess; 3.1,\n",
       " Brandon Butler; 3.83,\n",
       " Tammy Williams; 3.21,\n",
       " Jonathan Williams; 1.96,\n",
       " Amy Perry; 2.87,\n",
       " Evelyn Mendez; 1.54,\n",
       " Elizabeth Jackson; 2.4,\n",
       " Douglas Cameron; 2.35,\n",
       " Heather Wright; 2.38,\n",
       " Mariah Tucker; 3.11,\n",
       " Rachel Jones; 2.86,\n",
       " Tommy Hull; 3.0,\n",
       " Miguel Guerra; 2.04,\n",
       " Sarah Hernandez; 2.02,\n",
       " Ellen Cortez; 3.43,\n",
       " Tracy Lee; 2.29,\n",
       " Troy Griffith; 2.07,\n",
       " Ana Torres; 3.14,\n",
       " Howard Moore; 2.7,\n",
       " Richard Nelson; 2.78,\n",
       " Lisa James; 2.82,\n",
       " Hannah Macias; 3.76,\n",
       " Richard Rodriguez; 2.85,\n",
       " Christopher Ho; 3.0,\n",
       " Raymond Fisher; 3.25,\n",
       " Gregory Jones; 3.38,\n",
       " Ashley Davenport; 2.0,\n",
       " Jamie Peters; 3.38,\n",
       " Lisa Aguilar; 3.88,\n",
       " David Bush; 1.94,\n",
       " Samantha Barr; 3.5,\n",
       " Steven Gordon; 2.02,\n",
       " Matthew Jones; 2.49,\n",
       " Ronald Harris; 1.55,\n",
       " Brandon Crane; 3.89,\n",
       " Michael Fry; 2.27,\n",
       " Monica Mann; 3.36,\n",
       " Richard Matthews; 1.93,\n",
       " Jon Perkins; 3.5,\n",
       " Jasmine Williams; 1.7,\n",
       " Kristy Rowland; 3.46,\n",
       " Tanya Montgomery; 1.63,\n",
       " Steven Mcgee; 2.0,\n",
       " Amber Aguilar; 1.81,\n",
       " Jason Stuart; 2.0,\n",
       " Kyle Humphrey; 3.81,\n",
       " Christina Stewart; 3.74,\n",
       " Thomas Roberts; 3.64,\n",
       " Jason Weber; 2.39,\n",
       " Karen Lee; 1.95,\n",
       " Edward Lopez; 1.86,\n",
       " Kayla Baldwin; 2.76,\n",
       " Madison Dunn; 3.11,\n",
       " Sarah Brown; 2.53,\n",
       " Christina Bowman; 2.65,\n",
       " Jennifer Vazquez; 1.5,\n",
       " Emily Mccarthy; 2.96,\n",
       " Carrie Lewis; 2.87,\n",
       " Mark Jackson; 3.48,\n",
       " Julie Weaver; 3.16,\n",
       " Lauren Torres; 3.69,\n",
       " Mary Moon; 3.62,\n",
       " Michelle Church; 3.75,\n",
       " Laura Haley; 2.98,\n",
       " Ann Rodriguez; 2.58,\n",
       " Colleen Gomez; 2.22,\n",
       " Amy Hunter; 3.47,\n",
       " Anthony Davis; 3.48,\n",
       " Dorothy Graves; 2.12,\n",
       " Phyllis Miller; 2.61,\n",
       " Robert Burnett; 1.83,\n",
       " Sophia Haley; 2.75,\n",
       " Ashley Shaw; 2.83,\n",
       " Andrew Erickson; 2.07,\n",
       " Rebecca Weaver; 3.66,\n",
       " Danielle Young; 1.71,\n",
       " Carol Howell; 2.63,\n",
       " Jasmin Stephens; 2.63,\n",
       " Justin Guerrero; 3.28,\n",
       " Ashley Aguilar; 1.61,\n",
       " Kelly Holmes; 2.13,\n",
       " Erica Fleming; 1.52,\n",
       " Raymond Christian; 1.67,\n",
       " Brian Franklin; 3.0,\n",
       " Ashley James; 2.62,\n",
       " Christine Johnson; 3.65,\n",
       " Brian Holland; 2.44,\n",
       " Rebecca Harrison; 3.64,\n",
       " Meagan Harrell; 3.54,\n",
       " Johnny Mitchell; 1.65,\n",
       " Kevin Cooper; 2.35]"
      ]
     },
     "execution_count": 31,
     "metadata": {},
     "output_type": "execute_result"
    }
   ],
   "source": [
    "students\n"
   ]
  },
  {
   "cell_type": "code",
   "execution_count": 33,
   "id": "974a50fe",
   "metadata": {},
   "outputs": [],
   "source": [
    "s1 = students[0]\n",
    "s2 = students[1]"
   ]
  },
  {
   "cell_type": "code",
   "execution_count": 34,
   "id": "a650f90e",
   "metadata": {},
   "outputs": [
    {
     "name": "stdout",
     "output_type": "stream",
     "text": [
      "Samuel Anderson; 2.62 Jacob Cummings; 3.41\n"
     ]
    }
   ],
   "source": [
    "print(s1, s2)"
   ]
  },
  {
   "cell_type": "code",
   "execution_count": 37,
   "id": "d4b26898",
   "metadata": {},
   "outputs": [
    {
     "ename": "TypeError",
     "evalue": "'>' not supported between instances of 'Student' and 'Student'",
     "output_type": "error",
     "traceback": [
      "\u001b[1;31m---------------------------------------------------------------------------\u001b[0m",
      "\u001b[1;31mTypeError\u001b[0m                                 Traceback (most recent call last)",
      "\u001b[1;32m~\\AppData\\Local\\Temp/ipykernel_19928/3777001465.py\u001b[0m in \u001b[0;36m<module>\u001b[1;34m\u001b[0m\n\u001b[1;32m----> 1\u001b[1;33m \u001b[0ms1\u001b[0m \u001b[1;33m>\u001b[0m \u001b[0ms2\u001b[0m\u001b[1;33m\u001b[0m\u001b[1;33m\u001b[0m\u001b[0m\n\u001b[0m",
      "\u001b[1;31mTypeError\u001b[0m: '>' not supported between instances of 'Student' and 'Student'"
     ]
    }
   ],
   "source": [
    "s1 > s2"
   ]
  },
  {
   "cell_type": "code",
   "execution_count": 38,
   "id": "3f14bdda",
   "metadata": {},
   "outputs": [],
   "source": [
    "import math\n",
    "class Circle:\n",
    "\n",
    "    def __init__(self, radius):\n",
    "        self.radius = radius\n",
    "\n",
    "    def get_area(self):\n",
    "        return math.pi * self.radius**2\n",
    "    \n",
    "    def __str__(self):\n",
    "        return \"Circle with radius \" + str(self.radius)"
   ]
  },
  {
   "cell_type": "code",
   "execution_count": 39,
   "id": "507b6d5f",
   "metadata": {},
   "outputs": [],
   "source": [
    "c1 = Circle(10)\n",
    "c2 = Circle(5)"
   ]
  },
  {
   "cell_type": "code",
   "execution_count": 40,
   "id": "ec1acd26",
   "metadata": {},
   "outputs": [
    {
     "ename": "TypeError",
     "evalue": "unsupported operand type(s) for +: 'Circle' and 'Circle'",
     "output_type": "error",
     "traceback": [
      "\u001b[1;31m---------------------------------------------------------------------------\u001b[0m",
      "\u001b[1;31mTypeError\u001b[0m                                 Traceback (most recent call last)",
      "\u001b[1;32m~\\AppData\\Local\\Temp/ipykernel_19928/3659229129.py\u001b[0m in \u001b[0;36m<module>\u001b[1;34m\u001b[0m\n\u001b[1;32m----> 1\u001b[1;33m \u001b[0mc1\u001b[0m \u001b[1;33m+\u001b[0m \u001b[0mc2\u001b[0m\u001b[1;33m\u001b[0m\u001b[1;33m\u001b[0m\u001b[0m\n\u001b[0m",
      "\u001b[1;31mTypeError\u001b[0m: unsupported operand type(s) for +: 'Circle' and 'Circle'"
     ]
    }
   ],
   "source": [
    "c1 + c2"
   ]
  },
  {
   "cell_type": "code",
   "execution_count": 41,
   "id": "a056f937",
   "metadata": {},
   "outputs": [
    {
     "name": "stdout",
     "output_type": "stream",
     "text": [
      "78.53981633974483\n"
     ]
    }
   ],
   "source": [
    "print(c2.get_area())"
   ]
  },
  {
   "cell_type": "code",
   "execution_count": 42,
   "id": "4796379d",
   "metadata": {},
   "outputs": [],
   "source": [
    "\n",
    "class Circle:\n",
    "\n",
    "    def __init__(self, radius):\n",
    "        self.radius = radius\n",
    "\n",
    "    def get_area(self):\n",
    "        return math.pi * self.radius**2\n",
    "\n",
    "    def __str__(self):\n",
    "        return \"Circle with radius \" + str(self.radius)\n",
    "\n",
    "    def __add__(self, another_circle): # another right side of the operator\n",
    "        return Circle(self.radius + another_circle.radius)\n",
    "    \n",
    "c1 = Circle(10)\n",
    "c2 = Circle(5)   \n",
    "c3 = c1 + c2 # c1.__add__(c1, c2)"
   ]
  },
  {
   "cell_type": "code",
   "execution_count": 43,
   "id": "2f70a349",
   "metadata": {},
   "outputs": [
    {
     "name": "stdout",
     "output_type": "stream",
     "text": [
      "Circle with radius 15\n"
     ]
    }
   ],
   "source": [
    "print(c3)"
   ]
  },
  {
   "cell_type": "code",
   "execution_count": 44,
   "id": "98d3218b",
   "metadata": {},
   "outputs": [
    {
     "ename": "TypeError",
     "evalue": "'>' not supported between instances of 'Circle' and 'Circle'",
     "output_type": "error",
     "traceback": [
      "\u001b[1;31m---------------------------------------------------------------------------\u001b[0m",
      "\u001b[1;31mTypeError\u001b[0m                                 Traceback (most recent call last)",
      "\u001b[1;32m~\\AppData\\Local\\Temp/ipykernel_19928/4266050764.py\u001b[0m in \u001b[0;36m<module>\u001b[1;34m\u001b[0m\n\u001b[1;32m----> 1\u001b[1;33m \u001b[0mc1\u001b[0m \u001b[1;33m>\u001b[0m \u001b[0mc2\u001b[0m\u001b[1;33m\u001b[0m\u001b[1;33m\u001b[0m\u001b[0m\n\u001b[0m",
      "\u001b[1;31mTypeError\u001b[0m: '>' not supported between instances of 'Circle' and 'Circle'"
     ]
    }
   ],
   "source": [
    "c1 > c2"
   ]
  },
  {
   "cell_type": "code",
   "execution_count": 46,
   "id": "5301ffc7",
   "metadata": {},
   "outputs": [],
   "source": [
    "\n",
    "class Circle:\n",
    "\n",
    "    def __init__(self, radius):\n",
    "        self.radius = radius\n",
    "\n",
    "    def get_area(self):\n",
    "        return math.pi * self.radius**2\n",
    "\n",
    "    def __str__(self):\n",
    "        return \"Circle with radius \" + str(self.radius)\n",
    "\n",
    "    def __add__(self, another_circle):\n",
    "        return Circle(self.radius + another_circle.radius)\n",
    "\n",
    "    def __gt__(self, another_circle):\n",
    "        return self.radius > another_circle.radius\n",
    "\n",
    "    def __lt__(self, another_circle):\n",
    "        return self.radius < another_circle.radius"
   ]
  },
  {
   "cell_type": "code",
   "execution_count": 63,
   "id": "dce57549",
   "metadata": {},
   "outputs": [
    {
     "name": "stdout",
     "output_type": "stream",
     "text": [
      "Circle with radius 15\n"
     ]
    }
   ],
   "source": [
    "c1 = Circle(10)\n",
    "c2 = Circle(5)   \n",
    "print(c1 + c2)"
   ]
  },
  {
   "cell_type": "code",
   "execution_count": 48,
   "id": "b036a110",
   "metadata": {},
   "outputs": [],
   "source": [
    "class Person:\n",
    "    def __init__(self, first_name, last_name):\n",
    "        self.first_name = first_name\n",
    "        self.last_name = last_name\n",
    "\n",
    "    \n",
    "\n",
    "class Student(Person):\n",
    "    def __init__(self, first_name, last_name, credit_hours, q_point):\n",
    "        super().__init__(first_name, last_name)\n",
    "        self.credit_hours = credit_hours\n",
    "        self.q_point = q_point\n",
    "        \n",
    "\n",
    "    def get_gpa(self):\n",
    "        return round(self.q_point / self.credit_hours, 2)\n",
    "    \n",
    "    def __repr__(self):\n",
    "        return f'{self.first_name} {self.last_name}; {self.get_gpa()}'\n",
    "    \n",
    "    def __gt__(self, other_student):\n",
    "        return self.get_gpa() > other_student.get_gpa()\n",
    "    \n",
    "    \n",
    "filename = 'data.tsv'\n",
    "\n",
    "students = []\n",
    "\n",
    "with open(filename) as file:\n",
    "    for line in file:\n",
    "        if not line.strip():\n",
    "            continue\n",
    "        \n",
    "        name, credits, q_points = line.strip().split('\\t')\n",
    "        last_name, first_name = name.split(', ')\n",
    "        \n",
    "        student = Student(first_name, last_name, int(credits), int(q_points))\n",
    "        students.append(student)"
   ]
  },
  {
   "cell_type": "code",
   "execution_count": 49,
   "id": "ff845009",
   "metadata": {},
   "outputs": [],
   "source": [
    "s1 = students[0]\n",
    "s2 = students[1]"
   ]
  },
  {
   "cell_type": "code",
   "execution_count": 50,
   "id": "74da3b73",
   "metadata": {},
   "outputs": [
    {
     "data": {
      "text/plain": [
       "False"
      ]
     },
     "execution_count": 50,
     "metadata": {},
     "output_type": "execute_result"
    }
   ],
   "source": [
    "s1 > s2"
   ]
  },
  {
   "cell_type": "code",
   "execution_count": 51,
   "id": "1987273f",
   "metadata": {},
   "outputs": [
    {
     "name": "stdout",
     "output_type": "stream",
     "text": [
      "Samuel Anderson; 2.62 Jacob Cummings; 3.41\n"
     ]
    }
   ],
   "source": [
    "print(s1, s2)"
   ]
  },
  {
   "cell_type": "code",
   "execution_count": 52,
   "id": "99a95f0e",
   "metadata": {},
   "outputs": [
    {
     "data": {
      "text/plain": [
       "Brandon Crane; 3.89"
      ]
     },
     "execution_count": 52,
     "metadata": {},
     "output_type": "execute_result"
    }
   ],
   "source": [
    "max(students)"
   ]
  },
  {
   "cell_type": "code",
   "execution_count": 53,
   "id": "246662dd",
   "metadata": {},
   "outputs": [
    {
     "data": {
      "text/plain": [
       "Jennifer Vazquez; 1.5"
      ]
     },
     "execution_count": 53,
     "metadata": {},
     "output_type": "execute_result"
    }
   ],
   "source": [
    "min(students)"
   ]
  },
  {
   "cell_type": "code",
   "execution_count": 54,
   "id": "0328630b",
   "metadata": {},
   "outputs": [],
   "source": [
    "x = 3\n"
   ]
  },
  {
   "cell_type": "code",
   "execution_count": 56,
   "id": "80ddd159",
   "metadata": {},
   "outputs": [
    {
     "data": {
      "text/plain": [
       "False"
      ]
     },
     "execution_count": 56,
     "metadata": {},
     "output_type": "execute_result"
    }
   ],
   "source": [
    "x.__gt__(9)"
   ]
  },
  {
   "cell_type": "code",
   "execution_count": 57,
   "id": "7a96f31b",
   "metadata": {},
   "outputs": [
    {
     "data": {
      "text/plain": [
       "['__abs__',\n",
       " '__add__',\n",
       " '__and__',\n",
       " '__bool__',\n",
       " '__ceil__',\n",
       " '__class__',\n",
       " '__delattr__',\n",
       " '__dir__',\n",
       " '__divmod__',\n",
       " '__doc__',\n",
       " '__eq__',\n",
       " '__float__',\n",
       " '__floor__',\n",
       " '__floordiv__',\n",
       " '__format__',\n",
       " '__ge__',\n",
       " '__getattribute__',\n",
       " '__getnewargs__',\n",
       " '__gt__',\n",
       " '__hash__',\n",
       " '__index__',\n",
       " '__init__',\n",
       " '__init_subclass__',\n",
       " '__int__',\n",
       " '__invert__',\n",
       " '__le__',\n",
       " '__lshift__',\n",
       " '__lt__',\n",
       " '__mod__',\n",
       " '__mul__',\n",
       " '__ne__',\n",
       " '__neg__',\n",
       " '__new__',\n",
       " '__or__',\n",
       " '__pos__',\n",
       " '__pow__',\n",
       " '__radd__',\n",
       " '__rand__',\n",
       " '__rdivmod__',\n",
       " '__reduce__',\n",
       " '__reduce_ex__',\n",
       " '__repr__',\n",
       " '__rfloordiv__',\n",
       " '__rlshift__',\n",
       " '__rmod__',\n",
       " '__rmul__',\n",
       " '__ror__',\n",
       " '__round__',\n",
       " '__rpow__',\n",
       " '__rrshift__',\n",
       " '__rshift__',\n",
       " '__rsub__',\n",
       " '__rtruediv__',\n",
       " '__rxor__',\n",
       " '__setattr__',\n",
       " '__sizeof__',\n",
       " '__str__',\n",
       " '__sub__',\n",
       " '__subclasshook__',\n",
       " '__truediv__',\n",
       " '__trunc__',\n",
       " '__xor__',\n",
       " 'as_integer_ratio',\n",
       " 'bit_length',\n",
       " 'conjugate',\n",
       " 'denominator',\n",
       " 'from_bytes',\n",
       " 'imag',\n",
       " 'numerator',\n",
       " 'real',\n",
       " 'to_bytes']"
      ]
     },
     "execution_count": 57,
     "metadata": {},
     "output_type": "execute_result"
    }
   ],
   "source": [
    "dir(x)"
   ]
  },
  {
   "cell_type": "code",
   "execution_count": 58,
   "id": "6161cca1",
   "metadata": {},
   "outputs": [
    {
     "data": {
      "text/plain": [
       "['ABC',\n",
       " 'BasePlusCommissionEmployee',\n",
       " 'Beverage',\n",
       " 'Circle',\n",
       " 'CommissionEmployee',\n",
       " 'Employee',\n",
       " 'HourlyEmployee',\n",
       " 'In',\n",
       " 'Logfile',\n",
       " 'Out',\n",
       " 'Person',\n",
       " 'SalariedEmployee',\n",
       " 'Student',\n",
       " '_',\n",
       " '_14',\n",
       " '_15',\n",
       " '_27',\n",
       " '_29',\n",
       " '_30',\n",
       " '_31',\n",
       " '_50',\n",
       " '_52',\n",
       " '_53',\n",
       " '_55',\n",
       " '_56',\n",
       " '_57',\n",
       " '_6',\n",
       " '_7',\n",
       " '_9',\n",
       " '__',\n",
       " '___',\n",
       " '__builtin__',\n",
       " '__builtins__',\n",
       " '__doc__',\n",
       " '__loader__',\n",
       " '__name__',\n",
       " '__package__',\n",
       " '__spec__',\n",
       " '_dh',\n",
       " '_i',\n",
       " '_i1',\n",
       " '_i10',\n",
       " '_i11',\n",
       " '_i12',\n",
       " '_i13',\n",
       " '_i14',\n",
       " '_i15',\n",
       " '_i16',\n",
       " '_i17',\n",
       " '_i18',\n",
       " '_i19',\n",
       " '_i2',\n",
       " '_i20',\n",
       " '_i21',\n",
       " '_i22',\n",
       " '_i23',\n",
       " '_i24',\n",
       " '_i25',\n",
       " '_i26',\n",
       " '_i27',\n",
       " '_i28',\n",
       " '_i29',\n",
       " '_i3',\n",
       " '_i30',\n",
       " '_i31',\n",
       " '_i32',\n",
       " '_i33',\n",
       " '_i34',\n",
       " '_i35',\n",
       " '_i36',\n",
       " '_i37',\n",
       " '_i38',\n",
       " '_i39',\n",
       " '_i4',\n",
       " '_i40',\n",
       " '_i41',\n",
       " '_i42',\n",
       " '_i43',\n",
       " '_i44',\n",
       " '_i45',\n",
       " '_i46',\n",
       " '_i47',\n",
       " '_i48',\n",
       " '_i49',\n",
       " '_i5',\n",
       " '_i50',\n",
       " '_i51',\n",
       " '_i52',\n",
       " '_i53',\n",
       " '_i54',\n",
       " '_i55',\n",
       " '_i56',\n",
       " '_i57',\n",
       " '_i58',\n",
       " '_i6',\n",
       " '_i7',\n",
       " '_i8',\n",
       " '_i9',\n",
       " '_ih',\n",
       " '_ii',\n",
       " '_iii',\n",
       " '_oh',\n",
       " 'abstractmethod',\n",
       " 'b1',\n",
       " 'b2',\n",
       " 'b3',\n",
       " 'base_plus_commission_employee',\n",
       " 'beverage',\n",
       " 'beverages',\n",
       " 'bevs',\n",
       " 'c1',\n",
       " 'c2',\n",
       " 'c3',\n",
       " 'commission_employee',\n",
       " 'credits',\n",
       " 'employee',\n",
       " 'employees',\n",
       " 'exit',\n",
       " 'file',\n",
       " 'filename',\n",
       " 'first_name',\n",
       " 'get_ipython',\n",
       " 'hourly_employee',\n",
       " 'l1',\n",
       " 'l2',\n",
       " 'last_name',\n",
       " 'line',\n",
       " 'math',\n",
       " 'name',\n",
       " 'q_points',\n",
       " 'quit',\n",
       " 'row',\n",
       " 's1',\n",
       " 's2',\n",
       " 'salaried_employee',\n",
       " 'se',\n",
       " 'student',\n",
       " 'students',\n",
       " 'x']"
      ]
     },
     "execution_count": 58,
     "metadata": {},
     "output_type": "execute_result"
    }
   ],
   "source": [
    "dir()"
   ]
  },
  {
   "cell_type": "code",
   "execution_count": 59,
   "id": "0dd2d3f7",
   "metadata": {},
   "outputs": [
    {
     "name": "stdout",
     "output_type": "stream",
     "text": [
      "2781101622416 2781101622928\n"
     ]
    }
   ],
   "source": [
    "x = 10000\n",
    "y = 10000\n",
    "\n",
    "print(id(x), id(y))"
   ]
  },
  {
   "cell_type": "code",
   "execution_count": 60,
   "id": "70486774",
   "metadata": {},
   "outputs": [
    {
     "name": "stdout",
     "output_type": "stream",
     "text": [
      "140732709610720 140732709610720\n"
     ]
    }
   ],
   "source": [
    "x = 48\n",
    "y = 48\n",
    "\n",
    "print(id(x), id(y))"
   ]
  },
  {
   "cell_type": "code",
   "execution_count": 61,
   "id": "3b7faa1e",
   "metadata": {},
   "outputs": [
    {
     "name": "stdout",
     "output_type": "stream",
     "text": [
      "11, 10\n"
     ]
    }
   ],
   "source": [
    "class Point:\n",
    "    def __init__(self, x=0, y=0):\n",
    "        self.x = x\n",
    "        self.y = y\n",
    "\n",
    "    def __add__(self, another_point):\n",
    "        return Point(self.x + another_point.x, self.y + another_point.y)\n",
    "\n",
    "    def __sub__(self, another_point):\n",
    "        return Point(self.x - another_point.x, self.y - another_point.y)\n",
    "\n",
    "    def __str__(self):\n",
    "        return f'{self.x}, {self.y}'\n",
    "\n",
    "p1 = Point(3, 4)\n",
    "p2 = Point(8, 6)\n",
    "print(p2+p1)"
   ]
  },
  {
   "cell_type": "code",
   "execution_count": 62,
   "id": "296bc91c",
   "metadata": {},
   "outputs": [
    {
     "name": "stdout",
     "output_type": "stream",
     "text": [
      "5.385164807134504\n"
     ]
    }
   ],
   "source": [
    "import math\n",
    "class Point:\n",
    "    def __init__(self, x=0, y=0):\n",
    "        self.x = x\n",
    "        self.y = y\n",
    "\n",
    "    def __add__(self, another_point):\n",
    "        return Point(self.x + another_point.x, self.y + another_point.y)\n",
    "\n",
    "    def __sub__(self, another_point):\n",
    "        return Point(self.x - another_point.x, self.y - another_point.y)\n",
    "\n",
    "    def length(self):\n",
    "        return math.sqrt(self.x**2 + self.y**2)\n",
    "\n",
    "    def distance(self, another_point):\n",
    "        return (self - another_point).length()\n",
    "\n",
    "    def __str__(self):\n",
    "        return f'{self.x}, {self.y}'\n",
    "\n",
    "p1 = Point(3, 4)\n",
    "p2 = Point(8, 6)\n",
    "print(p1.distance(p2))\n"
   ]
  },
  {
   "cell_type": "markdown",
   "id": "8a321803",
   "metadata": {},
   "source": [
    "1. __iter__()\n",
    "    1. init a value\n",
    "    2. return self #### important you will forget this!!!\n",
    "2. __next__():\n",
    "    1. increment next value after saving the current value \n",
    "    2. return current value\n",
    "    3. if above limit, raise stop iteration"
   ]
  },
  {
   "cell_type": "code",
   "execution_count": 93,
   "id": "eb4d0761",
   "metadata": {},
   "outputs": [
    {
     "data": {
      "text/plain": [
       "<__main__.MyRange at 0x28786b65040>"
      ]
     },
     "execution_count": 93,
     "metadata": {},
     "output_type": "execute_result"
    }
   ],
   "source": [
    "class MyRange:\n",
    "\n",
    "    def __init__(self, limit):\n",
    "        self.limit = limit\n",
    "\n",
    "    def __iter__(self):\n",
    "        self.value = 0\n",
    "        return self\n",
    "\n",
    "    def __next__(self):\n",
    "        if self.value < self.limit:\n",
    "            output = self.value\n",
    "            self.value += 1\n",
    "            return output\n",
    "        else:\n",
    "            raise StopIteration\n",
    "            \n",
    "my_range = MyRange(6)\n",
    "\n",
    "my_range.__iter__()"
   ]
  },
  {
   "cell_type": "code",
   "execution_count": 85,
   "id": "a081d310",
   "metadata": {},
   "outputs": [
    {
     "ename": "StopIteration",
     "evalue": "",
     "output_type": "error",
     "traceback": [
      "\u001b[1;31m---------------------------------------------------------------------------\u001b[0m",
      "\u001b[1;31mStopIteration\u001b[0m                             Traceback (most recent call last)",
      "\u001b[1;32m~\\AppData\\Local\\Temp/ipykernel_19928/48619867.py\u001b[0m in \u001b[0;36m<module>\u001b[1;34m\u001b[0m\n\u001b[1;32m----> 1\u001b[1;33m \u001b[0mmy_range\u001b[0m\u001b[1;33m.\u001b[0m\u001b[0m__next__\u001b[0m\u001b[1;33m(\u001b[0m\u001b[1;33m)\u001b[0m\u001b[1;33m\u001b[0m\u001b[1;33m\u001b[0m\u001b[0m\n\u001b[0m",
      "\u001b[1;32m~\\AppData\\Local\\Temp/ipykernel_19928/2455746216.py\u001b[0m in \u001b[0;36m__next__\u001b[1;34m(self)\u001b[0m\n\u001b[0;32m     14\u001b[0m             \u001b[1;32mreturn\u001b[0m \u001b[0moutput\u001b[0m\u001b[1;33m\u001b[0m\u001b[1;33m\u001b[0m\u001b[0m\n\u001b[0;32m     15\u001b[0m         \u001b[1;32melse\u001b[0m\u001b[1;33m:\u001b[0m\u001b[1;33m\u001b[0m\u001b[1;33m\u001b[0m\u001b[0m\n\u001b[1;32m---> 16\u001b[1;33m             \u001b[1;32mraise\u001b[0m \u001b[0mStopIteration\u001b[0m\u001b[1;33m\u001b[0m\u001b[1;33m\u001b[0m\u001b[0m\n\u001b[0m\u001b[0;32m     17\u001b[0m \u001b[1;33m\u001b[0m\u001b[0m\n\u001b[0;32m     18\u001b[0m \u001b[0mmy_range\u001b[0m \u001b[1;33m=\u001b[0m \u001b[0mMyRange\u001b[0m\u001b[1;33m(\u001b[0m\u001b[1;36m6\u001b[0m\u001b[1;33m)\u001b[0m\u001b[1;33m\u001b[0m\u001b[1;33m\u001b[0m\u001b[0m\n",
      "\u001b[1;31mStopIteration\u001b[0m: "
     ]
    }
   ],
   "source": [
    "my_range.__next__()"
   ]
  },
  {
   "cell_type": "code",
   "execution_count": 94,
   "id": "be6982ef",
   "metadata": {},
   "outputs": [
    {
     "name": "stdout",
     "output_type": "stream",
     "text": [
      "0\n",
      "1\n",
      "2\n",
      "3\n",
      "4\n",
      "5\n"
     ]
    }
   ],
   "source": [
    "for ele in my_range:\n",
    "    print(ele)"
   ]
  },
  {
   "cell_type": "code",
   "execution_count": 97,
   "id": "a118ca6f",
   "metadata": {},
   "outputs": [
    {
     "name": "stdout",
     "output_type": "stream",
     "text": [
      "0\n",
      "1\n",
      "2\n",
      "3\n",
      "4\n",
      "5\n"
     ]
    }
   ],
   "source": [
    "for ele in my_range:\n",
    "    print(ele)"
   ]
  },
  {
   "cell_type": "code",
   "execution_count": 98,
   "id": "0fa8b0bd",
   "metadata": {},
   "outputs": [
    {
     "name": "stdout",
     "output_type": "stream",
     "text": [
      "0\n",
      "1\n",
      "8\n",
      "27\n",
      "64\n",
      "125\n",
      "216\n",
      "343\n",
      "512\n",
      "729\n"
     ]
    }
   ],
   "source": [
    "class PowX:\n",
    "    def __init__(self, limit, power):\n",
    "        self.limit = limit\n",
    "        self.power = power\n",
    "\n",
    "    def __iter__(self):\n",
    "        self.value = 0\n",
    "        return self\n",
    "\n",
    "    def __next__(self):\n",
    "        if self.value < self.limit:\n",
    "            output = self.value**self.power\n",
    "            self.value += 1\n",
    "            return output\n",
    "        else:\n",
    "            raise StopIteration\n",
    "\n",
    "\n",
    "for ele in PowX(10, 3):\n",
    "    print(ele)"
   ]
  },
  {
   "cell_type": "code",
   "execution_count": 104,
   "id": "74a9f9ad",
   "metadata": {},
   "outputs": [
    {
     "name": "stdout",
     "output_type": "stream",
     "text": [
      "0\n",
      "1\n",
      "2\n",
      "3\n",
      "4\n",
      "5\n"
     ]
    }
   ],
   "source": [
    "my_range1 = MyRange(6)\n",
    "\n",
    "my_range1.__iter__()\n",
    "value = my_range1.__next__()\n",
    "while True:\n",
    "    print(value)\n",
    "    try:\n",
    "        value = my_range1.__next__()\n",
    "    except:\n",
    "        break\n",
    "  \n"
   ]
  },
  {
   "cell_type": "code",
   "execution_count": 105,
   "id": "8c9b532c",
   "metadata": {},
   "outputs": [
    {
     "name": "stdout",
     "output_type": "stream",
     "text": [
      "0\n",
      "1\n",
      "8\n",
      "27\n",
      "64\n",
      "125\n",
      "216\n",
      "343\n",
      "512\n",
      "729\n"
     ]
    }
   ],
   "source": [
    "## lets use generator\n",
    "\n",
    "def PowX(limit, power):\n",
    "    value = 0\n",
    "    while value < limit:\n",
    "        yield value**power\n",
    "        value += 1\n",
    "\n",
    "for ele in PowX(10, 3):\n",
    "    print(ele)"
   ]
  },
  {
   "cell_type": "code",
   "execution_count": 108,
   "id": "472ccb50",
   "metadata": {},
   "outputs": [
    {
     "name": "stdout",
     "output_type": "stream",
     "text": [
      "0\n",
      "1\n",
      "8\n",
      "27\n",
      "64\n",
      "125\n",
      "216\n",
      "343\n",
      "512\n",
      "729\n"
     ]
    }
   ],
   "source": [
    "my_gen = list(PowX(10, 3))\n",
    "for ele in my_gen:\n",
    "    print(ele)"
   ]
  },
  {
   "cell_type": "code",
   "execution_count": 109,
   "id": "9ff17fcc",
   "metadata": {},
   "outputs": [
    {
     "name": "stdout",
     "output_type": "stream",
     "text": [
      "0\n",
      "1\n",
      "8\n",
      "27\n",
      "64\n",
      "125\n",
      "216\n",
      "343\n",
      "512\n",
      "729\n"
     ]
    }
   ],
   "source": [
    "for ele in my_gen:\n",
    "    print(ele)"
   ]
  },
  {
   "cell_type": "code",
   "execution_count": 110,
   "id": "285da8dd",
   "metadata": {},
   "outputs": [
    {
     "data": {
      "text/plain": [
       "Samuel Anderson; 2.62"
      ]
     },
     "execution_count": 110,
     "metadata": {},
     "output_type": "execute_result"
    }
   ],
   "source": [
    "s1"
   ]
  },
  {
   "cell_type": "code",
   "execution_count": 111,
   "id": "dd52998f",
   "metadata": {},
   "outputs": [
    {
     "data": {
      "text/plain": [
       "Jacob Cummings; 3.41"
      ]
     },
     "execution_count": 111,
     "metadata": {},
     "output_type": "execute_result"
    }
   ],
   "source": [
    "s2"
   ]
  },
  {
   "cell_type": "code",
   "execution_count": 112,
   "id": "7f9b6760",
   "metadata": {},
   "outputs": [
    {
     "name": "stdout",
     "output_type": "stream",
     "text": [
      "2781098370384 2781098371104 False\n",
      "\n",
      "Print class_variable\n",
      "t1.class_variable:  1\n",
      "t2.class_variable:  1\n"
     ]
    }
   ],
   "source": [
    "class TestClass:\n",
    "    class_variable = 1 # Belongs to the class. Shared by all instances\n",
    "\n",
    "t1 = TestClass()\n",
    "t2 = TestClass()\n",
    "print(id(t1), id(t2), t2 is t1)\n",
    "\n",
    "print('\\nPrint class_variable')\n",
    "print('t1.class_variable: ', t1.class_variable)\n",
    "print('t2.class_variable: ', t2.class_variable)"
   ]
  },
  {
   "cell_type": "code",
   "execution_count": 113,
   "id": "da14c773",
   "metadata": {},
   "outputs": [
    {
     "name": "stdout",
     "output_type": "stream",
     "text": [
      "\n",
      "Change class_variable in class definition and print class_variable\n",
      "t1.class_variable:  2\n",
      "t2.class_variable:  2\n"
     ]
    }
   ],
   "source": [
    "print('\\nChange class_variable in class definition and print class_variable')\n",
    "TestClass.class_variable = 2\n",
    "print('t1.class_variable: ', t1.class_variable)\n",
    "print('t2.class_variable: ', t2.class_variable)"
   ]
  },
  {
   "cell_type": "code",
   "execution_count": 114,
   "id": "0fc0b52d",
   "metadata": {},
   "outputs": [
    {
     "name": "stdout",
     "output_type": "stream",
     "text": [
      "\n",
      "Change class_variable in instance t1 and print class_variable\n",
      "t1.class_variable:  3\n",
      "t2.class_variable:  2\n"
     ]
    }
   ],
   "source": [
    "print('\\nChange class_variable in instance t1 and print class_variable')\n",
    "t1.class_variable = 3\n",
    "print('t1.class_variable: ', t1.class_variable)\n",
    "print('t2.class_variable: ', t2.class_variable)"
   ]
  },
  {
   "cell_type": "code",
   "execution_count": 116,
   "id": "e881f079",
   "metadata": {},
   "outputs": [
    {
     "name": "stdout",
     "output_type": "stream",
     "text": [
      "\n",
      "Change class_variable in instance t2 and print class_variable\n",
      "t1.class_variable:  3\n",
      "t2.class_variable:  4\n",
      "TestClass.class_variable:  2\n"
     ]
    }
   ],
   "source": [
    "print('\\nChange class_variable in instance t2 and print class_variable')\n",
    "t2.class_variable = 4\n",
    "print('t1.class_variable: ', t1.class_variable)\n",
    "print('t2.class_variable: ', t2.class_variable)\n",
    "print('TestClass.class_variable: ', TestClass.class_variable)"
   ]
  },
  {
   "cell_type": "code",
   "execution_count": 117,
   "id": "ab4bb3cf",
   "metadata": {},
   "outputs": [],
   "source": [
    "TestClass.class_variable = 5"
   ]
  },
  {
   "cell_type": "code",
   "execution_count": 118,
   "id": "c85e7e14",
   "metadata": {},
   "outputs": [
    {
     "name": "stdout",
     "output_type": "stream",
     "text": [
      "\n",
      "Change class_variable in instance t2 and print class_variable\n",
      "t1.class_variable:  3\n",
      "t2.class_variable:  4\n",
      "TestClass.class_variable:  5\n"
     ]
    }
   ],
   "source": [
    "print('\\nChange class_variable in instance t2 and print class_variable')\n",
    "t2.class_variable = 4\n",
    "print('t1.class_variable: ', t1.class_variable)\n",
    "print('t2.class_variable: ', t2.class_variable)\n",
    "print('TestClass.class_variable: ', TestClass.class_variable)"
   ]
  },
  {
   "cell_type": "code",
   "execution_count": 119,
   "id": "f897bd7a",
   "metadata": {},
   "outputs": [
    {
     "name": "stdout",
     "output_type": "stream",
     "text": [
      "\n",
      "Print class_variable\n",
      "t1.class_variable:  1\n",
      "t2.class_variable:  1\n"
     ]
    }
   ],
   "source": [
    "class TestClass:\n",
    "    class_variable = 1 # Belongs to the class. Shared by all instances\n",
    "\n",
    "    def __init__(self, instance_variable):\n",
    "        self.instance_variable = instance_variable\n",
    "\n",
    "\n",
    "t1 = TestClass(1)\n",
    "t2 = TestClass(2)\n",
    "\n",
    "\n",
    "print('\\nPrint class_variable')\n",
    "print('t1.class_variable: ', t1.class_variable)\n",
    "print('t2.class_variable: ', t2.class_variable)"
   ]
  },
  {
   "cell_type": "code",
   "execution_count": 121,
   "id": "4922f89e",
   "metadata": {},
   "outputs": [
    {
     "name": "stdout",
     "output_type": "stream",
     "text": [
      "\n",
      "Print instance_variable\n",
      "t1.instance_variable:  1\n",
      "t2.instance_variable:  2\n"
     ]
    }
   ],
   "source": [
    "print('\\nPrint instance_variable')\n",
    "print('t1.instance_variable: ', t1.instance_variable)\n",
    "print('t2.instance_variable: ', t2.instance_variable)"
   ]
  },
  {
   "cell_type": "code",
   "execution_count": 122,
   "id": "47da8ffd",
   "metadata": {},
   "outputs": [
    {
     "name": "stdout",
     "output_type": "stream",
     "text": [
      "\n",
      "Change class_variable in class definition and print class_variable\n",
      "t1.class_variable:  2\n",
      "t1.class_variable:  2\n"
     ]
    }
   ],
   "source": [
    "print('\\nChange class_variable in class definition and print class_variable')\n",
    "TestClass.class_variable = 2\n",
    "print('t1.class_variable: ', t1.class_variable)\n",
    "print('t1.class_variable: ', t2.class_variable)"
   ]
  },
  {
   "cell_type": "code",
   "execution_count": 123,
   "id": "ecc6a535",
   "metadata": {},
   "outputs": [
    {
     "name": "stdout",
     "output_type": "stream",
     "text": [
      "\n",
      "Change instance_variable for t1 and print instance_variable\n",
      "t1.instance_variable:  10\n",
      "t2.instance_variable:  2\n"
     ]
    }
   ],
   "source": [
    "print('\\nChange instance_variable for t1 and print instance_variable')\n",
    "t1.instance_variable = 10\n",
    "print('t1.instance_variable: ', t1.instance_variable)\n",
    "print('t2.instance_variable: ', t2.instance_variable)"
   ]
  },
  {
   "cell_type": "code",
   "execution_count": 124,
   "id": "a8451b14",
   "metadata": {},
   "outputs": [
    {
     "name": "stdout",
     "output_type": "stream",
     "text": [
      "\n",
      "Change instance_variable for t2 and print instance_variable\n",
      "t1.instance_variable:  10\n",
      "t2.instance_variable:  20\n"
     ]
    }
   ],
   "source": [
    "print('\\nChange instance_variable for t2 and print instance_variable')\n",
    "t2.instance_variable = 20\n",
    "print('t1.instance_variable: ', t1.instance_variable)\n",
    "print('t2.instance_variable: ', t2.instance_variable)"
   ]
  },
  {
   "cell_type": "code",
   "execution_count": 125,
   "id": "d87acaf8",
   "metadata": {},
   "outputs": [
    {
     "name": "stdout",
     "output_type": "stream",
     "text": [
      "\n",
      "Change class_variable in instance t1 and print class_variable\n",
      "t1.class_variable:  3\n",
      "t2.class_variable:  2\n"
     ]
    }
   ],
   "source": [
    "print('\\nChange class_variable in instance t1 and print class_variable')\n",
    "t1.class_variable = 3\n",
    "print('t1.class_variable: ', t1.class_variable)\n",
    "print('t2.class_variable: ', t2.class_variable)"
   ]
  },
  {
   "cell_type": "code",
   "execution_count": 126,
   "id": "beee8b6a",
   "metadata": {},
   "outputs": [
    {
     "name": "stdout",
     "output_type": "stream",
     "text": [
      "\n",
      "Change class_variable in instance t2 and print class_variable\n",
      "t1.class_variable:  3\n",
      "t2.class_variable:  4\n"
     ]
    }
   ],
   "source": [
    "print('\\nChange class_variable in instance t2 and print class_variable')\n",
    "t2.class_variable = 4\n",
    "print('t1.class_variable: ', t1.class_variable)\n",
    "print('t2.class_variable: ', t2.class_variable)"
   ]
  },
  {
   "cell_type": "code",
   "execution_count": 127,
   "id": "26ac97cb",
   "metadata": {},
   "outputs": [],
   "source": [
    "class TestClass:\n",
    "    class_variable = 1\n",
    "\n",
    "    # @staticmethod are bound to class rather than object. Therefore, to use them, you do not have\n",
    "    # to instantiate an object.\n",
    "    # NOTE: staticmethods do no have access to class properties (variables or methods).\n",
    "    # This means they cannot access class_variable.\n",
    "    # Such methods are used when you do not want subclasses to change/overwrite a specific method.\n",
    "\n",
    "    @staticmethod\n",
    "    def add(number1, number2):\n",
    "        return number1 + number2"
   ]
  },
  {
   "cell_type": "code",
   "execution_count": 128,
   "id": "e2afa34c",
   "metadata": {},
   "outputs": [
    {
     "data": {
      "text/plain": [
       "7"
      ]
     },
     "execution_count": 128,
     "metadata": {},
     "output_type": "execute_result"
    }
   ],
   "source": [
    "TestClass.add(3, 4)"
   ]
  },
  {
   "cell_type": "code",
   "execution_count": 129,
   "id": "609f8362",
   "metadata": {},
   "outputs": [
    {
     "name": "stdout",
     "output_type": "stream",
     "text": [
      "@staticmethod add:  7\n"
     ]
    }
   ],
   "source": [
    "print('@staticmethod add: ', TestClass.add(3,4))"
   ]
  },
  {
   "cell_type": "code",
   "execution_count": 132,
   "id": "e3710798",
   "metadata": {},
   "outputs": [],
   "source": [
    "class TestClass2:\n",
    "    class_variable = 1\n",
    "\n",
    "    # @staticmethod are bound to class rather than object. Therefore, to use them, you do not have\n",
    "    # to instantiate an object.\n",
    "    # NOTE: staticmethods do no have access to class properties (variables or methods).\n",
    "    # This means they cannot access class_variable.\n",
    "    # Such methods are used when you do not want subclasses to change/overwrite a specific method.\n",
    "\n",
    "    @staticmethod\n",
    "    def add(number1, number2):\n",
    "        return number1 + number2 + class_variable"
   ]
  },
  {
   "cell_type": "code",
   "execution_count": 133,
   "id": "c8b99155",
   "metadata": {},
   "outputs": [
    {
     "ename": "NameError",
     "evalue": "name 'class_variable' is not defined",
     "output_type": "error",
     "traceback": [
      "\u001b[1;31m---------------------------------------------------------------------------\u001b[0m",
      "\u001b[1;31mNameError\u001b[0m                                 Traceback (most recent call last)",
      "\u001b[1;32m~\\AppData\\Local\\Temp/ipykernel_19928/3879193889.py\u001b[0m in \u001b[0;36m<module>\u001b[1;34m\u001b[0m\n\u001b[1;32m----> 1\u001b[1;33m \u001b[0mprint\u001b[0m\u001b[1;33m(\u001b[0m\u001b[1;34m'@staticmethod add: '\u001b[0m\u001b[1;33m,\u001b[0m \u001b[0mTestClass2\u001b[0m\u001b[1;33m.\u001b[0m\u001b[0madd\u001b[0m\u001b[1;33m(\u001b[0m\u001b[1;36m3\u001b[0m\u001b[1;33m,\u001b[0m\u001b[1;36m4\u001b[0m\u001b[1;33m)\u001b[0m\u001b[1;33m)\u001b[0m\u001b[1;33m\u001b[0m\u001b[1;33m\u001b[0m\u001b[0m\n\u001b[0m",
      "\u001b[1;32m~\\AppData\\Local\\Temp/ipykernel_19928/2229483334.py\u001b[0m in \u001b[0;36madd\u001b[1;34m(number1, number2)\u001b[0m\n\u001b[0;32m     10\u001b[0m     \u001b[1;33m@\u001b[0m\u001b[0mstaticmethod\u001b[0m\u001b[1;33m\u001b[0m\u001b[1;33m\u001b[0m\u001b[0m\n\u001b[0;32m     11\u001b[0m     \u001b[1;32mdef\u001b[0m \u001b[0madd\u001b[0m\u001b[1;33m(\u001b[0m\u001b[0mnumber1\u001b[0m\u001b[1;33m,\u001b[0m \u001b[0mnumber2\u001b[0m\u001b[1;33m)\u001b[0m\u001b[1;33m:\u001b[0m\u001b[1;33m\u001b[0m\u001b[1;33m\u001b[0m\u001b[0m\n\u001b[1;32m---> 12\u001b[1;33m         \u001b[1;32mreturn\u001b[0m \u001b[0mnumber1\u001b[0m \u001b[1;33m+\u001b[0m \u001b[0mnumber2\u001b[0m \u001b[1;33m+\u001b[0m \u001b[0mclass_variable\u001b[0m\u001b[1;33m\u001b[0m\u001b[1;33m\u001b[0m\u001b[0m\n\u001b[0m",
      "\u001b[1;31mNameError\u001b[0m: name 'class_variable' is not defined"
     ]
    }
   ],
   "source": [
    "print('@staticmethod add: ', TestClass2.add(3,4))"
   ]
  },
  {
   "cell_type": "code",
   "execution_count": 135,
   "id": "ce9d50c8",
   "metadata": {},
   "outputs": [
    {
     "name": "stdout",
     "output_type": "stream",
     "text": [
      "@classmethod add:  11\n"
     ]
    }
   ],
   "source": [
    "\n",
    "class TestClass:\n",
    "    class_variable = 1\n",
    "\n",
    "    # @classmethod are bound to class rather than object. Therefore, to use them, you do not have\n",
    "    # to instantiate an object.\n",
    "    # NOTE: Unlike staticmethods, classmethods do have access to class properties (variables or methods).\n",
    "    # This means they can access class_variable.\n",
    "\n",
    "    @classmethod\n",
    "    def add(cls, number1, number2):\n",
    "        return number1 + number2\n",
    "print('@classmethod add: ', TestClass.add(5,6))"
   ]
  },
  {
   "cell_type": "code",
   "execution_count": 136,
   "id": "2f8041a2",
   "metadata": {},
   "outputs": [
    {
     "name": "stdout",
     "output_type": "stream",
     "text": [
      "@classmethod add -- access to class variable:  12\n"
     ]
    }
   ],
   "source": [
    "class TestClass2:\n",
    "    class_variable = 1\n",
    "\n",
    "    # @classmethod are bound to class rather than object. Therefore, to use them, you do not have\n",
    "    # to instantiate an object.\n",
    "    # NOTE: Unlike staticmethods, classmethods do have access to class properties (variables or methods).\n",
    "    # This means they can access class_variable.\n",
    "\n",
    "    @classmethod\n",
    "    def add(cls, number1, number2):\n",
    "        return number1 + number2 + cls.class_variable\n",
    "\n",
    "print('@classmethod add -- access to class variable: ', TestClass2.add(5,6))"
   ]
  },
  {
   "cell_type": "code",
   "execution_count": 140,
   "id": "8ddf8700",
   "metadata": {},
   "outputs": [
    {
     "ename": "NameError",
     "evalue": "name 'sub' is not defined",
     "output_type": "error",
     "traceback": [
      "\u001b[1;31m---------------------------------------------------------------------------\u001b[0m",
      "\u001b[1;31mNameError\u001b[0m                                 Traceback (most recent call last)",
      "\u001b[1;32m~\\AppData\\Local\\Temp/ipykernel_19928/460353282.py\u001b[0m in \u001b[0;36m<module>\u001b[1;34m\u001b[0m\n\u001b[0;32m     16\u001b[0m         \u001b[0mprint\u001b[0m\u001b[1;33m(\u001b[0m\u001b[0mnum1\u001b[0m\u001b[1;33m-\u001b[0m\u001b[0mnum2\u001b[0m\u001b[1;33m)\u001b[0m\u001b[1;33m\u001b[0m\u001b[1;33m\u001b[0m\u001b[0m\n\u001b[0;32m     17\u001b[0m \u001b[1;33m\u001b[0m\u001b[0m\n\u001b[1;32m---> 18\u001b[1;33m \u001b[0mprint\u001b[0m\u001b[1;33m(\u001b[0m\u001b[1;34m'@classmethod add -- access to class variable: '\u001b[0m\u001b[1;33m,\u001b[0m \u001b[0mTestClass3\u001b[0m\u001b[1;33m.\u001b[0m\u001b[0madd\u001b[0m\u001b[1;33m(\u001b[0m\u001b[1;36m5\u001b[0m\u001b[1;33m,\u001b[0m\u001b[1;36m6\u001b[0m\u001b[1;33m)\u001b[0m\u001b[1;33m)\u001b[0m\u001b[1;33m\u001b[0m\u001b[1;33m\u001b[0m\u001b[0m\n\u001b[0m",
      "\u001b[1;32m~\\AppData\\Local\\Temp/ipykernel_19928/460353282.py\u001b[0m in \u001b[0;36madd\u001b[1;34m(cls, number1, number2)\u001b[0m\n\u001b[0;32m      9\u001b[0m     \u001b[1;33m@\u001b[0m\u001b[0mclassmethod\u001b[0m\u001b[1;33m\u001b[0m\u001b[1;33m\u001b[0m\u001b[0m\n\u001b[0;32m     10\u001b[0m     \u001b[1;32mdef\u001b[0m \u001b[0madd\u001b[0m\u001b[1;33m(\u001b[0m\u001b[0mcls\u001b[0m\u001b[1;33m,\u001b[0m \u001b[0mnumber1\u001b[0m\u001b[1;33m,\u001b[0m \u001b[0mnumber2\u001b[0m\u001b[1;33m)\u001b[0m\u001b[1;33m:\u001b[0m\u001b[1;33m\u001b[0m\u001b[1;33m\u001b[0m\u001b[0m\n\u001b[1;32m---> 11\u001b[1;33m         \u001b[0msub\u001b[0m\u001b[1;33m(\u001b[0m\u001b[0mnumber1\u001b[0m\u001b[1;33m,\u001b[0m\u001b[0mnumber2\u001b[0m\u001b[1;33m)\u001b[0m\u001b[1;33m\u001b[0m\u001b[1;33m\u001b[0m\u001b[0m\n\u001b[0m\u001b[0;32m     12\u001b[0m         \u001b[1;32mreturn\u001b[0m \u001b[0mnumber1\u001b[0m \u001b[1;33m+\u001b[0m \u001b[0mnumber2\u001b[0m \u001b[1;33m+\u001b[0m \u001b[0mcls\u001b[0m\u001b[1;33m.\u001b[0m\u001b[0mclass_variable\u001b[0m\u001b[1;33m\u001b[0m\u001b[1;33m\u001b[0m\u001b[0m\n\u001b[0;32m     13\u001b[0m \u001b[1;33m\u001b[0m\u001b[0m\n",
      "\u001b[1;31mNameError\u001b[0m: name 'sub' is not defined"
     ]
    }
   ],
   "source": [
    "class TestClass3:\n",
    "    class_variable = 1\n",
    "\n",
    "    # @classmethod are bound to class rather than object. Therefore, to use them, you do not have\n",
    "    # to instantiate an object.\n",
    "    # NOTE: Unlike staticmethods, classmethods do have access to class properties (variables or methods).\n",
    "    # This means they can access class_variable.\n",
    "\n",
    "    @classmethod\n",
    "    def add(cls, number1, number2):\n",
    "        sub(number1,number2)\n",
    "        return number1 + number2 + cls.class_variable\n",
    "    \n",
    "    def sub(num1, num2):\n",
    "        \n",
    "        print(num1-num2)\n",
    "\n",
    "print('@classmethod add -- access to class variable: ', TestClass3.add(5,6))"
   ]
  },
  {
   "cell_type": "code",
   "execution_count": 145,
   "id": "d3279435",
   "metadata": {},
   "outputs": [
    {
     "name": "stdout",
     "output_type": "stream",
     "text": [
      "add_static:  27\n",
      "add_class:  28\n"
     ]
    }
   ],
   "source": [
    "class TestClass:\n",
    "    class_variable = 1\n",
    "    \n",
    "\n",
    "    @staticmethod\n",
    "    def add_static(number1, number2):\n",
    "        return number1 + number2\n",
    "\n",
    "    @classmethod\n",
    "    def add_class(cls, number1, number2):\n",
    "        return number1 + number2 + cls.class_variable\n",
    "\n",
    "\n",
    "    def add_object(self, number1, number2):\n",
    "        return number1 + number2 + self.class_variable + 29 + self.somenumber\n",
    "\n",
    "\n",
    "print('add_static: ', TestClass.add_static(13,14))\n",
    "print('add_class: ', TestClass.add_class(13,14))"
   ]
  },
  {
   "cell_type": "code",
   "execution_count": 147,
   "id": "bddebf46",
   "metadata": {},
   "outputs": [
    {
     "name": "stdout",
     "output_type": "stream",
     "text": [
      "Call from class -- add_object:  67\n",
      "Call from object -- add_object:  67\n"
     ]
    }
   ],
   "source": [
    "t1 = TestClass()\n",
    "\n",
    "print('Call from class -- add_object: ', TestClass.add_object(t1, 13, 14))\n",
    "print('Call from object -- add_object: ', t1.add_object(13, 14))"
   ]
  },
  {
   "cell_type": "code",
   "execution_count": 154,
   "id": "dbdd3a50",
   "metadata": {},
   "outputs": [
    {
     "data": {
      "text/plain": [
       "[('AMD', 'Advanced Micro Devices, Inc.', '$120.88', '+4.27', '121,475,927'),\n",
       " ('ZNGA', 'Zynga Inc.', '$9.18', '+0.37', '48,193,380'),\n",
       " ('NVDA', 'NVIDIA Corporation', '$240.82', '+3.34', '49,046,544'),\n",
       " ('OPEN', 'Opendoor Technologies Inc', '$8.42', '-2.55', '53,559,847'),\n",
       " ('AAPL', 'Apple Inc.', '$164.71', '+1.97', '80,725,613')]"
      ]
     },
     "execution_count": 154,
     "metadata": {},
     "output_type": "execute_result"
    }
   ],
   "source": [
    "import operator\n",
    "data = (\n",
    "    ('AMD', 'Advanced Micro Devices, Inc.','$120.88', '+4.27', '121,475,927'),\n",
    "    ('AAPL', 'Apple Inc.', '$164.71', '+1.97', '80,725,613'),\n",
    "    ('OPEN', 'Opendoor Technologies Inc', '$8.42', '-2.55', '53,559,847'),\n",
    "    ('NVDA', 'NVIDIA Corporation', '$240.82', '+3.34', '49,046,544'),\n",
    "    ('ZNGA', 'Zynga Inc.', '$9.18', '+0.37', '48,193,380'),\n",
    ")\n",
    "sorted(data, key=operator.itemgetter(4))"
   ]
  },
  {
   "cell_type": "code",
   "execution_count": 158,
   "id": "c70c6714",
   "metadata": {},
   "outputs": [
    {
     "data": {
      "text/plain": [
       "[('AMD', 'Advanced Micro Devices, Inc.', '$120.88', '+4.27', '121,475,927'),\n",
       " ('NVDA', 'NVIDIA Corporation', '$240.82', '+3.34', '49,046,544'),\n",
       " ('AAPL', 'Apple Inc.', '$164.71', '+1.97', '80,725,613'),\n",
       " ('ZNGA', 'Zynga Inc.', '$9.18', '+0.37', '48,193,380'),\n",
       " ('OPEN', 'Opendoor Technologies Inc', '$8.42', '-2.55', '53,559,847')]"
      ]
     },
     "execution_count": 158,
     "metadata": {},
     "output_type": "execute_result"
    }
   ],
   "source": [
    "from natsort import natsorted\n",
    "natsorted(data, key=lambda ele: float(ele[3]), reverse=True)"
   ]
  },
  {
   "cell_type": "code",
   "execution_count": 156,
   "id": "27652c84",
   "metadata": {},
   "outputs": [
    {
     "data": {
      "text/plain": [
       "-3"
      ]
     },
     "execution_count": 156,
     "metadata": {},
     "output_type": "execute_result"
    }
   ],
   "source": [
    "int('-3')"
   ]
  },
  {
   "cell_type": "code",
   "execution_count": 157,
   "id": "0c470032",
   "metadata": {},
   "outputs": [
    {
     "data": {
      "text/plain": [
       "3"
      ]
     },
     "execution_count": 157,
     "metadata": {},
     "output_type": "execute_result"
    }
   ],
   "source": [
    "int('+3')"
   ]
  },
  {
   "cell_type": "code",
   "execution_count": null,
   "id": "4601a62d",
   "metadata": {},
   "outputs": [],
   "source": []
  }
 ],
 "metadata": {
  "kernelspec": {
   "display_name": "Python 3 (ipykernel)",
   "language": "python",
   "name": "python3"
  },
  "language_info": {
   "codemirror_mode": {
    "name": "ipython",
    "version": 3
   },
   "file_extension": ".py",
   "mimetype": "text/x-python",
   "name": "python",
   "nbconvert_exporter": "python",
   "pygments_lexer": "ipython3",
   "version": "3.8.12"
  }
 },
 "nbformat": 4,
 "nbformat_minor": 5
}
