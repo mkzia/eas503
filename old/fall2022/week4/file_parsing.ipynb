{
 "cells": [
  {
   "cell_type": "markdown",
   "id": "da719bc5",
   "metadata": {},
   "source": [
    "Say you are parsing a text file with many lines of data. You know that there should always be five columns in each line. Explain how you can verify the integrity of this file? Give an example of when there could be more columns than expected?"
   ]
  },
  {
   "cell_type": "markdown",
   "id": "b229f0cc",
   "metadata": {},
   "source": [
    "- CSV -- comma seperated values\n",
    "- TSV -- tab separated values\n"
   ]
  },
  {
   "cell_type": "code",
   "execution_count": 7,
   "id": "e7951db4",
   "metadata": {},
   "outputs": [
    {
     "name": "stdout",
     "output_type": "stream",
     "text": [
      "{'student_name': 'student1', 'e1': '93', 'e2': '78', 'e3': '82', 'e4': '83', 'e5': '65', 'comment': 'excellent'}\n",
      "{'student_name': 'student2', 'e1': '86', 'e2': '76', 'e3': '85', 'e4': '86', 'e5': '65', 'comment': 'great'}\n",
      "{'student_name': 'student3', 'e1': '70', 'e2': '98', 'e3': '88', 'e4': '80', 'e5': '93', 'comment': 'whatever'}\n",
      "bad line 8\n",
      "['student4', '89', '68', '81', '80', '76', '\"this is an good example', ' but you can improve it.\"']\n",
      "{'student_name': 'student4', 'e1': '89', 'e2': '68', 'e3': '81', 'e4': '80', 'e5': '76', 'comment': '\"this is an good example'}\n",
      "{'student_name': 'student5', 'e1': '99', 'e2': '67', 'e3': '100', 'e4': '83', 'e5': '68', 'comment': ''}\n",
      "{'student_name': 'student6', 'e1': '75', 'e2': '77', 'e3': '69', 'e4': '72', 'e5': '76', 'comment': ''}\n",
      "{'student_name': 'student7', 'e1': '67', 'e2': '93', 'e3': '90', 'e4': '92', 'e5': '66', 'comment': ''}\n",
      "{'student_name': 'student8', 'e1': '89', 'e2': '83', 'e3': '90', 'e4': '97', 'e5': '91', 'comment': ''}\n",
      "{'student_name': 'student9', 'e1': '92', 'e2': '84', 'e3': '75', 'e4': '92', 'e5': '92', 'comment': ''}\n",
      "{'student_name': 'student10', 'e1': '65', 'e2': '89', 'e3': '80', 'e4': '68', 'e5': '89', 'comment': ''}\n"
     ]
    }
   ],
   "source": [
    "filename = 'for_ex11_data.txt'\n",
    "\n",
    "expected_number_of_columns = 7\n",
    "header = None\n",
    "with open(filename) as file:\n",
    "    for line in file:\n",
    "        if not line.strip():\n",
    "            continue\n",
    "        \n",
    "        if not header:\n",
    "            header = line.strip().split(',')\n",
    "            continue\n",
    "        \n",
    "        line_split = line.strip().split(',')\n",
    "        \n",
    "        if len(line_split) != 7:\n",
    "            print('bad line', len(line_split))\n",
    "            print(line_split)\n",
    "            \n",
    "\n",
    "        print(dict(zip(header, line_split)))"
   ]
  },
  {
   "cell_type": "code",
   "execution_count": null,
   "id": "7fe27f4b",
   "metadata": {},
   "outputs": [],
   "source": []
  }
 ],
 "metadata": {
  "kernelspec": {
   "display_name": "Python 3 (ipykernel)",
   "language": "python",
   "name": "python3"
  },
  "language_info": {
   "codemirror_mode": {
    "name": "ipython",
    "version": 3
   },
   "file_extension": ".py",
   "mimetype": "text/x-python",
   "name": "python",
   "nbconvert_exporter": "python",
   "pygments_lexer": "ipython3",
   "version": "3.8.12"
  }
 },
 "nbformat": 4,
 "nbformat_minor": 5
}
