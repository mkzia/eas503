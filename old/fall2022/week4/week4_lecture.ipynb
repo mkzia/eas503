{
 "cells": [
  {
   "cell_type": "code",
   "execution_count": 3,
   "id": "28808cd6",
   "metadata": {},
   "outputs": [
    {
     "name": "stdout",
     "output_type": "stream",
     "text": [
      "Tail\n"
     ]
    }
   ],
   "source": [
    "import random\n",
    "\n",
    "toss = random.randint(0, 1)\n",
    "\n",
    "if toss == 0:\n",
    "    print('Head')\n",
    "else:\n",
    "    print('Tail')"
   ]
  },
  {
   "cell_type": "code",
   "execution_count": 21,
   "id": "a5fff9b1",
   "metadata": {},
   "outputs": [
    {
     "name": "stdout",
     "output_type": "stream",
     "text": [
      "HHTHTTHHHT\n"
     ]
    }
   ],
   "source": [
    "random.seed(503)\n",
    "\n",
    "tosses = ''\n",
    "for _ in range(10):\n",
    "    toss = random.randint(0, 1)\n",
    "    if toss == 0:\n",
    "        tosses += 'H'\n",
    "    elif toss == 1:\n",
    "        tosses += 'T'\n",
    "        \n",
    "print(tosses)"
   ]
  },
  {
   "cell_type": "code",
   "execution_count": 25,
   "id": "3989056b",
   "metadata": {},
   "outputs": [
    {
     "data": {
      "text/plain": [
       "'T'"
      ]
     },
     "execution_count": 25,
     "metadata": {},
     "output_type": "execute_result"
    }
   ],
   "source": [
    "random.choice(['H', 'T'])"
   ]
  },
  {
   "cell_type": "code",
   "execution_count": 28,
   "id": "ed5ccdd6",
   "metadata": {},
   "outputs": [
    {
     "name": "stdout",
     "output_type": "stream",
     "text": [
      "TTHHTHHTTTHHHTTHTHTHTTTTTHTHHTTHHTHHHHTHTTTHHTHTHHHHHHTTTHTHHTHTTHHHTTTHTHTHTHHTHTTHTTHHTTTHHTHHHTHH\n"
     ]
    }
   ],
   "source": [
    "def coin_toss(N):\n",
    "    tosses = ''\n",
    "    for _ in range(N):\n",
    "        toss = random.randint(0, 1)\n",
    "        if toss == 0:\n",
    "            tosses += 'H'\n",
    "        elif toss == 1:\n",
    "            tosses += 'T'\n",
    "            \n",
    "    return tosses\n",
    "\n",
    "print(coin_toss (100))"
   ]
  },
  {
   "cell_type": "code",
   "execution_count": 36,
   "id": "2541a024",
   "metadata": {},
   "outputs": [
    {
     "name": "stdout",
     "output_type": "stream",
     "text": [
      "(0.500177, 0.499823)\n"
     ]
    }
   ],
   "source": [
    "def calc_prob(N):\n",
    "    tosses = coin_toss(N)\n",
    "    p_t = 0\n",
    "    p_h = 0\n",
    "    for val in tosses:\n",
    "        if val == 'H':\n",
    "            p_h += 1\n",
    "        else:\n",
    "            p_t += 1\n",
    "    \n",
    "    p_t /= N\n",
    "    p_h /= N\n",
    "    \n",
    "    return(p_t, p_h)\n",
    "\n",
    "print(calc_prob(1000000))"
   ]
  },
  {
   "cell_type": "code",
   "execution_count": 37,
   "id": "cef1eaec",
   "metadata": {},
   "outputs": [
    {
     "name": "stdout",
     "output_type": "stream",
     "text": [
      "student1,93,78,82,83,65,23,34,87\n",
      "student2,86,76,85,86,65\n",
      "student3,70,98,88,80,93\n",
      "student4,89,68,81,80,76\n",
      "student5,99,67,100,83,68\n",
      "student6,75,77,69,72,76\n",
      "student7,67,93,90,92,66\n",
      "student8,89,83,90,97,91\n",
      "student9,92,84,75,92,92\n",
      "student10,65,89,80,68,89\n"
     ]
    }
   ],
   "source": [
    "grade_avgs = []\n",
    "with open('for_ex11_data.txt') as file:\n",
    "    for line in file:\n",
    "        if not line.strip():\n",
    "            continue\n",
    "        print(line.strip())\n",
    "        \n",
    "        \n"
   ]
  },
  {
   "cell_type": "code",
   "execution_count": 38,
   "id": "d92ce58c",
   "metadata": {},
   "outputs": [
    {
     "name": "stdout",
     "output_type": "stream",
     "text": [
      "student10,65,89,80,68,89\n",
      "\n"
     ]
    }
   ],
   "source": [
    "print(line)"
   ]
  },
  {
   "cell_type": "code",
   "execution_count": 39,
   "id": "b36d1274",
   "metadata": {},
   "outputs": [
    {
     "name": "stdout",
     "output_type": "stream",
     "text": [
      "['student10', '65', '89', '80', '68', '89']\n"
     ]
    }
   ],
   "source": [
    "tmp = line.strip().split(',')\n",
    "print(tmp)"
   ]
  },
  {
   "cell_type": "code",
   "execution_count": 41,
   "id": "00c3c663",
   "metadata": {},
   "outputs": [
    {
     "name": "stdout",
     "output_type": "stream",
     "text": [
      "student10 ['65', '89', '80', '68', '89']\n"
     ]
    }
   ],
   "source": [
    "student_name = tmp[0]\n",
    "grades = tmp[1:]\n",
    "print(student_name, grades)"
   ]
  },
  {
   "cell_type": "code",
   "execution_count": 46,
   "id": "480e9eea",
   "metadata": {},
   "outputs": [],
   "source": [
    "def calc_average_from_list(grades):\n",
    "    \"\"\"\n",
    "    Assumes that grades is a list of string-numbers\n",
    "    \"\"\"\n",
    "    total = 0\n",
    "    for grade in grades:\n",
    "        total += float(grade)\n",
    "\n",
    "    average = total / len(grades)\n",
    "    return average"
   ]
  },
  {
   "cell_type": "code",
   "execution_count": 48,
   "id": "5e23a976",
   "metadata": {},
   "outputs": [
    {
     "name": "stdout",
     "output_type": "stream",
     "text": [
      "student1 68.125\n",
      "student2 79.6\n",
      "student3 85.8\n",
      "student4 78.8\n",
      "student5 83.4\n",
      "student6 73.8\n",
      "student7 81.6\n",
      "student8 90.0\n",
      "student9 87.0\n",
      "student10 78.2\n"
     ]
    }
   ],
   "source": [
    "grade_avgs = []\n",
    "with open('for_ex11_data.txt') as file:\n",
    "    for line in file:\n",
    "        if not line.strip():\n",
    "            continue\n",
    "        tmp = line.strip().split(',')\n",
    "        student_name = tmp[0]\n",
    "        grades = tmp[1:]\n",
    "        average = calc_average_from_list(grades)\n",
    "        print(student_name, average)\n",
    "        "
   ]
  },
  {
   "cell_type": "code",
   "execution_count": 59,
   "id": "674e22aa",
   "metadata": {},
   "outputs": [
    {
     "name": "stdout",
     "output_type": "stream",
     "text": [
      "student1,92,77,87,77,94\n",
      "\n",
      "student2,74,93,88,67,85\n",
      "\n",
      "student3,83,96,74,79,92\n",
      "\n",
      "student4,100,72,83,85,66\n",
      "\n",
      "student5,77,96,66,79,92\n",
      "\n",
      "student6,100,86,84,70,71\n",
      "\n",
      "student7,66,91,94,97,80\n",
      "\n",
      "student8,97,86,75,69,88\n",
      "\n",
      "student9,95,98,99,85,86\n",
      "\n",
      "student10,78,76,73,88,86\n",
      "\n",
      "student11,78,100,100,91,99\n",
      "\n",
      "student12,82,92,85,95,86\n",
      "\n",
      "student13,83,78,78,89,74\n",
      "\n",
      "student14,89,81,92,75,66\n",
      "\n",
      "student15,86,94,97,67,66\n",
      "\n",
      "student16,96,75,78,91,83\n",
      "\n",
      "student17,85,72,95,74,67\n",
      "\n",
      "student18,83,68,91,74,66\n",
      "\n",
      "student19,70,99,100,76,96\n",
      "\n",
      "student20,80,89,73,76,72\n",
      "\n",
      "student21,79,100,68,91,65\n",
      "\n",
      "student22,100,65,84,86,96\n",
      "\n",
      "student23,68,67,89,97,81\n",
      "\n",
      "student24,94,71,93,66,81\n",
      "\n",
      "student25,89,99,80,92,87\n",
      "\n",
      "student26,94,65,100,72,82\n",
      "\n",
      "student27,83,91,68,78,98\n",
      "\n",
      "student28,97,96,85,94,93\n",
      "\n",
      "student29,65,78,96,77,72\n",
      "\n",
      "student30,96,85,98,86,95\n",
      "\n",
      "student31,85,69,97,86,65\n",
      "\n",
      "student32,82,82,75,81,91\n",
      "\n",
      "student33,88,76,99,66,86\n",
      "\n",
      "student34,66,85,65,77,95\n",
      "\n",
      "student35,75,98,96,87,65\n",
      "\n",
      "student36,85,89,87,99,77\n",
      "\n",
      "student37,93,85,74,84,85\n",
      "\n",
      "student38,86,90,96,80,88\n",
      "\n",
      "student39,96,82,67,83,85\n",
      "\n",
      "student40,85,98,91,98,84\n",
      "\n",
      "student41,98,95,85,66,99\n",
      "\n",
      "student42,84,82,71,73,74\n",
      "\n",
      "student43,95,91,86,67,100\n",
      "\n",
      "student44,80,83,72,77,67\n",
      "\n",
      "student45,67,89,97,65,71\n",
      "\n",
      "student46,65,72,89,95,67\n",
      "\n",
      "student47,99,89,68,72,74\n",
      "\n",
      "student48,77,91,69,96,84\n",
      "\n",
      "student49,68,97,65,100,86\n",
      "\n",
      "student50,82,66,66,83,95\n",
      "\n",
      "student51,86,66,89,89,71\n",
      "\n",
      "student52,91,98,95,98,76\n",
      "\n",
      "student53,94,77,81,87,68\n",
      "\n",
      "student54,69,80,95,92,76\n",
      "\n",
      "student55,100,91,65,67,85\n",
      "\n",
      "student56,77,68,65,71,72\n",
      "\n",
      "student57,65,100,79,71,96\n",
      "\n",
      "student58,75,75,99,99,95\n",
      "\n",
      "student59,91,84,85,84,83\n",
      "\n",
      "student60,71,79,74,97,68\n",
      "\n",
      "student61,69,71,91,69,100\n",
      "\n",
      "student62,79,91,96,69,97\n",
      "\n",
      "student63,91,87,76,98,85\n",
      "\n",
      "student64,93,97,72,88,73\n",
      "\n",
      "student65,100,75,97,84,81\n",
      "\n",
      "student66,68,66,65,94,86\n",
      "\n",
      "student67,82,74,94,67,94\n",
      "\n",
      "student68,66,96,79,68,91\n",
      "\n",
      "student69,88,85,72,80,78\n",
      "\n",
      "student70,78,76,72,68,74\n",
      "\n",
      "student71,97,73,79,69,77\n",
      "\n",
      "student72,88,94,73,71,65\n",
      "\n",
      "student73,92,99,98,80,83\n",
      "\n",
      "student74,86,98,66,99,72\n",
      "\n",
      "student75,68,87,67,77,83\n",
      "\n",
      "student76,88,92,71,83,70\n",
      "\n",
      "student77,66,72,78,69,71\n",
      "\n",
      "student78,70,95,90,82,95\n",
      "\n",
      "student79,69,94,99,83,67\n",
      "\n",
      "student80,86,86,79,93,66\n",
      "\n",
      "student81,96,87,70,95,97\n",
      "\n",
      "student82,76,95,68,100,85\n",
      "\n",
      "student83,66,72,74,99,86\n",
      "\n",
      "student84,83,85,66,77,85\n",
      "\n",
      "student85,98,79,91,78,74\n",
      "\n",
      "student86,69,94,71,95,71\n",
      "\n",
      "student87,78,88,68,95,84\n",
      "\n",
      "student88,66,67,96,86,69\n",
      "\n",
      "student89,89,78,66,73,82\n",
      "\n",
      "student90,92,66,95,93,76\n",
      "\n",
      "student91,87,69,96,70,92\n",
      "\n",
      "student92,86,88,67,95,66\n",
      "\n",
      "student93,77,77,76,84,89\n",
      "\n",
      "student94,93,99,95,65,70\n",
      "\n",
      "student95,86,83,73,94,95\n",
      "\n",
      "student96,78,84,79,66,92\n",
      "\n",
      "student97,74,95,100,85,75\n",
      "\n",
      "student98,71,87,89,90,94\n",
      "\n",
      "student99,71,69,90,81,94\n",
      "\n",
      "student100,81,80,86,81,71\n",
      "\n"
     ]
    }
   ],
   "source": [
    "def generate_students(output_filename, number_of_students, number_of_tests, test_score_range):\n",
    "\n",
    "    import random\n",
    "\n",
    "    file = open(output_filename, 'w')\n",
    "\n",
    "    for i in range(1, number_of_students+1):\n",
    "        line = []\n",
    "        student_name = 'student' + str(i)\n",
    "        line.append(student_name)\n",
    "        for _ in range(number_of_tests):\n",
    "            line.append(random.randint(test_score_range[0], test_score_range[1]))\n",
    "            \n",
    "        line_tmp = line[0]\n",
    "        for l in line[1:]:\n",
    "            line_tmp += ',' + str(l)\n",
    "        line_tmp += '\\n'\n",
    "        print(line_tmp)\n",
    "        file.write(line_tmp)\n",
    "\n",
    "generate_students('testdata.txt', 100, 5, (65,100))"
   ]
  },
  {
   "cell_type": "code",
   "execution_count": 61,
   "id": "2339b765",
   "metadata": {},
   "outputs": [
    {
     "name": "stdout",
     "output_type": "stream",
     "text": [
      "Please enter a number: 10\n",
      "Please enter a number: 20\n",
      "Please enter a number: 30\n",
      "Please enter a number: \n",
      "20.0\n"
     ]
    }
   ],
   "source": [
    "value = input('Please enter a number: ')\n",
    "total = 0\n",
    "count = 0\n",
    "while value != '':\n",
    "    total += float(value)\n",
    "    count += 1\n",
    "    value = input('Please enter a number: ')\n",
    "    \n",
    "average = total / count\n",
    "print(average)"
   ]
  },
  {
   "cell_type": "code",
   "execution_count": 66,
   "id": "7579b5b3",
   "metadata": {},
   "outputs": [
    {
     "name": "stdout",
     "output_type": "stream",
     "text": [
      "Please enter a number: 10\n",
      "Please enter a number: 20\n",
      "Please enter a number: 30\n",
      "Please enter a number: -99\n",
      "20.0\n"
     ]
    }
   ],
   "source": [
    "value = int(input('Please enter a number: '))\n",
    "total = 0\n",
    "count = 0\n",
    "while value >= 0:\n",
    "    total += value\n",
    "    count += 1\n",
    "    value = int(input('Please enter a number: '))\n",
    "    \n",
    "average = total / count\n",
    "print(average)"
   ]
  },
  {
   "cell_type": "code",
   "execution_count": 67,
   "id": "d221eff9",
   "metadata": {},
   "outputs": [
    {
     "name": "stdout",
     "output_type": "stream",
     "text": [
      "please enter a value: 10\n",
      "10\n",
      "9\n",
      "8\n",
      "7\n",
      "6\n",
      "5\n",
      "4\n",
      "3\n",
      "2\n",
      "1\n",
      "0\n"
     ]
    }
   ],
   "source": [
    "val = int(input('please enter a value: '))\n",
    "\n",
    "while val >= 0:\n",
    "    print(val)\n",
    "    val -= 1"
   ]
  },
  {
   "cell_type": "code",
   "execution_count": 69,
   "id": "ffe23a31",
   "metadata": {},
   "outputs": [
    {
     "name": "stdout",
     "output_type": "stream",
     "text": [
      "1\n",
      "2\n",
      "3\n",
      "4\n",
      "6\n",
      "7\n",
      "8\n",
      "9\n",
      "11\n",
      "12\n",
      "13\n",
      "14\n",
      "16\n",
      "17\n",
      "18\n",
      "19\n",
      "21\n",
      "22\n",
      "23\n",
      "24\n",
      "26\n",
      "27\n",
      "28\n",
      "29\n",
      "31\n",
      "32\n",
      "33\n",
      "34\n",
      "36\n",
      "37\n",
      "38\n",
      "39\n",
      "41\n",
      "42\n",
      "43\n",
      "44\n",
      "46\n",
      "47\n",
      "48\n",
      "49\n",
      "51\n",
      "52\n",
      "53\n",
      "54\n",
      "56\n",
      "57\n",
      "58\n",
      "59\n",
      "61\n",
      "62\n",
      "63\n",
      "64\n",
      "66\n",
      "67\n",
      "68\n",
      "69\n",
      "71\n",
      "72\n",
      "73\n",
      "74\n",
      "76\n",
      "77\n",
      "78\n",
      "79\n",
      "81\n",
      "82\n",
      "83\n",
      "84\n",
      "86\n",
      "87\n",
      "88\n",
      "89\n",
      "91\n",
      "92\n",
      "93\n",
      "94\n",
      "96\n",
      "97\n",
      "98\n",
      "99\n"
     ]
    }
   ],
   "source": [
    "# Write a function that prints from 1 to n using a for loop, it should skip every multiple of 5.\n",
    "\n",
    "# continue\n",
    "# break\n",
    "\n",
    "\n",
    "N = 100\n",
    "for number in range(1, N+1):\n",
    "    \n",
    "    if number % 5 == 0:\n",
    "        continue\n",
    "        \n",
    "    print(number)"
   ]
  },
  {
   "cell_type": "code",
   "execution_count": 71,
   "id": "42a108cf",
   "metadata": {},
   "outputs": [
    {
     "name": "stdout",
     "output_type": "stream",
     "text": [
      "5 Fizz\n",
      "7 Buzz\n",
      "10 Fizz\n",
      "14 Buzz\n",
      "15 Fizz\n",
      "20 Fizz\n",
      "21 Buzz\n",
      "25 Fizz\n",
      "28 Buzz\n",
      "30 Fizz\n",
      "35 FizzBuzz\n",
      "40 Fizz\n",
      "42 Buzz\n",
      "45 Fizz\n",
      "49 Buzz\n",
      "50 Fizz\n",
      "55 Fizz\n",
      "56 Buzz\n",
      "60 Fizz\n",
      "63 Buzz\n",
      "65 Fizz\n",
      "70 FizzBuzz\n",
      "75 Fizz\n",
      "77 Buzz\n",
      "80 Fizz\n",
      "84 Buzz\n",
      "85 Fizz\n",
      "90 Fizz\n",
      "91 Buzz\n",
      "95 Fizz\n",
      "98 Buzz\n",
      "100 Fizz\n"
     ]
    }
   ],
   "source": [
    "# print FizzBuzz for multiple of 5 and 7\n",
    "# print Fizz for multiple of 5\n",
    "# print buzz for multiple of 7\n",
    "# 1 - 100\n",
    "N = 100\n",
    "for number in range(1, N+1):\n",
    "    \n",
    "    if number % 5 == 0 and number % 7 == 0:\n",
    "        print(number, 'FizzBuzz')\n",
    "    elif number % 5 == 0:\n",
    "        print(number, 'Fizz')\n",
    "    elif number % 7 == 0:\n",
    "        print(number, 'Buzz')\n",
    "    \n"
   ]
  },
  {
   "cell_type": "code",
   "execution_count": 74,
   "id": "c5124dc7",
   "metadata": {},
   "outputs": [
    {
     "name": "stdout",
     "output_type": "stream",
     "text": [
      "1\n",
      "4\n",
      "9\n",
      "16\n",
      "25\n",
      "36\n",
      "49\n",
      "64\n",
      "81\n",
      "100\n",
      "121\n",
      "144\n",
      "169\n",
      "196\n",
      "225\n",
      "256\n",
      "289\n",
      "324\n",
      "361\n",
      "400\n",
      "441\n",
      "484\n",
      "529\n",
      "576\n",
      "625\n",
      "676\n",
      "729\n",
      "784\n",
      "841\n",
      "900\n",
      "961\n",
      "1024\n"
     ]
    }
   ],
   "source": [
    "val = 1\n",
    "while val < 50:\n",
    "    squared = val * val\n",
    "    print(squared)\n",
    "    val += 1\n",
    "    \n",
    "    if squared == 1024:\n",
    "        break"
   ]
  },
  {
   "cell_type": "code",
   "execution_count": 77,
   "id": "d1d5f121",
   "metadata": {},
   "outputs": [],
   "source": [
    "my_list = [1, 2, 3]\n",
    "new_list = []\n",
    "for ele in my_list:\n",
    "    tmp = ele * ele\n",
    "    new_list.append(tmp)\n",
    "    \n",
    "l2 = [ele*ele for ele in my_list ]"
   ]
  },
  {
   "cell_type": "code",
   "execution_count": 78,
   "id": "242937bb",
   "metadata": {},
   "outputs": [
    {
     "name": "stdout",
     "output_type": "stream",
     "text": [
      "[1, 4, 9]\n"
     ]
    }
   ],
   "source": [
    "print(l2)"
   ]
  },
  {
   "cell_type": "code",
   "execution_count": 79,
   "id": "f589d951",
   "metadata": {},
   "outputs": [
    {
     "name": "stdout",
     "output_type": "stream",
     "text": [
      "[10, 20, 30]\n"
     ]
    }
   ],
   "source": [
    "my_list = [1, 2, 3]\n",
    "new_list = []\n",
    "for ele in my_list:\n",
    "    tmp = ele * 10\n",
    "    new_list.append(tmp)\n",
    "    \n",
    "print([ele*10 for ele in my_list ])"
   ]
  },
  {
   "cell_type": "code",
   "execution_count": 80,
   "id": "335c2464",
   "metadata": {},
   "outputs": [],
   "source": [
    "animal = 'buffalo'\n"
   ]
  },
  {
   "cell_type": "code",
   "execution_count": 81,
   "id": "d04bd71b",
   "metadata": {},
   "outputs": [
    {
     "data": {
      "text/plain": [
       "'BUFFALO'"
      ]
     },
     "execution_count": 81,
     "metadata": {},
     "output_type": "execute_result"
    }
   ],
   "source": [
    "animal.upper()"
   ]
  },
  {
   "cell_type": "code",
   "execution_count": 83,
   "id": "a1315e52",
   "metadata": {},
   "outputs": [],
   "source": [
    "tmp = [char.upper() for char in animal]"
   ]
  },
  {
   "cell_type": "code",
   "execution_count": 84,
   "id": "1b5e3300",
   "metadata": {},
   "outputs": [
    {
     "data": {
      "text/plain": [
       "'BUFFALO'"
      ]
     },
     "execution_count": 84,
     "metadata": {},
     "output_type": "execute_result"
    }
   ],
   "source": [
    "''.join(tmp)"
   ]
  },
  {
   "cell_type": "code",
   "execution_count": 85,
   "id": "df3aa8d8",
   "metadata": {},
   "outputs": [
    {
     "data": {
      "text/plain": [
       "'B, U, F, F, A, L, O'"
      ]
     },
     "execution_count": 85,
     "metadata": {},
     "output_type": "execute_result"
    }
   ],
   "source": [
    "', '.join(tmp)"
   ]
  },
  {
   "cell_type": "code",
   "execution_count": 86,
   "id": "d94d3414",
   "metadata": {},
   "outputs": [
    {
     "data": {
      "text/plain": [
       "'B-U-F-F-A-L-O'"
      ]
     },
     "execution_count": 86,
     "metadata": {},
     "output_type": "execute_result"
    }
   ],
   "source": [
    "'-'.join(tmp)"
   ]
  },
  {
   "cell_type": "code",
   "execution_count": 87,
   "id": "5af6e55a",
   "metadata": {},
   "outputs": [
    {
     "ename": "TypeError",
     "evalue": "sequence item 1: expected str instance, int found",
     "output_type": "error",
     "traceback": [
      "\u001b[1;31m---------------------------------------------------------------------------\u001b[0m",
      "\u001b[1;31mTypeError\u001b[0m                                 Traceback (most recent call last)",
      "\u001b[1;32m~\\AppData\\Local\\Temp/ipykernel_18328/1355822327.py\u001b[0m in \u001b[0;36m<module>\u001b[1;34m\u001b[0m\n\u001b[0;32m      1\u001b[0m \u001b[0mtmp\u001b[0m \u001b[1;33m=\u001b[0m \u001b[1;33m[\u001b[0m\u001b[1;34m'a'\u001b[0m\u001b[1;33m,\u001b[0m \u001b[1;36m1\u001b[0m\u001b[1;33m]\u001b[0m\u001b[1;33m\u001b[0m\u001b[1;33m\u001b[0m\u001b[0m\n\u001b[1;32m----> 2\u001b[1;33m \u001b[1;34m''\u001b[0m\u001b[1;33m.\u001b[0m\u001b[0mjoin\u001b[0m\u001b[1;33m(\u001b[0m\u001b[0mtmp\u001b[0m\u001b[1;33m)\u001b[0m\u001b[1;33m\u001b[0m\u001b[1;33m\u001b[0m\u001b[0m\n\u001b[0m",
      "\u001b[1;31mTypeError\u001b[0m: sequence item 1: expected str instance, int found"
     ]
    }
   ],
   "source": [
    "tmp = ['a', 1]\n",
    "''.join(tmp)"
   ]
  },
  {
   "cell_type": "code",
   "execution_count": 88,
   "id": "572435ec",
   "metadata": {},
   "outputs": [
    {
     "data": {
      "text/plain": [
       "['John', 'Jane', 'Doe']"
      ]
     },
     "execution_count": 88,
     "metadata": {},
     "output_type": "execute_result"
    }
   ],
   "source": [
    "students = ['john', 'jane', 'doe']\n",
    "\n",
    "[ student.title() for student in students]"
   ]
  },
  {
   "cell_type": "code",
   "execution_count": 91,
   "id": "8bb214ab",
   "metadata": {},
   "outputs": [
    {
     "data": {
      "text/plain": [
       "[False, False, False, True]"
      ]
     },
     "execution_count": 91,
     "metadata": {},
     "output_type": "execute_result"
    }
   ],
   "source": [
    "my_list = [0, '', [], 999]\n",
    "\n",
    "[bool(ele) for ele in my_list]"
   ]
  },
  {
   "cell_type": "code",
   "execution_count": 92,
   "id": "324fba73",
   "metadata": {},
   "outputs": [
    {
     "data": {
      "text/plain": [
       "['0', '1', '2', '3', '4', '5']"
      ]
     },
     "execution_count": 92,
     "metadata": {},
     "output_type": "execute_result"
    }
   ],
   "source": [
    "my_list = range(6)\n",
    "[str(element) for element in my_list]"
   ]
  },
  {
   "cell_type": "code",
   "execution_count": 93,
   "id": "ccc3bdf2",
   "metadata": {},
   "outputs": [],
   "source": [
    "numbers = range(20)"
   ]
  },
  {
   "cell_type": "code",
   "execution_count": 94,
   "id": "9037c0c3",
   "metadata": {},
   "outputs": [
    {
     "data": {
      "text/plain": [
       "[1, 3, 5, 7, 9, 11, 13, 15, 17, 19]"
      ]
     },
     "execution_count": 94,
     "metadata": {},
     "output_type": "execute_result"
    }
   ],
   "source": [
    "[ele for ele in numbers if ele % 2 != 0]"
   ]
  },
  {
   "cell_type": "code",
   "execution_count": 96,
   "id": "2c290524",
   "metadata": {},
   "outputs": [
    {
     "name": "stdout",
     "output_type": "stream",
     "text": [
      "[1, 3, 5, 7, 9, 11, 13, 15, 17, 19]\n"
     ]
    }
   ],
   "source": [
    "odd = []\n",
    "for ele in numbers:\n",
    "    if ele % 2 != 0:\n",
    "         odd.append(ele)\n",
    "print(odd)"
   ]
  },
  {
   "cell_type": "code",
   "execution_count": 97,
   "id": "996d2b46",
   "metadata": {},
   "outputs": [
    {
     "data": {
      "text/plain": [
       "[0, 2, 4, 6, 8, 10, 12, 14, 16, 18]"
      ]
     },
     "execution_count": 97,
     "metadata": {},
     "output_type": "execute_result"
    }
   ],
   "source": [
    "[ele for ele in numbers if ele % 2 == 0]"
   ]
  },
  {
   "cell_type": "code",
   "execution_count": 102,
   "id": "2eaba9a4",
   "metadata": {},
   "outputs": [
    {
     "data": {
      "text/plain": [
       "[0, 1, 4, 27, 16, 125, 36, 343, 64, 729]"
      ]
     },
     "execution_count": 102,
     "metadata": {},
     "output_type": "execute_result"
    }
   ],
   "source": [
    "numbers = range(10)\n",
    "[number**2 if number % 2 == 0 else number**3 for number in numbers]"
   ]
  },
  {
   "cell_type": "code",
   "execution_count": 105,
   "id": "1d93b47a",
   "metadata": {},
   "outputs": [
    {
     "data": {
      "text/plain": [
       "' rlly wnt T g t wrk'"
      ]
     },
     "execution_count": 105,
     "metadata": {},
     "output_type": "execute_result"
    }
   ],
   "source": [
    "sentence = 'I rEAlly want To gO to work'\n",
    "vowels = 'aeiou'\n",
    "\n",
    "''.join([ele for ele in sentence if ele.lower() not in vowels])"
   ]
  },
  {
   "cell_type": "code",
   "execution_count": 107,
   "id": "9abcc989",
   "metadata": {},
   "outputs": [
    {
     "ename": "TypeError",
     "evalue": "ord() expected string of length 1, but int found",
     "output_type": "error",
     "traceback": [
      "\u001b[1;31m---------------------------------------------------------------------------\u001b[0m",
      "\u001b[1;31mTypeError\u001b[0m                                 Traceback (most recent call last)",
      "\u001b[1;32m~\\AppData\\Local\\Temp/ipykernel_18328/1763365149.py\u001b[0m in \u001b[0;36m<module>\u001b[1;34m\u001b[0m\n\u001b[0;32m      1\u001b[0m \u001b[0mval\u001b[0m \u001b[1;33m=\u001b[0m \u001b[1;36m1\u001b[0m\u001b[1;33m\u001b[0m\u001b[1;33m\u001b[0m\u001b[0m\n\u001b[1;32m----> 2\u001b[1;33m \u001b[1;34m'A'\u001b[0m \u001b[1;33m<=\u001b[0m \u001b[0mord\u001b[0m\u001b[1;33m(\u001b[0m\u001b[0mval\u001b[0m\u001b[1;33m)\u001b[0m \u001b[1;33m<=\u001b[0m \u001b[1;34m'Z'\u001b[0m\u001b[1;33m\u001b[0m\u001b[1;33m\u001b[0m\u001b[0m\n\u001b[0m",
      "\u001b[1;31mTypeError\u001b[0m: ord() expected string of length 1, but int found"
     ]
    }
   ],
   "source": [
    "dd`"
   ]
  },
  {
   "cell_type": "code",
   "execution_count": 108,
   "id": "94fb46a4",
   "metadata": {},
   "outputs": [],
   "source": [
    "A = {0, 2, 4, 6, 8}\n",
    "B = {1, 2, 3, 4, 5}"
   ]
  },
  {
   "cell_type": "code",
   "execution_count": 109,
   "id": "a20befe5",
   "metadata": {},
   "outputs": [
    {
     "data": {
      "text/plain": [
       "{0, 2, 4, 6, 8}"
      ]
     },
     "execution_count": 109,
     "metadata": {},
     "output_type": "execute_result"
    }
   ],
   "source": [
    "A"
   ]
  },
  {
   "cell_type": "code",
   "execution_count": 110,
   "id": "67db67b3",
   "metadata": {},
   "outputs": [
    {
     "data": {
      "text/plain": [
       "{1, 2, 3, 4, 5}"
      ]
     },
     "execution_count": 110,
     "metadata": {},
     "output_type": "execute_result"
    }
   ],
   "source": [
    "B"
   ]
  },
  {
   "cell_type": "code",
   "execution_count": 111,
   "id": "16c025d6",
   "metadata": {},
   "outputs": [
    {
     "data": {
      "text/plain": [
       "True"
      ]
     },
     "execution_count": 111,
     "metadata": {},
     "output_type": "execute_result"
    }
   ],
   "source": [
    "2 in A"
   ]
  },
  {
   "cell_type": "code",
   "execution_count": 112,
   "id": "e706a091",
   "metadata": {},
   "outputs": [
    {
     "ename": "SyntaxError",
     "evalue": "invalid syntax (Temp/ipykernel_18328/2943138396.py, line 1)",
     "output_type": "error",
     "traceback": [
      "\u001b[1;36m  File \u001b[1;32m\"C:\\Users\\mkhaw\\AppData\\Local\\Temp/ipykernel_18328/2943138396.py\"\u001b[1;36m, line \u001b[1;32m1\u001b[0m\n\u001b[1;33m    my_list = # billion values\u001b[0m\n\u001b[1;37m              ^\u001b[0m\n\u001b[1;31mSyntaxError\u001b[0m\u001b[1;31m:\u001b[0m invalid syntax\n"
     ]
    }
   ],
   "source": [
    "my_list = # billion values\n",
    "my_set = # billion values\n",
    "\n",
    "x in my_list  # O(N)\n",
    "x in my_set # O(1)\n",
    "\n",
    "# https://wiki.python.org/moin/TimeComplexity"
   ]
  },
  {
   "cell_type": "code",
   "execution_count": 113,
   "id": "3ecaa294",
   "metadata": {},
   "outputs": [
    {
     "data": {
      "text/plain": [
       "{0, 1, 2, 3, 4, 5, 6, 8}"
      ]
     },
     "execution_count": 113,
     "metadata": {},
     "output_type": "execute_result"
    }
   ],
   "source": [
    "A | B"
   ]
  },
  {
   "cell_type": "code",
   "execution_count": 114,
   "id": "72f355e6",
   "metadata": {},
   "outputs": [
    {
     "data": {
      "text/plain": [
       "{2, 4}"
      ]
     },
     "execution_count": 114,
     "metadata": {},
     "output_type": "execute_result"
    }
   ],
   "source": [
    "A & B"
   ]
  },
  {
   "cell_type": "code",
   "execution_count": 115,
   "id": "c49c58b9",
   "metadata": {},
   "outputs": [
    {
     "name": "stdout",
     "output_type": "stream",
     "text": [
      "{0, 2, 4, 6, 8}\n",
      "{1, 2, 3, 4, 5}\n"
     ]
    }
   ],
   "source": [
    "print(A)\n",
    "print(B)"
   ]
  },
  {
   "cell_type": "code",
   "execution_count": 116,
   "id": "20e134a5",
   "metadata": {},
   "outputs": [
    {
     "data": {
      "text/plain": [
       "{0, 6, 8}"
      ]
     },
     "execution_count": 116,
     "metadata": {},
     "output_type": "execute_result"
    }
   ],
   "source": [
    "A - B"
   ]
  },
  {
   "cell_type": "code",
   "execution_count": 117,
   "id": "48c4ec4a",
   "metadata": {},
   "outputs": [
    {
     "data": {
      "text/plain": [
       "{1, 3, 5}"
      ]
     },
     "execution_count": 117,
     "metadata": {},
     "output_type": "execute_result"
    }
   ],
   "source": [
    "B - A"
   ]
  },
  {
   "cell_type": "code",
   "execution_count": 118,
   "id": "5b3a99c2",
   "metadata": {},
   "outputs": [],
   "source": [
    "x = [\n",
    "    ['John Doe', 'Math', 1234],\n",
    "    ['Jane Doe', 'Biology', 2233]\n",
    "]\n",
    "\n"
   ]
  },
  {
   "cell_type": "code",
   "execution_count": 153,
   "id": "15072705",
   "metadata": {},
   "outputs": [],
   "source": [
    "my_dict = {\n",
    "    'name': 'john',\n",
    "    'email': 'john@email.com',\n",
    "    'id': 1234,\n",
    "    'major': 'Engineering'\n",
    "}\n"
   ]
  },
  {
   "cell_type": "code",
   "execution_count": 120,
   "id": "b23b4804",
   "metadata": {},
   "outputs": [
    {
     "data": {
      "text/plain": [
       "{'name': 'john', 'email': 'john@email.com', 'id': 1234, 'major': 'Engineering'}"
      ]
     },
     "execution_count": 120,
     "metadata": {},
     "output_type": "execute_result"
    }
   ],
   "source": [
    "my_dict"
   ]
  },
  {
   "cell_type": "code",
   "execution_count": 121,
   "id": "0f084705",
   "metadata": {},
   "outputs": [
    {
     "data": {
      "text/plain": [
       "'john'"
      ]
     },
     "execution_count": 121,
     "metadata": {},
     "output_type": "execute_result"
    }
   ],
   "source": [
    "my_dict['name']"
   ]
  },
  {
   "cell_type": "code",
   "execution_count": 122,
   "id": "5540e565",
   "metadata": {},
   "outputs": [
    {
     "data": {
      "text/plain": [
       "'john@email.com'"
      ]
     },
     "execution_count": 122,
     "metadata": {},
     "output_type": "execute_result"
    }
   ],
   "source": [
    "my_dict['email']"
   ]
  },
  {
   "cell_type": "code",
   "execution_count": 123,
   "id": "f4fd4008",
   "metadata": {},
   "outputs": [],
   "source": [
    "my_dict = dict(\n",
    "    name='john',\n",
    "    email='john@email.com',\n",
    "    id=1234,\n",
    "    major='Engineering'\n",
    ")"
   ]
  },
  {
   "cell_type": "code",
   "execution_count": 124,
   "id": "9676be7c",
   "metadata": {},
   "outputs": [
    {
     "data": {
      "text/plain": [
       "{'name': 'john', 'email': 'john@email.com', 'id': 1234, 'major': 'Engineering'}"
      ]
     },
     "execution_count": 124,
     "metadata": {},
     "output_type": "execute_result"
    }
   ],
   "source": [
    "my_dict"
   ]
  },
  {
   "cell_type": "code",
   "execution_count": 125,
   "id": "b62f51ff",
   "metadata": {},
   "outputs": [
    {
     "data": {
      "text/plain": [
       "'john'"
      ]
     },
     "execution_count": 125,
     "metadata": {},
     "output_type": "execute_result"
    }
   ],
   "source": [
    "key = 'name'\n",
    "my_dict['name']\n"
   ]
  },
  {
   "cell_type": "code",
   "execution_count": 126,
   "id": "88122ae8",
   "metadata": {},
   "outputs": [
    {
     "data": {
      "text/plain": [
       "'john'"
      ]
     },
     "execution_count": 126,
     "metadata": {},
     "output_type": "execute_result"
    }
   ],
   "source": [
    "my_dict[key]"
   ]
  },
  {
   "cell_type": "code",
   "execution_count": 127,
   "id": "27853bdf",
   "metadata": {},
   "outputs": [
    {
     "data": {
      "text/plain": [
       "{'name': 'john', 'email': 'john@email.com', 'id': 1234, 'major': 'Engineering'}"
      ]
     },
     "execution_count": 127,
     "metadata": {},
     "output_type": "execute_result"
    }
   ],
   "source": [
    "my_dict"
   ]
  },
  {
   "cell_type": "code",
   "execution_count": 128,
   "id": "48ad2091",
   "metadata": {},
   "outputs": [
    {
     "name": "stdout",
     "output_type": "stream",
     "text": [
      "name\n",
      "email\n",
      "id\n",
      "major\n"
     ]
    }
   ],
   "source": [
    "for ele in my_dict:\n",
    "    print(ele)"
   ]
  },
  {
   "cell_type": "code",
   "execution_count": 129,
   "id": "170a052c",
   "metadata": {},
   "outputs": [
    {
     "name": "stdout",
     "output_type": "stream",
     "text": [
      "name\n",
      "email\n",
      "id\n",
      "major\n"
     ]
    }
   ],
   "source": [
    "for ele in my_dict.keys():\n",
    "    print(ele)"
   ]
  },
  {
   "cell_type": "code",
   "execution_count": 130,
   "id": "501083e9",
   "metadata": {},
   "outputs": [
    {
     "name": "stdout",
     "output_type": "stream",
     "text": [
      "john\n",
      "john@email.com\n",
      "1234\n",
      "Engineering\n"
     ]
    }
   ],
   "source": [
    "for ele in my_dict.values():\n",
    "    print(ele)"
   ]
  },
  {
   "cell_type": "code",
   "execution_count": 131,
   "id": "6b490289",
   "metadata": {},
   "outputs": [
    {
     "name": "stdout",
     "output_type": "stream",
     "text": [
      "name john\n",
      "email john@email.com\n",
      "id 1234\n",
      "major Engineering\n"
     ]
    }
   ],
   "source": [
    "for key, value in my_dict.items():\n",
    "    print(key, value)"
   ]
  },
  {
   "cell_type": "code",
   "execution_count": 132,
   "id": "d6618359",
   "metadata": {},
   "outputs": [
    {
     "name": "stdout",
     "output_type": "stream",
     "text": [
      "0\n",
      "2\n",
      "4\n",
      "6\n",
      "8\n"
     ]
    }
   ],
   "source": [
    "for ele in A:\n",
    "    print(ele)"
   ]
  },
  {
   "cell_type": "code",
   "execution_count": 133,
   "id": "076cdfd0",
   "metadata": {},
   "outputs": [
    {
     "name": "stdout",
     "output_type": "stream",
     "text": [
      "key is name and value is john\n",
      "key is email and value is john@email.com\n",
      "key is id and value is 1234\n",
      "key is major and value is Engineering\n"
     ]
    }
   ],
   "source": [
    "for key, value in my_dict.items():\n",
    "    print(f'key is {key} and value is {value}')"
   ]
  },
  {
   "cell_type": "code",
   "execution_count": 134,
   "id": "229f0baa",
   "metadata": {},
   "outputs": [
    {
     "data": {
      "text/plain": [
       "True"
      ]
     },
     "execution_count": 134,
     "metadata": {},
     "output_type": "execute_result"
    }
   ],
   "source": [
    "'name' in my_dict"
   ]
  },
  {
   "cell_type": "code",
   "execution_count": 135,
   "id": "a55677cd",
   "metadata": {},
   "outputs": [
    {
     "data": {
      "text/plain": [
       "False"
      ]
     },
     "execution_count": 135,
     "metadata": {},
     "output_type": "execute_result"
    }
   ],
   "source": [
    "'Name' in my_dict"
   ]
  },
  {
   "cell_type": "code",
   "execution_count": 136,
   "id": "2f9cc113",
   "metadata": {},
   "outputs": [
    {
     "data": {
      "text/plain": [
       "dict_keys(['name', 'email', 'id', 'major'])"
      ]
     },
     "execution_count": 136,
     "metadata": {},
     "output_type": "execute_result"
    }
   ],
   "source": [
    "my_dict.keys()"
   ]
  },
  {
   "cell_type": "code",
   "execution_count": 137,
   "id": "cb46b7b4",
   "metadata": {},
   "outputs": [
    {
     "data": {
      "text/plain": [
       "dict_values(['john', 'john@email.com', 1234, 'Engineering'])"
      ]
     },
     "execution_count": 137,
     "metadata": {},
     "output_type": "execute_result"
    }
   ],
   "source": [
    "my_dict.values()"
   ]
  },
  {
   "cell_type": "code",
   "execution_count": 139,
   "id": "4324336a",
   "metadata": {},
   "outputs": [
    {
     "name": "stdout",
     "output_type": "stream",
     "text": [
      "False\n"
     ]
    }
   ],
   "source": [
    "value = 'johnny'\n",
    "if value in my_dict.values():\n",
    "    print(True)\n",
    "else:\n",
    "    print(False)"
   ]
  },
  {
   "cell_type": "code",
   "execution_count": 140,
   "id": "d8efa62f",
   "metadata": {},
   "outputs": [],
   "source": [
    "my_dict.clear()"
   ]
  },
  {
   "cell_type": "code",
   "execution_count": 141,
   "id": "10b12fdc",
   "metadata": {},
   "outputs": [
    {
     "data": {
      "text/plain": [
       "{}"
      ]
     },
     "execution_count": 141,
     "metadata": {},
     "output_type": "execute_result"
    }
   ],
   "source": [
    "my_dict"
   ]
  },
  {
   "cell_type": "code",
   "execution_count": 142,
   "id": "4940c137",
   "metadata": {},
   "outputs": [],
   "source": [
    "new_student = {}.fromkeys(\n",
    "    ['name', 'email', 'id', 'major'], 'missing')"
   ]
  },
  {
   "cell_type": "code",
   "execution_count": 143,
   "id": "77805943",
   "metadata": {},
   "outputs": [
    {
     "data": {
      "text/plain": [
       "{'name': 'missing', 'email': 'missing', 'id': 'missing', 'major': 'missing'}"
      ]
     },
     "execution_count": 143,
     "metadata": {},
     "output_type": "execute_result"
    }
   ],
   "source": [
    "new_student"
   ]
  },
  {
   "cell_type": "code",
   "execution_count": 144,
   "id": "e6290155",
   "metadata": {},
   "outputs": [],
   "source": [
    "my_dict = {}.fromkeys(range(5), 'iammissing')"
   ]
  },
  {
   "cell_type": "code",
   "execution_count": 145,
   "id": "767e1c47",
   "metadata": {},
   "outputs": [
    {
     "data": {
      "text/plain": [
       "{0: 'iammissing',\n",
       " 1: 'iammissing',\n",
       " 2: 'iammissing',\n",
       " 3: 'iammissing',\n",
       " 4: 'iammissing'}"
      ]
     },
     "execution_count": 145,
     "metadata": {},
     "output_type": "execute_result"
    }
   ],
   "source": [
    "my_dict"
   ]
  },
  {
   "cell_type": "code",
   "execution_count": 146,
   "id": "b1b7c6f7",
   "metadata": {},
   "outputs": [
    {
     "ename": "KeyError",
     "evalue": "'Name'",
     "output_type": "error",
     "traceback": [
      "\u001b[1;31m---------------------------------------------------------------------------\u001b[0m",
      "\u001b[1;31mKeyError\u001b[0m                                  Traceback (most recent call last)",
      "\u001b[1;32m~\\AppData\\Local\\Temp/ipykernel_18328/2332872693.py\u001b[0m in \u001b[0;36m<module>\u001b[1;34m\u001b[0m\n\u001b[1;32m----> 1\u001b[1;33m \u001b[0mmy_dict\u001b[0m\u001b[1;33m[\u001b[0m\u001b[1;34m'Name'\u001b[0m\u001b[1;33m]\u001b[0m\u001b[1;33m\u001b[0m\u001b[1;33m\u001b[0m\u001b[0m\n\u001b[0m",
      "\u001b[1;31mKeyError\u001b[0m: 'Name'"
     ]
    }
   ],
   "source": [
    "my_dict['Name']"
   ]
  },
  {
   "cell_type": "code",
   "execution_count": 148,
   "id": "a25208ff",
   "metadata": {},
   "outputs": [
    {
     "name": "stdout",
     "output_type": "stream",
     "text": [
      "None\n"
     ]
    }
   ],
   "source": [
    "print(my_dict.get('Name'))"
   ]
  },
  {
   "cell_type": "code",
   "execution_count": 154,
   "id": "df3d295a",
   "metadata": {},
   "outputs": [
    {
     "name": "stdout",
     "output_type": "stream",
     "text": [
      "john\n"
     ]
    }
   ],
   "source": [
    "print(my_dict.get('name', 'Missing'))"
   ]
  },
  {
   "cell_type": "code",
   "execution_count": 155,
   "id": "144aceb5",
   "metadata": {},
   "outputs": [
    {
     "data": {
      "text/plain": [
       "'john'"
      ]
     },
     "execution_count": 155,
     "metadata": {},
     "output_type": "execute_result"
    }
   ],
   "source": [
    "my_dict.pop('name')"
   ]
  },
  {
   "cell_type": "code",
   "execution_count": 156,
   "id": "19f82e94",
   "metadata": {},
   "outputs": [
    {
     "data": {
      "text/plain": [
       "{'email': 'john@email.com', 'id': 1234, 'major': 'Engineering'}"
      ]
     },
     "execution_count": 156,
     "metadata": {},
     "output_type": "execute_result"
    }
   ],
   "source": [
    "my_dict"
   ]
  },
  {
   "cell_type": "code",
   "execution_count": 157,
   "id": "350ac3ca",
   "metadata": {},
   "outputs": [],
   "source": [
    "my_dict.update({'year':2010, 'ear': 2030})"
   ]
  },
  {
   "cell_type": "code",
   "execution_count": 158,
   "id": "824c6dbe",
   "metadata": {},
   "outputs": [
    {
     "data": {
      "text/plain": [
       "{'email': 'john@email.com',\n",
       " 'id': 1234,\n",
       " 'major': 'Engineering',\n",
       " 'year': 2010,\n",
       " 'ear': 2030}"
      ]
     },
     "execution_count": 158,
     "metadata": {},
     "output_type": "execute_result"
    }
   ],
   "source": [
    "my_dict"
   ]
  },
  {
   "cell_type": "code",
   "execution_count": 159,
   "id": "44c1713e",
   "metadata": {},
   "outputs": [],
   "source": [
    "my_dict.update({'id':324234})"
   ]
  },
  {
   "cell_type": "code",
   "execution_count": 160,
   "id": "832ee3d9",
   "metadata": {},
   "outputs": [
    {
     "data": {
      "text/plain": [
       "{'email': 'john@email.com',\n",
       " 'id': 324234,\n",
       " 'major': 'Engineering',\n",
       " 'year': 2010,\n",
       " 'ear': 2030}"
      ]
     },
     "execution_count": 160,
     "metadata": {},
     "output_type": "execute_result"
    }
   ],
   "source": [
    "my_dict"
   ]
  },
  {
   "cell_type": "code",
   "execution_count": 161,
   "id": "fbdc9428",
   "metadata": {},
   "outputs": [],
   "source": [
    "my_dict = {}.fromkeys(range(5), 5)"
   ]
  },
  {
   "cell_type": "code",
   "execution_count": 162,
   "id": "802c2f99",
   "metadata": {},
   "outputs": [
    {
     "data": {
      "text/plain": [
       "{0: 5, 1: 5, 2: 5, 3: 5, 4: 5}"
      ]
     },
     "execution_count": 162,
     "metadata": {},
     "output_type": "execute_result"
    }
   ],
   "source": [
    "my_dict"
   ]
  },
  {
   "cell_type": "code",
   "execution_count": 163,
   "id": "36c10130",
   "metadata": {},
   "outputs": [
    {
     "data": {
      "text/plain": [
       "{0: 0, 1: 5, 2: 10, 3: 15, 4: 20}"
      ]
     },
     "execution_count": 163,
     "metadata": {},
     "output_type": "execute_result"
    }
   ],
   "source": [
    "{key: key*value for key, value in my_dict.items()}"
   ]
  },
  {
   "cell_type": "code",
   "execution_count": 164,
   "id": "1acd1875",
   "metadata": {},
   "outputs": [
    {
     "data": {
      "text/plain": [
       "{0: 0, 1: 1, 2: 4, 3: 9, 4: 16}"
      ]
     },
     "execution_count": 164,
     "metadata": {},
     "output_type": "execute_result"
    }
   ],
   "source": [
    "{num: num*num for num in range(5)}"
   ]
  },
  {
   "cell_type": "code",
   "execution_count": 165,
   "id": "5c9d3bfd",
   "metadata": {},
   "outputs": [],
   "source": [
    "list1 = ['john', 'jane', 'doe']\n",
    "list2 = [95, 99, 98]"
   ]
  },
  {
   "cell_type": "code",
   "execution_count": 166,
   "id": "5722c83f",
   "metadata": {},
   "outputs": [
    {
     "data": {
      "text/plain": [
       "{'john': 95, 'jane': 99, 'doe': 98}"
      ]
     },
     "execution_count": 166,
     "metadata": {},
     "output_type": "execute_result"
    }
   ],
   "source": [
    "{list1[i]: list2[i] for i in range(len(list1))}"
   ]
  },
  {
   "cell_type": "code",
   "execution_count": 167,
   "id": "85b79556",
   "metadata": {},
   "outputs": [
    {
     "data": {
      "text/plain": [
       "{'john': 95, 'jane': 99, 'doe': 98}"
      ]
     },
     "execution_count": 167,
     "metadata": {},
     "output_type": "execute_result"
    }
   ],
   "source": [
    "dict(zip(list1,list2))"
   ]
  },
  {
   "cell_type": "code",
   "execution_count": 168,
   "id": "ebf4a88e",
   "metadata": {},
   "outputs": [
    {
     "data": {
      "text/plain": [
       "{1: 'odd',\n",
       " 2: 'even',\n",
       " 3: 'odd',\n",
       " 4: 'even',\n",
       " 5: 'odd',\n",
       " 6: 'even',\n",
       " 7: 'odd',\n",
       " 8: 'even',\n",
       " 9: 'odd',\n",
       " 10: 'even',\n",
       " 11: 'odd',\n",
       " 12: 'even',\n",
       " 13: 'odd',\n",
       " 14: 'even',\n",
       " 15: 'odd',\n",
       " 16: 'even',\n",
       " 17: 'odd',\n",
       " 18: 'even',\n",
       " 19: 'odd'}"
      ]
     },
     "execution_count": 168,
     "metadata": {},
     "output_type": "execute_result"
    }
   ],
   "source": [
    "{num: (\"even\" if num % 2 == 0 else \"odd\") for num in range(1, 20)}"
   ]
  },
  {
   "cell_type": "code",
   "execution_count": 169,
   "id": "10fa947f",
   "metadata": {},
   "outputs": [
    {
     "data": {
      "text/plain": [
       "{'john': 95, 'jane': 99, 'doe': 98}"
      ]
     },
     "execution_count": 169,
     "metadata": {},
     "output_type": "execute_result"
    }
   ],
   "source": [
    "list1 = ['john', 'jane', 'doe']\n",
    "list2 = [95, 99, 98, 100]\n",
    "\n",
    "dict(zip(list1, list2))"
   ]
  },
  {
   "cell_type": "code",
   "execution_count": null,
   "id": "a562cfd9",
   "metadata": {},
   "outputs": [],
   "source": [
    "def genes(file1, file2):\n",
    "    with open(file1) as file:\n",
    "        G1= {line.strip() for line in file if line.strip()}\n",
    "    with open(file1) as file:\n",
    "        G1= {line.strip() for line in file if line.strip()}"
   ]
  },
  {
   "cell_type": "code",
   "execution_count": 172,
   "id": "52c4ad35",
   "metadata": {},
   "outputs": [],
   "source": [
    "with open('gene_list1.txt') as file:\n",
    "    a = {line.strip() for line in file if line.strip()}"
   ]
  },
  {
   "cell_type": "code",
   "execution_count": 173,
   "id": "45d16590",
   "metadata": {},
   "outputs": [
    {
     "data": {
      "text/plain": [
       "{'A1BG',\n",
       " 'A1CF',\n",
       " 'A2M',\n",
       " 'A2ML1',\n",
       " 'A3GALT2',\n",
       " 'A4GALT',\n",
       " 'A4GNT',\n",
       " 'AAAS',\n",
       " 'AACS',\n",
       " 'AADAC',\n",
       " 'AADACL2',\n",
       " 'AADACL3',\n",
       " 'AADACL4',\n",
       " 'AADAT',\n",
       " 'AAGAB',\n",
       " 'AAK1',\n",
       " 'AAMDC',\n",
       " 'AAMP',\n",
       " 'AANAT',\n",
       " 'AAR2',\n",
       " 'AARD',\n",
       " 'AARS1',\n",
       " 'AARS2',\n",
       " 'AARSD1',\n",
       " 'AASDH',\n",
       " 'AASDHPPT',\n",
       " 'AASS',\n",
       " 'AATF',\n",
       " 'AATK',\n",
       " 'ABAT',\n",
       " 'ABCA1',\n",
       " 'ABCA10',\n",
       " 'ABCA12',\n",
       " 'ABCA13',\n",
       " 'ABCA2',\n",
       " 'ABCA3',\n",
       " 'ABCA4',\n",
       " 'ABCA5',\n",
       " 'ABCA6',\n",
       " 'ABCA7',\n",
       " 'ABCA8',\n",
       " 'ABCA9',\n",
       " 'ABCB1',\n",
       " 'ABCB10',\n",
       " 'ABCB11',\n",
       " 'ABCB4',\n",
       " 'ABCB5',\n",
       " 'ABCB6',\n",
       " 'ABCB7',\n",
       " 'ABCB8',\n",
       " 'ABCB9',\n",
       " 'ABCC1',\n",
       " 'ABCC10',\n",
       " 'ABCC11',\n",
       " 'ABCC12',\n",
       " 'ABCC2',\n",
       " 'ABCC3',\n",
       " 'ABCC4',\n",
       " 'ABCC5',\n",
       " 'ABCC6',\n",
       " 'ABCC8',\n",
       " 'ABCC9',\n",
       " 'ABCD1',\n",
       " 'ABCD2',\n",
       " 'ABCD3',\n",
       " 'ABCD4',\n",
       " 'ABCE1',\n",
       " 'ABCF1',\n",
       " 'ABCF2',\n",
       " 'ABCF3',\n",
       " 'ABCG1',\n",
       " 'ABCG2',\n",
       " 'ABCG4',\n",
       " 'ABCG5',\n",
       " 'ABCG8',\n",
       " 'ABHD1',\n",
       " 'ABHD10',\n",
       " 'ABHD11',\n",
       " 'ABHD12',\n",
       " 'ABHD12B',\n",
       " 'ABHD13',\n",
       " 'ABHD14A',\n",
       " 'ABHD14B',\n",
       " 'ABHD15',\n",
       " 'ABHD16A',\n",
       " 'ABHD16B',\n",
       " 'ABHD17A',\n",
       " 'ABHD17B',\n",
       " 'ABHD17C',\n",
       " 'ABHD18',\n",
       " 'ABHD2',\n",
       " 'ABHD3',\n",
       " 'ABHD4',\n",
       " 'ABHD5',\n",
       " 'ABHD6',\n",
       " 'ABHD8',\n",
       " 'ABI1',\n",
       " 'ABI2',\n",
       " 'ABI3',\n",
       " 'ABI3BP',\n",
       " 'ABITRAM',\n",
       " 'ABL1',\n",
       " 'ABL2',\n",
       " 'ABLIM1',\n",
       " 'ABLIM2',\n",
       " 'ABLIM3',\n",
       " 'ABO',\n",
       " 'ABR',\n",
       " 'ABRA',\n",
       " 'ABRACL',\n",
       " 'ABRAXAS1',\n",
       " 'ABRAXAS2',\n",
       " 'ABT1',\n",
       " 'ABTB1',\n",
       " 'ABTB2',\n",
       " 'ACAA1',\n",
       " 'ACAA2',\n",
       " 'ACACA',\n",
       " 'ACACB',\n",
       " 'ACAD10',\n",
       " 'ACAD11',\n",
       " 'ACAD8',\n",
       " 'ACAD9',\n",
       " 'ACADL',\n",
       " 'ACADM',\n",
       " 'ACADS',\n",
       " 'ACADSB',\n",
       " 'ACADVL',\n",
       " 'ACAN',\n",
       " 'ACAP1',\n",
       " 'ACAP2',\n",
       " 'ACAP3',\n",
       " 'ACAT1',\n",
       " 'ACAT2',\n",
       " 'ACBD3',\n",
       " 'ACBD4',\n",
       " 'ACBD5',\n",
       " 'ACBD6',\n",
       " 'ACBD7',\n",
       " 'ACCS',\n",
       " 'ACCSL',\n",
       " 'ACD',\n",
       " 'ACE',\n",
       " 'ACE2',\n",
       " 'ACER1',\n",
       " 'ACER2',\n",
       " 'ACER3',\n",
       " 'ACHE',\n",
       " 'ACIN1',\n",
       " 'ACKR1',\n",
       " 'ACKR2',\n",
       " 'ACKR3',\n",
       " 'ACKR4',\n",
       " 'ACLY',\n",
       " 'ACMSD',\n",
       " 'ACO1',\n",
       " 'ACO2',\n",
       " 'ACOD1',\n",
       " 'ACOT1',\n",
       " 'ACOT11',\n",
       " 'ACOT12',\n",
       " 'ACOT13',\n",
       " 'ACOT2',\n",
       " 'ACOT4',\n",
       " 'ACOT6',\n",
       " 'ACOT7',\n",
       " 'ACOT8',\n",
       " 'ACOT9',\n",
       " 'ACOX1',\n",
       " 'ACOX2',\n",
       " 'ACOX3',\n",
       " 'ACOXL',\n",
       " 'ACP1',\n",
       " 'ACP2',\n",
       " 'ACP3',\n",
       " 'ACP4',\n",
       " 'ACP5',\n",
       " 'ACP6',\n",
       " 'ACP7',\n",
       " 'ACR',\n",
       " 'ACRBP',\n",
       " 'ACRV1',\n",
       " 'ACSBG1',\n",
       " 'ACSBG2',\n",
       " 'ACSF2',\n",
       " 'ACSF3',\n",
       " 'ACSL1',\n",
       " 'ACSL3',\n",
       " 'ACSL4',\n",
       " 'ACSL5',\n",
       " 'ACSL6',\n",
       " 'ACSM1',\n",
       " 'ACSM2A',\n",
       " 'ACSM2B',\n",
       " 'ACSM3',\n",
       " 'ACSM4',\n",
       " 'ACSM5',\n",
       " 'ACSM6',\n",
       " 'ACSS1',\n",
       " 'ACSS2',\n",
       " 'ACSS3',\n",
       " 'ACTA1',\n",
       " 'ACTA2',\n",
       " 'ACTB',\n",
       " 'ACTBL2',\n",
       " 'ACTC1',\n",
       " 'ACTG1',\n",
       " 'ACTG2',\n",
       " 'ACTL10',\n",
       " 'ACTL6A',\n",
       " 'ACTL6B',\n",
       " 'ACTL7A',\n",
       " 'ACTL7B',\n",
       " 'ACTL8',\n",
       " 'ACTL9',\n",
       " 'ACTN1',\n",
       " 'ACTN2',\n",
       " 'ACTN3',\n",
       " 'ACTN4',\n",
       " 'ACTR10',\n",
       " 'ACTR1A',\n",
       " 'ACTR1B',\n",
       " 'ACTR2',\n",
       " 'ACTR3',\n",
       " 'ACTR3B',\n",
       " 'ACTR3C',\n",
       " 'ACTR5',\n",
       " 'ACTR6',\n",
       " 'ACTR8',\n",
       " 'ACTRT1',\n",
       " 'ACTRT2',\n",
       " 'ACTRT3',\n",
       " 'ACVR1',\n",
       " 'ACVR1B',\n",
       " 'ACVR1C',\n",
       " 'ACVR2A',\n",
       " 'ACVR2B',\n",
       " 'ACVRL1',\n",
       " 'ACY1',\n",
       " 'ACY3',\n",
       " 'ACYP1',\n",
       " 'ACYP2',\n",
       " 'ADA'}"
      ]
     },
     "execution_count": 173,
     "metadata": {},
     "output_type": "execute_result"
    }
   ],
   "source": [
    "a"
   ]
  },
  {
   "cell_type": "code",
   "execution_count": 174,
   "id": "cec5bd7e",
   "metadata": {},
   "outputs": [],
   "source": [
    "file1 = 'gene_list1.txt'\n",
    "file2 = 'gene_list2.txt'\n",
    "with open(file1) as g1, open(file2) as g2:\n",
    "    G1= {line.strip() for line in g1 if line.strip()}\n",
    "    G2= {line.strip() for line in g2 if line.strip()}"
   ]
  },
  {
   "cell_type": "code",
   "execution_count": 176,
   "id": "6d0540e5",
   "metadata": {},
   "outputs": [
    {
     "data": {
      "text/plain": [
       "{'ABHD11',\n",
       " 'ABHD12',\n",
       " 'ABHD12B',\n",
       " 'ABHD13',\n",
       " 'ABHD14A',\n",
       " 'ABHD14B',\n",
       " 'ABHD15',\n",
       " 'ABHD16A',\n",
       " 'ABHD16B',\n",
       " 'ABHD17A',\n",
       " 'ABHD17B',\n",
       " 'ABHD17C',\n",
       " 'ABHD18',\n",
       " 'ABI1',\n",
       " 'ABI2',\n",
       " 'ABI3',\n",
       " 'ABI3BP',\n",
       " 'ABITRAM',\n",
       " 'ABL1',\n",
       " 'ABL2',\n",
       " 'ABLIM1',\n",
       " 'ABLIM2',\n",
       " 'ABLIM3',\n",
       " 'ABO',\n",
       " 'ABR',\n",
       " 'ABRA',\n",
       " 'ABRACL',\n",
       " 'ABRAXAS1',\n",
       " 'ABRAXAS2',\n",
       " 'ABT1',\n",
       " 'ABTB1',\n",
       " 'ABTB2',\n",
       " 'ACAA1',\n",
       " 'ACAA2',\n",
       " 'ACACA',\n",
       " 'ACACB',\n",
       " 'ACAD10',\n",
       " 'ACAD11',\n",
       " 'ACAD8',\n",
       " 'ACAD9',\n",
       " 'ACADL',\n",
       " 'ACADM',\n",
       " 'ACADS',\n",
       " 'ACADSB',\n",
       " 'ACADVL',\n",
       " 'ACAN',\n",
       " 'ACAP1',\n",
       " 'ACAP2',\n",
       " 'ACAP3',\n",
       " 'ACAT1',\n",
       " 'ACAT2',\n",
       " 'ACBD3',\n",
       " 'ACBD4',\n",
       " 'ACBD5',\n",
       " 'ACBD6',\n",
       " 'ACBD7',\n",
       " 'ACCS',\n",
       " 'ACCSL',\n",
       " 'ZNF714',\n",
       " 'ZNF716',\n",
       " 'ZNF717',\n",
       " 'ZNF718',\n",
       " 'ZNF720',\n",
       " 'ZNF721',\n",
       " 'ZNF723',\n",
       " 'ZNF724',\n",
       " 'ZNF726',\n",
       " 'ZNF727',\n",
       " 'ZNF728',\n",
       " 'ZNF729',\n",
       " 'ZNF730',\n",
       " 'ZNF732',\n",
       " 'ZNF735',\n",
       " 'ZNF736',\n",
       " 'ZNF737',\n",
       " 'ZNF738',\n",
       " 'ZNF740',\n",
       " 'ZNF746',\n",
       " 'ZNF747',\n",
       " 'ZNF749',\n",
       " 'ZNF750',\n",
       " 'ZNF761',\n",
       " 'ZNF763',\n",
       " 'ZNF764',\n",
       " 'ZNF765',\n",
       " 'ZNF766',\n",
       " 'ZNF768',\n",
       " 'ZNF770',\n",
       " 'ZNF771',\n",
       " 'ZNF772',\n",
       " 'ZNF773',\n",
       " 'ZNF774',\n",
       " 'ZNF775',\n",
       " 'ZNF776',\n",
       " 'ZNF777',\n",
       " 'ZNF778',\n",
       " 'ZNF780A',\n",
       " 'ZNF780B',\n",
       " 'ZNF781',\n",
       " 'ZNF782',\n",
       " 'ZNF783',\n",
       " 'ZNF784',\n",
       " 'ZNF785',\n",
       " 'ZNF786',\n",
       " 'ZNF787',\n",
       " 'ZNF789',\n",
       " 'ZNF790',\n",
       " 'ZNF791',\n",
       " 'ZNF792',\n",
       " 'ZNF793',\n",
       " 'ZNF799',\n",
       " 'ZNF800',\n",
       " 'ZNF804A',\n",
       " 'ZNF804B',\n",
       " 'ZNF805',\n",
       " 'ZNF808',\n",
       " 'ZNF813',\n",
       " 'ZNF814',\n",
       " 'ZNF816',\n",
       " 'ZNF821',\n",
       " 'ZNF823',\n",
       " 'ZNF827',\n",
       " 'ZNF829',\n",
       " 'ZNF830',\n",
       " 'ZNF831',\n",
       " 'ZNF835',\n",
       " 'ZNF836',\n",
       " 'ZNF837',\n",
       " 'ZNF839',\n",
       " 'ZNF841',\n",
       " 'ZNF843',\n",
       " 'ZNF844',\n",
       " 'ZNF845',\n",
       " 'ZNF846',\n",
       " 'ZNF850',\n",
       " 'ZNF852',\n",
       " 'ZNF853',\n",
       " 'ZNF860',\n",
       " 'ZNF862',\n",
       " 'ZNF865',\n",
       " 'ZNF875',\n",
       " 'ZNF878',\n",
       " 'ZNF879',\n",
       " 'ZNF880',\n",
       " 'ZNF883',\n",
       " 'ZNF888',\n",
       " 'ZNF891',\n",
       " 'ZNFX1',\n",
       " 'ZNHIT1',\n",
       " 'ZNHIT2',\n",
       " 'ZNHIT3',\n",
       " 'ZNHIT6',\n",
       " 'ZNRD1',\n",
       " 'ZNRD2',\n",
       " 'ZNRF1',\n",
       " 'ZNRF2',\n",
       " 'ZNRF3',\n",
       " 'ZNRF4',\n",
       " 'ZP1',\n",
       " 'ZP2',\n",
       " 'ZP3',\n",
       " 'ZP4',\n",
       " 'ZPBP',\n",
       " 'ZPBP2',\n",
       " 'ZPLD1',\n",
       " 'ZPR1',\n",
       " 'ZRANB1',\n",
       " 'ZRANB2',\n",
       " 'ZRANB3',\n",
       " 'ZRSR2',\n",
       " 'ZSCAN1',\n",
       " 'ZSCAN10',\n",
       " 'ZSCAN12',\n",
       " 'ZSCAN16',\n",
       " 'ZSCAN18',\n",
       " 'ZSCAN2',\n",
       " 'ZSCAN20',\n",
       " 'ZSCAN21',\n",
       " 'ZSCAN22',\n",
       " 'ZSCAN23',\n",
       " 'ZSCAN25',\n",
       " 'ZSCAN26',\n",
       " 'ZSCAN29',\n",
       " 'ZSCAN30',\n",
       " 'ZSCAN31',\n",
       " 'ZSCAN32',\n",
       " 'ZSCAN4',\n",
       " 'ZSCAN5A',\n",
       " 'ZSCAN5B',\n",
       " 'ZSCAN5C',\n",
       " 'ZSCAN9',\n",
       " 'ZSWIM1',\n",
       " 'ZSWIM2',\n",
       " 'ZSWIM3',\n",
       " 'ZSWIM4',\n",
       " 'ZSWIM5',\n",
       " 'ZSWIM6',\n",
       " 'ZSWIM7',\n",
       " 'ZSWIM8',\n",
       " 'ZSWIM9',\n",
       " 'ZUP1'}"
      ]
     },
     "execution_count": 176,
     "metadata": {},
     "output_type": "execute_result"
    }
   ],
   "source": [
    "G2\n"
   ]
  },
  {
   "cell_type": "code",
   "execution_count": 177,
   "id": "a8c6c664",
   "metadata": {},
   "outputs": [
    {
     "data": {
      "text/plain": [
       "{'A1BG',\n",
       " 'A1CF',\n",
       " 'A2M',\n",
       " 'A2ML1',\n",
       " 'A3GALT2',\n",
       " 'A4GALT',\n",
       " 'A4GNT',\n",
       " 'AAAS',\n",
       " 'AACS',\n",
       " 'AADAC',\n",
       " 'AADACL2',\n",
       " 'AADACL3',\n",
       " 'AADACL4',\n",
       " 'AADAT',\n",
       " 'AAGAB',\n",
       " 'AAK1',\n",
       " 'AAMDC',\n",
       " 'AAMP',\n",
       " 'AANAT',\n",
       " 'AAR2',\n",
       " 'AARD',\n",
       " 'AARS1',\n",
       " 'AARS2',\n",
       " 'AARSD1',\n",
       " 'AASDH',\n",
       " 'AASDHPPT',\n",
       " 'AASS',\n",
       " 'AATF',\n",
       " 'AATK',\n",
       " 'ABAT',\n",
       " 'ABCA1',\n",
       " 'ABCA10',\n",
       " 'ABCA12',\n",
       " 'ABCA13',\n",
       " 'ABCA2',\n",
       " 'ABCA3',\n",
       " 'ABCA4',\n",
       " 'ABCA5',\n",
       " 'ABCA6',\n",
       " 'ABCA7',\n",
       " 'ABCA8',\n",
       " 'ABCA9',\n",
       " 'ABCB1',\n",
       " 'ABCB10',\n",
       " 'ABCB11',\n",
       " 'ABCB4',\n",
       " 'ABCB5',\n",
       " 'ABCB6',\n",
       " 'ABCB7',\n",
       " 'ABCB8',\n",
       " 'ABCB9',\n",
       " 'ABCC1',\n",
       " 'ABCC10',\n",
       " 'ABCC11',\n",
       " 'ABCC12',\n",
       " 'ABCC2',\n",
       " 'ABCC3',\n",
       " 'ABCC4',\n",
       " 'ABCC5',\n",
       " 'ABCC6',\n",
       " 'ABCC8',\n",
       " 'ABCC9',\n",
       " 'ABCD1',\n",
       " 'ABCD2',\n",
       " 'ABCD3',\n",
       " 'ABCD4',\n",
       " 'ABCE1',\n",
       " 'ABCF1',\n",
       " 'ABCF2',\n",
       " 'ABCF3',\n",
       " 'ABCG1',\n",
       " 'ABCG2',\n",
       " 'ABCG4',\n",
       " 'ABCG5',\n",
       " 'ABCG8',\n",
       " 'ABHD1',\n",
       " 'ABHD10',\n",
       " 'ABHD2',\n",
       " 'ABHD3',\n",
       " 'ABHD4',\n",
       " 'ABHD5',\n",
       " 'ABHD6',\n",
       " 'ABHD8',\n",
       " 'ACD',\n",
       " 'ACE',\n",
       " 'ACE2',\n",
       " 'ACER1',\n",
       " 'ACER2',\n",
       " 'ACER3',\n",
       " 'ACHE',\n",
       " 'ACIN1',\n",
       " 'ACKR1',\n",
       " 'ACKR2',\n",
       " 'ACKR3',\n",
       " 'ACKR4',\n",
       " 'ACLY',\n",
       " 'ACMSD',\n",
       " 'ACO1',\n",
       " 'ACO2',\n",
       " 'ACOD1',\n",
       " 'ACOT1',\n",
       " 'ACOT11',\n",
       " 'ACOT12',\n",
       " 'ACOT13',\n",
       " 'ACOT2',\n",
       " 'ACOT4',\n",
       " 'ACOT6',\n",
       " 'ACOT7',\n",
       " 'ACOT8',\n",
       " 'ACOT9',\n",
       " 'ACOX1',\n",
       " 'ACOX2',\n",
       " 'ACOX3',\n",
       " 'ACOXL',\n",
       " 'ACP1',\n",
       " 'ACP2',\n",
       " 'ACP3',\n",
       " 'ACP4',\n",
       " 'ACP5',\n",
       " 'ACP6',\n",
       " 'ACP7',\n",
       " 'ACR',\n",
       " 'ACRBP',\n",
       " 'ACRV1',\n",
       " 'ACSBG1',\n",
       " 'ACSBG2',\n",
       " 'ACSF2',\n",
       " 'ACSF3',\n",
       " 'ACSL1',\n",
       " 'ACSL3',\n",
       " 'ACSL4',\n",
       " 'ACSL5',\n",
       " 'ACSL6',\n",
       " 'ACSM1',\n",
       " 'ACSM2A',\n",
       " 'ACSM2B',\n",
       " 'ACSM3',\n",
       " 'ACSM4',\n",
       " 'ACSM5',\n",
       " 'ACSM6',\n",
       " 'ACSS1',\n",
       " 'ACSS2',\n",
       " 'ACSS3',\n",
       " 'ACTA1',\n",
       " 'ACTA2',\n",
       " 'ACTB',\n",
       " 'ACTBL2',\n",
       " 'ACTC1',\n",
       " 'ACTG1',\n",
       " 'ACTG2',\n",
       " 'ACTL10',\n",
       " 'ACTL6A',\n",
       " 'ACTL6B',\n",
       " 'ACTL7A',\n",
       " 'ACTL7B',\n",
       " 'ACTL8',\n",
       " 'ACTL9',\n",
       " 'ACTN1',\n",
       " 'ACTN2',\n",
       " 'ACTN3',\n",
       " 'ACTN4',\n",
       " 'ACTR10',\n",
       " 'ACTR1A',\n",
       " 'ACTR1B',\n",
       " 'ACTR2',\n",
       " 'ACTR3',\n",
       " 'ACTR3B',\n",
       " 'ACTR3C',\n",
       " 'ACTR5',\n",
       " 'ACTR6',\n",
       " 'ACTR8',\n",
       " 'ACTRT1',\n",
       " 'ACTRT2',\n",
       " 'ACTRT3',\n",
       " 'ACVR1',\n",
       " 'ACVR1B',\n",
       " 'ACVR1C',\n",
       " 'ACVR2A',\n",
       " 'ACVR2B',\n",
       " 'ACVRL1',\n",
       " 'ACY1',\n",
       " 'ACY3',\n",
       " 'ACYP1',\n",
       " 'ACYP2',\n",
       " 'ADA'}"
      ]
     },
     "execution_count": 177,
     "metadata": {},
     "output_type": "execute_result"
    }
   ],
   "source": [
    "G1 - G2"
   ]
  },
  {
   "cell_type": "code",
   "execution_count": 178,
   "id": "a65e8f16",
   "metadata": {},
   "outputs": [
    {
     "data": {
      "text/plain": [
       "{'ZNF714',\n",
       " 'ZNF716',\n",
       " 'ZNF717',\n",
       " 'ZNF718',\n",
       " 'ZNF720',\n",
       " 'ZNF721',\n",
       " 'ZNF723',\n",
       " 'ZNF724',\n",
       " 'ZNF726',\n",
       " 'ZNF727',\n",
       " 'ZNF728',\n",
       " 'ZNF729',\n",
       " 'ZNF730',\n",
       " 'ZNF732',\n",
       " 'ZNF735',\n",
       " 'ZNF736',\n",
       " 'ZNF737',\n",
       " 'ZNF738',\n",
       " 'ZNF740',\n",
       " 'ZNF746',\n",
       " 'ZNF747',\n",
       " 'ZNF749',\n",
       " 'ZNF750',\n",
       " 'ZNF761',\n",
       " 'ZNF763',\n",
       " 'ZNF764',\n",
       " 'ZNF765',\n",
       " 'ZNF766',\n",
       " 'ZNF768',\n",
       " 'ZNF770',\n",
       " 'ZNF771',\n",
       " 'ZNF772',\n",
       " 'ZNF773',\n",
       " 'ZNF774',\n",
       " 'ZNF775',\n",
       " 'ZNF776',\n",
       " 'ZNF777',\n",
       " 'ZNF778',\n",
       " 'ZNF780A',\n",
       " 'ZNF780B',\n",
       " 'ZNF781',\n",
       " 'ZNF782',\n",
       " 'ZNF783',\n",
       " 'ZNF784',\n",
       " 'ZNF785',\n",
       " 'ZNF786',\n",
       " 'ZNF787',\n",
       " 'ZNF789',\n",
       " 'ZNF790',\n",
       " 'ZNF791',\n",
       " 'ZNF792',\n",
       " 'ZNF793',\n",
       " 'ZNF799',\n",
       " 'ZNF800',\n",
       " 'ZNF804A',\n",
       " 'ZNF804B',\n",
       " 'ZNF805',\n",
       " 'ZNF808',\n",
       " 'ZNF813',\n",
       " 'ZNF814',\n",
       " 'ZNF816',\n",
       " 'ZNF821',\n",
       " 'ZNF823',\n",
       " 'ZNF827',\n",
       " 'ZNF829',\n",
       " 'ZNF830',\n",
       " 'ZNF831',\n",
       " 'ZNF835',\n",
       " 'ZNF836',\n",
       " 'ZNF837',\n",
       " 'ZNF839',\n",
       " 'ZNF841',\n",
       " 'ZNF843',\n",
       " 'ZNF844',\n",
       " 'ZNF845',\n",
       " 'ZNF846',\n",
       " 'ZNF850',\n",
       " 'ZNF852',\n",
       " 'ZNF853',\n",
       " 'ZNF860',\n",
       " 'ZNF862',\n",
       " 'ZNF865',\n",
       " 'ZNF875',\n",
       " 'ZNF878',\n",
       " 'ZNF879',\n",
       " 'ZNF880',\n",
       " 'ZNF883',\n",
       " 'ZNF888',\n",
       " 'ZNF891',\n",
       " 'ZNFX1',\n",
       " 'ZNHIT1',\n",
       " 'ZNHIT2',\n",
       " 'ZNHIT3',\n",
       " 'ZNHIT6',\n",
       " 'ZNRD1',\n",
       " 'ZNRD2',\n",
       " 'ZNRF1',\n",
       " 'ZNRF2',\n",
       " 'ZNRF3',\n",
       " 'ZNRF4',\n",
       " 'ZP1',\n",
       " 'ZP2',\n",
       " 'ZP3',\n",
       " 'ZP4',\n",
       " 'ZPBP',\n",
       " 'ZPBP2',\n",
       " 'ZPLD1',\n",
       " 'ZPR1',\n",
       " 'ZRANB1',\n",
       " 'ZRANB2',\n",
       " 'ZRANB3',\n",
       " 'ZRSR2',\n",
       " 'ZSCAN1',\n",
       " 'ZSCAN10',\n",
       " 'ZSCAN12',\n",
       " 'ZSCAN16',\n",
       " 'ZSCAN18',\n",
       " 'ZSCAN2',\n",
       " 'ZSCAN20',\n",
       " 'ZSCAN21',\n",
       " 'ZSCAN22',\n",
       " 'ZSCAN23',\n",
       " 'ZSCAN25',\n",
       " 'ZSCAN26',\n",
       " 'ZSCAN29',\n",
       " 'ZSCAN30',\n",
       " 'ZSCAN31',\n",
       " 'ZSCAN32',\n",
       " 'ZSCAN4',\n",
       " 'ZSCAN5A',\n",
       " 'ZSCAN5B',\n",
       " 'ZSCAN5C',\n",
       " 'ZSCAN9',\n",
       " 'ZSWIM1',\n",
       " 'ZSWIM2',\n",
       " 'ZSWIM3',\n",
       " 'ZSWIM4',\n",
       " 'ZSWIM5',\n",
       " 'ZSWIM6',\n",
       " 'ZSWIM7',\n",
       " 'ZSWIM8',\n",
       " 'ZSWIM9',\n",
       " 'ZUP1'}"
      ]
     },
     "execution_count": 178,
     "metadata": {},
     "output_type": "execute_result"
    }
   ],
   "source": [
    "G2 - G1"
   ]
  },
  {
   "cell_type": "code",
   "execution_count": 185,
   "id": "d872af8c",
   "metadata": {},
   "outputs": [
    {
     "name": "stdout",
     "output_type": "stream",
     "text": [
      "{'last_name': 'Weaver', 'first_name': 'Michael', 'email': 'xdunn@hotmail.com', 'country': 'Nepal', 'account': 'QVJP6465242365388'}\n",
      "{'last_name': 'Owens', 'first_name': 'Jackson', 'email': 'iedwards@yahoo.com', 'country': 'Kazakhstan', 'account': 'FVQZ0955529767455'}\n",
      "{'last_name': 'Gilmore', 'first_name': 'Patrick', 'email': 'arogers@smith.com', 'country': 'Mauritius', 'account': 'QFIM0905182880347'}\n",
      "{'last_name': 'Perez', 'first_name': 'Jeffrey', 'email': 'plewis@chavez.com', 'country': 'New Zealand', 'account': 'YWOT0997131632248'}\n",
      "{'last_name': 'Thomas', 'first_name': 'James', 'email': 'fred92@yahoo.com', 'country': 'Yemen', 'account': 'QAAE9838291982555'}\n",
      "{'last_name': 'Nelson', 'first_name': 'Greg', 'email': 'mmiller@lynch.com', 'country': 'Jordan', 'account': 'PCNE8127696280157'}\n",
      "{'last_name': 'White', 'first_name': 'Joshua', 'email': 'steven49@gmail.com', 'country': 'Palau', 'account': 'BCEN3299883381338'}\n",
      "{'last_name': 'Francis', 'first_name': 'Todd', 'email': 'amanda23@hotmail.com', 'country': 'Argentina', 'account': 'XPTQ7837014557677'}\n",
      "{'last_name': 'Shaw', 'first_name': 'Stephen', 'email': 'jackduke@hotmail.com', 'country': 'Marshall Islands', 'account': 'TRLQ6559557081716'}\n",
      "{'last_name': 'Armstrong', 'first_name': 'Mariah', 'email': 'rhodesnicholas@hotmail.com', 'country': 'Albania', 'account': 'OHOV7518558201999'}\n",
      "{'last_name': 'Boyle', 'first_name': 'Anthony', 'email': 'smithashlee@yahoo.com', 'country': 'Kyrgyz Republic', 'account': 'MCQU7347833033110'}\n",
      "{'last_name': 'Cuevas', 'first_name': 'Patrick', 'email': 'ubriggs@hill.info', 'country': 'Turkmenistan', 'account': 'PPHE5533473251751'}\n",
      "{'last_name': 'Reyes', 'first_name': 'Gerald', 'email': 'brownclarence@gonzalez-moore.com', 'country': 'Fiji', 'account': 'JCDK1943355298609'}\n",
      "{'last_name': 'Calderon', 'first_name': 'Christopher', 'email': 'teresa30@carpenter-warner.com', 'country': 'Costa Rica', 'account': 'NERZ5502558659614'}\n",
      "{'last_name': 'Weiss', 'first_name': 'Shane', 'email': 'leekatherine@williams.com', 'country': 'Martinique', 'account': 'DLDV5789894914403'}\n",
      "{'last_name': 'Conley', 'first_name': 'Crystal', 'email': 'chasewatkins@perez-phillips.com', 'country': 'Singapore', 'account': 'GZZF6936998445532'}\n",
      "{'last_name': 'Nelson', 'first_name': 'Jeffrey', 'email': 'hsherman@gmail.com', 'country': 'Mayotte', 'account': 'ECGK2823955143629'}\n",
      "{'last_name': 'Johnson', 'first_name': 'Brianna', 'email': 'martinezdaniel@hotmail.com', 'country': 'Costa Rica', 'account': 'QOVO4275314052899'}\n",
      "{'last_name': 'Werner', 'first_name': 'Brandon', 'email': 'justinfischer@gmail.com', 'country': 'Guadeloupe', 'account': 'UKRT1119626365017'}\n",
      "{'last_name': 'Bennett', 'first_name': 'Brianna', 'email': 'cindy08@gmail.com', 'country': 'Bahamas', 'account': 'UNPV3347450330173'}\n",
      "{'last_name': 'Fletcher', 'first_name': 'Austin', 'email': 'carolharrington@fleming.org', 'country': 'Azerbaijan', 'account': 'GJZT6825738428111'}\n",
      "{'last_name': 'Lewis', 'first_name': 'Patrick', 'email': 'lopezcarl@johnson.com', 'country': 'Saint Helena', 'account': 'JOQE2648899771737'}\n",
      "{'last_name': 'Smith', 'first_name': 'Joseph', 'email': 'michael74@yahoo.com', 'country': 'Hong Kong', 'account': 'MNXY3262955868027'}\n",
      "{'last_name': 'Sullivan', 'first_name': 'Sharon', 'email': 'gonzalezrobert@hotmail.com', 'country': 'Turkey', 'account': 'YHXF7256577475630'}\n",
      "{'last_name': 'Wilson', 'first_name': 'Krystal', 'email': 'dawnjohnson@gmail.com', 'country': 'Swaziland', 'account': 'MUVI3570791852556'}\n",
      "{'last_name': 'Schmidt', 'first_name': 'Diana', 'email': 'watersryan@gmail.com', 'country': 'Holy See (Vatican City State)', 'account': 'UKCP6739617302102'}\n",
      "{'last_name': 'Huff', 'first_name': 'Sean', 'email': 'byoung@gmail.com', 'country': 'Norfolk Island', 'account': 'WDAT4146843903498'}\n",
      "{'last_name': 'Nguyen', 'first_name': 'Robin', 'email': 'vhanson@yahoo.com', 'country': 'Kenya', 'account': 'SVMU4403517448078'}\n",
      "{'last_name': 'Russell', 'first_name': 'Robyn', 'email': 'bfletcher@yahoo.com', 'country': 'Togo', 'account': 'ZNUY4071301663622'}\n",
      "{'last_name': 'Smith', 'first_name': 'Tiffany', 'email': 'colleengarrison@hotmail.com', 'country': 'San Marino', 'account': 'GPFA8271551275648'}\n",
      "{'last_name': 'Smith', 'first_name': 'Lori', 'email': 'catherine23@gmail.com', 'country': 'Romania', 'account': 'MKWY4848668895426'}\n",
      "{'last_name': 'Keith', 'first_name': 'Sabrina', 'email': 'xmurphy@yahoo.com', 'country': 'Algeria', 'account': 'QHIW7412514205367'}\n",
      "{'last_name': 'Johnson', 'first_name': 'Miguel', 'email': 'aaronrichard@middleton.net', 'country': 'Slovakia (Slovak Republic)', 'account': 'QAAO4666689281736'}\n",
      "{'last_name': 'Barron', 'first_name': 'Dustin', 'email': 'jesse93@best.com', 'country': 'Somalia', 'account': 'LRPR8694143910883'}\n",
      "{'last_name': 'Robinson', 'first_name': 'Michael', 'email': 'johnperez@johnson.com', 'country': 'Turkmenistan', 'account': 'UWFU1921951273393'}\n",
      "{'last_name': 'Nguyen', 'first_name': 'Robert', 'email': 'jessica62@yahoo.com', 'country': 'Croatia', 'account': 'JQHS4274771257925'}\n",
      "{'last_name': 'Abbott', 'first_name': 'Brandon', 'email': 'jennifer87@gmail.com', 'country': 'Jamaica', 'account': 'RSLD0426398604312'}\n",
      "{'last_name': 'Oneill', 'first_name': 'Bruce', 'email': 'morenolindsay@bass.org', 'country': 'Montserrat', 'account': 'UYHI6964741005832'}\n",
      "{'last_name': 'Nash', 'first_name': 'Linda', 'email': 'robertdavis@hotmail.com', 'country': 'Heard Island and McDonald Islands', 'account': 'ZKTE5908966955533'}\n",
      "{'last_name': 'Cameron', 'first_name': 'Kathleen', 'email': 'melanie81@rogers.com', 'country': 'Niger', 'account': 'HHHP3471562002758'}\n",
      "{'last_name': 'Wilkinson', 'first_name': 'Wesley', 'email': 'clineerin@hotmail.com', 'country': 'Saint Vincent and the Grenadines', 'account': 'UWLV6407825245995'}\n",
      "{'last_name': 'Wallace', 'first_name': 'Debbie', 'email': 'terri95@hotmail.com', 'country': 'Antigua and Barbuda', 'account': 'JRBN0811785293731'}\n",
      "{'last_name': 'Woodward', 'first_name': 'Kayla', 'email': 'danielle65@yahoo.com', 'country': 'Mexico', 'account': 'VDWY7565964041116'}\n",
      "{'last_name': 'Bennett', 'first_name': 'Stephanie', 'email': 'sjackson@yahoo.com', 'country': 'Singapore', 'account': 'DNRB2101855092009'}\n",
      "{'last_name': 'Jenkins', 'first_name': 'Caleb', 'email': 'douglas63@yahoo.com', 'country': 'Botswana', 'account': 'IILE1765776198023'}\n",
      "{'last_name': 'Edwards', 'first_name': 'Valerie', 'email': 'woodardlindsey@yahoo.com', 'country': 'Guinea', 'account': 'ZJUF2687631787282'}\n",
      "{'last_name': 'Anderson', 'first_name': 'Mary', 'email': 'suebrown@yahoo.com', 'country': 'Chile', 'account': 'DHMT4208071148508'}\n",
      "{'last_name': 'Ray', 'first_name': 'Angela', 'email': 'swhite@yahoo.com', 'country': 'Mayotte', 'account': 'UBRR8524342666714'}\n",
      "{'last_name': 'Edwards', 'first_name': 'Haley', 'email': 'martinkimberly@lopez.com', 'country': 'Macedonia', 'account': 'OGPU6537909247863'}\n",
      "{'last_name': 'Clark', 'first_name': 'Charles', 'email': 'jessica11@hotmail.com', 'country': 'Ukraine', 'account': 'AHYX6128839695452'}\n",
      "{'last_name': 'Hill', 'first_name': 'Lisa', 'email': 'hsmith@baker.com', 'country': 'Saint Martin', 'account': 'VUPW6891906300822'}\n",
      "{'last_name': 'Carpenter', 'first_name': 'Jonathan', 'email': 'fklein@yahoo.com', 'country': 'Germany', 'account': 'PKFW4841194501766'}\n",
      "{'last_name': 'Griffith', 'first_name': 'Latoya', 'email': 'ryan32@skinner.com', 'country': 'Lesotho', 'account': 'BNYD8693045932496'}\n",
      "{'last_name': 'Blair', 'first_name': 'Kim', 'email': 'tmurphy@flores.biz', 'country': 'Nepal', 'account': 'FQJA6381776349463'}\n",
      "{'last_name': 'Salazar', 'first_name': 'Mary', 'email': 'mary64@ray.org', 'country': 'Latvia', 'account': 'KCNI2464381879411'}\n",
      "{'last_name': 'Krueger', 'first_name': 'Kenneth', 'email': 'jennajoseph@yahoo.com', 'country': 'Central African Republic', 'account': 'BIGY3006735396533'}\n",
      "{'last_name': 'Burke', 'first_name': 'Phillip', 'email': 'watsonsamuel@gmail.com', 'country': 'Peru', 'account': 'CNJX1222752295544'}\n",
      "{'last_name': 'Juarez', 'first_name': 'Erica', 'email': 'xvelasquez@hughes.com', 'country': 'Spain', 'account': 'ZROP5229895490397'}\n",
      "{'last_name': 'Watkins', 'first_name': 'Jason', 'email': 'april99@gmail.com', 'country': 'Seychelles', 'account': 'NXKK2792812848629'}\n",
      "{'last_name': 'Carter', 'first_name': 'Lee', 'email': 'kfletcher@yahoo.com', 'country': 'Faroe Islands', 'account': 'DPLN5056382218296'}\n",
      "{'last_name': 'Huang', 'first_name': 'Randy', 'email': 'xchurch@hotmail.com', 'country': 'Tokelau', 'account': 'KAOL9792684486009'}\n",
      "{'last_name': 'Owen', 'first_name': 'Kristina', 'email': 'megan24@stewart.net', 'country': 'Cocos (Keeling) Islands', 'account': 'WRXW4627191899235'}\n",
      "{'last_name': 'Turner', 'first_name': 'Beth', 'email': 'sydneycollins@hunter.com', 'country': 'Burundi', 'account': 'OMOK4767172062189'}\n",
      "{'last_name': 'Aguirre', 'first_name': 'Michael', 'email': 'robertbowen@chavez-ortega.com', 'country': 'Timor-Leste', 'account': 'KRKF7344951038740'}\n",
      "{'last_name': 'Wilson', 'first_name': 'Elizabeth', 'email': 'christiandanielle@yahoo.com', 'country': 'Montserrat', 'account': 'SAAA4141150617330'}\n",
      "{'last_name': 'Hardy', 'first_name': 'Teresa', 'email': 'kdavidson@gordon.com', 'country': 'Norway', 'account': 'XNWQ1072087896797'}\n",
      "{'last_name': 'Stewart', 'first_name': 'David', 'email': 'bennettwanda@vega-guerra.net', 'country': 'Sierra Leone', 'account': 'FTHM1005169617995'}\n",
      "{'last_name': 'Moore', 'first_name': 'Heather', 'email': 'mark00@hotmail.com', 'country': 'French Polynesia', 'account': 'OSSM9070924947595'}\n",
      "{'last_name': 'Grant', 'first_name': 'Melissa', 'email': 'schaefernatalie@hotmail.com', 'country': 'French Guiana', 'account': 'CFQJ4204773901237'}\n",
      "{'last_name': 'Thompson', 'first_name': 'Jennifer', 'email': 'moralesmartin@rodgers.com', 'country': 'Cape Verde', 'account': 'MGFG2793756668287'}\n",
      "{'last_name': 'Anderson', 'first_name': 'Raymond', 'email': 'dprince@hotmail.com', 'country': 'Barbados', 'account': 'IGXK5881682171566'}\n",
      "{'last_name': 'Ramsey', 'first_name': 'Angela', 'email': 'cparks@valdez-hudson.com', 'country': 'Andorra', 'account': 'QYBW6359021109484'}\n",
      "{'last_name': 'Gonzales', 'first_name': 'Betty', 'email': 'martinezrichard@yahoo.com', 'country': 'Montserrat', 'account': 'UTSI0776569247505'}\n",
      "{'last_name': 'Castaneda', 'first_name': 'Thomas', 'email': 'kpena@yahoo.com', 'country': 'Egypt', 'account': 'LSDI9463735752680'}\n",
      "{'last_name': 'Todd', 'first_name': 'Jonathan', 'email': 'julie68@gmail.com', 'country': 'Malaysia', 'account': 'ISYY1401931979959'}\n",
      "{'last_name': 'Garcia', 'first_name': 'Stacey', 'email': 'lukebradford@hotmail.com', 'country': 'Zimbabwe', 'account': 'HNOA0376843856035'}\n",
      "{'last_name': 'Figueroa', 'first_name': 'Judy', 'email': 'ystewart@yahoo.com', 'country': 'Portugal', 'account': 'EEVV8325881104553'}\n",
      "{'last_name': 'Castillo', 'first_name': 'Ashley', 'email': 'cory33@king-shaw.net', 'country': 'Paraguay', 'account': 'QXGZ3111246190069'}\n",
      "{'last_name': 'Flores', 'first_name': 'Zachary', 'email': 'zcalhoun@gmail.com', 'country': 'Central African Republic', 'account': 'ACQR2846533122117'}\n",
      "{'last_name': 'Allen', 'first_name': 'Erica', 'email': 'michaelhall@hotmail.com', 'country': 'Palau', 'account': 'ZAZD8310339637467'}\n",
      "{'last_name': 'Potts', 'first_name': 'Savannah', 'email': 'kristentaylor@yahoo.com', 'country': 'Micronesia', 'account': 'ARWK1547324119222'}\n",
      "{'last_name': 'Wheeler', 'first_name': 'Zachary', 'email': 'stephen63@yahoo.com', 'country': 'Armenia', 'account': 'OMQX4840913072589'}\n",
      "{'last_name': 'Thomas', 'first_name': 'Timothy', 'email': 'bryanmartin@gmail.com', 'country': 'Bahrain', 'account': 'OCFV4659464275270'}\n",
      "{'last_name': 'Mcknight', 'first_name': 'Ann', 'email': 'kristinavelasquez@gmail.com', 'country': 'Guatemala', 'account': 'DTRB4720098955341'}\n",
      "{'last_name': 'Thompson', 'first_name': 'Ruth', 'email': 'denise01@burns.org', 'country': 'Saint Vincent and the Grenadines', 'account': 'YYHM5758234683389'}\n",
      "{'last_name': 'Levy', 'first_name': 'Daniel', 'email': 'beancody@jones.com', 'country': 'Kazakhstan', 'account': 'AHBN3151680654826'}\n",
      "{'last_name': 'Hubbard', 'first_name': 'Paul', 'email': 'ubradley@yahoo.com', 'country': 'Germany', 'account': 'FGBC0366153271398'}\n",
      "{'last_name': 'Jones', 'first_name': 'Jason', 'email': 'anthony75@yahoo.com', 'country': 'Western Sahara', 'account': 'MHTE8867005510944'}\n",
      "{'last_name': 'Garcia', 'first_name': 'Margaret', 'email': 'antonio52@gmail.com', 'country': 'Togo', 'account': 'IYOD4325345823013'}\n",
      "{'last_name': 'Peters', 'first_name': 'Jeremy', 'email': 'johnlewis@hotmail.com', 'country': 'Guam', 'account': 'NZFX8257739892619'}\n",
      "{'last_name': 'Stone', 'first_name': 'Mark', 'email': 'nmoore@hotmail.com', 'country': 'Kuwait', 'account': 'MWRB2515761996641'}\n",
      "{'last_name': 'Edwards', 'first_name': 'Darius', 'email': 'nchurch@yahoo.com', 'country': 'Eritrea', 'account': 'CURJ9953745256871'}\n",
      "{'last_name': 'Lawson', 'first_name': 'Tracy', 'email': 'piercejenna@gmail.com', 'country': 'Czech Republic', 'account': 'ATOT8581137487723'}\n",
      "{'last_name': 'Cooper', 'first_name': 'Christina', 'email': 'ddavidson@hotmail.com', 'country': 'Maldives', 'account': 'RQGA0882784089265'}\n",
      "{'last_name': 'Harris', 'first_name': 'Megan', 'email': 'ndelacruz@yahoo.com', 'country': 'Armenia', 'account': 'EOPA8088866975598'}\n",
      "{'last_name': 'Jones', 'first_name': 'Timothy', 'email': 'jenniferadkins@griffin.biz', 'country': 'Benin', 'account': 'JCUN9597199552039'}\n",
      "{'last_name': 'Burch', 'first_name': 'Tracie', 'email': 'evansmiguel@yahoo.com', 'country': 'Fiji', 'account': 'IZYL3351829981461'}\n",
      "{'last_name': 'Chung', 'first_name': 'Jason', 'email': 'kenneththompson@baxter.com', 'country': 'Iceland', 'account': 'JDIH2349154465371'}\n",
      "{'last_name': 'Melton', 'first_name': 'Samantha', 'email': 'bcurtis@hotmail.com', 'country': 'Macedonia', 'account': 'VRZP1447516193511'}\n",
      "{'last_name': 'Hansen', 'first_name': 'Michael', 'email': 'phillipssean@hotmail.com', 'country': 'Serbia', 'account': 'QKAF2254397516681'}\n"
     ]
    }
   ],
   "source": [
    "filename = 'people.tsv'\n",
    "\n",
    "students = []\n",
    "header = None\n",
    "with open(filename) as file:\n",
    "    for line in file:\n",
    "        if not line.strip():\n",
    "            continue\n",
    "            \n",
    "        if not header:\n",
    "            header = line.strip().split('\\t')\n",
    "            continue\n",
    "#         print(header)\n",
    "#         print(line.strip().split('\\t'))\n",
    "#         print(dict(list(zip(header, line.strip().split('\\t')))))\n",
    "#         tmp = dict(zip(header,line.strip().split('\\t')))\n",
    "        students.append(dict(zip(header,line.strip().split('\\t'))))\n",
    "for student in students:\n",
    "    print(student)"
   ]
  },
  {
   "cell_type": "code",
   "execution_count": 188,
   "id": "0b320894",
   "metadata": {},
   "outputs": [
    {
     "data": {
      "text/plain": [
       "'March'"
      ]
     },
     "execution_count": 188,
     "metadata": {},
     "output_type": "execute_result"
    }
   ],
   "source": [
    "month = 3\n",
    "\n",
    "months = [\n",
    "    None,\n",
    "    'January',\n",
    "    'February',\n",
    "    'March',   \n",
    "]\n",
    "\n",
    "months[month]"
   ]
  },
  {
   "cell_type": "code",
   "execution_count": 189,
   "id": "5ac626bb",
   "metadata": {},
   "outputs": [
    {
     "data": {
      "text/plain": [
       "'March'"
      ]
     },
     "execution_count": 189,
     "metadata": {},
     "output_type": "execute_result"
    }
   ],
   "source": [
    "months = {\n",
    "    1: 'January',\n",
    "    2: 'February',\n",
    "    3: 'March'\n",
    "}\n",
    "\n",
    "months[month]"
   ]
  },
  {
   "cell_type": "code",
   "execution_count": 197,
   "id": "0cffb73e",
   "metadata": {},
   "outputs": [
    {
     "name": "stdout",
     "output_type": "stream",
     "text": [
      "2 271\n",
      "3 563\n",
      "4 860\n",
      "5 1112\n",
      "6 1397\n",
      "7 1652\n",
      "8 1362\n",
      "9 1103\n",
      "10 827\n",
      "11 573\n",
      "12 280\n"
     ]
    }
   ],
   "source": [
    "def simulate_two_dice(no_simulation):\n",
    "    import random\n",
    "    theoretical_probabilities = [\n",
    "        0,\n",
    "        0,\n",
    "        1 / 36,\n",
    "        2 / 36,\n",
    "        3 / 36,\n",
    "        4 / 36,\n",
    "        5 / 36,\n",
    "        6 / 36,\n",
    "        5 / 36,\n",
    "        4 / 36,\n",
    "        3 / 36,\n",
    "        2 / 36,\n",
    "        1 / 36,\n",
    "    ]\n",
    "    my_dict = {}\n",
    "    for _ in range(no_simulation):\n",
    "        dice1 = random.randint(1, 6)\n",
    "        dice2 = random.randint(1, 6)\n",
    "\n",
    "        total = dice1 + dice2         \n",
    "        if total not in my_dict:\n",
    "            my_dict[total] = 0\n",
    "            \n",
    "        my_dict[total] += 1\n",
    "        \n",
    "    for key in sorted(my_dict):\n",
    "        print(key, my_dict[key])\n",
    "simulate_two_dice(10000) \n",
    "\n"
   ]
  },
  {
   "cell_type": "code",
   "execution_count": 213,
   "id": "71fbf5ea",
   "metadata": {},
   "outputs": [
    {
     "name": "stdout",
     "output_type": "stream",
     "text": [
      "2 2.78 2.88\n",
      "3 5.56 5.71\n",
      "4 8.33 8.35\n",
      "5 11.110000000000001 10.93\n",
      "6 13.889999999999999 13.900000000000002\n",
      "7 16.669999999999998 16.6\n",
      "8 13.889999999999999 13.79\n",
      "9 11.110000000000001 11.19\n",
      "10 8.33 8.33\n",
      "11 5.56 5.48\n",
      "12 2.78 2.85\n"
     ]
    }
   ],
   "source": [
    "def simulate_two_dice(no_simulation):\n",
    "    import random\n",
    "    from collections import defaultdict\n",
    "    theoretical_probabilities = [\n",
    "        0,\n",
    "        0,\n",
    "        1 / 36,\n",
    "        2 / 36,\n",
    "        3 / 36,\n",
    "        4 / 36,\n",
    "        5 / 36,\n",
    "        6 / 36,\n",
    "        5 / 36,\n",
    "        4 / 36,\n",
    "        3 / 36,\n",
    "        2 / 36,\n",
    "        1 / 36,\n",
    "    ]\n",
    "    my_dict = defaultdict(int)\n",
    "    for _ in range(no_simulation):\n",
    "        dice1 = random.randint(1, 6)\n",
    "        dice2 = random.randint(1, 6)\n",
    "\n",
    "        total = dice1 + dice2         \n",
    "#         if total not in my_dict:\n",
    "#             my_dict[total] = 0\n",
    "            \n",
    "        my_dict[total] += 1\n",
    "        \n",
    "    \n",
    "        \n",
    "    for value in range(2, 13):\n",
    "        print(value, round(theoretical_probabilities[value], 4)*100, round(my_dict[value]/no_simulation, 4)*100)\n",
    "simulate_two_dice(100000) \n"
   ]
  },
  {
   "cell_type": "code",
   "execution_count": 200,
   "id": "48ebc9a6",
   "metadata": {},
   "outputs": [
    {
     "data": {
      "text/plain": [
       "defaultdict(int, {5: 10})"
      ]
     },
     "execution_count": 200,
     "metadata": {},
     "output_type": "execute_result"
    }
   ],
   "source": [
    "from collections import defaultdict\n",
    "\n",
    "my_dict = defaultdict(int)\n",
    "\n",
    "my_dict[5] += 10\n",
    "my_dict"
   ]
  },
  {
   "cell_type": "code",
   "execution_count": 199,
   "id": "386092f9",
   "metadata": {},
   "outputs": [
    {
     "ename": "KeyError",
     "evalue": "5",
     "output_type": "error",
     "traceback": [
      "\u001b[1;31m---------------------------------------------------------------------------\u001b[0m",
      "\u001b[1;31mKeyError\u001b[0m                                  Traceback (most recent call last)",
      "\u001b[1;32m~\\AppData\\Local\\Temp/ipykernel_18328/3131621575.py\u001b[0m in \u001b[0;36m<module>\u001b[1;34m\u001b[0m\n\u001b[0;32m      1\u001b[0m \u001b[0mmy_dict2\u001b[0m \u001b[1;33m=\u001b[0m \u001b[1;33m{\u001b[0m\u001b[1;33m}\u001b[0m\u001b[1;33m\u001b[0m\u001b[1;33m\u001b[0m\u001b[0m\n\u001b[1;32m----> 2\u001b[1;33m \u001b[0mmy_dict2\u001b[0m\u001b[1;33m[\u001b[0m\u001b[1;36m5\u001b[0m\u001b[1;33m]\u001b[0m \u001b[1;33m+=\u001b[0m \u001b[1;36m10\u001b[0m\u001b[1;33m\u001b[0m\u001b[1;33m\u001b[0m\u001b[0m\n\u001b[0m",
      "\u001b[1;31mKeyError\u001b[0m: 5"
     ]
    }
   ],
   "source": [
    "my_dict2 = {}\n",
    "my_dict2[5] += 10"
   ]
  },
  {
   "cell_type": "code",
   "execution_count": 201,
   "id": "74ced5ca",
   "metadata": {},
   "outputs": [],
   "source": [
    "\n",
    "my_dict = defaultdict(list)\n",
    "\n",
    "my_dict['blah'].append('something')"
   ]
  },
  {
   "cell_type": "code",
   "execution_count": 202,
   "id": "7ce2fb34",
   "metadata": {},
   "outputs": [
    {
     "data": {
      "text/plain": [
       "defaultdict(list, {'blah': ['something']})"
      ]
     },
     "execution_count": 202,
     "metadata": {},
     "output_type": "execute_result"
    }
   ],
   "source": [
    "my_dict"
   ]
  },
  {
   "cell_type": "code",
   "execution_count": 203,
   "id": "96746b87",
   "metadata": {},
   "outputs": [
    {
     "ename": "KeyError",
     "evalue": "'blah'",
     "output_type": "error",
     "traceback": [
      "\u001b[1;31m---------------------------------------------------------------------------\u001b[0m",
      "\u001b[1;31mKeyError\u001b[0m                                  Traceback (most recent call last)",
      "\u001b[1;32m~\\AppData\\Local\\Temp/ipykernel_18328/4237099965.py\u001b[0m in \u001b[0;36m<module>\u001b[1;34m\u001b[0m\n\u001b[0;32m      1\u001b[0m \u001b[0mmy_dict\u001b[0m \u001b[1;33m=\u001b[0m \u001b[1;33m{\u001b[0m\u001b[1;33m}\u001b[0m\u001b[1;33m\u001b[0m\u001b[1;33m\u001b[0m\u001b[0m\n\u001b[0;32m      2\u001b[0m \u001b[1;33m\u001b[0m\u001b[0m\n\u001b[1;32m----> 3\u001b[1;33m \u001b[0mmy_dict\u001b[0m\u001b[1;33m[\u001b[0m\u001b[1;34m'blah'\u001b[0m\u001b[1;33m]\u001b[0m\u001b[1;33m.\u001b[0m\u001b[0mappend\u001b[0m\u001b[1;33m(\u001b[0m\u001b[1;34m'something'\u001b[0m\u001b[1;33m)\u001b[0m\u001b[1;33m\u001b[0m\u001b[1;33m\u001b[0m\u001b[0m\n\u001b[0m",
      "\u001b[1;31mKeyError\u001b[0m: 'blah'"
     ]
    }
   ],
   "source": [
    "my_dict = {}\n",
    "\n",
    "my_dict['blah'].append('something')"
   ]
  },
  {
   "cell_type": "code",
   "execution_count": 216,
   "id": "cd3aac2c",
   "metadata": {},
   "outputs": [],
   "source": [
    "my_dict = defaultdict(list)\n",
    "\n",
    "my_dict['blah'] = 'test'"
   ]
  },
  {
   "cell_type": "code",
   "execution_count": 217,
   "id": "e64e0d48",
   "metadata": {},
   "outputs": [
    {
     "data": {
      "text/plain": [
       "defaultdict(list, {'blah': 'test'})"
      ]
     },
     "execution_count": 217,
     "metadata": {},
     "output_type": "execute_result"
    }
   ],
   "source": [
    "my_dict"
   ]
  },
  {
   "cell_type": "code",
   "execution_count": 218,
   "id": "16a7a461",
   "metadata": {},
   "outputs": [],
   "source": [
    "my_dict['clah'].append('blah')"
   ]
  },
  {
   "cell_type": "code",
   "execution_count": 219,
   "id": "e13f21a7",
   "metadata": {},
   "outputs": [
    {
     "data": {
      "text/plain": [
       "defaultdict(list, {'blah': 'test', 'clah': ['blah']})"
      ]
     },
     "execution_count": 219,
     "metadata": {},
     "output_type": "execute_result"
    }
   ],
   "source": [
    "my_dict"
   ]
  },
  {
   "cell_type": "code",
   "execution_count": 220,
   "id": "f6a81880",
   "metadata": {},
   "outputs": [],
   "source": [
    "my_dict = {}\n",
    "my_dict['A'] = 1"
   ]
  },
  {
   "cell_type": "code",
   "execution_count": 221,
   "id": "a1c4f5b1",
   "metadata": {},
   "outputs": [
    {
     "data": {
      "text/plain": [
       "{'A': 1}"
      ]
     },
     "execution_count": 221,
     "metadata": {},
     "output_type": "execute_result"
    }
   ],
   "source": [
    "my_dict"
   ]
  },
  {
   "cell_type": "code",
   "execution_count": 222,
   "id": "6de614f6",
   "metadata": {},
   "outputs": [
    {
     "ename": "KeyError",
     "evalue": "'B'",
     "output_type": "error",
     "traceback": [
      "\u001b[1;31m---------------------------------------------------------------------------\u001b[0m",
      "\u001b[1;31mKeyError\u001b[0m                                  Traceback (most recent call last)",
      "\u001b[1;32m~\\AppData\\Local\\Temp/ipykernel_18328/25734220.py\u001b[0m in \u001b[0;36m<module>\u001b[1;34m\u001b[0m\n\u001b[1;32m----> 1\u001b[1;33m \u001b[0mmy_dict\u001b[0m\u001b[1;33m[\u001b[0m\u001b[1;34m'B'\u001b[0m\u001b[1;33m]\u001b[0m \u001b[1;33m+=\u001b[0m \u001b[1;36m1\u001b[0m\u001b[1;33m\u001b[0m\u001b[1;33m\u001b[0m\u001b[0m\n\u001b[0m",
      "\u001b[1;31mKeyError\u001b[0m: 'B'"
     ]
    }
   ],
   "source": [
    "my_dict['B'] += 1"
   ]
  },
  {
   "cell_type": "code",
   "execution_count": 223,
   "id": "5d19831a",
   "metadata": {},
   "outputs": [
    {
     "data": {
      "text/plain": [
       "True"
      ]
     },
     "execution_count": 223,
     "metadata": {},
     "output_type": "execute_result"
    }
   ],
   "source": [
    "char = 'B'\n",
    "\n",
    "'A' <= char <= 'Z'"
   ]
  },
  {
   "cell_type": "code",
   "execution_count": 224,
   "id": "448e336b",
   "metadata": {},
   "outputs": [
    {
     "data": {
      "text/plain": [
       "True"
      ]
     },
     "execution_count": 224,
     "metadata": {},
     "output_type": "execute_result"
    }
   ],
   "source": [
    "number = '1'\n",
    "\n",
    "'0' <= number <= '9'"
   ]
  },
  {
   "cell_type": "code",
   "execution_count": null,
   "id": "1137fd84",
   "metadata": {},
   "outputs": [],
   "source": []
  }
 ],
 "metadata": {
  "kernelspec": {
   "display_name": "Python 3 (ipykernel)",
   "language": "python",
   "name": "python3"
  },
  "language_info": {
   "codemirror_mode": {
    "name": "ipython",
    "version": 3
   },
   "file_extension": ".py",
   "mimetype": "text/x-python",
   "name": "python",
   "nbconvert_exporter": "python",
   "pygments_lexer": "ipython3",
   "version": "3.8.12"
  }
 },
 "nbformat": 4,
 "nbformat_minor": 5
}
