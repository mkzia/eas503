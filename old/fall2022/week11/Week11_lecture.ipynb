{
 "cells": [
  {
   "cell_type": "code",
   "execution_count": 1,
   "id": "0d739821",
   "metadata": {},
   "outputs": [],
   "source": [
    "import sqlite3\n",
    "conn = sqlite3.connect(\"depts_students.db\")"
   ]
  },
  {
   "cell_type": "code",
   "execution_count": 2,
   "id": "f5867185",
   "metadata": {},
   "outputs": [
    {
     "name": "stdout",
     "output_type": "stream",
     "text": [
      "('IT',)\n",
      "('Physics',)\n",
      "('Arts',)\n",
      "('Math',)\n"
     ]
    }
   ],
   "source": [
    "cursor = conn.cursor()\n",
    "\n",
    "cursor.execute('SELECT DepartmentName From Departments')\n",
    "\n",
    "for ele in cursor.fetchall():\n",
    "    print(ele)"
   ]
  },
  {
   "cell_type": "code",
   "execution_count": 3,
   "id": "fb66ae3b",
   "metadata": {},
   "outputs": [],
   "source": [
    "for ele in cursor.fetchall():\n",
    "    print(ele)"
   ]
  },
  {
   "cell_type": "code",
   "execution_count": 4,
   "id": "30a6ecb1",
   "metadata": {},
   "outputs": [
    {
     "name": "stdout",
     "output_type": "stream",
     "text": [
      "('IT',)\n"
     ]
    }
   ],
   "source": [
    "cursor.execute('SELECT DepartmentName From Departments')\n",
    "\n",
    "result = cursor.fetchone()\n",
    "print(result)"
   ]
  },
  {
   "cell_type": "code",
   "execution_count": 5,
   "id": "2de71800",
   "metadata": {},
   "outputs": [
    {
     "name": "stdout",
     "output_type": "stream",
     "text": [
      "('Physics',)\n",
      "('Arts',)\n",
      "('Math',)\n"
     ]
    }
   ],
   "source": [
    "for ele in cursor.fetchall():\n",
    "    print(ele)"
   ]
  },
  {
   "cell_type": "code",
   "execution_count": 9,
   "id": "c72db9a1",
   "metadata": {},
   "outputs": [
    {
     "name": "stdout",
     "output_type": "stream",
     "text": [
      "{'IT': 1, 'Physics': 2, 'Arts': 3, 'Math': 4}\n"
     ]
    }
   ],
   "source": [
    "cursor.execute('SELECT * FROM Departments')\n",
    "dept_fk_lookup = {}\n",
    "for row in cursor.fetchall():\n",
    "    key, text = row\n",
    "    dept_fk_lookup[text] = key\n",
    "print(dept_fk_lookup)"
   ]
  },
  {
   "cell_type": "code",
   "execution_count": 10,
   "id": "c0150be7",
   "metadata": {},
   "outputs": [
    {
     "data": {
      "text/plain": [
       "2"
      ]
     },
     "execution_count": 10,
     "metadata": {},
     "output_type": "execute_result"
    }
   ],
   "source": [
    "dept_fk_lookup['Physics']"
   ]
  },
  {
   "cell_type": "code",
   "execution_count": 12,
   "id": "52c455f6",
   "metadata": {},
   "outputs": [],
   "source": [
    "import pandas as pd\n",
    "import sqlite3\n",
    "from sqlite3 import Error\n",
    "\n",
    "def create_connection(db_file, delete_db=False):\n",
    "    import os\n",
    "    if delete_db and os.path.exists(db_file):\n",
    "        os.remove(db_file)\n",
    "\n",
    "    conn = None\n",
    "    try:\n",
    "        conn = sqlite3.connect(db_file)\n",
    "        conn.execute(\"PRAGMA foreign_keys = 1\")\n",
    "    except Error as e:\n",
    "        print(e)\n",
    "\n",
    "    return conn\n",
    "\n",
    "\n",
    "def create_table(conn, create_table_sql):\n",
    "    try:\n",
    "        c = conn.cursor()\n",
    "        c.execute(create_table_sql)\n",
    "    except Error as e:\n",
    "        print(e)\n",
    "        \n",
    "def execute_sql_statement(sql_statement, conn):\n",
    "    cur = conn.cursor()\n",
    "    cur.execute(sql_statement)\n",
    "\n",
    "    rows = cur.fetchall()\n",
    "\n",
    "    return rows"
   ]
  },
  {
   "cell_type": "code",
   "execution_count": 13,
   "id": "76f6c199",
   "metadata": {},
   "outputs": [
    {
     "name": "stdout",
     "output_type": "stream",
     "text": [
      "[(2010,), (2011,), (2012,), (2013,), (2014,), (2015,), (2016,), (2017,), (2018,)]\n"
     ]
    }
   ],
   "source": [
    "conn = create_connection('india_export.db')\n",
    "\n",
    "# Get list of unique years\n",
    "\n"
   ]
  },
  {
   "cell_type": "code",
   "execution_count": 14,
   "id": "3469e54d",
   "metadata": {},
   "outputs": [
    {
     "name": "stdout",
     "output_type": "stream",
     "text": [
      "[(2010,), (2011,), (2012,), (2013,), (2014,), (2015,), (2016,), (2017,), (2018,)]\n",
      "[2010, 2011, 2012, 2013, 2014, 2015, 2016, 2017, 2018]\n"
     ]
    }
   ],
   "source": [
    "sql_statement = \"SELECT DISTINCT year from export ORDER BY year\"\n",
    "\n",
    "years = execute_sql_statement(sql_statement, conn)\n",
    "years = list(map(lambda row: int(row[0]), years))\n",
    "print(years)"
   ]
  },
  {
   "cell_type": "code",
   "execution_count": 33,
   "id": "d88dce75",
   "metadata": {},
   "outputs": [
    {
     "data": {
      "text/html": [
       "<div>\n",
       "<style scoped>\n",
       "    .dataframe tbody tr th:only-of-type {\n",
       "        vertical-align: middle;\n",
       "    }\n",
       "\n",
       "    .dataframe tbody tr th {\n",
       "        vertical-align: top;\n",
       "    }\n",
       "\n",
       "    .dataframe thead th {\n",
       "        text-align: right;\n",
       "    }\n",
       "</style>\n",
       "<table border=\"1\" class=\"dataframe\">\n",
       "  <thead>\n",
       "    <tr style=\"text-align: right;\">\n",
       "      <th></th>\n",
       "      <th>YEAR</th>\n",
       "    </tr>\n",
       "  </thead>\n",
       "  <tbody>\n",
       "  </tbody>\n",
       "</table>\n",
       "</div>"
      ],
      "text/plain": [
       "Empty DataFrame\n",
       "Columns: [YEAR]\n",
       "Index: []"
      ]
     },
     "metadata": {},
     "output_type": "display_data"
    }
   ],
   "source": [
    "create_table_sql = \"\"\"CREATE TABLE [Year] (\n",
    "    [YEAR] INTEGER NOT NULL PRIMARY KEY\n",
    ");\n",
    "\"\"\"\n",
    "# conn_norm.close()\n",
    "\n",
    "conn_norm = create_connection('india_export_norm.db', True)\n",
    "create_table(conn_norm, create_table_sql)\n",
    "sql_statement = \"SELECT * FROM Year\"\n",
    "df = pd.read_sql_query(sql_statement, conn_norm)\n",
    "display(df)\n",
    "conn_norm.close()"
   ]
  },
  {
   "cell_type": "code",
   "execution_count": 34,
   "id": "493535a5",
   "metadata": {},
   "outputs": [],
   "source": [
    "def insert_year(conn, values):\n",
    "    sql = ''' INSERT INTO YEAR(YEAR)\n",
    "              VALUES(?) '''\n",
    "    cur = conn.cursor()\n",
    "    cur.execute(sql, values)\n",
    "    return cur.lastrowid"
   ]
  },
  {
   "cell_type": "code",
   "execution_count": 35,
   "id": "302eeefc",
   "metadata": {},
   "outputs": [],
   "source": [
    "conn_norm = create_connection('india_export_norm.db')\n",
    "\n",
    "with conn_norm:\n",
    "    for year in years:\n",
    "        insert_year(conn_norm, (year, ))\n"
   ]
  },
  {
   "cell_type": "code",
   "execution_count": 36,
   "id": "bc3089db",
   "metadata": {},
   "outputs": [
    {
     "data": {
      "text/html": [
       "<div>\n",
       "<style scoped>\n",
       "    .dataframe tbody tr th:only-of-type {\n",
       "        vertical-align: middle;\n",
       "    }\n",
       "\n",
       "    .dataframe tbody tr th {\n",
       "        vertical-align: top;\n",
       "    }\n",
       "\n",
       "    .dataframe thead th {\n",
       "        text-align: right;\n",
       "    }\n",
       "</style>\n",
       "<table border=\"1\" class=\"dataframe\">\n",
       "  <thead>\n",
       "    <tr style=\"text-align: right;\">\n",
       "      <th></th>\n",
       "      <th>YEAR</th>\n",
       "    </tr>\n",
       "  </thead>\n",
       "  <tbody>\n",
       "    <tr>\n",
       "      <th>0</th>\n",
       "      <td>2010</td>\n",
       "    </tr>\n",
       "    <tr>\n",
       "      <th>1</th>\n",
       "      <td>2011</td>\n",
       "    </tr>\n",
       "    <tr>\n",
       "      <th>2</th>\n",
       "      <td>2012</td>\n",
       "    </tr>\n",
       "    <tr>\n",
       "      <th>3</th>\n",
       "      <td>2013</td>\n",
       "    </tr>\n",
       "    <tr>\n",
       "      <th>4</th>\n",
       "      <td>2014</td>\n",
       "    </tr>\n",
       "    <tr>\n",
       "      <th>5</th>\n",
       "      <td>2015</td>\n",
       "    </tr>\n",
       "    <tr>\n",
       "      <th>6</th>\n",
       "      <td>2016</td>\n",
       "    </tr>\n",
       "    <tr>\n",
       "      <th>7</th>\n",
       "      <td>2017</td>\n",
       "    </tr>\n",
       "    <tr>\n",
       "      <th>8</th>\n",
       "      <td>2018</td>\n",
       "    </tr>\n",
       "  </tbody>\n",
       "</table>\n",
       "</div>"
      ],
      "text/plain": [
       "   YEAR\n",
       "0  2010\n",
       "1  2011\n",
       "2  2012\n",
       "3  2013\n",
       "4  2014\n",
       "5  2015\n",
       "6  2016\n",
       "7  2017\n",
       "8  2018"
      ]
     },
     "metadata": {},
     "output_type": "display_data"
    }
   ],
   "source": [
    "sql_statement = \"SELECT * FROM Year\"\n",
    "df = pd.read_sql_query(sql_statement, conn_norm)\n",
    "display(df)\n",
    "conn_norm.close()"
   ]
  },
  {
   "cell_type": "code",
   "execution_count": 37,
   "id": "75503cf2",
   "metadata": {},
   "outputs": [
    {
     "data": {
      "text/html": [
       "<div>\n",
       "<style scoped>\n",
       "    .dataframe tbody tr th:only-of-type {\n",
       "        vertical-align: middle;\n",
       "    }\n",
       "\n",
       "    .dataframe tbody tr th {\n",
       "        vertical-align: top;\n",
       "    }\n",
       "\n",
       "    .dataframe thead th {\n",
       "        text-align: right;\n",
       "    }\n",
       "</style>\n",
       "<table border=\"1\" class=\"dataframe\">\n",
       "  <thead>\n",
       "    <tr style=\"text-align: right;\">\n",
       "      <th></th>\n",
       "      <th>YEAR</th>\n",
       "    </tr>\n",
       "  </thead>\n",
       "  <tbody>\n",
       "    <tr>\n",
       "      <th>0</th>\n",
       "      <td>2010</td>\n",
       "    </tr>\n",
       "    <tr>\n",
       "      <th>1</th>\n",
       "      <td>2011</td>\n",
       "    </tr>\n",
       "    <tr>\n",
       "      <th>2</th>\n",
       "      <td>2012</td>\n",
       "    </tr>\n",
       "    <tr>\n",
       "      <th>3</th>\n",
       "      <td>2013</td>\n",
       "    </tr>\n",
       "    <tr>\n",
       "      <th>4</th>\n",
       "      <td>2014</td>\n",
       "    </tr>\n",
       "    <tr>\n",
       "      <th>5</th>\n",
       "      <td>2015</td>\n",
       "    </tr>\n",
       "    <tr>\n",
       "      <th>6</th>\n",
       "      <td>2016</td>\n",
       "    </tr>\n",
       "    <tr>\n",
       "      <th>7</th>\n",
       "      <td>2017</td>\n",
       "    </tr>\n",
       "    <tr>\n",
       "      <th>8</th>\n",
       "      <td>2018</td>\n",
       "    </tr>\n",
       "  </tbody>\n",
       "</table>\n",
       "</div>"
      ],
      "text/plain": [
       "   YEAR\n",
       "0  2010\n",
       "1  2011\n",
       "2  2012\n",
       "3  2013\n",
       "4  2014\n",
       "5  2015\n",
       "6  2016\n",
       "7  2017\n",
       "8  2018"
      ]
     },
     "metadata": {},
     "output_type": "display_data"
    }
   ],
   "source": [
    "conn_norm = create_connection('india_export_norm.db')\n",
    "sql_statement = \"SELECT * FROM Year\"\n",
    "df = pd.read_sql_query(sql_statement, conn_norm)\n",
    "display(df)\n",
    "conn_norm.close()"
   ]
  },
  {
   "cell_type": "code",
   "execution_count": 38,
   "id": "8cc19e1c",
   "metadata": {},
   "outputs": [
    {
     "name": "stdout",
     "output_type": "stream",
     "text": [
      "['AFGHANISTAN TIS', 'ALBANIA', 'ALGERIA', 'AMERI SAMOA', 'ANDORRA', 'ANGOLA', 'ANGUILLA', 'ANTARTICA', 'ANTIGUA', 'ARGENTINA', 'ARMENIA', 'ARUBA', 'AUSTRALIA', 'AUSTRIA', 'AZERBAIJAN', 'BAHAMAS', 'BAHARAIN IS', 'BANGLADESH PR', 'BARBADOS', 'BELARUS', 'BELGIUM', 'BELIZE', 'BENIN', 'BERMUDA', 'BHUTAN', 'BOLIVIA', 'BOSNIA-HRZGOVIN', 'BOTSWANA', 'BR VIRGN IS', 'BRAZIL', 'BRUNEI', 'BULGARIA', 'BURKINA FASO', 'BURUNDI', 'C AFRI REP', 'CAMBODIA', 'CAMEROON', 'CANADA', 'CANARY IS', 'CAPE VERDE IS', 'CAYMAN IS', 'CHAD', 'CHANNEL IS', 'CHILE', 'CHINA P RP', 'CHRISTMAS IS.', 'COCOS IS', 'COLOMBIA', 'COMOROS', 'CONGO D. REP.', 'CONGO P REP', 'COOK IS', 'COSTA RICA', \"COTE D' IVOIRE\", 'CROATIA', 'CUBA', 'CURACAO', 'CYPRUS', 'CZECH REPUBLIC', 'DENMARK', 'DJIBOUTI', 'DOMINIC REP', 'DOMINICA', 'ECUADOR', 'EGYPT A RP', 'EL SALVADOR', 'EQUTL GUINEA', 'ERITREA', 'ESTONIA', 'ETHIOPIA', 'FALKLAND IS', 'FAROE IS.', 'FIJI IS', 'FINLAND', 'FR GUIANA', 'FR POLYNESIA', 'FR S ANT TR', 'FRANCE', 'GABON', 'GAMBIA', 'GEORGIA', 'GERMANY', 'GHANA', 'GIBRALTAR', 'GREECE', 'GREENLAND', 'GRENADA', 'GUADELOUPE', 'GUAM', 'GUATEMALA', 'GUERNSEY', 'GUINEA', 'GUINEA BISSAU', 'GUYANA', 'HAITI', 'HEARD MACDONALD', 'HONDURAS', 'HONG KONG', 'HUNGARY', 'ICELAND', 'INDONESIA', 'INSTALLATIONS IN INTERNATIONAL WATERS   ', 'IRAN', 'IRAQ', 'IRELAND', 'ISRAEL', 'ITALY', 'JAMAICA', 'JAPAN', 'JERSEY         ', 'JORDAN', 'KAZAKHSTAN', 'KENYA', 'KIRIBATI REP', 'KOREA DP RP', 'KOREA RP', 'KUWAIT', 'KYRGHYZSTAN', 'LAO PD RP', 'LATVIA', 'LEBANON', 'LESOTHO', 'LIBERIA', 'LIBYA', 'LIECHTENSTEIN', 'LITHUANIA', 'LUXEMBOURG', 'MACAO', 'MACEDONIA', 'MADAGASCAR', 'MALAWI', 'MALAYSIA', 'MALDIVES', 'MALI', 'MALTA', 'MARSHALL ISLAND', 'MARTINIQUE', 'MAURITANIA', 'MAURITIUS', 'MAYOTTE', 'MEXICO', 'MICRONESIA', 'MOLDOVA', 'MONACO', 'MONGOLIA', 'MONTENEGRO', 'MONTSERRAT', 'MOROCCO', 'MOZAMBIQUE', 'MYANMAR', 'N. MARIANA IS.', 'NAMIBIA', 'NAURU RP', 'NEPAL', 'NETHERLAND', 'NETHERLANDANTIL', 'NEUTRAL ZONE', 'NEW CALEDONIA', 'NEW ZEALAND', 'NICARAGUA', 'NIGER', 'NIGERIA', 'NIUE IS', 'NORFOLK IS', 'NORWAY', 'OMAN', 'PACIFIC IS', 'PAKISTAN IR', 'PALAU', 'PANAMA C Z', 'PANAMA REPUBLIC', 'PAPUA N GNA', 'PARAGUAY', 'PERU', 'PHILIPPINES', 'PITCAIRN IS.', 'POLAND', 'PORTUGAL', 'PUERTO RICO', 'QATAR', 'REUNION', 'ROMANIA', 'RUSSIA', 'RWANDA', 'SAHARWI A.DM RP', 'SAMOA', 'SAN MARINO', 'SAO TOME', 'SAUDI ARAB', 'SENEGAL', 'SERBIA', 'SEYCHELLES', 'SIERRA LEONE', 'SINGAPORE', 'SINT MAARTEN (DUTCH PART)', 'SLOVAK REP', 'SLOVENIA', 'SOLOMON IS', 'SOMALIA', 'SOUTH AFRICA', 'SOUTH SUDAN ', 'SPAIN', 'SRI LANKA DSR', 'ST HELENA', 'ST KITT N A', 'ST LUCIA', 'ST PIERRE', 'ST VINCENT', 'STATE OF PALEST', 'SUDAN', 'SURINAME', 'SWAZILAND', 'SWEDEN', 'SWITZERLAND', 'SYRIA', 'TAIWAN', 'TAJIKISTAN', 'TANZANIA REP', 'THAILAND', 'TIMOR LESTE', 'TOGO', 'TOKELAU IS', 'TONGA', 'TRINIDAD', 'TUNISIA', 'TURKEY', 'TURKMENISTAN', 'TURKS C IS', 'TUVALU', 'U ARAB EMTS', 'U K', 'U S A', 'UGANDA', 'UKRAINE', 'UNION OF SERBIA & MONTENEGRO', 'UNSPECIFIED', 'URUGUAY', 'US MINOR OUTLYING ISLANDS               ', 'UZBEKISTAN', 'VANUATU REP', 'VATICAN CITY', 'VENEZUELA', 'VIETNAM SOC REP', 'VIRGIN IS US', 'WALLIS F IS', 'YEMEN REPUBLC', 'ZAMBIA', 'ZIMBABWE']\n"
     ]
    }
   ],
   "source": [
    "# Get list of unique countries\n",
    "\n",
    "sql_statement = \"SELECT DISTINCT country from export ORDER BY country\"\n",
    "\n",
    "countries = execute_sql_statement(sql_statement, conn)\n",
    "countries = list(map(lambda row: row[0], countries))\n",
    "print(countries)"
   ]
  },
  {
   "cell_type": "code",
   "execution_count": 39,
   "id": "60517dfc",
   "metadata": {},
   "outputs": [
    {
     "data": {
      "text/html": [
       "<div>\n",
       "<style scoped>\n",
       "    .dataframe tbody tr th:only-of-type {\n",
       "        vertical-align: middle;\n",
       "    }\n",
       "\n",
       "    .dataframe tbody tr th {\n",
       "        vertical-align: top;\n",
       "    }\n",
       "\n",
       "    .dataframe thead th {\n",
       "        text-align: right;\n",
       "    }\n",
       "</style>\n",
       "<table border=\"1\" class=\"dataframe\">\n",
       "  <thead>\n",
       "    <tr style=\"text-align: right;\">\n",
       "      <th></th>\n",
       "      <th>Country</th>\n",
       "    </tr>\n",
       "  </thead>\n",
       "  <tbody>\n",
       "    <tr>\n",
       "      <th>0</th>\n",
       "      <td>AFGHANISTAN TIS</td>\n",
       "    </tr>\n",
       "    <tr>\n",
       "      <th>1</th>\n",
       "      <td>ALBANIA</td>\n",
       "    </tr>\n",
       "    <tr>\n",
       "      <th>2</th>\n",
       "      <td>ALGERIA</td>\n",
       "    </tr>\n",
       "    <tr>\n",
       "      <th>3</th>\n",
       "      <td>AMERI SAMOA</td>\n",
       "    </tr>\n",
       "    <tr>\n",
       "      <th>4</th>\n",
       "      <td>ANDORRA</td>\n",
       "    </tr>\n",
       "    <tr>\n",
       "      <th>...</th>\n",
       "      <td>...</td>\n",
       "    </tr>\n",
       "    <tr>\n",
       "      <th>243</th>\n",
       "      <td>VIRGIN IS US</td>\n",
       "    </tr>\n",
       "    <tr>\n",
       "      <th>244</th>\n",
       "      <td>WALLIS F IS</td>\n",
       "    </tr>\n",
       "    <tr>\n",
       "      <th>245</th>\n",
       "      <td>YEMEN REPUBLC</td>\n",
       "    </tr>\n",
       "    <tr>\n",
       "      <th>246</th>\n",
       "      <td>ZAMBIA</td>\n",
       "    </tr>\n",
       "    <tr>\n",
       "      <th>247</th>\n",
       "      <td>ZIMBABWE</td>\n",
       "    </tr>\n",
       "  </tbody>\n",
       "</table>\n",
       "<p>248 rows × 1 columns</p>\n",
       "</div>"
      ],
      "text/plain": [
       "             Country\n",
       "0    AFGHANISTAN TIS\n",
       "1            ALBANIA\n",
       "2            ALGERIA\n",
       "3        AMERI SAMOA\n",
       "4            ANDORRA\n",
       "..               ...\n",
       "243     VIRGIN IS US\n",
       "244      WALLIS F IS\n",
       "245    YEMEN REPUBLC\n",
       "246           ZAMBIA\n",
       "247         ZIMBABWE\n",
       "\n",
       "[248 rows x 1 columns]"
      ]
     },
     "metadata": {},
     "output_type": "display_data"
    }
   ],
   "source": [
    "def insert_country(conn, values):\n",
    "    sql = ''' INSERT INTO COUNTRY(COUNTRY)\n",
    "              VALUES(?) '''\n",
    "    cur = conn.cursor()\n",
    "    cur.execute(sql, values)\n",
    "    return cur.lastrowid\n",
    "\n",
    "create_table_sql = \"\"\"CREATE TABLE IF NOT EXISTS [Country] (\n",
    "    [Country] TEXT NOT NULL PRIMARY KEY\n",
    ");\n",
    "\"\"\"\n",
    "conn_norm = create_connection('india_export_norm.db')\n",
    "\n",
    "create_table(conn_norm, create_table_sql)\n",
    "\n",
    "with conn_norm:\n",
    "    for country in countries:\n",
    "        insert_country(conn_norm, (country, ))\n",
    "        \n",
    "sql_statement = \"SELECT * FROM country\"\n",
    "df = pd.read_sql_query(sql_statement, conn_norm)\n",
    "display(df)"
   ]
  },
  {
   "cell_type": "code",
   "execution_count": 40,
   "id": "9dd4c238",
   "metadata": {},
   "outputs": [
    {
     "name": "stdout",
     "output_type": "stream",
     "text": [
      "[('AIRCRAFT, SPACECRAFT, AND PARTS THEREOF.',), ('ALBUMINOIDAL SUBSTANCES; MODIFIED STARCHES; GLUES; ENZYMES.',), ('ALUMINIUM AND ARTICLES THEREOF.',), ('ANIMAL OR VEGETABLE FATS AND OILS AND THEIR CLEAVAGE PRODUCTS; PRE. EDIBLE FATS; ANIMAL OR VEGETABLE WAXEX.',), ('ARMS AND AMMUNITION; PARTS AND ACCESSORIES THEREOF.',), ('ARTICLES OF APPAREL AND CLOTHING ACCESSORIES, KNITTED OR CORCHETED.',), ('ARTICLES OF APPAREL AND CLOTHING ACCESSORIES, NOT KNITTED OR CROCHETED.',), ('ARTICLES OF IRON OR STEEL',), ('ARTICLES OF LEATHER,SADDLERY AND HARNESS;TRAVEL GOODS, HANDBAGS AND SIMILAR CONT.ARTICLES OF ANIMAL GUT(OTHR THN SILK-WRM)GUT.',), ('ARTICLES OF STONE, PLASTER, CEMENT, ASBESTOS, MICA OR SIMILAR MATERIALS.',), ('BEVERAGES, SPIRITS AND VINEGAR.',), ('CARPETS AND OTHER TEXTILE FLOOR COVERINGS.',), ('CERAMIC PRODUCTS.',), ('CEREALS.',), ('CLOCKS AND WATCHES AND PARTS THEREOF.',), ('COCOA AND COCOA PREPARATIONS.',), ('COFFEE, TEA, MATE AND SPICES.',), ('COPPER AND ARTICLES THEREOF.',), ('CORK AND ARTICLES OF CORK.',), ('COTTON.',), (\"DAIRY PRODUCE; BIRDS' EGGS; NATURAL HONEY; EDIBLE PROD. OF ANIMAL ORIGIN, NOT ELSEWHERE SPEC. OR INCLUDED.\",), ('EDIBLE FRUIT AND NUTS; PEEL OR CITRUS FRUIT OR MELONS.',), ('EDIBLE VEGETABLES AND CERTAIN ROOTS AND TUBERS.',), ('ELECTRICAL MACHINERY AND EQUIPMENT AND PARTS THEREOF; SOUND RECORDERS AND REPRODUCERS, TELEVISION IMAGE AND SOUND RECORDERS AND REPRODUCERS,AND PARTS.',), ('ESSENTIAL OILS AND RESINOIDS; PERFUMERY, COSMETIC OR TOILET PREPARATIONS.',), ('EXPLOSIVES; PYROTECHNIC PRODUCTS; MATCHES; PYROPHORIC ALLOYS; CERTAIN COMBUSTIBLE PREPARATIONS.',), ('FERTILISERS.',), ('FISH AND CRUSTACEANS, MOLLUSCS AND OTHER AQUATIC INVERTABRATES.',), ('FOOTWEAR, GAITERS AND THE LIKE; PARTS OF SUCH ARTICLES.',), ('FURNITURE; BEDDING, MATTRESSES, MATTRESS SUPPORTS, CUSHIONS AND SIMILAR STUFFED FURNISHING; LAMPS AND LIGHTING FITTINGS NOT ELSEWHERE SPECIFIED OR INC',), ('FURSKINS AND ARTIFICIAL FUR, MANUFACTURES THEREOF.',), ('GLASS AND GLASSWARE.',), ('HEADGEAR AND PARTS THEREOF.',), ('IMPREGNATED, COATED, COVERED OR LAMINATED TEXTILE FABRICS; TEXTILE ARTICLES OF A KIND SUITABLE FOR INDUSTRIAL USE.',), ('INORGANIC CHEMICALS; ORGANIC OR INORGANIC COMPOUNDS OF PRECIOUS METALS, OF RARE-EARTH METALS, OR RADI. ELEM. OR OF ISOTOPES.',), ('IRON AND STEEL',), ('KNITTED OR CROCHETED FABRICS.',), ('LAC; GUMS, RESINS AND OTHER VEGETABLE SAPS AND EXTRACTS.',), ('LEAD AND ARTICLES THEREOF.',), ('LIVE ANIMALS.',), ('LIVE TREES AND OTHER PLANTS; BULBS; ROOTS AND THE LIKE; CUT FLOWERS AND ORNAMENTAL FOLIAGE.',), ('MAN-MADE FILAMENTS.',), ('MAN-MADE STAPLE FIBRES.',), ('MANUFACTURES OF STRAW, OF ESPARTO OR OF OTHER PLAITING MATERIALS; BASKETWARE AND WICKERWORK.',), ('MEAT AND EDIBLE MEAT OFFAL.',), ('MINERAL FUELS, MINERAL OILS AND PRODUCTS OF THEIR DISTILLATION; BITUMINOUS SUBSTANCES; MINERAL WAXES.',), ('MISCELLANEOUS ARTICLES OF BASE METAL.',), ('MISCELLANEOUS CHEMICAL PRODUCTS.',), ('MISCELLANEOUS EDIBLE PREPARATIONS.',), ('MISCELLANEOUS GOODS.',), ('MISCELLANEOUS MANUFACTURED ARTICLES.',), ('MUSICAL INSTRUMENTS; PARTS AND ACCESSORIES OF SUCH ARTICLES.',), ('NATURAL OR CULTURED PEARLS,PRECIOUS OR SEMIPRECIOUS STONES,PRE.METALS,CLAD WITH PRE.METAL AND ARTCLS THEREOF;IMIT.JEWLRY;COIN.',), ('NICKEL AND ARTICLES THEREOF.',), ('NUCLEAR REACTORS, BOILERS, MACHINERY AND MECHANICAL APPLIANCES; PARTS THEREOF.',), ('OIL SEEDS AND OLEA. FRUITS; MISC. GRAINS, SEEDS AND FRUIT; INDUSTRIAL OR MEDICINAL PLANTS; STRAW AND FODDER.',), ('OPTICAL, PHOTOGRAPHIC CINEMATOGRAPHIC MEASURING, CHECKING PRECISION, MEDICAL OR SURGICAL INST. AND APPARATUS PARTS AND ACCESSORIES THEREOF;',), ('ORES, SLAG AND ASH.',), ('ORGANIC CHEMICALS',), ('OTHER BASE METALS; CERMETS; ARTICLES THEREOF.',), ('OTHER MADE UP TEXTILE ARTICLES; SETS; WORN CLOTHING AND WORN TEXTILE ARTICLES; RAGS',), ('OTHER VEGETABLE TEXTILE FIBRES; PAPER YARN AND WOVEN FABRICS OF PAPER YARN.',), ('PAPER AND PAPERBOARD; ARTICLES OF PAPER PULP, OF PAPER OR OF PAPERBOARD.',), ('PHARMACEUTICAL PRODUCTS',), ('PHOTOGRAPHIC OR CINEMATOGRAPHIC GOODS.',), ('PLASTIC AND ARTICLES THEREOF.',), ('PREPARATIONS OF CEREALS, FLOUR, STARCH OR MILK; PASTRYCOOKS PRODUCTS.',), ('PREPARATIONS OF MEAT, OF FISH OR OF CRUSTACEANS, MOLLUSCS OR OTHER AQUATIC INVERTEBRATES',), ('PREPARATIONS OF VEGETABLES, FRUIT, NUTS OR OTHER PARTS OF PLANTS.',), ('PREPARED FEATHERS AND DOWN AND ARTICLES MADE OF FEATHERS OR OF DOWN; ARTIFICIAL FLOWERS; ARTICLES OF HUMAN HAIR.',), ('PRINTED BOOKDS, NEWSPAPERS, PICTURES AND OTHER PRODUCTS OF THE PRINTING INDUSTRY; MANUSCRIPTS, TYPESCRIPTS AND PLANS.',), ('PRODUCTS OF ANIMAL ORIGIN, NOT ELSEWHERE SPECIFIED OR INCLUDED.',), ('PRODUCTS OF THE MILLING INDUSTRY; MALT; STARCHES; INULIN; WHEAT GLUTEN.',), ('PROJECT GOODS; SOME SPECIAL USES.',), ('PULP OF WOOD OR OF OTHER FIBROUS CELLULOSIC MATERIAL; WASTE AND SCRAP OF PAPER OR PAPERBOARD.',), ('RAILWAY OR TRAMWAY LOCOMOTIVES, ROLLING-STOCK AND PARTS THEREOF; RAILWAY OR TRAMWAY TRACK FIXTURES AND FITTINGS AND PARTS THEREOF; MECHANICAL',), ('RAW HIDES AND SKINS (OTHER THAN FURSKINS) AND LEATHER',), ('RESIDUES AND WASTE FROM THE FOOD INDUSTRIES; PREPARED ANIMAL FODER.',), ('RUBBER AND ARTICLES THEREOF.',), ('SALT; SULPHUR; EARTHS AND STONE; PLASTERING MATERIALS, LIME AND CEMENT.',), ('SHIPS, BOATS AND FLOATING STRUCTURES.',), ('SILK',), ('SOAP, ORGANIC SURFACE-ACTIVE AGENTS, WASHING PREPARATIONS, LUBRICATING PREPARATIONS, ARTIFICIAL WAXES, PREPARED WAXES, POLISHING OR SCOURING PREP.',), ('SPECIAL WOVEN FABRICS; TUFTED TEXTILE FABRICS; LACE; TAPESTRIES; TRIMMINGS; EMBROIDERY.',), ('SUGARS AND SUGAR CONFECTIONERY.',), ('TANNING OR DYEING EXTRACTS; TANNINS AND THEIR DERI. DYES, PIGMENTS AND OTHER COLOURING MATTER; PAINTS AND VER; PUTTY AND OTHER MASTICS; INKS.',), ('TIN AND ARTICLES THEREOF.',), ('TOBACCO AND MANUFACTURED TOBACCO SUBSTITUTES.',), ('TOOLS IMPLEMENTS, CUTLERY, SPOONS AND FORKS, OF BASE METAL; PARTS THEREOF OF BASE METAL.',), ('TOYS, GAMES AND SPORTS REQUISITES; PARTS AND ACCESSORIES THEREOF.',), ('UMBRELLAS, SUN UMBRELLAS, WALKING-STICKS, SEAT-STICKS, WHIPS,RIDING-CROPS AND PARTS THEREOF.',), ('VEGETABLE PLAITING MATERIALS; VEGETABLE PRODUCTS NOT ELSEWHERE SPECIFIED OR INCLUDED.',), ('VEHICLES OTHER THAN RAILWAY OR TRAMWAY ROLLING STOCK, AND PARTS AND ACCESSORIES THEREOF.',), ('WADDING, FELT AND NONWOVENS; SPACIAL YARNS; TWINE, CORDAGE, ROPES AND CABLES AND ARTICLES THEREOF.',), ('WOOD AND ARTICLES OF WOOD; WOOD CHARCOAL.',), ('WOOL, FINE OR COARSE ANIMAL HAIR, HORSEHAIR YARN AND WOVEN FABRIC.',), (\"WORKS OF ART COLLECTORS' PIECES AND ANTIQUES.\",), ('ZINC AND ARTICLES THEREOF.',)]\n",
      "98\n"
     ]
    }
   ],
   "source": [
    "sql_statement = \"SELECT DISTINCT COMMODITY FROM export order by COMMODITY\"\n",
    "commodities = execute_sql_statement(sql_statement, conn)\n",
    "print(commodities)\n",
    "print(len(commodities))"
   ]
  },
  {
   "cell_type": "code",
   "execution_count": 41,
   "id": "da982150",
   "metadata": {},
   "outputs": [],
   "source": [
    "def insert_commodity(conn, values):\n",
    "    sql = ''' INSERT INTO COMMODITY (COMMODITY)\n",
    "              VALUES(?) '''\n",
    "    cur = conn.cursor()\n",
    "    cur.execute(sql, values)\n",
    "    return cur.lastrowid\n",
    "\n",
    "create_table_sql = \"\"\"CREATE TABLE IF NOT EXISTS [COMMODITY] (\n",
    "    [HSCODE] INTEGER NOT NULL PRIMARY KEY, \n",
    "    [COMMODITY] TEXT NOT NULL\n",
    ");\n",
    "\"\"\"\n",
    "create_table(conn_norm, create_table_sql)"
   ]
  },
  {
   "cell_type": "code",
   "execution_count": 42,
   "id": "202648c0",
   "metadata": {},
   "outputs": [
    {
     "data": {
      "text/html": [
       "<div>\n",
       "<style scoped>\n",
       "    .dataframe tbody tr th:only-of-type {\n",
       "        vertical-align: middle;\n",
       "    }\n",
       "\n",
       "    .dataframe tbody tr th {\n",
       "        vertical-align: top;\n",
       "    }\n",
       "\n",
       "    .dataframe thead th {\n",
       "        text-align: right;\n",
       "    }\n",
       "</style>\n",
       "<table border=\"1\" class=\"dataframe\">\n",
       "  <thead>\n",
       "    <tr style=\"text-align: right;\">\n",
       "      <th></th>\n",
       "      <th>HSCODE</th>\n",
       "      <th>COMMODITY</th>\n",
       "    </tr>\n",
       "  </thead>\n",
       "  <tbody>\n",
       "    <tr>\n",
       "      <th>0</th>\n",
       "      <td>1</td>\n",
       "      <td>AIRCRAFT, SPACECRAFT, AND PARTS THEREOF.</td>\n",
       "    </tr>\n",
       "    <tr>\n",
       "      <th>1</th>\n",
       "      <td>2</td>\n",
       "      <td>ALBUMINOIDAL SUBSTANCES; MODIFIED STARCHES; GL...</td>\n",
       "    </tr>\n",
       "    <tr>\n",
       "      <th>2</th>\n",
       "      <td>3</td>\n",
       "      <td>ALUMINIUM AND ARTICLES THEREOF.</td>\n",
       "    </tr>\n",
       "    <tr>\n",
       "      <th>3</th>\n",
       "      <td>4</td>\n",
       "      <td>ANIMAL OR VEGETABLE FATS AND OILS AND THEIR CL...</td>\n",
       "    </tr>\n",
       "    <tr>\n",
       "      <th>4</th>\n",
       "      <td>5</td>\n",
       "      <td>ARMS AND AMMUNITION; PARTS AND ACCESSORIES THE...</td>\n",
       "    </tr>\n",
       "    <tr>\n",
       "      <th>...</th>\n",
       "      <td>...</td>\n",
       "      <td>...</td>\n",
       "    </tr>\n",
       "    <tr>\n",
       "      <th>93</th>\n",
       "      <td>94</td>\n",
       "      <td>WADDING, FELT AND NONWOVENS; SPACIAL YARNS; TW...</td>\n",
       "    </tr>\n",
       "    <tr>\n",
       "      <th>94</th>\n",
       "      <td>95</td>\n",
       "      <td>WOOD AND ARTICLES OF WOOD; WOOD CHARCOAL.</td>\n",
       "    </tr>\n",
       "    <tr>\n",
       "      <th>95</th>\n",
       "      <td>96</td>\n",
       "      <td>WOOL, FINE OR COARSE ANIMAL HAIR, HORSEHAIR YA...</td>\n",
       "    </tr>\n",
       "    <tr>\n",
       "      <th>96</th>\n",
       "      <td>97</td>\n",
       "      <td>WORKS OF ART COLLECTORS' PIECES AND ANTIQUES.</td>\n",
       "    </tr>\n",
       "    <tr>\n",
       "      <th>97</th>\n",
       "      <td>98</td>\n",
       "      <td>ZINC AND ARTICLES THEREOF.</td>\n",
       "    </tr>\n",
       "  </tbody>\n",
       "</table>\n",
       "<p>98 rows × 2 columns</p>\n",
       "</div>"
      ],
      "text/plain": [
       "    HSCODE                                          COMMODITY\n",
       "0        1           AIRCRAFT, SPACECRAFT, AND PARTS THEREOF.\n",
       "1        2  ALBUMINOIDAL SUBSTANCES; MODIFIED STARCHES; GL...\n",
       "2        3                    ALUMINIUM AND ARTICLES THEREOF.\n",
       "3        4  ANIMAL OR VEGETABLE FATS AND OILS AND THEIR CL...\n",
       "4        5  ARMS AND AMMUNITION; PARTS AND ACCESSORIES THE...\n",
       "..     ...                                                ...\n",
       "93      94  WADDING, FELT AND NONWOVENS; SPACIAL YARNS; TW...\n",
       "94      95          WOOD AND ARTICLES OF WOOD; WOOD CHARCOAL.\n",
       "95      96  WOOL, FINE OR COARSE ANIMAL HAIR, HORSEHAIR YA...\n",
       "96      97      WORKS OF ART COLLECTORS' PIECES AND ANTIQUES.\n",
       "97      98                         ZINC AND ARTICLES THEREOF.\n",
       "\n",
       "[98 rows x 2 columns]"
      ]
     },
     "metadata": {},
     "output_type": "display_data"
    }
   ],
   "source": [
    "with conn_norm:\n",
    "    for commodity in commodities:\n",
    "        insert_commodity(conn_norm, commodity)\n",
    "        \n",
    "sql_statement = \"SELECT * FROM Commodity\"\n",
    "df = pd.read_sql_query(sql_statement, conn_norm)\n",
    "display(df)"
   ]
  },
  {
   "cell_type": "code",
   "execution_count": 43,
   "id": "648ea437",
   "metadata": {},
   "outputs": [],
   "source": [
    "# Table 4 which is going link all the tables with values\n",
    "\n",
    "def insert_value(conn, values):\n",
    "    sql = ''' INSERT INTO Export (HSCODE, COUNTRY, YEAR, VALUE)\n",
    "              VALUES(?, ?, ?, ?) '''\n",
    "    cur = conn.cursor()\n",
    "    cur.execute(sql, values)\n",
    "    return cur.lastrowid\n",
    "\n",
    "create_table_sql = \"\"\"CREATE TABLE IF NOT EXISTS [Export] (\n",
    "    [VALUEID] INTEGER NOT NULL PRIMARY KEY,\n",
    "    [HSCODE] INTEGER NOT NULL, \n",
    "    [COUNTRY] TEXT NOT NULL,\n",
    "    [YEAR] INTEGER NOT NULL,\n",
    "    [VALUE] REAL,\n",
    "    FOREIGN KEY(COUNTRY) REFERENCES Country(COUNTRY),\n",
    "    FOREIGN KEY(YEAR) REFERENCES YEAR(YEAR),\n",
    "    FOREIGN KEY(HSCODE) REFERENCES Commodity(HSCODE)\n",
    ");\n",
    "\"\"\"\n",
    "create_table(conn_norm, create_table_sql)"
   ]
  },
  {
   "cell_type": "code",
   "execution_count": 44,
   "id": "7d3af296",
   "metadata": {},
   "outputs": [
    {
     "name": "stdout",
     "output_type": "stream",
     "text": [
      "[('MEAT AND EDIBLE MEAT OFFAL.', 'AFGHANISTAN TIS', 2018, 0.18), ('FISH AND CRUSTACEANS, MOLLUSCS AND OTHER AQUATIC INVERTABRATES.', 'AFGHANISTAN TIS', 2018, 0.0), (\"DAIRY PRODUCE; BIRDS' EGGS; NATURAL HONEY; EDIBLE PROD. OF ANIMAL ORIGIN, NOT ELSEWHERE SPEC. OR INCLUDED.\", 'AFGHANISTAN TIS', 2018, 12.48), ('LIVE TREES AND OTHER PLANTS; BULBS; ROOTS AND THE LIKE; CUT FLOWERS AND ORNAMENTAL FOLIAGE.', 'AFGHANISTAN TIS', 2018, 0.0), ('EDIBLE VEGETABLES AND CERTAIN ROOTS AND TUBERS.', 'AFGHANISTAN TIS', 2018, 1.89), ('EDIBLE FRUIT AND NUTS; PEEL OR CITRUS FRUIT OR MELONS.', 'AFGHANISTAN TIS', 2018, 25.01), ('COFFEE, TEA, MATE AND SPICES.', 'AFGHANISTAN TIS', 2018, 13.75), ('CEREALS.', 'AFGHANISTAN TIS', 2018, 0.75), ('PRODUCTS OF THE MILLING INDUSTRY; MALT; STARCHES; INULIN; WHEAT GLUTEN.', 'AFGHANISTAN TIS', 2018, 0.01), ('OIL SEEDS AND OLEA. FRUITS; MISC. GRAINS, SEEDS AND FRUIT; INDUSTRIAL OR MEDICINAL PLANTS; STRAW AND FODDER.', 'AFGHANISTAN TIS', 2018, 10.02)]\n"
     ]
    }
   ],
   "source": [
    "sql_statement = 'SELECT Commodity, country, year, value from export'\n",
    "values = execute_sql_statement(sql_statement, conn)\n",
    "print(values[:10])"
   ]
  },
  {
   "cell_type": "code",
   "execution_count": 45,
   "id": "5088a466",
   "metadata": {},
   "outputs": [
    {
     "name": "stdout",
     "output_type": "stream",
     "text": [
      "[(1, 'AIRCRAFT, SPACECRAFT, AND PARTS THEREOF.'), (2, 'ALBUMINOIDAL SUBSTANCES; MODIFIED STARCHES; GLUES; ENZYMES.'), (3, 'ALUMINIUM AND ARTICLES THEREOF.'), (4, 'ANIMAL OR VEGETABLE FATS AND OILS AND THEIR CLEAVAGE PRODUCTS; PRE. EDIBLE FATS; ANIMAL OR VEGETABLE WAXEX.'), (5, 'ARMS AND AMMUNITION; PARTS AND ACCESSORIES THEREOF.'), (6, 'ARTICLES OF APPAREL AND CLOTHING ACCESSORIES, KNITTED OR CORCHETED.'), (7, 'ARTICLES OF APPAREL AND CLOTHING ACCESSORIES, NOT KNITTED OR CROCHETED.'), (8, 'ARTICLES OF IRON OR STEEL'), (9, 'ARTICLES OF LEATHER,SADDLERY AND HARNESS;TRAVEL GOODS, HANDBAGS AND SIMILAR CONT.ARTICLES OF ANIMAL GUT(OTHR THN SILK-WRM)GUT.'), (10, 'ARTICLES OF STONE, PLASTER, CEMENT, ASBESTOS, MICA OR SIMILAR MATERIALS.')]\n"
     ]
    }
   ],
   "source": [
    "sql_statement = 'SELECT HSCODE, COMMODITY from COMMODITY'\n",
    "values = execute_sql_statement(sql_statement, conn_norm)\n",
    "print(values[:10])"
   ]
  },
  {
   "cell_type": "code",
   "execution_count": 46,
   "id": "9a82da87",
   "metadata": {},
   "outputs": [
    {
     "name": "stdout",
     "output_type": "stream",
     "text": [
      "{'AIRCRAFT, SPACECRAFT, AND PARTS THEREOF.': 1, 'ALBUMINOIDAL SUBSTANCES; MODIFIED STARCHES; GLUES; ENZYMES.': 2, 'ALUMINIUM AND ARTICLES THEREOF.': 3, 'ANIMAL OR VEGETABLE FATS AND OILS AND THEIR CLEAVAGE PRODUCTS; PRE. EDIBLE FATS; ANIMAL OR VEGETABLE WAXEX.': 4, 'ARMS AND AMMUNITION; PARTS AND ACCESSORIES THEREOF.': 5, 'ARTICLES OF APPAREL AND CLOTHING ACCESSORIES, KNITTED OR CORCHETED.': 6, 'ARTICLES OF APPAREL AND CLOTHING ACCESSORIES, NOT KNITTED OR CROCHETED.': 7, 'ARTICLES OF IRON OR STEEL': 8, 'ARTICLES OF LEATHER,SADDLERY AND HARNESS;TRAVEL GOODS, HANDBAGS AND SIMILAR CONT.ARTICLES OF ANIMAL GUT(OTHR THN SILK-WRM)GUT.': 9, 'ARTICLES OF STONE, PLASTER, CEMENT, ASBESTOS, MICA OR SIMILAR MATERIALS.': 10, 'BEVERAGES, SPIRITS AND VINEGAR.': 11, 'CARPETS AND OTHER TEXTILE FLOOR COVERINGS.': 12, 'CERAMIC PRODUCTS.': 13, 'CEREALS.': 14, 'CLOCKS AND WATCHES AND PARTS THEREOF.': 15, 'COCOA AND COCOA PREPARATIONS.': 16, 'COFFEE, TEA, MATE AND SPICES.': 17, 'COPPER AND ARTICLES THEREOF.': 18, 'CORK AND ARTICLES OF CORK.': 19, 'COTTON.': 20, \"DAIRY PRODUCE; BIRDS' EGGS; NATURAL HONEY; EDIBLE PROD. OF ANIMAL ORIGIN, NOT ELSEWHERE SPEC. OR INCLUDED.\": 21, 'EDIBLE FRUIT AND NUTS; PEEL OR CITRUS FRUIT OR MELONS.': 22, 'EDIBLE VEGETABLES AND CERTAIN ROOTS AND TUBERS.': 23, 'ELECTRICAL MACHINERY AND EQUIPMENT AND PARTS THEREOF; SOUND RECORDERS AND REPRODUCERS, TELEVISION IMAGE AND SOUND RECORDERS AND REPRODUCERS,AND PARTS.': 24, 'ESSENTIAL OILS AND RESINOIDS; PERFUMERY, COSMETIC OR TOILET PREPARATIONS.': 25, 'EXPLOSIVES; PYROTECHNIC PRODUCTS; MATCHES; PYROPHORIC ALLOYS; CERTAIN COMBUSTIBLE PREPARATIONS.': 26, 'FERTILISERS.': 27, 'FISH AND CRUSTACEANS, MOLLUSCS AND OTHER AQUATIC INVERTABRATES.': 28, 'FOOTWEAR, GAITERS AND THE LIKE; PARTS OF SUCH ARTICLES.': 29, 'FURNITURE; BEDDING, MATTRESSES, MATTRESS SUPPORTS, CUSHIONS AND SIMILAR STUFFED FURNISHING; LAMPS AND LIGHTING FITTINGS NOT ELSEWHERE SPECIFIED OR INC': 30, 'FURSKINS AND ARTIFICIAL FUR, MANUFACTURES THEREOF.': 31, 'GLASS AND GLASSWARE.': 32, 'HEADGEAR AND PARTS THEREOF.': 33, 'IMPREGNATED, COATED, COVERED OR LAMINATED TEXTILE FABRICS; TEXTILE ARTICLES OF A KIND SUITABLE FOR INDUSTRIAL USE.': 34, 'INORGANIC CHEMICALS; ORGANIC OR INORGANIC COMPOUNDS OF PRECIOUS METALS, OF RARE-EARTH METALS, OR RADI. ELEM. OR OF ISOTOPES.': 35, 'IRON AND STEEL': 36, 'KNITTED OR CROCHETED FABRICS.': 37, 'LAC; GUMS, RESINS AND OTHER VEGETABLE SAPS AND EXTRACTS.': 38, 'LEAD AND ARTICLES THEREOF.': 39, 'LIVE ANIMALS.': 40, 'LIVE TREES AND OTHER PLANTS; BULBS; ROOTS AND THE LIKE; CUT FLOWERS AND ORNAMENTAL FOLIAGE.': 41, 'MAN-MADE FILAMENTS.': 42, 'MAN-MADE STAPLE FIBRES.': 43, 'MANUFACTURES OF STRAW, OF ESPARTO OR OF OTHER PLAITING MATERIALS; BASKETWARE AND WICKERWORK.': 44, 'MEAT AND EDIBLE MEAT OFFAL.': 45, 'MINERAL FUELS, MINERAL OILS AND PRODUCTS OF THEIR DISTILLATION; BITUMINOUS SUBSTANCES; MINERAL WAXES.': 46, 'MISCELLANEOUS ARTICLES OF BASE METAL.': 47, 'MISCELLANEOUS CHEMICAL PRODUCTS.': 48, 'MISCELLANEOUS EDIBLE PREPARATIONS.': 49, 'MISCELLANEOUS GOODS.': 50, 'MISCELLANEOUS MANUFACTURED ARTICLES.': 51, 'MUSICAL INSTRUMENTS; PARTS AND ACCESSORIES OF SUCH ARTICLES.': 52, 'NATURAL OR CULTURED PEARLS,PRECIOUS OR SEMIPRECIOUS STONES,PRE.METALS,CLAD WITH PRE.METAL AND ARTCLS THEREOF;IMIT.JEWLRY;COIN.': 53, 'NICKEL AND ARTICLES THEREOF.': 54, 'NUCLEAR REACTORS, BOILERS, MACHINERY AND MECHANICAL APPLIANCES; PARTS THEREOF.': 55, 'OIL SEEDS AND OLEA. FRUITS; MISC. GRAINS, SEEDS AND FRUIT; INDUSTRIAL OR MEDICINAL PLANTS; STRAW AND FODDER.': 56, 'OPTICAL, PHOTOGRAPHIC CINEMATOGRAPHIC MEASURING, CHECKING PRECISION, MEDICAL OR SURGICAL INST. AND APPARATUS PARTS AND ACCESSORIES THEREOF;': 57, 'ORES, SLAG AND ASH.': 58, 'ORGANIC CHEMICALS': 59, 'OTHER BASE METALS; CERMETS; ARTICLES THEREOF.': 60, 'OTHER MADE UP TEXTILE ARTICLES; SETS; WORN CLOTHING AND WORN TEXTILE ARTICLES; RAGS': 61, 'OTHER VEGETABLE TEXTILE FIBRES; PAPER YARN AND WOVEN FABRICS OF PAPER YARN.': 62, 'PAPER AND PAPERBOARD; ARTICLES OF PAPER PULP, OF PAPER OR OF PAPERBOARD.': 63, 'PHARMACEUTICAL PRODUCTS': 64, 'PHOTOGRAPHIC OR CINEMATOGRAPHIC GOODS.': 65, 'PLASTIC AND ARTICLES THEREOF.': 66, 'PREPARATIONS OF CEREALS, FLOUR, STARCH OR MILK; PASTRYCOOKS PRODUCTS.': 67, 'PREPARATIONS OF MEAT, OF FISH OR OF CRUSTACEANS, MOLLUSCS OR OTHER AQUATIC INVERTEBRATES': 68, 'PREPARATIONS OF VEGETABLES, FRUIT, NUTS OR OTHER PARTS OF PLANTS.': 69, 'PREPARED FEATHERS AND DOWN AND ARTICLES MADE OF FEATHERS OR OF DOWN; ARTIFICIAL FLOWERS; ARTICLES OF HUMAN HAIR.': 70, 'PRINTED BOOKDS, NEWSPAPERS, PICTURES AND OTHER PRODUCTS OF THE PRINTING INDUSTRY; MANUSCRIPTS, TYPESCRIPTS AND PLANS.': 71, 'PRODUCTS OF ANIMAL ORIGIN, NOT ELSEWHERE SPECIFIED OR INCLUDED.': 72, 'PRODUCTS OF THE MILLING INDUSTRY; MALT; STARCHES; INULIN; WHEAT GLUTEN.': 73, 'PROJECT GOODS; SOME SPECIAL USES.': 74, 'PULP OF WOOD OR OF OTHER FIBROUS CELLULOSIC MATERIAL; WASTE AND SCRAP OF PAPER OR PAPERBOARD.': 75, 'RAILWAY OR TRAMWAY LOCOMOTIVES, ROLLING-STOCK AND PARTS THEREOF; RAILWAY OR TRAMWAY TRACK FIXTURES AND FITTINGS AND PARTS THEREOF; MECHANICAL': 76, 'RAW HIDES AND SKINS (OTHER THAN FURSKINS) AND LEATHER': 77, 'RESIDUES AND WASTE FROM THE FOOD INDUSTRIES; PREPARED ANIMAL FODER.': 78, 'RUBBER AND ARTICLES THEREOF.': 79, 'SALT; SULPHUR; EARTHS AND STONE; PLASTERING MATERIALS, LIME AND CEMENT.': 80, 'SHIPS, BOATS AND FLOATING STRUCTURES.': 81, 'SILK': 82, 'SOAP, ORGANIC SURFACE-ACTIVE AGENTS, WASHING PREPARATIONS, LUBRICATING PREPARATIONS, ARTIFICIAL WAXES, PREPARED WAXES, POLISHING OR SCOURING PREP.': 83, 'SPECIAL WOVEN FABRICS; TUFTED TEXTILE FABRICS; LACE; TAPESTRIES; TRIMMINGS; EMBROIDERY.': 84, 'SUGARS AND SUGAR CONFECTIONERY.': 85, 'TANNING OR DYEING EXTRACTS; TANNINS AND THEIR DERI. DYES, PIGMENTS AND OTHER COLOURING MATTER; PAINTS AND VER; PUTTY AND OTHER MASTICS; INKS.': 86, 'TIN AND ARTICLES THEREOF.': 87, 'TOBACCO AND MANUFACTURED TOBACCO SUBSTITUTES.': 88, 'TOOLS IMPLEMENTS, CUTLERY, SPOONS AND FORKS, OF BASE METAL; PARTS THEREOF OF BASE METAL.': 89, 'TOYS, GAMES AND SPORTS REQUISITES; PARTS AND ACCESSORIES THEREOF.': 90, 'UMBRELLAS, SUN UMBRELLAS, WALKING-STICKS, SEAT-STICKS, WHIPS,RIDING-CROPS AND PARTS THEREOF.': 91, 'VEGETABLE PLAITING MATERIALS; VEGETABLE PRODUCTS NOT ELSEWHERE SPECIFIED OR INCLUDED.': 92, 'VEHICLES OTHER THAN RAILWAY OR TRAMWAY ROLLING STOCK, AND PARTS AND ACCESSORIES THEREOF.': 93, 'WADDING, FELT AND NONWOVENS; SPACIAL YARNS; TWINE, CORDAGE, ROPES AND CABLES AND ARTICLES THEREOF.': 94, 'WOOD AND ARTICLES OF WOOD; WOOD CHARCOAL.': 95, 'WOOL, FINE OR COARSE ANIMAL HAIR, HORSEHAIR YARN AND WOVEN FABRIC.': 96, \"WORKS OF ART COLLECTORS' PIECES AND ANTIQUES.\": 97, 'ZINC AND ARTICLES THEREOF.': 98}\n"
     ]
    }
   ],
   "source": [
    "commodity_lookup = {}\n",
    "for hscode, commodity in values:\n",
    "    f[commodity] = hscode\n",
    "    \n",
    "print(commodity_lookup)"
   ]
  },
  {
   "cell_type": "code",
   "execution_count": 47,
   "id": "d90cda83",
   "metadata": {},
   "outputs": [],
   "source": [
    "# create_table_sql = \"\"\"CREATE TABLE IF NOT EXISTS [Export] (\n",
    "#     [VALUEID] INTEGER NOT NULL PRIMARY KEY,\n",
    "#     [HSCODE] INTEGER NOT NULL, \n",
    "#     [COUNTRY] TEXT NOT NULL,\n",
    "#     [YEAR] INTEGER NOT NULL,\n",
    "#     [VALUE] REAL,\n",
    "#     FOREIGN KEY(COUNTRY) REFERENCES Country(COUNTRY),\n",
    "#     FOREIGN KEY(YEAR) REFERENCES YEAR(YEAR),\n",
    "#     FOREIGN KEY(HSCODE) REFERENCES Commodity(HSCODE)\n",
    "# );\n",
    "# \"\"\"\n",
    "\n",
    "sql_statement = 'SELECT Commodity, country, year, value from export'\n",
    "values = execute_sql_statement(sql_statement, conn)\n",
    "# with conn_norm:\n",
    "count = 0\n",
    "with conn_norm:\n",
    "    for value in values:\n",
    "        text = value[0]\n",
    "        hscode = commodity_lookup[text]\n",
    "        insert_tuple = (hscode, value[1], value[2], value[3])\n",
    "        insert_value(conn_norm, insert_tuple)"
   ]
  },
  {
   "cell_type": "code",
   "execution_count": 48,
   "id": "253806a6",
   "metadata": {},
   "outputs": [],
   "source": [
    "conn_norm.close()"
   ]
  },
  {
   "cell_type": "code",
   "execution_count": 49,
   "id": "2858f444",
   "metadata": {},
   "outputs": [
    {
     "data": {
      "text/plain": [
       "55767.953"
      ]
     },
     "execution_count": 49,
     "metadata": {},
     "output_type": "execute_result"
    }
   ],
   "source": [
    "import time\n",
    "time.monotonic() "
   ]
  },
  {
   "cell_type": "code",
   "execution_count": 52,
   "id": "3d7bdcac",
   "metadata": {},
   "outputs": [],
   "source": [
    "start = time.bmonotonic()\n"
   ]
  },
  {
   "cell_type": "code",
   "execution_count": 53,
   "id": "12f74857",
   "metadata": {},
   "outputs": [
    {
     "name": "stdout",
     "output_type": "stream",
     "text": [
      "9.469000000004598\n"
     ]
    }
   ],
   "source": [
    "end = time.monotonic()\n",
    "print(end-start)"
   ]
  },
  {
   "cell_type": "code",
   "execution_count": 54,
   "id": "df006f15",
   "metadata": {},
   "outputs": [
    {
     "name": "stdout",
     "output_type": "stream",
     "text": [
      "0.9219999999986612\n"
     ]
    }
   ],
   "source": [
    "conn_norm = create_connection('india_export_norm.db')\n",
    "cur = conn_norm.cursor()\n",
    "cur.execute('DROP TABLE EXPORT')\n",
    "create_table_sql = \"\"\"CREATE TABLE IF NOT EXISTS [Export] (\n",
    "    [VALUEID] INTEGER NOT NULL PRIMARY KEY,\n",
    "    [HSCODE] INTEGER NOT NULL, \n",
    "    [COUNTRY] TEXT NOT NULL,\n",
    "    [YEAR] INTEGER NOT NULL,\n",
    "    [VALUE] REAL,\n",
    "    FOREIGN KEY(COUNTRY) REFERENCES Country(COUNTRY),\n",
    "    FOREIGN KEY(YEAR) REFERENCES YEAR(YEAR),\n",
    "    FOREIGN KEY(HSCODE) REFERENCES Commodity(HSCODE)\n",
    ");\n",
    "\"\"\"\n",
    "create_table(conn_norm, create_table_sql)\n",
    "\n",
    "with conn_norm:\n",
    "    start_time = time.monotonic() \n",
    "    for value in values:\n",
    "        text = value[0]\n",
    "        hscode = commodity_lookup[text]\n",
    "        insert_tuple = (hscode, value[1], value[2], value[3])\n",
    "        insert_value(conn_norm, insert_tuple)\n",
    "end_time = time.monotonic()     \n",
    "\n",
    "\n",
    "print(end_time-start_time)"
   ]
  },
  {
   "cell_type": "code",
   "execution_count": 55,
   "id": "ee8e39dd",
   "metadata": {},
   "outputs": [
    {
     "name": "stdout",
     "output_type": "stream",
     "text": [
      "[(45, 'AFGHANISTAN TIS', 2018, 0.18), (28, 'AFGHANISTAN TIS', 2018, 0.0), (21, 'AFGHANISTAN TIS', 2018, 12.48), (41, 'AFGHANISTAN TIS', 2018, 0.0), (23, 'AFGHANISTAN TIS', 2018, 1.89), (22, 'AFGHANISTAN TIS', 2018, 25.01), (17, 'AFGHANISTAN TIS', 2018, 13.75), (14, 'AFGHANISTAN TIS', 2018, 0.75), (73, 'AFGHANISTAN TIS', 2018, 0.01), (56, 'AFGHANISTAN TIS', 2018, 10.02), (38, 'AFGHANISTAN TIS', 2018, 0.04), (92, 'AFGHANISTAN TIS', 2018, None), (4, 'AFGHANISTAN TIS', 2018, 0.37), (85, 'AFGHANISTAN TIS', 2018, 15.92), (16, 'AFGHANISTAN TIS', 2018, 0.0), (67, 'AFGHANISTAN TIS', 2018, 0.63), (69, 'AFGHANISTAN TIS', 2018, 5.04), (49, 'AFGHANISTAN TIS', 2018, 3.08), (11, 'AFGHANISTAN TIS', 2018, 0.01), (78, 'AFGHANISTAN TIS', 2018, 0.22), (88, 'AFGHANISTAN TIS', 2018, 91.22), (80, 'AFGHANISTAN TIS', 2018, 0.02), (46, 'AFGHANISTAN TIS', 2018, 0.59), (35, 'AFGHANISTAN TIS', 2018, 1.08), (59, 'AFGHANISTAN TIS', 2018, 7.15), (64, 'AFGHANISTAN TIS', 2018, 80.27), (27, 'AFGHANISTAN TIS', 2018, 0.0), (86, 'AFGHANISTAN TIS', 2018, 0.21), (25, 'AFGHANISTAN TIS', 2018, 5.63), (83, 'AFGHANISTAN TIS', 2018, 0.32), (2, 'AFGHANISTAN TIS', 2018, 0.04), (26, 'AFGHANISTAN TIS', 2018, 0.01), (65, 'AFGHANISTAN TIS', 2018, 0.0), (48, 'AFGHANISTAN TIS', 2018, 1.31), (66, 'AFGHANISTAN TIS', 2018, 2.35), (79, 'AFGHANISTAN TIS', 2018, 8.32), (77, 'AFGHANISTAN TIS', 2018, None), (9, 'AFGHANISTAN TIS', 2018, 0.19), (95, 'AFGHANISTAN TIS', 2018, 0.01), (75, 'AFGHANISTAN TIS', 2018, 0.0), (63, 'AFGHANISTAN TIS', 2018, 2.48), (71, 'AFGHANISTAN TIS', 2018, 0.71), (82, 'AFGHANISTAN TIS', 2018, 0.23), (20, 'AFGHANISTAN TIS', 2018, 2.38), (62, 'AFGHANISTAN TIS', 2018, None), (42, 'AFGHANISTAN TIS', 2018, 46.97), (43, 'AFGHANISTAN TIS', 2018, 39.19), (94, 'AFGHANISTAN TIS', 2018, 0.07), (12, 'AFGHANISTAN TIS', 2018, 0.03), (84, 'AFGHANISTAN TIS', 2018, 1.74), (34, 'AFGHANISTAN TIS', 2018, 0.07), (37, 'AFGHANISTAN TIS', 2018, 3.21), (6, 'AFGHANISTAN TIS', 2018, 43.18), (7, 'AFGHANISTAN TIS', 2018, 89.25), (61, 'AFGHANISTAN TIS', 2018, 21.08), (29, 'AFGHANISTAN TIS', 2018, 18.35), (33, 'AFGHANISTAN TIS', 2018, 0.0), (91, 'AFGHANISTAN TIS', 2018, None), (70, 'AFGHANISTAN TIS', 2018, 0.01), (10, 'AFGHANISTAN TIS', 2018, 0.46), (13, 'AFGHANISTAN TIS', 2018, 0.45), (32, 'AFGHANISTAN TIS', 2018, 0.23), (53, 'AFGHANISTAN TIS', 2018, 2.77), (36, 'AFGHANISTAN TIS', 2018, 0.84), (8, 'AFGHANISTAN TIS', 2018, 61.16), (18, 'AFGHANISTAN TIS', 2018, 0.73), (3, 'AFGHANISTAN TIS', 2018, 38.36), (39, 'AFGHANISTAN TIS', 2018, 0.0), (98, 'AFGHANISTAN TIS', 2018, None), (60, 'AFGHANISTAN TIS', 2018, None), (89, 'AFGHANISTAN TIS', 2018, 2.81), (47, 'AFGHANISTAN TIS', 2018, 1.15), (55, 'AFGHANISTAN TIS', 2018, 10.11), (24, 'AFGHANISTAN TIS', 2018, 13.08), (76, 'AFGHANISTAN TIS', 2018, None), (93, 'AFGHANISTAN TIS', 2018, 16.09), (1, 'AFGHANISTAN TIS', 2018, 0.56), (57, 'AFGHANISTAN TIS', 2018, 7.25), (15, 'AFGHANISTAN TIS', 2018, 0.32), (52, 'AFGHANISTAN TIS', 2018, 0.02), (30, 'AFGHANISTAN TIS', 2018, 0.17), (90, 'AFGHANISTAN TIS', 2018, 0.09), (51, 'AFGHANISTAN TIS', 2018, 1.59), (97, 'AFGHANISTAN TIS', 2018, 0.01), (74, 'AFGHANISTAN TIS', 2018, 0.03), (50, 'AFGHANISTAN TIS', 2018, 0.0), (28, 'ALBANIA', 2018, 0.32), (72, 'ALBANIA', 2018, 0.32), (23, 'ALBANIA', 2018, 0.17), (22, 'ALBANIA', 2018, 0.06), (17, 'ALBANIA', 2018, 4.01), (14, 'ALBANIA', 2018, 0.16), (56, 'ALBANIA', 2018, 0.95), (92, 'ALBANIA', 2018, 0.01), (4, 'ALBANIA', 2018, 0.0), (85, 'ALBANIA', 2018, 0.08), (67, 'ALBANIA', 2018, 0.01), (69, 'ALBANIA', 2018, 0.09), (49, 'ALBANIA', 2018, 0.17), (88, 'ALBANIA', 2018, 0.74)]\n"
     ]
    }
   ],
   "source": [
    "insert_tuples = []\n",
    "\n",
    "for value in values:\n",
    "    text = value[0]\n",
    "    hscode = commodity_lookup[text]\n",
    "    insert_tuple = (hscode, value[1], value[2], value[3])\n",
    "    insert_tuples.append(insert_tuple)\n",
    "print(insert_tuples[:100])"
   ]
  },
  {
   "cell_type": "code",
   "execution_count": 56,
   "id": "9e162483",
   "metadata": {},
   "outputs": [],
   "source": [
    "conn_norm = create_connection('india_export_norm.db')\n",
    "cur = conn_norm.cursor()\n",
    "cur.execute('DROP TABLE EXPORT')\n",
    "create_table_sql = \"\"\"CREATE TABLE IF NOT EXISTS [Export] (\n",
    "    [VALUEID] INTEGER NOT NULL PRIMARY KEY,\n",
    "    [HSCODE] INTEGER NOT NULL, \n",
    "    [COUNTRY] TEXT NOT NULL,\n",
    "    [YEAR] INTEGER NOT NULL,\n",
    "    [VALUE] REAL,\n",
    "    FOREIGN KEY(COUNTRY) REFERENCES Country(COUNTRY),\n",
    "    FOREIGN KEY(YEAR) REFERENCES YEAR(YEAR),\n",
    "    FOREIGN KEY(HSCODE) REFERENCES Commodity(HSCODE)\n",
    ");\n",
    "\"\"\"\n",
    "create_table(conn_norm, create_table_sql)\n",
    "sql = ''' INSERT INTO Export (HSCODE, COUNTRY, YEAR, VALUE)\n",
    "              VALUES(?, ?, ?, ?) '''\n",
    "cur = conn_norm.cursor()\n",
    "start_time = time.monotonic() \n",
    "cur.executemany(sql, insert_tuples)\n",
    "conn_norm.commit()\n",
    "end_time = time.monotonic()     "
   ]
  },
  {
   "cell_type": "code",
   "execution_count": 57,
   "id": "2a9e1198",
   "metadata": {
    "scrolled": true
   },
   "outputs": [
    {
     "name": "stdout",
     "output_type": "stream",
     "text": [
      "0.5469999999986612\n"
     ]
    }
   ],
   "source": [
    "print(end_time-start_time)"
   ]
  },
  {
   "cell_type": "code",
   "execution_count": 71,
   "id": "a85fe7e6",
   "metadata": {},
   "outputs": [],
   "source": [
    "expected_result = [{'ALT': 'C',\n",
    "  'CHROM': '18',\n",
    "  'FILTER': 'PASS',\n",
    "  'ID': 'rs75100641',\n",
    "  'INFO': {'1000g2015aug_afr': 0.0136,\n",
    "           '1000g2015aug_all': 0.0461262,\n",
    "           '1000g2015aug_amr': 0.0086,\n",
    "           '1000g2015aug_eur': 0.0249,\n",
    "           '1000g2015aug_sas': 0.0838,\n",
    "           'AC': 2,\n",
    "           'AF': 0.333,\n",
    "           'AN': 6,\n",
    "           'ANNOVAR_DATE': '2018-04-16',\n",
    "           'BaseQRankSum': 0.462,\n",
    "           'CADD13_PHRED': 1.888,\n",
    "           'CADD13_RawScore': -0.079391,\n",
    "           'ClippingRankSum': 0,\n",
    "           'DP': 189,\n",
    "           'Eigen': -0.1036,\n",
    "           'ExcessHet': 3.9794,\n",
    "           'FS': 2.119,\n",
    "           'Func.ensGene': 'intergenic',\n",
    "           'Func.refGene': 'intergenic',\n",
    "           'Gene.ensGene': 'ENSG00000265712,ENSG00000215457',\n",
    "           'Gene.refGene': 'LOC100287225,DCC',\n",
    "           'GeneDetail.ensGene': 'dist=123830,dist=32968',\n",
    "           'GeneDetail.refGene': 'dist=249570,dist=528133',\n",
    "           'Kaviar_AC': 816,\n",
    "           'Kaviar_AF': 0.0313509,\n",
    "           'Kaviar_AN': 26028,\n",
    "           'MLEAC': 2,\n",
    "           'MLEAF': 0.333,\n",
    "           'MQ': 60.0,\n",
    "           'MQRankSum': 0.0,\n",
    "           'QD': 13.33,\n",
    "           'ReadPosRankSum': 0.592,\n",
    "           'SOR': 0.89,\n",
    "           'VQSLOD': 22.2,\n",
    "           'avsnp150': 'rs75100641',\n",
    "           'culprit': 'MQ',\n",
    "           'cytoBand': '18q21.2',\n",
    "           'gnomAD_genome_AFR': 0.0147,\n",
    "           'gnomAD_genome_ALL': 0.0225,\n",
    "           'gnomAD_genome_AMR': 0.0155,\n",
    "           'gnomAD_genome_ASJ': 0.0265,\n",
    "           'gnomAD_genome_EAS': 0.1005,\n",
    "           'gnomAD_genome_FIN': 0.0097,\n",
    "           'gnomAD_genome_NFE': 0.0217,\n",
    "           'gnomAD_genome_OTH': 0.0255,\n",
    "           'snp138NonFlagged': 'rs75100641'},\n",
    "  'POS': 49338409,\n",
    "  'QUAL': 1893.12,\n",
    "  'REF': 'T',\n",
    "  'SAMPLE': {'XG102': {'AD': '29,44',\n",
    "                       'DP': '73',\n",
    "                       'GQ': '99',\n",
    "                       'GT': '0/1',\n",
    "                       'PL': '1066,0,631'},\n",
    "             'XG103': {'AD': '35,34',\n",
    "                       'DP': '69',\n",
    "                       'GQ': '99',\n",
    "                       'GT': '0/1',\n",
    "                       'PL': '838,0,805'},\n",
    "             'XG104': {'AD': '47,0',\n",
    "                       'DP': '47',\n",
    "                       'GQ': '99',\n",
    "                       'GT': '0/0',\n",
    "                       'PL': '0,113,1504'},\n",
    "             'XG202': {'AD': '29,44',\n",
    "                       'DP': '73',\n",
    "                       'GQ': '99',\n",
    "                       'GT': '0/1',\n",
    "                       'PL': '1066,0,631'},\n",
    "             'XG203': {'AD': '35,34',\n",
    "                       'DP': '69',\n",
    "                       'GQ': '99',\n",
    "                       'GT': '0/1',\n",
    "                       'PL': '838,0,805'},\n",
    "             'XG204': {'AD': '47,0',\n",
    "                       'DP': '47',\n",
    "                       'GQ': '99',\n",
    "                       'GT': '0/0',\n",
    "                       'PL': '0,113,1504'},\n",
    "             'XG302': {'AD': '29,44',\n",
    "                       'DP': '73',\n",
    "                       'GQ': '99',\n",
    "                       'GT': '0/1',\n",
    "                       'PL': '1066,0,631'},\n",
    "             'XG303': {'AD': '35,34',\n",
    "                       'DP': '69',\n",
    "                       'GQ': '99',\n",
    "                       'GT': '0/1',\n",
    "                       'PL': '838,0,805'},\n",
    "             'XG304': {'AD': '47,0',\n",
    "                       'DP': '47',\n",
    "                       'GQ': '99',\n",
    "                       'GT': '0/0',\n",
    "                       'PL': '0,113,1504'},\n",
    "             'XG402': {'AD': '29,44',\n",
    "                       'DP': '73',\n",
    "                       'GQ': '99',\n",
    "                       'GT': '0/1',\n",
    "                       'PL': '1066,0,631'},\n",
    "             'XG403': {'AD': '35,34',\n",
    "                       'DP': '69',\n",
    "                       'GQ': '99',\n",
    "                       'GT': '0/1',\n",
    "                       'PL': '838,0,805'},\n",
    "             'XG404': {'AD': '47,0',\n",
    "                       'DP': '47',\n",
    "                       'GQ': '99',\n",
    "                       'GT': '0/0',\n",
    "                       'PL': '0,113,1504'}}}][0]"
   ]
  },
  {
   "cell_type": "code",
   "execution_count": 74,
   "id": "fa7aeb23",
   "metadata": {},
   "outputs": [],
   "source": [
    "actual_result = [{'ALT': 'C',\n",
    "  'CHROM': '18',\n",
    "  'FILTER': 'PASS',\n",
    "  'ID': 'rs75100641',\n",
    "  'INFO': {'1000g2015aug_afr': 0.0136,\n",
    "           '1000g2015aug_all': 0.0461262,\n",
    "           '1000g2015aug_amr': 0.0086,\n",
    "           '1000g2015aug_eur': 0.0249,\n",
    "           '1000g2015aug_sas': 0.0838,\n",
    "           'AC': 2,\n",
    "           'AF': 0.333,\n",
    "           'AN': 6,\n",
    "           'ANNOVAR_DATE': '2018-04-16',\n",
    "           'BaseQRankSum': 0.462,\n",
    "           'CADD13_PHRED': 1.8,\n",
    "           'CADD13_RawScore': -0.079391,\n",
    "           'ClippingRankSum': 0,\n",
    "           'DP': 189.00,\n",
    "           'Eigen': \"-0.1036\",\n",
    "           'ExcessHet': 3.9794,\n",
    "           'FS': \"2.119\",\n",
    "           'Func.ensGene': 'intergenic',\n",
    "           'Func.refGene': 'intergenic',\n",
    "           'Gene.ensGene': 'ENSG00000265712,ENSG00000215457',\n",
    "           'Gene.refGene': 'LOC100287225,DCC',\n",
    "           'GeneDetail.ensGene': 'dist=123830,dist=32968',\n",
    "           'GeneDetail.refGene': 'dist=249570,dist=528133',\n",
    "           'Kaviar_AC': 816,\n",
    "           'Kaviar_AF': 0.0313509,\n",
    "           'Kaviar_AN': 26028,\n",
    "           'MLEAC': 2,\n",
    "           'MLEAF': 0.333,\n",
    "           'MQ': 60.0,\n",
    "           'MQRankSum': 0.0,\n",
    "           'QD': 13.33,\n",
    "           'ReadPosRankSum': 0.592,\n",
    "           'SOR': 0.89,\n",
    "           'VQSLOD': 22.2,\n",
    "           'avsnp150': 'rs75100641',\n",
    "           'culprit': 'MQ',\n",
    "           'cytoBand': '18q21.2',\n",
    "           'gnomAD_genome_AFR': \"0.0147\",\n",
    "           'gnomAD_genome_ALL': 0.0225,\n",
    "           'gnomAD_genome_AMR': 0.0155,\n",
    "           'gnomAD_genome_ASJ': 0.0265,\n",
    "           'gnomAD_genome_EAS': 0.1005,\n",
    "           'gnomAD_genome_FIN': 0.0097,\n",
    "           'gnomAD_genome_NFE': 0.0217,\n",
    "           'gnomAD_genome_OTH': 0.0255,\n",
    "           'snp138NonFlagged': 'rs75100641'},\n",
    "  'POS': 49338409,\n",
    "  'QUAL': 1893.12,\n",
    "  'REF': 'T',\n",
    "  'SAMPLE': {'XG102': {'AD': '29,44',\n",
    "                       'DP': '73',\n",
    "                       'GQ': '99',\n",
    "                       'GT': '0/1',\n",
    "                       'PL': '1066,0,631'},\n",
    "             'XG103': {'AD': '35,34',\n",
    "                       'DP': '69',\n",
    "                       'GQ': '99',\n",
    "                       'GT': '0/1',\n",
    "                       'PL': '838,0,805'},\n",
    "             'XG104': {'AD': '47,0',\n",
    "                       'DP': '47',\n",
    "                       'GQ': '99',\n",
    "                       'GT': '0/0',\n",
    "                       'PL': '0,113,1504'},\n",
    "             'XG202': {'AD': '29,44',\n",
    "                       'DP': '73',\n",
    "                       'GQ': '99',\n",
    "                       'GT': '0/1',\n",
    "                       'PL': '1066,0,631'},\n",
    "             'XG203': {'AD': '35,34',\n",
    "                       'DP': '69',\n",
    "                       'GQ': '99',\n",
    "                       'GT': '0/1',\n",
    "                       'PL': '838,0,805'},\n",
    "             'XG204': {'AD': '47,0',\n",
    "                       'DP': '47',\n",
    "                       'GQ': '99',\n",
    "                       'GT': '0/0',\n",
    "                       'PL': '0,113,1504'},\n",
    "             'XG302': {'AD': '29,44',\n",
    "                       'DP': '73',\n",
    "                       'GQ': '99',\n",
    "                       'GT': '0/1',\n",
    "                       'PL': '1066,0,631'},\n",
    "             'XG303': {'AD': '35,34',\n",
    "                       'DP': '69',\n",
    "                       'GQ': '99',\n",
    "                       'GT': '0/1',\n",
    "                       'PL': '838,0,805'},\n",
    "             'XG304': {'AD': '47,0',\n",
    "                       'DP': '47',\n",
    "                       'GQ': '99',\n",
    "                       'GT': '0/0',\n",
    "                       'PL': '0,113,1504'},\n",
    "             'XG402': {'AD': '29,44',\n",
    "                       'DP': '73',\n",
    "                       'GQ': '99',\n",
    "                       'GT': '0/1',\n",
    "                       'PL': '1066,0,631'},\n",
    "             'XG403': {'AD': '35,34',\n",
    "                       'DP': '69',\n",
    "                       'GQ': '99',\n",
    "                       'GT': '0/1',\n",
    "                       'PL': '838,0,805'},\n",
    "             'XG404': {'AD': '47,0',\n",
    "                       'DP': '47',\n",
    "                       'GQ': '99',\n",
    "                       'GT': '0/0',\n",
    "                       'PL': '0,113,1504'}}}][0]"
   ]
  },
  {
   "cell_type": "code",
   "execution_count": 76,
   "id": "20bad34d",
   "metadata": {},
   "outputs": [
    {
     "name": "stdout",
     "output_type": "stream",
     "text": [
      "CADD13_PHRED 1.888 <class 'float'> 1.8 <class 'float'>\n",
      "Eigen -0.1036 <class 'float'> -0.1036 <class 'str'>\n",
      "FS 2.119 <class 'float'> 2.119 <class 'str'>\n",
      "gnomAD_genome_AFR 0.0147 <class 'float'> 0.0147 <class 'str'>\n"
     ]
    }
   ],
   "source": [
    "for key, value in expected_result['INFO'].items():\n",
    "    actual_value = actual_result['INFO'][key]\n",
    "    if actual_value != value:\n",
    "        print(key, value, type(value), actual_value, type(actual_value))"
   ]
  },
  {
   "cell_type": "code",
   "execution_count": 77,
   "id": "82732a16",
   "metadata": {},
   "outputs": [
    {
     "name": "stdout",
     "output_type": "stream",
     "text": [
      "[0, 1, 4, 9, 16, 25, 36, 49, 64, 81]\n"
     ]
    }
   ],
   "source": [
    "# Square a list using Python\n",
    "squared_values = []\n",
    "values = list(range(10))\n",
    "for number in values:\n",
    "    squared_values.append(number*number)\n",
    "\n",
    "print(squared_values)"
   ]
  },
  {
   "cell_type": "code",
   "execution_count": 78,
   "id": "72cd31b2",
   "metadata": {},
   "outputs": [
    {
     "data": {
      "text/plain": [
       "[0, 1, 4, 9, 16, 25, 36, 49, 64, 81]"
      ]
     },
     "execution_count": 78,
     "metadata": {},
     "output_type": "execute_result"
    }
   ],
   "source": [
    "list(map(lambda ele: ele * ele, values))"
   ]
  },
  {
   "cell_type": "code",
   "execution_count": 79,
   "id": "eb6a3af9",
   "metadata": {},
   "outputs": [
    {
     "data": {
      "text/plain": [
       "array([ 0,  1,  4,  9, 16, 25, 36, 49, 64, 81])"
      ]
     },
     "execution_count": 79,
     "metadata": {},
     "output_type": "execute_result"
    }
   ],
   "source": [
    "# Square a list using NumPy\n",
    "import numpy as np\n",
    "\n",
    "vector = np.array(range(10))\n",
    "scalar = 5\n",
    "vector * vector"
   ]
  },
  {
   "cell_type": "code",
   "execution_count": 80,
   "id": "1d43ef45",
   "metadata": {},
   "outputs": [
    {
     "data": {
      "text/plain": [
       "array([ 0,  5, 10, 15, 20, 25, 30, 35, 40, 45])"
      ]
     },
     "execution_count": 80,
     "metadata": {},
     "output_type": "execute_result"
    }
   ],
   "source": [
    "vector * scalar"
   ]
  },
  {
   "cell_type": "code",
   "execution_count": 81,
   "id": "0898989e",
   "metadata": {},
   "outputs": [
    {
     "name": "stdout",
     "output_type": "stream",
     "text": [
      "[1, 2, 3]\n",
      "[1 2 3]\n"
     ]
    }
   ],
   "source": [
    "my_list = [1, 2, 3]\n",
    "print(my_list)\n",
    "\n",
    "import numpy as np\n",
    "\n",
    "my_vector = np.array(my_list)\n",
    "print(my_vector)"
   ]
  },
  {
   "cell_type": "code",
   "execution_count": 82,
   "id": "04227ca6",
   "metadata": {},
   "outputs": [
    {
     "name": "stdout",
     "output_type": "stream",
     "text": [
      "[[1 2 3]\n",
      " [1 2 3]]\n"
     ]
    }
   ],
   "source": [
    "my_matrix = np.array([my_list, my_list])\n",
    "print(my_matrix)"
   ]
  },
  {
   "cell_type": "code",
   "execution_count": 83,
   "id": "bbdc6e60",
   "metadata": {},
   "outputs": [
    {
     "data": {
      "text/plain": [
       "array([1, 2, 3, 1, 2, 3])"
      ]
     },
     "execution_count": 83,
     "metadata": {},
     "output_type": "execute_result"
    }
   ],
   "source": [
    "np.hstack([my_list, my_list])"
   ]
  },
  {
   "cell_type": "code",
   "execution_count": 89,
   "id": "a635b9cc",
   "metadata": {},
   "outputs": [],
   "source": [
    "my_nested_list = [[1, 2, 3], [4, 5, 6], [7, 8, 9, 10]]"
   ]
  },
  {
   "cell_type": "code",
   "execution_count": 90,
   "id": "a3de212d",
   "metadata": {},
   "outputs": [
    {
     "name": "stdout",
     "output_type": "stream",
     "text": [
      "[[1, 2, 3], [4, 5, 6], [7, 8, 9, 10]]\n"
     ]
    }
   ],
   "source": [
    "print(my_nested_list)"
   ]
  },
  {
   "cell_type": "code",
   "execution_count": 91,
   "id": "d04ab9c9",
   "metadata": {},
   "outputs": [
    {
     "name": "stdout",
     "output_type": "stream",
     "text": [
      "[list([1, 2, 3]) list([4, 5, 6]) list([7, 8, 9, 10])]\n"
     ]
    },
    {
     "name": "stderr",
     "output_type": "stream",
     "text": [
      "C:\\Users\\mkhaw\\AppData\\Local\\Temp/ipykernel_6060/2868465575.py:1: VisibleDeprecationWarning: Creating an ndarray from ragged nested sequences (which is a list-or-tuple of lists-or-tuples-or ndarrays with different lengths or shapes) is deprecated. If you meant to do this, you must specify 'dtype=object' when creating the ndarray.\n",
      "  my_matrix = np.array(my_nested_list)\n"
     ]
    }
   ],
   "source": [
    "my_matrix = np.array(my_nested_list)\n",
    "print(my_matrix)"
   ]
  },
  {
   "cell_type": "code",
   "execution_count": 93,
   "id": "a39aee30",
   "metadata": {},
   "outputs": [
    {
     "data": {
      "text/plain": [
       "array([ 4,  5,  6,  7,  9, 10, 11])"
      ]
     },
     "execution_count": 93,
     "metadata": {},
     "output_type": "execute_result"
    }
   ],
   "source": [
    "np.hstack([[4, 5, 6], [7, 9, 10, 11]])"
   ]
  },
  {
   "cell_type": "code",
   "execution_count": 99,
   "id": "d58944e0",
   "metadata": {},
   "outputs": [
    {
     "data": {
      "text/plain": [
       "array([[1, 2, 5, 6],\n",
       "       [3, 4, 7, 8]])"
      ]
     },
     "execution_count": 99,
     "metadata": {},
     "output_type": "execute_result"
    }
   ],
   "source": [
    "\n",
    "\n",
    "my_list1 = [[1,2], [3,4]]\n",
    "my_list2 = [[5,6], [7,8]]  \n",
    "np.hstack([my_list1, my_list2]) "
   ]
  },
  {
   "cell_type": "code",
   "execution_count": 95,
   "id": "3e15a459",
   "metadata": {},
   "outputs": [
    {
     "data": {
      "text/plain": [
       "array([[1, 2],\n",
       "       [3, 4],\n",
       "       [5, 6],\n",
       "       [7, 8]])"
      ]
     },
     "execution_count": 95,
     "metadata": {},
     "output_type": "execute_result"
    }
   ],
   "source": [
    "np.vstack([my_list1, my_list2])"
   ]
  },
  {
   "cell_type": "code",
   "execution_count": 98,
   "id": "650fa1c2",
   "metadata": {},
   "outputs": [
    {
     "data": {
      "text/plain": [
       "(2, 4)"
      ]
     },
     "execution_count": 98,
     "metadata": {},
     "output_type": "execute_result"
    }
   ],
   "source": [
    "x.shape\n"
   ]
  },
  {
   "cell_type": "code",
   "execution_count": 100,
   "id": "966bc7cf",
   "metadata": {},
   "outputs": [
    {
     "data": {
      "text/plain": [
       "array([0., 0., 0.])"
      ]
     },
     "execution_count": 100,
     "metadata": {},
     "output_type": "execute_result"
    }
   ],
   "source": [
    "np.zeros(3)"
   ]
  },
  {
   "cell_type": "code",
   "execution_count": 101,
   "id": "8345763d",
   "metadata": {},
   "outputs": [
    {
     "data": {
      "text/plain": [
       "array([4., 4., 4.])"
      ]
     },
     "execution_count": 101,
     "metadata": {},
     "output_type": "execute_result"
    }
   ],
   "source": [
    "np.ones(3)*4"
   ]
  },
  {
   "cell_type": "code",
   "execution_count": 102,
   "id": "7fba04da",
   "metadata": {},
   "outputs": [
    {
     "data": {
      "text/plain": [
       "array([ 0. ,  2.5,  5. ,  7.5, 10. ])"
      ]
     },
     "execution_count": 102,
     "metadata": {},
     "output_type": "execute_result"
    }
   ],
   "source": [
    "np.linspace(0, 10, 5)"
   ]
  },
  {
   "cell_type": "code",
   "execution_count": 103,
   "id": "71cf5df3",
   "metadata": {},
   "outputs": [
    {
     "data": {
      "text/plain": [
       "array([1900., 1910., 1920., 1930., 1940., 1950., 1960., 1970., 1980.,\n",
       "       1990., 2000.])"
      ]
     },
     "execution_count": 103,
     "metadata": {},
     "output_type": "execute_result"
    }
   ],
   "source": [
    "np.linspace(1900, 2000, 11)"
   ]
  },
  {
   "cell_type": "code",
   "execution_count": 104,
   "id": "1cebd5b4",
   "metadata": {},
   "outputs": [
    {
     "data": {
      "text/plain": [
       "array([[1., 0., 0.],\n",
       "       [0., 1., 0.],\n",
       "       [0., 0., 1.]])"
      ]
     },
     "execution_count": 104,
     "metadata": {},
     "output_type": "execute_result"
    }
   ],
   "source": [
    "np.eye(3)"
   ]
  },
  {
   "cell_type": "code",
   "execution_count": 105,
   "id": "351b6f4c",
   "metadata": {},
   "outputs": [
    {
     "data": {
      "text/plain": [
       "array([[1.0609979e-312, 1.0609979e-312, 1.0609979e-312],\n",
       "       [1.0609979e-312, 1.0609979e-312, 1.0609979e-312]])"
      ]
     },
     "execution_count": 105,
     "metadata": {},
     "output_type": "execute_result"
    }
   ],
   "source": [
    "np.empty((2,3))"
   ]
  },
  {
   "cell_type": "code",
   "execution_count": 106,
   "id": "e744a3e3",
   "metadata": {},
   "outputs": [
    {
     "data": {
      "text/plain": [
       "array([0.26487841, 0.9452433 , 0.48263246])"
      ]
     },
     "execution_count": 106,
     "metadata": {},
     "output_type": "execute_result"
    }
   ],
   "source": [
    "np.random.rand(3)"
   ]
  },
  {
   "cell_type": "code",
   "execution_count": 107,
   "id": "3db4c1dc",
   "metadata": {},
   "outputs": [
    {
     "data": {
      "text/plain": [
       "array([[0.56420471, 0.10324335, 0.36583282],\n",
       "       [0.87179507, 0.49342914, 0.59137864],\n",
       "       [0.98834756, 0.89997955, 0.92177146]])"
      ]
     },
     "execution_count": 107,
     "metadata": {},
     "output_type": "execute_result"
    }
   ],
   "source": [
    "np.random.rand(3,3)"
   ]
  },
  {
   "cell_type": "code",
   "execution_count": 108,
   "id": "0f8c9d4f",
   "metadata": {},
   "outputs": [
    {
     "data": {
      "text/plain": [
       "array([-0.5731585 , -0.71251504, -1.68307213])"
      ]
     },
     "execution_count": 108,
     "metadata": {},
     "output_type": "execute_result"
    }
   ],
   "source": [
    "np.random.randn(3)"
   ]
  },
  {
   "cell_type": "code",
   "execution_count": 109,
   "id": "6931b75a",
   "metadata": {},
   "outputs": [
    {
     "data": {
      "text/plain": [
       "array([[65.13944555],\n",
       "       [64.33666644],\n",
       "       [63.55183614],\n",
       "       [60.13992563],\n",
       "       [95.56526214],\n",
       "       [81.76901489],\n",
       "       [72.50138617],\n",
       "       [84.26441686],\n",
       "       [76.46195654],\n",
       "       [70.01864372]])"
      ]
     },
     "execution_count": 109,
     "metadata": {},
     "output_type": "execute_result"
    }
   ],
   "source": [
    "10 * np.random.randn(10, 1) + 75"
   ]
  },
  {
   "cell_type": "code",
   "execution_count": 110,
   "id": "fe22b6a7",
   "metadata": {},
   "outputs": [
    {
     "data": {
      "text/plain": [
       "array([60, 29, 81, 66, 15])"
      ]
     },
     "execution_count": 110,
     "metadata": {},
     "output_type": "execute_result"
    }
   ],
   "source": [
    "np.random.randint(1,101,5)  "
   ]
  },
  {
   "cell_type": "code",
   "execution_count": 111,
   "id": "42812d7e",
   "metadata": {},
   "outputs": [],
   "source": [
    "vector = np.arange(1,10)"
   ]
  },
  {
   "cell_type": "code",
   "execution_count": 112,
   "id": "09203089",
   "metadata": {},
   "outputs": [
    {
     "data": {
      "text/plain": [
       "array([1, 2, 3, 4, 5, 6, 7, 8, 9])"
      ]
     },
     "execution_count": 112,
     "metadata": {},
     "output_type": "execute_result"
    }
   ],
   "source": [
    "vector"
   ]
  },
  {
   "cell_type": "code",
   "execution_count": 113,
   "id": "e9a359a9",
   "metadata": {},
   "outputs": [
    {
     "name": "stdout",
     "output_type": "stream",
     "text": [
      "[[1 2 3]\n",
      " [4 5 6]\n",
      " [7 8 9]]\n"
     ]
    }
   ],
   "source": [
    "print(vector.reshape(3,3))"
   ]
  },
  {
   "cell_type": "code",
   "execution_count": 114,
   "id": "6dac9b2a",
   "metadata": {},
   "outputs": [],
   "source": [
    "vector = np.arange(1,13)"
   ]
  },
  {
   "cell_type": "code",
   "execution_count": 117,
   "id": "62350577",
   "metadata": {},
   "outputs": [
    {
     "ename": "ValueError",
     "evalue": "cannot reshape array of size 12 into shape (5,5)",
     "output_type": "error",
     "traceback": [
      "\u001b[1;31m---------------------------------------------------------------------------\u001b[0m",
      "\u001b[1;31mValueError\u001b[0m                                Traceback (most recent call last)",
      "\u001b[1;32m~\\AppData\\Local\\Temp/ipykernel_6060/3492550599.py\u001b[0m in \u001b[0;36m<module>\u001b[1;34m\u001b[0m\n\u001b[1;32m----> 1\u001b[1;33m \u001b[0mprint\u001b[0m\u001b[1;33m(\u001b[0m\u001b[0mvector\u001b[0m\u001b[1;33m.\u001b[0m\u001b[0mreshape\u001b[0m\u001b[1;33m(\u001b[0m\u001b[1;36m5\u001b[0m\u001b[1;33m,\u001b[0m\u001b[1;36m5\u001b[0m\u001b[1;33m)\u001b[0m\u001b[1;33m)\u001b[0m\u001b[1;33m\u001b[0m\u001b[1;33m\u001b[0m\u001b[0m\n\u001b[0m",
      "\u001b[1;31mValueError\u001b[0m: cannot reshape array of size 12 into shape (5,5)"
     ]
    }
   ],
   "source": [
    "print(vector.reshape(5,5))"
   ]
  },
  {
   "cell_type": "code",
   "execution_count": 118,
   "id": "684502c9",
   "metadata": {},
   "outputs": [
    {
     "name": "stdout",
     "output_type": "stream",
     "text": [
      "[12 31 22 11 43  4 47 36 27 39 21  2 49 39  1  6  3 46 26 25 45 29 13 44\n",
      " 35]\n"
     ]
    }
   ],
   "source": [
    "vector = np.random.randint(1,50,25)\n",
    "print(vector)"
   ]
  },
  {
   "cell_type": "code",
   "execution_count": 119,
   "id": "f04561d2",
   "metadata": {},
   "outputs": [
    {
     "data": {
      "text/plain": [
       "1"
      ]
     },
     "execution_count": 119,
     "metadata": {},
     "output_type": "execute_result"
    }
   ],
   "source": [
    "vector.min()"
   ]
  },
  {
   "cell_type": "code",
   "execution_count": 120,
   "id": "f99d2171",
   "metadata": {},
   "outputs": [
    {
     "data": {
      "text/plain": [
       "49"
      ]
     },
     "execution_count": 120,
     "metadata": {},
     "output_type": "execute_result"
    }
   ],
   "source": [
    "vector.max()"
   ]
  },
  {
   "cell_type": "code",
   "execution_count": 121,
   "id": "5caf0c58",
   "metadata": {},
   "outputs": [],
   "source": [
    "index = vector.argmin()"
   ]
  },
  {
   "cell_type": "code",
   "execution_count": 122,
   "id": "a85c7c34",
   "metadata": {},
   "outputs": [
    {
     "name": "stdout",
     "output_type": "stream",
     "text": [
      "14\n"
     ]
    }
   ],
   "source": [
    "print(index)"
   ]
  },
  {
   "cell_type": "code",
   "execution_count": 123,
   "id": "726e7cca",
   "metadata": {},
   "outputs": [
    {
     "data": {
      "text/plain": [
       "(25,)"
      ]
     },
     "execution_count": 123,
     "metadata": {},
     "output_type": "execute_result"
    }
   ],
   "source": [
    "vector.shape"
   ]
  },
  {
   "cell_type": "code",
   "execution_count": 124,
   "id": "5a3e8065",
   "metadata": {},
   "outputs": [],
   "source": [
    "my_matrix = vector.reshape(5, 5)"
   ]
  },
  {
   "cell_type": "code",
   "execution_count": 125,
   "id": "b0a58835",
   "metadata": {},
   "outputs": [
    {
     "name": "stdout",
     "output_type": "stream",
     "text": [
      "[[12 31 22 11 43]\n",
      " [ 4 47 36 27 39]\n",
      " [21  2 49 39  1]\n",
      " [ 6  3 46 26 25]\n",
      " [45 29 13 44 35]]\n"
     ]
    }
   ],
   "source": [
    "print(my_matrix)"
   ]
  },
  {
   "cell_type": "code",
   "execution_count": 126,
   "id": "eee9775f",
   "metadata": {},
   "outputs": [],
   "source": [
    "vector = np.array(range(10))"
   ]
  },
  {
   "cell_type": "code",
   "execution_count": 127,
   "id": "2d3ba29c",
   "metadata": {},
   "outputs": [
    {
     "name": "stdout",
     "output_type": "stream",
     "text": [
      "[0 1 2 3 4 5 6 7 8 9]\n"
     ]
    }
   ],
   "source": [
    "print(vector)"
   ]
  },
  {
   "cell_type": "code",
   "execution_count": 128,
   "id": "c1e17477",
   "metadata": {},
   "outputs": [],
   "source": [
    "vector[3:6] = 12"
   ]
  },
  {
   "cell_type": "code",
   "execution_count": 129,
   "id": "eb2134da",
   "metadata": {},
   "outputs": [
    {
     "data": {
      "text/plain": [
       "array([ 0,  1,  2, 12, 12, 12,  6,  7,  8,  9])"
      ]
     },
     "execution_count": 129,
     "metadata": {},
     "output_type": "execute_result"
    }
   ],
   "source": [
    "vector"
   ]
  },
  {
   "cell_type": "code",
   "execution_count": 130,
   "id": "55a42cbc",
   "metadata": {},
   "outputs": [
    {
     "name": "stdout",
     "output_type": "stream",
     "text": [
      "[0, 1, 2, 3, 4, 5, 6, 7, 8, 9]\n"
     ]
    }
   ],
   "source": [
    "x = list(range(10))\n",
    "print(x)"
   ]
  },
  {
   "cell_type": "code",
   "execution_count": 132,
   "id": "c09d2a2c",
   "metadata": {},
   "outputs": [],
   "source": [
    "x[3:6] = [12]"
   ]
  },
  {
   "cell_type": "code",
   "execution_count": 133,
   "id": "d0e203a9",
   "metadata": {},
   "outputs": [
    {
     "data": {
      "text/plain": [
       "[0, 1, 2, 12, 6, 7, 8, 9]"
      ]
     },
     "execution_count": 133,
     "metadata": {},
     "output_type": "execute_result"
    }
   ],
   "source": [
    "x"
   ]
  },
  {
   "cell_type": "code",
   "execution_count": 134,
   "id": "cae3172e",
   "metadata": {},
   "outputs": [],
   "source": [
    "vector = np.array(range(10))\n",
    "my_slice = vector[3:7]"
   ]
  },
  {
   "cell_type": "code",
   "execution_count": 135,
   "id": "95f20c03",
   "metadata": {},
   "outputs": [
    {
     "name": "stdout",
     "output_type": "stream",
     "text": [
      "[3 4 5 6]\n"
     ]
    }
   ],
   "source": [
    "print(my_slice)"
   ]
  },
  {
   "cell_type": "code",
   "execution_count": 136,
   "id": "9293e586",
   "metadata": {},
   "outputs": [],
   "source": [
    "my_slice[:] = 20"
   ]
  },
  {
   "cell_type": "code",
   "execution_count": 137,
   "id": "ee65ff95",
   "metadata": {},
   "outputs": [
    {
     "name": "stdout",
     "output_type": "stream",
     "text": [
      "[20 20 20 20]\n"
     ]
    }
   ],
   "source": [
    "print(my_slice)"
   ]
  },
  {
   "cell_type": "code",
   "execution_count": 138,
   "id": "abcd531c",
   "metadata": {},
   "outputs": [
    {
     "data": {
      "text/plain": [
       "array([ 0,  1,  2, 20, 20, 20, 20,  7,  8,  9])"
      ]
     },
     "execution_count": 138,
     "metadata": {},
     "output_type": "execute_result"
    }
   ],
   "source": [
    "vector"
   ]
  },
  {
   "cell_type": "code",
   "execution_count": 139,
   "id": "346ee80f",
   "metadata": {},
   "outputs": [],
   "source": [
    "matrix = np.array(range(1,10)).reshape((3,3))"
   ]
  },
  {
   "cell_type": "code",
   "execution_count": 140,
   "id": "a7634b8d",
   "metadata": {},
   "outputs": [
    {
     "data": {
      "text/plain": [
       "1"
      ]
     },
     "execution_count": 140,
     "metadata": {},
     "output_type": "execute_result"
    }
   ],
   "source": [
    "matrix[0,0]"
   ]
  },
  {
   "cell_type": "code",
   "execution_count": 141,
   "id": "2fb7ade1",
   "metadata": {},
   "outputs": [
    {
     "data": {
      "text/plain": [
       "1"
      ]
     },
     "execution_count": 141,
     "metadata": {},
     "output_type": "execute_result"
    }
   ],
   "source": [
    "matrix[0][0]"
   ]
  },
  {
   "cell_type": "code",
   "execution_count": 142,
   "id": "9263d0f3",
   "metadata": {},
   "outputs": [
    {
     "data": {
      "text/plain": [
       "array([3, 6, 9])"
      ]
     },
     "execution_count": 142,
     "metadata": {},
     "output_type": "execute_result"
    }
   ],
   "source": [
    "matrix[:,2] # Grab the third column"
   ]
  },
  {
   "cell_type": "code",
   "execution_count": 143,
   "id": "afc06062",
   "metadata": {},
   "outputs": [
    {
     "data": {
      "text/plain": [
       "array([[1, 2, 3],\n",
       "       [4, 5, 6],\n",
       "       [7, 8, 9]])"
      ]
     },
     "execution_count": 143,
     "metadata": {},
     "output_type": "execute_result"
    }
   ],
   "source": [
    "matrix"
   ]
  },
  {
   "cell_type": "code",
   "execution_count": 144,
   "id": "47537c5e",
   "metadata": {},
   "outputs": [
    {
     "data": {
      "text/plain": [
       "array([4, 5, 6])"
      ]
     },
     "execution_count": 144,
     "metadata": {},
     "output_type": "execute_result"
    }
   ],
   "source": [
    "matrix[1,:] # Grab the second row"
   ]
  },
  {
   "cell_type": "code",
   "execution_count": 145,
   "id": "259ed2be",
   "metadata": {},
   "outputs": [
    {
     "data": {
      "text/plain": [
       "array([[1, 2, 3],\n",
       "       [4, 5, 6]])"
      ]
     },
     "execution_count": 145,
     "metadata": {},
     "output_type": "execute_result"
    }
   ],
   "source": [
    "matrix[:2]"
   ]
  },
  {
   "cell_type": "code",
   "execution_count": 146,
   "id": "d2cf46d4",
   "metadata": {},
   "outputs": [
    {
     "data": {
      "text/plain": [
       "array([[1, 2, 3],\n",
       "       [4, 5, 6]])"
      ]
     },
     "execution_count": 146,
     "metadata": {},
     "output_type": "execute_result"
    }
   ],
   "source": [
    "matrix[:2, :]"
   ]
  },
  {
   "cell_type": "code",
   "execution_count": 147,
   "id": "209c1c25",
   "metadata": {},
   "outputs": [],
   "source": [
    "vector = np.arange(10)"
   ]
  },
  {
   "cell_type": "code",
   "execution_count": 148,
   "id": "e59e6b7c",
   "metadata": {},
   "outputs": [
    {
     "name": "stdout",
     "output_type": "stream",
     "text": [
      "[0 1 2 3 4 5 6 7 8 9]\n"
     ]
    }
   ],
   "source": [
    "print(vector)"
   ]
  },
  {
   "cell_type": "code",
   "execution_count": 151,
   "id": "d1a90a1b",
   "metadata": {},
   "outputs": [],
   "source": [
    "gt2 = vector > 2 # create condition\n",
    "lt8 = vector < 8 # create condition"
   ]
  },
  {
   "cell_type": "code",
   "execution_count": 152,
   "id": "df773ef6",
   "metadata": {},
   "outputs": [
    {
     "name": "stdout",
     "output_type": "stream",
     "text": [
      "[False False False  True  True  True  True  True  True  True]\n"
     ]
    }
   ],
   "source": [
    "print(gt2)"
   ]
  },
  {
   "cell_type": "code",
   "execution_count": 153,
   "id": "f40a5a1a",
   "metadata": {},
   "outputs": [],
   "source": [
    "selected_gt2 = vector[gt2] # apply condition to select\n",
    "selected_lt8 = vector[lt8] # apply condition to select\n"
   ]
  },
  {
   "cell_type": "code",
   "execution_count": 154,
   "id": "042eb953",
   "metadata": {},
   "outputs": [
    {
     "name": "stdout",
     "output_type": "stream",
     "text": [
      "[3 4 5 6 7 8 9]\n"
     ]
    }
   ],
   "source": [
    "print(selected_gt2)"
   ]
  },
  {
   "cell_type": "code",
   "execution_count": 155,
   "id": "a89679b2",
   "metadata": {},
   "outputs": [
    {
     "name": "stdout",
     "output_type": "stream",
     "text": [
      "[0 1 2 3 4 5 6 7]\n"
     ]
    }
   ],
   "source": [
    "print(selected_lt8)"
   ]
  },
  {
   "cell_type": "code",
   "execution_count": 156,
   "id": "8cfbaec4",
   "metadata": {},
   "outputs": [],
   "source": [
    "cond = (vector>2) & (vector<7)"
   ]
  },
  {
   "cell_type": "code",
   "execution_count": 157,
   "id": "f4f285f3",
   "metadata": {},
   "outputs": [
    {
     "name": "stdout",
     "output_type": "stream",
     "text": [
      "[False False False  True  True  True  True False False False]\n"
     ]
    }
   ],
   "source": [
    "print(cond)"
   ]
  },
  {
   "cell_type": "code",
   "execution_count": 158,
   "id": "540ab846",
   "metadata": {},
   "outputs": [
    {
     "data": {
      "text/plain": [
       "array([3, 4, 5, 6])"
      ]
     },
     "execution_count": 158,
     "metadata": {},
     "output_type": "execute_result"
    }
   ],
   "source": [
    "vector[cond]"
   ]
  },
  {
   "cell_type": "code",
   "execution_count": 159,
   "id": "7bacc3db",
   "metadata": {},
   "outputs": [
    {
     "ename": "ValueError",
     "evalue": "The truth value of an array with more than one element is ambiguous. Use a.any() or a.all()",
     "output_type": "error",
     "traceback": [
      "\u001b[1;31m---------------------------------------------------------------------------\u001b[0m",
      "\u001b[1;31mValueError\u001b[0m                                Traceback (most recent call last)",
      "\u001b[1;32m~\\AppData\\Local\\Temp/ipykernel_6060/4028338717.py\u001b[0m in \u001b[0;36m<module>\u001b[1;34m\u001b[0m\n\u001b[1;32m----> 1\u001b[1;33m \u001b[0mcond\u001b[0m \u001b[1;33m=\u001b[0m \u001b[1;33m(\u001b[0m\u001b[0mvector\u001b[0m\u001b[1;33m>\u001b[0m\u001b[1;36m2\u001b[0m\u001b[1;33m)\u001b[0m \u001b[1;32mand\u001b[0m \u001b[1;33m(\u001b[0m\u001b[0mvector\u001b[0m\u001b[1;33m<\u001b[0m\u001b[1;36m7\u001b[0m\u001b[1;33m)\u001b[0m\u001b[1;33m\u001b[0m\u001b[1;33m\u001b[0m\u001b[0m\n\u001b[0m",
      "\u001b[1;31mValueError\u001b[0m: The truth value of an array with more than one element is ambiguous. Use a.any() or a.all()"
     ]
    }
   ],
   "source": [
    "cond = (vector>2) and (vector<7)"
   ]
  },
  {
   "cell_type": "code",
   "execution_count": 160,
   "id": "618f63dc",
   "metadata": {},
   "outputs": [],
   "source": [
    "vector = np.arange(10)"
   ]
  },
  {
   "cell_type": "code",
   "execution_count": 161,
   "id": "ca6474af",
   "metadata": {},
   "outputs": [
    {
     "name": "stderr",
     "output_type": "stream",
     "text": [
      "C:\\Users\\mkhaw\\AppData\\Local\\Temp/ipykernel_6060/1465836789.py:1: RuntimeWarning: invalid value encountered in true_divide\n",
      "  vector / vector # problem!!! return `nan`\n"
     ]
    },
    {
     "data": {
      "text/plain": [
       "array([nan,  1.,  1.,  1.,  1.,  1.,  1.,  1.,  1.,  1.])"
      ]
     },
     "execution_count": 161,
     "metadata": {},
     "output_type": "execute_result"
    }
   ],
   "source": [
    "vector / vector # problem!!! return `nan` "
   ]
  },
  {
   "cell_type": "code",
   "execution_count": 162,
   "id": "377963d4",
   "metadata": {},
   "outputs": [],
   "source": [
    "vector = np.arange(10)"
   ]
  },
  {
   "cell_type": "code",
   "execution_count": 163,
   "id": "9760c44c",
   "metadata": {},
   "outputs": [
    {
     "data": {
      "text/plain": [
       "5"
      ]
     },
     "execution_count": 163,
     "metadata": {},
     "output_type": "execute_result"
    }
   ],
   "source": [
    "sum(vector<5)"
   ]
  },
  {
   "cell_type": "code",
   "execution_count": 164,
   "id": "63dd172f",
   "metadata": {},
   "outputs": [
    {
     "name": "stdout",
     "output_type": "stream",
     "text": [
      "[0 1 2 3 4 5 6 7 8 9]\n"
     ]
    }
   ],
   "source": [
    "print(vector)"
   ]
  },
  {
   "cell_type": "code",
   "execution_count": 165,
   "id": "e5b71d72",
   "metadata": {},
   "outputs": [
    {
     "data": {
      "text/plain": [
       "10"
      ]
     },
     "execution_count": 165,
     "metadata": {},
     "output_type": "execute_result"
    }
   ],
   "source": [
    "sum(vector[vector<5])"
   ]
  },
  {
   "cell_type": "code",
   "execution_count": 166,
   "id": "985e2f52",
   "metadata": {},
   "outputs": [
    {
     "data": {
      "text/plain": [
       "array([ 1.22464680e-16, -2.44929360e-16,  3.67394040e-16, -4.89858720e-16,\n",
       "        6.12323400e-16, -7.34788079e-16,  8.57252759e-16, -9.79717439e-16,\n",
       "        1.10218212e-15, -1.22464680e-15])"
      ]
     },
     "execution_count": 166,
     "metadata": {},
     "output_type": "execute_result"
    }
   ],
   "source": [
    "import math\n",
    "vector = np.arange(1,11) * math.pi \n",
    "np.sin(vector)"
   ]
  },
  {
   "cell_type": "code",
   "execution_count": 167,
   "id": "275aa28b",
   "metadata": {},
   "outputs": [
    {
     "data": {
      "text/plain": [
       "array([0.00000000e+00, 7.07106781e-01, 1.00000000e+00, 7.07106781e-01,\n",
       "       1.22464680e-16])"
      ]
     },
     "execution_count": 167,
     "metadata": {},
     "output_type": "execute_result"
    }
   ],
   "source": [
    "vector = np.arange(0,math.pi+math.pi/4,math.pi/4)\n",
    "np.sin(vector)"
   ]
  },
  {
   "cell_type": "code",
   "execution_count": 168,
   "id": "62ca2177",
   "metadata": {},
   "outputs": [],
   "source": [
    "matrix = np.random.rand(5,5)"
   ]
  },
  {
   "cell_type": "code",
   "execution_count": 169,
   "id": "5fdce120",
   "metadata": {},
   "outputs": [
    {
     "name": "stdout",
     "output_type": "stream",
     "text": [
      "[[0.34814323 0.43755547 0.84630859 0.46390124 0.14981525]\n",
      " [0.2862454  0.89736635 0.15646663 0.16606884 0.44467385]\n",
      " [0.10913719 0.55595519 0.54674391 0.58238047 0.32652756]\n",
      " [0.13548205 0.61228365 0.65332751 0.33357117 0.82953993]\n",
      " [0.36780728 0.74365387 0.48262376 0.99080337 0.25492441]]\n"
     ]
    }
   ],
   "source": [
    "print(matrix)"
   ]
  },
  {
   "cell_type": "code",
   "execution_count": 171,
   "id": "1758dd0e",
   "metadata": {},
   "outputs": [
    {
     "data": {
      "text/plain": [
       "array([[0.3481, 0.4376, 0.8463, 0.4639, 0.1498],\n",
       "       [0.2862, 0.8974, 0.1565, 0.1661, 0.4447],\n",
       "       [0.1091, 0.556 , 0.5467, 0.5824, 0.3265],\n",
       "       [0.1355, 0.6123, 0.6533, 0.3336, 0.8295],\n",
       "       [0.3678, 0.7437, 0.4826, 0.9908, 0.2549]])"
      ]
     },
     "execution_count": 171,
     "metadata": {},
     "output_type": "execute_result"
    }
   ],
   "source": [
    "matrix."
   ]
  },
  {
   "cell_type": "code",
   "execution_count": 172,
   "id": "42b04bde",
   "metadata": {},
   "outputs": [
    {
     "data": {
      "text/plain": [
       "array([[0.348, 0.437, 0.846, 0.463, 0.149],\n",
       "       [0.286, 0.897, 0.156, 0.166, 0.444],\n",
       "       [0.109, 0.555, 0.546, 0.582, 0.326],\n",
       "       [0.135, 0.612, 0.653, 0.333, 0.829],\n",
       "       [0.367, 0.743, 0.482, 0.99 , 0.254]])"
      ]
     },
     "execution_count": 172,
     "metadata": {},
     "output_type": "execute_result"
    }
   ],
   "source": [
    "np.floor(matrix*1000)/1000"
   ]
  },
  {
   "cell_type": "code",
   "execution_count": 173,
   "id": "b7deb110",
   "metadata": {},
   "outputs": [
    {
     "data": {
      "text/plain": [
       "array([[0.349, 0.438, 0.847, 0.464, 0.15 ],\n",
       "       [0.287, 0.898, 0.157, 0.167, 0.445],\n",
       "       [0.11 , 0.556, 0.547, 0.583, 0.327],\n",
       "       [0.136, 0.613, 0.654, 0.334, 0.83 ],\n",
       "       [0.368, 0.744, 0.483, 0.991, 0.255]])"
      ]
     },
     "execution_count": 173,
     "metadata": {},
     "output_type": "execute_result"
    }
   ],
   "source": [
    "np.ceil(matrix*1000)/1000"
   ]
  },
  {
   "cell_type": "code",
   "execution_count": 191,
   "id": "500c00ec",
   "metadata": {},
   "outputs": [],
   "source": [
    "matrix = np.arange(1,10).reshape(3,3)"
   ]
  },
  {
   "cell_type": "code",
   "execution_count": 175,
   "id": "aede3722",
   "metadata": {},
   "outputs": [
    {
     "data": {
      "text/plain": [
       "array([ 6, 15, 24])"
      ]
     },
     "execution_count": 175,
     "metadata": {},
     "output_type": "execute_result"
    }
   ],
   "source": [
    "matrix.sum(axis=1) "
   ]
  },
  {
   "cell_type": "code",
   "execution_count": 176,
   "id": "017cead2",
   "metadata": {},
   "outputs": [
    {
     "name": "stdout",
     "output_type": "stream",
     "text": [
      "[[1 2 3]\n",
      " [4 5 6]\n",
      " [7 8 9]]\n"
     ]
    }
   ],
   "source": [
    "print(matrix)"
   ]
  },
  {
   "cell_type": "code",
   "execution_count": 177,
   "id": "1b1d9c9e",
   "metadata": {},
   "outputs": [
    {
     "data": {
      "text/plain": [
       "array([12, 15, 18])"
      ]
     },
     "execution_count": 177,
     "metadata": {},
     "output_type": "execute_result"
    }
   ],
   "source": [
    "matrix.sum(axis=0) "
   ]
  },
  {
   "cell_type": "code",
   "execution_count": 178,
   "id": "3590df39",
   "metadata": {},
   "outputs": [
    {
     "data": {
      "text/plain": [
       "array([ 1,  3,  6, 10, 15, 21, 28, 36, 45], dtype=int32)"
      ]
     },
     "execution_count": 178,
     "metadata": {},
     "output_type": "execute_result"
    }
   ],
   "source": [
    "matrix.cumsum() "
   ]
  },
  {
   "cell_type": "code",
   "execution_count": 179,
   "id": "9f213f98",
   "metadata": {},
   "outputs": [
    {
     "data": {
      "text/plain": [
       "array([1, 4, 7])"
      ]
     },
     "execution_count": 179,
     "metadata": {},
     "output_type": "execute_result"
    }
   ],
   "source": [
    "matrix.min(axis=1) "
   ]
  },
  {
   "cell_type": "code",
   "execution_count": 180,
   "id": "f3987939",
   "metadata": {},
   "outputs": [
    {
     "data": {
      "text/plain": [
       "array([1, 2, 3])"
      ]
     },
     "execution_count": 180,
     "metadata": {},
     "output_type": "execute_result"
    }
   ],
   "source": [
    "matrix.min(axis=0) "
   ]
  },
  {
   "cell_type": "code",
   "execution_count": 181,
   "id": "dd06c1ea",
   "metadata": {},
   "outputs": [
    {
     "data": {
      "text/plain": [
       "array([[1, 2, 3],\n",
       "       [4, 5, 6],\n",
       "       [7, 8, 9]])"
      ]
     },
     "execution_count": 181,
     "metadata": {},
     "output_type": "execute_result"
    }
   ],
   "source": [
    "matrix"
   ]
  },
  {
   "cell_type": "code",
   "execution_count": 186,
   "id": "44c3aa3d",
   "metadata": {},
   "outputs": [],
   "source": [
    "matrix = np.array([1,2,3]*3).reshape(3,3)"
   ]
  },
  {
   "cell_type": "code",
   "execution_count": 187,
   "id": "8533175e",
   "metadata": {},
   "outputs": [
    {
     "name": "stdout",
     "output_type": "stream",
     "text": [
      "[[1 2 3]\n",
      " [1 2 3]\n",
      " [1 2 3]]\n"
     ]
    }
   ],
   "source": [
    "print(matrix)"
   ]
  },
  {
   "cell_type": "code",
   "execution_count": 188,
   "id": "a2cd847e",
   "metadata": {},
   "outputs": [
    {
     "data": {
      "text/plain": [
       "array([1, 2, 3])"
      ]
     },
     "execution_count": 188,
     "metadata": {},
     "output_type": "execute_result"
    }
   ],
   "source": [
    "np.unique(matrix.reshape(3,3))"
   ]
  },
  {
   "cell_type": "code",
   "execution_count": 194,
   "id": "d91f6b6f",
   "metadata": {},
   "outputs": [
    {
     "data": {
      "text/plain": [
       "4"
      ]
     },
     "execution_count": 194,
     "metadata": {},
     "output_type": "execute_result"
    }
   ],
   "source": [
    "np.min(matrix, axis=1)[1]"
   ]
  },
  {
   "cell_type": "code",
   "execution_count": 195,
   "id": "69227b95",
   "metadata": {},
   "outputs": [
    {
     "name": "stdout",
     "output_type": "stream",
     "text": [
      "[4.0000e+00 1.2345e+04 3.8400e+01]\n"
     ]
    }
   ],
   "source": [
    "import numpy as np\n",
    "import pandas as pd\n",
    "\n",
    "header = ['chrom', 'pos', 'filter']\n",
    "data = [4, 12345, 38.4]\n",
    "\n",
    "vector = np.array(data)\n",
    "\n",
    "print(vector)"
   ]
  },
  {
   "cell_type": "code",
   "execution_count": 197,
   "id": "27bf5c10",
   "metadata": {},
   "outputs": [],
   "source": [
    "s1 = pd.Series(data=data) # Notice the data type is float"
   ]
  },
  {
   "cell_type": "code",
   "execution_count": 198,
   "id": "4497d70f",
   "metadata": {},
   "outputs": [],
   "source": [
    "s2 = pd.Series(data=data, index=header)"
   ]
  },
  {
   "cell_type": "code",
   "execution_count": 199,
   "id": "b7966edb",
   "metadata": {},
   "outputs": [
    {
     "name": "stdout",
     "output_type": "stream",
     "text": [
      "0        4.0\n",
      "1    12345.0\n",
      "2       38.4\n",
      "dtype: float64\n"
     ]
    }
   ],
   "source": [
    "print(s1)"
   ]
  },
  {
   "cell_type": "code",
   "execution_count": 200,
   "id": "a31b128c",
   "metadata": {},
   "outputs": [
    {
     "name": "stdout",
     "output_type": "stream",
     "text": [
      "chrom         4.0\n",
      "pos       12345.0\n",
      "filter       38.4\n",
      "dtype: float64\n"
     ]
    }
   ],
   "source": [
    "print(s2)"
   ]
  },
  {
   "cell_type": "code",
   "execution_count": 201,
   "id": "6fa5fcf9",
   "metadata": {},
   "outputs": [
    {
     "data": {
      "text/plain": [
       "0     1\n",
       "1    2s\n",
       "2    34\n",
       "dtype: object"
      ]
     },
     "execution_count": 201,
     "metadata": {},
     "output_type": "execute_result"
    }
   ],
   "source": [
    "data = [1, '2s', 34] \n",
    "pd.Series(data)"
   ]
  },
  {
   "cell_type": "code",
   "execution_count": 202,
   "id": "22bc78c5",
   "metadata": {},
   "outputs": [
    {
     "data": {
      "text/plain": [
       "array(['1', '2s', '34'], dtype='<U11')"
      ]
     },
     "execution_count": 202,
     "metadata": {},
     "output_type": "execute_result"
    }
   ],
   "source": [
    "np.array([1, '2s', 34] )"
   ]
  },
  {
   "cell_type": "code",
   "execution_count": 203,
   "id": "30e8c7ad",
   "metadata": {},
   "outputs": [
    {
     "data": {
      "text/plain": [
       "chrom         4.0\n",
       "pos       12345.0\n",
       "filter       38.4\n",
       "dtype: float64"
      ]
     },
     "execution_count": 203,
     "metadata": {},
     "output_type": "execute_result"
    }
   ],
   "source": [
    "pd.Series(data_dict)"
   ]
  },
  {
   "cell_type": "code",
   "execution_count": 204,
   "id": "fa36bdc9",
   "metadata": {},
   "outputs": [
    {
     "data": {
      "text/plain": [
       "4.0"
      ]
     },
     "execution_count": 204,
     "metadata": {},
     "output_type": "execute_result"
    }
   ],
   "source": [
    "header = ['chrom', 'pos', 'filter']\n",
    "data = [4, 12345, 38.4]\n",
    "series = pd.Series(data=data, index=header)\n",
    "series['chrom']\n"
   ]
  },
  {
   "cell_type": "code",
   "execution_count": 205,
   "id": "c7603085",
   "metadata": {},
   "outputs": [
    {
     "data": {
      "text/plain": [
       "12345.0"
      ]
     },
     "execution_count": 205,
     "metadata": {},
     "output_type": "execute_result"
    }
   ],
   "source": [
    "series['pos']"
   ]
  },
  {
   "cell_type": "code",
   "execution_count": 206,
   "id": "46141356",
   "metadata": {},
   "outputs": [
    {
     "data": {
      "text/plain": [
       "38.4"
      ]
     },
     "execution_count": 206,
     "metadata": {},
     "output_type": "execute_result"
    }
   ],
   "source": [
    "series['filter']"
   ]
  },
  {
   "cell_type": "code",
   "execution_count": 207,
   "id": "348d4565",
   "metadata": {},
   "outputs": [
    {
     "data": {
      "text/plain": [
       "12345.0"
      ]
     },
     "execution_count": 207,
     "metadata": {},
     "output_type": "execute_result"
    }
   ],
   "source": [
    "s2[1]"
   ]
  },
  {
   "cell_type": "code",
   "execution_count": 208,
   "id": "b393f925",
   "metadata": {},
   "outputs": [
    {
     "data": {
      "text/plain": [
       "chrom         7.0\n",
       "filter      272.4\n",
       "pos       17244.0\n",
       "qual          NaN\n",
       "dtype: float64"
      ]
     },
     "execution_count": 208,
     "metadata": {},
     "output_type": "execute_result"
    }
   ],
   "source": [
    "header1 = ['chrom', 'pos', 'filter']\n",
    "data1 = [4, 12345, 38.4]\n",
    "header2 = ['chrom', 'pos', 'filter', 'qual']\n",
    "data2 = [3, 4899, 234, 89.9]\n",
    "\n",
    "s1 = pd.Series(data1, header1)\n",
    "s2 = pd.Series(data2, header2)\n",
    "s1+s2 "
   ]
  },
  {
   "cell_type": "code",
   "execution_count": 209,
   "id": "b3490df8",
   "metadata": {},
   "outputs": [
    {
     "ename": "TypeError",
     "evalue": "unsupported operand type(s) for +: 'float' and 'str'",
     "output_type": "error",
     "traceback": [
      "\u001b[1;31m---------------------------------------------------------------------------\u001b[0m",
      "\u001b[1;31mTypeError\u001b[0m                                 Traceback (most recent call last)",
      "\u001b[1;32mC:\\ProgramData\\Anaconda3\\lib\\site-packages\\pandas\\core\\ops\\array_ops.py\u001b[0m in \u001b[0;36m_na_arithmetic_op\u001b[1;34m(left, right, op, is_cmp)\u001b[0m\n\u001b[0;32m    165\u001b[0m     \u001b[1;32mtry\u001b[0m\u001b[1;33m:\u001b[0m\u001b[1;33m\u001b[0m\u001b[1;33m\u001b[0m\u001b[0m\n\u001b[1;32m--> 166\u001b[1;33m         \u001b[0mresult\u001b[0m \u001b[1;33m=\u001b[0m \u001b[0mfunc\u001b[0m\u001b[1;33m(\u001b[0m\u001b[0mleft\u001b[0m\u001b[1;33m,\u001b[0m \u001b[0mright\u001b[0m\u001b[1;33m)\u001b[0m\u001b[1;33m\u001b[0m\u001b[1;33m\u001b[0m\u001b[0m\n\u001b[0m\u001b[0;32m    167\u001b[0m     \u001b[1;32mexcept\u001b[0m \u001b[0mTypeError\u001b[0m\u001b[1;33m:\u001b[0m\u001b[1;33m\u001b[0m\u001b[1;33m\u001b[0m\u001b[0m\n",
      "\u001b[1;32mC:\\ProgramData\\Anaconda3\\lib\\site-packages\\pandas\\core\\computation\\expressions.py\u001b[0m in \u001b[0;36mevaluate\u001b[1;34m(op, a, b, use_numexpr)\u001b[0m\n\u001b[0;32m    238\u001b[0m             \u001b[1;31m# error: \"None\" not callable\u001b[0m\u001b[1;33m\u001b[0m\u001b[1;33m\u001b[0m\u001b[1;33m\u001b[0m\u001b[0m\n\u001b[1;32m--> 239\u001b[1;33m             \u001b[1;32mreturn\u001b[0m \u001b[0m_evaluate\u001b[0m\u001b[1;33m(\u001b[0m\u001b[0mop\u001b[0m\u001b[1;33m,\u001b[0m \u001b[0mop_str\u001b[0m\u001b[1;33m,\u001b[0m \u001b[0ma\u001b[0m\u001b[1;33m,\u001b[0m \u001b[0mb\u001b[0m\u001b[1;33m)\u001b[0m  \u001b[1;31m# type: ignore[misc]\u001b[0m\u001b[1;33m\u001b[0m\u001b[1;33m\u001b[0m\u001b[0m\n\u001b[0m\u001b[0;32m    240\u001b[0m     \u001b[1;32mreturn\u001b[0m \u001b[0m_evaluate_standard\u001b[0m\u001b[1;33m(\u001b[0m\u001b[0mop\u001b[0m\u001b[1;33m,\u001b[0m \u001b[0mop_str\u001b[0m\u001b[1;33m,\u001b[0m \u001b[0ma\u001b[0m\u001b[1;33m,\u001b[0m \u001b[0mb\u001b[0m\u001b[1;33m)\u001b[0m\u001b[1;33m\u001b[0m\u001b[1;33m\u001b[0m\u001b[0m\n",
      "\u001b[1;32mC:\\ProgramData\\Anaconda3\\lib\\site-packages\\pandas\\core\\computation\\expressions.py\u001b[0m in \u001b[0;36m_evaluate_numexpr\u001b[1;34m(op, op_str, a, b)\u001b[0m\n\u001b[0;32m    127\u001b[0m     \u001b[1;32mif\u001b[0m \u001b[0mresult\u001b[0m \u001b[1;32mis\u001b[0m \u001b[1;32mNone\u001b[0m\u001b[1;33m:\u001b[0m\u001b[1;33m\u001b[0m\u001b[1;33m\u001b[0m\u001b[0m\n\u001b[1;32m--> 128\u001b[1;33m         \u001b[0mresult\u001b[0m \u001b[1;33m=\u001b[0m \u001b[0m_evaluate_standard\u001b[0m\u001b[1;33m(\u001b[0m\u001b[0mop\u001b[0m\u001b[1;33m,\u001b[0m \u001b[0mop_str\u001b[0m\u001b[1;33m,\u001b[0m \u001b[0ma\u001b[0m\u001b[1;33m,\u001b[0m \u001b[0mb\u001b[0m\u001b[1;33m)\u001b[0m\u001b[1;33m\u001b[0m\u001b[1;33m\u001b[0m\u001b[0m\n\u001b[0m\u001b[0;32m    129\u001b[0m \u001b[1;33m\u001b[0m\u001b[0m\n",
      "\u001b[1;32mC:\\ProgramData\\Anaconda3\\lib\\site-packages\\pandas\\core\\computation\\expressions.py\u001b[0m in \u001b[0;36m_evaluate_standard\u001b[1;34m(op, op_str, a, b)\u001b[0m\n\u001b[0;32m     68\u001b[0m         \u001b[0m_store_test_result\u001b[0m\u001b[1;33m(\u001b[0m\u001b[1;32mFalse\u001b[0m\u001b[1;33m)\u001b[0m\u001b[1;33m\u001b[0m\u001b[1;33m\u001b[0m\u001b[0m\n\u001b[1;32m---> 69\u001b[1;33m     \u001b[1;32mreturn\u001b[0m \u001b[0mop\u001b[0m\u001b[1;33m(\u001b[0m\u001b[0ma\u001b[0m\u001b[1;33m,\u001b[0m \u001b[0mb\u001b[0m\u001b[1;33m)\u001b[0m\u001b[1;33m\u001b[0m\u001b[1;33m\u001b[0m\u001b[0m\n\u001b[0m\u001b[0;32m     70\u001b[0m \u001b[1;33m\u001b[0m\u001b[0m\n",
      "\u001b[1;31mTypeError\u001b[0m: unsupported operand type(s) for +: 'float' and 'str'",
      "\nDuring handling of the above exception, another exception occurred:\n",
      "\u001b[1;31mTypeError\u001b[0m                                 Traceback (most recent call last)",
      "\u001b[1;32m~\\AppData\\Local\\Temp/ipykernel_6060/3985640874.py\u001b[0m in \u001b[0;36m<module>\u001b[1;34m\u001b[0m\n\u001b[0;32m      6\u001b[0m \u001b[0ms1\u001b[0m \u001b[1;33m=\u001b[0m \u001b[0mpd\u001b[0m\u001b[1;33m.\u001b[0m\u001b[0mSeries\u001b[0m\u001b[1;33m(\u001b[0m\u001b[0mdata1\u001b[0m\u001b[1;33m,\u001b[0m \u001b[0mheader1\u001b[0m\u001b[1;33m)\u001b[0m\u001b[1;33m\u001b[0m\u001b[1;33m\u001b[0m\u001b[0m\n\u001b[0;32m      7\u001b[0m \u001b[0ms2\u001b[0m \u001b[1;33m=\u001b[0m \u001b[0mpd\u001b[0m\u001b[1;33m.\u001b[0m\u001b[0mSeries\u001b[0m\u001b[1;33m(\u001b[0m\u001b[0mdata2\u001b[0m\u001b[1;33m,\u001b[0m \u001b[0mheader2\u001b[0m\u001b[1;33m)\u001b[0m\u001b[1;33m\u001b[0m\u001b[1;33m\u001b[0m\u001b[0m\n\u001b[1;32m----> 8\u001b[1;33m \u001b[0ms1\u001b[0m\u001b[1;33m+\u001b[0m\u001b[0ms2\u001b[0m\u001b[1;33m\u001b[0m\u001b[1;33m\u001b[0m\u001b[0m\n\u001b[0m",
      "\u001b[1;32mC:\\ProgramData\\Anaconda3\\lib\\site-packages\\pandas\\core\\ops\\common.py\u001b[0m in \u001b[0;36mnew_method\u001b[1;34m(self, other)\u001b[0m\n\u001b[0;32m     67\u001b[0m         \u001b[0mother\u001b[0m \u001b[1;33m=\u001b[0m \u001b[0mitem_from_zerodim\u001b[0m\u001b[1;33m(\u001b[0m\u001b[0mother\u001b[0m\u001b[1;33m)\u001b[0m\u001b[1;33m\u001b[0m\u001b[1;33m\u001b[0m\u001b[0m\n\u001b[0;32m     68\u001b[0m \u001b[1;33m\u001b[0m\u001b[0m\n\u001b[1;32m---> 69\u001b[1;33m         \u001b[1;32mreturn\u001b[0m \u001b[0mmethod\u001b[0m\u001b[1;33m(\u001b[0m\u001b[0mself\u001b[0m\u001b[1;33m,\u001b[0m \u001b[0mother\u001b[0m\u001b[1;33m)\u001b[0m\u001b[1;33m\u001b[0m\u001b[1;33m\u001b[0m\u001b[0m\n\u001b[0m\u001b[0;32m     70\u001b[0m \u001b[1;33m\u001b[0m\u001b[0m\n\u001b[0;32m     71\u001b[0m     \u001b[1;32mreturn\u001b[0m \u001b[0mnew_method\u001b[0m\u001b[1;33m\u001b[0m\u001b[1;33m\u001b[0m\u001b[0m\n",
      "\u001b[1;32mC:\\ProgramData\\Anaconda3\\lib\\site-packages\\pandas\\core\\arraylike.py\u001b[0m in \u001b[0;36m__add__\u001b[1;34m(self, other)\u001b[0m\n\u001b[0;32m     90\u001b[0m     \u001b[1;33m@\u001b[0m\u001b[0munpack_zerodim_and_defer\u001b[0m\u001b[1;33m(\u001b[0m\u001b[1;34m\"__add__\"\u001b[0m\u001b[1;33m)\u001b[0m\u001b[1;33m\u001b[0m\u001b[1;33m\u001b[0m\u001b[0m\n\u001b[0;32m     91\u001b[0m     \u001b[1;32mdef\u001b[0m \u001b[0m__add__\u001b[0m\u001b[1;33m(\u001b[0m\u001b[0mself\u001b[0m\u001b[1;33m,\u001b[0m \u001b[0mother\u001b[0m\u001b[1;33m)\u001b[0m\u001b[1;33m:\u001b[0m\u001b[1;33m\u001b[0m\u001b[1;33m\u001b[0m\u001b[0m\n\u001b[1;32m---> 92\u001b[1;33m         \u001b[1;32mreturn\u001b[0m \u001b[0mself\u001b[0m\u001b[1;33m.\u001b[0m\u001b[0m_arith_method\u001b[0m\u001b[1;33m(\u001b[0m\u001b[0mother\u001b[0m\u001b[1;33m,\u001b[0m \u001b[0moperator\u001b[0m\u001b[1;33m.\u001b[0m\u001b[0madd\u001b[0m\u001b[1;33m)\u001b[0m\u001b[1;33m\u001b[0m\u001b[1;33m\u001b[0m\u001b[0m\n\u001b[0m\u001b[0;32m     93\u001b[0m \u001b[1;33m\u001b[0m\u001b[0m\n\u001b[0;32m     94\u001b[0m     \u001b[1;33m@\u001b[0m\u001b[0munpack_zerodim_and_defer\u001b[0m\u001b[1;33m(\u001b[0m\u001b[1;34m\"__radd__\"\u001b[0m\u001b[1;33m)\u001b[0m\u001b[1;33m\u001b[0m\u001b[1;33m\u001b[0m\u001b[0m\n",
      "\u001b[1;32mC:\\ProgramData\\Anaconda3\\lib\\site-packages\\pandas\\core\\series.py\u001b[0m in \u001b[0;36m_arith_method\u001b[1;34m(self, other, op)\u001b[0m\n\u001b[0;32m   5524\u001b[0m \u001b[1;33m\u001b[0m\u001b[0m\n\u001b[0;32m   5525\u001b[0m         \u001b[1;32mwith\u001b[0m \u001b[0mnp\u001b[0m\u001b[1;33m.\u001b[0m\u001b[0merrstate\u001b[0m\u001b[1;33m(\u001b[0m\u001b[0mall\u001b[0m\u001b[1;33m=\u001b[0m\u001b[1;34m\"ignore\"\u001b[0m\u001b[1;33m)\u001b[0m\u001b[1;33m:\u001b[0m\u001b[1;33m\u001b[0m\u001b[1;33m\u001b[0m\u001b[0m\n\u001b[1;32m-> 5526\u001b[1;33m             \u001b[0mresult\u001b[0m \u001b[1;33m=\u001b[0m \u001b[0mops\u001b[0m\u001b[1;33m.\u001b[0m\u001b[0marithmetic_op\u001b[0m\u001b[1;33m(\u001b[0m\u001b[0mlvalues\u001b[0m\u001b[1;33m,\u001b[0m \u001b[0mrvalues\u001b[0m\u001b[1;33m,\u001b[0m \u001b[0mop\u001b[0m\u001b[1;33m)\u001b[0m\u001b[1;33m\u001b[0m\u001b[1;33m\u001b[0m\u001b[0m\n\u001b[0m\u001b[0;32m   5527\u001b[0m \u001b[1;33m\u001b[0m\u001b[0m\n\u001b[0;32m   5528\u001b[0m         \u001b[1;32mreturn\u001b[0m \u001b[0mself\u001b[0m\u001b[1;33m.\u001b[0m\u001b[0m_construct_result\u001b[0m\u001b[1;33m(\u001b[0m\u001b[0mresult\u001b[0m\u001b[1;33m,\u001b[0m \u001b[0mname\u001b[0m\u001b[1;33m=\u001b[0m\u001b[0mres_name\u001b[0m\u001b[1;33m)\u001b[0m\u001b[1;33m\u001b[0m\u001b[1;33m\u001b[0m\u001b[0m\n",
      "\u001b[1;32mC:\\ProgramData\\Anaconda3\\lib\\site-packages\\pandas\\core\\ops\\array_ops.py\u001b[0m in \u001b[0;36marithmetic_op\u001b[1;34m(left, right, op)\u001b[0m\n\u001b[0;32m    222\u001b[0m         \u001b[0m_bool_arith_check\u001b[0m\u001b[1;33m(\u001b[0m\u001b[0mop\u001b[0m\u001b[1;33m,\u001b[0m \u001b[0mleft\u001b[0m\u001b[1;33m,\u001b[0m \u001b[0mright\u001b[0m\u001b[1;33m)\u001b[0m\u001b[1;33m\u001b[0m\u001b[1;33m\u001b[0m\u001b[0m\n\u001b[0;32m    223\u001b[0m \u001b[1;33m\u001b[0m\u001b[0m\n\u001b[1;32m--> 224\u001b[1;33m         \u001b[0mres_values\u001b[0m \u001b[1;33m=\u001b[0m \u001b[0m_na_arithmetic_op\u001b[0m\u001b[1;33m(\u001b[0m\u001b[0mleft\u001b[0m\u001b[1;33m,\u001b[0m \u001b[0mright\u001b[0m\u001b[1;33m,\u001b[0m \u001b[0mop\u001b[0m\u001b[1;33m)\u001b[0m\u001b[1;33m\u001b[0m\u001b[1;33m\u001b[0m\u001b[0m\n\u001b[0m\u001b[0;32m    225\u001b[0m \u001b[1;33m\u001b[0m\u001b[0m\n\u001b[0;32m    226\u001b[0m     \u001b[1;32mreturn\u001b[0m \u001b[0mres_values\u001b[0m\u001b[1;33m\u001b[0m\u001b[1;33m\u001b[0m\u001b[0m\n",
      "\u001b[1;32mC:\\ProgramData\\Anaconda3\\lib\\site-packages\\pandas\\core\\ops\\array_ops.py\u001b[0m in \u001b[0;36m_na_arithmetic_op\u001b[1;34m(left, right, op, is_cmp)\u001b[0m\n\u001b[0;32m    171\u001b[0m             \u001b[1;31m# Don't do this for comparisons, as that will handle complex numbers\u001b[0m\u001b[1;33m\u001b[0m\u001b[1;33m\u001b[0m\u001b[1;33m\u001b[0m\u001b[0m\n\u001b[0;32m    172\u001b[0m             \u001b[1;31m#  incorrectly, see GH#32047\u001b[0m\u001b[1;33m\u001b[0m\u001b[1;33m\u001b[0m\u001b[1;33m\u001b[0m\u001b[0m\n\u001b[1;32m--> 173\u001b[1;33m             \u001b[0mresult\u001b[0m \u001b[1;33m=\u001b[0m \u001b[0m_masked_arith_op\u001b[0m\u001b[1;33m(\u001b[0m\u001b[0mleft\u001b[0m\u001b[1;33m,\u001b[0m \u001b[0mright\u001b[0m\u001b[1;33m,\u001b[0m \u001b[0mop\u001b[0m\u001b[1;33m)\u001b[0m\u001b[1;33m\u001b[0m\u001b[1;33m\u001b[0m\u001b[0m\n\u001b[0m\u001b[0;32m    174\u001b[0m         \u001b[1;32melse\u001b[0m\u001b[1;33m:\u001b[0m\u001b[1;33m\u001b[0m\u001b[1;33m\u001b[0m\u001b[0m\n\u001b[0;32m    175\u001b[0m             \u001b[1;32mraise\u001b[0m\u001b[1;33m\u001b[0m\u001b[1;33m\u001b[0m\u001b[0m\n",
      "\u001b[1;32mC:\\ProgramData\\Anaconda3\\lib\\site-packages\\pandas\\core\\ops\\array_ops.py\u001b[0m in \u001b[0;36m_masked_arith_op\u001b[1;34m(x, y, op)\u001b[0m\n\u001b[0;32m    110\u001b[0m         \u001b[1;31m# See GH#5284, GH#5035, GH#19448 for historical reference\u001b[0m\u001b[1;33m\u001b[0m\u001b[1;33m\u001b[0m\u001b[1;33m\u001b[0m\u001b[0m\n\u001b[0;32m    111\u001b[0m         \u001b[1;32mif\u001b[0m \u001b[0mmask\u001b[0m\u001b[1;33m.\u001b[0m\u001b[0many\u001b[0m\u001b[1;33m(\u001b[0m\u001b[1;33m)\u001b[0m\u001b[1;33m:\u001b[0m\u001b[1;33m\u001b[0m\u001b[1;33m\u001b[0m\u001b[0m\n\u001b[1;32m--> 112\u001b[1;33m             \u001b[0mresult\u001b[0m\u001b[1;33m[\u001b[0m\u001b[0mmask\u001b[0m\u001b[1;33m]\u001b[0m \u001b[1;33m=\u001b[0m \u001b[0mop\u001b[0m\u001b[1;33m(\u001b[0m\u001b[0mxrav\u001b[0m\u001b[1;33m[\u001b[0m\u001b[0mmask\u001b[0m\u001b[1;33m]\u001b[0m\u001b[1;33m,\u001b[0m \u001b[0myrav\u001b[0m\u001b[1;33m[\u001b[0m\u001b[0mmask\u001b[0m\u001b[1;33m]\u001b[0m\u001b[1;33m)\u001b[0m\u001b[1;33m\u001b[0m\u001b[1;33m\u001b[0m\u001b[0m\n\u001b[0m\u001b[0;32m    113\u001b[0m \u001b[1;33m\u001b[0m\u001b[0m\n\u001b[0;32m    114\u001b[0m     \u001b[1;32melse\u001b[0m\u001b[1;33m:\u001b[0m\u001b[1;33m\u001b[0m\u001b[1;33m\u001b[0m\u001b[0m\n",
      "\u001b[1;31mTypeError\u001b[0m: unsupported operand type(s) for +: 'float' and 'str'"
     ]
    }
   ],
   "source": [
    "header1 = ['chrom', 'pos', 'filter']\n",
    "data1 = [4, 12345, 38.4]\n",
    "header2 = ['chrom', 'pos', 'filter', 'qual']\n",
    "data2 = ['3', 4899, 234, 89.9]\n",
    "\n",
    "s1 = pd.Series(data1, header1)\n",
    "s2 = pd.Series(data2, header2)\n",
    "s1+s2 "
   ]
  },
  {
   "cell_type": "code",
   "execution_count": 210,
   "id": "ce4578b7",
   "metadata": {},
   "outputs": [
    {
     "data": {
      "text/plain": [
       "0        7.0\n",
       "1    17244.0\n",
       "2      272.4\n",
       "3        NaN\n",
       "dtype: float64"
      ]
     },
     "execution_count": 210,
     "metadata": {},
     "output_type": "execute_result"
    }
   ],
   "source": [
    "data1 = [4, 12345, 38.4]\n",
    "data2 = [3, 4899, 234, 89.9]\n",
    "\n",
    "s1 = pd.Series(data1)\n",
    "s2 = pd.Series(data2)\n",
    "s1 + s2"
   ]
  },
  {
   "cell_type": "code",
   "execution_count": 211,
   "id": "9082d0f2",
   "metadata": {},
   "outputs": [
    {
     "data": {
      "text/plain": [
       "chrom         7.0\n",
       "filter      272.4\n",
       "pos       17244.0\n",
       "qual          NaN\n",
       "dtype: float64"
      ]
     },
     "execution_count": 211,
     "metadata": {},
     "output_type": "execute_result"
    }
   ],
   "source": [
    "header1 = ['pos', 'filter', 'chrom']\n",
    "data1 = [12345, 38.4, 4]\n",
    "header2 = ['chrom', 'pos', 'filter', 'qual']\n",
    "data2 = [3, 4899, 234, 89.9]\n",
    "\n",
    "s1 = pd.Series(data1, header1)\n",
    "s2 = pd.Series(data2, header2)\n",
    "s1+s2 "
   ]
  },
  {
   "cell_type": "code",
   "execution_count": 212,
   "id": "6d100335",
   "metadata": {},
   "outputs": [
    {
     "data": {
      "text/plain": [
       "pos       12345.0\n",
       "filter       38.4\n",
       "chrom         4.0\n",
       "dtype: float64"
      ]
     },
     "execution_count": 212,
     "metadata": {},
     "output_type": "execute_result"
    }
   ],
   "source": [
    "s1"
   ]
  },
  {
   "cell_type": "code",
   "execution_count": 213,
   "id": "70ee9be1",
   "metadata": {},
   "outputs": [
    {
     "data": {
      "text/plain": [
       "chrom        3.0\n",
       "pos       4899.0\n",
       "filter     234.0\n",
       "qual        89.9\n",
       "dtype: float64"
      ]
     },
     "execution_count": 213,
     "metadata": {},
     "output_type": "execute_result"
    }
   ],
   "source": [
    "s2"
   ]
  },
  {
   "cell_type": "code",
   "execution_count": null,
   "id": "7102aad5",
   "metadata": {},
   "outputs": [],
   "source": []
  }
 ],
 "metadata": {
  "kernelspec": {
   "display_name": "Python 3 (ipykernel)",
   "language": "python",
   "name": "python3"
  },
  "language_info": {
   "codemirror_mode": {
    "name": "ipython",
    "version": 3
   },
   "file_extension": ".py",
   "mimetype": "text/x-python",
   "name": "python",
   "nbconvert_exporter": "python",
   "pygments_lexer": "ipython3",
   "version": "3.8.12"
  }
 },
 "nbformat": 4,
 "nbformat_minor": 5
}
