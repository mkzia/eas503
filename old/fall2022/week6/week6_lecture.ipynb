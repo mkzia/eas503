{
 "cells": [
  {
   "cell_type": "markdown",
   "id": "97a5185a",
   "metadata": {},
   "source": [
    "https://book.pythontips.com/en/latest/for_-_else.html"
   ]
  },
  {
   "cell_type": "code",
   "execution_count": 5,
   "id": "42a90e0e",
   "metadata": {},
   "outputs": [
    {
     "name": "stdout",
     "output_type": "stream",
     "text": [
      "[0, 1, 2, 3, 4, 6, 7, 8, 9]\n",
      "9\n"
     ]
    },
    {
     "ename": "IndexError",
     "evalue": "list index out of range",
     "output_type": "error",
     "traceback": [
      "\u001b[1;31m---------------------------------------------------------------------------\u001b[0m",
      "\u001b[1;31mIndexError\u001b[0m                                Traceback (most recent call last)",
      "\u001b[1;32m~\\AppData\\Local\\Temp/ipykernel_24868/2626868488.py\u001b[0m in \u001b[0;36m<module>\u001b[1;34m\u001b[0m\n\u001b[0;32m      5\u001b[0m \u001b[0mprint\u001b[0m\u001b[1;33m(\u001b[0m\u001b[0mls\u001b[0m\u001b[1;33m)\u001b[0m\u001b[1;33m\u001b[0m\u001b[1;33m\u001b[0m\u001b[0m\n\u001b[0;32m      6\u001b[0m \u001b[0mprint\u001b[0m\u001b[1;33m(\u001b[0m\u001b[0mlen\u001b[0m\u001b[1;33m(\u001b[0m\u001b[0mls\u001b[0m\u001b[1;33m)\u001b[0m\u001b[1;33m)\u001b[0m\u001b[1;33m\u001b[0m\u001b[1;33m\u001b[0m\u001b[0m\n\u001b[1;32m----> 7\u001b[1;33m \u001b[0mls\u001b[0m\u001b[1;33m[\u001b[0m\u001b[1;36m9\u001b[0m\u001b[1;33m]\u001b[0m\u001b[1;33m\u001b[0m\u001b[1;33m\u001b[0m\u001b[0m\n\u001b[0m",
      "\u001b[1;31mIndexError\u001b[0m: list index out of range"
     ]
    }
   ],
   "source": [
    "ls = list(range(10))\n",
    "for i in range(10):\n",
    "    if i == 5:\n",
    "        del ls[5]\n",
    "print(ls)\n",
    "print(len(ls))\n",
    "ls[9]"
   ]
  },
  {
   "cell_type": "code",
   "execution_count": 20,
   "id": "d6eacebf",
   "metadata": {},
   "outputs": [
    {
     "data": {
      "text/plain": [
       "['S', 'P', 'A', 'M']"
      ]
     },
     "execution_count": 20,
     "metadata": {},
     "output_type": "execute_result"
    }
   ],
   "source": [
    "def intersect(*args):\n",
    "    res = []\n",
    "    for x in args[0]:                  # scan first sequence\n",
    "        for other in args[1:]:         # for all other args\n",
    "            if x not in other: \n",
    "                break   # item in each one?\n",
    "        else:                          # no:  break out of loop\n",
    "            res.append(x)              # yes: add items to end\n",
    "    return res\n",
    "\n",
    "s1, s2, s3, s4 = \"SPAM\", \"SCAM\", \"SLAM\", \"SHAM\"\n",
    "intersect(s1)\n",
    "# args[0] == SPAM\n",
    "# x == S\n",
    "# other == SCAM -- \n",
    "# Oother == SLAM -- \n",
    "\n",
    "# x == P\n",
    "# P in SCAM ## break\n",
    "\n",
    "# x == A\n",
    "# A in SCAM\n",
    "# A in SLAM\n",
    "\n",
    "# x == M\n",
    "# M in SCAM\n",
    "# M in SLAM"
   ]
  },
  {
   "cell_type": "code",
   "execution_count": 7,
   "id": "34d646dc",
   "metadata": {},
   "outputs": [
    {
     "data": {
      "text/plain": [
       "['S', 'A', 'M']"
      ]
     },
     "execution_count": 7,
     "metadata": {},
     "output_type": "execute_result"
    }
   ],
   "source": [
    "intersect(s1, s2, s3)"
   ]
  },
  {
   "cell_type": "code",
   "execution_count": 8,
   "id": "c35660d2",
   "metadata": {},
   "outputs": [
    {
     "name": "stdout",
     "output_type": "stream",
     "text": [
      "0\n",
      "1\n",
      "2\n",
      "3\n",
      "4\n",
      "5\n",
      "6\n",
      "7\n",
      "8\n",
      "9\n",
      "No error\n"
     ]
    }
   ],
   "source": [
    "for x in range(10):\n",
    "    print(x)   \n",
    "else:\n",
    "    print('No error')"
   ]
  },
  {
   "cell_type": "code",
   "execution_count": 14,
   "id": "86a30cd5",
   "metadata": {},
   "outputs": [
    {
     "name": "stdout",
     "output_type": "stream",
     "text": [
      "0\n",
      "1\n",
      "2\n",
      "3\n",
      "4\n",
      "6\n",
      "7\n",
      "8\n",
      "9\n",
      "No error\n"
     ]
    }
   ],
   "source": [
    "for x in range(10):\n",
    "    if x == 5:\n",
    "#         break\n",
    "        pass\n",
    "    else:\n",
    "        print(x)\n",
    "else:\n",
    "    print('No error')"
   ]
  },
  {
   "cell_type": "code",
   "execution_count": 16,
   "id": "6d45eea6",
   "metadata": {},
   "outputs": [
    {
     "name": "stdout",
     "output_type": "stream",
     "text": [
      "0\n",
      "1\n",
      "2\n",
      "3\n",
      "4\n",
      "No error\n"
     ]
    }
   ],
   "source": [
    "for x in range(10):\n",
    "    if x == 5:\n",
    "        break      \n",
    "    else:\n",
    "        print(x)\n",
    "print('No error')"
   ]
  },
  {
   "cell_type": "code",
   "execution_count": 18,
   "id": "4c7c7530",
   "metadata": {},
   "outputs": [
    {
     "name": "stdout",
     "output_type": "stream",
     "text": [
      "0\n",
      "1\n",
      "2\n",
      "3\n",
      "4\n",
      "6\n",
      "7\n",
      "8\n",
      "9\n",
      "No error\n"
     ]
    }
   ],
   "source": [
    "for x in range(10):\n",
    "    if x == 5:\n",
    "        pass      \n",
    "    else:\n",
    "        print(x)\n",
    "else:\n",
    "    print('No error')"
   ]
  },
  {
   "cell_type": "code",
   "execution_count": 21,
   "id": "c427d7d9",
   "metadata": {},
   "outputs": [],
   "source": [
    "x = list(range(3))"
   ]
  },
  {
   "cell_type": "code",
   "execution_count": 23,
   "id": "364cd8cf",
   "metadata": {},
   "outputs": [],
   "source": [
    "for e in x[3000:]:\n",
    "    print(e)"
   ]
  },
  {
   "cell_type": "code",
   "execution_count": 24,
   "id": "6618e2e1",
   "metadata": {},
   "outputs": [],
   "source": [
    "for e in []:\n",
    "    print(e)"
   ]
  },
  {
   "cell_type": "code",
   "execution_count": 25,
   "id": "ffa5e589",
   "metadata": {},
   "outputs": [
    {
     "data": {
      "text/plain": [
       "[]"
      ]
     },
     "execution_count": 25,
     "metadata": {},
     "output_type": "execute_result"
    }
   ],
   "source": [
    "x[3000:]"
   ]
  },
  {
   "cell_type": "code",
   "execution_count": 28,
   "id": "bef316fc",
   "metadata": {},
   "outputs": [],
   "source": [
    "a, *b = 1, 2, 3, 4, 5 "
   ]
  },
  {
   "cell_type": "code",
   "execution_count": 29,
   "id": "4fc008db",
   "metadata": {},
   "outputs": [
    {
     "name": "stdout",
     "output_type": "stream",
     "text": [
      "1 [2, 3, 4, 5]\n"
     ]
    }
   ],
   "source": [
    "print(a, b)"
   ]
  },
  {
   "cell_type": "code",
   "execution_count": null,
   "id": "f9c4e241",
   "metadata": {},
   "outputs": [],
   "source": [
    "(s1, s2, s3, s4) ==> (*args) ==> args = [s1, s2, s3, s4]\n",
    "*args = s1, s2, s3, s4"
   ]
  },
  {
   "cell_type": "code",
   "execution_count": 30,
   "id": "e019e24d",
   "metadata": {},
   "outputs": [],
   "source": [
    "x = 3\n"
   ]
  },
  {
   "cell_type": "code",
   "execution_count": 31,
   "id": "bfd598f3",
   "metadata": {},
   "outputs": [
    {
     "data": {
      "text/plain": [
       "140727280541632"
      ]
     },
     "execution_count": 31,
     "metadata": {},
     "output_type": "execute_result"
    }
   ],
   "source": [
    "x = 7\n",
    "id(x)"
   ]
  },
  {
   "cell_type": "code",
   "execution_count": 32,
   "id": "8a9065c4",
   "metadata": {},
   "outputs": [
    {
     "name": "stdout",
     "output_type": "stream",
     "text": [
      "id(number): 140727280541632\n"
     ]
    },
    {
     "data": {
      "text/plain": [
       "343"
      ]
     },
     "execution_count": 32,
     "metadata": {},
     "output_type": "execute_result"
    }
   ],
   "source": [
    "def cube(number):\n",
    "    print('id(number):', id(number))\n",
    "    return number ** 3\n",
    "\n",
    "cube(x)"
   ]
  },
  {
   "cell_type": "code",
   "execution_count": 33,
   "id": "2a07996d",
   "metadata": {},
   "outputs": [
    {
     "name": "stdout",
     "output_type": "stream",
     "text": [
      "number is x: True\n"
     ]
    },
    {
     "data": {
      "text/plain": [
       "343"
      ]
     },
     "execution_count": 33,
     "metadata": {},
     "output_type": "execute_result"
    }
   ],
   "source": [
    "def cube(number):\n",
    "    print('number is x:', number is x) ## The Python's is operator returns True if its two operands have the same identify\n",
    "    return number ** 3\n",
    "\n",
    "cube(x)"
   ]
  },
  {
   "cell_type": "code",
   "execution_count": 36,
   "id": "5bde9b21",
   "metadata": {},
   "outputs": [
    {
     "name": "stdout",
     "output_type": "stream",
     "text": [
      "id(number) before modifying number: 140727280541632\n",
      "id(number) after modifying number: 1377786868656\n",
      "outside: 140727280541632\n"
     ]
    }
   ],
   "source": [
    "def cube(number):\n",
    "    print('id(number) before modifying number:', id(number))\n",
    "    number **=3\n",
    "    print('id(number) after modifying number:', id(number))\n",
    "    return number ** 3\n",
    "\n",
    "cube(x)\n",
    "print('outside:', id(x))"
   ]
  },
  {
   "cell_type": "code",
   "execution_count": 39,
   "id": "28d649ad",
   "metadata": {},
   "outputs": [
    {
     "name": "stdout",
     "output_type": "stream",
     "text": [
      "[6, 7, 8]\n",
      "140727280541632\n",
      "id(lst) before modifying list: 1377769672256\n",
      "id(lst) after modifying list: 1377769672256\n",
      "[6, 3, 8]\n"
     ]
    }
   ],
   "source": [
    "def cube_list(lst):\n",
    "    print('id(lst) before modifying list:', id(lst))\n",
    "    lst[1] = 3\n",
    "    print('id(lst) after modifying list:', id(lst))\n",
    "    return lst\n",
    "x_lst = [6, 7, 8]\n",
    "print(x_lst)\n",
    "print(id(x_lst[1]))\n",
    "cube_list(x_lst)\n",
    "print(x_lst)"
   ]
  },
  {
   "cell_type": "code",
   "execution_count": 40,
   "id": "76816919",
   "metadata": {},
   "outputs": [],
   "source": [
    "variable = 'Global reporting!'\n",
    "\n",
    "\n",
    "def use_variable_global():\n",
    "    ## since variable is outside the function\n",
    "    print(variable)\n",
    "\n",
    "\n",
    "def use_variable_local():\n",
    "    variable = 'Local reporting!'\n",
    "    print(variable)\n",
    "\n",
    "# def use_variable_global():\n",
    "\n",
    "def change_global_inside_function():\n",
    "    global variable\n",
    "    variable = 'I have been changed!'\n",
    "    print(variable)"
   ]
  },
  {
   "cell_type": "code",
   "execution_count": 41,
   "id": "951ab42d",
   "metadata": {},
   "outputs": [
    {
     "name": "stdout",
     "output_type": "stream",
     "text": [
      "Global reporting!\n",
      "Global reporting!\n",
      "Local reporting!\n",
      "Global reporting!\n",
      "I have been changed!\n",
      "I have been changed!\n"
     ]
    }
   ],
   "source": [
    "print(variable) # 'Global reporting!'\n",
    "use_variable_global()  # 'Global reporting!'\n",
    "use_variable_local() # 'Local reporting!'\n",
    "print(variable) # 'Global reporting!'\n",
    "change_global_inside_function() # 'I have been changed!'\n",
    "print(variable) # 'I have been changed!'"
   ]
  },
  {
   "cell_type": "code",
   "execution_count": null,
   "id": "b9c57ab0",
   "metadata": {},
   "outputs": [],
   "source": [
    "my_list = [1, 2, 3, 4]\n",
    "my_variable = 5\n",
    "\n",
    "\n",
    "def function1(my_list, my_variable):\n",
    "\tprint('my_list before change inside function1', my_list)\n",
    "\tprint('my_variable before change inside function1', my_variable)\n",
    "\tmy_list.append(30)\n",
    "\tmy_variable = 10\n",
    "\n",
    "\tprint('my_list after change inside function1', my_list)\n",
    "\tprint('my_variable after change inside function1', my_variable)\n",
    "\n",
    "\n",
    "def function2(my_list, my_vairable):\n",
    "\t# https://stackoverflow.com/questions/2612802/how-to-clone-or-copy-a-list\n",
    "\n",
    "\tmy_list = my_list[:]\n",
    "\tmy_list.append(90)\n",
    "\tmy_variable = 45\n",
    "\n",
    "\tprint('my_list after change inside function2', my_list)\n",
    "\tprint('my_variable after change inside function2', my_variable)\n",
    "\n",
    "\n",
    "\n",
    "def function3():\n",
    "\tmy_list = [1, 2, 3, 4]\n",
    "\tmy_variable = function2(my_list, my_vairable):\n",
    "\t# https://stackoverflow.com/questions/2612802/how-to-clone-or-copy-a-list\n",
    "\n",
    "\tmy_list = my_list[:]\n",
    "\tmy_list.append(90)\n",
    "\tmy_variable = 45\n",
    "\n",
    "\tprint('my_list after change inside function2', my_list)\n",
    "\tprint('my_variable after change inside function2', my_variable)\n",
    "\n",
    "\tfunction1(my_list, my_variable)\n",
    "\n",
    "\tprint('my_list after change1 inside function3', my_list)\n",
    "\tprint('my_variable after change1 inside function3', my_variable)\n",
    "\n",
    "\tfunction2(my_list, my_variable)\n",
    "\n",
    "\n",
    "\tprint('my_list after change2 inside function3', my_list)\n",
    "\tprint('my_variable after change2 inside function3', my_variable)\n",
    "\n",
    "function3()"
   ]
  },
  {
   "cell_type": "code",
   "execution_count": 43,
   "id": "2255a8a2",
   "metadata": {},
   "outputs": [
    {
     "name": "stdout",
     "output_type": "stream",
     "text": [
      "my_list before change inside function1 [1, 2, 3, 4]\n",
      "my_variable before change inside function1 5\n",
      "my_list after change inside function1 [1, 2, 3, 4, 30]\n",
      "my_variable after change inside function1 10\n"
     ]
    }
   ],
   "source": [
    "my_list = [1, 2, 3, 4]\n",
    "my_variable = 5\n",
    "\n",
    "\n",
    "def function1(my_list, my_variable):\n",
    "\tprint('my_list before change inside function1', my_list)\n",
    "\tprint('my_variable before change inside function1', my_variable)\n",
    "\tmy_list.append(30)\n",
    "\tmy_variable = 10\n",
    "\n",
    "\tprint('my_list after change inside function1', my_list)\n",
    "\tprint('my_variable after change inside function1', my_variable)\n",
    "    \n",
    "function1(my_list, my_variable)"
   ]
  },
  {
   "cell_type": "code",
   "execution_count": 44,
   "id": "113c5f78",
   "metadata": {},
   "outputs": [
    {
     "name": "stdout",
     "output_type": "stream",
     "text": [
      "[1, 2, 3, 4, 30] 5\n"
     ]
    }
   ],
   "source": [
    "print(my_list, my_variable)"
   ]
  },
  {
   "cell_type": "code",
   "execution_count": 45,
   "id": "ac156932",
   "metadata": {},
   "outputs": [
    {
     "name": "stdout",
     "output_type": "stream",
     "text": [
      "my_list before change inside function1 (1, 2, 3, 4)\n",
      "my_variable before change inside function1 5\n"
     ]
    },
    {
     "ename": "AttributeError",
     "evalue": "'tuple' object has no attribute 'append'",
     "output_type": "error",
     "traceback": [
      "\u001b[1;31m---------------------------------------------------------------------------\u001b[0m",
      "\u001b[1;31mAttributeError\u001b[0m                            Traceback (most recent call last)",
      "\u001b[1;32m~\\AppData\\Local\\Temp/ipykernel_24868/1186329864.py\u001b[0m in \u001b[0;36m<module>\u001b[1;34m\u001b[0m\n\u001b[0;32m     12\u001b[0m         \u001b[0mprint\u001b[0m\u001b[1;33m(\u001b[0m\u001b[1;34m'my_variable after change inside function1'\u001b[0m\u001b[1;33m,\u001b[0m \u001b[0mmy_variable\u001b[0m\u001b[1;33m)\u001b[0m\u001b[1;33m\u001b[0m\u001b[1;33m\u001b[0m\u001b[0m\n\u001b[0;32m     13\u001b[0m \u001b[1;33m\u001b[0m\u001b[0m\n\u001b[1;32m---> 14\u001b[1;33m \u001b[0mfunction1\u001b[0m\u001b[1;33m(\u001b[0m\u001b[0mmy_list\u001b[0m\u001b[1;33m,\u001b[0m \u001b[0mmy_variable\u001b[0m\u001b[1;33m)\u001b[0m\u001b[1;33m\u001b[0m\u001b[1;33m\u001b[0m\u001b[0m\n\u001b[0m",
      "\u001b[1;32m~\\AppData\\Local\\Temp/ipykernel_24868/1186329864.py\u001b[0m in \u001b[0;36mfunction1\u001b[1;34m(my_list, my_variable)\u001b[0m\n\u001b[0;32m      6\u001b[0m         \u001b[0mprint\u001b[0m\u001b[1;33m(\u001b[0m\u001b[1;34m'my_list before change inside function1'\u001b[0m\u001b[1;33m,\u001b[0m \u001b[0mmy_list\u001b[0m\u001b[1;33m)\u001b[0m\u001b[1;33m\u001b[0m\u001b[1;33m\u001b[0m\u001b[0m\n\u001b[0;32m      7\u001b[0m         \u001b[0mprint\u001b[0m\u001b[1;33m(\u001b[0m\u001b[1;34m'my_variable before change inside function1'\u001b[0m\u001b[1;33m,\u001b[0m \u001b[0mmy_variable\u001b[0m\u001b[1;33m)\u001b[0m\u001b[1;33m\u001b[0m\u001b[1;33m\u001b[0m\u001b[0m\n\u001b[1;32m----> 8\u001b[1;33m         \u001b[0mmy_list\u001b[0m\u001b[1;33m.\u001b[0m\u001b[0mappend\u001b[0m\u001b[1;33m(\u001b[0m\u001b[1;36m30\u001b[0m\u001b[1;33m)\u001b[0m\u001b[1;33m\u001b[0m\u001b[1;33m\u001b[0m\u001b[0m\n\u001b[0m\u001b[0;32m      9\u001b[0m         \u001b[0mmy_variable\u001b[0m \u001b[1;33m=\u001b[0m \u001b[1;36m10\u001b[0m\u001b[1;33m\u001b[0m\u001b[1;33m\u001b[0m\u001b[0m\n\u001b[0;32m     10\u001b[0m \u001b[1;33m\u001b[0m\u001b[0m\n",
      "\u001b[1;31mAttributeError\u001b[0m: 'tuple' object has no attribute 'append'"
     ]
    }
   ],
   "source": [
    "my_list = (1, 2, 3, 4)\n",
    "my_variable = 5\n",
    "\n",
    "\n",
    "def function1(my_list, my_variable):\n",
    "\tprint('my_list before change inside function1', my_list)\n",
    "\tprint('my_variable before change inside function1', my_variable)\n",
    "\tmy_list.append(30)\n",
    "\tmy_variable = 10\n",
    "\n",
    "\tprint('my_list after change inside function1', my_list)\n",
    "\tprint('my_variable after change inside function1', my_variable)\n",
    "    \n",
    "function1(my_list, my_variable)"
   ]
  },
  {
   "cell_type": "code",
   "execution_count": 46,
   "id": "a09093d8",
   "metadata": {},
   "outputs": [
    {
     "data": {
      "text/plain": [
       "{3.14: 'PI'}"
      ]
     },
     "execution_count": 46,
     "metadata": {},
     "output_type": "execute_result"
    }
   ],
   "source": [
    "{3.14: 'PI'}"
   ]
  },
  {
   "cell_type": "code",
   "execution_count": 47,
   "id": "bf0e58f3",
   "metadata": {},
   "outputs": [
    {
     "ename": "TypeError",
     "evalue": "unhashable type: 'list'",
     "output_type": "error",
     "traceback": [
      "\u001b[1;31m---------------------------------------------------------------------------\u001b[0m",
      "\u001b[1;31mTypeError\u001b[0m                                 Traceback (most recent call last)",
      "\u001b[1;32m~\\AppData\\Local\\Temp/ipykernel_24868/3968725395.py\u001b[0m in \u001b[0;36m<module>\u001b[1;34m\u001b[0m\n\u001b[1;32m----> 1\u001b[1;33m \u001b[1;33m{\u001b[0m\u001b[1;33m[\u001b[0m\u001b[1;36m1\u001b[0m\u001b[1;33m,\u001b[0m \u001b[1;36m2\u001b[0m\u001b[1;33m]\u001b[0m\u001b[1;33m:\u001b[0m \u001b[1;34m'PI'\u001b[0m\u001b[1;33m}\u001b[0m\u001b[1;33m\u001b[0m\u001b[1;33m\u001b[0m\u001b[0m\n\u001b[0m",
      "\u001b[1;31mTypeError\u001b[0m: unhashable type: 'list'"
     ]
    }
   ],
   "source": [
    "x = [1,2]\n",
    "{x: 'PI'}\n",
    "x[1] = 3"
   ]
  },
  {
   "cell_type": "code",
   "execution_count": 48,
   "id": "5b5293ad",
   "metadata": {},
   "outputs": [
    {
     "data": {
      "text/plain": [
       "{(1, 2): 'PI'}"
      ]
     },
     "execution_count": 48,
     "metadata": {},
     "output_type": "execute_result"
    }
   ],
   "source": [
    "x = (1,2)\n",
    "{x: 'PI'}"
   ]
  },
  {
   "cell_type": "code",
   "execution_count": 51,
   "id": "603f16dc",
   "metadata": {},
   "outputs": [
    {
     "name": "stdout",
     "output_type": "stream",
     "text": [
      "my_list after change inside function2 [1, 2, 3, 4, 90]\n",
      "my_variable after change inside function2 45\n"
     ]
    }
   ],
   "source": [
    "def function2(my_list, my_variable):\n",
    "\t# https://stackoverflow.com/questions/2612802/how-to-clone-or-copy-a-list\n",
    "\n",
    "\tmy_list = my_list[:]\n",
    "\tmy_list.append(90)\n",
    "\tmy_variable = 45\n",
    "\n",
    "\tprint('my_list after change inside function2', my_list)\n",
    "\tprint('my_variable after change inside function2', my_variable)\n",
    "\n",
    "my_list = [1, 2, 3, 4]\n",
    "my_variable = 5\n",
    "function2(my_list, my_variable)"
   ]
  },
  {
   "cell_type": "code",
   "execution_count": 52,
   "id": "01debc80",
   "metadata": {},
   "outputs": [
    {
     "data": {
      "text/plain": [
       "[1, 2, 3, 4]"
      ]
     },
     "execution_count": 52,
     "metadata": {},
     "output_type": "execute_result"
    }
   ],
   "source": [
    "my_list.co"
   ]
  },
  {
   "cell_type": "code",
   "execution_count": 61,
   "id": "ecb8685d",
   "metadata": {},
   "outputs": [
    {
     "name": "stdout",
     "output_type": "stream",
     "text": [
      "my_list after change inside function2 [1, 7, 3, [4, 6], 90]\n",
      "my_variable after change inside function2 45\n",
      "[1, 2, 3, [4, 5]]\n"
     ]
    }
   ],
   "source": [
    "def function2_2(my_list, my_variable):\n",
    "    import copy\n",
    "    # https://stackoverflow.com/questions/2612802/how-to-clone-or-copy-a-list\n",
    "\n",
    "#     my_list = my_list.copy() # shallow\n",
    "#     my_list = my_list[:] # shallow\n",
    "    my_list = copy.deepcopy(my_list) # deep\n",
    "    my_list[3][1] = 6\n",
    "    my_list[1] = 7\n",
    "    my_list.append(90)\n",
    "    my_variable = 45\n",
    "\n",
    "    print('my_list after change inside function2', my_list)\n",
    "    print('my_variable after change inside function2', my_variable)\n",
    "\n",
    "my_list = [1, 2, 3, [4, 5]]\n",
    "my_variable = 5\n",
    "function2_2(my_list, my_variable)\n",
    "print(my_list)"
   ]
  },
  {
   "cell_type": "code",
   "execution_count": 62,
   "id": "4b8c3966",
   "metadata": {},
   "outputs": [
    {
     "ename": "AttributeError",
     "evalue": "'tuple' object has no attribute 'extend'",
     "output_type": "error",
     "traceback": [
      "\u001b[1;31m---------------------------------------------------------------------------\u001b[0m",
      "\u001b[1;31mAttributeError\u001b[0m                            Traceback (most recent call last)",
      "\u001b[1;32m~\\AppData\\Local\\Temp/ipykernel_24868/3198845597.py\u001b[0m in \u001b[0;36m<module>\u001b[1;34m\u001b[0m\n\u001b[0;32m      1\u001b[0m \u001b[0my\u001b[0m \u001b[1;33m=\u001b[0m \u001b[1;33m(\u001b[0m\u001b[1;36m1\u001b[0m\u001b[1;33m,\u001b[0m \u001b[1;36m2\u001b[0m\u001b[1;33m,\u001b[0m \u001b[1;36m3\u001b[0m\u001b[1;33m)\u001b[0m\u001b[1;33m\u001b[0m\u001b[1;33m\u001b[0m\u001b[0m\n\u001b[1;32m----> 2\u001b[1;33m \u001b[0my\u001b[0m\u001b[1;33m.\u001b[0m\u001b[0mextend\u001b[0m\u001b[1;33m(\u001b[0m\u001b[1;36m3\u001b[0m\u001b[1;33m)\u001b[0m\u001b[1;33m\u001b[0m\u001b[1;33m\u001b[0m\u001b[0m\n\u001b[0m",
      "\u001b[1;31mAttributeError\u001b[0m: 'tuple' object has no attribute 'extend'"
     ]
    }
   ],
   "source": [
    "y = (1, 2, 3)\n",
    "y.extend(3)"
   ]
  },
  {
   "cell_type": "code",
   "execution_count": 63,
   "id": "47144af5",
   "metadata": {},
   "outputs": [
    {
     "name": "stdout",
     "output_type": "stream",
     "text": [
      "1377787049920\n",
      "1377787025216\n",
      "my_list after change inside function2 [1, 7, 3, 4, 90]\n",
      "my_variable after change inside function2 45\n",
      "[1, 2, 3, 4]\n"
     ]
    }
   ],
   "source": [
    "def function2_2(my_list, my_variable):\n",
    "    import copy\n",
    "    # https://stackoverflow.com/questions/2612802/how-to-clone-or-copy-a-list\n",
    "    print(id(my_list))\n",
    "    my_list = my_list[:] # shallow\n",
    "    print(id(my_list))\n",
    "    my_list[1] = 7\n",
    "    my_list.append(90)\n",
    "    my_variable = 45\n",
    "\n",
    "    print('my_list after change inside function2', my_list)\n",
    "    print('my_variable after change inside function2', my_variable)\n",
    "\n",
    "my_list = [1, 2, 3, 4]\n",
    "my_variable = 5\n",
    "function2_2(my_list, my_variable)\n",
    "print(my_list)"
   ]
  },
  {
   "cell_type": "code",
   "execution_count": null,
   "id": "9d21787a",
   "metadata": {},
   "outputs": [],
   "source": [
    "l1 = [1,2,3]\n",
    "s = 5\n",
    "def d1(l1,s):\n",
    "    l2 = l1.copy().append(20)\n",
    "    print(l2)\n",
    "    print(l1)\n",
    "d1(l1,s)\n",
    "print(l1)\n"
   ]
  },
  {
   "cell_type": "code",
   "execution_count": 65,
   "id": "e26e56b4",
   "metadata": {},
   "outputs": [
    {
     "name": "stdout",
     "output_type": "stream",
     "text": [
      "1377796862288 1377796862576 1377796862320 False\n"
     ]
    }
   ],
   "source": [
    "x = 10000\n",
    "y = 10000\n",
    "print(id(10000), id(x), id(y), y is x )\n"
   ]
  },
  {
   "cell_type": "code",
   "execution_count": 70,
   "id": "c3e539f9",
   "metadata": {},
   "outputs": [
    {
     "name": "stdout",
     "output_type": "stream",
     "text": [
      "140727280541728 140727280549600 140727280549600 True\n"
     ]
    }
   ],
   "source": [
    "x = 256\n",
    "y = 256\n",
    "print(id(10), id(x), id(y), y is x )"
   ]
  },
  {
   "cell_type": "code",
   "execution_count": 73,
   "id": "c07f5bb2",
   "metadata": {},
   "outputs": [
    {
     "name": "stdout",
     "output_type": "stream",
     "text": [
      "id(number): 1377796862832\n",
      "45118016 140727280541504\n"
     ]
    }
   ],
   "source": [
    "x = 356\n",
    "def cube(number):\n",
    "    print('id(number):', id(number))\n",
    "    return number ** 3\n",
    "\n",
    "print(cube(x), id(3))"
   ]
  },
  {
   "cell_type": "code",
   "execution_count": 77,
   "id": "1766c444",
   "metadata": {},
   "outputs": [
    {
     "name": "stdout",
     "output_type": "stream",
     "text": [
      "[1, 2, 3, 20]\n",
      "[1, 2, 3]\n",
      "[1, 2, 3]\n"
     ]
    }
   ],
   "source": [
    "l1 = [1,2,3]\n",
    "s = 5\n",
    "def d1(l1,s):\n",
    "    l2 = l1.copy()\n",
    "    l2.append(20)\n",
    "    print(l2)\n",
    "    print(l1)\n",
    "d1(l1,s)\n",
    "print(l1)\n"
   ]
  },
  {
   "cell_type": "code",
   "execution_count": 76,
   "id": "8313ad1f",
   "metadata": {},
   "outputs": [
    {
     "name": "stdout",
     "output_type": "stream",
     "text": [
      "None\n"
     ]
    }
   ],
   "source": [
    "l1 = [1,2,3]\n",
    "print(l1.copy().append(2))"
   ]
  },
  {
   "cell_type": "code",
   "execution_count": 78,
   "id": "2bdea287",
   "metadata": {},
   "outputs": [],
   "source": [
    "[1,2,3].append(2)"
   ]
  },
  {
   "cell_type": "code",
   "execution_count": 80,
   "id": "dcb0faa6",
   "metadata": {},
   "outputs": [
    {
     "name": "stdout",
     "output_type": "stream",
     "text": [
      "The average score is 88.4.\n"
     ]
    }
   ],
   "source": [
    "# function \n",
    "def average(numbers): \n",
    "    return sum(numbers) / len(numbers)\n",
    "\n",
    "# data\n",
    "scores = [80, 90, 95, 92, 85]\n",
    "\n",
    "# User has to know which data to pass into function\n",
    "# to get desired output\n",
    "print(f'The average score is {average(scores)}.')\n"
   ]
  },
  {
   "cell_type": "code",
   "execution_count": 81,
   "id": "df01c1d8",
   "metadata": {},
   "outputs": [],
   "source": [
    "class ScoreList:\n",
    "    def __init__(self, lst): # lst = [1, 2, 3, 4]\n",
    "        self.scores = lst"
   ]
  },
  {
   "cell_type": "code",
   "execution_count": 87,
   "id": "aee27c4a",
   "metadata": {},
   "outputs": [],
   "source": [
    "score_list1 = ScoreList([1, 2, 3, 4])"
   ]
  },
  {
   "cell_type": "code",
   "execution_count": 88,
   "id": "f185a7d6",
   "metadata": {},
   "outputs": [
    {
     "data": {
      "text/plain": [
       "[1, 2, 3, 4]"
      ]
     },
     "execution_count": 88,
     "metadata": {},
     "output_type": "execute_result"
    }
   ],
   "source": [
    "score_list1.scores"
   ]
  },
  {
   "cell_type": "code",
   "execution_count": 85,
   "id": "bd12a387",
   "metadata": {},
   "outputs": [],
   "source": [
    "score_list2 = ScoreList([5, 6, 7, 8])"
   ]
  },
  {
   "cell_type": "code",
   "execution_count": 89,
   "id": "2ba18c06",
   "metadata": {},
   "outputs": [
    {
     "data": {
      "text/plain": [
       "[5, 6, 7, 8]"
      ]
     },
     "execution_count": 89,
     "metadata": {},
     "output_type": "execute_result"
    }
   ],
   "source": [
    "score_list2.scores"
   ]
  },
  {
   "cell_type": "code",
   "execution_count": 95,
   "id": "286fe9d8",
   "metadata": {},
   "outputs": [],
   "source": [
    "class ScoreList:\n",
    "    def __init__(self, a, b): # lst = [1, 2, 3, 4]\n",
    "        self.c = a\n",
    "        self.d = b\n",
    "        "
   ]
  },
  {
   "cell_type": "code",
   "execution_count": 96,
   "id": "e7fc0b48",
   "metadata": {},
   "outputs": [],
   "source": [
    "score_list1 = ScoreList([1, 2, 3, 4], 5)"
   ]
  },
  {
   "cell_type": "code",
   "execution_count": 97,
   "id": "1665d2e6",
   "metadata": {},
   "outputs": [
    {
     "name": "stdout",
     "output_type": "stream",
     "text": [
      "[1, 2, 3, 4] 5\n"
     ]
    }
   ],
   "source": [
    "print(score_list1.c, score_list1.d)"
   ]
  },
  {
   "cell_type": "code",
   "execution_count": 100,
   "id": "3a27e6d6",
   "metadata": {},
   "outputs": [
    {
     "name": "stdout",
     "output_type": "stream",
     "text": [
      "2.5 6.5\n"
     ]
    }
   ],
   "source": [
    "class ScoreList:\n",
    "    def __init__(self, scores):\n",
    "        self.scores = scores\n",
    "\n",
    "    def average(self):\n",
    "        return sum(self.scores) / len(self.scores)\n",
    "    \n",
    "    def append(self, value):\n",
    "        self.scores.append(value)\n",
    "    \n",
    "sc1 = ScoreList([1, 2, 3, 4])\n",
    "sc2 = ScoreList([5, 6, 7, 8])\n",
    "print(sc1.average(), sc2.average())"
   ]
  },
  {
   "cell_type": "code",
   "execution_count": 99,
   "id": "e2defd98",
   "metadata": {},
   "outputs": [],
   "source": [
    "x = [1, 2, 3, 4]"
   ]
  },
  {
   "cell_type": "code",
   "execution_count": 101,
   "id": "6b241b7b",
   "metadata": {},
   "outputs": [],
   "source": [
    "sc1.append(5)"
   ]
  },
  {
   "cell_type": "code",
   "execution_count": 102,
   "id": "d900bc81",
   "metadata": {},
   "outputs": [
    {
     "data": {
      "text/plain": [
       "[1, 2, 3, 4, 5]"
      ]
     },
     "execution_count": 102,
     "metadata": {},
     "output_type": "execute_result"
    }
   ],
   "source": [
    "sc1.scores"
   ]
  },
  {
   "cell_type": "code",
   "execution_count": 103,
   "id": "a09864ad",
   "metadata": {},
   "outputs": [
    {
     "data": {
      "text/plain": [
       "3.0"
      ]
     },
     "execution_count": 103,
     "metadata": {},
     "output_type": "execute_result"
    }
   ],
   "source": [
    "sc1.average()"
   ]
  },
  {
   "cell_type": "code",
   "execution_count": 106,
   "id": "dfa7554a",
   "metadata": {},
   "outputs": [
    {
     "name": "stdout",
     "output_type": "stream",
     "text": [
      "[1, 2, 3, 4]\n"
     ]
    }
   ],
   "source": [
    "print(x)"
   ]
  },
  {
   "cell_type": "code",
   "execution_count": 146,
   "id": "f597a850",
   "metadata": {},
   "outputs": [],
   "source": [
    "# __str__()\n",
    "# __repr__()\n",
    "\n",
    "class ScoreList:\n",
    "    def __init__(self, scores):\n",
    "        self.scores = scores\n",
    "\n",
    "    def average(self):\n",
    "        return sum(self.scores) / len(self.scores)\n",
    "    \n",
    "    def __repr__(self):\n",
    "        return f\"[{', '.join(map(str, self.scores))}]  repr\"\n",
    "    \n",
    "    def __str__(self):\n",
    "        return f\"[{', '.join(map(str, self.scores))}] str\"\n",
    "    \n",
    "sc1 = ScoreList([1, 2, 3, 4])\n",
    "sc2 = ScoreList([5, 6, 7, 8])\n",
    "\n"
   ]
  },
  {
   "cell_type": "code",
   "execution_count": 147,
   "id": "9efbc3be",
   "metadata": {},
   "outputs": [
    {
     "name": "stdout",
     "output_type": "stream",
     "text": [
      "[1, 2, 3, 4] str\n"
     ]
    }
   ],
   "source": [
    "print(sc1)"
   ]
  },
  {
   "cell_type": "code",
   "execution_count": 123,
   "id": "ffe227d0",
   "metadata": {},
   "outputs": [
    {
     "name": "stdout",
     "output_type": "stream",
     "text": [
      "[5, 6, 7, 8]\n"
     ]
    }
   ],
   "source": [
    "print(sc2)"
   ]
  },
  {
   "cell_type": "code",
   "execution_count": 111,
   "id": "8e1ec883",
   "metadata": {},
   "outputs": [
    {
     "data": {
      "text/plain": [
       "'Blah'"
      ]
     },
     "execution_count": 111,
     "metadata": {},
     "output_type": "execute_result"
    }
   ],
   "source": [
    "sc1.__str__()"
   ]
  },
  {
   "cell_type": "code",
   "execution_count": 128,
   "id": "a469839e",
   "metadata": {},
   "outputs": [
    {
     "name": "stdout",
     "output_type": "stream",
     "text": [
      "[1, 2, 3, 4] [5, 6, 7, 8]\n"
     ]
    }
   ],
   "source": [
    "print(sc1, sc2)"
   ]
  },
  {
   "cell_type": "code",
   "execution_count": 129,
   "id": "4c26d404",
   "metadata": {},
   "outputs": [
    {
     "name": "stdout",
     "output_type": "stream",
     "text": [
      "[1, 2, 3, 4]\n",
      "[5, 6, 7, 8]\n"
     ]
    }
   ],
   "source": [
    "for ele in [sc1, sc2]:\n",
    "    print(ele)"
   ]
  },
  {
   "cell_type": "code",
   "execution_count": 130,
   "id": "869e8fa2",
   "metadata": {},
   "outputs": [],
   "source": [
    "class Dummy:\n",
    "    def __init__(self, name: str, unit_price: float, quantity_on_hand: int = 0):\n",
    "        self.name = name\n",
    "        self.unit_price = unit_price\n",
    "        self.quantity_on_hand = quantity_on_hand\n",
    "        \n",
    "from dataclasses import dataclass\n",
    "\n",
    "@dataclass\n",
    "class InventoryItem:\n",
    "    \"\"\"Class for keeping track of an item in inventory.\"\"\"\n",
    "    name: str\n",
    "    unit_price: float\n",
    "    quantity_on_hand: int = 0\n",
    "\n",
    "    def total_cost(self) -> float:\n",
    "        return self.unit_price * self.quantity_on_hand"
   ]
  },
  {
   "cell_type": "code",
   "execution_count": 150,
   "id": "4c61c363",
   "metadata": {},
   "outputs": [],
   "source": [
    "class Person:\n",
    "    def __init__(self, first_name, last_name, email):\n",
    "        self.first_name = first_name\n",
    "        self.last_name = last_name\n",
    "        self.email = email\n",
    "\n",
    "    def __repr__(self):\n",
    "        return self.get_full_name()\n",
    "\n",
    "    def get_email(self):\n",
    "        return self.email\n",
    "\n",
    "    def get_full_name(self):\n",
    "        return f'{self.last_name}, {self.first_name}'"
   ]
  },
  {
   "cell_type": "code",
   "execution_count": 151,
   "id": "c57700e0",
   "metadata": {},
   "outputs": [
    {
     "name": "stdout",
     "output_type": "stream",
     "text": [
      "Doe, John str Doe, Jane str\n"
     ]
    }
   ],
   "source": [
    "p1 = Person('John', 'Doe', 'jdoe@buffalo.edu')\n",
    "p2 = Person('Jane', 'Doe', 'jane@buffalo.edu')\n",
    "\n",
    "print(p1, p2)"
   ]
  },
  {
   "cell_type": "code",
   "execution_count": 137,
   "id": "274aa5b7",
   "metadata": {},
   "outputs": [
    {
     "data": {
      "text/plain": [
       "'jdoe@buffalo.edu'"
      ]
     },
     "execution_count": 137,
     "metadata": {},
     "output_type": "execute_result"
    }
   ],
   "source": [
    "p1.email"
   ]
  },
  {
   "cell_type": "code",
   "execution_count": 138,
   "id": "e4f1452b",
   "metadata": {},
   "outputs": [
    {
     "data": {
      "text/plain": [
       "'jdoe@buffalo.edu'"
      ]
     },
     "execution_count": 138,
     "metadata": {},
     "output_type": "execute_result"
    }
   ],
   "source": [
    "p1.get_email()"
   ]
  },
  {
   "cell_type": "code",
   "execution_count": 152,
   "id": "ce03e8fd",
   "metadata": {},
   "outputs": [],
   "source": [
    "class Student(Person):\n",
    "\n",
    "    def __init__(self, first_name, last_name, email, program):\n",
    "        super().__init__(first_name, last_name, email)\n",
    "        self.program = program\n",
    "        \n",
    "    def __repr__(self):\n",
    "        return f'{self.first_name} {self.last_name} ({self.program})'\n",
    "        \n",
    "s1 = Student('John', 'Doe', 'jdoe@buffalo.edu', 'Physics')\n",
    "s2 = Student('Jane', 'Doe', 'jane@buffalo.edu', 'Math')"
   ]
  },
  {
   "cell_type": "code",
   "execution_count": 153,
   "id": "44c576a1",
   "metadata": {},
   "outputs": [
    {
     "name": "stdout",
     "output_type": "stream",
     "text": [
      "Doe, John str Doe, Jane str\n"
     ]
    }
   ],
   "source": [
    "print(s1, s2)"
   ]
  },
  {
   "cell_type": "code",
   "execution_count": 154,
   "id": "8b3e5cbe",
   "metadata": {},
   "outputs": [
    {
     "name": "stdout",
     "output_type": "stream",
     "text": [
      "doe, john str\n",
      "abc, abc, efg, hij\n"
     ]
    }
   ],
   "source": [
    "class Student(Person):\n",
    "\n",
    "    def __init__(self, first_name, last_name, email, program):\n",
    "        super().__init__(first_name, last_name, email)\n",
    "        self.program = program\n",
    "\n",
    "class Student(Person):\n",
    "    PROGRAMS = ['graduate', 'undergraduate']\n",
    "\n",
    "    def __init__(self, first_name, last_name, email, program):\n",
    "        super().__init__(first_name, last_name, email)\n",
    "        if program.lower() not in self.PROGRAMS:\n",
    "            raise ValueError('program can only be \"graduate\" or \"undergraduate\"')\n",
    "        self.program = program.lower()\n",
    "        self.classes = []\n",
    "\n",
    "\n",
    "    def enroll(self, name_of_course):\n",
    "        self.classes.append(name_of_course)\n",
    "\n",
    "    def print_classes(self):\n",
    "        classes = ', '.join(self.classes)\n",
    "        print(f'{classes}')\n",
    "\n",
    "s1 = Student('john', 'doe', 'jdoe@example.edu', 'gradUate')\n",
    "print(s1)\n",
    "s1.enroll('abc')\n",
    "s1.enroll('abc')\n",
    "s1.enroll('efg')\n",
    "s1.enroll('hij')\n",
    "s1.print_classes()"
   ]
  },
  {
   "cell_type": "code",
   "execution_count": 155,
   "id": "05d7978d",
   "metadata": {},
   "outputs": [
    {
     "name": "stdout",
     "output_type": "stream",
     "text": [
      "doe, john str\n",
      "Already enrolled in abc doe, john!\n",
      "abc, efg, hij\n"
     ]
    }
   ],
   "source": [
    "class Student(Person):\n",
    "    PROGRAMS = ['graduate', 'undergraduate']\n",
    "\n",
    "    def __init__(self, first_name, last_name, email, program):\n",
    "        super().__init__(first_name, last_name, email)\n",
    "        if program.lower() not in self.PROGRAMS:\n",
    "            raise ValueError('program can only be \"graduate\" or \"undergraduate\"')\n",
    "        self.program = program\n",
    "        self.classes = []\n",
    "\n",
    "\n",
    "    def enroll(self, name_of_course):\n",
    "        if name_of_course not in self.classes:\n",
    "            self.classes.append(name_of_course)\n",
    "        else:\n",
    "            print(f'Already enrolled in {name_of_course} {self.get_full_name()}!')\n",
    "\n",
    "    def print_classes(self):\n",
    "        classes = ', '.join(self.classes)\n",
    "        print(f'{classes}')\n",
    "\n",
    "    def print_self(self):\n",
    "        print(self)\n",
    "\n",
    "s1 = Student('john', 'doe', 'jdoe@example.edu', 'graduate')\n",
    "print(s1)\n",
    "s1.enroll('abc')\n",
    "s1.enroll('abc')\n",
    "s1.enroll('efg')\n",
    "s1.enroll('hij')\n",
    "s1.print_classes()\n"
   ]
  },
  {
   "cell_type": "code",
   "execution_count": 156,
   "id": "0d8466a3",
   "metadata": {},
   "outputs": [
    {
     "name": "stdout",
     "output_type": "stream",
     "text": [
      "doe, john str\n",
      "Already enrolled in Chemistry!\n",
      "Chemistry, Math, Physics\n"
     ]
    }
   ],
   "source": [
    "class Course:\n",
    "    def __init__(self, course_name, credits):\n",
    "        self.course_name = course_name\n",
    "        self.credits = credits\n",
    "\n",
    "    def __repr__(self):\n",
    "        return f'{self.course_name}'\n",
    "\n",
    "\n",
    "    def get_course_name(self):\n",
    "        return self.course_name\n",
    "\n",
    "\n",
    "\n",
    "class Student(Person):\n",
    "    PROGRAMS = ['graduate', 'undergraduate']\n",
    "\n",
    "    def __init__(self, first_name, last_name, email, program):\n",
    "        super().__init__(first_name, last_name, email)\n",
    "        if program.lower() not in self.PROGRAMS:\n",
    "            raise ValueError('program can only be \"graduate\" or \"undergraduate\"')\n",
    "        self.program = program\n",
    "        self.classes = []\n",
    "\n",
    "\n",
    "    def enroll(self, course):\n",
    "        if course not in self.classes:\n",
    "            self.classes.append(course)\n",
    "        else:\n",
    "            print(f'Already enrolled in {course}!')\n",
    "\n",
    "    def print_classes(self):\n",
    "        classes = ', '.join(sorted([i.course_name for i in self.classes]))\n",
    "        print(f'{classes}')\n",
    "\n",
    "c1 = Course('Math', 3)\n",
    "c2 = Course('Physics', 4)\n",
    "c3 = Course('Chemistry', 3)\n",
    "c4 = Course('English', 3)\n",
    "\n",
    "s1 = Student('john', 'doe', 'jdoe@example.edu', 'graduate')\n",
    "print(s1)\n",
    "s1.enroll(c1)\n",
    "s1.enroll(c2)\n",
    "s1.enroll(c3)\n",
    "s1.enroll(c3)\n",
    "s1.print_classes()"
   ]
  },
  {
   "cell_type": "code",
   "execution_count": 158,
   "id": "6fa2fd62",
   "metadata": {},
   "outputs": [
    {
     "name": "stdout",
     "output_type": "stream",
     "text": [
      "doe, john str\n",
      "Already enrolled in Math!\n",
      "Cannot enroll because you have too many credits\n",
      "Chemistry, English, Math\n"
     ]
    }
   ],
   "source": [
    "class Student(Person):\n",
    "    PROGRAMS = ['graduate', 'undergraduate']\n",
    "    MAX_CREDITS = 9\n",
    "\n",
    "    def __init__(self, first_name, last_name, email, program):\n",
    "        super().__init__(first_name, last_name, email)\n",
    "        if program.lower() not in self.PROGRAMS:\n",
    "            raise ValueError('program can only be \"graduate\" or \"undergraduate\"')\n",
    "        self.program = program\n",
    "        self.classes = []\n",
    "        self.enrolled_credits = 0\n",
    "\n",
    "    def enroll(self, course):\n",
    "        \n",
    "        if self.get_total_credits() + course.credits > self.MAX_CREDITS:\n",
    "            print(f'You will be over the max credits! Cannot add {course}.')\n",
    "            return\n",
    "        \n",
    "        if self.enrolled_credits < self.MAX_CREDITS:\n",
    "            if course not in self.classes:\n",
    "                self.classes.append(course)\n",
    "                self.enrolled_credits += course.credits\n",
    "            else:\n",
    "                print(f'Already enrolled in {course}!')\n",
    "                    \n",
    "        else:\n",
    "            print('Cannot enroll because you have too many credits')\n",
    "        \n",
    "\n",
    "\n",
    "    def print_classes(self):\n",
    "        classes = ', '.join(sorted([i.course_name for i in self.classes]))\n",
    "        print(f'{classes}')\n",
    "\n",
    "\n",
    "    def get_total_credits(self):\n",
    "        total_credits = 0\n",
    "        for ele in self.classes:\n",
    "            total_credits += ele.credits\n",
    "        return total_credits\n",
    "\n",
    "class Course:\n",
    "    def __init__(self, course_name, credits):\n",
    "        self.course_name = course_name\n",
    "        self.credits = credits\n",
    "\n",
    "    def __repr__(self):\n",
    "        return f'{self.course_name}'\n",
    "\n",
    "    def __str__(self):\n",
    "        return f'{self.course_name}'\n",
    "\n",
    "\n",
    "    def get_course_name(self):\n",
    "        return self.course_name\n",
    "\n",
    "\n",
    "c1 = Course('Math', 3)\n",
    "c2 = Course('Physics', 4)\n",
    "c3 = Course('Chemistry', 3)\n",
    "c4 = Course('English', 3)\n",
    "\n",
    "s1 = Student('john', 'doe', 'jdoe@example.edu', 'graduate')\n",
    "print(s1)\n",
    "s1.enroll(c1)\n",
    "s1.enroll(c1)\n",
    "s1.enroll(c3)\n",
    "s1.enroll(c4)\n",
    "s1.enroll(c2)\n",
    "s1.print_classes()"
   ]
  },
  {
   "cell_type": "code",
   "execution_count": 161,
   "id": "eac53e47",
   "metadata": {},
   "outputs": [],
   "source": [
    "class Student(Person):\n",
    "    PROGRAMS = ['undergraduate', 'graduate']\n",
    "    MAX_CREDITS = 12\n",
    "    \n",
    "    def __init__(self, first_name, last_name, email, program):\n",
    "        if program.lower() not in self.PROGRAMS:\n",
    "            raise ValueError(f'Programs can only be {self.PROGRAMS}. You entered: {program}.')\n",
    "        \n",
    "        super().__init__(first_name, last_name, email)\n",
    "        self.program = program.title()\n",
    "        self.courses = []\n",
    "        self.total_credits = 0\n",
    "   \n",
    "    def __repr__(self):\n",
    "        return f'{self.first_name} {self.last_name}; {self.program}'\n",
    "    \n",
    "    def enroll(self, *courses):\n",
    "        for course in courses:\n",
    "            if (self.total_credits + course.credits) > self.MAX_CREDITS:\n",
    "                print('This will put you above 12 Credits')\n",
    "                return       \n",
    "            if course not in self.courses:\n",
    "                self.courses.append(course)\n",
    "                print(self.courses[-1].course_name)\n",
    "                print(self.courses[-1].credits)\n",
    "\n",
    "                self.total_credits += course.credits\n",
    "            else:\n",
    "                print(f'Already enrolled in {class_name} ')\n",
    "        \n",
    "    def print_classes(self):\n",
    "        print(', '.join([ele.course_name for ele in self.courses]))"
   ]
  },
  {
   "cell_type": "code",
   "execution_count": 162,
   "id": "6bb2a622",
   "metadata": {},
   "outputs": [
    {
     "name": "stdout",
     "output_type": "stream",
     "text": [
      "doe, john str\n",
      "Math\n",
      "3\n",
      "Physics\n",
      "4\n",
      "Chemistry\n",
      "3\n",
      "This will put you above 12 Credits\n"
     ]
    }
   ],
   "source": [
    "s1 = Student('john', 'doe', 'jdoe@example.edu', 'graduate')\n",
    "print(s1)\n",
    "s1.enroll(c1, c2, c3, c4)"
   ]
  },
  {
   "cell_type": "code",
   "execution_count": 163,
   "id": "42df17e5",
   "metadata": {},
   "outputs": [
    {
     "name": "stdout",
     "output_type": "stream",
     "text": [
      "False\n"
     ]
    }
   ],
   "source": [
    "x = 257\n",
    "y = 257\n",
    "print(x is y)"
   ]
  },
  {
   "cell_type": "code",
   "execution_count": null,
   "id": "e9abe547",
   "metadata": {},
   "outputs": [],
   "source": []
  }
 ],
 "metadata": {
  "kernelspec": {
   "display_name": "Python 3 (ipykernel)",
   "language": "python",
   "name": "python3"
  },
  "language_info": {
   "codemirror_mode": {
    "name": "ipython",
    "version": 3
   },
   "file_extension": ".py",
   "mimetype": "text/x-python",
   "name": "python",
   "nbconvert_exporter": "python",
   "pygments_lexer": "ipython3",
   "version": "3.8.12"
  }
 },
 "nbformat": 4,
 "nbformat_minor": 5
}
