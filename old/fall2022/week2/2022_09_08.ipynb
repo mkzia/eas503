{
 "cells": [
  {
   "cell_type": "markdown",
   "id": "e69046c3",
   "metadata": {},
   "source": [
    "- `int` - integer -- 19\n",
    "- `float` - floating float -- 3.14\n",
    "- `str` - string -- 'EAS503'"
   ]
  },
  {
   "cell_type": "code",
   "execution_count": 2,
   "id": "c26c73e2",
   "metadata": {},
   "outputs": [
    {
     "name": "stdout",
     "output_type": "stream",
     "text": [
      "Doe, John\n"
     ]
    }
   ],
   "source": [
    "first_name = 'John'\n",
    "last_name = 'Doe'\n",
    "\n",
    "# Doe, John\n",
    "\n",
    "full_name = last_name + ', ' + first_name\n",
    "print(full_name)"
   ]
  },
  {
   "cell_type": "code",
   "execution_count": 3,
   "id": "9edaa53c",
   "metadata": {},
   "outputs": [
    {
     "name": "stdout",
     "output_type": "stream",
     "text": [
      "Doe, John\n"
     ]
    }
   ],
   "source": [
    "full_name_v2 = '{}, {}'.format(last_name, first_name)\n",
    "print(full_name_v2)"
   ]
  },
  {
   "cell_type": "code",
   "execution_count": 4,
   "id": "de65a54b",
   "metadata": {},
   "outputs": [
    {
     "name": "stdout",
     "output_type": "stream",
     "text": [
      "John, Doe\n"
     ]
    }
   ],
   "source": [
    "full_name_v2 = '{1}, {0}'.format(last_name, first_name)\n",
    "print(full_name_v2)"
   ]
  },
  {
   "cell_type": "code",
   "execution_count": 5,
   "id": "38509f24",
   "metadata": {},
   "outputs": [
    {
     "name": "stdout",
     "output_type": "stream",
     "text": [
      "Doe, John\n"
     ]
    }
   ],
   "source": [
    "full_name_v3 = f'{last_name}, {first_name}'\n",
    "print(full_name_v3)"
   ]
  },
  {
   "cell_type": "code",
   "execution_count": 6,
   "id": "ef2280e6",
   "metadata": {},
   "outputs": [
    {
     "name": "stdout",
     "output_type": "stream",
     "text": [
      "John, John\n"
     ]
    }
   ],
   "source": [
    "full_name_v3 = f'{first_name}, {first_name}'\n",
    "print(full_name_v3)"
   ]
  },
  {
   "cell_type": "code",
   "execution_count": 7,
   "id": "f6dec8b5",
   "metadata": {},
   "outputs": [
    {
     "name": "stdout",
     "output_type": "stream",
     "text": [
      "John, 2\n"
     ]
    }
   ],
   "source": [
    "full_name_v3 = f'{first_name}, {1 + 1}'\n",
    "print(full_name_v3)"
   ]
  },
  {
   "cell_type": "code",
   "execution_count": 8,
   "id": "fb55f1fb",
   "metadata": {},
   "outputs": [
    {
     "name": "stdout",
     "output_type": "stream",
     "text": [
      "John, 9\n"
     ]
    }
   ],
   "source": [
    "full_name_v3 = f'{first_name}, {abs(-9)}'\n",
    "print(full_name_v3)"
   ]
  },
  {
   "cell_type": "code",
   "execution_count": 9,
   "id": "3ba3eaf1",
   "metadata": {},
   "outputs": [
    {
     "name": "stdout",
     "output_type": "stream",
     "text": [
      "John      , 9\n"
     ]
    }
   ],
   "source": [
    "# specify width\n",
    "# align the data within width larger than width of data\n",
    "# specify padding character in case of extra width\n",
    "# specify precision -- number of decimal places\n",
    "# \n",
    "\n",
    "\n",
    "full_name_v3 = f'{first_name:10}, {abs(-9)}'\n",
    "print(full_name_v3)\n",
    "\n",
    "# strings -- left aligned\n",
    "# numbers -- right aligned"
   ]
  },
  {
   "cell_type": "code",
   "execution_count": 10,
   "id": "62652578",
   "metadata": {},
   "outputs": [
    {
     "name": "stdout",
     "output_type": "stream",
     "text": [
      "John      ,          9\n"
     ]
    }
   ],
   "source": [
    "full_name_v3 = f'{first_name:10}, {abs(-9):10}'\n",
    "print(full_name_v3)"
   ]
  },
  {
   "cell_type": "code",
   "execution_count": 11,
   "id": "e39f2a98",
   "metadata": {},
   "outputs": [
    {
     "name": "stdout",
     "output_type": "stream",
     "text": [
      "      John, 9         \n"
     ]
    }
   ],
   "source": [
    "full_name_v3 = f'{first_name:>10}, {abs(-9):<10}'\n",
    "print(full_name_v3)"
   ]
  },
  {
   "cell_type": "code",
   "execution_count": 12,
   "id": "96eab955",
   "metadata": {},
   "outputs": [
    {
     "data": {
      "text/plain": [
       "'      John, 9         '"
      ]
     },
     "execution_count": 12,
     "metadata": {},
     "output_type": "execute_result"
    }
   ],
   "source": [
    "full_name_v3"
   ]
  },
  {
   "cell_type": "code",
   "execution_count": 13,
   "id": "8fd37caa",
   "metadata": {},
   "outputs": [
    {
     "data": {
      "text/plain": [
       "'John, 9'"
      ]
     },
     "execution_count": 13,
     "metadata": {},
     "output_type": "execute_result"
    }
   ],
   "source": [
    "full_name_v3.strip()"
   ]
  },
  {
   "cell_type": "code",
   "execution_count": 14,
   "id": "1c45b17c",
   "metadata": {},
   "outputs": [
    {
     "name": "stdout",
     "output_type": "stream",
     "text": [
      "      John,     9     \n"
     ]
    }
   ],
   "source": [
    "full_name_v3 = f'{first_name:>10}, {abs(-9):^10}'\n",
    "print(full_name_v3)"
   ]
  },
  {
   "cell_type": "code",
   "execution_count": 15,
   "id": "d1baa69f",
   "metadata": {},
   "outputs": [
    {
     "data": {
      "text/plain": [
       "'      John,     9     '"
      ]
     },
     "execution_count": 15,
     "metadata": {},
     "output_type": "execute_result"
    }
   ],
   "source": [
    "full_name_v3"
   ]
  },
  {
   "cell_type": "code",
   "execution_count": 21,
   "id": "8034ab96",
   "metadata": {},
   "outputs": [
    {
     "name": "stdout",
     "output_type": "stream",
     "text": [
      "-John-, 9\n"
     ]
    }
   ],
   "source": [
    "full_name_v3 = f'{first_name:-^6}, {abs(-9)}'\n",
    "print(full_name_v3)"
   ]
  },
  {
   "cell_type": "code",
   "execution_count": 19,
   "id": "20316521",
   "metadata": {},
   "outputs": [
    {
     "name": "stdout",
     "output_type": "stream",
     "text": [
      "00001234\n"
     ]
    }
   ],
   "source": [
    "mrn = 1234\n",
    "\n",
    "mrn = f'{mrn:>08}'\n",
    "print(mrn)"
   ]
  },
  {
   "cell_type": "code",
   "execution_count": 24,
   "id": "62dd6c7c",
   "metadata": {},
   "outputs": [
    {
     "name": "stdout",
     "output_type": "stream",
     "text": [
      "-John-, 3.14\n"
     ]
    }
   ],
   "source": [
    "pi = 3.141592653589793238\n",
    "full_name_v3 = f'{first_name:-^6}, {round(pi, 2)}'\n",
    "print(full_name_v3)"
   ]
  },
  {
   "cell_type": "code",
   "execution_count": 25,
   "id": "700eaa1e",
   "metadata": {},
   "outputs": [
    {
     "name": "stdout",
     "output_type": "stream",
     "text": [
      "-John-, 3.1\n"
     ]
    }
   ],
   "source": [
    "number = 3.105\n",
    "full_name_v3 = f'{first_name:-^6}, {round(number, 2)}'\n",
    "print(full_name_v3)"
   ]
  },
  {
   "cell_type": "code",
   "execution_count": 26,
   "id": "2faf33a4",
   "metadata": {},
   "outputs": [
    {
     "name": "stdout",
     "output_type": "stream",
     "text": [
      "-John-, 3.10\n"
     ]
    }
   ],
   "source": [
    "number = 3.105\n",
    "full_name_v3 = f'{first_name:-^6}, {number:.2f}'\n",
    "print(full_name_v3)"
   ]
  },
  {
   "cell_type": "code",
   "execution_count": 28,
   "id": "27da5334",
   "metadata": {},
   "outputs": [
    {
     "name": "stdout",
     "output_type": "stream",
     "text": [
      "-John-, 123,456.00\n"
     ]
    }
   ],
   "source": [
    "number = 123456\n",
    "full_name_v3 = f'{first_name:-^6}, {number:,.2f}'\n",
    "print(full_name_v3)"
   ]
  },
  {
   "cell_type": "code",
   "execution_count": 29,
   "id": "6ad89a33",
   "metadata": {},
   "outputs": [
    {
     "name": "stdout",
     "output_type": "stream",
     "text": [
      "-John-, 123,456\n"
     ]
    }
   ],
   "source": [
    "number = 123456\n",
    "full_name_v3 = f'{first_name:-^6}, {number:,}'\n",
    "print(full_name_v3)"
   ]
  },
  {
   "cell_type": "code",
   "execution_count": null,
   "id": "52962be1",
   "metadata": {},
   "outputs": [],
   "source": []
  }
 ],
 "metadata": {
  "kernelspec": {
   "display_name": "Python 3 (ipykernel)",
   "language": "python",
   "name": "python3"
  },
  "language_info": {
   "codemirror_mode": {
    "name": "ipython",
    "version": 3
   },
   "file_extension": ".py",
   "mimetype": "text/x-python",
   "name": "python",
   "nbconvert_exporter": "python",
   "pygments_lexer": "ipython3",
   "version": "3.8.12"
  }
 },
 "nbformat": 4,
 "nbformat_minor": 5
}
