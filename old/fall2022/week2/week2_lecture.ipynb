{
 "cells": [
  {
   "cell_type": "code",
   "execution_count": 2,
   "id": "135a06c8",
   "metadata": {},
   "outputs": [],
   "source": [
    "def f(x):\n",
    "    x = x * 2 # x *= 2\n",
    "    \n",
    "output = f(2)"
   ]
  },
  {
   "cell_type": "code",
   "execution_count": 3,
   "id": "1fb2da25",
   "metadata": {},
   "outputs": [
    {
     "name": "stdout",
     "output_type": "stream",
     "text": [
      "None\n"
     ]
    }
   ],
   "source": [
    "print(output)"
   ]
  },
  {
   "cell_type": "code",
   "execution_count": 4,
   "id": "94bdbe1c",
   "metadata": {},
   "outputs": [
    {
     "name": "stdout",
     "output_type": "stream",
     "text": [
      "4\n"
     ]
    }
   ],
   "source": [
    "def f(x):\n",
    "    x = x * 2 # x *= 2\n",
    "    return x\n",
    "    \n",
    "output = f(2)\n",
    "print(output)"
   ]
  },
  {
   "cell_type": "code",
   "execution_count": 5,
   "id": "2521b83a",
   "metadata": {},
   "outputs": [],
   "source": [
    "def triple_x(x):\n",
    "    return x * 3"
   ]
  },
  {
   "cell_type": "code",
   "execution_count": 6,
   "id": "102f341a",
   "metadata": {},
   "outputs": [],
   "source": [
    "def ex4(num1, num2):\n",
    "    return abs(num1-num2)"
   ]
  },
  {
   "cell_type": "code",
   "execution_count": 7,
   "id": "22a31353",
   "metadata": {},
   "outputs": [],
   "source": [
    "def km_to_mi(km):\n",
    "    return 1.6 * km"
   ]
  },
  {
   "cell_type": "code",
   "execution_count": 8,
   "id": "8bcf8de5",
   "metadata": {},
   "outputs": [],
   "source": [
    "def avg_grade(g1, g2, g3):\n",
    "    return (g1 + g2 + g3) / 3"
   ]
  },
  {
   "cell_type": "code",
   "execution_count": null,
   "id": "40e0f386",
   "metadata": {},
   "outputs": [],
   "source": [
    "def avg_grade(g1, g2, g3, g4):\n",
    "    total = g1 + g2 + g3 + g4\n",
    "    total -= min(g1, g2, g3, g4)\n",
    "    return total / 3"
   ]
  },
  {
   "cell_type": "markdown",
   "id": "e2873d69",
   "metadata": {},
   "source": [
    "_____________________________\n",
    "Happy birthday to you!!!\n",
    "Happy birthday to you!!!\n",
    "Happy birthday, dear John\n",
    "Happy birthday to you!\n",
    "Happy birthday to you!\n",
    "______________________________"
   ]
  },
  {
   "cell_type": "code",
   "execution_count": 9,
   "id": "c2b3af2f",
   "metadata": {},
   "outputs": [],
   "source": [
    "def print_message():\n",
    "    print('Happy birthday to you!!!')\n",
    "    print('Happy birthday to you!!!')\n",
    "    print('Happy birthday, dear John')\n",
    "    print('Happy birthday to you!!!')\n",
    "    print('Happy birthday to you!!!')\n"
   ]
  },
  {
   "cell_type": "code",
   "execution_count": 10,
   "id": "5b85d7ba",
   "metadata": {},
   "outputs": [
    {
     "name": "stdout",
     "output_type": "stream",
     "text": [
      "Happy birthday to you!!!\n",
      "Happy birthday to you!!!\n",
      "Happy birthday, dear John\n",
      "Happy birthday to you!!!\n",
      "Happy birthday to you!!!\n"
     ]
    }
   ],
   "source": [
    "print_message()"
   ]
  },
  {
   "cell_type": "code",
   "execution_count": 11,
   "id": "41ade939",
   "metadata": {},
   "outputs": [
    {
     "name": "stdout",
     "output_type": "stream",
     "text": [
      "Happy birthday to you!!!\n",
      "Happy birthday to you!!!\n",
      "Happy birthday, dear Jane\n",
      "Happy birthday to you!!!\n",
      "Happy birthday to you!!!\n"
     ]
    }
   ],
   "source": [
    "def print_message():\n",
    "    print('Happy birthday to you!!!')\n",
    "    print('Happy birthday to you!!!')\n",
    "    print('Happy birthday, dear Jane')\n",
    "    print('Happy birthday to you!!!')\n",
    "    print('Happy birthday to you!!!')\n",
    "print_message()"
   ]
  },
  {
   "cell_type": "code",
   "execution_count": 12,
   "id": "a06df12e",
   "metadata": {},
   "outputs": [
    {
     "name": "stdout",
     "output_type": "stream",
     "text": [
      "Happy birthday to you!!!\n",
      "Happy birthday to you!!!\n",
      "Happy birthday, dear Jane\n",
      "Happy birthday to you!!!\n",
      "Happy birthday to you!!!\n"
     ]
    }
   ],
   "source": [
    "def print_happy_birthday_2x():\n",
    "    print('Happy birthday to you!!!')\n",
    "    print('Happy birthday to you!!!')\n",
    "\n",
    "def print_message():\n",
    "    print_happy_birthday_2x()\n",
    "    print('Happy birthday, dear Jane')\n",
    "    print_happy_birthday_2x()\n",
    "print_message()"
   ]
  },
  {
   "cell_type": "code",
   "execution_count": 18,
   "id": "3699b298",
   "metadata": {},
   "outputs": [
    {
     "name": "stdout",
     "output_type": "stream",
     "text": [
      "Happy birthday to you!!!\n",
      "Happy birthday to you!!!\n",
      "Happy birthday, dear John\n",
      "Happy birthday to you!!!\n",
      "Happy birthday to you!!!\n"
     ]
    }
   ],
   "source": [
    "def print_happy_birthday_2x():\n",
    "    print('Happy birthday to you!!!')\n",
    "    print('Happy birthday to you!!!')\n",
    "\n",
    "def print_name(name):\n",
    "    print('Happy birthday, dear ' + name)\n",
    "    \n",
    "def print_message(name):\n",
    "    print_happy_birthday_2x()\n",
    "    print_name(name)\n",
    "    print_happy_birthday_2x()\n",
    "print_message('John')"
   ]
  },
  {
   "cell_type": "code",
   "execution_count": 13,
   "id": "a0a9d5d3",
   "metadata": {},
   "outputs": [
    {
     "data": {
      "text/plain": [
       "'EAS503'"
      ]
     },
     "execution_count": 13,
     "metadata": {},
     "output_type": "execute_result"
    }
   ],
   "source": [
    "'EAS' + '503'"
   ]
  },
  {
   "cell_type": "code",
   "execution_count": 14,
   "id": "acc8a624",
   "metadata": {},
   "outputs": [
    {
     "ename": "TypeError",
     "evalue": "can only concatenate str (not \"int\") to str",
     "output_type": "error",
     "traceback": [
      "\u001b[1;31m---------------------------------------------------------------------------\u001b[0m",
      "\u001b[1;31mTypeError\u001b[0m                                 Traceback (most recent call last)",
      "\u001b[1;32m~\\AppData\\Local\\Temp/ipykernel_20588/1132905467.py\u001b[0m in \u001b[0;36m<module>\u001b[1;34m\u001b[0m\n\u001b[1;32m----> 1\u001b[1;33m \u001b[1;34m'EAS'\u001b[0m \u001b[1;33m+\u001b[0m \u001b[1;36m503\u001b[0m\u001b[1;33m\u001b[0m\u001b[1;33m\u001b[0m\u001b[0m\n\u001b[0m",
      "\u001b[1;31mTypeError\u001b[0m: can only concatenate str (not \"int\") to str"
     ]
    }
   ],
   "source": [
    "'EAS' + 503"
   ]
  },
  {
   "cell_type": "code",
   "execution_count": 15,
   "id": "3b37a5c9",
   "metadata": {},
   "outputs": [
    {
     "ename": "TypeError",
     "evalue": "can only concatenate str (not \"float\") to str",
     "output_type": "error",
     "traceback": [
      "\u001b[1;31m---------------------------------------------------------------------------\u001b[0m",
      "\u001b[1;31mTypeError\u001b[0m                                 Traceback (most recent call last)",
      "\u001b[1;32m~\\AppData\\Local\\Temp/ipykernel_20588/2296977172.py\u001b[0m in \u001b[0;36m<module>\u001b[1;34m\u001b[0m\n\u001b[1;32m----> 1\u001b[1;33m \u001b[1;34m'EAS'\u001b[0m \u001b[1;33m+\u001b[0m \u001b[1;36m503.4\u001b[0m\u001b[1;33m\u001b[0m\u001b[1;33m\u001b[0m\u001b[0m\n\u001b[0m",
      "\u001b[1;31mTypeError\u001b[0m: can only concatenate str (not \"float\") to str"
     ]
    }
   ],
   "source": [
    "'EAS' + 503.4"
   ]
  },
  {
   "cell_type": "code",
   "execution_count": 19,
   "id": "c1a95bee",
   "metadata": {},
   "outputs": [
    {
     "data": {
      "text/plain": [
       "'EAS503'"
      ]
     },
     "execution_count": 19,
     "metadata": {},
     "output_type": "execute_result"
    }
   ],
   "source": [
    "'EAS503'"
   ]
  },
  {
   "cell_type": "code",
   "execution_count": 20,
   "id": "d5ff6735",
   "metadata": {},
   "outputs": [
    {
     "data": {
      "text/plain": [
       "'EAS503'"
      ]
     },
     "execution_count": 20,
     "metadata": {},
     "output_type": "execute_result"
    }
   ],
   "source": [
    "\"EAS503\""
   ]
  },
  {
   "cell_type": "code",
   "execution_count": 21,
   "id": "33fd71b1",
   "metadata": {},
   "outputs": [
    {
     "ename": "SyntaxError",
     "evalue": "EOL while scanning string literal (Temp/ipykernel_20588/3449673127.py, line 1)",
     "output_type": "error",
     "traceback": [
      "\u001b[1;36m  File \u001b[1;32m\"C:\\Users\\mkhaw\\AppData\\Local\\Temp/ipykernel_20588/3449673127.py\"\u001b[1;36m, line \u001b[1;32m1\u001b[0m\n\u001b[1;33m    \"EAS503'\u001b[0m\n\u001b[1;37m            ^\u001b[0m\n\u001b[1;31mSyntaxError\u001b[0m\u001b[1;31m:\u001b[0m EOL while scanning string literal\n"
     ]
    }
   ],
   "source": [
    "\"EAS503'"
   ]
  },
  {
   "cell_type": "code",
   "execution_count": 23,
   "id": "b2521506",
   "metadata": {},
   "outputs": [],
   "source": [
    "x = \"\"\"\n",
    "                    EAS503\n",
    "\"\"\""
   ]
  },
  {
   "cell_type": "code",
   "execution_count": 24,
   "id": "cd9947ad",
   "metadata": {},
   "outputs": [
    {
     "name": "stdout",
     "output_type": "stream",
     "text": [
      "\n",
      "                    EAS503\n",
      "\n"
     ]
    }
   ],
   "source": [
    "print(x)"
   ]
  },
  {
   "cell_type": "code",
   "execution_count": 25,
   "id": "969c5afc",
   "metadata": {},
   "outputs": [
    {
     "data": {
      "text/plain": [
       "4"
      ]
     },
     "execution_count": 25,
     "metadata": {},
     "output_type": "execute_result"
    }
   ],
   "source": [
    "x = 'Jane'\n",
    "len(x)"
   ]
  },
  {
   "cell_type": "code",
   "execution_count": 26,
   "id": "57008f9d",
   "metadata": {},
   "outputs": [
    {
     "name": "stdout",
     "output_type": "stream",
     "text": [
      "two words\n"
     ]
    }
   ],
   "source": [
    "x = 'two words'\n",
    "y = 'two'\n",
    "z = 'words'\n",
    "\n",
    "print(x)\n"
   ]
  },
  {
   "cell_type": "code",
   "execution_count": 27,
   "id": "7f726fa2",
   "metadata": {},
   "outputs": [
    {
     "data": {
      "text/plain": [
       "'twowords'"
      ]
     },
     "execution_count": 27,
     "metadata": {},
     "output_type": "execute_result"
    }
   ],
   "source": [
    "y + z"
   ]
  },
  {
   "cell_type": "code",
   "execution_count": 28,
   "id": "070591c1",
   "metadata": {},
   "outputs": [
    {
     "data": {
      "text/plain": [
       "'two words'"
      ]
     },
     "execution_count": 28,
     "metadata": {},
     "output_type": "execute_result"
    }
   ],
   "source": [
    "y + ' ' +  z"
   ]
  },
  {
   "cell_type": "code",
   "execution_count": 29,
   "id": "45feb51a",
   "metadata": {},
   "outputs": [
    {
     "data": {
      "text/plain": [
       "'janejanejanejane'"
      ]
     },
     "execution_count": 29,
     "metadata": {},
     "output_type": "execute_result"
    }
   ],
   "source": [
    "'jane' * 4"
   ]
  },
  {
   "cell_type": "code",
   "execution_count": 33,
   "id": "78ffc8eb",
   "metadata": {},
   "outputs": [
    {
     "name": "stdout",
     "output_type": "stream",
     "text": [
      "--------------------------------------------------------------------------------\n",
      "Hello!\n",
      "********************************************************************************\n",
      "Hello2!\n"
     ]
    }
   ],
   "source": [
    "print('-'*80)\n",
    "print('Hello!')\n",
    "print('*'*80)\n",
    "print('Hello2!')"
   ]
  },
  {
   "cell_type": "code",
   "execution_count": 34,
   "id": "b090b52d",
   "metadata": {},
   "outputs": [
    {
     "name": "stdout",
     "output_type": "stream",
     "text": [
      "two word\n"
     ]
    }
   ],
   "source": [
    "x = 'two'\n",
    "x += ' word'\n",
    "print(x)"
   ]
  },
  {
   "cell_type": "code",
   "execution_count": 35,
   "id": "0de06b8c",
   "metadata": {},
   "outputs": [
    {
     "data": {
      "text/plain": [
       "str"
      ]
     },
     "execution_count": 35,
     "metadata": {},
     "output_type": "execute_result"
    }
   ],
   "source": [
    "type('3')"
   ]
  },
  {
   "cell_type": "code",
   "execution_count": 36,
   "id": "d7dc7d04",
   "metadata": {},
   "outputs": [
    {
     "data": {
      "text/plain": [
       "3"
      ]
     },
     "execution_count": 36,
     "metadata": {},
     "output_type": "execute_result"
    }
   ],
   "source": [
    "int('3')"
   ]
  },
  {
   "cell_type": "code",
   "execution_count": 37,
   "id": "15560582",
   "metadata": {},
   "outputs": [
    {
     "data": {
      "text/plain": [
       "int"
      ]
     },
     "execution_count": 37,
     "metadata": {},
     "output_type": "execute_result"
    }
   ],
   "source": [
    "type(int('3'))"
   ]
  },
  {
   "cell_type": "code",
   "execution_count": 38,
   "id": "023face9",
   "metadata": {},
   "outputs": [
    {
     "data": {
      "text/plain": [
       "3.14"
      ]
     },
     "execution_count": 38,
     "metadata": {},
     "output_type": "execute_result"
    }
   ],
   "source": [
    "float('3.14')"
   ]
  },
  {
   "cell_type": "code",
   "execution_count": 39,
   "id": "118f6997",
   "metadata": {},
   "outputs": [
    {
     "ename": "ValueError",
     "evalue": "invalid literal for int() with base 10: '3.14'",
     "output_type": "error",
     "traceback": [
      "\u001b[1;31m---------------------------------------------------------------------------\u001b[0m",
      "\u001b[1;31mValueError\u001b[0m                                Traceback (most recent call last)",
      "\u001b[1;32m~\\AppData\\Local\\Temp/ipykernel_20588/2090256601.py\u001b[0m in \u001b[0;36m<module>\u001b[1;34m\u001b[0m\n\u001b[1;32m----> 1\u001b[1;33m \u001b[0mint\u001b[0m\u001b[1;33m(\u001b[0m\u001b[1;34m'3.14'\u001b[0m\u001b[1;33m)\u001b[0m\u001b[1;33m\u001b[0m\u001b[1;33m\u001b[0m\u001b[0m\n\u001b[0m",
      "\u001b[1;31mValueError\u001b[0m: invalid literal for int() with base 10: '3.14'"
     ]
    }
   ],
   "source": [
    "int('3.14')"
   ]
  },
  {
   "cell_type": "code",
   "execution_count": 40,
   "id": "6239b351",
   "metadata": {},
   "outputs": [
    {
     "data": {
      "text/plain": [
       "3.0"
      ]
     },
     "execution_count": 40,
     "metadata": {},
     "output_type": "execute_result"
    }
   ],
   "source": [
    "float('3')"
   ]
  },
  {
   "cell_type": "code",
   "execution_count": 41,
   "id": "9b18e572",
   "metadata": {},
   "outputs": [
    {
     "data": {
      "text/plain": [
       "'12342342'"
      ]
     },
     "execution_count": 41,
     "metadata": {},
     "output_type": "execute_result"
    }
   ],
   "source": [
    "str(12342342)"
   ]
  },
  {
   "cell_type": "code",
   "execution_count": 42,
   "id": "55cd43af",
   "metadata": {},
   "outputs": [
    {
     "data": {
      "text/plain": [
       "'ATATATATAT'"
      ]
     },
     "execution_count": 42,
     "metadata": {},
     "output_type": "execute_result"
    }
   ],
   "source": [
    "'AT' * 5"
   ]
  },
  {
   "cell_type": "code",
   "execution_count": 46,
   "id": "6a992ea6",
   "metadata": {},
   "outputs": [
    {
     "data": {
      "text/plain": [
       "\"Don't do this\""
      ]
     },
     "execution_count": 46,
     "metadata": {},
     "output_type": "execute_result"
    }
   ],
   "source": [
    "'Don\\'t do this'"
   ]
  },
  {
   "cell_type": "code",
   "execution_count": 53,
   "id": "44cac711",
   "metadata": {},
   "outputs": [],
   "source": [
    "x = 'this is line one\\nthis is line two'"
   ]
  },
  {
   "cell_type": "code",
   "execution_count": 54,
   "id": "81896824",
   "metadata": {},
   "outputs": [
    {
     "name": "stdout",
     "output_type": "stream",
     "text": [
      "this is line one\n",
      "this is line two\n"
     ]
    }
   ],
   "source": [
    "print(x)"
   ]
  },
  {
   "cell_type": "code",
   "execution_count": 58,
   "id": "2fc35377",
   "metadata": {},
   "outputs": [],
   "source": [
    "x = 'abc\\\\abc'"
   ]
  },
  {
   "cell_type": "code",
   "execution_count": 59,
   "id": "7ef1a0c0",
   "metadata": {},
   "outputs": [
    {
     "name": "stdout",
     "output_type": "stream",
     "text": [
      "abc\\abc\n"
     ]
    }
   ],
   "source": [
    "print(x)"
   ]
  },
  {
   "cell_type": "code",
   "execution_count": 62,
   "id": "35ff01a5",
   "metadata": {},
   "outputs": [],
   "source": [
    "x = 'one\\ttwo\\tthree'"
   ]
  },
  {
   "cell_type": "code",
   "execution_count": 63,
   "id": "0a8f39a3",
   "metadata": {},
   "outputs": [
    {
     "name": "stdout",
     "output_type": "stream",
     "text": [
      "one\ttwo\tthree\n"
     ]
    }
   ],
   "source": [
    "print(x)"
   ]
  },
  {
   "cell_type": "code",
   "execution_count": 64,
   "id": "1f82aefe",
   "metadata": {},
   "outputs": [
    {
     "name": "stdout",
     "output_type": "stream",
     "text": [
      "abbcd 2 3\n"
     ]
    }
   ],
   "source": [
    "print('abbcd', 2, 3)"
   ]
  },
  {
   "cell_type": "code",
   "execution_count": 65,
   "id": "dd4b91a3",
   "metadata": {},
   "outputs": [
    {
     "name": "stdout",
     "output_type": "stream",
     "text": [
      "abbcd\n",
      "2\n",
      "3\n"
     ]
    }
   ],
   "source": [
    "print('abbcd', 2, 3, sep='\\n')"
   ]
  },
  {
   "cell_type": "code",
   "execution_count": 66,
   "id": "8d8cf1a6",
   "metadata": {},
   "outputs": [
    {
     "ename": "SyntaxError",
     "evalue": "positional argument follows keyword argument (Temp/ipykernel_20588/3697102207.py, line 1)",
     "output_type": "error",
     "traceback": [
      "\u001b[1;36m  File \u001b[1;32m\"C:\\Users\\mkhaw\\AppData\\Local\\Temp/ipykernel_20588/3697102207.py\"\u001b[1;36m, line \u001b[1;32m1\u001b[0m\n\u001b[1;33m    print('abbcd', 2, 3, sep='\\n', 4)\u001b[0m\n\u001b[1;37m                                   ^\u001b[0m\n\u001b[1;31mSyntaxError\u001b[0m\u001b[1;31m:\u001b[0m positional argument follows keyword argument\n"
     ]
    }
   ],
   "source": [
    "print('abbcd', 2, 3, sep='\\n', 4)"
   ]
  },
  {
   "cell_type": "code",
   "execution_count": 68,
   "id": "353a2e5c",
   "metadata": {},
   "outputs": [
    {
     "name": "stdout",
     "output_type": "stream",
     "text": [
      "Please enter a number: 10\n"
     ]
    }
   ],
   "source": [
    "number = input('Please enter a number: ')"
   ]
  },
  {
   "cell_type": "code",
   "execution_count": 69,
   "id": "807799a7",
   "metadata": {},
   "outputs": [
    {
     "data": {
      "text/plain": [
       "'10'"
      ]
     },
     "execution_count": 69,
     "metadata": {},
     "output_type": "execute_result"
    }
   ],
   "source": [
    "number"
   ]
  },
  {
   "cell_type": "code",
   "execution_count": 70,
   "id": "2d9e0eb3",
   "metadata": {},
   "outputs": [
    {
     "data": {
      "text/plain": [
       "str"
      ]
     },
     "execution_count": 70,
     "metadata": {},
     "output_type": "execute_result"
    }
   ],
   "source": [
    "type(number)"
   ]
  },
  {
   "cell_type": "code",
   "execution_count": 72,
   "id": "b7e5f0fd",
   "metadata": {},
   "outputs": [
    {
     "data": {
      "text/plain": [
       "20"
      ]
     },
     "execution_count": 72,
     "metadata": {},
     "output_type": "execute_result"
    }
   ],
   "source": [
    "int(number) * 2"
   ]
  },
  {
   "cell_type": "code",
   "execution_count": 150,
   "id": "de7c9931",
   "metadata": {},
   "outputs": [],
   "source": [
    "def convert_celsius():\n",
    "    fahrenheit = float(input('Please enter temperature in Fahrenheit: '))\n",
    "    celsius =  (fahrenheit - 32.0) * 5.0 / 9.0  \n",
    "    print('The temperature in celsius is: ', celsius) \n"
   ]
  },
  {
   "cell_type": "code",
   "execution_count": 151,
   "id": "7edfdeda",
   "metadata": {},
   "outputs": [
    {
     "name": "stdout",
     "output_type": "stream",
     "text": [
      "Please enter temperature in Fahrenheit: haha\n"
     ]
    },
    {
     "ename": "ValueError",
     "evalue": "could not convert string to float: 'haha'",
     "output_type": "error",
     "traceback": [
      "\u001b[1;31m---------------------------------------------------------------------------\u001b[0m",
      "\u001b[1;31mValueError\u001b[0m                                Traceback (most recent call last)",
      "\u001b[1;32m~\\AppData\\Local\\Temp/ipykernel_20588/926334228.py\u001b[0m in \u001b[0;36m<module>\u001b[1;34m\u001b[0m\n\u001b[1;32m----> 1\u001b[1;33m \u001b[0mx\u001b[0m \u001b[1;33m=\u001b[0m \u001b[0mconvert_celsius\u001b[0m\u001b[1;33m(\u001b[0m\u001b[1;33m)\u001b[0m\u001b[1;33m\u001b[0m\u001b[1;33m\u001b[0m\u001b[0m\n\u001b[0m",
      "\u001b[1;32m~\\AppData\\Local\\Temp/ipykernel_20588/519401432.py\u001b[0m in \u001b[0;36mconvert_celsius\u001b[1;34m()\u001b[0m\n\u001b[0;32m      1\u001b[0m \u001b[1;32mdef\u001b[0m \u001b[0mconvert_celsius\u001b[0m\u001b[1;33m(\u001b[0m\u001b[1;33m)\u001b[0m\u001b[1;33m:\u001b[0m\u001b[1;33m\u001b[0m\u001b[1;33m\u001b[0m\u001b[0m\n\u001b[1;32m----> 2\u001b[1;33m     \u001b[0mfahrenheit\u001b[0m \u001b[1;33m=\u001b[0m \u001b[0mfloat\u001b[0m\u001b[1;33m(\u001b[0m\u001b[0minput\u001b[0m\u001b[1;33m(\u001b[0m\u001b[1;34m'Please enter temperature in Fahrenheit: '\u001b[0m\u001b[1;33m)\u001b[0m\u001b[1;33m)\u001b[0m\u001b[1;33m\u001b[0m\u001b[1;33m\u001b[0m\u001b[0m\n\u001b[0m\u001b[0;32m      3\u001b[0m     \u001b[0mcelsius\u001b[0m \u001b[1;33m=\u001b[0m  \u001b[1;33m(\u001b[0m\u001b[0mfahrenheit\u001b[0m \u001b[1;33m-\u001b[0m \u001b[1;36m32.0\u001b[0m\u001b[1;33m)\u001b[0m \u001b[1;33m*\u001b[0m \u001b[1;36m5.0\u001b[0m \u001b[1;33m/\u001b[0m \u001b[1;36m9.0\u001b[0m\u001b[1;33m\u001b[0m\u001b[1;33m\u001b[0m\u001b[0m\n\u001b[0;32m      4\u001b[0m     \u001b[0mprint\u001b[0m\u001b[1;33m(\u001b[0m\u001b[1;34m'The temperature in celsius is: '\u001b[0m\u001b[1;33m,\u001b[0m \u001b[0mcelsius\u001b[0m\u001b[1;33m)\u001b[0m\u001b[1;33m\u001b[0m\u001b[1;33m\u001b[0m\u001b[0m\n",
      "\u001b[1;31mValueError\u001b[0m: could not convert string to float: 'haha'"
     ]
    }
   ],
   "source": [
    "x = convert_celsius()\n"
   ]
  },
  {
   "cell_type": "code",
   "execution_count": 76,
   "id": "d2c8ef81",
   "metadata": {},
   "outputs": [
    {
     "name": "stdout",
     "output_type": "stream",
     "text": [
      "None\n"
     ]
    }
   ],
   "source": [
    "print(x)"
   ]
  },
  {
   "cell_type": "code",
   "execution_count": 77,
   "id": "126b7156",
   "metadata": {},
   "outputs": [
    {
     "name": "stdout",
     "output_type": "stream",
     "text": [
      "3.14\n"
     ]
    }
   ],
   "source": [
    "PI = 3.14159265359 \n",
    "print(f'{PI:.2f}')"
   ]
  },
  {
   "cell_type": "code",
   "execution_count": 78,
   "id": "3f532b2b",
   "metadata": {},
   "outputs": [
    {
     "name": "stdout",
     "output_type": "stream",
     "text": [
      "PI is 3.14\n"
     ]
    }
   ],
   "source": [
    "PI = 3.14159265359 \n",
    "name = 'PI'\n",
    "print('%s is %.2f' % (name, PI))  # oldest way format specifier is <width>.<precision><type>"
   ]
  },
  {
   "cell_type": "code",
   "execution_count": 79,
   "id": "ef2c5a47",
   "metadata": {},
   "outputs": [
    {
     "ename": "TypeError",
     "evalue": "must be real number, not str",
     "output_type": "error",
     "traceback": [
      "\u001b[1;31m---------------------------------------------------------------------------\u001b[0m",
      "\u001b[1;31mTypeError\u001b[0m                                 Traceback (most recent call last)",
      "\u001b[1;32m~\\AppData\\Local\\Temp/ipykernel_20588/3989482076.py\u001b[0m in \u001b[0;36m<module>\u001b[1;34m\u001b[0m\n\u001b[1;32m----> 1\u001b[1;33m \u001b[0mprint\u001b[0m\u001b[1;33m(\u001b[0m\u001b[1;34m'%s is %.2f'\u001b[0m \u001b[1;33m%\u001b[0m \u001b[1;33m(\u001b[0m\u001b[0mPI\u001b[0m\u001b[1;33m,\u001b[0m \u001b[0mname\u001b[0m\u001b[1;33m)\u001b[0m\u001b[1;33m)\u001b[0m  \u001b[1;31m# oldest way format specifier is <width>.<precision><type>\u001b[0m\u001b[1;33m\u001b[0m\u001b[1;33m\u001b[0m\u001b[0m\n\u001b[0m",
      "\u001b[1;31mTypeError\u001b[0m: must be real number, not str"
     ]
    }
   ],
   "source": [
    "print('%s is %.2f' % (PI, name))  # oldest way format specifier is <width>.<precision><type>"
   ]
  },
  {
   "cell_type": "code",
   "execution_count": 81,
   "id": "8ea4d377",
   "metadata": {},
   "outputs": [
    {
     "name": "stdout",
     "output_type": "stream",
     "text": [
      "PI is 3.14\n"
     ]
    }
   ],
   "source": [
    "PI = 3.14159265359 \n",
    "name = 'PI'\n",
    "#{<index>:<format-specifier>} where the format specifier is <width>.<precision><type>\n",
    "print(('{0} is {1:.2f}'.format(name, PI)) ) # "
   ]
  },
  {
   "cell_type": "code",
   "execution_count": 83,
   "id": "4a80e3e1",
   "metadata": {},
   "outputs": [
    {
     "name": "stdout",
     "output_type": "stream",
     "text": [
      "PI is 3.14\n"
     ]
    }
   ],
   "source": [
    "print(('{} is {:.2f}'.format(name, PI)) ) # "
   ]
  },
  {
   "cell_type": "code",
   "execution_count": 84,
   "id": "9ef4f4b6",
   "metadata": {},
   "outputs": [
    {
     "name": "stdout",
     "output_type": "stream",
     "text": [
      "3.14159265359 is PI\n"
     ]
    }
   ],
   "source": [
    "print(('{1} is {0}'.format(name, PI)) ) # "
   ]
  },
  {
   "cell_type": "code",
   "execution_count": 85,
   "id": "50a12e61",
   "metadata": {},
   "outputs": [
    {
     "name": "stdout",
     "output_type": "stream",
     "text": [
      "PI is 3.14\n"
     ]
    }
   ],
   "source": [
    "PI = 3.14159265359 \n",
    "name = 'PI'\n",
    "# {<name_of_variable>:<format-specifier>} where the format specifier is <width>.<precision><type>\n",
    "print(f'{name} is {PI:.2f}') # newest way"
   ]
  },
  {
   "cell_type": "code",
   "execution_count": 86,
   "id": "204e15d1",
   "metadata": {},
   "outputs": [
    {
     "name": "stdout",
     "output_type": "stream",
     "text": [
      "3/4\n"
     ]
    }
   ],
   "source": [
    "x = 3\n",
    "y = 4\n",
    "print(f'{x}/{y}')"
   ]
  },
  {
   "cell_type": "code",
   "execution_count": 87,
   "id": "9c8bf897",
   "metadata": {},
   "outputs": [
    {
     "name": "stdout",
     "output_type": "stream",
     "text": [
      "3/16\n"
     ]
    }
   ],
   "source": [
    "print(f'{x}/{y*y}')"
   ]
  },
  {
   "cell_type": "code",
   "execution_count": 88,
   "id": "81b78ef6",
   "metadata": {},
   "outputs": [],
   "source": [
    "course_number = 'EAS503'\n",
    "class_size = 113\n",
    "class_average = 92.3"
   ]
  },
  {
   "cell_type": "code",
   "execution_count": 89,
   "id": "94eb432d",
   "metadata": {},
   "outputs": [
    {
     "name": "stdout",
     "output_type": "stream",
     "text": [
      "EAS503\n",
      "EAS503\n"
     ]
    }
   ],
   "source": [
    "str_format = '{}'.format(course_number)\n",
    "f_string = f'{course_number}'\n",
    "\n",
    "print(str_format)\n",
    "print(f_string)"
   ]
  },
  {
   "cell_type": "code",
   "execution_count": 90,
   "id": "c90ab165",
   "metadata": {},
   "outputs": [
    {
     "name": "stdout",
     "output_type": "stream",
     "text": [
      "The course number is EAS503.\n",
      "The course number is EAS503.\n"
     ]
    }
   ],
   "source": [
    "str_format = 'The course number is {}.'.format(course_number)\n",
    "f_string = f'The course number is {course_number}.'\n",
    "\n",
    "print(str_format)\n",
    "print(f_string)"
   ]
  },
  {
   "cell_type": "code",
   "execution_count": 91,
   "id": "43cc362e",
   "metadata": {},
   "outputs": [
    {
     "name": "stdout",
     "output_type": "stream",
     "text": [
      "The course number is 113. It has EAS503 students.\n",
      "The course number is 113. It has EAS503 students.\n"
     ]
    }
   ],
   "source": [
    "str_format = 'The course number is {}. It has {} students.'.format(course_number, class_size)\n",
    "str_format = 'The course number is {1}. It has {0} students.'.format(course_number, class_size)\n",
    "f_string = f'The course number is {course_number}. It has {class_size} students.'\n",
    "f_string = f'The course number is {class_size}. It has {course_number} students.'\n",
    "\n",
    "print(str_format)\n",
    "print(f_string)"
   ]
  },
  {
   "cell_type": "code",
   "execution_count": 92,
   "id": "80029888",
   "metadata": {},
   "outputs": [
    {
     "name": "stdout",
     "output_type": "stream",
     "text": [
      "The course number is EAS503    . It has        113 students. The class average is       92.3\n",
      "The course number is EAS503    . It has        113 students. The class average is       92.3.\n"
     ]
    }
   ],
   "source": [
    "str_format = 'The course number is {0:10}. It has {1:10} students. The class average is {2:10}'.format(course_number, class_size, class_average)\n",
    "f_string = f'The course number is {course_number:10}. It has {class_size:10} students. The class average is {class_average:10}.'\n",
    "\n",
    "print(str_format)\n",
    "print(f_string)"
   ]
  },
  {
   "cell_type": "code",
   "execution_count": 93,
   "id": "e47b966f",
   "metadata": {},
   "outputs": [
    {
     "name": "stdout",
     "output_type": "stream",
     "text": [
      "The course number is     EAS503. It has        113 students. The class average is       92.3\n",
      "The course number is        113. It has        113 students. The class average is       92.3.\n"
     ]
    }
   ],
   "source": [
    "str_format = 'The course number is {0:>10}. It has {1:>10} students. The class average is {2:>10}'.format(course_number, class_size, class_average)\n",
    "f_string = f'The course number is {class_size:>10}. It has {class_size:>10} students. The class average is {class_average:>10}.'\n",
    "\n",
    "print(str_format)\n",
    "print(f_string)"
   ]
  },
  {
   "cell_type": "code",
   "execution_count": 94,
   "id": "a7e39907",
   "metadata": {},
   "outputs": [
    {
     "name": "stdout",
     "output_type": "stream",
     "text": [
      "The course number is EAS503    . It has 113        students. The class average is 92.3      \n",
      "The course number is EAS503    . It has 113        students. The class average is 92.3      .\n"
     ]
    }
   ],
   "source": [
    "str_format = 'The course number is {0:<10}. It has {1:<10} students. The class average is {2:<10}'.format(course_number, class_size, class_average)\n",
    "f_string = f'The course number is {course_number:<10}. It has {class_size:<10} students. The class average is {class_average:<10}.'\n",
    "\n",
    "print(str_format)\n",
    "print(f_string)"
   ]
  },
  {
   "cell_type": "code",
   "execution_count": 96,
   "id": "5204cbcb",
   "metadata": {},
   "outputs": [
    {
     "name": "stdout",
     "output_type": "stream",
     "text": [
      "The course number is   EAS503  . It has    113     students. The class average is    92.3   \n",
      "The course number is   EAS503  . It has    113     students. The class average is    92.3   .\n"
     ]
    }
   ],
   "source": [
    "str_format = 'The course number is {0:^10}. It has {1:^10} students. The class average is {2:^10}'.format(course_number, class_size, class_average)\n",
    "f_string = f'The course number is {course_number:^10}. It has {class_size:^10} students. The class average is {class_average:^10}.'\n",
    "\n",
    "print(str_format)\n",
    "print(f_string)"
   ]
  },
  {
   "cell_type": "code",
   "execution_count": 99,
   "id": "444ec404",
   "metadata": {},
   "outputs": [
    {
     "name": "stdout",
     "output_type": "stream",
     "text": [
      "The number padded 223333 padded with zeros 00223333\n",
      "The number padded 223333 padded with zeros 00223333\n"
     ]
    }
   ],
   "source": [
    "student_id = 223333\n",
    "\n",
    "str_format = 'The number padded {} padded with zeros {:08}'.format(student_id, student_id)\n",
    "f_string = f'The number padded {student_id} padded with zeros {student_id:08}'\n",
    "\n",
    "print(str_format)\n",
    "print(f_string)"
   ]
  },
  {
   "cell_type": "code",
   "execution_count": 100,
   "id": "9b7ff5fd",
   "metadata": {},
   "outputs": [
    {
     "name": "stdout",
     "output_type": "stream",
     "text": [
      "The number padded 223333 padded with zeros 22333300\n",
      "The number padded 223333 padded with zeros 22333300\n"
     ]
    }
   ],
   "source": [
    "student_id = 223333\n",
    "\n",
    "str_format = 'The number padded {} padded with zeros {:<08}'.format(student_id, student_id)\n",
    "f_string = f'The number padded {student_id} padded with zeros {student_id:<08}'\n",
    "\n",
    "print(str_format)\n",
    "print(f_string)"
   ]
  },
  {
   "cell_type": "code",
   "execution_count": 102,
   "id": "eb1121a2",
   "metadata": {},
   "outputs": [
    {
     "name": "stdout",
     "output_type": "stream",
     "text": [
      "The number padded 223333 padded with zeros --223333\n",
      "The number padded 223333 padded with zeros --223333\n"
     ]
    }
   ],
   "source": [
    "student_id = 223333\n",
    "\n",
    "str_format = 'The number padded {} padded with zeros {:->8}'.format(student_id, student_id)\n",
    "f_string = f'The number padded {student_id} padded with zeros {student_id:->8}'\n",
    "\n",
    "print(str_format)\n",
    "print(f_string)"
   ]
  },
  {
   "cell_type": "code",
   "execution_count": 103,
   "id": "4a43d3f9",
   "metadata": {},
   "outputs": [
    {
     "name": "stdout",
     "output_type": "stream",
     "text": [
      "223333\n"
     ]
    }
   ],
   "source": [
    "print(f'{student_id}')"
   ]
  },
  {
   "cell_type": "code",
   "execution_count": 107,
   "id": "6882ff22",
   "metadata": {},
   "outputs": [
    {
     "name": "stdout",
     "output_type": "stream",
     "text": [
      "The number padded 223333 padded with zeros -223333-\n",
      "The number padded 223333 padded with zeros --223333\n"
     ]
    }
   ],
   "source": [
    "student_id = 223333\n",
    "\n",
    "str_format = 'The number padded {} padded with zeros {:-^8}'.format(student_id, student_id)\n",
    "f_string = f'The number padded {student_id} padded with zeros {student_id:->8}'\n",
    "\n",
    "print(str_format)\n",
    "print(f_string)"
   ]
  },
  {
   "cell_type": "code",
   "execution_count": 110,
   "id": "a240eb7c",
   "metadata": {},
   "outputs": [
    {
     "name": "stdout",
     "output_type": "stream",
     "text": [
      "2324: 1\n"
     ]
    }
   ],
   "source": [
    "str_template = '{}: {}'\n",
    "\n",
    "print(str_template.format(2324, 1))"
   ]
  },
  {
   "cell_type": "code",
   "execution_count": 108,
   "id": "796afe59",
   "metadata": {},
   "outputs": [
    {
     "name": "stdout",
     "output_type": "stream",
     "text": [
      "+---------------------------------------------------+\n",
      "|               Cereal Yields (kg/ha)               |\n",
      "+---------------+--------+--------+--------+--------+\n",
      "|    Country    |  1980  |  1990  |  2000  |  2010  |\n",
      "+---------------+--------+--------+--------+--------+\n",
      "| China         |  2,937 |  4,321 |  4,752 |  5,527 |\n",
      "| Germany       |  4,225 |  5,411 |  6,453 |  6,718 |\n",
      "| United States |  3,772 |  4,755 |  5,854 |  6,988 |\n",
      "+---------------+--------+--------+--------+--------+\n"
     ]
    }
   ],
   "source": [
    "title = '|' + '{:^51}'.format('Cereal Yields (kg/ha)') + '|'\n",
    "line = '+' + '-'*15 + '+' + ('-'*8 + '+')*4\n",
    "row = '| {:<13} |' + ' {:6,d} |'*4\n",
    "header = '| {:^13s} |'.format('Country') + (' {:^6d} |'*4).format(1980, 1990,\n",
    "                                                                  2000, 2010)\n",
    "print('+' + '-'*(len(title)-2) + '+',\n",
    "      title,\n",
    "      line,\n",
    "      header,\n",
    "      line,\n",
    "      row.format('China', 2937, 4321, 4752, 5527),\n",
    "      row.format('Germany', 4225, 5411, 6453, 6718),\n",
    "      row.format('United States', 3772, 4755, 5854, 6988),\n",
    "      line,\n",
    "      sep='\\n')"
   ]
  },
  {
   "cell_type": "code",
   "execution_count": 113,
   "id": "c7900f26",
   "metadata": {},
   "outputs": [
    {
     "name": "stdout",
     "output_type": "stream",
     "text": [
      "|               Cereal Yields (kg/ha)               |\n"
     ]
    }
   ],
   "source": [
    "title = '|' + '{:^51}'.format('Cereal Yields (kg/ha)') + '|'\n",
    "print(title)"
   ]
  },
  {
   "cell_type": "code",
   "execution_count": 115,
   "id": "99307489",
   "metadata": {},
   "outputs": [
    {
     "name": "stdout",
     "output_type": "stream",
     "text": [
      "+---------------+--------+--------+--------+--------+\n"
     ]
    }
   ],
   "source": [
    "line = '+' + '-'*15 + '+' + ('-'*8 + '+')*4\n",
    "print(line)"
   ]
  },
  {
   "cell_type": "code",
   "execution_count": 116,
   "id": "bf69a6b1",
   "metadata": {},
   "outputs": [
    {
     "name": "stdout",
     "output_type": "stream",
     "text": [
      "| {:<13} | {:6,d} | {:6,d} | {:6,d} | {:6,d} |\n"
     ]
    }
   ],
   "source": [
    "row = '| {:<13} |' + ' {:6,d} |'*4\n",
    "print(row)"
   ]
  },
  {
   "cell_type": "code",
   "execution_count": 117,
   "id": "1859750e",
   "metadata": {},
   "outputs": [],
   "source": [
    "header = '| {:^13s} |'.format('Country') + (' {:^6d} |'*4).format(1980, 1990,\n",
    "                                                                  2000, 2010)"
   ]
  },
  {
   "cell_type": "code",
   "execution_count": 118,
   "id": "aae7d679",
   "metadata": {},
   "outputs": [
    {
     "name": "stdout",
     "output_type": "stream",
     "text": [
      "|    Country    |  1980  |  1990  |  2000  |  2010  |\n"
     ]
    }
   ],
   "source": [
    "print(header)"
   ]
  },
  {
   "cell_type": "code",
   "execution_count": 119,
   "id": "e687e551",
   "metadata": {},
   "outputs": [
    {
     "data": {
      "text/plain": [
       "'+---------------------------------------------------+'"
      ]
     },
     "execution_count": 119,
     "metadata": {},
     "output_type": "execute_result"
    }
   ],
   "source": [
    "'+' + '-'*(len(title)-2) + '+'"
   ]
  },
  {
   "cell_type": "code",
   "execution_count": 120,
   "id": "021794f9",
   "metadata": {},
   "outputs": [
    {
     "name": "stdout",
     "output_type": "stream",
     "text": [
      "+---------------------------------------------------+\n",
      "|               Cereal Yields (kg/ha)               |\n",
      "+---------------+--------+--------+--------+--------+\n",
      "|    Country    |  1980  |  1990  |  2000  |  2010  |\n",
      "+---------------+--------+--------+--------+--------+\n",
      "| China         |  2,937 |  4,321 |  4,752 |  5,527 |\n",
      "| Germany       |  4,225 |  5,411 |  6,453 |  6,718 |\n",
      "| United States |  3,772 |  4,755 |  5,854 |  6,988 |\n",
      "+---------------+--------+--------+--------+--------+\n"
     ]
    }
   ],
   "source": [
    "print('+' + '-'*(len(title)-2) + '+',\n",
    "      title,\n",
    "      line,\n",
    "      header,\n",
    "      line,\n",
    "      row.format('China', 2937, 4321, 4752, 5527),\n",
    "      row.format('Germany', 4225, 5411, 6453, 6718),\n",
    "      row.format('United States', 3772, 4755, 5854, 6988),\n",
    "      line,\n",
    "      sep='\\n')"
   ]
  },
  {
   "cell_type": "code",
   "execution_count": 123,
   "id": "45013ae1",
   "metadata": {},
   "outputs": [
    {
     "data": {
      "text/plain": [
       "'3,333,000,000.000000'"
      ]
     },
     "execution_count": 123,
     "metadata": {},
     "output_type": "execute_result"
    }
   ],
   "source": [
    "'{:,f}'.format(3333000000.0000000)"
   ]
  },
  {
   "cell_type": "code",
   "execution_count": 124,
   "id": "c68a337c",
   "metadata": {},
   "outputs": [],
   "source": [
    "x = 'EAS503'"
   ]
  },
  {
   "cell_type": "code",
   "execution_count": 125,
   "id": "3e2bc065",
   "metadata": {},
   "outputs": [
    {
     "data": {
      "text/plain": [
       "'Eas503'"
      ]
     },
     "execution_count": 125,
     "metadata": {},
     "output_type": "execute_result"
    }
   ],
   "source": [
    "x.capitalize()"
   ]
  },
  {
   "cell_type": "code",
   "execution_count": 126,
   "id": "8b3df519",
   "metadata": {},
   "outputs": [
    {
     "data": {
      "text/plain": [
       "'EAS503'"
      ]
     },
     "execution_count": 126,
     "metadata": {},
     "output_type": "execute_result"
    }
   ],
   "source": [
    "x"
   ]
  },
  {
   "cell_type": "code",
   "execution_count": 127,
   "id": "4e6e1988",
   "metadata": {},
   "outputs": [],
   "source": [
    "y = x.capitalize()"
   ]
  },
  {
   "cell_type": "code",
   "execution_count": 128,
   "id": "a01e4cea",
   "metadata": {},
   "outputs": [
    {
     "name": "stdout",
     "output_type": "stream",
     "text": [
      "EAS503 Eas503\n"
     ]
    }
   ],
   "source": [
    "print(x,y)"
   ]
  },
  {
   "cell_type": "code",
   "execution_count": 129,
   "id": "11328a41",
   "metadata": {},
   "outputs": [
    {
     "data": {
      "text/plain": [
       "3"
      ]
     },
     "execution_count": 129,
     "metadata": {},
     "output_type": "execute_result"
    }
   ],
   "source": [
    "x = 'AAABBC'\n",
    "x.count('A')"
   ]
  },
  {
   "cell_type": "code",
   "execution_count": 131,
   "id": "8e37ba1e",
   "metadata": {},
   "outputs": [
    {
     "data": {
      "text/plain": [
       "False"
      ]
     },
     "execution_count": 131,
     "metadata": {},
     "output_type": "execute_result"
    }
   ],
   "source": [
    "x.endswith('E')"
   ]
  },
  {
   "cell_type": "code",
   "execution_count": 132,
   "id": "ca07d0b2",
   "metadata": {},
   "outputs": [
    {
     "data": {
      "text/plain": [
       "3"
      ]
     },
     "execution_count": 132,
     "metadata": {},
     "output_type": "execute_result"
    }
   ],
   "source": [
    "x = 'AABBCA'\n",
    "x.count('A')"
   ]
  },
  {
   "cell_type": "code",
   "execution_count": 133,
   "id": "601cc9d8",
   "metadata": {},
   "outputs": [
    {
     "data": {
      "text/plain": [
       "1"
      ]
     },
     "execution_count": 133,
     "metadata": {},
     "output_type": "execute_result"
    }
   ],
   "source": [
    "x = 'ABABA'\n",
    "x.count('ABA')"
   ]
  },
  {
   "cell_type": "code",
   "execution_count": 135,
   "id": "706ec350",
   "metadata": {},
   "outputs": [
    {
     "data": {
      "text/plain": [
       "1"
      ]
     },
     "execution_count": 135,
     "metadata": {},
     "output_type": "execute_result"
    }
   ],
   "source": [
    "x.find('B')"
   ]
  },
  {
   "cell_type": "code",
   "execution_count": 137,
   "id": "7d819f87",
   "metadata": {},
   "outputs": [
    {
     "data": {
      "text/plain": [
       "False"
      ]
     },
     "execution_count": 137,
     "metadata": {},
     "output_type": "execute_result"
    }
   ],
   "source": [
    "x = 'Eas'\n",
    "x.islower()"
   ]
  },
  {
   "cell_type": "code",
   "execution_count": 138,
   "id": "3f17b65e",
   "metadata": {},
   "outputs": [
    {
     "data": {
      "text/plain": [
       "'eas'"
      ]
     },
     "execution_count": 138,
     "metadata": {},
     "output_type": "execute_result"
    }
   ],
   "source": [
    "x = 'EAS'\n",
    "x.lower()"
   ]
  },
  {
   "cell_type": "code",
   "execution_count": 141,
   "id": "790c26aa",
   "metadata": {},
   "outputs": [],
   "source": [
    "x = '   aabb   \\t\\n'"
   ]
  },
  {
   "cell_type": "code",
   "execution_count": 142,
   "id": "4f6798c1",
   "metadata": {},
   "outputs": [
    {
     "data": {
      "text/plain": [
       "'   aabb'"
      ]
     },
     "execution_count": 142,
     "metadata": {},
     "output_type": "execute_result"
    }
   ],
   "source": [
    "x.rstrip()"
   ]
  },
  {
   "cell_type": "code",
   "execution_count": 143,
   "id": "87381982",
   "metadata": {},
   "outputs": [
    {
     "data": {
      "text/plain": [
       "'aabb   \\t\\n'"
      ]
     },
     "execution_count": 143,
     "metadata": {},
     "output_type": "execute_result"
    }
   ],
   "source": [
    "x.lstrip()"
   ]
  },
  {
   "cell_type": "code",
   "execution_count": 144,
   "id": "dfe273b7",
   "metadata": {},
   "outputs": [
    {
     "data": {
      "text/plain": [
       "'aabb'"
      ]
     },
     "execution_count": 144,
     "metadata": {},
     "output_type": "execute_result"
    }
   ],
   "source": [
    "x.strip()"
   ]
  },
  {
   "cell_type": "code",
   "execution_count": 147,
   "id": "acdc92aa",
   "metadata": {},
   "outputs": [],
   "source": [
    "x = 'Doe, Jane'"
   ]
  },
  {
   "cell_type": "code",
   "execution_count": 149,
   "id": "715ca3bc",
   "metadata": {},
   "outputs": [
    {
     "data": {
      "text/plain": [
       "['Doe', 'Jane']"
      ]
     },
     "execution_count": 149,
     "metadata": {},
     "output_type": "execute_result"
    }
   ],
   "source": [
    "x.split(', ')"
   ]
  },
  {
   "cell_type": "code",
   "execution_count": 152,
   "id": "4cd5bc21",
   "metadata": {},
   "outputs": [
    {
     "data": {
      "text/plain": [
       "False"
      ]
     },
     "execution_count": 152,
     "metadata": {},
     "output_type": "execute_result"
    }
   ],
   "source": [
    "cold = True\n",
    "windy = False\n",
    "\n",
    "(not cold) and windy"
   ]
  },
  {
   "cell_type": "code",
   "execution_count": 153,
   "id": "ca5522b4",
   "metadata": {},
   "outputs": [
    {
     "data": {
      "text/plain": [
       "True"
      ]
     },
     "execution_count": 153,
     "metadata": {},
     "output_type": "execute_result"
    }
   ],
   "source": [
    "not (cold and windy)"
   ]
  },
  {
   "cell_type": "code",
   "execution_count": 154,
   "id": "b917c037",
   "metadata": {},
   "outputs": [],
   "source": [
    "x = ''"
   ]
  },
  {
   "cell_type": "code",
   "execution_count": 155,
   "id": "5f421bb4",
   "metadata": {},
   "outputs": [
    {
     "data": {
      "text/plain": [
       "0"
      ]
     },
     "execution_count": 155,
     "metadata": {},
     "output_type": "execute_result"
    }
   ],
   "source": [
    "len(x)"
   ]
  },
  {
   "cell_type": "code",
   "execution_count": 156,
   "id": "9987749c",
   "metadata": {},
   "outputs": [
    {
     "data": {
      "text/plain": [
       "False"
      ]
     },
     "execution_count": 156,
     "metadata": {},
     "output_type": "execute_result"
    }
   ],
   "source": [
    "1 > 2"
   ]
  },
  {
   "cell_type": "code",
   "execution_count": 157,
   "id": "b6d72f78",
   "metadata": {},
   "outputs": [
    {
     "data": {
      "text/plain": [
       "True"
      ]
     },
     "execution_count": 157,
     "metadata": {},
     "output_type": "execute_result"
    }
   ],
   "source": [
    "a = 1\n",
    "b = 1\n",
    "a == b"
   ]
  },
  {
   "cell_type": "code",
   "execution_count": 158,
   "id": "81e1cdea",
   "metadata": {},
   "outputs": [
    {
     "data": {
      "text/plain": [
       "True"
      ]
     },
     "execution_count": 158,
     "metadata": {},
     "output_type": "execute_result"
    }
   ],
   "source": [
    "67.0 == 67"
   ]
  },
  {
   "cell_type": "code",
   "execution_count": 159,
   "id": "3b0e78de",
   "metadata": {},
   "outputs": [
    {
     "data": {
      "text/plain": [
       "False"
      ]
     },
     "execution_count": 159,
     "metadata": {},
     "output_type": "execute_result"
    }
   ],
   "source": [
    "67.0 != 67"
   ]
  },
  {
   "cell_type": "code",
   "execution_count": 160,
   "id": "e2f180e4",
   "metadata": {},
   "outputs": [
    {
     "data": {
      "text/plain": [
       "True"
      ]
     },
     "execution_count": 160,
     "metadata": {},
     "output_type": "execute_result"
    }
   ],
   "source": [
    "x = 2\n",
    "y = 5\n",
    "z = 7\n",
    "x < y and y < z"
   ]
  },
  {
   "cell_type": "code",
   "execution_count": 161,
   "id": "11145c97",
   "metadata": {},
   "outputs": [
    {
     "data": {
      "text/plain": [
       "True"
      ]
     },
     "execution_count": 161,
     "metadata": {},
     "output_type": "execute_result"
    }
   ],
   "source": [
    "(x < y) and (y < z) # better\n"
   ]
  },
  {
   "cell_type": "code",
   "execution_count": 162,
   "id": "08fc9b12",
   "metadata": {},
   "outputs": [
    {
     "data": {
      "text/plain": [
       "True"
      ]
     },
     "execution_count": 162,
     "metadata": {},
     "output_type": "execute_result"
    }
   ],
   "source": [
    "x < y < z"
   ]
  },
  {
   "cell_type": "code",
   "execution_count": 163,
   "id": "cc236644",
   "metadata": {},
   "outputs": [
    {
     "data": {
      "text/plain": [
       "True"
      ]
     },
     "execution_count": 163,
     "metadata": {},
     "output_type": "execute_result"
    }
   ],
   "source": [
    "x = 3\n",
    "(1 < x) and (x <= 5)"
   ]
  },
  {
   "cell_type": "code",
   "execution_count": 164,
   "id": "dfc9faf3",
   "metadata": {},
   "outputs": [
    {
     "data": {
      "text/plain": [
       "False"
      ]
     },
     "execution_count": 164,
     "metadata": {},
     "output_type": "execute_result"
    }
   ],
   "source": [
    "x = 7\n",
    "(1 < x) and (x <= 5)"
   ]
  },
  {
   "cell_type": "code",
   "execution_count": 165,
   "id": "e30385e2",
   "metadata": {},
   "outputs": [
    {
     "data": {
      "text/plain": [
       "True"
      ]
     },
     "execution_count": 165,
     "metadata": {},
     "output_type": "execute_result"
    }
   ],
   "source": [
    "x = 3 \n",
    "1 < x <= 5 # You can chain comparisons"
   ]
  },
  {
   "cell_type": "code",
   "execution_count": 166,
   "id": "9d5d7a89",
   "metadata": {},
   "outputs": [
    {
     "data": {
      "text/plain": [
       "True"
      ]
     },
     "execution_count": 166,
     "metadata": {},
     "output_type": "execute_result"
    }
   ],
   "source": [
    "3 < 5 != True "
   ]
  },
  {
   "cell_type": "code",
   "execution_count": 167,
   "id": "31f5e0c2",
   "metadata": {},
   "outputs": [
    {
     "data": {
      "text/plain": [
       "True"
      ]
     },
     "execution_count": 167,
     "metadata": {},
     "output_type": "execute_result"
    }
   ],
   "source": [
    "(3 < 5) and (5 != True)"
   ]
  },
  {
   "cell_type": "code",
   "execution_count": 169,
   "id": "50c03d8d",
   "metadata": {},
   "outputs": [
    {
     "data": {
      "text/plain": [
       "True"
      ]
     },
     "execution_count": 169,
     "metadata": {},
     "output_type": "execute_result"
    }
   ],
   "source": [
    "5 != True"
   ]
  },
  {
   "cell_type": "code",
   "execution_count": 170,
   "id": "37797815",
   "metadata": {},
   "outputs": [
    {
     "data": {
      "text/plain": [
       "True"
      ]
     },
     "execution_count": 170,
     "metadata": {},
     "output_type": "execute_result"
    }
   ],
   "source": [
    "1 == 1"
   ]
  },
  {
   "cell_type": "code",
   "execution_count": 171,
   "id": "d3a4a6b3",
   "metadata": {},
   "outputs": [
    {
     "data": {
      "text/plain": [
       "True"
      ]
     },
     "execution_count": 171,
     "metadata": {},
     "output_type": "execute_result"
    }
   ],
   "source": [
    "1 == True"
   ]
  },
  {
   "cell_type": "code",
   "execution_count": 172,
   "id": "9e06c871",
   "metadata": {},
   "outputs": [
    {
     "name": "stdout",
     "output_type": "stream",
     "text": [
      "You Shall Not Pass!\n"
     ]
    }
   ],
   "source": [
    "is_staff = False\n",
    "is_active = True\n",
    "if is_staff and is_active:\n",
    "    print('Enter!')\n",
    "else:\n",
    "    print('You Shall Not Pass!')"
   ]
  },
  {
   "cell_type": "code",
   "execution_count": 173,
   "id": "c461bac3",
   "metadata": {},
   "outputs": [
    {
     "data": {
      "text/plain": [
       "True"
      ]
     },
     "execution_count": 173,
     "metadata": {},
     "output_type": "execute_result"
    }
   ],
   "source": [
    "'A' < 'I' # 65 < 73"
   ]
  },
  {
   "cell_type": "code",
   "execution_count": 175,
   "id": "db14b82d",
   "metadata": {},
   "outputs": [
    {
     "data": {
      "text/plain": [
       "False"
      ]
     },
     "execution_count": 175,
     "metadata": {},
     "output_type": "execute_result"
    }
   ],
   "source": [
    "'A' > 'a' # 65 > 97"
   ]
  },
  {
   "cell_type": "code",
   "execution_count": 176,
   "id": "8bc9b4b2",
   "metadata": {},
   "outputs": [
    {
     "data": {
      "text/plain": [
       "65"
      ]
     },
     "execution_count": 176,
     "metadata": {},
     "output_type": "execute_result"
    }
   ],
   "source": [
    "ord('A')"
   ]
  },
  {
   "cell_type": "code",
   "execution_count": 177,
   "id": "7d327291",
   "metadata": {},
   "outputs": [
    {
     "data": {
      "text/plain": [
       "97"
      ]
     },
     "execution_count": 177,
     "metadata": {},
     "output_type": "execute_result"
    }
   ],
   "source": [
    "ord('a')"
   ]
  },
  {
   "cell_type": "code",
   "execution_count": 179,
   "id": "73f875b6",
   "metadata": {},
   "outputs": [
    {
     "data": {
      "text/plain": [
       "'A'"
      ]
     },
     "execution_count": 179,
     "metadata": {},
     "output_type": "execute_result"
    }
   ],
   "source": [
    "chr(65)"
   ]
  },
  {
   "cell_type": "code",
   "execution_count": 180,
   "id": "eb49d754",
   "metadata": {},
   "outputs": [
    {
     "data": {
      "text/plain": [
       "True"
      ]
     },
     "execution_count": 180,
     "metadata": {},
     "output_type": "execute_result"
    }
   ],
   "source": [
    "'abc' < 'abd'"
   ]
  },
  {
   "cell_type": "code",
   "execution_count": 181,
   "id": "3cdd9660",
   "metadata": {},
   "outputs": [
    {
     "data": {
      "text/plain": [
       "True"
      ]
     },
     "execution_count": 181,
     "metadata": {},
     "output_type": "execute_result"
    }
   ],
   "source": [
    "'abc' < 'abcd'"
   ]
  },
  {
   "cell_type": "code",
   "execution_count": 182,
   "id": "4fa433aa",
   "metadata": {},
   "outputs": [
    {
     "data": {
      "text/plain": [
       "True"
      ]
     },
     "execution_count": 182,
     "metadata": {},
     "output_type": "execute_result"
    }
   ],
   "source": [
    "'Jan' in '01 Jan 1838'"
   ]
  },
  {
   "cell_type": "code",
   "execution_count": 183,
   "id": "9c8309c5",
   "metadata": {},
   "outputs": [
    {
     "data": {
      "text/plain": [
       "False"
      ]
     },
     "execution_count": 183,
     "metadata": {},
     "output_type": "execute_result"
    }
   ],
   "source": [
    "'jan' in '01 Jan 1838'"
   ]
  },
  {
   "cell_type": "code",
   "execution_count": 184,
   "id": "6442aabd",
   "metadata": {},
   "outputs": [
    {
     "data": {
      "text/plain": [
       "True"
      ]
     },
     "execution_count": 184,
     "metadata": {},
     "output_type": "execute_result"
    }
   ],
   "source": [
    "'jan' in '01 Jan 1838'.lower()"
   ]
  },
  {
   "cell_type": "code",
   "execution_count": 186,
   "id": "f1129acd",
   "metadata": {},
   "outputs": [
    {
     "name": "stdout",
     "output_type": "stream",
     "text": [
      "Enter the pH level: 4\n",
      "4.0  is acidic.\n"
     ]
    }
   ],
   "source": [
    "ph = float(input('Enter the pH level: '))\n",
    "if ph < 7.0:\n",
    "    print(ph, \" is acidic.\") #indentation important"
   ]
  },
  {
   "cell_type": "code",
   "execution_count": 187,
   "id": "d4b991b8",
   "metadata": {},
   "outputs": [
    {
     "name": "stdout",
     "output_type": "stream",
     "text": [
      "Enter the pH level: 2\n",
      "8.0  is basic.\n"
     ]
    }
   ],
   "source": [
    "ph = float(input('Enter the pH level: '))\n",
    "if ph < 7.0:\n",
    "    ph = 8.0 #indentation important\n",
    "\n",
    "if ph > 7.0:\n",
    "    print(ph, \" is basic.\") "
   ]
  },
  {
   "cell_type": "code",
   "execution_count": 189,
   "id": "e178955f",
   "metadata": {},
   "outputs": [
    {
     "name": "stdout",
     "output_type": "stream",
     "text": [
      "Enter the compound: H20    \n",
      "Unknown compound\n"
     ]
    }
   ],
   "source": [
    "compound = input('Enter the compound: ')\n",
    "if compound == 'H20':\n",
    "    print('Water')\n",
    "elif compound == 'NH3':\n",
    "    print('Ammonia')\n",
    "elif compound == 'CH4':\n",
    "    print('Methane')\n",
    "else:\n",
    "    print('Unknown compound')\n",
    "\n"
   ]
  },
  {
   "cell_type": "code",
   "execution_count": 190,
   "id": "273b90a7",
   "metadata": {},
   "outputs": [
    {
     "name": "stdout",
     "output_type": "stream",
     "text": [
      "Enter the compound:       H20      \n",
      "Water\n"
     ]
    }
   ],
   "source": [
    "compound = input('Enter the compound: ').strip()\n",
    "if compound == 'H20':\n",
    "    print('Water')\n",
    "elif compound == 'NH3':\n",
    "    print('Ammonia')\n",
    "elif compound == 'CH4':\n",
    "    print('Methane')\n",
    "else:\n",
    "    print('Unknown compound')"
   ]
  },
  {
   "cell_type": "code",
   "execution_count": 193,
   "id": "4dad8bcc",
   "metadata": {},
   "outputs": [
    {
     "name": "stdout",
     "output_type": "stream",
     "text": [
      "Enter the pH level:         \n",
      "No pH value was given!\n"
     ]
    }
   ],
   "source": [
    "value = input('Enter the pH level: ').strip()\n",
    "if len(value) > 0:\n",
    "    ph = float(value) \n",
    "    if ph < 7.0:\n",
    "        print(ph, \" is acidic.\")\n",
    "    elif ph > 7.0:\n",
    "        print(ph, \" is basic.\")\n",
    "    else:\n",
    "        print(ph, \" is neutral.\")\n",
    "\n",
    "else:\n",
    "    print('No pH value was given!')\n"
   ]
  },
  {
   "cell_type": "code",
   "execution_count": 194,
   "id": "47feb25b",
   "metadata": {},
   "outputs": [],
   "source": [
    "age = 37\n",
    "bmi = 28\n",
    "young = age < 45\n",
    "slim = bmi < 22.0\n",
    "if young:\n",
    "    if slim:\n",
    "        risk = 'low'\n",
    "    else:\n",
    "        risk = 'medium'\n",
    "else:\n",
    "    if slim:\n",
    "        risk = 'medium'\n",
    "    else:\n",
    "        risk = 'high'"
   ]
  },
  {
   "cell_type": "code",
   "execution_count": 195,
   "id": "de85e015",
   "metadata": {},
   "outputs": [
    {
     "name": "stdout",
     "output_type": "stream",
     "text": [
      "medium\n"
     ]
    }
   ],
   "source": [
    "print(risk)"
   ]
  },
  {
   "cell_type": "code",
   "execution_count": 196,
   "id": "67359a34",
   "metadata": {},
   "outputs": [
    {
     "name": "stdout",
     "output_type": "stream",
     "text": [
      "medium\n"
     ]
    }
   ],
   "source": [
    "young = age < 45\n",
    "slim = bmi < 22.0\n",
    "if young and slim:\n",
    "    risk = 'low'\n",
    "elif young and not slim :\n",
    "    risk = 'medium'\n",
    "elif not young and slim:\n",
    "    risk = 'medium'\n",
    "elif not young and not slim:\n",
    "    risk = 'high'\n",
    "print(risk)"
   ]
  },
  {
   "cell_type": "code",
   "execution_count": 197,
   "id": "fb746540",
   "metadata": {},
   "outputs": [
    {
     "name": "stdout",
     "output_type": "stream",
     "text": [
      "2  is acidic\n"
     ]
    }
   ],
   "source": [
    "ph = 2\n",
    "if ph < 7.0:\n",
    "    print(ph, ' is acidic')\n",
    "elif ph < 3.0:\n",
    "    print(ph, ' is VERY acidic! Be careful.')"
   ]
  },
  {
   "cell_type": "code",
   "execution_count": 198,
   "id": "61c37a41",
   "metadata": {},
   "outputs": [
    {
     "name": "stdout",
     "output_type": "stream",
     "text": [
      "2  is VERY acidic! Be careful.\n"
     ]
    }
   ],
   "source": [
    "ph = 2\n",
    "if ph < 3.0:\n",
    "    print(ph, ' is VERY acidic! Be careful.')    \n",
    "elif ph < 7.0:\n",
    "    print(ph, ' is acidic')\n",
    "    "
   ]
  },
  {
   "cell_type": "code",
   "execution_count": 200,
   "id": "d8377a55",
   "metadata": {},
   "outputs": [
    {
     "data": {
      "text/plain": [
       "'|    Germany    |  1980  |  1990  |  2000  |  2010  |'"
      ]
     },
     "execution_count": 200,
     "metadata": {},
     "output_type": "execute_result"
    }
   ],
   "source": [
    "('| {:^13s} |' + (' {:^6d} |'*4)).format('Germany', 1980, 1990,2000, 2010)"
   ]
  },
  {
   "cell_type": "code",
   "execution_count": null,
   "id": "c966e861",
   "metadata": {},
   "outputs": [],
   "source": []
  }
 ],
 "metadata": {
  "kernelspec": {
   "display_name": "Python 3 (ipykernel)",
   "language": "python",
   "name": "python3"
  },
  "language_info": {
   "codemirror_mode": {
    "name": "ipython",
    "version": 3
   },
   "file_extension": ".py",
   "mimetype": "text/x-python",
   "name": "python",
   "nbconvert_exporter": "python",
   "pygments_lexer": "ipython3",
   "version": "3.8.12"
  }
 },
 "nbformat": 4,
 "nbformat_minor": 5
}
