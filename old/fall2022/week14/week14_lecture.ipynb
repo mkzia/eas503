{
 "cells": [
  {
   "cell_type": "code",
   "execution_count": 15,
   "id": "204f30d2",
   "metadata": {},
   "outputs": [],
   "source": [
    "from IPython.core.interactiveshell import InteractiveShell\n",
    "InteractiveShell.ast_node_interactivity = \"all\""
   ]
  },
  {
   "cell_type": "code",
   "execution_count": 2,
   "id": "6d426976",
   "metadata": {},
   "outputs": [],
   "source": [
    "import numpy as np\n",
    "from scipy import signal\n",
    "import matplotlib.pyplot as plt\n",
    "%matplotlib inline \n",
    "np.random.seed = 1\n",
    "N = 1000\n",
    "fs = 500\n",
    "w = np.arange(1,N+1) * 2 * np.pi/fs\n",
    "t = np.arange(1,N+1)/fs\n",
    "x = 0.75 * np.sin(w*5)\n",
    "y = signal.sawtooth(w*7, 0.5)\n",
    "d1 = 0.5*y   + 0.5*x   + 0.1*np.random.rand(1,N)\n",
    "d2 = 0.2*y   + 0.75*x  + 0.15*np.random.rand(1,N)\n",
    "d3 = 0.7*y   + 0.25*x  + 0.1*np.random.rand(1,N)\n",
    "d4 = -0.5*y  + 0.4*x   + 0.2*np.random.rand(1,N)\n",
    "d5 = 0.6*np.random.rand(1,N)\n",
    "\n",
    "\n",
    "d1 = d1 - d1.mean()\n",
    "d2 = d2 - d2.mean()\n",
    "d3 = d3 - d3.mean()\n",
    "d4 = d4 - d4.mean()\n",
    "d5 = d5 - d5.mean()"
   ]
  },
  {
   "cell_type": "code",
   "execution_count": 8,
   "id": "6702ecba",
   "metadata": {},
   "outputs": [
    {
     "data": {
      "text/plain": [
       "[<matplotlib.lines.Line2D at 0x1c4c12d8760>]"
      ]
     },
     "execution_count": 8,
     "metadata": {},
     "output_type": "execute_result"
    },
    {
     "data": {
      "image/png": "[encoded data removed]",
      "text/plain": [
       "<Figure size 432x288 with 1 Axes>"
      ]
     },
     "metadata": {
      "needs_background": "light"
     },
     "output_type": "display_data"
    }
   ],
   "source": [
    "plt.plot(d1.transpose())"
   ]
  },
  {
   "cell_type": "code",
   "execution_count": 9,
   "id": "2305e45c",
   "metadata": {},
   "outputs": [
    {
     "data": {
      "text/plain": [
       "array([[-0.4728814 , -0.43961378, -0.30503519, ..., -0.47716465,\n",
       "        -0.48601628, -0.47800557],\n",
       "       [-0.15638762, -0.09160909, -0.10275373, ..., -0.17745853,\n",
       "        -0.15528852, -0.23259822],\n",
       "       [-0.62283022, -0.59099575, -0.59444734, ..., -0.66212551,\n",
       "        -0.67724757, -0.72253208],\n",
       "       [ 0.49321005,  0.50565176,  0.49290485, ...,  0.43672565,\n",
       "         0.50870634,  0.42972176],\n",
       "       [ 0.18769787, -0.29667371, -0.27604969, ...,  0.16015246,\n",
       "         0.15662698, -0.1221624 ]])"
      ]
     },
     "execution_count": 9,
     "metadata": {},
     "output_type": "execute_result"
    }
   ],
   "source": [
    "import numpy as np\n",
    "X = np.array([d1[0], d2[0], d3[0], d4[0], d5[0]])\n",
    "X"
   ]
  },
  {
   "cell_type": "code",
   "execution_count": 10,
   "id": "f3e35b53",
   "metadata": {},
   "outputs": [
    {
     "data": {
      "text/plain": [
       "array([20.87170241, 14.34231477,  5.50065839,  1.48763925,  0.97127366])"
      ]
     },
     "execution_count": 10,
     "metadata": {},
     "output_type": "execute_result"
    }
   ],
   "source": [
    "U,S,V = np.linalg.svd(X)\n",
    "S"
   ]
  },
  {
   "cell_type": "code",
   "execution_count": 11,
   "id": "494b098f",
   "metadata": {},
   "outputs": [
    {
     "data": {
      "text/plain": [
       "array([435.62796155, 205.70199286,  30.25724276,   2.21307054,\n",
       "         0.94337252])"
      ]
     },
     "execution_count": 11,
     "metadata": {},
     "output_type": "execute_result"
    }
   ],
   "source": [
    "eigen = S**2\n",
    "eigen"
   ]
  },
  {
   "cell_type": "code",
   "execution_count": 12,
   "id": "e44d5918",
   "metadata": {},
   "outputs": [],
   "source": [
    "eigen = eigen/N\n",
    "eigen = eigen/sum(eigen)"
   ]
  },
  {
   "cell_type": "code",
   "execution_count": 13,
   "id": "c3e2955d",
   "metadata": {},
   "outputs": [
    {
     "data": {
      "text/plain": [
       "array([0.64561996, 0.30485948, 0.04484258, 0.00327987, 0.00139812])"
      ]
     },
     "execution_count": 13,
     "metadata": {},
     "output_type": "execute_result"
    }
   ],
   "source": [
    "eigen"
   ]
  },
  {
   "cell_type": "code",
   "execution_count": 16,
   "id": "995102ec",
   "metadata": {},
   "outputs": [],
   "source": [
    "import matplotlib.pyplot as plt\n",
    "from mpl_toolkits.mplot3d import Axes3D\n",
    "from sklearn import datasets\n",
    "from sklearn.decomposition import PCA\n",
    "\n",
    "# import some data to play with\n",
    "iris = datasets.load_iris()\n",
    "X = iris.data[:, :2]  # we only take the first two features.\n",
    "y = iris.target"
   ]
  },
  {
   "cell_type": "code",
   "execution_count": 17,
   "id": "54bf3076",
   "metadata": {},
   "outputs": [
    {
     "data": {
      "text/plain": [
       "<Figure size 576x432 with 0 Axes>"
      ]
     },
     "execution_count": 17,
     "metadata": {},
     "output_type": "execute_result"
    },
    {
     "data": {
      "text/plain": [
       "<matplotlib.collections.PathCollection at 0x1c4c320e7c0>"
      ]
     },
     "execution_count": 17,
     "metadata": {},
     "output_type": "execute_result"
    },
    {
     "data": {
      "text/plain": [
       "Text(0.5, 0, 'Sepal length')"
      ]
     },
     "execution_count": 17,
     "metadata": {},
     "output_type": "execute_result"
    },
    {
     "data": {
      "text/plain": [
       "Text(0, 0.5, 'Sepal width')"
      ]
     },
     "execution_count": 17,
     "metadata": {},
     "output_type": "execute_result"
    },
    {
     "data": {
      "text/plain": [
       "(3.8, 8.4)"
      ]
     },
     "execution_count": 17,
     "metadata": {},
     "output_type": "execute_result"
    },
    {
     "data": {
      "text/plain": [
       "(1.5, 4.9)"
      ]
     },
     "execution_count": 17,
     "metadata": {},
     "output_type": "execute_result"
    },
    {
     "data": {
      "text/plain": [
       "([], [])"
      ]
     },
     "execution_count": 17,
     "metadata": {},
     "output_type": "execute_result"
    },
    {
     "data": {
      "text/plain": [
       "([], [])"
      ]
     },
     "execution_count": 17,
     "metadata": {},
     "output_type": "execute_result"
    },
    {
     "data": {
      "image/png": "[encoded data removed]",
      "text/plain": [
       "<Figure size 576x432 with 1 Axes>"
      ]
     },
     "metadata": {},
     "output_type": "display_data"
    }
   ],
   "source": [
    "x_min, x_max = X[:, 0].min() - .5, X[:, 0].max() + .5\n",
    "y_min, y_max = X[:, 1].min() - .5, X[:, 1].max() + .5\n",
    "\n",
    "plt.figure(2, figsize=(8, 6))\n",
    "plt.clf()\n",
    "\n",
    "# Plot the training points\n",
    "plt.scatter(X[:, 0], X[:, 1], c=y, cmap=plt.cm.Set1,\n",
    "            edgecolor='k')\n",
    "plt.xlabel('Sepal length')\n",
    "plt.ylabel('Sepal width')\n",
    "\n",
    "plt.xlim(x_min, x_max)\n",
    "plt.ylim(y_min, y_max)\n",
    "plt.xticks(())\n",
    "plt.yticks(())"
   ]
  },
  {
   "cell_type": "code",
   "execution_count": 18,
   "id": "a405383e",
   "metadata": {},
   "outputs": [
    {
     "data": {
      "text/plain": [
       "<mpl_toolkits.mplot3d.art3d.Path3DCollection at 0x1c4c3266e20>"
      ]
     },
     "execution_count": 18,
     "metadata": {},
     "output_type": "execute_result"
    },
    {
     "data": {
      "text/plain": [
       "Text(0.5, 0.92, 'First three PCA directions')"
      ]
     },
     "execution_count": 18,
     "metadata": {},
     "output_type": "execute_result"
    },
    {
     "data": {
      "text/plain": [
       "Text(0.5, 0, '1st eigenvector')"
      ]
     },
     "execution_count": 18,
     "metadata": {},
     "output_type": "execute_result"
    },
    {
     "name": "stderr",
     "output_type": "stream",
     "text": [
      "C:\\Users\\mkhaw\\AppData\\Local\\Temp/ipykernel_17264/4121548920.py:10: MatplotlibDeprecationWarning: The w_xaxis attribute was deprecated in Matplotlib 3.1 and will be removed in 3.8. Use xaxis instead.\n",
      "  ax.w_xaxis.set_ticklabels([])\n"
     ]
    },
    {
     "data": {
      "text/plain": [
       "[Text(-4.0, 0, ''),\n",
       " Text(-3.0, 0, ''),\n",
       " Text(-2.0, 0, ''),\n",
       " Text(-1.0, 0, ''),\n",
       " Text(0.0, 0, ''),\n",
       " Text(1.0, 0, ''),\n",
       " Text(2.0, 0, ''),\n",
       " Text(3.0, 0, ''),\n",
       " Text(4.0, 0, ''),\n",
       " Text(5.0, 0, '')]"
      ]
     },
     "execution_count": 18,
     "metadata": {},
     "output_type": "execute_result"
    },
    {
     "data": {
      "text/plain": [
       "Text(0.5, 0.5, '2nd eigenvector')"
      ]
     },
     "execution_count": 18,
     "metadata": {},
     "output_type": "execute_result"
    },
    {
     "name": "stderr",
     "output_type": "stream",
     "text": [
      "C:\\Users\\mkhaw\\AppData\\Local\\Temp/ipykernel_17264/4121548920.py:12: MatplotlibDeprecationWarning: The w_yaxis attribute was deprecated in Matplotlib 3.1 and will be removed in 3.8. Use yaxis instead.\n",
      "  ax.w_yaxis.set_ticklabels([])\n"
     ]
    },
    {
     "data": {
      "text/plain": [
       "[Text(-1.5, 0, ''),\n",
       " Text(-1.0, 0, ''),\n",
       " Text(-0.5, 0, ''),\n",
       " Text(0.0, 0, ''),\n",
       " Text(0.5, 0, ''),\n",
       " Text(1.0, 0, ''),\n",
       " Text(1.5, 0, ''),\n",
       " Text(2.0, 0, '')]"
      ]
     },
     "execution_count": 18,
     "metadata": {},
     "output_type": "execute_result"
    },
    {
     "data": {
      "text/plain": [
       "Text(0.5, 0, '3rd eigenvector')"
      ]
     },
     "execution_count": 18,
     "metadata": {},
     "output_type": "execute_result"
    },
    {
     "name": "stderr",
     "output_type": "stream",
     "text": [
      "C:\\Users\\mkhaw\\AppData\\Local\\Temp/ipykernel_17264/4121548920.py:14: MatplotlibDeprecationWarning: The w_zaxis attribute was deprecated in Matplotlib 3.1 and will be removed in 3.8. Use zaxis instead.\n",
      "  ax.w_zaxis.set_ticklabels([])\n"
     ]
    },
    {
     "data": {
      "text/plain": [
       "[Text(-0.8, 0, ''),\n",
       " Text(-0.6000000000000001, 0, ''),\n",
       " Text(-0.4, 0, ''),\n",
       " Text(-0.19999999999999996, 0, ''),\n",
       " Text(0.0, 0, ''),\n",
       " Text(0.19999999999999996, 0, ''),\n",
       " Text(0.40000000000000013, 0, ''),\n",
       " Text(0.6000000000000001, 0, ''),\n",
       " Text(0.8, 0, ''),\n",
       " Text(1.0, 0, '')]"
      ]
     },
     "execution_count": 18,
     "metadata": {},
     "output_type": "execute_result"
    },
    {
     "data": {
      "text/plain": [
       "<Figure size 576x432 with 0 Axes>"
      ]
     },
     "metadata": {},
     "output_type": "display_data"
    }
   ],
   "source": [
    "# To getter a better understanding of interaction of the dimensions\n",
    "# plot the first three PCA dimensions\n",
    "fig = plt.figure(1, figsize=(8, 6))\n",
    "ax = Axes3D(fig, elev=-150, azim=110)\n",
    "X_reduced = PCA(n_components=3).fit_transform(iris.data)\n",
    "ax.scatter(X_reduced[:, 0], X_reduced[:, 1], X_reduced[:, 2], c=y,\n",
    "           cmap=plt.cm.Set1, edgecolor='k', s=40)\n",
    "ax.set_title(\"First three PCA directions\")\n",
    "ax.set_xlabel(\"1st eigenvector\")\n",
    "ax.w_xaxis.set_ticklabels([])\n",
    "ax.set_ylabel(\"2nd eigenvector\")\n",
    "ax.w_yaxis.set_ticklabels([])\n",
    "ax.set_zlabel(\"3rd eigenvector\")\n",
    "ax.w_zaxis.set_ticklabels([])\n",
    "\n",
    "plt.show()"
   ]
  },
  {
   "cell_type": "code",
   "execution_count": 19,
   "id": "c2b0fe11",
   "metadata": {},
   "outputs": [],
   "source": [
    "iris = datasets.load_iris()\n",
    "X = iris.data[:50,:] "
   ]
  },
  {
   "cell_type": "code",
   "execution_count": 20,
   "id": "4a168697",
   "metadata": {},
   "outputs": [],
   "source": [
    "X2 = X +0.05*np.random.rand(50,4)"
   ]
  },
  {
   "cell_type": "code",
   "execution_count": 21,
   "id": "e205f4f4",
   "metadata": {},
   "outputs": [],
   "source": [
    "X_combined = np.zeros((50,8))"
   ]
  },
  {
   "cell_type": "code",
   "execution_count": 22,
   "id": "36af9a9d",
   "metadata": {},
   "outputs": [],
   "source": [
    "X_combined[:,0:4] = X\n",
    "X_combined[:,4:] = X2"
   ]
  },
  {
   "cell_type": "code",
   "execution_count": 23,
   "id": "c1b5e249",
   "metadata": {},
   "outputs": [
    {
     "data": {
      "text/plain": [
       "array([5.006     , 3.428     , 1.462     , 0.246     , 5.03114877,\n",
       "       3.45190257, 1.48641414, 0.27113082])"
      ]
     },
     "execution_count": 23,
     "metadata": {},
     "output_type": "execute_result"
    }
   ],
   "source": [
    "X_combined.mean(axis=0)"
   ]
  },
  {
   "cell_type": "code",
   "execution_count": 24,
   "id": "61a894bc",
   "metadata": {},
   "outputs": [
    {
     "data": {
      "text/plain": [
       "array([[ 0.26938189,  0.19186974, -0.36063582, -0.44092382,  0.23165157,\n",
       "         0.2571513 , -0.26236027, -0.30396256],\n",
       "       [-0.30377107, -1.14055903, -0.36063582, -0.44092382, -0.28549116,\n",
       "        -1.11350208, -0.29566001, -0.65412768],\n",
       "       [-0.87692403, -0.60758752, -0.9423065 , -0.44092382, -0.88479005,\n",
       "        -0.55468266, -0.81173514, -0.55973183],\n",
       "       [-1.16350052, -0.87407328,  0.22103486, -0.44092382, -1.1485412 ,\n",
       "        -0.83971659,  0.19873696, -0.23313799],\n",
       "       [-0.01719459,  0.4583555 , -0.36063582, -0.44092382,  0.02614674,\n",
       "         0.50904474, -0.45309043, -0.64076928],\n",
       "       [ 1.12911134,  1.25781276,  1.38437621,  1.47613628,  1.07126154,\n",
       "         1.20822011,  1.47519765,  1.27742789],\n",
       "       [-1.16350052, -0.07461601, -0.36063582,  0.51760623, -1.15927434,\n",
       "        -0.07307838, -0.45065741,  0.67362848],\n",
       "       [-0.01719459, -0.07461601,  0.22103486, -0.44092382,  0.02118145,\n",
       "        -0.08034317,  0.23055307, -0.42347214],\n",
       "       [-1.73665348, -1.40704478, -0.36063582, -0.44092382, -1.76199737,\n",
       "        -1.34326613, -0.23632473, -0.42036445],\n",
       "       [-0.30377107, -0.87407328,  0.22103486, -1.39945388, -0.35026863,\n",
       "        -0.92666574,  0.35729507, -1.54752934],\n",
       "       [ 1.12911134,  0.72484125,  0.22103486, -0.44092382,  1.16071951,\n",
       "         0.70388017,  0.33702375, -0.59720316],\n",
       "       [-0.59034755, -0.07461601,  0.80270553, -0.44092382, -0.59845242,\n",
       "        -0.03088361,  0.78987791, -0.62448804],\n",
       "       [-0.59034755, -1.14055903, -0.36063582, -1.39945388, -0.64370702,\n",
       "        -1.13198661, -0.33806046, -1.51492622],\n",
       "       [-2.02322996, -1.14055903, -2.10564785, -1.39945388, -1.99900631,\n",
       "        -1.15200567, -2.23754728, -1.33158185],\n",
       "       [ 2.27541727,  1.52429852, -1.52397717, -0.44092382,  2.28547744,\n",
       "         1.51212263, -1.42659609, -0.2563397 ],\n",
       "       [ 1.98884078,  2.59024154,  0.22103486,  1.47613628,  1.9990886 ,\n",
       "         2.54206394,  0.15842107,  1.62473088],\n",
       "       [ 1.12911134,  1.25781276, -0.9423065 ,  1.47613628,  1.14487571,\n",
       "         1.27205067, -0.87235923,  1.35838273],\n",
       "       [ 0.26938189,  0.19186974, -0.36063582,  0.51760623,  0.33260701,\n",
       "         0.23632377, -0.33277827,  0.43636113],\n",
       "       [ 1.98884078,  0.99132701,  1.38437621,  0.51760623,  2.0253299 ,\n",
       "         0.93446993,  1.27218311,  0.60107548],\n",
       "       [ 0.26938189,  0.99132701,  0.22103486,  0.51760623,  0.20470111,\n",
       "         0.98131709,  0.18278605,  0.49260431],\n",
       "       [ 1.12911134, -0.07461601,  1.38437621, -0.44092382,  1.07464308,\n",
       "        -0.10206434,  1.27799692, -0.21861495],\n",
       "       [ 0.26938189,  0.72484125,  0.22103486,  1.47613628,  0.20774019,\n",
       "         0.66714112,  0.36579554,  1.59488738],\n",
       "       [-1.16350052,  0.4583555 , -2.68731853, -0.44092382, -1.16634153,\n",
       "         0.40454534, -2.82847194, -0.28470297],\n",
       "       [ 0.26938189, -0.34110177,  1.38437621,  2.43466633,  0.20125945,\n",
       "        -0.36101386,  1.48907065,  2.27814507],\n",
       "       [-0.59034755, -0.07461601,  2.54771757, -0.44092382, -0.6252042 ,\n",
       "        -0.12164423,  2.5342396 , -0.25798007],\n",
       "       [-0.01719459, -1.14055903,  0.80270553, -0.44092382, -0.01562778,\n",
       "        -1.18497665,  0.72414259, -0.64313624],\n",
       "       [-0.01719459, -0.07461601,  0.80270553,  1.47613628, -0.06420167,\n",
       "        -0.11774726,  0.70994311,  1.44315646],\n",
       "       [ 0.55595837,  0.19186974,  0.22103486, -0.44092382,  0.5904982 ,\n",
       "         0.26068913,  0.27933458, -0.67292572],\n",
       "       [ 0.55595837, -0.07461601, -0.36063582, -0.44092382,  0.54205759,\n",
       "        -0.01463672, -0.33875512, -0.68614875],\n",
       "       [-0.87692403, -0.60758752,  0.80270553, -0.44092382, -0.90018725,\n",
       "        -0.65189192,  0.81226372, -0.45243582],\n",
       "       [-0.59034755, -0.87407328,  0.80270553, -0.44092382, -0.53994592,\n",
       "        -0.88216146,  0.83545109, -0.57038711],\n",
       "       [ 1.12911134, -0.07461601,  0.22103486,  1.47613628,  1.14907124,\n",
       "        -0.08371401,  0.20993496,  1.59978192],\n",
       "       [ 0.55595837,  1.79078427,  0.22103486, -1.39945388,  0.57348724,\n",
       "         1.85789751,  0.15170423, -1.45637031],\n",
       "       [ 1.41568782,  2.05727003, -0.36063582, -0.44092382,  1.46733185,\n",
       "         2.11947225, -0.37972817, -0.54295193],\n",
       "       [-0.30377107, -0.87407328,  0.22103486, -0.44092382, -0.27361996,\n",
       "        -0.90382452,  0.32104944, -0.34166269],\n",
       "       [-0.01719459, -0.60758752, -1.52397717, -0.44092382, -0.04925156,\n",
       "        -0.554251  , -1.47087878, -0.51015915],\n",
       "       [ 1.41568782,  0.19186974, -0.9423065 , -0.44092382,  1.43086185,\n",
       "         0.19061726, -0.85526649, -0.67035426],\n",
       "       [-0.30377107,  0.4583555 , -0.36063582, -1.39945388, -0.31725094,\n",
       "         0.39626609, -0.43561517, -1.2999729 ],\n",
       "       [-1.73665348, -1.14055903, -0.9423065 , -0.44092382, -1.73667868,\n",
       "        -1.18030546, -1.02199441, -0.24803395],\n",
       "       [ 0.26938189, -0.07461601,  0.22103486, -0.44092382,  0.24127539,\n",
       "        -0.08098249,  0.25553675, -0.29238098],\n",
       "       [-0.01719459,  0.19186974, -0.9423065 ,  0.51760623,  0.02372912,\n",
       "         0.16763976, -0.99223254,  0.60735753],\n",
       "       [-1.450077  , -3.00595931, -0.9423065 ,  0.51760623, -1.43660865,\n",
       "        -3.01570456, -0.97755683,  0.36084575],\n",
       "       [-1.73665348, -0.60758752, -0.9423065 , -0.44092382, -1.71297879,\n",
       "        -0.62610108, -0.96954406, -0.37948267],\n",
       "       [-0.01719459,  0.19186974,  0.80270553,  3.39319638, -0.01416388,\n",
       "         0.21457168,  0.66820994,  3.32292664],\n",
       "       [ 0.26938189,  0.99132701,  2.54771757,  1.47613628,  0.25989549,\n",
       "         1.05341564,  2.41710814,  1.38678326],\n",
       "       [-0.59034755, -1.14055903, -0.36063582,  0.51760623, -0.53185203,\n",
       "        -1.1034788 , -0.3270313 ,  0.57381106],\n",
       "       [ 0.26938189,  0.99132701,  0.80270553, -0.44092382,  0.33075171,\n",
       "         0.98112952,  0.83157837, -0.21490514],\n",
       "       [-1.16350052, -0.60758752, -0.36063582, -0.44092382, -1.11563197,\n",
       "        -0.55914837, -0.45112492, -0.26640787],\n",
       "       [ 0.84253486,  0.72484125,  0.22103486, -0.44092382,  0.7726147 ,\n",
       "         0.70190945,  0.26301067, -0.27395467],\n",
       "       [-0.01719459, -0.34110177, -0.36063582, -0.44092382, -0.03718435,\n",
       "        -0.38216173, -0.38307589, -0.24130357]])"
      ]
     },
     "execution_count": 24,
     "metadata": {},
     "output_type": "execute_result"
    }
   ],
   "source": [
    "from sklearn import preprocessing\n",
    "X_scaled = preprocessing.scale(X_combined)\n",
    "X_scaled "
   ]
  },
  {
   "cell_type": "code",
   "execution_count": 25,
   "id": "3ac5dd5a",
   "metadata": {},
   "outputs": [
    {
     "data": {
      "text/plain": [
       "array([14.32003005, 10.07924983,  8.21394568,  5.01584289,  0.71833653,\n",
       "        0.37161411,  0.20373207,  0.149223  ])"
      ]
     },
     "execution_count": 25,
     "metadata": {},
     "output_type": "execute_result"
    }
   ],
   "source": [
    "U,S,V = np.linalg.svd(X_scaled)\n",
    "S"
   ]
  },
  {
   "cell_type": "code",
   "execution_count": 26,
   "id": "903928b8",
   "metadata": {},
   "outputs": [
    {
     "data": {
      "text/plain": [
       "array([2.05063261e+02, 1.01591277e+02, 6.74689037e+01, 2.51586799e+01,\n",
       "       5.16007373e-01, 1.38097045e-01, 4.15067552e-02, 2.22675025e-02])"
      ]
     },
     "execution_count": 26,
     "metadata": {},
     "output_type": "execute_result"
    }
   ],
   "source": [
    "eigen = S**2\n",
    "eigen"
   ]
  },
  {
   "cell_type": "code",
   "execution_count": 27,
   "id": "a5c39eff",
   "metadata": {},
   "outputs": [],
   "source": [
    "eigen = eigen/50\n",
    "eigen = eigen/sum(eigen)"
   ]
  },
  {
   "cell_type": "code",
   "execution_count": 28,
   "id": "7e82e490",
   "metadata": {},
   "outputs": [
    {
     "name": "stdout",
     "output_type": "stream",
     "text": [
      "[0.51 0.25 0.17 0.06 0.   0.   0.   0.  ]\n"
     ]
    }
   ],
   "source": [
    "eigen = np.round(eigen*100)/100\n",
    "print(eigen)"
   ]
  },
  {
   "cell_type": "code",
   "execution_count": 29,
   "id": "faa8ec9f",
   "metadata": {},
   "outputs": [
    {
     "data": {
      "text/plain": [
       "1.0"
      ]
     },
     "execution_count": 29,
     "metadata": {},
     "output_type": "execute_result"
    }
   ],
   "source": [
    "sum([0.51, 0.26, 0.17, 0.06])"
   ]
  },
  {
   "cell_type": "code",
   "execution_count": 30,
   "id": "6be515bf",
   "metadata": {},
   "outputs": [],
   "source": [
    "from sklearn.datasets import load_breast_cancer\n",
    "data = load_breast_cancer()\n",
    "X = data.data\n",
    "Y = data.target\n",
    "\n",
    "from sklearn.metrics import accuracy_score\n",
    "from sklearn.metrics import confusion_matrix\n",
    "from sklearn.metrics import classification_report"
   ]
  },
  {
   "cell_type": "code",
   "execution_count": 32,
   "id": "135c8433",
   "metadata": {},
   "outputs": [],
   "source": [
    "from sklearn.preprocessing import StandardScaler\n",
    "sc = StandardScaler()\n",
    "X = sc.fit_transform(X)\n"
   ]
  },
  {
   "cell_type": "code",
   "execution_count": 33,
   "id": "c36aba5f",
   "metadata": {},
   "outputs": [],
   "source": [
    "from sklearn.model_selection import train_test_split\n",
    "X_train, X_test, Y_train, Y_test = train_test_split(X, Y, test_size = 0.25, random_state = 0)"
   ]
  },
  {
   "cell_type": "code",
   "execution_count": 36,
   "id": "1c332071",
   "metadata": {},
   "outputs": [
    {
     "data": {
      "text/plain": [
       "LogisticRegression(random_state=0)"
      ]
     },
     "execution_count": 36,
     "metadata": {},
     "output_type": "execute_result"
    },
    {
     "data": {
      "text/plain": [
       "0.965034965034965"
      ]
     },
     "execution_count": 36,
     "metadata": {},
     "output_type": "execute_result"
    }
   ],
   "source": [
    "from sklearn.linear_model import LogisticRegression\n",
    "classifier = LogisticRegression(random_state = 0)\n",
    "classifier.fit(X_train, Y_train)\n",
    "Y_pred = classifier.predict(X_test)\n",
    "\n",
    "accuracy = accuracy_score(Y_test, Y_pred)\n",
    "accuracy"
   ]
  },
  {
   "cell_type": "code",
   "execution_count": 37,
   "id": "917c003c",
   "metadata": {},
   "outputs": [
    {
     "data": {
      "text/plain": [
       "array([[50,  3],\n",
       "       [ 2, 88]], dtype=int64)"
      ]
     },
     "execution_count": 37,
     "metadata": {},
     "output_type": "execute_result"
    }
   ],
   "source": [
    "cm = confusion_matrix(Y_test, Y_pred)\n",
    "cm"
   ]
  },
  {
   "cell_type": "code",
   "execution_count": 38,
   "id": "766a4158",
   "metadata": {},
   "outputs": [],
   "source": [
    "tn, fp, fn, tp = confusion_matrix(Y_test, Y_pred).ravel()"
   ]
  },
  {
   "cell_type": "code",
   "execution_count": 41,
   "id": "bf1f737a",
   "metadata": {},
   "outputs": [
    {
     "data": {
      "text/plain": [
       "(88, 2, 3, 50)"
      ]
     },
     "execution_count": 41,
     "metadata": {},
     "output_type": "execute_result"
    }
   ],
   "source": [
    "(tp, fn, fp, tn)"
   ]
  },
  {
   "cell_type": "code",
   "execution_count": 40,
   "id": "f0aa7e1e",
   "metadata": {},
   "outputs": [
    {
     "data": {
      "text/plain": [
       "2"
      ]
     },
     "execution_count": 40,
     "metadata": {},
     "output_type": "execute_result"
    }
   ],
   "source": [
    "400 -- 380N, 20D"
   ]
  },
  {
   "cell_type": "code",
   "execution_count": null,
   "id": "ffde244a",
   "metadata": {},
   "outputs": [],
   "source": [
    "(0, 20, 0, 380)"
   ]
  },
  {
   "cell_type": "code",
   "execution_count": 42,
   "id": "f1760f25",
   "metadata": {},
   "outputs": [
    {
     "name": "stdout",
     "output_type": "stream",
     "text": [
      "              precision    recall  f1-score   support\n",
      "\n",
      "           0       0.96      0.94      0.95        53\n",
      "           1       0.97      0.98      0.97        90\n",
      "\n",
      "    accuracy                           0.97       143\n",
      "   macro avg       0.96      0.96      0.96       143\n",
      "weighted avg       0.96      0.97      0.96       143\n",
      "\n"
     ]
    }
   ],
   "source": [
    "results = classification_report(Y_test, Y_pred)\n",
    "print(results)"
   ]
  },
  {
   "cell_type": "code",
   "execution_count": 43,
   "id": "15e7a1d5",
   "metadata": {},
   "outputs": [
    {
     "data": {
      "text/plain": [
       "KNeighborsClassifier()"
      ]
     },
     "execution_count": 43,
     "metadata": {},
     "output_type": "execute_result"
    },
    {
     "data": {
      "text/plain": [
       "0.951048951048951"
      ]
     },
     "execution_count": 43,
     "metadata": {},
     "output_type": "execute_result"
    },
    {
     "data": {
      "text/plain": [
       "array([[47,  6],\n",
       "       [ 1, 89]], dtype=int64)"
      ]
     },
     "execution_count": 43,
     "metadata": {},
     "output_type": "execute_result"
    }
   ],
   "source": [
    "from sklearn.neighbors import KNeighborsClassifier\n",
    "classifier = KNeighborsClassifier(n_neighbors = 5, metric = 'minkowski', p = 2)\n",
    "classifier.fit(X_train, Y_train)\n",
    "Y_pred = classifier.predict(X_test)\n",
    "accuracy = accuracy_score(Y_test, Y_pred)\n",
    "accuracy\n",
    "cm = confusion_matrix(Y_test, Y_pred)\n",
    "cm"
   ]
  },
  {
   "cell_type": "code",
   "execution_count": 51,
   "id": "23a1bb61",
   "metadata": {},
   "outputs": [
    {
     "data": {
      "text/plain": [
       "LogisticRegression(random_state=0)"
      ]
     },
     "execution_count": 51,
     "metadata": {},
     "output_type": "execute_result"
    },
    {
     "name": "stdout",
     "output_type": "stream",
     "text": [
      "LogisticRegression 0.965034965034965\n",
      "LogisticRegression [[50  3]\n",
      " [ 2 88]]\n"
     ]
    },
    {
     "data": {
      "text/plain": [
       "KNeighborsClassifier()"
      ]
     },
     "execution_count": 51,
     "metadata": {},
     "output_type": "execute_result"
    },
    {
     "name": "stdout",
     "output_type": "stream",
     "text": [
      "KNeighborsClassifier 0.951048951048951\n",
      "KNeighborsClassifier [[47  6]\n",
      " [ 1 89]]\n"
     ]
    },
    {
     "data": {
      "text/plain": [
       "SVC(kernel='linear', random_state=0)"
      ]
     },
     "execution_count": 51,
     "metadata": {},
     "output_type": "execute_result"
    },
    {
     "name": "stdout",
     "output_type": "stream",
     "text": [
      "SVC 0.972027972027972\n",
      "SVC [[51  2]\n",
      " [ 2 88]]\n"
     ]
    },
    {
     "data": {
      "text/plain": [
       "RandomForestClassifier(criterion='entropy', n_estimators=10, random_state=0)"
      ]
     },
     "execution_count": 51,
     "metadata": {},
     "output_type": "execute_result"
    },
    {
     "name": "stdout",
     "output_type": "stream",
     "text": [
      "RandomForestClassifier 0.972027972027972\n",
      "RandomForestClassifier [[52  1]\n",
      " [ 3 87]]\n"
     ]
    }
   ],
   "source": [
    "from sklearn.svm import SVC\n",
    "from sklearn.neighbors import KNeighborsClassifier\n",
    "from sklearn.ensemble import RandomForestClassifier\n",
    "classifiers = (\n",
    "    ('LogisticRegression', LogisticRegression(random_state = 0)), \n",
    "    ('KNeighborsClassifier', KNeighborsClassifier(n_neighbors = 5, metric = 'minkowski', p = 2)),\n",
    "    ('SVC', SVC(kernel = 'linear', random_state = 0)), \n",
    "    ('RF', RandomForestClassifier(n_estimators = 10, criterion = 'entropy', random_state = 0))\n",
    ")\n",
    "\n",
    "for name, classifier in classifiers:\n",
    "    classifier.fit(X_train, Y_train)\n",
    "    Y_pred = classifier.predict(X_test)\n",
    "    accuracy = accuracy_score(Y_test, Y_pred)\n",
    "    print(classifier.__class__.__name__, accuracy)\n",
    "    cm = confusion_matrix(Y_test, Y_pred)\n",
    "    print(classifier.__class__.__name__, cm)"
   ]
  },
  {
   "cell_type": "code",
   "execution_count": 50,
   "id": "213316f0",
   "metadata": {},
   "outputs": [
    {
     "data": {
      "text/plain": [
       "'RandomForestClassifier'"
      ]
     },
     "execution_count": 50,
     "metadata": {},
     "output_type": "execute_result"
    }
   ],
   "source": [
    "classifier.__class__.__name__"
   ]
  },
  {
   "cell_type": "code",
   "execution_count": 52,
   "id": "37cbe283",
   "metadata": {},
   "outputs": [],
   "source": [
    "from sklearn.metrics import roc_auc_score\n",
    "\n",
    "roc_auc = roc_auc_score(Y_test, Y_pred)\n",
    "\n",
    "\n",
    "from sklearn import metrics\n",
    "\n",
    "fpr, tpr, thresholds = metrics.roc_curve(Y_test, Y_pred)"
   ]
  },
  {
   "cell_type": "code",
   "execution_count": 54,
   "id": "d6ede902",
   "metadata": {},
   "outputs": [
    {
     "data": {
      "text/plain": [
       "<Figure size 432x288 with 0 Axes>"
      ]
     },
     "execution_count": 54,
     "metadata": {},
     "output_type": "execute_result"
    },
    {
     "data": {
      "text/plain": [
       "[<matplotlib.lines.Line2D at 0x1c4c5c8d6a0>]"
      ]
     },
     "execution_count": 54,
     "metadata": {},
     "output_type": "execute_result"
    },
    {
     "data": {
      "text/plain": [
       "[<matplotlib.lines.Line2D at 0x1c4c51e25b0>]"
      ]
     },
     "execution_count": 54,
     "metadata": {},
     "output_type": "execute_result"
    },
    {
     "data": {
      "text/plain": [
       "(0.0, 1.0)"
      ]
     },
     "execution_count": 54,
     "metadata": {},
     "output_type": "execute_result"
    },
    {
     "data": {
      "text/plain": [
       "(0.0, 1.05)"
      ]
     },
     "execution_count": 54,
     "metadata": {},
     "output_type": "execute_result"
    },
    {
     "data": {
      "text/plain": [
       "Text(0.5, 0, 'False Positive Rate')"
      ]
     },
     "execution_count": 54,
     "metadata": {},
     "output_type": "execute_result"
    },
    {
     "data": {
      "text/plain": [
       "Text(0, 0.5, 'True Positive Rate')"
      ]
     },
     "execution_count": 54,
     "metadata": {},
     "output_type": "execute_result"
    },
    {
     "data": {
      "text/plain": [
       "Text(0.5, 1.0, 'Receiver operating characteristic example')"
      ]
     },
     "execution_count": 54,
     "metadata": {},
     "output_type": "execute_result"
    },
    {
     "data": {
      "text/plain": [
       "<matplotlib.legend.Legend at 0x1c4c51e2820>"
      ]
     },
     "execution_count": 54,
     "metadata": {},
     "output_type": "execute_result"
    },
    {
     "data": {
      "image/png": "[encoded data removed]",
      "text/plain": [
       "<Figure size 432x288 with 1 Axes>"
      ]
     },
     "metadata": {
      "needs_background": "light"
     },
     "output_type": "display_data"
    }
   ],
   "source": [
    "plt.figure()\n",
    "lw = 2\n",
    "plt.plot(\n",
    "    fpr,\n",
    "    tpr,\n",
    "    color=\"darkorange\",\n",
    "    lw=lw,\n",
    "    label=\"ROC curve (area = %0.2f)\" % roc_auc,\n",
    ")\n",
    "plt.plot([0, 1], [0, 1], color=\"navy\", lw=lw, linestyle=\"--\")\n",
    "plt.xlim([0.0, 1.0])\n",
    "plt.ylim([0.0, 1.05])\n",
    "plt.xlabel(\"False Positive Rate\")\n",
    "plt.ylabel(\"True Positive Rate\")\n",
    "plt.title(\"Receiver operating characteristic example\")\n",
    "plt.legend(loc=\"lower right\")\n",
    "plt.show()"
   ]
  },
  {
   "cell_type": "code",
   "execution_count": null,
   "id": "7645c629",
   "metadata": {},
   "outputs": [],
   "source": []
  }
 ],
 "metadata": {
  "kernelspec": {
   "display_name": "Python 3 (ipykernel)",
   "language": "python",
   "name": "python3"
  },
  "language_info": {
   "codemirror_mode": {
    "name": "ipython",
    "version": 3
   },
   "file_extension": ".py",
   "mimetype": "text/x-python",
   "name": "python",
   "nbconvert_exporter": "python",
   "pygments_lexer": "ipython3",
   "version": "3.8.12"
  }
 },
 "nbformat": 4,
 "nbformat_minor": 5
}
