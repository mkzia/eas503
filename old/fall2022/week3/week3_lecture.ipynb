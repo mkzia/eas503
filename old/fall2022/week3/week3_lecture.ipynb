{
 "cells": [
  {
   "cell_type": "code",
   "execution_count": 42,
   "id": "10fce2f2",
   "metadata": {},
   "outputs": [],
   "source": [
    "whales = [5, 4, 7, 3, 2, 3, 2, 6, 4, 2, 1, 7, 1, 3]"
   ]
  },
  {
   "cell_type": "code",
   "execution_count": 2,
   "id": "8f683457",
   "metadata": {},
   "outputs": [
    {
     "name": "stdout",
     "output_type": "stream",
     "text": [
      "[5, 4, 7, 3, 2, 3, 2, 6, 4, 2, 1, 7, 1, 3]\n"
     ]
    }
   ],
   "source": [
    "print(whales)"
   ]
  },
  {
   "cell_type": "code",
   "execution_count": 3,
   "id": "9bcddc6d",
   "metadata": {},
   "outputs": [
    {
     "data": {
      "text/plain": [
       "5"
      ]
     },
     "execution_count": 3,
     "metadata": {},
     "output_type": "execute_result"
    }
   ],
   "source": [
    "whales[0]"
   ]
  },
  {
   "cell_type": "code",
   "execution_count": 4,
   "id": "3211a737",
   "metadata": {},
   "outputs": [
    {
     "data": {
      "text/plain": [
       "3"
      ]
     },
     "execution_count": 4,
     "metadata": {},
     "output_type": "execute_result"
    }
   ],
   "source": [
    "whales[3]"
   ]
  },
  {
   "cell_type": "code",
   "execution_count": 5,
   "id": "48da5e7c",
   "metadata": {},
   "outputs": [
    {
     "data": {
      "text/plain": [
       "14"
      ]
     },
     "execution_count": 5,
     "metadata": {},
     "output_type": "execute_result"
    }
   ],
   "source": [
    "len(whales)"
   ]
  },
  {
   "cell_type": "code",
   "execution_count": 6,
   "id": "1231e9a2",
   "metadata": {},
   "outputs": [],
   "source": [
    "grades = ['A', 'B', 'C', 'D', 'F']"
   ]
  },
  {
   "cell_type": "code",
   "execution_count": 7,
   "id": "151b4902",
   "metadata": {},
   "outputs": [
    {
     "data": {
      "text/plain": [
       "'A'"
      ]
     },
     "execution_count": 7,
     "metadata": {},
     "output_type": "execute_result"
    }
   ],
   "source": [
    "grades[0]"
   ]
  },
  {
   "cell_type": "code",
   "execution_count": 9,
   "id": "62b96b9f",
   "metadata": {},
   "outputs": [
    {
     "data": {
      "text/plain": [
       "['B', 'C', 'D']"
      ]
     },
     "execution_count": 9,
     "metadata": {},
     "output_type": "execute_result"
    }
   ],
   "source": [
    "# [start_index:end_index)\n",
    "grades[1:4]"
   ]
  },
  {
   "cell_type": "code",
   "execution_count": 10,
   "id": "9ab1bee7",
   "metadata": {},
   "outputs": [
    {
     "data": {
      "text/plain": [
       "['B', 'D']"
      ]
     },
     "execution_count": 10,
     "metadata": {},
     "output_type": "execute_result"
    }
   ],
   "source": [
    "# [start_index:end_index:step_size)\n",
    "grades[1::2]"
   ]
  },
  {
   "cell_type": "code",
   "execution_count": 11,
   "id": "be800929",
   "metadata": {},
   "outputs": [
    {
     "data": {
      "text/plain": [
       "[5, 4, 7, 3, 2, 3, 2, 6, 4, 2, 1, 7, 1, 3]"
      ]
     },
     "execution_count": 11,
     "metadata": {},
     "output_type": "execute_result"
    }
   ],
   "source": [
    "whales"
   ]
  },
  {
   "cell_type": "code",
   "execution_count": 13,
   "id": "8f7739d3",
   "metadata": {},
   "outputs": [
    {
     "data": {
      "text/plain": [
       "[4, 3, 3]"
      ]
     },
     "execution_count": 13,
     "metadata": {},
     "output_type": "execute_result"
    }
   ],
   "source": [
    "whales[1:6:2]"
   ]
  },
  {
   "cell_type": "code",
   "execution_count": 14,
   "id": "e308cabc",
   "metadata": {},
   "outputs": [
    {
     "data": {
      "text/plain": [
       "'F'"
      ]
     },
     "execution_count": 14,
     "metadata": {},
     "output_type": "execute_result"
    }
   ],
   "source": [
    "grades[-1]"
   ]
  },
  {
   "cell_type": "code",
   "execution_count": 15,
   "id": "670f0f12",
   "metadata": {},
   "outputs": [
    {
     "data": {
      "text/plain": [
       "'D'"
      ]
     },
     "execution_count": 15,
     "metadata": {},
     "output_type": "execute_result"
    }
   ],
   "source": [
    "grades[-2]"
   ]
  },
  {
   "cell_type": "code",
   "execution_count": 18,
   "id": "80b12aba",
   "metadata": {},
   "outputs": [
    {
     "ename": "SyntaxError",
     "evalue": "invalid syntax (Temp/ipykernel_17232/3157222354.py, line 1)",
     "output_type": "error",
     "traceback": [
      "\u001b[1;36m  File \u001b[1;32m\"C:\\Users\\mkhaw\\AppData\\Local\\Temp/ipykernel_17232/3157222354.py\"\u001b[1;36m, line \u001b[1;32m1\u001b[0m\n\u001b[1;33m    grades[]\u001b[0m\n\u001b[1;37m           ^\u001b[0m\n\u001b[1;31mSyntaxError\u001b[0m\u001b[1;31m:\u001b[0m invalid syntax\n"
     ]
    }
   ],
   "source": [
    "grades[]"
   ]
  },
  {
   "cell_type": "code",
   "execution_count": 19,
   "id": "69060fab",
   "metadata": {},
   "outputs": [
    {
     "data": {
      "text/plain": [
       "['A', 'B', 'C', 'D', 'F']"
      ]
     },
     "execution_count": 19,
     "metadata": {},
     "output_type": "execute_result"
    }
   ],
   "source": [
    "grades[:] # get copy of list"
   ]
  },
  {
   "cell_type": "code",
   "execution_count": 20,
   "id": "bea72299",
   "metadata": {},
   "outputs": [
    {
     "data": {
      "text/plain": [
       "['F', 'D', 'C', 'B', 'A']"
      ]
     },
     "execution_count": 20,
     "metadata": {},
     "output_type": "execute_result"
    }
   ],
   "source": [
    "grades[::-1]"
   ]
  },
  {
   "cell_type": "code",
   "execution_count": 32,
   "id": "02c65f88",
   "metadata": {},
   "outputs": [],
   "source": [
    "grades = ['A', 'B', 'C', 'D', 'F']"
   ]
  },
  {
   "cell_type": "code",
   "execution_count": 27,
   "id": "38582529",
   "metadata": {},
   "outputs": [],
   "source": [
    "grades[0] = 'a'"
   ]
  },
  {
   "cell_type": "code",
   "execution_count": 29,
   "id": "ec2606e9",
   "metadata": {},
   "outputs": [
    {
     "data": {
      "text/plain": [
       "['a', 'B', 'C', 'D', 'F']"
      ]
     },
     "execution_count": 29,
     "metadata": {},
     "output_type": "execute_result"
    }
   ],
   "source": [
    "grades"
   ]
  },
  {
   "cell_type": "code",
   "execution_count": 30,
   "id": "55645cf0",
   "metadata": {},
   "outputs": [],
   "source": [
    "grades[1:3] = 'a'"
   ]
  },
  {
   "cell_type": "code",
   "execution_count": 33,
   "id": "be5dde8b",
   "metadata": {},
   "outputs": [
    {
     "data": {
      "text/plain": [
       "['A', 'B', 'C', 'D', 'F']"
      ]
     },
     "execution_count": 33,
     "metadata": {},
     "output_type": "execute_result"
    }
   ],
   "source": [
    "grades"
   ]
  },
  {
   "cell_type": "code",
   "execution_count": 34,
   "id": "232776fb",
   "metadata": {},
   "outputs": [],
   "source": [
    "grades[2:] = ['d', 'f']"
   ]
  },
  {
   "cell_type": "code",
   "execution_count": 35,
   "id": "1cb29152",
   "metadata": {},
   "outputs": [
    {
     "data": {
      "text/plain": [
       "['A', 'B', 'd', 'f']"
      ]
     },
     "execution_count": 35,
     "metadata": {},
     "output_type": "execute_result"
    }
   ],
   "source": [
    "grades"
   ]
  },
  {
   "cell_type": "code",
   "execution_count": 43,
   "id": "fb941f5a",
   "metadata": {},
   "outputs": [
    {
     "data": {
      "text/plain": [
       "[5, 4, 7, 3, 2, 3, 2, 6, 4, 2, 1, 7, 1, 3]"
      ]
     },
     "execution_count": 43,
     "metadata": {},
     "output_type": "execute_result"
    }
   ],
   "source": [
    "whales"
   ]
  },
  {
   "cell_type": "code",
   "execution_count": 45,
   "id": "dfd829fe",
   "metadata": {},
   "outputs": [],
   "source": [
    "whales[2:3] = 'a'"
   ]
  },
  {
   "cell_type": "code",
   "execution_count": 46,
   "id": "211411ea",
   "metadata": {},
   "outputs": [
    {
     "data": {
      "text/plain": [
       "[5, 4, 'a', 3, 2, 3, 2, 6, 4, 2, 1, 7, 1, 3]"
      ]
     },
     "execution_count": 46,
     "metadata": {},
     "output_type": "execute_result"
    }
   ],
   "source": [
    "whales"
   ]
  },
  {
   "cell_type": "code",
   "execution_count": 48,
   "id": "0f0f6c9c",
   "metadata": {},
   "outputs": [],
   "source": [
    "whales = [5, 4, 7, 3, 2, 3, 2, 6, 4, 2, 1, 7, 1, 3]\n",
    "whales[2:4] = [99, 100]"
   ]
  },
  {
   "cell_type": "code",
   "execution_count": 49,
   "id": "39721f7e",
   "metadata": {},
   "outputs": [
    {
     "data": {
      "text/plain": [
       "[5, 4, 99, 100, 2, 3, 2, 6, 4, 2, 1, 7, 1, 3]"
      ]
     },
     "execution_count": 49,
     "metadata": {},
     "output_type": "execute_result"
    }
   ],
   "source": [
    "whales"
   ]
  },
  {
   "cell_type": "code",
   "execution_count": 51,
   "id": "26333491",
   "metadata": {},
   "outputs": [],
   "source": [
    "grades = ['A', 'B', 'C', 'D', 'F']\n",
    "del grades[0]"
   ]
  },
  {
   "cell_type": "code",
   "execution_count": 52,
   "id": "0c1586d6",
   "metadata": {},
   "outputs": [
    {
     "data": {
      "text/plain": [
       "['B', 'C', 'D', 'F']"
      ]
     },
     "execution_count": 52,
     "metadata": {},
     "output_type": "execute_result"
    }
   ],
   "source": [
    "grades"
   ]
  },
  {
   "cell_type": "code",
   "execution_count": 53,
   "id": "496d8b00",
   "metadata": {},
   "outputs": [],
   "source": [
    "del grades[1:3]"
   ]
  },
  {
   "cell_type": "code",
   "execution_count": 54,
   "id": "75fd3dab",
   "metadata": {},
   "outputs": [
    {
     "data": {
      "text/plain": [
       "['B', 'F']"
      ]
     },
     "execution_count": 54,
     "metadata": {},
     "output_type": "execute_result"
    }
   ],
   "source": [
    "grades"
   ]
  },
  {
   "cell_type": "code",
   "execution_count": 63,
   "id": "469827e6",
   "metadata": {},
   "outputs": [
    {
     "data": {
      "text/plain": [
       "[5, 4, 7, 3, 99, 3, 2, 6, 4, 2, 1, 7, 1, 3]"
      ]
     },
     "execution_count": 63,
     "metadata": {},
     "output_type": "execute_result"
    }
   ],
   "source": [
    "whales = [5, 4, 7, 3, 99, 3, 2, 6, 4, 2, 1, 7, 1, 3]\n",
    "whales"
   ]
  },
  {
   "cell_type": "code",
   "execution_count": 59,
   "id": "cba7e79b",
   "metadata": {},
   "outputs": [],
   "source": [
    "whales[2:4] = 'blah'"
   ]
  },
  {
   "cell_type": "code",
   "execution_count": 60,
   "id": "5b192800",
   "metadata": {},
   "outputs": [
    {
     "data": {
      "text/plain": [
       "[5, 4, 'b', 'l', 'a', 'h', 99, 3, 2, 6, 4, 2, 1, 7, 1, 3]"
      ]
     },
     "execution_count": 60,
     "metadata": {},
     "output_type": "execute_result"
    }
   ],
   "source": [
    "whales"
   ]
  },
  {
   "cell_type": "code",
   "execution_count": 61,
   "id": "d26e9729",
   "metadata": {},
   "outputs": [],
   "source": [
    "del grades[1:3]"
   ]
  },
  {
   "cell_type": "code",
   "execution_count": 62,
   "id": "bee229d3",
   "metadata": {},
   "outputs": [
    {
     "data": {
      "text/plain": [
       "['B']"
      ]
     },
     "execution_count": 62,
     "metadata": {},
     "output_type": "execute_result"
    }
   ],
   "source": [
    "grades"
   ]
  },
  {
   "cell_type": "code",
   "execution_count": 64,
   "id": "fe0dbb24",
   "metadata": {},
   "outputs": [],
   "source": [
    "whales[2:4] = [10]"
   ]
  },
  {
   "cell_type": "code",
   "execution_count": 65,
   "id": "dbdd1309",
   "metadata": {},
   "outputs": [
    {
     "data": {
      "text/plain": [
       "[5, 4, 10, 99, 3, 2, 6, 4, 2, 1, 7, 1, 3]"
      ]
     },
     "execution_count": 65,
     "metadata": {},
     "output_type": "execute_result"
    }
   ],
   "source": [
    "whales"
   ]
  },
  {
   "cell_type": "code",
   "execution_count": 66,
   "id": "4468c024",
   "metadata": {},
   "outputs": [],
   "source": [
    "grades1 = ['A', 'B', 'C']\n",
    "grades2 = ['D', 'F']"
   ]
  },
  {
   "cell_type": "code",
   "execution_count": 67,
   "id": "148e205e",
   "metadata": {},
   "outputs": [],
   "source": [
    "grades = grades1 + grades2"
   ]
  },
  {
   "cell_type": "code",
   "execution_count": 68,
   "id": "654929ff",
   "metadata": {},
   "outputs": [
    {
     "data": {
      "text/plain": [
       "['A', 'B', 'C', 'D', 'F']"
      ]
     },
     "execution_count": 68,
     "metadata": {},
     "output_type": "execute_result"
    }
   ],
   "source": [
    "grades"
   ]
  },
  {
   "cell_type": "code",
   "execution_count": 69,
   "id": "ba4299eb",
   "metadata": {},
   "outputs": [],
   "source": [
    "grades = ['A', 'B', 'C', 'D', 'F']\n",
    "grades *= 3"
   ]
  },
  {
   "cell_type": "code",
   "execution_count": 70,
   "id": "ccc088af",
   "metadata": {},
   "outputs": [
    {
     "data": {
      "text/plain": [
       "['A', 'B', 'C', 'D', 'F', 'A', 'B', 'C', 'D', 'F', 'A', 'B', 'C', 'D', 'F']"
      ]
     },
     "execution_count": 70,
     "metadata": {},
     "output_type": "execute_result"
    }
   ],
   "source": [
    "grades"
   ]
  },
  {
   "cell_type": "code",
   "execution_count": 71,
   "id": "4ad148c1",
   "metadata": {},
   "outputs": [],
   "source": [
    "buffer = [None] * 10"
   ]
  },
  {
   "cell_type": "code",
   "execution_count": 72,
   "id": "7411cea2",
   "metadata": {},
   "outputs": [
    {
     "data": {
      "text/plain": [
       "[None, None, None, None, None, None, None, None, None, None]"
      ]
     },
     "execution_count": 72,
     "metadata": {},
     "output_type": "execute_result"
    }
   ],
   "source": [
    "buffer"
   ]
  },
  {
   "cell_type": "code",
   "execution_count": 73,
   "id": "0fcbb68b",
   "metadata": {},
   "outputs": [
    {
     "data": {
      "text/plain": [
       "[5, 4, 10, 99, 3, 2, 6, 4, 2, 1, 7, 1, 3]"
      ]
     },
     "execution_count": 73,
     "metadata": {},
     "output_type": "execute_result"
    }
   ],
   "source": [
    "whales"
   ]
  },
  {
   "cell_type": "code",
   "execution_count": 74,
   "id": "e28e7a4e",
   "metadata": {},
   "outputs": [
    {
     "data": {
      "text/plain": [
       "147"
      ]
     },
     "execution_count": 74,
     "metadata": {},
     "output_type": "execute_result"
    }
   ],
   "source": [
    "sum(whales)"
   ]
  },
  {
   "cell_type": "code",
   "execution_count": 75,
   "id": "de48488a",
   "metadata": {},
   "outputs": [],
   "source": [
    "my_list = ['A', 1, 'Spam', True]"
   ]
  },
  {
   "cell_type": "code",
   "execution_count": 77,
   "id": "a736b749",
   "metadata": {},
   "outputs": [
    {
     "ename": "TypeError",
     "evalue": "unsupported operand type(s) for +: 'int' and 'str'",
     "output_type": "error",
     "traceback": [
      "\u001b[1;31m---------------------------------------------------------------------------\u001b[0m",
      "\u001b[1;31mTypeError\u001b[0m                                 Traceback (most recent call last)",
      "\u001b[1;32m~\\AppData\\Local\\Temp/ipykernel_17232/3256374905.py\u001b[0m in \u001b[0;36m<module>\u001b[1;34m\u001b[0m\n\u001b[1;32m----> 1\u001b[1;33m \u001b[0msum\u001b[0m\u001b[1;33m(\u001b[0m\u001b[0mmy_list\u001b[0m\u001b[1;33m)\u001b[0m\u001b[1;33m\u001b[0m\u001b[1;33m\u001b[0m\u001b[0m\n\u001b[0m",
      "\u001b[1;31mTypeError\u001b[0m: unsupported operand type(s) for +: 'int' and 'str'"
     ]
    }
   ],
   "source": [
    "sum(my_list)"
   ]
  },
  {
   "cell_type": "code",
   "execution_count": 79,
   "id": "4db4db36",
   "metadata": {},
   "outputs": [
    {
     "ename": "TypeError",
     "evalue": "unsupported operand type(s) for +: 'int' and 'str'",
     "output_type": "error",
     "traceback": [
      "\u001b[1;31m---------------------------------------------------------------------------\u001b[0m",
      "\u001b[1;31mTypeError\u001b[0m                                 Traceback (most recent call last)",
      "\u001b[1;32m~\\AppData\\Local\\Temp/ipykernel_17232/1500295126.py\u001b[0m in \u001b[0;36m<module>\u001b[1;34m\u001b[0m\n\u001b[0;32m      1\u001b[0m \u001b[0mmy_list\u001b[0m \u001b[1;33m=\u001b[0m \u001b[1;33m[\u001b[0m\u001b[1;34m'A'\u001b[0m\u001b[1;33m,\u001b[0m \u001b[1;34m'Spam'\u001b[0m\u001b[1;33m]\u001b[0m\u001b[1;33m\u001b[0m\u001b[1;33m\u001b[0m\u001b[0m\n\u001b[1;32m----> 2\u001b[1;33m \u001b[0msum\u001b[0m\u001b[1;33m(\u001b[0m\u001b[0mmy_list\u001b[0m\u001b[1;33m)\u001b[0m\u001b[1;33m\u001b[0m\u001b[1;33m\u001b[0m\u001b[0m\n\u001b[0m",
      "\u001b[1;31mTypeError\u001b[0m: unsupported operand type(s) for +: 'int' and 'str'"
     ]
    }
   ],
   "source": [
    "my_list = ['A', 'Spam']\n",
    "sum(my_list)"
   ]
  },
  {
   "cell_type": "code",
   "execution_count": 81,
   "id": "1bd44524",
   "metadata": {},
   "outputs": [],
   "source": [
    "my_list2 = [['John', [55, 65, 86]], ['Jane', [70, 80, 80]]]"
   ]
  },
  {
   "cell_type": "code",
   "execution_count": 82,
   "id": "e98e90a7",
   "metadata": {},
   "outputs": [
    {
     "data": {
      "text/plain": [
       "['John', [55, 65, 86]]"
      ]
     },
     "execution_count": 82,
     "metadata": {},
     "output_type": "execute_result"
    }
   ],
   "source": [
    "my_list2[0]"
   ]
  },
  {
   "cell_type": "code",
   "execution_count": 83,
   "id": "084b1e49",
   "metadata": {},
   "outputs": [
    {
     "data": {
      "text/plain": [
       "'John'"
      ]
     },
     "execution_count": 83,
     "metadata": {},
     "output_type": "execute_result"
    }
   ],
   "source": [
    "my_list2[0][0]"
   ]
  },
  {
   "cell_type": "code",
   "execution_count": 84,
   "id": "57be2ecd",
   "metadata": {},
   "outputs": [
    {
     "data": {
      "text/plain": [
       "[55, 65, 86]"
      ]
     },
     "execution_count": 84,
     "metadata": {},
     "output_type": "execute_result"
    }
   ],
   "source": [
    "my_list2[0][1]"
   ]
  },
  {
   "cell_type": "code",
   "execution_count": 85,
   "id": "2eb733ac",
   "metadata": {},
   "outputs": [
    {
     "data": {
      "text/plain": [
       "86"
      ]
     },
     "execution_count": 85,
     "metadata": {},
     "output_type": "execute_result"
    }
   ],
   "source": [
    "my_list2[0][1][2]"
   ]
  },
  {
   "cell_type": "code",
   "execution_count": 86,
   "id": "b10b9be0",
   "metadata": {},
   "outputs": [],
   "source": [
    "numbers = [3, 4, 8, 9, 5, 6, 7, 0, 1, 2, 10, 11, 12]"
   ]
  },
  {
   "cell_type": "code",
   "execution_count": 89,
   "id": "24ffe370",
   "metadata": {},
   "outputs": [],
   "source": [
    "sorted_list = sorted(numbers)"
   ]
  },
  {
   "cell_type": "code",
   "execution_count": 88,
   "id": "c0f2b442",
   "metadata": {},
   "outputs": [
    {
     "data": {
      "text/plain": [
       "[3, 4, 8, 9, 5, 6, 7, 0, 1, 2, 10, 11, 12]"
      ]
     },
     "execution_count": 88,
     "metadata": {},
     "output_type": "execute_result"
    }
   ],
   "source": [
    "numbers"
   ]
  },
  {
   "cell_type": "code",
   "execution_count": 90,
   "id": "d7df35bd",
   "metadata": {},
   "outputs": [
    {
     "data": {
      "text/plain": [
       "[0, 1, 2, 3, 4, 5, 6, 7, 8, 9, 10, 11, 12]"
      ]
     },
     "execution_count": 90,
     "metadata": {},
     "output_type": "execute_result"
    }
   ],
   "source": [
    "sorted_list"
   ]
  },
  {
   "cell_type": "code",
   "execution_count": 91,
   "id": "b9ee5fba",
   "metadata": {},
   "outputs": [],
   "source": [
    "booleans = [True, False, True]"
   ]
  },
  {
   "cell_type": "code",
   "execution_count": 92,
   "id": "60eb9848",
   "metadata": {},
   "outputs": [
    {
     "data": {
      "text/plain": [
       "True"
      ]
     },
     "execution_count": 92,
     "metadata": {},
     "output_type": "execute_result"
    }
   ],
   "source": [
    "any(booleans)"
   ]
  },
  {
   "cell_type": "code",
   "execution_count": 93,
   "id": "f0cadc3f",
   "metadata": {},
   "outputs": [
    {
     "data": {
      "text/plain": [
       "False"
      ]
     },
     "execution_count": 93,
     "metadata": {},
     "output_type": "execute_result"
    }
   ],
   "source": [
    "all(booleans)"
   ]
  },
  {
   "cell_type": "code",
   "execution_count": 94,
   "id": "fd6440ee",
   "metadata": {},
   "outputs": [
    {
     "data": {
      "text/plain": [
       "True"
      ]
     },
     "execution_count": 94,
     "metadata": {},
     "output_type": "execute_result"
    }
   ],
   "source": [
    "user_access = [True, True, False]\n",
    "\n",
    "any(user_access)"
   ]
  },
  {
   "cell_type": "code",
   "execution_count": 95,
   "id": "afe6058a",
   "metadata": {},
   "outputs": [
    {
     "data": {
      "text/plain": [
       "False"
      ]
     },
     "execution_count": 95,
     "metadata": {},
     "output_type": "execute_result"
    }
   ],
   "source": [
    "all(user_access)"
   ]
  },
  {
   "cell_type": "code",
   "execution_count": 96,
   "id": "c2832ec5",
   "metadata": {},
   "outputs": [],
   "source": [
    "grades = ['A', 'B', 'C']\n",
    "grades.append('D')"
   ]
  },
  {
   "cell_type": "code",
   "execution_count": 97,
   "id": "623637ac",
   "metadata": {},
   "outputs": [
    {
     "data": {
      "text/plain": [
       "['A', 'B', 'C', 'D']"
      ]
     },
     "execution_count": 97,
     "metadata": {},
     "output_type": "execute_result"
    }
   ],
   "source": [
    "grades"
   ]
  },
  {
   "cell_type": "code",
   "execution_count": 98,
   "id": "ace13ab9",
   "metadata": {},
   "outputs": [],
   "source": [
    "grades.insert(4, 'F')"
   ]
  },
  {
   "cell_type": "code",
   "execution_count": 99,
   "id": "8706163d",
   "metadata": {},
   "outputs": [
    {
     "data": {
      "text/plain": [
       "['A', 'B', 'C', 'D', 'F']"
      ]
     },
     "execution_count": 99,
     "metadata": {},
     "output_type": "execute_result"
    }
   ],
   "source": [
    "grades"
   ]
  },
  {
   "cell_type": "code",
   "execution_count": 100,
   "id": "fcbdbe39",
   "metadata": {},
   "outputs": [],
   "source": [
    "grades.insert(14, 'F+')"
   ]
  },
  {
   "cell_type": "code",
   "execution_count": 101,
   "id": "a5449882",
   "metadata": {},
   "outputs": [
    {
     "data": {
      "text/plain": [
       "['A', 'B', 'C', 'D', 'F', 'F+']"
      ]
     },
     "execution_count": 101,
     "metadata": {},
     "output_type": "execute_result"
    }
   ],
   "source": [
    "grades"
   ]
  },
  {
   "cell_type": "code",
   "execution_count": 102,
   "id": "034b6dfd",
   "metadata": {},
   "outputs": [
    {
     "ename": "ValueError",
     "evalue": "list.remove(x): x not in list",
     "output_type": "error",
     "traceback": [
      "\u001b[1;31m---------------------------------------------------------------------------\u001b[0m",
      "\u001b[1;31mValueError\u001b[0m                                Traceback (most recent call last)",
      "\u001b[1;32m~\\AppData\\Local\\Temp/ipykernel_17232/165686225.py\u001b[0m in \u001b[0;36m<module>\u001b[1;34m\u001b[0m\n\u001b[1;32m----> 1\u001b[1;33m \u001b[0mgrades\u001b[0m\u001b[1;33m.\u001b[0m\u001b[0mremove\u001b[0m\u001b[1;33m(\u001b[0m\u001b[1;36m2\u001b[0m\u001b[1;33m)\u001b[0m\u001b[1;33m\u001b[0m\u001b[1;33m\u001b[0m\u001b[0m\n\u001b[0m",
      "\u001b[1;31mValueError\u001b[0m: list.remove(x): x not in list"
     ]
    }
   ],
   "source": [
    "grades.remove(2)"
   ]
  },
  {
   "cell_type": "code",
   "execution_count": 103,
   "id": "100b3d9f",
   "metadata": {},
   "outputs": [],
   "source": [
    "grades.remove('F+')"
   ]
  },
  {
   "cell_type": "code",
   "execution_count": 104,
   "id": "ccc26ec6",
   "metadata": {},
   "outputs": [
    {
     "data": {
      "text/plain": [
       "['A', 'B', 'C', 'D', 'F']"
      ]
     },
     "execution_count": 104,
     "metadata": {},
     "output_type": "execute_result"
    }
   ],
   "source": [
    "grades"
   ]
  },
  {
   "cell_type": "code",
   "execution_count": 105,
   "id": "9be2082a",
   "metadata": {},
   "outputs": [],
   "source": [
    "f = grades.pop()"
   ]
  },
  {
   "cell_type": "code",
   "execution_count": 106,
   "id": "28dbfb9b",
   "metadata": {},
   "outputs": [
    {
     "data": {
      "text/plain": [
       "['A', 'B', 'C', 'D']"
      ]
     },
     "execution_count": 106,
     "metadata": {},
     "output_type": "execute_result"
    }
   ],
   "source": [
    "grades"
   ]
  },
  {
   "cell_type": "code",
   "execution_count": 107,
   "id": "3ecf5534",
   "metadata": {},
   "outputs": [
    {
     "data": {
      "text/plain": [
       "'F'"
      ]
     },
     "execution_count": 107,
     "metadata": {},
     "output_type": "execute_result"
    }
   ],
   "source": [
    "f"
   ]
  },
  {
   "cell_type": "code",
   "execution_count": 108,
   "id": "c81ab69a",
   "metadata": {},
   "outputs": [],
   "source": [
    "tmp = grades.remove('D')"
   ]
  },
  {
   "cell_type": "code",
   "execution_count": 109,
   "id": "baa43c2d",
   "metadata": {},
   "outputs": [],
   "source": [
    "tmp"
   ]
  },
  {
   "cell_type": "code",
   "execution_count": 110,
   "id": "745af1e4",
   "metadata": {},
   "outputs": [
    {
     "data": {
      "text/plain": [
       "NoneType"
      ]
     },
     "execution_count": 110,
     "metadata": {},
     "output_type": "execute_result"
    }
   ],
   "source": [
    "type(tmp)"
   ]
  },
  {
   "cell_type": "code",
   "execution_count": 111,
   "id": "7a466686",
   "metadata": {},
   "outputs": [
    {
     "data": {
      "text/plain": [
       "['A', 'B', 'C']"
      ]
     },
     "execution_count": 111,
     "metadata": {},
     "output_type": "execute_result"
    }
   ],
   "source": [
    "grades"
   ]
  },
  {
   "cell_type": "code",
   "execution_count": 112,
   "id": "9ee60cbf",
   "metadata": {},
   "outputs": [
    {
     "data": {
      "text/plain": [
       "'B'"
      ]
     },
     "execution_count": 112,
     "metadata": {},
     "output_type": "execute_result"
    }
   ],
   "source": [
    "grades.pop(1)"
   ]
  },
  {
   "cell_type": "code",
   "execution_count": 113,
   "id": "06c2e422",
   "metadata": {},
   "outputs": [
    {
     "data": {
      "text/plain": [
       "['A', 'C']"
      ]
     },
     "execution_count": 113,
     "metadata": {},
     "output_type": "execute_result"
    }
   ],
   "source": [
    "grades"
   ]
  },
  {
   "cell_type": "code",
   "execution_count": 114,
   "id": "705baa20",
   "metadata": {},
   "outputs": [],
   "source": [
    "grades = ['A', 'B', 'C']\n",
    "grades.append('D')"
   ]
  },
  {
   "cell_type": "code",
   "execution_count": 115,
   "id": "63f9d6f7",
   "metadata": {},
   "outputs": [
    {
     "data": {
      "text/plain": [
       "['A', 'B', 'C', 'D']"
      ]
     },
     "execution_count": 115,
     "metadata": {},
     "output_type": "execute_result"
    }
   ],
   "source": [
    "grades"
   ]
  },
  {
   "cell_type": "code",
   "execution_count": 116,
   "id": "48c886f5",
   "metadata": {},
   "outputs": [],
   "source": [
    "del grades[1]"
   ]
  },
  {
   "cell_type": "code",
   "execution_count": 117,
   "id": "f8248943",
   "metadata": {},
   "outputs": [
    {
     "data": {
      "text/plain": [
       "['A', 'C', 'D']"
      ]
     },
     "execution_count": 117,
     "metadata": {},
     "output_type": "execute_result"
    }
   ],
   "source": [
    "grades"
   ]
  },
  {
   "cell_type": "code",
   "execution_count": 118,
   "id": "6b722685",
   "metadata": {},
   "outputs": [
    {
     "data": {
      "text/plain": [
       "1"
      ]
     },
     "execution_count": 118,
     "metadata": {},
     "output_type": "execute_result"
    }
   ],
   "source": [
    "grades.index('C')"
   ]
  },
  {
   "cell_type": "code",
   "execution_count": 119,
   "id": "a36c7d02",
   "metadata": {},
   "outputs": [],
   "source": [
    "grades.append('C')"
   ]
  },
  {
   "cell_type": "code",
   "execution_count": 120,
   "id": "644a1016",
   "metadata": {},
   "outputs": [
    {
     "data": {
      "text/plain": [
       "['A', 'C', 'D', 'C']"
      ]
     },
     "execution_count": 120,
     "metadata": {},
     "output_type": "execute_result"
    }
   ],
   "source": [
    "grades"
   ]
  },
  {
   "cell_type": "code",
   "execution_count": 121,
   "id": "bc49c782",
   "metadata": {},
   "outputs": [
    {
     "data": {
      "text/plain": [
       "1"
      ]
     },
     "execution_count": 121,
     "metadata": {},
     "output_type": "execute_result"
    }
   ],
   "source": [
    "grades.index('C')"
   ]
  },
  {
   "cell_type": "code",
   "execution_count": 122,
   "id": "3f2bf9f4",
   "metadata": {},
   "outputs": [
    {
     "data": {
      "text/plain": [
       "2"
      ]
     },
     "execution_count": 122,
     "metadata": {},
     "output_type": "execute_result"
    }
   ],
   "source": [
    "grades.count('C')"
   ]
  },
  {
   "cell_type": "code",
   "execution_count": 123,
   "id": "0eca117a",
   "metadata": {},
   "outputs": [],
   "source": [
    "# sorted vs sort()\n",
    "# sorted is a function \n",
    "# sort() is a method on list data type -- will sort in-place "
   ]
  },
  {
   "cell_type": "code",
   "execution_count": 124,
   "id": "8f0cee7e",
   "metadata": {},
   "outputs": [
    {
     "data": {
      "text/plain": [
       "['A', 'C', 'D', 'C']"
      ]
     },
     "execution_count": 124,
     "metadata": {},
     "output_type": "execute_result"
    }
   ],
   "source": [
    "grades"
   ]
  },
  {
   "cell_type": "code",
   "execution_count": 125,
   "id": "f03682b1",
   "metadata": {},
   "outputs": [
    {
     "data": {
      "text/plain": [
       "['A', 'C', 'C', 'D']"
      ]
     },
     "execution_count": 125,
     "metadata": {},
     "output_type": "execute_result"
    }
   ],
   "source": [
    "sorted(grades)"
   ]
  },
  {
   "cell_type": "code",
   "execution_count": 126,
   "id": "f3bce4e3",
   "metadata": {},
   "outputs": [],
   "source": [
    "grades.sort()"
   ]
  },
  {
   "cell_type": "code",
   "execution_count": 127,
   "id": "1583cd6f",
   "metadata": {},
   "outputs": [
    {
     "data": {
      "text/plain": [
       "['A', 'C', 'C', 'D']"
      ]
     },
     "execution_count": 127,
     "metadata": {},
     "output_type": "execute_result"
    }
   ],
   "source": [
    "grades"
   ]
  },
  {
   "cell_type": "code",
   "execution_count": 128,
   "id": "856ce79b",
   "metadata": {},
   "outputs": [],
   "source": [
    "tmp = grades.sort()"
   ]
  },
  {
   "cell_type": "code",
   "execution_count": 129,
   "id": "086ea4b4",
   "metadata": {},
   "outputs": [
    {
     "data": {
      "text/plain": [
       "NoneType"
      ]
     },
     "execution_count": 129,
     "metadata": {},
     "output_type": "execute_result"
    }
   ],
   "source": [
    "type(tmp)"
   ]
  },
  {
   "cell_type": "code",
   "execution_count": 130,
   "id": "ebeae044",
   "metadata": {},
   "outputs": [],
   "source": [
    "tmp = sorted(grades)"
   ]
  },
  {
   "cell_type": "code",
   "execution_count": 131,
   "id": "f2961cfc",
   "metadata": {},
   "outputs": [
    {
     "data": {
      "text/plain": [
       "list"
      ]
     },
     "execution_count": 131,
     "metadata": {},
     "output_type": "execute_result"
    }
   ],
   "source": [
    "type(tmp)"
   ]
  },
  {
   "cell_type": "code",
   "execution_count": 132,
   "id": "1a80e755",
   "metadata": {},
   "outputs": [],
   "source": [
    "grades.reverse()"
   ]
  },
  {
   "cell_type": "code",
   "execution_count": 133,
   "id": "bbb66da8",
   "metadata": {},
   "outputs": [
    {
     "data": {
      "text/plain": [
       "['D', 'C', 'C', 'A']"
      ]
     },
     "execution_count": 133,
     "metadata": {},
     "output_type": "execute_result"
    }
   ],
   "source": [
    "grades"
   ]
  },
  {
   "cell_type": "code",
   "execution_count": 134,
   "id": "37a4b03c",
   "metadata": {},
   "outputs": [],
   "source": [
    "a, b = [3,4]"
   ]
  },
  {
   "cell_type": "code",
   "execution_count": 135,
   "id": "1ebfc831",
   "metadata": {},
   "outputs": [
    {
     "data": {
      "text/plain": [
       "3"
      ]
     },
     "execution_count": 135,
     "metadata": {},
     "output_type": "execute_result"
    }
   ],
   "source": [
    "a"
   ]
  },
  {
   "cell_type": "code",
   "execution_count": 136,
   "id": "71e6f2f1",
   "metadata": {},
   "outputs": [
    {
     "data": {
      "text/plain": [
       "4"
      ]
     },
     "execution_count": 136,
     "metadata": {},
     "output_type": "execute_result"
    }
   ],
   "source": [
    "b"
   ]
  },
  {
   "cell_type": "code",
   "execution_count": 137,
   "id": "f14f5443",
   "metadata": {},
   "outputs": [],
   "source": [
    "numbers = [3, 4, 8, 9, 5, 6, 7, 0, 1, 2, 10, 11, 12]"
   ]
  },
  {
   "cell_type": "code",
   "execution_count": 138,
   "id": "84740366",
   "metadata": {},
   "outputs": [
    {
     "data": {
      "text/plain": [
       "[8, 9, 5]"
      ]
     },
     "execution_count": 138,
     "metadata": {},
     "output_type": "execute_result"
    }
   ],
   "source": [
    "numbers[2:5]"
   ]
  },
  {
   "cell_type": "code",
   "execution_count": 139,
   "id": "c240cfd9",
   "metadata": {},
   "outputs": [],
   "source": [
    "a = numbers[2:5]"
   ]
  },
  {
   "cell_type": "code",
   "execution_count": 140,
   "id": "9e942f8b",
   "metadata": {},
   "outputs": [
    {
     "data": {
      "text/plain": [
       "[8, 9, 5]"
      ]
     },
     "execution_count": 140,
     "metadata": {},
     "output_type": "execute_result"
    }
   ],
   "source": [
    "a"
   ]
  },
  {
   "cell_type": "code",
   "execution_count": 141,
   "id": "50288002",
   "metadata": {},
   "outputs": [
    {
     "ename": "ValueError",
     "evalue": "too many values to unpack (expected 2)",
     "output_type": "error",
     "traceback": [
      "\u001b[1;31m---------------------------------------------------------------------------\u001b[0m",
      "\u001b[1;31mValueError\u001b[0m                                Traceback (most recent call last)",
      "\u001b[1;32m~\\AppData\\Local\\Temp/ipykernel_17232/4091169305.py\u001b[0m in \u001b[0;36m<module>\u001b[1;34m\u001b[0m\n\u001b[1;32m----> 1\u001b[1;33m \u001b[0ma\u001b[0m\u001b[1;33m,\u001b[0m\u001b[0mb\u001b[0m \u001b[1;33m=\u001b[0m \u001b[0mnumbers\u001b[0m\u001b[1;33m[\u001b[0m\u001b[1;36m2\u001b[0m\u001b[1;33m:\u001b[0m\u001b[1;36m5\u001b[0m\u001b[1;33m]\u001b[0m\u001b[1;33m\u001b[0m\u001b[1;33m\u001b[0m\u001b[0m\n\u001b[0m",
      "\u001b[1;31mValueError\u001b[0m: too many values to unpack (expected 2)"
     ]
    }
   ],
   "source": [
    "a,b = numbers[2:5]"
   ]
  },
  {
   "cell_type": "code",
   "execution_count": 143,
   "id": "3925b58a",
   "metadata": {},
   "outputs": [],
   "source": [
    "a,b,c = numbers[2:5]"
   ]
  },
  {
   "cell_type": "code",
   "execution_count": 144,
   "id": "7c1b3181",
   "metadata": {},
   "outputs": [
    {
     "data": {
      "text/plain": [
       "8"
      ]
     },
     "execution_count": 144,
     "metadata": {},
     "output_type": "execute_result"
    }
   ],
   "source": [
    "a"
   ]
  },
  {
   "cell_type": "code",
   "execution_count": 145,
   "id": "dbe93b39",
   "metadata": {},
   "outputs": [
    {
     "data": {
      "text/plain": [
       "9"
      ]
     },
     "execution_count": 145,
     "metadata": {},
     "output_type": "execute_result"
    }
   ],
   "source": [
    "b"
   ]
  },
  {
   "cell_type": "code",
   "execution_count": 146,
   "id": "05b801a6",
   "metadata": {},
   "outputs": [
    {
     "data": {
      "text/plain": [
       "5"
      ]
     },
     "execution_count": 146,
     "metadata": {},
     "output_type": "execute_result"
    }
   ],
   "source": [
    "c"
   ]
  },
  {
   "cell_type": "code",
   "execution_count": null,
   "id": "27d5e573",
   "metadata": {},
   "outputs": [],
   "source": [
    "# How is reverse() different from [: :-1], any example for this?\n"
   ]
  },
  {
   "cell_type": "code",
   "execution_count": 147,
   "id": "7f030cf3",
   "metadata": {},
   "outputs": [],
   "source": [
    "my_tuple = (1, 2, 3, 4)"
   ]
  },
  {
   "cell_type": "code",
   "execution_count": 148,
   "id": "1c0f03d5",
   "metadata": {},
   "outputs": [
    {
     "ename": "TypeError",
     "evalue": "'tuple' object does not support item assignment",
     "output_type": "error",
     "traceback": [
      "\u001b[1;31m---------------------------------------------------------------------------\u001b[0m",
      "\u001b[1;31mTypeError\u001b[0m                                 Traceback (most recent call last)",
      "\u001b[1;32m~\\AppData\\Local\\Temp/ipykernel_17232/3419050473.py\u001b[0m in \u001b[0;36m<module>\u001b[1;34m\u001b[0m\n\u001b[1;32m----> 1\u001b[1;33m \u001b[0mmy_tuple\u001b[0m\u001b[1;33m[\u001b[0m\u001b[1;36m2\u001b[0m\u001b[1;33m]\u001b[0m \u001b[1;33m=\u001b[0m \u001b[1;36m4\u001b[0m\u001b[1;33m\u001b[0m\u001b[1;33m\u001b[0m\u001b[0m\n\u001b[0m",
      "\u001b[1;31mTypeError\u001b[0m: 'tuple' object does not support item assignment"
     ]
    }
   ],
   "source": [
    "my_tuple[2] = 4"
   ]
  },
  {
   "cell_type": "code",
   "execution_count": 149,
   "id": "23cd6d5d",
   "metadata": {},
   "outputs": [],
   "source": [
    "my_tuple = (1, [99, 100], 3, 4)"
   ]
  },
  {
   "cell_type": "code",
   "execution_count": 150,
   "id": "ec175fe8",
   "metadata": {},
   "outputs": [
    {
     "ename": "TypeError",
     "evalue": "'tuple' object does not support item assignment",
     "output_type": "error",
     "traceback": [
      "\u001b[1;31m---------------------------------------------------------------------------\u001b[0m",
      "\u001b[1;31mTypeError\u001b[0m                                 Traceback (most recent call last)",
      "\u001b[1;32m~\\AppData\\Local\\Temp/ipykernel_17232/233467182.py\u001b[0m in \u001b[0;36m<module>\u001b[1;34m\u001b[0m\n\u001b[1;32m----> 1\u001b[1;33m \u001b[0mmy_tuple\u001b[0m\u001b[1;33m[\u001b[0m\u001b[1;36m1\u001b[0m\u001b[1;33m]\u001b[0m \u001b[1;33m=\u001b[0m \u001b[1;36m100\u001b[0m\u001b[1;33m\u001b[0m\u001b[1;33m\u001b[0m\u001b[0m\n\u001b[0m",
      "\u001b[1;31mTypeError\u001b[0m: 'tuple' object does not support item assignment"
     ]
    }
   ],
   "source": [
    "my_tuple[1] = 100"
   ]
  },
  {
   "cell_type": "code",
   "execution_count": 151,
   "id": "b0499d54",
   "metadata": {},
   "outputs": [],
   "source": [
    "my_tuple[1][1] = 1000"
   ]
  },
  {
   "cell_type": "code",
   "execution_count": 152,
   "id": "f342adf7",
   "metadata": {},
   "outputs": [
    {
     "data": {
      "text/plain": [
       "(1, [99, 1000], 3, 4)"
      ]
     },
     "execution_count": 152,
     "metadata": {},
     "output_type": "execute_result"
    }
   ],
   "source": [
    "my_tuple"
   ]
  },
  {
   "cell_type": "code",
   "execution_count": 153,
   "id": "999d4104",
   "metadata": {},
   "outputs": [],
   "source": [
    "with open('test_file.txt', 'w') as file:\n",
    "    file.write('line1\\nline2')\n",
    "    \n",
    "    \n",
    "## Here\n",
    "x = 1"
   ]
  },
  {
   "cell_type": "markdown",
   "id": "1653a357",
   "metadata": {},
   "source": [
    "title = '|' + '{:^51}'.format('Cereal Yields (kg/ha)') + '|'\n",
    "line = '+' + '-'*15 + '+' + ('-'*8 + '+')*4\n",
    "row = '| {:<13} |' + ' {:6,d} |'*4\n",
    "header = '| {:^13s} |'.format('Country') + (' {:^6d} |'*4).format(1980, 1990,\n",
    "                                                                  2000, 2010)\n",
    "file_content = '\\n'.join(('+' + '-'*(len(title)-2) + '+',\n",
    "      title,\n",
    "      line,\n",
    "      header,\n",
    "      line,\n",
    "      row.format('China', 2937, 4321, 4752, 5527),\n",
    "      row.format('Germany', 4225, 5411, 6453, 6718),\n",
    "      row.format('United States', 3772, 4755, 5854, 6988),\n",
    "      line))\n"
   ]
  },
  {
   "cell_type": "code",
   "execution_count": 155,
   "id": "7d11d039",
   "metadata": {},
   "outputs": [
    {
     "name": "stdout",
     "output_type": "stream",
     "text": [
      "+---------------------------------------------------+\n",
      "|               Cereal Yields (kg/ha)               |\n",
      "+---------------+--------+--------+--------+--------+\n",
      "|    Country    |  1980  |  1990  |  2000  |  2010  |\n",
      "+---------------+--------+--------+--------+--------+\n",
      "| China         |  2,937 |  4,321 |  4,752 |  5,527 |\n",
      "| Germany       |  4,225 |  5,411 |  6,453 |  6,718 |\n",
      "| United States |  3,772 |  4,755 |  5,854 |  6,988 |\n",
      "+---------------+--------+--------+--------+--------+\n"
     ]
    }
   ],
   "source": [
    "print(file_content)"
   ]
  },
  {
   "cell_type": "code",
   "execution_count": 156,
   "id": "7c621ede",
   "metadata": {},
   "outputs": [],
   "source": [
    "with open('test_file.txt', 'w') as file:\n",
    "    file.write(file_content)"
   ]
  },
  {
   "cell_type": "markdown",
   "id": "c087b5c0",
   "metadata": {},
   "source": [
    "# Header1 "
   ]
  },
  {
   "cell_type": "code",
   "execution_count": 159,
   "id": "831d5ddc",
   "metadata": {},
   "outputs": [],
   "source": [
    "values = range(10)"
   ]
  },
  {
   "cell_type": "code",
   "execution_count": 163,
   "id": "8f05288a",
   "metadata": {},
   "outputs": [],
   "source": [
    "values = list(values)"
   ]
  },
  {
   "cell_type": "code",
   "execution_count": 164,
   "id": "c23cd3f4",
   "metadata": {},
   "outputs": [
    {
     "data": {
      "text/plain": [
       "[0, 1, 2, 3, 4, 5, 6, 7, 8, 9]"
      ]
     },
     "execution_count": 164,
     "metadata": {},
     "output_type": "execute_result"
    }
   ],
   "source": [
    "values"
   ]
  },
  {
   "cell_type": "code",
   "execution_count": 167,
   "id": "20431727",
   "metadata": {},
   "outputs": [
    {
     "data": {
      "text/plain": [
       "[1, 4, 7]"
      ]
     },
     "execution_count": 167,
     "metadata": {},
     "output_type": "execute_result"
    }
   ],
   "source": [
    "list(range(1,10, 3))"
   ]
  },
  {
   "cell_type": "code",
   "execution_count": 169,
   "id": "7463b5d9",
   "metadata": {},
   "outputs": [
    {
     "name": "stdout",
     "output_type": "stream",
     "text": [
      "0\n",
      "1\n",
      "2\n",
      "3\n",
      "4\n",
      "5\n"
     ]
    }
   ],
   "source": [
    "values = [4, 10, 3, 8, -6, 10]\n",
    "for i in range(len(values)):\n",
    "    print(i)"
   ]
  },
  {
   "cell_type": "code",
   "execution_count": 170,
   "id": "efddf84c",
   "metadata": {},
   "outputs": [
    {
     "name": "stdout",
     "output_type": "stream",
     "text": [
      "0 4\n",
      "1 10\n",
      "2 3\n",
      "3 8\n",
      "4 -6\n"
     ]
    }
   ],
   "source": [
    "values = [4, 10, 3, 8, -6]\n",
    "for i in range(len(values)):\n",
    "    print(i, values[i])"
   ]
  },
  {
   "cell_type": "code",
   "execution_count": 171,
   "id": "127baf7b",
   "metadata": {},
   "outputs": [
    {
     "name": "stdout",
     "output_type": "stream",
     "text": [
      "0 4\n",
      "1 10\n",
      "2 3\n",
      "3 8\n",
      "4 -6\n"
     ]
    }
   ],
   "source": [
    "values = [4, 10, 3, 8, -6]\n",
    "for index, value in enumerate(values):\n",
    "    print(index, value)"
   ]
  },
  {
   "cell_type": "code",
   "execution_count": 173,
   "id": "f5ffe5c3",
   "metadata": {},
   "outputs": [
    {
     "name": "stdout",
     "output_type": "stream",
     "text": [
      "100 4\n",
      "101 10\n",
      "102 3\n",
      "103 8\n",
      "104 -6\n"
     ]
    }
   ],
   "source": [
    "values = [4, 10, 3, 8, -6]\n",
    "for index, value in enumerate(values, 100):\n",
    "    print(index, value)"
   ]
  },
  {
   "cell_type": "code",
   "execution_count": 174,
   "id": "030c3cb5",
   "metadata": {},
   "outputs": [],
   "source": [
    "values = [4, 10, 3, 8, -6]\n",
    "for i in range(len(values)):\n",
    "    values[i] = values[i] * 2"
   ]
  },
  {
   "cell_type": "code",
   "execution_count": 175,
   "id": "bef20f23",
   "metadata": {},
   "outputs": [
    {
     "data": {
      "text/plain": [
       "[8, 20, 6, 16, -12]"
      ]
     },
     "execution_count": 175,
     "metadata": {},
     "output_type": "execute_result"
    }
   ],
   "source": [
    "values"
   ]
  },
  {
   "cell_type": "code",
   "execution_count": 176,
   "id": "18a6c303",
   "metadata": {},
   "outputs": [
    {
     "name": "stdout",
     "output_type": "stream",
     "text": [
      "Li 6.941\n",
      "Na 22.98976928\n",
      "K 39.0983\n"
     ]
    }
   ],
   "source": [
    "metals = ['Li', 'Na', 'K']\n",
    "weights = [6.941, 22.98976928, 39.0983]\n",
    "for i in range(len(metals)):\n",
    "    print(metals[i], weights[i])"
   ]
  },
  {
   "cell_type": "code",
   "execution_count": 177,
   "id": "00102b0b",
   "metadata": {},
   "outputs": [
    {
     "name": "stdout",
     "output_type": "stream",
     "text": [
      "Li 6.941\n",
      "Na 22.98976928\n",
      "K 39.0983\n"
     ]
    }
   ],
   "source": [
    "metals = ['Li', 'Na', 'K']\n",
    "weights = [6.941, 22.98976928, 39.0983]\n",
    "for metal, weight in zip(metals, weights):\n",
    "    print(metal, weight)"
   ]
  },
  {
   "cell_type": "code",
   "execution_count": 178,
   "id": "6a09a689",
   "metadata": {},
   "outputs": [
    {
     "name": "stdout",
     "output_type": "stream",
     "text": [
      "Li 6.941\n",
      "Na 22.98976928\n",
      "K 39.0983\n"
     ]
    }
   ],
   "source": [
    "metals = ['Li', 'Na', 'K', 'H']\n",
    "weights = [6.941, 22.98976928, 39.0983]\n",
    "for metal, weight in zip(metals, weights):\n",
    "    print(metal, weight)"
   ]
  },
  {
   "cell_type": "code",
   "execution_count": 179,
   "id": "0b3bf706",
   "metadata": {},
   "outputs": [
    {
     "ename": "ValueError",
     "evalue": "too many values to unpack (expected 2)",
     "output_type": "error",
     "traceback": [
      "\u001b[1;31m---------------------------------------------------------------------------\u001b[0m",
      "\u001b[1;31mValueError\u001b[0m                                Traceback (most recent call last)",
      "\u001b[1;32m~\\AppData\\Local\\Temp/ipykernel_17232/2252510998.py\u001b[0m in \u001b[0;36m<module>\u001b[1;34m\u001b[0m\n\u001b[1;32m----> 1\u001b[1;33m \u001b[1;32mfor\u001b[0m \u001b[0mmetal\u001b[0m\u001b[1;33m,\u001b[0m \u001b[0mweight\u001b[0m \u001b[1;32min\u001b[0m \u001b[0mmetals\u001b[0m\u001b[1;33m,\u001b[0m \u001b[0mweights\u001b[0m\u001b[1;33m:\u001b[0m\u001b[1;33m\u001b[0m\u001b[1;33m\u001b[0m\u001b[0m\n\u001b[0m\u001b[0;32m      2\u001b[0m     \u001b[0mprint\u001b[0m\u001b[1;33m(\u001b[0m\u001b[0mmetal\u001b[0m\u001b[1;33m,\u001b[0m \u001b[0mweight\u001b[0m\u001b[1;33m)\u001b[0m\u001b[1;33m\u001b[0m\u001b[1;33m\u001b[0m\u001b[0m\n",
      "\u001b[1;31mValueError\u001b[0m: too many values to unpack (expected 2)"
     ]
    }
   ],
   "source": [
    "for metal, weight in metals, weights:\n",
    "    print(metal, weight)"
   ]
  },
  {
   "cell_type": "code",
   "execution_count": 180,
   "id": "d2982598",
   "metadata": {},
   "outputs": [
    {
     "name": "stdout",
     "output_type": "stream",
     "text": [
      "Li 6.941 1\n",
      "Na 22.98976928 2\n",
      "K 39.0983 3\n"
     ]
    }
   ],
   "source": [
    "metals = ['Li', 'Na', 'K',]\n",
    "weights = [6.941, 22.98976928, 39.0983]\n",
    "temp = [1, 2, 3]\n",
    "for metal, weight, t in zip(metals, weights, temp):\n",
    "    print(metal, weight, t)"
   ]
  },
  {
   "cell_type": "code",
   "execution_count": 181,
   "id": "ab8fa593",
   "metadata": {},
   "outputs": [
    {
     "name": "stdout",
     "output_type": "stream",
     "text": [
      "Li\n",
      "Na\n",
      "K\n",
      "F\n",
      "Cl\n",
      "Br\n"
     ]
    }
   ],
   "source": [
    "elements = [['Li', 'Na', 'K'], ['F', 'Cl', 'Br']]\n",
    "for inner_list in elements:\n",
    "    for item in inner_list:\n",
    "        print(item)"
   ]
  },
  {
   "cell_type": "code",
   "execution_count": 183,
   "id": "c1d92b61",
   "metadata": {},
   "outputs": [
    {
     "name": "stdout",
     "output_type": "stream",
     "text": [
      "3\n",
      "3\n",
      "4\n"
     ]
    }
   ],
   "source": [
    "info = [['Isaac Newton', 1643, 1727],\n",
    "    ['Charles Darwin', 1809, 1882],\n",
    "    ['Alan Turing', 1912, 1954, 'alan@bletchley.uk']]\n",
    "for item in info:\n",
    "    print(len(item))"
   ]
  },
  {
   "cell_type": "code",
   "execution_count": 185,
   "id": "558e9d22",
   "metadata": {},
   "outputs": [
    {
     "data": {
      "text/plain": [
       "['abc', 'efg', 'hij']"
      ]
     },
     "execution_count": 185,
     "metadata": {},
     "output_type": "execute_result"
    }
   ],
   "source": [
    "x = 'abc\\tefg\\thij'\n",
    "x.split('\\t')"
   ]
  },
  {
   "cell_type": "code",
   "execution_count": 202,
   "id": "7cd1e720",
   "metadata": {},
   "outputs": [],
   "source": [
    "x = 'Doe, John\\t1234\\tteststring\\nDoe, Jane\\t2244\\tblahblah,,,,\\tblah\\nDoe, John\\t1234\\tteststring'\n"
   ]
  },
  {
   "cell_type": "code",
   "execution_count": 195,
   "id": "4f2c0564",
   "metadata": {},
   "outputs": [
    {
     "data": {
      "text/plain": [
       "'Doe, John\\t1234\\tteststring\\nDoe, Jane\\t2244\\tblahblah,,,,blah'"
      ]
     },
     "execution_count": 195,
     "metadata": {},
     "output_type": "execute_result"
    }
   ],
   "source": [
    "x"
   ]
  },
  {
   "cell_type": "code",
   "execution_count": 196,
   "id": "e974f2b1",
   "metadata": {},
   "outputs": [
    {
     "name": "stdout",
     "output_type": "stream",
     "text": [
      "Doe, John\t1234\tteststring\n",
      "Doe, Jane\t2244\tblahblah,,,,blah\n"
     ]
    }
   ],
   "source": [
    "print(x)"
   ]
  },
  {
   "cell_type": "code",
   "execution_count": 206,
   "id": "6ed08f75",
   "metadata": {},
   "outputs": [
    {
     "data": {
      "text/plain": [
       "[2]"
      ]
     },
     "execution_count": 206,
     "metadata": {},
     "output_type": "execute_result"
    }
   ],
   "source": [
    "bad_lines = []\n",
    "for line_number, line in enumerate(x.split('\\n'), 1):\n",
    "    number_of_columns = len(line.split('\\t'))\n",
    "    if number_of_columns != 3:\n",
    "        bad_lines.append(line_number)\n",
    "        \n",
    "bad_lines"
   ]
  },
  {
   "cell_type": "code",
   "execution_count": 207,
   "id": "17aaabe2",
   "metadata": {},
   "outputs": [
    {
     "data": {
      "text/plain": [
       "'Doe, John\\t1234\\tteststring\\nDoe, Jane\\t2244\\tblahblah,,,,\\tblah\\nDoe, John\\t1234\\tteststring'"
      ]
     },
     "execution_count": 207,
     "metadata": {},
     "output_type": "execute_result"
    }
   ],
   "source": [
    "x"
   ]
  },
  {
   "cell_type": "code",
   "execution_count": 211,
   "id": "ff32eb89",
   "metadata": {},
   "outputs": [],
   "source": [
    "lines = x.split('\\n')"
   ]
  },
  {
   "cell_type": "code",
   "execution_count": 212,
   "id": "d651e137",
   "metadata": {},
   "outputs": [],
   "source": [
    "first = lines[0]"
   ]
  },
  {
   "cell_type": "code",
   "execution_count": 213,
   "id": "5b5b2b7e",
   "metadata": {},
   "outputs": [
    {
     "data": {
      "text/plain": [
       "'Doe, John\\t1234\\tteststring'"
      ]
     },
     "execution_count": 213,
     "metadata": {},
     "output_type": "execute_result"
    }
   ],
   "source": [
    "first"
   ]
  },
  {
   "cell_type": "code",
   "execution_count": 214,
   "id": "b84eb297",
   "metadata": {},
   "outputs": [
    {
     "data": {
      "text/plain": [
       "['Doe, John', '1234', 'teststring']"
      ]
     },
     "execution_count": 214,
     "metadata": {},
     "output_type": "execute_result"
    }
   ],
   "source": [
    "first.split('\\t')"
   ]
  },
  {
   "cell_type": "code",
   "execution_count": 215,
   "id": "a33f1e8e",
   "metadata": {},
   "outputs": [
    {
     "data": {
      "text/plain": [
       "['Doe, John\\t1234\\tteststring',\n",
       " 'Doe, Jane\\t2244\\tblahblah,,,,\\tblah',\n",
       " 'Doe, John\\t1234\\tteststring']"
      ]
     },
     "execution_count": 215,
     "metadata": {},
     "output_type": "execute_result"
    }
   ],
   "source": [
    "lines"
   ]
  },
  {
   "cell_type": "code",
   "execution_count": 216,
   "id": "970ec726",
   "metadata": {},
   "outputs": [
    {
     "name": "stdout",
     "output_type": "stream",
     "text": [
      "1\n",
      "Doe, John\t1234\tteststring\n",
      "2\n",
      "Doe, Jane\t2244\tblahblah,,,,\tblah\n",
      "3\n",
      "Doe, John\t1234\tteststring\n"
     ]
    },
    {
     "data": {
      "text/plain": [
       "[2]"
      ]
     },
     "execution_count": 216,
     "metadata": {},
     "output_type": "execute_result"
    }
   ],
   "source": [
    "bad_lines = []\n",
    "for line_number, line in enumerate(x.split('\\n'), 1):\n",
    "    print(line_number)\n",
    "    print(line)\n",
    "    number_of_columns = len(line.split('\\t'))\n",
    "    if number_of_columns != 3:\n",
    "        bad_lines.append(line_number)\n",
    "        \n",
    "bad_lines"
   ]
  },
  {
   "cell_type": "code",
   "execution_count": 217,
   "id": "d5238a5b",
   "metadata": {},
   "outputs": [
    {
     "data": {
      "text/plain": [
       "True"
      ]
     },
     "execution_count": 217,
     "metadata": {},
     "output_type": "execute_result"
    }
   ],
   "source": [
    "x = [1, 2, 3]\n",
    "2 in x"
   ]
  },
  {
   "cell_type": "code",
   "execution_count": 218,
   "id": "0ae48423",
   "metadata": {},
   "outputs": [
    {
     "data": {
      "text/plain": [
       "[1, 2, 3, 4, 5, 19]"
      ]
     },
     "execution_count": 218,
     "metadata": {},
     "output_type": "execute_result"
    }
   ],
   "source": [
    "def remove_duplicate(input_list):\n",
    "    output_list = []\n",
    "    for value in input_list:\n",
    "        if value not in output_list:\n",
    "            output_list.append(value)\n",
    "            \n",
    "    return output_list\n",
    "    \n",
    "remove_duplicate([1, 2, 2, 3, 4, 4, 1, 5, 19])"
   ]
  },
  {
   "cell_type": "code",
   "execution_count": null,
   "id": "58309e42",
   "metadata": {},
   "outputs": [],
   "source": [
    "with open(filename, 'r') as file:\n",
    "    for line in file:\n",
    "        if not line.strip(): # used for skipping empty lines!\n",
    "            continue\n",
    "        # do something with line"
   ]
  },
  {
   "cell_type": "code",
   "execution_count": 219,
   "id": "113b0efd",
   "metadata": {},
   "outputs": [
    {
     "data": {
      "text/plain": [
       "''"
      ]
     },
     "execution_count": 219,
     "metadata": {},
     "output_type": "execute_result"
    }
   ],
   "source": [
    "x = '                         '\n",
    "x.strip()"
   ]
  },
  {
   "cell_type": "code",
   "execution_count": 223,
   "id": "37991571",
   "metadata": {},
   "outputs": [
    {
     "name": "stdout",
     "output_type": "stream",
     "text": [
      "78.8\n"
     ]
    }
   ],
   "source": [
    "filename = 'for_ex7_data1.txt'\n",
    "with open(filename, 'r') as file:\n",
    "    count = 0\n",
    "    total = 0\n",
    "    for line in file:\n",
    "        total += float(line)\n",
    "        count += 1\n",
    "        \n",
    "print(total/count)\n",
    "        \n",
    "        \n",
    "        "
   ]
  },
  {
   "cell_type": "code",
   "execution_count": 226,
   "id": "bdecb1cc",
   "metadata": {},
   "outputs": [
    {
     "name": "stdout",
     "output_type": "stream",
     "text": [
      "64.42857142857143\n"
     ]
    }
   ],
   "source": [
    "filename = 'for_ex7_data2.txt'\n",
    "with open(filename, 'r') as file:\n",
    "    count = 0\n",
    "    total = 0\n",
    "    for line in file:\n",
    "        if not line.strip(): # used for skipping empty lines!\n",
    "            continue\n",
    "        total += float(line)\n",
    "        count += 1\n",
    "        \n",
    "print(total/count)"
   ]
  },
  {
   "cell_type": "code",
   "execution_count": 227,
   "id": "8d470429",
   "metadata": {},
   "outputs": [
    {
     "ename": "ValueError",
     "evalue": "could not convert string to float: '99.o\\n'",
     "output_type": "error",
     "traceback": [
      "\u001b[1;31m---------------------------------------------------------------------------\u001b[0m",
      "\u001b[1;31mValueError\u001b[0m                                Traceback (most recent call last)",
      "\u001b[1;32m~\\AppData\\Local\\Temp/ipykernel_17232/1590709954.py\u001b[0m in \u001b[0;36m<module>\u001b[1;34m\u001b[0m\n\u001b[0;32m      6\u001b[0m         \u001b[1;32mif\u001b[0m \u001b[1;32mnot\u001b[0m \u001b[0mline\u001b[0m\u001b[1;33m.\u001b[0m\u001b[0mstrip\u001b[0m\u001b[1;33m(\u001b[0m\u001b[1;33m)\u001b[0m\u001b[1;33m:\u001b[0m \u001b[1;31m# used for skipping empty lines!\u001b[0m\u001b[1;33m\u001b[0m\u001b[1;33m\u001b[0m\u001b[0m\n\u001b[0;32m      7\u001b[0m             \u001b[1;32mcontinue\u001b[0m\u001b[1;33m\u001b[0m\u001b[1;33m\u001b[0m\u001b[0m\n\u001b[1;32m----> 8\u001b[1;33m         \u001b[0mtotal\u001b[0m \u001b[1;33m+=\u001b[0m \u001b[0mfloat\u001b[0m\u001b[1;33m(\u001b[0m\u001b[0mline\u001b[0m\u001b[1;33m)\u001b[0m\u001b[1;33m\u001b[0m\u001b[1;33m\u001b[0m\u001b[0m\n\u001b[0m\u001b[0;32m      9\u001b[0m         \u001b[0mcount\u001b[0m \u001b[1;33m+=\u001b[0m \u001b[1;36m1\u001b[0m\u001b[1;33m\u001b[0m\u001b[1;33m\u001b[0m\u001b[0m\n\u001b[0;32m     10\u001b[0m \u001b[1;33m\u001b[0m\u001b[0m\n",
      "\u001b[1;31mValueError\u001b[0m: could not convert string to float: '99.o\\n'"
     ]
    }
   ],
   "source": [
    "filename = 'for_ex7_data3.txt'\n",
    "with open(filename, 'r') as file:\n",
    "    count = 0\n",
    "    total = 0\n",
    "    for line in file:\n",
    "        if not line.strip(): # used for skipping empty lines!\n",
    "            continue\n",
    "        total += float(line)\n",
    "        count += 1\n",
    "        \n",
    "print(total/count)"
   ]
  },
  {
   "cell_type": "code",
   "execution_count": 228,
   "id": "d7ef34f1",
   "metadata": {},
   "outputs": [
    {
     "ename": "ValueError",
     "evalue": "could not convert string to float: '99.o\\n'",
     "output_type": "error",
     "traceback": [
      "\u001b[1;31m---------------------------------------------------------------------------\u001b[0m",
      "\u001b[1;31mValueError\u001b[0m                                Traceback (most recent call last)",
      "\u001b[1;32m~\\AppData\\Local\\Temp/ipykernel_17232/2762101355.py\u001b[0m in \u001b[0;36m<module>\u001b[1;34m\u001b[0m\n\u001b[0;32m      1\u001b[0m \u001b[0mx\u001b[0m \u001b[1;33m=\u001b[0m \u001b[1;34m'99.o\\n'\u001b[0m\u001b[1;33m\u001b[0m\u001b[1;33m\u001b[0m\u001b[0m\n\u001b[0;32m      2\u001b[0m \u001b[1;33m\u001b[0m\u001b[0m\n\u001b[1;32m----> 3\u001b[1;33m \u001b[0mfloat\u001b[0m\u001b[1;33m(\u001b[0m\u001b[0mx\u001b[0m\u001b[1;33m)\u001b[0m\u001b[1;33m\u001b[0m\u001b[1;33m\u001b[0m\u001b[0m\n\u001b[0m",
      "\u001b[1;31mValueError\u001b[0m: could not convert string to float: '99.o\\n'"
     ]
    }
   ],
   "source": [
    "x = '99.o\\n'\n",
    "\n",
    "float(x)"
   ]
  },
  {
   "cell_type": "code",
   "execution_count": 229,
   "id": "ed830136",
   "metadata": {},
   "outputs": [
    {
     "data": {
      "text/plain": [
       "False"
      ]
     },
     "execution_count": 229,
     "metadata": {},
     "output_type": "execute_result"
    }
   ],
   "source": [
    "x.isnumeric()"
   ]
  },
  {
   "cell_type": "code",
   "execution_count": 231,
   "id": "ddcb6d30",
   "metadata": {},
   "outputs": [
    {
     "data": {
      "text/plain": [
       "True"
      ]
     },
     "execution_count": 231,
     "metadata": {},
     "output_type": "execute_result"
    }
   ],
   "source": [
    "y = '3\\n'\n",
    "y.strip().isnumeric()"
   ]
  },
  {
   "cell_type": "code",
   "execution_count": 235,
   "id": "daccfa2f",
   "metadata": {},
   "outputs": [
    {
     "data": {
      "text/plain": [
       "False"
      ]
     },
     "execution_count": 235,
     "metadata": {},
     "output_type": "execute_result"
    }
   ],
   "source": [
    "z = '3.14\\t'\n",
    "z.strip().isdigit()"
   ]
  },
  {
   "cell_type": "code",
   "execution_count": 233,
   "id": "a24c14c3",
   "metadata": {},
   "outputs": [
    {
     "data": {
      "text/plain": [
       "'3.14'"
      ]
     },
     "execution_count": 233,
     "metadata": {},
     "output_type": "execute_result"
    }
   ],
   "source": [
    "z.strip()"
   ]
  },
  {
   "cell_type": "code",
   "execution_count": 238,
   "id": "c2cc7679",
   "metadata": {},
   "outputs": [
    {
     "name": "stdout",
     "output_type": "stream",
     "text": [
      "75.43\n"
     ]
    }
   ],
   "source": [
    "filename = 'for_ex7_data3.txt'\n",
    "with open(filename, 'r') as file:\n",
    "    count = 0\n",
    "    total = 0\n",
    "    for line in file:\n",
    "        if not line.strip(): # used for skipping empty lines!\n",
    "            continue\n",
    "            \n",
    "        try:\n",
    "            value = float(line)\n",
    "        except:\n",
    "            continue\n",
    "        \n",
    "        total += float(value)\n",
    "        count += 1\n",
    "        \n",
    "print(total/count)"
   ]
  },
  {
   "cell_type": "code",
   "execution_count": 4,
   "id": "39487e56",
   "metadata": {},
   "outputs": [
    {
     "name": "stdout",
     "output_type": "stream",
     "text": [
      "2\n",
      "2\n",
      "5\n",
      "3\n",
      "6\n"
     ]
    }
   ],
   "source": [
    "import random\n",
    "random.seed(503)\n",
    "for _ in range(5):\n",
    "    print(random.randint(0,10))"
   ]
  },
  {
   "cell_type": "code",
   "execution_count": 7,
   "id": "54cb54b2",
   "metadata": {},
   "outputs": [
    {
     "name": "stdout",
     "output_type": "stream",
     "text": [
      "80\n",
      "\n"
     ]
    }
   ],
   "source": [
    "with open('for_ex7_data1.txt') as file:\n",
    "    for line in file:\n",
    "        print(line)"
   ]
  },
  {
   "cell_type": "code",
   "execution_count": 8,
   "id": "9af78c1b",
   "metadata": {},
   "outputs": [
    {
     "data": {
      "text/plain": [
       "'80\\n'"
      ]
     },
     "execution_count": 8,
     "metadata": {},
     "output_type": "execute_result"
    }
   ],
   "source": [
    "line"
   ]
  },
  {
   "cell_type": "code",
   "execution_count": null,
   "id": "60801077",
   "metadata": {},
   "outputs": [],
   "source": []
  }
 ],
 "metadata": {
  "kernelspec": {
   "display_name": "Python 3 (ipykernel)",
   "language": "python",
   "name": "python3"
  },
  "language_info": {
   "codemirror_mode": {
    "name": "ipython",
    "version": 3
   },
   "file_extension": ".py",
   "mimetype": "text/x-python",
   "name": "python",
   "nbconvert_exporter": "python",
   "pygments_lexer": "ipython3",
   "version": "3.8.12"
  }
 },
 "nbformat": 4,
 "nbformat_minor": 5
}
